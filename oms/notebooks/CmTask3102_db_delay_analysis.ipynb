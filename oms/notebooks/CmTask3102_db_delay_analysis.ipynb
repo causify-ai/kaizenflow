{
 "cells": [
  {
   "cell_type": "code",
   "execution_count": null,
   "id": "578a31a0",
   "metadata": {},
   "outputs": [],
   "source": [
    "%load_ext autoreload\n",
    "%autoreload 2\n",
    "%matplotlib inline"
   ]
  },
  {
   "cell_type": "code",
   "execution_count": null,
   "id": "5d2a3739",
   "metadata": {},
   "outputs": [],
   "source": [
    "import logging\n",
    "\n",
    "import pandas as pd\n",
    "\n",
    "import helpers.hdbg as hdbg\n",
    "import helpers.henv as henv\n",
    "import helpers.hpandas as hpandas\n",
    "import helpers.hprint as hprint\n",
    "import helpers.hsql as hsql\n",
    "import im_v2.ccxt.data.client as icdcl\n",
    "import im_v2.common.universe as ivcu\n",
    "import im_v2.im_lib_tasks as imvimlita"
   ]
  },
  {
   "cell_type": "code",
   "execution_count": null,
   "id": "45712e5c",
   "metadata": {},
   "outputs": [],
   "source": [
    "hdbg.init_logger(verbosity=logging.INFO)\n",
    "\n",
    "_LOG = logging.getLogger(__name__)\n",
    "\n",
    "_LOG.info(\"%s\", henv.get_system_signature()[0])\n",
    "\n",
    "hprint.config_notebook()"
   ]
  },
  {
   "cell_type": "markdown",
   "id": "a4279525",
   "metadata": {},
   "source": [
    "# Data delay analysis"
   ]
  },
  {
   "cell_type": "code",
   "execution_count": null,
   "id": "4071f346",
   "metadata": {},
   "outputs": [],
   "source": [
    "# Get the real-time `ImClient`.\n",
    "# TODO(Grisha): ideally we should get the values from the config.\n",
    "resample_1min = False\n",
    "env_file = imvimlita.get_db_env_path(\"dev\")\n",
    "connection_params = hsql.get_connection_info_from_env_file(env_file)\n",
    "db_connection = hsql.get_connection(*connection_params)\n",
    "table_name = \"ccxt_ohlcv_futures\"\n",
    "#\n",
    "im_client = icdcl.CcxtSqlRealTimeImClient(\n",
    "    resample_1min, db_connection, table_name\n",
    ")"
   ]
  },
  {
   "cell_type": "code",
   "execution_count": null,
   "id": "39d82d85",
   "metadata": {},
   "outputs": [],
   "source": [
    "# Get the universe.\n",
    "# TODO(Grisha): get the version from the config.\n",
    "vendor = \"CCXT\"\n",
    "mode = \"trade\"\n",
    "version = \"v7.1\"\n",
    "as_full_symbol = True\n",
    "full_symbols = ivcu.get_vendor_universe(\n",
    "    vendor,\n",
    "    mode,\n",
    "    version=version,\n",
    "    as_full_symbol=as_full_symbol,\n",
    ")\n",
    "full_symbols"
   ]
  },
  {
   "cell_type": "code",
   "execution_count": null,
   "id": "1c8125e5",
   "metadata": {},
   "outputs": [],
   "source": [
    "# Load the data for the reconciliation date.\n",
    "# `ImClient` operates in UTC timezone.\n",
    "# TODO(Grisha): ideally we should get the values from the config.\n",
    "date_str = \"2022-10-28\"\n",
    "start_ts = pd.Timestamp(date_str, tz=\"UTC\")\n",
    "end_ts = start_ts + pd.Timedelta(days=1)\n",
    "columns = None\n",
    "filter_data_mode = \"assert\"\n",
    "df = im_client.read_data(\n",
    "    full_symbols, start_ts, end_ts, columns, filter_data_mode\n",
    ")\n",
    "hpandas.df_to_str(df, num_rows=5, log_level=logging.INFO)"
   ]
  },
  {
   "cell_type": "code",
   "execution_count": null,
   "id": "a40b7347",
   "metadata": {},
   "outputs": [],
   "source": [
    "# TODO(Grisha): move to a lib.\n",
    "# Compute delay in seconds.\n",
    "df[\"delta\"] = (df[\"knowledge_timestamp\"] - df.index).dt.total_seconds()\n",
    "# Plot the delay over assets with the errors bars.\n",
    "delta_per_asset = df.groupby(by=[\"full_symbol\"])[\"delta\"]\n",
    "minimums = delta_per_asset.min()\n",
    "maximums = delta_per_asset.max()\n",
    "means = delta_per_asset.mean()\n",
    "errors = [means - minimums, maximums - means]\n",
    "# TODO(Grisha): sort by maximum delay.\n",
    "means.plot(kind=\"bar\", yerr=errors, title=\"DB delay in seconds per asset\")"
   ]
  },
  {
   "cell_type": "code",
   "execution_count": null,
   "id": "c77f7bc0",
   "metadata": {},
   "outputs": [],
   "source": []
  }
 ],
 "metadata": {
  "kernelspec": {
   "display_name": "Python 3 (ipykernel)",
   "language": "python",
   "name": "python3"
  },
  "language_info": {
   "codemirror_mode": {
    "name": "ipython",
    "version": 3
   },
   "file_extension": ".py",
   "mimetype": "text/x-python",
   "name": "python",
   "nbconvert_exporter": "python",
   "pygments_lexer": "ipython3"
  },
  "toc": {
   "base_numbering": 1,
   "nav_menu": {},
   "number_sections": true,
   "sideBar": true,
   "skip_h1_title": false,
   "title_cell": "Table of Contents",
   "title_sidebar": "Contents",
   "toc_cell": false,
   "toc_position": {},
   "toc_section_display": true,
   "toc_window_display": false
  }
 },
 "nbformat": 4,
 "nbformat_minor": 5
}
