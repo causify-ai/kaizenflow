{
 "cells": [
  {
   "cell_type": "markdown",
   "id": "1c87939f",
   "metadata": {},
   "source": [
    "# Description\n",
    "\n",
    "Analyze trading execution quality."
   ]
  },
  {
   "cell_type": "code",
   "execution_count": null,
   "id": "f6fbe320",
   "metadata": {
    "run_control": {
     "marked": true
    }
   },
   "outputs": [],
   "source": [
    "%load_ext autoreload\n",
    "%autoreload 2\n",
    "import logging\n",
    "\n",
    "import numpy as np\n",
    "import pandas as pd\n",
    "\n",
    "import core.config as cconfig\n",
    "import core.finance as cofinanc\n",
    "import core.finance.target_position_df_processing as cftpdp\n",
    "import core.plotting as coplotti\n",
    "import core.plotting.execution_stats as cplexsta\n",
    "import core.statistics as costatis\n",
    "import dataflow_amp.system.Cx as dtfamsysc\n",
    "import helpers.hdbg as hdbg\n",
    "import helpers.henv as henv\n",
    "import helpers.hpandas as hpandas\n",
    "import helpers.hprint as hprint\n",
    "import im_v2.common.universe as ivcu\n",
    "import oms.broker.ccxt.ccxt_aggregation_functions as obccagfu\n",
    "import oms.broker.ccxt.ccxt_execution_quality as obccexqu\n",
    "import oms.broker.ccxt.ccxt_logger as obcccclo\n",
    "import oms.child_order_quantity_computer.child_order_quantity_computer_instances as ocoqccoqci\n",
    "import oms.order.order_converter as oororcon\n",
    "import reconciliation.sim_prod_reconciliation as rsiprrec"
   ]
  },
  {
   "cell_type": "code",
   "execution_count": null,
   "id": "b0357a7b",
   "metadata": {},
   "outputs": [],
   "source": [
    "hdbg.init_logger(verbosity=logging.INFO)\n",
    "\n",
    "_LOG = logging.getLogger(__name__)\n",
    "\n",
    "_LOG.info(\"%s\", henv.get_system_signature()[0])\n",
    "\n",
    "hprint.config_notebook()"
   ]
  },
  {
   "cell_type": "markdown",
   "id": "6af85c80",
   "metadata": {},
   "source": [
    "# Config"
   ]
  },
  {
   "cell_type": "code",
   "execution_count": null,
   "id": "5023466c",
   "metadata": {},
   "outputs": [],
   "source": [
    "# When running manually, specify the path to the config to load config from file,\n",
    "# for e.g., `.../reconciliation_notebook/fast/result_0/config.pkl`.\n",
    "config_file_name = None\n",
    "config = cconfig.get_notebook_config(config_file_name)\n",
    "if config is None:\n",
    "    system_log_dir = \"/shared_data/ecs/test/system_reconciliation/C12a/prod/20240219_150900.20240219_160600/system_log_dir.manual/process_forecasts\"\n",
    "    id_col = \"asset_id\"\n",
    "    price_col = \"close\"\n",
    "    universe_version = \"v7.5\"\n",
    "    vendor = \"CCXT\"\n",
    "    mode = \"trade\"\n",
    "    test_asset_id = 1464553467\n",
    "    bar_duration = \"3T\"\n",
    "    child_order_execution_freq = \"60S\"\n",
    "    use_historical = True\n",
    "    system_config_dir = system_log_dir.rstrip(\"/process_forecasts\")\n",
    "    table_name = rsiprrec.extract_table_name_from_pkl_config(system_config_dir)\n",
    "    config_dict = {\n",
    "        \"meta\": {\n",
    "            \"id_col\": id_col,\n",
    "            \"price_col\": price_col,\n",
    "            \"use_historical\": use_historical,\n",
    "        },\n",
    "        \"system_log_dir\": system_log_dir,\n",
    "        \"market_data\": {\n",
    "            \"vendor\": vendor,\n",
    "            \"mode\": mode,\n",
    "            \"universe\": {\n",
    "                \"universe_version\": universe_version,\n",
    "                \"test_asset_id\": test_asset_id,\n",
    "            },\n",
    "            \"im_client_config\": {\"table_name\": table_name},\n",
    "        },\n",
    "        \"execution_parameters\": {\n",
    "            \"bar_duration\": bar_duration,\n",
    "            \"execution_freq\": child_order_execution_freq,\n",
    "        },\n",
    "    }\n",
    "    config = cconfig.Config.from_dict(config_dict)\n",
    "print(config)"
   ]
  },
  {
   "cell_type": "code",
   "execution_count": null,
   "id": "5e97867f",
   "metadata": {
    "lines_to_next_cell": 2,
    "run_control": {
     "marked": true
    }
   },
   "outputs": [],
   "source": [
    "# Init the log reader.\n",
    "log_dir = config.get_and_mark_as_used((\"system_log_dir\",))\n",
    "ccxt_log_reader = obcccclo.CcxtLogger(log_dir)"
   ]
  },
  {
   "cell_type": "code",
   "execution_count": null,
   "id": "41659f5d",
   "metadata": {},
   "outputs": [],
   "source": [
    "# Print the Broker config.\n",
    "try:\n",
    "    broker_config = ccxt_log_reader.load_broker_config(abort_on_missing_data=True)\n",
    "    print(hprint.to_pretty_str(broker_config))\n",
    "    scheduler_type = broker_config[\"child_order_quantity_computer\"][\"object_type\"]\n",
    "except FileNotFoundError:\n",
    "    _LOG.warning(\n",
    "        \"broker_config file not present in %s, assuming Dynamic Scheduling\",\n",
    "        log_dir,\n",
    "    )\n",
    "    scheduler_type = \"DynamicSchedulingChildOrderQuantityComputer\""
   ]
  },
  {
   "cell_type": "code",
   "execution_count": null,
   "id": "619d1fe4",
   "metadata": {},
   "outputs": [],
   "source": [
    "# Print the used Config, if any.\n",
    "experiment_config = obcccclo.load_config_for_execution_analysis(log_dir)\n",
    "if experiment_config:\n",
    "    print(experiment_config)"
   ]
  },
  {
   "cell_type": "code",
   "execution_count": null,
   "id": "e8258592",
   "metadata": {},
   "outputs": [],
   "source": [
    "# Get the test asset ID from the config.\n",
    "test_asset_id = config.get_and_mark_as_used(\n",
    "    (\"market_data\", \"universe\", \"test_asset_id\")\n",
    ")\n",
    "id_col = config.get_and_mark_as_used((\"meta\", \"id_col\"))\n",
    "price_col = config.get_and_mark_as_used((\"meta\", \"price_col\"))"
   ]
  },
  {
   "cell_type": "code",
   "execution_count": null,
   "id": "3ea5cd5a",
   "metadata": {},
   "outputs": [],
   "source": [
    "bar_duration = config.get_and_mark_as_used(\n",
    "    (\"execution_parameters\", \"bar_duration\")\n",
    ")\n",
    "exec_freq = config.get_and_mark_as_used(\n",
    "    (\"execution_parameters\", \"execution_freq\")\n",
    ")\n",
    "# Initialize scheduler according to it's type.\n",
    "scheduler = ocoqccoqci.get_child_order_quantity_computer_instance1(scheduler_type)\n",
    "# Get the range of expected number of child orders.\n",
    "range_filter = scheduler.get_range_filter(bar_duration, exec_freq)"
   ]
  },
  {
   "cell_type": "markdown",
   "id": "91d1d87b",
   "metadata": {},
   "source": [
    "# Load and aggregate data"
   ]
  },
  {
   "cell_type": "markdown",
   "id": "2db68646",
   "metadata": {},
   "source": [
    "## Load CCXT data"
   ]
  },
  {
   "cell_type": "code",
   "execution_count": null,
   "id": "7864d0a0",
   "metadata": {},
   "outputs": [],
   "source": [
    "data = ccxt_log_reader.load_all_data(\n",
    "    convert_to_dataframe=True, abort_on_missing_data=False\n",
    ")"
   ]
  },
  {
   "cell_type": "markdown",
   "id": "64cfe575",
   "metadata": {},
   "source": [
    "### Order responses"
   ]
  },
  {
   "cell_type": "code",
   "execution_count": null,
   "id": "71ac1410",
   "metadata": {},
   "outputs": [],
   "source": [
    "ccxt_order_response_df = data[\"ccxt_order_responses\"]\n",
    "ccxt_order_response_df.head(3)"
   ]
  },
  {
   "cell_type": "code",
   "execution_count": null,
   "id": "4bf748ee",
   "metadata": {},
   "outputs": [],
   "source": [
    "ccxt_order_response_df.loc[1][\"info\"]"
   ]
  },
  {
   "cell_type": "code",
   "execution_count": null,
   "id": "3763ad34",
   "metadata": {},
   "outputs": [],
   "source": [
    "ccxt_order_response_df.info()"
   ]
  },
  {
   "cell_type": "markdown",
   "id": "fea27f88",
   "metadata": {},
   "source": [
    "### OMS child orders"
   ]
  },
  {
   "cell_type": "code",
   "execution_count": null,
   "id": "a8c9544f",
   "metadata": {},
   "outputs": [],
   "source": [
    "child_order_df = data[\"oms_child_orders\"]\n",
    "# TODO: group by asset, agg by mean total_vol_to_spread_bps, chart.\n",
    "child_order_df.head(3)"
   ]
  },
  {
   "cell_type": "code",
   "execution_count": null,
   "id": "6eda1959",
   "metadata": {},
   "outputs": [],
   "source": [
    "child_order_df.info()"
   ]
  },
  {
   "cell_type": "markdown",
   "id": "49ee5ad7",
   "metadata": {},
   "source": [
    "### CCXT fills (trades)"
   ]
  },
  {
   "cell_type": "code",
   "execution_count": null,
   "id": "cb9a02d8",
   "metadata": {},
   "outputs": [],
   "source": [
    "fills_df = data[\"ccxt_trades\"]\n",
    "# Annotate fills with child order wave ID.\n",
    "fills_df = obccexqu.annotate_fills_df_with_wave_id(fills_df, child_order_df)\n",
    "fills_df.head(3)"
   ]
  },
  {
   "cell_type": "code",
   "execution_count": null,
   "id": "073ba48a",
   "metadata": {},
   "outputs": [],
   "source": [
    "fills_df.info()"
   ]
  },
  {
   "cell_type": "markdown",
   "id": "1d0572bf",
   "metadata": {},
   "source": [
    "### OMS parent orders"
   ]
  },
  {
   "cell_type": "code",
   "execution_count": null,
   "id": "78c09e6b",
   "metadata": {},
   "outputs": [],
   "source": [
    "parent_order_df = data[\"oms_parent_orders\"]\n",
    "parent_order_df.head(3)"
   ]
  },
  {
   "cell_type": "code",
   "execution_count": null,
   "id": "5dc877da",
   "metadata": {},
   "outputs": [],
   "source": [
    "parent_order_df.info()"
   ]
  },
  {
   "cell_type": "markdown",
   "id": "c7f8a2cf",
   "metadata": {},
   "source": [
    "### CCXT fills"
   ]
  },
  {
   "cell_type": "code",
   "execution_count": null,
   "id": "91bbcc3f",
   "metadata": {},
   "outputs": [],
   "source": [
    "ccxt_fills = data[\"ccxt_fills\"]\n",
    "ccxt_fills.head(3)"
   ]
  },
  {
   "cell_type": "code",
   "execution_count": null,
   "id": "e79d8bea",
   "metadata": {},
   "outputs": [],
   "source": [
    "ccxt_fills.info()"
   ]
  },
  {
   "cell_type": "code",
   "execution_count": null,
   "id": "32f172e8",
   "metadata": {},
   "outputs": [],
   "source": [
    "# Check if `test_asset_id` is present\n",
    "# If the `test_asset_id` is not present, choose the first traded asset.\n",
    "traded_asset_ids = sorted(set(child_order_df[\"asset_id\"]))\n",
    "if test_asset_id not in traded_asset_ids:\n",
    "    test_asset_id = traded_asset_ids[0]\n",
    "_LOG.info(\"test_asset_id=%s\", test_asset_id)"
   ]
  },
  {
   "cell_type": "markdown",
   "id": "4195f26e",
   "metadata": {},
   "source": [
    "## Aggregate CCXT Data"
   ]
  },
  {
   "cell_type": "code",
   "execution_count": null,
   "id": "5aa2c95f",
   "metadata": {},
   "outputs": [],
   "source": [
    "bar_duration = config.get_and_mark_as_used(\n",
    "    (\"execution_parameters\", \"bar_duration\")\n",
    ")\n",
    "# TODO(Paul): Look into adding tqdm.\n",
    "# Aggregate order responses by bar.\n",
    "bar_ccxt_order_aggregation = obccagfu.aggregate_ccxt_orders_by_bar(\n",
    "    ccxt_order_response_df, bar_duration\n",
    ")\n",
    "# Aggregate fills by order.\n",
    "ccxt_order_fills = obccagfu.aggregate_fills_by_order(fills_df)\n",
    "# Aggregate fills by bar.\n",
    "bar_fills = obccagfu.aggregate_fills_by_bar(\n",
    "    fills_df, bar_duration, groupby_id_col=id_col\n",
    ")\n",
    "# Aggregate buy/sell trade prices by bar.\n",
    "trade_prices = obccagfu.compute_buy_sell_prices_by_bar(\n",
    "    fills_df, bar_duration, groupby_id_col=id_col\n",
    ")\n",
    "# Aggregate OMS child orders.\n",
    "bar_child_order_aggregation = obccagfu.aggregate_child_limit_orders_by_bar(\n",
    "    child_order_df, bar_duration\n",
    ")"
   ]
  },
  {
   "cell_type": "code",
   "execution_count": null,
   "id": "47d7dc76",
   "metadata": {},
   "outputs": [],
   "source": [
    "bar_ccxt_order_aggregation.head(3)"
   ]
  },
  {
   "cell_type": "code",
   "execution_count": null,
   "id": "8936144f",
   "metadata": {},
   "outputs": [],
   "source": [
    "ccxt_order_fills.head(3)"
   ]
  },
  {
   "cell_type": "code",
   "execution_count": null,
   "id": "e170191f",
   "metadata": {},
   "outputs": [],
   "source": [
    "bar_fills.head(3)"
   ]
  },
  {
   "cell_type": "code",
   "execution_count": null,
   "id": "a3f14b6a",
   "metadata": {},
   "outputs": [],
   "source": [
    "trade_prices.head(3)"
   ]
  },
  {
   "cell_type": "code",
   "execution_count": null,
   "id": "3e8a84d9",
   "metadata": {},
   "outputs": [],
   "source": [
    "bar_child_order_aggregation.head(3)"
   ]
  },
  {
   "cell_type": "code",
   "execution_count": null,
   "id": "e488a702",
   "metadata": {},
   "outputs": [],
   "source": [
    "cofinanc.get_asset_slice(bar_ccxt_order_aggregation, test_asset_id)"
   ]
  },
  {
   "cell_type": "markdown",
   "id": "fabf69b7",
   "metadata": {},
   "source": [
    "### Align CCXT orders and fills"
   ]
  },
  {
   "cell_type": "code",
   "execution_count": null,
   "id": "e1090bcb",
   "metadata": {},
   "outputs": [],
   "source": [
    "# Get filled and unfilled CCXT orders.\n",
    "filled_ccxt_orders, unfilled_ccxt_orders = obccexqu.align_ccxt_orders_and_fills(\n",
    "    ccxt_order_response_df, fills_df\n",
    ")"
   ]
  },
  {
   "cell_type": "code",
   "execution_count": null,
   "id": "80ddb5f1",
   "metadata": {},
   "outputs": [],
   "source": [
    "filled_ccxt_orders.head(3)"
   ]
  },
  {
   "cell_type": "code",
   "execution_count": null,
   "id": "6ac48014",
   "metadata": {},
   "outputs": [],
   "source": [
    "unfilled_ccxt_orders.head(3)"
   ]
  },
  {
   "cell_type": "markdown",
   "id": "1b04b4a7",
   "metadata": {},
   "source": [
    "## Load OHLCV data"
   ]
  },
  {
   "cell_type": "code",
   "execution_count": null,
   "id": "c550e625",
   "metadata": {},
   "outputs": [],
   "source": [
    "# TODO(Paul): Refine the cuts around the first and last bars.\n",
    "start_timestamp = bar_fills[\"first_datetime\"].min() - pd.Timedelta(bar_duration)\n",
    "_LOG.info(\"start_timestamp=%s\", start_timestamp)\n",
    "end_timestamp = bar_fills[\"last_datetime\"].max() + pd.Timedelta(bar_duration)\n",
    "_LOG.info(\"end_timestamp=%s\", end_timestamp)"
   ]
  },
  {
   "cell_type": "code",
   "execution_count": null,
   "id": "28dda898",
   "metadata": {},
   "outputs": [],
   "source": [
    "universe_version = config.get_and_mark_as_used(\n",
    "    (\"market_data\", \"universe\", \"universe_version\")\n",
    ")\n",
    "vendor = config.get_and_mark_as_used(\n",
    "    (\n",
    "        \"market_data\",\n",
    "        \"vendor\",\n",
    "    )\n",
    ")\n",
    "mode = config.get_and_mark_as_used(\n",
    "    (\n",
    "        \"market_data\",\n",
    "        \"mode\",\n",
    "    )\n",
    ")\n",
    "table_name = config.get_and_mark_as_used(\n",
    "    (\n",
    "        \"market_data\",\n",
    "        \"im_client_config\",\n",
    "        \"table_name\",\n",
    "    )\n",
    ")\n",
    "# Get asset ids.\n",
    "asset_ids = ivcu.get_vendor_universe_as_asset_ids(universe_version, vendor, mode)\n",
    "# Get prod `MarketData`.\n",
    "db_stage = \"preprod\"\n",
    "market_data = dtfamsysc.get_Cx_RealTimeMarketData_prod_instance1(\n",
    "    asset_ids, db_stage, table_name=table_name\n",
    ")\n",
    "# Load and resample OHLCV data.\n",
    "ohlcv_bars = dtfamsysc.load_and_resample_ohlcv_data(\n",
    "    market_data,\n",
    "    start_timestamp,\n",
    "    end_timestamp,\n",
    "    bar_duration,\n",
    ")\n",
    "hpandas.df_to_str(ohlcv_bars, num_rows=5, log_level=logging.INFO)"
   ]
  },
  {
   "cell_type": "markdown",
   "id": "58e76422",
   "metadata": {},
   "source": [
    "## Load exchange tick sizes by asset id"
   ]
  },
  {
   "cell_type": "code",
   "execution_count": null,
   "id": "83229c42",
   "metadata": {},
   "outputs": [],
   "source": [
    "# Create a mapping between binance full symbol and asset_id.\n",
    "binance_full_symbol_to_asset_id_mapping = dict(\n",
    "    zip(fills_df.symbol, fills_df.asset_id)\n",
    ")\n",
    "# Load exchange markets and restrict to assets traded.\n",
    "exchange_markets = data[\"exchange_markets\"].loc[\n",
    "    binance_full_symbol_to_asset_id_mapping.keys()\n",
    "]\n",
    "exchange_markets.head(3)"
   ]
  },
  {
   "cell_type": "code",
   "execution_count": null,
   "id": "9f2d2f77",
   "metadata": {},
   "outputs": [],
   "source": [
    "# Get the minimum tick size per asset.\n",
    "price_tick_srs = exchange_markets[\"precision\"].apply(lambda x: x[\"price\"])\n",
    "price_tick_srs = price_tick_srs.apply(lambda x: 10**-x)\n",
    "# Map index to the asset_id.\n",
    "price_tick_srs.index = price_tick_srs.index.map(\n",
    "    binance_full_symbol_to_asset_id_mapping\n",
    ")\n",
    "price_tick_srs.head(3)"
   ]
  },
  {
   "cell_type": "markdown",
   "id": "c79c8a88",
   "metadata": {},
   "source": [
    "# Cross-checks"
   ]
  },
  {
   "cell_type": "markdown",
   "id": "b3187d15",
   "metadata": {},
   "source": [
    "## Basic checks"
   ]
  },
  {
   "cell_type": "markdown",
   "id": "99c582de",
   "metadata": {},
   "source": [
    "- Number of bars and assets\n",
    "- Moments\n",
    "- Non-submitted orders"
   ]
  },
  {
   "cell_type": "code",
   "execution_count": null,
   "id": "df3e3e32",
   "metadata": {},
   "outputs": [],
   "source": [
    "# Verify number of bars in the parent order DF.\n",
    "number_of_bars = int(\n",
    "    np.ceil(\n",
    "        (\n",
    "            parent_order_df[\"end_timestamp\"].max()\n",
    "            - parent_order_df[\"start_timestamp\"].min()\n",
    "        )\n",
    "        / bar_duration\n",
    "    )\n",
    ")\n",
    "_LOG.info(\"number of bars=%d\", number_of_bars)"
   ]
  },
  {
   "cell_type": "code",
   "execution_count": null,
   "id": "cc7b771d",
   "metadata": {
    "run_control": {
     "marked": false
    }
   },
   "outputs": [],
   "source": [
    "# Check number of unique asset IDs.\n",
    "unique_asset_id_count = len(parent_order_df[\"asset_id\"].unique())\n",
    "_LOG.info(\"unique asset_id count=%d\", unique_asset_id_count)"
   ]
  },
  {
   "cell_type": "code",
   "execution_count": null,
   "id": "3b8acf79",
   "metadata": {},
   "outputs": [],
   "source": [
    "# Share counts should change if there are many orders and we are getting fills.\n",
    "costatis.compute_moments(parent_order_df[\"curr_num_shares\"])"
   ]
  },
  {
   "cell_type": "code",
   "execution_count": null,
   "id": "58b29f92",
   "metadata": {},
   "outputs": [],
   "source": [
    "# Verify that test asset id is present in the CCXT fills.\n",
    "hdbg.dassert_in(test_asset_id, fills_df[id_col].unique())"
   ]
  },
  {
   "cell_type": "code",
   "execution_count": null,
   "id": "b2b8d8b9",
   "metadata": {},
   "outputs": [],
   "source": [
    "inconsistent_order_num_df = bar_ccxt_order_aggregation[\"order_count\"].stack()[\n",
    "    ~bar_ccxt_order_aggregation[\"order_count\"].stack().isin(range_filter)\n",
    "]\n",
    "if not inconsistent_order_num_df.empty:\n",
    "    child_order_df[\n",
    "        (\n",
    "            child_order_df[\"creation_timestamp\"]\n",
    "            > inconsistent_order_num_df.index.min()[0]\n",
    "        )\n",
    "        & (\n",
    "            child_order_df[\"creation_timestamp\"]\n",
    "            < inconsistent_order_num_df.index.max()[0]\n",
    "        )\n",
    "        & (child_order_df[id_col].isin(inconsistent_order_num_df.index[1]))\n",
    "    ]"
   ]
  },
  {
   "cell_type": "code",
   "execution_count": null,
   "id": "1f3568c5",
   "metadata": {},
   "outputs": [],
   "source": [
    "# The number of child orders can be greater than the number of order responses\n",
    "# if the child order was not accepted by the exchange.\n",
    "# In this case the child order should have an error message (see cells below).\n",
    "# If some non-submitted orders don't have an error message, it indicates a bug.\n",
    "_LOG.info(\n",
    "    f\"child orders in child_order_df={child_order_df.shape[0]}\\n\\\n",
    "responses in ccxt_order_response_df={ccxt_order_response_df.shape[0]}\\n\\\n",
    "child_order_df-ccxt_order_response_df={child_order_df.shape[0]-ccxt_order_response_df.shape[0]}\"\n",
    ")"
   ]
  },
  {
   "cell_type": "code",
   "execution_count": null,
   "id": "992ff356",
   "metadata": {},
   "outputs": [],
   "source": [
    "# Get child orders that were generated but did not get an order response.\n",
    "no_response_orders = child_order_df[child_order_df[\"ccxt_id\"] == -1]\n",
    "no_response_orders[\"error_msg\"] = no_response_orders[\"extra_params\"].apply(\n",
    "    lambda x: x.get(\"error_msg\", \"\")\n",
    ")"
   ]
  },
  {
   "cell_type": "code",
   "execution_count": null,
   "id": "0e51d3da",
   "metadata": {},
   "outputs": [],
   "source": [
    "# Check the error messages for child orders that did not come through.\n",
    "# Display error messages grouped by symbol.\n",
    "# Get the universe to map asset_id's.\n",
    "universe = ivcu.get_vendor_universe(\n",
    "    \"CCXT\", \"trade\", version=universe_version, as_full_symbol=True\n",
    ")\n",
    "asset_id_to_symbol_mapping = ivcu.build_numerical_to_string_id_mapping(universe)\n",
    "no_response_orders[\"full_symbol\"] = no_response_orders[\"asset_id\"].map(\n",
    "    asset_id_to_symbol_mapping\n",
    ")\n",
    "# Get value counts of error messages.\n",
    "error_msg = no_response_orders.groupby(\"full_symbol\")[\"error_msg\"].value_counts()\n",
    "error_msg"
   ]
  },
  {
   "cell_type": "code",
   "execution_count": null,
   "id": "5c4d3ea5",
   "metadata": {},
   "outputs": [],
   "source": [
    "# Check child orders with no response and no logged error message.\n",
    "no_response_orders[no_response_orders[\"error_msg\"] == \"\"]"
   ]
  },
  {
   "cell_type": "markdown",
   "id": "55bdc200",
   "metadata": {},
   "source": [
    "## Consistency checks"
   ]
  },
  {
   "cell_type": "markdown",
   "id": "e82a62be",
   "metadata": {},
   "source": [
    "- Number of trades per order and bar\n",
    "- Number of buys/sells\n",
    "- TWAP/VWAP difference"
   ]
  },
  {
   "cell_type": "code",
   "execution_count": null,
   "id": "8646ced9",
   "metadata": {},
   "outputs": [],
   "source": [
    "# For a given bar and a given instrument, we expect to see as number of trades between 0 and X,\n",
    "# where X is the maximum number of child orders per bar.\n",
    "bar_ccxt_order_aggregation[\n",
    "    \"order_count\"\n",
    "].stack().value_counts().sort_index().plot(kind=\"bar\")"
   ]
  },
  {
   "cell_type": "code",
   "execution_count": null,
   "id": "962a2a53",
   "metadata": {},
   "outputs": [],
   "source": [
    "# Display order count by bar.\n",
    "bar_ccxt_order_aggregation[\"order_count\"]"
   ]
  },
  {
   "cell_type": "code",
   "execution_count": null,
   "id": "0587217f",
   "metadata": {},
   "outputs": [],
   "source": [
    "# If `buy_count` and `sell_count` are both greater than zero for an order,\n",
    "#  it indicates a bug.\n",
    "has_buys = ccxt_order_fills[\"buy_count\"] > 0\n",
    "has_sells = ccxt_order_fills[\"sell_count\"] > 0\n",
    "# This dataframe should have zero rows.\n",
    "ccxt_order_fills.loc[has_buys & has_sells].shape[0]"
   ]
  },
  {
   "cell_type": "code",
   "execution_count": null,
   "id": "72aaffbe",
   "metadata": {},
   "outputs": [],
   "source": [
    "# If `buy_count` and `sell_count` are both greater than zero for an instrument and bar,\n",
    "#  there is likely a bar alignment or timing problem.\n",
    "has_buys = bar_fills[\"buy_count\"] > 0\n",
    "has_sells = bar_fills[\"sell_count\"] > 0\n",
    "# This dataframe should be empty.\n",
    "bar_fills.loc[has_buys & has_sells].shape[0]"
   ]
  },
  {
   "cell_type": "code",
   "execution_count": null,
   "id": "43c44909",
   "metadata": {},
   "outputs": [],
   "source": [
    "# If `order_twap` and `order_vwap` are different for a given instrument and bar,\n",
    "#  then we are likely submitting orders of differing sizes.\n",
    "# Use rounding to ignore machine precision artifacts.\n",
    "#\n",
    "# If this number is not zero, then closely inspect the dataframe (without summing\n",
    "# absolute values).\n",
    "bar_ccxt_order_aggregation[\"buy_limit_twap\"].subtract(\n",
    "    bar_ccxt_order_aggregation[\"buy_limit_vwap\"]\n",
    ").abs().sum().sum().round(9)"
   ]
  },
  {
   "cell_type": "code",
   "execution_count": null,
   "id": "a4cad90f",
   "metadata": {},
   "outputs": [],
   "source": [
    "# Analogous check but for sells.\n",
    "bar_ccxt_order_aggregation[\"sell_limit_twap\"].subtract(\n",
    "    bar_ccxt_order_aggregation[\"sell_limit_vwap\"]\n",
    ").abs().sum().sum().round(9)"
   ]
  },
  {
   "cell_type": "code",
   "execution_count": null,
   "id": "ee3506a8",
   "metadata": {},
   "outputs": [],
   "source": [
    "# Plot order counts by timestamp.\n",
    "col = \"order_count\"\n",
    "coplotti.plot_boxplot(bar_ccxt_order_aggregation[col], \"by_row\", ylabel=col)"
   ]
  },
  {
   "cell_type": "code",
   "execution_count": null,
   "id": "a86c1191",
   "metadata": {},
   "outputs": [],
   "source": [
    "# Plot order counts by asset.\n",
    "col = \"order_count\"\n",
    "coplotti.plot_boxplot(bar_ccxt_order_aggregation[col], \"by_col\", ylabel=col)"
   ]
  },
  {
   "cell_type": "markdown",
   "id": "4c380dc8",
   "metadata": {},
   "source": [
    "# Fee summary"
   ]
  },
  {
   "cell_type": "code",
   "execution_count": null,
   "id": "e6845f8c",
   "metadata": {},
   "outputs": [],
   "source": [
    "group_by_col = \"is_buy\"\n",
    "obccexqu.generate_fee_summary(fills_df, \"is_buy\")"
   ]
  },
  {
   "cell_type": "code",
   "execution_count": null,
   "id": "e909a9a9",
   "metadata": {},
   "outputs": [],
   "source": [
    "group_by_col = \"is_maker\"\n",
    "obccexqu.generate_fee_summary(fills_df, group_by_col)"
   ]
  },
  {
   "cell_type": "code",
   "execution_count": null,
   "id": "ca9d11b3",
   "metadata": {},
   "outputs": [],
   "source": [
    "group_by_col = \"is_positive_realized_pnl\"\n",
    "obccexqu.generate_fee_summary(fills_df, group_by_col)"
   ]
  },
  {
   "cell_type": "code",
   "execution_count": null,
   "id": "10793c67",
   "metadata": {},
   "outputs": [],
   "source": [
    "group_by_col = \"wave_id\"\n",
    "obccexqu.generate_fee_summary(fills_df, group_by_col)"
   ]
  },
  {
   "cell_type": "code",
   "execution_count": null,
   "id": "0bb7d182",
   "metadata": {},
   "outputs": [],
   "source": [
    "# Get by-wave summary for a single test asset.\n",
    "test_fills = fills_df[fills_df[\"asset_id\"] == test_asset_id]\n",
    "group_by_col = \"wave_id\"\n",
    "obccexqu.generate_fee_summary(test_fills, group_by_col)"
   ]
  },
  {
   "cell_type": "markdown",
   "id": "3df70a87",
   "metadata": {},
   "source": [
    "# Time to fill"
   ]
  },
  {
   "cell_type": "markdown",
   "id": "209ddf17",
   "metadata": {},
   "source": [
    "## ECDFs"
   ]
  },
  {
   "cell_type": "code",
   "execution_count": null,
   "id": "e7f76dfe",
   "metadata": {},
   "outputs": [],
   "source": [
    "# Compute and plot time to fill ECDFs.\n",
    "adj_fill_ecdfs = obccexqu.compute_adj_fill_ecdfs(\n",
    "    fills_df, ccxt_order_response_df, child_order_df\n",
    ")\n",
    "adj_fill_ecdfs.plot()"
   ]
  },
  {
   "cell_type": "code",
   "execution_count": null,
   "id": "ef8ea624",
   "metadata": {},
   "outputs": [],
   "source": [
    "# Plot ECDFs by child order wave.\n",
    "if \"wave_id\" in child_order_df.columns:\n",
    "    cplexsta.plot_adj_fill_ecdfs(\n",
    "        fills_df,\n",
    "        ccxt_order_response_df,\n",
    "        child_order_df,\n",
    "    )"
   ]
  },
  {
   "cell_type": "markdown",
   "id": "2b09b0b3",
   "metadata": {},
   "source": [
    "## Average order lifespan in seconds"
   ]
  },
  {
   "cell_type": "code",
   "execution_count": null,
   "id": "2cdac3b1",
   "metadata": {
    "run_control": {
     "marked": false
    }
   },
   "outputs": [],
   "source": [
    "# Map symbol to asset ID.\n",
    "ccxt_fills[\"asset_id\"] = ccxt_fills[\"symbol\"].apply(\n",
    "    lambda x: binance_full_symbol_to_asset_id_mapping[x]\n",
    ")\n",
    "# Convert `datetime` column from string to timestamp.\n",
    "ccxt_fills[\"datetime\"] = ccxt_fills[\"datetime\"].apply(\n",
    "    lambda x: pd.to_datetime(x, utc=True)\n",
    ")"
   ]
  },
  {
   "cell_type": "code",
   "execution_count": null,
   "id": "3d81d261",
   "metadata": {},
   "outputs": [],
   "source": [
    "# `datetime` is the time the order appeared on the exchange.\n",
    "# `order_update_datetime` is the time the order was closed.\n",
    "# Calculate average order lifespan by asset based on the exchange data.\n",
    "ccxt_fills[\"lifespan_in_seconds\"] = (\n",
    "    ccxt_fills[\"order_update_datetime\"] - ccxt_fills[\"datetime\"]\n",
    ").apply(lambda x: x.total_seconds())\n",
    "ccxt_fills.groupby(\"asset_id\").apply(lambda x: x[\"lifespan_in_seconds\"].mean())"
   ]
  },
  {
   "cell_type": "code",
   "execution_count": null,
   "id": "917feff8",
   "metadata": {
    "run_control": {
     "marked": true
    }
   },
   "outputs": [],
   "source": [
    "order_to_lifespan = ccxt_fills.set_index(\"order\")[\"lifespan_in_seconds\"].to_dict()\n",
    "child_order_df[\"lifespan_in_seconds\"] = child_order_df[\"ccxt_id\"].apply(\n",
    "    lambda x: order_to_lifespan.get(x)\n",
    ")"
   ]
  },
  {
   "cell_type": "markdown",
   "id": "19e8590c",
   "metadata": {},
   "source": [
    "# Execution quality"
   ]
  },
  {
   "cell_type": "markdown",
   "id": "10a7d102",
   "metadata": {},
   "source": [
    "## Compute `target_position_df` and `portfolio_df`"
   ]
  },
  {
   "cell_type": "code",
   "execution_count": null,
   "id": "1a824039",
   "metadata": {},
   "outputs": [],
   "source": [
    "price_df = ohlcv_bars[price_col]\n",
    "target_position_df = oororcon.convert_order_df_to_target_position_df(\n",
    "    parent_order_df,\n",
    "    price_df,\n",
    ")\n",
    "hpandas.df_to_str(target_position_df, num_rows=5, log_level=logging.INFO)"
   ]
  },
  {
   "cell_type": "code",
   "execution_count": null,
   "id": "0bf6bc6b",
   "metadata": {},
   "outputs": [],
   "source": [
    "portfolio_df = obccexqu.convert_bar_fills_to_portfolio_df(\n",
    "    bar_fills,\n",
    "    price_df,\n",
    ")\n",
    "hpandas.df_to_str(portfolio_df, num_rows=5, log_level=logging.INFO)"
   ]
  },
  {
   "cell_type": "markdown",
   "id": "f0f084bc",
   "metadata": {},
   "source": [
    "## PNL and price for the test asset"
   ]
  },
  {
   "cell_type": "code",
   "execution_count": null,
   "id": "b1a1abdc",
   "metadata": {},
   "outputs": [],
   "source": [
    "portfolio_df[\"pnl\"][test_asset_id].cumsum().plot()"
   ]
  },
  {
   "cell_type": "code",
   "execution_count": null,
   "id": "3f81c98f",
   "metadata": {},
   "outputs": [],
   "source": [
    "target_position_df[\"price\"][test_asset_id].plot()"
   ]
  },
  {
   "cell_type": "markdown",
   "id": "427dd2c6",
   "metadata": {},
   "source": [
    "## Compute execution quality"
   ]
  },
  {
   "cell_type": "code",
   "execution_count": null,
   "id": "a1743591",
   "metadata": {},
   "outputs": [],
   "source": [
    "(\n",
    "    execution_quality_df,\n",
    "    execution_quality_stats_df,\n",
    ") = cftpdp.compute_execution_quality_df(\n",
    "    portfolio_df,\n",
    "    target_position_df,\n",
    ")\n",
    "hpandas.df_to_str(execution_quality_df, num_rows=5, log_level=logging.INFO)\n",
    "hpandas.df_to_str(execution_quality_stats_df, num_rows=5, log_level=logging.INFO)"
   ]
  },
  {
   "cell_type": "code",
   "execution_count": null,
   "id": "33f4b94a",
   "metadata": {},
   "outputs": [],
   "source": [
    "execution_quality_df.columns.levels[0].to_list()"
   ]
  },
  {
   "cell_type": "code",
   "execution_count": null,
   "id": "f1f02412",
   "metadata": {},
   "outputs": [],
   "source": [
    "coplotti.plot_execution_ecdfs(execution_quality_df)"
   ]
  },
  {
   "cell_type": "markdown",
   "id": "aeefded7",
   "metadata": {},
   "source": [
    "## Compute and plot portfolio stats"
   ]
  },
  {
   "cell_type": "code",
   "execution_count": null,
   "id": "586d3429",
   "metadata": {},
   "outputs": [],
   "source": [
    "coplotti.plot_portfolio_stats(execution_quality_stats_df)"
   ]
  },
  {
   "cell_type": "code",
   "execution_count": null,
   "id": "22bc6ac7",
   "metadata": {},
   "outputs": [],
   "source": [
    "coplotti.plot_execution_stats(execution_quality_stats_df)"
   ]
  },
  {
   "cell_type": "markdown",
   "id": "a2882fc9",
   "metadata": {},
   "source": [
    "##  Filled order execution quality"
   ]
  },
  {
   "cell_type": "code",
   "execution_count": null,
   "id": "8cb41690",
   "metadata": {},
   "outputs": [],
   "source": [
    "filled_order_execution_quality = obccexqu.compute_filled_order_execution_quality(\n",
    "    filled_ccxt_orders, tick_decimals=6\n",
    ")\n",
    "filled_order_execution_quality.head()"
   ]
  },
  {
   "cell_type": "code",
   "execution_count": null,
   "id": "8c980849",
   "metadata": {},
   "outputs": [],
   "source": [
    "# If any value is negative (up to machine precision), except for `direction`, it indicates a bug.\n",
    "filled_order_execution_quality.loc[\n",
    "    (filled_order_execution_quality.drop(\"direction\", axis=1).round(9) < 0).any(\n",
    "        axis=1\n",
    "    )\n",
    "].shape[0]"
   ]
  },
  {
   "cell_type": "code",
   "execution_count": null,
   "id": "fd3b0264",
   "metadata": {},
   "outputs": [],
   "source": [
    "filled_order_execution_quality.min()"
   ]
  },
  {
   "cell_type": "code",
   "execution_count": null,
   "id": "ae464de0",
   "metadata": {},
   "outputs": [],
   "source": [
    "filled_order_execution_quality.max()"
   ]
  },
  {
   "cell_type": "markdown",
   "id": "2844c440",
   "metadata": {},
   "source": [
    "## Compare bar trade prices to OHLCV TWAP"
   ]
  },
  {
   "cell_type": "code",
   "execution_count": null,
   "id": "c95cb44d",
   "metadata": {},
   "outputs": [],
   "source": [
    "actual_and_ohlcv_price_df = {\n",
    "    \"buy_trade_price\": trade_prices[\"buy_trade_price\"],\n",
    "    \"sell_trade_price\": trade_prices[\"sell_trade_price\"],\n",
    "    \"twap\": ohlcv_bars[\"twap\"],\n",
    "    \"high\": ohlcv_bars[\"high\"],\n",
    "    \"low\": ohlcv_bars[\"low\"],\n",
    "}\n",
    "actual_and_ohlcv_price_df = pd.concat(actual_and_ohlcv_price_df, axis=1)\n",
    "hpandas.df_to_str(actual_and_ohlcv_price_df, num_rows=5, log_level=logging.INFO)"
   ]
  },
  {
   "cell_type": "code",
   "execution_count": null,
   "id": "6b44be2f",
   "metadata": {},
   "outputs": [],
   "source": [
    "actual_vs_ohlcv_execution_df = cofinanc.compute_ref_price_execution_quality(\n",
    "    actual_and_ohlcv_price_df,\n",
    "    \"twap\",\n",
    "    \"twap\",\n",
    "    \"buy_trade_price\",\n",
    "    \"sell_trade_price\",\n",
    ")\n",
    "hpandas.df_to_str(\n",
    "    actual_vs_ohlcv_execution_df, num_rows=5, log_level=logging.INFO\n",
    ")"
   ]
  },
  {
   "cell_type": "code",
   "execution_count": null,
   "id": "6c5f1d5b",
   "metadata": {},
   "outputs": [],
   "source": [
    "actual_vs_ohlcv_execution_df.columns.levels[0].to_list()"
   ]
  },
  {
   "cell_type": "code",
   "execution_count": null,
   "id": "1f9d2311",
   "metadata": {},
   "outputs": [],
   "source": [
    "# Some values can be missing in `buy_trade_price` and `sell_trade_price` columns.\n",
    "# Interpolate missing values to build continuous line.\n",
    "cofinanc.get_asset_slice(actual_and_ohlcv_price_df, test_asset_id).interpolate(\n",
    "    method=\"zero\"\n",
    ").plot()"
   ]
  },
  {
   "cell_type": "markdown",
   "id": "e4f74607",
   "metadata": {},
   "source": [
    "## Spread and High-Low Range"
   ]
  },
  {
   "cell_type": "markdown",
   "id": "4fe56dbf",
   "metadata": {},
   "source": [
    "### Average bid/ask spread by asset_id"
   ]
  },
  {
   "cell_type": "code",
   "execution_count": null,
   "id": "6d7aadfb",
   "metadata": {},
   "outputs": [],
   "source": [
    "# Display average notional spread per instrument.\n",
    "average_spread_notional = child_order_df.groupby(\"asset_id\")[\"spread\"].mean()\n",
    "average_spread_notional"
   ]
  },
  {
   "cell_type": "code",
   "execution_count": null,
   "id": "d68139b8",
   "metadata": {},
   "outputs": [],
   "source": [
    "child_order_df.head()"
   ]
  },
  {
   "cell_type": "code",
   "execution_count": null,
   "id": "c610548a",
   "metadata": {},
   "outputs": [],
   "source": [
    "# Display average spread per instrument in bps.\n",
    "average_spread_bps = (\n",
    "    child_order_df.groupby(\"asset_id\")[\"spread_bps\"].mean().sort_values()\n",
    ")\n",
    "average_spread_bps"
   ]
  },
  {
   "cell_type": "code",
   "execution_count": null,
   "id": "ce4f9b56",
   "metadata": {},
   "outputs": [],
   "source": [
    "average_spread_bps.plot(\n",
    "    kind=\"bar\",\n",
    "    title=\"Average Spread per Instrument in Basis Points\",\n",
    "    xlabel=\"Instrument\",\n",
    "    ylabel=\"Average Spread (bps)\",\n",
    ")"
   ]
  },
  {
   "cell_type": "markdown",
   "id": "9578445f",
   "metadata": {},
   "source": [
    "### OHLCV high-low spread to tick ratio"
   ]
  },
  {
   "cell_type": "code",
   "execution_count": null,
   "id": "7b0024ef",
   "metadata": {},
   "outputs": [],
   "source": [
    "# Calculate the high-low spread to tick ratio.\n",
    "high_low_range = (ohlcv_bars[\"high\"] - ohlcv_bars[\"low\"]) / price_tick_srs\n",
    "# Plot average.\n",
    "high_low_range.mean().sort_values(ascending=False).plot(\n",
    "    kind=\"bar\",\n",
    "    logy=True,\n",
    "    title=\"Average High/Low Range per Instrument (log)\",\n",
    "    xlabel=\"Instrument\",\n",
    "    ylabel=\"Average High/Low Range (log)\",\n",
    ")"
   ]
  },
  {
   "cell_type": "markdown",
   "id": "02090ee8",
   "metadata": {},
   "source": [
    "# Child order DF stats"
   ]
  },
  {
   "cell_type": "markdown",
   "id": "0c9933bb",
   "metadata": {},
   "source": [
    "## Volatility"
   ]
  },
  {
   "cell_type": "code",
   "execution_count": null,
   "id": "4cb88c01",
   "metadata": {},
   "outputs": [],
   "source": [
    "# Average volatility in bps by asset.\n",
    "# Note: `mean()` used as a placeholder.\n",
    "child_order_df.groupby(\"asset_id\")[\"total_vol_bps\"].mean()"
   ]
  },
  {
   "cell_type": "code",
   "execution_count": null,
   "id": "0633c06d",
   "metadata": {},
   "outputs": [],
   "source": [
    "# Total volatility in bps histogram.\n",
    "child_order_df[\"total_vol_bps\"].hist()"
   ]
  },
  {
   "cell_type": "markdown",
   "id": "9aedd0c3",
   "metadata": {},
   "source": [
    "## Bid/ask"
   ]
  },
  {
   "cell_type": "code",
   "execution_count": null,
   "id": "ba5303d2",
   "metadata": {},
   "outputs": [],
   "source": [
    "# Average bid cost by asset.\n",
    "avg_bid_price_by_asset = child_order_df.groupby(\"asset_id\")[\n",
    "    \"latest_bid_price\"\n",
    "].mean()\n",
    "_LOG.info(avg_bid_price_by_asset)\n",
    "avg_bid_size_by_asset = child_order_df.groupby(\"asset_id\")[\n",
    "    \"latest_bid_size\"\n",
    "].mean()\n",
    "_LOG.info(avg_bid_size_by_asset)\n",
    "avg_bid_cost_by_asset = avg_bid_price_by_asset * avg_bid_size_by_asset\n",
    "avg_bid_cost_by_asset"
   ]
  },
  {
   "cell_type": "code",
   "execution_count": null,
   "id": "6319665e",
   "metadata": {},
   "outputs": [],
   "source": [
    "# Average ask cost by asset.\n",
    "avg_ask_price_by_asset = child_order_df.groupby(\"asset_id\")[\n",
    "    \"latest_ask_price\"\n",
    "].mean()\n",
    "_LOG.info(avg_ask_price_by_asset)\n",
    "avg_ask_size_by_asset = child_order_df.groupby(\"asset_id\")[\n",
    "    \"latest_ask_size\"\n",
    "].mean()\n",
    "_LOG.info(avg_ask_size_by_asset)\n",
    "avg_ask_cost_by_asset = avg_ask_price_by_asset * avg_ask_size_by_asset\n",
    "avg_ask_cost_by_asset"
   ]
  },
  {
   "cell_type": "markdown",
   "id": "cff323a4",
   "metadata": {},
   "source": [
    "# Analyze filled orders"
   ]
  },
  {
   "cell_type": "code",
   "execution_count": null,
   "id": "49d0fb00",
   "metadata": {},
   "outputs": [],
   "source": [
    "# Group child orders by corresponding parent order.\n",
    "child_order_df[\"parent_order_id\"] = child_order_df.extra_params.apply(\n",
    "    lambda x: x[\"oms_parent_order_id\"]\n",
    ")\n",
    "child_order_df_by_parent = child_order_df.reset_index().set_index(\n",
    "    [\"parent_order_id\", \"order_id\"]\n",
    ")"
   ]
  },
  {
   "cell_type": "markdown",
   "id": "7b0ccfff",
   "metadata": {},
   "source": [
    "## Filled order slippage normalized by parent order"
   ]
  },
  {
   "cell_type": "markdown",
   "id": "f0a49037",
   "metadata": {},
   "source": [
    "Calculate filled order slippage as a difference between the bid/ask midpoint at the start of the parent order execution and the execution price of the filled order."
   ]
  },
  {
   "cell_type": "code",
   "execution_count": null,
   "id": "9940fb2d",
   "metadata": {},
   "outputs": [],
   "source": [
    "first_mid_price_by_parent = child_order_df_by_parent.groupby(level=0)[\n",
    "    \"latest_mid_price\"\n",
    "].first()"
   ]
  },
  {
   "cell_type": "code",
   "execution_count": null,
   "id": "bad1608d",
   "metadata": {
    "lines_to_next_cell": 2
   },
   "outputs": [],
   "source": [
    "# Add filled order slippage for each child order.\n",
    "child_order_df_by_parent[\"order_slippage\"] = (\n",
    "    first_mid_price_by_parent - child_order_df_by_parent[\"limit_price\"]\n",
    ")"
   ]
  },
  {
   "cell_type": "code",
   "execution_count": null,
   "id": "96cf9e53",
   "metadata": {},
   "outputs": [],
   "source": [
    "# Filter to only unfilled child orders.\n",
    "filled_child_order_df = child_order_df_by_parent[\n",
    "    child_order_df_by_parent[\"ccxt_id\"].isin(filled_ccxt_orders.index)\n",
    "]\n",
    "filled_child_order_df[[\"asset_id\", \"order_slippage\"]]"
   ]
  },
  {
   "cell_type": "markdown",
   "id": "16566364",
   "metadata": {},
   "source": [
    "# Analyze unfilled orders"
   ]
  },
  {
   "cell_type": "markdown",
   "id": "95769d01",
   "metadata": {},
   "source": [
    "## Underfill execution quality"
   ]
  },
  {
   "cell_type": "markdown",
   "id": "6b4e6101",
   "metadata": {},
   "source": [
    "### Underfill notional"
   ]
  },
  {
   "cell_type": "code",
   "execution_count": null,
   "id": "97339fc0",
   "metadata": {},
   "outputs": [],
   "source": [
    "# Get the total underfill notional for the run per asset.\n",
    "execution_quality_df[\"underfill_notional\"].abs().sum().round(9)"
   ]
  },
  {
   "cell_type": "code",
   "execution_count": null,
   "id": "d8709767",
   "metadata": {},
   "outputs": [],
   "source": [
    "# Get the total underfill notional for the run per bar.\n",
    "execution_quality_df[\"underfill_notional\"].abs().sum(axis=1).round(9)"
   ]
  },
  {
   "cell_type": "code",
   "execution_count": null,
   "id": "2fd7f59e",
   "metadata": {},
   "outputs": [],
   "source": [
    "# Get the total underfill notional.\n",
    "execution_quality_df[\"underfill_notional\"].abs().sum().sum().round(9)"
   ]
  },
  {
   "cell_type": "markdown",
   "id": "284382c3",
   "metadata": {},
   "source": [
    "### Aggregate fill rate"
   ]
  },
  {
   "cell_type": "code",
   "execution_count": null,
   "id": "686e4976",
   "metadata": {},
   "outputs": [],
   "source": [
    "underfill_notional = execution_quality_df[\"underfill_notional\"].abs().sum()\n",
    "executed_volume_notional = portfolio_df[\"executed_trades_notional\"].abs().sum()\n",
    "executed_volume_notional / (underfill_notional + executed_volume_notional)"
   ]
  },
  {
   "cell_type": "code",
   "execution_count": null,
   "id": "e95a92dd",
   "metadata": {},
   "outputs": [],
   "source": [
    "# Total portfolio aggregate fill rate.\n",
    "total_underfill_notional = underfill_notional.sum()\n",
    "total_executed_volume_notional = executed_volume_notional.sum()\n",
    "total_executed_volume_notional / (\n",
    "    total_underfill_notional + total_executed_volume_notional\n",
    ")"
   ]
  },
  {
   "cell_type": "markdown",
   "id": "bce21286",
   "metadata": {},
   "source": [
    "### Underfill share count"
   ]
  },
  {
   "cell_type": "code",
   "execution_count": null,
   "id": "1cc55fa5",
   "metadata": {},
   "outputs": [],
   "source": [
    "# Get underfill share count per asset.\n",
    "execution_quality_df[\"underfill_share_count\"].abs().sum().round(9)"
   ]
  },
  {
   "cell_type": "markdown",
   "id": "ab06d7ec",
   "metadata": {},
   "source": [
    "### Notional slippage"
   ]
  },
  {
   "cell_type": "code",
   "execution_count": null,
   "id": "20d93179",
   "metadata": {},
   "outputs": [],
   "source": [
    "# Total slippage.\n",
    "execution_quality_df[\"slippage_notional\"].sum().sum().round(9)"
   ]
  },
  {
   "cell_type": "code",
   "execution_count": null,
   "id": "2a4c20d4",
   "metadata": {},
   "outputs": [],
   "source": [
    "# Notional slippage by asset.\n",
    "execution_quality_df[\"slippage_notional\"].sum().round(9)"
   ]
  },
  {
   "cell_type": "code",
   "execution_count": null,
   "id": "b4a860bf",
   "metadata": {},
   "outputs": [],
   "source": [
    "# Slippage in bps by timestamp.\n",
    "execution_quality_df[\"slippage_notional\"].sum(axis=1).round(9)"
   ]
  },
  {
   "cell_type": "markdown",
   "id": "6ccb987e",
   "metadata": {},
   "source": [
    "### Slippage in bps adjusted by total executed volume"
   ]
  },
  {
   "cell_type": "code",
   "execution_count": null,
   "id": "474360b8",
   "metadata": {},
   "outputs": [],
   "source": [
    "# Total.\n",
    "execution_quality_df[\n",
    "    \"slippage_notional\"\n",
    "].sum().sum() * 1e4 / executed_volume_notional.sum().round(9)"
   ]
  },
  {
   "cell_type": "code",
   "execution_count": null,
   "id": "0d6f256c",
   "metadata": {},
   "outputs": [],
   "source": [
    "# By asset.\n",
    "execution_quality_df[\n",
    "    \"slippage_notional\"\n",
    "].sum() * 1e4 / executed_volume_notional.round(9)"
   ]
  },
  {
   "cell_type": "code",
   "execution_count": null,
   "id": "141d0220",
   "metadata": {
    "lines_to_next_cell": 2
   },
   "outputs": [],
   "source": [
    "# By timestamp.\n",
    "execution_quality_df[\"slippage_notional\"].sum(axis=1) * 1e4 / portfolio_df[\n",
    "    \"executed_trades_notional\"\n",
    "].abs().sum(axis=1).round(9)"
   ]
  },
  {
   "cell_type": "markdown",
   "id": "133bdbfd",
   "metadata": {},
   "source": [
    "### Slippage in bps over volatility"
   ]
  },
  {
   "cell_type": "code",
   "execution_count": null,
   "id": "d123d89a",
   "metadata": {},
   "outputs": [],
   "source": [
    "execution_quality_df[\"slippage_in_bps\"].mean() / average_spread_bps"
   ]
  },
  {
   "cell_type": "markdown",
   "id": "0a87db5d",
   "metadata": {},
   "source": [
    "## Compute vol-adjusted close price"
   ]
  },
  {
   "cell_type": "code",
   "execution_count": null,
   "id": "1e9c4e2c",
   "metadata": {},
   "outputs": [],
   "source": [
    "zero_vol = child_order_df_by_parent[child_order_df_by_parent[\"total_vol\"] == 0]\n",
    "if not zero_vol.empty:\n",
    "    _LOG.warning(\n",
    "        \"%d `total_vol` values will be replaces with NaN\",\n",
    "        len(zero_vol),\n",
    "    )\n",
    "    display(zero_vol)\n",
    "    # Replace zeros with NaN to avoid division by zero.\n",
    "    child_order_df_by_parent[\"total_vol\"] = child_order_df_by_parent[\n",
    "        \"total_vol\"\n",
    "    ].replace(0, np.nan)"
   ]
  },
  {
   "cell_type": "code",
   "execution_count": null,
   "id": "a00c2fe0",
   "metadata": {},
   "outputs": [],
   "source": [
    "# Get `close` price as defined in `get_adjusted_close_price` docstring.\n",
    "child_order_df_by_parent[\"close\"] = child_order_df_by_parent.groupby(level=0)[\n",
    "    \"latest_mid_price\"\n",
    "].shift(-1)\n",
    "# Calculate volatility-adjusted close price.\n",
    "adjusted_close = list(\n",
    "    map(\n",
    "        obccexqu.get_adjusted_close_price,\n",
    "        child_order_df_by_parent[\"close\"],\n",
    "        child_order_df_by_parent[\"latest_mid_price\"],\n",
    "        child_order_df_by_parent[\"total_vol\"],\n",
    "    )\n",
    ")\n",
    "child_order_df_by_parent[\"adj_close\"] = adjusted_close"
   ]
  },
  {
   "cell_type": "code",
   "execution_count": null,
   "id": "fa3987b6",
   "metadata": {},
   "outputs": [],
   "source": [
    "# Filter to only unfilled child orders.\n",
    "unfilled_child_order_df = child_order_df_by_parent[\n",
    "    child_order_df_by_parent[\"ccxt_id\"].isin(unfilled_ccxt_orders.index)\n",
    "]\n",
    "unfilled_child_order_df.head(3)"
   ]
  },
  {
   "cell_type": "code",
   "execution_count": null,
   "id": "b7ceab20",
   "metadata": {},
   "outputs": [],
   "source": [
    "# Separate unfilled child orders by side.\n",
    "unfilled_child_order_df_buy = unfilled_child_order_df[\n",
    "    unfilled_child_order_df[\"diff_num_shares\"] > 0\n",
    "]\n",
    "unfilled_child_order_df_sell = unfilled_child_order_df[\n",
    "    unfilled_child_order_df[\"diff_num_shares\"] < 0\n",
    "]"
   ]
  },
  {
   "cell_type": "code",
   "execution_count": null,
   "id": "ded4fb1c",
   "metadata": {},
   "outputs": [],
   "source": [
    "# Display mean adjusted close by side.\n",
    "_LOG.info(\n",
    "    \"Mean adjusted close for unfilled buy orders: %s\",\n",
    "    unfilled_child_order_df_buy[\"adj_close\"].dropna().mean(),\n",
    ")\n",
    "_LOG.info(\n",
    "    \"Mean adjusted close for unfilled sell orders: %s\",\n",
    "    unfilled_child_order_df_sell[\"adj_close\"].dropna().mean(),\n",
    ")"
   ]
  },
  {
   "cell_type": "code",
   "execution_count": null,
   "id": "3e67cae2",
   "metadata": {},
   "outputs": [],
   "source": [
    "# Display mean adjusted close by wave_id, buy orders.\n",
    "unfilled_child_order_df_buy.groupby(\"wave_id\")[\"adj_close\"].mean().round(9)"
   ]
  },
  {
   "cell_type": "code",
   "execution_count": null,
   "id": "86950f1f",
   "metadata": {},
   "outputs": [],
   "source": [
    "# Display mean adjusted close by wave_id, sell orders.\n",
    "unfilled_child_order_df_sell.groupby(\"wave_id\")[\"adj_close\"].mean().round(9)"
   ]
  },
  {
   "cell_type": "markdown",
   "id": "cdd6fdca",
   "metadata": {},
   "source": [
    "# Config after notebook run"
   ]
  },
  {
   "cell_type": "code",
   "execution_count": null,
   "id": "364ee83f",
   "metadata": {},
   "outputs": [],
   "source": [
    "print(config.to_string(mode=\"verbose\"))"
   ]
  },
  {
   "cell_type": "code",
   "execution_count": null,
   "id": "cde13d12",
   "metadata": {},
   "outputs": [],
   "source": []
  }
 ],
 "metadata": {
  "kernelspec": {
   "display_name": "Python 3 (ipykernel)",
   "language": "python",
   "name": "python3"
  },
  "language_info": {
   "codemirror_mode": {
    "name": "ipython",
    "version": 3
   },
   "file_extension": ".py",
   "mimetype": "text/x-python",
   "name": "python",
   "nbconvert_exporter": "python",
   "pygments_lexer": "ipython3",
   "version": "3.9.5"
  },
  "toc": {
   "base_numbering": 1,
   "nav_menu": {},
   "number_sections": true,
   "sideBar": true,
   "skip_h1_title": false,
   "title_cell": "Table of Contents",
   "title_sidebar": "Contents",
   "toc_cell": false,
   "toc_position": {},
   "toc_section_display": true,
   "toc_window_display": false
  }
 },
 "nbformat": 4,
 "nbformat_minor": 5
}
