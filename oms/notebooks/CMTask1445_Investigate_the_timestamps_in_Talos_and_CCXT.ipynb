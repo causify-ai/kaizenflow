{
 "cells": [
  {
   "cell_type": "markdown",
   "id": "1b21c7be",
   "metadata": {},
   "source": [
    "## Imports"
   ]
  },
  {
   "cell_type": "code",
   "execution_count": null,
   "id": "1aab5b19",
   "metadata": {},
   "outputs": [],
   "source": [
    "import pandas as pd\n",
    "import im_v2.talos.data.client.talos_clients as imvtdctacl\n",
    "import im_v2.talos.data.extract.exchange_class as imvtdeexcl\n",
    "import helpers.hdatetime as hdateti\n",
    "import im_v2.ccxt.data.client.ccxt_clients as imvcdccccl\n",
    "\n",
    "import helpers.hdbg as hdbg\n",
    "import helpers.hprint as hprint\n",
    "import logging\n",
    "import logging"
   ]
  },
  {
   "cell_type": "code",
   "execution_count": null,
   "id": "16631d2b",
   "metadata": {},
   "outputs": [],
   "source": [
    "hdbg.init_logger(verbosity=logging.INFO)\n",
    "\n",
    "_LOG = logging.getLogger(__name__)\n",
    "\n",
    "hprint.config_notebook()"
   ]
  },
  {
   "cell_type": "markdown",
   "id": "e71b6557",
   "metadata": {},
   "source": [
    "## Functions"
   ]
  },
  {
   "cell_type": "code",
   "execution_count": null,
   "id": "3030e7ce",
   "metadata": {},
   "outputs": [],
   "source": [
    "def get_data_from_talos_query(start_time, end_time):\n",
    "    # Set start and end dates.\n",
    "    start_timestamp = pd.Timestamp(start_time)\n",
    "    end_timestamp= pd.Timestamp(end_time)\n",
    "\n",
    "    # Load the data.\n",
    "    df = talos_extract.download_ohlcv_data(\n",
    "            currency_pair = \"BTC-USD\",\n",
    "            exchange = \"binance\",\n",
    "            start_timestamp = start_timestamp,\n",
    "            end_timestamp = end_timestamp,\n",
    "            bar_per_iteration = 100,\n",
    "        )\n",
    "    df[\"timestamp\"] = df[\"timestamp\"].apply(lambda x: hdateti.convert_unix_epoch_to_timestamp(x))\n",
    "    return df\n",
    "\n",
    "def get_data_from_ccxt_client(start_time, end_time):\n",
    "    # Specify the params.\n",
    "    full_symbol_binance = \"binance::BTC_USDT\"\n",
    "    start_time = pd.to_datetime(start_time)\n",
    "    end_time = pd.to_datetime(end_time)\n",
    "    df = ccxt_client._read_data_for_one_symbol(full_symbol_binance, start_time, end_time)\n",
    "    return df\n",
    "\n",
    "def get_data_from_talos_client(start_time, end_time):\n",
    "    # Specify the params.\n",
    "    full_symbol_binance = \"binance::BTC_USDT\"\n",
    "    start_time = pd.to_datetime(start_time)\n",
    "    end_time = pd.to_datetime(end_time)\n",
    "    # Load the data.\n",
    "    df = talos_client._read_data_for_one_symbol(full_symbol_binance, start_time, end_time)\n",
    "    return df"
   ]
  },
  {
   "cell_type": "markdown",
   "id": "ed94adba",
   "metadata": {},
   "source": [
    "# Talos query"
   ]
  },
  {
   "cell_type": "code",
   "execution_count": null,
   "id": "fcb2b94a",
   "metadata": {},
   "outputs": [],
   "source": [
    "# Initialize extractor.\n",
    "talos_extract = imvtdeexcl.TalosExchange(\"sandbox\")"
   ]
  },
  {
   "cell_type": "code",
   "execution_count": null,
   "id": "92da9f1e",
   "metadata": {},
   "outputs": [],
   "source": [
    "data_talos_query = get_data_from_talos_query(\"2022-01-01T10:00:45.000000Z\", \"2022-01-01T10:07:15.000000Z\")\n",
    "data_talos_query.head(3)"
   ]
  },
  {
   "cell_type": "markdown",
   "id": "7808550a",
   "metadata": {},
   "source": [
    "# Current CCXT client"
   ]
  },
  {
   "cell_type": "code",
   "execution_count": null,
   "id": "60c3da3e",
   "metadata": {},
   "outputs": [],
   "source": [
    "# Specify the params.\n",
    "vendor = \"CCXT\"\n",
    "root_dir = \"s3://alphamatic-data/data\"\n",
    "extension = \"csv.gz\"\n",
    "aws_profile_ccxt = \"am\"\n",
    "# Initialize CCXT client.\n",
    "ccxt_client = imvcdccccl.CcxtCddCsvParquetByAssetClient(\n",
    "    vendor,\n",
    "    root_dir,\n",
    "    extension,\n",
    "    aws_profile = aws_profile_ccxt\n",
    ")"
   ]
  },
  {
   "cell_type": "code",
   "execution_count": null,
   "id": "ebabc65a",
   "metadata": {},
   "outputs": [],
   "source": [
    "data_ccxt_client = get_data_from_ccxt_client(\"2020-01-01 10:00:45\",\"2020-01-01 10:07:15\")"
   ]
  },
  {
   "cell_type": "code",
   "execution_count": null,
   "id": "d7104b1d",
   "metadata": {},
   "outputs": [],
   "source": [
    "data_ccxt_client"
   ]
  },
  {
   "cell_type": "markdown",
   "id": "be6c5bd3",
   "metadata": {},
   "source": [
    "# Current implemented Talos client"
   ]
  },
  {
   "cell_type": "code",
   "execution_count": null,
   "id": "87f6c1f2",
   "metadata": {},
   "outputs": [],
   "source": [
    "# Initialize Talos client.\n",
    "root_dir_talos = \"s3://cryptokaizen-data/historical\"\n",
    "aws_profile_talos = \"ck\"\n",
    "talos_client = imvtdctacl.TalosParquetByTileClient(root_dir_talos, aws_profile=aws_profile_talos)"
   ]
  },
  {
   "cell_type": "code",
   "execution_count": null,
   "id": "1bc60762",
   "metadata": {},
   "outputs": [],
   "source": [
    "data_talos_client = get_data_from_talos_client(\"2022-01-01 10:00:45\", \"2022-01-01 10:07:15\")\n",
    "data_talos_client.head(3)"
   ]
  },
  {
   "cell_type": "code",
   "execution_count": null,
   "id": "35d52dd4",
   "metadata": {},
   "outputs": [],
   "source": []
  }
 ],
 "metadata": {
  "kernelspec": {
   "display_name": "Python 3 (ipykernel)",
   "language": "python",
   "name": "python3"
  },
  "language_info": {
   "codemirror_mode": {
    "name": "ipython",
    "version": 3
   },
   "file_extension": ".py",
   "mimetype": "text/x-python",
   "name": "python",
   "nbconvert_exporter": "python",
   "pygments_lexer": "ipython3"
  },
  "toc": {
   "base_numbering": 1,
   "nav_menu": {},
   "number_sections": true,
   "sideBar": true,
   "skip_h1_title": false,
   "title_cell": "Table of Contents",
   "title_sidebar": "Contents",
   "toc_cell": false,
   "toc_position": {},
   "toc_section_display": true,
   "toc_window_display": false
  }
 },
 "nbformat": 4,
 "nbformat_minor": 5
}
