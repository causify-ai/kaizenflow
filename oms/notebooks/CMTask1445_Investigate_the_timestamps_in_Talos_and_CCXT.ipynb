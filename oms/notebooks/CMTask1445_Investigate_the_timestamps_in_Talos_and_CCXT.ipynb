{
 "cells": [
  {
   "cell_type": "markdown",
   "id": "e5cc8564",
   "metadata": {},
   "source": [
    "## Imports"
   ]
  },
  {
   "cell_type": "code",
   "execution_count": null,
   "id": "08e20a22",
   "metadata": {
    "lines_to_next_cell": 1
   },
   "outputs": [],
   "source": [
    "import pandas as pd\n",
    "\n",
    "import helpers.hdatetime as hdateti\n",
    "import helpers.hsql as hsql\n",
    "import im_v2.ccxt.data.client.ccxt_clients as imvcdccccl\n",
    "import im_v2.im_lib_tasks as imvimlita\n",
    "import im_v2.talos.data.client.talos_clients as imvtdctacl\n",
    "import im_v2.talos.data.extract.exchange_class as imvtdeexcl"
   ]
  },
  {
   "cell_type": "markdown",
   "id": "2a8e94d4",
   "metadata": {},
   "source": [
    "## Functions"
   ]
  },
  {
   "cell_type": "code",
   "execution_count": null,
   "id": "e54a1e37",
   "metadata": {},
   "outputs": [],
   "source": [
    "def get_data_from_talos_db(start_time, end_time):\n",
    "    # Set start and end dates.\n",
    "    start_timestamp = pd.Timestamp(start_time)\n",
    "    end_timestamp = pd.Timestamp(end_time)\n",
    "\n",
    "    # Load the data.\n",
    "    df = talos_extract.download_ohlcv_data(\n",
    "        currency_pair=\"BTC-USD\",\n",
    "        exchange=\"binance\",\n",
    "        start_timestamp=start_timestamp,\n",
    "        end_timestamp=end_timestamp,\n",
    "        bar_per_iteration=100,\n",
    "    )\n",
    "    df[\"timestamp\"] = df[\"timestamp\"].apply(\n",
    "        lambda x: hdateti.convert_unix_epoch_to_timestamp(x)\n",
    "    )\n",
    "    return df\n",
    "\n",
    "\n",
    "def get_data_from_ccxt_client(start_time, end_time):\n",
    "    # Specify the params.\n",
    "    full_symbol_binance = \"binance::BTC_USDT\"\n",
    "    start_time = pd.to_datetime(start_time)\n",
    "    end_time = pd.to_datetime(end_time)\n",
    "    df = ccxt_client._read_data_for_one_symbol(\n",
    "        full_symbol_binance, start_time, end_time\n",
    "    )\n",
    "    return df\n",
    "\n",
    "\n",
    "def get_data_from_talos_client(start_time, end_time):\n",
    "    full_symbol_binance = [\"binance::BTC_USDT\"]\n",
    "    df = talos_client.read_data(\n",
    "        full_symbol_binance,\n",
    "        start_ts=pd.Timestamp(start_time),\n",
    "        end_ts=pd.Timestamp(end_time),\n",
    "    )\n",
    "    return df"
   ]
  },
  {
   "cell_type": "markdown",
   "id": "4f13e6a4",
   "metadata": {},
   "source": [
    "# Talos DB"
   ]
  },
  {
   "cell_type": "code",
   "execution_count": null,
   "id": "4cedc57c",
   "metadata": {},
   "outputs": [],
   "source": [
    "# Initialize extractor.\n",
    "talos_extract = imvtdeexcl.TalosExchange(\"sandbox\")"
   ]
  },
  {
   "cell_type": "code",
   "execution_count": null,
   "id": "35070f6e",
   "metadata": {},
   "outputs": [],
   "source": [
    "data_talos_db = get_data_from_talos_db(\n",
    "    \"2022-01-01T10:00:24.000000Z\", \"2022-01-01T10:08:00.000000Z\"\n",
    ")\n",
    "display(data_talos_db.head(3))\n",
    "display(data_talos_db.tail(3))"
   ]
  },
  {
   "cell_type": "markdown",
   "id": "ff02067b",
   "metadata": {},
   "source": [
    "### Talos query summary"
   ]
  },
  {
   "cell_type": "markdown",
   "id": "d890516a",
   "metadata": {},
   "source": [
    "Beginning\n",
    "- If proposing query for __a complete minute__ (e.g., __10:00:00__) - it starts with __exactly mentioned timestamp__ (i.e., __10:00:00__).\n",
    "- If proposing query for __an incomplete minute__ (e.g., __10:00:36 or 10:00:24__) - it starts with __mentioned timestamp + 1min__ (i.e., __10:01:00__).\n",
    "   - Since the ohlcv output is blank (equal to zero), it's hard to understand whether volume or prices data changes during incomplete minute query.\n",
    "\n",
    "End\n",
    "- If proposing query for __a complete minute__ (e.g., __10:07:00__) - it starts with __exactly mentioned timestamp - 1min__ (i.e., __10:06:00__).\n",
    "- If proposing query for __an incomplete minute__ (e.g., __10:07:36 or 10:07:24__) - it starts with __exactly mentioned timestamp__ (i.e., __10:07:00__).\n",
    "- If proposing query for __previous minute + 1min__ (e.g., __10:08:00__) - it starts with __exactly mentioned timestamp - 1min__ (i.e., __10:07:00__)."
   ]
  },
  {
   "cell_type": "markdown",
   "id": "2a66d51a",
   "metadata": {},
   "source": [
    "# Current CCXT client"
   ]
  },
  {
   "cell_type": "code",
   "execution_count": null,
   "id": "40b50275",
   "metadata": {},
   "outputs": [],
   "source": [
    "# Specify the params.\n",
    "vendor = \"CCXT\"\n",
    "universe_version = \"v3\"\n",
    "root_dir = \"s3://alphamatic-data/data\"\n",
    "extension = \"csv.gz\"\n",
    "aws_profile_ccxt = \"am\"\n",
    "# Initialize CCXT client.\n",
    "ccxt_client = imvcdccccl.CcxtCddCsvParquetByAssetClient(\n",
    "    vendor,\n",
    "    universe_version,\n",
    "    True,\n",
    "    root_dir,\n",
    "    extension,\n",
    "    aws_profile=aws_profile_ccxt,\n",
    ")"
   ]
  },
  {
   "cell_type": "code",
   "execution_count": null,
   "id": "79fd5665",
   "metadata": {
    "run_control": {
     "marked": false
    }
   },
   "outputs": [],
   "source": [
    "data_ccxt_client = get_data_from_ccxt_client(\n",
    "    \"2020-01-01 10:00:02\", \"2020-01-01 10:08:00\"\n",
    ")"
   ]
  },
  {
   "cell_type": "code",
   "execution_count": null,
   "id": "8630c2ae",
   "metadata": {},
   "outputs": [],
   "source": [
    "display(data_ccxt_client.head(3))\n",
    "display(data_ccxt_client.tail(3))"
   ]
  },
  {
   "cell_type": "markdown",
   "id": "9fc64371",
   "metadata": {},
   "source": [
    "### Current CCXT client summary"
   ]
  },
  {
   "cell_type": "markdown",
   "id": "bb5616f0",
   "metadata": {},
   "source": [
    "Beginning\n",
    "- If proposing query for __a complete minute__ (e.g., __10:00:00__) - it starts with __exactly mentioned timestamp__ (i.e., __10:00:00+00:00__).\n",
    "- If proposing query for __an incomplete minute__ (e.g., __10:00:36 or 10:00:24__) - it starts with __mentioned timestamp + 1min__ (i.e., __10:01:00__).\n",
    "   - - Since the ohlcv output is available, one can check through volume or prices data that changing the query within a minute (e.g., 10:00:02 or 10:00:45) doesn't affect the numbers, so it means that the timestamp indicates the end of time period.\n",
    "\n",
    "End\n",
    "- If proposing query for __a complete minute__ (e.g., __10:07:00__) - it starts with __exactly mentioned timestamp__ (i.e., 10:07:00).\n",
    "- If proposing query for __an incomplete minute__ (e.g., __10:07:36 or 10:07:24__) - it starts with __exactly mentioned timestamp__ (i.e., __10:07:00__).\n",
    "- If proposing query for __previous minute + 1min__ (e.g., __10:08:00__) - it starts with __exactly mentioned timestamp__ (i.e., __10:08:00__)."
   ]
  },
  {
   "cell_type": "markdown",
   "id": "48e5e315",
   "metadata": {},
   "source": [
    "# Current implemented Talos client"
   ]
  },
  {
   "cell_type": "code",
   "execution_count": null,
   "id": "77605031",
   "metadata": {},
   "outputs": [],
   "source": [
    "env_file = imvimlita.get_db_env_path(\"dev\")\n",
    "universe_version = \"v1\"\n",
    "connection_params = hsql.get_connection_info_from_env_file(env_file)\n",
    "connection = hsql.get_connection(*connection_params)\n",
    "table_name = \"talos_ohlcv\"\n",
    "talos_client = imvtdctacl.RealTimeSqlTalosClient(\n",
    "    universe_version, True, connection, table_name\n",
    ")"
   ]
  },
  {
   "cell_type": "code",
   "execution_count": null,
   "id": "72c3e106",
   "metadata": {},
   "outputs": [],
   "source": [
    "df = get_data_from_talos_client(\n",
    "    \"2022-03-16 22:47:50+0000\", \"2022-03-16 22:54:00+0000\"\n",
    ")\n",
    "display(df.head(3))\n",
    "display(df.tail(3))"
   ]
  },
  {
   "cell_type": "markdown",
   "id": "23e6d877",
   "metadata": {},
   "source": [
    "### Talos client summary"
   ]
  },
  {
   "cell_type": "markdown",
   "id": "b1840587",
   "metadata": {},
   "source": [
    "Beginning\n",
    "- If proposing query for __a complete minute__ (e.g., __10:00:00__) - it starts with __exactly mentioned timestamp__ (i.e., __10:00:00__).\n",
    "- If proposing query for __an incomplete minute__ (e.g., __10:00:36 or 10:00:24__) - it starts with __mentioned timestamp + 1min__ (i.e., __10:01:00__).\n",
    "   - Since the ohlcv output is available, one can check through volume or prices data that changing the query within a minute (e.g., 10:00:02 or 10:00:45) doesn't affect the numbers, so it means that the timestamp indicates end of time period.\n",
    "\n",
    "End\n",
    "- If proposing query for __a complete minute__ (e.g., __10:07:00__) - it starts with __exactly mentioned timestamp__ (i.e., __10:07:00__).\n",
    "- If proposing query for __an incomplete minute__ (e.g., __10:07:36 or 10:07:24__) - it starts with __exactly mentioned timestamp__ (i.e., __10:07:00__).\n",
    "- If proposing query for __previous minute +1min__ (e.g., __10:08:00__) - it starts with __exactly mentioned timestamp__ (i.e., __10:08:00__)."
   ]
  }
 ],
 "metadata": {
  "kernelspec": {
   "display_name": "Python 3 (ipykernel)",
   "language": "python",
   "name": "python3"
  },
  "language_info": {
   "codemirror_mode": {
    "name": "ipython",
    "version": 3
   },
   "file_extension": ".py",
   "mimetype": "text/x-python",
   "name": "python",
   "nbconvert_exporter": "python",
   "pygments_lexer": "ipython3"
  },
  "toc": {
   "base_numbering": 1,
   "nav_menu": {},
   "number_sections": true,
   "sideBar": true,
   "skip_h1_title": false,
   "title_cell": "Table of Contents",
   "title_sidebar": "Contents",
   "toc_cell": false,
   "toc_position": {},
   "toc_section_display": true,
   "toc_window_display": false
  }
 },
 "nbformat": 4,
 "nbformat_minor": 5
}
