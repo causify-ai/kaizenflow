{
 "cells": [
  {
   "cell_type": "markdown",
   "id": "e5cc8564",
   "metadata": {},
   "source": [
    "## Imports"
   ]
  },
  {
   "cell_type": "code",
   "execution_count": 1,
   "id": "08e20a22",
   "metadata": {
    "ExecuteTime": {
     "end_time": "2022-03-19T16:39:54.403932Z",
     "start_time": "2022-03-19T16:39:53.659962Z"
    },
    "lines_to_next_cell": 1
   },
   "outputs": [],
   "source": [
    "import pandas as pd\n",
    "\n",
    "import helpers.hdatetime as hdateti\n",
    "import helpers.hsql as hsql\n",
    "import im_v2.ccxt.data.client.ccxt_clients as imvcdccccl\n",
    "import im_v2.im_lib_tasks as imvimlita\n",
    "import im_v2.talos.data.client.talos_clients as imvtdctacl\n",
    "import im_v2.talos.data.extract.exchange_class as imvtdeexcl"
   ]
  },
  {
   "cell_type": "markdown",
   "id": "2a8e94d4",
   "metadata": {},
   "source": [
    "## Functions"
   ]
  },
  {
   "cell_type": "code",
   "execution_count": 2,
   "id": "e54a1e37",
   "metadata": {
    "ExecuteTime": {
     "end_time": "2022-03-19T16:39:55.756406Z",
     "start_time": "2022-03-19T16:39:55.746935Z"
    }
   },
   "outputs": [],
   "source": [
    "def get_data_from_talos_db(start_time, end_time):\n",
    "    # Set start and end dates.\n",
    "    start_timestamp = pd.Timestamp(start_time)\n",
    "    end_timestamp = pd.Timestamp(end_time)\n",
    "\n",
    "    # Load the data.\n",
    "    df = talos_extract.download_ohlcv_data(\n",
    "        currency_pair=\"BTC-USD\",\n",
    "        exchange=\"binance\",\n",
    "        start_timestamp=start_timestamp,\n",
    "        end_timestamp=end_timestamp,\n",
    "        bar_per_iteration=100,\n",
    "    )\n",
    "    df[\"timestamp\"] = df[\"timestamp\"].apply(\n",
    "        lambda x: hdateti.convert_unix_epoch_to_timestamp(x)\n",
    "    )\n",
    "    return df\n",
    "\n",
    "\n",
    "def get_data_from_ccxt_client(start_time, end_time):\n",
    "    # Specify the params.\n",
    "    full_symbol_binance = \"binance::BTC_USDT\"\n",
    "    start_time = pd.to_datetime(start_time)\n",
    "    end_time = pd.to_datetime(end_time)\n",
    "    df = ccxt_client._read_data_for_one_symbol(\n",
    "        full_symbol_binance, start_time, end_time\n",
    "    )\n",
    "    return df\n",
    "\n",
    "\n",
    "def get_data_from_talos_client(start_time, end_time):\n",
    "    full_symbol_binance = [\"binance::BTC_USDT\"]\n",
    "    df = talos_client.read_data(\n",
    "        full_symbol_binance,\n",
    "        start_ts=pd.Timestamp(start_time),\n",
    "        end_ts=pd.Timestamp(end_time),\n",
    "    )\n",
    "    return df"
   ]
  },
  {
   "cell_type": "markdown",
   "id": "4f13e6a4",
   "metadata": {},
   "source": [
    "# Talos DB"
   ]
  },
  {
   "cell_type": "code",
   "execution_count": 3,
   "id": "4cedc57c",
   "metadata": {
    "ExecuteTime": {
     "end_time": "2022-03-19T16:39:55.898733Z",
     "start_time": "2022-03-19T16:39:55.759306Z"
    }
   },
   "outputs": [],
   "source": [
    "# Initialize extractor.\n",
    "talos_extract = imvtdeexcl.TalosExchange(\"sandbox\")"
   ]
  },
  {
   "cell_type": "code",
   "execution_count": 4,
   "id": "35070f6e",
   "metadata": {
    "ExecuteTime": {
     "end_time": "2022-03-19T16:39:56.387615Z",
     "start_time": "2022-03-19T16:39:55.901126Z"
    }
   },
   "outputs": [
    {
     "data": {
      "text/html": [
       "<div>\n",
       "<style scoped>\n",
       "    .dataframe tbody tr th:only-of-type {\n",
       "        vertical-align: middle;\n",
       "    }\n",
       "\n",
       "    .dataframe tbody tr th {\n",
       "        vertical-align: top;\n",
       "    }\n",
       "\n",
       "    .dataframe thead th {\n",
       "        text-align: right;\n",
       "    }\n",
       "</style>\n",
       "<table border=\"1\" class=\"dataframe\">\n",
       "  <thead>\n",
       "    <tr style=\"text-align: right;\">\n",
       "      <th></th>\n",
       "      <th>timestamp</th>\n",
       "      <th>open</th>\n",
       "      <th>high</th>\n",
       "      <th>low</th>\n",
       "      <th>close</th>\n",
       "      <th>volume</th>\n",
       "      <th>ticks</th>\n",
       "      <th>end_download_timestamp</th>\n",
       "    </tr>\n",
       "  </thead>\n",
       "  <tbody>\n",
       "    <tr>\n",
       "      <th>0</th>\n",
       "      <td>2022-01-01 10:01:00+00:00</td>\n",
       "      <td>0</td>\n",
       "      <td>0</td>\n",
       "      <td>0</td>\n",
       "      <td>0</td>\n",
       "      <td>0</td>\n",
       "      <td>0</td>\n",
       "      <td>2022-04-11 07:13:41.943377+00:00</td>\n",
       "    </tr>\n",
       "    <tr>\n",
       "      <th>1</th>\n",
       "      <td>2022-01-01 10:02:00+00:00</td>\n",
       "      <td>0</td>\n",
       "      <td>0</td>\n",
       "      <td>0</td>\n",
       "      <td>0</td>\n",
       "      <td>0</td>\n",
       "      <td>0</td>\n",
       "      <td>2022-04-11 07:13:41.943377+00:00</td>\n",
       "    </tr>\n",
       "    <tr>\n",
       "      <th>2</th>\n",
       "      <td>2022-01-01 10:03:00+00:00</td>\n",
       "      <td>0</td>\n",
       "      <td>0</td>\n",
       "      <td>0</td>\n",
       "      <td>0</td>\n",
       "      <td>0</td>\n",
       "      <td>0</td>\n",
       "      <td>2022-04-11 07:13:41.943377+00:00</td>\n",
       "    </tr>\n",
       "  </tbody>\n",
       "</table>\n",
       "</div>"
      ],
      "text/plain": [
       "                  timestamp open high low close volume  ticks  \\\n",
       "0 2022-01-01 10:01:00+00:00    0    0   0     0      0      0   \n",
       "1 2022-01-01 10:02:00+00:00    0    0   0     0      0      0   \n",
       "2 2022-01-01 10:03:00+00:00    0    0   0     0      0      0   \n",
       "\n",
       "             end_download_timestamp  \n",
       "0  2022-04-11 07:13:41.943377+00:00  \n",
       "1  2022-04-11 07:13:41.943377+00:00  \n",
       "2  2022-04-11 07:13:41.943377+00:00  "
      ]
     },
     "metadata": {},
     "output_type": "display_data"
    },
    {
     "data": {
      "text/html": [
       "<div>\n",
       "<style scoped>\n",
       "    .dataframe tbody tr th:only-of-type {\n",
       "        vertical-align: middle;\n",
       "    }\n",
       "\n",
       "    .dataframe tbody tr th {\n",
       "        vertical-align: top;\n",
       "    }\n",
       "\n",
       "    .dataframe thead th {\n",
       "        text-align: right;\n",
       "    }\n",
       "</style>\n",
       "<table border=\"1\" class=\"dataframe\">\n",
       "  <thead>\n",
       "    <tr style=\"text-align: right;\">\n",
       "      <th></th>\n",
       "      <th>timestamp</th>\n",
       "      <th>open</th>\n",
       "      <th>high</th>\n",
       "      <th>low</th>\n",
       "      <th>close</th>\n",
       "      <th>volume</th>\n",
       "      <th>ticks</th>\n",
       "      <th>end_download_timestamp</th>\n",
       "    </tr>\n",
       "  </thead>\n",
       "  <tbody>\n",
       "    <tr>\n",
       "      <th>5</th>\n",
       "      <td>2022-01-01 10:06:00+00:00</td>\n",
       "      <td>0</td>\n",
       "      <td>0</td>\n",
       "      <td>0</td>\n",
       "      <td>0</td>\n",
       "      <td>0</td>\n",
       "      <td>0</td>\n",
       "      <td>2022-04-11 07:13:41.943377+00:00</td>\n",
       "    </tr>\n",
       "    <tr>\n",
       "      <th>6</th>\n",
       "      <td>2022-01-01 10:07:00+00:00</td>\n",
       "      <td>0</td>\n",
       "      <td>0</td>\n",
       "      <td>0</td>\n",
       "      <td>0</td>\n",
       "      <td>0</td>\n",
       "      <td>0</td>\n",
       "      <td>2022-04-11 07:13:41.943377+00:00</td>\n",
       "    </tr>\n",
       "    <tr>\n",
       "      <th>7</th>\n",
       "      <td>2022-01-01 10:08:00+00:00</td>\n",
       "      <td>0</td>\n",
       "      <td>0</td>\n",
       "      <td>0</td>\n",
       "      <td>0</td>\n",
       "      <td>0</td>\n",
       "      <td>0</td>\n",
       "      <td>2022-04-11 07:13:41.943377+00:00</td>\n",
       "    </tr>\n",
       "  </tbody>\n",
       "</table>\n",
       "</div>"
      ],
      "text/plain": [
       "                  timestamp open high low close volume  ticks  \\\n",
       "5 2022-01-01 10:06:00+00:00    0    0   0     0      0      0   \n",
       "6 2022-01-01 10:07:00+00:00    0    0   0     0      0      0   \n",
       "7 2022-01-01 10:08:00+00:00    0    0   0     0      0      0   \n",
       "\n",
       "             end_download_timestamp  \n",
       "5  2022-04-11 07:13:41.943377+00:00  \n",
       "6  2022-04-11 07:13:41.943377+00:00  \n",
       "7  2022-04-11 07:13:41.943377+00:00  "
      ]
     },
     "metadata": {},
     "output_type": "display_data"
    }
   ],
   "source": [
    "data_talos_db = get_data_from_talos_db(\n",
    "    \"2022-01-01T10:00:24.000000Z\", \"2022-01-01T10:08:00.000000Z\"\n",
    ")\n",
    "display(data_talos_db.head(3))\n",
    "display(data_talos_db.tail(3))"
   ]
  },
  {
   "cell_type": "markdown",
   "id": "ff02067b",
   "metadata": {},
   "source": [
    "### Talos query summary"
   ]
  },
  {
   "cell_type": "markdown",
   "id": "d890516a",
   "metadata": {},
   "source": [
    "Beginning\n",
    "- If proposing query for __a complete minute__ (e.g., __10:00:00__) - it starts with __exactly mentioned timestamp__ (i.e., __10:00:00__).\n",
    "- If proposing query for __an incomplete minute__ (e.g., __10:00:36 or 10:00:24__) - it starts with __mentioned timestamp + 1min__ (i.e., __10:01:00__).\n",
    "   - Since the ohlcv output is blank (equal to zero), it's hard to understand whether volume or prices data changes during incomplete minute query.\n",
    "\n",
    "End\n",
    "- If proposing query for __a complete minute__ (e.g., __10:07:00__) - it starts with __exactly mentioned timestamp - 1min__ (i.e., __10:06:00__).\n",
    "- If proposing query for __an incomplete minute__ (e.g., __10:07:36 or 10:07:24__) - it starts with __exactly mentioned timestamp__ (i.e., __10:07:00__).\n",
    "- If proposing query for __previous minute + 1min__ (e.g., __10:08:00__) - it starts with __exactly mentioned timestamp - 1min__ (i.e., __10:07:00__)."
   ]
  },
  {
   "cell_type": "markdown",
   "id": "2a66d51a",
   "metadata": {},
   "source": [
    "# Current CCXT client"
   ]
  },
  {
   "cell_type": "code",
   "execution_count": 5,
   "id": "40b50275",
   "metadata": {
    "ExecuteTime": {
     "end_time": "2022-03-19T16:39:56.637279Z",
     "start_time": "2022-03-19T16:39:56.390053Z"
    }
   },
   "outputs": [],
   "source": [
    "# Specify the params.\n",
    "vendor = \"CCXT\"\n",
    "universe_version = \"v3\"\n",
    "root_dir = \"s3://alphamatic-data/data\"\n",
    "extension = \"csv.gz\"\n",
    "aws_profile_ccxt = \"am\"\n",
    "# Initialize CCXT client.\n",
    "ccxt_client = imvcdccccl.CcxtCddCsvParquetByAssetClient(\n",
    "    vendor,\n",
    "    universe_version,\n",
    "    True,\n",
    "    root_dir,\n",
    "    extension,\n",
    "    aws_profile=aws_profile_ccxt,\n",
    ")"
   ]
  },
  {
   "cell_type": "code",
   "execution_count": 6,
   "id": "79fd5665",
   "metadata": {
    "ExecuteTime": {
     "end_time": "2022-03-19T16:40:04.533623Z",
     "start_time": "2022-03-19T16:39:56.639861Z"
    },
    "run_control": {
     "marked": false
    }
   },
   "outputs": [
    {
     "name": "stdout",
     "output_type": "stream",
     "text": [
      "INFO  Reading data for vendor=`CCXT`, exchange id='binance', currencies='BTC_USDT' from file='s3://alphamatic-data/data/ccxt/20210924/binance/BTC_USDT.csv.gz'...\n"
     ]
    }
   ],
   "source": [
    "data_ccxt_client = get_data_from_ccxt_client(\n",
    "    \"2020-01-01 10:00:02\", \"2020-01-01 10:08:00\"\n",
    ")"
   ]
  },
  {
   "cell_type": "code",
   "execution_count": 7,
   "id": "8630c2ae",
   "metadata": {
    "ExecuteTime": {
     "end_time": "2022-03-19T16:40:04.561081Z",
     "start_time": "2022-03-19T16:40:04.536096Z"
    }
   },
   "outputs": [
    {
     "data": {
      "text/html": [
       "<div>\n",
       "<style scoped>\n",
       "    .dataframe tbody tr th:only-of-type {\n",
       "        vertical-align: middle;\n",
       "    }\n",
       "\n",
       "    .dataframe tbody tr th {\n",
       "        vertical-align: top;\n",
       "    }\n",
       "\n",
       "    .dataframe thead th {\n",
       "        text-align: right;\n",
       "    }\n",
       "</style>\n",
       "<table border=\"1\" class=\"dataframe\">\n",
       "  <thead>\n",
       "    <tr style=\"text-align: right;\">\n",
       "      <th></th>\n",
       "      <th>open</th>\n",
       "      <th>high</th>\n",
       "      <th>low</th>\n",
       "      <th>close</th>\n",
       "      <th>volume</th>\n",
       "    </tr>\n",
       "    <tr>\n",
       "      <th>timestamp</th>\n",
       "      <th></th>\n",
       "      <th></th>\n",
       "      <th></th>\n",
       "      <th></th>\n",
       "      <th></th>\n",
       "    </tr>\n",
       "  </thead>\n",
       "  <tbody>\n",
       "    <tr>\n",
       "      <th>2020-01-01 10:01:00+00:00</th>\n",
       "      <td>7187.12</td>\n",
       "      <td>7190.61</td>\n",
       "      <td>7185.93</td>\n",
       "      <td>7188.86</td>\n",
       "      <td>14.830744</td>\n",
       "    </tr>\n",
       "    <tr>\n",
       "      <th>2020-01-01 10:02:00+00:00</th>\n",
       "      <td>7190.41</td>\n",
       "      <td>7191.88</td>\n",
       "      <td>7188.10</td>\n",
       "      <td>7191.47</td>\n",
       "      <td>10.590978</td>\n",
       "    </tr>\n",
       "    <tr>\n",
       "      <th>2020-01-01 10:03:00+00:00</th>\n",
       "      <td>7191.92</td>\n",
       "      <td>7195.66</td>\n",
       "      <td>7191.59</td>\n",
       "      <td>7194.09</td>\n",
       "      <td>9.576390</td>\n",
       "    </tr>\n",
       "  </tbody>\n",
       "</table>\n",
       "</div>"
      ],
      "text/plain": [
       "                              open     high      low    close     volume\n",
       "timestamp                                                               \n",
       "2020-01-01 10:01:00+00:00  7187.12  7190.61  7185.93  7188.86  14.830744\n",
       "2020-01-01 10:02:00+00:00  7190.41  7191.88  7188.10  7191.47  10.590978\n",
       "2020-01-01 10:03:00+00:00  7191.92  7195.66  7191.59  7194.09   9.576390"
      ]
     },
     "metadata": {},
     "output_type": "display_data"
    },
    {
     "data": {
      "text/html": [
       "<div>\n",
       "<style scoped>\n",
       "    .dataframe tbody tr th:only-of-type {\n",
       "        vertical-align: middle;\n",
       "    }\n",
       "\n",
       "    .dataframe tbody tr th {\n",
       "        vertical-align: top;\n",
       "    }\n",
       "\n",
       "    .dataframe thead th {\n",
       "        text-align: right;\n",
       "    }\n",
       "</style>\n",
       "<table border=\"1\" class=\"dataframe\">\n",
       "  <thead>\n",
       "    <tr style=\"text-align: right;\">\n",
       "      <th></th>\n",
       "      <th>open</th>\n",
       "      <th>high</th>\n",
       "      <th>low</th>\n",
       "      <th>close</th>\n",
       "      <th>volume</th>\n",
       "    </tr>\n",
       "    <tr>\n",
       "      <th>timestamp</th>\n",
       "      <th></th>\n",
       "      <th></th>\n",
       "      <th></th>\n",
       "      <th></th>\n",
       "      <th></th>\n",
       "    </tr>\n",
       "  </thead>\n",
       "  <tbody>\n",
       "    <tr>\n",
       "      <th>2020-01-01 10:06:00+00:00</th>\n",
       "      <td>7194.00</td>\n",
       "      <td>7194.99</td>\n",
       "      <td>7193.63</td>\n",
       "      <td>7194.98</td>\n",
       "      <td>8.034727</td>\n",
       "    </tr>\n",
       "    <tr>\n",
       "      <th>2020-01-01 10:07:00+00:00</th>\n",
       "      <td>7194.99</td>\n",
       "      <td>7196.27</td>\n",
       "      <td>7194.44</td>\n",
       "      <td>7196.17</td>\n",
       "      <td>15.916280</td>\n",
       "    </tr>\n",
       "    <tr>\n",
       "      <th>2020-01-01 10:08:00+00:00</th>\n",
       "      <td>7196.20</td>\n",
       "      <td>7198.08</td>\n",
       "      <td>7195.63</td>\n",
       "      <td>7197.45</td>\n",
       "      <td>7.849214</td>\n",
       "    </tr>\n",
       "  </tbody>\n",
       "</table>\n",
       "</div>"
      ],
      "text/plain": [
       "                              open     high      low    close     volume\n",
       "timestamp                                                               \n",
       "2020-01-01 10:06:00+00:00  7194.00  7194.99  7193.63  7194.98   8.034727\n",
       "2020-01-01 10:07:00+00:00  7194.99  7196.27  7194.44  7196.17  15.916280\n",
       "2020-01-01 10:08:00+00:00  7196.20  7198.08  7195.63  7197.45   7.849214"
      ]
     },
     "metadata": {},
     "output_type": "display_data"
    }
   ],
   "source": [
    "display(data_ccxt_client.head(3))\n",
    "display(data_ccxt_client.tail(3))"
   ]
  },
  {
   "cell_type": "markdown",
   "id": "9fc64371",
   "metadata": {},
   "source": [
    "### Current CCXT client summary"
   ]
  },
  {
   "cell_type": "markdown",
   "id": "bb5616f0",
   "metadata": {},
   "source": [
    "Beginning\n",
    "- If proposing query for __a complete minute__ (e.g., __10:00:00__) - it starts with __exactly mentioned timestamp__ (i.e., __10:00:00+00:00__).\n",
    "- If proposing query for __an incomplete minute__ (e.g., __10:00:36 or 10:00:24__) - it starts with __mentioned timestamp + 1min__ (i.e., __10:01:00__).\n",
    "   - - Since the ohlcv output is available, one can check through volume or prices data that changing the query within a minute (e.g., 10:00:02 or 10:00:45) doesn't affect the numbers, so it means that the timestamp indicates the end of time period.\n",
    "\n",
    "End\n",
    "- If proposing query for __a complete minute__ (e.g., __10:07:00__) - it starts with __exactly mentioned timestamp__ (i.e., 10:07:00).\n",
    "- If proposing query for __an incomplete minute__ (e.g., __10:07:36 or 10:07:24__) - it starts with __exactly mentioned timestamp__ (i.e., __10:07:00__).\n",
    "- If proposing query for __previous minute + 1min__ (e.g., __10:08:00__) - it starts with __exactly mentioned timestamp__ (i.e., __10:08:00__)."
   ]
  },
  {
   "cell_type": "markdown",
   "id": "48e5e315",
   "metadata": {},
   "source": [
    "# Current implemented Talos client"
   ]
  },
  {
   "cell_type": "code",
   "execution_count": 8,
   "id": "77605031",
   "metadata": {
    "ExecuteTime": {
     "end_time": "2022-03-19T16:40:04.568926Z",
     "start_time": "2022-03-19T16:40:04.564436Z"
    }
   },
   "outputs": [],
   "source": [
    "env_file = imvimlita.get_db_env_path(\"dev\")\n",
    "universe_version = \"v1\"\n",
    "connection_params = hsql.get_connection_info_from_env_file(env_file)\n",
    "connection = hsql.get_connection(*connection_params)\n",
    "table_name = \"talos_ohlcv\"\n",
    "talos_client = imvtdctacl.RealTimeSqlTalosClient(\n",
    "    universe_version, True, connection, table_name\n",
    ")"
   ]
  },
  {
   "cell_type": "code",
   "execution_count": 9,
   "id": "72c3e106",
   "metadata": {},
   "outputs": [
    {
     "data": {
      "text/html": [
       "<div>\n",
       "<style scoped>\n",
       "    .dataframe tbody tr th:only-of-type {\n",
       "        vertical-align: middle;\n",
       "    }\n",
       "\n",
       "    .dataframe tbody tr th {\n",
       "        vertical-align: top;\n",
       "    }\n",
       "\n",
       "    .dataframe thead th {\n",
       "        text-align: right;\n",
       "    }\n",
       "</style>\n",
       "<table border=\"1\" class=\"dataframe\">\n",
       "  <thead>\n",
       "    <tr style=\"text-align: right;\">\n",
       "      <th></th>\n",
       "      <th>open</th>\n",
       "      <th>high</th>\n",
       "      <th>low</th>\n",
       "      <th>close</th>\n",
       "      <th>volume</th>\n",
       "      <th>full_symbol</th>\n",
       "    </tr>\n",
       "    <tr>\n",
       "      <th>timestamp</th>\n",
       "      <th></th>\n",
       "      <th></th>\n",
       "      <th></th>\n",
       "      <th></th>\n",
       "      <th></th>\n",
       "      <th></th>\n",
       "    </tr>\n",
       "  </thead>\n",
       "  <tbody>\n",
       "    <tr>\n",
       "      <th>2022-03-16 22:48:00+00:00</th>\n",
       "      <td>40927.09</td>\n",
       "      <td>40953.20</td>\n",
       "      <td>40927.08</td>\n",
       "      <td>40945.00</td>\n",
       "      <td>21.30496</td>\n",
       "      <td>binance::BTC_USDT</td>\n",
       "    </tr>\n",
       "    <tr>\n",
       "      <th>2022-03-16 22:49:00+00:00</th>\n",
       "      <td>40945.00</td>\n",
       "      <td>40945.01</td>\n",
       "      <td>40863.09</td>\n",
       "      <td>40873.47</td>\n",
       "      <td>47.10019</td>\n",
       "      <td>binance::BTC_USDT</td>\n",
       "    </tr>\n",
       "    <tr>\n",
       "      <th>2022-03-16 22:50:00+00:00</th>\n",
       "      <td>40873.46</td>\n",
       "      <td>40900.14</td>\n",
       "      <td>40873.46</td>\n",
       "      <td>40889.01</td>\n",
       "      <td>26.09286</td>\n",
       "      <td>binance::BTC_USDT</td>\n",
       "    </tr>\n",
       "  </tbody>\n",
       "</table>\n",
       "</div>"
      ],
      "text/plain": [
       "                               open      high       low     close    volume  \\\n",
       "timestamp                                                                     \n",
       "2022-03-16 22:48:00+00:00  40927.09  40953.20  40927.08  40945.00  21.30496   \n",
       "2022-03-16 22:49:00+00:00  40945.00  40945.01  40863.09  40873.47  47.10019   \n",
       "2022-03-16 22:50:00+00:00  40873.46  40900.14  40873.46  40889.01  26.09286   \n",
       "\n",
       "                                 full_symbol  \n",
       "timestamp                                     \n",
       "2022-03-16 22:48:00+00:00  binance::BTC_USDT  \n",
       "2022-03-16 22:49:00+00:00  binance::BTC_USDT  \n",
       "2022-03-16 22:50:00+00:00  binance::BTC_USDT  "
      ]
     },
     "metadata": {},
     "output_type": "display_data"
    },
    {
     "data": {
      "text/html": [
       "<div>\n",
       "<style scoped>\n",
       "    .dataframe tbody tr th:only-of-type {\n",
       "        vertical-align: middle;\n",
       "    }\n",
       "\n",
       "    .dataframe tbody tr th {\n",
       "        vertical-align: top;\n",
       "    }\n",
       "\n",
       "    .dataframe thead th {\n",
       "        text-align: right;\n",
       "    }\n",
       "</style>\n",
       "<table border=\"1\" class=\"dataframe\">\n",
       "  <thead>\n",
       "    <tr style=\"text-align: right;\">\n",
       "      <th></th>\n",
       "      <th>open</th>\n",
       "      <th>high</th>\n",
       "      <th>low</th>\n",
       "      <th>close</th>\n",
       "      <th>volume</th>\n",
       "      <th>full_symbol</th>\n",
       "    </tr>\n",
       "    <tr>\n",
       "      <th>timestamp</th>\n",
       "      <th></th>\n",
       "      <th></th>\n",
       "      <th></th>\n",
       "      <th></th>\n",
       "      <th></th>\n",
       "      <th></th>\n",
       "    </tr>\n",
       "  </thead>\n",
       "  <tbody>\n",
       "    <tr>\n",
       "      <th>2022-03-16 22:52:00+00:00</th>\n",
       "      <td>40922.01</td>\n",
       "      <td>40938.95</td>\n",
       "      <td>40922.00</td>\n",
       "      <td>40930.42</td>\n",
       "      <td>5.54002</td>\n",
       "      <td>binance::BTC_USDT</td>\n",
       "    </tr>\n",
       "    <tr>\n",
       "      <th>2022-03-16 22:53:00+00:00</th>\n",
       "      <td>40930.00</td>\n",
       "      <td>40930.14</td>\n",
       "      <td>40889.02</td>\n",
       "      <td>40903.37</td>\n",
       "      <td>13.82792</td>\n",
       "      <td>binance::BTC_USDT</td>\n",
       "    </tr>\n",
       "    <tr>\n",
       "      <th>2022-03-16 22:54:00+00:00</th>\n",
       "      <td>40904.00</td>\n",
       "      <td>40906.99</td>\n",
       "      <td>40877.15</td>\n",
       "      <td>40893.66</td>\n",
       "      <td>12.28861</td>\n",
       "      <td>binance::BTC_USDT</td>\n",
       "    </tr>\n",
       "  </tbody>\n",
       "</table>\n",
       "</div>"
      ],
      "text/plain": [
       "                               open      high       low     close    volume  \\\n",
       "timestamp                                                                     \n",
       "2022-03-16 22:52:00+00:00  40922.01  40938.95  40922.00  40930.42   5.54002   \n",
       "2022-03-16 22:53:00+00:00  40930.00  40930.14  40889.02  40903.37  13.82792   \n",
       "2022-03-16 22:54:00+00:00  40904.00  40906.99  40877.15  40893.66  12.28861   \n",
       "\n",
       "                                 full_symbol  \n",
       "timestamp                                     \n",
       "2022-03-16 22:52:00+00:00  binance::BTC_USDT  \n",
       "2022-03-16 22:53:00+00:00  binance::BTC_USDT  \n",
       "2022-03-16 22:54:00+00:00  binance::BTC_USDT  "
      ]
     },
     "metadata": {},
     "output_type": "display_data"
    }
   ],
   "source": [
    "df = get_data_from_talos_client(\n",
    "    \"2022-03-16 22:47:50+0000\", \"2022-03-16 22:54:00+0000\"\n",
    ")\n",
    "display(df.head(3))\n",
    "display(df.tail(3))"
   ]
  },
  {
   "cell_type": "markdown",
   "id": "23e6d877",
   "metadata": {},
   "source": [
    "### Talos client summary"
   ]
  },
  {
   "cell_type": "markdown",
   "id": "b1840587",
   "metadata": {},
   "source": [
    "Beginning\n",
    "- If proposing query for __a complete minute__ (e.g., __10:00:00__) - it starts with __exactly mentioned timestamp__ (i.e., __10:00:00__).\n",
    "- If proposing query for __an incomplete minute__ (e.g., __10:00:36 or 10:00:24__) - it starts with __mentioned timestamp + 1min__ (i.e., __10:01:00__).\n",
    "   - Since the ohlcv output is available, one can check through volume or prices data that changing the query within a minute (e.g., 10:00:02 or 10:00:45) doesn't affect the numbers, so it means that the timestamp indicates end of time period.\n",
    "\n",
    "End\n",
    "- If proposing query for __a complete minute__ (e.g., __10:07:00__) - it starts with __exactly mentioned timestamp__ (i.e., __10:07:00__).\n",
    "- If proposing query for __an incomplete minute__ (e.g., __10:07:36 or 10:07:24__) - it starts with __exactly mentioned timestamp__ (i.e., __10:07:00__).\n",
    "- If proposing query for __previous minute +1min__ (e.g., __10:08:00__) - it starts with __exactly mentioned timestamp__ (i.e., __10:08:00__)."
   ]
  }
 ],
 "metadata": {
  "kernelspec": {
   "display_name": "Python 3 (ipykernel)",
   "language": "python",
   "name": "python3"
  },
  "language_info": {
   "codemirror_mode": {
    "name": "ipython",
    "version": 3
   },
   "file_extension": ".py",
   "mimetype": "text/x-python",
   "name": "python",
   "nbconvert_exporter": "python",
   "pygments_lexer": "ipython3",
   "version": "3.8.10"
  },
  "toc": {
   "base_numbering": 1,
   "nav_menu": {},
   "number_sections": true,
   "sideBar": true,
   "skip_h1_title": false,
   "title_cell": "Table of Contents",
   "title_sidebar": "Contents",
   "toc_cell": false,
   "toc_position": {},
   "toc_section_display": true,
   "toc_window_display": false
  }
 },
 "nbformat": 4,
 "nbformat_minor": 5
}
