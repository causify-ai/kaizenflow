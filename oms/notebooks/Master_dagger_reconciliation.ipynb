{
 "cells": [
  {
   "cell_type": "markdown",
   "id": "039ff921",
   "metadata": {},
   "source": [
    "Given the output of the production / simulation DAG\n",
    "- compute the research PnL / output with the ForecastEvaluator from DAG\n",
    "- compare production portfolio PnL / output"
   ]
  },
  {
   "cell_type": "code",
   "execution_count": null,
   "id": "7efc8585",
   "metadata": {},
   "outputs": [],
   "source": [
    "%load_ext autoreload\n",
    "%autoreload 2\n",
    "%matplotlib inline\n",
    "\n",
    "import logging\n",
    "import os\n",
    "\n",
    "import pandas as pd\n",
    "\n",
    "import core.config as cconfig\n",
    "import core.plotting as coplotti\n",
    "import dataflow.model as dtfmod\n",
    "import helpers.hdbg as hdbg\n",
    "import helpers.henv as henv\n",
    "import helpers.hpandas as hpandas\n",
    "import helpers.hprint as hprint\n",
    "import oms"
   ]
  },
  {
   "cell_type": "code",
   "execution_count": null,
   "id": "8550d209",
   "metadata": {},
   "outputs": [],
   "source": [
    "hdbg.init_logger(verbosity=logging.INFO)\n",
    "\n",
    "_LOG = logging.getLogger(__name__)\n",
    "\n",
    "_LOG.info(\"%s\", henv.get_system_signature()[0])\n",
    "\n",
    "hprint.config_notebook()"
   ]
  },
  {
   "cell_type": "code",
   "execution_count": null,
   "id": "7cf5d6ae",
   "metadata": {},
   "outputs": [],
   "source": [
    "# find /share/data/cf_production/CF_2022_09_08 -name \"cf_prod_system_log_dir\" -type d\n",
    "# /share/data/cf_production/CF_2022_09_08/job-sasm_job-jobid-1002410338/user_executable_run_0-1000005273093/cf_prod_system_log_dir\n",
    "\n",
    "root_dir = (\n",
    "    # \"/data/tmp/AmpTask2534_Prod_reconciliation_20220901/system_log_dir.prod\"\n",
    "    \"/data/cf_production/20220914/job.1002436966/job-sasm_job-jobid-1002436966/user_executable_run_0-1000005393900/cf_prod_system_log_dir\"\n",
    ")\n",
    "# root_dir = \"/app/system_log_dir\""
   ]
  },
  {
   "cell_type": "code",
   "execution_count": null,
   "id": "cab0cad3",
   "metadata": {},
   "outputs": [],
   "source": [
    "date = \"2022-09-14\"\n",
    "start_timestamp = pd.Timestamp(date + \" 10:15:00\", tz=\"America/New_York\")\n",
    "_LOG.info(\"start_timestamp=%s\", start_timestamp)\n",
    "end_timestamp = pd.Timestamp(date + \" 15:45:00\", tz=\"America/New_York\")\n",
    "_LOG.info(\"end_timestamp=%s\", start_timestamp)"
   ]
  },
  {
   "cell_type": "code",
   "execution_count": null,
   "id": "d617f759",
   "metadata": {},
   "outputs": [],
   "source": [
    "# hdbg.dassert_dir_exists(root_dir)\n",
    "dict_ = {\n",
    "    \"freq\": \"15T\",\n",
    "    \"start_timestamp\": start_timestamp,\n",
    "    \"end_timestamp\": end_timestamp,\n",
    "}\n",
    "#\n",
    "config = cconfig.Config.from_dict(dict_)\n",
    "display(config)"
   ]
  },
  {
   "cell_type": "code",
   "execution_count": null,
   "id": "73777273",
   "metadata": {},
   "outputs": [],
   "source": []
  },
  {
   "cell_type": "markdown",
   "id": "88daac4e",
   "metadata": {},
   "source": [
    "# Load DAG IO"
   ]
  },
  {
   "cell_type": "code",
   "execution_count": null,
   "id": "cf8e92ee",
   "metadata": {},
   "outputs": [],
   "source": [
    "config_file_name = f\"{root_dir}/system_config.output.txt\"\n",
    "print(config_file_name)\n",
    "!cat {config_file_name}"
   ]
  },
  {
   "cell_type": "code",
   "execution_count": null,
   "id": "67456490",
   "metadata": {},
   "outputs": [],
   "source": [
    "dag_dir = os.path.join(root_dir, \"dag/node_io/node_io.data\")\n",
    "print(dag_dir)\n",
    "hdbg.dassert_dir_exists(dag_dir)"
   ]
  },
  {
   "cell_type": "code",
   "execution_count": null,
   "id": "153d6bbe",
   "metadata": {
    "lines_to_next_cell": 2
   },
   "outputs": [],
   "source": [
    "stage = \"0.read_data\"\n",
    "target_cols = [\n",
    "    \"ask\",\n",
    "    \"bid\",\n",
    "    \"close\",\n",
    "    \"day_num_spread\",\n",
    "    \"day_spread\",\n",
    "    \"high\",\n",
    "    \"low\",\n",
    "    \"notional\",\n",
    "    \"open\",\n",
    "    \"sided_ask_count\",\n",
    "    \"sided_bid_count\",\n",
    "    \"start_time\",\n",
    "    \"volume\",\n",
    "]\n",
    "# stage = \"2.zscore\"\n",
    "stage = \"7.process_forecasts\"\n",
    "target_cols = [\n",
    "    \"close\",\n",
    "    \"close_vwap\",\n",
    "    \"day_num_spread\",\n",
    "    \"day_spread\",\n",
    "    \"garman_klass_vol\",\n",
    "    \"high\",\n",
    "    \"low\",\n",
    "    \"notional\",\n",
    "    \"open\",\n",
    "    \"prediction\",\n",
    "    \"twap\",\n",
    "    \"volume\",\n",
    "]\n",
    "timestamp = \"20220914_154500\"\n",
    "\n",
    "file_name = f\"predict.{stage}.df_out.{timestamp}.csv\"\n",
    "file_name = os.path.join(dag_dir, file_name)\n",
    "print(file_name)\n",
    "dag_df = pd.read_csv(file_name, parse_dates=True, index_col=0, header=[0, 1])\n",
    "\n",
    "# dag_df = dag_df[start_timestamp:end_timestamp]\n",
    "\n",
    "display(dag_df.head(3))\n",
    "\n",
    "# print(dag_df.columns.levels[0])\n",
    "# print(sim_dag_df.columns.levels[0])\n",
    "# dag_df.drop(labels=[\"end_time\"], axis=1, level=0, inplace=True, errors=\"raise\")\n",
    "asset_ids = dag_df.columns.levels[1].tolist()\n",
    "# for col in dag_df.columns:\n",
    "#     if col[0] in target_cols:\n",
    "#     columns.append()\n",
    "import itertools\n",
    "\n",
    "columns = list(itertools.product(target_cols, asset_ids))\n",
    "dag_df = dag_df[pd.MultiIndex.from_tuples(columns)].copy()\n",
    "hpandas.df_to_str(dag_df, log_level=logging.INFO)\n",
    "dag_df.to_csv(\"prod_tmp.csv\")\n",
    "dag_df = pd.read_csv(\"prod_tmp.csv\", index_col=0, header=[0, 1])\n",
    "\n",
    "asset_ids = map(int, asset_ids)\n",
    "columns = list(itertools.product(target_cols, asset_ids))\n",
    "columns = pd.MultiIndex.from_tuples(columns)\n",
    "dag_df.columns = columns\n",
    "\n",
    "dag_df.index = pd.to_datetime(dag_df.index)\n",
    "dag_df.index = dag_df.index.tz_convert(\"America/New_York\")"
   ]
  },
  {
   "cell_type": "code",
   "execution_count": null,
   "id": "8fbc3fae",
   "metadata": {},
   "outputs": [],
   "source": [
    "display(dag_df)"
   ]
  },
  {
   "cell_type": "markdown",
   "id": "6253b241",
   "metadata": {},
   "source": [
    "# Run ForecastEvaluator (vectorized research flow)"
   ]
  },
  {
   "cell_type": "code",
   "execution_count": null,
   "id": "4e041773",
   "metadata": {},
   "outputs": [],
   "source": [
    "# From process_forecasts_dict\n",
    "#   process_forecasts_dict:\n",
    "#     order_config:\n",
    "#       order_type: price@twap\n",
    "#       order_duration_in_mins: 15\n",
    "#     optimizer_config:\n",
    "#       backend: pomo\n",
    "#       params:\n",
    "#         style: cross_sectional\n",
    "#         kwargs:\n",
    "#           bulk_frac_to_remove: 0.0\n",
    "#           target_gmv: 20000.0\n",
    "\n",
    "# From process_forecasts_node_dict\n",
    "#   prediction_col: prediction\n",
    "#  volatility_col: garman_klass_vol\n",
    "\n",
    "fep_dict = {\n",
    "    \"price_col\": \"close_vwap\",\n",
    "    \"prediction_col\": \"prediction\",\n",
    "    \"volatility_col\": \"garman_klass_vol\",\n",
    "    #\n",
    "    \"quantization\": \"nearest_share\",\n",
    "    \"burn_in_bars\": 3,\n",
    "    #\n",
    "    \"style\": \"cross_sectional\",\n",
    "    \"bulk_frac_to_remove\": 0.0,\n",
    "    \"target_gmv\": 20000.0,\n",
    "}\n",
    "fep_config = cconfig.Config.from_dict(fep_dict)"
   ]
  },
  {
   "cell_type": "code",
   "execution_count": null,
   "id": "e8764d38",
   "metadata": {},
   "outputs": [],
   "source": [
    "fep = dtfmod.ForecastEvaluatorFromPrices(\n",
    "    fep_config[\"price_col\"],\n",
    "    fep_config[\"volatility_col\"],\n",
    "    fep_config[\"prediction_col\"],\n",
    ")"
   ]
  },
  {
   "cell_type": "code",
   "execution_count": null,
   "id": "17fc4cf9",
   "metadata": {},
   "outputs": [],
   "source": [
    "research_portfolio_df, research_portfolio_stats_df = fep.annotate_forecasts(\n",
    "    dag_df,\n",
    "    # bulk_frac_to_remove=fep_config[\"bulk_frac_to_remove\"],\n",
    "    # bulk_fill_method=fep_config[\"bulk_fill_method\"],\n",
    "    target_gmv=fep_config[\"target_gmv\"],\n",
    "    quantization=fep_config[\"quantization\"],\n",
    "    burn_in_bars=fep_config[\"burn_in_bars\"],\n",
    "    style=fep_config[\"style\"],\n",
    ")\n",
    "# bar_metrics.append(bar_metrics_slice)"
   ]
  },
  {
   "cell_type": "code",
   "execution_count": null,
   "id": "c1184243",
   "metadata": {},
   "outputs": [],
   "source": [
    "research_portfolio_stats_df[\"pnl\"].cumsum().plot()"
   ]
  },
  {
   "cell_type": "code",
   "execution_count": null,
   "id": "95fd4da9",
   "metadata": {},
   "outputs": [],
   "source": [
    "research_portfolio_df = research_portfolio_df.loc[start_timestamp:end_timestamp]\n",
    "research_portfolio_stats_df = research_portfolio_stats_df.loc[\n",
    "    start_timestamp:end_timestamp\n",
    "]"
   ]
  },
  {
   "cell_type": "markdown",
   "id": "0964f0c6",
   "metadata": {},
   "source": [
    "# Load prod portfolio"
   ]
  },
  {
   "cell_type": "code",
   "execution_count": null,
   "id": "9e065494",
   "metadata": {},
   "outputs": [],
   "source": [
    "prod_portfolio_dir = os.path.join(root_dir, \"process_forecasts/portfolio\")"
   ]
  },
  {
   "cell_type": "code",
   "execution_count": null,
   "id": "ad1c1651",
   "metadata": {},
   "outputs": [],
   "source": [
    "prod_portfolio_df, prod_portfolio_stats_df = oms.load_portfolio_artifacts(\n",
    "    prod_portfolio_dir,\n",
    "    start_timestamp,\n",
    "    end_timestamp,\n",
    "    \"15T\",\n",
    "    normalize_bar_times=True,\n",
    ")"
   ]
  },
  {
   "cell_type": "code",
   "execution_count": null,
   "id": "56ea467d",
   "metadata": {},
   "outputs": [],
   "source": [
    "# hpandas.df_to_str(prod_portfolio_df, log_level=logging.INFO)"
   ]
  },
  {
   "cell_type": "code",
   "execution_count": null,
   "id": "9e38d8d1",
   "metadata": {},
   "outputs": [],
   "source": [
    "hpandas.df_to_str(prod_portfolio_stats_df, log_level=logging.INFO)"
   ]
  },
  {
   "cell_type": "markdown",
   "id": "a3fa0f93",
   "metadata": {},
   "source": [
    "# Compare prod and research stats"
   ]
  },
  {
   "cell_type": "code",
   "execution_count": null,
   "id": "b5540146",
   "metadata": {},
   "outputs": [],
   "source": [
    "portfolio_stats_dfs = {\n",
    "    \"research\": research_portfolio_stats_df,\n",
    "    \"prod\": prod_portfolio_stats_df,\n",
    "}\n",
    "portfolio_stats_dfs = pd.concat(portfolio_stats_dfs, axis=1)"
   ]
  },
  {
   "cell_type": "code",
   "execution_count": null,
   "id": "646482db",
   "metadata": {},
   "outputs": [],
   "source": [
    "hpandas.df_to_str(portfolio_stats_dfs, log_level=logging.INFO)"
   ]
  },
  {
   "cell_type": "code",
   "execution_count": null,
   "id": "fda3ae79",
   "metadata": {},
   "outputs": [],
   "source": [
    "coplotti.plot_portfolio_stats(portfolio_stats_dfs)"
   ]
  },
  {
   "cell_type": "code",
   "execution_count": null,
   "id": "9c3c17d2",
   "metadata": {},
   "outputs": [],
   "source": [
    "cols = research_portfolio_stats_df.columns\n",
    "portfolio_stats_corrs = dtfmod.compute_correlations(\n",
    "    # TODO: Don't hardcode the tail trimming.\n",
    "    prod_portfolio_stats_df[cols],\n",
    "    research_portfolio_stats_df,\n",
    ")\n",
    "display(portfolio_stats_corrs.round(3))"
   ]
  },
  {
   "cell_type": "markdown",
   "id": "50b5faa1",
   "metadata": {},
   "source": [
    "# Compare prod and research portfolios (asset granularity)"
   ]
  },
  {
   "cell_type": "code",
   "execution_count": null,
   "id": "890cd616",
   "metadata": {},
   "outputs": [],
   "source": [
    "prod_portfolio_df.columns.levels[0]"
   ]
  },
  {
   "cell_type": "code",
   "execution_count": null,
   "id": "5ecdb6ca",
   "metadata": {},
   "outputs": [],
   "source": [
    "prod_portfolio_df.columns.levels[1]"
   ]
  },
  {
   "cell_type": "code",
   "execution_count": null,
   "id": "75b70d90",
   "metadata": {
    "lines_to_next_cell": 2
   },
   "outputs": [],
   "source": [
    "research_portfolio_df.columns.levels[0]"
   ]
  },
  {
   "cell_type": "code",
   "execution_count": null,
   "id": "29e23831",
   "metadata": {},
   "outputs": [],
   "source": [
    "normalized_research_portfolio_df = dtfmod.normalize_portfolio_df(\n",
    "    research_portfolio_df\n",
    ")"
   ]
  },
  {
   "cell_type": "code",
   "execution_count": null,
   "id": "904bac02",
   "metadata": {},
   "outputs": [],
   "source": [
    "normalized_prod_portfolio_df = oms.normalize_portfolio_df(prod_portfolio_df)"
   ]
  },
  {
   "cell_type": "code",
   "execution_count": null,
   "id": "1baa3a61",
   "metadata": {},
   "outputs": [],
   "source": [
    "portfolio_corrs = dtfmod.compute_correlations(\n",
    "    normalized_prod_portfolio_df,\n",
    "    normalized_research_portfolio_df,\n",
    ")\n",
    "display(portfolio_corrs.round(3))"
   ]
  },
  {
   "cell_type": "code",
   "execution_count": null,
   "id": "01202018",
   "metadata": {},
   "outputs": [],
   "source": []
  }
 ],
 "metadata": {
  "kernelspec": {
   "display_name": "Python 3 (ipykernel)",
   "language": "python",
   "name": "python3"
  },
  "language_info": {
   "codemirror_mode": {
    "name": "ipython",
    "version": 3
   },
   "file_extension": ".py",
   "mimetype": "text/x-python",
   "name": "python",
   "nbconvert_exporter": "python",
   "pygments_lexer": "ipython3"
  },
  "toc": {
   "base_numbering": 1,
   "nav_menu": {},
   "number_sections": true,
   "sideBar": true,
   "skip_h1_title": false,
   "title_cell": "Table of Contents",
   "title_sidebar": "Contents",
   "toc_cell": false,
   "toc_position": {},
   "toc_section_display": true,
   "toc_window_display": false
  }
 },
 "nbformat": 4,
 "nbformat_minor": 5
}
