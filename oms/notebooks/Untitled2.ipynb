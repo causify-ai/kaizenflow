{
 "cells": [
  {
   "cell_type": "code",
   "execution_count": null,
   "id": "cbb55cfd",
   "metadata": {},
   "outputs": [],
   "source": [
    "%load_ext autoreload\n",
    "%autoreload 2\n",
    "\n",
    "import helpers.hsql as hsql\n",
    "import im_v2.ccxt.data.client as icdcl\n",
    "import im_v2.common.data.client as icdc\n",
    "import im_v2.common.universe.universe_utils as imvcuunut\n",
    "import im_v2.im_lib_tasks as imvimlita\n",
    "\n",
    "\n",
    "resample_1min = False\n",
    "env_file = imvimlita.get_db_env_path(\"dev\")\n",
    "# Get login info.\n",
    "connection_params = hsql.get_connection_info_from_env_file(env_file)\n",
    "# Login.\n",
    "db_connection = hsql.get_connection(*connection_params)\n",
    "# Get the real-time `ImClient`.\n",
    "# TODO(Grisha): this will print only the `futures` universe, allow also\n",
    "# to print `spot` universe.\n",
    "table_name = \"ccxt_ohlcv_futures\"\n",
    "#\n",
    "im_client = icdcl.CcxtSqlRealTimeImClient(\n",
    "    resample_1min, db_connection, table_name\n",
    ")"
   ]
  },
  {
   "cell_type": "code",
   "execution_count": null,
   "id": "8276d6ab",
   "metadata": {},
   "outputs": [],
   "source": [
    "import logging\n",
    "import os\n",
    "from typing import Dict\n",
    "\n",
    "import pandas as pd\n",
    "\n",
    "import core.config as cconfig\n",
    "import core.finance as cofinanc\n",
    "import core.plotting as coplotti\n",
    "import dataflow.model as dtfmod\n",
    "import helpers.hdbg as hdbg\n",
    "import helpers.henv as henv\n",
    "import helpers.hpandas as hpandas\n",
    "import helpers.hpickle as hpickle\n",
    "import helpers.hprint as hprint\n",
    "import oms as oms\n",
    "\n",
    "hdbg.init_logger(verbosity=logging.INFO)\n",
    "\n",
    "_LOG = logging.getLogger(__name__)\n",
    "\n",
    "_LOG.info(\"%s\", henv.get_system_signature()[0])\n",
    "\n",
    "hprint.config_notebook()"
   ]
  },
  {
   "cell_type": "code",
   "execution_count": null,
   "id": "47436fc9",
   "metadata": {},
   "outputs": [],
   "source": [
    "import im_v2.common.universe as ivcu\n",
    "\n",
    "vendor = \"CCXT\"\n",
    "mode = \"trade\"\n",
    "version = \"v7.1\"\n",
    "as_full_symbol = True\n",
    "full_symbols = ivcu.get_vendor_universe(\n",
    "    vendor,\n",
    "    mode,\n",
    "    version=version,\n",
    "    as_full_symbol=as_full_symbol,\n",
    ")\n",
    "full_symbols"
   ]
  },
  {
   "cell_type": "code",
   "execution_count": null,
   "id": "d4bb5196",
   "metadata": {},
   "outputs": [],
   "source": [
    "import pandas as pd\n",
    "\n",
    "start_ts = pd.Timestamp(\"2022-10-25 00:00:00-04:00\")\n",
    "end_ts = pd.Timestamp(\"2022-10-25 23:59:00-04:00\")\n",
    "columns = None\n",
    "filter_data_mode = \"assert\"\n",
    "df = im_client.read_data(full_symbols, start_ts, end_ts, columns, filter_data_mode)\n",
    "df[\"delta\"] = (df[\"knowledge_timestamp\"] - df.index).dt.total_seconds()\n",
    "df"
   ]
  },
  {
   "cell_type": "code",
   "execution_count": null,
   "id": "2ae00612",
   "metadata": {},
   "outputs": [],
   "source": [
    "df.groupby(by=[\"full_symbol\"]).max()[\"delta\"].sort_values(ascending=False).plot(kind=\"bar\")"
   ]
  },
  {
   "cell_type": "code",
   "execution_count": null,
   "id": "9891b2c7",
   "metadata": {},
   "outputs": [],
   "source": [
    "print(\"min\", df[\"delta\"].min().round(2))\n",
    "print(\"mean\", df[\"delta\"].mean().round(2))\n",
    "print(\"std\", df[\"delta\"].std().round(2))\n",
    "print(\"max\", df[\"delta\"].max().round(2))"
   ]
  },
  {
   "cell_type": "code",
   "execution_count": null,
   "id": "22bdeb4f",
   "metadata": {},
   "outputs": [],
   "source": [
    "df[\"delta\"].plot(kind=\"hist\", bins=50, xlim=(0,120))"
   ]
  },
  {
   "cell_type": "code",
   "execution_count": null,
   "id": "89ed6711",
   "metadata": {},
   "outputs": [],
   "source": [
    "import helpers.hio as hio"
   ]
  },
  {
   "cell_type": "code",
   "execution_count": null,
   "id": "50b5917d",
   "metadata": {},
   "outputs": [],
   "source": [
    "path = \"/shared_data/prod_reconciliation/20221013/tca/json/fills_20221012-000000_20221013-000000_binance.preprod.trading.3.json\"\n",
    "file = hio.from_json(path)"
   ]
  },
  {
   "cell_type": "code",
   "execution_count": null,
   "id": "3063eea9",
   "metadata": {},
   "outputs": [],
   "source": [
    "df = pd.DataFrame(file)\n",
    "df"
   ]
  }
 ],
 "metadata": {
  "kernelspec": {
   "display_name": "Python 3 (ipykernel)",
   "language": "python",
   "name": "python3"
  },
  "language_info": {
   "codemirror_mode": {
    "name": "ipython",
    "version": 3
   },
   "file_extension": ".py",
   "mimetype": "text/x-python",
   "name": "python",
   "nbconvert_exporter": "python",
   "pygments_lexer": "ipython3"
  },
  "toc": {
   "base_numbering": 1,
   "nav_menu": {},
   "number_sections": true,
   "sideBar": true,
   "skip_h1_title": false,
   "title_cell": "Table of Contents",
   "title_sidebar": "Contents",
   "toc_cell": false,
   "toc_position": {},
   "toc_section_display": true,
   "toc_window_display": false
  }
 },
 "nbformat": 4,
 "nbformat_minor": 5
}
