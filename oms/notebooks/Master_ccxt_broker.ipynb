{
 "cells": [
  {
   "cell_type": "markdown",
   "id": "3a3650d8",
   "metadata": {},
   "source": [
    "# Description"
   ]
  },
  {
   "cell_type": "markdown",
   "id": "bdf4ca16",
   "metadata": {},
   "source": [
    "This notebook contains examples of CCXT DB Broker functionality."
   ]
  },
  {
   "cell_type": "code",
   "execution_count": null,
   "id": "0651a713",
   "metadata": {},
   "outputs": [],
   "source": [
    "%load_ext autoreload\n",
    "%autoreload 2\n",
    "import logging\n",
    "\n",
    "import pandas as pd\n",
    "\n",
    "import helpers.hdbg as hdbg\n",
    "import helpers.henv as henv\n",
    "import helpers.hprint as hprint\n",
    "import helpers.hsql as hsql\n",
    "import im_v2.common.data.client as icdc\n",
    "import im_v2.im_lib_tasks as imvimlita\n",
    "import market_data as mdata\n",
    "import oms.ccxt_broker as occxbrok\n",
    "import oms.order as omorder\n",
    "import oms.order_example as oordexam"
   ]
  },
  {
   "cell_type": "code",
   "execution_count": null,
   "id": "f24f461b",
   "metadata": {},
   "outputs": [],
   "source": [
    "hdbg.init_logger(verbosity=logging.INFO)\n",
    "\n",
    "_LOG = logging.getLogger(__name__)\n",
    "\n",
    "_LOG.info(\"%s\", henv.get_system_signature()[0])\n",
    "\n",
    "hprint.config_notebook()"
   ]
  },
  {
   "cell_type": "markdown",
   "id": "302e24e0",
   "metadata": {},
   "source": [
    "## DB"
   ]
  },
  {
   "cell_type": "markdown",
   "id": "8379fa3f",
   "metadata": {},
   "source": [
    "Establish a DB connection and example market data.\n",
    "\n",
    "`MarketData` object is required for instantiation of all brokers, since it is used in `OrderProcessor` down the pipeline."
   ]
  },
  {
   "cell_type": "markdown",
   "id": "b7f090fd",
   "metadata": {},
   "source": [
    "### Connection"
   ]
  },
  {
   "cell_type": "code",
   "execution_count": null,
   "id": "007a5e43",
   "metadata": {},
   "outputs": [],
   "source": [
    "# Get environment variables with login info.\n",
    "env_file = imvimlita.get_db_env_path(\"dev\")\n",
    "# Get login info.\n",
    "connection_params = hsql.get_connection_info_from_env_file(env_file)\n",
    "# Login.\n",
    "connection = hsql.get_connection(*connection_params)"
   ]
  },
  {
   "cell_type": "markdown",
   "id": "4aef0758",
   "metadata": {},
   "source": [
    "### Market data"
   ]
  },
  {
   "cell_type": "code",
   "execution_count": null,
   "id": "df6842fd",
   "metadata": {},
   "outputs": [],
   "source": [
    "hsql.remove_table(connection, \"example2_marketdata\")\n",
    "im_client = icdc.get_mock_realtime_client(connection)\n",
    "market_data = mdata.get_RealtimeMarketData_example1(im_client)"
   ]
  },
  {
   "cell_type": "code",
   "execution_count": null,
   "id": "751d6e52",
   "metadata": {},
   "outputs": [],
   "source": [
    "# Load an example of CCXT order.\n",
    "order = oordexam.get_order_example4()\n",
    "print(omorder.orders_to_string([order]))"
   ]
  },
  {
   "cell_type": "markdown",
   "id": "c5b2a590",
   "metadata": {},
   "source": [
    "## Demonstration of main Broker methods"
   ]
  },
  {
   "cell_type": "markdown",
   "id": "d27a0eda",
   "metadata": {},
   "source": [
    "### `init`"
   ]
  },
  {
   "cell_type": "code",
   "execution_count": null,
   "id": "f84da263",
   "metadata": {},
   "outputs": [],
   "source": [
    "exchange_id = \"binance\"\n",
    "universe_version = \"v5\"\n",
    "contract_type = \"futures\"\n",
    "mode = \"test\"\n",
    "portfolio_id = \"ck_portfolio_id\""
   ]
  },
  {
   "cell_type": "code",
   "execution_count": null,
   "id": "8b1dec8e",
   "metadata": {},
   "outputs": [],
   "source": [
    "# Initialize CCXT broker with example market data connected to DB.\n",
    "broker = occxbrok.CcxtBroker(\n",
    "    exchange_id,\n",
    "    universe_version,\n",
    "    mode,\n",
    "    portfolio_id,\n",
    "    contract_type,\n",
    "    market_data=market_data,\n",
    "    strategy_id=\"SAU1\",\n",
    ")"
   ]
  },
  {
   "cell_type": "markdown",
   "id": "592c2170",
   "metadata": {},
   "source": [
    "### `submit_orders`"
   ]
  },
  {
   "cell_type": "code",
   "execution_count": null,
   "id": "f26bd358",
   "metadata": {},
   "outputs": [],
   "source": [
    "orders = [order]\n",
    "# Submitting orders to exchange and getting the\n",
    "order_resps = await broker._submit_orders(orders, pd.Timestamp.utcnow(), dry_run=False)"
   ]
  },
  {
   "cell_type": "markdown",
   "id": "875a4fd5",
   "metadata": {},
   "source": [
    "### `get_fills`"
   ]
  },
  {
   "cell_type": "code",
   "execution_count": null,
   "id": "fe12ba95",
   "metadata": {},
   "outputs": [],
   "source": [
    "fills = broker.get_fills(order_resps)"
   ]
  },
  {
   "cell_type": "code",
   "execution_count": null,
   "id": "a7e2145b",
   "metadata": {},
   "outputs": [],
   "source": [
    "fills"
   ]
  },
  {
   "cell_type": "code",
   "execution_count": null,
   "id": "5da49ef1",
   "metadata": {},
   "outputs": [],
   "source": [
    "# This fails at this stage.\n",
    "fills[0].to_dict()"
   ]
  },
  {
   "cell_type": "markdown",
   "id": "8dd73b44",
   "metadata": {},
   "source": [
    "#### Comment"
   ]
  },
  {
   "cell_type": "markdown",
   "id": "0884f663",
   "metadata": {},
   "source": [
    "- The Fills are currently filtered by last execution ts; since the orders are executed immediately (at least in the sandbox environment), this means that only the latest order in the session is returning a Fill;\n",
    "- One way to fight this is to remove the filtering by datetime and instead filter by IDs, i.e. get all our orders from the exchange and quickly filter out those we sent during this session by order ID.\n",
    "    - see oms/ccxt_broker.py::82\n",
    "- Another point to consider: we get fills from CCXT via the `fetch_orders` CCXT method, which returns a dictionary. We use this dictionary to create a `Fill` object since this dictionary contains more complete data on the order status.\n",
    "   - This makes the `to_dict()` method unusable. We can create a new Order object from the one returned by CCXT, or we can use the original Order object.\n",
    "   - This looks like the DatabaseBroker's `submitted_orders`/`filled_orders` distinction. We don't use the database in CCXT broker since all data is stored in the exchange. Also, CCXT (at least binance implementation) does not support the user ID assignment. "
   ]
  },
  {
   "cell_type": "code",
   "execution_count": null,
   "id": "adffee60",
   "metadata": {},
   "outputs": [],
   "source": []
  }
 ],
 "metadata": {
  "jupytext": {
   "formats": "ipynb,py:percent"
  },
  "kernelspec": {
   "display_name": "Python 3 (ipykernel)",
   "language": "python",
   "name": "python3"
  },
  "language_info": {
   "codemirror_mode": {
    "name": "ipython",
    "version": 3
   },
   "file_extension": ".py",
   "mimetype": "text/x-python",
   "name": "python",
   "nbconvert_exporter": "python",
   "pygments_lexer": "ipython3"
  },
  "toc": {
   "base_numbering": 1,
   "nav_menu": {},
   "number_sections": true,
   "sideBar": true,
   "skip_h1_title": false,
   "title_cell": "Table of Contents",
   "title_sidebar": "Contents",
   "toc_cell": false,
   "toc_position": {},
   "toc_section_display": true,
   "toc_window_display": false
  }
 },
 "nbformat": 4,
 "nbformat_minor": 5
}
