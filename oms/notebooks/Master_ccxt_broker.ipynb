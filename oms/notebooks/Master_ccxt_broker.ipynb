{
 "cells": [
  {
   "cell_type": "markdown",
   "id": "6293f18f",
   "metadata": {},
   "source": [
    "# Description"
   ]
  },
  {
   "cell_type": "markdown",
   "id": "653f5a28",
   "metadata": {},
   "source": [
    "This notebook contains examples of CCXT DB Broker functionality."
   ]
  },
  {
   "cell_type": "code",
   "execution_count": null,
   "id": "5cd5c09a",
   "metadata": {},
   "outputs": [],
   "source": [
    "%load_ext autoreload\n",
    "%autoreload 2\n",
    "import logging\n",
    "\n",
    "import pandas as pd\n",
    "\n",
    "import helpers.hdbg as hdbg\n",
    "import helpers.henv as henv\n",
    "import helpers.hprint as hprint\n",
    "import helpers.hsql as hsql\n",
    "import im_v2.common.data.client as icdc\n",
    "import im_v2.im_lib_tasks as imvimlita\n",
    "import market_data as mdata\n",
    "import oms.ccxt_broker as occxbrok\n",
    "import oms.order as omorder\n",
    "import oms.order_example as oordexam"
   ]
  },
  {
   "cell_type": "code",
   "execution_count": null,
   "id": "d2d567b1",
   "metadata": {},
   "outputs": [],
   "source": [
    "hdbg.init_logger(verbosity=logging.INFO)\n",
    "\n",
    "_LOG = logging.getLogger(__name__)\n",
    "\n",
    "_LOG.info(\"%s\", henv.get_system_signature()[0])\n",
    "\n",
    "hprint.config_notebook()"
   ]
  },
  {
   "cell_type": "markdown",
   "id": "15dae2de",
   "metadata": {},
   "source": [
    "## DB"
   ]
  },
  {
   "cell_type": "markdown",
   "id": "52a92a37",
   "metadata": {},
   "source": [
    "Establish a DB connection and example market data.\n",
    "\n",
    "`MarketData` object is required for instantiation of all brokers, since it is used in `OrderProcessor` down the pipeline."
   ]
  },
  {
   "cell_type": "markdown",
   "id": "1d09361b",
   "metadata": {},
   "source": [
    "### Connection"
   ]
  },
  {
   "cell_type": "code",
   "execution_count": null,
   "id": "37a8b646",
   "metadata": {},
   "outputs": [],
   "source": [
    "# Get environment variables with login info.\n",
    "env_file = imvimlita.get_db_env_path(\"dev\")\n",
    "# Get login info.\n",
    "connection_params = hsql.get_connection_info_from_env_file(env_file)\n",
    "# Login.\n",
    "connection = hsql.get_connection(*connection_params)"
   ]
  },
  {
   "cell_type": "markdown",
   "id": "d0f9e032",
   "metadata": {},
   "source": [
    "### Market data"
   ]
  },
  {
   "cell_type": "code",
   "execution_count": null,
   "id": "4fe4b928",
   "metadata": {},
   "outputs": [],
   "source": [
    "hsql.remove_table(connection, \"example2_marketdata\")\n",
    "im_client = icdc.get_mock_realtime_client(connection)\n",
    "market_data = mdata.get_RealtimeMarketData_example1(im_client)"
   ]
  },
  {
   "cell_type": "code",
   "execution_count": null,
   "id": "0a5141c0",
   "metadata": {},
   "outputs": [],
   "source": [
    "# Load an example of CCXT order.\n",
    "order = oordexam.get_order_example4()\n",
    "print(omorder.orders_to_string([order]))"
   ]
  },
  {
   "cell_type": "markdown",
   "id": "45c36260",
   "metadata": {},
   "source": [
    "## Demonstration of main Broker methods"
   ]
  },
  {
   "cell_type": "markdown",
   "id": "3400cbb2",
   "metadata": {},
   "source": [
    "### `init`"
   ]
  },
  {
   "cell_type": "code",
   "execution_count": null,
   "id": "875efa3d",
   "metadata": {},
   "outputs": [],
   "source": [
    "exchange_id = \"binance\"\n",
    "universe_version = \"v5\"\n",
    "contract_type = \"futures\"\n",
    "mode = \"test\""
   ]
  },
  {
   "cell_type": "code",
   "execution_count": null,
   "id": "b56c19ee",
   "metadata": {},
   "outputs": [],
   "source": [
    "# Initialize CCXT broker with example market data connected to DB.\n",
    "broker = occxbrok.CcxtBroker(\n",
    "    exchange_id,\n",
    "    universe_version,\n",
    "    mode,\n",
    "    contract_type,\n",
    "    market_data=market_data,\n",
    "    strategy_id=\"SAU1\",\n",
    ")"
   ]
  },
  {
   "cell_type": "markdown",
   "id": "cefc6d7f",
   "metadata": {},
   "source": [
    "### `submit_orders`"
   ]
  },
  {
   "cell_type": "code",
   "execution_count": null,
   "id": "043a8ebc",
   "metadata": {},
   "outputs": [],
   "source": [
    "orders = [order, order]\n",
    "# Submitting orders to exchange and getting the\n",
    "order_resps = await broker._submit_orders(orders, pd.Timestamp.utcnow())"
   ]
  },
  {
   "cell_type": "code",
   "execution_count": null,
   "id": "03871470",
   "metadata": {},
   "outputs": [],
   "source": [
    "order_resps"
   ]
  },
  {
   "cell_type": "markdown",
   "id": "c37309f8",
   "metadata": {},
   "source": [
    "### `get_fills`"
   ]
  },
  {
   "cell_type": "code",
   "execution_count": null,
   "id": "7a7d982b",
   "metadata": {},
   "outputs": [],
   "source": [
    "fills = broker.get_fills(order_resps)"
   ]
  },
  {
   "cell_type": "code",
   "execution_count": null,
   "id": "2226c332",
   "metadata": {},
   "outputs": [],
   "source": [
    "fills"
   ]
  },
  {
   "cell_type": "code",
   "execution_count": null,
   "id": "0befbecb",
   "metadata": {},
   "outputs": [],
   "source": [
    "fills[0].to_dict()"
   ]
  },
  {
   "cell_type": "markdown",
   "id": "af58e1ed",
   "metadata": {},
   "source": [
    "#### Comment"
   ]
  },
  {
   "cell_type": "markdown",
   "id": "8c3c74ac",
   "metadata": {},
   "source": [
    "- The Fills are currently filtered by last execution ts; since the orders are executed immediately (at least in the sandbox environment), this means that only the latest order in the session is returning a Fill;\n",
    "- One way to fight this is to remove the filtering by datetime and instead filter by IDs, i.e. get all our orders from the exchange and quickly filter out those we sent during this session by order ID."
   ]
  }
 ],
 "metadata": {
  "jupytext": {
   "formats": "ipynb,py:percent"
  },
  "kernelspec": {
   "display_name": "Python 3 (ipykernel)",
   "language": "python",
   "name": "python3"
  },
  "language_info": {
   "codemirror_mode": {
    "name": "ipython",
    "version": 3
   },
   "file_extension": ".py",
   "mimetype": "text/x-python",
   "name": "python",
   "nbconvert_exporter": "python",
   "pygments_lexer": "ipython3"
  },
  "toc": {
   "base_numbering": 1,
   "nav_menu": {},
   "number_sections": true,
   "sideBar": true,
   "skip_h1_title": false,
   "title_cell": "Table of Contents",
   "title_sidebar": "Contents",
   "toc_cell": false,
   "toc_position": {},
   "toc_section_display": true,
   "toc_window_display": false
  }
 },
 "nbformat": 4,
 "nbformat_minor": 5
}
