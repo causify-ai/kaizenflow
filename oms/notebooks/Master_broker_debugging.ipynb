{
 "cells": [
  {
   "cell_type": "markdown",
   "id": "e3774453",
   "metadata": {},
   "source": [
    "# Description"
   ]
  },
  {
   "cell_type": "markdown",
   "id": "85514bad",
   "metadata": {},
   "source": [
    "This notebook contains tools for debugging an individual `CcxtBroker` execution.\n",
    "\n",
    "The notebook is responsible for aspects of the execution experiment run that are related to the correctness of the execution, as opposed to the analysis of the result:\n",
    "- Consistency of logging\n",
    "- Correctness in the submission of orders\n",
    "- Consistency between trades and submitted orders\n",
    "- Order time profiling"
   ]
  },
  {
   "cell_type": "code",
   "execution_count": null,
   "id": "46c16716",
   "metadata": {
    "run_control": {
     "marked": false
    }
   },
   "outputs": [],
   "source": [
    "%load_ext autoreload\n",
    "%autoreload 2\n",
    "%matplotlib inline\n",
    "\n",
    "import logging\n",
    "\n",
    "import core.config as cconfig\n",
    "import helpers.hdbg as hdbg\n",
    "import helpers.henv as henv\n",
    "import helpers.hprint as hprint\n",
    "import im_v2.common.universe as ivcu\n",
    "import oms.broker.ccxt.ccxt_aggregation_functions as obccagfu\n",
    "import oms.broker.ccxt.ccxt_execution_quality as obccexqu\n",
    "import oms.broker.ccxt.ccxt_logger as obcccclo"
   ]
  },
  {
   "cell_type": "code",
   "execution_count": null,
   "id": "1389b6fb",
   "metadata": {},
   "outputs": [],
   "source": [
    "hdbg.init_logger(verbosity=logging.INFO)\n",
    "\n",
    "_LOG = logging.getLogger(__name__)\n",
    "\n",
    "_LOG.info(\"%s\", henv.get_system_signature()[0])\n",
    "\n",
    "hprint.config_notebook()"
   ]
  },
  {
   "cell_type": "code",
   "execution_count": null,
   "id": "38c344f7",
   "metadata": {},
   "outputs": [],
   "source": [
    "config = cconfig.get_config_from_env()\n",
    "if config:\n",
    "    # Get config from env when running the notebook via the `run_notebook.py` script, e.g.\n",
    "    # in the system reconciliation flow.\n",
    "    _LOG.info(\"Using config from env vars\")\n",
    "else:\n",
    "    system_log_dir = \"/shared_data/ecs/test/system_reconciliation/C11a/prod/20240312_220000.20240312_225500/system_log_dir.manual/process_forecasts\"\n",
    "    config_dict = {\"system_log_dir\": system_log_dir}\n",
    "    config = cconfig.Config.from_dict(config_dict)\n",
    "print(config)"
   ]
  },
  {
   "cell_type": "code",
   "execution_count": null,
   "id": "3fda6629",
   "metadata": {
    "run_control": {
     "marked": false
    }
   },
   "outputs": [],
   "source": [
    "log_dir = config[\"system_log_dir\"]\n",
    "ccxt_log_reader = obcccclo.CcxtLogger(log_dir)\n",
    "#\n",
    "data = ccxt_log_reader.load_all_data(\n",
    "    convert_to_dataframe=True, abort_on_missing_data=False\n",
    ")\n",
    "ccxt_order_response_df = data[\"ccxt_order_responses\"]\n",
    "ccxt_trades_df = data[\"ccxt_trades\"]\n",
    "oms_child_order_df = data[\"oms_child_orders\"]\n",
    "oms_parent_order_df = data[\"oms_parent_orders\"]\n",
    "ccxt_fills = data[\"ccxt_fills\"]"
   ]
  },
  {
   "cell_type": "code",
   "execution_count": null,
   "id": "85ea0d6f",
   "metadata": {},
   "outputs": [],
   "source": [
    "# Print the Broker config.\n",
    "if \"broker_config\" in data:\n",
    "    print(hprint.to_pretty_str(data[\"broker_config\"]))\n",
    "else:\n",
    "    _LOG.warning(\"broker_config file not present in %s\", log_dir)"
   ]
  },
  {
   "cell_type": "code",
   "execution_count": null,
   "id": "8bf02986",
   "metadata": {},
   "outputs": [],
   "source": [
    "# Print the used Config, if any.\n",
    "experiment_config = obcccclo.load_config_for_execution_analysis(log_dir)\n",
    "print(experiment_config)"
   ]
  },
  {
   "cell_type": "code",
   "execution_count": null,
   "id": "1fac97a5",
   "metadata": {},
   "outputs": [],
   "source": [
    "ccxt_order_response_df.head(3)"
   ]
  },
  {
   "cell_type": "markdown",
   "id": "8c4c6a47",
   "metadata": {},
   "source": [
    "## Child order responses"
   ]
  },
  {
   "cell_type": "code",
   "execution_count": null,
   "id": "979946f2",
   "metadata": {},
   "outputs": [],
   "source": [
    "ccxt_order_response_df.info()"
   ]
  },
  {
   "cell_type": "markdown",
   "id": "dbeafcd6",
   "metadata": {},
   "source": [
    "## Child orders"
   ]
  },
  {
   "cell_type": "code",
   "execution_count": null,
   "id": "761674fc",
   "metadata": {},
   "outputs": [],
   "source": [
    "oms_child_order_df.info()"
   ]
  },
  {
   "cell_type": "code",
   "execution_count": null,
   "id": "a16b94c0",
   "metadata": {},
   "outputs": [],
   "source": [
    "oms_child_order_df.head(3)"
   ]
  },
  {
   "cell_type": "markdown",
   "id": "556d0056",
   "metadata": {},
   "source": [
    "### Extract the OMS parent order ID"
   ]
  },
  {
   "cell_type": "code",
   "execution_count": null,
   "id": "da72fd50",
   "metadata": {},
   "outputs": [],
   "source": [
    "oms_child_order_df[\"parent_order_id\"] = oms_child_order_df[\"extra_params\"].apply(\n",
    "    lambda x: x[\"oms_parent_order_id\"]\n",
    ")\n",
    "oms_child_order_df.head(3)"
   ]
  },
  {
   "cell_type": "code",
   "execution_count": null,
   "id": "63105162",
   "metadata": {},
   "outputs": [],
   "source": [
    "# Check how many child orders are generated per parent_order_id.\n",
    "oms_child_order_df[\"parent_order_id\"].value_counts().value_counts()"
   ]
  },
  {
   "cell_type": "markdown",
   "id": "215723e6",
   "metadata": {},
   "source": [
    "### Check the error messages in non-submitted orders."
   ]
  },
  {
   "cell_type": "code",
   "execution_count": null,
   "id": "75360481",
   "metadata": {},
   "outputs": [],
   "source": [
    "# Select the OMS child orders with no CCXT ID and check their error messages.\n",
    "not_submitted_oms_child_order_df = oms_child_order_df.loc[\n",
    "    oms_child_order_df[\"ccxt_id\"] == -1\n",
    "]\n",
    "print(\n",
    "    f\"Number of not submitted OMS child orders={not_submitted_oms_child_order_df.shape[0]} \\\n",
    "    out of total orders={oms_child_order_df.shape[0]}\"\n",
    ")"
   ]
  },
  {
   "cell_type": "code",
   "execution_count": null,
   "id": "5969ca59",
   "metadata": {
    "lines_to_next_cell": 2
   },
   "outputs": [],
   "source": [
    "# Extract all error messages from unsubmitted orders.\n",
    "not_submitted_oms_child_order_df[\"error_msg\"] = not_submitted_oms_child_order_df[\n",
    "    \"extra_params\"\n",
    "].apply(lambda x: x[\"error_msg\"])"
   ]
  },
  {
   "cell_type": "code",
   "execution_count": null,
   "id": "4ef372a2",
   "metadata": {},
   "outputs": [],
   "source": [
    "# Display error messages grouped by symbol.\n",
    "# Get the universe to map asset_id's.\n",
    "universe = ivcu.get_vendor_universe(\"CCXT\", \"trade\", as_full_symbol=True)\n",
    "asset_id_to_symbol_mapping = ivcu.build_numerical_to_string_id_mapping(universe)\n",
    "not_submitted_oms_child_order_df[\n",
    "    \"full_symbol\"\n",
    "] = not_submitted_oms_child_order_df[\"asset_id\"].map(asset_id_to_symbol_mapping)\n",
    "# Get value counts of error messages.\n",
    "error_msg = not_submitted_oms_child_order_df.groupby(\"full_symbol\")[\n",
    "    \"error_msg\"\n",
    "].value_counts()\n",
    "error_msg"
   ]
  },
  {
   "cell_type": "markdown",
   "id": "999f5f3d",
   "metadata": {},
   "source": [
    "### Check the buy and sell orders with max notional"
   ]
  },
  {
   "cell_type": "code",
   "execution_count": null,
   "id": "6bc36cd0",
   "metadata": {
    "run_control": {
     "marked": true
    }
   },
   "outputs": [],
   "source": [
    "oms_child_order_notionals = (\n",
    "    oms_child_order_df[\"diff_num_shares\"] * oms_child_order_df[\"limit_price\"]\n",
    ")\n",
    "max_sell_notional = oms_child_order_notionals[oms_child_order_notionals < 0].min()\n",
    "max_buy_notional = oms_child_order_notionals[oms_child_order_notionals > 0].max()\n",
    "_LOG.info(\n",
    "    \"Max sell notional: %s\\nMax buy notional: %s\",\n",
    "    max_sell_notional,\n",
    "    max_buy_notional,\n",
    ")"
   ]
  },
  {
   "cell_type": "markdown",
   "id": "f01f5b48",
   "metadata": {},
   "source": [
    "## Parent orders"
   ]
  },
  {
   "cell_type": "code",
   "execution_count": null,
   "id": "0d790ac5",
   "metadata": {},
   "outputs": [],
   "source": [
    "oms_parent_order_df.head(3)"
   ]
  },
  {
   "cell_type": "code",
   "execution_count": null,
   "id": "18a1e47f",
   "metadata": {},
   "outputs": [],
   "source": [
    "# Extract `ccxt_id` of child orders into a separate column.\n",
    "oms_parent_order_df[\"child_order_ccxt_ids\"] = oms_parent_order_df[\n",
    "    \"extra_params\"\n",
    "].apply(lambda x: x[\"ccxt_id\"])\n",
    "oms_parent_order_df.head(3)"
   ]
  },
  {
   "cell_type": "code",
   "execution_count": null,
   "id": "b37bb78c",
   "metadata": {},
   "outputs": [],
   "source": [
    "# Check how many child orders per parent order were successfully submitted.\n",
    "# A value between maximum expected and 0 can mean that some child orders\n",
    "# could not get through, while otherwise being well-formed.\n",
    "# A value of 0 means that the parent order had an issue, e.g.\n",
    "# having a notional that made all child orders below a minimum.\n",
    "oms_parent_order_df[\"submitted_child_order_num\"] = oms_parent_order_df[\n",
    "    \"child_order_ccxt_ids\"\n",
    "].str.len()\n",
    "oms_parent_order_df[\"submitted_child_order_num\"].value_counts()"
   ]
  },
  {
   "cell_type": "markdown",
   "id": "1cd5dfa9",
   "metadata": {},
   "source": [
    "## Trades"
   ]
  },
  {
   "cell_type": "code",
   "execution_count": null,
   "id": "c417d562",
   "metadata": {},
   "outputs": [],
   "source": [
    "ccxt_trades_df.info()"
   ]
  },
  {
   "cell_type": "markdown",
   "id": "4c19fcbd",
   "metadata": {},
   "source": [
    "### Verify that all trades correspond to logged child orders"
   ]
  },
  {
   "cell_type": "code",
   "execution_count": null,
   "id": "f393af80",
   "metadata": {},
   "outputs": [],
   "source": [
    "# Verify that all trades have an associated order response.\n",
    "# If the trade does not have an associated order, it means\n",
    "# that a trade was executed that was not accounted for during the experiment.\n",
    "all(ccxt_trades_df[\"order\"].isin(ccxt_order_response_df[\"order\"]))"
   ]
  },
  {
   "cell_type": "code",
   "execution_count": null,
   "id": "c61876ea",
   "metadata": {},
   "outputs": [],
   "source": [
    "# Verify that all trades have an associated 'ccxt_id' in OMS child orders.\n",
    "# This verifies that there is a consistency between a CCXT order, OMS order and\n",
    "# a CCXT trade. If a trade has no associated OMS child order `ccxt_id`, it means\n",
    "# that an unexpected trade was executed, for example, by a different actor on the same account.\n",
    "all(ccxt_trades_df[\"order\"].isin(oms_child_order_df[\"ccxt_id\"]))"
   ]
  },
  {
   "cell_type": "markdown",
   "id": "6788e468",
   "metadata": {},
   "source": [
    "### Check orders that do not correspond to any trades"
   ]
  },
  {
   "cell_type": "code",
   "execution_count": null,
   "id": "f7180f0b",
   "metadata": {
    "run_control": {
     "marked": true
    }
   },
   "outputs": [],
   "source": [
    "# Existence of such orders is not necessarily a bug.\n",
    "# It means that a given OMS child order was not filled.\n",
    "child_orders_with_no_trades = ~oms_child_order_df[\"ccxt_id\"].isin(\n",
    "    ccxt_trades_df[\"order\"]\n",
    ")\n",
    "child_orders_with_no_trades.sum()"
   ]
  },
  {
   "cell_type": "markdown",
   "id": "a8ca4b08",
   "metadata": {},
   "source": [
    "### Check the correctness of trade amount"
   ]
  },
  {
   "cell_type": "code",
   "execution_count": null,
   "id": "02b48ebc",
   "metadata": {
    "run_control": {
     "marked": false
    }
   },
   "outputs": [],
   "source": [
    "# If the traded amount is larger than the order, it means that an extra trade\n",
    "# is executed and the order is filled for a larger amount.\n",
    "# This can mean an accounting error on the exchange side.\n",
    "trade_amount_by_order = ccxt_trades_df.groupby(\"order\").agg({\"amount\": \"sum\"})\n",
    "accepted_child_order_df = oms_child_order_df.loc[\n",
    "    oms_child_order_df[\"ccxt_id\"] != -1\n",
    "]\n",
    "trade_amount_by_order[\"child_order_amount\"] = accepted_child_order_df.set_index(\n",
    "    \"ccxt_id\"\n",
    ")[\"diff_num_shares\"].abs()"
   ]
  },
  {
   "cell_type": "code",
   "execution_count": null,
   "id": "2ae98388",
   "metadata": {},
   "outputs": [],
   "source": [
    "mask = (\n",
    "    trade_amount_by_order[\"amount\"] > trade_amount_by_order[\"child_order_amount\"]\n",
    ")\n",
    "trade_amount_by_order.loc[mask]"
   ]
  },
  {
   "cell_type": "code",
   "execution_count": null,
   "id": "5034f893",
   "metadata": {},
   "outputs": [],
   "source": [
    "# Check the difference between the filled amount and the agg child order quantities.\n",
    "trade_amount_by_order[\"diff\"] = (\n",
    "    trade_amount_by_order[\"child_order_amount\"] - trade_amount_by_order[\"amount\"]\n",
    ")\n",
    "trade_amount_by_order = trade_amount_by_order.rename(\n",
    "    {\"amount\": \"aggregated_trades_quantity\"}, axis=1\n",
    ")\n",
    "trade_amount_by_order = trade_amount_by_order[\n",
    "    [\"child_order_amount\", \"aggregated_trades_quantity\", \"diff\"]\n",
    "]\n",
    "trade_amount_by_order[trade_amount_by_order[\"diff\"] > 0]"
   ]
  },
  {
   "cell_type": "markdown",
   "id": "0e592b2a",
   "metadata": {},
   "source": [
    "### Verify that CCXT IDs are equal in both child orders and responses"
   ]
  },
  {
   "cell_type": "code",
   "execution_count": null,
   "id": "c03bd2e5",
   "metadata": {},
   "outputs": [],
   "source": [
    "# Verify that we are not logging any CCXT orders that are not a part\n",
    "# of the experiment, i.e. have no OMS order associated with it.\n",
    "# We expect all retrieved responses to be a subset of CCXT IDs\n",
    "# connected to the OMS child orders.\n",
    "submitted_oms_orders_ccxt_ids = set(\n",
    "    oms_child_order_df.loc[oms_child_order_df[\"ccxt_id\"] != -1][\n",
    "        \"ccxt_id\"\n",
    "    ].unique()\n",
    ")\n",
    "ccxt_response_ids = set(ccxt_order_response_df[\"order\"].unique())\n",
    "ccxt_response_ids.issubset(submitted_oms_orders_ccxt_ids)"
   ]
  },
  {
   "cell_type": "markdown",
   "id": "9b479ebc",
   "metadata": {},
   "source": [
    "# Group trades by order"
   ]
  },
  {
   "cell_type": "code",
   "execution_count": null,
   "id": "e17eb7e9",
   "metadata": {},
   "outputs": [],
   "source": [
    "# Aggregate fills by order.\n",
    "ccxt_trades_by_order = obccagfu.aggregate_fills_by_order(ccxt_trades_df)\n",
    "ccxt_trades_by_order.head(3)"
   ]
  },
  {
   "cell_type": "markdown",
   "id": "4e3e426c",
   "metadata": {},
   "source": [
    "# Time profiling for child orders"
   ]
  },
  {
   "cell_type": "code",
   "execution_count": null,
   "id": "c75801b6",
   "metadata": {},
   "outputs": [],
   "source": [
    "oms_child_order_df_unpacked = ccxt_log_reader.load_oms_child_order(\n",
    "    unpack_extra_params=True, convert_to_dataframe=True\n",
    ")"
   ]
  },
  {
   "cell_type": "code",
   "execution_count": null,
   "id": "8805c401",
   "metadata": {},
   "outputs": [],
   "source": [
    "# Add timestamp of when the order was closed.\n",
    "order_lifespan_end = ccxt_fills.set_index(\"order\")[\n",
    "    \"order_update_datetime\"\n",
    "].to_dict()\n",
    "oms_child_order_df_unpacked[\"end_order_timestamp\"] = oms_child_order_df_unpacked[\n",
    "    \"ccxt_id\"\n",
    "].apply(lambda x: order_lifespan_end.get(x))"
   ]
  },
  {
   "cell_type": "code",
   "execution_count": null,
   "id": "947d500d",
   "metadata": {},
   "outputs": [],
   "source": [
    "# Get the timestamps of events for each child order\n",
    "events = obccexqu.get_oms_child_order_timestamps(oms_child_order_df_unpacked)\n",
    "events = events.sort_values(events.first_valid_index(), axis=1)"
   ]
  },
  {
   "cell_type": "code",
   "execution_count": null,
   "id": "b9775793",
   "metadata": {},
   "outputs": [],
   "source": [
    "events.head(3)"
   ]
  },
  {
   "cell_type": "code",
   "execution_count": null,
   "id": "a32a8ec1",
   "metadata": {},
   "outputs": [],
   "source": [
    "# Get the difference between event timestamps.\n",
    "time_delays = obccexqu.get_time_delay_between_events(events)"
   ]
  },
  {
   "cell_type": "code",
   "execution_count": null,
   "id": "3848d6e5",
   "metadata": {},
   "outputs": [],
   "source": [
    "time_delays.boxplot(rot=45, ylabel=\"Time delay\")"
   ]
  },
  {
   "cell_type": "markdown",
   "id": "8119037c",
   "metadata": {},
   "source": [
    "## Plot zero and non-zero waves separately"
   ]
  },
  {
   "cell_type": "markdown",
   "id": "d7369b51",
   "metadata": {},
   "source": [
    "### Plot zero wave"
   ]
  },
  {
   "cell_type": "code",
   "execution_count": null,
   "id": "d1a033b8",
   "metadata": {},
   "outputs": [],
   "source": [
    "# Since wave 0 begins execution later due to portfolio computation,\n",
    "# we plot the time delays for it separately.\n",
    "wave_zero = oms_child_order_df_unpacked[\n",
    "    oms_child_order_df_unpacked[\"wave_id\"] == 0\n",
    "]\n",
    "# Get the timestamps of events for each child order\n",
    "wave_zero_events = obccexqu.get_oms_child_order_timestamps(wave_zero)\n",
    "wave_zero_events = wave_zero_events.sort_values(\n",
    "    wave_zero_events.first_valid_index(), axis=1\n",
    ")"
   ]
  },
  {
   "cell_type": "code",
   "execution_count": null,
   "id": "6c34d08e",
   "metadata": {},
   "outputs": [],
   "source": [
    "wave_zero_events.head(3)"
   ]
  },
  {
   "cell_type": "code",
   "execution_count": null,
   "id": "86435199",
   "metadata": {},
   "outputs": [],
   "source": [
    "# Get the difference between event timestamps.\n",
    "time_delays = obccexqu.get_time_delay_between_events(wave_zero_events)"
   ]
  },
  {
   "cell_type": "code",
   "execution_count": null,
   "id": "e35b9498",
   "metadata": {},
   "outputs": [],
   "source": [
    "time_delays.boxplot(rot=45, ylabel=\"Time delay\").set_title(\n",
    "    \"Time delay between events for wave 0\"\n",
    ")"
   ]
  },
  {
   "cell_type": "markdown",
   "id": "28b175c1",
   "metadata": {},
   "source": [
    "### Plot the rest of the waves"
   ]
  },
  {
   "cell_type": "code",
   "execution_count": null,
   "id": "4c69b3fa",
   "metadata": {
    "run_control": {
     "marked": false
    }
   },
   "outputs": [],
   "source": [
    "# Plot non-zero wave time to get the \"average\" time of the\n",
    "# order submission, without computing portfolio and forecasts.\n",
    "non_wave_zero_events = oms_child_order_df_unpacked[\n",
    "    oms_child_order_df_unpacked[\"wave_id\"] > 0\n",
    "]\n",
    "# Get the timestamps of events for each child order\n",
    "non_wave_zero_events = obccexqu.get_oms_child_order_timestamps(\n",
    "    non_wave_zero_events\n",
    ")\n",
    "non_wave_zero_events = non_wave_zero_events.sort_values(\n",
    "    non_wave_zero_events.first_valid_index(), axis=1\n",
    ")"
   ]
  },
  {
   "cell_type": "code",
   "execution_count": null,
   "id": "b240af1a",
   "metadata": {},
   "outputs": [],
   "source": [
    "non_wave_zero_events.head(3)"
   ]
  },
  {
   "cell_type": "code",
   "execution_count": null,
   "id": "1e3bc6c7",
   "metadata": {},
   "outputs": [],
   "source": [
    "# Get the difference between event timestamps.\n",
    "time_delays = obccexqu.get_time_delay_between_events(non_wave_zero_events)"
   ]
  },
  {
   "cell_type": "code",
   "execution_count": null,
   "id": "d602bc0e",
   "metadata": {},
   "outputs": [],
   "source": [
    "time_delays.boxplot(rot=45, ylabel=\"Time delay\").set_title(\n",
    "    \"Time delay between events for waves >0\"\n",
    ")"
   ]
  },
  {
   "cell_type": "code",
   "execution_count": null,
   "id": "398aaa3f",
   "metadata": {},
   "outputs": [],
   "source": []
  },
  {
   "cell_type": "code",
   "execution_count": null,
   "id": "883e0179",
   "metadata": {},
   "outputs": [],
   "source": []
  }
 ],
 "metadata": {
  "jupytext": {
   "formats": "ipynb,py:percent"
  },
  "kernelspec": {
   "display_name": "Python 3 (ipykernel)",
   "language": "python",
   "name": "python3"
  }
 },
 "nbformat": 4,
 "nbformat_minor": 5
}
