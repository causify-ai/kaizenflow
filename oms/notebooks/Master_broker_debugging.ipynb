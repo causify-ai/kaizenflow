{
 "cells": [
  {
   "cell_type": "markdown",
   "id": "d7881501",
   "metadata": {},
   "source": [
    "# Description"
   ]
  },
  {
   "cell_type": "markdown",
   "id": "1d6fac74",
   "metadata": {},
   "source": [
    "This notebook contains tools for debugging an individual `CcxtBroker` execution.\n",
    "\n",
    "The notebook is responsible for aspects of the execution experiment run that are related to the correctness of the execution, as opposed to the analysis of the result:\n",
    "- Consistency of logging\n",
    "- Correctness in the submission of orders\n",
    "- Consistency between trades and submitted orders\n",
    "- Order time profiling"
   ]
  },
  {
   "cell_type": "code",
   "execution_count": 1,
   "id": "83d90b22",
   "metadata": {
    "ExecuteTime": {
     "end_time": "2024-01-11T16:58:51.932738Z",
     "start_time": "2024-01-11T16:58:40.325362Z"
    },
    "run_control": {
     "marked": false
    }
   },
   "outputs": [
    {
     "name": "stderr",
     "output_type": "stream",
     "text": [
      "/app/core/statistics/random_samples.py:12: TqdmExperimentalWarning: Using `tqdm.autonotebook.tqdm` in notebook mode. Use `tqdm.tqdm` instead to force console mode (e.g. in jupyter console)\n",
      "  from tqdm.autonotebook import tqdm\n",
      "\u001b[33mWARNING\u001b[0m: No module named 'gluonts'\n"
     ]
    }
   ],
   "source": [
    "%load_ext autoreload\n",
    "%autoreload 2\n",
    "\n",
    "import logging\n",
    "\n",
    "import core.config as cconfig\n",
    "import helpers.hdbg as hdbg\n",
    "import helpers.henv as henv\n",
    "import helpers.hprint as hprint\n",
    "import im_v2.common.universe as ivcu\n",
    "import oms.broker.ccxt.ccxt_aggregation_functions as obccagfu\n",
    "import oms.broker.ccxt.ccxt_execution_quality as obccexqu\n",
    "import oms.broker.ccxt.ccxt_logger as obcccclo"
   ]
  },
  {
   "cell_type": "code",
   "execution_count": 2,
   "id": "6689e5e2",
   "metadata": {
    "ExecuteTime": {
     "end_time": "2024-01-11T16:58:52.558788Z",
     "start_time": "2024-01-11T16:58:51.935939Z"
    }
   },
   "outputs": [
    {
     "name": "stdout",
     "output_type": "stream",
     "text": [
      "\u001b[0m\u001b[36mINFO\u001b[0m: > cmd='/venv/lib/python3.9/site-packages/ipykernel_launcher.py -f /home/.local/share/jupyter/runtime/kernel-afd8c6ab-0e7d-49b6-9dc3-667262a483de.json'\n",
      "WARNING: Running in Jupyter\n",
      "\u001b[31m-----------------------------------------------------------------------------\n",
      "This code is not in sync with the container:\n",
      "code_version='1.10.0' != container_version='1.12.0'\n",
      "-----------------------------------------------------------------------------\n",
      "You need to:\n",
      "- merge origin/master into your branch with `invoke git_merge_master`\n",
      "- pull the latest container with `invoke docker_pull`\u001b[0m\n",
      "INFO  # Git\n",
      "  branch_name='CMTask6760_master_broker_debugging_notebook_cleanup'\n",
      "  hash='67524bdda'\n",
      "  # Last commits:\n",
      "    *   67524bdda Daniil Tikhomirov Merge branch 'master' into CMTask6760_master_broker_debugging_notebook_cleanup (13 minutes ago) Thu Jan 11 16:45:54 2024  (HEAD -> CMTask6760_master_broker_debugging_notebook_cleanup, origin/CMTask6760_master_broker_debugging_notebook_cleanup)\n",
      "    |\\  \n",
      "    | * 889565ece Toma Jordania CmTask6495: dynamic fill_percent to mockExchange (#6598)          (34 minutes ago) Thu Jan 11 16:24:28 2024  (origin/master, origin/HEAD, master)\n",
      "    * | 3a89bea97 Daniil Tikhomirov CMTask6760: Lint                                                  (   3 hours ago) Thu Jan 11 13:50:17 2024           \n",
      "# Machine info\n",
      "  system=Linux\n",
      "  node name=d284e510c690\n",
      "  release=5.15.0-1050-aws\n",
      "  version=#55~20.04.1-Ubuntu SMP Mon Nov 6 12:15:34 UTC 2023\n",
      "  machine=x86_64\n",
      "  processor=x86_64\n",
      "  cpu count=8\n",
      "  cpu freq=scpufreq(current=2499.998, min=0.0, max=0.0)\n",
      "  memory=svmem(total=33280278528, available=4964397056, percent=85.1, used=27825037312, free=2336096256, active=1439006720, inactive=27761709056, buffers=454402048, cached=2664742912, shared=11911168, slab=1303093248)\n",
      "  disk usage=sdiskusage(total=156052275200, used=38716788736, free=117318709248, percent=24.8)\n",
      "# Packages\n",
      "  python: 3.9.5\n",
      "  cvxopt: 1.3.2\n",
      "  cvxpy: 1.4.1\n",
      "  gluonnlp: ?\n",
      "  gluonts: ?\n",
      "  joblib: 1.3.2\n",
      "  mxnet: ?\n",
      "  numpy: 1.26.0\n",
      "  pandas: 2.1.1\n",
      "  pyarrow: 10.0.0\n",
      "  scipy: 1.11.3\n",
      "  seaborn: 0.13.0\n",
      "  sklearn: 1.3.1\n",
      "  statsmodels: 0.14.0\n"
     ]
    }
   ],
   "source": [
    "hdbg.init_logger(verbosity=logging.INFO)\n",
    "\n",
    "_LOG = logging.getLogger(__name__)\n",
    "\n",
    "_LOG.info(\"%s\", henv.get_system_signature()[0])\n",
    "\n",
    "hprint.config_notebook()"
   ]
  },
  {
   "cell_type": "code",
   "execution_count": 3,
   "id": "ba1ec7b6",
   "metadata": {
    "ExecuteTime": {
     "end_time": "2024-01-11T16:58:52.647098Z",
     "start_time": "2024-01-11T16:58:52.565451Z"
    }
   },
   "outputs": [
    {
     "name": "stdout",
     "output_type": "stream",
     "text": [
      "system_log_dir: /shared_data/ecs/test/tokyo_broker_only/2024/01/09/20240109_2/\n"
     ]
    }
   ],
   "source": [
    "config = cconfig.get_config_from_env()\n",
    "if config:\n",
    "    # Get config from env when running the notebook via the `run_notebook.py` script, e.g.\n",
    "    # in the system reconciliation flow.\n",
    "    _LOG.info(\"Using config from env vars\")\n",
    "else:\n",
    "    system_log_dir = (\n",
    "        \"/shared_data/ecs/test/tokyo_broker_only/2024/01/09/20240109_2/\"\n",
    "    )\n",
    "    config_dict = {\"system_log_dir\": system_log_dir}\n",
    "    config = cconfig.Config.from_dict(config_dict)\n",
    "print(config)"
   ]
  },
  {
   "cell_type": "code",
   "execution_count": 4,
   "id": "4823ac29",
   "metadata": {
    "ExecuteTime": {
     "end_time": "2024-01-11T16:58:59.189859Z",
     "start_time": "2024-01-11T16:58:52.649927Z"
    },
    "run_control": {
     "marked": false
    }
   },
   "outputs": [
    {
     "name": "stdout",
     "output_type": "stream",
     "text": [
      "WARNING Path '/shared_data/ecs/test/tokyo_broker_only/2024/01/09/20240109_2/balances' doesn't exist!\n",
      "WARNING Path '/shared_data/ecs/test/tokyo_broker_only/2024/01/09/20240109_2/reduce_only/ccxt_child_order_responses' doesn't exist!\n",
      "WARNING Path '/shared_data/ecs/test/tokyo_broker_only/2024/01/09/20240109_2/reduce_only/oms_child_orders' doesn't exist!\n"
     ]
    },
    {
     "data": {
      "application/vnd.jupyter.widget-view+json": {
       "model_id": "e4d1d6ff7e1f41fcb7e5f0dde53b622d",
       "version_major": 2,
       "version_minor": 0
      },
      "text/plain": [
       "Loading `/shared_data/ecs/test/tokyo_broker_only/2024/01/09/20240109_2/ccxt_child_order_responses` files...:  …"
      ]
     },
     "metadata": {},
     "output_type": "display_data"
    },
    {
     "data": {
      "application/vnd.jupyter.widget-view+json": {
       "model_id": "b9550fa3ea684cfeacb87a331f1c250e",
       "version_major": 2,
       "version_minor": 0
      },
      "text/plain": [
       "Loading files from '/shared_data/ecs/test/tokyo_broker_only/2024/01/09/20240109_2/oms_parent_orders':   0%|   …"
      ]
     },
     "metadata": {},
     "output_type": "display_data"
    },
    {
     "data": {
      "application/vnd.jupyter.widget-view+json": {
       "model_id": "8b08bd66f06e4baa86364c1898778869",
       "version_major": 2,
       "version_minor": 0
      },
      "text/plain": [
       "Loading `/shared_data/ecs/test/tokyo_broker_only/2024/01/09/20240109_2/child_order_fills/ccxt_trades` files...…"
      ]
     },
     "metadata": {},
     "output_type": "display_data"
    },
    {
     "data": {
      "application/vnd.jupyter.widget-view+json": {
       "model_id": "e1e214615c0f4ee7997a5e43c7454e70",
       "version_major": 2,
       "version_minor": 0
      },
      "text/plain": [
       "Loading `/shared_data/ecs/test/tokyo_broker_only/2024/01/09/20240109_2/oms_child_orders` files...:   0%|      …"
      ]
     },
     "metadata": {},
     "output_type": "display_data"
    },
    {
     "data": {
      "application/vnd.jupyter.widget-view+json": {
       "model_id": "a253aca506944d9cb8cf379975a37e53",
       "version_major": 2,
       "version_minor": 0
      },
      "text/plain": [
       "Loading `/shared_data/ecs/test/tokyo_broker_only/2024/01/09/20240109_2/child_order_fills/oms_fills` files...: …"
      ]
     },
     "metadata": {},
     "output_type": "display_data"
    },
    {
     "data": {
      "application/vnd.jupyter.widget-view+json": {
       "model_id": "ec73df3bf78d47c8ae56456cc7eb8a86",
       "version_major": 2,
       "version_minor": 0
      },
      "text/plain": [
       "Loading `/shared_data/ecs/test/tokyo_broker_only/2024/01/09/20240109_2/child_order_fills/ccxt_fills` files...:…"
      ]
     },
     "metadata": {},
     "output_type": "display_data"
    },
    {
     "data": {
      "application/vnd.jupyter.widget-view+json": {
       "model_id": "d9b275881ad942d6bed6dd1d3ae91810",
       "version_major": 2,
       "version_minor": 0
      },
      "text/plain": [
       "Loading `/shared_data/ecs/test/tokyo_broker_only/2024/01/09/20240109_2/exchange_markets` files...:   0%|      …"
      ]
     },
     "metadata": {},
     "output_type": "display_data"
    },
    {
     "data": {
      "application/vnd.jupyter.widget-view+json": {
       "model_id": "c360d3a3f4d449c0b15bc7f8b383b5e2",
       "version_major": 2,
       "version_minor": 0
      },
      "text/plain": [
       "Loading `/shared_data/ecs/test/tokyo_broker_only/2024/01/09/20240109_2/leverage_info` files...:   0%|         …"
      ]
     },
     "metadata": {},
     "output_type": "display_data"
    },
    {
     "data": {
      "application/vnd.jupyter.widget-view+json": {
       "model_id": "2ab36f91135749d09a5315021401b0bf",
       "version_major": 2,
       "version_minor": 0
      },
      "text/plain": [
       "Loading `/shared_data/ecs/test/tokyo_broker_only/2024/01/09/20240109_2/positions` files...:   0%|          | 0…"
      ]
     },
     "metadata": {},
     "output_type": "display_data"
    },
    {
     "name": "stdout",
     "output_type": "stream",
     "text": [
      "WARNING Missing required data for 'balances': continuing as per user request\n",
      "WARNING Missing required data for 'reduce_only_order_responses': continuing as per user request\n"
     ]
    }
   ],
   "source": [
    "log_dir = config[\"system_log_dir\"]\n",
    "ccxt_log_reader = obcccclo.CcxtLogger(log_dir)\n",
    "#\n",
    "data = ccxt_log_reader.load_all_data(\n",
    "    convert_to_dataframe=True, abort_on_missing_data=False\n",
    ")\n",
    "ccxt_order_response_df = data[\"ccxt_order_responses\"]\n",
    "ccxt_trades_df = data[\"ccxt_trades\"]\n",
    "oms_child_order_df = data[\"oms_child_orders\"]\n",
    "oms_parent_order_df = data[\"oms_parent_orders\"]"
   ]
  },
  {
   "cell_type": "code",
   "execution_count": 5,
   "id": "98475d14",
   "metadata": {
    "ExecuteTime": {
     "end_time": "2024-01-11T16:58:59.251831Z",
     "start_time": "2024-01-11T16:58:59.193840Z"
    }
   },
   "outputs": [
    {
     "name": "stdout",
     "output_type": "stream",
     "text": [
      "{'bid_ask_lookback': '60S',\n",
      " 'child_order_quantity_computer': {'object_type': 'DynamicSchedulingChildOrderQuantityComputer'},\n",
      " 'limit_price_computer': {'_volatility_multiple': 0.75,\n",
      "                          'object_type': 'LimitPriceComputerUsingVolatility'},\n",
      " 'log_dir': '/data/shared/ecs_tokyo/test/broker_only/2024/01/09/20240109_2',\n",
      " 'raw_data_reader': 'RawDataReader',\n",
      " 'secret_identifier': 'binance.preprod.trading.4',\n",
      " 'stage': 'preprod',\n",
      " 'universe_version': 'v7.4'}\n"
     ]
    }
   ],
   "source": [
    "# Print the Broker config.\n",
    "if \"broker_config\" in data:\n",
    "    print(hprint.to_pretty_str(data[\"broker_config\"]))\n",
    "else:\n",
    "    _LOG.warning(\"broker_config file not present in %s\", log_dir)"
   ]
  },
  {
   "cell_type": "code",
   "execution_count": 6,
   "id": "cdd31d24",
   "metadata": {
    "ExecuteTime": {
     "end_time": "2024-01-11T16:58:59.307937Z",
     "start_time": "2024-01-11T16:58:59.254260Z"
    }
   },
   "outputs": [
    {
     "name": "stdout",
     "output_type": "stream",
     "text": [
      "INFO  Loading config from /shared_data/ecs/test/tokyo_broker_only/2024/01/09/20240109_2/system_config.output.values_as_strings.pkl\n",
      "WARNING Config file /shared_data/ecs/test/tokyo_broker_only/2024/01/09/20240109_2/system_config.output.values_as_strings.pkl does not exist\n",
      "None\n"
     ]
    }
   ],
   "source": [
    "# Print the used Config, if any.\n",
    "experiment_config = obcccclo.load_config_for_execution_analysis(log_dir)\n",
    "print(experiment_config)"
   ]
  },
  {
   "cell_type": "code",
   "execution_count": 7,
   "id": "0b13b620",
   "metadata": {
    "ExecuteTime": {
     "end_time": "2024-01-11T16:58:59.405391Z",
     "start_time": "2024-01-11T16:58:59.311112Z"
    },
    "scrolled": true
   },
   "outputs": [
    {
     "data": {
      "text/html": [
       "<div>\n",
       "<style scoped>\n",
       "    .dataframe tbody tr th:only-of-type {\n",
       "        vertical-align: middle;\n",
       "    }\n",
       "\n",
       "    .dataframe tbody tr th {\n",
       "        vertical-align: top;\n",
       "    }\n",
       "\n",
       "    .dataframe thead th {\n",
       "        text-align: right;\n",
       "    }\n",
       "</style>\n",
       "<table border=\"1\" class=\"dataframe\">\n",
       "  <thead>\n",
       "    <tr style=\"text-align: right;\">\n",
       "      <th></th>\n",
       "      <th>info</th>\n",
       "      <th>order</th>\n",
       "      <th>client_order_id</th>\n",
       "      <th>timestamp</th>\n",
       "      <th>datetime</th>\n",
       "      <th>last_trade_timestamp</th>\n",
       "      <th>lastUpdateTimestamp</th>\n",
       "      <th>symbol</th>\n",
       "      <th>order_type</th>\n",
       "      <th>time_in_force</th>\n",
       "      <th>post_only</th>\n",
       "      <th>reduce_only</th>\n",
       "      <th>side</th>\n",
       "      <th>order_price</th>\n",
       "      <th>triggerPrice</th>\n",
       "      <th>order_amount</th>\n",
       "      <th>cost</th>\n",
       "      <th>average</th>\n",
       "      <th>filled</th>\n",
       "      <th>remaining</th>\n",
       "      <th>status</th>\n",
       "      <th>fee</th>\n",
       "      <th>trades</th>\n",
       "      <th>fees</th>\n",
       "      <th>stop_price</th>\n",
       "      <th>takeProfitPrice</th>\n",
       "      <th>stopLossPrice</th>\n",
       "      <th>order_update_timestamp</th>\n",
       "      <th>order_update_datetime</th>\n",
       "    </tr>\n",
       "  </thead>\n",
       "  <tbody>\n",
       "    <tr>\n",
       "      <th>0</th>\n",
       "      <td>{'orderId': '13328254963', 'symbol': 'GMTUSDT'...</td>\n",
       "      <td>13328254963</td>\n",
       "      <td>x-xcKtGhcu9da579d8be05e128bd98b3</td>\n",
       "      <td>1704780001634</td>\n",
       "      <td>2024-01-09T06:00:01.634Z</td>\n",
       "      <td>NaN</td>\n",
       "      <td>1704780001634</td>\n",
       "      <td>GMT/USDT:USDT</td>\n",
       "      <td>limit</td>\n",
       "      <td>GTC</td>\n",
       "      <td>False</td>\n",
       "      <td>False</td>\n",
       "      <td>buy</td>\n",
       "      <td>0.3520</td>\n",
       "      <td>None</td>\n",
       "      <td>282.0</td>\n",
       "      <td>0.0</td>\n",
       "      <td>NaN</td>\n",
       "      <td>0.0</td>\n",
       "      <td>282.0</td>\n",
       "      <td>open</td>\n",
       "      <td>{'currency': None, 'cost': None, 'rate': None}</td>\n",
       "      <td>[]</td>\n",
       "      <td>[{'currency': None, 'cost': None, 'rate': None}]</td>\n",
       "      <td>None</td>\n",
       "      <td>None</td>\n",
       "      <td>None</td>\n",
       "      <td>1704780001634</td>\n",
       "      <td>2024-01-09 06:00:01.634000+00:00</td>\n",
       "    </tr>\n",
       "    <tr>\n",
       "      <th>1</th>\n",
       "      <td>{'orderId': '13328313357', 'symbol': 'GMTUSDT'...</td>\n",
       "      <td>13328313357</td>\n",
       "      <td>x-xcKtGhcue2f2e253d513ccb79a3307</td>\n",
       "      <td>1704780300690</td>\n",
       "      <td>2024-01-09T06:05:00.690Z</td>\n",
       "      <td>NaN</td>\n",
       "      <td>1704780300690</td>\n",
       "      <td>GMT/USDT:USDT</td>\n",
       "      <td>limit</td>\n",
       "      <td>GTC</td>\n",
       "      <td>False</td>\n",
       "      <td>False</td>\n",
       "      <td>sell</td>\n",
       "      <td>0.3517</td>\n",
       "      <td>None</td>\n",
       "      <td>152.0</td>\n",
       "      <td>0.0</td>\n",
       "      <td>NaN</td>\n",
       "      <td>0.0</td>\n",
       "      <td>152.0</td>\n",
       "      <td>open</td>\n",
       "      <td>{'currency': None, 'cost': None, 'rate': None}</td>\n",
       "      <td>[]</td>\n",
       "      <td>[{'currency': None, 'cost': None, 'rate': None}]</td>\n",
       "      <td>None</td>\n",
       "      <td>None</td>\n",
       "      <td>None</td>\n",
       "      <td>1704780300690</td>\n",
       "      <td>2024-01-09 06:05:00.690000+00:00</td>\n",
       "    </tr>\n",
       "    <tr>\n",
       "      <th>2</th>\n",
       "      <td>{'orderId': '13328322908', 'symbol': 'GMTUSDT'...</td>\n",
       "      <td>13328322908</td>\n",
       "      <td>x-xcKtGhcu19cf88f3440b016c3fc762</td>\n",
       "      <td>1704780360616</td>\n",
       "      <td>2024-01-09T06:06:00.616Z</td>\n",
       "      <td>NaN</td>\n",
       "      <td>1704780360616</td>\n",
       "      <td>GMT/USDT:USDT</td>\n",
       "      <td>limit</td>\n",
       "      <td>GTC</td>\n",
       "      <td>False</td>\n",
       "      <td>False</td>\n",
       "      <td>sell</td>\n",
       "      <td>0.3507</td>\n",
       "      <td>None</td>\n",
       "      <td>152.0</td>\n",
       "      <td>0.0</td>\n",
       "      <td>NaN</td>\n",
       "      <td>0.0</td>\n",
       "      <td>152.0</td>\n",
       "      <td>open</td>\n",
       "      <td>{'currency': None, 'cost': None, 'rate': None}</td>\n",
       "      <td>[]</td>\n",
       "      <td>[{'currency': None, 'cost': None, 'rate': None}]</td>\n",
       "      <td>None</td>\n",
       "      <td>None</td>\n",
       "      <td>None</td>\n",
       "      <td>1704780360616</td>\n",
       "      <td>2024-01-09 06:06:00.616000+00:00</td>\n",
       "    </tr>\n",
       "  </tbody>\n",
       "</table>\n",
       "</div>"
      ],
      "text/plain": [
       "                                                info        order                   client_order_id      timestamp                  datetime  last_trade_timestamp  lastUpdateTimestamp         symbol order_type time_in_force  post_only  reduce_only  side  order_price triggerPrice  order_amount  cost  average  filled  remaining status                                             fee trades                                              fees stop_price takeProfitPrice stopLossPrice order_update_timestamp            order_update_datetime\n",
       "0  {'orderId': '13328254963', 'symbol': 'GMTUSDT'...  13328254963  x-xcKtGhcu9da579d8be05e128bd98b3  1704780001634  2024-01-09T06:00:01.634Z                   NaN        1704780001634  GMT/USDT:USDT      limit           GTC      False        False   buy       0.3520         None         282.0   0.0      NaN     0.0      282.0   open  {'currency': None, 'cost': None, 'rate': None}     []  [{'currency': None, 'cost': None, 'rate': None}]       None            None          None          1704780001634 2024-01-09 06:00:01.634000+00:00\n",
       "1  {'orderId': '13328313357', 'symbol': 'GMTUSDT'...  13328313357  x-xcKtGhcue2f2e253d513ccb79a3307  1704780300690  2024-01-09T06:05:00.690Z                   NaN        1704780300690  GMT/USDT:USDT      limit           GTC      False        False  sell       0.3517         None         152.0   0.0      NaN     0.0      152.0   open  {'currency': None, 'cost': None, 'rate': None}     []  [{'currency': None, 'cost': None, 'rate': None}]       None            None          None          1704780300690 2024-01-09 06:05:00.690000+00:00\n",
       "2  {'orderId': '13328322908', 'symbol': 'GMTUSDT'...  13328322908  x-xcKtGhcu19cf88f3440b016c3fc762  1704780360616  2024-01-09T06:06:00.616Z                   NaN        1704780360616  GMT/USDT:USDT      limit           GTC      False        False  sell       0.3507         None         152.0   0.0      NaN     0.0      152.0   open  {'currency': None, 'cost': None, 'rate': None}     []  [{'currency': None, 'cost': None, 'rate': None}]       None            None          None          1704780360616 2024-01-09 06:06:00.616000+00:00"
      ]
     },
     "execution_count": 7,
     "metadata": {},
     "output_type": "execute_result"
    }
   ],
   "source": [
    "ccxt_order_response_df.head(3)"
   ]
  },
  {
   "cell_type": "markdown",
   "id": "b8ae17a3",
   "metadata": {},
   "source": [
    "## Child order responses"
   ]
  },
  {
   "cell_type": "code",
   "execution_count": 8,
   "id": "d24faae7",
   "metadata": {
    "ExecuteTime": {
     "end_time": "2024-01-11T16:58:59.488812Z",
     "start_time": "2024-01-11T16:58:59.410052Z"
    }
   },
   "outputs": [
    {
     "name": "stdout",
     "output_type": "stream",
     "text": [
      "<class 'pandas.core.frame.DataFrame'>\n",
      "RangeIndex: 158 entries, 0 to 157\n",
      "Data columns (total 29 columns):\n",
      " #   Column                  Non-Null Count  Dtype              \n",
      "---  ------                  --------------  -----              \n",
      " 0   info                    158 non-null    object             \n",
      " 1   order                   158 non-null    int64              \n",
      " 2   client_order_id         158 non-null    object             \n",
      " 3   timestamp               158 non-null    int64              \n",
      " 4   datetime                158 non-null    object             \n",
      " 5   last_trade_timestamp    1 non-null      float64            \n",
      " 6   lastUpdateTimestamp     158 non-null    int64              \n",
      " 7   symbol                  158 non-null    object             \n",
      " 8   order_type              158 non-null    object             \n",
      " 9   time_in_force           158 non-null    object             \n",
      " 10  post_only               158 non-null    bool               \n",
      " 11  reduce_only             158 non-null    bool               \n",
      " 12  side                    158 non-null    object             \n",
      " 13  order_price             158 non-null    float64            \n",
      " 14  triggerPrice            0 non-null      object             \n",
      " 15  order_amount            158 non-null    float64            \n",
      " 16  cost                    158 non-null    float64            \n",
      " 17  average                 1 non-null      float64            \n",
      " 18  filled                  158 non-null    float64            \n",
      " 19  remaining               158 non-null    float64            \n",
      " 20  status                  158 non-null    object             \n",
      " 21  fee                     158 non-null    object             \n",
      " 22  trades                  158 non-null    object             \n",
      " 23  fees                    158 non-null    object             \n",
      " 24  stop_price              0 non-null      object             \n",
      " 25  takeProfitPrice         0 non-null      object             \n",
      " 26  stopLossPrice           0 non-null      object             \n",
      " 27  order_update_timestamp  158 non-null    object             \n",
      " 28  order_update_datetime   158 non-null    datetime64[ns, UTC]\n",
      "dtypes: bool(2), datetime64[ns, UTC](1), float64(7), int64(3), object(16)\n",
      "memory usage: 33.8+ KB\n"
     ]
    }
   ],
   "source": [
    "ccxt_order_response_df.info()"
   ]
  },
  {
   "cell_type": "markdown",
   "id": "60d06334",
   "metadata": {},
   "source": [
    "## Child orders"
   ]
  },
  {
   "cell_type": "code",
   "execution_count": 9,
   "id": "23e072fc",
   "metadata": {
    "ExecuteTime": {
     "end_time": "2024-01-11T16:58:59.569943Z",
     "start_time": "2024-01-11T16:58:59.496063Z"
    }
   },
   "outputs": [
    {
     "name": "stdout",
     "output_type": "stream",
     "text": [
      "<class 'pandas.core.frame.DataFrame'>\n",
      "Index: 158 entries, 13 to 219\n",
      "Data columns (total 35 columns):\n",
      " #   Column                     Non-Null Count  Dtype              \n",
      "---  ------                     --------------  -----              \n",
      " 0   creation_timestamp         158 non-null    datetime64[ns, UTC]\n",
      " 1   asset_id                   158 non-null    int64              \n",
      " 2   type_                      158 non-null    object             \n",
      " 3   start_timestamp            158 non-null    datetime64[ns, UTC]\n",
      " 4   end_timestamp              158 non-null    datetime64[ns, UTC]\n",
      " 5   curr_num_shares            158 non-null    float64            \n",
      " 6   diff_num_shares            158 non-null    float64            \n",
      " 7   tz                         158 non-null    object             \n",
      " 8   extra_params               158 non-null    object             \n",
      " 9   volatility_multiple        158 non-null    float64            \n",
      " 10  wave_id                    158 non-null    int64              \n",
      " 11  num_data_points            158 non-null    int64              \n",
      " 12  exchange_timestamp         158 non-null    datetime64[ns, UTC]\n",
      " 13  knowledge_timestamp        158 non-null    datetime64[ns, UTC]\n",
      " 14  end_download_timestamp     158 non-null    datetime64[ns, UTC]\n",
      " 15  latest_bid_size            158 non-null    float64            \n",
      " 16  latest_ask_size            158 non-null    float64            \n",
      " 17  num_data_points_resampled  158 non-null    int64              \n",
      " 18  scaling_multiplier         158 non-null    float64            \n",
      " 19  bid_vol                    158 non-null    float64            \n",
      " 20  bid_vol_bps                158 non-null    float64            \n",
      " 21  latest_bid_price           158 non-null    float64            \n",
      " 22  ask_vol                    158 non-null    float64            \n",
      " 23  ask_vol_bps                158 non-null    float64            \n",
      " 24  latest_ask_price           158 non-null    float64            \n",
      " 25  total_vol                  158 non-null    float64            \n",
      " 26  latest_mid_price           158 non-null    float64            \n",
      " 27  total_vol_bps              158 non-null    float64            \n",
      " 28  spread                     158 non-null    float64            \n",
      " 29  spread_bps                 158 non-null    float64            \n",
      " 30  total_vol_to_spread_bps    158 non-null    float64            \n",
      " 31  limit_price                158 non-null    float64            \n",
      " 32  ccxt_id                    158 non-null    int64              \n",
      " 33  name                       158 non-null    int64              \n",
      " 34  attempt_num                158 non-null    int64              \n",
      "dtypes: datetime64[ns, UTC](6), float64(19), int64(7), object(3)\n",
      "memory usage: 44.4+ KB\n"
     ]
    }
   ],
   "source": [
    "oms_child_order_df.info()"
   ]
  },
  {
   "cell_type": "code",
   "execution_count": 10,
   "id": "f09c7cc9",
   "metadata": {
    "ExecuteTime": {
     "end_time": "2024-01-11T16:58:59.663976Z",
     "start_time": "2024-01-11T16:58:59.572388Z"
    }
   },
   "outputs": [
    {
     "data": {
      "text/html": [
       "<div>\n",
       "<style scoped>\n",
       "    .dataframe tbody tr th:only-of-type {\n",
       "        vertical-align: middle;\n",
       "    }\n",
       "\n",
       "    .dataframe tbody tr th {\n",
       "        vertical-align: top;\n",
       "    }\n",
       "\n",
       "    .dataframe thead th {\n",
       "        text-align: right;\n",
       "    }\n",
       "</style>\n",
       "<table border=\"1\" class=\"dataframe\">\n",
       "  <thead>\n",
       "    <tr style=\"text-align: right;\">\n",
       "      <th></th>\n",
       "      <th>creation_timestamp</th>\n",
       "      <th>asset_id</th>\n",
       "      <th>type_</th>\n",
       "      <th>start_timestamp</th>\n",
       "      <th>end_timestamp</th>\n",
       "      <th>curr_num_shares</th>\n",
       "      <th>diff_num_shares</th>\n",
       "      <th>tz</th>\n",
       "      <th>extra_params</th>\n",
       "      <th>volatility_multiple</th>\n",
       "      <th>wave_id</th>\n",
       "      <th>num_data_points</th>\n",
       "      <th>exchange_timestamp</th>\n",
       "      <th>knowledge_timestamp</th>\n",
       "      <th>end_download_timestamp</th>\n",
       "      <th>latest_bid_size</th>\n",
       "      <th>latest_ask_size</th>\n",
       "      <th>num_data_points_resampled</th>\n",
       "      <th>scaling_multiplier</th>\n",
       "      <th>bid_vol</th>\n",
       "      <th>bid_vol_bps</th>\n",
       "      <th>latest_bid_price</th>\n",
       "      <th>ask_vol</th>\n",
       "      <th>ask_vol_bps</th>\n",
       "      <th>latest_ask_price</th>\n",
       "      <th>total_vol</th>\n",
       "      <th>latest_mid_price</th>\n",
       "      <th>total_vol_bps</th>\n",
       "      <th>spread</th>\n",
       "      <th>spread_bps</th>\n",
       "      <th>total_vol_to_spread_bps</th>\n",
       "      <th>limit_price</th>\n",
       "      <th>ccxt_id</th>\n",
       "      <th>name</th>\n",
       "      <th>attempt_num</th>\n",
       "    </tr>\n",
       "    <tr>\n",
       "      <th>order_id</th>\n",
       "      <th></th>\n",
       "      <th></th>\n",
       "      <th></th>\n",
       "      <th></th>\n",
       "      <th></th>\n",
       "      <th></th>\n",
       "      <th></th>\n",
       "      <th></th>\n",
       "      <th></th>\n",
       "      <th></th>\n",
       "      <th></th>\n",
       "      <th></th>\n",
       "      <th></th>\n",
       "      <th></th>\n",
       "      <th></th>\n",
       "      <th></th>\n",
       "      <th></th>\n",
       "      <th></th>\n",
       "      <th></th>\n",
       "      <th></th>\n",
       "      <th></th>\n",
       "      <th></th>\n",
       "      <th></th>\n",
       "      <th></th>\n",
       "      <th></th>\n",
       "      <th></th>\n",
       "      <th></th>\n",
       "      <th></th>\n",
       "      <th></th>\n",
       "      <th></th>\n",
       "      <th></th>\n",
       "      <th></th>\n",
       "      <th></th>\n",
       "      <th></th>\n",
       "      <th></th>\n",
       "    </tr>\n",
       "  </thead>\n",
       "  <tbody>\n",
       "    <tr>\n",
       "      <th>13</th>\n",
       "      <td>2024-01-09 06:00:00.675828+00:00</td>\n",
       "      <td>1030828978</td>\n",
       "      <td>limit</td>\n",
       "      <td>2024-01-09 06:00:00.675828+00:00</td>\n",
       "      <td>2024-01-09 06:01:00+00:00</td>\n",
       "      <td>0.0</td>\n",
       "      <td>282.0</td>\n",
       "      <td>America/New_York</td>\n",
       "      <td>{'stats': {'_submit_twap_child_order::wave_id'...</td>\n",
       "      <td>0.75</td>\n",
       "      <td>0</td>\n",
       "      <td>278</td>\n",
       "      <td>2024-01-09 05:59:59.818000+00:00</td>\n",
       "      <td>2024-01-09 05:59:59.851866+00:00</td>\n",
       "      <td>2024-01-09 05:59:59.839134+00:00</td>\n",
       "      <td>12664.0</td>\n",
       "      <td>23510.0</td>\n",
       "      <td>598</td>\n",
       "      <td>24.494897</td>\n",
       "      <td>0.000549</td>\n",
       "      <td>15.586064</td>\n",
       "      <td>0.3523</td>\n",
       "      <td>0.000549</td>\n",
       "      <td>15.581641</td>\n",
       "      <td>0.3524</td>\n",
       "      <td>0.000549</td>\n",
       "      <td>0.35235</td>\n",
       "      <td>15.583852</td>\n",
       "      <td>0.0001</td>\n",
       "      <td>2.838087</td>\n",
       "      <td>5.490970</td>\n",
       "      <td>0.3520</td>\n",
       "      <td>13328254963</td>\n",
       "      <td>13</td>\n",
       "      <td>1</td>\n",
       "    </tr>\n",
       "    <tr>\n",
       "      <th>43</th>\n",
       "      <td>2024-01-09 06:05:00.616654+00:00</td>\n",
       "      <td>1030828978</td>\n",
       "      <td>limit</td>\n",
       "      <td>2024-01-09 06:05:00.616654+00:00</td>\n",
       "      <td>2024-01-09 06:06:00+00:00</td>\n",
       "      <td>282.0</td>\n",
       "      <td>-152.0</td>\n",
       "      <td>America/New_York</td>\n",
       "      <td>{'stats': {'_submit_twap_child_order::wave_id'...</td>\n",
       "      <td>0.75</td>\n",
       "      <td>0</td>\n",
       "      <td>296</td>\n",
       "      <td>2024-01-09 06:05:00.079000+00:00</td>\n",
       "      <td>2024-01-09 06:05:00.192690+00:00</td>\n",
       "      <td>2024-01-09 06:05:00.179842+00:00</td>\n",
       "      <td>47867.0</td>\n",
       "      <td>11835.0</td>\n",
       "      <td>597</td>\n",
       "      <td>24.494897</td>\n",
       "      <td>0.000471</td>\n",
       "      <td>13.396325</td>\n",
       "      <td>0.3513</td>\n",
       "      <td>0.000471</td>\n",
       "      <td>13.392513</td>\n",
       "      <td>0.3514</td>\n",
       "      <td>0.000471</td>\n",
       "      <td>0.35135</td>\n",
       "      <td>13.394419</td>\n",
       "      <td>0.0001</td>\n",
       "      <td>2.846165</td>\n",
       "      <td>4.706129</td>\n",
       "      <td>0.3517</td>\n",
       "      <td>13328313357</td>\n",
       "      <td>43</td>\n",
       "      <td>1</td>\n",
       "    </tr>\n",
       "    <tr>\n",
       "      <th>51</th>\n",
       "      <td>2024-01-09 06:06:00.555679+00:00</td>\n",
       "      <td>1030828978</td>\n",
       "      <td>limit</td>\n",
       "      <td>2024-01-09 06:06:00.555679+00:00</td>\n",
       "      <td>2024-01-09 06:07:00+00:00</td>\n",
       "      <td>282.0</td>\n",
       "      <td>-152.0</td>\n",
       "      <td>America/New_York</td>\n",
       "      <td>{'stats': {'_submit_twap_child_order::wave_id'...</td>\n",
       "      <td>0.75</td>\n",
       "      <td>1</td>\n",
       "      <td>286</td>\n",
       "      <td>2024-01-09 06:05:59.947000+00:00</td>\n",
       "      <td>2024-01-09 06:06:00.085575+00:00</td>\n",
       "      <td>2024-01-09 06:06:00.073519+00:00</td>\n",
       "      <td>7507.0</td>\n",
       "      <td>12017.0</td>\n",
       "      <td>598</td>\n",
       "      <td>24.494897</td>\n",
       "      <td>0.000459</td>\n",
       "      <td>13.110945</td>\n",
       "      <td>0.3504</td>\n",
       "      <td>0.000459</td>\n",
       "      <td>13.107205</td>\n",
       "      <td>0.3505</td>\n",
       "      <td>0.000459</td>\n",
       "      <td>0.35045</td>\n",
       "      <td>13.109075</td>\n",
       "      <td>0.0001</td>\n",
       "      <td>2.853474</td>\n",
       "      <td>4.594075</td>\n",
       "      <td>0.3507</td>\n",
       "      <td>13328322908</td>\n",
       "      <td>51</td>\n",
       "      <td>1</td>\n",
       "    </tr>\n",
       "  </tbody>\n",
       "</table>\n",
       "</div>"
      ],
      "text/plain": [
       "                       creation_timestamp    asset_id  type_                  start_timestamp             end_timestamp  curr_num_shares  diff_num_shares                tz                                       extra_params  volatility_multiple  wave_id  num_data_points               exchange_timestamp              knowledge_timestamp           end_download_timestamp  latest_bid_size  latest_ask_size  num_data_points_resampled  scaling_multiplier   bid_vol  bid_vol_bps  latest_bid_price   ask_vol  ask_vol_bps  latest_ask_price  total_vol  latest_mid_price  total_vol_bps  spread  spread_bps  total_vol_to_spread_bps  limit_price      ccxt_id  name  attempt_num\n",
       "order_id                                                                                                                                                                                                                                                                                                                                                                                                                                                                                                                                                                                                                                                                                 \n",
       "13       2024-01-09 06:00:00.675828+00:00  1030828978  limit 2024-01-09 06:00:00.675828+00:00 2024-01-09 06:01:00+00:00              0.0            282.0  America/New_York  {'stats': {'_submit_twap_child_order::wave_id'...                 0.75        0              278 2024-01-09 05:59:59.818000+00:00 2024-01-09 05:59:59.851866+00:00 2024-01-09 05:59:59.839134+00:00          12664.0          23510.0                        598           24.494897  0.000549    15.586064            0.3523  0.000549    15.581641            0.3524   0.000549           0.35235      15.583852  0.0001    2.838087                 5.490970       0.3520  13328254963    13            1\n",
       "43       2024-01-09 06:05:00.616654+00:00  1030828978  limit 2024-01-09 06:05:00.616654+00:00 2024-01-09 06:06:00+00:00            282.0           -152.0  America/New_York  {'stats': {'_submit_twap_child_order::wave_id'...                 0.75        0              296 2024-01-09 06:05:00.079000+00:00 2024-01-09 06:05:00.192690+00:00 2024-01-09 06:05:00.179842+00:00          47867.0          11835.0                        597           24.494897  0.000471    13.396325            0.3513  0.000471    13.392513            0.3514   0.000471           0.35135      13.394419  0.0001    2.846165                 4.706129       0.3517  13328313357    43            1\n",
       "51       2024-01-09 06:06:00.555679+00:00  1030828978  limit 2024-01-09 06:06:00.555679+00:00 2024-01-09 06:07:00+00:00            282.0           -152.0  America/New_York  {'stats': {'_submit_twap_child_order::wave_id'...                 0.75        1              286 2024-01-09 06:05:59.947000+00:00 2024-01-09 06:06:00.085575+00:00 2024-01-09 06:06:00.073519+00:00           7507.0          12017.0                        598           24.494897  0.000459    13.110945            0.3504  0.000459    13.107205            0.3505   0.000459           0.35045      13.109075  0.0001    2.853474                 4.594075       0.3507  13328322908    51            1"
      ]
     },
     "execution_count": 10,
     "metadata": {},
     "output_type": "execute_result"
    }
   ],
   "source": [
    "oms_child_order_df.head(3)"
   ]
  },
  {
   "cell_type": "markdown",
   "id": "dd426466",
   "metadata": {},
   "source": [
    "### Extract the OMS parent order ID"
   ]
  },
  {
   "cell_type": "code",
   "execution_count": 12,
   "id": "25a33ab2",
   "metadata": {
    "ExecuteTime": {
     "end_time": "2024-01-11T16:58:59.845618Z",
     "start_time": "2024-01-11T16:58:59.729508Z"
    }
   },
   "outputs": [
    {
     "data": {
      "text/html": [
       "<div>\n",
       "<style scoped>\n",
       "    .dataframe tbody tr th:only-of-type {\n",
       "        vertical-align: middle;\n",
       "    }\n",
       "\n",
       "    .dataframe tbody tr th {\n",
       "        vertical-align: top;\n",
       "    }\n",
       "\n",
       "    .dataframe thead th {\n",
       "        text-align: right;\n",
       "    }\n",
       "</style>\n",
       "<table border=\"1\" class=\"dataframe\">\n",
       "  <thead>\n",
       "    <tr style=\"text-align: right;\">\n",
       "      <th></th>\n",
       "      <th>creation_timestamp</th>\n",
       "      <th>asset_id</th>\n",
       "      <th>type_</th>\n",
       "      <th>start_timestamp</th>\n",
       "      <th>end_timestamp</th>\n",
       "      <th>curr_num_shares</th>\n",
       "      <th>diff_num_shares</th>\n",
       "      <th>tz</th>\n",
       "      <th>extra_params</th>\n",
       "      <th>volatility_multiple</th>\n",
       "      <th>wave_id</th>\n",
       "      <th>num_data_points</th>\n",
       "      <th>exchange_timestamp</th>\n",
       "      <th>knowledge_timestamp</th>\n",
       "      <th>end_download_timestamp</th>\n",
       "      <th>latest_bid_size</th>\n",
       "      <th>latest_ask_size</th>\n",
       "      <th>num_data_points_resampled</th>\n",
       "      <th>scaling_multiplier</th>\n",
       "      <th>bid_vol</th>\n",
       "      <th>bid_vol_bps</th>\n",
       "      <th>latest_bid_price</th>\n",
       "      <th>ask_vol</th>\n",
       "      <th>ask_vol_bps</th>\n",
       "      <th>latest_ask_price</th>\n",
       "      <th>total_vol</th>\n",
       "      <th>latest_mid_price</th>\n",
       "      <th>total_vol_bps</th>\n",
       "      <th>spread</th>\n",
       "      <th>spread_bps</th>\n",
       "      <th>total_vol_to_spread_bps</th>\n",
       "      <th>limit_price</th>\n",
       "      <th>ccxt_id</th>\n",
       "      <th>name</th>\n",
       "      <th>attempt_num</th>\n",
       "      <th>parent_order_id</th>\n",
       "    </tr>\n",
       "    <tr>\n",
       "      <th>order_id</th>\n",
       "      <th></th>\n",
       "      <th></th>\n",
       "      <th></th>\n",
       "      <th></th>\n",
       "      <th></th>\n",
       "      <th></th>\n",
       "      <th></th>\n",
       "      <th></th>\n",
       "      <th></th>\n",
       "      <th></th>\n",
       "      <th></th>\n",
       "      <th></th>\n",
       "      <th></th>\n",
       "      <th></th>\n",
       "      <th></th>\n",
       "      <th></th>\n",
       "      <th></th>\n",
       "      <th></th>\n",
       "      <th></th>\n",
       "      <th></th>\n",
       "      <th></th>\n",
       "      <th></th>\n",
       "      <th></th>\n",
       "      <th></th>\n",
       "      <th></th>\n",
       "      <th></th>\n",
       "      <th></th>\n",
       "      <th></th>\n",
       "      <th></th>\n",
       "      <th></th>\n",
       "      <th></th>\n",
       "      <th></th>\n",
       "      <th></th>\n",
       "      <th></th>\n",
       "      <th></th>\n",
       "      <th></th>\n",
       "    </tr>\n",
       "  </thead>\n",
       "  <tbody>\n",
       "    <tr>\n",
       "      <th>13</th>\n",
       "      <td>2024-01-09 06:00:00.675828+00:00</td>\n",
       "      <td>1030828978</td>\n",
       "      <td>limit</td>\n",
       "      <td>2024-01-09 06:00:00.675828+00:00</td>\n",
       "      <td>2024-01-09 06:01:00+00:00</td>\n",
       "      <td>0.0</td>\n",
       "      <td>282.0</td>\n",
       "      <td>America/New_York</td>\n",
       "      <td>{'stats': {'_submit_twap_child_order::wave_id'...</td>\n",
       "      <td>0.75</td>\n",
       "      <td>0</td>\n",
       "      <td>278</td>\n",
       "      <td>2024-01-09 05:59:59.818000+00:00</td>\n",
       "      <td>2024-01-09 05:59:59.851866+00:00</td>\n",
       "      <td>2024-01-09 05:59:59.839134+00:00</td>\n",
       "      <td>12664.0</td>\n",
       "      <td>23510.0</td>\n",
       "      <td>598</td>\n",
       "      <td>24.494897</td>\n",
       "      <td>0.000549</td>\n",
       "      <td>15.586064</td>\n",
       "      <td>0.3523</td>\n",
       "      <td>0.000549</td>\n",
       "      <td>15.581641</td>\n",
       "      <td>0.3524</td>\n",
       "      <td>0.000549</td>\n",
       "      <td>0.35235</td>\n",
       "      <td>15.583852</td>\n",
       "      <td>0.0001</td>\n",
       "      <td>2.838087</td>\n",
       "      <td>5.490970</td>\n",
       "      <td>0.3520</td>\n",
       "      <td>13328254963</td>\n",
       "      <td>13</td>\n",
       "      <td>1</td>\n",
       "      <td>3</td>\n",
       "    </tr>\n",
       "    <tr>\n",
       "      <th>43</th>\n",
       "      <td>2024-01-09 06:05:00.616654+00:00</td>\n",
       "      <td>1030828978</td>\n",
       "      <td>limit</td>\n",
       "      <td>2024-01-09 06:05:00.616654+00:00</td>\n",
       "      <td>2024-01-09 06:06:00+00:00</td>\n",
       "      <td>282.0</td>\n",
       "      <td>-152.0</td>\n",
       "      <td>America/New_York</td>\n",
       "      <td>{'stats': {'_submit_twap_child_order::wave_id'...</td>\n",
       "      <td>0.75</td>\n",
       "      <td>0</td>\n",
       "      <td>296</td>\n",
       "      <td>2024-01-09 06:05:00.079000+00:00</td>\n",
       "      <td>2024-01-09 06:05:00.192690+00:00</td>\n",
       "      <td>2024-01-09 06:05:00.179842+00:00</td>\n",
       "      <td>47867.0</td>\n",
       "      <td>11835.0</td>\n",
       "      <td>597</td>\n",
       "      <td>24.494897</td>\n",
       "      <td>0.000471</td>\n",
       "      <td>13.396325</td>\n",
       "      <td>0.3513</td>\n",
       "      <td>0.000471</td>\n",
       "      <td>13.392513</td>\n",
       "      <td>0.3514</td>\n",
       "      <td>0.000471</td>\n",
       "      <td>0.35135</td>\n",
       "      <td>13.394419</td>\n",
       "      <td>0.0001</td>\n",
       "      <td>2.846165</td>\n",
       "      <td>4.706129</td>\n",
       "      <td>0.3517</td>\n",
       "      <td>13328313357</td>\n",
       "      <td>43</td>\n",
       "      <td>1</td>\n",
       "      <td>33</td>\n",
       "    </tr>\n",
       "    <tr>\n",
       "      <th>51</th>\n",
       "      <td>2024-01-09 06:06:00.555679+00:00</td>\n",
       "      <td>1030828978</td>\n",
       "      <td>limit</td>\n",
       "      <td>2024-01-09 06:06:00.555679+00:00</td>\n",
       "      <td>2024-01-09 06:07:00+00:00</td>\n",
       "      <td>282.0</td>\n",
       "      <td>-152.0</td>\n",
       "      <td>America/New_York</td>\n",
       "      <td>{'stats': {'_submit_twap_child_order::wave_id'...</td>\n",
       "      <td>0.75</td>\n",
       "      <td>1</td>\n",
       "      <td>286</td>\n",
       "      <td>2024-01-09 06:05:59.947000+00:00</td>\n",
       "      <td>2024-01-09 06:06:00.085575+00:00</td>\n",
       "      <td>2024-01-09 06:06:00.073519+00:00</td>\n",
       "      <td>7507.0</td>\n",
       "      <td>12017.0</td>\n",
       "      <td>598</td>\n",
       "      <td>24.494897</td>\n",
       "      <td>0.000459</td>\n",
       "      <td>13.110945</td>\n",
       "      <td>0.3504</td>\n",
       "      <td>0.000459</td>\n",
       "      <td>13.107205</td>\n",
       "      <td>0.3505</td>\n",
       "      <td>0.000459</td>\n",
       "      <td>0.35045</td>\n",
       "      <td>13.109075</td>\n",
       "      <td>0.0001</td>\n",
       "      <td>2.853474</td>\n",
       "      <td>4.594075</td>\n",
       "      <td>0.3507</td>\n",
       "      <td>13328322908</td>\n",
       "      <td>51</td>\n",
       "      <td>1</td>\n",
       "      <td>33</td>\n",
       "    </tr>\n",
       "  </tbody>\n",
       "</table>\n",
       "</div>"
      ],
      "text/plain": [
       "                       creation_timestamp    asset_id  type_                  start_timestamp             end_timestamp  curr_num_shares  diff_num_shares                tz                                       extra_params  volatility_multiple  wave_id  num_data_points               exchange_timestamp              knowledge_timestamp           end_download_timestamp  latest_bid_size  latest_ask_size  num_data_points_resampled  scaling_multiplier   bid_vol  bid_vol_bps  latest_bid_price   ask_vol  ask_vol_bps  latest_ask_price  total_vol  latest_mid_price  total_vol_bps  spread  spread_bps  total_vol_to_spread_bps  limit_price      ccxt_id  name  attempt_num  parent_order_id\n",
       "order_id                                                                                                                                                                                                                                                                                                                                                                                                                                                                                                                                                                                                                                                                                                  \n",
       "13       2024-01-09 06:00:00.675828+00:00  1030828978  limit 2024-01-09 06:00:00.675828+00:00 2024-01-09 06:01:00+00:00              0.0            282.0  America/New_York  {'stats': {'_submit_twap_child_order::wave_id'...                 0.75        0              278 2024-01-09 05:59:59.818000+00:00 2024-01-09 05:59:59.851866+00:00 2024-01-09 05:59:59.839134+00:00          12664.0          23510.0                        598           24.494897  0.000549    15.586064            0.3523  0.000549    15.581641            0.3524   0.000549           0.35235      15.583852  0.0001    2.838087                 5.490970       0.3520  13328254963    13            1                3\n",
       "43       2024-01-09 06:05:00.616654+00:00  1030828978  limit 2024-01-09 06:05:00.616654+00:00 2024-01-09 06:06:00+00:00            282.0           -152.0  America/New_York  {'stats': {'_submit_twap_child_order::wave_id'...                 0.75        0              296 2024-01-09 06:05:00.079000+00:00 2024-01-09 06:05:00.192690+00:00 2024-01-09 06:05:00.179842+00:00          47867.0          11835.0                        597           24.494897  0.000471    13.396325            0.3513  0.000471    13.392513            0.3514   0.000471           0.35135      13.394419  0.0001    2.846165                 4.706129       0.3517  13328313357    43            1               33\n",
       "51       2024-01-09 06:06:00.555679+00:00  1030828978  limit 2024-01-09 06:06:00.555679+00:00 2024-01-09 06:07:00+00:00            282.0           -152.0  America/New_York  {'stats': {'_submit_twap_child_order::wave_id'...                 0.75        1              286 2024-01-09 06:05:59.947000+00:00 2024-01-09 06:06:00.085575+00:00 2024-01-09 06:06:00.073519+00:00           7507.0          12017.0                        598           24.494897  0.000459    13.110945            0.3504  0.000459    13.107205            0.3505   0.000459           0.35045      13.109075  0.0001    2.853474                 4.594075       0.3507  13328322908    51            1               33"
      ]
     },
     "execution_count": 12,
     "metadata": {},
     "output_type": "execute_result"
    }
   ],
   "source": [
    "oms_child_order_df[\"parent_order_id\"] = oms_child_order_df[\"extra_params\"].apply(\n",
    "    lambda x: x[\"oms_parent_order_id\"]\n",
    ")\n",
    "oms_child_order_df.head(3)"
   ]
  },
  {
   "cell_type": "code",
   "execution_count": 13,
   "id": "4ce43023",
   "metadata": {
    "ExecuteTime": {
     "end_time": "2024-01-11T16:58:59.903975Z",
     "start_time": "2024-01-11T16:58:59.848592Z"
    }
   },
   "outputs": [
    {
     "data": {
      "text/plain": [
       "count\n",
       "1    30\n",
       "2    13\n",
       "3    13\n",
       "5     7\n",
       "4     7\n",
       "Name: count, dtype: int64"
      ]
     },
     "execution_count": 13,
     "metadata": {},
     "output_type": "execute_result"
    }
   ],
   "source": [
    "# Check how many child orders are generated per parent_order_id.\n",
    "oms_child_order_df[\"parent_order_id\"].value_counts().value_counts()"
   ]
  },
  {
   "cell_type": "markdown",
   "id": "6010bf1e",
   "metadata": {},
   "source": [
    "### Check the error messages in non-submitted orders."
   ]
  },
  {
   "cell_type": "code",
   "execution_count": 14,
   "id": "9b6c54ae",
   "metadata": {
    "ExecuteTime": {
     "end_time": "2024-01-11T16:58:59.974330Z",
     "start_time": "2024-01-11T16:58:59.908547Z"
    }
   },
   "outputs": [
    {
     "name": "stdout",
     "output_type": "stream",
     "text": [
      "Number of not submitted OMS child orders=0     out of total orders=158\n"
     ]
    }
   ],
   "source": [
    "# Select the OMS child orders with no CCXT ID and check their error messages.\n",
    "not_submitted_oms_child_order_df = oms_child_order_df.loc[\n",
    "    oms_child_order_df[\"ccxt_id\"] == -1\n",
    "]\n",
    "print(\n",
    "    f\"Number of not submitted OMS child orders={not_submitted_oms_child_order_df.shape[0]} \\\n",
    "    out of total orders={oms_child_order_df.shape[0]}\"\n",
    ")"
   ]
  },
  {
   "cell_type": "code",
   "execution_count": 15,
   "id": "4031cd72",
   "metadata": {
    "ExecuteTime": {
     "end_time": "2024-01-11T16:59:00.031804Z",
     "start_time": "2024-01-11T16:58:59.980856Z"
    },
    "lines_to_next_cell": 2
   },
   "outputs": [],
   "source": [
    "# Extract all error messages from unsubmitted orders.\n",
    "not_submitted_oms_child_order_df[\"error_msg\"] = not_submitted_oms_child_order_df[\n",
    "    \"extra_params\"\n",
    "].apply(lambda x: x[\"error_msg\"])"
   ]
  },
  {
   "cell_type": "code",
   "execution_count": 16,
   "id": "f0d795a2",
   "metadata": {
    "ExecuteTime": {
     "end_time": "2024-01-11T16:59:00.252809Z",
     "start_time": "2024-01-11T16:59:00.035894Z"
    }
   },
   "outputs": [
    {
     "data": {
      "text/plain": [
       "Series([], Name: count, dtype: int64)"
      ]
     },
     "execution_count": 16,
     "metadata": {},
     "output_type": "execute_result"
    }
   ],
   "source": [
    "# Display error messages grouped by symbol.\n",
    "# Get the universe to map asset_id's.\n",
    "universe = ivcu.get_vendor_universe(\"CCXT\", \"trade\", as_full_symbol=True)\n",
    "asset_id_to_symbol_mapping = ivcu.build_numerical_to_string_id_mapping(universe)\n",
    "not_submitted_oms_child_order_df[\n",
    "    \"full_symbol\"\n",
    "] = not_submitted_oms_child_order_df[\"asset_id\"].map(asset_id_to_symbol_mapping)\n",
    "# Get value counts of error messages.\n",
    "error_msg = not_submitted_oms_child_order_df.groupby(\"full_symbol\")[\n",
    "    \"error_msg\"\n",
    "].value_counts()\n",
    "error_msg"
   ]
  },
  {
   "cell_type": "markdown",
   "id": "a5331afb",
   "metadata": {},
   "source": [
    "### Check the buy and sell orders with max notional"
   ]
  },
  {
   "cell_type": "code",
   "execution_count": 17,
   "id": "8d016ca5",
   "metadata": {
    "ExecuteTime": {
     "end_time": "2024-01-11T16:59:00.334807Z",
     "start_time": "2024-01-11T16:59:00.255967Z"
    },
    "run_control": {
     "marked": true
    }
   },
   "outputs": [
    {
     "name": "stdout",
     "output_type": "stream",
     "text": [
      "INFO  Max sell notional: -99.17430000000002\n",
      "Max buy notional: 99.264\n"
     ]
    }
   ],
   "source": [
    "oms_child_order_notionals = (\n",
    "    oms_child_order_df[\"diff_num_shares\"] * oms_child_order_df[\"limit_price\"]\n",
    ")\n",
    "max_sell_notional = oms_child_order_notionals[oms_child_order_notionals < 0].min()\n",
    "max_buy_notional = oms_child_order_notionals[oms_child_order_notionals > 0].max()\n",
    "_LOG.info(\n",
    "    \"Max sell notional: %s\\nMax buy notional: %s\",\n",
    "    max_sell_notional,\n",
    "    max_buy_notional,\n",
    ")"
   ]
  },
  {
   "cell_type": "markdown",
   "id": "d09d45a2",
   "metadata": {},
   "source": [
    "## Parent orders"
   ]
  },
  {
   "cell_type": "code",
   "execution_count": 18,
   "id": "b658b5bb",
   "metadata": {
    "ExecuteTime": {
     "end_time": "2024-01-11T16:59:00.426778Z",
     "start_time": "2024-01-11T16:59:00.340171Z"
    }
   },
   "outputs": [
    {
     "data": {
      "text/html": [
       "<div>\n",
       "<style scoped>\n",
       "    .dataframe tbody tr th:only-of-type {\n",
       "        vertical-align: middle;\n",
       "    }\n",
       "\n",
       "    .dataframe tbody tr th {\n",
       "        vertical-align: top;\n",
       "    }\n",
       "\n",
       "    .dataframe thead th {\n",
       "        text-align: right;\n",
       "    }\n",
       "</style>\n",
       "<table border=\"1\" class=\"dataframe\">\n",
       "  <thead>\n",
       "    <tr style=\"text-align: right;\">\n",
       "      <th></th>\n",
       "      <th>creation_timestamp</th>\n",
       "      <th>asset_id</th>\n",
       "      <th>type_</th>\n",
       "      <th>start_timestamp</th>\n",
       "      <th>end_timestamp</th>\n",
       "      <th>curr_num_shares</th>\n",
       "      <th>diff_num_shares</th>\n",
       "      <th>tz</th>\n",
       "      <th>extra_params</th>\n",
       "    </tr>\n",
       "    <tr>\n",
       "      <th>order_id</th>\n",
       "      <th></th>\n",
       "      <th></th>\n",
       "      <th></th>\n",
       "      <th></th>\n",
       "      <th></th>\n",
       "      <th></th>\n",
       "      <th></th>\n",
       "      <th></th>\n",
       "      <th></th>\n",
       "    </tr>\n",
       "  </thead>\n",
       "  <tbody>\n",
       "    <tr>\n",
       "      <th>0</th>\n",
       "      <td>2024-01-09 06:00:00+00:00</td>\n",
       "      <td>1464553467</td>\n",
       "      <td>price@twap</td>\n",
       "      <td>2024-01-09 06:00:00+00:00</td>\n",
       "      <td>2024-01-09 06:05:00+00:00</td>\n",
       "      <td>0.0</td>\n",
       "      <td>-0.032471</td>\n",
       "      <td>UTC</td>\n",
       "      <td>{'ccxt_symbol': 'ETH/USDT:USDT', 'stats': {'_s...</td>\n",
       "    </tr>\n",
       "    <tr>\n",
       "      <th>1</th>\n",
       "      <td>2024-01-09 06:00:00+00:00</td>\n",
       "      <td>4516629366</td>\n",
       "      <td>price@twap</td>\n",
       "      <td>2024-01-09 06:00:00+00:00</td>\n",
       "      <td>2024-01-09 06:05:00+00:00</td>\n",
       "      <td>0.0</td>\n",
       "      <td>196.835199</td>\n",
       "      <td>UTC</td>\n",
       "      <td>{'ccxt_symbol': 'SAND/USDT:USDT', 'stats': {'_...</td>\n",
       "    </tr>\n",
       "    <tr>\n",
       "      <th>2</th>\n",
       "      <td>2024-01-09 06:00:00+00:00</td>\n",
       "      <td>2425308589</td>\n",
       "      <td>price@twap</td>\n",
       "      <td>2024-01-09 06:00:00+00:00</td>\n",
       "      <td>2024-01-09 06:05:00+00:00</td>\n",
       "      <td>0.0</td>\n",
       "      <td>111.948231</td>\n",
       "      <td>UTC</td>\n",
       "      <td>{'ccxt_symbol': 'STORJ/USDT:USDT', 'stats': {'...</td>\n",
       "    </tr>\n",
       "  </tbody>\n",
       "</table>\n",
       "</div>"
      ],
      "text/plain": [
       "                creation_timestamp    asset_id       type_           start_timestamp             end_timestamp  curr_num_shares  diff_num_shares   tz                                       extra_params\n",
       "order_id                                                                                                                                                                                                \n",
       "0        2024-01-09 06:00:00+00:00  1464553467  price@twap 2024-01-09 06:00:00+00:00 2024-01-09 06:05:00+00:00              0.0        -0.032471  UTC  {'ccxt_symbol': 'ETH/USDT:USDT', 'stats': {'_s...\n",
       "1        2024-01-09 06:00:00+00:00  4516629366  price@twap 2024-01-09 06:00:00+00:00 2024-01-09 06:05:00+00:00              0.0       196.835199  UTC  {'ccxt_symbol': 'SAND/USDT:USDT', 'stats': {'_...\n",
       "2        2024-01-09 06:00:00+00:00  2425308589  price@twap 2024-01-09 06:00:00+00:00 2024-01-09 06:05:00+00:00              0.0       111.948231  UTC  {'ccxt_symbol': 'STORJ/USDT:USDT', 'stats': {'..."
      ]
     },
     "execution_count": 18,
     "metadata": {},
     "output_type": "execute_result"
    }
   ],
   "source": [
    "oms_parent_order_df.head(3)"
   ]
  },
  {
   "cell_type": "code",
   "execution_count": 19,
   "id": "44886e00",
   "metadata": {
    "ExecuteTime": {
     "end_time": "2024-01-11T16:59:00.522071Z",
     "start_time": "2024-01-11T16:59:00.430629Z"
    }
   },
   "outputs": [
    {
     "data": {
      "text/html": [
       "<div>\n",
       "<style scoped>\n",
       "    .dataframe tbody tr th:only-of-type {\n",
       "        vertical-align: middle;\n",
       "    }\n",
       "\n",
       "    .dataframe tbody tr th {\n",
       "        vertical-align: top;\n",
       "    }\n",
       "\n",
       "    .dataframe thead th {\n",
       "        text-align: right;\n",
       "    }\n",
       "</style>\n",
       "<table border=\"1\" class=\"dataframe\">\n",
       "  <thead>\n",
       "    <tr style=\"text-align: right;\">\n",
       "      <th></th>\n",
       "      <th>creation_timestamp</th>\n",
       "      <th>asset_id</th>\n",
       "      <th>type_</th>\n",
       "      <th>start_timestamp</th>\n",
       "      <th>end_timestamp</th>\n",
       "      <th>curr_num_shares</th>\n",
       "      <th>diff_num_shares</th>\n",
       "      <th>tz</th>\n",
       "      <th>extra_params</th>\n",
       "      <th>child_order_ccxt_ids</th>\n",
       "    </tr>\n",
       "    <tr>\n",
       "      <th>order_id</th>\n",
       "      <th></th>\n",
       "      <th></th>\n",
       "      <th></th>\n",
       "      <th></th>\n",
       "      <th></th>\n",
       "      <th></th>\n",
       "      <th></th>\n",
       "      <th></th>\n",
       "      <th></th>\n",
       "      <th></th>\n",
       "    </tr>\n",
       "  </thead>\n",
       "  <tbody>\n",
       "    <tr>\n",
       "      <th>0</th>\n",
       "      <td>2024-01-09 06:00:00+00:00</td>\n",
       "      <td>1464553467</td>\n",
       "      <td>price@twap</td>\n",
       "      <td>2024-01-09 06:00:00+00:00</td>\n",
       "      <td>2024-01-09 06:05:00+00:00</td>\n",
       "      <td>0.0</td>\n",
       "      <td>-0.032471</td>\n",
       "      <td>UTC</td>\n",
       "      <td>{'ccxt_symbol': 'ETH/USDT:USDT', 'stats': {'_s...</td>\n",
       "      <td>[8389765641529362073, 8389765641529524939, 838...</td>\n",
       "    </tr>\n",
       "    <tr>\n",
       "      <th>1</th>\n",
       "      <td>2024-01-09 06:00:00+00:00</td>\n",
       "      <td>4516629366</td>\n",
       "      <td>price@twap</td>\n",
       "      <td>2024-01-09 06:00:00+00:00</td>\n",
       "      <td>2024-01-09 06:05:00+00:00</td>\n",
       "      <td>0.0</td>\n",
       "      <td>196.835199</td>\n",
       "      <td>UTC</td>\n",
       "      <td>{'ccxt_symbol': 'SAND/USDT:USDT', 'stats': {'_...</td>\n",
       "      <td>[15101905458]</td>\n",
       "    </tr>\n",
       "    <tr>\n",
       "      <th>2</th>\n",
       "      <td>2024-01-09 06:00:00+00:00</td>\n",
       "      <td>2425308589</td>\n",
       "      <td>price@twap</td>\n",
       "      <td>2024-01-09 06:00:00+00:00</td>\n",
       "      <td>2024-01-09 06:05:00+00:00</td>\n",
       "      <td>0.0</td>\n",
       "      <td>111.948231</td>\n",
       "      <td>UTC</td>\n",
       "      <td>{'ccxt_symbol': 'STORJ/USDT:USDT', 'stats': {'...</td>\n",
       "      <td>[7375710670]</td>\n",
       "    </tr>\n",
       "  </tbody>\n",
       "</table>\n",
       "</div>"
      ],
      "text/plain": [
       "                creation_timestamp    asset_id       type_           start_timestamp             end_timestamp  curr_num_shares  diff_num_shares   tz                                       extra_params                               child_order_ccxt_ids\n",
       "order_id                                                                                                                                                                                                                                                   \n",
       "0        2024-01-09 06:00:00+00:00  1464553467  price@twap 2024-01-09 06:00:00+00:00 2024-01-09 06:05:00+00:00              0.0        -0.032471  UTC  {'ccxt_symbol': 'ETH/USDT:USDT', 'stats': {'_s...  [8389765641529362073, 8389765641529524939, 838...\n",
       "1        2024-01-09 06:00:00+00:00  4516629366  price@twap 2024-01-09 06:00:00+00:00 2024-01-09 06:05:00+00:00              0.0       196.835199  UTC  {'ccxt_symbol': 'SAND/USDT:USDT', 'stats': {'_...                                      [15101905458]\n",
       "2        2024-01-09 06:00:00+00:00  2425308589  price@twap 2024-01-09 06:00:00+00:00 2024-01-09 06:05:00+00:00              0.0       111.948231  UTC  {'ccxt_symbol': 'STORJ/USDT:USDT', 'stats': {'...                                       [7375710670]"
      ]
     },
     "execution_count": 19,
     "metadata": {},
     "output_type": "execute_result"
    }
   ],
   "source": [
    "# Extract `ccxt_id` of child orders into a separate column.\n",
    "oms_parent_order_df[\"child_order_ccxt_ids\"] = oms_parent_order_df[\n",
    "    \"extra_params\"\n",
    "].apply(lambda x: x[\"ccxt_id\"])\n",
    "oms_parent_order_df.head(3)"
   ]
  },
  {
   "cell_type": "code",
   "execution_count": 20,
   "id": "f50f7c65",
   "metadata": {
    "ExecuteTime": {
     "end_time": "2024-01-11T16:59:00.590459Z",
     "start_time": "2024-01-11T16:59:00.525426Z"
    }
   },
   "outputs": [
    {
     "data": {
      "text/plain": [
       "submitted_child_order_num\n",
       "1    30\n",
       "2    13\n",
       "3    13\n",
       "4     7\n",
       "5     7\n",
       "Name: count, dtype: int64"
      ]
     },
     "execution_count": 20,
     "metadata": {},
     "output_type": "execute_result"
    }
   ],
   "source": [
    "# Check how many child orders per parent order were successfully submitted.\n",
    "# A value between maximum expected and 0 can mean that some child orders\n",
    "# could not get through, while otherwise being well-formed.\n",
    "# A value of 0 means that the parent order had an issue, e.g.\n",
    "# having a notional that made all child orders below a minimum.\n",
    "oms_parent_order_df[\"submitted_child_order_num\"] = oms_parent_order_df[\n",
    "    \"child_order_ccxt_ids\"\n",
    "].str.len()\n",
    "oms_parent_order_df[\"submitted_child_order_num\"].value_counts()"
   ]
  },
  {
   "cell_type": "markdown",
   "id": "116aad1f",
   "metadata": {},
   "source": [
    "## Trades"
   ]
  },
  {
   "cell_type": "code",
   "execution_count": 21,
   "id": "720a5d8e",
   "metadata": {
    "ExecuteTime": {
     "end_time": "2024-01-11T16:59:00.659825Z",
     "start_time": "2024-01-11T16:59:00.594587Z"
    }
   },
   "outputs": [
    {
     "name": "stdout",
     "output_type": "stream",
     "text": [
      "<class 'pandas.core.frame.DataFrame'>\n",
      "DatetimeIndex: 72 entries, 2024-01-09 06:00:07.720000+00:00 to 2024-01-09 06:34:09.990000+00:00\n",
      "Data columns (total 30 columns):\n",
      " #   Column            Non-Null Count  Dtype              \n",
      "---  ------            --------------  -----              \n",
      " 0   timestamp         72 non-null     datetime64[ns, UTC]\n",
      " 1   datetime          72 non-null     datetime64[ns, UTC]\n",
      " 2   symbol            72 non-null     object             \n",
      " 3   asset_id          72 non-null     int64              \n",
      " 4   id                72 non-null     int64              \n",
      " 5   order             72 non-null     int64              \n",
      " 6   side              72 non-null     object             \n",
      " 7   takerOrMaker      72 non-null     object             \n",
      " 8   price             72 non-null     float64            \n",
      " 9   amount            72 non-null     float64            \n",
      " 10  cost              72 non-null     float64            \n",
      " 11  transaction_cost  72 non-null     float64            \n",
      " 12  fees_currency     72 non-null     object             \n",
      " 13  realized_pnl      72 non-null     float64            \n",
      " 14  first_timestamp   72 non-null     datetime64[ns, UTC]\n",
      " 15  last_timestamp    72 non-null     datetime64[ns, UTC]\n",
      " 16  first_datetime    72 non-null     datetime64[ns, UTC]\n",
      " 17  last_datetime     72 non-null     datetime64[ns, UTC]\n",
      " 18  buy_count         72 non-null     int64              \n",
      " 19  sell_count        72 non-null     int64              \n",
      " 20  taker_count       72 non-null     int64              \n",
      " 21  maker_count       72 non-null     int64              \n",
      " 22  buy_volume        72 non-null     float64            \n",
      " 23  sell_volume       72 non-null     float64            \n",
      " 24  taker_volume      72 non-null     float64            \n",
      " 25  maker_volume      72 non-null     float64            \n",
      " 26  buy_notional      72 non-null     float64            \n",
      " 27  sell_notional     72 non-null     float64            \n",
      " 28  taker_notional    72 non-null     float64            \n",
      " 29  maker_notional    72 non-null     float64            \n",
      "dtypes: datetime64[ns, UTC](6), float64(13), int64(7), object(4)\n",
      "memory usage: 17.4+ KB\n"
     ]
    }
   ],
   "source": [
    "ccxt_trades_df.info()"
   ]
  },
  {
   "cell_type": "markdown",
   "id": "8162f36c",
   "metadata": {},
   "source": [
    "### Verify that all trades correspond to logged child orders"
   ]
  },
  {
   "cell_type": "code",
   "execution_count": 22,
   "id": "2f232dbe",
   "metadata": {
    "ExecuteTime": {
     "end_time": "2024-01-11T16:59:00.734041Z",
     "start_time": "2024-01-11T16:59:00.667381Z"
    }
   },
   "outputs": [
    {
     "data": {
      "text/plain": [
       "True"
      ]
     },
     "execution_count": 22,
     "metadata": {},
     "output_type": "execute_result"
    }
   ],
   "source": [
    "# Verify that all trades have an associated order response.\n",
    "# If the trade does not have an associated order, it means\n",
    "# that a trade was executed that was not accounted for during the experiment.\n",
    "all(ccxt_trades_df[\"order\"].isin(ccxt_order_response_df[\"order\"]))"
   ]
  },
  {
   "cell_type": "code",
   "execution_count": 23,
   "id": "a9da33f8",
   "metadata": {
    "ExecuteTime": {
     "end_time": "2024-01-11T16:59:00.836220Z",
     "start_time": "2024-01-11T16:59:00.738226Z"
    }
   },
   "outputs": [
    {
     "data": {
      "text/plain": [
       "True"
      ]
     },
     "execution_count": 23,
     "metadata": {},
     "output_type": "execute_result"
    }
   ],
   "source": [
    "# Verify that all trades have an associated 'ccxt_id' in OMS child orders.\n",
    "# This verifies that there is a consistency between a CCXT order, OMS order and\n",
    "# a CCXT trade. If a trade has no associated OMS child order `ccxt_id`, it means\n",
    "# that an unexpected trade was executed, for example, by a different actor on the same account.\n",
    "all(ccxt_trades_df[\"order\"].isin(oms_child_order_df[\"ccxt_id\"]))"
   ]
  },
  {
   "cell_type": "markdown",
   "id": "b062c15e",
   "metadata": {},
   "source": [
    "### Check orders that do not correspond to any trades"
   ]
  },
  {
   "cell_type": "code",
   "execution_count": 24,
   "id": "e9f3c401",
   "metadata": {
    "ExecuteTime": {
     "end_time": "2024-01-11T16:59:00.905511Z",
     "start_time": "2024-01-11T16:59:00.840354Z"
    },
    "run_control": {
     "marked": true
    }
   },
   "outputs": [
    {
     "data": {
      "text/plain": [
       "92"
      ]
     },
     "execution_count": 24,
     "metadata": {},
     "output_type": "execute_result"
    }
   ],
   "source": [
    "# Existence of such orders is not necessarily a bug.\n",
    "# It means that a given OMS child order was not filled.\n",
    "child_orders_with_no_trades = ~oms_child_order_df[\"ccxt_id\"].isin(\n",
    "    ccxt_trades_df[\"order\"]\n",
    ")\n",
    "child_orders_with_no_trades.sum()"
   ]
  },
  {
   "cell_type": "markdown",
   "id": "e3f259f4",
   "metadata": {},
   "source": [
    "### Check the correctness of trade amount"
   ]
  },
  {
   "cell_type": "code",
   "execution_count": 25,
   "id": "7a486138",
   "metadata": {
    "ExecuteTime": {
     "end_time": "2024-01-11T16:59:00.983836Z",
     "start_time": "2024-01-11T16:59:00.909488Z"
    },
    "run_control": {
     "marked": false
    }
   },
   "outputs": [],
   "source": [
    "# If the traded amount is larger than the order, it means that an extra trade\n",
    "# is executed and the order is filled for a larger amount.\n",
    "# This can mean an accounting error on the exchange side.\n",
    "trade_amount_by_order = ccxt_trades_df.groupby(\"order\").agg({\"amount\": \"sum\"})\n",
    "accepted_child_order_df = oms_child_order_df.loc[\n",
    "    oms_child_order_df[\"ccxt_id\"] != -1\n",
    "]\n",
    "trade_amount_by_order[\"child_order_amount\"] = accepted_child_order_df.set_index(\n",
    "    \"ccxt_id\"\n",
    ")[\"diff_num_shares\"].abs()"
   ]
  },
  {
   "cell_type": "code",
   "execution_count": 26,
   "id": "bc3855fb",
   "metadata": {
    "ExecuteTime": {
     "end_time": "2024-01-11T16:59:01.060342Z",
     "start_time": "2024-01-11T16:59:00.987911Z"
    }
   },
   "outputs": [
    {
     "data": {
      "text/html": [
       "<div>\n",
       "<style scoped>\n",
       "    .dataframe tbody tr th:only-of-type {\n",
       "        vertical-align: middle;\n",
       "    }\n",
       "\n",
       "    .dataframe tbody tr th {\n",
       "        vertical-align: top;\n",
       "    }\n",
       "\n",
       "    .dataframe thead th {\n",
       "        text-align: right;\n",
       "    }\n",
       "</style>\n",
       "<table border=\"1\" class=\"dataframe\">\n",
       "  <thead>\n",
       "    <tr style=\"text-align: right;\">\n",
       "      <th></th>\n",
       "      <th>amount</th>\n",
       "      <th>child_order_amount</th>\n",
       "    </tr>\n",
       "    <tr>\n",
       "      <th>order</th>\n",
       "      <th></th>\n",
       "      <th></th>\n",
       "    </tr>\n",
       "  </thead>\n",
       "  <tbody>\n",
       "  </tbody>\n",
       "</table>\n",
       "</div>"
      ],
      "text/plain": [
       "Empty DataFrame\n",
       "Columns: [amount, child_order_amount]\n",
       "Index: []"
      ]
     },
     "execution_count": 26,
     "metadata": {},
     "output_type": "execute_result"
    }
   ],
   "source": [
    "mask = (\n",
    "    trade_amount_by_order[\"amount\"] > trade_amount_by_order[\"child_order_amount\"]\n",
    ")\n",
    "trade_amount_by_order.loc[mask]"
   ]
  },
  {
   "cell_type": "code",
   "execution_count": 27,
   "id": "9835ee69",
   "metadata": {
    "ExecuteTime": {
     "end_time": "2024-01-11T16:59:01.144127Z",
     "start_time": "2024-01-11T16:59:01.074272Z"
    }
   },
   "outputs": [
    {
     "data": {
      "text/html": [
       "<div>\n",
       "<style scoped>\n",
       "    .dataframe tbody tr th:only-of-type {\n",
       "        vertical-align: middle;\n",
       "    }\n",
       "\n",
       "    .dataframe tbody tr th {\n",
       "        vertical-align: top;\n",
       "    }\n",
       "\n",
       "    .dataframe thead th {\n",
       "        text-align: right;\n",
       "    }\n",
       "</style>\n",
       "<table border=\"1\" class=\"dataframe\">\n",
       "  <thead>\n",
       "    <tr style=\"text-align: right;\">\n",
       "      <th></th>\n",
       "      <th>child_order_amount</th>\n",
       "      <th>aggregated_trades_quantity</th>\n",
       "      <th>diff</th>\n",
       "    </tr>\n",
       "    <tr>\n",
       "      <th>order</th>\n",
       "      <th></th>\n",
       "      <th></th>\n",
       "      <th></th>\n",
       "    </tr>\n",
       "  </thead>\n",
       "  <tbody>\n",
       "  </tbody>\n",
       "</table>\n",
       "</div>"
      ],
      "text/plain": [
       "Empty DataFrame\n",
       "Columns: [child_order_amount, aggregated_trades_quantity, diff]\n",
       "Index: []"
      ]
     },
     "execution_count": 27,
     "metadata": {},
     "output_type": "execute_result"
    }
   ],
   "source": [
    "# Check the difference between the filled amount and the agg child order quantities.\n",
    "trade_amount_by_order[\"diff\"] = (\n",
    "    trade_amount_by_order[\"child_order_amount\"] - trade_amount_by_order[\"amount\"]\n",
    ")\n",
    "trade_amount_by_order = trade_amount_by_order.rename(\n",
    "    {\"amount\": \"aggregated_trades_quantity\"}, axis=1\n",
    ")\n",
    "trade_amount_by_order = trade_amount_by_order[\n",
    "    [\"child_order_amount\", \"aggregated_trades_quantity\", \"diff\"]\n",
    "]\n",
    "trade_amount_by_order[trade_amount_by_order[\"diff\"] > 0]"
   ]
  },
  {
   "cell_type": "markdown",
   "id": "98a28744",
   "metadata": {},
   "source": [
    "### Verify that CCXT IDs are equal in both child orders and responses"
   ]
  },
  {
   "cell_type": "code",
   "execution_count": 28,
   "id": "105816b6",
   "metadata": {
    "ExecuteTime": {
     "end_time": "2024-01-11T16:59:01.222279Z",
     "start_time": "2024-01-11T16:59:01.148970Z"
    }
   },
   "outputs": [
    {
     "data": {
      "text/plain": [
       "True"
      ]
     },
     "execution_count": 28,
     "metadata": {},
     "output_type": "execute_result"
    }
   ],
   "source": [
    "# Verify that we are not logging any CCXT orders that are not a part\n",
    "# of the experiment, i.e. have no OMS order associated with it.\n",
    "# We expect all retrieved responses to be a subset of CCXT IDs\n",
    "# connected to the OMS child orders.\n",
    "submitted_oms_orders_ccxt_ids = set(\n",
    "    oms_child_order_df.loc[oms_child_order_df[\"ccxt_id\"] != -1][\n",
    "        \"ccxt_id\"\n",
    "    ].unique()\n",
    ")\n",
    "ccxt_response_ids = set(ccxt_order_response_df[\"order\"].unique())\n",
    "ccxt_response_ids.issubset(submitted_oms_orders_ccxt_ids)"
   ]
  },
  {
   "cell_type": "markdown",
   "id": "fcefad2b",
   "metadata": {},
   "source": [
    "# Group trades by order"
   ]
  },
  {
   "cell_type": "code",
   "execution_count": 29,
   "id": "5e97be34",
   "metadata": {
    "ExecuteTime": {
     "end_time": "2024-01-11T16:59:01.681165Z",
     "start_time": "2024-01-11T16:59:01.228111Z"
    }
   },
   "outputs": [
    {
     "data": {
      "text/html": [
       "<div>\n",
       "<style scoped>\n",
       "    .dataframe tbody tr th:only-of-type {\n",
       "        vertical-align: middle;\n",
       "    }\n",
       "\n",
       "    .dataframe tbody tr th {\n",
       "        vertical-align: top;\n",
       "    }\n",
       "\n",
       "    .dataframe thead th {\n",
       "        text-align: right;\n",
       "    }\n",
       "</style>\n",
       "<table border=\"1\" class=\"dataframe\">\n",
       "  <thead>\n",
       "    <tr style=\"text-align: right;\">\n",
       "      <th></th>\n",
       "      <th>first_timestamp</th>\n",
       "      <th>last_timestamp</th>\n",
       "      <th>first_datetime</th>\n",
       "      <th>last_datetime</th>\n",
       "      <th>symbol</th>\n",
       "      <th>asset_id</th>\n",
       "      <th>buy_count</th>\n",
       "      <th>sell_count</th>\n",
       "      <th>taker_count</th>\n",
       "      <th>maker_count</th>\n",
       "      <th>buy_volume</th>\n",
       "      <th>sell_volume</th>\n",
       "      <th>taker_volume</th>\n",
       "      <th>maker_volume</th>\n",
       "      <th>buy_notional</th>\n",
       "      <th>sell_notional</th>\n",
       "      <th>taker_notional</th>\n",
       "      <th>maker_notional</th>\n",
       "      <th>price</th>\n",
       "      <th>amount</th>\n",
       "      <th>cost</th>\n",
       "      <th>transaction_cost</th>\n",
       "      <th>realized_pnl</th>\n",
       "    </tr>\n",
       "    <tr>\n",
       "      <th>order</th>\n",
       "      <th></th>\n",
       "      <th></th>\n",
       "      <th></th>\n",
       "      <th></th>\n",
       "      <th></th>\n",
       "      <th></th>\n",
       "      <th></th>\n",
       "      <th></th>\n",
       "      <th></th>\n",
       "      <th></th>\n",
       "      <th></th>\n",
       "      <th></th>\n",
       "      <th></th>\n",
       "      <th></th>\n",
       "      <th></th>\n",
       "      <th></th>\n",
       "      <th></th>\n",
       "      <th></th>\n",
       "      <th></th>\n",
       "      <th></th>\n",
       "      <th></th>\n",
       "      <th></th>\n",
       "      <th></th>\n",
       "    </tr>\n",
       "  </thead>\n",
       "  <tbody>\n",
       "    <tr>\n",
       "      <th>7375710670</th>\n",
       "      <td>2024-01-09 06:00:40.112000+00:00</td>\n",
       "      <td>2024-01-09 06:00:40.112000+00:00</td>\n",
       "      <td>2024-01-09 06:00:40.112000+00:00</td>\n",
       "      <td>2024-01-09 06:00:40.112000+00:00</td>\n",
       "      <td>STORJ/USDT:USDT</td>\n",
       "      <td>2425308589</td>\n",
       "      <td>1</td>\n",
       "      <td>0</td>\n",
       "      <td>0</td>\n",
       "      <td>1</td>\n",
       "      <td>111.0</td>\n",
       "      <td>0.0</td>\n",
       "      <td>0.0</td>\n",
       "      <td>111.0</td>\n",
       "      <td>67.1439</td>\n",
       "      <td>0.0000</td>\n",
       "      <td>0.0</td>\n",
       "      <td>67.1439</td>\n",
       "      <td>0.6049</td>\n",
       "      <td>111.0</td>\n",
       "      <td>67.1439</td>\n",
       "      <td>0.013429</td>\n",
       "      <td>0.0000</td>\n",
       "    </tr>\n",
       "    <tr>\n",
       "      <th>7375729349</th>\n",
       "      <td>2024-01-09 06:05:29.829000+00:00</td>\n",
       "      <td>2024-01-09 06:05:29.829000+00:00</td>\n",
       "      <td>2024-01-09 06:05:29.829000+00:00</td>\n",
       "      <td>2024-01-09 06:05:29.829000+00:00</td>\n",
       "      <td>STORJ/USDT:USDT</td>\n",
       "      <td>2425308589</td>\n",
       "      <td>0</td>\n",
       "      <td>1</td>\n",
       "      <td>0</td>\n",
       "      <td>1</td>\n",
       "      <td>0.0</td>\n",
       "      <td>152.0</td>\n",
       "      <td>0.0</td>\n",
       "      <td>152.0</td>\n",
       "      <td>0.0000</td>\n",
       "      <td>91.7776</td>\n",
       "      <td>0.0</td>\n",
       "      <td>91.7776</td>\n",
       "      <td>0.6038</td>\n",
       "      <td>152.0</td>\n",
       "      <td>91.7776</td>\n",
       "      <td>0.018356</td>\n",
       "      <td>-0.1221</td>\n",
       "    </tr>\n",
       "    <tr>\n",
       "      <th>7375753462</th>\n",
       "      <td>2024-01-09 06:11:11.191000+00:00</td>\n",
       "      <td>2024-01-09 06:11:11.191000+00:00</td>\n",
       "      <td>2024-01-09 06:11:11.191000+00:00</td>\n",
       "      <td>2024-01-09 06:11:11.191000+00:00</td>\n",
       "      <td>STORJ/USDT:USDT</td>\n",
       "      <td>2425308589</td>\n",
       "      <td>1</td>\n",
       "      <td>0</td>\n",
       "      <td>0</td>\n",
       "      <td>1</td>\n",
       "      <td>164.0</td>\n",
       "      <td>0.0</td>\n",
       "      <td>0.0</td>\n",
       "      <td>164.0</td>\n",
       "      <td>98.9412</td>\n",
       "      <td>0.0000</td>\n",
       "      <td>0.0</td>\n",
       "      <td>98.9412</td>\n",
       "      <td>0.6033</td>\n",
       "      <td>164.0</td>\n",
       "      <td>98.9412</td>\n",
       "      <td>0.019788</td>\n",
       "      <td>0.0205</td>\n",
       "    </tr>\n",
       "  </tbody>\n",
       "</table>\n",
       "</div>"
      ],
      "text/plain": [
       "                            first_timestamp                   last_timestamp                   first_datetime                    last_datetime           symbol    asset_id  buy_count  sell_count  taker_count  maker_count  buy_volume  sell_volume  taker_volume  maker_volume  buy_notional  sell_notional  taker_notional  maker_notional   price  amount     cost  transaction_cost  realized_pnl\n",
       "order                                                                                                                                                                                                                                                                                                                                                                                                  \n",
       "7375710670 2024-01-09 06:00:40.112000+00:00 2024-01-09 06:00:40.112000+00:00 2024-01-09 06:00:40.112000+00:00 2024-01-09 06:00:40.112000+00:00  STORJ/USDT:USDT  2425308589          1           0            0            1       111.0          0.0           0.0         111.0       67.1439         0.0000             0.0         67.1439  0.6049   111.0  67.1439          0.013429        0.0000\n",
       "7375729349 2024-01-09 06:05:29.829000+00:00 2024-01-09 06:05:29.829000+00:00 2024-01-09 06:05:29.829000+00:00 2024-01-09 06:05:29.829000+00:00  STORJ/USDT:USDT  2425308589          0           1            0            1         0.0        152.0           0.0         152.0        0.0000        91.7776             0.0         91.7776  0.6038   152.0  91.7776          0.018356       -0.1221\n",
       "7375753462 2024-01-09 06:11:11.191000+00:00 2024-01-09 06:11:11.191000+00:00 2024-01-09 06:11:11.191000+00:00 2024-01-09 06:11:11.191000+00:00  STORJ/USDT:USDT  2425308589          1           0            0            1       164.0          0.0           0.0         164.0       98.9412         0.0000             0.0         98.9412  0.6033   164.0  98.9412          0.019788        0.0205"
      ]
     },
     "execution_count": 29,
     "metadata": {},
     "output_type": "execute_result"
    }
   ],
   "source": [
    "# Aggregate fills by order.\n",
    "ccxt_trades_by_order = obccagfu.aggregate_fills_by_order(ccxt_trades_df)\n",
    "ccxt_trades_by_order.head(3)"
   ]
  },
  {
   "cell_type": "markdown",
   "id": "49783fe2",
   "metadata": {},
   "source": [
    "# Time profiling for child orders"
   ]
  },
  {
   "cell_type": "code",
   "execution_count": 30,
   "id": "8233f1ef",
   "metadata": {
    "ExecuteTime": {
     "end_time": "2024-01-11T16:59:03.407313Z",
     "start_time": "2024-01-11T16:59:01.684960Z"
    }
   },
   "outputs": [
    {
     "data": {
      "application/vnd.jupyter.widget-view+json": {
       "model_id": "f7fc464f120349449a776f8971b81444",
       "version_major": 2,
       "version_minor": 0
      },
      "text/plain": [
       "Loading `/shared_data/ecs/test/tokyo_broker_only/2024/01/09/20240109_2/oms_child_orders` files...:   0%|      …"
      ]
     },
     "metadata": {},
     "output_type": "display_data"
    }
   ],
   "source": [
    "oms_child_order_df_unpacked = ccxt_log_reader.load_oms_child_order(\n",
    "    unpack_extra_params=True, convert_to_dataframe=True\n",
    ")"
   ]
  },
  {
   "cell_type": "code",
   "execution_count": 31,
   "id": "ad5cfca7",
   "metadata": {
    "ExecuteTime": {
     "end_time": "2024-01-11T16:59:03.549904Z",
     "start_time": "2024-01-11T16:59:03.422341Z"
    },
    "run_control": {
     "marked": true
    }
   },
   "outputs": [],
   "source": [
    "# Get the number of child orders per wave as determined by the number of unique assets.\n",
    "wave = obccexqu.get_oms_child_order_timestamps(oms_child_order_df_unpacked)"
   ]
  },
  {
   "cell_type": "code",
   "execution_count": 32,
   "id": "e413c4ee",
   "metadata": {
    "ExecuteTime": {
     "end_time": "2024-01-11T16:59:03.625973Z",
     "start_time": "2024-01-11T16:59:03.553114Z"
    }
   },
   "outputs": [
    {
     "data": {
      "text/html": [
       "<div>\n",
       "<style scoped>\n",
       "    .dataframe tbody tr th:only-of-type {\n",
       "        vertical-align: middle;\n",
       "    }\n",
       "\n",
       "    .dataframe tbody tr th {\n",
       "        vertical-align: top;\n",
       "    }\n",
       "\n",
       "    .dataframe thead th {\n",
       "        text-align: right;\n",
       "    }\n",
       "</style>\n",
       "<table border=\"1\" class=\"dataframe\">\n",
       "  <thead>\n",
       "    <tr style=\"text-align: right;\">\n",
       "      <th></th>\n",
       "      <th>exchange_timestamp</th>\n",
       "      <th>end_download_timestamp</th>\n",
       "      <th>knowledge_timestamp</th>\n",
       "      <th>stats__submit_twap_child_order::bid_ask_market_data.start</th>\n",
       "      <th>stats__submit_twap_child_order::bid_ask_market_data.done</th>\n",
       "      <th>stats__submit_twap_child_order::get_open_positions.done</th>\n",
       "      <th>stats__submit_twap_child_order::child_order.created</th>\n",
       "      <th>stats__submit_twap_child_order::child_order.limit_price_calculated</th>\n",
       "      <th>stats__submit_single_order_to_ccxt::start.timestamp</th>\n",
       "      <th>stats__submit_single_order_to_ccxt::all_attempts_end.timestamp</th>\n",
       "      <th>stats__submit_twap_child_order::child_order.submitted</th>\n",
       "    </tr>\n",
       "    <tr>\n",
       "      <th>order_id</th>\n",
       "      <th></th>\n",
       "      <th></th>\n",
       "      <th></th>\n",
       "      <th></th>\n",
       "      <th></th>\n",
       "      <th></th>\n",
       "      <th></th>\n",
       "      <th></th>\n",
       "      <th></th>\n",
       "      <th></th>\n",
       "      <th></th>\n",
       "    </tr>\n",
       "  </thead>\n",
       "  <tbody>\n",
       "    <tr>\n",
       "      <th>13</th>\n",
       "      <td>2024-01-09 05:59:59.818000+00:00</td>\n",
       "      <td>2024-01-09 05:59:59.839134+00:00</td>\n",
       "      <td>2024-01-09 05:59:59.851866+00:00</td>\n",
       "      <td>2024-01-09 06:00:00.020168+00:00</td>\n",
       "      <td>2024-01-09 06:00:00.638071+00:00</td>\n",
       "      <td>2024-01-09 06:00:00.016721+00:00</td>\n",
       "      <td>2024-01-09 06:00:00.677236+00:00</td>\n",
       "      <td>2024-01-09 06:00:00.682116+00:00</td>\n",
       "      <td>2024-01-09 06:00:00.682912+00:00</td>\n",
       "      <td>2024-01-09 06:00:01.739348+00:00</td>\n",
       "      <td>2024-01-09 06:00:01.739708+00:00</td>\n",
       "    </tr>\n",
       "    <tr>\n",
       "      <th>43</th>\n",
       "      <td>2024-01-09 06:05:00.079000+00:00</td>\n",
       "      <td>2024-01-09 06:05:00.179842+00:00</td>\n",
       "      <td>2024-01-09 06:05:00.192690+00:00</td>\n",
       "      <td>2024-01-09 06:05:00.252358+00:00</td>\n",
       "      <td>2024-01-09 06:05:00.576822+00:00</td>\n",
       "      <td>2024-01-09 06:05:00.248453+00:00</td>\n",
       "      <td>2024-01-09 06:05:00.618246+00:00</td>\n",
       "      <td>2024-01-09 06:05:00.623311+00:00</td>\n",
       "      <td>2024-01-09 06:05:00.624195+00:00</td>\n",
       "      <td>2024-01-09 06:05:00.856795+00:00</td>\n",
       "      <td>2024-01-09 06:05:00.857140+00:00</td>\n",
       "    </tr>\n",
       "    <tr>\n",
       "      <th>51</th>\n",
       "      <td>2024-01-09 06:05:59.947000+00:00</td>\n",
       "      <td>2024-01-09 06:06:00.073519+00:00</td>\n",
       "      <td>2024-01-09 06:06:00.085575+00:00</td>\n",
       "      <td>2024-01-09 06:06:00.153921+00:00</td>\n",
       "      <td>2024-01-09 06:06:00.530155+00:00</td>\n",
       "      <td>2024-01-09 06:06:00.149129+00:00</td>\n",
       "      <td>2024-01-09 06:06:00.557349+00:00</td>\n",
       "      <td>2024-01-09 06:06:00.562594+00:00</td>\n",
       "      <td>2024-01-09 06:06:00.563487+00:00</td>\n",
       "      <td>2024-01-09 06:06:00.659903+00:00</td>\n",
       "      <td>2024-01-09 06:06:00.660223+00:00</td>\n",
       "    </tr>\n",
       "  </tbody>\n",
       "</table>\n",
       "</div>"
      ],
      "text/plain": [
       "                       exchange_timestamp           end_download_timestamp              knowledge_timestamp stats__submit_twap_child_order::bid_ask_market_data.start stats__submit_twap_child_order::bid_ask_market_data.done stats__submit_twap_child_order::get_open_positions.done stats__submit_twap_child_order::child_order.created stats__submit_twap_child_order::child_order.limit_price_calculated stats__submit_single_order_to_ccxt::start.timestamp stats__submit_single_order_to_ccxt::all_attempts_end.timestamp stats__submit_twap_child_order::child_order.submitted\n",
       "order_id                                                                                                                                                                                                                                                                                                                                                                                                                                                                                                                                                                              \n",
       "13       2024-01-09 05:59:59.818000+00:00 2024-01-09 05:59:59.839134+00:00 2024-01-09 05:59:59.851866+00:00                   2024-01-09 06:00:00.020168+00:00                          2024-01-09 06:00:00.638071+00:00                         2024-01-09 06:00:00.016721+00:00                        2024-01-09 06:00:00.677236+00:00                    2024-01-09 06:00:00.682116+00:00                                   2024-01-09 06:00:00.682912+00:00                    2024-01-09 06:00:01.739348+00:00                               2024-01-09 06:00:01.739708+00:00   \n",
       "43       2024-01-09 06:05:00.079000+00:00 2024-01-09 06:05:00.179842+00:00 2024-01-09 06:05:00.192690+00:00                   2024-01-09 06:05:00.252358+00:00                          2024-01-09 06:05:00.576822+00:00                         2024-01-09 06:05:00.248453+00:00                        2024-01-09 06:05:00.618246+00:00                    2024-01-09 06:05:00.623311+00:00                                   2024-01-09 06:05:00.624195+00:00                    2024-01-09 06:05:00.856795+00:00                               2024-01-09 06:05:00.857140+00:00   \n",
       "51       2024-01-09 06:05:59.947000+00:00 2024-01-09 06:06:00.073519+00:00 2024-01-09 06:06:00.085575+00:00                   2024-01-09 06:06:00.153921+00:00                          2024-01-09 06:06:00.530155+00:00                         2024-01-09 06:06:00.149129+00:00                        2024-01-09 06:06:00.557349+00:00                    2024-01-09 06:06:00.562594+00:00                                   2024-01-09 06:06:00.563487+00:00                    2024-01-09 06:06:00.659903+00:00                               2024-01-09 06:06:00.660223+00:00   "
      ]
     },
     "execution_count": 32,
     "metadata": {},
     "output_type": "execute_result"
    }
   ],
   "source": [
    "wave.head(3)"
   ]
  },
  {
   "cell_type": "code",
   "execution_count": 33,
   "id": "9bfe4279",
   "metadata": {
    "ExecuteTime": {
     "end_time": "2024-01-11T16:59:03.702477Z",
     "start_time": "2024-01-11T16:59:03.634057Z"
    }
   },
   "outputs": [],
   "source": [
    "# Sort the events (column names) in chronological order.\n",
    "wave = wave.sort_values(wave.first_valid_index(), axis=1)\n",
    "time_delays = obccexqu.get_time_delay_between_events(wave)"
   ]
  },
  {
   "cell_type": "code",
   "execution_count": 34,
   "id": "cdb8d03c",
   "metadata": {
    "ExecuteTime": {
     "end_time": "2024-01-11T16:59:04.784824Z",
     "start_time": "2024-01-11T16:59:03.706816Z"
    }
   },
   "outputs": [
    {
     "data": {
      "text/plain": [
       "<Axes: ylabel='Time delay'>"
      ]
     },
     "execution_count": 34,
     "metadata": {},
     "output_type": "execute_result"
    },
    {
     "data": {
      "image/png": "[encoded data removed]",
      "text/plain": [
       "<Figure size 2000x500 with 1 Axes>"
      ]
     },
     "metadata": {},
     "output_type": "display_data"
    }
   ],
   "source": [
    "time_delays.boxplot(rot=45, ylabel=\"Time delay\")"
   ]
  },
  {
   "cell_type": "code",
   "execution_count": null,
   "id": "6659d2e6",
   "metadata": {},
   "outputs": [],
   "source": []
  }
 ],
 "metadata": {
  "jupytext": {
   "formats": "ipynb,py:percent"
  },
  "kernelspec": {
   "display_name": "Python 3 (ipykernel)",
   "language": "python",
   "name": "python3"
  },
  "language_info": {
   "codemirror_mode": {
    "name": "ipython",
    "version": 3
   },
   "file_extension": ".py",
   "mimetype": "text/x-python",
   "name": "python",
   "nbconvert_exporter": "python",
   "pygments_lexer": "ipython3",
   "version": "3.9.5"
  },
  "toc": {
   "base_numbering": 1,
   "nav_menu": {},
   "number_sections": true,
   "sideBar": true,
   "skip_h1_title": false,
   "title_cell": "Table of Contents",
   "title_sidebar": "Contents",
   "toc_cell": false,
   "toc_position": {},
   "toc_section_display": true,
   "toc_window_display": false
  }
 },
 "nbformat": 4,
 "nbformat_minor": 5
}
