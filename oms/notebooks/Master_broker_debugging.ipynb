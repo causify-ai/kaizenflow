{
 "cells": [
  {
   "cell_type": "markdown",
   "id": "c2b180ca",
   "metadata": {},
   "source": [
    "# Description"
   ]
  },
  {
   "cell_type": "markdown",
   "id": "816b0a2d",
   "metadata": {},
   "source": [
    "This notebook contains tools for debugging an individual `CcxtBroker` execution.\n",
    "\n",
    "The notebook is responsible for aspects of the execution experiment run that are related to the correctness of the execution, as opposed to the analysis of the result:\n",
    "- Consistency of logging\n",
    "- Correctness in the submission of orders\n",
    "- Consistency between trades and submitted orders\n",
    "- Order time profiling"
   ]
  },
  {
   "cell_type": "code",
   "execution_count": 1,
   "id": "a8826a04",
   "metadata": {
    "ExecuteTime": {
     "end_time": "2023-06-27T14:24:26.991305Z",
     "start_time": "2023-06-27T14:24:23.281491Z"
    },
    "run_control": {
     "marked": false
    }
   },
   "outputs": [
    {
     "name": "stderr",
     "output_type": "stream",
     "text": [
      "/app/core/signal_processing/decorrelation.py:12: TqdmExperimentalWarning: Using `tqdm.autonotebook.tqdm` in notebook mode. Use `tqdm.tqdm` instead to force console mode (e.g. in jupyter console)\n",
      "  from tqdm.autonotebook import tqdm\n"
     ]
    }
   ],
   "source": [
    "%load_ext autoreload\n",
    "%autoreload 2\n",
    "\n",
    "import logging\n",
    "\n",
    "import pandas as pd\n",
    "\n",
    "import helpers.hdbg as hdbg\n",
    "import helpers.henv as henv\n",
    "import helpers.hprint as hprint\n",
    "import oms.ccxt.ccxt_filled_orders_reader as occforre"
   ]
  },
  {
   "cell_type": "code",
   "execution_count": 2,
   "id": "0fb7786a",
   "metadata": {
    "ExecuteTime": {
     "end_time": "2023-06-27T14:24:27.232348Z",
     "start_time": "2023-06-27T14:24:26.994127Z"
    },
    "scrolled": true
   },
   "outputs": [
    {
     "name": "stdout",
     "output_type": "stream",
     "text": [
      "\u001b[0m\u001b[36mINFO\u001b[0m: > cmd='/venv/lib/python3.8/site-packages/ipykernel_launcher.py -f /home/.local/share/jupyter/runtime/kernel-93e37837-7096-49d6-a87d-073df6b484e1.json'\n",
      "WARNING: Running in Jupyter\n",
      "\u001b[31m-----------------------------------------------------------------------------\n",
      "This code is not in sync with the container:\n",
      "code_version='1.4.3' != container_version='1.4.0'\n",
      "-----------------------------------------------------------------------------\n",
      "You need to:\n",
      "- merge origin/master into your branch with `invoke git_merge_master`\n",
      "- pull the latest container with `invoke docker_pull`\u001b[0m\n",
      "INFO  # Git\n",
      "  branch_name='CmTask4626_update_time_stats_logging'\n",
      "  hash='138cc2f38'\n",
      "  # Last commits:\n",
      "    * 138cc2f38 tamriq   CmTask4626: replace get_machine_wall_clock_time with self.market_data.get_wall_clock_time() (  17 hours ago) Mon Jun 26 21:29:05 2023  (HEAD -> CmTask4626_update_time_stats_logging, origin/CmTask4626_update_time_stats_logging)\n",
      "    * 39dbb786e Nina Lee CmTask4487_set_abort_on_error_to_False_in_reconcile_create_dirs (#4611) (  22 hours ago) Mon Jun 26 16:18:09 2023  (origin/master, origin/HEAD, master)\n",
      "    * 4d7cde6c9 Daniil Tikhomirov Cm task4588 clean up debugging notebooks (#4623)                  (    4 days ago) Fri Jun 23 16:01:36 2023           \n",
      "# Machine info\n",
      "  system=Linux\n",
      "  node name=9e40c5631e4d\n",
      "  release=5.15.0-1033-aws\n",
      "  version=#37~20.04.1-Ubuntu SMP Fri Mar 17 11:39:30 UTC 2023\n",
      "  machine=x86_64\n",
      "  processor=x86_64\n",
      "  cpu count=8\n",
      "  cpu freq=scpufreq(current=2499.998, min=0.0, max=0.0)\n",
      "  memory=svmem(total=33292873728, available=27725897728, percent=16.7, used=5097521152, free=6216134656, active=11298402304, inactive=12721094656, buffers=1661566976, cached=20317650944, shared=11710464, slab=2760421376)\n",
      "  disk usage=sdiskusage(total=156052275200, used=31392616448, free=124642881536, percent=20.1)\n",
      "# Packages\n",
      "  python: 3.8.10\n",
      "  cvxopt: 1.3.0\n",
      "  cvxpy: 1.2.2\n",
      "  gluonnlp: ?\n",
      "  gluonts: 0.6.7\n",
      "  joblib: 1.2.0\n",
      "  mxnet: 1.9.1\n",
      "  numpy: 1.23.4\n",
      "  pandas: 1.5.1\n",
      "  pyarrow: 10.0.0\n",
      "  scipy: 1.9.3\n",
      "  seaborn: 0.12.1\n",
      "  sklearn: 1.1.3\n",
      "  statsmodels: 0.13.5\n"
     ]
    }
   ],
   "source": [
    "hdbg.init_logger(verbosity=logging.INFO)\n",
    "\n",
    "_LOG = logging.getLogger(__name__)\n",
    "\n",
    "_LOG.info(\"%s\", henv.get_system_signature()[0])\n",
    "\n",
    "hprint.config_notebook()"
   ]
  },
  {
   "cell_type": "code",
   "execution_count": 3,
   "id": "12a2c0b3",
   "metadata": {
    "ExecuteTime": {
     "end_time": "2023-06-27T14:24:47.317959Z",
     "start_time": "2023-06-27T14:24:47.269758Z"
    }
   },
   "outputs": [],
   "source": [
    "# Here provide a directory containing experiment results.\n",
    "log_dir = \"/app/system_log_dir/\"\n",
    "ccxt_log_reader = occforre.CcxtLogsReader(log_dir)"
   ]
  },
  {
   "cell_type": "code",
   "execution_count": 4,
   "id": "bdeeb2d8",
   "metadata": {
    "ExecuteTime": {
     "end_time": "2023-06-27T14:24:55.002038Z",
     "start_time": "2023-06-27T14:24:54.727334Z"
    }
   },
   "outputs": [
    {
     "data": {
      "application/vnd.jupyter.widget-view+json": {
       "model_id": "c274383833e24f2493d0648a745105f4",
       "version_major": 2,
       "version_minor": 0
      },
      "text/plain": [
       "Loading files from '/app/rt_data/system_log_dir_20230627-063500/ccxt_child_order_responses':   0%|          | …"
      ]
     },
     "metadata": {},
     "output_type": "display_data"
    },
    {
     "data": {
      "application/vnd.jupyter.widget-view+json": {
       "model_id": "d01c21b3b8884eba8308b3eb8748f64f",
       "version_major": 2,
       "version_minor": 0
      },
      "text/plain": [
       "Loading files from '/app/rt_data/system_log_dir_20230627-063500/child_order_fills/ccxt_trades':   0%|         …"
      ]
     },
     "metadata": {},
     "output_type": "display_data"
    },
    {
     "data": {
      "application/vnd.jupyter.widget-view+json": {
       "model_id": "cea4924970964e78aa1bae54448920dd",
       "version_major": 2,
       "version_minor": 0
      },
      "text/plain": [
       "Loading files from '/app/rt_data/system_log_dir_20230627-063500/oms_child_orders':   0%|          | 0/10 [00:0…"
      ]
     },
     "metadata": {},
     "output_type": "display_data"
    }
   ],
   "source": [
    "data = ccxt_log_reader.load_all_data()\n",
    "ccxt_order_response_df = data[\"ccxt_order_responses\"]\n",
    "ccxt_trades_df = data[\"ccxt_trades\"]\n",
    "child_order_df = data[\"oms_child_orders\"]"
   ]
  },
  {
   "cell_type": "markdown",
   "id": "df628c80",
   "metadata": {},
   "source": [
    "## Child order responses"
   ]
  },
  {
   "cell_type": "code",
   "execution_count": 5,
   "id": "f3136c5d",
   "metadata": {
    "ExecuteTime": {
     "end_time": "2023-06-27T14:24:55.061808Z",
     "start_time": "2023-06-27T14:24:55.005049Z"
    },
    "scrolled": false
   },
   "outputs": [
    {
     "name": "stdout",
     "output_type": "stream",
     "text": [
      "<class 'pandas.core.frame.DataFrame'>\n",
      "RangeIndex: 10 entries, 0 to 9\n",
      "Data columns (total 25 columns):\n",
      " #   Column                  Non-Null Count  Dtype              \n",
      "---  ------                  --------------  -----              \n",
      " 0   info                    10 non-null     object             \n",
      " 1   order                   10 non-null     object             \n",
      " 2   client_order_id         10 non-null     object             \n",
      " 3   timestamp               5 non-null      float64            \n",
      " 4   datetime                5 non-null      object             \n",
      " 5   last_trade_timestamp    0 non-null      object             \n",
      " 6   symbol                  10 non-null     object             \n",
      " 7   order_type              10 non-null     object             \n",
      " 8   time_in_force           10 non-null     object             \n",
      " 9   post_only               10 non-null     bool               \n",
      " 10  reduce_only             10 non-null     bool               \n",
      " 11  side                    10 non-null     object             \n",
      " 12  order_price             10 non-null     float64            \n",
      " 13  stop_price              0 non-null      object             \n",
      " 14  order_amount            10 non-null     float64            \n",
      " 15  cost                    10 non-null     float64            \n",
      " 16  average                 5 non-null      float64            \n",
      " 17  filled                  10 non-null     float64            \n",
      " 18  remaining               10 non-null     float64            \n",
      " 19  status                  10 non-null     object             \n",
      " 20  fee                     0 non-null      object             \n",
      " 21  trades                  10 non-null     object             \n",
      " 22  fees                    10 non-null     object             \n",
      " 23  order_update_timestamp  10 non-null     object             \n",
      " 24  order_update_datetime   10 non-null     datetime64[ns, UTC]\n",
      "dtypes: bool(2), datetime64[ns, UTC](1), float64(7), object(15)\n",
      "memory usage: 1.9+ KB\n"
     ]
    }
   ],
   "source": [
    "ccxt_order_response_df.info()"
   ]
  },
  {
   "cell_type": "markdown",
   "id": "7ea8bce3",
   "metadata": {},
   "source": [
    "## Child orders"
   ]
  },
  {
   "cell_type": "code",
   "execution_count": 6,
   "id": "ff9b2099",
   "metadata": {
    "ExecuteTime": {
     "end_time": "2023-06-27T14:24:55.117031Z",
     "start_time": "2023-06-27T14:24:55.064017Z"
    }
   },
   "outputs": [
    {
     "name": "stdout",
     "output_type": "stream",
     "text": [
      "<class 'pandas.core.frame.DataFrame'>\n",
      "Int64Index: 10 entries, 0 to 9\n",
      "Data columns (total 19 columns):\n",
      " #   Column              Non-Null Count  Dtype              \n",
      "---  ------              --------------  -----              \n",
      " 0   creation_timestamp  10 non-null     datetime64[ns, UTC]\n",
      " 1   asset_id            10 non-null     int64              \n",
      " 2   type_               10 non-null     object             \n",
      " 3   start_timestamp     10 non-null     datetime64[ns, UTC]\n",
      " 4   end_timestamp       10 non-null     datetime64[ns, UTC]\n",
      " 5   curr_num_shares     10 non-null     float64            \n",
      " 6   diff_num_shares     10 non-null     float64            \n",
      " 7   tz                  10 non-null     object             \n",
      " 8   extra_params        10 non-null     object             \n",
      " 9   passivity_factor    10 non-null     float64            \n",
      " 10  latest_bid_price    10 non-null     float64            \n",
      " 11  latest_ask_price    10 non-null     float64            \n",
      " 12  bid_price_mean      10 non-null     float64            \n",
      " 13  ask_price_mean      10 non-null     float64            \n",
      " 14  used_bid_price      10 non-null     object             \n",
      " 15  used_ask_price      10 non-null     object             \n",
      " 16  limit_price         10 non-null     float64            \n",
      " 17  ccxt_id             10 non-null     int64              \n",
      " 18  name                10 non-null     int64              \n",
      "dtypes: datetime64[ns, UTC](3), float64(8), int64(3), object(5)\n",
      "memory usage: 1.6+ KB\n"
     ]
    }
   ],
   "source": [
    "child_order_df.info()"
   ]
  },
  {
   "cell_type": "code",
   "execution_count": 7,
   "id": "537de063",
   "metadata": {
    "ExecuteTime": {
     "end_time": "2023-06-27T14:24:55.164529Z",
     "start_time": "2023-06-27T14:24:55.120463Z"
    }
   },
   "outputs": [],
   "source": [
    "# Convert ccxt_id to string to avoid type confusion.\n",
    "child_order_df[\"ccxt_id\"] = child_order_df[\"ccxt_id\"].astype(str)"
   ]
  },
  {
   "cell_type": "code",
   "execution_count": 8,
   "id": "5d7d4d26",
   "metadata": {
    "ExecuteTime": {
     "end_time": "2023-06-27T14:24:55.214399Z",
     "start_time": "2023-06-27T14:24:55.166540Z"
    }
   },
   "outputs": [
    {
     "data": {
      "text/plain": [
       "{'stats': {'child_order_created': Timestamp('2023-06-27 09:31:48.943538-0400', tz='America/New_York'),\n",
       "  'child_order_limit_price_calculated': Timestamp('2023-06-27 09:31:48.948011-0400', tz='America/New_York'),\n",
       "  'child_order_submitted': Timestamp('2023-06-27 09:31:49.459447-0400', tz='America/New_York'),\n",
       "  'aligned_with_next_child_order_start_timestamp': Timestamp('2023-06-27 09:32:49.520546-0400', tz='America/New_York')},\n",
       " 'max_leverage': 50,\n",
       " 'submit_single_order_to_ccxt.start.timestamp': Timestamp('2023-06-27 09:31:48.949281-0400', tz='America/New_York'),\n",
       " 'ccxt_id': 30183997106,\n",
       " 'submit_single_order_to_ccxt.num_attempts': 0,\n",
       " 'submit_single_order_to_ccxt.end.timestamp': Timestamp('2023-06-27 09:31:49.459322-0400', tz='America/New_York')}"
      ]
     },
     "execution_count": 8,
     "metadata": {},
     "output_type": "execute_result"
    }
   ],
   "source": [
    "child_order_df[\"extra_params\"][0]"
   ]
  },
  {
   "cell_type": "markdown",
   "id": "18d809ba",
   "metadata": {},
   "source": [
    "## Trades"
   ]
  },
  {
   "cell_type": "code",
   "execution_count": 9,
   "id": "4e76c6ed",
   "metadata": {
    "ExecuteTime": {
     "end_time": "2023-06-27T14:24:55.270285Z",
     "start_time": "2023-06-27T14:24:55.217276Z"
    }
   },
   "outputs": [
    {
     "name": "stdout",
     "output_type": "stream",
     "text": [
      "<class 'pandas.core.frame.DataFrame'>\n",
      "DatetimeIndex: 6 entries, 2023-06-27 13:31:49.844000+00:00 to 2023-06-27 13:36:18.526000+00:00\n",
      "Data columns (total 22 columns):\n",
      " #   Column            Non-Null Count  Dtype              \n",
      "---  ------            --------------  -----              \n",
      " 0   timestamp         6 non-null      datetime64[ns, UTC]\n",
      " 1   datetime          6 non-null      datetime64[ns, UTC]\n",
      " 2   symbol            6 non-null      object             \n",
      " 3   asset_id          6 non-null      int64              \n",
      " 4   id                6 non-null      object             \n",
      " 5   order             6 non-null      object             \n",
      " 6   side              6 non-null      object             \n",
      " 7   takerOrMaker      6 non-null      object             \n",
      " 8   price             6 non-null      float64            \n",
      " 9   amount            6 non-null      float64            \n",
      " 10  cost              6 non-null      float64            \n",
      " 11  transaction_cost  6 non-null      float64            \n",
      " 12  fees_currency     6 non-null      object             \n",
      " 13  realized_pnl      6 non-null      float64            \n",
      " 14  first_timestamp   6 non-null      datetime64[ns, UTC]\n",
      " 15  last_timestamp    6 non-null      datetime64[ns, UTC]\n",
      " 16  first_datetime    6 non-null      datetime64[ns, UTC]\n",
      " 17  last_datetime     6 non-null      datetime64[ns, UTC]\n",
      " 18  buy_count         6 non-null      int64              \n",
      " 19  sell_count        6 non-null      int64              \n",
      " 20  taker_count       6 non-null      int64              \n",
      " 21  maker_count       6 non-null      int64              \n",
      "dtypes: datetime64[ns, UTC](6), float64(5), int64(5), object(6)\n",
      "memory usage: 1.1+ KB\n"
     ]
    }
   ],
   "source": [
    "ccxt_trades_df.info()"
   ]
  },
  {
   "cell_type": "markdown",
   "id": "2f6f580c",
   "metadata": {},
   "source": [
    "### Verify that all trades correspond to logged child orders"
   ]
  },
  {
   "cell_type": "code",
   "execution_count": 10,
   "id": "c2a5983f",
   "metadata": {
    "ExecuteTime": {
     "end_time": "2023-06-27T14:24:55.320488Z",
     "start_time": "2023-06-27T14:24:55.273044Z"
    }
   },
   "outputs": [
    {
     "data": {
      "text/plain": [
       "timestamp\n",
       "2023-06-27 13:31:49.844000+00:00    True\n",
       "2023-06-27 13:32:54.573000+00:00    True\n",
       "2023-06-27 13:33:58.636000+00:00    True\n",
       "2023-06-27 13:35:03.299000+00:00    True\n",
       "2023-06-27 13:36:07.907000+00:00    True\n",
       "2023-06-27 13:36:18.526000+00:00    True\n",
       "Name: order, dtype: bool"
      ]
     },
     "execution_count": 10,
     "metadata": {},
     "output_type": "execute_result"
    }
   ],
   "source": [
    "# Verify that all trades have an associated order response.\n",
    "# If the trade does not have an associated order, it means\n",
    "# that a trade was executed that was not accounted for during the experiment.\n",
    "ccxt_trades_df[\"order\"].isin(ccxt_order_response_df[\"order\"])"
   ]
  },
  {
   "cell_type": "code",
   "execution_count": 11,
   "id": "5d98b28a",
   "metadata": {
    "ExecuteTime": {
     "end_time": "2023-06-27T14:24:55.368151Z",
     "start_time": "2023-06-27T14:24:55.323043Z"
    }
   },
   "outputs": [
    {
     "data": {
      "text/plain": [
       "timestamp\n",
       "2023-06-27 13:31:49.844000+00:00    True\n",
       "2023-06-27 13:32:54.573000+00:00    True\n",
       "2023-06-27 13:33:58.636000+00:00    True\n",
       "2023-06-27 13:35:03.299000+00:00    True\n",
       "2023-06-27 13:36:07.907000+00:00    True\n",
       "2023-06-27 13:36:18.526000+00:00    True\n",
       "Name: order, dtype: bool"
      ]
     },
     "execution_count": 11,
     "metadata": {},
     "output_type": "execute_result"
    }
   ],
   "source": [
    "# Verify that all trades have an associated 'ccxt_id' in OMS child orders.\n",
    "# This verifies that there is a consistency between a CCXT order, OMS order and\n",
    "# a CCXT trade. If a trade has no associated OMS child order `ccxt_id`, it means\n",
    "# that an unexpected trade was executed, for example, by a different actor on the same account.\n",
    "ccxt_trades_df[\"order\"].isin(child_order_df[\"ccxt_id\"])"
   ]
  },
  {
   "cell_type": "markdown",
   "id": "9b18507e",
   "metadata": {},
   "source": [
    "### Check orders that do not correspond to any trades"
   ]
  },
  {
   "cell_type": "code",
   "execution_count": 12,
   "id": "73f2576d",
   "metadata": {
    "ExecuteTime": {
     "end_time": "2023-06-27T14:24:55.416105Z",
     "start_time": "2023-06-27T14:24:55.370916Z"
    },
    "run_control": {
     "marked": true
    }
   },
   "outputs": [
    {
     "data": {
      "text/plain": [
       "4"
      ]
     },
     "execution_count": 12,
     "metadata": {},
     "output_type": "execute_result"
    }
   ],
   "source": [
    "# Existence of such orders is not necessarily a bug.\n",
    "# It means that a given OMS child order was not filled.\n",
    "child_orders_with_no_trades = ~child_order_df[\"ccxt_id\"].isin(\n",
    "    ccxt_trades_df[\"order\"]\n",
    ")\n",
    "child_orders_with_no_trades.sum()"
   ]
  },
  {
   "cell_type": "code",
   "execution_count": 13,
   "id": "adf0f955",
   "metadata": {
    "ExecuteTime": {
     "end_time": "2023-06-27T14:24:55.483796Z",
     "start_time": "2023-06-27T14:24:55.419989Z"
    }
   },
   "outputs": [
    {
     "data": {
      "text/html": [
       "<div>\n",
       "<style scoped>\n",
       "    .dataframe tbody tr th:only-of-type {\n",
       "        vertical-align: middle;\n",
       "    }\n",
       "\n",
       "    .dataframe tbody tr th {\n",
       "        vertical-align: top;\n",
       "    }\n",
       "\n",
       "    .dataframe thead th {\n",
       "        text-align: right;\n",
       "    }\n",
       "</style>\n",
       "<table border=\"1\" class=\"dataframe\">\n",
       "  <thead>\n",
       "    <tr style=\"text-align: right;\">\n",
       "      <th></th>\n",
       "      <th>creation_timestamp</th>\n",
       "      <th>asset_id</th>\n",
       "      <th>type_</th>\n",
       "      <th>start_timestamp</th>\n",
       "      <th>end_timestamp</th>\n",
       "      <th>curr_num_shares</th>\n",
       "      <th>diff_num_shares</th>\n",
       "      <th>tz</th>\n",
       "      <th>extra_params</th>\n",
       "      <th>passivity_factor</th>\n",
       "      <th>latest_bid_price</th>\n",
       "      <th>latest_ask_price</th>\n",
       "      <th>bid_price_mean</th>\n",
       "      <th>ask_price_mean</th>\n",
       "      <th>used_bid_price</th>\n",
       "      <th>used_ask_price</th>\n",
       "      <th>limit_price</th>\n",
       "      <th>ccxt_id</th>\n",
       "      <th>name</th>\n",
       "    </tr>\n",
       "    <tr>\n",
       "      <th>order_id</th>\n",
       "      <th></th>\n",
       "      <th></th>\n",
       "      <th></th>\n",
       "      <th></th>\n",
       "      <th></th>\n",
       "      <th></th>\n",
       "      <th></th>\n",
       "      <th></th>\n",
       "      <th></th>\n",
       "      <th></th>\n",
       "      <th></th>\n",
       "      <th></th>\n",
       "      <th></th>\n",
       "      <th></th>\n",
       "      <th></th>\n",
       "      <th></th>\n",
       "      <th></th>\n",
       "      <th></th>\n",
       "      <th></th>\n",
       "    </tr>\n",
       "  </thead>\n",
       "  <tbody>\n",
       "    <tr>\n",
       "      <th>0</th>\n",
       "      <td>2023-06-27 13:31:48.942768+00:00</td>\n",
       "      <td>3065029174</td>\n",
       "      <td>limit</td>\n",
       "      <td>2023-06-27 13:31:48.942768+00:00</td>\n",
       "      <td>2023-06-27 13:32:48.942768+00:00</td>\n",
       "      <td>-900.0</td>\n",
       "      <td>-225.0</td>\n",
       "      <td>America/New_York</td>\n",
       "      <td>{'stats': {'child_order_created': 2023-06-27 0...</td>\n",
       "      <td>0.55</td>\n",
       "      <td>0.06531</td>\n",
       "      <td>0.06532</td>\n",
       "      <td>0.065285</td>\n",
       "      <td>0.065295</td>\n",
       "      <td>latest_bid_price</td>\n",
       "      <td>latest_ask_price</td>\n",
       "      <td>0.065315</td>\n",
       "      <td>30183997106</td>\n",
       "      <td>0</td>\n",
       "    </tr>\n",
       "    <tr>\n",
       "      <th>2</th>\n",
       "      <td>2023-06-27 13:32:53.671325+00:00</td>\n",
       "      <td>3065029174</td>\n",
       "      <td>limit</td>\n",
       "      <td>2023-06-27 13:32:53.671325+00:00</td>\n",
       "      <td>2023-06-27 13:33:53.671325+00:00</td>\n",
       "      <td>-900.0</td>\n",
       "      <td>-225.0</td>\n",
       "      <td>America/New_York</td>\n",
       "      <td>{'stats': {'child_order_created': 2023-06-27 0...</td>\n",
       "      <td>0.55</td>\n",
       "      <td>0.06525</td>\n",
       "      <td>0.06526</td>\n",
       "      <td>0.065250</td>\n",
       "      <td>0.065260</td>\n",
       "      <td>latest_bid_price</td>\n",
       "      <td>latest_ask_price</td>\n",
       "      <td>0.065255</td>\n",
       "      <td>30184012154</td>\n",
       "      <td>2</td>\n",
       "    </tr>\n",
       "    <tr>\n",
       "      <th>5</th>\n",
       "      <td>2023-06-27 13:33:58.761872+00:00</td>\n",
       "      <td>6051632686</td>\n",
       "      <td>limit</td>\n",
       "      <td>2023-06-27 13:33:58.761872+00:00</td>\n",
       "      <td>2023-06-27 13:34:58.761872+00:00</td>\n",
       "      <td>88.0</td>\n",
       "      <td>8.0</td>\n",
       "      <td>America/New_York</td>\n",
       "      <td>{'stats': {'child_order_created': 2023-06-27 0...</td>\n",
       "      <td>0.55</td>\n",
       "      <td>2.32600</td>\n",
       "      <td>2.32700</td>\n",
       "      <td>2.325850</td>\n",
       "      <td>2.326850</td>\n",
       "      <td>latest_bid_price</td>\n",
       "      <td>latest_ask_price</td>\n",
       "      <td>2.326450</td>\n",
       "      <td>9195908368</td>\n",
       "      <td>5</td>\n",
       "    </tr>\n",
       "    <tr>\n",
       "      <th>7</th>\n",
       "      <td>2023-06-27 13:35:03.427969+00:00</td>\n",
       "      <td>6051632686</td>\n",
       "      <td>limit</td>\n",
       "      <td>2023-06-27 13:35:03.427969+00:00</td>\n",
       "      <td>2023-06-27 13:36:03.427969+00:00</td>\n",
       "      <td>88.0</td>\n",
       "      <td>8.0</td>\n",
       "      <td>America/New_York</td>\n",
       "      <td>{'stats': {'child_order_created': 2023-06-27 0...</td>\n",
       "      <td>0.55</td>\n",
       "      <td>2.33100</td>\n",
       "      <td>2.33200</td>\n",
       "      <td>2.330167</td>\n",
       "      <td>2.331167</td>\n",
       "      <td>latest_bid_price</td>\n",
       "      <td>latest_ask_price</td>\n",
       "      <td>2.331450</td>\n",
       "      <td>9195926707</td>\n",
       "      <td>7</td>\n",
       "    </tr>\n",
       "  </tbody>\n",
       "</table>\n",
       "</div>"
      ],
      "text/plain": [
       "                       creation_timestamp    asset_id  type_                  start_timestamp                    end_timestamp  curr_num_shares  diff_num_shares                tz                                       extra_params  passivity_factor  latest_bid_price  latest_ask_price  bid_price_mean  ask_price_mean    used_bid_price    used_ask_price  limit_price      ccxt_id  name\n",
       "order_id                                                                                                                                                                                                                                                                                                                                                                                       \n",
       "0        2023-06-27 13:31:48.942768+00:00  3065029174  limit 2023-06-27 13:31:48.942768+00:00 2023-06-27 13:32:48.942768+00:00           -900.0           -225.0  America/New_York  {'stats': {'child_order_created': 2023-06-27 0...              0.55           0.06531           0.06532        0.065285        0.065295  latest_bid_price  latest_ask_price     0.065315  30183997106     0\n",
       "2        2023-06-27 13:32:53.671325+00:00  3065029174  limit 2023-06-27 13:32:53.671325+00:00 2023-06-27 13:33:53.671325+00:00           -900.0           -225.0  America/New_York  {'stats': {'child_order_created': 2023-06-27 0...              0.55           0.06525           0.06526        0.065250        0.065260  latest_bid_price  latest_ask_price     0.065255  30184012154     2\n",
       "5        2023-06-27 13:33:58.761872+00:00  6051632686  limit 2023-06-27 13:33:58.761872+00:00 2023-06-27 13:34:58.761872+00:00             88.0              8.0  America/New_York  {'stats': {'child_order_created': 2023-06-27 0...              0.55           2.32600           2.32700        2.325850        2.326850  latest_bid_price  latest_ask_price     2.326450   9195908368     5\n",
       "7        2023-06-27 13:35:03.427969+00:00  6051632686  limit 2023-06-27 13:35:03.427969+00:00 2023-06-27 13:36:03.427969+00:00             88.0              8.0  America/New_York  {'stats': {'child_order_created': 2023-06-27 0...              0.55           2.33100           2.33200        2.330167        2.331167  latest_bid_price  latest_ask_price     2.331450   9195926707     7"
      ]
     },
     "execution_count": 13,
     "metadata": {},
     "output_type": "execute_result"
    }
   ],
   "source": [
    "child_order_df.loc[child_orders_with_no_trades]"
   ]
  },
  {
   "cell_type": "markdown",
   "id": "528f2842",
   "metadata": {},
   "source": [
    "### Check the correctness of trade amount\n",
    "- Sum of `amount` of all trades related to a single child order should not exceed the total amount for that order.\n"
   ]
  },
  {
   "cell_type": "code",
   "execution_count": 14,
   "id": "c8675e0f",
   "metadata": {
    "ExecuteTime": {
     "end_time": "2023-06-27T14:24:55.532907Z",
     "start_time": "2023-06-27T14:24:55.486187Z"
    },
    "run_control": {
     "marked": false
    }
   },
   "outputs": [],
   "source": [
    "# If the traded amount is larger than the order, it means that an extra trade\n",
    "# is executed and the order is filled for a larger amount.\n",
    "# This can mean an accounting error on the exchange side.\n",
    "trade_amount_by_order = ccxt_trades_df.groupby(\"order\").agg({\"amount\": sum})\n",
    "trade_amount_by_order[\"child_order_amount\"] = child_order_df.set_index(\"ccxt_id\")[\n",
    "    \"diff_num_shares\"\n",
    "].abs()"
   ]
  },
  {
   "cell_type": "code",
   "execution_count": 15,
   "id": "41635b79",
   "metadata": {
    "ExecuteTime": {
     "end_time": "2023-06-27T14:24:55.583715Z",
     "start_time": "2023-06-27T14:24:55.535247Z"
    }
   },
   "outputs": [
    {
     "data": {
      "text/html": [
       "<div>\n",
       "<style scoped>\n",
       "    .dataframe tbody tr th:only-of-type {\n",
       "        vertical-align: middle;\n",
       "    }\n",
       "\n",
       "    .dataframe tbody tr th {\n",
       "        vertical-align: top;\n",
       "    }\n",
       "\n",
       "    .dataframe thead th {\n",
       "        text-align: right;\n",
       "    }\n",
       "</style>\n",
       "<table border=\"1\" class=\"dataframe\">\n",
       "  <thead>\n",
       "    <tr style=\"text-align: right;\">\n",
       "      <th></th>\n",
       "      <th>amount</th>\n",
       "      <th>child_order_amount</th>\n",
       "    </tr>\n",
       "    <tr>\n",
       "      <th>order</th>\n",
       "      <th></th>\n",
       "      <th></th>\n",
       "    </tr>\n",
       "  </thead>\n",
       "  <tbody>\n",
       "  </tbody>\n",
       "</table>\n",
       "</div>"
      ],
      "text/plain": [
       "Empty DataFrame\n",
       "Columns: [amount, child_order_amount]\n",
       "Index: []"
      ]
     },
     "execution_count": 15,
     "metadata": {},
     "output_type": "execute_result"
    }
   ],
   "source": [
    "mask = (\n",
    "    trade_amount_by_order[\"amount\"] > trade_amount_by_order[\"child_order_amount\"]\n",
    ")\n",
    "trade_amount_by_order.loc[mask]"
   ]
  },
  {
   "cell_type": "markdown",
   "id": "aaf5f5c4",
   "metadata": {},
   "source": [
    "### Verify that the number of child order responses equals number of child orders"
   ]
  },
  {
   "cell_type": "code",
   "execution_count": 16,
   "id": "c4c6bfa3",
   "metadata": {
    "ExecuteTime": {
     "end_time": "2023-06-27T14:24:55.631145Z",
     "start_time": "2023-06-27T14:24:55.586173Z"
    }
   },
   "outputs": [
    {
     "data": {
      "text/plain": [
       "True"
      ]
     },
     "execution_count": 16,
     "metadata": {},
     "output_type": "execute_result"
    }
   ],
   "source": [
    "# If the check is not passed, it means that some submitted child orders\n",
    "# never reached the exchange and were not posted.\n",
    "len(child_order_df) == len(ccxt_order_response_df)"
   ]
  },
  {
   "cell_type": "markdown",
   "id": "68d63cf6",
   "metadata": {},
   "source": [
    "### Verify that CCXT IDs are equal in both child orders and responses"
   ]
  },
  {
   "cell_type": "code",
   "execution_count": 17,
   "id": "6648d3f1",
   "metadata": {
    "ExecuteTime": {
     "end_time": "2023-06-27T14:24:55.677115Z",
     "start_time": "2023-06-27T14:24:55.633481Z"
    }
   },
   "outputs": [
    {
     "data": {
      "text/plain": [
       "True"
      ]
     },
     "execution_count": 17,
     "metadata": {},
     "output_type": "execute_result"
    }
   ],
   "source": [
    "# Verify that we are not logging any CCXT orders that are not a part\n",
    "# of the experiment, i.e. have no OMS order associated with it.\n",
    "set(child_order_df[\"ccxt_id\"].unique()) == set(\n",
    "    ccxt_order_response_df[\"order\"].unique()\n",
    ")"
   ]
  },
  {
   "cell_type": "markdown",
   "id": "1712c641",
   "metadata": {},
   "source": [
    "# Time profiling for child orders"
   ]
  },
  {
   "cell_type": "code",
   "execution_count": 18,
   "id": "e4f6ba8f",
   "metadata": {
    "ExecuteTime": {
     "end_time": "2023-06-27T14:24:55.799320Z",
     "start_time": "2023-06-27T14:24:55.679520Z"
    }
   },
   "outputs": [
    {
     "data": {
      "application/vnd.jupyter.widget-view+json": {
       "model_id": "ffe539f23df543c58776ce1c123b085e",
       "version_major": 2,
       "version_minor": 0
      },
      "text/plain": [
       "Loading files from '/app/rt_data/system_log_dir_20230627-063500/oms_child_orders':   0%|          | 0/10 [00:0…"
      ]
     },
     "metadata": {},
     "output_type": "display_data"
    }
   ],
   "source": [
    "# TODO(Toma): Update timestamp logging to use datetime.\n",
    "child_order_df_with_timestamps = ccxt_log_reader.load_oms_child_order_df(\n",
    "    unpack_extra_params=True\n",
    ")"
   ]
  },
  {
   "cell_type": "code",
   "execution_count": 19,
   "id": "d09de8d8",
   "metadata": {
    "ExecuteTime": {
     "end_time": "2023-06-27T14:24:55.856158Z",
     "start_time": "2023-06-27T14:24:55.802312Z"
    }
   },
   "outputs": [],
   "source": [
    "child_order_timestamp_stats = child_order_df_with_timestamps[\"stats\"].apply(\n",
    "    pd.Series\n",
    ")"
   ]
  },
  {
   "cell_type": "code",
   "execution_count": 20,
   "id": "be9239b5",
   "metadata": {
    "ExecuteTime": {
     "end_time": "2023-06-27T14:24:55.908307Z",
     "start_time": "2023-06-27T14:24:55.858250Z"
    }
   },
   "outputs": [
    {
     "data": {
      "text/html": [
       "<div>\n",
       "<style scoped>\n",
       "    .dataframe tbody tr th:only-of-type {\n",
       "        vertical-align: middle;\n",
       "    }\n",
       "\n",
       "    .dataframe tbody tr th {\n",
       "        vertical-align: top;\n",
       "    }\n",
       "\n",
       "    .dataframe thead th {\n",
       "        text-align: right;\n",
       "    }\n",
       "</style>\n",
       "<table border=\"1\" class=\"dataframe\">\n",
       "  <thead>\n",
       "    <tr style=\"text-align: right;\">\n",
       "      <th></th>\n",
       "      <th>child_order_created</th>\n",
       "      <th>child_order_limit_price_calculated</th>\n",
       "      <th>child_order_submitted</th>\n",
       "      <th>aligned_with_next_child_order_start_timestamp</th>\n",
       "    </tr>\n",
       "    <tr>\n",
       "      <th>order_id</th>\n",
       "      <th></th>\n",
       "      <th></th>\n",
       "      <th></th>\n",
       "      <th></th>\n",
       "    </tr>\n",
       "  </thead>\n",
       "  <tbody>\n",
       "    <tr>\n",
       "      <th>0</th>\n",
       "      <td>2023-06-27 09:31:48.943538-04:00</td>\n",
       "      <td>2023-06-27 09:31:48.948011-04:00</td>\n",
       "      <td>2023-06-27 09:31:49.459447-04:00</td>\n",
       "      <td>2023-06-27 09:32:49.520546-04:00</td>\n",
       "    </tr>\n",
       "    <tr>\n",
       "      <th>2</th>\n",
       "      <td>2023-06-27 09:32:53.672166-04:00</td>\n",
       "      <td>2023-06-27 09:32:53.676161-04:00</td>\n",
       "      <td>2023-06-27 09:32:54.186297-04:00</td>\n",
       "      <td>2023-06-27 09:33:54.246523-04:00</td>\n",
       "    </tr>\n",
       "    <tr>\n",
       "      <th>4</th>\n",
       "      <td>2023-06-27 09:33:58.250499-04:00</td>\n",
       "      <td>2023-06-27 09:33:58.254364-04:00</td>\n",
       "      <td>2023-06-27 09:33:58.760909-04:00</td>\n",
       "      <td>2023-06-27 09:34:58.818402-04:00</td>\n",
       "    </tr>\n",
       "    <tr>\n",
       "      <th>6</th>\n",
       "      <td>2023-06-27 09:35:02.912555-04:00</td>\n",
       "      <td>2023-06-27 09:35:02.916453-04:00</td>\n",
       "      <td>2023-06-27 09:35:03.426940-04:00</td>\n",
       "      <td>2023-06-27 09:36:03.488288-04:00</td>\n",
       "    </tr>\n",
       "    <tr>\n",
       "      <th>8</th>\n",
       "      <td>2023-06-27 09:36:07.520821-04:00</td>\n",
       "      <td>2023-06-27 09:36:07.524843-04:00</td>\n",
       "      <td>2023-06-27 09:36:08.030331-04:00</td>\n",
       "      <td>2023-06-27 09:37:08.091474-04:00</td>\n",
       "    </tr>\n",
       "    <tr>\n",
       "      <th>1</th>\n",
       "      <td>2023-06-27 09:31:49.461225-04:00</td>\n",
       "      <td>2023-06-27 09:31:49.465140-04:00</td>\n",
       "      <td>2023-06-27 09:31:49.972919-04:00</td>\n",
       "      <td>2023-06-27 09:32:49.975246-04:00</td>\n",
       "    </tr>\n",
       "    <tr>\n",
       "      <th>3</th>\n",
       "      <td>2023-06-27 09:32:54.188200-04:00</td>\n",
       "      <td>2023-06-27 09:32:54.191886-04:00</td>\n",
       "      <td>2023-06-27 09:32:54.698268-04:00</td>\n",
       "      <td>2023-06-27 09:33:54.700295-04:00</td>\n",
       "    </tr>\n",
       "    <tr>\n",
       "      <th>5</th>\n",
       "      <td>2023-06-27 09:33:58.762741-04:00</td>\n",
       "      <td>2023-06-27 09:33:58.766393-04:00</td>\n",
       "      <td>2023-06-27 09:33:59.274797-04:00</td>\n",
       "      <td>2023-06-27 09:34:59.277014-04:00</td>\n",
       "    </tr>\n",
       "    <tr>\n",
       "      <th>7</th>\n",
       "      <td>2023-06-27 09:35:03.428803-04:00</td>\n",
       "      <td>2023-06-27 09:35:03.432626-04:00</td>\n",
       "      <td>2023-06-27 09:35:03.942839-04:00</td>\n",
       "      <td>2023-06-27 09:36:03.944777-04:00</td>\n",
       "    </tr>\n",
       "    <tr>\n",
       "      <th>9</th>\n",
       "      <td>2023-06-27 09:36:08.032444-04:00</td>\n",
       "      <td>2023-06-27 09:36:08.037315-04:00</td>\n",
       "      <td>2023-06-27 09:36:08.539825-04:00</td>\n",
       "      <td>2023-06-27 09:37:08.542260-04:00</td>\n",
       "    </tr>\n",
       "  </tbody>\n",
       "</table>\n",
       "</div>"
      ],
      "text/plain": [
       "                      child_order_created child_order_limit_price_calculated            child_order_submitted aligned_with_next_child_order_start_timestamp\n",
       "order_id                                                                                                                                                   \n",
       "0        2023-06-27 09:31:48.943538-04:00   2023-06-27 09:31:48.948011-04:00 2023-06-27 09:31:49.459447-04:00              2023-06-27 09:32:49.520546-04:00\n",
       "2        2023-06-27 09:32:53.672166-04:00   2023-06-27 09:32:53.676161-04:00 2023-06-27 09:32:54.186297-04:00              2023-06-27 09:33:54.246523-04:00\n",
       "4        2023-06-27 09:33:58.250499-04:00   2023-06-27 09:33:58.254364-04:00 2023-06-27 09:33:58.760909-04:00              2023-06-27 09:34:58.818402-04:00\n",
       "6        2023-06-27 09:35:02.912555-04:00   2023-06-27 09:35:02.916453-04:00 2023-06-27 09:35:03.426940-04:00              2023-06-27 09:36:03.488288-04:00\n",
       "8        2023-06-27 09:36:07.520821-04:00   2023-06-27 09:36:07.524843-04:00 2023-06-27 09:36:08.030331-04:00              2023-06-27 09:37:08.091474-04:00\n",
       "1        2023-06-27 09:31:49.461225-04:00   2023-06-27 09:31:49.465140-04:00 2023-06-27 09:31:49.972919-04:00              2023-06-27 09:32:49.975246-04:00\n",
       "3        2023-06-27 09:32:54.188200-04:00   2023-06-27 09:32:54.191886-04:00 2023-06-27 09:32:54.698268-04:00              2023-06-27 09:33:54.700295-04:00\n",
       "5        2023-06-27 09:33:58.762741-04:00   2023-06-27 09:33:58.766393-04:00 2023-06-27 09:33:59.274797-04:00              2023-06-27 09:34:59.277014-04:00\n",
       "7        2023-06-27 09:35:03.428803-04:00   2023-06-27 09:35:03.432626-04:00 2023-06-27 09:35:03.942839-04:00              2023-06-27 09:36:03.944777-04:00\n",
       "9        2023-06-27 09:36:08.032444-04:00   2023-06-27 09:36:08.037315-04:00 2023-06-27 09:36:08.539825-04:00              2023-06-27 09:37:08.542260-04:00"
      ]
     },
     "execution_count": 20,
     "metadata": {},
     "output_type": "execute_result"
    }
   ],
   "source": [
    "child_order_timestamp_stats"
   ]
  }
 ],
 "metadata": {
  "jupytext": {
   "formats": "ipynb,py:percent"
  },
  "kernelspec": {
   "display_name": "Python 3 (ipykernel)",
   "language": "python",
   "name": "python3"
  },
  "language_info": {
   "codemirror_mode": {
    "name": "ipython",
    "version": 3
   },
   "file_extension": ".py",
   "mimetype": "text/x-python",
   "name": "python",
   "nbconvert_exporter": "python",
   "pygments_lexer": "ipython3",
   "version": "3.8.10"
  },
  "toc": {
   "base_numbering": 1,
   "nav_menu": {},
   "number_sections": true,
   "sideBar": true,
   "skip_h1_title": false,
   "title_cell": "Table of Contents",
   "title_sidebar": "Contents",
   "toc_cell": false,
   "toc_position": {},
   "toc_section_display": true,
   "toc_window_display": false
  }
 },
 "nbformat": 4,
 "nbformat_minor": 5
}
