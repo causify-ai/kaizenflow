{
 "cells": [
  {
   "cell_type": "markdown",
   "id": "6293f18f",
   "metadata": {},
   "source": [
    "# Description"
   ]
  },
  {
   "cell_type": "markdown",
   "id": "653f5a28",
   "metadata": {},
   "source": [
    "This notebook contains examples of CCXT DB Broker functionality."
   ]
  },
  {
   "cell_type": "code",
   "execution_count": null,
   "id": "5cd5c09a",
   "metadata": {},
   "outputs": [],
   "source": [
    "%load_ext autoreload\n",
    "%autoreload 2\n",
    "import logging\n",
    "\n",
    "import pandas as pd\n",
    "\n",
    "import helpers.hdbg as hdbg\n",
    "import helpers.henv as henv\n",
    "import helpers.hprint as hprint\n",
    "import helpers.hs3 as hs3\n",
    "import helpers.hsql as hsql\n",
    "import im_v2.common.data.client as icdc\n",
    "import im_v2.im_lib_tasks as imvimlita\n",
    "import market_data as mdata\n",
    "import oms.ccxt_broker as occxbrok\n",
    "import oms.oms_db as oomsdb\n",
    "import oms.order as omorder\n",
    "import oms.order_example as oordexam"
   ]
  },
  {
   "cell_type": "code",
   "execution_count": null,
   "id": "d2d567b1",
   "metadata": {},
   "outputs": [],
   "source": [
    "hdbg.init_logger(verbosity=logging.INFO)\n",
    "\n",
    "_LOG = logging.getLogger(__name__)\n",
    "\n",
    "_LOG.info(\"%s\", henv.get_system_signature()[0])\n",
    "\n",
    "hprint.config_notebook()"
   ]
  },
  {
   "cell_type": "markdown",
   "id": "15dae2de",
   "metadata": {},
   "source": [
    "## Functions"
   ]
  },
  {
   "cell_type": "code",
   "execution_count": null,
   "id": "e1b5498b",
   "metadata": {},
   "outputs": [],
   "source": [
    "def create_all_tables(connection):\n",
    "    \"\"\"\n",
    "    Create submitted and accepted orders tables with default names.\n",
    "    \"\"\"\n",
    "    incremental = False\n",
    "    oomsdb.create_submitted_orders_table(\n",
    "        connection, incremental, oomsdb.SUBMITTED_ORDERS_TABLE_NAME\n",
    "    )\n",
    "    oomsdb.create_accepted_orders_table(\n",
    "        connection, incremental, oomsdb.ACCEPTED_ORDERS_TABLE_NAME\n",
    "    )"
   ]
  },
  {
   "cell_type": "markdown",
   "id": "aea34314",
   "metadata": {},
   "source": [
    "## DB"
   ]
  },
  {
   "cell_type": "markdown",
   "id": "6e23ab77",
   "metadata": {},
   "source": [
    "### Connection"
   ]
  },
  {
   "cell_type": "code",
   "execution_count": null,
   "id": "b9134d36",
   "metadata": {},
   "outputs": [],
   "source": [
    "# Get environment variables with login info.\n",
    "env_file = imvimlita.get_db_env_path(\"dev\")\n",
    "# Get login info.\n",
    "connection_params = hsql.get_connection_info_from_env_file(env_file)\n",
    "# Login.\n",
    "connection = hsql.get_connection(*connection_params)"
   ]
  },
  {
   "cell_type": "markdown",
   "id": "466011b9",
   "metadata": {},
   "source": [
    "### Creating tables"
   ]
  },
  {
   "cell_type": "code",
   "execution_count": null,
   "id": "59738ff4",
   "metadata": {},
   "outputs": [],
   "source": [
    "# Create tables for submitted and accepted orders.\n",
    "create_all_tables(connection)"
   ]
  },
  {
   "cell_type": "markdown",
   "id": "16bb0483",
   "metadata": {},
   "source": [
    "### Market data"
   ]
  },
  {
   "cell_type": "code",
   "execution_count": null,
   "id": "25e96080",
   "metadata": {},
   "outputs": [],
   "source": [
    "# Create an example client connected to DB.\n",
    "#  Note: Market data format copies CCXT OHLCV data.\n",
    "hsql.remove_table(connection, \"example2_marketdata\")\n",
    "im_client = icdc.get_mock_realtime_client(connection)\n",
    "market_data = mdata.get_RealtimeMarketData_example1(im_client)"
   ]
  },
  {
   "cell_type": "markdown",
   "id": "c626dc87",
   "metadata": {},
   "source": [
    "#### Example of DB data (OHLCV)"
   ]
  },
  {
   "cell_type": "code",
   "execution_count": null,
   "id": "3a92e5b4",
   "metadata": {},
   "outputs": [],
   "source": [
    "query = \"SELECT * FROM example2_marketdata LIMIT 10\"\n",
    "# Execute query and return as pd.DataFrame.\n",
    "raw_data = hsql.execute_query_to_df(connection, query)\n",
    "raw_data"
   ]
  },
  {
   "cell_type": "markdown",
   "id": "6545cd25",
   "metadata": {},
   "source": [
    "### Order example"
   ]
  },
  {
   "cell_type": "code",
   "execution_count": null,
   "id": "0a5141c0",
   "metadata": {},
   "outputs": [],
   "source": [
    "# Load an example of CCXT order.\n",
    "order = oordexam.get_order_example4()\n",
    "print(omorder.orders_to_string([order]))"
   ]
  },
  {
   "cell_type": "markdown",
   "id": "45c36260",
   "metadata": {},
   "source": [
    "## Demonstration of main Broker methods"
   ]
  },
  {
   "cell_type": "markdown",
   "id": "3400cbb2",
   "metadata": {},
   "source": [
    "### Init"
   ]
  },
  {
   "cell_type": "code",
   "execution_count": null,
   "id": "875efa3d",
   "metadata": {},
   "outputs": [],
   "source": [
    "exchange_id = \"binance\"\n",
    "universe_version = \"v5\"\n",
    "contract_type = \"futures\"\n",
    "mode = \"test\""
   ]
  },
  {
   "cell_type": "code",
   "execution_count": null,
   "id": "b56c19ee",
   "metadata": {},
   "outputs": [],
   "source": [
    "# Initialize CCXT broker with example market data connected to DB.\n",
    "broker = occxbrok.CcxtDbBroker(\n",
    "    exchange_id,\n",
    "    universe_version,\n",
    "    mode,\n",
    "    contract_type,\n",
    "    db_connection=connection,\n",
    "    submitted_orders_table_name=oomsdb.SUBMITTED_ORDERS_TABLE_NAME,\n",
    "    accepted_orders_table_name=oomsdb.ACCEPTED_ORDERS_TABLE_NAME,\n",
    "    strategy_id=\"SAU1\",\n",
    "    market_data=market_data,\n",
    ")"
   ]
  },
  {
   "cell_type": "code",
   "execution_count": null,
   "id": "043a8ebc",
   "metadata": {},
   "outputs": [],
   "source": [
    "# Submitting orders and uploading them to DB and saving to S3 location.\n",
    "# Using the internal method to avoid the polling timeout.\n",
    "await broker._submit_orders([order], pd.Timestamp.utcnow())"
   ]
  },
  {
   "cell_type": "markdown",
   "id": "bd6898f4",
   "metadata": {},
   "source": [
    "### Checking submitted orders"
   ]
  },
  {
   "cell_type": "code",
   "execution_count": null,
   "id": "93858055",
   "metadata": {},
   "outputs": [],
   "source": [
    "# Example of data inside the submitted orders in the DB.\n",
    "query = f\"SELECT * FROM {oomsdb.SUBMITTED_ORDERS_TABLE_NAME} LIMIT 10\"\n",
    "hsql.execute_query_to_df(connection, query)"
   ]
  },
  {
   "cell_type": "code",
   "execution_count": null,
   "id": "0b651c1b",
   "metadata": {},
   "outputs": [],
   "source": [
    "# Example of data in the S3 location.\n",
    "hs3.listdir(\n",
    "    \"s3://cryptokaizen-data-test/ccxt_db_broker_test/\",\n",
    "    \"*\",\n",
    "    True,\n",
    "    False,\n",
    "    aws_profile=\"ck\",\n",
    ")"
   ]
  },
  {
   "cell_type": "code",
   "execution_count": null,
   "id": "59c6afec",
   "metadata": {},
   "outputs": [],
   "source": [
    "hs3.from_file(\n",
    "    \"s3://cryptokaizen-data-test/ccxt_db_broker_test/20220704000000/positions.0.20220704_231752.txt\",\n",
    "    aws_profile=\"ck\",\n",
    ")"
   ]
  },
  {
   "cell_type": "markdown",
   "id": "141e425c",
   "metadata": {},
   "source": [
    "## Comment"
   ]
  },
  {
   "cell_type": "markdown",
   "id": "5a321337",
   "metadata": {},
   "source": [
    "- The submitted order data is uploaded into a submitted orders DB table (as in DatabaseBroker abstract class) and saved to S3 location (as in IgBroker)\n",
    "- IgBroker saved data only to S3 (w/o the DB upload) and it is not clear what should happen to submitted orders and how precisely they are counted as accepted.\n",
    "- One assumption is that there should be an intermediary step to upload the order from DB to the exchange, or the DB itself is hosted by a different entity, e.g. the exchange or an outside broker.\n",
    "   - The situation is compounded by a number of references to Java and code not present in the repository.\n",
    "- All changes to the broker will be reflected in this notebook."
   ]
  },
  {
   "cell_type": "code",
   "execution_count": null,
   "id": "3d0a79c9",
   "metadata": {},
   "outputs": [],
   "source": []
  }
 ],
 "metadata": {
  "jupytext": {
   "formats": "ipynb,py:percent"
  },
  "kernelspec": {
   "display_name": "Python 3 (ipykernel)",
   "language": "python",
   "name": "python3"
  },
  "language_info": {
   "codemirror_mode": {
    "name": "ipython",
    "version": 3
   },
   "file_extension": ".py",
   "mimetype": "text/x-python",
   "name": "python",
   "nbconvert_exporter": "python",
   "pygments_lexer": "ipython3"
  },
  "toc": {
   "base_numbering": 1,
   "nav_menu": {},
   "number_sections": true,
   "sideBar": true,
   "skip_h1_title": false,
   "title_cell": "Table of Contents",
   "title_sidebar": "Contents",
   "toc_cell": false,
   "toc_position": {},
   "toc_section_display": true,
   "toc_window_display": false
  }
 },
 "nbformat": 4,
 "nbformat_minor": 5
}
