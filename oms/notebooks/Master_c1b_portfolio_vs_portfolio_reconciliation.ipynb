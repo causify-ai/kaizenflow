{
 "cells": [
  {
   "cell_type": "code",
   "execution_count": null,
   "id": "67f86235",
   "metadata": {},
   "outputs": [],
   "source": [
    "%load_ext autoreload\n",
    "%autoreload 2\n",
    "%matplotlib inline"
   ]
  },
  {
   "cell_type": "markdown",
   "id": "133fe276",
   "metadata": {},
   "source": [
    "# Imports"
   ]
  },
  {
   "cell_type": "code",
   "execution_count": null,
   "id": "0f861b94",
   "metadata": {},
   "outputs": [],
   "source": [
    "import itertools\n",
    "import logging\n",
    "import os\n",
    "from typing import List, Tuple\n",
    "\n",
    "import pandas as pd\n",
    "\n",
    "import core.config as cconfig\n",
    "import core.plotting as coplotti\n",
    "import dataflow.model as dtfmod\n",
    "import helpers.hdbg as hdbg\n",
    "import helpers.henv as henv\n",
    "import helpers.hpandas as hpandas\n",
    "import helpers.hparquet as hparque\n",
    "import helpers.hprint as hprint\n",
    "import helpers.hwall_clock_time as hwacltim\n",
    "import oms as oms"
   ]
  },
  {
   "cell_type": "code",
   "execution_count": null,
   "id": "77bcb753",
   "metadata": {},
   "outputs": [],
   "source": [
    "hdbg.init_logger(verbosity=logging.INFO)\n",
    "\n",
    "_LOG = logging.getLogger(__name__)\n",
    "\n",
    "_LOG.info(\"%s\", henv.get_system_signature()[0])\n",
    "\n",
    "hprint.config_notebook()"
   ]
  },
  {
   "cell_type": "markdown",
   "id": "ed7081e5",
   "metadata": {},
   "source": [
    "# Functions"
   ]
  },
  {
   "cell_type": "code",
   "execution_count": null,
   "id": "6f688f9e",
   "metadata": {},
   "outputs": [],
   "source": [
    "def get_replayed_delay_in_mins(\n",
    "    min_timestamp_from_file: pd.Timestamp,\n",
    "    min_timestamp_from_prod: pd.Timestamp,\n",
    ") -> int:\n",
    "    \"\"\"\n",
    "    Compute replayed delay in minutes from minimal time in market data from\n",
    "    file and prod system start time.\n",
    "    \"\"\"\n",
    "    time_diff_in_secs = (\n",
    "        min_timestamp_from_prod - min_timestamp_from_file\n",
    "    ).total_seconds()\n",
    "    replayed_delay_in_mins = int(time_diff_in_secs / 60)\n",
    "    return replayed_delay_in_mins\n",
    "\n",
    "\n",
    "def load_portfolio(\n",
    "    portfolio_dir, start_timestamp, end_timestamp, freq\n",
    ") -> Tuple[pd.DataFrame, pd.DataFrame]:\n",
    "    \"\"\"\n",
    "    Load portfolio and related stats.\n",
    "    \"\"\"\n",
    "    # Make sure the directory exists.\n",
    "    hdbg.dassert_dir_exists(portfolio_dir)\n",
    "    # Sanity-check timestamps.\n",
    "    hdbg.dassert_isinstance(start_timestamp, pd.Timestamp)\n",
    "    hdbg.dassert_isinstance(end_timestamp, pd.Timestamp)\n",
    "    hdbg.dassert_lt(start_timestamp, end_timestamp)\n",
    "    # Load the portfolio and stats dataframes.\n",
    "    portfolio_df, portfolio_stats_df = oms.Portfolio.read_state(\n",
    "        portfolio_dir,\n",
    "    )\n",
    "    # Sanity-check the dataframes.\n",
    "    hpandas.dassert_time_indexed_df(\n",
    "        portfolio_df, allow_empty=False, strictly_increasing=True\n",
    "    )\n",
    "    hpandas.dassert_time_indexed_df(\n",
    "        portfolio_stats_df, allow_empty=False, strictly_increasing=True\n",
    "    )\n",
    "    # Sanity-check the date ranges of the dataframes against the start and end timestamps.\n",
    "    first_timestamp = portfolio_df.index[0]\n",
    "    hdbg.dassert_lte(first_timestamp.round(freq), start_timestamp)\n",
    "    last_timestamp = portfolio_df.index[-1]\n",
    "    hdbg.dassert_lte(end_timestamp, last_timestamp.round(freq))\n",
    "    #\n",
    "    portfolio_df = portfolio_df.loc[start_timestamp:end_timestamp]\n",
    "    portfolio_stats_df = portfolio_stats_df.loc[start_timestamp:end_timestamp]\n",
    "    #\n",
    "    return portfolio_df, portfolio_stats_df\n",
    "\n",
    "\n",
    "def compute_delay(df: pd.DataFrame, freq: str) -> pd.Series:\n",
    "    \"\"\"\n",
    "    Compute forecast delays from bar timestamps.\n",
    "    \"\"\"\n",
    "    bar_index = df.index.round(freq)\n",
    "    delay_vals = df.index - bar_index\n",
    "    delay = pd.Series(delay_vals, bar_index, name=\"delay\")\n",
    "    return delay\n",
    "\n",
    "\n",
    "def check_for_missing_bars(df: pd.DataFrame, freq: str) -> None:\n",
    "    \"\"\"\n",
    "    Check that no data bars are missed.\n",
    "    \"\"\"\n",
    "    _LOG.info(\"Actual index=%s\", df.index)\n",
    "    hpandas.dassert_monotonic_index(df)\n",
    "    actual_index = df.index.round(freq)\n",
    "    min_ts = df.index.min()\n",
    "    max_ts = df.index.max()\n",
    "    expected_index = pd.date_range(start=min_ts, end=max_ts, freq=freq).round(\n",
    "        freq\n",
    "    )\n",
    "    hdbg.dassert_set_eq(actual_index, expected_index)\n",
    "\n",
    "\n",
    "# TODO(Grisha): @Dan Provide correct stats descriptions.\n",
    "def print_stats(df: pd.DataFrame) -> None:\n",
    "    \"\"\"\n",
    "    Print basic stats and sanity checks before doing heavy computations.\n",
    "\n",
    "    Stats include:\n",
    "    - minimal index timestamp\n",
    "    - maximum index timestamp\n",
    "    - fraction of assets with no difference in num shares\n",
    "    - fraction of assets with empty num shares\n",
    "    \"\"\"\n",
    "    _LOG.info(\"min timestamp=%s\", df.index.min())\n",
    "    _LOG.info(\"max timestamp=%s\", df.index.max())\n",
    "    n_zeros = sum(df[\"diff_num_shares\"].sum(axis=1) == 0)\n",
    "    _LOG.info(\n",
    "        \"fraction of diff_num_shares=0 is %s\",\n",
    "        hprint.perc(n_zeros, df[\"diff_num_shares\"].shape[0]),\n",
    "    )\n",
    "    n_nans = df[\"diff_num_shares\"].sum(axis=1).isna().sum()\n",
    "    _LOG.info(\n",
    "        \"fraction of diff_num_shares=0 is %s\",\n",
    "        hprint.perc(n_nans, df[\"diff_num_shares\"].shape[0]),\n",
    "    )\n",
    "\n",
    "\n",
    "# TODO(Paul): Clean up the system config handling.\n",
    "def load_config_as_list(path: str) -> List[str]:\n",
    "    \"\"\"\n",
    "    Load config as a list of string lines.\n",
    "    \"\"\"\n",
    "    with open(path) as f:\n",
    "        lines = f.readlines()\n",
    "    _LOG.debug(\"Lines read=%d\", len(lines))\n",
    "    return lines\n",
    "\n",
    "\n",
    "def diff_lines(list1: List[str], list2: List[str]) -> Tuple[List[str], List[str]]:\n",
    "    \"\"\"\n",
    "    Get output lines that differ.\n",
    "    \"\"\"\n",
    "    list1_only = list(set(list1) - set(list2))\n",
    "    list2_only = list(set(list2) - set(list1))\n",
    "    return list1_only, list2_only\n",
    "\n",
    "\n",
    "def load_parquet_data(\n",
    "    file_path: str,\n",
    "    *,\n",
    "    column_remap: dict = None,\n",
    "    timestamp_db_column: str = None,\n",
    "    datetime_columns: list = None,\n",
    ") -> pd.DataFrame:\n",
    "    df = hparque.from_parquet(file_path)\n",
    "    if column_remap:\n",
    "        df = df.rename(columns=column_remap)\n",
    "    if timestamp_db_column:\n",
    "        df[\"timestamp_db\"] = df[timestamp_db_column]\n",
    "        df.reset_index(inplace=True)\n",
    "    if datetime_columns:\n",
    "        for col_name in datetime_columns:\n",
    "            hdbg.dassert_in(col_name, df.columns)\n",
    "            df[col_name] = pd.to_datetime(df[col_name], utc=True)\n",
    "    return df\n",
    "\n",
    "\n",
    "def get_file_path(stage: str, timestamp: str, target_dir: str) -> str:\n",
    "    current_timestamp = hwacltim.get_machine_wall_clock_time(as_str=True)\n",
    "    file_name = f\"predict.{stage}.df_out.{timestamp}.{current_timestamp}.parquet\"\n",
    "    file_path = os.path.join(target_dir, file_name)\n",
    "    return file_path\n",
    "\n",
    "\n",
    "def get_df_to_compare(df: pd.DataFrame, columns: list) -> pd.DataFrame:\n",
    "    asset_ids = df.columns.levels[1].tolist()\n",
    "    columns = list(itertools.product(columns, asset_ids))\n",
    "    df_to_compare = prod_dag_df[pd.MultiIndex.from_tuples(columns)].copy()\n",
    "    return df_to_compare"
   ]
  },
  {
   "cell_type": "markdown",
   "id": "26e905be",
   "metadata": {},
   "source": [
    "# System configs"
   ]
  },
  {
   "cell_type": "code",
   "execution_count": null,
   "id": "25afc24d",
   "metadata": {},
   "outputs": [],
   "source": [
    "prod_dir = \"/shared_data/prod_reconciliation/20220915/prod/system_log_dir_20220915_2hours\"\n",
    "sim_dir = \"/shared_data/prod_reconciliation/20220915/simulation/system_log_dir\""
   ]
  },
  {
   "cell_type": "code",
   "execution_count": null,
   "id": "01b9d4b9",
   "metadata": {},
   "outputs": [],
   "source": [
    "prod_system_config_output = load_config_as_list(\n",
    "    prod_dir + \"/system_config.output.txt\"\n",
    ")\n",
    "sim_system_config_output = load_config_as_list(\n",
    "    sim_dir + \"/system_config.output.txt\"\n",
    ")\n",
    "prod_system_config_input = load_config_as_list(\n",
    "    prod_dir + \"/system_config.input.txt\"\n",
    ")\n",
    "sim_system_config_input = load_config_as_list(\n",
    "    sim_dir + \"/system_config.input.txt\"\n",
    ")"
   ]
  },
  {
   "cell_type": "code",
   "execution_count": null,
   "id": "530579d8",
   "metadata": {},
   "outputs": [],
   "source": [
    "prod_output_only, sim_output_only = diff_lines(\n",
    "    prod_system_config_output, sim_system_config_output\n",
    ")"
   ]
  },
  {
   "cell_type": "code",
   "execution_count": null,
   "id": "b12ace7e",
   "metadata": {},
   "outputs": [],
   "source": [
    "# prod_output_only"
   ]
  },
  {
   "cell_type": "code",
   "execution_count": null,
   "id": "e80ed15b",
   "metadata": {},
   "outputs": [],
   "source": [
    "# sim_output_only"
   ]
  },
  {
   "cell_type": "markdown",
   "id": "29950236",
   "metadata": {},
   "source": [
    "# DAG compare"
   ]
  },
  {
   "cell_type": "code",
   "execution_count": null,
   "id": "5b040c39",
   "metadata": {},
   "outputs": [],
   "source": [
    "prod_dag_dir = os.path.join(prod_dir, \"dag/node_io/node_io.data\")\n",
    "hdbg.dassert_dir_exists(prod_dag_dir)\n",
    "print(prod_dag_dir)\n",
    "sim_dag_dir = os.path.join(sim_dir, \"dag/node_io/node_io.data\")\n",
    "hdbg.dassert_dir_exists(sim_dag_dir)\n",
    "print(sim_dag_dir)"
   ]
  },
  {
   "cell_type": "code",
   "execution_count": null,
   "id": "8c6e990e",
   "metadata": {},
   "outputs": [],
   "source": [
    "stage = \"7.process_forecasts\"\n",
    "timestamp = \"20220915_100000\"\n",
    "\n",
    "# Get prod_dag_df.\n",
    "file_path = get_file_path(stage, timestamp, prod_dag_dir)\n",
    "prod_dag_df = load_parquet_data(file_path)\n",
    "# start_timestamp:end_timestamp are not defined so which ones should be?\n",
    "prod_dag_df = prod_dag_df[start_timestamp:end_timestamp]\n",
    "\n",
    "# Get sim_dag_df\n",
    "file_path = get_file_name(stage, timestamp, sim_dag_dir)\n",
    "sim_dag_df = load_parquet_data(file_path)\n",
    "# start_timestamp:end_timestamp are not defined so which ones should be?\n",
    "sim_dag_df = sim_dag_df[start_timestamp:end_timestamp]"
   ]
  },
  {
   "cell_type": "code",
   "execution_count": null,
   "id": "56146d9f",
   "metadata": {},
   "outputs": [],
   "source": [
    "target_cols = [\n",
    "    \"close\",\n",
    "    \"close_vwap\",\n",
    "    \"day_num_spread\",\n",
    "    \"day_spread\",\n",
    "    \"garman_klass_vol\",\n",
    "    \"high\",\n",
    "    \"low\",\n",
    "    \"notional\",\n",
    "    \"open\",\n",
    "    \"prediction\",\n",
    "    \"twap\",\n",
    "    \"volume\",\n",
    "]\n",
    "\n",
    "# Not sure if we need this when we use parquet.\n",
    "# prod_dag_df.to_csv(\"prod_tmp.csv\")\n",
    "# prod_dag_df = pd.read_csv(\"prod_tmp.csv\", index_col=0, header=[0, 1])\n",
    "\n",
    "prod_dag_df = get_df_to_compare(prod_dag_df, target_cols)\n",
    "hpandas.df_to_str(prod_dag_df, log_level=logging.INFO)\n",
    "#\n",
    "sim_dag_df = get_df_to_compare(sim_dag_df, target_cols)\n",
    "hpandas.df_to_str(sim_dag_df, log_level=logging.INFO)\n",
    "\n",
    "print(list(prod_dag_df.columns.levels[0]))\n",
    "print(list(sim_dag_df.columns.levels[0]))"
   ]
  },
  {
   "cell_type": "code",
   "execution_count": null,
   "id": "440fc707",
   "metadata": {},
   "outputs": [],
   "source": [
    "# Compare output\n",
    "dag_corrs = dtfmod.compute_correlations(prod_dag_df, sim_dag_df.shift(0))\n",
    "# hpandas.df_to_str(dag_corrs, precision=3, log_level=logging.INFO)\n",
    "\n",
    "# sort_col = \"close\"\n",
    "sort_col = \"prediction\"\n",
    "# sort_col = \"price\"\n",
    "# sort_col = \"volatility\"\n",
    "hpandas.df_to_str(\n",
    "    dag_corrs.sort_values(sort_col, ascending=False),\n",
    "    num_rows=None,\n",
    "    precision=3,\n",
    "    log_level=logging.INFO,\n",
    ")"
   ]
  },
  {
   "cell_type": "markdown",
   "id": "6657347a",
   "metadata": {},
   "source": [
    "# Set system parameters"
   ]
  },
  {
   "cell_type": "code",
   "execution_count": null,
   "id": "246cd24a",
   "metadata": {},
   "outputs": [],
   "source": [
    "# TODO(Nina): should be a parquet file.\n",
    "file_path = (\n",
    "    \"/shared_data/prod_reconciliation/20220923/simulation/test_data.csv.gz\"\n",
    ")\n",
    "column_remap = {\n",
    "    \"start_timestamp\": \"start_datetime\",\n",
    "    \"end_timestamp\": \"end_datetime\",\n",
    "}\n",
    "timestamp_db_column = \"end_datetime\"\n",
    "datetime_columns = [\"start_datetime\", \"end_datetime\", \"timestamp_db\"]\n",
    "\n",
    "market_data_df = load_parquet_data(\n",
    "    file_path,\n",
    "    column_remap=column_remap,\n",
    "    timestamp_db_column=timestamp_db_column,\n",
    "    datetime_columns=datetime_columns,\n",
    ")\n",
    "market_data_df.head()"
   ]
  },
  {
   "cell_type": "code",
   "execution_count": null,
   "id": "1aa183f4",
   "metadata": {},
   "outputs": [],
   "source": [
    "min_market_data_end_time = (\n",
    "    market_data_df[\"end_datetime\"].min().tz_convert(tz=\"America/New_York\")\n",
    ")\n",
    "min_market_data_end_time"
   ]
  },
  {
   "cell_type": "code",
   "execution_count": null,
   "id": "8ce0b07d",
   "metadata": {},
   "outputs": [],
   "source": [
    "max_market_data_end_time = (\n",
    "    market_data_df[\"end_datetime\"].max().tz_convert(tz=\"America/New_York\")\n",
    ")\n",
    "max_market_data_end_time"
   ]
  },
  {
   "cell_type": "code",
   "execution_count": null,
   "id": "530ca95d",
   "metadata": {},
   "outputs": [],
   "source": [
    "date = \"2022-09-23\"\n",
    "start_timestamp = pd.Timestamp(date + \" 07:40:00\", tz=\"America/New_York\")\n",
    "_LOG.info(\"start_timestamp=%s\", start_timestamp)\n",
    "end_timestamp = pd.Timestamp(date + \" 10:00:00\", tz=\"America/New_York\")\n",
    "_LOG.info(\"end_timestamp=%s\", end_timestamp)"
   ]
  },
  {
   "cell_type": "code",
   "execution_count": null,
   "id": "b9dc2b33",
   "metadata": {},
   "outputs": [],
   "source": [
    "replayed_delay_in_mins_or_timestamp = get_replayed_delay_in_mins(\n",
    "    min_market_data_end_time,\n",
    "    start_timestamp,\n",
    ")\n",
    "replayed_delay_in_mins_or_timestamp"
   ]
  },
  {
   "cell_type": "code",
   "execution_count": null,
   "id": "9a13184a",
   "metadata": {},
   "outputs": [],
   "source": [
    "prod_portfolio_dir = os.path.join(prod_dir, \"process_forecasts/portfolio\")\n",
    "prod_forecast_dir = os.path.join(prod_dir, \"process_forecasts\")\n",
    "sim_portfolio_dir = os.path.join(sim_dir, \"process_forecasts/portfolio\")\n",
    "sim_forecast_dir = os.path.join(sim_dir, \"process_forecasts\")"
   ]
  },
  {
   "cell_type": "code",
   "execution_count": null,
   "id": "033b647e",
   "metadata": {},
   "outputs": [],
   "source": [
    "dict_ = {\n",
    "    \"prod_forecast_dir\": prod_forecast_dir,\n",
    "    \"sim_forecast_dir\": sim_forecast_dir,\n",
    "    \"prod_portfolio_dir\": prod_portfolio_dir,\n",
    "    \"sim_portfolio_dir\": sim_portfolio_dir,\n",
    "    \"freq\": \"5T\",\n",
    "    \"start_timestamp\": start_timestamp,\n",
    "    \"end_timestamp\": end_timestamp,\n",
    "    \"rename_col_map\": {\"index\": \"asset_id\"},\n",
    "}\n",
    "#\n",
    "config = cconfig.Config.from_dict(dict_)\n",
    "display(config)"
   ]
  },
  {
   "cell_type": "markdown",
   "id": "fc949b4c",
   "metadata": {},
   "source": [
    "# Forecasts"
   ]
  },
  {
   "cell_type": "markdown",
   "id": "df91ce27",
   "metadata": {},
   "source": [
    "## Load prod and sim forecasts"
   ]
  },
  {
   "cell_type": "code",
   "execution_count": null,
   "id": "1269f54b",
   "metadata": {},
   "outputs": [],
   "source": [
    "prod_forecast_df = oms.ForecastProcessor.read_logged_target_positions(\n",
    "    config[\"prod_forecast_dir\"], rename_col_map=config[\"rename_col_map\"].to_dict()\n",
    ")\n",
    "check_for_missing_bars(prod_forecast_df, config[\"freq\"])\n",
    "print_stats(prod_forecast_df)\n",
    "hpandas.df_to_str(prod_forecast_df, log_level=logging.INFO)"
   ]
  },
  {
   "cell_type": "code",
   "execution_count": null,
   "id": "4a518f4f",
   "metadata": {},
   "outputs": [],
   "source": [
    "sim_forecast_df = oms.ForecastProcessor.read_logged_target_positions(\n",
    "    config[\"sim_forecast_dir\"], rename_col_map=config[\"rename_col_map\"].to_dict()\n",
    ")\n",
    "check_for_missing_bars(sim_forecast_df, config[\"freq\"])\n",
    "print_stats(sim_forecast_df)\n",
    "hpandas.df_to_str(sim_forecast_df, log_level=logging.INFO)"
   ]
  },
  {
   "cell_type": "markdown",
   "id": "9a65c716",
   "metadata": {},
   "source": [
    "## Compute forecast prod delay"
   ]
  },
  {
   "cell_type": "code",
   "execution_count": null,
   "id": "f6359b56",
   "metadata": {},
   "outputs": [],
   "source": [
    "prod_forecast_delay = compute_delay(prod_forecast_df, config[\"freq\"])\n",
    "hpandas.df_to_str(prod_forecast_delay, log_level=logging.INFO)"
   ]
  },
  {
   "cell_type": "code",
   "execution_count": null,
   "id": "cfa32889",
   "metadata": {},
   "outputs": [],
   "source": [
    "# Plot delay in seconds.\n",
    "prod_forecast_delay.dt.total_seconds().plot(title=\"delay in seconds\")"
   ]
  },
  {
   "cell_type": "code",
   "execution_count": null,
   "id": "c58d758f",
   "metadata": {},
   "outputs": [],
   "source": [
    "prod_forecast_df.index = prod_forecast_df.index.round(config[\"freq\"])\n",
    "sim_forecast_df.index = sim_forecast_df.index.round(config[\"freq\"])\n",
    "prod_forecast_df = prod_forecast_df.loc[start_timestamp:end_timestamp]\n",
    "sim_forecast_df = sim_forecast_df.loc[start_timestamp:end_timestamp]"
   ]
  },
  {
   "cell_type": "markdown",
   "id": "114799c9",
   "metadata": {},
   "source": [
    "## Compare forecast dataframes"
   ]
  },
  {
   "cell_type": "code",
   "execution_count": null,
   "id": "31d72edd",
   "metadata": {},
   "outputs": [],
   "source": [
    "forecast_corrs = dtfmod.compute_correlations(prod_forecast_df, sim_forecast_df)\n",
    "hpandas.df_to_str(forecast_corrs, precision=3, log_level=logging.INFO)"
   ]
  },
  {
   "cell_type": "code",
   "execution_count": null,
   "id": "80416b66",
   "metadata": {},
   "outputs": [],
   "source": [
    "sort_col = \"prediction\"\n",
    "hpandas.df_to_str(\n",
    "    forecast_corrs.sort_values(sort_col, ascending=False),\n",
    "    num_rows=10,\n",
    "    precision=3,\n",
    "    log_level=logging.INFO,\n",
    ")"
   ]
  },
  {
   "cell_type": "markdown",
   "id": "ae5fcd1a",
   "metadata": {},
   "source": [
    "# Orders"
   ]
  },
  {
   "cell_type": "markdown",
   "id": "9a2c140f",
   "metadata": {},
   "source": [
    "## Load prod and sim orders"
   ]
  },
  {
   "cell_type": "code",
   "execution_count": null,
   "id": "bb332ba3",
   "metadata": {},
   "outputs": [],
   "source": [
    "prod_order_df = oms.ForecastProcessor.read_logged_orders(\n",
    "    config[\"prod_forecast_dir\"]\n",
    ")\n",
    "hpandas.df_to_str(prod_order_df, log_level=logging.INFO)"
   ]
  },
  {
   "cell_type": "code",
   "execution_count": null,
   "id": "379b9d72",
   "metadata": {},
   "outputs": [],
   "source": [
    "sim_order_df = oms.ForecastProcessor.read_logged_orders(\n",
    "    config[\"sim_forecast_dir\"]\n",
    ")\n",
    "hpandas.df_to_str(sim_order_df, log_level=logging.INFO)"
   ]
  },
  {
   "cell_type": "markdown",
   "id": "519c8fd7",
   "metadata": {},
   "source": [
    "# Portfolios"
   ]
  },
  {
   "cell_type": "markdown",
   "id": "a0de3dee",
   "metadata": {},
   "source": [
    "## Load prod portfolio"
   ]
  },
  {
   "cell_type": "code",
   "execution_count": null,
   "id": "e4122cd7",
   "metadata": {},
   "outputs": [],
   "source": [
    "prod_portfolio_df, prod_portfolio_stats_df = load_portfolio(\n",
    "    config[\"prod_portfolio_dir\"],\n",
    "    config[\"start_timestamp\"],\n",
    "    config[\"end_timestamp\"],\n",
    "    config[\"freq\"],\n",
    ")"
   ]
  },
  {
   "cell_type": "code",
   "execution_count": null,
   "id": "4134f414",
   "metadata": {},
   "outputs": [],
   "source": [
    "hpandas.df_to_str(prod_portfolio_df, log_level=logging.INFO)"
   ]
  },
  {
   "cell_type": "code",
   "execution_count": null,
   "id": "3abeeaa2",
   "metadata": {},
   "outputs": [],
   "source": [
    "hpandas.df_to_str(prod_portfolio_stats_df, log_level=logging.INFO)"
   ]
  },
  {
   "cell_type": "markdown",
   "id": "a4e05a68",
   "metadata": {},
   "source": [
    "## Load sim portfolio"
   ]
  },
  {
   "cell_type": "code",
   "execution_count": null,
   "id": "aa7a4c93",
   "metadata": {},
   "outputs": [],
   "source": [
    "sim_portfolio_df, sim_portfolio_stats_df = load_portfolio(\n",
    "    config[\"sim_portfolio_dir\"],\n",
    "    config[\"start_timestamp\"],\n",
    "    config[\"end_timestamp\"],\n",
    "    config[\"freq\"],\n",
    ")"
   ]
  },
  {
   "cell_type": "code",
   "execution_count": null,
   "id": "23477b7e",
   "metadata": {},
   "outputs": [],
   "source": [
    "hpandas.df_to_str(sim_portfolio_df, log_level=logging.INFO)"
   ]
  },
  {
   "cell_type": "code",
   "execution_count": null,
   "id": "0127fa65",
   "metadata": {},
   "outputs": [],
   "source": [
    "hpandas.df_to_str(sim_portfolio_stats_df, log_level=logging.INFO)"
   ]
  },
  {
   "cell_type": "markdown",
   "id": "5d8b0338",
   "metadata": {},
   "source": [
    "## Compute prod portfolio delay"
   ]
  },
  {
   "cell_type": "code",
   "execution_count": null,
   "id": "c5c9f635",
   "metadata": {},
   "outputs": [],
   "source": [
    "prod_portfolio_delay = compute_delay(prod_portfolio_df, config[\"freq\"])\n",
    "hpandas.df_to_str(prod_portfolio_delay, log_level=logging.INFO)"
   ]
  },
  {
   "cell_type": "code",
   "execution_count": null,
   "id": "4bf672cb",
   "metadata": {},
   "outputs": [],
   "source": [
    "prod_portfolio_delay.dt.total_seconds().plot(title=\"delay in seconds\")"
   ]
  },
  {
   "cell_type": "code",
   "execution_count": null,
   "id": "e05b6f1c",
   "metadata": {},
   "outputs": [],
   "source": [
    "_LOG.info(\"prod portfolio delay mean=%s\", prod_portfolio_delay.mean())\n",
    "_LOG.info(\"prod portfolio delay std=%s\", prod_portfolio_delay.std())"
   ]
  },
  {
   "cell_type": "markdown",
   "id": "a8057948",
   "metadata": {},
   "source": [
    "## Normalize bar times"
   ]
  },
  {
   "cell_type": "code",
   "execution_count": null,
   "id": "785b7229",
   "metadata": {},
   "outputs": [],
   "source": [
    "dfs = [\n",
    "    prod_portfolio_df,\n",
    "    prod_portfolio_stats_df,\n",
    "    sim_portfolio_df,\n",
    "    sim_portfolio_stats_df,\n",
    "]"
   ]
  },
  {
   "cell_type": "code",
   "execution_count": null,
   "id": "f2511f83",
   "metadata": {},
   "outputs": [],
   "source": [
    "for df in dfs:\n",
    "    df.index = df.index.round(config[\"freq\"])"
   ]
  },
  {
   "cell_type": "markdown",
   "id": "5498f03f",
   "metadata": {},
   "source": [
    "## Compare portfolio stats"
   ]
  },
  {
   "cell_type": "code",
   "execution_count": null,
   "id": "a7921328",
   "metadata": {},
   "outputs": [],
   "source": [
    "portfolio_stats_dfs = {\n",
    "    \"prod\": prod_portfolio_stats_df,\n",
    "    \"sim\": sim_portfolio_stats_df,\n",
    "}\n",
    "portfolio_stats_dfs = pd.concat(portfolio_stats_dfs, axis=1)"
   ]
  },
  {
   "cell_type": "code",
   "execution_count": null,
   "id": "31959257",
   "metadata": {},
   "outputs": [],
   "source": [
    "prod_portfolio_stats_df[\"pnl\"].plot()"
   ]
  },
  {
   "cell_type": "code",
   "execution_count": null,
   "id": "4fd0e69f",
   "metadata": {},
   "outputs": [],
   "source": [
    "sim_portfolio_stats_df[\"pnl\"].plot()"
   ]
  },
  {
   "cell_type": "code",
   "execution_count": null,
   "id": "fe77a41c",
   "metadata": {},
   "outputs": [],
   "source": [
    "hpandas.df_to_str(portfolio_stats_dfs, log_level=logging.INFO)"
   ]
  },
  {
   "cell_type": "code",
   "execution_count": null,
   "id": "76f7ce32",
   "metadata": {},
   "outputs": [],
   "source": [
    "coplotti.plot_portfolio_stats(portfolio_stats_dfs)"
   ]
  },
  {
   "cell_type": "code",
   "execution_count": null,
   "id": "f48e89cd",
   "metadata": {},
   "outputs": [],
   "source": [
    "portfolio_stats_corrs = dtfmod.compute_correlations(\n",
    "    prod_portfolio_stats_df, sim_portfolio_stats_df\n",
    ")\n",
    "display(portfolio_stats_corrs.round(3))"
   ]
  },
  {
   "cell_type": "code",
   "execution_count": null,
   "id": "d497490f",
   "metadata": {},
   "outputs": [],
   "source": [
    "stats_computer = dtfmod.StatsComputer()\n",
    "stats_sxs, _ = stats_computer.compute_portfolio_stats(\n",
    "    portfolio_stats_dfs, config[\"freq\"]\n",
    ")\n",
    "display(stats_sxs)"
   ]
  },
  {
   "cell_type": "markdown",
   "id": "34e1e325",
   "metadata": {},
   "source": [
    "## Compare portfolios at the instrument level"
   ]
  },
  {
   "cell_type": "code",
   "execution_count": null,
   "id": "6ecf50d6",
   "metadata": {},
   "outputs": [],
   "source": [
    "portfolio_corrs = dtfmod.compute_correlations(prod_portfolio_df, sim_portfolio_df)\n",
    "hpandas.df_to_str(portfolio_corrs, precision=3, log_level=logging.INFO)"
   ]
  },
  {
   "cell_type": "code",
   "execution_count": null,
   "id": "6ce35e8c",
   "metadata": {},
   "outputs": [],
   "source": [
    "sort_col = \"pnl\"\n",
    "hpandas.df_to_str(\n",
    "    portfolio_corrs.sort_values(sort_col, ascending=False),\n",
    "    num_rows=10,\n",
    "    precision=3,\n",
    "    log_level=logging.INFO,\n",
    ")"
   ]
  }
 ],
 "metadata": {
  "kernelspec": {
   "display_name": "Python 3 (ipykernel)",
   "language": "python",
   "name": "python3"
  },
  "language_info": {
   "codemirror_mode": {
    "name": "ipython",
    "version": 3
   },
   "file_extension": ".py",
   "mimetype": "text/x-python",
   "name": "python",
   "nbconvert_exporter": "python",
   "pygments_lexer": "ipython3"
  },
  "toc": {
   "base_numbering": 1,
   "nav_menu": {},
   "number_sections": true,
   "sideBar": true,
   "skip_h1_title": false,
   "title_cell": "Table of Contents",
   "title_sidebar": "Contents",
   "toc_cell": false,
   "toc_position": {},
   "toc_section_display": true,
   "toc_window_display": false
  }
 },
 "nbformat": 4,
 "nbformat_minor": 5
}
