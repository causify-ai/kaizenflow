{
 "cells": [
  {
   "cell_type": "code",
   "execution_count": null,
   "id": "aed1910e",
   "metadata": {},
   "outputs": [],
   "source": [
    "%load_ext autoreload\n",
    "%autoreload 2\n",
    "%matplotlib inline"
   ]
  },
  {
   "cell_type": "markdown",
   "id": "708c26aa",
   "metadata": {},
   "source": [
    "# Imports"
   ]
  },
  {
   "cell_type": "code",
   "execution_count": null,
   "id": "abdcf25d",
   "metadata": {},
   "outputs": [],
   "source": [
    "import logging\n",
    "import os\n",
    "from typing import List, Tuple\n",
    "\n",
    "import pandas as pd\n",
    "\n",
    "import core.config as cconfig\n",
    "import core.plotting as coplotti\n",
    "import dataflow.model as dtfmod\n",
    "import helpers.hdbg as hdbg\n",
    "import helpers.henv as henv\n",
    "import helpers.hpandas as hpandas\n",
    "import helpers.hprint as hprint\n",
    "import market_data as mdata\n",
    "import oms as oms"
   ]
  },
  {
   "cell_type": "code",
   "execution_count": null,
   "id": "d685e73b",
   "metadata": {},
   "outputs": [],
   "source": [
    "hdbg.init_logger(verbosity=logging.INFO)\n",
    "\n",
    "_LOG = logging.getLogger(__name__)\n",
    "\n",
    "_LOG.info(\"%s\", henv.get_system_signature()[0])\n",
    "\n",
    "hprint.config_notebook()"
   ]
  },
  {
   "cell_type": "markdown",
   "id": "26126403",
   "metadata": {},
   "source": [
    "# Functions"
   ]
  },
  {
   "cell_type": "code",
   "execution_count": null,
   "id": "fc9b3469",
   "metadata": {},
   "outputs": [],
   "source": [
    "def get_replayed_delay_in_mins(\n",
    "    min_timestamp_from_file: pd.Timestamp,\n",
    "    min_timestamp_from_prod: pd.Timestamp,\n",
    ") -> int:\n",
    "    \"\"\"\n",
    "    Compute replayed delay in minutes from minimal time in\n",
    "    market data from file and prod system start time.\n",
    "    \"\"\"\n",
    "    time_diff_in_secs = (\n",
    "        min_timestamp_from_prod - min_timestamp_from_file\n",
    "    ).total_seconds()\n",
    "    replayed_delay_in_mins = int(time_diff_in_secs / 60)\n",
    "    return replayed_delay_in_mins\n",
    "\n",
    "\n",
    "def load_portfolio(\n",
    "    portfolio_dir, start_timestamp, end_timestamp, freq\n",
    ") -> Tuple[pd.DataFrame, pd.DataFrame]:\n",
    "    \"\"\"\n",
    "    Load portfolio and related stats.\n",
    "    \"\"\"\n",
    "    # Make sure the directory exists.\n",
    "    hdbg.dassert_dir_exists(portfolio_dir)\n",
    "    # Sanity-check timestamps.\n",
    "    hdbg.dassert_isinstance(start_timestamp, pd.Timestamp)\n",
    "    hdbg.dassert_isinstance(end_timestamp, pd.Timestamp)\n",
    "    hdbg.dassert_lt(start_timestamp, end_timestamp)\n",
    "    # Load the portfolio and stats dataframes.\n",
    "    portfolio_df, portfolio_stats_df = oms.Portfolio.read_state(\n",
    "        portfolio_dir,\n",
    "    )\n",
    "    # Sanity-check the dataframes.\n",
    "    hpandas.dassert_time_indexed_df(\n",
    "        portfolio_df, allow_empty=False, strictly_increasing=True\n",
    "    )\n",
    "    hpandas.dassert_time_indexed_df(\n",
    "        portfolio_stats_df, allow_empty=False, strictly_increasing=True\n",
    "    )\n",
    "    # Sanity-check the date ranges of the dataframes against the start and end timestamps.\n",
    "    first_timestamp = portfolio_df.index[0]\n",
    "    hdbg.dassert_lte(first_timestamp.round(freq), start_timestamp)\n",
    "    last_timestamp = portfolio_df.index[-1]\n",
    "    hdbg.dassert_lte(end_timestamp, last_timestamp.round(freq))\n",
    "    #\n",
    "    portfolio_df = portfolio_df.loc[start_timestamp:end_timestamp]\n",
    "    portfolio_stats_df = portfolio_stats_df.loc[start_timestamp:end_timestamp]\n",
    "    #\n",
    "    return portfolio_df, portfolio_stats_df\n",
    "\n",
    "\n",
    "def compute_delay(df: pd.DataFrame, freq: str) -> pd.Series:\n",
    "    \"\"\"\n",
    "    Compute forecast delays from bar timestamps.\n",
    "    \"\"\"\n",
    "    bar_index = df.index.round(freq)\n",
    "    delay_vals = df.index - bar_index\n",
    "    delay = pd.Series(delay_vals, bar_index, name=\"delay\")\n",
    "    return delay\n",
    "\n",
    "\n",
    "def check_for_missing_bars(df: pd.DataFrame, freq: str) -> None:\n",
    "    \"\"\"\n",
    "    Check that no data bars are missed.\n",
    "    \"\"\"\n",
    "    _LOG.info(\"Actual index=%s\", df.index)\n",
    "    hpandas.dassert_monotonic_index(df)\n",
    "    actual_index = df.index.round(freq)\n",
    "    min_ts = df.index.min()\n",
    "    max_ts = df.index.max()\n",
    "    expected_index = pd.date_range(start=min_ts, end=max_ts, freq=freq).round(\n",
    "        freq\n",
    "    )\n",
    "    hdbg.dassert_set_eq(actual_index, expected_index)\n",
    "\n",
    "\n",
    "# TODO(Grisha): @Dan Provide correct stats descriptions.\n",
    "def print_stats(df: pd.DataFrame) -> None:\n",
    "    \"\"\"\n",
    "    Print basic stats and sanity checks before doing heavy computations.\n",
    "\n",
    "    Stats include:\n",
    "    - minimal index timestamp\n",
    "    - maximum index timestamp\n",
    "    - fraction of assets with no difference in num shares\n",
    "    - fraction of assets with empty num shares\n",
    "    \"\"\"\n",
    "    _LOG.info(\"min timestamp=%s\", df.index.min())\n",
    "    _LOG.info(\"max timestamp=%s\", df.index.max())\n",
    "    n_zeros = sum(df[\"diff_num_shares\"].sum(axis=1) == 0)\n",
    "    _LOG.info(\n",
    "        \"fraction of diff_num_shares=0 is %s\",\n",
    "        hprint.perc(n_zeros, df[\"diff_num_shares\"].shape[0]),\n",
    "    )\n",
    "    n_nans = df[\"diff_num_shares\"].sum(axis=1).isna().sum()\n",
    "    _LOG.info(\n",
    "        \"fraction of diff_num_shares=0 is %s\",\n",
    "        hprint.perc(n_nans, df[\"diff_num_shares\"].shape[0]),\n",
    "    )\n",
    "\n",
    "\n",
    "# TODO(Paul): Clean up the system config handling.\n",
    "def load_config_as_list(path: str) -> List[str]:\n",
    "    \"\"\"\n",
    "    Load config as a list of string lines.\n",
    "    \"\"\"\n",
    "    with open(path) as f:\n",
    "        lines = f.readlines()\n",
    "    _LOG.debug(\"Lines read=%d\", len(lines))\n",
    "    return lines\n",
    "\n",
    "\n",
    "def diff_lines(list1: List[str], list2: List[str]) -> Tuple[List[str], List[str]]:\n",
    "    \"\"\"\n",
    "    Get output lines that differ.\n",
    "    \"\"\"\n",
    "    list1_only = list(set(list1) - set(list2))\n",
    "    list2_only = list(set(list2) - set(list1))\n",
    "    return list1_only, list2_only"
   ]
  },
  {
   "cell_type": "markdown",
   "id": "906c0dc1",
   "metadata": {},
   "source": [
    "# Set system parameters"
   ]
  },
  {
   "cell_type": "code",
   "execution_count": null,
   "id": "cbc71c29",
   "metadata": {},
   "outputs": [],
   "source": [
    "aws_profile = \"ck\"\n",
    "file_path = (\n",
    "    \"/shared_data/prod_reconciliation/20220923/simulation/test_data.csv.gz\"\n",
    ")\n",
    "# file_path = \"s3://cryptokaizen-data/unit_test/outcomes/Test_C1b_Time_ForecastSystem_with_DataFramePortfolio_ProdReconciliation/input/test_data.csv.gz\"\n",
    "column_remap = {\n",
    "    \"start_timestamp\": \"start_datetime\",\n",
    "    \"end_timestamp\": \"end_datetime\",\n",
    "}\n",
    "timestamp_db_column = \"end_datetime\"\n",
    "datetime_columns = [\"start_datetime\", \"end_datetime\", \"timestamp_db\"]\n",
    "market_data_df = mdata.load_market_data(\n",
    "    file_path,\n",
    "    # aws_profile=aws_profile,\n",
    "    column_remap=column_remap,\n",
    "    timestamp_db_column=timestamp_db_column,\n",
    "    datetime_columns=datetime_columns,\n",
    ")\n",
    "market_data_df.head()"
   ]
  },
  {
   "cell_type": "code",
   "execution_count": null,
   "id": "2fb31b7e",
   "metadata": {},
   "outputs": [],
   "source": [
    "min_market_data_end_time = (\n",
    "    market_data_df[\"end_datetime\"].min().tz_convert(tz=\"America/New_York\")\n",
    ")\n",
    "min_market_data_end_time"
   ]
  },
  {
   "cell_type": "code",
   "execution_count": null,
   "id": "0c426b3a",
   "metadata": {},
   "outputs": [],
   "source": [
    "max_market_data_end_time = (\n",
    "    market_data_df[\"end_datetime\"].max().tz_convert(tz=\"America/New_York\")\n",
    ")\n",
    "max_market_data_end_time"
   ]
  },
  {
   "cell_type": "code",
   "execution_count": null,
   "id": "69068147",
   "metadata": {},
   "outputs": [],
   "source": [
    "date = \"2022-09-23\"\n",
    "start_timestamp = pd.Timestamp(date + \" 07:40:00\", tz=\"America/New_York\")\n",
    "_LOG.info(\"start_timestamp=%s\", start_timestamp)\n",
    "end_timestamp = pd.Timestamp(date + \" 10:00:00\", tz=\"America/New_York\")\n",
    "_LOG.info(\"end_timestamp=%s\", end_timestamp)"
   ]
  },
  {
   "cell_type": "code",
   "execution_count": null,
   "id": "a6b6de68",
   "metadata": {},
   "outputs": [],
   "source": [
    "replayed_delay_in_mins_or_timestamp = get_replayed_delay_in_mins(\n",
    "    min_market_data_end_time,\n",
    "    start_timestamp,\n",
    ")\n",
    "replayed_delay_in_mins_or_timestamp"
   ]
  },
  {
   "cell_type": "code",
   "execution_count": null,
   "id": "7140571f",
   "metadata": {},
   "outputs": [],
   "source": [
    "prod_dir = \"/shared_data/prod_reconciliation/20220923/prod/system_log_dir_20220923_2hours\"\n",
    "sim_dir = \"/shared_data/prod_reconciliation/20220923/simulation/system_log_dir\"\n",
    "prod_portfolio_dir = os.path.join(prod_dir, \"process_forecasts/portfolio\")\n",
    "prod_forecast_dir = os.path.join(prod_dir, \"process_forecasts\")\n",
    "sim_portfolio_dir = os.path.join(sim_dir, \"process_forecasts/portfolio\")\n",
    "sim_forecast_dir = os.path.join(sim_dir, \"process_forecasts\")"
   ]
  },
  {
   "cell_type": "code",
   "execution_count": null,
   "id": "95ec92e7",
   "metadata": {},
   "outputs": [],
   "source": [
    "dict_ = {\n",
    "    \"prod_forecast_dir\": prod_forecast_dir,\n",
    "    \"sim_forecast_dir\": sim_forecast_dir,\n",
    "    \"prod_portfolio_dir\": prod_portfolio_dir,\n",
    "    \"sim_portfolio_dir\": sim_portfolio_dir,\n",
    "    \"freq\": \"5T\",\n",
    "    \"start_timestamp\": start_timestamp,\n",
    "    \"end_timestamp\": end_timestamp,\n",
    "    \"rename_col_map\": {\"index\": \"asset_id\"},\n",
    "}\n",
    "#\n",
    "config = cconfig.Config.from_dict(dict_)\n",
    "display(config)"
   ]
  },
  {
   "cell_type": "markdown",
   "id": "8710f65d",
   "metadata": {},
   "source": [
    "# Forecasts"
   ]
  },
  {
   "cell_type": "markdown",
   "id": "db2594d9",
   "metadata": {},
   "source": [
    "## Load prod and sim forecasts"
   ]
  },
  {
   "cell_type": "code",
   "execution_count": null,
   "id": "cc610953",
   "metadata": {},
   "outputs": [],
   "source": [
    "prod_forecast_df = oms.ForecastProcessor.read_logged_target_positions(\n",
    "    config[\"prod_forecast_dir\"], rename_col_map=config[\"rename_col_map\"].to_dict()\n",
    ")\n",
    "check_for_missing_bars(prod_forecast_df, config[\"freq\"])\n",
    "print_stats(prod_forecast_df)\n",
    "hpandas.df_to_str(prod_forecast_df, log_level=logging.INFO)"
   ]
  },
  {
   "cell_type": "code",
   "execution_count": null,
   "id": "a8d9f0a0",
   "metadata": {},
   "outputs": [],
   "source": [
    "sim_forecast_df = oms.ForecastProcessor.read_logged_target_positions(\n",
    "    config[\"sim_forecast_dir\"], rename_col_map=config[\"rename_col_map\"].to_dict()\n",
    ")\n",
    "check_for_missing_bars(sim_forecast_df, config[\"freq\"])\n",
    "print_stats(sim_forecast_df)\n",
    "hpandas.df_to_str(sim_forecast_df, log_level=logging.INFO)"
   ]
  },
  {
   "cell_type": "markdown",
   "id": "2a42684d",
   "metadata": {},
   "source": [
    "## Compute forecast prod delay"
   ]
  },
  {
   "cell_type": "code",
   "execution_count": null,
   "id": "c5e38a8a",
   "metadata": {},
   "outputs": [],
   "source": [
    "prod_forecast_delay = compute_delay(prod_forecast_df, config[\"freq\"])\n",
    "hpandas.df_to_str(prod_forecast_delay, log_level=logging.INFO)"
   ]
  },
  {
   "cell_type": "code",
   "execution_count": null,
   "id": "8f3f9917",
   "metadata": {},
   "outputs": [],
   "source": [
    "# Plot delay in seconds.\n",
    "prod_forecast_delay.dt.total_seconds().plot(title=\"delay in seconds\")"
   ]
  },
  {
   "cell_type": "code",
   "execution_count": null,
   "id": "c15cfe29",
   "metadata": {},
   "outputs": [],
   "source": [
    "prod_forecast_df.index = prod_forecast_df.index.round(config[\"freq\"])\n",
    "sim_forecast_df.index = sim_forecast_df.index.round(config[\"freq\"])\n",
    "prod_forecast_df = prod_forecast_df.loc[start_timestamp:end_timestamp]\n",
    "sim_forecast_df = sim_forecast_df.loc[start_timestamp:end_timestamp]"
   ]
  },
  {
   "cell_type": "markdown",
   "id": "a9e379aa",
   "metadata": {},
   "source": [
    "## Compare forecast dataframes"
   ]
  },
  {
   "cell_type": "code",
   "execution_count": null,
   "id": "af33136e",
   "metadata": {},
   "outputs": [],
   "source": [
    "forecast_corrs = dtfmod.compute_correlations(prod_forecast_df, sim_forecast_df)\n",
    "hpandas.df_to_str(forecast_corrs, precision=3, log_level=logging.INFO)"
   ]
  },
  {
   "cell_type": "code",
   "execution_count": null,
   "id": "b9ffdd80",
   "metadata": {},
   "outputs": [],
   "source": [
    "sort_col = \"prediction\"\n",
    "hpandas.df_to_str(\n",
    "    forecast_corrs.sort_values(sort_col, ascending=False),\n",
    "    num_rows=10,\n",
    "    precision=3,\n",
    "    log_level=logging.INFO,\n",
    ")"
   ]
  },
  {
   "cell_type": "markdown",
   "id": "596009c8",
   "metadata": {},
   "source": [
    "# Orders"
   ]
  },
  {
   "cell_type": "markdown",
   "id": "ad9426b4",
   "metadata": {},
   "source": [
    "## Load prod and sim orders"
   ]
  },
  {
   "cell_type": "code",
   "execution_count": null,
   "id": "bfd4b80b",
   "metadata": {},
   "outputs": [],
   "source": [
    "prod_order_df = oms.ForecastProcessor.read_logged_orders(\n",
    "    config[\"prod_forecast_dir\"]\n",
    ")\n",
    "hpandas.df_to_str(prod_order_df, log_level=logging.INFO)"
   ]
  },
  {
   "cell_type": "code",
   "execution_count": null,
   "id": "d793c0c8",
   "metadata": {},
   "outputs": [],
   "source": [
    "sim_order_df = oms.ForecastProcessor.read_logged_orders(\n",
    "    config[\"sim_forecast_dir\"]\n",
    ")\n",
    "hpandas.df_to_str(sim_order_df, log_level=logging.INFO)"
   ]
  },
  {
   "cell_type": "markdown",
   "id": "637583f2",
   "metadata": {},
   "source": [
    "# Portfolios"
   ]
  },
  {
   "cell_type": "markdown",
   "id": "5f948dfb",
   "metadata": {},
   "source": [
    "## Load prod portfolio"
   ]
  },
  {
   "cell_type": "code",
   "execution_count": null,
   "id": "fafd291d",
   "metadata": {},
   "outputs": [],
   "source": [
    "prod_portfolio_df, prod_portfolio_stats_df = load_portfolio(\n",
    "    config[\"prod_portfolio_dir\"],\n",
    "    config[\"start_timestamp\"],\n",
    "    config[\"end_timestamp\"],\n",
    "    config[\"freq\"],\n",
    ")"
   ]
  },
  {
   "cell_type": "code",
   "execution_count": null,
   "id": "522b828f",
   "metadata": {},
   "outputs": [],
   "source": [
    "hpandas.df_to_str(prod_portfolio_df, log_level=logging.INFO)"
   ]
  },
  {
   "cell_type": "code",
   "execution_count": null,
   "id": "052fdfc6",
   "metadata": {},
   "outputs": [],
   "source": [
    "hpandas.df_to_str(prod_portfolio_stats_df, log_level=logging.INFO)"
   ]
  },
  {
   "cell_type": "markdown",
   "id": "c63b41d1",
   "metadata": {},
   "source": [
    "## Load sim portfolio"
   ]
  },
  {
   "cell_type": "code",
   "execution_count": null,
   "id": "a08a4f9b",
   "metadata": {},
   "outputs": [],
   "source": [
    "sim_portfolio_df, sim_portfolio_stats_df = load_portfolio(\n",
    "    config[\"sim_portfolio_dir\"],\n",
    "    config[\"start_timestamp\"],\n",
    "    config[\"end_timestamp\"],\n",
    "    config[\"freq\"],\n",
    ")"
   ]
  },
  {
   "cell_type": "code",
   "execution_count": null,
   "id": "71636343",
   "metadata": {},
   "outputs": [],
   "source": [
    "hpandas.df_to_str(sim_portfolio_df, log_level=logging.INFO)"
   ]
  },
  {
   "cell_type": "code",
   "execution_count": null,
   "id": "e72e82ff",
   "metadata": {},
   "outputs": [],
   "source": [
    "hpandas.df_to_str(sim_portfolio_stats_df, log_level=logging.INFO)"
   ]
  },
  {
   "cell_type": "markdown",
   "id": "99cf0ac7",
   "metadata": {},
   "source": [
    "## Compute prod portfolio delay"
   ]
  },
  {
   "cell_type": "code",
   "execution_count": null,
   "id": "c7a2659a",
   "metadata": {},
   "outputs": [],
   "source": [
    "prod_portfolio_delay = compute_delay(prod_portfolio_df, config[\"freq\"])\n",
    "hpandas.df_to_str(prod_portfolio_delay, log_level=logging.INFO)"
   ]
  },
  {
   "cell_type": "code",
   "execution_count": null,
   "id": "c1d80115",
   "metadata": {},
   "outputs": [],
   "source": [
    "prod_portfolio_delay.dt.total_seconds().plot(title=\"delay in seconds\")"
   ]
  },
  {
   "cell_type": "code",
   "execution_count": null,
   "id": "774d59c1",
   "metadata": {},
   "outputs": [],
   "source": [
    "_LOG.info(\"prod portfolio delay mean=%s\", prod_portfolio_delay.mean())\n",
    "_LOG.info(\"prod portfolio delay std=%s\", prod_portfolio_delay.std())"
   ]
  },
  {
   "cell_type": "markdown",
   "id": "6977911c",
   "metadata": {},
   "source": [
    "## Normalize bar times"
   ]
  },
  {
   "cell_type": "code",
   "execution_count": null,
   "id": "00cca108",
   "metadata": {},
   "outputs": [],
   "source": [
    "dfs = [\n",
    "    prod_portfolio_df,\n",
    "    prod_portfolio_stats_df,\n",
    "    sim_portfolio_df,\n",
    "    sim_portfolio_stats_df,\n",
    "]"
   ]
  },
  {
   "cell_type": "code",
   "execution_count": null,
   "id": "91c1c376",
   "metadata": {},
   "outputs": [],
   "source": [
    "for df in dfs:\n",
    "    df.index = df.index.round(config[\"freq\"])"
   ]
  },
  {
   "cell_type": "markdown",
   "id": "9acd37b8",
   "metadata": {},
   "source": [
    "## Compare portfolio stats"
   ]
  },
  {
   "cell_type": "code",
   "execution_count": null,
   "id": "f540bfc9",
   "metadata": {},
   "outputs": [],
   "source": [
    "portfolio_stats_dfs = {\n",
    "    \"prod\": prod_portfolio_stats_df,\n",
    "    \"sim\": sim_portfolio_stats_df,\n",
    "}\n",
    "portfolio_stats_dfs = pd.concat(portfolio_stats_dfs, axis=1)"
   ]
  },
  {
   "cell_type": "code",
   "execution_count": null,
   "id": "cb979608",
   "metadata": {},
   "outputs": [],
   "source": [
    "prod_portfolio_stats_df[\"pnl\"].plot()"
   ]
  },
  {
   "cell_type": "code",
   "execution_count": null,
   "id": "3bbf77a2",
   "metadata": {},
   "outputs": [],
   "source": [
    "sim_portfolio_stats_df[\"pnl\"].plot()"
   ]
  },
  {
   "cell_type": "code",
   "execution_count": null,
   "id": "2233782c",
   "metadata": {},
   "outputs": [],
   "source": [
    "hpandas.df_to_str(portfolio_stats_dfs, log_level=logging.INFO)"
   ]
  },
  {
   "cell_type": "code",
   "execution_count": null,
   "id": "0cb4a2c9",
   "metadata": {},
   "outputs": [],
   "source": [
    "coplotti.plot_portfolio_stats(portfolio_stats_dfs)"
   ]
  },
  {
   "cell_type": "code",
   "execution_count": null,
   "id": "35de7928",
   "metadata": {},
   "outputs": [],
   "source": [
    "portfolio_stats_corrs = dtfmod.compute_correlations(\n",
    "    prod_portfolio_stats_df, sim_portfolio_stats_df\n",
    ")\n",
    "display(portfolio_stats_corrs.round(3))"
   ]
  },
  {
   "cell_type": "code",
   "execution_count": null,
   "id": "5dd69765",
   "metadata": {},
   "outputs": [],
   "source": [
    "stats_computer = dtfmod.StatsComputer()\n",
    "stats_sxs, _ = stats_computer.compute_portfolio_stats(\n",
    "    portfolio_stats_dfs, config[\"freq\"]\n",
    ")\n",
    "display(stats_sxs)"
   ]
  },
  {
   "cell_type": "markdown",
   "id": "12990e8c",
   "metadata": {},
   "source": [
    "## Compare portfolios at the instrument level"
   ]
  },
  {
   "cell_type": "code",
   "execution_count": null,
   "id": "2d7c1bf5",
   "metadata": {},
   "outputs": [],
   "source": [
    "portfolio_corrs = dtfmod.compute_correlations(prod_portfolio_df, sim_portfolio_df)\n",
    "hpandas.df_to_str(portfolio_corrs, precision=3, log_level=logging.INFO)"
   ]
  },
  {
   "cell_type": "code",
   "execution_count": null,
   "id": "27c65ffe",
   "metadata": {},
   "outputs": [],
   "source": [
    "sort_col = \"pnl\"\n",
    "hpandas.df_to_str(\n",
    "    portfolio_corrs.sort_values(sort_col, ascending=False),\n",
    "    num_rows=10,\n",
    "    precision=3,\n",
    "    log_level=logging.INFO,\n",
    ")"
   ]
  },
  {
   "cell_type": "markdown",
   "id": "db321915",
   "metadata": {},
   "source": [
    "# System configs"
   ]
  },
  {
   "cell_type": "code",
   "execution_count": null,
   "id": "589dfb6b",
   "metadata": {},
   "outputs": [],
   "source": [
    "prod_system_config_output = load_config_as_list(\n",
    "    prod_dir + \"/system_config.output.txt\"\n",
    ")\n",
    "sim_system_config_output = load_config_as_list(\n",
    "    sim_dir + \"/system_config.output.txt\"\n",
    ")\n",
    "prod_system_config_input = load_config_as_list(\n",
    "    prod_dir + \"/system_config.input.txt\"\n",
    ")\n",
    "sim_system_config_input = load_config_as_list(\n",
    "    sim_dir + \"/system_config.input.txt\"\n",
    ")"
   ]
  },
  {
   "cell_type": "code",
   "execution_count": null,
   "id": "20dc4f83",
   "metadata": {},
   "outputs": [],
   "source": [
    "prod_output_only, sim_output_only = diff_lines(\n",
    "    prod_system_config_output, sim_system_config_output\n",
    ")"
   ]
  },
  {
   "cell_type": "code",
   "execution_count": null,
   "id": "2f356650",
   "metadata": {},
   "outputs": [],
   "source": [
    "# prod_output_only"
   ]
  },
  {
   "cell_type": "code",
   "execution_count": null,
   "id": "29e21f42",
   "metadata": {},
   "outputs": [],
   "source": [
    "# sim_output_only"
   ]
  },
  {
   "cell_type": "code",
   "execution_count": null,
   "id": "a76a1b82",
   "metadata": {},
   "outputs": [],
   "source": []
  }
 ],
 "metadata": {
  "kernelspec": {
   "display_name": "Python 3 (ipykernel)",
   "language": "python",
   "name": "python3"
  },
  "language_info": {
   "codemirror_mode": {
    "name": "ipython",
    "version": 3
   },
   "file_extension": ".py",
   "mimetype": "text/x-python",
   "name": "python",
   "nbconvert_exporter": "python",
   "pygments_lexer": "ipython3"
  },
  "toc": {
   "base_numbering": 1,
   "nav_menu": {},
   "number_sections": true,
   "sideBar": true,
   "skip_h1_title": false,
   "title_cell": "Table of Contents",
   "title_sidebar": "Contents",
   "toc_cell": false,
   "toc_position": {},
   "toc_section_display": true,
   "toc_window_display": false
  }
 },
 "nbformat": 4,
 "nbformat_minor": 5
}
