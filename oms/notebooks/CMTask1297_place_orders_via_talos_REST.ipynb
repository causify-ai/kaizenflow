{
 "cells": [
  {
   "cell_type": "markdown",
   "id": "908fff1d",
   "metadata": {},
   "source": [
    "# Description"
   ]
  },
  {
   "cell_type": "markdown",
   "id": "c5a3c178",
   "metadata": {},
   "source": [
    "The notebook implements an interface proposal for placing orders via Talos API (REST).\n",
    "\n",
    "Example:\n",
    "https://github.com/talostrading/samples/blob/master/python/rfqsample/rfqsample/rest.py"
   ]
  },
  {
   "cell_type": "code",
   "execution_count": null,
   "id": "4da7cfd8",
   "metadata": {},
   "outputs": [],
   "source": [
    "%load_ext autoreload\n",
    "%autoreload 2\n",
    "\n",
    "import base64\n",
    "import hashlib\n",
    "import hmac\n",
    "import logging\n",
    "\n",
    "import pandas as pd\n",
    "import requests\n",
    "\n",
    "import helpers.hdatetime as hdateti\n",
    "import helpers.hdbg as hdbg\n",
    "import helpers.hprint as hprint\n",
    "import datetime\n",
    "import helpers.hsql as hsql\n",
    "import im_v2.im_lib_tasks as imvimlita\n",
    "import uuid\n",
    "import helpers.hsecrets as hsecret\n",
    "from urllib.parse import urlparse, urlencode"
   ]
  },
  {
   "cell_type": "code",
   "execution_count": null,
   "id": "c8bc9f7f",
   "metadata": {},
   "outputs": [],
   "source": [
    "hdbg.init_logger(verbosity=logging.DEBUG)\n",
    "\n",
    "_LOG = logging.getLogger(__name__)\n",
    "\n",
    "hprint.config_notebook()"
   ]
  },
  {
   "cell_type": "markdown",
   "id": "f4fd0c9b",
   "metadata": {},
   "source": [
    "## Functions"
   ]
  },
  {
   "cell_type": "code",
   "execution_count": null,
   "id": "28df68f4",
   "metadata": {},
   "outputs": [],
   "source": [
    "def calculate_signature(api_secret, parts):\n",
    "    \"\"\"\n",
    "    A signature required for some types of GET and POST requests.\n",
    "\n",
    "    \"\"\"\n",
    "    payload = \"\\n\".join(parts)\n",
    "    hash = hmac.new(\n",
    "        api_secret.encode(\"ascii\"), payload.encode(\"ascii\"), hashlib.sha256\n",
    "    )\n",
    "    hash.hexdigest()\n",
    "    signature = base64.urlsafe_b64encode(hash.digest()).decode()\n",
    "    return signature\n",
    "\n",
    "def timestamp_to_tz_naive_ISO_8601(timestamp: pd.Timestamp) -> str:\n",
    "    \"\"\"\n",
    "    Transform Timestamp into a string in format accepted by Talos API.\n",
    "\n",
    "    Example:\n",
    "    2019-10-20T15:00:00.000000Z\n",
    "\n",
    "    Note: microseconds must be included.\n",
    "    \"\"\"\n",
    "    #hdateti.dassert_is_tz_naive(timestamp)\n",
    "    timestamp_iso_8601 = timestamp.isoformat(timespec=\"microseconds\") + \"Z\"\n",
    "    return timestamp_iso_8601\n",
    "\n",
    "def get_orders(endpoint: str, path: str, public_key: str, secret_key: str) -> pd.DataFrame:\n",
    "    \"\"\"\n",
    "    Load data from given path.\n",
    "    \n",
    "    Loads all orders up to the moment of request\n",
    "    \"\"\"\n",
    "    utc_datetime = datetime.datetime.utcnow().strftime(\"%Y-%m-%dT%H:%M:%S.000000Z\")\n",
    "    # TODO(Danya): Add time query (startDate and endDate)\n",
    "    # TODO(Danya): Factor out the general form of a GET request (common with OHLCV)\n",
    "    # TODO(Danya): Factor out the general part of TALOS authorization.\n",
    "    # Note: some kind of query is required.\n",
    "    query = {\"EndDate\": utc_datetime}\n",
    "    query_string = urlencode(query)\n",
    "    print(utc_datetime)\n",
    "    get_request_parts = [\n",
    "    \"GET\",\n",
    "    utc_datetime,\n",
    "    endpoint,\n",
    "    path,\n",
    "    query_string\n",
    "]\n",
    "    signature = calculate_signature(secret_key, get_request_parts)\n",
    "    # TODO(*): Get secrets from hsecrets.\n",
    "    headers = {\n",
    "    \"TALOS-KEY\": public_key,  # API public key\n",
    "    \"TALOS-SIGN\": signature, # an encoded secret key + request\n",
    "    \"TALOS-TS\": utc_datetime, # Time of request UTC.\n",
    "    }\n",
    "    # TODO(Danya): Factor out \n",
    "    url = f\"https://{endpoint}{path}?{query_string}\"\n",
    "    print(url)\n",
    "    r = requests.get(url=url, headers=headers)\n",
    "    if r.status_code == 200:\n",
    "        data = r.json()\n",
    "    else:\n",
    "        raise Exception(f\"{r.status_code}: {r.text}\")\n",
    "    return data\n",
    "\n",
    "def get_talos_api_keys(mode: str = \"sandbox\"):\n",
    "    if mode==\"sandbox\":\n",
    "        api_keys = hsecret.get_secret(\"talos_sandbox\")\n",
    "    return api_keys\n",
    "\n",
    "def get_cl_ord_id():\n",
    "    \"\"\" Create a ClOrdID for the POST request. \"\"\"\n",
    "    return str(uuid.uuid4())\n",
    "\n",
    "def create_order(timestamp_ISO8601: str):\n",
    "    # TODO(Danya): Add arguments: quantity, markets (exchanges), order type, etc.\n",
    "    # TODO(Danya): required types of order: limit, VWAP, TWAP; TimeInForce should have \"GoodUntil\" passed.\n",
    "    order = {\n",
    "        \"ClOrdID\": get_cl_ord_id(),\n",
    "        \"Markets\": [\"binance\"],\n",
    "        \"OrderQty\": \"1.0000\",\n",
    "        \"Symbol\": \"BTC-USDT\",\n",
    "        \"Currency\": \"BTC\",\n",
    "        \"TransactTime\": timestamp_ISO8601, # Should always be the utcnow() with Talos date formatting.\n",
    "        \"OrdType\": \"Limit\",\n",
    "        \"TimeInForce\": \"GoodTillCancel\",\n",
    "        \"Price\": \"5.81\",\n",
    "        \"Side\": \"Buy\",\n",
    "    }\n",
    "    return order\n",
    "\n",
    "\n",
    "def post_order(endpoint: str, path: str, public_key: str, secret_key: str):\n",
    "    # TODO(Danya): Factor out the statement.\n",
    "    utc_datetime = datetime.datetime.utcnow().strftime(\"%Y-%m-%dT%H:%M:%S.000000Z\")\n",
    "    parts = [\n",
    "        \"POST\",\n",
    "        utc_datetime,\n",
    "        \"tal-87.sandbox.talostrading.com\",\n",
    "        \"/v1/orders\",\n",
    "    ]\n",
    "    # TODO(Danya): Create order from outside with specific arguments\n",
    "    order = create_order(utc_datetime)\n",
    "    print(order)\n",
    "    body = json.dumps(order)\n",
    "    parts.append(body)\n",
    "    # Enciode request with secret key.\n",
    "    signature = calculate_signature(secret_key, parts)\n",
    "    headers = {\n",
    "        \"TALOS-KEY\": public_key,\n",
    "        \"TALOS-SIGN\": signature,\n",
    "        \"TALOS-TS\": utc_datetime,\n",
    "    }\n",
    "    # Create a POST request.\n",
    "    url = f\"https://{endpoint}{path}\"\n",
    "    r = requests.post(url=url, data=body, headers=headers)\n",
    "    if r.status_code != 200:\n",
    "        Exception(f\"{r.status_code}: {r.text}\")\n",
    "    return r.status_code"
   ]
  },
  {
   "cell_type": "markdown",
   "id": "b16f0210",
   "metadata": {},
   "source": [
    "### Setup"
   ]
  },
  {
   "cell_type": "code",
   "execution_count": null,
   "id": "76337de9",
   "metadata": {},
   "outputs": [],
   "source": [
    "# Imitation of script input parameters.\n",
    "# Common elements of both GET and POST requests.\n",
    "api_keys = get_talos_api_keys()\n",
    "endpoint = \"tal-87.sandbox.talostrading.com\" # our sandbox endpoint\n",
    "path = \"/v1/orders\" # path for all data related to placin orders"
   ]
  },
  {
   "cell_type": "markdown",
   "id": "5b48cb1d",
   "metadata": {},
   "source": [
    "### How to load orders?\n",
    "https://docs.talostrading.com/#get-an-order-rest"
   ]
  },
  {
   "cell_type": "code",
   "execution_count": null,
   "id": "f180dd16",
   "metadata": {},
   "outputs": [],
   "source": [
    "get_orders(endpoint, path, api_keys[\"apiKey\"], api_keys[\"secret\"])"
   ]
  },
  {
   "cell_type": "markdown",
   "id": "49470907",
   "metadata": {},
   "source": [
    "### Post an order"
   ]
  },
  {
   "cell_type": "code",
   "execution_count": null,
   "id": "42adc0c0",
   "metadata": {},
   "outputs": [],
   "source": [
    "post_order(endpoint, path, api_keys[\"apiKey\"], api_keys[\"secret\"])"
   ]
  },
  {
   "cell_type": "code",
   "execution_count": null,
   "id": "74a6167d",
   "metadata": {},
   "outputs": [],
   "source": []
  }
 ],
 "metadata": {
  "kernelspec": {
   "display_name": "Python 3 (ipykernel)",
   "language": "python",
   "name": "python3"
  },
  "language_info": {
   "codemirror_mode": {
    "name": "ipython",
    "version": 3
   },
   "file_extension": ".py",
   "mimetype": "text/x-python",
   "name": "python",
   "nbconvert_exporter": "python",
   "pygments_lexer": "ipython3"
  },
  "toc": {
   "base_numbering": 1,
   "nav_menu": {},
   "number_sections": true,
   "sideBar": true,
   "skip_h1_title": false,
   "title_cell": "Table of Contents",
   "title_sidebar": "Contents",
   "toc_cell": false,
   "toc_position": {},
   "toc_section_display": true,
   "toc_window_display": false
  }
 },
 "nbformat": 4,
 "nbformat_minor": 5
}
