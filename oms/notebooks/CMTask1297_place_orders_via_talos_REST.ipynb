{
 "cells": [
  {
   "cell_type": "markdown",
   "id": "908fff1d",
   "metadata": {},
   "source": [
    "# Description"
   ]
  },
  {
   "cell_type": "markdown",
   "id": "c5a3c178",
   "metadata": {},
   "source": [
    "The notebook implements an interface proposal for placing orders via Talos API (REST).\n",
    "\n",
    "Example:\n",
    "https://github.com/talostrading/samples/blob/master/python/rfqsample/rfqsample/rest.py"
   ]
  },
  {
   "cell_type": "code",
   "execution_count": null,
   "id": "4da7cfd8",
   "metadata": {},
   "outputs": [],
   "source": [
    "%load_ext autoreload\n",
    "%autoreload 2\n",
    "\n",
    "import base64\n",
    "import hashlib\n",
    "import hmac\n",
    "import logging\n",
    "\n",
    "import pandas as pd\n",
    "import requests\n",
    "\n",
    "import helpers.hdatetime as hdateti\n",
    "import helpers.hdbg as hdbg\n",
    "import helpers.hprint as hprint\n",
    "import datetime\n",
    "import helpers.hsql as hsql\n",
    "import im_v2.im_lib_tasks as imvimlita\n",
    "import uuid"
   ]
  },
  {
   "cell_type": "code",
   "execution_count": null,
   "id": "c8bc9f7f",
   "metadata": {},
   "outputs": [],
   "source": [
    "hdbg.init_logger(verbosity=logging.DEBUG)\n",
    "\n",
    "_LOG = logging.getLogger(__name__)\n",
    "\n",
    "hprint.config_notebook()"
   ]
  },
  {
   "cell_type": "markdown",
   "id": "f4fd0c9b",
   "metadata": {},
   "source": [
    "## Functions"
   ]
  },
  {
   "cell_type": "code",
   "execution_count": null,
   "id": "28df68f4",
   "metadata": {},
   "outputs": [],
   "source": [
    "def calculate_signature(api_secret, parts):\n",
    "    \"\"\"\n",
    "    A signature required for some types of GET and POST requests.\n",
    "\n",
    "    Not required for historical data.\n",
    "    \"\"\"\n",
    "    payload = \"\\n\".join(parts)\n",
    "    hash = hmac.new(\n",
    "        api_secret.encode(\"ascii\"), payload.encode(\"ascii\"), hashlib.sha256\n",
    "    )\n",
    "    hash.hexdigest()\n",
    "    signature = base64.urlsafe_b64encode(hash.digest()).decode()\n",
    "    return signature\n",
    "\n",
    "def timestamp_to_tz_naive_ISO_8601(timestamp: pd.Timestamp) -> str:\n",
    "    \"\"\"\n",
    "    Transform Timestamp into a string in format accepted by Talos API.\n",
    "\n",
    "    Example:\n",
    "    2019-10-20T15:00:00.000000Z\n",
    "\n",
    "    Note: microseconds must be included.\n",
    "    \"\"\"\n",
    "    hdateti.dassert_is_tz_naive(timestamp)\n",
    "    timestamp_iso_8601 = timestamp.isoformat(timespec=\"microseconds\") + \"Z\"\n",
    "    return timestamp_iso_8601\n",
    "\n",
    "def get_orders(host: str, path: str, query: str, signature: str) -> pd.DataFrame:\n",
    "    \"\"\"\n",
    "    Load data from given path.\n",
    "    \"\"\"\n",
    "    headers = {\"TALOS-KEY\": key_talos}\n",
    "    # Example of full url:\n",
    "    #  https://sandbox.talostrading.com/v1/symbols/BTC-USDT/markets/binance/ohlcv/1m?startDate=2022-02-24T19:21:00.000000Z&startDate=2022-02-24T19:25:00.000000Z&limit=100\n",
    "    url = f\"https://{host}{path}{query}\"\n",
    "    r = requests.get(url=url, params={}, headers=headers)\n",
    "    if r.status_code == 200:\n",
    "        data = r.json()[\"data\"]\n",
    "\n",
    "    return pd.DataFrame(data)"
   ]
  },
  {
   "cell_type": "markdown",
   "id": "05693b7c",
   "metadata": {},
   "source": [
    "### Small Q&A\n",
    "\n",
    "- How to get a list of order IDs?\n",
    "- How to load all orders (not just IDs)?\n",
    "- How to post an order to buy?\n",
    "- How to post an order to sell?\n",
    "- How to find out the status of the order?\n",
    "- ** How to link the API to a wallet?"
   ]
  },
  {
   "cell_type": "markdown",
   "id": "5b48cb1d",
   "metadata": {},
   "source": [
    "### How to load orders?\n",
    "https://docs.talostrading.com/#get-an-order-rest\n",
    "\n",
    "See the header for orders - how to pass a signature?\n",
    "\n",
    "`GET /v1/orders/`"
   ]
  },
  {
   "cell_type": "code",
   "execution_count": null,
   "id": "1f08376e",
   "metadata": {},
   "outputs": [],
   "source": [
    "def get_orders(host: str, path: str, query: str, signature: str) -> pd.DataFrame:\n",
    "    \"\"\"\n",
    "    Load data from given path.\n",
    "    \"\"\"\n",
    "    headers = {\"TALOS-KEY\": key_talos}\n",
    "    # Example of full url:\n",
    "    url = f\"https://{host}{path}{query}\"\n",
    "    r = requests.get(url=url, params={}, headers=headers)\n",
    "    if r.status_code == 200:\n",
    "        data = r.json()[\"data\"]\n",
    "\n",
    "    return pd.DataFrame(data)"
   ]
  },
  {
   "cell_type": "code",
   "execution_count": null,
   "id": "e0450013",
   "metadata": {},
   "outputs": [],
   "source": [
    "key_talos = \"CRYEY4S913H3\"\n",
    "secret_talos = \"***REMOVED***\""
   ]
  },
  {
   "cell_type": "code",
   "execution_count": null,
   "id": "04cc894e",
   "metadata": {},
   "outputs": [],
   "source": [
    "from urllib.parse import urlparse, urlencode"
   ]
  },
  {
   "cell_type": "code",
   "execution_count": null,
   "id": "f180dd16",
   "metadata": {},
   "outputs": [],
   "source": [
    "utc_datetime = datetime.datetime.utcnow().strftime(\"%Y-%m-%dT%H:%M:%S.000000Z\")\n",
    "endpoint = \"tal-87.sandbox.talostrading.com\"\n",
    "path = \"/v1/orders\"\n",
    "parts = [\n",
    "    \"GET\",\n",
    "    utc_datetime,\n",
    "    endpoint,\n",
    "    path,\n",
    "]\n",
    "query = {\"EndDate\": \"2022-03-01T19:30:10.000000Z\"}\n",
    "query_string = urlencode(query)\n",
    "if query_string:\n",
    "    parts.append(query_string)\n",
    "signature = calculate_signature(secret_talos, parts)\n",
    "\n",
    "headers = {\n",
    "    \"TALOS-KEY\": key_talos,\n",
    "    \"TALOS-SIGN\": signature,\n",
    "    \"TALOS-TS\": utc_datetime,\n",
    "}\n",
    "url = f\"https://{endpoint}{path}\"\n",
    "if query_string:\n",
    "    url += \"?\" + query_string\n",
    "r = requests.get(url=url, headers=headers)\n",
    "if r.status_code == 200:\n",
    "    data = r.json()\n",
    "else:\n",
    "    raise Exception(f\"{r.status_code}: {r.text}\")"
   ]
  },
  {
   "cell_type": "code",
   "execution_count": null,
   "id": "b7db5317",
   "metadata": {},
   "outputs": [],
   "source": [
    "data"
   ]
  },
  {
   "cell_type": "code",
   "execution_count": null,
   "id": "4f1385c4",
   "metadata": {},
   "outputs": [],
   "source": [
    "order = {\n",
    "  \"type\": \"NewOrderSingle\",\n",
    "  \"data\": [\n",
    "    {\n",
    "      \"ClOrdID\": \"bffd1c40-dcc3-4817-b61c-4185912e99fa\",\n",
    "      \"Markets\": [\"coinbase\"],\n",
    "      \"OrdType\": \"Limit\",\n",
    "      \"OrderQty\": \"0.1000\",\n",
    "      \"Price\": \"11100.00\",\n",
    "      \"ExpectedFillQty\": \"0.1000\",\n",
    "      \"ExpectedFillPrice\": \"11100.00\",\n",
    "      \"Side\": \"Sell\",\n",
    "      \"Strategy\": \"Limit\",\n",
    "      \"Symbol\": \"BTC-USD\",\n",
    "      \"TimeInForce\": \"GoodTillCancel\",\n",
    "      \"TransactTime\": \"2019-09-17T17:46:28.000000Z\",\n",
    "      \"SessionID\": \"1109RQ13KXR00\",\n",
    "      \"CancelSessionID\": \"1109RQ13KXR00\",\n",
    "      \"SubAccount\": \"SubAccount\",\n",
    "      \"Group\": \"groupA\"\n",
    "    }\n",
    "  ]\n",
    "}"
   ]
  },
  {
   "cell_type": "code",
   "execution_count": null,
   "id": "cf599b70",
   "metadata": {},
   "outputs": [],
   "source": [
    "\"\"\"\n",
    "Perform a signed POST request to the Talos API\n",
    "@param api_key: Talos API Key\n",
    "@param api_secret: Talos API Secret\n",
    "@param scheme: URL scheme, e.g. https\n",
    "@param endpoint: hostname to connect to, e.g. tal-1.sandbox.talostrading.com\n",
    "@param path: path for request, e.g. /v1/orders\n",
    "@param data: body to submit\n",
    "@return response as an object\n",
    "@raise an exception if the status code is not 200\n",
    "\"\"\"\n",
    "url = f\"https://{endpoint}{path}\"\n",
    "utc_datetime = datetime.datetime.utcnow().strftime(\"%Y-%m-%dT%H:%M:%S.000000Z\")\n",
    "parts = [\n",
    "    \"POST\",\n",
    "    utc_datetime,\n",
    "    endpoint,\n",
    "    path,\n",
    "]\n",
    "if query:\n",
    "    query_string = urlencode(query)\n",
    "    url += f\"?{query_string}\"\n",
    "    parts.append(query_string)\n",
    "\n",
    "if data:\n",
    "    body = json.dumps(data)\n",
    "    parts.append(body)\n",
    "\n",
    "signature = calculate_signature(api_secret, parts)\n",
    "\n",
    "headers = {\n",
    "    \"TALOS-KEY\": api_key,\n",
    "    \"TALOS-SIGN\": signature,\n",
    "    \"TALOS-TS\": utc_datetime,\n",
    "}\n",
    "\n",
    "r = requests.post(url=url, data=body, headers=headers)\n",
    "if r.status_code == 200:\n",
    "    data = r.json()\n",
    "else:\n",
    "    raise Exception(f\"{r.status_code}: {r.text}\")"
   ]
  },
  {
   "cell_type": "code",
   "execution_count": null,
   "id": "c46ec309",
   "metadata": {},
   "outputs": [],
   "source": [
    "def new_cl_ord_id():\n",
    "    \"\"\" Returns a new ClOrdID. \"\"\"\n",
    "    return str(uuid.uuid4())"
   ]
  },
  {
   "cell_type": "code",
   "execution_count": null,
   "id": "bc005857",
   "metadata": {},
   "outputs": [],
   "source": [
    "new_cl_ord_id()"
   ]
  },
  {
   "cell_type": "code",
   "execution_count": null,
   "id": "e9952890",
   "metadata": {},
   "outputs": [],
   "source": [
    "order_request = {\n",
    "    \"ClOrdID\": new_cl_ord_id(),\n",
    "    \"Markets\": [\"binance\"],\n",
    "    \"OrderQty\": \"1.0000\",\n",
    "    \"Symbol\": \"BTC-USDT\",\n",
    "    \"Currency\": \"BTC\",\n",
    "    \"TransactTime\": datetime.datetime.utcnow().strftime(\"%Y-%m-%dT%H:%M:%S.000000Z\"),\n",
    "    \"OrdType\": \"Limit\",\n",
    "    \"TimeInForce\": \"GoodTillCancel\",\n",
    "    \"Price\": str(\"43481.81\"),\n",
    "    \"Side\": \"Buy\",\n",
    "}"
   ]
  },
  {
   "cell_type": "code",
   "execution_count": null,
   "id": "3bed5744",
   "metadata": {},
   "outputs": [],
   "source": [
    "url = f\"https://{endpoint}{path}\"\n",
    "utc_datetime = datetime.datetime.utcnow().strftime(\"%Y-%m-%dT%H:%M:%S.000000Z\")\n",
    "parts = [\n",
    "    \"POST\",\n",
    "    utc_datetime,\n",
    "    \"tal-87.sandbox.talostrading.com\",\n",
    "    \"/v1/orders\",\n",
    "]\n",
    "body = json.dumps(order_request)\n",
    "parts.append(body)\n",
    "signature = calculate_signature(secret_talos, parts)\n",
    "\n",
    "headers = {\n",
    "    \"TALOS-KEY\": key_talos,\n",
    "    \"TALOS-SIGN\": signature,\n",
    "    \"TALOS-TS\": utc_datetime,\n",
    "}\n",
    "\n",
    "r = requests.post(url=url, data=body, headers=headers)\n",
    "if r.status_code == 200:\n",
    "    r.json()\n",
    "else:\n",
    "    Exception(f\"{r.status_code}: {r.text}\")"
   ]
  },
  {
   "cell_type": "code",
   "execution_count": null,
   "id": "92e54591",
   "metadata": {},
   "outputs": [],
   "source": [
    "r.status_code"
   ]
  },
  {
   "cell_type": "code",
   "execution_count": null,
   "id": "42adc0c0",
   "metadata": {},
   "outputs": [],
   "source": []
  }
 ],
 "metadata": {
  "kernelspec": {
   "display_name": "Python 3 (ipykernel)",
   "language": "python",
   "name": "python3"
  },
  "language_info": {
   "codemirror_mode": {
    "name": "ipython",
    "version": 3
   },
   "file_extension": ".py",
   "mimetype": "text/x-python",
   "name": "python",
   "nbconvert_exporter": "python",
   "pygments_lexer": "ipython3"
  },
  "toc": {
   "base_numbering": 1,
   "nav_menu": {},
   "number_sections": true,
   "sideBar": true,
   "skip_h1_title": false,
   "title_cell": "Table of Contents",
   "title_sidebar": "Contents",
   "toc_cell": false,
   "toc_position": {},
   "toc_section_display": true,
   "toc_window_display": false
  }
 },
 "nbformat": 4,
 "nbformat_minor": 5
}
