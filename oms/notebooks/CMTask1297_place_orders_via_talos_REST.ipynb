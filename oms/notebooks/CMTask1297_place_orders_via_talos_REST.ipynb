{
 "cells": [
  {
   "cell_type": "markdown",
   "id": "908fff1d",
   "metadata": {},
   "source": [
    "# Description"
   ]
  },
  {
   "cell_type": "markdown",
   "id": "c5a3c178",
   "metadata": {},
   "source": [
    "The notebook implements an interface proposal for placing orders via Talos API (REST).\n",
    "\n",
    "Example:\n",
    "https://github.com/talostrading/samples/blob/master/python/rfqsample/rfqsample/rest.py"
   ]
  },
  {
   "cell_type": "code",
   "execution_count": null,
   "id": "4da7cfd8",
   "metadata": {},
   "outputs": [],
   "source": [
    "%load_ext autoreload\n",
    "%autoreload 2\n",
    "\n",
    "import base64\n",
    "import hashlib\n",
    "import hmac\n",
    "import logging\n",
    "\n",
    "import pandas as pd\n",
    "import requests\n",
    "\n",
    "import helpers.hdatetime as hdateti\n",
    "import helpers.hdbg as hdbg\n",
    "import helpers.hprint as hprint\n",
    "import helpers.hsql as hsql\n",
    "import im_v2.im_lib_tasks as imvimlita"
   ]
  },
  {
   "cell_type": "code",
   "execution_count": null,
   "id": "c8bc9f7f",
   "metadata": {},
   "outputs": [],
   "source": [
    "hdbg.init_logger(verbosity=logging.DEBUG)\n",
    "\n",
    "_LOG = logging.getLogger(__name__)\n",
    "\n",
    "hprint.config_notebook()"
   ]
  },
  {
   "cell_type": "markdown",
   "id": "f4fd0c9b",
   "metadata": {},
   "source": [
    "## Functions"
   ]
  },
  {
   "cell_type": "code",
   "execution_count": null,
   "id": "28df68f4",
   "metadata": {},
   "outputs": [],
   "source": [
    "def calculate_signature(api_secret, parts):\n",
    "    \"\"\"\n",
    "    A signature required for some types of GET and POST requests.\n",
    "\n",
    "    Not required for historical data.\n",
    "    \"\"\"\n",
    "    payload = \"\\n\".join(parts)\n",
    "    hash = hmac.new(\n",
    "        api_secret.encode(\"ascii\"), payload.encode(\"ascii\"), hashlib.sha256\n",
    "    )\n",
    "    hash.hexdigest()\n",
    "    signature = base64.urlsafe_b64encode(hash.digest()).decode()\n",
    "    return signature\n",
    "\n",
    "def timestamp_to_tz_naive_ISO_8601(timestamp: pd.Timestamp) -> str:\n",
    "    \"\"\"\n",
    "    Transform Timestamp into a string in format accepted by Talos API.\n",
    "\n",
    "    Example:\n",
    "    2019-10-20T15:00:00.000000Z\n",
    "\n",
    "    Note: microseconds must be included.\n",
    "    \"\"\"\n",
    "    hdateti.dassert_is_tz_naive(timestamp)\n",
    "    timestamp_iso_8601 = timestamp.isoformat(timespec=\"microseconds\") + \"Z\"\n",
    "    return timestamp_iso_8601\n",
    "\n",
    "def get_orders(host: str, path: str, query: str, signature: str) -> pd.DataFrame:\n",
    "    \"\"\"\n",
    "    Load data from given path.\n",
    "    \"\"\"\n",
    "    headers = {\"TALOS-KEY\": key_talos}\n",
    "    # Example of full url:\n",
    "    #  https://sandbox.talostrading.com/v1/symbols/BTC-USDT/markets/binance/ohlcv/1m?startDate=2022-02-24T19:21:00.000000Z&startDate=2022-02-24T19:25:00.000000Z&limit=100\n",
    "    url = f\"https://{host}{path}{query}\"\n",
    "    r = requests.get(url=url, params={}, headers=headers)\n",
    "    if r.status_code == 200:\n",
    "        data = r.json()[\"data\"]\n",
    "\n",
    "    return pd.DataFrame(data)"
   ]
  },
  {
   "cell_type": "markdown",
   "id": "05693b7c",
   "metadata": {},
   "source": [
    "### Small Q&A\n",
    "\n",
    "- How to get a list of order IDs?\n",
    "- How to load all orders (not just IDs)?\n",
    "- How to post an order to buy?\n",
    "- How to post an order to sell?\n",
    "- How to find out the status of the order?\n",
    "- ** How to link the API to a wallet?"
   ]
  },
  {
   "cell_type": "markdown",
   "id": "5b48cb1d",
   "metadata": {},
   "source": [
    "### How to load orders?\n",
    "https://docs.talostrading.com/#get-an-order-rest\n",
    "\n",
    "See the header for orders - how to pass a signature?"
   ]
  },
  {
   "cell_type": "code",
   "execution_count": null,
   "id": "1f08376e",
   "metadata": {},
   "outputs": [],
   "source": [
    "def get_orders(host: str, path: str, query: str, signature: str) -> pd.DataFrame:\n",
    "    \"\"\"\n",
    "    Load data from given path.\n",
    "    \"\"\"\n",
    "    headers = {\"TALOS-KEY\": key_talos}\n",
    "    # Example of full url:\n",
    "    #  https://sandbox.talostrading.com/v1/symbols/BTC-USDT/markets/binance/ohlcv/1m?startDate=2022-02-24T19:21:00.000000Z&startDate=2022-02-24T19:25:00.000000Z&limit=100\n",
    "    url = f\"https://{host}{path}{query}\"\n",
    "    r = requests.get(url=url, params={}, headers=headers)\n",
    "    if r.status_code == 200:\n",
    "        data = r.json()[\"data\"]\n",
    "\n",
    "    return pd.DataFrame(data)"
   ]
  }
 ],
 "metadata": {
  "kernelspec": {
   "display_name": "Python 3 (ipykernel)",
   "language": "python",
   "name": "python3"
  },
  "language_info": {
   "codemirror_mode": {
    "name": "ipython",
    "version": 3
   },
   "file_extension": ".py",
   "mimetype": "text/x-python",
   "name": "python",
   "nbconvert_exporter": "python",
   "pygments_lexer": "ipython3"
  },
  "toc": {
   "base_numbering": 1,
   "nav_menu": {},
   "number_sections": true,
   "sideBar": true,
   "skip_h1_title": false,
   "title_cell": "Table of Contents",
   "title_sidebar": "Contents",
   "toc_cell": false,
   "toc_position": {},
   "toc_section_display": true,
   "toc_window_display": false
  }
 },
 "nbformat": 4,
 "nbformat_minor": 5
}
