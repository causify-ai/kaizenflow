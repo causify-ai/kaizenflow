{
 "cells": [
  {
   "cell_type": "markdown",
   "id": "b0d321a5",
   "metadata": {},
   "source": [
    "# Description"
   ]
  },
  {
   "cell_type": "markdown",
   "id": "450517dc",
   "metadata": {},
   "source": [
    "The notebook implements an interface proposal for placing orders via Talos API (REST).\n",
    "\n",
    "Example:\n",
    "https://github.com/talostrading/samples/blob/master/python/rfqsample/rfqsample/rest.py"
   ]
  },
  {
   "cell_type": "code",
   "execution_count": null,
   "id": "aa009dc7",
   "metadata": {},
   "outputs": [],
   "source": [
    "%load_ext autoreload\n",
    "%autoreload 2\n",
    "\n",
    "import base64\n",
    "import datetime\n",
    "import hashlib\n",
    "import hmac\n",
    "import logging\n",
    "import uuid\n",
    "from urllib.parse import urlencode\n",
    "\n",
    "import pandas as pd\n",
    "import requests\n",
    "\n",
    "import helpers.hdbg as hdbg\n",
    "import helpers.hprint as hprint\n",
    "import helpers.hsecrets as hsecret"
   ]
  },
  {
   "cell_type": "code",
   "execution_count": null,
   "id": "6c10ab4a",
   "metadata": {},
   "outputs": [],
   "source": [
    "hdbg.init_logger(verbosity=logging.INFO)\n",
    "\n",
    "_LOG = logging.getLogger(__name__)\n",
    "\n",
    "hprint.config_notebook()"
   ]
  },
  {
   "cell_type": "markdown",
   "id": "277458d5",
   "metadata": {},
   "source": [
    "## Functions"
   ]
  },
  {
   "cell_type": "code",
   "execution_count": null,
   "id": "6dd125c3",
   "metadata": {},
   "outputs": [],
   "source": [
    "def calculate_signature(api_secret, parts):\n",
    "    \"\"\"\n",
    "    A signature required for some types of GET and POST requests.\n",
    "    \"\"\"\n",
    "    payload = \"\\n\".join(parts)\n",
    "    hash = hmac.new(\n",
    "        api_secret.encode(\"ascii\"), payload.encode(\"ascii\"), hashlib.sha256\n",
    "    )\n",
    "    hash.hexdigest()\n",
    "    signature = base64.urlsafe_b64encode(hash.digest()).decode()\n",
    "    return signature\n",
    "\n",
    "\n",
    "def timestamp_to_tz_naive_ISO_8601(timestamp: pd.Timestamp) -> str:\n",
    "    \"\"\"\n",
    "    Transform Timestamp into a string in format accepted by Talos API.\n",
    "\n",
    "    Example:\n",
    "    2019-10-20T15:00:00.000000Z\n",
    "\n",
    "    Note: microseconds must be included.\n",
    "    \"\"\"\n",
    "    # hdateti.dassert_is_tz_naive(timestamp)\n",
    "    timestamp_iso_8601 = timestamp.isoformat(timespec=\"microseconds\") + \"Z\"\n",
    "    return timestamp_iso_8601\n",
    "\n",
    "\n",
    "def get_orders(\n",
    "    endpoint: str, path: str, public_key: str, secret_key: str\n",
    ") -> pd.DataFrame:\n",
    "    \"\"\"\n",
    "    Load data from given path.\n",
    "\n",
    "    Loads all orders up to the moment of request\n",
    "    \"\"\"\n",
    "    utc_datetime = datetime.datetime.utcnow().strftime(\n",
    "        \"%Y-%m-%dT%H:%M:%S.000000Z\"\n",
    "    )\n",
    "    # TODO(Danya): Add time query (startDate and endDate)\n",
    "    # TODO(Danya): Factor out the general form of a GET request (common with OHLCV)\n",
    "    # TODO(Danya): Factor out the general part of TALOS authorization.\n",
    "    # Note: some kind of query is required.\n",
    "    query = {\"EndDate\": utc_datetime}\n",
    "    query_string = urlencode(query)\n",
    "    print(utc_datetime)\n",
    "    get_request_parts = [\"GET\", utc_datetime, endpoint, path, query_string]\n",
    "    signature = calculate_signature(secret_key, get_request_parts)\n",
    "    # TODO(*): Get secrets from hsecrets.\n",
    "    headers = {\n",
    "        \"TALOS-KEY\": public_key,  # API public key\n",
    "        \"TALOS-SIGN\": signature,  # an encoded secret key + request\n",
    "        \"TALOS-TS\": utc_datetime,  # Time of request UTC.\n",
    "    }\n",
    "    # TODO(Danya): Factor out\n",
    "    url = f\"https://{endpoint}{path}?{query_string}\"\n",
    "    print(url)\n",
    "    r = requests.get(url=url, headers=headers)\n",
    "    if r.status_code == 200:\n",
    "        data = r.json()\n",
    "    else:\n",
    "        raise Exception(f\"{r.status_code}: {r.text}\")\n",
    "    return data\n",
    "\n",
    "\n",
    "def get_talos_api_keys(mode: str = \"sandbox\"):\n",
    "    if mode == \"sandbox\":\n",
    "        api_keys = hsecret.get_secret(\"talos_sandbox\")\n",
    "    return api_keys\n",
    "\n",
    "\n",
    "def get_cl_ord_id():\n",
    "    \"\"\"\n",
    "    Create a ClOrdID for the POST request.\n",
    "    \"\"\"\n",
    "    return str(uuid.uuid4())\n",
    "\n",
    "\n",
    "def create_order(timestamp_ISO8601: str):\n",
    "    # TODO(Danya): Add arguments: quantity, markets (exchanges), order type, etc.\n",
    "    # TODO(Danya): required types of order: limit, VWAP, TWAP; TimeInForce should have \"GoodUntil\" passed.\n",
    "    order = {\n",
    "        \"ClOrdID\": get_cl_ord_id(),\n",
    "        \"Markets\": [\"binance\"],\n",
    "        \"OrderQty\": \"1.0000\",\n",
    "        \"Symbol\": \"BTC-USDT\",\n",
    "        \"Currency\": \"BTC\",\n",
    "        \"TransactTime\": timestamp_ISO8601,  # Should always be the utcnow() with Talos date formatting.\n",
    "        \"OrdType\": \"Limit\",\n",
    "        \"TimeInForce\": \"GoodTillCancel\",\n",
    "        \"Price\": \"5.81\",\n",
    "        \"Side\": \"Buy\",\n",
    "    }\n",
    "    return order\n",
    "\n",
    "\n",
    "def post_order(endpoint: str, path: str, public_key: str, secret_key: str):\n",
    "    # TODO(Danya): Factor out the statement.\n",
    "    utc_datetime = datetime.datetime.utcnow().strftime(\n",
    "        \"%Y-%m-%dT%H:%M:%S.000000Z\"\n",
    "    )\n",
    "    parts = [\n",
    "        \"POST\",\n",
    "        utc_datetime,\n",
    "        \"tal-87.sandbox.talostrading.com\",\n",
    "        \"/v1/orders\",\n",
    "    ]\n",
    "    # TODO(Danya): Create order from outside with specific arguments\n",
    "    order = create_order(utc_datetime)\n",
    "    print(order)\n",
    "    body = json.dumps(order)\n",
    "    parts.append(body)\n",
    "    # Enciode request with secret key.\n",
    "    signature = calculate_signature(secret_key, parts)\n",
    "    headers = {\n",
    "        \"TALOS-KEY\": public_key,\n",
    "        \"TALOS-SIGN\": signature,\n",
    "        \"TALOS-TS\": utc_datetime,\n",
    "    }\n",
    "    # Create a POST request.\n",
    "    url = f\"https://{endpoint}{path}\"\n",
    "    r = requests.post(url=url, data=body, headers=headers)\n",
    "    if r.status_code != 200:\n",
    "        Exception(f\"{r.status_code}: {r.text}\")\n",
    "    return r.status_code"
   ]
  },
  {
   "cell_type": "markdown",
   "id": "44684be0",
   "metadata": {},
   "source": [
    "### Setup"
   ]
  },
  {
   "cell_type": "code",
   "execution_count": null,
   "id": "397ee52a",
   "metadata": {},
   "outputs": [],
   "source": [
    "# Imitation of script input parameters.\n",
    "# Common elements of both GET and POST requests.\n",
    "api_keys = get_talos_api_keys()\n",
    "endpoint = \"tal-87.sandbox.talostrading.com\"  # our sandbox endpoint\n",
    "path = \"/v1/orders\"  # path for all data related to placin orders"
   ]
  },
  {
   "cell_type": "markdown",
   "id": "17344c7d",
   "metadata": {},
   "source": [
    "### How to load orders?\n",
    "https://docs.talostrading.com/#get-an-order-rest"
   ]
  },
  {
   "cell_type": "code",
   "execution_count": null,
   "id": "3d554fac",
   "metadata": {},
   "outputs": [],
   "source": [
    "get_orders(endpoint, path, api_keys[\"apiKey\"], api_keys[\"secret\"])"
   ]
  },
  {
   "cell_type": "markdown",
   "id": "6ac5eff0",
   "metadata": {},
   "source": [
    "### Post an order"
   ]
  },
  {
   "cell_type": "code",
   "execution_count": null,
   "id": "36e7c281",
   "metadata": {},
   "outputs": [],
   "source": [
    "def create_order(timestamp_ISO8601: str):\n",
    "    # TODO(Danya): Add arguments: quantity, markets (exchanges), order type, etc.\n",
    "    # TODO(Danya): required types of order: limit, VWAP, TWAP; TimeInForce should have \"GoodUntil\" passed.\n",
    "    order = {\n",
    "        \"ClOrdID\": get_cl_ord_id(),\n",
    "        \"Markets\": [\"binance\"],\n",
    "        \"OrderQty\": \"1.0000\",\n",
    "        \"Symbol\": \"BTC-USDT\",\n",
    "        \"Currency\": \"BTC\",\n",
    "        \"TransactTime\": timestamp_ISO8601,  # Should always be the utcnow() with Talos date formatting.\n",
    "        \"OrdType\": \"Limit\",\n",
    "        \"TimeInForce\": \"GoodTillCancel\",\n",
    "        \"Price\": \"49000\",\n",
    "        \"Side\": \"Buy\",\n",
    "    }\n",
    "    return order"
   ]
  },
  {
   "cell_type": "code",
   "execution_count": null,
   "id": "d43288ed",
   "metadata": {},
   "outputs": [],
   "source": [
    "post_order(endpoint, path, api_keys[\"apiKey\"], api_keys[\"secret\"])"
   ]
  },
  {
   "cell_type": "code",
   "execution_count": null,
   "id": "d85fd952",
   "metadata": {},
   "outputs": [],
   "source": [
    "import helpers.hsecrets as hsecret\n",
    "\n",
    "api_keys = hsecret.get_secret(\"talos_sandbox\")"
   ]
  },
  {
   "cell_type": "code",
   "execution_count": null,
   "id": "cf91a00a",
   "metadata": {},
   "outputs": [],
   "source": [
    "api_keys"
   ]
  },
  {
   "cell_type": "markdown",
   "id": "68fb6e56",
   "metadata": {},
   "source": [
    "## Place sell order using TWAP strategy"
   ]
  },
  {
   "cell_type": "markdown",
   "id": "f68b374b",
   "metadata": {},
   "source": [
    "In order to specify strategy one should use param `Strategy` and choose one of the 10 options (see description in th doc: https://docs.google.com/document/d/1BPn08jDr-Rzu79KhAKFA_ZI1Vk1WtxDuLgm4N05DFRc/edit#)\n",
    "\n",
    "In this case there's a presentation of Sell order via TWAP order strategy. TWAP strategy requires param `EndTime`, while StartTime is optional."
   ]
  },
  {
   "cell_type": "code",
   "execution_count": null,
   "id": "a7b24334",
   "metadata": {},
   "outputs": [],
   "source": [
    "def create_order(timestamp_ISO8601: str):\n",
    "    order = {\n",
    "        \"ClOrdID\": get_cl_ord_id(),\n",
    "        \"Markets\": [\"binance\"],\n",
    "        \"OrderQty\": \"0.1000\",\n",
    "        \"Symbol\": \"BTC-USDT\",\n",
    "        \"Currency\": \"BTC\",\n",
    "        \"TransactTime\": timestamp_ISO8601,  # Should always be the utcnow() with Talos date formatting.\n",
    "        \"OrdType\": \"Limit\",\n",
    "        \"TimeInForce\": \"GoodTillCancel\",\n",
    "        \"Price\": \"37000\",\n",
    "        \"Side\": \"Sell\",\n",
    "        \"Strategy\": \"TWAP\",\n",
    "        \"EndTime\": \"2022-03-14T16:25:00.000000Z\",\n",
    "        # \"StartTime\": \"2022-03-08T16:22:00.000000Z\"\n",
    "    }\n",
    "    return order"
   ]
  },
  {
   "cell_type": "code",
   "execution_count": null,
   "id": "e12b74f2",
   "metadata": {},
   "outputs": [],
   "source": [
    "get_orders(endpoint, path, api_keys[\"apiKey\"], api_keys[\"secret\"])"
   ]
  },
  {
   "cell_type": "code",
   "execution_count": null,
   "id": "4891988a",
   "metadata": {},
   "outputs": [],
   "source": [
    "post_order(endpoint, path, api_keys[\"apiKey\"], api_keys[\"secret\"])"
   ]
  },
  {
   "cell_type": "markdown",
   "id": "652c8c6d",
   "metadata": {},
   "source": [
    "After posting the order one can check https://sandbox.talostrading.com/ to see how it is gradually being filled."
   ]
  },
  {
   "cell_type": "markdown",
   "id": "c25b763e",
   "metadata": {},
   "source": [
    "Interesting note: TWAP really decreases the number of paid fees.\n",
    "In comparison, the fees for a standard order (Limit) is 7.75 from an execution price 38773.97 (so, 0,02%), while TWAP order costs only 5.19 from an execution price 38737.24 (so, 0,014%)."
   ]
  },
  {
   "cell_type": "markdown",
   "id": "24df43af",
   "metadata": {},
   "source": [
    "## Expeiment with get_fills() method"
   ]
  },
  {
   "cell_type": "code",
   "execution_count": null,
   "id": "ecba24e9",
   "metadata": {},
   "outputs": [],
   "source": [
    "# Specify the order.\n",
    "OrderID = \"f378848a-27e2-4230-97d9-1cd94316e42e\""
   ]
  },
  {
   "cell_type": "code",
   "execution_count": null,
   "id": "f16a35b1",
   "metadata": {},
   "outputs": [],
   "source": [
    "def get_fills(order_id: str):\n",
    "    \"\"\"\n",
    "    Get fill status from unique order.\n",
    "    \"\"\"\n",
    "    # Imitation of script input parameters.\n",
    "    # Common elements of both GET and POST requests.\n",
    "    api_keys = get_talos_api_keys()\n",
    "    endpoint = \"tal-87.sandbox.talostrading.com\"  # our sandbox endpoint\n",
    "    path = \"/v1/orders\"  # path for all data related to placin orders\n",
    "    utc_datetime = datetime.datetime.utcnow().strftime(\n",
    "        \"%Y-%m-%dT%H:%M:%S.000000Z\"\n",
    "    )\n",
    "    parts = [\n",
    "        \"GET\",\n",
    "        utc_datetime,\n",
    "        endpoint,\n",
    "        f\"{path}/{order_id}\",\n",
    "    ]\n",
    "    signature = calculate_signature(api_keys[\"secret\"], parts)\n",
    "    headers = {\n",
    "        \"TALOS-KEY\": api_keys[\"apiKey\"],\n",
    "        \"TALOS-SIGN\": signature,\n",
    "        \"TALOS-TS\": utc_datetime,\n",
    "    }\n",
    "    # Create a GET request.\n",
    "    url = f\"https://{endpoint}{path}/{order_id}\"\n",
    "    r = requests.get(url=url, headers=headers)\n",
    "    body = r.json()\n",
    "    # Specify order information.\n",
    "    ord_summary = body[\"data\"]\n",
    "    # Save the general order status.\n",
    "    fills_general = ord_summary[0][\"OrdStatus\"]\n",
    "    # Save order status from markets where trade is executed.\n",
    "    fills_market = [\n",
    "        a for a in ord_summary[0][\"Markets\"] if \"OrdStatus\" in a.keys()\n",
    "    ]\n",
    "    return fills_general, fills_market"
   ]
  },
  {
   "cell_type": "code",
   "execution_count": null,
   "id": "6e633f1c",
   "metadata": {},
   "outputs": [],
   "source": [
    "fills_general, fills_market = get_fills(OrderID)\n",
    "print(fills_general)\n",
    "# See `OrdStatus` section to obtain `fill` status.\n",
    "fills_market"
   ]
  }
 ],
 "metadata": {
  "kernelspec": {
   "display_name": "Python 3 (ipykernel)",
   "language": "python",
   "name": "python3"
  },
  "language_info": {
   "codemirror_mode": {
    "name": "ipython",
    "version": 3
   },
   "file_extension": ".py",
   "mimetype": "text/x-python",
   "name": "python",
   "nbconvert_exporter": "python",
   "pygments_lexer": "ipython3"
  },
  "toc": {
   "base_numbering": 1,
   "nav_menu": {},
   "number_sections": true,
   "sideBar": true,
   "skip_h1_title": false,
   "title_cell": "Table of Contents",
   "title_sidebar": "Contents",
   "toc_cell": false,
   "toc_position": {},
   "toc_section_display": true,
   "toc_window_display": false
  }
 },
 "nbformat": 4,
 "nbformat_minor": 5
}
