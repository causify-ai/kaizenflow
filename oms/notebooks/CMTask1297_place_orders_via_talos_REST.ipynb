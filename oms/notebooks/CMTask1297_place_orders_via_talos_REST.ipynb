{
 "cells": [
  {
   "cell_type": "markdown",
   "id": "908fff1d",
   "metadata": {},
   "source": [
    "# Description"
   ]
  },
  {
   "cell_type": "markdown",
   "id": "c5a3c178",
   "metadata": {},
   "source": [
    "The notebook implements an interface proposal for placing orders via Talos API (REST).\n",
    "\n",
    "Example:\n",
    "https://github.com/talostrading/samples/blob/master/python/rfqsample/rfqsample/rest.py"
   ]
  },
  {
   "cell_type": "code",
   "execution_count": null,
   "id": "4da7cfd8",
   "metadata": {},
   "outputs": [],
   "source": [
    "%load_ext autoreload\n",
    "%autoreload 2\n",
    "\n",
    "import base64\n",
    "import hashlib\n",
    "import hmac\n",
    "import logging\n",
    "\n",
    "import pandas as pd\n",
    "import requests\n",
    "\n",
    "import helpers.hdatetime as hdateti\n",
    "import helpers.hdbg as hdbg\n",
    "import helpers.hprint as hprint\n",
    "import helpers.hsql as hsql\n",
    "import im_v2.im_lib_tasks as imvimlita"
   ]
  },
  {
   "cell_type": "code",
   "execution_count": null,
   "id": "c8bc9f7f",
   "metadata": {},
   "outputs": [],
   "source": [
    "hdbg.init_logger(verbosity=logging.DEBUG)\n",
    "\n",
    "_LOG = logging.getLogger(__name__)\n",
    "\n",
    "hprint.config_notebook()"
   ]
  },
  {
   "cell_type": "markdown",
   "id": "f4fd0c9b",
   "metadata": {},
   "source": [
    "## Functions"
   ]
  },
  {
   "cell_type": "code",
   "execution_count": null,
   "id": "28df68f4",
   "metadata": {},
   "outputs": [],
   "source": [
    "def calculate_signature(api_secret, parts):\n",
    "    \"\"\"\n",
    "    A signature required for some types of GET and POST requests.\n",
    "\n",
    "    Not required for historical data.\n",
    "    \"\"\"\n",
    "    payload = \"\\n\".join(parts)\n",
    "    hash = hmac.new(\n",
    "        api_secret.encode(\"ascii\"), payload.encode(\"ascii\"), hashlib.sha256\n",
    "    )\n",
    "    hash.hexdigest()\n",
    "    signature = base64.urlsafe_b64encode(hash.digest()).decode()\n",
    "    return signature"
   ]
  },
  {
   "cell_type": "code",
   "execution_count": null,
   "id": "93131b24",
   "metadata": {},
   "outputs": [],
   "source": []
  }
 ],
 "metadata": {
  "kernelspec": {
   "display_name": "Python 3 (ipykernel)",
   "language": "python",
   "name": "python3"
  },
  "language_info": {
   "codemirror_mode": {
    "name": "ipython",
    "version": 3
   },
   "file_extension": ".py",
   "mimetype": "text/x-python",
   "name": "python",
   "nbconvert_exporter": "python",
   "pygments_lexer": "ipython3"
  },
  "toc": {
   "base_numbering": 1,
   "nav_menu": {},
   "number_sections": true,
   "sideBar": true,
   "skip_h1_title": false,
   "title_cell": "Table of Contents",
   "title_sidebar": "Contents",
   "toc_cell": false,
   "toc_position": {},
   "toc_section_display": true,
   "toc_window_display": false
  }
 },
 "nbformat": 4,
 "nbformat_minor": 5
}
