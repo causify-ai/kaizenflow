{
 "cells": [
  {
   "cell_type": "code",
   "execution_count": null,
   "id": "63a296a9",
   "metadata": {},
   "outputs": [],
   "source": [
    "%load_ext autoreload\n",
    "%autoreload 2\n",
    "%matplotlib inline\n",
    "\n",
    "import logging\n",
    "\n",
    "import pandas as pd\n",
    "\n",
    "import core.config as cconfig\n",
    "import core.plotting as coplotti\n",
    "import dataflow.model as dtfmod\n",
    "import helpers.hdbg as hdbg\n",
    "import helpers.henv as henv\n",
    "import helpers.hprint as hprint\n",
    "import oms as oms"
   ]
  },
  {
   "cell_type": "code",
   "execution_count": null,
   "id": "3b017d81",
   "metadata": {},
   "outputs": [],
   "source": [
    "hdbg.init_logger(verbosity=logging.INFO)\n",
    "\n",
    "_LOG = logging.getLogger(__name__)\n",
    "\n",
    "_LOG.info(\"%s\", henv.get_system_signature()[0])\n",
    "\n",
    "hprint.config_notebook()"
   ]
  },
  {
   "cell_type": "code",
   "execution_count": null,
   "id": "5bec00cb",
   "metadata": {},
   "outputs": [],
   "source": [
    "import oms\n",
    "\n",
    "#log_dir = \"/app/process_forecasts/2022-07-22/portfolio\"\n",
    "log_dir = \"/app/simulation/2022-07-22/portfolio\"\n",
    "portfolio_df, stats_df = oms.Portfolio.read_state(log_dir)"
   ]
  },
  {
   "cell_type": "code",
   "execution_count": null,
   "id": "6294faaf",
   "metadata": {},
   "outputs": [],
   "source": [
    "#portfolio_df.columns\n",
    "\n",
    "stats_df"
   ]
  },
  {
   "cell_type": "code",
   "execution_count": null,
   "id": "4fc9932a",
   "metadata": {},
   "outputs": [],
   "source": [
    "log_dir = \"/cache/production/process_forecast.20220725/process_forecasts/2022-07-22/portfolio\"\n",
    "portfolio_df2, stats_df2 = oms.Portfolio.read_state(log_dir)"
   ]
  },
  {
   "cell_type": "code",
   "execution_count": null,
   "id": "fa5de24e",
   "metadata": {},
   "outputs": [],
   "source": [
    "stats_df2"
   ]
  },
  {
   "cell_type": "code",
   "execution_count": null,
   "id": "d149d2c4",
   "metadata": {},
   "outputs": [],
   "source": [
    "stats_df[\"pnl\"].plot()\n",
    "stats_df2[\"pnl\"].plot()"
   ]
  },
  {
   "cell_type": "code",
   "execution_count": null,
   "id": "5173e473",
   "metadata": {},
   "outputs": [],
   "source": [
    "sta"
   ]
  },
  {
   "cell_type": "code",
   "execution_count": null,
   "id": "b914ed55",
   "metadata": {},
   "outputs": [],
   "source": [
    "time = \"121500\"\n",
    "sim_dir = \"/app/process_forecasts/2022-07-20/\"\n",
    "sim_file = f\"/app/process_forecasts/2022-07-20/evaluate_forecasts/prediction/20220714_{time}.csv\"\n",
    "    \n",
    "prod_dir = \"/app/prod_execution/20220714/\"\n",
    "\n",
    "# prod_execution/20220714/process_forecasts/2022-07-14/evaluate_forecasts/prediction/20220714_113000.csv\n",
    "prod_file = f\"/app/prod_execution/20220714/process_forecasts/2022-07-14/evaluate_forecasts/prediction/20220714_{time}.csv\""
   ]
  },
  {
   "cell_type": "code",
   "execution_count": null,
   "id": "6024a078",
   "metadata": {},
   "outputs": [],
   "source": [
    "sim_df = pd.read_csv(sim_file, index_col=0)\n",
    "sim_df.index = pd.to_datetime(sim_df.index)\n",
    "display(sim_df.head())\n",
    "\n",
    "prod_df = pd.read_csv(prod_file, index_col=0)\n",
    "prod_df.index = pd.to_datetime(prod_df.index)\n",
    "display(prod_df.head())"
   ]
  },
  {
   "cell_type": "code",
   "execution_count": null,
   "id": "5e037031",
   "metadata": {},
   "outputs": [],
   "source": [
    "date = \"2022-07-14\"\n",
    "start_timestamp = pd.Timestamp(date + \" 09:30:00\", tz=\"America/New_York\")\n",
    "end_timestamp = pd.Timestamp(date + \" 16:00:00\", tz=\"America/New_York\")"
   ]
  },
  {
   "cell_type": "code",
   "execution_count": null,
   "id": "08a51154",
   "metadata": {},
   "outputs": [],
   "source": [
    "sim_df = sim_df[start_timestamp:end_timestamp]\n",
    "prod_df = prod_df[start_timestamp:end_timestamp]\n",
    "#prod_df.dropna()"
   ]
  },
  {
   "cell_type": "code",
   "execution_count": null,
   "id": "338fc25d",
   "metadata": {},
   "outputs": [],
   "source": [
    "sim_df.tail()"
   ]
  },
  {
   "cell_type": "code",
   "execution_count": null,
   "id": "25ae5261",
   "metadata": {},
   "outputs": [],
   "source": [
    "prod_df.tail()"
   ]
  },
  {
   "cell_type": "code",
   "execution_count": null,
   "id": "0f2d4edd",
   "metadata": {},
   "outputs": [],
   "source": [
    "sim_df == prod_df"
   ]
  }
 ],
 "metadata": {
  "kernelspec": {
   "display_name": "Python 3 (ipykernel)",
   "language": "python",
   "name": "python3"
  },
  "language_info": {
   "codemirror_mode": {
    "name": "ipython",
    "version": 3
   },
   "file_extension": ".py",
   "mimetype": "text/x-python",
   "name": "python",
   "nbconvert_exporter": "python",
   "pygments_lexer": "ipython3"
  },
  "toc": {
   "base_numbering": 1,
   "nav_menu": {},
   "number_sections": true,
   "sideBar": true,
   "skip_h1_title": false,
   "title_cell": "Table of Contents",
   "title_sidebar": "Contents",
   "toc_cell": false,
   "toc_position": {},
   "toc_section_display": true,
   "toc_window_display": false
  }
 },
 "nbformat": 4,
 "nbformat_minor": 5
}
