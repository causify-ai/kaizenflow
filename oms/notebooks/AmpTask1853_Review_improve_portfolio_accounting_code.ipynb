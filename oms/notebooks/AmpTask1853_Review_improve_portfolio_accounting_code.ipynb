{
 "cells": [
  {
   "cell_type": "code",
   "execution_count": null,
   "id": "13c05919",
   "metadata": {},
   "outputs": [],
   "source": [
    "%load_ext autoreload\n",
    "%autoreload 2\n",
    "\n",
    "import logging\n",
    "\n",
    "import numpy as np\n",
    "import pandas as pd\n",
    "\n",
    "import core.config as cconfig\n",
    "import core.dataflow.price_interface as cdtfprint\n",
    "import helpers.dbg as hdbg\n",
    "import helpers.printing as hprintin\n",
    "import oms.portfolio as opor\n",
    "import oms.test.test_portfolio as ottport"
   ]
  },
  {
   "cell_type": "code",
   "execution_count": null,
   "id": "b905be0b",
   "metadata": {},
   "outputs": [],
   "source": [
    "# hdbg.init_logger(verbosity=logging.INFO)\n",
    "hdbg.init_logger(verbosity=logging.DEBUG)\n",
    "\n",
    "_LOG = logging.getLogger(__name__)\n",
    "\n",
    "# _LOG.info(\"%s\", env.get_system_signature()[0])\n",
    "\n",
    "hprintin.config_notebook()"
   ]
  },
  {
   "cell_type": "markdown",
   "id": "ae017dba",
   "metadata": {},
   "source": [
    "# Section 1"
   ]
  },
  {
   "cell_type": "code",
   "execution_count": null,
   "id": "1c0801de",
   "metadata": {},
   "outputs": [],
   "source": [
    "event_loop = None\n",
    "price_interface = ottport.get_replayed_time_price_interface_example2(event_loop)"
   ]
  },
  {
   "cell_type": "code",
   "execution_count": null,
   "id": "373a6d3b",
   "metadata": {},
   "outputs": [],
   "source": [
    "initial_timestamp = pd.Timestamp(\"2000-01-01 09:35:00-05:00\")\n",
    "portfolio = ottport.get_portfolio_example1(price_interface, initial_timestamp)"
   ]
  },
  {
   "cell_type": "code",
   "execution_count": null,
   "id": "5e8604b0",
   "metadata": {},
   "outputs": [],
   "source": [
    "str(portfolio)"
   ]
  },
  {
   "cell_type": "code",
   "execution_count": null,
   "id": "3bee9c77",
   "metadata": {},
   "outputs": [],
   "source": [
    "portfolio.holdings"
   ]
  },
  {
   "cell_type": "code",
   "execution_count": null,
   "id": "6f5d0ced",
   "metadata": {},
   "outputs": [],
   "source": [
    "portfolio.get_holdings(initial_timestamp, asset_id=-1, exclude_cash=True)"
   ]
  },
  {
   "cell_type": "code",
   "execution_count": null,
   "id": "529db030",
   "metadata": {},
   "outputs": [],
   "source": [
    "portfolio.get_holdings_as_scalar(pd.Timestamp(\"2000-01-01 09:35:00-05:00\"), 0)"
   ]
  },
  {
   "cell_type": "code",
   "execution_count": null,
   "id": "9ab83e50",
   "metadata": {},
   "outputs": [],
   "source": [
    "srs = portfolio.get_characteristics(initial_timestamp)\n",
    "display(srs)"
   ]
  },
  {
   "cell_type": "code",
   "execution_count": null,
   "id": "fe74c3da",
   "metadata": {},
   "outputs": [],
   "source": [
    "portfolio.orders"
   ]
  },
  {
   "cell_type": "code",
   "execution_count": null,
   "id": "75d0964b",
   "metadata": {},
   "outputs": [],
   "source": [
    "portfolio.get_net_wealth(initial_timestamp)"
   ]
  },
  {
   "cell_type": "code",
   "execution_count": null,
   "id": "2f4fdd0f",
   "metadata": {},
   "outputs": [],
   "source": []
  }
 ],
 "metadata": {
  "jupytext": {
   "text_representation": {
    "extension": ".py",
    "format_name": "percent",
    "format_version": "1.3",
    "jupytext_version": "1.13.0"
   }
  },
  "kernelspec": {
   "display_name": "Python 3 (ipykernel)",
   "language": "python",
   "name": "python3"
  },
  "language_info": {
   "codemirror_mode": {
    "name": "ipython",
    "version": 3
   },
   "file_extension": ".py",
   "mimetype": "text/x-python",
   "name": "python",
   "nbconvert_exporter": "python",
   "pygments_lexer": "ipython3"
  },
  "toc": {
   "base_numbering": 1,
   "nav_menu": {},
   "number_sections": true,
   "sideBar": true,
   "skip_h1_title": false,
   "title_cell": "Table of Contents",
   "title_sidebar": "Contents",
   "toc_cell": false,
   "toc_position": {},
   "toc_section_display": true,
   "toc_window_display": false
  }
 },
 "nbformat": 4,
 "nbformat_minor": 5
}
