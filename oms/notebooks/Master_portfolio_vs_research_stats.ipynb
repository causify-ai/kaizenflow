{
 "cells": [
  {
   "cell_type": "markdown",
   "id": "d13a6f47",
   "metadata": {},
   "source": [
    "Compare\n",
    "- ForecastEvaluator output (research pnl)\n",
    "- a Portfolio\n",
    "\n",
    "It can be used:\n",
    "- In the daily reconciliation flow to compare\n",
    "    - ForecastEvaluator coming from a simulation\n",
    "    - portfolio comes from a production system"
   ]
  },
  {
   "cell_type": "code",
   "execution_count": null,
   "id": "63a296a9",
   "metadata": {
    "run_control": {
     "marked": true
    }
   },
   "outputs": [],
   "source": [
    "%load_ext autoreload\n",
    "%autoreload 2\n",
    "%matplotlib inline\n",
    "\n",
    "import logging\n",
    "import os\n",
    "\n",
    "import pandas as pd\n",
    "\n",
    "import core.config as cconfig\n",
    "import core.plotting as coplotti\n",
    "import dataflow.model as dtfmod\n",
    "import helpers.hdbg as hdbg\n",
    "import helpers.henv as henv\n",
    "import helpers.hprint as hprint\n",
    "import oms as oms"
   ]
  },
  {
   "cell_type": "code",
   "execution_count": null,
   "id": "3b017d81",
   "metadata": {
    "run_control": {
     "marked": true
    }
   },
   "outputs": [],
   "source": [
    "hdbg.init_logger(verbosity=logging.INFO)\n",
    "\n",
    "_LOG = logging.getLogger(__name__)\n",
    "\n",
    "_LOG.info(\"%s\", henv.get_system_signature()[0])\n",
    "\n",
    "hprint.config_notebook()"
   ]
  },
  {
   "cell_type": "code",
   "execution_count": null,
   "id": "e08a0c18",
   "metadata": {},
   "outputs": [],
   "source": [
    "sim_dir = \"/app/system_log_dir/forecast_evaluator\"\n",
    "# find /share/data/cf_production/CF_2022_08_29 -name \"cf_prod_system_log_dir\"\n",
    "# prod_dir = \"/data/cf_production/CF_2022_08_15/job-sasm_job-jobid-1002348952/user_executable_run_0-1000005033091/cf_prod_system_log_dir\"\n",
    "# prod_dir = \"/data/cf_production/CF_2022_08_31/job-sasm_job-jobid-1002388639/user_executable_run_0-1000005219664/cf_prod_system_log_dir\"\n",
    "prod_dir = \"/data/cf_production/CF_2022_08_29/job-sasm_job-jobid-1002385185/user_executable_run_0-1000005209955/cf_prod_system_log_dir\"\n",
    "prod_dir = os.path.join(prod_dir, \"process_forecasts/portfolio\")\n",
    "\n",
    "# Simulation data.\n",
    "print(\"# sim_dir\")\n",
    "hdbg.dassert_dir_exists(sim_dir)\n",
    "!ls {sim_dir}\n",
    "\n",
    "# Production data.\n",
    "print(\"# prod_dir\")\n",
    "hdbg.dassert_dir_exists(prod_dir)\n",
    "!ls {prod_dir}"
   ]
  },
  {
   "cell_type": "code",
   "execution_count": null,
   "id": "1250080e",
   "metadata": {},
   "outputs": [],
   "source": [
    "date = \"2022-08-29\"\n",
    "start_timestamp = pd.Timestamp(date + \" 09:30:00\", tz=\"America/New_York\")\n",
    "end_timestamp = pd.Timestamp(date + \" 16:00:00\", tz=\"America/New_York\")"
   ]
  },
  {
   "cell_type": "code",
   "execution_count": null,
   "id": "ee2fc68a",
   "metadata": {},
   "outputs": [],
   "source": [
    "# hdbg.dassert_dir_exists(root_dir)\n",
    "dict_ = {\n",
    "    \"portfolio_data_dir\": prod_dir,\n",
    "    \"research_data_dir\": sim_dir,\n",
    "    \"freq\": \"15T\",\n",
    "    \"portfolio_file_name\": None,\n",
    "    \"research_file_name\": None,\n",
    "    \"start_timestamp\": start_timestamp,\n",
    "    \"end_timestamp\": end_timestamp,\n",
    "}\n",
    "hdbg.dassert_dir_exists(dict_[\"portfolio_data_dir\"])\n",
    "hdbg.dassert_dir_exists(dict_[\"research_data_dir\"])"
   ]
  },
  {
   "cell_type": "markdown",
   "id": "1eb95c0f",
   "metadata": {},
   "source": [
    "# Load Portfolio data"
   ]
  },
  {
   "cell_type": "code",
   "execution_count": null,
   "id": "dd834ff5",
   "metadata": {},
   "outputs": [],
   "source": [
    "config = cconfig.Config.from_dict(dict_)\n",
    "# config = cconfig.get_config_from_nested_dict(dict_)\n",
    "#\n",
    "start_timestamp = config[\"start_timestamp\"]\n",
    "end_timestamp = config[\"end_timestamp\"]\n",
    "\n",
    "# Load and time-localize Portfolio logged data.\n",
    "paper_df, paper_stats_df = oms.Portfolio.read_state(\n",
    "    config[\"portfolio_data_dir\"],\n",
    "    # file_name=config[\"portfolio_file_name\"],\n",
    ")\n",
    "paper_df = paper_df.loc[start_timestamp:end_timestamp]\n",
    "display(paper_df.head(3))\n",
    "\n",
    "paper_stats_df = paper_stats_df.loc[start_timestamp:end_timestamp]\n",
    "display(paper_stats_df.head(3))"
   ]
  },
  {
   "cell_type": "code",
   "execution_count": null,
   "id": "137a2899",
   "metadata": {},
   "outputs": [],
   "source": [
    "print(paper_df.index.min(), paper_df.index.max())\n",
    "display(paper_df.dropna().head(3))\n",
    "display(paper_df.dropna().tail(3))"
   ]
  },
  {
   "cell_type": "markdown",
   "id": "2cbaefef",
   "metadata": {},
   "source": [
    "# Load ForecastEvaluator data"
   ]
  },
  {
   "cell_type": "code",
   "execution_count": null,
   "id": "63211f30",
   "metadata": {},
   "outputs": [],
   "source": [
    "print(config[\"research_data_dir\"])\n",
    "!ls {config[\"research_data_dir\"]}"
   ]
  },
  {
   "cell_type": "code",
   "execution_count": null,
   "id": "f712aae9",
   "metadata": {},
   "outputs": [],
   "source": [
    "# Load and time localize ForecastEvaluator logged data.\n",
    "# (\n",
    "#     research_df,\n",
    "#     research_stats_df,\n",
    "# ) = dtfmod.ForecastEvaluatorFromReturns.read_portfolio(\n",
    "#     config[\"research_data_dir\"],\n",
    "#     file_name=config[\"research_file_name\"],\n",
    "# )\n",
    "\n",
    "(\n",
    "    research_df,\n",
    "    research_stats_df,\n",
    ") = dtfmod.ForecastEvaluatorFromPrices.read_portfolio(\n",
    "    config[\"research_data_dir\"],\n",
    "    # file_name=config[\"research_file_name\"],\n",
    ")"
   ]
  },
  {
   "cell_type": "code",
   "execution_count": null,
   "id": "141f6355",
   "metadata": {},
   "outputs": [],
   "source": [
    "print(research_df.index.min(), research_df.index.max())\n",
    "display(research_df.dropna().head(3))\n",
    "display(research_df.dropna().tail(3))"
   ]
  },
  {
   "cell_type": "code",
   "execution_count": null,
   "id": "36970c89",
   "metadata": {},
   "outputs": [],
   "source": [
    "# TODO(gp): @paul add assertion to make sure that there is overlap between research_df and paper_df"
   ]
  },
  {
   "cell_type": "markdown",
   "id": "149f4873",
   "metadata": {},
   "source": [
    "## Concat"
   ]
  },
  {
   "cell_type": "code",
   "execution_count": null,
   "id": "4aaf50ce",
   "metadata": {},
   "outputs": [],
   "source": [
    "# # Load and time-localize Portfolio logged data.\n",
    "# paper_df, paper_stats_df = oms.Portfolio.read_state(\n",
    "#     config[\"portfolio_data_dir\"],\n",
    "#     #file_name=config[\"portfolio_file_name\"],\n",
    "# )"
   ]
  },
  {
   "cell_type": "code",
   "execution_count": null,
   "id": "d60e9f42",
   "metadata": {},
   "outputs": [],
   "source": [
    "print(start_timestamp, end_timestamp)\n",
    "paper_df = paper_df.loc[start_timestamp:end_timestamp]\n",
    "paper_stats_df = paper_stats_df.loc[start_timestamp:end_timestamp]\n",
    "\n",
    "research_df = research_df.loc[start_timestamp:end_timestamp]\n",
    "research_stats_df = research_stats_df.loc[start_timestamp:end_timestamp]\n",
    "\n",
    "# TODO: Check overlap"
   ]
  },
  {
   "cell_type": "code",
   "execution_count": null,
   "id": "85a917b0",
   "metadata": {},
   "outputs": [],
   "source": [
    "print(research_df.columns.levels[0])\n",
    "\n",
    "# research_df[\"price\"]\n",
    "# research"
   ]
  },
  {
   "cell_type": "code",
   "execution_count": null,
   "id": "b6d575cc",
   "metadata": {},
   "outputs": [],
   "source": [
    "research_df[\"position\"]"
   ]
  },
  {
   "cell_type": "code",
   "execution_count": null,
   "id": "b54ee999",
   "metadata": {},
   "outputs": [],
   "source": [
    "# research_df"
   ]
  },
  {
   "cell_type": "code",
   "execution_count": null,
   "id": "3829bb7d",
   "metadata": {},
   "outputs": [],
   "source": [
    "research_stats_df"
   ]
  },
  {
   "cell_type": "code",
   "execution_count": null,
   "id": "222a758f",
   "metadata": {},
   "outputs": [],
   "source": [
    "def compute_delay(df: pd.DataFrame, freq: str) -> pd.Series:\n",
    "    diff = df.index - df.index.round(freq)\n",
    "    srs = pd.Series(\n",
    "        [\n",
    "            diff.mean(),\n",
    "            diff.std(),\n",
    "        ],\n",
    "        [\n",
    "            \"mean\",\n",
    "            \"stdev\",\n",
    "        ],\n",
    "        name=\"delay\",\n",
    "    )\n",
    "    return srs\n",
    "\n",
    "\n",
    "# Compute delay stats.\n",
    "delay_stats = compute_delay(paper_stats_df, config[\"freq\"])\n",
    "display(delay_stats)\n",
    "\n",
    "# Round paper_stats_df to bar\n",
    "paper_stats_df.index = paper_stats_df.index.round(config[\"freq\"])"
   ]
  },
  {
   "cell_type": "code",
   "execution_count": null,
   "id": "ca7ba714",
   "metadata": {},
   "outputs": [],
   "source": [
    "bar_stats_df = pd.concat(\n",
    "    [research_stats_df, paper_stats_df], axis=1, keys=[\"research\", \"paper\"]\n",
    ")\n",
    "display(bar_stats_df.tail(100))"
   ]
  },
  {
   "cell_type": "code",
   "execution_count": null,
   "id": "04daa86a",
   "metadata": {},
   "outputs": [],
   "source": [
    "stats_computer = dtfmod.StatsComputer()\n",
    "stats_sxs, _ = stats_computer.compute_portfolio_stats(\n",
    "    bar_stats_df, config[\"freq\"]\n",
    ")\n",
    "display(stats_sxs)"
   ]
  },
  {
   "cell_type": "code",
   "execution_count": null,
   "id": "77fcf952",
   "metadata": {},
   "outputs": [],
   "source": [
    "def per_asset_pnl_corr(\n",
    "    research_df: pd.DataFrame, paper_df: pd.DataFrame, freq: str\n",
    ") -> pd.Series:\n",
    "    research_pnl = research_df[\"pnl\"]\n",
    "    paper_pnl = paper_df[\"pnl\"]\n",
    "    corrs = {}\n",
    "    for asset_id in research_pnl.columns:\n",
    "        pnl1 = research_pnl[asset_id].resample(freq).sum(min_count=1)\n",
    "        pnl2 = paper_pnl[asset_id].resample(freq).sum(min_count=1)\n",
    "        corr = pnl1.corr(pnl2)\n",
    "        corrs[asset_id] = corr\n",
    "    corr_srs = pd.Series(corrs).rename(\"pnl_correlation\")\n",
    "    return corr_srs"
   ]
  },
  {
   "cell_type": "code",
   "execution_count": null,
   "id": "c76e8050",
   "metadata": {},
   "outputs": [],
   "source": [
    "# Display per-asset PnL correlations.\n",
    "pnl_corrs = per_asset_pnl_corr(research_df, paper_df, config[\"freq\"])\n",
    "pnl_corrs.hist(bins=101)"
   ]
  },
  {
   "cell_type": "code",
   "execution_count": null,
   "id": "4356d6ad",
   "metadata": {},
   "outputs": [],
   "source": [
    "pnl_corrs.sort_values().head()"
   ]
  },
  {
   "cell_type": "code",
   "execution_count": null,
   "id": "ffb8441d",
   "metadata": {},
   "outputs": [],
   "source": [
    "pnl = bar_stats_df.T.xs(\"pnl\", level=1).T\n",
    "display(pnl.head())"
   ]
  },
  {
   "cell_type": "code",
   "execution_count": null,
   "id": "f2449f1e",
   "metadata": {},
   "outputs": [],
   "source": [
    "# pnl.corr()\n",
    "pnl[2:].corr()"
   ]
  },
  {
   "cell_type": "code",
   "execution_count": null,
   "id": "31dcc81f",
   "metadata": {},
   "outputs": [],
   "source": [
    "coplotti.plot_portfolio_stats(bar_stats_df[2:])\n",
    "# coplotti.plot_portfolio_stats(bar_stats_df)"
   ]
  }
 ],
 "metadata": {
  "kernelspec": {
   "display_name": "Python 3 (ipykernel)",
   "language": "python",
   "name": "python3"
  },
  "language_info": {
   "codemirror_mode": {
    "name": "ipython",
    "version": 3
   },
   "file_extension": ".py",
   "mimetype": "text/x-python",
   "name": "python",
   "nbconvert_exporter": "python",
   "pygments_lexer": "ipython3"
  },
  "toc": {
   "base_numbering": 1,
   "nav_menu": {},
   "number_sections": true,
   "sideBar": true,
   "skip_h1_title": false,
   "title_cell": "Table of Contents",
   "title_sidebar": "Contents",
   "toc_cell": false,
   "toc_position": {
    "height": "calc(100% - 180px)",
    "left": "10px",
    "top": "150px",
    "width": "304.15px"
   },
   "toc_section_display": true,
   "toc_window_display": true
  }
 },
 "nbformat": 4,
 "nbformat_minor": 5
}
