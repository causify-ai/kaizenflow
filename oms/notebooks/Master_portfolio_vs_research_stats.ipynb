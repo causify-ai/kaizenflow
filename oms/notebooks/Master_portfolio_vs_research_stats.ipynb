{
 "cells": [
  {
   "cell_type": "markdown",
   "id": "5f27337c",
   "metadata": {},
   "source": [
    "Compare\n",
    "- ForecastEvaluator output (research pnl)\n",
    "- a Portfolio\n",
    "\n",
    "It can be used:\n",
    "- In the daily reconciliation flow to compare\n",
    "    - ForecastEvaluator coming from a simulation\n",
    "    - portfolio comes from a production system"
   ]
  },
  {
   "cell_type": "code",
   "execution_count": null,
   "id": "63a296a9",
   "metadata": {},
   "outputs": [],
   "source": [
    "%load_ext autoreload\n",
    "%autoreload 2\n",
    "%matplotlib inline\n",
    "\n",
    "import logging\n",
    "import os\n",
    "\n",
    "import pandas as pd\n",
    "\n",
    "import core.config as cconfig\n",
    "import core.plotting as coplotti\n",
    "import dataflow.model as dtfmod\n",
    "import helpers.hdbg as hdbg\n",
    "import helpers.henv as henv\n",
    "import helpers.hprint as hprint\n",
    "import oms as oms"
   ]
  },
  {
   "cell_type": "code",
   "execution_count": null,
   "id": "3b017d81",
   "metadata": {},
   "outputs": [],
   "source": [
    "hdbg.init_logger(verbosity=logging.INFO)\n",
    "\n",
    "_LOG = logging.getLogger(__name__)\n",
    "\n",
    "_LOG.info(\"%s\", henv.get_system_signature()[0])\n",
    "\n",
    "hprint.config_notebook()"
   ]
  },
  {
   "cell_type": "markdown",
   "id": "09d13444",
   "metadata": {},
   "source": [
    "# Configure dirs"
   ]
  },
  {
   "cell_type": "code",
   "execution_count": null,
   "id": "29c0b509",
   "metadata": {},
   "outputs": [],
   "source": [
    "sim_dir = \"../../../system_log_dir/forecast_evaluator\"\n",
    "#prod_dir = \"/data/cf_production/CF_2022_08_15/job-sasm_job-jobid-1002348952/user_executable_run_0-1000005033091/cf_prod_system_log_dir\"\n",
    "prod_dir = \"../../../system_log_dir.prod\"\n",
    "prod_dir = os.path.join(prod_dir, \"process_forecasts/portfolio\")\n",
    "\n",
    "# Simulation data.\n",
    "print(\"# sim_dir\")\n",
    "hdbg.dassert_dir_exists(sim_dir)\n",
    "!ls {sim_dir}\n",
    "\n",
    "# Production data.\n",
    "print(\"# prod_dir\")\n",
    "hdbg.dassert_dir_exists(prod_dir)\n",
    "!ls {prod_dir}"
   ]
  },
  {
   "cell_type": "code",
   "execution_count": null,
   "id": "1250080e",
   "metadata": {},
   "outputs": [],
   "source": [
    "date = \"2022-08-29\"\n",
    "start_timestamp = pd.Timestamp(date + \" 09:30:00\", tz=\"America/New_York\")\n",
    "end_timestamp = pd.Timestamp(date + \" 20:00:00\", tz=\"America/New_York\")"
   ]
  },
  {
   "cell_type": "code",
   "execution_count": null,
   "id": "ee2fc68a",
   "metadata": {},
   "outputs": [],
   "source": [
    "dict_ = {\n",
    "    \"portfolio_data_dir\": prod_dir,\n",
    "    \"research_data_dir\": sim_dir,\n",
    "    #\"freq\": \"15T\",\n",
    "    \"freq\": \"5T\",\n",
    "    \"portfolio_file_name\": None,\n",
    "    \"research_file_name\": None,\n",
    "    \"start_timestamp\": start_timestamp,\n",
    "    \"end_timestamp\": end_timestamp,\n",
    "}\n",
    "hdbg.dassert_dir_exists(dict_[\"portfolio_data_dir\"])\n",
    "hdbg.dassert_dir_exists(dict_[\"research_data_dir\"])"
   ]
  },
  {
   "cell_type": "markdown",
   "id": "88ff4f18",
   "metadata": {},
   "source": [
    "# Load Portfolio data"
   ]
  },
  {
   "cell_type": "code",
   "execution_count": null,
   "id": "dd834ff5",
   "metadata": {},
   "outputs": [],
   "source": [
    "config = cconfig.Config.from_dict(dict_)\n",
    "#\n",
    "start_timestamp = config[\"start_timestamp\"]\n",
    "end_timestamp = config[\"end_timestamp\"]\n",
    "\n",
    "# Load and time-localize Portfolio logged data.\n",
    "paper_df, paper_stats_df = oms.Portfolio.read_state(\n",
    "    config[\"portfolio_data_dir\"],\n",
    "    #file_name=config[\"portfolio_file_name\"],\n",
    ")\n",
    "paper_df = paper_df.loc[start_timestamp:end_timestamp]\n",
    "display(paper_df.head(3))\n",
    "\n",
    "paper_stats_df = paper_stats_df.loc[start_timestamp:end_timestamp]\n",
    "display(paper_stats_df.head(3))"
   ]
  },
  {
   "cell_type": "markdown",
   "id": "8eee8fe1",
   "metadata": {},
   "source": [
    "# Load ForecastEvaluator data"
   ]
  },
  {
   "cell_type": "code",
   "execution_count": null,
   "id": "460dbf6f",
   "metadata": {},
   "outputs": [],
   "source": [
    "print(config[\"research_data_dir\"])\n",
    "!ls {config[\"research_data_dir\"]}"
   ]
  },
  {
   "cell_type": "code",
   "execution_count": null,
   "id": "f712aae9",
   "metadata": {},
   "outputs": [],
   "source": [
    "# Load and time localize ForecastEvaluator logged data.\n",
    "# (\n",
    "#     research_df,\n",
    "#     research_stats_df,\n",
    "# ) = dtfmod.ForecastEvaluatorFromReturns.read_portfolio(\n",
    "#     config[\"research_data_dir\"],\n",
    "#     file_name=config[\"research_file_name\"],\n",
    "# )\n",
    "\n",
    "(\n",
    "    research_df,\n",
    "    research_stats_df,\n",
    ") = dtfmod.ForecastEvaluatorFromPrices.read_portfolio(\n",
    "    config[\"research_data_dir\"],\n",
    "    #file_name=config[\"research_file_name\"],\n",
    ")"
   ]
  },
  {
   "cell_type": "code",
   "execution_count": null,
   "id": "4aaf50ce",
   "metadata": {},
   "outputs": [],
   "source": [
    "# Load and time-localize Portfolio logged data.\n",
    "paper_df, paper_stats_df = oms.Portfolio.read_state(\n",
    "    config[\"portfolio_data_dir\"],\n",
    "    #file_name=config[\"portfolio_file_name\"],\n",
    ")"
   ]
  },
  {
   "cell_type": "code",
   "execution_count": null,
   "id": "7a56dbf4",
   "metadata": {},
   "outputs": [],
   "source": [
    "import oms.process_forecasts_ as oprofore\n",
    "log_dir = \"/app/system_log_dir.prod/process_forecasts\"\n",
    "paper_target_positions_df = oprofore.ForecastProcessor.read_logged_target_positions(log_dir)\n",
    "paper_target_positions_df.head(3)"
   ]
  },
  {
   "cell_type": "code",
   "execution_count": null,
   "id": "1a838746",
   "metadata": {},
   "outputs": [],
   "source": [
    "paper_df.head(3)"
   ]
  },
  {
   "cell_type": "code",
   "execution_count": null,
   "id": "ae8bfb7c",
   "metadata": {},
   "outputs": [],
   "source": [
    "paper_stats_df.head(3)"
   ]
  },
  {
   "cell_type": "markdown",
   "id": "3ceedc15",
   "metadata": {},
   "source": [
    "# Align data"
   ]
  },
  {
   "cell_type": "code",
   "execution_count": null,
   "id": "b0b25098",
   "metadata": {},
   "outputs": [],
   "source": [
    "print(start_timestamp, end_timestamp)\n",
    "paper_df = paper_df.loc[start_timestamp:end_timestamp]\n",
    "paper_stats_df = paper_stats_df.loc[start_timestamp:end_timestamp]"
   ]
  },
  {
   "cell_type": "code",
   "execution_count": null,
   "id": "326f140b",
   "metadata": {},
   "outputs": [],
   "source": [
    "paper_df.head(3)"
   ]
  },
  {
   "cell_type": "code",
   "execution_count": null,
   "id": "3829bb7d",
   "metadata": {},
   "outputs": [],
   "source": [
    "research_df.head(3)"
   ]
  },
  {
   "cell_type": "markdown",
   "id": "1796a5f9",
   "metadata": {},
   "source": [
    "## Universe comparison"
   ]
  },
  {
   "cell_type": "markdown",
   "id": "a41ed961",
   "metadata": {},
   "source": [
    "## Compare forecasts"
   ]
  },
  {
   "cell_type": "code",
   "execution_count": null,
   "id": "85a917b0",
   "metadata": {},
   "outputs": [],
   "source": [
    "#print(paper_df.columns.levels[0])\n",
    "print(paper_target_positions_df.columns.levels[0])\n",
    "print(research_df.columns.levels[0])\n",
    "\n",
    "#research_df[\"price\"]\n",
    "#research"
   ]
  },
  {
   "cell_type": "code",
   "execution_count": null,
   "id": "0b8b8f1d",
   "metadata": {},
   "outputs": [],
   "source": [
    "paper_target_positions_df[\"prediction\"].dropna()"
   ]
  },
  {
   "cell_type": "code",
   "execution_count": null,
   "id": "b5df557a",
   "metadata": {},
   "outputs": [],
   "source": [
    "research_df[\"prediction\"].dropna()"
   ]
  },
  {
   "cell_type": "code",
   "execution_count": null,
   "id": "ac6f6918",
   "metadata": {},
   "outputs": [],
   "source": [
    "display(paper_target_positions_df[\"prediction\"].head(3))\n",
    "display(research_df[\"prediction\"].head(3))"
   ]
  },
  {
   "cell_type": "code",
   "execution_count": null,
   "id": "8aeef792",
   "metadata": {},
   "outputs": [],
   "source": [
    "#asset_id = 1467591036\n",
    "asset_id = 1467591036"
   ]
  },
  {
   "cell_type": "code",
   "execution_count": null,
   "id": "8c853607",
   "metadata": {},
   "outputs": [],
   "source": [
    "#print(paper_target_positions_df[\"prediction\"][asset_id].index)\n",
    "#print(research_df[\"prediction\"][asset_id].index)"
   ]
  },
  {
   "cell_type": "code",
   "execution_count": null,
   "id": "db377db6",
   "metadata": {},
   "outputs": [],
   "source": [
    "#research_df[\"prediction\"][asset_id].index = research_df[\"prediction\"][asset_id].index.snap(\"5T\")\n",
    "#paper_target_positions_df[\"prediction\"][asset_id].index = \n",
    "paper_target_positions_df.index = [dt.round(\"5T\") for dt in paper_target_positions_df[\"prediction\"][asset_id].index]"
   ]
  },
  {
   "cell_type": "code",
   "execution_count": null,
   "id": "105f4eb3",
   "metadata": {},
   "outputs": [],
   "source": [
    "paper_target_positions_df[\"prediction\"][asset_id].dropna()"
   ]
  },
  {
   "cell_type": "code",
   "execution_count": null,
   "id": "db24902c",
   "metadata": {},
   "outputs": [],
   "source": [
    "#asset_id = 1467591036\n",
    "asset_id = 1467591036\n",
    "prediction_df = pd.merge(paper_target_positions_df[\"prediction\"][asset_id],\n",
    "                         research_df[\"prediction\"][asset_id],\n",
    "                         left_index=True, right_index=True, how=\"outer\")\n",
    "\n",
    "# prediction_df\n",
    "prediction_df.dropna()\n",
    "\n",
    "#display(prediction_df.dropna())"
   ]
  },
  {
   "cell_type": "code",
   "execution_count": null,
   "id": "b6d575cc",
   "metadata": {},
   "outputs": [],
   "source": [
    "research_df[\"prediction\"]"
   ]
  },
  {
   "cell_type": "markdown",
   "id": "2d31fd66",
   "metadata": {},
   "source": [
    "## Prices"
   ]
  },
  {
   "cell_type": "code",
   "execution_count": null,
   "id": "a3c346d9",
   "metadata": {},
   "outputs": [],
   "source": [
    "research_df.columns.levels[0]"
   ]
  },
  {
   "cell_type": "code",
   "execution_count": null,
   "id": "89db6114",
   "metadata": {},
   "outputs": [],
   "source": [
    "paper_target_positions_df.columns.levels[0]"
   ]
  },
  {
   "cell_type": "code",
   "execution_count": null,
   "id": "85042f47",
   "metadata": {},
   "outputs": [],
   "source": [
    "target_col = \"price\"\n",
    "asset_id = 1467591036\n",
    "prediction_df = pd.merge(paper_target_positions_df[target_col][asset_id],\n",
    "                         research_df[target_col][asset_id],\n",
    "                         left_index=True, right_index=True, how=\"outer\")\n",
    "\n",
    "# prediction_df\n",
    "prediction_df[\"2022-08-29\"].plot()"
   ]
  },
  {
   "cell_type": "code",
   "execution_count": null,
   "id": "26b87a87",
   "metadata": {},
   "outputs": [],
   "source": [
    "prediction_df[\"2022-08-29\"].pct_change().dropna().plot()"
   ]
  },
  {
   "cell_type": "code",
   "execution_count": null,
   "id": "9bb53d64",
   "metadata": {},
   "outputs": [],
   "source": [
    "prediction_df[:\"2022-08-29 20:20:00-04:00\"].pct_change().dropna().corr()"
   ]
  },
  {
   "cell_type": "code",
   "execution_count": null,
   "id": "ee668a51",
   "metadata": {},
   "outputs": [],
   "source": [
    "research_df[\"holdings\"]"
   ]
  },
  {
   "cell_type": "markdown",
   "id": "f73c37ee",
   "metadata": {},
   "source": [
    "## Holdings"
   ]
  },
  {
   "cell_type": "code",
   "execution_count": null,
   "id": "6d8a64d8",
   "metadata": {},
   "outputs": [],
   "source": [
    "ts1 = \"2022-08-29 15:20:00-04:00\"\n",
    "ts2 = \"2022-08-29 20:20:00-04:00\""
   ]
  },
  {
   "cell_type": "code",
   "execution_count": null,
   "id": "cefdb699",
   "metadata": {},
   "outputs": [],
   "source": [
    "target_col1 = \"holdings\"\n",
    "target_col2 = \"curr_num_shares\"\n",
    "asset_id = 1467591036\n",
    "prediction_df = pd.merge(paper_target_positions_df[target_col2][asset_id],\n",
    "                         research_df[target_col1][asset_id],\n",
    "                         left_index=True, right_index=True, how=\"outer\")\n",
    "\n",
    "# prediction_df\n",
    "df = prediction_df[ts1:ts2]\n",
    "df /= prediction_df.dropna().iloc[-1]\n",
    "#df[\"1467591036_x\"] *= -1\n",
    "df.plot()"
   ]
  },
  {
   "cell_type": "code",
   "execution_count": null,
   "id": "f9d011c5",
   "metadata": {},
   "outputs": [],
   "source": [
    "df = prediction_df[ts1:ts2]\n",
    "df[\"1467591036_x\"] *= -1\n",
    "df.plot()"
   ]
  },
  {
   "cell_type": "markdown",
   "id": "3e311a8c",
   "metadata": {},
   "source": [
    "## Pnl"
   ]
  },
  {
   "cell_type": "code",
   "execution_count": null,
   "id": "b54ee999",
   "metadata": {},
   "outputs": [],
   "source": [
    "#research_df"
   ]
  },
  {
   "cell_type": "code",
   "execution_count": null,
   "id": "222a758f",
   "metadata": {},
   "outputs": [],
   "source": [
    "def compute_delay(df: pd.DataFrame, freq: str) -> pd.Series:\n",
    "    diff = df.index - df.index.round(freq)\n",
    "    srs = pd.Series(\n",
    "        [\n",
    "            diff.mean(),\n",
    "            diff.std(),\n",
    "        ],\n",
    "        [\n",
    "            \"mean\",\n",
    "            \"stdev\",\n",
    "        ],\n",
    "        name=\"delay\",\n",
    "    )\n",
    "    return srs\n",
    "\n",
    "\n",
    "# Compute delay stats.\n",
    "delay_stats = compute_delay(paper_stats_df, config[\"freq\"])\n",
    "display(delay_stats)\n",
    "\n",
    "# Round paper_stats_df to bar\n",
    "paper_stats_df.index = paper_stats_df.index.round(config[\"freq\"])"
   ]
  },
  {
   "cell_type": "code",
   "execution_count": null,
   "id": "7b36b5dd",
   "metadata": {},
   "outputs": [],
   "source": [
    "#research_stats_df\n",
    "paper_stats_df"
   ]
  },
  {
   "cell_type": "code",
   "execution_count": null,
   "id": "ca7ba714",
   "metadata": {},
   "outputs": [],
   "source": [
    "bar_stats_df = pd.concat(\n",
    "    [research_stats_df, paper_stats_df], axis=1, keys=[\"research\", \"paper\"]\n",
    ")\n",
    "#display(bar_stats_df.head(3))\n",
    "display(bar_stats_df.dropna().tail(3))"
   ]
  },
  {
   "cell_type": "code",
   "execution_count": null,
   "id": "e4c63d95",
   "metadata": {},
   "outputs": [],
   "source": [
    "df = bar_stats_df.dropna()[[(\"research\", \"pnl\"), (\"paper\", \"pnl\")]]#.plot()\n",
    "df[\"paper\", \"pnl\"] *= 20\n",
    "df.plot()"
   ]
  },
  {
   "cell_type": "code",
   "execution_count": null,
   "id": "04daa86a",
   "metadata": {},
   "outputs": [],
   "source": [
    "stats_computer = dtfmod.StatsComputer()\n",
    "stats_sxs, _ = stats_computer.compute_portfolio_stats(\n",
    "    bar_stats_df, config[\"freq\"]\n",
    ")\n",
    "display(stats_sxs)"
   ]
  },
  {
   "cell_type": "code",
   "execution_count": null,
   "id": "77fcf952",
   "metadata": {},
   "outputs": [],
   "source": [
    "def per_asset_pnl_corr(\n",
    "    research_df: pd.DataFrame, paper_df: pd.DataFrame, freq: str\n",
    ") -> pd.Series:\n",
    "    research_pnl = research_df[\"pnl\"]\n",
    "    paper_pnl = paper_df[\"pnl\"]\n",
    "    corrs = {}\n",
    "    for asset_id in research_pnl.columns:\n",
    "        pnl1 = research_pnl[asset_id].resample(freq).sum(min_count=1)\n",
    "        pnl2 = paper_pnl[asset_id].resample(freq).sum(min_count=1)\n",
    "        corr = pnl1.corr(pnl2)\n",
    "        corrs[asset_id] = corr\n",
    "    corr_srs = pd.Series(corrs).rename(\"pnl_correlation\")\n",
    "    return corr_srs"
   ]
  },
  {
   "cell_type": "code",
   "execution_count": null,
   "id": "c76e8050",
   "metadata": {},
   "outputs": [],
   "source": [
    "# Display per-asset PnL correlations.\n",
    "pnl_corrs = per_asset_pnl_corr(research_df, paper_df, config[\"freq\"])\n",
    "pnl_corrs.hist(bins=101)"
   ]
  },
  {
   "cell_type": "code",
   "execution_count": null,
   "id": "4356d6ad",
   "metadata": {},
   "outputs": [],
   "source": [
    "pnl_corrs.sort_values().head()"
   ]
  },
  {
   "cell_type": "code",
   "execution_count": null,
   "id": "ffb8441d",
   "metadata": {},
   "outputs": [],
   "source": [
    "pnl = bar_stats_df.T.xs(\"pnl\", level=1).T\n",
    "display(pnl.head())"
   ]
  },
  {
   "cell_type": "code",
   "execution_count": null,
   "id": "f2449f1e",
   "metadata": {},
   "outputs": [],
   "source": [
    "#pnl.corr()\n",
    "pnl[2:].corr()"
   ]
  },
  {
   "cell_type": "code",
   "execution_count": null,
   "id": "31dcc81f",
   "metadata": {},
   "outputs": [],
   "source": [
    "coplotti.plot_portfolio_stats(bar_stats_df[2:])\n",
    "#coplotti.plot_portfolio_stats(bar_stats_df)"
   ]
  }
 ],
 "metadata": {
  "kernelspec": {
   "display_name": "Python 3 (ipykernel)",
   "language": "python",
   "name": "python3"
  },
  "language_info": {
   "codemirror_mode": {
    "name": "ipython",
    "version": 3
   },
   "file_extension": ".py",
   "mimetype": "text/x-python",
   "name": "python",
   "nbconvert_exporter": "python",
   "pygments_lexer": "ipython3"
  },
  "toc": {
   "base_numbering": 1,
   "nav_menu": {},
   "number_sections": true,
   "sideBar": true,
   "skip_h1_title": false,
   "title_cell": "Table of Contents",
   "title_sidebar": "Contents",
   "toc_cell": false,
   "toc_position": {
    "height": "calc(100% - 180px)",
    "left": "10px",
    "top": "150px",
    "width": "165px"
   },
   "toc_section_display": true,
   "toc_window_display": true
  }
 },
 "nbformat": 4,
 "nbformat_minor": 5
}
