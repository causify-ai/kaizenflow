{
 "cells": [
  {
   "cell_type": "code",
   "execution_count": null,
   "id": "63a296a9",
   "metadata": {},
   "outputs": [],
   "source": [
    "%load_ext autoreload\n",
    "%autoreload 2\n",
    "%matplotlib inline\n",
    "\n",
    "import logging\n",
    "\n",
    "import pandas as pd\n",
    "\n",
    "import core.config as cconfig\n",
    "import core.plotting as coplotti\n",
    "import dataflow.model as dtfmod\n",
    "import helpers.hdbg as hdbg\n",
    "import helpers.henv as henv\n",
    "import helpers.hprint as hprint\n",
    "import oms as oms"
   ]
  },
  {
   "cell_type": "code",
   "execution_count": null,
   "id": "3b017d81",
   "metadata": {},
   "outputs": [],
   "source": [
    "hdbg.init_logger(verbosity=logging.INFO)\n",
    "\n",
    "_LOG = logging.getLogger(__name__)\n",
    "\n",
    "_LOG.info(\"%s\", henv.get_system_signature()[0])\n",
    "\n",
    "hprint.config_notebook()"
   ]
  },
  {
   "cell_type": "code",
   "execution_count": null,
   "id": "1250080e",
   "metadata": {},
   "outputs": [],
   "source": [
    "date = \"YYYY-MM-DD\"\n",
    "start_timestamp = pd.Timestamp(date + \" 09:30:00\", tz=\"America/New_York\")\n",
    "end_timestamp = pd.Timestamp(date + \" 16:00:00\", tz=\"America/New_York\")"
   ]
  },
  {
   "cell_type": "code",
   "execution_count": null,
   "id": "ee2fc68a",
   "metadata": {},
   "outputs": [],
   "source": [
    "dict_ = {\n",
    "    \"portfolio_data_dir\": f\"{date}/portfolio\",\n",
    "    \"research_data_dir\": f\"{date}/evaluate_forecasts\",\n",
    "    \"freq\": \"5T\",\n",
    "    \"portfolio_file_name\": None,\n",
    "    \"research_file_name\": None,\n",
    "    \"start_timestamp\": start_timestamp,\n",
    "    \"end_timestamp\": end_timestamp,\n",
    "}"
   ]
  },
  {
   "cell_type": "code",
   "execution_count": null,
   "id": "dd834ff5",
   "metadata": {},
   "outputs": [],
   "source": [
    "config = cconfig.get_config_from_nested_dict(dict_)\n",
    "#\n",
    "start_timestamp = config[\"start_timestamp\"]\n",
    "end_timestamp = config[\"end_timestamp\"]"
   ]
  },
  {
   "cell_type": "code",
   "execution_count": null,
   "id": "4aaf50ce",
   "metadata": {},
   "outputs": [],
   "source": [
    "# Load and time-localize Portfolio logged data.\n",
    "paper_df, paper_stats_df = oms.Portfolio.read_state(\n",
    "    config[\"portfolio_data_dir\"],\n",
    "    file_name=config[\"portfolio_file_name\"],\n",
    ")\n",
    "paper_df = paper_df.loc[start_timestamp:end_timestamp]\n",
    "paper_stats_df = paper_stats_df.loc[start_timestamp:end_timestamp]"
   ]
  },
  {
   "cell_type": "code",
   "execution_count": null,
   "id": "f712aae9",
   "metadata": {},
   "outputs": [],
   "source": [
    "# Load and time localize ForecastEvaluator logged data.\n",
    "research_df, research_stats_df = dtfmod.ForecastEvaluator.read_portfolio(\n",
    "    config[\"research_data_dir\"],\n",
    "    file_name=config[\"research_file_name\"],\n",
    ")\n",
    "research_df = research_df.loc[start_timestamp:end_timestamp]\n",
    "research_stats_df = research_stats_df.loc[start_timestamp:end_timestamp]"
   ]
  },
  {
   "cell_type": "code",
   "execution_count": null,
   "id": "222a758f",
   "metadata": {},
   "outputs": [],
   "source": [
    "def compute_delay(df: pd.DataFrame, freq: str) -> pd.Series:\n",
    "    diff = df.index - df.index.round(freq)\n",
    "    srs = pd.Series(\n",
    "        [\n",
    "            diff.mean(),\n",
    "            diff.std(),\n",
    "        ],\n",
    "        [\n",
    "            \"mean\",\n",
    "            \"stdev\",\n",
    "        ],\n",
    "        name=\"delay\",\n",
    "    )\n",
    "    return srs\n",
    "\n",
    "\n",
    "# Compute delay stats.\n",
    "delay_stats = compute_delay(paper_stats_df, config[\"freq\"])\n",
    "display(delay_stats)\n",
    "\n",
    "# Round paper_stats_df to bar\n",
    "paper_stats_df.index = paper_stats_df.index.round(config[\"freq\"])"
   ]
  },
  {
   "cell_type": "code",
   "execution_count": null,
   "id": "ca7ba714",
   "metadata": {},
   "outputs": [],
   "source": [
    "bar_stats_df = pd.concat(\n",
    "    [research_stats_df, paper_stats_df], axis=1, keys=[\"research\", \"paper\"]\n",
    ")\n",
    "display(bar_stats_df.head(3))"
   ]
  },
  {
   "cell_type": "code",
   "execution_count": null,
   "id": "04daa86a",
   "metadata": {},
   "outputs": [],
   "source": [
    "stats_computer = dtfmod.StatsComputer()\n",
    "stats_sxs, _ = stats_computer.compute_portfolio_stats(\n",
    "    bar_stats_df, config[\"freq\"]\n",
    ")\n",
    "display(stats_sxs)"
   ]
  },
  {
   "cell_type": "code",
   "execution_count": null,
   "id": "77fcf952",
   "metadata": {},
   "outputs": [],
   "source": [
    "def per_asset_pnl_corr(\n",
    "    research_df: pd.DataFrame, paper_df: pd.DataFrame, freq: str\n",
    ") -> pd.Series:\n",
    "    research_pnl = research_df[\"pnl\"]\n",
    "    paper_pnl = paper_df[\"pnl\"]\n",
    "    corrs = {}\n",
    "    for asset_id in research_pnl.columns:\n",
    "        pnl1 = research_pnl[asset_id].resample(freq).sum(min_count=1)\n",
    "        pnl2 = paper_pnl[asset_id].resample(freq).sum(min_count=1)\n",
    "        corr = pnl1.corr(pnl2)\n",
    "        corrs[asset_id] = corr\n",
    "    corr_srs = pd.Series(corrs).rename(\"pnl_correlation\")\n",
    "    return corr_srs"
   ]
  },
  {
   "cell_type": "code",
   "execution_count": null,
   "id": "c76e8050",
   "metadata": {},
   "outputs": [],
   "source": [
    "# Display per-asset PnL correlations.\n",
    "pnl_corrs = per_asset_pnl_corr(research_df, paper_df, config[\"freq\"])\n",
    "pnl_corrs.hist(bins=101)"
   ]
  },
  {
   "cell_type": "code",
   "execution_count": null,
   "id": "4356d6ad",
   "metadata": {},
   "outputs": [],
   "source": [
    "pnl_corrs.sort_values().head()"
   ]
  },
  {
   "cell_type": "code",
   "execution_count": null,
   "id": "ffb8441d",
   "metadata": {},
   "outputs": [],
   "source": [
    "pnl = bar_stats_df.T.xs(\"pnl\", level=1).T\n",
    "display(pnl.head())"
   ]
  },
  {
   "cell_type": "code",
   "execution_count": null,
   "id": "f2449f1e",
   "metadata": {},
   "outputs": [],
   "source": [
    "pnl.corr()"
   ]
  },
  {
   "cell_type": "code",
   "execution_count": null,
   "id": "31dcc81f",
   "metadata": {},
   "outputs": [],
   "source": [
    "coplotti.plot_portfolio_stats(bar_stats_df)"
   ]
  }
 ],
 "metadata": {
  "jupytext": {
   "text_representation": {
    "extension": ".py",
    "format_name": "percent",
    "format_version": "1.3",
    "jupytext_version": "1.13.3"
   }
  },
  "kernelspec": {
   "display_name": "Python 3 (ipykernel)",
   "language": "python",
   "name": "python3"
  },
  "language_info": {
   "codemirror_mode": {
    "name": "ipython",
    "version": 3
   },
   "file_extension": ".py",
   "mimetype": "text/x-python",
   "name": "python",
   "nbconvert_exporter": "python",
   "pygments_lexer": "ipython3"
  },
  "toc": {
   "base_numbering": 1,
   "nav_menu": {},
   "number_sections": true,
   "sideBar": true,
   "skip_h1_title": false,
   "title_cell": "Table of Contents",
   "title_sidebar": "Contents",
   "toc_cell": false,
   "toc_position": {},
   "toc_section_display": true,
   "toc_window_display": false
  }
 },
 "nbformat": 4,
 "nbformat_minor": 5
}
