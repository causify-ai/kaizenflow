{
 "cells": [
  {
   "cell_type": "markdown",
   "id": "77a1e7b5",
   "metadata": {},
   "source": [
    "# Description"
   ]
  },
  {
   "cell_type": "markdown",
   "id": "a888429b",
   "metadata": {},
   "source": [
    "The notebook stitches together portfolios for multiple daily prod system runs and plots the resulting PnL curves."
   ]
  },
  {
   "cell_type": "markdown",
   "id": "6d880d26",
   "metadata": {},
   "source": [
    "# Imports"
   ]
  },
  {
   "cell_type": "code",
   "execution_count": 5,
   "id": "cd4dc514",
   "metadata": {
    "ExecuteTime": {
     "end_time": "2023-10-12T15:21:57.812932Z",
     "start_time": "2023-10-12T15:21:57.201630Z"
    }
   },
   "outputs": [],
   "source": [
    "%load_ext autoreload\n",
    "%autoreload 2\n",
    "%matplotlib inline"
   ]
  },
  {
   "cell_type": "code",
   "execution_count": 6,
   "id": "582ffb6d",
   "metadata": {
    "ExecuteTime": {
     "end_time": "2023-10-12T15:22:01.970484Z",
     "start_time": "2023-10-12T15:21:57.996124Z"
    }
   },
   "outputs": [
    {
     "name": "stderr",
     "output_type": "stream",
     "text": [
      "/app/core/explore.py:39: TqdmExperimentalWarning: Using `tqdm.autonotebook.tqdm` in notebook mode. Use `tqdm.tqdm` instead to force console mode (e.g. in jupyter console)\n",
      "  import tqdm.autonotebook as tauton\n"
     ]
    }
   ],
   "source": [
    "import logging\n",
    "from typing import Any, Dict, Tuple\n",
    "\n",
    "import pandas as pd\n",
    "\n",
    "import core.config as cconfig\n",
    "import core.plotting as coplotti\n",
    "import dataflow.model as dtfmod\n",
    "import helpers.hdatetime as hdateti\n",
    "import helpers.hdbg as hdbg\n",
    "import helpers.henv as henv\n",
    "import helpers.hpandas as hpandas\n",
    "import helpers.hprint as hprint\n",
    "import oms.reconciliation as omreconc"
   ]
  },
  {
   "cell_type": "code",
   "execution_count": 7,
   "id": "f443668b",
   "metadata": {
    "ExecuteTime": {
     "end_time": "2023-10-12T15:22:02.213182Z",
     "start_time": "2023-10-12T15:22:01.972095Z"
    }
   },
   "outputs": [
    {
     "name": "stdout",
     "output_type": "stream",
     "text": [
      "\u001b[0m\u001b[36mINFO\u001b[0m: > cmd='/venv/lib/python3.9/site-packages/ipykernel_launcher.py -f /home/.local/share/jupyter/runtime/kernel-766c99b7-160d-4d53-bb1d-f60896c4b0e5.json'\n",
      "WARNING: Running in Jupyter\n",
      "(CVXPY) Oct 12 03:22:02 PM: Encountered unexpected exception importing solver GLPK:\n",
      "ImportError(\"cannot import name 'glpk' from 'cvxopt' (/venv/lib/python3.9/site-packages/cvxopt/__init__.py)\")\n",
      "(CVXPY) Oct 12 03:22:02 PM: Encountered unexpected exception importing solver GLPK_MI:\n",
      "ImportError(\"cannot import name 'glpk' from 'cvxopt' (/venv/lib/python3.9/site-packages/cvxopt/__init__.py)\")\n",
      "INFO  # Git\n",
      "  branch_name='SorrTask584_Use_str_to_timestamp_instead_of_timestamp_as_str_to_timestamp'\n",
      "  hash='4fff2e34d'\n",
      "  # Last commits:\n",
      "    * 4fff2e34d jainamp14 Replaced timestamp_as_str_to_timestamp() with str_to_timestamp()  (  22 hours ago) Wed Oct 11 17:00:51 2023  (HEAD -> SorrTask584_Use_str_to_timestamp_instead_of_timestamp_as_str_to_timestamp, origin/SorrTask584_Use_str_to_timestamp_instead_of_timestamp_as_str_to_timestamp)\n",
      "    * ada24fd2c Samarth KaPatel Issue25 team6 implement sandbox for bitquery and uniswap (#219)   (    2 days ago) Tue Oct 10 14:46:19 2023  (origin/master, origin/HEAD, switch, master)\n",
      "    * 005ae392f Samarth KaPatel SorrIssue23_Team4_Implement_sandbox_for_Blockchain (#217)         (    2 days ago) Tue Oct 10 14:39:48 2023           \n",
      "# Machine info\n",
      "  system=Linux\n",
      "  node name=1f9174b6034b\n",
      "  release=5.15.49-linuxkit-pr\n",
      "  version=#1 SMP PREEMPT Thu May 25 07:27:39 UTC 2023\n",
      "  machine=aarch64\n",
      "  processor=aarch64\n",
      "  cpu count=4\n",
      "  cpu freq=None\n",
      "  memory=svmem(total=8337600512, available=6694125568, percent=19.7, used=1145659392, free=5811236864, active=277925888, inactive=2007453696, buffers=34349056, cached=1346355200, shared=316272640, slab=101203968)\n",
      "  disk usage=sdiskusage(total=62671097856, used=17967734784, free=41486647296, percent=30.2)\n",
      "# Packages\n",
      "  python: 3.9.5\n",
      "  cvxopt: 1.3.2\n",
      "  cvxpy: 1.3.2\n",
      "  gluonnlp: ?\n",
      "  gluonts: ?\n",
      "  joblib: 1.3.2\n",
      "  mxnet: ?\n",
      "  numpy: 1.20.3\n",
      "  pandas: 1.5.1\n",
      "  pyarrow: 10.0.0\n",
      "  scipy: 1.10.1\n",
      "  seaborn: 0.12.2\n",
      "  sklearn: 1.3.0\n",
      "  statsmodels: 0.14.0\n"
     ]
    }
   ],
   "source": [
    "hdbg.init_logger(verbosity=logging.INFO)\n",
    "\n",
    "_LOG = logging.getLogger(__name__)\n",
    "\n",
    "_LOG.info(\"%s\", henv.get_system_signature()[0])\n",
    "\n",
    "hprint.config_notebook()"
   ]
  },
  {
   "cell_type": "markdown",
   "id": "e0f1ad7b",
   "metadata": {},
   "source": [
    "# Build config"
   ]
  },
  {
   "cell_type": "code",
   "execution_count": 8,
   "id": "e083f542",
   "metadata": {
    "ExecuteTime": {
     "end_time": "2023-10-12T15:22:02.262929Z",
     "start_time": "2023-10-12T15:22:02.214354Z"
    }
   },
   "outputs": [
    {
     "name": "stdout",
     "output_type": "stream",
     "text": [
      "INFO  Using hardwired config\n",
      "dst_root_dir: /shared_data/ecs/preprod/prod_reconciliation\n",
      "dag_builder_name: C3a\n",
      "run_mode: paper_trading\n",
      "start_timestamp: 2023-07-15 20:00:00-04:00\n",
      "end_timestamp: 2023-07-22 20:00:00-04:00\n",
      "pnl_resampling_frequency: 5T\n"
     ]
    }
   ],
   "source": [
    "# Get config from env when running the notebook via the `run_notebook.py`\n",
    "# script, e.g., in the system reconciliation flow.\n",
    "config = cconfig.get_config_from_env()\n",
    "if config:\n",
    "    _LOG.info(\"Using config from env vars\")\n",
    "else:\n",
    "    _LOG.info(\"Using hardwired config\")\n",
    "    # Specify the config directly when running the notebook manually.\n",
    "    # Below is just an example.\n",
    "    dst_root_dir = \"/shared_data/ecs/preprod/prod_reconciliation\"\n",
    "    dag_builder_name = \"C3a\"\n",
    "    run_mode = \"paper_trading\"\n",
    "    start_timestamp_as_str = \"20230716_000000\"\n",
    "    end_timestamp_as_str = \"20230723_000000\"\n",
    "    config = omreconc.build_multiday_system_reconciliation_config(\n",
    "        dst_root_dir,\n",
    "        dag_builder_name,\n",
    "        run_mode,\n",
    "        start_timestamp_as_str,\n",
    "        end_timestamp_as_str,\n",
    "    )\n",
    "    config = config[0]\n",
    "print(config)"
   ]
  },
  {
   "cell_type": "markdown",
   "id": "f9905ae2",
   "metadata": {},
   "source": [
    "# Functions"
   ]
  },
  {
   "cell_type": "code",
   "execution_count": 9,
   "id": "c2e8e334",
   "metadata": {
    "ExecuteTime": {
     "end_time": "2023-10-12T15:22:05.591459Z",
     "start_time": "2023-10-12T15:22:05.546343Z"
    }
   },
   "outputs": [],
   "source": [
    "# TODO(Grisha): move all functions under `oms/reconciliation.py`."
   ]
  },
  {
   "cell_type": "code",
   "execution_count": 10,
   "id": "b113bb7f",
   "metadata": {
    "ExecuteTime": {
     "end_time": "2023-10-12T15:22:08.341674Z",
     "start_time": "2023-10-12T15:22:08.296844Z"
    }
   },
   "outputs": [],
   "source": [
    "# TODO(Grisha): can we use this idiom in the other system reconciliation\n",
    "# notebooks?\n",
    "def get_prod_dag_output_for_last_node(\n",
    "    system_log_path_dict: Dict[str, str],\n",
    ") -> pd.DataFrame:\n",
    "    \"\"\"\n",
    "    Load DAG data for a specified node for all bar timestamps.\n",
    "\n",
    "    :param system_log_path_dict: system log dirs paths for different experiments\n",
    "    \"\"\"\n",
    "    data_type = \"dag_data\"\n",
    "    dag_path_dict = omreconc.get_system_log_paths(system_log_path_dict, data_type)\n",
    "    hdbg.dassert_in(\"prod\", dag_path_dict.keys())\n",
    "    hdbg.dassert_path_exists(dag_path_dict[\"prod\"])\n",
    "    # Get DAG node names.\n",
    "    dag_node_names = omreconc.get_dag_node_names(dag_path_dict[\"prod\"])\n",
    "    # Get DAG output for the last node and the last timestamp.\n",
    "    dag_df_prod = omreconc.load_dag_outputs(\n",
    "        dag_path_dict[\"prod\"], dag_node_names[-1]\n",
    "    )\n",
    "    return dag_df_prod\n",
    "\n",
    "\n",
    "def compute_research_portfolio(\n",
    "    dag_df_prod: pd.DataFrame,\n",
    "    forecast_evaluator_from_prices_dict: Dict[str, Dict[str, Any]],\n",
    "    start_timestamp: pd.Timestamp,\n",
    "    end_timestamp: pd.Timestamp,\n",
    ") -> Tuple[pd.DataFrame, pd.DataFrame]:\n",
    "    \"\"\"\n",
    "    Compute research portfolio and align the indices with the system run start\n",
    "    and end timestamps.\n",
    "\n",
    "    :param system_log_path_dict: system log dirs paths for different experiments, e.g.,\n",
    "        ```\n",
    "        {\n",
    "            \"prod\": \"/shared_data/system_log_dir\",\n",
    "            \"sim\": ...\n",
    "        }\n",
    "        ```\n",
    "    :param forecast_evaluator_from_prices_dict: params to initialize\n",
    "        `ForecastEvaluatorFromPrices`\n",
    "    \"\"\"\n",
    "    fep = dtfmod.ForecastEvaluatorFromPrices(\n",
    "        **forecast_evaluator_from_prices_dict[\"init\"]\n",
    "    )\n",
    "    annotate_forecasts_kwargs = forecast_evaluator_from_prices_dict[\n",
    "        \"annotate_forecasts_kwargs\"\n",
    "    ].to_dict()\n",
    "    research_portfolio_df, research_portfolio_stats_df = fep.annotate_forecasts(\n",
    "        dag_df_prod,\n",
    "        **annotate_forecasts_kwargs,\n",
    "    )\n",
    "    # TODO(Grisha): remove columns sorting if it is not needed.\n",
    "    research_portfolio_df = research_portfolio_df.sort_index(axis=1)\n",
    "    research_portfolio_stats_df = research_portfolio_stats_df.sort_index(axis=1)\n",
    "    # Align index with prod and sim portfolios.\n",
    "    # TODO(Grisha): remove timestamps filtering if it is not needed.\n",
    "    research_portfolio_df = research_portfolio_df.loc[\n",
    "        start_timestamp:end_timestamp\n",
    "    ]\n",
    "    research_portfolio_stats_df = research_portfolio_stats_df.loc[\n",
    "        start_timestamp:end_timestamp\n",
    "    ]\n",
    "    return research_portfolio_df, research_portfolio_stats_df"
   ]
  },
  {
   "cell_type": "markdown",
   "id": "bc2461c0",
   "metadata": {},
   "source": [
    "# Load portfolio stats"
   ]
  },
  {
   "cell_type": "code",
   "execution_count": 11,
   "id": "6cc3c824",
   "metadata": {
    "ExecuteTime": {
     "end_time": "2023-10-12T15:22:10.072435Z",
     "start_time": "2023-10-12T15:22:09.863486Z"
    }
   },
   "outputs": [
    {
     "ename": "AssertionError",
     "evalue": "\n################################################################################\n* Failed assertion *\nDir '/shared_data/ecs/preprod/prod_reconciliation/C3a/paper_trading' doesn't exist\n################################################################################\n",
     "output_type": "error",
     "traceback": [
      "\u001b[0;31m---------------------------------------------------------------------------\u001b[0m",
      "\u001b[0;31mAssertionError\u001b[0m                            Traceback (most recent call last)",
      "Cell \u001b[0;32mIn[11], line 1\u001b[0m\n\u001b[0;32m----> 1\u001b[0m system_run_params \u001b[38;5;241m=\u001b[39m \u001b[43momreconc\u001b[49m\u001b[38;5;241;43m.\u001b[39;49m\u001b[43mget_system_run_parameters\u001b[49m\u001b[43m(\u001b[49m\n\u001b[1;32m      2\u001b[0m \u001b[43m    \u001b[49m\u001b[43mconfig\u001b[49m\u001b[43m[\u001b[49m\u001b[38;5;124;43m\"\u001b[39;49m\u001b[38;5;124;43mdst_root_dir\u001b[39;49m\u001b[38;5;124;43m\"\u001b[39;49m\u001b[43m]\u001b[49m\u001b[43m,\u001b[49m\n\u001b[1;32m      3\u001b[0m \u001b[43m    \u001b[49m\u001b[43mconfig\u001b[49m\u001b[43m[\u001b[49m\u001b[38;5;124;43m\"\u001b[39;49m\u001b[38;5;124;43mdag_builder_name\u001b[39;49m\u001b[38;5;124;43m\"\u001b[39;49m\u001b[43m]\u001b[49m\u001b[43m,\u001b[49m\n\u001b[1;32m      4\u001b[0m \u001b[43m    \u001b[49m\u001b[43mconfig\u001b[49m\u001b[43m[\u001b[49m\u001b[38;5;124;43m\"\u001b[39;49m\u001b[38;5;124;43mrun_mode\u001b[39;49m\u001b[38;5;124;43m\"\u001b[39;49m\u001b[43m]\u001b[49m\u001b[43m,\u001b[49m\n\u001b[1;32m      5\u001b[0m \u001b[43m    \u001b[49m\u001b[43mconfig\u001b[49m\u001b[43m[\u001b[49m\u001b[38;5;124;43m\"\u001b[39;49m\u001b[38;5;124;43mstart_timestamp\u001b[39;49m\u001b[38;5;124;43m\"\u001b[39;49m\u001b[43m]\u001b[49m\u001b[43m,\u001b[49m\n\u001b[1;32m      6\u001b[0m \u001b[43m    \u001b[49m\u001b[43mconfig\u001b[49m\u001b[43m[\u001b[49m\u001b[38;5;124;43m\"\u001b[39;49m\u001b[38;5;124;43mend_timestamp\u001b[39;49m\u001b[38;5;124;43m\"\u001b[39;49m\u001b[43m]\u001b[49m\u001b[43m,\u001b[49m\n\u001b[1;32m      7\u001b[0m \u001b[43m)\u001b[49m\n\u001b[1;32m      8\u001b[0m system_run_params\n",
      "File \u001b[0;32m/app/oms/reconciliation.py:638\u001b[0m, in \u001b[0;36mget_system_run_parameters\u001b[0;34m(dst_root_dir, dag_builder_name, run_mode, start_timestamp, end_timestamp)\u001b[0m\n\u001b[1;32m    616\u001b[0m \u001b[38;5;28;01mdef\u001b[39;00m \u001b[38;5;21mget_system_run_parameters\u001b[39m(\n\u001b[1;32m    617\u001b[0m     dst_root_dir: \u001b[38;5;28mstr\u001b[39m,\n\u001b[1;32m    618\u001b[0m     dag_builder_name: \u001b[38;5;28mstr\u001b[39m,\n\u001b[0;32m   (...)\u001b[0m\n\u001b[1;32m    621\u001b[0m     end_timestamp: Optional[pd\u001b[38;5;241m.\u001b[39mTimestamp],\n\u001b[1;32m    622\u001b[0m ) \u001b[38;5;241m-\u001b[39m\u001b[38;5;241m>\u001b[39m List[Tuple[\u001b[38;5;28mstr\u001b[39m, \u001b[38;5;28mstr\u001b[39m, \u001b[38;5;28mstr\u001b[39m]]:\n\u001b[1;32m    623\u001b[0m \u001b[38;5;250m    \u001b[39m\u001b[38;5;124;03m\"\"\"\u001b[39;00m\n\u001b[1;32m    624\u001b[0m \u001b[38;5;124;03m    Get all system run parameters from dir names.\u001b[39;00m\n\u001b[1;32m    625\u001b[0m \n\u001b[0;32m   (...)\u001b[0m\n\u001b[1;32m    636\u001b[0m \u001b[38;5;124;03m        e.g., \"20220212_101500\", \"20220213_100500\", \"scheduled\"\u001b[39;00m\n\u001b[1;32m    637\u001b[0m \u001b[38;5;124;03m    \"\"\"\u001b[39;00m\n\u001b[0;32m--> 638\u001b[0m     timestamps \u001b[38;5;241m=\u001b[39m \u001b[43mget_system_run_timestamps\u001b[49m\u001b[43m(\u001b[49m\n\u001b[1;32m    639\u001b[0m \u001b[43m        \u001b[49m\u001b[43mdst_root_dir\u001b[49m\u001b[43m,\u001b[49m\u001b[43m \u001b[49m\u001b[43mdag_builder_name\u001b[49m\u001b[43m,\u001b[49m\u001b[43m \u001b[49m\u001b[43mrun_mode\u001b[49m\u001b[43m,\u001b[49m\u001b[43m \u001b[49m\u001b[43mstart_timestamp\u001b[49m\u001b[43m,\u001b[49m\u001b[43m \u001b[49m\u001b[43mend_timestamp\u001b[49m\n\u001b[1;32m    640\u001b[0m \u001b[43m    \u001b[49m\u001b[43m)\u001b[49m\n\u001b[1;32m    641\u001b[0m     system_run_params \u001b[38;5;241m=\u001b[39m []\n\u001b[1;32m    642\u001b[0m     \u001b[38;5;28;01mfor\u001b[39;00m start_timestamp_as_str, end_timestamp_as_str \u001b[38;5;129;01min\u001b[39;00m timestamps:\n\u001b[1;32m    643\u001b[0m         \u001b[38;5;66;03m# Get mode from system log dir name.\u001b[39;00m\n",
      "File \u001b[0;32m/app/oms/reconciliation.py:581\u001b[0m, in \u001b[0;36mget_system_run_timestamps\u001b[0;34m(dst_root_dir, dag_builder_name, run_mode, start_timestamp, end_timestamp)\u001b[0m\n\u001b[1;32m    575\u001b[0m _LOG\u001b[38;5;241m.\u001b[39mdebug(\n\u001b[1;32m    576\u001b[0m     hprint\u001b[38;5;241m.\u001b[39mto_str(\n\u001b[1;32m    577\u001b[0m         \u001b[38;5;124m\"\u001b[39m\u001b[38;5;124mdst_root_dir dag_builder_name run_mode start_timestamp end_timestamp\u001b[39m\u001b[38;5;124m\"\u001b[39m\n\u001b[1;32m    578\u001b[0m     )\n\u001b[1;32m    579\u001b[0m )\n\u001b[1;32m    580\u001b[0m \u001b[38;5;66;03m# Find all availiable timestamp dirs.\u001b[39;00m\n\u001b[0;32m--> 581\u001b[0m timestamp_dirs \u001b[38;5;241m=\u001b[39m \u001b[43m_get_timestamp_dirs\u001b[49m\u001b[43m(\u001b[49m\u001b[43mdst_root_dir\u001b[49m\u001b[43m,\u001b[49m\u001b[43m \u001b[49m\u001b[43mdag_builder_name\u001b[49m\u001b[43m,\u001b[49m\u001b[43m \u001b[49m\u001b[43mrun_mode\u001b[49m\u001b[43m)\u001b[49m\n\u001b[1;32m    582\u001b[0m \u001b[38;5;66;03m# Get start and end timestamps from a timestamp dir name. E.g.,\u001b[39;00m\n\u001b[1;32m    583\u001b[0m \u001b[38;5;66;03m# `[(\"20230723_131000\", \"20230724_130500\"), ...]`.\u001b[39;00m\n\u001b[1;32m    584\u001b[0m system_run_timestamps \u001b[38;5;241m=\u001b[39m [\u001b[38;5;28mtuple\u001b[39m(ts\u001b[38;5;241m.\u001b[39msplit(\u001b[38;5;124m\"\u001b[39m\u001b[38;5;124m.\u001b[39m\u001b[38;5;124m\"\u001b[39m)) \u001b[38;5;28;01mfor\u001b[39;00m ts \u001b[38;5;129;01min\u001b[39;00m timestamp_dirs]\n",
      "File \u001b[0;32m/app/oms/reconciliation.py:541\u001b[0m, in \u001b[0;36m_get_timestamp_dirs\u001b[0;34m(dst_root_dir, dag_builder_name, run_mode)\u001b[0m\n\u001b[1;32m    539\u001b[0m use_relatives_paths \u001b[38;5;241m=\u001b[39m \u001b[38;5;28;01mTrue\u001b[39;00m\n\u001b[1;32m    540\u001b[0m \u001b[38;5;66;03m# Get list of all timestamp dirs in the target dir.\u001b[39;00m\n\u001b[0;32m--> 541\u001b[0m timestamp_dirs \u001b[38;5;241m=\u001b[39m \u001b[43mhs3\u001b[49m\u001b[38;5;241;43m.\u001b[39;49m\u001b[43mlistdir\u001b[49m\u001b[43m(\u001b[49m\n\u001b[1;32m    542\u001b[0m \u001b[43m    \u001b[49m\u001b[43mtarget_dir\u001b[49m\u001b[43m,\u001b[49m\n\u001b[1;32m    543\u001b[0m \u001b[43m    \u001b[49m\u001b[43mpattern\u001b[49m\u001b[43m,\u001b[49m\n\u001b[1;32m    544\u001b[0m \u001b[43m    \u001b[49m\u001b[43monly_files\u001b[49m\u001b[43m,\u001b[49m\n\u001b[1;32m    545\u001b[0m \u001b[43m    \u001b[49m\u001b[43muse_relatives_paths\u001b[49m\u001b[43m,\u001b[49m\n\u001b[1;32m    546\u001b[0m \u001b[43m\u001b[49m\u001b[43m)\u001b[49m\n\u001b[1;32m    547\u001b[0m \u001b[38;5;66;03m# Filter timestamp dirs by regex to exclude pattern-like dirs from subdirs\u001b[39;00m\n\u001b[1;32m    548\u001b[0m \u001b[38;5;66;03m# which are returned as relative paths, e.g., \"multiday/20220213_101500.20220214_100500\".\u001b[39;00m\n\u001b[1;32m    549\u001b[0m \u001b[38;5;66;03m# TODO(Grisha): do not search recursively. The assumption is that all the\u001b[39;00m\n\u001b[1;32m    550\u001b[0m \u001b[38;5;66;03m# timestamp dirs are under the `target_dir`.\u001b[39;00m\n\u001b[1;32m    551\u001b[0m timestamp_dirs \u001b[38;5;241m=\u001b[39m [dir_ \u001b[38;5;28;01mfor\u001b[39;00m dir_ \u001b[38;5;129;01min\u001b[39;00m timestamp_dirs \u001b[38;5;28;01mif\u001b[39;00m re\u001b[38;5;241m.\u001b[39mmatch(pattern, dir_)]\n",
      "File \u001b[0;32m/app/helpers/hs3.py:212\u001b[0m, in \u001b[0;36mlistdir\u001b[0;34m(dir_name, pattern, only_files, use_relative_paths, exclude_git_dirs, aws_profile)\u001b[0m\n\u001b[1;32m    210\u001b[0m         paths \u001b[38;5;241m=\u001b[39m [os\u001b[38;5;241m.\u001b[39mpath\u001b[38;5;241m.\u001b[39mrelpath(path, start\u001b[38;5;241m=\u001b[39mroot_path) \u001b[38;5;28;01mfor\u001b[39;00m path \u001b[38;5;129;01min\u001b[39;00m paths]\n\u001b[1;32m    211\u001b[0m \u001b[38;5;28;01melse\u001b[39;00m:\n\u001b[0;32m--> 212\u001b[0m     paths \u001b[38;5;241m=\u001b[39m \u001b[43mhio\u001b[49m\u001b[38;5;241;43m.\u001b[39;49m\u001b[43mlistdir\u001b[49m\u001b[43m(\u001b[49m\n\u001b[1;32m    213\u001b[0m \u001b[43m        \u001b[49m\u001b[43mdir_name\u001b[49m\u001b[43m,\u001b[49m\n\u001b[1;32m    214\u001b[0m \u001b[43m        \u001b[49m\u001b[43mpattern\u001b[49m\u001b[43m,\u001b[49m\n\u001b[1;32m    215\u001b[0m \u001b[43m        \u001b[49m\u001b[43monly_files\u001b[49m\u001b[43m,\u001b[49m\n\u001b[1;32m    216\u001b[0m \u001b[43m        \u001b[49m\u001b[43muse_relative_paths\u001b[49m\u001b[43m,\u001b[49m\n\u001b[1;32m    217\u001b[0m \u001b[43m        \u001b[49m\u001b[43mexclude_git_dirs\u001b[49m\u001b[38;5;241;43m=\u001b[39;49m\u001b[43mexclude_git_dirs\u001b[49m\u001b[43m,\u001b[49m\n\u001b[1;32m    218\u001b[0m \u001b[43m    \u001b[49m\u001b[43m)\u001b[49m\n\u001b[1;32m    219\u001b[0m \u001b[38;5;28;01mreturn\u001b[39;00m paths\n",
      "File \u001b[0;32m/app/helpers/hio.py:70\u001b[0m, in \u001b[0;36mlistdir\u001b[0;34m(dir_name, pattern, only_files, use_relative_paths, exclude_git_dirs)\u001b[0m\n\u001b[1;32m     53\u001b[0m \u001b[38;5;28;01mdef\u001b[39;00m \u001b[38;5;21mlistdir\u001b[39m(\n\u001b[1;32m     54\u001b[0m     dir_name: \u001b[38;5;28mstr\u001b[39m,\n\u001b[1;32m     55\u001b[0m     pattern: \u001b[38;5;28mstr\u001b[39m,\n\u001b[0;32m   (...)\u001b[0m\n\u001b[1;32m     59\u001b[0m     exclude_git_dirs: \u001b[38;5;28mbool\u001b[39m \u001b[38;5;241m=\u001b[39m \u001b[38;5;28;01mTrue\u001b[39;00m,\n\u001b[1;32m     60\u001b[0m ) \u001b[38;5;241m-\u001b[39m\u001b[38;5;241m>\u001b[39m List[\u001b[38;5;28mstr\u001b[39m]:\n\u001b[1;32m     61\u001b[0m \u001b[38;5;250m    \u001b[39m\u001b[38;5;124;03m\"\"\"\u001b[39;00m\n\u001b[1;32m     62\u001b[0m \u001b[38;5;124;03m    Find all files and subdirectories under `directory` that match `pattern`.\u001b[39;00m\n\u001b[1;32m     63\u001b[0m \n\u001b[0;32m   (...)\u001b[0m\n\u001b[1;32m     68\u001b[0m \u001b[38;5;124;03m    :param exclude_git_dirs: skip `.git` dirs\u001b[39;00m\n\u001b[1;32m     69\u001b[0m \u001b[38;5;124;03m    \"\"\"\u001b[39;00m\n\u001b[0;32m---> 70\u001b[0m     \u001b[43mhdbg\u001b[49m\u001b[38;5;241;43m.\u001b[39;49m\u001b[43mdassert_dir_exists\u001b[49m\u001b[43m(\u001b[49m\u001b[43mdir_name\u001b[49m\u001b[43m)\u001b[49m\n\u001b[1;32m     71\u001b[0m     cmd \u001b[38;5;241m=\u001b[39m [\u001b[38;5;124mf\u001b[39m\u001b[38;5;124m\"\u001b[39m\u001b[38;5;124mfind \u001b[39m\u001b[38;5;132;01m{\u001b[39;00mdir_name\u001b[38;5;132;01m}\u001b[39;00m\u001b[38;5;124m\"\u001b[39m, \u001b[38;5;124mf\u001b[39m\u001b[38;5;124m'\u001b[39m\u001b[38;5;124m-name \u001b[39m\u001b[38;5;124m\"\u001b[39m\u001b[38;5;132;01m{\u001b[39;00mpattern\u001b[38;5;132;01m}\u001b[39;00m\u001b[38;5;124m\"\u001b[39m\u001b[38;5;124m'\u001b[39m]\n\u001b[1;32m     72\u001b[0m     \u001b[38;5;28;01mif\u001b[39;00m only_files:\n",
      "File \u001b[0;32m/app/helpers/hdbg.py:827\u001b[0m, in \u001b[0;36mdassert_dir_exists\u001b[0;34m(dir_name, msg, only_warning, *args)\u001b[0m\n\u001b[1;32m    825\u001b[0m \u001b[38;5;28;01mif\u001b[39;00m \u001b[38;5;129;01mnot\u001b[39;00m exists:\n\u001b[1;32m    826\u001b[0m     txt \u001b[38;5;241m=\u001b[39m \u001b[38;5;124mf\u001b[39m\u001b[38;5;124m\"\u001b[39m\u001b[38;5;124mDir \u001b[39m\u001b[38;5;124m'\u001b[39m\u001b[38;5;132;01m{\u001b[39;00mdir_name\u001b[38;5;132;01m}\u001b[39;00m\u001b[38;5;124m'\u001b[39m\u001b[38;5;124m doesn\u001b[39m\u001b[38;5;124m'\u001b[39m\u001b[38;5;124mt exist\u001b[39m\u001b[38;5;124m\"\u001b[39m\n\u001b[0;32m--> 827\u001b[0m     \u001b[43m_dfatal\u001b[49m\u001b[43m(\u001b[49m\u001b[43mtxt\u001b[49m\u001b[43m,\u001b[49m\u001b[43m \u001b[49m\u001b[43mmsg\u001b[49m\u001b[43m,\u001b[49m\u001b[43m \u001b[49m\u001b[38;5;241;43m*\u001b[39;49m\u001b[43margs\u001b[49m\u001b[43m,\u001b[49m\u001b[43m \u001b[49m\u001b[43monly_warning\u001b[49m\u001b[38;5;241;43m=\u001b[39;49m\u001b[43monly_warning\u001b[49m\u001b[43m)\u001b[49m\n\u001b[1;32m    828\u001b[0m \u001b[38;5;66;03m# `dir_name` is a directory.\u001b[39;00m\n\u001b[1;32m    829\u001b[0m is_dir \u001b[38;5;241m=\u001b[39m os\u001b[38;5;241m.\u001b[39mpath\u001b[38;5;241m.\u001b[39misdir(dir_name)\n",
      "File \u001b[0;32m/app/helpers/hdbg.py:142\u001b[0m, in \u001b[0;36m_dfatal\u001b[0;34m(txt, msg, only_warning, *args)\u001b[0m\n\u001b[1;32m    139\u001b[0m     _LOG\u001b[38;5;241m.\u001b[39mwarning(dfatal_txt)\n\u001b[1;32m    140\u001b[0m \u001b[38;5;28;01melse\u001b[39;00m:\n\u001b[1;32m    141\u001b[0m     \u001b[38;5;66;03m# Abort.\u001b[39;00m\n\u001b[0;32m--> 142\u001b[0m     \u001b[43mdfatal\u001b[49m\u001b[43m(\u001b[49m\u001b[43mdfatal_txt\u001b[49m\u001b[43m)\u001b[49m\n",
      "File \u001b[0;32m/app/helpers/hdbg.py:71\u001b[0m, in \u001b[0;36mdfatal\u001b[0;34m(message, assertion_type)\u001b[0m\n\u001b[1;32m     69\u001b[0m \u001b[38;5;28;01mif\u001b[39;00m assertion_type \u001b[38;5;129;01mis\u001b[39;00m \u001b[38;5;28;01mNone\u001b[39;00m:\n\u001b[1;32m     70\u001b[0m     assertion_type \u001b[38;5;241m=\u001b[39m \u001b[38;5;167;01mAssertionError\u001b[39;00m\n\u001b[0;32m---> 71\u001b[0m \u001b[38;5;28;01mraise\u001b[39;00m assertion_type(ret)\n",
      "\u001b[0;31mAssertionError\u001b[0m: \n################################################################################\n* Failed assertion *\nDir '/shared_data/ecs/preprod/prod_reconciliation/C3a/paper_trading' doesn't exist\n################################################################################\n"
     ]
    }
   ],
   "source": [
    "system_run_params = omreconc.get_system_run_parameters(\n",
    "    config[\"dst_root_dir\"],\n",
    "    config[\"dag_builder_name\"],\n",
    "    config[\"run_mode\"],\n",
    "    config[\"start_timestamp\"],\n",
    "    config[\"end_timestamp\"],\n",
    ")\n",
    "system_run_params"
   ]
  },
  {
   "cell_type": "code",
   "execution_count": 12,
   "id": "eaa0a9b8",
   "metadata": {
    "ExecuteTime": {
     "end_time": "2023-10-12T15:22:10.690433Z",
     "start_time": "2023-10-12T15:22:10.631065Z"
    },
    "scrolled": true
   },
   "outputs": [
    {
     "ename": "NameError",
     "evalue": "name 'system_run_params' is not defined",
     "output_type": "error",
     "traceback": [
      "\u001b[0;31m---------------------------------------------------------------------------\u001b[0m",
      "\u001b[0;31mNameError\u001b[0m                                 Traceback (most recent call last)",
      "Cell \u001b[0;32mIn[12], line 3\u001b[0m\n\u001b[1;32m      1\u001b[0m portfolio_stats \u001b[38;5;241m=\u001b[39m []\n\u001b[1;32m      2\u001b[0m bar_duration \u001b[38;5;241m=\u001b[39m \u001b[38;5;28;01mNone\u001b[39;00m\n\u001b[0;32m----> 3\u001b[0m \u001b[38;5;28;01mfor\u001b[39;00m start_timestamp_as_str, end_timestamp_as_str, mode \u001b[38;5;129;01min\u001b[39;00m \u001b[43msystem_run_params\u001b[49m:\n\u001b[1;32m      4\u001b[0m     \u001b[38;5;66;03m# Build system reconciliation config.\u001b[39;00m\n\u001b[1;32m      5\u001b[0m     config_list \u001b[38;5;241m=\u001b[39m omreconc\u001b[38;5;241m.\u001b[39mbuild_reconciliation_configs(\n\u001b[1;32m      6\u001b[0m         config[\u001b[38;5;124m\"\u001b[39m\u001b[38;5;124mdst_root_dir\u001b[39m\u001b[38;5;124m\"\u001b[39m],\n\u001b[1;32m      7\u001b[0m         config[\u001b[38;5;124m\"\u001b[39m\u001b[38;5;124mdag_builder_name\u001b[39m\u001b[38;5;124m\"\u001b[39m],\n\u001b[0;32m   (...)\u001b[0m\n\u001b[1;32m     11\u001b[0m         mode,\n\u001b[1;32m     12\u001b[0m     )\n\u001b[1;32m     13\u001b[0m     reconciliation_config \u001b[38;5;241m=\u001b[39m config_list[\u001b[38;5;241m0\u001b[39m]\n",
      "\u001b[0;31mNameError\u001b[0m: name 'system_run_params' is not defined"
     ]
    }
   ],
   "source": [
    "portfolio_stats = []\n",
    "bar_duration = None\n",
    "for start_timestamp_as_str, end_timestamp_as_str, mode in system_run_params:\n",
    "    # Build system reconciliation config.\n",
    "    config_list = omreconc.build_reconciliation_configs(\n",
    "        config[\"dst_root_dir\"],\n",
    "        config[\"dag_builder_name\"],\n",
    "        start_timestamp_as_str,\n",
    "        end_timestamp_as_str,\n",
    "        config[\"run_mode\"],\n",
    "        mode,\n",
    "    )\n",
    "    reconciliation_config = config_list[0]\n",
    "    system_log_path_dict = reconciliation_config[\"system_log_path\"].to_dict()\n",
    "    bar_duration = reconciliation_config[\"meta\"][\"bar_duration\"]\n",
    "    # Load prod and sim portfolios.\n",
    "    data_type = \"portfolio\"\n",
    "    portfolio_path_dict = omreconc.get_system_log_paths(\n",
    "        system_log_path_dict, data_type\n",
    "    )\n",
    "    portfolio_dfs, portfolio_stats_dfs = omreconc.load_portfolio_dfs(\n",
    "        portfolio_path_dict,\n",
    "        bar_duration,\n",
    "    )\n",
    "    # Compute research portfolio.\n",
    "    dag_df_prod = get_prod_dag_output_for_last_node(system_log_path_dict)\n",
    "    start_timestamp = hdateti.str_to_timestamp(\n",
    "        start_timestamp_as_str\n",
    "    )\n",
    "    end_timestamp = hdateti.str_to_timestamp(end_timestamp_as_str)\n",
    "    forecast_evaluator_from_prices_dict = reconciliation_config[\n",
    "        \"research_forecast_evaluator_from_prices\"\n",
    "    ]\n",
    "    (\n",
    "        research_portfolio_df,\n",
    "        research_portfolio_stats_df,\n",
    "    ) = compute_research_portfolio(\n",
    "        dag_df_prod,\n",
    "        forecast_evaluator_from_prices_dict,\n",
    "        start_timestamp,\n",
    "        end_timestamp,\n",
    "    )\n",
    "    # Concatenate prod, sim and research portfolios.\n",
    "    portfolio_stats_dfs[\"research\"] = research_portfolio_stats_df\n",
    "    portfolio_stats_df = pd.concat(portfolio_stats_dfs, axis=1)\n",
    "    portfolio_stats.append(portfolio_stats_df)\n",
    "# Concatenate multiple daily portfolios.\n",
    "portfolio_stats_df = pd.concat(portfolio_stats, axis=0)\n",
    "hpandas.df_to_str(portfolio_stats_df, num_rows=5, log_level=logging.INFO)"
   ]
  },
  {
   "cell_type": "code",
   "execution_count": 13,
   "id": "3c283781",
   "metadata": {
    "ExecuteTime": {
     "end_time": "2023-10-12T15:22:11.322687Z",
     "start_time": "2023-10-12T15:22:11.264460Z"
    }
   },
   "outputs": [
    {
     "ename": "NameError",
     "evalue": "name 'portfolio_stats_df' is not defined",
     "output_type": "error",
     "traceback": [
      "\u001b[0;31m---------------------------------------------------------------------------\u001b[0m",
      "\u001b[0;31mNameError\u001b[0m                                 Traceback (most recent call last)",
      "Cell \u001b[0;32mIn[13], line 3\u001b[0m\n\u001b[1;32m      1\u001b[0m bars_to_burn \u001b[38;5;241m=\u001b[39m \u001b[38;5;241m1\u001b[39m\n\u001b[1;32m      2\u001b[0m coplotti\u001b[38;5;241m.\u001b[39mplot_portfolio_stats(\n\u001b[0;32m----> 3\u001b[0m     \u001b[43mportfolio_stats_df\u001b[49m\u001b[38;5;241m.\u001b[39miloc[bars_to_burn:],\n\u001b[1;32m      4\u001b[0m     freq\u001b[38;5;241m=\u001b[39mconfig[\u001b[38;5;124m\"\u001b[39m\u001b[38;5;124mpnl_resampling_frequency\u001b[39m\u001b[38;5;124m\"\u001b[39m],\n\u001b[1;32m      5\u001b[0m )\n",
      "\u001b[0;31mNameError\u001b[0m: name 'portfolio_stats_df' is not defined"
     ]
    }
   ],
   "source": [
    "bars_to_burn = 1\n",
    "coplotti.plot_portfolio_stats(\n",
    "    portfolio_stats_df.iloc[bars_to_burn:],\n",
    "    freq=config[\"pnl_resampling_frequency\"],\n",
    ")"
   ]
  },
  {
   "cell_type": "code",
   "execution_count": 14,
   "id": "317f4577",
   "metadata": {
    "ExecuteTime": {
     "end_time": "2023-10-12T15:22:12.135851Z",
     "start_time": "2023-10-12T15:22:12.078670Z"
    }
   },
   "outputs": [
    {
     "ename": "NameError",
     "evalue": "name 'portfolio_stats_df' is not defined",
     "output_type": "error",
     "traceback": [
      "\u001b[0;31m---------------------------------------------------------------------------\u001b[0m",
      "\u001b[0;31mNameError\u001b[0m                                 Traceback (most recent call last)",
      "Cell \u001b[0;32mIn[14], line 3\u001b[0m\n\u001b[1;32m      1\u001b[0m stats_computer \u001b[38;5;241m=\u001b[39m dtfmod\u001b[38;5;241m.\u001b[39mStatsComputer()\n\u001b[1;32m      2\u001b[0m stats_sxs, _ \u001b[38;5;241m=\u001b[39m stats_computer\u001b[38;5;241m.\u001b[39mcompute_portfolio_stats(\n\u001b[0;32m----> 3\u001b[0m     \u001b[43mportfolio_stats_df\u001b[49m\u001b[38;5;241m.\u001b[39miloc[bars_to_burn:], bar_duration\n\u001b[1;32m      4\u001b[0m )\n\u001b[1;32m      5\u001b[0m display(stats_sxs)\n",
      "\u001b[0;31mNameError\u001b[0m: name 'portfolio_stats_df' is not defined"
     ]
    }
   ],
   "source": [
    "stats_computer = dtfmod.StatsComputer()\n",
    "stats_sxs, _ = stats_computer.compute_portfolio_stats(\n",
    "    portfolio_stats_df.iloc[bars_to_burn:], bar_duration\n",
    ")\n",
    "display(stats_sxs)"
   ]
  },
  {
   "cell_type": "code",
   "execution_count": 15,
   "id": "304367b5",
   "metadata": {
    "ExecuteTime": {
     "end_time": "2023-10-12T15:22:13.367352Z",
     "start_time": "2023-10-12T15:22:13.311468Z"
    }
   },
   "outputs": [
    {
     "ename": "NameError",
     "evalue": "name 'portfolio_stats_df' is not defined",
     "output_type": "error",
     "traceback": [
      "\u001b[0;31m---------------------------------------------------------------------------\u001b[0m",
      "\u001b[0;31mNameError\u001b[0m                                 Traceback (most recent call last)",
      "Cell \u001b[0;32mIn[15], line 2\u001b[0m\n\u001b[1;32m      1\u001b[0m \u001b[38;5;66;03m# Correlate PnLs.\u001b[39;00m\n\u001b[0;32m----> 2\u001b[0m \u001b[43mportfolio_stats_df\u001b[49m[[(\u001b[38;5;124m\"\u001b[39m\u001b[38;5;124mprod\u001b[39m\u001b[38;5;124m\"\u001b[39m, \u001b[38;5;124m\"\u001b[39m\u001b[38;5;124mpnl\u001b[39m\u001b[38;5;124m\"\u001b[39m), (\u001b[38;5;124m\"\u001b[39m\u001b[38;5;124msim\u001b[39m\u001b[38;5;124m\"\u001b[39m, \u001b[38;5;124m\"\u001b[39m\u001b[38;5;124mpnl\u001b[39m\u001b[38;5;124m\"\u001b[39m), (\u001b[38;5;124m\"\u001b[39m\u001b[38;5;124mresearch\u001b[39m\u001b[38;5;124m\"\u001b[39m, \u001b[38;5;124m\"\u001b[39m\u001b[38;5;124mpnl\u001b[39m\u001b[38;5;124m\"\u001b[39m)]]\u001b[38;5;241m.\u001b[39mcorr()\n",
      "\u001b[0;31mNameError\u001b[0m: name 'portfolio_stats_df' is not defined"
     ]
    }
   ],
   "source": [
    "# Correlate PnLs.\n",
    "portfolio_stats_df[[(\"prod\", \"pnl\"), (\"sim\", \"pnl\"), (\"research\", \"pnl\")]].corr()"
   ]
  },
  {
   "cell_type": "code",
   "execution_count": null,
   "id": "47ca5edd",
   "metadata": {},
   "outputs": [],
   "source": []
  }
 ],
 "metadata": {
  "kernelspec": {
   "display_name": "Python 3 (ipykernel)",
   "language": "python",
   "name": "python3"
  },
  "language_info": {
   "codemirror_mode": {
    "name": "ipython",
    "version": 3
   },
   "file_extension": ".py",
   "mimetype": "text/x-python",
   "name": "python",
   "nbconvert_exporter": "python",
   "pygments_lexer": "ipython3",
   "version": "3.9.5"
  },
  "toc": {
   "base_numbering": 1,
   "nav_menu": {},
   "number_sections": true,
   "sideBar": true,
   "skip_h1_title": false,
   "title_cell": "Table of Contents",
   "title_sidebar": "Contents",
   "toc_cell": false,
   "toc_position": {},
   "toc_section_display": true,
   "toc_window_display": false
  }
 },
 "nbformat": 4,
 "nbformat_minor": 5
}
