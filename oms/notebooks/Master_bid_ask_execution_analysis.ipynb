{
 "cells": [
  {
   "cell_type": "markdown",
   "id": "c922f450",
   "metadata": {},
   "source": [
    "# Description\n",
    "\n",
    "Use bid-ask data to analyze and simulate trading execution quality."
   ]
  },
  {
   "cell_type": "code",
   "execution_count": null,
   "id": "a115ee44",
   "metadata": {
    "ExecuteTime": {
     "end_time": "2024-02-14T15:51:49.571629Z",
     "start_time": "2024-02-14T15:51:37.013592Z"
    }
   },
   "outputs": [],
   "source": [
    "%load_ext autoreload\n",
    "%autoreload 2\n",
    "\n",
    "import logging\n",
    "\n",
    "import numpy as np\n",
    "import pandas as pd\n",
    "\n",
    "import core.config as cconfig\n",
    "import core.finance as cofinanc\n",
    "import core.plotting as coplotti\n",
    "import core.statistics as costatis\n",
    "import dataflow.core as dtfcore\n",
    "import dataflow.pipelines.execution.execution_pipeline as dtfpexexpi\n",
    "import dataflow_amp.system.Cx as dtfamsysc\n",
    "import helpers.hdbg as hdbg\n",
    "import helpers.henv as henv\n",
    "import helpers.hprint as hprint\n",
    "import oms.broker.ccxt.ccxt_aggregation_functions as obccagfu\n",
    "import oms.broker.ccxt.ccxt_execution_quality as obccexqu\n",
    "import oms.broker.ccxt.ccxt_logger as obcccclo"
   ]
  },
  {
   "cell_type": "code",
   "execution_count": null,
   "id": "4a992fa4",
   "metadata": {
    "ExecuteTime": {
     "end_time": "2024-02-14T15:51:49.958513Z",
     "start_time": "2024-02-14T15:51:49.580819Z"
    }
   },
   "outputs": [],
   "source": [
    "hdbg.init_logger(verbosity=logging.INFO)\n",
    "\n",
    "_LOG = logging.getLogger(__name__)\n",
    "\n",
    "_LOG.info(\"%s\", henv.get_system_signature()[0])\n",
    "\n",
    "hprint.config_notebook()"
   ]
  },
  {
   "cell_type": "markdown",
   "id": "0e7e1255",
   "metadata": {},
   "source": [
    "# Config"
   ]
  },
  {
   "cell_type": "code",
   "execution_count": null,
   "id": "2bf4943d",
   "metadata": {
    "ExecuteTime": {
     "end_time": "2024-02-14T15:51:50.031589Z",
     "start_time": "2024-02-14T15:51:49.961421Z"
    }
   },
   "outputs": [],
   "source": [
    "config = cconfig.get_config_from_env()\n",
    "if config:\n",
    "    # Get config from env when running the notebook via the `run_notebook.py` script, e.g.,\n",
    "    # in the system reconciliation flow.\n",
    "    _LOG.info(\"Using config from env vars\")\n",
    "else:\n",
    "    system_log_dir = \"/shared_data/ecs/test/system_reconciliation/C11a/prod/20240123_110000.20240123_154800/system_log_dir.manual/process_forecasts\"\n",
    "    use_historical = False\n",
    "    bar_duration = \"12T\"\n",
    "    test_asset_id = 1030828978\n",
    "    config_dict = {\n",
    "        \"meta\": {\"use_historical\": use_historical},\n",
    "        \"universe\": {\"test_asset_id\": test_asset_id},\n",
    "        \"execution_parameters\": {\"bar_duration\": bar_duration},\n",
    "        \"system_log_dir\": system_log_dir,\n",
    "    }\n",
    "    config = cconfig.Config.from_dict(config_dict)\n",
    "print(config)"
   ]
  },
  {
   "cell_type": "code",
   "execution_count": null,
   "id": "80ea30bd",
   "metadata": {
    "ExecuteTime": {
     "end_time": "2024-02-14T15:51:50.457806Z",
     "start_time": "2024-02-14T15:51:50.034451Z"
    }
   },
   "outputs": [],
   "source": [
    "system_log_dir = config[\"system_log_dir\"]\n",
    "bar_duration = config.get_and_mark_as_used(\n",
    "    (\"execution_parameters\", \"bar_duration\")\n",
    ")\n",
    "test_asset_id = config.get_and_mark_as_used((\"universe\", \"test_asset_id\"))\n",
    "id_col = \"asset_id\"\n",
    "# TODO(Sonaal): This should become an attribute for order.\n",
    "child_order_execution_freq = \"1T\"\n",
    "resample_freq = \"100ms\""
   ]
  },
  {
   "cell_type": "code",
   "execution_count": null,
   "id": "77365a7f",
   "metadata": {
    "ExecuteTime": {
     "start_time": "2024-02-14T15:51:36.884Z"
    }
   },
   "outputs": [],
   "source": [
    "ccxt_log_reader = obcccclo.CcxtLogger(system_log_dir)\n",
    "data = ccxt_log_reader.load_all_data(\n",
    "    convert_to_dataframe=True, abort_on_missing_data=False\n",
    ")"
   ]
  },
  {
   "cell_type": "code",
   "execution_count": null,
   "id": "de318c12",
   "metadata": {
    "ExecuteTime": {
     "start_time": "2024-02-14T15:51:36.884Z"
    }
   },
   "outputs": [],
   "source": [
    "# Print the Broker config.\n",
    "if \"broker_config\" in data:\n",
    "    print(hprint.to_pretty_str(data[\"broker_config\"]))\n",
    "else:\n",
    "    _LOG.warning(\"broker_config file not present in %s\", system_log_dir)"
   ]
  },
  {
   "cell_type": "code",
   "execution_count": null,
   "id": "e54dd0ac",
   "metadata": {
    "ExecuteTime": {
     "start_time": "2024-02-14T15:51:36.885Z"
    }
   },
   "outputs": [],
   "source": [
    "# Print the used Config, if any.\n",
    "experiment_config = obcccclo.load_config_for_execution_analysis(system_log_dir)\n",
    "print(experiment_config)"
   ]
  },
  {
   "cell_type": "code",
   "execution_count": null,
   "id": "f6a0d814",
   "metadata": {
    "ExecuteTime": {
     "start_time": "2024-02-14T15:51:36.885Z"
    }
   },
   "outputs": [],
   "source": [
    "# Use historical data for experiment runs older than 48h.\n",
    "use_historical = config[\"meta\"][\"use_historical\"]"
   ]
  },
  {
   "cell_type": "code",
   "execution_count": null,
   "id": "5a0608b6",
   "metadata": {
    "ExecuteTime": {
     "start_time": "2024-02-14T15:51:36.886Z"
    }
   },
   "outputs": [],
   "source": [
    "# Colums containing price data for analysis.\n",
    "active_cols = [\"buy_limit_order_price\", \"buy_trade_price\"]"
   ]
  },
  {
   "cell_type": "markdown",
   "id": "eb450715",
   "metadata": {},
   "source": [
    "# Load data"
   ]
  },
  {
   "cell_type": "markdown",
   "id": "8590ed45",
   "metadata": {},
   "source": [
    "## Load CCXT data"
   ]
  },
  {
   "cell_type": "code",
   "execution_count": null,
   "id": "591b3fb9",
   "metadata": {
    "ExecuteTime": {
     "start_time": "2024-02-14T15:51:36.887Z"
    }
   },
   "outputs": [],
   "source": [
    "ccxt_order_response_df = data[\"ccxt_order_responses\"]\n",
    "ccxt_executed_trades_df = data[\"ccxt_trades\"]"
   ]
  },
  {
   "cell_type": "code",
   "execution_count": null,
   "id": "2fd270aa",
   "metadata": {
    "ExecuteTime": {
     "start_time": "2024-02-14T15:51:36.887Z"
    }
   },
   "outputs": [],
   "source": [
    "ccxt_order_response_df.head(3)"
   ]
  },
  {
   "cell_type": "code",
   "execution_count": null,
   "id": "83840aaf",
   "metadata": {
    "ExecuteTime": {
     "start_time": "2024-02-14T15:51:36.888Z"
    }
   },
   "outputs": [],
   "source": [
    "ccxt_executed_trades_df.head(3)"
   ]
  },
  {
   "cell_type": "code",
   "execution_count": null,
   "id": "565372d5",
   "metadata": {
    "ExecuteTime": {
     "start_time": "2024-02-14T15:51:36.888Z"
    }
   },
   "outputs": [],
   "source": [
    "oms_child_order_df = data[\"oms_child_orders\"]"
   ]
  },
  {
   "cell_type": "code",
   "execution_count": null,
   "id": "7b2f041d",
   "metadata": {
    "ExecuteTime": {
     "start_time": "2024-02-14T15:51:36.889Z"
    }
   },
   "outputs": [],
   "source": [
    "oms_child_order_df.iloc[oms_child_order_df[\"latest_bid_price\"].argmax()][\n",
    "    \"extra_params\"\n",
    "][\"stats\"]"
   ]
  },
  {
   "cell_type": "markdown",
   "id": "a7fedf5e",
   "metadata": {},
   "source": [
    "## Aggregate CCXT data"
   ]
  },
  {
   "cell_type": "code",
   "execution_count": null,
   "id": "0bf18410",
   "metadata": {
    "ExecuteTime": {
     "start_time": "2024-02-14T15:51:36.890Z"
    }
   },
   "outputs": [],
   "source": [
    "# Aggregated executed trades (fills) by bar.\n",
    "executed_trades_prices = obccagfu.compute_buy_sell_prices_by_bar(\n",
    "    ccxt_executed_trades_df, bar_duration, groupby_id_col=id_col\n",
    ")"
   ]
  },
  {
   "cell_type": "code",
   "execution_count": null,
   "id": "14e91035",
   "metadata": {
    "ExecuteTime": {
     "start_time": "2024-02-14T15:51:36.891Z"
    }
   },
   "outputs": [],
   "source": [
    "# Get execution event timestamps by child order.\n",
    "test_asset_orders = (\n",
    "    obcccclo.process_child_order_timestamps_and_prices_for_single_asset(\n",
    "        oms_child_order_df, ccxt_executed_trades_df, test_asset_id, resample_freq\n",
    "    )\n",
    ")"
   ]
  },
  {
   "cell_type": "code",
   "execution_count": null,
   "id": "68356852",
   "metadata": {
    "ExecuteTime": {
     "start_time": "2024-02-14T15:51:36.891Z"
    }
   },
   "outputs": [],
   "source": [
    "test_asset_events = test_asset_orders.sort_index(axis=0)"
   ]
  },
  {
   "cell_type": "code",
   "execution_count": null,
   "id": "b65b5220",
   "metadata": {
    "ExecuteTime": {
     "start_time": "2024-02-14T15:51:36.892Z"
    }
   },
   "outputs": [],
   "source": [
    "test_asset_events.head(10)"
   ]
  },
  {
   "cell_type": "markdown",
   "id": "de19e06f",
   "metadata": {
    "lines_to_next_cell": 2
   },
   "source": [
    "## Load bid-ask data"
   ]
  },
  {
   "cell_type": "code",
   "execution_count": null,
   "id": "761b8249",
   "metadata": {
    "ExecuteTime": {
     "start_time": "2024-02-14T15:51:36.893Z"
    }
   },
   "outputs": [],
   "source": [
    "def get_data():\n",
    "    \"\"\"\n",
    "    The simulation section of the notebook contains a definition of a DAG with\n",
    "    a FunctionDataSource source node which requires a function rather than an\n",
    "    object, so this function returns an object built inside the notebook.\n",
    "    \"\"\"\n",
    "    return bid_ask"
   ]
  },
  {
   "cell_type": "code",
   "execution_count": null,
   "id": "a1a37a52",
   "metadata": {
    "ExecuteTime": {
     "start_time": "2024-02-14T15:51:36.893Z"
    }
   },
   "outputs": [],
   "source": [
    "# TODO(Paul): Refine the cuts around the first and last bars.\n",
    "start_timestamp = ccxt_order_response_df[\"order_update_datetime\"].min()\n",
    "_LOG.info(\"start_timestamp=%s\", start_timestamp)\n",
    "end_timestamp = ccxt_executed_trades_df[\"datetime\"].max()\n",
    "_LOG.info(\"end_timestamp=%s\", end_timestamp)"
   ]
  },
  {
   "cell_type": "code",
   "execution_count": null,
   "id": "efc6ffd2",
   "metadata": {
    "ExecuteTime": {
     "start_time": "2024-02-14T15:51:36.894Z"
    }
   },
   "outputs": [],
   "source": [
    "bid_ask = obccagfu.load_bid_ask_data(\n",
    "    start_timestamp,\n",
    "    end_timestamp,\n",
    "    ccxt_log_reader,\n",
    "    use_historical,\n",
    "    executed_trades_prices.columns.levels[1],\n",
    "    child_order_execution_freq,\n",
    ")"
   ]
  },
  {
   "cell_type": "markdown",
   "id": "d4e5e145",
   "metadata": {},
   "source": [
    "## Load OHLCV data"
   ]
  },
  {
   "cell_type": "code",
   "execution_count": null,
   "id": "d197a348",
   "metadata": {
    "ExecuteTime": {
     "start_time": "2024-02-14T15:51:36.895Z"
    }
   },
   "outputs": [],
   "source": [
    "# We get the end timestamp from ccxt_trades_df which is not the exact time at which the run was completed.\n",
    "# This created misalignment in the graphs of bid/ask data and OHLCV. Hence we rectify this by re-defining\n",
    "# end_timestamp based on the bid/ask data.\n",
    "actual_ohlcv_end_timestamp = bid_ask.index.max().round(\"min\")"
   ]
  },
  {
   "cell_type": "code",
   "execution_count": null,
   "id": "1f7ae0b5",
   "metadata": {
    "ExecuteTime": {
     "start_time": "2024-02-14T15:51:36.895Z"
    }
   },
   "outputs": [],
   "source": [
    "ohlcv_bar_duration = bar_duration\n",
    "db_stage = data[\"broker_config\"][\"stage\"]\n",
    "# Get prod `MarketData`.\n",
    "market_data = dtfamsysc.get_Cx_RealTimeMarketData_prod_instance1(\n",
    "    [test_asset_id], db_stage=db_stage\n",
    ")\n",
    "# Load and resample OHLCV data.\n",
    "ohlcv_bars = dtfamsysc.load_and_resample_ohlcv_data(\n",
    "    market_data,\n",
    "    start_timestamp,\n",
    "    actual_ohlcv_end_timestamp,\n",
    "    ohlcv_bar_duration,\n",
    ")\n",
    "ohlcv_bars.head(3)"
   ]
  },
  {
   "cell_type": "code",
   "execution_count": null,
   "id": "e33218b4",
   "metadata": {
    "ExecuteTime": {
     "start_time": "2024-02-14T15:51:36.896Z"
    }
   },
   "outputs": [],
   "source": [
    "ohlcv_price_df = {\n",
    "    \"high\": ohlcv_bars[\"high\"],\n",
    "    \"low\": ohlcv_bars[\"low\"],\n",
    "}\n",
    "ohlcv_price_df = pd.concat(ohlcv_price_df, axis=1)\n",
    "# Slice data for a test asset id.\n",
    "test_asset_slice_ohlcv = cofinanc.get_asset_slice(ohlcv_price_df, test_asset_id)\n",
    "test_asset_slice_ohlcv.head(3)"
   ]
  },
  {
   "cell_type": "markdown",
   "id": "23755124",
   "metadata": {},
   "source": [
    "# Plot bid/ask and OHLCV data"
   ]
  },
  {
   "cell_type": "code",
   "execution_count": null,
   "id": "a9e88b1a",
   "metadata": {
    "ExecuteTime": {
     "start_time": "2024-02-14T15:51:36.897Z"
    }
   },
   "outputs": [],
   "source": [
    "bid_ask.head(3)"
   ]
  },
  {
   "cell_type": "code",
   "execution_count": null,
   "id": "4c6c1544",
   "metadata": {
    "ExecuteTime": {
     "start_time": "2024-02-14T15:51:36.897Z"
    }
   },
   "outputs": [],
   "source": [
    "bid_ask[\"bid_price\"][test_asset_id].tail(10000).plot()"
   ]
  },
  {
   "cell_type": "code",
   "execution_count": null,
   "id": "4906c450",
   "metadata": {
    "ExecuteTime": {
     "start_time": "2024-02-14T15:51:36.898Z"
    }
   },
   "outputs": [],
   "source": [
    "test_asset_tob = cofinanc.get_asset_slice(bid_ask, test_asset_id)"
   ]
  },
  {
   "cell_type": "code",
   "execution_count": null,
   "id": "3489b351",
   "metadata": {
    "ExecuteTime": {
     "start_time": "2024-02-14T15:51:36.898Z"
    }
   },
   "outputs": [],
   "source": [
    "test_asset_tob[[\"ask_price\", \"bid_price\"]].plot()"
   ]
  },
  {
   "cell_type": "code",
   "execution_count": null,
   "id": "d662cc11",
   "metadata": {
    "ExecuteTime": {
     "start_time": "2024-02-14T15:51:36.899Z"
    }
   },
   "outputs": [],
   "source": [
    "test_asset_tob[[\"ask_size\", \"bid_size\"]].plot()"
   ]
  },
  {
   "cell_type": "code",
   "execution_count": null,
   "id": "9b2e262f",
   "metadata": {
    "ExecuteTime": {
     "start_time": "2024-02-14T15:51:36.900Z"
    }
   },
   "outputs": [],
   "source": [
    "# Plot bid-ask prices together with high and low prices.\n",
    "test_asset_slice_tob_ohlcv = (\n",
    "    pd.concat([test_asset_tob, test_asset_slice_ohlcv]).sort_index().bfill()\n",
    ")\n",
    "#\n",
    "test_asset_slice_tob_ohlcv[[\"ask_price\", \"bid_price\", \"high\", \"low\"]].plot()"
   ]
  },
  {
   "cell_type": "code",
   "execution_count": null,
   "id": "522fa82e",
   "metadata": {
    "ExecuteTime": {
     "start_time": "2024-02-14T15:51:36.900Z"
    }
   },
   "outputs": [],
   "source": [
    "pd.merge(\n",
    "    cofinanc.get_asset_slice(\n",
    "        test_asset_events, test_asset_id, strictly_increasing=False\n",
    "    ),\n",
    "    test_asset_tob,\n",
    "    left_index=True,\n",
    "    right_index=True,\n",
    "    how=\"inner\",\n",
    ").dropna(subset=[\"event\"])"
   ]
  },
  {
   "cell_type": "markdown",
   "id": "df4da01a",
   "metadata": {},
   "source": [
    "# Replay limit orders and simulate trades\n",
    "\n",
    "- Use actual limit prices seen in actual execution\n",
    "- Simulate execution using actual limit prices and bid-ask data\n",
    "- Compare simulated execution to actual execution"
   ]
  },
  {
   "cell_type": "markdown",
   "id": "3f745e95",
   "metadata": {},
   "source": [
    "## Extract the actual limit orders"
   ]
  },
  {
   "cell_type": "code",
   "execution_count": null,
   "id": "912e1b9b",
   "metadata": {
    "ExecuteTime": {
     "start_time": "2024-02-14T15:51:36.901Z"
    }
   },
   "outputs": [],
   "source": [
    "bid_ask.columns.levels[1]"
   ]
  },
  {
   "cell_type": "code",
   "execution_count": null,
   "id": "ab80c4db",
   "metadata": {
    "ExecuteTime": {
     "start_time": "2024-02-14T15:51:36.901Z"
    }
   },
   "outputs": [],
   "source": [
    "oms_child_order_df_restricted = oms_child_order_df[\n",
    "    oms_child_order_df[\"asset_id\"].isin(bid_ask.columns.levels[1])\n",
    "]\n",
    "oms_child_order_df_restricted.head(3)"
   ]
  },
  {
   "cell_type": "code",
   "execution_count": null,
   "id": "ee3b2ba4",
   "metadata": {
    "ExecuteTime": {
     "start_time": "2024-02-14T15:51:36.902Z"
    }
   },
   "outputs": [],
   "source": [
    "# Forward fill to represent the time-in-force of the underlying order.\n",
    "limit_prices = obccexqu.get_limit_order_price(oms_child_order_df_restricted)\n",
    "limit_prices.head(3)"
   ]
  },
  {
   "cell_type": "code",
   "execution_count": null,
   "id": "c1e679a8",
   "metadata": {
    "ExecuteTime": {
     "start_time": "2024-02-14T15:51:36.903Z"
    }
   },
   "outputs": [],
   "source": [
    "buy_order_num = np.sign(limit_prices[\"buy_limit_order_price\"]).abs().cumsum()\n",
    "sell_order_num = np.sign(limit_prices[\"sell_limit_order_price\"]).abs().cumsum()"
   ]
  },
  {
   "cell_type": "code",
   "execution_count": null,
   "id": "115a5975",
   "metadata": {
    "ExecuteTime": {
     "start_time": "2024-02-14T15:51:36.903Z"
    }
   },
   "outputs": [],
   "source": [
    "limit_prices = pd.concat(\n",
    "    {\n",
    "        \"buy_limit_order_price\": limit_prices[\"buy_limit_order_price\"],\n",
    "        \"sell_limit_order_price\": limit_prices[\"sell_limit_order_price\"],\n",
    "        \"buy_order_num\": buy_order_num,\n",
    "        \"sell_order_num\": sell_order_num,\n",
    "    },\n",
    "    axis=1,\n",
    ").ffill(limit=59)"
   ]
  },
  {
   "cell_type": "markdown",
   "id": "338558d0",
   "metadata": {},
   "source": [
    "## Join limit orders with bid-ask data and simulate trades"
   ]
  },
  {
   "cell_type": "code",
   "execution_count": null,
   "id": "9b903be9",
   "metadata": {
    "ExecuteTime": {
     "start_time": "2024-02-14T15:51:36.904Z"
    }
   },
   "outputs": [],
   "source": [
    "in_df = pd.concat([limit_prices, bid_ask], axis=1)\n",
    "in_df.head(3)"
   ]
  },
  {
   "cell_type": "code",
   "execution_count": null,
   "id": "46b1680c",
   "metadata": {
    "ExecuteTime": {
     "start_time": "2024-02-14T15:51:36.904Z"
    }
   },
   "outputs": [],
   "source": [
    "node = dtfcore.GroupedColDfToDfTransformer(\n",
    "    \"estimate_limit_order_execution\",\n",
    "    transformer_func=cofinanc.estimate_limit_order_execution,\n",
    "    **{\n",
    "        \"in_col_groups\": [\n",
    "            (\"bid_price\",),\n",
    "            (\"ask_price\",),\n",
    "            (\"buy_limit_order_price\",),\n",
    "            (\"sell_limit_order_price\",),\n",
    "            (\"buy_order_num\",),\n",
    "            (\"sell_order_num\",),\n",
    "        ],\n",
    "        \"out_col_group\": (),\n",
    "        \"transformer_kwargs\": {\n",
    "            \"bid_col\": \"bid_price\",\n",
    "            \"ask_col\": \"ask_price\",\n",
    "            \"buy_limit_price_col\": \"buy_limit_order_price\",\n",
    "            \"sell_limit_price_col\": \"sell_limit_order_price\",\n",
    "            \"buy_order_num_col\": \"buy_order_num\",\n",
    "            \"sell_order_num_col\": \"sell_order_num\",\n",
    "        },\n",
    "    },\n",
    ")"
   ]
  },
  {
   "cell_type": "code",
   "execution_count": null,
   "id": "995909f1",
   "metadata": {
    "ExecuteTime": {
     "start_time": "2024-02-14T15:51:36.905Z"
    }
   },
   "outputs": [],
   "source": [
    "simulated_execution_df = node.fit(in_df)[\"df_out\"]"
   ]
  },
  {
   "cell_type": "code",
   "execution_count": null,
   "id": "b25b4eca",
   "metadata": {
    "ExecuteTime": {
     "start_time": "2024-02-14T15:51:36.905Z"
    }
   },
   "outputs": [],
   "source": [
    "simulated_execution_df.columns.levels[0].to_list()"
   ]
  },
  {
   "cell_type": "code",
   "execution_count": null,
   "id": "416e367f",
   "metadata": {
    "ExecuteTime": {
     "start_time": "2024-02-14T15:51:36.906Z"
    }
   },
   "outputs": [],
   "source": [
    "test_asset_exec = cofinanc.get_asset_slice(simulated_execution_df, test_asset_id)\n",
    "test_asset_exec.loc[~test_asset_exec[\"buy_trade_price\"].isna()][\n",
    "    [\n",
    "        \"buy_trade_price\",\n",
    "        \"buy_limit_order_price\",\n",
    "        \"buy_order_num\",\n",
    "        \"bid_price\",\n",
    "        \"ask_price\",\n",
    "    ]\n",
    "]"
   ]
  },
  {
   "cell_type": "code",
   "execution_count": null,
   "id": "173b1d28",
   "metadata": {
    "ExecuteTime": {
     "start_time": "2024-02-14T15:51:36.906Z"
    }
   },
   "outputs": [],
   "source": [
    "simulated_execution_df[\"buy_trade_price\"].resample(\n",
    "    \"5T\", closed=\"right\", label=\"right\"\n",
    ").mean()"
   ]
  },
  {
   "cell_type": "code",
   "execution_count": null,
   "id": "3f0b2df4",
   "metadata": {
    "ExecuteTime": {
     "start_time": "2024-02-14T15:51:36.907Z"
    }
   },
   "outputs": [],
   "source": [
    "test_asset_slice = cofinanc.get_asset_slice(simulated_execution_df, test_asset_id)"
   ]
  },
  {
   "cell_type": "code",
   "execution_count": null,
   "id": "2046a466",
   "metadata": {
    "ExecuteTime": {
     "start_time": "2024-02-14T15:51:36.907Z"
    }
   },
   "outputs": [],
   "source": [
    "test_asset_slice[active_cols].plot()"
   ]
  },
  {
   "cell_type": "code",
   "execution_count": null,
   "id": "dfb19e17",
   "metadata": {
    "ExecuteTime": {
     "start_time": "2024-02-14T15:51:36.908Z"
    }
   },
   "outputs": [],
   "source": [
    "test_asset_slice[\"buy_trade_price\"].ffill(limit=59).plot()"
   ]
  },
  {
   "cell_type": "markdown",
   "id": "5569dad9",
   "metadata": {},
   "source": [
    "## Compute simulated trade execution quality against bid-ask benchmarks"
   ]
  },
  {
   "cell_type": "code",
   "execution_count": null,
   "id": "6cb62e2f",
   "metadata": {
    "ExecuteTime": {
     "start_time": "2024-02-14T15:51:36.908Z"
    }
   },
   "outputs": [],
   "source": [
    "simulated_execution_quality_node = dtfcore.GroupedColDfToDfTransformer(\n",
    "    \"simulated_execution_quality\",\n",
    "    transformer_func=cofinanc.compute_bid_ask_execution_quality,\n",
    "    **{\n",
    "        \"in_col_groups\": [\n",
    "            (\"buy_trade_price\",),\n",
    "            (\"sell_trade_price\",),\n",
    "            (\"bid_price\",),\n",
    "            (\"ask_price\",),\n",
    "        ],\n",
    "        \"out_col_group\": (),\n",
    "        \"transformer_kwargs\": {\n",
    "            \"bid_col\": \"bid_price\",\n",
    "            \"ask_col\": \"ask_price\",\n",
    "            \"buy_trade_price_col\": \"buy_trade_price\",\n",
    "            \"sell_trade_price_col\": \"sell_trade_price\",\n",
    "        },\n",
    "    },\n",
    ")"
   ]
  },
  {
   "cell_type": "code",
   "execution_count": null,
   "id": "99a125ac",
   "metadata": {
    "ExecuteTime": {
     "start_time": "2024-02-14T15:51:36.909Z"
    }
   },
   "outputs": [],
   "source": [
    "simulated_execution_quality_df = simulated_execution_quality_node.fit(\n",
    "    simulated_execution_df\n",
    ")[\"df_out\"]"
   ]
  },
  {
   "cell_type": "code",
   "execution_count": null,
   "id": "8c805523",
   "metadata": {
    "ExecuteTime": {
     "start_time": "2024-02-14T15:51:36.909Z"
    }
   },
   "outputs": [],
   "source": [
    "simulated_execution_quality_df.columns.levels[0].to_list()"
   ]
  },
  {
   "cell_type": "code",
   "execution_count": null,
   "id": "376568b1",
   "metadata": {
    "ExecuteTime": {
     "start_time": "2024-02-14T15:51:36.910Z"
    }
   },
   "outputs": [],
   "source": [
    "test_asset_slice = cofinanc.get_asset_slice(\n",
    "    simulated_execution_quality_df, test_asset_id\n",
    ")\n",
    "test_asset_slice[active_cols].dropna(how=\"all\")"
   ]
  },
  {
   "cell_type": "code",
   "execution_count": null,
   "id": "d46f5d14",
   "metadata": {
    "ExecuteTime": {
     "start_time": "2024-02-14T15:51:36.910Z"
    }
   },
   "outputs": [],
   "source": [
    "col = \"buy_trade_midpoint_slippage_bps\"\n",
    "coplotti.plot_boxplot(simulated_execution_quality_df[col], \"by_col\", ylabel=col)"
   ]
  },
  {
   "cell_type": "code",
   "execution_count": null,
   "id": "274ce0d5",
   "metadata": {
    "ExecuteTime": {
     "start_time": "2024-02-14T15:51:36.911Z"
    }
   },
   "outputs": [],
   "source": [
    "simulated_execution_quality_df[\"buy_trade_midpoint_slippage_bps\"].unstack().hist(\n",
    "    bins=31\n",
    ")"
   ]
  },
  {
   "cell_type": "code",
   "execution_count": null,
   "id": "cfa2c1fd",
   "metadata": {
    "ExecuteTime": {
     "start_time": "2024-02-14T15:51:36.911Z"
    }
   },
   "outputs": [],
   "source": [
    "col = \"sell_trade_midpoint_slippage_bps\"\n",
    "coplotti.plot_boxplot(simulated_execution_quality_df[col], \"by_col\", ylabel=col)"
   ]
  },
  {
   "cell_type": "code",
   "execution_count": null,
   "id": "bcda104d",
   "metadata": {
    "ExecuteTime": {
     "start_time": "2024-02-14T15:51:36.912Z"
    }
   },
   "outputs": [],
   "source": [
    "simulated_execution_quality_df[\"sell_trade_midpoint_slippage_bps\"].unstack().hist(\n",
    "    bins=31\n",
    ")"
   ]
  },
  {
   "cell_type": "code",
   "execution_count": null,
   "id": "98783ecb",
   "metadata": {
    "ExecuteTime": {
     "start_time": "2024-02-14T15:51:36.912Z"
    }
   },
   "outputs": [],
   "source": [
    "costatis.compute_moments(\n",
    "    simulated_execution_quality_df[\"buy_trade_midpoint_slippage_bps\"].unstack()\n",
    ")"
   ]
  },
  {
   "cell_type": "code",
   "execution_count": null,
   "id": "ffe5465b",
   "metadata": {
    "ExecuteTime": {
     "start_time": "2024-02-14T15:51:36.912Z"
    }
   },
   "outputs": [],
   "source": [
    "costatis.compute_moments(simulated_execution_quality_df[\"spread_bps\"].unstack())"
   ]
  },
  {
   "cell_type": "markdown",
   "id": "f76c5b73",
   "metadata": {},
   "source": [
    "## Compare actual trade prices to simulated trade prices"
   ]
  },
  {
   "cell_type": "code",
   "execution_count": null,
   "id": "30e69ae8",
   "metadata": {
    "ExecuteTime": {
     "start_time": "2024-02-14T15:51:36.913Z"
    }
   },
   "outputs": [],
   "source": [
    "actual_vs_sim_trade_price_resampling_freq = \"1T\""
   ]
  },
  {
   "cell_type": "code",
   "execution_count": null,
   "id": "c7a92cf4",
   "metadata": {
    "ExecuteTime": {
     "start_time": "2024-02-14T15:51:36.913Z"
    }
   },
   "outputs": [],
   "source": [
    "# The \"8s\" is an empirically-derived estimate of order delay.\n",
    "simulated_execution_df[\"sell_limit_order_price\"].resample(\n",
    "    actual_vs_sim_trade_price_resampling_freq,\n",
    "    closed=\"right\",\n",
    "    label=\"right\",\n",
    "    offset=\"8s\",\n",
    ").mean().head(3)"
   ]
  },
  {
   "cell_type": "code",
   "execution_count": null,
   "id": "da722441",
   "metadata": {
    "ExecuteTime": {
     "start_time": "2024-02-14T15:51:36.914Z"
    }
   },
   "outputs": [],
   "source": [
    "executed_trades_prices = obccagfu.compute_buy_sell_prices_by_bar(\n",
    "    ccxt_executed_trades_df,\n",
    "    actual_vs_sim_trade_price_resampling_freq,\n",
    "    offset=\"8s\",\n",
    "    groupby_id_col=\"asset_id\",\n",
    ")\n",
    "executed_trades_prices.head(3)"
   ]
  },
  {
   "cell_type": "code",
   "execution_count": null,
   "id": "623d5be4",
   "metadata": {
    "ExecuteTime": {
     "start_time": "2024-02-14T15:51:36.914Z"
    }
   },
   "outputs": [],
   "source": [
    "resampled_simulated_execution_df = simulated_execution_df.resample(\n",
    "    actual_vs_sim_trade_price_resampling_freq,\n",
    "    closed=\"right\",\n",
    "    label=\"right\",\n",
    "    offset=\"8s\",\n",
    ").mean()\n",
    "resampled_simulated_execution_df.head(3)"
   ]
  },
  {
   "cell_type": "code",
   "execution_count": null,
   "id": "c05b3156",
   "metadata": {
    "ExecuteTime": {
     "start_time": "2024-02-14T15:51:36.915Z"
    }
   },
   "outputs": [],
   "source": [
    "actual_executed_trades_prices = obccagfu.compute_buy_sell_prices_by_bar(\n",
    "    ccxt_executed_trades_df, \"1s\", offset=\"0s\", groupby_id_col=\"asset_id\"\n",
    ")"
   ]
  },
  {
   "cell_type": "code",
   "execution_count": null,
   "id": "756bc725",
   "metadata": {
    "ExecuteTime": {
     "start_time": "2024-02-14T15:51:36.915Z"
    }
   },
   "outputs": [],
   "source": [
    "actual_vs_sim_trade_price_resampling_freq = \"5T\""
   ]
  },
  {
   "cell_type": "code",
   "execution_count": null,
   "id": "add9d341",
   "metadata": {
    "ExecuteTime": {
     "start_time": "2024-02-14T15:51:36.915Z"
    }
   },
   "outputs": [],
   "source": [
    "simulated_and_actual_trade_price_df = obccagfu.combine_sim_and_actual_trades(\n",
    "    simulated_execution_df,\n",
    "    ccxt_executed_trades_df,\n",
    "    actual_vs_sim_trade_price_resampling_freq,\n",
    "    offset=\"8s\",\n",
    ")\n",
    "simulated_and_actual_trade_price_df.head(3)"
   ]
  },
  {
   "cell_type": "code",
   "execution_count": null,
   "id": "fabb796a",
   "metadata": {
    "ExecuteTime": {
     "start_time": "2024-02-14T15:51:36.916Z"
    }
   },
   "outputs": [],
   "source": [
    "cofinanc.get_asset_slice(simulated_and_actual_trade_price_df, test_asset_id)[\n",
    "    [\"actual_buy_trade_price\", \"simulated_buy_trade_price\"]\n",
    "].dropna(how=\"all\")"
   ]
  },
  {
   "cell_type": "code",
   "execution_count": null,
   "id": "88125aa9",
   "metadata": {
    "ExecuteTime": {
     "start_time": "2024-02-14T15:51:36.916Z"
    }
   },
   "outputs": [],
   "source": [
    "cofinanc.get_asset_slice(simulated_and_actual_trade_price_df, test_asset_id)[\n",
    "    [\"actual_sell_trade_price\", \"simulated_sell_trade_price\"]\n",
    "].dropna(how=\"all\")"
   ]
  },
  {
   "cell_type": "code",
   "execution_count": null,
   "id": "f5368db0",
   "metadata": {
    "ExecuteTime": {
     "start_time": "2024-02-14T15:51:36.917Z"
    }
   },
   "outputs": [],
   "source": [
    "execution_quality_node = dtfcore.GroupedColDfToDfTransformer(\n",
    "    \"execution_quality\",\n",
    "    transformer_func=cofinanc.compute_ref_price_execution_quality,\n",
    "    **{\n",
    "        \"in_col_groups\": [\n",
    "            (\"actual_buy_trade_price\",),\n",
    "            (\"actual_sell_trade_price\",),\n",
    "            (\"simulated_buy_trade_price\",),\n",
    "            (\"simulated_sell_trade_price\",),\n",
    "        ],\n",
    "        \"out_col_group\": (),\n",
    "        \"transformer_kwargs\": {\n",
    "            \"buy_trade_reference_price_col\": \"simulated_buy_trade_price\",\n",
    "            \"sell_trade_reference_price_col\": \"simulated_sell_trade_price\",\n",
    "            \"buy_trade_price_col\": \"actual_buy_trade_price\",\n",
    "            \"sell_trade_price_col\": \"actual_sell_trade_price\",\n",
    "        },\n",
    "    },\n",
    ")"
   ]
  },
  {
   "cell_type": "code",
   "execution_count": null,
   "id": "0fe7e6ca",
   "metadata": {
    "ExecuteTime": {
     "start_time": "2024-02-14T15:51:36.917Z"
    }
   },
   "outputs": [],
   "source": [
    "sim_vs_actual_execution_quality_df = execution_quality_node.fit(\n",
    "    simulated_and_actual_trade_price_df\n",
    ")[\"df_out\"]"
   ]
  },
  {
   "cell_type": "code",
   "execution_count": null,
   "id": "ac217e00",
   "metadata": {
    "ExecuteTime": {
     "start_time": "2024-02-14T15:51:36.917Z"
    }
   },
   "outputs": [],
   "source": [
    "sim_vs_actual_execution_quality_df.columns.levels[0].to_list()"
   ]
  },
  {
   "cell_type": "code",
   "execution_count": null,
   "id": "a981bf3d",
   "metadata": {
    "ExecuteTime": {
     "start_time": "2024-02-14T15:51:36.918Z"
    }
   },
   "outputs": [],
   "source": [
    "cofinanc.get_asset_slice(sim_vs_actual_execution_quality_df, test_asset_id)"
   ]
  },
  {
   "cell_type": "code",
   "execution_count": null,
   "id": "282ae3db",
   "metadata": {
    "ExecuteTime": {
     "start_time": "2024-02-14T15:51:36.918Z"
    }
   },
   "outputs": [],
   "source": [
    "col = \"buy_trade_slippage_bps\"\n",
    "coplotti.plot_boxplot(\n",
    "    sim_vs_actual_execution_quality_df[col], \"by_col\", ylabel=col\n",
    ")"
   ]
  },
  {
   "cell_type": "code",
   "execution_count": null,
   "id": "d9bd332f",
   "metadata": {
    "ExecuteTime": {
     "start_time": "2024-02-14T15:51:36.919Z"
    }
   },
   "outputs": [],
   "source": [
    "sim_vs_actual_execution_quality_df[\"buy_trade_slippage_bps\"].unstack().hist(\n",
    "    bins=31\n",
    ")"
   ]
  },
  {
   "cell_type": "code",
   "execution_count": null,
   "id": "2349ae12",
   "metadata": {
    "ExecuteTime": {
     "start_time": "2024-02-14T15:51:36.919Z"
    }
   },
   "outputs": [],
   "source": [
    "col = \"sell_trade_slippage_bps\"\n",
    "coplotti.plot_boxplot(\n",
    "    sim_vs_actual_execution_quality_df[col], \"by_col\", ylabel=col\n",
    ")"
   ]
  },
  {
   "cell_type": "code",
   "execution_count": null,
   "id": "481cfbdd",
   "metadata": {
    "ExecuteTime": {
     "start_time": "2024-02-14T15:51:36.919Z"
    },
    "lines_to_next_cell": 2
   },
   "outputs": [],
   "source": [
    "sim_vs_actual_execution_quality_df[\"sell_trade_slippage_bps\"].unstack().hist(\n",
    "    bins=31\n",
    ")"
   ]
  },
  {
   "cell_type": "markdown",
   "id": "1b6225d5",
   "metadata": {
    "lines_to_next_cell": 2
   },
   "source": [
    "# Simulate limit order generation and trades\n",
    "\n",
    "- Specify buy/sell aggressiveness parameters\n",
    "- Specify repricing frequency and time-in-force\n",
    "- Simulate average execution prices and percentage of bars filled"
   ]
  },
  {
   "cell_type": "code",
   "execution_count": null,
   "id": "9dc22f57",
   "metadata": {
    "ExecuteTime": {
     "start_time": "2024-02-14T15:51:36.920Z"
    }
   },
   "outputs": [],
   "source": [
    "dag_builder = dtfpexexpi.ExecutionPipeline()\n",
    "#\n",
    "config = dag_builder.get_config_template()\n",
    "# Set up `overwrite` mode to allow reassignment of values.\n",
    "# Note: by default the `update_mode` does not allow overwrites,\n",
    "# but they are required by the FeaturePipeline.\n",
    "config.update_mode = \"overwrite\"\n",
    "_LOG.debug(\"config from dag_builder=%s\", config)\n",
    "# Initialize config.\n",
    "config[\"load_data\"] = cconfig.Config.from_dict(\n",
    "    {\n",
    "        \"source_node_name\": \"FunctionDataSource\",\n",
    "        \"source_node_kwargs\": {\n",
    "            \"func\": get_data,\n",
    "        },\n",
    "    }\n",
    ")\n",
    "config[\"resample\", \"transformer_kwargs\", \"rule\"] = \"1T\"\n",
    "config[\"resample\", \"transformer_kwargs\", \"resample_kwargs\", \"offset\"] = \"8s\"\n",
    "config[\n",
    "    \"generate_limit_orders\", \"transformer_kwargs\", \"buy_spread_frac_offset\"\n",
    "] = 0.45\n",
    "config[\n",
    "    \"generate_limit_orders\", \"transformer_kwargs\", \"sell_spread_frac_offset\"\n",
    "] = -0.45\n",
    "config[\"generate_limit_orders\", \"transformer_kwargs\", \"subsample_freq\"] = \"60s\"\n",
    "config[\"generate_limit_orders\", \"transformer_kwargs\", \"freq_offset\"] = \"9s\"\n",
    "config[\"generate_limit_orders\", \"transformer_kwargs\", \"ffill_limit\"] = 59\n",
    "\n",
    "#\n",
    "_LOG.debug(\"config after patching=%s\", config)\n",
    "dag = dag_builder.get_dag(config)"
   ]
  },
  {
   "cell_type": "code",
   "execution_count": null,
   "id": "cd329172",
   "metadata": {
    "ExecuteTime": {
     "start_time": "2024-02-14T15:51:36.920Z"
    }
   },
   "outputs": [],
   "source": [
    "bid_ask_sim_flow_df = dag.run_leq_node(\n",
    "    \"compute_trade_vs_limit_execution_quality\", \"fit\"\n",
    ")[\"df_out\"]"
   ]
  },
  {
   "cell_type": "code",
   "execution_count": null,
   "id": "d1c42bae",
   "metadata": {
    "ExecuteTime": {
     "start_time": "2024-02-14T15:51:36.921Z"
    }
   },
   "outputs": [],
   "source": [
    "bid_ask_sim_flow_df.columns.levels[0].to_list()"
   ]
  },
  {
   "cell_type": "code",
   "execution_count": null,
   "id": "80b5dcb2",
   "metadata": {
    "ExecuteTime": {
     "start_time": "2024-02-14T15:51:36.921Z"
    }
   },
   "outputs": [],
   "source": [
    "test_asset_df = cofinanc.get_asset_slice(bid_ask_sim_flow_df, test_asset_id)\n",
    "test_asset_df[\n",
    "    [\n",
    "        \"bid_price\",\n",
    "        \"ask_price\",\n",
    "        \"buy_order_num\",\n",
    "        \"buy_trade_price\",\n",
    "        \"buy_limit_order_price\",\n",
    "    ]\n",
    "]"
   ]
  },
  {
   "cell_type": "code",
   "execution_count": null,
   "id": "b82b43f5",
   "metadata": {
    "ExecuteTime": {
     "start_time": "2024-02-14T15:51:36.922Z"
    }
   },
   "outputs": [],
   "source": [
    "bid_ask_sim_flow_df.head(3)"
   ]
  },
  {
   "cell_type": "code",
   "execution_count": null,
   "id": "11185cac",
   "metadata": {
    "ExecuteTime": {
     "start_time": "2024-02-14T15:51:36.922Z"
    }
   },
   "outputs": [],
   "source": [
    "cofinanc.get_asset_slice(bid_ask_sim_flow_df, test_asset_id)[\n",
    "    [\"buy_trade_price\", \"sell_trade_price\"]\n",
    "].plot()"
   ]
  },
  {
   "cell_type": "code",
   "execution_count": null,
   "id": "be7c8bfa",
   "metadata": {
    "ExecuteTime": {
     "start_time": "2024-02-14T15:51:36.922Z"
    }
   },
   "outputs": [],
   "source": [
    "cofinanc.get_asset_slice(bid_ask_sim_flow_df, test_asset_id).head(3)"
   ]
  },
  {
   "cell_type": "code",
   "execution_count": null,
   "id": "22191f51",
   "metadata": {
    "ExecuteTime": {
     "start_time": "2024-02-14T15:51:36.923Z"
    }
   },
   "outputs": [],
   "source": [
    "test_asset_simulated_prices = cofinanc.get_asset_slice(\n",
    "    bid_ask_sim_flow_df, test_asset_id\n",
    ")\n",
    "test_asset_simulated_prices[active_cols].dropna(how=\"all\").plot()"
   ]
  },
  {
   "cell_type": "code",
   "execution_count": null,
   "id": "35ee3ad7",
   "metadata": {
    "ExecuteTime": {
     "start_time": "2024-02-14T15:51:36.923Z"
    }
   },
   "outputs": [],
   "source": [
    "costatis.compute_moments(\n",
    "    bid_ask_sim_flow_df[\"buy_trade_limit_slippage_bps\"].unstack()\n",
    ")"
   ]
  },
  {
   "cell_type": "code",
   "execution_count": null,
   "id": "be7834ab",
   "metadata": {
    "ExecuteTime": {
     "start_time": "2024-02-14T15:51:36.924Z"
    }
   },
   "outputs": [],
   "source": [
    "costatis.compute_moments(\n",
    "    bid_ask_sim_flow_df[\"sell_trade_limit_slippage_bps\"].unstack()\n",
    ")"
   ]
  },
  {
   "cell_type": "markdown",
   "id": "0ff5e882",
   "metadata": {},
   "source": [
    "# Compare simulated limit orders and actual limit orders"
   ]
  },
  {
   "cell_type": "code",
   "execution_count": null,
   "id": "974a2a3e",
   "metadata": {
    "ExecuteTime": {
     "start_time": "2024-02-14T15:51:36.924Z"
    }
   },
   "outputs": [],
   "source": [
    "simulated_buy_limits = bid_ask_sim_flow_df[\"buy_limit_order_price\"]\n",
    "simulated_buy_limits.head(3)"
   ]
  },
  {
   "cell_type": "code",
   "execution_count": null,
   "id": "6c5a0886",
   "metadata": {
    "ExecuteTime": {
     "start_time": "2024-02-14T15:51:36.924Z"
    }
   },
   "outputs": [],
   "source": [
    "actual_buy_limits = in_df[\"buy_limit_order_price\"]\n",
    "actual_buy_limits.head(3)"
   ]
  },
  {
   "cell_type": "code",
   "execution_count": null,
   "id": "fd36f3c1",
   "metadata": {
    "ExecuteTime": {
     "start_time": "2024-02-14T15:51:36.925Z"
    }
   },
   "outputs": [],
   "source": [
    "lim_vs_lim = pd.concat(\n",
    "    {\n",
    "        \"simulated_buy_limit\": simulated_buy_limits,\n",
    "        \"actual_buy_limit\": actual_buy_limits.resample(\n",
    "            \"1T\", offset=\"8s\", closed=\"right\", label=\"right\"\n",
    "        ).mean(),\n",
    "    },\n",
    "    axis=1,\n",
    ")"
   ]
  },
  {
   "cell_type": "code",
   "execution_count": null,
   "id": "cc821df5",
   "metadata": {
    "ExecuteTime": {
     "start_time": "2024-02-14T15:51:36.925Z"
    }
   },
   "outputs": [],
   "source": [
    "lim_vs_lim.columns.levels[1]"
   ]
  },
  {
   "cell_type": "code",
   "execution_count": null,
   "id": "b329a45c",
   "metadata": {
    "ExecuteTime": {
     "start_time": "2024-02-14T15:51:36.926Z"
    }
   },
   "outputs": [],
   "source": [
    "cofinanc.get_asset_slice(lim_vs_lim, lim_vs_lim.columns.levels[1][1]).dropna(\n",
    "    how=\"all\"\n",
    ").plot()"
   ]
  },
  {
   "cell_type": "code",
   "execution_count": null,
   "id": "d7bddf38",
   "metadata": {
    "ExecuteTime": {
     "start_time": "2024-02-14T15:51:36.926Z"
    }
   },
   "outputs": [],
   "source": [
    "cofinanc.get_asset_slice(lim_vs_lim, lim_vs_lim.columns.levels[1][0]).dropna(\n",
    "    how=\"all\"\n",
    ").plot()"
   ]
  },
  {
   "cell_type": "code",
   "execution_count": null,
   "id": "98009559",
   "metadata": {},
   "outputs": [],
   "source": []
  }
 ],
 "metadata": {
  "kernelspec": {
   "display_name": "Python 3 (ipykernel)",
   "language": "python",
   "name": "python3"
  },
  "language_info": {
   "codemirror_mode": {
    "name": "ipython",
    "version": 3
   },
   "file_extension": ".py",
   "mimetype": "text/x-python",
   "name": "python",
   "nbconvert_exporter": "python",
   "pygments_lexer": "ipython3",
   "version": "3.9.5"
  },
  "toc": {
   "base_numbering": 1,
   "nav_menu": {},
   "number_sections": true,
   "sideBar": true,
   "skip_h1_title": false,
   "title_cell": "Table of Contents",
   "title_sidebar": "Contents",
   "toc_cell": false,
   "toc_position": {},
   "toc_section_display": true,
   "toc_window_display": false
  }
 },
 "nbformat": 4,
 "nbformat_minor": 5
}
