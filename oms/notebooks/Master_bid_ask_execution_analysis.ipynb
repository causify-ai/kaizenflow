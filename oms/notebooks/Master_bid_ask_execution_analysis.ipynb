{
 "cells": [
  {
   "cell_type": "markdown",
   "id": "c922f450",
   "metadata": {},
   "source": [
    "# Description\n",
    "\n",
    "Use bid-ask data to analyze and simulate trading execution quality."
   ]
  },
  {
   "cell_type": "code",
   "execution_count": 21,
   "id": "a115ee44",
   "metadata": {
    "ExecuteTime": {
     "end_time": "2024-02-29T00:41:00.220673Z",
     "start_time": "2024-02-29T00:41:00.162295Z"
    }
   },
   "outputs": [
    {
     "name": "stdout",
     "output_type": "stream",
     "text": [
      "The autoreload extension is already loaded. To reload it, use:\n",
      "  %reload_ext autoreload\n"
     ]
    }
   ],
   "source": [
    "%load_ext autoreload\n",
    "%autoreload 2\n",
    "\n",
    "import logging\n",
    "\n",
    "import numpy as np\n",
    "import pandas as pd\n",
    "\n",
    "import core.config as cconfig\n",
    "import core.finance as cofinanc\n",
    "import core.plotting as coplotti\n",
    "import core.statistics as costatis\n",
    "import dataflow.core as dtfcore\n",
    "import dataflow.pipelines.execution.execution_pipeline as dtfpexexpi\n",
    "import dataflow_amp.system.Cx as dtfamsysc\n",
    "import helpers.hdbg as hdbg\n",
    "import helpers.henv as henv\n",
    "import helpers.hprint as hprint\n",
    "import oms.broker.ccxt.ccxt_aggregation_functions as obccagfu\n",
    "import oms.broker.ccxt.ccxt_execution_quality as obccexqu\n",
    "import oms.broker.ccxt.ccxt_logger as obcccclo"
   ]
  },
  {
   "cell_type": "code",
   "execution_count": 22,
   "id": "4a992fa4",
   "metadata": {
    "ExecuteTime": {
     "end_time": "2024-02-29T00:41:00.312765Z",
     "start_time": "2024-02-29T00:41:00.221876Z"
    }
   },
   "outputs": [
    {
     "name": "stdout",
     "output_type": "stream",
     "text": [
      "\u001b[0m\u001b[33mWARNING\u001b[0m: Logger already initialized: skipping\n",
      "\u001b[31m-----------------------------------------------------------------------------\n",
      "This code is not in sync with the container:\n",
      "code_version='1.12.0' != container_version='1.13.0'\n",
      "-----------------------------------------------------------------------------\n",
      "You need to:\n",
      "- merge origin/master into your branch with `invoke git_merge_master`\n",
      "- pull the latest container with `invoke docker_pull`\u001b[0m\n",
      "INFO  # Git\n",
      "  branch_name='master'\n",
      "  hash='e2a45a671'\n",
      "  # Last commits:\n",
      "    * e2a45a671 Sonya Nikiforova CmTask7274: Add backticks to hstring; remove deprecated (#699)    (  32 hours ago) Tue Feb 27 16:12:20 2024  (HEAD -> master, origin/SorrTask692_unit_test_get_session)\n",
      "    * d4fc942e5 Vlad     CmampTask7280_aws_CLI_doesn_t_work_in_Sorrentum_dev_tools_ARM_container (#673) (  34 hours ago) Tue Feb 27 14:54:14 2024           \n",
      "    * 2fd1b8127 GP Saggese Tweak doc                                                         (    2 days ago) Mon Feb 26 21:19:04 2024           \n",
      "# Machine info\n",
      "  system=Linux\n",
      "  node name=41aa7f54d8ff\n",
      "  release=6.6.12-linuxkit\n",
      "  version=#1 SMP Thu Feb  8 06:36:34 UTC 2024\n",
      "  machine=aarch64\n",
      "  processor=aarch64\n",
      "  cpu count=11\n",
      "  cpu freq=None\n",
      "  memory=svmem(total=8221937664, available=6985035776, percent=15.0, used=1026076672, free=3337617408, active=1745416192, inactive=2728845312, buffers=81600512, cached=3776643072, shared=2985984, slab=288108544)\n",
      "  disk usage=sdiskusage(total=62671097856, used=16694370304, free=42760011776, percent=28.1)\n",
      "# Packages\n",
      "  python: 3.9.5\n",
      "  cvxopt: 1.3.2\n",
      "  cvxpy: 1.4.2\n",
      "  gluonnlp: ?\n",
      "  gluonts: ?\n",
      "  joblib: 1.3.2\n",
      "  mxnet: ?\n",
      "  numpy: 1.26.0\n",
      "  pandas: 2.1.1\n",
      "  pyarrow: 14.0.2\n",
      "  scipy: 1.11.3\n",
      "  seaborn: 0.13.0\n",
      "  sklearn: 1.3.1\n",
      "  statsmodels: 0.14.0\n"
     ]
    }
   ],
   "source": [
    "hdbg.init_logger(verbosity=logging.INFO)\n",
    "\n",
    "_LOG = logging.getLogger(__name__)\n",
    "\n",
    "_LOG.info(\"%s\", henv.get_system_signature()[0])\n",
    "\n",
    "hprint.config_notebook()"
   ]
  },
  {
   "cell_type": "markdown",
   "id": "0e7e1255",
   "metadata": {},
   "source": [
    "# Config"
   ]
  },
  {
   "cell_type": "code",
   "execution_count": 23,
   "id": "2bf4943d",
   "metadata": {
    "ExecuteTime": {
     "end_time": "2024-02-29T00:41:00.333741Z",
     "start_time": "2024-02-29T00:41:00.313740Z"
    }
   },
   "outputs": [
    {
     "name": "stdout",
     "output_type": "stream",
     "text": [
      "meta: \n",
      "  use_historical: False\n",
      "universe: \n",
      "  test_asset_id: 1030828978\n",
      "execution_parameters: \n",
      "  bar_duration: 12T\n",
      "system_log_dir: /shared_data/ecs/test/system_reconciliation/C11a/prod/20240123_110000.20240123_154800/system_log_dir.manual/process_forecasts\n"
     ]
    }
   ],
   "source": [
    "config = cconfig.get_config_from_env()\n",
    "if config:\n",
    "    # Get config from env when running the notebook via the `run_notebook.py` script, e.g.,\n",
    "    # in the system reconciliation flow.\n",
    "    _LOG.info(\"Using config from env vars\")\n",
    "else:\n",
    "    system_log_dir = \"/shared_data/ecs/test/system_reconciliation/C11a/prod/20240123_110000.20240123_154800/system_log_dir.manual/process_forecasts\"\n",
    "    use_historical = False\n",
    "    bar_duration = \"12T\"\n",
    "    test_asset_id = 1030828978\n",
    "    config_dict = {\n",
    "        \"meta\": {\"use_historical\": use_historical},\n",
    "        \"universe\": {\"test_asset_id\": test_asset_id},\n",
    "        \"execution_parameters\": {\"bar_duration\": bar_duration},\n",
    "        \"system_log_dir\": system_log_dir,\n",
    "    }\n",
    "    config = cconfig.Config.from_dict(config_dict)\n",
    "print(config)"
   ]
  },
  {
   "cell_type": "code",
   "execution_count": 39,
   "id": "80ea30bd",
   "metadata": {
    "ExecuteTime": {
     "end_time": "2024-02-29T01:30:27.348516Z",
     "start_time": "2024-02-29T01:30:27.198629Z"
    }
   },
   "outputs": [],
   "source": [
    "system_log_dir = config[\"system_log_dir\"]\n",
    "bar_duration = config.get_and_mark_as_used(\n",
    "    (\"execution_parameters\", \"bar_duration\")\n",
    ")\n",
    "test_asset_id = config.get_and_mark_as_used((\"universe\", \"test_asset_id\"))\n",
    "id_col = \"asset_id\"\n",
    "# TODO(Sonaal): This should become an attribute for order.\n",
    "child_order_execution_freq = \"1T\"\n",
    "resample_freq = \"100ms\""
   ]
  },
  {
   "cell_type": "code",
   "execution_count": 40,
   "id": "77365a7f",
   "metadata": {
    "ExecuteTime": {
     "end_time": "2024-02-29T01:30:29.796563Z",
     "start_time": "2024-02-29T01:30:29.697987Z"
    }
   },
   "outputs": [
    {
     "ename": "AssertionError",
     "evalue": "\n################################################################################\n* Failed assertion *\nPath '/shared_data/ecs/test/system_reconciliation/C11a/prod/20240123_110000.20240123_154800/system_log_dir.manual/process_forecasts' doesn't exist!\n################################################################################\n",
     "output_type": "error",
     "traceback": [
      "\u001b[0;31m---------------------------------------------------------------------------\u001b[0m",
      "\u001b[0;31mAssertionError\u001b[0m                            Traceback (most recent call last)",
      "Cell \u001b[0;32mIn[40], line 1\u001b[0m\n\u001b[0;32m----> 1\u001b[0m ccxt_log_reader \u001b[38;5;241m=\u001b[39m \u001b[43mobcccclo\u001b[49m\u001b[38;5;241;43m.\u001b[39;49m\u001b[43mCcxtLogger\u001b[49m\u001b[43m(\u001b[49m\u001b[43msystem_log_dir\u001b[49m\u001b[43m)\u001b[49m\n\u001b[1;32m      2\u001b[0m data \u001b[38;5;241m=\u001b[39m ccxt_log_reader\u001b[38;5;241m.\u001b[39mload_all_data(\n\u001b[1;32m      3\u001b[0m     convert_to_dataframe\u001b[38;5;241m=\u001b[39m\u001b[38;5;28;01mTrue\u001b[39;00m, abort_on_missing_data\u001b[38;5;241m=\u001b[39m\u001b[38;5;28;01mFalse\u001b[39;00m\n\u001b[1;32m      4\u001b[0m )\n",
      "File \u001b[0;32m/app/oms/broker/ccxt/ccxt_logger.py:143\u001b[0m, in \u001b[0;36mCcxtLogger.__init__\u001b[0;34m(self, log_dir, mode)\u001b[0m\n\u001b[1;32m    125\u001b[0m     fields \u001b[38;5;241m=\u001b[39m [\n\u001b[1;32m    126\u001b[0m         \u001b[38;5;124m\"\u001b[39m\u001b[38;5;124margs\u001b[39m\u001b[38;5;124m\"\u001b[39m,\n\u001b[1;32m    127\u001b[0m         \u001b[38;5;124m\"\u001b[39m\u001b[38;5;124mbroker_config\u001b[39m\u001b[38;5;124m\"\u001b[39m,\n\u001b[0;32m   (...)\u001b[0m\n\u001b[1;32m    140\u001b[0m         \u001b[38;5;124m\"\u001b[39m\u001b[38;5;124mreduce_only_child_orders\u001b[39m\u001b[38;5;124m\"\u001b[39m,\n\u001b[1;32m    141\u001b[0m     ]\n\u001b[1;32m    142\u001b[0m     \u001b[38;5;28mself\u001b[39m\u001b[38;5;241m.\u001b[39m_has_data \u001b[38;5;241m=\u001b[39m {field: \u001b[38;5;28;01mFalse\u001b[39;00m \u001b[38;5;28;01mfor\u001b[39;00m field \u001b[38;5;129;01min\u001b[39;00m fields}\n\u001b[0;32m--> 143\u001b[0m     \u001b[38;5;28;43mself\u001b[39;49m\u001b[38;5;241;43m.\u001b[39;49m\u001b[43m_init_log_subdirectories\u001b[49m\u001b[43m(\u001b[49m\u001b[43m)\u001b[49m\n\u001b[1;32m    144\u001b[0m \u001b[38;5;66;03m# We aim to log the initial exchange position once and avoid redundant\u001b[39;00m\n\u001b[1;32m    145\u001b[0m \u001b[38;5;66;03m# position logging. This strategy simplifies the process of mock/replay\u001b[39;00m\n\u001b[1;32m    146\u001b[0m \u001b[38;5;66;03m# for the exchange, as position updates are based on the executed\u001b[39;00m\n\u001b[1;32m    147\u001b[0m \u001b[38;5;66;03m# orders rather than continuous logging. By reducing the frequency of\u001b[39;00m\n\u001b[1;32m    148\u001b[0m \u001b[38;5;66;03m# position logging, we enhance logging efficiency and streamline\u001b[39;00m\n\u001b[1;32m    149\u001b[0m \u001b[38;5;66;03m# debugging when replaying exchange scenarios.\u001b[39;00m\n\u001b[1;32m    150\u001b[0m \u001b[38;5;28mself\u001b[39m\u001b[38;5;241m.\u001b[39m_enable_positions_logging \u001b[38;5;241m=\u001b[39m \u001b[38;5;28;01mTrue\u001b[39;00m\n",
      "File \u001b[0;32m/app/oms/broker/ccxt/ccxt_logger.py:1476\u001b[0m, in \u001b[0;36mCcxtLogger._init_log_subdirectories\u001b[0;34m(self)\u001b[0m\n\u001b[1;32m   1472\u001b[0m     _LOG\u001b[38;5;241m.\u001b[39minfo(\n\u001b[1;32m   1473\u001b[0m         \u001b[38;5;124m\"\u001b[39m\u001b[38;5;124mNo log directory provided, loading log files is impossible.\u001b[39m\u001b[38;5;124m\"\u001b[39m\n\u001b[1;32m   1474\u001b[0m     )\n\u001b[1;32m   1475\u001b[0m     \u001b[38;5;28;01mreturn\u001b[39;00m\n\u001b[0;32m-> 1476\u001b[0m \u001b[43mhdbg\u001b[49m\u001b[38;5;241;43m.\u001b[39;49m\u001b[43mdassert_path_exists\u001b[49m\u001b[43m(\u001b[49m\u001b[38;5;28;43mself\u001b[39;49m\u001b[38;5;241;43m.\u001b[39;49m\u001b[43m_log_dir\u001b[49m\u001b[43m)\u001b[49m\n\u001b[1;32m   1477\u001b[0m \u001b[38;5;66;03m# Check if the broker config is saved.\u001b[39;00m\n\u001b[1;32m   1478\u001b[0m \u001b[38;5;66;03m# The presence of the config is not strictly enforced since earlier\u001b[39;00m\n\u001b[1;32m   1479\u001b[0m \u001b[38;5;66;03m# experiments did not dump the config data.\u001b[39;00m\n\u001b[1;32m   1480\u001b[0m broker_config_file \u001b[38;5;241m=\u001b[39m os\u001b[38;5;241m.\u001b[39mpath\u001b[38;5;241m.\u001b[39mjoin(\u001b[38;5;28mself\u001b[39m\u001b[38;5;241m.\u001b[39m_log_dir, \u001b[38;5;28mself\u001b[39m\u001b[38;5;241m.\u001b[39mBROKER_CONFIG)\n",
      "File \u001b[0;32m/app/helpers/hdbg.py:754\u001b[0m, in \u001b[0;36mdassert_path_exists\u001b[0;34m(path, msg, only_warning, *args)\u001b[0m\n\u001b[1;32m    752\u001b[0m \u001b[38;5;28;01mif\u001b[39;00m \u001b[38;5;129;01mnot\u001b[39;00m os\u001b[38;5;241m.\u001b[39mpath\u001b[38;5;241m.\u001b[39mexists(path):\n\u001b[1;32m    753\u001b[0m     txt \u001b[38;5;241m=\u001b[39m \u001b[38;5;124mf\u001b[39m\u001b[38;5;124m\"\u001b[39m\u001b[38;5;124mPath \u001b[39m\u001b[38;5;124m'\u001b[39m\u001b[38;5;132;01m{\u001b[39;00mpath\u001b[38;5;132;01m}\u001b[39;00m\u001b[38;5;124m'\u001b[39m\u001b[38;5;124m doesn\u001b[39m\u001b[38;5;124m'\u001b[39m\u001b[38;5;124mt exist!\u001b[39m\u001b[38;5;124m\"\u001b[39m\n\u001b[0;32m--> 754\u001b[0m     \u001b[43m_dfatal\u001b[49m\u001b[43m(\u001b[49m\u001b[43mtxt\u001b[49m\u001b[43m,\u001b[49m\u001b[43m \u001b[49m\u001b[43mmsg\u001b[49m\u001b[43m,\u001b[49m\u001b[43m \u001b[49m\u001b[38;5;241;43m*\u001b[39;49m\u001b[43margs\u001b[49m\u001b[43m,\u001b[49m\u001b[43m \u001b[49m\u001b[43monly_warning\u001b[49m\u001b[38;5;241;43m=\u001b[39;49m\u001b[43monly_warning\u001b[49m\u001b[43m)\u001b[49m\n",
      "File \u001b[0;32m/app/helpers/hdbg.py:142\u001b[0m, in \u001b[0;36m_dfatal\u001b[0;34m(txt, msg, only_warning, *args)\u001b[0m\n\u001b[1;32m    139\u001b[0m     _LOG\u001b[38;5;241m.\u001b[39mwarning(dfatal_txt)\n\u001b[1;32m    140\u001b[0m \u001b[38;5;28;01melse\u001b[39;00m:\n\u001b[1;32m    141\u001b[0m     \u001b[38;5;66;03m# Abort.\u001b[39;00m\n\u001b[0;32m--> 142\u001b[0m     \u001b[43mdfatal\u001b[49m\u001b[43m(\u001b[49m\u001b[43mdfatal_txt\u001b[49m\u001b[43m)\u001b[49m\n",
      "File \u001b[0;32m/app/helpers/hdbg.py:71\u001b[0m, in \u001b[0;36mdfatal\u001b[0;34m(message, assertion_type)\u001b[0m\n\u001b[1;32m     69\u001b[0m \u001b[38;5;28;01mif\u001b[39;00m assertion_type \u001b[38;5;129;01mis\u001b[39;00m \u001b[38;5;28;01mNone\u001b[39;00m:\n\u001b[1;32m     70\u001b[0m     assertion_type \u001b[38;5;241m=\u001b[39m \u001b[38;5;167;01mAssertionError\u001b[39;00m\n\u001b[0;32m---> 71\u001b[0m \u001b[38;5;28;01mraise\u001b[39;00m assertion_type(ret)\n",
      "\u001b[0;31mAssertionError\u001b[0m: \n################################################################################\n* Failed assertion *\nPath '/shared_data/ecs/test/system_reconciliation/C11a/prod/20240123_110000.20240123_154800/system_log_dir.manual/process_forecasts' doesn't exist!\n################################################################################\n"
     ]
    }
   ],
   "source": [
    "ccxt_log_reader = obcccclo.CcxtLogger(system_log_dir)\n",
    "data = ccxt_log_reader.load_all_data(\n",
    "    convert_to_dataframe=True, abort_on_missing_data=False\n",
    ")"
   ]
  },
  {
   "cell_type": "code",
   "execution_count": 26,
   "id": "de318c12",
   "metadata": {
    "ExecuteTime": {
     "end_time": "2024-02-29T00:41:16.792698Z",
     "start_time": "2024-02-29T00:41:16.719619Z"
    }
   },
   "outputs": [
    {
     "ename": "NameError",
     "evalue": "name 'data' is not defined",
     "output_type": "error",
     "traceback": [
      "\u001b[0;31m---------------------------------------------------------------------------\u001b[0m",
      "\u001b[0;31mNameError\u001b[0m                                 Traceback (most recent call last)",
      "Cell \u001b[0;32mIn[26], line 2\u001b[0m\n\u001b[1;32m      1\u001b[0m \u001b[38;5;66;03m# Print the Broker config.\u001b[39;00m\n\u001b[0;32m----> 2\u001b[0m \u001b[38;5;28;01mif\u001b[39;00m \u001b[38;5;124m\"\u001b[39m\u001b[38;5;124mbroker_config\u001b[39m\u001b[38;5;124m\"\u001b[39m \u001b[38;5;129;01min\u001b[39;00m \u001b[43mdata\u001b[49m:\n\u001b[1;32m      3\u001b[0m     \u001b[38;5;28mprint\u001b[39m(hprint\u001b[38;5;241m.\u001b[39mto_pretty_str(data[\u001b[38;5;124m\"\u001b[39m\u001b[38;5;124mbroker_config\u001b[39m\u001b[38;5;124m\"\u001b[39m]))\n\u001b[1;32m      4\u001b[0m \u001b[38;5;28;01melse\u001b[39;00m:\n",
      "\u001b[0;31mNameError\u001b[0m: name 'data' is not defined"
     ]
    }
   ],
   "source": [
    "# Print the Broker config.\n",
    "if \"broker_config\" in data:\n",
    "    print(hprint.to_pretty_str(data[\"broker_config\"]))\n",
    "else:\n",
    "    _LOG.warning(\"broker_config file not present in %s\", system_log_dir)"
   ]
  },
  {
   "cell_type": "code",
   "execution_count": 27,
   "id": "e54dd0ac",
   "metadata": {
    "ExecuteTime": {
     "end_time": "2024-02-29T00:41:20.271915Z",
     "start_time": "2024-02-29T00:41:20.205519Z"
    }
   },
   "outputs": [
    {
     "name": "stdout",
     "output_type": "stream",
     "text": [
      "INFO  Loading config from /shared_data/ecs/test/system_reconciliation/C11a/prod/20240123_110000.20240123_154800/system_log_dir.manual/system_config.output.values_as_strings.pkl\n",
      "WARNING Config file /shared_data/ecs/test/system_reconciliation/C11a/prod/20240123_110000.20240123_154800/system_log_dir.manual/system_config.output.values_as_strings.pkl does not exist\n",
      "None\n"
     ]
    }
   ],
   "source": [
    "# Print the used Config, if any.\n",
    "experiment_config = obcccclo.load_config_for_execution_analysis(system_log_dir)\n",
    "print(experiment_config)"
   ]
  },
  {
   "cell_type": "code",
   "execution_count": 28,
   "id": "f6a0d814",
   "metadata": {
    "ExecuteTime": {
     "end_time": "2024-02-29T00:41:22.903962Z",
     "start_time": "2024-02-29T00:41:22.835537Z"
    }
   },
   "outputs": [],
   "source": [
    "# Use historical data for experiment runs older than 48h.\n",
    "use_historical = config[\"meta\"][\"use_historical\"]"
   ]
  },
  {
   "cell_type": "code",
   "execution_count": 29,
   "id": "5a0608b6",
   "metadata": {
    "ExecuteTime": {
     "end_time": "2024-02-29T00:41:23.278089Z",
     "start_time": "2024-02-29T00:41:23.236114Z"
    }
   },
   "outputs": [],
   "source": [
    "# Colums containing price data for analysis.\n",
    "active_cols = [\"buy_limit_order_price\", \"buy_trade_price\"]"
   ]
  },
  {
   "cell_type": "markdown",
   "id": "eb450715",
   "metadata": {},
   "source": [
    "# Load data"
   ]
  },
  {
   "cell_type": "markdown",
   "id": "8590ed45",
   "metadata": {},
   "source": [
    "## Load CCXT data"
   ]
  },
  {
   "cell_type": "code",
   "execution_count": 30,
   "id": "591b3fb9",
   "metadata": {
    "ExecuteTime": {
     "end_time": "2024-02-29T00:41:27.125932Z",
     "start_time": "2024-02-29T00:41:27.051921Z"
    }
   },
   "outputs": [
    {
     "ename": "NameError",
     "evalue": "name 'data' is not defined",
     "output_type": "error",
     "traceback": [
      "\u001b[0;31m---------------------------------------------------------------------------\u001b[0m",
      "\u001b[0;31mNameError\u001b[0m                                 Traceback (most recent call last)",
      "Cell \u001b[0;32mIn[30], line 1\u001b[0m\n\u001b[0;32m----> 1\u001b[0m ccxt_order_response_df \u001b[38;5;241m=\u001b[39m \u001b[43mdata\u001b[49m[\u001b[38;5;124m\"\u001b[39m\u001b[38;5;124mccxt_order_responses\u001b[39m\u001b[38;5;124m\"\u001b[39m]\n\u001b[1;32m      2\u001b[0m ccxt_executed_trades_df \u001b[38;5;241m=\u001b[39m data[\u001b[38;5;124m\"\u001b[39m\u001b[38;5;124mccxt_trades\u001b[39m\u001b[38;5;124m\"\u001b[39m]\n",
      "\u001b[0;31mNameError\u001b[0m: name 'data' is not defined"
     ]
    }
   ],
   "source": [
    "ccxt_order_response_df = data[\"ccxt_order_responses\"]\n",
    "ccxt_executed_trades_df = data[\"ccxt_trades\"]"
   ]
  },
  {
   "cell_type": "code",
   "execution_count": 31,
   "id": "2fd270aa",
   "metadata": {
    "ExecuteTime": {
     "end_time": "2024-02-29T00:41:27.800858Z",
     "start_time": "2024-02-29T00:41:27.751494Z"
    }
   },
   "outputs": [
    {
     "ename": "NameError",
     "evalue": "name 'ccxt_order_response_df' is not defined",
     "output_type": "error",
     "traceback": [
      "\u001b[0;31m---------------------------------------------------------------------------\u001b[0m",
      "\u001b[0;31mNameError\u001b[0m                                 Traceback (most recent call last)",
      "Cell \u001b[0;32mIn[31], line 1\u001b[0m\n\u001b[0;32m----> 1\u001b[0m \u001b[43mccxt_order_response_df\u001b[49m\u001b[38;5;241m.\u001b[39mhead(\u001b[38;5;241m3\u001b[39m)\n",
      "\u001b[0;31mNameError\u001b[0m: name 'ccxt_order_response_df' is not defined"
     ]
    }
   ],
   "source": [
    "ccxt_order_response_df.head(3)"
   ]
  },
  {
   "cell_type": "code",
   "execution_count": 32,
   "id": "83840aaf",
   "metadata": {
    "ExecuteTime": {
     "end_time": "2024-02-29T00:41:28.642742Z",
     "start_time": "2024-02-29T00:41:28.569360Z"
    }
   },
   "outputs": [
    {
     "ename": "NameError",
     "evalue": "name 'ccxt_executed_trades_df' is not defined",
     "output_type": "error",
     "traceback": [
      "\u001b[0;31m---------------------------------------------------------------------------\u001b[0m",
      "\u001b[0;31mNameError\u001b[0m                                 Traceback (most recent call last)",
      "Cell \u001b[0;32mIn[32], line 1\u001b[0m\n\u001b[0;32m----> 1\u001b[0m \u001b[43mccxt_executed_trades_df\u001b[49m\u001b[38;5;241m.\u001b[39mhead(\u001b[38;5;241m3\u001b[39m)\n",
      "\u001b[0;31mNameError\u001b[0m: name 'ccxt_executed_trades_df' is not defined"
     ]
    }
   ],
   "source": [
    "ccxt_executed_trades_df.head(3)"
   ]
  },
  {
   "cell_type": "code",
   "execution_count": 33,
   "id": "565372d5",
   "metadata": {
    "ExecuteTime": {
     "end_time": "2024-02-29T00:41:31.172800Z",
     "start_time": "2024-02-29T00:41:31.101211Z"
    }
   },
   "outputs": [
    {
     "ename": "NameError",
     "evalue": "name 'data' is not defined",
     "output_type": "error",
     "traceback": [
      "\u001b[0;31m---------------------------------------------------------------------------\u001b[0m",
      "\u001b[0;31mNameError\u001b[0m                                 Traceback (most recent call last)",
      "Cell \u001b[0;32mIn[33], line 1\u001b[0m\n\u001b[0;32m----> 1\u001b[0m oms_child_order_df \u001b[38;5;241m=\u001b[39m \u001b[43mdata\u001b[49m[\u001b[38;5;124m\"\u001b[39m\u001b[38;5;124moms_child_orders\u001b[39m\u001b[38;5;124m\"\u001b[39m]\n",
      "\u001b[0;31mNameError\u001b[0m: name 'data' is not defined"
     ]
    }
   ],
   "source": [
    "oms_child_order_df = data[\"oms_child_orders\"]"
   ]
  },
  {
   "cell_type": "code",
   "execution_count": 34,
   "id": "7b2f041d",
   "metadata": {
    "ExecuteTime": {
     "end_time": "2024-02-29T00:41:34.298889Z",
     "start_time": "2024-02-29T00:41:34.222138Z"
    }
   },
   "outputs": [
    {
     "ename": "NameError",
     "evalue": "name 'oms_child_order_df' is not defined",
     "output_type": "error",
     "traceback": [
      "\u001b[0;31m---------------------------------------------------------------------------\u001b[0m",
      "\u001b[0;31mNameError\u001b[0m                                 Traceback (most recent call last)",
      "Cell \u001b[0;32mIn[34], line 1\u001b[0m\n\u001b[0;32m----> 1\u001b[0m \u001b[43moms_child_order_df\u001b[49m\u001b[38;5;241m.\u001b[39miloc[oms_child_order_df[\u001b[38;5;124m\"\u001b[39m\u001b[38;5;124mlatest_bid_price\u001b[39m\u001b[38;5;124m\"\u001b[39m]\u001b[38;5;241m.\u001b[39margmax()][\n\u001b[1;32m      2\u001b[0m     \u001b[38;5;124m\"\u001b[39m\u001b[38;5;124mextra_params\u001b[39m\u001b[38;5;124m\"\u001b[39m\n\u001b[1;32m      3\u001b[0m ][\u001b[38;5;124m\"\u001b[39m\u001b[38;5;124mstats\u001b[39m\u001b[38;5;124m\"\u001b[39m]\n",
      "\u001b[0;31mNameError\u001b[0m: name 'oms_child_order_df' is not defined"
     ]
    }
   ],
   "source": [
    "oms_child_order_df.iloc[oms_child_order_df[\"latest_bid_price\"].argmax()][\n",
    "    \"extra_params\"\n",
    "][\"stats\"]"
   ]
  },
  {
   "cell_type": "markdown",
   "id": "a7fedf5e",
   "metadata": {},
   "source": [
    "## Aggregate CCXT data"
   ]
  },
  {
   "cell_type": "code",
   "execution_count": 35,
   "id": "0bf18410",
   "metadata": {
    "ExecuteTime": {
     "end_time": "2024-02-29T00:41:38.583889Z",
     "start_time": "2024-02-29T00:41:38.509335Z"
    }
   },
   "outputs": [
    {
     "ename": "NameError",
     "evalue": "name 'ccxt_executed_trades_df' is not defined",
     "output_type": "error",
     "traceback": [
      "\u001b[0;31m---------------------------------------------------------------------------\u001b[0m",
      "\u001b[0;31mNameError\u001b[0m                                 Traceback (most recent call last)",
      "Cell \u001b[0;32mIn[35], line 3\u001b[0m\n\u001b[1;32m      1\u001b[0m \u001b[38;5;66;03m# Aggregated executed trades (fills) by bar.\u001b[39;00m\n\u001b[1;32m      2\u001b[0m executed_trades_prices \u001b[38;5;241m=\u001b[39m obccagfu\u001b[38;5;241m.\u001b[39mcompute_buy_sell_prices_by_bar(\n\u001b[0;32m----> 3\u001b[0m     \u001b[43mccxt_executed_trades_df\u001b[49m, bar_duration, groupby_id_col\u001b[38;5;241m=\u001b[39mid_col\n\u001b[1;32m      4\u001b[0m )\n",
      "\u001b[0;31mNameError\u001b[0m: name 'ccxt_executed_trades_df' is not defined"
     ]
    }
   ],
   "source": [
    "# Aggregated executed trades (fills) by bar.\n",
    "executed_trades_prices = obccagfu.compute_buy_sell_prices_by_bar(\n",
    "    ccxt_executed_trades_df, bar_duration, groupby_id_col=id_col\n",
    ")"
   ]
  },
  {
   "cell_type": "code",
   "execution_count": 36,
   "id": "14e91035",
   "metadata": {
    "ExecuteTime": {
     "end_time": "2024-02-29T00:41:39.802049Z",
     "start_time": "2024-02-29T00:41:39.731515Z"
    }
   },
   "outputs": [
    {
     "ename": "NameError",
     "evalue": "name 'oms_child_order_df' is not defined",
     "output_type": "error",
     "traceback": [
      "\u001b[0;31m---------------------------------------------------------------------------\u001b[0m",
      "\u001b[0;31mNameError\u001b[0m                                 Traceback (most recent call last)",
      "Cell \u001b[0;32mIn[36], line 4\u001b[0m\n\u001b[1;32m      1\u001b[0m \u001b[38;5;66;03m# Get execution event timestamps by child order.\u001b[39;00m\n\u001b[1;32m      2\u001b[0m test_asset_orders \u001b[38;5;241m=\u001b[39m (\n\u001b[1;32m      3\u001b[0m     obcccclo\u001b[38;5;241m.\u001b[39mprocess_child_order_timestamps_and_prices_for_single_asset(\n\u001b[0;32m----> 4\u001b[0m         \u001b[43moms_child_order_df\u001b[49m, ccxt_executed_trades_df, test_asset_id, resample_freq\n\u001b[1;32m      5\u001b[0m     )\n\u001b[1;32m      6\u001b[0m )\n",
      "\u001b[0;31mNameError\u001b[0m: name 'oms_child_order_df' is not defined"
     ]
    }
   ],
   "source": [
    "# Get execution event timestamps by child order.\n",
    "test_asset_orders = (\n",
    "    obcccclo.process_child_order_timestamps_and_prices_for_single_asset(\n",
    "        oms_child_order_df, ccxt_executed_trades_df, test_asset_id, resample_freq\n",
    "    )\n",
    ")"
   ]
  },
  {
   "cell_type": "code",
   "execution_count": 37,
   "id": "68356852",
   "metadata": {
    "ExecuteTime": {
     "end_time": "2024-02-29T00:41:42.209933Z",
     "start_time": "2024-02-29T00:41:42.139124Z"
    }
   },
   "outputs": [
    {
     "ename": "NameError",
     "evalue": "name 'test_asset_orders' is not defined",
     "output_type": "error",
     "traceback": [
      "\u001b[0;31m---------------------------------------------------------------------------\u001b[0m",
      "\u001b[0;31mNameError\u001b[0m                                 Traceback (most recent call last)",
      "Cell \u001b[0;32mIn[37], line 1\u001b[0m\n\u001b[0;32m----> 1\u001b[0m test_asset_events \u001b[38;5;241m=\u001b[39m \u001b[43mtest_asset_orders\u001b[49m\u001b[38;5;241m.\u001b[39msort_index(axis\u001b[38;5;241m=\u001b[39m\u001b[38;5;241m0\u001b[39m)\n",
      "\u001b[0;31mNameError\u001b[0m: name 'test_asset_orders' is not defined"
     ]
    }
   ],
   "source": [
    "test_asset_events = test_asset_orders.sort_index(axis=0)"
   ]
  },
  {
   "cell_type": "code",
   "execution_count": 38,
   "id": "b65b5220",
   "metadata": {
    "ExecuteTime": {
     "end_time": "2024-02-29T00:41:42.991935Z",
     "start_time": "2024-02-29T00:41:42.937274Z"
    }
   },
   "outputs": [
    {
     "ename": "NameError",
     "evalue": "name 'test_asset_events' is not defined",
     "output_type": "error",
     "traceback": [
      "\u001b[0;31m---------------------------------------------------------------------------\u001b[0m",
      "\u001b[0;31mNameError\u001b[0m                                 Traceback (most recent call last)",
      "Cell \u001b[0;32mIn[38], line 1\u001b[0m\n\u001b[0;32m----> 1\u001b[0m \u001b[43mtest_asset_events\u001b[49m\u001b[38;5;241m.\u001b[39mhead(\u001b[38;5;241m10\u001b[39m)\n",
      "\u001b[0;31mNameError\u001b[0m: name 'test_asset_events' is not defined"
     ]
    }
   ],
   "source": [
    "test_asset_events.head(10)"
   ]
  },
  {
   "cell_type": "markdown",
   "id": "de19e06f",
   "metadata": {
    "lines_to_next_cell": 2
   },
   "source": [
    "## Load bid-ask data"
   ]
  },
  {
   "cell_type": "code",
   "execution_count": null,
   "id": "761b8249",
   "metadata": {
    "ExecuteTime": {
     "end_time": "2024-02-29T00:41:00.410218Z",
     "start_time": "2024-02-29T00:41:00.410211Z"
    }
   },
   "outputs": [],
   "source": [
    "def get_data():\n",
    "    \"\"\"\n",
    "    The simulation section of the notebook contains a definition of a DAG with\n",
    "    a FunctionDataSource source node which requires a function rather than an\n",
    "    object, so this function returns an object built inside the notebook.\n",
    "    \"\"\"\n",
    "    return bid_ask"
   ]
  },
  {
   "cell_type": "code",
   "execution_count": null,
   "id": "a1a37a52",
   "metadata": {
    "ExecuteTime": {
     "end_time": "2024-02-29T00:41:00.411051Z",
     "start_time": "2024-02-29T00:41:00.411041Z"
    }
   },
   "outputs": [],
   "source": [
    "# TODO(Paul): Refine the cuts around the first and last bars.\n",
    "start_timestamp = ccxt_order_response_df[\"order_update_datetime\"].min()\n",
    "_LOG.info(\"start_timestamp=%s\", start_timestamp)\n",
    "end_timestamp = ccxt_executed_trades_df[\"datetime\"].max()\n",
    "_LOG.info(\"end_timestamp=%s\", end_timestamp)"
   ]
  },
  {
   "cell_type": "code",
   "execution_count": null,
   "id": "efc6ffd2",
   "metadata": {
    "ExecuteTime": {
     "end_time": "2024-02-29T00:41:00.411776Z",
     "start_time": "2024-02-29T00:41:00.411771Z"
    }
   },
   "outputs": [],
   "source": [
    "bid_ask = obccagfu.load_bid_ask_data(\n",
    "    start_timestamp,\n",
    "    end_timestamp,\n",
    "    ccxt_log_reader,\n",
    "    use_historical,\n",
    "    executed_trades_prices.columns.levels[1],\n",
    "    child_order_execution_freq,\n",
    ")"
   ]
  },
  {
   "cell_type": "markdown",
   "id": "d4e5e145",
   "metadata": {},
   "source": [
    "## Load OHLCV data"
   ]
  },
  {
   "cell_type": "code",
   "execution_count": null,
   "id": "d197a348",
   "metadata": {
    "ExecuteTime": {
     "end_time": "2024-02-29T00:41:00.412758Z",
     "start_time": "2024-02-29T00:41:00.412753Z"
    }
   },
   "outputs": [],
   "source": [
    "# We get the end timestamp from ccxt_trades_df which is not the exact time at which the run was completed.\n",
    "# This created misalignment in the graphs of bid/ask data and OHLCV. Hence we rectify this by re-defining\n",
    "# end_timestamp based on the bid/ask data.\n",
    "actual_ohlcv_end_timestamp = bid_ask.index.max().round(\"min\")"
   ]
  },
  {
   "cell_type": "code",
   "execution_count": null,
   "id": "1f7ae0b5",
   "metadata": {
    "ExecuteTime": {
     "end_time": "2024-02-29T00:41:00.413379Z",
     "start_time": "2024-02-29T00:41:00.413360Z"
    }
   },
   "outputs": [],
   "source": [
    "ohlcv_bar_duration = bar_duration\n",
    "db_stage = data[\"broker_config\"][\"stage\"]\n",
    "# Get prod `MarketData`.\n",
    "market_data = dtfamsysc.get_Cx_RealTimeMarketData_prod_instance1(\n",
    "    [test_asset_id], db_stage=db_stage\n",
    ")\n",
    "# Load and resample OHLCV data.\n",
    "ohlcv_bars = dtfamsysc.load_and_resample_ohlcv_data(\n",
    "    market_data,\n",
    "    start_timestamp,\n",
    "    actual_ohlcv_end_timestamp,\n",
    "    ohlcv_bar_duration,\n",
    ")\n",
    "ohlcv_bars.head(3)"
   ]
  },
  {
   "cell_type": "code",
   "execution_count": null,
   "id": "e33218b4",
   "metadata": {
    "ExecuteTime": {
     "end_time": "2024-02-29T00:41:00.414099Z",
     "start_time": "2024-02-29T00:41:00.414093Z"
    }
   },
   "outputs": [],
   "source": [
    "ohlcv_price_df = {\n",
    "    \"high\": ohlcv_bars[\"high\"],\n",
    "    \"low\": ohlcv_bars[\"low\"],\n",
    "}\n",
    "ohlcv_price_df = pd.concat(ohlcv_price_df, axis=1)\n",
    "# Slice data for a test asset id.\n",
    "test_asset_slice_ohlcv = cofinanc.get_asset_slice(ohlcv_price_df, test_asset_id)\n",
    "test_asset_slice_ohlcv.head(3)"
   ]
  },
  {
   "cell_type": "markdown",
   "id": "23755124",
   "metadata": {},
   "source": [
    "# Plot bid/ask and OHLCV data"
   ]
  },
  {
   "cell_type": "code",
   "execution_count": null,
   "id": "a9e88b1a",
   "metadata": {
    "ExecuteTime": {
     "end_time": "2024-02-29T00:41:00.414785Z",
     "start_time": "2024-02-29T00:41:00.414777Z"
    }
   },
   "outputs": [],
   "source": [
    "bid_ask.head(3)"
   ]
  },
  {
   "cell_type": "code",
   "execution_count": null,
   "id": "4c6c1544",
   "metadata": {
    "ExecuteTime": {
     "end_time": "2024-02-29T00:41:00.415401Z",
     "start_time": "2024-02-29T00:41:00.415394Z"
    }
   },
   "outputs": [],
   "source": [
    "bid_ask[\"bid_price\"][test_asset_id].tail(10000).plot()"
   ]
  },
  {
   "cell_type": "code",
   "execution_count": null,
   "id": "4906c450",
   "metadata": {
    "ExecuteTime": {
     "end_time": "2024-02-29T00:41:00.416110Z",
     "start_time": "2024-02-29T00:41:00.416103Z"
    }
   },
   "outputs": [],
   "source": [
    "test_asset_tob = cofinanc.get_asset_slice(bid_ask, test_asset_id)"
   ]
  },
  {
   "cell_type": "code",
   "execution_count": null,
   "id": "3489b351",
   "metadata": {
    "ExecuteTime": {
     "end_time": "2024-02-29T00:41:00.417068Z",
     "start_time": "2024-02-29T00:41:00.417063Z"
    }
   },
   "outputs": [],
   "source": [
    "test_asset_tob[[\"ask_price\", \"bid_price\"]].plot()"
   ]
  },
  {
   "cell_type": "code",
   "execution_count": null,
   "id": "d662cc11",
   "metadata": {
    "ExecuteTime": {
     "end_time": "2024-02-29T00:41:00.417548Z",
     "start_time": "2024-02-29T00:41:00.417541Z"
    }
   },
   "outputs": [],
   "source": [
    "test_asset_tob[[\"ask_size\", \"bid_size\"]].plot()"
   ]
  },
  {
   "cell_type": "code",
   "execution_count": null,
   "id": "9b2e262f",
   "metadata": {
    "ExecuteTime": {
     "end_time": "2024-02-29T00:41:00.418155Z",
     "start_time": "2024-02-29T00:41:00.418150Z"
    }
   },
   "outputs": [],
   "source": [
    "# Plot bid-ask prices together with high and low prices.\n",
    "test_asset_slice_tob_ohlcv = (\n",
    "    pd.concat([test_asset_tob, test_asset_slice_ohlcv]).sort_index().bfill()\n",
    ")\n",
    "#\n",
    "test_asset_slice_tob_ohlcv[[\"ask_price\", \"bid_price\", \"high\", \"low\"]].plot()"
   ]
  },
  {
   "cell_type": "code",
   "execution_count": null,
   "id": "522fa82e",
   "metadata": {
    "ExecuteTime": {
     "end_time": "2024-02-29T00:41:00.418913Z",
     "start_time": "2024-02-29T00:41:00.418906Z"
    }
   },
   "outputs": [],
   "source": [
    "pd.merge(\n",
    "    cofinanc.get_asset_slice(\n",
    "        test_asset_events, test_asset_id, strictly_increasing=False\n",
    "    ),\n",
    "    test_asset_tob,\n",
    "    left_index=True,\n",
    "    right_index=True,\n",
    "    how=\"inner\",\n",
    ").dropna(subset=[\"event\"])"
   ]
  },
  {
   "cell_type": "markdown",
   "id": "df4da01a",
   "metadata": {},
   "source": [
    "# Replay limit orders and simulate trades\n",
    "\n",
    "- Use actual limit prices seen in actual execution\n",
    "- Simulate execution using actual limit prices and bid-ask data\n",
    "- Compare simulated execution to actual execution"
   ]
  },
  {
   "cell_type": "markdown",
   "id": "3f745e95",
   "metadata": {},
   "source": [
    "## Extract the actual limit orders"
   ]
  },
  {
   "cell_type": "code",
   "execution_count": null,
   "id": "912e1b9b",
   "metadata": {
    "ExecuteTime": {
     "end_time": "2024-02-29T00:41:00.419278Z",
     "start_time": "2024-02-29T00:41:00.419274Z"
    }
   },
   "outputs": [],
   "source": [
    "bid_ask.columns.levels[1]"
   ]
  },
  {
   "cell_type": "code",
   "execution_count": null,
   "id": "ab80c4db",
   "metadata": {
    "ExecuteTime": {
     "end_time": "2024-02-29T00:41:00.419658Z",
     "start_time": "2024-02-29T00:41:00.419653Z"
    }
   },
   "outputs": [],
   "source": [
    "oms_child_order_df_restricted = oms_child_order_df[\n",
    "    oms_child_order_df[\"asset_id\"].isin(bid_ask.columns.levels[1])\n",
    "]\n",
    "oms_child_order_df_restricted.head(3)"
   ]
  },
  {
   "cell_type": "code",
   "execution_count": null,
   "id": "ee3b2ba4",
   "metadata": {
    "ExecuteTime": {
     "end_time": "2024-02-29T00:41:00.420251Z",
     "start_time": "2024-02-29T00:41:00.420245Z"
    }
   },
   "outputs": [],
   "source": [
    "# Forward fill to represent the time-in-force of the underlying order.\n",
    "limit_prices = obccexqu.get_limit_order_price(oms_child_order_df_restricted)\n",
    "limit_prices.head(3)"
   ]
  },
  {
   "cell_type": "code",
   "execution_count": null,
   "id": "c1e679a8",
   "metadata": {
    "ExecuteTime": {
     "end_time": "2024-02-29T00:41:00.420908Z",
     "start_time": "2024-02-29T00:41:00.420902Z"
    }
   },
   "outputs": [],
   "source": [
    "buy_order_num = np.sign(limit_prices[\"buy_limit_order_price\"]).abs().cumsum()\n",
    "sell_order_num = np.sign(limit_prices[\"sell_limit_order_price\"]).abs().cumsum()"
   ]
  },
  {
   "cell_type": "code",
   "execution_count": null,
   "id": "115a5975",
   "metadata": {
    "ExecuteTime": {
     "end_time": "2024-02-29T00:41:00.421726Z",
     "start_time": "2024-02-29T00:41:00.421721Z"
    }
   },
   "outputs": [],
   "source": [
    "limit_prices = pd.concat(\n",
    "    {\n",
    "        \"buy_limit_order_price\": limit_prices[\"buy_limit_order_price\"],\n",
    "        \"sell_limit_order_price\": limit_prices[\"sell_limit_order_price\"],\n",
    "        \"buy_order_num\": buy_order_num,\n",
    "        \"sell_order_num\": sell_order_num,\n",
    "    },\n",
    "    axis=1,\n",
    ").ffill(limit=59)"
   ]
  },
  {
   "cell_type": "markdown",
   "id": "338558d0",
   "metadata": {},
   "source": [
    "## Join limit orders with bid-ask data and simulate trades"
   ]
  },
  {
   "cell_type": "code",
   "execution_count": null,
   "id": "9b903be9",
   "metadata": {
    "ExecuteTime": {
     "end_time": "2024-02-29T00:41:00.422189Z",
     "start_time": "2024-02-29T00:41:00.422183Z"
    }
   },
   "outputs": [],
   "source": [
    "in_df = pd.concat([limit_prices, bid_ask], axis=1)\n",
    "in_df.head(3)"
   ]
  },
  {
   "cell_type": "code",
   "execution_count": null,
   "id": "46b1680c",
   "metadata": {
    "ExecuteTime": {
     "end_time": "2024-02-29T00:41:00.422935Z",
     "start_time": "2024-02-29T00:41:00.422927Z"
    }
   },
   "outputs": [],
   "source": [
    "node = dtfcore.GroupedColDfToDfTransformer(\n",
    "    \"estimate_limit_order_execution\",\n",
    "    transformer_func=cofinanc.estimate_limit_order_execution,\n",
    "    **{\n",
    "        \"in_col_groups\": [\n",
    "            (\"bid_price\",),\n",
    "            (\"ask_price\",),\n",
    "            (\"buy_limit_order_price\",),\n",
    "            (\"sell_limit_order_price\",),\n",
    "            (\"buy_order_num\",),\n",
    "            (\"sell_order_num\",),\n",
    "        ],\n",
    "        \"out_col_group\": (),\n",
    "        \"transformer_kwargs\": {\n",
    "            \"bid_col\": \"bid_price\",\n",
    "            \"ask_col\": \"ask_price\",\n",
    "            \"buy_limit_price_col\": \"buy_limit_order_price\",\n",
    "            \"sell_limit_price_col\": \"sell_limit_order_price\",\n",
    "            \"buy_order_num_col\": \"buy_order_num\",\n",
    "            \"sell_order_num_col\": \"sell_order_num\",\n",
    "        },\n",
    "    },\n",
    ")"
   ]
  },
  {
   "cell_type": "code",
   "execution_count": null,
   "id": "995909f1",
   "metadata": {
    "ExecuteTime": {
     "end_time": "2024-02-29T00:41:00.423663Z",
     "start_time": "2024-02-29T00:41:00.423653Z"
    }
   },
   "outputs": [],
   "source": [
    "simulated_execution_df = node.fit(in_df)[\"df_out\"]"
   ]
  },
  {
   "cell_type": "code",
   "execution_count": null,
   "id": "b25b4eca",
   "metadata": {
    "ExecuteTime": {
     "end_time": "2024-02-29T00:41:00.424186Z",
     "start_time": "2024-02-29T00:41:00.424180Z"
    }
   },
   "outputs": [],
   "source": [
    "simulated_execution_df.columns.levels[0].to_list()"
   ]
  },
  {
   "cell_type": "code",
   "execution_count": null,
   "id": "416e367f",
   "metadata": {
    "ExecuteTime": {
     "end_time": "2024-02-29T00:41:00.424713Z",
     "start_time": "2024-02-29T00:41:00.424706Z"
    }
   },
   "outputs": [],
   "source": [
    "test_asset_exec = cofinanc.get_asset_slice(simulated_execution_df, test_asset_id)\n",
    "test_asset_exec.loc[~test_asset_exec[\"buy_trade_price\"].isna()][\n",
    "    [\n",
    "        \"buy_trade_price\",\n",
    "        \"buy_limit_order_price\",\n",
    "        \"buy_order_num\",\n",
    "        \"bid_price\",\n",
    "        \"ask_price\",\n",
    "    ]\n",
    "]"
   ]
  },
  {
   "cell_type": "code",
   "execution_count": null,
   "id": "173b1d28",
   "metadata": {
    "ExecuteTime": {
     "end_time": "2024-02-29T00:41:00.425153Z",
     "start_time": "2024-02-29T00:41:00.425145Z"
    }
   },
   "outputs": [],
   "source": [
    "simulated_execution_df[\"buy_trade_price\"].resample(\n",
    "    \"5T\", closed=\"right\", label=\"right\"\n",
    ").mean()"
   ]
  },
  {
   "cell_type": "code",
   "execution_count": null,
   "id": "3f0b2df4",
   "metadata": {
    "ExecuteTime": {
     "end_time": "2024-02-29T00:41:00.425731Z",
     "start_time": "2024-02-29T00:41:00.425726Z"
    }
   },
   "outputs": [],
   "source": [
    "test_asset_slice = cofinanc.get_asset_slice(simulated_execution_df, test_asset_id)"
   ]
  },
  {
   "cell_type": "code",
   "execution_count": null,
   "id": "2046a466",
   "metadata": {
    "ExecuteTime": {
     "end_time": "2024-02-29T00:41:00.426478Z",
     "start_time": "2024-02-29T00:41:00.426471Z"
    }
   },
   "outputs": [],
   "source": [
    "test_asset_slice[active_cols].plot()"
   ]
  },
  {
   "cell_type": "code",
   "execution_count": null,
   "id": "dfb19e17",
   "metadata": {
    "ExecuteTime": {
     "end_time": "2024-02-29T00:41:00.426988Z",
     "start_time": "2024-02-29T00:41:00.426981Z"
    }
   },
   "outputs": [],
   "source": [
    "test_asset_slice[\"buy_trade_price\"].ffill(limit=59).plot()"
   ]
  },
  {
   "cell_type": "markdown",
   "id": "5569dad9",
   "metadata": {},
   "source": [
    "## Compute simulated trade execution quality against bid-ask benchmarks"
   ]
  },
  {
   "cell_type": "code",
   "execution_count": null,
   "id": "6cb62e2f",
   "metadata": {
    "ExecuteTime": {
     "end_time": "2024-02-29T00:41:00.427796Z",
     "start_time": "2024-02-29T00:41:00.427788Z"
    }
   },
   "outputs": [],
   "source": [
    "simulated_execution_quality_node = dtfcore.GroupedColDfToDfTransformer(\n",
    "    \"simulated_execution_quality\",\n",
    "    transformer_func=cofinanc.compute_bid_ask_execution_quality,\n",
    "    **{\n",
    "        \"in_col_groups\": [\n",
    "            (\"buy_trade_price\",),\n",
    "            (\"sell_trade_price\",),\n",
    "            (\"bid_price\",),\n",
    "            (\"ask_price\",),\n",
    "        ],\n",
    "        \"out_col_group\": (),\n",
    "        \"transformer_kwargs\": {\n",
    "            \"bid_col\": \"bid_price\",\n",
    "            \"ask_col\": \"ask_price\",\n",
    "            \"buy_trade_price_col\": \"buy_trade_price\",\n",
    "            \"sell_trade_price_col\": \"sell_trade_price\",\n",
    "        },\n",
    "    },\n",
    ")"
   ]
  },
  {
   "cell_type": "code",
   "execution_count": null,
   "id": "99a125ac",
   "metadata": {
    "ExecuteTime": {
     "end_time": "2024-02-29T00:41:00.428500Z",
     "start_time": "2024-02-29T00:41:00.428492Z"
    }
   },
   "outputs": [],
   "source": [
    "simulated_execution_quality_df = simulated_execution_quality_node.fit(\n",
    "    simulated_execution_df\n",
    ")[\"df_out\"]"
   ]
  },
  {
   "cell_type": "code",
   "execution_count": null,
   "id": "8c805523",
   "metadata": {
    "ExecuteTime": {
     "end_time": "2024-02-29T00:41:00.429277Z",
     "start_time": "2024-02-29T00:41:00.429271Z"
    }
   },
   "outputs": [],
   "source": [
    "simulated_execution_quality_df.columns.levels[0].to_list()"
   ]
  },
  {
   "cell_type": "code",
   "execution_count": null,
   "id": "376568b1",
   "metadata": {
    "ExecuteTime": {
     "end_time": "2024-02-29T00:41:00.430076Z",
     "start_time": "2024-02-29T00:41:00.430070Z"
    }
   },
   "outputs": [],
   "source": [
    "test_asset_slice = cofinanc.get_asset_slice(\n",
    "    simulated_execution_quality_df, test_asset_id\n",
    ")\n",
    "test_asset_slice[active_cols].dropna(how=\"all\")"
   ]
  },
  {
   "cell_type": "code",
   "execution_count": null,
   "id": "d46f5d14",
   "metadata": {
    "ExecuteTime": {
     "end_time": "2024-02-29T00:41:00.430927Z",
     "start_time": "2024-02-29T00:41:00.430920Z"
    }
   },
   "outputs": [],
   "source": [
    "col = \"buy_trade_midpoint_slippage_bps\"\n",
    "coplotti.plot_boxplot(simulated_execution_quality_df[col], \"by_col\", ylabel=col)"
   ]
  },
  {
   "cell_type": "code",
   "execution_count": null,
   "id": "274ce0d5",
   "metadata": {
    "ExecuteTime": {
     "end_time": "2024-02-29T00:41:00.431282Z",
     "start_time": "2024-02-29T00:41:00.431273Z"
    }
   },
   "outputs": [],
   "source": [
    "simulated_execution_quality_df[\"buy_trade_midpoint_slippage_bps\"].unstack().hist(\n",
    "    bins=31\n",
    ")"
   ]
  },
  {
   "cell_type": "code",
   "execution_count": null,
   "id": "cfa2c1fd",
   "metadata": {
    "ExecuteTime": {
     "end_time": "2024-02-29T00:41:00.431682Z",
     "start_time": "2024-02-29T00:41:00.431676Z"
    }
   },
   "outputs": [],
   "source": [
    "col = \"sell_trade_midpoint_slippage_bps\"\n",
    "coplotti.plot_boxplot(simulated_execution_quality_df[col], \"by_col\", ylabel=col)"
   ]
  },
  {
   "cell_type": "code",
   "execution_count": null,
   "id": "bcda104d",
   "metadata": {
    "ExecuteTime": {
     "end_time": "2024-02-29T00:41:00.432195Z",
     "start_time": "2024-02-29T00:41:00.432188Z"
    }
   },
   "outputs": [],
   "source": [
    "simulated_execution_quality_df[\"sell_trade_midpoint_slippage_bps\"].unstack().hist(\n",
    "    bins=31\n",
    ")"
   ]
  },
  {
   "cell_type": "code",
   "execution_count": null,
   "id": "98783ecb",
   "metadata": {
    "ExecuteTime": {
     "end_time": "2024-02-29T00:41:00.432575Z",
     "start_time": "2024-02-29T00:41:00.432571Z"
    }
   },
   "outputs": [],
   "source": [
    "costatis.compute_moments(\n",
    "    simulated_execution_quality_df[\"buy_trade_midpoint_slippage_bps\"].unstack()\n",
    ")"
   ]
  },
  {
   "cell_type": "code",
   "execution_count": null,
   "id": "ffe5465b",
   "metadata": {
    "ExecuteTime": {
     "end_time": "2024-02-29T00:41:00.433252Z",
     "start_time": "2024-02-29T00:41:00.433247Z"
    }
   },
   "outputs": [],
   "source": [
    "costatis.compute_moments(simulated_execution_quality_df[\"spread_bps\"].unstack())"
   ]
  },
  {
   "cell_type": "markdown",
   "id": "f76c5b73",
   "metadata": {},
   "source": [
    "## Compare actual trade prices to simulated trade prices"
   ]
  },
  {
   "cell_type": "code",
   "execution_count": null,
   "id": "30e69ae8",
   "metadata": {
    "ExecuteTime": {
     "end_time": "2024-02-29T00:41:00.433899Z",
     "start_time": "2024-02-29T00:41:00.433891Z"
    }
   },
   "outputs": [],
   "source": [
    "actual_vs_sim_trade_price_resampling_freq = \"1T\""
   ]
  },
  {
   "cell_type": "code",
   "execution_count": null,
   "id": "c7a92cf4",
   "metadata": {
    "ExecuteTime": {
     "end_time": "2024-02-29T00:41:00.434596Z",
     "start_time": "2024-02-29T00:41:00.434588Z"
    }
   },
   "outputs": [],
   "source": [
    "# The \"8s\" is an empirically-derived estimate of order delay.\n",
    "simulated_execution_df[\"sell_limit_order_price\"].resample(\n",
    "    actual_vs_sim_trade_price_resampling_freq,\n",
    "    closed=\"right\",\n",
    "    label=\"right\",\n",
    "    offset=\"8s\",\n",
    ").mean().head(3)"
   ]
  },
  {
   "cell_type": "code",
   "execution_count": null,
   "id": "da722441",
   "metadata": {
    "ExecuteTime": {
     "end_time": "2024-02-29T00:41:00.434946Z",
     "start_time": "2024-02-29T00:41:00.434940Z"
    }
   },
   "outputs": [],
   "source": [
    "executed_trades_prices = obccagfu.compute_buy_sell_prices_by_bar(\n",
    "    ccxt_executed_trades_df,\n",
    "    actual_vs_sim_trade_price_resampling_freq,\n",
    "    offset=\"8s\",\n",
    "    groupby_id_col=\"asset_id\",\n",
    ")\n",
    "executed_trades_prices.head(3)"
   ]
  },
  {
   "cell_type": "code",
   "execution_count": null,
   "id": "623d5be4",
   "metadata": {
    "ExecuteTime": {
     "end_time": "2024-02-29T00:41:00.435556Z",
     "start_time": "2024-02-29T00:41:00.435551Z"
    }
   },
   "outputs": [],
   "source": [
    "resampled_simulated_execution_df = simulated_execution_df.resample(\n",
    "    actual_vs_sim_trade_price_resampling_freq,\n",
    "    closed=\"right\",\n",
    "    label=\"right\",\n",
    "    offset=\"8s\",\n",
    ").mean()\n",
    "resampled_simulated_execution_df.head(3)"
   ]
  },
  {
   "cell_type": "code",
   "execution_count": null,
   "id": "c05b3156",
   "metadata": {
    "ExecuteTime": {
     "end_time": "2024-02-29T00:41:00.436357Z",
     "start_time": "2024-02-29T00:41:00.436347Z"
    }
   },
   "outputs": [],
   "source": [
    "actual_executed_trades_prices = obccagfu.compute_buy_sell_prices_by_bar(\n",
    "    ccxt_executed_trades_df, \"1s\", offset=\"0s\", groupby_id_col=\"asset_id\"\n",
    ")"
   ]
  },
  {
   "cell_type": "code",
   "execution_count": null,
   "id": "756bc725",
   "metadata": {
    "ExecuteTime": {
     "end_time": "2024-02-29T00:41:00.436898Z",
     "start_time": "2024-02-29T00:41:00.436891Z"
    }
   },
   "outputs": [],
   "source": [
    "actual_vs_sim_trade_price_resampling_freq = \"5T\""
   ]
  },
  {
   "cell_type": "code",
   "execution_count": null,
   "id": "add9d341",
   "metadata": {
    "ExecuteTime": {
     "end_time": "2024-02-29T00:41:00.437452Z",
     "start_time": "2024-02-29T00:41:00.437433Z"
    }
   },
   "outputs": [],
   "source": [
    "simulated_and_actual_trade_price_df = obccagfu.combine_sim_and_actual_trades(\n",
    "    simulated_execution_df,\n",
    "    ccxt_executed_trades_df,\n",
    "    actual_vs_sim_trade_price_resampling_freq,\n",
    "    offset=\"8s\",\n",
    ")\n",
    "simulated_and_actual_trade_price_df.head(3)"
   ]
  },
  {
   "cell_type": "code",
   "execution_count": null,
   "id": "fabb796a",
   "metadata": {
    "ExecuteTime": {
     "end_time": "2024-02-29T00:41:00.438174Z",
     "start_time": "2024-02-29T00:41:00.438170Z"
    }
   },
   "outputs": [],
   "source": [
    "cofinanc.get_asset_slice(simulated_and_actual_trade_price_df, test_asset_id)[\n",
    "    [\"actual_buy_trade_price\", \"simulated_buy_trade_price\"]\n",
    "].dropna(how=\"all\")"
   ]
  },
  {
   "cell_type": "code",
   "execution_count": null,
   "id": "88125aa9",
   "metadata": {
    "ExecuteTime": {
     "end_time": "2024-02-29T00:41:00.438837Z",
     "start_time": "2024-02-29T00:41:00.438829Z"
    }
   },
   "outputs": [],
   "source": [
    "cofinanc.get_asset_slice(simulated_and_actual_trade_price_df, test_asset_id)[\n",
    "    [\"actual_sell_trade_price\", \"simulated_sell_trade_price\"]\n",
    "].dropna(how=\"all\")"
   ]
  },
  {
   "cell_type": "code",
   "execution_count": null,
   "id": "f5368db0",
   "metadata": {
    "ExecuteTime": {
     "end_time": "2024-02-29T00:41:00.439456Z",
     "start_time": "2024-02-29T00:41:00.439437Z"
    }
   },
   "outputs": [],
   "source": [
    "execution_quality_node = dtfcore.GroupedColDfToDfTransformer(\n",
    "    \"execution_quality\",\n",
    "    transformer_func=cofinanc.compute_ref_price_execution_quality,\n",
    "    **{\n",
    "        \"in_col_groups\": [\n",
    "            (\"actual_buy_trade_price\",),\n",
    "            (\"actual_sell_trade_price\",),\n",
    "            (\"simulated_buy_trade_price\",),\n",
    "            (\"simulated_sell_trade_price\",),\n",
    "        ],\n",
    "        \"out_col_group\": (),\n",
    "        \"transformer_kwargs\": {\n",
    "            \"buy_trade_reference_price_col\": \"simulated_buy_trade_price\",\n",
    "            \"sell_trade_reference_price_col\": \"simulated_sell_trade_price\",\n",
    "            \"buy_trade_price_col\": \"actual_buy_trade_price\",\n",
    "            \"sell_trade_price_col\": \"actual_sell_trade_price\",\n",
    "        },\n",
    "    },\n",
    ")"
   ]
  },
  {
   "cell_type": "code",
   "execution_count": null,
   "id": "0fe7e6ca",
   "metadata": {
    "ExecuteTime": {
     "end_time": "2024-02-29T00:41:00.439981Z",
     "start_time": "2024-02-29T00:41:00.439975Z"
    }
   },
   "outputs": [],
   "source": [
    "sim_vs_actual_execution_quality_df = execution_quality_node.fit(\n",
    "    simulated_and_actual_trade_price_df\n",
    ")[\"df_out\"]"
   ]
  },
  {
   "cell_type": "code",
   "execution_count": null,
   "id": "ac217e00",
   "metadata": {
    "ExecuteTime": {
     "end_time": "2024-02-29T00:41:00.441180Z",
     "start_time": "2024-02-29T00:41:00.441175Z"
    }
   },
   "outputs": [],
   "source": [
    "sim_vs_actual_execution_quality_df.columns.levels[0].to_list()"
   ]
  },
  {
   "cell_type": "code",
   "execution_count": null,
   "id": "a981bf3d",
   "metadata": {
    "ExecuteTime": {
     "end_time": "2024-02-29T00:41:00.441930Z",
     "start_time": "2024-02-29T00:41:00.441924Z"
    }
   },
   "outputs": [],
   "source": [
    "cofinanc.get_asset_slice(sim_vs_actual_execution_quality_df, test_asset_id)"
   ]
  },
  {
   "cell_type": "code",
   "execution_count": null,
   "id": "282ae3db",
   "metadata": {
    "ExecuteTime": {
     "end_time": "2024-02-29T00:41:00.442569Z",
     "start_time": "2024-02-29T00:41:00.442565Z"
    }
   },
   "outputs": [],
   "source": [
    "col = \"buy_trade_slippage_bps\"\n",
    "coplotti.plot_boxplot(\n",
    "    sim_vs_actual_execution_quality_df[col], \"by_col\", ylabel=col\n",
    ")"
   ]
  },
  {
   "cell_type": "code",
   "execution_count": null,
   "id": "d9bd332f",
   "metadata": {
    "ExecuteTime": {
     "end_time": "2024-02-29T00:41:00.443195Z",
     "start_time": "2024-02-29T00:41:00.443191Z"
    }
   },
   "outputs": [],
   "source": [
    "sim_vs_actual_execution_quality_df[\"buy_trade_slippage_bps\"].unstack().hist(\n",
    "    bins=31\n",
    ")"
   ]
  },
  {
   "cell_type": "code",
   "execution_count": null,
   "id": "2349ae12",
   "metadata": {
    "ExecuteTime": {
     "end_time": "2024-02-29T00:41:00.443850Z",
     "start_time": "2024-02-29T00:41:00.443843Z"
    }
   },
   "outputs": [],
   "source": [
    "col = \"sell_trade_slippage_bps\"\n",
    "coplotti.plot_boxplot(\n",
    "    sim_vs_actual_execution_quality_df[col], \"by_col\", ylabel=col\n",
    ")"
   ]
  },
  {
   "cell_type": "code",
   "execution_count": null,
   "id": "481cfbdd",
   "metadata": {
    "ExecuteTime": {
     "end_time": "2024-02-29T00:41:00.444426Z",
     "start_time": "2024-02-29T00:41:00.444418Z"
    },
    "lines_to_next_cell": 2
   },
   "outputs": [],
   "source": [
    "sim_vs_actual_execution_quality_df[\"sell_trade_slippage_bps\"].unstack().hist(\n",
    "    bins=31\n",
    ")"
   ]
  },
  {
   "cell_type": "markdown",
   "id": "1b6225d5",
   "metadata": {
    "lines_to_next_cell": 2
   },
   "source": [
    "# Simulate limit order generation and trades\n",
    "\n",
    "- Specify buy/sell aggressiveness parameters\n",
    "- Specify repricing frequency and time-in-force\n",
    "- Simulate average execution prices and percentage of bars filled"
   ]
  },
  {
   "cell_type": "code",
   "execution_count": null,
   "id": "9dc22f57",
   "metadata": {
    "ExecuteTime": {
     "end_time": "2024-02-29T00:41:00.445058Z",
     "start_time": "2024-02-29T00:41:00.445052Z"
    }
   },
   "outputs": [],
   "source": [
    "dag_builder = dtfpexexpi.ExecutionPipeline()\n",
    "#\n",
    "config = dag_builder.get_config_template()\n",
    "# Set up `overwrite` mode to allow reassignment of values.\n",
    "# Note: by default the `update_mode` does not allow overwrites,\n",
    "# but they are required by the FeaturePipeline.\n",
    "config.update_mode = \"overwrite\"\n",
    "_LOG.debug(\"config from dag_builder=%s\", config)\n",
    "# Initialize config.\n",
    "config[\"load_data\"] = cconfig.Config.from_dict(\n",
    "    {\n",
    "        \"source_node_name\": \"FunctionDataSource\",\n",
    "        \"source_node_kwargs\": {\n",
    "            \"func\": get_data,\n",
    "        },\n",
    "    }\n",
    ")\n",
    "config[\"resample\", \"transformer_kwargs\", \"rule\"] = \"1T\"\n",
    "config[\"resample\", \"transformer_kwargs\", \"resample_kwargs\", \"offset\"] = \"8s\"\n",
    "config[\n",
    "    \"generate_limit_orders\", \"transformer_kwargs\", \"buy_spread_frac_offset\"\n",
    "] = 0.45\n",
    "config[\n",
    "    \"generate_limit_orders\", \"transformer_kwargs\", \"sell_spread_frac_offset\"\n",
    "] = -0.45\n",
    "config[\"generate_limit_orders\", \"transformer_kwargs\", \"subsample_freq\"] = \"60s\"\n",
    "config[\"generate_limit_orders\", \"transformer_kwargs\", \"freq_offset\"] = \"9s\"\n",
    "config[\"generate_limit_orders\", \"transformer_kwargs\", \"ffill_limit\"] = 59\n",
    "\n",
    "#\n",
    "_LOG.debug(\"config after patching=%s\", config)\n",
    "dag = dag_builder.get_dag(config)"
   ]
  },
  {
   "cell_type": "code",
   "execution_count": null,
   "id": "cd329172",
   "metadata": {
    "ExecuteTime": {
     "end_time": "2024-02-29T00:41:00.445707Z",
     "start_time": "2024-02-29T00:41:00.445702Z"
    }
   },
   "outputs": [],
   "source": [
    "bid_ask_sim_flow_df = dag.run_leq_node(\n",
    "    \"compute_trade_vs_limit_execution_quality\", \"fit\"\n",
    ")[\"df_out\"]"
   ]
  },
  {
   "cell_type": "code",
   "execution_count": null,
   "id": "d1c42bae",
   "metadata": {
    "ExecuteTime": {
     "end_time": "2024-02-29T00:41:00.446272Z",
     "start_time": "2024-02-29T00:41:00.446267Z"
    }
   },
   "outputs": [],
   "source": [
    "bid_ask_sim_flow_df.columns.levels[0].to_list()"
   ]
  },
  {
   "cell_type": "code",
   "execution_count": null,
   "id": "80b5dcb2",
   "metadata": {
    "ExecuteTime": {
     "end_time": "2024-02-29T00:41:00.446991Z",
     "start_time": "2024-02-29T00:41:00.446986Z"
    }
   },
   "outputs": [],
   "source": [
    "test_asset_df = cofinanc.get_asset_slice(bid_ask_sim_flow_df, test_asset_id)\n",
    "test_asset_df[\n",
    "    [\n",
    "        \"bid_price\",\n",
    "        \"ask_price\",\n",
    "        \"buy_order_num\",\n",
    "        \"buy_trade_price\",\n",
    "        \"buy_limit_order_price\",\n",
    "    ]\n",
    "]"
   ]
  },
  {
   "cell_type": "code",
   "execution_count": null,
   "id": "b82b43f5",
   "metadata": {
    "ExecuteTime": {
     "end_time": "2024-02-29T00:41:00.447500Z",
     "start_time": "2024-02-29T00:41:00.447491Z"
    }
   },
   "outputs": [],
   "source": [
    "bid_ask_sim_flow_df.head(3)"
   ]
  },
  {
   "cell_type": "code",
   "execution_count": null,
   "id": "11185cac",
   "metadata": {
    "ExecuteTime": {
     "end_time": "2024-02-29T00:41:00.448185Z",
     "start_time": "2024-02-29T00:41:00.448181Z"
    }
   },
   "outputs": [],
   "source": [
    "cofinanc.get_asset_slice(bid_ask_sim_flow_df, test_asset_id)[\n",
    "    [\"buy_trade_price\", \"sell_trade_price\"]\n",
    "].plot()"
   ]
  },
  {
   "cell_type": "code",
   "execution_count": null,
   "id": "be7c8bfa",
   "metadata": {
    "ExecuteTime": {
     "end_time": "2024-02-29T00:41:00.448918Z",
     "start_time": "2024-02-29T00:41:00.448909Z"
    }
   },
   "outputs": [],
   "source": [
    "cofinanc.get_asset_slice(bid_ask_sim_flow_df, test_asset_id).head(3)"
   ]
  },
  {
   "cell_type": "code",
   "execution_count": null,
   "id": "22191f51",
   "metadata": {
    "ExecuteTime": {
     "end_time": "2024-02-29T00:41:00.449353Z",
     "start_time": "2024-02-29T00:41:00.449349Z"
    }
   },
   "outputs": [],
   "source": [
    "test_asset_simulated_prices = cofinanc.get_asset_slice(\n",
    "    bid_ask_sim_flow_df, test_asset_id\n",
    ")\n",
    "test_asset_simulated_prices[active_cols].dropna(how=\"all\").plot()"
   ]
  },
  {
   "cell_type": "code",
   "execution_count": null,
   "id": "35ee3ad7",
   "metadata": {
    "ExecuteTime": {
     "end_time": "2024-02-29T00:41:00.450138Z",
     "start_time": "2024-02-29T00:41:00.450131Z"
    }
   },
   "outputs": [],
   "source": [
    "costatis.compute_moments(\n",
    "    bid_ask_sim_flow_df[\"buy_trade_limit_slippage_bps\"].unstack()\n",
    ")"
   ]
  },
  {
   "cell_type": "code",
   "execution_count": null,
   "id": "be7834ab",
   "metadata": {
    "ExecuteTime": {
     "end_time": "2024-02-29T00:41:00.450869Z",
     "start_time": "2024-02-29T00:41:00.450863Z"
    }
   },
   "outputs": [],
   "source": [
    "costatis.compute_moments(\n",
    "    bid_ask_sim_flow_df[\"sell_trade_limit_slippage_bps\"].unstack()\n",
    ")"
   ]
  },
  {
   "cell_type": "markdown",
   "id": "0ff5e882",
   "metadata": {},
   "source": [
    "# Compare simulated limit orders and actual limit orders"
   ]
  },
  {
   "cell_type": "code",
   "execution_count": null,
   "id": "974a2a3e",
   "metadata": {
    "ExecuteTime": {
     "end_time": "2024-02-29T00:41:00.451410Z",
     "start_time": "2024-02-29T00:41:00.451404Z"
    }
   },
   "outputs": [],
   "source": [
    "simulated_buy_limits = bid_ask_sim_flow_df[\"buy_limit_order_price\"]\n",
    "simulated_buy_limits.head(3)"
   ]
  },
  {
   "cell_type": "code",
   "execution_count": null,
   "id": "6c5a0886",
   "metadata": {
    "ExecuteTime": {
     "end_time": "2024-02-29T00:41:00.452156Z",
     "start_time": "2024-02-29T00:41:00.452147Z"
    }
   },
   "outputs": [],
   "source": [
    "actual_buy_limits = in_df[\"buy_limit_order_price\"]\n",
    "actual_buy_limits.head(3)"
   ]
  },
  {
   "cell_type": "code",
   "execution_count": null,
   "id": "fd36f3c1",
   "metadata": {
    "ExecuteTime": {
     "end_time": "2024-02-29T00:41:00.452692Z",
     "start_time": "2024-02-29T00:41:00.452688Z"
    }
   },
   "outputs": [],
   "source": [
    "lim_vs_lim = pd.concat(\n",
    "    {\n",
    "        \"simulated_buy_limit\": simulated_buy_limits,\n",
    "        \"actual_buy_limit\": actual_buy_limits.resample(\n",
    "            \"1T\", offset=\"8s\", closed=\"right\", label=\"right\"\n",
    "        ).mean(),\n",
    "    },\n",
    "    axis=1,\n",
    ")"
   ]
  },
  {
   "cell_type": "code",
   "execution_count": null,
   "id": "cc821df5",
   "metadata": {
    "ExecuteTime": {
     "end_time": "2024-02-29T00:41:00.453375Z",
     "start_time": "2024-02-29T00:41:00.453371Z"
    }
   },
   "outputs": [],
   "source": [
    "lim_vs_lim.columns.levels[1]"
   ]
  },
  {
   "cell_type": "code",
   "execution_count": null,
   "id": "b329a45c",
   "metadata": {
    "ExecuteTime": {
     "end_time": "2024-02-29T00:41:00.453994Z",
     "start_time": "2024-02-29T00:41:00.453988Z"
    }
   },
   "outputs": [],
   "source": [
    "cofinanc.get_asset_slice(lim_vs_lim, lim_vs_lim.columns.levels[1][1]).dropna(\n",
    "    how=\"all\"\n",
    ").plot()"
   ]
  },
  {
   "cell_type": "code",
   "execution_count": null,
   "id": "d7bddf38",
   "metadata": {
    "ExecuteTime": {
     "end_time": "2024-02-29T00:41:00.454890Z",
     "start_time": "2024-02-29T00:41:00.454885Z"
    }
   },
   "outputs": [],
   "source": [
    "cofinanc.get_asset_slice(lim_vs_lim, lim_vs_lim.columns.levels[1][0]).dropna(\n",
    "    how=\"all\"\n",
    ").plot()"
   ]
  },
  {
   "cell_type": "code",
   "execution_count": null,
   "id": "98009559",
   "metadata": {},
   "outputs": [],
   "source": []
  }
 ],
 "metadata": {
  "kernelspec": {
   "display_name": "Python 3 (ipykernel)",
   "language": "python",
   "name": "python3"
  },
  "language_info": {
   "codemirror_mode": {
    "name": "ipython",
    "version": 3
   },
   "file_extension": ".py",
   "mimetype": "text/x-python",
   "name": "python",
   "nbconvert_exporter": "python",
   "pygments_lexer": "ipython3",
   "version": "3.9.5"
  },
  "toc": {
   "base_numbering": 1,
   "nav_menu": {},
   "number_sections": true,
   "sideBar": true,
   "skip_h1_title": false,
   "title_cell": "Table of Contents",
   "title_sidebar": "Contents",
   "toc_cell": false,
   "toc_position": {},
   "toc_section_display": true,
   "toc_window_display": false
  }
 },
 "nbformat": 4,
 "nbformat_minor": 5
}
