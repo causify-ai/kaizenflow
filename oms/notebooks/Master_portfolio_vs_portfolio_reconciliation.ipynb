{
 "cells": [
  {
   "cell_type": "code",
   "execution_count": null,
   "id": "aed1910e",
   "metadata": {},
   "outputs": [],
   "source": [
    "%load_ext autoreload\n",
    "%autoreload 2\n",
    "%matplotlib inline"
   ]
  },
  {
   "cell_type": "code",
   "execution_count": null,
   "id": "abdcf25d",
   "metadata": {},
   "outputs": [],
   "source": [
    "import logging\n",
    "import os\n",
    "from typing import List, Tuple\n",
    "\n",
    "import pandas as pd\n",
    "\n",
    "import core.config as cconfig\n",
    "import core.plotting as coplotti\n",
    "import dataflow.model as dtfmod\n",
    "import helpers.hdbg as hdbg\n",
    "import helpers.henv as henv\n",
    "import helpers.hpandas as hpandas\n",
    "import helpers.hprint as hprint\n",
    "import oms as oms"
   ]
  },
  {
   "cell_type": "code",
   "execution_count": null,
   "id": "d685e73b",
   "metadata": {},
   "outputs": [],
   "source": [
    "hdbg.init_logger(verbosity=logging.INFO)\n",
    "\n",
    "_LOG = logging.getLogger(__name__)\n",
    "\n",
    "_LOG.info(\"%s\", henv.get_system_signature()[0])\n",
    "\n",
    "hprint.config_notebook()"
   ]
  },
  {
   "cell_type": "code",
   "execution_count": null,
   "id": "69068147",
   "metadata": {},
   "outputs": [],
   "source": [
    "date = \"2022-08-31\"\n",
    "start_timestamp = pd.Timestamp(date + \" 10:15:00\", tz=\"America/New_York\")\n",
    "_LOG.info(\"start_timestamp=%s\", start_timestamp)\n",
    "end_timestamp = pd.Timestamp(date + \" 15:45:00\", tz=\"America/New_York\")\n",
    "_LOG.info(\"end_timestamp=%s\", start_timestamp)"
   ]
  },
  {
   "cell_type": "code",
   "execution_count": null,
   "id": "7140571f",
   "metadata": {},
   "outputs": [],
   "source": [
    "!ls /data/cf_production/20220915/job.1002440809/job-sasm_job-jobid-1002440809/user_executable_run_0-1000005405809/cf_prod_system_log_dir/process_forecasts"
   ]
  },
  {
   "cell_type": "code",
   "execution_count": null,
   "id": "691930bf",
   "metadata": {},
   "outputs": [],
   "source": [
    "# /share/data/cf_production/20220919/job.1002450215/job-sasm_job-jobid-1002450215/user_executable_run_0-1000005484302/cf_prod_system_log_dir\n",
    "# /share/data/cf_production/20220919/job.1002452903/user_executable_run_0-1000005489454/cf_prod_system_log_dir\n",
    "prod_dir = (\n",
    "    # \"/share/data/cf_production/20220919/job.1002450215/job-sasm_job-jobid-1002450215/user_executable_run_0-1000005484302/cf_prod_system_log_dir\"\n",
    "    \"/share/data/cf_production/20220919/job.1002452903/user_executable_run_0-1000005489454/cf_prod_system_log_dir\"\n",
    ")\n",
    "prod_dir = prod_dir.replace(\"/share/data/\", \"/data/\")\n",
    "prod_portfolio_dir = os.path.join(prod_dir, \"process_forecasts/portfolio\")\n",
    "prod_forecast_dir = os.path.join(prod_dir, \"process_forecasts\")\n",
    "hdbg.dassert_dir_exists(prod_forecast_dir)\n",
    "\n",
    "sim_dir = \"/app/system_log_dir\"\n",
    "sim_portfolio_dir = os.path.join(sim_dir, \"process_forecasts/portfolio\")\n",
    "sim_forecast_dir = os.path.join(sim_dir, \"process_forecasts\")\n",
    "hdbg.dassert_dir_exists(sim_forecast_dir)"
   ]
  },
  {
   "cell_type": "code",
   "execution_count": null,
   "id": "95ec92e7",
   "metadata": {
    "lines_to_next_cell": 2
   },
   "outputs": [],
   "source": [
    "# hdbg.dassert_dir_exists(root_dir)\n",
    "dict_ = {\n",
    "    \"prod_forecast_dir\": prod_forecast_dir,\n",
    "    \"sim_forecast_dir\": sim_forecast_dir,\n",
    "    \"prod_portfolio_dir\": prod_portfolio_dir,\n",
    "    \"sim_portfolio_dir\": sim_portfolio_dir,\n",
    "    \"freq\": \"15T\",\n",
    "    \"start_timestamp\": start_timestamp,\n",
    "    \"end_timestamp\": end_timestamp,\n",
    "}\n",
    "#\n",
    "config = cconfig.Config.from_dict(dict_)\n",
    "display(config)"
   ]
  },
  {
   "cell_type": "markdown",
   "id": "8710f65d",
   "metadata": {},
   "source": [
    "# Forecasts"
   ]
  },
  {
   "cell_type": "markdown",
   "id": "db2594d9",
   "metadata": {},
   "source": [
    "## Load prod and sim forecasts"
   ]
  },
  {
   "cell_type": "code",
   "execution_count": null,
   "id": "cc610953",
   "metadata": {},
   "outputs": [],
   "source": [
    "prod_forecast_df = oms.ForecastProcessor.read_logged_target_positions(\n",
    "    config[\"prod_forecast_dir\"]\n",
    ")\n",
    "hpandas.df_to_str(prod_forecast_df, log_level=logging.INFO)"
   ]
  },
  {
   "cell_type": "code",
   "execution_count": null,
   "id": "a8d9f0a0",
   "metadata": {},
   "outputs": [],
   "source": [
    "sim_forecast_df = oms.ForecastProcessor.read_logged_target_positions(\n",
    "    config[\"sim_forecast_dir\"]\n",
    ")\n",
    "hpandas.df_to_str(sim_forecast_df, log_level=logging.INFO)"
   ]
  },
  {
   "cell_type": "markdown",
   "id": "2a42684d",
   "metadata": {},
   "source": [
    "## Compute forecast prod delay"
   ]
  },
  {
   "cell_type": "code",
   "execution_count": null,
   "id": "c5e38a8a",
   "metadata": {},
   "outputs": [],
   "source": [
    "prod_forecast_delay = oms.compute_delay(prod_forecast_df, config[\"freq\"])\n",
    "hpandas.df_to_str(prod_forecast_delay, log_level=logging.INFO)"
   ]
  },
  {
   "cell_type": "code",
   "execution_count": null,
   "id": "dabf460e",
   "metadata": {},
   "outputs": [],
   "source": [
    "prod_forecast_delay.plot()"
   ]
  },
  {
   "cell_type": "code",
   "execution_count": null,
   "id": "c15cfe29",
   "metadata": {},
   "outputs": [],
   "source": [
    "prod_forecast_df.index = prod_forecast_df.index.round(config[\"freq\"])\n",
    "sim_forecast_df.index = sim_forecast_df.index.round(config[\"freq\"])\n",
    "prod_forecast_df = prod_forecast_df.loc[start_timestamp:end_timestamp]\n",
    "sim_forecast_df = sim_forecast_df.loc[start_timestamp:end_timestamp]"
   ]
  },
  {
   "cell_type": "markdown",
   "id": "a9e379aa",
   "metadata": {},
   "source": [
    "## Compare forecast dataframes"
   ]
  },
  {
   "cell_type": "code",
   "execution_count": null,
   "id": "af33136e",
   "metadata": {},
   "outputs": [],
   "source": [
    "forecast_corrs = dtfmod.compute_correlations(prod_forecast_df, sim_forecast_df)\n",
    "hpandas.df_to_str(forecast_corrs, precision=3, log_level=logging.INFO)"
   ]
  },
  {
   "cell_type": "code",
   "execution_count": null,
   "id": "b9ffdd80",
   "metadata": {},
   "outputs": [],
   "source": [
    "sort_col = \"prediction\"\n",
    "hpandas.df_to_str(\n",
    "    forecast_corrs.sort_values(sort_col, ascending=False),\n",
    "    num_rows=10,\n",
    "    precision=3,\n",
    "    log_level=logging.INFO,\n",
    ")"
   ]
  },
  {
   "cell_type": "markdown",
   "id": "596009c8",
   "metadata": {},
   "source": [
    "# Orders"
   ]
  },
  {
   "cell_type": "markdown",
   "id": "ad9426b4",
   "metadata": {},
   "source": [
    "## Load prod and sim orders"
   ]
  },
  {
   "cell_type": "code",
   "execution_count": null,
   "id": "bfd4b80b",
   "metadata": {},
   "outputs": [],
   "source": [
    "prod_order_df = oms.ForecastProcessor.read_logged_orders(\n",
    "    config[\"prod_forecast_dir\"]\n",
    ")\n",
    "hpandas.df_to_str(prod_order_df, log_level=logging.INFO)"
   ]
  },
  {
   "cell_type": "code",
   "execution_count": null,
   "id": "d793c0c8",
   "metadata": {},
   "outputs": [],
   "source": [
    "sim_order_df = oms.ForecastProcessor.read_logged_orders(\n",
    "    config[\"sim_forecast_dir\"]\n",
    ")\n",
    "hpandas.df_to_str(sim_order_df, log_level=logging.INFO)"
   ]
  },
  {
   "cell_type": "markdown",
   "id": "637583f2",
   "metadata": {},
   "source": [
    "# Portfolios"
   ]
  },
  {
   "cell_type": "markdown",
   "id": "5f948dfb",
   "metadata": {},
   "source": [
    "## Load prod portfolio"
   ]
  },
  {
   "cell_type": "code",
   "execution_count": null,
   "id": "fafd291d",
   "metadata": {},
   "outputs": [],
   "source": [
    "prod_portfolio_df, prod_portfolio_stats_df = oms.load_portfolio_artifacts(\n",
    "    config[\"prod_portfolio_dir\"],\n",
    "    config[\"start_timestamp\"],\n",
    "    config[\"end_timestamp\"],\n",
    "    config[\"freq\"],\n",
    "    normalize_bar_times=False,\n",
    ")"
   ]
  },
  {
   "cell_type": "code",
   "execution_count": null,
   "id": "522b828f",
   "metadata": {},
   "outputs": [],
   "source": [
    "hpandas.df_to_str(prod_portfolio_df, log_level=logging.INFO)"
   ]
  },
  {
   "cell_type": "code",
   "execution_count": null,
   "id": "052fdfc6",
   "metadata": {},
   "outputs": [],
   "source": [
    "hpandas.df_to_str(prod_portfolio_stats_df, log_level=logging.INFO)"
   ]
  },
  {
   "cell_type": "markdown",
   "id": "c63b41d1",
   "metadata": {},
   "source": [
    "## Load sim portfolio"
   ]
  },
  {
   "cell_type": "code",
   "execution_count": null,
   "id": "a08a4f9b",
   "metadata": {},
   "outputs": [],
   "source": [
    "sim_portfolio_df, sim_portfolio_stats_df = oms.load_portfolio_artifacts(\n",
    "    config[\"sim_portfolio_dir\"],\n",
    "    config[\"start_timestamp\"],\n",
    "    config[\"end_timestamp\"],\n",
    "    config[\"freq\"],\n",
    "    normalize_bar_times=False,\n",
    ")"
   ]
  },
  {
   "cell_type": "code",
   "execution_count": null,
   "id": "71636343",
   "metadata": {},
   "outputs": [],
   "source": [
    "hpandas.df_to_str(sim_portfolio_df, log_level=logging.INFO)"
   ]
  },
  {
   "cell_type": "code",
   "execution_count": null,
   "id": "e72e82ff",
   "metadata": {},
   "outputs": [],
   "source": [
    "hpandas.df_to_str(sim_portfolio_stats_df, log_level=logging.INFO)"
   ]
  },
  {
   "cell_type": "markdown",
   "id": "99cf0ac7",
   "metadata": {},
   "source": [
    "## Compute prod portfolio delay"
   ]
  },
  {
   "cell_type": "code",
   "execution_count": null,
   "id": "c7a2659a",
   "metadata": {},
   "outputs": [],
   "source": [
    "prod_portfolio_delay = oms.compute_delay(prod_portfolio_df, config[\"freq\"])"
   ]
  },
  {
   "cell_type": "code",
   "execution_count": null,
   "id": "5e42e466",
   "metadata": {},
   "outputs": [],
   "source": [
    "hpandas.df_to_str(prod_portfolio_delay, log_level=logging.INFO)"
   ]
  },
  {
   "cell_type": "code",
   "execution_count": null,
   "id": "c1d80115",
   "metadata": {},
   "outputs": [],
   "source": [
    "prod_portfolio_delay.plot()"
   ]
  },
  {
   "cell_type": "code",
   "execution_count": null,
   "id": "774d59c1",
   "metadata": {},
   "outputs": [],
   "source": [
    "_LOG.info(\"prod portfolio delay mean=%s\", prod_portfolio_delay.mean())\n",
    "_LOG.info(\"prod portfolio delay std=%s\", prod_portfolio_delay.std())"
   ]
  },
  {
   "cell_type": "markdown",
   "id": "6977911c",
   "metadata": {},
   "source": [
    "## Normalize bar times"
   ]
  },
  {
   "cell_type": "code",
   "execution_count": null,
   "id": "00cca108",
   "metadata": {},
   "outputs": [],
   "source": [
    "dfs = [\n",
    "    prod_portfolio_df,\n",
    "    prod_portfolio_stats_df,\n",
    "    sim_portfolio_df,\n",
    "    sim_portfolio_stats_df,\n",
    "]"
   ]
  },
  {
   "cell_type": "code",
   "execution_count": null,
   "id": "91c1c376",
   "metadata": {},
   "outputs": [],
   "source": [
    "for df in dfs:\n",
    "    df.index = df.index.round(config[\"freq\"])"
   ]
  },
  {
   "cell_type": "markdown",
   "id": "9acd37b8",
   "metadata": {},
   "source": [
    "## Compare portfolio stats"
   ]
  },
  {
   "cell_type": "code",
   "execution_count": null,
   "id": "f540bfc9",
   "metadata": {},
   "outputs": [],
   "source": [
    "portfolio_stats_dfs = {\n",
    "    \"prod\": prod_portfolio_stats_df,\n",
    "    \"sim\": sim_portfolio_stats_df,\n",
    "}\n",
    "portfolio_stats_dfs = pd.concat(portfolio_stats_dfs, axis=1)"
   ]
  },
  {
   "cell_type": "code",
   "execution_count": null,
   "id": "2233782c",
   "metadata": {},
   "outputs": [],
   "source": [
    "hpandas.df_to_str(portfolio_stats_dfs, log_level=logging.INFO)"
   ]
  },
  {
   "cell_type": "code",
   "execution_count": null,
   "id": "0cb4a2c9",
   "metadata": {},
   "outputs": [],
   "source": [
    "coplotti.plot_portfolio_stats(portfolio_stats_dfs)"
   ]
  },
  {
   "cell_type": "code",
   "execution_count": null,
   "id": "35de7928",
   "metadata": {},
   "outputs": [],
   "source": [
    "portfolio_stats_corrs = dtfmod.compute_correlations(\n",
    "    prod_portfolio_stats_df, sim_portfolio_stats_df\n",
    ")\n",
    "display(portfolio_stats_corrs.round(3))"
   ]
  },
  {
   "cell_type": "code",
   "execution_count": null,
   "id": "5dd69765",
   "metadata": {},
   "outputs": [],
   "source": [
    "stats_computer = dtfmod.StatsComputer()\n",
    "stats_sxs, _ = stats_computer.compute_portfolio_stats(\n",
    "    portfolio_stats_dfs, config[\"freq\"]\n",
    ")\n",
    "display(stats_sxs)"
   ]
  },
  {
   "cell_type": "markdown",
   "id": "12990e8c",
   "metadata": {},
   "source": [
    "## Compare portfolios at the instrument level"
   ]
  },
  {
   "cell_type": "code",
   "execution_count": null,
   "id": "2d7c1bf5",
   "metadata": {},
   "outputs": [],
   "source": [
    "portfolio_corrs = dtfmod.compute_correlations(prod_portfolio_df, sim_portfolio_df)\n",
    "hpandas.df_to_str(portfolio_corrs, precision=3, log_level=logging.INFO)"
   ]
  },
  {
   "cell_type": "code",
   "execution_count": null,
   "id": "27c65ffe",
   "metadata": {},
   "outputs": [],
   "source": [
    "sort_col = \"pnl\"\n",
    "hpandas.df_to_str(\n",
    "    portfolio_corrs.sort_values(sort_col, ascending=False),\n",
    "    num_rows=10,\n",
    "    precision=3,\n",
    "    log_level=logging.INFO,\n",
    ")"
   ]
  },
  {
   "cell_type": "code",
   "execution_count": null,
   "id": "e368ff55",
   "metadata": {},
   "outputs": [],
   "source": [
    "# OMS"
   ]
  },
  {
   "cell_type": "code",
   "execution_count": null,
   "id": "b8702568",
   "metadata": {},
   "outputs": [],
   "source": [
    "shares_df = oms.compute_shares_traded(prod_portfolio_df, prod_order_df, \"15T\")"
   ]
  },
  {
   "cell_type": "code",
   "execution_count": null,
   "id": "64825856",
   "metadata": {},
   "outputs": [],
   "source": [
    "shares_df.columns.levels[0]"
   ]
  },
  {
   "cell_type": "code",
   "execution_count": null,
   "id": "fb92b73c",
   "metadata": {},
   "outputs": [],
   "source": [
    "# shares_df[\"estimated_price_per_share\"]\n",
    "# shares_df[\"underfill\"] / shares_df[\"order_share_target_as_int\"]\n",
    "shares_df[\"order_share_target_as_int\"]"
   ]
  },
  {
   "cell_type": "markdown",
   "id": "db321915",
   "metadata": {},
   "source": [
    "# System configs"
   ]
  },
  {
   "cell_type": "code",
   "execution_count": null,
   "id": "bfc185d1",
   "metadata": {},
   "outputs": [],
   "source": [
    "# TODO(Paul): Clean up the system config handling.\n",
    "def load_config_as_list(path):\n",
    "    with open(path) as f:\n",
    "        lines = f.readlines()\n",
    "    _LOG.debug(\"Lines read=%d\", len(lines))\n",
    "    return lines"
   ]
  },
  {
   "cell_type": "code",
   "execution_count": null,
   "id": "73c27361",
   "metadata": {},
   "outputs": [],
   "source": [
    "def diff_lines(list1, list2) -> Tuple[List[str], List[str]]:\n",
    "    list1_only = list(set(list1) - set(list2))\n",
    "    list2_only = list(set(list2) - set(list1))\n",
    "    return list1_only, list2_only"
   ]
  },
  {
   "cell_type": "code",
   "execution_count": null,
   "id": "589dfb6b",
   "metadata": {},
   "outputs": [],
   "source": [
    "prod_system_config_output = load_config_as_list(\n",
    "    prod_dir + \"/system_config.output.txt\"\n",
    ")\n",
    "sim_system_config_output = load_config_as_list(\n",
    "    sim_dir + \"/system_config.output.txt\"\n",
    ")\n",
    "prod_system_config_input = load_config_as_list(\n",
    "    prod_dir + \"/system_config.input.txt\"\n",
    ")\n",
    "sim_system_config_input = load_config_as_list(\n",
    "    sim_dir + \"/system_config.input.txt\"\n",
    ")"
   ]
  },
  {
   "cell_type": "code",
   "execution_count": null,
   "id": "20dc4f83",
   "metadata": {},
   "outputs": [],
   "source": [
    "prod_output_only, sim_output_only = diff_lines(\n",
    "    prod_system_config_output, sim_system_config_output\n",
    ")"
   ]
  },
  {
   "cell_type": "code",
   "execution_count": null,
   "id": "2f356650",
   "metadata": {},
   "outputs": [],
   "source": [
    "# prod_output_only"
   ]
  },
  {
   "cell_type": "code",
   "execution_count": null,
   "id": "29e21f42",
   "metadata": {},
   "outputs": [],
   "source": [
    "# sim_output_only"
   ]
  }
 ],
 "metadata": {
  "kernelspec": {
   "display_name": "Python 3 (ipykernel)",
   "language": "python",
   "name": "python3"
  },
  "language_info": {
   "codemirror_mode": {
    "name": "ipython",
    "version": 3
   },
   "file_extension": ".py",
   "mimetype": "text/x-python",
   "name": "python",
   "nbconvert_exporter": "python",
   "pygments_lexer": "ipython3"
  },
  "toc": {
   "base_numbering": 1,
   "nav_menu": {},
   "number_sections": true,
   "sideBar": true,
   "skip_h1_title": false,
   "title_cell": "Table of Contents",
   "title_sidebar": "Contents",
   "toc_cell": false,
   "toc_position": {},
   "toc_section_display": true,
   "toc_window_display": false
  }
 },
 "nbformat": 4,
 "nbformat_minor": 5
}
