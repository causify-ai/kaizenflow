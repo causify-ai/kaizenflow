{
 "cells": [
  {
   "cell_type": "markdown",
   "id": "0af62370",
   "metadata": {},
   "source": [
    "# Description"
   ]
  },
  {
   "cell_type": "markdown",
   "id": "9ef40f0b",
   "metadata": {},
   "source": [
    "This notebook contains examples of CCXT functionality."
   ]
  },
  {
   "cell_type": "markdown",
   "id": "d8305bb9",
   "metadata": {},
   "source": [
    "## Imports"
   ]
  },
  {
   "cell_type": "code",
   "execution_count": null,
   "id": "cb19acd6",
   "metadata": {},
   "outputs": [],
   "source": [
    "%load_ext autoreload\n",
    "%autoreload 2\n",
    "import logging\n",
    "import pprint\n",
    "\n",
    "import ccxt\n",
    "import pandas as pd\n",
    "\n",
    "import helpers.hdbg as hdbg\n",
    "import helpers.henv as henv\n",
    "import helpers.hprint as hprint\n",
    "import helpers.hsecrets as hsecret"
   ]
  },
  {
   "cell_type": "code",
   "execution_count": null,
   "id": "276d7212",
   "metadata": {},
   "outputs": [],
   "source": [
    "hdbg.init_logger(verbosity=logging.INFO)\n",
    "\n",
    "_LOG = logging.getLogger(__name__)\n",
    "\n",
    "_LOG.info(\"%s\", henv.get_system_signature()[0])\n",
    "\n",
    "hprint.config_notebook()"
   ]
  },
  {
   "cell_type": "code",
   "execution_count": null,
   "id": "1fd21c0d",
   "metadata": {},
   "outputs": [],
   "source": [
    "# Print all exchanges.\n",
    "print(len(ccxt.exchanges))\n",
    "print(ccxt.exchanges)"
   ]
  },
  {
   "cell_type": "code",
   "execution_count": null,
   "id": "4b470a81",
   "metadata": {},
   "outputs": [],
   "source": [
    "# Create Binance.\n",
    "exchange_id = \"binance\"\n",
    "mode = \"test\"\n",
    "contract_type = \"futures\"\n",
    "# Select credentials for provided exchange.\n",
    "if mode == \"test\":\n",
    "    secrets_id = exchange_id + \"_sandbox\"\n",
    "else:\n",
    "    secrets_id = exchange_id\n",
    "exchange_params = hsecret.get_secret(secrets_id)\n",
    "# Enable rate limit.\n",
    "exchange_params[\"rateLimit\"] = True\n",
    "# Log into futures/spot market.\n",
    "if contract_type == \"futures\":\n",
    "    exchange_params[\"options\"] = {\"defaultType\": \"future\"}\n",
    "\n",
    "# Create a CCXT Exchange class object.\n",
    "ccxt_exchange = getattr(ccxt, exchange_id)\n",
    "exchange = ccxt_exchange(exchange_params)\n",
    "if mode == \"test\":\n",
    "    exchange.set_sandbox_mode(True)\n",
    "    _LOG.warning(\"Running in sandbox mode\")\n",
    "hdbg.dassert(\n",
    "    exchange.checkRequiredCredentials(),\n",
    "    msg=\"Required credentials not passed\",\n",
    ")"
   ]
  },
  {
   "cell_type": "markdown",
   "id": "b4d25be6",
   "metadata": {},
   "source": [
    "## Exchange properties"
   ]
  },
  {
   "cell_type": "code",
   "execution_count": null,
   "id": "91cdcf85",
   "metadata": {},
   "outputs": [],
   "source": [
    "exchange"
   ]
  },
  {
   "cell_type": "code",
   "execution_count": null,
   "id": "3ed852e0",
   "metadata": {},
   "outputs": [],
   "source": [
    "print(ccxt.binance)"
   ]
  },
  {
   "cell_type": "code",
   "execution_count": null,
   "id": "405a7aa6",
   "metadata": {},
   "outputs": [],
   "source": [
    "pprint.pprint(exchange.api)"
   ]
  },
  {
   "cell_type": "code",
   "execution_count": null,
   "id": "092509b6",
   "metadata": {},
   "outputs": [],
   "source": [
    "def print_list(list_):\n",
    "    print(\"num=%s\" % len(list_))\n",
    "    print(\"values=%s\" % \" \".join(list_))"
   ]
  },
  {
   "cell_type": "code",
   "execution_count": null,
   "id": "9c2ec4c4",
   "metadata": {},
   "outputs": [],
   "source": [
    "exchange.loadMarkets()\n",
    "print_list(exchange.markets.keys())\n",
    "# Equivalent to:\n",
    "# print_list(exchange.symbols)\n",
    "# pprint.pprint(exchange.markets)"
   ]
  },
  {
   "cell_type": "code",
   "execution_count": null,
   "id": "1e883118",
   "metadata": {},
   "outputs": [],
   "source": [
    "print_list(exchange.currencies)"
   ]
  },
  {
   "cell_type": "markdown",
   "id": "8b70ea71",
   "metadata": {},
   "source": [
    "## Exchange metadata"
   ]
  },
  {
   "cell_type": "code",
   "execution_count": null,
   "id": "5bc74227",
   "metadata": {},
   "outputs": [],
   "source": [
    "# Print all the values.\n",
    "pprint.pprint(exchange.has)"
   ]
  },
  {
   "cell_type": "markdown",
   "id": "ab3297c2",
   "metadata": {},
   "source": [
    "## Loading markets"
   ]
  },
  {
   "cell_type": "markdown",
   "id": "9293e18c",
   "metadata": {},
   "source": [
    "## Symbols and Market Ids"
   ]
  },
  {
   "cell_type": "code",
   "execution_count": null,
   "id": "b6c2a6b8",
   "metadata": {},
   "outputs": [],
   "source": [
    "print(exchange.load_markets())"
   ]
  },
  {
   "cell_type": "code",
   "execution_count": null,
   "id": "75443b39",
   "metadata": {},
   "outputs": [],
   "source": [
    "pprint.pprint(exchange.markets[\"ETH/USDT\"])"
   ]
  },
  {
   "cell_type": "code",
   "execution_count": null,
   "id": "6169f03d",
   "metadata": {},
   "outputs": [],
   "source": [
    "print(exchange.market_id(\"ETH/USDT\"))"
   ]
  },
  {
   "cell_type": "code",
   "execution_count": null,
   "id": "a1c0c6bc",
   "metadata": {},
   "outputs": [],
   "source": [
    "exchange.symbols"
   ]
  },
  {
   "cell_type": "code",
   "execution_count": null,
   "id": "aafda59b",
   "metadata": {},
   "outputs": [],
   "source": [
    "exchange.currencies"
   ]
  },
  {
   "cell_type": "code",
   "execution_count": null,
   "id": "72716460",
   "metadata": {},
   "outputs": [],
   "source": [
    "exchange.commonCurrencies"
   ]
  },
  {
   "cell_type": "markdown",
   "id": "05632412",
   "metadata": {},
   "source": [
    "## Implicit API methods"
   ]
  },
  {
   "cell_type": "code",
   "execution_count": null,
   "id": "9cb273a7",
   "metadata": {},
   "outputs": [],
   "source": [
    "print(dir(ccxt.binance()))"
   ]
  },
  {
   "cell_type": "markdown",
   "id": "ab0f4746",
   "metadata": {},
   "source": [
    "# Unified API"
   ]
  },
  {
   "cell_type": "code",
   "execution_count": null,
   "id": "491f6e8a",
   "metadata": {},
   "outputs": [],
   "source": [
    "exchange.fetchMarkets()"
   ]
  },
  {
   "cell_type": "code",
   "execution_count": null,
   "id": "a026f511",
   "metadata": {},
   "outputs": [],
   "source": [
    "exchange.fetchCurrencies()"
   ]
  },
  {
   "cell_type": "code",
   "execution_count": null,
   "id": "d9362a02",
   "metadata": {},
   "outputs": [],
   "source": [
    "symbol = \"BTC/USDT\"\n",
    "exchange.fetchOrderBook(symbol)"
   ]
  },
  {
   "cell_type": "code",
   "execution_count": null,
   "id": "41fce087",
   "metadata": {},
   "outputs": [],
   "source": [
    "# Not supported for Binance\n",
    "# exchange.fetchStatus()"
   ]
  },
  {
   "cell_type": "code",
   "execution_count": null,
   "id": "a80ebbcf",
   "metadata": {},
   "outputs": [],
   "source": [
    "exchange.fetchL2OrderBook(symbol)"
   ]
  },
  {
   "cell_type": "code",
   "execution_count": null,
   "id": "6416ab20",
   "metadata": {},
   "outputs": [],
   "source": [
    "exchange.fetchTrades(symbol)"
   ]
  },
  {
   "cell_type": "code",
   "execution_count": null,
   "id": "1fd4a823",
   "metadata": {},
   "outputs": [],
   "source": [
    "exchange.fetchTicker(symbol)"
   ]
  },
  {
   "cell_type": "code",
   "execution_count": null,
   "id": "c6bde69c",
   "metadata": {},
   "outputs": [],
   "source": [
    "exchange.fetchBalance()"
   ]
  },
  {
   "cell_type": "code",
   "execution_count": null,
   "id": "ce790573",
   "metadata": {},
   "outputs": [],
   "source": [
    "## Order book"
   ]
  },
  {
   "cell_type": "code",
   "execution_count": null,
   "id": "9932f363",
   "metadata": {},
   "outputs": [],
   "source": [
    "exchange.fetch_order_book(symbol)"
   ]
  },
  {
   "cell_type": "markdown",
   "id": "c1e698c2",
   "metadata": {},
   "source": [
    "## Market price"
   ]
  },
  {
   "cell_type": "code",
   "execution_count": null,
   "id": "74628847",
   "metadata": {},
   "outputs": [],
   "source": [
    "# Python\n",
    "orderbook = exchange.fetch_order_book(exchange.symbols[0])\n",
    "bid = orderbook[\"bids\"][0][0] if len(orderbook[\"bids\"]) > 0 else None\n",
    "ask = orderbook[\"asks\"][0][0] if len(orderbook[\"asks\"]) > 0 else None\n",
    "spread = (ask - bid) if (bid and ask) else None\n",
    "print(exchange.id, \"market price\", {\"bid\": bid, \"ask\": ask, \"spread\": spread})"
   ]
  },
  {
   "cell_type": "markdown",
   "id": "15e103a2",
   "metadata": {},
   "source": [
    "# Private API"
   ]
  },
  {
   "cell_type": "code",
   "execution_count": null,
   "id": "ebf5d6d8",
   "metadata": {},
   "outputs": [],
   "source": [
    "# exchange.fetchAccounts()"
   ]
  },
  {
   "cell_type": "code",
   "execution_count": null,
   "id": "62f82e3d",
   "metadata": {},
   "outputs": [],
   "source": [
    "balance = exchange.fetchBalance()\n",
    "\n",
    "balance"
   ]
  },
  {
   "cell_type": "code",
   "execution_count": null,
   "id": "4f7cad46",
   "metadata": {},
   "outputs": [],
   "source": [
    "balance.keys()"
   ]
  },
  {
   "cell_type": "code",
   "execution_count": null,
   "id": "2bbfe75c",
   "metadata": {},
   "outputs": [],
   "source": []
  }
 ],
 "metadata": {
  "jupytext": {
   "formats": "ipynb,py:percent"
  },
  "kernelspec": {
   "display_name": "Python 3 (ipykernel)",
   "language": "python",
   "name": "python3"
  },
  "language_info": {
   "name": "python",
   "version": "3.8.10"
  },
  "vscode": {
   "interpreter": {
    "hash": "4e89a85523f55851da9dcdc0e99fc639c0bc1deb349b5926c635581d9876f950"
   }
  }
 },
 "nbformat": 4,
 "nbformat_minor": 5
}
