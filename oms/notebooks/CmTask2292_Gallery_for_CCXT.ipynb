{
 "cells": [
  {
   "cell_type": "markdown",
   "id": "6293f18f",
   "metadata": {},
   "source": [
    "# Description"
   ]
  },
  {
   "cell_type": "markdown",
   "id": "653f5a28",
   "metadata": {},
   "source": [
    "This notebook contains examples of CCXT functionality."
   ]
  },
  {
   "cell_type": "markdown",
   "id": "e9ce254d",
   "metadata": {},
   "source": [
    "## Imports"
   ]
  },
  {
   "cell_type": "code",
   "execution_count": null,
   "id": "5cd5c09a",
   "metadata": {},
   "outputs": [],
   "source": [
    "%load_ext autoreload\n",
    "%autoreload 2\n",
    "import logging\n",
    "import pprint\n",
    "\n",
    "import ccxt\n",
    "import pandas as pd\n",
    "\n",
    "import helpers.hdbg as hdbg\n",
    "import helpers.henv as henv\n",
    "import helpers.hprint as hprint\n",
    "import helpers.hsecrets as hsecret"
   ]
  },
  {
   "cell_type": "code",
   "execution_count": null,
   "id": "d2d567b1",
   "metadata": {},
   "outputs": [],
   "source": [
    "hdbg.init_logger(verbosity=logging.INFO)\n",
    "\n",
    "_LOG = logging.getLogger(__name__)\n",
    "\n",
    "_LOG.info(\"%s\", henv.get_system_signature()[0])\n",
    "\n",
    "hprint.config_notebook()"
   ]
  },
  {
   "cell_type": "code",
   "execution_count": null,
   "id": "f1451227",
   "metadata": {},
   "outputs": [],
   "source": [
    "# Print all exchanges.\n",
    "print(len(ccxt.exchanges))\n",
    "print(ccxt.exchanges)"
   ]
  },
  {
   "cell_type": "code",
   "execution_count": null,
   "id": "37b0221b",
   "metadata": {},
   "outputs": [],
   "source": [
    "# Create Binance.\n",
    "exchange_id = \"binance\"\n",
    "mode = \"test\"\n",
    "contract_type = \"futures\"\n",
    "# Select credentials for provided exchange.\n",
    "if mode == \"test\":\n",
    "    secrets_id = exchange_id + \"_sandbox\"\n",
    "else:\n",
    "    secrets_id = exchange_id\n",
    "exchange_params = hsecret.get_secret(secrets_id)\n",
    "# Enable rate limit.\n",
    "exchange_params[\"rateLimit\"] = True\n",
    "# Log into futures/spot market.\n",
    "if contract_type == \"futures\":\n",
    "    exchange_params[\"options\"] = {\"defaultType\": \"future\"}\n",
    "    \n",
    "# Create a CCXT Exchange class object.\n",
    "ccxt_exchange = getattr(ccxt, exchange_id)\n",
    "exchange = ccxt_exchange(exchange_params)\n",
    "if mode == \"test\":\n",
    "    exchange.set_sandbox_mode(True)\n",
    "    _LOG.warning(\"Running in sandbox mode\")\n",
    "hdbg.dassert(\n",
    "    exchange.checkRequiredCredentials(),\n",
    "    msg=\"Required credentials not passed\",\n",
    ")"
   ]
  },
  {
   "cell_type": "markdown",
   "id": "0c35a3c2",
   "metadata": {},
   "source": [
    "## Exchange properties"
   ]
  },
  {
   "cell_type": "code",
   "execution_count": null,
   "id": "d0ff18ef",
   "metadata": {},
   "outputs": [],
   "source": [
    "exchange"
   ]
  },
  {
   "cell_type": "code",
   "execution_count": null,
   "id": "36b2edd0",
   "metadata": {},
   "outputs": [],
   "source": [
    "print(ccxt.binance)"
   ]
  },
  {
   "cell_type": "code",
   "execution_count": null,
   "id": "f9145ee3",
   "metadata": {},
   "outputs": [],
   "source": [
    "pprint.pprint(exchange.api)"
   ]
  },
  {
   "cell_type": "code",
   "execution_count": null,
   "id": "327a9bd4",
   "metadata": {},
   "outputs": [],
   "source": [
    "def print_list(list_):\n",
    "    print(\"num=%s\" % len(list_))\n",
    "    print(\"values=%s\" % \" \".join(list_))"
   ]
  },
  {
   "cell_type": "code",
   "execution_count": null,
   "id": "54d0a58f",
   "metadata": {},
   "outputs": [],
   "source": [
    "exchange.loadMarkets()\n",
    "print_list(exchange.markets.keys())\n",
    "# Equivalent to:\n",
    "#print_list(exchange.symbols)\n",
    "#pprint.pprint(exchange.markets)"
   ]
  },
  {
   "cell_type": "code",
   "execution_count": null,
   "id": "557fd26e",
   "metadata": {},
   "outputs": [],
   "source": [
    "print_list(exchange.currencies)"
   ]
  },
  {
   "cell_type": "markdown",
   "id": "695b89d0",
   "metadata": {},
   "source": [
    "## Exchange metadata"
   ]
  },
  {
   "cell_type": "code",
   "execution_count": null,
   "id": "98c24160",
   "metadata": {},
   "outputs": [],
   "source": [
    "# Print all the values.\n",
    "pprint.pprint(exchange.has)"
   ]
  },
  {
   "cell_type": "markdown",
   "id": "b3e35bcb",
   "metadata": {},
   "source": [
    "## Loading markets"
   ]
  },
  {
   "cell_type": "markdown",
   "id": "73d4b7a7",
   "metadata": {},
   "source": [
    "## Symbols and Market Ids"
   ]
  },
  {
   "cell_type": "code",
   "execution_count": null,
   "id": "78d09150",
   "metadata": {},
   "outputs": [],
   "source": [
    "print(exchange.load_markets())"
   ]
  },
  {
   "cell_type": "code",
   "execution_count": null,
   "id": "b78b3f1f",
   "metadata": {},
   "outputs": [],
   "source": [
    "pprint.pprint(exchange.markets['ETH/USDT'])"
   ]
  },
  {
   "cell_type": "code",
   "execution_count": null,
   "id": "a831a707",
   "metadata": {},
   "outputs": [],
   "source": [
    "print(exchange.market_id('ETH/USDT'))"
   ]
  },
  {
   "cell_type": "code",
   "execution_count": null,
   "id": "8dab4791",
   "metadata": {},
   "outputs": [],
   "source": [
    "exchange.symbols"
   ]
  },
  {
   "cell_type": "code",
   "execution_count": null,
   "id": "0540e6e3",
   "metadata": {},
   "outputs": [],
   "source": [
    "exchange.currencies"
   ]
  },
  {
   "cell_type": "code",
   "execution_count": null,
   "id": "74c1a8b0",
   "metadata": {},
   "outputs": [],
   "source": [
    "exchange.commonCurrencies"
   ]
  },
  {
   "cell_type": "markdown",
   "id": "4a41356a",
   "metadata": {},
   "source": [
    "## Implicit API methods"
   ]
  },
  {
   "cell_type": "code",
   "execution_count": null,
   "id": "0b789229",
   "metadata": {},
   "outputs": [],
   "source": [
    "print(dir(ccxt.binance()))"
   ]
  },
  {
   "cell_type": "markdown",
   "id": "f00f7a62",
   "metadata": {},
   "source": [
    "# Unified API"
   ]
  },
  {
   "cell_type": "code",
   "execution_count": null,
   "id": "7bb62343",
   "metadata": {},
   "outputs": [],
   "source": [
    "exchange.fetchMarkets()"
   ]
  },
  {
   "cell_type": "code",
   "execution_count": null,
   "id": "2b32fd71",
   "metadata": {},
   "outputs": [],
   "source": [
    "exchange.fetchCurrencies()"
   ]
  },
  {
   "cell_type": "code",
   "execution_count": null,
   "id": "dd5a12f5",
   "metadata": {},
   "outputs": [],
   "source": [
    "symbol = \"BTC/USDT\"\n",
    "exchange.fetchOrderBook(symbol)"
   ]
  },
  {
   "cell_type": "code",
   "execution_count": null,
   "id": "ea4b4865",
   "metadata": {},
   "outputs": [],
   "source": [
    "# Not supported for Binance\n",
    "#exchange.fetchStatus()"
   ]
  },
  {
   "cell_type": "code",
   "execution_count": null,
   "id": "35690f62",
   "metadata": {},
   "outputs": [],
   "source": [
    "exchange.fetchL2OrderBook(symbol)"
   ]
  },
  {
   "cell_type": "code",
   "execution_count": null,
   "id": "1111282a",
   "metadata": {},
   "outputs": [],
   "source": [
    "exchange.fetchTrades(symbol)"
   ]
  },
  {
   "cell_type": "code",
   "execution_count": null,
   "id": "7000d300",
   "metadata": {},
   "outputs": [],
   "source": [
    "exchange.fetchTicker(symbol)"
   ]
  },
  {
   "cell_type": "code",
   "execution_count": null,
   "id": "5002a7ea",
   "metadata": {},
   "outputs": [],
   "source": [
    "exchange.fetchBalance()"
   ]
  },
  {
   "cell_type": "code",
   "execution_count": null,
   "id": "e28734ce",
   "metadata": {},
   "outputs": [],
   "source": [
    "## Order book"
   ]
  },
  {
   "cell_type": "code",
   "execution_count": null,
   "id": "0909ae6b",
   "metadata": {},
   "outputs": [],
   "source": [
    "exchange.fetch_order_book(symbol)"
   ]
  },
  {
   "cell_type": "markdown",
   "id": "1c918861",
   "metadata": {},
   "source": [
    "## Market price"
   ]
  },
  {
   "cell_type": "code",
   "execution_count": null,
   "id": "f27d5cbe",
   "metadata": {},
   "outputs": [],
   "source": [
    "# Python\n",
    "orderbook = exchange.fetch_order_book (exchange.symbols[0])\n",
    "bid = orderbook['bids'][0][0] if len (orderbook['bids']) > 0 else None\n",
    "ask = orderbook['asks'][0][0] if len (orderbook['asks']) > 0 else None\n",
    "spread = (ask - bid) if (bid and ask) else None\n",
    "print (exchange.id, 'market price', { 'bid': bid, 'ask': ask, 'spread': spread })"
   ]
  },
  {
   "cell_type": "markdown",
   "id": "1d58b9c3",
   "metadata": {},
   "source": [
    "# Private API"
   ]
  },
  {
   "cell_type": "code",
   "execution_count": null,
   "id": "4199653b",
   "metadata": {},
   "outputs": [],
   "source": [
    "#exchange.fetchAccounts()"
   ]
  },
  {
   "cell_type": "code",
   "execution_count": null,
   "id": "5ef6fa31",
   "metadata": {},
   "outputs": [],
   "source": [
    "balance = exchange.fetchBalance()\n",
    "\n",
    "balance"
   ]
  },
  {
   "cell_type": "code",
   "execution_count": null,
   "id": "b621bf87",
   "metadata": {},
   "outputs": [],
   "source": [
    "balance.keys()"
   ]
  },
  {
   "cell_type": "code",
   "execution_count": null,
   "id": "d386253a",
   "metadata": {},
   "outputs": [],
   "source": []
  }
 ],
 "metadata": {
  "jupytext": {
   "formats": "ipynb,py:percent"
  },
  "kernelspec": {
   "display_name": "Python 3 (ipykernel)",
   "language": "python",
   "name": "python3"
  },
  "language_info": {
   "codemirror_mode": {
    "name": "ipython",
    "version": 3
   },
   "file_extension": ".py",
   "mimetype": "text/x-python",
   "name": "python",
   "nbconvert_exporter": "python",
   "pygments_lexer": "ipython3"
  },
  "toc": {
   "base_numbering": 1,
   "nav_menu": {},
   "number_sections": true,
   "sideBar": true,
   "skip_h1_title": false,
   "title_cell": "Table of Contents",
   "title_sidebar": "Contents",
   "toc_cell": false,
   "toc_position": {},
   "toc_section_display": true,
   "toc_window_display": true
  }
 },
 "nbformat": 4,
 "nbformat_minor": 5
}
