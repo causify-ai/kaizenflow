{
 "cells": [
  {
   "cell_type": "markdown",
   "id": "97a1aec7",
   "metadata": {},
   "source": [
    "# Description"
   ]
  },
  {
   "cell_type": "markdown",
   "id": "e601b23d",
   "metadata": {},
   "source": [
    "This notebook contains examples of CCXT functionality."
   ]
  },
  {
   "cell_type": "markdown",
   "id": "890d0997",
   "metadata": {},
   "source": [
    "## Imports"
   ]
  },
  {
   "cell_type": "code",
   "execution_count": null,
   "id": "4910d372",
   "metadata": {},
   "outputs": [],
   "source": [
    "%load_ext autoreload\n",
    "%autoreload 2\n",
    "import logging\n",
    "import pprint\n",
    "\n",
    "import ccxt\n",
    "import pandas as pd\n",
    "\n",
    "import helpers.hdbg as hdbg\n",
    "import helpers.henv as henv\n",
    "import helpers.hprint as hprint\n",
    "import helpers.hsecrets as hsecret"
   ]
  },
  {
   "cell_type": "code",
   "execution_count": null,
   "id": "2491b649",
   "metadata": {},
   "outputs": [],
   "source": [
    "hdbg.init_logger(verbosity=logging.INFO)\n",
    "\n",
    "_LOG = logging.getLogger(__name__)\n",
    "\n",
    "_LOG.info(\"%s\", henv.get_system_signature()[0])\n",
    "\n",
    "hprint.config_notebook()"
   ]
  },
  {
   "cell_type": "code",
   "execution_count": null,
   "id": "3ed23555",
   "metadata": {},
   "outputs": [],
   "source": [
    "# Print all exchanges.\n",
    "print(len(ccxt.exchanges))\n",
    "print(ccxt.exchanges)"
   ]
  },
  {
   "cell_type": "code",
   "execution_count": null,
   "id": "2e079750",
   "metadata": {},
   "outputs": [],
   "source": [
    "# Create Binance.\n",
    "exchange_id = \"binance\"\n",
    "mode = \"test\"\n",
    "contract_type = \"futures\"\n",
    "# Select credentials for provided exchange.\n",
    "if mode == \"test\":\n",
    "    secrets_id = exchange_id + \"_sandbox\"\n",
    "else:\n",
    "    secrets_id = exchange_id\n",
    "exchange_params = hsecret.get_secret(secrets_id)\n",
    "# Enable rate limit.\n",
    "exchange_params[\"rateLimit\"] = True\n",
    "# Log into futures/spot market.\n",
    "if contract_type == \"futures\":\n",
    "    exchange_params[\"options\"] = {\"defaultType\": \"future\"}\n",
    "\n",
    "# Create a CCXT Exchange class object.\n",
    "ccxt_exchange = getattr(ccxt, exchange_id)\n",
    "exchange = ccxt_exchange(exchange_params)\n",
    "if mode == \"test\":\n",
    "    exchange.set_sandbox_mode(True)\n",
    "    _LOG.warning(\"Running in sandbox mode\")\n",
    "hdbg.dassert(\n",
    "    exchange.checkRequiredCredentials(),\n",
    "    msg=\"Required credentials not passed\",\n",
    ")"
   ]
  },
  {
   "cell_type": "markdown",
   "id": "955344ad",
   "metadata": {},
   "source": [
    "## Exchange properties"
   ]
  },
  {
   "cell_type": "code",
   "execution_count": null,
   "id": "6fa22183",
   "metadata": {},
   "outputs": [],
   "source": [
    "exchange"
   ]
  },
  {
   "cell_type": "code",
   "execution_count": null,
   "id": "b35a3d86",
   "metadata": {},
   "outputs": [],
   "source": [
    "print(ccxt.binance)"
   ]
  },
  {
   "cell_type": "code",
   "execution_count": null,
   "id": "89d9a4f0",
   "metadata": {},
   "outputs": [],
   "source": [
    "pprint.pprint(exchange.api)"
   ]
  },
  {
   "cell_type": "code",
   "execution_count": null,
   "id": "88c040cf",
   "metadata": {},
   "outputs": [],
   "source": [
    "def print_list(list_):\n",
    "    print(\"num=%s\" % len(list_))\n",
    "    print(\"values=%s\" % \" \".join(list_))"
   ]
  },
  {
   "cell_type": "code",
   "execution_count": null,
   "id": "58de82ea",
   "metadata": {},
   "outputs": [],
   "source": [
    "exchange.loadMarkets()\n",
    "print_list(exchange.markets.keys())\n",
    "# Equivalent to:\n",
    "# print_list(exchange.symbols)\n",
    "# pprint.pprint(exchange.markets)"
   ]
  },
  {
   "cell_type": "code",
   "execution_count": null,
   "id": "7408c965",
   "metadata": {},
   "outputs": [],
   "source": [
    "print_list(exchange.currencies)"
   ]
  },
  {
   "cell_type": "markdown",
   "id": "b4d69151",
   "metadata": {},
   "source": [
    "## Exchange metadata"
   ]
  },
  {
   "cell_type": "code",
   "execution_count": null,
   "id": "79ebbdd2",
   "metadata": {},
   "outputs": [],
   "source": [
    "# Print all the values.\n",
    "pprint.pprint(exchange.has)"
   ]
  },
  {
   "cell_type": "markdown",
   "id": "156fa8e6",
   "metadata": {},
   "source": [
    "## Loading markets"
   ]
  },
  {
   "cell_type": "markdown",
   "id": "e845a2e2",
   "metadata": {},
   "source": [
    "## Symbols and Market Ids"
   ]
  },
  {
   "cell_type": "code",
   "execution_count": null,
   "id": "38f3795d",
   "metadata": {},
   "outputs": [],
   "source": [
    "print(exchange.load_markets())"
   ]
  },
  {
   "cell_type": "code",
   "execution_count": null,
   "id": "1ad7ce99",
   "metadata": {},
   "outputs": [],
   "source": [
    "pprint.pprint(exchange.markets[\"ETH/USDT\"])"
   ]
  },
  {
   "cell_type": "code",
   "execution_count": null,
   "id": "35bf4845",
   "metadata": {},
   "outputs": [],
   "source": [
    "print(exchange.market_id(\"ETH/USDT\"))"
   ]
  },
  {
   "cell_type": "code",
   "execution_count": null,
   "id": "f2e75940",
   "metadata": {},
   "outputs": [],
   "source": [
    "exchange.symbols"
   ]
  },
  {
   "cell_type": "code",
   "execution_count": null,
   "id": "9ae059c5",
   "metadata": {},
   "outputs": [],
   "source": [
    "exchange.currencies"
   ]
  },
  {
   "cell_type": "code",
   "execution_count": null,
   "id": "e71affaa",
   "metadata": {},
   "outputs": [],
   "source": [
    "exchange.commonCurrencies"
   ]
  },
  {
   "cell_type": "markdown",
   "id": "53b7b294",
   "metadata": {},
   "source": [
    "## Implicit API methods"
   ]
  },
  {
   "cell_type": "code",
   "execution_count": null,
   "id": "9761119d",
   "metadata": {},
   "outputs": [],
   "source": [
    "print(dir(ccxt.binance()))"
   ]
  },
  {
   "cell_type": "markdown",
   "id": "a17ba436",
   "metadata": {},
   "source": [
    "# Unified API"
   ]
  },
  {
   "cell_type": "code",
   "execution_count": null,
   "id": "ad7b61eb",
   "metadata": {},
   "outputs": [],
   "source": [
    "exchange.fetchMarkets()"
   ]
  },
  {
   "cell_type": "code",
   "execution_count": null,
   "id": "5e565667",
   "metadata": {},
   "outputs": [],
   "source": [
    "exchange.fetchCurrencies()"
   ]
  },
  {
   "cell_type": "code",
   "execution_count": null,
   "id": "bc50d625",
   "metadata": {},
   "outputs": [],
   "source": [
    "symbol = \"BTC/USDT\"\n",
    "exchange.fetchOrderBook(symbol)"
   ]
  },
  {
   "cell_type": "code",
   "execution_count": null,
   "id": "45dc3633",
   "metadata": {},
   "outputs": [],
   "source": [
    "# Not supported for Binance\n",
    "# exchange.fetchStatus()"
   ]
  },
  {
   "cell_type": "code",
   "execution_count": null,
   "id": "8bd070a5",
   "metadata": {},
   "outputs": [],
   "source": [
    "exchange.fetchL2OrderBook(symbol)"
   ]
  },
  {
   "cell_type": "code",
   "execution_count": null,
   "id": "50f54cc0",
   "metadata": {},
   "outputs": [],
   "source": [
    "exchange.fetchTrades(symbol)"
   ]
  },
  {
   "cell_type": "code",
   "execution_count": null,
   "id": "58a07002",
   "metadata": {},
   "outputs": [],
   "source": [
    "exchange.fetchTicker(symbol)"
   ]
  },
  {
   "cell_type": "code",
   "execution_count": null,
   "id": "bebe9ce3",
   "metadata": {},
   "outputs": [],
   "source": [
    "exchange.fetchBalance()"
   ]
  },
  {
   "cell_type": "code",
   "execution_count": null,
   "id": "eb312da7",
   "metadata": {},
   "outputs": [],
   "source": [
    "## Order book"
   ]
  },
  {
   "cell_type": "code",
   "execution_count": null,
   "id": "cf14fccf",
   "metadata": {},
   "outputs": [],
   "source": [
    "exchange.fetch_order_book(symbol)"
   ]
  },
  {
   "cell_type": "markdown",
   "id": "564f5be5",
   "metadata": {},
   "source": [
    "## Market price"
   ]
  },
  {
   "cell_type": "code",
   "execution_count": null,
   "id": "68fe775f",
   "metadata": {},
   "outputs": [],
   "source": [
    "# Python\n",
    "orderbook = exchange.fetch_order_book(exchange.symbols[0])\n",
    "bid = orderbook[\"bids\"][0][0] if len(orderbook[\"bids\"]) > 0 else None\n",
    "ask = orderbook[\"asks\"][0][0] if len(orderbook[\"asks\"]) > 0 else None\n",
    "spread = (ask - bid) if (bid and ask) else None\n",
    "print(exchange.id, \"market price\", {\"bid\": bid, \"ask\": ask, \"spread\": spread})"
   ]
  },
  {
   "cell_type": "markdown",
   "id": "85212a26",
   "metadata": {},
   "source": [
    "# Private API"
   ]
  },
  {
   "cell_type": "code",
   "execution_count": null,
   "id": "b59460af",
   "metadata": {},
   "outputs": [],
   "source": [
    "# exchange.fetchAccounts()"
   ]
  },
  {
   "cell_type": "code",
   "execution_count": null,
   "id": "1f271b7f",
   "metadata": {},
   "outputs": [],
   "source": [
    "balance = exchange.fetchBalance()\n",
    "\n",
    "balance"
   ]
  },
  {
   "cell_type": "code",
   "execution_count": null,
   "id": "47f62a4f",
   "metadata": {},
   "outputs": [],
   "source": [
    "balance.keys()"
   ]
  },
  {
   "cell_type": "code",
   "execution_count": null,
   "id": "2bbfe75c",
   "metadata": {},
   "outputs": [],
   "source": []
  }
 ],
 "metadata": {
  "jupytext": {
   "formats": "ipynb,py:percent"
  },
  "kernelspec": {
   "display_name": "Python 3 (ipykernel)",
   "language": "python",
   "name": "python3"
  },
  "language_info": {
   "name": "python"
  },
  "vscode": {
   "interpreter": {
    "hash": "4e89a85523f55851da9dcdc0e99fc639c0bc1deb349b5926c635581d9876f950"
   }
  }
 },
 "nbformat": 4,
 "nbformat_minor": 5
}
