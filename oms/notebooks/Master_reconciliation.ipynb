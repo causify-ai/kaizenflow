{
 "cells": [
  {
   "cell_type": "code",
   "execution_count": null,
   "id": "cd4dc514",
   "metadata": {},
   "outputs": [],
   "source": [
    "%load_ext autoreload\n",
    "%autoreload 2\n",
    "%matplotlib inline"
   ]
  },
  {
   "cell_type": "code",
   "execution_count": null,
   "id": "582ffb6d",
   "metadata": {},
   "outputs": [],
   "source": [
    "import logging\n",
    "import os\n",
    "import pprint\n",
    "\n",
    "import numpy as np\n",
    "import pandas as pd\n",
    "\n",
    "import core.config as cconfig\n",
    "import core.finance as cofinanc\n",
    "import core.plotting as coplotti\n",
    "import dataflow.model as dtfmod\n",
    "import helpers.hdbg as hdbg\n",
    "import helpers.henv as henv\n",
    "import helpers.hpandas as hpandas\n",
    "import helpers.hprint as hprint\n",
    "import helpers.hsql as hsql\n",
    "import im_v2.ccxt.data.client as icdcl\n",
    "import im_v2.common.universe as ivcu\n",
    "import im_v2.im_lib_tasks as imvimlita\n",
    "import oms as oms"
   ]
  },
  {
   "cell_type": "code",
   "execution_count": null,
   "id": "f443668b",
   "metadata": {},
   "outputs": [],
   "source": [
    "hdbg.init_logger(verbosity=logging.INFO)\n",
    "\n",
    "_LOG = logging.getLogger(__name__)\n",
    "\n",
    "_LOG.info(\"%s\", henv.get_system_signature()[0])\n",
    "\n",
    "hprint.config_notebook()"
   ]
  },
  {
   "cell_type": "markdown",
   "id": "447d21da",
   "metadata": {},
   "source": [
    "# Config"
   ]
  },
  {
   "cell_type": "code",
   "execution_count": null,
   "id": "67ebd2e5",
   "metadata": {},
   "outputs": [],
   "source": [
    "#date_str = \"20221028\"\n",
    "#date_str = \"20221031\"\n",
    "#date_str = \"20221103\"\n",
    "#date_str = \"20221104\"\n",
    "date_str = \"20221107\"\n",
    "#prod_subdir = \"system_log_dir_manual__2022-11-01T12:39:45.395761+00:00_2hours\"\n",
    "prod_subdir = \"system_log_dir_manual__2022-11-07T15:12:00.832111+00:00_2hours\"\n",
    "#prod_subdir = None\n",
    "config_list = oms.build_reconciliation_configs(date_str, prod_subdir)\n",
    "config = config_list[0]\n",
    "print(config)"
   ]
  },
  {
   "cell_type": "code",
   "execution_count": null,
   "id": "926b6bdb",
   "metadata": {},
   "outputs": [],
   "source": [
    "system_log_path_dict, portfolio_path_dict, dag_path_dict = oms.get_path_dicts(config, log_level=logging.INFO)"
   ]
  },
  {
   "cell_type": "code",
   "execution_count": null,
   "id": "1bc6be9d",
   "metadata": {},
   "outputs": [],
   "source": [
    "date_str = config[\"meta\"][\"date_str\"]\n",
    "# TODO(gp): @Grisha infer this from the data from prod Portfolio df, but allow to overwrite.\n",
    "if True:\n",
    "    start_time = \"10:15:00\"\n",
    "    end_time = \"12:10:00\"\n",
    "else:\n",
    "    start_time = \"08:45:00\"\n",
    "    end_time = \"10:40:00\"\n",
    "start_timestamp = pd.Timestamp(date_str + \" \" + start_time, tz=\"America/New_York\")\n",
    "end_timestamp = pd.Timestamp(date_str + \" \" + end_time, tz=\"America/New_York\")\n",
    "_LOG.info(\"start_timestamp=%s\", start_timestamp)\n",
    "_LOG.info(\"end_timestamp=%s\", end_timestamp)"
   ]
  },
  {
   "cell_type": "markdown",
   "id": "a77f571d",
   "metadata": {},
   "source": [
    "# Compare configs"
   ]
  },
  {
   "cell_type": "code",
   "execution_count": null,
   "id": "f0155a17",
   "metadata": {},
   "outputs": [],
   "source": [
    "# This dict points to `system_log_dir/process_forecasts/portfolio` for different experiments.\n",
    "data_type = \"portfolio\"\n",
    "portfolio_path_dict = oms.get_system_log_paths(system_log_path_dict, data_type)\n",
    "portfolio_path_dict"
   ]
  },
  {
   "cell_type": "code",
   "execution_count": null,
   "id": "a8e2d5da",
   "metadata": {},
   "outputs": [],
   "source": [
    "# # Get the universe.\n",
    "# # TODO(Grisha): get the version from the config.\n",
    "# vendor = \"CCXT\"\n",
    "# mode = \"trade\"\n",
    "# version = \"v7.1\"\n",
    "# as_full_symbol = True\n",
    "# full_symbols = ivcu.get_vendor_universe(\n",
    "#     vendor,\n",
    "#     mode,\n",
    "#     version=version,\n",
    "#     as_full_symbol=as_full_symbol,\n",
    "# )\n",
    "# full_symbols"
   ]
  },
  {
   "cell_type": "code",
   "execution_count": null,
   "id": "8b344a51",
   "metadata": {},
   "outputs": [],
   "source": [
    "# # Load the data for the reconciliation date.\n",
    "# # `ImClient` operates in UTC timezone.\n",
    "# start_ts = pd.Timestamp(date_str, tz=\"UTC\")\n",
    "# end_ts = start_ts + pd.Timedelta(days=1)\n",
    "# columns = None\n",
    "# filter_data_mode = \"assert\"\n",
    "# df = im_client.read_data(\n",
    "#     full_symbols, start_ts, end_ts, columns, filter_data_mode\n",
    "# )\n",
    "# hpandas.df_to_str(df, num_rows=5, log_level=logging.INFO)"
   ]
  },
  {
   "cell_type": "code",
   "execution_count": null,
   "id": "e9c7b4f6",
   "metadata": {},
   "outputs": [],
   "source": [
    "# # TODO(Grisha): move to a lib.\n",
    "# # Compute delay in seconds.\n",
    "# df[\"delta\"] = (df[\"knowledge_timestamp\"] - df.index).dt.total_seconds()\n",
    "# # Plot the delay over assets with the errors bars.\n",
    "# minimums = df.groupby(by=[\"full_symbol\"]).min()[\"delta\"]\n",
    "# maximums = df.groupby(by=[\"full_symbol\"]).max()[\"delta\"]\n",
    "# means = df.groupby(by=[\"full_symbol\"]).mean()[\"delta\"]\n",
    "# errors = [means - minimums, maximums - means]\n",
    "# df.groupby(by=[\"full_symbol\"]).mean()[\"delta\"].sort_values(ascending=False).plot(\n",
    "#     kind=\"bar\", yerr=errors\n",
    "# )"
   ]
  },
  {
   "cell_type": "markdown",
   "id": "3b8e60ca",
   "metadata": {},
   "source": [
    "# Compare configs (prod vs vim)"
   ]
  },
  {
   "cell_type": "code",
   "execution_count": null,
   "id": "3cee4c64",
   "metadata": {},
   "outputs": [],
   "source": [
    "configs = oms.load_config_from_pickle(system_log_path_dict)\n",
    "# Diff configs.\n",
    "# TODO(Grisha): the output is only on subconfig level, we should\n",
    "# compare value vs value instead.\n",
    "diff_config = cconfig.build_config_diff_dataframe(\n",
    "    {\n",
    "        \"prod_config\": configs[\"prod\"],\n",
    "        \"sim_config\": configs[\"sim\"],\n",
    "    }\n",
    ")\n",
    "diff_config.T"
   ]
  },
  {
   "cell_type": "markdown",
   "id": "0f370c59",
   "metadata": {},
   "source": [
    "# DAG io"
   ]
  },
  {
   "cell_type": "markdown",
   "id": "7f37d03d",
   "metadata": {},
   "source": [
    "## Compare DAG io (prod vs sim)"
   ]
  },
  {
   "cell_type": "code",
   "execution_count": null,
   "id": "44acc4ee",
   "metadata": {},
   "outputs": [],
   "source": [
    "if False:\n",
    "    file_name1 = \"/shared_data/prod_reconciliation/20221025/prod/system_log_dir_scheduled__2022-10-24T10:00:00+00:00_2hours/dag/node_io/node_io.data/predict.8.process_forecasts.df_out.20221025_061000.parquet\"\n",
    "    df1 = pd.read_parquet(file_name1)\n",
    "\n",
    "    file_name2 = \"/shared_data/prod_reconciliation/20221025/simulation/system_log_dir/dag/node_io/node_io.data/predict.8.process_forecasts.df_out.20221025_061000.parquet\"\n",
    "    df2 = pd.read_parquet(file_name2)\n",
    "\n",
    "    #asset_id = 1030828978\n",
    "    asset_id = 9872743573\n",
    "    #df1['vwap.ret_0.vol_adj_2_hat', asset_id] == df2['vwap.ret_0.vol_adj_2_hat', asset_id]\n",
    "    #column = 'vwap.ret_0.vol_adj_2_hat'\n",
    "    column = 'close'\n",
    "\n",
    "    #pd.concat()\n",
    "\n",
    "    compare_visually_dataframes_kwargs = {\"diff_mode\": \"pct_change\", \"background_gradient\": False}\n",
    "    subset_multiindex_df_kwargs = {\"columns_level0\": [column],\n",
    "                                   #\"columns_level1\": [asset_id]\n",
    "                                  }\n",
    "\n",
    "    hpandas.compare_multiindex_dfs(df1, df2,\n",
    "                                   subset_multiindex_df_kwargs=subset_multiindex_df_kwargs,\n",
    "                                   compare_visually_dataframes_kwargs=compare_visually_dataframes_kwargs )#.dropna().abs().max()"
   ]
  },
  {
   "cell_type": "markdown",
   "id": "7cb5f30f",
   "metadata": {},
   "source": [
    "## Read last node"
   ]
  },
  {
   "cell_type": "code",
   "execution_count": null,
   "id": "ad339000",
   "metadata": {},
   "outputs": [],
   "source": [
    "# Select a specific node and timestamp to analyze.\n",
    "log_level = logging.DEBUG\n",
    "dag_node_names = oms.get_dag_node_names(dag_path_dict[\"prod\"], log_level=log_level)\n",
    "dag_node_name = dag_node_names[-1]\n",
    "print(hprint.to_str(\"dag_node_name\"))\n",
    "\n",
    "dag_node_timestamps = oms.get_dag_node_timestamps(\n",
    "    dag_path_dict[\"prod\"], dag_node_name, as_timestamp=True, log_level=log_level\n",
    ")\n",
    "\n",
    "dag_node_timestamp = dag_node_timestamps[-1][0]\n",
    "print(\"dag_node_timestamp=%s\" % str(dag_node_timestamp))"
   ]
  },
  {
   "cell_type": "code",
   "execution_count": null,
   "id": "a7c44771",
   "metadata": {},
   "outputs": [],
   "source": [
    "# Load DAG output for different experiments.\n",
    "dag_start_timestamp = None\n",
    "dag_end_timestamp = None\n",
    "dag_df_dict = oms.load_dag_outputs(\n",
    "    dag_path_dict,\n",
    "    # TODO(Grisha): maybe load just the last node and timestamp otherwise\n",
    "    # it takes 2 minutes to load the data.\n",
    "    only_last_node=False,\n",
    "    only_last_timestamp=False,\n",
    ")\n",
    "# Get DAG output for the last node and the last timestamp.\n",
    "# TODO(Grisha): use 2 dicts -- one for the last node, last timestamp,\n",
    "# the other one for all nodes, all timestamps for comparison.\n",
    "dag_df_prod = dag_df_dict[\"prod\"][dag_node_names[-1]][dag_node_timestamps[-1][0]]\n",
    "dag_df_sim = dag_df_dict[\"sim\"][dag_node_names[-1]][dag_node_timestamps[-1][0]]\n",
    "hpandas.df_to_str(dag_df_prod, num_rows=5, log_level=logging.INFO)"
   ]
  },
  {
   "cell_type": "code",
   "execution_count": null,
   "id": "9fe1c8ff",
   "metadata": {},
   "outputs": [],
   "source": [
    "compare_dfs_kwargs ={\n",
    "    \"diff_mode\": \"pct_change\",\n",
    "    \"assert_diff_threshold\": None,\n",
    "}\n",
    "dag_diff_df = oms.compute_dag_outputs_diff(\n",
    "    dag_df_dict, compare_dfs_kwargs\n",
    ")"
   ]
  },
  {
   "cell_type": "code",
   "execution_count": null,
   "id": "90977e1b",
   "metadata": {},
   "outputs": [],
   "source": [
    "max_diff = dag_diff_df.abs().max().max()\n",
    "_LOG.info(\"Maximum absolute difference for DAG output=%s\", max_diff)"
   ]
  },
  {
   "cell_type": "code",
   "execution_count": null,
   "id": "218f60fb",
   "metadata": {},
   "outputs": [],
   "source": [
    "if False:\n",
    "    dag_diff_detailed_stats = oms.compute_dag_output_diff_detailed_stats(\n",
    "        dag_diff_df\n",
    "    )"
   ]
  },
  {
   "cell_type": "code",
   "execution_count": null,
   "id": "646d52fd",
   "metadata": {},
   "outputs": [],
   "source": [
    "if False:\n",
    "    # Compute correlations.\n",
    "    prod_sim_dag_corr = dtfmod.compute_correlations(\n",
    "        dag_df_prod,\n",
    "        dag_df_sim,\n",
    "    )\n",
    "    hpandas.df_to_str(\n",
    "        prod_sim_dag_corr.min(),\n",
    "        num_rows=None,\n",
    "        precision=3,\n",
    "        log_level=logging.INFO,\n",
    "    )"
   ]
  },
  {
   "cell_type": "markdown",
   "id": "6b698874",
   "metadata": {},
   "source": [
    "## Compute DAG delay"
   ]
  },
  {
   "cell_type": "code",
   "execution_count": null,
   "id": "cdefcbb7",
   "metadata": {},
   "outputs": [],
   "source": [
    "delay_in_secs = oms.compute_dag_delay_in_seconds(dag_node_timestamps, display_plot=False)"
   ]
  },
  {
   "cell_type": "markdown",
   "id": "d2dcf4a8",
   "metadata": {},
   "source": [
    "# Portfolio"
   ]
  },
  {
   "cell_type": "markdown",
   "id": "44fcaefe",
   "metadata": {},
   "source": [
    "## Compute research portfolio equivalent"
   ]
  },
  {
   "cell_type": "code",
   "execution_count": null,
   "id": "57456e75",
   "metadata": {},
   "outputs": [],
   "source": [
    "if False:\n",
    "    # Compute correlations.\n",
    "    prod_sim_dag_corr = dtfmod.compute_correlations(\n",
    "        dag_df_dict[\"prod\"],\n",
    "        dag_df_dict[\"sim\"],\n",
    "    )\n",
    "    hpandas.df_to_str(\n",
    "        prod_sim_dag_corr.min(),\n",
    "        num_rows=None,\n",
    "        precision=3,\n",
    "        log_level=logging.INFO,\n",
    "    )"
   ]
  },
  {
   "cell_type": "markdown",
   "id": "6234c819",
   "metadata": {},
   "source": [
    "# Compute research portfolio"
   ]
  },
  {
   "cell_type": "code",
   "execution_count": null,
   "id": "a6792d6d",
   "metadata": {},
   "outputs": [],
   "source": [
    "# Build the ForecastEvaluator.\n",
    "forecast_evaluator_from_prices_kwargs = config[\"research_forecast_evaluator_from_prices\"][\"init\"]\n",
    "print(hprint.to_str(\"forecast_evaluator_from_prices_kwargs\", mode=\"pprint\"))\n",
    "fep = dtfmod.ForecastEvaluatorFromPrices(**forecast_evaluator_from_prices_kwargs)\n",
    "# Run.\n",
    "annotate_forecasts_kwargs = config[\"research_forecast_evaluator_from_prices\"][\n",
    "    \"annotate_forecasts_kwargs\"\n",
    "]\n",
    "print(hprint.to_str(\"annotate_forecasts_kwargs\", mode=\"pprint\"))\n",
    "research_portfolio_df, research_portfolio_stats_df = fep.annotate_forecasts(\n",
    "    dag_df_dict[\"prod\"],\n",
    "    **annotate_forecasts_kwargs.to_dict(),\n",
    "    compute_extended_stats=True,\n",
    ")\n",
    "# TODO(gp): Move it to annotate_forecasts?\n",
    "research_portfolio_df = research_portfolio_df.sort_index(axis=1)\n",
    "\n",
    "# Align index with prod and sim portfolios.\n",
    "research_portfolio_df = research_portfolio_df.loc[start_timestamp:end_timestamp]\n",
    "research_portfolio_stats_df = research_portfolio_stats_df.loc[\n",
    "    start_timestamp:end_timestamp\n",
    "]\n",
    "#\n",
    "hpandas.df_to_str(research_portfolio_stats_df, num_rows=5, log_level=logging.INFO)"
   ]
  },
  {
   "cell_type": "markdown",
   "id": "d3ba6b6c",
   "metadata": {},
   "source": [
    "## Load logged portfolios (prod & sim)"
   ]
  },
  {
   "cell_type": "code",
   "execution_count": null,
   "id": "4f49efab",
   "metadata": {},
   "outputs": [],
   "source": [
    "portfolio_config = cconfig.Config.from_dict(\n",
    "    {\n",
    "        \"start_timestamp\": start_timestamp,\n",
    "        \"end_timestamp\": end_timestamp,\n",
    "        \"freq\": config[\"meta\"][\"bar_duration\"],\n",
    "        \"normalize_bar_times\": True,\n",
    "    }\n",
    ")\n",
    "portfolio_config.to_dict()"
   ]
  },
  {
   "cell_type": "code",
   "execution_count": null,
   "id": "392bc083",
   "metadata": {},
   "outputs": [],
   "source": [
    "portfolio_dfs, portfolio_stats_dfs = oms.load_portfolio_dfs(\n",
    "    portfolio_path_dict,\n",
    "    portfolio_config,\n",
    ")\n",
    "# Add research portfolio.\n",
    "portfolio_dfs[\"research\"] = research_portfolio_df\n",
    "#\n",
    "hpandas.df_to_str(portfolio_dfs[\"prod\"], num_rows=5, log_level=logging.INFO)"
   ]
  },
  {
   "cell_type": "code",
   "execution_count": null,
   "id": "67fa369b",
   "metadata": {},
   "outputs": [],
   "source": [
    "# Add research df and combine into a single df.\n",
    "portfolio_stats_dfs[\"research\"] = research_portfolio_stats_df\n",
    "portfolio_stats_df = pd.concat(portfolio_stats_dfs, axis=1)\n",
    "#\n",
    "hpandas.df_to_str(portfolio_stats_df[[\"prod\", \"research\"]], num_rows=5, log_level=logging.INFO)"
   ]
  },
  {
   "cell_type": "markdown",
   "id": "d94bdbe9",
   "metadata": {},
   "source": [
    "## Compute Portfolio statistics (prod vs research vs sim)"
   ]
  },
  {
   "cell_type": "code",
   "execution_count": null,
   "id": "8f9fe22c",
   "metadata": {},
   "outputs": [],
   "source": [
    "bars_to_burn = 1\n",
    "coplotti.plot_portfolio_stats(portfolio_stats_df.iloc[bars_to_burn:])"
   ]
  },
  {
   "cell_type": "code",
   "execution_count": null,
   "id": "8d3425d0",
   "metadata": {},
   "outputs": [],
   "source": [
    "stats_computer = dtfmod.StatsComputer()\n",
    "stats_sxs, _ = stats_computer.compute_portfolio_stats(\n",
    "    portfolio_stats_df.iloc[bars_to_burn:], config[\"meta\"][\"bar_duration\"]\n",
    ")\n",
    "display(stats_sxs)"
   ]
  },
  {
   "cell_type": "markdown",
   "id": "a1ae4b22",
   "metadata": {},
   "source": [
    "## Compare portfolios pairwise (prod vs research vs sim)"
   ]
  },
  {
   "cell_type": "markdown",
   "id": "f3deb90b",
   "metadata": {},
   "source": [
    "### Differences"
   ]
  },
  {
   "cell_type": "markdown",
   "id": "e85f55b8",
   "metadata": {},
   "source": [
    "#### Prod vs sim"
   ]
  },
  {
   "cell_type": "code",
   "execution_count": null,
   "id": "d9f384a5",
   "metadata": {},
   "outputs": [],
   "source": [
    "report_stats = False\n",
    "display_plot = False\n",
    "compare_dfs_kwargs = {\n",
    "    \"column_mode\": \"inner\",\n",
    "    \"diff_mode\": \"pct_change\",\n",
    "    \"remove_inf\": True,\n",
    "    \"assert_diff_threshold\": None,\n",
    "}\n",
    "portfolio_diff_df = oms.compare_portfolios(\n",
    "    portfolio_dfs,\n",
    "    report_stats=report_stats,\n",
    "    display_plot=display_plot,\n",
    "    compare_dfs_kwargs=compare_dfs_kwargs,\n",
    ")\n",
    "hpandas.df_to_str(portfolio_diff_df, num_rows=None, log_level=logging.INFO)"
   ]
  },
  {
   "cell_type": "markdown",
   "id": "8d615ac5",
   "metadata": {},
   "source": [
    "### Correlations"
   ]
  },
  {
   "cell_type": "markdown",
   "id": "2a7c356d",
   "metadata": {},
   "source": [
    "#### Prod vs sim"
   ]
  },
  {
   "cell_type": "code",
   "execution_count": null,
   "id": "1fcbbc9a",
   "metadata": {},
   "outputs": [],
   "source": [
    "if False:\n",
    "    dtfmod.compute_correlations(\n",
    "        portfolio_dfs[\"prod\"],\n",
    "        portfolio_dfs[\"sim\"],\n",
    "        allow_unequal_indices=False,\n",
    "        allow_unequal_columns=False,\n",
    "    )"
   ]
  },
  {
   "cell_type": "markdown",
   "id": "82d39a69",
   "metadata": {},
   "source": [
    "#### Prod vs research"
   ]
  },
  {
   "cell_type": "code",
   "execution_count": null,
   "id": "c2f2ceb6",
   "metadata": {},
   "outputs": [],
   "source": [
    "if False:\n",
    "    dtfmod.compute_correlations(\n",
    "        research_portfolio_df,\n",
    "        portfolio_dfs[\"prod\"],\n",
    "        allow_unequal_indices=True,\n",
    "        allow_unequal_columns=True,\n",
    "    )"
   ]
  },
  {
   "cell_type": "markdown",
   "id": "76a90466",
   "metadata": {},
   "source": [
    "#### Sim vs research"
   ]
  },
  {
   "cell_type": "code",
   "execution_count": null,
   "id": "d6cec0e1",
   "metadata": {},
   "outputs": [],
   "source": [
    "if False:\n",
    "    dtfmod.compute_correlations(\n",
    "        research_portfolio_df,\n",
    "        portfolio_dfs[\"sim\"],\n",
    "        allow_unequal_indices=True,\n",
    "        allow_unequal_columns=True,\n",
    "    )"
   ]
  },
  {
   "cell_type": "markdown",
   "id": "4392ede9",
   "metadata": {},
   "source": [
    "# Target positions"
   ]
  },
  {
   "cell_type": "markdown",
   "id": "38fb45c0",
   "metadata": {},
   "source": [
    "## Load target positions (prod)"
   ]
  },
  {
   "cell_type": "code",
   "execution_count": null,
   "id": "3aeb11ad",
   "metadata": {},
   "outputs": [],
   "source": [
    "prod_target_position_df = oms.load_target_positions(\n",
    "    portfolio_path_dict[\"prod\"].strip(\"portfolio\"),\n",
    "    start_timestamp,\n",
    "    end_timestamp,\n",
    "    config[\"meta\"][\"bar_duration\"],\n",
    "    normalize_bar_times=True\n",
    ")\n",
    "hpandas.df_to_str(prod_target_position_df, num_rows=5, log_level=logging.INFO)\n",
    "if False:\n",
    "    # TODO(Grisha): compare prod vs sim at some point.\n",
    "    sim_target_position_df = oms.load_target_positions(\n",
    "        portfolio_path_dict[\"sim\"].strip(\"portfolio\"),\n",
    "        start_timestamp,\n",
    "        end_timestamp,\n",
    "        config[\"meta\"][\"bar_duration\"],\n",
    "        normalize_bar_times=True\n",
    "    )"
   ]
  },
  {
   "cell_type": "markdown",
   "id": "ad275c62",
   "metadata": {},
   "source": [
    "## Compare positions target vs executed (prod)"
   ]
  },
  {
   "cell_type": "code",
   "execution_count": null,
   "id": "a1807595",
   "metadata": {},
   "outputs": [],
   "source": [
    "# TODO(Grisha): use `hpandas.compare_dfs()`.\n",
    "df1 = prod_target_position_df[\"target_holdings_shares\"].shift(1)\n",
    "df2 = prod_target_position_df[\"holdings_shares\"]\n",
    "diff = df1 - df2\n",
    "hpandas.df_to_str(diff, num_rows=5, log_level=logging.INFO)"
   ]
  },
  {
   "cell_type": "markdown",
   "id": "4daa8386",
   "metadata": {},
   "source": [
    "## Compare target positions (prod vs research)"
   ]
  },
  {
   "cell_type": "markdown",
   "id": "fd2bf3b0",
   "metadata": {},
   "source": [
    "### Price"
   ]
  },
  {
   "cell_type": "code",
   "execution_count": null,
   "id": "dc3707f7",
   "metadata": {},
   "outputs": [],
   "source": [
    "# TODO(Grisha): wrap in a function since it's common for all columns.\n",
    "column = \"price\"\n",
    "prod_df = prod_target_position_df[column]\n",
    "res_df = research_portfolio_df[column]\n",
    "\n",
    "# Compute percentage difference.\n",
    "diff_df = hpandas.compare_dfs(\n",
    "    prod_df,\n",
    "    res_df,\n",
    "    diff_mode= \"pct_change\",\n",
    ")\n",
    "# Remove the sign and NaNs.\n",
    "diff_df = diff_df.abs()\n",
    "# Check that data is the same.\n",
    "print(diff_df.max().max())\n",
    "if False:\n",
    "    hpandas.heatmap_df(diff_df.round(2))"
   ]
  },
  {
   "cell_type": "markdown",
   "id": "6b6b1b3a",
   "metadata": {},
   "source": [
    "### Volatility"
   ]
  },
  {
   "cell_type": "code",
   "execution_count": null,
   "id": "ce7f5527",
   "metadata": {},
   "outputs": [],
   "source": [
    "column = \"volatility\"\n",
    "prod_df = prod_target_position_df[column]\n",
    "res_df = research_portfolio_df[column]\n",
    "\n",
    "# Compute percentage difference.\n",
    "diff_df = hpandas.compare_dfs(\n",
    "    prod_df,\n",
    "    res_df,\n",
    "    diff_mode= \"pct_change\",\n",
    ")\n",
    "# Remove the sign and NaNs.\n",
    "diff_df = diff_df.abs()\n",
    "# Check that data is the same.\n",
    "print(diff_df.max().max())\n",
    "if False:\n",
    "    hpandas.heatmap_df(diff_df.round(2))"
   ]
  },
  {
   "cell_type": "markdown",
   "id": "d7221243",
   "metadata": {},
   "source": [
    "### Prediction"
   ]
  },
  {
   "cell_type": "code",
   "execution_count": null,
   "id": "83f8ecbe",
   "metadata": {},
   "outputs": [],
   "source": [
    "column = \"prediction\"\n",
    "prod_df = prod_target_position_df[column]\n",
    "res_df = research_portfolio_df[column]\n",
    "\n",
    "# Compute percentage difference.\n",
    "diff_df = hpandas.compare_dfs(\n",
    "    prod_df,\n",
    "    res_df,\n",
    "    diff_mode= \"pct_change\",\n",
    ")\n",
    "# Remove the sign and NaNs.\n",
    "diff_df = diff_df.abs()\n",
    "# Check that data is the same.\n",
    "print(diff_df.max().max())\n",
    "if False:\n",
    "    hpandas.heatmap_df(diff_df.round(2))"
   ]
  },
  {
   "cell_type": "markdown",
   "id": "32bb7050",
   "metadata": {},
   "source": [
    "### Current holdings"
   ]
  },
  {
   "cell_type": "code",
   "execution_count": null,
   "id": "b9b3076f",
   "metadata": {},
   "outputs": [],
   "source": [
    "column = \"holdings_shares\"\n",
    "prod_df = prod_target_position_df[column]\n",
    "res_df = research_portfolio_df[column]\n",
    "\n",
    "# Compute percentage difference.\n",
    "diff_df = hpandas.compare_dfs(\n",
    "    prod_df,\n",
    "    res_df,\n",
    "    diff_mode= \"pct_change\",\n",
    "    assert_diff_threshold=None,\n",
    ")\n",
    "# Remove the sign and NaNs.\n",
    "diff_df = diff_df.abs()\n",
    "# Check that data is the same.\n",
    "print(diff_df.max().max())\n",
    "if False:\n",
    "    hpandas.heatmap_df(diff_df.round(2))"
   ]
  },
  {
   "cell_type": "markdown",
   "id": "3abdf36e",
   "metadata": {},
   "source": [
    "### Target holdings"
   ]
  },
  {
   "cell_type": "markdown",
   "id": "14437e37",
   "metadata": {},
   "source": [
    "## Prod vs sim"
   ]
  },
  {
   "cell_type": "code",
   "execution_count": null,
   "id": "d1d1c277",
   "metadata": {},
   "outputs": [],
   "source": [
    "prod_df = prod_target_position_df[\"target_holdings_shares\"].shift(1)\n",
    "res_df = research_portfolio_df[\"holdings_shares\"]\n",
    "\n",
    "# Compute percentage difference.\n",
    "diff_df = hpandas.compare_dfs(\n",
    "    prod_df,\n",
    "    res_df,\n",
    "    diff_mode= \"pct_change\",\n",
    "    assert_diff_threshold=None,\n",
    ")\n",
    "# Remove the sign and NaNs.\n",
    "diff_df = diff_df.abs()\n",
    "# Check that data is the same.\n",
    "print(diff_df.max().max())\n",
    "if False:\n",
    "    hpandas.heatmap_df(diff_df.round(2))"
   ]
  },
  {
   "cell_type": "markdown",
   "id": "68e2b7b1",
   "metadata": {},
   "source": [
    "# Orders "
   ]
  },
  {
   "cell_type": "markdown",
   "id": "0a494b76",
   "metadata": {},
   "source": [
    "## Load orders (prod & sim)"
   ]
  },
  {
   "cell_type": "code",
   "execution_count": null,
   "id": "b74d0fde",
   "metadata": {},
   "outputs": [],
   "source": [
    "prod_order_df = oms.TargetPositionAndOrderGenerator.load_orders(\n",
    "    portfolio_path_dict[\"prod\"].strip(\"portfolio\"),\n",
    ")\n",
    "hpandas.df_to_str(prod_order_df, num_rows=5, log_level=logging.INFO)\n",
    "sim_order_df = oms.TargetPositionAndOrderGenerator.load_orders(\n",
    "    portfolio_path_dict[\"sim\"].strip(\"portfolio\"),\n",
    ")\n",
    "hpandas.df_to_str(sim_order_df, num_rows=5, log_level=logging.INFO)"
   ]
  },
  {
   "cell_type": "markdown",
   "id": "6a3d926d",
   "metadata": {},
   "source": [
    "## Compare orders (prod vs sim)"
   ]
  },
  {
   "cell_type": "code",
   "execution_count": null,
   "id": "d143ba91",
   "metadata": {},
   "outputs": [],
   "source": [
    "# TODO(Grisha): add comparison using the usual `pct_change` approach."
   ]
  },
  {
   "cell_type": "markdown",
   "id": "deafd3af",
   "metadata": {},
   "source": [
    "# Fills statistics"
   ]
  },
  {
   "cell_type": "code",
   "execution_count": null,
   "id": "de63d428",
   "metadata": {},
   "outputs": [],
   "source": [
    "fills = oms.compute_fill_stats(prod_target_position_df)\n",
    "hpandas.df_to_str(fills, num_rows=5, log_level=logging.INFO)\n",
    "fills[\"fill_rate\"].plot()"
   ]
  },
  {
   "cell_type": "markdown",
   "id": "9df30cc5",
   "metadata": {},
   "source": [
    "# Slippage"
   ]
  },
  {
   "cell_type": "code",
   "execution_count": null,
   "id": "8b5135b6",
   "metadata": {},
   "outputs": [],
   "source": [
    "slippage = oms.compute_share_prices_and_slippage(portfolio_dfs[\"prod\"])\n",
    "hpandas.df_to_str(slippage, num_rows=5, log_level=logging.INFO)\n",
    "slippage[\"slippage_in_bps\"].plot()"
   ]
  },
  {
   "cell_type": "code",
   "execution_count": null,
   "id": "9be0ec4c",
   "metadata": {},
   "outputs": [],
   "source": [
    "stacked = slippage[[\"slippage_in_bps\", \"is_benchmark_profitable\"]].stack()\n",
    "stacked[stacked[\"is_benchmark_profitable\"] > 0][\"slippage_in_bps\"].hist(bins=31)\n",
    "stacked[stacked[\"is_benchmark_profitable\"] < 0][\"slippage_in_bps\"].hist(bins=31)"
   ]
  },
  {
   "cell_type": "markdown",
   "id": "4e6510c0",
   "metadata": {},
   "source": [
    "# Total cost accounting"
   ]
  },
  {
   "cell_type": "code",
   "execution_count": null,
   "id": "5e0611eb",
   "metadata": {},
   "outputs": [],
   "source": [
    "notional_costs = oms.compute_notional_costs(\n",
    "    portfolio_dfs[\"prod\"],\n",
    "    prod_target_position_df, \n",
    ")\n",
    "hpandas.df_to_str(notional_costs, num_rows=5, log_level=logging.INFO)"
   ]
  },
  {
   "cell_type": "code",
   "execution_count": null,
   "id": "84059cd6",
   "metadata": {},
   "outputs": [],
   "source": [
    "# Analyze per stock\n",
    "\n",
    "# TODO(gp): Chack amp Master looking for get_asset_slice \n",
    "\n",
    "def plot_together(df1, df2, suffix):\n",
    "    df1 = pd.DataFrame(df1)\n",
    "    df2 = pd.DataFrame(df2)\n",
    "    df = df1.merge(df2,\n",
    "                   left_index=True, right_index=True, \n",
    "                   how=\"outer\", suffixes=suffix)\n",
    "    return df\n",
    "    \n",
    "\n",
    "asset_id = 1966583502\n",
    "#display(oms.get_asset_slice(research_portfolio_df, asset_id).head(5))\n",
    "\n",
    "#display(oms.get_asset_slice(portfolio_dfs[\"prod\"], asset_id).head(5))\n",
    "\n",
    "def add_prices(df):\n",
    "    df = pd.DataFrame(df)\n",
    "    df[\"computed_price\"] = df[\"holdings_notional\"] / df[\"holdings_shares\"]\n",
    "    return df\n",
    "\n",
    "\n",
    "#research_portfolio_df = add_prices(research_portfolio_df)\n",
    "#portfolio_dfs[\"prod\"] = add_prices(portfolio_dfs[\"prod\"])\n",
    "\n",
    "#column = \"executed_trades_notional\"\n",
    "column = \"holdings_notional\"\n",
    "#column = \"computed_price\"\n",
    "df1 = oms.get_asset_slice(research_portfolio_df, asset_id)\n",
    "df1 = add_prices(df1)\n",
    "\n",
    "df2 = oms.get_asset_slice(portfolio_dfs[\"prod\"], asset_id)\n",
    "df2 = add_prices(df2)\n",
    "\n",
    "df = plot_together(df1, df2, [\"_res\", \"_prod\"])\n",
    "#display(df.head(3))\n",
    "#df = df[[\"price\", \"computed_price_res\", \"computed_price_prod\"]].pct_change()\n",
    "#df = df[[\"price\", \"computed_price_res\", \"computed_price_prod\"]]\n",
    "#df = df[[\"pnl_res\", \"pnl_prod\"]]\n",
    "df = df[[\"holdings_notional_res\", \"holdings_notional_prod\"]]\n",
    "display(df)\n",
    "#df.plot()\n",
    "\n",
    "#df.plot()"
   ]
  },
  {
   "cell_type": "markdown",
   "id": "f4d70126",
   "metadata": {},
   "source": [
    "## Research vs sim"
   ]
  },
  {
   "cell_type": "code",
   "execution_count": null,
   "id": "9f6a5a05",
   "metadata": {},
   "outputs": [],
   "source": [
    "cost_df = oms.apply_costs_to_baseline(\n",
    "    portfolio_stats_dfs[\"research\"],\n",
    "    portfolio_stats_dfs[\"prod\"],\n",
    "    portfolio_dfs[\"prod\"],\n",
    "    prod_target_position_df, \n",
    ")\n",
    "hpandas.df_to_str(cost_df, num_rows=5, log_level=logging.INFO)"
   ]
  },
  {
   "cell_type": "code",
   "execution_count": null,
   "id": "779e27c7",
   "metadata": {},
   "outputs": [],
   "source": [
    "cost_df[[\"pnl\", \"baseline_pnl_minus_costs\", \"baseline_pnl\"]].plot()\n",
    "cost_df[[\"pnl\", \"baseline_pnl_minus_costs\"]].plot()"
   ]
  },
  {
   "cell_type": "markdown",
   "id": "036efab1",
   "metadata": {},
   "source": [
    "# TCA"
   ]
  },
  {
   "cell_type": "code",
   "execution_count": null,
   "id": "2400afda",
   "metadata": {},
   "outputs": [],
   "source": [
    "research_portfolio_df[\"holdings_shares\"].head(10)"
   ]
  },
  {
   "cell_type": "markdown",
   "id": "a1dfc93f",
   "metadata": {},
   "source": [
    "# Orders"
   ]
  },
  {
   "cell_type": "code",
   "execution_count": null,
   "id": "8e69d5ac",
   "metadata": {},
   "outputs": [],
   "source": [
    "prod_order_df = oms.TargetPositionAndOrderGenerator.load_orders(\n",
    "    portfolio_path_dict[\"prod\"].strip(\"portfolio\"),\n",
    ")\n",
    "hpandas.df_to_str(prod_order_df, log_level=logging.INFO)"
   ]
  },
  {
   "cell_type": "code",
   "execution_count": null,
   "id": "13ecb4c7",
   "metadata": {},
   "outputs": [],
   "source": [
    "sim_order_df = oms.TargetPositionAndOrderGenerator.load_orders(\n",
    "    portfolio_path_dict[\"sim\"].strip(\"portfolio\"),\n",
    ")\n",
    "hpandas.df_to_str(sim_order_df, log_level=logging.INFO)"
   ]
  },
  {
   "cell_type": "code",
   "execution_count": null,
   "id": "9e3b1d17",
   "metadata": {},
   "outputs": [],
   "source": [
    "prod_order_df.groupby([\"creation_timestamp\", \"asset_id\"]).count()"
   ]
  },
  {
   "cell_type": "code",
   "execution_count": null,
   "id": "f6a1ed24",
   "metadata": {},
   "outputs": [],
   "source": [
    "asset_id = 6051632686\n",
    "\n",
    "mask = prod_order_df[\"asset_id\"] == asset_id\n",
    "prod_order_df[mask].head(6)"
   ]
  },
  {
   "cell_type": "markdown",
   "id": "12111f05",
   "metadata": {},
   "source": [
    "## Target vs executed"
   ]
  },
  {
   "cell_type": "code",
   "execution_count": null,
   "id": "f6a50714",
   "metadata": {},
   "outputs": [],
   "source": [
    "#df1 = prod_target_position_df[\"target_holdings_shares\"][asset_id].shift(1)\n",
    "#df2 = prod_target_position_df[\"holdings_shares\"][asset_id]\n",
    "\n",
    "df1 = prod_target_position_df[\"target_holdings_shares\"].shift(1)\n",
    "df2 = prod_target_position_df[\"holdings_shares\"]\n",
    "\n",
    "#df1\n",
    "df1 - df2"
   ]
  },
  {
   "cell_type": "code",
   "execution_count": null,
   "id": "25ef4d1c",
   "metadata": {},
   "outputs": [],
   "source": [
    "#display(prod_target_position_df[\"holdings_shares\"].loc[\"2022-11-01 09:10:00-04:00\"])\n",
    "#display(prod_target_position_df[\"target_holdings_shares\"].loc[\"2022-11-01 09:10:00-04:00\"])"
   ]
  },
  {
   "cell_type": "code",
   "execution_count": null,
   "id": "9d36035a",
   "metadata": {},
   "outputs": [],
   "source": [
    "# We are getting the fills that correspond to the orders and to the change of holdings.\n",
    "prod_target_position_df[\"holdings_shares\"][asset_id].diff()"
   ]
  },
  {
   "cell_type": "markdown",
   "id": "830ef5ad",
   "metadata": {},
   "source": [
    "# Fill stats"
   ]
  },
  {
   "cell_type": "code",
   "execution_count": null,
   "id": "183d7ec0",
   "metadata": {},
   "outputs": [],
   "source": [
    "fills = oms.compute_fill_stats(prod_target_position_df)\n",
    "fills[\"underfill_share_count\"].plot()"
   ]
  },
  {
   "cell_type": "code",
   "execution_count": null,
   "id": "0b87fc32",
   "metadata": {},
   "outputs": [],
   "source": [
    "fills[\"underfill_share_count\"].round(4)"
   ]
  },
  {
   "cell_type": "code",
   "execution_count": null,
   "id": "02e9ecf5",
   "metadata": {},
   "outputs": [],
   "source": [
    "print(fills.columns.levels[0])\n",
    "fills[\"tracking_error_shares\"]\n",
    "\n",
    "# TODO(gp): Add a check to ensure that this is never positive."
   ]
  },
  {
   "cell_type": "code",
   "execution_count": null,
   "id": "b4a6570c",
   "metadata": {},
   "outputs": [],
   "source": [
    "fills[\"fill_rate\"].head()"
   ]
  },
  {
   "cell_type": "code",
   "execution_count": null,
   "id": "38dca982",
   "metadata": {},
   "outputs": [],
   "source": [
    "fills[\"fill_rate\"].plot()"
   ]
  },
  {
   "cell_type": "markdown",
   "id": "332334e5",
   "metadata": {},
   "source": [
    "# Slippage"
   ]
  },
  {
   "cell_type": "code",
   "execution_count": null,
   "id": "106148e4",
   "metadata": {},
   "outputs": [],
   "source": [
    "slippage = oms.compute_share_prices_and_slippage(portfolio_dfs[\"prod\"])\n",
    "slippage[\"slippage_in_bps\"].plot()"
   ]
  },
  {
   "cell_type": "code",
   "execution_count": null,
   "id": "0174929d",
   "metadata": {},
   "outputs": [],
   "source": [
    "slippage[\"slippage_in_bps\"].stack().hist(bins=31)"
   ]
  },
  {
   "cell_type": "code",
   "execution_count": null,
   "id": "55a9600b",
   "metadata": {},
   "outputs": [],
   "source": [
    "# Load forecast dataframes"
   ]
  },
  {
   "cell_type": "code",
   "execution_count": null,
   "id": "2c4ac24d",
   "metadata": {},
   "outputs": [],
   "source": []
  },
  {
   "cell_type": "code",
   "execution_count": null,
   "id": "f8a09369",
   "metadata": {},
   "outputs": [],
   "source": [
    "stacked = slippage[[\"slippage_in_bps\", \"is_benchmark_profitable\"]].stack()"
   ]
  },
  {
   "cell_type": "code",
   "execution_count": null,
   "id": "0f03dc4a",
   "metadata": {},
   "outputs": [],
   "source": [
    "stacked[stacked[\"is_benchmark_profitable\"] > 0][\"slippage_in_bps\"].hist(bins=31)"
   ]
  },
  {
   "cell_type": "code",
   "execution_count": null,
   "id": "cbbbfa35",
   "metadata": {},
   "outputs": [],
   "source": [
    "stacked[stacked[\"is_benchmark_profitable\"] < 0][\"slippage_in_bps\"].hist(bins=31)"
   ]
  },
  {
   "cell_type": "markdown",
   "id": "fb64a124",
   "metadata": {},
   "source": [
    "# Load forecast dataframes"
   ]
  },
  {
   "cell_type": "code",
   "execution_count": null,
   "id": "ae297614",
   "metadata": {},
   "outputs": [],
   "source": [
    "# TODO(gp): @Grisha fix this\n",
    "root_dir = \"/shared_data/prod_reconciliation\"\n",
    "search_str = \"system_log_dir\"\n",
    "runs = [\"prod\", \"sim\"]\n",
    "\n",
    "run_dir_dict = oms.get_run_dirs(root_dir, date_str, search_str, runs)\n",
    "_LOG.info(hprint.to_pretty_str(run_dir_dict))\n",
    "\n",
    "bar_duration = \"5T\"\n",
    "target_position_dfs = oms.load_target_position_versions(\n",
    "    run_dir_dict,\n",
    "    bar_duration,\n",
    ")\n",
    "\n",
    "target_position_dfs[\"prod\"].columns.levels[0]\n",
    "\n",
    "# TODO: Check prod_target_positions_df[\"holdings_shares\"].subtract(prod_portfolio_df[\"holdings_shares\"]) is zero.\n",
    "\n",
    "fills = oms.compute_fill_stats(target_position_dfs[\"prod\"])\n",
    "\n",
    "fills[\"underfill_share_count\"].plot()\n",
    "\n",
    "fills[\"fill_rate\"].plot()"
   ]
  },
  {
   "cell_type": "markdown",
   "id": "e5886273",
   "metadata": {},
   "source": [
    "# Total cost accounting"
   ]
  },
  {
   "cell_type": "code",
   "execution_count": null,
   "id": "20d90b31",
   "metadata": {},
   "outputs": [],
   "source": [
    "notional_costs = oms.compute_notional_costs(\n",
    "    portfolio_dfs[\"prod\"],\n",
    "    target_position_dfs[\"prod\"], \n",
    ")"
   ]
  },
  {
   "cell_type": "code",
   "execution_count": null,
   "id": "980a7170",
   "metadata": {},
   "outputs": [],
   "source": [
    "notional_costs.head()"
   ]
  },
  {
   "cell_type": "code",
   "execution_count": null,
   "id": "829d96f0",
   "metadata": {},
   "outputs": [],
   "source": [
    "notional_costs[\"slippage_notional\"].stack().hist(bins=101)"
   ]
  },
  {
   "cell_type": "code",
   "execution_count": null,
   "id": "b1048495",
   "metadata": {},
   "outputs": [],
   "source": [
    "notional_costs[\"slippage_notional\"].sum().sum()"
   ]
  },
  {
   "cell_type": "code",
   "execution_count": null,
   "id": "82c54818",
   "metadata": {},
   "outputs": [],
   "source": [
    "notional_costs[\"underfill_notional_cost\"].stack().hist(bins=31, log=True)"
   ]
  },
  {
   "cell_type": "code",
   "execution_count": null,
   "id": "553e024f",
   "metadata": {},
   "outputs": [],
   "source": [
    "notional_costs[\"underfill_notional_cost\"].sum().sum()"
   ]
  },
  {
   "cell_type": "code",
   "execution_count": null,
   "id": "54cb835e",
   "metadata": {},
   "outputs": [],
   "source": [
    "cost_df = oms.apply_costs_to_baseline(\n",
    "    portfolio_stats_dfs[\"research\"],\n",
    "    portfolio_stats_dfs[\"prod\"],\n",
    "    portfolio_dfs[\"prod\"],\n",
    "    target_position_dfs[\"prod\"], \n",
    ")"
   ]
  },
  {
   "cell_type": "code",
   "execution_count": null,
   "id": "f9c77dd7",
   "metadata": {},
   "outputs": [],
   "source": [
    "cost_df.plot()"
   ]
  },
  {
   "cell_type": "code",
   "execution_count": null,
   "id": "540133e5",
   "metadata": {},
   "outputs": [],
   "source": [
    "cost_df[[\"baseline_pnl_minus_costs_minus_pnl\", \"underfill_notional_cost\", \"slippage_notional\"]].iloc[2:].plot()"
   ]
  },
  {
   "cell_type": "code",
   "execution_count": null,
   "id": "c7a46dab",
   "metadata": {},
   "outputs": [],
   "source": [
    "cost_df.columns\n",
    "\n",
    "# baseline_pnl -> research\n",
    "# baseline_pnl_minus_cost -> research with \n",
    "# pnl -> production\n",
    "cost_df[[\"pnl\", \"baseline_pnl_minus_costs\", \"baseline_pnl\"]].plot()\n",
    "cost_df[[\"pnl\", \"baseline_pnl_minus_costs\"]].plot()"
   ]
  },
  {
   "cell_type": "markdown",
   "id": "f4aa5143",
   "metadata": {},
   "source": [
    "# Multiday reconciliation"
   ]
  },
  {
   "cell_type": "code",
   "execution_count": null,
   "id": "a1c4ef20",
   "metadata": {},
   "outputs": [],
   "source": [
    "assert 0"
   ]
  },
  {
   "cell_type": "code",
   "execution_count": null,
   "id": "caffdd28",
   "metadata": {},
   "outputs": [],
   "source": [
    "date_strs = oms.get_dir_dates(root_dir)\n",
    "display(date_strs)"
   ]
  },
  {
   "cell_type": "code",
   "execution_count": null,
   "id": "d34affda",
   "metadata": {},
   "outputs": [],
   "source": [
    "(\n",
    "    dag_df,\n",
    "    portfolio_df,\n",
    "    portfolio_stats_df,\n",
    "    target_position_df,\n",
    "    slippage_df,\n",
    "    fills_df,\n",
    ") = oms.load_and_process_artifacts(root_dir, date_strs, search_str, \"prod\", \"15T\")"
   ]
  },
  {
   "cell_type": "code",
   "execution_count": null,
   "id": "77b75949",
   "metadata": {},
   "outputs": [],
   "source": [
    "fep_dict"
   ]
  },
  {
   "cell_type": "code",
   "execution_count": null,
   "id": "fbf3d5d6",
   "metadata": {},
   "outputs": [],
   "source": [
    "research_portfolio_df, research_portfolio_stats_df = fep.annotate_forecasts(\n",
    "    dag_df,\n",
    "    quantization=\"nearest_share\",\n",
    "    target_gmv=20000.,\n",
    "    compute_extended_stats=True,\n",
    ")"
   ]
  },
  {
   "cell_type": "code",
   "execution_count": null,
   "id": "49e807a7",
   "metadata": {},
   "outputs": [],
   "source": [
    "research_portfolio_stats_df[\"pnl\"].resample(\"B\").sum().cumsum().plot()"
   ]
  },
  {
   "cell_type": "markdown",
   "id": "46fd2862",
   "metadata": {},
   "source": [
    "# Total cost accounting"
   ]
  },
  {
   "cell_type": "code",
   "execution_count": null,
   "id": "bcc0b6c9",
   "metadata": {},
   "outputs": [],
   "source": [
    "notional_costs = oms.compute_notional_costs(\n",
    "    portfolio_dfs[\"prod\"],\n",
    "    target_position_dfs[\"prod\"],\n",
    ")"
   ]
  },
  {
   "cell_type": "code",
   "execution_count": null,
   "id": "1662b994",
   "metadata": {},
   "outputs": [],
   "source": [
    "notional_costs.head()"
   ]
  },
  {
   "cell_type": "code",
   "execution_count": null,
   "id": "37aea207",
   "metadata": {},
   "outputs": [],
   "source": [
    "notional_costs[\"slippage_notional\"].stack().hist(bins=101)"
   ]
  },
  {
   "cell_type": "code",
   "execution_count": null,
   "id": "e4761b4b",
   "metadata": {},
   "outputs": [],
   "source": [
    "notional_costs[\"slippage_notional\"].sum().sum()"
   ]
  },
  {
   "cell_type": "code",
   "execution_count": null,
   "id": "03b476db",
   "metadata": {},
   "outputs": [],
   "source": [
    "notional_costs[\"underfill_notional_cost\"].stack().hist(bins=31, log=True)"
   ]
  },
  {
   "cell_type": "code",
   "execution_count": null,
   "id": "71face87",
   "metadata": {},
   "outputs": [],
   "source": [
    "notional_costs[\"underfill_notional_cost\"].sum().sum()"
   ]
  },
  {
   "cell_type": "code",
   "execution_count": null,
   "id": "68189201",
   "metadata": {},
   "outputs": [],
   "source": [
    "cost_df = oms.apply_costs_to_baseline(\n",
    "    portfolio_stats_dfs[\"research\"],\n",
    "    portfolio_stats_dfs[\"prod\"],\n",
    "    portfolio_dfs[\"prod\"],\n",
    "    target_position_dfs[\"prod\"],\n",
    ")"
   ]
  }
 ],
 "metadata": {
  "kernelspec": {
   "display_name": "Python 3 (ipykernel)",
   "language": "python",
   "name": "python3"
  },
  "language_info": {
   "codemirror_mode": {
    "name": "ipython",
    "version": 3
   },
   "file_extension": ".py",
   "mimetype": "text/x-python",
   "name": "python",
   "nbconvert_exporter": "python",
   "pygments_lexer": "ipython3"
  },
  "toc": {
   "base_numbering": 1,
   "nav_menu": {},
   "number_sections": true,
   "sideBar": true,
   "skip_h1_title": false,
   "title_cell": "Table of Contents",
   "title_sidebar": "Contents",
   "toc_cell": false,
   "toc_position": {},
   "toc_section_display": true,
   "toc_window_display": false
  }
 },
 "nbformat": 4,
 "nbformat_minor": 5
}
