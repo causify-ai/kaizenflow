{
 "cells": [
  {
   "cell_type": "code",
   "execution_count": null,
   "id": "a160c995",
   "metadata": {},
   "outputs": [],
   "source": [
    "%load_ext autoreload\n",
    "%autoreload 2\n",
    "%matplotlib inline"
   ]
  },
  {
   "cell_type": "code",
   "execution_count": null,
   "id": "2b704896",
   "metadata": {},
   "outputs": [],
   "source": [
    "import logging\n",
    "import os\n",
    "import pprint\n",
    "from typing import List, Tuple\n",
    "\n",
    "import pandas as pd\n",
    "\n",
    "import core.config as cconfig\n",
    "import core.finance as cofinanc\n",
    "import core.plotting as coplotti\n",
    "import dataflow.model as dtfmod\n",
    "import helpers.hdbg as hdbg\n",
    "import helpers.henv as henv\n",
    "import helpers.hpandas as hpandas\n",
    "import helpers.hprint as hprint\n",
    "import helpers.hsystem as hsystem\n",
    "import oms as oms"
   ]
  },
  {
   "cell_type": "code",
   "execution_count": null,
   "id": "76a947e8",
   "metadata": {},
   "outputs": [],
   "source": [
    "hdbg.init_logger(verbosity=logging.INFO)\n",
    "\n",
    "_LOG = logging.getLogger(__name__)\n",
    "\n",
    "_LOG.info(\"%s\", henv.get_system_signature()[0])\n",
    "\n",
    "hprint.config_notebook()"
   ]
  },
  {
   "cell_type": "code",
   "execution_count": null,
   "id": "96a9abdd",
   "metadata": {},
   "outputs": [],
   "source": [
    "def get_reconciliation_config(date_str: str, asset_class: str) -> cconfig.Config:\n",
    "    \"\"\"\n",
    "    Get a reconciliation that is specific of an asset class.\n",
    "    \n",
    "    :param date_str: reconciliation date as str, e.g., `20221003`\n",
    "    :param asset_class: either `equities` or `crypto`\n",
    "    \"\"\"\n",
    "    # Set values for variables that are specific of an asset class.\n",
    "    if asset_class == \"crypto\":\n",
    "        # For crypto the TCA part is not implemented yet.\n",
    "        run_tca = False\n",
    "        #\n",
    "        bar_duration = \"5T\"\n",
    "        #\n",
    "        root_dir = \"/shared_data/prod_reconciliation\"\n",
    "        # TODO(Grisha): probably we should rename to `system_log_dir`.\n",
    "        prod_dir = os.path.join(root_dir, date_str, \"prod\", \"system_log_dir_scheduled__2022-10-03T10:00:00+00:00_2hours\")\n",
    "        data_dict = {\n",
    "           \"prod_dir\": prod_dir,\n",
    "           # For crypto we do not have a `candidate` so we just re-use prod.\n",
    "           \"cand_dir\": prod_dir,\n",
    "           \"sim_dir\": os.path.join(root_dir, date_str, \"simulation\", \"system_log_dir\"),\n",
    "        }\n",
    "        #\n",
    "        fep_init_dict = {\n",
    "            \"price_col\": \"vwap\",\n",
    "            \"prediction_col\": \"vwap.ret_0.vol_adj_2_hat\",\n",
    "            \"volatility_col\": \"vwap.ret_0.vol\",\n",
    "        }\n",
    "        quantization = \"no_quantization\"\n",
    "        gmv = 700.0\n",
    "        liquidate_at_end_of_day = False\n",
    "    elif asset_class == \"equities\":\n",
    "        run_tca = True\n",
    "        #\n",
    "        bar_duration = \"15T\"\n",
    "        #\n",
    "        root_dir = \"\"\n",
    "        search_str = \"\"\n",
    "        prod_dir_cmd = f\"find {root_dir}/{date_str}/prod -name '{search_str}'\"\n",
    "        _, prod_dir = hsystem.system_to_string(prod_dir_cmd)\n",
    "        cand_cmd = f\"find {root_dir}/{date_str}/job.candidate.* -name '{search_str}'\"\n",
    "        _, cand_dir = hsystem.system_to_string(cand_cmd)\n",
    "        data_dict = {\n",
    "           \"prod_dir\": prod_dir,\n",
    "           \"cand_dir\": cand_dir,\n",
    "           \"sim_dir\": os.path.join(root_dir, date_str, \"system_log_dir\"),\n",
    "        }\n",
    "        #\n",
    "        fep_init_dict = {\n",
    "            \"price_col\": \"twap\",\n",
    "            \"prediction_col\": \"prediction\",\n",
    "            \"volatility_col\": \"garman_klass_vol\",\n",
    "        }\n",
    "        quantization = \"nearest_share\"\n",
    "        gmv = 20000.0\n",
    "        liquidate_at_end_of_day = True\n",
    "    else:\n",
    "        raise ValueError(f\"Unsupported asset class={asset_class}\")\n",
    "    # Get a config.\n",
    "    config_dict = {\n",
    "        \"meta\": {\n",
    "            \"date_str\": date_str,\n",
    "            \"asset_class\": asset_class,\n",
    "            \"run_tca\": run_tca,\n",
    "            \"bar_duration\": bar_duration,\n",
    "        },\n",
    "        \"load_data_config\": data_dict,\n",
    "        \"research_forecast_evaluator_from_prices\": {\n",
    "            \"init\": fep_init_dict,\n",
    "            \"annotate_forecasts_kwargs\": {\n",
    "                \"quantization\": quantization,\n",
    "                \"burn_in_bars\": 3,\n",
    "                \"style\": \"cross_sectional\",\n",
    "                \"bulk_frac_to_remove\": 0.0,\n",
    "                \"target_gmv\": gmv,\n",
    "                \"liquidate_at_end_of_day\": liquidate_at_end_of_day\n",
    "            }\n",
    "        }\n",
    "    }\n",
    "    \n",
    "    config = cconfig.Config.from_dict(config_dict)\n",
    "    return config"
   ]
  },
  {
   "cell_type": "code",
   "execution_count": null,
   "id": "b9a3bf8e",
   "metadata": {},
   "outputs": [],
   "source": [
    "date_str = \"20221004\"\n",
    "#asset_class = \"equities\"\n",
    "asset_class = \"crypto\"    \n",
    "    \n",
    "config = get_reconciliation_config(date_str, asset_class)\n",
    "print(config)"
   ]
  },
  {
   "cell_type": "markdown",
   "id": "8306d378",
   "metadata": {},
   "source": [
    "# Specify data to load"
   ]
  },
  {
   "cell_type": "code",
   "execution_count": null,
   "id": "b6a0f9a0",
   "metadata": {},
   "outputs": [],
   "source": [
    "# TODO(Grisha): factor out common code.\n",
    "prod_dir = config[\"load_data_config\"][\"prod_dir\"]\n",
    "print(prod_dir)\n",
    "hdbg.dassert(prod_dir)\n",
    "hdbg.dassert_dir_exists(prod_dir)\n",
    "\n",
    "cand_dir = config[\"load_data_config\"][\"cand_dir\"]\n",
    "print(cand_dir)\n",
    "hdbg.dassert(cand_dir)\n",
    "hdbg.dassert_dir_exists(cand_dir)\n",
    "\n",
    "# INV: The research flow can be computed from sim or cand or prod.\n",
    "sim_dir = config[\"load_data_config\"][\"sim_dir\"]\n",
    "print(sim_dir)\n",
    "hdbg.dassert(sim_dir)\n",
    "hdbg.dassert_dir_exists(sim_dir)"
   ]
  },
  {
   "cell_type": "code",
   "execution_count": null,
   "id": "ccfe6853",
   "metadata": {},
   "outputs": [],
   "source": [
    "# TODO(Grisha): factor out common code and use the dict approach for both portfolio_path_dict and\n",
    "#  dag_path_dict.\n",
    "\n",
    "prod_portfolio_dir = os.path.join(prod_dir, \"process_forecasts/portfolio\")\n",
    "hdbg.dassert_dir_exists(prod_portfolio_dir)\n",
    "print(\"prod_portfolio_dir=\", prod_portfolio_dir)\n",
    "prod_dag_dir = os.path.join(prod_dir, \"dag/node_io/node_io.data\")\n",
    "hdbg.dassert_dir_exists(prod_dag_dir)\n",
    "#\n",
    "cand_portfolio_dir = os.path.join(cand_dir, \"process_forecasts/portfolio\")\n",
    "hdbg.dassert_dir_exists(cand_portfolio_dir)\n",
    "print(\"cand_portfolio_dir=\", cand_portfolio_dir)\n",
    "cand_dag_dir = os.path.join(cand_dir, \"dag/node_io/node_io.data\")\n",
    "hdbg.dassert_dir_exists(cand_dag_dir)\n",
    "#\n",
    "sim_portfolio_dir = os.path.join(sim_dir, \"process_forecasts/portfolio\")\n",
    "hdbg.dassert_dir_exists(sim_portfolio_dir)\n",
    "print(\"sim_portfolio_dir=\", sim_portfolio_dir)\n",
    "sim_dag_dir = os.path.join(sim_dir, \"dag/node_io/node_io.data\")\n",
    "hdbg.dassert_dir_exists(sim_dag_dir)\n",
    "\n",
    "# TODO(gp): Load the TCA data for crypto.\n",
    "if config[\"meta\"][\"run_tca\"]:\n",
    "    tca_csv = os.path.join(root_dir, date_str, \"tca/sau1_tca.csv\")\n",
    "    hdbg.dassert_file_exists(tca_csv)"
   ]
  },
  {
   "cell_type": "code",
   "execution_count": null,
   "id": "438928ee",
   "metadata": {},
   "outputs": [],
   "source": [
    "# !ls /shared_data/prod_reconciliation/20221004/prod/system_log_dir_scheduled__2022-10-03T10:00:00+00:00_2hours/process_forecasts"
   ]
  },
  {
   "cell_type": "code",
   "execution_count": null,
   "id": "a6818dd6",
   "metadata": {},
   "outputs": [],
   "source": [
    "# This dict points to `system_log_dir/process_forecasts/portfolio` for different experiments.\n",
    "portfolio_path_dict = {\n",
    "    \"prod\": prod_portfolio_dir,\n",
    "    \"cand\": cand_portfolio_dir,\n",
    "    \"sim\": sim_portfolio_dir,\n",
    "}\n",
    "print(portfolio_path_dict)"
   ]
  },
  {
   "cell_type": "code",
   "execution_count": null,
   "id": "26b982b6",
   "metadata": {},
   "outputs": [],
   "source": [
    "# TODO(gp): @Grisha infer this from the data from prod Portfolio df, but allow to overwrite.\n",
    "\n",
    "# # Load data from prod Portfolio\n",
    "# # Extract min max\n",
    "# if False:\n",
    "#   start_timestamp = pd.Timestamp(date_str + \" 10:05:00\", tz=\"America/New_York\")\n",
    "#   _LOG.info(\"start_timestamp=%s\", start_timestamp)\n",
    "#   end_timestamp = pd.Timestamp(date_str + \" 12:00:00\", tz=\"America/New_York\")\n",
    "#   _LOG.info(\"end_timestamp=%s\", end_timestamp)\n",
    "\n",
    "start_timestamp = pd.Timestamp(date_str + \" 10:05:00\", tz=\"America/New_York\")\n",
    "_LOG.info(\"start_timestamp=%s\", start_timestamp)\n",
    "end_timestamp = pd.Timestamp(date_str + \" 12:00:00\", tz=\"America/New_York\")\n",
    "_LOG.info(\"end_timestamp=%s\", end_timestamp)"
   ]
  },
  {
   "cell_type": "markdown",
   "id": "6ba15119",
   "metadata": {},
   "source": [
    "# Compare DAG io"
   ]
  },
  {
   "cell_type": "code",
   "execution_count": null,
   "id": "0b3f7c21",
   "metadata": {},
   "outputs": [],
   "source": [
    "# TODO(gp): @grisha move to oms/reconciliation.py\n",
    "\n",
    "def get_latest_output_from_last_dag_node(dag_dir: str) -> pd.DataFrame:\n",
    "    \"\"\"\n",
    "    Retrieve the most recent output from the last DAG node.\n",
    "\n",
    "    This function relies on our file naming conventions.\n",
    "    \"\"\"\n",
    "    parquet_files = list(filter(lambda x: \"parquet\" in x, sorted(os.listdir(cand_dag_dir))))\n",
    "    _LOG.info(\"Tail of files found=%s\", parquet_files[-3:])\n",
    "    file_name = parquet_files[-1]\n",
    "    _LOG.info(\"DAG file selected=%s\", file_name)\n",
    "    dag_parquet_path = os.path.join(cand_dag_dir, file_name)\n",
    "    # _LOG.info(\"DAG parquet path=%s\", dag_parquet_path)\n",
    "    dag_df = pd.read_parquet(dag_parquet_path)\n",
    "    return dag_df"
   ]
  },
  {
   "cell_type": "code",
   "execution_count": null,
   "id": "52b6f342",
   "metadata": {},
   "outputs": [],
   "source": [
    "# GOAL: We should be able to specify what exactly we want to run (e.g., prod, cand, sim)\n",
    "# because not everything is always available or important (e.g., for cc we don't have candidate,\n",
    "# for equities we don't always have sim).\n",
    "\n",
    "# INV: prod_dag_df -> dag_df[\"prod\"], cand_dag_df -> dag_df[\"cand\"]"
   ]
  },
  {
   "cell_type": "code",
   "execution_count": null,
   "id": "131e1830",
   "metadata": {},
   "outputs": [],
   "source": [
    "prod_dag_df = get_latest_output_from_last_dag_node(prod_dag_dir)\n",
    "hpandas.df_to_str(prod_dag_df, num_rows=5, log_level=logging.INFO)"
   ]
  },
  {
   "cell_type": "code",
   "execution_count": null,
   "id": "0e3eb42d",
   "metadata": {},
   "outputs": [],
   "source": [
    "sim_dag_df = get_latest_output_from_last_dag_node(sim_dag_dir)\n",
    "hpandas.df_to_str(sim_dag_df, num_rows=5, log_level=logging.INFO)"
   ]
  },
  {
   "cell_type": "code",
   "execution_count": null,
   "id": "06f88fee",
   "metadata": {},
   "outputs": [],
   "source": [
    "prod_sim_dag_corr = dtfmod.compute_correlations(\n",
    "    prod_dag_df,\n",
    "    sim_dag_df,\n",
    ")\n",
    "hpandas.df_to_str(\n",
    "    prod_sim_dag_corr.min(),\n",
    "    num_rows=None,\n",
    "    precision=3,\n",
    "    log_level=logging.INFO,\n",
    ")"
   ]
  },
  {
   "cell_type": "code",
   "execution_count": null,
   "id": "1fbf8c1f",
   "metadata": {},
   "outputs": [],
   "source": [
    "# Make sure they are exactly the same.\n",
    "(prod_dag_df - sim_dag_df).abs().max().max()"
   ]
  },
  {
   "cell_type": "markdown",
   "id": "51d6ff22",
   "metadata": {},
   "source": [
    "# Compute research portfolio equivalent"
   ]
  },
  {
   "cell_type": "code",
   "execution_count": null,
   "id": "5d99af38",
   "metadata": {},
   "outputs": [],
   "source": [
    "# TODO(gp): to_str?\n",
    "print('config[\"research_forecast_evaluator_from_prices\"][\"init\"]=\\n' +\n",
    "      hprint.indent(\n",
    "          str(config[\"research_forecast_evaluator_from_prices\"][\"init\"])))\n",
    "fep = dtfmod.ForecastEvaluatorFromPrices(\n",
    "    **config[\"research_forecast_evaluator_from_prices\"][\"init\"])"
   ]
  },
  {
   "cell_type": "code",
   "execution_count": null,
   "id": "88617f6e",
   "metadata": {},
   "outputs": [],
   "source": [
    "# TODO(gp): to_str?\n",
    "print(hprint.to_str('config[\"research_forecast_evaluator_from_prices\"][\"annotate_forecasts_kwargs\"]',\n",
    "                    char_separator=\"\\n\"))\n",
    "\n",
    "research_portfolio_df, research_portfolio_stats_df = fep.annotate_forecasts(\n",
    "    prod_dag_df,\n",
    "    **config[\"research_forecast_evaluator_from_prices\"][\"annotate_forecasts_kwargs\"],\n",
    "    compute_extended_stats=True\n",
    ")"
   ]
  },
  {
   "cell_type": "code",
   "execution_count": null,
   "id": "79f1e055",
   "metadata": {},
   "outputs": [],
   "source": [
    "# TODO(gp): We should have a function for this\n",
    "research_portfolio_df.transpose().xs(1030828978, level=1).transpose()"
   ]
  },
  {
   "cell_type": "code",
   "execution_count": null,
   "id": "9a89cbaa",
   "metadata": {},
   "outputs": [],
   "source": [
    "# TODO(gp): Consider adding printing the levels to df_to_str.\n",
    "# TODO(gp): Consider showing only the first few columns of second level (e.g., num_cols=2 to see 2\n",
    "#. assets)\n",
    "print(research_portfolio_df.columns.levels[0])\n",
    "\n",
    "# TODO(gp): num_rows=2 by default\n",
    "# TODO(gp): Add switch skip_nans\n",
    "hpandas.df_to_str(research_portfolio_df, num_rows=2, log_level=logging.INFO)\n",
    "\n",
    "# price, volatility, prediction are the inputs from the DAG (that are propagated)\n",
    "# the rest is computed using the parameters for the ForecastEvaluator"
   ]
  },
  {
   "cell_type": "code",
   "execution_count": null,
   "id": "2b8cd247",
   "metadata": {},
   "outputs": [],
   "source": [
    "hpandas.df_to_str(research_portfolio_stats_df, log_level=logging.INFO)"
   ]
  },
  {
   "cell_type": "code",
   "execution_count": null,
   "id": "820f831c",
   "metadata": {},
   "outputs": [],
   "source": [
    "# TODO(gp): Move the sorting to annotate_forecasts only for the second level.\n",
    "# Ideally, we should have assume that things are sorted and if they are not asserts.\n",
    "# Then there is a switch to acknowledge this problem and solve it.\n",
    "research_portfolio_df = research_portfolio_df.sort_index(axis=1, level=1)"
   ]
  },
  {
   "cell_type": "markdown",
   "id": "255c181d",
   "metadata": {},
   "source": [
    "# Target positions"
   ]
  },
  {
   "cell_type": "code",
   "execution_count": null,
   "id": "3858dbf0",
   "metadata": {},
   "outputs": [],
   "source": [
    "!ls {portfolio_path_dict[\"prod\"] + \"/..\"}"
   ]
  },
  {
   "cell_type": "code",
   "execution_count": null,
   "id": "c1ec253d",
   "metadata": {},
   "outputs": [],
   "source": [
    "portfolio_path_dict[\"prod\"] + \"/..\""
   ]
  },
  {
   "cell_type": "code",
   "execution_count": null,
   "id": "56050ab6",
   "metadata": {},
   "outputs": [],
   "source": [
    "!more '/shared_data/prod_reconciliation/20221004/prod/system_log_dir_scheduled__2022-10-03T10:00:00+00:00_2hours/process_forecasts/portfolio/../target_positions/20221004_120217.csv'"
   ]
  },
  {
   "cell_type": "code",
   "execution_count": null,
   "id": "59f29e15",
   "metadata": {},
   "outputs": [],
   "source": [
    "prod_forecast_df = oms.ForecastProcessor.read_logged_target_positions(\n",
    "    portfolio_path_dict[\"prod\"] + \"/..\"\n",
    ")\n",
    "hpandas.df_to_str(prod_forecast_df, log_level=logging.INFO)"
   ]
  },
  {
   "cell_type": "code",
   "execution_count": null,
   "id": "9a295689",
   "metadata": {},
   "outputs": [],
   "source": [
    "prod_forecast_df.columns.levels[0]"
   ]
  },
  {
   "cell_type": "code",
   "execution_count": null,
   "id": "dee69f0f",
   "metadata": {},
   "outputs": [],
   "source": [
    "df = prod_forecast_df.copy()\n",
    "df.index = prod_forecast_df[\"target_position\"].index.round(\"5T\")\n",
    "df[\"target_position\"].shift(1).head(10)"
   ]
  },
  {
   "cell_type": "code",
   "execution_count": null,
   "id": "615c27cc",
   "metadata": {},
   "outputs": [],
   "source": [
    "research_portfolio_df[\"holdings_shares\"][\"2022-10-04 10:06:45.241662-04:00\":]"
   ]
  },
  {
   "cell_type": "code",
   "execution_count": null,
   "id": "3a7685fd",
   "metadata": {},
   "outputs": [],
   "source": [
    "sim_forecast_df = oms.ForecastProcessor.read_logged_target_positions(\n",
    "    portfolio_path_dict[\"sim\"] + \"/..\"\n",
    ")\n",
    "hpandas.df_to_str(sim_forecast_df, log_level=logging.INFO)"
   ]
  },
  {
   "cell_type": "markdown",
   "id": "17e767d4",
   "metadata": {},
   "source": [
    "# Orders"
   ]
  },
  {
   "cell_type": "code",
   "execution_count": null,
   "id": "ae009739",
   "metadata": {},
   "outputs": [],
   "source": [
    "prod_order_df = oms.ForecastProcessor.read_logged_orders(\n",
    "    portfolio_path_dict[\"prod\"] + \"/..\"\n",
    ")\n",
    "hpandas.df_to_str(prod_order_df, log_level=logging.INFO)"
   ]
  },
  {
   "cell_type": "code",
   "execution_count": null,
   "id": "e32cbd27",
   "metadata": {},
   "outputs": [],
   "source": [
    "sim_order_df = oms.ForecastProcessor.read_logged_orders(\n",
    "    portfolio_path_dict[\"sim\"] + \"/..\"\n",
    ")\n",
    "hpandas.df_to_str(sim_order_df, log_level=logging.INFO)"
   ]
  },
  {
   "cell_type": "code",
   "execution_count": null,
   "id": "29c243d5",
   "metadata": {},
   "outputs": [],
   "source": [
    "research_portfolio_df[\"executed_trades_shares\"]"
   ]
  },
  {
   "cell_type": "code",
   "execution_count": null,
   "id": "487db5e0",
   "metadata": {},
   "outputs": [],
   "source": [
    "prod_order_df = prod_order_df.pivot(\n",
    "    index=\"end_timestamp\",\n",
    "    columns=\"asset_id\",\n",
    "    values=\"diff_num_shares\",\n",
    ")\n",
    "freq = \"5T\"\n",
    "prod_order_df.index = prod_order_df.index.round(freq)\n",
    "\n",
    "sim_order_df = sim_order_df.pivot(\n",
    "    index=\"end_timestamp\",\n",
    "    columns=\"asset_id\",\n",
    "    values=\"diff_num_shares\",\n",
    ")\n",
    "sim_order_df.index = sim_order_df.index.round(freq)"
   ]
  },
  {
   "cell_type": "code",
   "execution_count": null,
   "id": "eed68f47",
   "metadata": {},
   "outputs": [],
   "source": [
    "asset_id = 1030828978"
   ]
  },
  {
   "cell_type": "markdown",
   "id": "6e7ac7c9",
   "metadata": {},
   "source": [
    "# Load logged portfolios"
   ]
  },
  {
   "cell_type": "code",
   "execution_count": null,
   "id": "bdfbb362",
   "metadata": {},
   "outputs": [],
   "source": [
    "portfolio_config_dict = {\n",
    "    \"start_timestamp\": start_timestamp,\n",
    "    \"end_timestamp\": end_timestamp,\n",
    "    \"freq\": config[\"meta\"][\"bar_duration\"],\n",
    "    \"normalize_bar_times\": True,\n",
    "}\n",
    "portfolio_config_dict"
   ]
  },
  {
   "cell_type": "code",
   "execution_count": null,
   "id": "89560fe7",
   "metadata": {},
   "outputs": [],
   "source": [
    "# TODO(gp): @grisha move to library.\n",
    "\n",
    "# Load the 4 portfolios.\n",
    "portfolio_dfs = {}\n",
    "portfolio_stats_dfs = {}\n",
    "for name, path in portfolio_path_dict.items():\n",
    "    _LOG.info(\"Processing portfolio=%s path=%s\", name, path)\n",
    "    portfolio_df, portfolio_stats_df = oms.load_portfolio_artifacts(\n",
    "        path,\n",
    "        **portfolio_config_dict,\n",
    "    )\n",
    "    # TODO(gp): We need to understand why this is not ordered.\n",
    "    portfolio_df = portfolio_df.sort_index(axis=1)\n",
    "    \n",
    "    portfolio_dfs[name] = portfolio_df\n",
    "    portfolio_stats_dfs[name] = portfolio_stats_df\n",
    "    \n",
    "portfolio_df = research_portfolio_df.loc[start_timestamp:end_timestamp]\n",
    "portfolio_df = portfolio_df.sort_index(axis=1)\n",
    "portfolio_dfs[\"research\"] = portfolio_df\n",
    "portfolio_stats_dfs[\"research\"] = research_portfolio_stats_df.loc[start_timestamp:end_timestamp]\n",
    "\n",
    "# Multi-index of the stats.\n",
    "portfolio_stats_df = pd.concat(portfolio_stats_dfs, axis=1)"
   ]
  },
  {
   "cell_type": "code",
   "execution_count": null,
   "id": "0ac3eb0a",
   "metadata": {},
   "outputs": [],
   "source": [
    "print(portfolio_dfs.keys())"
   ]
  },
  {
   "cell_type": "code",
   "execution_count": null,
   "id": "48a965c6",
   "metadata": {},
   "outputs": [],
   "source": [
    "hpandas.df_to_str(portfolio_stats_df, num_rows=2, log_level=logging.INFO)"
   ]
  },
  {
   "cell_type": "code",
   "execution_count": null,
   "id": "554e9422",
   "metadata": {},
   "outputs": [],
   "source": [
    "# TODO(gp): For some reason the prod index is not ordered.\n",
    "asset_id = 1030828978\n",
    "hpandas.df_to_str(portfolio_dfs[\"prod\"][\"holdings\", asset_id], num_rows=4, log_level=logging.INFO)\n",
    "hpandas.df_to_str(portfolio_dfs[\"research\"][\"holdings_shares\", asset_id], num_rows=4, log_level=logging.INFO)"
   ]
  },
  {
   "cell_type": "code",
   "execution_count": null,
   "id": "baa763e1",
   "metadata": {},
   "outputs": [],
   "source": [
    "bars_to_burn = 1\n",
    "coplotti.plot_portfolio_stats(portfolio_stats_df.iloc[bars_to_burn:])"
   ]
  },
  {
   "cell_type": "code",
   "execution_count": null,
   "id": "19c484b4",
   "metadata": {},
   "outputs": [],
   "source": [
    "stats_computer = dtfmod.StatsComputer()\n",
    "stats_sxs, _ = stats_computer.compute_portfolio_stats(\n",
    "    portfolio_stats_df.iloc[bars_to_burn:], config[\"meta\"][\"bar_duration\"]\n",
    ")\n",
    "display(stats_sxs)"
   ]
  },
  {
   "cell_type": "markdown",
   "id": "f02a4edd",
   "metadata": {},
   "source": [
    "# Compare pairwise portfolio correlations"
   ]
  },
  {
   "cell_type": "code",
   "execution_count": null,
   "id": "c3ceefbc",
   "metadata": {},
   "outputs": [],
   "source": [
    "adapted_prod_df = oms.adapt_portfolio_object_df_to_forecast_evaluator_df(portfolio_dfs[\"prod\"])\n",
    "adapted_cand_df = oms.adapt_portfolio_object_df_to_forecast_evaluator_df(portfolio_dfs[\"cand\"])\n",
    "adapted_sim_df = oms.adapt_portfolio_object_df_to_forecast_evaluator_df(portfolio_dfs[\"sim\"])"
   ]
  },
  {
   "cell_type": "code",
   "execution_count": null,
   "id": "4fed63d2",
   "metadata": {},
   "outputs": [],
   "source": [
    "adapted_prod_df.columns.levels"
   ]
  },
  {
   "cell_type": "code",
   "execution_count": null,
   "id": "1872052f",
   "metadata": {},
   "outputs": [],
   "source": [
    "adapted_prod_df.columns.levels[0]"
   ]
  },
  {
   "cell_type": "code",
   "execution_count": null,
   "id": "0281ac09",
   "metadata": {},
   "outputs": [],
   "source": [
    "adapted_prod_df = adapted_prod_df.sort_index(axis=1)\n",
    "research_portfolio_df = research_portfolio_df.sort_index(axis=1)"
   ]
  },
  {
   "cell_type": "code",
   "execution_count": null,
   "id": "414e0959",
   "metadata": {},
   "outputs": [],
   "source": [
    "col_name = \"holdings_shares\"\n",
    "#col_name = \"price\"\n",
    "display(adapted_prod_df[col_name].tail(3))\n",
    "display(research_portfolio_df[col_name].tail(3))"
   ]
  },
  {
   "cell_type": "code",
   "execution_count": null,
   "id": "b5560b28",
   "metadata": {},
   "outputs": [],
   "source": [
    "#col_name = \"pnl\"\n",
    "#col_name = \"executed_trades_shares\"\n",
    "col_name = \"holdings_shares\"\n",
    "dtfmod.compute_correlations(\n",
    "    adapted_prod_df.iloc[1:],\n",
    "    research_portfolio_df.iloc[1:],\n",
    "    allow_unequal_indices=True,\n",
    "    allow_unequal_columns=True,\n",
    ").sort_values([col_name], ascending=False)"
   ]
  },
  {
   "cell_type": "code",
   "execution_count": null,
   "id": "4de7ff11",
   "metadata": {},
   "outputs": [],
   "source": [
    "#col_name = \"price\"\n",
    "col_name = \"executed_trades_notional\"\n",
    "#asset_id = 1030828978\n",
    "#asset_id = 5115052901\n",
    "asset_id = 5118394986\n",
    "#df1 = adapted_sim_df[col_name][asset_id]\n",
    "df1 = adapted_prod_df[col_name][asset_id]\n",
    "df2 = research_portfolio_df[col_name][asset_id]\n",
    "\n",
    "(df1 - df2).dropna().plot()\n",
    "\n",
    "df = pd.DataFrame(df1).merge(pd.DataFrame(df2), how=\"outer\", left_index=True, right_index=True, suffixes=[\"_prod\", \"_research\"])\n",
    "\n",
    "#df[\"diff\"] = df[\"1030828978_prod\"] - df[\"1030828978_research\"]\n",
    "\n",
    "#display(df)\n",
    "\n",
    "df.dropna().plot()"
   ]
  },
  {
   "cell_type": "code",
   "execution_count": null,
   "id": "adf717c0",
   "metadata": {},
   "outputs": [],
   "source": [
    "dtfmod.compute_correlations(\n",
    "    #research_portfolio_df,\n",
    "    adapted_sim_df.iloc[1:],\n",
    "    research_portfolio_df.iloc[1:],\n",
    "    allow_unequal_indices=True,\n",
    "    allow_unequal_columns=True,\n",
    ").sort_values([\"pnl\"], ascending=False)"
   ]
  },
  {
   "cell_type": "code",
   "execution_count": null,
   "id": "93083c7d",
   "metadata": {},
   "outputs": [],
   "source": [
    "dtfmod.compute_correlations(\n",
    "    adapted_prod_df,\n",
    "    adapted_sim_df,\n",
    "    allow_unequal_indices=False,\n",
    "    allow_unequal_columns=False,\n",
    ").sort_values([\"pnl\"], ascending=False)"
   ]
  },
  {
   "cell_type": "code",
   "execution_count": null,
   "id": "71d36fed",
   "metadata": {},
   "outputs": [],
   "source": [
    "dtfmod.compute_correlations(\n",
    "    research_portfolio_df,\n",
    "    adapted_sim_df,\n",
    "    allow_unequal_indices=True,\n",
    "    allow_unequal_columns=True,\n",
    ").sort_values([\"pnl\"], ascending=False)"
   ]
  },
  {
   "cell_type": "code",
   "execution_count": null,
   "id": "702a9f6f",
   "metadata": {},
   "outputs": [],
   "source": [
    "if config[\"meta\"][\"run_tca\"]:\n",
    "    tca = cofinanc.load_and_normalize_tca_csv(tca_csv)\n",
    "    tca = cofinanc.compute_tca_price_annotations(tca, True)\n",
    "    tca = cofinanc.pivot_and_accumulate_holdings(tca, \"\")"
   ]
  }
 ],
 "metadata": {
  "kernelspec": {
   "display_name": "Python 3 (ipykernel)",
   "language": "python",
   "name": "python3"
  },
  "language_info": {
   "codemirror_mode": {
    "name": "ipython",
    "version": 3
   },
   "file_extension": ".py",
   "mimetype": "text/x-python",
   "name": "python",
   "nbconvert_exporter": "python",
   "pygments_lexer": "ipython3"
  },
  "toc": {
   "base_numbering": 1,
   "nav_menu": {},
   "number_sections": true,
   "sideBar": true,
   "skip_h1_title": false,
   "title_cell": "Table of Contents",
   "title_sidebar": "Contents",
   "toc_cell": false,
   "toc_position": {},
   "toc_section_display": true,
   "toc_window_display": true
  }
 },
 "nbformat": 4,
 "nbformat_minor": 5
}
