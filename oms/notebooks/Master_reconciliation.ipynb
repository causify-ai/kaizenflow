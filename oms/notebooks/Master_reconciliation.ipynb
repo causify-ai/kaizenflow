{
 "cells": [
  {
   "cell_type": "code",
   "execution_count": null,
   "id": "578a31a0",
   "metadata": {},
   "outputs": [],
   "source": [
    "%load_ext autoreload\n",
    "%autoreload 2\n",
    "%matplotlib inline"
   ]
  },
  {
   "cell_type": "code",
   "execution_count": null,
   "id": "5d2a3739",
   "metadata": {},
   "outputs": [],
   "source": [
    "import logging\n",
    "import os\n",
    "\n",
    "import matplotlib.pyplot as plt\n",
    "import pandas as pd\n",
    "\n",
    "import core.config as cconfig\n",
    "import core.finance as cofinanc\n",
    "import core.plotting as coplotti\n",
    "import dataflow.model as dtfmod\n",
    "import helpers.hdbg as hdbg\n",
    "import helpers.henv as henv\n",
    "import helpers.hpandas as hpandas\n",
    "import helpers.hprint as hprint\n",
    "import oms as oms"
   ]
  },
  {
   "cell_type": "code",
   "execution_count": null,
   "id": "45712e5c",
   "metadata": {},
   "outputs": [],
   "source": [
    "hdbg.init_logger(verbosity=logging.INFO)\n",
    "\n",
    "_LOG = logging.getLogger(__name__)\n",
    "\n",
    "_LOG.info(\"%s\", henv.get_system_signature()[0])\n",
    "\n",
    "hprint.config_notebook()"
   ]
  },
  {
   "cell_type": "markdown",
   "id": "ed920216",
   "metadata": {},
   "source": [
    "# Build the reconciliation config"
   ]
  },
  {
   "cell_type": "code",
   "execution_count": null,
   "id": "2c4193f7",
   "metadata": {},
   "outputs": [],
   "source": [
    "date_str = None\n",
    "prod_subdir = None\n",
    "config_list = oms.build_reconciliation_configs(date_str, prod_subdir)\n",
    "config = config_list[0]\n",
    "print(config)"
   ]
  },
  {
   "cell_type": "markdown",
   "id": "5898d890",
   "metadata": {},
   "source": [
    "# Specify data to load"
   ]
  },
  {
   "cell_type": "code",
   "execution_count": null,
   "id": "58030a0a",
   "metadata": {},
   "outputs": [],
   "source": [
    "# The dict points to `system_log_dir` for different experiments.\n",
    "system_log_path_dict = dict(config[\"system_log_path\"].to_dict())"
   ]
  },
  {
   "cell_type": "code",
   "execution_count": null,
   "id": "b0225351",
   "metadata": {},
   "outputs": [],
   "source": [
    "# This dict points to `system_log_dir/process_forecasts/portfolio` for different experiments.\n",
    "data_type = \"portfolio\"\n",
    "portfolio_path_dict = oms.get_system_log_paths(system_log_path_dict, data_type)\n",
    "portfolio_path_dict"
   ]
  },
  {
   "cell_type": "code",
   "execution_count": null,
   "id": "ba721a89",
   "metadata": {},
   "outputs": [],
   "source": [
    "# This dict points to `system_log_dir/dag/node_io/node_io.data` for different experiments.\n",
    "data_type = \"dag\"\n",
    "dag_path_dict = oms.get_system_log_paths(system_log_path_dict, data_type)\n",
    "dag_path_dict"
   ]
  },
  {
   "cell_type": "code",
   "execution_count": null,
   "id": "20ba1406",
   "metadata": {},
   "outputs": [],
   "source": [
    "# TODO(gp): Load the TCA data for crypto.\n",
    "if config[\"meta\"][\"run_tca\"]:\n",
    "    tca_csv = os.path.join(root_dir, date_str, \"tca/sau1_tca.csv\")\n",
    "    hdbg.dassert_file_exists(tca_csv)"
   ]
  },
  {
   "cell_type": "markdown",
   "id": "3116ac22",
   "metadata": {},
   "source": [
    "# Compare configs (prod vs vim)"
   ]
  },
  {
   "cell_type": "code",
   "execution_count": null,
   "id": "f8df5def",
   "metadata": {},
   "outputs": [],
   "source": [
    "configs = oms.load_config_from_pickle(system_log_path_dict)\n",
    "# Diff configs.\n",
    "# TODO(Grisha): the output is only on subconfig level, we should\n",
    "# compare value vs value instead.\n",
    "diff_config = cconfig.build_config_diff_dataframe(\n",
    "    {\n",
    "        \"prod_config\": configs[\"prod\"],\n",
    "        \"sim_config\": configs[\"sim\"],\n",
    "    }\n",
    ")\n",
    "diff_config.T"
   ]
  },
  {
   "cell_type": "markdown",
   "id": "a976cc55",
   "metadata": {},
   "source": [
    "# DAG io"
   ]
  },
  {
   "cell_type": "markdown",
   "id": "437e0b47",
   "metadata": {},
   "source": [
    "## Compare DAG io (prod vs sim)"
   ]
  },
  {
   "cell_type": "code",
   "execution_count": null,
   "id": "3b81f4e4",
   "metadata": {},
   "outputs": [],
   "source": [
    "# Get DAG node names.\n",
    "dag_node_names = oms.get_dag_node_names(dag_path_dict[\"prod\"])\n",
    "_LOG.info(\n",
    "    \"The 1st node=%s, the last node=%s\", dag_node_names[0], dag_node_names[-1]\n",
    ")"
   ]
  },
  {
   "cell_type": "code",
   "execution_count": null,
   "id": "32910976",
   "metadata": {},
   "outputs": [],
   "source": [
    "# Get timestamps for the last DAG node.\n",
    "dag_node_timestamps = oms.get_dag_node_timestamps(\n",
    "    dag_path_dict[\"prod\"], dag_node_names[-1], as_timestamp=True\n",
    ")\n",
    "_LOG.info(\n",
    "    \"The 1st timestamp=%s, the last timestamp=%s\",\n",
    "    dag_node_timestamps[0][0],\n",
    "    dag_node_timestamps[-1][0],\n",
    ")"
   ]
  },
  {
   "cell_type": "code",
   "execution_count": null,
   "id": "e4f65143",
   "metadata": {},
   "outputs": [],
   "source": [
    "# Load DAG output for different experiments.\n",
    "dag_start_timestamp = None\n",
    "dag_end_timestamp = None\n",
    "dag_df_dict = oms.load_dag_outputs(\n",
    "    dag_path_dict,\n",
    ")\n",
    "# Get DAG output for the last node and the last timestamp.\n",
    "# TODO(Grisha): use 2 dicts -- one for the last node, last timestamp,\n",
    "# the other one for all nodes, all timestamps for comparison.\n",
    "dag_df_prod = dag_df_dict[\"prod\"][dag_node_names[-1]][dag_node_timestamps[-1][0]]\n",
    "dag_df_sim = dag_df_dict[\"sim\"][dag_node_names[-1]][dag_node_timestamps[-1][0]]\n",
    "hpandas.df_to_str(dag_df_prod, num_rows=5, log_level=logging.INFO)"
   ]
  },
  {
   "cell_type": "code",
   "execution_count": null,
   "id": "54c32051",
   "metadata": {},
   "outputs": [],
   "source": [
    "# Compute difference.\n",
    "compare_dfs_kwargs = {\n",
    "    # TODO(Grisha): use `pct_change` once it is fixed for small numbers.\n",
    "    \"diff_mode\": \"diff\",\n",
    "    \"remove_inf\": True,\n",
    "}\n",
    "diff_df = hpandas.compare_multiindex_dfs(\n",
    "    dag_df_prod,\n",
    "    dag_df_sim,\n",
    "    compare_dfs_kwargs=compare_dfs_kwargs,\n",
    ")\n",
    "# Remove the sign.\n",
    "diff_df = diff_df.abs()\n",
    "# Check that data is the same.\n",
    "diff_df.max().max()"
   ]
  },
  {
   "cell_type": "code",
   "execution_count": null,
   "id": "d6ff4228",
   "metadata": {},
   "outputs": [],
   "source": [
    "# Enable if the diff is big to see the detailed stats.\n",
    "if False:\n",
    "    # Plot over time.\n",
    "    diff_df.max(axis=1).plot()\n",
    "    plt.show()\n",
    "    # Plot over column names.\n",
    "    diff_df.max(axis=0).unstack().max(axis=1).plot(kind=\"bar\")\n",
    "    plt.show()\n",
    "    # Plot over assets\n",
    "    diff_df.max(axis=0).unstack().max(axis=0).plot(kind=\"bar\")\n",
    "    plt.show()"
   ]
  },
  {
   "cell_type": "code",
   "execution_count": null,
   "id": "336f5682",
   "metadata": {},
   "outputs": [],
   "source": [
    "if False:\n",
    "    # Compute correlations.\n",
    "    prod_sim_dag_corr = dtfmod.compute_correlations(\n",
    "        dag_df_prod,\n",
    "        dag_df_sim,\n",
    "    )\n",
    "    hpandas.df_to_str(\n",
    "        prod_sim_dag_corr.min(),\n",
    "        num_rows=None,\n",
    "        precision=3,\n",
    "        log_level=logging.INFO,\n",
    "    )"
   ]
  },
  {
   "cell_type": "markdown",
   "id": "9ad6bf61",
   "metadata": {},
   "source": [
    "## Compute DAG delay"
   ]
  },
  {
   "cell_type": "code",
   "execution_count": null,
   "id": "4ee85956",
   "metadata": {},
   "outputs": [],
   "source": [
    "delay_in_secs = oms.compute_dag_delay_in_seconds(dag_node_timestamps, display_plot=False)"
   ]
  },
  {
   "cell_type": "markdown",
   "id": "4c821c4f",
   "metadata": {},
   "source": [
    "# Portfolio"
   ]
  },
  {
   "cell_type": "markdown",
   "id": "5187cb14",
   "metadata": {},
   "source": [
    "## Compute research portfolio equivalent"
   ]
  },
  {
   "cell_type": "code",
   "execution_count": null,
   "id": "2e82885c",
   "metadata": {},
   "outputs": [],
   "source": [
    "# Set Portofolio start and end timestamps.\n",
    "if True:\n",
    "    # By default use the min/max bar timestamps from the DAG.\n",
    "    start_timestamp = dag_node_timestamps[0][0]\n",
    "    end_timestamp = dag_node_timestamps[-1][0]\n",
    "else:\n",
    "    # Overwrite if needed.\n",
    "    start_timestamp = pd.Timestamp(\n",
    "        \"2022-11-03 06:05:00-04:00\", tz=\"America/New_York\"\n",
    "    )\n",
    "    end_timestamp = pd.Timestamp(\n",
    "        \"2022-11-03 08:00:00-04:00\", tz=\"America/New_York\"\n",
    "    )\n",
    "_LOG.info(\"start_timestamp=%s\", start_timestamp)\n",
    "_LOG.info(\"end_timestamp=%s\", end_timestamp)"
   ]
  },
  {
   "cell_type": "code",
   "execution_count": null,
   "id": "07ac8a0a",
   "metadata": {},
   "outputs": [],
   "source": [
    "fep = dtfmod.ForecastEvaluatorFromPrices(\n",
    "    **config[\"research_forecast_evaluator_from_prices\"][\"init\"]\n",
    ")\n",
    "annotate_forecasts_kwargs = config[\"research_forecast_evaluator_from_prices\"][\n",
    "    \"annotate_forecasts_kwargs\"\n",
    "].to_dict()\n",
    "research_portfolio_df, research_portfolio_stats_df = fep.annotate_forecasts(\n",
    "    dag_df_prod,\n",
    "    **annotate_forecasts_kwargs,\n",
    "    compute_extended_stats=True,\n",
    ")\n",
    "# TODO(gp): Move it to annotate_forecasts?\n",
    "research_portfolio_df = research_portfolio_df.sort_index(axis=1)\n",
    "# Align index with prod and sim portfolios.\n",
    "research_portfolio_df = research_portfolio_df.loc[start_timestamp:end_timestamp]\n",
    "research_portfolio_stats_df = research_portfolio_stats_df.loc[\n",
    "    start_timestamp:end_timestamp\n",
    "]\n",
    "#\n",
    "hpandas.df_to_str(research_portfolio_stats_df, num_rows=5, log_level=logging.INFO)"
   ]
  },
  {
   "cell_type": "markdown",
   "id": "dbbb095b",
   "metadata": {},
   "source": [
    "## Load logged portfolios (prod & sim)"
   ]
  },
  {
   "cell_type": "code",
   "execution_count": null,
   "id": "3b3a767c",
   "metadata": {},
   "outputs": [],
   "source": [
    "portfolio_config = cconfig.Config.from_dict(\n",
    "    {\n",
    "        \"start_timestamp\": start_timestamp,\n",
    "        \"end_timestamp\": end_timestamp,\n",
    "        \"freq\": config[\"meta\"][\"bar_duration\"],\n",
    "        \"normalize_bar_times\": True,\n",
    "    }\n",
    ")\n",
    "portfolio_config"
   ]
  },
  {
   "cell_type": "code",
   "execution_count": null,
   "id": "ec67bbcc",
   "metadata": {},
   "outputs": [],
   "source": [
    "portfolio_dfs, portfolio_stats_dfs = oms.load_portfolio_dfs(\n",
    "    portfolio_path_dict,\n",
    "    portfolio_config,\n",
    ")\n",
    "# Add research portfolio.\n",
    "portfolio_dfs[\"research\"] = research_portfolio_df\n",
    "hpandas.df_to_str(portfolio_dfs[\"prod\"], num_rows=5, log_level=logging.INFO)"
   ]
  },
  {
   "cell_type": "code",
   "execution_count": null,
   "id": "0f0f23b0",
   "metadata": {},
   "outputs": [],
   "source": [
    "# Add research df and combine into a single df.\n",
    "portfolio_stats_dfs[\"research\"] = research_portfolio_stats_df\n",
    "portfolio_stats_df = pd.concat(portfolio_stats_dfs, axis=1)\n",
    "#\n",
    "hpandas.df_to_str(portfolio_stats_df, num_rows=5, log_level=logging.INFO)"
   ]
  },
  {
   "cell_type": "markdown",
   "id": "1051c14f",
   "metadata": {},
   "source": [
    "## Compute Portfolio statistics (prod vs research vs sim)"
   ]
  },
  {
   "cell_type": "code",
   "execution_count": null,
   "id": "dbd0bd6a",
   "metadata": {},
   "outputs": [],
   "source": [
    "bars_to_burn = 1\n",
    "coplotti.plot_portfolio_stats(portfolio_stats_df.iloc[bars_to_burn:])"
   ]
  },
  {
   "cell_type": "code",
   "execution_count": null,
   "id": "dffbbc75",
   "metadata": {},
   "outputs": [],
   "source": [
    "stats_computer = dtfmod.StatsComputer()\n",
    "stats_sxs, _ = stats_computer.compute_portfolio_stats(\n",
    "    portfolio_stats_df.iloc[bars_to_burn:], config[\"meta\"][\"bar_duration\"]\n",
    ")\n",
    "display(stats_sxs)"
   ]
  },
  {
   "cell_type": "markdown",
   "id": "7c379dba",
   "metadata": {},
   "source": [
    "## Compare portfolios pairwise (prod vs research vs sim)"
   ]
  },
  {
   "cell_type": "markdown",
   "id": "f7ec9d6f",
   "metadata": {},
   "source": [
    "### Differences"
   ]
  },
  {
   "cell_type": "markdown",
   "id": "7d6837e7",
   "metadata": {},
   "source": [
    "#### Prod vs sim"
   ]
  },
  {
   "cell_type": "code",
   "execution_count": null,
   "id": "fe09b2ec",
   "metadata": {},
   "outputs": [],
   "source": [
    "# TODO(Grisha): @Dan factor out in a function.\n",
    "# Compute difference.\n",
    "compare_dfs_kwargs = {\n",
    "    \"column_mode\": \"inner\",\n",
    "    \"diff_mode\": \"diff\",\n",
    "    \"remove_inf\": True,\n",
    "    \"assert_diff_threshold\": None,\n",
    "}\n",
    "diff_df = hpandas.compare_multiindex_dfs(\n",
    "    portfolio_dfs[\"prod\"],\n",
    "    portfolio_dfs[\"sim\"],\n",
    "    compare_dfs_kwargs=compare_dfs_kwargs,\n",
    ")\n",
    "# Remove the sign.\n",
    "diff_df = diff_df.abs()\n",
    "# Check that data is the same.\n",
    "max_diff = diff_df.max().max()\n",
    "_LOG.info(\"Max difference between prod and sim is=%s\", max_diff)\n",
    "prod_sim_diff = diff_df.max().unstack().max(axis=1).map(\"{:,.2f}\".format)\n",
    "hpandas.df_to_str(prod_sim_diff, num_rows=None, log_level=logging.INFO)"
   ]
  },
  {
   "cell_type": "markdown",
   "id": "d154240f",
   "metadata": {},
   "source": [
    "#### Prod vs research"
   ]
  },
  {
   "cell_type": "code",
   "execution_count": null,
   "id": "e7652e77",
   "metadata": {},
   "outputs": [],
   "source": [
    "diff_df = hpandas.compare_multiindex_dfs(\n",
    "    portfolio_dfs[\"prod\"],\n",
    "    portfolio_dfs[\"research\"],\n",
    "    compare_dfs_kwargs=compare_dfs_kwargs,\n",
    ")\n",
    "# Remove the sign.\n",
    "diff_df = diff_df.abs()\n",
    "# Check that data is the same.\n",
    "max_diff = diff_df.max().max()\n",
    "_LOG.info(\"Max difference between prod and research is=%s\", max_diff)\n",
    "prod_research_diff = diff_df.max().unstack().max(axis=1).map(\"{:,.2f}\".format)\n",
    "hpandas.df_to_str(prod_research_diff, num_rows=None, log_level=logging.INFO)"
   ]
  },
  {
   "cell_type": "markdown",
   "id": "406e5585",
   "metadata": {},
   "source": [
    "#### Sim vs research"
   ]
  },
  {
   "cell_type": "code",
   "execution_count": null,
   "id": "e476c859",
   "metadata": {},
   "outputs": [],
   "source": [
    "diff_df = hpandas.compare_multiindex_dfs(\n",
    "    portfolio_dfs[\"sim\"],\n",
    "    portfolio_dfs[\"research\"],\n",
    "    compare_dfs_kwargs=compare_dfs_kwargs,\n",
    ")\n",
    "# Remove the sign.\n",
    "diff_df = diff_df.abs()\n",
    "# Check that data is the same.\n",
    "max_diff = diff_df.max().max()\n",
    "_LOG.info(\"Max difference between sim and research is=%s\", max_diff)\n",
    "sim_research_diff = diff_df.max().unstack().max(axis=1).map(\"{:,.2f}\".format)\n",
    "hpandas.df_to_str(sim_research_diff, num_rows=None, log_level=logging.INFO)"
   ]
  },
  {
   "cell_type": "markdown",
   "id": "7d5cd6a0",
   "metadata": {},
   "source": [
    "### Correlations"
   ]
  },
  {
   "cell_type": "markdown",
   "id": "f600b6ce",
   "metadata": {},
   "source": [
    "#### Prod vs sim"
   ]
  },
  {
   "cell_type": "code",
   "execution_count": null,
   "id": "7f72f3c8",
   "metadata": {},
   "outputs": [],
   "source": [
    "if False:\n",
    "    dtfmod.compute_correlations(\n",
    "        portfolio_dfs[\"prod\"],\n",
    "        portfolio_dfs[\"sim\"],\n",
    "        allow_unequal_indices=False,\n",
    "        allow_unequal_columns=False,\n",
    "    )"
   ]
  },
  {
   "cell_type": "markdown",
   "id": "dffdfeb0",
   "metadata": {},
   "source": [
    "#### Prod vs research"
   ]
  },
  {
   "cell_type": "code",
   "execution_count": null,
   "id": "b82ad48f",
   "metadata": {},
   "outputs": [],
   "source": [
    "if False:\n",
    "    dtfmod.compute_correlations(\n",
    "        research_portfolio_df,\n",
    "        portfolio_dfs[\"prod\"],\n",
    "        allow_unequal_indices=True,\n",
    "        allow_unequal_columns=True,\n",
    "    )"
   ]
  },
  {
   "cell_type": "markdown",
   "id": "e79a5539",
   "metadata": {},
   "source": [
    "#### Sim vs research"
   ]
  },
  {
   "cell_type": "code",
   "execution_count": null,
   "id": "64420d68",
   "metadata": {},
   "outputs": [],
   "source": [
    "if False:\n",
    "    dtfmod.compute_correlations(\n",
    "        research_portfolio_df,\n",
    "        portfolio_dfs[\"sim\"],\n",
    "        allow_unequal_indices=True,\n",
    "        allow_unequal_columns=True,\n",
    "    )"
   ]
  },
  {
   "cell_type": "markdown",
   "id": "e37b868a",
   "metadata": {},
   "source": [
    "# Target positions"
   ]
  },
  {
   "cell_type": "markdown",
   "id": "69ca3df3",
   "metadata": {},
   "source": [
    "## Load target positions (prod)"
   ]
  },
  {
   "cell_type": "code",
   "execution_count": null,
   "id": "6fc95859",
   "metadata": {},
   "outputs": [],
   "source": [
    "prod_target_position_df = oms.load_target_positions(\n",
    "    portfolio_path_dict[\"prod\"].strip(\"portfolio\"),\n",
    "    start_timestamp,\n",
    "    end_timestamp,\n",
    "    config[\"meta\"][\"bar_duration\"],\n",
    "    normalize_bar_times=True\n",
    ")\n",
    "hpandas.df_to_str(prod_target_position_df, num_rows=5, log_level=logging.INFO)\n",
    "if False:\n",
    "    # TODO(Grisha): do we need to compare sim also?\n",
    "    sim_target_position_df = oms.load_target_positions(\n",
    "        portfolio_path_dict[\"sim\"].strip(\"portfolio\"),\n",
    "        start_timestamp,\n",
    "        end_timestamp,\n",
    "        config[\"meta\"][\"bar_duration\"],\n",
    "        normalize_bar_times=True\n",
    "    )"
   ]
  },
  {
   "cell_type": "markdown",
   "id": "7998d7f7",
   "metadata": {},
   "source": [
    "## Compare positions target vs executed (prod)"
   ]
  },
  {
   "cell_type": "code",
   "execution_count": null,
   "id": "b809aefc",
   "metadata": {},
   "outputs": [],
   "source": [
    "# TODO(Grisha): decide what is the expected output.\n",
    "df1 = prod_target_position_df[\"target_holdings_shares\"].shift(1)\n",
    "df2 = prod_target_position_df[\"holdings_shares\"]\n",
    "diff = df1 - df2\n",
    "hpandas.df_to_str(diff, num_rows=5, log_level=logging.INFO)"
   ]
  },
  {
   "cell_type": "markdown",
   "id": "efa203e2",
   "metadata": {},
   "source": [
    "## Compare target positions (prod vs research)"
   ]
  },
  {
   "cell_type": "markdown",
   "id": "d322eb6a",
   "metadata": {},
   "source": [
    "### Price"
   ]
  },
  {
   "cell_type": "code",
   "execution_count": null,
   "id": "96b32935",
   "metadata": {},
   "outputs": [],
   "source": [
    "column = \"price\"\n",
    "prod_df = prod_target_position_df[column]\n",
    "display(prod_df.head(2))\n",
    "res_df = research_portfolio_df[column]\n",
    "display(res_df.head(2))\n",
    "\n",
    "# Compute percentage difference.\n",
    "diff_df = hpandas.compare_dfs(\n",
    "    prod_df,\n",
    "    res_df,\n",
    "    diff_mode= \"pct_change\",\n",
    ")\n",
    "# Remove the sign and NaNs.\n",
    "diff_df = diff_df.abs()\n",
    "# Check that data is the same.\n",
    "print(diff_df.max().max())\n",
    "if False:\n",
    "    hpandas.heatmap_df(diff_df.round(2))"
   ]
  },
  {
   "cell_type": "markdown",
   "id": "8eb6ffc1",
   "metadata": {},
   "source": [
    "### Volatility"
   ]
  },
  {
   "cell_type": "code",
   "execution_count": null,
   "id": "dd80c180",
   "metadata": {},
   "outputs": [],
   "source": [
    "column = \"volatility\"\n",
    "prod_df = prod_target_position_df[column]\n",
    "display(prod_df.head(2))\n",
    "res_df = research_portfolio_df[column]\n",
    "display(res_df.head(2))\n",
    "\n",
    "# Compute percentage difference.\n",
    "diff_df = hpandas.compare_dfs(\n",
    "    prod_df,\n",
    "    res_df,\n",
    "    diff_mode= \"pct_change\",\n",
    ")\n",
    "# Remove the sign and NaNs.\n",
    "diff_df = diff_df.abs()\n",
    "# Check that data is the same.\n",
    "print(diff_df.max().max())\n",
    "if False:\n",
    "    hpandas.heatmap_df(diff_df.round(2))"
   ]
  },
  {
   "cell_type": "markdown",
   "id": "097ca47c",
   "metadata": {},
   "source": [
    "### Prediction"
   ]
  },
  {
   "cell_type": "code",
   "execution_count": null,
   "id": "0ffd084c",
   "metadata": {},
   "outputs": [],
   "source": [
    "column = \"prediction\"\n",
    "prod_df = prod_target_position_df[column]\n",
    "display(prod_df.head(2))\n",
    "res_df = research_portfolio_df[column]\n",
    "display(res_df.head(2))\n",
    "\n",
    "# Compute percentage difference.\n",
    "diff_df = hpandas.compare_dfs(\n",
    "    prod_df,\n",
    "    res_df,\n",
    "    diff_mode= \"pct_change\",\n",
    ")\n",
    "# Remove the sign and NaNs.\n",
    "diff_df = diff_df.abs()\n",
    "# Check that data is the same.\n",
    "print(diff_df.max().max())\n",
    "if False:\n",
    "    hpandas.heatmap_df(diff_df.round(2))"
   ]
  },
  {
   "cell_type": "markdown",
   "id": "dccc87a1",
   "metadata": {},
   "source": [
    "### Current holdings"
   ]
  },
  {
   "cell_type": "code",
   "execution_count": null,
   "id": "8b10b87d",
   "metadata": {},
   "outputs": [],
   "source": [
    "column = \"holdings_shares\"\n",
    "prod_df = prod_target_position_df[column]\n",
    "display(prod_df.head(2))\n",
    "res_df = research_portfolio_df[column]\n",
    "display(res_df.head(2))\n",
    "\n",
    "# Compute percentage difference.\n",
    "diff_df = hpandas.compare_dfs(\n",
    "    prod_df,\n",
    "    res_df,\n",
    "    diff_mode= \"pct_change\",\n",
    "    assert_diff_threshold=None,\n",
    ")\n",
    "# Remove the sign and NaNs.\n",
    "diff_df = diff_df.abs()\n",
    "# Check that data is the same.\n",
    "print(diff_df.max().max())\n",
    "if False:\n",
    "    hpandas.heatmap_df(diff_df.round(2))"
   ]
  },
  {
   "cell_type": "markdown",
   "id": "051cbb30",
   "metadata": {},
   "source": [
    "### Target holdings"
   ]
  },
  {
   "cell_type": "code",
   "execution_count": null,
   "id": "d9b8c497",
   "metadata": {},
   "outputs": [],
   "source": [
    "prod_df = prod_target_position_df[\"target_holdings_shares\"].shift(1)\n",
    "display(prod_df.head(5))\n",
    "\n",
    "res_df = research_portfolio_df[\"holdings_shares\"]\n",
    "display(res_df.head(5))\n",
    "\n",
    "# Compute percentage difference.\n",
    "diff_df = hpandas.compare_dfs(\n",
    "    prod_df,\n",
    "    res_df,\n",
    "    diff_mode= \"pct_change\",\n",
    "    assert_diff_threshold=None,\n",
    ")\n",
    "# Remove the sign and NaNs.\n",
    "diff_df = diff_df.abs()\n",
    "# Check that data is the same.\n",
    "print(diff_df.max().max())\n",
    "if False:\n",
    "    hpandas.heatmap_df(diff_df.round(2))"
   ]
  },
  {
   "cell_type": "markdown",
   "id": "43b169b6",
   "metadata": {},
   "source": [
    "# Orders "
   ]
  },
  {
   "cell_type": "markdown",
   "id": "d69a5e37",
   "metadata": {},
   "source": [
    "## Load orders (prod & sim)"
   ]
  },
  {
   "cell_type": "code",
   "execution_count": null,
   "id": "6dc69eaf",
   "metadata": {},
   "outputs": [],
   "source": [
    "prod_order_df = oms.TargetPositionAndOrderGenerator.load_orders(\n",
    "    portfolio_path_dict[\"prod\"].strip(\"portfolio\"),\n",
    ")\n",
    "hpandas.df_to_str(prod_order_df, num_rows=5, log_level=logging.INFO)\n",
    "sim_order_df = oms.TargetPositionAndOrderGenerator.load_orders(\n",
    "    portfolio_path_dict[\"sim\"].strip(\"portfolio\"),\n",
    ")\n",
    "hpandas.df_to_str(sim_order_df, num_rows=5, log_level=logging.INFO)"
   ]
  },
  {
   "cell_type": "markdown",
   "id": "76fcb03c",
   "metadata": {},
   "source": [
    "## Compare orders (prod vs sim)"
   ]
  },
  {
   "cell_type": "code",
   "execution_count": null,
   "id": "8bdca391",
   "metadata": {},
   "outputs": [],
   "source": [
    "# TODO(Grisha): add comparison using the usual `pct_change` approach."
   ]
  },
  {
   "cell_type": "markdown",
   "id": "88ba2415",
   "metadata": {},
   "source": [
    "# Fills statistics"
   ]
  },
  {
   "cell_type": "code",
   "execution_count": null,
   "id": "0c4f4e4c",
   "metadata": {},
   "outputs": [],
   "source": [
    "# TODO(Grisha): what should we do here?\n",
    "fills = oms.compute_fill_stats(prod_target_position_df)\n",
    "hpandas.df_to_str(fills, num_rows=5, log_level=logging.INFO)\n",
    "fills[\"underfill_share_count\"].sum(axis=1).plot()"
   ]
  },
  {
   "cell_type": "markdown",
   "id": "b9ad79ff",
   "metadata": {},
   "source": [
    "# Slippage"
   ]
  },
  {
   "cell_type": "code",
   "execution_count": null,
   "id": "24ed4898",
   "metadata": {},
   "outputs": [],
   "source": [
    "# TODO(Grisha): what should we do here?\n",
    "slippage = oms.compute_share_prices_and_slippage(portfolio_dfs[\"prod\"])\n",
    "hpandas.df_to_str(slippage, num_rows=5, log_level=logging.INFO)\n",
    "slippage[\"slippage_in_bps\"].sum(axis=1).plot()"
   ]
  },
  {
   "cell_type": "code",
   "execution_count": null,
   "id": "0987b211",
   "metadata": {},
   "outputs": [],
   "source": [
    "stacked = slippage[[\"slippage_in_bps\", \"is_benchmark_profitable\"]].stack()\n",
    "stacked[stacked[\"is_benchmark_profitable\"] > 0][\"slippage_in_bps\"].hist(bins=31)\n",
    "stacked[stacked[\"is_benchmark_profitable\"] < 0][\"slippage_in_bps\"].hist(bins=31)"
   ]
  },
  {
   "cell_type": "markdown",
   "id": "2dca7a5c",
   "metadata": {},
   "source": [
    "# Total cost accounting"
   ]
  },
  {
   "cell_type": "code",
   "execution_count": null,
   "id": "cc1c2546",
   "metadata": {},
   "outputs": [],
   "source": [
    "notional_costs = oms.compute_notional_costs(\n",
    "    portfolio_dfs[\"prod\"],\n",
    "    prod_target_position_df, \n",
    ")\n",
    "hpandas.df_to_str(notional_costs, num_rows=5, log_level=logging.INFO)"
   ]
  },
  {
   "cell_type": "code",
   "execution_count": null,
   "id": "e96aefc9",
   "metadata": {},
   "outputs": [],
   "source": [
    "cost_df = oms.apply_costs_to_baseline(\n",
    "    portfolio_stats_dfs[\"research\"],\n",
    "    portfolio_stats_dfs[\"prod\"],\n",
    "    portfolio_dfs[\"prod\"],\n",
    "    prod_target_position_df, \n",
    ")\n",
    "hpandas.df_to_str(cost_df, num_rows=5, log_level=logging.INFO)"
   ]
  },
  {
   "cell_type": "code",
   "execution_count": null,
   "id": "ea0e16c6",
   "metadata": {},
   "outputs": [],
   "source": [
    "cost_df[[\"pnl\", \"baseline_pnl_minus_costs\", \"baseline_pnl\"]].plot()\n",
    "cost_df[[\"pnl\", \"baseline_pnl_minus_costs\"]].plot()"
   ]
  },
  {
   "cell_type": "markdown",
   "id": "b6ef4466",
   "metadata": {},
   "source": [
    "# TCA"
   ]
  },
  {
   "cell_type": "code",
   "execution_count": null,
   "id": "d2938995",
   "metadata": {},
   "outputs": [],
   "source": [
    "if config[\"meta\"][\"run_tca\"]:\n",
    "    tca = cofinanc.load_and_normalize_tca_csv(tca_csv)\n",
    "    tca = cofinanc.compute_tca_price_annotations(tca, True)\n",
    "    tca = cofinanc.pivot_and_accumulate_holdings(tca, \"\")"
   ]
  }
 ],
 "metadata": {
  "kernelspec": {
   "display_name": "Python 3 (ipykernel)",
   "language": "python",
   "name": "python3"
  },
  "language_info": {
   "codemirror_mode": {
    "name": "ipython",
    "version": 3
   },
   "file_extension": ".py",
   "mimetype": "text/x-python",
   "name": "python",
   "nbconvert_exporter": "python",
   "pygments_lexer": "ipython3"
  },
  "toc": {
   "base_numbering": 1,
   "nav_menu": {},
   "number_sections": true,
   "sideBar": true,
   "skip_h1_title": false,
   "title_cell": "Table of Contents",
   "title_sidebar": "Contents",
   "toc_cell": false,
   "toc_position": {
    "height": "calc(100% - 180px)",
    "left": "10px",
    "top": "150px",
    "width": "288px"
   },
   "toc_section_display": true,
   "toc_window_display": true
  }
 },
 "nbformat": 4,
 "nbformat_minor": 5
}
