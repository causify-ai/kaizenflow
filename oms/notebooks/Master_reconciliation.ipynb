{
 "cells": [
  {
   "cell_type": "code",
   "execution_count": null,
   "id": "578a31a0",
   "metadata": {},
   "outputs": [],
   "source": [
    "%load_ext autoreload\n",
    "%autoreload 2\n",
    "%matplotlib inline"
   ]
  },
  {
   "cell_type": "code",
   "execution_count": null,
   "id": "5d2a3739",
   "metadata": {},
   "outputs": [],
   "source": [
    "import logging\n",
    "import os\n",
    "from typing import Dict\n",
    "\n",
    "import pandas as pd\n",
    "\n",
    "import core.config as cconfig\n",
    "import core.finance as cofinanc\n",
    "import core.plotting as coplotti\n",
    "import dataflow.model as dtfmod\n",
    "import helpers.hdbg as hdbg\n",
    "import helpers.henv as henv\n",
    "import helpers.hpandas as hpandas\n",
    "import helpers.hpickle as hpickle\n",
    "import helpers.hprint as hprint\n",
    "import oms as oms"
   ]
  },
  {
   "cell_type": "code",
   "execution_count": null,
   "id": "45712e5c",
   "metadata": {},
   "outputs": [],
   "source": [
    "hdbg.init_logger(verbosity=logging.INFO)\n",
    "\n",
    "_LOG = logging.getLogger(__name__)\n",
    "\n",
    "_LOG.info(\"%s\", henv.get_system_signature()[0])\n",
    "\n",
    "hprint.config_notebook()"
   ]
  },
  {
   "cell_type": "markdown",
   "id": "ed920216",
   "metadata": {},
   "source": [
    "# Build the reconciliation config"
   ]
  },
  {
   "cell_type": "code",
   "execution_count": null,
   "id": "2c4193f7",
   "metadata": {},
   "outputs": [],
   "source": [
    "config_list = oms.build_reconciliation_configs()\n",
    "config = config_list[0]\n",
    "print(config)"
   ]
  },
  {
   "cell_type": "markdown",
   "id": "5898d890",
   "metadata": {},
   "source": [
    "# Specify data to load"
   ]
  },
  {
   "cell_type": "code",
   "execution_count": null,
   "id": "58030a0a",
   "metadata": {},
   "outputs": [],
   "source": [
    "# The dict points to `system_log_dir` for different experiments.\n",
    "system_log_path_dict = dict(config[\"system_log_path\"].to_dict())\n",
    "system_log_path_dict"
   ]
  },
  {
   "cell_type": "code",
   "execution_count": null,
   "id": "1d2be496",
   "metadata": {},
   "outputs": [],
   "source": [
    "configs = oms.load_config_from_pickle(system_log_path_dict)\n",
    "# Diff configs.\n",
    "diff_config = cconfig.build_config_diff_dataframe(\n",
    "    {\n",
    "        \"prod_config\": configs[\"prod\"],\n",
    "        \"sim_config\": configs[\"sim\"],\n",
    "    }\n",
    ")\n",
    "diff_config "
   ]
  },
  {
   "cell_type": "code",
   "execution_count": null,
   "id": "b0225351",
   "metadata": {},
   "outputs": [],
   "source": [
    "# This dict points to `system_log_dir/process_forecasts/portfolio` for different experiments.\n",
    "data_type = \"portfolio\"\n",
    "portfolio_path_dict = oms.get_system_log_paths(system_log_path_dict, data_type)\n",
    "portfolio_path_dict"
   ]
  },
  {
   "cell_type": "code",
   "execution_count": null,
   "id": "ba721a89",
   "metadata": {},
   "outputs": [],
   "source": [
    "# This dict points to `system_log_dir/dag/node_io/node_io.data` for different experiments.\n",
    "data_type = \"dag\"\n",
    "dag_path_dict = oms.get_system_log_paths(system_log_path_dict, data_type)\n",
    "dag_path_dict"
   ]
  },
  {
   "cell_type": "code",
   "execution_count": null,
   "id": "20ba1406",
   "metadata": {},
   "outputs": [],
   "source": [
    "# TODO(gp): Load the TCA data for crypto.\n",
    "if config[\"meta\"][\"run_tca\"]:\n",
    "    tca_csv = os.path.join(root_dir, date_str, \"tca/sau1_tca.csv\")\n",
    "    hdbg.dassert_file_exists(tca_csv)"
   ]
  },
  {
   "cell_type": "code",
   "execution_count": null,
   "id": "f4377286",
   "metadata": {},
   "outputs": [],
   "source": [
    "date_str = config[\"meta\"][\"date_str\"]\n",
    "# TODO(gp): @Grisha infer this from the data from prod Portfolio df, but allow to overwrite.\n",
    "start_timestamp = pd.Timestamp(date_str + \" 06:05:00\", tz=\"America/New_York\")\n",
    "_LOG.info(\"start_timestamp=%s\", start_timestamp)\n",
    "end_timestamp = pd.Timestamp(date_str + \" 08:00:00\", tz=\"America/New_York\")\n",
    "_LOG.info(\"end_timestamp=%s\", end_timestamp)"
   ]
  },
  {
   "cell_type": "markdown",
   "id": "437e0b47",
   "metadata": {},
   "source": [
    "# Compare DAG io"
   ]
  },
  {
   "cell_type": "code",
   "execution_count": null,
   "id": "3b81f4e4",
   "metadata": {},
   "outputs": [],
   "source": [
    "# Load DAG output for different experiments.\n",
    "dag_df_dict = {}\n",
    "for name, path in dag_path_dict.items():\n",
    "    dag_df_dict[name] = oms.get_latest_output_from_last_dag_node(path)\n",
    "hpandas.df_to_str(dag_df_dict[\"prod\"], num_rows=5, log_level=logging.INFO)"
   ]
  },
  {
   "cell_type": "code",
   "execution_count": null,
   "id": "32910976",
   "metadata": {},
   "outputs": [],
   "source": [
    "prod_sim_dag_corr = dtfmod.compute_correlations(\n",
    "    dag_df_dict[\"prod\"],\n",
    "    dag_df_dict[\"sim\"],\n",
    ")\n",
    "hpandas.df_to_str(\n",
    "    prod_sim_dag_corr.min(),\n",
    "    num_rows=None,\n",
    "    precision=3,\n",
    "    log_level=logging.INFO,\n",
    ")"
   ]
  },
  {
   "cell_type": "code",
   "execution_count": null,
   "id": "caa38292",
   "metadata": {},
   "outputs": [],
   "source": [
    "# Make sure they are exactly the same.\n",
    "(dag_df_dict[\"prod\"] - dag_df_dict[\"sim\"]).abs().max().max()"
   ]
  },
  {
   "cell_type": "markdown",
   "id": "5187cb14",
   "metadata": {},
   "source": [
    "# Compute research portfolio equivalent"
   ]
  },
  {
   "cell_type": "code",
   "execution_count": null,
   "id": "07ac8a0a",
   "metadata": {},
   "outputs": [],
   "source": [
    "fep = dtfmod.ForecastEvaluatorFromPrices(\n",
    "    **config[\"research_forecast_evaluator_from_prices\"][\"init\"]\n",
    ")\n",
    "annotate_forecasts_kwargs = config[\"research_forecast_evaluator_from_prices\"][\n",
    "    \"annotate_forecasts_kwargs\"\n",
    "].to_dict()\n",
    "research_portfolio_df, research_portfolio_stats_df = fep.annotate_forecasts(\n",
    "    dag_df_dict[\"prod\"],\n",
    "    **annotate_forecasts_kwargs,\n",
    "    compute_extended_stats=True,\n",
    ")\n",
    "# TODO(gp): Move it to annotate_forecasts?\n",
    "research_portfolio_df = research_portfolio_df.sort_index(axis=1)\n",
    "#\n",
    "hpandas.df_to_str(research_portfolio_stats_df, num_rows=5, log_level=logging.INFO)"
   ]
  },
  {
   "cell_type": "markdown",
   "id": "dbbb095b",
   "metadata": {},
   "source": [
    "# Load logged portfolios"
   ]
  },
  {
   "cell_type": "code",
   "execution_count": null,
   "id": "a9d1b2bc",
   "metadata": {},
   "outputs": [],
   "source": [
    "portfolio_config_dict = {\n",
    "    \"start_timestamp\": start_timestamp,\n",
    "    \"end_timestamp\": end_timestamp,\n",
    "    \"freq\": config[\"meta\"][\"bar_duration\"],\n",
    "    \"normalize_bar_times\": True,\n",
    "}\n",
    "portfolio_config_dict"
   ]
  },
  {
   "cell_type": "code",
   "execution_count": null,
   "id": "f6bbc516",
   "metadata": {},
   "outputs": [],
   "source": [
    "# TODO(gp): @grisha convert into a function and move to library.\n",
    "\n",
    "# Load the 4 portfolios.\n",
    "portfolio_dfs = {}\n",
    "portfolio_stats_dfs = {}\n",
    "for name, path in portfolio_path_dict.items():\n",
    "    _LOG.info(\"Processing portfolio=%s path=%s\", name, path)\n",
    "    portfolio_df, portfolio_stats_df = oms.load_portfolio_artifacts(\n",
    "        path,\n",
    "        **portfolio_config_dict,\n",
    "    )\n",
    "    portfolio_dfs[name] = portfolio_df\n",
    "    portfolio_stats_dfs[name] = portfolio_stats_df\n",
    "portfolio_dfs[\"research\"] = research_portfolio_df.loc[\n",
    "    start_timestamp:end_timestamp\n",
    "]\n",
    "portfolio_stats_dfs[\"research\"] = research_portfolio_stats_df.loc[\n",
    "    start_timestamp:end_timestamp\n",
    "]\n",
    "portfolio_stats_df = pd.concat(portfolio_stats_dfs, axis=1)\n",
    "hpandas.df_to_str(portfolio_stats_df, num_rows=5, log_level=logging.INFO)"
   ]
  },
  {
   "cell_type": "code",
   "execution_count": null,
   "id": "dbd0bd6a",
   "metadata": {},
   "outputs": [],
   "source": [
    "bars_to_burn = 1\n",
    "coplotti.plot_portfolio_stats(portfolio_stats_df.iloc[bars_to_burn:])"
   ]
  },
  {
   "cell_type": "code",
   "execution_count": null,
   "id": "dffbbc75",
   "metadata": {},
   "outputs": [],
   "source": [
    "stats_computer = dtfmod.StatsComputer()\n",
    "stats_sxs, _ = stats_computer.compute_portfolio_stats(\n",
    "    portfolio_stats_df.iloc[bars_to_burn:], config[\"meta\"][\"bar_duration\"]\n",
    ")\n",
    "display(stats_sxs)"
   ]
  },
  {
   "cell_type": "markdown",
   "id": "7c379dba",
   "metadata": {},
   "source": [
    "# Compare pairwise portfolio correlations"
   ]
  },
  {
   "cell_type": "code",
   "execution_count": null,
   "id": "7f93275d",
   "metadata": {},
   "outputs": [],
   "source": [
    "dtfmod.compute_correlations(\n",
    "    research_portfolio_df,\n",
    "    portfolio_dfs[\"prod\"],\n",
    "    allow_unequal_indices=True,\n",
    "    allow_unequal_columns=True,\n",
    ")"
   ]
  },
  {
   "cell_type": "code",
   "execution_count": null,
   "id": "da7de0de",
   "metadata": {},
   "outputs": [],
   "source": [
    "dtfmod.compute_correlations(\n",
    "    portfolio_dfs[\"prod\"],\n",
    "    portfolio_dfs[\"sim\"],\n",
    "    allow_unequal_indices=False,\n",
    "    allow_unequal_columns=False,\n",
    ")"
   ]
  },
  {
   "cell_type": "code",
   "execution_count": null,
   "id": "64420d68",
   "metadata": {},
   "outputs": [],
   "source": [
    "dtfmod.compute_correlations(\n",
    "    research_portfolio_df,\n",
    "    portfolio_dfs[\"sim\"],\n",
    "    allow_unequal_indices=True,\n",
    "    allow_unequal_columns=True,\n",
    ")"
   ]
  },
  {
   "cell_type": "code",
   "execution_count": null,
   "id": "1e27d923",
   "metadata": {},
   "outputs": [],
   "source": [
    "if config[\"meta\"][\"run_tca\"]:\n",
    "    tca = cofinanc.load_and_normalize_tca_csv(tca_csv)\n",
    "    tca = cofinanc.compute_tca_price_annotations(tca, True)\n",
    "    tca = cofinanc.pivot_and_accumulate_holdings(tca, \"\")"
   ]
  }
 ],
 "metadata": {
  "kernelspec": {
   "display_name": "Python 3 (ipykernel)",
   "language": "python",
   "name": "python3"
  },
  "language_info": {
   "codemirror_mode": {
    "name": "ipython",
    "version": 3
   },
   "file_extension": ".py",
   "mimetype": "text/x-python",
   "name": "python",
   "nbconvert_exporter": "python",
   "pygments_lexer": "ipython3"
  },
  "toc": {
   "base_numbering": 1,
   "nav_menu": {},
   "number_sections": true,
   "sideBar": true,
   "skip_h1_title": false,
   "title_cell": "Table of Contents",
   "title_sidebar": "Contents",
   "toc_cell": false,
   "toc_position": {},
   "toc_section_display": true,
   "toc_window_display": false
  }
 },
 "nbformat": 4,
 "nbformat_minor": 5
}
