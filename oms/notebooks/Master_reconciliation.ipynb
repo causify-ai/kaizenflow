{
 "cells": [
  {
   "cell_type": "code",
   "execution_count": null,
   "id": "e477dca7",
   "metadata": {},
   "outputs": [],
   "source": [
    "%load_ext autoreload\n",
    "%autoreload 2\n",
    "%matplotlib inline"
   ]
  },
  {
   "cell_type": "code",
   "execution_count": null,
   "id": "48d0e307",
   "metadata": {},
   "outputs": [],
   "source": [
    "import logging\n",
    "import os\n",
    "\n",
    "import numpy as np\n",
    "import pandas as pd\n",
    "\n",
    "import core.config as cconfig\n",
    "import core.finance as cofinanc\n",
    "import core.plotting as coplotti\n",
    "import dataflow.model as dtfmod\n",
    "import helpers.hdbg as hdbg\n",
    "import helpers.henv as henv\n",
    "import helpers.hpandas as hpandas\n",
    "import helpers.hprint as hprint\n",
    "import oms as oms"
   ]
  },
  {
   "cell_type": "code",
   "execution_count": null,
   "id": "629b4976",
   "metadata": {},
   "outputs": [],
   "source": [
    "hdbg.init_logger(verbosity=logging.INFO)\n",
    "\n",
    "_LOG = logging.getLogger(__name__)\n",
    "\n",
    "_LOG.info(\"%s\", henv.get_system_signature()[0])\n",
    "\n",
    "hprint.config_notebook()"
   ]
  },
  {
   "cell_type": "markdown",
   "id": "c4b809bd",
   "metadata": {},
   "source": [
    "# Build the reconciliation config"
   ]
  },
  {
   "cell_type": "code",
   "execution_count": null,
   "id": "b4681c06",
   "metadata": {},
   "outputs": [],
   "source": [
    "config_list = oms.build_reconciliation_configs()\n",
    "config = config_list[0]\n",
    "print(config)"
   ]
  },
  {
   "cell_type": "markdown",
   "id": "792c59a7",
   "metadata": {},
   "source": [
    "# Specify data to load"
   ]
  },
  {
   "cell_type": "code",
   "execution_count": null,
   "id": "360f923c",
   "metadata": {},
   "outputs": [],
   "source": [
    "# The dict points to `system_log_dir` for different experiments.\n",
    "system_log_path_dict = dict(config[\"system_log_path\"].to_dict())"
   ]
  },
  {
   "cell_type": "code",
   "execution_count": null,
   "id": "355b6c82",
   "metadata": {},
   "outputs": [],
   "source": [
    "configs = oms.load_config_from_pickle(system_log_path_dict)\n",
    "# Diff configs.\n",
    "diff_config = cconfig.build_config_diff_dataframe(\n",
    "    {\n",
    "        \"prod_config\": configs[\"prod\"],\n",
    "        \"sim_config\": configs[\"sim\"],\n",
    "    }\n",
    ")\n",
    "diff_config"
   ]
  },
  {
   "cell_type": "code",
   "execution_count": null,
   "id": "2049b173",
   "metadata": {},
   "outputs": [],
   "source": [
    "# This dict points to `system_log_dir/process_forecasts/portfolio` for different experiments.\n",
    "data_type = \"portfolio\"\n",
    "portfolio_path_dict = oms.get_system_log_paths(system_log_path_dict, data_type)\n",
    "portfolio_path_dict"
   ]
  },
  {
   "cell_type": "code",
   "execution_count": null,
   "id": "8ee9be51",
   "metadata": {},
   "outputs": [],
   "source": [
    "# This dict points to `system_log_dir/dag/node_io/node_io.data` for different experiments.\n",
    "data_type = \"dag\"\n",
    "dag_path_dict = oms.get_system_log_paths(system_log_path_dict, data_type)\n",
    "dag_path_dict"
   ]
  },
  {
   "cell_type": "code",
   "execution_count": null,
   "id": "5cf74190",
   "metadata": {},
   "outputs": [],
   "source": [
    "# TODO(gp): Load the TCA data for crypto.\n",
    "if config[\"meta\"][\"run_tca\"]:\n",
    "    tca_csv = os.path.join(root_dir, date_str, \"tca/sau1_tca.csv\")\n",
    "    hdbg.dassert_file_exists(tca_csv)"
   ]
  },
  {
   "cell_type": "code",
   "execution_count": null,
   "id": "a9349309",
   "metadata": {},
   "outputs": [],
   "source": [
    "date_str = config[\"meta\"][\"date_str\"]\n",
    "# TODO(gp): @Grisha infer this from the data from prod Portfolio df, but allow to overwrite.\n",
    "start_timestamp = pd.Timestamp(date_str + \" 07:45:00\", tz=\"America/New_York\")\n",
    "_LOG.info(\"start_timestamp=%s\", start_timestamp)\n",
    "end_timestamp = pd.Timestamp(date_str + \" 09:40:00\", tz=\"America/New_York\")\n",
    "_LOG.info(\"end_timestamp=%s\", end_timestamp)"
   ]
  },
  {
   "cell_type": "markdown",
   "id": "fc19d186",
   "metadata": {},
   "source": [
    "# Compare DAG io"
   ]
  },
  {
   "cell_type": "code",
   "execution_count": null,
   "id": "f1f1bc4e",
   "metadata": {},
   "outputs": [],
   "source": [
    "# Get DAG node names.\n",
    "dag_node_names = oms.get_dag_node_names(dag_path_dict[\"prod\"])\n",
    "dag_node_names"
   ]
  },
  {
   "cell_type": "code",
   "execution_count": null,
   "id": "948fc53a",
   "metadata": {},
   "outputs": [],
   "source": [
    "# Get timestamps for the last DAG node.\n",
    "dag_node_timestamps = oms.get_dag_node_timestamps(\n",
    "    dag_path_dict[\"prod\"], dag_node_names[-1], as_timestamp=True\n",
    ")\n",
    "dag_node_timestamps"
   ]
  },
  {
   "cell_type": "code",
   "execution_count": null,
   "id": "a7d5dde2",
   "metadata": {},
   "outputs": [],
   "source": [
    "# Load DAG output for different experiments.\n",
    "dag_df_dict = {}\n",
    "for name, path in dag_path_dict.items():\n",
    "    # Get DAG node names for every experiment.\n",
    "    dag_nodes = oms.get_dag_node_names(path)\n",
    "    # Get timestamps for the last node.\n",
    "    dag_node_ts = oms.get_dag_node_timestamps(\n",
    "        path, dag_nodes[-1], as_timestamp=True\n",
    "    )\n",
    "    # Get DAG output for the last node and the last timestamp.\n",
    "    timestamp = dag_node_ts[-1]\n",
    "    print(timestamp)\n",
    "    dag_df_dict[name] = oms.get_dag_node_output(\n",
    "        path, dag_nodes[-1], timestamp\n",
    "    )\n",
    "hpandas.df_to_str(dag_df_dict[\"prod\"], num_rows=5, log_level=logging.INFO)"
   ]
  },
  {
   "cell_type": "code",
   "execution_count": null,
   "id": "d68e798e",
   "metadata": {},
   "outputs": [],
   "source": [
    "# Plot diffs over time.\n",
    "diff_df.max(axis=1).plot()"
   ]
  },
  {
   "cell_type": "code",
   "execution_count": null,
   "id": "0ef5838d",
   "metadata": {},
   "outputs": [],
   "source": [
    "# Plot diffs over columns.\n",
    "diff_df.max(axis=0).unstack().max(axis=1).plot(kind=\"bar\")"
   ]
  },
  {
   "cell_type": "code",
   "execution_count": null,
   "id": "8539dae4",
   "metadata": {},
   "outputs": [],
   "source": [
    "# Plot diffs over assets.\n",
    "diff_df.max(axis=0).unstack().max(axis=0).plot(kind=\"bar\")"
   ]
  },
  {
   "cell_type": "code",
   "execution_count": null,
   "id": "10814d35",
   "metadata": {},
   "outputs": [],
   "source": [
    "# Compute correlations.\n",
    "prod_sim_dag_corr = dtfmod.compute_correlations(\n",
    "    dag_df_dict[\"prod\"],\n",
    "    dag_df_dict[\"sim\"],\n",
    ")\n",
    "hpandas.df_to_str(\n",
    "    prod_sim_dag_corr.min(),\n",
    "    num_rows=None,\n",
    "    precision=3,\n",
    "    log_level=logging.INFO,\n",
    ")"
   ]
  },
  {
   "cell_type": "code",
   "execution_count": null,
   "id": "cefd6701",
   "metadata": {},
   "outputs": [],
   "source": [
    "# Make sure they are exactly the same.\n",
    "(dag_df_dict[\"prod\"] - dag_df_dict[\"sim\"]).abs().max().max()"
   ]
  },
  {
   "cell_type": "markdown",
   "id": "570850b2",
   "metadata": {},
   "source": [
    "# Compute research portfolio equivalent"
   ]
  },
  {
   "cell_type": "code",
   "execution_count": null,
   "id": "e5f7f9c4",
   "metadata": {},
   "outputs": [],
   "source": [
    "fep = dtfmod.ForecastEvaluatorFromPrices(\n",
    "    **config[\"research_forecast_evaluator_from_prices\"][\"init\"]\n",
    ")\n",
    "annotate_forecasts_kwargs = config[\"research_forecast_evaluator_from_prices\"][\n",
    "    \"annotate_forecasts_kwargs\"\n",
    "].to_dict()\n",
    "research_portfolio_df, research_portfolio_stats_df = fep.annotate_forecasts(\n",
    "    dag_df_dict[\"prod\"],\n",
    "    **annotate_forecasts_kwargs,\n",
    "    compute_extended_stats=True,\n",
    ")\n",
    "# TODO(gp): Move it to annotate_forecasts?\n",
    "research_portfolio_df = research_portfolio_df.sort_index(axis=1)\n",
    "# Align index with prod and sim portfolios.\n",
    "research_portfolio_df = research_portfolio_df.loc[start_timestamp:end_timestamp]\n",
    "research_portfolio_stats_df = research_portfolio_stats_df.loc[\n",
    "    start_timestamp:end_timestamp\n",
    "]\n",
    "#\n",
    "hpandas.df_to_str(research_portfolio_stats_df, num_rows=5, log_level=logging.INFO)"
   ]
  },
  {
   "cell_type": "markdown",
   "id": "69700fca",
   "metadata": {},
   "source": [
    "# Load logged portfolios"
   ]
  },
  {
   "cell_type": "code",
   "execution_count": null,
   "id": "df9a54ef",
   "metadata": {},
   "outputs": [],
   "source": [
    "portfolio_config = cconfig.Config.from_dict(\n",
    "    {\n",
    "        \"start_timestamp\": start_timestamp,\n",
    "        \"end_timestamp\": end_timestamp,\n",
    "        \"freq\": config[\"meta\"][\"bar_duration\"],\n",
    "        \"normalize_bar_times\": True,\n",
    "    }\n",
    ")\n",
    "portfolio_config"
   ]
  },
  {
   "cell_type": "code",
   "execution_count": null,
   "id": "6412a4cf",
   "metadata": {},
   "outputs": [],
   "source": [
    "portfolio_dfs, portfolio_stats_dfs = oms.load_portfolio_dfs(\n",
    "    portfolio_path_dict,\n",
    "    portfolio_config,\n",
    ")\n",
    "# Add research portfolio.\n",
    "portfolio_dfs[\"research\"] = research_portfolio_df\n",
    "#\n",
    "hpandas.df_to_str(portfolio_dfs[\"prod\"], num_rows=5, log_level=logging.INFO)"
   ]
  },
  {
   "cell_type": "code",
   "execution_count": null,
   "id": "43cb760c",
   "metadata": {},
   "outputs": [],
   "source": [
    "# Add research df and combine into a single df.\n",
    "portfolio_stats_dfs[\"research\"] = research_portfolio_stats_df\n",
    "portfolio_stats_df = pd.concat(portfolio_stats_dfs, axis=1)\n",
    "#\n",
    "hpandas.df_to_str(portfolio_stats_df, num_rows=5, log_level=logging.INFO)"
   ]
  },
  {
   "cell_type": "code",
   "execution_count": null,
   "id": "bc3dc87d",
   "metadata": {},
   "outputs": [],
   "source": [
    "bars_to_burn = 1\n",
    "coplotti.plot_portfolio_stats(portfolio_stats_df.iloc[bars_to_burn:])"
   ]
  },
  {
   "cell_type": "code",
   "execution_count": null,
   "id": "a4b8ce6d",
   "metadata": {},
   "outputs": [],
   "source": [
    "stats_computer = dtfmod.StatsComputer()\n",
    "stats_sxs, _ = stats_computer.compute_portfolio_stats(\n",
    "    portfolio_stats_df.iloc[bars_to_burn:], config[\"meta\"][\"bar_duration\"]\n",
    ")\n",
    "display(stats_sxs)"
   ]
  },
  {
   "cell_type": "markdown",
   "id": "d0264c93",
   "metadata": {},
   "source": [
    "# Compare pairwise portfolio correlations"
   ]
  },
  {
   "cell_type": "code",
   "execution_count": null,
   "id": "bca34313",
   "metadata": {},
   "outputs": [],
   "source": [
    "dtfmod.compute_correlations(\n",
    "    research_portfolio_df,\n",
    "    portfolio_dfs[\"prod\"],\n",
    "    allow_unequal_indices=True,\n",
    "    allow_unequal_columns=True,\n",
    ")"
   ]
  },
  {
   "cell_type": "code",
   "execution_count": null,
   "id": "ba249149",
   "metadata": {},
   "outputs": [],
   "source": [
    "dtfmod.compute_correlations(\n",
    "    portfolio_dfs[\"prod\"],\n",
    "    portfolio_dfs[\"sim\"],\n",
    "    allow_unequal_indices=False,\n",
    "    allow_unequal_columns=False,\n",
    ")"
   ]
  },
  {
   "cell_type": "code",
   "execution_count": null,
   "id": "6f72b1d7",
   "metadata": {},
   "outputs": [],
   "source": [
    "dtfmod.compute_correlations(\n",
    "    research_portfolio_df,\n",
    "    portfolio_dfs[\"sim\"],\n",
    "    allow_unequal_indices=True,\n",
    "    allow_unequal_columns=True,\n",
    ")"
   ]
  },
  {
   "cell_type": "code",
   "execution_count": null,
   "id": "614f3802",
   "metadata": {},
   "outputs": [],
   "source": [
    "if config[\"meta\"][\"run_tca\"]:\n",
    "    tca = cofinanc.load_and_normalize_tca_csv(tca_csv)\n",
    "    tca = cofinanc.compute_tca_price_annotations(tca, True)\n",
    "    tca = cofinanc.pivot_and_accumulate_holdings(tca, \"\")"
   ]
  }
 ],
 "metadata": {
  "kernelspec": {
   "display_name": "Python 3 (ipykernel)",
   "language": "python",
   "name": "python3"
  }
 },
 "nbformat": 4,
 "nbformat_minor": 5
}
