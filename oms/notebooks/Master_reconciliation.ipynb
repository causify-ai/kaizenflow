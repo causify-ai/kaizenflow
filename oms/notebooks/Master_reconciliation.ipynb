{
 "cells": [
  {
   "cell_type": "code",
   "execution_count": null,
   "id": "a160c995",
   "metadata": {},
   "outputs": [],
   "source": [
    "%load_ext autoreload\n",
    "%autoreload 2\n",
    "%matplotlib inline"
   ]
  },
  {
   "cell_type": "code",
   "execution_count": null,
   "id": "2b704896",
   "metadata": {},
   "outputs": [],
   "source": [
    "import logging\n",
    "import os\n",
    "\n",
    "import pandas as pd\n",
    "\n",
    "import core.config as cconfig\n",
    "import core.finance as cofinanc\n",
    "import core.plotting as coplotti\n",
    "import dataflow.model as dtfmod\n",
    "import helpers.hdbg as hdbg\n",
    "import helpers.henv as henv\n",
    "import helpers.hpandas as hpandas\n",
    "import helpers.hpickle as hpickle\n",
    "import helpers.hprint as hprint\n",
    "import oms as oms"
   ]
  },
  {
   "cell_type": "code",
   "execution_count": null,
   "id": "76a947e8",
   "metadata": {},
   "outputs": [],
   "source": [
    "hdbg.init_logger(verbosity=logging.INFO)\n",
    "\n",
    "_LOG = logging.getLogger(__name__)\n",
    "\n",
    "_LOG.info(\"%s\", henv.get_system_signature()[0])\n",
    "\n",
    "hprint.config_notebook()"
   ]
  },
  {
   "cell_type": "markdown",
   "id": "0e4600f5",
   "metadata": {},
   "source": [
    "# Build the reconciliation config"
   ]
  },
  {
   "cell_type": "code",
   "execution_count": null,
   "id": "f6bffd01",
   "metadata": {},
   "outputs": [],
   "source": [
    "config_list = oms.build_reconciliation_configs()\n",
    "config = config_list[0]\n",
    "print(config)"
   ]
  },
  {
   "cell_type": "markdown",
   "id": "8306d378",
   "metadata": {},
   "source": [
    "# Specify data to load"
   ]
  },
  {
   "cell_type": "code",
   "execution_count": null,
   "id": "b6a0f9a0",
   "metadata": {},
   "outputs": [],
   "source": [
    "# TODO(Grisha): factor out common code.\n",
    "prod_dir = config[\"load_data_config\"][\"prod_dir\"]\n",
    "_LOG.info(\"Prod_dir=%s\", prod_dir)\n",
    "hdbg.dassert(prod_dir)\n",
    "hdbg.dassert_dir_exists(prod_dir)\n",
    "\n",
    "cand_dir = config[\"load_data_config\"][\"cand_dir\"]\n",
    "_LOG.info(\"Cand_dir=%s\", cand_dir)\n",
    "hdbg.dassert(cand_dir)\n",
    "hdbg.dassert_dir_exists(cand_dir)\n",
    "\n",
    "sim_dir = config[\"load_data_config\"][\"sim_dir\"]\n",
    "_LOG.info(\"Sim_dir=%s\", sim_dir)\n",
    "hdbg.dassert(sim_dir)\n",
    "hdbg.dassert_dir_exists(sim_dir)"
   ]
  },
  {
   "cell_type": "code",
   "execution_count": null,
   "id": "dfd92db7",
   "metadata": {},
   "outputs": [],
   "source": [
    "# TODO(Grisha): factor common code.\n",
    "# TODO(Grisha): diff configs.\n",
    "config_name = \"system_config.input.values_as_strings.pkl\"\n",
    "\n",
    "prod_config_path = os.path.join(prod_dir, config_name)\n",
    "prod_config_pkl = hpickle.from_pickle(prod_config_path)\n",
    "prod_config = cconfig.Config.from_dict(prod_config_pkl)\n",
    "#\n",
    "sim_config_path = os.path.join(sim_dir, config_name)\n",
    "sim_config_pkl = hpickle.from_pickle(sim_config_path)\n",
    "sim_config = cconfig.Config.from_dict(sim_config_pkl)"
   ]
  },
  {
   "cell_type": "code",
   "execution_count": null,
   "id": "ccfe6853",
   "metadata": {},
   "outputs": [],
   "source": [
    "# TODO(Grisha): factor out common code.\n",
    "prod_portfolio_dir = os.path.join(prod_dir, \"process_forecasts/portfolio\")\n",
    "hdbg.dassert_dir_exists(prod_portfolio_dir)\n",
    "_LOG.info(\"prod_portfolio_dir=%s\", prod_portfolio_dir)\n",
    "prod_dag_dir = os.path.join(prod_dir, \"dag/node_io/node_io.data\")\n",
    "hdbg.dassert_dir_exists(prod_dag_dir)\n",
    "#\n",
    "cand_portfolio_dir = os.path.join(cand_dir, \"process_forecasts/portfolio\")\n",
    "hdbg.dassert_dir_exists(cand_portfolio_dir)\n",
    "_LOG.info(\"cand_portfolio_dir=%s\", cand_portfolio_dir)\n",
    "cand_dag_dir = os.path.join(cand_dir, \"dag/node_io/node_io.data\")\n",
    "hdbg.dassert_dir_exists(cand_dag_dir)\n",
    "#\n",
    "sim_portfolio_dir = os.path.join(sim_dir, \"process_forecasts/portfolio\")\n",
    "hdbg.dassert_dir_exists(sim_portfolio_dir)\n",
    "_LOG.info(\"sim_portfolio_dir=%s\", sim_portfolio_dir)\n",
    "sim_dag_dir = os.path.join(sim_dir, \"dag/node_io/node_io.data\")\n",
    "hdbg.dassert_dir_exists(sim_dag_dir)\n",
    "\n",
    "# TODO(gp): Load the TCA data for crypto.\n",
    "if config[\"meta\"][\"run_tca\"]:\n",
    "    tca_csv = os.path.join(root_dir, date_str, \"tca/sau1_tca.csv\")\n",
    "    hdbg.dassert_file_exists(tca_csv)"
   ]
  },
  {
   "cell_type": "code",
   "execution_count": null,
   "id": "a6818dd6",
   "metadata": {},
   "outputs": [],
   "source": [
    "# This dict points to `system_log_dir/process_forecasts/portfolio` for different experiments.\n",
    "portfolio_path_dict = {\n",
    "    \"prod\": prod_portfolio_dir,\n",
    "    \"cand\": cand_portfolio_dir,\n",
    "    \"sim\": sim_portfolio_dir,\n",
    "}"
   ]
  },
  {
   "cell_type": "code",
   "execution_count": null,
   "id": "26b982b6",
   "metadata": {},
   "outputs": [],
   "source": [
    "date_str = config[\"meta\"][\"date_str\"]\n",
    "# TODO(gp): @Grisha infer this from the data from prod Portfolio df, but allow to overwrite.\n",
    "start_timestamp = pd.Timestamp(date_str + \" 06:05:00\", tz=\"America/New_York\")\n",
    "_LOG.info(\"start_timestamp=%s\", start_timestamp)\n",
    "end_timestamp = pd.Timestamp(date_str + \" 08:00:00\", tz=\"America/New_York\")\n",
    "_LOG.info(\"end_timestamp=%s\", end_timestamp)"
   ]
  },
  {
   "cell_type": "markdown",
   "id": "6ba15119",
   "metadata": {},
   "source": [
    "# Compare DAG io"
   ]
  },
  {
   "cell_type": "code",
   "execution_count": null,
   "id": "0b3f7c21",
   "metadata": {},
   "outputs": [],
   "source": [
    "# TODO(gp): @grisha move to oms/reconciliation.py\n",
    "\n",
    "\n",
    "def get_latest_output_from_last_dag_node(dag_dir: str) -> pd.DataFrame:\n",
    "    \"\"\"\n",
    "    Retrieve the most recent output from the last DAG node.\n",
    "\n",
    "    This function relies on our file naming conventions.\n",
    "    \"\"\"\n",
    "    parquet_files = list(\n",
    "        filter(lambda x: \"parquet\" in x, sorted(os.listdir(cand_dag_dir)))\n",
    "    )\n",
    "    _LOG.info(\"Tail of files found=%s\", parquet_files[-3:])\n",
    "    file_name = parquet_files[-1]\n",
    "    _LOG.info(\"DAG file selected=%s\", file_name)\n",
    "    dag_parquet_path = os.path.join(cand_dag_dir, file_name)\n",
    "    # _LOG.info(\"DAG parquet path=%s\", dag_parquet_path)\n",
    "    dag_df = pd.read_parquet(dag_parquet_path)\n",
    "    return dag_df"
   ]
  },
  {
   "cell_type": "code",
   "execution_count": null,
   "id": "efe93010",
   "metadata": {},
   "outputs": [],
   "source": [
    "# TODO(gp): @Grisha\n",
    "# GOAL: We should be able to specify what exactly we want to run (e.g., prod, cand, sim)\n",
    "# because not everything is always available or important (e.g., for cc we don't have candidate,\n",
    "# for equities we don't always have sim).\n",
    "\n",
    "# INV: prod_dag_df -> dag_df[\"prod\"], cand_dag_df -> dag_df[\"cand\"]"
   ]
  },
  {
   "cell_type": "code",
   "execution_count": null,
   "id": "0daea71c",
   "metadata": {},
   "outputs": [],
   "source": [
    "prod_dag_df = get_latest_output_from_last_dag_node(prod_dag_dir)\n",
    "hpandas.df_to_str(prod_dag_df, num_rows=5, log_level=logging.INFO)"
   ]
  },
  {
   "cell_type": "code",
   "execution_count": null,
   "id": "fc4dfcc6",
   "metadata": {},
   "outputs": [],
   "source": [
    "sim_dag_df = get_latest_output_from_last_dag_node(sim_dag_dir)\n",
    "hpandas.df_to_str(sim_dag_df, num_rows=5, log_level=logging.INFO)"
   ]
  },
  {
   "cell_type": "code",
   "execution_count": null,
   "id": "5000393b",
   "metadata": {},
   "outputs": [],
   "source": [
    "prod_sim_dag_corr = dtfmod.compute_correlations(\n",
    "    prod_dag_df,\n",
    "    sim_dag_df,\n",
    ")"
   ]
  },
  {
   "cell_type": "code",
   "execution_count": null,
   "id": "c468e5fe",
   "metadata": {},
   "outputs": [],
   "source": [
    "hpandas.df_to_str(\n",
    "    prod_sim_dag_corr.min(),\n",
    "    num_rows=None,\n",
    "    precision=3,\n",
    "    log_level=logging.INFO,\n",
    ")"
   ]
  },
  {
   "cell_type": "code",
   "execution_count": null,
   "id": "ec940e7d",
   "metadata": {},
   "outputs": [],
   "source": [
    "# Make sure they are exactly the same.\n",
    "(prod_dag_df - sim_dag_df).abs().max().max()"
   ]
  },
  {
   "cell_type": "markdown",
   "id": "51d6ff22",
   "metadata": {},
   "source": [
    "# Compute research portfolio equivalent"
   ]
  },
  {
   "cell_type": "code",
   "execution_count": null,
   "id": "5d99af38",
   "metadata": {},
   "outputs": [],
   "source": [
    "fep = dtfmod.ForecastEvaluatorFromPrices(\n",
    "    **config[\"research_forecast_evaluator_from_prices\"][\"init\"]\n",
    ")"
   ]
  },
  {
   "cell_type": "code",
   "execution_count": null,
   "id": "88617f6e",
   "metadata": {},
   "outputs": [],
   "source": [
    "research_portfolio_df, research_portfolio_stats_df = fep.annotate_forecasts(\n",
    "    prod_dag_df,\n",
    "    **config[\"research_forecast_evaluator_from_prices\"][\n",
    "        \"annotate_forecasts_kwargs\"\n",
    "    ],\n",
    "    compute_extended_stats=True,\n",
    ")\n",
    "# TODO(gp): Move it to annotate_forecasts?\n",
    "research_portfolio_df = research_portfolio_df.sort_index(axis=1)\n",
    "#\n",
    "hpandas.df_to_str(research_portfolio_stats_df, num_rows=5, log_level=logging.INFO)"
   ]
  },
  {
   "cell_type": "markdown",
   "id": "6e7ac7c9",
   "metadata": {},
   "source": [
    "# Load logged portfolios"
   ]
  },
  {
   "cell_type": "code",
   "execution_count": null,
   "id": "bdfbb362",
   "metadata": {},
   "outputs": [],
   "source": [
    "portfolio_config_dict = {\n",
    "    \"start_timestamp\": start_timestamp,\n",
    "    \"end_timestamp\": end_timestamp,\n",
    "    \"freq\": config[\"meta\"][\"bar_duration\"],\n",
    "    \"normalize_bar_times\": True,\n",
    "}\n",
    "portfolio_config_dict"
   ]
  },
  {
   "cell_type": "code",
   "execution_count": null,
   "id": "89560fe7",
   "metadata": {},
   "outputs": [],
   "source": [
    "# TODO(gp): @grisha move to library.\n",
    "\n",
    "# Load the 4 portfolios.\n",
    "portfolio_dfs = {}\n",
    "portfolio_stats_dfs = {}\n",
    "for name, path in portfolio_path_dict.items():\n",
    "    _LOG.info(\"Processing portfolio=%s path=%s\", name, path)\n",
    "    portfolio_df, portfolio_stats_df = oms.load_portfolio_artifacts(\n",
    "        path,\n",
    "        **portfolio_config_dict,\n",
    "    )\n",
    "    portfolio_dfs[name] = portfolio_df\n",
    "    portfolio_stats_dfs[name] = portfolio_stats_df\n",
    "portfolio_dfs[\"research\"] = research_portfolio_df.loc[\n",
    "    start_timestamp:end_timestamp\n",
    "]\n",
    "portfolio_stats_dfs[\"research\"] = research_portfolio_stats_df.loc[\n",
    "    start_timestamp:end_timestamp\n",
    "]\n",
    "portfolio_stats_df = pd.concat(portfolio_stats_dfs, axis=1)\n",
    "hpandas.df_to_str(portfolio_stats_df, num_rows=5, log_level=logging.INFO)"
   ]
  },
  {
   "cell_type": "code",
   "execution_count": null,
   "id": "baa763e1",
   "metadata": {},
   "outputs": [],
   "source": [
    "bars_to_burn = 1\n",
    "coplotti.plot_portfolio_stats(portfolio_stats_df.iloc[bars_to_burn:])"
   ]
  },
  {
   "cell_type": "code",
   "execution_count": null,
   "id": "19c484b4",
   "metadata": {},
   "outputs": [],
   "source": [
    "stats_computer = dtfmod.StatsComputer()\n",
    "stats_sxs, _ = stats_computer.compute_portfolio_stats(\n",
    "    portfolio_stats_df.iloc[bars_to_burn:], config[\"meta\"][\"bar_duration\"]\n",
    ")\n",
    "display(stats_sxs)"
   ]
  },
  {
   "cell_type": "markdown",
   "id": "f02a4edd",
   "metadata": {},
   "source": [
    "# Compare pairwise portfolio correlations"
   ]
  },
  {
   "cell_type": "code",
   "execution_count": null,
   "id": "c3ceefbc",
   "metadata": {},
   "outputs": [],
   "source": [
    "adapted_prod_df = oms.adapt_portfolio_object_df_to_forecast_evaluator_df(\n",
    "    portfolio_dfs[\"prod\"]\n",
    ")\n",
    "adapted_cand_df = oms.adapt_portfolio_object_df_to_forecast_evaluator_df(\n",
    "    portfolio_dfs[\"cand\"]\n",
    ")\n",
    "adapted_sim_df = oms.adapt_portfolio_object_df_to_forecast_evaluator_df(\n",
    "    portfolio_dfs[\"sim\"]\n",
    ")"
   ]
  },
  {
   "cell_type": "code",
   "execution_count": null,
   "id": "adf717c0",
   "metadata": {},
   "outputs": [],
   "source": [
    "dtfmod.compute_correlations(\n",
    "    research_portfolio_df,\n",
    "    adapted_prod_df,\n",
    "    allow_unequal_indices=True,\n",
    "    allow_unequal_columns=True,\n",
    ")"
   ]
  },
  {
   "cell_type": "code",
   "execution_count": null,
   "id": "93083c7d",
   "metadata": {},
   "outputs": [],
   "source": [
    "dtfmod.compute_correlations(\n",
    "    adapted_prod_df,\n",
    "    adapted_sim_df,\n",
    "    allow_unequal_indices=False,\n",
    "    allow_unequal_columns=False,\n",
    ")"
   ]
  },
  {
   "cell_type": "code",
   "execution_count": null,
   "id": "7384f63a",
   "metadata": {},
   "outputs": [],
   "source": [
    "dtfmod.compute_correlations(\n",
    "    research_portfolio_df,\n",
    "    adapted_sim_df,\n",
    "    allow_unequal_indices=True,\n",
    "    allow_unequal_columns=True,\n",
    ")"
   ]
  },
  {
   "cell_type": "code",
   "execution_count": null,
   "id": "702a9f6f",
   "metadata": {},
   "outputs": [],
   "source": [
    "if config[\"meta\"][\"run_tca\"]:\n",
    "    tca = cofinanc.load_and_normalize_tca_csv(tca_csv)\n",
    "    tca = cofinanc.compute_tca_price_annotations(tca, True)\n",
    "    tca = cofinanc.pivot_and_accumulate_holdings(tca, \"\")"
   ]
  }
 ],
 "metadata": {
  "kernelspec": {
   "display_name": "Python 3 (ipykernel)",
   "language": "python",
   "name": "python3"
  },
  "language_info": {
   "codemirror_mode": {
    "name": "ipython",
    "version": 3
   },
   "file_extension": ".py",
   "mimetype": "text/x-python",
   "name": "python",
   "nbconvert_exporter": "python",
   "pygments_lexer": "ipython3"
  },
  "toc": {
   "base_numbering": 1,
   "nav_menu": {},
   "number_sections": true,
   "sideBar": true,
   "skip_h1_title": false,
   "title_cell": "Table of Contents",
   "title_sidebar": "Contents",
   "toc_cell": false,
   "toc_position": {},
   "toc_section_display": true,
   "toc_window_display": false
  }
 },
 "nbformat": 4,
 "nbformat_minor": 5
}
