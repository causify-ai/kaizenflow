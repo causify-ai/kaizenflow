{
 "cells": [
  {
   "cell_type": "code",
   "execution_count": null,
   "id": "3e53041b",
   "metadata": {},
   "outputs": [],
   "source": [
    "%load_ext autoreload\n",
    "%autoreload 2\n",
    "%matplotlib inline"
   ]
  },
  {
   "cell_type": "code",
   "execution_count": null,
   "id": "9e999d33",
   "metadata": {},
   "outputs": [],
   "source": [
    "import logging\n",
    "import os\n",
    "\n",
    "import pandas as pd\n",
    "\n",
    "import core.config as cconfig\n",
    "import core.finance as cofinanc\n",
    "import core.plotting as coplotti\n",
    "import dataflow.model as dtfmod\n",
    "import helpers.hdbg as hdbg\n",
    "import helpers.henv as henv\n",
    "import helpers.hpandas as hpandas\n",
    "import helpers.hpickle as hpickle\n",
    "import helpers.hprint as hprint\n",
    "import oms as oms"
   ]
  },
  {
   "cell_type": "code",
   "execution_count": null,
   "id": "42286a72",
   "metadata": {},
   "outputs": [],
   "source": [
    "hdbg.init_logger(verbosity=logging.INFO)\n",
    "\n",
    "_LOG = logging.getLogger(__name__)\n",
    "\n",
    "_LOG.info(\"%s\", henv.get_system_signature()[0])\n",
    "\n",
    "hprint.config_notebook()"
   ]
  },
  {
   "cell_type": "markdown",
   "id": "e2050dc1",
   "metadata": {},
   "source": [
    "# Build the reconciliation config"
   ]
  },
  {
   "cell_type": "code",
   "execution_count": null,
   "id": "fdb39ed1",
   "metadata": {},
   "outputs": [],
   "source": [
    "config_list = oms.build_reconciliation_configs()\n",
    "config = config_list[0]\n",
    "print(config)"
   ]
  },
  {
   "cell_type": "markdown",
   "id": "7b5f959f",
   "metadata": {},
   "source": [
    "# Specify data to load"
   ]
  },
  {
   "cell_type": "code",
   "execution_count": null,
   "id": "bfc82507",
   "metadata": {},
   "outputs": [],
   "source": [
    "# TODO(Grisha): factor out common code.\n",
    "prod_dir = \"/shared_data/prod_reconciliation/20221006/prod/system_log_dir_scheduled__2022-10-05T10:00:00+00:00_2hours\"\n",
    "_LOG.info(\"Prod_dir=%s\", prod_dir)\n",
    "hdbg.dassert(prod_dir)\n",
    "hdbg.dassert_dir_exists(prod_dir)\n",
    "\n",
    "cand_dir = \"/shared_data/prod_reconciliation/20221006/prod/system_log_dir_scheduled__2022-10-05T10:00:00+00:00_2hours\"\n",
    "_LOG.info(\"Cand_dir=%s\", cand_dir)\n",
    "hdbg.dassert(cand_dir)\n",
    "hdbg.dassert_dir_exists(cand_dir)\n",
    "\n",
    "sim_dir = \"/shared_data/prod_reconciliation/20221006/simulation/system_log_dir\"\n",
    "_LOG.info(\"Sim_dir=%s\", sim_dir)\n",
    "hdbg.dassert(sim_dir)\n",
    "hdbg.dassert_dir_exists(sim_dir)"
   ]
  },
  {
   "cell_type": "code",
   "execution_count": null,
   "id": "dd0f6069",
   "metadata": {},
   "outputs": [],
   "source": [
    "# TODO(Grisha): factor common code.\n",
    "# TODO(Grisha): diff configs.\n",
    "config_name = \"system_config.input.values_as_strings.pkl\"\n",
    "\n",
    "prod_config_path = os.path.join(prod_dir, config_name)\n",
    "prod_config_pkl = hpickle.from_pickle(prod_config_path)\n",
    "prod_config = cconfig.Config.from_dict(prod_config_pkl)\n",
    "#\n",
    "sim_config_path = os.path.join(sim_dir, config_name)\n",
    "sim_config_pkl = hpickle.from_pickle(sim_config_path)\n",
    "sim_config = cconfig.Config.from_dict(sim_config_pkl)"
   ]
  },
  {
   "cell_type": "code",
   "execution_count": null,
   "id": "4b411033",
   "metadata": {},
   "outputs": [],
   "source": [
    "import helpers.hpickle as hpickle\n",
    "\n",
    "sim_config1 = hpickle.to_pickleable(sim_config)\n",
    "prod_config1 = hpickle.to_pickleable(prod_config)"
   ]
  },
  {
   "cell_type": "code",
   "execution_count": null,
   "id": "6a70590b",
   "metadata": {},
   "outputs": [],
   "source": [
    "prod_config"
   ]
  },
  {
   "cell_type": "code",
   "execution_count": null,
   "id": "b769b8b2",
   "metadata": {},
   "outputs": [],
   "source": [
    "config_dict = [sim_config, prod_config]\n",
    "cconfig.diff_configs(config_dict)"
   ]
  },
  {
   "cell_type": "code",
   "execution_count": null,
   "id": "21ffd1b8",
   "metadata": {},
   "outputs": [],
   "source": [
    "intersection = cconfig.intersect_configs(config_dict)\n",
    "config_diff = cconfig.subtract_config(config_dict[1], intersection)\n",
    "config_diff"
   ]
  },
  {
   "cell_type": "code",
   "execution_count": null,
   "id": "4b38eb8d",
   "metadata": {},
   "outputs": [],
   "source": [
    "pd.options.display.max_colwidth = 999\n",
    "\n",
    "cconfig.build_config_diff_dataframe({\"prod_config\": prod_config, \"sim_config\": sim_config}).T"
   ]
  },
  {
   "cell_type": "code",
   "execution_count": null,
   "id": "4dc3a963",
   "metadata": {},
   "outputs": [],
   "source": [
    "flat1 = config_dict[1].flatten()\n",
    "flat2 = intersection.flatten()"
   ]
  },
  {
   "cell_type": "code",
   "execution_count": null,
   "id": "69df7597",
   "metadata": {},
   "outputs": [],
   "source": [
    "flat1"
   ]
  },
  {
   "cell_type": "code",
   "execution_count": null,
   "id": "c44af561",
   "metadata": {},
   "outputs": [],
   "source": [
    "flat1[('portfolio_config', 'order_extra_params')] = \"\""
   ]
  },
  {
   "cell_type": "code",
   "execution_count": null,
   "id": "8b2f9528",
   "metadata": {},
   "outputs": [],
   "source": [
    "diff = cconfig.Config()"
   ]
  },
  {
   "cell_type": "code",
   "execution_count": null,
   "id": "c50ae84c",
   "metadata": {},
   "outputs": [],
   "source": [
    "for k, v in flat1.items():\n",
    "    if (k not in flat2) or (flat1[k] != flat2[k]):\n",
    "        try:\n",
    "            diff[k] = v\n",
    "        except AssertionError:\n",
    "            print(k)"
   ]
  },
  {
   "cell_type": "code",
   "execution_count": null,
   "id": "090d372d",
   "metadata": {},
   "outputs": [],
   "source": [
    "config_diff"
   ]
  },
  {
   "cell_type": "code",
   "execution_count": null,
   "id": "83c4df4d",
   "metadata": {},
   "outputs": [],
   "source": [
    "flat = sim_config.flatten()\n",
    "list(flat.items())[0]"
   ]
  },
  {
   "cell_type": "code",
   "execution_count": null,
   "id": "9c1db76e",
   "metadata": {},
   "outputs": [],
   "source": [
    "flat1 = {}\n",
    "for k, v in flat.items():\n",
    "    flat1[k] = hpickle.to_pickleable(v)"
   ]
  },
  {
   "cell_type": "code",
   "execution_count": null,
   "id": "148c8bae",
   "metadata": {},
   "outputs": [],
   "source": [
    "test_items = None\n",
    "for items in flat1.items():\n",
    "    try:\n",
    "        set(items)\n",
    "    except TypeError:\n",
    "        print(items)\n",
    "        test_items = items\n",
    "        assert 0"
   ]
  },
  {
   "cell_type": "code",
   "execution_count": null,
   "id": "a081b978",
   "metadata": {},
   "outputs": [],
   "source": [
    "items_before = (('dag_config', 'resample', 'in_col_groups'), [('close',), ('volume',)])\n",
    "test = items_before[1]\n",
    "test"
   ]
  },
  {
   "cell_type": "code",
   "execution_count": null,
   "id": "3eac157f",
   "metadata": {},
   "outputs": [],
   "source": [
    "def make_hashable(obj):\n",
    "    if isinstance(obj, (int, str)):\n",
    "        return obj\n",
    "    if isinstance(obj, (set, tuple, list)):\n",
    "        return tuple([make_hashable(e) for e in obj])  "
   ]
  },
  {
   "cell_type": "code",
   "execution_count": null,
   "id": "633477e7",
   "metadata": {},
   "outputs": [],
   "source": [
    "make_hashable(test)"
   ]
  },
  {
   "cell_type": "code",
   "execution_count": null,
   "id": "6c1983a9",
   "metadata": {},
   "outputs": [],
   "source": [
    "for v in items_before[1]:\n",
    "    print(v)"
   ]
  },
  {
   "cell_type": "code",
   "execution_count": null,
   "id": "55322bb8",
   "metadata": {},
   "outputs": [],
   "source": [
    "test_items[1]"
   ]
  },
  {
   "cell_type": "code",
   "execution_count": null,
   "id": "38351bd8",
   "metadata": {},
   "outputs": [],
   "source": [
    "def load_config_as_list(path):\n",
    "    \"\"\"\n",
    "    Load config as a list of string lines.\n",
    "    \"\"\"\n",
    "    with open(path, \"r\") as f:\n",
    "        lines = f.readlines()\n",
    "    _LOG.debug(\"Lines read=%d\", len(lines))\n",
    "    return lines\n",
    "\n",
    "a1 = load_config_as_list(prod_config_path)\n",
    "b1 = load_config_as_list(sim_config_path)\n",
    "c = d.compare(a1, b1)\n",
    "print('\\n'.join(c))"
   ]
  },
  {
   "cell_type": "code",
   "execution_count": null,
   "id": "518b75ff",
   "metadata": {},
   "outputs": [],
   "source": [
    "a = hpickle.to_pickleable(sim_config)\n",
    "b = hpickle.to_pickleable(prod_config)"
   ]
  },
  {
   "cell_type": "code",
   "execution_count": null,
   "id": "b74c85e6",
   "metadata": {},
   "outputs": [],
   "source": [
    "import difflib\n",
    "d = difflib.Differ()\n",
    "diff = d.compare(a, b)\n",
    "print('\\n '.join(diff))"
   ]
  },
  {
   "cell_type": "code",
   "execution_count": null,
   "id": "824aacb6",
   "metadata": {},
   "outputs": [],
   "source": [
    "s = (1, 2)\n",
    "s.__dir__()"
   ]
  },
  {
   "cell_type": "code",
   "execution_count": null,
   "id": "52014eb4",
   "metadata": {},
   "outputs": [],
   "source": [
    "for i in range(len(s)):\n",
    "    print(i)"
   ]
  },
  {
   "cell_type": "code",
   "execution_count": null,
   "id": "89364c8d",
   "metadata": {},
   "outputs": [],
   "source": [
    "# Ordered dict contains List[tuple[tuple, some value]] \"some value\" can be any type.\n",
    "\"\"\"\n",
    "dag_config:\n",
    "  resample:\n",
    "    in_col_groups: [('close',), ('volume',)]\n",
    "    \n",
    "Becomes:\n",
    "\"\"\"\n",
    "(\n",
    "    ('dag_config', 'resample', 'in_col_groups'), \n",
    "    [('close',), ('volume',)]\n",
    "),\n",
    "\n",
    "\"\"\"\n",
    "dag_config:\n",
    "  resample:\n",
    "    ....\n",
    "    out_col_group: ()\n",
    "\"\"\"\n",
    "(\n",
    "    ('dag_config', 'resample', 'out_col_group'), \n",
    "    ()\n",
    "), \n",
    "\n",
    "\"\"\"\n",
    "dag_config:\n",
    "  resample:\n",
    "    ....\n",
    "    transformer_kwargs:\n",
    "      rule: 5T\n",
    "\"\"\"\n",
    "(\n",
    "    ('dag_config', 'resample', 'transformer_kwargs', 'rule'), \n",
    "    '5T'\n",
    "),\n",
    "\n",
    "\n",
    "# When we try to `subtract_config`, we'll get the following assertion:\n",
    "# ```\n",
    "# AssertionError: \n",
    "################################################################################\n",
    "# For key='('portfolio_config', 'order_extra_params')' val='OrderedDict()' can't be a dict\n",
    "################################################################################\n",
    "# ```\n",
    "# The problem is that nested dict became an ordered one containig List[tuple[tuple, some value]].\n",
    "# So all keys of a nest placed as an inside tuple. So the solution is to iterate through the tuple and place keys\n",
    "# to diff config as nested dict."
   ]
  },
  {
   "cell_type": "code",
   "execution_count": null,
   "id": "aec88c41",
   "metadata": {},
   "outputs": [],
   "source": [
    "import core.config.config_utils as ccocouti\n",
    "ccocouti.build_config_diff_dataframe({\"1\": sim_config, \"2\": prod_config})"
   ]
  },
  {
   "cell_type": "code",
   "execution_count": null,
   "id": "145e05ac",
   "metadata": {},
   "outputs": [],
   "source": [
    "pd.DataFrame(sim_config_pkl).T"
   ]
  },
  {
   "cell_type": "code",
   "execution_count": null,
   "id": "53ed73b3",
   "metadata": {},
   "outputs": [],
   "source": [
    "# TODO(Grisha): factor out common code.\n",
    "prod_portfolio_dir = os.path.join(prod_dir, \"process_forecasts/portfolio\")\n",
    "hdbg.dassert_dir_exists(prod_portfolio_dir)\n",
    "_LOG.info(\"prod_portfolio_dir=%s\", prod_portfolio_dir)\n",
    "prod_dag_dir = os.path.join(prod_dir, \"dag/node_io/node_io.data\")\n",
    "hdbg.dassert_dir_exists(prod_dag_dir)\n",
    "#\n",
    "cand_portfolio_dir = os.path.join(cand_dir, \"process_forecasts/portfolio\")\n",
    "hdbg.dassert_dir_exists(cand_portfolio_dir)\n",
    "_LOG.info(\"cand_portfolio_dir=%s\", cand_portfolio_dir)\n",
    "cand_dag_dir = os.path.join(cand_dir, \"dag/node_io/node_io.data\")\n",
    "hdbg.dassert_dir_exists(cand_dag_dir)\n",
    "#\n",
    "sim_portfolio_dir = os.path.join(sim_dir, \"process_forecasts/portfolio\")\n",
    "hdbg.dassert_dir_exists(sim_portfolio_dir)\n",
    "_LOG.info(\"sim_portfolio_dir=%s\", sim_portfolio_dir)\n",
    "sim_dag_dir = os.path.join(sim_dir, \"dag/node_io/node_io.data\")\n",
    "hdbg.dassert_dir_exists(sim_dag_dir)\n",
    "\n",
    "# TODO(gp): Load the TCA data for crypto.\n",
    "if config[\"meta\"][\"run_tca\"]:\n",
    "    tca_csv = os.path.join(root_dir, date_str, \"tca/sau1_tca.csv\")\n",
    "    hdbg.dassert_file_exists(tca_csv)"
   ]
  },
  {
   "cell_type": "code",
   "execution_count": null,
   "id": "9225af29",
   "metadata": {},
   "outputs": [],
   "source": [
    "# This dict points to `system_log_dir/process_forecasts/portfolio` for different experiments.\n",
    "portfolio_path_dict = {\n",
    "    \"prod\": prod_portfolio_dir,\n",
    "    \"cand\": cand_portfolio_dir,\n",
    "    \"sim\": sim_portfolio_dir,\n",
    "}"
   ]
  },
  {
   "cell_type": "code",
   "execution_count": null,
   "id": "be0bea90",
   "metadata": {},
   "outputs": [],
   "source": [
    "date_str = config[\"meta\"][\"date_str\"]\n",
    "# TODO(gp): @Grisha infer this from the data from prod Portfolio df, but allow to overwrite.\n",
    "start_timestamp = pd.Timestamp(date_str + \" 06:05:00\", tz=\"America/New_York\")\n",
    "_LOG.info(\"start_timestamp=%s\", start_timestamp)\n",
    "end_timestamp = pd.Timestamp(date_str + \" 08:00:00\", tz=\"America/New_York\")\n",
    "_LOG.info(\"end_timestamp=%s\", end_timestamp)"
   ]
  },
  {
   "cell_type": "markdown",
   "id": "6576f002",
   "metadata": {},
   "source": [
    "# Compare DAG io"
   ]
  },
  {
   "cell_type": "code",
   "execution_count": null,
   "id": "c113605a",
   "metadata": {},
   "outputs": [],
   "source": [
    "# TODO(gp): @grisha move to oms/reconciliation.py\n",
    "\n",
    "\n",
    "def get_latest_output_from_last_dag_node(dag_dir: str) -> pd.DataFrame:\n",
    "    \"\"\"\n",
    "    Retrieve the most recent output from the last DAG node.\n",
    "\n",
    "    This function relies on our file naming conventions.\n",
    "    \"\"\"\n",
    "    parquet_files = list(\n",
    "        filter(lambda x: \"parquet\" in x, sorted(os.listdir(cand_dag_dir)))\n",
    "    )\n",
    "    _LOG.info(\"Tail of files found=%s\", parquet_files[-3:])\n",
    "    file_name = parquet_files[-1]\n",
    "    _LOG.info(\"DAG file selected=%s\", file_name)\n",
    "    dag_parquet_path = os.path.join(cand_dag_dir, file_name)\n",
    "    # _LOG.info(\"DAG parquet path=%s\", dag_parquet_path)\n",
    "    dag_df = pd.read_parquet(dag_parquet_path)\n",
    "    return dag_df"
   ]
  },
  {
   "cell_type": "code",
   "execution_count": null,
   "id": "de2b9785",
   "metadata": {},
   "outputs": [],
   "source": [
    "# TODO(gp): @Grisha\n",
    "# GOAL: We should be able to specify what exactly we want to run (e.g., prod, cand, sim)\n",
    "# because not everything is always available or important (e.g., for cc we don't have candidate,\n",
    "# for equities we don't always have sim).\n",
    "\n",
    "# INV: prod_dag_df -> dag_df[\"prod\"], cand_dag_df -> dag_df[\"cand\"]"
   ]
  },
  {
   "cell_type": "code",
   "execution_count": null,
   "id": "fe76cca6",
   "metadata": {},
   "outputs": [],
   "source": [
    "prod_dag_df = get_latest_output_from_last_dag_node(prod_dag_dir)\n",
    "hpandas.df_to_str(prod_dag_df, num_rows=5, log_level=logging.INFO)"
   ]
  },
  {
   "cell_type": "code",
   "execution_count": null,
   "id": "a600a984",
   "metadata": {},
   "outputs": [],
   "source": [
    "sim_dag_df = get_latest_output_from_last_dag_node(sim_dag_dir)\n",
    "hpandas.df_to_str(sim_dag_df, num_rows=5, log_level=logging.INFO)"
   ]
  },
  {
   "cell_type": "code",
   "execution_count": null,
   "id": "691ee93f",
   "metadata": {},
   "outputs": [],
   "source": [
    "prod_sim_dag_corr = dtfmod.compute_correlations(\n",
    "    prod_dag_df,\n",
    "    sim_dag_df,\n",
    ")"
   ]
  },
  {
   "cell_type": "code",
   "execution_count": null,
   "id": "c522af30",
   "metadata": {},
   "outputs": [],
   "source": [
    "hpandas.df_to_str(\n",
    "    prod_sim_dag_corr.min(),\n",
    "    num_rows=None,\n",
    "    precision=3,\n",
    "    log_level=logging.INFO,\n",
    ")"
   ]
  },
  {
   "cell_type": "code",
   "execution_count": null,
   "id": "39601136",
   "metadata": {},
   "outputs": [],
   "source": [
    "# Make sure they are exactly the same.\n",
    "(prod_dag_df - sim_dag_df).abs().max().max()"
   ]
  },
  {
   "cell_type": "code",
   "execution_count": null,
   "id": "b88c207e",
   "metadata": {},
   "outputs": [],
   "source": []
  },
  {
   "cell_type": "markdown",
   "id": "0f80cec6",
   "metadata": {},
   "source": [
    "# Compute research portfolio equivalent"
   ]
  },
  {
   "cell_type": "code",
   "execution_count": null,
   "id": "6c32ee38",
   "metadata": {},
   "outputs": [],
   "source": [
    "fep = dtfmod.ForecastEvaluatorFromPrices(\n",
    "    **config[\"research_forecast_evaluator_from_prices\"][\"init\"]\n",
    ")"
   ]
  },
  {
   "cell_type": "code",
   "execution_count": null,
   "id": "e0344dd3",
   "metadata": {},
   "outputs": [],
   "source": [
    "research_portfolio_df, research_portfolio_stats_df = fep.annotate_forecasts(\n",
    "    prod_dag_df,\n",
    "    **config[\"research_forecast_evaluator_from_prices\"][\n",
    "        \"annotate_forecasts_kwargs\"\n",
    "    ],\n",
    "    compute_extended_stats=True,\n",
    ")\n",
    "# TODO(gp): Move it to annotate_forecasts?\n",
    "research_portfolio_df = research_portfolio_df.sort_index(axis=1)\n",
    "#\n",
    "hpandas.df_to_str(research_portfolio_stats_df, num_rows=5, log_level=logging.INFO)"
   ]
  },
  {
   "cell_type": "markdown",
   "id": "eb637a33",
   "metadata": {},
   "source": [
    "# Load logged portfolios"
   ]
  },
  {
   "cell_type": "code",
   "execution_count": null,
   "id": "480903dd",
   "metadata": {},
   "outputs": [],
   "source": [
    "portfolio_config_dict = {\n",
    "    \"start_timestamp\": start_timestamp,\n",
    "    \"end_timestamp\": end_timestamp,\n",
    "    \"freq\": config[\"meta\"][\"bar_duration\"],\n",
    "    \"normalize_bar_times\": True,\n",
    "}\n",
    "portfolio_config_dict"
   ]
  },
  {
   "cell_type": "code",
   "execution_count": null,
   "id": "17f0690a",
   "metadata": {},
   "outputs": [],
   "source": [
    "# TODO(gp): @grisha move to library.\n",
    "\n",
    "# Load the 4 portfolios.\n",
    "portfolio_dfs = {}\n",
    "portfolio_stats_dfs = {}\n",
    "for name, path in portfolio_path_dict.items():\n",
    "    _LOG.info(\"Processing portfolio=%s path=%s\", name, path)\n",
    "    portfolio_df, portfolio_stats_df = oms.load_portfolio_artifacts(\n",
    "        path,\n",
    "        **portfolio_config_dict,\n",
    "    )\n",
    "    portfolio_dfs[name] = portfolio_df\n",
    "    portfolio_stats_dfs[name] = portfolio_stats_df\n",
    "portfolio_dfs[\"research\"] = research_portfolio_df.loc[\n",
    "    start_timestamp:end_timestamp\n",
    "]\n",
    "portfolio_stats_dfs[\"research\"] = research_portfolio_stats_df.loc[\n",
    "    start_timestamp:end_timestamp\n",
    "]\n",
    "portfolio_stats_df = pd.concat(portfolio_stats_dfs, axis=1)\n",
    "hpandas.df_to_str(portfolio_stats_df, num_rows=5, log_level=logging.INFO)"
   ]
  },
  {
   "cell_type": "code",
   "execution_count": null,
   "id": "4731ab71",
   "metadata": {},
   "outputs": [],
   "source": [
    "bars_to_burn = 1\n",
    "coplotti.plot_portfolio_stats(portfolio_stats_df.iloc[bars_to_burn:])"
   ]
  },
  {
   "cell_type": "code",
   "execution_count": null,
   "id": "492744c2",
   "metadata": {},
   "outputs": [],
   "source": [
    "stats_computer = dtfmod.StatsComputer()\n",
    "stats_sxs, _ = stats_computer.compute_portfolio_stats(\n",
    "    portfolio_stats_df.iloc[bars_to_burn:], config[\"meta\"][\"bar_duration\"]\n",
    ")\n",
    "display(stats_sxs)"
   ]
  },
  {
   "cell_type": "markdown",
   "id": "3bc263bc",
   "metadata": {},
   "source": [
    "# Compare pairwise portfolio correlations"
   ]
  },
  {
   "cell_type": "code",
   "execution_count": null,
   "id": "ce772d03",
   "metadata": {},
   "outputs": [],
   "source": [
    "adapted_prod_df = oms.adapt_portfolio_object_df_to_forecast_evaluator_df(\n",
    "    portfolio_dfs[\"prod\"]\n",
    ")\n",
    "adapted_cand_df = oms.adapt_portfolio_object_df_to_forecast_evaluator_df(\n",
    "    portfolio_dfs[\"cand\"]\n",
    ")\n",
    "adapted_sim_df = oms.adapt_portfolio_object_df_to_forecast_evaluator_df(\n",
    "    portfolio_dfs[\"sim\"]\n",
    ")"
   ]
  },
  {
   "cell_type": "code",
   "execution_count": null,
   "id": "18e694ed",
   "metadata": {},
   "outputs": [],
   "source": [
    "dtfmod.compute_correlations(\n",
    "    research_portfolio_df,\n",
    "    adapted_prod_df,\n",
    "    allow_unequal_indices=True,\n",
    "    allow_unequal_columns=True,\n",
    ")"
   ]
  },
  {
   "cell_type": "code",
   "execution_count": null,
   "id": "e2f77c3b",
   "metadata": {},
   "outputs": [],
   "source": [
    "dtfmod.compute_correlations(\n",
    "    adapted_prod_df,\n",
    "    adapted_sim_df,\n",
    "    allow_unequal_indices=False,\n",
    "    allow_unequal_columns=False,\n",
    ")"
   ]
  },
  {
   "cell_type": "code",
   "execution_count": null,
   "id": "631a23c2",
   "metadata": {},
   "outputs": [],
   "source": [
    "dtfmod.compute_correlations(\n",
    "    research_portfolio_df,\n",
    "    adapted_sim_df,\n",
    "    allow_unequal_indices=True,\n",
    "    allow_unequal_columns=True,\n",
    ")"
   ]
  },
  {
   "cell_type": "code",
   "execution_count": null,
   "id": "7a98cee2",
   "metadata": {},
   "outputs": [],
   "source": [
    "if config[\"meta\"][\"run_tca\"]:\n",
    "    tca = cofinanc.load_and_normalize_tca_csv(tca_csv)\n",
    "    tca = cofinanc.compute_tca_price_annotations(tca, True)\n",
    "    tca = cofinanc.pivot_and_accumulate_holdings(tca, \"\")"
   ]
  }
 ],
 "metadata": {
  "kernelspec": {
   "display_name": "Python 3 (ipykernel)",
   "language": "python",
   "name": "python3"
  },
  "language_info": {
   "codemirror_mode": {
    "name": "ipython",
    "version": 3
   },
   "file_extension": ".py",
   "mimetype": "text/x-python",
   "name": "python",
   "nbconvert_exporter": "python",
   "pygments_lexer": "ipython3"
  },
  "toc": {
   "base_numbering": 1,
   "nav_menu": {},
   "number_sections": true,
   "sideBar": true,
   "skip_h1_title": false,
   "title_cell": "Table of Contents",
   "title_sidebar": "Contents",
   "toc_cell": false,
   "toc_position": {},
   "toc_section_display": true,
   "toc_window_display": false
  }
 },
 "nbformat": 4,
 "nbformat_minor": 5
}
