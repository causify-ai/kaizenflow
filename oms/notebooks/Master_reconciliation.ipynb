{
 "cells": [
  {
   "cell_type": "code",
   "execution_count": null,
   "id": "cd4dc514",
   "metadata": {},
   "outputs": [],
   "source": [
    "%load_ext autoreload\n",
    "%autoreload 2\n",
    "%matplotlib inline"
   ]
  },
  {
   "cell_type": "code",
   "execution_count": null,
   "id": "582ffb6d",
   "metadata": {},
   "outputs": [],
   "source": [
    "import logging\n",
    "import os\n",
    "\n",
    "import pandas as pd\n",
    "\n",
    "import core.config as cconfig\n",
    "import core.finance as cofinanc\n",
    "import core.plotting as coplotti\n",
    "import dataflow.model as dtfmod\n",
    "import helpers.hdbg as hdbg\n",
    "import helpers.henv as henv\n",
    "import helpers.hpandas as hpandas\n",
    "import helpers.hprint as hprint\n",
    "import oms as oms"
   ]
  },
  {
   "cell_type": "code",
   "execution_count": null,
   "id": "f443668b",
   "metadata": {},
   "outputs": [],
   "source": [
    "hdbg.init_logger(verbosity=logging.INFO)\n",
    "\n",
    "_LOG = logging.getLogger(__name__)\n",
    "\n",
    "_LOG.info(\"%s\", henv.get_system_signature()[0])\n",
    "\n",
    "hprint.config_notebook()"
   ]
  },
  {
   "cell_type": "markdown",
   "id": "447d21da",
   "metadata": {},
   "source": [
    "# Build the reconciliation config"
   ]
  },
  {
   "cell_type": "code",
   "execution_count": null,
   "id": "67ebd2e5",
   "metadata": {},
   "outputs": [],
   "source": [
    "# Get config from env when running the notebook via the `run_notebook.py` script, e.g.,\n",
    "# in the system reconciliation flow.\n",
    "config = cconfig.get_config_from_env()\n",
    "if not config:\n",
    "    # Specify the config directly when running the notebook manually.\n",
    "    dag_builder_name = \"C1b\"\n",
    "    start_timestamp_as_str = None\n",
    "    end_timestamp_as_str = None\n",
    "    mode = None\n",
    "    config_list = oms.build_reconciliation_configs(\n",
    "        dag_builder_name, start_timestamp_as_str, end_timestamp_as_str, mode\n",
    "    )\n",
    "    config = config_list[0]\n",
    "print(config)"
   ]
  },
  {
   "cell_type": "markdown",
   "id": "a77f571d",
   "metadata": {},
   "source": [
    "# Specify data to load"
   ]
  },
  {
   "cell_type": "code",
   "execution_count": null,
   "id": "f1a932a6",
   "metadata": {
    "run_control": {
     "marked": false
    }
   },
   "outputs": [],
   "source": [
    "# The dict points to `system_log_dir` for different experiments.\n",
    "system_log_path_dict = dict(config[\"system_log_path\"].to_dict())"
   ]
  },
  {
   "cell_type": "code",
   "execution_count": null,
   "id": "f0155a17",
   "metadata": {},
   "outputs": [],
   "source": [
    "# This dict points to `system_log_dir/process_forecasts/portfolio` for different experiments.\n",
    "data_type = \"portfolio\"\n",
    "portfolio_path_dict = oms.get_system_log_paths(system_log_path_dict, data_type)\n",
    "portfolio_path_dict"
   ]
  },
  {
   "cell_type": "code",
   "execution_count": null,
   "id": "a8e2d5da",
   "metadata": {},
   "outputs": [],
   "source": [
    "# This dict points to `system_log_dir/dag/node_io/node_io.data` for different experiments.\n",
    "data_type = \"dag\"\n",
    "dag_path_dict = oms.get_system_log_paths(system_log_path_dict, data_type)\n",
    "dag_path_dict"
   ]
  },
  {
   "cell_type": "code",
   "execution_count": null,
   "id": "8b344a51",
   "metadata": {},
   "outputs": [],
   "source": [
    "# TODO(gp): Load the TCA data for crypto.\n",
    "if config[\"meta\"][\"run_tca\"]:\n",
    "    tca_csv = os.path.join(\n",
    "        root_dir, config[\"meta\"][\"date_str\"], \"tca/sau1_tca.csv\"\n",
    "    )\n",
    "    hdbg.dassert_file_exists(tca_csv)"
   ]
  },
  {
   "cell_type": "markdown",
   "id": "3b8e60ca",
   "metadata": {},
   "source": [
    "# Compare configs (prod vs vim)"
   ]
  },
  {
   "cell_type": "code",
   "execution_count": null,
   "id": "3cee4c64",
   "metadata": {},
   "outputs": [],
   "source": [
    "configs = oms.load_config_from_pickle(system_log_path_dict)\n",
    "# Diff configs.\n",
    "# TODO(Grisha): the output is only on subconfig level, we should\n",
    "# compare value vs value instead.\n",
    "diff_config = cconfig.build_config_diff_dataframe(\n",
    "    {\n",
    "        \"prod_config\": configs[\"prod\"],\n",
    "        \"sim_config\": configs[\"sim\"],\n",
    "    }\n",
    ")\n",
    "diff_config.T"
   ]
  },
  {
   "cell_type": "markdown",
   "id": "0f370c59",
   "metadata": {},
   "source": [
    "# DAG io"
   ]
  },
  {
   "cell_type": "markdown",
   "id": "7f37d03d",
   "metadata": {},
   "source": [
    "## Compare DAG io (prod vs sim)"
   ]
  },
  {
   "cell_type": "code",
   "execution_count": null,
   "id": "44acc4ee",
   "metadata": {},
   "outputs": [],
   "source": [
    "# Get DAG node names.\n",
    "dag_node_names = oms.get_dag_node_names(dag_path_dict[\"prod\"])\n",
    "_LOG.info(\n",
    "    \"The 1st node=%s, the last node=%s\", dag_node_names[0], dag_node_names[-1]\n",
    ")"
   ]
  },
  {
   "cell_type": "code",
   "execution_count": null,
   "id": "ad339000",
   "metadata": {},
   "outputs": [],
   "source": [
    "# Get timestamps for the last DAG node.\n",
    "dag_node_timestamps = oms.get_dag_node_timestamps(\n",
    "    dag_path_dict[\"prod\"], dag_node_names[-1], as_timestamp=True\n",
    ")\n",
    "_LOG.info(\n",
    "    \"The 1st timestamp=%s, the last timestamp=%s\",\n",
    "    dag_node_timestamps[0][0],\n",
    "    dag_node_timestamps[-1][0],\n",
    ")"
   ]
  },
  {
   "cell_type": "code",
   "execution_count": null,
   "id": "a7c44771",
   "metadata": {},
   "outputs": [],
   "source": [
    "# Load DAG output for different experiments.\n",
    "dag_start_timestamp = None\n",
    "dag_end_timestamp = None\n",
    "dag_df_dict = oms.load_dag_outputs(\n",
    "    dag_path_dict,\n",
    "    # TODO(Grisha): maybe load just the last node and timestamp otherwise\n",
    "    # it takes 2 minutes to load the data.\n",
    "    only_last_node=False,\n",
    "    only_last_timestamp=False,\n",
    ")\n",
    "# Get DAG output for the last node and the last timestamp.\n",
    "# TODO(Grisha): use 2 dicts -- one for the last node, last timestamp,\n",
    "# the other one for all nodes, all timestamps for comparison.\n",
    "dag_df_prod = dag_df_dict[\"prod\"][dag_node_names[-1]][dag_node_timestamps[-1][0]]\n",
    "dag_df_sim = dag_df_dict[\"sim\"][dag_node_names[-1]][dag_node_timestamps[-1][0]]\n",
    "hpandas.df_to_str(dag_df_prod, num_rows=5, log_level=logging.INFO)"
   ]
  },
  {
   "cell_type": "code",
   "execution_count": null,
   "id": "9fe1c8ff",
   "metadata": {},
   "outputs": [],
   "source": [
    "compare_dfs_kwargs = {\n",
    "    \"diff_mode\": \"pct_change\",\n",
    "    \"assert_diff_threshold\": None,\n",
    "}\n",
    "dag_diff_df = oms.compute_dag_outputs_diff(dag_df_dict, compare_dfs_kwargs)"
   ]
  },
  {
   "cell_type": "code",
   "execution_count": null,
   "id": "90977e1b",
   "metadata": {},
   "outputs": [],
   "source": [
    "max_diff = dag_diff_df.abs().max().max()\n",
    "_LOG.info(\"Maximum absolute difference for DAG output=%s\", max_diff)"
   ]
  },
  {
   "cell_type": "code",
   "execution_count": null,
   "id": "218f60fb",
   "metadata": {},
   "outputs": [],
   "source": [
    "if False:\n",
    "    dag_diff_detailed_stats = oms.compute_dag_output_diff_detailed_stats(\n",
    "        dag_diff_df\n",
    "    )"
   ]
  },
  {
   "cell_type": "code",
   "execution_count": null,
   "id": "646d52fd",
   "metadata": {},
   "outputs": [],
   "source": [
    "if False:\n",
    "    # Compute correlations.\n",
    "    prod_sim_dag_corr = dtfmod.compute_correlations(\n",
    "        dag_df_prod,\n",
    "        dag_df_sim,\n",
    "    )\n",
    "    hpandas.df_to_str(\n",
    "        prod_sim_dag_corr.min(),\n",
    "        num_rows=None,\n",
    "        precision=3,\n",
    "        log_level=logging.INFO,\n",
    "    )"
   ]
  },
  {
   "cell_type": "markdown",
   "id": "de8dbaea",
   "metadata": {},
   "source": [
    "## Check DAG io self-consistency"
   ]
  },
  {
   "cell_type": "code",
   "execution_count": null,
   "id": "84da697f",
   "metadata": {},
   "outputs": [],
   "source": [
    "# Check that all the DAG output dataframes are equal at intersecting time intervals.\n",
    "node_dfs = dag_df_dict[\"prod\"][dag_node_names[-1]]\n",
    "oms.check_dag_output_self_consistency(node_dfs)"
   ]
  },
  {
   "cell_type": "markdown",
   "id": "6b698874",
   "metadata": {},
   "source": [
    "## Compute DAG delay"
   ]
  },
  {
   "cell_type": "code",
   "execution_count": null,
   "id": "cdefcbb7",
   "metadata": {},
   "outputs": [],
   "source": [
    "delay_in_secs = oms.compute_dag_delay_in_seconds(\n",
    "    dag_node_timestamps, display_plot=False\n",
    ")"
   ]
  },
  {
   "cell_type": "markdown",
   "id": "d2dcf4a8",
   "metadata": {},
   "source": [
    "# Portfolio"
   ]
  },
  {
   "cell_type": "markdown",
   "id": "44fcaefe",
   "metadata": {},
   "source": [
    "## Compute research portfolio equivalent"
   ]
  },
  {
   "cell_type": "code",
   "execution_count": null,
   "id": "57456e75",
   "metadata": {},
   "outputs": [],
   "source": [
    "# Set Portofolio start and end timestamps.\n",
    "if True:\n",
    "    # By default use the min/max bar timestamps from the DAG.\n",
    "    start_timestamp = dag_node_timestamps[0][0]\n",
    "    end_timestamp = dag_node_timestamps[-1][0]\n",
    "else:\n",
    "    # Overwrite if needed.\n",
    "    start_timestamp = pd.Timestamp(\n",
    "        \"2022-11-03 06:05:00-04:00\", tz=\"America/New_York\"\n",
    "    )\n",
    "    end_timestamp = pd.Timestamp(\n",
    "        \"2022-11-03 08:00:00-04:00\", tz=\"America/New_York\"\n",
    "    )\n",
    "_LOG.info(\"start_timestamp=%s\", start_timestamp)\n",
    "_LOG.info(\"end_timestamp=%s\", end_timestamp)"
   ]
  },
  {
   "cell_type": "code",
   "execution_count": null,
   "id": "a6792d6d",
   "metadata": {},
   "outputs": [],
   "source": [
    "fep = dtfmod.ForecastEvaluatorFromPrices(\n",
    "    **config[\"research_forecast_evaluator_from_prices\"][\"init\"]\n",
    ")\n",
    "annotate_forecasts_kwargs = config[\"research_forecast_evaluator_from_prices\"][\n",
    "    \"annotate_forecasts_kwargs\"\n",
    "].to_dict()\n",
    "research_portfolio_df, research_portfolio_stats_df = fep.annotate_forecasts(\n",
    "    dag_df_prod,\n",
    "    **annotate_forecasts_kwargs,\n",
    "    compute_extended_stats=True,\n",
    ")\n",
    "# TODO(gp): Move it to annotate_forecasts?\n",
    "research_portfolio_df = research_portfolio_df.sort_index(axis=1)\n",
    "# Align index with prod and sim portfolios.\n",
    "research_portfolio_df = research_portfolio_df.loc[start_timestamp:end_timestamp]\n",
    "research_portfolio_stats_df = research_portfolio_stats_df.loc[\n",
    "    start_timestamp:end_timestamp\n",
    "]\n",
    "#\n",
    "hpandas.df_to_str(research_portfolio_stats_df, num_rows=5, log_level=logging.INFO)"
   ]
  },
  {
   "cell_type": "markdown",
   "id": "d3ba6b6c",
   "metadata": {},
   "source": [
    "## Load logged portfolios (prod & sim)"
   ]
  },
  {
   "cell_type": "code",
   "execution_count": null,
   "id": "4f49efab",
   "metadata": {},
   "outputs": [],
   "source": [
    "portfolio_config = cconfig.Config.from_dict(\n",
    "    {\n",
    "        \"start_timestamp\": start_timestamp,\n",
    "        \"end_timestamp\": end_timestamp,\n",
    "        \"freq\": config[\"meta\"][\"bar_duration\"],\n",
    "        \"normalize_bar_times\": True,\n",
    "    }\n",
    ")\n",
    "portfolio_config"
   ]
  },
  {
   "cell_type": "code",
   "execution_count": null,
   "id": "392bc083",
   "metadata": {},
   "outputs": [],
   "source": [
    "portfolio_dfs, portfolio_stats_dfs = oms.load_portfolio_dfs(\n",
    "    portfolio_path_dict,\n",
    "    portfolio_config,\n",
    ")\n",
    "# Add research portfolio.\n",
    "portfolio_dfs[\"research\"] = research_portfolio_df\n",
    "hpandas.df_to_str(portfolio_dfs[\"prod\"], num_rows=5, log_level=logging.INFO)"
   ]
  },
  {
   "cell_type": "code",
   "execution_count": null,
   "id": "67fa369b",
   "metadata": {},
   "outputs": [],
   "source": [
    "# Add research df and combine into a single df.\n",
    "portfolio_stats_dfs[\"research\"] = research_portfolio_stats_df\n",
    "portfolio_stats_df = pd.concat(portfolio_stats_dfs, axis=1)\n",
    "#\n",
    "hpandas.df_to_str(portfolio_stats_df, num_rows=5, log_level=logging.INFO)"
   ]
  },
  {
   "cell_type": "markdown",
   "id": "d94bdbe9",
   "metadata": {},
   "source": [
    "## Compute Portfolio statistics (prod vs research vs sim)"
   ]
  },
  {
   "cell_type": "code",
   "execution_count": null,
   "id": "8f9fe22c",
   "metadata": {},
   "outputs": [],
   "source": [
    "bars_to_burn = 1\n",
    "coplotti.plot_portfolio_stats(portfolio_stats_df.iloc[bars_to_burn:])"
   ]
  },
  {
   "cell_type": "code",
   "execution_count": null,
   "id": "8d3425d0",
   "metadata": {},
   "outputs": [],
   "source": [
    "stats_computer = dtfmod.StatsComputer()\n",
    "stats_sxs, _ = stats_computer.compute_portfolio_stats(\n",
    "    portfolio_stats_df.iloc[bars_to_burn:], config[\"meta\"][\"bar_duration\"]\n",
    ")\n",
    "display(stats_sxs)"
   ]
  },
  {
   "cell_type": "markdown",
   "id": "a1ae4b22",
   "metadata": {},
   "source": [
    "## Compare portfolios pairwise (prod vs research vs sim)"
   ]
  },
  {
   "cell_type": "markdown",
   "id": "f3deb90b",
   "metadata": {},
   "source": [
    "### Differences"
   ]
  },
  {
   "cell_type": "markdown",
   "id": "e85f55b8",
   "metadata": {},
   "source": [
    "#### Prod vs sim"
   ]
  },
  {
   "cell_type": "code",
   "execution_count": null,
   "id": "d9f384a5",
   "metadata": {},
   "outputs": [],
   "source": [
    "report_stats = False\n",
    "display_plot = False\n",
    "compare_dfs_kwargs = {\n",
    "    \"column_mode\": \"inner\",\n",
    "    \"diff_mode\": \"pct_change\",\n",
    "    \"remove_inf\": True,\n",
    "    \"assert_diff_threshold\": None,\n",
    "}\n",
    "portfolio_diff_df = oms.compare_portfolios(\n",
    "    portfolio_dfs,\n",
    "    report_stats=report_stats,\n",
    "    display_plot=display_plot,\n",
    "    compare_dfs_kwargs=compare_dfs_kwargs,\n",
    ")\n",
    "hpandas.df_to_str(portfolio_diff_df, num_rows=None, log_level=logging.INFO)"
   ]
  },
  {
   "cell_type": "markdown",
   "id": "8d615ac5",
   "metadata": {},
   "source": [
    "### Correlations"
   ]
  },
  {
   "cell_type": "markdown",
   "id": "2a7c356d",
   "metadata": {},
   "source": [
    "#### Prod vs sim"
   ]
  },
  {
   "cell_type": "code",
   "execution_count": null,
   "id": "1fcbbc9a",
   "metadata": {},
   "outputs": [],
   "source": [
    "if False:\n",
    "    dtfmod.compute_correlations(\n",
    "        portfolio_dfs[\"prod\"],\n",
    "        portfolio_dfs[\"sim\"],\n",
    "        allow_unequal_indices=False,\n",
    "        allow_unequal_columns=False,\n",
    "    )"
   ]
  },
  {
   "cell_type": "markdown",
   "id": "82d39a69",
   "metadata": {},
   "source": [
    "#### Prod vs research"
   ]
  },
  {
   "cell_type": "code",
   "execution_count": null,
   "id": "c2f2ceb6",
   "metadata": {},
   "outputs": [],
   "source": [
    "if False:\n",
    "    dtfmod.compute_correlations(\n",
    "        research_portfolio_df,\n",
    "        portfolio_dfs[\"prod\"],\n",
    "        allow_unequal_indices=True,\n",
    "        allow_unequal_columns=True,\n",
    "    )"
   ]
  },
  {
   "cell_type": "markdown",
   "id": "76a90466",
   "metadata": {},
   "source": [
    "#### Sim vs research"
   ]
  },
  {
   "cell_type": "code",
   "execution_count": null,
   "id": "d6cec0e1",
   "metadata": {},
   "outputs": [],
   "source": [
    "if False:\n",
    "    dtfmod.compute_correlations(\n",
    "        research_portfolio_df,\n",
    "        portfolio_dfs[\"sim\"],\n",
    "        allow_unequal_indices=True,\n",
    "        allow_unequal_columns=True,\n",
    "    )"
   ]
  },
  {
   "cell_type": "markdown",
   "id": "4392ede9",
   "metadata": {},
   "source": [
    "# Target positions"
   ]
  },
  {
   "cell_type": "markdown",
   "id": "38fb45c0",
   "metadata": {},
   "source": [
    "## Load target positions (prod)"
   ]
  },
  {
   "cell_type": "code",
   "execution_count": null,
   "id": "3aeb11ad",
   "metadata": {},
   "outputs": [],
   "source": [
    "prod_target_position_df = oms.load_target_positions(\n",
    "    portfolio_path_dict[\"prod\"].strip(\"portfolio\"),\n",
    "    start_timestamp,\n",
    "    end_timestamp,\n",
    "    config[\"meta\"][\"bar_duration\"],\n",
    "    normalize_bar_times=True,\n",
    ")\n",
    "hpandas.df_to_str(prod_target_position_df, num_rows=5, log_level=logging.INFO)\n",
    "if False:\n",
    "    # TODO(Grisha): compare prod vs sim at some point.\n",
    "    sim_target_position_df = oms.load_target_positions(\n",
    "        portfolio_path_dict[\"sim\"].strip(\"portfolio\"),\n",
    "        start_timestamp,\n",
    "        end_timestamp,\n",
    "        config[\"meta\"][\"bar_duration\"],\n",
    "        normalize_bar_times=True,\n",
    "    )"
   ]
  },
  {
   "cell_type": "markdown",
   "id": "ad275c62",
   "metadata": {},
   "source": [
    "## Compare positions target vs executed (prod)"
   ]
  },
  {
   "cell_type": "code",
   "execution_count": null,
   "id": "a1807595",
   "metadata": {},
   "outputs": [],
   "source": [
    "# TODO(Grisha): use `hpandas.compare_dfs()`.\n",
    "df1 = prod_target_position_df[\"target_holdings_shares\"].shift(1)\n",
    "df2 = prod_target_position_df[\"holdings_shares\"]\n",
    "diff = df1 - df2\n",
    "hpandas.df_to_str(diff, num_rows=5, log_level=logging.INFO)"
   ]
  },
  {
   "cell_type": "markdown",
   "id": "4daa8386",
   "metadata": {},
   "source": [
    "## Compare target positions (prod vs research)"
   ]
  },
  {
   "cell_type": "markdown",
   "id": "fd2bf3b0",
   "metadata": {},
   "source": [
    "### Price"
   ]
  },
  {
   "cell_type": "code",
   "execution_count": null,
   "id": "dc3707f7",
   "metadata": {
    "run_control": {
     "marked": true
    }
   },
   "outputs": [],
   "source": [
    "# TODO(Grisha): wrap in a function since it's common for all columns.\n",
    "column = \"price\"\n",
    "prod_df = prod_target_position_df[column]\n",
    "res_df = research_portfolio_df[column]\n",
    "\n",
    "# Compute percentage difference.\n",
    "diff_df = hpandas.compare_dfs(\n",
    "    prod_df,\n",
    "    res_df,\n",
    "    diff_mode=\"pct_change\",\n",
    ")\n",
    "# Remove the sign and NaNs.\n",
    "diff_df = diff_df.abs()\n",
    "# Check that data is the same.\n",
    "print(diff_df.max().max())\n",
    "if False:\n",
    "    hpandas.heatmap_df(diff_df.round(2))"
   ]
  },
  {
   "cell_type": "markdown",
   "id": "6b6b1b3a",
   "metadata": {},
   "source": [
    "### Volatility"
   ]
  },
  {
   "cell_type": "code",
   "execution_count": null,
   "id": "ce7f5527",
   "metadata": {},
   "outputs": [],
   "source": [
    "column = \"volatility\"\n",
    "prod_df = prod_target_position_df[column]\n",
    "res_df = research_portfolio_df[column]\n",
    "\n",
    "# Compute percentage difference.\n",
    "diff_df = hpandas.compare_dfs(\n",
    "    prod_df,\n",
    "    res_df,\n",
    "    diff_mode=\"pct_change\",\n",
    ")\n",
    "# Remove the sign and NaNs.\n",
    "diff_df = diff_df.abs()\n",
    "# Check that data is the same.\n",
    "print(diff_df.max().max())\n",
    "if False:\n",
    "    hpandas.heatmap_df(diff_df.round(2))"
   ]
  },
  {
   "cell_type": "markdown",
   "id": "d7221243",
   "metadata": {},
   "source": [
    "### Prediction"
   ]
  },
  {
   "cell_type": "code",
   "execution_count": null,
   "id": "83f8ecbe",
   "metadata": {},
   "outputs": [],
   "source": [
    "column = \"prediction\"\n",
    "prod_df = prod_target_position_df[column]\n",
    "res_df = research_portfolio_df[column]\n",
    "\n",
    "# Compute percentage difference.\n",
    "diff_df = hpandas.compare_dfs(\n",
    "    prod_df,\n",
    "    res_df,\n",
    "    diff_mode=\"pct_change\",\n",
    ")\n",
    "# Remove the sign and NaNs.\n",
    "diff_df = diff_df.abs()\n",
    "# Check that data is the same.\n",
    "print(diff_df.max().max())\n",
    "if False:\n",
    "    hpandas.heatmap_df(diff_df.round(2))"
   ]
  },
  {
   "cell_type": "markdown",
   "id": "32bb7050",
   "metadata": {},
   "source": [
    "### Current holdings"
   ]
  },
  {
   "cell_type": "code",
   "execution_count": null,
   "id": "b9b3076f",
   "metadata": {},
   "outputs": [],
   "source": [
    "column = \"holdings_shares\"\n",
    "prod_df = prod_target_position_df[column]\n",
    "res_df = research_portfolio_df[column]\n",
    "\n",
    "# Compute percentage difference.\n",
    "diff_df = hpandas.compare_dfs(\n",
    "    prod_df,\n",
    "    res_df,\n",
    "    diff_mode=\"pct_change\",\n",
    "    assert_diff_threshold=None,\n",
    ")\n",
    "# Remove the sign and NaNs.\n",
    "diff_df = diff_df.abs()\n",
    "# Check that data is the same.\n",
    "print(diff_df.max().max())\n",
    "if False:\n",
    "    hpandas.heatmap_df(diff_df.round(2))"
   ]
  },
  {
   "cell_type": "markdown",
   "id": "3abdf36e",
   "metadata": {},
   "source": [
    "### Target holdings"
   ]
  },
  {
   "cell_type": "code",
   "execution_count": null,
   "id": "d1d1c277",
   "metadata": {},
   "outputs": [],
   "source": [
    "prod_df = prod_target_position_df[\"target_holdings_shares\"].shift(1)\n",
    "res_df = research_portfolio_df[\"holdings_shares\"]\n",
    "\n",
    "# Compute percentage difference.\n",
    "diff_df = hpandas.compare_dfs(\n",
    "    prod_df,\n",
    "    res_df,\n",
    "    diff_mode=\"pct_change\",\n",
    "    assert_diff_threshold=None,\n",
    ")\n",
    "# Remove the sign and NaNs.\n",
    "diff_df = diff_df.abs()\n",
    "# Check that data is the same.\n",
    "print(diff_df.max().max())\n",
    "if False:\n",
    "    hpandas.heatmap_df(diff_df.round(2))"
   ]
  },
  {
   "cell_type": "markdown",
   "id": "68e2b7b1",
   "metadata": {},
   "source": [
    "# Orders"
   ]
  },
  {
   "cell_type": "markdown",
   "id": "0a494b76",
   "metadata": {},
   "source": [
    "## Load orders (prod & sim)"
   ]
  },
  {
   "cell_type": "code",
   "execution_count": null,
   "id": "b74d0fde",
   "metadata": {},
   "outputs": [],
   "source": [
    "prod_order_df = oms.TargetPositionAndOrderGenerator.load_orders(\n",
    "    portfolio_path_dict[\"prod\"].strip(\"portfolio\"),\n",
    ")\n",
    "hpandas.df_to_str(prod_order_df, num_rows=5, log_level=logging.INFO)\n",
    "sim_order_df = oms.TargetPositionAndOrderGenerator.load_orders(\n",
    "    portfolio_path_dict[\"sim\"].strip(\"portfolio\"),\n",
    ")\n",
    "hpandas.df_to_str(sim_order_df, num_rows=5, log_level=logging.INFO)"
   ]
  },
  {
   "cell_type": "markdown",
   "id": "6a3d926d",
   "metadata": {},
   "source": [
    "## Compare orders (prod vs sim)"
   ]
  },
  {
   "cell_type": "code",
   "execution_count": null,
   "id": "d143ba91",
   "metadata": {},
   "outputs": [],
   "source": [
    "# TODO(Grisha): add comparison using the usual `pct_change` approach."
   ]
  },
  {
   "cell_type": "markdown",
   "id": "deafd3af",
   "metadata": {},
   "source": [
    "# Fills statistics"
   ]
  },
  {
   "cell_type": "code",
   "execution_count": null,
   "id": "de63d428",
   "metadata": {},
   "outputs": [],
   "source": [
    "fills = oms.compute_fill_stats(prod_target_position_df)\n",
    "hpandas.df_to_str(fills, num_rows=5, log_level=logging.INFO)\n",
    "fills[\"fill_rate\"].plot()"
   ]
  },
  {
   "cell_type": "markdown",
   "id": "9df30cc5",
   "metadata": {},
   "source": [
    "# Slippage"
   ]
  },
  {
   "cell_type": "code",
   "execution_count": null,
   "id": "8b5135b6",
   "metadata": {},
   "outputs": [],
   "source": [
    "slippage = oms.compute_share_prices_and_slippage(portfolio_dfs[\"prod\"])\n",
    "hpandas.df_to_str(slippage, num_rows=5, log_level=logging.INFO)\n",
    "slippage[\"slippage_in_bps\"].plot()"
   ]
  },
  {
   "cell_type": "code",
   "execution_count": null,
   "id": "9be0ec4c",
   "metadata": {},
   "outputs": [],
   "source": [
    "stacked = slippage[[\"slippage_in_bps\", \"is_benchmark_profitable\"]].stack()\n",
    "stacked[stacked[\"is_benchmark_profitable\"] > 0][\"slippage_in_bps\"].hist(bins=31)\n",
    "stacked[stacked[\"is_benchmark_profitable\"] < 0][\"slippage_in_bps\"].hist(bins=31)"
   ]
  },
  {
   "cell_type": "markdown",
   "id": "4e6510c0",
   "metadata": {},
   "source": [
    "# Total cost accounting"
   ]
  },
  {
   "cell_type": "code",
   "execution_count": null,
   "id": "5e0611eb",
   "metadata": {},
   "outputs": [],
   "source": [
    "notional_costs = oms.compute_notional_costs(\n",
    "    portfolio_dfs[\"prod\"],\n",
    "    prod_target_position_df,\n",
    ")\n",
    "hpandas.df_to_str(notional_costs, num_rows=5, log_level=logging.INFO)"
   ]
  },
  {
   "cell_type": "code",
   "execution_count": null,
   "id": "9f6a5a05",
   "metadata": {},
   "outputs": [],
   "source": [
    "cost_df = oms.apply_costs_to_baseline(\n",
    "    portfolio_stats_dfs[\"research\"],\n",
    "    portfolio_stats_dfs[\"prod\"],\n",
    "    portfolio_dfs[\"prod\"],\n",
    "    prod_target_position_df,\n",
    ")\n",
    "hpandas.df_to_str(cost_df, num_rows=5, log_level=logging.INFO)"
   ]
  },
  {
   "cell_type": "code",
   "execution_count": null,
   "id": "779e27c7",
   "metadata": {},
   "outputs": [],
   "source": [
    "cost_df[[\"pnl\", \"baseline_pnl_minus_costs\", \"baseline_pnl\"]].plot()\n",
    "cost_df[[\"pnl\", \"baseline_pnl_minus_costs\"]].plot()"
   ]
  },
  {
   "cell_type": "markdown",
   "id": "036efab1",
   "metadata": {},
   "source": [
    "# TCA"
   ]
  },
  {
   "cell_type": "code",
   "execution_count": null,
   "id": "2400afda",
   "metadata": {},
   "outputs": [],
   "source": [
    "if config[\"meta\"][\"run_tca\"]:\n",
    "    tca = cofinanc.load_and_normalize_tca_csv(tca_csv)\n",
    "    tca = cofinanc.compute_tca_price_annotations(tca, True)\n",
    "    tca = cofinanc.pivot_and_accumulate_holdings(tca, \"\")"
   ]
  }
 ],
 "metadata": {
  "kernelspec": {
   "display_name": "Python 3 (ipykernel)",
   "language": "python",
   "name": "python3"
  },
  "language_info": {
   "codemirror_mode": {
    "name": "ipython",
    "version": 3
   },
   "file_extension": ".py",
   "mimetype": "text/x-python",
   "name": "python",
   "nbconvert_exporter": "python",
   "pygments_lexer": "ipython3"
  },
  "toc": {
   "base_numbering": 1,
   "nav_menu": {},
   "number_sections": true,
   "sideBar": true,
   "skip_h1_title": false,
   "title_cell": "Table of Contents",
   "title_sidebar": "Contents",
   "toc_cell": false,
   "toc_position": {},
   "toc_section_display": true,
   "toc_window_display": false
  }
 },
 "nbformat": 4,
 "nbformat_minor": 5
}
