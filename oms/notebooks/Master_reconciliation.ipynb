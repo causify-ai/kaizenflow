{
 "cells": [
  {
   "cell_type": "code",
   "execution_count": null,
   "id": "cd4dc514",
   "metadata": {},
   "outputs": [],
   "source": [
    "%load_ext autoreload\n",
    "%autoreload 2\n",
    "%matplotlib inline"
   ]
  },
  {
   "cell_type": "code",
   "execution_count": null,
   "id": "582ffb6d",
   "metadata": {},
   "outputs": [],
   "source": [
    "import logging\n",
    "import os\n",
    "\n",
    "import matplotlib.pyplot as plt\n",
    "import pandas as pd\n",
    "\n",
    "import core.config as cconfig\n",
    "import core.finance as cofinanc\n",
    "import core.plotting as coplotti\n",
    "import dataflow.model as dtfmod\n",
    "import helpers.hdbg as hdbg\n",
    "import helpers.henv as henv\n",
    "import helpers.hpandas as hpandas\n",
    "import helpers.hprint as hprint\n",
    "import oms as oms"
   ]
  },
  {
   "cell_type": "code",
   "execution_count": null,
   "id": "f443668b",
   "metadata": {},
   "outputs": [],
   "source": [
    "hdbg.init_logger(verbosity=logging.INFO)\n",
    "\n",
    "_LOG = logging.getLogger(__name__)\n",
    "\n",
    "_LOG.info(\"%s\", henv.get_system_signature()[0])\n",
    "\n",
    "hprint.config_notebook()"
   ]
  },
  {
   "cell_type": "markdown",
   "id": "447d21da",
   "metadata": {},
   "source": [
    "# Build the reconciliation config"
   ]
  },
  {
   "cell_type": "code",
   "execution_count": null,
   "id": "67ebd2e5",
   "metadata": {},
   "outputs": [],
   "source": [
    "date_str = None\n",
    "prod_subdir = None\n",
    "config_list = oms.build_reconciliation_configs(date_str, prod_subdir)\n",
    "config = config_list[0]\n",
    "print(config)"
   ]
  },
  {
   "cell_type": "markdown",
   "id": "a77f571d",
   "metadata": {},
   "source": [
    "# Specify data to load"
   ]
  },
  {
   "cell_type": "code",
   "execution_count": null,
   "id": "f1a932a6",
   "metadata": {},
   "outputs": [],
   "source": [
    "# The dict points to `system_log_dir` for different experiments.\n",
    "system_log_path_dict = dict(config[\"system_log_path\"].to_dict())"
   ]
  },
  {
   "cell_type": "code",
   "execution_count": null,
   "id": "fc5f7ef3",
   "metadata": {},
   "outputs": [],
   "source": [
    "configs = oms.load_config_from_pickle(system_log_path_dict)\n",
    "# Diff configs.\n",
    "diff_config = cconfig.build_config_diff_dataframe(\n",
    "    {\n",
    "        \"prod_config\": configs[\"prod\"],\n",
    "        \"sim_config\": configs[\"sim\"],\n",
    "    }\n",
    ")\n",
    "diff_config"
   ]
  },
  {
   "cell_type": "code",
   "execution_count": null,
   "id": "f0155a17",
   "metadata": {},
   "outputs": [],
   "source": [
    "# This dict points to `system_log_dir/process_forecasts/portfolio` for different experiments.\n",
    "data_type = \"portfolio\"\n",
    "portfolio_path_dict = oms.get_system_log_paths(system_log_path_dict, data_type)\n",
    "portfolio_path_dict"
   ]
  },
  {
   "cell_type": "code",
   "execution_count": null,
   "id": "a8e2d5da",
   "metadata": {},
   "outputs": [],
   "source": [
    "# This dict points to `system_log_dir/dag/node_io/node_io.data` for different experiments.\n",
    "data_type = \"dag\"\n",
    "dag_path_dict = oms.get_system_log_paths(system_log_path_dict, data_type)\n",
    "dag_path_dict"
   ]
  },
  {
   "cell_type": "code",
   "execution_count": null,
   "id": "8b344a51",
   "metadata": {},
   "outputs": [],
   "source": [
    "# TODO(gp): Load the TCA data for crypto.\n",
    "if config[\"meta\"][\"run_tca\"]:\n",
    "    tca_csv = os.path.join(root_dir, date_str, \"tca/sau1_tca.csv\")\n",
    "    hdbg.dassert_file_exists(tca_csv)"
   ]
  },
  {
   "cell_type": "markdown",
   "id": "3b8e60ca",
   "metadata": {},
   "source": [
    "# Compare DAG io"
   ]
  },
  {
   "cell_type": "code",
   "execution_count": null,
   "id": "44acc4ee",
   "metadata": {},
   "outputs": [],
   "source": [
    "# Get DAG node names.\n",
    "dag_node_names = oms.get_dag_node_names(dag_path_dict[\"prod\"])\n",
    "_LOG.info(\n",
    "    \"The 1st node=%s, the last node=%s\", dag_node_names[0], dag_node_names[-1]\n",
    ")"
   ]
  },
  {
   "cell_type": "code",
   "execution_count": null,
   "id": "ad339000",
   "metadata": {},
   "outputs": [],
   "source": [
    "# Get timestamps for the last DAG node.\n",
    "dag_node_timestamps = oms.get_dag_node_timestamps(\n",
    "    dag_path_dict[\"prod\"], dag_node_names[-1], as_timestamp=True\n",
    ")\n",
    "_LOG.info(\n",
    "    \"The 1st timestamp=%s, the last timestamp=%s\",\n",
    "    dag_node_timestamps[0][0],\n",
    "    dag_node_timestamps[-1][0],\n",
    ")"
   ]
  },
  {
   "cell_type": "code",
   "execution_count": null,
   "id": "a7c44771",
   "metadata": {},
   "outputs": [],
   "source": [
    "# Load DAG output for different experiments.\n",
    "dag_start_timestamp = None\n",
    "dag_end_timestamp = None\n",
    "dag_df_dict = oms.load_dag_outputs(\n",
    "    dag_path_dict,\n",
    "    only_last_node=False,\n",
    "    only_last_timestamp=False,\n",
    ")\n",
    "# Get DAG output for the last node and the last timestamp.\n",
    "# TODO(Grisha): use 2 dicts -- one for the last node, last timestamp,\n",
    "# the other one for all nodes, all timestamps for comparison.\n",
    "dag_df_prod = dag_df_dict[\"prod\"][dag_node_names[-1]][dag_node_timestamps[-1][0]]\n",
    "dag_df_sim = dag_df_dict[\"sim\"][dag_node_names[-1]][dag_node_timestamps[-1][0]]\n",
    "hpandas.df_to_str(dag_df_prod, num_rows=5, log_level=logging.INFO)"
   ]
  },
  {
   "cell_type": "code",
   "execution_count": null,
   "id": "9fe1c8ff",
   "metadata": {},
   "outputs": [],
   "source": [
    "compare_dfs_kwargs ={\n",
    "    \"diff_mode\": \"pct_change\",\n",
    "    \"assert_diff_threshold\": None,\n",
    "}\n",
    "dag_diff_df = oms.compute_dag_outputs_diff(\n",
    "    dag_df_dict, compare_dfs_kwargs\n",
    ")"
   ]
  },
  {
   "cell_type": "code",
   "execution_count": null,
   "id": "90977e1b",
   "metadata": {},
   "outputs": [],
   "source": [
    "max_diff = dag_diff_df.abs().max().max()\n",
    "_LOG.info(\"Maximum absolute difference for DAG output=%s\", max_diff)"
   ]
  },
  {
   "cell_type": "code",
   "execution_count": null,
   "id": "218f60fb",
   "metadata": {},
   "outputs": [],
   "source": [
    "if False:\n",
    "    dag_diff_detailed_stats = oms.compute_dag_output_diff_detailed_stats(\n",
    "        dag_diff_df\n",
    "    )"
   ]
  },
  {
   "cell_type": "code",
   "execution_count": null,
   "id": "646d52fd",
   "metadata": {},
   "outputs": [],
   "source": [
    "# Compute correlations.\n",
    "prod_sim_dag_corr = dtfmod.compute_correlations(\n",
    "    dag_df_prod,\n",
    "    dag_df_sim,\n",
    ")\n",
    "hpandas.df_to_str(\n",
    "    prod_sim_dag_corr.min(),\n",
    "    num_rows=None,\n",
    "    precision=3,\n",
    "    log_level=logging.INFO,\n",
    ")"
   ]
  },
  {
   "cell_type": "markdown",
   "id": "6b698874",
   "metadata": {},
   "source": [
    "# Compute DAG delay"
   ]
  },
  {
   "cell_type": "code",
   "execution_count": null,
   "id": "cdefcbb7",
   "metadata": {},
   "outputs": [],
   "source": [
    "delay_in_secs = oms.compute_dag_delay_in_seconds(dag_node_timestamps)"
   ]
  },
  {
   "cell_type": "markdown",
   "id": "d2dcf4a8",
   "metadata": {},
   "source": [
    "# Compute research portfolio equivalent"
   ]
  },
  {
   "cell_type": "code",
   "execution_count": null,
   "id": "57456e75",
   "metadata": {},
   "outputs": [],
   "source": [
    "# Set Portofolio start and end timestamps.\n",
    "if True:\n",
    "    # By default use the min/max bar timestamps from the DAG.\n",
    "    start_timestamp = dag_node_timestamps[0][0]\n",
    "    end_timestamp = dag_node_timestamps[-1][0]\n",
    "else:\n",
    "    # Overwrite if needed.\n",
    "    start_timestamp = pd.Timestamp(\n",
    "        \"2022-11-03 06:05:00-04:00\", tz=\"America/New_York\"\n",
    "    )\n",
    "    end_timestamp = pd.Timestamp(\n",
    "        \"2022-11-03 08:00:00-04:00\", tz=\"America/New_York\"\n",
    "    )\n",
    "_LOG.info(\"start_timestamp=%s\", start_timestamp)\n",
    "_LOG.info(\"end_timestamp=%s\", end_timestamp)"
   ]
  },
  {
   "cell_type": "code",
   "execution_count": null,
   "id": "a6792d6d",
   "metadata": {},
   "outputs": [],
   "source": [
    "fep = dtfmod.ForecastEvaluatorFromPrices(\n",
    "    **config[\"research_forecast_evaluator_from_prices\"][\"init\"]\n",
    ")\n",
    "annotate_forecasts_kwargs = config[\"research_forecast_evaluator_from_prices\"][\n",
    "    \"annotate_forecasts_kwargs\"\n",
    "].to_dict()\n",
    "research_portfolio_df, research_portfolio_stats_df = fep.annotate_forecasts(\n",
    "    dag_df_prod,\n",
    "    **annotate_forecasts_kwargs,\n",
    "    compute_extended_stats=True,\n",
    ")\n",
    "# TODO(gp): Move it to annotate_forecasts?\n",
    "research_portfolio_df = research_portfolio_df.sort_index(axis=1)\n",
    "# Align index with prod and sim portfolios.\n",
    "research_portfolio_df = research_portfolio_df.loc[start_timestamp:end_timestamp]\n",
    "research_portfolio_stats_df = research_portfolio_stats_df.loc[\n",
    "    start_timestamp:end_timestamp\n",
    "]\n",
    "#\n",
    "hpandas.df_to_str(research_portfolio_stats_df, num_rows=5, log_level=logging.INFO)"
   ]
  },
  {
   "cell_type": "markdown",
   "id": "d3ba6b6c",
   "metadata": {},
   "source": [
    "# Load logged portfolios"
   ]
  },
  {
   "cell_type": "code",
   "execution_count": null,
   "id": "4f49efab",
   "metadata": {},
   "outputs": [],
   "source": [
    "portfolio_config = cconfig.Config.from_dict(\n",
    "    {\n",
    "        \"start_timestamp\": start_timestamp,\n",
    "        \"end_timestamp\": end_timestamp,\n",
    "        \"freq\": config[\"meta\"][\"bar_duration\"],\n",
    "        \"normalize_bar_times\": True,\n",
    "    }\n",
    ")\n",
    "portfolio_config"
   ]
  },
  {
   "cell_type": "code",
   "execution_count": null,
   "id": "392bc083",
   "metadata": {},
   "outputs": [],
   "source": [
    "portfolio_dfs, portfolio_stats_dfs = oms.load_portfolio_dfs(\n",
    "    portfolio_path_dict,\n",
    "    portfolio_config,\n",
    ")\n",
    "# Add research portfolio.\n",
    "portfolio_dfs[\"research\"] = research_portfolio_df\n",
    "hpandas.df_to_str(portfolio_dfs[\"prod\"], num_rows=5, log_level=logging.INFO)"
   ]
  },
  {
   "cell_type": "code",
   "execution_count": null,
   "id": "67fa369b",
   "metadata": {},
   "outputs": [],
   "source": [
    "# Add research df and combine into a single df.\n",
    "portfolio_stats_dfs[\"research\"] = research_portfolio_stats_df\n",
    "portfolio_stats_df = pd.concat(portfolio_stats_dfs, axis=1)\n",
    "#\n",
    "hpandas.df_to_str(portfolio_stats_df, num_rows=5, log_level=logging.INFO)"
   ]
  },
  {
   "cell_type": "code",
   "execution_count": null,
   "id": "8f9fe22c",
   "metadata": {},
   "outputs": [],
   "source": [
    "bars_to_burn = 1\n",
    "coplotti.plot_portfolio_stats(portfolio_stats_df.iloc[bars_to_burn:])"
   ]
  },
  {
   "cell_type": "code",
   "execution_count": null,
   "id": "8d3425d0",
   "metadata": {},
   "outputs": [],
   "source": [
    "stats_computer = dtfmod.StatsComputer()\n",
    "stats_sxs, _ = stats_computer.compute_portfolio_stats(\n",
    "    portfolio_stats_df.iloc[bars_to_burn:], config[\"meta\"][\"bar_duration\"]\n",
    ")\n",
    "display(stats_sxs)"
   ]
  },
  {
   "cell_type": "markdown",
   "id": "a1ae4b22",
   "metadata": {},
   "source": [
    "# Compare portfolios pairwise"
   ]
  },
  {
   "cell_type": "code",
   "execution_count": null,
   "id": "d9f384a5",
   "metadata": {},
   "outputs": [],
   "source": [
    "report_stats = False\n",
    "display_plot = False\n",
    "compare_dfs_kwargs = {\n",
    "    \"column_mode\": \"inner\",\n",
    "    \"diff_mode\": \"pct_change\",\n",
    "    \"remove_inf\": True,\n",
    "    \"assert_diff_threshold\": None,\n",
    "}\n",
    "portfolio_diff_df = oms.compare_portfolios(\n",
    "    portfolio_dfs,\n",
    "    report_stats=report_stats,\n",
    "    display_plot=display_plot,\n",
    "    compare_dfs_kwargs=compare_dfs_kwargs,\n",
    ")\n",
    "hpandas.df_to_str(portfolio_diff_df, num_rows=None, log_level=logging.INFO)"
   ]
  },
  {
   "cell_type": "code",
   "execution_count": null,
   "id": "1fcbbc9a",
   "metadata": {},
   "outputs": [],
   "source": [
    "dtfmod.compute_correlations(\n",
    "    research_portfolio_df,\n",
    "    portfolio_dfs[\"prod\"],\n",
    "    allow_unequal_indices=True,\n",
    "    allow_unequal_columns=True,\n",
    ")"
   ]
  },
  {
   "cell_type": "code",
   "execution_count": null,
   "id": "c2f2ceb6",
   "metadata": {},
   "outputs": [],
   "source": [
    "dtfmod.compute_correlations(\n",
    "    portfolio_dfs[\"prod\"],\n",
    "    portfolio_dfs[\"sim\"],\n",
    "    allow_unequal_indices=False,\n",
    "    allow_unequal_columns=False,\n",
    ")"
   ]
  },
  {
   "cell_type": "code",
   "execution_count": null,
   "id": "d6cec0e1",
   "metadata": {},
   "outputs": [],
   "source": [
    "dtfmod.compute_correlations(\n",
    "    research_portfolio_df,\n",
    "    portfolio_dfs[\"sim\"],\n",
    "    allow_unequal_indices=True,\n",
    "    allow_unequal_columns=True,\n",
    ")"
   ]
  },
  {
   "cell_type": "code",
   "execution_count": null,
   "id": "2400afda",
   "metadata": {},
   "outputs": [],
   "source": [
    "if config[\"meta\"][\"run_tca\"]:\n",
    "    tca = cofinanc.load_and_normalize_tca_csv(tca_csv)\n",
    "    tca = cofinanc.compute_tca_price_annotations(tca, True)\n",
    "    tca = cofinanc.pivot_and_accumulate_holdings(tca, \"\")"
   ]
  }
 ],
 "metadata": {
  "kernelspec": {
   "display_name": "Python 3 (ipykernel)",
   "language": "python",
   "name": "python3"
  }
 },
 "nbformat": 4,
 "nbformat_minor": 5
}
