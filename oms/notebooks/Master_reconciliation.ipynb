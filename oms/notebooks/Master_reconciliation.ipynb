{
 "cells": [
  {
   "cell_type": "code",
   "execution_count": null,
   "id": "a160c995",
   "metadata": {},
   "outputs": [],
   "source": [
    "%load_ext autoreload\n",
    "%autoreload 2\n",
    "%matplotlib inline"
   ]
  },
  {
   "cell_type": "code",
   "execution_count": null,
   "id": "2b704896",
   "metadata": {},
   "outputs": [],
   "source": [
    "import logging\n",
    "import os\n",
    "from typing import List, Tuple\n",
    "\n",
    "import pandas as pd\n",
    "\n",
    "import core.config as cconfig\n",
    "import core.finance as cofinanc\n",
    "import core.plotting as coplotti\n",
    "import dataflow.model as dtfmod\n",
    "import helpers.hdbg as hdbg\n",
    "import helpers.henv as henv\n",
    "import helpers.hpandas as hpandas\n",
    "import helpers.hprint as hprint\n",
    "import helpers.hsystem as hsystem\n",
    "import oms as oms"
   ]
  },
  {
   "cell_type": "code",
   "execution_count": null,
   "id": "76a947e8",
   "metadata": {},
   "outputs": [],
   "source": [
    "hdbg.init_logger(verbosity=logging.INFO)\n",
    "\n",
    "_LOG = logging.getLogger(__name__)\n",
    "\n",
    "_LOG.info(\"%s\", henv.get_system_signature()[0])\n",
    "\n",
    "hprint.config_notebook()"
   ]
  },
  {
   "cell_type": "code",
   "execution_count": null,
   "id": "96a9abdd",
   "metadata": {},
   "outputs": [],
   "source": [
    "def get_reconciliation_config(date_str: str, asset_class: str) -> cconfig.Config:\n",
    "    \"\"\"\n",
    "    Get a reconciliation that is spefic of an asset class.\n",
    "    \n",
    "    :param date_str: reconciliation date as str, e.g., `20221003`\n",
    "    :param asset_class: either `equities` or `crypto`\n",
    "    \"\"\"\n",
    "    # Set values for variables that are specific of an asset class.\n",
    "    if asset_class == \"crypto\":\n",
    "        # For crypto the TCA part is not implemented yet.\n",
    "        run_tca = False\n",
    "        #\n",
    "        bar_duration = \"5T\"\n",
    "        #\n",
    "        root_dir = \"/shared_data/prod_reconciliation\"\n",
    "        # TODO(Grisha): probably we should rename to `system_log_dir`.\n",
    "        prod_dir = os.path.join(root_dir, date_str, \"prod\", \"system_log_dir_scheduled__2022-10-03T10:00:00+00:00_2hours\")\n",
    "        data_dict = {\n",
    "           \"prod_dir\": prod_dir,\n",
    "           # For crypto we do not have a `candidate` so we just re-use prod.\n",
    "           \"cand_dir\": prod_dir,\n",
    "           \"sim_dir\": os.path.join(root_dir, date_str, \"simulation\", \"system_log_dir\"),\n",
    "        }\n",
    "        #\n",
    "        fep_init_dict = {\n",
    "            \"price_col\": \"vwap\",\n",
    "            \"prediction_col\": \"vwap.ret_0.vol_adj_2_hat\",\n",
    "            \"volatility_col\": \"vwap.ret_0.vol\",\n",
    "        }\n",
    "        quantization = \"no_quantization\"\n",
    "        gmv = 700.0\n",
    "    elif asset_class == \"equities\":\n",
    "        run_tca = True\n",
    "        #\n",
    "        bar_duration = \"15T\"\n",
    "        #\n",
    "        root_dir = \"\"\n",
    "        search_str = \"\"\n",
    "        prod_dir_cmd = f\"find {root_dir}/{date_str}/prod -name '{search_str}'\"\n",
    "        _, prod_dir = hsystem.system_to_string(prod_dir_cmd)\n",
    "        cand_cmd = f\"find {root_dir}/{date_str}/job.candidate.* -name '{search_str}'\"\n",
    "        _, cand_dir = hsystem.system_to_string(cand_cmd)\n",
    "        data_dict = {\n",
    "           \"prod_dir\": prod_dir,\n",
    "           \"cand_dir\": cand_dir,\n",
    "           \"sim_dir\": os.path.join(root_dir, date_str, \"system_log_dir\"),\n",
    "        }\n",
    "        #\n",
    "        fep_init_dict = {\n",
    "            \"price_col\": \"twap\",\n",
    "            \"prediction_col\": \"prediction\",\n",
    "            \"volatility_col\": \"garman_klass_vol\",\n",
    "        }\n",
    "        quantization = \"nearest_share\"\n",
    "        gmv = 20000.0\n",
    "    else:\n",
    "        raise ValueError(f\"Unsupported asset class={asset_class}\")\n",
    "    # Get a config.\n",
    "    config_dict = {\n",
    "        \"meta\": {\n",
    "            \"date_str\": date_str,\n",
    "            \"asset_class\": asset_class,\n",
    "            \"run_tca\": run_tca,\n",
    "            \"bar_duration\": bar_duration,\n",
    "        },\n",
    "        \"load_data_config\": data_dict,\n",
    "        \"research_forecast_evaluator_from_prices\": {\n",
    "            \"init\": fep_init_dict,\n",
    "            \"annotate_forecasts_kwargs\": {\n",
    "                \"quantization\": quantization,\n",
    "                \"burn_in_bars\": 3,\n",
    "                \"style\": \"cross_sectional\",\n",
    "                \"bulk_frac_to_remove\": 0.0,\n",
    "                \"target_gmv\": gmv,\n",
    "            }\n",
    "        }\n",
    "    }\n",
    "    config = cconfig.Config.from_dict(config_dict)\n",
    "    return config"
   ]
  },
  {
   "cell_type": "code",
   "execution_count": null,
   "id": "b9a3bf8e",
   "metadata": {},
   "outputs": [],
   "source": [
    "date_str = \"20221004\"\n",
    "#asset_class = \"equities\"\n",
    "asset_class = \"crypto\"    \n",
    "    \n",
    "config = get_reconciliation_config(date_str, asset_class)\n",
    "print(config)"
   ]
  },
  {
   "cell_type": "markdown",
   "id": "8306d378",
   "metadata": {},
   "source": [
    "# Specify data to load"
   ]
  },
  {
   "cell_type": "code",
   "execution_count": null,
   "id": "b6a0f9a0",
   "metadata": {},
   "outputs": [],
   "source": [
    "# TODO(Grisha): factor out common code.\n",
    "prod_dir = config[\"load_data_config\"][\"prod_dir\"]\n",
    "print(prod_dir)\n",
    "hdbg.dassert(prod_dir)\n",
    "hdbg.dassert_dir_exists(prod_dir)\n",
    "\n",
    "cand_dir = config[\"load_data_config\"][\"cand_dir\"]\n",
    "print(cand_dir)\n",
    "hdbg.dassert(cand_dir)\n",
    "hdbg.dassert_dir_exists(cand_dir)\n",
    "\n",
    "sim_dir = config[\"load_data_config\"][\"sim_dir\"]\n",
    "print(sim_dir)\n",
    "hdbg.dassert(sim_dir)\n",
    "hdbg.dassert_dir_exists(sim_dir)"
   ]
  },
  {
   "cell_type": "code",
   "execution_count": null,
   "id": "ccfe6853",
   "metadata": {},
   "outputs": [],
   "source": [
    "prod_portfolio_dir = os.path.join(prod_dir, \"process_forecasts/portfolio\")\n",
    "hdbg.dassert_dir_exists(prod_portfolio_dir)\n",
    "print(prod_portfolio_dir)\n",
    "prod_dag_dir = os.path.join(prod_dir, \"dag/node_io/node_io.data\")\n",
    "hdbg.dassert_dir_exists(prod_dag_dir)\n",
    "#\n",
    "cand_portfolio_dir = os.path.join(cand_dir, \"process_forecasts/portfolio\")\n",
    "hdbg.dassert_dir_exists(cand_portfolio_dir)\n",
    "print(cand_portfolio_dir)\n",
    "cand_dag_dir = os.path.join(cand_dir, \"dag/node_io/node_io.data\")\n",
    "hdbg.dassert_dir_exists(cand_dag_dir)\n",
    "#\n",
    "sim_portfolio_dir = os.path.join(sim_dir, \"process_forecasts/portfolio\")\n",
    "hdbg.dassert_dir_exists(sim_portfolio_dir)\n",
    "print(sim_portfolio_dir)\n",
    "sim_dag_dir = os.path.join(sim_dir, \"dag/node_io/node_io.data\")\n",
    "hdbg.dassert_dir_exists(sim_dag_dir)\n",
    "#\n",
    "if config[\"meta\"][\"run_tca\"]:\n",
    "    tca_csv = os.path.join(root_dir, date_str, \"tca/sau1_tca.csv\")\n",
    "    hdbg.dassert_file_exists(tca_csv)"
   ]
  },
  {
   "cell_type": "code",
   "execution_count": null,
   "id": "a6818dd6",
   "metadata": {},
   "outputs": [],
   "source": [
    "portfolio_path_dict = {\n",
    "    \"prod\": prod_portfolio_dir,\n",
    "    \"cand\": cand_portfolio_dir,\n",
    "    \"sim\": sim_portfolio_dir,\n",
    "}"
   ]
  },
  {
   "cell_type": "code",
   "execution_count": null,
   "id": "26b982b6",
   "metadata": {},
   "outputs": [],
   "source": [
    "start_timestamp = pd.Timestamp(date_str + \" 10:05:00\", tz=\"America/New_York\")\n",
    "_LOG.info(\"start_timestamp=%s\", start_timestamp)\n",
    "end_timestamp = pd.Timestamp(date_str + \" 12:00:00\", tz=\"America/New_York\")\n",
    "_LOG.info(\"end_timestamp=%s\", end_timestamp)"
   ]
  },
  {
   "cell_type": "markdown",
   "id": "6ba15119",
   "metadata": {},
   "source": [
    "# Compare DAG io"
   ]
  },
  {
   "cell_type": "code",
   "execution_count": null,
   "id": "0b3f7c21",
   "metadata": {},
   "outputs": [],
   "source": [
    "def get_latest_output_from_last_dag_node(dag_dir: str) -> pd.DataFrame:\n",
    "    \"\"\"\n",
    "    Retrieve the most recent output from the last DAG node.\n",
    "\n",
    "    This function relies on our file naming conventions.\n",
    "    \"\"\"\n",
    "    parquet_files = list(filter(lambda x: \"parquet\" in x, sorted(os.listdir(cand_dag_dir))))\n",
    "    _LOG.info(\"Tail of files found=%s\", parquet_files[-3:])\n",
    "    file_name = parquet_files[-1]\n",
    "    _LOG.info(\"DAG file selected=%s\", file_name)\n",
    "    dag_parquet_path = os.path.join(cand_dag_dir, file_name)\n",
    "    # _LOG.info(\"DAG parquet path=%s\", dag_parquet_path)\n",
    "    dag_df = pd.read_parquet(dag_parquet_path)\n",
    "    return dag_df"
   ]
  },
  {
   "cell_type": "code",
   "execution_count": null,
   "id": "131e1830",
   "metadata": {},
   "outputs": [],
   "source": [
    "prod_dag_df = get_latest_output_from_last_dag_node(prod_dag_dir)\n",
    "hpandas.df_to_str(prod_dag_df, log_level=logging.INFO)"
   ]
  },
  {
   "cell_type": "code",
   "execution_count": null,
   "id": "0e3eb42d",
   "metadata": {},
   "outputs": [],
   "source": [
    "sim_dag_df = get_latest_output_from_last_dag_node(sim_dag_dir)\n",
    "hpandas.df_to_str(sim_dag_df, log_level=logging.INFO)"
   ]
  },
  {
   "cell_type": "code",
   "execution_count": null,
   "id": "06f88fee",
   "metadata": {},
   "outputs": [],
   "source": [
    "prod_sim_dag_corr = dtfmod.compute_correlations(\n",
    "    prod_dag_df,\n",
    "    sim_dag_df,\n",
    ")\n",
    "hpandas.df_to_str(\n",
    "    prod_sim_dag_corr.min(),\n",
    "    num_rows=None,\n",
    "    precision=3,\n",
    "    log_level=logging.INFO,\n",
    ")"
   ]
  },
  {
   "cell_type": "markdown",
   "id": "51d6ff22",
   "metadata": {},
   "source": [
    "# Compute research portfolio equivalent"
   ]
  },
  {
   "cell_type": "code",
   "execution_count": null,
   "id": "5d99af38",
   "metadata": {},
   "outputs": [],
   "source": [
    "fep = dtfmod.ForecastEvaluatorFromPrices(**config[\"research_forecast_evaluator_from_prices\"][\"init\"])"
   ]
  },
  {
   "cell_type": "code",
   "execution_count": null,
   "id": "88617f6e",
   "metadata": {},
   "outputs": [],
   "source": [
    "research_portfolio_df, research_portfolio_stats_df = fep.annotate_forecasts(\n",
    "    prod_dag_df,\n",
    "    **config[\"research_forecast_evaluator_from_prices\"][\"annotate_forecasts_kwargs\"],\n",
    "    compute_extended_stats=True\n",
    ")"
   ]
  },
  {
   "cell_type": "code",
   "execution_count": null,
   "id": "2b8cd247",
   "metadata": {},
   "outputs": [],
   "source": [
    "hpandas.df_to_str(research_portfolio_stats_df, log_level=logging.INFO)"
   ]
  },
  {
   "cell_type": "markdown",
   "id": "6e7ac7c9",
   "metadata": {},
   "source": [
    "# Load logged portfolios"
   ]
  },
  {
   "cell_type": "code",
   "execution_count": null,
   "id": "bdfbb362",
   "metadata": {},
   "outputs": [],
   "source": [
    "portfolio_config_dict = {\n",
    "    \"start_timestamp\": start_timestamp,\n",
    "    \"end_timestamp\": end_timestamp,\n",
    "    \"freq\": config[\"meta\"][\"bar_duration\"],\n",
    "    \"normalize_bar_times\": True,\n",
    "}\n",
    "portfolio_config_dict"
   ]
  },
  {
   "cell_type": "code",
   "execution_count": null,
   "id": "89560fe7",
   "metadata": {},
   "outputs": [],
   "source": [
    "portfolio_dfs = {}\n",
    "portfolio_stats_dfs = {}\n",
    "for name, path in portfolio_path_dict.items():\n",
    "    _LOG.info(\"Processing portfolio=%s path=%s\", name, path)\n",
    "    portfolio_df, portfolio_stats_df = oms.load_portfolio_artifacts(\n",
    "        path,\n",
    "        **portfolio_config_dict,\n",
    "    )\n",
    "    portfolio_dfs[name] = portfolio_df\n",
    "    portfolio_stats_dfs[name] = portfolio_stats_df\n",
    "portfolio_dfs[\"research\"] = research_portfolio_df.loc[start_timestamp:end_timestamp]\n",
    "portfolio_stats_dfs[\"research\"] = research_portfolio_stats_df.loc[start_timestamp:end_timestamp]\n",
    "portfolio_stats_df = pd.concat(portfolio_stats_dfs, axis=1)"
   ]
  },
  {
   "cell_type": "code",
   "execution_count": null,
   "id": "48a965c6",
   "metadata": {},
   "outputs": [],
   "source": [
    "hpandas.df_to_str(portfolio_stats_df, log_level=logging.INFO)"
   ]
  },
  {
   "cell_type": "code",
   "execution_count": null,
   "id": "baa763e1",
   "metadata": {},
   "outputs": [],
   "source": [
    "bars_to_burn = 1\n",
    "coplotti.plot_portfolio_stats(portfolio_stats_df.iloc[bars_to_burn:])"
   ]
  },
  {
   "cell_type": "code",
   "execution_count": null,
   "id": "19c484b4",
   "metadata": {},
   "outputs": [],
   "source": [
    "stats_computer = dtfmod.StatsComputer()\n",
    "stats_sxs, _ = stats_computer.compute_portfolio_stats(\n",
    "    portfolio_stats_df.iloc[bars_to_burn:], config[\"meta\"][\"bar_duration\"]\n",
    ")\n",
    "display(stats_sxs)"
   ]
  },
  {
   "cell_type": "markdown",
   "id": "f02a4edd",
   "metadata": {},
   "source": [
    "# Compare pairwise portfolio correlations"
   ]
  },
  {
   "cell_type": "code",
   "execution_count": null,
   "id": "c3ceefbc",
   "metadata": {},
   "outputs": [],
   "source": [
    "adapted_prod_df = oms.adapt_portfolio_object_df_to_forecast_evaluator_df(portfolio_dfs[\"prod\"])\n",
    "adapted_cand_df = oms.adapt_portfolio_object_df_to_forecast_evaluator_df(portfolio_dfs[\"cand\"])\n",
    "adapted_sim_df = oms.adapt_portfolio_object_df_to_forecast_evaluator_df(portfolio_dfs[\"sim\"])"
   ]
  },
  {
   "cell_type": "code",
   "execution_count": null,
   "id": "adf717c0",
   "metadata": {},
   "outputs": [],
   "source": [
    "dtfmod.compute_correlations(\n",
    "    research_portfolio_df,\n",
    "    adapted_prod_df,\n",
    "    allow_unequal_indices=True,\n",
    "    allow_unequal_columns=True,\n",
    ").sort_values([\"pnl\"], ascending=False)"
   ]
  },
  {
   "cell_type": "code",
   "execution_count": null,
   "id": "93083c7d",
   "metadata": {},
   "outputs": [],
   "source": [
    "dtfmod.compute_correlations(\n",
    "    adapted_prod_df,\n",
    "    adapted_sim_df,\n",
    "    allow_unequal_indices=False,\n",
    "    allow_unequal_columns=False,\n",
    ").sort_values([\"pnl\"], ascending=False)"
   ]
  },
  {
   "cell_type": "code",
   "execution_count": null,
   "id": "71d36fed",
   "metadata": {},
   "outputs": [],
   "source": [
    "dtfmod.compute_correlations(\n",
    "    research_portfolio_df,\n",
    "    adapted_sim_df,\n",
    "    allow_unequal_indices=True,\n",
    "    allow_unequal_columns=True,\n",
    ").sort_values([\"pnl\"], ascending=False)"
   ]
  },
  {
   "cell_type": "code",
   "execution_count": null,
   "id": "702a9f6f",
   "metadata": {},
   "outputs": [],
   "source": [
    "if config[\"meta\"][\"run_tca\"]:\n",
    "    tca = cofinanc.load_and_normalize_tca_csv(tca_csv)\n",
    "    tca = cofinanc.compute_tca_price_annotations(tca, True)\n",
    "    tca = cofinanc.pivot_and_accumulate_holdings(tca, \"\")"
   ]
  }
 ],
 "metadata": {
  "kernelspec": {
   "display_name": "Python 3 (ipykernel)",
   "language": "python",
   "name": "python3"
  },
  "language_info": {
   "codemirror_mode": {
    "name": "ipython",
    "version": 3
   },
   "file_extension": ".py",
   "mimetype": "text/x-python",
   "name": "python",
   "nbconvert_exporter": "python",
   "pygments_lexer": "ipython3"
  },
  "toc": {
   "base_numbering": 1,
   "nav_menu": {},
   "number_sections": true,
   "sideBar": true,
   "skip_h1_title": false,
   "title_cell": "Table of Contents",
   "title_sidebar": "Contents",
   "toc_cell": false,
   "toc_position": {},
   "toc_section_display": true,
   "toc_window_display": false
  }
 },
 "nbformat": 4,
 "nbformat_minor": 5
}
