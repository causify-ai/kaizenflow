{
 "cells": [
  {
   "cell_type": "code",
   "execution_count": null,
   "id": "578a31a0",
   "metadata": {},
   "outputs": [],
   "source": [
    "%load_ext autoreload\n",
    "%autoreload 2\n",
    "%matplotlib inline"
   ]
  },
  {
   "cell_type": "code",
   "execution_count": null,
   "id": "5d2a3739",
   "metadata": {},
   "outputs": [],
   "source": [
    "import logging\n",
    "import os\n",
    "import pprint\n",
    "\n",
    "import numpy as np\n",
    "import pandas as pd\n",
    "\n",
    "import core.config as cconfig\n",
    "import core.finance as cofinanc\n",
    "import core.plotting as coplotti\n",
    "import dataflow.model as dtfmod\n",
    "import helpers.hdbg as hdbg\n",
    "import helpers.henv as henv\n",
    "import helpers.hpandas as hpandas\n",
    "import helpers.hprint as hprint\n",
    "import helpers.hsql as hsql\n",
    "import im_v2.ccxt.data.client as icdcl\n",
    "import im_v2.common.universe as ivcu\n",
    "import im_v2.im_lib_tasks as imvimlita\n",
    "import oms as oms"
   ]
  },
  {
   "cell_type": "code",
   "execution_count": null,
   "id": "45712e5c",
   "metadata": {},
   "outputs": [],
   "source": [
    "hdbg.init_logger(verbosity=logging.INFO)\n",
    "\n",
    "_LOG = logging.getLogger(__name__)\n",
    "\n",
    "_LOG.info(\"%s\", henv.get_system_signature()[0])\n",
    "\n",
    "hprint.config_notebook()"
   ]
  },
  {
   "cell_type": "markdown",
   "id": "b4df0bb6",
   "metadata": {},
   "source": [
    "# Config"
   ]
  },
  {
   "cell_type": "code",
   "execution_count": null,
   "id": "2c4193f7",
   "metadata": {},
   "outputs": [],
   "source": [
    "#date_str = \"20221028\"\n",
    "#date_str = \"20221031\"\n",
    "date_str = \"20221103\"\n",
    "#prod_subdir = \"system_log_dir_manual__2022-11-01T12:39:45.395761+00:00_2hours\"\n",
    "prod_subdir = None\n",
    "config_list = oms.build_reconciliation_configs(date_str, prod_subdir)\n",
    "config = config_list[0]\n",
    "print(config)"
   ]
  },
  {
   "cell_type": "code",
   "execution_count": null,
   "id": "58030a0a",
   "metadata": {},
   "outputs": [],
   "source": [
    "system_log_path_dict, portfolio_path_dict, dag_path_dict = oms.get_path_dicts(config, log_level=logging.INFO)"
   ]
  },
  {
   "cell_type": "code",
   "execution_count": null,
   "id": "f4377286",
   "metadata": {},
   "outputs": [],
   "source": [
    "date_str = config[\"meta\"][\"date_str\"]\n",
    "# TODO(gp): @Grisha infer this from the data from prod Portfolio df, but allow to overwrite.\n",
    "if True:\n",
    "    start_time = \"06:05:00\"\n",
    "    end_time = \"07:50:00\"\n",
    "else:\n",
    "    start_time = \"08:45:00\"\n",
    "    end_time = \"10:40:00\"\n",
    "start_timestamp = pd.Timestamp(date_str + \" \" + start_time, tz=\"America/New_York\")\n",
    "end_timestamp = pd.Timestamp(date_str + \" \" + end_time, tz=\"America/New_York\")\n",
    "_LOG.info(\"start_timestamp=%s\", start_timestamp)\n",
    "_LOG.info(\"end_timestamp=%s\", end_timestamp)"
   ]
  },
  {
   "cell_type": "markdown",
   "id": "14cccb35",
   "metadata": {},
   "source": [
    "# Compare configs"
   ]
  },
  {
   "cell_type": "code",
   "execution_count": null,
   "id": "1d2be496",
   "metadata": {},
   "outputs": [],
   "source": [
    "configs = oms.load_config_from_pickle(system_log_path_dict)\n",
    "# Diff configs.\n",
    "# TODO(gp): @grisha let's add the keys as column names.\n",
    "diff_config = cconfig.build_config_diff_dataframe(\n",
    "    {\n",
    "        \"prod_config\": configs[\"prod\"],\n",
    "        \"sim_config\": configs[\"sim\"],\n",
    "    }\n",
    ")\n",
    "diff_config.T"
   ]
  },
  {
   "cell_type": "markdown",
   "id": "ab4bbc24",
   "metadata": {},
   "source": [
    "# Data delay analysis"
   ]
  },
  {
   "cell_type": "code",
   "execution_count": null,
   "id": "a18d9719",
   "metadata": {},
   "outputs": [],
   "source": [
    "# Get the real-time `ImClient`.\n",
    "# TODO(Grisha): ideally we should get the values from the config.\n",
    "resample_1min = False\n",
    "env_file = imvimlita.get_db_env_path(\"dev\")\n",
    "connection_params = hsql.get_connection_info_from_env_file(env_file)\n",
    "db_connection = hsql.get_connection(*connection_params)\n",
    "table_name = \"ccxt_ohlcv_futures\"\n",
    "#\n",
    "im_client = icdcl.CcxtSqlRealTimeImClient(\n",
    "    resample_1min, db_connection, table_name\n",
    ")"
   ]
  },
  {
   "cell_type": "code",
   "execution_count": null,
   "id": "7f47d4b5",
   "metadata": {},
   "outputs": [],
   "source": [
    "# Get the universe.\n",
    "# TODO(Grisha): get the version from the config.\n",
    "vendor = \"CCXT\"\n",
    "mode = \"trade\"\n",
    "version = \"v7.1\"\n",
    "as_full_symbol = True\n",
    "full_symbols = ivcu.get_vendor_universe(\n",
    "    vendor,\n",
    "    mode,\n",
    "    version=version,\n",
    "    as_full_symbol=as_full_symbol,\n",
    ")\n",
    "full_symbols"
   ]
  },
  {
   "cell_type": "code",
   "execution_count": null,
   "id": "1ee06c7c",
   "metadata": {},
   "outputs": [],
   "source": [
    "# Load the data for the reconciliation date.\n",
    "# `ImClient` operates in UTC timezone.\n",
    "start_ts = pd.Timestamp(date_str, tz=\"UTC\")\n",
    "end_ts = start_ts + pd.Timedelta(days=1)\n",
    "columns = None\n",
    "filter_data_mode = \"assert\"\n",
    "df = im_client.read_data(\n",
    "    full_symbols, start_ts, end_ts, columns, filter_data_mode\n",
    ")\n",
    "hpandas.df_to_str(df, num_rows=5, log_level=logging.INFO)"
   ]
  },
  {
   "cell_type": "code",
   "execution_count": null,
   "id": "bb15a625",
   "metadata": {},
   "outputs": [],
   "source": [
    "# TODO(Grisha): move to a lib.\n",
    "# Compute delay in seconds.\n",
    "df[\"delta\"] = (df[\"knowledge_timestamp\"] - df.index).dt.total_seconds()\n",
    "# Plot the delay over assets with the errors bars.\n",
    "minimums = df.groupby(by=[\"full_symbol\"]).min()[\"delta\"]\n",
    "maximums = df.groupby(by=[\"full_symbol\"]).max()[\"delta\"]\n",
    "means = df.groupby(by=[\"full_symbol\"]).mean()[\"delta\"]\n",
    "errors = [means - minimums, maximums - means]\n",
    "df.groupby(by=[\"full_symbol\"]).mean()[\"delta\"].sort_values(ascending=False).plot(\n",
    "    kind=\"bar\", yerr=errors\n",
    ")"
   ]
  },
  {
   "cell_type": "markdown",
   "id": "437e0b47",
   "metadata": {},
   "source": [
    "# Compare DAG io"
   ]
  },
  {
   "cell_type": "markdown",
   "id": "ed54af01",
   "metadata": {},
   "source": [
    "## One-off reading of Parquet files"
   ]
  },
  {
   "cell_type": "code",
   "execution_count": null,
   "id": "c7d56f0a",
   "metadata": {},
   "outputs": [],
   "source": [
    "if False:\n",
    "    file_name1 = \"/shared_data/prod_reconciliation/20221025/prod/system_log_dir_scheduled__2022-10-24T10:00:00+00:00_2hours/dag/node_io/node_io.data/predict.8.process_forecasts.df_out.20221025_061000.parquet\"\n",
    "    df1 = pd.read_parquet(file_name1)\n",
    "\n",
    "    file_name2 = \"/shared_data/prod_reconciliation/20221025/simulation/system_log_dir/dag/node_io/node_io.data/predict.8.process_forecasts.df_out.20221025_061000.parquet\"\n",
    "    df2 = pd.read_parquet(file_name2)\n",
    "\n",
    "    #asset_id = 1030828978\n",
    "    asset_id = 9872743573\n",
    "    #df1['vwap.ret_0.vol_adj_2_hat', asset_id] == df2['vwap.ret_0.vol_adj_2_hat', asset_id]\n",
    "    #column = 'vwap.ret_0.vol_adj_2_hat'\n",
    "    column = 'close'\n",
    "\n",
    "    #pd.concat()\n",
    "\n",
    "    compare_visually_dataframes_kwargs = {\"diff_mode\": \"pct_change\", \"background_gradient\": False}\n",
    "    subset_multiindex_df_kwargs = {\"columns_level0\": [column],\n",
    "                                   #\"columns_level1\": [asset_id]\n",
    "                                  }\n",
    "\n",
    "    hpandas.compare_multiindex_dfs(df1, df2,\n",
    "                                   subset_multiindex_df_kwargs=subset_multiindex_df_kwargs,\n",
    "                                   compare_visually_dataframes_kwargs=compare_visually_dataframes_kwargs )#.dropna().abs().max()"
   ]
  },
  {
   "cell_type": "markdown",
   "id": "ed60f91d",
   "metadata": {},
   "source": [
    "## Read last node"
   ]
  },
  {
   "cell_type": "code",
   "execution_count": null,
   "id": "3b81f4e4",
   "metadata": {},
   "outputs": [],
   "source": [
    "# Select a specific node and timestamp to analyze.\n",
    "log_level = logging.DEBUG\n",
    "dag_node_names = oms.get_dag_node_names(dag_path_dict[\"prod\"], log_level=log_level)\n",
    "dag_node_name = dag_node_names[-1]\n",
    "print(hprint.to_str(\"dag_node_name\"))\n",
    "\n",
    "dag_node_timestamps = oms.get_dag_node_timestamps(\n",
    "    dag_path_dict[\"prod\"], dag_node_name, as_timestamp=True, log_level=log_level\n",
    ")\n",
    "\n",
    "dag_node_timestamp = dag_node_timestamps[-1]\n",
    "print(\"dag_node_timestamp=%s\" % dag_node_timestamp)"
   ]
  },
  {
   "cell_type": "code",
   "execution_count": null,
   "id": "918fa259",
   "metadata": {},
   "outputs": [],
   "source": [
    "# Load DAG output for different experiments.\n",
    "dag_df_dict = oms.load_dag_outputs(dag_path_dict, dag_node_name, dag_node_timestamp, \n",
    "                                   start_timestamp, end_timestamp,\n",
    "                                   log_level=logging.INFO)"
   ]
  },
  {
   "cell_type": "code",
   "execution_count": null,
   "id": "fa114833",
   "metadata": {},
   "outputs": [],
   "source": [
    "# Load specific timestamp and node.\n",
    "if False:\n",
    "    # Load DAG output for different experiments.\n",
    "    dag_node_timestamp = pd.Timestamp(\"2022-10-28 06:25:00-04:00\")\n",
    "\n",
    "    # dag_node_timestamps = oms.get_dag_node_timestamps(\n",
    "    #     dag_path_dict[\"prod\"], dag_node_name, as_timestamp=True, log_level=log_level\n",
    "    # )\n",
    "    # print(dag_node_timestamps)\n",
    "\n",
    "    dag_df_dict = oms.load_dag_outputs(dag_path_dict, dag_node_name, dag_node_timestamp, \n",
    "                                       start_timestamp, end_timestamp,\n",
    "                                       log_level=logging.INFO)\n",
    "\n",
    "    # Check last two rows.\n",
    "    #column = \"vwap.ret_0.vol_adj_2_hat\"\n",
    "    column = \"twap.ret_0\"\n",
    "    #display(dag_df_dict[\"prod\"][column].tail(2))\n",
    "    #display(dag_df_dict[\"sim\"][column].tail(2))\n",
    "\n",
    "    diff_df = hpandas.compare_visually_dataframes(\n",
    "        dag_df_dict[\"prod\"][column].tail(2),\n",
    "        dag_df_dict[\"sim\"][column].tail(2),\n",
    "        diff_mode=\"pct_change\",\n",
    "        background_gradient=False)\n",
    "\n",
    "    display(diff_df)\n",
    "\n",
    "    #print(type(diff_df))\n",
    "    diff_df.max().max()"
   ]
  },
  {
   "cell_type": "code",
   "execution_count": null,
   "id": "04c6e987",
   "metadata": {},
   "outputs": [],
   "source": [
    "#hpandas.compare_visually_dataframes(dag_df_dict[\"prod\"], dag_df_dict[\"sim\"])"
   ]
  },
  {
   "cell_type": "code",
   "execution_count": null,
   "id": "e23f68ae",
   "metadata": {},
   "outputs": [],
   "source": [
    "_ = hpandas.multiindex_df_info(dag_df_dict[\"prod\"])"
   ]
  },
  {
   "cell_type": "code",
   "execution_count": null,
   "id": "51b8152e",
   "metadata": {},
   "outputs": [],
   "source": [
    "#df_subset = hpandas.subset_multiindex_df(dag_df_dict[\"prod\"], columns_level0=\"close\")\n",
    "#df_subset.head(2)"
   ]
  },
  {
   "cell_type": "markdown",
   "id": "624cceaf",
   "metadata": {},
   "source": [
    "## Compare prod vs sim DAG output"
   ]
  },
  {
   "cell_type": "code",
   "execution_count": null,
   "id": "32910976",
   "metadata": {},
   "outputs": [],
   "source": [
    "# Compute percentage difference.\n",
    "compare_visually_dataframes_kwargs = {\n",
    "    \"diff_mode\": \"pct_change\",\n",
    "    \"background_gradient\": False,\n",
    "}\n",
    "diff_df = hpandas.compare_multiindex_dfs(\n",
    "    dag_df_dict[\"prod\"],\n",
    "    dag_df_dict[\"sim\"],\n",
    "    compare_visually_dataframes_kwargs=compare_visually_dataframes_kwargs,\n",
    ")\n",
    "display(diff_df)\n",
    "# # Remove the sign and NaNs.\n",
    "# diff_df = diff_df.replace([np.inf, -np.inf], np.nan).abs()\n",
    "# display(diff_df)\n",
    "# # Check that data is the same.\n",
    "# diff_df.max().max()"
   ]
  },
  {
   "cell_type": "code",
   "execution_count": null,
   "id": "4edc0b89",
   "metadata": {},
   "outputs": [],
   "source": [
    "# Plot diffs over time.\n",
    "diff_df.max(axis=1).plot()"
   ]
  },
  {
   "cell_type": "code",
   "execution_count": null,
   "id": "c25b85f3",
   "metadata": {},
   "outputs": [],
   "source": [
    "# Plot diffs over columns.\n",
    "diff_df.max(axis=0).unstack().max(axis=1).plot(kind=\"bar\")"
   ]
  },
  {
   "cell_type": "code",
   "execution_count": null,
   "id": "d705df3e",
   "metadata": {},
   "outputs": [],
   "source": [
    "# Plot diffs over assets.\n",
    "diff_df.max(axis=0).unstack().max(axis=0).plot(kind=\"bar\")"
   ]
  },
  {
   "cell_type": "code",
   "execution_count": null,
   "id": "dc7da699",
   "metadata": {},
   "outputs": [],
   "source": [
    "# Compute correlations.\n",
    "prod_sim_dag_corr = dtfmod.compute_correlations(\n",
    "    dag_df_dict[\"prod\"],\n",
    "    dag_df_dict[\"sim\"],\n",
    ")\n",
    "hpandas.df_to_str(\n",
    "    prod_sim_dag_corr.min(),\n",
    "    num_rows=None,\n",
    "    precision=3,\n",
    "    log_level=logging.INFO,\n",
    ")"
   ]
  },
  {
   "cell_type": "code",
   "execution_count": null,
   "id": "caa38292",
   "metadata": {},
   "outputs": [],
   "source": [
    "# Make sure they are exactly the same.\n",
    "(dag_df_dict[\"prod\"] - dag_df_dict[\"sim\"]).abs().max().max()"
   ]
  },
  {
   "cell_type": "markdown",
   "id": "5187cb14",
   "metadata": {},
   "source": [
    "# Compute research portfolio equivalent"
   ]
  },
  {
   "cell_type": "code",
   "execution_count": null,
   "id": "07ac8a0a",
   "metadata": {},
   "outputs": [],
   "source": [
    "# Build the ForecastEvaluator.\n",
    "forecast_evaluator_from_prices_kwargs = config[\"research_forecast_evaluator_from_prices\"][\"init\"]\n",
    "print(hprint.to_str(\"forecast_evaluator_from_prices_kwargs\", mode=\"pprint\"))\n",
    "fep = dtfmod.ForecastEvaluatorFromPrices(**forecast_evaluator_from_prices_kwargs)\n",
    "# Run.\n",
    "annotate_forecasts_kwargs = config[\"research_forecast_evaluator_from_prices\"][\n",
    "    \"annotate_forecasts_kwargs\"\n",
    "]\n",
    "print(hprint.to_str(\"annotate_forecasts_kwargs\", mode=\"pprint\"))\n",
    "\n",
    "\n",
    "\n",
    "\n",
    "\n",
    "\n",
    "\n",
    "research_portfolio_df, research_portfolio_stats_df = fep.annotate_forecasts(\n",
    "    dag_df_dict[\"prod\"],\n",
    "    **annotate_forecasts_kwargs.to_dict(),\n",
    "    compute_extended_stats=True,\n",
    ")\n",
    "# TODO(gp): Move it to annotate_forecasts?\n",
    "research_portfolio_df = research_portfolio_df.sort_index(axis=1)\n",
    "\n",
    "# Align index with prod and sim portfolios.\n",
    "research_portfolio_df = research_portfolio_df.loc[start_timestamp:end_timestamp]\n",
    "research_portfolio_stats_df = research_portfolio_stats_df.loc[\n",
    "    start_timestamp:end_timestamp\n",
    "]\n",
    "#\n",
    "hpandas.df_to_str(research_portfolio_stats_df, num_rows=5, log_level=logging.INFO)"
   ]
  },
  {
   "cell_type": "markdown",
   "id": "dbbb095b",
   "metadata": {},
   "source": [
    "# Load logged portfolios"
   ]
  },
  {
   "cell_type": "code",
   "execution_count": null,
   "id": "3b3a767c",
   "metadata": {},
   "outputs": [],
   "source": [
    "portfolio_config = cconfig.Config.from_dict(\n",
    "    {\n",
    "        \"start_timestamp\": start_timestamp,\n",
    "        \"end_timestamp\": end_timestamp,\n",
    "        \"freq\": config[\"meta\"][\"bar_duration\"],\n",
    "        \"normalize_bar_times\": True,\n",
    "    }\n",
    ")\n",
    "portfolio_config.to_dict()"
   ]
  },
  {
   "cell_type": "code",
   "execution_count": null,
   "id": "ec67bbcc",
   "metadata": {},
   "outputs": [],
   "source": [
    "portfolio_dfs, portfolio_stats_dfs = oms.load_portfolio_dfs(\n",
    "    portfolio_path_dict,\n",
    "    portfolio_config,\n",
    ")\n",
    "# Add research portfolio.\n",
    "portfolio_dfs[\"research\"] = research_portfolio_df\n",
    "#\n",
    "hpandas.df_to_str(portfolio_dfs[\"prod\"], num_rows=5, log_level=logging.INFO)"
   ]
  },
  {
   "cell_type": "code",
   "execution_count": null,
   "id": "0f0f23b0",
   "metadata": {},
   "outputs": [],
   "source": [
    "# Add research df and combine into a single df.\n",
    "portfolio_stats_dfs[\"research\"] = research_portfolio_stats_df\n",
    "portfolio_stats_df = pd.concat(portfolio_stats_dfs, axis=1)\n",
    "#\n",
    "hpandas.df_to_str(portfolio_stats_df[[\"prod\", \"research\"]], num_rows=5, log_level=logging.INFO)"
   ]
  },
  {
   "cell_type": "code",
   "execution_count": null,
   "id": "dbd0bd6a",
   "metadata": {},
   "outputs": [],
   "source": [
    "bars_to_burn = 1\n",
    "coplotti.plot_portfolio_stats(portfolio_stats_df.iloc[bars_to_burn:])"
   ]
  },
  {
   "cell_type": "code",
   "execution_count": null,
   "id": "dffbbc75",
   "metadata": {},
   "outputs": [],
   "source": [
    "stats_computer = dtfmod.StatsComputer()\n",
    "stats_sxs, _ = stats_computer.compute_portfolio_stats(\n",
    "    portfolio_stats_df.iloc[bars_to_burn:], config[\"meta\"][\"bar_duration\"]\n",
    ")\n",
    "display(stats_sxs)"
   ]
  },
  {
   "cell_type": "markdown",
   "id": "68b21fbb",
   "metadata": {},
   "source": [
    "# Load forecast dataframes"
   ]
  },
  {
   "cell_type": "code",
   "execution_count": null,
   "id": "a568290c",
   "metadata": {},
   "outputs": [],
   "source": [
    "prod_target_position_df = oms.load_target_positions(\n",
    "    portfolio_path_dict[\"prod\"].strip(\"portfolio\"),\n",
    "    start_timestamp,\n",
    "    end_timestamp,\n",
    "    config[\"meta\"][\"bar_duration\"],\n",
    "    normalize_bar_times=True\n",
    ")\n",
    "\n",
    "sim_target_position_df = oms.load_target_positions(\n",
    "    portfolio_path_dict[\"sim\"].strip(\"portfolio\"),\n",
    "    start_timestamp,\n",
    "    end_timestamp,\n",
    "    config[\"meta\"][\"bar_duration\"],\n",
    "    normalize_bar_times=True\n",
    ")"
   ]
  },
  {
   "cell_type": "code",
   "execution_count": null,
   "id": "0c48bca8",
   "metadata": {},
   "outputs": [],
   "source": [
    "print(\"# prod_target_pos_df\")\n",
    "_ = hpandas.multiindex_df_info(prod_target_position_df, max_num=None)\n",
    "\n",
    "print(\"\\n# research_portfolio_df\")\n",
    "_ = hpandas.multiindex_df_info(research_portfolio_df, max_num=None)"
   ]
  },
  {
   "cell_type": "code",
   "execution_count": null,
   "id": "05290dd2",
   "metadata": {},
   "outputs": [],
   "source": [
    "column = \"prediction\"\n",
    "prod_df = prod_target_position_df[column]\n",
    "display(prod_df.head(2))\n",
    "res_df = research_portfolio_df[column]\n",
    "display(res_df.head(2))\n",
    "\n",
    "# Compute percentage difference.\n",
    "compare_visually_dataframes_kwargs = {\n",
    "    \"diff_mode\": \"pct_change\",\n",
    "    \"background_gradient\": False,\n",
    "}\n",
    "diff_df = hpandas.compare_visually_dataframes(\n",
    "    prod_df,\n",
    "    res_df,\n",
    "    **compare_visually_dataframes_kwargs,\n",
    ")\n",
    "# Remove the sign and NaNs.\n",
    "diff_df = diff_df.replace([np.inf, -np.inf], np.nan).abs()\n",
    "# Check that data is the same.\n",
    "print(diff_df.max().max())\n",
    "hpandas.heatmap_df(diff_df.round(2))"
   ]
  },
  {
   "cell_type": "markdown",
   "id": "b3ddc1b3",
   "metadata": {},
   "source": [
    "## Price"
   ]
  },
  {
   "cell_type": "code",
   "execution_count": null,
   "id": "73b5070e",
   "metadata": {},
   "outputs": [],
   "source": [
    "prod_df = prod_target_position_df[\"price\"]\n",
    "display(prod_df.head(3))\n",
    "res_df = research_portfolio_df[\"price\"]\n",
    "display(res_df.head(3))\n",
    "\n",
    "# Compute percentage difference.\n",
    "compare_visually_dataframes_kwargs = {\n",
    "    \"diff_mode\": \"pct_change\",\n",
    "    \"background_gradient\": False,\n",
    "    \"log_level\": logging.INFO,\n",
    "}\n",
    "diff_df = hpandas.compare_visually_dataframes(\n",
    "    prod_df,\n",
    "    res_df,\n",
    "    **compare_visually_dataframes_kwargs,\n",
    ")\n",
    "# # Remove the sign and NaNs.\n",
    "# diff_df = diff_df.replace([np.inf, -np.inf], np.nan).abs()\n",
    "# # Check that data is the same.\n",
    "# print(diff_df.max().max())\n",
    "display(hpandas.heatmap_df(diff_df.round(2)))"
   ]
  },
  {
   "cell_type": "markdown",
   "id": "5e29d3a1",
   "metadata": {},
   "source": [
    "## Volatility"
   ]
  },
  {
   "cell_type": "code",
   "execution_count": null,
   "id": "10e9e6cb",
   "metadata": {},
   "outputs": [],
   "source": [
    "prod_df = prod_target_position_df[\"volatility\"]\n",
    "display(prod_df.head(2))\n",
    "res_df = research_portfolio_df[\"volatility\"]\n",
    "display(res_df.head(2))\n",
    "\n",
    "# Compute percentage difference.\n",
    "compare_visually_dataframes_kwargs = {\n",
    "    \"diff_mode\": \"pct_change\",\n",
    "    \"background_gradient\": False,\n",
    "    \"log_level\": logging.INFO,\n",
    "}\n",
    "diff_df = hpandas.compare_visually_dataframes(\n",
    "    prod_df,\n",
    "    res_df,\n",
    "    **compare_visually_dataframes_kwargs,\n",
    ")\n",
    "# # Remove the sign and NaNs.\n",
    "# diff_df = diff_df.replace([np.inf, -np.inf], np.nan).abs()\n",
    "# # Check that data is the same.\n",
    "# print(diff_df.max().max())\n",
    "display(hpandas.heatmap_df(diff_df.round(2)))"
   ]
  },
  {
   "cell_type": "markdown",
   "id": "a068c25e",
   "metadata": {},
   "source": [
    "## Target holdings"
   ]
  },
  {
   "cell_type": "code",
   "execution_count": null,
   "id": "4191e827",
   "metadata": {},
   "outputs": [],
   "source": [
    "prod_df = prod_target_position_df[\"target_holdings_shares\"].shift(1)\n",
    "display(prod_df.head(5))\n",
    "\n",
    "res_df = research_portfolio_df[\"holdings_shares\"]\n",
    "display(res_df.head(5))\n",
    "\n",
    "# Compute percentage difference.\n",
    "compare_visually_dataframes_kwargs = {\n",
    "    \"diff_mode\": \"pct_change\",\n",
    "    \"background_gradient\": False,\n",
    "    \"log_level\": logging.INFO,\n",
    "}\n",
    "diff_df = hpandas.compare_visually_dataframes(\n",
    "    prod_df,\n",
    "    res_df,\n",
    "    **compare_visually_dataframes_kwargs,\n",
    ")\n",
    "# # Remove the sign and NaNs.\n",
    "# diff_df = diff_df.replace([np.inf, -np.inf], np.nan).abs()\n",
    "# # Check that data is the same.\n",
    "# #diff_df.max().max()\n",
    "display(hpandas.heatmap_df(diff_df.round(2)))"
   ]
  },
  {
   "cell_type": "markdown",
   "id": "c4bc355f",
   "metadata": {},
   "source": [
    "## Holdings"
   ]
  },
  {
   "cell_type": "code",
   "execution_count": null,
   "id": "056b59c8",
   "metadata": {},
   "outputs": [],
   "source": [
    "display(prod_target_position_df[\"target_holdings_shares\"].head(5))\n",
    "\n",
    "display(research_portfolio_df[\"holdings_shares\"].head(5))"
   ]
  },
  {
   "cell_type": "code",
   "execution_count": null,
   "id": "7a998a9f",
   "metadata": {},
   "outputs": [],
   "source": [
    "prod_df = prod_target_position_df[\"holdings_shares\"]\n",
    "display(prod_df.head(5))\n",
    "\n",
    "res_df = research_portfolio_df[\"holdings_shares\"]\n",
    "display(res_df.head(5))\n",
    "\n",
    "# Compute percentage difference.\n",
    "compare_visually_dataframes_kwargs = {\n",
    "    \"diff_mode\": \"pct_change\",\n",
    "    \"background_gradient\": False,\n",
    "    \"log_level\": logging.INFO,\n",
    "    \"assert_diff_threshold\": None,\n",
    "}\n",
    "diff_df = hpandas.compare_visually_dataframes(\n",
    "    prod_df,\n",
    "    res_df,\n",
    "    **compare_visually_dataframes_kwargs,\n",
    ")\n",
    "# # Remove the sign and NaNs.\n",
    "# diff_df = diff_df.replace([np.inf, -np.inf], np.nan).abs()\n",
    "# # Check that data is the same.\n",
    "# #diff_df.max().max()\n",
    "display(hpandas.heatmap_df(diff_df.round(2)))"
   ]
  },
  {
   "cell_type": "code",
   "execution_count": null,
   "id": "7e4b9e82",
   "metadata": {},
   "outputs": [],
   "source": [
    "pd.read_csv(\"/app/amp/oms/notebooks/orders_to_remove.csv\", index_col=0)"
   ]
  },
  {
   "cell_type": "code",
   "execution_count": null,
   "id": "3f23c74d",
   "metadata": {},
   "outputs": [],
   "source": [
    "(diff_df.replace(np.nan, 0).abs() > 1).to_csv(\"orders_to_remove.csv\")"
   ]
  },
  {
   "cell_type": "code",
   "execution_count": null,
   "id": "a472946c",
   "metadata": {},
   "outputs": [],
   "source": [
    "((prod_target_position_df[\"target_trades_shares\"] * prod_target_position_df[\"price\"]).abs() < 5.0).sum().sum()"
   ]
  },
  {
   "cell_type": "code",
   "execution_count": null,
   "id": "e0572403",
   "metadata": {},
   "outputs": [],
   "source": [
    "mask = prod_target_position_df[\"target_trades_notional\"].abs() < 10\n",
    "prod_target_position_df[\"target_trades_notional\"][mask]\n",
    "#mask.sum()"
   ]
  },
  {
   "cell_type": "code",
   "execution_count": null,
   "id": "7867cb6b",
   "metadata": {},
   "outputs": [],
   "source": [
    "display(prod_target_position_df[\"holdings_shares\"].dropna().head(10))\n",
    "\n",
    "display(research_portfolio_df[\"holdings_shares\"].dropna().head(10))"
   ]
  },
  {
   "cell_type": "markdown",
   "id": "d3ce6c81",
   "metadata": {},
   "source": [
    "# Compare prices"
   ]
  },
  {
   "cell_type": "code",
   "execution_count": null,
   "id": "441c9de6",
   "metadata": {},
   "outputs": [],
   "source": [
    "if False:\n",
    "    # Select a specific node and timestamp to analyze.\n",
    "    #log_level = logging.INFO\n",
    "    log_level = logging.DEBUG\n",
    "    dag_node_names = oms.get_dag_node_names(dag_path_dict[\"prod\"], log_level=log_level)\n",
    "    #dag_node_name = dag_node_names[-1]\n",
    "    dag_node_name = \"predict.0.read_data\"\n",
    "    print(hprint.to_str(\"dag_node_name\"))\n",
    "\n",
    "    dag_node_timestamps = oms.get_dag_node_timestamps(\n",
    "        dag_path_dict[\"prod\"], dag_node_name, as_timestamp=True, log_level=log_level\n",
    "    )\n",
    "\n",
    "    dag_node_timestamp = dag_node_timestamps[-1]\n",
    "    print(\"dag_node_timestamp=%s\" % dag_node_timestamp)\n",
    "\n",
    "\n",
    "    # Load DAG output for different experiments.\n",
    "    dag_df_dict = oms.load_dag_outputs(dag_path_dict, dag_node_name, dag_node_timestamp, \n",
    "                                       start_timestamp, end_timestamp,\n",
    "                                       log_level=logging.INFO)\n",
    "\n",
    "\n",
    "    asset_id = 1030828978\n",
    "    #asset_id = 1464553467\n",
    "    dag_df_dict[\"prod\"][\"close\"][asset_id]\n",
    "\n",
    "    # 2022-10-28 06:11:00-04:00    0.4798\n",
    "    # 2022-10-28 06:12:00-04:00    0.4802\n",
    "    # 2022-10-28 06:13:00-04:00    0.4807\n",
    "    # 2022-10-28 06:14:00-04:00    0.4809\n",
    "    # 2022-10-28 06:15:00-04:00    0.4808\n",
    "\n",
    "    print(dag_df_dict[\"prod\"][\"close\"][asset_id][\"2022-10-28 06:12:00-04:00\": '2022-10-28 06:16:00-04:00'].mean())\n",
    "    print(dag_df_dict[\"prod\"][\"close\"][asset_id][\"2022-10-28 06:11:00-04:00\": '2022-10-28 06:15:00-04:00'].mean())\n",
    "\n",
    "    # Get the real-time `ImClient`.\n",
    "    # TODO(Grisha): ideally we should get the values from the config.\n",
    "    resample_1min = False\n",
    "    env_file = imvimlita.get_db_env_path(\"dev\")\n",
    "    connection_params = hsql.get_connection_info_from_env_file(env_file)\n",
    "    db_connection = hsql.get_connection(*connection_params)\n",
    "    table_name = \"ccxt_ohlcv_futures\"\n",
    "    #\n",
    "    im_client = icdcl.CcxtSqlRealTimeImClient(\n",
    "        resample_1min, db_connection, table_name\n",
    "    )\n",
    "\n",
    "    # Load the data for the reconciliation date.\n",
    "    # `ImClient` operates in UTC timezone.\n",
    "    start_ts = pd.Timestamp(\"2022-10-28 06:10:00\", tz=\"America/New_York\")\n",
    "    end_ts = start_ts + pd.Timedelta(days=1)\n",
    "    columns = None\n",
    "    filter_data_mode = \"assert\"\n",
    "    full_symbols = [\"binance::GMT_USDT\"]\n",
    "    df = im_client.read_data(\n",
    "        full_symbols, start_ts, end_ts, columns, filter_data_mode\n",
    "    )\n",
    "    hpandas.df_to_str(df.head(10), num_rows=None, log_level=logging.INFO)"
   ]
  },
  {
   "cell_type": "markdown",
   "id": "7c379dba",
   "metadata": {},
   "source": [
    "# Compare pairwise portfolio correlations"
   ]
  },
  {
   "cell_type": "code",
   "execution_count": null,
   "id": "2f2495b0",
   "metadata": {},
   "outputs": [],
   "source": [
    "research_portfolio_df[\"holdings_shares\"].head(10)"
   ]
  },
  {
   "cell_type": "code",
   "execution_count": null,
   "id": "7f93275d",
   "metadata": {},
   "outputs": [],
   "source": [
    "dtfmod.compute_correlations(\n",
    "    research_portfolio_df,\n",
    "    portfolio_dfs[\"prod\"],\n",
    "    allow_unequal_indices=True,\n",
    "    allow_unequal_columns=True,\n",
    ")"
   ]
  },
  {
   "cell_type": "code",
   "execution_count": null,
   "id": "da7de0de",
   "metadata": {},
   "outputs": [],
   "source": [
    "dtfmod.compute_correlations(\n",
    "    portfolio_dfs[\"prod\"],\n",
    "    portfolio_dfs[\"sim\"],\n",
    "    allow_unequal_indices=False,\n",
    "    allow_unequal_columns=False,\n",
    ")"
   ]
  },
  {
   "cell_type": "code",
   "execution_count": null,
   "id": "8357524e",
   "metadata": {},
   "outputs": [],
   "source": [
    "# Analyze per stock\n",
    "\n",
    "# TODO(gp): Chack amp Master looking for get_asset_slice \n",
    "\n",
    "def plot_together(df1, df2, suffix):\n",
    "    df1 = pd.DataFrame(df1)\n",
    "    df2 = pd.DataFrame(df2)\n",
    "    df = df1.merge(df2,\n",
    "                   left_index=True, right_index=True, \n",
    "                   how=\"outer\", suffixes=suffix)\n",
    "    return df\n",
    "    \n",
    "\n",
    "asset_id = 1966583502\n",
    "#display(oms.get_asset_slice(research_portfolio_df, asset_id).head(5))\n",
    "\n",
    "#display(oms.get_asset_slice(portfolio_dfs[\"prod\"], asset_id).head(5))\n",
    "\n",
    "def add_prices(df):\n",
    "    df = pd.DataFrame(df)\n",
    "    df[\"computed_price\"] = df[\"holdings_notional\"] / df[\"holdings_shares\"]\n",
    "    return df\n",
    "\n",
    "\n",
    "#research_portfolio_df = add_prices(research_portfolio_df)\n",
    "#portfolio_dfs[\"prod\"] = add_prices(portfolio_dfs[\"prod\"])\n",
    "\n",
    "#column = \"executed_trades_notional\"\n",
    "column = \"holdings_notional\"\n",
    "#column = \"computed_price\"\n",
    "df1 = oms.get_asset_slice(research_portfolio_df, asset_id)\n",
    "df1 = add_prices(df1)\n",
    "\n",
    "df2 = oms.get_asset_slice(portfolio_dfs[\"prod\"], asset_id)\n",
    "df2 = add_prices(df2)\n",
    "\n",
    "df = plot_together(df1, df2, [\"_res\", \"_prod\"])\n",
    "#display(df.head(3))\n",
    "#df = df[[\"price\", \"computed_price_res\", \"computed_price_prod\"]].pct_change()\n",
    "#df = df[[\"price\", \"computed_price_res\", \"computed_price_prod\"]]\n",
    "#df = df[[\"pnl_res\", \"pnl_prod\"]]\n",
    "df = df[[\"holdings_notional_res\", \"holdings_notional_prod\"]]\n",
    "display(df)\n",
    "#df.plot()\n",
    "\n",
    "#df.plot()"
   ]
  },
  {
   "cell_type": "code",
   "execution_count": null,
   "id": "64420d68",
   "metadata": {},
   "outputs": [],
   "source": [
    "dtfmod.compute_correlations(\n",
    "    research_portfolio_df,\n",
    "    portfolio_dfs[\"sim\"],\n",
    "    allow_unequal_indices=True,\n",
    "    allow_unequal_columns=True,\n",
    ")"
   ]
  },
  {
   "cell_type": "code",
   "execution_count": null,
   "id": "179471e2",
   "metadata": {},
   "outputs": [],
   "source": [
    "research_portfolio_df[\"holdings_shares\"].head(10)"
   ]
  },
  {
   "cell_type": "markdown",
   "id": "8398e784",
   "metadata": {},
   "source": [
    "# Orders"
   ]
  },
  {
   "cell_type": "code",
   "execution_count": null,
   "id": "fc9b21fe",
   "metadata": {},
   "outputs": [],
   "source": [
    "prod_order_df = oms.TargetPositionAndOrderGenerator.load_orders(\n",
    "    portfolio_path_dict[\"prod\"].strip(\"portfolio\"),\n",
    ")\n",
    "hpandas.df_to_str(prod_order_df, log_level=logging.INFO)"
   ]
  },
  {
   "cell_type": "code",
   "execution_count": null,
   "id": "6c85a25c",
   "metadata": {},
   "outputs": [],
   "source": [
    "sim_order_df = oms.TargetPositionAndOrderGenerator.load_orders(\n",
    "    portfolio_path_dict[\"sim\"].strip(\"portfolio\"),\n",
    ")\n",
    "hpandas.df_to_str(sim_order_df, log_level=logging.INFO)"
   ]
  },
  {
   "cell_type": "code",
   "execution_count": null,
   "id": "23640f8b",
   "metadata": {},
   "outputs": [],
   "source": [
    "prod_order_df.groupby([\"creation_timestamp\", \"asset_id\"]).count()"
   ]
  },
  {
   "cell_type": "code",
   "execution_count": null,
   "id": "1ee721f9",
   "metadata": {},
   "outputs": [],
   "source": [
    "asset_id = 6051632686\n",
    "\n",
    "mask = prod_order_df[\"asset_id\"] == asset_id\n",
    "prod_order_df[mask].head(6)"
   ]
  },
  {
   "cell_type": "markdown",
   "id": "cf15994a",
   "metadata": {},
   "source": [
    "## Target vs executed"
   ]
  },
  {
   "cell_type": "code",
   "execution_count": null,
   "id": "220d9a89",
   "metadata": {},
   "outputs": [],
   "source": [
    "#df1 = prod_target_position_df[\"target_holdings_shares\"][asset_id].shift(1)\n",
    "#df2 = prod_target_position_df[\"holdings_shares\"][asset_id]\n",
    "\n",
    "df1 = prod_target_position_df[\"target_holdings_shares\"].shift(1)\n",
    "df2 = prod_target_position_df[\"holdings_shares\"]\n",
    "\n",
    "#df1\n",
    "df1 - df2"
   ]
  },
  {
   "cell_type": "code",
   "execution_count": null,
   "id": "5fe26a5a",
   "metadata": {},
   "outputs": [],
   "source": [
    "#display(prod_target_position_df[\"holdings_shares\"].loc[\"2022-11-01 09:10:00-04:00\"])\n",
    "#display(prod_target_position_df[\"target_holdings_shares\"].loc[\"2022-11-01 09:10:00-04:00\"])"
   ]
  },
  {
   "cell_type": "code",
   "execution_count": null,
   "id": "2f76b46a",
   "metadata": {},
   "outputs": [],
   "source": [
    "# We are getting the fills that correspond to the orders and to the change of holdings.\n",
    "prod_target_position_df[\"holdings_shares\"][asset_id].diff()"
   ]
  },
  {
   "cell_type": "markdown",
   "id": "4729ec42",
   "metadata": {},
   "source": [
    "# Fill stats"
   ]
  },
  {
   "cell_type": "code",
   "execution_count": null,
   "id": "d6cc80f5",
   "metadata": {},
   "outputs": [],
   "source": [
    "fills = oms.compute_fill_stats(prod_target_position_df)\n",
    "fills[\"underfill_share_count\"].plot()"
   ]
  },
  {
   "cell_type": "code",
   "execution_count": null,
   "id": "3a2876ca",
   "metadata": {},
   "outputs": [],
   "source": [
    "fills[\"underfill_share_count\"].round(4)"
   ]
  },
  {
   "cell_type": "code",
   "execution_count": null,
   "id": "8627c1ea",
   "metadata": {},
   "outputs": [],
   "source": [
    "print(fills.columns.levels[0])\n",
    "fills[\"tracking_error_shares\"]\n",
    "\n",
    "# TODO(gp): Add a check to ensure that this is never positive."
   ]
  },
  {
   "cell_type": "code",
   "execution_count": null,
   "id": "5bd5c703",
   "metadata": {},
   "outputs": [],
   "source": [
    "fills[\"fill_rate\"].head()"
   ]
  },
  {
   "cell_type": "code",
   "execution_count": null,
   "id": "e8a6a04c",
   "metadata": {},
   "outputs": [],
   "source": [
    "fills[\"fill_rate\"].plot()"
   ]
  },
  {
   "cell_type": "markdown",
   "id": "df8b4370",
   "metadata": {},
   "source": [
    "# Slippage"
   ]
  },
  {
   "cell_type": "code",
   "execution_count": null,
   "id": "20e7c397",
   "metadata": {},
   "outputs": [],
   "source": [
    "slippage = oms.compute_share_prices_and_slippage(portfolio_dfs[\"prod\"])\n",
    "slippage[\"slippage_in_bps\"].plot()"
   ]
  },
  {
   "cell_type": "code",
   "execution_count": null,
   "id": "eb8b13a6",
   "metadata": {},
   "outputs": [],
   "source": [
    "slippage[\"slippage_in_bps\"].stack().hist(bins=31)"
   ]
  },
  {
   "cell_type": "markdown",
   "id": "4e0397c0",
   "metadata": {},
   "source": [
    "# TCA"
   ]
  },
  {
   "cell_type": "code",
   "execution_count": null,
   "id": "1e27d923",
   "metadata": {},
   "outputs": [],
   "source": [
    "if config[\"meta\"][\"run_tca\"]:\n",
    "    tca = cofinanc.load_and_normalize_tca_csv(tca_csv)\n",
    "    tca = cofinanc.compute_tca_price_annotations(tca, True)\n",
    "    tca = cofinanc.pivot_and_accumulate_holdings(tca, \"\")"
   ]
  },
  {
   "cell_type": "markdown",
   "id": "a3c21bed",
   "metadata": {},
   "source": [
    "# Total cost accounting"
   ]
  },
  {
   "cell_type": "code",
   "execution_count": null,
   "id": "721b0388",
   "metadata": {},
   "outputs": [],
   "source": [
    "notional_costs = oms.compute_notional_costs(\n",
    "    portfolio_dfs[\"prod\"],\n",
    "    target_position_dfs[\"prod\"], \n",
    ")"
   ]
  },
  {
   "cell_type": "code",
   "execution_count": null,
   "id": "6bea3587",
   "metadata": {},
   "outputs": [],
   "source": [
    "notional_costs.head()"
   ]
  },
  {
   "cell_type": "code",
   "execution_count": null,
   "id": "2c52ad87",
   "metadata": {},
   "outputs": [],
   "source": [
    "notional_costs[\"slippage_notional\"].stack().hist(bins=101)"
   ]
  },
  {
   "cell_type": "code",
   "execution_count": null,
   "id": "1efc044f",
   "metadata": {},
   "outputs": [],
   "source": [
    "notional_costs[\"slippage_notional\"].sum().sum()"
   ]
  },
  {
   "cell_type": "code",
   "execution_count": null,
   "id": "1a1eda2e",
   "metadata": {},
   "outputs": [],
   "source": [
    "notional_costs[\"underfill_notional_cost\"].stack().hist(bins=31, log=True)"
   ]
  },
  {
   "cell_type": "code",
   "execution_count": null,
   "id": "4fd42226",
   "metadata": {},
   "outputs": [],
   "source": [
    "notional_costs[\"underfill_notional_cost\"].sum().sum()"
   ]
  },
  {
   "cell_type": "code",
   "execution_count": null,
   "id": "7f7b0146",
   "metadata": {},
   "outputs": [],
   "source": [
    "cost_df = oms.apply_costs_to_baseline(\n",
    "    portfolio_stats_dfs[\"research\"],\n",
    "    portfolio_stats_dfs[\"prod\"],\n",
    "    portfolio_dfs[\"prod\"],\n",
    "    target_position_dfs[\"prod\"], \n",
    ")"
   ]
  },
  {
   "cell_type": "code",
   "execution_count": null,
   "id": "b5c4a5cf",
   "metadata": {},
   "outputs": [],
   "source": [
    "cost_df.plot()"
   ]
  },
  {
   "cell_type": "code",
   "execution_count": null,
   "id": "24ade15d",
   "metadata": {},
   "outputs": [],
   "source": [
    "cost_df[[\"baseline_pnl_minus_costs_minus_pnl\", \"underfill_notional_cost\", \"slippage_notional\"]].iloc[2:].plot()"
   ]
  },
  {
   "cell_type": "markdown",
   "id": "eb65e3f0",
   "metadata": {},
   "source": [
    "# Multiday reconciliation"
   ]
  },
  {
   "cell_type": "code",
   "execution_count": null,
   "id": "9d8d43c5",
   "metadata": {},
   "outputs": [],
   "source": [
    "date_strs = oms.get_dir_dates(root_dir)\n",
    "display(date_strs)"
   ]
  },
  {
   "cell_type": "code",
   "execution_count": null,
   "id": "c902ae8b",
   "metadata": {},
   "outputs": [],
   "source": [
    "(\n",
    "    dag_df,\n",
    "    portfolio_df,\n",
    "    portfolio_stats_df,\n",
    "    target_position_df,\n",
    "    slippage_df,\n",
    "    fills_df,\n",
    ") = oms.load_and_process_artifacts(root_dir, date_strs, search_str, \"prod\", \"15T\")"
   ]
  },
  {
   "cell_type": "code",
   "execution_count": null,
   "id": "24311e1a",
   "metadata": {},
   "outputs": [],
   "source": [
    "fep_dict"
   ]
  },
  {
   "cell_type": "code",
   "execution_count": null,
   "id": "513cc175",
   "metadata": {},
   "outputs": [],
   "source": [
    "research_portfolio_df, research_portfolio_stats_df = fep.annotate_forecasts(\n",
    "    dag_df,\n",
    "    quantization=\"nearest_share\",\n",
    "    target_gmv=20000.,\n",
    "    compute_extended_stats=True,\n",
    ")"
   ]
  },
  {
   "cell_type": "code",
   "execution_count": null,
   "id": "859ae361",
   "metadata": {},
   "outputs": [],
   "source": [
    "research_portfolio_stats_df[\"pnl\"].resample(\"B\").sum().cumsum().plot()"
   ]
  },
  {
   "cell_type": "markdown",
   "id": "4eaa8977",
   "metadata": {},
   "source": [
    "# Total cost accounting"
   ]
  },
  {
   "cell_type": "code",
   "execution_count": null,
   "id": "d97fce79",
   "metadata": {},
   "outputs": [],
   "source": [
    "notional_costs = oms.compute_notional_costs(\n",
    "    portfolio_dfs[\"prod\"],\n",
    "    target_position_dfs[\"prod\"],\n",
    ")"
   ]
  },
  {
   "cell_type": "code",
   "execution_count": null,
   "id": "b5dcb9bf",
   "metadata": {},
   "outputs": [],
   "source": [
    "notional_costs.head()"
   ]
  },
  {
   "cell_type": "code",
   "execution_count": null,
   "id": "ccdedd4f",
   "metadata": {},
   "outputs": [],
   "source": [
    "notional_costs[\"slippage_notional\"].stack().hist(bins=101)"
   ]
  },
  {
   "cell_type": "code",
   "execution_count": null,
   "id": "614979d5",
   "metadata": {},
   "outputs": [],
   "source": [
    "notional_costs[\"slippage_notional\"].sum().sum()"
   ]
  },
  {
   "cell_type": "code",
   "execution_count": null,
   "id": "7d07a889",
   "metadata": {},
   "outputs": [],
   "source": [
    "notional_costs[\"underfill_notional_cost\"].stack().hist(bins=31, log=True)"
   ]
  },
  {
   "cell_type": "code",
   "execution_count": null,
   "id": "a3c07867",
   "metadata": {},
   "outputs": [],
   "source": [
    "notional_costs[\"underfill_notional_cost\"].sum().sum()"
   ]
  },
  {
   "cell_type": "code",
   "execution_count": null,
   "id": "d56fcab2",
   "metadata": {},
   "outputs": [],
   "source": [
    "cost_df = oms.apply_costs_to_baseline(\n",
    "    portfolio_stats_dfs[\"research\"],\n",
    "    portfolio_stats_dfs[\"prod\"],\n",
    "    portfolio_dfs[\"prod\"],\n",
    "    target_position_dfs[\"prod\"],\n",
    ")"
   ]
  }
 ],
 "metadata": {
  "kernelspec": {
   "display_name": "Python 3 (ipykernel)",
   "language": "python",
   "name": "python3"
  },
  "language_info": {
   "codemirror_mode": {
    "name": "ipython",
    "version": 3
   },
   "file_extension": ".py",
   "mimetype": "text/x-python",
   "name": "python",
   "nbconvert_exporter": "python",
   "pygments_lexer": "ipython3"
  },
  "toc": {
   "base_numbering": 1,
   "nav_menu": {},
   "number_sections": true,
   "sideBar": true,
   "skip_h1_title": false,
   "title_cell": "Table of Contents",
   "title_sidebar": "Contents",
   "toc_cell": false,
   "toc_position": {
    "height": "calc(100% - 180px)",
    "left": "10px",
    "top": "150px",
    "width": "373.594px"
   },
   "toc_section_display": true,
   "toc_window_display": true
  }
 },
 "nbformat": 4,
 "nbformat_minor": 5
}
