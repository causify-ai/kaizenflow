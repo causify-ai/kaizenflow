{
 "cells": [
  {
   "cell_type": "code",
   "execution_count": null,
   "id": "a160c995",
   "metadata": {},
   "outputs": [],
   "source": [
    "%load_ext autoreload\n",
    "%autoreload 2\n",
    "%matplotlib inline"
   ]
  },
  {
   "cell_type": "code",
   "execution_count": null,
   "id": "2b704896",
   "metadata": {},
   "outputs": [],
   "source": [
    "import logging\n",
    "import os\n",
    "from typing import List, Tuple\n",
    "\n",
    "import pandas as pd\n",
    "\n",
    "import core.config as cconfig\n",
    "import core.finance as cofinanc\n",
    "import core.plotting as coplotti\n",
    "import dataflow.model as dtfmod\n",
    "import helpers.hdbg as hdbg\n",
    "import helpers.henv as henv\n",
    "import helpers.hpandas as hpandas\n",
    "import helpers.hprint as hprint\n",
    "import helpers.hsystem as hsystem\n",
    "import oms as oms"
   ]
  },
  {
   "cell_type": "code",
   "execution_count": null,
   "id": "76a947e8",
   "metadata": {},
   "outputs": [],
   "source": [
    "hdbg.init_logger(verbosity=logging.INFO)\n",
    "\n",
    "_LOG = logging.getLogger(__name__)\n",
    "\n",
    "_LOG.info(\"%s\", henv.get_system_signature()[0])\n",
    "\n",
    "hprint.config_notebook()"
   ]
  },
  {
   "cell_type": "code",
   "execution_count": null,
   "id": "b9a3bf8e",
   "metadata": {},
   "outputs": [],
   "source": [
    "config = cconfig.Config.from_env_var(\"AM_CONFIG_CODE\")\n",
    "if config is None:\n",
    "    date_str = \"20221004\"\n",
    "    #asset_class = \"equities\"\n",
    "    asset_class = \"crypto\"\n",
    "    config = oms.get_reconciliation_config(date_str, asset_class)\n",
    "print(config)"
   ]
  },
  {
   "cell_type": "markdown",
   "id": "8306d378",
   "metadata": {},
   "source": [
    "# Specify data to load"
   ]
  },
  {
   "cell_type": "code",
   "execution_count": null,
   "id": "b6a0f9a0",
   "metadata": {},
   "outputs": [],
   "source": [
    "# TODO(Grisha): factor out common code.\n",
    "prod_dir = config[\"load_data_config\"][\"prod_dir\"]\n",
    "print(prod_dir)\n",
    "hdbg.dassert(prod_dir)\n",
    "hdbg.dassert_dir_exists(prod_dir)\n",
    "\n",
    "cand_dir = config[\"load_data_config\"][\"cand_dir\"]\n",
    "print(cand_dir)\n",
    "hdbg.dassert(cand_dir)\n",
    "hdbg.dassert_dir_exists(cand_dir)\n",
    "\n",
    "sim_dir = config[\"load_data_config\"][\"sim_dir\"]\n",
    "print(sim_dir)\n",
    "hdbg.dassert(sim_dir)\n",
    "hdbg.dassert_dir_exists(sim_dir)"
   ]
  },
  {
   "cell_type": "code",
   "execution_count": null,
   "id": "ccfe6853",
   "metadata": {},
   "outputs": [],
   "source": [
    "# TODO(Grisha): factor out common code.\n",
    "\n",
    "prod_portfolio_dir = os.path.join(prod_dir, \"process_forecasts/portfolio\")\n",
    "hdbg.dassert_dir_exists(prod_portfolio_dir)\n",
    "print(\"prod_portfolio_dir=\", prod_portfolio_dir)\n",
    "prod_dag_dir = os.path.join(prod_dir, \"dag/node_io/node_io.data\")\n",
    "hdbg.dassert_dir_exists(prod_dag_dir)\n",
    "#\n",
    "cand_portfolio_dir = os.path.join(cand_dir, \"process_forecasts/portfolio\")\n",
    "hdbg.dassert_dir_exists(cand_portfolio_dir)\n",
    "print(\"cand_portfolio_dir=\", cand_portfolio_dir)\n",
    "cand_dag_dir = os.path.join(cand_dir, \"dag/node_io/node_io.data\")\n",
    "hdbg.dassert_dir_exists(cand_dag_dir)\n",
    "#\n",
    "sim_portfolio_dir = os.path.join(sim_dir, \"process_forecasts/portfolio\")\n",
    "hdbg.dassert_dir_exists(sim_portfolio_dir)\n",
    "print(\"sim_portfolio_dir=\", sim_portfolio_dir)\n",
    "sim_dag_dir = os.path.join(sim_dir, \"dag/node_io/node_io.data\")\n",
    "hdbg.dassert_dir_exists(sim_dag_dir)\n",
    "\n",
    "# TODO(gp): Load the TCA data for crypto.\n",
    "if config[\"meta\"][\"run_tca\"]:\n",
    "    tca_csv = os.path.join(root_dir, date_str, \"tca/sau1_tca.csv\")\n",
    "    hdbg.dassert_file_exists(tca_csv)"
   ]
  },
  {
   "cell_type": "code",
   "execution_count": null,
   "id": "a6818dd6",
   "metadata": {},
   "outputs": [],
   "source": [
    "portfolio_path_dict = {\n",
    "    \"prod\": prod_portfolio_dir,\n",
    "    \"cand\": cand_portfolio_dir,\n",
    "    \"sim\": sim_portfolio_dir,\n",
    "}"
   ]
  },
  {
   "cell_type": "code",
   "execution_count": null,
   "id": "26b982b6",
   "metadata": {},
   "outputs": [],
   "source": [
    "# TODO(gp): @Grisha infer this from the data from df.\n",
    "\n",
    "start_timestamp = pd.Timestamp(date_str + \" 10:05:00\", tz=\"America/New_York\")\n",
    "_LOG.info(\"start_timestamp=%s\", start_timestamp)\n",
    "end_timestamp = pd.Timestamp(date_str + \" 12:00:00\", tz=\"America/New_York\")\n",
    "_LOG.info(\"end_timestamp=%s\", end_timestamp)"
   ]
  },
  {
   "cell_type": "markdown",
   "id": "6ba15119",
   "metadata": {},
   "source": [
    "# Compare DAG io"
   ]
  },
  {
   "cell_type": "code",
   "execution_count": null,
   "id": "0b3f7c21",
   "metadata": {},
   "outputs": [],
   "source": [
    "def get_latest_output_from_last_dag_node(dag_dir: str) -> pd.DataFrame:\n",
    "    \"\"\"\n",
    "    Retrieve the most recent output from the last DAG node.\n",
    "\n",
    "    This function relies on our file naming conventions.\n",
    "    \"\"\"\n",
    "    parquet_files = list(filter(lambda x: \"parquet\" in x, sorted(os.listdir(cand_dag_dir))))\n",
    "    _LOG.info(\"Tail of files found=%s\", parquet_files[-3:])\n",
    "    file_name = parquet_files[-1]\n",
    "    _LOG.info(\"DAG file selected=%s\", file_name)\n",
    "    dag_parquet_path = os.path.join(cand_dag_dir, file_name)\n",
    "    # _LOG.info(\"DAG parquet path=%s\", dag_parquet_path)\n",
    "    dag_df = pd.read_parquet(dag_parquet_path)\n",
    "    return dag_df"
   ]
  },
  {
   "cell_type": "code",
   "execution_count": null,
   "id": "131e1830",
   "metadata": {},
   "outputs": [],
   "source": [
    "prod_dag_df = get_latest_output_from_last_dag_node(prod_dag_dir)\n",
    "hpandas.df_to_str(prod_dag_df, num_rows=5, log_level=logging.INFO)"
   ]
  },
  {
   "cell_type": "code",
   "execution_count": null,
   "id": "0e3eb42d",
   "metadata": {},
   "outputs": [],
   "source": [
    "sim_dag_df = get_latest_output_from_last_dag_node(sim_dag_dir)\n",
    "hpandas.df_to_str(sim_dag_df, num_rows=5, log_level=logging.INFO)"
   ]
  },
  {
   "cell_type": "code",
   "execution_count": null,
   "id": "06f88fee",
   "metadata": {},
   "outputs": [],
   "source": [
    "prod_sim_dag_corr = dtfmod.compute_correlations(\n",
    "    prod_dag_df,\n",
    "    sim_dag_df,\n",
    ")\n",
    "hpandas.df_to_str(\n",
    "    prod_sim_dag_corr.min(),\n",
    "    num_rows=None,\n",
    "    precision=3,\n",
    "    log_level=logging.INFO,\n",
    ")"
   ]
  },
  {
   "cell_type": "code",
   "execution_count": null,
   "id": "01d0ca3e",
   "metadata": {},
   "outputs": [],
   "source": [
    "# TODOO(gp): @grisha\n",
    "# Problem: given two multi-index dfs, we want to compare how similar they are\n",
    "\n",
    "# Check if they have the same columns (in the same order)\n",
    "#  - switch to ignore certain columns\n",
    "#  - switch to reorder the columns to sort them\n",
    "\n",
    "# Check if they have the same index\n",
    "#  - switch to perform intersection\n",
    "\n",
    "# Check if they are exactly the same, e.g., the difference is less than a threshold <1e-6.\n",
    "#   Show the rows with the max difference (use the `differ_visually_...`)\n",
    "#   Allow to subset by columns (e.g., close)"
   ]
  },
  {
   "cell_type": "code",
   "execution_count": null,
   "id": "f9518350",
   "metadata": {},
   "outputs": [],
   "source": [
    "# TODO(gp): @grisha\n",
    "\n",
    "# Given two multi-index dfs, allow to slice the values by index or by column\n",
    "# Create a df with sliced 2 columns or rows and do the diff so that it's easy to plot / inspect\n",
    "#\n",
    "# #col_name = \"price\"\n",
    "# col_name = \"executed_trades_notional\"\n",
    "# #asset_id = 1030828978\n",
    "# #asset_id = 5115052901\n",
    "# asset_id = 5118394986\n",
    "# #df1 = adapted_sim_df[col_name][asset_id]\n",
    "# df1 = adapted_prod_df[col_name][asset_id]\n",
    "# df2 = research_portfolio_df[col_name][asset_id]\n",
    "\n",
    "# (df1 - df2).dropna().plot()\n",
    "\n",
    "# df = pd.DataFrame(df1).merge(pd.DataFrame(df2), how=\"outer\", left_index=True, right_index=True, suffixes=[\"_prod\", \"_research\"])\n",
    "\n",
    "# #df[\"diff\"] = df[\"1030828978_prod\"] - df[\"1030828978_research\"]\n",
    "\n",
    "# #display(df)\n",
    "\n",
    "# df.dropna().plot()"
   ]
  },
  {
   "cell_type": "code",
   "execution_count": null,
   "id": "19bfd115",
   "metadata": {},
   "outputs": [],
   "source": [
    "# TODO(gp): Add function to compare duration of different dfs\n",
    "# E.g., duration_df = compute_duration_df(tag_to_df)\n",
    "#  Compute min / max index\n",
    "#  Compute min / max index with all values non-nans\n",
    "#  The output is multi-index indexed by tag and has (min_idx, max_idx, )\n",
    "\n",
    "duration_df = pd.MultiIndex"
   ]
  },
  {
   "cell_type": "markdown",
   "id": "51d6ff22",
   "metadata": {},
   "source": [
    "# Compute research portfolio equivalent"
   ]
  },
  {
   "cell_type": "code",
   "execution_count": null,
   "id": "5d99af38",
   "metadata": {},
   "outputs": [],
   "source": [
    "fep = dtfmod.ForecastEvaluatorFromPrices(**config[\"research_forecast_evaluator_from_prices\"][\"init\"])"
   ]
  },
  {
   "cell_type": "code",
   "execution_count": null,
   "id": "88617f6e",
   "metadata": {},
   "outputs": [],
   "source": [
    "research_portfolio_df, research_portfolio_stats_df = fep.annotate_forecasts(\n",
    "    prod_dag_df,\n",
    "    **config[\"research_forecast_evaluator_from_prices\"][\"annotate_forecasts_kwargs\"],\n",
    "    compute_extended_stats=True\n",
    ")"
   ]
  },
  {
   "cell_type": "code",
   "execution_count": null,
   "id": "b8eee7e9",
   "metadata": {},
   "outputs": [],
   "source": [
    "# TODO(gp): Move it to annotate_forecasts?\n",
    "research_portfolio_df = research_portfolio_df.sort_index(axis=1)"
   ]
  },
  {
   "cell_type": "code",
   "execution_count": null,
   "id": "2b8cd247",
   "metadata": {},
   "outputs": [],
   "source": [
    "hpandas.df_to_str(research_portfolio_stats_df, log_level=logging.INFO)"
   ]
  },
  {
   "cell_type": "markdown",
   "id": "e4cced0d",
   "metadata": {},
   "source": [
    "# Orders"
   ]
  },
  {
   "cell_type": "code",
   "execution_count": null,
   "id": "8eb05b94",
   "metadata": {},
   "outputs": [],
   "source": [
    "prod_order_df = oms.ForecastProcessor.read_logged_orders(\n",
    "    portfolio_path_dict[\"prod\"] + \"/..\"\n",
    ")\n",
    "hpandas.df_to_str(prod_order_df, log_level=logging.INFO)"
   ]
  },
  {
   "cell_type": "code",
   "execution_count": null,
   "id": "2e538a01",
   "metadata": {},
   "outputs": [],
   "source": [
    "sim_order_df = oms.ForecastProcessor.read_logged_orders(\n",
    "    portfolio_path_dict[\"sim\"] + \"/..\"\n",
    ")\n",
    "hpandas.df_to_str(sim_order_df, log_level=logging.INFO)"
   ]
  },
  {
   "cell_type": "code",
   "execution_count": null,
   "id": "10c4196c",
   "metadata": {},
   "outputs": [],
   "source": [
    "research_portfolio_df[\"executed_trades_shares\"]"
   ]
  },
  {
   "cell_type": "code",
   "execution_count": null,
   "id": "01e78e17",
   "metadata": {},
   "outputs": [],
   "source": [
    "prod_order_df = prod_order_df.pivot(\n",
    "    index=\"end_timestamp\",\n",
    "    columns=\"asset_id\",\n",
    "    values=\"diff_num_shares\",\n",
    ")\n",
    "freq = \"5T\"\n",
    "prod_order_df.index = prod_order_df.index.round(freq)\n",
    "\n",
    "sim_order_df = sim_order_df.pivot(\n",
    "    index=\"end_timestamp\",\n",
    "    columns=\"asset_id\",\n",
    "    values=\"diff_num_shares\",\n",
    ")\n",
    "sim_order_df.index = sim_order_df.index.round(freq)"
   ]
  },
  {
   "cell_type": "code",
   "execution_count": null,
   "id": "31035367",
   "metadata": {},
   "outputs": [],
   "source": [
    "asset_id = 1030828978"
   ]
  },
  {
   "cell_type": "markdown",
   "id": "6e7ac7c9",
   "metadata": {},
   "source": [
    "# Load logged portfolios"
   ]
  },
  {
   "cell_type": "code",
   "execution_count": null,
   "id": "bdfbb362",
   "metadata": {},
   "outputs": [],
   "source": [
    "portfolio_config_dict = {\n",
    "    \"start_timestamp\": start_timestamp,\n",
    "    \"end_timestamp\": end_timestamp,\n",
    "    \"freq\": config[\"meta\"][\"bar_duration\"],\n",
    "    \"normalize_bar_times\": True,\n",
    "}\n",
    "portfolio_config_dict"
   ]
  },
  {
   "cell_type": "code",
   "execution_count": null,
   "id": "89560fe7",
   "metadata": {},
   "outputs": [],
   "source": [
    "portfolio_dfs = {}\n",
    "portfolio_stats_dfs = {}\n",
    "for name, path in portfolio_path_dict.items():\n",
    "    _LOG.info(\"Processing portfolio=%s path=%s\", name, path)\n",
    "    portfolio_df, portfolio_stats_df = oms.load_portfolio_artifacts(\n",
    "        path,\n",
    "        **portfolio_config_dict,\n",
    "    )\n",
    "    #portfolio_df = portfolio_df.sort_index(axis=1)\n",
    "    portfolio_dfs[name] = portfolio_df\n",
    "    portfolio_stats_dfs[name] = portfolio_stats_df\n",
    "    \n",
    "portfolio_dfs[\"research\"] = research_portfolio_df.loc[start_timestamp:end_timestamp]\n",
    "portfolio_stats_dfs[\"research\"] = research_portfolio_stats_df.loc[start_timestamp:end_timestamp]\n",
    "portfolio_stats_df = pd.concat(portfolio_stats_dfs, axis=1)"
   ]
  },
  {
   "cell_type": "code",
   "execution_count": null,
   "id": "f505c130",
   "metadata": {},
   "outputs": [],
   "source": []
  },
  {
   "cell_type": "code",
   "execution_count": null,
   "id": "48a965c6",
   "metadata": {},
   "outputs": [],
   "source": [
    "hpandas.df_to_str(portfolio_stats_df, log_level=logging.INFO)"
   ]
  },
  {
   "cell_type": "code",
   "execution_count": null,
   "id": "baa763e1",
   "metadata": {},
   "outputs": [],
   "source": [
    "bars_to_burn = 1\n",
    "coplotti.plot_portfolio_stats(portfolio_stats_df.iloc[bars_to_burn:])"
   ]
  },
  {
   "cell_type": "code",
   "execution_count": null,
   "id": "19c484b4",
   "metadata": {},
   "outputs": [],
   "source": [
    "stats_computer = dtfmod.StatsComputer()\n",
    "stats_sxs, _ = stats_computer.compute_portfolio_stats(\n",
    "    portfolio_stats_df.iloc[bars_to_burn:], config[\"meta\"][\"bar_duration\"]\n",
    ")\n",
    "display(stats_sxs)"
   ]
  },
  {
   "cell_type": "markdown",
   "id": "f02a4edd",
   "metadata": {},
   "source": [
    "# Compare pairwise portfolio correlations"
   ]
  },
  {
   "cell_type": "code",
   "execution_count": null,
   "id": "c3ceefbc",
   "metadata": {},
   "outputs": [],
   "source": [
    "adapted_prod_df = oms.adapt_portfolio_object_df_to_forecast_evaluator_df(portfolio_dfs[\"prod\"])\n",
    "adapted_cand_df = oms.adapt_portfolio_object_df_to_forecast_evaluator_df(portfolio_dfs[\"cand\"])\n",
    "adapted_sim_df = oms.adapt_portfolio_object_df_to_forecast_evaluator_df(portfolio_dfs[\"sim\"])"
   ]
  },
  {
   "cell_type": "code",
   "execution_count": null,
   "id": "aba52ecd",
   "metadata": {},
   "outputs": [],
   "source": [
    "adapted_prod_df.columns.levels"
   ]
  },
  {
   "cell_type": "code",
   "execution_count": null,
   "id": "ad77838b",
   "metadata": {},
   "outputs": [],
   "source": [
    "adapted_prod_df.columns.levels[0]"
   ]
  },
  {
   "cell_type": "code",
   "execution_count": null,
   "id": "bee74dff",
   "metadata": {},
   "outputs": [],
   "source": [
    "adapted_prod_df = adapted_prod_df.sort_index(axis=1)\n",
    "research_portfolio_df = research_portfolio_df.sort_index(axis=1)"
   ]
  },
  {
   "cell_type": "code",
   "execution_count": null,
   "id": "e1a7d64d",
   "metadata": {},
   "outputs": [],
   "source": [
    "col_name = \"holdings_shares\"\n",
    "#col_name = \"price\"\n",
    "display(adapted_prod_df[col_name].tail(3))\n",
    "display(research_portfolio_df[col_name].tail(3))"
   ]
  },
  {
   "cell_type": "code",
   "execution_count": null,
   "id": "e7a525d8",
   "metadata": {},
   "outputs": [],
   "source": [
    "#col_name = \"pnl\"\n",
    "#col_name = \"executed_trades_shares\"\n",
    "col_name = \"holdings_shares\"\n",
    "dtfmod.compute_correlations(\n",
    "    adapted_prod_df.iloc[1:],\n",
    "    research_portfolio_df.iloc[1:],\n",
    "    allow_unequal_indices=True,\n",
    "    allow_unequal_columns=True,\n",
    ").sort_values([col_name], ascending=False)"
   ]
  },
  {
   "cell_type": "code",
   "execution_count": null,
   "id": "0a523cf4",
   "metadata": {},
   "outputs": [],
   "source": [
    "#col_name = \"price\"\n",
    "col_name = \"executed_trades_notional\"\n",
    "#asset_id = 1030828978\n",
    "#asset_id = 5115052901\n",
    "asset_id = 5118394986\n",
    "#df1 = adapted_sim_df[col_name][asset_id]\n",
    "df1 = adapted_prod_df[col_name][asset_id]\n",
    "df2 = research_portfolio_df[col_name][asset_id]\n",
    "\n",
    "(df1 - df2).dropna().plot()\n",
    "\n",
    "df = pd.DataFrame(df1).merge(pd.DataFrame(df2), how=\"outer\", left_index=True, right_index=True, suffixes=[\"_prod\", \"_research\"])\n",
    "\n",
    "#df[\"diff\"] = df[\"1030828978_prod\"] - df[\"1030828978_research\"]\n",
    "\n",
    "#display(df)\n",
    "\n",
    "df.dropna().plot()"
   ]
  },
  {
   "cell_type": "code",
   "execution_count": null,
   "id": "adf717c0",
   "metadata": {},
   "outputs": [],
   "source": [
    "dtfmod.compute_correlations(\n",
    "    #research_portfolio_df,\n",
    "    adapted_sim_df.iloc[1:],\n",
    "    research_portfolio_df.iloc[1:],\n",
    "    allow_unequal_indices=True,\n",
    "    allow_unequal_columns=True,\n",
    ").sort_values([\"pnl\"], ascending=False)"
   ]
  },
  {
   "cell_type": "code",
   "execution_count": null,
   "id": "93083c7d",
   "metadata": {},
   "outputs": [],
   "source": [
    "dtfmod.compute_correlations(\n",
    "    adapted_prod_df,\n",
    "    adapted_sim_df,\n",
    "    allow_unequal_indices=False,\n",
    "    allow_unequal_columns=False,\n",
    ").sort_values([\"pnl\"], ascending=False)"
   ]
  },
  {
   "cell_type": "code",
   "execution_count": null,
   "id": "71d36fed",
   "metadata": {},
   "outputs": [],
   "source": [
    "dtfmod.compute_correlations(\n",
    "    research_portfolio_df,\n",
    "    adapted_sim_df,\n",
    "    allow_unequal_indices=True,\n",
    "    allow_unequal_columns=True,\n",
    ").sort_values([\"pnl\"], ascending=False)"
   ]
  },
  {
   "cell_type": "code",
   "execution_count": null,
   "id": "702a9f6f",
   "metadata": {},
   "outputs": [],
   "source": [
    "if config[\"meta\"][\"run_tca\"]:\n",
    "    tca = cofinanc.load_and_normalize_tca_csv(tca_csv)\n",
    "    tca = cofinanc.compute_tca_price_annotations(tca, True)\n",
    "    tca = cofinanc.pivot_and_accumulate_holdings(tca, \"\")"
   ]
  }
 ],
 "metadata": {
  "kernelspec": {
   "display_name": "Python 3 (ipykernel)",
   "language": "python",
   "name": "python3"
  },
  "language_info": {
   "codemirror_mode": {
    "name": "ipython",
    "version": 3
   },
   "file_extension": ".py",
   "mimetype": "text/x-python",
   "name": "python",
   "nbconvert_exporter": "python",
   "pygments_lexer": "ipython3"
  },
  "toc": {
   "base_numbering": 1,
   "nav_menu": {},
   "number_sections": true,
   "sideBar": true,
   "skip_h1_title": false,
   "title_cell": "Table of Contents",
   "title_sidebar": "Contents",
   "toc_cell": false,
   "toc_position": {
    "height": "calc(100% - 180px)",
    "left": "10px",
    "top": "150px",
    "width": "165px"
   },
   "toc_section_display": true,
   "toc_window_display": true
  }
 },
 "nbformat": 4,
 "nbformat_minor": 5
}
