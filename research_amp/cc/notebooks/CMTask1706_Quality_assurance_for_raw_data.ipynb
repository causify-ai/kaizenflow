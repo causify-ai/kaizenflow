{
 "cells": [
  {
   "cell_type": "markdown",
   "id": "10895f53",
   "metadata": {},
   "source": [
    "# Imports"
   ]
  },
  {
   "cell_type": "code",
   "execution_count": null,
   "id": "4373ba5d",
   "metadata": {},
   "outputs": [],
   "source": [
    "import logging\n",
    "import os\n",
    "\n",
    "import numpy as np\n",
    "import pandas as pd\n",
    "\n",
    "import core.config.config_ as cconconf\n",
    "import core.finance.resampling as cfinresa\n",
    "import core.finance.returns as cfinretu\n",
    "import helpers.hdbg as hdbg\n",
    "import helpers.hprint as hprint\n",
    "import helpers.hsql as hsql\n",
    "import im_v2.ccxt.data.client as icdcl\n",
    "import im_v2.im_lib_tasks as imvimlita\n",
    "\n",
    "import research_amp.cc.statistics as ramccsta"
   ]
  },
  {
   "cell_type": "markdown",
   "id": "9497bc7f",
   "metadata": {},
   "source": [
    "# Config"
   ]
  },
  {
   "cell_type": "code",
   "execution_count": null,
   "id": "7363624e",
   "metadata": {},
   "outputs": [],
   "source": [
    "def get_cmtask1706_config() -> cconconf.Config:\n",
    "    \"\"\"\n",
    "    Config for calculating quality assurance statistics.\n",
    "    \"\"\"\n",
    "    config = cconconf.Config()\n",
    "        # Load parameters.\n",
    "    config.add_subconfig(\"load\")\n",
    "    env_file = imvimlita.get_db_env_path(\"dev\")\n",
    "    connection_params = hsql.get_connection_info_from_env_file(env_file)\n",
    "    config[\"load\"][\"connection\"] = hsql.get_connection(*connection_params)\n",
    "    config[\"load\"][\"aws_profile\"] = \"ck\"\n",
    "    config[\"load\"][\"data_dir\"] = os.path.join(\n",
    "        \"s3://cryptokaizen-data\", \"historical\"\n",
    "    )\n",
    "    config[\"load\"][\"data_snapshot\"] = \"latest\"\n",
    "    config[\"load\"][\"partition_mode\"] = \"by_year_month\"\n",
    "    # Data parameters.\n",
    "    config.add_subconfig(\"data\")\n",
    "    config[\"data\"][\"target_frequency\"] = \"T\"\n",
    "    config[\"data\"][\"universe_version\"] = \"v03\"\n",
    "    config[\"data\"][\"vendor\"] = \"CCXT\"\n",
    "    config[\"data\"][\"extension\"] = \"csv.gz\"\n",
    "    # Column names.\n",
    "    config.add_subconfig(\"column_names\")\n",
    "    config[\"column_names\"][\"close_price\"] = \"close\"\n",
    "    config[\"column_names\"][\"currency_pair\"] = \"currency_pair\"\n",
    "    config[\"column_names\"][\"exchange_id\"] = \"exchange_id\"\n",
    "    config[\"column_names\"][\"full_symbol\"] = \"full_symbol\"\n",
    "    return config"
   ]
  },
  {
   "cell_type": "code",
   "execution_count": null,
   "id": "4b51d6bc",
   "metadata": {},
   "outputs": [],
   "source": [
    "config = get_cmtask1706_config()\n",
    "print(config)"
   ]
  },
  {
   "cell_type": "markdown",
   "id": "f38cdcb3",
   "metadata": {},
   "source": [
    "# QA stats"
   ]
  },
  {
   "cell_type": "code",
   "execution_count": null,
   "id": "4b2f86dd",
   "metadata": {},
   "outputs": [],
   "source": [
    "full_symbols = ['binance::ADA_USDT', 'binance::AVAX_USDT']"
   ]
  },
  {
   "cell_type": "markdown",
   "id": "b168420d",
   "metadata": {},
   "source": [
    "## Real-time"
   ]
  },
  {
   "cell_type": "code",
   "execution_count": null,
   "id": "5315c564",
   "metadata": {},
   "outputs": [],
   "source": [
    "compute_start_end_stats_rt = lambda data: ramccsta.compute_start_end_stats(\n",
    "    data, config\n",
    ")\n",
    "\n",
    "rt_start_end_table = ramccsta.compute_stats_for_universe(\n",
    "    full_symbols, config, compute_start_end_stats_rt, \"real_time\"\n",
    ")"
   ]
  },
  {
   "cell_type": "code",
   "execution_count": null,
   "id": "bf3a83ba",
   "metadata": {},
   "outputs": [],
   "source": [
    "rt_start_end_table"
   ]
  },
  {
   "cell_type": "markdown",
   "id": "0a1038ae",
   "metadata": {},
   "source": [
    "## Historical"
   ]
  },
  {
   "cell_type": "code",
   "execution_count": null,
   "id": "3983f905",
   "metadata": {},
   "outputs": [],
   "source": [
    "compute_start_end_stats_hist = lambda data: ramccsta.compute_start_end_stats(\n",
    "    data, config\n",
    ")\n",
    "\n",
    "historical_start_end_table = ramccsta.compute_stats_for_universe(\n",
    "    full_symbols, config, compute_start_end_stats_hist, \"historical\"\n",
    ")"
   ]
  },
  {
   "cell_type": "code",
   "execution_count": null,
   "id": "7c92f094",
   "metadata": {},
   "outputs": [],
   "source": [
    "historical_start_end_table"
   ]
  }
 ],
 "metadata": {
  "kernelspec": {
   "display_name": "Python 3 (ipykernel)",
   "language": "python",
   "name": "python3"
  },
  "language_info": {
   "codemirror_mode": {
    "name": "ipython",
    "version": 3
   },
   "file_extension": ".py",
   "mimetype": "text/x-python",
   "name": "python",
   "nbconvert_exporter": "python",
   "pygments_lexer": "ipython3"
  },
  "toc": {
   "base_numbering": 1,
   "nav_menu": {},
   "number_sections": true,
   "sideBar": true,
   "skip_h1_title": false,
   "title_cell": "Table of Contents",
   "title_sidebar": "Contents",
   "toc_cell": false,
   "toc_position": {},
   "toc_section_display": true,
   "toc_window_display": false
  }
 },
 "nbformat": 4,
 "nbformat_minor": 5
}
