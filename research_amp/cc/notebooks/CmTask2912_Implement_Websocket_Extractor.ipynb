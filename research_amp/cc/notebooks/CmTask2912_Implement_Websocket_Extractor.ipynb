{
 "cells": [
  {
   "cell_type": "markdown",
   "id": "b8d96ebe",
   "metadata": {},
   "source": [
    "This is spin off from `CMTask2703_Perform_manual_reconciliation_of_OB_data` notebook\n",
    "We would like to reconcile data collected ~200ms via CCXT with historical data from CryptoChassis"
   ]
  },
  {
   "cell_type": "markdown",
   "id": "13ea08e1",
   "metadata": {},
   "source": [
    "- CCXT data = CCXT real-time DB bid-ask data collection for futures\n",
    "- CC data = CryptoChassis historical Parquet bid-ask futures data"
   ]
  },
  {
   "cell_type": "markdown",
   "id": "e545da78",
   "metadata": {},
   "source": [
    "# Imports"
   ]
  },
  {
   "cell_type": "code",
   "execution_count": null,
   "id": "c4780eec",
   "metadata": {},
   "outputs": [],
   "source": [
    "%load_ext autoreload\n",
    "%autoreload 2\n",
    "\n",
    "import logging\n",
    "\n",
    "import pandas as pd\n",
    "\n",
    "import helpers.hdatetime as hdateti\n",
    "import helpers.hdbg as hdbg\n",
    "import helpers.henv as henv\n",
    "import helpers.hpandas as hpandas\n",
    "import helpers.hparquet as hparque\n",
    "import helpers.hprint as hprint\n",
    "import helpers.hsql as hsql\n",
    "import im_v2.im_lib_tasks as imvimlita"
   ]
  },
  {
   "cell_type": "code",
   "execution_count": null,
   "id": "409c1bfd",
   "metadata": {},
   "outputs": [],
   "source": [
    "hdbg.init_logger(verbosity=logging.INFO)\n",
    "\n",
    "_LOG = logging.getLogger(__name__)\n",
    "\n",
    "_LOG.info(\"%s\", henv.get_system_signature()[0])\n",
    "\n",
    "hprint.config_notebook()"
   ]
  },
  {
   "cell_type": "markdown",
   "id": "9e225fc3",
   "metadata": {},
   "source": [
    "# Load the data\n",
    "\n",
    "For CCXT data we have multiple data points within a single, we resample to second by taking the latest entry within\n",
    "a second"
   ]
  },
  {
   "cell_type": "markdown",
   "id": "bf6019d1",
   "metadata": {},
   "source": [
    "## Specify universe"
   ]
  },
  {
   "cell_type": "code",
   "execution_count": null,
   "id": "b1a060d4",
   "metadata": {},
   "outputs": [],
   "source": [
    "universe = [\n",
    "    \"binance::SOL_USDT\",\n",
    "    \"binance::DOGE_USDT\",\n",
    "    \"binance::BNB_USDT\",\n",
    "    \"binance::ETH_USDT\",\n",
    "    \"binance::BTC_USDT\",\n",
    "]"
   ]
  },
  {
   "cell_type": "markdown",
   "id": "0eb611b3",
   "metadata": {},
   "source": [
    "## Load data"
   ]
  },
  {
   "cell_type": "code",
   "execution_count": null,
   "id": "2bb201c8",
   "metadata": {},
   "outputs": [],
   "source": [
    "start_ts = pd.Timestamp(\"2022-10-11 17:00:00+00:00\")\n",
    "end_ts = pd.Timestamp(\"2022-10-11 18:00:00+00:00\")\n",
    "start_ts_unix = hdateti.convert_timestamp_to_unix_epoch(start_ts)\n",
    "end_ts_unix = hdateti.convert_timestamp_to_unix_epoch(end_ts)"
   ]
  },
  {
   "cell_type": "markdown",
   "id": "96c2c233",
   "metadata": {},
   "source": [
    "### CC data"
   ]
  },
  {
   "cell_type": "code",
   "execution_count": null,
   "id": "aaf8dcfa",
   "metadata": {},
   "outputs": [],
   "source": [
    "filters = [(\"year\", \"=\", 2022), (\"month\", \"=\", 10)]\n",
    "file_name = \"s3://cryptokaizen-data.preprod/reorg/daily_staged.airflow.pq/bid_ask-futures/crypto_chassis/binance/\"\n",
    "df = hparque.from_parquet(file_name, filters=filters, aws_profile=\"ck\")"
   ]
  },
  {
   "cell_type": "code",
   "execution_count": null,
   "id": "cfb78e89",
   "metadata": {},
   "outputs": [],
   "source": [
    "df.head()"
   ]
  },
  {
   "cell_type": "code",
   "execution_count": null,
   "id": "e43148bd",
   "metadata": {},
   "outputs": [],
   "source": [
    "df.index.max()"
   ]
  },
  {
   "cell_type": "code",
   "execution_count": null,
   "id": "271001ab",
   "metadata": {},
   "outputs": [],
   "source": [
    "df_chassis = df.loc[(df.index >= start_ts) & (df.index <= end_ts)]\n",
    "df_chassis = df_chassis.drop_duplicates()\n",
    "df_chassis[\"full_symbol\"] = \"binance::\" + df_chassis[\"currency_pair\"]\n",
    "df_chassis = df_chassis[df_chassis[\"full_symbol\"].isin(universe)]\n",
    "df_chassis = df_chassis[\n",
    "    [\"bid_size\", \"bid_price\", \"ask_size\", \"ask_price\", \"full_symbol\"]\n",
    "]\n",
    "df_chassis = df_chassis.reset_index().set_index([\"timestamp\", \"full_symbol\"])\n",
    "# We drop the first row because CC labels right side of the intrval during resampling, meaning for CCXT we will have\n",
    "# one less row\n",
    "df_chassis = df_chassis.drop(start_ts)"
   ]
  },
  {
   "cell_type": "code",
   "execution_count": null,
   "id": "9e1b500a",
   "metadata": {},
   "outputs": [],
   "source": [
    "df_chassis.tail()"
   ]
  },
  {
   "cell_type": "code",
   "execution_count": null,
   "id": "881e4a98",
   "metadata": {},
   "outputs": [],
   "source": [
    "df_chassis.shape"
   ]
  },
  {
   "cell_type": "code",
   "execution_count": null,
   "id": "e7000882",
   "metadata": {},
   "outputs": [],
   "source": [
    "df_chassis[df_chassis.index.isin([\"binance::BTC_USDT\"], level=1)].head()"
   ]
  },
  {
   "cell_type": "markdown",
   "id": "c48a2b9e",
   "metadata": {},
   "source": [
    "### CCXT data"
   ]
  },
  {
   "cell_type": "code",
   "execution_count": null,
   "id": "7cd52889",
   "metadata": {},
   "outputs": [],
   "source": [
    "env_file = imvimlita.get_db_env_path(\"dev\")\n",
    "connection_params = hsql.get_connection_info_from_env_file(env_file)\n",
    "db_connection = hsql.get_connection(*connection_params)"
   ]
  },
  {
   "cell_type": "code",
   "execution_count": null,
   "id": "aa1f53ed",
   "metadata": {},
   "outputs": [],
   "source": [
    "query = f\"SELECT * FROM public.ccxt_bid_ask_futures_test \\\n",
    "WHERE level = 1 AND timestamp >= {start_ts_unix} AND timestamp <= {end_ts_unix}\"\n",
    "query"
   ]
  },
  {
   "cell_type": "code",
   "execution_count": null,
   "id": "eb40c11d",
   "metadata": {},
   "outputs": [],
   "source": [
    "df_ccxt = hsql.execute_query_to_df(db_connection, query)\n",
    "df_ccxt[\"timestamp\"] = df_ccxt[\"timestamp\"].map(\n",
    "    hdateti.convert_unix_epoch_to_timestamp\n",
    ")\n",
    "df_ccxt = df_ccxt.reset_index(drop=True).set_index([\"timestamp\"])"
   ]
  },
  {
   "cell_type": "code",
   "execution_count": null,
   "id": "9ea47864",
   "metadata": {},
   "outputs": [],
   "source": [
    "# Use label right to match crypto chassis data\n",
    "df_ccxt[\"full_symbol\"] = \"binance::\" + df_ccxt[\"currency_pair\"]\n",
    "dfs_ccxt = []\n",
    "for fs in universe:\n",
    "    df_fs = df_ccxt[df_ccxt[\"full_symbol\"] == fs]\n",
    "    df_fs = (\n",
    "        df_fs[[\"bid_size\", \"bid_price\", \"ask_size\", \"ask_price\"]]\n",
    "        .resample(\"S\", label=\"right\")\n",
    "        .mean()\n",
    "    )\n",
    "    df_fs[\"full_symbol\"] = fs\n",
    "    df_fs = df_fs.reset_index().set_index([\"timestamp\", \"full_symbol\"])\n",
    "    dfs_ccxt.append(df_fs)\n",
    "df_ccxt_sec_last = pd.concat(dfs_ccxt)"
   ]
  },
  {
   "cell_type": "markdown",
   "id": "0d4539db",
   "metadata": {},
   "source": [
    "# Analysis"
   ]
  },
  {
   "cell_type": "code",
   "execution_count": null,
   "id": "518426fe",
   "metadata": {},
   "outputs": [],
   "source": [
    "data_ccxt = df_ccxt_sec_last\n",
    "data_cc = df_chassis"
   ]
  },
  {
   "cell_type": "code",
   "execution_count": null,
   "id": "118b7edc",
   "metadata": {},
   "outputs": [],
   "source": [
    "bid_ask_cols = [\"bid_size\", \"bid_price\", \"ask_size\", \"ask_price\", \"full_symbol\"]"
   ]
  },
  {
   "cell_type": "markdown",
   "id": "7d9a6c62",
   "metadata": {},
   "source": [
    "## Merge CC and DB data into one DataFrame"
   ]
  },
  {
   "cell_type": "code",
   "execution_count": null,
   "id": "3d763fe3",
   "metadata": {},
   "outputs": [],
   "source": [
    "data = data_ccxt.merge(\n",
    "    data_cc,\n",
    "    how=\"outer\",\n",
    "    left_index=True,\n",
    "    right_index=True,\n",
    "    suffixes=(\"_ccxt\", \"_cc\"),\n",
    ")\n",
    "_LOG.info(\"Start date = %s\", data.reset_index()[\"timestamp\"].min())\n",
    "_LOG.info(\"End date = %s\", data.reset_index()[\"timestamp\"].max())\n",
    "_LOG.info(\n",
    "    \"Avg observations per coin = %s\",\n",
    "    len(data) / len(data.reset_index()[\"full_symbol\"].unique()),\n",
    ")\n",
    "# Move the same metrics from two vendors together.\n",
    "data = data.reindex(sorted(data.columns), axis=1)\n",
    "# NaNs observation.\n",
    "_LOG.info(\n",
    "    \"Number of observations with NaNs in CryptoChassis = %s\",\n",
    "    len(data[data[\"bid_price_cc\"].isna()]),\n",
    ")\n",
    "_LOG.info(\n",
    "    \"Number of observations with NaNs in CCXT = %s\",\n",
    "    len(data[data[\"bid_price_ccxt\"].isna()]),\n",
    ")\n",
    "# Remove NaNs.\n",
    "data = hpandas.dropna(data, report_stats=True)\n",
    "#\n",
    "display(data.tail())"
   ]
  },
  {
   "cell_type": "markdown",
   "id": "9559b7fd",
   "metadata": {},
   "source": [
    "## Calculate differences"
   ]
  },
  {
   "cell_type": "code",
   "execution_count": null,
   "id": "69503bb3",
   "metadata": {},
   "outputs": [],
   "source": [
    "# Full symbol will not be relevant in calculation loops below.\n",
    "bid_ask_cols.remove(\"full_symbol\")\n",
    "# Each bid ask value will have a notional and a relative difference between two sources.\n",
    "for col in bid_ask_cols:\n",
    "    # Notional difference: CC value - DB value.\n",
    "    data[f\"{col}_diff\"] = data[f\"{col}_cc\"] - data[f\"{col}_ccxt\"]\n",
    "    # Relative value: (CC value - DB value)/DB value.\n",
    "    data[f\"{col}_relative_diff_pct\"] = (\n",
    "        100 * (data[f\"{col}_cc\"] - data[f\"{col}_ccxt\"]) / data[f\"{col}_ccxt\"]\n",
    "    )\n",
    "#\n",
    "data.head()"
   ]
  },
  {
   "cell_type": "code",
   "execution_count": null,
   "id": "312e29c1",
   "metadata": {},
   "outputs": [],
   "source": [
    "# Calculate the mean value of differences for each coin.\n",
    "diff_stats = []\n",
    "grouper = data.groupby([\"full_symbol\"])\n",
    "for col in bid_ask_cols:\n",
    "    diff_stats.append(grouper[f\"{col}_diff\"].mean())\n",
    "    diff_stats.append(grouper[f\"{col}_relative_diff_pct\"].mean())\n",
    "#\n",
    "diff_stats = pd.concat(diff_stats, axis=1)"
   ]
  },
  {
   "cell_type": "markdown",
   "id": "b76c0202",
   "metadata": {},
   "source": [
    "## Show stats for differences (in %)"
   ]
  },
  {
   "cell_type": "markdown",
   "id": "6c134fd8",
   "metadata": {},
   "source": [
    "### Prices"
   ]
  },
  {
   "cell_type": "code",
   "execution_count": null,
   "id": "784f9427",
   "metadata": {},
   "outputs": [],
   "source": [
    "diff_stats[[\"bid_price_relative_diff_pct\", \"ask_price_relative_diff_pct\"]]"
   ]
  },
  {
   "cell_type": "markdown",
   "id": "94181a52",
   "metadata": {},
   "source": [
    "As one can see, the difference between bid and ask prices in DB and CC are less than 1%."
   ]
  },
  {
   "cell_type": "markdown",
   "id": "c8db897a",
   "metadata": {},
   "source": [
    "### Sizes"
   ]
  },
  {
   "cell_type": "code",
   "execution_count": null,
   "id": "1dcdcfc8",
   "metadata": {},
   "outputs": [],
   "source": [
    "diff_stats[[\"bid_size_relative_diff_pct\", \"ask_size_relative_diff_pct\"]]"
   ]
  },
  {
   "cell_type": "markdown",
   "id": "3338e9b6",
   "metadata": {},
   "source": [
    "## Correlations"
   ]
  },
  {
   "cell_type": "markdown",
   "id": "6700ca9e",
   "metadata": {},
   "source": [
    "### Bid price"
   ]
  },
  {
   "cell_type": "code",
   "execution_count": null,
   "id": "dcd1dc9b",
   "metadata": {},
   "outputs": [],
   "source": [
    "bid_price_corr_matrix = (\n",
    "    data[[\"bid_price_cc\", \"bid_price_ccxt\"]].groupby(level=1).corr()\n",
    ")\n",
    "bid_price_corr_matrix"
   ]
  },
  {
   "cell_type": "markdown",
   "id": "16c63702",
   "metadata": {},
   "source": [
    "Correlation stats confirms the stats above: bid prices in DB and CC are highly correlated."
   ]
  },
  {
   "cell_type": "markdown",
   "id": "69fe3db0",
   "metadata": {},
   "source": [
    "### Ask price"
   ]
  },
  {
   "cell_type": "code",
   "execution_count": null,
   "id": "98ee7b65",
   "metadata": {},
   "outputs": [],
   "source": [
    "ask_price_corr_matrix = (\n",
    "    data[[\"ask_price_cc\", \"ask_price_ccxt\"]].groupby(level=1).corr()\n",
    ")\n",
    "ask_price_corr_matrix"
   ]
  },
  {
   "cell_type": "markdown",
   "id": "5b325cb3",
   "metadata": {},
   "source": [
    "Correlation stats confirms the stats above: ask prices in DB and CC are highly correlated."
   ]
  },
  {
   "cell_type": "markdown",
   "id": "3409d2e7",
   "metadata": {},
   "source": [
    "### Bid size"
   ]
  },
  {
   "cell_type": "code",
   "execution_count": null,
   "id": "241929a5",
   "metadata": {},
   "outputs": [],
   "source": [
    "bid_size_corr_matrix = (\n",
    "    data[[\"bid_size_cc\", \"bid_size_ccxt\"]].groupby(level=1).corr()\n",
    ")\n",
    "bid_size_corr_matrix"
   ]
  },
  {
   "cell_type": "markdown",
   "id": "30dc617b",
   "metadata": {},
   "source": [
    "Correlation stats confirms the stats above: bid sizes in DB and CC are highly correlated."
   ]
  },
  {
   "cell_type": "markdown",
   "id": "b76d93ec",
   "metadata": {},
   "source": [
    "### Ask size"
   ]
  },
  {
   "cell_type": "code",
   "execution_count": null,
   "id": "416436b8",
   "metadata": {},
   "outputs": [],
   "source": [
    "ask_size_corr_matrix = (\n",
    "    data[[\"ask_size_cc\", \"ask_size_ccxt\"]].groupby(level=1).corr()\n",
    ")\n",
    "ask_size_corr_matrix"
   ]
  },
  {
   "cell_type": "markdown",
   "id": "870767f1",
   "metadata": {},
   "source": [
    "Correlation stats confirms the stats above: ask sizes in DB and CC are highly correlated."
   ]
  }
 ],
 "metadata": {
  "kernelspec": {
   "display_name": "Python 3 (ipykernel)",
   "language": "python",
   "name": "python3"
  },
  "language_info": {
   "codemirror_mode": {
    "name": "ipython",
    "version": 3
   },
   "file_extension": ".py",
   "mimetype": "text/x-python",
   "name": "python",
   "nbconvert_exporter": "python",
   "pygments_lexer": "ipython3"
  },
  "toc": {
   "base_numbering": 1,
   "nav_menu": {},
   "number_sections": true,
   "sideBar": true,
   "skip_h1_title": false,
   "title_cell": "Table of Contents",
   "title_sidebar": "Contents",
   "toc_cell": false,
   "toc_position": {
    "height": "calc(100% - 180px)",
    "left": "10px",
    "top": "150px",
    "width": "269.667px"
   },
   "toc_section_display": true,
   "toc_window_display": true
  }
 },
 "nbformat": 4,
 "nbformat_minor": 5
}
