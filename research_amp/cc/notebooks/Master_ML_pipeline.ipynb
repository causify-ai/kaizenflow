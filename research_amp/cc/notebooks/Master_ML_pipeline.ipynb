{
 "cells": [
  {
   "cell_type": "markdown",
   "id": "4d75d00e",
   "metadata": {},
   "source": [
    "# Description"
   ]
  },
  {
   "cell_type": "markdown",
   "id": "0f710a02",
   "metadata": {},
   "source": [
    "Compute stats from ML pipeline result."
   ]
  },
  {
   "cell_type": "markdown",
   "id": "4549477a",
   "metadata": {},
   "source": [
    "# Imports"
   ]
  },
  {
   "cell_type": "code",
   "execution_count": null,
   "id": "3e783ed1",
   "metadata": {},
   "outputs": [],
   "source": [
    "%load_ext autoreload\n",
    "%autoreload 2\n",
    "%matplotlib inline"
   ]
  },
  {
   "cell_type": "code",
   "execution_count": null,
   "id": "fbc596de",
   "metadata": {},
   "outputs": [],
   "source": [
    "import datetime\n",
    "import logging\n",
    "from typing import Optional, Tuple\n",
    "\n",
    "import matplotlib.pyplot as plt\n",
    "import pandas as pd\n",
    "import seaborn as sns\n",
    "\n",
    "import core.config.config_ as cconconf\n",
    "import core.config.config_utils as ccocouti\n",
    "import dataflow.model as dtfmod\n",
    "import helpers.hdbg as hdbg\n",
    "import helpers.henv as henv\n",
    "import helpers.hprint as hprint\n",
    "import im_v2.crypto_chassis.data.client as iccdc"
   ]
  },
  {
   "cell_type": "code",
   "execution_count": null,
   "id": "717d24a8",
   "metadata": {},
   "outputs": [],
   "source": [
    "hdbg.init_logger(verbosity=logging.INFO)\n",
    "\n",
    "_LOG = logging.getLogger(__name__)\n",
    "\n",
    "_LOG.info(\"%s\", henv.get_system_signature()[0])\n",
    "\n",
    "hprint.config_notebook()"
   ]
  },
  {
   "cell_type": "markdown",
   "id": "f7dd094b",
   "metadata": {},
   "source": [
    "# Configs"
   ]
  },
  {
   "cell_type": "code",
   "execution_count": null,
   "id": "be23c175",
   "metadata": {},
   "outputs": [],
   "source": [
    "def get_master_ml_config() -> cconconf.Config:\n",
    "    \"\"\"\n",
    "    Get Master ML pipeline specific config.\n",
    "    \"\"\"\n",
    "    config = cconconf.Config()\n",
    "    param_dict = {\n",
    "        \"data\": {\n",
    "            \"dir_name\": \"/shared_data/model/historical/experiment.E1a.crypto_chassis_v2-all.5T.2018_2022/tiled_results/\",\n",
    "            \"columns\": \"volume vwap vwap.ret_0 vwap.ret_0.vol_adj vwap.ret_0.vol_adj.c vwap.ret_0.vol_adj_2 vwap.ret_0.vol_adj_2_hat\".split(),\n",
    "            \"start_date\": datetime.date(2018, 1, 1),\n",
    "            \"end_date\": datetime.date(2022, 5, 1),\n",
    "            \"im_client\": iccdc.get_CryptoChassisHistoricalPqByTileClient_example2(\n",
    "                True\n",
    "            ),\n",
    "        },\n",
    "        \"column_names\": {\n",
    "            \"asset_id\": \"asset_id\",\n",
    "            \"timestamp\": \"end_ts\",\n",
    "            \"volume\": \"volume\",\n",
    "            \"y\": \"vwap.ret_0.vol_adj_2\",\n",
    "            \"y_hat\": \"vwap.ret_0.vol_adj_2_hat\",\n",
    "            \"hit\": \"hit\",\n",
    "            \"trade_pnl\": \"trade_pnl\",\n",
    "        },\n",
    "        \"plot_kwargs\": {\n",
    "            \"y_min_lim\": 0.4,\n",
    "            \"y_max_lim\": 0.6,\n",
    "            \"quantile_ranks\": 10,\n",
    "            \"color\": \"C0\",\n",
    "            \"capsize\": 0.2,\n",
    "            \"xticks_rotation\": 70,\n",
    "        },\n",
    "    }\n",
    "    config = ccocouti.get_config_from_nested_dict(param_dict)\n",
    "    return config"
   ]
  },
  {
   "cell_type": "code",
   "execution_count": null,
   "id": "fde4341e",
   "metadata": {},
   "outputs": [],
   "source": [
    "config = get_master_ml_config()\n",
    "print(config)"
   ]
  },
  {
   "cell_type": "markdown",
   "id": "0b3b5de5",
   "metadata": {},
   "source": [
    "# Functions"
   ]
  },
  {
   "cell_type": "code",
   "execution_count": null,
   "id": "862ac8a8",
   "metadata": {},
   "outputs": [],
   "source": [
    "def load_predictions_df(config: cconconf.Config) -> pd.DataFrame:\n",
    "    \"\"\"\n",
    "    Get data with ML predictions.\n",
    "    \"\"\"\n",
    "    backtest_df_iter = dtfmod.yield_processed_parquet_tiles_by_year(\n",
    "        config[\"data\"][\"dir_name\"],\n",
    "        config[\"data\"][\"start_date\"],\n",
    "        config[\"data\"][\"end_date\"],\n",
    "        config[\"column_names\"][\"asset_id\"],\n",
    "        data_cols=config[\"data\"][\"columns\"],\n",
    "        asset_ids=None,\n",
    "    )\n",
    "    #\n",
    "    dfs = []\n",
    "    for df in backtest_df_iter:\n",
    "        dfs.append(df)\n",
    "    #\n",
    "    predict_df = pd.concat(dfs)\n",
    "    predict_df = predict_df.sort_index()\n",
    "    return predict_df\n",
    "\n",
    "\n",
    "def preprocess_predictions_df(\n",
    "    config: cconconf.Config, predict_df: pd.DataFrame\n",
    ") -> pd.DataFrame:\n",
    "    \"\"\"\n",
    "    Preprocess data with ML predictions for analysis.\n",
    "\n",
    "    Input:\n",
    "\n",
    "    ```\n",
    "                        volume                  vwap\n",
    "    asset_id            1464553467  1467591036  1464553467  1467591036\n",
    "    end_ts\n",
    "    2018-01-01 09:35:00   314.0657     47.3976    729.7789  12887.3945\n",
    "    2018-01-01 09:40:00   178.6543     35.1098    731.0134  12913.6854\n",
    "    ```\n",
    "\n",
    "    Output:\n",
    "\n",
    "    ```\n",
    "                                              volume        vwap\n",
    "    end_ts                        asset_id\n",
    "    2018-01-01 09:35:00  binance::ETH_USDT  314.0657    729.7789\n",
    "                         binance::BTC_USDT   47.3976  12887.3945\n",
    "    2018-01-01 09:40:00  binance::ETH_USDT  178.6543    731.0134\n",
    "                         binance::BTC_USDT   35.1098  12913.6854\n",
    "    ```\n",
    "    \"\"\"\n",
    "    # Convert the prediction stats data to Multiindex by time and asset id.\n",
    "    metrics_df = predict_df.stack()\n",
    "    # Compute hit and PnL.\n",
    "    metrics_df[\"hit\"] = (\n",
    "        metrics_df[config[\"column_names\"][\"y\"]]\n",
    "        * metrics_df[config[\"column_names\"][\"y_hat\"]]\n",
    "        >= 0\n",
    "    )\n",
    "    metrics_df[\"trade_pnl\"] = (\n",
    "        metrics_df[config[\"column_names\"][\"y\"]]\n",
    "        * metrics_df[config[\"column_names\"][\"y_hat\"]]\n",
    "    )\n",
    "    # TODO(*): Think about avoiding using `ImClient` for mapping.\n",
    "    # Convert asset ids to full symbols using `ImClient` mapping.\n",
    "    im_client = config[\"data\"][\"im_client\"]\n",
    "    metrics_df.index = metrics_df.index.set_levels(\n",
    "        metrics_df.index.levels[1].map(\n",
    "            im_client._asset_id_to_full_symbol_mapping\n",
    "        ),\n",
    "        level=1,\n",
    "    )\n",
    "    return metrics_df\n",
    "\n",
    "\n",
    "def plot_metric(\n",
    "    config: cconconf.Config,\n",
    "    metrics_df: pd.DataFrame,\n",
    "    metric: str,\n",
    "    by: str,\n",
    "    *,\n",
    "    y_min_lim: Optional[float] = None,\n",
    "    y_max_lim: Optional[float] = None,\n",
    ") -> None:\n",
    "    \"\"\"\n",
    "    Plot requested metrics by specified column.\n",
    "    \"\"\"\n",
    "    # Preprocess data and set column names to plot.\n",
    "    data = metrics_df.reset_index().copy()\n",
    "    x_name, data = _x_axis_preprocesing(config, data, by)\n",
    "    y_name, data = _y_axis_preprocesing(config, data, metric, x_name)\n",
    "    #\n",
    "    sns.barplot(\n",
    "        x=x_name,\n",
    "        y=y_name,\n",
    "        data=data,\n",
    "        color=config[\"plot_kwargs\"][\"color\"],\n",
    "        capsize=config[\"plot_kwargs\"][\"capsize\"],\n",
    "    )\n",
    "    plt.xticks(rotation=config[\"plot_kwargs\"][\"xticks_rotation\"])\n",
    "    #\n",
    "    if metric == \"hit_rate\":\n",
    "        y_min_lim = y_min_lim or config[\"plot_kwargs\"][\"y_min_lim\"]\n",
    "        y_max_lim = config[\"plot_kwargs\"][\"y_max_lim\"]\n",
    "    plt.ylim(y_min_lim, y_max_lim)\n",
    "    plt.show()\n",
    "\n",
    "\n",
    "def _x_axis_preprocesing(\n",
    "    config: cconconf.Config,\n",
    "    data: pd.DataFrame,\n",
    "    by: str,\n",
    ") -> Tuple[str, pd.DataFrame]:\n",
    "    \"\"\"\n",
    "    Set X-axis column name and transform data for it if needed.\n",
    "    \"\"\"\n",
    "    # Set used config parameters.\n",
    "    asset_id = config[\"column_names\"][\"asset_id\"]\n",
    "    timestamp = config[\"column_names\"][\"timestamp\"]\n",
    "    y_hat = config[\"column_names\"][\"y_hat\"]\n",
    "    volume = config[\"column_names\"][\"volume\"]\n",
    "    quantile_ranks = config[\"plot_kwargs\"][\"quantile_ranks\"]\n",
    "    #\n",
    "    if by == \"asset_id\":\n",
    "        x_name = asset_id\n",
    "    elif by in [\"hour\", \"weekday\", \"month\"]:\n",
    "        x_name = by\n",
    "        if by == \"hour\":\n",
    "            data[x_name] = data[timestamp].dt.hour\n",
    "        elif by == \"weekday\":\n",
    "            data[x_name] = data[timestamp].dt.day_name()\n",
    "        else:\n",
    "            data[\"month\"] = data[timestamp].dt.month_name()\n",
    "    elif by == \"prediction_magnitude\":\n",
    "        x_name = \".\".join([y_hat, \"quantile_rank\"])\n",
    "        # Make a column with prediction quantile ranks.\n",
    "        data[x_name] = pd.qcut(data[y_hat], quantile_ranks, labels=False)\n",
    "    elif by == \"volume\":\n",
    "        x_name = \".\".join([volume, \"quantile_rank\"])\n",
    "        # Make a column with volume quantile ranks per asset id.\n",
    "        data[x_name] = data.groupby(asset_id)[volume].transform(\n",
    "            lambda x: pd.qcut(x, quantile_ranks, labels=False)\n",
    "        )\n",
    "    else:\n",
    "        raise\n",
    "    return x_name, data\n",
    "\n",
    "\n",
    "def _y_axis_preprocesing(\n",
    "    config: cconconf.Config,\n",
    "    data: pd.DataFrame,\n",
    "    metric: str,\n",
    "    x_name: str,\n",
    ") -> Tuple[str, pd.DataFrame]:\n",
    "    \"\"\"\n",
    "    Set Y-axis column name and transform data for it if needed.\n",
    "    \"\"\"\n",
    "    if metric == \"avg_pnl\":\n",
    "        y_name = config[\"column_names\"][\"trade_pnl\"]\n",
    "    elif metric == \"hit_rate\":\n",
    "        y_name = config[\"column_names\"][\"hit\"]\n",
    "    elif metric == \"sharpe_ratio\":\n",
    "        y_name = config[\"column_names\"][\"trade_pnl\"]\n",
    "        # Compute Shapre Ratio per X-axis category.\n",
    "        data = (\n",
    "            data.groupby(x_name)[y_name]\n",
    "            .agg(lambda x: x.mean() / x.std())\n",
    "            .sort_values(ascending=False)\n",
    "            .reset_index()\n",
    "        )\n",
    "    else:\n",
    "        raise\n",
    "    # Rename Y-axis column name to metric name and store it.\n",
    "    data = data.rename(columns={y_name: metric})\n",
    "    y_name = metric\n",
    "    return y_name, data"
   ]
  },
  {
   "cell_type": "markdown",
   "id": "cd96a4ed",
   "metadata": {},
   "source": [
    "# Load data with predictions"
   ]
  },
  {
   "cell_type": "code",
   "execution_count": null,
   "id": "a776540a",
   "metadata": {},
   "outputs": [],
   "source": [
    "predict_df = load_predictions_df(config)\n",
    "print(predict_df.shape)\n",
    "predict_df.head(3)"
   ]
  },
  {
   "cell_type": "markdown",
   "id": "1f8d0c59",
   "metadata": {},
   "source": [
    "# Compute overall PnL"
   ]
  },
  {
   "cell_type": "code",
   "execution_count": null,
   "id": "c0e507a4",
   "metadata": {},
   "outputs": [],
   "source": [
    "(\n",
    "    predict_df[config[\"column_names\"][\"y\"]]\n",
    "    * predict_df[config[\"column_names\"][\"y_hat\"]]\n",
    ").sum(axis=1).cumsum().plot()"
   ]
  },
  {
   "cell_type": "markdown",
   "id": "3d38a3ec",
   "metadata": {},
   "source": [
    "# Get data for analysis"
   ]
  },
  {
   "cell_type": "code",
   "execution_count": null,
   "id": "a08205b8",
   "metadata": {},
   "outputs": [],
   "source": [
    "metrics_df = preprocess_predictions_df(config, predict_df)\n",
    "metrics_df.head()"
   ]
  },
  {
   "cell_type": "markdown",
   "id": "88f725d6",
   "metadata": {},
   "source": [
    "# Stats"
   ]
  },
  {
   "cell_type": "markdown",
   "id": "a9adc0d8",
   "metadata": {},
   "source": [
    "## By asset"
   ]
  },
  {
   "cell_type": "markdown",
   "id": "bef6de58",
   "metadata": {},
   "source": [
    "### Hit rate"
   ]
  },
  {
   "cell_type": "code",
   "execution_count": null,
   "id": "bb96610a",
   "metadata": {},
   "outputs": [],
   "source": [
    "_ = plot_metric(config, metrics_df, \"hit_rate\", \"asset_id\")"
   ]
  },
  {
   "cell_type": "markdown",
   "id": "00479511",
   "metadata": {},
   "source": [
    "### PnL"
   ]
  },
  {
   "cell_type": "code",
   "execution_count": null,
   "id": "37a0f859",
   "metadata": {},
   "outputs": [],
   "source": [
    "# Cumulative PnL for a given coin.\n",
    "pnl_stats = (\n",
    "    metrics_df.groupby(config[\"column_names\"][\"asset_id\"])[\n",
    "        config[\"column_names\"][\"trade_pnl\"]\n",
    "    ]\n",
    "    .sum()\n",
    "    .sort_values(ascending=False)\n",
    ")\n",
    "# Plot overall PnL per asset id.\n",
    "_ = sns.barplot(x=pnl_stats.index, y=pnl_stats.values, color=\"C0\", capsize=0.2)\n",
    "plt.xticks(rotation=70)\n",
    "plt.show()"
   ]
  },
  {
   "cell_type": "code",
   "execution_count": null,
   "id": "d93b8335",
   "metadata": {},
   "outputs": [],
   "source": [
    "# Plot cumulative PnL over time per asset id.\n",
    "_ = (\n",
    "    metrics_df[config[\"column_names\"][\"trade_pnl\"]]\n",
    "    .dropna()\n",
    "    .unstack()\n",
    "    .cumsum()\n",
    "    .plot()\n",
    ")"
   ]
  },
  {
   "cell_type": "code",
   "execution_count": null,
   "id": "3da3aaa4",
   "metadata": {},
   "outputs": [],
   "source": [
    "_ = plot_metric(config, metrics_df, \"avg_pnl\", \"asset_id\")"
   ]
  },
  {
   "cell_type": "markdown",
   "id": "e02e918e",
   "metadata": {},
   "source": [
    "### Sharpe Ratio"
   ]
  },
  {
   "cell_type": "code",
   "execution_count": null,
   "id": "33b4c57b",
   "metadata": {},
   "outputs": [],
   "source": [
    "_ = plot_metric(config, metrics_df, \"sharpe_ratio\", \"asset_id\")"
   ]
  },
  {
   "cell_type": "markdown",
   "id": "ebb2ad71",
   "metadata": {},
   "source": [
    "## By time"
   ]
  },
  {
   "cell_type": "markdown",
   "id": "4de2397a",
   "metadata": {},
   "source": [
    "### Hit Rate"
   ]
  },
  {
   "cell_type": "code",
   "execution_count": null,
   "id": "f2ba9c99",
   "metadata": {},
   "outputs": [],
   "source": [
    "_ = plot_metric(config, metrics_df, \"hit_rate\", \"hour\", y_min_lim=0.4)"
   ]
  },
  {
   "cell_type": "code",
   "execution_count": null,
   "id": "b26ec439",
   "metadata": {},
   "outputs": [],
   "source": [
    "_ = plot_metric(config, metrics_df, \"hit_rate\", \"weekday\")"
   ]
  },
  {
   "cell_type": "code",
   "execution_count": null,
   "id": "397fde53",
   "metadata": {},
   "outputs": [],
   "source": [
    "_ = plot_metric(config, metrics_df, \"hit_rate\", \"month\")"
   ]
  },
  {
   "cell_type": "markdown",
   "id": "a1ba14ac",
   "metadata": {},
   "source": [
    "### PnL"
   ]
  },
  {
   "cell_type": "code",
   "execution_count": null,
   "id": "fc61b29c",
   "metadata": {},
   "outputs": [],
   "source": [
    "_ = plot_metric(config, metrics_df, \"avg_pnl\", \"hour\")"
   ]
  },
  {
   "cell_type": "code",
   "execution_count": null,
   "id": "1bd4ecf1",
   "metadata": {},
   "outputs": [],
   "source": [
    "_ = plot_metric(config, metrics_df, \"avg_pnl\", \"weekday\")"
   ]
  },
  {
   "cell_type": "code",
   "execution_count": null,
   "id": "fb5a2e93",
   "metadata": {},
   "outputs": [],
   "source": [
    "_ = plot_metric(config, metrics_df, \"avg_pnl\", \"month\")"
   ]
  },
  {
   "cell_type": "markdown",
   "id": "2c45a76a",
   "metadata": {},
   "source": [
    "## By prediction magnitude"
   ]
  },
  {
   "cell_type": "markdown",
   "id": "6ef087c7",
   "metadata": {},
   "source": [
    "### Hit rate"
   ]
  },
  {
   "cell_type": "code",
   "execution_count": null,
   "id": "ca78675b",
   "metadata": {},
   "outputs": [],
   "source": [
    "_ = plot_metric(config, metrics_df, \"hit_rate\", \"prediction_magnitude\")"
   ]
  },
  {
   "cell_type": "markdown",
   "id": "fbe1e578",
   "metadata": {},
   "source": [
    "### PnL"
   ]
  },
  {
   "cell_type": "code",
   "execution_count": null,
   "id": "f4436512",
   "metadata": {},
   "outputs": [],
   "source": [
    "_ = plot_metric(config, metrics_df, \"avg_pnl\", \"prediction_magnitude\")"
   ]
  },
  {
   "cell_type": "markdown",
   "id": "1b689693",
   "metadata": {},
   "source": [
    "## By volume"
   ]
  },
  {
   "cell_type": "markdown",
   "id": "f6c7b2ad",
   "metadata": {},
   "source": [
    "### Hit rate"
   ]
  },
  {
   "cell_type": "code",
   "execution_count": null,
   "id": "fa0ac9f4",
   "metadata": {},
   "outputs": [],
   "source": [
    "_ = plot_metric(config, metrics_df, \"hit_rate\", \"volume\")"
   ]
  },
  {
   "cell_type": "markdown",
   "id": "34dc2c05",
   "metadata": {},
   "source": [
    "### PnL"
   ]
  },
  {
   "cell_type": "code",
   "execution_count": null,
   "id": "d98773b5",
   "metadata": {},
   "outputs": [],
   "source": [
    "_ = plot_metric(config, metrics_df, \"avg_pnl\", \"volume\")"
   ]
  },
  {
   "cell_type": "code",
   "execution_count": null,
   "id": "05449c0a",
   "metadata": {},
   "outputs": [],
   "source": []
  }
 ],
 "metadata": {
  "kernelspec": {
   "display_name": "Python 3 (ipykernel)",
   "language": "python",
   "name": "python3"
  },
  "language_info": {
   "codemirror_mode": {
    "name": "ipython",
    "version": 3
   },
   "file_extension": ".py",
   "mimetype": "text/x-python",
   "name": "python",
   "nbconvert_exporter": "python",
   "pygments_lexer": "ipython3"
  },
  "toc": {
   "base_numbering": 1,
   "nav_menu": {},
   "number_sections": true,
   "sideBar": true,
   "skip_h1_title": false,
   "title_cell": "Table of Contents",
   "title_sidebar": "Contents",
   "toc_cell": false,
   "toc_position": {
    "height": "calc(100% - 180px)",
    "left": "10px",
    "top": "150px",
    "width": "165px"
   },
   "toc_section_display": true,
   "toc_window_display": false
  }
 },
 "nbformat": 4,
 "nbformat_minor": 5
}
