{
 "cells": [
  {
   "cell_type": "markdown",
   "id": "4d75d00e",
   "metadata": {},
   "source": [
    "# Description"
   ]
  },
  {
   "cell_type": "markdown",
   "id": "0f710a02",
   "metadata": {},
   "source": [
    "Compute stats from ML pipeline result."
   ]
  },
  {
   "cell_type": "markdown",
   "id": "4549477a",
   "metadata": {},
   "source": [
    "# Imports"
   ]
  },
  {
   "cell_type": "code",
   "execution_count": null,
   "id": "3e783ed1",
   "metadata": {},
   "outputs": [],
   "source": [
    "%load_ext autoreload\n",
    "%autoreload 2\n",
    "%matplotlib inline"
   ]
  },
  {
   "cell_type": "code",
   "execution_count": null,
   "id": "fbc596de",
   "metadata": {},
   "outputs": [],
   "source": [
    "import datetime\n",
    "import logging\n",
    "from typing import Optional\n",
    "\n",
    "import matplotlib.pyplot as plt\n",
    "import pandas as pd\n",
    "import seaborn as sns\n",
    "\n",
    "import core.config.config_ as cconconf\n",
    "import core.config.config_utils as ccocouti\n",
    "import dataflow.model as dtfmod\n",
    "import helpers.hdbg as hdbg\n",
    "import helpers.henv as henv\n",
    "import helpers.hprint as hprint\n",
    "import im_v2.crypto_chassis.data.client as iccdc"
   ]
  },
  {
   "cell_type": "code",
   "execution_count": null,
   "id": "717d24a8",
   "metadata": {},
   "outputs": [],
   "source": [
    "hdbg.init_logger(verbosity=logging.INFO)\n",
    "\n",
    "_LOG = logging.getLogger(__name__)\n",
    "\n",
    "_LOG.info(\"%s\", henv.get_system_signature()[0])\n",
    "\n",
    "hprint.config_notebook()"
   ]
  },
  {
   "cell_type": "markdown",
   "id": "f7dd094b",
   "metadata": {},
   "source": [
    "# Configs"
   ]
  },
  {
   "cell_type": "code",
   "execution_count": null,
   "id": "be23c175",
   "metadata": {},
   "outputs": [],
   "source": [
    "def get_master_ml_config() -> cconconf.Config:\n",
    "    \"\"\"\n",
    "    Get Master ML pipeline specific config.\n",
    "    \"\"\"\n",
    "    config = cconconf.Config()\n",
    "    param_dict = {\n",
    "        \"data\": {\n",
    "            \"dir_name\": \"/shared_data/model/historical/experiment.E1a.crypto_chassis_v2-all.5T.2018_2022/tiled_results/\",\n",
    "            \"columns\": \"volume vwap vwap.ret_0 vwap.ret_0.vol_adj vwap.ret_0.vol_adj.c vwap.ret_0.vol_adj_2 vwap.ret_0.vol_adj_2_hat\".split(),\n",
    "            \"start_date\": datetime.date(2018, 1, 1),\n",
    "            \"end_date\": datetime.date(2022, 5, 1),\n",
    "        },\n",
    "        \"column_names\": {\n",
    "            \"asset_id\": \"asset_id\",\n",
    "            \"timestamp\": \"end_ts\",\n",
    "            \"volume\": \"volume\",\n",
    "            \"y\": \"vwap.ret_0.vol_adj_2\",\n",
    "            \"y_hat\": \"vwap.ret_0.vol_adj_2_hat\",\n",
    "            \"hit_rate\": \"hit\",\n",
    "            \"pnl\": \"trade_pnl\",\n",
    "        },\n",
    "    }\n",
    "    config = ccocouti.get_config_from_nested_dict(param_dict)\n",
    "    return config"
   ]
  },
  {
   "cell_type": "code",
   "execution_count": null,
   "id": "fde4341e",
   "metadata": {},
   "outputs": [],
   "source": [
    "config = get_master_ml_config()\n",
    "print(config)"
   ]
  },
  {
   "cell_type": "markdown",
   "id": "0b3b5de5",
   "metadata": {},
   "source": [
    "# Functions"
   ]
  },
  {
   "cell_type": "code",
   "execution_count": null,
   "id": "862ac8a8",
   "metadata": {},
   "outputs": [],
   "source": [
    "def load_predictions_df(config: cconconf.Config) -> pd.DataFrame:\n",
    "    \"\"\"\n",
    "    Get data with ML predictions.\n",
    "    \"\"\"\n",
    "    backtest_df_iter = dtfmod.yield_processed_parquet_tiles_by_year(\n",
    "    config[\"data\"][\"dir_name\"],\n",
    "    config[\"data\"][\"start_date\"],\n",
    "    config[\"data\"][\"end_date\"],\n",
    "    config[\"column_names\"][\"asset_id\"],\n",
    "    data_cols=config[\"data\"][\"columns\"],\n",
    "    asset_ids=None,\n",
    "    )\n",
    "    #\n",
    "    dfs = []\n",
    "    for df in backtest_df_iter:\n",
    "        dfs.append(df)\n",
    "    #\n",
    "    predict_df = pd.concat(dfs)\n",
    "    predict_df = predict_df.sort_index()\n",
    "    return predict_df\n",
    "\n",
    "\n",
    "def preprocess_predictions_df(config: cconconf.Config, predict_df: pd.DataFrame) -> pd.DataFrame:\n",
    "    \"\"\"\n",
    "    Preprocess data with ML predictions for analysis.\n",
    "    \"\"\"\n",
    "    # Convert the prediction stats data to Multiindex by time and asset id.\n",
    "    metrics_df = predict_df.stack()\n",
    "    # Compute hit and PnL.\n",
    "    metrics_df[\"hit\"] = metrics_df[config[\"column_names\"][\"y\"]] * metrics_df[config[\"column_names\"][\"y_hat\"]] >= 0\n",
    "    metrics_df[\"trade_pnl\"] = metrics_df[config[\"column_names\"][\"y\"]] * metrics_df[config[\"column_names\"][\"y_hat\"]]\n",
    "    # TODO(*): Think about avoiding using `ImClient` for mapping.\n",
    "    # Convert asset ids to full symbols using `ImClient` mapping.\n",
    "    resample_1min = True\n",
    "    im_client = iccdc.get_CryptoChassisHistoricalPqByTileClient_example2(\n",
    "        resample_1min\n",
    "    )\n",
    "    metrics_df.index = metrics_df.index.set_levels(\n",
    "        metrics_df.index.levels[1].map(im_client._asset_id_to_full_symbol_mapping),\n",
    "        level=1,\n",
    "    )\n",
    "    return metrics_df\n",
    "\n",
    "\n",
    "def plot_cum_pnl_per_asset_id(\n",
    "    config: cconconf.Config,\n",
    "    metrics_df: pd.DataFrame,\n",
    "    *,\n",
    "    color: str = \"C0\",\n",
    "    capsize: float = 0.2,\n",
    "    xticks_rotation: int = 70,\n",
    ") -> pd.DataFrame:\n",
    "    \"\"\"\n",
    "    Plot cummulative PnL per asset id overall and by time.\n",
    "    \"\"\"\n",
    "    # Cummulative PnL for a given coin.\n",
    "    pnl_stats = metrics_df.groupby(\n",
    "        config[\"column_names\"][\"asset_id\"]\n",
    "    )[config[\"column_names\"][\"pnl\"]].sum().sort_values(ascending=False)\n",
    "    # Plot overall cummulative PnL per asset id.\n",
    "    _ = sns.barplot(\n",
    "        x=pnl_stats.index, y=pnl_stats.values, color=color, capsize=capsize\n",
    "    )\n",
    "    plt.xticks(rotation=xticks_rotation)\n",
    "    plt.show()\n",
    "    # Plot cummulative PnL over time per asset id.\n",
    "    _ = metrics_df[config[\"column_names\"][\"pnl\"]].dropna().unstack().cumsum().plot()\n",
    "    plt.show()\n",
    "\n",
    "    \n",
    "def plot_metric(\n",
    "    config: cconconf.Config,\n",
    "    metrics_df: pd.DataFrame,\n",
    "    metric: str,\n",
    "    by: str,\n",
    "    *,\n",
    "    y_min_lim: Optional[float] = None,\n",
    "    y_max_lim: Optional[float] = None,\n",
    "    decile_ranks: int = 10,\n",
    "    color: str = \"C0\",\n",
    "    capsize: float = 0.2,\n",
    "    xticks_rotation: int = 70,\n",
    ") -> None:\n",
    "    \"\"\"\n",
    "    Plot requested metrics by specified column.\n",
    "    \"\"\"\n",
    "    data = metrics_df.reset_index().copy()\n",
    "    # Set X-axis column name and compute data for it if needed.\n",
    "    if by == \"asset_id\":\n",
    "        x_name = config[\"column_names\"][\"asset_id\"]\n",
    "    elif by in [\"hour\", \"weekday\", \"month\"]:\n",
    "        x_name = by\n",
    "        if by == \"hour\":\n",
    "            data[x_name] = data[config[\"column_names\"][\"timestamp\"]].dt.hour\n",
    "        elif by == \"weekday\":\n",
    "            data[x_name] = data[config[\"column_names\"][\"timestamp\"]].dt.day_name()\n",
    "        else:\n",
    "            data[\"month\"] = data[config[\"column_names\"][\"timestamp\"]].dt.month_name()\n",
    "    elif by == \"prediction_magnitude\":\n",
    "        x_name = \".\".join([config[\"column_names\"][\"y_hat\"], \"decile_rank\"])\n",
    "        # Make a columns with prediction decile ranks.\n",
    "        data[x_name] = pd.qcut(data[config[\"column_names\"][\"y_hat\"]], decile_ranks, labels = False)\n",
    "    elif by == \"volume\":\n",
    "        x_name = \".\".join([config[\"column_names\"][\"volume\"], \"decile_rank\"])\n",
    "        # Make a columns with volume decile ranks per asset id.\n",
    "        data[x_name] = data.groupby(\n",
    "            config[\"column_names\"][\"asset_id\"]\n",
    "        )[config[\"column_names\"][\"volume\"]].transform(\n",
    "            lambda x: pd.qcut(x, decile_ranks, labels=False)\n",
    "        )\n",
    "    else:\n",
    "        raise\n",
    "    # Set Y-axis column name and comute data for it if needed.\n",
    "    if metric == \"pnl\":\n",
    "        y_name = config[\"column_names\"][\"pnl\"]\n",
    "    elif metric == \"hit_rate\":\n",
    "        y_name = config[\"column_names\"][\"hit_rate\"]\n",
    "        # Set limits around default values interval.\n",
    "        y_min_lim = y_min_lim or 0.45\n",
    "        y_max_lim = y_max_lim or 0.55\n",
    "    elif metric == \"sharpe_ratio\":\n",
    "        y_name = metric\n",
    "        # Compute Shapre Ratio per X-axis category.\n",
    "        data = data.groupby(x_name)[\n",
    "            config[\"column_names\"][\"pnl\"]\n",
    "        ].agg(\n",
    "            lambda x: x.mean() / x.std()\n",
    "        ).sort_values(ascending=False).reset_index()\n",
    "        # Rename columns to correctly access PnL data.\n",
    "        data = data.rename(columns={config[\"column_names\"][\"pnl\"]: y_name})\n",
    "    else:\n",
    "        raise\n",
    "    #\n",
    "    sns.barplot(\n",
    "        x=x_name, y=y_name, data=data, color=color, capsize=capsize\n",
    "    )\n",
    "    plt.xticks(rotation=xticks_rotation)\n",
    "    plt.ylim(y_min_lim, y_max_lim)\n",
    "    plt.show()"
   ]
  },
  {
   "cell_type": "markdown",
   "id": "cd96a4ed",
   "metadata": {},
   "source": [
    "# Load data with predictions"
   ]
  },
  {
   "cell_type": "code",
   "execution_count": null,
   "id": "a776540a",
   "metadata": {},
   "outputs": [],
   "source": [
    "predict_df = load_predictions_df(config)\n",
    "print(predict_df.shape)\n",
    "predict_df.head(3)"
   ]
  },
  {
   "cell_type": "markdown",
   "id": "1f8d0c59",
   "metadata": {},
   "source": [
    "# Compute overall PnL"
   ]
  },
  {
   "cell_type": "code",
   "execution_count": null,
   "id": "c0e507a4",
   "metadata": {},
   "outputs": [],
   "source": [
    "(\n",
    "    predict_df[config[\"column_names\"][\"y\"]] * \n",
    "    predict_df[config[\"column_names\"][\"y_hat\"]]\n",
    ").sum(axis=1).cumsum().plot()"
   ]
  },
  {
   "cell_type": "markdown",
   "id": "3d38a3ec",
   "metadata": {},
   "source": [
    "# Get data for analysis"
   ]
  },
  {
   "cell_type": "code",
   "execution_count": null,
   "id": "a08205b8",
   "metadata": {},
   "outputs": [],
   "source": [
    "metrics_df = preprocess_predictions_df(config, predict_df)\n",
    "metrics_df.head()"
   ]
  },
  {
   "cell_type": "markdown",
   "id": "88f725d6",
   "metadata": {},
   "source": [
    "# Stats"
   ]
  },
  {
   "cell_type": "markdown",
   "id": "a9adc0d8",
   "metadata": {},
   "source": [
    "## By asset"
   ]
  },
  {
   "cell_type": "markdown",
   "id": "bef6de58",
   "metadata": {},
   "source": [
    "### Hit rate"
   ]
  },
  {
   "cell_type": "code",
   "execution_count": null,
   "id": "bb96610a",
   "metadata": {},
   "outputs": [],
   "source": [
    "_ = plot_metric(config, metrics_df, \"hit_rate\", \"asset_id\")"
   ]
  },
  {
   "cell_type": "markdown",
   "id": "00479511",
   "metadata": {},
   "source": [
    "### PnL"
   ]
  },
  {
   "cell_type": "code",
   "execution_count": null,
   "id": "79a2fd12",
   "metadata": {},
   "outputs": [],
   "source": [
    "_ = plot_cum_pnl_per_asset_id(config, metrics_df)"
   ]
  },
  {
   "cell_type": "code",
   "execution_count": null,
   "id": "3da3aaa4",
   "metadata": {},
   "outputs": [],
   "source": [
    "_ = plot_metric(config, metrics_df, \"pnl\", \"asset_id\")"
   ]
  },
  {
   "cell_type": "markdown",
   "id": "e02e918e",
   "metadata": {},
   "source": [
    "### Sharpe Ratio"
   ]
  },
  {
   "cell_type": "code",
   "execution_count": null,
   "id": "33b4c57b",
   "metadata": {},
   "outputs": [],
   "source": [
    "_ = plot_metric(config, metrics_df, \"sharpe_ratio\", \"asset_id\")"
   ]
  },
  {
   "cell_type": "markdown",
   "id": "ebb2ad71",
   "metadata": {},
   "source": [
    "## By time"
   ]
  },
  {
   "cell_type": "markdown",
   "id": "4de2397a",
   "metadata": {},
   "source": [
    "### Hit Rate"
   ]
  },
  {
   "cell_type": "code",
   "execution_count": null,
   "id": "f2ba9c99",
   "metadata": {},
   "outputs": [],
   "source": [
    "_ = plot_metric(config, metrics_df, \"hit_rate\", \"hour\", y_min_lim=0.4)"
   ]
  },
  {
   "cell_type": "code",
   "execution_count": null,
   "id": "b26ec439",
   "metadata": {},
   "outputs": [],
   "source": [
    "_ = plot_metric(config, metrics_df, \"hit_rate\", \"weekday\")"
   ]
  },
  {
   "cell_type": "code",
   "execution_count": null,
   "id": "397fde53",
   "metadata": {},
   "outputs": [],
   "source": [
    "_ = plot_metric(config, metrics_df, \"hit_rate\", \"month\")"
   ]
  },
  {
   "cell_type": "markdown",
   "id": "a1ba14ac",
   "metadata": {},
   "source": [
    "### PnL"
   ]
  },
  {
   "cell_type": "code",
   "execution_count": null,
   "id": "fc61b29c",
   "metadata": {},
   "outputs": [],
   "source": [
    "_ = plot_metric(config, metrics_df, \"pnl\", \"hour\")"
   ]
  },
  {
   "cell_type": "code",
   "execution_count": null,
   "id": "1bd4ecf1",
   "metadata": {},
   "outputs": [],
   "source": [
    "_ = plot_metric(config, metrics_df, \"pnl\", \"weekday\")"
   ]
  },
  {
   "cell_type": "code",
   "execution_count": null,
   "id": "fb5a2e93",
   "metadata": {},
   "outputs": [],
   "source": [
    "_ = plot_metric(config, metrics_df, \"pnl\", \"month\")"
   ]
  },
  {
   "cell_type": "markdown",
   "id": "2c45a76a",
   "metadata": {},
   "source": [
    "## By prediction magnitude"
   ]
  },
  {
   "cell_type": "markdown",
   "id": "6ef087c7",
   "metadata": {},
   "source": [
    "### Hit rate"
   ]
  },
  {
   "cell_type": "code",
   "execution_count": null,
   "id": "ca78675b",
   "metadata": {},
   "outputs": [],
   "source": [
    "_ = plot_metric(config, metrics_df, \"hit_rate\", \"prediction_magnitude\")"
   ]
  },
  {
   "cell_type": "markdown",
   "id": "fbe1e578",
   "metadata": {},
   "source": [
    "### PnL"
   ]
  },
  {
   "cell_type": "code",
   "execution_count": null,
   "id": "f4436512",
   "metadata": {},
   "outputs": [],
   "source": [
    "_ = plot_metric(config, metrics_df, \"pnl\", \"prediction_magnitude\")"
   ]
  },
  {
   "cell_type": "markdown",
   "id": "1b689693",
   "metadata": {},
   "source": [
    "## By volume"
   ]
  },
  {
   "cell_type": "markdown",
   "id": "f6c7b2ad",
   "metadata": {},
   "source": [
    "### Hit rate"
   ]
  },
  {
   "cell_type": "code",
   "execution_count": null,
   "id": "fa0ac9f4",
   "metadata": {},
   "outputs": [],
   "source": [
    "_ = plot_metric(config, metrics_df, \"hit_rate\", \"volume\")"
   ]
  },
  {
   "cell_type": "markdown",
   "id": "34dc2c05",
   "metadata": {},
   "source": [
    "### PnL"
   ]
  },
  {
   "cell_type": "code",
   "execution_count": null,
   "id": "d98773b5",
   "metadata": {},
   "outputs": [],
   "source": [
    "_ = plot_metric(config, metrics_df, \"pnl\", \"volume\")"
   ]
  },
  {
   "cell_type": "code",
   "execution_count": null,
   "id": "05449c0a",
   "metadata": {},
   "outputs": [],
   "source": []
  }
 ],
 "metadata": {
  "kernelspec": {
   "display_name": "Python 3 (ipykernel)",
   "language": "python",
   "name": "python3"
  },
  "language_info": {
   "codemirror_mode": {
    "name": "ipython",
    "version": 3
   },
   "file_extension": ".py",
   "mimetype": "text/x-python",
   "name": "python",
   "nbconvert_exporter": "python",
   "pygments_lexer": "ipython3"
  },
  "toc": {
   "base_numbering": 1,
   "nav_menu": {},
   "number_sections": true,
   "sideBar": true,
   "skip_h1_title": false,
   "title_cell": "Table of Contents",
   "title_sidebar": "Contents",
   "toc_cell": false,
   "toc_position": {
    "height": "calc(100% - 180px)",
    "left": "10px",
    "top": "150px",
    "width": "165px"
   },
   "toc_section_display": true,
   "toc_window_display": false
  }
 },
 "nbformat": 4,
 "nbformat_minor": 5
}
