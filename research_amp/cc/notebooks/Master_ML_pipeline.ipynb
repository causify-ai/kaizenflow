{
 "cells": [
  {
   "cell_type": "markdown",
   "id": "4d75d00e",
   "metadata": {},
   "source": [
    "# Description"
   ]
  },
  {
   "cell_type": "markdown",
   "id": "0f710a02",
   "metadata": {},
   "source": [
    "Compute stats from ML pipeline result."
   ]
  },
  {
   "cell_type": "markdown",
   "id": "4549477a",
   "metadata": {},
   "source": [
    "# Imports"
   ]
  },
  {
   "cell_type": "code",
   "execution_count": null,
   "id": "3e783ed1",
   "metadata": {},
   "outputs": [],
   "source": [
    "%load_ext autoreload\n",
    "%autoreload 2\n",
    "%matplotlib inline"
   ]
  },
  {
   "cell_type": "code",
   "execution_count": null,
   "id": "fbc596de",
   "metadata": {},
   "outputs": [],
   "source": [
    "import datetime\n",
    "import logging\n",
    "from typing import Any, Callable, List\n",
    "\n",
    "import matplotlib.pyplot as plt\n",
    "import pandas as pd\n",
    "import seaborn as sns\n",
    "import sklearn\n",
    "\n",
    "import core.config.config_ as cconconf\n",
    "import core.config.config_utils as ccocouti\n",
    "import core.statistics.sharpe_ratio as cstshrat\n",
    "import dataflow.model as dtfmod\n",
    "import helpers.hdbg as hdbg\n",
    "import helpers.henv as henv\n",
    "import helpers.hprint as hprint\n",
    "import im_v2.crypto_chassis.data.client as iccdc"
   ]
  },
  {
   "cell_type": "code",
   "execution_count": null,
   "id": "717d24a8",
   "metadata": {},
   "outputs": [],
   "source": [
    "hdbg.init_logger(verbosity=logging.INFO)\n",
    "\n",
    "_LOG = logging.getLogger(__name__)\n",
    "\n",
    "_LOG.info(\"%s\", henv.get_system_signature()[0])\n",
    "\n",
    "hprint.config_notebook()"
   ]
  },
  {
   "cell_type": "markdown",
   "id": "f7dd094b",
   "metadata": {},
   "source": [
    "# Configs"
   ]
  },
  {
   "cell_type": "code",
   "execution_count": null,
   "id": "be23c175",
   "metadata": {},
   "outputs": [],
   "source": [
    "def get_master_ml_config() -> cconconf.Config:\n",
    "    \"\"\"\n",
    "    Get Master ML pipeline specific config.\n",
    "    \"\"\"\n",
    "    config = cconconf.Config()\n",
    "    param_dict = {\n",
    "        \"data\": {\n",
    "            \"dir_name\": \"/shared_data/model/historical/experiment.E1a.crypto_chassis_v2-all.5T.2018_2022/tiled_results/\",\n",
    "            \"columns\": \"volume vwap vwap.ret_0 vwap.ret_0.vol_adj vwap.ret_0.vol_adj.c vwap.ret_0.vol_adj_2 vwap.ret_0.vol_adj_2_hat\".split(),\n",
    "            \"start_date\": datetime.date(2018, 1, 1),\n",
    "            \"end_date\": datetime.date(2022, 5, 1),\n",
    "            \"im_client\": iccdc.get_CryptoChassisHistoricalPqByTileClient_example2(\n",
    "                True\n",
    "            ),\n",
    "        },\n",
    "        \"column_names\": {\n",
    "            \"asset_id\": \"asset_id\",\n",
    "            \"timestamp\": \"end_ts\",\n",
    "            \"volume\": \"volume\",\n",
    "            \"y\": \"vwap.ret_0.vol_adj_2\",\n",
    "            \"y_hat\": \"vwap.ret_0.vol_adj_2_hat\",\n",
    "            \"hit\": \"hit\",\n",
    "            \"trade_pnl\": \"trade_pnl\",\n",
    "        },\n",
    "        \"plot_kwargs\": {\n",
    "            \"y_min_lim\": 0.4,\n",
    "            \"y_max_lim\": 0.6,\n",
    "            \"quantile_ranks\": 10,\n",
    "            \"time_scaling\": 1,\n",
    "            \"n_resamples\": 1000,\n",
    "            \"color\": \"C0\",\n",
    "            \"capsize\": 0.2,\n",
    "            \"xticks_rotation\": 70,\n",
    "        },\n",
    "    }\n",
    "    config = ccocouti.get_config_from_nested_dict(param_dict)\n",
    "    return config"
   ]
  },
  {
   "cell_type": "code",
   "execution_count": null,
   "id": "fde4341e",
   "metadata": {},
   "outputs": [],
   "source": [
    "config = get_master_ml_config()\n",
    "print(config)"
   ]
  },
  {
   "cell_type": "markdown",
   "id": "0b3b5de5",
   "metadata": {},
   "source": [
    "# Functions"
   ]
  },
  {
   "cell_type": "code",
   "execution_count": null,
   "id": "862ac8a8",
   "metadata": {},
   "outputs": [],
   "source": [
    "def load_predictions_df(config: cconconf.Config) -> pd.DataFrame:\n",
    "    \"\"\"\n",
    "    Get data with ML predictions.\n",
    "    \"\"\"\n",
    "    backtest_df_iter = dtfmod.yield_processed_parquet_tiles_by_year(\n",
    "        config[\"data\"][\"dir_name\"],\n",
    "        config[\"data\"][\"start_date\"],\n",
    "        config[\"data\"][\"end_date\"],\n",
    "        config[\"column_names\"][\"asset_id\"],\n",
    "        data_cols=config[\"data\"][\"columns\"],\n",
    "        asset_ids=None,\n",
    "    )\n",
    "    #\n",
    "    dfs = []\n",
    "    for df in backtest_df_iter:\n",
    "        dfs.append(df)\n",
    "    #\n",
    "    predict_df = pd.concat(dfs)\n",
    "    predict_df = predict_df.sort_index()\n",
    "    return predict_df\n",
    "\n",
    "\n",
    "def preprocess_predictions_df(\n",
    "    config: cconconf.Config, predict_df: pd.DataFrame\n",
    ") -> pd.DataFrame:\n",
    "    \"\"\"\n",
    "    Preprocess data with ML predictions for analysis.\n",
    "\n",
    "    Input:\n",
    "\n",
    "    ```\n",
    "                        volume                  vwap\n",
    "    asset_id            1464553467  1467591036  1464553467  1467591036\n",
    "    end_ts\n",
    "    2018-01-01 09:35:00   314.0657     47.3976    729.7789  12887.3945\n",
    "    2018-01-01 09:40:00   178.6543     35.1098    731.0134  12913.6854\n",
    "    ```\n",
    "\n",
    "    Output:\n",
    "\n",
    "    ```\n",
    "                                              volume        vwap\n",
    "    end_ts                        asset_id\n",
    "    2018-01-01 09:35:00  binance::ETH_USDT  314.0657    729.7789\n",
    "                         binance::BTC_USDT   47.3976  12887.3945\n",
    "    2018-01-01 09:40:00  binance::ETH_USDT  178.6543    731.0134\n",
    "                         binance::BTC_USDT   35.1098  12913.6854\n",
    "    ```\n",
    "    \"\"\"\n",
    "    # Convert the prediction stats data to Multiindex by time and asset id.\n",
    "    metrics_df = predict_df.stack()\n",
    "    # Compute hit and PnL.\n",
    "    metrics_df[\"hit\"] = (\n",
    "        metrics_df[config[\"column_names\"][\"y\"]]\n",
    "        * metrics_df[config[\"column_names\"][\"y_hat\"]]\n",
    "        >= 0\n",
    "    )\n",
    "    metrics_df[\"trade_pnl\"] = (\n",
    "        metrics_df[config[\"column_names\"][\"y\"]]\n",
    "        * metrics_df[config[\"column_names\"][\"y_hat\"]]\n",
    "    )\n",
    "    # TODO(*): Think about avoiding using `ImClient` for mapping.\n",
    "    # Convert asset ids to full symbols using `ImClient` mapping.\n",
    "    im_client = config[\"data\"][\"im_client\"]\n",
    "    metrics_df.index = metrics_df.index.set_levels(\n",
    "        metrics_df.index.levels[1].map(\n",
    "            im_client._asset_id_to_full_symbol_mapping\n",
    "        ),\n",
    "        level=1,\n",
    "    )\n",
    "    return metrics_df\n",
    "\n",
    "\n",
    "# TODO(*): Consider using bootstraping function from SciPy\n",
    "#  https://docs.scipy.org/doc/scipy/reference/generated/scipy.stats.bootstrap.html.\n",
    "# TODO(Dan): Consider to return CI values.\n",
    "def bootstrap(\n",
    "    data: pd.Series, func: Callable, n_resamples: int = 100\n",
    ") -> List[Any]:\n",
    "    \"\"\"\n",
    "    Bootstrap computations on specified number of data resamples.\n",
    "\n",
    "    :param data: input data to resample\n",
    "    :param func: function accepting a series and returning a single scalar value\n",
    "    :param n_resamples: number of resamples to create\n",
    "    :return: bootstrapped computations\n",
    "    \"\"\"\n",
    "    res_list = []\n",
    "    for i in range(n_resamples):\n",
    "        resampled_data = sklearn.utils.resample(data)\n",
    "        res = func(resampled_data)\n",
    "        res_list.append(res)\n",
    "    return res_list\n",
    "\n",
    "\n",
    "def plot_sharpe_ratio(\n",
    "    config: cconconf.Config, metrics_df: pd.DataFrame, by_col: str\n",
    ") -> None:\n",
    "    \"\"\"\n",
    "    Compute and plot Sharpe Ratio by specified column.\n",
    "    \"\"\"\n",
    "    res_list = []\n",
    "    for by, data in metrics_df.groupby(by_col):\n",
    "        srs = data[config[\"column_names\"][\"trade_pnl\"]].dropna()\n",
    "        func = lambda pnl: cstshrat.compute_sharpe_ratio(\n",
    "            pnl, time_scaling=config[\"plot_kwargs\"][\"time_scaling\"]\n",
    "        )\n",
    "        # Multiple Sharpe Ratios are being computed on many resamples\n",
    "        # in order to find and plot confidence intervals.\n",
    "        sharpe_ratio_srs = pd.Series(\n",
    "            bootstrap(srs, func, config[\"plot_kwargs\"][\"n_resamples\"]),\n",
    "            name=\"sharpe_ratio\",\n",
    "        )\n",
    "        # Transform and combine data for plotting.\n",
    "        sharpe_ratio_df = sharpe_ratio_srs.to_frame()\n",
    "        sharpe_ratio_df[by_col] = by\n",
    "        res_list.append(sharpe_ratio_df)\n",
    "    res_df = pd.concat(res_list)\n",
    "    #\n",
    "    sns.barplot(\n",
    "        x=by_col,\n",
    "        y=\"sharpe_ratio\",\n",
    "        data=res_df,\n",
    "        color=config[\"plot_kwargs\"][\"color\"],\n",
    "        capsize=config[\"plot_kwargs\"][\"capsize\"],\n",
    "    )\n",
    "    plt.xticks(rotation=config[\"plot_kwargs\"][\"xticks_rotation\"])\n",
    "    plt.show()"
   ]
  },
  {
   "cell_type": "markdown",
   "id": "cd96a4ed",
   "metadata": {},
   "source": [
    "# Load data with predictions"
   ]
  },
  {
   "cell_type": "code",
   "execution_count": null,
   "id": "a776540a",
   "metadata": {},
   "outputs": [],
   "source": [
    "predict_df = load_predictions_df(config)\n",
    "print(predict_df.shape)\n",
    "predict_df.head(3)"
   ]
  },
  {
   "cell_type": "markdown",
   "id": "1f8d0c59",
   "metadata": {},
   "source": [
    "# Compute overall PnL"
   ]
  },
  {
   "cell_type": "code",
   "execution_count": null,
   "id": "c0e507a4",
   "metadata": {},
   "outputs": [],
   "source": [
    "(\n",
    "    predict_df[config[\"column_names\"][\"y\"]]\n",
    "    * predict_df[config[\"column_names\"][\"y_hat\"]]\n",
    ").sum(axis=1).cumsum().plot()"
   ]
  },
  {
   "cell_type": "markdown",
   "id": "3d38a3ec",
   "metadata": {},
   "source": [
    "# Get data for analysis"
   ]
  },
  {
   "cell_type": "code",
   "execution_count": null,
   "id": "a08205b8",
   "metadata": {},
   "outputs": [],
   "source": [
    "metrics_df = preprocess_predictions_df(config, predict_df)\n",
    "metrics_df.head()"
   ]
  },
  {
   "cell_type": "code",
   "execution_count": null,
   "id": "2016ceb0",
   "metadata": {},
   "outputs": [],
   "source": [
    "# Reset index to ease further preprocessing.\n",
    "# TODO(Dan): Move index resetting under plotting funtions.\n",
    "metrics_df_reset_index = metrics_df.reset_index()"
   ]
  },
  {
   "cell_type": "markdown",
   "id": "88f725d6",
   "metadata": {},
   "source": [
    "# Stats"
   ]
  },
  {
   "cell_type": "code",
   "execution_count": null,
   "id": "f1876d33",
   "metadata": {},
   "outputs": [],
   "source": [
    "# Set oftenly used config parameters.\n",
    "asset_id = config[\"column_names\"][\"asset_id\"]\n",
    "timestamp = config[\"column_names\"][\"timestamp\"]\n",
    "volume = config[\"column_names\"][\"volume\"]\n",
    "y_hat = config[\"column_names\"][\"y_hat\"]\n",
    "hit = config[\"column_names\"][\"hit\"]\n",
    "trade_pnl = config[\"column_names\"][\"trade_pnl\"]\n",
    "#\n",
    "y_min_lim = config[\"plot_kwargs\"][\"y_min_lim\"]\n",
    "y_max_lim = config[\"plot_kwargs\"][\"y_max_lim\"]\n",
    "quantile_ranks = config[\"plot_kwargs\"][\"quantile_ranks\"]\n",
    "color = config[\"plot_kwargs\"][\"color\"]\n",
    "capsize = config[\"plot_kwargs\"][\"capsize\"]\n",
    "xticks_rotation = config[\"plot_kwargs\"][\"xticks_rotation\"]"
   ]
  },
  {
   "cell_type": "markdown",
   "id": "a9adc0d8",
   "metadata": {},
   "source": [
    "## By asset"
   ]
  },
  {
   "cell_type": "markdown",
   "id": "bef6de58",
   "metadata": {},
   "source": [
    "### Hit rate"
   ]
  },
  {
   "cell_type": "code",
   "execution_count": null,
   "id": "ebaf9e93",
   "metadata": {},
   "outputs": [],
   "source": [
    "sns.barplot(\n",
    "    x=asset_id,\n",
    "    y=hit,\n",
    "    data=metrics_df_reset_index,\n",
    "    color=color,\n",
    "    capsize=capsize,\n",
    ")\n",
    "#\n",
    "plt.xticks(rotation=xticks_rotation)\n",
    "plt.ylabel(\"hit_rate\")\n",
    "plt.ylim(y_min_lim, y_max_lim)\n",
    "plt.show()"
   ]
  },
  {
   "cell_type": "markdown",
   "id": "00479511",
   "metadata": {},
   "source": [
    "### PnL"
   ]
  },
  {
   "cell_type": "code",
   "execution_count": null,
   "id": "37a0f859",
   "metadata": {},
   "outputs": [],
   "source": [
    "# Summary PnL for a given coin.\n",
    "pnl_stats = (\n",
    "    metrics_df.groupby(asset_id)[trade_pnl].sum().sort_values(ascending=False)\n",
    ")\n",
    "# Plot summary PnL per asset id.\n",
    "_ = sns.barplot(\n",
    "    x=pnl_stats.index,\n",
    "    y=pnl_stats.values,\n",
    "    color=color,\n",
    "    capsize=capsize,\n",
    ")\n",
    "plt.xticks(rotation=xticks_rotation)\n",
    "plt.show()"
   ]
  },
  {
   "cell_type": "code",
   "execution_count": null,
   "id": "d93b8335",
   "metadata": {},
   "outputs": [],
   "source": [
    "# Plot cumulative PnL over time per asset id.\n",
    "_ = metrics_df[trade_pnl].dropna().unstack().cumsum().plot()"
   ]
  },
  {
   "cell_type": "code",
   "execution_count": null,
   "id": "392325e9",
   "metadata": {},
   "outputs": [],
   "source": [
    "# Plot average PnL per asset id.\n",
    "sns.barplot(\n",
    "    x=asset_id,\n",
    "    y=trade_pnl,\n",
    "    data=metrics_df_reset_index,\n",
    "    color=color,\n",
    "    capsize=capsize,\n",
    ")\n",
    "#\n",
    "plt.xticks(rotation=xticks_rotation)\n",
    "plt.ylabel(\"avg_pnl\")\n",
    "plt.show()"
   ]
  },
  {
   "cell_type": "markdown",
   "id": "e02e918e",
   "metadata": {},
   "source": [
    "### Sharpe Ratio"
   ]
  },
  {
   "cell_type": "code",
   "execution_count": null,
   "id": "fe1c0c81",
   "metadata": {},
   "outputs": [],
   "source": [
    "plot_sharpe_ratio(config, metrics_df_reset_index, asset_id)"
   ]
  },
  {
   "cell_type": "markdown",
   "id": "ebb2ad71",
   "metadata": {},
   "source": [
    "## By time"
   ]
  },
  {
   "cell_type": "code",
   "execution_count": null,
   "id": "2406cf0e",
   "metadata": {},
   "outputs": [],
   "source": [
    "metrics_df_reset_index[\"hour\"] = metrics_df_reset_index[timestamp].dt.hour\n",
    "metrics_df_reset_index[\"weekday\"] = metrics_df_reset_index[\n",
    "    timestamp\n",
    "].dt.day_name()\n",
    "metrics_df_reset_index[\"month\"] = metrics_df_reset_index[\n",
    "    timestamp\n",
    "].dt.month_name()"
   ]
  },
  {
   "cell_type": "markdown",
   "id": "4de2397a",
   "metadata": {},
   "source": [
    "### Hit Rate"
   ]
  },
  {
   "cell_type": "code",
   "execution_count": null,
   "id": "89146224",
   "metadata": {},
   "outputs": [],
   "source": [
    "sns.barplot(\n",
    "    x=\"hour\",\n",
    "    y=hit,\n",
    "    data=metrics_df_reset_index,\n",
    "    color=color,\n",
    "    capsize=capsize,\n",
    ")\n",
    "#\n",
    "plt.xticks(rotation=xticks_rotation)\n",
    "plt.ylabel(\"hit_rate\")\n",
    "plt.ylim(y_min_lim, y_max_lim)\n",
    "plt.show()"
   ]
  },
  {
   "cell_type": "code",
   "execution_count": null,
   "id": "d17b40e0",
   "metadata": {},
   "outputs": [],
   "source": [
    "sns.barplot(\n",
    "    x=\"weekday\",\n",
    "    y=hit,\n",
    "    data=metrics_df_reset_index,\n",
    "    color=color,\n",
    "    capsize=capsize,\n",
    ")\n",
    "#\n",
    "plt.xticks(rotation=xticks_rotation)\n",
    "plt.ylabel(\"hit_rate\")\n",
    "plt.ylim(y_min_lim, y_max_lim)\n",
    "plt.show()"
   ]
  },
  {
   "cell_type": "code",
   "execution_count": null,
   "id": "46cae11f",
   "metadata": {},
   "outputs": [],
   "source": [
    "sns.barplot(\n",
    "    x=\"month\",\n",
    "    y=hit,\n",
    "    data=metrics_df_reset_index,\n",
    "    color=color,\n",
    "    capsize=capsize,\n",
    ")\n",
    "#\n",
    "plt.xticks(rotation=xticks_rotation)\n",
    "plt.ylabel(\"hit_rate\")\n",
    "plt.ylim(y_min_lim, y_max_lim)\n",
    "plt.show()"
   ]
  },
  {
   "cell_type": "markdown",
   "id": "a1ba14ac",
   "metadata": {},
   "source": [
    "### PnL"
   ]
  },
  {
   "cell_type": "code",
   "execution_count": null,
   "id": "8aeaefad",
   "metadata": {},
   "outputs": [],
   "source": [
    "sns.barplot(\n",
    "    x=\"hour\",\n",
    "    y=trade_pnl,\n",
    "    data=metrics_df_reset_index,\n",
    "    color=color,\n",
    "    capsize=capsize,\n",
    ")\n",
    "#\n",
    "plt.xticks(rotation=xticks_rotation)\n",
    "plt.ylabel(\"avg_pnl\")\n",
    "plt.show()"
   ]
  },
  {
   "cell_type": "code",
   "execution_count": null,
   "id": "d163a84e",
   "metadata": {},
   "outputs": [],
   "source": [
    "sns.barplot(\n",
    "    x=\"weekday\",\n",
    "    y=trade_pnl,\n",
    "    data=metrics_df_reset_index,\n",
    "    color=color,\n",
    "    capsize=capsize,\n",
    ")\n",
    "#\n",
    "plt.xticks(rotation=xticks_rotation)\n",
    "plt.ylabel(\"avg_pnl\")\n",
    "plt.show()"
   ]
  },
  {
   "cell_type": "code",
   "execution_count": null,
   "id": "4de85a75",
   "metadata": {},
   "outputs": [],
   "source": [
    "sns.barplot(\n",
    "    x=\"month\",\n",
    "    y=trade_pnl,\n",
    "    data=metrics_df_reset_index,\n",
    "    color=color,\n",
    "    capsize=capsize,\n",
    ")\n",
    "#\n",
    "plt.xticks(rotation=xticks_rotation)\n",
    "plt.ylabel(\"avg_pnl\")\n",
    "plt.show()"
   ]
  },
  {
   "cell_type": "markdown",
   "id": "f2199fad",
   "metadata": {},
   "source": [
    "### Sharpe Ratio"
   ]
  },
  {
   "cell_type": "code",
   "execution_count": null,
   "id": "877f6c95",
   "metadata": {},
   "outputs": [],
   "source": [
    "plot_sharpe_ratio(config, metrics_df_reset_index, \"hour\")"
   ]
  },
  {
   "cell_type": "code",
   "execution_count": null,
   "id": "ed16c402",
   "metadata": {},
   "outputs": [],
   "source": [
    "plot_sharpe_ratio(config, metrics_df_reset_index, \"weekday\")"
   ]
  },
  {
   "cell_type": "code",
   "execution_count": null,
   "id": "04a14177",
   "metadata": {},
   "outputs": [],
   "source": [
    "plot_sharpe_ratio(config, metrics_df_reset_index, \"month\")"
   ]
  },
  {
   "cell_type": "markdown",
   "id": "2c45a76a",
   "metadata": {},
   "source": [
    "## By prediction magnitude"
   ]
  },
  {
   "cell_type": "code",
   "execution_count": null,
   "id": "ca68ee01",
   "metadata": {},
   "outputs": [],
   "source": [
    "prediction_magnitude = \".\".join([y_hat, \"quantile_rank\"])\n",
    "metrics_df_reset_index[prediction_magnitude] = pd.qcut(\n",
    "    metrics_df_reset_index[y_hat], quantile_ranks, labels=False\n",
    ")"
   ]
  },
  {
   "cell_type": "markdown",
   "id": "6ef087c7",
   "metadata": {},
   "source": [
    "### Hit rate"
   ]
  },
  {
   "cell_type": "code",
   "execution_count": null,
   "id": "76245468",
   "metadata": {},
   "outputs": [],
   "source": [
    "sns.barplot(\n",
    "    x=prediction_magnitude,\n",
    "    y=hit,\n",
    "    data=metrics_df_reset_index,\n",
    "    color=color,\n",
    "    capsize=capsize,\n",
    ")\n",
    "#\n",
    "plt.xticks(rotation=xticks_rotation)\n",
    "plt.ylabel(\"hit_rate\")\n",
    "plt.ylim(y_min_lim, y_max_lim)\n",
    "plt.show()"
   ]
  },
  {
   "cell_type": "markdown",
   "id": "fbe1e578",
   "metadata": {},
   "source": [
    "### PnL"
   ]
  },
  {
   "cell_type": "code",
   "execution_count": null,
   "id": "cc5a9c22",
   "metadata": {},
   "outputs": [],
   "source": [
    "sns.barplot(\n",
    "    x=prediction_magnitude,\n",
    "    y=trade_pnl,\n",
    "    data=metrics_df_reset_index,\n",
    "    color=color,\n",
    "    capsize=capsize,\n",
    ")\n",
    "#\n",
    "plt.xticks(rotation=xticks_rotation)\n",
    "plt.ylabel(\"avg_pnl\")\n",
    "plt.show()"
   ]
  },
  {
   "cell_type": "markdown",
   "id": "82a47a31",
   "metadata": {},
   "source": [
    "### Sharpe Ratio"
   ]
  },
  {
   "cell_type": "code",
   "execution_count": null,
   "id": "4b6c3663",
   "metadata": {},
   "outputs": [],
   "source": [
    "plot_sharpe_ratio(config, metrics_df_reset_index, prediction_magnitude)"
   ]
  },
  {
   "cell_type": "markdown",
   "id": "1b689693",
   "metadata": {},
   "source": [
    "## By volume"
   ]
  },
  {
   "cell_type": "code",
   "execution_count": null,
   "id": "eecade72",
   "metadata": {},
   "outputs": [],
   "source": [
    "volume_quantile = \".\".join([volume, \"quantile_rank\"])\n",
    "metrics_df_reset_index[volume_quantile] = metrics_df_reset_index.groupby(\n",
    "    asset_id\n",
    ")[volume].transform(lambda x: pd.qcut(x, quantile_ranks, labels=False))"
   ]
  },
  {
   "cell_type": "markdown",
   "id": "f6c7b2ad",
   "metadata": {},
   "source": [
    "### Hit rate"
   ]
  },
  {
   "cell_type": "code",
   "execution_count": null,
   "id": "51234b17",
   "metadata": {},
   "outputs": [],
   "source": [
    "sns.barplot(\n",
    "    x=volume_quantile,\n",
    "    y=hit,\n",
    "    data=metrics_df_reset_index,\n",
    "    color=color,\n",
    "    capsize=capsize,\n",
    ")\n",
    "#\n",
    "plt.xticks(rotation=xticks_rotation)\n",
    "plt.ylabel(\"hit_rate\")\n",
    "plt.ylim(y_min_lim, y_max_lim)\n",
    "plt.show()"
   ]
  },
  {
   "cell_type": "markdown",
   "id": "34dc2c05",
   "metadata": {},
   "source": [
    "### PnL"
   ]
  },
  {
   "cell_type": "code",
   "execution_count": null,
   "id": "e8fc7076",
   "metadata": {},
   "outputs": [],
   "source": [
    "sns.barplot(\n",
    "    x=volume_quantile,\n",
    "    y=trade_pnl,\n",
    "    data=metrics_df_reset_index,\n",
    "    color=color,\n",
    "    capsize=capsize,\n",
    ")\n",
    "#\n",
    "plt.xticks(rotation=xticks_rotation)\n",
    "plt.ylabel(\"avg_pnl\")\n",
    "plt.show()"
   ]
  },
  {
   "cell_type": "markdown",
   "id": "763d33da",
   "metadata": {},
   "source": [
    "### Sharpe Ratio"
   ]
  },
  {
   "cell_type": "code",
   "execution_count": null,
   "id": "4b76228f",
   "metadata": {},
   "outputs": [],
   "source": [
    "plot_sharpe_ratio(config, metrics_df_reset_index, volume_quantile)"
   ]
  },
  {
   "cell_type": "code",
   "execution_count": null,
   "id": "05449c0a",
   "metadata": {},
   "outputs": [],
   "source": []
  }
 ],
 "metadata": {
  "kernelspec": {
   "display_name": "Python 3 (ipykernel)",
   "language": "python",
   "name": "python3"
  },
  "language_info": {
   "codemirror_mode": {
    "name": "ipython",
    "version": 3
   },
   "file_extension": ".py",
   "mimetype": "text/x-python",
   "name": "python",
   "nbconvert_exporter": "python",
   "pygments_lexer": "ipython3"
  },
  "toc": {
   "base_numbering": 1,
   "nav_menu": {},
   "number_sections": true,
   "sideBar": true,
   "skip_h1_title": false,
   "title_cell": "Table of Contents",
   "title_sidebar": "Contents",
   "toc_cell": false,
   "toc_position": {
    "height": "calc(100% - 180px)",
    "left": "10px",
    "top": "150px",
    "width": "165px"
   },
   "toc_section_display": true,
   "toc_window_display": false
  }
 },
 "nbformat": 4,
 "nbformat_minor": 5
}
