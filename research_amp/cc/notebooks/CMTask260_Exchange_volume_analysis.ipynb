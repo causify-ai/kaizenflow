{
 "cells": [
  {
   "cell_type": "markdown",
   "id": "8d89954b",
   "metadata": {},
   "source": [
    "# Imports"
   ]
  },
  {
   "cell_type": "code",
   "execution_count": null,
   "id": "e0c5136c",
   "metadata": {},
   "outputs": [],
   "source": [
    "import logging\n",
    "import os\n",
    "\n",
    "import pandas as pd\n",
    "\n",
    "import core.config.config_ as cconconf\n",
    "import helpers.hdbg as hdbg\n",
    "import helpers.henv as henv\n",
    "import helpers.hprint as hprint\n",
    "import helpers.hs3 as hs3\n",
    "import im_v2.ccxt.data.client as icdcl\n",
    "import im_v2.common.universe as ivcu\n",
    "import research_amp.cc.statistics as ramccsta\n",
    "import research_amp.cc.volume as ramccvol"
   ]
  },
  {
   "cell_type": "code",
   "execution_count": null,
   "id": "8b385e7c",
   "metadata": {
    "lines_to_next_cell": 1
   },
   "outputs": [],
   "source": [
    "hdbg.init_logger(verbosity=logging.INFO)\n",
    "\n",
    "_LOG = logging.getLogger(__name__)\n",
    "\n",
    "_LOG.info(\"%s\", henv.get_system_signature()[0])\n",
    "\n",
    "hprint.config_notebook()\n",
    "\n",
    "AM_AWS_PROFILE = \"am\""
   ]
  },
  {
   "cell_type": "markdown",
   "id": "eb724155",
   "metadata": {},
   "source": [
    "# Config"
   ]
  },
  {
   "cell_type": "code",
   "execution_count": null,
   "id": "b80c98e1",
   "metadata": {},
   "outputs": [],
   "source": [
    "def get_cmtask260_config() -> cconconf.Config:\n",
    "    \"\"\"\n",
    "    Get task260-specific config.\n",
    "    \"\"\"\n",
    "    config = cconconf.Config()\n",
    "    # Load parameters.\n",
    "    config.add_subconfig(\"load\")\n",
    "    config[\"load\"][\"aws_profile\"] = AM_AWS_PROFILE\n",
    "    config[\"load\"][\"data_dir\"] = os.path.join(\n",
    "        hs3.get_s3_bucket_path(AM_AWS_PROFILE), \"data\"\n",
    "    )\n",
    "    # Data parameters.\n",
    "    config.add_subconfig(\"data\")\n",
    "    config[\"data\"][\"universe_version\"] = \"v03\"\n",
    "    config[\"data\"][\"vendor\"] = \"CCXT\"\n",
    "    # Column names.\n",
    "    config.add_subconfig(\"column_names\")\n",
    "    config[\"column_names\"][\"volume\"] = \"volume\"\n",
    "    config[\"column_names\"][\"currency_pair\"] = \"currency_pair\"\n",
    "    config[\"column_names\"][\"exchange\"] = \"exchange_id\"\n",
    "    config[\"column_names\"][\"close\"] = \"close\"\n",
    "    return config\n",
    "\n",
    "\n",
    "config = get_cmtask260_config()\n",
    "print(config)"
   ]
  },
  {
   "cell_type": "markdown",
   "id": "d4e96cec",
   "metadata": {},
   "source": [
    "# Load the data"
   ]
  },
  {
   "cell_type": "code",
   "execution_count": null,
   "id": "a8d2d76b",
   "metadata": {},
   "outputs": [],
   "source": [
    "vendor_universe = ivcu.get_vendor_universe(\n",
    "    config[\"data\"][\"vendor\"],\n",
    "    version=config[\"data\"][\"universe_version\"],\n",
    "    as_full_symbol=True,\n",
    ")\n",
    "vendor_universe"
   ]
  },
  {
   "cell_type": "code",
   "execution_count": null,
   "id": "af7764af",
   "metadata": {},
   "outputs": [],
   "source": [
    "compute_daily_cumul_volume_ = lambda data: ramccvol.get_daily_cumul_volume(\n",
    "    data, config, is_notional_volume=False\n",
    ")\n",
    "\n",
    "cumul_daily_volume = ramccsta.compute_stats_for_universe(\n",
    "    vendor_universe, config, compute_daily_cumul_volume_\n",
    ")"
   ]
  },
  {
   "cell_type": "code",
   "execution_count": null,
   "id": "78766ad3",
   "metadata": {},
   "outputs": [],
   "source": [
    "_LOG.info(\n",
    "    \"The number of (exchanges, currency pairs) =%s\", cumul_daily_volume.shape[0]\n",
    ")\n",
    "cumul_daily_volume.head(3)"
   ]
  },
  {
   "cell_type": "markdown",
   "id": "66a681e0",
   "metadata": {},
   "source": [
    "# Compute total volume per exchange"
   ]
  },
  {
   "cell_type": "code",
   "execution_count": null,
   "id": "168fd670",
   "metadata": {},
   "outputs": [],
   "source": [
    "total_volume_by_exchange = ramccvol.get_total_exchange_volume(\n",
    "    cumul_daily_volume, config, avg_daily=False\n",
    ")\n",
    "print(total_volume_by_exchange)"
   ]
  },
  {
   "cell_type": "markdown",
   "id": "77404f60",
   "metadata": {},
   "source": [
    "# Compute total volume per currency"
   ]
  },
  {
   "cell_type": "code",
   "execution_count": null,
   "id": "9adc6c4e",
   "metadata": {},
   "outputs": [],
   "source": [
    "total_volume_by_coins = ramccvol.get_total_coin_volume(\n",
    "    cumul_daily_volume, config, avg_daily=False\n",
    ")\n",
    "print(total_volume_by_coins)"
   ]
  },
  {
   "cell_type": "markdown",
   "id": "2c3802a3",
   "metadata": {},
   "source": [
    "# Rolling Plots"
   ]
  },
  {
   "cell_type": "markdown",
   "id": "7607c6f4",
   "metadata": {},
   "source": [
    "## By exchange"
   ]
  },
  {
   "cell_type": "code",
   "execution_count": null,
   "id": "fd27c8a0",
   "metadata": {},
   "outputs": [],
   "source": [
    "rolling_volume_per_exchange = ramccvol.get_rolling_volume_per_exchange(\n",
    "    cumul_daily_volume, config, window=90\n",
    ")\n",
    "print(rolling_volume_per_exchange)"
   ]
  },
  {
   "cell_type": "markdown",
   "id": "7a7d3d78",
   "metadata": {},
   "source": [
    "## By coins"
   ]
  },
  {
   "cell_type": "code",
   "execution_count": null,
   "id": "7553fb12",
   "metadata": {},
   "outputs": [],
   "source": [
    "rolling_volume_per_coin = ramccvol.get_rolling_volume_per_coin(\n",
    "    cumul_daily_volume, config, window=90\n",
    ")\n",
    "print(rolling_volume_per_coin)"
   ]
  },
  {
   "cell_type": "markdown",
   "id": "1cadaa4f",
   "metadata": {},
   "source": [
    "# Compare weekday volumes"
   ]
  },
  {
   "cell_type": "code",
   "execution_count": null,
   "id": "2d7cafd9",
   "metadata": {},
   "outputs": [],
   "source": [
    "total_volume_by_weekdays = ramccvol.compare_weekday_volumes(\n",
    "    cumul_daily_volume, config\n",
    ")\n",
    "print(total_volume_by_weekdays)"
   ]
  },
  {
   "cell_type": "markdown",
   "id": "9a4050b9",
   "metadata": {},
   "source": [
    "# Compare ATH volumes"
   ]
  },
  {
   "cell_type": "markdown",
   "id": "a2985527",
   "metadata": {},
   "source": [
    "## Functions"
   ]
  },
  {
   "cell_type": "code",
   "execution_count": null,
   "id": "8119c44e",
   "metadata": {},
   "outputs": [],
   "source": [
    "def get_initial_df_with_volumes(coins, exchange, is_notional_volume):\n",
    "    \"\"\"\n",
    "    Return DataFrame with the volume of all coins for exchange with initial timestamps\n",
    "    Parameters: list of coins, exchange name\n",
    "    \"\"\"\n",
    "    result = []\n",
    "    vendor = config[\"data\"][\"vendor\"]\n",
    "    universe_version = \"v3\"\n",
    "    resample_1min = True\n",
    "    root_dir = config[\"load\"][\"data_dir\"]\n",
    "    extension = \"csv.gz\"\n",
    "    ccxt_csv_client = icdcl.CcxtCddCsvParquetByAssetClient(\n",
    "        vendor,\n",
    "        universe_version,\n",
    "        resample_1min,\n",
    "        root_dir,\n",
    "        extension,\n",
    "        aws_profile=config[\"load\"][\"aws_profile\"],\n",
    "    )\n",
    "    for coin in coins:\n",
    "        # TODO(Grisha): use `FullSymbols` #587.\n",
    "        full_symbol = f\"{exchange}::{coin}\"\n",
    "        start_ts = None\n",
    "        end_ts = None\n",
    "        df = ccxt_csv_client.read_data(\n",
    "            [full_symbol],\n",
    "            start_ts,\n",
    "            end_ts,\n",
    "        )\n",
    "        if is_notional_volume:\n",
    "            df[\"volume\"] = df[\"volume\"] * df[\"close\"]\n",
    "        result.append(df[\"volume\"])\n",
    "    final_result = pd.concat(result, axis=1)\n",
    "    return final_result\n",
    "\n",
    "\n",
    "def plot_ath_volumes_comparison(df_list):\n",
    "    \"\"\"\n",
    "    Return the graph with the comparison of average minute total trading volume\n",
    "    in ATH vs.\n",
    "\n",
    "    non-ATH\n",
    "    Parameters: dataframe with volumes from a given exchange\n",
    "    \"\"\"\n",
    "    plot_df = []\n",
    "    for df in df_list:\n",
    "        df_ath = df.iloc[df.index.indexer_between_time(\"09:30\", \"16:00\")]\n",
    "        df_not_ath = df.loc[~df.index.isin(df_ath.index)]\n",
    "        ath_stat = pd.DataFrame()\n",
    "        ath_stat.loc[df.name, f\"minute_avg_total_volume_ath_{df.name}\"] = (\n",
    "            df_ath.sum().sum() / df_ath.shape[0]\n",
    "        )\n",
    "        ath_stat.loc[df.name, f\"minute_avg_total_volume_not_ath_{df.name}\"] = (\n",
    "            df_not_ath.sum().sum() / df_not_ath.shape[0]\n",
    "        )\n",
    "        plot_df.append(ath_stat)\n",
    "    plot_df = pd.concat(plot_df)\n",
    "    plot_df.plot.bar(figsize=(15, 7), logy=True)"
   ]
  },
  {
   "cell_type": "markdown",
   "id": "a81736f9",
   "metadata": {},
   "source": [
    "## Load the data"
   ]
  },
  {
   "cell_type": "code",
   "execution_count": null,
   "id": "378d64fc",
   "metadata": {},
   "outputs": [],
   "source": [
    "# get the list of all coin paires for each exchange\n",
    "binance_coins = ivcu.get_vendor_universe(\"CCXT\", version=\"v3\")[\"binance\"]\n",
    "ftx_coins = ivcu.get_vendor_universe(\"CCXT\", version=\"v3\")[\"ftx\"]\n",
    "gateio_coins = ivcu.get_vendor_universe(\"CCXT\", version=\"v3\")[\"gateio\"]\n",
    "kucoin_coins = ivcu.get_vendor_universe(\"CCXT\", version=\"v3\")[\"kucoin\"]\n",
    "\n",
    "# load all the dataframes\n",
    "binance_1 = get_initial_df_with_volumes(\n",
    "    binance_coins, \"binance\", is_notional_volume=True\n",
    ")\n",
    "ftx_1 = get_initial_df_with_volumes(ftx_coins, \"ftx\", is_notional_volume=True)\n",
    "gateio_1 = get_initial_df_with_volumes(\n",
    "    gateio_coins, \"gateio\", is_notional_volume=True\n",
    ")\n",
    "kucoin_1 = get_initial_df_with_volumes(\n",
    "    kucoin_coins, \"kucoin\", is_notional_volume=True\n",
    ")\n",
    "\n",
    "# supportive variables\n",
    "exchange_list = [binance_1, ftx_1, gateio_1, kucoin_1]\n",
    "binance_1.name = \"binance\"\n",
    "ftx_1.name = \"ftx\"\n",
    "gateio_1.name = \"gateio\"\n",
    "kucoin_1.name = \"kucoin\""
   ]
  },
  {
   "cell_type": "markdown",
   "id": "c341a1ba",
   "metadata": {},
   "source": [
    "## Plot"
   ]
  },
  {
   "cell_type": "code",
   "execution_count": null,
   "id": "fce18f8b",
   "metadata": {},
   "outputs": [],
   "source": [
    "plot_ath_volumes_comparison(exchange_list)"
   ]
  }
 ],
 "metadata": {
  "kernelspec": {
   "display_name": "Python 3 (ipykernel)",
   "language": "python",
   "name": "python3"
  },
  "language_info": {
   "codemirror_mode": {
    "name": "ipython",
    "version": 3
   },
   "file_extension": ".py",
   "mimetype": "text/x-python",
   "name": "python",
   "nbconvert_exporter": "python",
   "pygments_lexer": "ipython3"
  },
  "toc": {
   "base_numbering": 1,
   "nav_menu": {},
   "number_sections": true,
   "sideBar": true,
   "skip_h1_title": false,
   "title_cell": "Table of Contents",
   "title_sidebar": "Contents",
   "toc_cell": false,
   "toc_position": {},
   "toc_section_display": true,
   "toc_window_display": false
  }
 },
 "nbformat": 4,
 "nbformat_minor": 5
}
