{
 "cells": [
  {
   "cell_type": "markdown",
   "id": "cc4a6518",
   "metadata": {},
   "source": [
    "# Imports"
   ]
  },
  {
   "cell_type": "code",
   "execution_count": null,
   "id": "30860353",
   "metadata": {},
   "outputs": [],
   "source": [
    "import re\n",
    "\n",
    "import gspread as gs\n",
    "import pandas as pd"
   ]
  },
  {
   "cell_type": "code",
   "execution_count": null,
   "id": "deca10a8",
   "metadata": {},
   "outputs": [],
   "source": [
    "# !sudo /bin/bash -c \"(source /venv/bin/activate; pip install gspread)\""
   ]
  },
  {
   "cell_type": "markdown",
   "id": "fe77eda7",
   "metadata": {},
   "source": [
    "# Configs"
   ]
  },
  {
   "cell_type": "code",
   "execution_count": null,
   "id": "dd99ba1d",
   "metadata": {},
   "outputs": [],
   "source": [
    "json_key = \"steady-computer-354216-eb3e67b30a7b.json\"\n",
    "gc = gs.service_account(filename=json_key)"
   ]
  },
  {
   "cell_type": "markdown",
   "id": "12f48ff3",
   "metadata": {},
   "source": [
    "# Load the data"
   ]
  },
  {
   "cell_type": "markdown",
   "id": "1b453a3a",
   "metadata": {},
   "source": [
    "## MIG"
   ]
  },
  {
   "cell_type": "code",
   "execution_count": null,
   "id": "f18ffacd",
   "metadata": {},
   "outputs": [],
   "source": [
    "# Configuration for MIG.\n",
    "mig_link = \"https://docs.google.com/spreadsheets/d/1gxOVAtjk_oEz7WsNVfdST67SupISZ2U-ePUzuep5IEo/edit#gid=0\"\n",
    "mig_env = gc.open_by_url(mig_link)"
   ]
  },
  {
   "cell_type": "code",
   "execution_count": null,
   "id": "b1af841c",
   "metadata": {
    "run_control": {
     "marked": false
    }
   },
   "outputs": [],
   "source": [
    "# Read MIG from gsheet.\n",
    "mig_ws = mig_env.worksheet(\"Firms\")\n",
    "mig = pd.DataFrame(mig_ws.get_all_records())\n",
    "# Unify the absense of e-mails.\n",
    "mig[\"Submit by email\"] = mig[\"Submit by email\"].replace({\"\": \"not available\"})\n",
    "mig.head(3)"
   ]
  },
  {
   "cell_type": "markdown",
   "id": "197069bf",
   "metadata": {},
   "source": [
    "## Mail_merge"
   ]
  },
  {
   "cell_type": "code",
   "execution_count": null,
   "id": "e580758a",
   "metadata": {},
   "outputs": [],
   "source": [
    "# Configuration for `Mail_merge`.\n",
    "mm_link = \"https://docs.google.com/spreadsheets/d/11AXt9Yzwmk1is_wprFDuE3vbS67gpwOO8gRfB4teC34/edit#gid=348677750\"\n",
    "mm_env = gc.open_by_url(mm_link)\n",
    "worksheet_list = mm_env.worksheets()\n",
    "worksheet_list"
   ]
  },
  {
   "cell_type": "code",
   "execution_count": null,
   "id": "ff752dab",
   "metadata": {},
   "outputs": [],
   "source": [
    "mail_merge = []\n",
    "for i in range(len(worksheet_list)):\n",
    "    df_tmp = pd.DataFrame(mm_env.get_worksheet(i).get_all_records()).iloc[:, :4]\n",
    "    df_tmp.columns = [\"Email\", \"Name\", \"Company\", \"Consensus\"]\n",
    "    mail_merge.append(df_tmp)\n",
    "mail_merge = pd.concat(mail_merge)\n",
    "mail_merge.tail(3)"
   ]
  },
  {
   "cell_type": "markdown",
   "id": "9ea96ead",
   "metadata": {},
   "source": [
    "# Select the contacts that haven't been reached yet"
   ]
  },
  {
   "cell_type": "markdown",
   "id": "e10c0760",
   "metadata": {},
   "source": [
    "## Drop the contacts that are already in the pipeline"
   ]
  },
  {
   "cell_type": "code",
   "execution_count": null,
   "id": "530546c7",
   "metadata": {},
   "outputs": [],
   "source": [
    "# Convert MIG to the e-mail reach format.\n",
    "mig_emails = mig[mig[\"Submit by email\"] != \"not available\"][\n",
    "    [\"Submit by email\", \"Name\"]\n",
    "]\n",
    "mig_emails.shape"
   ]
  },
  {
   "cell_type": "code",
   "execution_count": null,
   "id": "979c4509",
   "metadata": {},
   "outputs": [],
   "source": [
    "# Extract e-mails that were previously used in campaign.\n",
    "mail_merge_emails = list(mail_merge[\"Email\"])\n",
    "# Filter by those names for new unique e-mails.\n",
    "new_iteration = mig_emails[~mig_emails[\"Submit by email\"].isin(mail_merge_emails)]\n",
    "display(new_iteration)"
   ]
  },
  {
   "cell_type": "markdown",
   "id": "c1e97cb3",
   "metadata": {},
   "source": [
    "## Sanity check"
   ]
  },
  {
   "cell_type": "code",
   "execution_count": null,
   "id": "d2cc6ab7",
   "metadata": {},
   "outputs": [],
   "source": [
    "def check_email_format(email):\n",
    "    # Regular expression for validating an Email.\n",
    "    regex_email = r\"\\b[A-Za-z0-9._%+-]+@[A-Za-z0-9.-]+\\.[A-Z|a-z]{2,}\\b\"\n",
    "    # Sanity check.\n",
    "    if not (re.fullmatch(regex_email, email)):\n",
    "        email = None\n",
    "    return email"
   ]
  },
  {
   "cell_type": "code",
   "execution_count": null,
   "id": "8ed813c0",
   "metadata": {},
   "outputs": [],
   "source": [
    "new_iteration_cleaned = new_iteration.copy()\n",
    "# Replace \"bad\" emails with NaN.\n",
    "new_iteration_cleaned[\"Submit by email\"] = new_iteration_cleaned[\n",
    "    \"Submit by email\"\n",
    "].apply(lambda x: check_email_format(x))\n",
    "# Save \"bad\" emails in a separate DataFrame for manual check.\n",
    "bad_emails_list = list(\n",
    "    new_iteration_cleaned[new_iteration_cleaned[\"Submit by email\"].isna()][\"Name\"]\n",
    ")\n",
    "bad_emails = new_iteration[new_iteration[\"Name\"].isin(bad_emails_list)]\n",
    "bad_emails"
   ]
  },
  {
   "cell_type": "code",
   "execution_count": null,
   "id": "173541b9",
   "metadata": {},
   "outputs": [],
   "source": [
    "# Get rid of NaNs in \"clean\" contacts.\n",
    "new_iteration_cleaned = new_iteration_cleaned[\n",
    "    new_iteration_cleaned[\"Submit by email\"].notna()\n",
    "]\n",
    "new_iteration_cleaned"
   ]
  },
  {
   "cell_type": "markdown",
   "id": "8e3647d7",
   "metadata": {},
   "source": [
    "## Save the file"
   ]
  },
  {
   "cell_type": "code",
   "execution_count": null,
   "id": "40c09d6d",
   "metadata": {},
   "outputs": [],
   "source": [
    "# new_iteration_cleaned.to_csv(\"new_iteration.csv\")"
   ]
  }
 ],
 "metadata": {
  "kernelspec": {
   "display_name": "Python 3 (ipykernel)",
   "language": "python",
   "name": "python3"
  },
  "language_info": {
   "codemirror_mode": {
    "name": "ipython",
    "version": 3
   },
   "file_extension": ".py",
   "mimetype": "text/x-python",
   "name": "python",
   "nbconvert_exporter": "python",
   "pygments_lexer": "ipython3"
  },
  "toc": {
   "base_numbering": 1,
   "nav_menu": {},
   "number_sections": true,
   "sideBar": true,
   "skip_h1_title": false,
   "title_cell": "Table of Contents",
   "title_sidebar": "Contents",
   "toc_cell": false,
   "toc_position": {},
   "toc_section_display": true,
   "toc_window_display": false
  }
 },
 "nbformat": 4,
 "nbformat_minor": 5
}
