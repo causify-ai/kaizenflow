{
 "cells": [
  {
   "cell_type": "markdown",
   "id": "f5508e0f",
   "metadata": {},
   "source": [
    "# Imports"
   ]
  },
  {
   "cell_type": "code",
   "execution_count": null,
   "id": "30860353",
   "metadata": {},
   "outputs": [],
   "source": [
    "import pandas as pd"
   ]
  },
  {
   "cell_type": "markdown",
   "id": "624c32f6",
   "metadata": {},
   "source": [
    "# Load the data"
   ]
  },
  {
   "cell_type": "code",
   "execution_count": null,
   "id": "ab468c0e",
   "metadata": {},
   "outputs": [],
   "source": [
    "# Monster Investment Gsheet.\n",
    "mig = pd.read_csv(\"Monster Investor Gsheet - Firms.csv\")\n",
    "# Unify the absense of e-mails.\n",
    "mig[\"Submit by email\"] = mig[\"Submit by email\"].fillna(\"not available\")\n",
    "mig.head(3)"
   ]
  },
  {
   "cell_type": "code",
   "execution_count": null,
   "id": "83f9e7e4",
   "metadata": {},
   "outputs": [],
   "source": [
    "# Reach e-mails.\n",
    "iterations = [\n",
    "    \"Mail_merge - Mail Merge - 2021-06-18.csv\",\n",
    "    \"Mail_merge - Mail Merge - 2021-06-20.csv\",\n",
    "    \"Mail_merge - Mail Merge - 2021-06-20-bis.csv\",\n",
    "]\n",
    "\n",
    "mail_merge = []\n",
    "for file in iterations:\n",
    "    df_tmp = pd.read_csv(file).iloc[: , :4]\n",
    "    df_tmp.columns = [\n",
    "        \"Email\",\n",
    "        \"Name\",\n",
    "        \"Company\",\n",
    "        \"Consensus\"\n",
    "    ]\n",
    "    mail_merge.append(df_tmp)\n",
    "mail_merge = pd.concat(mail_merge)\n",
    "mail_merge.tail(3)"
   ]
  },
  {
   "cell_type": "markdown",
   "id": "5412face",
   "metadata": {},
   "source": [
    "# Select the contacts that haven't been reached yet"
   ]
  },
  {
   "cell_type": "code",
   "execution_count": null,
   "id": "5175700a",
   "metadata": {},
   "outputs": [],
   "source": [
    "# Convert MIG to the e-mail reach format.\n",
    "mig_emails = mig[mig[\"Submit by email\"]!=\"not available\"][[\"Submit by email\", \"Name\"]]\n",
    "mig_emails.shape"
   ]
  },
  {
   "cell_type": "code",
   "execution_count": null,
   "id": "f07aa1cb",
   "metadata": {},
   "outputs": [],
   "source": [
    "# Extract e-mails that were previously used in campaign.\n",
    "mail_merge_emails = list(mail_merge[\"Email\"])\n",
    "# Filter by those names for new unique e-mails.\n",
    "new_iteration = mig_emails[~mig_emails[\"Submit by email\"].isin(mail_merge_emails)]\n",
    "display(new_iteration)"
   ]
  },
  {
   "cell_type": "code",
   "execution_count": null,
   "id": "66da0782",
   "metadata": {},
   "outputs": [],
   "source": [
    "new_iteration.to_csv(\"new_iteration.csv\")"
   ]
  }
 ],
 "metadata": {
  "kernelspec": {
   "display_name": "Python 3 (ipykernel)",
   "language": "python",
   "name": "python3"
  },
  "language_info": {
   "codemirror_mode": {
    "name": "ipython",
    "version": 3
   },
   "file_extension": ".py",
   "mimetype": "text/x-python",
   "name": "python",
   "nbconvert_exporter": "python",
   "pygments_lexer": "ipython3"
  },
  "toc": {
   "base_numbering": 1,
   "nav_menu": {},
   "number_sections": true,
   "sideBar": true,
   "skip_h1_title": false,
   "title_cell": "Table of Contents",
   "title_sidebar": "Contents",
   "toc_cell": false,
   "toc_position": {},
   "toc_section_display": true,
   "toc_window_display": false
  }
 },
 "nbformat": 4,
 "nbformat_minor": 5
}
