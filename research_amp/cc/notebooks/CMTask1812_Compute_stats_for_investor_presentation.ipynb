{
 "cells": [
  {
   "cell_type": "markdown",
   "id": "843ed6f2",
   "metadata": {},
   "source": [
    "# Imports"
   ]
  },
  {
   "cell_type": "code",
   "execution_count": null,
   "id": "b532367e",
   "metadata": {},
   "outputs": [],
   "source": [
    "import json\n",
    "import logging\n",
    "\n",
    "import pandas as pd\n",
    "import requests\n",
    "import seaborn as sns\n",
    "\n",
    "import helpers.hdbg as hdbg\n",
    "import helpers.hprint as hprint"
   ]
  },
  {
   "cell_type": "code",
   "execution_count": null,
   "id": "1976a8cd",
   "metadata": {},
   "outputs": [],
   "source": [
    "hdbg.init_logger(verbosity=logging.INFO)\n",
    "\n",
    "_LOG = logging.getLogger(__name__)\n",
    "\n",
    "hprint.config_notebook()"
   ]
  },
  {
   "cell_type": "markdown",
   "id": "86abc2f0",
   "metadata": {},
   "source": [
    "# Exchanges"
   ]
  },
  {
   "cell_type": "markdown",
   "id": "fd45bad8",
   "metadata": {},
   "source": [
    "## Load data"
   ]
  },
  {
   "cell_type": "code",
   "execution_count": null,
   "id": "12184b57",
   "metadata": {},
   "outputs": [],
   "source": [
    "url = \"https://coinmarketcap.com/rankings/exchanges/\"\n",
    "response = requests.get(url)\n",
    "df = pd.read_html(response.text)[0]\n",
    "df.loc[df[\"Volume(24h)\"].isna()].shape"
   ]
  },
  {
   "cell_type": "code",
   "execution_count": null,
   "id": "e989294f",
   "metadata": {},
   "outputs": [],
   "source": [
    "# Almost all the loaded data from url have NaNs so loading from fully saved html.\n",
    "with open(\"top.html\", \"r\") as f:\n",
    "    df = pd.read_html(f.read())[0]\n",
    "_LOG.info(df.shape)\n",
    "df.head(3)"
   ]
  },
  {
   "cell_type": "code",
   "execution_count": null,
   "id": "aaabf040",
   "metadata": {},
   "outputs": [],
   "source": [
    "# Check for NaNs.\n",
    "df.loc[df[\"Volume(24h)\"].isna()].shape"
   ]
  },
  {
   "cell_type": "code",
   "execution_count": null,
   "id": "fd4f2fff",
   "metadata": {},
   "outputs": [],
   "source": [
    "# Let's set it to an empty string first.\n",
    "df.loc[df[\"Volume(24h)\"].isna()] = \"\"\n",
    "df.loc[df[\"Volume(24h)\"].isna()].shape"
   ]
  },
  {
   "cell_type": "markdown",
   "id": "81dd74e1",
   "metadata": {},
   "source": [
    "## Create data frame with columns `name`, `volume`."
   ]
  },
  {
   "cell_type": "code",
   "execution_count": null,
   "id": "5c58072d",
   "metadata": {},
   "outputs": [],
   "source": [
    "name_volume_df = df[['Name', 'Volume(24h)']]\n",
    "name_volume_df.head(3)"
   ]
  },
  {
   "cell_type": "markdown",
   "id": "d762cc26",
   "metadata": {},
   "source": [
    "### Convert types"
   ]
  },
  {
   "cell_type": "code",
   "execution_count": null,
   "id": "6590b4fb",
   "metadata": {},
   "outputs": [],
   "source": [
    "# Clear and convert volume to integer.\n",
    "\n",
    "name_volume_df = name_volume_df.convert_dtypes()\n",
    "name_volume_df[\"Volume(24h)\"] = name_volume_df[\"Volume(24h)\"].map(\n",
    "    lambda x: x[1:-6]\n",
    ")\n",
    "name_volume_df.loc[name_volume_df[\"Volume(24h)\"] == \"\"] = \"0\"\n",
    "name_volume_df[\"Volume(24h)\"] = name_volume_df[\"Volume(24h)\"].apply(\n",
    "    lambda x: x.replace(\",\", \"\")\n",
    ")\n",
    "name_volume_df[\"Volume(24h)\"] = pd.to_numeric(name_volume_df[\"Volume(24h)\"])\n",
    "name_volume_df.head(3)"
   ]
  },
  {
   "cell_type": "markdown",
   "id": "c7f39024",
   "metadata": {},
   "source": [
    "### Sorting by `volume`"
   ]
  },
  {
   "cell_type": "code",
   "execution_count": null,
   "id": "c88dc50f",
   "metadata": {},
   "outputs": [],
   "source": [
    "name_volume_df.sort_values(\n",
    "    [\"Volume(24h)\"], ascending=False, ignore_index=True, inplace=True\n",
    ")\n",
    "name_volume_df.head(3)"
   ]
  },
  {
   "cell_type": "markdown",
   "id": "bf6520b4",
   "metadata": {},
   "source": [
    "### Cumulative sum"
   ]
  },
  {
   "cell_type": "code",
   "execution_count": null,
   "id": "24664948",
   "metadata": {},
   "outputs": [],
   "source": [
    "cumsum = pd.DataFrame(name_volume_df[\"Volume(24h)\"].cumsum())\n",
    "cumsum.head()"
   ]
  },
  {
   "cell_type": "code",
   "execution_count": null,
   "id": "0335248c",
   "metadata": {},
   "outputs": [],
   "source": [
    "# Cumulative sum of top-10 exchanges.\n",
    "sns.barplot(x=name_volume_df[\"Name\"][:10], y=cumsum[\"Volume(24h)\"][:10])"
   ]
  },
  {
   "cell_type": "markdown",
   "id": "ba5d1c6d",
   "metadata": {},
   "source": [
    "# Crypto currencies"
   ]
  },
  {
   "cell_type": "markdown",
   "id": "69d3a3c1",
   "metadata": {},
   "source": [
    "## Load data"
   ]
  },
  {
   "cell_type": "code",
   "execution_count": null,
   "id": "44ed86dd",
   "metadata": {},
   "outputs": [],
   "source": [
    "url = \"https://api.coinmarketcap.com/data-api/v3/cryptocurrency/listing?start=1&limit=10081&sortBy=market_cap&sortType=desc&convert=USD&cryptoType=all&tagType=all&audited=false&aux=name,volume_24h\"\n",
    "response = requests.get(url)"
   ]
  },
  {
   "cell_type": "markdown",
   "id": "5491f4a1",
   "metadata": {},
   "source": [
    "## Convert json to data frame"
   ]
  },
  {
   "cell_type": "code",
   "execution_count": null,
   "id": "955b92aa",
   "metadata": {},
   "outputs": [],
   "source": [
    "crypto_data = json.loads(response.text)\n",
    "crypto_df = pd.json_normalize(crypto_data['data']['cryptoCurrencyList'], 'quotes', ['name'], record_prefix=\"_\")\n",
    "_LOG.info(crypto_df.shape)\n",
    "crypto_df.head(3)                              "
   ]
  },
  {
   "cell_type": "code",
   "execution_count": null,
   "id": "0236d854",
   "metadata": {},
   "outputs": [],
   "source": [
    "name_volume_crypto_df = crypto_df[['name', '_volume24h']]\n",
    "name_volume_crypto_df.head(3)"
   ]
  },
  {
   "cell_type": "markdown",
   "id": "159f750f",
   "metadata": {},
   "source": [
    "## Sorting by `volume`"
   ]
  },
  {
   "cell_type": "code",
   "execution_count": null,
   "id": "d1177ddc",
   "metadata": {},
   "outputs": [],
   "source": [
    "name_volume_crypto_df.sort_values(\n",
    "    [\"_volume24h\"], ascending=False, ignore_index=True, inplace=True\n",
    ")\n",
    "name_volume_crypto_df.head(3)"
   ]
  },
  {
   "cell_type": "markdown",
   "id": "2c2570f5",
   "metadata": {},
   "source": [
    "##  Cumulative sum"
   ]
  },
  {
   "cell_type": "code",
   "execution_count": null,
   "id": "51794020",
   "metadata": {},
   "outputs": [],
   "source": [
    "cumsum = pd.DataFrame(name_volume_crypto_df['_volume24h'].cumsum())\n",
    "cumsum.head()"
   ]
  },
  {
   "cell_type": "code",
   "execution_count": null,
   "id": "3ac29dad",
   "metadata": {},
   "outputs": [],
   "source": [
    "# Cumulative sum of top-10 crypto currencies.\n",
    "sns.barplot(x=name_volume_crypto_df['name'][:10], y=cumsum['_volume24h'][:10])"
   ]
  }
 ],
 "metadata": {
  "kernelspec": {
   "display_name": "Python 3 (ipykernel)",
   "language": "python",
   "name": "python3"
  },
  "language_info": {
   "codemirror_mode": {
    "name": "ipython",
    "version": 3
   },
   "file_extension": ".py",
   "mimetype": "text/x-python",
   "name": "python",
   "nbconvert_exporter": "python",
   "pygments_lexer": "ipython3"
  },
  "toc": {
   "base_numbering": 1,
   "nav_menu": {},
   "number_sections": true,
   "sideBar": true,
   "skip_h1_title": false,
   "title_cell": "Table of Contents",
   "title_sidebar": "Contents",
   "toc_cell": false,
   "toc_position": {},
   "toc_section_display": true,
   "toc_window_display": false
  }
 },
 "nbformat": 4,
 "nbformat_minor": 5
}
