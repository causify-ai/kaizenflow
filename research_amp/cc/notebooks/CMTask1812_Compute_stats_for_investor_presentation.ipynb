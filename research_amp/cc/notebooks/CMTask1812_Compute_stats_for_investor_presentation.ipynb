{
 "cells": [
  {
   "cell_type": "markdown",
   "id": "843ed6f2",
   "metadata": {},
   "source": [
    "# Imports"
   ]
  },
  {
   "cell_type": "code",
   "execution_count": null,
   "id": "b532367e",
   "metadata": {},
   "outputs": [],
   "source": [
    "import logging\n",
    "\n",
    "import pandas as pd\n",
    "import requests\n",
    "import seaborn as sns\n",
    "\n",
    "import helpers.hdbg as hdbg\n",
    "import helpers.hprint as hprint\n",
    "\n",
    "import core.plotting.plotting_utils as cplpluti"
   ]
  },
  {
   "cell_type": "code",
   "execution_count": null,
   "id": "1976a8cd",
   "metadata": {},
   "outputs": [],
   "source": [
    "hdbg.init_logger(verbosity=logging.INFO)\n",
    "\n",
    "_LOG = logging.getLogger(__name__)\n",
    "\n",
    "hprint.config_notebook()"
   ]
  },
  {
   "cell_type": "markdown",
   "id": "fd45bad8",
   "metadata": {},
   "source": [
    "# Load data"
   ]
  },
  {
   "cell_type": "code",
   "execution_count": null,
   "id": "12184b57",
   "metadata": {},
   "outputs": [],
   "source": [
    "url = \"https://coinmarketcap.com/rankings/exchanges/\"\n",
    "response = requests.get(url)\n",
    "df = pd.read_html(response.text)[0]\n",
    "df.loc[df[\"Volume(24h)\"].isna()].shape"
   ]
  },
  {
   "cell_type": "code",
   "execution_count": null,
   "id": "7b19a023",
   "metadata": {},
   "outputs": [],
   "source": [
    "df.head(10)"
   ]
  },
  {
   "cell_type": "code",
   "execution_count": null,
   "id": "e989294f",
   "metadata": {},
   "outputs": [],
   "source": [
    "# Almost all the loaded data from url have NaNs so loading from fully saved html.\n",
    "with open(\"top.html\", \"r\") as f:\n",
    "    df = pd.read_html(f.read())[0]\n",
    "_LOG.info(df.shape)\n",
    "df.head(3)"
   ]
  },
  {
   "cell_type": "code",
   "execution_count": null,
   "id": "aaabf040",
   "metadata": {},
   "outputs": [],
   "source": [
    "# Check for NaNs.\n",
    "df.loc[df[\"Volume(24h)\"].isna()].shape"
   ]
  },
  {
   "cell_type": "code",
   "execution_count": null,
   "id": "fd4f2fff",
   "metadata": {},
   "outputs": [],
   "source": [
    "# Let's set it to an empty string first.\n",
    "df.loc[df[\"Volume(24h)\"].isna()] = \"\"\n",
    "df.loc[df[\"Volume(24h)\"].isna()].shape"
   ]
  },
  {
   "cell_type": "markdown",
   "id": "81dd74e1",
   "metadata": {},
   "source": [
    "# Create data frame with columns `name`, `volume`."
   ]
  },
  {
   "cell_type": "code",
   "execution_count": null,
   "id": "5c58072d",
   "metadata": {},
   "outputs": [],
   "source": [
    "columns = list(df.columns)\n",
    "columns.pop(1)\n",
    "columns.pop(2)\n",
    "name_volume_df = df.copy().drop(columns=columns)\n",
    "name_volume_df.head(3)"
   ]
  },
  {
   "cell_type": "markdown",
   "id": "d762cc26",
   "metadata": {},
   "source": [
    "## Convert types"
   ]
  },
  {
   "cell_type": "code",
   "execution_count": null,
   "id": "6590b4fb",
   "metadata": {},
   "outputs": [],
   "source": [
    "# Clear and convert volume to integer.\n",
    "\n",
    "name_volume_df = name_volume_df.convert_dtypes()\n",
    "name_volume_df[\"Volume(24h)\"] = name_volume_df[\"Volume(24h)\"].map(\n",
    "    lambda x: x[1:-6]\n",
    ")\n",
    "name_volume_df.loc[name_volume_df[\"Volume(24h)\"] == \"\"] = \"0\"\n",
    "name_volume_df[\"Volume(24h)\"] = name_volume_df[\"Volume(24h)\"].apply(\n",
    "    lambda x: x.replace(\",\", \"\")\n",
    ")\n",
    "name_volume_df[\"Volume(24h)\"] = pd.to_numeric(name_volume_df[\"Volume(24h)\"])\n",
    "name_volume_df.head(3)"
   ]
  },
  {
   "cell_type": "markdown",
   "id": "c7f39024",
   "metadata": {},
   "source": [
    "## Sorting by `volume`"
   ]
  },
  {
   "cell_type": "code",
   "execution_count": null,
   "id": "c88dc50f",
   "metadata": {},
   "outputs": [],
   "source": [
    "name_volume_df.sort_values(\n",
    "    [\"Volume(24h)\"], ascending=False, ignore_index=True, inplace=True\n",
    ")\n",
    "name_volume_df.head(3)"
   ]
  },
  {
   "cell_type": "markdown",
   "id": "bf6520b4",
   "metadata": {},
   "source": [
    "### Cumulative sum"
   ]
  },
  {
   "cell_type": "code",
   "execution_count": null,
   "id": "24664948",
   "metadata": {},
   "outputs": [],
   "source": [
    "cumsum = pd.DataFrame(name_volume_df[\"Volume(24h)\"].cumsum())\n",
    "cumsum.head()"
   ]
  },
  {
   "cell_type": "code",
   "execution_count": null,
   "id": "0335248c",
   "metadata": {},
   "outputs": [],
   "source": [
    "# Cumulative sum of top-10 exchanges.\n",
    "sns.barplot(x=name_volume_df[\"Name\"][:10], y=cumsum[\"Volume(24h)\"][:10])"
   ]
  },
  {
   "cell_type": "markdown",
   "id": "5ce591b9",
   "metadata": {},
   "source": [
    "# Max's version"
   ]
  },
  {
   "cell_type": "markdown",
   "id": "7c5f3b8b",
   "metadata": {},
   "source": [
    "## Exchanges"
   ]
  },
  {
   "cell_type": "markdown",
   "id": "30c34802",
   "metadata": {},
   "source": [
    "Since the .html approach requires to load html file by yourseld, I will load data by myself and reuse some previous code."
   ]
  },
  {
   "cell_type": "code",
   "execution_count": null,
   "id": "cc07dc5f",
   "metadata": {},
   "outputs": [],
   "source": [
    "# Read .html file.\n",
    "file_name_exch = \"Top Cryptocurrency Exchanges Ranked By Volume _ CoinMarketCap.html\"\n",
    "file_exch = pd.read_html(file_name_exch)\n",
    "# Select necessary columns with top-100.\n",
    "exch_df = file_exch[0][[\"Name\", \"Volume(24h)\", \"Exchange Score\", \"#\"]].loc[:99]"
   ]
  },
  {
   "cell_type": "code",
   "execution_count": null,
   "id": "1bf63c70",
   "metadata": {},
   "outputs": [],
   "source": [
    "# Clean up.\n",
    "exch_df['Name'] = exch_df['Name'].str.replace('\\d+', '')\n",
    "\n",
    "exch_df[\"Volume(24h)\"] = exch_df[\"Volume(24h)\"].map(\n",
    "    lambda x: x[1:-6]\n",
    ")\n",
    "exch_df[\"Volume(24h)\"] = exch_df[\"Volume(24h)\"].apply(\n",
    "    lambda x: x.replace(\",\", \"\")\n",
    ")\n",
    "exch_df[\"Volume(24h)\"] = pd.to_numeric(exch_df[\"Volume(24h)\"])\n",
    "exch_df.sort_values(\n",
    "    [\"Volume(24h)\"], ascending=False, ignore_index=True, inplace=True\n",
    ")"
   ]
  },
  {
   "cell_type": "code",
   "execution_count": null,
   "id": "b50ff60c",
   "metadata": {},
   "outputs": [],
   "source": [
    "# Cumulative sum of top-10 exchanges.\n",
    "display(exch_df.loc[:9])\n",
    "cplpluti.plot_barplot(exch_df.set_index(\"Name\")[\"Volume(24h)\"].iloc[:9])"
   ]
  },
  {
   "cell_type": "markdown",
   "id": "dc639f90",
   "metadata": {},
   "source": [
    "If we sort exchanges by last 24h volume, we see that lots of 'inferior' exchanges in top-10 (see # column that ranks by coinmarketcap exchange score)."
   ]
  },
  {
   "cell_type": "code",
   "execution_count": null,
   "id": "3eb6768e",
   "metadata": {},
   "outputs": [],
   "source": [
    "# Another approach: sort only top-20 exchanges by Exchange score.\n",
    "top20 = exch_df.sort_values(\n",
    "    [\"#\"], ascending=True, ignore_index=True).loc[:19]\n",
    "top20= top20.sort_values(\n",
    "    [\"Volume(24h)\"], ascending=False, ignore_index=True\n",
    ").loc[:9]\n",
    "# Add 'relative volume': Exchange volume divided by the total volume from top-20 exchanges.\n",
    "top10 = top20.loc[:9]#\n",
    "top10[\"Relative_Volume\"] = top10[\"Volume(24h)\"]/top20[\"Volume(24h)\"].sum()"
   ]
  },
  {
   "cell_type": "code",
   "execution_count": null,
   "id": "62616bb0",
   "metadata": {},
   "outputs": [],
   "source": [
    "# Cumulative sum of top-10 exchanges (selected from top-20 by Exchange Score).\n",
    "display(top10)\n",
    "cplpluti.plot_barplot(top10.set_index(\"Name\")[\"Volume(24h)\"])"
   ]
  },
  {
   "cell_type": "code",
   "execution_count": null,
   "id": "bb513f83",
   "metadata": {},
   "outputs": [],
   "source": [
    "# Relative volume of top-10 exchanges (selected from top-20 by Exchange Score).\n",
    "display(top10)\n",
    "cplpluti.plot_barplot(top10.set_index(\"Name\")[\"Relative_Volume\"])"
   ]
  },
  {
   "cell_type": "code",
   "execution_count": null,
   "id": "7c3b2079",
   "metadata": {},
   "outputs": [],
   "source": [
    "# Another approach: sort by Exchange Score.\n",
    "top10_rating = exch_df.sort_values(\n",
    "    [\"#\"], ascending=True, ignore_index=True).loc[:9]\n",
    "\n",
    "top10_rating = top10_rating.sort_values(\n",
    "    [\"Volume(24h)\"], ascending=False, ignore_index=True\n",
    ")"
   ]
  },
  {
   "cell_type": "code",
   "execution_count": null,
   "id": "00e1d0b7",
   "metadata": {},
   "outputs": [],
   "source": [
    "# Exchange volume of top-10 exchanges (by Exchange Score).\n",
    "display(top10_rating)\n",
    "cplpluti.plot_barplot(top10_rating.set_index(\"Name\")[\"Volume(24h)\"])"
   ]
  },
  {
   "cell_type": "markdown",
   "id": "f994e0d8",
   "metadata": {},
   "source": [
    "## Cryptocurrencies"
   ]
  },
  {
   "cell_type": "code",
   "execution_count": null,
   "id": "a4ae6d33",
   "metadata": {},
   "outputs": [],
   "source": [
    "# Read .html file.\n",
    "file_name_cc = \"Cryptocurrency Prices, Charts And Market Capitalizations _ CoinMarketCap.html\"\n",
    "file_cc = pd.read_html(file_name_cc)\n",
    "cc_df = file_cc[0]"
   ]
  },
  {
   "cell_type": "code",
   "execution_count": null,
   "id": "2a821a50",
   "metadata": {},
   "outputs": [],
   "source": [
    "# Clean up.\n",
    "cc_df['Name'] = cc_df['Name'].str.findall('[^\\d+]*').apply(lambda x: x[0])\n",
    "\n",
    "cc_df['Market Cap'] = cc_df['Market Cap'].str.findall('[^$]*').apply(lambda x: x[3])\n",
    "cc_df['Market Cap'] = cc_df['Market Cap'].str.replace(',', '')\n",
    "cc_df[\"Market Cap\"] = pd.to_numeric(cc_df[\"Market Cap\"])\n",
    "\n",
    "cc_df['Volume(24h)'] = cc_df['Volume(24h)'].astype('str').str.extractall('(\\d+)').unstack().fillna('').sum(axis=1)\n",
    "cc_df[\"Volume(24h)\"] = pd.to_numeric(cc_df[\"Volume(24h)\"])"
   ]
  },
  {
   "cell_type": "code",
   "execution_count": null,
   "id": "6a7c9179",
   "metadata": {},
   "outputs": [],
   "source": [
    "# Select columns.\n",
    "cc_df = cc_df[[\"#\",\"Name\", \"Market Cap\", \"Volume(24h)\"]]"
   ]
  },
  {
   "cell_type": "code",
   "execution_count": null,
   "id": "eb65c639",
   "metadata": {},
   "outputs": [],
   "source": [
    "# Cryptocurrencies by Market Cap.\n",
    "display(cc_df.loc[:9])\n",
    "cplpluti.plot_barplot(cc_df.set_index(\"Name\")[\"Market Cap\"].iloc[:9])"
   ]
  },
  {
   "cell_type": "code",
   "execution_count": null,
   "id": "6cd0c146",
   "metadata": {},
   "outputs": [],
   "source": [
    "# Cryptocurrencies by last 24h volume.\n",
    "display(cc_df.sort_values(\"Volume(24h)\",ascending=False).iloc[:9])\n",
    "cplpluti.plot_barplot(cc_df.set_index(\"Name\").sort_values(\"Volume(24h)\",ascending=False)[\"Volume(24h)\"].iloc[:9])"
   ]
  }
 ],
 "metadata": {
  "kernelspec": {
   "display_name": "Python 3 (ipykernel)",
   "language": "python",
   "name": "python3"
  },
  "language_info": {
   "codemirror_mode": {
    "name": "ipython",
    "version": 3
   },
   "file_extension": ".py",
   "mimetype": "text/x-python",
   "name": "python",
   "nbconvert_exporter": "python",
   "pygments_lexer": "ipython3"
  },
  "toc": {
   "base_numbering": 1,
   "nav_menu": {},
   "number_sections": true,
   "sideBar": true,
   "skip_h1_title": false,
   "title_cell": "Table of Contents",
   "title_sidebar": "Contents",
   "toc_cell": false,
   "toc_position": {},
   "toc_section_display": true,
   "toc_window_display": false
  }
 },
 "nbformat": 4,
 "nbformat_minor": 5
}
