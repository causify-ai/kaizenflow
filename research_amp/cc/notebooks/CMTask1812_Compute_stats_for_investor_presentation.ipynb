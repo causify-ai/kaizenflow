{
 "cells": [
  {
   "cell_type": "markdown",
   "id": "843ed6f2",
   "metadata": {},
   "source": [
    "# Imports"
   ]
  },
  {
   "cell_type": "code",
   "execution_count": null,
   "id": "b532367e",
   "metadata": {},
   "outputs": [],
   "source": [
    "import json\n",
    "import logging\n",
    "\n",
    "import pandas as pd\n",
    "import requests\n",
    "\n",
    "import core.plotting.plotting_utils as cplpluti\n",
    "import helpers.hdbg as hdbg\n",
    "import helpers.hprint as hprint"
   ]
  },
  {
   "cell_type": "code",
   "execution_count": null,
   "id": "1976a8cd",
   "metadata": {},
   "outputs": [],
   "source": [
    "hdbg.init_logger(verbosity=logging.INFO)\n",
    "\n",
    "_LOG = logging.getLogger(__name__)\n",
    "\n",
    "hprint.config_notebook()"
   ]
  },
  {
   "cell_type": "markdown",
   "id": "472b2f0a",
   "metadata": {},
   "source": [
    "# Exchanges (Spot)"
   ]
  },
  {
   "cell_type": "code",
   "execution_count": null,
   "id": "e33a3045",
   "metadata": {},
   "outputs": [],
   "source": [
    "# Read .html file.\n",
    "file_name_exch = (\n",
    "    \"Top Cryptocurrency Exchanges Ranked By Volume _ CoinMarketCap.html\"\n",
    ")\n",
    "file_exch = pd.read_html(file_name_exch)\n",
    "# Select necessary columns with top-100.\n",
    "exch_df = file_exch[0][[\"Name\", \"Volume(24h)\", \"Exchange Score\", \"#\"]].loc[:99]"
   ]
  },
  {
   "cell_type": "code",
   "execution_count": null,
   "id": "6b48da63",
   "metadata": {},
   "outputs": [],
   "source": [
    "def volume_transformer(vol_str):\n",
    "    vol_str_split = vol_str.split(\",\")\n",
    "    last_piece = vol_str_split[-1]\n",
    "    last_piece = last_piece[0:3]\n",
    "    # print(poo_split)\n",
    "    result = [p for p in vol_str_split[:-1]]\n",
    "    result.append(last_piece)\n",
    "    return \",\".join(result)"
   ]
  },
  {
   "cell_type": "code",
   "execution_count": null,
   "id": "2bb8bb64",
   "metadata": {},
   "outputs": [],
   "source": [
    "# Clean up.\n",
    "exch_df[\"Name\"] = exch_df[\"Name\"].str.replace(\"\\d+\", \"\")\n",
    "\n",
    "exch_df[\"Volume(24h)\"] = exch_df[\"Volume(24h)\"].apply(\n",
    "    lambda x: volume_transformer(x)\n",
    ")\n",
    "exch_df[\"Volume(24h)\"] = exch_df[\"Volume(24h)\"].apply(\n",
    "    lambda x: x.replace(\"$\", \"\")\n",
    ")\n",
    "exch_df[\"Volume(24h)\"] = exch_df[\"Volume(24h)\"].apply(\n",
    "    lambda x: x.replace(\".\", \"\")\n",
    ")\n",
    "exch_df[\"Volume(24h)\"] = exch_df[\"Volume(24h)\"].apply(\n",
    "    lambda x: x.replace(\",\", \"\")\n",
    ")\n",
    "exch_df[\"Volume(24h)\"] = pd.to_numeric(exch_df[\"Volume(24h)\"])"
   ]
  },
  {
   "cell_type": "code",
   "execution_count": null,
   "id": "2b5e50bf",
   "metadata": {},
   "outputs": [],
   "source": [
    "# Select only `good` exchanges.\n",
    "top_exch = exch_df[exch_df[\"Exchange Score\"] > 6]\n",
    "top_exch"
   ]
  },
  {
   "cell_type": "code",
   "execution_count": null,
   "id": "14b0f457",
   "metadata": {},
   "outputs": [],
   "source": [
    "# Sort by volume.\n",
    "top_exch = top_exch.sort_values(\n",
    "    [\"Volume(24h)\"], ascending=False, ignore_index=True\n",
    ")\n",
    "# Plot top-10 exhanges by volume.\n",
    "display(top_exch.loc[:9])\n",
    "cplpluti.plot_barplot(top_exch.set_index(\"Name\")[\"Volume(24h)\"].iloc[:10])"
   ]
  },
  {
   "cell_type": "code",
   "execution_count": null,
   "id": "2f620adc",
   "metadata": {},
   "outputs": [],
   "source": [
    "# Calculate the total trading volume of `good` exchanges.\n",
    "top_exch_volume = top_exch[\"Volume(24h)\"].sum()\n",
    "# Calculate the total trading volume of top-10 exchanges.\n",
    "top10_exch_volume = top_exch.loc[:9][\"Volume(24h)\"].sum()\n",
    "# The first 10 exchanges trade 90% of volume on `good` exchanges.\n",
    "top10_exch_volume / top_exch_volume"
   ]
  },
  {
   "cell_type": "code",
   "execution_count": null,
   "id": "b99ea55d",
   "metadata": {},
   "outputs": [],
   "source": [
    "# Plot the ratio.\n",
    "ratio_good = pd.DataFrame()\n",
    "ratio_good.loc[\"Top-10 exchanges\", \"Trading volume\"] = top10_exch_volume\n",
    "ratio_good.loc[\"Other `good` exchanges\", \"Trading volume\"] = (\n",
    "    top_exch_volume - top10_exch_volume\n",
    ")\n",
    "cplpluti.plot_barplot(ratio_good[\"Trading volume\"])"
   ]
  },
  {
   "cell_type": "code",
   "execution_count": null,
   "id": "c155e5a0",
   "metadata": {},
   "outputs": [],
   "source": [
    "# Calculate the total trading volume of all exchanges (100 items).\n",
    "exch_volume = exch_df[\"Volume(24h)\"].sum()\n",
    "# Calculate the total trading volume of all `good` exchanges.\n",
    "good_exch_volume = top_exch[\"Volume(24h)\"].sum()\n",
    "# `Good` exchanges trade 40% of volume.\n",
    "good_exch_volume / exch_volume"
   ]
  },
  {
   "cell_type": "code",
   "execution_count": null,
   "id": "cac9a30a",
   "metadata": {},
   "outputs": [],
   "source": [
    "# Plot the ratio.\n",
    "ratio_all = pd.DataFrame()\n",
    "ratio_all.loc[\"`Good` exchanges\", \"Trading volume\"] = good_exch_volume\n",
    "ratio_all.loc[\"Other exchanges\", \"Trading volume\"] = (\n",
    "    exch_volume - good_exch_volume\n",
    ")\n",
    "cplpluti.plot_barplot(ratio_all[\"Trading volume\"])"
   ]
  },
  {
   "cell_type": "markdown",
   "id": "0d8bd7be",
   "metadata": {},
   "source": [
    "Here, the results are a little bit suprising. Maybe inferior exchanges provide incorrect statistics (and that's why their score is low)."
   ]
  },
  {
   "cell_type": "markdown",
   "id": "5f05c845",
   "metadata": {},
   "source": [
    "# Exchanges (Derivatives)"
   ]
  },
  {
   "cell_type": "code",
   "execution_count": null,
   "id": "897323ab",
   "metadata": {},
   "outputs": [],
   "source": [
    "# Read .html file.\n",
    "file_name_der = (\n",
    "    \"Top Cryptocurrency Derivatives Exchanges Ranked _ CoinMarketCap.html\"\n",
    ")\n",
    "file_der = pd.read_html(file_name_der)\n",
    "# Select necessary columns with top-100.\n",
    "exch_der_df = file_der[0][[\"#\", \"Name\", \"Volume(24h)\"]]"
   ]
  },
  {
   "cell_type": "code",
   "execution_count": null,
   "id": "beb65c0f",
   "metadata": {},
   "outputs": [],
   "source": [
    "# Clean up.\n",
    "exch_der_df[\"Name\"] = exch_der_df[\"Name\"].str.replace(\"\\d+\", \"\")\n",
    "\n",
    "exch_der_df[\"Volume(24h)\"] = exch_der_df[\"Volume(24h)\"].apply(\n",
    "    lambda x: volume_transformer(x)\n",
    ")\n",
    "exch_der_df[\"Volume(24h)\"] = exch_der_df[\"Volume(24h)\"].apply(\n",
    "    lambda x: x.replace(\",\", \"\")\n",
    ")\n",
    "exch_der_df[\"Volume(24h)\"] = exch_der_df[\"Volume(24h)\"].apply(\n",
    "    lambda x: x.replace(\"$\", \"\")\n",
    ")\n",
    "exch_der_df[\"Volume(24h)\"] = pd.to_numeric(exch_der_df[\"Volume(24h)\"])\n",
    "# Sorting.\n",
    "exch_der_df = exch_der_df.sort_values(\"Volume(24h)\", ascending=False)"
   ]
  },
  {
   "cell_type": "code",
   "execution_count": null,
   "id": "5f1f38b7",
   "metadata": {},
   "outputs": [],
   "source": [
    "# Plot top-10 exchanges by volume.\n",
    "display(exch_der_df.loc[:9])\n",
    "cplpluti.plot_barplot(exch_der_df.set_index(\"Name\")[\"Volume(24h)\"].iloc[:10])"
   ]
  },
  {
   "cell_type": "code",
   "execution_count": null,
   "id": "5a02b23c",
   "metadata": {},
   "outputs": [],
   "source": [
    "# Calculate the total trading volume of derivatives exchanges.\n",
    "top_exch_der_volume = exch_der_df[\"Volume(24h)\"].sum()\n",
    "# Calculate the total trading volume of top-10 derivatives exchanges.\n",
    "top10_exch_der_volume = exch_der_df.loc[:9][\"Volume(24h)\"].sum()\n",
    "# The first 10 exchanges trade 79% of volume on `good` exchanges.\n",
    "top10_exch_der_volume / top_exch_der_volume"
   ]
  },
  {
   "cell_type": "code",
   "execution_count": null,
   "id": "3ce0f4a2",
   "metadata": {},
   "outputs": [],
   "source": [
    "# Plot the ratio.\n",
    "ratio_der = pd.DataFrame()\n",
    "ratio_der.loc[\"Top-10 exchanges\", \"Trading volume\"] = top10_exch_der_volume\n",
    "ratio_der.loc[\"Other exchanges\", \"Trading volume\"] = (\n",
    "    top_exch_der_volume - top10_exch_der_volume\n",
    ")\n",
    "cplpluti.plot_barplot(ratio_der[\"Trading volume\"])"
   ]
  },
  {
   "cell_type": "markdown",
   "id": "1eb48d51",
   "metadata": {},
   "source": [
    "# Cryptocurrencies"
   ]
  },
  {
   "cell_type": "code",
   "execution_count": null,
   "id": "2bccedc9",
   "metadata": {},
   "outputs": [],
   "source": [
    "# Load and process the data.\n",
    "url = \"https://api.coinmarketcap.com/data-api/v3/cryptocurrency/listing?start=1&limit=10081&sortBy=market_cap&sortType=desc&convert=USD&cryptoType=all&tagType=all&audited=false&aux=name,volume_24h\"\n",
    "response = requests.get(url)\n",
    "\n",
    "crypto_data = json.loads(response.text)\n",
    "crypto_df = pd.json_normalize(\n",
    "    crypto_data[\"data\"][\"cryptoCurrencyList\"],\n",
    "    \"quotes\",\n",
    "    [\"name\"],\n",
    "    record_prefix=\"_\",\n",
    ")\n",
    "_LOG.info(crypto_df.shape)\n",
    "crypto_df.head(3)"
   ]
  },
  {
   "cell_type": "code",
   "execution_count": null,
   "id": "e88bd9f0",
   "metadata": {},
   "outputs": [],
   "source": [
    "# Leave only necessary columns.\n",
    "crypto_df = crypto_df[[\"name\", \"_volume24h\", \"_marketCap\"]]"
   ]
  },
  {
   "cell_type": "code",
   "execution_count": null,
   "id": "a5339232",
   "metadata": {},
   "outputs": [],
   "source": [
    "# Cryptocurrencies by Market Cap.\n",
    "display(crypto_df.loc[:9])\n",
    "cplpluti.plot_barplot(crypto_df.set_index(\"name\")[\"_marketCap\"].iloc[:10])"
   ]
  },
  {
   "cell_type": "code",
   "execution_count": null,
   "id": "b01947dd",
   "metadata": {},
   "outputs": [],
   "source": [
    "# Calculate the total Market Cap of top-10 cc.\n",
    "top10_cc_mc = crypto_df.iloc[:10][\"_marketCap\"].sum()\n",
    "# Calculate the total Market Cap of top-100 cc.\n",
    "top100_cc_mc = crypto_df.iloc[:100][\"_marketCap\"].sum()\n",
    "# The first 10 cc trade 83% of Market Cap of top-100 cc.\n",
    "top10_cc_mc / top100_cc_mc"
   ]
  },
  {
   "cell_type": "code",
   "execution_count": null,
   "id": "0215f770",
   "metadata": {},
   "outputs": [],
   "source": [
    "# Plot the ratio.\n",
    "ratio_cc = pd.DataFrame()\n",
    "ratio_cc.loc[\"Top-10 cryptocurrencies\", \"Market Cap\"] = top10_cc_mc\n",
    "ratio_cc.loc[\"Other cryptocurrencies from top-100\", \"Market Cap\"] = (\n",
    "    top100_cc_mc - top10_cc_mc\n",
    ")\n",
    "cplpluti.plot_barplot(ratio_cc[\"Market Cap\"])"
   ]
  },
  {
   "cell_type": "code",
   "execution_count": null,
   "id": "e117500f",
   "metadata": {},
   "outputs": [],
   "source": [
    "# Cryptocurrencies by last 24h volume.\n",
    "display(crypto_df.sort_values(\"_volume24h\", ascending=False).iloc[:10])\n",
    "cplpluti.plot_barplot(\n",
    "    crypto_df.set_index(\"name\")\n",
    "    .sort_values(\"_volume24h\", ascending=False)[\"_volume24h\"]\n",
    "    .iloc[:10]\n",
    ")"
   ]
  },
  {
   "cell_type": "code",
   "execution_count": null,
   "id": "12b7a0f2",
   "metadata": {},
   "outputs": [],
   "source": [
    "# Calculate the total trading volume of top-10 cc.\n",
    "top10_cc_volume = (\n",
    "    crypto_df.sort_values(\"_volume24h\", ascending=False)\n",
    "    .iloc[:10][\"_volume24h\"]\n",
    "    .sum()\n",
    ")\n",
    "# Calculate the total trading volume of top-100 cc.\n",
    "top100_cc_volume = (\n",
    "    crypto_df.sort_values(\"_volume24h\", ascending=False)\n",
    "    .iloc[:100][\"_volume24h\"]\n",
    "    .sum()\n",
    ")\n",
    "# The first 10 cc trade 81% of volume of top-100 cc.\n",
    "top10_cc_volume / top100_cc_volume"
   ]
  },
  {
   "cell_type": "code",
   "execution_count": null,
   "id": "ee1f0cb9",
   "metadata": {},
   "outputs": [],
   "source": [
    "# Plot the ratio.\n",
    "ratio_volume = pd.DataFrame()\n",
    "ratio_volume.loc[\"Top-10 cryptocurrencies\", \"Trading volume\"] = top10_cc_volume\n",
    "ratio_volume.loc[\"Other cryptocurrencies from top-100\", \"Trading volume\"] = (\n",
    "    top100_cc_volume - top10_cc_volume\n",
    ")\n",
    "cplpluti.plot_barplot(ratio_volume[\"Trading volume\"])"
   ]
  }
 ],
 "metadata": {
  "kernelspec": {
   "display_name": "Python 3 (ipykernel)",
   "language": "python",
   "name": "python3"
  },
  "language_info": {
   "codemirror_mode": {
    "name": "ipython",
    "version": 3
   },
   "file_extension": ".py",
   "mimetype": "text/x-python",
   "name": "python",
   "nbconvert_exporter": "python",
   "pygments_lexer": "ipython3"
  },
  "toc": {
   "base_numbering": 1,
   "nav_menu": {},
   "number_sections": true,
   "sideBar": true,
   "skip_h1_title": false,
   "title_cell": "Table of Contents",
   "title_sidebar": "Contents",
   "toc_cell": false,
   "toc_position": {},
   "toc_section_display": true,
   "toc_window_display": false
  }
 },
 "nbformat": 4,
 "nbformat_minor": 5
}
