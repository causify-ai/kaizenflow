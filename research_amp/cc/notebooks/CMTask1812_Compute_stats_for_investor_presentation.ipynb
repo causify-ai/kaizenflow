{
 "cells": [
  {
   "cell_type": "markdown",
   "id": "843ed6f2",
   "metadata": {},
   "source": [
    "# Imports"
   ]
  },
  {
   "cell_type": "code",
   "execution_count": null,
   "id": "b532367e",
   "metadata": {},
   "outputs": [],
   "source": [
    "import json\n",
    "import logging\n",
    "\n",
    "import pandas as pd\n",
    "import requests\n",
    "\n",
    "import core.plotting.plotting_utils as cplpluti\n",
    "import helpers.hdbg as hdbg\n",
    "import helpers.hprint as hprint"
   ]
  },
  {
   "cell_type": "code",
   "execution_count": null,
   "id": "1976a8cd",
   "metadata": {},
   "outputs": [],
   "source": [
    "hdbg.init_logger(verbosity=logging.INFO)\n",
    "\n",
    "_LOG = logging.getLogger(__name__)\n",
    "\n",
    "hprint.config_notebook()"
   ]
  },
  {
   "cell_type": "markdown",
   "id": "6686b4b9",
   "metadata": {},
   "source": [
    "# Functions"
   ]
  },
  {
   "cell_type": "code",
   "execution_count": null,
   "id": "3ac2345d",
   "metadata": {},
   "outputs": [],
   "source": [
    "def _volume_transformer(vol_str):\n",
    "    \"\"\"\n",
    "    Take the value of `Volume` and cut the end to the point where the first\n",
    "    000's start.\n",
    "    \"\"\"\n",
    "    vol_str_split = vol_str.split(\",\")\n",
    "    last_piece = vol_str_split[-1]\n",
    "    last_piece = last_piece[0:3]\n",
    "    result = [p for p in vol_str_split[:-1]]\n",
    "    result.append(last_piece)\n",
    "    return \",\".join(result)\n",
    "\n",
    "\n",
    "def clean_up_exchanges(df):\n",
    "    \"\"\"\n",
    "    - `Name` values contains integers at the end that we want to omit.\n",
    "    - `Volume` values are presented not in a standard way.\n",
    "    \"\"\"\n",
    "    # Names.\n",
    "    df[\"Name\"] = df[\"Name\"].str.replace(\"\\d+\", \"\")\n",
    "    # Volumes.\n",
    "    df[\"Volume(24h)\"] = df[\"Volume(24h)\"].apply(lambda x: _volume_transformer(x))\n",
    "    df[\"Volume(24h)\"] = df[\"Volume(24h)\"].apply(lambda x: x.replace(\"$\", \"\"))\n",
    "    df[\"Volume(24h)\"] = df[\"Volume(24h)\"].apply(lambda x: x.replace(\".\", \"\"))\n",
    "    df[\"Volume(24h)\"] = df[\"Volume(24h)\"].apply(lambda x: x.replace(\",\", \"\"))\n",
    "    df[\"Volume(24h)\"] = pd.to_numeric(df[\"Volume(24h)\"])\n",
    "    return df\n",
    "\n",
    "\n",
    "def get_cumulative_volume_ratios(\n",
    "    df: pd.DataFrame, value_col: str, plot_results: bool, entity: str\n",
    ") -> pd.Series:\n",
    "    \"\"\"\n",
    "    :param df: Data with volume or market cap\n",
    "    :param value_col: Specify volume or market cap column\n",
    "    :param plot_results: plot barplot if True\n",
    "    :param entity: \"exchange\" or \"coin\"\n",
    "    :return: cumulative value ratios with respect to total sum of values\n",
    "    \"\"\"\n",
    "    cumul_volume = df[value_col].cumsum() / df[value_col].sum()\n",
    "    num_of_entities = len(cumul_volume[cumul_volume <= 0.9])\n",
    "    print(\n",
    "        f\"Number of entities that is needed to consitute 90% of total sum: {num_of_entities}\"\n",
    "    )\n",
    "    if plot_results:\n",
    "        # TODO(max): plot as bars with the names of the exchanges at the bottom (vertically).\n",
    "        # cumul_volume.plot(ylim=(0, 1))\n",
    "        if entity == \"exchange\":\n",
    "            plot_df = pd.concat([cumul_volume, df[\"Name\"]], axis=1).set_index(\n",
    "                \"Name\"\n",
    "            )\n",
    "            xlabel = \"Exchanges\"\n",
    "        else:\n",
    "            plot_df = pd.concat([cumul_volume, df[\"name\"]], axis=1).set_index(\n",
    "                \"name\"\n",
    "            )\n",
    "            xlabel = \"Cryptocurrencies\"\n",
    "        if value_col == \"_marketCap\":\n",
    "            title = \"Cumulative Market Cap\"\n",
    "        else:\n",
    "            title = \"Cumulative trading volume\"\n",
    "        cplpluti.plot_barplot(\n",
    "            plot_df.squeeze(),\n",
    "            title=title,\n",
    "            xlabel=xlabel,\n",
    "            unicolor=True,\n",
    "            annotation_mode=\"value\",\n",
    "            rotation=45,\n",
    "        )\n",
    "    return cumul_volume\n",
    "\n",
    "\n",
    "def get_general_volume_ratio_df(\n",
    "    df1: pd.DataFrame,\n",
    "    df2: pd.DataFrame,\n",
    "    value_col: str,\n",
    "    col1: str,\n",
    "    col2: str,\n",
    "    plot_results: bool,\n",
    ") -> pd.DataFrame:\n",
    "    \"\"\"\n",
    "    Computes the portions of volume or market cap from two differen subsets\n",
    "    with respect to full data.\n",
    "\n",
    "    :param df1: Full data\n",
    "    :param df2: Subset of full data that is ised for comparison\n",
    "    :param value_col: Specify volume or market cap column\n",
    "    :param col1: Name of the subset of full data\n",
    "    :param col2: Name of the remaining subset of full data\n",
    "    :param plot_results: Plot barplot if True\n",
    "    :return: Ratio stats\n",
    "    \"\"\"\n",
    "    value1 = df1[value_col].sum()\n",
    "    value2 = df2[value_col].sum()\n",
    "    ratio_df = pd.DataFrame()\n",
    "    ratio_df.loc[col1, value_col] = value2\n",
    "    ratio_df.loc[col2, value_col] = value1 - value2\n",
    "    if plot_results:\n",
    "        cplpluti.plot_barplot(ratio_df[value_col])\n",
    "    return ratio_df"
   ]
  },
  {
   "cell_type": "markdown",
   "id": "472b2f0a",
   "metadata": {
    "heading_collapsed": true
   },
   "source": [
    "# Exchanges (Spot)"
   ]
  },
  {
   "cell_type": "code",
   "execution_count": null,
   "id": "c1090a5d",
   "metadata": {
    "hidden": true
   },
   "outputs": [],
   "source": [
    "# Original data in /data/shared/CMTask1812_Compute_stats_for_investor_presentation\n",
    "# cp -r /data/shared/CMTask1812_Compute_stats_for_investor_presentation .\n",
    "\n",
    "dir_name = \"../../../CMTask1812_Compute_stats_for_investor_presentation\"\n",
    "\n",
    "# Read .html file.\n",
    "# It was downloaded 2022-05-03 from https://coinmarketcap.com/rankings/exchanges/.\n",
    "# Contains the snapshot of a table with the descriptive statistics of cryptocurrency exhanges.\n",
    "file_name_exch = (\n",
    "    dir_name\n",
    "    + \"/\"\n",
    "    + \"Top Cryptocurrency Exchanges Ranked By Volume _ CoinMarketCap.html\"\n",
    ")\n",
    "file_exch = pd.read_html(file_name_exch)\n",
    "# Select necessary columns with top-100.\n",
    "exch_df = file_exch[0][[\"Name\", \"Volume(24h)\", \"Exchange Score\", \"#\"]].loc[:99]"
   ]
  },
  {
   "cell_type": "code",
   "execution_count": null,
   "id": "6b48da63",
   "metadata": {
    "hidden": true
   },
   "outputs": [],
   "source": [
    "# Clean up the data.\n",
    "all_exch = clean_up_exchanges(exch_df)"
   ]
  },
  {
   "cell_type": "code",
   "execution_count": null,
   "id": "2b5e50bf",
   "metadata": {
    "hidden": true
   },
   "outputs": [],
   "source": [
    "# Select only `good` exchanges.\n",
    "# Note: `good` exchanges - the ones with the Score > 6.\n",
    "# `All` exchanges - `good` exchanges + the remaining ones.\n",
    "good_exch = all_exch[all_exch[\"Exchange Score\"] > 6]\n",
    "_LOG.info(good_exch.shape)"
   ]
  },
  {
   "cell_type": "markdown",
   "id": "9c6a9e94",
   "metadata": {
    "hidden": true
   },
   "source": [
    "## Top-10 `good` exchanges by volume"
   ]
  },
  {
   "cell_type": "code",
   "execution_count": null,
   "id": "14b0f457",
   "metadata": {
    "hidden": true
   },
   "outputs": [],
   "source": [
    "# Sort by volume.\n",
    "good_exch = good_exch.sort_values(\n",
    "    [\"Volume(24h)\"], ascending=False, ignore_index=True\n",
    ")\n",
    "# Plot .\n",
    "display(good_exch.loc[:9])\n",
    "cplpluti.plot_barplot(\n",
    "    good_exch.set_index(\"Name\")[\"Volume(24h)\"].iloc[:10].squeeze(),\n",
    "    title=\"Trading volume per exchange\",\n",
    "    xlabel=\"Exchanges\",\n",
    "    unicolor=True,\n",
    "    rotation=45,\n",
    ")"
   ]
  },
  {
   "cell_type": "markdown",
   "id": "c80e5650",
   "metadata": {
    "hidden": true
   },
   "source": [
    "## Total volume of top-10 `good` exchanges vs. other `good` exchanges"
   ]
  },
  {
   "cell_type": "code",
   "execution_count": null,
   "id": "74c67546",
   "metadata": {
    "hidden": true
   },
   "outputs": [],
   "source": [
    "ratio_good = get_general_volume_ratio_df(\n",
    "    good_exch,\n",
    "    good_exch.loc[:9],\n",
    "    \"Volume(24h)\",\n",
    "    \"Top-10 `good` exchanges\",\n",
    "    \"Other `good` exchanges\",\n",
    "    plot_results=True,\n",
    ")\n",
    "display(ratio_good)"
   ]
  },
  {
   "cell_type": "markdown",
   "id": "59cb3144",
   "metadata": {
    "hidden": true
   },
   "source": [
    "## Cumulative volume for all `good` exchanges"
   ]
  },
  {
   "cell_type": "code",
   "execution_count": null,
   "id": "37b08c50",
   "metadata": {
    "hidden": true
   },
   "outputs": [],
   "source": [
    "good_cumul_volume = get_cumulative_volume_ratios(\n",
    "    good_exch, \"Volume(24h)\", plot_results=True, entity=\"exchange\"\n",
    ")\n",
    "display(good_cumul_volume.head(5))"
   ]
  },
  {
   "cell_type": "markdown",
   "id": "4e8036ae",
   "metadata": {
    "hidden": true
   },
   "source": [
    "## Total volume of `good` exchanges vs. all other exchanges"
   ]
  },
  {
   "cell_type": "code",
   "execution_count": null,
   "id": "6359b10c",
   "metadata": {
    "hidden": true
   },
   "outputs": [],
   "source": [
    "ratio_all = get_general_volume_ratio_df(\n",
    "    all_exch,\n",
    "    good_exch,\n",
    "    \"Volume(24h)\",\n",
    "    \"`Good` exchanges\",\n",
    "    \"Other exchanges\",\n",
    "    plot_results=True,\n",
    ")\n",
    "display(ratio_all)"
   ]
  },
  {
   "cell_type": "markdown",
   "id": "a9b860ba",
   "metadata": {
    "hidden": true
   },
   "source": [
    "## Cumulative volume of all exchanges"
   ]
  },
  {
   "cell_type": "code",
   "execution_count": null,
   "id": "405206e7",
   "metadata": {
    "hidden": true
   },
   "outputs": [],
   "source": [
    "# Sort all exchanges by volume.\n",
    "all_exch_sorted = all_exch.sort_values(\n",
    "    [\"Volume(24h)\"], ascending=False, ignore_index=True\n",
    ")\n",
    "# Plot the results.\n",
    "all_cumul_volume = get_cumulative_volume_ratios(\n",
    "    all_exch_sorted[:40], \"Volume(24h)\", plot_results=True, entity=\"exchange\"\n",
    ")\n",
    "display(all_cumul_volume.head(5))"
   ]
  },
  {
   "cell_type": "markdown",
   "id": "5f05c845",
   "metadata": {
    "heading_collapsed": true
   },
   "source": [
    "# Exchanges (Derivatives)"
   ]
  },
  {
   "cell_type": "code",
   "execution_count": null,
   "id": "31b573d5",
   "metadata": {
    "hidden": true
   },
   "outputs": [],
   "source": [
    "# Read .html file.\n",
    "# It was downloaded 2022-05-03 from https://coinmarketcap.com/rankings/exchanges/derivatives/.\n",
    "# Contains the snapshot of a table with the descriptive statistics of cryptocurrency derivatives exhanges.\n",
    "file_name_der = (\n",
    "    dir_name\n",
    "    + \"/\"\n",
    "    + \"Top Cryptocurrency Derivatives Exchanges Ranked _ CoinMarketCap.html\"\n",
    ")\n",
    "file_der = pd.read_html(file_name_der)\n",
    "# Select necessary columns with top-100.\n",
    "exch_der_df = file_der[0][[\"#\", \"Name\", \"Volume(24h)\"]]"
   ]
  },
  {
   "cell_type": "code",
   "execution_count": null,
   "id": "beb65c0f",
   "metadata": {
    "hidden": true
   },
   "outputs": [],
   "source": [
    "# Clean up.\n",
    "exch_der_df = clean_up_exchanges(exch_der_df)\n",
    "# Sorting.\n",
    "exch_der_df = exch_der_df.sort_values(\"Volume(24h)\", ascending=False)"
   ]
  },
  {
   "cell_type": "markdown",
   "id": "097a9d8f",
   "metadata": {
    "hidden": true
   },
   "source": [
    "## Top-10 derivative exchanges by volume"
   ]
  },
  {
   "cell_type": "code",
   "execution_count": null,
   "id": "5f1f38b7",
   "metadata": {
    "hidden": true
   },
   "outputs": [],
   "source": [
    "display(exch_der_df.loc[:9])\n",
    "cplpluti.plot_barplot(\n",
    "    exch_der_df.set_index(\"Name\")[\"Volume(24h)\"].iloc[:10].squeeze(),\n",
    "    title=\"Trading volume per exchange\",\n",
    "    xlabel=\"Exchanges\",\n",
    "    unicolor=True,\n",
    "    rotation=45,\n",
    ")"
   ]
  },
  {
   "cell_type": "markdown",
   "id": "025ec8ab",
   "metadata": {
    "hidden": true
   },
   "source": [
    "## Total volume of top-10 derivative exchanges vs. all other derivative exchanges"
   ]
  },
  {
   "cell_type": "code",
   "execution_count": null,
   "id": "f911073d",
   "metadata": {
    "hidden": true
   },
   "outputs": [],
   "source": [
    "ratio_der = get_general_volume_ratio_df(\n",
    "    exch_der_df,\n",
    "    exch_der_df.loc[:9],\n",
    "    \"Volume(24h)\",\n",
    "    \"Top-10 exchanges\",\n",
    "    \"Other exchanges\",\n",
    "    plot_results=True,\n",
    ")\n",
    "display(ratio_der)"
   ]
  },
  {
   "cell_type": "markdown",
   "id": "4b6f6671",
   "metadata": {
    "hidden": true
   },
   "source": [
    "## Cumulative volume of all derivative exchanges"
   ]
  },
  {
   "cell_type": "code",
   "execution_count": null,
   "id": "a57d133d",
   "metadata": {
    "hidden": true,
    "run_control": {
     "marked": false
    }
   },
   "outputs": [],
   "source": [
    "all_cumul_der_volume = get_cumulative_volume_ratios(\n",
    "    exch_der_df[:30], \"Volume(24h)\", plot_results=True, entity=\"exchange\"\n",
    ")\n",
    "display(all_cumul_der_volume.head(5))"
   ]
  },
  {
   "cell_type": "markdown",
   "id": "1eb48d51",
   "metadata": {},
   "source": [
    "# Cryptocurrencies"
   ]
  },
  {
   "cell_type": "code",
   "execution_count": null,
   "id": "2bccedc9",
   "metadata": {},
   "outputs": [],
   "source": [
    "# Load and process the data.\n",
    "# It is updated with every re-run and is taken from Coinmarketcap API.\n",
    "# Contains descriptive statistics about cryptocurrencies.\n",
    "url = \"https://api.coinmarketcap.com/data-api/v3/cryptocurrency/listing?start=1&limit=10081&sortBy=market_cap&sortType=desc&convert=USD&cryptoType=all&tagType=all&audited=false&aux=name,volume_24h\"\n",
    "response = requests.get(url)\n",
    "\n",
    "crypto_data = json.loads(response.text)\n",
    "crypto_df = pd.json_normalize(\n",
    "    crypto_data[\"data\"][\"cryptoCurrencyList\"],\n",
    "    \"quotes\",\n",
    "    [\"name\"],\n",
    "    record_prefix=\"_\",\n",
    ")\n",
    "_LOG.info(crypto_df.shape)\n",
    "crypto_df.head(3)"
   ]
  },
  {
   "cell_type": "code",
   "execution_count": null,
   "id": "e88bd9f0",
   "metadata": {},
   "outputs": [],
   "source": [
    "# Leave only necessary columns.\n",
    "crypto_df = crypto_df[[\"name\", \"_volume24h\", \"_marketCap\"]].sort_values(\n",
    "    \"_marketCap\", ascending=False, ignore_index=True\n",
    ")\n",
    "# `Good` crypto = first 100 coins by market cap\n",
    "good_crypto = crypto_df.iloc[:100]"
   ]
  },
  {
   "cell_type": "markdown",
   "id": "cb1412bc",
   "metadata": {},
   "source": [
    "## Market Cap"
   ]
  },
  {
   "cell_type": "markdown",
   "id": "4db4531c",
   "metadata": {},
   "source": [
    "### Top-10 `good` cryptocurrencies by Market Cap"
   ]
  },
  {
   "cell_type": "code",
   "execution_count": null,
   "id": "095eb463",
   "metadata": {},
   "outputs": [],
   "source": [
    "cplpluti.configure_notebook_for_presentation()"
   ]
  },
  {
   "cell_type": "code",
   "execution_count": null,
   "id": "a5339232",
   "metadata": {},
   "outputs": [],
   "source": [
    "display(good_crypto.loc[:9])\n",
    "cplpluti.plot_barplot(\n",
    "    good_crypto.set_index(\"name\")[\"_marketCap\"].iloc[:10].squeeze(),\n",
    "    title=\"Market cap per coin\",\n",
    "    xlabel=\"Cryptocurrencies\",\n",
    "    unicolor=True,\n",
    "    rotation=45,\n",
    ")"
   ]
  },
  {
   "cell_type": "markdown",
   "id": "d3f48d39",
   "metadata": {},
   "source": [
    "### Total market cap of top-10 `good` cryptocurrencies vs. other `good` cryptocurrencies"
   ]
  },
  {
   "cell_type": "code",
   "execution_count": null,
   "id": "d4c51624",
   "metadata": {},
   "outputs": [],
   "source": [
    "ratio_cc = get_general_volume_ratio_df(\n",
    "    good_crypto,\n",
    "    good_crypto.iloc[:10],\n",
    "    \"_marketCap\",\n",
    "    \"Top-10 cryptocurrencies\",\n",
    "    \"Other `good` cryptocurrencies\",\n",
    "    plot_results=True,\n",
    ")\n",
    "display(ratio_cc)"
   ]
  },
  {
   "cell_type": "markdown",
   "id": "3c61c6d3",
   "metadata": {},
   "source": [
    "### Cumulative market cap of all `good` cryptocurrencies"
   ]
  },
  {
   "cell_type": "code",
   "execution_count": null,
   "id": "21d88b11",
   "metadata": {},
   "outputs": [],
   "source": [
    "good_cumul_mcap = get_cumulative_volume_ratios(\n",
    "    good_crypto[:40], \"_marketCap\", plot_results=True, entity=\"coin\"\n",
    ")\n",
    "display(good_cumul_mcap.head(5))"
   ]
  },
  {
   "cell_type": "markdown",
   "id": "86b4a821",
   "metadata": {},
   "source": [
    "## Volume"
   ]
  },
  {
   "cell_type": "markdown",
   "id": "4233d583",
   "metadata": {},
   "source": [
    "### Top-10 `good` cryptocurrencies by volume"
   ]
  },
  {
   "cell_type": "code",
   "execution_count": null,
   "id": "e117500f",
   "metadata": {},
   "outputs": [],
   "source": [
    "good_crypto_volume_sorted = good_crypto.sort_values(\n",
    "    \"_volume24h\", ascending=False, ignore_index=True\n",
    ")\n",
    "display(good_crypto_volume_sorted.iloc[:10])\n",
    "cplpluti.plot_barplot(\n",
    "    crypto_df.set_index(\"name\")\n",
    "    .sort_values(\"_volume24h\", ascending=False)[\"_volume24h\"]\n",
    "    .iloc[:10]\n",
    "    .squeeze(),\n",
    "    title=\"Trading volume per coin\",\n",
    "    xlabel=\"Cryptocurrencies\",\n",
    "    unicolor=True,\n",
    "    rotation=45,\n",
    ")"
   ]
  },
  {
   "cell_type": "markdown",
   "id": "a9d28cb8",
   "metadata": {},
   "source": [
    "### Total volume of top-10 `good` cryptocurrencies vs. other `good` cryptocurrencies"
   ]
  },
  {
   "cell_type": "code",
   "execution_count": null,
   "id": "632dfe74",
   "metadata": {},
   "outputs": [],
   "source": [
    "ratio_good_volume = get_general_volume_ratio_df(\n",
    "    good_crypto_volume_sorted,\n",
    "    good_crypto_volume_sorted.iloc[:10],\n",
    "    \"_volume24h\",\n",
    "    \"Top-10 cryptocurrencies\",\n",
    "    \"Other `good` cryptocurrencies\",\n",
    "    plot_results=True,\n",
    ")\n",
    "display(ratio_good_volume)"
   ]
  },
  {
   "cell_type": "markdown",
   "id": "89bbd3e9",
   "metadata": {},
   "source": [
    "### Cumulative volume of all `good` cryptocurrencies"
   ]
  },
  {
   "cell_type": "code",
   "execution_count": null,
   "id": "6ff6a41f",
   "metadata": {},
   "outputs": [],
   "source": [
    "# Plot the cumulative volume against exchanges.\n",
    "all_cumul_cc_volume = get_cumulative_volume_ratios(\n",
    "    good_crypto_volume_sorted[:40], \"_volume24h\", plot_results=True, entity=\"coin\"\n",
    ")\n",
    "display(all_cumul_cc_volume.head(5))"
   ]
  },
  {
   "cell_type": "markdown",
   "id": "482c85bf",
   "metadata": {},
   "source": [
    "## `Good` vs. `Others` Crypto"
   ]
  },
  {
   "cell_type": "markdown",
   "id": "d260296d",
   "metadata": {},
   "source": [
    "- `good` crypto = first 100 coins by market cap\n",
    "- `other` crypto = coins outside `good` crypto (±10.000 entities)"
   ]
  },
  {
   "cell_type": "markdown",
   "id": "eae763f5",
   "metadata": {},
   "source": [
    "### Market Cap"
   ]
  },
  {
   "cell_type": "markdown",
   "id": "fbc6c447",
   "metadata": {},
   "source": [
    "#### Total market cap of all `good` cryptocurrencies vs. other cryptocurrencies"
   ]
  },
  {
   "cell_type": "code",
   "execution_count": null,
   "id": "be8b7537",
   "metadata": {},
   "outputs": [],
   "source": [
    "ratio_good_vs_others_mcap = get_general_volume_ratio_df(\n",
    "    crypto_df,\n",
    "    good_crypto,\n",
    "    \"_marketCap\",\n",
    "    \"`Good` cryptocurrencies\",\n",
    "    \"Other cryptocurrencies\",\n",
    "    plot_results=True,\n",
    ")\n",
    "display(ratio_good_vs_others_mcap)"
   ]
  },
  {
   "cell_type": "markdown",
   "id": "5a99b5f0",
   "metadata": {},
   "source": [
    "#### Cumulative market cap of all cryptocurrencies"
   ]
  },
  {
   "cell_type": "code",
   "execution_count": null,
   "id": "877d0686",
   "metadata": {},
   "outputs": [],
   "source": [
    "# Plot the cumulative volume against exchanges.\n",
    "good_others_mcap = get_cumulative_volume_ratios(\n",
    "    crypto_df[:40], \"_marketCap\", plot_results=True, entity=\"coin\"\n",
    ")\n",
    "display(good_others_mcap.head(5))"
   ]
  },
  {
   "cell_type": "markdown",
   "id": "e6581b2f",
   "metadata": {},
   "source": [
    "### Volume"
   ]
  },
  {
   "cell_type": "markdown",
   "id": "de41804a",
   "metadata": {},
   "source": [
    "#### Total volume of all `good` cryptocurrencies vs. other cryptocurrencies"
   ]
  },
  {
   "cell_type": "code",
   "execution_count": null,
   "id": "00da517d",
   "metadata": {},
   "outputs": [],
   "source": [
    "ratio_good_vs_others_mcap = get_general_volume_ratio_df(\n",
    "    crypto_df,\n",
    "    good_crypto,\n",
    "    \"_volume24h\",\n",
    "    \"`Good` cryptocurrencies\",\n",
    "    \"Other cryptocurrencies\",\n",
    "    plot_results=True,\n",
    ")\n",
    "display(ratio_good_vs_others_mcap)"
   ]
  },
  {
   "cell_type": "markdown",
   "id": "13eb38b9",
   "metadata": {},
   "source": [
    "#### Cumulative volume of all cryptocurrencies"
   ]
  },
  {
   "cell_type": "code",
   "execution_count": null,
   "id": "ef75284f",
   "metadata": {},
   "outputs": [],
   "source": [
    "# Plot the cumulative volume against exchanges.\n",
    "good_others_volume = get_cumulative_volume_ratios(\n",
    "    crypto_df.sort_values(\"_volume24h\", ascending=False, ignore_index=True)[:40],\n",
    "    \"_volume24h\",\n",
    "    plot_results=True,\n",
    "    entity=\"coin\",\n",
    ")\n",
    "display(good_others_volume.head(5))"
   ]
  }
 ],
 "metadata": {
  "kernelspec": {
   "display_name": "Python 3 (ipykernel)",
   "language": "python",
   "name": "python3"
  },
  "language_info": {
   "codemirror_mode": {
    "name": "ipython",
    "version": 3
   },
   "file_extension": ".py",
   "mimetype": "text/x-python",
   "name": "python",
   "nbconvert_exporter": "python",
   "pygments_lexer": "ipython3"
  },
  "toc": {
   "base_numbering": 1,
   "nav_menu": {},
   "number_sections": true,
   "sideBar": true,
   "skip_h1_title": false,
   "title_cell": "Table of Contents",
   "title_sidebar": "Contents",
   "toc_cell": false,
   "toc_position": {},
   "toc_section_display": true,
   "toc_window_display": false
  }
 },
 "nbformat": 4,
 "nbformat_minor": 5
}
