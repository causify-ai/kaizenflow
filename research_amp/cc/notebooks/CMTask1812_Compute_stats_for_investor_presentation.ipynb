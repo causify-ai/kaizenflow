{
 "cells": [
  {
   "cell_type": "markdown",
   "id": "843ed6f2",
   "metadata": {},
   "source": [
    "# Imports"
   ]
  },
  {
   "cell_type": "code",
   "execution_count": null,
   "id": "b532367e",
   "metadata": {},
   "outputs": [],
   "source": [
    "import json\n",
    "import logging\n",
    "\n",
    "import pandas as pd\n",
    "import requests\n",
    "import seaborn as sns\n",
    "\n",
    "import helpers.hdbg as hdbg\n",
    "import helpers.hprint as hprint\n",
    "\n",
    "import core.plotting.plotting_utils as cplpluti"
   ]
  },
  {
   "cell_type": "code",
   "execution_count": null,
   "id": "1976a8cd",
   "metadata": {},
   "outputs": [],
   "source": [
    "hdbg.init_logger(verbosity=logging.INFO)\n",
    "\n",
    "_LOG = logging.getLogger(__name__)\n",
    "\n",
    "hprint.config_notebook()"
   ]
  },
  {
   "cell_type": "markdown",
   "id": "86abc2f0",
   "metadata": {},
   "source": [
    "# Exchanges"
   ]
  },
  {
   "cell_type": "markdown",
   "id": "fd45bad8",
   "metadata": {},
   "source": [
    "## Load data"
   ]
  },
  {
   "cell_type": "code",
   "execution_count": null,
   "id": "12184b57",
   "metadata": {},
   "outputs": [],
   "source": [
    "url = \"https://coinmarketcap.com/rankings/exchanges/\"\n",
    "response = requests.get(url)\n",
    "df = pd.read_html(response.text)[0]\n",
    "df.loc[df[\"Volume(24h)\"].isna()].shape"
   ]
  },
  {
   "cell_type": "code",
   "execution_count": null,
   "id": "fbcd2542",
   "metadata": {},
   "outputs": [],
   "source": [
    "df.head(10)"
   ]
  },
  {
   "cell_type": "code",
   "execution_count": null,
   "id": "e989294f",
   "metadata": {},
   "outputs": [],
   "source": [
    "# Almost all the loaded data from url have NaNs so loading from fully saved html.\n",
    "with open(\"top.html\", \"r\") as f:\n",
    "    df = pd.read_html(f.read())[0]\n",
    "_LOG.info(df.shape)\n",
    "df.head(3)"
   ]
  },
  {
   "cell_type": "code",
   "execution_count": null,
   "id": "aaabf040",
   "metadata": {},
   "outputs": [],
   "source": [
    "# Check for NaNs.\n",
    "df.loc[df[\"Volume(24h)\"].isna()].shape"
   ]
  },
  {
   "cell_type": "code",
   "execution_count": null,
   "id": "fd4f2fff",
   "metadata": {},
   "outputs": [],
   "source": [
    "# Let's set it to an empty string first.\n",
    "df.loc[df[\"Volume(24h)\"].isna()] = \"\"\n",
    "df.loc[df[\"Volume(24h)\"].isna()].shape"
   ]
  },
  {
   "cell_type": "markdown",
   "id": "81dd74e1",
   "metadata": {},
   "source": [
    "## Create data frame with columns `name`, `volume`."
   ]
  },
  {
   "cell_type": "code",
   "execution_count": null,
   "id": "5c58072d",
   "metadata": {},
   "outputs": [],
   "source": [
    "name_volume_df = df[[\"Name\", \"Volume(24h)\"]]\n",
    "name_volume_df.head(3)"
   ]
  },
  {
   "cell_type": "markdown",
   "id": "d762cc26",
   "metadata": {},
   "source": [
    "### Convert types"
   ]
  },
  {
   "cell_type": "code",
   "execution_count": null,
   "id": "6590b4fb",
   "metadata": {},
   "outputs": [],
   "source": [
    "# Clear and convert volume to integer.\n",
    "\n",
    "name_volume_df = name_volume_df.convert_dtypes()\n",
    "name_volume_df[\"Volume(24h)\"] = name_volume_df[\"Volume(24h)\"].map(\n",
    "    lambda x: x[1:-6]\n",
    ")\n",
    "name_volume_df.loc[name_volume_df[\"Volume(24h)\"] == \"\"] = \"0\"\n",
    "name_volume_df[\"Volume(24h)\"] = name_volume_df[\"Volume(24h)\"].apply(\n",
    "    lambda x: x.replace(\",\", \"\")\n",
    ")\n",
    "name_volume_df[\"Volume(24h)\"] = pd.to_numeric(name_volume_df[\"Volume(24h)\"])\n",
    "name_volume_df.head(3)"
   ]
  },
  {
   "cell_type": "markdown",
   "id": "c7f39024",
   "metadata": {},
   "source": [
    "### Sorting by `volume`"
   ]
  },
  {
   "cell_type": "code",
   "execution_count": null,
   "id": "c88dc50f",
   "metadata": {},
   "outputs": [],
   "source": [
    "name_volume_df.sort_values(\n",
    "    [\"Volume(24h)\"], ascending=False, ignore_index=True, inplace=True\n",
    ")\n",
    "name_volume_df.head(3)"
   ]
  },
  {
   "cell_type": "markdown",
   "id": "bf6520b4",
   "metadata": {},
   "source": [
    "### Cumulative sum"
   ]
  },
  {
   "cell_type": "code",
   "execution_count": null,
   "id": "24664948",
   "metadata": {},
   "outputs": [],
   "source": [
    "cumsum = pd.DataFrame(name_volume_df[\"Volume(24h)\"].cumsum())\n",
    "cumsum.head()"
   ]
  },
  {
   "cell_type": "code",
   "execution_count": null,
   "id": "0335248c",
   "metadata": {},
   "outputs": [],
   "source": [
    "# Cumulative sum of top-10 exchanges.\n",
    "sns.barplot(x=name_volume_df[\"Name\"][:10], y=cumsum[\"Volume(24h)\"][:10])"
   ]
  },
  {
   "cell_type": "markdown",
   "id": "ba5d1c6d",
   "metadata": {},
   "source": [
    "# Crypto currencies"
   ]
  },
  {
   "cell_type": "markdown",
   "id": "69d3a3c1",
   "metadata": {},
   "source": [
    "## Load data"
   ]
  },
  {
   "cell_type": "code",
   "execution_count": null,
   "id": "44ed86dd",
   "metadata": {},
   "outputs": [],
   "source": [
    "url = \"https://api.coinmarketcap.com/data-api/v3/cryptocurrency/listing?start=1&limit=10081&sortBy=market_cap&sortType=desc&convert=USD&cryptoType=all&tagType=all&audited=false&aux=name,volume_24h\"\n",
    "response = requests.get(url)"
   ]
  },
  {
   "cell_type": "markdown",
   "id": "5491f4a1",
   "metadata": {},
   "source": [
    "## Convert json to data frame"
   ]
  },
  {
   "cell_type": "code",
   "execution_count": null,
   "id": "955b92aa",
   "metadata": {},
   "outputs": [],
   "source": [
    "crypto_data = json.loads(response.text)\n",
    "crypto_df = pd.json_normalize(\n",
    "    crypto_data[\"data\"][\"cryptoCurrencyList\"],\n",
    "    \"quotes\",\n",
    "    [\"name\"],\n",
    "    record_prefix=\"_\",\n",
    ")\n",
    "_LOG.info(crypto_df.shape)\n",
    "crypto_df.head(3)"
   ]
  },
  {
   "cell_type": "code",
   "execution_count": null,
   "id": "0236d854",
   "metadata": {},
   "outputs": [],
   "source": [
    "name_volume_crypto_df = crypto_df[[\"name\", \"_volume24h\"]]\n",
    "name_volume_crypto_df.head(3)"
   ]
  },
  {
   "cell_type": "markdown",
   "id": "159f750f",
   "metadata": {},
   "source": [
    "## Sorting by `volume`"
   ]
  },
  {
   "cell_type": "code",
   "execution_count": null,
   "id": "d1177ddc",
   "metadata": {},
   "outputs": [],
   "source": [
    "name_volume_crypto_df.sort_values(\n",
    "    [\"_volume24h\"], ascending=False, ignore_index=True, inplace=True\n",
    ")\n",
    "name_volume_crypto_df.head(3)"
   ]
  },
  {
   "cell_type": "markdown",
   "id": "2c2570f5",
   "metadata": {},
   "source": [
    "##  Cumulative sum"
   ]
  },
  {
   "cell_type": "code",
   "execution_count": null,
   "id": "51794020",
   "metadata": {},
   "outputs": [],
   "source": [
    "cumsum = pd.DataFrame(name_volume_crypto_df[\"_volume24h\"].cumsum())\n",
    "cumsum.head()"
   ]
  },
  {
   "cell_type": "code",
   "execution_count": null,
   "id": "3ac29dad",
   "metadata": {},
   "outputs": [],
   "source": [
    "# Cumulative sum of top-10 crypto currencies.\n",
    "sns.barplot(x=name_volume_crypto_df[\"name\"][:10], y=cumsum[\"_volume24h\"][:10])"
   ]
  },
  {
   "cell_type": "markdown",
   "id": "1fb526b4",
   "metadata": {},
   "source": [
    "# Max's version"
   ]
  },
  {
   "cell_type": "markdown",
   "id": "472b2f0a",
   "metadata": {},
   "source": [
    "## Exchanges (Spot)"
   ]
  },
  {
   "cell_type": "markdown",
   "id": "d491154f",
   "metadata": {},
   "source": [
    "Since the .html approach requires to load html file by yourseld, I will load data by myself and reuse some previous code."
   ]
  },
  {
   "cell_type": "code",
   "execution_count": null,
   "id": "e33a3045",
   "metadata": {},
   "outputs": [],
   "source": [
    "# Read .html file.\n",
    "file_name_exch = \"Top Cryptocurrency Exchanges Ranked By Volume _ CoinMarketCap.html\"\n",
    "file_exch = pd.read_html(file_name_exch)\n",
    "# Select necessary columns with top-100.\n",
    "exch_df = file_exch[0][[\"Name\", \"Volume(24h)\", \"Exchange Score\", \"#\"]].loc[:99]"
   ]
  },
  {
   "cell_type": "code",
   "execution_count": null,
   "id": "3beb9e50",
   "metadata": {},
   "outputs": [],
   "source": [
    "def volume_transformer(vol_str):\n",
    "    vol_str_split = vol_str.split(\",\")\n",
    "    last_piece = vol_str_split[-1]\n",
    "    last_piece = last_piece[0:3]\n",
    "    #print(poo_split)\n",
    "    result = [p for p in vol_str_split[:-1]]\n",
    "    result.append(last_piece)\n",
    "    return \",\".join(result)"
   ]
  },
  {
   "cell_type": "code",
   "execution_count": null,
   "id": "39971576",
   "metadata": {},
   "outputs": [],
   "source": [
    "# Clean up.\n",
    "exch_df['Name'] = exch_df['Name'].str.replace('\\d+', '')\n",
    "\n",
    "exch_df[\"Volume(24h)\"] = exch_df[\"Volume(24h)\"].apply(lambda x: volume_transformer(x))\n",
    "exch_df[\"Volume(24h)\"] = exch_df[\"Volume(24h)\"].apply(\n",
    "    lambda x: x.replace(\"$\", \"\")\n",
    ")\n",
    "exch_df[\"Volume(24h)\"] = exch_df[\"Volume(24h)\"].apply(\n",
    "    lambda x: x.replace(\".\", \"\")\n",
    ")\n",
    "exch_df[\"Volume(24h)\"] = exch_df[\"Volume(24h)\"].apply(\n",
    "    lambda x: x.replace(\",\", \"\")\n",
    ")\n",
    "exch_df[\"Volume(24h)\"] = pd.to_numeric(exch_df[\"Volume(24h)\"])"
   ]
  },
  {
   "cell_type": "code",
   "execution_count": null,
   "id": "e5600323",
   "metadata": {},
   "outputs": [],
   "source": [
    "# Select only `good` exchanges.\n",
    "top_exch = exch_df[exch_df[\"Exchange Score\"]>6]\n",
    "top_exch"
   ]
  },
  {
   "cell_type": "code",
   "execution_count": null,
   "id": "9568a30e",
   "metadata": {},
   "outputs": [],
   "source": [
    "# Sort by volume.\n",
    "top_exch = top_exch.sort_values(\n",
    "    [\"Volume(24h)\"], ascending=False, ignore_index=True\n",
    ")\n",
    "# Plot top-10 exhanges by volume.\n",
    "display(top_exch.loc[:9])\n",
    "cplpluti.plot_barplot(top_exch.set_index(\"Name\")[\"Volume(24h)\"].iloc[:10])"
   ]
  },
  {
   "cell_type": "code",
   "execution_count": null,
   "id": "d4be1e7a",
   "metadata": {},
   "outputs": [],
   "source": [
    "# Calculate the total trading volume of `good` exchanges.\n",
    "top_exch_volume = top_exch[\"Volume(24h)\"].sum()\n",
    "# Calculate the total trading volume of top-10 exchanges.\n",
    "top10_exch_volume = top_exch.loc[:9][\"Volume(24h)\"].sum()\n",
    "# The first 10 exchanges trade 90% of volume on `good` exchanges.\n",
    "top10_exch_volume/top_exch_volume"
   ]
  },
  {
   "cell_type": "code",
   "execution_count": null,
   "id": "ac3c86bb",
   "metadata": {},
   "outputs": [],
   "source": [
    "# Plot the ratio.\n",
    "ratio_good = pd.DataFrame()\n",
    "ratio_good.loc[\"Top-10 exchanges\", \"Trading volume\"] = top10_exch_volume\n",
    "ratio_good.loc[\"Other `good` exchanges\", \"Trading volume\"] = (top_exch_volume-top10_exch_volume)\n",
    "cplpluti.plot_barplot(ratio_good[\"Trading volume\"])"
   ]
  },
  {
   "cell_type": "code",
   "execution_count": null,
   "id": "30c6b089",
   "metadata": {},
   "outputs": [],
   "source": [
    "# Calculate the total trading volume of all exchanges (100 items).\n",
    "exch_volume = exch_df[\"Volume(24h)\"].sum()\n",
    "# Calculate the total trading volume of all `good` exchanges.\n",
    "good_exch_volume = top_exch[\"Volume(24h)\"].sum()\n",
    "# `Good` exchanges trade 40% of volume.\n",
    "good_exch_volume/exch_volume"
   ]
  },
  {
   "cell_type": "code",
   "execution_count": null,
   "id": "ad7f6d9b",
   "metadata": {},
   "outputs": [],
   "source": [
    "# Plot the ratio.\n",
    "ratio_all = pd.DataFrame()\n",
    "ratio_all.loc[\"`Good` exchanges\", \"Trading volume\"] = good_exch_volume\n",
    "ratio_all.loc[\"Other exchanges\", \"Trading volume\"] = (exch_volume-good_exch_volume)\n",
    "cplpluti.plot_barplot(ratio_all[\"Trading volume\"])"
   ]
  },
  {
   "cell_type": "markdown",
   "id": "3e604f2c",
   "metadata": {},
   "source": [
    "Here, the results are a little bit suprising. Maybe inferior exchanges provide incorrect statistics (and that's why their score is low)."
   ]
  },
  {
   "cell_type": "markdown",
   "id": "0d7d9633",
   "metadata": {},
   "source": [
    "## Exchanges (Derivatives)"
   ]
  },
  {
   "cell_type": "code",
   "execution_count": null,
   "id": "b0548b57",
   "metadata": {},
   "outputs": [],
   "source": [
    "# Read .html file.\n",
    "file_name_der = \"Top Cryptocurrency Derivatives Exchanges Ranked _ CoinMarketCap.html\"\n",
    "file_der = pd.read_html(file_name_der)\n",
    "# Select necessary columns with top-100.\n",
    "exch_der_df = file_der[0][[\"#\",\"Name\", \"Volume(24h)\"]]"
   ]
  },
  {
   "cell_type": "code",
   "execution_count": null,
   "id": "7350f92e",
   "metadata": {},
   "outputs": [],
   "source": [
    "# Clean up.\n",
    "exch_der_df['Name'] = exch_der_df['Name'].str.replace('\\d+', '')\n",
    "\n",
    "exch_der_df[\"Volume(24h)\"] = exch_der_df[\"Volume(24h)\"].apply(lambda x: volume_transformer(x))\n",
    "exch_der_df[\"Volume(24h)\"] = exch_der_df[\"Volume(24h)\"].apply(\n",
    "    lambda x: x.replace(\",\", \"\")\n",
    ")\n",
    "exch_der_df[\"Volume(24h)\"] = exch_der_df[\"Volume(24h)\"].apply(\n",
    "    lambda x: x.replace(\"$\", \"\")\n",
    ")\n",
    "exch_der_df[\"Volume(24h)\"] = pd.to_numeric(exch_der_df[\"Volume(24h)\"])\n",
    "# Sorting.\n",
    "exch_der_df = exch_der_df.sort_values(\"Volume(24h)\",ascending=False)"
   ]
  },
  {
   "cell_type": "code",
   "execution_count": null,
   "id": "0c5e99e5",
   "metadata": {},
   "outputs": [],
   "source": [
    "# Plot top-10 exchanges by volume.\n",
    "display(exch_der_df.loc[:9])\n",
    "cplpluti.plot_barplot(exch_der_df.set_index(\"Name\")[\"Volume(24h)\"].iloc[:10])"
   ]
  },
  {
   "cell_type": "code",
   "execution_count": null,
   "id": "50b0ff31",
   "metadata": {},
   "outputs": [],
   "source": [
    "# Calculate the total trading volume of derivatives exchanges.\n",
    "top_exch_der_volume = exch_der_df[\"Volume(24h)\"].sum()\n",
    "# Calculate the total trading volume of top-10 derivatives exchanges.\n",
    "top10_exch_der_volume = exch_der_df.loc[:9][\"Volume(24h)\"].sum()\n",
    "# The first 10 exchanges trade 79% of volume on `good` exchanges.\n",
    "top10_exch_der_volume/top_exch_der_volume"
   ]
  },
  {
   "cell_type": "code",
   "execution_count": null,
   "id": "eca45932",
   "metadata": {},
   "outputs": [],
   "source": [
    "# Plot the ratio.\n",
    "ratio_der = pd.DataFrame()\n",
    "ratio_der.loc[\"Top-10 exchanges\", \"Trading volume\"] = top10_exch_der_volume\n",
    "ratio_der.loc[\"Other exchanges\", \"Trading volume\"] = (top_exch_der_volume-top10_exch_der_volume)\n",
    "cplpluti.plot_barplot(ratio_der[\"Trading volume\"])"
   ]
  },
  {
   "cell_type": "markdown",
   "id": "4da9214a",
   "metadata": {},
   "source": [
    "## Cryptocurrencies."
   ]
  },
  {
   "cell_type": "code",
   "execution_count": null,
   "id": "5b64b597",
   "metadata": {},
   "outputs": [],
   "source": [
    "# Load and process the data.\n",
    "url = \"https://api.coinmarketcap.com/data-api/v3/cryptocurrency/listing?start=1&limit=10081&sortBy=market_cap&sortType=desc&convert=USD&cryptoType=all&tagType=all&audited=false&aux=name,volume_24h\"\n",
    "response = requests.get(url)\n",
    "\n",
    "crypto_data = json.loads(response.text)\n",
    "crypto_df = pd.json_normalize(\n",
    "    crypto_data[\"data\"][\"cryptoCurrencyList\"],\n",
    "    \"quotes\",\n",
    "    [\"name\"],\n",
    "    record_prefix=\"_\",\n",
    ")\n",
    "_LOG.info(crypto_df.shape)\n",
    "crypto_df.head(3)"
   ]
  },
  {
   "cell_type": "code",
   "execution_count": null,
   "id": "c48bafea",
   "metadata": {},
   "outputs": [],
   "source": [
    "# Leave only necessary columns.\n",
    "crypto_df = crypto_df[[\"name\", \"_volume24h\", \"_marketCap\"]]"
   ]
  },
  {
   "cell_type": "code",
   "execution_count": null,
   "id": "3b40ace3",
   "metadata": {},
   "outputs": [],
   "source": [
    "# Cryptocurrencies by Market Cap.\n",
    "display(crypto_df.loc[:9])\n",
    "cplpluti.plot_barplot(crypto_df.set_index(\"name\")[\"_marketCap\"].iloc[:10])"
   ]
  },
  {
   "cell_type": "code",
   "execution_count": null,
   "id": "6ef6377e",
   "metadata": {},
   "outputs": [],
   "source": [
    "# Calculate the total Market Cap of top-10 cc.\n",
    "top10_cc_mc = crypto_df.iloc[:10][\"_marketCap\"].sum()\n",
    "# Calculate the total Market Cap of top-100 cc.\n",
    "top100_cc_mc = crypto_df.iloc[:100][\"_marketCap\"].sum()\n",
    "# The first 10 cc trade 83% of Market Cap of top-100 cc.\n",
    "top10_cc_mc/top100_cc_mc"
   ]
  },
  {
   "cell_type": "code",
   "execution_count": null,
   "id": "43670f56",
   "metadata": {},
   "outputs": [],
   "source": [
    "# Plot the ratio.\n",
    "ratio_cc = pd.DataFrame()\n",
    "ratio_cc.loc[\"Top-10 cryptocurrencies\", \"Market Cap\"] = top10_cc_mc\n",
    "ratio_cc.loc[\"Other cryptocurrencies from top-100\", \"Market Cap\"] = (top100_cc_mc-top10_cc_mc)\n",
    "cplpluti.plot_barplot(ratio_cc[\"Market Cap\"])"
   ]
  },
  {
   "cell_type": "code",
   "execution_count": null,
   "id": "446e6de0",
   "metadata": {},
   "outputs": [],
   "source": [
    "# Cryptocurrencies by last 24h volume.\n",
    "display(crypto_df.sort_values(\"_volume24h\",ascending=False).iloc[:10])\n",
    "cplpluti.plot_barplot(crypto_df.set_index(\"name\").sort_values(\"_volume24h\",ascending=False)[\"_volume24h\"].iloc[:10])"
   ]
  },
  {
   "cell_type": "code",
   "execution_count": null,
   "id": "24989c02",
   "metadata": {},
   "outputs": [],
   "source": [
    "# Calculate the total trading volume of top-10 cc.\n",
    "top10_cc_volume = crypto_df.sort_values(\"_volume24h\",ascending=False).iloc[:10][\"_volume24h\"].sum()\n",
    "# Calculate the total trading volume of top-100 cc.\n",
    "top100_cc_volume = crypto_df.sort_values(\"_volume24h\",ascending=False).iloc[:100][\"_volume24h\"].sum()\n",
    "# The first 10 cc trade 81% of volume of top-100 cc.\n",
    "top10_cc_volume/top100_cc_volume"
   ]
  },
  {
   "cell_type": "code",
   "execution_count": null,
   "id": "140e2e4d",
   "metadata": {},
   "outputs": [],
   "source": [
    "# Plot the ratio.\n",
    "ratio_volume = pd.DataFrame()\n",
    "ratio_volume.loc[\"Top-10 cryptocurrencies\", \"Trading volume\"] = top10_cc_volume\n",
    "ratio_volume.loc[\"Other cryptocurrencies from top-100\", \"Trading volume\"] = (top100_cc_volume-top10_cc_volume)\n",
    "cplpluti.plot_barplot(ratio_volume[\"Trading volume\"])"
   ]
  },
  {
   "cell_type": "code",
   "execution_count": null,
   "id": "f571c06c",
   "metadata": {},
   "outputs": [],
   "source": []
  }
 ],
 "metadata": {
  "kernelspec": {
   "display_name": "Python 3 (ipykernel)",
   "language": "python",
   "name": "python3"
  },
  "language_info": {
   "codemirror_mode": {
    "name": "ipython",
    "version": 3
   },
   "file_extension": ".py",
   "mimetype": "text/x-python",
   "name": "python",
   "nbconvert_exporter": "python",
   "pygments_lexer": "ipython3"
  },
  "toc": {
   "base_numbering": 1,
   "nav_menu": {},
   "number_sections": true,
   "sideBar": true,
   "skip_h1_title": false,
   "title_cell": "Table of Contents",
   "title_sidebar": "Contents",
   "toc_cell": false,
   "toc_position": {},
   "toc_section_display": true,
   "toc_window_display": false
  }
 },
 "nbformat": 4,
 "nbformat_minor": 5
}
