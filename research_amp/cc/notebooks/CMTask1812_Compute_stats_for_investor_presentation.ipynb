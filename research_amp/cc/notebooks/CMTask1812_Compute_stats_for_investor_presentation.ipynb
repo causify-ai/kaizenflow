{
 "cells": [
  {
   "cell_type": "markdown",
   "id": "843ed6f2",
   "metadata": {},
   "source": [
    "# Imports"
   ]
  },
  {
   "cell_type": "code",
   "execution_count": null,
   "id": "b532367e",
   "metadata": {},
   "outputs": [],
   "source": [
    "import json\n",
    "import logging\n",
    "\n",
    "import pandas as pd\n",
    "import requests\n",
    "\n",
    "import core.plotting.plotting_utils as cplpluti\n",
    "import helpers.hdbg as hdbg\n",
    "import helpers.hprint as hprint"
   ]
  },
  {
   "cell_type": "code",
   "execution_count": null,
   "id": "1976a8cd",
   "metadata": {},
   "outputs": [],
   "source": [
    "hdbg.init_logger(verbosity=logging.INFO)\n",
    "\n",
    "_LOG = logging.getLogger(__name__)\n",
    "\n",
    "hprint.config_notebook()"
   ]
  },
  {
   "cell_type": "markdown",
   "id": "1906751f",
   "metadata": {},
   "source": [
    "# Functiuons"
   ]
  },
  {
   "cell_type": "code",
   "execution_count": null,
   "id": "7a50c682",
   "metadata": {},
   "outputs": [],
   "source": [
    "def volume_transformer(vol_str):\n",
    "    vol_str_split = vol_str.split(\",\")\n",
    "    last_piece = vol_str_split[-1]\n",
    "    last_piece = last_piece[0:3]\n",
    "    result = [p for p in vol_str_split[:-1]]\n",
    "    result.append(last_piece)\n",
    "    return \",\".join(result)\n",
    "\n",
    "def clean_up_exchanges(df):\n",
    "    # Names.\n",
    "    df[\"Name\"] = df[\"Name\"].str.replace(\"\\d+\", \"\")\n",
    "    # Volumes.\n",
    "    df[\"Volume(24h)\"] = df[\"Volume(24h)\"].apply(\n",
    "        lambda x: volume_transformer(x)\n",
    "    )\n",
    "    df[\"Volume(24h)\"] = df[\"Volume(24h)\"].apply(\n",
    "        lambda x: x.replace(\"$\", \"\")\n",
    "    )\n",
    "    df[\"Volume(24h)\"] = df[\"Volume(24h)\"].apply(\n",
    "        lambda x: x.replace(\".\", \"\")\n",
    "    )\n",
    "    df[\"Volume(24h)\"] = df[\"Volume(24h)\"].apply(\n",
    "        lambda x: x.replace(\",\", \"\")\n",
    "    )\n",
    "    df[\"Volume(24h)\"] = pd.to_numeric(df[\"Volume(24h)\"])\n",
    "    return df\n",
    "\n",
    "def get_cumulative_volume_ratios(df, value_col, plot_results):\n",
    "    cumul_volume = df[value_col].cumsum() / df[value_col].sum()\n",
    "    if plot_results:\n",
    "        cumul_volume.plot()\n",
    "    return cumul_volume\n",
    "\n",
    "def get_general_volume_ratio_df(df1, df2, value_col, col1, col2, plot_results):\n",
    "    value1 = df1[value_col].sum()\n",
    "    value2 = df2[value_col].sum()\n",
    "    ratio_df = pd.DataFrame()\n",
    "    ratio_df.loc[col1, \"Trading volume\"] = value2\n",
    "    ratio_df.loc[col2, \"Trading volume\"] = (\n",
    "            value1 - value2\n",
    "    )\n",
    "    if plot_results:\n",
    "        cplpluti.plot_barplot(ratio_df[\"Trading volume\"])\n",
    "    return ratio_df"
   ]
  },
  {
   "cell_type": "markdown",
   "id": "472b2f0a",
   "metadata": {},
   "source": [
    "# Exchanges (Spot)"
   ]
  },
  {
   "cell_type": "code",
   "execution_count": null,
   "id": "e33a3045",
   "metadata": {},
   "outputs": [],
   "source": [
    "# Read .html file.\n",
    "# It was downloaded 2022-05-03 from https://coinmarketcap.com/rankings/exchanges/.\n",
    "# Contains the snapshot of a table with the descriptive statistics of cryptocurrency exhanges.\n",
    "file_name_exch = (\n",
    "    \"Top Cryptocurrency Exchanges Ranked By Volume _ CoinMarketCap.html\"\n",
    ")\n",
    "file_exch = pd.read_html(file_name_exch)\n",
    "# Select necessary columns with top-100.\n",
    "exch_df = file_exch[0][[\"Name\", \"Volume(24h)\", \"Exchange Score\", \"#\"]].loc[:99]"
   ]
  },
  {
   "cell_type": "code",
   "execution_count": null,
   "id": "6b48da63",
   "metadata": {},
   "outputs": [],
   "source": [
    "# Clean up the data.\n",
    "all_exch = clean_up_exchanges(exch_df)"
   ]
  },
  {
   "cell_type": "code",
   "execution_count": null,
   "id": "2b5e50bf",
   "metadata": {},
   "outputs": [],
   "source": [
    "# Select only `good` exchanges.\n",
    "# Note: `good` exchanges - the ones with the Score > 6.\n",
    "# `All` exchanges - `good` exchanges + the remaining ones.\n",
    "good_exch = all_exch[all_exch[\"Exchange Score\"] > 6]\n",
    "good_exch"
   ]
  },
  {
   "cell_type": "code",
   "execution_count": null,
   "id": "14b0f457",
   "metadata": {},
   "outputs": [],
   "source": [
    "# Sort by volume.\n",
    "good_exch = good_exch.sort_values(\n",
    "    [\"Volume(24h)\"], ascending=False, ignore_index=True\n",
    ")\n",
    "# Plot top-10 exhanges by volume.\n",
    "display(good_exch.loc[:9])\n",
    "cplpluti.plot_barplot(good_exch.set_index(\"Name\")[\"Volume(24h)\"].iloc[:10])"
   ]
  },
  {
   "cell_type": "code",
   "execution_count": null,
   "id": "3c7e89b8",
   "metadata": {},
   "outputs": [],
   "source": [
    "ratio_good = get_general_volume_ratio_df(good_exch, \n",
    "                                         good_exch.loc[:9], \n",
    "                                         \"Volume(24h)\",\n",
    "                                         \"Top-10 `good` exchanges\", \n",
    "                                         \"Other `good` exchanges\", \n",
    "                                         plot_results=True)\n",
    "display(ratio_good)"
   ]
  },
  {
   "cell_type": "code",
   "execution_count": null,
   "id": "563dace0",
   "metadata": {},
   "outputs": [],
   "source": [
    "# Plot the cumulative volume against exchanges.\n",
    "good_cumul_volume = get_cumulative_volume_ratios(good_exch, \"Volume(24h)\", plot_results=True)\n",
    "display(good_cumul_volume.head(5))"
   ]
  },
  {
   "cell_type": "code",
   "execution_count": null,
   "id": "68d2e209",
   "metadata": {},
   "outputs": [],
   "source": [
    "ratio_all = get_general_volume_ratio_df(all_exch, \n",
    "                                         good_exch, \n",
    "                                        \"Volume(24h)\",\n",
    "                                         \"`Good` exchanges\", \n",
    "                                         \"Other exchanges\", \n",
    "                                         plot_results=True)\n",
    "display(ratio_all)"
   ]
  },
  {
   "cell_type": "markdown",
   "id": "0d8bd7be",
   "metadata": {},
   "source": [
    "Here, the results are a little bit suprising. Maybe inferior exchanges provide incorrect statistics (and that's why their score is low)."
   ]
  },
  {
   "cell_type": "code",
   "execution_count": null,
   "id": "67cc994c",
   "metadata": {},
   "outputs": [],
   "source": [
    "# Sort all exchanges by volume.\n",
    "all_exch_sorted = all_exch.sort_values(\n",
    "    [\"Volume(24h)\"], ascending=False, ignore_index=True\n",
    ")\n",
    "# Plot the cumulative volume against exchanges.\n",
    "all_cumul_volume = get_cumulative_volume_ratios(all_exch_sorted, \"Volume(24h)\", plot_results=True)\n",
    "display(all_cumul_volume.head(5))"
   ]
  },
  {
   "cell_type": "markdown",
   "id": "5f05c845",
   "metadata": {},
   "source": [
    "# Exchanges (Derivatives)"
   ]
  },
  {
   "cell_type": "code",
   "execution_count": null,
   "id": "897323ab",
   "metadata": {},
   "outputs": [],
   "source": [
    "# Read .html file.\n",
    "file_name_der = (\n",
    "    \"Top Cryptocurrency Derivatives Exchanges Ranked _ CoinMarketCap.html\"\n",
    ")\n",
    "file_der = pd.read_html(file_name_der)\n",
    "# Select necessary columns with top-100.\n",
    "exch_der_df = file_der[0][[\"#\", \"Name\", \"Volume(24h)\"]]"
   ]
  },
  {
   "cell_type": "code",
   "execution_count": null,
   "id": "beb65c0f",
   "metadata": {},
   "outputs": [],
   "source": [
    "# Clean up.\n",
    "exch_der_df = clean_up_exchanges(exch_der_df)\n",
    "# Sorting.\n",
    "exch_der_df = exch_der_df.sort_values(\"Volume(24h)\", ascending=False)"
   ]
  },
  {
   "cell_type": "code",
   "execution_count": null,
   "id": "5f1f38b7",
   "metadata": {},
   "outputs": [],
   "source": [
    "# Plot top-10 exchanges by volume.\n",
    "display(exch_der_df.loc[:9])\n",
    "cplpluti.plot_barplot(exch_der_df.set_index(\"Name\")[\"Volume(24h)\"].iloc[:10])"
   ]
  },
  {
   "cell_type": "code",
   "execution_count": null,
   "id": "342599b2",
   "metadata": {},
   "outputs": [],
   "source": [
    "ratio_der = get_general_volume_ratio_df(exch_der_df, \n",
    "                                         exch_der_df.loc[:9], \n",
    "                                        \"Volume(24h)\",\n",
    "                                         \"Top-10 exchanges\", \n",
    "                                         \"Other exchanges\", \n",
    "                                         plot_results=True)\n",
    "display(ratio_der)"
   ]
  },
  {
   "cell_type": "code",
   "execution_count": null,
   "id": "d6d5a6d6",
   "metadata": {},
   "outputs": [],
   "source": [
    "# Plot the cumulative volume against exchanges.\n",
    "all_cumul_der_volume = get_cumulative_volume_ratios(exch_der_df, \"Volume(24h)\", plot_results=True)\n",
    "display(all_cumul_der_volume.head(5))"
   ]
  },
  {
   "cell_type": "markdown",
   "id": "1eb48d51",
   "metadata": {},
   "source": [
    "# Cryptocurrencies"
   ]
  },
  {
   "cell_type": "code",
   "execution_count": null,
   "id": "2bccedc9",
   "metadata": {},
   "outputs": [],
   "source": [
    "# Load and process the data.\n",
    "url = \"https://api.coinmarketcap.com/data-api/v3/cryptocurrency/listing?start=1&limit=10081&sortBy=market_cap&sortType=desc&convert=USD&cryptoType=all&tagType=all&audited=false&aux=name,volume_24h\"\n",
    "response = requests.get(url)\n",
    "\n",
    "crypto_data = json.loads(response.text)\n",
    "crypto_df = pd.json_normalize(\n",
    "    crypto_data[\"data\"][\"cryptoCurrencyList\"],\n",
    "    \"quotes\",\n",
    "    [\"name\"],\n",
    "    record_prefix=\"_\",\n",
    ")\n",
    "_LOG.info(crypto_df.shape)\n",
    "crypto_df.head(3)"
   ]
  },
  {
   "cell_type": "code",
   "execution_count": null,
   "id": "e88bd9f0",
   "metadata": {},
   "outputs": [],
   "source": [
    "# Leave only necessary columns.\n",
    "crypto_df = crypto_df[[\"name\", \"_volume24h\", \"_marketCap\"]]"
   ]
  },
  {
   "cell_type": "code",
   "execution_count": null,
   "id": "a5339232",
   "metadata": {},
   "outputs": [],
   "source": [
    "# Cryptocurrencies by Market Cap.\n",
    "display(crypto_df.loc[:9])\n",
    "cplpluti.plot_barplot(crypto_df.set_index(\"name\")[\"_marketCap\"].iloc[:10])"
   ]
  },
  {
   "cell_type": "code",
   "execution_count": null,
   "id": "931a094b",
   "metadata": {},
   "outputs": [],
   "source": [
    "ratio_cc = get_general_volume_ratio_df(crypto_df.iloc[:100], \n",
    "                                       crypto_df.iloc[:10],\n",
    "                                        \"_marketCap\",\n",
    "                                         \"Top-10 cryptocurrencies\", \n",
    "                                         \"Other cryptocurrencies from top-100\", \n",
    "                                         plot_results=True)\n",
    "display(ratio_cc)"
   ]
  },
  {
   "cell_type": "code",
   "execution_count": null,
   "id": "9b4a60f0",
   "metadata": {},
   "outputs": [],
   "source": [
    "cc_mc_sorted = crypto_df.sort_values(\"_marketCap\", ascending=False, ignore_index=True)\n",
    "# Plot the cumulative volume against exchanges.\n",
    "all_cumul_cc_mc = get_cumulative_volume_ratios(cc_mc_sorted, \"_marketCap\", plot_results=True)\n",
    "display(all_cumul_cc_mc.head(5))"
   ]
  },
  {
   "cell_type": "code",
   "execution_count": null,
   "id": "e117500f",
   "metadata": {},
   "outputs": [],
   "source": [
    "# Cryptocurrencies by last 24h volume.\n",
    "display(crypto_df.sort_values(\"_volume24h\", ascending=False).iloc[:10])\n",
    "cplpluti.plot_barplot(\n",
    "    crypto_df.set_index(\"name\")\n",
    "    .sort_values(\"_volume24h\", ascending=False)[\"_volume24h\"]\n",
    "    .iloc[:10]\n",
    ")"
   ]
  },
  {
   "cell_type": "code",
   "execution_count": null,
   "id": "076658b5",
   "metadata": {},
   "outputs": [],
   "source": [
    "ratio_cc_volume = get_general_volume_ratio_df(crypto_df.sort_values(\"_volume24h\", ascending=False).iloc[:100],\n",
    "                                              crypto_df.sort_values(\"_volume24h\", ascending=False).iloc[:10],\n",
    "                                        \"_volume24h\",\n",
    "                                         \"Top-10 cryptocurrencies\", \n",
    "                                         \"Other cryptocurrencies from top-100\", \n",
    "                                         plot_results=True)\n",
    "display(ratio_cc_volume)"
   ]
  },
  {
   "cell_type": "code",
   "execution_count": null,
   "id": "f56c91e7",
   "metadata": {},
   "outputs": [],
   "source": [
    "cc_volume_sorted = crypto_df.sort_values(\"_volume24h\", ascending=False, ignore_index=True)\n",
    "# Plot the cumulative volume against exchanges.\n",
    "all_cumul_cc_volume = get_cumulative_volume_ratios(cc_volume_sorted, \"_volume24h\", plot_results=True)\n",
    "display(all_cumul_der_volume.head(5))"
   ]
  }
 ],
 "metadata": {
  "kernelspec": {
   "display_name": "Python 3 (ipykernel)",
   "language": "python",
   "name": "python3"
  },
  "language_info": {
   "codemirror_mode": {
    "name": "ipython",
    "version": 3
   },
   "file_extension": ".py",
   "mimetype": "text/x-python",
   "name": "python",
   "nbconvert_exporter": "python",
   "pygments_lexer": "ipython3"
  },
  "toc": {
   "base_numbering": 1,
   "nav_menu": {},
   "number_sections": true,
   "sideBar": true,
   "skip_h1_title": false,
   "title_cell": "Table of Contents",
   "title_sidebar": "Contents",
   "toc_cell": false,
   "toc_position": {},
   "toc_section_display": true,
   "toc_window_display": false
  }
 },
 "nbformat": 4,
 "nbformat_minor": 5
}
