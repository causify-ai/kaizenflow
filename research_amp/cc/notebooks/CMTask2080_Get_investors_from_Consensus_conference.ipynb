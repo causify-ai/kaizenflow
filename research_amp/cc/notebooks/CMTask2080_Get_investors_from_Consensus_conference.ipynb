{
 "cells": [
  {
   "cell_type": "markdown",
   "id": "ddbe7821",
   "metadata": {},
   "source": [
    "# Imports"
   ]
  },
  {
   "cell_type": "code",
   "execution_count": null,
   "id": "2f52afe2",
   "metadata": {},
   "outputs": [],
   "source": [
    "import pandas as pd"
   ]
  },
  {
   "cell_type": "markdown",
   "id": "c2a0e4b1",
   "metadata": {},
   "source": [
    "# Load the data"
   ]
  },
  {
   "cell_type": "code",
   "execution_count": null,
   "id": "c086914e",
   "metadata": {},
   "outputs": [],
   "source": [
    "data = pd.read_csv(\"/shared_data/consensus_conference.csv\", index_col = \"Unnamed: 0\")\n",
    "data"
   ]
  },
  {
   "cell_type": "markdown",
   "id": "7d15e31c",
   "metadata": {},
   "source": [
    "# Tier 1 filter"
   ]
  },
  {
   "cell_type": "code",
   "execution_count": null,
   "id": "276d4a21",
   "metadata": {},
   "outputs": [],
   "source": [
    "# `Partner` in job, `Venture,Capital,VC` in company.\n",
    "tier1 = pd.concat([\n",
    "    data[data[\"job\"].str.contains('Partner', case = False, na=False)],\n",
    "    data[data[\"company\"].str.contains('venture|capital|VC', case = False, na=False)],\n",
    "])\n",
    "# Exclude LLP (lawyer firms).\n",
    "tier1 = tier1[~tier1[\"company\"].str.contains('LLP', na=False)]\n",
    "tier1 = tier1.drop_duplicates()\n",
    "tier1"
   ]
  },
  {
   "cell_type": "code",
   "execution_count": null,
   "id": "19f029e9",
   "metadata": {},
   "outputs": [],
   "source": [
    "# `Phantombuster` format (name + company)\n",
    "tier1_phantombuster = tier1['name'].map(str) + ' ' + tier1['company'].map(str)\n",
    "tier1_phantombuster"
   ]
  }
 ],
 "metadata": {
  "kernelspec": {
   "display_name": "Python 3 (ipykernel)",
   "language": "python",
   "name": "python3"
  },
  "language_info": {
   "codemirror_mode": {
    "name": "ipython",
    "version": 3
   },
   "file_extension": ".py",
   "mimetype": "text/x-python",
   "name": "python",
   "nbconvert_exporter": "python",
   "pygments_lexer": "ipython3"
  },
  "toc": {
   "base_numbering": 1,
   "nav_menu": {},
   "number_sections": true,
   "sideBar": true,
   "skip_h1_title": false,
   "title_cell": "Table of Contents",
   "title_sidebar": "Contents",
   "toc_cell": false,
   "toc_position": {},
   "toc_section_display": true,
   "toc_window_display": false
  }
 },
 "nbformat": 4,
 "nbformat_minor": 5
}
