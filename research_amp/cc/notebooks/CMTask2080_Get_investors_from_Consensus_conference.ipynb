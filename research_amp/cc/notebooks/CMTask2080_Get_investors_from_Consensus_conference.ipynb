{
 "cells": [
  {
   "cell_type": "markdown",
   "id": "ddbe7821",
   "metadata": {},
   "source": [
    "# Imports"
   ]
  },
  {
   "cell_type": "code",
   "execution_count": null,
   "id": "2f52afe2",
   "metadata": {},
   "outputs": [],
   "source": [
    "import pandas as pd"
   ]
  },
  {
   "cell_type": "markdown",
   "id": "c2a0e4b1",
   "metadata": {},
   "source": [
    "# Load the data"
   ]
  },
  {
   "cell_type": "code",
   "execution_count": null,
   "id": "c086914e",
   "metadata": {},
   "outputs": [],
   "source": [
    "data = pd.read_csv(\n",
    "    \"/shared_data/consensus_conference.csv\", index_col=\"Unnamed: 0\"\n",
    ")\n",
    "data"
   ]
  },
  {
   "cell_type": "markdown",
   "id": "7d15e31c",
   "metadata": {},
   "source": [
    "# Tier 1 filter"
   ]
  },
  {
   "cell_type": "markdown",
   "id": "3703e7a8",
   "metadata": {},
   "source": [
    "## Either Partner or VC"
   ]
  },
  {
   "cell_type": "code",
   "execution_count": null,
   "id": "d038e31e",
   "metadata": {
    "run_control": {
     "marked": false
    }
   },
   "outputs": [],
   "source": [
    "# `Partner` in job.\n",
    "mask1 = data[\"job\"].str.contains(\"Partner\", case=False, na=False)\n",
    "print(\"Selecting partner=\", mask1.sum())\n",
    "# `Venture,Capital,VC` in company.\n",
    "mask2 = data[\"company\"].str.contains(\"venture|capital|VC\", case=False, na=False)\n",
    "print(\"Company count=\", mask2.sum())\n",
    "# Exclude LLP (lawyer firms).\n",
    "mask3 = data[\"company\"].str.contains(\"LLP\", na=False)\n",
    "print(\"Company count=\", mask3.sum())\n",
    "\n",
    "# Collect all Tier-1 contacts.\n",
    "tier1_ease = data[(mask1 | mask2) & ~mask3]\n",
    "tier1_ease = tier1_ease.drop_duplicates()\n",
    "tier1_ease"
   ]
  },
  {
   "cell_type": "markdown",
   "id": "199124f5",
   "metadata": {},
   "source": [
    "## Partner and VC is obligatory"
   ]
  },
  {
   "cell_type": "code",
   "execution_count": null,
   "id": "9e5e8954",
   "metadata": {},
   "outputs": [],
   "source": [
    "# `Partner` in job.\n",
    "mask1 = data[\"job\"].str.contains(\"Partner\", case=False, na=False)\n",
    "print(\"Selecting partner=\", mask1.sum())\n",
    "# `Venture,Capital,VC` in company.\n",
    "mask2 = data[\"company\"].str.contains(\"venture|capital|VC\", case=False, na=False)\n",
    "print(\"Company count=\", mask2.sum())\n",
    "\n",
    "# Collect all Tier-1 contacts.\n",
    "tier1 = data[(mask1 & mask2)]\n",
    "tier1 = tier1.drop_duplicates()\n",
    "tier1"
   ]
  },
  {
   "cell_type": "markdown",
   "id": "2c4b7fe0",
   "metadata": {},
   "source": [
    "## Investment-related jobs"
   ]
  },
  {
   "cell_type": "code",
   "execution_count": null,
   "id": "6f27e1c3",
   "metadata": {},
   "outputs": [],
   "source": [
    "# `Investor` in job.\n",
    "mask1 = data[\"job\"].str.contains(\"investor\", case=False, na=False)\n",
    "print(\"Selecting Investor=\", mask1.sum())\n",
    "# Exclude IR positions.\n",
    "mask2 = data[\"job\"].str.contains(\"Relations\", case=False, na=False)\n",
    "# More investor-related jobs.\n",
    "mask3 = data[\"job\"].str.contains(\"investment\", case=False, na=False)\n",
    "print(\"Selecting Investment=\", mask3.sum())\n",
    "\n",
    "new_names = data[(mask1 | mask3) & ~mask2]\n",
    "# Exclude previously found Tier-1 names.\n",
    "new_names = new_names[~new_names[\"name\"].isin(list(tier1[\"name\"]))]\n",
    "# Drop those with missing `company` field.\n",
    "new_names = new_names[new_names[\"company\"].notna()]\n",
    "# Drop duplicates.\n",
    "new_names = new_names.drop_duplicates(keep=\"last\")\n",
    "new_names"
   ]
  },
  {
   "cell_type": "markdown",
   "id": "729baf32",
   "metadata": {},
   "source": [
    "## Save results"
   ]
  },
  {
   "cell_type": "code",
   "execution_count": null,
   "id": "d084dac4",
   "metadata": {},
   "outputs": [],
   "source": [
    "new_names.to_csv(\"tier1.csv\")"
   ]
  },
  {
   "cell_type": "markdown",
   "id": "bca78bb0",
   "metadata": {},
   "source": [
    "## Phantombuster format converter"
   ]
  },
  {
   "cell_type": "code",
   "execution_count": null,
   "id": "5bea3ac7",
   "metadata": {},
   "outputs": [],
   "source": [
    "def conver_to_phantombuster(df):\n",
    "    ph_contacts = df[\"name\"].map(str) + \" \" + df[\"company\"].map(str)\n",
    "    return ph_contacts"
   ]
  },
  {
   "cell_type": "code",
   "execution_count": null,
   "id": "9e8e1a1a",
   "metadata": {},
   "outputs": [],
   "source": [
    "conver_to_phantombuster(new_names)"
   ]
  }
 ],
 "metadata": {
  "kernelspec": {
   "display_name": "Python 3 (ipykernel)",
   "language": "python",
   "name": "python3"
  },
  "language_info": {
   "codemirror_mode": {
    "name": "ipython",
    "version": 3
   },
   "file_extension": ".py",
   "mimetype": "text/x-python",
   "name": "python",
   "nbconvert_exporter": "python",
   "pygments_lexer": "ipython3"
  },
  "toc": {
   "base_numbering": 1,
   "nav_menu": {},
   "number_sections": true,
   "sideBar": true,
   "skip_h1_title": false,
   "title_cell": "Table of Contents",
   "title_sidebar": "Contents",
   "toc_cell": false,
   "toc_position": {},
   "toc_section_display": true,
   "toc_window_display": false
  }
 },
 "nbformat": 4,
 "nbformat_minor": 5
}
