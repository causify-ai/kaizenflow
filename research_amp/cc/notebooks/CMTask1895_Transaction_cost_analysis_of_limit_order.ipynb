{
 "cells": [
  {
   "cell_type": "markdown",
   "id": "c7d6dcf3",
   "metadata": {},
   "source": [
    "# Imports"
   ]
  },
  {
   "cell_type": "code",
   "execution_count": null,
   "id": "b2d58645",
   "metadata": {},
   "outputs": [],
   "source": [
    "%load_ext autoreload\n",
    "%autoreload 2\n",
    "\n",
    "\n",
    "from datetime import timedelta\n",
    "\n",
    "import pandas as pd\n",
    "import seaborn as sns\n",
    "\n",
    "import core.plotting.normality as cplonorm\n",
    "import research_amp.transform as ramptran\n",
    "import research_amp.cc.crypto_chassis_api as raccchap"
   ]
  },
  {
   "cell_type": "markdown",
   "id": "f6bd1ef0",
   "metadata": {},
   "source": [
    "# Load the data"
   ]
  },
  {
   "cell_type": "code",
   "execution_count": null,
   "id": "3fd3a4cf",
   "metadata": {},
   "outputs": [],
   "source": [
    "# Read saved 1 month of data.\n",
    "ohlcv_cc = pd.read_csv(\"/shared_data/cc_ohlcv.csv\", index_col=\"timestamp\")\n",
    "btc_ohlcv = ohlcv_cc[ohlcv_cc[\"full_symbol\"] == \"binance::BTC_USDT\"]\n",
    "btc_ohlcv.index = pd.to_datetime(btc_ohlcv.index)\n",
    "ohlcv_cols = [\n",
    "    \"open\",\n",
    "    \"high\",\n",
    "    \"low\",\n",
    "    \"close\",\n",
    "    \"volume\",\n",
    "]\n",
    "btc_ohlcv = btc_ohlcv[ohlcv_cols]\n",
    "btc_ohlcv.head(3)"
   ]
  },
  {
   "cell_type": "code",
   "execution_count": null,
   "id": "b91015b5",
   "metadata": {},
   "outputs": [],
   "source": [
    "# Read saved 1 month of data.\n",
    "#bid_ask_btc = pd.read_csv(\n",
    "#    \"/shared_data/bid_ask_btc_jan22_1min.csv\", index_col=\"timestamp\"\n",
    "#)\n",
    "#bid_ask_btc.index = pd.to_datetime(bid_ask_btc.index)\n",
    "\n",
    "# Read from crypto_chassis directly.\n",
    "# Specify the params.\n",
    "full_symbols = [\"binance::BTC_USDT\"]\n",
    "start_date = pd.Timestamp(\"2022-01-01\", tz=\"UTC\")\n",
    "end_date = pd.Timestamp(\"2022-02-01\", tz=\"UTC\")\n",
    "# Get the data.\n",
    "bid_ask_df = raccchap.read_and_resample_bid_ask_data(\n",
    "   full_symbols, start_date, end_date, \"1T\"\n",
    ")\n",
    "bid_ask_df.head(3)"
   ]
  },
  {
   "cell_type": "code",
   "execution_count": null,
   "id": "d2a7356a",
   "metadata": {},
   "outputs": [],
   "source": [
    "# Transform the data.\n",
    "bid_ask_df.index = pd.to_datetime(bid_ask_df.index)\n",
    "# Compute bid ask stats.\n",
    "bid_ask_btc = ramptran.calculate_bid_ask_statistics(bid_ask_df)\n",
    "# Choose only necessary values.\n",
    "bid_ask_btc = bid_ask_btc.swaplevel(axis=1)[\"binance::BTC_USDT\"][\n",
    "    [\"bid_size\", \"ask_size\", \"bid_price\", \"ask_price\", \"mid\", \"quoted_spread\"]\n",
    "]\n",
    "bid_ask_btc.index = bid_ask_btc.index.shift(-1)\n",
    "bid_ask_btc"
   ]
  },
  {
   "cell_type": "code",
   "execution_count": null,
   "id": "2dc9d9d0",
   "metadata": {},
   "outputs": [],
   "source": [
    "# OHLCV + bid ask\n",
    "btc = pd.concat([btc_ohlcv, bid_ask_btc], axis=1)\n",
    "btc.head(3)"
   ]
  },
  {
   "cell_type": "code",
   "execution_count": null,
   "id": "f50bd8a0",
   "metadata": {},
   "outputs": [],
   "source": [
    "close_outside_ba = len(btc.loc[(btc[\"close\"]>btc[\"ask_price\"])|(btc[\"close\"]<btc[\"bid_price\"])])\n",
    "print(f\"Share of close prices outside bid-ask spread: %.3f\" % (close_outside_ba/len(btc)))\n",
    "btc[[\"close\", \"bid_price\", \"ask_price\"]].head(100).plot(figsize=(15,7))"
   ]
  },
  {
   "cell_type": "markdown",
   "id": "2956f047",
   "metadata": {},
   "source": [
    "# Analysis"
   ]
  },
  {
   "cell_type": "code",
   "execution_count": null,
   "id": "aab7b32e",
   "metadata": {},
   "outputs": [],
   "source": [
    "# Set limit price.\n",
    "btc[\"limit_price\"] = btc[\"ask_price\"] - 0.01"
   ]
  },
  {
   "cell_type": "markdown",
   "id": "73dd4577",
   "metadata": {},
   "source": [
    "## Use case for one interval"
   ]
  },
  {
   "cell_type": "code",
   "execution_count": null,
   "id": "a13cdadb",
   "metadata": {},
   "outputs": [],
   "source": [
    "# Use case for one N interval\n",
    "N = 15\n",
    "delta_N = timedelta(minutes=N)\n",
    "start_time = pd.Timestamp(\"2022-01-01 09:59:00+00:00\", tz=\"UTC\")\n",
    "end_time_N = start_time + delta_N\n",
    "first_N_min = btc.loc[start_time:end_time_N]\n",
    "M = 5\n",
    "delta_M = timedelta(minutes=M)\n",
    "end_time_M = start_time + delta_M\n",
    "first_M_min = btc.loc[start_time:end_time_M]"
   ]
  },
  {
   "cell_type": "code",
   "execution_count": null,
   "id": "b31ce79e",
   "metadata": {},
   "outputs": [],
   "source": [
    "# Execution is triggered if `limit_price` is inside [low,high] interval.\n",
    "first_M_min = first_M_min.copy()\n",
    "first_M_min[\"execution_is_triggered\"] = (\n",
    "    first_M_min[\"high\"] > first_M_min[\"limit_price\"]\n",
    ") & (first_M_min[\"low\"] < first_M_min[\"limit_price\"])\n",
    "# Calculate execution volume.\n",
    "first_M_min[\"executed_volume\"] = first_M_min[\"volume\"] / (\n",
    "    first_M_min[\"high\"] - first_M_min[\"low\"]\n",
    ")\n",
    "first_M_min\n",
    "\n",
    "# Executed deals.\n",
    "M_summary = first_M_min[first_M_min[\"execution_is_triggered\"] == True][\n",
    "    [\"limit_price\", \"executed_volume\"]\n",
    "]\n",
    "M_summary"
   ]
  },
  {
   "cell_type": "code",
   "execution_count": null,
   "id": "77f4e167",
   "metadata": {},
   "outputs": [],
   "source": [
    "execution_value_1p = (\n",
    "    M_summary[\"limit_price\"] * M_summary[\"executed_volume\"]\n",
    ").sum()\n",
    "execution_value_1p"
   ]
  },
  {
   "cell_type": "code",
   "execution_count": null,
   "id": "747310a8",
   "metadata": {},
   "outputs": [],
   "source": [
    "holding_value_1p = first_N_min.iloc[-1][\"close\"] * (\n",
    "    M_summary[\"executed_volume\"].sum()\n",
    ")\n",
    "holding_value_1p"
   ]
  },
  {
   "cell_type": "markdown",
   "id": "3639a4e6",
   "metadata": {},
   "source": [
    "## Extend the analysis for the whole period"
   ]
  },
  {
   "cell_type": "code",
   "execution_count": null,
   "id": "6724a201",
   "metadata": {},
   "outputs": [],
   "source": [
    "num_intervals = (btc.index.max() - btc.index.min()).total_seconds() / (15 * 60)\n",
    "num_intervals = range(int(num_intervals))\n",
    "num_intervals"
   ]
  },
  {
   "cell_type": "code",
   "execution_count": null,
   "id": "905fd2bb",
   "metadata": {},
   "outputs": [],
   "source": [
    "N = 15\n",
    "M = 5\n",
    "\n",
    "start_time = btc.index.min()\n",
    "delta_N = timedelta(minutes=N)\n",
    "delta_M = timedelta(minutes=M)\n",
    "\n",
    "results = pd.DataFrame()\n",
    "\n",
    "for i in num_intervals:\n",
    "    # Construct periods.\n",
    "    end_time_N = start_time + delta_N\n",
    "    end_time_M = start_time + delta_M\n",
    "    N_min = btc.loc[start_time:end_time_N]\n",
    "    M_min = btc.loc[start_time:end_time_M]\n",
    "    # Execution is triggered if `limit_price` is inside [low,high] interval.\n",
    "    first_M_min = M_min.copy()\n",
    "    first_M_min[\"execution_is_triggered\"] = (\n",
    "        first_M_min[\"high\"] > first_M_min[\"limit_price\"]\n",
    "    ) & (first_M_min[\"low\"] < first_M_min[\"limit_price\"])\n",
    "    # Calculate execution volume.\n",
    "    first_M_min[\"executed_volume\"] = first_M_min[\"volume\"] / (\n",
    "        first_M_min[\"high\"] - first_M_min[\"low\"]\n",
    "    )\n",
    "    # Executed deals.\n",
    "    M_summary = first_M_min[first_M_min[\"execution_is_triggered\"] == True][\n",
    "        [\"limit_price\", \"executed_volume\"]\n",
    "    ]\n",
    "    execution_value = (\n",
    "        M_summary[\"limit_price\"] * M_summary[\"executed_volume\"]\n",
    "    ).sum()\n",
    "    holding_value = N_min.iloc[-1][\"close\"] * (M_summary[\"executed_volume\"].sum())\n",
    "    # Collect the results.\n",
    "    results.loc[i, \"start_period\"] = start_time\n",
    "    results.loc[i, \"end_period\"] = end_time_N\n",
    "    results.loc[i, f\"execution_value_first_{M}_mins\"] = execution_value\n",
    "    results.loc[i, f\"holding_value_at_the_end_of_{N}_min\"] = holding_value\n",
    "    # New start time.\n",
    "    start_time = start_time + delta_N"
   ]
  },
  {
   "cell_type": "code",
   "execution_count": null,
   "id": "2a72dbc7",
   "metadata": {},
   "outputs": [],
   "source": [
    "results"
   ]
  },
  {
   "cell_type": "code",
   "execution_count": null,
   "id": "270dae96",
   "metadata": {},
   "outputs": [],
   "source": [
    "# Check the results (compare with the use case for one period).\n",
    "whole_period = results[\n",
    "    results[\"start_period\"] == pd.Timestamp(\"2022-01-01 09:59:00+00:00\", tz=\"UTC\")\n",
    "][\"execution_value_first_5_mins\"].values\n",
    "one_period = execution_value_1p\n",
    "whole_period == one_period"
   ]
  },
  {
   "cell_type": "markdown",
   "id": "3d32ff43",
   "metadata": {},
   "source": [
    "# The distribution of money made - money spent"
   ]
  },
  {
   "cell_type": "code",
   "execution_count": null,
   "id": "9ec1332a",
   "metadata": {},
   "outputs": [],
   "source": [
    "post_results = results.copy()"
   ]
  },
  {
   "cell_type": "code",
   "execution_count": null,
   "id": "9fc5fec3",
   "metadata": {},
   "outputs": [],
   "source": [
    "post_results[\"money_diff\"] = (\n",
    "    post_results[\"holding_value_at_the_end_of_15_min\"]\n",
    "    - post_results[\"execution_value_first_5_mins\"]\n",
    ")\n",
    "post_results[\"money_diff\"].describe()"
   ]
  },
  {
   "cell_type": "code",
   "execution_count": null,
   "id": "299c1c84",
   "metadata": {},
   "outputs": [],
   "source": [
    "sns.displot(post_results, x=\"money_diff\")"
   ]
  },
  {
   "cell_type": "code",
   "execution_count": null,
   "id": "98db7695",
   "metadata": {},
   "outputs": [],
   "source": [
    "# Visualize the result\n",
    "cplonorm.plot_qq(post_results[\"money_diff\"])"
   ]
  }
 ],
 "metadata": {
  "kernelspec": {
   "display_name": "Python 3 (ipykernel)",
   "language": "python",
   "name": "python3"
  },
  "language_info": {
   "codemirror_mode": {
    "name": "ipython",
    "version": 3
   },
   "file_extension": ".py",
   "mimetype": "text/x-python",
   "name": "python",
   "nbconvert_exporter": "python",
   "pygments_lexer": "ipython3"
  },
  "toc": {
   "base_numbering": 1,
   "nav_menu": {
    "height": "133px",
    "width": "228px"
   },
   "number_sections": true,
   "sideBar": true,
   "skip_h1_title": false,
   "title_cell": "Table of Contents",
   "title_sidebar": "Contents",
   "toc_cell": false,
   "toc_position": {},
   "toc_section_display": true,
   "toc_window_display": true
  }
 },
 "nbformat": 4,
 "nbformat_minor": 5
}
