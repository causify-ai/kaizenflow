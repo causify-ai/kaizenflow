{
 "cells": [
  {
   "cell_type": "markdown",
   "id": "c7d6dcf3",
   "metadata": {},
   "source": [
    "# Imports"
   ]
  },
  {
   "cell_type": "code",
   "execution_count": null,
   "id": "b2d58645",
   "metadata": {},
   "outputs": [],
   "source": [
    "%load_ext autoreload\n",
    "%autoreload 2\n",
    "\n",
    "\n",
    "import logging\n",
    "from datetime import timedelta\n",
    "\n",
    "import pandas as pd\n",
    "import seaborn as sns\n",
    "\n",
    "import core.plotting.normality as cplonorm\n",
    "import helpers.hdbg as hdbg\n",
    "import helpers.hprint as hprint\n",
    "import research_amp.transform as ramptran"
   ]
  },
  {
   "cell_type": "code",
   "execution_count": null,
   "id": "1d7eee6b",
   "metadata": {},
   "outputs": [],
   "source": [
    "hdbg.init_logger(verbosity=logging.INFO)\n",
    "\n",
    "_LOG = logging.getLogger(__name__)\n",
    "\n",
    "hprint.config_notebook()"
   ]
  },
  {
   "cell_type": "markdown",
   "id": "f6bd1ef0",
   "metadata": {},
   "source": [
    "# Load the data"
   ]
  },
  {
   "cell_type": "markdown",
   "id": "ba1a48f1",
   "metadata": {},
   "source": [
    "## OHLCV"
   ]
  },
  {
   "cell_type": "code",
   "execution_count": null,
   "id": "3fd3a4cf",
   "metadata": {
    "run_control": {
     "marked": false
    }
   },
   "outputs": [],
   "source": [
    "# Read saved 1 month of data.\n",
    "ohlcv_cc = pd.read_csv(\"/shared_data/cc_ohlcv.csv\", index_col=\"timestamp\")\n",
    "btc_ohlcv = ohlcv_cc[ohlcv_cc[\"full_symbol\"] == \"binance::BTC_USDT\"]\n",
    "btc_ohlcv.index = pd.to_datetime(btc_ohlcv.index)\n",
    "ohlcv_cols = [\n",
    "    \"open\",\n",
    "    \"high\",\n",
    "    \"low\",\n",
    "    \"close\",\n",
    "    \"volume\",\n",
    "]\n",
    "btc_ohlcv = btc_ohlcv[ohlcv_cols]\n",
    "btc_ohlcv.head(3)"
   ]
  },
  {
   "cell_type": "markdown",
   "id": "f78dfdbf",
   "metadata": {},
   "source": [
    "## Bid-ask data"
   ]
  },
  {
   "cell_type": "markdown",
   "id": "06b0e352",
   "metadata": {},
   "source": [
    "Specs for the current data snapshot:\n",
    "- Originally, bid-ask data from crypto-chassis appears in `seconds` frequency\n",
    "- In order to be consistent with the OHLCV data one needs to resample it to `1-minute` frequency\n",
    "- While resampling the `last` parameter was set for both price and sizes\n",
    "- Data range: January 2022"
   ]
  },
  {
   "cell_type": "code",
   "execution_count": null,
   "id": "b91015b5",
   "metadata": {
    "run_control": {
     "marked": false
    }
   },
   "outputs": [],
   "source": [
    "# Read saved 1 month of data.\n",
    "bid_ask_btc = pd.read_csv(\n",
    "    \"/shared_data/bid_ask_btc_jan22_1min_last.csv\", index_col=\"timestamp\"\n",
    ")\n",
    "bid_ask_btc.index = pd.to_datetime(bid_ask_btc.index)\n",
    "\n",
    "# Read from crypto_chassis directly.\n",
    "# Specify the params.\n",
    "# full_symbols = [\"binance::BTC_USDT\"]\n",
    "# start_date = pd.Timestamp(\"2022-01-01\", tz=\"UTC\")\n",
    "# end_date = pd.Timestamp(\"2022-02-01\", tz=\"UTC\")\n",
    "# Get the data.\n",
    "# bid_ask_df = raccchap.read_and_resample_bid_ask_data(\n",
    "#   full_symbols, start_date, end_date, \"1T\"\n",
    "# )\n",
    "bid_ask_btc.head(3)"
   ]
  },
  {
   "cell_type": "code",
   "execution_count": null,
   "id": "db9021e7",
   "metadata": {},
   "outputs": [],
   "source": [
    "# Transform the data.\n",
    "bid_ask_btc.index = pd.to_datetime(bid_ask_btc.index)\n",
    "# Compute bid ask stats.\n",
    "bid_ask_btc = ramptran.calculate_bid_ask_statistics(bid_ask_btc)\n",
    "# Choose only necessary values.\n",
    "bid_ask_btc = bid_ask_btc.swaplevel(axis=1)[\"binance::BTC_USDT\"][\n",
    "    [\"bid_size\", \"ask_size\", \"bid_price\", \"ask_price\", \"mid\", \"quoted_spread\"]\n",
    "]\n",
    "bid_ask_btc.index = bid_ask_btc.index.shift(-1, freq=\"T\")\n",
    "bid_ask_btc"
   ]
  },
  {
   "cell_type": "markdown",
   "id": "1cffc280",
   "metadata": {},
   "source": [
    "## Combined"
   ]
  },
  {
   "cell_type": "code",
   "execution_count": null,
   "id": "2dc9d9d0",
   "metadata": {},
   "outputs": [],
   "source": [
    "# OHLCV + bid ask\n",
    "btc = pd.concat([btc_ohlcv, bid_ask_btc], axis=1)\n",
    "btc.head(3)"
   ]
  },
  {
   "cell_type": "code",
   "execution_count": null,
   "id": "4f58de73",
   "metadata": {
    "run_control": {
     "marked": false
    }
   },
   "outputs": [],
   "source": [
    "# Sanity check.\n",
    "close_outside_ba = len(\n",
    "    btc.loc[(btc[\"close\"] > btc[\"ask_price\"]) | (btc[\"close\"] < btc[\"bid_price\"])]\n",
    ")\n",
    "print(\n",
    "    f\"Share of close prices outside bid-ask spread: %.3f\"\n",
    "    % (close_outside_ba / len(btc))\n",
    ")\n",
    "btc[[\"close\", \"bid_price\", \"ask_price\"]].head(100).plot(figsize=(15, 7))"
   ]
  },
  {
   "cell_type": "markdown",
   "id": "2956f047",
   "metadata": {},
   "source": [
    "# Analysis"
   ]
  },
  {
   "cell_type": "markdown",
   "id": "73dd0fb7",
   "metadata": {},
   "source": [
    "## Functions"
   ]
  },
  {
   "cell_type": "code",
   "execution_count": null,
   "id": "f1fd8539",
   "metadata": {
    "run_control": {
     "marked": false
    }
   },
   "outputs": [],
   "source": [
    "def compute_execution(df: pd.DataFrame, is_buy: bool = True) -> pd.DataFrame:\n",
    "    \"\"\"\n",
    "    Compute execution statistics in the trade interval for a given limit order.\n",
    "    Collected statistics for a given trading period:\n",
    "\n",
    "    - executed_volume: the volume that was available in the bars where there was execution.\n",
    "    - executed_notional: the amount of dollars we could have executed assuming to sweep\n",
    "    the first level of the order book.\n",
    "    - executed_bars: in how many bars there was an execution.\n",
    "    - executed_avg_price: average price for which there was execution\n",
    "\n",
    "    :param df: data of time interval for trading period\n",
    "    :param is_buy: transaction side (i.e., True for `buy`, False for `sell`)\n",
    "    :return: calculated stats for a given trade interval\n",
    "    \"\"\"\n",
    "    result = {}\n",
    "    # Execution is triggered if `limit_price` is inside [low,high] interval of close price.\n",
    "    # It is guarantee that there was execution in [low, high] of close price, and thus our\n",
    "    # order would have triggered.\n",
    "    # TODO(gp): more precisely we should use [low, high] of ask / bid (depending on the direction)\n",
    "    # to trigger an execution.\n",
    "    df[\"execution_is_triggered\"] = (df[\"high\"] >= df[\"limit_price\"]) & (\n",
    "        df[\"low\"] <= df[\"limit_price\"]\n",
    "    )\n",
    "    # Set the volume that will be triggered during transaction.\n",
    "    if is_buy:\n",
    "        size_col = \"ask_size\"\n",
    "    else:\n",
    "        size_col = \"bid_size\"\n",
    "    # Execution volume.\n",
    "    result[\"executed_volume\"] = (\n",
    "        df[size_col] * df[\"execution_is_triggered\"]\n",
    "    ).sum()\n",
    "    # The notional executed volume.\n",
    "    result[\"executed_notional\"] = (df[size_col] * df[\"limit_price\"]).sum()\n",
    "    # Executed bars.\n",
    "    result[\"executed_bars\"] = df[\"execution_is_triggered\"].sum()\n",
    "    # Executed average price.\n",
    "    result[\"executed_avg_price\"] = (\n",
    "        df[\"limit_price\"] * df[\"execution_is_triggered\"]\n",
    "    ).mean()\n",
    "    # Build a DataFrame with all the results and mark it at the end of the interval.\n",
    "    result = pd.DataFrame(result, index=[df.index[-1]])\n",
    "    return result\n",
    "\n",
    "\n",
    "def compute_transaction_cost(\n",
    "    df,\n",
    "    start_time,\n",
    "    interval_in_mins: int = 10,\n",
    "    trade_in_mins: int = 5,\n",
    "    is_buy: bool = True,\n",
    ") -> pd.DataFrame:\n",
    "    \"\"\"\n",
    "    Given prices and ask / bids in the bars (a, b] marked at the end of the\n",
    "    interval, compute the cost to enter a buy / sell trade in the interval\n",
    "    [start_time, start_time + interval_in_mins) and the pnl from holding\n",
    "    between.\n",
    "\n",
    "    Collected statistics for a given trading period:\n",
    "\n",
    "    - Stats from `compute_execution()`\n",
    "    - close_price_holding_period: close price at the end of holding period\n",
    "    - trade_pnl_per_share: difference between start and close price (holding period)\n",
    "    - holding_notional: volume obtained from the trading period multiplied by close_price_holding_period\n",
    "    - notional_diff: difference between notional trading values from trading and holding periods\n",
    "\n",
    "    :param df: combined OHLCV and bid-ask data\n",
    "    :param interval_in_mins: number of minutes during holding period\n",
    "    :param trade_in_mins: number of minutes during trading period\n",
    "    :param is_buy: transaction side (i.e., True for `buy`, False for `sell`)\n",
    "    :return: transaction costs stats for the interval\n",
    "    \"\"\"\n",
    "    hdbg.dassert_lt(trade_in_mins, interval_in_mins)\n",
    "    # The position is entered in the interval:\n",
    "    # [start_time, start_time + trade_in_mins)\n",
    "    trade_in_mins = timedelta(minutes=trade_in_mins)\n",
    "    trade_interval = df.loc[\n",
    "        start_time : start_time + trade_in_mins - timedelta(minutes=1)\n",
    "    ].copy()\n",
    "    # Add \"limit_price\" to df.\n",
    "    if is_buy:\n",
    "        trade_interval[\"limit_price\"] = (\n",
    "            trade_interval.loc[start_time][\"ask_price\"] - 0.01\n",
    "        )\n",
    "    else:\n",
    "        trade_interval[\"limit_price\"] = (\n",
    "            trade_interval.loc[start_time][\"bid_price\"] + 0.01\n",
    "        )\n",
    "    result = compute_execution(trade_interval, is_buy)\n",
    "    # The position is held during the interval:\n",
    "    # [start_time + trade_in_mins, start_time + interval_in_mins).\n",
    "    interval_in_mins = (\n",
    "        timedelta(minutes=interval_in_mins) + trade_in_mins - timedelta(minutes=1)\n",
    "    )\n",
    "    # Start / end prices for the holding period.\n",
    "    start_price = df.loc[start_time + trade_in_mins][\"close\"]\n",
    "    end_price = df.loc[start_time + interval_in_mins][\"close\"]\n",
    "    # Difference between start and close price (holding period).\n",
    "    if is_buy:\n",
    "        trade_pnl_per_share = start_price - end_price\n",
    "    else:\n",
    "        trade_pnl_per_share = -(start_price - end_price)\n",
    "    result[\"trade_pnl_per_share\"] = trade_pnl_per_share\n",
    "    # Close price at the end of holding period.\n",
    "    result[\"close_price_holding_period\"] = end_price\n",
    "    # Notional value of holding position.\n",
    "    result[\"holding_notional\"] = (\n",
    "        result[\"close_price_holding_period\"] * result[\"executed_volume\"]\n",
    "    )\n",
    "    # Difference between notional trading values from trading and holding periods.\n",
    "    result[\"notional_diff\"] = (\n",
    "        result[\"holding_notional\"] - result[\"executed_notional\"]\n",
    "    )\n",
    "    return result\n",
    "\n",
    "\n",
    "def calculate_number_of_total_intervals(\n",
    "    df: pd.DataFrame, total_interval: int\n",
    ") -> range:\n",
    "    \"\"\"\n",
    "    Computes the number of iterations in the loop, so every interval can be\n",
    "    processed.\n",
    "\n",
    "    :param df: combined OHLCV and bid-ask data\n",
    "    :param total_interval: the sum of intervals for holding and trading periods\n",
    "    \"\"\"\n",
    "    trans_int_in_sec = total_interval * 60\n",
    "    total_period = (df.index.max() - df.index.min()).total_seconds()\n",
    "    num_intervals = total_period / trans_int_in_sec\n",
    "    num_intervals = range(int(num_intervals))\n",
    "    return num_intervals"
   ]
  },
  {
   "cell_type": "code",
   "execution_count": null,
   "id": "55cc4d4e",
   "metadata": {},
   "outputs": [],
   "source": [
    "# Set the params.\n",
    "start_time = btc.index.min()\n",
    "interval_in_mins = 10\n",
    "trade_in_mins = 5\n",
    "total_interval = interval_in_mins + trade_in_mins\n",
    "is_buy = True\n",
    "# Set the number of total intervals.\n",
    "num_intervals = calculate_number_of_total_intervals(btc, total_interval)\n",
    "# Calculate transaction cost stats for each period inside the sample.\n",
    "final_result = []\n",
    "for i in num_intervals:\n",
    "    # Calculate transaction cost for each interval.\n",
    "    result_tmp = compute_transaction_cost(\n",
    "        btc, start_time, interval_in_mins, trade_in_mins, is_buy\n",
    "    )\n",
    "    final_result.append(result_tmp)\n",
    "    # Define new `start_time` for the next period.\n",
    "    start_time = start_time + timedelta(minutes=total_interval)\n",
    "# Combine the stats from all periods.\n",
    "final_result = pd.concat(final_result)\n",
    "final_result.head(3)"
   ]
  },
  {
   "cell_type": "markdown",
   "id": "3d32ff43",
   "metadata": {},
   "source": [
    "# The distribution of money made - money spent"
   ]
  },
  {
   "cell_type": "code",
   "execution_count": null,
   "id": "93d3c0a8",
   "metadata": {},
   "outputs": [],
   "source": [
    "post_results = final_result.copy()\n",
    "post_results[\"notional_diff\"].describe()"
   ]
  },
  {
   "cell_type": "code",
   "execution_count": null,
   "id": "299c1c84",
   "metadata": {},
   "outputs": [],
   "source": [
    "sns.displot(post_results, x=\"notional_diff\")"
   ]
  },
  {
   "cell_type": "code",
   "execution_count": null,
   "id": "98db7695",
   "metadata": {},
   "outputs": [],
   "source": [
    "# Visualize the result\n",
    "cplonorm.plot_qq(post_results[\"notional_diff\"])"
   ]
  }
 ],
 "metadata": {
  "kernelspec": {
   "display_name": "Python 3 (ipykernel)",
   "language": "python",
   "name": "python3"
  },
  "language_info": {
   "codemirror_mode": {
    "name": "ipython",
    "version": 3
   },
   "file_extension": ".py",
   "mimetype": "text/x-python",
   "name": "python",
   "nbconvert_exporter": "python",
   "pygments_lexer": "ipython3"
  },
  "toc": {
   "base_numbering": 1,
   "nav_menu": {
    "height": "133px",
    "width": "228px"
   },
   "number_sections": true,
   "sideBar": true,
   "skip_h1_title": false,
   "title_cell": "Table of Contents",
   "title_sidebar": "Contents",
   "toc_cell": false,
   "toc_position": {},
   "toc_section_display": true,
   "toc_window_display": false
  }
 },
 "nbformat": 4,
 "nbformat_minor": 5
}
