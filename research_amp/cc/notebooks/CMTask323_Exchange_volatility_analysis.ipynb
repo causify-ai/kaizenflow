{
 "cells": [
  {
   "cell_type": "markdown",
   "id": "36f43503",
   "metadata": {},
   "source": [
    "# Imports"
   ]
  },
  {
   "cell_type": "code",
   "execution_count": null,
   "id": "22043ce8",
   "metadata": {
    "lines_to_next_cell": 1
   },
   "outputs": [],
   "source": [
    "import os\n",
    "\n",
    "import pandas as pd\n",
    "import seaborn as sns\n",
    "import statsmodels.formula.api as smapi\n",
    "import statsmodels.tsa.stattools as smtools\n",
    "\n",
    "import core.config.config_ as cconconf\n",
    "import core.plotting as coplotti\n",
    "import helpers.hs3 as hs3\n",
    "import im_v2.common.universe as ivcu\n",
    "import research_amp.cc.statistics as ramccsta\n",
    "\n",
    "AM_AWS_PROFILE = \"am\""
   ]
  },
  {
   "cell_type": "markdown",
   "id": "8cfd3c0f",
   "metadata": {},
   "source": [
    "# Config"
   ]
  },
  {
   "cell_type": "code",
   "execution_count": null,
   "id": "f765b162",
   "metadata": {},
   "outputs": [],
   "source": [
    "def get_cmtask323_config() -> cconconf.Config:\n",
    "    \"\"\"\n",
    "    Get task323-specific config.\n",
    "    \"\"\"\n",
    "    config = cconconf.Config()\n",
    "    # Load parameters.\n",
    "    config.add_subconfig(\"load\")\n",
    "    config[\"load\"][\"aws_profile\"] = AM_AWS_PROFILE\n",
    "    config[\"load\"][\"data_dir\"] = os.path.join(\n",
    "        hs3.get_s3_bucket_path(AM_AWS_PROFILE), \"data\"\n",
    "    )\n",
    "    # Data parameters.\n",
    "    config.add_subconfig(\"data\")\n",
    "    config[\"data\"][\"data_type\"] = \"OHLCV\"\n",
    "    config[\"data\"][\"universe_version\"] = \"v03\"\n",
    "    config[\"data\"][\"vendor\"] = \"CCXT\"\n",
    "    # Column names.\n",
    "    config.add_subconfig(\"column_names\")\n",
    "    config[\"column_names\"][\"volume\"] = \"volume\"\n",
    "    config[\"column_names\"][\"currency_pair\"] = \"currency_pair\"\n",
    "    config[\"column_names\"][\"exchange\"] = \"exchange_id\"\n",
    "    config[\"column_names\"][\"close\"] = \"close\"\n",
    "    return config\n",
    "\n",
    "\n",
    "config = get_cmtask323_config()\n",
    "print(config)"
   ]
  },
  {
   "cell_type": "markdown",
   "id": "57c301a2",
   "metadata": {},
   "source": [
    "# Functions"
   ]
  },
  {
   "cell_type": "code",
   "execution_count": null,
   "id": "e58db769",
   "metadata": {},
   "outputs": [],
   "source": [
    "def compute_volatility_for_each_coin(data: pd.DataFrame, freq: str, span: int):\n",
    "    \"\"\"\n",
    "    Load and transform each (exchange-coin) dataframe to compute 18-period ema\n",
    "    volatility.\n",
    "\n",
    "    Parameters: initial DataFrame from the universe, resampling frequency\n",
    "    \"\"\"\n",
    "    data[\"date\"] = data.index\n",
    "    # TODO(Max): Try out our resampe_df() for resampling.\n",
    "    resample_close = data.groupby(\n",
    "        [\"currency_pair\", \"exchange_id\", pd.Grouper(key=\"date\", freq=freq)]\n",
    "    )[\"close\"].last()\n",
    "    vix_df = resample_close.pct_change().transform(\n",
    "        lambda x: x.ewm(span=span, adjust=False).std()\n",
    "    )\n",
    "    vix_df = vix_df.reset_index()\n",
    "    return vix_df\n",
    "\n",
    "\n",
    "def get_daily_close(data: pd.DataFrame, freq: str):\n",
    "    \"\"\"\n",
    "    Load and transform each (exchange-coin) dataframe to compute volatility for\n",
    "    the whole period.\n",
    "\n",
    "    Parameters: initial DataFrame from the universe, resampling frequency\n",
    "    \"\"\"\n",
    "    data[\"date\"] = data.index\n",
    "    resample_close = data.groupby(\n",
    "        [\"currency_pair\", \"exchange_id\", pd.Grouper(key=\"date\", freq=freq)]\n",
    "    )[\"close\"].last()\n",
    "    resample_close = resample_close.reset_index()\n",
    "    return resample_close\n",
    "\n",
    "\n",
    "def get_df_with_coin_price_volatility(data: pd.DataFrame, display_plot: bool):\n",
    "    \"\"\"\n",
    "    Unify volatility values for each coin and plot the graph.\n",
    "\n",
    "    Parameters: DataFrame with computed volatility, boolean value to plot the graph\n",
    "    \"\"\"\n",
    "    vix_df = data.groupby(\n",
    "        [\"currency_pair\", pd.Grouper(key=\"date\", freq=frequency)]\n",
    "    )[\"close\"].mean()\n",
    "    vix_df = vix_df.to_frame()\n",
    "    vix_df.columns = [\"ema_volatility\"]\n",
    "    if display_plot:\n",
    "        sns.set(rc={\"figure.figsize\": (15, 8)})\n",
    "        sns.lineplot(\n",
    "            data=vix_df, x=\"date\", y=\"ema_volatility\", hue=\"currency_pair\"\n",
    "        ).set(title=f\"EMA of Volatility for each coin\")\n",
    "    return vix_df\n",
    "\n",
    "\n",
    "def get_overall_returns_volatility(data: pd.DataFrame, display_plot: bool):\n",
    "    \"\"\"\n",
    "    Unify volatility values for each coin for the whole period and plot the\n",
    "    barplot.\n",
    "\n",
    "    Parameters: DataFrame with computed volatility, boolean value to plot the graph\n",
    "    \"\"\"\n",
    "    close_df = daily_close.groupby(\n",
    "        [\"currency_pair\", pd.Grouper(key=\"date\", freq=frequency)]\n",
    "    )[\"close\"].mean()\n",
    "    rets_df = close_df.groupby([\"currency_pair\"]).pct_change()\n",
    "    std_df = rets_df.groupby([\"currency_pair\"]).std()\n",
    "    if display_plot:\n",
    "        coplotti.plot_barplot(\n",
    "            std_df.sort_values(ascending=False),\n",
    "            title=\"Volatility per coin for the whole period (1-day basis, log-scaled)\",\n",
    "            figsize=[15, 7],\n",
    "            yscale=\"log\",\n",
    "        )\n",
    "    return std_df\n",
    "\n",
    "\n",
    "def perform_adf_test(df_daily: pd.DataFrame):\n",
    "    \"\"\"\n",
    "    Perform ADF test to check the stationarity of volatility values\n",
    "    Parameters: Daily DataFrame with computed volatility\n",
    "    \"\"\"\n",
    "    final_result = []\n",
    "    coin_list = df_daily.reset_index()[\"currency_pair\"].unique()\n",
    "    for coin in coin_list:\n",
    "        result = pd.DataFrame()\n",
    "        df = df_daily.loc[[coin]]\n",
    "        df = df[df[\"ema_volatility\"].notna()].copy()\n",
    "        X = df[\"ema_volatility\"].values\n",
    "        test_result = smtools.adfuller(X)\n",
    "        result.loc[f\"{coin}\", \"ADF Statistic\"] = test_result[0]\n",
    "        result.loc[f\"{coin}\", \"p-value\"] = test_result[1]\n",
    "        final_result.append(result)\n",
    "    final_result = pd.concat(final_result)\n",
    "    final_result[\"is_unit_root_and_non-stationary (5% sign. level)\"] = (\n",
    "        final_result[\"p-value\"] > 0.05\n",
    "    )\n",
    "    return final_result\n",
    "\n",
    "\n",
    "def get_df_with_volume_and_volatility(data: pd.DataFrame, freq: str, span: int):\n",
    "    \"\"\"\n",
    "    Load and transform each (exchange-coin) dataframe with volumes and close\n",
    "    prices (to compute 18-period ema volatility).\n",
    "\n",
    "    Parameters: initial DataFrame from the universe, resampling frequency\n",
    "    \"\"\"\n",
    "    data[\"date\"] = data.index\n",
    "    close = data.groupby(\n",
    "        [\"currency_pair\", \"exchange_id\", pd.Grouper(key=\"date\", freq=freq)]\n",
    "    )[\"close\"].last()\n",
    "    volume = data.groupby(\n",
    "        [\"currency_pair\", \"exchange_id\", pd.Grouper(key=\"date\", freq=freq)]\n",
    "    )[\"volume\"].sum()\n",
    "    close_volume = pd.concat([close, volume], axis=1)\n",
    "    close_volume[\"ema_volatility\"] = (\n",
    "        close_volume[\"close\"]\n",
    "        .pct_change()\n",
    "        .transform(lambda x: x.ewm(span=span, adjust=False).std())\n",
    "    )\n",
    "    vix_volume = close_volume.reset_index()\n",
    "    return vix_volume\n",
    "\n",
    "\n",
    "def run_regressions(df: pd.DataFrame, lag_volume: bool):\n",
    "    \"\"\"\n",
    "    Run OLS regression of volatility to volume (with intercept) for daily\n",
    "    values.\n",
    "\n",
    "    Parameters: price-volatility DataFrame, bool value for lagging volume variable\n",
    "    \"\"\"\n",
    "    volatility = df.groupby(\n",
    "        [\"currency_pair\", pd.Grouper(key=\"date\", freq=frequency)]\n",
    "    )[\"ema_volatility\"].mean()\n",
    "    volume = df.groupby(\n",
    "        [\"currency_pair\", pd.Grouper(key=\"date\", freq=frequency)]\n",
    "    )[\"volume\"].sum()\n",
    "    vix_volume = pd.concat([volatility, volume], axis=1)\n",
    "    vix_volume = vix_volume.reset_index()\n",
    "    coin_list = vix_volume[\"currency_pair\"].unique()\n",
    "    model_results_dict = {}\n",
    "    for coin in coin_list:\n",
    "        coin_df = vix_volume[vix_volume[\"currency_pair\"] == coin]\n",
    "        new_coin_df = coin_df.copy()\n",
    "        new_coin_df[\"lag_volume\"] = coin_df[\"volume\"].shift(1)\n",
    "        if lag_volume:\n",
    "            model = smapi.ols(\"ema_volatility ~ lag_volume\", new_coin_df).fit()\n",
    "        else:\n",
    "            model = smapi.ols(\"ema_volatility ~ volume\", new_coin_df).fit()\n",
    "        map_dict = {coin: model.summary()}\n",
    "        model_results_dict.update({coin: model.summary()})\n",
    "    return model_results_dict\n",
    "\n",
    "\n",
    "def calculate_corr_and_plot_scatter_plots(df: pd.DataFrame, display_plot: bool):\n",
    "    \"\"\"\n",
    "    Plot the scatter plots for (volatility-exchange) pairs.\n",
    "\n",
    "    Parameters: price-volatility DataFrame, boolean value to plot the graph\n",
    "    \"\"\"\n",
    "    volatility = df.groupby(\n",
    "        [\"currency_pair\", pd.Grouper(key=\"date\", freq=frequency)]\n",
    "    )[\"ema_volatility\"].mean()\n",
    "    volume = df.groupby(\n",
    "        [\"currency_pair\", pd.Grouper(key=\"date\", freq=frequency)]\n",
    "    )[\"volume\"].sum()\n",
    "    vix_volume = pd.concat([volatility, volume], axis=1)\n",
    "    vix_volume = vix_volume.reset_index()\n",
    "    grouper = vix_volume.groupby([\"currency_pair\"])\n",
    "    corr = grouper.corr()\n",
    "    if display_plot:\n",
    "        coin_list = vix_volume[\"currency_pair\"].unique()\n",
    "        for coin in coin_list:\n",
    "            coin_df = vix_volume[vix_volume[\"currency_pair\"] == coin]\n",
    "            # TODO(Max): check scatter-plotting functions in core.plotting.py\n",
    "            sns.lmplot(\n",
    "                x=\"ema_volatility\",\n",
    "                y=\"volume\",\n",
    "                data=coin_df,\n",
    "                fit_reg=True,\n",
    "                line_kws={\"color\": \"red\"},\n",
    "            ).fig.suptitle(f\"{coin}\")\n",
    "    return corr"
   ]
  },
  {
   "cell_type": "markdown",
   "id": "91f3c95c",
   "metadata": {},
   "source": [
    "# Volatility Analysis"
   ]
  },
  {
   "cell_type": "markdown",
   "id": "e50a0f7f",
   "metadata": {},
   "source": [
    "## 1 day"
   ]
  },
  {
   "cell_type": "code",
   "execution_count": null,
   "id": "571cc3cf",
   "metadata": {},
   "outputs": [],
   "source": [
    "type(18)"
   ]
  },
  {
   "cell_type": "code",
   "execution_count": null,
   "id": "5d856861",
   "metadata": {
    "run_control": {
     "marked": false
    }
   },
   "outputs": [],
   "source": [
    "frequency = \"1D\"\n",
    "universe = ivcu.get_vendor_universe(\"CCXT\", version=\"v3\", as_full_symbol=True)\n",
    "compute_daily_vix_ema = lambda data: compute_volatility_for_each_coin(\n",
    "    data, freq=frequency, span=18\n",
    ")\n",
    "daily_vix_ema = ramccsta.compute_stats_for_universe(\n",
    "    universe, config, compute_daily_vix_ema\n",
    ")"
   ]
  },
  {
   "cell_type": "code",
   "execution_count": null,
   "id": "ce58962e",
   "metadata": {},
   "outputs": [],
   "source": [
    "ema_df_daily = get_df_with_coin_price_volatility(daily_vix_ema, display_plot=True)\n",
    "display(ema_df_daily)"
   ]
  },
  {
   "cell_type": "markdown",
   "id": "1f35314a",
   "metadata": {},
   "source": [
    "## 5 min"
   ]
  },
  {
   "cell_type": "code",
   "execution_count": null,
   "id": "53b3dec6",
   "metadata": {},
   "outputs": [],
   "source": [
    "frequency = \"5min\"\n",
    "compute_5min_vix_ema = lambda data: compute_volatility_for_each_coin(\n",
    "    data, freq=frequency, span=18\n",
    ")\n",
    "vix_ema_5min = ramccsta.compute_stats_for_universe(\n",
    "    universe, config, compute_5min_vix_ema\n",
    ")"
   ]
  },
  {
   "cell_type": "code",
   "execution_count": null,
   "id": "ea10dade",
   "metadata": {},
   "outputs": [],
   "source": [
    "ema_df_5min = get_df_with_coin_price_volatility(vix_ema_5min, display_plot=True)\n",
    "display(ema_df_5min)"
   ]
  },
  {
   "cell_type": "markdown",
   "id": "5c937c56",
   "metadata": {},
   "source": [
    "## Volatility for the whole period (1-day frequency)"
   ]
  },
  {
   "cell_type": "code",
   "execution_count": null,
   "id": "f4e36fb1",
   "metadata": {},
   "outputs": [],
   "source": [
    "frequency = \"1D\"\n",
    "compute_daily_close = lambda data: get_daily_close(data, freq=frequency)\n",
    "daily_close = ramccsta.compute_stats_for_universe(\n",
    "    universe, config, compute_daily_close\n",
    ")"
   ]
  },
  {
   "cell_type": "code",
   "execution_count": null,
   "id": "9d7155b1",
   "metadata": {},
   "outputs": [],
   "source": [
    "std_df = get_overall_returns_volatility(daily_close, display_plot=True)\n",
    "display(std_df)"
   ]
  },
  {
   "cell_type": "markdown",
   "id": "d012071e",
   "metadata": {},
   "source": [
    "# Test for stationarity of volatility"
   ]
  },
  {
   "cell_type": "code",
   "execution_count": null,
   "id": "df879819",
   "metadata": {},
   "outputs": [],
   "source": [
    "test_results = perform_adf_test(ema_df_daily)\n",
    "display(test_results)"
   ]
  },
  {
   "cell_type": "markdown",
   "id": "5c6d6456",
   "metadata": {},
   "source": [
    "After test results we see that __FIL/USDT__ volatility over 1-day is failed to pass the stationarity test. The graph below confirms the persistence of trend: seems like the coin was too volatile right after the listing and failed to keep the same levels during its trading lifetime."
   ]
  },
  {
   "cell_type": "code",
   "execution_count": null,
   "id": "472cfe3e",
   "metadata": {},
   "outputs": [],
   "source": [
    "# TODO(Max): check scatter-plotting functions in core.plotting.py\n",
    "sns.lineplot(\n",
    "    data=ema_df_daily.loc[[\"FIL_USDT\"]].reset_index(),\n",
    "    x=\"date\",\n",
    "    y=\"ema_volatility\",\n",
    "    hue=\"currency_pair\",\n",
    ")"
   ]
  },
  {
   "cell_type": "markdown",
   "id": "31b8e7ba",
   "metadata": {},
   "source": [
    "# Regression Analysis"
   ]
  },
  {
   "cell_type": "code",
   "execution_count": null,
   "id": "a5cf5f9c",
   "metadata": {},
   "outputs": [],
   "source": [
    "frequency = \"1D\"\n",
    "compute_daily_vix_ema_and_volume = lambda data: get_df_with_volume_and_volatility(\n",
    "    data, freq=frequency, span=18\n",
    ")\n",
    "daily_vix_ema_volume = ramccsta.compute_stats_for_universe(\n",
    "    vendor_universe=universe,\n",
    "    config=config,\n",
    "    stats_func=compute_daily_vix_ema_and_volume,\n",
    ")"
   ]
  },
  {
   "cell_type": "markdown",
   "id": "fc7ed37f",
   "metadata": {},
   "source": [
    "## Regression Results"
   ]
  },
  {
   "cell_type": "code",
   "execution_count": null,
   "id": "6f4a4393",
   "metadata": {},
   "outputs": [],
   "source": [
    "regression_results = run_regressions(daily_vix_ema_volume, lag_volume=True)\n",
    "\n",
    "for coin in regression_results.keys():\n",
    "    print(f\"{coin}:\")\n",
    "    display(regression_results[coin])"
   ]
  },
  {
   "cell_type": "markdown",
   "id": "d6155b6b",
   "metadata": {},
   "source": [
    "As one can see, for all the currency pairs the regression of volatility to volume with intercept shows significance of volume coefficient (as well as lagged volume). The only exception is __FIL/USDT__, that also failed the stationarity test above."
   ]
  },
  {
   "cell_type": "markdown",
   "id": "e8d67f9e",
   "metadata": {},
   "source": [
    "## Correlation and Plots"
   ]
  },
  {
   "cell_type": "code",
   "execution_count": null,
   "id": "5a2175bb",
   "metadata": {},
   "outputs": [],
   "source": [
    "corr_df = calculate_corr_and_plot_scatter_plots(\n",
    "    daily_vix_ema_volume, display_plot=True\n",
    ")\n",
    "display(corr_df)"
   ]
  }
 ],
 "metadata": {
  "kernelspec": {
   "display_name": "Python 3 (ipykernel)",
   "language": "python",
   "name": "python3"
  },
  "language_info": {
   "codemirror_mode": {
    "name": "ipython",
    "version": 3
   },
   "file_extension": ".py",
   "mimetype": "text/x-python",
   "name": "python",
   "nbconvert_exporter": "python",
   "pygments_lexer": "ipython3"
  },
  "toc": {
   "base_numbering": 1,
   "nav_menu": {},
   "number_sections": true,
   "sideBar": true,
   "skip_h1_title": false,
   "title_cell": "Table of Contents",
   "title_sidebar": "Contents",
   "toc_cell": false,
   "toc_position": {},
   "toc_section_display": true,
   "toc_window_display": false
  }
 },
 "nbformat": 4,
 "nbformat_minor": 5
}
