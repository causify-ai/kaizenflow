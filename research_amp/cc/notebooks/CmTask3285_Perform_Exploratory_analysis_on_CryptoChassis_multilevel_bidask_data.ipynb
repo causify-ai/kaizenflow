{
 "cells": [
  {
   "cell_type": "markdown",
   "id": "01c3d30c",
   "metadata": {},
   "source": [
    "# Perform Exploratory analysis on CryptoChassis multilevel bid/ask data\n",
    "\n",
    "We would like to conduct a small exploratory analysis and QA on these data (both raw data of 1-second granurality and resampled data with 1-min granularity) to understand if they are usable\n",
    "\n",
    " - How many missing bars per symbol are there\n",
    " - How many NaNs per symbol per level per bar\n",
    " - Conclude if it holds that CC provides good enough data for symbols in v3\n",
    " \n",
    "The dataset is temporarily stored in:\n",
    "`s3://cryptokaizen-data-test/reorg/historical.airflow.pq/latest/bid_ask/futures/universe_v3/crypto_chassis.downloaded_1sec/`\n",
    "and\n",
    "`s3://cryptokaizen-data-test/reorg/historical.airflow.pq/latest/bid_ask/futures/universe_v3/crypto_chassis.resampled_1min/`"
   ]
  },
  {
   "cell_type": "markdown",
   "id": "2a5697a2",
   "metadata": {},
   "source": [
    "## Setup and imports"
   ]
  },
  {
   "cell_type": "code",
   "execution_count": null,
   "id": "f78e35b0",
   "metadata": {},
   "outputs": [],
   "source": [
    "%load_ext autoreload\n",
    "%autoreload 2\n",
    "\n",
    "import logging\n",
    "\n",
    "import pandas as pd\n",
    "\n",
    "import helpers.hdatetime as hdateti\n",
    "import helpers.hdbg as hdbg\n",
    "import helpers.henv as henv\n",
    "import helpers.hpandas as hpandas\n",
    "import helpers.hparquet as hparque\n",
    "import helpers.hprint as hprint\n",
    "import helpers.hsql as hsql\n",
    "import im_v2.im_lib_tasks as imvimlita"
   ]
  },
  {
   "cell_type": "code",
   "execution_count": null,
   "id": "da51bd60",
   "metadata": {},
   "outputs": [],
   "source": [
    "hdbg.init_logger(verbosity=logging.INFO)\n",
    "\n",
    "_LOG = logging.getLogger(__name__)\n",
    "\n",
    "_LOG.info(\"%s\", henv.get_system_signature()[0])\n",
    "\n",
    "hprint.config_notebook()"
   ]
  },
  {
   "cell_type": "markdown",
   "id": "12e0efac",
   "metadata": {},
   "source": [
    "## Load data\n",
    "\n",
    "Because of the dataset size the analysis on raw data will be performed only on an example symbols (BTC_USDT as most likely the most data and EOS_USDT as probably the least data rich)"
   ]
  },
  {
   "cell_type": "code",
   "execution_count": null,
   "id": "88cf821a",
   "metadata": {},
   "outputs": [],
   "source": [
    "filters = [(\"currency_pair\", \"=\", \"BTC_USDT\")]\n",
    "file_name = (\"s3://cryptokaizen-data-test/reorg/historical.airflow.pq/latest/bid_ask/futures/\" \n",
    "             \"universe_v3/crypto_chassis.downloaded_1sec/binance/\"\n",
    "            )\n",
    "df_raw_btc = hparque.from_parquet(file_name, filters=filters, aws_profile=\"ck\")\n",
    "filters = [(\"currency_pair\", \"=\", \"EOS_USDT\")]\n",
    "df_raw_eos = hparque.from_parquet(file_name, filters=filters, aws_profile=\"ck\")"
   ]
  },
  {
   "cell_type": "code",
   "execution_count": null,
   "id": "80263e39",
   "metadata": {},
   "outputs": [],
   "source": [
    "file_name = (\"s3://cryptokaizen-data-test/reorg/historical.airflow.pq/latest/bid_ask/futures/\" \n",
    "             \"universe_v3/crypto_chassis.downloaded_1sec/binance/\"\n",
    "            )\n",
    "filters = [(\"year\", \"=\", 2021)]\n",
    "df_resampled = hparque.from_parquet(file_name, filters=filters, aws_profile=\"ck\")"
   ]
  },
  {
   "cell_type": "markdown",
   "id": "c2561694",
   "metadata": {},
   "source": [
    "## Preprocess data\n",
    "\n",
    "Drop duplicates and keep only bid/ask columns"
   ]
  },
  {
   "cell_type": "code",
   "execution_count": null,
   "id": "9527e425",
   "metadata": {},
   "outputs": [],
   "source": [
    "df_raw_btc= df_raw_btc.drop_duplicates()\n",
    "df_raw_eos = df_raw_eos.drop_duplicates()"
   ]
  },
  {
   "cell_type": "code",
   "execution_count": null,
   "id": "40e2673f",
   "metadata": {},
   "outputs": [],
   "source": [
    "df_raw_btc= df_raw_btc.drop([\"timestamp\", \"knowledge_timestamp\", \"currency_pair\", \"year\", \"month\"], axis=1)\n",
    "df_raw_eos = df_raw_eos.drop([\"timestamp\", \"knowledge_timestamp\", \"currency_pair\", \"year\", \"month\"], axis=1)"
   ]
  },
  {
   "cell_type": "markdown",
   "id": "912d0e53",
   "metadata": {},
   "source": [
    "## Analysis (raw dataset)"
   ]
  },
  {
   "cell_type": "markdown",
   "id": "52729dc6",
   "metadata": {},
   "source": [
    "Because of the dataset size the analysis on raw data will be performed only on an example symbols (BTC_USDT as most likely the most data and EOS_USDT as probably the least data rich)"
   ]
  },
  {
   "cell_type": "code",
   "execution_count": null,
   "id": "0e9416bd",
   "metadata": {},
   "outputs": [],
   "source": [
    "df_raw_btc.head()"
   ]
  },
  {
   "cell_type": "code",
   "execution_count": null,
   "id": "bcc213bb",
   "metadata": {},
   "outputs": [],
   "source": [
    "df_raw_eos.head()"
   ]
  },
  {
   "cell_type": "code",
   "execution_count": null,
   "id": "24051ab9",
   "metadata": {},
   "outputs": [],
   "source": [
    "df_raw_btc.index.min(), df_raw_btc.index.max()"
   ]
  },
  {
   "cell_type": "code",
   "execution_count": null,
   "id": "efe45a65",
   "metadata": {},
   "outputs": [],
   "source": [
    "df_raw_eos.index.min(), df_raw_eos.index.max()"
   ]
  },
  {
   "cell_type": "markdown",
   "id": "cf73669d",
   "metadata": {},
   "source": [
    "### Find gaps in index"
   ]
  },
  {
   "cell_type": "code",
   "execution_count": null,
   "id": "2cf1605c",
   "metadata": {},
   "outputs": [],
   "source": [
    "hpandas.find_gaps_in_time_series()"
   ]
  },
  {
   "cell_type": "markdown",
   "id": "b8263613",
   "metadata": {},
   "source": [
    "## Analysis (resampled dataset)"
   ]
  },
  {
   "cell_type": "markdown",
   "id": "a759472d",
   "metadata": {},
   "source": [
    "### Find gaps in index per symbol"
   ]
  },
  {
   "cell_type": "markdown",
   "id": "c8244adf",
   "metadata": {},
   "source": [
    "### Number of incomplete rows per symbol (atleast one column is NaN)"
   ]
  },
  {
   "cell_type": "markdown",
   "id": "650b8cb4",
   "metadata": {},
   "source": [
    "### Sum of NaNs per symbol per column"
   ]
  },
  {
   "cell_type": "markdown",
   "id": "716900ee",
   "metadata": {},
   "source": [
    "## Conclusion"
   ]
  }
 ],
 "metadata": {
  "kernelspec": {
   "display_name": "Python 3 (ipykernel)",
   "language": "python",
   "name": "python3"
  },
  "language_info": {
   "codemirror_mode": {
    "name": "ipython",
    "version": 3
   },
   "file_extension": ".py",
   "mimetype": "text/x-python",
   "name": "python",
   "nbconvert_exporter": "python",
   "pygments_lexer": "ipython3"
  },
  "toc": {
   "base_numbering": 1,
   "nav_menu": {},
   "number_sections": true,
   "sideBar": true,
   "skip_h1_title": false,
   "title_cell": "Table of Contents",
   "title_sidebar": "Contents",
   "toc_cell": false,
   "toc_position": {},
   "toc_section_display": true,
   "toc_window_display": false
  }
 },
 "nbformat": 4,
 "nbformat_minor": 5
}
