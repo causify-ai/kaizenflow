{
 "cells": [
  {
   "cell_type": "markdown",
   "id": "bfc8300c",
   "metadata": {},
   "source": [
    "# Perform Exploratory analysis on CryptoChassis multilevel bid/ask data\n",
    "\n",
    "We would like to conduct a small exploratory analysis and QA on these data (both raw data of 1-second granurality and resampled data with 1-min granularity) to understand if they are usable:\n",
    "\n",
    " - How many missing bars per symbol are there?\n",
    " - How many NaNs per symbol per level per bar?\n",
    " - Does it hold for resampled bid(ask) prices that they are monotonically decreasing(increasing)\n",
    " - Conclude if it holds that CC provides good enough data for symbols in v3\n",
    " \n",
    "The dataset is temporarily stored in:\n",
    "`s3://cryptokaizen-data-test/reorg/historical.airflow.pq/latest/bid_ask/futures/universe_v3/crypto_chassis.downloaded_1sec/`\n",
    "and\n",
    "`s3://cryptokaizen-data-test/reorg/historical.airflow.pq/latest/bid_ask/futures/universe_v3/crypto_chassis.resampled_1min/`"
   ]
  },
  {
   "cell_type": "markdown",
   "id": "fbbac29f",
   "metadata": {},
   "source": [
    "## Setup and imports"
   ]
  },
  {
   "cell_type": "code",
   "execution_count": null,
   "id": "f78e35b0",
   "metadata": {},
   "outputs": [],
   "source": [
    "%load_ext autoreload\n",
    "%autoreload 2\n",
    "\n",
    "import logging\n",
    "\n",
    "import pandas as pd\n",
    "\n",
    "import helpers.hdatetime as hdateti\n",
    "import helpers.hdbg as hdbg\n",
    "import helpers.henv as henv\n",
    "import helpers.hpandas as hpandas\n",
    "import helpers.hparquet as hparque\n",
    "import helpers.hprint as hprint\n",
    "import helpers.hsql as hsql\n",
    "import im_v2.im_lib_tasks as imvimlita"
   ]
  },
  {
   "cell_type": "code",
   "execution_count": null,
   "id": "da51bd60",
   "metadata": {},
   "outputs": [],
   "source": [
    "hdbg.init_logger(verbosity=logging.INFO)\n",
    "\n",
    "_LOG = logging.getLogger(__name__)\n",
    "\n",
    "_LOG.info(\"%s\", henv.get_system_signature()[0])\n",
    "\n",
    "hprint.config_notebook()"
   ]
  },
  {
   "cell_type": "markdown",
   "id": "61d86f8f",
   "metadata": {},
   "source": [
    "## Analysis (raw dataset)"
   ]
  },
  {
   "cell_type": "markdown",
   "id": "4102b67c",
   "metadata": {},
   "source": [
    "### Load and preprocess data\n",
    "\n",
    "Because of the dataset size the analysis on raw data will be performed only on an example symbols (BTC_USDT as most likely the most data and EOS_USDT as probably the least data rich)"
   ]
  },
  {
   "cell_type": "code",
   "execution_count": null,
   "id": "37bca131",
   "metadata": {},
   "outputs": [],
   "source": [
    "filters = [(\"currency_pair\", \"=\", \"BTC_USDT\")]\n",
    "file_name = (\"s3://cryptokaizen-data-test/reorg/historical.airflow.pq/latest/bid_ask/futures/\" \n",
    "             \"universe_v3/crypto_chassis.downloaded_1sec/binance/\"\n",
    "            )\n",
    "df_raw_btc = hparque.from_parquet(file_name, filters=filters, aws_profile=\"ck\")\n",
    "filters = [(\"currency_pair\", \"=\", \"EOS_USDT\")]\n",
    "df_raw_eos = hparque.from_parquet(file_name, filters=filters, aws_profile=\"ck\")"
   ]
  },
  {
   "cell_type": "code",
   "execution_count": null,
   "id": "915a87bb",
   "metadata": {},
   "outputs": [],
   "source": [
    "drop_cols = [\"exchange_id\", \"knowledge_timestamp\", \"currency_pair\", \"year\", \"month\"]\n",
    "df_raw_btc = df_raw_btc.drop(drop_cols, axis=1)\n",
    "df_raw_eos = df_raw_eos.drop(drop_cols, axis=1)"
   ]
  },
  {
   "cell_type": "code",
   "execution_count": null,
   "id": "524e0cab",
   "metadata": {},
   "outputs": [],
   "source": [
    "df_raw_btc = df_raw_btc.drop_duplicates()\n",
    "df_raw_eos = df_raw_eos.drop_duplicates()"
   ]
  },
  {
   "cell_type": "code",
   "execution_count": null,
   "id": "9223f8ac",
   "metadata": {},
   "outputs": [],
   "source": [
    "df_raw_btc.head()"
   ]
  },
  {
   "cell_type": "code",
   "execution_count": null,
   "id": "2c5dab47",
   "metadata": {},
   "outputs": [],
   "source": [
    "df_raw_eos.head()"
   ]
  },
  {
   "cell_type": "code",
   "execution_count": null,
   "id": "cb5037f8",
   "metadata": {},
   "outputs": [],
   "source": [
    "df_raw_btc.index.min(), df_raw_btc.index.max()"
   ]
  },
  {
   "cell_type": "code",
   "execution_count": null,
   "id": "a534f25b",
   "metadata": {},
   "outputs": [],
   "source": [
    "df_raw_eos.index.min(), df_raw_eos.index.max()"
   ]
  },
  {
   "cell_type": "markdown",
   "id": "1a1f06b2",
   "metadata": {},
   "source": [
    "### Find gaps in index"
   ]
  },
  {
   "cell_type": "code",
   "execution_count": null,
   "id": "076ce5ff",
   "metadata": {},
   "outputs": [],
   "source": [
    "index_gaps_btc = hpandas.find_gaps_in_time_series(df_raw_btc.index.to_series(), \n",
    "                                              df_raw_btc.index.min(), \n",
    "                                              df_raw_btc.index.max(), \"S\")\n",
    "index_gaps_btc"
   ]
  },
  {
   "cell_type": "code",
   "execution_count": null,
   "id": "0853bb1e",
   "metadata": {},
   "outputs": [],
   "source": [
    "(len(index_gaps_btc) / len(df_raw_btc.index)) * 100"
   ]
  },
  {
   "cell_type": "code",
   "execution_count": null,
   "id": "7c67e545",
   "metadata": {},
   "outputs": [],
   "source": [
    "index_gaps_eos = hpandas.find_gaps_in_time_series(df_raw_eos.index.to_series(), \n",
    "                                              df_raw_eos.index.min(), \n",
    "                                              df_raw_eos.index.max(), \"S\")\n",
    "index_gaps_eos"
   ]
  },
  {
   "cell_type": "code",
   "execution_count": null,
   "id": "22ad4402",
   "metadata": {},
   "outputs": [],
   "source": [
    "(len(index_gaps_eos) / len(df_raw_eos.index)) * 100"
   ]
  },
  {
   "cell_type": "markdown",
   "id": "0047e66c",
   "metadata": {},
   "source": [
    "We can see that only ~0,01% of values are missing for both BTC_USDT and EOS_USDT"
   ]
  },
  {
   "cell_type": "markdown",
   "id": "f1e84cf8",
   "metadata": {},
   "source": [
    "### Number of incomplete rows per symbol (atleast one column is NaN)"
   ]
  },
  {
   "cell_type": "code",
   "execution_count": null,
   "id": "b630f404",
   "metadata": {},
   "outputs": [],
   "source": [
    "df_raw_btc[df_raw_btc.isna().any(axis=1)]"
   ]
  },
  {
   "cell_type": "code",
   "execution_count": null,
   "id": "93e3e072",
   "metadata": {},
   "outputs": [],
   "source": [
    "df_raw_eos[df_raw_eos.isna().any(axis=1)]"
   ]
  },
  {
   "cell_type": "markdown",
   "id": "1f8b0308",
   "metadata": {},
   "source": [
    "There are no NaN values in the raw dataset"
   ]
  },
  {
   "cell_type": "markdown",
   "id": "5d480684",
   "metadata": {},
   "source": [
    "### Sum of NaNs per column"
   ]
  },
  {
   "cell_type": "markdown",
   "id": "2c41f48f",
   "metadata": {},
   "source": [
    "There were no rows with NaN values found"
   ]
  },
  {
   "cell_type": "markdown",
   "id": "a6a77979",
   "metadata": {},
   "source": [
    "### Number of columns with zero values"
   ]
  },
  {
   "cell_type": "code",
   "execution_count": null,
   "id": "91195af8",
   "metadata": {},
   "outputs": [],
   "source": [
    "df_raw_btc[(df_raw_btc == 0).any(axis=1)]"
   ]
  },
  {
   "cell_type": "code",
   "execution_count": null,
   "id": "874936d1",
   "metadata": {},
   "outputs": [],
   "source": [
    "df_raw_eos[(df_raw_eos == 0).any(axis=1)]"
   ]
  },
  {
   "cell_type": "markdown",
   "id": "a5ea38f5",
   "metadata": {},
   "source": [
    "## Analysis (resampled dataset)"
   ]
  },
  {
   "cell_type": "markdown",
   "id": "6ad0a76c",
   "metadata": {},
   "source": [
    "### Load data and preprocess data"
   ]
  },
  {
   "cell_type": "code",
   "execution_count": null,
   "id": "8a40e445",
   "metadata": {},
   "outputs": [],
   "source": [
    "file_name = (\"s3://cryptokaizen-data-test/reorg/historical.airflow.pq\"\n",
    "             \"/latest/bid_ask/futures/universe_v3/crypto_chassis.resampled_1min/\"\n",
    "            )\n",
    "filters = [(\"year\", \"=\", 2021)]\n",
    "df_resampled = hparque.from_parquet(file_name, filters=filters, aws_profile=\"ck\")"
   ]
  },
  {
   "cell_type": "code",
   "execution_count": null,
   "id": "0a0dd4e3",
   "metadata": {},
   "outputs": [],
   "source": [
    "drop_cols = [\"exchange_id\", \"year\", \"month\"]\n",
    "df_resampled = df_resampled.drop(drop_cols, axis=1)"
   ]
  },
  {
   "cell_type": "code",
   "execution_count": null,
   "id": "bbe878d2",
   "metadata": {},
   "outputs": [],
   "source": [
    "df_resampled.head()"
   ]
  },
  {
   "cell_type": "code",
   "execution_count": null,
   "id": "f83fde30",
   "metadata": {},
   "outputs": [],
   "source": [
    "df_resampled.info()"
   ]
  },
  {
   "cell_type": "markdown",
   "id": "d0b4bb98",
   "metadata": {},
   "source": [
    "As we can see there are no NaN values in the resampled data"
   ]
  },
  {
   "cell_type": "code",
   "execution_count": null,
   "id": "69420aa0",
   "metadata": {},
   "outputs": [],
   "source": [
    "df_resampled.index.min(), df_resampled.index.max()"
   ]
  },
  {
   "cell_type": "markdown",
   "id": "4b0fa667",
   "metadata": {},
   "source": [
    "### Find gaps in index per symbol"
   ]
  },
  {
   "cell_type": "code",
   "execution_count": null,
   "id": "3fe85639",
   "metadata": {},
   "outputs": [],
   "source": [
    "index_gaps_resampled = hpandas.find_gaps_in_time_series(df_resampled.index.to_series(), \n",
    "                                              df_resampled.index.min(), \n",
    "                                              df_resampled.index.max(), \"T\")\n",
    "index_gaps_resampled"
   ]
  },
  {
   "cell_type": "code",
   "execution_count": null,
   "id": "5336c5da",
   "metadata": {},
   "outputs": [],
   "source": [
    "(len(index_gaps_resampled) / len(df_resampled.index)) * 100"
   ]
  },
  {
   "cell_type": "markdown",
   "id": "4511514c",
   "metadata": {},
   "source": [
    "### Monotonity"
   ]
  },
  {
   "cell_type": "code",
   "execution_count": null,
   "id": "6bc443e0",
   "metadata": {},
   "outputs": [],
   "source": [
    "def is_monotonic(row, increasing: bool):\n",
    "    if increasing:\n",
    "        return pd.Series(row.values).is_monotonic_increasing\n",
    "    else:\n",
    "        return pd.Series(row.values).is_monotonic_decreasing"
   ]
  },
  {
   "cell_type": "code",
   "execution_count": null,
   "id": "b8763a40",
   "metadata": {},
   "outputs": [],
   "source": [
    "bid_price_cols = [f\"bid_price_l{l}\" for l in range(1, 11)]\n",
    "ask_price_cols = [f\"ask_price_l{l}\" for l in range(1, 11)]"
   ]
  },
  {
   "cell_type": "code",
   "execution_count": null,
   "id": "2ffc533b",
   "metadata": {},
   "outputs": [],
   "source": [
    "df_resampled_ask_prices = df_resampled[ask_price_cols]\n",
    "df_resampled_ask_prices[df_resampled_ask_prices.apply(lambda x: is_monotonic(x, False), axis=1)]"
   ]
  },
  {
   "cell_type": "code",
   "execution_count": null,
   "id": "fefff4b0",
   "metadata": {},
   "outputs": [],
   "source": [
    "df_resampled_bid_prices = df_resampled[bid_price_cols]\n",
    "df_resampled_bid_prices[df_resampled_bid_prices.apply(lambda x: is_monotonic(x, True), axis=1)]"
   ]
  },
  {
   "cell_type": "markdown",
   "id": "bb3e6418",
   "metadata": {},
   "source": [
    "There are no rows"
   ]
  },
  {
   "cell_type": "markdown",
   "id": "495e044e",
   "metadata": {},
   "source": [
    "## Conclusion\n",
    "\n",
    "Bid/Ask futures multilevel data from CryptoChassis seem to be of high quality with very little issues\n",
    "\n",
    "- Less than 0,02% of the data are missing in the raw dataset \n",
    "  - They seem to be isolated and do not break continuousness of the resampled data\n",
    "- There are no NaNs or zero values in the raw or resampled dataset\n",
    "- All bid(ask) prices in the resampled dataset are monotonically decreasing(increasing)"
   ]
  },
  {
   "cell_type": "code",
   "execution_count": null,
   "id": "6deb4201",
   "metadata": {},
   "outputs": [],
   "source": []
  }
 ],
 "metadata": {
  "kernelspec": {
   "display_name": "Python 3 (ipykernel)",
   "language": "python",
   "name": "python3"
  },
  "language_info": {
   "codemirror_mode": {
    "name": "ipython",
    "version": 3
   },
   "file_extension": ".py",
   "mimetype": "text/x-python",
   "name": "python",
   "nbconvert_exporter": "python",
   "pygments_lexer": "ipython3"
  },
  "toc": {
   "base_numbering": 1,
   "nav_menu": {},
   "number_sections": true,
   "sideBar": true,
   "skip_h1_title": false,
   "title_cell": "Table of Contents",
   "title_sidebar": "Contents",
   "toc_cell": false,
   "toc_position": {},
   "toc_section_display": true,
   "toc_window_display": false
  }
 },
 "nbformat": 4,
 "nbformat_minor": 5
}
