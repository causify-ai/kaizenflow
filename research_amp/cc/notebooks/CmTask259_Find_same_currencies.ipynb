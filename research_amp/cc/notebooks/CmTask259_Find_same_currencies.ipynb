{
 "cells": [
  {
   "cell_type": "markdown",
   "id": "ad727d72",
   "metadata": {},
   "source": [
    "# Description"
   ]
  },
  {
   "cell_type": "markdown",
   "id": "7303a69b",
   "metadata": {},
   "source": [
    "This notebook is used to find currencies that are exactly the same in our universe."
   ]
  },
  {
   "cell_type": "markdown",
   "id": "06f9851e",
   "metadata": {},
   "source": [
    "# Imports"
   ]
  },
  {
   "cell_type": "code",
   "execution_count": null,
   "id": "e3e05312",
   "metadata": {},
   "outputs": [],
   "source": [
    "import logging\n",
    "import os\n",
    "\n",
    "import seaborn as sns\n",
    "\n",
    "import core.config.config_ as cconconf\n",
    "import core.plotting as coplotti\n",
    "import helpers.hdbg as hdbg\n",
    "import helpers.henv as henv\n",
    "import helpers.hprint as hprint\n",
    "import helpers.hs3 as hs3\n",
    "import im_v2.common.universe as ivcu\n",
    "import research_amp.cc.statistics as ramccsta"
   ]
  },
  {
   "cell_type": "code",
   "execution_count": null,
   "id": "a84be408",
   "metadata": {
    "lines_to_next_cell": 1
   },
   "outputs": [],
   "source": [
    "hdbg.init_logger(verbosity=logging.INFO)\n",
    "\n",
    "_LOG = logging.getLogger(__name__)\n",
    "\n",
    "_LOG.info(\"%s\", henv.get_system_signature()[0])\n",
    "\n",
    "hprint.config_notebook()\n",
    "\n",
    "AM_AWS_PROFILE = \"am\""
   ]
  },
  {
   "cell_type": "markdown",
   "id": "4ec75999",
   "metadata": {},
   "source": [
    "# Config"
   ]
  },
  {
   "cell_type": "code",
   "execution_count": null,
   "id": "4361a6f6",
   "metadata": {},
   "outputs": [],
   "source": [
    "def get_config() -> cconconf.Config:\n",
    "    \"\"\"\n",
    "    Get config that controls parameters.\n",
    "    \"\"\"\n",
    "    config = cconconf.Config()\n",
    "    # Load parameters.\n",
    "    config.add_subconfig(\"load\")\n",
    "    config[\"load\"][\"aws_profile\"] = AM_AWS_PROFILE\n",
    "    config[\"load\"][\"data_dir\"] = os.path.join(\n",
    "        hs3.get_s3_bucket_path(AM_AWS_PROFILE), \"data\"\n",
    "    )\n",
    "    # Data parameters.\n",
    "    config.add_subconfig(\"data\")\n",
    "    config[\"data\"][\"universe_version\"] = \"v03\"\n",
    "    config[\"data\"][\"data_type\"] = \"OHLCV\"\n",
    "    config[\"data\"][\"vendor\"] = \"CCXT\"\n",
    "    config[\"data\"][\"price_column\"] = \"close\"\n",
    "    return config\n",
    "\n",
    "\n",
    "config = get_config()\n",
    "print(config)"
   ]
  },
  {
   "cell_type": "markdown",
   "id": "07deef61",
   "metadata": {},
   "source": [
    "# Get price data for a given universe"
   ]
  },
  {
   "cell_type": "code",
   "execution_count": null,
   "id": "10e04671",
   "metadata": {},
   "outputs": [],
   "source": [
    "vendor_universe = ivcu.get_vendor_universe(\n",
    "    config[\"data\"][\"vendor\"],\n",
    "    version=config[\"data\"][\"universe_version\"],\n",
    "    as_full_symbol=True,\n",
    ")\n",
    "vendor_universe"
   ]
  },
  {
   "cell_type": "code",
   "execution_count": null,
   "id": "791f52d2",
   "metadata": {},
   "outputs": [],
   "source": [
    "df_price = ramccsta.get_universe_price_data(vendor_universe, config)\n",
    "df_price.head(3)"
   ]
  },
  {
   "cell_type": "code",
   "execution_count": null,
   "id": "8a915df2",
   "metadata": {},
   "outputs": [],
   "source": [
    "df_price.describe().round(2)"
   ]
  },
  {
   "cell_type": "code",
   "execution_count": null,
   "id": "2b7be928",
   "metadata": {},
   "outputs": [],
   "source": [
    "df_price.head()"
   ]
  },
  {
   "cell_type": "markdown",
   "id": "843ede26",
   "metadata": {},
   "source": [
    "# Find same currencies"
   ]
  },
  {
   "cell_type": "code",
   "execution_count": null,
   "id": "e40247fa",
   "metadata": {},
   "outputs": [],
   "source": [
    "df_returns = df_price.pct_change()\n",
    "df_returns.head(3)"
   ]
  },
  {
   "cell_type": "code",
   "execution_count": null,
   "id": "2bd5cbf4",
   "metadata": {},
   "outputs": [],
   "source": [
    "corr_matrix = df_returns.corr()\n",
    "_ = coplotti.plot_heatmap(corr_matrix)"
   ]
  },
  {
   "cell_type": "markdown",
   "id": "9aa1769d",
   "metadata": {},
   "source": [
    "`cluster_and_select()` distinguishes clusters but some very highly correlated stable coins are clustered together so it seems like that we cannot rely on dendrodram and clustering alone."
   ]
  },
  {
   "cell_type": "code",
   "execution_count": null,
   "id": "e4b8c407",
   "metadata": {},
   "outputs": [],
   "source": [
    "_ = coplotti.cluster_and_select(df_returns, 11)"
   ]
  },
  {
   "cell_type": "code",
   "execution_count": null,
   "id": "eae6ddd4",
   "metadata": {
    "run_control": {
     "marked": false
    }
   },
   "outputs": [],
   "source": [
    "_ = sns.clustermap(corr_matrix, figsize=(20, 20))"
   ]
  },
  {
   "cell_type": "code",
   "execution_count": null,
   "id": "900b7401",
   "metadata": {
    "run_control": {
     "marked": false
    }
   },
   "outputs": [],
   "source": [
    "# Display top 10 most correlated series for each currency pair.\n",
    "for colname in corr_matrix.columns:\n",
    "    corr_srs = corr_matrix[colname]\n",
    "    corr_srs_sorted = corr_srs.sort_values(ascending=False)\n",
    "    display(corr_srs_sorted.head(10))"
   ]
  },
  {
   "cell_type": "markdown",
   "id": "6bcebb22",
   "metadata": {},
   "source": [
    "# Calculations on data resampled to 1 day"
   ]
  },
  {
   "cell_type": "code",
   "execution_count": null,
   "id": "24afd786",
   "metadata": {},
   "outputs": [],
   "source": [
    "df_price_1day = df_price.resample(\"D\", closed=\"right\", label=\"right\").mean()\n",
    "df_price_1day.head(3)"
   ]
  },
  {
   "cell_type": "code",
   "execution_count": null,
   "id": "dae5ce2d",
   "metadata": {},
   "outputs": [],
   "source": [
    "df_returns_1day = df_price_1day.pct_change()\n",
    "df_returns_1day.head(3)"
   ]
  },
  {
   "cell_type": "code",
   "execution_count": null,
   "id": "f741c7e6",
   "metadata": {},
   "outputs": [],
   "source": [
    "corr_matrix_1day = df_returns_1day.corr()\n",
    "_ = coplotti.plot_heatmap(corr_matrix_1day)"
   ]
  },
  {
   "cell_type": "markdown",
   "id": "ad1dfde8",
   "metadata": {},
   "source": [
    "Resampling to 1 day makes clusters much more visible. <br>\n",
    "If we take a look at correlation numbers, we can see that equal currencies on different exchanges have a correlation above ~0.94 while different currencies correlate at much less rate.\n",
    "\n",
    "Therefore, it seems that for detecting similar currencies we'd better use 1 day frequency."
   ]
  },
  {
   "cell_type": "code",
   "execution_count": null,
   "id": "264262c6",
   "metadata": {},
   "outputs": [],
   "source": [
    "_ = coplotti.cluster_and_select(df_returns_1day, 11)"
   ]
  },
  {
   "cell_type": "code",
   "execution_count": null,
   "id": "a3895c16",
   "metadata": {},
   "outputs": [],
   "source": [
    "_ = sns.clustermap(corr_matrix_1day, figsize=(20, 20))"
   ]
  },
  {
   "cell_type": "code",
   "execution_count": null,
   "id": "d92a7555",
   "metadata": {},
   "outputs": [],
   "source": [
    "# Display top 10 most correlated series for each currency pair.\n",
    "for colname in corr_matrix_1day.columns:\n",
    "    corr_srs = corr_matrix_1day[colname]\n",
    "    corr_srs_sorted = corr_srs.sort_values(ascending=False)\n",
    "    display(corr_srs_sorted.head(10))"
   ]
  }
 ],
 "metadata": {
  "jupytext": {
   "formats": "ipynb,py:percent"
  },
  "kernelspec": {
   "display_name": "Python 3 (ipykernel)",
   "language": "python",
   "name": "python3"
  },
  "language_info": {
   "codemirror_mode": {
    "name": "ipython",
    "version": 3
   },
   "file_extension": ".py",
   "mimetype": "text/x-python",
   "name": "python",
   "nbconvert_exporter": "python",
   "pygments_lexer": "ipython3"
  },
  "toc": {
   "base_numbering": 1,
   "nav_menu": {},
   "number_sections": true,
   "sideBar": true,
   "skip_h1_title": false,
   "title_cell": "Table of Contents",
   "title_sidebar": "Contents",
   "toc_cell": false,
   "toc_position": {},
   "toc_section_display": true,
   "toc_window_display": false
  }
 },
 "nbformat": 4,
 "nbformat_minor": 5
}
