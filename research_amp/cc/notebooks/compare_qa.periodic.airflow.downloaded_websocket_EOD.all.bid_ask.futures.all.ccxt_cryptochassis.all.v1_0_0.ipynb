{
 "cells": [
  {
   "cell_type": "markdown",
   "id": "c874c983",
   "metadata": {},
   "source": [
    "# Description"
   ]
  },
  {
   "cell_type": "markdown",
   "id": "6ad0806f",
   "metadata": {},
   "source": [
    "This notebook conducts the cross-vendor QA between following datasets:\n",
    "\n",
    "- periodic.airflow.websocket.postgres.bid_ask.futures.v7_3.ccxt.binance.\n",
    "- periodic.airflow.downloaded_EOD.postgres.bid_ask.futures.v3.cryptochassis.binance\n",
    "\n",
    "The QA consists of the following data checks:\n",
    "\n",
    "- Start and End date for both datasets\n",
    "- Number of observations pet coin for both datasets\n",
    "- Number of NaNs per dataset\n",
    "- Notional difference (CC value - CCXT value) for `bid_price`, `ask_price`, `bid_size`, `ask_size` columns\n",
    "- Relative difference (CC value - CCXT value)/CCXT value for `bid_price`, `ask_price`, `bid_size`, `ask_size` columns\n",
    "- Pearson correlation for `bid_price`, `ask_price`, `bid_size`, `ask_size` between both datasets"
   ]
  },
  {
   "cell_type": "markdown",
   "id": "e545da78",
   "metadata": {},
   "source": [
    "# Imports"
   ]
  },
  {
   "cell_type": "code",
   "execution_count": null,
   "id": "c4780eec",
   "metadata": {},
   "outputs": [],
   "source": [
    "%load_ext autoreload\n",
    "%autoreload 2\n",
    "\n",
    "import logging\n",
    "\n",
    "import pandas as pd\n",
    "\n",
    "import core.config as cconfig\n",
    "import helpers.hdbg as hdbg\n",
    "import helpers.henv as henv\n",
    "import helpers.hpandas as hpandas\n",
    "import helpers.hprint as hprint\n",
    "import helpers.hsql as hsql\n",
    "import im_v2.ccxt.data.client as icdcl\n",
    "import im_v2.common.data.transform.transform_utils as imvcdttrut\n",
    "import im_v2.crypto_chassis.data.client as iccdc\n",
    "import im_v2.im_lib_tasks as imvimlita"
   ]
  },
  {
   "cell_type": "code",
   "execution_count": null,
   "id": "409c1bfd",
   "metadata": {},
   "outputs": [],
   "source": [
    "hdbg.init_logger(verbosity=logging.INFO)\n",
    "\n",
    "_LOG = logging.getLogger(__name__)\n",
    "\n",
    "_LOG.info(\"%s\", henv.get_system_signature()[0])\n",
    "\n",
    "hprint.config_notebook()"
   ]
  },
  {
   "cell_type": "markdown",
   "id": "04b9dfc1",
   "metadata": {},
   "source": [
    "# Config"
   ]
  },
  {
   "cell_type": "code",
   "execution_count": null,
   "id": "260b47a6",
   "metadata": {},
   "outputs": [],
   "source": [
    "def get_example_config() -> cconfig.Config:\n",
    "    \"\"\"\n",
    "    Config for comparison of 1sec CryptoChassis and 1sec CCXT bid/ask data.\n",
    "    \"\"\"\n",
    "    config = cconfig.Config()\n",
    "    param_dict = {\n",
    "        \"data\": {\n",
    "            # Whether to resample 1sec data to 1min using our production flow.\n",
    "            # TODO(Danya): Variable overlaps with `resample_1min` parameter for clients.\n",
    "            \"resample_1sec_to_1min\": False,\n",
    "            # Parameters for client initialization.\n",
    "            \"cc_im_client\": {\n",
    "                \"universe_version\": None,\n",
    "                \"resample_1min\": False,\n",
    "                \"contract_type\": \"futures\",\n",
    "                \"tag\": \"downloaded_1sec\",\n",
    "            },\n",
    "            \"ccxt_im_client\": {\n",
    "                \"resample_1min\": False,\n",
    "                \"db_connection\": hsql.get_connection(\n",
    "                    *hsql.get_connection_info_from_env_file(\n",
    "                        imvimlita.get_db_env_path(\"dev\")\n",
    "                    )\n",
    "                ),\n",
    "                \"table_name\": \"ccxt_bid_ask_futures_raw\",\n",
    "            },\n",
    "            # Parameters for data query.\n",
    "            \"read_data\": {\n",
    "                # Get start/end ts as inputs to script.\n",
    "                #  Note: DB data is archived to S3 every 3 days, so we should use\n",
    "                #  only the latest dates.\n",
    "                \"start_ts\": pd.Timestamp(\"2022-11-28 00:00:00+00:00\"),\n",
    "                \"end_ts\": pd.Timestamp(\"2022-11-29 00:00:00+00:00\"),\n",
    "                \"columns\": None,\n",
    "                \"filter_data_mode\": \"assert\",\n",
    "            },\n",
    "        },\n",
    "        \"column_names\": {\n",
    "            \"bid_ask_cols\": [\n",
    "                \"bid_price\",\n",
    "                \"bid_size\",\n",
    "                \"ask_price\",\n",
    "                \"ask_size\",\n",
    "            ],\n",
    "        },\n",
    "        \"order_level\": 1,\n",
    "    }\n",
    "    config = cconfig.Config.from_dict(param_dict)\n",
    "    return config\n",
    "\n",
    "\n",
    "config = get_example_config()\n",
    "print(config)"
   ]
  },
  {
   "cell_type": "markdown",
   "id": "6185b31c",
   "metadata": {},
   "source": [
    "# Clients"
   ]
  },
  {
   "cell_type": "code",
   "execution_count": null,
   "id": "3a9e85ec",
   "metadata": {},
   "outputs": [],
   "source": [
    "# CCXT client.\n",
    "ccxt_im_client_config = config.get_and_mark_as_used((\"data\", \"ccxt_im_client\"))\n",
    "ccxt_im_client = icdcl.CcxtSqlRealTimeImClient(**ccxt_im_client_config)\n",
    "# CC client.\n",
    "cc_parquet_client_config = config.get_and_mark_as_used((\"data\", \"cc_im_client\"))\n",
    "cc_parquet_client = iccdc.get_CryptoChassisHistoricalPqByTileClient_example2(\n",
    "    **cc_parquet_client_config\n",
    ")"
   ]
  },
  {
   "cell_type": "markdown",
   "id": "9446b8a6",
   "metadata": {},
   "source": [
    "# Universe"
   ]
  },
  {
   "cell_type": "code",
   "execution_count": null,
   "id": "3c94b5be",
   "metadata": {},
   "outputs": [],
   "source": [
    "# DB universe\n",
    "ccxt_universe = ccxt_im_client.get_universe()\n",
    "# CC universe.\n",
    "cc_universe = cc_parquet_client.get_universe()\n",
    "# Intersection of universes that will be used for analysis.\n",
    "universe = list(set(ccxt_universe) & set(cc_universe))"
   ]
  },
  {
   "cell_type": "code",
   "execution_count": null,
   "id": "3de4b2b8",
   "metadata": {},
   "outputs": [],
   "source": [
    "compare_universe = hprint.set_diff_to_str(\n",
    "    cc_universe, ccxt_universe, add_space=True\n",
    ")\n",
    "print(compare_universe)"
   ]
  },
  {
   "cell_type": "markdown",
   "id": "67222cf1",
   "metadata": {},
   "source": [
    "# Load data"
   ]
  },
  {
   "cell_type": "code",
   "execution_count": null,
   "id": "da4f3bbc",
   "metadata": {},
   "outputs": [],
   "source": [
    "read_data_config = config.get_and_mark_as_used((\"data\", \"read_data\"))"
   ]
  },
  {
   "cell_type": "markdown",
   "id": "17321641",
   "metadata": {},
   "source": [
    "## Load CCXT"
   ]
  },
  {
   "cell_type": "code",
   "execution_count": null,
   "id": "21d1a969",
   "metadata": {
    "run_control": {
     "marked": true
    }
   },
   "outputs": [],
   "source": [
    "ccxt_df = ccxt_im_client.read_data(universe, **read_data_config)"
   ]
  },
  {
   "cell_type": "code",
   "execution_count": null,
   "id": "64441454",
   "metadata": {},
   "outputs": [],
   "source": [
    "display(ccxt_df.head(10))"
   ]
  },
  {
   "cell_type": "markdown",
   "id": "c1b13048",
   "metadata": {},
   "source": [
    "On the first glance:\n",
    "- It has levels where they are not expected to be\n",
    "- The level columns are empty"
   ]
  },
  {
   "cell_type": "markdown",
   "id": "6d0c6ddc",
   "metadata": {},
   "source": [
    "### Clean CCXT data"
   ]
  },
  {
   "cell_type": "code",
   "execution_count": null,
   "id": "b3c2938f",
   "metadata": {
    "run_control": {
     "marked": true
    }
   },
   "outputs": [],
   "source": [
    "# TODO(Danya): What can be done to make these transformations universal?\n",
    "#  \"if\"-switches based on vendor and type?\n",
    "\n",
    "# Remove level suffix in the TOB column name.\n",
    "ccxt_df.columns = ccxt_df.columns.str.replace(\"_l1\", \"\")\n",
    "# Remove all levels.\n",
    "target_columns = [col for col in ccxt_df.columns if not col[-1].isnumeric()]\n",
    "target_columns = [\n",
    "    col for col in target_columns if col != \"end_download_timestamp\"\n",
    "]\n",
    "ccxt_df = ccxt_df[target_columns]\n",
    "# CCXT timestamp data goes up to milliseconds, so one needs to round it to seconds.\n",
    "ccxt_df.index = ccxt_df.reset_index()[\"timestamp\"].apply(\n",
    "    lambda x: x.ceil(freq=\"S\")\n",
    ")\n",
    "display(ccxt_df.head(10))"
   ]
  },
  {
   "cell_type": "markdown",
   "id": "7b5348dc",
   "metadata": {},
   "source": [
    "## Load СС"
   ]
  },
  {
   "cell_type": "code",
   "execution_count": null,
   "id": "d7807a0f",
   "metadata": {},
   "outputs": [],
   "source": [
    "cc_df = cc_parquet_client.read_data(universe, **read_data_config)\n",
    "display(cc_df.head(10))"
   ]
  },
  {
   "cell_type": "markdown",
   "id": "6026be03",
   "metadata": {},
   "source": [
    "# Resampling data"
   ]
  },
  {
   "cell_type": "code",
   "execution_count": null,
   "id": "51d0feee",
   "metadata": {
    "lines_to_next_cell": 0
   },
   "outputs": [],
   "source": [
    "# Perform VWAP resampling if required by config.\n",
    "resample_1min = config.get_and_mark_as_used((\"data\", \"resample_1sec_to_1min\"))\n",
    "if resample_1min:\n",
    "    # TODO(Danya): Function as-is has VWAP and TWAP modes and removes the `full_symbol` column.\n",
    "    ccxt_df = imvcdttrut.resample_bid_ask_data_to_1min(ccxt_df, mode=\"VWAP\")\n",
    "    # Fixed during #CmTask3225\n",
    "    cc_df = imvcdttrut.resample_bid_ask_data_to_1min(cc_df, mode=\"VWAP\")"
   ]
  },
  {
   "cell_type": "markdown",
   "id": "71b2fa14",
   "metadata": {},
   "source": [
    "# Analysis"
   ]
  },
  {
   "cell_type": "markdown",
   "id": "1c822c98",
   "metadata": {},
   "source": [
    "## Merge CC and DB data into one DataFrame\n"
   ]
  },
  {
   "cell_type": "code",
   "execution_count": null,
   "id": "4258afb2",
   "metadata": {},
   "outputs": [],
   "source": [
    "ccxt_df = ccxt_df.reset_index().set_index([\"timestamp\", \"full_symbol\"])\n",
    "cc_df = cc_df.reset_index().set_index([\"timestamp\", \"full_symbol\"])"
   ]
  },
  {
   "cell_type": "code",
   "execution_count": null,
   "id": "f6980cc5",
   "metadata": {},
   "outputs": [],
   "source": [
    "data = ccxt_df.merge(\n",
    "    cc_df,\n",
    "    how=\"inner\",\n",
    "    left_index=True,\n",
    "    right_index=True,\n",
    "    suffixes=(\"_ccxt\", \"_cc\"),\n",
    ")"
   ]
  },
  {
   "cell_type": "code",
   "execution_count": null,
   "id": "d7d821f4",
   "metadata": {},
   "outputs": [],
   "source": [
    "# Conduct a data sanity check.\n",
    "# Get number of values for both datasets.\n",
    "len_cc_data = len(cc_df)\n",
    "len_ccxt_data = len(ccxt_df)\n",
    "_LOG.info(\"Start date = %s\", data.reset_index()[\"timestamp\"].min())\n",
    "_LOG.info(\"End date = %s\", data.reset_index()[\"timestamp\"].max())\n",
    "_LOG.info(\n",
    "    \"Avg observations per coin = %s\",\n",
    "    len(data) / len(data.reset_index()[\"full_symbol\"].unique()),\n",
    ")\n",
    "# Move the same metrics from two vendors together.\n",
    "data = data.reindex(sorted(data.columns), axis=1)\n",
    "# NaNs observation.\n",
    "nans_cc = len(data[data[\"bid_price_cc\"].isna()])\n",
    "nans_ccxt = len(data[data[\"bid_price_ccxt\"].isna()])\n",
    "_LOG.info(\n",
    "    \"Number of observations with NaNs in CryptoChassis = %s (%s%%)\",\n",
    "    nans_cc,\n",
    "    nans_cc / len_cc_data,\n",
    ")\n",
    "_LOG.info(\n",
    "    \"Number of observations with NaNs in CCXT = %s (%s%%)\",\n",
    "    nans_ccxt,\n",
    "    nans_ccxt / len_ccxt_data,\n",
    ")\n",
    "# Remove NaNs.\n",
    "data = hpandas.dropna(data, report_stats=True)\n",
    "#\n",
    "# Zero bid size.\n",
    "zero_bid_size_cc = len(data[data[\"bid_size_cc\"] == 0])\n",
    "_LOG.info(\n",
    "    \"Number of observations with bid_size=0 in CryptoChassis = %s (%s%%)\",\n",
    "    zero_bid_size_cc,\n",
    "    zero_bid_size_cc / len_cc_data,\n",
    ")\n",
    "zero_bid_size_ccxt = len(data[data[\"bid_size_ccxt\"] == 0])\n",
    "_LOG.info(\n",
    "    \"Number of observations with bid_size=0 in CCXT = %s (%s%%)\",\n",
    "    zero_bid_size_cc,\n",
    "    zero_bid_size_ccxt / len_ccxt_data,\n",
    ")\n",
    "# Zero ask size.\n",
    "zero_ask_size_cc = len(data[data[\"ask_size_cc\"] == 0])\n",
    "_LOG.info(\n",
    "    \"Number of observations with ask_size=0 in CryptoChassis = %s (%s%%)\",\n",
    "    zero_ask_size_cc,\n",
    "    zero_ask_size_cc / len_cc_data,\n",
    ")\n",
    "zero_ask_size_ccxt = len(data[data[\"ask_size_ccxt\"] == 0])\n",
    "_LOG.info(\n",
    "    \"Number of observations with ask_size=0 in CCXT = %s (%s%%)\",\n",
    "    zero_ask_size_cc,\n",
    "    zero_ask_size_ccxt / len_ccxt_data,\n",
    ")\n",
    "#\n",
    "# Bid !< Ask.\n",
    "small_bid_cc = len(data[data[\"ask_price_cc\"] >= data[\"bid_price_cc\"]])\n",
    "_LOG.info(\n",
    "    \"Number of observations with ask_price >= bid_price in CryptoChassis = %s (%s%%)\",\n",
    "    small_bid_cc,\n",
    "    small_bid_cc / len_cc_data,\n",
    ")\n",
    "small_bid_ccxt = len(data[data[\"ask_price_ccxt\"] >= data[\"bid_price_ccxt\"]])\n",
    "_LOG.info(\n",
    "    \"Number of observations with ask_price >= bid_price in CCXT = %s (%s%%)\",\n",
    "    small_bid_ccxt,\n",
    "    small_bid_ccxt / len_ccxt_data,\n",
    ")\n",
    "#\n",
    "display(data.tail())"
   ]
  },
  {
   "cell_type": "markdown",
   "id": "fb66f4ee",
   "metadata": {},
   "source": [
    "## Calculate differences"
   ]
  },
  {
   "cell_type": "code",
   "execution_count": null,
   "id": "4644d10f",
   "metadata": {},
   "outputs": [],
   "source": [
    "# Full symbol will not be relevant in calculation loops below.\n",
    "bid_ask_cols = config.get_and_mark_as_used((\"column_names\", \"bid_ask_cols\"))\n",
    "# Each bid ask value will have a notional and a relative difference between two sources.\n",
    "for col in bid_ask_cols:\n",
    "    # Notional difference: CC value - DB value.\n",
    "    data[f\"{col}_diff\"] = data[f\"{col}_cc\"] - data[f\"{col}_ccxt\"]\n",
    "    # Relative value: (CC value - DB value)/DB value.\n",
    "    data[f\"{col}_relative_pct_diff\"] = (\n",
    "        100 * (data[f\"{col}_cc\"] - data[f\"{col}_ccxt\"]) / data[f\"{col}_ccxt\"]\n",
    "    )"
   ]
  },
  {
   "cell_type": "code",
   "execution_count": null,
   "id": "c776d7ff",
   "metadata": {},
   "outputs": [],
   "source": [
    "# Calculate the mean value of differences for each coin.\n",
    "diff_stats = []\n",
    "grouper = data.groupby([\"full_symbol\"])\n",
    "for col in bid_ask_cols:\n",
    "    diff_stats.append(grouper[f\"{col}_diff\"].mean())\n",
    "    diff_stats.append(grouper[f\"{col}_relative_pct_diff\"].mean())\n",
    "#\n",
    "diff_stats = pd.concat(diff_stats, axis=1)"
   ]
  },
  {
   "cell_type": "markdown",
   "id": "82fd4ed6",
   "metadata": {},
   "source": [
    "## Show stats for differences (in %)"
   ]
  },
  {
   "cell_type": "markdown",
   "id": "1a71958e",
   "metadata": {},
   "source": [
    "### Prices"
   ]
  },
  {
   "cell_type": "code",
   "execution_count": null,
   "id": "ecac1d76",
   "metadata": {},
   "outputs": [],
   "source": [
    "display(\n",
    "    diff_stats[[\"bid_price_relative_pct_diff\", \"ask_price_relative_pct_diff\"]]\n",
    ")"
   ]
  },
  {
   "cell_type": "markdown",
   "id": "d76df41a",
   "metadata": {},
   "source": [
    "### Sizes"
   ]
  },
  {
   "cell_type": "code",
   "execution_count": null,
   "id": "7c565559",
   "metadata": {},
   "outputs": [],
   "source": [
    "display(diff_stats[[\"bid_size_relative_pct_diff\", \"ask_size_relative_pct_diff\"]])"
   ]
  },
  {
   "cell_type": "markdown",
   "id": "a36f2351",
   "metadata": {},
   "source": [
    "## Correlations"
   ]
  },
  {
   "cell_type": "markdown",
   "id": "c329a698",
   "metadata": {},
   "source": [
    "### Bid price"
   ]
  },
  {
   "cell_type": "code",
   "execution_count": null,
   "id": "9c96865e",
   "metadata": {},
   "outputs": [],
   "source": [
    "bid_price_corr_matrix = (\n",
    "    data[[\"bid_price_cc\", \"bid_price_ccxt\"]].groupby(level=1).corr()\n",
    ")\n",
    "display(bid_price_corr_matrix)"
   ]
  },
  {
   "cell_type": "markdown",
   "id": "600d7426",
   "metadata": {},
   "source": [
    "### Ask price"
   ]
  },
  {
   "cell_type": "code",
   "execution_count": null,
   "id": "c94342b6",
   "metadata": {},
   "outputs": [],
   "source": [
    "ask_price_corr_matrix = (\n",
    "    data[[\"ask_price_cc\", \"ask_price_ccxt\"]].groupby(level=1).corr()\n",
    ")\n",
    "display(ask_price_corr_matrix)"
   ]
  },
  {
   "cell_type": "markdown",
   "id": "2d4f5f10",
   "metadata": {},
   "source": [
    "### Bid size"
   ]
  },
  {
   "cell_type": "code",
   "execution_count": null,
   "id": "ebc62b8a",
   "metadata": {},
   "outputs": [],
   "source": [
    "bid_size_corr_matrix = (\n",
    "    data[[\"bid_size_cc\", \"bid_size_ccxt\"]].groupby(level=1).corr()\n",
    ")\n",
    "display(bid_size_corr_matrix)"
   ]
  },
  {
   "cell_type": "markdown",
   "id": "a99c1ed6",
   "metadata": {},
   "source": [
    "### Ask size"
   ]
  },
  {
   "cell_type": "code",
   "execution_count": null,
   "id": "7adeb33f",
   "metadata": {},
   "outputs": [],
   "source": [
    "ask_size_corr_matrix = (\n",
    "    data[[\"ask_size_cc\", \"ask_size_ccxt\"]].groupby(level=1).corr()\n",
    ")\n",
    "display(ask_size_corr_matrix)"
   ]
  },
  {
   "cell_type": "markdown",
   "id": "4f5d2fd0",
   "metadata": {},
   "source": [
    "# Check unused variables in config"
   ]
  },
  {
   "cell_type": "code",
   "execution_count": null,
   "id": "a1edb56f",
   "metadata": {
    "run_control": {
     "marked": true
    }
   },
   "outputs": [],
   "source": [
    "display(config)"
   ]
  }
 ],
 "metadata": {
  "kernelspec": {
   "display_name": "Python 3 (ipykernel)",
   "language": "python",
   "name": "python3"
  },
  "language_info": {
   "codemirror_mode": {
    "name": "ipython",
    "version": 3
   },
   "file_extension": ".py",
   "mimetype": "text/x-python",
   "name": "python",
   "nbconvert_exporter": "python",
   "pygments_lexer": "ipython3"
  },
  "toc": {
   "base_numbering": 1,
   "nav_menu": {},
   "number_sections": true,
   "sideBar": true,
   "skip_h1_title": false,
   "title_cell": "Table of Contents",
   "title_sidebar": "Contents",
   "toc_cell": false,
   "toc_position": {
    "height": "calc(100% - 180px)",
    "left": "10px",
    "top": "150px",
    "width": "249px"
   },
   "toc_section_display": true,
   "toc_window_display": true
  },
  "vscode": {
   "interpreter": {
    "hash": "916dbcbb3f70747c44a77c7bcd40155683ae19c65e1c03b4aa3499c5328201f1"
   }
  }
 },
 "nbformat": 4,
 "nbformat_minor": 5
}
