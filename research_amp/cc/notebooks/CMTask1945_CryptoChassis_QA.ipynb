{
 "cells": [
  {
   "cell_type": "markdown",
   "id": "e3d423f0",
   "metadata": {},
   "source": [
    "# Description"
   ]
  },
  {
   "cell_type": "markdown",
   "id": "739a4c1a",
   "metadata": {},
   "source": [
    "This notebooks performs QA checks for a single vendor:\n",
    "   - Number of NaN data points as % of total\n",
    "   - Number of data points where `volume=0` as % of total"
   ]
  },
  {
   "cell_type": "markdown",
   "id": "026dce8f",
   "metadata": {},
   "source": [
    "# Imports"
   ]
  },
  {
   "cell_type": "code",
   "execution_count": null,
   "id": "d2796630",
   "metadata": {},
   "outputs": [],
   "source": [
    "import logging\n",
    "import os\n",
    "\n",
    "import pandas as pd\n",
    "\n",
    "import core.config.config_ as cconconf\n",
    "import core.config.config_utils as ccocouti\n",
    "import core.statistics as costatis\n",
    "import helpers.hdbg as hdbg\n",
    "import helpers.henv as henv\n",
    "import helpers.hprint as hprint\n",
    "import helpers.hs3 as hs3\n",
    "import im_v2.ccxt.data.client as icdcl\n",
    "import im_v2.common.data.client as icdc\n",
    "import im_v2.crypto_chassis.data.client.crypto_chassis_clients as imvccdcccc"
   ]
  },
  {
   "cell_type": "code",
   "execution_count": null,
   "id": "467b3d61",
   "metadata": {},
   "outputs": [],
   "source": [
    "hdbg.init_logger(verbosity=logging.INFO)\n",
    "\n",
    "_LOG = logging.getLogger(__name__)\n",
    "\n",
    "_LOG.info(\"%s\", henv.get_system_signature()[0])\n",
    "\n",
    "hprint.config_notebook()"
   ]
  },
  {
   "cell_type": "markdown",
   "id": "61c0c9ff",
   "metadata": {},
   "source": [
    "# Configs"
   ]
  },
  {
   "cell_type": "code",
   "execution_count": null,
   "id": "99b1f619",
   "metadata": {},
   "outputs": [],
   "source": [
    "def get_cmtask1866_config_ccxt() -> cconconf.Config:\n",
    "    \"\"\"\n",
    "    Get task1866-specific config.\n",
    "    \"\"\"\n",
    "    config = cconconf.Config()\n",
    "    param_dict = {\n",
    "        \"data\": {\n",
    "            # Parameters for client initialization.\n",
    "            \"im_client\": {\n",
    "                \"universe_version\": \"v1\",\n",
    "                \"resample_1min\": True,\n",
    "                \"root_dir\": os.path.join(\n",
    "                    hs3.get_s3_bucket_path(\"ck\"),\n",
    "                    \"reorg\",\n",
    "                    \"historical.manual.pq\",\n",
    "                ),\n",
    "                \"partition_mode\": \"by_year_month\",\n",
    "                \"data_snapshot\": \"latest\",\n",
    "                \"aws_profile\": \"ck\",\n",
    "            },\n",
    "            # Parameters for data query.\n",
    "            \"read_data\": {\n",
    "                \"start_ts\": None,\n",
    "                \"end_ts\": None,\n",
    "                \"columns\": None,\n",
    "                \"filter_data_mode\": \"assert\",\n",
    "            },\n",
    "        },\n",
    "        \"column_names\": {\n",
    "            \"full_symbol\": \"full_symbol\",\n",
    "            \"close_price\": \"close\",\n",
    "        },\n",
    "        \"stats\": {\n",
    "            \"threshold\": 30,\n",
    "        },\n",
    "    }\n",
    "    config = cconfig.Config.from_dict(param_dict)\n",
    "    return config"
   ]
  },
  {
   "cell_type": "code",
   "execution_count": null,
   "id": "1117532c",
   "metadata": {},
   "outputs": [],
   "source": [
    "config = get_cmtask1866_config_ccxt()\n",
    "print(config)"
   ]
  },
  {
   "cell_type": "markdown",
   "id": "52eb9372",
   "metadata": {},
   "source": [
    "# Functions"
   ]
  },
  {
   "cell_type": "code",
   "execution_count": null,
   "id": "503740ea",
   "metadata": {},
   "outputs": [],
   "source": [
    "# TODO(Dan): Clean up and move to a lib.\n",
    "# TODO(Dan): Separate data reading and computing the stats.\n",
    "def perform_qa_per_exchange(\n",
    "    config: cconconf.Config,\n",
    "    exchange_id: str,\n",
    "    client: icdc.ImClient,\n",
    "    *,\n",
    "    by_year_month: bool = False,\n",
    ") -> pd.DataFrame:\n",
    "    \"\"\"\n",
    "    Get quality assurance stats for specified exchange.\n",
    "\n",
    "    QA stats include:\n",
    "       - % of NaNs\n",
    "       - % of rows with \"volume=0\"\n",
    "       - % of bad data which is the sum of NaNs and \"volume=0\" stats\n",
    "       - min and max timestamp if `by_year_month=False`\n",
    "\n",
    "    E.g.,\n",
    "    ```\n",
    "                                    NaNs [%]  volume=0 [%]  bad data [%]\n",
    "    full_symbol        year  month\n",
    "    binance::ADA_USDT  2022      1    0.2222        0.2222        0.4444\n",
    "                                 2       5.9           0.1           6.0\n",
    "    binance::BTC_USDT  2022      1       0.0           0.0           0.0\n",
    "    ```\n",
    "    :param config: parameters config\n",
    "    :param exchange_id: name of exchange to compute stats for\n",
    "    :param client: client to read data\n",
    "    :param by_year_month: compute QA stats by year and month\n",
    "    \"\"\"\n",
    "    # Get exchange data for related full symbols.\n",
    "    universe = client.get_universe()\n",
    "    exchange_universe = [\n",
    "        full_symbol\n",
    "        for full_symbol in universe\n",
    "        if full_symbol.startswith(exchange_id)\n",
    "    ]\n",
    "    exchange_data = client.read_data(\n",
    "        exchange_universe, **config[\"data\"][\"read_data\"]\n",
    "    )\n",
    "    # Compute exchange stats.\n",
    "    if by_year_month:\n",
    "        qa_stats = _get_qa_stats_by_year_month(config, exchange_data)\n",
    "    else:\n",
    "        qa_stats = _get_qa_stats(config, exchange_data)\n",
    "    return qa_stats\n",
    "\n",
    "\n",
    "# TODO(Dan): Merge with `_get_qa_stats_by_year_month()` by passing `agg_level`.\n",
    "def _get_qa_stats(config: cconconf.Config, data: pd.DataFrame) -> pd.DataFrame:\n",
    "    \"\"\"\n",
    "    Get quality assurance stats per full symbol.\n",
    "    \"\"\"\n",
    "    res_stats = []\n",
    "    for full_symbol, symbol_data in data.groupby(\n",
    "        config[\"column_names\"][\"full_symbol\"]\n",
    "    ):\n",
    "        # Compute stats for a full symbol.\n",
    "        symbol_stats = pd.Series(dtype=\"object\", name=full_symbol)\n",
    "        symbol_stats[\"min_timestamp\"] = symbol_data.index.min()\n",
    "        symbol_stats[\"max_timestamp\"] = symbol_data.index.max()\n",
    "        symbol_stats[\"NaNs [%]\"] = 100 * (\n",
    "            costatis.compute_frac_nan(\n",
    "                symbol_data[config[\"column_names\"][\"close_price\"]]\n",
    "            )\n",
    "        )\n",
    "        symbol_stats[\"volume=0 [%]\"] = 100 * (\n",
    "            symbol_data[symbol_data[\"volume\"] == 0].shape[0]\n",
    "            / symbol_data.shape[0]\n",
    "        )\n",
    "        symbol_stats[\"bad data [%]\"] = (\n",
    "            symbol_stats[\"NaNs [%]\"] + symbol_stats[\"volume=0 [%]\"]\n",
    "        )\n",
    "        res_stats.append(symbol_stats)\n",
    "    # Combine all full symbol stats.\n",
    "    res_stats_df = pd.concat(res_stats, axis=1).T\n",
    "    return res_stats_df\n",
    "\n",
    "\n",
    "def _get_qa_stats_by_year_month(\n",
    "    config: cconconf.Config, data: pd.DataFrame\n",
    ") -> pd.DataFrame:\n",
    "    \"\"\"\n",
    "    Get quality assurance stats per full symbol, year, and month.\n",
    "    \"\"\"\n",
    "    # Get year and month columns to group by them.\n",
    "    data[\"year\"] = data.index.year\n",
    "    data[\"month\"] = data.index.month\n",
    "    #\n",
    "    res_stats = []\n",
    "    for index, data_monthly in data.groupby([\"year\", \"month\"]):\n",
    "        #\n",
    "        year, month = index\n",
    "        #\n",
    "        stats_monthly = _get_qa_stats(config, data_monthly)\n",
    "        #\n",
    "        stats_monthly[\"year\"] = year\n",
    "        stats_monthly[\"month\"] = month\n",
    "        res_stats.append(stats_monthly)\n",
    "    res_stats_df = pd.concat(res_stats)\n",
    "    res_stats_df = res_stats_df.drop([\"min_timestamp\", \"max_timestamp\"], axis=1)\n",
    "    #\n",
    "    # Set index by full symbol, year, and month.\n",
    "    res_stats_df[config[\"column_names\"][\"full_symbol\"]] = res_stats_df.index\n",
    "    index_columns = [config[\"column_names\"][\"full_symbol\"], \"year\", \"month\"]\n",
    "    res_stats_df = res_stats_df.sort_values(index_columns)\n",
    "    res_stats_df = res_stats_df.set_index(index_columns)\n",
    "    return res_stats_df\n",
    "\n",
    "\n",
    "# TODO(Dan): Add filtering by dates.\n",
    "def _plot_bad_data_stats(\n",
    "    config: cconconf.Config, bad_data_stats: pd.DataFrame\n",
    ") -> None:\n",
    "    \"\"\"\n",
    "    Plot bad data stats per unique full symbol in data.\n",
    "\n",
    "    Bad data is the sum of NaNs and \"volume=0\" stats.\n",
    "    \"\"\"\n",
    "    full_symbols = bad_data_stats.index.get_level_values(0).unique()\n",
    "    for full_symbol in full_symbols:\n",
    "        bad_data_col_name = \"bad data [%]\"\n",
    "        ax = bad_data_stats.loc[full_symbol].plot.bar(\n",
    "            y=bad_data_col_name, rot=0, title=full_symbol\n",
    "        )\n",
    "        #\n",
    "        ax.hlines(\n",
    "            y=config[\"stats\"][\"threshold\"],\n",
    "            xmin=0,\n",
    "            xmax=len(bad_data_stats),\n",
    "            color=\"r\",\n",
    "        )\n",
    "        # TODO(Dan): Make ticklabels more readable.\n",
    "        # Get ticks and labels for x-axis.\n",
    "        ticks = ax.xaxis.get_ticklocs()\n",
    "        ticklabels = [\n",
    "            l.get_text().strip(\"()\").split(\", \")\n",
    "            for l in ax.xaxis.get_ticklabels()\n",
    "        ]\n",
    "        ticklabels = [\".\".join([l[0], l[1]]) for l in ticklabels]\n",
    "        # Adjust x-axis labels so they do not overlap on plot by\n",
    "        # picking ticks and labels by specified stride that limits\n",
    "        # the number of final ticks to 10.\n",
    "        stride = len(ticks) // 10 + 1\n",
    "        ax.xaxis.set_ticks(ticks[::stride])\n",
    "        ax.xaxis.set_ticklabels(ticklabels[::stride])\n",
    "        ax.figure.show()"
   ]
  },
  {
   "cell_type": "markdown",
   "id": "6241e528",
   "metadata": {},
   "source": [
    "# QA checks"
   ]
  },
  {
   "cell_type": "markdown",
   "id": "4e042601",
   "metadata": {},
   "source": [
    "Major metric for a QA check is `\"bad data [%]\"` which is the sum of `\"volume=0 [%]\"` and `\"NaNs [%]\"`."
   ]
  },
  {
   "cell_type": "code",
   "execution_count": null,
   "id": "24754614",
   "metadata": {},
   "outputs": [],
   "source": [
    "client = imvccdcccc.CryptoChassisHistoricalPqByTileClient(\n",
    "    **config[\"data\"][\"im_client\"]\n",
    ")"
   ]
  },
  {
   "cell_type": "code",
   "execution_count": null,
   "id": "f167823c",
   "metadata": {},
   "outputs": [],
   "source": [
    "universe = client.get_universe()\n",
    "universe"
   ]
  },
  {
   "cell_type": "markdown",
   "id": "e403fd16",
   "metadata": {},
   "source": [
    "## Binance"
   ]
  },
  {
   "cell_type": "code",
   "execution_count": null,
   "id": "f4e5ad4e",
   "metadata": {},
   "outputs": [],
   "source": [
    "binance_stats = perform_qa_per_exchange(config, \"binance\", client)\n",
    "binance_stats"
   ]
  },
  {
   "cell_type": "code",
   "execution_count": null,
   "id": "c1da92c8",
   "metadata": {},
   "outputs": [],
   "source": [
    "binance_stats_by_year_month = perform_qa_per_exchange(\n",
    "    config, \"binance\", client, by_year_month=True\n",
    ")\n",
    "binance_stats_by_year_month"
   ]
  },
  {
   "cell_type": "code",
   "execution_count": null,
   "id": "238ca1fd",
   "metadata": {},
   "outputs": [],
   "source": [
    "_ = _plot_bad_data_stats(config, binance_stats_by_year_month)"
   ]
  },
  {
   "cell_type": "markdown",
   "id": "80566f87",
   "metadata": {},
   "source": [
    "## FTX"
   ]
  },
  {
   "cell_type": "code",
   "execution_count": null,
   "id": "23abc2ba",
   "metadata": {},
   "outputs": [],
   "source": [
    "ftx_stats = perform_qa_per_exchange(config, \"ftx\", client)\n",
    "ftx_stats"
   ]
  },
  {
   "cell_type": "code",
   "execution_count": null,
   "id": "6571cbfb",
   "metadata": {},
   "outputs": [],
   "source": [
    "ftx_stats_by_year_month = perform_qa_per_exchange(\n",
    "    config, \"ftx\", client, by_year_month=True\n",
    ")\n",
    "ftx_stats_by_year_month"
   ]
  },
  {
   "cell_type": "code",
   "execution_count": null,
   "id": "7c21c972",
   "metadata": {},
   "outputs": [],
   "source": [
    "_ = _plot_bad_data_stats(config, ftx_stats_by_year_month)"
   ]
  },
  {
   "cell_type": "markdown",
   "id": "b76acc23",
   "metadata": {},
   "source": [
    "## Gateio"
   ]
  },
  {
   "cell_type": "code",
   "execution_count": null,
   "id": "c892cdf9",
   "metadata": {},
   "outputs": [],
   "source": [
    "gateio_stats = perform_qa_per_exchange(config, \"gateio\", client)\n",
    "gateio_stats"
   ]
  },
  {
   "cell_type": "code",
   "execution_count": null,
   "id": "b01d7665",
   "metadata": {},
   "outputs": [],
   "source": [
    "gateio_stats_by_year_month = perform_qa_per_exchange(\n",
    "    config, \"gateio\", client, by_year_month=True\n",
    ")\n",
    "gateio_stats_by_year_month"
   ]
  },
  {
   "cell_type": "code",
   "execution_count": null,
   "id": "f3cdf205",
   "metadata": {},
   "outputs": [],
   "source": [
    "_ = _plot_bad_data_stats(config, gateio_stats_by_year_month)"
   ]
  },
  {
   "cell_type": "markdown",
   "id": "90c24f60",
   "metadata": {},
   "source": [
    "## Kucoin"
   ]
  },
  {
   "cell_type": "code",
   "execution_count": null,
   "id": "16550d0d",
   "metadata": {},
   "outputs": [],
   "source": [
    "kucoin_stats = perform_qa_per_exchange(config, \"kucoin\", client)\n",
    "kucoin_stats"
   ]
  },
  {
   "cell_type": "code",
   "execution_count": null,
   "id": "bd5022e7",
   "metadata": {},
   "outputs": [],
   "source": [
    "kucoin_stats_by_year_month = perform_qa_per_exchange(\n",
    "    config, \"kucoin\", client, by_year_month=True\n",
    ")\n",
    "kucoin_stats_by_year_month"
   ]
  },
  {
   "cell_type": "code",
   "execution_count": null,
   "id": "8e86cf6d",
   "metadata": {},
   "outputs": [],
   "source": [
    "_ = _plot_bad_data_stats(config, kucoin_stats_by_year_month)"
   ]
  },
  {
   "cell_type": "markdown",
   "id": "baeea8af",
   "metadata": {},
   "source": [
    "# Summary"
   ]
  },
  {
   "cell_type": "markdown",
   "id": "29f92783",
   "metadata": {},
   "source": [
    "- There is no `volume = 0` rows at all\n",
    "- Binance:\n",
    "   - Data is acceptable\n",
    "   - All coins have  <1% of NaNs\n",
    "- FTX:\n",
    "   - NaN spikes for `DOGE` and `XRP` in 2022\n",
    "   - Other coins are of decent quality\n",
    "- Gateio:\n",
    "   - Data is acceptable\n",
    "   - All coins have  <2% of NaNs\n",
    "- Kucoin:\n",
    "   - Data is acceptable\n",
    "   - All coins have  <2% of NaNs"
   ]
  }
 ],
 "metadata": {
  "kernelspec": {
   "display_name": "Python 3 (ipykernel)",
   "language": "python",
   "name": "python3"
  },
  "language_info": {
   "codemirror_mode": {
    "name": "ipython",
    "version": 3
   },
   "file_extension": ".py",
   "mimetype": "text/x-python",
   "name": "python",
   "nbconvert_exporter": "python",
   "pygments_lexer": "ipython3"
  },
  "toc": {
   "base_numbering": 1,
   "nav_menu": {},
   "number_sections": true,
   "sideBar": true,
   "skip_h1_title": false,
   "title_cell": "Table of Contents",
   "title_sidebar": "Contents",
   "toc_cell": false,
   "toc_position": {},
   "toc_section_display": true,
   "toc_window_display": false
  }
 },
 "nbformat": 4,
 "nbformat_minor": 5
}
