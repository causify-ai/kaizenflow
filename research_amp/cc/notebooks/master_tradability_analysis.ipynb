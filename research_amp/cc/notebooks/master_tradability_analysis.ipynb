{
 "cells": [
  {
   "cell_type": "markdown",
   "id": "58d76abe",
   "metadata": {},
   "source": [
    "# Imports"
   ]
  },
  {
   "cell_type": "code",
   "execution_count": null,
   "id": "90d2298b",
   "metadata": {},
   "outputs": [],
   "source": [
    "%load_ext autoreload\n",
    "%autoreload 2\n",
    "\n",
    "import logging\n",
    "\n",
    "import pandas as pd\n",
    "\n",
    "import core.config.config_ as cconconf\n",
    "import core.plotting.normality as cplonorm\n",
    "import core.plotting.plotting_utils as cplpluti\n",
    "import helpers.hdbg as hdbg\n",
    "import helpers.hprint as hprint\n",
    "import research_amp.transform as ramptran"
   ]
  },
  {
   "cell_type": "code",
   "execution_count": null,
   "id": "feb220a4",
   "metadata": {},
   "outputs": [],
   "source": [
    "hdbg.init_logger(verbosity=logging.INFO)\n",
    "\n",
    "_LOG = logging.getLogger(__name__)\n",
    "\n",
    "hprint.config_notebook()"
   ]
  },
  {
   "cell_type": "markdown",
   "id": "eea446ce",
   "metadata": {},
   "source": [
    "# Config"
   ]
  },
  {
   "cell_type": "code",
   "execution_count": null,
   "id": "3f0680e4",
   "metadata": {},
   "outputs": [],
   "source": [
    "def get_cmtask1704_config_crypto_chassis() -> cconconf.Config:\n",
    "    \"\"\"\n",
    "    Get config, that specifies params for getting raw data from `crypto\n",
    "    chassis`.\n",
    "    \"\"\"\n",
    "    config = cconconf.Config()\n",
    "    # Load parameters.\n",
    "    # config.add_subconfig(\"load\")\n",
    "    # Data parameters.\n",
    "    config.add_subconfig(\"data\")\n",
    "    config[\"data\"][\"full_symbols\"] = [\n",
    "        \"binance::ADA_USDT\",\n",
    "        \"binance::BNB_USDT\",\n",
    "        \"binance::BTC_USDT\",\n",
    "        \"binance::DOGE_USDT\",\n",
    "        \"binance::EOS_USDT\",\n",
    "        \"binance::ETH_USDT\",\n",
    "        \"binance::SOL_USDT\",\n",
    "        \"binance::XRP_USDT\",\n",
    "        \"binance::LUNA_USDT\",\n",
    "        \"binance::DOT_USDT\",\n",
    "        \"binance::LTC_USDT\",\n",
    "        \"binance::UNI_USDT\",\n",
    "    ]\n",
    "    config[\"data\"][\"start_date\"] = pd.Timestamp(\"2022-01-01\", tz=\"UTC\")\n",
    "    config[\"data\"][\"end_date\"] = pd.Timestamp(\"2022-02-01\", tz=\"UTC\")\n",
    "    # Transformation parameters.\n",
    "    config.add_subconfig(\"transform\")\n",
    "    config[\"transform\"][\"resampling_rule\"] = \"5T\"\n",
    "    config[\"transform\"][\"rets_type\"] = \"pct_change\"\n",
    "    return config"
   ]
  },
  {
   "cell_type": "code",
   "execution_count": null,
   "id": "58dae195",
   "metadata": {},
   "outputs": [],
   "source": [
    "config = get_cmtask1704_config_crypto_chassis()\n",
    "print(config)"
   ]
  },
  {
   "cell_type": "markdown",
   "id": "15dee2e0",
   "metadata": {},
   "source": [
    "Note: `exchange_id = binance` was chosen for coins v5 analysis.\n",
    "The missing coins in crypto-chassis in `binance`:\n",
    "- v4:\n",
    "   - Avalanche (AVAX)\n",
    "   - Chainlink (LINK)\n",
    "- v5:\n",
    "   - HEX\n",
    "   - SHIB (Shiba Inu)\n",
    "   - MATIC (Polygon)\n",
    "   - TRX (TRON)\n",
    "   - WAVES (Waves)\n",
    "   - XLM (Stellar)"
   ]
  },
  {
   "cell_type": "markdown",
   "id": "9b068ea0",
   "metadata": {},
   "source": [
    "# Load OHLCV data from `crypto-chassis`"
   ]
  },
  {
   "cell_type": "markdown",
   "id": "a710edd8",
   "metadata": {},
   "source": [
    "## Data demonstration"
   ]
  },
  {
   "cell_type": "code",
   "execution_count": null,
   "id": "865c6ce3",
   "metadata": {},
   "outputs": [],
   "source": [
    "# TODO(Max): Refactor the loading part once #1766 is implemented.\n",
    "\n",
    "# Read from crypto_chassis directly.\n",
    "# full_symbols = config[\"data\"][\"full_symbols\"]\n",
    "# start_date = config[\"data\"][\"start_date\"]\n",
    "# end_date = config[\"data\"][\"end_date\"]\n",
    "# ohlcv_cc = raccchap.read_crypto_chassis_ohlcv(full_symbols, start_date, end_date)\n",
    "\n",
    "# Read saved 1 month of data.\n",
    "ohlcv_cc = pd.read_csv(\"/shared_data/ohlcv_cc_v5.csv\", index_col=\"timestamp\")\n",
    "ohlcv_cc.index = pd.to_datetime(ohlcv_cc.index)\n",
    "ohlcv_cc.head(3)"
   ]
  },
  {
   "cell_type": "markdown",
   "id": "fbccce83",
   "metadata": {},
   "source": [
    "# Calculate VWAP, TWAP and returns in `Dataflow` style"
   ]
  },
  {
   "cell_type": "code",
   "execution_count": null,
   "id": "d018ecd9",
   "metadata": {},
   "outputs": [],
   "source": [
    "# VWAP, TWAP transformation.\n",
    "resampling_rule = config[\"transform\"][\"resampling_rule\"]\n",
    "vwap_twap_df = ramptran.calculate_vwap_twap(ohlcv_cc, resampling_rule)\n",
    "\n",
    "# Returns calculation.\n",
    "rets_type = config[\"transform\"][\"rets_type\"]\n",
    "vwap_twap_rets_df = ramptran.calculate_returns(vwap_twap_df, rets_type)"
   ]
  },
  {
   "cell_type": "code",
   "execution_count": null,
   "id": "aa23e95f",
   "metadata": {
    "run_control": {
     "marked": false
    }
   },
   "outputs": [],
   "source": [
    "# Show the snippet.\n",
    "vwap_twap_rets_df.head(3)"
   ]
  },
  {
   "cell_type": "code",
   "execution_count": null,
   "id": "556c808e",
   "metadata": {
    "run_control": {
     "marked": false
    }
   },
   "outputs": [],
   "source": [
    "# Stats and vizualisation to check the outcomes.\n",
    "coin_ex = vwap_twap_rets_df.swaplevel(axis=1)\n",
    "coin_ex = coin_ex[\"binance::DOGE_USDT\"][\n",
    "    [\"close.ret_0\", \"twap.ret_0\", \"vwap.ret_0\"]\n",
    "]\n",
    "display(coin_ex.corr())\n",
    "coin_ex.plot()"
   ]
  },
  {
   "cell_type": "markdown",
   "id": "fcc86ee7",
   "metadata": {},
   "source": [
    "# Bid-ask data"
   ]
  },
  {
   "cell_type": "code",
   "execution_count": null,
   "id": "d66275e8",
   "metadata": {},
   "outputs": [],
   "source": [
    "# TODO(Max): Refactor the loading part once #1766 is implemented.\n",
    "\n",
    "# Read from crypto_chassis directly.\n",
    "# Specify the params.\n",
    "# full_symbols = config[\"data\"][\"full_symbols\"]\n",
    "# start_date = config[\"data\"][\"start_date\"]\n",
    "# end_date = config[\"data\"][\"end_date\"]\n",
    "# Get the data.\n",
    "# bid_ask_df = raccchap.read_and_resample_bid_ask_data(\n",
    "#    full_symbols, start_date, end_date, \"5T\"\n",
    "# )\n",
    "# bid_ask_df.head(3)\n",
    "\n",
    "# Read saved 1 month of data.\n",
    "bid_ask_df = pd.read_csv(\n",
    "    \"/shared_data/bid_ask_data_v5.csv\", index_col=\"timestamp\"\n",
    ")\n",
    "bid_ask_df.index = pd.to_datetime(bid_ask_df.index)\n",
    "bid_ask_df.head(3)"
   ]
  },
  {
   "cell_type": "code",
   "execution_count": null,
   "id": "2ad72cfe",
   "metadata": {},
   "outputs": [],
   "source": [
    "# Calculate bid-ask metrics.\n",
    "bid_ask_df = ramptran.calculate_bid_ask_statistics(bid_ask_df)\n",
    "bid_ask_df.tail(3)"
   ]
  },
  {
   "cell_type": "markdown",
   "id": "bb3d7f6e",
   "metadata": {},
   "source": [
    "## Unite VWAP, TWAP, rets statistics with bid-ask stats"
   ]
  },
  {
   "cell_type": "code",
   "execution_count": null,
   "id": "9d8633be",
   "metadata": {},
   "outputs": [],
   "source": [
    "final_df = pd.concat([vwap_twap_rets_df, bid_ask_df], axis=1)\n",
    "final_df.tail(3)"
   ]
  },
  {
   "cell_type": "code",
   "execution_count": null,
   "id": "6c87bd72",
   "metadata": {},
   "outputs": [],
   "source": [
    "# Metrics visualizations.\n",
    "final_df[\"relative_spread_bps\"].plot()"
   ]
  },
  {
   "cell_type": "markdown",
   "id": "31cee040",
   "metadata": {},
   "source": [
    "## Compute the distribution of (return - spread)"
   ]
  },
  {
   "cell_type": "code",
   "execution_count": null,
   "id": "580e2761",
   "metadata": {},
   "outputs": [],
   "source": [
    "# Choose the specific `full_symbol`.\n",
    "df_bnb = final_df.swaplevel(axis=1)[\"binance::BNB_USDT\"]\n",
    "df_bnb.head(3)"
   ]
  },
  {
   "cell_type": "code",
   "execution_count": null,
   "id": "91f5f10c",
   "metadata": {},
   "outputs": [],
   "source": [
    "# Calculate (|returns| - spread) and display descriptive stats.\n",
    "df_bnb[\"ret_spr_diff\"] = abs(df_bnb[\"close.ret_0\"]) - (\n",
    "    df_bnb[\"quoted_spread\"] / df_bnb[\"close\"]\n",
    ")\n",
    "display(df_bnb[\"ret_spr_diff\"].describe())"
   ]
  },
  {
   "cell_type": "code",
   "execution_count": null,
   "id": "b871cd65",
   "metadata": {},
   "outputs": [],
   "source": [
    "# Visualize the result\n",
    "cplonorm.plot_qq(df_bnb[\"ret_spr_diff\"])"
   ]
  },
  {
   "cell_type": "markdown",
   "id": "b8b029b8",
   "metadata": {},
   "source": [
    "# Deep dive into quantitative statistics #1805"
   ]
  },
  {
   "cell_type": "markdown",
   "id": "973fe68a",
   "metadata": {},
   "source": [
    "## How much liquidity is available at the top of the book?"
   ]
  },
  {
   "cell_type": "code",
   "execution_count": null,
   "id": "b9c058a5",
   "metadata": {},
   "outputs": [],
   "source": [
    "liquidity_stats = final_df[\"ask_value\"].median()\n",
    "display(liquidity_stats)\n",
    "cplpluti.plot_barplot(liquidity_stats)"
   ]
  },
  {
   "cell_type": "markdown",
   "id": "5c15480b",
   "metadata": {},
   "source": [
    "## Is the quoted spread constant over the day?"
   ]
  },
  {
   "cell_type": "markdown",
   "id": "312224d4",
   "metadata": {},
   "source": [
    "### One symbol"
   ]
  },
  {
   "cell_type": "code",
   "execution_count": null,
   "id": "28e1cda7",
   "metadata": {},
   "outputs": [],
   "source": [
    "full_symbol = \"binance::EOS_USDT\"\n",
    "resample_rule_stats = \"10T\"\n",
    "\n",
    "stats_df = ramptran.calculate_overtime_quantities(\n",
    "    final_df, full_symbol, resample_rule_stats\n",
    ")\n",
    "display(stats_df.head(3))"
   ]
  },
  {
   "cell_type": "markdown",
   "id": "2bcdd4c1",
   "metadata": {},
   "source": [
    "### Multiple Symbols"
   ]
  },
  {
   "cell_type": "code",
   "execution_count": null,
   "id": "fd153809",
   "metadata": {
    "run_control": {
     "marked": false
    }
   },
   "outputs": [],
   "source": [
    "full_symbols = config[\"data\"][\"full_symbols\"]\n",
    "resample_rule_stats = \"10T\"\n",
    "\n",
    "stats_df_mult_symbols = ramptran.calculate_overtime_quantities_multiple_symbols(\n",
    "    final_df, full_symbols, resample_rule_stats\n",
    ")\n",
    "display(stats_df_mult_symbols.head(3))"
   ]
  },
  {
   "cell_type": "markdown",
   "id": "24f6974c",
   "metadata": {},
   "source": [
    "## - Compute some high-level stats (e.g., median relative spread, median bid / ask notional, volatility, volume) by coins"
   ]
  },
  {
   "cell_type": "code",
   "execution_count": null,
   "id": "7cd0c43c",
   "metadata": {},
   "outputs": [],
   "source": [
    "high_level_stats = pd.DataFrame()\n",
    "high_level_stats[\"median_relative_spread\"] = final_df[\n",
    "    \"relative_spread_bps\"\n",
    "].median()\n",
    "high_level_stats[\"median_notional_bid\"] = final_df[\"bid_value\"].median()\n",
    "high_level_stats[\"median_notional_ask\"] = final_df[\"ask_value\"].median()\n",
    "high_level_stats[\"median_notional_volume\"] = (\n",
    "    final_df[\"volume\"] * final_df[\"close\"]\n",
    ").median()\n",
    "high_level_stats[\"volatility_per_period\"] = (\n",
    "    final_df[\"close.ret_0\"].std() * final_df.shape[0] ** 0.5\n",
    ")\n",
    "\n",
    "display(high_level_stats)"
   ]
  }
 ],
 "metadata": {
  "kernelspec": {
   "display_name": "Python 3 (ipykernel)",
   "language": "python",
   "name": "python3"
  },
  "language_info": {
   "codemirror_mode": {
    "name": "ipython",
    "version": 3
   },
   "file_extension": ".py",
   "mimetype": "text/x-python",
   "name": "python",
   "nbconvert_exporter": "python",
   "pygments_lexer": "ipython3"
  },
  "toc": {
   "base_numbering": 1,
   "nav_menu": {
    "height": "343px",
    "width": "160px"
   },
   "number_sections": true,
   "sideBar": true,
   "skip_h1_title": false,
   "title_cell": "Table of Contents",
   "title_sidebar": "Contents",
   "toc_cell": false,
   "toc_position": {},
   "toc_section_display": true,
   "toc_window_display": true
  }
 },
 "nbformat": 4,
 "nbformat_minor": 5
}
