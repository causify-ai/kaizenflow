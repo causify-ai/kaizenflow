{
 "cells": [
  {
   "cell_type": "markdown",
   "id": "ba7dbf40",
   "metadata": {},
   "source": [
    "# Imports"
   ]
  },
  {
   "cell_type": "code",
   "execution_count": null,
   "id": "8da5d58d",
   "metadata": {},
   "outputs": [],
   "source": [
    "# To install Yahoo API run:\n",
    "#!sudo /bin/bash -c \"(source /venv/bin/activate; pip install yfinance)\"\n",
    "import logging\n",
    "\n",
    "import pandas as pd\n",
    "import yfinance as yf\n",
    "\n",
    "import core.plotting.plotting_utils as cplpluti\n",
    "import helpers.hdbg as hdbg\n",
    "import helpers.hpandas as hpandas\n",
    "import helpers.hprint as hprint"
   ]
  },
  {
   "cell_type": "code",
   "execution_count": null,
   "id": "31e6ba0a",
   "metadata": {},
   "outputs": [],
   "source": [
    "hdbg.init_logger(verbosity=logging.INFO)\n",
    "\n",
    "_LOG = logging.getLogger(__name__)\n",
    "\n",
    "hprint.config_notebook()"
   ]
  },
  {
   "cell_type": "markdown",
   "id": "911e57a1",
   "metadata": {},
   "source": [
    "# Load the data"
   ]
  },
  {
   "cell_type": "code",
   "execution_count": null,
   "id": "1ec80894",
   "metadata": {},
   "outputs": [],
   "source": [
    "sp500_data = yf.download(\"^GSPC\", start=\"2019-01-01\", end=\"2022-05-07\")\n",
    "btc_data = yf.download(\"BTC-USD\", start=\"2019-01-01\", end=\"2022-05-07\")\n",
    "display(sp500_data.head(3))\n",
    "display(btc_data.head(3))"
   ]
  },
  {
   "cell_type": "markdown",
   "id": "63b5cde8",
   "metadata": {},
   "source": [
    "# Compute and plot returns' volatility"
   ]
  },
  {
   "cell_type": "code",
   "execution_count": null,
   "id": "bd460269",
   "metadata": {},
   "outputs": [],
   "source": [
    "cplpluti.configure_notebook_for_presentation()"
   ]
  },
  {
   "cell_type": "code",
   "execution_count": null,
   "id": "5889bc1b",
   "metadata": {},
   "outputs": [],
   "source": [
    "def get_rolling_vix_for_rets(df, price_col, lookback_in_samples):\n",
    "    srs = df[price_col].pct_change().rolling(lookback_in_samples).std()\n",
    "    return srs"
   ]
  },
  {
   "cell_type": "code",
   "execution_count": null,
   "id": "66167e08",
   "metadata": {},
   "outputs": [],
   "source": [
    "sp500_vix = get_rolling_vix_for_rets(sp500_data, \"Adj Close\", 21).rename(\n",
    "    \"SP500_Volatility\"\n",
    ")\n",
    "btc_vix = get_rolling_vix_for_rets(btc_data, \"Adj Close\", 21).rename(\n",
    "    \"BTC_Volatility\"\n",
    ")\n",
    "df = pd.concat([sp500_vix, btc_vix], axis=1)\n",
    "df = hpandas.dropna(df, report_stats=True)\n",
    "display(df.head(3))\n",
    "df.plot(figsize=(20, 5))"
   ]
  },
  {
   "cell_type": "code",
   "execution_count": null,
   "id": "d32f2107",
   "metadata": {},
   "outputs": [],
   "source": [
    "# General mean value of volatility for a given period.\n",
    "general_vix = pd.DataFrame()\n",
    "general_vix.loc[\n",
    "    \"S&P 500\", \"Returns Volatility for given period\"\n",
    "] = sp500_vix.mean()\n",
    "general_vix.loc[\"BTC\", \"Returns Volatility for given period\"] = btc_vix.mean()\n",
    "display(general_vix)\n",
    "cplpluti.plot_barplot(\n",
    "    general_vix[\"Returns Volatility for given period\"], title=\"Returns Volatility\"\n",
    ")"
   ]
  }
 ],
 "metadata": {
  "kernelspec": {
   "display_name": "Python 3 (ipykernel)",
   "language": "python",
   "name": "python3"
  },
  "language_info": {
   "codemirror_mode": {
    "name": "ipython",
    "version": 3
   },
   "file_extension": ".py",
   "mimetype": "text/x-python",
   "name": "python",
   "nbconvert_exporter": "python",
   "pygments_lexer": "ipython3"
  },
  "toc": {
   "base_numbering": 1,
   "nav_menu": {},
   "number_sections": true,
   "sideBar": true,
   "skip_h1_title": false,
   "title_cell": "Table of Contents",
   "title_sidebar": "Contents",
   "toc_cell": false,
   "toc_position": {},
   "toc_section_display": true,
   "toc_window_display": false
  }
 },
 "nbformat": 4,
 "nbformat_minor": 5
}
