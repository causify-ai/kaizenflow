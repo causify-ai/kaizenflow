{
 "cells": [
  {
   "cell_type": "markdown",
   "id": "58d76abe",
   "metadata": {},
   "source": [
    "# Imports"
   ]
  },
  {
   "cell_type": "code",
   "execution_count": null,
   "id": "90d2298b",
   "metadata": {},
   "outputs": [],
   "source": [
    "import logging\n",
    "import os\n",
    "\n",
    "import pandas as pd\n",
    "\n",
    "import core.config.config_ as cconconf\n",
    "import core.finance as cofinanc\n",
    "import dataflow.core as dtfcore\n",
    "import dataflow.system.source_nodes as dtfsysonod\n",
    "import helpers.hdbg as hdbg\n",
    "import helpers.hprint as hprint\n",
    "import helpers.hsql as hsql\n",
    "import im_v2.ccxt.data.client as icdcl\n",
    "import im_v2.im_lib_tasks as imvimlita\n",
    "\n",
    "import im_v2.talos.data.client.talos_clients as imvtdctacl"
   ]
  },
  {
   "cell_type": "code",
   "execution_count": null,
   "id": "feb220a4",
   "metadata": {},
   "outputs": [],
   "source": [
    "hdbg.init_logger(verbosity=logging.INFO)\n",
    "\n",
    "_LOG = logging.getLogger(__name__)\n",
    "\n",
    "hprint.config_notebook()"
   ]
  },
  {
   "cell_type": "markdown",
   "id": "eea446ce",
   "metadata": {},
   "source": [
    "# Config"
   ]
  },
  {
   "cell_type": "code",
   "execution_count": null,
   "id": "3f0680e4",
   "metadata": {},
   "outputs": [],
   "source": [
    "def get_cmtask1704_config_ccxt() -> cconconf.Config:\n",
    "    \"\"\"\n",
    "    Get config, that specifies params for getting raw data.\n",
    "    \"\"\"\n",
    "    config = cconconf.Config()\n",
    "    # Load parameters.\n",
    "    config.add_subconfig(\"load\")\n",
    "    env_file = imvimlita.get_db_env_path(\"dev\")\n",
    "    connection_params = hsql.get_connection_info_from_env_file(env_file)\n",
    "    config[\"load\"][\"connection\"] = hsql.get_connection(*connection_params)\n",
    "    config[\"load\"][\"aws_profile\"] = \"ck\"\n",
    "    config[\"load\"][\"data_dir_hist\"] = os.path.join(\n",
    "        \"s3://cryptokaizen-data\", \"historical\"\n",
    "    )\n",
    "    config[\"load\"][\"data_snapshot\"] = \"latest\"\n",
    "    config[\"load\"][\"partition_mode\"] = \"by_year_month\"\n",
    "    # Data parameters.\n",
    "    config.add_subconfig(\"data\")\n",
    "    config[\"data\"][\"vendor\"] = \"CCXT\"\n",
    "    # Data range for real-time data.\n",
    "    config[\"data\"][\"start_date_rt\"] = pd.Timestamp(\"2022-04-01\", tz=\"UTC\")\n",
    "    config[\"data\"][\"end_date_rt\"] = pd.Timestamp(\"2022-04-15\", tz=\"UTC\")\n",
    "    # Data range for historical data.\n",
    "    config[\"data\"][\"start_date_hist\"] = pd.Timestamp(\"2022-01-01\", tz=\"UTC\")\n",
    "    config[\"data\"][\"end_date_hist\"] = pd.Timestamp(\"2022-01-15\", tz=\"UTC\")\n",
    "    # Transformation parameters.\n",
    "    config.add_subconfig(\"transform\")\n",
    "    config[\"transform\"][\"resampling_rule\"] = \"5T\"\n",
    "    config[\"transform\"][\"rets_type\"] = \"pct_change\"\n",
    "    return config"
   ]
  },
  {
   "cell_type": "code",
   "execution_count": null,
   "id": "58dae195",
   "metadata": {},
   "outputs": [],
   "source": [
    "config = get_cmtask1704_config_ccxt()\n",
    "print(config)"
   ]
  },
  {
   "cell_type": "markdown",
   "id": "4d9eef66",
   "metadata": {},
   "source": [
    "# Functions"
   ]
  },
  {
   "cell_type": "code",
   "execution_count": null,
   "id": "340a263b",
   "metadata": {},
   "outputs": [],
   "source": [
    "def calculate_vwap_twap(df: pd.DataFrame, resampling_rule: str) -> pd.DataFrame:\n",
    "    \"\"\"\n",
    "    Resample the data and calculate VWAP, TWAP using DataFlow methods.\n",
    "\n",
    "    :param df: Raw data\n",
    "    :param resampling_rule: Desired resampling frequency\n",
    "    :return: Resampled multiindex DataFrame with computed metrics\n",
    "    \"\"\"\n",
    "    # Configure the node to do the TWAP / VWAP resampling.\n",
    "    node_resampling_config = {\n",
    "        \"in_col_groups\": [\n",
    "            (\"close\",),\n",
    "            (\"volume\",),\n",
    "        ],\n",
    "        \"out_col_group\": (),\n",
    "        \"transformer_kwargs\": {\n",
    "            \"rule\": resampling_rule,\n",
    "            \"resampling_groups\": [\n",
    "                ({\"close\": \"close\"}, \"last\", {}),\n",
    "                (\n",
    "                    {\n",
    "                        \"close\": \"twap\",\n",
    "                    },\n",
    "                    \"mean\",\n",
    "                    {},\n",
    "                ),\n",
    "                (\n",
    "                    {\n",
    "                        \"volume\": \"volume\",\n",
    "                    },\n",
    "                    \"sum\",\n",
    "                    {\"min_count\": 1},\n",
    "                ),\n",
    "            ],\n",
    "            \"vwap_groups\": [\n",
    "                (\"close\", \"volume\", \"vwap\"),\n",
    "            ],\n",
    "        },\n",
    "        \"reindex_like_input\": False,\n",
    "        \"join_output_with_input\": False,\n",
    "    }\n",
    "    # Put the data in the DataFlow format (which is multi-index).\n",
    "    converted_data = dtfsysonod._convert_to_multiindex(df, \"full_symbol\")\n",
    "    # Create the node.\n",
    "    nid = \"resample\"\n",
    "    node = dtfcore.GroupedColDfToDfTransformer(\n",
    "        nid,\n",
    "        transformer_func=cofinanc.resample_bars,\n",
    "        **node_resampling_config,\n",
    "    )\n",
    "    # Compute the node on the data.\n",
    "    vwap_twap = node.fit(converted_data)\n",
    "    # Save the result.\n",
    "    vwap_twap_df = vwap_twap[\"df_out\"]\n",
    "    return vwap_twap_df"
   ]
  },
  {
   "cell_type": "code",
   "execution_count": null,
   "id": "47f306bb",
   "metadata": {},
   "outputs": [],
   "source": [
    "def calculate_returns(df: pd.DataFrame, rets_type: str) -> pd.DataFrame:\n",
    "    \"\"\"\n",
    "    Compute returns on the resampled data DataFlow-style.\n",
    "\n",
    "    :param df: Resampled multiindex DataFrame\n",
    "    :param rets_type: i.e., \"log_rets\" or \"pct_change\"\n",
    "    :return: The same DataFrame but with attached columns with returns\n",
    "    \"\"\"\n",
    "    # Configure the node to calculate the returns.\n",
    "    node_returns_config = {\n",
    "        \"in_col_groups\": [\n",
    "            (\"close\",),\n",
    "            (\"vwap\",),\n",
    "            (\"twap\",),\n",
    "        ],\n",
    "        \"out_col_group\": (),\n",
    "        \"transformer_kwargs\": {\n",
    "            \"mode\": rets_type,\n",
    "        },\n",
    "        \"col_mapping\": {\n",
    "            \"close\": \"close.ret_0\",\n",
    "            \"vwap\": \"vwap.ret_0\",\n",
    "            \"twap\": \"twap.ret_0\",\n",
    "        },\n",
    "    }\n",
    "    # Create the node that computes ret_0.\n",
    "    nid = \"ret0\"\n",
    "    node = dtfcore.GroupedColDfToDfTransformer(\n",
    "        nid,\n",
    "        transformer_func=cofinanc.compute_ret_0,\n",
    "        **node_returns_config,\n",
    "    )\n",
    "    # Compute the node on the data.\n",
    "    rets = node.fit(df)\n",
    "    # Save the result.\n",
    "    rets_df = rets[\"df_out\"]\n",
    "    return rets_df"
   ]
  },
  {
   "cell_type": "markdown",
   "id": "9b068ea0",
   "metadata": {},
   "source": [
    "# Load the data"
   ]
  },
  {
   "cell_type": "markdown",
   "id": "e277d53a",
   "metadata": {},
   "source": [
    "## CCXT"
   ]
  },
  {
   "cell_type": "markdown",
   "id": "53c93b8a",
   "metadata": {},
   "source": [
    "### Real-time"
   ]
  },
  {
   "cell_type": "code",
   "execution_count": null,
   "id": "635e3592",
   "metadata": {},
   "outputs": [],
   "source": [
    "# Specify params.\n",
    "vendor = config[\"data\"][\"vendor\"]\n",
    "resample_1min = True\n",
    "connection = config[\"load\"][\"connection\"]\n",
    "# Initiate the client.\n",
    "ccxt_rt_client = icdcl.CcxtCddDbClient(vendor, resample_1min, connection)"
   ]
  },
  {
   "cell_type": "markdown",
   "id": "356fa832",
   "metadata": {},
   "source": [
    "#### Universe"
   ]
  },
  {
   "cell_type": "code",
   "execution_count": null,
   "id": "9071c99b",
   "metadata": {},
   "outputs": [],
   "source": [
    "# Specify the universe.\n",
    "rt_universe_ccxt = ccxt_rt_client.get_universe()\n",
    "len(rt_universe_ccxt)"
   ]
  },
  {
   "cell_type": "code",
   "execution_count": null,
   "id": "832524d5",
   "metadata": {},
   "outputs": [],
   "source": [
    "# Choose cc for analysis.\n",
    "full_symbols = rt_universe_ccxt[0:2]\n",
    "full_symbols"
   ]
  },
  {
   "cell_type": "markdown",
   "id": "76838ec6",
   "metadata": {},
   "source": [
    "#### Data Loader"
   ]
  },
  {
   "cell_type": "code",
   "execution_count": null,
   "id": "7151263b",
   "metadata": {},
   "outputs": [],
   "source": [
    "# Specify time period.\n",
    "start_date = config[\"data\"][\"start_date_rt\"]\n",
    "end_date = config[\"data\"][\"end_date_rt\"]\n",
    "\n",
    "# Load the data.\n",
    "data_rt_ccxt = ccxt_rt_client.read_data(full_symbols, start_date, end_date)\n",
    "display(data_rt_ccxt.shape)\n",
    "display(data_rt_ccxt.head(3))"
   ]
  },
  {
   "cell_type": "markdown",
   "id": "484e253a",
   "metadata": {},
   "source": [
    "### Historical"
   ]
  },
  {
   "cell_type": "code",
   "execution_count": null,
   "id": "0ce8e4bf",
   "metadata": {},
   "outputs": [],
   "source": [
    "# Specify params.\n",
    "resample_1min = True\n",
    "root_dir = config[\"load\"][\"data_dir_hist\"]\n",
    "partition_mode = config[\"load\"][\"partition_mode\"]\n",
    "data_snapshot = config[\"load\"][\"data_snapshot\"]\n",
    "aws_profile = config[\"load\"][\"aws_profile\"]\n",
    "\n",
    "# Initiate the client.\n",
    "historical_client_ccxt = icdcl.CcxtHistoricalPqByTileClient(\n",
    "    resample_1min,\n",
    "    root_dir,\n",
    "    partition_mode,\n",
    "    data_snapshot=data_snapshot,\n",
    "    aws_profile=aws_profile,\n",
    ")"
   ]
  },
  {
   "cell_type": "markdown",
   "id": "b88e66e0",
   "metadata": {},
   "source": [
    "#### Universe"
   ]
  },
  {
   "cell_type": "code",
   "execution_count": null,
   "id": "b5bb1a7f",
   "metadata": {},
   "outputs": [],
   "source": [
    "# Specify the universe.\n",
    "historical_universe = historical_client_ccxt.get_universe()\n",
    "len(historical_universe)"
   ]
  },
  {
   "cell_type": "code",
   "execution_count": null,
   "id": "a68ba551",
   "metadata": {},
   "outputs": [],
   "source": [
    "# Choose cc for analysis.\n",
    "full_symbols = historical_universe[0:2]\n",
    "full_symbols"
   ]
  },
  {
   "cell_type": "markdown",
   "id": "4b0589b9",
   "metadata": {},
   "source": [
    "#### Data Loader"
   ]
  },
  {
   "cell_type": "code",
   "execution_count": null,
   "id": "61fcaa63",
   "metadata": {},
   "outputs": [],
   "source": [
    "# Specify time period.\n",
    "start_date = config[\"data\"][\"start_date_hist\"]\n",
    "end_date = config[\"data\"][\"end_date_hist\"]\n",
    "\n",
    "# Load the data.\n",
    "data_hist_ccxt = historical_client_ccxt.read_data(full_symbols, start_date, end_date)\n",
    "display(data_hist_ccxt.shape)\n",
    "display(data_hist_ccxt.head(3))"
   ]
  },
  {
   "cell_type": "markdown",
   "id": "d1b368db",
   "metadata": {},
   "source": [
    "## Talos"
   ]
  },
  {
   "cell_type": "markdown",
   "id": "35ae20bb",
   "metadata": {},
   "source": [
    "### Real-time"
   ]
  },
  {
   "cell_type": "code",
   "execution_count": null,
   "id": "8e0645ca",
   "metadata": {},
   "outputs": [],
   "source": [
    "# Specify params.\n",
    "resample_1min = True\n",
    "db_connection = config[\"load\"][\"connection\"]\n",
    "table_name = \"talos_ohlcv\"\n",
    "\n",
    "talos_rt_client = imvtdctacl.RealTimeSqlTalosClient(\n",
    "resample_1min,\n",
    "db_connection,\n",
    "table_name)"
   ]
  },
  {
   "cell_type": "markdown",
   "id": "44840516",
   "metadata": {},
   "source": [
    "#### Universe"
   ]
  },
  {
   "cell_type": "code",
   "execution_count": null,
   "id": "a502b26d",
   "metadata": {},
   "outputs": [],
   "source": [
    "# Specify the universe.\n",
    "rt_universe_talos = sorted(talos_rt_client.get_universe())\n",
    "len(rt_universe_talos)"
   ]
  },
  {
   "cell_type": "code",
   "execution_count": null,
   "id": "7d4b8531",
   "metadata": {},
   "outputs": [],
   "source": [
    "# Choose cc for analysis.\n",
    "full_symbols = rt_universe_talos[0:2]\n",
    "full_symbols"
   ]
  },
  {
   "cell_type": "markdown",
   "id": "9ac5750d",
   "metadata": {},
   "source": [
    "#### Data Loader"
   ]
  },
  {
   "cell_type": "code",
   "execution_count": null,
   "id": "f433ef8e",
   "metadata": {},
   "outputs": [],
   "source": [
    "# Specify the period.\n",
    "start_date = config[\"data\"][\"start_date_rt\"]\n",
    "end_date = config[\"data\"][\"end_date_rt\"]\n",
    "\n",
    "# Load the data.\n",
    "data_rt_talos = talos_rt_client.read_data(\n",
    "full_symbols,\n",
    "start_date,\n",
    "end_date)\n",
    "display(data_rt_talos.shape)\n",
    "display(data_rt_talos.head(3))"
   ]
  },
  {
   "cell_type": "markdown",
   "id": "4d66d87e",
   "metadata": {},
   "source": [
    "### Historical"
   ]
  },
  {
   "cell_type": "code",
   "execution_count": null,
   "id": "640d91c1",
   "metadata": {},
   "outputs": [],
   "source": [
    "# Specify params.\n",
    "resample_1min = True\n",
    "root_dir = config[\"load\"][\"data_dir_hist\"]\n",
    "partition_mode = config[\"load\"][\"partition_mode\"]\n",
    "data_snapshot = config[\"load\"][\"data_snapshot\"]\n",
    "aws_profile = config[\"load\"][\"aws_profile\"]\n",
    "\n",
    "talos_hist_client = imvtdctacl.TalosHistoricalPqByTileClient(\n",
    "resample_1min,\n",
    "root_dir,\n",
    "partition_mode,\n",
    "data_snapshot=data_snapshot,\n",
    "aws_profile=aws_profile)"
   ]
  },
  {
   "cell_type": "markdown",
   "id": "4720f426",
   "metadata": {},
   "source": [
    "#### Universe"
   ]
  },
  {
   "cell_type": "code",
   "execution_count": null,
   "id": "2d0cbd5b",
   "metadata": {},
   "outputs": [],
   "source": [
    "# Specify the universe.\n",
    "hist_universe_talos = talos_hist_client.get_universe()\n",
    "len(hist_universe_talos)"
   ]
  },
  {
   "cell_type": "code",
   "execution_count": null,
   "id": "927e1b50",
   "metadata": {},
   "outputs": [],
   "source": [
    "# Choose cc for analysis.\n",
    "full_symbols_hist_talos = hist_universe_talos[0:2]\n",
    "full_symbols_hist_talos"
   ]
  },
  {
   "cell_type": "markdown",
   "id": "6a7a762d",
   "metadata": {},
   "source": [
    "#### Data Loader"
   ]
  },
  {
   "cell_type": "code",
   "execution_count": null,
   "id": "efc413c4",
   "metadata": {},
   "outputs": [],
   "source": [
    "# Specify the period.\n",
    "start_date = config[\"data\"][\"start_date_hist\"]\n",
    "end_date = config[\"data\"][\"end_date_hist\"]\n",
    "\n",
    "# Load the data.\n",
    "data_hist_talos = talos_hist_client.read_data(\n",
    "    full_symbols_hist_talos,\n",
    "    start_date,\n",
    "    end_date\n",
    ")\n",
    "# Hardcoded solution to convert OHLCV to the 'float' type for the further use.\n",
    "for cols in data_hist_talos.columns[1:]:\n",
    "    data_hist_talos[cols] = data_hist_talos[cols].astype(float)\n",
    "# Show the data.\n",
    "display(data_hist_talos.shape)\n",
    "display(data_hist_talos.head(3))"
   ]
  },
  {
   "cell_type": "markdown",
   "id": "fbccce83",
   "metadata": {},
   "source": [
    "# Calculate VWAP, TWAP and returns in `Dataflow` style"
   ]
  },
  {
   "cell_type": "markdown",
   "id": "dc305d6c",
   "metadata": {},
   "source": [
    "## CCXT"
   ]
  },
  {
   "cell_type": "code",
   "execution_count": null,
   "id": "d0f8eb0c",
   "metadata": {},
   "outputs": [],
   "source": [
    "# VWAP, TWAP transformation.\n",
    "resampling_rule = config[\"transform\"][\"resampling_rule\"]\n",
    "vwap_twap_df = calculate_vwap_twap(data_hist_ccxt, resampling_rule)\n",
    "\n",
    "# Returns calculation.\n",
    "rets_type = config[\"transform\"][\"rets_type\"]\n",
    "vwap_twap_rets_df = calculate_returns(vwap_twap_df, rets_type)"
   ]
  },
  {
   "cell_type": "code",
   "execution_count": null,
   "id": "aa23e95f",
   "metadata": {},
   "outputs": [],
   "source": [
    "# Show the snippet.\n",
    "vwap_twap_rets_df.head(3)"
   ]
  },
  {
   "cell_type": "code",
   "execution_count": null,
   "id": "556c808e",
   "metadata": {},
   "outputs": [],
   "source": [
    "# Stats and vizualisation to check the outcomes.\n",
    "ada_ex = vwap_twap_rets_df.swaplevel(axis=1)\n",
    "ada_ex = ada_ex[\"binance::ADA_USDT\"][[\"close.ret_0\", \"twap.ret_0\", \"vwap.ret_0\"]]\n",
    "display(ada_ex.corr())\n",
    "ada_ex.plot()"
   ]
  },
  {
   "cell_type": "markdown",
   "id": "c9b75281",
   "metadata": {},
   "source": [
    "## Talos"
   ]
  },
  {
   "cell_type": "code",
   "execution_count": null,
   "id": "0e7c262d",
   "metadata": {},
   "outputs": [],
   "source": [
    "# VWAP, TWAP transformation.\n",
    "resampling_rule = config[\"transform\"][\"resampling_rule\"]\n",
    "vwap_twap_df_talos = calculate_vwap_twap(data_hist_talos, resampling_rule)\n",
    "\n",
    "# Returns calculation.\n",
    "rets_type = config[\"transform\"][\"rets_type\"]\n",
    "vwap_twap_rets_df_talos = calculate_returns(vwap_twap_df_talos, rets_type)"
   ]
  },
  {
   "cell_type": "code",
   "execution_count": null,
   "id": "278f7695",
   "metadata": {},
   "outputs": [],
   "source": [
    "# Show the snippet.\n",
    "vwap_twap_rets_df_talos.head(3)"
   ]
  },
  {
   "cell_type": "code",
   "execution_count": null,
   "id": "1aa3b7fd",
   "metadata": {},
   "outputs": [],
   "source": [
    "# Stats and vizualisation to check the outcomes.\n",
    "ada_ex = vwap_twap_rets_df_talos.swaplevel(axis=1)\n",
    "ada_ex = ada_ex[\"binance::ADA_USDT\"][[\"close.ret_0\", \"twap.ret_0\", \"vwap.ret_0\"]]\n",
    "display(ada_ex.corr())\n",
    "ada_ex.plot()"
   ]
  }
 ],
 "metadata": {
  "kernelspec": {
   "display_name": "Python 3 (ipykernel)",
   "language": "python",
   "name": "python3"
  },
  "language_info": {
   "codemirror_mode": {
    "name": "ipython",
    "version": 3
   },
   "file_extension": ".py",
   "mimetype": "text/x-python",
   "name": "python",
   "nbconvert_exporter": "python",
   "pygments_lexer": "ipython3"
  },
  "toc": {
   "base_numbering": 1,
   "nav_menu": {},
   "number_sections": true,
   "sideBar": true,
   "skip_h1_title": false,
   "title_cell": "Table of Contents",
   "title_sidebar": "Contents",
   "toc_cell": false,
   "toc_position": {},
   "toc_section_display": true,
   "toc_window_display": false
  }
 },
 "nbformat": 4,
 "nbformat_minor": 5
}
