{
 "cells": [
  {
   "cell_type": "markdown",
   "id": "58d76abe",
   "metadata": {},
   "source": [
    "# Imports"
   ]
  },
  {
   "cell_type": "code",
   "execution_count": null,
   "id": "90d2298b",
   "metadata": {},
   "outputs": [],
   "source": [
    "import logging\n",
    "import os\n",
    "\n",
    "import numpy as np\n",
    "import pandas as pd\n",
    "\n",
    "import core.config.config_ as cconconf\n",
    "import core.finance.resampling as cfinresa\n",
    "import core.finance.returns as cfinretu\n",
    "import helpers.hdbg as hdbg\n",
    "import helpers.hprint as hprint\n",
    "import helpers.hsql as hsql\n",
    "import im_v2.ccxt.data.client as icdcl\n",
    "import im_v2.im_lib_tasks as imvimlita"
   ]
  },
  {
   "cell_type": "code",
   "execution_count": null,
   "id": "feb220a4",
   "metadata": {},
   "outputs": [],
   "source": [
    "hdbg.init_logger(verbosity=logging.INFO)\n",
    "\n",
    "_LOG = logging.getLogger(__name__)\n",
    "\n",
    "hprint.config_notebook()"
   ]
  },
  {
   "cell_type": "markdown",
   "id": "eea446ce",
   "metadata": {},
   "source": [
    "# Config"
   ]
  },
  {
   "cell_type": "code",
   "execution_count": null,
   "id": "3f0680e4",
   "metadata": {},
   "outputs": [],
   "source": [
    "def get_cmtask1704_config_ccxt() -> cconconf.Config:\n",
    "    \"\"\"\n",
    "    Get config, that specifies params for getting raw data.\n",
    "    \"\"\"\n",
    "    config = cconconf.Config()\n",
    "    # Load parameters.\n",
    "    config.add_subconfig(\"load\")\n",
    "    env_file = imvimlita.get_db_env_path(\"dev\")\n",
    "    connection_params = hsql.get_connection_info_from_env_file(env_file)\n",
    "    config[\"load\"][\"connection\"] = hsql.get_connection(*connection_params)\n",
    "    config[\"load\"][\"aws_profile\"] = \"ck\"\n",
    "    config[\"load\"][\"data_dir_hist\"] = os.path.join(\n",
    "        \"s3://cryptokaizen-data\", \"historical\"\n",
    "    )\n",
    "    config[\"load\"][\"data_snapshot\"] = \"latest\"\n",
    "    config[\"load\"][\"partition_mode\"] = \"by_year_month\"\n",
    "    # Data parameters.\n",
    "    config.add_subconfig(\"data\")\n",
    "    config[\"data\"][\"vendor\"] = \"CCXT\"\n",
    "    config[\"data\"][\"start_date\"] = pd.Timestamp(\"2022-04-01\", tz=\"UTC\")\n",
    "    config[\"data\"][\"end_date\"] = pd.Timestamp(\"2022-04-15\", tz=\"UTC\")\n",
    "    return config"
   ]
  },
  {
   "cell_type": "code",
   "execution_count": null,
   "id": "58dae195",
   "metadata": {},
   "outputs": [],
   "source": [
    "config = get_cmtask1704_config_ccxt()\n",
    "print(config)"
   ]
  },
  {
   "cell_type": "markdown",
   "id": "9b068ea0",
   "metadata": {},
   "source": [
    "# Load the data"
   ]
  },
  {
   "cell_type": "markdown",
   "id": "53c93b8a",
   "metadata": {},
   "source": [
    "## Real-time"
   ]
  },
  {
   "cell_type": "code",
   "execution_count": null,
   "id": "635e3592",
   "metadata": {},
   "outputs": [],
   "source": [
    "# Specify params.\n",
    "vendor = config[\"data\"][\"vendor\"]\n",
    "resample_1min = True\n",
    "connection = config[\"load\"][\"connection\"]\n",
    "# Initiate the client.\n",
    "ccxt_rt_client = icdcl.CcxtCddDbClient(vendor, resample_1min, connection)"
   ]
  },
  {
   "cell_type": "markdown",
   "id": "356fa832",
   "metadata": {},
   "source": [
    "### Universe"
   ]
  },
  {
   "cell_type": "code",
   "execution_count": null,
   "id": "9071c99b",
   "metadata": {},
   "outputs": [],
   "source": [
    "# Specify the universe.\n",
    "rt_universe = ccxt_rt_client.get_universe()\n",
    "len(rt_universe)"
   ]
  },
  {
   "cell_type": "code",
   "execution_count": null,
   "id": "832524d5",
   "metadata": {},
   "outputs": [],
   "source": [
    "# Choose cc for analysis.\n",
    "full_symbols = rt_universe[0:2]\n",
    "full_symbols"
   ]
  },
  {
   "cell_type": "markdown",
   "id": "76838ec6",
   "metadata": {},
   "source": [
    "### Data Loader"
   ]
  },
  {
   "cell_type": "code",
   "execution_count": null,
   "id": "7151263b",
   "metadata": {},
   "outputs": [],
   "source": [
    "# Specify time period.\n",
    "start_date = config[\"data\"][\"start_date\"]\n",
    "end_date = config[\"data\"][\"end_date\"]\n",
    "\n",
    "# Load the data.\n",
    "data = ccxt_rt_client.read_data(full_symbols, start_date, end_date)\n",
    "display(data.shape)\n",
    "display(data.head(3))"
   ]
  },
  {
   "cell_type": "markdown",
   "id": "484e253a",
   "metadata": {},
   "source": [
    "## Historical"
   ]
  },
  {
   "cell_type": "code",
   "execution_count": null,
   "id": "0ce8e4bf",
   "metadata": {},
   "outputs": [],
   "source": [
    "# Specify params.\n",
    "resample_1min = True\n",
    "root_dir = config[\"load\"][\"data_dir_hist\"]\n",
    "partition_mode = config[\"load\"][\"partition_mode\"]\n",
    "data_snapshot = config[\"load\"][\"data_snapshot\"]\n",
    "aws_profile = config[\"load\"][\"aws_profile\"]\n",
    "\n",
    "# Initiate the client.\n",
    "historical_client = icdcl.CcxtHistoricalPqByTileClient(\n",
    "    resample_1min,\n",
    "    root_dir,\n",
    "    partition_mode,\n",
    "    data_snapshot=data_snapshot,\n",
    "    aws_profile=aws_profile,\n",
    ")"
   ]
  },
  {
   "cell_type": "markdown",
   "id": "b88e66e0",
   "metadata": {},
   "source": [
    "### Universe"
   ]
  },
  {
   "cell_type": "code",
   "execution_count": null,
   "id": "b5bb1a7f",
   "metadata": {},
   "outputs": [],
   "source": [
    "# Specify the universe.\n",
    "historical_universe = historical_client.get_universe()\n",
    "len(historical_universe)"
   ]
  },
  {
   "cell_type": "code",
   "execution_count": null,
   "id": "a68ba551",
   "metadata": {},
   "outputs": [],
   "source": [
    "# Choose cc for analysis.\n",
    "full_symbols = historical_universe[0:2]\n",
    "full_symbols"
   ]
  },
  {
   "cell_type": "markdown",
   "id": "4b0589b9",
   "metadata": {},
   "source": [
    "### Data Loader"
   ]
  },
  {
   "cell_type": "code",
   "execution_count": null,
   "id": "61fcaa63",
   "metadata": {},
   "outputs": [],
   "source": [
    "# Specify time period.\n",
    "start_date = pd.Timestamp(\"2021-09-01\", tz=\"UTC\")\n",
    "end_date = pd.Timestamp(\"2021-09-15\", tz=\"UTC\")\n",
    "\n",
    "# Load the data.\n",
    "data_hist = historical_client.read_data(full_symbols, start_date, end_date)\n",
    "display(data_hist.shape)\n",
    "display(data_hist.head(3))"
   ]
  },
  {
   "cell_type": "markdown",
   "id": "2095125d",
   "metadata": {},
   "source": [
    "# Resample and calculate TWAP, VWAP"
   ]
  },
  {
   "cell_type": "markdown",
   "id": "b0eb2e49",
   "metadata": {},
   "source": [
    "Here, I want to propose two versions of calculating VWAP and TWAP using the method that is already exists - `compute_twap_vwap()`.\n",
    "\n",
    "Note: I am aware of some already existing resampling functions, however, due to the format of the data, they are not completely relevant for the mixed data where groupby methods are needed.\n",
    "\n",
    "However, this method returns only VWAP, TWAP columns, so we also need to attach OHLCV data to them as well as adjust timestamps to the closed bars.\n",
    "\n",
    "Due to the complexity of calculations, I came up with two options:\n",
    "1) First, calculate VWAP, TWAP, then resample and attach OHLCV data\n",
    "\n",
    "2) First, resample OHLCV data, then calculate and attach VWAP, TWAP"
   ]
  },
  {
   "cell_type": "code",
   "execution_count": null,
   "id": "2fe653dc",
   "metadata": {},
   "outputs": [],
   "source": [
    "# For this draft let's put the resampling frequency equals to 5 mins (of course, it can be customized to any value)\n",
    "resampling_freq = 5"
   ]
  },
  {
   "cell_type": "markdown",
   "id": "fad35115",
   "metadata": {},
   "source": [
    "## Version 1"
   ]
  },
  {
   "cell_type": "markdown",
   "id": "cc4c09d2",
   "metadata": {},
   "source": [
    "- Resample and attach OHLCV data\n",
    "- Calculate vwap, twap on the basis of previously resampled data"
   ]
  },
  {
   "cell_type": "code",
   "execution_count": null,
   "id": "1f38ddac",
   "metadata": {},
   "outputs": [],
   "source": [
    "def resampling_func_v1(df, freq):\n",
    "    \"\"\"\n",
    "    Group by `full_symbols` and resample to the desired timing.\n",
    "\n",
    "    :param df: Initial OHLCV data for cc\n",
    "    :param freq: Desired resampling frequency (in minutes)\n",
    "    :return: Grouped and resampled cc OHLCV data\n",
    "    \"\"\"\n",
    "    # Shift timestamps to indicate the end of the bar in the initial data.\n",
    "    df = df.shift(1, freq=\"T\")\n",
    "    # Construct the resampling frequency.\n",
    "    resampling_freq = f\"{freq}min\"\n",
    "    # Create a resampler that takes data for each `full_symbol` and resample it to the given time.\n",
    "    resampler = df.reset_index().groupby(\n",
    "        [\n",
    "            \"full_symbol\",\n",
    "            pd.Grouper(key=\"timestamp\", freq=resampling_freq, closed=\"right\"),\n",
    "        ]\n",
    "    )\n",
    "    # Organize OHLCV values according to the resampler.\n",
    "    new_df = resampler.agg(\n",
    "        {\n",
    "            \"open\": \"first\",\n",
    "            \"high\": \"max\",\n",
    "            \"low\": \"min\",\n",
    "            \"close\": \"last\",\n",
    "            \"volume\": \"sum\",\n",
    "        }\n",
    "    )\n",
    "    # Shift timestamps to indicate the end of the bar in the resampled data.\n",
    "    new_df = new_df.reset_index(\"full_symbol\").shift(freq, freq=\"T\")\n",
    "    return new_df"
   ]
  },
  {
   "cell_type": "code",
   "execution_count": null,
   "id": "8b221a36",
   "metadata": {},
   "outputs": [],
   "source": [
    "def calculate_twap_vwap_v1(cc_df, res_rule):\n",
    "    \"\"\"\n",
    "    :param cc_df: Grouped and resampled cc OHLCV data form `resampling_func()`\n",
    "    :param res_rule: Desired resampling frequency (same as in `resampling_func()`)\n",
    "    :return: Resampled data with TWAP and VWAP values\n",
    "    \"\"\"\n",
    "    # Supported variables.\n",
    "    result = []\n",
    "    full_symbols = cc_df[\"full_symbol\"].unique()\n",
    "    # Calculate TWAP and VWAP for each `full_symbol`\n",
    "    for cc in full_symbols:\n",
    "        df = cc_df[cc_df[\"full_symbol\"] == cc]\n",
    "        df = pd.concat(\n",
    "            [\n",
    "                df,\n",
    "                cfinresa.compute_twap_vwap(\n",
    "                    df, f\"{res_rule}T\", price_col=\"close\", volume_col=\"volume\"\n",
    "                ),\n",
    "            ],\n",
    "            axis=1,\n",
    "        )\n",
    "        result.append(df)\n",
    "    # Collect the results into a single dataframe.\n",
    "    twap_vwap_df = pd.concat(result)\n",
    "    return twap_vwap_df"
   ]
  },
  {
   "cell_type": "code",
   "execution_count": null,
   "id": "49cf5762",
   "metadata": {},
   "outputs": [],
   "source": [
    "resampled_v1 = resampling_func_v1(data, resampling_freq)\n",
    "resampled_v1.head(3)"
   ]
  },
  {
   "cell_type": "code",
   "execution_count": null,
   "id": "43128a24",
   "metadata": {},
   "outputs": [],
   "source": [
    "twap_vwap_v1 = calculate_twap_vwap_v1(resampled_v1, resampling_freq)\n",
    "twap_vwap_v1.head(3)"
   ]
  },
  {
   "cell_type": "markdown",
   "id": "55b59051",
   "metadata": {},
   "source": [
    "## Version 2"
   ]
  },
  {
   "cell_type": "markdown",
   "id": "b2e3913b",
   "metadata": {},
   "source": [
    "- Calculate vwap, twap on the basis of the initial data\n",
    "- Resample and attach OHLCV data"
   ]
  },
  {
   "cell_type": "code",
   "execution_count": null,
   "id": "28cb1166",
   "metadata": {},
   "outputs": [],
   "source": [
    "def calculate_twap_vwap_v2(cc_df, res_rule):\n",
    "    \"\"\"\n",
    "    :param cc_df: Initial OHLCV data\n",
    "    :param res_rule: Desired resampling frequency\n",
    "    :return: Resampled timestamps with TWAP and VWAP values\n",
    "    \"\"\"\n",
    "    # Supported variables.\n",
    "    result = []\n",
    "    full_symbols = cc_df[\"full_symbol\"].unique()\n",
    "    # Calculate TWAP and VWAP for each `full_symbol`\n",
    "    for cc in full_symbols:\n",
    "        df = cc_df[cc_df[\"full_symbol\"] == cc]\n",
    "        twap_vwap_values = cfinresa.compute_twap_vwap(\n",
    "            df, f\"{res_rule}T\", price_col=\"close\", volume_col=\"volume\"\n",
    "        )\n",
    "        # Move timestamp to the end of the bar.\n",
    "        cc_wp = twap_vwap_values.shift(res_rule, freq=\"T\")\n",
    "        # Add `full_symbol` column.\n",
    "        cc_wp[\"full_symbol\"] = cc\n",
    "        result.append(cc_wp)\n",
    "    # Collect the results into a single dataframe.\n",
    "    twap_vwap_df = pd.concat(result)\n",
    "    return twap_vwap_df"
   ]
  },
  {
   "cell_type": "code",
   "execution_count": null,
   "id": "70f62601",
   "metadata": {},
   "outputs": [],
   "source": [
    "def resampling_func_v2(df, freq):\n",
    "    \"\"\"\n",
    "    Group by `full_symbols` and resample to the desired timing.\n",
    "\n",
    "    :param df: Initial OHLCV data for cc\n",
    "    :param freq: Desired resampling frequency (in minutes)\n",
    "    :return: Grouped and resampled cc OHLCV data\n",
    "    \"\"\"\n",
    "    # Shift timestamps to indicate the end of the bar in the initial data.\n",
    "    df = df.shift(1, freq=\"T\")\n",
    "    # Construct the resampling frequency.\n",
    "    resampling_freq = f\"{freq}min\"\n",
    "    # Create a resampler that takes data for each `full_symbol` and resample it to the given time.\n",
    "    resampler = df.reset_index().groupby(\n",
    "        [\n",
    "            \"full_symbol\",\n",
    "            pd.Grouper(key=\"timestamp\", freq=resampling_freq, closed=\"right\"),\n",
    "        ]\n",
    "    )\n",
    "    # Organize OHLCV values according to the resampler.\n",
    "    new_df = resampler.agg(\n",
    "        {\n",
    "            \"open\": \"first\",\n",
    "            \"high\": \"max\",\n",
    "            \"low\": \"min\",\n",
    "            \"close\": \"last\",\n",
    "            \"volume\": \"sum\",\n",
    "        }\n",
    "    )\n",
    "    # Shift timestamps to indicate the end of the bar in the resampled data.\n",
    "    new_df = new_df.reset_index(\"full_symbol\").shift(freq, freq=\"T\")\n",
    "    # Cosmetic improvements.\n",
    "    new_df = new_df.set_index(\"full_symbol\", append=True)\n",
    "    new_df = new_df.reorder_levels(order=[\"full_symbol\", \"timestamp\"])\n",
    "    return new_df"
   ]
  },
  {
   "cell_type": "code",
   "execution_count": null,
   "id": "825068a6",
   "metadata": {},
   "outputs": [],
   "source": [
    "twap_vwap_v2 = calculate_twap_vwap_v2(data, resampling_freq)\n",
    "twap_vwap_v2.head(3)"
   ]
  },
  {
   "cell_type": "code",
   "execution_count": null,
   "id": "1bf4f082",
   "metadata": {},
   "outputs": [],
   "source": [
    "resampled_v2 = resampling_func_v2(data, resampling_freq)\n",
    "resampled_v2.head(3)"
   ]
  },
  {
   "cell_type": "code",
   "execution_count": null,
   "id": "754fbbee",
   "metadata": {},
   "outputs": [],
   "source": [
    "# Some cosmetic improvements to vwap, twap df.\n",
    "indexed_twap_vwap_v2 = twap_vwap_v2.set_index(\n",
    "    \"full_symbol\", append=True\n",
    ").reorder_levels(order=[\"full_symbol\", \"timestamp\"])\n",
    "# Combine vwap, twap and ohlcv data.\n",
    "twap_vwap_v2 = pd.concat([resampled_v2, indexed_twap_vwap_v2], axis=1)\n",
    "twap_vwap_v2.head(3)"
   ]
  },
  {
   "cell_type": "markdown",
   "id": "b6e4f037",
   "metadata": {},
   "source": [
    "# Calculate returns"
   ]
  },
  {
   "cell_type": "code",
   "execution_count": null,
   "id": "edd1c92f",
   "metadata": {},
   "outputs": [],
   "source": [
    "def calculate_returns(df):\n",
    "    grouper = df.groupby([\"full_symbol\"])\n",
    "    df[\"vwap_ret\"] = (df[\"vwap\"] / grouper[\"vwap\"].shift(1)) - 1\n",
    "    df[\"twap_ret\"] = (df[\"twap\"] / grouper[\"twap\"].shift(1)) - 1\n",
    "    df[\"log_ret\"] = np.log(df[\"close\"]) - np.log(grouper[\"close\"].shift(1))\n",
    "    return df"
   ]
  },
  {
   "cell_type": "code",
   "execution_count": null,
   "id": "74165805",
   "metadata": {},
   "outputs": [],
   "source": [
    "rets_df = calculate_returns(twap_vwap_v2)\n",
    "rets_df"
   ]
  },
  {
   "cell_type": "code",
   "execution_count": null,
   "id": "2446134a",
   "metadata": {},
   "outputs": [],
   "source": [
    "# Some stats and visualizations.\n",
    "ada_ex = rets_df.loc[[\"binance::ADA_USDT\"]].reset_index(\"full_symbol\")[\n",
    "    [\"log_ret\", \"vwap_ret\", \"twap_ret\"]\n",
    "]\n",
    "display(ada_ex.corr())\n",
    "ada_ex.plot()"
   ]
  },
  {
   "cell_type": "markdown",
   "id": "2c4e62cb",
   "metadata": {},
   "source": [
    "## New proposal"
   ]
  },
  {
   "cell_type": "code",
   "execution_count": null,
   "id": "84ef5c81",
   "metadata": {},
   "outputs": [],
   "source": [
    "def resample_calculate_twap_vwap_and_returns(df, resampling_freq):\n",
    "    result = []\n",
    "    full_symbol_list = df[\"full_symbol\"].unique()\n",
    "    for cc in full_symbol_list:\n",
    "        # DataFrame with a specific `full_symbol`\n",
    "        cc_df = df[df[\"full_symbol\"] == cc]\n",
    "        # Resample OHLCV data inside `full_symbol`-specific DataFrame.\n",
    "        resampled_cc_df = cfinresa.resample_ohlcv_bars(\n",
    "            cc_df, rule=resampling_freq\n",
    "        )\n",
    "        # Attach VWAP, TWAP.\n",
    "        resampled_cc_df[[\"vwap\", \"twap\"]] = cfinresa.compute_twap_vwap(\n",
    "            cc_df, resampling_freq, price_col=\"close\", volume_col=\"volume\"\n",
    "        )\n",
    "        # Calculate returns.\n",
    "        resampled_cc_df[\"vwap_rets\"] = cfinretu.compute_ret_0(\n",
    "            resampled_cc_df[[\"vwap\"]], \"pct_change\"\n",
    "        )\n",
    "        resampled_cc_df[\"twap_rets\"] = cfinretu.compute_ret_0(\n",
    "            resampled_cc_df[[\"twap\"]], \"pct_change\"\n",
    "        )\n",
    "        resampled_cc_df[\"log_rets\"] = cfinretu.compute_ret_0(\n",
    "            resampled_cc_df[[\"close\"]], \"log_rets\"\n",
    "        )\n",
    "        # Add a column with `full_symbol` indication.\n",
    "        resampled_cc_df[\"full_symbol\"] = cc\n",
    "        # Omit unnecesary columns.\n",
    "        resampled_cc_df = resampled_cc_df.drop(columns=[\"open\", \"high\", \"low\"])\n",
    "        result.append(resampled_cc_df)\n",
    "    final_df = pd.concat(result)\n",
    "    return final_df"
   ]
  },
  {
   "cell_type": "code",
   "execution_count": null,
   "id": "9c4893c8",
   "metadata": {},
   "outputs": [],
   "source": [
    "df = resample_calculate_twap_vwap_and_returns(data, \"5T\")\n",
    "df.head(3)"
   ]
  },
  {
   "cell_type": "code",
   "execution_count": null,
   "id": "9bb478f2",
   "metadata": {},
   "outputs": [],
   "source": [
    "# The only missing part here is to place timestamps at the end of the bar.\n",
    "# Right now I have only this hardcoded solution:\n",
    "new_df = df.shift(5, freq=\"T\")"
   ]
  },
  {
   "cell_type": "code",
   "execution_count": null,
   "id": "17c45bff",
   "metadata": {},
   "outputs": [],
   "source": [
    "# Stats and vizualisation to check the outcomes.\n",
    "ada_ex = new_df[new_df[\"full_symbol\"] == \"binance::ADA_USDT\"][\n",
    "    [\"log_rets\", \"vwap_rets\", \"twap_rets\"]\n",
    "]\n",
    "display(ada_ex.corr())\n",
    "ada_ex.plot()"
   ]
  },
  {
   "cell_type": "code",
   "execution_count": null,
   "id": "38a72192",
   "metadata": {},
   "outputs": [],
   "source": []
  }
 ],
 "metadata": {
  "kernelspec": {
   "display_name": "Python 3 (ipykernel)",
   "language": "python",
   "name": "python3"
  },
  "language_info": {
   "codemirror_mode": {
    "name": "ipython",
    "version": 3
   },
   "file_extension": ".py",
   "mimetype": "text/x-python",
   "name": "python",
   "nbconvert_exporter": "python",
   "pygments_lexer": "ipython3"
  },
  "toc": {
   "base_numbering": 1,
   "nav_menu": {},
   "number_sections": true,
   "sideBar": true,
   "skip_h1_title": false,
   "title_cell": "Table of Contents",
   "title_sidebar": "Contents",
   "toc_cell": false,
   "toc_position": {},
   "toc_section_display": true,
   "toc_window_display": false
  }
 },
 "nbformat": 4,
 "nbformat_minor": 5
}
