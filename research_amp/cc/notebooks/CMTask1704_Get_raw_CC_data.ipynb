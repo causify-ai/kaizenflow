{
 "cells": [
  {
   "cell_type": "markdown",
   "id": "58d76abe",
   "metadata": {},
   "source": [
    "# Imports"
   ]
  },
  {
   "cell_type": "code",
   "execution_count": null,
   "id": "90d2298b",
   "metadata": {},
   "outputs": [],
   "source": [
    "import logging\n",
    "import os\n",
    "\n",
    "import pandas as pd\n",
    "\n",
    "import core.config.config_ as cconconf\n",
    "import helpers.hdbg as hdbg\n",
    "import helpers.hprint as hprint\n",
    "import helpers.hsql as hsql\n",
    "import im_v2.ccxt.data.client.ccxt_clients as imvcdccccl\n",
    "import im_v2.ccxt.data.extract.exchange_class as imvcdeexcl\n",
    "import im_v2.im_lib_tasks as imvimlita"
   ]
  },
  {
   "cell_type": "code",
   "execution_count": null,
   "id": "feb220a4",
   "metadata": {},
   "outputs": [],
   "source": [
    "hdbg.init_logger(verbosity=logging.INFO)\n",
    "\n",
    "_LOG = logging.getLogger(__name__)\n",
    "\n",
    "hprint.config_notebook()"
   ]
  },
  {
   "cell_type": "markdown",
   "id": "eea446ce",
   "metadata": {},
   "source": [
    "# Config"
   ]
  },
  {
   "cell_type": "code",
   "execution_count": null,
   "id": "3f0680e4",
   "metadata": {},
   "outputs": [],
   "source": [
    "def get_cmtask1704_config_ccxt() -> cconconf.Config:\n",
    "    \"\"\"\n",
    "    Get task232-specific config.\n",
    "    \"\"\"\n",
    "    config = cconconf.Config()\n",
    "    # Load parameters.\n",
    "    config.add_subconfig(\"load\")\n",
    "    env_file = imvimlita.get_db_env_path(\"dev\")\n",
    "    connection_params = hsql.get_connection_info_from_env_file(env_file)\n",
    "    config[\"load\"][\"connection\"] = hsql.get_connection(*connection_params)\n",
    "    config[\"load\"][\"aws_profile\"] = \"ck\"\n",
    "    config[\"load\"][\"data_dir\"] = os.path.join(\n",
    "        \"s3://cryptokaizen-data\", \"daily_staged\"\n",
    "    )\n",
    "    config[\"load\"][\"data_snapshot\"] = \"\"\n",
    "    config[\"load\"][\"partition_mode\"] = \"by_year_month\"\n",
    "    # Data parameters.\n",
    "    config.add_subconfig(\"data\")\n",
    "    config[\"data\"][\"vendor\"] = \"CCXT\"\n",
    "    config[\"data\"][\"start_date\"] = pd.Timestamp(\"2022-04-01\", tz=\"UTC\")\n",
    "    config[\"data\"][\"end_date\"] = pd.Timestamp(\"2022-04-15\", tz=\"UTC\")\n",
    "    # Column names.\n",
    "    # config.add_subconfig(\"column_names\")\n",
    "    # config[\"column_names\"][\"close_price\"] = \"close\"\n",
    "    # config[\"column_names\"][\"currency_pair\"] = \"currency_pair\"\n",
    "    # config[\"column_names\"][\"exchange_id\"] = \"exchange_id\"\n",
    "    return config"
   ]
  },
  {
   "cell_type": "code",
   "execution_count": null,
   "id": "58dae195",
   "metadata": {},
   "outputs": [],
   "source": [
    "config = get_cmtask1704_config_ccxt()\n",
    "print(config)"
   ]
  },
  {
   "cell_type": "markdown",
   "id": "9b068ea0",
   "metadata": {},
   "source": [
    "# Load the data"
   ]
  },
  {
   "cell_type": "markdown",
   "id": "53c93b8a",
   "metadata": {},
   "source": [
    "## Real-time"
   ]
  },
  {
   "cell_type": "code",
   "execution_count": null,
   "id": "635e3592",
   "metadata": {},
   "outputs": [],
   "source": [
    "# Specify params.\n",
    "vendor = config[\"data\"][\"vendor\"]\n",
    "resample_1min = True\n",
    "connection = config[\"load\"][\"connection\"]\n",
    "# Initiate the client.\n",
    "ccxt_rt_client = imvcdccccl.CcxtCddDbClient(vendor, resample_1min, connection)"
   ]
  },
  {
   "cell_type": "markdown",
   "id": "356fa832",
   "metadata": {},
   "source": [
    "### Universe"
   ]
  },
  {
   "cell_type": "code",
   "execution_count": null,
   "id": "9071c99b",
   "metadata": {},
   "outputs": [],
   "source": [
    "# Specify the universe.\n",
    "rt_universe = ccxt_rt_client.get_universe()\n",
    "len(rt_universe)"
   ]
  },
  {
   "cell_type": "code",
   "execution_count": null,
   "id": "832524d5",
   "metadata": {},
   "outputs": [],
   "source": [
    "# Choose cc for analysis.\n",
    "full_symbols = rt_universe[0:2]\n",
    "full_symbols"
   ]
  },
  {
   "cell_type": "markdown",
   "id": "76838ec6",
   "metadata": {},
   "source": [
    "### Data Loader"
   ]
  },
  {
   "cell_type": "code",
   "execution_count": null,
   "id": "7151263b",
   "metadata": {},
   "outputs": [],
   "source": [
    "# Specify time period.\n",
    "start_date = config[\"data\"][\"start_date\"]\n",
    "end_date = config[\"data\"][\"end_date\"]\n",
    "\n",
    "# Load the data.\n",
    "data = ccxt_rt_client.read_data(full_symbols, start_date, end_date)\n",
    "display(data.shape)\n",
    "display(data.head(3))"
   ]
  },
  {
   "cell_type": "markdown",
   "id": "484e253a",
   "metadata": {},
   "source": [
    "## Historical"
   ]
  },
  {
   "cell_type": "code",
   "execution_count": null,
   "id": "0ce8e4bf",
   "metadata": {},
   "outputs": [],
   "source": [
    "# Specify params.\n",
    "resample_1min = True\n",
    "root_dir = config[\"load\"][\"data_dir\"]\n",
    "partition_mode = config[\"load\"][\"partition_mode\"]\n",
    "data_snapshot = config[\"load\"][\"data_snapshot\"]\n",
    "aws_profile = config[\"load\"][\"aws_profile\"]\n",
    "\n",
    "# Initiate the client.\n",
    "historical_client = imvcdccccl.CcxtHistoricalPqByTileClient(\n",
    "    resample_1min, root_dir, partition_mode, data_snapshot=data_snapshot, aws_profile=aws_profile\n",
    ")"
   ]
  },
  {
   "cell_type": "markdown",
   "id": "b88e66e0",
   "metadata": {},
   "source": [
    "### Universe"
   ]
  },
  {
   "cell_type": "code",
   "execution_count": null,
   "id": "b5bb1a7f",
   "metadata": {},
   "outputs": [],
   "source": [
    "# Specify the universe.\n",
    "historical_universe = historical_client.get_universe()\n",
    "len(historical_universe)"
   ]
  },
  {
   "cell_type": "code",
   "execution_count": null,
   "id": "a68ba551",
   "metadata": {},
   "outputs": [],
   "source": [
    "# Choose cc for analysis.\n",
    "full_symbols = historical_universe[0:2]\n",
    "full_symbols"
   ]
  },
  {
   "cell_type": "markdown",
   "id": "4b0589b9",
   "metadata": {},
   "source": [
    "### Data Loader"
   ]
  },
  {
   "cell_type": "code",
   "execution_count": null,
   "id": "61fcaa63",
   "metadata": {},
   "outputs": [],
   "source": [
    "# Specify time period.\n",
    "start_date = config[\"data\"][\"start_date\"]\n",
    "end_date = config[\"data\"][\"end_date\"]\n",
    "\n",
    "# Load the data.\n",
    "historical_client.read_data(full_symbols, start_date, end_date)"
   ]
  },
  {
   "cell_type": "markdown",
   "id": "71ecf4ef",
   "metadata": {},
   "source": [
    "## Bid-ask data snippet"
   ]
  },
  {
   "cell_type": "code",
   "execution_count": null,
   "id": "c916a0dd",
   "metadata": {},
   "outputs": [],
   "source": [
    "# Specify params.\n",
    "exchange_id = \"binance\"\n",
    "\n",
    "# Initiate the client.\n",
    "bid_ask_client = imvcdeexcl.CcxtExchange(exchange_id)"
   ]
  },
  {
   "cell_type": "code",
   "execution_count": null,
   "id": "eb689957",
   "metadata": {},
   "outputs": [],
   "source": [
    "# Load the data snippet for BTC.\n",
    "currency_pair = \"BTC_USDT\"\n",
    "ba_df = bid_ask_client.download_order_book(currency_pair)"
   ]
  },
  {
   "cell_type": "code",
   "execution_count": null,
   "id": "e360c93b",
   "metadata": {},
   "outputs": [],
   "source": [
    "ba_df"
   ]
  },
  {
   "cell_type": "markdown",
   "id": "18c5d06d",
   "metadata": {},
   "source": [
    "As one can see, the current implementation of bid-ask data loader only allows to show the order book at the exact moment of its initiation."
   ]
  }
 ],
 "metadata": {
  "kernelspec": {
   "display_name": "Python 3 (ipykernel)",
   "language": "python",
   "name": "python3"
  },
  "language_info": {
   "codemirror_mode": {
    "name": "ipython",
    "version": 3
   },
   "file_extension": ".py",
   "mimetype": "text/x-python",
   "name": "python",
   "nbconvert_exporter": "python",
   "pygments_lexer": "ipython3"
  },
  "toc": {
   "base_numbering": 1,
   "nav_menu": {},
   "number_sections": true,
   "sideBar": true,
   "skip_h1_title": false,
   "title_cell": "Table of Contents",
   "title_sidebar": "Contents",
   "toc_cell": false,
   "toc_position": {},
   "toc_section_display": true,
   "toc_window_display": false
  }
 },
 "nbformat": 4,
 "nbformat_minor": 5
}
