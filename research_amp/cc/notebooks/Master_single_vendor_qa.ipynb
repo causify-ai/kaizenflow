{
 "cells": [
  {
   "cell_type": "markdown",
   "id": "e3d423f0",
   "metadata": {},
   "source": [
    "# Description"
   ]
  },
  {
   "cell_type": "markdown",
   "id": "739a4c1a",
   "metadata": {},
   "source": [
    "This notebooks performs QA checks for a single vendor:\n",
    "   - Number of NaN data points as % of total\n",
    "   - Number of data points where `volume=0` as % of total"
   ]
  },
  {
   "cell_type": "markdown",
   "id": "026dce8f",
   "metadata": {},
   "source": [
    "# Imports"
   ]
  },
  {
   "cell_type": "code",
   "execution_count": null,
   "id": "d2796630",
   "metadata": {},
   "outputs": [],
   "source": [
    "import logging\n",
    "import os\n",
    "\n",
    "import numpy as np\n",
    "import pandas as pd\n",
    "\n",
    "import core.config.config_ as cconconf\n",
    "import core.config.config_utils as ccocouti\n",
    "import core.statistics as costatis\n",
    "import helpers.hdbg as hdbg\n",
    "import helpers.henv as henv\n",
    "import helpers.hpandas as hpandas\n",
    "import helpers.hprint as hprint\n",
    "import helpers.hs3 as hs3\n",
    "import im_v2.ccxt.data.client as icdcl"
   ]
  },
  {
   "cell_type": "code",
   "execution_count": null,
   "id": "467b3d61",
   "metadata": {},
   "outputs": [],
   "source": [
    "hdbg.init_logger(verbosity=logging.INFO)\n",
    "\n",
    "_LOG = logging.getLogger(__name__)\n",
    "\n",
    "_LOG.info(\"%s\", henv.get_system_signature()[0])\n",
    "\n",
    "hprint.config_notebook()"
   ]
  },
  {
   "cell_type": "markdown",
   "id": "61c0c9ff",
   "metadata": {},
   "source": [
    "# Configs"
   ]
  },
  {
   "cell_type": "code",
   "execution_count": null,
   "id": "99b1f619",
   "metadata": {},
   "outputs": [],
   "source": [
    "def get_cmtask1866_config_ccxt() -> cconconf.Config:\n",
    "    \"\"\"\n",
    "    Get task1866-specific config.\n",
    "    \"\"\"\n",
    "    config = cconconf.Config()\n",
    "    param_dict = {\n",
    "        \"data\": {\n",
    "            # Parameters for client initialization.\n",
    "            \"im_client\": {\n",
    "                \"universe_version\": \"v3\",\n",
    "                \"resample_1min\": False,\n",
    "                \"root_dir\": os.path.join(\n",
    "                    hs3.get_s3_bucket_path(\"ck\"), \"reorg\", \"historical.manual.pq\"\n",
    "                ),\n",
    "                \"partition_mode\": \"by_year_month\",\n",
    "                \"aws_profile\": \"ck\",\n",
    "            },\n",
    "            # Parameters for data query.\n",
    "            \"read_data\": {\n",
    "                \"start_ts\": None,\n",
    "                \"end_ts\": None,\n",
    "                \"columns\": [\"full_symbol\", \"close\", \"volume\"],\n",
    "                \"filter_data_mode\": \"assert\",\n",
    "            },\n",
    "        },\n",
    "        \"column_names\": {\n",
    "            \"full_symbol\": \"full_symbol\",\n",
    "            \"close_price\": \"close\",\n",
    "        },\n",
    "        \"stats\": {\n",
    "            \"threshold\": 30,\n",
    "        },\n",
    "    }\n",
    "    config = ccocouti.get_config_from_nested_dict(param_dict)\n",
    "    return config"
   ]
  },
  {
   "cell_type": "code",
   "execution_count": null,
   "id": "1117532c",
   "metadata": {},
   "outputs": [],
   "source": [
    "config = get_cmtask1866_config_ccxt()\n",
    "print(config)"
   ]
  },
  {
   "cell_type": "markdown",
   "id": "52eb9372",
   "metadata": {},
   "source": [
    "# Functions"
   ]
  },
  {
   "cell_type": "code",
   "execution_count": null,
   "id": "503740ea",
   "metadata": {},
   "outputs": [],
   "source": [
    "# TODO(Dan): Clean up and move to a lib.\n",
    "# TODO(Dan): @Nina add more detailed description of functions.\n",
    "def _preprocess_data_for_qa_stats_computation(\n",
    "    config: cconconf.Config, data: pd.DataFrame\n",
    ") -> pd.DataFrame:\n",
    "    \"\"\"\n",
    "    Preprocess vendor data for QA stats computations.\n",
    "    \"\"\"\n",
    "    # Fill NaN values with `np.inf` in order to differentiate them\n",
    "    # from missing bars.\n",
    "    preprocessed_data = data.fillna(np.inf)\n",
    "    # Resample data for each full symbol to insert missing bars.\n",
    "    resampled_symbol_data = []\n",
    "    for full_symbol, symbol_data in preprocessed_data.groupby(\n",
    "        config[\"column_names\"][\"full_symbol\"]\n",
    "    ):\n",
    "        symbol_data = hpandas.resample_df(symbol_data, \"T\")\n",
    "        symbol_data[config[\"column_names\"][\"full_symbol\"]] = symbol_data[\n",
    "            config[\"column_names\"][\"full_symbol\"]\n",
    "        ].fillna(method=\"bfill\")\n",
    "        resampled_symbol_data.append(symbol_data)\n",
    "    preprocessed_data = pd.concat(resampled_symbol_data)\n",
    "    # Add year and month columns to allow grouping data by them.\n",
    "    preprocessed_data[\"year\"] = preprocessed_data.index.year\n",
    "    preprocessed_data[\"month\"] = preprocessed_data.index.month\n",
    "    return preprocessed_data\n",
    "\n",
    "\n",
    "def _get_timestamp_stats(\n",
    "    config: cconconf.Config, data: pd.DataFrame\n",
    ") -> pd.DataFrame:\n",
    "    \"\"\"\n",
    "    Get min max timstamp stats per full symbol.\n",
    "    \"\"\"\n",
    "    res_stats = []\n",
    "    for full_symbol, symbol_data in data.groupby(\n",
    "        config[\"column_names\"][\"full_symbol\"]\n",
    "    ):\n",
    "        # Compute stats for a full symbol.\n",
    "        symbol_stats = pd.Series(dtype=\"object\", name=full_symbol)\n",
    "        index = symbol_data.index\n",
    "        symbol_stats[\"min_timestamp\"] = index.min()\n",
    "        symbol_stats[\"max_timestamp\"] = index.max()\n",
    "        symbol_stats[\"days_available\"] = (\n",
    "            symbol_stats[\"max_timestamp\"] - symbol_stats[\"min_timestamp\"]\n",
    "        ).days\n",
    "        res_stats.append(symbol_stats)\n",
    "    # Combine all full symbol stats.\n",
    "    res_stats_df = pd.concat(res_stats, axis=1).T\n",
    "    return res_stats_df\n",
    "\n",
    "\n",
    "# TODO(Dan): Merge with `_get_bad_data_stats_by_year_month()` by passing `agg_level`.\n",
    "def _get_bad_data_stats(\n",
    "    config: cconconf.Config, data: pd.DataFrame\n",
    ") -> pd.DataFrame:\n",
    "    \"\"\"\n",
    "    Get quality assurance stats per full symbol.\n",
    "    \"\"\"\n",
    "    res_stats = []\n",
    "    for full_symbol, symbol_data in data.groupby(\n",
    "        config[\"column_names\"][\"full_symbol\"]\n",
    "    ):\n",
    "        symbol_stats = pd.Series(dtype=\"object\", name=full_symbol)\n",
    "        # Compute NaNs in initially loaded data by counting `np.inf` values\n",
    "        # in preprocessed data.\n",
    "        symbol_stats[\"NaNs [%]\"] = 100 * (\n",
    "            symbol_data[\n",
    "                symbol_data[config[\"column_names\"][\"close_price\"]] == np.inf\n",
    "            ].shape[0]\n",
    "            / symbol_data.shape[0]\n",
    "        )\n",
    "        # Compute missing bars stats by counting NaNs created by resampling.\n",
    "        symbol_stats[\"missing bars [%]\"] = 100 * (\n",
    "            costatis.compute_frac_nan(\n",
    "                symbol_data[config[\"column_names\"][\"close_price\"]]\n",
    "            )\n",
    "        )\n",
    "        #\n",
    "        symbol_stats[\"volume=0 [%]\"] = 100 * (\n",
    "            symbol_data[symbol_data[\"volume\"] == 0].shape[0]\n",
    "            / symbol_data.shape[0]\n",
    "        )\n",
    "        #\n",
    "        symbol_stats[\"bad data [%]\"] = (\n",
    "            symbol_stats[\"NaNs [%]\"]\n",
    "            + symbol_stats[\"missing bars [%]\"]\n",
    "            + symbol_stats[\"volume=0 [%]\"]\n",
    "        )\n",
    "        res_stats.append(symbol_stats)\n",
    "    # Combine all full symbol stats and reorder columns.\n",
    "    res_stats_df = pd.concat(res_stats, axis=1).T\n",
    "    cols = [\"bad data [%]\", \"missing bars [%]\", \"volume=0 [%]\", \"NaNs [%]\"]\n",
    "    res_stats_df = res_stats_df[cols]\n",
    "    return res_stats_df\n",
    "\n",
    "\n",
    "def _get_bad_data_stats_by_year_month(\n",
    "    config: cconconf.Config, data: pd.DataFrame\n",
    ") -> pd.DataFrame:\n",
    "    \"\"\"\n",
    "    Get quality assurance stats per full symbol, year, and month.\n",
    "    \"\"\"\n",
    "    res_stats = []\n",
    "    for index, data_monthly in data.groupby([\"year\", \"month\"]):\n",
    "        #\n",
    "        year, month = index\n",
    "        #\n",
    "        stats_monthly = _get_bad_data_stats(config, data_monthly)\n",
    "        #\n",
    "        stats_monthly[\"year\"] = year\n",
    "        stats_monthly[\"month\"] = month\n",
    "        res_stats.append(stats_monthly)\n",
    "    res_stats_df = pd.concat(res_stats)\n",
    "    # Set index by full symbol, year, and month.\n",
    "    res_stats_df[config[\"column_names\"][\"full_symbol\"]] = res_stats_df.index\n",
    "    index_columns = [config[\"column_names\"][\"full_symbol\"], \"year\", \"month\"]\n",
    "    res_stats_df = res_stats_df.sort_values(index_columns)\n",
    "    res_stats_df = res_stats_df.set_index(index_columns)\n",
    "    return res_stats_df\n",
    "\n",
    "\n",
    "# TODO(Dan): Add filtering by dates.\n",
    "def _plot_bad_data_by_year_month_stats(\n",
    "    config: cconconf.Config, bad_data_stats: pd.DataFrame\n",
    ") -> None:\n",
    "    \"\"\"\n",
    "    Plot bad data stats by year and month per unique full symbol in data.\n",
    "\n",
    "    Bad data is the sum of NaNs and \"volume=0\" stats.\n",
    "    \"\"\"\n",
    "    full_symbols = bad_data_stats.index.get_level_values(0).unique()\n",
    "    for full_symbol in full_symbols:\n",
    "        bad_data_col_name = \"bad data [%]\"\n",
    "        ax = bad_data_stats.loc[full_symbol].plot.bar(\n",
    "            y=bad_data_col_name, rot=0, title=full_symbol\n",
    "        )\n",
    "        #\n",
    "        ax.hlines(\n",
    "            y=config[\"stats\"][\"threshold\"],\n",
    "            xmin=0,\n",
    "            xmax=len(bad_data_stats),\n",
    "            color=\"r\",\n",
    "        )\n",
    "        # TODO(Dan): Make ticklabels more readable.\n",
    "        # Get ticks and labels for x-axis.\n",
    "        ticks = ax.xaxis.get_ticklocs()\n",
    "        ticklabels = [\n",
    "            l.get_text().strip(\"()\").split(\", \")\n",
    "            for l in ax.xaxis.get_ticklabels()\n",
    "        ]\n",
    "        ticklabels = [\".\".join([l[0], l[1]]) for l in ticklabels]\n",
    "        # Adjust x-axis labels so they do not overlap on plot by\n",
    "        # picking ticks and labels by specified stride that limits\n",
    "        # the number of final ticks to 10.\n",
    "        stride = len(ticks) // 10 + 1\n",
    "        ax.xaxis.set_ticks(ticks[::stride])\n",
    "        ax.xaxis.set_ticklabels(ticklabels[::stride])\n",
    "        ax.figure.show()"
   ]
  },
  {
   "cell_type": "markdown",
   "id": "6241e528",
   "metadata": {},
   "source": [
    "# QA checks"
   ]
  },
  {
   "cell_type": "markdown",
   "id": "4e042601",
   "metadata": {},
   "source": [
    "Major metric for a QA check is `\"bad data [%]\"` which is the sum of `\"volume=0 [%]\"` and `\"NaNs [%]\"`."
   ]
  },
  {
   "cell_type": "code",
   "execution_count": null,
   "id": "24754614",
   "metadata": {},
   "outputs": [],
   "source": [
    "client = icdcl.CcxtHistoricalPqByTileClient(**config[\"data\"][\"im_client\"])"
   ]
  },
  {
   "cell_type": "code",
   "execution_count": null,
   "id": "f167823c",
   "metadata": {},
   "outputs": [],
   "source": [
    "universe = client.get_universe()\n",
    "universe"
   ]
  },
  {
   "cell_type": "markdown",
   "id": "e403fd16",
   "metadata": {},
   "source": [
    "## Binance"
   ]
  },
  {
   "cell_type": "code",
   "execution_count": null,
   "id": "8bc3a40d",
   "metadata": {},
   "outputs": [],
   "source": [
    "binance_universe = [\n",
    "    full_symbol for full_symbol in universe if full_symbol.startswith(\"binance\")\n",
    "]\n",
    "binance_universe"
   ]
  },
  {
   "cell_type": "code",
   "execution_count": null,
   "id": "24265567",
   "metadata": {},
   "outputs": [],
   "source": [
    "binance_data = client.read_data(binance_universe, **config[\"data\"][\"read_data\"])\n",
    "binance_data = _preprocess_data_for_qa_stats_computation(config, binance_data)\n",
    "binance_data.head(3)"
   ]
  },
  {
   "cell_type": "code",
   "execution_count": null,
   "id": "738470c5",
   "metadata": {},
   "outputs": [],
   "source": [
    "binance_timestamp_stats = _get_timestamp_stats(config, binance_data)\n",
    "binance_timestamp_stats"
   ]
  },
  {
   "cell_type": "code",
   "execution_count": null,
   "id": "d34526e5",
   "metadata": {},
   "outputs": [],
   "source": [
    "binance_bad_data_stats = _get_bad_data_stats(config, binance_data)\n",
    "binance_bad_data_stats"
   ]
  },
  {
   "cell_type": "code",
   "execution_count": null,
   "id": "def1aa0f",
   "metadata": {},
   "outputs": [],
   "source": [
    "binance_bad_data_stats_by_year_month = _get_bad_data_stats_by_year_month(\n",
    "    config, binance_data\n",
    ")\n",
    "binance_bad_data_stats_by_year_month"
   ]
  },
  {
   "cell_type": "code",
   "execution_count": null,
   "id": "c11f08f2",
   "metadata": {},
   "outputs": [],
   "source": [
    "_ = _plot_bad_data_by_year_month_stats(\n",
    "    config, binance_bad_data_stats_by_year_month\n",
    ")"
   ]
  },
  {
   "cell_type": "markdown",
   "id": "80566f87",
   "metadata": {},
   "source": [
    "## FTX"
   ]
  },
  {
   "cell_type": "code",
   "execution_count": null,
   "id": "10f54c48",
   "metadata": {},
   "outputs": [],
   "source": [
    "ftx_universe = [\n",
    "    full_symbol for full_symbol in universe if full_symbol.startswith(\"ftx\")\n",
    "]\n",
    "ftx_universe"
   ]
  },
  {
   "cell_type": "code",
   "execution_count": null,
   "id": "3b3fba8b",
   "metadata": {},
   "outputs": [],
   "source": [
    "ftx_data = client.read_data(ftx_universe, **config[\"data\"][\"read_data\"])\n",
    "ftx_data = _preprocess_data_for_qa_stats_computation(config, ftx_data)\n",
    "ftx_data.head(3)"
   ]
  },
  {
   "cell_type": "code",
   "execution_count": null,
   "id": "9b3d8e75",
   "metadata": {},
   "outputs": [],
   "source": [
    "ftx_timestamp_stats = _get_timestamp_stats(config, ftx_data)\n",
    "ftx_timestamp_stats"
   ]
  },
  {
   "cell_type": "code",
   "execution_count": null,
   "id": "f043cb95",
   "metadata": {},
   "outputs": [],
   "source": [
    "ftx_bad_data_stats = _get_bad_data_stats(config, ftx_data)\n",
    "ftx_bad_data_stats"
   ]
  },
  {
   "cell_type": "code",
   "execution_count": null,
   "id": "8542126a",
   "metadata": {},
   "outputs": [],
   "source": [
    "ftx_bad_data_stats_by_year_month = _get_bad_data_stats_by_year_month(\n",
    "    config, ftx_data\n",
    ")\n",
    "ftx_bad_data_stats_by_year_month"
   ]
  },
  {
   "cell_type": "code",
   "execution_count": null,
   "id": "4b6736b3",
   "metadata": {},
   "outputs": [],
   "source": [
    "_ = _plot_bad_data_by_year_month_stats(config, ftx_bad_data_stats_by_year_month)"
   ]
  },
  {
   "cell_type": "markdown",
   "id": "b76acc23",
   "metadata": {},
   "source": [
    "## Gateio"
   ]
  },
  {
   "cell_type": "code",
   "execution_count": null,
   "id": "da32d8cb",
   "metadata": {},
   "outputs": [],
   "source": [
    "gateio_universe = [\n",
    "    full_symbol for full_symbol in universe if full_symbol.startswith(\"gateio\")\n",
    "]\n",
    "gateio_universe"
   ]
  },
  {
   "cell_type": "code",
   "execution_count": null,
   "id": "e72728f0",
   "metadata": {},
   "outputs": [],
   "source": [
    "gateio_data = client.read_data(gateio_universe, **config[\"data\"][\"read_data\"])\n",
    "gateio_data = _preprocess_data_for_qa_stats_computation(config, gateio_data)\n",
    "gateio_data.head(3)"
   ]
  },
  {
   "cell_type": "code",
   "execution_count": null,
   "id": "acb6ea29",
   "metadata": {},
   "outputs": [],
   "source": [
    "gateio_timestamp_stats = _get_timestamp_stats(config, gateio_data)\n",
    "gateio_timestamp_stats"
   ]
  },
  {
   "cell_type": "code",
   "execution_count": null,
   "id": "118bae21",
   "metadata": {},
   "outputs": [],
   "source": [
    "gateio_bad_data_stats = _get_bad_data_stats(config, gateio_data)\n",
    "gateio_bad_data_stats"
   ]
  },
  {
   "cell_type": "code",
   "execution_count": null,
   "id": "d906dc79",
   "metadata": {},
   "outputs": [],
   "source": [
    "gateio_bad_data_stats_by_year_month = _get_bad_data_stats_by_year_month(\n",
    "    config, gateio_data\n",
    ")\n",
    "gateio_bad_data_stats_by_year_month"
   ]
  },
  {
   "cell_type": "code",
   "execution_count": null,
   "id": "280c0acd",
   "metadata": {},
   "outputs": [],
   "source": [
    "_ = _plot_bad_data_by_year_month_stats(\n",
    "    config, gateio_bad_data_stats_by_year_month\n",
    ")"
   ]
  },
  {
   "cell_type": "markdown",
   "id": "90c24f60",
   "metadata": {},
   "source": [
    "## Kucoin"
   ]
  },
  {
   "cell_type": "code",
   "execution_count": null,
   "id": "139b35ae",
   "metadata": {},
   "outputs": [],
   "source": [
    "kucoin_universe = [\n",
    "    full_symbol for full_symbol in universe if full_symbol.startswith(\"kucoin\")\n",
    "]\n",
    "kucoin_universe"
   ]
  },
  {
   "cell_type": "code",
   "execution_count": null,
   "id": "21b99b93",
   "metadata": {},
   "outputs": [],
   "source": [
    "kucoin_data = client.read_data(kucoin_universe, **config[\"data\"][\"read_data\"])\n",
    "kucoin_data = _preprocess_data_for_qa_stats_computation(config, kucoin_data)\n",
    "kucoin_data.head(3)"
   ]
  },
  {
   "cell_type": "code",
   "execution_count": null,
   "id": "bfc723ac",
   "metadata": {},
   "outputs": [],
   "source": [
    "kucoin_timestamp_stats = _get_timestamp_stats(config, kucoin_data)\n",
    "kucoin_timestamp_stats"
   ]
  },
  {
   "cell_type": "code",
   "execution_count": null,
   "id": "6cb4df14",
   "metadata": {},
   "outputs": [],
   "source": [
    "kucoin_bad_data_stats = _get_bad_data_stats(config, kucoin_data)\n",
    "kucoin_bad_data_stats"
   ]
  },
  {
   "cell_type": "code",
   "execution_count": null,
   "id": "96f1a5e7",
   "metadata": {},
   "outputs": [],
   "source": [
    "kucoin_bad_data_stats_by_year_month = _get_bad_data_stats_by_year_month(\n",
    "    config, kucoin_data\n",
    ")\n",
    "kucoin_bad_data_stats_by_year_month"
   ]
  },
  {
   "cell_type": "code",
   "execution_count": null,
   "id": "6f02833c",
   "metadata": {},
   "outputs": [],
   "source": [
    "_ = _plot_bad_data_by_year_month_stats(\n",
    "    config, kucoin_bad_data_stats_by_year_month\n",
    ")"
   ]
  },
  {
   "cell_type": "code",
   "execution_count": null,
   "id": "2254fd73",
   "metadata": {},
   "outputs": [],
   "source": []
  }
 ],
 "metadata": {
  "kernelspec": {
   "display_name": "Python 3 (ipykernel)",
   "language": "python",
   "name": "python3"
  },
  "language_info": {
   "codemirror_mode": {
    "name": "ipython",
    "version": 3
   },
   "file_extension": ".py",
   "mimetype": "text/x-python",
   "name": "python",
   "nbconvert_exporter": "python",
   "pygments_lexer": "ipython3"
  },
  "toc": {
   "base_numbering": 1,
   "nav_menu": {},
   "number_sections": true,
   "sideBar": true,
   "skip_h1_title": false,
   "title_cell": "Table of Contents",
   "title_sidebar": "Contents",
   "toc_cell": false,
   "toc_position": {},
   "toc_section_display": true,
   "toc_window_display": false
  }
 },
 "nbformat": 4,
 "nbformat_minor": 5
}
