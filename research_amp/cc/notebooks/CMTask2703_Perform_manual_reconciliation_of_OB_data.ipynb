{
 "cells": [
  {
   "cell_type": "code",
   "execution_count": null,
   "id": "19d3e23c",
   "metadata": {},
   "outputs": [],
   "source": [
    "# TODO(Max): convert to master notebook.\n",
    "# TODO(Max): the notebook is runnable only from branch: `CMTask2703_Perform_manual_reconciliation_of_OB_data`."
   ]
  },
  {
   "cell_type": "markdown",
   "id": "13ea08e1",
   "metadata": {},
   "source": [
    "- CCXT data = CCXT real-time DB bid-ask data collection for futures\n",
    "- CC data = CryptoChassis historical Parquet bid-ask futures data"
   ]
  },
  {
   "cell_type": "markdown",
   "id": "e545da78",
   "metadata": {},
   "source": [
    "# Imports"
   ]
  },
  {
   "cell_type": "code",
   "execution_count": null,
   "id": "c4780eec",
   "metadata": {},
   "outputs": [],
   "source": [
    "%load_ext autoreload\n",
    "%autoreload 2\n",
    "\n",
    "import logging\n",
    "import os\n",
    "\n",
    "import pandas as pd\n",
    "\n",
    "import core.config.config_ as cconconf\n",
    "import helpers.hdbg as hdbg\n",
    "import helpers.henv as henv\n",
    "import helpers.hpandas as hpandas\n",
    "import helpers.hprint as hprint\n",
    "import helpers.hs3 as hs3\n",
    "import helpers.hsql as hsql\n",
    "import im_v2.ccxt.data.client as icdcl\n",
    "import im_v2.crypto_chassis.data.client as iccdc\n",
    "import im_v2.im_lib_tasks as imvimlita"
   ]
  },
  {
   "cell_type": "code",
   "execution_count": null,
   "id": "409c1bfd",
   "metadata": {},
   "outputs": [],
   "source": [
    "hdbg.init_logger(verbosity=logging.INFO)\n",
    "\n",
    "_LOG = logging.getLogger(__name__)\n",
    "\n",
    "_LOG.info(\"%s\", henv.get_system_signature()[0])\n",
    "\n",
    "hprint.config_notebook()"
   ]
  },
  {
   "cell_type": "markdown",
   "id": "64e78509",
   "metadata": {},
   "source": [
    "# Config"
   ]
  },
  {
   "cell_type": "code",
   "execution_count": null,
   "id": "7c94f0f6",
   "metadata": {},
   "outputs": [],
   "source": [
    "def get_cmtask2703_config() -> cconconf.Config:\n",
    "    \"\"\"\n",
    "    Get task2360-specific config.\n",
    "    \"\"\"\n",
    "    config = cconconf.Config()\n",
    "    param_dict = {\n",
    "        \"data\": {\n",
    "            # Parameters for client initialization.\n",
    "            \"cc_im_client\": {\n",
    "                \"universe_version\": None,\n",
    "                \"resample_1min\": True,\n",
    "                \"root_dir\": os.path.join(\n",
    "                    hs3.get_s3_bucket_path(\"ck\"),\n",
    "                    \"reorg\",\n",
    "                    \"daily_staged.airflow.pq\",\n",
    "                ),\n",
    "                \"partition_mode\": \"by_year_month\",\n",
    "                \"dataset\": \"bid_ask\",\n",
    "                \"contract_type\": \"futures\",\n",
    "                \"data_snapshot\": \"\",\n",
    "                \"aws_profile\": \"ck\",\n",
    "            },\n",
    "            \"ccxt_im_client\": {\n",
    "                \"resample_1min\": False,\n",
    "                \"db_connection\": hsql.get_connection(\n",
    "                    *hsql.get_connection_info_from_env_file(\n",
    "                        imvimlita.get_db_env_path(\"dev\")\n",
    "                    )\n",
    "                ),\n",
    "                \"table_name\": \"ccxt_bid_ask_futures_test\",\n",
    "            },\n",
    "            # Parameters for data query.\n",
    "            \"read_data\": {\n",
    "                # DB data starts from here.\n",
    "                \"start_ts\": pd.Timestamp(\"2022-09-08 22:06:00+00:00\"),\n",
    "                \"end_ts\": pd.Timestamp(\"2022-09-13 00:00:00+00:00\"),\n",
    "                \"columns\": None,\n",
    "                \"filter_data_mode\": \"assert\",\n",
    "            },\n",
    "        },\n",
    "        \"column_names\": {\n",
    "            \"bid_ask_cols\": [\n",
    "                \"bid_price\",\n",
    "                \"bid_size\",\n",
    "                \"ask_price\",\n",
    "                \"ask_size\",\n",
    "                \"full_symbol\",\n",
    "            ],\n",
    "        },\n",
    "        \"order_level\": 1,\n",
    "    }\n",
    "    config = cconconf.Config.from_dict(param_dict)\n",
    "    return config\n",
    "\n",
    "\n",
    "config = get_cmtask2703_config()\n",
    "print(config)"
   ]
  },
  {
   "cell_type": "markdown",
   "id": "339395c6",
   "metadata": {},
   "source": [
    "# Functions"
   ]
  },
  {
   "cell_type": "code",
   "execution_count": null,
   "id": "de4df8f3",
   "metadata": {},
   "outputs": [],
   "source": [
    "def load_and_transform_the_data(\n",
    "    universe,\n",
    "    bid_ask_cols,\n",
    "    is_ccxt: bool,\n",
    "    start_ts,\n",
    "    end_ts,\n",
    "    columns,\n",
    "    filter_data_mode,\n",
    "):\n",
    "    \"\"\"\n",
    "    - Load the data through ImClient\n",
    "       - For CCXT data also choose the order level data\n",
    "    - Transform to the desired multiindex format with specific format\n",
    "\n",
    "    :param bid_ask_cols: specify cols with bid-ask data\n",
    "    \"\"\"\n",
    "    # Load the data.\n",
    "    if is_ccxt:\n",
    "        df = ccxt_im_client.read_data(\n",
    "            universe, start_ts, end_ts, columns, filter_data_mode\n",
    "        )\n",
    "        # CCXT timestamp data goes up to milliseconds, so one needs to round it to minutes.\n",
    "        df.index = df.reset_index()[\"timestamp\"].apply(\n",
    "            lambda x: x.round(freq=\"T\")\n",
    "        )\n",
    "        # Choose the specific order level (first level by default).\n",
    "        df = clean_data_for_orderbook_level(df)\n",
    "    else:\n",
    "        df = cc_parquet_client.read_data(\n",
    "            universe, start_ts, end_ts, columns, filter_data_mode\n",
    "        )\n",
    "    # Apply transformation.\n",
    "    df = df[bid_ask_cols]\n",
    "    df = df.reset_index().set_index([\"timestamp\", \"full_symbol\"])\n",
    "    return df\n",
    "\n",
    "\n",
    "def clean_data_for_orderbook_level(\n",
    "    df: pd.DataFrame, level: int = 1\n",
    ") -> pd.DataFrame:\n",
    "    \"\"\"\n",
    "    Specify the order level in CCXT bid ask data.\n",
    "\n",
    "    :param df: Data with multiple levels (e.g., bid_price_1, bid_price_2, etc.)\n",
    "    :return: Data where specific level has common name (i.e., bid_price)\n",
    "    \"\"\"\n",
    "    level_cols = [col for col in df.columns if col.endswith(f\"_{level}\")]\n",
    "    level_cols_cleaned = [elem[:-2] for elem in level_cols]\n",
    "    #\n",
    "    zip_iterator = zip(level_cols, level_cols_cleaned)\n",
    "    col_dict = dict(zip_iterator)\n",
    "    #\n",
    "    df = df.rename(columns=col_dict)\n",
    "    #\n",
    "    return df"
   ]
  },
  {
   "cell_type": "markdown",
   "id": "60a4364a",
   "metadata": {},
   "source": [
    "# Initialize clients"
   ]
  },
  {
   "cell_type": "code",
   "execution_count": null,
   "id": "3abae85c",
   "metadata": {
    "run_control": {
     "marked": false
    }
   },
   "outputs": [],
   "source": [
    "# CCXT client.\n",
    "ccxt_im_client = icdcl.CcxtSqlRealTimeImClient(**config[\"data\"][\"ccxt_im_client\"])\n",
    "# CC client.\n",
    "cc_parquet_client = iccdc.CryptoChassisHistoricalPqByTileClient(\n",
    "    **config[\"data\"][\"cc_im_client\"]\n",
    ")"
   ]
  },
  {
   "cell_type": "markdown",
   "id": "f8a7ef43",
   "metadata": {},
   "source": [
    "# Specify universe"
   ]
  },
  {
   "cell_type": "code",
   "execution_count": null,
   "id": "c0eb9f55",
   "metadata": {},
   "outputs": [],
   "source": [
    "# DB universe\n",
    "ccxt_universe = ccxt_im_client.get_universe()\n",
    "# CC universe.\n",
    "cc_universe = cc_parquet_client.get_universe()\n",
    "# Intersection of universes that will be used for analysis.\n",
    "universe = list(set(ccxt_universe) & set(cc_universe))"
   ]
  },
  {
   "cell_type": "code",
   "execution_count": null,
   "id": "53e07cfb",
   "metadata": {},
   "outputs": [],
   "source": [
    "compare_universe = hprint.set_diff_to_str(\n",
    "    cc_universe, ccxt_universe, add_space=True\n",
    ")\n",
    "print(compare_universe)"
   ]
  },
  {
   "cell_type": "markdown",
   "id": "9e225fc3",
   "metadata": {},
   "source": [
    "# Load the data"
   ]
  },
  {
   "cell_type": "markdown",
   "id": "bf6019d1",
   "metadata": {},
   "source": [
    "## Adjust universe"
   ]
  },
  {
   "cell_type": "code",
   "execution_count": null,
   "id": "204a6f31",
   "metadata": {},
   "outputs": [],
   "source": [
    "# Even though they're in the intersected universe,\n",
    "# they are not downloaded in CC.\n",
    "universe.remove(\"binance::XRP_USDT\")\n",
    "universe.remove(\"binance::DOT_USDT\")\n",
    "# These two symbols crashes the downloads on `tz-conversion` stage.\n",
    "universe"
   ]
  },
  {
   "cell_type": "markdown",
   "id": "0eb611b3",
   "metadata": {},
   "source": [
    "## Load data"
   ]
  },
  {
   "cell_type": "code",
   "execution_count": null,
   "id": "eb40c11d",
   "metadata": {},
   "outputs": [],
   "source": [
    "# CCXT data.\n",
    "bid_ask_cols = config[\"column_names\"][\"bid_ask_cols\"]\n",
    "is_ccxt = True\n",
    "#\n",
    "data_ccxt = load_and_transform_the_data(\n",
    "    universe, bid_ask_cols, is_ccxt, **config[\"data\"][\"read_data\"]\n",
    ")"
   ]
  },
  {
   "cell_type": "code",
   "execution_count": null,
   "id": "1519a233",
   "metadata": {},
   "outputs": [],
   "source": [
    "# CC data.\n",
    "is_ccxt = False\n",
    "#\n",
    "data_cc = load_and_transform_the_data(\n",
    "    universe, bid_ask_cols, is_ccxt, **config[\"data\"][\"read_data\"]\n",
    ")"
   ]
  },
  {
   "cell_type": "markdown",
   "id": "0d4539db",
   "metadata": {},
   "source": [
    "# Analysis"
   ]
  },
  {
   "cell_type": "markdown",
   "id": "7d9a6c62",
   "metadata": {},
   "source": [
    "## Merge CC and DB data into one DataFrame"
   ]
  },
  {
   "cell_type": "code",
   "execution_count": null,
   "id": "3d763fe3",
   "metadata": {},
   "outputs": [],
   "source": [
    "data = data_ccxt.merge(\n",
    "    data_cc,\n",
    "    how=\"outer\",\n",
    "    left_index=True,\n",
    "    right_index=True,\n",
    "    suffixes=(\"_ccxt\", \"_cc\"),\n",
    ")\n",
    "_LOG.info(\"Start date = %s\", data.reset_index()[\"timestamp\"].min())\n",
    "_LOG.info(\"End date = %s\", data.reset_index()[\"timestamp\"].max())\n",
    "_LOG.info(\n",
    "    \"Avg observations per coin = %s\",\n",
    "    len(data) / len(data.reset_index()[\"full_symbol\"].unique()),\n",
    ")\n",
    "# Move the same metrics from two vendors together.\n",
    "data = data.reindex(sorted(data.columns), axis=1)\n",
    "# NaNs observation.\n",
    "_LOG.info(\n",
    "    \"Number of observations with NaNs in CryptoChassis = %s\",\n",
    "    len(data[data[\"bid_price_cc\"].isna()]),\n",
    ")\n",
    "_LOG.info(\n",
    "    \"Number of observations with NaNs in CCXT = %s\",\n",
    "    len(data[data[\"bid_price_ccxt\"].isna()]),\n",
    ")\n",
    "# Remove NaNs.\n",
    "data = hpandas.dropna(data, report_stats=True)\n",
    "#\n",
    "display(data.tail())"
   ]
  },
  {
   "cell_type": "markdown",
   "id": "9559b7fd",
   "metadata": {},
   "source": [
    "## Calculate differences"
   ]
  },
  {
   "cell_type": "code",
   "execution_count": null,
   "id": "69503bb3",
   "metadata": {},
   "outputs": [],
   "source": [
    "# Full symbol will not be relevant in calculation loops below.\n",
    "bid_ask_cols.remove(\"full_symbol\")\n",
    "# Each bid ask value will have a notional and a relative difference between two sources.\n",
    "for col in bid_ask_cols:\n",
    "    # Notional difference: CC value - DB value.\n",
    "    data[f\"{col}_diff\"] = data[f\"{col}_cc\"] - data[f\"{col}_ccxt\"]\n",
    "    # Relative value: (CC value - DB value)/DB value.\n",
    "    data[f\"{col}_relative_diff_pct\"] = (\n",
    "        100 * (data[f\"{col}_cc\"] - data[f\"{col}_ccxt\"]) / data[f\"{col}_ccxt\"]\n",
    "    )\n",
    "#\n",
    "data.head()"
   ]
  },
  {
   "cell_type": "code",
   "execution_count": null,
   "id": "312e29c1",
   "metadata": {},
   "outputs": [],
   "source": [
    "# Calculate the mean value of differences for each coin.\n",
    "diff_stats = []\n",
    "grouper = data.groupby([\"full_symbol\"])\n",
    "for col in bid_ask_cols:\n",
    "    diff_stats.append(grouper[f\"{col}_diff\"].mean())\n",
    "    diff_stats.append(grouper[f\"{col}_relative_diff_pct\"].mean())\n",
    "#\n",
    "diff_stats = pd.concat(diff_stats, axis=1)"
   ]
  },
  {
   "cell_type": "markdown",
   "id": "b76c0202",
   "metadata": {},
   "source": [
    "## Show stats for differences (in %)"
   ]
  },
  {
   "cell_type": "markdown",
   "id": "6c134fd8",
   "metadata": {},
   "source": [
    "### Prices"
   ]
  },
  {
   "cell_type": "code",
   "execution_count": null,
   "id": "784f9427",
   "metadata": {},
   "outputs": [],
   "source": [
    "diff_stats[[\"bid_price_relative_diff_pct\", \"ask_price_relative_diff_pct\"]]"
   ]
  },
  {
   "cell_type": "markdown",
   "id": "94181a52",
   "metadata": {},
   "source": [
    "As one can see, the difference between bid and ask prices in DB and CC are less than 1%."
   ]
  },
  {
   "cell_type": "markdown",
   "id": "c8db897a",
   "metadata": {},
   "source": [
    "### Sizes"
   ]
  },
  {
   "cell_type": "code",
   "execution_count": null,
   "id": "1dcdcfc8",
   "metadata": {},
   "outputs": [],
   "source": [
    "diff_stats[[\"bid_size_relative_diff_pct\", \"ask_size_relative_diff_pct\"]]"
   ]
  },
  {
   "cell_type": "markdown",
   "id": "59f278cc",
   "metadata": {},
   "source": [
    "The difference between bid and ask sizes in DB and CC is solid and accounts for more than 100% for each full symbol."
   ]
  },
  {
   "cell_type": "markdown",
   "id": "3338e9b6",
   "metadata": {},
   "source": [
    "## Correlations"
   ]
  },
  {
   "cell_type": "markdown",
   "id": "6700ca9e",
   "metadata": {},
   "source": [
    "### Bid price"
   ]
  },
  {
   "cell_type": "code",
   "execution_count": null,
   "id": "dcd1dc9b",
   "metadata": {},
   "outputs": [],
   "source": [
    "bid_price_corr_matrix = (\n",
    "    data[[\"bid_price_cc\", \"bid_price_ccxt\"]].groupby(level=1).corr()\n",
    ")\n",
    "bid_price_corr_matrix"
   ]
  },
  {
   "cell_type": "markdown",
   "id": "16c63702",
   "metadata": {},
   "source": [
    "Correlation stats confirms the stats above: bid prices in DB and CC are highly correlated."
   ]
  },
  {
   "cell_type": "markdown",
   "id": "69fe3db0",
   "metadata": {},
   "source": [
    "### Ask price"
   ]
  },
  {
   "cell_type": "code",
   "execution_count": null,
   "id": "98ee7b65",
   "metadata": {},
   "outputs": [],
   "source": [
    "ask_price_corr_matrix = (\n",
    "    data[[\"ask_price_cc\", \"ask_price_ccxt\"]].groupby(level=1).corr()\n",
    ")\n",
    "ask_price_corr_matrix"
   ]
  },
  {
   "cell_type": "markdown",
   "id": "5b325cb3",
   "metadata": {},
   "source": [
    "Correlation stats confirms the stats above: ask prices in DB and CC are highly correlated."
   ]
  },
  {
   "cell_type": "markdown",
   "id": "3409d2e7",
   "metadata": {},
   "source": [
    "### Bid size"
   ]
  },
  {
   "cell_type": "code",
   "execution_count": null,
   "id": "241929a5",
   "metadata": {},
   "outputs": [],
   "source": [
    "bid_size_corr_matrix = (\n",
    "    data[[\"bid_size_cc\", \"bid_size_ccxt\"]].groupby(level=1).corr()\n",
    ")\n",
    "bid_size_corr_matrix"
   ]
  },
  {
   "cell_type": "markdown",
   "id": "30dc617b",
   "metadata": {},
   "source": [
    "Correlation stats confirms the stats above: bid sizes in DB and CC are not correlated."
   ]
  },
  {
   "cell_type": "markdown",
   "id": "b76d93ec",
   "metadata": {},
   "source": [
    "### Ask size"
   ]
  },
  {
   "cell_type": "code",
   "execution_count": null,
   "id": "416436b8",
   "metadata": {},
   "outputs": [],
   "source": [
    "ask_size_corr_matrix = (\n",
    "    data[[\"ask_size_cc\", \"ask_size_ccxt\"]].groupby(level=1).corr()\n",
    ")\n",
    "ask_size_corr_matrix"
   ]
  },
  {
   "cell_type": "markdown",
   "id": "870767f1",
   "metadata": {},
   "source": [
    "Correlation stats confirms the stats above: ask sizes in DB and CC are not correlated."
   ]
  }
 ],
 "metadata": {
  "kernelspec": {
   "display_name": "Python 3 (ipykernel)",
   "language": "python",
   "name": "python3"
  },
  "language_info": {
   "codemirror_mode": {
    "name": "ipython",
    "version": 3
   },
   "file_extension": ".py",
   "mimetype": "text/x-python",
   "name": "python",
   "nbconvert_exporter": "python",
   "pygments_lexer": "ipython3"
  },
  "toc": {
   "base_numbering": 1,
   "nav_menu": {},
   "number_sections": true,
   "sideBar": true,
   "skip_h1_title": false,
   "title_cell": "Table of Contents",
   "title_sidebar": "Contents",
   "toc_cell": false,
   "toc_position": {
    "height": "calc(100% - 180px)",
    "left": "10px",
    "top": "150px",
    "width": "249px"
   },
   "toc_section_display": true,
   "toc_window_display": true
  }
 },
 "nbformat": 4,
 "nbformat_minor": 5
}
