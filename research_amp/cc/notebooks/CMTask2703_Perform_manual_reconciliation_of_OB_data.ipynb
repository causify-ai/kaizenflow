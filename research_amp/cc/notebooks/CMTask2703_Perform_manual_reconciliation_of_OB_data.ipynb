{
 "cells": [
  {
   "cell_type": "markdown",
   "id": "13ea08e1",
   "metadata": {},
   "source": [
    "- DB data = CCXT realtime bid-ask data collection for futures\n",
    "- CC data = CC bid ask futures data"
   ]
  },
  {
   "cell_type": "markdown",
   "id": "e545da78",
   "metadata": {},
   "source": [
    "# Imports"
   ]
  },
  {
   "cell_type": "code",
   "execution_count": null,
   "id": "c4780eec",
   "metadata": {},
   "outputs": [],
   "source": [
    "import logging\n",
    "import os\n",
    "\n",
    "import pandas as pd\n",
    "\n",
    "import helpers.hdbg as hdbg\n",
    "import helpers.henv as henv\n",
    "import helpers.hprint as hprint\n",
    "import helpers.hs3 as hs3\n",
    "import helpers.hsql as hsql\n",
    "import im_v2.ccxt.data.client as icdcl\n",
    "import im_v2.crypto_chassis.data.client.crypto_chassis_clients as imvccdcccc\n",
    "import im_v2.im_lib_tasks as imvimlita"
   ]
  },
  {
   "cell_type": "code",
   "execution_count": null,
   "id": "409c1bfd",
   "metadata": {},
   "outputs": [],
   "source": [
    "hdbg.init_logger(verbosity=logging.INFO)\n",
    "\n",
    "_LOG = logging.getLogger(__name__)\n",
    "\n",
    "_LOG.info(\"%s\", henv.get_system_signature()[0])\n",
    "\n",
    "hprint.config_notebook()"
   ]
  },
  {
   "cell_type": "markdown",
   "id": "339395c6",
   "metadata": {},
   "source": [
    "# Functions"
   ]
  },
  {
   "cell_type": "code",
   "execution_count": null,
   "id": "de4df8f3",
   "metadata": {},
   "outputs": [],
   "source": [
    "def load_and_transform_the_data(\n",
    "    universe, start_ts, end_ts, columns, filter_data_mode, cols, is_db: bool\n",
    "):\n",
    "    if is_db:\n",
    "        df = cc_parquet_client.read_data(\n",
    "            universe, start_ts, end_ts, columns, filter_data_mode\n",
    "        )\n",
    "    else:\n",
    "        df = db_im_client.read_data(\n",
    "            universe, start_ts, end_ts, columns, filter_data_mode\n",
    "        )\n",
    "        df.index = df.reset_index()[\"timestamp\"].apply(\n",
    "            lambda x: x.round(freq=\"T\")\n",
    "        )\n",
    "    df = df[cols]\n",
    "    df = df.reset_index().set_index([\"timestamp\", \"full_symbol\"])\n",
    "    return df"
   ]
  },
  {
   "cell_type": "markdown",
   "id": "60a4364a",
   "metadata": {},
   "source": [
    "# Initiate clients"
   ]
  },
  {
   "cell_type": "code",
   "execution_count": null,
   "id": "3abae85c",
   "metadata": {},
   "outputs": [],
   "source": [
    "# DB connection.\n",
    "env_file = imvimlita.get_db_env_path(\"dev\")\n",
    "connection_params = hsql.get_connection_info_from_env_file(env_file)\n",
    "db_connection = hsql.get_connection(*connection_params)\n",
    "# DB client.\n",
    "resample_1min = False\n",
    "db_im_client = icdcl.CcxtSqlRealTimeImClient(\n",
    "    resample_1min, db_connection, \"ccxt_bid_ask_futures_test\"\n",
    ")"
   ]
  },
  {
   "cell_type": "code",
   "execution_count": null,
   "id": "539c466d",
   "metadata": {},
   "outputs": [],
   "source": [
    "# CC client.\n",
    "resample_1min = True\n",
    "universe_version = None\n",
    "aws_profile = \"ck\"\n",
    "s3_bucket_path = hs3.get_s3_bucket_path(aws_profile)\n",
    "root_dir = os.path.join(s3_bucket_path, \"reorg\", \"daily_staged.airflow.pq\")\n",
    "partition_mode = \"by_year_month\"\n",
    "dataset = \"bid_ask\"\n",
    "contract_type = \"futures\"\n",
    "data_snapshot = \"\"\n",
    "cc_parquet_client = imvccdcccc.CryptoChassisHistoricalPqByTileClient(\n",
    "    universe_version,\n",
    "    resample_1min,\n",
    "    root_dir,\n",
    "    partition_mode,\n",
    "    dataset,\n",
    "    contract_type,\n",
    "    data_snapshot,\n",
    "    aws_profile=aws_profile,\n",
    ")"
   ]
  },
  {
   "cell_type": "markdown",
   "id": "f8a7ef43",
   "metadata": {},
   "source": [
    "# Specify universe"
   ]
  },
  {
   "cell_type": "code",
   "execution_count": null,
   "id": "9135811c",
   "metadata": {},
   "outputs": [],
   "source": [
    "# DB universe\n",
    "db_universe = db_im_client.get_universe()\n",
    "print(\"DB universe:\", \"\\n\", db_universe)\n",
    "# CC universe.\n",
    "cc_universe = cc_parquet_client.get_universe()\n",
    "print(\"\\n\", \"CC universe:\", \"\\n\", cc_universe)\n",
    "# Intersection of the universes above.\n",
    "universe = [value for value in db_universe if value in cc_universe]\n",
    "print(\"\\n\", \"Intersected universe:\", \"\\n\", universe)"
   ]
  },
  {
   "cell_type": "markdown",
   "id": "9e225fc3",
   "metadata": {},
   "source": [
    "# Load the data"
   ]
  },
  {
   "cell_type": "markdown",
   "id": "bf6019d1",
   "metadata": {},
   "source": [
    "## Adjust universe"
   ]
  },
  {
   "cell_type": "code",
   "execution_count": null,
   "id": "204a6f31",
   "metadata": {},
   "outputs": [],
   "source": [
    "# Even though they're in the intersected universe,\n",
    "# they are not downloaded in CC.\n",
    "universe.remove(\"binance::XRP_USDT\")\n",
    "universe.remove(\"binance::DOT_USDT\")\n",
    "\n",
    "universe"
   ]
  },
  {
   "cell_type": "markdown",
   "id": "b5aced23",
   "metadata": {},
   "source": [
    "## Specify params"
   ]
  },
  {
   "cell_type": "code",
   "execution_count": null,
   "id": "1fc6dbd8",
   "metadata": {},
   "outputs": [],
   "source": [
    "# DB data starts from here.\n",
    "start_ts = pd.Timestamp(\"2022-09-08 22:06:00+00:00\")\n",
    "end_ts = columns = None\n",
    "filter_data_mode = \"assert\"\n",
    "bid_ask_cols = [\"bid_price\", \"bid_size\", \"ask_price\", \"ask_size\", \"full_symbol\"]"
   ]
  },
  {
   "cell_type": "markdown",
   "id": "0eb611b3",
   "metadata": {},
   "source": [
    "## Load data"
   ]
  },
  {
   "cell_type": "code",
   "execution_count": null,
   "id": "3e25246a",
   "metadata": {},
   "outputs": [],
   "source": [
    "data_cc = load_and_transform_the_data(\n",
    "    universe,\n",
    "    start_ts,\n",
    "    end_ts,\n",
    "    columns,\n",
    "    filter_data_mode,\n",
    "    bid_ask_cols,\n",
    "    is_db=False,\n",
    ")\n",
    "data_db = load_and_transform_the_data(\n",
    "    universe,\n",
    "    start_ts,\n",
    "    end_ts,\n",
    "    columns,\n",
    "    filter_data_mode,\n",
    "    bid_ask_cols,\n",
    "    is_db=True,\n",
    ")"
   ]
  },
  {
   "cell_type": "markdown",
   "id": "0d4539db",
   "metadata": {},
   "source": [
    "# Analysis"
   ]
  },
  {
   "cell_type": "markdown",
   "id": "7d9a6c62",
   "metadata": {},
   "source": [
    "## Merge CC and DB data into one DataFrame"
   ]
  },
  {
   "cell_type": "code",
   "execution_count": null,
   "id": "3d763fe3",
   "metadata": {},
   "outputs": [],
   "source": [
    "data = data_db.merge(\n",
    "    data_cc, left_index=True, right_index=True, suffixes=(\"_db\", \"_cc\")\n",
    ")\n",
    "print(\"Start date:\", data.reset_index()[\"timestamp\"].min())\n",
    "print(\"End date:\", data.reset_index()[\"timestamp\"].max())\n",
    "print(\n",
    "    \"Avg observations per coin:\",\n",
    "    len(data) / len(data.reset_index()[\"full_symbol\"].unique()),\n",
    ")\n",
    "display(data.tail())"
   ]
  },
  {
   "cell_type": "markdown",
   "id": "9559b7fd",
   "metadata": {},
   "source": [
    "## Calculate differences"
   ]
  },
  {
   "cell_type": "code",
   "execution_count": null,
   "id": "69503bb3",
   "metadata": {},
   "outputs": [],
   "source": [
    "# Full symbol will not be relevant in calculation loops below.\n",
    "bid_ask_cols.remove(\"full_symbol\")\n",
    "# Each bid ask value will have a notional and a relative difference between two sources. \n",
    "for col in bid_ask_cols:\n",
    "    # Notional difference: CC value - DB value.\n",
    "    data[f\"{col}_diff\"] = data[f\"{col}_cc\"] - data[f\"{col}_db\"]\n",
    "    # Relative value: (CC value - DB value)/DB value.\n",
    "    data[f\"{col}_relative_diff\"] = (data[f\"{col}_cc\"] - data[f\"{col}_db\"]) / data[\n",
    "        f\"{col}_db\"\n",
    "    ]\n",
    "\n",
    "data.head()"
   ]
  },
  {
   "cell_type": "code",
   "execution_count": null,
   "id": "312e29c1",
   "metadata": {},
   "outputs": [],
   "source": [
    "# Calculate the mean value of differences for each coin.\n",
    "diff_stats = []\n",
    "grouper = data.groupby([\"full_symbol\"])\n",
    "for col in bid_ask_cols:\n",
    "    diff_stats.append(grouper[f\"{col}_diff\"].mean())\n",
    "    diff_stats.append(grouper[f\"{col}_relative_diff\"].mean())\n",
    "\n",
    "diff_stats = pd.concat(diff_stats, axis=1)"
   ]
  },
  {
   "cell_type": "markdown",
   "id": "b76c0202",
   "metadata": {},
   "source": [
    "## Show stats for differences"
   ]
  },
  {
   "cell_type": "markdown",
   "id": "6c134fd8",
   "metadata": {},
   "source": [
    "### Prices"
   ]
  },
  {
   "cell_type": "code",
   "execution_count": null,
   "id": "784f9427",
   "metadata": {},
   "outputs": [],
   "source": [
    "diff_stats[[\"bid_price_relative_diff\", \"ask_price_relative_diff\"]]"
   ]
  },
  {
   "cell_type": "markdown",
   "id": "ae03d5a4",
   "metadata": {},
   "source": [
    "As one can see, the difference between bid and ask prices in DB and CC are less than 1%."
   ]
  },
  {
   "cell_type": "markdown",
   "id": "c8db897a",
   "metadata": {},
   "source": [
    "### Sizes"
   ]
  },
  {
   "cell_type": "code",
   "execution_count": null,
   "id": "1dcdcfc8",
   "metadata": {},
   "outputs": [],
   "source": [
    "diff_stats[[\"bid_size_relative_diff\", \"ask_size_relative_diff\"]]"
   ]
  },
  {
   "cell_type": "markdown",
   "id": "da08247e",
   "metadata": {},
   "source": [
    "The difference between bid and ask sizes in DB and CC is solid and accounts for more than 100% for each full symbol."
   ]
  },
  {
   "cell_type": "markdown",
   "id": "3338e9b6",
   "metadata": {},
   "source": [
    "## Correlations"
   ]
  },
  {
   "cell_type": "markdown",
   "id": "6700ca9e",
   "metadata": {},
   "source": [
    "### Bid price"
   ]
  },
  {
   "cell_type": "code",
   "execution_count": null,
   "id": "6f092cbb",
   "metadata": {},
   "outputs": [],
   "source": [
    "bid_price_corr_matrix = data[[\"bid_price_cc\", \"bid_price_db\"]].groupby(level=1).corr()\n",
    "bid_price_corr_matrix"
   ]
  },
  {
   "cell_type": "markdown",
   "id": "5e905f5c",
   "metadata": {},
   "source": [
    "Correlation stats confirms the stats above: bid prices in DB and CC are highly correlated."
   ]
  },
  {
   "cell_type": "markdown",
   "id": "69fe3db0",
   "metadata": {},
   "source": [
    "### Ask price"
   ]
  },
  {
   "cell_type": "code",
   "execution_count": null,
   "id": "98ee7b65",
   "metadata": {},
   "outputs": [],
   "source": [
    "ask_price_corr_matrix = data[[\"ask_price_cc\", \"ask_price_db\"]].groupby(level=1).corr()\n",
    "ask_price_corr_matrix"
   ]
  },
  {
   "cell_type": "markdown",
   "id": "92ad2a34",
   "metadata": {},
   "source": [
    "Correlation stats confirms the stats above: ask prices in DB and CC are highly correlated."
   ]
  },
  {
   "cell_type": "markdown",
   "id": "3409d2e7",
   "metadata": {},
   "source": [
    "### Bid size"
   ]
  },
  {
   "cell_type": "code",
   "execution_count": null,
   "id": "241929a5",
   "metadata": {},
   "outputs": [],
   "source": [
    "bid_size_corr_matrix = data[[\"bid_size_cc\", \"bid_size_db\"]].groupby(level=1).corr()\n",
    "bid_size_corr_matrix"
   ]
  },
  {
   "cell_type": "markdown",
   "id": "5920370e",
   "metadata": {},
   "source": [
    "Correlation stats confirms the stats above: bid sizes in DB and CC are not correlated."
   ]
  },
  {
   "cell_type": "markdown",
   "id": "b76d93ec",
   "metadata": {},
   "source": [
    "### Ask size"
   ]
  },
  {
   "cell_type": "code",
   "execution_count": null,
   "id": "416436b8",
   "metadata": {},
   "outputs": [],
   "source": [
    "ask_size_corr_matrix = data[[\"ask_size_cc\", \"ask_size_db\"]].groupby(level=1).corr()\n",
    "ask_size_corr_matrix"
   ]
  },
  {
   "cell_type": "markdown",
   "id": "322280cc",
   "metadata": {},
   "source": [
    "Correlation stats confirms the stats above: ask sizes in DB and CC are not correlated."
   ]
  }
 ],
 "metadata": {
  "kernelspec": {
   "display_name": "Python 3 (ipykernel)",
   "language": "python",
   "name": "python3"
  },
  "language_info": {
   "codemirror_mode": {
    "name": "ipython",
    "version": 3
   },
   "file_extension": ".py",
   "mimetype": "text/x-python",
   "name": "python",
   "nbconvert_exporter": "python",
   "pygments_lexer": "ipython3"
  },
  "toc": {
   "base_numbering": 1,
   "nav_menu": {},
   "number_sections": true,
   "sideBar": true,
   "skip_h1_title": false,
   "title_cell": "Table of Contents",
   "title_sidebar": "Contents",
   "toc_cell": false,
   "toc_position": {},
   "toc_section_display": true,
   "toc_window_display": true
  }
 },
 "nbformat": 4,
 "nbformat_minor": 5
}
