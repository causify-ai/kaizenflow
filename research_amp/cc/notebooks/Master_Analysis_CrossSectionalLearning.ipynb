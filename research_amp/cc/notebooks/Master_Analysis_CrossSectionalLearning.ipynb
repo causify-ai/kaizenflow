{
 "cells": [
  {
   "cell_type": "markdown",
   "id": "4edc5012",
   "metadata": {},
   "source": [
    "# Imports"
   ]
  },
  {
   "cell_type": "code",
   "execution_count": null,
   "id": "c54c8061",
   "metadata": {},
   "outputs": [],
   "source": [
    "%load_ext autoreload\n",
    "%autoreload 2\n",
    "\n",
    "import logging\n",
    "import os\n",
    "\n",
    "import pandas as pd\n",
    "import numpy as np\n",
    "import core.config.config_ as cconconf\n",
    "import core.config.config_utils as ccocouti\n",
    "import core.explore as coexplor\n",
    "import core.signal_processing.incremental_pca as csprinpc\n",
    "import helpers.hdbg as hdbg\n",
    "import helpers.hprint as hprint\n",
    "import helpers.hs3 as hs3\n",
    "import im_v2.crypto_chassis.data.client.crypto_chassis_clients as imvccdcccc\n",
    "import research_amp.transform as ramptran\n",
    "from sklearn.preprocessing import StandardScaler\n",
    "import helpers.hpandas as hpandas\n",
    "from sklearn.decomposition import PCA\n",
    "import matplotlib.pyplot as plt"
   ]
  },
  {
   "cell_type": "code",
   "execution_count": null,
   "id": "e0cd77ad",
   "metadata": {},
   "outputs": [],
   "source": [
    "hdbg.init_logger(verbosity=logging.INFO)\n",
    "\n",
    "_LOG = logging.getLogger(__name__)\n",
    "\n",
    "hprint.config_notebook()"
   ]
  },
  {
   "cell_type": "markdown",
   "id": "706cf2a5",
   "metadata": {},
   "source": [
    "# Config"
   ]
  },
  {
   "cell_type": "code",
   "execution_count": null,
   "id": "ca82792e",
   "metadata": {},
   "outputs": [],
   "source": [
    "def get_CrossSectionalLearning_config() -> cconconf.Config:\n",
    "    \"\"\"\n",
    "    Get config, that specifies params for getting raw data from `crypto\n",
    "    chassis`.\n",
    "    \"\"\"\n",
    "    config = cconconf.Config()\n",
    "    param_dict = {\n",
    "        \"data\": {\n",
    "            # Parameters for client initialization.\n",
    "            \"im_client\": {\n",
    "                \"universe_version\": \"v1\",\n",
    "                \"resample_1min\": True,\n",
    "                \"root_dir\": os.path.join(\n",
    "                    hs3.get_s3_bucket_path(\"ck\"),\n",
    "                    \"reorg\",\n",
    "                    \"historical.manual.pq\",\n",
    "                ),\n",
    "                \"partition_mode\": \"by_year_month\",\n",
    "                \"data_snapshot\": \"latest\",\n",
    "                \"aws_profile\": \"ck\",\n",
    "            },\n",
    "            # Parameters for data query.\n",
    "            \"read_data\": {\n",
    "                \"start_ts\": pd.Timestamp(\"2022-01-01 00:00\", tz=\"UTC\"),\n",
    "                \"end_ts\": pd.Timestamp(\"2022-04-01 00:00\", tz=\"UTC\"),\n",
    "                \"columns\": None,\n",
    "                \"filter_data_mode\": \"assert\",\n",
    "            },\n",
    "            \"transform\": {\n",
    "                \"ohlcv_cols\": [\n",
    "                    \"open\",\n",
    "                    \"high\",\n",
    "                    \"low\",\n",
    "                    \"close\",\n",
    "                    \"volume\",\n",
    "                    \"full_symbol\",\n",
    "                ],\n",
    "                \"resampling_rule\": \"5T\",\n",
    "                \"rets_type\": \"pct_change\",\n",
    "            },\n",
    "        },\n",
    "        \"analysis\": {\n",
    "            \"reference_rets\": \"close.ret_0\",  # e.g.,\"vwap.ret_0\", \"twap.ret_0\"\n",
    "            \"rets_type\": \"volume\",\n",
    "        },\n",
    "        \"model\": {\n",
    "            \"delay_lag\": 1,\n",
    "            \"num_lags\": 4,\n",
    "        },\n",
    "    }\n",
    "    config = ccocouti.get_config_from_nested_dict(param_dict)\n",
    "    return config"
   ]
  },
  {
   "cell_type": "code",
   "execution_count": null,
   "id": "f27d4b78",
   "metadata": {},
   "outputs": [],
   "source": [
    "config = get_CrossSectionalLearning_config()\n",
    "print(config)"
   ]
  },
  {
   "cell_type": "markdown",
   "id": "f50a6be9",
   "metadata": {},
   "source": [
    "# Load the data"
   ]
  },
  {
   "cell_type": "code",
   "execution_count": null,
   "id": "1faf66f6",
   "metadata": {},
   "outputs": [],
   "source": [
    "# Initiate the client.\n",
    "client = imvccdcccc.CryptoChassisHistoricalPqByTileClient(\n",
    "    **config[\"data\"][\"im_client\"]\n",
    ")\n",
    "# Get universe of `full_symbols`.\n",
    "universe = client.get_universe()\n",
    "# Load OHLCV data.\n",
    "ohlcv_cc = client.read_data(universe, **config[\"data\"][\"read_data\"])\n",
    "# Post-processing.\n",
    "ohlcv_cc = ohlcv_cc[config[\"data\"][\"transform\"][\"ohlcv_cols\"]]\n",
    "ohlcv_cc.head(3)"
   ]
  },
  {
   "cell_type": "code",
   "execution_count": null,
   "id": "253e0377",
   "metadata": {},
   "outputs": [],
   "source": [
    "# Loaded universe.\n",
    "print(ohlcv_cc[\"full_symbol\"].unique())"
   ]
  },
  {
   "cell_type": "markdown",
   "id": "beeeb9a3",
   "metadata": {},
   "source": [
    "# Compute returns"
   ]
  },
  {
   "cell_type": "code",
   "execution_count": null,
   "id": "7e841f6f",
   "metadata": {},
   "outputs": [],
   "source": [
    "# VWAP, TWAP transformation.\n",
    "df = ramptran.calculate_vwap_twap(\n",
    "    ohlcv_cc, config[\"data\"][\"transform\"][\"resampling_rule\"]\n",
    ")\n",
    "# Returns calculation.\n",
    "df = ramptran.calculate_returns(df, config[\"data\"][\"transform\"][\"rets_type\"])\n",
    "# Choose reference returns to proceed to further analysis.\n",
    "df = df[config[\"analysis\"][\"reference_rets\"]]\n",
    "df.head(3)"
   ]
  },
  {
   "cell_type": "markdown",
   "id": "fced78ba",
   "metadata": {},
   "source": [
    "# Residualize returns"
   ]
  },
  {
   "cell_type": "markdown",
   "id": "c7164b47",
   "metadata": {},
   "source": [
    "## Estimate PCA"
   ]
  },
  {
   "cell_type": "markdown",
   "id": "49dd68bb",
   "metadata": {},
   "source": [
    "### Standartize data"
   ]
  },
  {
   "cell_type": "code",
   "execution_count": null,
   "id": "1910913a",
   "metadata": {},
   "outputs": [],
   "source": [
    "# Initiate scaler.\n",
    "sc = StandardScaler()\n",
    "# Normalize data.\n",
    "df_values = df.values\n",
    "data_normalized = sc.fit_transform(df_values)\n",
    "# Get back to DataFrame representation.\n",
    "data_normalized = pd.DataFrame(data_normalized, columns=df.columns, index=df.index)\n",
    "# Get rid of NaNs.\n",
    "data_normalized = hpandas.dropna(data_normalized)\n",
    "data_normalized.head(3)"
   ]
  },
  {
   "cell_type": "code",
   "execution_count": null,
   "id": "82d5814e",
   "metadata": {},
   "outputs": [],
   "source": [
    "# Check the normalization (should be ~0 for mean, ~1 for standard deviation).\n",
    "mean_std_check = pd.DataFrame()\n",
    "for cols in data_normalized.columns:\n",
    "    mean_std_check.loc[cols, \"mean\"] = data_normalized[cols].mean()\n",
    "    mean_std_check.loc[cols, \"std_dev\"] = data_normalized[cols].std()\n",
    "\n",
    "mean_std_check.round(3)"
   ]
  },
  {
   "cell_type": "markdown",
   "id": "d0b85b13",
   "metadata": {},
   "source": [
    "### Choose the number of principal components"
   ]
  },
  {
   "cell_type": "code",
   "execution_count": null,
   "id": "c2025d7f",
   "metadata": {},
   "outputs": [],
   "source": [
    "pca = PCA().fit(data_normalized)\n",
    "plt.plot(np.cumsum(pca.explained_variance_ratio_))\n",
    "plt.xlabel(\"number_of_components\")\n",
    "plt.ylabel(\"cumulative_explained_variance\")"
   ]
  },
  {
   "cell_type": "code",
   "execution_count": null,
   "id": "ff5f59b5",
   "metadata": {},
   "outputs": [],
   "source": [
    "explained_variance_ratio_cumsum = np.cumsum(pca.explained_variance_ratio_)\n",
    "num_of_required_comp = len(explained_variance_ratio_cumsum[explained_variance_ratio_cumsum < 0.95])\n",
    "print(f\"Number of required PCA components: {num_of_required_comp}\")"
   ]
  },
  {
   "cell_type": "markdown",
   "id": "2a7f98f4",
   "metadata": {},
   "source": [
    "### PCA calculations"
   ]
  },
  {
   "cell_type": "markdown",
   "id": "9c012274",
   "metadata": {},
   "source": [
    "### Rolling PCA (omit for now)"
   ]
  },
  {
   "cell_type": "code",
   "execution_count": null,
   "id": "1c237dbe",
   "metadata": {},
   "outputs": [],
   "source": [
    "# Params.\n",
    "sample = df[\"close.ret_0\"].head(1000)\n",
    "nan_mode = \"drop\"\n",
    "com = 1\n",
    "# Rolling PCA calculations.\n",
    "corr_df, eigval_df, eigvec_df = coexplor.rolling_pca_over_time(\n",
    "    sample, com, nan_mode\n",
    ")\n",
    "eigval_df.columns = sample.columns\n",
    "eigvec_df.columns = sample.columns\n",
    "coexplor.plot_pca_over_time(eigval_df, eigvec_df)"
   ]
  }
 ],
 "metadata": {
  "kernelspec": {
   "display_name": "Python 3 (ipykernel)",
   "language": "python",
   "name": "python3"
  },
  "language_info": {
   "codemirror_mode": {
    "name": "ipython",
    "version": 3
   },
   "file_extension": ".py",
   "mimetype": "text/x-python",
   "name": "python",
   "nbconvert_exporter": "python",
   "pygments_lexer": "ipython3"
  },
  "toc": {
   "base_numbering": 1,
   "nav_menu": {},
   "number_sections": true,
   "sideBar": true,
   "skip_h1_title": false,
   "title_cell": "Table of Contents",
   "title_sidebar": "Contents",
   "toc_cell": false,
   "toc_position": {},
   "toc_section_display": true,
   "toc_window_display": true
  }
 },
 "nbformat": 4,
 "nbformat_minor": 5
}
