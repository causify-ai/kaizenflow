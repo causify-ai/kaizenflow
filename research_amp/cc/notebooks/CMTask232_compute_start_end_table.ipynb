{
 "cells": [
  {
   "cell_type": "markdown",
   "id": "6c7d4ad7",
   "metadata": {},
   "source": [
    "# Description"
   ]
  },
  {
   "cell_type": "markdown",
   "id": "865f664a",
   "metadata": {},
   "source": [
    "This notebook computes data statistics per exchange id and currency pair for a given vendor universe."
   ]
  },
  {
   "cell_type": "markdown",
   "id": "743eba77",
   "metadata": {},
   "source": [
    "# Imports"
   ]
  },
  {
   "cell_type": "code",
   "execution_count": null,
   "id": "6541f5db",
   "metadata": {},
   "outputs": [],
   "source": [
    "import logging\n",
    "import os\n",
    "\n",
    "import core.config.config_ as cconconf\n",
    "import helpers.hdbg as hdbg\n",
    "import helpers.henv as henv\n",
    "import helpers.hprint as hprint\n",
    "import helpers.hs3 as hs3\n",
    "import im_v2.common.universe as ivcu\n",
    "import research_amp.cc.statistics as ramccsta"
   ]
  },
  {
   "cell_type": "code",
   "execution_count": null,
   "id": "0ac98ec8",
   "metadata": {
    "lines_to_next_cell": 1
   },
   "outputs": [],
   "source": [
    "hdbg.init_logger(verbosity=logging.INFO)\n",
    "\n",
    "_LOG = logging.getLogger(__name__)\n",
    "\n",
    "_LOG.info(\"%s\", henv.get_system_signature()[0])\n",
    "\n",
    "hprint.config_notebook()\n",
    "\n",
    "AM_AWS_PROFILE = \"am\""
   ]
  },
  {
   "cell_type": "markdown",
   "id": "3ba88f9a",
   "metadata": {},
   "source": [
    "# Config"
   ]
  },
  {
   "cell_type": "code",
   "execution_count": null,
   "id": "7dd24246",
   "metadata": {},
   "outputs": [],
   "source": [
    "def get_cmtask232_config() -> cconconf.Config:\n",
    "    \"\"\"\n",
    "    Get task232-specific config.\n",
    "    \"\"\"\n",
    "    config = cconconf.Config()\n",
    "    # Load parameters.\n",
    "    config.add_subconfig(\"load\")\n",
    "    config[\"load\"][\"aws_profile\"] = AM_AWS_PROFILE\n",
    "    config[\"load\"][\"data_dir\"] = os.path.join(\n",
    "        hs3.get_s3_bucket_path(AM_AWS_PROFILE), \"data\"\n",
    "    )\n",
    "    # Data parameters.\n",
    "    config.add_subconfig(\"data\")\n",
    "    config[\"data\"][\"data_type\"] = \"OHLCV\"\n",
    "    config[\"data\"][\"target_frequency\"] = \"T\"\n",
    "    config[\"data\"][\"universe_version\"] = \"v03\"\n",
    "    config[\"data\"][\"vendor\"] = \"CCXT\"\n",
    "    # Column names.\n",
    "    config.add_subconfig(\"column_names\")\n",
    "    config[\"column_names\"][\"close_price\"] = \"close\"\n",
    "    config[\"column_names\"][\"currency_pair\"] = \"currency_pair\"\n",
    "    config[\"column_names\"][\"exchange_id\"] = \"exchange_id\"\n",
    "    return config\n",
    "\n",
    "\n",
    "config = get_cmtask232_config()\n",
    "print(config)"
   ]
  },
  {
   "cell_type": "markdown",
   "id": "944e359f",
   "metadata": {},
   "source": [
    "# Compute start-end table"
   ]
  },
  {
   "cell_type": "markdown",
   "id": "fac93f6c",
   "metadata": {},
   "source": [
    "## Per exchange id and currency pair for a specified vendor"
   ]
  },
  {
   "cell_type": "code",
   "execution_count": null,
   "id": "cbab12fc",
   "metadata": {},
   "outputs": [],
   "source": [
    "vendor_universe = ivcu.get_vendor_universe(\n",
    "    config[\"data\"][\"vendor\"],\n",
    "    version=config[\"data\"][\"universe_version\"],\n",
    "    as_full_symbol=True,\n",
    ")\n",
    "vendor_universe"
   ]
  },
  {
   "cell_type": "code",
   "execution_count": null,
   "id": "7c1c85d0",
   "metadata": {},
   "outputs": [],
   "source": [
    "compute_start_end_stats = lambda data: ramccsta.compute_start_end_stats(\n",
    "    data, config\n",
    ")\n",
    "\n",
    "start_end_table = ramccsta.compute_stats_for_universe(\n",
    "    vendor_universe, config, compute_start_end_stats\n",
    ")"
   ]
  },
  {
   "cell_type": "code",
   "execution_count": null,
   "id": "6fc28e37",
   "metadata": {},
   "outputs": [],
   "source": [
    "# Post-process results.\n",
    "cols_to_sort_by = [\"coverage\", \"longest_not_nan_seq_perc\"]\n",
    "cols_to_round = [\n",
    "    \"coverage\",\n",
    "    \"avg_data_points_per_day\",\n",
    "    \"longest_not_nan_seq_perc\",\n",
    "]\n",
    "stats_table = ramccsta.postprocess_stats_table(\n",
    "    start_end_table, cols_to_sort_by, cols_to_round\n",
    ")\n",
    "stats_table"
   ]
  },
  {
   "cell_type": "markdown",
   "id": "6eaa7d0c",
   "metadata": {},
   "source": [
    "Looking at the results we can see that all the exchanges except for Bitfinex have significantly big longest not-NaN sequence (>13% at least) in combine with high data coverage (>85%). Bitfinex has a very low data coverage and its longest not-NaN sequence lengths are less than 1 day long and comprise less than 1% of the original data. This means that Bitfinex data spottiness is too scattered and we should exclude it from our analysis until we get clearer data for it."
   ]
  },
  {
   "cell_type": "code",
   "execution_count": null,
   "id": "0fe5ef34",
   "metadata": {},
   "outputs": [],
   "source": [
    "_LOG.info(\n",
    "    \"The number of unique exchange and currency pair combinations=%s\",\n",
    "    start_end_table.shape[0],\n",
    ")\n",
    "start_end_table"
   ]
  },
  {
   "cell_type": "markdown",
   "id": "77bc6ef7",
   "metadata": {},
   "source": [
    "## Per currency pair"
   ]
  },
  {
   "cell_type": "code",
   "execution_count": null,
   "id": "6e016ad5",
   "metadata": {},
   "outputs": [],
   "source": [
    "currency_start_end_table = ramccsta.compute_start_end_table_by_currency(\n",
    "    start_end_table\n",
    ")\n",
    "currency_start_end_table"
   ]
  }
 ],
 "metadata": {
  "kernelspec": {
   "display_name": "Python 3 (ipykernel)",
   "language": "python",
   "name": "python3"
  },
  "language_info": {
   "codemirror_mode": {
    "name": "ipython",
    "version": 3
   },
   "file_extension": ".py",
   "mimetype": "text/x-python",
   "name": "python",
   "nbconvert_exporter": "python",
   "pygments_lexer": "ipython3"
  },
  "toc": {
   "base_numbering": 1,
   "nav_menu": {},
   "number_sections": true,
   "sideBar": true,
   "skip_h1_title": false,
   "title_cell": "Table of Contents",
   "title_sidebar": "Contents",
   "toc_cell": false,
   "toc_position": {},
   "toc_section_display": true,
   "toc_window_display": false
  }
 },
 "nbformat": 4,
 "nbformat_minor": 5
}
