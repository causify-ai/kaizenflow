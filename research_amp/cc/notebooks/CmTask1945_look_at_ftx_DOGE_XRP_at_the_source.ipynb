{
 "cells": [
  {
   "cell_type": "markdown",
   "id": "67f4dab6",
   "metadata": {},
   "source": [
    "# Description"
   ]
  },
  {
   "cell_type": "markdown",
   "id": "acb69229",
   "metadata": {},
   "source": [
    "This notebook performs a check that missing data is not present at source."
   ]
  },
  {
   "cell_type": "markdown",
   "id": "4b935ab9",
   "metadata": {},
   "source": [
    "# Imports"
   ]
  },
  {
   "cell_type": "code",
   "execution_count": null,
   "id": "32686f6d",
   "metadata": {},
   "outputs": [],
   "source": [
    "import logging\n",
    "import os\n",
    "\n",
    "import pandas as pd\n",
    "import requests\n",
    "\n",
    "import core.statistics as costatis\n",
    "import helpers.hdatetime as hdateti\n",
    "import helpers.hdbg as hdbg\n",
    "import helpers.henv as henv\n",
    "import helpers.hpandas as hpandas\n",
    "import helpers.hprint as hprint\n",
    "import helpers.hs3 as hs3\n",
    "import im_v2.crypto_chassis.data.client.crypto_chassis_clients as imvccdcccc"
   ]
  },
  {
   "cell_type": "code",
   "execution_count": null,
   "id": "69de3eb6",
   "metadata": {},
   "outputs": [],
   "source": [
    "hdbg.init_logger(verbosity=logging.INFO)\n",
    "\n",
    "_LOG = logging.getLogger(__name__)\n",
    "\n",
    "_LOG.info(\"%s\", henv.get_system_signature()[0])\n",
    "\n",
    "hprint.config_notebook()"
   ]
  },
  {
   "cell_type": "markdown",
   "id": "6a562354",
   "metadata": {},
   "source": [
    "# Functions"
   ]
  },
  {
   "cell_type": "code",
   "execution_count": null,
   "id": "f1d54baf",
   "metadata": {},
   "outputs": [],
   "source": [
    "def _get_full_symbol_data_for_year_month(\n",
    "    df: pd.DataFrame, full_symbol: str, year: int, month: int\n",
    ") -> pd.DataFrame:\n",
    "    \"\"\"\n",
    "    Get data for one full symbol for a specific year and month.\n",
    "    \"\"\"\n",
    "    df = df[\n",
    "        (df.index.year == year)\n",
    "        & (df.index.month == month)\n",
    "        & (df[\"full_symbol\"] == full_symbol)\n",
    "    ]\n",
    "    df = df.round(8)\n",
    "    if \"knowledge_timestamp\" in df.columns.to_list():\n",
    "        df = df.drop(columns=[\"knowledge_timestamp\"])\n",
    "        df.index.name = \"time_seconds\"\n",
    "    return df\n",
    "\n",
    "\n",
    "def _get_qa_stats(data: pd.DataFrame, source: str) -> pd.DataFrame:\n",
    "    \"\"\"\n",
    "    Get quality assurance stats per full symbol.\n",
    "    \"\"\"\n",
    "    res_stats = []\n",
    "    for full_symbol, symbol_data in data.groupby(\"full_symbol\"):\n",
    "        # Compute stats for a full symbol.\n",
    "        symbol_stats = pd.Series(dtype=\"object\", name=full_symbol)\n",
    "        symbol_stats[\"source\"] = source\n",
    "        symbol_stats[\"min_timestamp\"] = symbol_data.index.min()\n",
    "        symbol_stats[\"max_timestamp\"] = symbol_data.index.max()\n",
    "        symbol_stats[\"NaNs [%]\"] = 100 * (\n",
    "            costatis.compute_frac_nan(symbol_data[\"close\"])\n",
    "        )\n",
    "        symbol_stats[\"volume=0 [%]\"] = 100 * (\n",
    "            symbol_data[symbol_data[\"volume\"] == 0].shape[0]\n",
    "            / symbol_data.shape[0]\n",
    "        )\n",
    "        symbol_stats[\"bad data [%]\"] = (\n",
    "            symbol_stats[\"NaNs [%]\"] + symbol_stats[\"volume=0 [%]\"]\n",
    "        )\n",
    "        res_stats.append(symbol_stats)\n",
    "    res_stats_df = pd.concat(res_stats, axis=1).T\n",
    "    return res_stats_df\n",
    "\n",
    "\n",
    "def _load_crypto_chassis_ohlcv(exchange_id: str, currency_pair: str):\n",
    "    \"\"\"\n",
    "    Load data from CryptoChassis API.\n",
    "    \"\"\"\n",
    "    r = requests.get(\n",
    "        f\"https://api.cryptochassis.com/v1/ohlc/{exchange_id}/{currency_pair}?startTime=0\"\n",
    "    )\n",
    "    df = pd.read_csv(r.json()[\"historical\"][\"urls\"][0][\"url\"], compression=\"gzip\")\n",
    "    df[\"time_seconds\"] = df[\"time_seconds\"].apply(\n",
    "        lambda x: hdateti.convert_unix_epoch_to_timestamp(x, unit=\"s\")\n",
    "    )\n",
    "    df = df.set_index(\"time_seconds\")\n",
    "    full_symbol = (\n",
    "        f\"{exchange_id.lower()}::{currency_pair.upper().replace('-', '_')}\"\n",
    "    )\n",
    "    df.insert(0, \"full_symbol\", full_symbol)\n",
    "    return df"
   ]
  },
  {
   "cell_type": "markdown",
   "id": "e7710203",
   "metadata": {},
   "source": [
    "# Load data from CryptoChassis API"
   ]
  },
  {
   "cell_type": "code",
   "execution_count": null,
   "id": "04c4a6e0",
   "metadata": {},
   "outputs": [],
   "source": [
    "source_ftx_xrp = _load_crypto_chassis_ohlcv(\"ftx\", \"xrp-usdt\")\n",
    "source_ftx_xrp_2022_4 = _get_full_symbol_data_for_year_month(\n",
    "    source_ftx_xrp, \"ftx::XRP_USDT\", 2022, 4\n",
    ")"
   ]
  },
  {
   "cell_type": "code",
   "execution_count": null,
   "id": "32791232",
   "metadata": {},
   "outputs": [],
   "source": [
    "source_ftx_doge = _load_crypto_chassis_ohlcv(\"ftx\", \"doge-usdt\")\n",
    "source_ftx_doge_2022_3 = _get_full_symbol_data_for_year_month(\n",
    "    source_ftx_doge, \"ftx::DOGE_USDT\", 2022, 3\n",
    ")"
   ]
  },
  {
   "cell_type": "markdown",
   "id": "835c8bc5",
   "metadata": {},
   "source": [
    "# Load data with client"
   ]
  },
  {
   "cell_type": "code",
   "execution_count": null,
   "id": "8c5f87b4",
   "metadata": {},
   "outputs": [],
   "source": [
    "universe_version = \"v1\"\n",
    "resample_1min = False\n",
    "root_dir = os.path.join(\n",
    "    hs3.get_s3_bucket_path(\"ck\"),\n",
    "    \"reorg\",\n",
    "    \"historical.manual.pq\",\n",
    ")\n",
    "partition_mode = \"by_year_month\"\n",
    "client = imvccdcccc.CryptoChassisHistoricalPqByTileClient(\n",
    "    universe_version, resample_1min, root_dir, partition_mode, aws_profile=\"ck\"\n",
    ")"
   ]
  },
  {
   "cell_type": "code",
   "execution_count": null,
   "id": "6097df40",
   "metadata": {},
   "outputs": [],
   "source": [
    "start_ts = None\n",
    "end_ts = None\n",
    "columns = None\n",
    "filter_data_mode = \"assert\"\n",
    "full_symbols = [\"ftx::XRP_USDT\", \"ftx::DOGE_USDT\"]\n",
    "s3_ftx = client.read_data(\n",
    "    full_symbols, start_ts, end_ts, columns, filter_data_mode\n",
    ")"
   ]
  },
  {
   "cell_type": "markdown",
   "id": "b77757b1",
   "metadata": {},
   "source": [
    "# Compare data"
   ]
  },
  {
   "cell_type": "markdown",
   "id": "5baf1bc7",
   "metadata": {},
   "source": [
    "## ftx::XRP_USDT"
   ]
  },
  {
   "cell_type": "code",
   "execution_count": null,
   "id": "c3f62b1d",
   "metadata": {},
   "outputs": [],
   "source": [
    "s3_ftx_xrp_2022_04 = _get_full_symbol_data_for_year_month(\n",
    "    s3_ftx, \"ftx::XRP_USDT\", 2022, 4\n",
    ")\n",
    "s3_ftx_xrp_2022_04.shape[0] == source_ftx_xrp_2022_4.shape[0]"
   ]
  },
  {
   "cell_type": "markdown",
   "id": "ae35adc7",
   "metadata": {},
   "source": [
    "## ftx::DOGE_USDT"
   ]
  },
  {
   "cell_type": "code",
   "execution_count": null,
   "id": "d5e98f51",
   "metadata": {},
   "outputs": [],
   "source": [
    "s3_ftx_doge_2022_3 = _get_full_symbol_data_for_year_month(\n",
    "    s3_ftx, \"ftx::DOGE_USDT\", 2022, 3\n",
    ")\n",
    "source_ftx_doge_2022_3.shape[0] == s3_ftx_doge_2022_3.shape[0]"
   ]
  },
  {
   "cell_type": "code",
   "execution_count": null,
   "id": "f22bb23a",
   "metadata": {},
   "outputs": [],
   "source": [
    "# There are no NaNs for ftx::DOGE_USDT for all period storing on S3.\n",
    "s3_ftx_doge_2022_3[s3_ftx_doge_2022_3[\"close\"].isna()].shape[0]"
   ]
  },
  {
   "cell_type": "code",
   "execution_count": null,
   "id": "b12ae588",
   "metadata": {},
   "outputs": [],
   "source": [
    "# There is no volume=0 in the S3 data.\n",
    "s3_ftx_doge_2022_3[s3_ftx_doge_2022_3[\"volume\"] == 0].shape[0]"
   ]
  },
  {
   "cell_type": "markdown",
   "id": "42552a9b",
   "metadata": {},
   "source": [
    "### Compare non-resampled data from source and S3"
   ]
  },
  {
   "cell_type": "code",
   "execution_count": null,
   "id": "19977ec7",
   "metadata": {},
   "outputs": [],
   "source": [
    "# Check if data in both datasets are equal.\n",
    "s3_ftx_doge_2022_3.eq(source_ftx_doge_2022_3, axis=1).value_counts()"
   ]
  },
  {
   "cell_type": "markdown",
   "id": "3f948789",
   "metadata": {},
   "source": [
    "### Compare resampled data from the source and S3"
   ]
  },
  {
   "cell_type": "code",
   "execution_count": null,
   "id": "a31418c5",
   "metadata": {},
   "outputs": [],
   "source": [
    "source_ftx_doge_2022_3_resampled = hpandas.resample_df(\n",
    "    source_ftx_doge_2022_3, \"T\"\n",
    ")\n",
    "source_ftx_doge_2022_3_resampled[\"full_symbol\"] = \"ftx::DOGE_USDT\"\n",
    "# Check how much NaNs in the resampled data.\n",
    "source_ftx_doge_2022_3_resampled[\n",
    "    source_ftx_doge_2022_3_resampled[\"close\"].isna()\n",
    "].shape[0]"
   ]
  },
  {
   "cell_type": "code",
   "execution_count": null,
   "id": "721cdd1d",
   "metadata": {},
   "outputs": [],
   "source": [
    "s3_ftx_doge_2022_3_resampled = hpandas.resample_df(s3_ftx_doge_2022_3, \"T\")\n",
    "s3_ftx_doge_2022_3_resampled[\"full_symbol\"] = \"ftx::DOGE_USDT\"\n",
    "# Check how much NaNs in the resampled data.\n",
    "s3_ftx_doge_2022_3_resampled[s3_ftx_doge_2022_3_resampled[\"close\"].isna()].shape[\n",
    "    0\n",
    "]"
   ]
  },
  {
   "cell_type": "code",
   "execution_count": null,
   "id": "0bc46cc4",
   "metadata": {},
   "outputs": [],
   "source": [
    "s3_stats = _get_qa_stats(s3_ftx_doge_2022_3, \"s3\")\n",
    "source_stats = _get_qa_stats(source_ftx_doge_2022_3, \"CryptoChassis\")\n",
    "s3_resampled_stats = _get_qa_stats(s3_ftx_doge_2022_3_resampled, \"s3_resampled\")\n",
    "source_resampled_stats = _get_qa_stats(\n",
    "    source_ftx_doge_2022_3_resampled, \"CryptoChassis_resampled\"\n",
    ")"
   ]
  },
  {
   "cell_type": "code",
   "execution_count": null,
   "id": "041d80bc",
   "metadata": {},
   "outputs": [],
   "source": [
    "stats = pd.concat(\n",
    "    [s3_stats, source_stats, s3_resampled_stats, source_resampled_stats]\n",
    ")\n",
    "stats"
   ]
  },
  {
   "cell_type": "markdown",
   "id": "3fbe6f33",
   "metadata": {},
   "source": [
    "Equal amount of NaNs after resampling. Data with NaNs on S3 is absent at the source."
   ]
  }
 ],
 "metadata": {
  "kernelspec": {
   "display_name": "Python 3 (ipykernel)",
   "language": "python",
   "name": "python3"
  },
  "language_info": {
   "codemirror_mode": {
    "name": "ipython",
    "version": 3
   },
   "file_extension": ".py",
   "mimetype": "text/x-python",
   "name": "python",
   "nbconvert_exporter": "python",
   "pygments_lexer": "ipython3"
  },
  "toc": {
   "base_numbering": 1,
   "nav_menu": {},
   "number_sections": true,
   "sideBar": true,
   "skip_h1_title": false,
   "title_cell": "Table of Contents",
   "title_sidebar": "Contents",
   "toc_cell": false,
   "toc_position": {},
   "toc_section_display": true,
   "toc_window_display": false
  }
 },
 "nbformat": 4,
 "nbformat_minor": 5
}
