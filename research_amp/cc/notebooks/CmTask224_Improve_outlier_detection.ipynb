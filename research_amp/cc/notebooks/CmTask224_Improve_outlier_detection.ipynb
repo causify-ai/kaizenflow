{
 "cells": [
  {
   "cell_type": "markdown",
   "id": "6c7d4ad7",
   "metadata": {},
   "source": [
    "# Description"
   ]
  },
  {
   "cell_type": "markdown",
   "id": "865f664a",
   "metadata": {},
   "source": [
    "This notebook explores approaches to detect outliers in crypto data."
   ]
  },
  {
   "cell_type": "markdown",
   "id": "743eba77",
   "metadata": {},
   "source": [
    "# Imports"
   ]
  },
  {
   "cell_type": "code",
   "execution_count": null,
   "id": "6541f5db",
   "metadata": {},
   "outputs": [],
   "source": [
    "import logging\n",
    "\n",
    "import pandas as pd\n",
    "\n",
    "import helpers.dbg as hdbg\n",
    "import helpers.env as henv\n",
    "import helpers.printing as hprint\n",
    "import im.ccxt.data.load.loader as imcdalolo\n",
    "import research_amp.cc.detect_outliers as rccdeout"
   ]
  },
  {
   "cell_type": "code",
   "execution_count": null,
   "id": "0ac98ec8",
   "metadata": {},
   "outputs": [],
   "source": [
    "hdbg.init_logger(verbosity=logging.INFO)\n",
    "\n",
    "_LOG = logging.getLogger(__name__)\n",
    "\n",
    "_LOG.info(\"%s\", henv.get_system_signature()[0])\n",
    "\n",
    "hprint.config_notebook()"
   ]
  },
  {
   "cell_type": "markdown",
   "id": "5e17925d",
   "metadata": {},
   "source": [
    "# Load test data"
   ]
  },
  {
   "cell_type": "code",
   "execution_count": null,
   "id": "f16bb0ca",
   "metadata": {},
   "outputs": [],
   "source": [
    "root_dir = \"s3://alphamatic-data/data\"\n",
    "сcxt_loader = imcdalolo.CcxtLoaderFromFile(root_dir=root_dir, aws_profile=\"am\")\n",
    "data = сcxt_loader.read_data(\"kucoin\", \"ETH/USDT\", \"ohlcv\")\n",
    "data.head()"
   ]
  },
  {
   "cell_type": "markdown",
   "id": "78d43942",
   "metadata": {},
   "source": [
    "Get multiple chunks of the latest data for performance checks."
   ]
  },
  {
   "cell_type": "code",
   "execution_count": null,
   "id": "ca105443",
   "metadata": {},
   "outputs": [],
   "source": [
    "# Exactly 10-days length chunk.\n",
    "chunk_10days = data.tail(14400).copy()\n",
    "# Exactly 20-days length chunk.\n",
    "chunk_20days = data.tail(28800).copy()\n",
    "# Exactly 40-days length chunk.\n",
    "chunk_40days = data.tail(57600).copy()"
   ]
  },
  {
   "cell_type": "markdown",
   "id": "4198a7c0",
   "metadata": {},
   "source": [
    "# Mask approach"
   ]
  },
  {
   "cell_type": "markdown",
   "id": "69cc932b",
   "metadata": {},
   "source": [
    "Below you can see that execution time grows exponentially to the growth of input series chunk.\n",
    "\n",
    "If we take number of days in chunk as `x` for a rough approximation, rounded execution time in seconds as `y`, and build an equation that corresponds to the test samples then we get the following:<br>\n",
    "`y = (11/1500)x^2 + (3/4)x + (4/15)`<br>\n",
    "\n",
    "Then processing full 1619960 length series should take ~3-4 hours to complete so we should think about the ways to apply this function effectively."
   ]
  },
  {
   "cell_type": "code",
   "execution_count": null,
   "id": "b45ea0ad",
   "metadata": {},
   "outputs": [],
   "source": [
    "%%time\n",
    "outlier_mask_10days = rccdeout.detect_outliers(\n",
    "    srs=chunk_10days[\"close\"], n_samples=1440, z_score_threshold=4\n",
    ")"
   ]
  },
  {
   "cell_type": "code",
   "execution_count": null,
   "id": "53c5cfc4",
   "metadata": {},
   "outputs": [],
   "source": [
    "%%time\n",
    "outlier_mask_20days = rccdeout.detect_outliers(\n",
    "    srs=chunk_20days[\"close\"], n_samples=1440, z_score_threshold=4\n",
    ")"
   ]
  },
  {
   "cell_type": "code",
   "execution_count": null,
   "id": "c48f1dbc",
   "metadata": {},
   "outputs": [],
   "source": [
    "%%time\n",
    "outlier_mask_40days = rccdeout.detect_outliers(\n",
    "    srs=chunk_40days[\"close\"], n_samples=1440, z_score_threshold=4\n",
    ")"
   ]
  },
  {
   "cell_type": "markdown",
   "id": "2471698e",
   "metadata": {},
   "source": [
    "Another problem with this approach is that its results are not robust to the cases when a harsh ascent or decline has happened and the price direction has continued. In this case all the values after this harsh change are considered outliers and dropped.\n",
    "\n",
    "Take a look at 10-days chunk result. It has 76% of its values considered outliers with Z-score threshold equals 4 while 3 is a standard. After 2021-09-07 04:25:00-04:00 the price falls from 3848.65 to 3841.97 and all the following observations that are below 3841.95 are considered outliers as well.<br>\n",
    "\n",
    "This is expected since we do not implement window data normalization before computing z-scores while the data we have clearly has trends at least and the values on the brick of z-score window can easily drop out from standard z-score threshold.\n",
    "\n",
    "Since crypto data is very volatile, we can end up with losing a lot of data in this case so we should consider the right values for window sample size and Z-scores."
   ]
  },
  {
   "cell_type": "code",
   "execution_count": null,
   "id": "daf59b8a",
   "metadata": {},
   "outputs": [],
   "source": [
    "outlier_mask_10days.sum() / outlier_mask_10days.shape[0]"
   ]
  },
  {
   "cell_type": "code",
   "execution_count": null,
   "id": "ebcc5ca1",
   "metadata": {},
   "outputs": [],
   "source": [
    "outlier_mask_10days[:3426]"
   ]
  },
  {
   "cell_type": "code",
   "execution_count": null,
   "id": "350507a8",
   "metadata": {},
   "outputs": [],
   "source": [
    "outlier_mask_10days[3426:]"
   ]
  },
  {
   "cell_type": "code",
   "execution_count": null,
   "id": "96e49c23",
   "metadata": {},
   "outputs": [],
   "source": [
    "set(outlier_mask_10days[3426:])"
   ]
  },
  {
   "cell_type": "code",
   "execution_count": null,
   "id": "2a182216",
   "metadata": {},
   "outputs": [],
   "source": [
    "chunk_10days[\"close\"][~outlier_mask_10days].tail()"
   ]
  },
  {
   "cell_type": "code",
   "execution_count": null,
   "id": "108430d6",
   "metadata": {},
   "outputs": [],
   "source": [
    "chunk_10days[\"close\"][outlier_mask_10days].head()"
   ]
  },
  {
   "cell_type": "markdown",
   "id": "bbfae1a5",
   "metadata": {},
   "source": [
    "All the other chunks have a lot of false outliers as well."
   ]
  },
  {
   "cell_type": "code",
   "execution_count": null,
   "id": "ce75c512",
   "metadata": {},
   "outputs": [],
   "source": [
    "print(outlier_mask_20days.sum() / outlier_mask_20days.shape[0])\n",
    "print(outlier_mask_40days.sum() / outlier_mask_40days.shape[0])"
   ]
  },
  {
   "cell_type": "markdown",
   "id": "4ddcbb28",
   "metadata": {},
   "source": [
    "# Dropping outliers on-flight approach"
   ]
  },
  {
   "cell_type": "code",
   "execution_count": null,
   "id": "c3b9503d",
   "metadata": {},
   "outputs": [],
   "source": [
    "def remove_outlier_at_index(\n",
    "    srs: pd.Series,\n",
    "    z_score_boundary: int,\n",
    "    z_score_window_size: int,\n",
    "    index_to_check: int,\n",
    ") -> pd.Series:\n",
    "    \"\"\"\n",
    "    Check if a series value at index is an outlier and remove it if so.\n",
    "\n",
    "    Index should be a row of positive integers like 0, 1, 2, etc.\n",
    "\n",
    "    Z-score window indices are adjusting with respect to its size, the size of input\n",
    "    and index to check.\n",
    "\n",
    "    Z-score window size is an integer number of index steps that will be included\n",
    "    in Z-score computation and outlier detection.\n",
    "\n",
    "    :param srs: input series\n",
    "    :param z_score_boundary: boundary value to check for outlier's Z-score\n",
    "    :param z_score_window_size: size of the window to compute Z-score for\n",
    "    :param index_to_check: index of a value to check\n",
    "    :return: input series with removed value at given index if it was considered an outlier\n",
    "    \"\"\"\n",
    "    # Get numerical order of a given index.\n",
    "    index_order = srs.index.get_loc(index_to_check)\n",
    "    # Set window indices.\n",
    "    window_first_index = max(0, index_order - z_score_window_size)\n",
    "    window_last_index = max(index_order, window_first_index + z_score_window_size)\n",
    "    # Verify that distance between window indices equals Z-score window size\n",
    "    # and that index to check is laying between these indices.\n",
    "    hdbg.dassert_eq(z_score_window_size, window_last_index - window_first_index)\n",
    "    hdbg.dassert_lte(window_first_index, index_order)\n",
    "    hdbg.dassert_lte(index_order, window_last_index)\n",
    "    # Get a window to compute Z-score for.\n",
    "    window_srs = srs.iloc[window_first_index:window_last_index].copy()\n",
    "    # Compute Z-score of a value at index.\n",
    "    z_score = (srs[index_order] - window_srs.mean()) / window_srs.std()\n",
    "    # Drop the value if its Z-score is None or laying beyond the specified boundaries.\n",
    "    if not abs(z_score) <= z_score_boundary:\n",
    "        srs = srs.drop([index_to_check]).copy()\n",
    "    return srs\n",
    "\n",
    "\n",
    "def remove_rolling_outliers(\n",
    "    df: pd.DataFrame,\n",
    "    col: str,\n",
    "    z_score_boundary: int,\n",
    "    z_score_window: int,\n",
    ") -> pd.DataFrame:\n",
    "    \"\"\"\n",
    "    Remove outliers using a rolling window.\n",
    "\n",
    "    Outliers are being removed consequtively after every window check.\n",
    "\n",
    "    Z-score window indices are adjusting with respect to its size, the size of input\n",
    "    and index to check.\n",
    "\n",
    "    Z-score window size is an integer number of index steps that will be included\n",
    "    in Z-score computation and outlier detection.\n",
    "\n",
    "    :param srs: input dataframe\n",
    "    :param col: column to check for outliers\n",
    "    :param z_score_boundary: Z-score boundary to check the value\n",
    "    :param z_score_window: size of the window to compute Z-score for\n",
    "    :return: dataframe with removed outliers\n",
    "    \"\"\"\n",
    "    # Get a series to detect outliers in.\n",
    "    price_srs = df[col].copy()\n",
    "    # Iterate over series indices.\n",
    "    for index_ in price_srs.index:\n",
    "        # For every index check if its value is an outlier and\n",
    "        # remove it from the series if so.\n",
    "        price_srs = remove_outlier_at_index(\n",
    "            price_srs, z_score_boundary, z_score_window, index_\n",
    "        )\n",
    "    # Get dataframe rows that correspond to the non-outliers indices.\n",
    "    clean_df = df[df.index.isin(price_srs.index)].copy()\n",
    "    return clean_df"
   ]
  },
  {
   "cell_type": "markdown",
   "id": "1f6bdb24",
   "metadata": {},
   "source": [
    "Dropping outliers on-flight approach seems to work slower on small chunks and its execution time grows exponentially to the series length as well.\n",
    "\n",
    "So needless to say, its less effective than the mask one and should not be used."
   ]
  },
  {
   "cell_type": "code",
   "execution_count": null,
   "id": "209b7ccf",
   "metadata": {},
   "outputs": [],
   "source": [
    "%%time\n",
    "old_clean_chunk_10days = remove_rolling_outliers(chunk_10days, \"close\", 3, 1440)"
   ]
  },
  {
   "cell_type": "code",
   "execution_count": null,
   "id": "b6618216",
   "metadata": {},
   "outputs": [],
   "source": [
    "%%time\n",
    "old_clean_chunk_20days = remove_rolling_outliers(chunk_20days, \"close\", 3, 1440)"
   ]
  },
  {
   "cell_type": "code",
   "execution_count": null,
   "id": "a59c93be",
   "metadata": {},
   "outputs": [],
   "source": [
    "%%time\n",
    "old_clean_chunk_40days = remove_rolling_outliers(chunk_40days, \"close\", 3, 1440)"
   ]
  },
  {
   "cell_type": "markdown",
   "id": "88dbec68",
   "metadata": {},
   "source": [
    "# Overlapping windows approach"
   ]
  },
  {
   "cell_type": "code",
   "execution_count": null,
   "id": "5e9790d7",
   "metadata": {},
   "outputs": [],
   "source": [
    "def detect_outliers_new(\n",
    "    srs: pd.Series,\n",
    "    n_samples: int = 1440,\n",
    "    window_step: int = 10,\n",
    "    z_score_threshold: float = 3.0,\n",
    "):\n",
    "    \"\"\"\n",
    "    Detect outliers using overlapping windows and averaged z-scores of each\n",
    "    observation.\n",
    "\n",
    "    Almost every observation will belong to `n_samples` of windows which means that each one\n",
    "    is going to have `n_samples` of Z-scores. The mean of these scores will give an averaged\n",
    "    Z-score which will be a more robust metrics to check if a value is an outlier than\n",
    "    a rolling Z-score computed just once.\n",
    "\n",
    "    This function\n",
    "    - creates list of overlapping z-score windows\n",
    "    - computes z-score of each element in every window\n",
    "    - for each observation takes average of all the z-scores from the windows it belongs to\n",
    "    - compares averaged z-score to the threshold to declare the current element an outlier\n",
    "\n",
    "    :param srs: input series\n",
    "    :param n_samples: number of samples in z-score windows\n",
    "    :param z_score_threshold: threshold to mark a value as an outlier based on its averaged z-score\n",
    "    :return: whether the element at index idx is an outlier\n",
    "    \"\"\"\n",
    "    # Create a list of overlapping windows.\n",
    "    windows = [\n",
    "        srs.iloc[idx : idx + n_samples]\n",
    "        for idx in range(0, srs.shape[0] - n_samples + window_step, window_step)\n",
    "    ]\n",
    "    # Compute z-score for each observation in every window.\n",
    "    z_scores_list = [\n",
    "        abs((window - window.mean()) / window.std()) for window in windows\n",
    "    ]\n",
    "    # Concatenate z-scores series in one.\n",
    "    z_scores_srs = pd.concat(z_scores_list)\n",
    "    # Groupby by index and take the averaged z-score for every index value.\n",
    "    z_scores_stats = z_scores_srs.groupby(z_scores_srs.index).mean()\n",
    "    # Get a mask for outliers.\n",
    "    # Done via `<=` since a series can contain None values that should be detected\n",
    "    # as well but will result to NaN if compared to the threshold directly.\n",
    "    outliers_mask = ~(z_scores_stats <= z_score_threshold)\n",
    "    return outliers_mask"
   ]
  },
  {
   "cell_type": "markdown",
   "id": "5905d866",
   "metadata": {},
   "source": [
    "Since both approaches suggested above are very slow and can't be really applied to all the data directly, I'd like to propose another approach to this problem.\n",
    "\n",
    "Description of the approach can be found in a function docstrings. In short, this is not an approach that has a memory but here we compute an averaged z-score for each observation for multiple windows it belongs to. IMO this should make outlier detection more robust and give consistent results for most observations (only corner cases may differ, no observations are removed so full-sized windows are always constant).\n",
    "\n",
    "This approach might be less robust to consecutive outliers than the previous ones but it demonstrates extremely faster performance. it processes the whole series in just 2 minutes with 1-day sized windows that overlap each 10 minutes.<br>\n",
    "Therefore, if this algorithm robustness is enough for us, I suggest we use it for outlier detection."
   ]
  },
  {
   "cell_type": "code",
   "execution_count": null,
   "id": "ee656863",
   "metadata": {},
   "outputs": [],
   "source": [
    "all_outliers_mask = detect_outliers_new(data[\"close\"])"
   ]
  },
  {
   "cell_type": "markdown",
   "id": "edcd5b0f",
   "metadata": {},
   "source": [
    "The algorithm detects None values and the small amount of outliers."
   ]
  },
  {
   "cell_type": "code",
   "execution_count": null,
   "id": "78e53376",
   "metadata": {},
   "outputs": [],
   "source": [
    "all_outliers = data[\"close\"][all_outliers_mask]\n",
    "len(all_outliers)"
   ]
  },
  {
   "cell_type": "code",
   "execution_count": null,
   "id": "f22cce6e",
   "metadata": {},
   "outputs": [],
   "source": [
    "len(all_outliers.dropna())"
   ]
  },
  {
   "cell_type": "markdown",
   "id": "564008ec",
   "metadata": {},
   "source": [
    "Computations for small chunks are done almost immediately, all the detected outliers are stable across the chunks."
   ]
  },
  {
   "cell_type": "code",
   "execution_count": null,
   "id": "14db457b",
   "metadata": {},
   "outputs": [],
   "source": [
    "outlier_mask_new_40days = detect_outliers_new(chunk_40days[\"close\"]).dropna()"
   ]
  },
  {
   "cell_type": "code",
   "execution_count": null,
   "id": "5d97b78b",
   "metadata": {},
   "outputs": [],
   "source": [
    "chunk_40days[\"close\"][outlier_mask_new_40days]"
   ]
  },
  {
   "cell_type": "code",
   "execution_count": null,
   "id": "72f5bd91",
   "metadata": {},
   "outputs": [],
   "source": [
    "outlier_mask_new_20days = detect_outliers_new(chunk_20days[\"close\"]).dropna()"
   ]
  },
  {
   "cell_type": "code",
   "execution_count": null,
   "id": "856fc76b",
   "metadata": {},
   "outputs": [],
   "source": [
    "chunk_20days[\"close\"][outlier_mask_new_20days]"
   ]
  },
  {
   "cell_type": "code",
   "execution_count": null,
   "id": "865d2161",
   "metadata": {},
   "outputs": [],
   "source": [
    "outlier_mask_new_10days = detect_outliers_new(chunk_10days[\"close\"]).dropna()"
   ]
  },
  {
   "cell_type": "code",
   "execution_count": null,
   "id": "63e71249",
   "metadata": {},
   "outputs": [],
   "source": [
    "chunk_10days[\"close\"][outlier_mask_new_10days]"
   ]
  },
  {
   "cell_type": "code",
   "execution_count": null,
   "id": "1e047f0a",
   "metadata": {},
   "outputs": [],
   "source": []
  }
 ],
 "metadata": {
  "jupytext": {
   "encoding": "# -*- coding: utf-8 -*-",
   "text_representation": {
    "extension": ".py",
    "format_name": "percent",
    "format_version": "1.3",
    "jupytext_version": "1.13.0"
   }
  },
  "kernelspec": {
   "display_name": "Python 3 (ipykernel)",
   "language": "python",
   "name": "python3"
  },
  "language_info": {
   "codemirror_mode": {
    "name": "ipython",
    "version": 3
   },
   "file_extension": ".py",
   "mimetype": "text/x-python",
   "name": "python",
   "nbconvert_exporter": "python",
   "pygments_lexer": "ipython3"
  },
  "toc": {
   "base_numbering": 1,
   "nav_menu": {},
   "number_sections": true,
   "sideBar": true,
   "skip_h1_title": false,
   "title_cell": "Table of Contents",
   "title_sidebar": "Contents",
   "toc_cell": false,
   "toc_position": {},
   "toc_section_display": true,
   "toc_window_display": false
  }
 },
 "nbformat": 4,
 "nbformat_minor": 5
}
