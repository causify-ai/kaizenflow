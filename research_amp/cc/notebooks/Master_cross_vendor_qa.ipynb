{
 "cells": [
  {
   "cell_type": "markdown",
   "id": "e3d423f0",
   "metadata": {},
   "source": [
    "# Description"
   ]
  },
  {
   "cell_type": "markdown",
   "id": "739a4c1a",
   "metadata": {},
   "source": [
    "This notebook performs cross-vendor QA checks to compare vendors in terms of:\n",
    "   - Difference and intersection of vendor universes\n",
    "   - Time intervals, i.e. which vendor has the longest data available for each full symbol in intersecting universe\n",
    "   - Data quality (bad data [%], missing bars [%], volume=0 [%], NaNs [%]) for intersecting universe and time intervals"
   ]
  },
  {
   "cell_type": "markdown",
   "id": "026dce8f",
   "metadata": {},
   "source": [
    "# Imports"
   ]
  },
  {
   "cell_type": "code",
   "execution_count": null,
   "id": "d2796630",
   "metadata": {},
   "outputs": [],
   "source": [
    "import logging\n",
    "import os\n",
    "\n",
    "import core.config.config_ as cconconf\n",
    "import core.config.config_utils as ccocouti\n",
    "import helpers.hdbg as hdbg\n",
    "import helpers.henv as henv\n",
    "import helpers.hprint as hprint\n",
    "import helpers.hs3 as hs3\n",
    "import im_v2.ccxt.data.client as icdcl\n",
    "import im_v2.crypto_chassis.data.client as iccdc\n",
    "import research_amp.cc.qa as ramccqa"
   ]
  },
  {
   "cell_type": "code",
   "execution_count": null,
   "id": "467b3d61",
   "metadata": {},
   "outputs": [],
   "source": [
    "hdbg.init_logger(verbosity=logging.INFO)\n",
    "\n",
    "_LOG = logging.getLogger(__name__)\n",
    "\n",
    "_LOG.info(\"%s\", henv.get_system_signature()[0])\n",
    "\n",
    "hprint.config_notebook()"
   ]
  },
  {
   "cell_type": "markdown",
   "id": "61c0c9ff",
   "metadata": {},
   "source": [
    "# Configs"
   ]
  },
  {
   "cell_type": "code",
   "execution_count": null,
   "id": "99b1f619",
   "metadata": {},
   "outputs": [],
   "source": [
    "def get_master_cross_vendor_qa_config() -> cconconf.Config:\n",
    "    \"\"\"\n",
    "    Get task1966-specific config.\n",
    "    \"\"\"\n",
    "    config = cconconf.Config()\n",
    "    param_dict = {\n",
    "        \"data\": {\n",
    "            \"ccxt\": {\n",
    "                \"universe_version\": \"v3\",\n",
    "                \"resample_1min\": False,\n",
    "                \"root_dir\": os.path.join(\n",
    "                    hs3.get_s3_bucket_path(\"ck\"), \"reorg\", \"historical.manual.pq\"\n",
    "                ),\n",
    "                \"partition_mode\": \"by_year_month\",\n",
    "                \"dataset\": \"ohlcv\",\n",
    "                \"contract_type\": \"spot\",\n",
    "                \"aws_profile\": \"ck\",\n",
    "            },\n",
    "            \"crypto_chassis\": {\n",
    "                \"universe_version\": \"v1\",\n",
    "                \"resample_1min\": False,\n",
    "                \"root_dir\": os.path.join(\n",
    "                    hs3.get_s3_bucket_path(\"ck\"), \"reorg\", \"historical.manual.pq\"\n",
    "                ),\n",
    "                \"partition_mode\": \"by_year_month\",\n",
    "                \"dataset\": \"ohlcv\",\n",
    "                \"contract_type\": \"spot\",\n",
    "                \"aws_profile\": \"ck\",\n",
    "            },\n",
    "            # Parameters for data query.\n",
    "            \"read_data\": {\n",
    "                \"start_ts\": None,\n",
    "                \"end_ts\": None,\n",
    "                \"columns\": [\"full_symbol\", \"close\", \"volume\"],\n",
    "                \"filter_data_mode\": \"assert\",\n",
    "            },\n",
    "        },\n",
    "        \"column_names\": {\n",
    "            \"full_symbol\": \"full_symbol\",\n",
    "            \"close_price\": \"close\",\n",
    "        },\n",
    "        \"stats\": {\n",
    "            \"threshold\": 30,\n",
    "        },\n",
    "    }\n",
    "    config = cconfig.Config.from_dict(param_dict)\n",
    "    return config"
   ]
  },
  {
   "cell_type": "code",
   "execution_count": null,
   "id": "1117532c",
   "metadata": {},
   "outputs": [],
   "source": [
    "config = get_master_cross_vendor_qa_config()\n",
    "print(config)"
   ]
  },
  {
   "cell_type": "markdown",
   "id": "6241e528",
   "metadata": {},
   "source": [
    "# Compare universes"
   ]
  },
  {
   "cell_type": "code",
   "execution_count": null,
   "id": "24754614",
   "metadata": {},
   "outputs": [],
   "source": [
    "crypto_chassis_client = iccdc.CryptoChassisHistoricalPqByTileClient(\n",
    "    **config[\"data\"][\"crypto_chassis\"]\n",
    ")\n",
    "ccxt_client = icdcl.CcxtHistoricalPqByTileClient(**config[\"data\"][\"ccxt\"])"
   ]
  },
  {
   "cell_type": "code",
   "execution_count": null,
   "id": "3fff01f0",
   "metadata": {},
   "outputs": [],
   "source": [
    "crypto_chassis_universe = crypto_chassis_client.get_universe()\n",
    "ccxt_universe = ccxt_client.get_universe()"
   ]
  },
  {
   "cell_type": "code",
   "execution_count": null,
   "id": "5bff9deb",
   "metadata": {},
   "outputs": [],
   "source": [
    "common_universe = list(set(crypto_chassis_universe) & set(ccxt_universe))"
   ]
  },
  {
   "cell_type": "code",
   "execution_count": null,
   "id": "24eec58e",
   "metadata": {},
   "outputs": [],
   "source": [
    "compare_universe = hprint.set_diff_to_str(\n",
    "    crypto_chassis_universe, ccxt_universe, add_space=True\n",
    ")\n",
    "print(compare_universe)"
   ]
  },
  {
   "cell_type": "markdown",
   "id": "e403fd16",
   "metadata": {},
   "source": [
    "# Compare Binance QA stats"
   ]
  },
  {
   "cell_type": "code",
   "execution_count": null,
   "id": "17f39719",
   "metadata": {},
   "outputs": [],
   "source": [
    "binance_universe = [\n",
    "    full_symbol\n",
    "    for full_symbol in common_universe\n",
    "    if full_symbol.startswith(\"binance\")\n",
    "]\n",
    "binance_universe"
   ]
  },
  {
   "cell_type": "code",
   "execution_count": null,
   "id": "500a702c",
   "metadata": {},
   "outputs": [],
   "source": [
    "ccxt_binance_data = ccxt_client.read_data(\n",
    "    binance_universe, **config[\"data\"][\"read_data\"]\n",
    ")\n",
    "ccxt_binance_data.head(3)"
   ]
  },
  {
   "cell_type": "code",
   "execution_count": null,
   "id": "c39810d9",
   "metadata": {},
   "outputs": [],
   "source": [
    "crypto_chassis_binance_data = crypto_chassis_client.read_data(\n",
    "    binance_universe, **config[\"data\"][\"read_data\"]\n",
    ")\n",
    "crypto_chassis_binance_data.head(3)"
   ]
  },
  {
   "cell_type": "code",
   "execution_count": null,
   "id": "53a741f9",
   "metadata": {},
   "outputs": [],
   "source": [
    "crypto_chassis_vendor = \"Crypto Chassis\"\n",
    "crypto_chassis_timestamp_binance_stats = ramccqa.get_timestamp_stats(\n",
    "    crypto_chassis_binance_data, crypto_chassis_vendor\n",
    ")\n",
    "ccxt_vendor = \"CCXT\"\n",
    "ccxt_timestamp_binance_stats = ramccqa.get_timestamp_stats(\n",
    "    ccxt_binance_data, ccxt_vendor\n",
    ")\n",
    "#\n",
    "binance_timestamp_stats_qa = ramccqa.compare_data_stats(\n",
    "    crypto_chassis_timestamp_binance_stats,\n",
    "    ccxt_timestamp_binance_stats,\n",
    ")\n",
    "binance_timestamp_stats_qa"
   ]
  },
  {
   "cell_type": "code",
   "execution_count": null,
   "id": "290fcf37",
   "metadata": {},
   "outputs": [],
   "source": [
    "agg_level_full_symbol = [\"full_symbol\"]\n",
    "crypto_chassis_bad_data_binance_stats = ramccqa.get_bad_data_stats(\n",
    "    crypto_chassis_binance_data, agg_level_full_symbol, crypto_chassis_vendor\n",
    ")\n",
    "ccxt_bad_data_binance_stats = ramccqa.get_bad_data_stats(\n",
    "    ccxt_binance_data, agg_level_full_symbol, ccxt_vendor\n",
    ")\n",
    "#\n",
    "binance_bad_data_stats_qa = ramccqa.compare_data_stats(\n",
    "    crypto_chassis_bad_data_binance_stats,\n",
    "    ccxt_bad_data_binance_stats,\n",
    ")\n",
    "binance_bad_data_stats_qa"
   ]
  },
  {
   "cell_type": "code",
   "execution_count": null,
   "id": "6b70463e",
   "metadata": {},
   "outputs": [],
   "source": [
    "agg_level_full_symbol_year_month = [\"full_symbol\", \"year\", \"month\"]\n",
    "crypto_chassis_bad_data_binance_stats_by_year_month = ramccqa.get_bad_data_stats(\n",
    "    crypto_chassis_binance_data,\n",
    "    agg_level_full_symbol_year_month,\n",
    "    crypto_chassis_vendor,\n",
    ")\n",
    "ccxt_bad_data_binance_stats_by_year_month = ramccqa.get_bad_data_stats(\n",
    "    ccxt_binance_data, agg_level_full_symbol_year_month, ccxt_vendor\n",
    ")\n",
    "#\n",
    "binance_bad_data_stats_by_year_month_qa = ramccqa.compare_data_stats(\n",
    "    crypto_chassis_bad_data_binance_stats_by_year_month,\n",
    "    ccxt_bad_data_binance_stats_by_year_month,\n",
    ")\n",
    "binance_bad_data_stats_by_year_month_qa"
   ]
  },
  {
   "cell_type": "code",
   "execution_count": null,
   "id": "3e09302f",
   "metadata": {},
   "outputs": [],
   "source": [
    "ramccqa.plot_bad_data_by_year_month_stats(\n",
    "    binance_bad_data_stats_by_year_month_qa, config[\"stats\"][\"threshold\"]\n",
    ")"
   ]
  },
  {
   "cell_type": "markdown",
   "id": "80566f87",
   "metadata": {},
   "source": [
    "# Compare FTX QA stats"
   ]
  },
  {
   "cell_type": "code",
   "execution_count": null,
   "id": "f3de046b",
   "metadata": {},
   "outputs": [],
   "source": [
    "ftx_universe = [\n",
    "    full_symbol\n",
    "    for full_symbol in common_universe\n",
    "    if full_symbol.startswith(\"ftx\")\n",
    "]\n",
    "ftx_universe"
   ]
  },
  {
   "cell_type": "code",
   "execution_count": null,
   "id": "7556a62a",
   "metadata": {},
   "outputs": [],
   "source": [
    "ccxt_ftx_data = ccxt_client.read_data(ftx_universe, **config[\"data\"][\"read_data\"])\n",
    "ccxt_ftx_data.head(3)"
   ]
  },
  {
   "cell_type": "code",
   "execution_count": null,
   "id": "3faa19b1",
   "metadata": {},
   "outputs": [],
   "source": [
    "crypto_chassis_ftx_data = crypto_chassis_client.read_data(\n",
    "    ftx_universe, **config[\"data\"][\"read_data\"]\n",
    ")\n",
    "crypto_chassis_ftx_data.head(3)"
   ]
  },
  {
   "cell_type": "code",
   "execution_count": null,
   "id": "2b055dbf",
   "metadata": {},
   "outputs": [],
   "source": [
    "crypto_chassis_timestamp_ftx_stats = ramccqa.get_timestamp_stats(\n",
    "    crypto_chassis_ftx_data, crypto_chassis_vendor\n",
    ")\n",
    "ccxt_timestamp_ftx_stats = ramccqa.get_timestamp_stats(ccxt_ftx_data, ccxt_vendor)\n",
    "#\n",
    "ftx_timestamp_stats_qa = ramccqa.compare_data_stats(\n",
    "    crypto_chassis_timestamp_ftx_stats,\n",
    "    ccxt_timestamp_ftx_stats,\n",
    ")\n",
    "ftx_timestamp_stats_qa"
   ]
  },
  {
   "cell_type": "code",
   "execution_count": null,
   "id": "15f08172",
   "metadata": {},
   "outputs": [],
   "source": [
    "crypto_chassis_bad_data_ftx_stats = ramccqa.get_bad_data_stats(\n",
    "    crypto_chassis_ftx_data, agg_level_full_symbol, crypto_chassis_vendor\n",
    ")\n",
    "ccxt_bad_data_ftx_stats = ramccqa.get_bad_data_stats(\n",
    "    ccxt_ftx_data, agg_level_full_symbol, ccxt_vendor\n",
    ")\n",
    "#\n",
    "ftx_bad_data_stats_qa = ramccqa.compare_data_stats(\n",
    "    crypto_chassis_bad_data_ftx_stats,\n",
    "    ccxt_bad_data_ftx_stats,\n",
    ")\n",
    "ftx_bad_data_stats_qa"
   ]
  },
  {
   "cell_type": "code",
   "execution_count": null,
   "id": "19968236",
   "metadata": {},
   "outputs": [],
   "source": [
    "crypto_chassis_bad_data_ftx_stats_by_year_month = ramccqa.get_bad_data_stats(\n",
    "    crypto_chassis_ftx_data,\n",
    "    agg_level_full_symbol_year_month,\n",
    "    crypto_chassis_vendor,\n",
    ")\n",
    "ccxt_bad_data_ftx_stats_by_year_month = ramccqa.get_bad_data_stats(\n",
    "    ccxt_ftx_data, agg_level_full_symbol_year_month, ccxt_vendor\n",
    ")\n",
    "#\n",
    "ftx_bad_data_stats_by_year_month_qa = ramccqa.compare_data_stats(\n",
    "    crypto_chassis_bad_data_ftx_stats_by_year_month,\n",
    "    ccxt_bad_data_ftx_stats_by_year_month,\n",
    ")\n",
    "ftx_bad_data_stats_by_year_month_qa"
   ]
  },
  {
   "cell_type": "code",
   "execution_count": null,
   "id": "07475f71",
   "metadata": {},
   "outputs": [],
   "source": [
    "ramccqa.plot_bad_data_by_year_month_stats(\n",
    "    ftx_bad_data_stats_by_year_month_qa, config[\"stats\"][\"threshold\"]\n",
    ")"
   ]
  },
  {
   "cell_type": "markdown",
   "id": "b76acc23",
   "metadata": {},
   "source": [
    "# Compare Gateio QA stats"
   ]
  },
  {
   "cell_type": "code",
   "execution_count": null,
   "id": "132361e6",
   "metadata": {},
   "outputs": [],
   "source": [
    "gateio_universe = [\n",
    "    full_symbol\n",
    "    for full_symbol in common_universe\n",
    "    if full_symbol.startswith(\"gateio\")\n",
    "]\n",
    "gateio_universe"
   ]
  },
  {
   "cell_type": "code",
   "execution_count": null,
   "id": "0e342993",
   "metadata": {},
   "outputs": [],
   "source": [
    "ccxt_gateio_data = ccxt_client.read_data(\n",
    "    gateio_universe, **config[\"data\"][\"read_data\"]\n",
    ")\n",
    "ccxt_gateio_data.head(3)"
   ]
  },
  {
   "cell_type": "code",
   "execution_count": null,
   "id": "8a712cc5",
   "metadata": {},
   "outputs": [],
   "source": [
    "crypto_chassis_gateio_data = crypto_chassis_client.read_data(\n",
    "    gateio_universe, **config[\"data\"][\"read_data\"]\n",
    ")\n",
    "crypto_chassis_gateio_data.head(3)"
   ]
  },
  {
   "cell_type": "code",
   "execution_count": null,
   "id": "09b3acbc",
   "metadata": {},
   "outputs": [],
   "source": [
    "crypto_chassis_timestamp_gateio_stats = ramccqa.get_timestamp_stats(\n",
    "    crypto_chassis_gateio_data, crypto_chassis_vendor\n",
    ")\n",
    "ccxt_timestamp_gateio_stats = ramccqa.get_timestamp_stats(\n",
    "    ccxt_gateio_data, ccxt_vendor\n",
    ")\n",
    "#\n",
    "gateio_timestamp_stats_qa = ramccqa.compare_data_stats(\n",
    "    crypto_chassis_timestamp_gateio_stats,\n",
    "    ccxt_timestamp_gateio_stats,\n",
    ")\n",
    "gateio_timestamp_stats_qa"
   ]
  },
  {
   "cell_type": "code",
   "execution_count": null,
   "id": "acb8e933",
   "metadata": {},
   "outputs": [],
   "source": [
    "crypto_chassis_bad_data_gateio_stats = ramccqa.get_bad_data_stats(\n",
    "    crypto_chassis_gateio_data, agg_level_full_symbol, crypto_chassis_vendor\n",
    ")\n",
    "ccxt_bad_data_gateio_stats = ramccqa.get_bad_data_stats(\n",
    "    ccxt_gateio_data, agg_level_full_symbol, ccxt_vendor\n",
    ")\n",
    "#\n",
    "gateio_bad_data_stats_qa = ramccqa.compare_data_stats(\n",
    "    crypto_chassis_bad_data_gateio_stats,\n",
    "    ccxt_bad_data_gateio_stats,\n",
    ")\n",
    "gateio_bad_data_stats_qa"
   ]
  },
  {
   "cell_type": "code",
   "execution_count": null,
   "id": "7a041d1d",
   "metadata": {},
   "outputs": [],
   "source": [
    "crypto_chassis_bad_data_gateio_stats_by_year_month = ramccqa.get_bad_data_stats(\n",
    "    crypto_chassis_gateio_data,\n",
    "    agg_level_full_symbol_year_month,\n",
    "    crypto_chassis_vendor,\n",
    ")\n",
    "ccxt_bad_data_gateio_stats_by_year_month = ramccqa.get_bad_data_stats(\n",
    "    ccxt_gateio_data, agg_level_full_symbol_year_month, ccxt_vendor\n",
    ")\n",
    "#\n",
    "gateio_bad_data_stats_by_year_month_qa = ramccqa.compare_data_stats(\n",
    "    crypto_chassis_bad_data_gateio_stats_by_year_month,\n",
    "    ccxt_bad_data_gateio_stats_by_year_month,\n",
    ")\n",
    "gateio_bad_data_stats_by_year_month_qa"
   ]
  },
  {
   "cell_type": "code",
   "execution_count": null,
   "id": "42bb85ee",
   "metadata": {},
   "outputs": [],
   "source": [
    "ramccqa.plot_bad_data_by_year_month_stats(\n",
    "    gateio_bad_data_stats_by_year_month_qa, config[\"stats\"][\"threshold\"]\n",
    ")"
   ]
  },
  {
   "cell_type": "markdown",
   "id": "90c24f60",
   "metadata": {},
   "source": [
    "# Compare Kucoin QA stats"
   ]
  },
  {
   "cell_type": "code",
   "execution_count": null,
   "id": "325f0202",
   "metadata": {},
   "outputs": [],
   "source": [
    "kucoin_universe = [\n",
    "    full_symbol\n",
    "    for full_symbol in common_universe\n",
    "    if full_symbol.startswith(\"kucoin\")\n",
    "]\n",
    "kucoin_universe"
   ]
  },
  {
   "cell_type": "code",
   "execution_count": null,
   "id": "163f67cb",
   "metadata": {},
   "outputs": [],
   "source": [
    "ccxt_kucoin_data = ccxt_client.read_data(\n",
    "    kucoin_universe, **config[\"data\"][\"read_data\"]\n",
    ")\n",
    "ccxt_kucoin_data.head(3)"
   ]
  },
  {
   "cell_type": "code",
   "execution_count": null,
   "id": "9cb89147",
   "metadata": {},
   "outputs": [],
   "source": [
    "crypto_chassis_kucoin_data = crypto_chassis_client.read_data(\n",
    "    kucoin_universe, **config[\"data\"][\"read_data\"]\n",
    ")\n",
    "crypto_chassis_kucoin_data.head(3)"
   ]
  },
  {
   "cell_type": "code",
   "execution_count": null,
   "id": "b383fbb6",
   "metadata": {},
   "outputs": [],
   "source": [
    "crypto_chassis_timestamp_kucoin_stats = ramccqa.get_timestamp_stats(\n",
    "    crypto_chassis_kucoin_data, crypto_chassis_vendor\n",
    ")\n",
    "ccxt_timestamp_kucoin_stats = ramccqa.get_timestamp_stats(\n",
    "    ccxt_kucoin_data, ccxt_vendor\n",
    ")\n",
    "#\n",
    "kucoin_timestamp_stats_qa = ramccqa.compare_data_stats(\n",
    "    crypto_chassis_timestamp_kucoin_stats,\n",
    "    ccxt_timestamp_kucoin_stats,\n",
    ")\n",
    "kucoin_timestamp_stats_qa"
   ]
  },
  {
   "cell_type": "code",
   "execution_count": null,
   "id": "16865631",
   "metadata": {},
   "outputs": [],
   "source": [
    "crypto_chassis_bad_data_kucoin_stats = ramccqa.get_bad_data_stats(\n",
    "    crypto_chassis_kucoin_data, agg_level_full_symbol, crypto_chassis_vendor\n",
    ")\n",
    "ccxt_bad_data_kucoin_stats = ramccqa.get_bad_data_stats(\n",
    "    ccxt_kucoin_data, agg_level_full_symbol, ccxt_vendor\n",
    ")\n",
    "#\n",
    "kucoin_bad_data_stats_qa = ramccqa.compare_data_stats(\n",
    "    crypto_chassis_bad_data_kucoin_stats,\n",
    "    ccxt_bad_data_kucoin_stats,\n",
    ")\n",
    "kucoin_bad_data_stats_qa"
   ]
  },
  {
   "cell_type": "code",
   "execution_count": null,
   "id": "ee2d88be",
   "metadata": {},
   "outputs": [],
   "source": [
    "crypto_chassis_bad_data_kucoin_stats_by_year_month = ramccqa.get_bad_data_stats(\n",
    "    crypto_chassis_kucoin_data,\n",
    "    agg_level_full_symbol_year_month,\n",
    "    crypto_chassis_vendor,\n",
    ")\n",
    "ccxt_bad_data_kucoin_stats_by_year_month = ramccqa.get_bad_data_stats(\n",
    "    ccxt_kucoin_data, agg_level_full_symbol_year_month, ccxt_vendor\n",
    ")\n",
    "#\n",
    "kucoin_bad_data_stats_by_year_month_qa = ramccqa.compare_data_stats(\n",
    "    crypto_chassis_bad_data_kucoin_stats_by_year_month,\n",
    "    ccxt_bad_data_kucoin_stats_by_year_month,\n",
    ")\n",
    "kucoin_bad_data_stats_by_year_month_qa"
   ]
  },
  {
   "cell_type": "code",
   "execution_count": null,
   "id": "ba4d9f77",
   "metadata": {},
   "outputs": [],
   "source": [
    "ramccqa.plot_bad_data_by_year_month_stats(\n",
    "    kucoin_bad_data_stats_by_year_month_qa, config[\"stats\"][\"threshold\"]\n",
    ")"
   ]
  }
 ],
 "metadata": {
  "kernelspec": {
   "display_name": "Python 3 (ipykernel)",
   "language": "python",
   "name": "python3"
  },
  "language_info": {
   "codemirror_mode": {
    "name": "ipython",
    "version": 3
   },
   "file_extension": ".py",
   "mimetype": "text/x-python",
   "name": "python",
   "nbconvert_exporter": "python",
   "pygments_lexer": "ipython3"
  },
  "toc": {
   "base_numbering": 1,
   "nav_menu": {},
   "number_sections": true,
   "sideBar": true,
   "skip_h1_title": false,
   "title_cell": "Table of Contents",
   "title_sidebar": "Contents",
   "toc_cell": false,
   "toc_position": {},
   "toc_section_display": true,
   "toc_window_display": false
  }
 },
 "nbformat": 4,
 "nbformat_minor": 5
}
