{
 "cells": [
  {
   "cell_type": "markdown",
   "id": "8235a44f",
   "metadata": {},
   "source": [
    "# Imports"
   ]
  },
  {
   "cell_type": "code",
   "execution_count": null,
   "id": "12cd4371",
   "metadata": {},
   "outputs": [],
   "source": [
    "%load_ext autoreload\n",
    "%autoreload 2\n",
    "\n",
    "\n",
    "import logging\n",
    "from datetime import timedelta\n",
    "import datetime\n",
    "\n",
    "import pandas as pd\n",
    "import seaborn as sns\n",
    "\n",
    "import core.plotting.normality as cplonorm\n",
    "import helpers.hdbg as hdbg\n",
    "import helpers.hprint as hprint\n",
    "import research_amp.transform as ramptran\n",
    "import numpy as np"
   ]
  },
  {
   "cell_type": "code",
   "execution_count": null,
   "id": "7144dc44",
   "metadata": {},
   "outputs": [],
   "source": [
    "# Read saved 1 month of data.\n",
    "ohlcv_cc = pd.read_csv(\"/shared_data/cc_ohlcv.csv\", index_col=\"timestamp\")\n",
    "btc_ohlcv = ohlcv_cc[ohlcv_cc[\"full_symbol\"] == \"binance::BTC_USDT\"]\n",
    "btc_ohlcv.index = pd.to_datetime(btc_ohlcv.index)\n",
    "ohlcv_cols = [\n",
    "    \"open\",\n",
    "    \"high\",\n",
    "    \"low\",\n",
    "    \"close\",\n",
    "    \"volume\",\n",
    "    \"full_symbol\",\n",
    "]\n",
    "btc_ohlcv = btc_ohlcv[ohlcv_cols]\n",
    "btc_ohlcv.head(3)"
   ]
  },
  {
   "cell_type": "code",
   "execution_count": null,
   "id": "981c4ee9",
   "metadata": {},
   "outputs": [],
   "source": [
    "# Read saved 1 month of data.\n",
    "bid_ask_btc = pd.read_csv(\n",
    "    \"/shared_data/bid_ask_btc_jan22_1min_last.csv\", index_col=\"timestamp\"\n",
    ")\n",
    "bid_ask_btc.index = pd.to_datetime(bid_ask_btc.index)\n",
    "\n",
    "# Transform the data.\n",
    "bid_ask_btc.index = pd.to_datetime(bid_ask_btc.index)\n",
    "# Compute bid ask stats.\n",
    "bid_ask_btc = ramptran.calculate_bid_ask_statistics(bid_ask_btc)\n",
    "# Choose only necessary values.\n",
    "bid_ask_btc = bid_ask_btc.swaplevel(axis=1)[\"binance::BTC_USDT\"][\n",
    "    [\"bid_size\", \"ask_size\", \"bid_price\", \"ask_price\", \"mid\", \"quoted_spread\"]\n",
    "]\n",
    "bid_ask_btc.index = bid_ask_btc.index.shift(-1, freq=\"T\")\n",
    "\n",
    "bid_ask_btc.head(3)"
   ]
  },
  {
   "cell_type": "code",
   "execution_count": null,
   "id": "e4f65cd9",
   "metadata": {},
   "outputs": [],
   "source": [
    "# OHLCV + bid ask\n",
    "btc = pd.concat([btc_ohlcv, bid_ask_btc], axis=1)\n",
    "btc.head(3)"
   ]
  },
  {
   "cell_type": "markdown",
   "id": "bcfab420",
   "metadata": {},
   "source": [
    "# Estimate intraday spread, volume"
   ]
  },
  {
   "cell_type": "code",
   "execution_count": null,
   "id": "cb4e8b50",
   "metadata": {},
   "outputs": [],
   "source": [
    "def get_real_spread(df: pd.DataFrame, time_and_date: pd.Timestamp):\n",
    "    value = df[\"quoted_spread\"].loc[time_and_date]\n",
    "    return value\n",
    "\n",
    "def get_real_volume(df: pd.DataFrame, time_and_date: pd.Timestamp):\n",
    "    value = df[\"volume\"].loc[date]\n",
    "    return value"
   ]
  },
  {
   "cell_type": "code",
   "execution_count": null,
   "id": "277f90a2",
   "metadata": {},
   "outputs": [],
   "source": [
    "date = pd.Timestamp(\"2022-01-01 00:01\", tz=\"UTC\")\n",
    "date"
   ]
  },
  {
   "cell_type": "code",
   "execution_count": null,
   "id": "a412933d",
   "metadata": {},
   "outputs": [],
   "source": [
    "get_real_spread(btc, date)"
   ]
  },
  {
   "cell_type": "code",
   "execution_count": null,
   "id": "ee31a842",
   "metadata": {},
   "outputs": [],
   "source": [
    "get_real_volume(btc, date)"
   ]
  },
  {
   "cell_type": "markdown",
   "id": "b11ed08d",
   "metadata": {},
   "source": [
    "# Naive estimator"
   ]
  },
  {
   "cell_type": "markdown",
   "id": "9b6dbab4",
   "metadata": {},
   "source": [
    "Value(t+2) = Value(t)"
   ]
  },
  {
   "cell_type": "code",
   "execution_count": null,
   "id": "183cc2a0",
   "metadata": {},
   "outputs": [],
   "source": [
    "def get_naive_spread(df: pd.DataFrame, time_and_date: pd.Timestamp):\n",
    "    naive_value_date = time_and_date - timedelta(minutes=2)\n",
    "    real_spread = get_real_spread(df, naive_value_date)\n",
    "    return real_spread\n",
    "\n",
    "def get_naive_volume(df: pd.DataFrame, time_and_date: pd.Timestamp):\n",
    "    naive_value_date = time_and_date - timedelta(minutes=2)\n",
    "    real_spread = get_real_volume(df, naive_value_date)\n",
    "    return real_spread"
   ]
  },
  {
   "cell_type": "code",
   "execution_count": null,
   "id": "9c22ed0a",
   "metadata": {},
   "outputs": [],
   "source": [
    "date = pd.Timestamp(\"2022-01-01 00:03\", tz=\"UTC\")\n",
    "date"
   ]
  },
  {
   "cell_type": "code",
   "execution_count": null,
   "id": "cd5b8467",
   "metadata": {},
   "outputs": [],
   "source": [
    "get_naive_spread(btc, date)"
   ]
  },
  {
   "cell_type": "code",
   "execution_count": null,
   "id": "70df0b68",
   "metadata": {},
   "outputs": [],
   "source": [
    "get_naive_volume(btc, date)"
   ]
  },
  {
   "cell_type": "markdown",
   "id": "c5a17e63",
   "metadata": {},
   "source": [
    "# Look back N days"
   ]
  },
  {
   "cell_type": "code",
   "execution_count": null,
   "id": "d3912301",
   "metadata": {},
   "outputs": [],
   "source": [
    "btc[\"time\"] = btc.index.time\n",
    "btc.head(3)"
   ]
  },
  {
   "cell_type": "code",
   "execution_count": null,
   "id": "63154d6d",
   "metadata": {},
   "outputs": [],
   "source": [
    "def get_lookback_spread(df, time_and_date: pd.Timestamp, lookback_days, mode: str = \"mean\"):\n",
    "    # Choose sample data using lookback period.\n",
    "    start_date = time_and_date - timedelta(days=lookback_days)\n",
    "    sample = df.loc[start_date : time_and_date]\n",
    "    # Look for the reference value for the period.\n",
    "    time_grouper = sample.groupby(\"time\")\n",
    "    if mode == \"mean\":\n",
    "        grouped = time_grouper[\"quoted_spread\"].mean()\n",
    "    else:\n",
    "        grouped = time_grouper[\"quoted_spread\"].median()\n",
    "    # Choose the value.\n",
    "    lookback_spread = grouped[time_and_date.time()]\n",
    "    return lookback_spread\n",
    "\n",
    "def get_lookback_volume(df, time_and_date: pd.Timestamp, lookback_days, mode: str = \"mean\"):\n",
    "    # Choose sample data using lookback period.\n",
    "    start_date = time_and_date - timedelta(days=lookback_days)\n",
    "    sample = df.loc[start_date : time_and_date]\n",
    "    # Look for the reference value for the period.\n",
    "    time_grouper = sample.groupby(\"time\")\n",
    "    if mode == \"mean\":\n",
    "        grouped = time_grouper[\"volume\"].mean()\n",
    "    else:\n",
    "        grouped = time_grouper[\"volume\"].median()\n",
    "    # Choose the value.\n",
    "    lookback_spread = grouped[time_and_date.time()]\n",
    "    return lookback_spread"
   ]
  },
  {
   "cell_type": "code",
   "execution_count": null,
   "id": "c6c28350",
   "metadata": {},
   "outputs": [],
   "source": [
    "date = pd.Timestamp(\"2022-01-21 19:59\", tz=\"UTC\")\n",
    "date"
   ]
  },
  {
   "cell_type": "code",
   "execution_count": null,
   "id": "f5a06949",
   "metadata": {},
   "outputs": [],
   "source": [
    "get_lookback_spread(btc, date, 14)"
   ]
  },
  {
   "cell_type": "code",
   "execution_count": null,
   "id": "51497878",
   "metadata": {},
   "outputs": [],
   "source": [
    "get_lookback_volume(btc, date, 14)"
   ]
  },
  {
   "cell_type": "markdown",
   "id": "64bc6453",
   "metadata": {},
   "source": [
    "# Collect estimators"
   ]
  },
  {
   "cell_type": "code",
   "execution_count": null,
   "id": "9aace923",
   "metadata": {},
   "outputs": [],
   "source": [
    "estimators = pd.DataFrame(index=btc.index[1:])"
   ]
  },
  {
   "cell_type": "code",
   "execution_count": null,
   "id": "78342a1c",
   "metadata": {},
   "outputs": [],
   "source": [
    "estimators[\"real_spread\"] = estimators.index\n",
    "estimators[\"real_spread\"] = estimators[\"real_spread\"].apply(lambda x: get_real_spread(btc, x))"
   ]
  },
  {
   "cell_type": "code",
   "execution_count": null,
   "id": "ea18dcfa",
   "metadata": {},
   "outputs": [],
   "source": [
    "estimators[\"naive_spread\"] = estimators.index\n",
    "estimators[\"naive_spread\"].iloc[2:] = estimators[\"naive_spread\"].iloc[2:].apply(lambda x: get_naive_spread(btc, x))\n",
    "estimators[\"naive_spread\"].iloc[:2] = np.nan"
   ]
  },
  {
   "cell_type": "code",
   "execution_count": null,
   "id": "a49bab2f",
   "metadata": {},
   "outputs": [],
   "source": [
    "start_date = pd.Timestamp(\"2022-01-15 00:00\", tz=\"UTC\")\n",
    "lookback = 14\n",
    "estimators[\"lookback_spread\"] = estimators.index\n",
    "estimators[\"lookback_spread\"].loc[start_date:] = estimators[\"lookback_spread\"].loc[start_date:].apply(lambda x: get_lookback_spread(btc, x, lookback))"
   ]
  },
  {
   "cell_type": "code",
   "execution_count": null,
   "id": "143bb4d7",
   "metadata": {},
   "outputs": [],
   "source": [
    "estimators = estimators.copy()\n",
    "estimators[\"lookback_spread\"].loc[:start_date] = np.nan"
   ]
  },
  {
   "cell_type": "code",
   "execution_count": null,
   "id": "f98f376c",
   "metadata": {},
   "outputs": [],
   "source": [
    "estimators"
   ]
  },
  {
   "cell_type": "code",
   "execution_count": null,
   "id": "f87fe88d",
   "metadata": {},
   "outputs": [],
   "source": [
    "## Evaluate results\n",
    "dd = estimators[estimators[\"lookback_spread\"].notna()]\n",
    "dd[\"naive_spread\"] = dd[\"naive_spread\"].astype(float)\n",
    "dd[\"lookback_spread\"] = dd[\"lookback_spread\"].astype(float)"
   ]
  },
  {
   "cell_type": "code",
   "execution_count": null,
   "id": "06ac7095",
   "metadata": {},
   "outputs": [],
   "source": []
  },
  {
   "cell_type": "code",
   "execution_count": null,
   "id": "a12a7a5a",
   "metadata": {},
   "outputs": [],
   "source": [
    "Compare by asset (but also accumulate on all the coins):\n",
    "- err(naive, spread) = avg(|spread_read(t) - spread_naive(t)|)\n",
    "- err(lookback, spread) = avg(|spread_read(t) - spread_lookback(t)|)"
   ]
  },
  {
   "cell_type": "code",
   "execution_count": null,
   "id": "c4127e04",
   "metadata": {},
   "outputs": [],
   "source": [
    "dd"
   ]
  },
  {
   "cell_type": "code",
   "execution_count": null,
   "id": "9d65245e",
   "metadata": {},
   "outputs": [],
   "source": [
    "naive_err = abs(dd[\"real_spread\"]-dd[\"naive_spread\"]).sum()\n",
    "lookback_err = abs(dd[\"real_spread\"]-dd[\"lookback_spread\"]).sum()\n",
    "print(naive_err)\n",
    "print(lookback_err)"
   ]
  },
  {
   "cell_type": "code",
   "execution_count": null,
   "id": "bf0f67a8",
   "metadata": {},
   "outputs": [],
   "source": [
    "dd[[\"real_spread\", \"lookback_spread\"]].plot(figsize=(15,7))"
   ]
  },
  {
   "cell_type": "code",
   "execution_count": null,
   "id": "ff62ae6a",
   "metadata": {},
   "outputs": [],
   "source": []
  }
 ],
 "metadata": {
  "kernelspec": {
   "display_name": "Python 3 (ipykernel)",
   "language": "python",
   "name": "python3"
  },
  "language_info": {
   "codemirror_mode": {
    "name": "ipython",
    "version": 3
   },
   "file_extension": ".py",
   "mimetype": "text/x-python",
   "name": "python",
   "nbconvert_exporter": "python",
   "pygments_lexer": "ipython3"
  },
  "toc": {
   "base_numbering": 1,
   "nav_menu": {},
   "number_sections": true,
   "sideBar": true,
   "skip_h1_title": false,
   "title_cell": "Table of Contents",
   "title_sidebar": "Contents",
   "toc_cell": false,
   "toc_position": {},
   "toc_section_display": true,
   "toc_window_display": false
  }
 },
 "nbformat": 4,
 "nbformat_minor": 5
}
