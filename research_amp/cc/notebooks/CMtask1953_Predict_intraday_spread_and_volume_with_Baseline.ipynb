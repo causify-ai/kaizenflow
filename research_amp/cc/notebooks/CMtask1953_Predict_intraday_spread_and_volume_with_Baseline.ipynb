{
 "cells": [
  {
   "cell_type": "markdown",
   "id": "54da1cc1",
   "metadata": {},
   "source": [
    "# Imports"
   ]
  },
  {
   "cell_type": "code",
   "execution_count": null,
   "id": "44249f9a",
   "metadata": {},
   "outputs": [],
   "source": [
    "%load_ext autoreload\n",
    "%autoreload 2\n",
    "\n",
    "\n",
    "from datetime import timedelta\n",
    "\n",
    "import numpy as np\n",
    "import pandas as pd\n",
    "\n",
    "import research_amp.transform as ramptran"
   ]
  },
  {
   "cell_type": "code",
   "execution_count": null,
   "id": "36b377ad",
   "metadata": {},
   "outputs": [],
   "source": [
    "# Read saved 1 month of data.\n",
    "ohlcv_cc = pd.read_csv(\"/shared_data/cc_ohlcv.csv\", index_col=\"timestamp\")\n",
    "btc_ohlcv = ohlcv_cc[ohlcv_cc[\"full_symbol\"] == \"binance::BTC_USDT\"]\n",
    "btc_ohlcv.index = pd.to_datetime(btc_ohlcv.index)\n",
    "ohlcv_cols = [\n",
    "    \"open\",\n",
    "    \"high\",\n",
    "    \"low\",\n",
    "    \"close\",\n",
    "    \"volume\",\n",
    "    \"full_symbol\",\n",
    "]\n",
    "btc_ohlcv = btc_ohlcv[ohlcv_cols]\n",
    "btc_ohlcv.head(3)"
   ]
  },
  {
   "cell_type": "code",
   "execution_count": null,
   "id": "f308d137",
   "metadata": {},
   "outputs": [],
   "source": [
    "# Read saved 1 month of data.\n",
    "bid_ask_btc = pd.read_csv(\n",
    "    \"/shared_data/bid_ask_btc_jan22_1min_last.csv\", index_col=\"timestamp\"\n",
    ")\n",
    "bid_ask_btc.index = pd.to_datetime(bid_ask_btc.index)\n",
    "\n",
    "# Transform the data.\n",
    "bid_ask_btc.index = pd.to_datetime(bid_ask_btc.index)\n",
    "# Compute bid ask stats.\n",
    "bid_ask_btc = ramptran.calculate_bid_ask_statistics(bid_ask_btc)\n",
    "# Choose only necessary values.\n",
    "bid_ask_btc = bid_ask_btc.swaplevel(axis=1)[\"binance::BTC_USDT\"][\n",
    "    [\"bid_size\", \"ask_size\", \"bid_price\", \"ask_price\", \"mid\", \"quoted_spread\"]\n",
    "]\n",
    "bid_ask_btc.index = bid_ask_btc.index.shift(-1, freq=\"T\")\n",
    "\n",
    "bid_ask_btc.head(3)"
   ]
  },
  {
   "cell_type": "code",
   "execution_count": null,
   "id": "73201765",
   "metadata": {},
   "outputs": [],
   "source": [
    "# OHLCV + bid ask\n",
    "btc = pd.concat([btc_ohlcv, bid_ask_btc], axis=1)\n",
    "btc.head(3)"
   ]
  },
  {
   "cell_type": "markdown",
   "id": "9a2bd409",
   "metadata": {},
   "source": [
    "# Estimate intraday spread, volume"
   ]
  },
  {
   "cell_type": "code",
   "execution_count": null,
   "id": "335e291e",
   "metadata": {},
   "outputs": [],
   "source": [
    "def get_real_spread(df: pd.DataFrame, time_and_date: pd.Timestamp):\n",
    "    value = df[\"quoted_spread\"].loc[time_and_date]\n",
    "    return value\n",
    "\n",
    "\n",
    "def get_real_volume(df: pd.DataFrame, time_and_date: pd.Timestamp):\n",
    "    value = df[\"volume\"].loc[time_and_date]\n",
    "    return value"
   ]
  },
  {
   "cell_type": "code",
   "execution_count": null,
   "id": "e7784353",
   "metadata": {},
   "outputs": [],
   "source": [
    "date = pd.Timestamp(\"2022-01-01 00:01\", tz=\"UTC\")\n",
    "date"
   ]
  },
  {
   "cell_type": "code",
   "execution_count": null,
   "id": "29c3db12",
   "metadata": {},
   "outputs": [],
   "source": [
    "get_real_spread(btc, date)"
   ]
  },
  {
   "cell_type": "code",
   "execution_count": null,
   "id": "84e7e5c2",
   "metadata": {},
   "outputs": [],
   "source": [
    "get_real_volume(btc, date)"
   ]
  },
  {
   "cell_type": "markdown",
   "id": "d57e0fe1",
   "metadata": {},
   "source": [
    "# Naive estimator"
   ]
  },
  {
   "cell_type": "markdown",
   "id": "0e0536d5",
   "metadata": {},
   "source": [
    "Value(t+2) = Value(t)"
   ]
  },
  {
   "cell_type": "code",
   "execution_count": null,
   "id": "59416f26",
   "metadata": {},
   "outputs": [],
   "source": [
    "def get_naive_spread(df: pd.DataFrame, time_and_date: pd.Timestamp):\n",
    "    naive_value_date = time_and_date - timedelta(minutes=2)\n",
    "    real_spread = get_real_spread(df, naive_value_date)\n",
    "    return real_spread\n",
    "\n",
    "\n",
    "def get_naive_volume(df: pd.DataFrame, time_and_date: pd.Timestamp):\n",
    "    naive_value_date = time_and_date - timedelta(minutes=2)\n",
    "    real_spread = get_real_volume(df, naive_value_date)\n",
    "    return real_spread"
   ]
  },
  {
   "cell_type": "code",
   "execution_count": null,
   "id": "94eec9c3",
   "metadata": {},
   "outputs": [],
   "source": [
    "date = pd.Timestamp(\"2022-01-01 00:03\", tz=\"UTC\")\n",
    "date"
   ]
  },
  {
   "cell_type": "code",
   "execution_count": null,
   "id": "d975913c",
   "metadata": {},
   "outputs": [],
   "source": [
    "get_naive_spread(btc, date)"
   ]
  },
  {
   "cell_type": "code",
   "execution_count": null,
   "id": "cd161366",
   "metadata": {},
   "outputs": [],
   "source": [
    "get_naive_volume(btc, date)"
   ]
  },
  {
   "cell_type": "markdown",
   "id": "ee476ef0",
   "metadata": {},
   "source": [
    "# Look back N days"
   ]
  },
  {
   "cell_type": "code",
   "execution_count": null,
   "id": "52366786",
   "metadata": {},
   "outputs": [],
   "source": [
    "btc[\"time\"] = btc.index.time\n",
    "btc.head(3)"
   ]
  },
  {
   "cell_type": "code",
   "execution_count": null,
   "id": "6b46e4c7",
   "metadata": {},
   "outputs": [],
   "source": [
    "def get_lookback_spread(\n",
    "    df, time_and_date: pd.Timestamp, lookback_days, mode: str = \"mean\"\n",
    "):\n",
    "    # Choose sample data using lookback period.\n",
    "    start_date = time_and_date - timedelta(days=lookback_days)\n",
    "    sample = df.loc[start_date:time_and_date]\n",
    "    # Look for the reference value for the period.\n",
    "    time_grouper = sample.groupby(\"time\")\n",
    "    if mode == \"mean\":\n",
    "        grouped = time_grouper[\"quoted_spread\"].mean()\n",
    "    else:\n",
    "        grouped = time_grouper[\"quoted_spread\"].median()\n",
    "    # Choose the value.\n",
    "    lookback_spread = grouped[time_and_date.time()]\n",
    "    return lookback_spread\n",
    "\n",
    "\n",
    "def get_lookback_volume(\n",
    "    df, time_and_date: pd.Timestamp, lookback_days, mode: str = \"mean\"\n",
    "):\n",
    "    # Choose sample data using lookback period.\n",
    "    start_date = time_and_date - timedelta(days=lookback_days)\n",
    "    sample = df.loc[start_date:time_and_date]\n",
    "    # Look for the reference value for the period.\n",
    "    time_grouper = sample.groupby(\"time\")\n",
    "    if mode == \"mean\":\n",
    "        grouped = time_grouper[\"volume\"].mean()\n",
    "    else:\n",
    "        grouped = time_grouper[\"volume\"].median()\n",
    "    # Choose the value.\n",
    "    lookback_spread = grouped[time_and_date.time()]\n",
    "    return lookback_spread"
   ]
  },
  {
   "cell_type": "code",
   "execution_count": null,
   "id": "6b2ea14f",
   "metadata": {},
   "outputs": [],
   "source": [
    "date = pd.Timestamp(\"2022-01-21 19:59\", tz=\"UTC\")\n",
    "date"
   ]
  },
  {
   "cell_type": "code",
   "execution_count": null,
   "id": "e9a0354b",
   "metadata": {},
   "outputs": [],
   "source": [
    "get_lookback_spread(btc, date, 14)"
   ]
  },
  {
   "cell_type": "code",
   "execution_count": null,
   "id": "c885bf8d",
   "metadata": {},
   "outputs": [],
   "source": [
    "get_lookback_volume(btc, date, 14)"
   ]
  },
  {
   "cell_type": "markdown",
   "id": "61d6e6de",
   "metadata": {},
   "source": [
    "# Collect estimators"
   ]
  },
  {
   "cell_type": "code",
   "execution_count": null,
   "id": "10f02143",
   "metadata": {},
   "outputs": [],
   "source": [
    "# Generate the separate DataFrame for estimators.\n",
    "estimators = pd.DataFrame(index=btc.index[1:])\n",
    "# Add the values of a real spread.\n",
    "estimators[\"real_spread\"] = estimators.index\n",
    "estimators[\"real_spread\"] = estimators[\"real_spread\"].apply(\n",
    "    lambda x: get_real_spread(btc, x)\n",
    ")\n",
    "# Add the values of naive estimator.\n",
    "estimators[\"naive_spread\"] = estimators.index\n",
    "estimators = estimators.copy()\n",
    "estimators[\"naive_spread\"].iloc[2:] = (\n",
    "    estimators[\"naive_spread\"].iloc[2:].apply(lambda x: get_naive_spread(btc, x))\n",
    ")\n",
    "estimators[\"naive_spread\"].iloc[:2] = np.nan\n",
    "# Add the values of lookback estimator.\n",
    "# Parameters.\n",
    "start_date = pd.Timestamp(\"2022-01-15 00:00\", tz=\"UTC\")\n",
    "lookback = 14\n",
    "# Calculate values.\n",
    "estimators[\"lookback_spread\"] = estimators.index\n",
    "estimators = estimators.copy()\n",
    "estimators[\"lookback_spread\"].loc[start_date:] = (\n",
    "    estimators[\"lookback_spread\"]\n",
    "    .loc[start_date:]\n",
    "    .apply(lambda x: get_lookback_spread(btc, x, lookback))\n",
    ")\n",
    "# Set NaNs.\n",
    "estimators = estimators.copy()\n",
    "estimators[\"lookback_spread\"].loc[:start_date] = np.nan"
   ]
  },
  {
   "cell_type": "code",
   "execution_count": null,
   "id": "b82c31e3",
   "metadata": {},
   "outputs": [],
   "source": [
    "estimators"
   ]
  },
  {
   "cell_type": "code",
   "execution_count": null,
   "id": "526457eb",
   "metadata": {},
   "outputs": [],
   "source": []
  },
  {
   "cell_type": "code",
   "execution_count": null,
   "id": "78e2f308",
   "metadata": {},
   "outputs": [],
   "source": [
    "## Evaluate results\n",
    "dd = estimators[estimators[\"lookback_spread\"].notna()]\n",
    "dd[\"naive_spread\"] = dd[\"naive_spread\"].astype(float)\n",
    "dd[\"lookback_spread\"] = dd[\"lookback_spread\"].astype(float)"
   ]
  },
  {
   "cell_type": "code",
   "execution_count": null,
   "id": "461c7272",
   "metadata": {},
   "outputs": [],
   "source": []
  },
  {
   "cell_type": "code",
   "execution_count": null,
   "id": "e86a50d8",
   "metadata": {},
   "outputs": [],
   "source": [
    "dd"
   ]
  },
  {
   "cell_type": "code",
   "execution_count": null,
   "id": "c7415ef4",
   "metadata": {},
   "outputs": [],
   "source": [
    "naive_err = abs(dd[\"real_spread\"] - dd[\"naive_spread\"]).sum()\n",
    "lookback_err = abs(dd[\"real_spread\"] - dd[\"lookback_spread\"]).sum()\n",
    "print(naive_err)\n",
    "print(lookback_err)"
   ]
  },
  {
   "cell_type": "code",
   "execution_count": null,
   "id": "d7da15e7",
   "metadata": {},
   "outputs": [],
   "source": [
    "dd[[\"real_spread\", \"lookback_spread\"]].plot(figsize=(15, 7))"
   ]
  },
  {
   "cell_type": "code",
   "execution_count": null,
   "id": "73cb5fab",
   "metadata": {},
   "outputs": [],
   "source": []
  }
 ],
 "metadata": {
  "kernelspec": {
   "display_name": "Python 3 (ipykernel)",
   "language": "python",
   "name": "python3"
  },
  "language_info": {
   "codemirror_mode": {
    "name": "ipython",
    "version": 3
   },
   "file_extension": ".py",
   "mimetype": "text/x-python",
   "name": "python",
   "nbconvert_exporter": "python",
   "pygments_lexer": "ipython3"
  },
  "toc": {
   "base_numbering": 1,
   "nav_menu": {},
   "number_sections": true,
   "sideBar": true,
   "skip_h1_title": false,
   "title_cell": "Table of Contents",
   "title_sidebar": "Contents",
   "toc_cell": false,
   "toc_position": {},
   "toc_section_display": true,
   "toc_window_display": false
  }
 },
 "nbformat": 4,
 "nbformat_minor": 5
}
