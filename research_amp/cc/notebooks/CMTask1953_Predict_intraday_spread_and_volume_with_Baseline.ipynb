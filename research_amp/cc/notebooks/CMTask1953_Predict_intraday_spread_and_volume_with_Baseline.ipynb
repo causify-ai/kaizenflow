{
 "cells": [
  {
   "cell_type": "markdown",
   "id": "54da1cc1",
   "metadata": {},
   "source": [
    "# Imports"
   ]
  },
  {
   "cell_type": "code",
   "execution_count": null,
   "id": "44249f9a",
   "metadata": {},
   "outputs": [],
   "source": [
    "%load_ext autoreload\n",
    "%autoreload 2\n",
    "\n",
    "\n",
    "import logging\n",
    "from datetime import timedelta\n",
    "\n",
    "import numpy as np\n",
    "import pandas as pd\n",
    "\n",
    "import core.explore as coexplor\n",
    "import helpers.hdbg as hdbg\n",
    "import helpers.hpandas as hpandas\n",
    "import helpers.hprint as hprint\n",
    "import research_amp.transform as ramptran"
   ]
  },
  {
   "cell_type": "code",
   "execution_count": null,
   "id": "6153685d",
   "metadata": {},
   "outputs": [],
   "source": [
    "hdbg.init_logger(verbosity=logging.INFO)\n",
    "\n",
    "_LOG = logging.getLogger(__name__)\n",
    "\n",
    "hprint.config_notebook()"
   ]
  },
  {
   "cell_type": "markdown",
   "id": "74027f12",
   "metadata": {},
   "source": [
    "# Load the data"
   ]
  },
  {
   "cell_type": "markdown",
   "id": "49f1fd6d",
   "metadata": {},
   "source": [
    "## OHLCV"
   ]
  },
  {
   "cell_type": "code",
   "execution_count": null,
   "id": "36b377ad",
   "metadata": {},
   "outputs": [],
   "source": [
    "# Read saved 1 month of data.\n",
    "ohlcv_cc = pd.read_csv(\"/shared_data/cc_ohlcv.csv\", index_col=\"timestamp\")\n",
    "btc_ohlcv = ohlcv_cc[ohlcv_cc[\"full_symbol\"] == \"binance::BTC_USDT\"]\n",
    "btc_ohlcv.index = pd.to_datetime(btc_ohlcv.index)\n",
    "ohlcv_cols = [\n",
    "    \"open\",\n",
    "    \"high\",\n",
    "    \"low\",\n",
    "    \"close\",\n",
    "    \"volume\",\n",
    "    \"full_symbol\",\n",
    "]\n",
    "btc_ohlcv = btc_ohlcv[ohlcv_cols]\n",
    "btc_ohlcv.head(3)"
   ]
  },
  {
   "cell_type": "markdown",
   "id": "70c0fa2b",
   "metadata": {},
   "source": [
    "## Bid ask data"
   ]
  },
  {
   "cell_type": "code",
   "execution_count": null,
   "id": "f308d137",
   "metadata": {},
   "outputs": [],
   "source": [
    "# Read saved 1 month of data.\n",
    "bid_ask_btc = pd.read_csv(\n",
    "    \"/shared_data/bid_ask_btc_jan22_1min_last.csv\", index_col=\"timestamp\"\n",
    ")\n",
    "bid_ask_btc.index = pd.to_datetime(bid_ask_btc.index)\n",
    "\n",
    "# Transform the data.\n",
    "bid_ask_btc.index = pd.to_datetime(bid_ask_btc.index)\n",
    "# Compute bid ask stats.\n",
    "bid_ask_btc = ramptran.calculate_bid_ask_statistics(bid_ask_btc)\n",
    "# Choose only necessary values.\n",
    "bid_ask_btc = bid_ask_btc.swaplevel(axis=1)[\"binance::BTC_USDT\"][\n",
    "    [\"bid_size\", \"ask_size\", \"bid_price\", \"ask_price\", \"mid\", \"quoted_spread\"]\n",
    "]\n",
    "bid_ask_btc.index = bid_ask_btc.index.shift(-1, freq=\"T\")\n",
    "\n",
    "bid_ask_btc.head(3)"
   ]
  },
  {
   "cell_type": "markdown",
   "id": "a3aad4de",
   "metadata": {},
   "source": [
    "## Combined"
   ]
  },
  {
   "cell_type": "code",
   "execution_count": null,
   "id": "73201765",
   "metadata": {},
   "outputs": [],
   "source": [
    "# OHLCV + bid ask\n",
    "btc = pd.concat([btc_ohlcv, bid_ask_btc], axis=1)\n",
    "btc.head(3)"
   ]
  },
  {
   "cell_type": "markdown",
   "id": "ace30295",
   "metadata": {},
   "source": [
    "# Create and test functions for each estimator"
   ]
  },
  {
   "cell_type": "markdown",
   "id": "9a2bd409",
   "metadata": {},
   "source": [
    "## Estimate intraday spread, volume"
   ]
  },
  {
   "cell_type": "code",
   "execution_count": null,
   "id": "335e291e",
   "metadata": {},
   "outputs": [],
   "source": [
    "def get_target_value(df: pd.DataFrame, timestamp: pd.Timestamp, column_name: str):\n",
    "    \"\"\"\n",
    "    :param df: data that contains spread and/or volume\n",
    "    :param timestamp: timestamp for prediciton\n",
    "    :param column_name: targeted estimation value (e.g., \"quoted_spread\", \"volume\")\n",
    "    :return: value of targeted spread or volume\n",
    "    \"\"\"\n",
    "    hpandas.dassert_monotonic_index(df.index)\n",
    "    if timestamp >= df.index.min() and timestamp <= df.index.max():\n",
    "        value = df[column_name].loc[timestamp]\n",
    "    else:\n",
    "        value = np.nan\n",
    "    return value"
   ]
  },
  {
   "cell_type": "code",
   "execution_count": null,
   "id": "e7784353",
   "metadata": {},
   "outputs": [],
   "source": [
    "date = pd.Timestamp(\"2022-01-01 00:01\", tz=\"UTC\")\n",
    "display(get_target_value(btc, date, \"quoted_spread\"))\n",
    "display(get_target_value(btc, date, \"volume\"))"
   ]
  },
  {
   "cell_type": "markdown",
   "id": "d57e0fe1",
   "metadata": {},
   "source": [
    "## Naive estimator"
   ]
  },
  {
   "cell_type": "markdown",
   "id": "0e0536d5",
   "metadata": {},
   "source": [
    "Value(t+2) = Value(t)"
   ]
  },
  {
   "cell_type": "code",
   "execution_count": null,
   "id": "59416f26",
   "metadata": {},
   "outputs": [],
   "source": [
    "def get_naive_value(\n",
    "    df: pd.DataFrame,\n",
    "    timestamp: pd.Timestamp,\n",
    "    column_name: str,\n",
    "    delay_in_mins: int = 2,\n",
    ") -> float:\n",
    "    \"\"\"\n",
    "    Estimator for a given time is a `t - delay_in_mins` of a real value.\n",
    "\n",
    "    :param df: data that contains spread and/or volume\n",
    "    :param timestamp: timestamp for prediciton\n",
    "    :param column_name: targeted estimation value (e.g., \"quoted_spread\", \"volume\")\n",
    "    :param delay_in_mins: desired gap for target estimator, in mins\n",
    "    :return: value of predicted spread or volume\n",
    "    \"\"\"\n",
    "    # Check and define delay.\n",
    "    hdbg.dassert_lte(1, delay_in_mins)\n",
    "    delay_in_mins = timedelta(minutes=delay_in_mins)\n",
    "    # Get the value.\n",
    "    lookup_timestamp = timestamp - delay_in_mins\n",
    "    if lookup_timestamp >= df.index.min() and lookup_timestamp <= df.index.max():\n",
    "        value = get_target_value(df, lookup_timestamp, column_name)\n",
    "    else:\n",
    "        value = np.nan\n",
    "    return value"
   ]
  },
  {
   "cell_type": "code",
   "execution_count": null,
   "id": "94eec9c3",
   "metadata": {},
   "outputs": [],
   "source": [
    "date = pd.Timestamp(\"2022-01-01 00:03\", tz=\"UTC\")\n",
    "display(get_naive_value(btc, date, \"quoted_spread\"))\n",
    "display(get_naive_value(btc, date, \"volume\"))"
   ]
  },
  {
   "cell_type": "markdown",
   "id": "ee476ef0",
   "metadata": {},
   "source": [
    "## Look back N days"
   ]
  },
  {
   "cell_type": "markdown",
   "id": "85269e03",
   "metadata": {},
   "source": [
    "spread_lookback(t) = E_date[spread(t, date)]"
   ]
  },
  {
   "cell_type": "code",
   "execution_count": null,
   "id": "52366786",
   "metadata": {},
   "outputs": [],
   "source": [
    "# Add column with intraday time.\n",
    "btc[\"time\"] = btc.index.time"
   ]
  },
  {
   "cell_type": "code",
   "execution_count": null,
   "id": "6b46e4c7",
   "metadata": {},
   "outputs": [],
   "source": [
    "def get_lookback_value(\n",
    "    df: pd.DataFrame,\n",
    "    timestamp: pd.Timestamp,\n",
    "    lookback_days: int,\n",
    "    column_name: str,\n",
    "    delay: int = 0,\n",
    "    mode: str = \"mean\",\n",
    ") -> float:\n",
    "    \"\"\"\n",
    "    1) Set the period that is equal `timestamp for prediciton` - N days (lookback_days).\n",
    "    2) For that period, calculate mean (or median) value for spread in time during days.\n",
    "    3) Choose this mean value as an estimation for spread in the given timestamp.\n",
    "\n",
    "    :param df: data that contains spread\n",
    "    :param timestamp: timestamp for prediciton\n",
    "    :param lookback_days: historical period for estimation, in days\n",
    "    :param column_name: targeted estimation value (e.g., \"quoted_spread\", \"volume\")\n",
    "    :param delay: how many minutes to substract from the lookback starting period\n",
    "    :param mode: 'mean' or 'median'\n",
    "    :return: value of predicted spread\n",
    "    \"\"\"\n",
    "    # Choose sample data using lookback period (with a delay).\n",
    "    start_date = timestamp - timedelta(days=lookback_days, minutes=delay)\n",
    "    if start_date >= df.index.min() and start_date <= df.index.max():\n",
    "        sample = df.loc[start_date:timestamp]\n",
    "        # Look for the reference value for the period.\n",
    "        time_grouper = sample.groupby(\"time\")\n",
    "        if mode == \"mean\":\n",
    "            grouped = time_grouper[column_name].mean().to_frame()\n",
    "        else:\n",
    "            grouped = time_grouper[column_name].median().to_frame()\n",
    "        # Choose the lookback spread for a given time.\n",
    "        # value = grouped[timestamp.time()]\n",
    "        value = get_target_value(grouped, timestamp.time(), column_name)\n",
    "    else:\n",
    "        value = np.nan\n",
    "    return value"
   ]
  },
  {
   "cell_type": "code",
   "execution_count": null,
   "id": "a5c08371",
   "metadata": {},
   "outputs": [],
   "source": [
    "date = pd.Timestamp(\"2022-01-21 19:59\", tz=\"UTC\")\n",
    "display(get_lookback_value(btc, date, 14, \"quoted_spread\"))\n",
    "display(get_lookback_value(btc, date, 14, \"volume\"))"
   ]
  },
  {
   "cell_type": "markdown",
   "id": "61d6e6de",
   "metadata": {},
   "source": [
    "# Collect all estimators for the whole period"
   ]
  },
  {
   "cell_type": "code",
   "execution_count": null,
   "id": "4c77a237",
   "metadata": {},
   "outputs": [],
   "source": [
    "estimation_target = \"quoted_spread\"\n",
    "\n",
    "# Generate the separate DataFrame for estimators.\n",
    "estimators = pd.DataFrame(index=btc.index[1:])\n",
    "# Add the values of a real spread.\n",
    "estimators[\"real_spread\"] = estimators.index\n",
    "estimators[\"real_spread\"] = estimators[\"real_spread\"].apply(\n",
    "    lambda x: get_target_value(btc, x, estimation_target)\n",
    ")\n",
    "\n",
    "# Add the values of naive estimator.\n",
    "estimators[\"naive_spread\"] = estimators.index\n",
    "# Starting from the second value since this estimator looks back for two periods.\n",
    "estimators[\"naive_spread\"] = estimators[\"naive_spread\"].apply(\n",
    "    lambda x: get_naive_value(btc, x, estimation_target)\n",
    ")\n",
    "\n",
    "# Add the values of lookback estimator.\n",
    "# Parameters.\n",
    "lookback = 14\n",
    "# Calculate values.\n",
    "estimators[\"lookback_spread\"] = estimators.index\n",
    "estimators[\"lookback_spread\"] = estimators[\"lookback_spread\"].apply(\n",
    "    lambda x: get_lookback_value(btc, x, lookback, estimation_target)\n",
    ")"
   ]
  },
  {
   "cell_type": "code",
   "execution_count": null,
   "id": "b82c31e3",
   "metadata": {},
   "outputs": [],
   "source": [
    "estimators"
   ]
  },
  {
   "cell_type": "markdown",
   "id": "6fabd6db",
   "metadata": {},
   "source": [
    "# Evaluate results"
   ]
  },
  {
   "cell_type": "code",
   "execution_count": null,
   "id": "e4a2a6f5",
   "metadata": {},
   "outputs": [],
   "source": [
    "def get_mean_error(\n",
    "    df: pd.DataFrame,\n",
    "    column_name: str,\n",
    "    num_std: int = 1,\n",
    "    print_results: bool = True,\n",
    ") -> pd.Series:\n",
    "    \"\"\"\n",
    "    - Calculate the error of difference between real and estimated values.\n",
    "    - Show the mean and ± num_std*standard_deviation levels.\n",
    "\n",
    "    :param df: data with real values and estimators\n",
    "    :param column_name: estimator (e.g., \"naive_spread\", \"lookback_spread\")\n",
    "    :param num_std: number of standard deviations from mean\n",
    "    :param print_results: whether or not print results\n",
    "    :return: errors for each data point\n",
    "    \"\"\"\n",
    "    err = abs(df[\"real_spread\"] - df[column_name]) / df[\"real_spread\"]\n",
    "    err_mean = err.mean()\n",
    "    err_std = err.std()\n",
    "    if print_results:\n",
    "        print(\n",
    "            f\"Mean error + {num_std} std = {err_mean+num_std*err_std} \\\n",
    "              \\nMean error = {err_mean}\\\n",
    "              \\nMean error - {num_std} std = {err_mean-num_std*err_std}\"\n",
    "        )\n",
    "    return err"
   ]
  },
  {
   "cell_type": "code",
   "execution_count": null,
   "id": "78e2f308",
   "metadata": {},
   "outputs": [],
   "source": [
    "# Choose the period that is equally filled by both estimators.\n",
    "test = estimators[estimators[\"lookback_spread\"].notna()]\n",
    "test.head(3)"
   ]
  },
  {
   "cell_type": "markdown",
   "id": "1d271e87",
   "metadata": {},
   "source": [
    "## Naive estimator"
   ]
  },
  {
   "cell_type": "code",
   "execution_count": null,
   "id": "22f8db41",
   "metadata": {},
   "outputs": [],
   "source": [
    "# Mean error and upper/lower level of errors' standard deviation.\n",
    "naive_err = get_mean_error(test, column_name=\"naive_spread\")"
   ]
  },
  {
   "cell_type": "code",
   "execution_count": null,
   "id": "48ae9f7a",
   "metadata": {},
   "outputs": [],
   "source": [
    "# Regress (OLS) between `real_spread` and `naive_spread`.\n",
    "predicted_var = \"real_spread\"\n",
    "predictor_vars = \"naive_spread\"\n",
    "intercept = True\n",
    "# Run OLS.\n",
    "coexplor.ols_regress(\n",
    "    test,\n",
    "    predicted_var,\n",
    "    predictor_vars,\n",
    "    intercept,\n",
    ")"
   ]
  },
  {
   "cell_type": "code",
   "execution_count": null,
   "id": "6f4c279b",
   "metadata": {},
   "outputs": [],
   "source": [
    "test[[\"real_spread\", \"naive_spread\"]].plot(figsize=(15, 7))"
   ]
  },
  {
   "cell_type": "markdown",
   "id": "df698048",
   "metadata": {},
   "source": [
    "## Lookback estimator"
   ]
  },
  {
   "cell_type": "code",
   "execution_count": null,
   "id": "ce817220",
   "metadata": {},
   "outputs": [],
   "source": [
    "# Mean error and upper/lower level of errors' standard deviation.\n",
    "lookback_err = get_mean_error(test, column_name=\"lookback_spread\")"
   ]
  },
  {
   "cell_type": "code",
   "execution_count": null,
   "id": "16e802f8",
   "metadata": {},
   "outputs": [],
   "source": [
    "# Regress (OLS) between `real_spread` and `lookback_spread`.\n",
    "predicted_var = \"real_spread\"\n",
    "predictor_vars = \"lookback_spread\"\n",
    "intercept = True\n",
    "# Run OLS.\n",
    "coexplor.ols_regress(\n",
    "    test,\n",
    "    predicted_var,\n",
    "    predictor_vars,\n",
    "    intercept,\n",
    ")"
   ]
  },
  {
   "cell_type": "code",
   "execution_count": null,
   "id": "d7da15e7",
   "metadata": {},
   "outputs": [],
   "source": [
    "test[[\"real_spread\", \"lookback_spread\"]].plot(figsize=(15, 7))"
   ]
  }
 ],
 "metadata": {
  "kernelspec": {
   "display_name": "Python 3 (ipykernel)",
   "language": "python",
   "name": "python3"
  },
  "language_info": {
   "codemirror_mode": {
    "name": "ipython",
    "version": 3
   },
   "file_extension": ".py",
   "mimetype": "text/x-python",
   "name": "python",
   "nbconvert_exporter": "python",
   "pygments_lexer": "ipython3"
  },
  "toc": {
   "base_numbering": 1,
   "nav_menu": {},
   "number_sections": true,
   "sideBar": true,
   "skip_h1_title": false,
   "title_cell": "Table of Contents",
   "title_sidebar": "Contents",
   "toc_cell": false,
   "toc_position": {},
   "toc_section_display": true,
   "toc_window_display": false
  }
 },
 "nbformat": 4,
 "nbformat_minor": 5
}
