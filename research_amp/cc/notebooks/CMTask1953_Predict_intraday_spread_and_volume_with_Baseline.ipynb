{
 "cells": [
  {
   "cell_type": "markdown",
   "id": "54da1cc1",
   "metadata": {},
   "source": [
    "# Imports"
   ]
  },
  {
   "cell_type": "code",
   "execution_count": null,
   "id": "44249f9a",
   "metadata": {},
   "outputs": [],
   "source": [
    "%load_ext autoreload\n",
    "%autoreload 2\n",
    "\n",
    "import logging\n",
    "import os\n",
    "import warnings\n",
    "from datetime import timedelta\n",
    "\n",
    "import matplotlib.pyplot as plt\n",
    "import numpy as np\n",
    "import pandas as pd\n",
    "import sklearn.metrics as metrics\n",
    "from sklearn.linear_model import LinearRegression\n",
    "from sklearn.model_selection import GridSearchCV, TimeSeriesSplit, cross_val_score\n",
    "\n",
    "import core.config.config_ as cconconf\n",
    "import core.config.config_utils as ccocouti\n",
    "import core.explore as coexplor\n",
    "import core.features as cofeatur\n",
    "import core.finance.resampling as cfinresa\n",
    "import helpers.hdbg as hdbg\n",
    "import helpers.hpandas as hpandas\n",
    "import helpers.hprint as hprint\n",
    "import helpers.hs3 as hs3\n",
    "import im_v2.crypto_chassis.data.client.crypto_chassis_clients as imvccdcccc\n",
    "import research_amp.cc.crypto_chassis_api as raccchap\n",
    "import research_amp.transform as ramptran"
   ]
  },
  {
   "cell_type": "code",
   "execution_count": null,
   "id": "296c560f",
   "metadata": {},
   "outputs": [],
   "source": [
    "warnings.filterwarnings(\"ignore\")"
   ]
  },
  {
   "cell_type": "code",
   "execution_count": null,
   "id": "6153685d",
   "metadata": {},
   "outputs": [],
   "source": [
    "hdbg.init_logger(verbosity=logging.INFO)\n",
    "\n",
    "_LOG = logging.getLogger(__name__)\n",
    "\n",
    "hprint.config_notebook()"
   ]
  },
  {
   "cell_type": "markdown",
   "id": "03cde933",
   "metadata": {},
   "source": [
    "# Config"
   ]
  },
  {
   "cell_type": "code",
   "execution_count": null,
   "id": "542fec59",
   "metadata": {},
   "outputs": [],
   "source": [
    "def get_cmtask1953_config() -> cconconf.Config:\n",
    "    config = cconconf.Config()\n",
    "    param_dict = {\n",
    "        \"data\": {\n",
    "            # Parameters for client initialization.\n",
    "            # TODO(max): ohlcv_im_client\n",
    "            \"im_client\": {\n",
    "                \"universe_version\": \"v1\",\n",
    "                \"resample_1min\": True,\n",
    "                \"root_dir\": os.path.join(\n",
    "                    # hs3.get_s3_bucket_path(\"ck\"),\n",
    "                    \"s3://cryptokaizen-data\",\n",
    "                    \"reorg\",\n",
    "                    \"historical.manual.pq\",\n",
    "                ),\n",
    "                \"partition_mode\": \"by_year_month\",\n",
    "                \"data_snapshot\": \"latest\",\n",
    "                \"aws_profile\": \"ck\",\n",
    "            },\n",
    "            # TODO(max): bid_ask_im_client\n",
    "            # Parameters for data query.\n",
    "            \"read_data\": {\n",
    "                \"full_symbols\": [\"binance::BTC_USDT\"],\n",
    "                \"start_ts\": pd.Timestamp(\"2022-01-01 00:00\", tz=\"UTC\"),\n",
    "                \"end_ts\": pd.Timestamp(\"2022-03-31 23:59\", tz=\"UTC\"),\n",
    "                \"columns\": None,\n",
    "                \"filter_data_mode\": \"assert\",\n",
    "            },\n",
    "        },\n",
    "        \"analysis\": {\n",
    "            \"resampling_rule\": \"5T\",\n",
    "            \"target_value\": \"volume\",\n",
    "        },\n",
    "        \"model\": {\n",
    "            \"delay_lag\": 1,\n",
    "            \"num_lags\": 4,\n",
    "        },\n",
    "    }\n",
    "    config = cconfig.Config.from_dict(param_dict)\n",
    "    return config\n",
    "\n",
    "\n",
    "config = get_cmtask1953_config()\n",
    "print(config)"
   ]
  },
  {
   "cell_type": "markdown",
   "id": "74027f12",
   "metadata": {},
   "source": [
    "# Load the data"
   ]
  },
  {
   "cell_type": "markdown",
   "id": "49f1fd6d",
   "metadata": {},
   "source": [
    "## OHLCV"
   ]
  },
  {
   "cell_type": "code",
   "execution_count": null,
   "id": "fddd0618",
   "metadata": {},
   "outputs": [],
   "source": [
    "# Initiate the client.\n",
    "client = imvccdcccc.CryptoChassisHistoricalPqByTileClient(\n",
    "    **config[\"data\"][\"im_client\"]\n",
    ")\n",
    "# Load OHLCV data.\n",
    "# TODO(max): -> df_ohlcv\n",
    "btc_ohlcv = client.read_data(**config[\"data\"][\"read_data\"])\n",
    "# Post-processing.\n",
    "# TODO(max): load only a subset of the data from the config\n",
    "ohlcv_cols = [\n",
    "    # \"open\",\n",
    "    # \"high\",\n",
    "    # \"low\",\n",
    "    \"close\",\n",
    "    \"volume\",\n",
    "]\n",
    "btc_ohlcv = btc_ohlcv[ohlcv_cols]\n",
    "# Resample.\n",
    "# TODO(max): compute features on 1 min grid and then resample later\n",
    "btc_ohlcv = cfinresa.resample_ohlcv_bars(\n",
    "    btc_ohlcv, config[\"analysis\"][\"resampling_rule\"]\n",
    ")\n",
    "btc_ohlcv.head(3)"
   ]
  },
  {
   "cell_type": "markdown",
   "id": "70c0fa2b",
   "metadata": {},
   "source": [
    "## Bid ask data"
   ]
  },
  {
   "cell_type": "code",
   "execution_count": null,
   "id": "c51d8ea0",
   "metadata": {},
   "outputs": [],
   "source": [
    "start_date = config[\"data\"][\"read_data\"][\"start_ts\"]\n",
    "end_date = config[\"data\"][\"read_data\"][\"end_ts\"]\n",
    "\n",
    "# TODO(max): move also this part to sub-config ImClientBidAsk\n",
    "\n",
    "# Load bid ask from s3. Note: works only for 2022 for now.\n",
    "# TODO(Grisha, Dan): How to load the bid/ask data through ImClient?\n",
    "result = []\n",
    "import helpers.hparquet as hparque\n",
    "\n",
    "for i in range(start_date.month, end_date.month + 1):\n",
    "    print(i)\n",
    "    tmp_df = hparque.from_parquet(\n",
    "        f\"s3://cryptokaizen-data/reorg/historical.manual.pq/20220520/bid_ask/crypto_chassis/binance/currency_pair=BTC_USDT/year=2022/month={i}/data.parquet\",\n",
    "        aws_profile=\"ck\",\n",
    "    )\n",
    "    result.append(tmp_df)\n",
    "bid_ask_btc = pd.concat(result)\n",
    "bid_ask_btc = bid_ask_btc[:end_date]\n",
    "# Add `full_symbol` (necessary param for `calculate_bid_ask_statistics`).\n",
    "bid_ask_btc[\"full_symbol\"] = str(config[\"data\"][\"read_data\"][\"full_symbols\"])[\n",
    "    2:-2\n",
    "]\n",
    "# Choose only valid cols.\n",
    "bid_ask_btc = bid_ask_btc[\n",
    "    [\"bid_price\", \"bid_size\", \"ask_price\", \"ask_size\", \"full_symbol\"]\n",
    "]\n",
    "# Resample.\n",
    "bid_ask_btc = raccchap.resample_bid_ask(\n",
    "    bid_ask_btc, config[\"analysis\"][\"resampling_rule\"]\n",
    ")\n",
    "# Convert.\n",
    "for cols in bid_ask_btc.columns[:-1]:\n",
    "    bid_ask_btc[cols] = pd.to_numeric(bid_ask_btc[cols], downcast=\"float\")\n",
    "\n",
    "# Compute bid ask stats.\n",
    "bid_ask_btc = ramptran.calculate_bid_ask_statistics(bid_ask_btc)\n",
    "# Choose only necessary values.\n",
    "bid_ask_btc = bid_ask_btc.swaplevel(axis=1)[\"binance::BTC_USDT\"][\n",
    "    [\"bid_size\", \"ask_size\", \"bid_price\", \"ask_price\", \"mid\", \"quoted_spread\"]\n",
    "]\n",
    "\n",
    "bid_ask_btc.head(3)"
   ]
  },
  {
   "cell_type": "markdown",
   "id": "a3aad4de",
   "metadata": {},
   "source": [
    "## Combined"
   ]
  },
  {
   "cell_type": "code",
   "execution_count": null,
   "id": "73201765",
   "metadata": {},
   "outputs": [],
   "source": [
    "# OHLCV + bid ask\n",
    "btc = pd.concat([btc_ohlcv, bid_ask_btc], axis=1)\n",
    "btc.head(3)"
   ]
  },
  {
   "cell_type": "markdown",
   "id": "ace30295",
   "metadata": {},
   "source": [
    "# Create and test functions for each estimator"
   ]
  },
  {
   "cell_type": "markdown",
   "id": "9a2bd409",
   "metadata": {},
   "source": [
    "## Estimate intraday spread, volume"
   ]
  },
  {
   "cell_type": "code",
   "execution_count": null,
   "id": "335e291e",
   "metadata": {},
   "outputs": [],
   "source": [
    "def get_target_value(df: pd.DataFrame, timestamp: pd.Timestamp, column_name: str):\n",
    "    \"\"\"\n",
    "    :param df: data that contains spread and/or volume\n",
    "    :param timestamp: timestamp for prediciton\n",
    "    :param column_name: targeted estimation value (e.g., \"quoted_spread\", \"volume\")\n",
    "    :return: value of targeted spread or volume\n",
    "    \"\"\"\n",
    "    hpandas.dassert_monotonic_index(df.index)\n",
    "    if timestamp >= df.index.min() and timestamp <= df.index.max():\n",
    "        value = df[column_name].loc[timestamp]\n",
    "    else:\n",
    "        value = np.nan\n",
    "    return value"
   ]
  },
  {
   "cell_type": "code",
   "execution_count": null,
   "id": "e7784353",
   "metadata": {},
   "outputs": [],
   "source": [
    "date = pd.Timestamp(\"2022-01-01 00:00\", tz=\"UTC\")\n",
    "display(get_target_value(btc, date, \"quoted_spread\"))\n",
    "display(get_target_value(btc, date, \"volume\"))"
   ]
  },
  {
   "cell_type": "markdown",
   "id": "d57e0fe1",
   "metadata": {},
   "source": [
    "## Naive estimator"
   ]
  },
  {
   "cell_type": "markdown",
   "id": "0e0536d5",
   "metadata": {},
   "source": [
    "Value(t+2) = Value(t)"
   ]
  },
  {
   "cell_type": "code",
   "execution_count": null,
   "id": "59416f26",
   "metadata": {},
   "outputs": [],
   "source": [
    "# TODO(max): delete this guy, because we will use lags\n",
    "def get_naive_value(\n",
    "    df: pd.DataFrame,\n",
    "    timestamp: pd.Timestamp,\n",
    "    column_name: str,\n",
    "    delay_in_mins: int = 2,\n",
    ") -> float:\n",
    "    \"\"\"\n",
    "    Estimator for a given time is a `t - delay_in_mins` of a real value.\n",
    "\n",
    "    :param df: data that contains spread and/or volume\n",
    "    :param timestamp: timestamp for prediciton\n",
    "    :param column_name: targeted estimation value (e.g., \"quoted_spread\", \"volume\")\n",
    "    :param delay_in_mins: desired gap for target estimator, in mins\n",
    "    :return: value of predicted spread or volume\n",
    "    \"\"\"\n",
    "    # Check and define delay.\n",
    "    hdbg.dassert_lte(1, delay_in_mins)\n",
    "    delay_in_mins = timedelta(minutes=delay_in_mins)\n",
    "    # Get the value.\n",
    "    lookup_timestamp = timestamp - delay_in_mins\n",
    "    if lookup_timestamp >= df.index.min() and lookup_timestamp <= df.index.max():\n",
    "        value = get_target_value(df, lookup_timestamp, column_name)\n",
    "    else:\n",
    "        value = np.nan\n",
    "    return value"
   ]
  },
  {
   "cell_type": "code",
   "execution_count": null,
   "id": "94eec9c3",
   "metadata": {},
   "outputs": [],
   "source": [
    "date = pd.Timestamp(\"2022-01-01 10:00\", tz=\"UTC\")\n",
    "display(get_naive_value(btc, date, \"quoted_spread\", delay_in_mins=10))\n",
    "display(get_naive_value(btc, date, \"volume\", delay_in_mins=10))"
   ]
  },
  {
   "cell_type": "markdown",
   "id": "ee476ef0",
   "metadata": {},
   "source": [
    "## Look back N days"
   ]
  },
  {
   "cell_type": "markdown",
   "id": "85269e03",
   "metadata": {},
   "source": [
    "spread_lookback(t) = E_date[spread(t, date)]"
   ]
  },
  {
   "cell_type": "code",
   "execution_count": null,
   "id": "52366786",
   "metadata": {},
   "outputs": [],
   "source": [
    "# Add column with intraday time.\n",
    "btc[\"time\"] = btc.index.time"
   ]
  },
  {
   "cell_type": "code",
   "execution_count": null,
   "id": "6b46e4c7",
   "metadata": {},
   "outputs": [],
   "source": [
    "# TODO(max): -> get_average_intraday_value\n",
    "# TODO(max): This is a feature specific of volume, spread, and volatility (not useful for returns)\n",
    "def get_lookback_value(\n",
    "    df: pd.DataFrame,\n",
    "    timestamp: pd.Timestamp,\n",
    "    lookback_days: int,\n",
    "    column_name: str,\n",
    "    delay: int = 0,\n",
    "    mode: str = \"mean\",\n",
    ") -> float:\n",
    "    \"\"\"\n",
    "    1) Set the period that is equal `timestamp for prediciton` - N days (lookback_days).\n",
    "    2) For that period, calculate mean (or median) value for spread in time during days.\n",
    "    3) Choose this mean value as an estimation for spread in the given timestamp.\n",
    "\n",
    "    :param df: data that contains spread\n",
    "    :param timestamp: timestamp for prediciton\n",
    "    :param lookback_days: historical period for estimation, in days\n",
    "    :param column_name: targeted estimation value (e.g., \"quoted_spread\", \"volume\")\n",
    "    :param delay: how many minutes to substract from the lookback starting period\n",
    "    :param mode: 'mean' or 'median'\n",
    "    :return: value of predicted spread\n",
    "    \"\"\"\n",
    "    # Choose sample data using lookback period (with a delay).\n",
    "    start_date = timestamp - timedelta(days=lookback_days, minutes=delay)\n",
    "    if start_date >= df.index.min() and start_date <= df.index.max():\n",
    "        sample = df.loc[start_date:timestamp]\n",
    "        # Look for the reference value for the period.\n",
    "        time_grouper = sample.groupby(\"time\")\n",
    "        if mode == \"mean\":\n",
    "            grouped = time_grouper[column_name].mean().to_frame()\n",
    "        else:\n",
    "            grouped = time_grouper[column_name].median().to_frame()\n",
    "        # Choose the lookback spread for a given time.\n",
    "        value = get_target_value(grouped, timestamp.time(), column_name)\n",
    "    else:\n",
    "        value = np.nan\n",
    "    return value"
   ]
  },
  {
   "cell_type": "code",
   "execution_count": null,
   "id": "a5c08371",
   "metadata": {
    "lines_to_next_cell": 2
   },
   "outputs": [],
   "source": [
    "date = pd.Timestamp(\"2022-01-21 19:00\", tz=\"UTC\")\n",
    "display(get_lookback_value(btc, date, 14, \"quoted_spread\"))\n",
    "display(get_lookback_value(btc, date, 14, \"volume\"))"
   ]
  },
  {
   "cell_type": "markdown",
   "id": "61d6e6de",
   "metadata": {},
   "source": [
    "# Collect all estimators for the whole period"
   ]
  },
  {
   "cell_type": "code",
   "execution_count": null,
   "id": "645e56f2",
   "metadata": {},
   "outputs": [],
   "source": [
    "# This is building the ml_df\n",
    "# the predicted var is always y\n",
    "# compute lags\n",
    "# add the median feature\n",
    "\n",
    "\n",
    "def collect_real_naive_lookback_est(\n",
    "    estimators_df: pd.DataFrame,\n",
    "    original_df,\n",
    "    target: str,\n",
    "    est_type: str,\n",
    "    delay_in_mins: int = 2,\n",
    "    lookback: int = 14,\n",
    ") -> pd.DataFrame:\n",
    "    \"\"\"\n",
    "    :param target: e.g., \"spread\" or \"volume\"\n",
    "    :param est_type: e.g., \"real\", \"naive\" or \"lookback\"\n",
    "    \"\"\"\n",
    "    estimators_df[f\"{est_type}_{target}\"] = estimators_df.index\n",
    "    # Add the values of a real value.\n",
    "    if est_type == \"real\":\n",
    "        estimators_df[f\"{est_type}_{target}_0\"] = estimators_df[\n",
    "            f\"{est_type}_{target}\"\n",
    "        ].apply(lambda x: get_target_value(original_df, x, target))\n",
    "        estimators_df = estimators_df.drop(columns=[f\"{est_type}_{target}\"])\n",
    "    # Add the values of naive estimator.\n",
    "    elif est_type == \"naive\":\n",
    "        estimators_df[f\"{est_type}_{target}\"] = estimators_df[\n",
    "            f\"{est_type}_{target}\"\n",
    "        ].apply(lambda x: get_naive_value(original_df, x, target, delay_in_mins))\n",
    "    # Add the values of lookback estimator.\n",
    "    else:\n",
    "        estimators_df[f\"{est_type}_{target}\"] = estimators_df[\n",
    "            f\"{est_type}_{target}\"\n",
    "        ].apply(lambda x: get_lookback_value(original_df, x, lookback, target))\n",
    "    return estimators_df"
   ]
  },
  {
   "cell_type": "code",
   "execution_count": null,
   "id": "f472ae78",
   "metadata": {},
   "outputs": [],
   "source": [
    "# Generate the separate DataFrame for estimators.\n",
    "estimators = pd.DataFrame(index=btc.index[1:])\n",
    "# Choose the target value.\n",
    "target = config[\"analysis\"][\"target_value\"]\n",
    "delay_in_mins = int(config[\"analysis\"][\"resampling_rule\"][0]) * 2\n",
    "\n",
    "estimators = collect_real_naive_lookback_est(estimators, btc, target, \"real\")\n",
    "estimators = collect_real_naive_lookback_est(\n",
    "    estimators, btc, target, \"naive\", delay_in_mins\n",
    ")\n",
    "estimators = collect_real_naive_lookback_est(estimators, btc, target, \"lookback\")\n",
    "estimators"
   ]
  },
  {
   "cell_type": "markdown",
   "id": "6fabd6db",
   "metadata": {},
   "source": [
    "# Evaluate results"
   ]
  },
  {
   "cell_type": "code",
   "execution_count": null,
   "id": "e4a2a6f5",
   "metadata": {},
   "outputs": [],
   "source": [
    "def get_mean_error(\n",
    "    df: pd.DataFrame,\n",
    "    column_name_actual: str,\n",
    "    column_name_estimator: str,\n",
    "    num_std: int = 1,\n",
    "    print_results: bool = True,\n",
    ") -> pd.Series:\n",
    "    \"\"\"\n",
    "    - Calculate the error of difference between real and estimated values.\n",
    "    - Show the mean and +/- num_std*standard_deviation levels.\n",
    "\n",
    "    :param df: data with real values and estimators\n",
    "    :param column_name_actual: e.g., \"spread\", \"volume\")\n",
    "    :param column_name_estimator: estimator (e.g., \"naive_spread\", \"lookback_spread\")\n",
    "    :param num_std: number of standard deviations from mean\n",
    "    :param print_results: whether or not print results\n",
    "    :return: errors for each data point\n",
    "    \"\"\"\n",
    "    err = (\n",
    "        abs(df[column_name_actual] - df[column_name_estimator])\n",
    "        / df[column_name_actual]\n",
    "    )\n",
    "    err_mean = err.mean()\n",
    "    err_std = err.std()\n",
    "    if print_results:\n",
    "        print(\n",
    "            f\"Mean error + {num_std} std = {err_mean+num_std*err_std} \\\n",
    "              \\nMean error = {err_mean}\\\n",
    "              \\nMean error - {num_std} std = {err_mean-num_std*err_std}\"\n",
    "        )\n",
    "    return err"
   ]
  },
  {
   "cell_type": "code",
   "execution_count": null,
   "id": "78e2f308",
   "metadata": {},
   "outputs": [],
   "source": [
    "# Choose the period that is equally filled by both estimators.\n",
    "test = estimators[estimators[f\"lookback_{target}\"].notna()]\n",
    "test.head(3)"
   ]
  },
  {
   "cell_type": "markdown",
   "id": "1d271e87",
   "metadata": {},
   "source": [
    "## Naive estimator"
   ]
  },
  {
   "cell_type": "code",
   "execution_count": null,
   "id": "f97ef424",
   "metadata": {},
   "outputs": [],
   "source": [
    "# TODO(max): Remove this since it's just testing each predictor by itself in the new framework"
   ]
  },
  {
   "cell_type": "code",
   "execution_count": null,
   "id": "22f8db41",
   "metadata": {},
   "outputs": [],
   "source": [
    "# # Mean error and upper/lower level of errors' standard deviation.\n",
    "# column_name_actual = f\"real_{target}_0\"\n",
    "# column_name_estimator = f\"naive_{target}\"\n",
    "# naive_err = get_mean_error(test, column_name_actual, column_name_estimator)"
   ]
  },
  {
   "cell_type": "code",
   "execution_count": null,
   "id": "48ae9f7a",
   "metadata": {
    "run_control": {
     "marked": false
    }
   },
   "outputs": [],
   "source": [
    "# # Regress (OLS) between `real_spread` and `naive_spread`.\n",
    "# predicted_var = f\"real_{target}_0\"\n",
    "# predictor_vars = f\"naive_{target}\"\n",
    "# intercept = True\n",
    "# # Run OLS.\n",
    "# coexplor.ols_regress(\n",
    "#     test,\n",
    "#     predicted_var,\n",
    "#     predictor_vars,\n",
    "#     intercept,\n",
    "# )"
   ]
  },
  {
   "cell_type": "code",
   "execution_count": null,
   "id": "6f4c279b",
   "metadata": {},
   "outputs": [],
   "source": [
    "# test[[f\"real_{target}_0\", f\"naive_{target}\"]].plot(figsize=(15, 7))"
   ]
  },
  {
   "cell_type": "markdown",
   "id": "df698048",
   "metadata": {},
   "source": [
    "## Lookback estimator"
   ]
  },
  {
   "cell_type": "code",
   "execution_count": null,
   "id": "ce817220",
   "metadata": {},
   "outputs": [],
   "source": [
    "# # Mean error and upper/lower level of errors' standard deviation.\n",
    "# column_name_actual = f\"real_{target}_0\"\n",
    "# column_name_estimator = f\"lookback_{target}\"\n",
    "# lookback_err = get_mean_error(test, column_name_actual, column_name_estimator)"
   ]
  },
  {
   "cell_type": "code",
   "execution_count": null,
   "id": "16e802f8",
   "metadata": {},
   "outputs": [],
   "source": [
    "# # Regress (OLS) between `real_spread` and `lookback_spread`.\n",
    "# predicted_var = f\"real_{target}_0\"\n",
    "# predictor_vars = f\"lookback_{target}\"\n",
    "# intercept = True\n",
    "# # Run OLS.\n",
    "# coexplor.ols_regress(\n",
    "#     test,\n",
    "#     predicted_var,\n",
    "#     predictor_vars,\n",
    "#     intercept,\n",
    "# )"
   ]
  },
  {
   "cell_type": "code",
   "execution_count": null,
   "id": "d7da15e7",
   "metadata": {},
   "outputs": [],
   "source": [
    "# test[[f\"real_{target}_0\", f\"lookback_{target}\"]].plot(figsize=(15, 7))"
   ]
  },
  {
   "cell_type": "markdown",
   "id": "d005654f",
   "metadata": {},
   "source": [
    "# Predict via sklearn"
   ]
  },
  {
   "cell_type": "markdown",
   "id": "e8953538",
   "metadata": {},
   "source": [
    "## Functions"
   ]
  },
  {
   "cell_type": "code",
   "execution_count": null,
   "id": "fd42e93f",
   "metadata": {},
   "outputs": [],
   "source": [
    "def regression_results(y_true, y_pred, mae_only: bool = True):\n",
    "    # Regression metrics\n",
    "    mean_absolute_error = metrics.mean_absolute_error(y_true, y_pred)\n",
    "    print(\"MAE: \", round(mean_absolute_error, 4))\n",
    "    if not mae_only:\n",
    "        explained_variance = metrics.explained_variance_score(y_true, y_pred)\n",
    "        mse = metrics.mean_squared_error(y_true, y_pred)\n",
    "        mean_squared_log_error = metrics.mean_squared_log_error(y_true, y_pred)\n",
    "        metrics.median_absolute_error(y_true, y_pred)\n",
    "        r2 = metrics.r2_score(y_true, y_pred)\n",
    "        print(\"mean_squared_log_error: \", round(mean_squared_log_error, 4))\n",
    "        print(\"explained_variance: \", round(explained_variance, 4))\n",
    "        print(\"r2: \", round(r2, 4))\n",
    "        print(\"MAE: \", round(mean_absolute_error, 4))\n",
    "        print(\"MSE: \", round(mse, 4))\n",
    "        print(\"RMSE: \", round(np.sqrt(mse), 4))"
   ]
  },
  {
   "cell_type": "markdown",
   "id": "a2f0d3fc",
   "metadata": {},
   "source": [
    "## Defining training and test sets"
   ]
  },
  {
   "cell_type": "code",
   "execution_count": null,
   "id": "fd9b3f3b",
   "metadata": {},
   "outputs": [],
   "source": [
    "# TODO(max): test_sk -> ml_df"
   ]
  },
  {
   "cell_type": "code",
   "execution_count": null,
   "id": "1a3b847e",
   "metadata": {},
   "outputs": [],
   "source": [
    "# Drop NaNs.\n",
    "test_sk = hpandas.dropna(test)\n",
    "# Get rid of days with only one observations (first and last rows).\n",
    "test_sk = test_sk.iloc[:-1]\n",
    "# Add more lags as features\n",
    "delay_lag = config[\"model\"][\"delay_lag\"]\n",
    "num_lags = config[\"model\"][\"num_lags\"]\n",
    "test_sk, info = cofeatur.compute_lagged_features(\n",
    "    test_sk, f\"real_{target}_0\", delay_lag=delay_lag, num_lags=num_lags\n",
    ")\n",
    "# Hardcoded solution: omit \"naive\" estimator in favor of new lag estimators.\n",
    "test_sk = test_sk.drop(columns=[f\"naive_{target}\"])\n",
    "print(info)\n",
    "# Display the results.\n",
    "# display(test_sk.corr())\n",
    "display(test_sk.shape)\n",
    "display(test_sk.tail(3))\n",
    "print(f\"Set of prediciton features = {list(test_sk.columns[1:])}\")"
   ]
  },
  {
   "cell_type": "markdown",
   "id": "eb3c7887",
   "metadata": {},
   "source": [
    "## Train / test data separation"
   ]
  },
  {
   "cell_type": "code",
   "execution_count": null,
   "id": "60a04074",
   "metadata": {},
   "outputs": [],
   "source": [
    "# TODO(max): Use time series splits vs train/test\n",
    "start_test = test_sk.index[0].date()\n",
    "end_test = test_sk.index[-1].date()\n",
    "\n",
    "# Training dataset.\n",
    "X_train = test_sk.loc[start_test:\"2022-03-24\"].drop([f\"real_{target}_0\"], axis=1)\n",
    "y_train = test_sk.loc[start_test:\"2022-03-24\", f\"real_{target}_0\"]\n",
    "\n",
    "# Testing dataset.\n",
    "X_test = test_sk.loc[\"2022-03-25\":end_test].drop([f\"real_{target}_0\"], axis=1)\n",
    "y_test = test_sk.loc[\"2022-03-25\":end_test, f\"real_{target}_0\"]"
   ]
  },
  {
   "cell_type": "code",
   "execution_count": null,
   "id": "5e24d6a9",
   "metadata": {},
   "outputs": [],
   "source": [
    "n_splits = (X_train.index.max() - X_train.index.min()).days + 1\n",
    "print(n_splits)"
   ]
  },
  {
   "cell_type": "markdown",
   "id": "1e5c7bd6",
   "metadata": {},
   "source": [
    "## Models Evaluation"
   ]
  },
  {
   "cell_type": "code",
   "execution_count": null,
   "id": "51b1c6bd",
   "metadata": {},
   "outputs": [],
   "source": [
    "# Create a set of various estimation modes.\n",
    "models = []\n",
    "models.append((\"LR\", LinearRegression()))\n",
    "# models.append((\"NN\", MLPRegressor(solver=\"lbfgs\")))  # neural network\n",
    "# models.append((\"KNN\", KNeighborsRegressor()))\n",
    "# models.append(\n",
    "#    (\"RF\", RandomForestRegressor(n_estimators=10))\n",
    "# )  # Ensemble method - collection of many decision trees\n",
    "# models.append((\"SVR\", SVR(gamma=\"auto\")))  # kernel = linear\n",
    "models"
   ]
  },
  {
   "cell_type": "code",
   "execution_count": null,
   "id": "783f84fa",
   "metadata": {},
   "outputs": [],
   "source": [
    "# Evaluate each model in turn\n",
    "results = []\n",
    "names = []\n",
    "results_stats = pd.DataFrame()\n",
    "for name, model in models:\n",
    "    # TimeSeries Cross validation\n",
    "    tscv = TimeSeriesSplit(n_splits=n_splits)\n",
    "\n",
    "    cv_results = cross_val_score(model, X_train, y_train, cv=tscv, scoring=\"r2\")\n",
    "    results.append(cv_results)\n",
    "    names.append(name)\n",
    "    print(\"%s: %f (%f)\" % (name, cv_results.mean(), cv_results.std()))\n",
    "\n",
    "    results_stats.loc[name, \"mean_perf\"] = cv_results.mean()\n",
    "    results_stats.loc[name, \"std_dev_perf\"] = cv_results.std()\n",
    "\n",
    "display(results_stats.sort_values(\"mean_perf\", ascending=False))"
   ]
  },
  {
   "cell_type": "code",
   "execution_count": null,
   "id": "527b5e5c",
   "metadata": {},
   "outputs": [],
   "source": [
    "# Compare Algorithms\n",
    "plt.boxplot(results, labels=names)\n",
    "plt.title(\"Algorithm Comparison\")\n",
    "plt.show()"
   ]
  },
  {
   "cell_type": "markdown",
   "id": "61fb5ac3",
   "metadata": {},
   "source": [
    "### Grid Searching Hyperparameters (LinearRegression)"
   ]
  },
  {
   "cell_type": "code",
   "execution_count": null,
   "id": "43a99c2d",
   "metadata": {
    "run_control": {
     "marked": false
    }
   },
   "outputs": [],
   "source": [
    "# Model param variations.\n",
    "model = LinearRegression()\n",
    "param_search = {\n",
    "    \"fit_intercept\": [True, False],\n",
    "    \"normalize\": [True, False],\n",
    "    \"n_jobs\": [1, 20, 50],\n",
    "    \"positive\": [True, False],\n",
    "}\n",
    "tscv = TimeSeriesSplit(n_splits=n_splits)\n",
    "# If scoring = None, the estimator's score method is used.\n",
    "\n",
    "# Run the model with different param variations.\n",
    "gsearch = GridSearchCV(\n",
    "    estimator=model,\n",
    "    cv=tscv,\n",
    "    param_grid=param_search,\n",
    ")\n",
    "gsearch.fit(X_train, y_train)"
   ]
  },
  {
   "cell_type": "code",
   "execution_count": null,
   "id": "d9703717",
   "metadata": {},
   "outputs": [],
   "source": [
    "# Results of the best param fit.\n",
    "best_score = gsearch.best_score_\n",
    "best_model = gsearch.best_estimator_\n",
    "display(best_score)\n",
    "display(best_model)"
   ]
  },
  {
   "cell_type": "markdown",
   "id": "221049b0",
   "metadata": {},
   "source": [
    "#### Evaluate results using testing sample"
   ]
  },
  {
   "cell_type": "code",
   "execution_count": null,
   "id": "9367f397",
   "metadata": {},
   "outputs": [],
   "source": [
    "# Estimate testing results.\n",
    "y_true = y_test.values\n",
    "y_pred = best_model.predict(X_test)\n",
    "regression_results(y_true, y_pred)"
   ]
  },
  {
   "cell_type": "code",
   "execution_count": null,
   "id": "5868bf98",
   "metadata": {},
   "outputs": [],
   "source": [
    "# Check coefficients.\n",
    "coef = pd.DataFrame(\n",
    "    {\"coef_value\": best_model.coef_}, index=best_model.feature_names_in_\n",
    ")\n",
    "coef = coef.sort_values(by=\"coef_value\", ascending=False)\n",
    "coef"
   ]
  },
  {
   "cell_type": "code",
   "execution_count": null,
   "id": "67de5b2d",
   "metadata": {},
   "outputs": [],
   "source": [
    "# Plot the results of predicting on testing sample.\n",
    "lr_test = pd.concat([pd.Series(y_true), pd.Series(y_pred)], axis=1)\n",
    "lr_test.columns = [\"true\", \"predicted\"]\n",
    "lr_test.index = y_test.index\n",
    "lr_test.plot(figsize=(15, 7))"
   ]
  },
  {
   "cell_type": "code",
   "execution_count": null,
   "id": "2b0619a0",
   "metadata": {},
   "outputs": [],
   "source": [
    "# Plot the difference between true and predicted values.\n",
    "lr_test[\"diff\"] = lr_test[\"true\"] - lr_test[\"predicted\"]\n",
    "lr_test[\"diff\"].plot(figsize=(15, 7))"
   ]
  }
 ],
 "metadata": {
  "kernelspec": {
   "display_name": "Python 3 (ipykernel)",
   "language": "python",
   "name": "python3"
  },
  "language_info": {
   "codemirror_mode": {
    "name": "ipython",
    "version": 3
   },
   "file_extension": ".py",
   "mimetype": "text/x-python",
   "name": "python",
   "nbconvert_exporter": "python",
   "pygments_lexer": "ipython3"
  },
  "toc": {
   "base_numbering": 1,
   "nav_menu": {},
   "number_sections": true,
   "sideBar": true,
   "skip_h1_title": false,
   "title_cell": "Table of Contents",
   "title_sidebar": "Contents",
   "toc_cell": false,
   "toc_position": {},
   "toc_section_display": true,
   "toc_window_display": true
  }
 },
 "nbformat": 4,
 "nbformat_minor": 5
}
