{
 "cells": [
  {
   "cell_type": "markdown",
   "id": "58d76abe",
   "metadata": {},
   "source": [
    "# Imports"
   ]
  },
  {
   "cell_type": "code",
   "execution_count": null,
   "id": "90d2298b",
   "metadata": {
    "run_control": {
     "marked": false
    }
   },
   "outputs": [],
   "source": [
    "import json\n",
    "import logging\n",
    "import os\n",
    "from datetime import timedelta\n",
    "\n",
    "import pandas as pd\n",
    "import requests\n",
    "\n",
    "import helpers.hdatetime as hdateti\n",
    "import helpers.hdbg as hdbg\n",
    "import helpers.hpandas as hpandas\n",
    "import helpers.hparquet as hparque\n",
    "import helpers.hprint as hprint\n",
    "import im_v2.ccxt.data.client as icdcl\n",
    "import im_v2.ccxt.data.extract.exchange_class as imvcdeexcl"
   ]
  },
  {
   "cell_type": "code",
   "execution_count": null,
   "id": "feb220a4",
   "metadata": {},
   "outputs": [],
   "source": [
    "hdbg.init_logger(verbosity=logging.INFO)\n",
    "\n",
    "_LOG = logging.getLogger(__name__)\n",
    "\n",
    "hprint.config_notebook()"
   ]
  },
  {
   "cell_type": "markdown",
   "id": "484e253a",
   "metadata": {},
   "source": [
    "## CCXT Historical Client"
   ]
  },
  {
   "cell_type": "code",
   "execution_count": null,
   "id": "0ce8e4bf",
   "metadata": {},
   "outputs": [],
   "source": [
    "# Specify params.\n",
    "universe_version = \"v3\"\n",
    "resample_1min = True\n",
    "root_dir = os.path.join(\"s3://cryptokaizen-data\", \"historical\")\n",
    "partition_mode = \"by_year_month\"\n",
    "data_snapshot = \"latest\"\n",
    "aws_profile = \"ck\"\n",
    "\n",
    "# Initiate the client.\n",
    "historical_client = icdcl.CcxtHistoricalPqByTileClient(\n",
    "    universe_version,\n",
    "    resample_1min,\n",
    "    root_dir,\n",
    "    partition_mode,\n",
    "    data_snapshot=data_snapshot,\n",
    "    aws_profile=aws_profile,\n",
    ")"
   ]
  },
  {
   "cell_type": "markdown",
   "id": "42a6f74b",
   "metadata": {},
   "source": [
    "## Crypto-chassis Historical"
   ]
  },
  {
   "cell_type": "code",
   "execution_count": null,
   "id": "52c29bd8",
   "metadata": {},
   "outputs": [],
   "source": [
    "def load_crypto_chassis_ohlcv(exhange_id, currency_pair):\n",
    "    r = requests.get(\n",
    "        f\"https://api.cryptochassis.com/v1/ohlc/{exhange_id}/{currency_pair}?startTime=0\"\n",
    "    )\n",
    "    df = pd.read_csv(r.json()[\"historical\"][\"urls\"][0][\"url\"], compression=\"gzip\")\n",
    "    df[\"time_seconds\"] = df[\"time_seconds\"].apply(\n",
    "        lambda x: hdateti.convert_unix_epoch_to_timestamp(x, unit=\"s\")\n",
    "    )\n",
    "    df = df.set_index(\"time_seconds\")\n",
    "    return df"
   ]
  },
  {
   "cell_type": "markdown",
   "id": "fbc44923",
   "metadata": {},
   "source": [
    "# `Kucoin` case"
   ]
  },
  {
   "cell_type": "markdown",
   "id": "e7209567",
   "metadata": {},
   "source": [
    "## Example that the data is available in other sources"
   ]
  },
  {
   "cell_type": "markdown",
   "id": "11878a30",
   "metadata": {},
   "source": [
    "### `full_symbol` = kucoin::ADA_USDT"
   ]
  },
  {
   "cell_type": "markdown",
   "id": "ceb66978",
   "metadata": {},
   "source": [
    "#### Load the data"
   ]
  },
  {
   "cell_type": "code",
   "execution_count": null,
   "id": "016453b0",
   "metadata": {},
   "outputs": [],
   "source": [
    "# Load historical data from CCXT.\n",
    "full_symbols = [\"kucoin::ADA_USDT\"]\n",
    "start_date = None\n",
    "end_date = None\n",
    "ada_kucoin_ccxt = historical_client.read_data(\n",
    "    full_symbols, start_date, end_date, columns=None\n",
    ")\n",
    "# Load historical data from crypto-chassis.\n",
    "ada_kucoin_ch = load_crypto_chassis_ohlcv(\"kucoin\", \"ada-usdt\")"
   ]
  },
  {
   "cell_type": "markdown",
   "id": "f57067b6",
   "metadata": {},
   "source": [
    "#### Take a specific period of time - [2022-02-09 00:00, 2022-02-09 13:33]"
   ]
  },
  {
   "cell_type": "code",
   "execution_count": null,
   "id": "4089c06c",
   "metadata": {},
   "outputs": [],
   "source": [
    "ccxt_ada_nans = ada_kucoin_ccxt.loc[\n",
    "    (ada_kucoin_ccxt.index > \"2022-02-09 00:00:00+00:00\")\n",
    "    & (ada_kucoin_ccxt.index < \"2022-02-09 13:33:00+00:00\")\n",
    "]\n",
    "chassis_ada = ada_kucoin_ch.loc[\n",
    "    (ada_kucoin_ch.index > \"2022-02-09 00:00:00+00:00\")\n",
    "    & (ada_kucoin_ch.index < \"2022-02-09 13:33:00+00:00\")\n",
    "]\n",
    "# Check that the lenght is identical.\n",
    "print(\n",
    "    f\"Both datasets have the same length: {len(ccxt_ada_nans)==len(chassis_ada)}\"\n",
    ")"
   ]
  },
  {
   "cell_type": "markdown",
   "id": "85df2c5b",
   "metadata": {},
   "source": [
    "#### Data snapshot"
   ]
  },
  {
   "cell_type": "code",
   "execution_count": null,
   "id": "ce1bf8f5",
   "metadata": {},
   "outputs": [],
   "source": [
    "print(\"Period of NaNs in CCXT:\")\n",
    "display(ccxt_ada_nans)\n",
    "print(\"Complete data in chassis:\")\n",
    "display(chassis_ada)"
   ]
  },
  {
   "cell_type": "code",
   "execution_count": null,
   "id": "6957ee4a",
   "metadata": {},
   "outputs": [],
   "source": [
    "print(\n",
    "    f\"Percentage of NaNs in CCXT data for the period: {len(ccxt_ada_nans[ccxt_ada_nans.open.isna()])*100/len(ccxt_ada_nans)}\"\n",
    ")\n",
    "print(\n",
    "    f\"Percentage of NaNs in crypto-chassis data for the period: {len(chassis_ada[chassis_ada.open.isna()])*100/len(chassis_ada)}\"\n",
    ")"
   ]
  },
  {
   "cell_type": "markdown",
   "id": "7c11f8f5",
   "metadata": {},
   "source": [
    "### `full_symbol` = kucoin::BTC_USDT"
   ]
  },
  {
   "cell_type": "markdown",
   "id": "ce1f12c4",
   "metadata": {},
   "source": [
    "This full symbol has the highest coverage according to https://github.com/cryptokaizen/cmamp/issues/1750#issuecomment-1106866542"
   ]
  },
  {
   "cell_type": "markdown",
   "id": "eaae7100",
   "metadata": {},
   "source": [
    "#### Load the data"
   ]
  },
  {
   "cell_type": "code",
   "execution_count": null,
   "id": "1afb818b",
   "metadata": {},
   "outputs": [],
   "source": [
    "# Load historical data from CCXT.\n",
    "full_symbols = [\"kucoin::BTC_USDT\"]\n",
    "start_date = None\n",
    "end_date = None\n",
    "btc_kucoin_ccxt = historical_client.read_data(full_symbols, start_date, end_date)\n",
    "# Load historical data from crypto-chassis.\n",
    "btc_kucoin_ch = load_crypto_chassis_ohlcv(\"kucoin\", \"btc-usdt\")"
   ]
  },
  {
   "cell_type": "markdown",
   "id": "2a5f71b1",
   "metadata": {},
   "source": [
    "#### Take a specific period of time - a year 2021"
   ]
  },
  {
   "cell_type": "code",
   "execution_count": null,
   "id": "b64b32fa",
   "metadata": {},
   "outputs": [],
   "source": [
    "ccxt_btc = btc_kucoin_ccxt.loc[\n",
    "    (btc_kucoin_ccxt.index > \"2021-08-07\")\n",
    "    & (btc_kucoin_ccxt.index < \"2021-12-31\")\n",
    "]\n",
    "chassis_btc = btc_kucoin_ch.loc[\n",
    "    (btc_kucoin_ch.index > \"2021-08-07\") & (btc_kucoin_ch.index < \"2021-12-31\")\n",
    "]"
   ]
  },
  {
   "cell_type": "code",
   "execution_count": null,
   "id": "4ff554eb",
   "metadata": {},
   "outputs": [],
   "source": [
    "# From crypto-chassis docs:\n",
    "# If there is a gap in \"time_seconds\", it means that\n",
    "# the market depth snapshot at that moment is the same as the previous moment.\n",
    "# It means that NaNs there are 'gaps' between timestamps.\n",
    "chassis_btc[\"timestamp_diff\"] = chassis_btc.index.to_series().diff()\n",
    "# Exclude 1min gaps (means no NaNs) and calculate the num of mins in gaps (equals to num of NaNs).\n",
    "chassis_btc[chassis_btc[\"timestamp_diff\"] != \"0 days 00:01:00\"]\n",
    "# Calculate the total rows with NaNs.\n",
    "num_of_nans_chassis = chassis_btc[\"timestamp_diff\"].sum() / timedelta(minutes=1)"
   ]
  },
  {
   "cell_type": "code",
   "execution_count": null,
   "id": "70e0a34e",
   "metadata": {},
   "outputs": [],
   "source": [
    "print(\n",
    "    f\"NaNs percentage in CCXT for `kucoin::BTC_USDT` for 2021: {100*len(ccxt_btc[ccxt_btc.open.isna()])/len(ccxt_btc)}\"\n",
    ")\n",
    "print(\n",
    "    f\"NaNs percentage in crypto-chassis for `kucoin::BTC_USDT` for 2021: {100*num_of_nans_chassis/(len(chassis_btc)+num_of_nans_chassis)}\"\n",
    ")"
   ]
  },
  {
   "cell_type": "markdown",
   "id": "c96c9f15",
   "metadata": {},
   "source": [
    "#### Take a specific period of time - [2022-01-15 12:00, 2022-01-15 21:00]"
   ]
  },
  {
   "cell_type": "code",
   "execution_count": null,
   "id": "b56b33b6",
   "metadata": {},
   "outputs": [],
   "source": [
    "ccxt_btc2022 = btc_kucoin_ccxt.loc[\n",
    "    (btc_kucoin_ccxt.index > \"2022-01-15 12:00:00\")\n",
    "    & (btc_kucoin_ccxt.index < \"2022-01-15 21:00:00\")\n",
    "]\n",
    "chassis_btc2022 = btc_kucoin_ch.loc[\n",
    "    (btc_kucoin_ch.index > \"2022-01-15 12:00:00\")\n",
    "    & (btc_kucoin_ch.index < \"2022-01-15 21:00:00\")\n",
    "]\n",
    "print(\n",
    "    f\"Both datasets have the same length: {len(ccxt_btc2022)==len(chassis_btc2022)}\"\n",
    ")"
   ]
  },
  {
   "cell_type": "code",
   "execution_count": null,
   "id": "37454a9e",
   "metadata": {},
   "outputs": [],
   "source": [
    "print(\"Period of NaNs in CCXT:\")\n",
    "display(ccxt_btc2022)\n",
    "print(\"Complete data in chassis:\")\n",
    "display(chassis_btc2022)"
   ]
  },
  {
   "cell_type": "markdown",
   "id": "4a8cfbac",
   "metadata": {},
   "source": [
    "### Summary"
   ]
  },
  {
   "cell_type": "markdown",
   "id": "cf293bd8",
   "metadata": {},
   "source": [
    "From what we can see in comparison with other data vendors, __the problem of data coverage has little to do with the initial data provider__ (i.e., `kucoin`), since the NaN data in `CCXT` is available in other providers (`crypto-chassis`)"
   ]
  },
  {
   "cell_type": "markdown",
   "id": "36e627f4",
   "metadata": {},
   "source": [
    "## Look at S3"
   ]
  },
  {
   "cell_type": "code",
   "execution_count": null,
   "id": "9dc12b55",
   "metadata": {},
   "outputs": [],
   "source": [
    "# Take the previously spotted NaN sequence.\n",
    "ccxt_ada_nans = ada_kucoin_ccxt.loc[\n",
    "    (ada_kucoin_ccxt.index > \"2022-02-01 00:00:00+00:00\")\n",
    "    & (ada_kucoin_ccxt.index < \"2022-02-09 13:33:00+00:00\")\n",
    "]\n",
    "ccxt_ada_nans"
   ]
  },
  {
   "cell_type": "code",
   "execution_count": null,
   "id": "4b474b92",
   "metadata": {},
   "outputs": [],
   "source": [
    "print(\n",
    "    f\"Percentage of NaN data: {100*len(ccxt_ada_nans[ccxt_ada_nans.open.isna()])/len(ccxt_ada_nans)}\"\n",
    ")"
   ]
  },
  {
   "attachments": {
    "%D0%A1%D0%BD%D0%B8%D0%BC%D0%BE%D0%BA%20%D1%8D%D0%BA%D1%80%D0%B0%D0%BD%D0%B0%202022-04-26%20%D0%B2%2019.14.16.png": {
     "image/png": "[encoded data removed]"
    }
   },
   "cell_type": "markdown",
   "id": "f392f48c",
   "metadata": {},
   "source": [
    "S3 has the only file in the February for `kucoin::ADA_USDT`:\n",
    "\n",
    "![%D0%A1%D0%BD%D0%B8%D0%BC%D0%BE%D0%BA%20%D1%8D%D0%BA%D1%80%D0%B0%D0%BD%D0%B0%202022-04-26%20%D0%B2%2019.14.16.png](attachment:%D0%A1%D0%BD%D0%B8%D0%BC%D0%BE%D0%BA%20%D1%8D%D0%BA%D1%80%D0%B0%D0%BD%D0%B0%202022-04-26%20%D0%B2%2019.14.16.png)"
   ]
  },
  {
   "cell_type": "code",
   "execution_count": null,
   "id": "8d311bdf",
   "metadata": {},
   "outputs": [],
   "source": [
    "file_path = \"s3://cryptokaizen-data/historical/ccxt/latest/kucoin/currency_pair=ADA_USDT/year=2022/month=2/d5ea82924aa046f59a559985a95ea1c9.parquet\"\n",
    "pq_ada = pd.read_parquet(file_path)\n",
    "pq_ada"
   ]
  },
  {
   "cell_type": "markdown",
   "id": "6c0b085f",
   "metadata": {},
   "source": [
    "One can notice that the data for February starts exactly from the point where NaN sequence is ending."
   ]
  },
  {
   "cell_type": "markdown",
   "id": "f118589a",
   "metadata": {},
   "source": [
    "### Summary"
   ]
  },
  {
   "cell_type": "markdown",
   "id": "b3804472",
   "metadata": {},
   "source": [
    "The raw data doesn't have include the data for NaN sequences in client which means that with great probability, __the client doesn't distorts the raw data and it comes initially with these NaN sequences__."
   ]
  },
  {
   "cell_type": "markdown",
   "id": "2116512c",
   "metadata": {},
   "source": [
    "# Load CCXT data using requests from CCXT"
   ]
  },
  {
   "cell_type": "markdown",
   "id": "5cb0c981",
   "metadata": {},
   "source": [
    "## Function"
   ]
  },
  {
   "cell_type": "code",
   "execution_count": null,
   "id": "7ae83fcb",
   "metadata": {},
   "outputs": [],
   "source": [
    "def timestamp_to_datetime(timestamps):\n",
    "    times = []\n",
    "    for time in timestamps:\n",
    "        times.append(hdateti.convert_unix_epoch_to_timestamp(time))\n",
    "    return times"
   ]
  },
  {
   "cell_type": "markdown",
   "id": "a6039c7e",
   "metadata": {},
   "source": [
    "## Load data"
   ]
  },
  {
   "cell_type": "markdown",
   "id": "e59350e3",
   "metadata": {},
   "source": [
    "## Extractor"
   ]
  },
  {
   "cell_type": "code",
   "execution_count": null,
   "id": "17935508",
   "metadata": {},
   "outputs": [],
   "source": [
    "ccxt_kucoin_ada_exchange = imvcdeexcl.CcxtExchange(\"kucoin\")\n",
    "ccxt_kucoin_ada_data = ccxt_kucoin_ada_exchange.download_ohlcv_data(\"ADA/USDT\")"
   ]
  },
  {
   "cell_type": "code",
   "execution_count": null,
   "id": "7a3f824b",
   "metadata": {},
   "outputs": [],
   "source": [
    "# Nina: data is hard to load for the whole month using CcxtExchange. Duration of downloading more than 5 hours.\n",
    "currency_pair = \"ADA/USDT\"\n",
    "start_timestamp = pd.Timestamp(\"2019-08-30\")\n",
    "end_timestamp = pd.Timestamp(\"2019-08-31\")\n",
    "sleep_time_in_secs = 20\n",
    "ccxt_kucoin_ada_data = ccxt_kucoin_ada_exchange.download_ohlcv_data(\n",
    "    currency_pair,\n",
    "    start_timestamp=start_timestamp,\n",
    "    end_timestamp=end_timestamp,\n",
    "    sleep_time_in_secs=sleep_time_in_secs,\n",
    ")"
   ]
  },
  {
   "cell_type": "code",
   "execution_count": null,
   "id": "21db8f82",
   "metadata": {},
   "outputs": [],
   "source": [
    "df = ccxt_kucoin_ada_data.copy()"
   ]
  },
  {
   "cell_type": "code",
   "execution_count": null,
   "id": "409e6e21",
   "metadata": {},
   "outputs": [],
   "source": [
    "indexes = timestamp_to_datetime(df[\"timestamp\"])\n",
    "df.set_index(pd.to_datetime(indexes), inplace=True)\n",
    "df"
   ]
  },
  {
   "cell_type": "code",
   "execution_count": null,
   "id": "ef652caf",
   "metadata": {},
   "outputs": [],
   "source": [
    "df.loc[df[\"volume\"].isna()]"
   ]
  },
  {
   "cell_type": "code",
   "execution_count": null,
   "id": "831c29ff",
   "metadata": {},
   "outputs": [],
   "source": [
    "# 2020\n",
    "start_timestamp = pd.Timestamp(\"2020-01-30\")\n",
    "end_timestamp = pd.Timestamp(\"2020-01-31\")\n",
    "ccxt_kucoin_ada_data = ccxt_kucoin_ada_exchange.download_ohlcv_data(\n",
    "    currency_pair,\n",
    "    start_timestamp=start_timestamp,\n",
    "    end_timestamp=end_timestamp,\n",
    "    sleep_time_in_secs=sleep_time_in_secs,\n",
    ")"
   ]
  },
  {
   "cell_type": "code",
   "execution_count": null,
   "id": "226c3496",
   "metadata": {},
   "outputs": [],
   "source": [
    "df = ccxt_kucoin_ada_data.copy()\n",
    "indexes = timestamp_to_datetime(df[\"timestamp\"])\n",
    "df.set_index(pd.to_datetime(indexes), inplace=True)\n",
    "df"
   ]
  },
  {
   "cell_type": "code",
   "execution_count": null,
   "id": "75847cb8",
   "metadata": {},
   "outputs": [],
   "source": [
    "df.loc[df[\"volume\"].isna()]"
   ]
  },
  {
   "cell_type": "code",
   "execution_count": null,
   "id": "82e9dbb7",
   "metadata": {},
   "outputs": [],
   "source": [
    "# 2021\n",
    "start_timestamp = pd.Timestamp(\"2021-12-29 23:00:00+00:00\")\n",
    "end_timestamp = pd.Timestamp(\"2021-12-30 23:59:00+00:00\")\n",
    "ccxt_kucoin_ada_data = ccxt_kucoin_ada_exchange.download_ohlcv_data(\n",
    "    currency_pair,\n",
    "    start_timestamp=start_timestamp,\n",
    "    end_timestamp=end_timestamp,\n",
    "    sleep_time_in_secs=sleep_time_in_secs,\n",
    ")"
   ]
  },
  {
   "cell_type": "code",
   "execution_count": null,
   "id": "476ca502",
   "metadata": {},
   "outputs": [],
   "source": [
    "df = ccxt_kucoin_ada_data.copy()\n",
    "indexes = timestamp_to_datetime(df[\"timestamp\"])\n",
    "df.set_index(pd.to_datetime(indexes), inplace=True)\n",
    "df"
   ]
  },
  {
   "cell_type": "code",
   "execution_count": null,
   "id": "feb9b7b1",
   "metadata": {},
   "outputs": [],
   "source": [
    "df.loc[df[\"volume\"].isna()]"
   ]
  },
  {
   "cell_type": "code",
   "execution_count": null,
   "id": "f0e183d5",
   "metadata": {},
   "outputs": [],
   "source": [
    "_LOG.info(ccxt_kucoin_ada_data.shape)\n",
    "ccxt_kucoin_ada_data.head()"
   ]
  },
  {
   "cell_type": "markdown",
   "id": "2ab9eca8",
   "metadata": {},
   "source": [
    "### Load data using simple requests"
   ]
  },
  {
   "cell_type": "code",
   "execution_count": null,
   "id": "63606cc8",
   "metadata": {},
   "outputs": [],
   "source": [
    "def get_url(symbol: str, start_ts: int, end_ts: int) -> str:\n",
    "    url = f\"https://openapi-v2.kucoin.com/api/v1/market/candles?symbol={symbol}&type=1min&startAt={start_ts}&endAt={end_ts}\"\n",
    "    return url"
   ]
  },
  {
   "cell_type": "code",
   "execution_count": null,
   "id": "05dd06a3",
   "metadata": {},
   "outputs": [],
   "source": [
    "symbol = \"ADA-USDT\"\n",
    "# 2019-08-01 00:00:00 GMT+0000\n",
    "start = 1564617600\n",
    "# 2019-08-31 23:59:59 GMT+0000\n",
    "end = 1567295999\n",
    "url = get_url(symbol, start, end)\n",
    "response = requests.get(url)\n",
    "# check if data in response.\n",
    "response.text[:100]"
   ]
  },
  {
   "cell_type": "code",
   "execution_count": null,
   "id": "f7ab791b",
   "metadata": {},
   "outputs": [],
   "source": [
    "data = json.loads(response.text)\n",
    "data = data[\"data\"]\n",
    "columns = [\"timestamp\", \"open\", \"high\", \"low\", \"close\", \"volume\", \"unknown_col\"]\n",
    "df_2019 = pd.DataFrame(data, columns=columns)\n",
    "df_2019.head(3)"
   ]
  },
  {
   "cell_type": "code",
   "execution_count": null,
   "id": "7a14f4dd",
   "metadata": {},
   "outputs": [],
   "source": [
    "# Data is loaded for one day (roughly) but IDK why, maybe because of some limits.\n",
    "df_2019[\"timestamp\"].sort_values()"
   ]
  },
  {
   "cell_type": "code",
   "execution_count": null,
   "id": "1ea49cdd",
   "metadata": {},
   "outputs": [],
   "source": [
    "symbol = \"ADA-USDT\"\n",
    "# 2020-01-30 23:00:00 GMT+0000\n",
    "start = 1580425200\n",
    "# 2020-01-31 23:59:59 GMT+0000\n",
    "end = 1580515199\n",
    "url = get_url(symbol, start, end)\n",
    "response = requests.get(url)\n",
    "# check if data in response.\n",
    "response.text[:100]"
   ]
  },
  {
   "cell_type": "code",
   "execution_count": null,
   "id": "117739ea",
   "metadata": {},
   "outputs": [],
   "source": [
    "data_2020 = json.loads(response.text)\n",
    "data_2020 = data_2020[\"data\"]\n",
    "columns = [\"timestamp\", \"open\", \"high\", \"low\", \"close\", \"volume\", \"unknown_col\"]\n",
    "df_2020 = pd.DataFrame(data_2020, columns=columns)\n",
    "_LOG.info(df_2020.shape)\n",
    "df_2020.head(3)"
   ]
  },
  {
   "cell_type": "code",
   "execution_count": null,
   "id": "7f510427",
   "metadata": {},
   "outputs": [],
   "source": [
    "symbol = \"ADA-USDT\"\n",
    "# 2021-12-29 23:00:00 GMT+0000\n",
    "start = 1640818800\n",
    "# 2021-12-30 23:59:59 GMT+0000\n",
    "end = 1640908799\n",
    "url = get_url(symbol, start, end)\n",
    "response = requests.get(url)\n",
    "# check if data in response.\n",
    "response.text[:100]"
   ]
  },
  {
   "cell_type": "code",
   "execution_count": null,
   "id": "39e8f518",
   "metadata": {},
   "outputs": [],
   "source": [
    "data_2021 = json.loads(response.text)\n",
    "data_2021 = data_2021[\"data\"]\n",
    "columns = [\"timestamp\", \"open\", \"high\", \"low\", \"close\", \"volume\", \"unknown_col\"]\n",
    "df_2021 = pd.DataFrame(data_2021, columns=columns)\n",
    "_LOG.info(df_2021.shape)\n",
    "df_2021.head(3)"
   ]
  },
  {
   "cell_type": "markdown",
   "id": "54e0fa10",
   "metadata": {},
   "source": [
    "## Set Datetime index to loaded data"
   ]
  },
  {
   "cell_type": "code",
   "execution_count": null,
   "id": "9b41ca90",
   "metadata": {},
   "outputs": [],
   "source": [
    "indexes = timestamp_to_datetime(ccxt_kucoin_ada_data[\"timestamp\"])\n",
    "ccxt_kucoin_ada_data.set_index(pd.to_datetime(indexes), inplace=True)\n",
    "ccxt_kucoin_ada_data.head(2)"
   ]
  },
  {
   "cell_type": "code",
   "execution_count": null,
   "id": "eda15ead",
   "metadata": {},
   "outputs": [],
   "source": [
    "# Tricky manipulations to create a correct timestamp to convert to datetime.\n",
    "def change_timestamp(df):\n",
    "    for timestamp in df[\"timestamp\"]:\n",
    "        df[\"timestamp\"].loc[df[\"timestamp\"] == timestamp] = f\"{timestamp}000\"\n",
    "    return df"
   ]
  },
  {
   "cell_type": "code",
   "execution_count": null,
   "id": "c271b805",
   "metadata": {
    "run_control": {
     "marked": true
    }
   },
   "outputs": [],
   "source": [
    "df_2019 = change_timestamp(df_2019)\n",
    "df_2019 = df_2019.convert_dtypes()\n",
    "df_2019[\"timestamp\"] = pd.to_numeric(df_2019[\"timestamp\"])"
   ]
  },
  {
   "cell_type": "code",
   "execution_count": null,
   "id": "0a51d390",
   "metadata": {},
   "outputs": [],
   "source": [
    "indexes = timestamp_to_datetime(df_2019[\"timestamp\"])\n",
    "df_2019.set_index(pd.to_datetime(indexes), inplace=True)\n",
    "df_2019.head(2)"
   ]
  },
  {
   "cell_type": "code",
   "execution_count": null,
   "id": "6c996e93",
   "metadata": {},
   "outputs": [],
   "source": [
    "df_2019.loc[df_2019[\"volume\"].isna()]"
   ]
  },
  {
   "cell_type": "code",
   "execution_count": null,
   "id": "3b539395",
   "metadata": {},
   "outputs": [],
   "source": [
    "df_2019.loc[df_2019[\"volume\"] == \"0\"]"
   ]
  },
  {
   "cell_type": "code",
   "execution_count": null,
   "id": "a3b1d53c",
   "metadata": {},
   "outputs": [],
   "source": [
    "# Data of 2020-01-30 ~ 2020-01-31\n",
    "df_2020 = change_timestamp(df_2020)\n",
    "df_2020 = df_2020.convert_dtypes()\n",
    "df_2020[\"timestamp\"] = pd.to_numeric(df_2020[\"timestamp\"])\n",
    "indexes = timestamp_to_datetime(df_2020[\"timestamp\"])\n",
    "df_2020.set_index(pd.to_datetime(indexes), inplace=True)\n",
    "df_2020.head(2)"
   ]
  },
  {
   "cell_type": "code",
   "execution_count": null,
   "id": "1e494a1c",
   "metadata": {},
   "outputs": [],
   "source": [
    "df_2020.loc[df_2020[\"volume\"].isna()]"
   ]
  },
  {
   "cell_type": "code",
   "execution_count": null,
   "id": "89dfbe6e",
   "metadata": {},
   "outputs": [],
   "source": [
    "df_2020.loc[df_2020[\"volume\"] == \"0\"]"
   ]
  },
  {
   "cell_type": "code",
   "execution_count": null,
   "id": "38828a30",
   "metadata": {},
   "outputs": [],
   "source": [
    "# Data of 2021-12-29 ~ 2021-12-30\n",
    "df_2021 = change_timestamp(df_2021)\n",
    "df_2021 = df_2021.convert_dtypes()\n",
    "df_2021[\"timestamp\"] = pd.to_numeric(df_2021[\"timestamp\"])\n",
    "indexes = timestamp_to_datetime(df_2021[\"timestamp\"])\n",
    "df_2021.set_index(pd.to_datetime(indexes), inplace=True)\n",
    "df_2021.head(2)"
   ]
  },
  {
   "cell_type": "code",
   "execution_count": null,
   "id": "7395a8f2",
   "metadata": {},
   "outputs": [],
   "source": [
    "use_index = True\n",
    "# Refactored hpandas.drop_duplicates from CMTask1588 (not in master yet).\n",
    "df_2021_no_dup = hpandas.drop_duplicates(df_2021, use_index)\n",
    "df_2021_no_dup.head(3)"
   ]
  },
  {
   "cell_type": "code",
   "execution_count": null,
   "id": "927d664e",
   "metadata": {},
   "outputs": [],
   "source": [
    "df_2021_no_dup.shape"
   ]
  },
  {
   "cell_type": "code",
   "execution_count": null,
   "id": "4677a7f0",
   "metadata": {},
   "outputs": [],
   "source": [
    "# Non-refactored hpandas.drop_duplicates.\n",
    "df_2021_no_dup = hpandas.drop_duplicates(df_2021)\n",
    "_LOG.info(df_2021_no_dup.shape)\n",
    "df_2021_no_dup.head(3)"
   ]
  },
  {
   "cell_type": "markdown",
   "id": "b44e4fec",
   "metadata": {},
   "source": [
    "Just checked it and compared with two versions of `hpandas.drop_duplicates` in case there were any duplicates."
   ]
  },
  {
   "cell_type": "code",
   "execution_count": null,
   "id": "b86124d9",
   "metadata": {},
   "outputs": [],
   "source": [
    "df_2021.loc[df_2021[\"volume\"].isna()]"
   ]
  },
  {
   "cell_type": "code",
   "execution_count": null,
   "id": "08466ca6",
   "metadata": {},
   "outputs": [],
   "source": [
    "df_2021.loc[df_2021[\"volume\"] == \"0\"]"
   ]
  },
  {
   "cell_type": "code",
   "execution_count": null,
   "id": "b6f39f19",
   "metadata": {},
   "outputs": [],
   "source": [
    "df_2021.loc[df_2021.duplicated(subset=[\"open\", \"high\", \"low\", \"close\", \"volume\"])]"
   ]
  },
  {
   "cell_type": "markdown",
   "id": "eef032db",
   "metadata": {},
   "source": [
    "## Take a specific period of time - [\"2019-02-18 00:00:00+00:00\"]"
   ]
  },
  {
   "cell_type": "code",
   "execution_count": null,
   "id": "3356c210",
   "metadata": {},
   "outputs": [],
   "source": [
    "ccxt_ada_nans = ada_kucoin_ccxt.loc[\n",
    "    (ada_kucoin_ccxt.index > \"2019-02-18 00:00:00+00:00\")\n",
    "    & (ada_kucoin_ccxt[\"open\"].isna == True)\n",
    "]\n",
    "ccxt_exchange_ada = ccxt_kucoin_ada_data.loc[\n",
    "    (ccxt_kucoin_ada_data.index > \"2019-02-18 00:00:00+00:00\")\n",
    "]\n",
    "# Check that the lenght is identical.\n",
    "print(\n",
    "    f\"Both datasets have the same length: {len(ccxt_ada_nans)==len(ccxt_exchange_ada)}\"\n",
    ")"
   ]
  },
  {
   "cell_type": "code",
   "execution_count": null,
   "id": "657a8153",
   "metadata": {},
   "outputs": [],
   "source": [
    "print(\"Period of NaNs in CCXT:\")\n",
    "_LOG.info(ccxt_ada_nans.shape)\n",
    "display(ccxt_ada_nans.head())\n",
    "print(\"\\n******************************************\\n\")\n",
    "print(\"Complete data:\")\n",
    "_LOG.info(ccxt_exchange_ada.shape)\n",
    "display(ccxt_exchange_ada.head())"
   ]
  },
  {
   "cell_type": "code",
   "execution_count": null,
   "id": "4ad0c8fa",
   "metadata": {},
   "outputs": [],
   "source": [
    "ccxt_ada_nans = ada_kucoin_ccxt.loc[\n",
    "    (ada_kucoin_ccxt.index < \"2019-02-18 00:00:00+00:00\")\n",
    "    & (ada_kucoin_ccxt[\"open\"].isna == True)\n",
    "]\n",
    "ccxt_exchange_ada = ccxt_kucoin_ada_data.loc[\n",
    "    (ccxt_kucoin_ada_data.index < \"2019-02-18 00:00:00+00:00\")\n",
    "]\n",
    "# Check that the lenght is identical.\n",
    "print(\n",
    "    f\"Both datasets have the same length: {len(ccxt_ada_nans)==len(ccxt_exchange_ada)}\"\n",
    ")"
   ]
  },
  {
   "cell_type": "code",
   "execution_count": null,
   "id": "d4d494ad",
   "metadata": {},
   "outputs": [],
   "source": [
    "print(\"Period of NaNs in CCXT:\")\n",
    "_LOG.info(ccxt_ada_nans.shape)\n",
    "display(ccxt_ada_nans.head())\n",
    "print(\"\\n******************************************\\n\")\n",
    "print(\"Complete data:\")\n",
    "_LOG.info(ccxt_exchange_ada.shape)\n",
    "display(ccxt_exchange_ada.head())"
   ]
  },
  {
   "cell_type": "code",
   "execution_count": null,
   "id": "c03fda9a",
   "metadata": {},
   "outputs": [],
   "source": [
    "print(\n",
    "    f\"Start: {ccxt_kucoin_ada_data.index.min()}\\nEnd: {ccxt_kucoin_ada_data.index.max()}\"\n",
    ")"
   ]
  },
  {
   "cell_type": "markdown",
   "id": "01876f94",
   "metadata": {},
   "source": [
    "##  Take a specific period of time 2019-08-30, 2019-08-31"
   ]
  },
  {
   "cell_type": "code",
   "execution_count": null,
   "id": "bdc2a891",
   "metadata": {},
   "outputs": [],
   "source": [
    "# Data is loaded for about 24 hours.\n",
    "df_2019.index.min(), df_2019.index.max()"
   ]
  },
  {
   "cell_type": "code",
   "execution_count": null,
   "id": "db71e5b4",
   "metadata": {},
   "outputs": [],
   "source": [
    "ccxt_ada_nans_2019 = ada_kucoin_ccxt.loc[\n",
    "    (ada_kucoin_ccxt.index > \"2019-08-30 23:00:00+00:00\")\n",
    "    & (ada_kucoin_ccxt.index < \"2019-08-31 23:59:59+00:00\")\n",
    "    & (ada_kucoin_ccxt[\"open\"].isna() == True)\n",
    "]\n",
    "_LOG.info(ccxt_ada_nans_2019.shape)\n",
    "display(ccxt_ada_nans_2019.head(3))\n",
    "_LOG.info(df_2019.shape)\n",
    "display(df_2019.head(3))"
   ]
  },
  {
   "cell_type": "code",
   "execution_count": null,
   "id": "9a27d60b",
   "metadata": {},
   "outputs": [],
   "source": [
    "print(\n",
    "    f\"Percentage of NaN data: {100*len(ccxt_ada_nans_2019[ccxt_ada_nans_2019.open.isna()])/len(ccxt_ada_nans_2019)}\"\n",
    ")"
   ]
  },
  {
   "cell_type": "markdown",
   "id": "c8e47151",
   "metadata": {},
   "source": [
    "##  Take a specific period of time 2020-01-30, 2020-01-31"
   ]
  },
  {
   "cell_type": "code",
   "execution_count": null,
   "id": "bfa0fa5f",
   "metadata": {},
   "outputs": [],
   "source": [
    "ccxt_ada_nans_2020 = ada_kucoin_ccxt.loc[ada_kucoin_ccxt[\"open\"].isna() == True]\n",
    "ccxt_ada_nans_2020.loc[ccxt_ada_nans_2020.index.year == 2020].index.month.unique()"
   ]
  },
  {
   "cell_type": "code",
   "execution_count": null,
   "id": "3d2b2aa5",
   "metadata": {},
   "outputs": [],
   "source": [
    "df_2020.index.min(), df_2020.index.max()"
   ]
  },
  {
   "cell_type": "code",
   "execution_count": null,
   "id": "6cec599a",
   "metadata": {},
   "outputs": [],
   "source": [
    "ccxt_ada_nans_2020 = ada_kucoin_ccxt.loc[\n",
    "    (ada_kucoin_ccxt.index > \"2020-01-30 23:00:00+00:00\")\n",
    "    & (ada_kucoin_ccxt.index < \"2020-01-31 23:59:00+00:00\")\n",
    "    & (ada_kucoin_ccxt[\"open\"].isna() == True)\n",
    "]\n",
    "_LOG.info(ccxt_ada_nans_2020.shape)\n",
    "display(ccxt_ada_nans_2020.head(3))\n",
    "_LOG.info(df_2020.shape)\n",
    "display(df_2020.head(3))"
   ]
  },
  {
   "cell_type": "code",
   "execution_count": null,
   "id": "54cd3c21",
   "metadata": {},
   "outputs": [],
   "source": [
    "print(\n",
    "    f\"Percentage of NaN data: {100*len(ccxt_ada_nans_2020[ccxt_ada_nans_2020.open.isna()])/len(ccxt_ada_nans_2020)}\"\n",
    ")"
   ]
  },
  {
   "cell_type": "markdown",
   "id": "33951d10",
   "metadata": {},
   "source": [
    "##  Take a specific period of time 2021-12-29, 2021-12-30"
   ]
  },
  {
   "cell_type": "code",
   "execution_count": null,
   "id": "d1a86538",
   "metadata": {},
   "outputs": [],
   "source": [
    "ccxt_ada_nans_2021 = ada_kucoin_ccxt.loc[ada_kucoin_ccxt[\"open\"].isna() == True]\n",
    "ccxt_ada_nans_2021.loc[ccxt_ada_nans_2021.index.year == 2021].index.month.unique()"
   ]
  },
  {
   "cell_type": "code",
   "execution_count": null,
   "id": "d209482c",
   "metadata": {},
   "outputs": [],
   "source": [
    "df_2021.index.min(), df_2021.index.max()"
   ]
  },
  {
   "cell_type": "code",
   "execution_count": null,
   "id": "50eb0d23",
   "metadata": {},
   "outputs": [],
   "source": [
    "ccxt_ada_nans_2021 = ada_kucoin_ccxt.loc[\n",
    "    (ada_kucoin_ccxt.index >= \"2021-12-29 23:00:00+00:00\")\n",
    "    & (ada_kucoin_ccxt.index <= \"2021-12-30 23:59:00+00:00\")\n",
    "    & (ada_kucoin_ccxt[\"open\"].isna() == True)\n",
    "]\n",
    "_LOG.info(ccxt_ada_nans_2021.shape)\n",
    "display(ccxt_ada_nans_2021.head(3))\n",
    "_LOG.info(df_2021.shape)\n",
    "display(df_2021.tail(3))"
   ]
  },
  {
   "cell_type": "code",
   "execution_count": null,
   "id": "95319917",
   "metadata": {},
   "outputs": [],
   "source": [
    "# Take a look at data from s3 using hparque.from_parquet.\n",
    "file_path = \"s3://cryptokaizen-data/historical/ccxt/latest/kucoin\"\n",
    "data = hparque.from_parquet(file_path, aws_profile=\"ck\")\n",
    "data_loc = data.loc[\n",
    "    (data.index >= \"2021-12-29 23:00:00+00:00\")\n",
    "    & (data.index <= \"2021-12-30 23:59:00+00:00\")\n",
    "    & (data[\"currency_pair\"] == \"ADA_USDT\")\n",
    "]\n",
    "data_loc.head(3)"
   ]
  },
  {
   "cell_type": "code",
   "execution_count": null,
   "id": "97b32107",
   "metadata": {},
   "outputs": [],
   "source": [
    "data_loc.loc[data_loc[\"open\"].isna()]"
   ]
  },
  {
   "cell_type": "markdown",
   "id": "fa508648",
   "metadata": {},
   "source": [
    "Data from S3 is full. Apparently data loss is related to `_read_data_for_multiple_symbols` (`CcxtHistoricalPqByTileClient` uses in `read_data` see parent class.)"
   ]
  },
  {
   "cell_type": "code",
   "execution_count": null,
   "id": "bebccda0",
   "metadata": {},
   "outputs": [],
   "source": [
    "df_2021_nans = df_2021.loc[(df_2021[\"volume\"] == \"0\")]\n",
    "_LOG.info(df_2021_nans.shape)\n",
    "df_2021_nans.head(3)"
   ]
  },
  {
   "cell_type": "code",
   "execution_count": null,
   "id": "bfaca3fb",
   "metadata": {},
   "outputs": [],
   "source": [
    "print(\n",
    "    f\"Percentage of NaN data: {100*len(ccxt_ada_nans_2020[ccxt_ada_nans_2020.open.isna()])/len(ccxt_ada_nans_2020)}\"\n",
    ")"
   ]
  },
  {
   "cell_type": "markdown",
   "id": "953210d1",
   "metadata": {},
   "source": [
    "# Summary\n",
    "\n",
    "## Data of 2019 and 2020 have following common pattern: `volume = 0`, columns `open`, `close`, `high`, `low` have the same value in the row. Apparently this type of data becomes NaNs. However, data of 2021 doesn't have that pattern and still has NaNs in loaded via `CCXT` client.\n",
    "\n",
    "## Comparison of NaNs for `CCXT`, `Extractor`, `Client` shows that NaNs appear in the client.\n",
    "\n",
    "\n",
    "|      |       CCXT           |             ||              Extractor  |       |           Client      |  |\n",
    "|------|--------------|---------------------|-|---------------------|-----------|----------------------|-----------|\n",
    "|date  | Number of NaN rows % | Total number of rows| Number of `volume=0` %| Number of NaN rows % | Total number of rows| Number of NaN rows % | Total number of rows|\n",
    "|2019-08-30, 2019-08-31 |0|1500 | 97.53% | 0 | 1500 |97.07% | 1500 |\n",
    "|2020-01-30, 2020-01-31| 0 |1500 | 66.93%| 0| 1500 |56.67% | 1500 |\n",
    "|2021-12-29, 2021-12-30| 0 |1500|0 | 0 | 1500| 74.6% | 1500|"
   ]
  },
  {
   "cell_type": "code",
   "execution_count": null,
   "id": "03d3b27f",
   "metadata": {},
   "outputs": [],
   "source": [
    "# Data loaded with `from_parquet()`.\n",
    "df1 = data_loc.copy()\n",
    "df1_no_nan = df1.loc[df1[\"open\"].isna() == False]\n",
    "_LOG.info(f\"df1_no_nan {df1_no_nan.shape}\")\n",
    "# Data loaded with `CcxtHistoricalPqByTileClient`.\n",
    "df2 = ada_kucoin_ccxt.copy()\n",
    "df2_nan = df2.loc[\n",
    "    (ada_kucoin_ccxt.index >= \"2021-12-29 23:00:00+00:00\")\n",
    "    & (ada_kucoin_ccxt.index <= \"2021-12-30 23:59:00+00:00\")\n",
    "    & (ada_kucoin_ccxt[\"open\"].isna() == True)\n",
    "]\n",
    "_LOG.info(f\"df2_nan{df2_nan.shape}\")"
   ]
  },
  {
   "cell_type": "code",
   "execution_count": null,
   "id": "d938e63f",
   "metadata": {},
   "outputs": [],
   "source": [
    "print(\n",
    "    f\"% of NaNs in data loaded with `from_parquet()`: {len(df1.loc[df1['open'].isna()]) * 100 / len(df1)}\"\n",
    ")\n",
    "print(\n",
    "    f\"% of NaNs in data loaded with `CcxtHistoricalPqByTileClient`: {len(df2_nan) * 100 / len(df2)}\"\n",
    ")"
   ]
  },
  {
   "cell_type": "code",
   "execution_count": null,
   "id": "27438e52",
   "metadata": {},
   "outputs": [],
   "source": [
    "df1_no_nan = df1_no_nan.drop(\n",
    "    columns=[\"currency_pair\", \"year\", \"month\", \"timestamp\"], axis=1\n",
    ")\n",
    "df1_no_nan = df1_no_nan.reset_index()\n",
    "full_symbol = full_symbols * len(df1_no_nan)\n",
    "df1_no_nan.insert(0, \"full_symbol\", full_symbol)\n",
    "df1_no_nan.index.name = None\n",
    "df2_nan = df2_nan.reset_index()\n",
    "df2_nan.index.name = None\n",
    "df3 = pd.merge(df1_no_nan, df2_nan, how=\"right\", on=[\"full_symbol\", \"timestamp\"])\n",
    "_LOG.info(df3.shape)\n",
    "df3.head()"
   ]
  },
  {
   "cell_type": "code",
   "execution_count": null,
   "id": "5ea11f63",
   "metadata": {},
   "outputs": [],
   "source": [
    "df1.loc[\n",
    "    (df1.index >= \"2021-12-29 23:00:00+00:00\")\n",
    "    & (df1.index <= \"2021-12-30 17:39:00+00:00\")\n",
    "]"
   ]
  },
  {
   "cell_type": "markdown",
   "id": "631d08d2",
   "metadata": {},
   "source": [
    "S3 has no data in between `2021-12-29 23:00:00+00:00` and `2021-12-30 17:39:00+00:00`. Data loaded with client (`resample_1min = True`) has NaNs in between `2021-12-29 23:00:00+00:00` and `2021-12-30 17:39:00+00:00`, so it's a resampling."
   ]
  },
  {
   "cell_type": "markdown",
   "id": "ccb74d16",
   "metadata": {},
   "source": [
    "# `gateio` case"
   ]
  },
  {
   "cell_type": "code",
   "execution_count": null,
   "id": "3632b22f",
   "metadata": {},
   "outputs": [],
   "source": [
    "# Initiate the client with resample_1min = False.\n",
    "historical_client_no_resampling = icdcl.CcxtHistoricalPqByTileClient(\n",
    "    universe_version,\n",
    "    True,\n",
    "    root_dir,\n",
    "    partition_mode,\n",
    "    data_snapshot=data_snapshot,\n",
    "    aws_profile=aws_profile,\n",
    ")"
   ]
  },
  {
   "cell_type": "markdown",
   "id": "d58de3b2",
   "metadata": {},
   "source": [
    "## `full_symbol = \"gateio::ADA_USDT\"`"
   ]
  },
  {
   "cell_type": "code",
   "execution_count": null,
   "id": "a8012543",
   "metadata": {},
   "outputs": [],
   "source": [
    "# Load historical data from CCXT.\n",
    "full_symbols = [\"gateio::ADA_USDT\"]\n",
    "start_date = None\n",
    "end_date = None\n",
    "ada_gateio_ccxt = historical_client_no_resampling.read_data(\n",
    "    full_symbols, start_date, end_date, columns=None\n",
    ")"
   ]
  },
  {
   "cell_type": "code",
   "execution_count": null,
   "id": "3f3dca8e",
   "metadata": {},
   "outputs": [],
   "source": [
    "_LOG.info(ada_gateio_ccxt.shape)\n",
    "ada_gateio_ccxt.head(3)"
   ]
  },
  {
   "cell_type": "code",
   "execution_count": null,
   "id": "4fcf8263",
   "metadata": {},
   "outputs": [],
   "source": [
    "ada_gateio_ccxt.loc[ada_gateio_ccxt[\"volume\"].isna()]"
   ]
  },
  {
   "cell_type": "markdown",
   "id": "2dcafc91",
   "metadata": {},
   "source": [
    "NaNs for `full_symbol = \"gateio::ADA_USDT\"` and `resample_1min=False` data are absent."
   ]
  },
  {
   "cell_type": "code",
   "execution_count": null,
   "id": "ffe3fef5",
   "metadata": {},
   "outputs": [],
   "source": [
    "ada_duplicated_rows = ada_gateio_ccxt.duplicated()\n",
    "ada_duplicated_rows.value_counts()"
   ]
  },
  {
   "cell_type": "code",
   "execution_count": null,
   "id": "04656e29",
   "metadata": {},
   "outputs": [],
   "source": [
    "ada_duplicated_index = ada_gateio_ccxt.index.duplicated()\n",
    "value_counts = pd.Series(ada_duplicated_index).value_counts()\n",
    "value_counts"
   ]
  },
  {
   "cell_type": "code",
   "execution_count": null,
   "id": "1c9ad9a5",
   "metadata": {},
   "outputs": [],
   "source": [
    "duplicated_indexes = round((value_counts[1] * 100 / len(ada_gateio_ccxt)), 6)\n",
    "print(f\"% of duplicated index is {duplicated_indexes}\")"
   ]
  },
  {
   "cell_type": "code",
   "execution_count": null,
   "id": "106f3be1",
   "metadata": {},
   "outputs": [],
   "source": [
    "ada_gateio_ccxt.loc[ada_duplicated_index == True]"
   ]
  },
  {
   "cell_type": "code",
   "execution_count": null,
   "id": "2ae9678f",
   "metadata": {},
   "outputs": [],
   "source": [
    "ada_gateio_ccxt.loc[ada_gateio_ccxt.index == \"2021-09-12 20:02:00+00:00\"]"
   ]
  },
  {
   "cell_type": "code",
   "execution_count": null,
   "id": "38d31fe4",
   "metadata": {},
   "outputs": [],
   "source": [
    "ada_gateio_ccxt.loc[ada_gateio_ccxt.index == \"2021-09-18 16:22:00+00:00\"]"
   ]
  },
  {
   "cell_type": "markdown",
   "id": "b5230963",
   "metadata": {},
   "source": [
    "### Values for duplicated indexes are the same accordingly. It means data isn't corrupted. % of duplicated index is 0.000775 (2 vs 258226)"
   ]
  },
  {
   "cell_type": "markdown",
   "id": "cc4877e0",
   "metadata": {},
   "source": [
    "## `BTC_USDT`"
   ]
  },
  {
   "cell_type": "code",
   "execution_count": null,
   "id": "b097afe2",
   "metadata": {},
   "outputs": [],
   "source": [
    "full_symbols = [\"gateio::BTC_USDT\"]\n",
    "start_date = None\n",
    "end_date = None\n",
    "btc_gateio_ccxt = historical_client_no_resampling.read_data(\n",
    "    full_symbols, start_date, end_date, columns=None\n",
    ")"
   ]
  },
  {
   "cell_type": "code",
   "execution_count": null,
   "id": "e16604fa",
   "metadata": {},
   "outputs": [],
   "source": [
    "_LOG.info(btc_gateio_ccxt.shape)\n",
    "btc_gateio_ccxt.head(3)"
   ]
  },
  {
   "cell_type": "code",
   "execution_count": null,
   "id": "0c0e3e69",
   "metadata": {},
   "outputs": [],
   "source": [
    "btc_gateio_ccxt.loc[btc_gateio_ccxt[\"volume\"].isna()]"
   ]
  },
  {
   "cell_type": "markdown",
   "id": "4b7e1817",
   "metadata": {},
   "source": [
    "Also there're no NaNs for `BTC_USDT`."
   ]
  },
  {
   "cell_type": "code",
   "execution_count": null,
   "id": "8e488858",
   "metadata": {
    "run_control": {
     "marked": true
    }
   },
   "outputs": [],
   "source": [
    "btc_duplicated_index = btc_gateio_ccxt.index.duplicated()\n",
    "value_counts = pd.Series(btc_duplicated_index).value_counts()\n",
    "value_counts"
   ]
  },
  {
   "cell_type": "code",
   "execution_count": null,
   "id": "773776f6",
   "metadata": {},
   "outputs": [],
   "source": [
    "duplicated_indexes = round((value_counts[1] * 100 / len(btc_duplicated_index)), 6)\n",
    "print(f\"% of duplicated index is {duplicated_indexes}\")"
   ]
  },
  {
   "cell_type": "code",
   "execution_count": null,
   "id": "d245ac44",
   "metadata": {},
   "outputs": [],
   "source": [
    "btc_duplicated = btc_gateio_ccxt.loc[btc_duplicated_index == True]\n",
    "btc_duplicated"
   ]
  },
  {
   "cell_type": "code",
   "execution_count": null,
   "id": "1eb2a44d",
   "metadata": {
    "run_control": {
     "marked": true
    }
   },
   "outputs": [],
   "source": [
    "btc_gateio_ccxt.loc[btc_gateio_ccxt.index == \"2021-09-08 08:14:00+00:0\"]"
   ]
  },
  {
   "cell_type": "code",
   "execution_count": null,
   "id": "d60330d9",
   "metadata": {},
   "outputs": [],
   "source": [
    "btc_gateio_ccxt.loc[btc_gateio_ccxt.index == \"2021-06-27 23:31:00+00:00\"]"
   ]
  },
  {
   "cell_type": "markdown",
   "id": "2020fe85",
   "metadata": {},
   "source": [
    "### Values for duplicated indexes are identical. It means data isn't corrupted. % of duplicated index is 0.005801 (15 vs 258575)"
   ]
  }
 ],
 "metadata": {
  "kernelspec": {
   "display_name": "Python 3 (ipykernel)",
   "language": "python",
   "name": "python3"
  },
  "language_info": {
   "codemirror_mode": {
    "name": "ipython",
    "version": 3
   },
   "file_extension": ".py",
   "mimetype": "text/x-python",
   "name": "python",
   "nbconvert_exporter": "python",
   "pygments_lexer": "ipython3"
  },
  "toc": {
   "base_numbering": 1,
   "nav_menu": {},
   "number_sections": true,
   "sideBar": true,
   "skip_h1_title": false,
   "title_cell": "Table of Contents",
   "title_sidebar": "Contents",
   "toc_cell": false,
   "toc_position": {},
   "toc_section_display": true,
   "toc_window_display": false
  }
 },
 "nbformat": 4,
 "nbformat_minor": 5
}
