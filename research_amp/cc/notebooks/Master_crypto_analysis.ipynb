{
 "cells": [
  {
   "cell_type": "markdown",
   "id": "42069126",
   "metadata": {},
   "source": [
    "# Description"
   ]
  },
  {
   "cell_type": "markdown",
   "id": "8fe5775a",
   "metadata": {},
   "source": [
    "This notebook performs EDA on the crypto prices and returns."
   ]
  },
  {
   "cell_type": "markdown",
   "id": "3e2e6718",
   "metadata": {},
   "source": [
    "# Imports"
   ]
  },
  {
   "cell_type": "code",
   "execution_count": null,
   "id": "dbd664a7",
   "metadata": {},
   "outputs": [],
   "source": [
    "# %load_ext autoreload\n",
    "# %autoreload 2\n",
    "# %matplotlib inline"
   ]
  },
  {
   "cell_type": "code",
   "execution_count": null,
   "id": "3c316ebd",
   "metadata": {},
   "outputs": [],
   "source": [
    "# TODO(Grisha): move to `core/dataflow_model/notebooks` in #205.\n",
    "\n",
    "import logging\n",
    "import os\n",
    "\n",
    "import pandas as pd\n",
    "import pytz\n",
    "\n",
    "import core.config.config_ as cconconf\n",
    "import core.explore as coexplor\n",
    "import core.plotting as coplotti\n",
    "import helpers.hdatetime as hdateti\n",
    "import helpers.hdbg as hdbg\n",
    "import helpers.henv as henv\n",
    "import helpers.hprint as hprint\n",
    "import helpers.hs3 as hs3\n",
    "import im_v2.ccxt.data.client as icdcl"
   ]
  },
  {
   "cell_type": "code",
   "execution_count": null,
   "id": "284a5350",
   "metadata": {
    "lines_to_next_cell": 1
   },
   "outputs": [],
   "source": [
    "hdbg.init_logger(verbosity=logging.INFO)\n",
    "\n",
    "_LOG = logging.getLogger(__name__)\n",
    "\n",
    "_LOG.info(\"%s\", henv.get_system_signature()[0])\n",
    "\n",
    "hprint.config_notebook()\n",
    "\n",
    "AM_AWS_PROFILE = \"am\""
   ]
  },
  {
   "cell_type": "markdown",
   "id": "808d63c0",
   "metadata": {},
   "source": [
    "# Config"
   ]
  },
  {
   "cell_type": "code",
   "execution_count": null,
   "id": "07d59b95",
   "metadata": {},
   "outputs": [],
   "source": [
    "def get_eda_config() -> cconconf.Config:\n",
    "    \"\"\"\n",
    "    Get config that controls EDA parameters.\n",
    "    \"\"\"\n",
    "    config = cconconf.Config()\n",
    "    # Load parameters.\n",
    "    config.add_subconfig(\"load\")\n",
    "    config[\"load\"][\"aws_profile\"] = AM_AWS_PROFILE\n",
    "    config[\"load\"][\"data_dir\"] = os.path.join(\n",
    "        hs3.get_s3_bucket_path(AM_AWS_PROFILE), \"data\"\n",
    "    )\n",
    "    # Data parameters.\n",
    "    config.add_subconfig(\"data\")\n",
    "    config[\"data\"][\"close_price_col_name\"] = \"close\"\n",
    "    config[\"data\"][\"frequency\"] = \"T\"\n",
    "    config[\"data\"][\"vendor\"] = \"CCXT\"\n",
    "    config[\"data\"][\"extension\"] = \"csv.gz\"\n",
    "    # TODO(Grisha): use `hdateti.get_ET_tz()` once it is fixed.\n",
    "    config[\"data\"][\"timezone\"] = pytz.timezone(\"US/Eastern\")\n",
    "    # Statistics parameters.\n",
    "    config.add_subconfig(\"stats\")\n",
    "    config[\"stats\"][\"z_score_boundary\"] = 3\n",
    "    config[\"stats\"][\"z_score_window\"] = \"D\"\n",
    "    return config\n",
    "\n",
    "\n",
    "config = get_eda_config()\n",
    "print(config)"
   ]
  },
  {
   "cell_type": "markdown",
   "id": "42055791",
   "metadata": {},
   "source": [
    "# Load data"
   ]
  },
  {
   "cell_type": "code",
   "execution_count": null,
   "id": "a2303831",
   "metadata": {},
   "outputs": [],
   "source": [
    "vendor = config[\"data\"][\"vendor\"]\n",
    "universe_version = \"v3\"\n",
    "resample_1min = True\n",
    "root_dir = config[\"load\"][\"data_dir\"]\n",
    "extension = config[\"data\"][\"extension\"]\n",
    "aws_profile = config[\"load\"][\"aws_profile\"]\n",
    "ccxt_csv_client = icdcl.CcxtCddCsvParquetByAssetClient(\n",
    "    vendor,\n",
    "    universe_version,\n",
    "    resample_1min,\n",
    "    root_dir,\n",
    "    extension,\n",
    "    aws_profile=aws_profile,\n",
    ")\n",
    "start_ts = None\n",
    "end_ts = None\n",
    "ccxt_data = ccxt_csv_client.read_data(\n",
    "    [\"binance::BTC_USDT\"],\n",
    "    start_ts,\n",
    "    end_ts,\n",
    ")\n",
    "_LOG.info(\"shape=%s\", ccxt_data.shape[0])\n",
    "ccxt_data.head(3)"
   ]
  },
  {
   "cell_type": "code",
   "execution_count": null,
   "id": "6919e835",
   "metadata": {},
   "outputs": [],
   "source": [
    "# Check the timezone info.\n",
    "hdbg.dassert_eq(\n",
    "    ccxt_data.index.tzinfo,\n",
    "    config[\"data\"][\"timezone\"],\n",
    ")"
   ]
  },
  {
   "cell_type": "code",
   "execution_count": null,
   "id": "d5093fd1",
   "metadata": {},
   "outputs": [],
   "source": [
    "# TODO(Grisha): change tz in `CcxtLoader` #217.\n",
    "ccxt_data.index = ccxt_data.index.tz_convert(config[\"data\"][\"timezone\"])\n",
    "ccxt_data.index.tzinfo"
   ]
  },
  {
   "cell_type": "markdown",
   "id": "435a1986",
   "metadata": {},
   "source": [
    "# Select subset"
   ]
  },
  {
   "cell_type": "code",
   "execution_count": null,
   "id": "6b45d4f4",
   "metadata": {},
   "outputs": [],
   "source": [
    "ccxt_data_subset = ccxt_data[[config[\"data\"][\"close_price_col_name\"]]]\n",
    "ccxt_data_subset.head(3)"
   ]
  },
  {
   "cell_type": "markdown",
   "id": "184f4b2c",
   "metadata": {},
   "source": [
    "# Resample index"
   ]
  },
  {
   "cell_type": "code",
   "execution_count": null,
   "id": "1a08df11",
   "metadata": {},
   "outputs": [],
   "source": [
    "# TODO(Grisha): do we want to merge it with `core.pandas_helpers.resample_index`?\n",
    "# The problem with `resample_index` in `pandas_helpers` is that it does not\n",
    "# generate empty rows for missing timestamps.\n",
    "def resample_index(index: pd.DatetimeIndex, frequency: str) -> pd.DatetimeIndex:\n",
    "    \"\"\"\n",
    "    Resample `DatetimeIndex`.\n",
    "\n",
    "    :param index: `DatetimeIndex` to resample\n",
    "    :param frequency: frequency from `pd.date_range()` to resample to\n",
    "    :return: resampled `DatetimeIndex`\n",
    "    \"\"\"\n",
    "    hdbg.dassert_isinstance(index, pd.DatetimeIndex)\n",
    "    min_date = index.min()\n",
    "    max_date = index.max()\n",
    "    resampled_index = pd.date_range(\n",
    "        start=min_date,\n",
    "        end=max_date,\n",
    "        freq=frequency,\n",
    "    )\n",
    "    return resampled_index\n",
    "\n",
    "\n",
    "resampled_index = resample_index(\n",
    "    ccxt_data_subset.index, config[\"data\"][\"frequency\"]\n",
    ")\n",
    "ccxt_data_reindex = ccxt_data_subset.reindex(resampled_index)\n",
    "_LOG.info(\"shape=%s\", ccxt_data_reindex.shape[0])\n",
    "ccxt_data_reindex.head(3)"
   ]
  },
  {
   "cell_type": "markdown",
   "id": "c36ce7f5",
   "metadata": {},
   "source": [
    "# Filter data"
   ]
  },
  {
   "cell_type": "code",
   "execution_count": null,
   "id": "7a77280c",
   "metadata": {},
   "outputs": [],
   "source": [
    "# TODO(Grisha): add support for filtering by exchange, currency, asset class."
   ]
  },
  {
   "cell_type": "code",
   "execution_count": null,
   "id": "acaf70a0",
   "metadata": {},
   "outputs": [],
   "source": [
    "# Get the inputs.\n",
    "# TODO(Grisha): pass tz to `hdateti.to_datetime` once it is fixed.\n",
    "lower_bound = hdateti.to_datetime(\"2019-01-01\")\n",
    "lower_bound_ET = config[\"data\"][\"timezone\"].localize(lower_bound)\n",
    "upper_bound = hdateti.to_datetime(\"2020-01-01\")\n",
    "upper_bound_ET = config[\"data\"][\"timezone\"].localize(upper_bound)\n",
    "# Fiter data.\n",
    "ccxt_data_filtered = coexplor.filter_by_time(\n",
    "    df=ccxt_data_reindex,\n",
    "    lower_bound=lower_bound_ET,\n",
    "    upper_bound=upper_bound_ET,\n",
    "    inclusive=\"left\",\n",
    "    ts_col_name=None,\n",
    "    log_level=logging.INFO,\n",
    ")\n",
    "ccxt_data_filtered.head(3)"
   ]
  },
  {
   "cell_type": "markdown",
   "id": "e3468919",
   "metadata": {},
   "source": [
    "# Statistics"
   ]
  },
  {
   "cell_type": "markdown",
   "id": "79db714e",
   "metadata": {},
   "source": [
    "## Plot timeseries"
   ]
  },
  {
   "cell_type": "code",
   "execution_count": null,
   "id": "b66a5499",
   "metadata": {},
   "outputs": [],
   "source": [
    "# TODO(Grisha): replace with a function that does the plotting.\n",
    "ccxt_data_filtered[config[\"data\"][\"close_price_col_name\"]].plot()"
   ]
  },
  {
   "cell_type": "markdown",
   "id": "e70c561a",
   "metadata": {},
   "source": [
    "## Plot timeseries distribution"
   ]
  },
  {
   "cell_type": "code",
   "execution_count": null,
   "id": "b395189f",
   "metadata": {},
   "outputs": [],
   "source": [
    "# TODO(Grisha): fix the function behavior in #204.\n",
    "coplotti.plot_timeseries_distribution(\n",
    "    ccxt_data_filtered[config[\"data\"][\"close_price_col_name\"]],\n",
    "    datetime_types=[\"hour\"],\n",
    ")"
   ]
  },
  {
   "cell_type": "markdown",
   "id": "0efaed41",
   "metadata": {},
   "source": [
    "## NaN statistics"
   ]
  },
  {
   "cell_type": "code",
   "execution_count": null,
   "id": "427be7c5",
   "metadata": {},
   "outputs": [],
   "source": [
    "nan_stats_df = coexplor.report_zero_nan_inf_stats(ccxt_data_filtered)\n",
    "nan_stats_df"
   ]
  },
  {
   "cell_type": "code",
   "execution_count": null,
   "id": "f471b2f9",
   "metadata": {},
   "outputs": [],
   "source": [
    "# TODO(Grisha): pretify the function: add assertions, logging.\n",
    "# TODO(Grisha): add support for zeros, infinities.\n",
    "# TODO(Grisha): also count NaNs by exchange, currency, asset class.\n",
    "def count_nans_by_period(\n",
    "    df: pd.DataFrame,\n",
    "    config: cconconf.Config,\n",
    "    period: str,\n",
    "    top_n: int = 10,\n",
    ") -> pd.DataFrame:\n",
    "    \"\"\"\n",
    "    Count NaNs by period.\n",
    "\n",
    "    :param df: data\n",
    "    :param period: time period, e.g. \"D\" - to group by day\n",
    "    :param top_n: display top N counts\n",
    "    :return: table with NaN counts by period\n",
    "    \"\"\"\n",
    "    # Select only NaNs.\n",
    "    nan_data = df[df[config[\"data\"][\"close_price_col_name\"]].isna()]\n",
    "    # Group by specified period.\n",
    "    nan_grouped = nan_data.groupby(pd.Grouper(freq=period))\n",
    "    # Count NaNs.\n",
    "    nan_grouped_counts = nan_grouped.apply(lambda x: x.isnull().sum())\n",
    "    nan_grouped_counts.columns = [\"nan_count\"]\n",
    "    nan_grouped_counts_sorted = nan_grouped_counts.sort_values(\n",
    "        by=[\"nan_count\"], ascending=False\n",
    "    )\n",
    "    return nan_grouped_counts_sorted.head(top_n)\n",
    "\n",
    "\n",
    "nan_counts = count_nans_by_period(\n",
    "    ccxt_data_filtered,\n",
    "    config,\n",
    "    \"D\",\n",
    ")\n",
    "nan_counts"
   ]
  },
  {
   "cell_type": "markdown",
   "id": "fd3a24d2",
   "metadata": {},
   "source": [
    "## Detect outliers"
   ]
  },
  {
   "cell_type": "code",
   "execution_count": null,
   "id": "f7ade676",
   "metadata": {},
   "outputs": [],
   "source": [
    "# TODO(Grisha): add support for other approaches, e.g. IQR-based approach.\n",
    "def detect_outliers(df: pd.DataFrame, config: cconconf.Config) -> pd.DataFrame:\n",
    "    \"\"\"\n",
    "    Detect outliers in a rolling fashion using z-score.\n",
    "\n",
    "    If an observation has abs(z-score) > `z_score_boundary` it is considered\n",
    "    an outlier. To compute a `z-score` rolling mean and rolling std are used.\n",
    "\n",
    "    :param df: data\n",
    "    :return: outliers\n",
    "    \"\"\"\n",
    "    df_copy = df.copy()\n",
    "    roll = df_copy[config[\"data\"][\"close_price_col_name\"]].rolling(\n",
    "        window=config[\"stats\"][\"z_score_window\"]\n",
    "    )\n",
    "    # Compute z-score for a rolling window.\n",
    "    df_copy[\"z-score\"] = (\n",
    "        df_copy[config[\"data\"][\"close_price_col_name\"]] - roll.mean()\n",
    "    ) / roll.std()\n",
    "    # Select outliers based on the z-score.\n",
    "    df_outliers = df_copy[\n",
    "        abs(df_copy[\"z-score\"]) > config[\"stats\"][\"z_score_boundary\"]\n",
    "    ]\n",
    "    return df_outliers\n",
    "\n",
    "\n",
    "outliers = detect_outliers(ccxt_data_filtered, config)\n",
    "_LOG.info(\"shape=%s\", outliers.shape[0])\n",
    "outliers.head(3)"
   ]
  }
 ],
 "metadata": {
  "jupytext": {
   "formats": "ipynb,py:percent"
  },
  "kernelspec": {
   "display_name": "Python 3 (ipykernel)",
   "language": "python",
   "name": "python3"
  },
  "language_info": {
   "codemirror_mode": {
    "name": "ipython",
    "version": 3
   },
   "file_extension": ".py",
   "mimetype": "text/x-python",
   "name": "python",
   "nbconvert_exporter": "python",
   "pygments_lexer": "ipython3"
  },
  "toc": {
   "base_numbering": 1,
   "nav_menu": {},
   "number_sections": true,
   "sideBar": true,
   "skip_h1_title": false,
   "title_cell": "Table of Contents",
   "title_sidebar": "Contents",
   "toc_cell": false,
   "toc_position": {},
   "toc_section_display": true,
   "toc_window_display": false
  }
 },
 "nbformat": 4,
 "nbformat_minor": 5
}
