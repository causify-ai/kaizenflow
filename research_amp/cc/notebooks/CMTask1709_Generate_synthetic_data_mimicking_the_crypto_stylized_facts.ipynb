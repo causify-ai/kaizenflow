{
 "cells": [
  {
   "cell_type": "markdown",
   "id": "edd520a4",
   "metadata": {},
   "source": [
    "Compute random returns as Gaussians or t-distributions"
   ]
  },
  {
   "cell_type": "markdown",
   "id": "aa3c592e",
   "metadata": {},
   "source": [
    "# Imports"
   ]
  },
  {
   "cell_type": "code",
   "execution_count": null,
   "id": "fe7077b7",
   "metadata": {},
   "outputs": [],
   "source": [
    "import core.finance.market_data_example as cfmadaex\n",
    "\n",
    "import pandas as pd\n",
    "import numpy as np\n",
    "import matplotlib.pyplot as plt\n",
    "import core.finance as cofinanc\n",
    "import dataflow.core as dtfcore\n",
    "import dataflow.system.source_nodes as dtfsysonod\n",
    "import core.artificial_signal_generators as carsigen"
   ]
  },
  {
   "cell_type": "markdown",
   "id": "edfa6f52",
   "metadata": {},
   "source": [
    "# Generate the data"
   ]
  },
  {
   "cell_type": "markdown",
   "id": "cd5a0052",
   "metadata": {},
   "source": [
    "## Using `generate_random_price_data` for multiple assets"
   ]
  },
  {
   "cell_type": "markdown",
   "id": "6a7ca52c",
   "metadata": {},
   "source": [
    "Problems:\n",
    "- Generating prices are the same for all assets\n",
    "- Distribution of returns is not normal"
   ]
  },
  {
   "cell_type": "code",
   "execution_count": null,
   "id": "4abda97b",
   "metadata": {},
   "outputs": [],
   "source": [
    "start_datetime = pd.Timestamp(\"2021-01-01\")\n",
    "end_datetime = pd.Timestamp(\"2021-01-31\")\n",
    "columns = [\"close\"]\n",
    "asset_ids = list(range(2))\n",
    "freq = \"1T\"\n",
    "initial_price = 29000\n",
    "seed = 100,\n",
    "\n",
    "df = cfmadaex.generate_random_price_data(\n",
    "start_datetime,\n",
    "end_datetime,\n",
    "columns,\n",
    "asset_ids,\n",
    "freq=freq,\n",
    "initial_price=initial_price,\n",
    "seed=seed)\n",
    "\n",
    "df = df.set_index(\"timestamp_db\").drop(columns=[\"start_datetime\", \"end_datetime\"])\n",
    "df = dtfsysonod._convert_to_multiindex(df, \"asset_id\")\n",
    "df.head()"
   ]
  },
  {
   "cell_type": "code",
   "execution_count": null,
   "id": "cd1ec2f5",
   "metadata": {},
   "outputs": [],
   "source": [
    "node_returns_config = {\n",
    "    \"in_col_groups\": [\n",
    "        (\"close\",),\n",
    "    ],\n",
    "    \"out_col_group\": (),\n",
    "    \"transformer_kwargs\": {\n",
    "        \"mode\": \"pct_change\",\n",
    "    },\n",
    "    \"col_mapping\": {\n",
    "        \"close\": \"close.ret_0\",\n",
    "    },\n",
    "}\n",
    "# Create the node that computes ret_0.\n",
    "nid = \"ret0\"\n",
    "node = dtfcore.GroupedColDfToDfTransformer(\n",
    "    nid,\n",
    "    transformer_func=cofinanc.compute_ret_0,\n",
    "    **node_returns_config,\n",
    ")\n",
    "# Compute the node on the data.\n",
    "rets = node.fit(df)"
   ]
  },
  {
   "cell_type": "code",
   "execution_count": null,
   "id": "d8dbb1ad",
   "metadata": {},
   "outputs": [],
   "source": [
    "df = rets[\"df_out\"]\n",
    "df.head(5)"
   ]
  },
  {
   "cell_type": "code",
   "execution_count": null,
   "id": "89d8de02",
   "metadata": {},
   "outputs": [],
   "source": [
    "df.swaplevel(axis=1)[0][[\"close\"]].plot(figsize=(15,7))"
   ]
  },
  {
   "cell_type": "markdown",
   "id": "c8f5f97d",
   "metadata": {},
   "source": [
    "## Using `generate_random_price_data` for one asset"
   ]
  },
  {
   "cell_type": "markdown",
   "id": "e747a5aa",
   "metadata": {},
   "source": [
    "Problems:\n",
    "- Distribution of returns is not normal"
   ]
  },
  {
   "cell_type": "code",
   "execution_count": null,
   "id": "1a78cbe5",
   "metadata": {},
   "outputs": [],
   "source": [
    "start_datetime = pd.Timestamp(\"2021-01-01\")\n",
    "end_datetime = pd.Timestamp(\"2021-01-31\")\n",
    "columns = [\"close\"]\n",
    "asset_ids = [1]\n",
    "freq = \"1T\"\n",
    "initial_price = 29000\n",
    "seed = 100,\n",
    "\n",
    "df = cfmadaex.generate_random_price_data(\n",
    "start_datetime,\n",
    "end_datetime,\n",
    "columns,\n",
    "asset_ids,\n",
    "freq=freq,\n",
    "initial_price=initial_price,\n",
    "seed=seed)\n",
    "\n",
    "df = df.set_index(\"timestamp_db\").drop(columns=[\"start_datetime\", \"end_datetime\", \"asset_id\"])\n",
    "df[\"rets\"] = cofinanc.compute_ret_0(df[[\"close\"]], \"pct_change\")\n",
    "df.head(3)"
   ]
  },
  {
   "cell_type": "code",
   "execution_count": null,
   "id": "be47b1bc",
   "metadata": {},
   "outputs": [],
   "source": [
    "df[[\"close\"]].plot(figsize=(15,7))\n",
    "df[[\"rets\"]].plot(figsize=(15,7))"
   ]
  },
  {
   "cell_type": "code",
   "execution_count": null,
   "id": "205e62f1",
   "metadata": {},
   "outputs": [],
   "source": [
    "fig = plt.figure(figsize=(15, 7))\n",
    "ax1 = fig.add_subplot(1, 1, 1)\n",
    "df['rets'].hist(bins=50, ax=ax1)\n",
    "ax1.set_xlabel('Return')\n",
    "ax1.set_ylabel('Sample')\n",
    "ax1.set_title('Return distribution')\n",
    "plt.show()"
   ]
  },
  {
   "cell_type": "markdown",
   "id": "a9f514b1",
   "metadata": {},
   "source": [
    "## Using `generate_random_bars`"
   ]
  },
  {
   "cell_type": "markdown",
   "id": "1979b07c",
   "metadata": {},
   "source": [
    "Problems:\n",
    "- Strange outcomes"
   ]
  },
  {
   "cell_type": "code",
   "execution_count": null,
   "id": "2d211537",
   "metadata": {},
   "outputs": [],
   "source": [
    "start_datetime = pd.Timestamp(\"2021-01-01\")\n",
    "end_datetime = pd.Timestamp(\"2021-01-31\")\n",
    "\n",
    "df = cfmadaex.generate_random_bars(\n",
    "    start_datetime,\n",
    "    end_datetime,\n",
    "    asset_ids = [1,2],\n",
    ")\n",
    "\n",
    "df = df.set_index(\"timestamp_db\").drop(columns=[\"start_datetime\", \"end_datetime\"])\n",
    "df = dtfsysonod._convert_to_multiindex(df, \"asset_id\")\n",
    "df.head()"
   ]
  },
  {
   "cell_type": "code",
   "execution_count": null,
   "id": "a8981048",
   "metadata": {},
   "outputs": [],
   "source": [
    "df[\"close\"].plot(figsize=(15,7))"
   ]
  },
  {
   "cell_type": "code",
   "execution_count": null,
   "id": "0a17f796",
   "metadata": {},
   "outputs": [],
   "source": [
    "node_returns_config = {\n",
    "    \"in_col_groups\": [\n",
    "        (\"close\",),\n",
    "    ],\n",
    "    \"out_col_group\": (),\n",
    "    \"transformer_kwargs\": {\n",
    "        \"mode\": \"pct_change\",\n",
    "    },\n",
    "    \"col_mapping\": {\n",
    "        \"close\": \"close.ret_0\",\n",
    "    },\n",
    "}\n",
    "# Create the node that computes ret_0.\n",
    "nid = \"ret0\"\n",
    "node = dtfcore.GroupedColDfToDfTransformer(\n",
    "    nid,\n",
    "    transformer_func=cofinanc.compute_ret_0,\n",
    "    **node_returns_config,\n",
    ")\n",
    "# Compute the node on the data.\n",
    "rets = node.fit(df)\n",
    "rets[\"df_out\"].head(3)"
   ]
  },
  {
   "cell_type": "code",
   "execution_count": null,
   "id": "7b805cbe",
   "metadata": {},
   "outputs": [],
   "source": [
    "rets[\"df_out\"][\"close.ret_0\"].plot(figsize=(15,7))"
   ]
  },
  {
   "cell_type": "markdown",
   "id": "c74c7ad7",
   "metadata": {},
   "source": [
    "## Using returns directly (`get_gaussian_walk`)"
   ]
  },
  {
   "cell_type": "markdown",
   "id": "c5be1cb2",
   "metadata": {},
   "source": [
    "Seems correct"
   ]
  },
  {
   "cell_type": "code",
   "execution_count": null,
   "id": "bc45c503",
   "metadata": {},
   "outputs": [],
   "source": [
    "drift = 0\n",
    "vol = 0.2\n",
    "size = 252\n",
    "seed = 10\n",
    "rets = carsigen.get_gaussian_walk(drift, vol, size, seed=seed).diff()"
   ]
  },
  {
   "cell_type": "code",
   "execution_count": null,
   "id": "7475e530",
   "metadata": {},
   "outputs": [],
   "source": [
    "rets.plot()"
   ]
  },
  {
   "cell_type": "code",
   "execution_count": null,
   "id": "bfd5af24",
   "metadata": {},
   "outputs": [],
   "source": [
    "fig = plt.figure(figsize=(15, 7))\n",
    "ax1 = fig.add_subplot(1, 1, 1)\n",
    "rets.hist(bins=100, ax=ax1)\n",
    "ax1.set_xlabel('Return')\n",
    "ax1.set_ylabel('Sample')\n",
    "ax1.set_title('Returns distribution')\n",
    "plt.show()"
   ]
  },
  {
   "cell_type": "markdown",
   "id": "51015b9e",
   "metadata": {},
   "source": [
    "For each bar, generate random predictions with a given hit rate\n",
    "- Compute the hit rate to confirm\n",
    "- def hit_rate(y, y_hat):\n"
   ]
  },
  {
   "cell_type": "code",
   "execution_count": null,
   "id": "ce6e9895",
   "metadata": {},
   "outputs": [],
   "source": [
    "rets_df = rets.to_frame().iloc[1:]\n",
    "rets_df.columns = [\"rets\"]\n",
    "\n",
    "# 0 -> price goes down\n",
    "# 1 -> price goes up\n",
    "rets_df[\"prediction\"] = np.random.randint(0, 2, rets_df.shape[0])\n",
    "# Get the difference to estimate the validity of prediciton.\n",
    "rets_df[\"diff\"] = rets_df.rets.diff()\n",
    "# Estimate the prediciton.\n",
    "rets_df[\"is_prediction_right\"] = ((rets_df[\"diff\"]>0)&(rets_df[\"prediction\"]==1))|((rets_df[\"diff\"]<0)&(rets_df[\"prediction\"]==0))\n",
    "# Get rid of unnecessary columns\n",
    "rets_df = rets_df.drop(columns=[\"diff\"])\n",
    "rets_df = rets_df.iloc[1:]"
   ]
  },
  {
   "cell_type": "code",
   "execution_count": null,
   "id": "3219eb42",
   "metadata": {},
   "outputs": [],
   "source": [
    "rets_df"
   ]
  },
  {
   "cell_type": "code",
   "execution_count": null,
   "id": "7564d735",
   "metadata": {},
   "outputs": [],
   "source": [
    "print(f\"Hit Rate: {round(rets_df.prediction_is_right.sum()/rets_df.shape[0], 4)*100}%\")"
   ]
  }
 ],
 "metadata": {
  "kernelspec": {
   "display_name": "Python 3 (ipykernel)",
   "language": "python",
   "name": "python3"
  },
  "language_info": {
   "codemirror_mode": {
    "name": "ipython",
    "version": 3
   },
   "file_extension": ".py",
   "mimetype": "text/x-python",
   "name": "python",
   "nbconvert_exporter": "python",
   "pygments_lexer": "ipython3"
  },
  "toc": {
   "base_numbering": 1,
   "nav_menu": {},
   "number_sections": true,
   "sideBar": true,
   "skip_h1_title": false,
   "title_cell": "Table of Contents",
   "title_sidebar": "Contents",
   "toc_cell": false,
   "toc_position": {},
   "toc_section_display": true,
   "toc_window_display": false
  }
 },
 "nbformat": 4,
 "nbformat_minor": 5
}
