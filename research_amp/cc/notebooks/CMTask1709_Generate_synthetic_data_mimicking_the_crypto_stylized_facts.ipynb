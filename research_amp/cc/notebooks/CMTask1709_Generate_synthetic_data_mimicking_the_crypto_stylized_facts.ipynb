{
 "cells": [
  {
   "cell_type": "markdown",
   "id": "6b4c2b1e",
   "metadata": {},
   "source": [
    "Compute random returns as Gaussians or t-distributions"
   ]
  },
  {
   "cell_type": "markdown",
   "id": "9d4640cc",
   "metadata": {},
   "source": [
    "# Imports"
   ]
  },
  {
   "cell_type": "code",
   "execution_count": null,
   "id": "c7d74bce",
   "metadata": {},
   "outputs": [],
   "source": [
    "import core.finance.market_data_example as cfmadaex\n",
    "from typing import List\n",
    "import im_v2.common.universe as ivcu\n",
    "import requests\n",
    "import helpers.hdatetime as hdateti\n",
    "import statsmodels\n",
    "\n",
    "import pandas as pd\n",
    "import numpy as np\n",
    "import matplotlib.pyplot as plt\n",
    "import core.finance as cofinanc\n",
    "import dataflow.core as dtfcore\n",
    "import dataflow.system.source_nodes as dtfsysonod\n",
    "import core.artificial_signal_generators as carsigen"
   ]
  },
  {
   "cell_type": "markdown",
   "id": "ed8aad31",
   "metadata": {},
   "source": [
    "# Generate the data"
   ]
  },
  {
   "cell_type": "markdown",
   "id": "0e0d442c",
   "metadata": {},
   "source": [
    "## Using `generate_random_price_data` for multiple assets"
   ]
  },
  {
   "cell_type": "markdown",
   "id": "e797ebc0",
   "metadata": {},
   "source": [
    "Problems:\n",
    "- Generating prices are the same for all assets\n",
    "- Distribution of returns is not normal"
   ]
  },
  {
   "cell_type": "code",
   "execution_count": null,
   "id": "b1634745",
   "metadata": {},
   "outputs": [],
   "source": [
    "start_datetime = pd.Timestamp(\"2021-01-01\")\n",
    "end_datetime = pd.Timestamp(\"2021-01-31\")\n",
    "columns = [\"close\"]\n",
    "asset_ids = list(range(2))\n",
    "freq = \"1T\"\n",
    "initial_price = 29000\n",
    "seed = 100,\n",
    "\n",
    "df = cfmadaex.generate_random_price_data(\n",
    "start_datetime,\n",
    "end_datetime,\n",
    "columns,\n",
    "asset_ids,\n",
    "freq=freq,\n",
    "initial_price=initial_price,\n",
    "seed=seed)\n",
    "\n",
    "df = df.set_index(\"timestamp_db\").drop(columns=[\"start_datetime\", \"end_datetime\"])\n",
    "df = dtfsysonod._convert_to_multiindex(df, \"asset_id\")\n",
    "df.head()"
   ]
  },
  {
   "cell_type": "code",
   "execution_count": null,
   "id": "1ea2ed13",
   "metadata": {},
   "outputs": [],
   "source": [
    "node_returns_config = {\n",
    "    \"in_col_groups\": [\n",
    "        (\"close\",),\n",
    "    ],\n",
    "    \"out_col_group\": (),\n",
    "    \"transformer_kwargs\": {\n",
    "        \"mode\": \"pct_change\",\n",
    "    },\n",
    "    \"col_mapping\": {\n",
    "        \"close\": \"close.ret_0\",\n",
    "    },\n",
    "}\n",
    "# Create the node that computes ret_0.\n",
    "nid = \"ret0\"\n",
    "node = dtfcore.GroupedColDfToDfTransformer(\n",
    "    nid,\n",
    "    transformer_func=cofinanc.compute_ret_0,\n",
    "    **node_returns_config,\n",
    ")\n",
    "# Compute the node on the data.\n",
    "rets = node.fit(df)"
   ]
  },
  {
   "cell_type": "code",
   "execution_count": null,
   "id": "a11c6b8a",
   "metadata": {},
   "outputs": [],
   "source": [
    "df = rets[\"df_out\"]\n",
    "df.head(5)"
   ]
  },
  {
   "cell_type": "code",
   "execution_count": null,
   "id": "eba464ab",
   "metadata": {},
   "outputs": [],
   "source": [
    "df.swaplevel(axis=1)[0][[\"close\"]].plot(figsize=(15,7))"
   ]
  },
  {
   "cell_type": "markdown",
   "id": "a7f1ee0c",
   "metadata": {},
   "source": [
    "## Using `generate_random_price_data` for one asset"
   ]
  },
  {
   "cell_type": "markdown",
   "id": "080dfa36",
   "metadata": {},
   "source": [
    "Problems:\n",
    "- Distribution of returns is not normal"
   ]
  },
  {
   "cell_type": "code",
   "execution_count": null,
   "id": "323566a2",
   "metadata": {},
   "outputs": [],
   "source": [
    "start_datetime = pd.Timestamp(\"2021-01-01\")\n",
    "end_datetime = pd.Timestamp(\"2021-01-31\")\n",
    "columns = [\"close\"]\n",
    "asset_ids = [1]\n",
    "freq = \"1T\"\n",
    "initial_price = 29000\n",
    "seed = 100,\n",
    "\n",
    "df = cfmadaex.generate_random_price_data(\n",
    "start_datetime,\n",
    "end_datetime,\n",
    "columns,\n",
    "asset_ids,\n",
    "freq=freq,\n",
    "initial_price=initial_price,\n",
    "seed=seed)\n",
    "\n",
    "df = df.set_index(\"timestamp_db\").drop(columns=[\"start_datetime\", \"end_datetime\", \"asset_id\"])\n",
    "df[\"rets\"] = cofinanc.compute_ret_0(df[[\"close\"]], \"pct_change\")\n",
    "df.head(3)"
   ]
  },
  {
   "cell_type": "code",
   "execution_count": null,
   "id": "fe3ada51",
   "metadata": {},
   "outputs": [],
   "source": [
    "df[[\"close\"]].plot(figsize=(15,7))\n",
    "df[[\"rets\"]].plot(figsize=(15,7))"
   ]
  },
  {
   "cell_type": "code",
   "execution_count": null,
   "id": "7aed1263",
   "metadata": {},
   "outputs": [],
   "source": [
    "fig = plt.figure(figsize=(15, 7))\n",
    "ax1 = fig.add_subplot(1, 1, 1)\n",
    "df['rets'].hist(bins=50, ax=ax1)\n",
    "ax1.set_xlabel('Return')\n",
    "ax1.set_ylabel('Sample')\n",
    "ax1.set_title('Return distribution')\n",
    "plt.show()"
   ]
  },
  {
   "cell_type": "markdown",
   "id": "9e0e3940",
   "metadata": {},
   "source": [
    "## Using `generate_random_bars`"
   ]
  },
  {
   "cell_type": "markdown",
   "id": "4e012253",
   "metadata": {},
   "source": [
    "Problems:\n",
    "- Strange outcomes"
   ]
  },
  {
   "cell_type": "code",
   "execution_count": null,
   "id": "aac94a7f",
   "metadata": {},
   "outputs": [],
   "source": [
    "start_datetime = pd.Timestamp(\"2021-01-01\")\n",
    "end_datetime = pd.Timestamp(\"2021-01-31\")\n",
    "\n",
    "df = cfmadaex.generate_random_bars(\n",
    "    start_datetime,\n",
    "    end_datetime,\n",
    "    asset_ids = [1,2],\n",
    ")\n",
    "\n",
    "df = df.set_index(\"timestamp_db\").drop(columns=[\"start_datetime\", \"end_datetime\"])\n",
    "df = dtfsysonod._convert_to_multiindex(df, \"asset_id\")\n",
    "df.head()"
   ]
  },
  {
   "cell_type": "code",
   "execution_count": null,
   "id": "ad8602ca",
   "metadata": {},
   "outputs": [],
   "source": [
    "df[\"close\"].plot(figsize=(15,7))"
   ]
  },
  {
   "cell_type": "code",
   "execution_count": null,
   "id": "373b8adf",
   "metadata": {},
   "outputs": [],
   "source": [
    "node_returns_config = {\n",
    "    \"in_col_groups\": [\n",
    "        (\"close\",),\n",
    "    ],\n",
    "    \"out_col_group\": (),\n",
    "    \"transformer_kwargs\": {\n",
    "        \"mode\": \"pct_change\",\n",
    "    },\n",
    "    \"col_mapping\": {\n",
    "        \"close\": \"close.ret_0\",\n",
    "    },\n",
    "}\n",
    "# Create the node that computes ret_0.\n",
    "nid = \"ret0\"\n",
    "node = dtfcore.GroupedColDfToDfTransformer(\n",
    "    nid,\n",
    "    transformer_func=cofinanc.compute_ret_0,\n",
    "    **node_returns_config,\n",
    ")\n",
    "# Compute the node on the data.\n",
    "rets = node.fit(df)\n",
    "rets[\"df_out\"].head(3)"
   ]
  },
  {
   "cell_type": "code",
   "execution_count": null,
   "id": "c86310f3",
   "metadata": {},
   "outputs": [],
   "source": [
    "rets[\"df_out\"][\"close.ret_0\"].plot(figsize=(15,7))"
   ]
  },
  {
   "cell_type": "markdown",
   "id": "9697e4c4",
   "metadata": {},
   "source": [
    "## Using returns directly (`get_gaussian_walk`)"
   ]
  },
  {
   "cell_type": "markdown",
   "id": "c42cd948",
   "metadata": {},
   "source": [
    "Seems correct"
   ]
  },
  {
   "cell_type": "code",
   "execution_count": null,
   "id": "d237df01",
   "metadata": {},
   "outputs": [],
   "source": [
    "drift = 0\n",
    "vol = 0.2\n",
    "size = 252\n",
    "seed = 10\n",
    "rets = carsigen.get_gaussian_walk(drift, vol, size, seed=seed).diff()"
   ]
  },
  {
   "cell_type": "code",
   "execution_count": null,
   "id": "04ae5604",
   "metadata": {},
   "outputs": [],
   "source": [
    "rets.plot()"
   ]
  },
  {
   "cell_type": "code",
   "execution_count": null,
   "id": "a8918cca",
   "metadata": {},
   "outputs": [],
   "source": [
    "fig = plt.figure(figsize=(15, 7))\n",
    "ax1 = fig.add_subplot(1, 1, 1)\n",
    "rets.hist(bins=100, ax=ax1)\n",
    "ax1.set_xlabel('Return')\n",
    "ax1.set_ylabel('Sample')\n",
    "ax1.set_title('Returns distribution')\n",
    "plt.show()"
   ]
  },
  {
   "cell_type": "markdown",
   "id": "ae375000",
   "metadata": {},
   "source": [
    "For each bar, generate random predictions with a given hit rate\n",
    "- Compute the hit rate to confirm\n",
    "- def hit_rate(y, y_hat):\n"
   ]
  },
  {
   "cell_type": "code",
   "execution_count": null,
   "id": "10969136",
   "metadata": {},
   "outputs": [],
   "source": [
    "rets_df = rets.to_frame().iloc[1:]\n",
    "rets_df.columns = [\"rets\"]\n",
    "\n",
    "# 0 -> price goes down\n",
    "# 1 -> price goes up\n",
    "rets_df[\"prediction\"] = np.random.randint(0, 2, rets_df.shape[0])\n",
    "# Get the difference to estimate the validity of prediciton.\n",
    "rets_df[\"diff\"] = rets_df.rets.diff()\n",
    "# Estimate the prediciton.\n",
    "rets_df[\"is_prediction_right\"] = ((rets_df[\"diff\"]>0)&(rets_df[\"prediction\"]==1))|((rets_df[\"diff\"]<0)&(rets_df[\"prediction\"]==0))\n",
    "# Get rid of unnecessary columns\n",
    "rets_df = rets_df.drop(columns=[\"diff\"])\n",
    "rets_df = rets_df.iloc[1:]"
   ]
  },
  {
   "cell_type": "code",
   "execution_count": null,
   "id": "f9ab0ee7",
   "metadata": {},
   "outputs": [],
   "source": [
    "rets_df"
   ]
  },
  {
   "cell_type": "code",
   "execution_count": null,
   "id": "6c6ab5e6",
   "metadata": {},
   "outputs": [],
   "source": [
    "print(f\"Hit Rate: {round(rets_df.is_prediction_right.sum()/rets_df.shape[0], 4)*100}%\")"
   ]
  },
  {
   "cell_type": "markdown",
   "id": "219d11b6",
   "metadata": {},
   "source": [
    "# Extract returns from the real data"
   ]
  },
  {
   "cell_type": "markdown",
   "id": "a4ce6c53",
   "metadata": {},
   "source": [
    "## Load BTC data from CC"
   ]
  },
  {
   "cell_type": "code",
   "execution_count": null,
   "id": "ebb8b876",
   "metadata": {},
   "outputs": [],
   "source": [
    "def get_exchange_currency_for_api_request(full_symbol: str) -> str:\n",
    "    \"\"\"\n",
    "    Returns `exchange_id` and `currency_pair` in a format for requests to cc\n",
    "    API.\n",
    "    \"\"\"\n",
    "    cc_exchange_id, cc_currency_pair = ivcu.parse_full_symbol(full_symbol)\n",
    "    cc_currency_pair = cc_currency_pair.lower().replace(\"_\", \"-\")\n",
    "    return cc_exchange_id, cc_currency_pair\n",
    "\n",
    "\n",
    "def load_crypto_chassis_ohlcv_for_one_symbol(full_symbol: str) -> pd.DataFrame:\n",
    "    \"\"\"\n",
    "    - Transform CK `full_symbol` to the `crypto-chassis` request format.\n",
    "    - Construct OHLCV data request for `crypto-chassis` API.\n",
    "    - Save the data as a DataFrame.\n",
    "    \"\"\"\n",
    "    # Deconstruct `full_symbol`.\n",
    "    cc_exchange_id, cc_currency_pair = get_exchange_currency_for_api_request(\n",
    "        full_symbol\n",
    "    )\n",
    "    # Build a request.\n",
    "    r = requests.get(\n",
    "        f\"https://api.cryptochassis.com/v1/ohlc/{cc_exchange_id}/{cc_currency_pair}?startTime=0\"\n",
    "    )\n",
    "    # Get url with data.\n",
    "    url = r.json()[\"historical\"][\"urls\"][0][\"url\"]\n",
    "    # Read the data.\n",
    "    df = pd.read_csv(url, compression=\"gzip\")\n",
    "    return df\n",
    "\n",
    "\n",
    "def apply_ohlcv_transformation(\n",
    "    df: pd.DataFrame,\n",
    "    full_symbol: str,\n",
    "    start_date: pd.Timestamp,\n",
    "    end_date: pd.Timestamp,\n",
    ") -> pd.DataFrame:\n",
    "    \"\"\"\n",
    "    The following transformations are applied:\n",
    "\n",
    "    - Convert `timestamps` to the usual format.\n",
    "    - Convert data columns to `float`.\n",
    "    - Add `full_symbol` column.\n",
    "    \"\"\"\n",
    "    # Convert `timestamps` to the usual format.\n",
    "    df = df.rename(columns={\"time_seconds\": \"timestamp\"})\n",
    "    df[\"timestamp\"] = df[\"timestamp\"].apply(\n",
    "        lambda x: hdateti.convert_unix_epoch_to_timestamp(x, unit=\"s\")\n",
    "    )\n",
    "    df = df.set_index(\"timestamp\")\n",
    "    # Convert to `float`.\n",
    "    for cols in df.columns:\n",
    "        df[cols] = df[cols].astype(float)\n",
    "    # Add `full_symbol`.\n",
    "    df[\"full_symbol\"] = full_symbol\n",
    "    # Note: I failed to put [start_time, end_time] to historical request.\n",
    "    # Now it loads all the available data.\n",
    "    # For that reason the time interval is hardcoded on this stage.\n",
    "    df = df.loc[(df.index >= start_date) & (df.index <= end_date)]\n",
    "    return df\n",
    "\n",
    "\n",
    "def read_crypto_chassis_ohlcv(\n",
    "    full_symbols: List[str], start_date: pd.Timestamp, end_date: pd.Timestamp\n",
    ") -> pd.DataFrame:\n",
    "    \"\"\"\n",
    "    - Load the raw data for one symbol.\n",
    "    - Convert it to CK format.\n",
    "    - Repeat the first two steps for all `full_symbols`.\n",
    "    - Concentrate them into unique DataFrame.\n",
    "    \"\"\"\n",
    "    result = []\n",
    "    for full_symbol in full_symbols:\n",
    "        # Load raw data.\n",
    "        df_raw = load_crypto_chassis_ohlcv_for_one_symbol(full_symbol)\n",
    "        # Process it to CK format.\n",
    "        df = apply_ohlcv_transformation(df_raw, full_symbol, start_date, end_date)\n",
    "        result.append(df)\n",
    "    final_df = pd.concat(result)\n",
    "    return final_df"
   ]
  },
  {
   "cell_type": "code",
   "execution_count": null,
   "id": "6cc984fc",
   "metadata": {},
   "outputs": [],
   "source": [
    "btc_df = read_crypto_chassis_ohlcv([\"binance::BTC_USDT\"], pd.Timestamp(\"2021-01-01\", tz=\"UTC\"), pd.Timestamp(\"2022-01-01\", tz=\"UTC\"))"
   ]
  },
  {
   "cell_type": "code",
   "execution_count": null,
   "id": "02ff3813",
   "metadata": {},
   "outputs": [],
   "source": [
    "# TODO(Max):\n",
    "\n",
    "# Save data locally.\n",
    "# Copy the data to /local/share/CMTask1709_...\n",
    "# Copy from central location to the client\n",
    "# Load data\n",
    "\n",
    "# Once Grisha is done, you can just save / load directly there but for now you can just load / save locally."
   ]
  },
  {
   "cell_type": "markdown",
   "id": "3f9358dd",
   "metadata": {},
   "source": [
    "## Process returns"
   ]
  },
  {
   "cell_type": "code",
   "execution_count": null,
   "id": "df7647fa",
   "metadata": {},
   "outputs": [],
   "source": [
    "btc = btc_df.copy()"
   ]
  },
  {
   "cell_type": "code",
   "execution_count": null,
   "id": "e056ddae",
   "metadata": {},
   "outputs": [],
   "source": [
    "btc[\"rets\"] = btc[\"close\"].pct_change()\n",
    "\n",
    "btc.describe()"
   ]
  },
  {
   "cell_type": "code",
   "execution_count": null,
   "id": "40e70299",
   "metadata": {},
   "outputs": [],
   "source": [
    "# Calculate returns.\n",
    "btc[\"rets\"] = btc[\"close\"].pct_change()\n",
    "# Rolling SMA for returns (with 100 periods loockback period).\n",
    "btc[\"rets_sma\"] = btc[\"rets\"].transform(lambda x: x.rolling(window=100).mean())\n",
    "# Substract SMA from returns to remove the upward trend.\n",
    "btc[\"rets_cleaned\"] = btc[\"rets\"] - btc[\"rets_sma\"]\n",
    "#btc[\"rets\"].plot()\n",
    "btc[\"rets_cleaned\"].plot()"
   ]
  },
  {
   "cell_type": "code",
   "execution_count": null,
   "id": "74533cea",
   "metadata": {},
   "outputs": [],
   "source": [
    "rets = btc[[\"rets\"]]\n",
    "\n",
    "# TODO(gp): Always use the dropna function that reports the number of nans removed\n",
    "rets = rets[rets.rets.notna()]"
   ]
  },
  {
   "cell_type": "code",
   "execution_count": null,
   "id": "7c2c7fe4",
   "metadata": {},
   "outputs": [],
   "source": [
    "fig = plt.figure(figsize=(15, 7))\n",
    "ax1 = fig.add_subplot(1, 1, 1)\n",
    "rets.hist(bins=300, ax=ax1)\n",
    "ax1.set_xlabel('Return')\n",
    "ax1.set_ylabel('Sample')\n",
    "ax1.set_title('Returns distribution')\n",
    "plt.show()"
   ]
  },
  {
   "cell_type": "code",
   "execution_count": null,
   "id": "23082333",
   "metadata": {},
   "outputs": [],
   "source": [
    "rets_df[\"rets\"]"
   ]
  },
  {
   "cell_type": "code",
   "execution_count": null,
   "id": "8615a55f",
   "metadata": {},
   "outputs": [],
   "source": [
    "import helpers.hdbg as hdbg\n",
    "\n",
    "# TODO(Max): Pass hit rate and \n",
    "def add_hit_rate(rets_df, hit_rate, seed):\n",
    "    hdbg.dassert_isinstance(rets_df, pd.DataFrame)\n",
    "    rets_df = rets_df.copy()\n",
    "    #rets_df.columns = [\"rets\"]\n",
    "\n",
    "    np.random.seed(seed)\n",
    "\n",
    "    # (-1) -> price goes down\n",
    "    # 1 -> price goes up\n",
    "    uniform = np.random.randint(0, 2, rets_df.shape[0])\n",
    "    #uniform = uniform - (2 * hit_rate - 1 - 0.5)\n",
    "    rets_df[\"prediction\"] = 2 * uniform - 1\n",
    "    # Get the difference to estimate the validity of prediciton.\n",
    "    #rets_df[\"diff\"] = rets_df.rets.diff()\n",
    "    # Estimate the prediciton.\n",
    "    #rets_df[\"hit\"] = ((rets_df[\"diff\"]>0)&(rets_df[\"prediction\"]==1))|((rets_df[\"diff\"]<0)&(rets_df[\"prediction\"]==-1))\n",
    "    rets_df[\"hit\"] = (rets_df[\"rets\"] * rets_df[\"prediction\"] >= 0)\n",
    "    # Get rid of unnecessary columns\n",
    "    #rets_df = rets_df.drop(columns=[\"diff\"])\n",
    "    #rets_df = rets_df.iloc[1:]\n",
    "\n",
    "    #rets_df.head(3)\n",
    "    return rets_df"
   ]
  },
  {
   "cell_type": "code",
   "execution_count": null,
   "id": "9c175643",
   "metadata": {},
   "outputs": [],
   "source": [
    "dd = add_hit_rate(rets_df, 0.7, 1)\n",
    "dd#print(rets_df[\"rets\"])"
   ]
  },
  {
   "cell_type": "code",
   "execution_count": null,
   "id": "8d536e51",
   "metadata": {},
   "outputs": [],
   "source": [
    "dd[\"hit\"].mean()"
   ]
  },
  {
   "cell_type": "code",
   "execution_count": null,
   "id": "6bce05a5",
   "metadata": {},
   "outputs": [],
   "source": [
    "import random"
   ]
  },
  {
   "cell_type": "code",
   "execution_count": null,
   "id": "1e9d45cd",
   "metadata": {},
   "outputs": [],
   "source": [
    "# X ~ U[-1, 1], E[X] = 0\n",
    "# hit_rate = 0\n",
    "\n",
    "#n = df.shape[0]\n",
    "def get_predictions(df, hit_rate, seed):\n",
    "    n = df.shape[0]\n",
    "    #hit_rate = 0.0\n",
    "\n",
    "    rets = df[\"rets\"].values\n",
    "    #rets = rets[:n]\n",
    "    #print(\"rets=\", rets)\n",
    "\n",
    "    # mask contains 1 for a desired hit and -1 for a miss.\n",
    "    num_hits = int((1 - hit_rate) * n)\n",
    "    mask = pd.Series(([-1] * num_hits) + ([1] * (n - num_hits)))\n",
    "\n",
    "    \n",
    "    random.shuffle(mask)\n",
    "    #print(\"mask=\", mask)\n",
    "    #print(mask.mean())\n",
    "\n",
    "    #print(\"sign(rets)=\", np.sign(rets))\n",
    "    #pred = pd.Series(np.sign(rets) * mask, index=df.index)\n",
    "    pred = pd.Series(np.sign(rets) * mask)\n",
    "    #print(\"pred=\", pred)\n",
    "\n",
    "    #hit_rate = (np.sign(pred * rets) >= 0).mean()\n",
    "    #print(hit_rate)\n",
    "\n",
    "    #print((pred * rets).mean())\n",
    "    pred.index = df.index\n",
    "    return pred"
   ]
  },
  {
   "cell_type": "code",
   "execution_count": null,
   "id": "560a13b8",
   "metadata": {},
   "outputs": [],
   "source": [
    "hit_rate = 0.8\n",
    "dd = btc.head(1000)"
   ]
  },
  {
   "cell_type": "code",
   "execution_count": null,
   "id": "c6c0bdf9",
   "metadata": {},
   "outputs": [],
   "source": [
    "dd[\"predictions\"] = get_predictions(dd, hit_rate, 10)\n",
    "dd = dd[[\"rets\", \"predictions\"]]\n",
    "dd[\"hit\"] = (dd[\"rets\"] * dd[\"predictions\"] >= 0)\n",
    "dd"
   ]
  },
  {
   "cell_type": "code",
   "execution_count": null,
   "id": "0e80ab24",
   "metadata": {},
   "outputs": [],
   "source": [
    "dd[\"hit\"].mean()"
   ]
  },
  {
   "cell_type": "code",
   "execution_count": null,
   "id": "6c99218d",
   "metadata": {},
   "outputs": [],
   "source": []
  },
  {
   "cell_type": "code",
   "execution_count": null,
   "id": "2adf4336",
   "metadata": {},
   "outputs": [],
   "source": []
  },
  {
   "cell_type": "code",
   "execution_count": null,
   "id": "175a75db",
   "metadata": {},
   "outputs": [],
   "source": [
    "def calculate_confidence_interval(hit_series, alpha, method):\n",
    "    \"\"\"\n",
    "    :param alpha: Significance level\n",
    "    :param method: \"normal\", \"agresti_coull\", \"beta\", \"wilson\", \"binom_test\"\n",
    "    \"\"\"\n",
    "    point_estimate = hit.mean()\n",
    "    hit_lower, hit_upper = statsmodels.stats.proportion.proportion_confint(\n",
    "        count=hit.sum(), nobs=hit.count(), alpha=alpha, method=method\n",
    "    )\n",
    "    result_values_pct = [100 * point_estimate, 100 * hit_lower, 100 * hit_upper]\n",
    "    conf_alpha = (1 - alpha / 2) * 100\n",
    "    print(f\"hit_rate: {result_values_pct[0]}\")\n",
    "    print(f\"hit_rate_lower_CI_({conf_alpha}%): {result_values_pct[1]}\")\n",
    "    print(f\"hit_rate_upper_CI_({conf_alpha}%): {result_values_pct[2]}\")"
   ]
  },
  {
   "cell_type": "code",
   "execution_count": null,
   "id": "bc164a0a",
   "metadata": {},
   "outputs": [],
   "source": [
    "# Calculate confidence intervals.\n",
    "hit = rets_df[\"hit\"]\n",
    "alpha = 0.05\n",
    "method = \"normal\"\n",
    "calculate_confidence_interval(hit, alpha, method)"
   ]
  },
  {
   "cell_type": "code",
   "execution_count": null,
   "id": "99236bd7",
   "metadata": {},
   "outputs": [],
   "source": [
    "# A model makes a prediction on the rets and then it's realized.\n",
    "pnl = (rets_df[\"prediction\"] * rets_df[\"rets\"]).cumsum()\n",
    "\n",
    "pnl.plot()"
   ]
  },
  {
   "cell_type": "code",
   "execution_count": null,
   "id": "eb9116f1",
   "metadata": {},
   "outputs": [],
   "source": [
    "# Relationship between hit rate and pnl"
   ]
  },
  {
   "cell_type": "code",
   "execution_count": null,
   "id": "87a6e090",
   "metadata": {},
   "outputs": [],
   "source": [
    "def compute_pnl(rets_df):\n",
    "    return (rets_df[\"prediction\"] * rets_df[\"rets\"]).sum()"
   ]
  },
  {
   "cell_type": "code",
   "execution_count": null,
   "id": "7a7edbe7",
   "metadata": {},
   "outputs": [],
   "source": [
    "compute_pnl(rets_df)"
   ]
  },
  {
   "cell_type": "code",
   "execution_count": null,
   "id": "4a05aff7",
   "metadata": {},
   "outputs": [],
   "source": [
    "print(rets_df)"
   ]
  },
  {
   "cell_type": "code",
   "execution_count": null,
   "id": "e39a7003",
   "metadata": {},
   "outputs": [],
   "source": [
    "# Number of experiments per value of hit rate.\n",
    "#n_experiment = 100\n",
    "n_experiment = 1\n",
    "# Every seed corresponds to a different \"model\".\n",
    "seed = 10\n",
    "results = {}\n",
    "for hit_rate in np.linspace(0.4, 0.6, num=3):\n",
    "    for i in range(n_experiment):\n",
    "        df_tmp = add_hit_rate(rets_df, hit_rate, seed)\n",
    "        hit_rate = df_tmp[\"hit\"].mean()\n",
    "        pnl = compute_pnl(df_tmp)\n",
    "        results[hit_rate].append(pnl)\n",
    "        print(hit_rate, pnl)\n",
    "        seed += 1\n",
    "        \n",
    "        \n",
    "# hit_rate -> pnls\n",
    "# 0.4 -> [0.1, 0.2, 0.3]\n",
    "# 0.5 -> []"
   ]
  },
  {
   "cell_type": "code",
   "execution_count": null,
   "id": "5c9e10d1",
   "metadata": {},
   "outputs": [],
   "source": [
    "# Step 1: split the notebooks in gallery and not\n",
    "# - gallery notebook with the first 2-3 sessions showing the functions\n",
    "# - 1709 contains only the good stuff\n",
    "# Step 2: \n",
    "# - clean up get_predictions() and add 1 unit test that checks the schema of df, freeze the output\n",
    "# Step 3:\n",
    "# - bootstrapping (montecarlo simulation) to compute pnl = f(hit_rate)"
   ]
  }
 ],
 "metadata": {
  "kernelspec": {
   "display_name": "Python 3 (ipykernel)",
   "language": "python",
   "name": "python3"
  },
  "language_info": {
   "codemirror_mode": {
    "name": "ipython",
    "version": 3
   },
   "file_extension": ".py",
   "mimetype": "text/x-python",
   "name": "python",
   "nbconvert_exporter": "python",
   "pygments_lexer": "ipython3"
  },
  "toc": {
   "base_numbering": 1,
   "nav_menu": {},
   "number_sections": true,
   "sideBar": true,
   "skip_h1_title": false,
   "title_cell": "Table of Contents",
   "title_sidebar": "Contents",
   "toc_cell": false,
   "toc_position": {},
   "toc_section_display": true,
   "toc_window_display": false
  }
 },
 "nbformat": 4,
 "nbformat_minor": 5
}
