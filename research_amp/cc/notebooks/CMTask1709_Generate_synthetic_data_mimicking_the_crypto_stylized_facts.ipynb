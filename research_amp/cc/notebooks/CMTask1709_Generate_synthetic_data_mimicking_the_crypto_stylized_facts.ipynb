{
 "cells": [
  {
   "cell_type": "markdown",
   "id": "584c5ce0",
   "metadata": {},
   "source": [
    "- Compute returns from the real data.\n",
    "- Pre-define the hit rate and calculate predictions, hits and confidence intervals.\n",
    "- Show PnL and Sharpe Ratio for the corresponding parameters.\n",
    "- Bootstrapping to compute pnl = f(hit_rate)."
   ]
  },
  {
   "cell_type": "markdown",
   "id": "9d4640cc",
   "metadata": {},
   "source": [
    "# Imports"
   ]
  },
  {
   "cell_type": "code",
   "execution_count": null,
   "id": "c7d74bce",
   "metadata": {},
   "outputs": [],
   "source": [
    "%load_ext autoreload\n",
    "%autoreload 2\n",
    "\n",
    "import logging\n",
    "\n",
    "import matplotlib.pyplot as plt\n",
    "import numpy as np\n",
    "import pandas as pd\n",
    "import scipy.stats as stats\n",
    "import seaborn as sns\n",
    "\n",
    "import core.config.config_ as cconconf\n",
    "import core.finance as cofinanc\n",
    "import core.finance.resampling as cfinresa\n",
    "import core.finance.tradability as cfintrad\n",
    "import core.plotting.misc_plotting as cplmiplo\n",
    "import core.statistics.sharpe_ratio as cstshrat\n",
    "import helpers.hdbg as hdbg\n",
    "import helpers.hpandas as hpandas\n",
    "import helpers.hprint as hprint"
   ]
  },
  {
   "cell_type": "code",
   "execution_count": null,
   "id": "21b46962",
   "metadata": {},
   "outputs": [],
   "source": [
    "hdbg.init_logger(verbosity=logging.INFO)\n",
    "\n",
    "_LOG = logging.getLogger(__name__)\n",
    "\n",
    "hprint.config_notebook()"
   ]
  },
  {
   "cell_type": "markdown",
   "id": "021a5913",
   "metadata": {},
   "source": [
    "# Config"
   ]
  },
  {
   "cell_type": "code",
   "execution_count": null,
   "id": "2c61e047",
   "metadata": {},
   "outputs": [],
   "source": [
    "def get_synthetic_data_config() -> cconconf.Config:\n",
    "    \"\"\"\n",
    "    Get config that specifies params for analysis.\n",
    "    \"\"\"\n",
    "    config = cconconf.Config()\n",
    "    # Data parameters.\n",
    "    config.add_subconfig(\"data\")\n",
    "    # Reference price to calculate returns.\n",
    "    config[\"data\"][\"reference_price\"] = \"close\"\n",
    "    # Returns mode: 'pct_change','log_rets' or 'diff'.\n",
    "    config[\"data\"][\"rets_mode\"] = \"pct_change\"\n",
    "    # Check returns for an analysis: raw ('rets') or cleaned ('rets_cleaned').\n",
    "    config[\"data\"][\"rets_col\"] = \"rets_cleaned\"\n",
    "    # Choose the timeframe for resampling.\n",
    "    config[\"data\"][\"resampling_rule\"] = \"5T\"\n",
    "    # Number of periods for returns normalization.\n",
    "    config[\"data\"][\"lookback_in_samples\"] = 100\n",
    "    return config"
   ]
  },
  {
   "cell_type": "code",
   "execution_count": null,
   "id": "91ae90d8",
   "metadata": {},
   "outputs": [],
   "source": [
    "config = get_synthetic_data_config()\n",
    "print(config)"
   ]
  },
  {
   "cell_type": "markdown",
   "id": "e516da79",
   "metadata": {},
   "source": [
    "# Functions"
   ]
  },
  {
   "cell_type": "code",
   "execution_count": null,
   "id": "5c65e123",
   "metadata": {},
   "outputs": [],
   "source": [
    "def compute_normalize_returns(\n",
    "    df: pd.DataFrame,\n",
    "    price_col: str,\n",
    "    rets_mode: str,\n",
    "    lookback: int,\n",
    "    rets_col: str,\n",
    "    plot_rets: bool,\n",
    ") -> pd.DataFrame:\n",
    "    \"\"\"\n",
    "    Calculate simple returns as well as normalized ones and plot the results.\n",
    "\n",
    "    :param df: OHLCV data\n",
    "    :param price_col: Price column that will be used to calculate returns\n",
    "    :param rets_mode: \"pct_change\", \"log_rets\" or \"diff\"\n",
    "    :param lookback: Number of periods for returns normalization\n",
    "    :param rets_col: Column to plot (\"rets\" or \"rets_cleaned\")\n",
    "    :param plot_rets: Whether or not plot returns\n",
    "    :return: OHLCV data with returns and normalized returns\n",
    "    \"\"\"\n",
    "    # Compute returns.\n",
    "    df[\"rets\"] = cofinanc.compute_ret_0(df[price_col], rets_mode)\n",
    "    # Normalize returns.\n",
    "    df[\"rets_cleaned\"] = df[\"rets\"]\n",
    "    # Demean step.\n",
    "    df[\"rets_cleaned\"] -= df[\"rets_cleaned\"].rolling(lookback).mean()\n",
    "    # Risk adjustment.\n",
    "    df[\"rets_cleaned\"] /= df[\"rets_cleaned\"].rolling(lookback).std()\n",
    "    # Remove NaNs.\n",
    "    df = hpandas.dropna(df, report_stats=True)\n",
    "    if plot_rets:\n",
    "        df[rets_col].plot()\n",
    "    return df"
   ]
  },
  {
   "cell_type": "markdown",
   "id": "219d11b6",
   "metadata": {},
   "source": [
    "# Extract returns from the real data"
   ]
  },
  {
   "cell_type": "markdown",
   "id": "a4ce6c53",
   "metadata": {},
   "source": [
    "## Load BTC data from `crypto-chassis` (shared_data folder)"
   ]
  },
  {
   "cell_type": "code",
   "execution_count": null,
   "id": "8889cea2",
   "metadata": {},
   "outputs": [],
   "source": [
    "btc_df = pd.read_csv(\"/shared_data/BTC_one_year.csv\", index_col=\"timestamp\")\n",
    "ohlcv_cols = [\n",
    "    \"open\",\n",
    "    \"high\",\n",
    "    \"low\",\n",
    "    \"close\",\n",
    "    \"volume\",\n",
    "]\n",
    "btc_df.index = pd.to_datetime(btc_df.index)\n",
    "btc_df = btc_df[ohlcv_cols]\n",
    "btc_df.head(3)"
   ]
  },
  {
   "cell_type": "markdown",
   "id": "3f9358dd",
   "metadata": {},
   "source": [
    "## Process returns"
   ]
  },
  {
   "cell_type": "code",
   "execution_count": null,
   "id": "64aa0bbf",
   "metadata": {
    "run_control": {
     "marked": false
    }
   },
   "outputs": [],
   "source": [
    "btc = btc_df.copy()\n",
    "# Specify params.\n",
    "price_col = config[\"data\"][\"reference_price\"]\n",
    "rets_mode = config[\"data\"][\"rets_mode\"]\n",
    "rets_col = config[\"data\"][\"rets_col\"]\n",
    "lookback_in_samples = config[\"data\"][\"lookback_in_samples\"]\n",
    "resampling_rule = config[\"data\"][\"resampling_rule\"]\n",
    "# Resample.\n",
    "btc = cfinresa.resample_ohlcv_bars(btc, resampling_rule)\n",
    "# Add returns.\n",
    "btc = compute_normalize_returns(\n",
    "    btc, price_col, rets_mode, lookback_in_samples, rets_col, plot_rets=True\n",
    ")\n",
    "# Show snippet.\n",
    "display(btc.head())"
   ]
  },
  {
   "cell_type": "code",
   "execution_count": null,
   "id": "4cda7f16",
   "metadata": {},
   "outputs": [],
   "source": [
    "# Show the distribution of returns.\n",
    "rets_col = config[\"data\"][\"rets_col\"]\n",
    "sns.displot(btc, x=rets_col)"
   ]
  },
  {
   "cell_type": "markdown",
   "id": "84e2cd67",
   "metadata": {},
   "source": [
    "# Pre-defined Predictions, Hit Rates and Confidence Interval"
   ]
  },
  {
   "cell_type": "code",
   "execution_count": null,
   "id": "4dc17226",
   "metadata": {},
   "outputs": [],
   "source": [
    "# Specify params.\n",
    "sample = btc\n",
    "ret_col = config[\"data\"][\"rets_col\"]\n",
    "hit_rate = 0.505\n",
    "seed = 2\n",
    "alpha = 0.05\n",
    "method = \"normal\"\n",
    "# Calculate and attach `predictions` and `hit` to the OHLCV data.\n",
    "btc[[\"rets_cleaned\", \"predictions\", \"hit\"]] = cfintrad.get_predictions_and_hits(\n",
    "    sample, ret_col, hit_rate, seed\n",
    ")\n",
    "display(btc.tail(3))\n",
    "# Shpw CI stats.\n",
    "cfintrad.calculate_confidence_interval(btc[\"hit\"], alpha, method)"
   ]
  },
  {
   "cell_type": "code",
   "execution_count": null,
   "id": "00035521",
   "metadata": {},
   "outputs": [],
   "source": [
    "## Show PnL for the current `hit_rate`\n",
    "pnl = (btc[\"predictions\"] * btc[ret_col]).cumsum()\n",
    "pnl = pnl[pnl.notna()]\n",
    "cplmiplo.plot_cumulative_returns(pnl, mode=\"pct\")\n",
    "# Sharpe ratio.\n",
    "cstshrat.summarize_sharpe_ratio(pnl)"
   ]
  },
  {
   "cell_type": "markdown",
   "id": "243bc2de",
   "metadata": {},
   "source": [
    "# PnL as a function of `hit_rate`"
   ]
  },
  {
   "cell_type": "code",
   "execution_count": null,
   "id": "f64e420f",
   "metadata": {},
   "outputs": [],
   "source": [
    "# Specify params.\n",
    "sample = btc\n",
    "rets_col = config[\"data\"][\"rets_col\"]\n",
    "hit_rates = np.linspace(0.4, 0.6, num=10)\n",
    "n_experiment = 10\n",
    "# Perform the simulattion.\n",
    "pnls = cfintrad.simulate_pnls_for_set_of_hit_rates(\n",
    "    sample, rets_col, hit_rates, n_experiment\n",
    ")"
   ]
  },
  {
   "cell_type": "code",
   "execution_count": null,
   "id": "f5d2e3d6",
   "metadata": {
    "run_control": {
     "marked": false
    }
   },
   "outputs": [],
   "source": [
    "hit_pnl_df = pd.DataFrame(pnls.items(), columns=[\"hit_rate\", \"PnL\"])\n",
    "sns.scatterplot(data=hit_pnl_df, x=\"hit_rate\", y=\"PnL\")"
   ]
  },
  {
   "cell_type": "code",
   "execution_count": null,
   "id": "8a221e29",
   "metadata": {},
   "outputs": [],
   "source": [
    "x = hit_pnl_df[\"hit_rate\"]\n",
    "y = hit_pnl_df[\"PnL\"]\n",
    "\n",
    "ols_results = stats.linregress(x, y)\n",
    "print(f\"R-squared = {ols_results.rvalue**2:.4f}\")\n",
    "plt.plot(x, y, \"o\", label=\"original data\")\n",
    "plt.plot(\n",
    "    x, ols_results.intercept + ols_results.slope * x, \"r\", label=\"fitted line\"\n",
    ")\n",
    "plt.legend()\n",
    "plt.show()"
   ]
  }
 ],
 "metadata": {
  "kernelspec": {
   "display_name": "Python 3 (ipykernel)",
   "language": "python",
   "name": "python3"
  },
  "language_info": {
   "codemirror_mode": {
    "name": "ipython",
    "version": 3
   },
   "file_extension": ".py",
   "mimetype": "text/x-python",
   "name": "python",
   "nbconvert_exporter": "python",
   "pygments_lexer": "ipython3"
  },
  "toc": {
   "base_numbering": 1,
   "nav_menu": {},
   "number_sections": true,
   "sideBar": true,
   "skip_h1_title": false,
   "title_cell": "Table of Contents",
   "title_sidebar": "Contents",
   "toc_cell": false,
   "toc_position": {},
   "toc_section_display": true,
   "toc_window_display": false
  }
 },
 "nbformat": 4,
 "nbformat_minor": 5
}
