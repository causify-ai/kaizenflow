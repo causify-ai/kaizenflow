{
 "cells": [
  {
   "cell_type": "markdown",
   "id": "edd520a4",
   "metadata": {},
   "source": [
    "Compute random returns as Gaussians or t-distributions"
   ]
  },
  {
   "cell_type": "markdown",
   "id": "aa3c592e",
   "metadata": {},
   "source": [
    "# Imports"
   ]
  },
  {
   "cell_type": "code",
   "execution_count": 1,
   "id": "fe7077b7",
   "metadata": {
    "ExecuteTime": {
     "end_time": "2022-05-05T18:21:40.360055Z",
     "start_time": "2022-05-05T18:21:36.285215Z"
    }
   },
   "outputs": [
    {
     "name": "stderr",
     "output_type": "stream",
     "text": [
      "/app/amp/dataflow/core/dag.py:15: TqdmExperimentalWarning: Using `tqdm.autonotebook.tqdm` in notebook mode. Use `tqdm.tqdm` instead to force console mode (e.g. in jupyter console)\n",
      "  from tqdm.autonotebook import tqdm\n"
     ]
    }
   ],
   "source": [
    "import core.finance.market_data_example as cfmadaex\n",
    "from typing import List\n",
    "import im_v2.common.universe as ivcu\n",
    "import requests\n",
    "import helpers.hdatetime as hdateti\n",
    "import statsmodels\n",
    "\n",
    "import pandas as pd\n",
    "import numpy as np\n",
    "import matplotlib.pyplot as plt\n",
    "import core.finance as cofinanc\n",
    "import dataflow.core as dtfcore\n",
    "import dataflow.system.source_nodes as dtfsysonod\n",
    "import core.artificial_signal_generators as carsigen"
   ]
  },
  {
   "cell_type": "markdown",
   "id": "edfa6f52",
   "metadata": {},
   "source": [
    "# Generate the data"
   ]
  },
  {
   "cell_type": "markdown",
   "id": "cd5a0052",
   "metadata": {},
   "source": [
    "## Using `generate_random_price_data` for multiple assets"
   ]
  },
  {
   "cell_type": "markdown",
   "id": "6a7ca52c",
   "metadata": {},
   "source": [
    "Problems:\n",
    "- Generating prices are the same for all assets\n",
    "- Distribution of returns is not normal"
   ]
  },
  {
   "cell_type": "code",
   "execution_count": null,
   "id": "4abda97b",
   "metadata": {
    "ExecuteTime": {
     "end_time": "2022-05-05T15:47:07.652421Z",
     "start_time": "2022-05-05T15:47:07.585996Z"
    }
   },
   "outputs": [],
   "source": [
    "start_datetime = pd.Timestamp(\"2021-01-01\")\n",
    "end_datetime = pd.Timestamp(\"2021-01-31\")\n",
    "columns = [\"close\"]\n",
    "asset_ids = list(range(2))\n",
    "freq = \"1T\"\n",
    "initial_price = 29000\n",
    "seed = 100,\n",
    "\n",
    "df = cfmadaex.generate_random_price_data(\n",
    "start_datetime,\n",
    "end_datetime,\n",
    "columns,\n",
    "asset_ids,\n",
    "freq=freq,\n",
    "initial_price=initial_price,\n",
    "seed=seed)\n",
    "\n",
    "df = df.set_index(\"timestamp_db\").drop(columns=[\"start_datetime\", \"end_datetime\"])\n",
    "df = dtfsysonod._convert_to_multiindex(df, \"asset_id\")\n",
    "df.head()"
   ]
  },
  {
   "cell_type": "code",
   "execution_count": null,
   "id": "cd1ec2f5",
   "metadata": {
    "ExecuteTime": {
     "end_time": "2022-05-05T15:47:07.685178Z",
     "start_time": "2022-05-05T15:47:07.654645Z"
    }
   },
   "outputs": [],
   "source": [
    "node_returns_config = {\n",
    "    \"in_col_groups\": [\n",
    "        (\"close\",),\n",
    "    ],\n",
    "    \"out_col_group\": (),\n",
    "    \"transformer_kwargs\": {\n",
    "        \"mode\": \"pct_change\",\n",
    "    },\n",
    "    \"col_mapping\": {\n",
    "        \"close\": \"close.ret_0\",\n",
    "    },\n",
    "}\n",
    "# Create the node that computes ret_0.\n",
    "nid = \"ret0\"\n",
    "node = dtfcore.GroupedColDfToDfTransformer(\n",
    "    nid,\n",
    "    transformer_func=cofinanc.compute_ret_0,\n",
    "    **node_returns_config,\n",
    ")\n",
    "# Compute the node on the data.\n",
    "rets = node.fit(df)"
   ]
  },
  {
   "cell_type": "code",
   "execution_count": null,
   "id": "d8dbb1ad",
   "metadata": {
    "ExecuteTime": {
     "end_time": "2022-05-05T15:47:07.701432Z",
     "start_time": "2022-05-05T15:47:07.689450Z"
    }
   },
   "outputs": [],
   "source": [
    "df = rets[\"df_out\"]\n",
    "df.head(5)"
   ]
  },
  {
   "cell_type": "code",
   "execution_count": null,
   "id": "89d8de02",
   "metadata": {
    "ExecuteTime": {
     "end_time": "2022-05-05T15:47:08.351260Z",
     "start_time": "2022-05-05T15:47:07.703717Z"
    }
   },
   "outputs": [],
   "source": [
    "df.swaplevel(axis=1)[0][[\"close\"]].plot(figsize=(15,7))"
   ]
  },
  {
   "cell_type": "markdown",
   "id": "c8f5f97d",
   "metadata": {},
   "source": [
    "## Using `generate_random_price_data` for one asset"
   ]
  },
  {
   "cell_type": "markdown",
   "id": "e747a5aa",
   "metadata": {},
   "source": [
    "Problems:\n",
    "- Distribution of returns is not normal"
   ]
  },
  {
   "cell_type": "code",
   "execution_count": null,
   "id": "1a78cbe5",
   "metadata": {
    "ExecuteTime": {
     "end_time": "2022-05-05T15:47:08.380496Z",
     "start_time": "2022-05-05T15:47:08.353315Z"
    }
   },
   "outputs": [],
   "source": [
    "start_datetime = pd.Timestamp(\"2021-01-01\")\n",
    "end_datetime = pd.Timestamp(\"2021-01-31\")\n",
    "columns = [\"close\"]\n",
    "asset_ids = [1]\n",
    "freq = \"1T\"\n",
    "initial_price = 29000\n",
    "seed = 100,\n",
    "\n",
    "df = cfmadaex.generate_random_price_data(\n",
    "start_datetime,\n",
    "end_datetime,\n",
    "columns,\n",
    "asset_ids,\n",
    "freq=freq,\n",
    "initial_price=initial_price,\n",
    "seed=seed)\n",
    "\n",
    "df = df.set_index(\"timestamp_db\").drop(columns=[\"start_datetime\", \"end_datetime\", \"asset_id\"])\n",
    "df[\"rets\"] = cofinanc.compute_ret_0(df[[\"close\"]], \"pct_change\")\n",
    "df.head(3)"
   ]
  },
  {
   "cell_type": "code",
   "execution_count": null,
   "id": "be47b1bc",
   "metadata": {
    "ExecuteTime": {
     "end_time": "2022-05-05T15:47:10.700498Z",
     "start_time": "2022-05-05T15:47:08.382160Z"
    }
   },
   "outputs": [],
   "source": [
    "df[[\"close\"]].plot(figsize=(15,7))\n",
    "df[[\"rets\"]].plot(figsize=(15,7))"
   ]
  },
  {
   "cell_type": "code",
   "execution_count": null,
   "id": "205e62f1",
   "metadata": {
    "ExecuteTime": {
     "end_time": "2022-05-05T15:47:10.949841Z",
     "start_time": "2022-05-05T15:47:10.702666Z"
    }
   },
   "outputs": [],
   "source": [
    "fig = plt.figure(figsize=(15, 7))\n",
    "ax1 = fig.add_subplot(1, 1, 1)\n",
    "df['rets'].hist(bins=50, ax=ax1)\n",
    "ax1.set_xlabel('Return')\n",
    "ax1.set_ylabel('Sample')\n",
    "ax1.set_title('Return distribution')\n",
    "plt.show()"
   ]
  },
  {
   "cell_type": "markdown",
   "id": "a9f514b1",
   "metadata": {},
   "source": [
    "## Using `generate_random_bars`"
   ]
  },
  {
   "cell_type": "markdown",
   "id": "1979b07c",
   "metadata": {},
   "source": [
    "Problems:\n",
    "- Strange outcomes"
   ]
  },
  {
   "cell_type": "code",
   "execution_count": null,
   "id": "2d211537",
   "metadata": {
    "ExecuteTime": {
     "end_time": "2022-05-05T15:47:11.438227Z",
     "start_time": "2022-05-05T15:47:10.952197Z"
    },
    "run_control": {
     "marked": false
    }
   },
   "outputs": [],
   "source": [
    "start_datetime = pd.Timestamp(\"2021-01-01\")\n",
    "end_datetime = pd.Timestamp(\"2021-01-31\")\n",
    "\n",
    "df = cfmadaex.generate_random_bars(\n",
    "    start_datetime,\n",
    "    end_datetime,\n",
    "    asset_ids = [1,2],\n",
    ")\n",
    "\n",
    "df = df.set_index(\"timestamp_db\").drop(columns=[\"start_datetime\", \"end_datetime\"])\n",
    "df = dtfsysonod._convert_to_multiindex(df, \"asset_id\")\n",
    "df.head()"
   ]
  },
  {
   "cell_type": "code",
   "execution_count": null,
   "id": "a8981048",
   "metadata": {
    "ExecuteTime": {
     "end_time": "2022-05-05T15:47:11.699524Z",
     "start_time": "2022-05-05T15:47:11.441863Z"
    }
   },
   "outputs": [],
   "source": [
    "df[\"close\"].plot(figsize=(15,7))"
   ]
  },
  {
   "cell_type": "code",
   "execution_count": null,
   "id": "0a17f796",
   "metadata": {
    "ExecuteTime": {
     "end_time": "2022-05-05T15:47:11.747497Z",
     "start_time": "2022-05-05T15:47:11.701627Z"
    }
   },
   "outputs": [],
   "source": [
    "node_returns_config = {\n",
    "    \"in_col_groups\": [\n",
    "        (\"close\",),\n",
    "    ],\n",
    "    \"out_col_group\": (),\n",
    "    \"transformer_kwargs\": {\n",
    "        \"mode\": \"pct_change\",\n",
    "    },\n",
    "    \"col_mapping\": {\n",
    "        \"close\": \"close.ret_0\",\n",
    "    },\n",
    "}\n",
    "# Create the node that computes ret_0.\n",
    "nid = \"ret0\"\n",
    "node = dtfcore.GroupedColDfToDfTransformer(\n",
    "    nid,\n",
    "    transformer_func=cofinanc.compute_ret_0,\n",
    "    **node_returns_config,\n",
    ")\n",
    "# Compute the node on the data.\n",
    "rets = node.fit(df)\n",
    "rets[\"df_out\"].head(3)"
   ]
  },
  {
   "cell_type": "code",
   "execution_count": null,
   "id": "7b805cbe",
   "metadata": {
    "ExecuteTime": {
     "end_time": "2022-05-05T15:47:12.137069Z",
     "start_time": "2022-05-05T15:47:11.749632Z"
    }
   },
   "outputs": [],
   "source": [
    "rets[\"df_out\"][\"close.ret_0\"].plot(figsize=(15,7))"
   ]
  },
  {
   "cell_type": "markdown",
   "id": "c74c7ad7",
   "metadata": {},
   "source": [
    "## Using returns directly (`get_gaussian_walk`)"
   ]
  },
  {
   "cell_type": "markdown",
   "id": "c5be1cb2",
   "metadata": {},
   "source": [
    "Seems correct"
   ]
  },
  {
   "cell_type": "code",
   "execution_count": null,
   "id": "bc45c503",
   "metadata": {
    "ExecuteTime": {
     "end_time": "2022-05-05T15:47:12.142333Z",
     "start_time": "2022-05-05T15:47:12.138727Z"
    }
   },
   "outputs": [],
   "source": [
    "drift = 0\n",
    "vol = 0.2\n",
    "size = 252\n",
    "seed = 10\n",
    "rets = carsigen.get_gaussian_walk(drift, vol, size, seed=seed).diff()"
   ]
  },
  {
   "cell_type": "code",
   "execution_count": null,
   "id": "7475e530",
   "metadata": {
    "ExecuteTime": {
     "end_time": "2022-05-05T15:47:12.261494Z",
     "start_time": "2022-05-05T15:47:12.144330Z"
    }
   },
   "outputs": [],
   "source": [
    "rets.plot()"
   ]
  },
  {
   "cell_type": "code",
   "execution_count": null,
   "id": "bfd5af24",
   "metadata": {
    "ExecuteTime": {
     "end_time": "2022-05-05T15:47:12.718034Z",
     "start_time": "2022-05-05T15:47:12.263240Z"
    }
   },
   "outputs": [],
   "source": [
    "fig = plt.figure(figsize=(15, 7))\n",
    "ax1 = fig.add_subplot(1, 1, 1)\n",
    "rets.hist(bins=100, ax=ax1)\n",
    "ax1.set_xlabel('Return')\n",
    "ax1.set_ylabel('Sample')\n",
    "ax1.set_title('Returns distribution')\n",
    "plt.show()"
   ]
  },
  {
   "cell_type": "markdown",
   "id": "51015b9e",
   "metadata": {},
   "source": [
    "For each bar, generate random predictions with a given hit rate\n",
    "- Compute the hit rate to confirm\n",
    "- def hit_rate(y, y_hat):\n"
   ]
  },
  {
   "cell_type": "code",
   "execution_count": null,
   "id": "ce6e9895",
   "metadata": {
    "ExecuteTime": {
     "end_time": "2022-05-05T15:47:12.729037Z",
     "start_time": "2022-05-05T15:47:12.720203Z"
    }
   },
   "outputs": [],
   "source": [
    "rets_df = rets.to_frame().iloc[1:]\n",
    "rets_df.columns = [\"rets\"]\n",
    "\n",
    "# 0 -> price goes down\n",
    "# 1 -> price goes up\n",
    "rets_df[\"prediction\"] = np.random.randint(0, 2, rets_df.shape[0])\n",
    "# Get the difference to estimate the validity of prediciton.\n",
    "rets_df[\"diff\"] = rets_df.rets.diff()\n",
    "# Estimate the prediciton.\n",
    "rets_df[\"is_prediction_right\"] = ((rets_df[\"diff\"]>0)&(rets_df[\"prediction\"]==1))|((rets_df[\"diff\"]<0)&(rets_df[\"prediction\"]==0))\n",
    "# Get rid of unnecessary columns\n",
    "rets_df = rets_df.drop(columns=[\"diff\"])\n",
    "rets_df = rets_df.iloc[1:]"
   ]
  },
  {
   "cell_type": "code",
   "execution_count": null,
   "id": "3219eb42",
   "metadata": {
    "ExecuteTime": {
     "end_time": "2022-05-05T15:47:12.740200Z",
     "start_time": "2022-05-05T15:47:12.730841Z"
    },
    "scrolled": false
   },
   "outputs": [],
   "source": [
    "rets_df"
   ]
  },
  {
   "cell_type": "code",
   "execution_count": null,
   "id": "7564d735",
   "metadata": {
    "ExecuteTime": {
     "end_time": "2022-05-05T15:47:12.746437Z",
     "start_time": "2022-05-05T15:47:12.742165Z"
    }
   },
   "outputs": [],
   "source": [
    "print(f\"Hit Rate: {round(rets_df.is_prediction_right.sum()/rets_df.shape[0], 4)*100}%\")"
   ]
  },
  {
   "cell_type": "markdown",
   "id": "e433b60b",
   "metadata": {},
   "source": [
    "# Extract returns from the real data"
   ]
  },
  {
   "cell_type": "markdown",
   "id": "281c288c",
   "metadata": {},
   "source": [
    "## Load BTC data from CC"
   ]
  },
  {
   "cell_type": "code",
<<<<<<< HEAD
   "execution_count": 41,
   "id": "35b6063a",
=======
   "execution_count": 2,
   "id": "3468907c",
>>>>>>> 1e425dddecb081e1bfe4f5a9250817cdde120845
   "metadata": {
    "ExecuteTime": {
     "end_time": "2022-05-05T18:21:43.621860Z",
     "start_time": "2022-05-05T18:21:43.609479Z"
    }
   },
   "outputs": [],
   "source": [
    "def get_exchange_currency_for_api_request(full_symbol: str) -> str:\n",
    "    \"\"\"\n",
    "    Returns `exchange_id` and `currency_pair` in a format for requests to cc\n",
    "    API.\n",
    "    \"\"\"\n",
    "    cc_exchange_id, cc_currency_pair = ivcu.parse_full_symbol(full_symbol)\n",
    "    cc_currency_pair = cc_currency_pair.lower().replace(\"_\", \"-\")\n",
    "    return cc_exchange_id, cc_currency_pair\n",
    "\n",
    "\n",
    "def load_crypto_chassis_ohlcv_for_one_symbol(full_symbol: str) -> pd.DataFrame:\n",
    "    \"\"\"\n",
    "    - Transform CK `full_symbol` to the `crypto-chassis` request format.\n",
    "    - Construct OHLCV data request for `crypto-chassis` API.\n",
    "    - Save the data as a DataFrame.\n",
    "    \"\"\"\n",
    "    # Deconstruct `full_symbol`.\n",
    "    cc_exchange_id, cc_currency_pair = get_exchange_currency_for_api_request(\n",
    "        full_symbol\n",
    "    )\n",
    "    # Build a request.\n",
    "    r = requests.get(\n",
    "        f\"https://api.cryptochassis.com/v1/ohlc/{cc_exchange_id}/{cc_currency_pair}?startTime=0\"\n",
    "    )\n",
    "    # Get url with data.\n",
    "    url = r.json()[\"historical\"][\"urls\"][0][\"url\"]\n",
    "    # Read the data.\n",
    "    df = pd.read_csv(url, compression=\"gzip\")\n",
    "    return df\n",
    "\n",
    "\n",
    "def apply_ohlcv_transformation(\n",
    "    df: pd.DataFrame,\n",
    "    full_symbol: str,\n",
    "    start_date: pd.Timestamp,\n",
    "    end_date: pd.Timestamp,\n",
    ") -> pd.DataFrame:\n",
    "    \"\"\"\n",
    "    The following transformations are applied:\n",
    "\n",
    "    - Convert `timestamps` to the usual format.\n",
    "    - Convert data columns to `float`.\n",
    "    - Add `full_symbol` column.\n",
    "    \"\"\"\n",
    "    # Convert `timestamps` to the usual format.\n",
    "    df = df.rename(columns={\"time_seconds\": \"timestamp\"})\n",
    "    df[\"timestamp\"] = df[\"timestamp\"].apply(\n",
    "        lambda x: hdateti.convert_unix_epoch_to_timestamp(x, unit=\"s\")\n",
    "    )\n",
    "    df = df.set_index(\"timestamp\")\n",
    "    # Convert to `float`.\n",
    "    for cols in df.columns:\n",
    "        df[cols] = df[cols].astype(float)\n",
    "    # Add `full_symbol`.\n",
    "    df[\"full_symbol\"] = full_symbol\n",
    "    # Note: I failed to put [start_time, end_time] to historical request.\n",
    "    # Now it loads all the available data.\n",
    "    # For that reason the time interval is hardcoded on this stage.\n",
    "    df = df.loc[(df.index >= start_date) & (df.index <= end_date)]\n",
    "    return df\n",
    "\n",
    "\n",
    "def read_crypto_chassis_ohlcv(\n",
    "    full_symbols: List[str], start_date: pd.Timestamp, end_date: pd.Timestamp\n",
    ") -> pd.DataFrame:\n",
    "    \"\"\"\n",
    "    - Load the raw data for one symbol.\n",
    "    - Convert it to CK format.\n",
    "    - Repeat the first two steps for all `full_symbols`.\n",
    "    - Concentrate them into unique DataFrame.\n",
    "    \"\"\"\n",
    "    result = []\n",
    "    for full_symbol in full_symbols:\n",
    "        # Load raw data.\n",
    "        df_raw = load_crypto_chassis_ohlcv_for_one_symbol(full_symbol)\n",
    "        # Process it to CK format.\n",
    "        df = apply_ohlcv_transformation(df_raw, full_symbol, start_date, end_date)\n",
    "        result.append(df)\n",
    "    final_df = pd.concat(result)\n",
    "    return final_df"
   ]
  },
  {
   "cell_type": "code",
<<<<<<< HEAD
   "execution_count": 42,
   "id": "6424d938",
=======
   "execution_count": 3,
   "id": "f696b985",
>>>>>>> 1e425dddecb081e1bfe4f5a9250817cdde120845
   "metadata": {
    "ExecuteTime": {
     "end_time": "2022-05-05T18:22:54.238840Z",
     "start_time": "2022-05-05T18:21:48.191710Z"
    }
   },
   "outputs": [],
   "source": [
    "btc_df = read_crypto_chassis_ohlcv([\"binance::BTC_USDT\"], pd.Timestamp(\"2021-01-01\", tz=\"UTC\"), pd.Timestamp(\"2022-01-01\", tz=\"UTC\"))"
   ]
  },
  {
   "cell_type": "code",
   "execution_count": null,
   "id": "18f2e305",
   "metadata": {},
   "outputs": [],
   "source": [
    "# TODO(Max):\n",
    "\n",
    "# Save data locally.\n",
    "# Copy the data to /local/share/CMTask1709_...\n",
    "# Copy from central location to the client\n",
    "# Load data\n",
    "\n",
    "# Once Grisha is done, you can just save / load directly there but for now you can just load / save locally."
   ]
  },
  {
   "cell_type": "markdown",
   "id": "517a921d",
   "metadata": {},
   "source": [
    "## Process returns"
   ]
  },
  {
   "cell_type": "code",
<<<<<<< HEAD
   "execution_count": 80,
   "id": "81c1333f",
=======
   "execution_count": 4,
   "id": "d6c33beb",
>>>>>>> 1e425dddecb081e1bfe4f5a9250817cdde120845
   "metadata": {
    "ExecuteTime": {
     "end_time": "2022-05-05T18:23:58.383955Z",
     "start_time": "2022-05-05T18:23:58.371547Z"
    }
   },
   "outputs": [],
   "source": [
    "btc = btc_df.copy()"
   ]
  },
  {
   "cell_type": "code",
<<<<<<< HEAD
   "execution_count": 136,
   "id": "081d1efe",
=======
   "execution_count": 8,
   "id": "d4aa902a",
   "metadata": {
    "ExecuteTime": {
     "end_time": "2022-05-05T18:24:54.521475Z",
     "start_time": "2022-05-05T18:24:54.220919Z"
    }
   },
   "outputs": [
    {
     "data": {
      "text/html": [
       "<div>\n",
       "<style scoped>\n",
       "    .dataframe tbody tr th:only-of-type {\n",
       "        vertical-align: middle;\n",
       "    }\n",
       "\n",
       "    .dataframe tbody tr th {\n",
       "        vertical-align: top;\n",
       "    }\n",
       "\n",
       "    .dataframe thead th {\n",
       "        text-align: right;\n",
       "    }\n",
       "</style>\n",
       "<table border=\"1\" class=\"dataframe\">\n",
       "  <thead>\n",
       "    <tr style=\"text-align: right;\">\n",
       "      <th></th>\n",
       "      <th>open</th>\n",
       "      <th>high</th>\n",
       "      <th>low</th>\n",
       "      <th>close</th>\n",
       "      <th>volume</th>\n",
       "      <th>vwap</th>\n",
       "      <th>number_of_trades</th>\n",
       "      <th>twap</th>\n",
       "      <th>rets</th>\n",
       "      <th>rets_sma</th>\n",
       "      <th>rets_cleaned</th>\n",
       "    </tr>\n",
       "  </thead>\n",
       "  <tbody>\n",
       "    <tr>\n",
       "      <th>count</th>\n",
       "      <td>523537.000000</td>\n",
       "      <td>523537.000000</td>\n",
       "      <td>523537.000000</td>\n",
       "      <td>523537.00000</td>\n",
       "      <td>523537.000000</td>\n",
       "      <td>523537.000000</td>\n",
       "      <td>523537.000000</td>\n",
       "      <td>523537.000000</td>\n",
       "      <td>523536.000000</td>\n",
       "      <td>523437.000000</td>\n",
       "      <td>5.234370e+05</td>\n",
       "    </tr>\n",
       "    <tr>\n",
       "      <th>mean</th>\n",
       "      <td>47369.058419</td>\n",
       "      <td>47404.845011</td>\n",
       "      <td>47333.324414</td>\n",
       "      <td>47369.08593</td>\n",
       "      <td>48.560333</td>\n",
       "      <td>47369.057444</td>\n",
       "      <td>1193.916590</td>\n",
       "      <td>47369.137555</td>\n",
       "      <td>0.000002</td>\n",
       "      <td>0.000002</td>\n",
       "      <td>-2.893108e-08</td>\n",
       "    </tr>\n",
       "    <tr>\n",
       "      <th>std</th>\n",
       "      <td>9824.546569</td>\n",
       "      <td>9824.497183</td>\n",
       "      <td>9824.029718</td>\n",
       "      <td>9824.51818</td>\n",
       "      <td>64.114569</td>\n",
       "      <td>9824.359366</td>\n",
       "      <td>1148.210014</td>\n",
       "      <td>9824.357273</td>\n",
       "      <td>0.001318</td>\n",
       "      <td>0.000120</td>\n",
       "      <td>1.311134e-03</td>\n",
       "    </tr>\n",
       "    <tr>\n",
       "      <th>min</th>\n",
       "      <td>28241.950000</td>\n",
       "      <td>28764.230000</td>\n",
       "      <td>28130.000000</td>\n",
       "      <td>28235.47000</td>\n",
       "      <td>0.307140</td>\n",
       "      <td>28495.266200</td>\n",
       "      <td>10.000000</td>\n",
       "      <td>28488.876600</td>\n",
       "      <td>-0.057989</td>\n",
       "      <td>-0.002291</td>\n",
       "      <td>-5.658418e-02</td>\n",
       "    </tr>\n",
       "    <tr>\n",
       "      <th>25%</th>\n",
       "      <td>38046.070000</td>\n",
       "      <td>38089.240000</td>\n",
       "      <td>38001.830000</td>\n",
       "      <td>38045.56000</td>\n",
       "      <td>18.255610</td>\n",
       "      <td>38043.092300</td>\n",
       "      <td>582.000000</td>\n",
       "      <td>38044.324900</td>\n",
       "      <td>-0.000575</td>\n",
       "      <td>-0.000052</td>\n",
       "      <td>-5.784465e-04</td>\n",
       "    </tr>\n",
       "    <tr>\n",
       "      <th>50%</th>\n",
       "      <td>47910.790000</td>\n",
       "      <td>47942.000000</td>\n",
       "      <td>47879.310000</td>\n",
       "      <td>47910.76000</td>\n",
       "      <td>30.916196</td>\n",
       "      <td>47910.184500</td>\n",
       "      <td>902.000000</td>\n",
       "      <td>47910.465300</td>\n",
       "      <td>-0.000002</td>\n",
       "      <td>0.000002</td>\n",
       "      <td>-1.248905e-05</td>\n",
       "    </tr>\n",
       "    <tr>\n",
       "      <th>75%</th>\n",
       "      <td>56213.640000</td>\n",
       "      <td>56254.790000</td>\n",
       "      <td>56172.360000</td>\n",
       "      <td>56213.49000</td>\n",
       "      <td>54.671720</td>\n",
       "      <td>56213.778200</td>\n",
       "      <td>1416.000000</td>\n",
       "      <td>56214.157000</td>\n",
       "      <td>0.000564</td>\n",
       "      <td>0.000056</td>\n",
       "      <td>5.561424e-04</td>\n",
       "    </tr>\n",
       "    <tr>\n",
       "      <th>max</th>\n",
       "      <td>69000.000000</td>\n",
       "      <td>69000.000000</td>\n",
       "      <td>68786.700000</td>\n",
       "      <td>69000.00000</td>\n",
       "      <td>2636.713888</td>\n",
       "      <td>68929.637000</td>\n",
       "      <td>41646.000000</td>\n",
       "      <td>68905.603000</td>\n",
       "      <td>0.051124</td>\n",
       "      <td>0.001977</td>\n",
       "      <td>5.199669e-02</td>\n",
       "    </tr>\n",
       "  </tbody>\n",
       "</table>\n",
       "</div>"
      ],
      "text/plain": [
       "                open           high            low         close  \\\n",
       "count  523537.000000  523537.000000  523537.000000  523537.00000   \n",
       "mean    47369.058419   47404.845011   47333.324414   47369.08593   \n",
       "std      9824.546569    9824.497183    9824.029718    9824.51818   \n",
       "min     28241.950000   28764.230000   28130.000000   28235.47000   \n",
       "25%     38046.070000   38089.240000   38001.830000   38045.56000   \n",
       "50%     47910.790000   47942.000000   47879.310000   47910.76000   \n",
       "75%     56213.640000   56254.790000   56172.360000   56213.49000   \n",
       "max     69000.000000   69000.000000   68786.700000   69000.00000   \n",
       "\n",
       "              volume           vwap  number_of_trades           twap  \\\n",
       "count  523537.000000  523537.000000     523537.000000  523537.000000   \n",
       "mean       48.560333   47369.057444       1193.916590   47369.137555   \n",
       "std        64.114569    9824.359366       1148.210014    9824.357273   \n",
       "min         0.307140   28495.266200         10.000000   28488.876600   \n",
       "25%        18.255610   38043.092300        582.000000   38044.324900   \n",
       "50%        30.916196   47910.184500        902.000000   47910.465300   \n",
       "75%        54.671720   56213.778200       1416.000000   56214.157000   \n",
       "max      2636.713888   68929.637000      41646.000000   68905.603000   \n",
       "\n",
       "                rets       rets_sma  rets_cleaned  \n",
       "count  523536.000000  523437.000000  5.234370e+05  \n",
       "mean        0.000002       0.000002 -2.893108e-08  \n",
       "std         0.001318       0.000120  1.311134e-03  \n",
       "min        -0.057989      -0.002291 -5.658418e-02  \n",
       "25%        -0.000575      -0.000052 -5.784465e-04  \n",
       "50%        -0.000002       0.000002 -1.248905e-05  \n",
       "75%         0.000564       0.000056  5.561424e-04  \n",
       "max         0.051124       0.001977  5.199669e-02  "
      ]
     },
     "execution_count": 8,
     "metadata": {},
     "output_type": "execute_result"
    }
   ],
   "source": [
    "btc[\"rets\"] = btc[\"close\"].pct_change()\n",
    "\n",
    "btc.describe()"
   ]
  },
  {
   "cell_type": "code",
   "execution_count": 7,
   "id": "41413b2c",
>>>>>>> 1e425dddecb081e1bfe4f5a9250817cdde120845
   "metadata": {
    "ExecuteTime": {
     "end_time": "2022-05-05T18:24:52.203559Z",
     "start_time": "2022-05-05T18:24:50.934850Z"
    },
    "run_control": {
     "marked": false
    }
   },
   "outputs": [
    {
     "data": {
      "text/plain": [
       "<AxesSubplot:xlabel='timestamp'>"
      ]
     },
     "execution_count": 7,
     "metadata": {},
     "output_type": "execute_result"
    },
    {
     "data": {
      "image/png": "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\n",
      "text/plain": [
       "<Figure size 432x288 with 1 Axes>"
      ]
     },
     "metadata": {
      "needs_background": "light"
     },
     "output_type": "display_data"
    }
   ],
   "source": [
    "# Calculate returns.\n",
    "btc[\"rets\"] = btc[\"close\"].pct_change()\n",
    "# Rolling SMA for returns (with 100 periods loockback period).\n",
    "btc[\"rets_sma\"] = btc[\"rets\"].transform(lambda x: x.rolling(window=100).mean())\n",
    "# Substract SMA from returns to remove the upward trend.\n",
    "btc[\"rets_cleaned\"] = btc[\"rets\"] - btc[\"rets_sma\"]\n",
    "#btc[\"rets\"].plot()\n",
    "btc[\"rets_cleaned\"].plot()"
   ]
  },
  {
   "cell_type": "code",
<<<<<<< HEAD
   "execution_count": 145,
   "id": "7a648ad0",
   "metadata": {
    "ExecuteTime": {
     "end_time": "2022-05-05T16:48:41.792198Z",
     "start_time": "2022-05-05T16:48:41.784264Z"
=======
   "execution_count": 10,
   "id": "bf3da2b8",
   "metadata": {
    "ExecuteTime": {
     "end_time": "2022-05-05T18:25:29.467483Z",
     "start_time": "2022-05-05T18:25:29.451451Z"
>>>>>>> 1e425dddecb081e1bfe4f5a9250817cdde120845
    }
   },
   "outputs": [],
   "source": [
<<<<<<< HEAD
    "rets = btc[[\"rets_cleaned\"]]\n",
    "rets = rets[rets.notna()]"
=======
    "rets = btc[[\"rets\"]]\n",
    "\n",
    "# TODO(gp): Always use the dropna function that reports the number of nans removed\n",
    "rets = rets[rets.rets.notna()]"
>>>>>>> 1e425dddecb081e1bfe4f5a9250817cdde120845
   ]
  },
  {
   "cell_type": "code",
<<<<<<< HEAD
   "execution_count": 146,
   "id": "f60f4556",
   "metadata": {
    "ExecuteTime": {
     "end_time": "2022-05-05T16:48:44.470688Z",
     "start_time": "2022-05-05T16:48:43.854397Z"
=======
   "execution_count": 11,
   "id": "73a9a7b7",
   "metadata": {
    "ExecuteTime": {
     "end_time": "2022-05-05T18:25:34.994407Z",
     "start_time": "2022-05-05T18:25:34.024588Z"
>>>>>>> 1e425dddecb081e1bfe4f5a9250817cdde120845
    },
    "run_control": {
     "marked": false
    }
   },
   "outputs": [
    {
     "data": {
      "image/png": "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\n",
      "text/plain": [
       "<Figure size 1080x504 with 1 Axes>"
      ]
     },
     "metadata": {
      "needs_background": "light"
     },
     "output_type": "display_data"
    }
   ],
   "source": [
    "fig = plt.figure(figsize=(15, 7))\n",
    "ax1 = fig.add_subplot(1, 1, 1)\n",
    "rets.hist(bins=300, ax=ax1)\n",
    "ax1.set_xlabel('Return')\n",
    "ax1.set_ylabel('Sample')\n",
    "ax1.set_title('Returns distribution')\n",
    "plt.show()"
   ]
  },
  {
   "cell_type": "code",
<<<<<<< HEAD
   "execution_count": 147,
   "id": "8fa7504d",
   "metadata": {
    "ExecuteTime": {
     "end_time": "2022-05-05T16:48:46.898727Z",
     "start_time": "2022-05-05T16:48:46.874508Z"
=======
   "execution_count": 15,
   "id": "787b7f34",
   "metadata": {
    "ExecuteTime": {
     "end_time": "2022-05-05T18:26:40.839281Z",
     "start_time": "2022-05-05T18:26:40.831197Z"
    }
   },
   "outputs": [
    {
     "data": {
      "text/plain": [
       "timestamp\n",
       "2021-01-01 00:02:00+00:00   -0.000710\n",
       "2021-01-01 00:03:00+00:00   -0.000228\n",
       "2021-01-01 00:04:00+00:00   -0.000243\n",
       "2021-01-01 00:05:00+00:00   -0.001330\n",
       "2021-01-01 00:06:00+00:00    0.000234\n",
       "                               ...   \n",
       "2021-12-31 23:56:00+00:00   -0.000058\n",
       "2021-12-31 23:57:00+00:00   -0.000035\n",
       "2021-12-31 23:58:00+00:00   -0.001341\n",
       "2021-12-31 23:59:00+00:00    0.000663\n",
       "2022-01-01 00:00:00+00:00    0.000716\n",
       "Name: rets, Length: 523535, dtype: float64"
      ]
     },
     "execution_count": 15,
     "metadata": {},
     "output_type": "execute_result"
    }
   ],
   "source": [
    "rets_df[\"rets\"]"
   ]
  },
  {
   "cell_type": "code",
   "execution_count": 103,
   "id": "31049ed1",
   "metadata": {
    "ExecuteTime": {
     "end_time": "2022-05-05T18:57:30.076587Z",
     "start_time": "2022-05-05T18:57:30.070792Z"
>>>>>>> 1e425dddecb081e1bfe4f5a9250817cdde120845
    }
   },
   "outputs": [],
   "source": [
    "import helpers.hdbg as hdbg\n",
    "\n",
    "# TODO(Max): Pass hit rate and \n",
    "def add_hit_rate(rets_df, hit_rate, seed):\n",
    "    hdbg.dassert_isinstance(rets_df, pd.DataFrame)\n",
    "    rets_df = rets_df.copy()\n",
    "    #rets_df.columns = [\"rets\"]\n",
    "\n",
    "    np.random.seed(seed)\n",
    "\n",
    "    # (-1) -> price goes down\n",
    "    # 1 -> price goes up\n",
    "    uniform = np.random.randint(0, 2, rets_df.shape[0])\n",
    "    #uniform = uniform - (2 * hit_rate - 1 - 0.5)\n",
    "    rets_df[\"prediction\"] = 2 * uniform - 1\n",
    "    # Get the difference to estimate the validity of prediciton.\n",
    "    #rets_df[\"diff\"] = rets_df.rets.diff()\n",
    "    # Estimate the prediciton.\n",
    "    #rets_df[\"hit\"] = ((rets_df[\"diff\"]>0)&(rets_df[\"prediction\"]==1))|((rets_df[\"diff\"]<0)&(rets_df[\"prediction\"]==-1))\n",
    "    rets_df[\"hit\"] = (rets_df[\"rets\"] * rets_df[\"prediction\"] >= 0)\n",
    "    # Get rid of unnecessary columns\n",
    "    #rets_df = rets_df.drop(columns=[\"diff\"])\n",
    "    #rets_df = rets_df.iloc[1:]\n",
    "\n",
    "    #rets_df.head(3)\n",
    "    return rets_df"
   ]
  },
  {
   "cell_type": "code",
<<<<<<< HEAD
   "execution_count": 148,
   "id": "7ef458ae",
   "metadata": {
    "ExecuteTime": {
     "end_time": "2022-05-05T16:48:47.429388Z",
     "start_time": "2022-05-05T16:48:47.419646Z"
=======
   "execution_count": 105,
   "id": "73382684",
   "metadata": {
    "ExecuteTime": {
     "end_time": "2022-05-05T18:57:43.168781Z",
     "start_time": "2022-05-05T18:57:43.145973Z"
>>>>>>> 1e425dddecb081e1bfe4f5a9250817cdde120845
    }
   },
   "outputs": [
    {
     "data": {
      "text/html": [
       "<div>\n",
       "<style scoped>\n",
       "    .dataframe tbody tr th:only-of-type {\n",
       "        vertical-align: middle;\n",
       "    }\n",
       "\n",
       "    .dataframe tbody tr th {\n",
       "        vertical-align: top;\n",
       "    }\n",
       "\n",
       "    .dataframe thead th {\n",
       "        text-align: right;\n",
       "    }\n",
       "</style>\n",
       "<table border=\"1\" class=\"dataframe\">\n",
       "  <thead>\n",
       "    <tr style=\"text-align: right;\">\n",
       "      <th></th>\n",
       "      <th>rets</th>\n",
       "      <th>prediction</th>\n",
       "      <th>hit</th>\n",
       "    </tr>\n",
       "    <tr>\n",
       "      <th>timestamp</th>\n",
       "      <th></th>\n",
       "      <th></th>\n",
       "      <th></th>\n",
       "    </tr>\n",
       "  </thead>\n",
       "  <tbody>\n",
       "    <tr>\n",
       "      <th>2021-01-01 00:01:00+00:00</th>\n",
       "      <td>NaN</td>\n",
       "      <td>-1</td>\n",
       "      <td>False</td>\n",
       "    </tr>\n",
       "    <tr>\n",
       "      <th>2021-01-01 00:02:00+00:00</th>\n",
<<<<<<< HEAD
       "      <td>NaN</td>\n",
       "      <td>-1</td>\n",
=======
       "      <td>-0.000710</td>\n",
       "      <td>2.0</td>\n",
>>>>>>> 1e425dddecb081e1bfe4f5a9250817cdde120845
       "      <td>False</td>\n",
       "    </tr>\n",
       "    <tr>\n",
       "      <th>2021-01-01 00:03:00+00:00</th>\n",
<<<<<<< HEAD
       "      <td>NaN</td>\n",
       "      <td>-1</td>\n",
=======
       "      <td>-0.000228</td>\n",
       "      <td>2.0</td>\n",
>>>>>>> 1e425dddecb081e1bfe4f5a9250817cdde120845
       "      <td>False</td>\n",
       "    </tr>\n",
       "    <tr>\n",
       "      <th>2021-01-01 00:04:00+00:00</th>\n",
<<<<<<< HEAD
       "      <td>NaN</td>\n",
       "      <td>1</td>\n",
       "      <td>False</td>\n",
       "    </tr>\n",
       "    <tr>\n",
       "      <th>2021-01-01 00:05:00+00:00</th>\n",
       "      <td>NaN</td>\n",
       "      <td>-1</td>\n",
       "      <td>False</td>\n",
=======
       "      <td>-0.000243</td>\n",
       "      <td>0.0</td>\n",
       "      <td>True</td>\n",
       "    </tr>\n",
       "    <tr>\n",
       "      <th>2021-01-01 00:05:00+00:00</th>\n",
       "      <td>-0.001330</td>\n",
       "      <td>0.0</td>\n",
       "      <td>True</td>\n",
       "    </tr>\n",
       "    <tr>\n",
       "      <th>2021-01-01 00:06:00+00:00</th>\n",
       "      <td>0.000234</td>\n",
       "      <td>2.0</td>\n",
       "      <td>True</td>\n",
>>>>>>> 1e425dddecb081e1bfe4f5a9250817cdde120845
       "    </tr>\n",
       "    <tr>\n",
       "      <th>...</th>\n",
       "      <td>...</td>\n",
       "      <td>...</td>\n",
       "      <td>...</td>\n",
       "    </tr>\n",
       "    <tr>\n",
       "      <th>2021-12-31 23:56:00+00:00</th>\n",
<<<<<<< HEAD
       "      <td>3.551063e-07</td>\n",
       "      <td>1</td>\n",
=======
       "      <td>-0.000058</td>\n",
       "      <td>0.0</td>\n",
>>>>>>> 1e425dddecb081e1bfe4f5a9250817cdde120845
       "      <td>True</td>\n",
       "    </tr>\n",
       "    <tr>\n",
       "      <th>2021-12-31 23:57:00+00:00</th>\n",
<<<<<<< HEAD
       "      <td>8.961691e-06</td>\n",
       "      <td>1</td>\n",
=======
       "      <td>-0.000035</td>\n",
       "      <td>0.0</td>\n",
>>>>>>> 1e425dddecb081e1bfe4f5a9250817cdde120845
       "      <td>True</td>\n",
       "    </tr>\n",
       "    <tr>\n",
       "      <th>2021-12-31 23:58:00+00:00</th>\n",
<<<<<<< HEAD
       "      <td>-1.284236e-03</td>\n",
       "      <td>-1</td>\n",
=======
       "      <td>-0.001341</td>\n",
       "      <td>0.0</td>\n",
>>>>>>> 1e425dddecb081e1bfe4f5a9250817cdde120845
       "      <td>True</td>\n",
       "    </tr>\n",
       "    <tr>\n",
       "      <th>2021-12-31 23:59:00+00:00</th>\n",
<<<<<<< HEAD
       "      <td>7.029283e-04</td>\n",
       "      <td>1</td>\n",
=======
       "      <td>0.000663</td>\n",
       "      <td>0.0</td>\n",
>>>>>>> 1e425dddecb081e1bfe4f5a9250817cdde120845
       "      <td>True</td>\n",
       "    </tr>\n",
       "    <tr>\n",
       "      <th>2022-01-01 00:00:00+00:00</th>\n",
<<<<<<< HEAD
       "      <td>7.557340e-04</td>\n",
       "      <td>1</td>\n",
=======
       "      <td>0.000716</td>\n",
       "      <td>0.0</td>\n",
>>>>>>> 1e425dddecb081e1bfe4f5a9250817cdde120845
       "      <td>True</td>\n",
       "    </tr>\n",
       "  </tbody>\n",
       "</table>\n",
       "<p>523536 rows × 3 columns</p>\n",
       "</div>"
      ],
      "text/plain": [
<<<<<<< HEAD
       "                                   rets  prediction    hit\n",
       "timestamp                                                 \n",
       "2021-01-01 00:01:00+00:00           NaN          -1  False\n",
       "2021-01-01 00:02:00+00:00           NaN          -1  False\n",
       "2021-01-01 00:03:00+00:00           NaN          -1  False\n",
       "2021-01-01 00:04:00+00:00           NaN           1  False\n",
       "2021-01-01 00:05:00+00:00           NaN          -1  False\n",
       "...                                 ...         ...    ...\n",
       "2021-12-31 23:56:00+00:00  3.551063e-07           1   True\n",
       "2021-12-31 23:57:00+00:00  8.961691e-06           1   True\n",
       "2021-12-31 23:58:00+00:00 -1.284236e-03          -1   True\n",
       "2021-12-31 23:59:00+00:00  7.029283e-04           1   True\n",
       "2022-01-01 00:00:00+00:00  7.557340e-04           1   True\n",
=======
       "                               rets  prediction    hit\n",
       "timestamp                                             \n",
       "2021-01-01 00:02:00+00:00 -0.000710         2.0  False\n",
       "2021-01-01 00:03:00+00:00 -0.000228         2.0  False\n",
       "2021-01-01 00:04:00+00:00 -0.000243         0.0   True\n",
       "2021-01-01 00:05:00+00:00 -0.001330         0.0   True\n",
       "2021-01-01 00:06:00+00:00  0.000234         2.0   True\n",
       "...                             ...         ...    ...\n",
       "2021-12-31 23:56:00+00:00 -0.000058         0.0   True\n",
       "2021-12-31 23:57:00+00:00 -0.000035         0.0   True\n",
       "2021-12-31 23:58:00+00:00 -0.001341         0.0   True\n",
       "2021-12-31 23:59:00+00:00  0.000663         0.0   True\n",
       "2022-01-01 00:00:00+00:00  0.000716         0.0   True\n",
>>>>>>> 1e425dddecb081e1bfe4f5a9250817cdde120845
       "\n",
       "[523536 rows x 3 columns]"
      ]
     },
<<<<<<< HEAD
     "execution_count": 148,
=======
     "execution_count": 105,
>>>>>>> 1e425dddecb081e1bfe4f5a9250817cdde120845
     "metadata": {},
     "output_type": "execute_result"
    }
   ],
   "source": [
    "add_hit_rate(rets_df, 0.5, 1)\n",
    "#print(rets_df[\"rets\"])"
   ]
  },
  {
   "cell_type": "code",
   "execution_count": 138,
   "id": "199f3909",
   "metadata": {
    "ExecuteTime": {
     "end_time": "2022-05-05T19:06:44.292387Z",
     "start_time": "2022-05-05T19:06:44.287228Z"
    }
   },
   "outputs": [],
   "source": [
    "# X ~ U[-1, 1], E[X] = 0\n",
    "# hit_rate = 0\n",
    "\n",
    "#n = rets_df.shape[0]\n",
    "def get_predictions(rets_df, hit_rate, seed):\n",
    "    n = rets_df.shape[0]\n",
    "    #hit_rate = 0.0\n",
    "\n",
    "    rets = rets_df[\"rets\"].values\n",
    "    #rets = rets[:n]\n",
    "    #print(\"rets=\", rets)\n",
    "\n",
    "    # mask contains 1 for a desired hit and -1 for a miss.\n",
    "    num_hits = int((1 - hit_rate) * n)\n",
    "    mask = pd.Series(([-1] * num_hits) + ([1] * (n - num_hits)))\n",
    "\n",
    "    import random\n",
    "    random.shuffle(mask)\n",
    "    #print(\"mask=\", mask)\n",
    "    #print(mask.mean())\n",
    "\n",
    "    #print(\"sign(rets)=\", np.sign(rets))\n",
    "    #pred = pd.Series(np.sign(rets) * mask, index=rets_df.index)\n",
    "    pred = pd.Series(np.sign(rets) * mask)\n",
    "    #print(\"pred=\", pred)\n",
    "\n",
    "    #hit_rate = (np.sign(pred * rets) >= 0).mean()\n",
    "    #print(hit_rate)\n",
    "\n",
    "    #print((pred * rets).mean())\n",
    "    return pred"
   ]
  },
  {
   "cell_type": "code",
   "execution_count": 127,
   "id": "f1a0c7fd",
   "metadata": {
    "ExecuteTime": {
     "end_time": "2022-05-05T19:04:36.697029Z",
     "start_time": "2022-05-05T19:04:36.692388Z"
    }
   },
   "outputs": [
    {
     "data": {
      "text/plain": [
       "array([-0.00071045, -0.00022802, -0.0002429 , -0.00133008,  0.00023361,\n",
       "       -0.00031198])"
      ]
     },
     "execution_count": 127,
     "metadata": {},
     "output_type": "execute_result"
    }
   ],
   "source": [
    "rets"
   ]
  },
  {
   "cell_type": "code",
   "execution_count": 145,
   "id": "0c7f5029",
   "metadata": {
    "ExecuteTime": {
     "end_time": "2022-05-05T19:07:35.514144Z",
     "start_time": "2022-05-05T19:07:35.365454Z"
    }
   },
   "outputs": [
    {
     "ename": "ValueError",
     "evalue": "Length of values (1000) does not match length of index (523535)",
     "output_type": "error",
     "traceback": [
      "\u001b[0;31m---------------------------------------------------------------------------\u001b[0m",
      "\u001b[0;31mValueError\u001b[0m                                Traceback (most recent call last)",
      "Input \u001b[0;32mIn [145]\u001b[0m, in \u001b[0;36m<cell line: 1>\u001b[0;34m()\u001b[0m\n\u001b[0;32m----> 1\u001b[0m \u001b[43mpd\u001b[49m\u001b[38;5;241;43m.\u001b[39;49m\u001b[43mSeries\u001b[49m\u001b[43m(\u001b[49m\u001b[43mpreds\u001b[49m\u001b[38;5;241;43m.\u001b[39;49m\u001b[43mvalues\u001b[49m\u001b[43m,\u001b[49m\u001b[43m \u001b[49m\u001b[43mindex\u001b[49m\u001b[38;5;241;43m=\u001b[39;49m\u001b[43mrets_df\u001b[49m\u001b[38;5;241;43m.\u001b[39;49m\u001b[43mindex\u001b[49m\u001b[43m)\u001b[49m\n",
      "File \u001b[0;32m/venv/lib/python3.8/site-packages/pandas/core/series.py:442\u001b[0m, in \u001b[0;36mSeries.__init__\u001b[0;34m(self, data, index, dtype, name, copy, fastpath)\u001b[0m\n\u001b[1;32m    440\u001b[0m     index \u001b[38;5;241m=\u001b[39m default_index(\u001b[38;5;28mlen\u001b[39m(data))\n\u001b[1;32m    441\u001b[0m \u001b[38;5;28;01melif\u001b[39;00m is_list_like(data):\n\u001b[0;32m--> 442\u001b[0m     \u001b[43mcom\u001b[49m\u001b[38;5;241;43m.\u001b[39;49m\u001b[43mrequire_length_match\u001b[49m\u001b[43m(\u001b[49m\u001b[43mdata\u001b[49m\u001b[43m,\u001b[49m\u001b[43m \u001b[49m\u001b[43mindex\u001b[49m\u001b[43m)\u001b[49m\n\u001b[1;32m    444\u001b[0m \u001b[38;5;66;03m# create/copy the manager\u001b[39;00m\n\u001b[1;32m    445\u001b[0m \u001b[38;5;28;01mif\u001b[39;00m \u001b[38;5;28misinstance\u001b[39m(data, (SingleBlockManager, SingleArrayManager)):\n",
      "File \u001b[0;32m/venv/lib/python3.8/site-packages/pandas/core/common.py:557\u001b[0m, in \u001b[0;36mrequire_length_match\u001b[0;34m(data, index)\u001b[0m\n\u001b[1;32m    553\u001b[0m \u001b[38;5;124;03m\"\"\"\u001b[39;00m\n\u001b[1;32m    554\u001b[0m \u001b[38;5;124;03mCheck the length of data matches the length of the index.\u001b[39;00m\n\u001b[1;32m    555\u001b[0m \u001b[38;5;124;03m\"\"\"\u001b[39;00m\n\u001b[1;32m    556\u001b[0m \u001b[38;5;28;01mif\u001b[39;00m \u001b[38;5;28mlen\u001b[39m(data) \u001b[38;5;241m!=\u001b[39m \u001b[38;5;28mlen\u001b[39m(index):\n\u001b[0;32m--> 557\u001b[0m     \u001b[38;5;28;01mraise\u001b[39;00m \u001b[38;5;167;01mValueError\u001b[39;00m(\n\u001b[1;32m    558\u001b[0m         \u001b[38;5;124m\"\u001b[39m\u001b[38;5;124mLength of values \u001b[39m\u001b[38;5;124m\"\u001b[39m\n\u001b[1;32m    559\u001b[0m         \u001b[38;5;124mf\u001b[39m\u001b[38;5;124m\"\u001b[39m\u001b[38;5;124m(\u001b[39m\u001b[38;5;132;01m{\u001b[39;00m\u001b[38;5;28mlen\u001b[39m(data)\u001b[38;5;132;01m}\u001b[39;00m\u001b[38;5;124m) \u001b[39m\u001b[38;5;124m\"\u001b[39m\n\u001b[1;32m    560\u001b[0m         \u001b[38;5;124m\"\u001b[39m\u001b[38;5;124mdoes not match length of index \u001b[39m\u001b[38;5;124m\"\u001b[39m\n\u001b[1;32m    561\u001b[0m         \u001b[38;5;124mf\u001b[39m\u001b[38;5;124m\"\u001b[39m\u001b[38;5;124m(\u001b[39m\u001b[38;5;132;01m{\u001b[39;00m\u001b[38;5;28mlen\u001b[39m(index)\u001b[38;5;132;01m}\u001b[39;00m\u001b[38;5;124m)\u001b[39m\u001b[38;5;124m\"\u001b[39m\n\u001b[1;32m    562\u001b[0m     )\n",
      "\u001b[0;31mValueError\u001b[0m: Length of values (1000) does not match length of index (523535)"
     ]
    }
   ],
   "source": [
    "pd.Series(preds, index=rets_df.index)"
   ]
  },
  {
   "cell_type": "code",
   "execution_count": 140,
   "id": "5e6e0263",
   "metadata": {
    "ExecuteTime": {
     "end_time": "2022-05-05T19:06:56.451433Z",
     "start_time": "2022-05-05T19:06:56.422008Z"
    }
   },
   "outputs": [],
   "source": [
    "preds = get_predictions(rets_df.head(1000), 0.5, 1)\n",
    "#print((preds * rets_df[\"rets\"]) >= 0).mean()\n",
    "#preds.head()\n",
    "\n",
    "#rets"
   ]
  },
  {
   "cell_type": "code",
   "execution_count": 60,
   "id": "fb724788",
   "metadata": {
    "ExecuteTime": {
     "end_time": "2022-05-05T18:41:48.033758Z",
     "start_time": "2022-05-05T18:41:48.017813Z"
    }
   },
   "outputs": [
    {
     "name": "stdout",
     "output_type": "stream",
     "text": [
      "0.7513294214724489\n"
     ]
    }
   ],
   "source": [
    "hit_rate = 1.0n\n",
    "seed = 10\n",
    "print(add_hit_rate(rets_df, hit_rate, seed)[\"hit\"].mean())"
   ]
  },
  {
   "cell_type": "code",
   "execution_count": 32,
   "id": "b7f406d3",
   "metadata": {
    "ExecuteTime": {
     "end_time": "2022-05-05T18:33:53.440379Z",
     "start_time": "2022-05-05T18:33:53.435328Z"
    }
   },
   "outputs": [
    {
     "data": {
      "text/plain": [
       "0.5002454468182643"
      ]
     },
     "execution_count": 32,
     "metadata": {},
     "output_type": "execute_result"
    }
   ],
   "source": [
    "rets_df[\"hit\"].mean()"
   ]
  },
  {
   "cell_type": "code",
<<<<<<< HEAD
   "execution_count": 149,
   "id": "defddf03",
   "metadata": {
    "ExecuteTime": {
     "end_time": "2022-05-05T16:48:48.171217Z",
     "start_time": "2022-05-05T16:48:48.166220Z"
=======
   "execution_count": 23,
   "id": "126fb115",
   "metadata": {
    "ExecuteTime": {
     "end_time": "2022-05-05T18:28:17.131997Z",
     "start_time": "2022-05-05T18:28:17.126763Z"
>>>>>>> 1e425dddecb081e1bfe4f5a9250817cdde120845
    }
   },
   "outputs": [],
   "source": [
    "def calculate_confidence_interval(hit_series, alpha, method):\n",
    "    \"\"\"\n",
    "    :param alpha: Significance level\n",
    "    :param method: \"normal\", \"agresti_coull\", \"beta\", \"wilson\", \"binom_test\"\n",
    "    \"\"\"\n",
    "    point_estimate = hit.mean()\n",
    "    hit_lower, hit_upper = statsmodels.stats.proportion.proportion_confint(\n",
    "        count=hit.sum(), nobs=hit.count(), alpha=alpha, method=method\n",
    "    )\n",
    "    result_values_pct = [100 * point_estimate, 100 * hit_lower, 100 * hit_upper]\n",
    "    conf_alpha = (1 - alpha / 2) * 100\n",
    "    print(f\"hit_rate: {result_values_pct[0]}\")\n",
    "    print(f\"hit_rate_lower_CI_({conf_alpha}%): {result_values_pct[1]}\")\n",
    "    print(f\"hit_rate_upper_CI_({conf_alpha}%): {result_values_pct[2]}\")"
   ]
  },
  {
   "cell_type": "code",
<<<<<<< HEAD
   "execution_count": 150,
   "id": "2d5d54fe",
   "metadata": {
    "ExecuteTime": {
     "end_time": "2022-05-05T16:48:48.830538Z",
     "start_time": "2022-05-05T16:48:48.824666Z"
=======
   "execution_count": 33,
   "id": "bf5bd8af",
   "metadata": {
    "ExecuteTime": {
     "end_time": "2022-05-05T18:33:57.003731Z",
     "start_time": "2022-05-05T18:33:56.996647Z"
>>>>>>> 1e425dddecb081e1bfe4f5a9250817cdde120845
    }
   },
   "outputs": [
    {
     "name": "stdout",
     "output_type": "stream",
     "text": [
<<<<<<< HEAD
      "hit_rate: 50.04966229638459\n",
      "hit_rate_lower_CI_(97.5%): 49.91422302589808\n",
      "hit_rate_upper_CI_(97.5%): 50.185101566871104\n"
=======
      "hit_rate: 50.024544681826434\n",
      "hit_rate_lower_CI_(97.5%): 49.889105231500054\n",
      "hit_rate_upper_CI_(97.5%): 50.159984132152815\n"
>>>>>>> 1e425dddecb081e1bfe4f5a9250817cdde120845
     ]
    }
   ],
   "source": [
    "# Calculate confidence intervals.\n",
    "hit = rets_df[\"hit\"]\n",
    "alpha = 0.05\n",
    "method = \"normal\"\n",
    "calculate_confidence_interval(hit, alpha, method)"
   ]
  },
  {
   "cell_type": "code",
<<<<<<< HEAD
   "execution_count": null,
   "id": "b1f0f80c",
=======
   "execution_count": 34,
   "id": "889e2c75",
   "metadata": {
    "ExecuteTime": {
     "end_time": "2022-05-05T18:34:04.722206Z",
     "start_time": "2022-05-05T18:34:03.088276Z"
    }
   },
   "outputs": [
    {
     "data": {
      "text/plain": [
       "<AxesSubplot:xlabel='timestamp'>"
      ]
     },
     "execution_count": 34,
     "metadata": {},
     "output_type": "execute_result"
    },
    {
     "data": {
      "image/png": "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\n",
      "text/plain": [
       "<Figure size 432x288 with 1 Axes>"
      ]
     },
     "metadata": {
      "needs_background": "light"
     },
     "output_type": "display_data"
    }
   ],
   "source": [
    "# A model makes a prediction on the rets and then it's realized.\n",
    "pnl = (rets_df[\"prediction\"] * rets_df[\"rets\"]).cumsum()\n",
    "\n",
    "pnl.plot()"
   ]
  },
  {
   "cell_type": "code",
   "execution_count": null,
   "id": "5ea36b29",
   "metadata": {},
   "outputs": [],
   "source": [
    "# Relationship between hit rate and pnl"
   ]
  },
  {
   "cell_type": "code",
   "execution_count": 51,
   "id": "932beed4",
   "metadata": {
    "ExecuteTime": {
     "end_time": "2022-05-05T18:38:03.056315Z",
     "start_time": "2022-05-05T18:38:03.053281Z"
    }
   },
   "outputs": [],
   "source": [
    "def compute_pnl(rets_df):\n",
    "    return (rets_df[\"prediction\"] * rets_df[\"rets\"]).sum()"
   ]
  },
  {
   "cell_type": "code",
   "execution_count": 46,
   "id": "0b259e53",
   "metadata": {
    "ExecuteTime": {
     "end_time": "2022-05-05T18:37:08.958496Z",
     "start_time": "2022-05-05T18:37:08.949839Z"
    }
   },
   "outputs": [
    {
     "data": {
      "text/plain": [
       "-0.14650952082519575"
      ]
     },
     "execution_count": 46,
     "metadata": {},
     "output_type": "execute_result"
    }
   ],
   "source": [
    "compute_pnl(rets_df)"
   ]
  },
  {
   "cell_type": "code",
   "execution_count": 96,
   "id": "be7607fb",
   "metadata": {
    "ExecuteTime": {
     "end_time": "2022-05-05T18:56:04.779841Z",
     "start_time": "2022-05-05T18:56:04.771402Z"
    }
   },
   "outputs": [
    {
     "name": "stdout",
     "output_type": "stream",
     "text": [
      "                               rets  prediction    hit\n",
      "timestamp                                             \n",
      "2021-01-01 00:02:00+00:00 -0.000710           1  False\n",
      "2021-01-01 00:03:00+00:00 -0.000228          -1   True\n",
      "2021-01-01 00:04:00+00:00 -0.000243           1  False\n",
      "2021-01-01 00:05:00+00:00 -0.001330          -1   True\n",
      "2021-01-01 00:06:00+00:00  0.000234           1   True\n",
      "...                             ...         ...    ...\n",
      "2021-12-31 23:56:00+00:00 -0.000058           1  False\n",
      "2021-12-31 23:57:00+00:00 -0.000035          -1   True\n",
      "2021-12-31 23:58:00+00:00 -0.001341          -1   True\n",
      "2021-12-31 23:59:00+00:00  0.000663          -1  False\n",
      "2022-01-01 00:00:00+00:00  0.000716           1   True\n",
      "\n",
      "[523535 rows x 3 columns]\n"
     ]
    }
   ],
   "source": [
    "print(rets_df)"
   ]
  },
  {
   "cell_type": "code",
   "execution_count": 147,
   "id": "d462b6cd",
   "metadata": {
    "ExecuteTime": {
     "end_time": "2022-05-05T19:09:27.527367Z",
     "start_time": "2022-05-05T19:09:27.477695Z"
    }
   },
   "outputs": [
    {
     "name": "stdout",
     "output_type": "stream",
     "text": [
      "0.4978463713027782 3.074144924038446\n",
      "0.7487827938915259 0.21716112516034958\n",
      "0.5004784780387176 0.3941675287781037\n"
     ]
    }
   ],
   "source": [
    "# Number of experiments per value of hit rate.\n",
    "#n_experiment = 100\n",
    "n_experiment = 1\n",
    "# Every seed corresponds to a different \"model\".\n",
    "seed = 10\n",
    "results = {}\n",
    "for hit_rate in np.linspace(0.4, 0.6, num=3):\n",
    "    for i in range(n_experiment):\n",
    "        df_tmp = add_hit_rate(rets_df, hit_rate, seed)\n",
    "        hit_rate = df_tmp[\"hit\"].mean()\n",
    "        pnl = compute_pnl(df_tmp)\n",
    "        results[hit_rate].append(pnl)\n",
    "        print(hit_rate, pnl)\n",
    "        seed += 1\n",
    "        \n",
    "        \n",
    "# hit_rate -> pnls\n",
    "# 0.4 -> [0.1, 0.2, 0.3]\n",
    "# 0.5 -> []\n"
   ]
  },
  {
   "cell_type": "code",
   "execution_count": null,
   "id": "410bfc72",
>>>>>>> 1e425dddecb081e1bfe4f5a9250817cdde120845
   "metadata": {},
   "outputs": [],
   "source": [
    "# Step 1: split the notebooks in gallery and not\n",
    "# - gallery notebook with the first 2-3 sessions showing the functions\n",
    "# - 1709 contains only the good stuff\n",
    "# Step 2: \n",
    "# - clean up get_predictions() and add 1 unit test that checks the schema of df, freeze the output\n",
    "# Step 3:\n",
    "# - bootstrapping (montecarlo simulation) to compute pnl = f(hit_rate)"
   ]
  }
 ],
 "metadata": {
  "kernelspec": {
   "display_name": "Python 3 (ipykernel)",
   "language": "python",
   "name": "python3"
  },
  "language_info": {
   "codemirror_mode": {
    "name": "ipython",
    "version": 3
   },
   "file_extension": ".py",
   "mimetype": "text/x-python",
   "name": "python",
   "nbconvert_exporter": "python",
   "pygments_lexer": "ipython3",
   "version": "3.8.10"
  },
  "toc": {
   "base_numbering": 1,
   "nav_menu": {},
   "number_sections": true,
   "sideBar": true,
   "skip_h1_title": false,
   "title_cell": "Table of Contents",
   "title_sidebar": "Contents",
   "toc_cell": false,
   "toc_position": {},
   "toc_section_display": true,
   "toc_window_display": false
  }
 },
 "nbformat": 4,
 "nbformat_minor": 5
}
