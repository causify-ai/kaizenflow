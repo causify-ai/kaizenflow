{
 "cells": [
  {
   "cell_type": "markdown",
   "id": "584c5ce0",
   "metadata": {},
   "source": [
    "- Compute returns from the real data.\n",
    "- Pre-define the hit rate and calculate predictions, hits and confidence intervals."
   ]
  },
  {
   "cell_type": "markdown",
   "id": "9d4640cc",
   "metadata": {},
   "source": [
    "# Imports"
   ]
  },
  {
   "cell_type": "code",
   "execution_count": null,
   "id": "c7d74bce",
   "metadata": {},
   "outputs": [],
   "source": [
    "import logging\n",
    "from typing import List\n",
    "\n",
    "import matplotlib.pyplot as plt\n",
    "import pandas as pd\n",
    "import requests\n",
    "import statsmodels\n",
    "\n",
    "import core.finance.tradability as cfintrad\n",
    "import helpers.hdatetime as hdateti\n",
    "import helpers.hdbg as hdbg\n",
    "import helpers.hpandas as hpandas\n",
    "import helpers.hprint as hprint\n",
    "import im_v2.common.universe as ivcu"
   ]
  },
  {
   "cell_type": "code",
   "execution_count": null,
   "id": "21b46962",
   "metadata": {},
   "outputs": [],
   "source": [
    "hdbg.init_logger(verbosity=logging.INFO)\n",
    "\n",
    "_LOG = logging.getLogger(__name__)\n",
    "\n",
    "hprint.config_notebook()"
   ]
  },
  {
   "cell_type": "markdown",
   "id": "219d11b6",
   "metadata": {},
   "source": [
    "# Extract returns from the real data"
   ]
  },
  {
   "cell_type": "markdown",
   "id": "a4ce6c53",
   "metadata": {},
   "source": [
    "## Load BTC data from CC"
   ]
  },
  {
   "cell_type": "code",
   "execution_count": null,
   "id": "ebb8b876",
   "metadata": {},
   "outputs": [],
   "source": [
    "def get_exchange_currency_for_api_request(full_symbol: str) -> str:\n",
    "    \"\"\"\n",
    "    Return `exchange_id` and `currency_pair` in a format for requests to cc\n",
    "    API.\n",
    "    \"\"\"\n",
    "    cc_exchange_id, cc_currency_pair = ivcu.parse_full_symbol(full_symbol)\n",
    "    cc_currency_pair = cc_currency_pair.lower().replace(\"_\", \"-\")\n",
    "    return cc_exchange_id, cc_currency_pair\n",
    "\n",
    "\n",
    "def load_crypto_chassis_ohlcv_for_one_symbol(full_symbol: str) -> pd.DataFrame:\n",
    "    \"\"\"\n",
    "    - Transform CK `full_symbol` to the `crypto-chassis` request format.\n",
    "    - Construct OHLCV data request for `crypto-chassis` API.\n",
    "    - Save the data as a DataFrame.\n",
    "    \"\"\"\n",
    "    # Deconstruct `full_symbol`.\n",
    "    cc_exchange_id, cc_currency_pair = get_exchange_currency_for_api_request(\n",
    "        full_symbol\n",
    "    )\n",
    "    # Build a request.\n",
    "    r = requests.get(\n",
    "        f\"https://api.cryptochassis.com/v1/ohlc/{cc_exchange_id}/{cc_currency_pair}?startTime=0\"\n",
    "    )\n",
    "    # Get url with data.\n",
    "    url = r.json()[\"historical\"][\"urls\"][0][\"url\"]\n",
    "    # Read the data.\n",
    "    df = pd.read_csv(url, compression=\"gzip\")\n",
    "    return df\n",
    "\n",
    "\n",
    "def apply_ohlcv_transformation(\n",
    "    df: pd.DataFrame,\n",
    "    full_symbol: str,\n",
    "    start_date: pd.Timestamp,\n",
    "    end_date: pd.Timestamp,\n",
    ") -> pd.DataFrame:\n",
    "    \"\"\"\n",
    "    Following transformations are applied:\n",
    "\n",
    "    - Convert `timestamps` to the usual format.\n",
    "    - Convert data columns to `float`.\n",
    "    - Add `full_symbol` column.\n",
    "    \"\"\"\n",
    "    # Convert `timestamps` to the usual format.\n",
    "    df = df.rename(columns={\"time_seconds\": \"timestamp\"})\n",
    "    df[\"timestamp\"] = df[\"timestamp\"].apply(\n",
    "        lambda x: hdateti.convert_unix_epoch_to_timestamp(x, unit=\"s\")\n",
    "    )\n",
    "    df = df.set_index(\"timestamp\")\n",
    "    # Convert to `float`.\n",
    "    for cols in df.columns:\n",
    "        df[cols] = df[cols].astype(float)\n",
    "    # Add `full_symbol`.\n",
    "    df[\"full_symbol\"] = full_symbol\n",
    "    # Note: I failed to put [start_time, end_time] to historical request.\n",
    "    # Now it loads all the available data.\n",
    "    # For that reason the time interval is hardcoded on this stage.\n",
    "    df = df.loc[(df.index >= start_date) & (df.index <= end_date)]\n",
    "    return df\n",
    "\n",
    "\n",
    "def read_crypto_chassis_ohlcv(\n",
    "    full_symbols: List[str], start_date: pd.Timestamp, end_date: pd.Timestamp\n",
    ") -> pd.DataFrame:\n",
    "    \"\"\"\n",
    "    - Load the raw data for one symbol.\n",
    "    - Convert it to CK format.\n",
    "    - Repeat the first two steps for all `full_symbols`.\n",
    "    - Concentrate them into unique DataFrame.\n",
    "    \"\"\"\n",
    "    result = []\n",
    "    for full_symbol in full_symbols:\n",
    "        # Load raw data.\n",
    "        df_raw = load_crypto_chassis_ohlcv_for_one_symbol(full_symbol)\n",
    "        # Process it to CK format.\n",
    "        df = apply_ohlcv_transformation(df_raw, full_symbol, start_date, end_date)\n",
    "        result.append(df)\n",
    "    final_df = pd.concat(result)\n",
    "    return final_df"
   ]
  },
  {
   "cell_type": "code",
   "execution_count": null,
   "id": "6cc984fc",
   "metadata": {},
   "outputs": [],
   "source": [
    "# Commented in order to lad the fast locally.\n",
    "# btc_df = read_crypto_chassis_ohlcv(\n",
    "#    [\"binance::BTC_USDT\"],\n",
    "#    pd.Timestamp(\"2021-01-01\", tz=\"UTC\"),\n",
    "#    pd.Timestamp(\"2022-01-01\", tz=\"UTC\"),\n",
    "# )"
   ]
  },
  {
   "cell_type": "code",
   "execution_count": null,
   "id": "a34e890e",
   "metadata": {},
   "outputs": [],
   "source": [
    "btc_df = pd.read_csv(\"BTC_one_year.csv\", index_col=\"timestamp\")\n",
    "btc_df.head(3)"
   ]
  },
  {
   "cell_type": "markdown",
   "id": "3f9358dd",
   "metadata": {},
   "source": [
    "## Process returns"
   ]
  },
  {
   "cell_type": "code",
   "execution_count": null,
   "id": "df7647fa",
   "metadata": {},
   "outputs": [],
   "source": [
    "btc = btc_df.copy()"
   ]
  },
  {
   "cell_type": "code",
   "execution_count": null,
   "id": "40e70299",
   "metadata": {},
   "outputs": [],
   "source": [
    "# Calculate returns.\n",
    "btc[\"rets\"] = btc[\"close\"].pct_change()\n",
    "# Rolling SMA for returns (with 100 periods loockback period).\n",
    "btc[\"rets_sma\"] = btc[\"rets\"].transform(lambda x: x.rolling(window=100).mean())\n",
    "# Substract SMA from returns to remove the upward trend.\n",
    "btc[\"rets_cleaned\"] = btc[\"rets\"] - btc[\"rets_sma\"]\n",
    "# btc[\"rets\"].plot()\n",
    "btc[\"rets_cleaned\"].plot()"
   ]
  },
  {
   "cell_type": "code",
   "execution_count": null,
   "id": "74533cea",
   "metadata": {},
   "outputs": [],
   "source": [
    "# Exclude NaNs for the better analysis (at least one in the beginning because of `pct_change()`)\n",
    "rets = btc[[\"rets\"]]\n",
    "rets = hpandas.dropna(rets, report_stats=True)"
   ]
  },
  {
   "cell_type": "code",
   "execution_count": null,
   "id": "7c2c7fe4",
   "metadata": {},
   "outputs": [],
   "source": [
    "# Show the distribution.\n",
    "fig = plt.figure(figsize=(15, 7))\n",
    "ax1 = fig.add_subplot(1, 1, 1)\n",
    "rets.hist(bins=300, ax=ax1)\n",
    "ax1.set_xlabel(\"Return\")\n",
    "ax1.set_ylabel(\"Sample\")\n",
    "ax1.set_title(\"Returns distribution\")\n",
    "plt.show()"
   ]
  },
  {
   "cell_type": "markdown",
   "id": "bc994672",
   "metadata": {},
   "source": [
    "# Pre-defined Predictions, Hit Rates and Confidence Interval"
   ]
  },
  {
   "cell_type": "code",
   "execution_count": null,
   "id": "1e9d45cd",
   "metadata": {},
   "outputs": [],
   "source": [
    "def calculate_confidence_interval(hit_series, alpha, method):\n",
    "    \"\"\"\n",
    "    :param alpha: Significance level\n",
    "    :param method: \"normal\", \"agresti_coull\", \"beta\", \"wilson\", \"binom_test\"\n",
    "    \"\"\"\n",
    "    point_estimate = hit_series.mean()\n",
    "    hit_lower, hit_upper = statsmodels.stats.proportion.proportion_confint(\n",
    "        count=hit_series.sum(),\n",
    "        nobs=hit_series.count(),\n",
    "        alpha=alpha,\n",
    "        method=method,\n",
    "    )\n",
    "    result_values_pct = [100 * point_estimate, 100 * hit_lower, 100 * hit_upper]\n",
    "    conf_alpha = (1 - alpha / 2) * 100\n",
    "    print(f\"hit_rate: {result_values_pct[0]}\")\n",
    "    print(f\"hit_rate_lower_CI_({conf_alpha}%): {result_values_pct[1]}\")\n",
    "    print(f\"hit_rate_upper_CI_({conf_alpha}%): {result_values_pct[2]}\")\n",
    "\n",
    "\n",
    "def get_predictions_hits_and_stats(df, ret_col, hit_rate, seed, alpha, method):\n",
    "    \"\"\"\n",
    "    Calculate hits from the predictions and show confidence intervals.\n",
    "\n",
    "    :param df: Desired sample with OHLCV data and calculated returns\n",
    "    :param hit_rate: Desired percantage of successful predictions\n",
    "    :param seed: Experiment stance\n",
    "    :param alpha: Significance level for CI\n",
    "    :param method: \"normal\", \"agresti_coull\", \"beta\", \"wilson\", \"binom_test\"\n",
    "    \"\"\"\n",
    "    df = df.copy()\n",
    "    df[\"predictions\"] = cfintrad.get_predictions(df, ret_col, hit_rate, seed)\n",
    "    # Specify necessary columns.\n",
    "    df = df[[\"rets\", \"predictions\"]]\n",
    "    # Attach `hit` column (boolean).\n",
    "    df = df.copy()\n",
    "    df[\"hit\"] = df[\"rets\"] * df[\"predictions\"] >= 0\n",
    "    # Exclude NaNs for the better analysis (at least one in the beginning because of `pct_change()`)\n",
    "    df = hpandas.dropna(df, report_stats=True)\n",
    "    # Show CI stats.\n",
    "    calculate_confidence_interval(df[\"hit\"], alpha, method)\n",
    "    return df"
   ]
  },
  {
   "cell_type": "code",
   "execution_count": null,
   "id": "f6bbdfa8",
   "metadata": {},
   "outputs": [],
   "source": [
    "sample = btc.head(1000)\n",
    "ret_col = \"rets\"\n",
    "hit_rate = 0.55\n",
    "seed = 20\n",
    "alpha = 0.05\n",
    "method = \"normal\"\n",
    "\n",
    "hit_df = get_predictions_hits_and_stats(\n",
    "    sample, ret_col, hit_rate, seed, alpha, method\n",
    ")\n",
    "display(hit_df)"
   ]
  }
 ],
 "metadata": {
  "kernelspec": {
   "display_name": "Python 3 (ipykernel)",
   "language": "python",
   "name": "python3"
  },
  "language_info": {
   "codemirror_mode": {
    "name": "ipython",
    "version": 3
   },
   "file_extension": ".py",
   "mimetype": "text/x-python",
   "name": "python",
   "nbconvert_exporter": "python",
   "pygments_lexer": "ipython3"
  },
  "toc": {
   "base_numbering": 1,
   "nav_menu": {},
   "number_sections": true,
   "sideBar": true,
   "skip_h1_title": false,
   "title_cell": "Table of Contents",
   "title_sidebar": "Contents",
   "toc_cell": false,
   "toc_position": {},
   "toc_section_display": true,
   "toc_window_display": false
  }
 },
 "nbformat": 4,
 "nbformat_minor": 5
}
