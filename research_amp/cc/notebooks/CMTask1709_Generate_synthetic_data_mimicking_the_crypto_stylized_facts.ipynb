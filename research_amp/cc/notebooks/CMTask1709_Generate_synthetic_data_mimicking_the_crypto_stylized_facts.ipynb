{
 "cells": [
  {
   "cell_type": "markdown",
   "id": "edd520a4",
   "metadata": {},
   "source": [
    "Compute random returns as Gaussians or t-distributions"
   ]
  },
  {
   "cell_type": "markdown",
   "id": "aa3c592e",
   "metadata": {},
   "source": [
    "# Imports"
   ]
  },
  {
   "cell_type": "code",
   "execution_count": null,
   "id": "fe7077b7",
   "metadata": {},
   "outputs": [],
   "source": [
    "import core.finance.market_data_example as cfmadaex\n",
    "from typing import List\n",
    "import im_v2.common.universe as ivcu\n",
    "import requests\n",
    "import helpers.hdatetime as hdateti\n",
    "import statsmodels\n",
    "\n",
    "import pandas as pd\n",
    "import numpy as np\n",
    "import matplotlib.pyplot as plt\n",
    "import core.finance as cofinanc\n",
    "import dataflow.core as dtfcore\n",
    "import dataflow.system.source_nodes as dtfsysonod\n",
    "import core.artificial_signal_generators as carsigen"
   ]
  },
  {
   "cell_type": "markdown",
   "id": "edfa6f52",
   "metadata": {},
   "source": [
    "# Generate the data"
   ]
  },
  {
   "cell_type": "markdown",
   "id": "cd5a0052",
   "metadata": {},
   "source": [
    "## Using `generate_random_price_data` for multiple assets"
   ]
  },
  {
   "cell_type": "markdown",
   "id": "6a7ca52c",
   "metadata": {},
   "source": [
    "Problems:\n",
    "- Generating prices are the same for all assets\n",
    "- Distribution of returns is not normal"
   ]
  },
  {
   "cell_type": "code",
   "execution_count": null,
   "id": "4abda97b",
   "metadata": {},
   "outputs": [],
   "source": [
    "start_datetime = pd.Timestamp(\"2021-01-01\")\n",
    "end_datetime = pd.Timestamp(\"2021-01-31\")\n",
    "columns = [\"close\"]\n",
    "asset_ids = list(range(2))\n",
    "freq = \"1T\"\n",
    "initial_price = 29000\n",
    "seed = 100,\n",
    "\n",
    "df = cfmadaex.generate_random_price_data(\n",
    "start_datetime,\n",
    "end_datetime,\n",
    "columns,\n",
    "asset_ids,\n",
    "freq=freq,\n",
    "initial_price=initial_price,\n",
    "seed=seed)\n",
    "\n",
    "df = df.set_index(\"timestamp_db\").drop(columns=[\"start_datetime\", \"end_datetime\"])\n",
    "df = dtfsysonod._convert_to_multiindex(df, \"asset_id\")\n",
    "df.head()"
   ]
  },
  {
   "cell_type": "code",
   "execution_count": null,
   "id": "cd1ec2f5",
   "metadata": {},
   "outputs": [],
   "source": [
    "node_returns_config = {\n",
    "    \"in_col_groups\": [\n",
    "        (\"close\",),\n",
    "    ],\n",
    "    \"out_col_group\": (),\n",
    "    \"transformer_kwargs\": {\n",
    "        \"mode\": \"pct_change\",\n",
    "    },\n",
    "    \"col_mapping\": {\n",
    "        \"close\": \"close.ret_0\",\n",
    "    },\n",
    "}\n",
    "# Create the node that computes ret_0.\n",
    "nid = \"ret0\"\n",
    "node = dtfcore.GroupedColDfToDfTransformer(\n",
    "    nid,\n",
    "    transformer_func=cofinanc.compute_ret_0,\n",
    "    **node_returns_config,\n",
    ")\n",
    "# Compute the node on the data.\n",
    "rets = node.fit(df)"
   ]
  },
  {
   "cell_type": "code",
   "execution_count": null,
   "id": "d8dbb1ad",
   "metadata": {},
   "outputs": [],
   "source": [
    "df = rets[\"df_out\"]\n",
    "df.head(5)"
   ]
  },
  {
   "cell_type": "code",
   "execution_count": null,
   "id": "89d8de02",
   "metadata": {},
   "outputs": [],
   "source": [
    "df.swaplevel(axis=1)[0][[\"close\"]].plot(figsize=(15,7))"
   ]
  },
  {
   "cell_type": "markdown",
   "id": "c8f5f97d",
   "metadata": {},
   "source": [
    "## Using `generate_random_price_data` for one asset"
   ]
  },
  {
   "cell_type": "markdown",
   "id": "e747a5aa",
   "metadata": {},
   "source": [
    "Problems:\n",
    "- Distribution of returns is not normal"
   ]
  },
  {
   "cell_type": "code",
   "execution_count": null,
   "id": "1a78cbe5",
   "metadata": {},
   "outputs": [],
   "source": [
    "start_datetime = pd.Timestamp(\"2021-01-01\")\n",
    "end_datetime = pd.Timestamp(\"2021-01-31\")\n",
    "columns = [\"close\"]\n",
    "asset_ids = [1]\n",
    "freq = \"1T\"\n",
    "initial_price = 29000\n",
    "seed = 100,\n",
    "\n",
    "df = cfmadaex.generate_random_price_data(\n",
    "start_datetime,\n",
    "end_datetime,\n",
    "columns,\n",
    "asset_ids,\n",
    "freq=freq,\n",
    "initial_price=initial_price,\n",
    "seed=seed)\n",
    "\n",
    "df = df.set_index(\"timestamp_db\").drop(columns=[\"start_datetime\", \"end_datetime\", \"asset_id\"])\n",
    "df[\"rets\"] = cofinanc.compute_ret_0(df[[\"close\"]], \"pct_change\")\n",
    "df.head(3)"
   ]
  },
  {
   "cell_type": "code",
   "execution_count": null,
   "id": "be47b1bc",
   "metadata": {},
   "outputs": [],
   "source": [
    "df[[\"close\"]].plot(figsize=(15,7))\n",
    "df[[\"rets\"]].plot(figsize=(15,7))"
   ]
  },
  {
   "cell_type": "code",
   "execution_count": null,
   "id": "205e62f1",
   "metadata": {},
   "outputs": [],
   "source": [
    "fig = plt.figure(figsize=(15, 7))\n",
    "ax1 = fig.add_subplot(1, 1, 1)\n",
    "df['rets'].hist(bins=50, ax=ax1)\n",
    "ax1.set_xlabel('Return')\n",
    "ax1.set_ylabel('Sample')\n",
    "ax1.set_title('Return distribution')\n",
    "plt.show()"
   ]
  },
  {
   "cell_type": "markdown",
   "id": "a9f514b1",
   "metadata": {},
   "source": [
    "## Using `generate_random_bars`"
   ]
  },
  {
   "cell_type": "markdown",
   "id": "1979b07c",
   "metadata": {},
   "source": [
    "Problems:\n",
    "- Strange outcomes"
   ]
  },
  {
   "cell_type": "code",
   "execution_count": null,
   "id": "2d211537",
   "metadata": {},
   "outputs": [],
   "source": [
    "start_datetime = pd.Timestamp(\"2021-01-01\")\n",
    "end_datetime = pd.Timestamp(\"2021-01-31\")\n",
    "\n",
    "df = cfmadaex.generate_random_bars(\n",
    "    start_datetime,\n",
    "    end_datetime,\n",
    "    asset_ids = [1,2],\n",
    ")\n",
    "\n",
    "df = df.set_index(\"timestamp_db\").drop(columns=[\"start_datetime\", \"end_datetime\"])\n",
    "df = dtfsysonod._convert_to_multiindex(df, \"asset_id\")\n",
    "df.head()"
   ]
  },
  {
   "cell_type": "code",
   "execution_count": null,
   "id": "a8981048",
   "metadata": {},
   "outputs": [],
   "source": [
    "df[\"close\"].plot(figsize=(15,7))"
   ]
  },
  {
   "cell_type": "code",
   "execution_count": null,
   "id": "0a17f796",
   "metadata": {},
   "outputs": [],
   "source": [
    "node_returns_config = {\n",
    "    \"in_col_groups\": [\n",
    "        (\"close\",),\n",
    "    ],\n",
    "    \"out_col_group\": (),\n",
    "    \"transformer_kwargs\": {\n",
    "        \"mode\": \"pct_change\",\n",
    "    },\n",
    "    \"col_mapping\": {\n",
    "        \"close\": \"close.ret_0\",\n",
    "    },\n",
    "}\n",
    "# Create the node that computes ret_0.\n",
    "nid = \"ret0\"\n",
    "node = dtfcore.GroupedColDfToDfTransformer(\n",
    "    nid,\n",
    "    transformer_func=cofinanc.compute_ret_0,\n",
    "    **node_returns_config,\n",
    ")\n",
    "# Compute the node on the data.\n",
    "rets = node.fit(df)\n",
    "rets[\"df_out\"].head(3)"
   ]
  },
  {
   "cell_type": "code",
   "execution_count": null,
   "id": "7b805cbe",
   "metadata": {},
   "outputs": [],
   "source": [
    "rets[\"df_out\"][\"close.ret_0\"].plot(figsize=(15,7))"
   ]
  },
  {
   "cell_type": "markdown",
   "id": "c74c7ad7",
   "metadata": {},
   "source": [
    "## Using returns directly (`get_gaussian_walk`)"
   ]
  },
  {
   "cell_type": "markdown",
   "id": "c5be1cb2",
   "metadata": {},
   "source": [
    "Seems correct"
   ]
  },
  {
   "cell_type": "code",
   "execution_count": null,
   "id": "bc45c503",
   "metadata": {},
   "outputs": [],
   "source": [
    "drift = 0\n",
    "vol = 0.2\n",
    "size = 252\n",
    "seed = 10\n",
    "rets = carsigen.get_gaussian_walk(drift, vol, size, seed=seed).diff()"
   ]
  },
  {
   "cell_type": "code",
   "execution_count": null,
   "id": "7475e530",
   "metadata": {},
   "outputs": [],
   "source": [
    "rets.plot()"
   ]
  },
  {
   "cell_type": "code",
   "execution_count": null,
   "id": "bfd5af24",
   "metadata": {},
   "outputs": [],
   "source": [
    "fig = plt.figure(figsize=(15, 7))\n",
    "ax1 = fig.add_subplot(1, 1, 1)\n",
    "rets.hist(bins=100, ax=ax1)\n",
    "ax1.set_xlabel('Return')\n",
    "ax1.set_ylabel('Sample')\n",
    "ax1.set_title('Returns distribution')\n",
    "plt.show()"
   ]
  },
  {
   "cell_type": "markdown",
   "id": "51015b9e",
   "metadata": {},
   "source": [
    "For each bar, generate random predictions with a given hit rate\n",
    "- Compute the hit rate to confirm\n",
    "- def hit_rate(y, y_hat):\n"
   ]
  },
  {
   "cell_type": "code",
   "execution_count": null,
   "id": "ce6e9895",
   "metadata": {},
   "outputs": [],
   "source": [
    "rets_df = rets.to_frame().iloc[1:]\n",
    "rets_df.columns = [\"rets\"]\n",
    "\n",
    "# 0 -> price goes down\n",
    "# 1 -> price goes up\n",
    "rets_df[\"prediction\"] = np.random.randint(0, 2, rets_df.shape[0])\n",
    "# Get the difference to estimate the validity of prediciton.\n",
    "rets_df[\"diff\"] = rets_df.rets.diff()\n",
    "# Estimate the prediciton.\n",
    "rets_df[\"is_prediction_right\"] = ((rets_df[\"diff\"]>0)&(rets_df[\"prediction\"]==1))|((rets_df[\"diff\"]<0)&(rets_df[\"prediction\"]==0))\n",
    "# Get rid of unnecessary columns\n",
    "rets_df = rets_df.drop(columns=[\"diff\"])\n",
    "rets_df = rets_df.iloc[1:]"
   ]
  },
  {
   "cell_type": "code",
   "execution_count": null,
   "id": "3219eb42",
   "metadata": {},
   "outputs": [],
   "source": [
    "rets_df"
   ]
  },
  {
   "cell_type": "code",
   "execution_count": null,
   "id": "7564d735",
   "metadata": {},
   "outputs": [],
   "source": [
    "print(f\"Hit Rate: {round(rets_df.is_prediction_right.sum()/rets_df.shape[0], 4)*100}%\")"
   ]
  },
  {
   "cell_type": "markdown",
   "id": "f93ba754",
   "metadata": {},
   "source": [
    "# Extract returns from the real data"
   ]
  },
  {
   "cell_type": "markdown",
   "id": "61ebdda6",
   "metadata": {},
   "source": [
    "## Load BTC data from CC"
   ]
  },
  {
   "cell_type": "code",
   "execution_count": null,
   "id": "6f15f1c1",
   "metadata": {},
   "outputs": [],
   "source": [
    "def get_exchange_currency_for_api_request(full_symbol: str) -> str:\n",
    "    \"\"\"\n",
    "    Returns `exchange_id` and `currency_pair` in a format for requests to cc\n",
    "    API.\n",
    "    \"\"\"\n",
    "    cc_exchange_id, cc_currency_pair = ivcu.parse_full_symbol(full_symbol)\n",
    "    cc_currency_pair = cc_currency_pair.lower().replace(\"_\", \"-\")\n",
    "    return cc_exchange_id, cc_currency_pair\n",
    "\n",
    "\n",
    "def load_crypto_chassis_ohlcv_for_one_symbol(full_symbol: str) -> pd.DataFrame:\n",
    "    \"\"\"\n",
    "    - Transform CK `full_symbol` to the `crypto-chassis` request format.\n",
    "    - Construct OHLCV data request for `crypto-chassis` API.\n",
    "    - Save the data as a DataFrame.\n",
    "    \"\"\"\n",
    "    # Deconstruct `full_symbol`.\n",
    "    cc_exchange_id, cc_currency_pair = get_exchange_currency_for_api_request(\n",
    "        full_symbol\n",
    "    )\n",
    "    # Build a request.\n",
    "    r = requests.get(\n",
    "        f\"https://api.cryptochassis.com/v1/ohlc/{cc_exchange_id}/{cc_currency_pair}?startTime=0\"\n",
    "    )\n",
    "    # Get url with data.\n",
    "    url = r.json()[\"historical\"][\"urls\"][0][\"url\"]\n",
    "    # Read the data.\n",
    "    df = pd.read_csv(url, compression=\"gzip\")\n",
    "    return df\n",
    "\n",
    "\n",
    "def apply_ohlcv_transformation(\n",
    "    df: pd.DataFrame,\n",
    "    full_symbol: str,\n",
    "    start_date: pd.Timestamp,\n",
    "    end_date: pd.Timestamp,\n",
    ") -> pd.DataFrame:\n",
    "    \"\"\"\n",
    "    The following transformations are applied:\n",
    "\n",
    "    - Convert `timestamps` to the usual format.\n",
    "    - Convert data columns to `float`.\n",
    "    - Add `full_symbol` column.\n",
    "    \"\"\"\n",
    "    # Convert `timestamps` to the usual format.\n",
    "    df = df.rename(columns={\"time_seconds\": \"timestamp\"})\n",
    "    df[\"timestamp\"] = df[\"timestamp\"].apply(\n",
    "        lambda x: hdateti.convert_unix_epoch_to_timestamp(x, unit=\"s\")\n",
    "    )\n",
    "    df = df.set_index(\"timestamp\")\n",
    "    # Convert to `float`.\n",
    "    for cols in df.columns:\n",
    "        df[cols] = df[cols].astype(float)\n",
    "    # Add `full_symbol`.\n",
    "    df[\"full_symbol\"] = full_symbol\n",
    "    # Note: I failed to put [start_time, end_time] to historical request.\n",
    "    # Now it loads all the available data.\n",
    "    # For that reason the time interval is hardcoded on this stage.\n",
    "    df = df.loc[(df.index >= start_date) & (df.index <= end_date)]\n",
    "    return df\n",
    "\n",
    "\n",
    "def read_crypto_chassis_ohlcv(\n",
    "    full_symbols: List[str], start_date: pd.Timestamp, end_date: pd.Timestamp\n",
    ") -> pd.DataFrame:\n",
    "    \"\"\"\n",
    "    - Load the raw data for one symbol.\n",
    "    - Convert it to CK format.\n",
    "    - Repeat the first two steps for all `full_symbols`.\n",
    "    - Concentrate them into unique DataFrame.\n",
    "    \"\"\"\n",
    "    result = []\n",
    "    for full_symbol in full_symbols:\n",
    "        # Load raw data.\n",
    "        df_raw = load_crypto_chassis_ohlcv_for_one_symbol(full_symbol)\n",
    "        # Process it to CK format.\n",
    "        df = apply_ohlcv_transformation(df_raw, full_symbol, start_date, end_date)\n",
    "        result.append(df)\n",
    "    final_df = pd.concat(result)\n",
    "    return final_df"
   ]
  },
  {
   "cell_type": "code",
   "execution_count": null,
   "id": "d0d7fc4e",
   "metadata": {},
   "outputs": [],
   "source": [
    "btc_df = read_crypto_chassis_ohlcv([\"binance::BTC_USDT\"], pd.Timestamp(\"2021-01-01\", tz=\"UTC\"), pd.Timestamp(\"2022-01-01\", tz=\"UTC\"))"
   ]
  },
  {
   "cell_type": "markdown",
   "id": "07328b7f",
   "metadata": {},
   "source": [
    "## Process returns"
   ]
  },
  {
   "cell_type": "code",
   "execution_count": null,
   "id": "7b33f318",
   "metadata": {},
   "outputs": [],
   "source": [
    "btc = btc_df.copy()"
   ]
  },
  {
   "cell_type": "code",
   "execution_count": null,
   "id": "b34f31cf",
   "metadata": {},
   "outputs": [],
   "source": [
    "# Calculate returns.\n",
    "btc[\"rets\"] = btc[\"close\"].pct_change()\n",
    "# Rolling SMA for returns (with 100 periods loockback period).\n",
    "btc[\"rets_sma\"] = btc[\"rets\"].transform(lambda x: x.rolling(window=100).mean())\n",
    "# Substract SMA from returns to remove the upward trend.\n",
    "btc[\"rets_cleaned\"] = btc[\"rets\"] - btc[\"rets_sma\"]\n",
    "#btc[\"rets\"].plot()\n",
    "btc[\"rets_cleaned\"].plot()"
   ]
  },
  {
   "cell_type": "code",
   "execution_count": null,
   "id": "2b0e9c5d",
   "metadata": {},
   "outputs": [],
   "source": [
    "rets = btc[[\"rets_cleaned\"]]\n",
    "rets = rets[rets.rets_cleaned.notna()]"
   ]
  },
  {
   "cell_type": "code",
   "execution_count": null,
   "id": "874bcd46",
   "metadata": {},
   "outputs": [],
   "source": [
    "fig = plt.figure(figsize=(15, 7))\n",
    "ax1 = fig.add_subplot(1, 1, 1)\n",
    "rets.hist(bins=300, ax=ax1)\n",
    "ax1.set_xlabel('Return')\n",
    "ax1.set_ylabel('Sample')\n",
    "ax1.set_title('Returns distribution')\n",
    "plt.show()"
   ]
  },
  {
   "cell_type": "code",
   "execution_count": null,
   "id": "1088e616",
   "metadata": {},
   "outputs": [],
   "source": [
    "rets_df = rets.copy()\n",
    "rets_df.columns = [\"rets\"]\n",
    "\n",
    "# (-1) -> price goes down\n",
    "# 1 -> price goes up\n",
    "rets_df[\"prediction\"] = 2*np.random.randint(0, 2, rets_df.shape[0])-1\n",
    "# Get the difference to estimate the validity of prediciton.\n",
    "rets_df[\"diff\"] = rets_df.rets.diff()\n",
    "# Estimate the prediciton.\n",
    "rets_df[\"hit\"] = ((rets_df[\"diff\"]>0)&(rets_df[\"prediction\"]==1))|((rets_df[\"diff\"]<0)&(rets_df[\"prediction\"]==-1))\n",
    "# Get rid of unnecessary columns\n",
    "rets_df = rets_df.drop(columns=[\"diff\"])\n",
    "rets_df = rets_df.iloc[1:]"
   ]
  },
  {
   "cell_type": "code",
   "execution_count": null,
   "id": "290b4906",
   "metadata": {},
   "outputs": [],
   "source": [
    "rets_df"
   ]
  },
  {
   "cell_type": "code",
   "execution_count": null,
   "id": "dbcb7c58",
   "metadata": {},
   "outputs": [],
   "source": [
    "def calculate_confidence_interval(hit_series, alpha, method):\n",
    "    \"\"\"\n",
    "    :param alpha: Significance level\n",
    "    :param method: \"normal\", \"agresti_coull\", \"beta\", \"wilson\", \"binom_test\"\n",
    "    \"\"\"\n",
    "    point_estimate = hit.mean()\n",
    "    hit_lower, hit_upper = statsmodels.stats.proportion.proportion_confint(\n",
    "        count=hit.sum(), nobs=hit.count(), alpha=alpha, method=method\n",
    "    )\n",
    "    result_values_pct = [100 * point_estimate, 100 * hit_lower, 100 * hit_upper]\n",
    "    conf_alpha = (1 - alpha / 2) * 100\n",
    "    print(f\"hit_rate: {result_values_pct[0]}\")\n",
    "    print(f\"hit_rate_lower_CI_({conf_alpha}%): {result_values_pct[1]}\")\n",
    "    print(f\"hit_rate_upper_CI_({conf_alpha}%): {result_values_pct[2]}\")"
   ]
  },
  {
   "cell_type": "code",
   "execution_count": null,
   "id": "45cd77f6",
   "metadata": {},
   "outputs": [],
   "source": [
    "# Calculate confidence intervals.\n",
    "hit = rets_df[\"hit\"]\n",
    "alpha = 0.05\n",
    "method = \"normal\"\n",
    "calculate_confidence_interval(hit, alpha, method)"
   ]
  },
  {
   "cell_type": "code",
   "execution_count": null,
   "id": "07340176",
   "metadata": {},
   "outputs": [],
   "source": []
  }
 ],
 "metadata": {
  "kernelspec": {
   "display_name": "Python 3 (ipykernel)",
   "language": "python",
   "name": "python3"
  },
  "language_info": {
   "codemirror_mode": {
    "name": "ipython",
    "version": 3
   },
   "file_extension": ".py",
   "mimetype": "text/x-python",
   "name": "python",
   "nbconvert_exporter": "python",
   "pygments_lexer": "ipython3"
  },
  "toc": {
   "base_numbering": 1,
   "nav_menu": {},
   "number_sections": true,
   "sideBar": true,
   "skip_h1_title": false,
   "title_cell": "Table of Contents",
   "title_sidebar": "Contents",
   "toc_cell": false,
   "toc_position": {},
   "toc_section_display": true,
   "toc_window_display": false
  }
 },
 "nbformat": 4,
 "nbformat_minor": 5
}
