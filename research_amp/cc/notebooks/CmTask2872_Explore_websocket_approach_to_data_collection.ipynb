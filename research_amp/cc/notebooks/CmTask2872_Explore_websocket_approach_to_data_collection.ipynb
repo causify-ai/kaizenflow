{
 "cells": [
  {
   "cell_type": "markdown",
   "id": "ec077111",
   "metadata": {},
   "source": [
    "# Python-Binance lib approach"
   ]
  },
  {
   "cell_type": "markdown",
   "id": "f9f08445",
   "metadata": {},
   "source": [
    "As a first approach we will try python-binance lib. We need to install it, since it is not currently a part of dev image"
   ]
  },
  {
   "cell_type": "code",
   "execution_count": null,
   "id": "4935eb40",
   "metadata": {},
   "outputs": [],
   "source": [
    "import sys\n",
    "\n",
    "!sudo {sys.executable} -m pip install python-binance"
   ]
  },
  {
   "cell_type": "code",
   "execution_count": null,
   "id": "5c26ca1e",
   "metadata": {},
   "outputs": [],
   "source": [
    "import asyncio\n",
    "import binance as bn\n",
    "from datetime import datetime, timedelta"
   ]
  },
  {
   "cell_type": "markdown",
   "id": "7a33f20b",
   "metadata": {},
   "source": [
    "## Single symbol demo"
   ]
  },
  {
   "cell_type": "code",
   "execution_count": null,
   "id": "9a3eee63",
   "metadata": {},
   "outputs": [],
   "source": [
    "msgs = []\n",
    "def process_websocket_msg(msg):\n",
    "    msgs.append(msg)"
   ]
  },
  {
   "cell_type": "code",
   "execution_count": null,
   "id": "75f0bf27",
   "metadata": {},
   "outputs": [],
   "source": [
    "async def start_order_book_socket():\n",
    "    # client = await bn.AsyncClient.create(api_key=api_creds[\"apiKey\"], api_secret=api_creds[\"secret\"])\n",
    "    # For this data we don't even need API key.\n",
    "    client = await bn.AsyncClient.create()\n",
    "    # Setting custom timeout when executing with this approach doesn't work.\n",
    "    # i.e. the socket simply continues to stream.\n",
    "    socket_manager = bn.BinanceSocketManager(client, user_timeout=10)\n",
    "    # start the socket\n",
    "    # The library is not a 100% match against the API\n",
    "    # For example we don't have the update speed argument\n",
    "    # available.\n",
    "    order_book_socket = socket_manager.futures_depth_socket('BTCUSDT',\n",
    "                                                           futures_type=bn.enums.FuturesType.USD_M,\n",
    "                                                           depth=bn.BinanceSocketManager.WEBSOCKET_DEPTH_5)\n",
    "    end_time = datetime.now() + timedelta(seconds=10)\n",
    "    async with order_book_socket as obsm:\n",
    "        while datetime.now() < end_time:\n",
    "            msg = await obsm.recv()\n",
    "            process_websocket_msg(msg)\n",
    "\n",
    "    await client.close_connection()"
   ]
  },
  {
   "cell_type": "code",
   "execution_count": null,
   "id": "6df49220",
   "metadata": {},
   "outputs": [],
   "source": [
    "# For some reason running the below code ends with:\n",
    "# RuntimeError: This event loop is already running\n",
    "#loop = asyncio.get_event_loop()\n",
    "#loop.run_until_complete(start_order_book_socket())\n",
    "# We need to run using\n",
    "await start_order_book_socket()"
   ]
  },
  {
   "cell_type": "markdown",
   "id": "d6b6028e",
   "metadata": {},
   "source": [
    "### Received message example\n",
    "- From binance forum https://dev.binance.vision/t/meaning-of-event-time-transaction-time-fields/5449\n",
    "- The transaction time T records the time that the data (e.g. account, order related) got updated and the event time E represents the time a certain data was pushed out from the server\n",
    "- \"When calculating server-to-client latency, I would suggest to consider using event time since the transaction time can be viewed as the internal operation time at the server side.\"\n",
    " - **Should we be calculating the latency?**"
   ]
  },
  {
   "cell_type": "code",
   "execution_count": null,
   "id": "455e9543",
   "metadata": {},
   "outputs": [],
   "source": [
    "msgs[0]"
   ]
  },
  {
   "cell_type": "markdown",
   "id": "3f48eca2",
   "metadata": {},
   "source": [
    "# Unicorn-binance-websocket lib approach"
   ]
  },
  {
   "cell_type": "code",
   "execution_count": null,
   "id": "b67fe766",
   "metadata": {},
   "outputs": [],
   "source": [
    "import sys\n",
    "\n",
    "!sudo {sys.executable} -m pip install unicorn-binance-websocket-api"
   ]
  },
  {
   "cell_type": "code",
   "execution_count": null,
   "id": "bd69f7da",
   "metadata": {},
   "outputs": [],
   "source": [
    "import unicorn_binance_websocket_api.manager as bnwam\n",
    "import im_v2.common.universe.universe as imvcounun\n",
    "from datetime import datetime, timedelta\n",
    "import time\n",
    "import threading\n",
    "import json\n",
    "import pandas as pd"
   ]
  },
  {
   "cell_type": "code",
   "execution_count": null,
   "id": "512b67d5",
   "metadata": {},
   "outputs": [],
   "source": [
    "universe = imvcounun.get_vendor_universe(\"CCXT\", \"download\", version=\"v7\")\n",
    "universe = universe['binance']\n",
    "# convert to websocket format\n",
    "universe = list(map(lambda x: x.replace(\"_\", \"\").lower(), universe))"
   ]
  },
  {
   "cell_type": "code",
   "execution_count": null,
   "id": "d749d5b3",
   "metadata": {},
   "outputs": [],
   "source": [
    "bn_websocket_manager = bnwam.BinanceWebSocketApiManager(exchange=\"binance.com-futures\")"
   ]
  },
  {
   "cell_type": "markdown",
   "id": "f76ca6dd",
   "metadata": {},
   "source": [
    "With regards to airflow we can decide if we want to implement our own timecounter\n",
    "or simply rely on the fact that a single websocket connection lasts 24h.\n",
    "Having our counter will probably make it easier to sync individual downloaders scheduled one after another"
   ]
  },
  {
   "cell_type": "code",
   "execution_count": null,
   "id": "c52d93d7",
   "metadata": {},
   "outputs": [],
   "source": [
    "# Setup callback function\n",
    "data = []\n",
    "run_for = 10 #seconds\n",
    "def process_stream_data(websocket_manager: bnwam.BinanceWebSocketApiManager) -> None:\n",
    "    end_time = datetime.now() + timedelta(seconds=run_for)\n",
    "    while datetime.now() < end_time:\n",
    "        if websocket_manager.is_manager_stopping():\n",
    "            break\n",
    "        oldest_stream_data_from_stream_buffer = websocket_manager.pop_stream_data_from_stream_buffer()\n",
    "        if oldest_stream_data_from_stream_buffer is False:\n",
    "            time.sleep(0.01)\n",
    "        else:\n",
    "            data.append(oldest_stream_data_from_stream_buffer)\n",
    "    websocket_manager.stop_manager_with_all_streams()"
   ]
  },
  {
   "cell_type": "markdown",
   "id": "44853c86",
   "metadata": {},
   "source": [
    "## Bid/Ask Single symbol demo"
   ]
  },
  {
   "cell_type": "code",
   "execution_count": null,
   "id": "59585988",
   "metadata": {},
   "outputs": [],
   "source": [
    "markets = universe[0:1]"
   ]
  },
  {
   "cell_type": "code",
   "execution_count": null,
   "id": "eb692c4c",
   "metadata": {},
   "outputs": [],
   "source": [
    "freq = 500 # miliseconds\n",
    "depth = 5\n",
    "channels = [f\"depth{depth}@{freq}ms\"]\n",
    "# There is a limit of maximum 1024 subscriptions calculated as no. of streams * no. of markets\n",
    "# output=\"dict\" has to be set, otherwise we get raw data as string\n",
    "bn_websocket_manager.create_stream(channels, markets, output=\"dict\")"
   ]
  },
  {
   "cell_type": "code",
   "execution_count": null,
   "id": "cc4469f9",
   "metadata": {},
   "outputs": [],
   "source": [
    "worker_thread = threading.Thread(target=process_stream_data, args=(bn_websocket_manager,))\n",
    "worker_thread.start()\n",
    "# wait until the worker finishes\n",
    "time.sleep(run_for)"
   ]
  },
  {
   "cell_type": "markdown",
   "id": "a30c3d74",
   "metadata": {},
   "source": [
    "### Received message example"
   ]
  },
  {
   "cell_type": "code",
   "execution_count": null,
   "id": "f322cc87",
   "metadata": {},
   "outputs": [],
   "source": [
    "data[0]"
   ]
  },
  {
   "cell_type": "markdown",
   "id": "431bc5f4",
   "metadata": {},
   "source": [
    "## Bid/Ask Full universe demo"
   ]
  },
  {
   "cell_type": "code",
   "execution_count": null,
   "id": "6487a702",
   "metadata": {},
   "outputs": [],
   "source": [
    "freq = 500 # miliseconds\n",
    "depth = 5\n",
    "channels = [f\"depth{depth}@{freq}ms\"]\n",
    "# Reset the data list\n",
    "data = []\n",
    "# Set running time\n",
    "run_for = 10 # seconds\n",
    "markets = universe\n",
    "# There is a limit of maximum 1024 subscriptions calculated as no. of streams * no. of markets\n",
    "# output=\"dict\" has to be set, otherwise we get raw data as string\n",
    "bn_websocket_manager = bnwam.BinanceWebSocketApiManager(exchange=\"binance.com-futures\")\n",
    "bn_websocket_manager.create_stream(channels, markets, output=\"dict\")"
   ]
  },
  {
   "cell_type": "code",
   "execution_count": null,
   "id": "e3b76adc",
   "metadata": {},
   "outputs": [],
   "source": [
    "worker_thread = threading.Thread(target=process_stream_data, args=(bn_websocket_manager,))"
   ]
  },
  {
   "cell_type": "markdown",
   "id": "582228bf",
   "metadata": {},
   "source": [
    "### Monitoring example\n",
    "\n",
    "We can get monitoring of the websocket status and stats through python or also webserver based (not available in the curreny docker jupyter setup)\n",
    "https://github.com/LUCIT-Systems-and-Development/unicorn-binance-websocket-api/wiki/UNICORN-Monitoring-API-Service"
   ]
  },
  {
   "cell_type": "code",
   "execution_count": null,
   "id": "de1d1e83",
   "metadata": {},
   "outputs": [],
   "source": [
    "worker_thread.start()\n",
    "for _ in range(run_for):\n",
    "    print(\"Plain monitoring status:\")\n",
    "    print(bn_websocket_manager.get_monitoring_status_plain())\n",
    "    print(\"-----\")\n",
    "    print(\"Icinga monitoring status\")\n",
    "    print(bn_websocket_manager.get_monitoring_status_icinga())\n",
    "    print(\"-----\")\n",
    "    time.sleep(1)"
   ]
  },
  {
   "cell_type": "markdown",
   "id": "6e65a0d0",
   "metadata": {},
   "source": [
    "### Received data transformation\n",
    "\n",
    "First received message is sometimes '{'id': 1, 'result': None}' reason is unclear at the moment"
   ]
  },
  {
   "cell_type": "code",
   "execution_count": null,
   "id": "ba30134f",
   "metadata": {},
   "outputs": [],
   "source": [
    "# Clean noise\n",
    "print(len(data))\n",
    "data = list(filter(lambda x: \"data\" in x, data))\n",
    "print(len(data))"
   ]
  },
  {
   "cell_type": "code",
   "execution_count": null,
   "id": "2c49c20c",
   "metadata": {},
   "outputs": [],
   "source": [
    "df_full = pd.concat(list(map(pd.json_normalize, data)))\n",
    "df_full = df_full.explode([\"data.a\", \"data.b\"])\n",
    "df_full[[\"bid_price\", \"bid_size\"]] = pd.DataFrame(\n",
    "df_full[\"data.b\"].to_list(), index=df_full.index)\n",
    "df_full[[\"ask_price\", \"ask_size\"]] = pd.DataFrame(\n",
    "df_full[\"data.a\"].to_list(), index=df_full.index)\n",
    "df_full[\"level\"] = df_full.groupby([\"data.s\", \"data.T\"])[[\"data.s\", \"data.T\"]].cumcount().add(1)"
   ]
  },
  {
   "cell_type": "code",
   "execution_count": null,
   "id": "eb9cbc1c",
   "metadata": {},
   "outputs": [],
   "source": [
    "df_full.head()"
   ]
  },
  {
   "cell_type": "code",
   "execution_count": null,
   "id": "08e990fa",
   "metadata": {},
   "outputs": [],
   "source": [
    "df_full['data.s'].value_counts()"
   ]
  },
  {
   "cell_type": "markdown",
   "id": "e2595921",
   "metadata": {},
   "source": [
    "# Saving bid/ask data to the DB: flow proposal"
   ]
  },
  {
   "cell_type": "code",
   "execution_count": null,
   "id": "8ae84092",
   "metadata": {},
   "outputs": [],
   "source": [
    "import helpers.hsql as hsql\n",
    "import im_v2.im_lib_tasks as imvimlita\n",
    "import helpers.hdatetime as hdateti\n",
    "from typing import Dict, List\n",
    "import helpers.hpandas as hpandas\n",
    "import helpers.hdbg as hdbg\n",
    "import helpers.henv as henv\n",
    "import logging"
   ]
  },
  {
   "cell_type": "code",
   "execution_count": null,
   "id": "dadc46f9",
   "metadata": {},
   "outputs": [],
   "source": [
    "hdbg.init_logger(verbosity=logging.ERROR)\n",
    "\n",
    "_LOG = logging.getLogger(__name__)\n",
    "\n",
    "_LOG.info(\"%s\", henv.get_system_signature()[0])"
   ]
  },
  {
   "cell_type": "code",
   "execution_count": null,
   "id": "bb2a3d63",
   "metadata": {},
   "outputs": [],
   "source": [
    "env_file = imvimlita.get_db_env_path(\"dev\")\n",
    "connection_params = hsql.get_connection_info_from_env_file(env_file)\n",
    "db_connection = hsql.get_connection(*connection_params)"
   ]
  },
  {
   "cell_type": "code",
   "execution_count": null,
   "id": "bb1a4adf",
   "metadata": {},
   "outputs": [],
   "source": [
    "# Mapping of the keys of the message relevant to us\n",
    "# to our internal naming convention.\n",
    "# end_download_timestamp is added by us upon receival of the data\n",
    "relevant_column_mapping = {\"T\": \"timestamp\", \n",
    "                           \"s\": \"currency_pair\", \n",
    "                           \"b\": \"bids\", \n",
    "                           \"a\": \"asks\"}\n",
    "def format_websocket_message(msg: Dict) -> Dict:\n",
    "    \"\"\"\n",
    "    TODO(Juraj): add example of before and after\n",
    "    \"\"\"\n",
    "    msg = msg[\"data\"]\n",
    "    return { relevant_column_mapping[k]:msg[k] for k in relevant_column_mapping.keys() }\n",
    "\n",
    "def transform_dict_data_to_df(raw_dict_data: List[Dict]) -> pd.DataFrame:\n",
    "    df_full = pd.DataFrame(raw_dict_data)\n",
    "    df_full = df_full.explode([\"asks\", \"bids\"])\n",
    "    df_full[[\"bid_price\", \"bid_size\"]] = pd.DataFrame(\n",
    "    df_full[\"bids\"].to_list(), index=df_full.index)\n",
    "    df_full[[\"ask_price\", \"ask_size\"]] = pd.DataFrame(\n",
    "    df_full[\"asks\"].to_list(), index=df_full.index)\n",
    "    groupby_cols = [\"currency_pair\", \"timestamp\"]\n",
    "    df_full[\"level\"] = df_full.groupby(groupby_cols)[groupby_cols].cumcount().add(1)\n",
    "    return df_full[[\"timestamp\", \"bid_size\", \"bid_price\", \"ask_size\", \n",
    "                    \"ask_price\", \"currency_pair\", \"level\", \"end_download_timestamp\"]]\n",
    "\n",
    "def insert_buffered_data_into_db(db_buffer: List[Dict], exchange_id: str, db_connection, db_table: str) -> None:\n",
    "    df = transform_dict_data_to_df(db_buffer)\n",
    "    df[\"exchange_id\"] = exchange_id\n",
    "    df[\"knowledge_timestamp\"] = hdateti.get_current_time(\"UTC\")\n",
    "    hsql.execute_insert_query(\n",
    "        connection=db_connection,\n",
    "        obj=df,\n",
    "        table_name=db_table,\n",
    "    )"
   ]
  },
  {
   "cell_type": "code",
   "execution_count": null,
   "id": "8002c373",
   "metadata": {},
   "outputs": [],
   "source": [
    "# Setup callback function\n",
    "run_for = 20 # seconds\n",
    "max_db_buffer_size = 100\n",
    "db_table = \"ccxt_bid_ask_futures_test\"\n",
    "def buffer_and_save_stream_data(websocket_manager: bnwam.BinanceWebSocketApiManager) -> None:\n",
    "    end_time = datetime.now() + timedelta(seconds=run_for)\n",
    "    # TO avoid overhead of inserting few data points at a time we can buffer to a larger size\n",
    "    db_buffer = []\n",
    "    while datetime.now() < end_time:\n",
    "        if websocket_manager.is_manager_stopping():\n",
    "            break\n",
    "        oldest_stream_data = websocket_manager.pop_stream_data_from_stream_buffer()\n",
    "        # If the dict is the above mentioned: '{'id': 1, 'result': None}'\n",
    "        if oldest_stream_data is False or \"data\" not in oldest_stream_data:\n",
    "            time.sleep(0.01)\n",
    "        # TODO(Juraj): handle error messages\n",
    "        else:\n",
    "            end_download_timestamp = hdateti.get_current_time(\"UTC\")\n",
    "            oldest_stream_data = format_websocket_message(oldest_stream_data)\n",
    "            oldest_stream_data[\"end_download_timestamp\"] = end_download_timestamp\n",
    "            db_buffer.append(oldest_stream_data)\n",
    "            if len(db_buffer) >= max_db_buffer_size:\n",
    "                insert_buffered_data_into_db(db_buffer, \"binance\", db_connection, db_table)\n",
    "                # Empty the buffer for next batch.\n",
    "                db_buffer = []\n",
    "    # Insert also the last buffer content.\n",
    "    insert_buffered_data_into_db(db_buffer, \"binance\", db_connection, db_table)\n",
    "    websocket_manager.stop_manager_with_all_streams()"
   ]
  },
  {
   "cell_type": "code",
   "execution_count": null,
   "id": "fe1ed385",
   "metadata": {},
   "outputs": [],
   "source": [
    "freq = 500 # miliseconds\n",
    "depth = 5\n",
    "channels = [f\"depth{depth}@{freq}ms\"]\n",
    "# Reset the data list\n",
    "data = []\n",
    "# Set running time\n",
    "run_for = 10 # seconds\n",
    "markets = universe\n",
    "# There is a limit of maximum 1024 subscriptions calculated as no. of streams * no. of markets\n",
    "# output=\"dict\" has to be set, otherwise we get raw data as string\n",
    "bn_websocket_manager = bnwam.BinanceWebSocketApiManager(exchange=\"binance.com-futures\")\n",
    "bn_websocket_manager.create_stream(channels, markets, output=\"dict\")"
   ]
  },
  {
   "cell_type": "code",
   "execution_count": null,
   "id": "72c83147",
   "metadata": {},
   "outputs": [],
   "source": [
    "worker_thread = threading.Thread(target=buffer_and_save_stream_data, args=(bn_websocket_manager,))\n",
    "worker_thread.start()\n",
    "print(hdateti.get_current_time(\"UTC\"))\n",
    "for _ in range(run_for):\n",
    "    #print(\"Plain monitoring status:\")\n",
    "    #print(bn_websocket_manager.get_monitoring_status_plain())\n",
    "    #print(\"-----\")\n",
    "    time.sleep(1)\n",
    "print(hdateti.get_current_time(\"UTC\"))"
   ]
  },
  {
   "cell_type": "markdown",
   "id": "e9e55e91",
   "metadata": {},
   "source": [
    "# Error Handling"
   ]
  },
  {
   "cell_type": "markdown",
   "id": "d1c4bad2",
   "metadata": {},
   "source": [
    "# OHLCV Single Symbol Demo"
   ]
  },
  {
   "cell_type": "code",
   "execution_count": null,
   "id": "94563630",
   "metadata": {},
   "outputs": [],
   "source": [
    "ohlcv_freq = 1 # minutes\n",
    "channels = [f\"kline_{ohlcv_freq}m\"]\n",
    "# Reset the data list\n",
    "data = []\n",
    "# Set running time\n",
    "run_for = 360 # seconds\n",
    "markets = [\"ethusdt\"]\n",
    "# There is a limit of maximum 1024 subscriptions calculated as no. of streams * no. of markets\n",
    "# output=\"dict\" has to be set, otherwise we get raw data as string\n",
    "bn_websocket_manager_ohlcv = bnwam.BinanceWebSocketApiManager(exchange=\"binance.com-futures\")\n",
    "bn_websocket_manager_ohlcv.create_stream(channels, markets, output=\"dict\")"
   ]
  },
  {
   "cell_type": "code",
   "execution_count": null,
   "id": "a53b811e",
   "metadata": {},
   "outputs": [],
   "source": [
    "worker_thread = threading.Thread(target=process_stream_data, args=(bn_websocket_manager_ohlcv,))\n",
    "worker_thread.start()"
   ]
  },
  {
   "cell_type": "markdown",
   "id": "a902fac7",
   "metadata": {},
   "source": [
    "## Received message example"
   ]
  },
  {
   "cell_type": "code",
   "execution_count": null,
   "id": "ab1c85df",
   "metadata": {},
   "outputs": [],
   "source": [
    "data[0]"
   ]
  },
  {
   "cell_type": "markdown",
   "id": "a8adf0b9",
   "metadata": {},
   "source": [
    "We are interested only in the finished klines (denoted by field \"x\" in the API)"
   ]
  },
  {
   "cell_type": "code",
   "execution_count": null,
   "id": "aa6bf573",
   "metadata": {},
   "outputs": [],
   "source": [
    "finished_klines = list(filter(lambda x: x.get(\"data\") and x[\"data\"][\"k\"][\"x\"], data))"
   ]
  },
  {
   "cell_type": "code",
   "execution_count": null,
   "id": "72cc6ce5",
   "metadata": {},
   "outputs": [],
   "source": [
    "finished_klines[0]"
   ]
  },
  {
   "cell_type": "markdown",
   "id": "48843e52",
   "metadata": {},
   "source": [
    "# Saving OHLCV data to DB: flow proposal"
   ]
  },
  {
   "cell_type": "code",
   "execution_count": null,
   "id": "080dc72d",
   "metadata": {},
   "outputs": [],
   "source": [
    "# Mapping of the keys of the message relevant to us\n",
    "# to our internal naming convention.\n",
    "# end_download_timestamp is added by us upon receival of the data\n",
    "relevant_column_mapping = {\"t\": \"timestamp\", \n",
    "                           \"o\": \"open\", \n",
    "                           \"h\": \"high\", \n",
    "                           \"l\": \"low\",\n",
    "                           \"c\": \"close\",\n",
    "                           \"v\": \"volume\"}\n",
    "def format_websocket_message(msg: Dict) -> Dict:\n",
    "    \"\"\"\n",
    "    TODO(Juraj): add example of before and after\n",
    "    \"\"\"\n",
    "    currency_pair = msg[\"data\"][\"s\"]\n",
    "    msg = msg[\"data\"][\"k\"]\n",
    "    formatted_msg = { relevant_column_mapping[k]:msg[k] for k in relevant_column_mapping.keys() }\n",
    "    formatted_msg[\"currency_pair\"] = currency_pair\n",
    "    return formatted_msg\n"
   ]
  },
  {
   "cell_type": "code",
   "execution_count": null,
   "id": "6a6d445c",
   "metadata": {},
   "outputs": [],
   "source": [
    "def is_finished_kline_data(stream_data) -> bool:\n",
    "    return stream_data != False and \"data\" in stream_data and stream_data[\"data\"][\"k\"].get(\"x\")"
   ]
  },
  {
   "cell_type": "code",
   "execution_count": null,
   "id": "c4dbd384",
   "metadata": {},
   "outputs": [],
   "source": [
    "def insert_buffered_data_into_db(db_buffer: List[Dict], exchange_id: str, db_connection, db_table: str) -> None:\n",
    "    df = pd.DataFrame(db_buffer)\n",
    "    df[\"exchange_id\"] = exchange_id\n",
    "    df[\"knowledge_timestamp\"] = hdateti.get_current_time(\"UTC\")\n",
    "    hsql.execute_insert_query(\n",
    "        connection=db_connection,\n",
    "        obj=df,\n",
    "        table_name=db_table,\n",
    "    )"
   ]
  },
  {
   "cell_type": "code",
   "execution_count": null,
   "id": "079e9d77",
   "metadata": {},
   "outputs": [],
   "source": [
    "# Setup callback function\n",
    "max_db_buffer_size = len(universe)\n",
    "db_table = \"ccxt_ohlcv_futures_test\"\n",
    "def buffer_and_save_stream_data(websocket_manager: bnwam.BinanceWebSocketApiManager) -> None:\n",
    "    end_time = datetime.now() + timedelta(seconds=run_for)\n",
    "    # TO avoid overhead of inserting few data points at a time we can buffer to a larger size\n",
    "    db_buffer = []\n",
    "    while datetime.now() < end_time:\n",
    "        if websocket_manager.is_manager_stopping():\n",
    "            break\n",
    "        oldest_stream_data = websocket_manager.pop_stream_data_from_stream_buffer()\n",
    "        # If the dict is the above mentioned: '{'id': 1, 'result': None}'\n",
    "        if not is_finished_kline_data(oldest_stream_data):\n",
    "            time.sleep(0.01)\n",
    "        # TODO(Juraj): handle error messages\n",
    "        else:\n",
    "            end_download_timestamp = hdateti.get_current_time(\"UTC\")\n",
    "            oldest_stream_data = format_websocket_message(oldest_stream_data)\n",
    "            oldest_stream_data[\"end_download_timestamp\"] = end_download_timestamp\n",
    "            db_buffer.append(oldest_stream_data)\n",
    "            if len(db_buffer) >= max_db_buffer_size:\n",
    "                insert_buffered_data_into_db(db_buffer, \"binance\", db_connection, db_table)\n",
    "                # Empty the buffer for next batch.\n",
    "                db_buffer = []\n",
    "    # Insert also the last buffer content.\n",
    "    insert_buffered_data_into_db(db_buffer, \"binance\", db_connection, db_table)\n",
    "    websocket_manager.stop_manager_with_all_streams()"
   ]
  },
  {
   "cell_type": "code",
   "execution_count": null,
   "id": "91f1de6f",
   "metadata": {},
   "outputs": [],
   "source": [
    "ohlcv_freq = 1 # minutes\n",
    "channels = [f\"kline_{ohlcv_freq}m\"]\n",
    "# Reset the data list\n",
    "data = []\n",
    "# Set running time\n",
    "run_for = 360 # seconds\n",
    "markets = universe\n",
    "# There is a limit of maximum 1024 subscriptions calculated as no. of streams * no. of markets\n",
    "# output=\"dict\" has to be set, otherwise we get raw data as string\n",
    "bn_websocket_manager_ohlcv = bnwam.BinanceWebSocketApiManager(exchange=\"binance.com-futures\")\n",
    "bn_websocket_manager_ohlcv.create_stream(channels, markets, output=\"dict\")"
   ]
  },
  {
   "cell_type": "code",
   "execution_count": null,
   "id": "e6a72d3a",
   "metadata": {},
   "outputs": [],
   "source": [
    "worker_thread = threading.Thread(target=buffer_and_save_stream_data, args=(bn_websocket_manager_ohlcv,))\n",
    "worker_thread.start()\n",
    "for _ in range(run_for / 10):\n",
    "    print(\"Plain monitoring status:\")\n",
    "    print(bn_websocket_manager.get_monitoring_status_plain())\n",
    "    print(\"-----\")\n",
    "    time.sleep(10)"
   ]
  },
  {
   "cell_type": "code",
   "execution_count": null,
   "id": "5559117b",
   "metadata": {},
   "outputs": [],
   "source": []
  }
 ],
 "metadata": {
  "kernelspec": {
   "display_name": "Python 3 (ipykernel)",
   "language": "python",
   "name": "python3"
  },
  "language_info": {
   "codemirror_mode": {
    "name": "ipython",
    "version": 3
   },
   "file_extension": ".py",
   "mimetype": "text/x-python",
   "name": "python",
   "nbconvert_exporter": "python",
   "pygments_lexer": "ipython3"
  },
  "toc": {
   "base_numbering": 1,
   "nav_menu": {},
   "number_sections": true,
   "sideBar": true,
   "skip_h1_title": false,
   "title_cell": "Table of Contents",
   "title_sidebar": "Contents",
   "toc_cell": false,
   "toc_position": {},
   "toc_section_display": true,
   "toc_window_display": false
  }
 },
 "nbformat": 4,
 "nbformat_minor": 5
}
