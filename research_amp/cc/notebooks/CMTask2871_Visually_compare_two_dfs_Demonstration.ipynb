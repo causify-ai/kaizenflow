{
 "cells": [
  {
   "cell_type": "code",
   "execution_count": null,
   "id": "324a2a25",
   "metadata": {},
   "outputs": [],
   "source": [
    "import pandas as pd\n",
    "\n",
    "import helpers.hdbg as hdbg"
   ]
  },
  {
   "cell_type": "code",
   "execution_count": null,
   "id": "47104ed3",
   "metadata": {},
   "outputs": [],
   "source": [
    "timestamp_index = [\n",
    "    pd.Timestamp(\"2022-09-08 21:01:00+00:00\"),\n",
    "    pd.Timestamp(\"2022-09-08 21:02:00+00:00\"),\n",
    "    pd.Timestamp(\"2022-09-08 21:03:00+00:00\"),\n",
    "]\n",
    "values = {\n",
    "    \"bid_price\": pd.Series([2.31, 3.22, 2.33]),\n",
    "    \"bid_size\": pd.Series([1.1, 2.2, 3.3]),\n",
    "    \"ask_price\": pd.Series([2.34, 3.24, 2.35]),\n",
    "    \"ask_size\": pd.Series([4.4, 5.5, 6.6]),\n",
    "    \"timestamp\": timestamp_index,\n",
    "}\n",
    "df1 = pd.DataFrame(data=values)\n",
    "df1 = df1.set_index(\"timestamp\")\n",
    "\n",
    "timestamp_index1 = [\n",
    "    pd.Timestamp(\"2022-09-08 21:01:00+00:00\"),\n",
    "    pd.Timestamp(\"2022-09-08 21:02:00+00:00\"),\n",
    "    \"Extra_row\",\n",
    "]\n",
    "values1 = {\n",
    "    \"bid_price\": pd.Series([2.32, 3.21, 2.23]),\n",
    "    \"bid_size\": pd.Series([1.04, 2.76, 3.25]),\n",
    "    \"ask_price\": pd.Series([2.32, 3.25, 2.34]),\n",
    "    \"ask_size\": pd.Series([4.35, 5.56, 6.54]),\n",
    "    \"timestamp\": timestamp_index1,\n",
    "    \"Extra_col\": pd.Series([\"rr\", 4, 5]),\n",
    "}\n",
    "df2 = pd.DataFrame(data=values1)\n",
    "df2 = df2.set_index(\"timestamp\")\n",
    "#\n",
    "display(df1)\n",
    "display(df2)"
   ]
  },
  {
   "cell_type": "code",
   "execution_count": null,
   "id": "48a12685",
   "metadata": {},
   "outputs": [],
   "source": [
    "def compare_visually_dataframes(\n",
    "    df1, df2, column_mode=\"equal\", row_mode=\"equal\", diff_mode=\"diff\"\n",
    "):\n",
    "    \"\"\"\n",
    "    :param row_mode: controls how the rows are handled\n",
    "     - \"equal\": rows need to be the same\n",
    "     - \"inner\": compute the intersection\n",
    "    :param column_mode: same as row_mode\n",
    "    :param diff_mode: control how the dataframes are computed\n",
    "     - \"diff\": compute the difference between dataframes\n",
    "     - \"pct_change\": compute the percentage change between dataframes\n",
    "    \"\"\"\n",
    "    if row_mode == \"equal\":\n",
    "        hdbg.dassert_eq(list(df1.index), list(df2.index))\n",
    "    elif row_mode == \"inner\":\n",
    "        same_rows = list((set(df1.index)).intersection(set(df2.index)))\n",
    "        df1 = df1[df1.index.isin(same_rows)]\n",
    "        df2 = df2[df2.index.isin(same_rows)]\n",
    "    else:\n",
    "        raise ValueError(\"Invalid row_mode='%s'\" % row_mode)\n",
    "    #\n",
    "    if column_mode == \"equal\":\n",
    "        hdbg.dassert_eq(sorted(df1.columns), sorted(df2.columns))\n",
    "        col_names = df1.columns\n",
    "    elif column_mode == \"inner\":\n",
    "        col_names = list(set(df1.columns).intersection(set(df2.columns)))\n",
    "    else:\n",
    "        raise ValueError(\"Invalid column_mode='%s'\" % column_mode)\n",
    "    #\n",
    "    if diff_mode == \"diff\":\n",
    "        df_diff = df1[col_names] - df2[col_names]\n",
    "    elif diff_mode == \"pct_change\":\n",
    "        df_diff = 100 * (df1[col_names] - df2[col_names]) / df2[col_names]\n",
    "    df_diff = df_diff.add_suffix(f\"_{diff_mode}\")\n",
    "    #\n",
    "    return df_diff"
   ]
  },
  {
   "cell_type": "code",
   "execution_count": null,
   "id": "30c0494b",
   "metadata": {},
   "outputs": [],
   "source": [
    "compare_visually_dataframes(\n",
    "    df1, df2, row_mode=\"inner\", column_mode=\"inner\", diff_mode=\"diff\"\n",
    ")"
   ]
  },
  {
   "cell_type": "code",
   "execution_count": null,
   "id": "d9eed3e6",
   "metadata": {},
   "outputs": [],
   "source": []
  }
 ],
 "metadata": {
  "kernelspec": {
   "display_name": "Python 3 (ipykernel)",
   "language": "python",
   "name": "python3"
  },
  "language_info": {
   "codemirror_mode": {
    "name": "ipython",
    "version": 3
   },
   "file_extension": ".py",
   "mimetype": "text/x-python",
   "name": "python",
   "nbconvert_exporter": "python",
   "pygments_lexer": "ipython3"
  },
  "toc": {
   "base_numbering": 1,
   "nav_menu": {},
   "number_sections": true,
   "sideBar": true,
   "skip_h1_title": false,
   "title_cell": "Table of Contents",
   "title_sidebar": "Contents",
   "toc_cell": false,
   "toc_position": {},
   "toc_section_display": true,
   "toc_window_display": false
  }
 },
 "nbformat": 4,
 "nbformat_minor": 5
}
