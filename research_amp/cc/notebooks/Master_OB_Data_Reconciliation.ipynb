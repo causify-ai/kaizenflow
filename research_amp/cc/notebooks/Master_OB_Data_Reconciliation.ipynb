{
 "cells": [
  {
   "cell_type": "markdown",
   "id": "e545da78",
   "metadata": {},
   "source": [
    "# Imports"
   ]
  },
  {
   "cell_type": "code",
   "execution_count": null,
   "id": "c4780eec",
   "metadata": {},
   "outputs": [],
   "source": [
    "%load_ext autoreload\n",
    "%autoreload 2\n",
    "\n",
    "import logging\n",
    "import os\n",
    "\n",
    "import pandas as pd\n",
    "\n",
    "import core.config as cconfig\n",
    "import helpers.hdbg as hdbg\n",
    "import helpers.henv as henv\n",
    "import helpers.hpandas as hpandas\n",
    "import helpers.hprint as hprint\n",
    "import helpers.hs3 as hs3\n",
    "import helpers.hsql as hsql\n",
    "import im_v2.ccxt.data.client as icdcl\n",
    "import im_v2.crypto_chassis.data.client as iccdc\n",
    "import im_v2.im_lib_tasks as imvimlita"
   ]
  },
  {
   "cell_type": "code",
   "execution_count": null,
   "id": "409c1bfd",
   "metadata": {},
   "outputs": [],
   "source": [
    "hdbg.init_logger(verbosity=logging.INFO)\n",
    "\n",
    "_LOG = logging.getLogger(__name__)\n",
    "\n",
    "_LOG.info(\"%s\", henv.get_system_signature()[0])\n",
    "\n",
    "hprint.config_notebook()"
   ]
  },
  {
   "cell_type": "markdown",
   "id": "04b9dfc1",
   "metadata": {},
   "source": [
    "# Config"
   ]
  },
  {
   "cell_type": "code",
   "execution_count": null,
   "id": "260b47a6",
   "metadata": {},
   "outputs": [],
   "source": [
    "def get_example_config() -> cconfig.Config:\n",
    "    \"\"\"\n",
    "    Config for comparison of 1sec CryptoChassis and 1sec CCXT bid/ask data\n",
    "    \"\"\"\n",
    "    # TODO(Danya): parameters: 1sec/1min, bid/ask//ohclv, vendors\n",
    "    config = cconfig.Config()\n",
    "    param_dict = {\n",
    "        \"data\": {\n",
    "            # Whether to resample 1sec data to 1min using our production flow.\n",
    "            \"resample_1min\" = False\n",
    "            # Parameters for client initialization.\n",
    "            \"cc_im_client\": {\n",
    "                \"universe_version\": None,\n",
    "                \"resample_1min\": False,\n",
    "                \"contract_type\": \"futures\",\n",
    "                \"tag\":\"downloaded_1sec\"\n",
    "            },\n",
    "            \"ccxt_im_client\": {\n",
    "                \"resample_1min\": False,\n",
    "                \"db_connection\": hsql.get_connection(\n",
    "                    *hsql.get_connection_info_from_env_file(\n",
    "                        imvimlita.get_db_env_path(\"dev\")\n",
    "                    )\n",
    "                ),\n",
    "                \"table_name\": \"ccxt_bid_ask_futures_raw\",\n",
    "            },\n",
    "            # Parameters for data query.\n",
    "            \"read_data\": {\n",
    "                # Get start/end ts as inputs to script.\n",
    "                \"start_ts\": pd.Timestamp(\"2022-11-15 00:00:00+00:00\"),\n",
    "                \"end_ts\": pd.Timestamp(\"2022-11-15 00:00:15+00:00\"),\n",
    "                \"columns\": None,\n",
    "                \"filter_data_mode\": \"assert\",\n",
    "            },\n",
    "        },\n",
    "        \"column_names\": {\n",
    "            \"bid_ask_cols\": [\n",
    "                \"bid_price\",\n",
    "                \"bid_size\",\n",
    "                \"ask_price\",\n",
    "                \"ask_size\",\n",
    "            ],\n",
    "        },\n",
    "        \"order_level\": 1,\n",
    "    }\n",
    "    config = cconfig.Config.from_dict(param_dict)\n",
    "    return config\n",
    "\n",
    "\n",
    "config = get_example_config()\n",
    "print(config)"
   ]
  },
  {
   "cell_type": "markdown",
   "id": "6185b31c",
   "metadata": {},
   "source": [
    "# Clients"
   ]
  },
  {
   "cell_type": "code",
   "execution_count": null,
   "id": "3a9e85ec",
   "metadata": {},
   "outputs": [],
   "source": [
    "# CCXT client.\n",
    "ccxt_im_client = icdcl.CcxtSqlRealTimeImClient(**config[\"data\"][\"ccxt_im_client\"])\n",
    "# CC client.\n",
    "cc_parquet_client = iccdc.get_CryptoChassisHistoricalPqByTileClient_example2(**config[\"data\"][\"cc_im_client\"])"
   ]
  },
  {
   "cell_type": "markdown",
   "id": "9446b8a6",
   "metadata": {},
   "source": [
    "# Universe"
   ]
  },
  {
   "cell_type": "code",
   "execution_count": null,
   "id": "3c94b5be",
   "metadata": {},
   "outputs": [],
   "source": [
    "# DB universe\n",
    "ccxt_universe = ccxt_im_client.get_universe()\n",
    "# CC universe.\n",
    "cc_universe = cc_parquet_client.get_universe()\n",
    "# Intersection of universes that will be used for analysis.\n",
    "universe = list(set(ccxt_universe) & set(cc_universe))"
   ]
  },
  {
   "cell_type": "code",
   "execution_count": null,
   "id": "3de4b2b8",
   "metadata": {},
   "outputs": [],
   "source": [
    "compare_universe = hprint.set_diff_to_str(\n",
    "    cc_universe, ccxt_universe, add_space=True\n",
    ")\n",
    "print(compare_universe)"
   ]
  },
  {
   "cell_type": "markdown",
   "id": "67222cf1",
   "metadata": {},
   "source": [
    "# Load data"
   ]
  },
  {
   "cell_type": "markdown",
   "id": "3f742716",
   "metadata": {},
   "source": [
    "## Load CCXT"
   ]
  },
  {
   "cell_type": "code",
   "execution_count": null,
   "id": "21d1a969",
   "metadata": {},
   "outputs": [],
   "source": [
    "ccxt_df = ccxt_im_client.read_data(universe, **config[\"data\"][\"read_data\"])"
   ]
  },
  {
   "cell_type": "code",
   "execution_count": null,
   "id": "64441454",
   "metadata": {},
   "outputs": [],
   "source": [
    "ccxt_df.head(10)"
   ]
  },
  {
   "cell_type": "markdown",
   "id": "8145f48d",
   "metadata": {},
   "source": [
    "On the first glance:\n",
    "- It has levels where they are not expected to be\n",
    "- The level columns are empty"
   ]
  },
  {
   "cell_type": "markdown",
   "id": "dbc6b658",
   "metadata": {},
   "source": [
    "### Clean CCXT data"
   ]
  },
  {
   "cell_type": "code",
   "execution_count": null,
   "id": "b3c2938f",
   "metadata": {},
   "outputs": [],
   "source": [
    "# Remove level suffix in the TOB column name.\n",
    "ccxt_df.columns = ccxt_df.columns.str.replace(\"_1\", \"\")\n",
    "# Remove all levels.\n",
    "target_columns = [col for col in ccxt_df.columns if not col[-1].isnumeric()]\n",
    "target_columns = [col for col in target_columns if col!=\"end_download_timestamp\"]\n",
    "ccxt_df = ccxt_df[target_columns]\n",
    "# CCXT timestamp data goes up to milliseconds, so one needs to round it to seconds.\n",
    "ccxt_df.index = ccxt_df.reset_index()[\"timestamp\"].apply(\n",
    "            lambda x: x.round(freq=\"S\")\n",
    "        )\n",
    "ccxt_df = ccxt_df.reset_index().set_index([\"timestamp\", \"full_symbol\"])\n",
    "display(ccxt_df.head(10))"
   ]
  },
  {
   "cell_type": "markdown",
   "id": "58816ec8",
   "metadata": {},
   "source": [
    "## Load CCXT"
   ]
  },
  {
   "cell_type": "code",
   "execution_count": null,
   "id": "d7807a0f",
   "metadata": {},
   "outputs": [],
   "source": [
    "cc_df = cc_parquet_client.read_data(universe, **config[\"data\"][\"read_data\"])\n",
    "cc_df = cc_df.reset_index().set_index([\"timestamp\", \"full_symbol\"])\n",
    "display(cc_df.head(10))"
   ]
  },
  {
   "cell_type": "markdown",
   "id": "9ff70c08",
   "metadata": {},
   "source": [
    "# Resampling data"
   ]
  },
  {
   "cell_type": "code",
   "execution_count": null,
   "id": "811022bf",
   "metadata": {},
   "outputs": [],
   "source": [
    "resample_1min = config.get_and_mark_as_used((\"data\", \"resample_1min\"))\n",
    "if resample_1min:\n",
    "    ccxt_df = "
   ]
  },
  {
   "cell_type": "markdown",
   "id": "7d824e76",
   "metadata": {},
   "source": [
    "# Analysis"
   ]
  },
  {
   "cell_type": "markdown",
   "id": "8af09198",
   "metadata": {},
   "source": [
    "## Merge CC and DB data into one DataFrame\n"
   ]
  },
  {
   "cell_type": "code",
   "execution_count": null,
   "id": "06d30ad9",
   "metadata": {},
   "outputs": [],
   "source": [
    "data = ccxt_df.merge(\n",
    "    cc_df,\n",
    "    how=\"outer\",\n",
    "    left_index=True,\n",
    "    right_index=True,\n",
    "    suffixes=(\"_ccxt\", \"_cc\"),\n",
    ")\n",
    "_LOG.info(\"Start date = %s\", data.reset_index()[\"timestamp\"].min())\n",
    "_LOG.info(\"End date = %s\", data.reset_index()[\"timestamp\"].max())\n",
    "_LOG.info(\n",
    "    \"Avg observations per coin = %s\",\n",
    "    len(data) / len(data.reset_index()[\"full_symbol\"].unique()),\n",
    ")\n",
    "# Move the same metrics from two vendors together.\n",
    "data = data.reindex(sorted(data.columns), axis=1)\n",
    "# NaNs observation.\n",
    "_LOG.info(\n",
    "    \"Number of observations with NaNs in CryptoChassis = %s\",\n",
    "    len(data[data[\"bid_price_cc\"].isna()]),\n",
    ")\n",
    "_LOG.info(\n",
    "    \"Number of observations with NaNs in CCXT = %s\",\n",
    "    len(data[data[\"bid_price_ccxt\"].isna()]),\n",
    ")\n",
    "# Remove NaNs.\n",
    "data = hpandas.dropna(data, report_stats=True)\n",
    "#\n",
    "display(data.tail())"
   ]
  },
  {
   "cell_type": "markdown",
   "id": "b98d31ee",
   "metadata": {},
   "source": [
    "## Calculate differences"
   ]
  },
  {
   "cell_type": "code",
   "execution_count": null,
   "id": "df71eb3b",
   "metadata": {},
   "outputs": [],
   "source": [
    "# Full symbol will not be relevant in calculation loops below.\n",
    "bid_ask_cols = config[\"column_names\"][\"bid_ask_cols\"]\n",
    "# Each bid ask value will have a notional and a relative difference between two sources.\n",
    "for col in bid_ask_cols:\n",
    "    # Notional difference: CC value - DB value.\n",
    "    data[f\"{col}_diff\"] = data[f\"{col}_cc\"] - data[f\"{col}_ccxt\"]\n",
    "    # Relative value: (CC value - DB value)/DB value.\n",
    "    data[f\"{col}_relative_diff_pct\"] = (\n",
    "        100 * (data[f\"{col}_cc\"] - data[f\"{col}_ccxt\"]) / data[f\"{col}_ccxt\"]\n",
    "    )"
   ]
  },
  {
   "cell_type": "code",
   "execution_count": null,
   "id": "dc9a738e",
   "metadata": {},
   "outputs": [],
   "source": [
    "# Calculate the mean value of differences for each coin.\n",
    "diff_stats = []\n",
    "grouper = data.groupby([\"full_symbol\"])\n",
    "for col in bid_ask_cols:\n",
    "    diff_stats.append(grouper[f\"{col}_diff\"].mean())\n",
    "    diff_stats.append(grouper[f\"{col}_relative_diff_pct\"].mean())\n",
    "#\n",
    "diff_stats = pd.concat(diff_stats, axis=1)"
   ]
  },
  {
   "cell_type": "markdown",
   "id": "6483421c",
   "metadata": {},
   "source": [
    "## Show stats for differences (in %)"
   ]
  },
  {
   "cell_type": "markdown",
   "id": "1b7669cc",
   "metadata": {},
   "source": [
    "### Prices"
   ]
  },
  {
   "cell_type": "code",
   "execution_count": null,
   "id": "5ff8920d",
   "metadata": {},
   "outputs": [],
   "source": [
    "display(diff_stats[[\"bid_price_relative_diff_pct\", \"ask_price_relative_diff_pct\"]])"
   ]
  },
  {
   "cell_type": "markdown",
   "id": "a12969c6",
   "metadata": {},
   "source": [
    "### Sizes"
   ]
  },
  {
   "cell_type": "code",
   "execution_count": null,
   "id": "e0d9a90b",
   "metadata": {},
   "outputs": [],
   "source": [
    "display(diff_stats[[\"bid_size_relative_diff_pct\", \"ask_size_relative_diff_pct\"]])"
   ]
  },
  {
   "cell_type": "markdown",
   "id": "66cc7739",
   "metadata": {},
   "source": [
    "## Correlations"
   ]
  },
  {
   "cell_type": "markdown",
   "id": "33d039ec",
   "metadata": {},
   "source": [
    "### Bid price"
   ]
  },
  {
   "cell_type": "code",
   "execution_count": null,
   "id": "2647fdc4",
   "metadata": {},
   "outputs": [],
   "source": [
    "bid_price_corr_matrix = (\n",
    "    data[[\"bid_price_cc\", \"bid_price_ccxt\"]].groupby(level=1).corr()\n",
    ")\n",
    "display(bid_price_corr_matrix)"
   ]
  },
  {
   "cell_type": "markdown",
   "id": "69f32582",
   "metadata": {},
   "source": [
    "### Ask price"
   ]
  },
  {
   "cell_type": "code",
   "execution_count": null,
   "id": "6f8cc1c7",
   "metadata": {},
   "outputs": [],
   "source": [
    "ask_price_corr_matrix = (\n",
    "    data[[\"ask_price_cc\", \"ask_price_ccxt\"]].groupby(level=1).corr()\n",
    ")\n",
    "display(ask_price_corr_matrix)"
   ]
  },
  {
   "cell_type": "markdown",
   "id": "832649c6",
   "metadata": {},
   "source": [
    "### Bid size"
   ]
  },
  {
   "cell_type": "code",
   "execution_count": null,
   "id": "aa3799b2",
   "metadata": {},
   "outputs": [],
   "source": [
    "bid_size_corr_matrix = (\n",
    "    data[[\"bid_size_cc\", \"bid_size_ccxt\"]].groupby(level=1).corr()\n",
    ")\n",
    "display(bid_size_corr_matrix)"
   ]
  },
  {
   "cell_type": "markdown",
   "id": "42584401",
   "metadata": {},
   "source": [
    "### Ask size"
   ]
  },
  {
   "cell_type": "code",
   "execution_count": null,
   "id": "59335bbf",
   "metadata": {},
   "outputs": [],
   "source": [
    "ask_size_corr_matrix = (\n",
    "    data[[\"ask_size_cc\", \"ask_size_ccxt\"]].groupby(level=1).corr()\n",
    ")\n",
    "display(ask_size_corr_matrix)"
   ]
  }
 ],
 "metadata": {
  "kernelspec": {
   "display_name": "Python 3 (ipykernel)",
   "language": "python",
   "name": "python3"
  },
  "language_info": {
   "codemirror_mode": {
    "name": "ipython",
    "version": 3
   },
   "file_extension": ".py",
   "mimetype": "text/x-python",
   "name": "python",
   "nbconvert_exporter": "python",
   "pygments_lexer": "ipython3"
  },
  "toc": {
   "base_numbering": 1,
   "nav_menu": {},
   "number_sections": true,
   "sideBar": true,
   "skip_h1_title": false,
   "title_cell": "Table of Contents",
   "title_sidebar": "Contents",
   "toc_cell": false,
   "toc_position": {
    "height": "calc(100% - 180px)",
    "left": "10px",
    "top": "150px",
    "width": "249px"
   },
   "toc_section_display": true,
   "toc_window_display": true
  }
 },
 "nbformat": 4,
 "nbformat_minor": 5
}
