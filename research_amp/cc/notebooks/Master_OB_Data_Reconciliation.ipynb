{
 "cells": [
  {
   "cell_type": "code",
   "execution_count": null,
   "id": "19d3e23c",
   "metadata": {},
   "outputs": [],
   "source": [
    "# TODO(Max): convert to master notebook.\n",
    "# TODO(Max): the notebook is runnable only from branch: `CMTask2703_Perform_manual_reconciliation_of_OB_data`."
   ]
  },
  {
   "cell_type": "markdown",
   "id": "13ea08e1",
   "metadata": {},
   "source": [
    "- CCXT data = CCXT real-time DB bid-ask data collection for futures\n",
    "- CC data = CryptoChassis historical Parquet bid-ask futures data"
   ]
  },
  {
   "cell_type": "markdown",
   "id": "e545da78",
   "metadata": {},
   "source": [
    "# Imports"
   ]
  },
  {
   "cell_type": "code",
   "execution_count": null,
   "id": "c4780eec",
   "metadata": {},
   "outputs": [],
   "source": [
    "%load_ext autoreload\n",
    "%autoreload 2\n",
    "\n",
    "import logging\n",
    "import os\n",
    "\n",
    "import pandas as pd\n",
    "\n",
    "import core.config as cconfig\n",
    "import helpers.hdbg as hdbg\n",
    "import helpers.henv as henv\n",
    "import helpers.hpandas as hpandas\n",
    "import helpers.hprint as hprint\n",
    "import helpers.hs3 as hs3\n",
    "import helpers.hsql as hsql\n",
    "import im_v2.ccxt.data.client as icdcl\n",
    "import im_v2.crypto_chassis.data.client as iccdc\n",
    "import im_v2.im_lib_tasks as imvimlita"
   ]
  },
  {
   "cell_type": "code",
   "execution_count": null,
   "id": "409c1bfd",
   "metadata": {},
   "outputs": [],
   "source": [
    "hdbg.init_logger(verbosity=logging.INFO)\n",
    "\n",
    "_LOG = logging.getLogger(__name__)\n",
    "\n",
    "_LOG.info(\"%s\", henv.get_system_signature()[0])\n",
    "\n",
    "hprint.config_notebook()"
   ]
  },
  {
   "cell_type": "markdown",
   "id": "260b2eb2",
   "metadata": {},
   "source": [
    "# Config"
   ]
  },
  {
   "cell_type": "code",
   "execution_count": null,
   "id": "b61a8a29",
   "metadata": {},
   "outputs": [],
   "source": [
    "def get_example_config() -> cconfig.Config:\n",
    "    \"\"\"\n",
    "    Config for comparison of 1sec CryptoChassis and 1sec CCXT bid/ask data\n",
    "    \"\"\"\n",
    "    # TODO(Danya): parameters: 1sec/1min, bid/ask//ohclv, vendors\n",
    "    config = cconfig.Config()\n",
    "    param_dict = {\n",
    "        \"data\": {\n",
    "            # Parameters for client initialization.\n",
    "            \"cc_im_client\": {\n",
    "                \"universe_version\": None,\n",
    "                \"resample_1min\": False,\n",
    "                \"root_dir\": os.path.join(\n",
    "                    hs3.get_s3_bucket_path(\"ck\"),\n",
    "                    \"reorg\",\n",
    "                    \"daily_staged.airflow.pq\",\n",
    "                ),\n",
    "                \"partition_mode\": \"by_year_month\",\n",
    "                \"dataset\": \"bid_ask\",\n",
    "                \"contract_type\": \"futures\",\n",
    "                \"data_snapshot\": \"\",\n",
    "                \"aws_profile\": \"ck\",\n",
    "            },\n",
    "            \"ccxt_im_client\": {\n",
    "                \"resample_1min\": False,\n",
    "                \"db_connection\": hsql.get_connection(\n",
    "                    *hsql.get_connection_info_from_env_file(\n",
    "                        imvimlita.get_db_env_path(\"dev\")\n",
    "                    )\n",
    "                ),\n",
    "                \"table_name\": \"ccxt_bid_ask_futures_raw\",\n",
    "            },\n",
    "            # Parameters for data query.\n",
    "            \"read_data\": {\n",
    "                # Get start/end ts as inputs to script.\n",
    "                \"start_ts\": pd.Timestamp(\"2022-11-16 00:00:00+00:00\"),\n",
    "                \"end_ts\": pd.Timestamp(\"2022-11-16 00:00:15+00:00\"),\n",
    "                \"columns\": None,\n",
    "                \"filter_data_mode\": \"assert\",\n",
    "            },\n",
    "        },\n",
    "        \"column_names\": {\n",
    "            \"bid_ask_cols\": [\n",
    "                \"bid_price\",\n",
    "                \"bid_size\",\n",
    "                \"ask_price\",\n",
    "                \"ask_size\",\n",
    "                \"full_symbol\",\n",
    "            ],\n",
    "        },\n",
    "        \"order_level\": 1,\n",
    "    }\n",
    "    config = cconfig.Config.from_dict(param_dict)\n",
    "    return config\n",
    "\n",
    "\n",
    "config = get_example_config()\n",
    "print(config)"
   ]
  },
  {
   "cell_type": "markdown",
   "id": "6185b31c",
   "metadata": {},
   "source": [
    "# Clients"
   ]
  },
  {
   "cell_type": "code",
   "execution_count": null,
   "id": "071d0a70",
   "metadata": {},
   "outputs": [],
   "source": [
    "# CCXT client.\n",
    "ccxt_im_client = icdcl.CcxtSqlRealTimeImClient(**config[\"data\"][\"ccxt_im_client\"])\n",
    "# CC client.\n",
    "cc_parquet_client = iccdc.CryptoChassisHistoricalPqByTileClient(\n",
    "    **config[\"data\"][\"cc_im_client\"]\n",
    ")"
   ]
  },
  {
   "cell_type": "markdown",
   "id": "fa7ad184",
   "metadata": {},
   "source": [
    "# Universe"
   ]
  },
  {
   "cell_type": "code",
   "execution_count": null,
   "id": "fc8f17ad",
   "metadata": {},
   "outputs": [],
   "source": [
    "# DB universe\n",
    "ccxt_universe = ccxt_im_client.get_universe()\n",
    "# CC universe.\n",
    "cc_universe = cc_parquet_client.get_universe()\n",
    "# Intersection of universes that will be used for analysis.\n",
    "universe = list(set(ccxt_universe) & set(cc_universe))"
   ]
  },
  {
   "cell_type": "code",
   "execution_count": null,
   "id": "9b5261c5",
   "metadata": {},
   "outputs": [],
   "source": [
    "compare_universe = hprint.set_diff_to_str(\n",
    "    cc_universe, ccxt_universe, add_space=True\n",
    ")\n",
    "print(compare_universe)"
   ]
  },
  {
   "cell_type": "code",
   "execution_count": null,
   "id": "bef6b4e6",
   "metadata": {},
   "outputs": [],
   "source": [
    "# Even though they're in the intersected universe,\n",
    "# they are not downloaded in CC.\n",
    "universe.remove(\"binance::XRP_USDT\")\n",
    "universe.remove(\"binance::DOT_USDT\")\n",
    "# These two symbols crashes the downloads on `tz-conversion` stage.\n",
    "universe"
   ]
  },
  {
   "cell_type": "markdown",
   "id": "301144cf",
   "metadata": {},
   "source": [
    "# Load data"
   ]
  },
  {
   "cell_type": "code",
   "execution_count": null,
   "id": "afb44bd5",
   "metadata": {},
   "outputs": [],
   "source": [
    "ccxt_df = ccxt_im_client.read_data(universe, **config[\"data\"][\"read_data\"])"
   ]
  },
  {
   "cell_type": "code",
   "execution_count": null,
   "id": "29cab92c",
   "metadata": {},
   "outputs": [],
   "source": [
    "ccxt_df"
   ]
  },
  {
   "cell_type": "code",
   "execution_count": null,
   "id": "f993a82c",
   "metadata": {},
   "outputs": [],
   "source": [
    "cc_df = cc_parquet_client.read_data(universe, **config[\"data\"][\"read_data\"])"
   ]
  },
  {
   "cell_type": "code",
   "execution_count": null,
   "id": "0578edd9",
   "metadata": {},
   "outputs": [],
   "source": []
  }
 ],
 "metadata": {
  "kernelspec": {
   "display_name": "Python 3 (ipykernel)",
   "language": "python",
   "name": "python3"
  },
  "language_info": {
   "codemirror_mode": {
    "name": "ipython",
    "version": 3
   },
   "file_extension": ".py",
   "mimetype": "text/x-python",
   "name": "python",
   "nbconvert_exporter": "python",
   "pygments_lexer": "ipython3"
  },
  "toc": {
   "base_numbering": 1,
   "nav_menu": {},
   "number_sections": true,
   "sideBar": true,
   "skip_h1_title": false,
   "title_cell": "Table of Contents",
   "title_sidebar": "Contents",
   "toc_cell": false,
   "toc_position": {
    "height": "calc(100% - 180px)",
    "left": "10px",
    "top": "150px",
    "width": "249px"
   },
   "toc_section_display": true,
   "toc_window_display": true
  }
 },
 "nbformat": 4,
 "nbformat_minor": 5
}
