{
 "cells": [
  {
   "cell_type": "markdown",
   "id": "4edc5012",
   "metadata": {},
   "source": [
    "# Imports"
   ]
  },
  {
   "cell_type": "code",
   "execution_count": null,
   "id": "c54c8061",
   "metadata": {},
   "outputs": [],
   "source": [
    "%load_ext autoreload\n",
    "%autoreload 2\n",
    "\n",
    "import logging\n",
    "\n",
    "import pandas as pd\n",
    "\n",
    "import core.config.config_ as cconconf\n",
    "import helpers.hdbg as hdbg\n",
    "import helpers.hprint as hprint\n",
    "import research_amp.transform as ramptran"
   ]
  },
  {
   "cell_type": "code",
   "execution_count": null,
   "id": "e0cd77ad",
   "metadata": {},
   "outputs": [],
   "source": [
    "hdbg.init_logger(verbosity=logging.INFO)\n",
    "\n",
    "_LOG = logging.getLogger(__name__)\n",
    "\n",
    "hprint.config_notebook()"
   ]
  },
  {
   "cell_type": "markdown",
   "id": "706cf2a5",
   "metadata": {},
   "source": [
    "# Config"
   ]
  },
  {
   "cell_type": "code",
   "execution_count": null,
   "id": "285634d5",
   "metadata": {},
   "outputs": [],
   "source": [
    "def get_CrossSectionalLearning_config() -> cconconf.Config:\n",
    "    \"\"\"\n",
    "    Get config, that specifies params for getting raw data from `crypto\n",
    "    chassis`.\n",
    "    \"\"\"\n",
    "    config = cconconf.Config()\n",
    "    # Load parameters.\n",
    "    # config.add_subconfig(\"load\")\n",
    "    # Data parameters.\n",
    "    config.add_subconfig(\"data\")\n",
    "    config[\"data\"][\"full_symbols\"] = [\n",
    "        \"binance::ADA_USDT\",\n",
    "        \"binance::BNB_USDT\",\n",
    "        \"binance::BTC_USDT\",\n",
    "        \"binance::DOGE_USDT\",\n",
    "        \"binance::EOS_USDT\",\n",
    "        \"binance::ETH_USDT\",\n",
    "        \"binance::SOL_USDT\",\n",
    "        \"binance::XRP_USDT\",\n",
    "        \"binance::LUNA_USDT\",\n",
    "        \"binance::DOT_USDT\",\n",
    "        \"binance::LTC_USDT\",\n",
    "        \"binance::UNI_USDT\",\n",
    "    ]\n",
    "    config[\"data\"][\"start_date\"] = pd.Timestamp(\"2022-01-01\", tz=\"UTC\")\n",
    "    config[\"data\"][\"end_date\"] = pd.Timestamp(\"2022-02-01\", tz=\"UTC\")\n",
    "    # Transformation parameters.\n",
    "    config.add_subconfig(\"transform\")\n",
    "    config[\"transform\"][\"resampling_rule\"] = \"1T\"\n",
    "    config[\"transform\"][\"rets_type\"] = \"pct_change\"\n",
    "    # Analysis parameters.\n",
    "    config.add_subconfig(\"analysis\")\n",
    "    config[\"analysis\"][\n",
    "        \"reference_rets\"\n",
    "    ] = \"close.ret_0\"  # e.g., \"vwap.ret_0\", \"twap.ret_0\"\n",
    "    return config"
   ]
  },
  {
   "cell_type": "code",
   "execution_count": null,
   "id": "f27d4b78",
   "metadata": {},
   "outputs": [],
   "source": [
    "config = get_CrossSectionalLearning_config()\n",
    "print(config)"
   ]
  },
  {
   "cell_type": "markdown",
   "id": "f50a6be9",
   "metadata": {},
   "source": [
    "# Load the data"
   ]
  },
  {
   "cell_type": "markdown",
   "id": "6b77783e",
   "metadata": {},
   "source": [
    "Specs for the current data snapshot:\n",
    "- Data type: `OHLCV`\n",
    "- Universe: `v5` (excl. missing coins, see `research_amp/cc/notebooks/master_tradability_analysis.ipynb` for reference)\n",
    "- Data range: January 2022"
   ]
  },
  {
   "cell_type": "code",
   "execution_count": null,
   "id": "370a7f83",
   "metadata": {},
   "outputs": [],
   "source": [
    "# TODO(Max): Refactor the loading part once #1766 is implemented.\n",
    "\n",
    "# Read from crypto_chassis directly.\n",
    "# full_symbols = config[\"data\"][\"full_symbols\"]\n",
    "# start_date = config[\"data\"][\"start_date\"]\n",
    "# end_date = config[\"data\"][\"end_date\"]\n",
    "# ohlcv_cc = raccchap.read_crypto_chassis_ohlcv(full_symbols, start_date, end_date)\n",
    "\n",
    "# Read saved 1 month of data.\n",
    "ohlcv_cc = pd.read_csv(\"/shared_data/ohlcv_cc_v5.csv\", index_col=\"timestamp\")\n",
    "ohlcv_cc.index = pd.to_datetime(ohlcv_cc.index)\n",
    "ohlcv_cols = [\n",
    "    \"open\",\n",
    "    \"high\",\n",
    "    \"low\",\n",
    "    \"close\",\n",
    "    \"volume\",\n",
    "    \"full_symbol\",\n",
    "]\n",
    "ohlcv_cc = ohlcv_cc[ohlcv_cols]\n",
    "ohlcv_cc.head(3)"
   ]
  },
  {
   "cell_type": "markdown",
   "id": "beeeb9a3",
   "metadata": {},
   "source": [
    "# Compute returns"
   ]
  },
  {
   "cell_type": "code",
   "execution_count": null,
   "id": "f7c3295c",
   "metadata": {},
   "outputs": [],
   "source": [
    "# VWAP, TWAP transformation.\n",
    "resampling_rule = config[\"transform\"][\"resampling_rule\"]\n",
    "df = ramptran.calculate_vwap_twap(ohlcv_cc, resampling_rule)\n",
    "# Returns calculation.\n",
    "rets_type = config[\"transform\"][\"rets_type\"]\n",
    "df = ramptran.calculate_returns(df, rets_type)\n",
    "# Choose reference returns to proceed to further analysis.\n",
    "df = df[[config[\"analysis\"][\"reference_rets\"]]]\n",
    "df.head(3)"
   ]
  }
 ],
 "metadata": {
  "kernelspec": {
   "display_name": "Python 3 (ipykernel)",
   "language": "python",
   "name": "python3"
  },
  "language_info": {
   "codemirror_mode": {
    "name": "ipython",
    "version": 3
   },
   "file_extension": ".py",
   "mimetype": "text/x-python",
   "name": "python",
   "nbconvert_exporter": "python",
   "pygments_lexer": "ipython3"
  },
  "toc": {
   "base_numbering": 1,
   "nav_menu": {},
   "number_sections": true,
   "sideBar": true,
   "skip_h1_title": false,
   "title_cell": "Table of Contents",
   "title_sidebar": "Contents",
   "toc_cell": false,
   "toc_position": {},
   "toc_section_display": true,
   "toc_window_display": false
  }
 },
 "nbformat": 4,
 "nbformat_minor": 5
}
