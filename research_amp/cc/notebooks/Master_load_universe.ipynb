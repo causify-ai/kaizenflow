{
 "cells": [
  {
   "cell_type": "markdown",
   "id": "e3d423f0",
   "metadata": {},
   "source": [
    "# Imports"
   ]
  },
  {
   "cell_type": "code",
   "execution_count": null,
   "id": "d2796630",
   "metadata": {},
   "outputs": [],
   "source": [
    "import logging\n",
    "import os\n",
    "\n",
    "import matplotlib.pyplot as plt\n",
    "import pandas as pd\n",
    "\n",
    "import core.config.config_ as cconconf\n",
    "import core.statistics as costatis\n",
    "import helpers.hdbg as hdbg\n",
    "import helpers.henv as henv\n",
    "import helpers.hprint as hprint\n",
    "import im_v2.ccxt.data.client as icdcl"
   ]
  },
  {
   "cell_type": "code",
   "execution_count": null,
   "id": "467b3d61",
   "metadata": {},
   "outputs": [],
   "source": [
    "hdbg.init_logger(verbosity=logging.INFO)\n",
    "\n",
    "_LOG = logging.getLogger(__name__)\n",
    "\n",
    "_LOG.info(\"%s\", henv.get_system_signature()[0])\n",
    "\n",
    "hprint.config_notebook()"
   ]
  },
  {
   "cell_type": "markdown",
   "id": "61c0c9ff",
   "metadata": {},
   "source": [
    "# Configs"
   ]
  },
  {
   "cell_type": "code",
   "execution_count": null,
   "id": "99b1f619",
   "metadata": {},
   "outputs": [],
   "source": [
    "def get_cmtask1866_config_ccxt() -> cconconf.Config:\n",
    "    \"\"\"\n",
    "    Get task1866-specific config.\n",
    "    \"\"\"\n",
    "    config = cconconf.Config()\n",
    "    # Load parameters.\n",
    "    config.add_subconfig(\"load\")\n",
    "    config[\"load\"][\"aws_profile\"] = \"ck\"\n",
    "    # TODO(Nina): @all replace `s3://cryptokaizen-data` with `get_s3_bucket()` after #1667 is implemented.\n",
    "    config[\"load\"][\"data_dir\"] = os.path.join(\n",
    "        \"s3://cryptokaizen-data\",\n",
    "        \"historical\",\n",
    "    )\n",
    "    # Data parameters.\n",
    "    config.add_subconfig(\"data\")\n",
    "    config[\"data\"][\"vendor\"] = \"CCXT\"\n",
    "    config[\"data\"][\"data_snapshot\"] = \"latest\"\n",
    "    config[\"data\"][\"version\"] = \"v3\"\n",
    "    config[\"data\"][\"resample_1min\"] = True\n",
    "    config[\"data\"][\"partition_mode\"] = \"by_year_month\"\n",
    "    config[\"data\"][\"start_ts\"] = None\n",
    "    config[\"data\"][\"end_ts\"] = None\n",
    "    config[\"data\"][\"columns\"] = None\n",
    "    config[\"data\"][\"filter_data_mode\"] = \"assert\"\n",
    "    # Column names.\n",
    "    config.add_subconfig(\"column_names\")\n",
    "    config[\"column_names\"][\"full_symbol\"] = \"full_symbol\"\n",
    "    config[\"column_names\"][\"close_price\"] = \"close\"\n",
    "    return config"
   ]
  },
  {
   "cell_type": "code",
   "execution_count": null,
   "id": "1117532c",
   "metadata": {},
   "outputs": [],
   "source": [
    "config = get_cmtask1866_config_ccxt()\n",
    "print(config)"
   ]
  },
  {
   "cell_type": "markdown",
   "id": "52eb9372",
   "metadata": {},
   "source": [
    "# Functions"
   ]
  },
  {
   "cell_type": "code",
   "execution_count": null,
   "id": "503740ea",
   "metadata": {},
   "outputs": [],
   "source": [
    "def _get_qa_stats(data: pd.DataFrame, config: cconconf.Config) -> pd.DataFrame:\n",
    "    \"\"\"\n",
    "    Get quality assurance stats per full symbol in data.\n",
    "    \"\"\"\n",
    "    res_stats = []\n",
    "    for full_symbol, symbol_data in data.groupby(\n",
    "        config[\"column_names\"][\"full_symbol\"]\n",
    "    ):\n",
    "        # Compute stats for a full symbol.\n",
    "        symbol_stats = pd.Series(dtype=\"object\", name=full_symbol)\n",
    "        symbol_stats[\"min_timestamp\"] = symbol_data.index.min()\n",
    "        symbol_stats[\"max_timestamp\"] = symbol_data.index.max()\n",
    "        symbol_stats[\"NaNs %\"] = 100 * (\n",
    "            costatis.compute_frac_nan(\n",
    "                symbol_data[config[\"column_names\"][\"close_price\"]]\n",
    "            )\n",
    "        )\n",
    "        symbol_stats[\"volume=0 %\"] = 100 * (\n",
    "            symbol_data[symbol_data[\"volume\"] == 0].shape[0]\n",
    "            / symbol_data.shape[0]\n",
    "        )\n",
    "        symbol_stats[\"bad data %\"] = symbol_stats[\"NaNs %\"] + symbol_stats[\"volume=0 %\"]\n",
    "        res_stats.append(symbol_stats)\n",
    "    # Combine all full symbol stats.\n",
    "    res_stats_df = pd.concat(res_stats, axis=1).T\n",
    "    return res_stats_df\n",
    "\n",
    "\n",
    "def _get_qa_stats_by_year_month(\n",
    "    data: pd.DataFrame, config: cconconf.Config\n",
    ") -> pd.DataFrame:\n",
    "    \"\"\"\n",
    "    Get quality assurance stats per full symbol, year, and month.\n",
    "    \"\"\"\n",
    "    #\n",
    "    data[\"year\"] = data.index.year\n",
    "    data[\"month\"] = data.index.month\n",
    "    #\n",
    "    res_stats = []\n",
    "    columns_to_groupby = [config[\"column_names\"][\"full_symbol\"], \"year\", \"month\"]\n",
    "    for index, symbol_data in data.groupby(columns_to_groupby):\n",
    "        #\n",
    "        full_symbol, year, month = index\n",
    "        # Get stats for a full symbol and add them to overall stats.\n",
    "        symbol_stats = pd.Series(dtype=\"object\", name=full_symbol)\n",
    "        symbol_stats[\"year\"] = year\n",
    "        symbol_stats[\"month\"] = month\n",
    "        symbol_stats[\"NaNs %\"] = 100 * (\n",
    "            costatis.compute_frac_nan(\n",
    "                symbol_data[config[\"column_names\"][\"close_price\"]]\n",
    "            )\n",
    "        )\n",
    "        symbol_stats[\"volume=0 %\"] = 100 * (\n",
    "            symbol_data[symbol_data[\"volume\"] == 0].shape[0]\n",
    "            / symbol_data.shape[0]\n",
    "        )\n",
    "        symbol_stats[\"bad data %\"] = symbol_stats[\"NaNs %\"] + symbol_stats[\"volume=0 %\"]\n",
    "        res_stats.append(symbol_stats)\n",
    "    res_stats_df = pd.concat(res_stats, axis=1).T\n",
    "    #\n",
    "    res_stats_df[\"year\"] = res_stats_df[\"year\"].astype(int)\n",
    "    res_stats_df[\"month\"] = res_stats_df[\"month\"].astype(int)\n",
    "    # Set index by full symbol, year, and month.\n",
    "    res_stats_df = res_stats_df.set_index([res_stats_df.index, \"year\", \"month\"])\n",
    "    return res_stats_df\n",
    "\n",
    "\n",
    "def _plot_bad_data_stats(bad_data_stats: pd.DataFrame) -> None:\n",
    "    \"\"\"\n",
    "    Plot bad data stats per unique full symbol in data.\n",
    "    \"\"\"\n",
    "    full_symbols = bad_data_stats.index.get_level_values(0).unique()\n",
    "    for full_symbol in full_symbols:\n",
    "        bad_data_col_name = \"bad data %\"\n",
    "        _ = bad_data_stats.loc[full_symbol].plot.bar(\n",
    "            y=bad_data_col_name, rot=0, title=full_symbol\n",
    "        )"
   ]
  },
  {
   "cell_type": "markdown",
   "id": "6241e528",
   "metadata": {},
   "source": [
    "# Load CCXT data from the historical bucket"
   ]
  },
  {
   "cell_type": "markdown",
   "id": "502da3ed",
   "metadata": {},
   "source": [
    "## Initialize client"
   ]
  },
  {
   "cell_type": "code",
   "execution_count": null,
   "id": "e48f03ef",
   "metadata": {},
   "outputs": [],
   "source": [
    "client = icdcl.ccxt_clients.CcxtHistoricalPqByTileClient(\n",
    "    config[\"data\"][\"version\"],\n",
    "    config[\"data\"][\"resample_1min\"],\n",
    "    config[\"load\"][\"data_dir\"],\n",
    "    config[\"data\"][\"partition_mode\"],\n",
    "    aws_profile=config[\"load\"][\"aws_profile\"],\n",
    ")"
   ]
  },
  {
   "cell_type": "code",
   "execution_count": null,
   "id": "f167823c",
   "metadata": {},
   "outputs": [],
   "source": [
    "universe = client.get_universe()\n",
    "universe"
   ]
  },
  {
   "cell_type": "markdown",
   "id": "e403fd16",
   "metadata": {},
   "source": [
    "## Binance stats"
   ]
  },
  {
   "cell_type": "code",
   "execution_count": null,
   "id": "9b97e994",
   "metadata": {},
   "outputs": [],
   "source": [
    "binance_symbols = [\n",
    "    full_symbol for full_symbol in universe if full_symbol.startswith(\"binance\")\n",
    "]\n",
    "binance_symbols"
   ]
  },
  {
   "cell_type": "code",
   "execution_count": null,
   "id": "c1654ec1",
   "metadata": {},
   "outputs": [],
   "source": [
    "binance_data = client.read_data(\n",
    "    binance_symbols,\n",
    "    config[\"data\"][\"start_ts\"],\n",
    "    config[\"data\"][\"end_ts\"],\n",
    "    config[\"data\"][\"columns\"],\n",
    "    config[\"data\"][\"filter_data_mode\"],\n",
    ")"
   ]
  },
  {
   "cell_type": "code",
   "execution_count": null,
   "id": "d0a157e0",
   "metadata": {},
   "outputs": [],
   "source": [
    "binance_data.head(3)"
   ]
  },
  {
   "cell_type": "code",
   "execution_count": null,
   "id": "4e056bb1",
   "metadata": {},
   "outputs": [],
   "source": [
    "binance_stats = _get_qa_stats(binance_data, config)\n",
    "binance_stats"
   ]
  },
  {
   "cell_type": "code",
   "execution_count": null,
   "id": "821645ca",
   "metadata": {},
   "outputs": [],
   "source": [
    "binance_stats_by_year_month = _get_qa_stats_by_year_month(binance_data, config)\n",
    "binance_stats_by_year_month"
   ]
  },
  {
   "cell_type": "code",
   "execution_count": null,
   "id": "238ca1fd",
   "metadata": {},
   "outputs": [],
   "source": [
    "_ = _plot_bad_data_stats(binance_stats_by_year_month)"
   ]
  },
  {
   "cell_type": "markdown",
   "id": "80566f87",
   "metadata": {},
   "source": [
    "## FTX stats"
   ]
  },
  {
   "cell_type": "code",
   "execution_count": null,
   "id": "5bc5ff50",
   "metadata": {},
   "outputs": [],
   "source": [
    "ftx_symbols = [\n",
    "    full_symbol for full_symbol in universe if full_symbol.startswith(\"ftx\")\n",
    "]\n",
    "ftx_symbols"
   ]
  },
  {
   "cell_type": "code",
   "execution_count": null,
   "id": "6625b71c",
   "metadata": {},
   "outputs": [],
   "source": [
    "ftx_data = client.read_data(\n",
    "    ftx_symbols,\n",
    "    config[\"data\"][\"start_ts\"],\n",
    "    config[\"data\"][\"end_ts\"],\n",
    "    config[\"data\"][\"columns\"],\n",
    "    config[\"data\"][\"filter_data_mode\"],\n",
    ")"
   ]
  },
  {
   "cell_type": "code",
   "execution_count": null,
   "id": "b05f4dd4",
   "metadata": {},
   "outputs": [],
   "source": [
    "ftx_data.head(3)"
   ]
  },
  {
   "cell_type": "code",
   "execution_count": null,
   "id": "0ba71b86",
   "metadata": {},
   "outputs": [],
   "source": [
    "ftx_stats = _get_qa_stats(ftx_data, config)\n",
    "ftx_stats"
   ]
  },
  {
   "cell_type": "code",
   "execution_count": null,
   "id": "d4d11c45",
   "metadata": {},
   "outputs": [],
   "source": [
    "ftx_stats_by_year_month = _get_qa_stats_by_year_month(ftx_data, config)\n",
    "ftx_stats_by_year_month"
   ]
  },
  {
   "cell_type": "code",
   "execution_count": null,
   "id": "7c21c972",
   "metadata": {},
   "outputs": [],
   "source": [
    "_ = _plot_bad_data_stats(ftx_stats_by_year_month)"
   ]
  },
  {
   "cell_type": "markdown",
   "id": "b76acc23",
   "metadata": {},
   "source": [
    "## Gateio stats"
   ]
  },
  {
   "cell_type": "code",
   "execution_count": null,
   "id": "585ee255",
   "metadata": {},
   "outputs": [],
   "source": [
    "gateio_symbols = [\n",
    "    full_symbol for full_symbol in universe if full_symbol.startswith(\"gateio\")\n",
    "]\n",
    "gateio_symbols"
   ]
  },
  {
   "cell_type": "code",
   "execution_count": null,
   "id": "30d32729",
   "metadata": {},
   "outputs": [],
   "source": [
    "gateio_data = client.read_data(\n",
    "    gateio_symbols,\n",
    "    config[\"data\"][\"start_ts\"],\n",
    "    config[\"data\"][\"end_ts\"],\n",
    "    config[\"data\"][\"columns\"],\n",
    "    config[\"data\"][\"filter_data_mode\"],\n",
    ")"
   ]
  },
  {
   "cell_type": "code",
   "execution_count": null,
   "id": "afa430be",
   "metadata": {},
   "outputs": [],
   "source": [
    "gateio_data.head(3)"
   ]
  },
  {
   "cell_type": "code",
   "execution_count": null,
   "id": "c99c224c",
   "metadata": {},
   "outputs": [],
   "source": [
    "gateio_stats = _get_qa_stats(gateio_data, config)\n",
    "gateio_stats"
   ]
  },
  {
   "cell_type": "code",
   "execution_count": null,
   "id": "bcc3ae24",
   "metadata": {},
   "outputs": [],
   "source": [
    "gateio_stats_by_year_month = _get_qa_stats_by_year_month(gateio_data, config)\n",
    "gateio_stats_by_year_month"
   ]
  },
  {
   "cell_type": "code",
   "execution_count": null,
   "id": "f3cdf205",
   "metadata": {},
   "outputs": [],
   "source": [
    "_ = _plot_bad_data_stats(gateio_stats_by_year_month)"
   ]
  },
  {
   "cell_type": "markdown",
   "id": "90c24f60",
   "metadata": {},
   "source": [
    "## Kucoin stats"
   ]
  },
  {
   "cell_type": "code",
   "execution_count": null,
   "id": "f36295c6",
   "metadata": {},
   "outputs": [],
   "source": [
    "kucoin_symbols = [\n",
    "    full_symbol for full_symbol in universe if full_symbol.startswith(\"kucoin\")\n",
    "]\n",
    "kucoin_symbols"
   ]
  },
  {
   "cell_type": "code",
   "execution_count": null,
   "id": "7437d39b",
   "metadata": {},
   "outputs": [],
   "source": [
    "kucoin_data = client.read_data(\n",
    "    kucoin_symbols,\n",
    "    config[\"data\"][\"start_ts\"],\n",
    "    config[\"data\"][\"end_ts\"],\n",
    "    config[\"data\"][\"columns\"],\n",
    "    config[\"data\"][\"filter_data_mode\"],\n",
    ")"
   ]
  },
  {
   "cell_type": "code",
   "execution_count": null,
   "id": "1a30ac72",
   "metadata": {},
   "outputs": [],
   "source": [
    "kucoin_data.head(3)"
   ]
  },
  {
   "cell_type": "code",
   "execution_count": null,
   "id": "74d8984f",
   "metadata": {},
   "outputs": [],
   "source": [
    "kucoin_stats = _get_qa_stats(kucoin_data, config)\n",
    "kucoin_stats"
   ]
  },
  {
   "cell_type": "code",
   "execution_count": null,
   "id": "8ee637c0",
   "metadata": {},
   "outputs": [],
   "source": [
    "kucoin_stats_by_year_month = _get_qa_stats_by_year_month(kucoin_data, config)\n",
    "kucoin_stats_by_year_month"
   ]
  },
  {
   "cell_type": "code",
   "execution_count": null,
   "id": "8e86cf6d",
   "metadata": {},
   "outputs": [],
   "source": [
    "_ = _plot_bad_data_stats(kucoin_stats_by_year_month)"
   ]
  },
  {
   "cell_type": "code",
   "execution_count": null,
   "id": "2254fd73",
   "metadata": {},
   "outputs": [],
   "source": []
  }
 ],
 "metadata": {
  "kernelspec": {
   "display_name": "Python 3 (ipykernel)",
   "language": "python",
   "name": "python3"
  },
  "language_info": {
   "codemirror_mode": {
    "name": "ipython",
    "version": 3
   },
   "file_extension": ".py",
   "mimetype": "text/x-python",
   "name": "python",
   "nbconvert_exporter": "python",
   "pygments_lexer": "ipython3"
  },
  "toc": {
   "base_numbering": 1,
   "nav_menu": {},
   "number_sections": true,
   "sideBar": true,
   "skip_h1_title": false,
   "title_cell": "Table of Contents",
   "title_sidebar": "Contents",
   "toc_cell": false,
   "toc_position": {},
   "toc_section_display": true,
   "toc_window_display": false
  }
 },
 "nbformat": 4,
 "nbformat_minor": 5
}
