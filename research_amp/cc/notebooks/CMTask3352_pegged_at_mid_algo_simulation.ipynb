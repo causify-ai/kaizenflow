{
 "cells": [
  {
   "cell_type": "markdown",
   "id": "a2fa2389",
   "metadata": {},
   "source": [
    "# Description"
   ]
  },
  {
   "cell_type": "markdown",
   "id": "b70bc218",
   "metadata": {},
   "source": [
    "The notebook simulates the performance of a \"pegged-at-mid\" trading algorithm.\n",
    "\n",
    "- Load the 1sec bid/ask data\n",
    "- Conduct a sanity check\n",
    "- Calculate the midpoint limit buy/sell prices\n",
    "- Aggregate to 5T and check the success of trades in historical data\n",
    "\n",
    "```\n",
    "dataset_signature=periodic.airflow.downloaded_EOD.parquet.bid_ask.futures.v3.cryptochassis.binance.v1_0_0\n",
    "```"
   ]
  },
  {
   "cell_type": "code",
   "execution_count": null,
   "id": "5fc9a131",
   "metadata": {},
   "outputs": [],
   "source": [
    "%load_ext autoreload\n",
    "%autoreload 2\n",
    "import logging\n",
    "\n",
    "import pandas as pd\n",
    "\n",
    "import core.finance as cofinanc\n",
    "import dataflow.core as dtfcore\n",
    "import dataflow.system as dtfsys\n",
    "import dataflow.universe as dtfuniver\n",
    "import helpers.hdbg as hdbg\n",
    "import helpers.henv as henv\n",
    "import helpers.hprint as hprint\n",
    "import im_v2.crypto_chassis.data.client as iccdc\n",
    "import market_data as mdata\n",
    "import core.config as cconfig"
   ]
  },
  {
   "cell_type": "code",
   "execution_count": null,
   "id": "0e2e6d18",
   "metadata": {},
   "outputs": [],
   "source": [
    "hdbg.init_logger(verbosity=logging.INFO)\n",
    "\n",
    "_LOG = logging.getLogger(__name__)\n",
    "\n",
    "_LOG.info(\"%s\", henv.get_system_signature()[0])\n",
    "\n",
    "hprint.config_notebook()"
   ]
  },
  {
   "cell_type": "markdown",
   "id": "d7b0ee83",
   "metadata": {},
   "source": [
    "# Load CryptoChassis data."
   ]
  },
  {
   "cell_type": "markdown",
   "id": "43e64e7c",
   "metadata": {},
   "source": [
    "- Latest universe (v3)\n",
    "- Resampled to 1sec\n",
    "- For 1 asset and 1 day\n",
    "- Using DataFlow `read_data` node"
   ]
  },
  {
   "cell_type": "markdown",
   "id": "99ed31c0",
   "metadata": {},
   "source": [
    "## Initialize a config for `read_data` node"
   ]
  },
  {
   "cell_type": "code",
   "execution_count": null,
   "id": "ad9116d8",
   "metadata": {},
   "outputs": [],
   "source": [
    "dict_ = {\n",
    "    \"load_data\": {\n",
    "        \"start_ts\": pd.Timestamp(\"2022-12-14 00:00:00+00:00\"),\n",
    "        \"end_ts\": pd.Timestamp(\"2022-12-15 00:00:00+00:00\"),\n",
    "    },\n",
    "    \"universe\": {\n",
    "        \"full_symbols\": [\"binance::ADA_USDT\"],\n",
    "    }\n",
    "}\n",
    "config = cconfig.Config.from_dict(dict_)"
   ]
  },
  {
   "cell_type": "code",
   "execution_count": null,
   "id": "cb627409",
   "metadata": {},
   "outputs": [],
   "source": [
    "# Set up the parameters for initialization of the IM Client.\n",
    "#  Note: these parameters are defined separately since they are \n",
    "universe_version = \"v3\"\n",
    "resample_1min = False\n",
    "contract_type = \"futures\"\n",
    "tag = \"downloaded_1sec\"\n",
    "client = iccdc.get_CryptoChassisHistoricalPqByTileClient_example2(\n",
    "    universe_version, resample_1min, contract_type, tag\n",
    ")"
   ]
  },
  {
   "cell_type": "code",
   "execution_count": null,
   "id": "7fa84636",
   "metadata": {},
   "outputs": [],
   "source": [
    "start_ts = config.get_and_mark_as_used((\"load_data\", \"start_ts\"))\n",
    "end_ts = config.get_and_mark_as_used((\"load_data\", \"end_ts\"))\n",
    "\n",
    "intervals = [\n",
    "    (\n",
    "        start_ts,\n",
    "        end_ts,\n",
    "    ),\n",
    "]"
   ]
  },
  {
   "cell_type": "code",
   "execution_count": null,
   "id": "c8a41f62",
   "metadata": {},
   "outputs": [],
   "source": [
    "# Verify that provided symbols are present in the client.\n",
    "universe_full_symbols = dtfuniver.get_universe(\"crypto_chassis_v3-all\")\n",
    "config_full_symbols = config.get_and_mark_as_used((\"universe\",\"full_symbols\"))\n",
    "hdbg.dassert_is_subset(config_full_symbols, universe_full_symbols)\n",
    "# Convert to asset ids.\n",
    "config[\"universe\"][\"asset_ids\"] = client.get_asset_ids_from_full_symbols(config_full_symbols)\n",
    "asset_ids = config.get_and_mark_as_used((\"universe\", \"asset_ids\"))"
   ]
  },
  {
   "cell_type": "code",
   "execution_count": null,
   "id": "2ffa014b",
   "metadata": {},
   "outputs": [],
   "source": [
    "# Initialize market data.\n",
    "columns = None\n",
    "columns_remap = None\n",
    "wall_clock_time = pd.Timestamp(\"2100-01-01T00:00:00+00:00\")\n",
    "stage = \"read_data\"\n",
    "ts_col_name = \"end_ts\"\n",
    "multiindex_output = True\n",
    "col_names_to_remove = []\n",
    "market_data = mdata.get_HistoricalImClientMarketData_example1(\n",
    "    client,\n",
    "    asset_ids,\n",
    "    columns,\n",
    "    columns_remap,\n",
    ")"
   ]
  },
  {
   "cell_type": "markdown",
   "id": "fcc51eb1",
   "metadata": {},
   "source": [
    "## Initialize DAG"
   ]
  },
  {
   "cell_type": "code",
   "execution_count": null,
   "id": "ee41b25e",
   "metadata": {},
   "outputs": [],
   "source": [
    "def _run_dag_node(dag):\n",
    "    dag_runner = dtfcore.FitPredictDagRunner(dag)\n",
    "    dag_runner.set_fit_intervals(intervals)\n",
    "    fit_result_bundle = dag_runner.fit()\n",
    "    df = fit_result_bundle.result_df\n",
    "    return df"
   ]
  },
  {
   "cell_type": "code",
   "execution_count": null,
   "id": "7e49cf1e",
   "metadata": {},
   "outputs": [],
   "source": [
    "# Create an empty DAG.\n",
    "dag = dtfcore.DAG(mode=\"strict\")\n",
    "dtfcore.draw(dag)"
   ]
  },
  {
   "cell_type": "code",
   "execution_count": null,
   "id": "c5eabe6d",
   "metadata": {},
   "outputs": [],
   "source": [
    "# TODO(gp): @danya, see if we have also close or trade.\n",
    "stage = \"read_data\"\n",
    "ts_col_name = \"end_ts\"\n",
    "multiindex_output = True\n",
    "col_names_to_remove = []\n",
    "node = dtfsys.HistoricalDataSource(\n",
    "    stage,\n",
    "    market_data,\n",
    "    ts_col_name,\n",
    "    multiindex_output,\n",
    "    col_names_to_remove=col_names_to_remove,\n",
    ")\n",
    "dag.insert_at_head(node)\n",
    "dtfcore.draw(dag)"
   ]
  },
  {
   "cell_type": "markdown",
   "id": "e09eba90",
   "metadata": {},
   "source": [
    "## Read data"
   ]
  },
  {
   "cell_type": "code",
   "execution_count": null,
   "id": "c107b824",
   "metadata": {},
   "outputs": [],
   "source": [
    "df1 = _run_dag_node(dag)\n",
    "df1.shape\n",
    "df1.head(5)"
   ]
  },
  {
   "cell_type": "code",
   "execution_count": null,
   "id": "b2c61a0a",
   "metadata": {},
   "outputs": [],
   "source": [
    "# Drop multiindex in single-asset dataframes for human readability.\n",
    "if len(asset_ids) < 2:\n",
    "    df2 = df1.droplevel(1, axis=1)\n",
    "else:\n",
    "    df2 = df1.copy()"
   ]
  },
  {
   "cell_type": "code",
   "execution_count": null,
   "id": "2c3dbdb2",
   "metadata": {},
   "outputs": [],
   "source": [
    "df2.head()"
   ]
  },
  {
   "cell_type": "markdown",
   "id": "8d7ff9ab",
   "metadata": {},
   "source": [
    "## Sanity check"
   ]
  },
  {
   "cell_type": "markdown",
   "id": "366a5939",
   "metadata": {},
   "source": [
    "A quick sanity-check for the following:\n",
    "- What percentage of 1 sec bars are missing?\n",
    "- How often is bid_size = 0, ask_size = 0, volume=0?\n",
    "- How often is bid !< ask?\n"
   ]
  },
  {
   "cell_type": "code",
   "execution_count": null,
   "id": "bacce10a",
   "metadata": {},
   "outputs": [],
   "source": [
    "# Check for missing data.\n",
    "df1.isna().sum()"
   ]
  },
  {
   "cell_type": "code",
   "execution_count": null,
   "id": "eaac60a2",
   "metadata": {},
   "outputs": [],
   "source": [
    "# Check for zeroes.\n",
    "(df1 == 0).astype(int).sum(axis=1).sum()"
   ]
  },
  {
   "cell_type": "code",
   "execution_count": null,
   "id": "47fa0bea",
   "metadata": {},
   "outputs": [],
   "source": [
    "# Check bid price !< ask price.\n",
    "(df1[\"bid_price\"] >= df1[\"ask_price\"]).any().any()"
   ]
  },
  {
   "cell_type": "code",
   "execution_count": null,
   "id": "cd6e4281",
   "metadata": {},
   "outputs": [],
   "source": [
    "df1.head()"
   ]
  },
  {
   "cell_type": "code",
   "execution_count": null,
   "id": "dbfadff9",
   "metadata": {},
   "outputs": [],
   "source": []
  },
  {
   "cell_type": "code",
   "execution_count": null,
   "id": "af6de92f",
   "metadata": {},
   "outputs": [],
   "source": [
    "df2.head()"
   ]
  },
  {
   "cell_type": "code",
   "execution_count": null,
   "id": "2066342c",
   "metadata": {},
   "outputs": [],
   "source": [
    "2 / 0"
   ]
  },
  {
   "cell_type": "code",
   "execution_count": null,
   "id": "4d15bb16",
   "metadata": {},
   "outputs": [],
   "source": [
    "# TODO(gp): There are some missing data, e.g., 19:00:02. Let's compute some quick stats."
   ]
  },
  {
   "cell_type": "markdown",
   "id": "0fa63b2a",
   "metadata": {},
   "source": [
    "### Commentary"
   ]
  },
  {
   "cell_type": "markdown",
   "id": "b4ac5ed2",
   "metadata": {},
   "source": [
    "Since no NaNs or zeroes were found with a simple general check, there is no need for an in-depth look."
   ]
  },
  {
   "cell_type": "markdown",
   "id": "a5122bb7",
   "metadata": {},
   "source": [
    "## Augment data with new features"
   ]
  },
  {
   "cell_type": "code",
   "execution_count": null,
   "id": "1ce49445",
   "metadata": {},
   "outputs": [],
   "source": [
    "# Append `mid` data.\n",
    "# # (bid + ask) / 2.\n",
    "bid_col = \"bid_price\"\n",
    "ask_col = \"ask_price\"\n",
    "bid_volume_col = \"bid_size\"\n",
    "ask_volume_col = \"ask_size\"\n",
    "requested_cols = [\"mid\"]\n",
    "join_output_with_input = True\n",
    "df2 = cofinanc.process_bid_ask(\n",
    "    df1,\n",
    "    bid_col,\n",
    "    ask_col,\n",
    "    bid_volume_col,\n",
    "    ask_volume_col,\n",
    "    requested_cols=requested_cols,\n",
    "    join_output_with_input=join_output_with_input,\n",
    ")\n",
    "df2.head(10)"
   ]
  },
  {
   "cell_type": "code",
   "execution_count": null,
   "id": "46778853",
   "metadata": {},
   "outputs": [],
   "source": [
    "# TODO(gp): Let's assign dfs to different vars so that each cell is idempotent.\n",
    "print(df2.shape)\n",
    "print(df2.index.min())\n",
    "print(df2.index.max())"
   ]
  },
  {
   "cell_type": "code",
   "execution_count": null,
   "id": "0f49045a",
   "metadata": {},
   "outputs": [],
   "source": [
    "asset_id = 3303714233"
   ]
  },
  {
   "cell_type": "code",
   "execution_count": null,
   "id": "c1684777",
   "metadata": {},
   "outputs": [],
   "source": [
    "df2.droplevel(1, axis=1)"
   ]
  },
  {
   "cell_type": "code",
   "execution_count": null,
   "id": "81fb7ba8",
   "metadata": {},
   "outputs": [],
   "source": [
    "df3 = df2.swaplevel(axis=1)\n",
    "df3.head()"
   ]
  },
  {
   "cell_type": "code",
   "execution_count": null,
   "id": "deefeed5",
   "metadata": {},
   "outputs": [],
   "source": [
    "df3[\"ask_value\"] = df3[\"ask_price\"] * df3[\"ask_size\"]\n",
    "df3[\"bid_value\"] = df3[\"bid_price\"] * df3[\"bid_size\"]\n",
    "\n",
    "# This is really high. 100m USD per hour on top of the book.\n",
    "df3[[\"bid_value\", \"ask_value\"]].resample(\"1H\").sum().plot()"
   ]
  },
  {
   "cell_type": "code",
   "execution_count": null,
   "id": "d7593619",
   "metadata": {},
   "outputs": [],
   "source": [
    "# TODO(gp): @danya this is add_limit_order_prices()\n",
    "\n",
    "print(df3.shape)\n",
    "# Add limit prices based on passivity of 0.01.\n",
    "mid_price = df3[\"mid\"]\n",
    "passivity_factor = 0.01\n",
    "\n",
    "df_limit_price = pd.DataFrame()\n",
    "# df_limit_price[\"limit_buy_price\"] = df[\"mid\"].resample(\"1T\").mean().shift(1) * (\n",
    "#     1 - passivity_factor\n",
    "# )\n",
    "# df_limit_price[\"limit_sell_price\"] = df[\"mid\"].resample(\"1T\").mean().shift(1) * (\n",
    "#     1 + passivity_factor\n",
    "# )\n",
    "    \n",
    "# TODO(gp): This should be tuned as function of the rolling std dev.\n",
    "abs_spread = 0.0001\n",
    "# We are trading at the top of the book.\n",
    "# TODO(gp): Crossing the spread means setting limit_buy_price = ... + abs_spread (and vice versa for sell).\n",
    "df_limit_price[\"limit_buy_price\"] = df3[\"mid\"].resample(\"1T\").mean().shift(1) - abs_spread\n",
    "df_limit_price[\"limit_sell_price\"] = df3[\"mid\"].resample(\"1T\").mean().shift(1) + abs_spread\n",
    "    \n",
    "df4 = df3.merge(df_limit_price, right_index=True, left_index=True, how=\"outer\")\n",
    "df4[\"limit_buy_price\"] = df4[\"limit_buy_price\"].ffill()\n",
    "df4[\"limit_sell_price\"] = df4[\"limit_sell_price\"].ffill()\n",
    "print(df4.shape)"
   ]
  },
  {
   "cell_type": "code",
   "execution_count": null,
   "id": "22e77da0",
   "metadata": {},
   "outputs": [],
   "source": [
    "# Count is_buy / is_sell.\n",
    "df4[\"is_buy\"] = (\n",
    "    df4[\"ask_price\"] <= df4[\"limit_buy_price\"]\n",
    ")\n",
    "df4[\"is_sell\"] = (\n",
    "    df4[\"bid_price\"] >= df4[\"limit_sell_price\"]\n",
    ")"
   ]
  },
  {
   "cell_type": "code",
   "execution_count": null,
   "id": "a3326e71",
   "metadata": {},
   "outputs": [],
   "source": [
    "# TODO(gp): Not sure this is working as expected. I don't see the seconds.\n",
    "# Assigning df columns with a df series with different time index might subsample.\n",
    "# I would do a outmerge merge and then ffill.\n",
    "\n",
    "# Let's always check the output of the df to make sure things are sane.\n",
    "df4"
   ]
  },
  {
   "cell_type": "code",
   "execution_count": null,
   "id": "e4f4fb8f",
   "metadata": {},
   "outputs": [],
   "source": [
    "# TODO(gp): @Danya\n",
    "# def perform_spread_analysys(...)"
   ]
  },
  {
   "cell_type": "code",
   "execution_count": null,
   "id": "fb65167a",
   "metadata": {},
   "outputs": [],
   "source": [
    "spread = df4[\"ask_price\"] - df4[\"bid_price\"]\n",
    "spread_in_bps = spread / df4[\"mid\"] * 1e4"
   ]
  },
  {
   "cell_type": "code",
   "execution_count": null,
   "id": "37b68ab5",
   "metadata": {},
   "outputs": [],
   "source": [
    "spread.hist(bins=101)"
   ]
  },
  {
   "cell_type": "code",
   "execution_count": null,
   "id": "dc60ccd4",
   "metadata": {},
   "outputs": [],
   "source": [
    "spread.plot()"
   ]
  },
  {
   "cell_type": "code",
   "execution_count": null,
   "id": "3570018a",
   "metadata": {},
   "outputs": [],
   "source": [
    "spread_in_bps.plot()"
   ]
  },
  {
   "cell_type": "code",
   "execution_count": null,
   "id": "989bc3f8",
   "metadata": {},
   "outputs": [],
   "source": [
    "# TODO(gp): Create a function:\n",
    "# plot_limit_orders(df, start_timestamp: Optional[pd.timestamp] = None, end_timestamp:Optional[pd.Timestamp] = None)\n",
    "df4[[\"mid\", \"ask_price\", \"bid_price\", \"limit_buy_price\", \"limit_sell_price\"]].head(1000).plot()\n",
    "\n",
    "(df4[[\"is_buy\", \"is_sell\"]] * 1.0).head(1000).plot()"
   ]
  },
  {
   "cell_type": "markdown",
   "id": "897997dd",
   "metadata": {},
   "source": [
    "## Resample to T_reprice"
   ]
  },
  {
   "cell_type": "code",
   "execution_count": null,
   "id": "2f81d585",
   "metadata": {},
   "outputs": [],
   "source": [
    "print(df4.shape)"
   ]
  },
  {
   "cell_type": "code",
   "execution_count": null,
   "id": "ece5a903",
   "metadata": {},
   "outputs": [],
   "source": [
    "# TODO(gp): @danya compute_repricing_df(df, report_stats):\n",
    "\n",
    "# TODO(gp): ask_price -> buy_limit?\n",
    "df4[\"exec_buy_price\"] = df4[\"is_buy\"] * df4[\"ask_price\"]\n",
    "mask = ~df4[\"is_buy\"]\n",
    "df4[\"exec_buy_price\"][mask] = np.nan\n",
    "\n",
    "#df4[\"exec_price\"].plot()\n",
    "#df4[\"exec_price\"].mean()\n",
    "\n",
    "# TODO(gp): Not sure this does what we want. We want to average only the values that are not nan.\n",
    "#df4[\"exec_buy_price\"].resample(\"5T\").mean()\n",
    "\n",
    "df4[\"exec_sell_price\"] = df4[\"is_sell\"] * df4[\"bid_price\"]\n",
    "\n",
    "mask = ~df4[\"is_sell\"]\n",
    "df4[\"exec_sell_price\"][mask] = np.nan\n",
    "\n",
    "#df4[\"exec_price\"].plot()\n",
    "#df4[\"exec_price\"].mean()"
   ]
  },
  {
   "cell_type": "code",
   "execution_count": null,
   "id": "dacb5390",
   "metadata": {},
   "outputs": [],
   "source": [
    "# Display as percentages.\n",
    "# if report_stats:\n",
    "print(\"buy percentage at repricing freq: \", df4[\"is_buy\"].sum() / df4.shape[0])\n",
    "print(df4[\"is_sell\"].sum() / df4.shape[0])\n",
    "\n",
    "import helpers.hprint as hprint\n",
    "\n",
    "import numpy as np\n",
    "\n",
    "print(hprint.perc(df4[\"exec_buy_price\"].isnull().sum(), df4.shape[0]))\n",
    "print(hprint.perc(df4[\"exec_sell_price\"].isnull().sum(), df4.shape[0]))"
   ]
  },
  {
   "cell_type": "markdown",
   "id": "3b7cf769",
   "metadata": {},
   "source": [
    "## Resample to T_exec"
   ]
  },
  {
   "cell_type": "code",
   "execution_count": null,
   "id": "358cc874",
   "metadata": {},
   "outputs": [],
   "source": [
    "# TODO(gp): @danya ->\n",
    "# def compute_execution_df(df, t_exec: str, report_stats)\n",
    "\n",
    "df5 = pd.DataFrame()\n",
    "# Count how many executions there were in an interval.\n",
    "df5[\"exec_buy_num\"] = df4[\"is_buy\"].resample(\"5T\").sum()\n",
    "df5[\"exec_buy_price\"] = df4[\"exec_buy_price\"].resample(\"5T\").mean()\n",
    "df5[\"exec_is_buy\"] = df5[\"exec_buy_num\"] > 0\n",
    "print(hprint.perc(df5[\"exec_is_buy\"].sum(), df5[\"exec_is_buy\"].shape[0]))\n",
    "\n",
    "# Estimate the executed volume. \n",
    "df5[\"exec_buy_volume\"] = (df4[\"ask_size\"] * df4[\"ask_price\"] * df4[\"is_buy\"]).resample(\"5T\").sum()\n",
    "print(\"million USD per 5T=\", df5[\"exec_buy_volume\"].mean() / 1e6)\n",
    "# Estimate price as average of executed price.\n",
    "#exec_buy_price = (close * exec_is_buy).groupby(\"5T\").sum() / exec_buy_num\n",
    "\n",
    "# Same for sell.\n",
    "#exec_sell_volume = (is_sell * bid_size).group(\"5T\").sum()\n",
    "#exec_sell_price = (close * exec_is_sell).groupby(\"5T\").sum() / exec_sell_num\n",
    "\n",
    "df5[\"exec_sell_num\"] = df4[\"is_sell\"].resample(\"5T\").sum()\n",
    "df5[\"exec_sell_price\"] = df4[\"exec_sell_price\"].resample(\"5T\").mean()\n",
    "df5[\"exec_is_sell\"] = df5[\"exec_sell_num\"] > 0\n",
    "print(hprint.perc(df5[\"exec_is_sell\"].sum(), df5[\"exec_is_sell\"].shape[0]))\n",
    "\n",
    "# Estimate the executed volume. \n",
    "df5[\"exec_sell_volume\"] = (df4[\"bid_size\"] * df4[\"bid_price\"] * df4[\"is_sell\"]).resample(\"5T\").sum()\n",
    "print(\"million USD per 5T=\", df5[\"exec_sell_volume\"].mean() / 1e6)"
   ]
  },
  {
   "cell_type": "markdown",
   "id": "cbbcd88c",
   "metadata": {},
   "source": [
    "## Compare to benchmark price. "
   ]
  },
  {
   "cell_type": "code",
   "execution_count": null,
   "id": "eb56ca61",
   "metadata": {},
   "outputs": [],
   "source": [
    "# TODO(gp): @danya \n",
    "# def compute_benchmark_stats(...)"
   ]
  },
  {
   "cell_type": "code",
   "execution_count": null,
   "id": "21f57159",
   "metadata": {},
   "outputs": [],
   "source": [
    "# This is the benchmark.\n",
    "df5[\"twap_mid_price\"] = df4[\"mid\"].resample(\"5T\").mean()\n",
    "\n",
    "df5[[\"twap_mid_price\", \"exec_sell_price\", \"exec_buy_price\"]].head(1000).plot()"
   ]
  },
  {
   "cell_type": "code",
   "execution_count": null,
   "id": "a66adec6",
   "metadata": {},
   "outputs": [],
   "source": [
    "slippage = df5[[\"twap_mid_price\", \"exec_sell_price\", \"exec_buy_price\"]]\n",
    "\n",
    "slippage[\"sell_slippage_bps\"] = (df5[\"exec_sell_price\"] - df5[\"twap_mid_price\"]) / df5[\"twap_mid_price\"] * 1e4\n",
    "\n",
    "#slippage = df[\"twap_mid_price\"] / \n",
    "\n",
    "slippage[\"sell_slippage_bps\"].hist(bins=21)\n",
    "\n",
    "print(\"sell_slippage_bps.mean=\", slippage[\"sell_slippage_bps\"].mean())\n",
    "print(\"sell_slippage_bps.median=\", slippage[\"sell_slippage_bps\"].median())"
   ]
  },
  {
   "cell_type": "code",
   "execution_count": null,
   "id": "07d0ad3f",
   "metadata": {},
   "outputs": [],
   "source": [
    "df5.head()"
   ]
  },
  {
   "cell_type": "markdown",
   "id": "ceb8caf4",
   "metadata": {},
   "source": [
    "### Commentary"
   ]
  },
  {
   "cell_type": "markdown",
   "id": "f0c41e3c",
   "metadata": {},
   "source": [
    "The quick look into the rate of successful trades indicated that for the given asset (`ADA/USDT`) and the date the successful \"buy\" order can be met for 16% of the time and a \"sell\" order is not met at all."
   ]
  }
 ],
 "metadata": {
  "kernelspec": {
   "display_name": "Python 3 (ipykernel)",
   "language": "python",
   "name": "python3"
  },
  "language_info": {
   "codemirror_mode": {
    "name": "ipython",
    "version": 3
   },
   "file_extension": ".py",
   "mimetype": "text/x-python",
   "name": "python",
   "nbconvert_exporter": "python",
   "pygments_lexer": "ipython3"
  },
  "toc": {
   "base_numbering": 1,
   "nav_menu": {},
   "number_sections": true,
   "sideBar": true,
   "skip_h1_title": false,
   "title_cell": "Table of Contents",
   "title_sidebar": "Contents",
   "toc_cell": false,
   "toc_position": {},
   "toc_section_display": true,
   "toc_window_display": false
  }
 },
 "nbformat": 4,
 "nbformat_minor": 5
}
