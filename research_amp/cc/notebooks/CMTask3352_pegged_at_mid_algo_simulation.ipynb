{
 "cells": [
  {
   "cell_type": "markdown",
   "id": "a2fa2389",
   "metadata": {},
   "source": [
    "# Description"
   ]
  },
  {
   "cell_type": "markdown",
   "id": "b70bc218",
   "metadata": {},
   "source": [
    "The notebook simulates the performance of a \"pegged-at-mid\" trading algorithm.\n",
    "\n",
    "- Load the 1sec bid/ask data\n",
    "- Conduct a sanity check\n",
    "- Calculate the midpoint limit buy/sell prices\n",
    "- Aggregate to 5T and check the success of trades in historical data\n",
    "\n",
    "```\n",
    "dataset_signature=periodic.airflow.downloaded_EOD.parquet.bid_ask.futures.v3.cryptochassis.binance.v1_0_0\n",
    "```"
   ]
  },
  {
   "cell_type": "code",
   "execution_count": 1,
   "id": "5fc9a131",
   "metadata": {
    "ExecuteTime": {
     "end_time": "2024-06-11T20:17:46.254572Z",
     "start_time": "2024-06-11T20:17:21.632023Z"
    }
   },
   "outputs": [
    {
     "name": "stderr",
     "output_type": "stream",
     "text": [
      "/app/core/statistics/random_samples.py:12: TqdmExperimentalWarning: Using `tqdm.autonotebook.tqdm` in notebook mode. Use `tqdm.tqdm` instead to force console mode (e.g. in jupyter console)\n",
      "  from tqdm.autonotebook import tqdm\n",
      "One and only one set-up config should be true:\n",
      "is_cmamp_prod=False\n",
      "is_dev4=False\n",
      "is_dev_ck=False\n",
      "is_ig_prod=False\n",
      "is_inside_ci=False\n",
      "is_mac=False\n",
      "\u001b[33mWARNING\u001b[0m: No module named 'gluonts'\n",
      "\u001b[33mWARNING\u001b[0m: No module named 'gluonts'\n",
      "Don't recognize host: host_os_name=Linux, am_host_os_name=Linux\n"
     ]
    }
   ],
   "source": [
    "%load_ext autoreload\n",
    "%autoreload 2\n",
    "import logging\n",
    "\n",
    "import pandas as pd\n",
    "\n",
    "import core.finance as cofinanc\n",
    "import core.statistics as costatis\n",
    "import dataflow.core as dtfcore\n",
    "import dataflow.system as dtfsys\n",
    "import helpers.hdbg as hdbg\n",
    "import helpers.henv as henv\n",
    "import helpers.hpandas as hpandas\n",
    "import helpers.hprint as hprint\n",
    "import research_amp.cc.algotrading as ramccalg"
   ]
  },
  {
   "cell_type": "code",
   "execution_count": 2,
   "id": "0e2e6d18",
   "metadata": {
    "ExecuteTime": {
     "end_time": "2024-06-11T20:17:47.326944Z",
     "start_time": "2024-06-11T20:17:46.259612Z"
    }
   },
   "outputs": [
    {
     "name": "stdout",
     "output_type": "stream",
     "text": [
      "\u001b[0mWARNING: Running in Jupyter\n",
      "INFO  > cmd='/venv/lib/python3.9/site-packages/ipykernel_launcher.py -f /home/.local/share/jupyter/runtime/kernel-79a2a24c-a4ec-4f78-aeae-6852cd2ada07.json'\n",
      "INFO  # Git\n",
      "  branch_name='Make_generate_limit_order_price_function_private'\n",
      "  hash='3e5d3be97'\n",
      "  # Last commits:\n",
      "    * 3e5d3be97 smitpatel49 Make generate_limit_order_price_function private                  (66 minutes ago) Tue Jun 11 19:11:41 2024  (HEAD -> Make_generate_limit_order_price_function_private, origin/Make_generate_limit_order_price_function_private)\n",
      "    * 18670c511 Juraj Smeriga Add script to maintain local orderbook copy (#1035)               (   9 hours ago) Tue Jun 11 11:10:20 2024  (origin/master, origin/HEAD, master)\n",
      "    * c3ac308a1 Heanh Sok SorrTask1023_Improve_onboarding_docs (#1030)                      (    3 days ago) Sat Jun 8 16:01:04 2024           \n",
      "# Machine info\n",
      "  system=Linux\n",
      "  node name=018cb4cb0736\n",
      "  release=6.8.0-31-generic\n",
      "  version=#31-Ubuntu SMP PREEMPT_DYNAMIC Sat Apr 20 00:40:06 UTC 2024\n",
      "  machine=x86_64\n",
      "  processor=x86_64\n",
      "  cpu count=6\n",
      "  cpu freq=scpufreq(current=2918.414, min=0.0, max=0.0)\n",
      "  memory=svmem(total=4056100864, available=1256124416, percent=69.0, used=2400129024, free=122421248, active=1295101952, inactive=1814290432, buffers=21254144, cached=1512296448, shared=138842112, slab=284360704)\n",
      "  disk usage=sdiskusage(total=105086115840, used=28715798528, free=70984990720, percent=28.8)\n",
      "# Packages\n",
      "  python: 3.9.5\n",
      "  cvxopt: 1.3.2\n",
      "  cvxpy: 1.4.2\n",
      "  gluonnlp: ?\n",
      "  gluonts: ?\n",
      "  joblib: 1.3.2\n",
      "  mxnet: ?\n",
      "  numpy: 1.26.0\n",
      "  pandas: 2.1.1\n",
      "  pyarrow: 15.0.0\n",
      "  scipy: 1.11.3\n",
      "  seaborn: 0.13.0\n",
      "  sklearn: 1.3.1\n",
      "  statsmodels: 0.14.0\n"
     ]
    }
   ],
   "source": [
    "hdbg.init_logger(verbosity=logging.INFO)\n",
    "\n",
    "_LOG = logging.getLogger(__name__)\n",
    "\n",
    "_LOG.info(\"%s\", henv.get_system_signature()[0])\n",
    "\n",
    "hprint.config_notebook()"
   ]
  },
  {
   "cell_type": "markdown",
   "id": "d7b0ee83",
   "metadata": {},
   "source": [
    "# Load CryptoChassis data."
   ]
  },
  {
   "cell_type": "markdown",
   "id": "99ed31c0",
   "metadata": {},
   "source": [
    "## Initialize MarketData for `read_data` node"
   ]
  },
  {
   "cell_type": "code",
   "execution_count": 3,
   "id": "ad9116d8",
   "metadata": {
    "ExecuteTime": {
     "end_time": "2024-06-11T20:17:47.605082Z",
     "start_time": "2024-06-11T20:17:47.333410Z"
    }
   },
   "outputs": [],
   "source": [
    "# Load the default config.\n",
    "config = ramccalg.get_default_config()"
   ]
  },
  {
   "cell_type": "code",
   "execution_count": 4,
   "id": "baf38510",
   "metadata": {
    "ExecuteTime": {
     "end_time": "2024-06-11T20:17:49.884251Z",
     "start_time": "2024-06-11T20:17:47.620895Z"
    },
    "scrolled": true
   },
   "outputs": [],
   "source": [
    "# Load the historical IM client.\n",
    "client = ramccalg.get_bid_ask_ImClient(config)\n",
    "# Load the asset ids of the given universe.\n",
    "asset_ids = ramccalg.get_universe(config, full_symbols=[\"binance::ADA_USDT\"])\n",
    "# Set up MarketData for\n",
    "market_data = ramccalg.get_market_data(config)"
   ]
  },
  {
   "cell_type": "markdown",
   "id": "fcc51eb1",
   "metadata": {},
   "source": [
    "## Initialize DAG"
   ]
  },
  {
   "cell_type": "code",
   "execution_count": 5,
   "id": "ee41b25e",
   "metadata": {
    "ExecuteTime": {
     "end_time": "2024-06-11T20:17:50.259834Z",
     "start_time": "2024-06-11T20:17:49.900081Z"
    }
   },
   "outputs": [],
   "source": [
    "start_ts = config.get_and_mark_as_used((\"market_data_config\", \"start_ts\"))\n",
    "end_ts = config.get_and_mark_as_used((\"market_data_config\", \"end_ts\"))\n",
    "intervals = [(start_ts, end_ts)]\n",
    "\n",
    "\n",
    "def _run_dag_node(dag):\n",
    "    dag_runner = dtfcore.FitPredictDagRunner(dag)\n",
    "    dag_runner.set_fit_intervals(intervals)\n",
    "    fit_result_bundle = dag_runner.fit()\n",
    "    df = fit_result_bundle.result_df\n",
    "    return df"
   ]
  },
  {
   "cell_type": "code",
   "execution_count": 6,
   "id": "7e49cf1e",
   "metadata": {
    "ExecuteTime": {
     "end_time": "2024-06-11T20:17:50.971688Z",
     "start_time": "2024-06-11T20:17:50.266343Z"
    }
   },
   "outputs": [
    {
     "data": {
      "image/png": "[encoded data removed]",
      "text/plain": [
       "<IPython.core.display.Image object>"
      ]
     },
     "execution_count": 6,
     "metadata": {},
     "output_type": "execute_result"
    }
   ],
   "source": [
    "# Create an empty DAG.\n",
    "dag = dtfcore.DAG(mode=\"strict\")\n",
    "dtfcore.draw(dag)"
   ]
  },
  {
   "cell_type": "code",
   "execution_count": 7,
   "id": "c5eabe6d",
   "metadata": {
    "ExecuteTime": {
     "end_time": "2024-06-11T20:17:51.393643Z",
     "start_time": "2024-06-11T20:17:50.979762Z"
    }
   },
   "outputs": [
    {
     "data": {
      "image/png": "[encoded data removed]",
      "text/plain": [
       "<IPython.core.display.Image object>"
      ]
     },
     "execution_count": 7,
     "metadata": {},
     "output_type": "execute_result"
    }
   ],
   "source": [
    "stage = \"read_data\"\n",
    "ts_col_name = \"end_ts\"\n",
    "multiindex_output = True\n",
    "col_names_to_remove = []\n",
    "node = dtfsys.HistoricalDataSource(\n",
    "    stage,\n",
    "    market_data,\n",
    "    ts_col_name,\n",
    "    multiindex_output,\n",
    "    col_names_to_remove=col_names_to_remove,\n",
    ")\n",
    "dag.insert_at_head(node)\n",
    "dtfcore.draw(dag)"
   ]
  },
  {
   "cell_type": "markdown",
   "id": "e09eba90",
   "metadata": {},
   "source": [
    "## Read data"
   ]
  },
  {
   "cell_type": "code",
   "execution_count": 8,
   "id": "c107b824",
   "metadata": {
    "ExecuteTime": {
     "end_time": "2024-06-11T20:17:53.860368Z",
     "start_time": "2024-06-11T20:17:51.405968Z"
    }
   },
   "outputs": [
    {
     "data": {
      "application/vnd.jupyter.widget-view+json": {
       "model_id": "00511bae31b74e13a85f39f0a22c1bbe",
       "version_major": 2,
       "version_minor": 0
      },
      "text/plain": [
       "run_leq_node:   0%|          | 0/1 [00:00<?, ?it/s]"
      ]
     },
     "metadata": {},
     "output_type": "display_data"
    },
    {
     "ename": "AssertionError",
     "evalue": "\n################################################################################\n* Failed assertion *\nFile '/home/.aws/credentials' doesn't exist\n################################################################################\n",
     "output_type": "error",
     "traceback": [
      "\u001b[0;31m---------------------------------------------------------------------------\u001b[0m",
      "\u001b[0;31mAssertionError\u001b[0m                            Traceback (most recent call last)",
      "Cell \u001b[0;32mIn[8], line 1\u001b[0m\n\u001b[0;32m----> 1\u001b[0m df_original \u001b[38;5;241m=\u001b[39m \u001b[43m_run_dag_node\u001b[49m\u001b[43m(\u001b[49m\u001b[43mdag\u001b[49m\u001b[43m)\u001b[49m\n\u001b[1;32m      2\u001b[0m df_original\u001b[38;5;241m.\u001b[39mshape\n\u001b[1;32m      3\u001b[0m df_original\u001b[38;5;241m.\u001b[39mhead(\u001b[38;5;241m5\u001b[39m)\n",
      "Cell \u001b[0;32mIn[5], line 9\u001b[0m, in \u001b[0;36m_run_dag_node\u001b[0;34m(dag)\u001b[0m\n\u001b[1;32m      7\u001b[0m dag_runner \u001b[38;5;241m=\u001b[39m dtfcore\u001b[38;5;241m.\u001b[39mFitPredictDagRunner(dag)\n\u001b[1;32m      8\u001b[0m dag_runner\u001b[38;5;241m.\u001b[39mset_fit_intervals(intervals)\n\u001b[0;32m----> 9\u001b[0m fit_result_bundle \u001b[38;5;241m=\u001b[39m \u001b[43mdag_runner\u001b[49m\u001b[38;5;241;43m.\u001b[39;49m\u001b[43mfit\u001b[49m\u001b[43m(\u001b[49m\u001b[43m)\u001b[49m\n\u001b[1;32m     10\u001b[0m df \u001b[38;5;241m=\u001b[39m fit_result_bundle\u001b[38;5;241m.\u001b[39mresult_df\n\u001b[1;32m     11\u001b[0m \u001b[38;5;28;01mreturn\u001b[39;00m df\n",
      "File \u001b[0;32m/app/dataflow/core/dag_runner.py:202\u001b[0m, in \u001b[0;36mFitPredictDagRunner.fit\u001b[0;34m(self)\u001b[0m\n\u001b[1;32m    198\u001b[0m \u001b[38;5;250m\u001b[39m\u001b[38;5;124;03m\"\"\"\u001b[39;00m\n\u001b[1;32m    199\u001b[0m \u001b[38;5;124;03mFitting means running `fit()` method on the DAG up to the sink node.\u001b[39;00m\n\u001b[1;32m    200\u001b[0m \u001b[38;5;124;03m\"\"\"\u001b[39;00m\n\u001b[1;32m    201\u001b[0m method \u001b[38;5;241m=\u001b[39m \u001b[38;5;124m\"\u001b[39m\u001b[38;5;124mfit\u001b[39m\u001b[38;5;124m\"\u001b[39m\n\u001b[0;32m--> 202\u001b[0m \u001b[38;5;28;01mreturn\u001b[39;00m \u001b[38;5;28;43mself\u001b[39;49m\u001b[38;5;241;43m.\u001b[39;49m\u001b[43m_run_dag\u001b[49m\u001b[43m(\u001b[49m\u001b[43mmethod\u001b[49m\u001b[43m)\u001b[49m\n",
      "File \u001b[0;32m/app/dataflow/core/dag_runner.py:217\u001b[0m, in \u001b[0;36mFitPredictDagRunner._run_dag\u001b[0;34m(self, method)\u001b[0m\n\u001b[1;32m    216\u001b[0m \u001b[38;5;28;01mdef\u001b[39;00m \u001b[38;5;21m_run_dag\u001b[39m(\u001b[38;5;28mself\u001b[39m, method: dtfcornode\u001b[38;5;241m.\u001b[39mMethod) \u001b[38;5;241m-\u001b[39m\u001b[38;5;241m>\u001b[39m dtfcorebun\u001b[38;5;241m.\u001b[39mResultBundle:\n\u001b[0;32m--> 217\u001b[0m     df_out, info \u001b[38;5;241m=\u001b[39m \u001b[38;5;28;43mself\u001b[39;49m\u001b[38;5;241;43m.\u001b[39;49m\u001b[43m_run_dag_helper\u001b[49m\u001b[43m(\u001b[49m\u001b[43mmethod\u001b[49m\u001b[43m)\u001b[49m\n\u001b[1;32m    218\u001b[0m     \u001b[38;5;28;01mreturn\u001b[39;00m \u001b[38;5;28mself\u001b[39m\u001b[38;5;241m.\u001b[39m_to_result_bundle(method, df_out, info)\n",
      "File \u001b[0;32m/app/dataflow/core/dag_runner.py:140\u001b[0m, in \u001b[0;36mDagRunner._run_dag_helper\u001b[0;34m(self, method)\u001b[0m\n\u001b[1;32m    138\u001b[0m nid \u001b[38;5;241m=\u001b[39m \u001b[38;5;28mself\u001b[39m\u001b[38;5;241m.\u001b[39m_result_nid\n\u001b[1;32m    139\u001b[0m \u001b[38;5;66;03m# TODO(gp): Add a check for `df_out`.\u001b[39;00m\n\u001b[0;32m--> 140\u001b[0m df_out \u001b[38;5;241m=\u001b[39m \u001b[38;5;28;43mself\u001b[39;49m\u001b[38;5;241;43m.\u001b[39;49m\u001b[43mdag\u001b[49m\u001b[38;5;241;43m.\u001b[39;49m\u001b[43mrun_leq_node\u001b[49m\u001b[43m(\u001b[49m\u001b[43mnid\u001b[49m\u001b[43m,\u001b[49m\u001b[43m \u001b[49m\u001b[43mmethod\u001b[49m\u001b[43m)\u001b[49m[\u001b[38;5;124m\"\u001b[39m\u001b[38;5;124mdf_out\u001b[39m\u001b[38;5;124m\"\u001b[39m]\n\u001b[1;32m    141\u001b[0m info \u001b[38;5;241m=\u001b[39m dtfcorvisi\u001b[38;5;241m.\u001b[39mextract_info(\u001b[38;5;28mself\u001b[39m\u001b[38;5;241m.\u001b[39mdag, [method])\n\u001b[1;32m    142\u001b[0m \u001b[38;5;28;01mreturn\u001b[39;00m df_out, info\n",
      "File \u001b[0;32m/app/dataflow/core/dag.py:533\u001b[0m, in \u001b[0;36mDAG.run_leq_node\u001b[0;34m(self, nid, method, progress_bar)\u001b[0m\n\u001b[1;32m    531\u001b[0m     \u001b[38;5;28;01mif\u001b[39;00m _LOG\u001b[38;5;241m.\u001b[39misEnabledFor(logging\u001b[38;5;241m.\u001b[39mDEBUG):\n\u001b[1;32m    532\u001b[0m         _LOG\u001b[38;5;241m.\u001b[39mdebug(\u001b[38;5;124m\"\u001b[39m\u001b[38;5;124mExecuting node \u001b[39m\u001b[38;5;124m'\u001b[39m\u001b[38;5;132;01m%s\u001b[39;00m\u001b[38;5;124m'\u001b[39m\u001b[38;5;124m\"\u001b[39m, pred_nid)\n\u001b[0;32m--> 533\u001b[0m     \u001b[38;5;28;43mself\u001b[39;49m\u001b[38;5;241;43m.\u001b[39;49m\u001b[43m_run_node\u001b[49m\u001b[43m(\u001b[49m\u001b[43mid_\u001b[49m\u001b[43m,\u001b[49m\u001b[43m \u001b[49m\u001b[43mpred_nid\u001b[49m\u001b[43m,\u001b[49m\u001b[43m \u001b[49m\u001b[43mmethod\u001b[49m\u001b[43m)\u001b[49m\n\u001b[1;32m    534\u001b[0m \u001b[38;5;66;03m# Retrieve the output the node.\u001b[39;00m\n\u001b[1;32m    535\u001b[0m node \u001b[38;5;241m=\u001b[39m \u001b[38;5;28mself\u001b[39m\u001b[38;5;241m.\u001b[39mget_node(nid)\n",
      "File \u001b[0;32m/app/dataflow/core/dag.py:750\u001b[0m, in \u001b[0;36mDAG._run_node\u001b[0;34m(self, topological_id, nid, method)\u001b[0m\n\u001b[1;32m    748\u001b[0m node \u001b[38;5;241m=\u001b[39m \u001b[38;5;28mself\u001b[39m\u001b[38;5;241m.\u001b[39mget_node(nid)\n\u001b[1;32m    749\u001b[0m \u001b[38;5;28;01mtry\u001b[39;00m:\n\u001b[0;32m--> 750\u001b[0m     output \u001b[38;5;241m=\u001b[39m \u001b[38;5;28;43mgetattr\u001b[39;49m\u001b[43m(\u001b[49m\u001b[43mnode\u001b[49m\u001b[43m,\u001b[49m\u001b[43m \u001b[49m\u001b[43mmethod\u001b[49m\u001b[43m)\u001b[49m\u001b[43m(\u001b[49m\u001b[38;5;241;43m*\u001b[39;49m\u001b[38;5;241;43m*\u001b[39;49m\u001b[43mkwargs\u001b[49m\u001b[43m)\u001b[49m\n\u001b[1;32m    751\u001b[0m \u001b[38;5;28;01mexcept\u001b[39;00m \u001b[38;5;167;01mAttributeError\u001b[39;00m \u001b[38;5;28;01mas\u001b[39;00m e:\n\u001b[1;32m    752\u001b[0m     \u001b[38;5;28;01mraise\u001b[39;00m \u001b[38;5;167;01mAttributeError\u001b[39;00m(\n\u001b[1;32m    753\u001b[0m         \u001b[38;5;124mf\u001b[39m\u001b[38;5;124m\"\u001b[39m\u001b[38;5;124mAn exception occurred in node \u001b[39m\u001b[38;5;124m'\u001b[39m\u001b[38;5;132;01m{\u001b[39;00mnid\u001b[38;5;132;01m}\u001b[39;00m\u001b[38;5;124m'\u001b[39m\u001b[38;5;130;01m\\n\u001b[39;00m\u001b[38;5;132;01m{\u001b[39;00m\u001b[38;5;28mstr\u001b[39m(e)\u001b[38;5;132;01m}\u001b[39;00m\u001b[38;5;124m\"\u001b[39m\n\u001b[1;32m    754\u001b[0m     ) \u001b[38;5;28;01mfrom\u001b[39;00m \u001b[38;5;21;01me\u001b[39;00m\n",
      "File \u001b[0;32m/app/dataflow/system/source_nodes.py:466\u001b[0m, in \u001b[0;36mHistoricalDataSource.fit\u001b[0;34m(self)\u001b[0m\n\u001b[1;32m    461\u001b[0m     _LOG\u001b[38;5;241m.\u001b[39mdebug(\n\u001b[1;32m    462\u001b[0m         \u001b[38;5;124m\"\u001b[39m\u001b[38;5;124mwall_clock_time=\u001b[39m\u001b[38;5;132;01m%s\u001b[39;00m\u001b[38;5;124m\"\u001b[39m,\n\u001b[1;32m    463\u001b[0m         \u001b[38;5;28mself\u001b[39m\u001b[38;5;241m.\u001b[39m_market_data\u001b[38;5;241m.\u001b[39mget_wall_clock_time(),\n\u001b[1;32m    464\u001b[0m     )\n\u001b[1;32m    465\u001b[0m intervals \u001b[38;5;241m=\u001b[39m \u001b[38;5;28mself\u001b[39m\u001b[38;5;241m.\u001b[39m_fit_intervals\n\u001b[0;32m--> 466\u001b[0m \u001b[38;5;28mself\u001b[39m\u001b[38;5;241m.\u001b[39mdf \u001b[38;5;241m=\u001b[39m \u001b[38;5;28;43mself\u001b[39;49m\u001b[38;5;241;43m.\u001b[39;49m\u001b[43m_get_data\u001b[49m\u001b[43m(\u001b[49m\u001b[43mintervals\u001b[49m\u001b[43m)\u001b[49m\n\u001b[1;32m    467\u001b[0m \u001b[38;5;28;01mreturn\u001b[39;00m \u001b[38;5;28msuper\u001b[39m()\u001b[38;5;241m.\u001b[39mfit()\n",
      "File \u001b[0;32m/app/dataflow/system/source_nodes.py:504\u001b[0m, in \u001b[0;36mHistoricalDataSource._get_data\u001b[0;34m(self, intervals)\u001b[0m\n\u001b[1;32m    501\u001b[0m \u001b[38;5;66;03m# We assume that the `MarketData` object is in charge of specifying\u001b[39;00m\n\u001b[1;32m    502\u001b[0m \u001b[38;5;66;03m# the universe of assets.\u001b[39;00m\n\u001b[1;32m    503\u001b[0m asset_ids \u001b[38;5;241m=\u001b[39m \u001b[38;5;28;01mNone\u001b[39;00m\n\u001b[0;32m--> 504\u001b[0m df \u001b[38;5;241m=\u001b[39m \u001b[38;5;28;43mself\u001b[39;49m\u001b[38;5;241;43m.\u001b[39;49m\u001b[43m_market_data\u001b[49m\u001b[38;5;241;43m.\u001b[39;49m\u001b[43mget_data_for_interval\u001b[49m\u001b[43m(\u001b[49m\n\u001b[1;32m    505\u001b[0m \u001b[43m    \u001b[49m\u001b[43mmin_timestamp\u001b[49m\u001b[43m,\u001b[49m\n\u001b[1;32m    506\u001b[0m \u001b[43m    \u001b[49m\u001b[43mmax_timestamp\u001b[49m\u001b[43m,\u001b[49m\n\u001b[1;32m    507\u001b[0m \u001b[43m    \u001b[49m\u001b[38;5;28;43mself\u001b[39;49m\u001b[38;5;241;43m.\u001b[39;49m\u001b[43m_ts_col_name\u001b[49m\u001b[43m,\u001b[49m\n\u001b[1;32m    508\u001b[0m \u001b[43m    \u001b[49m\u001b[43masset_ids\u001b[49m\u001b[43m,\u001b[49m\n\u001b[1;32m    509\u001b[0m \u001b[43m    \u001b[49m\u001b[43mleft_close\u001b[49m\u001b[38;5;241;43m=\u001b[39;49m\u001b[43mleft_close\u001b[49m\u001b[43m,\u001b[49m\n\u001b[1;32m    510\u001b[0m \u001b[43m    \u001b[49m\u001b[43mright_close\u001b[49m\u001b[38;5;241;43m=\u001b[39;49m\u001b[43mright_close\u001b[49m\u001b[43m,\u001b[49m\n\u001b[1;32m    511\u001b[0m \u001b[43m\u001b[49m\u001b[43m)\u001b[49m\n\u001b[1;32m    512\u001b[0m \u001b[38;5;66;03m# Remove the columns that are not needed.\u001b[39;00m\n\u001b[1;32m    513\u001b[0m \u001b[38;5;28;01mif\u001b[39;00m \u001b[38;5;28mself\u001b[39m\u001b[38;5;241m.\u001b[39m_col_names_to_remove \u001b[38;5;129;01mis\u001b[39;00m \u001b[38;5;129;01mnot\u001b[39;00m \u001b[38;5;28;01mNone\u001b[39;00m:\n",
      "File \u001b[0;32m/app/market_data/abstract_market_data.py:232\u001b[0m, in \u001b[0;36mMarketData.get_data_for_interval\u001b[0;34m(self, start_ts, end_ts, ts_col_name, asset_ids, left_close, right_close, limit, ignore_delay)\u001b[0m\n\u001b[1;32m    228\u001b[0m hdateti\u001b[38;5;241m.\u001b[39mdassert_is_valid_interval(\n\u001b[1;32m    229\u001b[0m     start_ts, end_ts, left_close, right_close\n\u001b[1;32m    230\u001b[0m )\n\u001b[1;32m    231\u001b[0m \u001b[38;5;66;03m# Delegate to the derived classes to retrieve the data.\u001b[39;00m\n\u001b[0;32m--> 232\u001b[0m df \u001b[38;5;241m=\u001b[39m \u001b[38;5;28;43mself\u001b[39;49m\u001b[38;5;241;43m.\u001b[39;49m\u001b[43m_get_data\u001b[49m\u001b[43m(\u001b[49m\n\u001b[1;32m    233\u001b[0m \u001b[43m    \u001b[49m\u001b[43mstart_ts\u001b[49m\u001b[43m,\u001b[49m\n\u001b[1;32m    234\u001b[0m \u001b[43m    \u001b[49m\u001b[43mend_ts\u001b[49m\u001b[43m,\u001b[49m\n\u001b[1;32m    235\u001b[0m \u001b[43m    \u001b[49m\u001b[43mts_col_name\u001b[49m\u001b[43m,\u001b[49m\n\u001b[1;32m    236\u001b[0m \u001b[43m    \u001b[49m\u001b[43masset_ids\u001b[49m\u001b[43m,\u001b[49m\n\u001b[1;32m    237\u001b[0m \u001b[43m    \u001b[49m\u001b[43mleft_close\u001b[49m\u001b[43m,\u001b[49m\n\u001b[1;32m    238\u001b[0m \u001b[43m    \u001b[49m\u001b[43mright_close\u001b[49m\u001b[43m,\u001b[49m\n\u001b[1;32m    239\u001b[0m \u001b[43m    \u001b[49m\u001b[43mlimit\u001b[49m\u001b[43m,\u001b[49m\n\u001b[1;32m    240\u001b[0m \u001b[43m    \u001b[49m\u001b[43mignore_delay\u001b[49m\u001b[43m,\u001b[49m\n\u001b[1;32m    241\u001b[0m \u001b[43m\u001b[49m\u001b[43m)\u001b[49m\n\u001b[1;32m    242\u001b[0m _LOG\u001b[38;5;241m.\u001b[39mdebug(\u001b[38;5;124m\"\u001b[39m\u001b[38;5;124m-> df after _get_data=\u001b[39m\u001b[38;5;130;01m\\n\u001b[39;00m\u001b[38;5;132;01m%s\u001b[39;00m\u001b[38;5;124m\"\u001b[39m, hpandas\u001b[38;5;241m.\u001b[39mdf_to_str(df))\n\u001b[1;32m    243\u001b[0m _LOG\u001b[38;5;241m.\u001b[39mdebug(\u001b[38;5;124m\"\u001b[39m\u001b[38;5;124mget_data_for_interval() columns \u001b[39m\u001b[38;5;124m'\u001b[39m\u001b[38;5;132;01m%s\u001b[39;00m\u001b[38;5;124m'\u001b[39m\u001b[38;5;124m\"\u001b[39m, df\u001b[38;5;241m.\u001b[39mcolumns)\n",
      "File \u001b[0;32m/app/market_data/im_client_market_data.py:133\u001b[0m, in \u001b[0;36mImClientMarketData._get_data\u001b[0;34m(self, start_ts, end_ts, ts_col_name, asset_ids, left_close, right_close, limit, ignore_delay)\u001b[0m\n\u001b[1;32m    131\u001b[0m     query_columns \u001b[38;5;241m=\u001b[39m cast(List[\u001b[38;5;28mstr\u001b[39m], \u001b[38;5;28mself\u001b[39m\u001b[38;5;241m.\u001b[39m_columns)\n\u001b[1;32m    132\u001b[0m \u001b[38;5;66;03m# Read data.\u001b[39;00m\n\u001b[0;32m--> 133\u001b[0m market_data \u001b[38;5;241m=\u001b[39m \u001b[38;5;28;43mself\u001b[39;49m\u001b[38;5;241;43m.\u001b[39;49m\u001b[43m_im_client\u001b[49m\u001b[38;5;241;43m.\u001b[39;49m\u001b[43mread_data\u001b[49m\u001b[43m(\u001b[49m\n\u001b[1;32m    134\u001b[0m \u001b[43m    \u001b[49m\u001b[43mfull_symbols\u001b[49m\u001b[43m,\u001b[49m\n\u001b[1;32m    135\u001b[0m \u001b[43m    \u001b[49m\u001b[43mstart_ts\u001b[49m\u001b[43m,\u001b[49m\n\u001b[1;32m    136\u001b[0m \u001b[43m    \u001b[49m\u001b[43mend_ts\u001b[49m\u001b[43m,\u001b[49m\n\u001b[1;32m    137\u001b[0m \u001b[43m    \u001b[49m\u001b[43mquery_columns\u001b[49m\u001b[43m,\u001b[49m\n\u001b[1;32m    138\u001b[0m \u001b[43m    \u001b[49m\u001b[38;5;28;43mself\u001b[39;49m\u001b[38;5;241;43m.\u001b[39;49m\u001b[43m_filter_data_mode\u001b[49m\u001b[43m,\u001b[49m\n\u001b[1;32m    139\u001b[0m \u001b[43m\u001b[49m\u001b[43m)\u001b[49m\n\u001b[1;32m    140\u001b[0m _LOG\u001b[38;5;241m.\u001b[39mdebug(\n\u001b[1;32m    141\u001b[0m     \u001b[38;5;124m\"\u001b[39m\u001b[38;5;124m-> df after _im_client.read_data=\u001b[39m\u001b[38;5;130;01m\\n\u001b[39;00m\u001b[38;5;132;01m%s\u001b[39;00m\u001b[38;5;124m\"\u001b[39m,\n\u001b[1;32m    142\u001b[0m     hpandas\u001b[38;5;241m.\u001b[39mdf_to_str(market_data),\n\u001b[1;32m    143\u001b[0m )\n\u001b[1;32m    144\u001b[0m \u001b[38;5;66;03m# Add `asset_id` column.\u001b[39;00m\n",
      "File \u001b[0;32m/app/im_v2/common/data/client/abstract_im_clients.py:206\u001b[0m, in \u001b[0;36mImClient.read_data\u001b[0;34m(self, full_symbols, start_ts, end_ts, columns, filter_data_mode, full_symbol_col_name, **kwargs)\u001b[0m\n\u001b[1;32m    204\u001b[0m     hdbg\u001b[38;5;241m.\u001b[39mdassert_lte(\u001b[38;5;241m1\u001b[39m, \u001b[38;5;28mlen\u001b[39m(columns))\n\u001b[1;32m    205\u001b[0m \u001b[38;5;66;03m# Read data through the derived class.\u001b[39;00m\n\u001b[0;32m--> 206\u001b[0m df \u001b[38;5;241m=\u001b[39m \u001b[38;5;28;43mself\u001b[39;49m\u001b[38;5;241;43m.\u001b[39;49m\u001b[43m_read_data\u001b[49m\u001b[43m(\u001b[49m\n\u001b[1;32m    207\u001b[0m \u001b[43m    \u001b[49m\u001b[43mfull_symbols\u001b[49m\u001b[43m,\u001b[49m\n\u001b[1;32m    208\u001b[0m \u001b[43m    \u001b[49m\u001b[43mstart_ts\u001b[49m\u001b[43m,\u001b[49m\n\u001b[1;32m    209\u001b[0m \u001b[43m    \u001b[49m\u001b[43mend_ts\u001b[49m\u001b[43m,\u001b[49m\n\u001b[1;32m    210\u001b[0m \u001b[43m    \u001b[49m\u001b[43mcolumns\u001b[49m\u001b[43m,\u001b[49m\n\u001b[1;32m    211\u001b[0m \u001b[43m    \u001b[49m\u001b[43mfull_symbol_col_name\u001b[49m\u001b[38;5;241;43m=\u001b[39;49m\u001b[43mfull_symbol_col_name\u001b[49m\u001b[43m,\u001b[49m\n\u001b[1;32m    212\u001b[0m \u001b[43m    \u001b[49m\u001b[38;5;241;43m*\u001b[39;49m\u001b[38;5;241;43m*\u001b[39;49m\u001b[43mkwargs\u001b[49m\u001b[43m,\u001b[49m\n\u001b[1;32m    213\u001b[0m \u001b[43m\u001b[49m\u001b[43m)\u001b[49m\n\u001b[1;32m    214\u001b[0m _LOG\u001b[38;5;241m.\u001b[39mdebug(\n\u001b[1;32m    215\u001b[0m     hpandas\u001b[38;5;241m.\u001b[39mdf_to_str(df, print_shape_info\u001b[38;5;241m=\u001b[39m\u001b[38;5;28;01mTrue\u001b[39;00m, tag\u001b[38;5;241m=\u001b[39m\u001b[38;5;124m\"\u001b[39m\u001b[38;5;124mafter _read_data\u001b[39m\u001b[38;5;124m\"\u001b[39m)\n\u001b[1;32m    216\u001b[0m )\n\u001b[1;32m    217\u001b[0m \u001b[38;5;66;03m# hpandas.dassert_increasing_index(df)\u001b[39;00m\n",
      "File \u001b[0;32m/app/im_v2/common/data/client/abstract_im_clients.py:683\u001b[0m, in \u001b[0;36mImClientReadingMultipleSymbols._read_data\u001b[0;34m(self, full_symbols, start_ts, end_ts, columns, full_symbol_col_name, **kwargs)\u001b[0m\n\u001b[1;32m    675\u001b[0m _LOG\u001b[38;5;241m.\u001b[39mdebug(\n\u001b[1;32m    676\u001b[0m     hprint\u001b[38;5;241m.\u001b[39mto_str(\n\u001b[1;32m    677\u001b[0m         \u001b[38;5;124m\"\u001b[39m\u001b[38;5;124mfull_symbols start_ts end_ts columns full_symbol_col_name kwargs\u001b[39m\u001b[38;5;124m\"\u001b[39m\n\u001b[1;32m    678\u001b[0m     )\n\u001b[1;32m    679\u001b[0m )\n\u001b[1;32m    680\u001b[0m full_symbol_col_name \u001b[38;5;241m=\u001b[39m \u001b[38;5;28mself\u001b[39m\u001b[38;5;241m.\u001b[39m_get_full_symbol_col_name(\n\u001b[1;32m    681\u001b[0m     full_symbol_col_name\n\u001b[1;32m    682\u001b[0m )\n\u001b[0;32m--> 683\u001b[0m df \u001b[38;5;241m=\u001b[39m \u001b[38;5;28;43mself\u001b[39;49m\u001b[38;5;241;43m.\u001b[39;49m\u001b[43m_read_data_for_multiple_symbols\u001b[49m\u001b[43m(\u001b[49m\n\u001b[1;32m    684\u001b[0m \u001b[43m    \u001b[49m\u001b[43mfull_symbols\u001b[49m\u001b[43m,\u001b[49m\n\u001b[1;32m    685\u001b[0m \u001b[43m    \u001b[49m\u001b[43mstart_ts\u001b[49m\u001b[43m,\u001b[49m\n\u001b[1;32m    686\u001b[0m \u001b[43m    \u001b[49m\u001b[43mend_ts\u001b[49m\u001b[43m,\u001b[49m\n\u001b[1;32m    687\u001b[0m \u001b[43m    \u001b[49m\u001b[43mcolumns\u001b[49m\u001b[43m,\u001b[49m\n\u001b[1;32m    688\u001b[0m \u001b[43m    \u001b[49m\u001b[43mfull_symbol_col_name\u001b[49m\u001b[43m,\u001b[49m\n\u001b[1;32m    689\u001b[0m \u001b[43m    \u001b[49m\u001b[38;5;241;43m*\u001b[39;49m\u001b[38;5;241;43m*\u001b[39;49m\u001b[43mkwargs\u001b[49m\u001b[43m,\u001b[49m\n\u001b[1;32m    690\u001b[0m \u001b[43m\u001b[49m\u001b[43m)\u001b[49m\n\u001b[1;32m    691\u001b[0m \u001b[38;5;28;01mreturn\u001b[39;00m df\n",
      "File \u001b[0;32m/app/im_v2/common/data/client/historical_pq_clients.py:181\u001b[0m, in \u001b[0;36mHistoricalPqByTileClient._read_data_for_multiple_symbols\u001b[0;34m(self, full_symbols, start_ts, end_ts, columns, full_symbol_col_name, **kwargs)\u001b[0m\n\u001b[1;32m    179\u001b[0m kwargs[\u001b[38;5;124m\"\u001b[39m\u001b[38;5;124mfilters\u001b[39m\u001b[38;5;124m\"\u001b[39m] \u001b[38;5;241m=\u001b[39m filters\n\u001b[1;32m    180\u001b[0m \u001b[38;5;66;03m# Read Parquet data from a root dir.\u001b[39;00m\n\u001b[0;32m--> 181\u001b[0m root_dir_df \u001b[38;5;241m=\u001b[39m \u001b[43mhparque\u001b[49m\u001b[38;5;241;43m.\u001b[39;49m\u001b[43mfrom_parquet\u001b[49m\u001b[43m(\u001b[49m\u001b[43mroot_dir\u001b[49m\u001b[43m,\u001b[49m\u001b[43m \u001b[49m\u001b[38;5;241;43m*\u001b[39;49m\u001b[38;5;241;43m*\u001b[39;49m\u001b[43mkwargs\u001b[49m\u001b[43m)\u001b[49m\n\u001b[1;32m    182\u001b[0m \u001b[38;5;66;03m# TODO(Grisha): \"Handle missing tiles\" CmTask #1775.\u001b[39;00m\n\u001b[1;32m    183\u001b[0m \u001b[38;5;66;03m# hdbg.dassert_lte(\u001b[39;00m\n\u001b[1;32m    184\u001b[0m \u001b[38;5;66;03m#     1,\u001b[39;00m\n\u001b[0;32m   (...)\u001b[0m\n\u001b[1;32m    189\u001b[0m \u001b[38;5;66;03m# )\u001b[39;00m\n\u001b[1;32m    190\u001b[0m \u001b[38;5;66;03m# Convert index to datetime.\u001b[39;00m\n\u001b[1;32m    191\u001b[0m root_dir_df\u001b[38;5;241m.\u001b[39mindex \u001b[38;5;241m=\u001b[39m pd\u001b[38;5;241m.\u001b[39mto_datetime(root_dir_df\u001b[38;5;241m.\u001b[39mindex)\n",
      "File \u001b[0;32m/app/helpers/hparquet.py:116\u001b[0m, in \u001b[0;36mfrom_parquet\u001b[0;34m(file_name, columns, filters, n_rows, schema, log_level, report_stats, aws_profile)\u001b[0m\n\u001b[1;32m    114\u001b[0m \u001b[38;5;28;01mif\u001b[39;00m hs3\u001b[38;5;241m.\u001b[39mis_s3_path(file_name):\n\u001b[1;32m    115\u001b[0m     \u001b[38;5;28;01mif\u001b[39;00m \u001b[38;5;28misinstance\u001b[39m(aws_profile, \u001b[38;5;28mstr\u001b[39m):\n\u001b[0;32m--> 116\u001b[0m         filesystem \u001b[38;5;241m=\u001b[39m \u001b[43mget_pyarrow_s3fs\u001b[49m\u001b[43m(\u001b[49m\u001b[43maws_profile\u001b[49m\u001b[43m)\u001b[49m\n\u001b[1;32m    117\u001b[0m     \u001b[38;5;28;01melse\u001b[39;00m:\n\u001b[1;32m    118\u001b[0m         \u001b[38;5;66;03m# Note: `s3fs` filesystem is only to be used on exact file path\u001b[39;00m\n\u001b[1;32m    119\u001b[0m         \u001b[38;5;66;03m# as `pq.ParquetDataset` is not properly handling directory path.\u001b[39;00m\n\u001b[1;32m    120\u001b[0m         filesystem \u001b[38;5;241m=\u001b[39m aws_profile\n",
      "File \u001b[0;32m/app/helpers/hparquet.py:49\u001b[0m, in \u001b[0;36mget_pyarrow_s3fs\u001b[0;34m(*args, **kwargs)\u001b[0m\n\u001b[1;32m     47\u001b[0m     s3fs_ \u001b[38;5;241m=\u001b[39m pafs\u001b[38;5;241m.\u001b[39mS3FileSystem()\n\u001b[1;32m     48\u001b[0m \u001b[38;5;28;01melse\u001b[39;00m:\n\u001b[0;32m---> 49\u001b[0m     aws_credentials \u001b[38;5;241m=\u001b[39m \u001b[43mhs3\u001b[49m\u001b[38;5;241;43m.\u001b[39;49m\u001b[43mget_aws_credentials\u001b[49m\u001b[43m(\u001b[49m\u001b[38;5;241;43m*\u001b[39;49m\u001b[43margs\u001b[49m\u001b[43m,\u001b[49m\u001b[43m \u001b[49m\u001b[38;5;241;43m*\u001b[39;49m\u001b[38;5;241;43m*\u001b[39;49m\u001b[43mkwargs\u001b[49m\u001b[43m)\u001b[49m\n\u001b[1;32m     50\u001b[0m     s3fs_ \u001b[38;5;241m=\u001b[39m pafs\u001b[38;5;241m.\u001b[39mS3FileSystem(\n\u001b[1;32m     51\u001b[0m         access_key\u001b[38;5;241m=\u001b[39maws_credentials[\u001b[38;5;124m\"\u001b[39m\u001b[38;5;124maws_access_key_id\u001b[39m\u001b[38;5;124m\"\u001b[39m],\n\u001b[1;32m     52\u001b[0m         secret_key\u001b[38;5;241m=\u001b[39maws_credentials[\u001b[38;5;124m\"\u001b[39m\u001b[38;5;124maws_secret_access_key\u001b[39m\u001b[38;5;124m\"\u001b[39m],\n\u001b[1;32m     53\u001b[0m         session_token\u001b[38;5;241m=\u001b[39maws_credentials[\u001b[38;5;124m\"\u001b[39m\u001b[38;5;124maws_session_token\u001b[39m\u001b[38;5;124m\"\u001b[39m],\n\u001b[1;32m     54\u001b[0m         region\u001b[38;5;241m=\u001b[39maws_credentials[\u001b[38;5;124m\"\u001b[39m\u001b[38;5;124maws_region\u001b[39m\u001b[38;5;124m\"\u001b[39m],\n\u001b[1;32m     55\u001b[0m     )\n\u001b[1;32m     56\u001b[0m \u001b[38;5;28;01mreturn\u001b[39;00m s3fs_\n",
      "File \u001b[0;32m/app/helpers/hs3.py:723\u001b[0m, in \u001b[0;36mget_aws_credentials\u001b[0;34m(aws_profile)\u001b[0m\n\u001b[1;32m    717\u001b[0m \u001b[38;5;66;03m# > more ~/.aws/credentials\u001b[39;00m\n\u001b[1;32m    718\u001b[0m \u001b[38;5;66;03m# [am]\u001b[39;00m\n\u001b[1;32m    719\u001b[0m \u001b[38;5;66;03m# aws_access_key_id=AKI...\u001b[39;00m\n\u001b[1;32m    720\u001b[0m \u001b[38;5;66;03m# aws_secret_access_key=mhg..\u001b[39;00m\n\u001b[1;32m    721\u001b[0m \u001b[38;5;66;03m# aws_session_token = Fwo...\u001b[39;00m\n\u001b[1;32m    722\u001b[0m file_name \u001b[38;5;241m=\u001b[39m \u001b[38;5;124m\"\u001b[39m\u001b[38;5;124mcredentials\u001b[39m\u001b[38;5;124m\"\u001b[39m\n\u001b[0;32m--> 723\u001b[0m config \u001b[38;5;241m=\u001b[39m \u001b[43m_get_aws_config\u001b[49m\u001b[43m(\u001b[49m\u001b[43mfile_name\u001b[49m\u001b[43m)\u001b[49m\n\u001b[1;32m    724\u001b[0m \u001b[38;5;66;03m#\u001b[39;00m\n\u001b[1;32m    725\u001b[0m key \u001b[38;5;241m=\u001b[39m \u001b[38;5;124m\"\u001b[39m\u001b[38;5;124maws_access_key_id\u001b[39m\u001b[38;5;124m\"\u001b[39m\n",
      "File \u001b[0;32m/app/helpers/hs3.py:520\u001b[0m, in \u001b[0;36m_get_aws_config\u001b[0;34m(file_name)\u001b[0m\n\u001b[1;32m    516\u001b[0m \u001b[38;5;250m\u001b[39m\u001b[38;5;124;03m\"\"\"\u001b[39;00m\n\u001b[1;32m    517\u001b[0m \u001b[38;5;124;03mReturn a parser to the config in `~/.aws/{file_name]}`.\u001b[39;00m\n\u001b[1;32m    518\u001b[0m \u001b[38;5;124;03m\"\"\"\u001b[39;00m\n\u001b[1;32m    519\u001b[0m file_name \u001b[38;5;241m=\u001b[39m os\u001b[38;5;241m.\u001b[39mpath\u001b[38;5;241m.\u001b[39mjoin(os\u001b[38;5;241m.\u001b[39mpath\u001b[38;5;241m.\u001b[39mexpanduser(\u001b[38;5;124m\"\u001b[39m\u001b[38;5;124m~\u001b[39m\u001b[38;5;124m\"\u001b[39m), \u001b[38;5;124m\"\u001b[39m\u001b[38;5;124m.aws\u001b[39m\u001b[38;5;124m\"\u001b[39m, file_name)\n\u001b[0;32m--> 520\u001b[0m \u001b[43mhdbg\u001b[49m\u001b[38;5;241;43m.\u001b[39;49m\u001b[43mdassert_file_exists\u001b[49m\u001b[43m(\u001b[49m\u001b[43mfile_name\u001b[49m\u001b[43m)\u001b[49m\n\u001b[1;32m    521\u001b[0m \u001b[38;5;66;03m# Read the config.\u001b[39;00m\n\u001b[1;32m    522\u001b[0m config \u001b[38;5;241m=\u001b[39m configparser\u001b[38;5;241m.\u001b[39mRawConfigParser()\n",
      "File \u001b[0;32m/app/helpers/hdbg.py:785\u001b[0m, in \u001b[0;36mdassert_file_exists\u001b[0;34m(file_name, msg, only_warning, *args)\u001b[0m\n\u001b[1;32m    783\u001b[0m \u001b[38;5;28;01mif\u001b[39;00m \u001b[38;5;129;01mnot\u001b[39;00m exists:\n\u001b[1;32m    784\u001b[0m     txt \u001b[38;5;241m=\u001b[39m \u001b[38;5;124mf\u001b[39m\u001b[38;5;124m\"\u001b[39m\u001b[38;5;124mFile \u001b[39m\u001b[38;5;124m'\u001b[39m\u001b[38;5;132;01m{\u001b[39;00mfile_name\u001b[38;5;132;01m}\u001b[39;00m\u001b[38;5;124m'\u001b[39m\u001b[38;5;124m doesn\u001b[39m\u001b[38;5;124m'\u001b[39m\u001b[38;5;124mt exist\u001b[39m\u001b[38;5;124m\"\u001b[39m\n\u001b[0;32m--> 785\u001b[0m     \u001b[43m_dfatal\u001b[49m\u001b[43m(\u001b[49m\u001b[43mtxt\u001b[49m\u001b[43m,\u001b[49m\u001b[43m \u001b[49m\u001b[43mmsg\u001b[49m\u001b[43m,\u001b[49m\u001b[43m \u001b[49m\u001b[38;5;241;43m*\u001b[39;49m\u001b[43margs\u001b[49m\u001b[43m,\u001b[49m\u001b[43m \u001b[49m\u001b[43monly_warning\u001b[49m\u001b[38;5;241;43m=\u001b[39;49m\u001b[43monly_warning\u001b[49m\u001b[43m)\u001b[49m\n\u001b[1;32m    786\u001b[0m \u001b[38;5;66;03m# `file_name` is a file.\u001b[39;00m\n\u001b[1;32m    787\u001b[0m is_file \u001b[38;5;241m=\u001b[39m os\u001b[38;5;241m.\u001b[39mpath\u001b[38;5;241m.\u001b[39misfile(file_name)\n",
      "File \u001b[0;32m/app/helpers/hdbg.py:142\u001b[0m, in \u001b[0;36m_dfatal\u001b[0;34m(txt, msg, only_warning, *args)\u001b[0m\n\u001b[1;32m    139\u001b[0m     _LOG\u001b[38;5;241m.\u001b[39mwarning(dfatal_txt)\n\u001b[1;32m    140\u001b[0m \u001b[38;5;28;01melse\u001b[39;00m:\n\u001b[1;32m    141\u001b[0m     \u001b[38;5;66;03m# Abort.\u001b[39;00m\n\u001b[0;32m--> 142\u001b[0m     \u001b[43mdfatal\u001b[49m\u001b[43m(\u001b[49m\u001b[43mdfatal_txt\u001b[49m\u001b[43m)\u001b[49m\n",
      "File \u001b[0;32m/app/helpers/hdbg.py:71\u001b[0m, in \u001b[0;36mdfatal\u001b[0;34m(message, assertion_type)\u001b[0m\n\u001b[1;32m     69\u001b[0m \u001b[38;5;28;01mif\u001b[39;00m assertion_type \u001b[38;5;129;01mis\u001b[39;00m \u001b[38;5;28;01mNone\u001b[39;00m:\n\u001b[1;32m     70\u001b[0m     assertion_type \u001b[38;5;241m=\u001b[39m \u001b[38;5;167;01mAssertionError\u001b[39;00m\n\u001b[0;32m---> 71\u001b[0m \u001b[38;5;28;01mraise\u001b[39;00m assertion_type(ret)\n",
      "\u001b[0;31mAssertionError\u001b[0m: \n################################################################################\n* Failed assertion *\nFile '/home/.aws/credentials' doesn't exist\n################################################################################\n"
     ]
    }
   ],
   "source": [
    "df_original = _run_dag_node(dag)\n",
    "df_original.shape\n",
    "df_original.head(5)"
   ]
  },
  {
   "cell_type": "code",
   "execution_count": null,
   "id": "b2c61a0a",
   "metadata": {
    "ExecuteTime": {
     "end_time": "2024-06-11T20:17:53.884681Z",
     "start_time": "2024-06-11T20:17:53.884499Z"
    }
   },
   "outputs": [],
   "source": [
    "# Drop multiindex in single-asset dataframes for human readability.\n",
    "if len(asset_ids) < 2:\n",
    "    df_flat = df_original.droplevel(1, axis=1)\n",
    "else:\n",
    "    df_flat = df_original.copy()"
   ]
  },
  {
   "cell_type": "code",
   "execution_count": null,
   "id": "2c3dbdb2",
   "metadata": {
    "ExecuteTime": {
     "end_time": "2024-06-11T20:17:53.894887Z",
     "start_time": "2024-06-11T20:17:53.894788Z"
    }
   },
   "outputs": [],
   "source": [
    "df_flat.head()"
   ]
  },
  {
   "cell_type": "markdown",
   "id": "8d7ff9ab",
   "metadata": {},
   "source": [
    "## Sanity check"
   ]
  },
  {
   "cell_type": "markdown",
   "id": "366a5939",
   "metadata": {},
   "source": [
    "A quick sanity-check for the following:\n",
    "- What percentage of 1 sec bars are missing?\n",
    "- How often is bid_size = 0, ask_size = 0, volume=0?\n",
    "- How often is bid !< ask?\n"
   ]
  },
  {
   "cell_type": "code",
   "execution_count": null,
   "id": "bacce10a",
   "metadata": {
    "ExecuteTime": {
     "end_time": "2024-06-11T20:17:53.899304Z",
     "start_time": "2024-06-11T20:17:53.899218Z"
    }
   },
   "outputs": [],
   "source": [
    "# Check for missing data.\n",
    "df_flat.isna().sum()"
   ]
  },
  {
   "cell_type": "code",
   "execution_count": null,
   "id": "eaac60a2",
   "metadata": {
    "ExecuteTime": {
     "end_time": "2024-06-11T20:17:53.910432Z",
     "start_time": "2024-06-11T20:17:53.910344Z"
    }
   },
   "outputs": [],
   "source": [
    "# Check for zeroes.\n",
    "(df_flat == 0).astype(int).sum(axis=1).sum()"
   ]
  },
  {
   "cell_type": "code",
   "execution_count": null,
   "id": "47fa0bea",
   "metadata": {
    "ExecuteTime": {
     "end_time": "2024-06-11T20:17:53.918886Z",
     "start_time": "2024-06-11T20:17:53.918810Z"
    },
    "run_control": {
     "marked": false
    }
   },
   "outputs": [],
   "source": [
    "# Check bid price !< ask price.\n",
    "(df_flat[\"bid_price\"] >= df_flat[\"ask_price\"]).any().any()"
   ]
  },
  {
   "cell_type": "code",
   "execution_count": null,
   "id": "af6de92f",
   "metadata": {
    "ExecuteTime": {
     "end_time": "2024-06-11T20:17:53.922211Z",
     "start_time": "2024-06-11T20:17:53.922150Z"
    }
   },
   "outputs": [],
   "source": [
    "df_flat.head()"
   ]
  },
  {
   "cell_type": "code",
   "execution_count": null,
   "id": "680a7c78",
   "metadata": {
    "ExecuteTime": {
     "end_time": "2024-06-11T20:17:53.925294Z",
     "start_time": "2024-06-11T20:17:53.925219Z"
    }
   },
   "outputs": [],
   "source": [
    "# Check the gaps inside the time series.\n",
    "index_as_series = df_flat.index.to_series()\n",
    "freq = \"S\"\n",
    "gaps_in_seconds = hpandas.find_gaps_in_time_series(\n",
    "    index_as_series, start_ts, end_ts, freq\n",
    ")\n",
    "gaps_in_seconds = gaps_in_seconds.to_series()"
   ]
  },
  {
   "cell_type": "code",
   "execution_count": null,
   "id": "21840569",
   "metadata": {
    "ExecuteTime": {
     "end_time": "2024-06-11T20:17:53.928903Z",
     "start_time": "2024-06-11T20:17:53.928839Z"
    }
   },
   "outputs": [],
   "source": [
    "gaps_percent = len(gaps_in_seconds) / (len(df_flat) + len(gaps_in_seconds)) * 100\n",
    "average_gap = gaps_in_seconds.diff().mean()\n",
    "print(\n",
    "    f\"Overall {len(gaps_in_seconds)} gaps were found, \\\n",
    "for {gaps_percent}%% of all seconds in the given period, for an average frequency of {average_gap}\"\n",
    ")"
   ]
  },
  {
   "cell_type": "code",
   "execution_count": null,
   "id": "95d2381c",
   "metadata": {
    "ExecuteTime": {
     "end_time": "2024-06-11T20:17:53.931914Z",
     "start_time": "2024-06-11T20:17:53.931853Z"
    }
   },
   "outputs": [],
   "source": [
    "# Display gaps distribution by hour.\n",
    "gaps_in_seconds.groupby(gaps_in_seconds.dt.hour).count().plot(kind=\"bar\")"
   ]
  },
  {
   "cell_type": "markdown",
   "id": "0fa63b2a",
   "metadata": {},
   "source": [
    "### Commentary"
   ]
  },
  {
   "cell_type": "markdown",
   "id": "b4ac5ed2",
   "metadata": {},
   "source": [
    "- No NaNs or zeroes were found with a simple general check, there is no need for an in-depth look.\n",
    "- 575 gaps were found, that mostly concentrate between 0am and 5am."
   ]
  },
  {
   "cell_type": "markdown",
   "id": "a5122bb7",
   "metadata": {},
   "source": [
    "## Augment data with new features"
   ]
  },
  {
   "cell_type": "code",
   "execution_count": null,
   "id": "1ce49445",
   "metadata": {
    "ExecuteTime": {
     "end_time": "2024-06-11T20:17:53.934897Z",
     "start_time": "2024-06-11T20:17:53.934838Z"
    }
   },
   "outputs": [],
   "source": [
    "# Append `mid` data.\n",
    "# # (bid + ask) / 2.\n",
    "bid_col = \"bid_price\"\n",
    "ask_col = \"ask_price\"\n",
    "bid_volume_col = \"bid_size\"\n",
    "ask_volume_col = \"ask_size\"\n",
    "requested_cols = [\"mid\", \"ask_value\", \"bid_value\"]\n",
    "join_output_with_input = True\n",
    "df_mid = cofinanc.process_bid_ask(\n",
    "    df_flat,\n",
    "    bid_col,\n",
    "    ask_col,\n",
    "    bid_volume_col,\n",
    "    ask_volume_col,\n",
    "    requested_cols=requested_cols,\n",
    "    join_output_with_input=join_output_with_input,\n",
    ")\n",
    "df_mid.head(10)"
   ]
  },
  {
   "cell_type": "code",
   "execution_count": null,
   "id": "46778853",
   "metadata": {
    "ExecuteTime": {
     "end_time": "2024-06-11T20:17:53.938350Z",
     "start_time": "2024-06-11T20:17:53.938281Z"
    }
   },
   "outputs": [],
   "source": [
    "print(df_mid.shape)\n",
    "print(df_mid.index.min())\n",
    "print(df_mid.index.max())"
   ]
  },
  {
   "cell_type": "code",
   "execution_count": null,
   "id": "3c24205c",
   "metadata": {
    "ExecuteTime": {
     "end_time": "2024-06-11T20:17:53.945802Z",
     "start_time": "2024-06-11T20:17:53.945732Z"
    }
   },
   "outputs": [],
   "source": [
    "df_features = df_mid.copy()"
   ]
  },
  {
   "cell_type": "code",
   "execution_count": null,
   "id": "deefeed5",
   "metadata": {
    "ExecuteTime": {
     "end_time": "2024-06-11T20:17:53.949712Z",
     "start_time": "2024-06-11T20:17:53.949417Z"
    }
   },
   "outputs": [],
   "source": [
    "# Take the mean top-of-book value per hour (rather than the sum, since these are not transactions).\n",
    "# Typical top-of-book value is on the order of $50k.\n",
    "df_features[[\"bid_value\", \"ask_value\"]].resample(\"1H\").mean().plot()"
   ]
  },
  {
   "cell_type": "code",
   "execution_count": null,
   "id": "d7593619",
   "metadata": {
    "ExecuteTime": {
     "end_time": "2024-06-11T20:17:53.957347Z",
     "start_time": "2024-06-11T20:17:53.957280Z"
    },
    "run_control": {
     "marked": false
    }
   },
   "outputs": [],
   "source": [
    "mid_col_name = \"mid\"\n",
    "debug_mode = True\n",
    "resample_freq = \"1T\"\n",
    "abs_spread = 0.0001\n",
    "df_limit_order_prices = ramccalg.add_limit_order_prices(\n",
    "    df_features, mid_col_name, debug_mode, abs_spread=abs_spread\n",
    ")"
   ]
  },
  {
   "cell_type": "markdown",
   "id": "085e0b47",
   "metadata": {},
   "source": [
    "### Check missing data indices"
   ]
  },
  {
   "cell_type": "code",
   "execution_count": null,
   "id": "8820fdb7",
   "metadata": {
    "ExecuteTime": {
     "end_time": "2024-06-11T20:17:53.962266Z",
     "start_time": "2024-06-11T20:17:53.962192Z"
    },
    "lines_to_next_cell": 2
   },
   "outputs": [],
   "source": [
    "print(df_features.shape)"
   ]
  },
  {
   "cell_type": "code",
   "execution_count": null,
   "id": "8fd930b1",
   "metadata": {
    "ExecuteTime": {
     "end_time": "2024-06-11T20:17:53.966218Z",
     "start_time": "2024-06-11T20:17:53.966161Z"
    },
    "lines_to_next_cell": 2
   },
   "outputs": [],
   "source": [
    "print(df_limit_order_prices.shape)"
   ]
  },
  {
   "cell_type": "code",
   "execution_count": null,
   "id": "538dab7a",
   "metadata": {
    "ExecuteTime": {
     "end_time": "2024-06-11T20:17:53.973410Z",
     "start_time": "2024-06-11T20:17:53.973328Z"
    },
    "lines_to_next_cell": 2,
    "run_control": {
     "marked": true
    }
   },
   "outputs": [],
   "source": [
    "diff = df_limit_order_prices.index.difference(df_features.index)"
   ]
  },
  {
   "cell_type": "code",
   "execution_count": null,
   "id": "16b2679d",
   "metadata": {
    "ExecuteTime": {
     "end_time": "2024-06-11T20:17:53.980338Z",
     "start_time": "2024-06-11T20:17:53.980262Z"
    },
    "lines_to_next_cell": 2,
    "scrolled": true
   },
   "outputs": [],
   "source": [
    "df_limit_order_prices.loc[diff]"
   ]
  },
  {
   "cell_type": "code",
   "execution_count": null,
   "id": "d17528a8",
   "metadata": {
    "ExecuteTime": {
     "end_time": "2024-06-11T20:17:53.984331Z",
     "start_time": "2024-06-11T20:17:53.984263Z"
    },
    "scrolled": true
   },
   "outputs": [],
   "source": [
    "df_flat.loc[\n",
    "    pd.Timestamp(\"2022-12-13 22:25:59-05:00\") : pd.Timestamp(\n",
    "        \"2022-12-13 22:27:00-05:00\"\n",
    "    )\n",
    "]"
   ]
  },
  {
   "cell_type": "markdown",
   "id": "53bc9a83",
   "metadata": {},
   "source": [
    "#### Commentary"
   ]
  },
  {
   "cell_type": "markdown",
   "id": "68d18ad4",
   "metadata": {},
   "source": [
    "As we have seen during the sanity check above, missing data can congregate around certain time points.\n",
    "\n",
    "For the 4 missing minutes were minutes where the initial second was missing, and then added in the function due to resampling."
   ]
  },
  {
   "cell_type": "code",
   "execution_count": null,
   "id": "f37bde19",
   "metadata": {
    "ExecuteTime": {
     "end_time": "2024-06-11T20:17:53.988635Z",
     "start_time": "2024-06-11T20:17:53.988562Z"
    },
    "scrolled": true
   },
   "outputs": [],
   "source": [
    "ramccalg.perform_spread_analysis(\n",
    "    df_limit_order_prices, \"ask_price\", \"bid_price\", \"mid\"\n",
    ")"
   ]
  },
  {
   "cell_type": "code",
   "execution_count": null,
   "id": "f6da3014",
   "metadata": {
    "ExecuteTime": {
     "end_time": "2024-06-11T20:17:53.991744Z",
     "start_time": "2024-06-11T20:17:53.991682Z"
    }
   },
   "outputs": [],
   "source": [
    "ramccalg.plot_limit_orders(df_limit_order_prices)"
   ]
  },
  {
   "cell_type": "markdown",
   "id": "897997dd",
   "metadata": {},
   "source": [
    "## Resample to T_reprice"
   ]
  },
  {
   "cell_type": "code",
   "execution_count": null,
   "id": "346c1b9c",
   "metadata": {
    "ExecuteTime": {
     "end_time": "2024-06-11T20:17:53.999520Z",
     "start_time": "2024-06-11T20:17:53.999385Z"
    }
   },
   "outputs": [],
   "source": [
    "report_stats = True\n",
    "reprice_df = ramccalg.compute_repricing_df(df_limit_order_prices, report_stats)"
   ]
  },
  {
   "cell_type": "code",
   "execution_count": null,
   "id": "94553b2b",
   "metadata": {
    "ExecuteTime": {
     "end_time": "2024-06-11T20:17:54.004345Z",
     "start_time": "2024-06-11T20:17:54.004258Z"
    }
   },
   "outputs": [],
   "source": [
    "reprice_df.shape"
   ]
  },
  {
   "cell_type": "code",
   "execution_count": null,
   "id": "8efe71df",
   "metadata": {
    "ExecuteTime": {
     "end_time": "2024-06-11T20:17:54.015226Z",
     "start_time": "2024-06-11T20:17:54.015133Z"
    }
   },
   "outputs": [],
   "source": [
    "reprice_df.head(5)"
   ]
  },
  {
   "cell_type": "markdown",
   "id": "3b7cf769",
   "metadata": {
    "ExecuteTime": {
     "end_time": "2022-12-16T13:53:34.416394Z",
     "start_time": "2022-12-16T13:53:34.369624Z"
    }
   },
   "source": [
    "## Resample to T_exec"
   ]
  },
  {
   "cell_type": "code",
   "execution_count": null,
   "id": "bf25370b",
   "metadata": {
    "ExecuteTime": {
     "end_time": "2024-06-11T20:17:54.019222Z",
     "start_time": "2024-06-11T20:17:54.019143Z"
    },
    "lines_to_next_cell": 2
   },
   "outputs": [],
   "source": [
    "exec_df = ramccalg.compute_execution_df(reprice_df, report_stats=True)\n",
    "exec_df.head(5)"
   ]
  },
  {
   "cell_type": "markdown",
   "id": "cbbcd88c",
   "metadata": {
    "lines_to_next_cell": 2
   },
   "source": [
    "## Compare to benchmark price."
   ]
  },
  {
   "cell_type": "code",
   "execution_count": null,
   "id": "21f57159",
   "metadata": {
    "ExecuteTime": {
     "end_time": "2024-06-11T20:17:54.024168Z",
     "start_time": "2024-06-11T20:17:54.024094Z"
    },
    "run_control": {
     "marked": true
    }
   },
   "outputs": [],
   "source": [
    "def compute_benchmark_stats(df):\n",
    "    df[\"twap_mid_price\"] = df[\"mid\"].resample(\"5T\").mean()\n",
    "    df[[\"twap_mid_price\", \"exec_sell_price\", \"exec_buy_price\"]].head(1000).plot()\n",
    "    return df"
   ]
  },
  {
   "cell_type": "code",
   "execution_count": null,
   "id": "be12df9e",
   "metadata": {
    "ExecuteTime": {
     "end_time": "2024-06-11T20:17:54.028818Z",
     "start_time": "2024-06-11T20:17:54.028727Z"
    }
   },
   "outputs": [],
   "source": [
    "benchmark_df = compute_benchmark_stats(exec_df)"
   ]
  },
  {
   "cell_type": "code",
   "execution_count": null,
   "id": "a66adec6",
   "metadata": {
    "ExecuteTime": {
     "end_time": "2024-06-11T20:17:54.038134Z",
     "start_time": "2024-06-11T20:17:54.038044Z"
    }
   },
   "outputs": [],
   "source": [
    "slippage = exec_df[[\"twap_mid_price\", \"exec_sell_price\", \"exec_buy_price\"]]\n",
    "\n",
    "slippage[\"sell_slippage_bps\"] = (\n",
    "    (exec_df[\"exec_sell_price\"] - exec_df[\"twap_mid_price\"])\n",
    "    / exec_df[\"twap_mid_price\"]\n",
    "    * 1e4\n",
    ")\n",
    "\n",
    "# slippage = df[\"twap_mid_price\"] /\n",
    "\n",
    "slippage[\"sell_slippage_bps\"].hist(bins=21)\n",
    "\n",
    "print(\"sell_slippage_bps.mean=\", slippage[\"sell_slippage_bps\"].mean())\n",
    "print(\"sell_slippage_bps.median=\", slippage[\"sell_slippage_bps\"].median())"
   ]
  },
  {
   "cell_type": "markdown",
   "id": "ceb8caf4",
   "metadata": {},
   "source": [
    "### Commentary"
   ]
  },
  {
   "cell_type": "markdown",
   "id": "f0c41e3c",
   "metadata": {},
   "source": [
    "The quick look into the rate of successful trades indicated that for the given asset (`ADA/USDT`) and the date the successful \"buy\" order can be met for 16% of the time and a \"sell\" order is not met at all."
   ]
  },
  {
   "cell_type": "markdown",
   "id": "7d10b4d8",
   "metadata": {},
   "source": [
    "# Generate limit order prices and simulate"
   ]
  },
  {
   "cell_type": "code",
   "execution_count": null,
   "id": "bdac0d1b",
   "metadata": {
    "ExecuteTime": {
     "end_time": "2024-06-11T20:17:54.053391Z",
     "start_time": "2024-06-11T20:17:54.053315Z"
    }
   },
   "outputs": [],
   "source": [
    "df_flat.head()"
   ]
  },
  {
   "cell_type": "code",
   "execution_count": null,
   "id": "dfa24b51",
   "metadata": {
    "ExecuteTime": {
     "end_time": "2024-06-11T20:17:54.059411Z",
     "start_time": "2024-06-11T20:17:54.059336Z"
    }
   },
   "outputs": [],
   "source": [
    "bid_col = \"bid_price\"\n",
    "ask_col = \"ask_price\"\n",
    "# Price buy limit order with respect to the bid.\n",
    "buy_reference_price_col = \"bid_price\"\n",
    "# Price sell limit order with respect to the ask.\n",
    "sell_reference_price_col = \"ask_price\"\n",
    "# Price orders halfway between near side and midpoint.\n",
    "buy_spread_frac_offset = 0.25\n",
    "sell_spread_frac_offset = -0.25\n",
    "# Reprice orders every minute.\n",
    "subsample_freq = \"1T\"\n",
    "freq_offset = \"0T\"\n",
    "# Keep orders in force for one minute.\n",
    "ffill_limit = 60\n",
    "tick_decimals = 5\n",
    "# Generate limit order prices.\n",
    "limit_orders = cofinanc._generate_limit_order_price(\n",
    "    df_flat,\n",
    "    bid_col,\n",
    "    ask_col,\n",
    "    buy_reference_price_col,\n",
    "    sell_reference_price_col,\n",
    "    buy_spread_frac_offset,\n",
    "    sell_spread_frac_offset,\n",
    "    subsample_freq,\n",
    "    freq_offset,\n",
    "    ffill_limit,\n",
    "    tick_decimals,\n",
    ")"
   ]
  },
  {
   "cell_type": "code",
   "execution_count": null,
   "id": "b4b9db99",
   "metadata": {
    "ExecuteTime": {
     "end_time": "2024-06-11T20:17:54.066158Z",
     "start_time": "2024-06-11T20:17:54.066075Z"
    }
   },
   "outputs": [],
   "source": [
    "limit_orders.head()"
   ]
  },
  {
   "cell_type": "code",
   "execution_count": null,
   "id": "7ee31f79",
   "metadata": {
    "ExecuteTime": {
     "end_time": "2024-06-11T20:17:54.073354Z",
     "start_time": "2024-06-11T20:17:54.073270Z"
    }
   },
   "outputs": [],
   "source": [
    "limit_orders[[\"buy_limit_order_price\", \"sell_limit_order_price\"]].tail(\n",
    "    60 * 60\n",
    ").plot()"
   ]
  },
  {
   "cell_type": "code",
   "execution_count": null,
   "id": "21bf3be7",
   "metadata": {
    "ExecuteTime": {
     "end_time": "2024-06-11T20:17:54.080508Z",
     "start_time": "2024-06-11T20:17:54.080388Z"
    }
   },
   "outputs": [],
   "source": [
    "df_flat_with_limit_orders = pd.concat([df_flat, limit_orders], axis=1)\n",
    "df_flat_with_limit_orders.head()"
   ]
  },
  {
   "cell_type": "code",
   "execution_count": null,
   "id": "38d3eda5",
   "metadata": {
    "ExecuteTime": {
     "end_time": "2024-06-11T20:17:54.084894Z",
     "start_time": "2024-06-11T20:17:54.084814Z"
    }
   },
   "outputs": [],
   "source": [
    "df_flat_with_limit_orders[[\"bid_price\", \"ask_price\"]].tail(60 * 60).plot()"
   ]
  },
  {
   "cell_type": "code",
   "execution_count": null,
   "id": "d4d144f4",
   "metadata": {
    "ExecuteTime": {
     "end_time": "2024-06-11T20:17:54.093174Z",
     "start_time": "2024-06-11T20:17:54.093102Z"
    }
   },
   "outputs": [],
   "source": [
    "executions = cofinanc.estimate_limit_order_execution(\n",
    "    df_flat_with_limit_orders,\n",
    "    bid_col,\n",
    "    ask_col,\n",
    "    \"buy_limit_order_price\",\n",
    "    \"sell_limit_order_price\",\n",
    "    \"buy_order_num\",\n",
    "    \"sell_order_num\",\n",
    ")"
   ]
  },
  {
   "cell_type": "code",
   "execution_count": null,
   "id": "41ee5617",
   "metadata": {
    "ExecuteTime": {
     "end_time": "2024-06-11T20:17:54.097768Z",
     "start_time": "2024-06-11T20:17:54.097674Z"
    }
   },
   "outputs": [],
   "source": [
    "executions.head()"
   ]
  },
  {
   "cell_type": "code",
   "execution_count": null,
   "id": "8bfb8064",
   "metadata": {
    "ExecuteTime": {
     "end_time": "2024-06-11T20:17:54.103671Z",
     "start_time": "2024-06-11T20:17:54.103593Z"
    }
   },
   "outputs": [],
   "source": [
    "df_flat.head()"
   ]
  },
  {
   "cell_type": "code",
   "execution_count": null,
   "id": "99d012e6",
   "metadata": {
    "ExecuteTime": {
     "end_time": "2024-06-11T20:17:54.108308Z",
     "start_time": "2024-06-11T20:17:54.108238Z"
    }
   },
   "outputs": [],
   "source": [
    "limit_order_and_execution_df = (\n",
    "    cofinanc.generate_limit_orders_and_estimate_execution(\n",
    "        df_flat,\n",
    "        bid_col,\n",
    "        ask_col,\n",
    "        buy_reference_price_col,\n",
    "        sell_reference_price_col,\n",
    "        buy_spread_frac_offset,\n",
    "        sell_spread_frac_offset,\n",
    "        subsample_freq,\n",
    "        freq_offset,\n",
    "        ffill_limit,\n",
    "        tick_decimals,\n",
    "    )\n",
    ")"
   ]
  },
  {
   "cell_type": "code",
   "execution_count": null,
   "id": "067306a4",
   "metadata": {
    "ExecuteTime": {
     "end_time": "2024-06-11T20:17:54.113718Z",
     "start_time": "2024-06-11T20:17:54.113591Z"
    }
   },
   "outputs": [],
   "source": [
    "limit_order_and_execution_df.head()"
   ]
  },
  {
   "cell_type": "code",
   "execution_count": null,
   "id": "6ca244ab",
   "metadata": {
    "ExecuteTime": {
     "end_time": "2024-06-11T20:17:54.120843Z",
     "start_time": "2024-06-11T20:17:54.120777Z"
    }
   },
   "outputs": [],
   "source": [
    "# Average prices over 5-minute bars.\n",
    "# The previously boolean columns \"limit_buy_executed\" and \"limit_sell_executed\" represent\n",
    "#  percentage of the time an execution was possible during the bar.\n",
    "bar_executions = limit_order_and_execution_df.resample(\n",
    "    \"5T\", closed=\"right\", label=\"right\"\n",
    ").mean()\n",
    "bar_executions.head()"
   ]
  },
  {
   "cell_type": "code",
   "execution_count": null,
   "id": "ae3dd0fe",
   "metadata": {
    "ExecuteTime": {
     "end_time": "2024-06-11T20:17:54.125205Z",
     "start_time": "2024-06-11T20:17:54.125079Z"
    }
   },
   "outputs": [],
   "source": [
    "execution_summary_df = pd.concat(\n",
    "    [limit_order_and_execution_df, df_flat[bid_col], df_flat[ask_col]], axis=1\n",
    ")"
   ]
  },
  {
   "cell_type": "code",
   "execution_count": null,
   "id": "5510fe17",
   "metadata": {
    "ExecuteTime": {
     "end_time": "2024-06-11T20:17:54.131301Z",
     "start_time": "2024-06-11T20:17:54.131232Z"
    }
   },
   "outputs": [],
   "source": [
    "buy_trade_price_col = \"buy_trade_price\"\n",
    "sell_trade_price_col = \"sell_trade_price\"\n",
    "execution_quality_df = cofinanc.compute_bid_ask_execution_quality(\n",
    "    execution_summary_df.resample(\"5T\", label=\"right\", closed=\"right\").mean(),\n",
    "    bid_col,\n",
    "    ask_col,\n",
    "    buy_trade_price_col,\n",
    "    sell_trade_price_col,\n",
    ")"
   ]
  },
  {
   "cell_type": "code",
   "execution_count": null,
   "id": "a5879d7c",
   "metadata": {
    "ExecuteTime": {
     "end_time": "2024-06-11T20:17:54.136575Z",
     "start_time": "2024-06-11T20:17:54.136509Z"
    }
   },
   "outputs": [],
   "source": [
    "execution_quality_df[\n",
    "    [\n",
    "        \"sell_trade_midpoint_slippage_bps\",\n",
    "        \"buy_trade_midpoint_slippage_bps\",\n",
    "    ]\n",
    "].hist(bins=31)"
   ]
  },
  {
   "cell_type": "code",
   "execution_count": null,
   "id": "ae21e7d4",
   "metadata": {
    "ExecuteTime": {
     "end_time": "2024-06-11T20:17:54.140960Z",
     "start_time": "2024-06-11T20:17:54.140890Z"
    }
   },
   "outputs": [],
   "source": [
    "execution_quality_df.apply(costatis.compute_moments)"
   ]
  },
  {
   "cell_type": "code",
   "execution_count": null,
   "id": "b23e0f53",
   "metadata": {
    "ExecuteTime": {
     "end_time": "2024-06-11T20:17:54.144764Z",
     "start_time": "2024-06-11T20:17:54.144683Z"
    }
   },
   "outputs": [],
   "source": [
    "bid_ask_midpoint = (0.5 * (df_flat[\"ask_price\"] + df_flat[\"bid_price\"])).rename(\n",
    "    \"bid_ask_midpoint\"\n",
    ")\n",
    "bar_bid_ask_midpoint = bid_ask_midpoint.resample(\n",
    "    \"5T\", closed=\"right\", label=\"right\"\n",
    ").mean()\n",
    "bar_executions_with_midpoint = pd.concat(\n",
    "    [\n",
    "        bar_executions[[\"buy_trade_price\", \"sell_trade_price\"]],\n",
    "        bar_bid_ask_midpoint,\n",
    "    ],\n",
    "    axis=1,\n",
    ")"
   ]
  },
  {
   "cell_type": "code",
   "execution_count": null,
   "id": "4fe04db2",
   "metadata": {
    "ExecuteTime": {
     "end_time": "2024-06-11T20:17:54.148887Z",
     "start_time": "2024-06-11T20:17:54.148808Z"
    }
   },
   "outputs": [],
   "source": [
    "bar_executions_with_midpoint.plot()"
   ]
  },
  {
   "cell_type": "code",
   "execution_count": null,
   "id": "300a1103",
   "metadata": {
    "ExecuteTime": {
     "end_time": "2024-06-11T20:17:54.153738Z",
     "start_time": "2024-06-11T20:17:54.153656Z"
    }
   },
   "outputs": [],
   "source": [
    "# We may also use cofinanc.apply_execution_prices_to_trades()\n",
    "#  to assign prices to a single column of buys/sells"
   ]
  },
  {
   "cell_type": "markdown",
   "id": "626ee398",
   "metadata": {},
   "source": [
    "# Compare with trade data"
   ]
  },
  {
   "cell_type": "code",
   "execution_count": null,
   "id": "1000571a",
   "metadata": {
    "ExecuteTime": {
     "end_time": "2024-06-11T20:17:54.161409Z",
     "start_time": "2024-06-11T20:17:54.161344Z"
    }
   },
   "outputs": [],
   "source": [
    "import helpers.hdatetime as hdateti\n",
    "import helpers.hparquet as hparque"
   ]
  },
  {
   "cell_type": "code",
   "execution_count": null,
   "id": "6c26eadf",
   "metadata": {
    "ExecuteTime": {
     "end_time": "2024-06-11T20:17:54.165401Z",
     "start_time": "2024-06-11T20:17:54.165344Z"
    }
   },
   "outputs": [],
   "source": [
    "first_timestamp = pd.Timestamp(\"2022-12-14 17:59:43-05:00\")\n",
    "last_timestamp = pd.Timestamp(\"2022-12-14 19:00:00-05:00\")"
   ]
  },
  {
   "cell_type": "code",
   "execution_count": null,
   "id": "deaa02b4",
   "metadata": {
    "ExecuteTime": {
     "end_time": "2024-06-11T20:17:54.170398Z",
     "start_time": "2024-06-11T20:17:54.170328Z"
    }
   },
   "outputs": [],
   "source": [
    "start = hdateti.convert_timestamp_to_unix_epoch(\n",
    "    pd.Timestamp(first_timestamp), unit=\"s\"\n",
    ")\n",
    "end = hdateti.convert_timestamp_to_unix_epoch(\n",
    "    pd.Timestamp(last_timestamp), unit=\"s\"\n",
    ")\n",
    "# Define filters for data period.\n",
    "# Note(Juraj): it's better from Airflow execution perspective\n",
    "#  to keep the interval closed: [start, end].\n",
    "filters = [\n",
    "    (\"timestamp\", \">=\", start),\n",
    "    (\"timestamp\", \"<=\", end),\n",
    "    (\"currency_pair\", \"==\", \"ADA_USDT\"),\n",
    "    # (\"level\", \"==\", 1)\n",
    "]\n",
    "file_name = \"s3://cryptokaizen-data/v3/periodic_daily/airflow/downloaded_1sec/parquet/trades/futures/v3_1/crypto_chassis/binance/v1_0_0/\"\n",
    "df = hparque.from_parquet(file_name, filters=filters, aws_profile=\"ck\")"
   ]
  },
  {
   "cell_type": "code",
   "execution_count": null,
   "id": "430612a9",
   "metadata": {
    "ExecuteTime": {
     "end_time": "2024-06-11T20:17:54.175644Z",
     "start_time": "2024-06-11T20:17:54.175429Z"
    }
   },
   "outputs": [],
   "source": [
    "df.head()"
   ]
  },
  {
   "cell_type": "code",
   "execution_count": null,
   "id": "abf18a06",
   "metadata": {
    "ExecuteTime": {
     "end_time": "2024-06-11T20:17:54.179858Z",
     "start_time": "2024-06-11T20:17:54.179791Z"
    }
   },
   "outputs": [],
   "source": [
    "df.loc[\"2022-12-14 17:59:43-05:00\":\"2022-12-14 19:00:00-05:00\"][\"price\"].plot()"
   ]
  },
  {
   "cell_type": "code",
   "execution_count": null,
   "id": "cd837bf0",
   "metadata": {
    "ExecuteTime": {
     "end_time": "2024-06-11T20:17:54.191037Z",
     "start_time": "2024-06-11T20:17:54.190959Z"
    }
   },
   "outputs": [],
   "source": [
    "df.loc[\"2022-12-14 17:59:43-05:00\":\"2022-12-14 19:00:00-05:00\"][\"size\"].plot()"
   ]
  },
  {
   "cell_type": "code",
   "execution_count": null,
   "id": "eda8ee86",
   "metadata": {
    "ExecuteTime": {
     "end_time": "2024-06-11T20:17:54.194741Z",
     "start_time": "2024-06-11T20:17:54.194672Z"
    }
   },
   "outputs": [],
   "source": [
    "df_flat_with_limit_orders[[\"bid_price\", \"ask_price\"]].tail(60 * 60).plot()"
   ]
  },
  {
   "cell_type": "code",
   "execution_count": null,
   "id": "3d45cc42",
   "metadata": {
    "ExecuteTime": {
     "end_time": "2024-06-11T20:17:54.200532Z",
     "start_time": "2024-06-11T20:17:54.200406Z"
    }
   },
   "outputs": [],
   "source": [
    "size = df.loc[\"2022-12-14 17:59:43-05:00\":\"2022-12-14 19:00:00-05:00\"][\"size\"]\n",
    "bid_ask = df_flat_with_limit_orders[[\"bid_price\", \"ask_price\"]].tail(60 * 60)\n",
    "bid_ask.index = bid_ask.index.tz_convert(\"UTC\")"
   ]
  },
  {
   "cell_type": "code",
   "execution_count": null,
   "id": "e7585029",
   "metadata": {
    "ExecuteTime": {
     "end_time": "2024-06-11T20:17:54.206150Z",
     "start_time": "2024-06-11T20:17:54.206067Z"
    }
   },
   "outputs": [],
   "source": [
    "bid_ask.resample(\"1s\", label=\"right\", closed=\"right\").sum(min_count=1).plot()"
   ]
  },
  {
   "cell_type": "code",
   "execution_count": null,
   "id": "e9831584",
   "metadata": {
    "ExecuteTime": {
     "end_time": "2024-06-11T20:17:54.220357Z",
     "start_time": "2024-06-11T20:17:54.220271Z"
    }
   },
   "outputs": [],
   "source": [
    "size.resample(\"1s\", label=\"right\", closed=\"right\").sum().plot()"
   ]
  },
  {
   "cell_type": "code",
   "execution_count": null,
   "id": "92adaad3",
   "metadata": {},
   "outputs": [],
   "source": []
  }
 ],
 "metadata": {
  "kernelspec": {
   "display_name": "Python 3 (ipykernel)",
   "language": "python",
   "name": "python3"
  },
  "language_info": {
   "codemirror_mode": {
    "name": "ipython",
    "version": 3
   },
   "file_extension": ".py",
   "mimetype": "text/x-python",
   "name": "python",
   "nbconvert_exporter": "python",
   "pygments_lexer": "ipython3",
   "version": "3.9.5"
  },
  "toc": {
   "base_numbering": 1,
   "nav_menu": {},
   "number_sections": true,
   "sideBar": true,
   "skip_h1_title": false,
   "title_cell": "Table of Contents",
   "title_sidebar": "Contents",
   "toc_cell": false,
   "toc_position": {},
   "toc_section_display": true,
   "toc_window_display": false
  }
 },
 "nbformat": 4,
 "nbformat_minor": 5
}
