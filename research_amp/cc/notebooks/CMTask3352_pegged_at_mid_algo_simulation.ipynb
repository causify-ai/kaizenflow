{
 "cells": [
  {
   "cell_type": "markdown",
   "id": "a2fa2389",
   "metadata": {},
   "source": [
    "# Description"
   ]
  },
  {
   "cell_type": "markdown",
   "id": "b70bc218",
   "metadata": {},
   "source": [
    "The notebook simulates the performance of a \"pegged-at-mid\" trading algorithm.\n",
    "\n",
    "- Load the 1sec bid/ask data\n",
    "- Conduct a sanity check\n",
    "- Calculate the midpoint limit buy/sell prices\n",
    "- Aggregate to 5T and check the success of trades in historical data\n",
    "\n",
    "```\n",
    "dataset_signature=periodic.airflow.downloaded_EOD.parquet.bid_ask.futures.v3.cryptochassis.binance.v1_0_0\n",
    "```"
   ]
  },
  {
   "cell_type": "code",
   "execution_count": null,
   "id": "5fc9a131",
   "metadata": {},
   "outputs": [],
   "source": [
    "%load_ext autoreload\n",
    "%autoreload 2\n",
    "import logging\n",
    "from typing import Optional\n",
    "\n",
    "import numpy as np\n",
    "import pandas as pd\n",
    "\n",
    "import core.finance as cofinanc\n",
    "import dataflow.core as dtfcore\n",
    "import dataflow.system as dtfsys\n",
    "import helpers.hdbg as hdbg\n",
    "import helpers.henv as henv\n",
    "import helpers.hpandas as hpandas\n",
    "import helpers.hprint as hprint\n",
    "import research_amp.cc.algotrading as ramccalg"
   ]
  },
  {
   "cell_type": "code",
   "execution_count": null,
   "id": "0e2e6d18",
   "metadata": {},
   "outputs": [],
   "source": [
    "hdbg.init_logger(verbosity=logging.INFO)\n",
    "\n",
    "_LOG = logging.getLogger(__name__)\n",
    "\n",
    "_LOG.info(\"%s\", henv.get_system_signature()[0])\n",
    "\n",
    "hprint.config_notebook()"
   ]
  },
  {
   "cell_type": "markdown",
   "id": "d7b0ee83",
   "metadata": {},
   "source": [
    "# Load CryptoChassis data."
   ]
  },
  {
   "cell_type": "markdown",
   "id": "99ed31c0",
   "metadata": {},
   "source": [
    "## Initialize MarketData for `read_data` node"
   ]
  },
  {
   "cell_type": "code",
   "execution_count": null,
   "id": "ad9116d8",
   "metadata": {},
   "outputs": [],
   "source": [
    "# Load the default config.\n",
    "config = ramccalg.get_default_config()"
   ]
  },
  {
   "cell_type": "code",
   "execution_count": null,
   "id": "baf38510",
   "metadata": {},
   "outputs": [],
   "source": [
    "# Load the historical IM client.\n",
    "client = ramccalg.get_bid_ask_ImClient(config)\n",
    "# Load the asset ids of the given universe.\n",
    "asset_ids = ramccalg.get_universe(config)\n",
    "# Set up MarketData for\n",
    "market_data = ramccalg.get_market_data(config)"
   ]
  },
  {
   "cell_type": "markdown",
   "id": "fcc51eb1",
   "metadata": {},
   "source": [
    "## Initialize DAG"
   ]
  },
  {
   "cell_type": "code",
   "execution_count": null,
   "id": "ee41b25e",
   "metadata": {},
   "outputs": [],
   "source": [
    "start_ts = config.get_and_mark_as_used((\"market_data_config\", \"start_ts\"))\n",
    "end_ts = config.get_and_mark_as_used((\"market_data_config\", \"end_ts\"))\n",
    "\n",
    "intervals = [(start_ts, end_ts)]\n",
    "\n",
    "\n",
    "def _run_dag_node(dag):\n",
    "    dag_runner = dtfcore.FitPredictDagRunner(dag)\n",
    "    dag_runner.set_fit_intervals(intervals)\n",
    "    fit_result_bundle = dag_runner.fit()\n",
    "    df = fit_result_bundle.result_df\n",
    "    return df"
   ]
  },
  {
   "cell_type": "code",
   "execution_count": null,
   "id": "7e49cf1e",
   "metadata": {},
   "outputs": [],
   "source": [
    "# Create an empty DAG.\n",
    "dag = dtfcore.DAG(mode=\"strict\")\n",
    "dtfcore.draw(dag)"
   ]
  },
  {
   "cell_type": "code",
   "execution_count": null,
   "id": "c5eabe6d",
   "metadata": {},
   "outputs": [],
   "source": [
    "stage = \"read_data\"\n",
    "ts_col_name = \"end_ts\"\n",
    "multiindex_output = True\n",
    "col_names_to_remove = []\n",
    "node = dtfsys.HistoricalDataSource(\n",
    "    stage,\n",
    "    market_data,\n",
    "    ts_col_name,\n",
    "    multiindex_output,\n",
    "    col_names_to_remove=col_names_to_remove,\n",
    ")\n",
    "dag.insert_at_head(node)\n",
    "dtfcore.draw(dag)"
   ]
  },
  {
   "cell_type": "markdown",
   "id": "e09eba90",
   "metadata": {},
   "source": [
    "## Read data"
   ]
  },
  {
   "cell_type": "code",
   "execution_count": null,
   "id": "c107b824",
   "metadata": {},
   "outputs": [],
   "source": [
    "df_original = _run_dag_node(dag)\n",
    "df_original.shape\n",
    "df_original.head(5)"
   ]
  },
  {
   "cell_type": "code",
   "execution_count": null,
   "id": "b2c61a0a",
   "metadata": {},
   "outputs": [],
   "source": [
    "# Drop multiindex in single-asset dataframes for human readability.\n",
    "if len(asset_ids) < 2:\n",
    "    df_flat = df_original.droplevel(1, axis=1)\n",
    "else:\n",
    "    df_flat = df_original.copy()"
   ]
  },
  {
   "cell_type": "code",
   "execution_count": null,
   "id": "2c3dbdb2",
   "metadata": {},
   "outputs": [],
   "source": [
    "df_flat.head()"
   ]
  },
  {
   "cell_type": "markdown",
   "id": "8d7ff9ab",
   "metadata": {},
   "source": [
    "## Sanity check"
   ]
  },
  {
   "cell_type": "markdown",
   "id": "366a5939",
   "metadata": {},
   "source": [
    "A quick sanity-check for the following:\n",
    "- What percentage of 1 sec bars are missing?\n",
    "- How often is bid_size = 0, ask_size = 0, volume=0?\n",
    "- How often is bid !< ask?\n"
   ]
  },
  {
   "cell_type": "code",
   "execution_count": null,
   "id": "bacce10a",
   "metadata": {},
   "outputs": [],
   "source": [
    "# Check for missing data.\n",
    "df_flat.isna().sum()"
   ]
  },
  {
   "cell_type": "code",
   "execution_count": null,
   "id": "eaac60a2",
   "metadata": {},
   "outputs": [],
   "source": [
    "# Check for zeroes.\n",
    "(df_flat == 0).astype(int).sum(axis=1).sum()"
   ]
  },
  {
   "cell_type": "code",
   "execution_count": null,
   "id": "47fa0bea",
   "metadata": {},
   "outputs": [],
   "source": [
    "# Check bid price !< ask price.\n",
    "(df_flat[\"bid_price\"] >= df_flat[\"ask_price\"]).any().any()"
   ]
  },
  {
   "cell_type": "code",
   "execution_count": null,
   "id": "af6de92f",
   "metadata": {},
   "outputs": [],
   "source": [
    "df_flat.head()"
   ]
  },
  {
   "cell_type": "code",
   "execution_count": null,
   "id": "680a7c78",
   "metadata": {},
   "outputs": [],
   "source": [
    "# Check the gaps inside the time series.\n",
    "index_as_series = df_flat.index.to_series()\n",
    "freq = \"S\"\n",
    "gaps_in_seconds = hpandas.find_gaps_in_time_series(\n",
    "    index_as_series, start_ts, end_ts, freq\n",
    ")\n",
    "gaps_in_seconds = gaps_in_seconds.to_series()"
   ]
  },
  {
   "cell_type": "code",
   "execution_count": null,
   "id": "21840569",
   "metadata": {},
   "outputs": [],
   "source": [
    "gaps_percent = len(gaps_in_seconds) / (len(df_flat) + len(gaps_in_seconds)) * 100\n",
    "average_gap = gaps_in_seconds.diff().mean()\n",
    "print(\n",
    "    f\"Overall {len(gaps_in_seconds)} gaps were found, \\\n",
    "for {gaps_percent}%% of all seconds in the given period, for an average frequency of {average_gap}\"\n",
    ")"
   ]
  },
  {
   "cell_type": "code",
   "execution_count": null,
   "id": "95d2381c",
   "metadata": {},
   "outputs": [],
   "source": [
    "# Display gaps distribution by hour.\n",
    "gaps_in_seconds.groupby(gaps_in_seconds.dt.hour).count().plot(kind=\"bar\")"
   ]
  },
  {
   "cell_type": "markdown",
   "id": "0fa63b2a",
   "metadata": {},
   "source": [
    "### Commentary"
   ]
  },
  {
   "cell_type": "markdown",
   "id": "b4ac5ed2",
   "metadata": {},
   "source": [
    "- No NaNs or zeroes were found with a simple general check, there is no need for an in-depth look.\n",
    "- 575 gaps were found, that mostly concentrate between 0am and 5am."
   ]
  },
  {
   "cell_type": "markdown",
   "id": "a5122bb7",
   "metadata": {},
   "source": [
    "## Augment data with new features"
   ]
  },
  {
   "cell_type": "code",
   "execution_count": null,
   "id": "1ce49445",
   "metadata": {},
   "outputs": [],
   "source": [
    "# Append `mid` data.\n",
    "# # (bid + ask) / 2.\n",
    "bid_col = \"bid_price\"\n",
    "ask_col = \"ask_price\"\n",
    "bid_volume_col = \"bid_size\"\n",
    "ask_volume_col = \"ask_size\"\n",
    "requested_cols = [\"mid\"]\n",
    "join_output_with_input = True\n",
    "df_mid = cofinanc.process_bid_ask(\n",
    "    df_flat,\n",
    "    bid_col,\n",
    "    ask_col,\n",
    "    bid_volume_col,\n",
    "    ask_volume_col,\n",
    "    requested_cols=requested_cols,\n",
    "    join_output_with_input=join_output_with_input,\n",
    ")\n",
    "df_mid.head(10)"
   ]
  },
  {
   "cell_type": "code",
   "execution_count": null,
   "id": "46778853",
   "metadata": {},
   "outputs": [],
   "source": [
    "print(df_mid.shape)\n",
    "print(df_mid.index.min())\n",
    "print(df_mid.index.max())"
   ]
  },
  {
   "cell_type": "code",
   "execution_count": null,
   "id": "3c24205c",
   "metadata": {},
   "outputs": [],
   "source": [
    "df_features = df_mid.copy()"
   ]
  },
  {
   "cell_type": "code",
   "execution_count": null,
   "id": "deefeed5",
   "metadata": {},
   "outputs": [],
   "source": [
    "df_features[\"ask_value\"] = df_features[\"ask_price\"] * df_features[\"ask_size\"]\n",
    "df_features[\"bid_value\"] = df_features[\"bid_price\"] * df_features[\"bid_size\"]\n",
    "\n",
    "# This is really high. 100m USD per hour on top of the book.\n",
    "df_features[[\"bid_value\", \"ask_value\"]].resample(\"1H\").sum().plot()"
   ]
  },
  {
   "cell_type": "code",
   "execution_count": null,
   "id": "d6ad49fa",
   "metadata": {},
   "outputs": [],
   "source": [
    "def add_limit_order_prices(\n",
    "    df: pd.DataFrame,\n",
    "    mid_col_name: str,\n",
    "    *,\n",
    "    resample_freq=\"1T\",\n",
    "    passivity_factor=None,\n",
    "    abs_spread=None,\n",
    "):\n",
    "    print(f\"df initial={df.shape}\")\n",
    "    limit_buy_col = \"limit_buy_price\"\n",
    "    limit_sell_col = \"limit_sell_price\"\n",
    "    limit_buy_srs = df[mid_col_name]\n",
    "    limit_buy_srs = limit_buy_srs.rename(limit_buy_col)\n",
    "    limit_sell_srs = df[mid_col_name]\n",
    "    limit_sell_srs = limit_sell_srs.rename(limit_buy_col)\n",
    "    #\n",
    "    if resample_freq:\n",
    "        limit_buy_srs = limit_buy_srs.resample(resample_freq)\n",
    "        limit_sell_srs = limit_sell_srs.resample(resample_freq)\n",
    "    #\n",
    "    limit_buy_srs = limit_buy_srs.mean().shift(1)\n",
    "    limit_sell_srs = limit_sell_srs.mean().shift(1)\n",
    "    #\n",
    "    if abs_spread is not None and passivity_factor is None:\n",
    "        limit_buy_srs = limit_buy_srs - abs_spread\n",
    "        limit_sell_srs = limit_sell_srs + abs_spread\n",
    "    elif passivity_factor is not None and abs_spread is None:\n",
    "        limit_buy_srs = limit_buy_srs * (1 - passivity_factor)\n",
    "        limit_sell_srs = limit_sell_srs * (1 - passivity_factor)\n",
    "    #\n",
    "    df_limit_price = pd.DataFrame()\n",
    "    df_limit_price[limit_buy_col] = limit_buy_srs\n",
    "    df_limit_price[limit_sell_col] = limit_sell_srs\n",
    "    print(f\"df_limit_price after resampling and shift={df_limit_price.shape}\")\n",
    "    df = df.merge(df_limit_price, right_index=True, left_index=True, how=\"outer\")\n",
    "    print(f\"df after merge={df.shape}\")\n",
    "    #\n",
    "    df[limit_buy_col] = df[limit_buy_col].ffill()\n",
    "    df[limit_sell_col] = df[limit_sell_col].ffill()\n",
    "    #\n",
    "    df[\"is_buy\"] = df[\"ask_price\"] <= df[limit_buy_col]\n",
    "    df[\"is_sell\"] = df[\"bid_price\"] >= df[limit_sell_col]\n",
    "    return df"
   ]
  },
  {
   "cell_type": "code",
   "execution_count": null,
   "id": "d7593619",
   "metadata": {},
   "outputs": [],
   "source": [
    "df_limit_order_prices = add_limit_order_prices(\n",
    "    df_features, \"mid\", abs_spread=0.0001\n",
    ")"
   ]
  },
  {
   "cell_type": "code",
   "execution_count": null,
   "id": "511b8fbe",
   "metadata": {},
   "outputs": [],
   "source": [
    "df_limit_order_prices.head()"
   ]
  },
  {
   "cell_type": "code",
   "execution_count": null,
   "id": "8820fdb7",
   "metadata": {},
   "outputs": [],
   "source": [
    "print(df_features.shape)"
   ]
  },
  {
   "cell_type": "code",
   "execution_count": null,
   "id": "8fd930b1",
   "metadata": {},
   "outputs": [],
   "source": [
    "print(df_limit_order_prices.shape)"
   ]
  },
  {
   "cell_type": "code",
   "execution_count": null,
   "id": "538dab7a",
   "metadata": {},
   "outputs": [],
   "source": [
    "diff = df_limit_order_prices.index.difference(df_features.index)"
   ]
  },
  {
   "cell_type": "code",
   "execution_count": null,
   "id": "16b2679d",
   "metadata": {},
   "outputs": [],
   "source": [
    "df_limit_order_prices.loc[diff]"
   ]
  },
  {
   "cell_type": "code",
   "execution_count": null,
   "id": "d17528a8",
   "metadata": {},
   "outputs": [],
   "source": [
    "df_flat.loc[\n",
    "    pd.Timestamp(\"2022-12-13 22:25:59-05:00\") : pd.Timestamp(\n",
    "        \"2022-12-13 22:27:00-05:00\"\n",
    "    )\n",
    "]"
   ]
  },
  {
   "cell_type": "markdown",
   "id": "53bc9a83",
   "metadata": {},
   "source": [
    "#### Commentary"
   ]
  },
  {
   "cell_type": "markdown",
   "id": "68d18ad4",
   "metadata": {},
   "source": [
    "As we have seen during the sanity check above, missing data can congregate around certain time points.\n",
    "\n",
    "For the 4 missing minutes were minutes where the initial second was missing, and then added in the function due to resampling."
   ]
  },
  {
   "cell_type": "code",
   "execution_count": null,
   "id": "3b7c242d",
   "metadata": {},
   "outputs": [],
   "source": [
    "\n",
    "\n",
    "def perform_spread_analysis(\n",
    "    df, ask_price_col_name: str, bid_price_col_name: str, mid_price_col_name: str\n",
    ") -> None:\n",
    "    spread = df[ask_price_col_name] - df[bid_price_col_name]\n",
    "    spread_in_bps = spread / df[mid_price_col_name] * 1e4\n",
    "    spread_hist = spread.hist(bins=101)\n",
    "    spread.plot()\n",
    "    spread_in_bps.plot()\n",
    "    # TODO(Danya): Display as subplots.\n",
    "\n",
    "\n",
    "#     plt.show(spread_hist)\n",
    "#     plt.show(spread_plot)\n",
    "#     plt.show(spread_in_bps_plot)\n",
    "#     display(spread_hist)\n",
    "#     display()"
   ]
  },
  {
   "cell_type": "code",
   "execution_count": null,
   "id": "f37bde19",
   "metadata": {},
   "outputs": [],
   "source": [
    "perform_spread_analysis(df_limit_order_prices, \"ask_price\", \"bid_price\", \"mid\")"
   ]
  },
  {
   "cell_type": "code",
   "execution_count": null,
   "id": "a0affc1e",
   "metadata": {},
   "outputs": [],
   "source": [
    "def plot_limit_orders(\n",
    "    df,\n",
    "    start_timestamp: Optional[pd.Timestamp] = None,\n",
    "    end_timestamp: Optional[pd.Timestamp] = None,\n",
    ") -> None:\n",
    "    # TODO(Danya): Display as subplots.\n",
    "    df[\n",
    "        [\"mid\", \"ask_price\", \"bid_price\", \"limit_buy_price\", \"limit_sell_price\"]\n",
    "    ].head(1000).plot()\n",
    "    (df[[\"is_buy\", \"is_sell\"]] * 1.0).head(1000).plot()"
   ]
  },
  {
   "cell_type": "markdown",
   "id": "897997dd",
   "metadata": {},
   "source": [
    "## Resample to T_reprice"
   ]
  },
  {
   "cell_type": "code",
   "execution_count": null,
   "id": "ece5a903",
   "metadata": {},
   "outputs": [],
   "source": [
    "def compute_repricing_df(df, report_stats: bool):\n",
    "    hdbg.dassert_is_subset(\n",
    "        [\"is_buy\", \"is_sell\", \"ask_price\", \"bid_price\"], df.columns\n",
    "    )\n",
    "    # TODO(gp): ask_price -> buy_limit?\n",
    "    df[\"exec_buy_price\"] = df[\"is_buy\"] * df[\"ask_price\"]\n",
    "    mask = ~df[\"is_buy\"]\n",
    "    df[\"exec_buy_price\"][mask] = np.nan\n",
    "    #\n",
    "    df[\"exec_sell_price\"] = df[\"is_sell\"] * df[\"bid_price\"]\n",
    "    mask = ~df[\"is_sell\"]\n",
    "    df[\"exec_sell_price\"][mask] = np.nan\n",
    "    #\n",
    "    if report_stats:\n",
    "        print(\n",
    "            \"buy percentage at repricing freq: \",\n",
    "            hprint.perc(df[\"is_buy\"].sum(), df.shape[0]),\n",
    "        )\n",
    "        print(df[\"is_sell\"].sum() / df.shape[0])\n",
    "        #\n",
    "        print(\n",
    "            \"exec_buy_price [%]=\",\n",
    "            hprint.perc(df[\"exec_buy_price\"].isnull().sum(), df.shape[0]),\n",
    "        )\n",
    "        print(\n",
    "            \"exec_sell_price [%]=\",\n",
    "            hprint.perc(df[\"exec_sell_price\"].isnull().sum(), df.shape[0]),\n",
    "        )\n",
    "    return df"
   ]
  },
  {
   "cell_type": "code",
   "execution_count": null,
   "id": "346c1b9c",
   "metadata": {},
   "outputs": [],
   "source": [
    "reprice_df = compute_repricing_df(df_limit_order_prices, report_stats=True)"
   ]
  },
  {
   "cell_type": "code",
   "execution_count": null,
   "id": "94553b2b",
   "metadata": {},
   "outputs": [],
   "source": [
    "reprice_df.shape"
   ]
  },
  {
   "cell_type": "code",
   "execution_count": null,
   "id": "8efe71df",
   "metadata": {},
   "outputs": [],
   "source": [
    "reprice_df.head(5)"
   ]
  },
  {
   "cell_type": "markdown",
   "id": "3b7cf769",
   "metadata": {},
   "source": [
    "## Resample to T_exec"
   ]
  },
  {
   "cell_type": "code",
   "execution_count": null,
   "id": "358cc874",
   "metadata": {},
   "outputs": [],
   "source": [
    "def compute_execution_df(df, report_stats: bool):\n",
    "    \"\"\"\n",
    "    Compute the number and volume of buy/sell executions.\n",
    "    \"\"\"\n",
    "    exec_df = pd.DataFrame()\n",
    "    # Count how many \"buy\" executions there were in an interval.\n",
    "    exec_df[\"exec_buy_num\"] = df[\"is_buy\"].resample(\"5T\").sum()\n",
    "    exec_df[\"exec_buy_price\"] = df[\"exec_buy_price\"].resample(\"5T\").mean()\n",
    "    exec_df[\"exec_is_buy\"] = exec_df[\"exec_buy_num\"] > 0\n",
    "    if report_stats:\n",
    "        print(\n",
    "            hprint.perc(\n",
    "                exec_df[\"exec_is_buy\"].sum(), exec_df[\"exec_is_buy\"].shape[0]\n",
    "            )\n",
    "        )\n",
    "    # Estimate the executed volume.\n",
    "    exec_df[\"exec_buy_volume\"] = (\n",
    "        (df[\"ask_size\"] * df[\"ask_price\"] * df[\"is_buy\"]).resample(\"5T\").sum()\n",
    "    )\n",
    "    if report_stats:\n",
    "        print(\"million USD per 5T=\", exec_df[\"exec_buy_volume\"].mean() / 1e6)\n",
    "    # # Count how many \"sell\" executions there were in an interval.\n",
    "    exec_df[\"exec_sell_num\"] = df[\"is_sell\"].resample(\"5T\").sum()\n",
    "    exec_df[\"exec_sell_price\"] = df[\"exec_sell_price\"].resample(\"5T\").mean()\n",
    "    exec_df[\"exec_is_sell\"] = exec_df[\"exec_sell_num\"] > 0\n",
    "    if report_stats:\n",
    "        print(\n",
    "            \"exec_is_sell [%]=\",\n",
    "            hprint.perc(\n",
    "                exec_df[\"exec_is_sell\"].sum(), exec_df[\"exec_is_sell\"].shape[0]\n",
    "            ),\n",
    "        )\n",
    "\n",
    "    # Estimate the executed volume.\n",
    "    exec_df[\"exec_sell_volume\"] = (\n",
    "        (df[\"bid_size\"] * df[\"bid_price\"] * df[\"is_sell\"]).resample(\"5T\").sum()\n",
    "    )\n",
    "    if report_stats:\n",
    "        print(\"million USD per 5T=\", exec_df[\"exec_sell_volume\"].mean() / 1e6)\n",
    "    #\n",
    "    exec_df[\"mid\"] = df[\"mid\"]\n",
    "    return exec_df"
   ]
  },
  {
   "cell_type": "code",
   "execution_count": null,
   "id": "bf25370b",
   "metadata": {},
   "outputs": [],
   "source": [
    "exec_df = compute_execution_df(reprice_df, report_stats=True)\n",
    "exec_df.head(5)"
   ]
  },
  {
   "cell_type": "markdown",
   "id": "cbbcd88c",
   "metadata": {},
   "source": [
    "## Compare to benchmark price."
   ]
  },
  {
   "cell_type": "code",
   "execution_count": null,
   "id": "21f57159",
   "metadata": {},
   "outputs": [],
   "source": [
    "def compute_benchmark_stats(df):\n",
    "    df[\"twap_mid_price\"] = df[\"mid\"].resample(\"5T\").mean()\n",
    "    df[[\"twap_mid_price\", \"exec_sell_price\", \"exec_buy_price\"]].head(1000).plot()\n",
    "    return df"
   ]
  },
  {
   "cell_type": "code",
   "execution_count": null,
   "id": "be12df9e",
   "metadata": {},
   "outputs": [],
   "source": [
    "benchmark_df = compute_benchmark_stats(exec_df)"
   ]
  },
  {
   "cell_type": "code",
   "execution_count": null,
   "id": "a66adec6",
   "metadata": {},
   "outputs": [],
   "source": [
    "slippage = exec_df[[\"twap_mid_price\", \"exec_sell_price\", \"exec_buy_price\"]]\n",
    "\n",
    "slippage[\"sell_slippage_bps\"] = (\n",
    "    (exec_df[\"exec_sell_price\"] - exec_df[\"twap_mid_price\"])\n",
    "    / exec_df[\"twap_mid_price\"]\n",
    "    * 1e4\n",
    ")\n",
    "\n",
    "# slippage = df[\"twap_mid_price\"] /\n",
    "\n",
    "slippage[\"sell_slippage_bps\"].hist(bins=21)\n",
    "\n",
    "print(\"sell_slippage_bps.mean=\", slippage[\"sell_slippage_bps\"].mean())\n",
    "print(\"sell_slippage_bps.median=\", slippage[\"sell_slippage_bps\"].median())"
   ]
  },
  {
   "cell_type": "markdown",
   "id": "ceb8caf4",
   "metadata": {},
   "source": [
    "### Commentary"
   ]
  },
  {
   "cell_type": "markdown",
   "id": "f0c41e3c",
   "metadata": {},
   "source": [
    "The quick look into the rate of successful trades indicated that for the given asset (`ADA/USDT`) and the date the successful \"buy\" order can be met for 16% of the time and a \"sell\" order is not met at all."
   ]
  }
 ],
 "metadata": {
  "kernelspec": {
   "display_name": "Python 3 (ipykernel)",
   "language": "python",
   "name": "python3"
  },
  "language_info": {
   "codemirror_mode": {
    "name": "ipython",
    "version": 3
   },
   "file_extension": ".py",
   "mimetype": "text/x-python",
   "name": "python",
   "nbconvert_exporter": "python",
   "pygments_lexer": "ipython3"
  },
  "toc": {
   "base_numbering": 1,
   "nav_menu": {},
   "number_sections": true,
   "sideBar": true,
   "skip_h1_title": false,
   "title_cell": "Table of Contents",
   "title_sidebar": "Contents",
   "toc_cell": false,
   "toc_position": {},
   "toc_section_display": true,
   "toc_window_display": false
  }
 },
 "nbformat": 4,
 "nbformat_minor": 5
}
