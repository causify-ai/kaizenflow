{
 "cells": [
  {
   "cell_type": "markdown",
   "id": "a2fa2389",
   "metadata": {},
   "source": [
    "# Description"
   ]
  },
  {
   "cell_type": "markdown",
   "id": "b70bc218",
   "metadata": {},
   "source": [
    "The notebook simulates the performance of a \"pegged-at-mid\" trading algorithm.\n",
    "\n",
    "- Load the 1sec bid/ask data\n",
    "- Conduct a sanity check\n",
    "- Calculate the midpoint limit buy/sell prices\n",
    "- Aggregate to 5T and check the success of trades in historical data\n",
    "\n",
    "```\n",
    "dataset_signature={periodic}.{airflow}.{downloaded_EOD}.{parquet}.{bid_ask}.{futures}.{v3}.{cryptochassis}.{binance}.{v1_0_0]}\n",
    "```"
   ]
  },
  {
   "cell_type": "code",
   "execution_count": null,
   "id": "5fc9a131",
   "metadata": {},
   "outputs": [],
   "source": [
    "%load_ext autoreload\n",
    "%autoreload 2\n",
    "import logging\n",
    "\n",
    "import pandas as pd\n",
    "\n",
    "import core.finance as cofinanc\n",
    "import dataflow.core as dtfcore\n",
    "import dataflow.system as dtfsys\n",
    "import dataflow.universe as dtfuniver\n",
    "import helpers.hdbg as hdbg\n",
    "import helpers.henv as henv\n",
    "import helpers.hprint as hprint\n",
    "import im_v2.crypto_chassis.data.client as iccdc\n",
    "import market_data as mdata"
   ]
  },
  {
   "cell_type": "code",
   "execution_count": null,
   "id": "0e2e6d18",
   "metadata": {},
   "outputs": [],
   "source": [
    "hdbg.init_logger(verbosity=logging.INFO)\n",
    "\n",
    "_LOG = logging.getLogger(__name__)\n",
    "\n",
    "_LOG.info(\"%s\", henv.get_system_signature()[0])\n",
    "\n",
    "hprint.config_notebook()"
   ]
  },
  {
   "cell_type": "markdown",
   "id": "d7b0ee83",
   "metadata": {},
   "source": [
    "# Load CryptoChassis data."
   ]
  },
  {
   "cell_type": "markdown",
   "id": "43e64e7c",
   "metadata": {},
   "source": [
    "- Latest universe (v3)\n",
    "- Resampled to 1sec\n",
    "- For 1 asset and 1 day\n",
    "- Using DataFlow `read_data` node"
   ]
  },
  {
   "cell_type": "code",
   "execution_count": null,
   "id": "cb627409",
   "metadata": {},
   "outputs": [],
   "source": [
    "universe_version = \"v3\"\n",
    "resample_1min = False\n",
    "contract_type = \"futures\"\n",
    "tag = \"downloaded_1sec\"\n",
    "client = iccdc.get_CryptoChassisHistoricalPqByTileClient_example2(\n",
    "    universe_version, resample_1min, contract_type, tag\n",
    ")"
   ]
  },
  {
   "cell_type": "code",
   "execution_count": null,
   "id": "7fa84636",
   "metadata": {},
   "outputs": [],
   "source": [
    "# Set the time boundaries.\n",
    "start_ts = pd.Timestamp(\"2022-12-14 00:00:00+00:00\")\n",
    "end_ts = pd.Timestamp(\"2022-12-15 00:00:00+00:00\")\n",
    "intervals = [\n",
    "    (\n",
    "        start_ts,\n",
    "        end_ts,\n",
    "    ),\n",
    "]"
   ]
  },
  {
   "cell_type": "code",
   "execution_count": null,
   "id": "c8a41f62",
   "metadata": {},
   "outputs": [],
   "source": [
    "universe_str = \"crypto_chassis_v3-top1\"\n",
    "full_symbols = dtfuniver.get_universe(universe_str)\n",
    "asset_ids = client.get_asset_ids_from_full_symbols(full_symbols)"
   ]
  },
  {
   "cell_type": "code",
   "execution_count": null,
   "id": "2ffa014b",
   "metadata": {},
   "outputs": [],
   "source": [
    "columns = None\n",
    "columns_remap = None\n",
    "wall_clock_time = pd.Timestamp(\"2100-01-01T00:00:00+00:00\")\n",
    "market_data = mdata.get_HistoricalImClientMarketData_example1(\n",
    "    client, asset_ids, columns, columns_remap, wall_clock_time=wall_clock_time\n",
    ")\n",
    "stage = \"read_data\"\n",
    "ts_col_name = \"end_ts\"\n",
    "multiindex_output = True\n",
    "col_names_to_remove = []\n",
    "market_data = mdata.get_HistoricalImClientMarketData_example1(\n",
    "    client,\n",
    "    asset_ids,\n",
    "    columns,\n",
    "    columns_remap,\n",
    ")"
   ]
  },
  {
   "cell_type": "markdown",
   "id": "fcc51eb1",
   "metadata": {},
   "source": [
    "## Initialize DAG"
   ]
  },
  {
   "cell_type": "code",
   "execution_count": null,
   "id": "ee41b25e",
   "metadata": {},
   "outputs": [],
   "source": [
    "def _run_dag_node(dag):\n",
    "    dag_runner = dtfcore.FitPredictDagRunner(dag)\n",
    "    dag_runner.set_fit_intervals(intervals)\n",
    "    fit_result_bundle = dag_runner.fit()\n",
    "    df = fit_result_bundle.result_df\n",
    "    return df"
   ]
  },
  {
   "cell_type": "code",
   "execution_count": null,
   "id": "7e49cf1e",
   "metadata": {},
   "outputs": [],
   "source": [
    "# Create an empty DAG.\n",
    "dag = dtfcore.DAG(mode=\"strict\")\n",
    "dtfcore.draw(dag)"
   ]
  },
  {
   "cell_type": "code",
   "execution_count": null,
   "id": "c5eabe6d",
   "metadata": {},
   "outputs": [],
   "source": [
    "stage = \"read_data\"\n",
    "ts_col_name = \"end_ts\"\n",
    "multiindex_output = True\n",
    "col_names_to_remove = []\n",
    "node = dtfsys.HistoricalDataSource(\n",
    "    stage,\n",
    "    market_data,\n",
    "    ts_col_name,\n",
    "    multiindex_output,\n",
    "    col_names_to_remove=col_names_to_remove,\n",
    ")\n",
    "dag.insert_at_head(node)\n",
    "dtfcore.draw(dag)"
   ]
  },
  {
   "cell_type": "markdown",
   "id": "e09eba90",
   "metadata": {},
   "source": [
    "## Read data"
   ]
  },
  {
   "cell_type": "code",
   "execution_count": null,
   "id": "c107b824",
   "metadata": {},
   "outputs": [],
   "source": [
    "df = _run_dag_node(dag)\n",
    "df.shape\n",
    "df.head(3)"
   ]
  },
  {
   "cell_type": "markdown",
   "id": "8d7ff9ab",
   "metadata": {},
   "source": [
    "## Sanity check"
   ]
  },
  {
   "cell_type": "markdown",
   "id": "366a5939",
   "metadata": {},
   "source": [
    "A quick sanity-check for the following:\n",
    "- What percentage of 1 sec bars are missing?\n",
    "- How often is bid_size = 0, ask_size = 0, volume=0?\n",
    "- How often is bid !< ask?\n"
   ]
  },
  {
   "cell_type": "code",
   "execution_count": null,
   "id": "bacce10a",
   "metadata": {},
   "outputs": [],
   "source": [
    "# Check for missing data.\n",
    "df.isna().sum()"
   ]
  },
  {
   "cell_type": "code",
   "execution_count": null,
   "id": "eaac60a2",
   "metadata": {},
   "outputs": [],
   "source": [
    "# Check for zeroes.\n",
    "(df == 0).astype(int).sum(axis=1).sum()"
   ]
  },
  {
   "cell_type": "code",
   "execution_count": null,
   "id": "47fa0bea",
   "metadata": {},
   "outputs": [],
   "source": [
    "# Check bid price !< ask price.\n",
    "(df[\"bid_price\"] >= df[\"ask_price\"]).any().any()"
   ]
  },
  {
   "cell_type": "markdown",
   "id": "0fa63b2a",
   "metadata": {},
   "source": [
    "### Commentary"
   ]
  },
  {
   "cell_type": "markdown",
   "id": "b4ac5ed2",
   "metadata": {},
   "source": [
    "Since no NaNs or zeroes were found with a simple general check, there is no need for an in-depth look."
   ]
  },
  {
   "cell_type": "markdown",
   "id": "a5122bb7",
   "metadata": {},
   "source": [
    "## Augment data with new features"
   ]
  },
  {
   "cell_type": "code",
   "execution_count": null,
   "id": "1ce49445",
   "metadata": {},
   "outputs": [],
   "source": [
    "# Append `mid` data.\n",
    "# # (bid + ask) / 2.\n",
    "bid_col = \"bid_price\"\n",
    "ask_col = \"ask_price\"\n",
    "bid_volume_col = \"bid_size\"\n",
    "ask_volume_col = \"ask_size\"\n",
    "requested_cols = [\"mid\"]\n",
    "join_output_with_input = True\n",
    "df = cofinanc.process_bid_ask(\n",
    "    df,\n",
    "    bid_col,\n",
    "    ask_col,\n",
    "    bid_volume_col,\n",
    "    ask_volume_col,\n",
    "    requested_cols=requested_cols,\n",
    "    join_output_with_input=join_output_with_input,\n",
    ")\n",
    "df.head(3)"
   ]
  },
  {
   "cell_type": "code",
   "execution_count": null,
   "id": "d7593619",
   "metadata": {},
   "outputs": [],
   "source": [
    "# Add limit prices based on passivity of 0.01.\n",
    "mid_price = df[\"mid\"]\n",
    "passivity_factor = 0.01\n",
    "\n",
    "limit_buy_price = df[\"mid\"].resample(\"1T\").mean().shift(1) * (\n",
    "    1 - passivity_factor\n",
    ")\n",
    "limit_sell_price = df[\"mid\"].resample(\"1T\").mean().shift(1) * (\n",
    "    1 + passivity_factor\n",
    ")\n",
    "df[(\"limit_buy_price\", 3303714233)] = limit_buy_price\n",
    "df[(\"limit_sell_price\", 3303714233)] = limit_sell_price"
   ]
  },
  {
   "cell_type": "code",
   "execution_count": null,
   "id": "0ad6199b",
   "metadata": {},
   "outputs": [],
   "source": [
    "# Count is_buy / is_sell.\n",
    "df[(\"is_buy\", 3303714233)] = (\n",
    "    df[(\"bid_price\", 3303714233)] <= df[(\"limit_buy_price\", 3303714233)].ffill()\n",
    ")\n",
    "df[(\"is_sell\", 3303714233)] = (\n",
    "    df[(\"ask_price\", 3303714233)] >= df[(\"limit_sell_price\", 3303714233)].ffill()\n",
    ")"
   ]
  },
  {
   "cell_type": "code",
   "execution_count": null,
   "id": "dacb5390",
   "metadata": {},
   "outputs": [],
   "source": [
    "# Display as percentages.\n",
    "\n",
    "display(\"Successful_buys:\",df.drop_duplicates(\n",
    "    subset=[(\"bid_price\", 3303714233), (\"is_buy\", 3303714233)], keep=\"first\"\n",
    ")[\"is_buy\"].value_counts(normalize=True))"
   ]
  },
  {
   "cell_type": "code",
   "execution_count": null,
   "id": "34a08b01",
   "metadata": {},
   "outputs": [],
   "source": [
    "display(\"Succesful sells:\", df.drop_duplicates(\n",
    "    subset=[(\"ask_price\", 3303714233), (\"is_sell\", 3303714233)], keep=\"first\"\n",
    ")[\"is_sell\"].value_counts(normalize=True))"
   ]
  },
  {
   "cell_type": "markdown",
   "id": "ceb8caf4",
   "metadata": {},
   "source": [
    "### Commentary"
   ]
  },
  {
   "cell_type": "markdown",
   "id": "f0c41e3c",
   "metadata": {},
   "source": [
    "The quick look into the rate of successful trades indicated that for the given asset (`ADA/USDT`) and the date the successful \"buy\" order can be met for 16% of the time and a \"sell\" order is not met at all."
   ]
  }
 ],
 "metadata": {
  "kernelspec": {
   "display_name": "Python 3 (ipykernel)",
   "language": "python",
   "name": "python3"
  },
  "language_info": {
   "codemirror_mode": {
    "name": "ipython",
    "version": 3
   },
   "file_extension": ".py",
   "mimetype": "text/x-python",
   "name": "python",
   "nbconvert_exporter": "python",
   "pygments_lexer": "ipython3"
  },
  "toc": {
   "base_numbering": 1,
   "nav_menu": {},
   "number_sections": true,
   "sideBar": true,
   "skip_h1_title": false,
   "title_cell": "Table of Contents",
   "title_sidebar": "Contents",
   "toc_cell": false,
   "toc_position": {},
   "toc_section_display": true,
   "toc_window_display": false
  }
 },
 "nbformat": 4,
 "nbformat_minor": 5
}
