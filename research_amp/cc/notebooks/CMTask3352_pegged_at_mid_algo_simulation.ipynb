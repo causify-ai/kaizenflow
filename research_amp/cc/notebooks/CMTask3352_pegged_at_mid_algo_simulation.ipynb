{
 "cells": [
  {
   "cell_type": "markdown",
   "id": "a2fa2389",
   "metadata": {},
   "source": [
    "# Description"
   ]
  },
  {
   "cell_type": "markdown",
   "id": "b70bc218",
   "metadata": {},
   "source": [
    "The notebook simulates the performance of a \"pegged-at-mid\" trading algorithm.\n",
    "\n",
    "- Load the 1sec bid/ask data\n",
    "- Conduct a sanity check\n",
    "- Calculate the midpoint limit buy/sell prices\n",
    "- Aggregate to 5T and check the success of trades in historical data\n",
    "\n",
    "```\n",
    "dataset_signature=periodic.airflow.downloaded_EOD.parquet.bid_ask.futures.v3.cryptochassis.binance.v1_0_0\n",
    "```"
   ]
  },
  {
   "cell_type": "code",
   "execution_count": null,
   "id": "5fc9a131",
   "metadata": {},
   "outputs": [],
   "source": [
    "%load_ext autoreload\n",
    "%autoreload 2\n",
    "import logging\n",
    "\n",
    "import pandas as pd\n",
    "\n",
    "import core.finance as cofinanc\n",
    "import dataflow.core as dtfcore\n",
    "import dataflow.system as dtfsys\n",
    "import helpers.hdbg as hdbg\n",
    "import helpers.henv as henv\n",
    "import helpers.hpandas as hpandas\n",
    "import helpers.hprint as hprint\n",
    "import research_amp.cc.algotrading as ramccalg"
   ]
  },
  {
   "cell_type": "code",
   "execution_count": null,
   "id": "0e2e6d18",
   "metadata": {},
   "outputs": [],
   "source": [
    "hdbg.init_logger(verbosity=logging.INFO)\n",
    "\n",
    "_LOG = logging.getLogger(__name__)\n",
    "\n",
    "_LOG.info(\"%s\", henv.get_system_signature()[0])\n",
    "\n",
    "hprint.config_notebook()"
   ]
  },
  {
   "cell_type": "markdown",
   "id": "d7b0ee83",
   "metadata": {},
   "source": [
    "# Load CryptoChassis data."
   ]
  },
  {
   "cell_type": "markdown",
   "id": "99ed31c0",
   "metadata": {},
   "source": [
    "## Initialize MarketData for `read_data` node"
   ]
  },
  {
   "cell_type": "code",
   "execution_count": null,
   "id": "ad9116d8",
   "metadata": {},
   "outputs": [],
   "source": [
    "# Load the default config.\n",
    "config = ramccalg.get_default_config()"
   ]
  },
  {
   "cell_type": "code",
   "execution_count": null,
   "id": "baf38510",
   "metadata": {},
   "outputs": [],
   "source": [
    "# Load the historical IM client.\n",
    "client = ramccalg.get_bid_ask_ImClient(config)\n",
    "# Load the asset ids of the given universe.\n",
    "asset_ids = ramccalg.get_universe(config)\n",
    "# Set up MarketData for\n",
    "market_data = ramccalg.get_market_data(config)"
   ]
  },
  {
   "cell_type": "markdown",
   "id": "fcc51eb1",
   "metadata": {},
   "source": [
    "## Initialize DAG"
   ]
  },
  {
   "cell_type": "code",
   "execution_count": null,
   "id": "ee41b25e",
   "metadata": {},
   "outputs": [],
   "source": [
    "start_ts = config.get_and_mark_as_used((\"market_data_config\", \"start_ts\"))\n",
    "end_ts = config.get_and_mark_as_used((\"market_data_config\", \"end_ts\"))\n",
    "intervals = [(start_ts, end_ts)]\n",
    "\n",
    "\n",
    "def _run_dag_node(dag):\n",
    "    dag_runner = dtfcore.FitPredictDagRunner(dag)\n",
    "    dag_runner.set_fit_intervals(intervals)\n",
    "    fit_result_bundle = dag_runner.fit()\n",
    "    df = fit_result_bundle.result_df\n",
    "    return df"
   ]
  },
  {
   "cell_type": "code",
   "execution_count": null,
   "id": "7e49cf1e",
   "metadata": {},
   "outputs": [],
   "source": [
    "# Create an empty DAG.\n",
    "dag = dtfcore.DAG(mode=\"strict\")\n",
    "dtfcore.draw(dag)"
   ]
  },
  {
   "cell_type": "code",
   "execution_count": null,
   "id": "c5eabe6d",
   "metadata": {},
   "outputs": [],
   "source": [
    "stage = \"read_data\"\n",
    "ts_col_name = \"end_ts\"\n",
    "multiindex_output = True\n",
    "col_names_to_remove = []\n",
    "node = dtfsys.HistoricalDataSource(\n",
    "    stage,\n",
    "    market_data,\n",
    "    ts_col_name,\n",
    "    multiindex_output,\n",
    "    col_names_to_remove=col_names_to_remove,\n",
    ")\n",
    "dag.insert_at_head(node)\n",
    "dtfcore.draw(dag)"
   ]
  },
  {
   "cell_type": "markdown",
   "id": "e09eba90",
   "metadata": {},
   "source": [
    "## Read data"
   ]
  },
  {
   "cell_type": "code",
   "execution_count": null,
   "id": "c107b824",
   "metadata": {},
   "outputs": [],
   "source": [
    "df_original = _run_dag_node(dag)\n",
    "df_original.shape\n",
    "df_original.head(5)"
   ]
  },
  {
   "cell_type": "code",
   "execution_count": null,
   "id": "b2c61a0a",
   "metadata": {},
   "outputs": [],
   "source": [
    "# Drop multiindex in single-asset dataframes for human readability.\n",
    "if len(asset_ids) < 2:\n",
    "    df_flat = df_original.droplevel(1, axis=1)\n",
    "else:\n",
    "    df_flat = df_original.copy()"
   ]
  },
  {
   "cell_type": "code",
   "execution_count": null,
   "id": "2c3dbdb2",
   "metadata": {},
   "outputs": [],
   "source": [
    "df_flat.head()"
   ]
  },
  {
   "cell_type": "markdown",
   "id": "8d7ff9ab",
   "metadata": {},
   "source": [
    "## Sanity check"
   ]
  },
  {
   "cell_type": "markdown",
   "id": "366a5939",
   "metadata": {},
   "source": [
    "A quick sanity-check for the following:\n",
    "- What percentage of 1 sec bars are missing?\n",
    "- How often is bid_size = 0, ask_size = 0, volume=0?\n",
    "- How often is bid !< ask?\n"
   ]
  },
  {
   "cell_type": "code",
   "execution_count": null,
   "id": "bacce10a",
   "metadata": {},
   "outputs": [],
   "source": [
    "# Check for missing data.\n",
    "df_flat.isna().sum()"
   ]
  },
  {
   "cell_type": "code",
   "execution_count": null,
   "id": "eaac60a2",
   "metadata": {},
   "outputs": [],
   "source": [
    "# Check for zeroes.\n",
    "(df_flat == 0).astype(int).sum(axis=1).sum()"
   ]
  },
  {
   "cell_type": "code",
   "execution_count": null,
   "id": "47fa0bea",
   "metadata": {
    "run_control": {
     "marked": false
    }
   },
   "outputs": [],
   "source": [
    "# Check bid price !< ask price.\n",
    "(df_flat[\"bid_price\"] >= df_flat[\"ask_price\"]).any().any()"
   ]
  },
  {
   "cell_type": "code",
   "execution_count": null,
   "id": "af6de92f",
   "metadata": {},
   "outputs": [],
   "source": [
    "df_flat.head()"
   ]
  },
  {
   "cell_type": "code",
   "execution_count": null,
   "id": "680a7c78",
   "metadata": {},
   "outputs": [],
   "source": [
    "# Check the gaps inside the time series.\n",
    "index_as_series = df_flat.index.to_series()\n",
    "freq = \"S\"\n",
    "gaps_in_seconds = hpandas.find_gaps_in_time_series(\n",
    "    index_as_series, start_ts, end_ts, freq\n",
    ")\n",
    "gaps_in_seconds = gaps_in_seconds.to_series()"
   ]
  },
  {
   "cell_type": "code",
   "execution_count": null,
   "id": "21840569",
   "metadata": {},
   "outputs": [],
   "source": [
    "gaps_percent = len(gaps_in_seconds) / (len(df_flat) + len(gaps_in_seconds)) * 100\n",
    "average_gap = gaps_in_seconds.diff().mean()\n",
    "print(\n",
    "    f\"Overall {len(gaps_in_seconds)} gaps were found, \\\n",
    "for {gaps_percent}%% of all seconds in the given period, for an average frequency of {average_gap}\"\n",
    ")"
   ]
  },
  {
   "cell_type": "code",
   "execution_count": null,
   "id": "95d2381c",
   "metadata": {},
   "outputs": [],
   "source": [
    "# Display gaps distribution by hour.\n",
    "gaps_in_seconds.groupby(gaps_in_seconds.dt.hour).count().plot(kind=\"bar\")"
   ]
  },
  {
   "cell_type": "markdown",
   "id": "0fa63b2a",
   "metadata": {},
   "source": [
    "### Commentary"
   ]
  },
  {
   "cell_type": "markdown",
   "id": "b4ac5ed2",
   "metadata": {},
   "source": [
    "- No NaNs or zeroes were found with a simple general check, there is no need for an in-depth look.\n",
    "- 575 gaps were found, that mostly concentrate between 0am and 5am."
   ]
  },
  {
   "cell_type": "markdown",
   "id": "a5122bb7",
   "metadata": {},
   "source": [
    "## Augment data with new features"
   ]
  },
  {
   "cell_type": "code",
   "execution_count": null,
   "id": "1ce49445",
   "metadata": {},
   "outputs": [],
   "source": [
    "# Append `mid` data.\n",
    "# # (bid + ask) / 2.\n",
    "bid_col = \"bid_price\"\n",
    "ask_col = \"ask_price\"\n",
    "bid_volume_col = \"bid_size\"\n",
    "ask_volume_col = \"ask_size\"\n",
    "requested_cols = [\"mid\", \"ask_value\", \"bid_value\"]\n",
    "join_output_with_input = True\n",
    "df_mid = cofinanc.process_bid_ask(\n",
    "    df_flat,\n",
    "    bid_col,\n",
    "    ask_col,\n",
    "    bid_volume_col,\n",
    "    ask_volume_col,\n",
    "    requested_cols=requested_cols,\n",
    "    join_output_with_input=join_output_with_input,\n",
    ")\n",
    "df_mid.head(10)"
   ]
  },
  {
   "cell_type": "code",
   "execution_count": null,
   "id": "46778853",
   "metadata": {},
   "outputs": [],
   "source": [
    "print(df_mid.shape)\n",
    "print(df_mid.index.min())\n",
    "print(df_mid.index.max())"
   ]
  },
  {
   "cell_type": "code",
   "execution_count": null,
   "id": "3c24205c",
   "metadata": {},
   "outputs": [],
   "source": [
    "df_features = df_mid.copy()"
   ]
  },
  {
   "cell_type": "code",
   "execution_count": null,
   "id": "deefeed5",
   "metadata": {},
   "outputs": [],
   "source": [
    "# This is really high. 100m USD per hour on top of the book.\n",
    "df_features[[\"bid_value\", \"ask_value\"]].resample(\"1H\").sum().plot()"
   ]
  },
  {
   "cell_type": "code",
   "execution_count": null,
   "id": "d7593619",
   "metadata": {
    "run_control": {
     "marked": false
    }
   },
   "outputs": [],
   "source": [
    "mid_col_name = \"mid\"\n",
    "debug_mode = True\n",
    "resample_freq = \"1T\"\n",
    "abs_spread = 0.0001\n",
    "df_limit_order_prices = ramccalg.add_limit_order_prices(\n",
    "    df_features, mid_col_name, debug_mode, abs_spread=abs_spread\n",
    ")"
   ]
  },
  {
   "cell_type": "markdown",
   "id": "085e0b47",
   "metadata": {},
   "source": [
    "### Check missing data indices"
   ]
  },
  {
   "cell_type": "code",
   "execution_count": null,
   "id": "8820fdb7",
   "metadata": {
    "lines_to_next_cell": 2
   },
   "outputs": [],
   "source": [
    "print(df_features.shape)"
   ]
  },
  {
   "cell_type": "code",
   "execution_count": null,
   "id": "8fd930b1",
   "metadata": {
    "lines_to_next_cell": 2
   },
   "outputs": [],
   "source": [
    "print(df_limit_order_prices.shape)"
   ]
  },
  {
   "cell_type": "code",
   "execution_count": null,
   "id": "538dab7a",
   "metadata": {
    "lines_to_next_cell": 2,
    "run_control": {
     "marked": true
    }
   },
   "outputs": [],
   "source": [
    "diff = df_limit_order_prices.index.difference(df_features.index)"
   ]
  },
  {
   "cell_type": "code",
   "execution_count": null,
   "id": "16b2679d",
   "metadata": {
    "lines_to_next_cell": 2
   },
   "outputs": [],
   "source": [
    "df_limit_order_prices.loc[diff]"
   ]
  },
  {
   "cell_type": "code",
   "execution_count": null,
   "id": "d17528a8",
   "metadata": {},
   "outputs": [],
   "source": [
    "df_flat.loc[\n",
    "    pd.Timestamp(\"2022-12-13 22:25:59-05:00\") : pd.Timestamp(\n",
    "        \"2022-12-13 22:27:00-05:00\"\n",
    "    )\n",
    "]"
   ]
  },
  {
   "cell_type": "markdown",
   "id": "53bc9a83",
   "metadata": {},
   "source": [
    "#### Commentary"
   ]
  },
  {
   "cell_type": "markdown",
   "id": "68d18ad4",
   "metadata": {},
   "source": [
    "As we have seen during the sanity check above, missing data can congregate around certain time points.\n",
    "\n",
    "For the 4 missing minutes were minutes where the initial second was missing, and then added in the function due to resampling."
   ]
  },
  {
   "cell_type": "code",
   "execution_count": null,
   "id": "f37bde19",
   "metadata": {},
   "outputs": [],
   "source": [
    "ramccalg.perform_spread_analysis(\n",
    "    df_limit_order_prices, \"ask_price\", \"bid_price\", \"mid\"\n",
    ")"
   ]
  },
  {
   "cell_type": "code",
   "execution_count": null,
   "id": "f6da3014",
   "metadata": {},
   "outputs": [],
   "source": [
    "ramccalg.plot_limit_orders(df_limit_order_prices)"
   ]
  },
  {
   "cell_type": "markdown",
   "id": "897997dd",
   "metadata": {},
   "source": [
    "## Resample to T_reprice"
   ]
  },
  {
   "cell_type": "code",
   "execution_count": null,
   "id": "346c1b9c",
   "metadata": {},
   "outputs": [],
   "source": [
    "report_stats = True\n",
    "reprice_df = ramccalg.compute_repricing_df(df_limit_order_prices, report_stats)"
   ]
  },
  {
   "cell_type": "code",
   "execution_count": null,
   "id": "94553b2b",
   "metadata": {},
   "outputs": [],
   "source": [
    "reprice_df.shape"
   ]
  },
  {
   "cell_type": "code",
   "execution_count": null,
   "id": "8efe71df",
   "metadata": {},
   "outputs": [],
   "source": [
    "reprice_df.head(5)"
   ]
  },
  {
   "cell_type": "markdown",
   "id": "3b7cf769",
   "metadata": {},
   "source": [
    "## Resample to T_exec"
   ]
  },
  {
   "cell_type": "code",
   "execution_count": null,
   "id": "bf25370b",
   "metadata": {},
   "outputs": [],
   "source": [
    "exec_df = ramccalg.compute_execution_df(reprice_df, report_stats=True)\n",
    "exec_df.head(5)"
   ]
  },
  {
   "cell_type": "markdown",
   "id": "cbbcd88c",
   "metadata": {},
   "source": [
    "## Compare to benchmark price."
   ]
  },
  {
   "cell_type": "code",
   "execution_count": null,
   "id": "21f57159",
   "metadata": {
    "run_control": {
     "marked": true
    }
   },
   "outputs": [],
   "source": [
    "def compute_benchmark_stats(df):\n",
    "    df[\"twap_mid_price\"] = df[\"mid\"].resample(\"5T\").mean()\n",
    "    df[[\"twap_mid_price\", \"exec_sell_price\", \"exec_buy_price\"]].head(1000).plot()\n",
    "    return df"
   ]
  },
  {
   "cell_type": "code",
   "execution_count": null,
   "id": "be12df9e",
   "metadata": {},
   "outputs": [],
   "source": [
    "benchmark_df = compute_benchmark_stats(exec_df)"
   ]
  },
  {
   "cell_type": "code",
   "execution_count": null,
   "id": "a66adec6",
   "metadata": {},
   "outputs": [],
   "source": [
    "slippage = exec_df[[\"twap_mid_price\", \"exec_sell_price\", \"exec_buy_price\"]]\n",
    "\n",
    "slippage[\"sell_slippage_bps\"] = (\n",
    "    (exec_df[\"exec_sell_price\"] - exec_df[\"twap_mid_price\"])\n",
    "    / exec_df[\"twap_mid_price\"]\n",
    "    * 1e4\n",
    ")\n",
    "\n",
    "# slippage = df[\"twap_mid_price\"] /\n",
    "\n",
    "slippage[\"sell_slippage_bps\"].hist(bins=21)\n",
    "\n",
    "print(\"sell_slippage_bps.mean=\", slippage[\"sell_slippage_bps\"].mean())\n",
    "print(\"sell_slippage_bps.median=\", slippage[\"sell_slippage_bps\"].median())"
   ]
  },
  {
   "cell_type": "markdown",
   "id": "ceb8caf4",
   "metadata": {},
   "source": [
    "### Commentary"
   ]
  },
  {
   "cell_type": "markdown",
   "id": "f0c41e3c",
   "metadata": {},
   "source": [
    "The quick look into the rate of successful trades indicated that for the given asset (`ADA/USDT`) and the date the successful \"buy\" order can be met for 16% of the time and a \"sell\" order is not met at all."
   ]
  }
 ],
 "metadata": {
  "kernelspec": {
   "display_name": "Python 3 (ipykernel)",
   "language": "python",
   "name": "python3"
  },
  "language_info": {
   "codemirror_mode": {
    "name": "ipython",
    "version": 3
   },
   "file_extension": ".py",
   "mimetype": "text/x-python",
   "name": "python",
   "nbconvert_exporter": "python",
   "pygments_lexer": "ipython3"
  },
  "toc": {
   "base_numbering": 1,
   "nav_menu": {},
   "number_sections": true,
   "sideBar": true,
   "skip_h1_title": false,
   "title_cell": "Table of Contents",
   "title_sidebar": "Contents",
   "toc_cell": false,
   "toc_position": {},
   "toc_section_display": true,
   "toc_window_display": false
  }
 },
 "nbformat": 4,
 "nbformat_minor": 5
}
