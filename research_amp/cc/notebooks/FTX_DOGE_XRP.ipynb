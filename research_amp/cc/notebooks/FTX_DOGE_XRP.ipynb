{
 "cells": [
  {
   "cell_type": "code",
   "execution_count": null,
   "id": "32686f6d",
   "metadata": {},
   "outputs": [],
   "source": [
    "import logging\n",
    "import os\n",
    "import json\n",
    "\n",
    "import pandas as pd\n",
    "import requests\n",
    "\n",
    "import helpers.hdatetime as hdateti\n",
    "import helpers.hdbg as hdbg\n",
    "import helpers.hs3 as hs3\n",
    "import im_v2.crypto_chassis.data.client.crypto_chassis_clients as ivccdcccc"
   ]
  },
  {
   "cell_type": "code",
   "execution_count": null,
   "id": "69de3eb6",
   "metadata": {},
   "outputs": [],
   "source": [
    "hdbg.init_logger(verbosity=logging.INFO)\n",
    "\n",
    "_LOG = logging.getLogger(__name__)"
   ]
  },
  {
   "cell_type": "code",
   "execution_count": null,
   "id": "ad122ad4",
   "metadata": {},
   "outputs": [],
   "source": [
    "def load_crypto_chassis_ohlcv(exhange_id, currency_pair):\n",
    "    r = requests.get(\n",
    "        f\"https://api.cryptochassis.com/v1/ohlc/{exhange_id}/{currency_pair}?startTime=0\"\n",
    "    )\n",
    "    df = pd.read_csv(r.json()[\"historical\"][\"urls\"][0][\"url\"], compression=\"gzip\")\n",
    "    df[\"time_seconds\"] = df[\"time_seconds\"].apply(\n",
    "        lambda x: hdateti.convert_unix_epoch_to_timestamp(x, unit=\"s\")\n",
    "    )\n",
    "    df = df.set_index(\"time_seconds\")\n",
    "    return df"
   ]
  },
  {
   "cell_type": "code",
   "execution_count": null,
   "id": "04c4a6e0",
   "metadata": {},
   "outputs": [],
   "source": [
    "# Load data from CryptoChassis API.\n",
    "ftx_xrp = load_crypto_chassis_ohlcv(\"ftx\", \"xrp-usdt\")\n",
    "ftx_xrp_2022_4 = ftx_xrp.loc[(ftx_xrp.index.year == 2022) & (ftx_xrp.index.month == 4)]\n",
    "ftx_xrp_2022_4.shape"
   ]
  },
  {
   "cell_type": "code",
   "execution_count": null,
   "id": "8c5f87b4",
   "metadata": {},
   "outputs": [],
   "source": [
    "# Load data from S3.\n",
    "universe_version = \"v1\"\n",
    "resample_1min = True\n",
    "root_dir = os.path.join(\n",
    "                    hs3.get_s3_bucket_path(\"ck\"), \n",
    "                    \"reorg\", \"historical.manual.pq\",\n",
    ")\n",
    "partition_mode = \"by_year_month\"\n",
    "client = ivccdcccc.CryptoChassisHistoricalPqByTileClient(\n",
    "        universe_version,\n",
    "        resample_1min,\n",
    "        root_dir,\n",
    "        partition_mode,\n",
    "        aws_profile=\"ck\"\n",
    ")"
   ]
  },
  {
   "cell_type": "code",
   "execution_count": null,
   "id": "6097df40",
   "metadata": {},
   "outputs": [],
   "source": [
    "start_ts = None\n",
    "end_ts = None\n",
    "columns = None\n",
    "filter_data_mode = \"warn\"\n",
    "full_symbols = [\"ftx::XRP_USDT\", \"ftx::DOGE_USDT\"]\n",
    "df = client.read_data(full_symbols, start_ts, end_ts, columns, filter_data_mode)"
   ]
  },
  {
   "cell_type": "code",
   "execution_count": null,
   "id": "c3f62b1d",
   "metadata": {},
   "outputs": [],
   "source": [
    "df_xrp = df.loc[df['full_symbol'] == full_symbols[0]]\n",
    "df_xrp_2022_04 = df_xrp.loc[(df_xrp.index.year == 2022) \n",
    "                            & (df_xrp.index.month == 4) \n",
    "                            & (df_xrp['open'].isna() == False)]\n",
    "len(df_xrp_2022_04) == len(ftx_xrp_2022_4)"
   ]
  },
  {
   "cell_type": "code",
   "execution_count": null,
   "id": "32791232",
   "metadata": {},
   "outputs": [],
   "source": [
    "# Load data from CryptoChassis API.\n",
    "ftx_doge = load_crypto_chassis_ohlcv(\"ftx\", \"doge-usdt\")\n",
    "ftx_doge_2022_3 = ftx_doge.loc[(ftx_doge.index.year == 2022) & (ftx_doge.index.month == 3)]\n",
    "ftx_doge_2022_3.shape"
   ]
  },
  {
   "cell_type": "code",
   "execution_count": null,
   "id": "d5e98f51",
   "metadata": {},
   "outputs": [],
   "source": [
    "df_doge = df.loc[df['full_symbol'] == full_symbols[1]]\n",
    "df_doge_2022_3 = df_doge.loc[(df_doge.index.year == 2022) \n",
    "                            & (df_doge.index.month == 3) \n",
    "                            & (df_doge['open'].isna() == False)]\n",
    "len(df_doge_2022_3) == len(ftx_doge_2022_3)"
   ]
  },
  {
   "cell_type": "code",
   "execution_count": null,
   "id": "4a400028",
   "metadata": {},
   "outputs": [],
   "source": [
    "df1 = df_doge.loc[(df_doge.index.year == 2022) \n",
    "                            & (df_doge.index.month == 3) \n",
    "                            & (df_doge['open'].isna() == True)]\n",
    "df1.head(3)"
   ]
  },
  {
   "cell_type": "code",
   "execution_count": null,
   "id": "7607cd30",
   "metadata": {},
   "outputs": [],
   "source": [
    "ftx_doge_2022_3.loc[ftx_doge_2022_3.index.day == 1][23:30]"
   ]
  },
  {
   "cell_type": "markdown",
   "id": "3fbe6f33",
   "metadata": {},
   "source": [
    "Data with NaNs on S3 is absent at the source."
   ]
  }
 ],
 "metadata": {
  "kernelspec": {
   "display_name": "Python 3 (ipykernel)",
   "language": "python",
   "name": "python3"
  },
  "language_info": {
   "codemirror_mode": {
    "name": "ipython",
    "version": 3
   },
   "file_extension": ".py",
   "mimetype": "text/x-python",
   "name": "python",
   "nbconvert_exporter": "python",
   "pygments_lexer": "ipython3"
  },
  "toc": {
   "base_numbering": 1,
   "nav_menu": {},
   "number_sections": true,
   "sideBar": true,
   "skip_h1_title": false,
   "title_cell": "Table of Contents",
   "title_sidebar": "Contents",
   "toc_cell": false,
   "toc_position": {},
   "toc_section_display": true,
   "toc_window_display": false
  }
 },
 "nbformat": 4,
 "nbformat_minor": 5
}
