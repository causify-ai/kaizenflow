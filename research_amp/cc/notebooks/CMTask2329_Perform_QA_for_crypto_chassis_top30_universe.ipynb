{
 "cells": [
  {
   "cell_type": "markdown",
   "id": "e3d423f0",
   "metadata": {},
   "source": [
    "# Description"
   ]
  },
  {
   "cell_type": "markdown",
   "id": "739a4c1a",
   "metadata": {},
   "source": [
    "This notebooks performs QA checks for a single vendor:\n",
    "   - Number of NaN data points as % of total\n",
    "   - Number of data points where `volume=0` as % of total"
   ]
  },
  {
   "cell_type": "markdown",
   "id": "026dce8f",
   "metadata": {},
   "source": [
    "# Imports"
   ]
  },
  {
   "cell_type": "code",
   "execution_count": null,
   "id": "d2796630",
   "metadata": {},
   "outputs": [],
   "source": [
    "import logging\n",
    "import os\n",
    "\n",
    "import core.config.config_ as cconconf\n",
    "import core.config.config_utils as ccocouti\n",
    "import helpers.hdbg as hdbg\n",
    "import helpers.henv as henv\n",
    "import helpers.hprint as hprint\n",
    "import helpers.hs3 as hs3\n",
    "import im_v2.crypto_chassis.data.client as iccdc\n",
    "import research_amp.cc.qa as ramccqa"
   ]
  },
  {
   "cell_type": "code",
   "execution_count": null,
   "id": "467b3d61",
   "metadata": {},
   "outputs": [],
   "source": [
    "hdbg.init_logger(verbosity=logging.INFO)\n",
    "\n",
    "_LOG = logging.getLogger(__name__)\n",
    "\n",
    "_LOG.info(\"%s\", henv.get_system_signature()[0])\n",
    "\n",
    "hprint.config_notebook()"
   ]
  },
  {
   "cell_type": "markdown",
   "id": "61c0c9ff",
   "metadata": {},
   "source": [
    "# Configs"
   ]
  },
  {
   "cell_type": "code",
   "execution_count": null,
   "id": "5740ef6d",
   "metadata": {},
   "outputs": [],
   "source": [
    "def get_cmtask2329_config() -> cconconf.Config:\n",
    "    \"\"\"\n",
    "    Get task2329-specific config.\n",
    "    \"\"\"\n",
    "    config = cconconf.Config()\n",
    "    param_dict = {\n",
    "        \"data\": {\n",
    "            # Parameters for client initialization.\n",
    "            \"im_client\": {\n",
    "                \"universe_version\": \"v4\",\n",
    "                \"resample_1min\": False,\n",
    "                \"root_dir\": os.path.join(\n",
    "                    hs3.get_s3_bucket_path(\"ck\"), \"reorg\", \"historical.manual.pq\"\n",
    "                ),\n",
    "                \"partition_mode\": \"by_year_month\",\n",
    "                \"dataset\": \"ohlcv\",\n",
    "                \"contract_type\": \"futures\",\n",
    "                \"data_snapshot\": \"20220707\",\n",
    "                \"aws_profile\": \"ck\",\n",
    "            },\n",
    "            # Parameters for data query.\n",
    "            \"read_data\": {\n",
    "                \"start_ts\": None,\n",
    "                \"end_ts\": None,\n",
    "                \"columns\": [\"full_symbol\", \"close\", \"volume\"],\n",
    "                \"filter_data_mode\": \"assert\",\n",
    "            },\n",
    "        },\n",
    "        \"column_names\": {\n",
    "            \"full_symbol\": \"full_symbol\",\n",
    "            \"close_price\": \"close\",\n",
    "        },\n",
    "        \"stats\": {\n",
    "            \"threshold\": 30,\n",
    "        },\n",
    "    }\n",
    "    config = cconfig.Config.from_dict(param_dict)\n",
    "    return config\n",
    "\n",
    "\n",
    "config = get_cmtask2329_config()\n",
    "print(config)"
   ]
  },
  {
   "cell_type": "markdown",
   "id": "aea1be69",
   "metadata": {},
   "source": [
    "# Load the data"
   ]
  },
  {
   "cell_type": "code",
   "execution_count": null,
   "id": "8b4dbc17",
   "metadata": {},
   "outputs": [],
   "source": [
    "client = iccdc.CryptoChassisHistoricalPqByTileClient(\n",
    "    **config[\"data\"][\"im_client\"]\n",
    ")"
   ]
  },
  {
   "cell_type": "code",
   "execution_count": null,
   "id": "8757ca8e",
   "metadata": {},
   "outputs": [],
   "source": [
    "universe = client.get_universe()\n",
    "universe"
   ]
  },
  {
   "cell_type": "code",
   "execution_count": null,
   "id": "0177760e",
   "metadata": {},
   "outputs": [],
   "source": [
    "data = client.read_data(universe, **config[\"data\"][\"read_data\"])\n",
    "data.head(3)"
   ]
  },
  {
   "cell_type": "markdown",
   "id": "6241e528",
   "metadata": {},
   "source": [
    "# QA checks"
   ]
  },
  {
   "cell_type": "markdown",
   "id": "4e042601",
   "metadata": {},
   "source": [
    "Major metric for a QA check is `\"bad data [%]\"` which is the sum of `\"volume=0 [%]\"` and `\"NaNs [%]\"`."
   ]
  },
  {
   "cell_type": "code",
   "execution_count": null,
   "id": "738470c5",
   "metadata": {},
   "outputs": [],
   "source": [
    "vendor_name = \"CryptoChassis\"\n",
    "binance_timestamp_stats = ramccqa.get_timestamp_stats(data, vendor_name)\n",
    "binance_timestamp_stats"
   ]
  },
  {
   "cell_type": "code",
   "execution_count": null,
   "id": "d34526e5",
   "metadata": {},
   "outputs": [],
   "source": [
    "agg_level_full_symbol = [\"full_symbol\"]\n",
    "binance_bad_data_stats = ramccqa.get_bad_data_stats(\n",
    "    data, agg_level_full_symbol, vendor_name\n",
    ")\n",
    "binance_bad_data_stats"
   ]
  },
  {
   "cell_type": "code",
   "execution_count": null,
   "id": "def1aa0f",
   "metadata": {},
   "outputs": [],
   "source": [
    "agg_level_full_symbol_year_month = [\"full_symbol\", \"year\", \"month\"]\n",
    "bad_data_stats_by_year_month = ramccqa.get_bad_data_stats(\n",
    "    data, agg_level_full_symbol_year_month, vendor_name\n",
    ")\n",
    "bad_data_stats_by_year_month"
   ]
  },
  {
   "cell_type": "code",
   "execution_count": null,
   "id": "c11f08f2",
   "metadata": {},
   "outputs": [],
   "source": [
    "_ = ramccqa.plot_bad_data_by_year_month_stats(\n",
    "    bad_data_stats_by_year_month, config[\"stats\"][\"threshold\"]\n",
    ")"
   ]
  }
 ],
 "metadata": {
  "kernelspec": {
   "display_name": "Python 3 (ipykernel)",
   "language": "python",
   "name": "python3"
  },
  "language_info": {
   "codemirror_mode": {
    "name": "ipython",
    "version": 3
   },
   "file_extension": ".py",
   "mimetype": "text/x-python",
   "name": "python",
   "nbconvert_exporter": "python",
   "pygments_lexer": "ipython3"
  },
  "toc": {
   "base_numbering": 1,
   "nav_menu": {},
   "number_sections": true,
   "sideBar": true,
   "skip_h1_title": false,
   "title_cell": "Table of Contents",
   "title_sidebar": "Contents",
   "toc_cell": false,
   "toc_position": {},
   "toc_section_display": true,
   "toc_window_display": false
  }
 },
 "nbformat": 4,
 "nbformat_minor": 5
}
