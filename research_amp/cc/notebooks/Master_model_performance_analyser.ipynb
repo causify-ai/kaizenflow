{
 "cells": [
  {
   "cell_type": "markdown",
   "id": "4d75d00e",
   "metadata": {},
   "source": [
    "# Description"
   ]
  },
  {
   "cell_type": "markdown",
   "id": "0f710a02",
   "metadata": {},
   "source": [
    "Compute and analyze model performance stats."
   ]
  },
  {
   "cell_type": "markdown",
   "id": "4549477a",
   "metadata": {},
   "source": [
    "# Imports"
   ]
  },
  {
   "cell_type": "code",
   "execution_count": null,
   "id": "3e783ed1",
   "metadata": {},
   "outputs": [],
   "source": [
    "%load_ext autoreload\n",
    "%autoreload 2\n",
    "%matplotlib inline"
   ]
  },
  {
   "cell_type": "code",
   "execution_count": null,
   "id": "fbc596de",
   "metadata": {},
   "outputs": [],
   "source": [
    "import datetime\n",
    "import logging\n",
    "from typing import Any, Callable, List\n",
    "\n",
    "import ipywidgets as widgets\n",
    "import matplotlib.pyplot as plt\n",
    "import pandas as pd\n",
    "import seaborn as sns\n",
    "import sklearn\n",
    "\n",
    "import core.config.config_ as cconconf\n",
    "import core.config.config_utils as ccocouti\n",
    "import core.statistics.sharpe_ratio as cstshrat\n",
    "import dataflow.model as dtfmod\n",
    "import helpers.hdbg as hdbg\n",
    "import helpers.henv as henv\n",
    "import helpers.hpandas as hpandas\n",
    "import helpers.hprint as hprint\n",
    "import im_v2.crypto_chassis.data.client as iccdc"
   ]
  },
  {
   "cell_type": "code",
   "execution_count": null,
   "id": "717d24a8",
   "metadata": {},
   "outputs": [],
   "source": [
    "hdbg.init_logger(verbosity=logging.INFO)\n",
    "\n",
    "_LOG = logging.getLogger(__name__)\n",
    "\n",
    "_LOG.info(\"%s\", henv.get_system_signature()[0])\n",
    "\n",
    "hprint.config_notebook()"
   ]
  },
  {
   "cell_type": "markdown",
   "id": "f7dd094b",
   "metadata": {},
   "source": [
    "# Configs"
   ]
  },
  {
   "cell_type": "code",
   "execution_count": null,
   "id": "be23c175",
   "metadata": {},
   "outputs": [],
   "source": [
    "def get_notebook_config() -> cconconf.Config:\n",
    "    \"\"\"\n",
    "    Get notebook specific config.\n",
    "    \"\"\"\n",
    "    config = cconconf.Config()\n",
    "    param_dict = {\n",
    "        \"data\": {\n",
    "            \"dir_name\": \"/shared_data/model/historical/experiment.E1a.crypto_chassis_v2-all.5T.2018_2022/tiled_results/\",\n",
    "            \"columns\": \"volume vwap vwap.ret_0 vwap.ret_0.vol_adj vwap.ret_0.vol_adj.c vwap.ret_0.vol_adj_2 vwap.ret_0.vol_adj_2_hat\".split(),\n",
    "            \"start_date\": datetime.date(2018, 1, 1),\n",
    "            \"end_date\": datetime.date(2022, 5, 1),\n",
    "            \"im_client\": iccdc.get_CryptoChassisHistoricalPqByTileClient_example2(\n",
    "                True\n",
    "            ),\n",
    "        },\n",
    "        \"column_names\": {\n",
    "            \"asset_id\": \"asset_id\",\n",
    "            \"timestamp\": \"end_ts\",\n",
    "            \"volume\": \"volume\",\n",
    "            \"y\": \"vwap.ret_0.vol_adj_2\",\n",
    "            \"y_hat\": \"vwap.ret_0.vol_adj_2_hat\",\n",
    "            \"hit\": \"hit\",\n",
    "            \"trade_pnl\": \"trade_pnl\",\n",
    "        },\n",
    "        \"stats_kwargs\": {\n",
    "            \"quantile_ranks\": 10,\n",
    "            # 28500 is the number of 5-minute intervals in ATH in a year.\n",
    "            \"time_scaling\": 28500,\n",
    "            \"n_resamples\": 1000,\n",
    "        },\n",
    "        \"plot_kwargs\": {\n",
    "            \"y_min_lim_hit_rate\": 0.45,\n",
    "            \"y_max_lim_hit_rate\": 0.55,\n",
    "            \"color\": \"C0\",\n",
    "            \"capsize\": 0.2,\n",
    "            \"xticks_rotation\": 70,\n",
    "        },\n",
    "    }\n",
    "    config = ccocouti.get_config_from_nested_dict(param_dict)\n",
    "    return config"
   ]
  },
  {
   "cell_type": "code",
   "execution_count": null,
   "id": "fde4341e",
   "metadata": {},
   "outputs": [],
   "source": [
    "config = get_notebook_config()\n",
    "print(config)"
   ]
  },
  {
   "cell_type": "markdown",
   "id": "0b3b5de5",
   "metadata": {},
   "source": [
    "# Functions"
   ]
  },
  {
   "cell_type": "code",
   "execution_count": null,
   "id": "862ac8a8",
   "metadata": {},
   "outputs": [],
   "source": [
    "def load_predictions_df(config: cconconf.Config) -> pd.DataFrame:\n",
    "    \"\"\"\n",
    "    Get data with ML predictions.\n",
    "    \"\"\"\n",
    "    backtest_df_iter = dtfmod.yield_processed_parquet_tiles_by_year(\n",
    "        config[\"data\"][\"dir_name\"],\n",
    "        config[\"data\"][\"start_date\"],\n",
    "        config[\"data\"][\"end_date\"],\n",
    "        config[\"column_names\"][\"asset_id\"],\n",
    "        data_cols=config[\"data\"][\"columns\"],\n",
    "        asset_ids=None,\n",
    "    )\n",
    "    #\n",
    "    dfs = []\n",
    "    for df in backtest_df_iter:\n",
    "        dfs.append(df)\n",
    "    #\n",
    "    predict_df = pd.concat(dfs)\n",
    "    predict_df = predict_df.sort_index()\n",
    "    return predict_df\n",
    "\n",
    "\n",
    "# TODO(Max): Move the code out of the lib so we can unit test,\n",
    "# e.g., we want to add (small) specific unit tests for hit.\n",
    "# TODO(Max): Harmonize the code with calculate_hit_rate and other code there.\n",
    "# E.g., factor out the piece of calculate_hit_rate that computes hit, etc.\n",
    "def preprocess_predictions_df(\n",
    "    config: cconconf.Config, predict_df: pd.DataFrame\n",
    ") -> pd.DataFrame:\n",
    "    \"\"\"\n",
    "    Preprocess data with ML predictions for analysis.\n",
    "\n",
    "    Input:\n",
    "\n",
    "    ```\n",
    "                        volume                  vwap\n",
    "    asset_id            1464553467  1467591036  1464553467  1467591036\n",
    "    end_ts\n",
    "    2018-01-01 09:35:00   314.0657     47.3976    729.7789  12887.3945\n",
    "    2018-01-01 09:40:00   178.6543     35.1098    731.0134  12913.6854\n",
    "    ```\n",
    "\n",
    "    Output:\n",
    "\n",
    "    ```\n",
    "                                              volume        vwap\n",
    "    end_ts                        asset_id\n",
    "    2018-01-01 09:35:00  binance::ETH_USDT  314.0657    729.7789\n",
    "                         binance::BTC_USDT   47.3976  12887.3945\n",
    "    2018-01-01 09:40:00  binance::ETH_USDT  178.6543    731.0134\n",
    "                         binance::BTC_USDT   35.1098  12913.6854\n",
    "    ```\n",
    "    \"\"\"\n",
    "    # Convert the prediction stats data to Multiindex by time and asset id.\n",
    "    metrics_df = predict_df.stack()\n",
    "    # Drop NaNs to compute the performance statistics.\n",
    "    metrics_df = hpandas.dropna(metrics_df, report_stats=True)\n",
    "    # Compute hit and trade PnL.\n",
    "    metrics_df[\"hit\"] = (\n",
    "        metrics_df[config[\"column_names\"][\"y\"]]\n",
    "        * metrics_df[config[\"column_names\"][\"y_hat\"]]\n",
    "        >= 0\n",
    "    )\n",
    "    metrics_df[\"trade_pnl\"] = (\n",
    "        metrics_df[config[\"column_names\"][\"y\"]]\n",
    "        * metrics_df[config[\"column_names\"][\"y_hat\"]]\n",
    "    )\n",
    "    # TODO(*): Think about avoiding using `ImClient` for mapping.\n",
    "    # Convert asset ids to full symbols using `ImClient` mapping.\n",
    "    im_client = config[\"data\"][\"im_client\"]\n",
    "    metrics_df.index = metrics_df.index.set_levels(\n",
    "        metrics_df.index.levels[1].map(\n",
    "            im_client._asset_id_to_full_symbol_mapping\n",
    "        ),\n",
    "        level=1,\n",
    "    )\n",
    "    return metrics_df\n",
    "\n",
    "\n",
    "# TODO(*): Consider using bootstraping function from SciPy\n",
    "#  https://docs.scipy.org/doc/scipy/reference/generated/scipy.stats.bootstrap.html.\n",
    "# TODO(Dan): Consider to return CI values.\n",
    "def bootstrap(\n",
    "    data: pd.Series, func: Callable, n_resamples: int = 100\n",
    ") -> List[Any]:\n",
    "    \"\"\"\n",
    "    Bootstrap computations on specified number of data resamples.\n",
    "\n",
    "    :param data: input data to resample\n",
    "    :param func: function accepting a series and returning a single scalar value\n",
    "    :param n_resamples: number of resamples to create\n",
    "    :return: bootstrapped computations\n",
    "    \"\"\"\n",
    "    res_list = []\n",
    "    for i in range(n_resamples):\n",
    "        resampled_data = sklearn.utils.resample(data)\n",
    "        res = func(resampled_data)\n",
    "        res_list.append(res)\n",
    "    return res_list\n",
    "\n",
    "\n",
    "def plot_sharpe_ratio(\n",
    "    config: cconconf.Config, metrics_df: pd.DataFrame, by_col: str\n",
    ") -> None:\n",
    "    \"\"\"\n",
    "    Compute and plot Sharpe Ratio by specified column.\n",
    "    \"\"\"\n",
    "    res_list = []\n",
    "    for by, data in metrics_df.groupby(by_col):\n",
    "        srs = data[config[\"column_names\"][\"trade_pnl\"]].dropna()\n",
    "        func = lambda pnl: cstshrat.compute_sharpe_ratio(\n",
    "            pnl, time_scaling=config[\"stats_kwargs\"][\"time_scaling\"]\n",
    "        )\n",
    "        # Multiple Sharpe Ratios are being computed on many resamples\n",
    "        # in order to find and plot confidence intervals.\n",
    "        sharpe_ratio_srs = pd.Series(\n",
    "            bootstrap(srs, func, config[\"stats_kwargs\"][\"n_resamples\"]),\n",
    "            name=\"sharpe_ratio\",\n",
    "        )\n",
    "        # Transform and combine data for plotting.\n",
    "        sharpe_ratio_df = sharpe_ratio_srs.to_frame()\n",
    "        sharpe_ratio_df[by_col] = by\n",
    "        res_list.append(sharpe_ratio_df)\n",
    "    res_df = pd.concat(res_list)\n",
    "    #\n",
    "    sns.barplot(\n",
    "        x=by_col,\n",
    "        y=\"sharpe_ratio\",\n",
    "        data=res_df,\n",
    "        color=config[\"plot_kwargs\"][\"color\"],\n",
    "        capsize=config[\"plot_kwargs\"][\"capsize\"],\n",
    "    )\n",
    "    plt.xticks(rotation=config[\"plot_kwargs\"][\"xticks_rotation\"])\n",
    "    plt.show()\n",
    "\n",
    "\n",
    "def plot_sorted_barplot(\n",
    "    df: pd.DataFrame,\n",
    "    x: str,\n",
    "    y: str,\n",
    "    sort_by: [str, bool],\n",
    "    ascending: bool,\n",
    "    ylabel: str,\n",
    "    ylim_min: int,\n",
    "    ylim_max: int,\n",
    ") -> None:\n",
    "    \"\"\"\n",
    "    :param df: data with prediction statistics\n",
    "    :param x: column name for values on X-axis (e.g., `asset_id`)\n",
    "    :param y: column name for values on Y-axis (e.g., `hit`)\n",
    "    :param sort_by: sorting parameter (e.g., by value, by asset, or None)\n",
    "    :param ylabel: name of the Y-axis graph\n",
    "    :param ylim_min: lower value on Y-axis graph scale\n",
    "    :param ylim_max: upper value on Y-axis graph scale\n",
    "    :return: barplot with model performance statistics\n",
    "    \"\"\"\n",
    "    if sort_by:\n",
    "        stats_srs = df.groupby([x])[y].mean()\n",
    "        stats_srs_sorted = stats_srs.reset_index().sort_values(\n",
    "            by=[sort_by], ascending=ascending\n",
    "        )\n",
    "        order = stats_srs_sorted[x]\n",
    "    else:\n",
    "        order = None\n",
    "    sns.barplot(\n",
    "        x=x,\n",
    "        y=y,\n",
    "        data=df,\n",
    "        order=order,\n",
    "        color=color,\n",
    "        capsize=capsize,\n",
    "    )\n",
    "    plt.xticks(rotation=xticks_rotation)\n",
    "    plt.ylabel(ylabel)\n",
    "    plt.ylim(ylim_min, ylim_max)\n",
    "    plt.show()\n",
    "\n",
    "\n",
    "def widget_plot(\n",
    "    df: pd.DataFrame, x: str, y: str, ylim_min: int, ylim_max: int\n",
    ") -> None:\n",
    "    \"\"\"\n",
    "    Add widges to expand the sorting parameters for barplots.\n",
    "\n",
    "    :param df: data with prediction statistics\n",
    "    :param x: values on X-axis (e.g., `asset_id`)\n",
    "    :param y: values on Y-axis (e.g., `hit`)\n",
    "    :param ylim_min: lower value on Y-axis graph scale\n",
    "    :param ylim_max: upper value on Y-axis graph scale\n",
    "    :return: barplot with edible model performance statistics.\n",
    "    \"\"\"\n",
    "    _ = widgets.interact(\n",
    "        plot_sorted_barplot,\n",
    "        df=widgets.fixed(df),\n",
    "        x=widgets.fixed(x),\n",
    "        y=widgets.fixed(y),\n",
    "        sort_by=widgets.ToggleButtons(\n",
    "            options=[y, x, False], description=\"Sort by:\"\n",
    "        ),\n",
    "        ascending=widgets.ToggleButtons(\n",
    "            options=[True, False], description=\"Ascending:\"\n",
    "        ),\n",
    "        ylabel=widgets.fixed(f\"{y}_rate\"),\n",
    "        ylim_min=widgets.FloatText(\n",
    "            value=ylim_min,\n",
    "            description=\"Min y-scale:\",\n",
    "        ),\n",
    "        ylim_max=widgets.FloatText(\n",
    "            value=ylim_max,\n",
    "            description=\"Max y-scale:\",\n",
    "        ),\n",
    "    )"
   ]
  },
  {
   "cell_type": "markdown",
   "id": "cd96a4ed",
   "metadata": {},
   "source": [
    "# Load data with predictions"
   ]
  },
  {
   "cell_type": "code",
   "execution_count": null,
   "id": "a776540a",
   "metadata": {},
   "outputs": [],
   "source": [
    "predict_df = load_predictions_df(config)\n",
    "print(predict_df.shape)\n",
    "predict_df.head(3)"
   ]
  },
  {
   "cell_type": "markdown",
   "id": "1f8d0c59",
   "metadata": {},
   "source": [
    "# Compute overall PnL"
   ]
  },
  {
   "cell_type": "code",
   "execution_count": null,
   "id": "c0e507a4",
   "metadata": {},
   "outputs": [],
   "source": [
    "(\n",
    "    predict_df[config[\"column_names\"][\"y\"]]\n",
    "    * predict_df[config[\"column_names\"][\"y_hat\"]]\n",
    ").sum(axis=1).cumsum().plot()"
   ]
  },
  {
   "cell_type": "markdown",
   "id": "3d38a3ec",
   "metadata": {},
   "source": [
    "# Get data for analysis"
   ]
  },
  {
   "cell_type": "code",
   "execution_count": null,
   "id": "a08205b8",
   "metadata": {},
   "outputs": [],
   "source": [
    "metrics_df = preprocess_predictions_df(config, predict_df)\n",
    "metrics_df.head()"
   ]
  },
  {
   "cell_type": "code",
   "execution_count": null,
   "id": "2016ceb0",
   "metadata": {},
   "outputs": [],
   "source": [
    "# Reset index to ease further preprocessing.\n",
    "# TODO(Dan): Move index resetting under plotting funtions.\n",
    "metrics_df_reset_index = metrics_df.reset_index()"
   ]
  },
  {
   "cell_type": "markdown",
   "id": "88f725d6",
   "metadata": {},
   "source": [
    "# Stats"
   ]
  },
  {
   "cell_type": "code",
   "execution_count": null,
   "id": "f1876d33",
   "metadata": {},
   "outputs": [],
   "source": [
    "# Set oftenly used config parameters.\n",
    "asset_id = config[\"column_names\"][\"asset_id\"]\n",
    "timestamp = config[\"column_names\"][\"timestamp\"]\n",
    "volume = config[\"column_names\"][\"volume\"]\n",
    "y = config[\"column_names\"][\"y\"]\n",
    "y_hat = config[\"column_names\"][\"y_hat\"]\n",
    "hit = config[\"column_names\"][\"hit\"]\n",
    "trade_pnl = config[\"column_names\"][\"trade_pnl\"]\n",
    "#\n",
    "quantile_ranks = config[\"stats_kwargs\"][\"quantile_ranks\"]\n",
    "y_min_lim_hit_rate = config[\"plot_kwargs\"][\"y_min_lim_hit_rate\"]\n",
    "y_max_lim_hit_rate = config[\"plot_kwargs\"][\"y_max_lim_hit_rate\"]\n",
    "color = config[\"plot_kwargs\"][\"color\"]\n",
    "capsize = config[\"plot_kwargs\"][\"capsize\"]\n",
    "xticks_rotation = config[\"plot_kwargs\"][\"xticks_rotation\"]"
   ]
  },
  {
   "cell_type": "markdown",
   "id": "a9adc0d8",
   "metadata": {},
   "source": [
    "## By asset"
   ]
  },
  {
   "cell_type": "markdown",
   "id": "bef6de58",
   "metadata": {},
   "source": [
    "### Hit rate"
   ]
  },
  {
   "cell_type": "code",
   "execution_count": null,
   "id": "b1b5f58e",
   "metadata": {},
   "outputs": [],
   "source": [
    "widget_plot(\n",
    "    metrics_df_reset_index, asset_id, hit, y_min_lim_hit_rate, y_max_lim_hit_rate\n",
    ")"
   ]
  },
  {
   "cell_type": "markdown",
   "id": "00479511",
   "metadata": {},
   "source": [
    "### PnL"
   ]
  },
  {
   "cell_type": "code",
   "execution_count": null,
   "id": "6af3ce62",
   "metadata": {},
   "outputs": [],
   "source": [
    "# Compute PnL for each asset id.\n",
    "pnl_stats = (\n",
    "    metrics_df.groupby(asset_id)[trade_pnl].sum().sort_values(ascending=False)\n",
    ")\n",
    "pnl_stats = pnl_stats.to_frame().reset_index()\n",
    "\n",
    "# Plot PnL per asset id.\n",
    "widget_plot(pnl_stats, \"asset_id\", trade_pnl, 0, 450)"
   ]
  },
  {
   "cell_type": "code",
   "execution_count": null,
   "id": "d93b8335",
   "metadata": {},
   "outputs": [],
   "source": [
    "# Plot cumulative PnL over time per asset id.\n",
    "_ = metrics_df[trade_pnl].dropna().unstack().cumsum().plot()"
   ]
  },
  {
   "cell_type": "code",
   "execution_count": null,
   "id": "9fb8eabe",
   "metadata": {},
   "outputs": [],
   "source": [
    "# Plot average trade PnL per asset id.\n",
    "widget_plot(metrics_df_reset_index, asset_id, trade_pnl, 0, 0.005)"
   ]
  },
  {
   "cell_type": "markdown",
   "id": "e02e918e",
   "metadata": {},
   "source": [
    "### Sharpe Ratio"
   ]
  },
  {
   "cell_type": "code",
   "execution_count": null,
   "id": "fe1c0c81",
   "metadata": {},
   "outputs": [],
   "source": [
    "plot_sharpe_ratio(config, metrics_df_reset_index, asset_id)"
   ]
  },
  {
   "cell_type": "markdown",
   "id": "ebb2ad71",
   "metadata": {},
   "source": [
    "## By time"
   ]
  },
  {
   "cell_type": "code",
   "execution_count": null,
   "id": "2406cf0e",
   "metadata": {},
   "outputs": [],
   "source": [
    "metrics_df_reset_index[\"hour\"] = metrics_df_reset_index[timestamp].dt.hour\n",
    "metrics_df_reset_index[\"weekday\"] = metrics_df_reset_index[\n",
    "    timestamp\n",
    "].dt.day_name()\n",
    "metrics_df_reset_index[\"month\"] = metrics_df_reset_index[\n",
    "    timestamp\n",
    "].dt.month_name()"
   ]
  },
  {
   "cell_type": "markdown",
   "id": "4de2397a",
   "metadata": {},
   "source": [
    "### Hit Rate"
   ]
  },
  {
   "cell_type": "code",
   "execution_count": null,
   "id": "e4a7ed23",
   "metadata": {},
   "outputs": [],
   "source": [
    "widget_plot(\n",
    "    metrics_df_reset_index, \"hour\", hit, y_min_lim_hit_rate, y_max_lim_hit_rate\n",
    ")"
   ]
  },
  {
   "cell_type": "code",
   "execution_count": null,
   "id": "e417cbfc",
   "metadata": {},
   "outputs": [],
   "source": [
    "widget_plot(\n",
    "    metrics_df_reset_index, \"weekday\", hit, y_min_lim_hit_rate, y_max_lim_hit_rate\n",
    ")"
   ]
  },
  {
   "cell_type": "code",
   "execution_count": null,
   "id": "ad6db9a6",
   "metadata": {},
   "outputs": [],
   "source": [
    "widget_plot(\n",
    "    metrics_df_reset_index, \"month\", hit, y_min_lim_hit_rate, y_max_lim_hit_rate\n",
    ")"
   ]
  },
  {
   "cell_type": "markdown",
   "id": "a1ba14ac",
   "metadata": {},
   "source": [
    "### PnL"
   ]
  },
  {
   "cell_type": "code",
   "execution_count": null,
   "id": "aab697eb",
   "metadata": {},
   "outputs": [],
   "source": [
    "widget_plot(metrics_df_reset_index, \"hour\", trade_pnl, 0, 0.005)"
   ]
  },
  {
   "cell_type": "code",
   "execution_count": null,
   "id": "3f757fa0",
   "metadata": {},
   "outputs": [],
   "source": [
    "widget_plot(metrics_df_reset_index, \"weekday\", trade_pnl, 0, 0.004)"
   ]
  },
  {
   "cell_type": "code",
   "execution_count": null,
   "id": "30c83142",
   "metadata": {},
   "outputs": [],
   "source": [
    "widget_plot(metrics_df_reset_index, \"month\", trade_pnl, 0, 0.0055)"
   ]
  },
  {
   "cell_type": "markdown",
   "id": "f2199fad",
   "metadata": {},
   "source": [
    "### Sharpe Ratio"
   ]
  },
  {
   "cell_type": "code",
   "execution_count": null,
   "id": "877f6c95",
   "metadata": {},
   "outputs": [],
   "source": [
    "plot_sharpe_ratio(config, metrics_df_reset_index, \"hour\")"
   ]
  },
  {
   "cell_type": "code",
   "execution_count": null,
   "id": "ed16c402",
   "metadata": {},
   "outputs": [],
   "source": [
    "plot_sharpe_ratio(config, metrics_df_reset_index, \"weekday\")"
   ]
  },
  {
   "cell_type": "code",
   "execution_count": null,
   "id": "04a14177",
   "metadata": {},
   "outputs": [],
   "source": [
    "plot_sharpe_ratio(config, metrics_df_reset_index, \"month\")"
   ]
  },
  {
   "cell_type": "markdown",
   "id": "2c45a76a",
   "metadata": {},
   "source": [
    "## By prediction magnitude"
   ]
  },
  {
   "cell_type": "code",
   "execution_count": null,
   "id": "ca68ee01",
   "metadata": {},
   "outputs": [],
   "source": [
    "prediction_magnitude = \".\".join([y_hat, \"quantile_rank\"])\n",
    "metrics_df_reset_index[prediction_magnitude] = pd.qcut(\n",
    "    metrics_df_reset_index[y_hat], quantile_ranks, labels=False\n",
    ")"
   ]
  },
  {
   "cell_type": "markdown",
   "id": "6ef087c7",
   "metadata": {},
   "source": [
    "### Hit rate"
   ]
  },
  {
   "cell_type": "code",
   "execution_count": null,
   "id": "b8440c95",
   "metadata": {},
   "outputs": [],
   "source": [
    "widget_plot(\n",
    "    metrics_df_reset_index,\n",
    "    prediction_magnitude,\n",
    "    hit,\n",
    "    y_min_lim_hit_rate,\n",
    "    y_max_lim_hit_rate,\n",
    ")"
   ]
  },
  {
   "cell_type": "markdown",
   "id": "fbe1e578",
   "metadata": {},
   "source": [
    "### PnL"
   ]
  },
  {
   "cell_type": "code",
   "execution_count": null,
   "id": "fdb8a1b7",
   "metadata": {},
   "outputs": [],
   "source": [
    "widget_plot(metrics_df_reset_index, prediction_magnitude, trade_pnl, 0, 0.01)"
   ]
  },
  {
   "cell_type": "markdown",
   "id": "82a47a31",
   "metadata": {},
   "source": [
    "### Sharpe Ratio"
   ]
  },
  {
   "cell_type": "code",
   "execution_count": null,
   "id": "4b6c3663",
   "metadata": {},
   "outputs": [],
   "source": [
    "plot_sharpe_ratio(config, metrics_df_reset_index, prediction_magnitude)"
   ]
  },
  {
   "cell_type": "markdown",
   "id": "1b689693",
   "metadata": {},
   "source": [
    "## By volume"
   ]
  },
  {
   "cell_type": "code",
   "execution_count": null,
   "id": "eecade72",
   "metadata": {},
   "outputs": [],
   "source": [
    "volume_quantile = \".\".join([volume, \"quantile_rank\"])\n",
    "metrics_df_reset_index[volume_quantile] = metrics_df_reset_index.groupby(\n",
    "    asset_id\n",
    ")[volume].transform(lambda x: pd.qcut(x, quantile_ranks, labels=False))"
   ]
  },
  {
   "cell_type": "markdown",
   "id": "f6c7b2ad",
   "metadata": {},
   "source": [
    "### Hit rate"
   ]
  },
  {
   "cell_type": "code",
   "execution_count": null,
   "id": "0800f4fe",
   "metadata": {},
   "outputs": [],
   "source": [
    "widget_plot(\n",
    "    metrics_df_reset_index,\n",
    "    volume_quantile,\n",
    "    hit,\n",
    "    y_min_lim_hit_rate,\n",
    "    y_max_lim_hit_rate,\n",
    ")"
   ]
  },
  {
   "cell_type": "markdown",
   "id": "34dc2c05",
   "metadata": {},
   "source": [
    "### PnL"
   ]
  },
  {
   "cell_type": "code",
   "execution_count": null,
   "id": "e1710c59",
   "metadata": {},
   "outputs": [],
   "source": [
    "widget_plot(metrics_df_reset_index, volume_quantile, trade_pnl, 0.0005, 0.0045)"
   ]
  },
  {
   "cell_type": "markdown",
   "id": "763d33da",
   "metadata": {},
   "source": [
    "### Sharpe Ratio"
   ]
  },
  {
   "cell_type": "code",
   "execution_count": null,
   "id": "4b76228f",
   "metadata": {},
   "outputs": [],
   "source": [
    "plot_sharpe_ratio(config, metrics_df_reset_index, volume_quantile)"
   ]
  }
 ],
 "metadata": {
  "kernelspec": {
   "display_name": "Python 3 (ipykernel)",
   "language": "python",
   "name": "python3"
  },
  "language_info": {
   "codemirror_mode": {
    "name": "ipython",
    "version": 3
   },
   "file_extension": ".py",
   "mimetype": "text/x-python",
   "name": "python",
   "nbconvert_exporter": "python",
   "pygments_lexer": "ipython3"
  },
  "toc": {
   "base_numbering": 1,
   "nav_menu": {},
   "number_sections": true,
   "sideBar": true,
   "skip_h1_title": false,
   "title_cell": "Table of Contents",
   "title_sidebar": "Contents",
   "toc_cell": false,
   "toc_position": {
    "height": "calc(100% - 180px)",
    "left": "10px",
    "top": "150px",
    "width": "165px"
   },
   "toc_section_display": true,
   "toc_window_display": true
  }
 },
 "nbformat": 4,
 "nbformat_minor": 5
}
