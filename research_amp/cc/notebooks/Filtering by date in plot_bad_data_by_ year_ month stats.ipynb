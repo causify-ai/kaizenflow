{
 "cells": [
  {
   "cell_type": "code",
   "execution_count": 33,
   "id": "8dd0b5cb",
   "metadata": {
    "ExecuteTime": {
     "end_time": "2022-06-03T19:42:44.987393Z",
     "start_time": "2022-06-03T19:42:44.980835Z"
    }
   },
   "outputs": [],
   "source": [
    "import logging\n",
    "import matplotlib.dates as mdates\n",
    "import matplotlib.pyplot as plt\n",
    "import pandas as pd\n",
    "\n",
    "import helpers.hdbg as hdbg\n",
    "import helpers.henv as henv\n",
    "import helpers.hprint as hprint\n",
    "import im_v2.ccxt.data.client as icdcl"
   ]
  },
  {
   "cell_type": "code",
   "execution_count": 2,
   "id": "6675c4c4",
   "metadata": {
    "ExecuteTime": {
     "end_time": "2022-06-03T19:24:38.663417Z",
     "start_time": "2022-06-03T19:24:37.579877Z"
    }
   },
   "outputs": [
    {
     "name": "stdout",
     "output_type": "stream",
     "text": [
      "\u001b[0m\u001b[36mINFO\u001b[0m: > cmd='/venv/lib/python3.8/site-packages/ipykernel_launcher.py -f /home/.local/share/jupyter/runtime/kernel-79df2c54-c0cc-42b5-824e-8dd1211e4eea.json'\n",
      "WARNING: Running in Jupyter\n",
      "INFO  # Git\n",
      "    branch_name='filtering_by_date_in_plot_bad_data_by_year_month_stats'\n",
      "    hash='02a3c51da'\n",
      "    # Last commits:\n",
      "      * 02a3c51da Nina Lee suggestions for filtering by dates in `plot_bad_data_by_year_month_stats` (    2 days ago) Wed Jun 1 19:20:18 2022  (HEAD -> filtering_by_date_in_plot_bad_data_by_year_month_stats, origin/filtering_by_date_in_plot_bad_data_by_year_month_stats)\n",
      "      * a310e9261 Nina Lee suggestions for filtering by dates in `plot_bad_data_by_year_month_stats` (    2 days ago) Wed Jun 1 18:09:15 2022           \n",
      "      * 36f0da210 Nina Lee suggestions for filtering by dates in `plot_bad_data_by_year_month_stats` (    2 days ago) Wed Jun 1 18:07:46 2022           \n",
      "# Machine info\n",
      "    system=Linux\n",
      "    node name=7c8c883ade3f\n",
      "    release=5.13.0-1022-aws\n",
      "    version=#24~20.04.1-Ubuntu SMP Thu Apr 7 22:10:15 UTC 2022\n",
      "    machine=x86_64\n",
      "    processor=x86_64\n",
      "    cpu count=8\n",
      "    cpu freq=scpufreq(current=2499.998, min=0.0, max=0.0)\n",
      "    memory=svmem(total=33294798848, available=14001250304, percent=57.9, used=18513969152, free=1604136960, active=4834586624, inactive=24625803264, buffers=1560268800, cached=11616423936, shared=295182336, slab=1709293568)\n",
      "    disk usage=sdiskusage(total=156066836480, used=29342867456, free=126707191808, percent=18.8)\n",
      "# Packages\n",
      "    python: 3.8.10\n",
      "    gluonnlp: ?\n",
      "    gluonts: 0.6.7\n",
      "    joblib: 1.1.0\n",
      "    mxnet: 1.9.0\n",
      "    numpy: 1.22.3\n",
      "    pandas: 1.4.2\n",
      "    pyarrow: 7.0.0\n",
      "    scipy: 1.6.1\n",
      "    seaborn: 0.11.2\n",
      "    sklearn: 1.0.2\n",
      "    statsmodels: 0.13.2\n",
      "\u001b[33mWARNING\u001b[0m: Disabling annoying warnings\n"
     ]
    }
   ],
   "source": [
    "hdbg.init_logger(verbosity=logging.INFO)\n",
    "\n",
    "_LOG = logging.getLogger(__name__)\n",
    "\n",
    "_LOG.info(\"%s\", henv.get_system_signature()[0])\n",
    "\n",
    "hprint.config_notebook()"
   ]
  },
  {
   "cell_type": "code",
   "execution_count": 4,
   "id": "4b3bc1e0",
   "metadata": {
    "ExecuteTime": {
     "end_time": "2022-06-03T19:24:57.123497Z",
     "start_time": "2022-06-03T19:24:57.034171Z"
    }
   },
   "outputs": [],
   "source": [
    "resample_1min = True\n",
    "root_dir = \"s3://cryptokaizen-data/reorg/historical.manual.pq/\"\n",
    "partition = \"by_year_month\"\n",
    "universe_version = \"v3\"\n",
    "aws_profile = \"ck\"\n",
    "ccxt_historical_client = icdcl.ccxt_clients.CcxtHistoricalPqByTileClient(\n",
    "    universe_version,\n",
    "    resample_1min,\n",
    "    root_dir,\n",
    "    partition,\n",
    "    aws_profile=aws_profile,\n",
    ")"
   ]
  },
  {
   "cell_type": "code",
   "execution_count": 38,
   "id": "72ac6e54",
   "metadata": {
    "ExecuteTime": {
     "end_time": "2022-06-03T19:45:48.920156Z",
     "start_time": "2022-06-03T19:45:47.724791Z"
    }
   },
   "outputs": [
    {
     "data": {
      "text/html": [
       "<div>\n",
       "<style scoped>\n",
       "    .dataframe tbody tr th:only-of-type {\n",
       "        vertical-align: middle;\n",
       "    }\n",
       "\n",
       "    .dataframe tbody tr th {\n",
       "        vertical-align: top;\n",
       "    }\n",
       "\n",
       "    .dataframe thead th {\n",
       "        text-align: right;\n",
       "    }\n",
       "</style>\n",
       "<table border=\"1\" class=\"dataframe\">\n",
       "  <thead>\n",
       "    <tr style=\"text-align: right;\">\n",
       "      <th></th>\n",
       "      <th>full_symbol</th>\n",
       "      <th>open</th>\n",
       "      <th>high</th>\n",
       "      <th>low</th>\n",
       "      <th>close</th>\n",
       "      <th>volume</th>\n",
       "    </tr>\n",
       "    <tr>\n",
       "      <th>timestamp</th>\n",
       "      <th></th>\n",
       "      <th></th>\n",
       "      <th></th>\n",
       "      <th></th>\n",
       "      <th></th>\n",
       "      <th></th>\n",
       "    </tr>\n",
       "  </thead>\n",
       "  <tbody>\n",
       "    <tr>\n",
       "      <th>2018-08-17 00:00:00+00:00</th>\n",
       "      <td>binance::ADA_USDT</td>\n",
       "      <td>0.09460</td>\n",
       "      <td>0.09480</td>\n",
       "      <td>0.09442</td>\n",
       "      <td>0.09479</td>\n",
       "      <td>41334.2</td>\n",
       "    </tr>\n",
       "    <tr>\n",
       "      <th>2018-08-17 00:01:00+00:00</th>\n",
       "      <td>binance::ADA_USDT</td>\n",
       "      <td>0.09479</td>\n",
       "      <td>0.09480</td>\n",
       "      <td>0.09425</td>\n",
       "      <td>0.09473</td>\n",
       "      <td>98801.4</td>\n",
       "    </tr>\n",
       "    <tr>\n",
       "      <th>2018-08-17 00:02:00+00:00</th>\n",
       "      <td>binance::ADA_USDT</td>\n",
       "      <td>0.09434</td>\n",
       "      <td>0.09457</td>\n",
       "      <td>0.09421</td>\n",
       "      <td>0.09456</td>\n",
       "      <td>19992.1</td>\n",
       "    </tr>\n",
       "  </tbody>\n",
       "</table>\n",
       "</div>"
      ],
      "text/plain": [
       "                                 full_symbol     open     high      low    close   volume\n",
       "timestamp                                                                                \n",
       "2018-08-17 00:00:00+00:00  binance::ADA_USDT  0.09460  0.09480  0.09442  0.09479  41334.2\n",
       "2018-08-17 00:01:00+00:00  binance::ADA_USDT  0.09479  0.09480  0.09425  0.09473  98801.4\n",
       "2018-08-17 00:02:00+00:00  binance::ADA_USDT  0.09434  0.09457  0.09421  0.09456  19992.1"
      ]
     },
     "execution_count": 38,
     "metadata": {},
     "output_type": "execute_result"
    }
   ],
   "source": [
    "full_symbol = [\"binance::ADA_USDT\"]\n",
    "start_ts = pd.Timestamp(\"2018-08-17 00:00:00-0000\")\n",
    "end_ts = pd.Timestamp(\"2018-08-17 00:10:00-0000\")\n",
    "filter_data_mode = \"assert\"\n",
    "data = ccxt_historical_client.read_data(\n",
    "    full_symbol, start_ts, end_ts, columns=None, filter_data_mode=filter_data_mode\n",
    ")\n",
    "data.head(3)"
   ]
  },
  {
   "cell_type": "code",
   "execution_count": 40,
   "id": "b3e28f61",
   "metadata": {
    "ExecuteTime": {
     "end_time": "2022-06-03T19:46:07.523858Z",
     "start_time": "2022-06-03T19:46:07.190230Z"
    }
   },
   "outputs": [
    {
     "data": {
      "text/plain": [
       "<BarContainer object of 11 artists>"
      ]
     },
     "execution_count": 40,
     "metadata": {},
     "output_type": "execute_result"
    },
    {
     "data": {
      "image/png": "[encoded data removed]",
      "text/plain": [
       "<Figure size 720x432 with 1 Axes>"
      ]
     },
     "metadata": {},
     "output_type": "display_data"
    }
   ],
   "source": [
    "fig, ax = plt.subplots(figsize=(10, 6))\n",
    "ax.xaxis.set_major_formatter(mdates.DateFormatter('%Y-%m'))\n",
    "ax.bar(data.index, data['close'])"
   ]
  }
 ],
 "metadata": {
  "kernelspec": {
   "display_name": "Python 3 (ipykernel)",
   "language": "python",
   "name": "python3"
  },
  "language_info": {
   "codemirror_mode": {
    "name": "ipython",
    "version": 3
   },
   "file_extension": ".py",
   "mimetype": "text/x-python",
   "name": "python",
   "nbconvert_exporter": "python",
   "pygments_lexer": "ipython3",
   "version": "3.8.10"
  },
  "toc": {
   "base_numbering": 1,
   "nav_menu": {},
   "number_sections": true,
   "sideBar": true,
   "skip_h1_title": false,
   "title_cell": "Table of Contents",
   "title_sidebar": "Contents",
   "toc_cell": false,
   "toc_position": {},
   "toc_section_display": true,
   "toc_window_display": false
  }
 },
 "nbformat": 4,
 "nbformat_minor": 5
}
