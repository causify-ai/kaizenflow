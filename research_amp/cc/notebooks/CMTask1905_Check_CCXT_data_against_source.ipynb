{
 "cells": [
  {
   "cell_type": "markdown",
   "id": "e109da09",
   "metadata": {},
   "source": [
    "# Imports"
   ]
  },
  {
   "cell_type": "code",
   "execution_count": null,
   "id": "a3a449be",
   "metadata": {},
   "outputs": [],
   "source": [
    "import logging\n",
    "import time\n",
    "\n",
    "import ccxt\n",
    "import pandas as pd\n",
    "\n",
    "import core.config.config_ as cconconf\n",
    "import helpers.hdatetime as hdateti\n",
    "import helpers.hdbg as hdbg\n",
    "import helpers.henv as henv\n",
    "import helpers.hprint as hprint\n",
    "import helpers.hsecrets as hsecret\n",
    "import im_v2.ccxt.data.client as icdcl\n",
    "import im_v2.ccxt.data.extract.exchange_class as imvcdeexcl"
   ]
  },
  {
   "cell_type": "code",
   "execution_count": null,
   "id": "17adfb1c",
   "metadata": {},
   "outputs": [],
   "source": [
    "hdbg.init_logger(verbosity=logging.INFO)\n",
    "\n",
    "_LOG = logging.getLogger(__name__)\n",
    "\n",
    "_LOG.info(\"%s\", henv.get_system_signature()[0])\n",
    "\n",
    "hprint.config_notebook()"
   ]
  },
  {
   "cell_type": "code",
   "execution_count": null,
   "id": "62c8b3ce",
   "metadata": {},
   "outputs": [],
   "source": [
    "def get_cmtask1905_config_ccxt() -> cconconf.Config:\n",
    "    \"\"\"\n",
    "    Get task1905-specific config.\n",
    "    \"\"\"\n",
    "    config = cconconf.Config()\n",
    "    # Load parameters.\n",
    "    config.add_subconfig(\"load\")\n",
    "    config[\"load\"][\"aws_profile\"] = \"ck\"\n",
    "    #\n",
    "    config[\"load\"][\"data_dir\"] = \"s3://cryptokaizen-data/historical\"\n",
    "    # Data parameters.\n",
    "    config.add_subconfig(\"data\")\n",
    "    config[\"data\"][\"vendor\"] = \"CCXT\"\n",
    "    config[\"data\"][\"data_snapshot\"] = \"latest\"\n",
    "    config[\"data\"][\"version\"] = \"v3\"\n",
    "    config[\"data\"][\"resample_1min\"] = True\n",
    "    config[\"data\"][\"partition_mode\"] = \"by_year_month\"\n",
    "    config[\"data\"][\"start_ts\"] = None\n",
    "    config[\"data\"][\"end_ts\"] = None\n",
    "    config[\"data\"][\"columns\"] = None\n",
    "    config[\"data\"][\"filter_data_mode\"] = \"assert\"\n",
    "    return config"
   ]
  },
  {
   "cell_type": "code",
   "execution_count": null,
   "id": "adf95307",
   "metadata": {},
   "outputs": [],
   "source": [
    "config = get_cmtask1905_config_ccxt()\n",
    "print(config)"
   ]
  },
  {
   "cell_type": "markdown",
   "id": "e2727a68",
   "metadata": {},
   "source": [
    "# Functions"
   ]
  },
  {
   "cell_type": "code",
   "execution_count": null,
   "id": "aae084a7",
   "metadata": {},
   "outputs": [],
   "source": [
    "def _compute_frac_volume_0(\n",
    "    df: pd.DataFrame, year: int, month: int\n",
    ") -> pd.DataFrame:\n",
    "    \"\"\"\n",
    "    Compute data with volume = 0.\n",
    "\n",
    "    returns data for specific year and month and data with volume = 0.\n",
    "    \"\"\"\n",
    "    df = df.loc[(df.index.year == year) & (df.index.month == month)]\n",
    "    df_volume_0 = df.loc[df[\"volume\"] == 0]\n",
    "    return df, df_volume_0\n",
    "\n",
    "\n",
    "def _get_all_data(\n",
    "    exchange: ccxt.Exchange,\n",
    "    currency_pair: str,\n",
    "    start_timestamp: pd.Timestamp,\n",
    "    end_timestamp: pd.Timestamp,\n",
    ") -> pd.DataFrame:\n",
    "    \"\"\"\n",
    "    Get all data for exchange.\n",
    "    \"\"\"\n",
    "    start_timestamp = start_timestamp.asm8.astype(int) // 1000000\n",
    "    end_timestamp = end_timestamp.asm8.astype(int) // 1000000\n",
    "    all_bars = []\n",
    "    duration = exchange.parse_timeframe(\"1m\") * 100\n",
    "    for t in range(\n",
    "        start_timestamp,\n",
    "        end_timestamp + duration,\n",
    "        duration * 500,\n",
    "    ):\n",
    "        bars = _load_ccxt_data(currency_pair, t, exchange)\n",
    "        all_bars.append(bars)\n",
    "        time.sleep(1)\n",
    "    all_data = pd.concat(all_bars)\n",
    "    return all_data\n",
    "\n",
    "\n",
    "def _load_ccxt_data(\n",
    "    currency_pair: str, since: \"start timestamp\", exchange: ccxt.Exchange\n",
    "):\n",
    "    \"\"\"\n",
    "    Load data from CCXT.\n",
    "    \"\"\"\n",
    "    ccxt_data = exchange.fetch_ohlcv(\n",
    "        currency_pair, timeframe=\"1m\", since=since, limit=500\n",
    "    )\n",
    "    columns = [\"timestamp\", \"open\", \"high\", \"low\", \"close\", \"volume\"]\n",
    "    bars = pd.DataFrame(ccxt_data, columns=columns)\n",
    "    return bars\n",
    "\n",
    "\n",
    "def _log_into_exchange(exchange: str) -> ccxt.Exchange:\n",
    "    \"\"\"\n",
    "    Log into an exchange via CCXT and return the corresponding `ccxt.Exchange`\n",
    "    object.\n",
    "    \"\"\"\n",
    "    # Select credentials for provided exchange.\n",
    "    credentials = hsecret.get_secret(exchange)\n",
    "    # Enable rate limit.\n",
    "    credentials[\"rateLimit\"] = True\n",
    "    exchange_class = getattr(ccxt, exchange)\n",
    "    # Create a CCXT Exchange class object.\n",
    "    exchange = exchange_class(credentials)\n",
    "    hdbg.dassert(\n",
    "        exchange.checkRequiredCredentials(),\n",
    "        msg=\"Required credentials not passed\",\n",
    "    )\n",
    "    return exchange\n",
    "\n",
    "\n",
    "def _set_index_ts(df: pd.DataFrame) -> pd.DataFrame:\n",
    "    \"\"\"\n",
    "    Convert epoch column to timestamp index.\n",
    "    \"\"\"\n",
    "    df[\"timestamp\"] = df[\"timestamp\"].apply(\n",
    "        lambda x: hdateti.convert_unix_epoch_to_timestamp(x)\n",
    "    )\n",
    "    df = df.set_index(\"timestamp\")\n",
    "    return df"
   ]
  },
  {
   "cell_type": "markdown",
   "id": "096ad2f5",
   "metadata": {},
   "source": [
    "# CcxtHistoricalPqByTileClient"
   ]
  },
  {
   "cell_type": "code",
   "execution_count": null,
   "id": "3c0dd41b",
   "metadata": {},
   "outputs": [],
   "source": [
    "client = icdcl.CcxtHistoricalPqByTileClient(\n",
    "    config[\"data\"][\"version\"],\n",
    "    config[\"data\"][\"resample_1min\"],\n",
    "    config[\"load\"][\"data_dir\"],\n",
    "    config[\"data\"][\"partition_mode\"],\n",
    "    aws_profile=config[\"load\"][\"aws_profile\"],\n",
    ")"
   ]
  },
  {
   "cell_type": "code",
   "execution_count": null,
   "id": "2723e4d9",
   "metadata": {},
   "outputs": [],
   "source": [
    "universe = client.get_universe()\n",
    "universe"
   ]
  },
  {
   "cell_type": "markdown",
   "id": "975e2f5e",
   "metadata": {},
   "source": [
    "# Binance::DOGE_USDT"
   ]
  },
  {
   "cell_type": "code",
   "execution_count": null,
   "id": "001233de",
   "metadata": {},
   "outputs": [],
   "source": [
    "full_symbol_binance = [\"binance::DOGE_USDT\"]\n",
    "binance_data = client.read_data(\n",
    "    full_symbol_binance,\n",
    "    config[\"data\"][\"start_ts\"],\n",
    "    config[\"data\"][\"end_ts\"],\n",
    "    config[\"data\"][\"columns\"],\n",
    "    config[\"data\"][\"filter_data_mode\"],\n",
    ")"
   ]
  },
  {
   "cell_type": "code",
   "execution_count": null,
   "id": "cde7b6b2",
   "metadata": {},
   "outputs": [],
   "source": [
    "binance_2019_09, binance_2019_09_volume_0 = _compute_frac_volume_0(\n",
    "    binance_data, 2019, 9\n",
    ")\n",
    "binance_2019_09.head(3)"
   ]
  },
  {
   "cell_type": "code",
   "execution_count": null,
   "id": "870018f1",
   "metadata": {},
   "outputs": [],
   "source": [
    "binance_2019_09_volume_0.head(3)"
   ]
  },
  {
   "cell_type": "markdown",
   "id": "effdb9da",
   "metadata": {},
   "source": [
    "# Extractor"
   ]
  },
  {
   "cell_type": "code",
   "execution_count": null,
   "id": "7d7a0f07",
   "metadata": {},
   "outputs": [],
   "source": [
    "ccxt_binance_DOGE_exchange = imvcdeexcl.CcxtExchange(\"binance\")"
   ]
  },
  {
   "cell_type": "code",
   "execution_count": null,
   "id": "62479611",
   "metadata": {},
   "outputs": [],
   "source": [
    "currency_pair_binance = \"DOGE/USDT\"\n",
    "start_timestamp = pd.Timestamp(\"2019-09-01 00:00:00+00:00\")\n",
    "end_timestamp = pd.Timestamp(\"2019-09-30 23:59:59+00:00\")\n",
    "sleep_time_in_secs = 1\n",
    "ccxt_binance_DOGE = ccxt_binance_DOGE_exchange.download_ohlcv_data(\n",
    "    currency_pair_binance,\n",
    "    start_timestamp=start_timestamp,\n",
    "    end_timestamp=end_timestamp,\n",
    "    sleep_time_in_secs=sleep_time_in_secs,\n",
    ")"
   ]
  },
  {
   "cell_type": "code",
   "execution_count": null,
   "id": "a8a26f9c",
   "metadata": {},
   "outputs": [],
   "source": [
    "ccxt_binance_DOGE = _set_index_ts(ccxt_binance_DOGE)\n",
    "ccxt_binance_DOGE, ccxt_binance_DOGE_volume_0 = _compute_frac_volume_0(\n",
    "    ccxt_binance_DOGE, 2019, 9\n",
    ")\n",
    "ccxt_binance_DOGE.head(3)"
   ]
  },
  {
   "cell_type": "code",
   "execution_count": null,
   "id": "dc997859",
   "metadata": {},
   "outputs": [],
   "source": [
    "ccxt_binance_DOGE_volume_0.head(3)"
   ]
  },
  {
   "cell_type": "markdown",
   "id": "4f1ea33e",
   "metadata": {},
   "source": [
    "Where`volume = 0`, data from columns `open`, `high`, `low`, `close` is exactly the same from previous row where `volume != 0`. It could mean that `volume = 0` rows are `NaNs` at the source, so it could be the way exchange handles missing data."
   ]
  },
  {
   "cell_type": "markdown",
   "id": "47d1d8fd",
   "metadata": {},
   "source": [
    "# CCXT w/o Extractor"
   ]
  },
  {
   "cell_type": "code",
   "execution_count": null,
   "id": "5e5102c2",
   "metadata": {},
   "outputs": [],
   "source": [
    "ccxt_exchange = _log_into_exchange(\"binance\")\n",
    "start_ts = pd.Timestamp(\"2019-09-01 00:00:00+00:00\")\n",
    "end_ts = pd.Timestamp(\"2019-09-30 23:59:59+00:00\")\n",
    "ccxt_df = _get_all_data(\n",
    "    ccxt_exchange, currency_pair_binance, start_ts, end_ts\n",
    ")\n",
    "ccxt_df = _set_index_ts(ccxt_df)\n",
    "ccxt_df, ccxt_df_volume_0 = _compute_frac_volume_0(ccxt_df, 2019, 9)\n",
    "ccxt_df"
   ]
  },
  {
   "cell_type": "code",
   "execution_count": null,
   "id": "d0c8ca71",
   "metadata": {},
   "outputs": [],
   "source": [
    "ccxt_df_volume_0.head(3)"
   ]
  },
  {
   "cell_type": "markdown",
   "id": "dfeb34ca",
   "metadata": {},
   "source": [
    "# Summary"
   ]
  },
  {
   "cell_type": "markdown",
   "id": "a516a70e",
   "metadata": {},
   "source": [
    "\n",
    "|CCXT | | ||            Extractor    | | | |Client | | |\n",
    "|------|--|-||-------------|-|-|-|------|-|-|\n",
    "|date|Number of NaN rows %|    Total number of rows| `volume=0` %    |Number of NaN rows %|    Total number of rows| `volume=0` %| Number of NaN rows %|    Total number of rows| `volume=0` %|\n",
    "|2019-09|    0          |                       429750|          73.22%       |    0          |                       43200|          73.3%   |      0|                43200| 73.3%|\n"
   ]
  },
  {
   "cell_type": "markdown",
   "id": "5c8cbf00",
   "metadata": {},
   "source": [
    "- The huge amount of data from CCXT is duplicates. Unique values are 43200.\n",
    "- Where volume = 0, data from columns open, high, low, close is exactly the same from previous row where volume != 0. It could mean that volume = 0 rows are NaNs at the source, so it could be the way exchange handles missing data."
   ]
  },
  {
   "cell_type": "markdown",
   "id": "ca345db7",
   "metadata": {},
   "source": [
    "# ftx::BTC_USDT"
   ]
  },
  {
   "cell_type": "markdown",
   "id": "51b44251",
   "metadata": {},
   "source": [
    "## Client"
   ]
  },
  {
   "cell_type": "code",
   "execution_count": null,
   "id": "a4eb6366",
   "metadata": {},
   "outputs": [],
   "source": [
    "full_symbol_ftx = [\"ftx::BTC_USDT\"]\n",
    "ftx_data = client.read_data(\n",
    "    full_symbol_ftx,\n",
    "    config[\"data\"][\"start_ts\"],\n",
    "    config[\"data\"][\"end_ts\"],\n",
    "    config[\"data\"][\"columns\"],\n",
    "    config[\"data\"][\"filter_data_mode\"],\n",
    ")"
   ]
  },
  {
   "cell_type": "code",
   "execution_count": null,
   "id": "481783e4",
   "metadata": {},
   "outputs": [],
   "source": [
    "ftx_2020_04, ftx_2020_04_volume_0 = _compute_frac_volume_0(ftx_data, 2020, 4)\n",
    "ftx_2020_04.head(3)"
   ]
  },
  {
   "cell_type": "code",
   "execution_count": null,
   "id": "7ba87708",
   "metadata": {},
   "outputs": [],
   "source": [
    "ftx_2020_04_volume_0.head(3)"
   ]
  },
  {
   "cell_type": "code",
   "execution_count": null,
   "id": "7e1a05c8",
   "metadata": {},
   "outputs": [],
   "source": [
    "ftx_2020_04.loc[ftx_2020_04[\"open\"].isna()]"
   ]
  },
  {
   "cell_type": "markdown",
   "id": "120ecbf2",
   "metadata": {},
   "source": [
    "## Extractor"
   ]
  },
  {
   "cell_type": "code",
   "execution_count": null,
   "id": "0ea7265b",
   "metadata": {},
   "outputs": [],
   "source": [
    "ccxt_ftx_BTC_exchange = imvcdeexcl.CcxtExchange(\"ftx\")\n",
    "currency_pair_ftx = \"BTC/USDT\"\n",
    "start_timestamp = pd.Timestamp(\"2020-04-01 00:00:00+00:00\")\n",
    "end_timestamp = pd.Timestamp(\"2020-04-30 23:59:59+00:00\")\n",
    "sleep_time_in_secs = 1\n",
    "ccxt_ftx_BTC = ccxt_ftx_BTC_exchange.download_ohlcv_data(\n",
    "    currency_pair_ftx,\n",
    "    start_timestamp=start_timestamp,\n",
    "    end_timestamp=end_timestamp,\n",
    "    sleep_time_in_secs=sleep_time_in_secs,\n",
    ")"
   ]
  },
  {
   "cell_type": "code",
   "execution_count": null,
   "id": "ade5922f",
   "metadata": {},
   "outputs": [],
   "source": [
    "ccxt_ftx_BTC = _set_index_ts(ccxt_ftx_BTC)\n",
    "ccxt_ftx_BTC, ccxt_ftx_BTC_volume_0 = _compute_frac_volume_0(\n",
    "    ccxt_ftx_BTC, 2020, 4\n",
    ")\n",
    "ccxt_ftx_BTC.head(3)"
   ]
  },
  {
   "cell_type": "code",
   "execution_count": null,
   "id": "4d0fa2bc",
   "metadata": {},
   "outputs": [],
   "source": [
    "ccxt_ftx_BTC_volume_0.loc[ccxt_ftx_BTC[\"high\"] == 7493.50000000].head(3)"
   ]
  },
  {
   "cell_type": "code",
   "execution_count": null,
   "id": "97a68fca",
   "metadata": {},
   "outputs": [],
   "source": [
    "ccxt_ftx_BTC.loc[(ccxt_ftx_BTC.index.day == 25) & (ccxt_ftx_BTC.index.hour == 3)][\n",
    "    30:43\n",
    "]"
   ]
  },
  {
   "cell_type": "markdown",
   "id": "b655bd6e",
   "metadata": {},
   "source": [
    "So far `ftx` doesn't have same pattern as `binance` where `volume=0` rows have values from the last non-`volume=0` row."
   ]
  },
  {
   "cell_type": "markdown",
   "id": "541798b3",
   "metadata": {},
   "source": [
    "## CCXT w/o Extractor"
   ]
  },
  {
   "cell_type": "code",
   "execution_count": null,
   "id": "0728d4c9",
   "metadata": {},
   "outputs": [],
   "source": [
    "ccxt_exchange_ftx = _log_into_exchange(\"ftx\")\n",
    "start_ts = pd.Timestamp(\"2019-04-01 00:00:00+00:00\")\n",
    "end_ts = pd.Timestamp(\"2019-04-30 23:59:59+00:00\")\n",
    "ccxt_df_ftx = _get_all_data(\n",
    "    ccxt_exchange_ftx, currency_pair_ftx, start_ts, end_ts\n",
    ")\n",
    "ccxt_df_ftx = _set_index_ts(ccxt_df_ftx)\n",
    "ccxt_df_ftx, ccxt_df_ftx_volume_0 = _compute_frac_volume_0(ccxt_df_ftx, 2020, 4)\n",
    "print(len(ccxt_df_ftx.index.unique()))\n",
    "display(ccxt_df_ftx.head(3))"
   ]
  },
  {
   "cell_type": "code",
   "execution_count": null,
   "id": "2a984785",
   "metadata": {},
   "outputs": [],
   "source": [
    "ccxt_df_ftx_volume_0.head(3)"
   ]
  },
  {
   "cell_type": "markdown",
   "id": "cb7268ef",
   "metadata": {},
   "source": [
    "\n",
    "|CCXT | | ||            Extractor    | | | |Client | | |\n",
    "|------|--|-||-------------|-|-|-|------|-|-|\n",
    "|date|Number of NaN rows %|    Total number of rows| `volume=0` %    |Number of NaN rows %|    Total number of rows| `volume=0` %| Number of NaN rows %|    Total number of rows| `volume=0` %|\n",
    "|2020-04|    0          |                       429750|          86.09%       |    0          |                       43200|          85.97%   |      0|                43200| 85.97%|\n"
   ]
  },
  {
   "cell_type": "markdown",
   "id": "10a5f26c",
   "metadata": {},
   "source": [
    "# gateio::ETH_USDT w/o `volume = 0` in data"
   ]
  },
  {
   "cell_type": "markdown",
   "id": "dcb9b037",
   "metadata": {},
   "source": [
    "`gateio` data has weird statistics: no `volume = 0` and still tons of `NaNs`; has `volume = 0` and different amount of `NaNs`, i.e not like the others exchange pattern above. So decided to take a look at two currency pairs with different patterns."
   ]
  },
  {
   "cell_type": "markdown",
   "id": "14b1b494",
   "metadata": {},
   "source": [
    "## Client"
   ]
  },
  {
   "cell_type": "code",
   "execution_count": null,
   "id": "0f6ff229",
   "metadata": {},
   "outputs": [],
   "source": [
    "full_symbols_gateio = [\"gateio::ETH_USDT\", \"gateio::ADA_USDT\"]\n",
    "gateio_data = client.read_data(\n",
    "    [full_symbols_gateio[0]],\n",
    "    config[\"data\"][\"start_ts\"],\n",
    "    config[\"data\"][\"end_ts\"],\n",
    "    config[\"data\"][\"columns\"],\n",
    "    config[\"data\"][\"filter_data_mode\"],\n",
    ")"
   ]
  },
  {
   "cell_type": "markdown",
   "id": "8442fbd6",
   "metadata": {},
   "source": [
    "### 100% of `NaNs`"
   ]
  },
  {
   "cell_type": "code",
   "execution_count": null,
   "id": "4058d004",
   "metadata": {},
   "outputs": [],
   "source": [
    "gateio_data_2021_10, _ = _compute_frac_volume_0(gateio_data, 2021, 10)\n",
    "gateio_data_2021_10.head(3)"
   ]
  },
  {
   "cell_type": "code",
   "execution_count": null,
   "id": "5fe90e4d",
   "metadata": {},
   "outputs": [],
   "source": [
    "gateio_data_2021_10.isna().value_counts()"
   ]
  },
  {
   "cell_type": "markdown",
   "id": "19cec1f8",
   "metadata": {},
   "source": [
    "### 34.46% of `NaNs`"
   ]
  },
  {
   "cell_type": "code",
   "execution_count": null,
   "id": "65f1c9d6",
   "metadata": {},
   "outputs": [],
   "source": [
    "gateio_data_2021_09, _ = _compute_frac_volume_0(gateio_data, 2021, 9)\n",
    "gateio_data_2021_09.head(3)"
   ]
  },
  {
   "cell_type": "code",
   "execution_count": null,
   "id": "f12c7123",
   "metadata": {},
   "outputs": [],
   "source": [
    "gateio_data_2021_09.isna().value_counts()"
   ]
  },
  {
   "cell_type": "markdown",
   "id": "e7842b09",
   "metadata": {},
   "source": [
    "### No `NaNs`"
   ]
  },
  {
   "cell_type": "code",
   "execution_count": null,
   "id": "8796d47f",
   "metadata": {},
   "outputs": [],
   "source": [
    "gateio_data.loc[\n",
    "    (gateio_data.index.year == 2021) & (gateio_data.index.month == 12)\n",
    "].head(3)"
   ]
  },
  {
   "cell_type": "markdown",
   "id": "30e46f06",
   "metadata": {},
   "source": [
    "At first look, `NaNs` appear because of some kind of problem at the source. According to Dan's tables all currency pairs have ~34-39% of `NaNs` for the period from September to November. October data has 100% of `NaNs` for all currency pairs of `gateio` so that definitely could be a technical issue at the exchange."
   ]
  },
  {
   "cell_type": "markdown",
   "id": "616bb530",
   "metadata": {},
   "source": [
    "## Extractor"
   ]
  },
  {
   "cell_type": "code",
   "execution_count": null,
   "id": "c1258435",
   "metadata": {},
   "outputs": [],
   "source": [
    "ccxt_gateio_ETH_exchange = imvcdeexcl.CcxtExchange(\"gateio\")\n",
    "currency_pair_gateio = [\"ETH/USDT\", \"ADA/USDT\"]\n",
    "start_timestamp = pd.Timestamp(\"2021-09-01 00:00:00+00:00\")\n",
    "end_timestamp = pd.Timestamp(\"2021-09-30 23:59:59+00:00\")\n",
    "sleep_time_in_secs = 1\n",
    "ccxt_gateio_ETH = ccxt_gateio_ETH_exchange.download_ohlcv_data(\n",
    "    currency_pair_gateio[0],\n",
    "    start_timestamp=start_timestamp,\n",
    "    end_timestamp=end_timestamp,\n",
    "    sleep_time_in_secs=sleep_time_in_secs,\n",
    ")"
   ]
  },
  {
   "cell_type": "code",
   "execution_count": null,
   "id": "6399f295",
   "metadata": {},
   "outputs": [],
   "source": [
    "ccxt_gateio_ETH"
   ]
  },
  {
   "cell_type": "code",
   "execution_count": null,
   "id": "d5ba4bec",
   "metadata": {},
   "outputs": [],
   "source": [
    "start_timestamp = pd.Timestamp(\"2021-10-01 00:00:00+00:00\")\n",
    "end_timestamp = pd.Timestamp(\"2021-10-31 23:59:59+00:00\")\n",
    "sleep_time_in_secs = 1\n",
    "ccxt_gateio_ETH_10 = ccxt_gateio_ETH_exchange.download_ohlcv_data(\n",
    "    currency_pair_gateio[0],\n",
    "    start_timestamp=start_timestamp,\n",
    "    end_timestamp=end_timestamp,\n",
    "    sleep_time_in_secs=sleep_time_in_secs,\n",
    ")"
   ]
  },
  {
   "cell_type": "code",
   "execution_count": null,
   "id": "47662527",
   "metadata": {},
   "outputs": [],
   "source": [
    "ccxt_gateio_ETH_10"
   ]
  },
  {
   "cell_type": "code",
   "execution_count": null,
   "id": "8d921ba7",
   "metadata": {},
   "outputs": [],
   "source": [
    "start_timestamp = pd.Timestamp(\"2021-12-01 00:00:00+00:00\")\n",
    "end_timestamp = pd.Timestamp(\"2021-12-31 23:59:59+00:00\")\n",
    "sleep_time_in_secs = 1\n",
    "ccxt_gateio_ETH_12 = ccxt_gateio_ETH_exchange.download_ohlcv_data(\n",
    "    currency_pair_gateio[0],\n",
    "    start_timestamp=start_timestamp,\n",
    "    end_timestamp=end_timestamp,\n",
    "    sleep_time_in_secs=sleep_time_in_secs,\n",
    ")"
   ]
  },
  {
   "cell_type": "code",
   "execution_count": null,
   "id": "d9699e92",
   "metadata": {},
   "outputs": [],
   "source": [
    "ccxt_gateio_ETH_12"
   ]
  },
  {
   "cell_type": "markdown",
   "id": "786d4f8c",
   "metadata": {},
   "source": [
    "There is no data coming from `Extractor` but somehow we have it on S3. I could say exchange has an expiration date for data."
   ]
  },
  {
   "cell_type": "code",
   "execution_count": null,
   "id": "d03dec1b",
   "metadata": {},
   "outputs": [],
   "source": [
    "# Load recent data to make sure API and Exctractor are working.\n",
    "start_timestamp = pd.Timestamp(\"2022-04-25 00:00:00+00:00\")\n",
    "end_timestamp = pd.Timestamp(\"2022-05-14 23:59:59+00:00\")\n",
    "sleep_time_in_secs = 1\n",
    "ccxt_gateio_ETH_2022 = ccxt_gateio_ETH_exchange.download_ohlcv_data(\n",
    "    currency_pair_gateio[0],\n",
    "    start_timestamp=start_timestamp,\n",
    "    end_timestamp=end_timestamp,\n",
    "    sleep_time_in_secs=sleep_time_in_secs,\n",
    ")"
   ]
  },
  {
   "cell_type": "code",
   "execution_count": null,
   "id": "d214303f",
   "metadata": {},
   "outputs": [],
   "source": [
    "ccxt_gateio_ETH_2022.head(3)"
   ]
  },
  {
   "cell_type": "markdown",
   "id": "3de1c111",
   "metadata": {},
   "source": [
    "## CCXT w/o Extractor"
   ]
  },
  {
   "cell_type": "markdown",
   "id": "f35e002e",
   "metadata": {},
   "source": [
    "Take a look at one month of 2021, if it's empty, it has so called an expiration date."
   ]
  },
  {
   "cell_type": "code",
   "execution_count": null,
   "id": "7cfb4992",
   "metadata": {},
   "outputs": [],
   "source": [
    "ccxt_exchange = _log_into_exchange(\"gateio\")\n",
    "start_ts = pd.Timestamp(\"2021-09-01 00:00:00+00:00\")\n",
    "end_ts = pd.Timestamp(\"20121-09-30 23:59:59+00:00\")\n",
    "ccxt_df = _get_all_data(\n",
    "    ccxt_exchange, currency_pair_gateio[0], start_ts, end_ts\n",
    ")\n",
    "ccxt_df"
   ]
  },
  {
   "cell_type": "markdown",
   "id": "ecd8c53a",
   "metadata": {},
   "source": [
    "### Summary for `gateio` `volume != 0` data."
   ]
  },
  {
   "cell_type": "markdown",
   "id": "d262027f",
   "metadata": {},
   "source": [
    "- Exchange has an expiration date for data because data we have no longer exist at the source. Here could be useful `end_download_timestamp` column for data we store on S3, just to confirm the statement or vice versa.\n",
    "- October data has 100% of NaNs for all currency pairs of gateio. Based on that, it could be a technical issue at the exchange."
   ]
  },
  {
   "cell_type": "markdown",
   "id": "f112eb74",
   "metadata": {},
   "source": [
    "# gateio::ADA_USDT with `volume = 0` in data"
   ]
  },
  {
   "cell_type": "markdown",
   "id": "d813cded",
   "metadata": {},
   "source": [
    "## Client"
   ]
  },
  {
   "cell_type": "code",
   "execution_count": null,
   "id": "897889a2",
   "metadata": {},
   "outputs": [],
   "source": [
    "gateio_ADA_data = client.read_data(\n",
    "    [full_symbols_gateio[1]],\n",
    "    config[\"data\"][\"start_ts\"],\n",
    "    config[\"data\"][\"end_ts\"],\n",
    "    config[\"data\"][\"columns\"],\n",
    "    config[\"data\"][\"filter_data_mode\"],\n",
    ")"
   ]
  },
  {
   "cell_type": "code",
   "execution_count": null,
   "id": "0d19fcf3",
   "metadata": {},
   "outputs": [],
   "source": [
    "# `volume = 0` != % of bad data (at Dan's tables)\n",
    "(\n",
    "    gateio_ADA_data_2021_09,\n",
    "    gateio_ADA_data_2021_09_volume_0,\n",
    ") = _compute_frac_volume_0(gateio_ADA_data, 2021, 9)\n",
    "gateio_ADA_data_2021_09.head(3)"
   ]
  },
  {
   "cell_type": "code",
   "execution_count": null,
   "id": "8a8c3cdf",
   "metadata": {},
   "outputs": [],
   "source": [
    "gateio_ADA_data_2021_09_volume_0"
   ]
  },
  {
   "cell_type": "code",
   "execution_count": null,
   "id": "bb4e7236",
   "metadata": {},
   "outputs": [],
   "source": [
    "gateio_ADA_data_2021_09.loc[\n",
    "    (gateio_ADA_data_2021_09.index.day == 5)\n",
    "    & (gateio_ADA_data_2021_09.index.hour == 3)\n",
    "].tail(3)"
   ]
  },
  {
   "cell_type": "code",
   "execution_count": null,
   "id": "9cd8dfbf",
   "metadata": {},
   "outputs": [],
   "source": [
    "# `volume = 0` has the same % as bad data\n",
    "(\n",
    "    gateio_ADA_data_2021_07,\n",
    "    gateio_ADA_data_2021_07_volume_0,\n",
    ") = _compute_frac_volume_0(gateio_ADA_data, 2021, 7)\n",
    "gateio_ADA_data_2021_07.head(3)"
   ]
  },
  {
   "cell_type": "code",
   "execution_count": null,
   "id": "504ff1cf",
   "metadata": {},
   "outputs": [],
   "source": [
    "gateio_ADA_data_2021_07_volume_0[:10]"
   ]
  },
  {
   "cell_type": "code",
   "execution_count": null,
   "id": "383a869c",
   "metadata": {},
   "outputs": [],
   "source": [
    "gateio_ADA_data_2021_07.loc[\n",
    "    gateio_ADA_data_2021_07.index >= \"2021-07-03 09:20:00+00:00\"\n",
    "].head(10)"
   ]
  },
  {
   "cell_type": "markdown",
   "id": "85115eb9",
   "metadata": {},
   "source": [
    "A pattern where `volume = 0` rows have value for all columns from column `close` of the last non-`volume = 0` row."
   ]
  },
  {
   "cell_type": "markdown",
   "id": "bcb16845",
   "metadata": {},
   "source": [
    "## Extractor"
   ]
  },
  {
   "cell_type": "code",
   "execution_count": null,
   "id": "85792ce5",
   "metadata": {},
   "outputs": [],
   "source": [
    "# TODO(Nina): Change name of var `ccxt_gateio_ETH_exchange`.\n",
    "start_timestamp = pd.Timestamp(\"2021-07-01 00:00:00+00:00\")\n",
    "end_timestamp = pd.Timestamp(\"2021-07-31 23:59:59+00:00\")\n",
    "sleep_time_in_secs = 1\n",
    "ccxt_gateio_ADA = ccxt_gateio_ETH_exchange.download_ohlcv_data(\n",
    "    currency_pair_gateio[1],\n",
    "    start_timestamp=start_timestamp,\n",
    "    end_timestamp=end_timestamp,\n",
    "    sleep_time_in_secs=sleep_time_in_secs,\n",
    ")"
   ]
  },
  {
   "cell_type": "code",
   "execution_count": null,
   "id": "8d9deb2f",
   "metadata": {},
   "outputs": [],
   "source": [
    "ccxt_gateio_ADA"
   ]
  },
  {
   "cell_type": "markdown",
   "id": "139552be",
   "metadata": {},
   "source": [
    "I think there's no sense to continue with `gateio` analysis, or we can check up the data for 2022."
   ]
  },
  {
   "cell_type": "markdown",
   "id": "c9942ab9",
   "metadata": {},
   "source": [
    "## Summary for `gateio`"
   ]
  },
  {
   "cell_type": "markdown",
   "id": "eb4b6c56",
   "metadata": {},
   "source": [
    "- Small amount of useful data according to Dan's tables for the gateio.\n",
    "- Data has a pattern where `volume = 0` rows store value for all columns from column `close` of the last non-`volume = 0` row.\n",
    "- Data has an expiration date because data we have no longer exist at the source. Here could be useful `end_download_timestamp` column for data we store on S3, just to confirm the statement or vice versa.\n",
    "- October data has 100% of NaNs for all currency pairs of gateio. Based on that, it could be a technical issue at the exchange."
   ]
  }
 ],
 "metadata": {
  "kernelspec": {
   "display_name": "Python 3 (ipykernel)",
   "language": "python",
   "name": "python3"
  },
  "language_info": {
   "codemirror_mode": {
    "name": "ipython",
    "version": 3
   },
   "file_extension": ".py",
   "mimetype": "text/x-python",
   "name": "python",
   "nbconvert_exporter": "python",
   "pygments_lexer": "ipython3"
  },
  "toc": {
   "base_numbering": 1,
   "nav_menu": {},
   "number_sections": true,
   "sideBar": true,
   "skip_h1_title": false,
   "title_cell": "Table of Contents",
   "title_sidebar": "Contents",
   "toc_cell": false,
   "toc_position": {},
   "toc_section_display": true,
   "toc_window_display": false
  }
 },
 "nbformat": 4,
 "nbformat_minor": 5
}
