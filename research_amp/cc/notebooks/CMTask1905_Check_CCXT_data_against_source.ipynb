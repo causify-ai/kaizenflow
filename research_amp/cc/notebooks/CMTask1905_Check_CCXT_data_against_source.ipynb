{
 "cells": [
  {
   "cell_type": "code",
   "execution_count": null,
   "id": "adb9ba7c",
   "metadata": {},
   "outputs": [],
   "source": [
    "%load_ext autoreload\n",
    "%autoreload 2\n",
    "%matplotlib inline"
   ]
  },
  {
   "cell_type": "markdown",
   "id": "e109da09",
   "metadata": {},
   "source": [
    "# Imports"
   ]
  },
  {
   "cell_type": "code",
   "execution_count": null,
   "id": "a3a449be",
   "metadata": {},
   "outputs": [],
   "source": [
    "import logging\n",
    "import os\n",
    "import requests\n",
    "import time\n",
    "\n",
    "import ccxt\n",
    "import matplotlib.pyplot as plt\n",
    "import pandas as pd\n",
    "\n",
    "import core.config.config_ as cconconf\n",
    "import core.statistics as costatis\n",
    "import helpers.hdatetime as hdateti\n",
    "import helpers.hdbg as hdbg\n",
    "import helpers.henv as henv\n",
    "import helpers.hprint as hprint\n",
    "import helpers.hs3 as hs3\n",
    "import helpers.hsecrets as hsecret\n",
    "import im_v2.ccxt.data.client as icdcl\n",
    "import im_v2.ccxt.data.extract.exchange_class as imvcdeexcl"
   ]
  },
  {
   "cell_type": "code",
   "execution_count": null,
   "id": "17adfb1c",
   "metadata": {},
   "outputs": [],
   "source": [
    "hdbg.init_logger(verbosity=logging.INFO)\n",
    "\n",
    "_LOG = logging.getLogger(__name__)\n",
    "\n",
    "_LOG.info(\"%s\", henv.get_system_signature()[0])\n",
    "\n",
    "hprint.config_notebook()"
   ]
  },
  {
   "cell_type": "code",
   "execution_count": null,
   "id": "62c8b3ce",
   "metadata": {},
   "outputs": [],
   "source": [
    "def get_cmtask1866_config_ccxt() -> cconconf.Config:\n",
    "    \"\"\"\n",
    "    Get task1866-specific config.\n",
    "    \"\"\"\n",
    "    config = cconconf.Config()\n",
    "    # Load parameters.\n",
    "    config.add_subconfig(\"load\")\n",
    "    config[\"load\"][\"aws_profile\"] = \"ck\"\n",
    "    #\n",
    "    s3_bucket_path = hs3.get_s3_bucket_path(config[\"load\"][\"aws_profile\"])\n",
    "    s3_path = \"s3://cryptokaizen-data/historical\"\n",
    "    config[\"load\"][\"data_dir\"] = s3_path\n",
    "    # Data parameters.\n",
    "    config.add_subconfig(\"data\")\n",
    "    config[\"data\"][\"vendor\"] = \"CCXT\"\n",
    "    config[\"data\"][\"data_snapshot\"] = \"latest\"\n",
    "    config[\"data\"][\"version\"] = \"v3\"\n",
    "    config[\"data\"][\"resample_1min\"] = True\n",
    "    config[\"data\"][\"partition_mode\"] = \"by_year_month\"\n",
    "    config[\"data\"][\"start_ts\"] = None\n",
    "    config[\"data\"][\"end_ts\"] = None\n",
    "    config[\"data\"][\"columns\"] = None\n",
    "    config[\"data\"][\"filter_data_mode\"] = \"assert\"\n",
    "    # Column names.\n",
    "    config.add_subconfig(\"column_names\")\n",
    "    config[\"column_names\"][\"full_symbol\"] = \"full_symbol\"\n",
    "    config[\"column_names\"][\"close_price\"] = \"close\"\n",
    "    return config"
   ]
  },
  {
   "cell_type": "code",
   "execution_count": null,
   "id": "adf95307",
   "metadata": {},
   "outputs": [],
   "source": [
    "config = get_cmtask1866_config_ccxt()\n",
    "print(config)"
   ]
  },
  {
   "cell_type": "code",
   "execution_count": null,
   "id": "1f0ff1b7",
   "metadata": {},
   "outputs": [],
   "source": [
    " pd.set_option(\"display.float_format\", \"{:.8f}\".format)"
   ]
  },
  {
   "cell_type": "markdown",
   "id": "e2727a68",
   "metadata": {},
   "source": [
    "# Functions"
   ]
  },
  {
   "cell_type": "code",
   "execution_count": null,
   "id": "aae084a7",
   "metadata": {},
   "outputs": [],
   "source": [
    "def _get_qa_stats(data: pd.DataFrame, config: cconconf.Config) -> pd.DataFrame:\n",
    "    \"\"\"\n",
    "    Get quality assurance stats per full symbol in data.\n",
    "    \"\"\"\n",
    "    res_stats = []\n",
    "    for full_symbol, symbol_data in data.groupby(\n",
    "        config[\"column_names\"][\"full_symbol\"]\n",
    "    ):\n",
    "        # Compute stats for a full symbol.\n",
    "        symbol_stats = pd.Series(dtype=\"object\", name=full_symbol)\n",
    "        symbol_stats[\"min_timestamp\"] = symbol_data.index.min()\n",
    "        symbol_stats[\"max_timestamp\"] = symbol_data.index.max()\n",
    "        symbol_stats[\"NaNs %\"] = 100 * (\n",
    "            costatis.compute_frac_nan(\n",
    "                symbol_data[config[\"column_names\"][\"close_price\"]]\n",
    "            )\n",
    "        )\n",
    "        symbol_stats[\"volume=0 %\"] = 100 * (\n",
    "            symbol_data[symbol_data[\"volume\"] == 0].shape[0]\n",
    "            / symbol_data.shape[0]\n",
    "        )\n",
    "        symbol_stats[\"bad data %\"] = symbol_stats[\"NaNs %\"] + symbol_stats[\"volume=0 %\"]\n",
    "        res_stats.append(symbol_stats)\n",
    "    # Combine all full symbol stats.\n",
    "    res_stats_df = pd.concat(res_stats, axis=1).T\n",
    "    return res_stats_df\n",
    "\n",
    "\n",
    "def _get_qa_stats_by_year_month(\n",
    "    data: pd.DataFrame, config: cconconf.Config\n",
    ") -> pd.DataFrame:\n",
    "    \"\"\"\n",
    "    Get quality assurance stats per full symbol, year, and month.\n",
    "    \"\"\"\n",
    "    #\n",
    "    data[\"year\"] = data.index.year\n",
    "    data[\"month\"] = data.index.month\n",
    "    #\n",
    "    res_stats = []\n",
    "    columns_to_groupby = [config[\"column_names\"][\"full_symbol\"], \"year\", \"month\"]\n",
    "    for index, symbol_data in data.groupby(columns_to_groupby):\n",
    "        #\n",
    "        full_symbol, year, month = index\n",
    "        # Get stats for a full symbol and add them to overall stats.\n",
    "        symbol_stats = pd.Series(dtype=\"object\", name=full_symbol)\n",
    "        symbol_stats[\"year\"] = year\n",
    "        symbol_stats[\"month\"] = month\n",
    "        symbol_stats[\"NaNs %\"] = 100 * (\n",
    "            costatis.compute_frac_nan(\n",
    "                symbol_data[config[\"column_names\"][\"close_price\"]]\n",
    "            )\n",
    "        )\n",
    "        symbol_stats[\"volume=0 %\"] = 100 * (\n",
    "            symbol_data[symbol_data[\"volume\"] == 0].shape[0]\n",
    "            / symbol_data.shape[0]\n",
    "        )\n",
    "        symbol_stats[\"bad data %\"] = symbol_stats[\"NaNs %\"] + symbol_stats[\"volume=0 %\"]\n",
    "        res_stats.append(symbol_stats)\n",
    "    res_stats_df = pd.concat(res_stats, axis=1).T\n",
    "    #\n",
    "    res_stats_df[\"year\"] = res_stats_df[\"year\"].astype(int)\n",
    "    res_stats_df[\"month\"] = res_stats_df[\"month\"].astype(int)\n",
    "    # Set index by full symbol, year, and month.\n",
    "    res_stats_df = res_stats_df.set_index([res_stats_df.index, \"year\", \"month\"])\n",
    "    return res_stats_df\n",
    "\n",
    "\n",
    "def _plot_bad_data_stats(bad_data_stats: pd.DataFrame) -> None:\n",
    "    \"\"\"\n",
    "    Plot bad data stats per unique full symbol in data.\n",
    "    \"\"\"\n",
    "    full_symbols = bad_data_stats.index.get_level_values(0).unique()\n",
    "    for full_symbol in full_symbols:\n",
    "        bad_data_col_name = \"bad data %\"\n",
    "        _ = bad_data_stats.loc[full_symbol].plot.bar(\n",
    "            y=bad_data_col_name, rot=0, title=full_symbol\n",
    "        )"
   ]
  },
  {
   "cell_type": "code",
   "execution_count": null,
   "id": "09b9e3f0",
   "metadata": {},
   "outputs": [],
   "source": [
    "def set_index_ts(df):\n",
    "    df[\"timestamp\"] = df[\"timestamp\"].apply(\n",
    "        lambda x: hdateti.convert_unix_epoch_to_timestamp(x)\n",
    "    )\n",
    "    df = df.set_index(\"timestamp\")\n",
    "    return df"
   ]
  },
  {
   "cell_type": "code",
   "execution_count": null,
   "id": "8e0071f0",
   "metadata": {},
   "outputs": [],
   "source": [
    "def percentage(df, df_loc):\n",
    "    result = 100*len(df_loc)/len(df)\n",
    "    return round(result, 2)\n",
    "\n",
    "def log_into_exchange(exchange) -> ccxt.Exchange:\n",
    "    \"\"\"\n",
    "    Log into an exchange via CCXT and return the corresponding\n",
    "    `ccxt.Exchange` object.\n",
    "    \"\"\"\n",
    "    # Select credentials for provided exchange.\n",
    "    credentials = hsecret.get_secret(exchange)\n",
    "    # Enable rate limit.\n",
    "    credentials[\"rateLimit\"] = True\n",
    "    exchange_class = getattr(ccxt, exchange)\n",
    "    # Create a CCXT Exchange class object.\n",
    "    exchange = exchange_class(credentials)\n",
    "    hdbg.dassert(\n",
    "        exchange.checkRequiredCredentials(),\n",
    "        msg=\"Required credentials not passed\",\n",
    "    )\n",
    "    return exchange"
   ]
  },
  {
   "cell_type": "code",
   "execution_count": null,
   "id": "4c911bdc",
   "metadata": {},
   "outputs": [],
   "source": [
    "def load_ccxt_data(currency_pair, since, exchange):\n",
    "    ccxt_data = exchange.fetch_ohlcv(\n",
    "            currency_pair,\n",
    "            timeframe=\"1m\",\n",
    "            since=since,\n",
    "            limit=500)\n",
    "    columns = [\"timestamp\", \"open\", \"high\", \"low\", \"close\", \"volume\"]\n",
    "    bars = pd.DataFrame(ccxt_data, columns=columns)\n",
    "    return bars"
   ]
  },
  {
   "cell_type": "code",
   "execution_count": null,
   "id": "fa0653db",
   "metadata": {},
   "outputs": [],
   "source": [
    "def get_all_data(exchange, currency_pair, start_timestamp, end_timestamp):\n",
    "    all_bars = []\n",
    "    duration = exchange.parse_timeframe(\"1m\") * 100\n",
    "    for t in range(\n",
    "            start_timestamp,\n",
    "            end_timestamp + duration,\n",
    "            duration * 500,\n",
    "        ):\n",
    "        bars = load_ccxt_data(currency_pair, t, exchange)\n",
    "        all_bars.append(bars)\n",
    "        time.sleep(1)\n",
    "    return pd.concat(all_bars)"
   ]
  },
  {
   "cell_type": "markdown",
   "id": "096ad2f5",
   "metadata": {},
   "source": [
    "# CcxtHistoricalPqByTileClient"
   ]
  },
  {
   "cell_type": "code",
   "execution_count": null,
   "id": "3c0dd41b",
   "metadata": {},
   "outputs": [],
   "source": [
    "client = icdcl.CcxtHistoricalPqByTileClient(\n",
    "    config[\"data\"][\"version\"],\n",
    "    config[\"data\"][\"resample_1min\"],\n",
    "    config[\"load\"][\"data_dir\"],\n",
    "    config[\"data\"][\"partition_mode\"],\n",
    "    aws_profile=config[\"load\"][\"aws_profile\"],\n",
    ")"
   ]
  },
  {
   "cell_type": "code",
   "execution_count": null,
   "id": "2723e4d9",
   "metadata": {},
   "outputs": [],
   "source": [
    "universe = client.get_universe()\n",
    "universe"
   ]
  },
  {
   "cell_type": "markdown",
   "id": "975e2f5e",
   "metadata": {},
   "source": [
    "# Binance::DOGE_USDT"
   ]
  },
  {
   "cell_type": "code",
   "execution_count": null,
   "id": "001233de",
   "metadata": {},
   "outputs": [],
   "source": [
    "binance_data = client.read_data(\n",
    "    [\"binance::DOGE_USDT\"],\n",
    "    config[\"data\"][\"start_ts\"],\n",
    "    config[\"data\"][\"end_ts\"],\n",
    "    config[\"data\"][\"columns\"],\n",
    "    config[\"data\"][\"filter_data_mode\"],\n",
    ")"
   ]
  },
  {
   "cell_type": "code",
   "execution_count": null,
   "id": "cde7b6b2",
   "metadata": {},
   "outputs": [],
   "source": [
    "binance_2019_09 = binance_data.loc[(binance_data.index.year == 2019) & (binance_data.index.month == 9)]\n",
    "binance_2019_09_volume_0 = binance_2019_09.loc[binance_2019_09[\"volume\"] == 0]"
   ]
  },
  {
   "cell_type": "code",
   "execution_count": null,
   "id": "67d9a32c",
   "metadata": {},
   "outputs": [],
   "source": [
    "binance_2019_09"
   ]
  },
  {
   "cell_type": "code",
   "execution_count": null,
   "id": "870018f1",
   "metadata": {},
   "outputs": [],
   "source": [
    "_LOG.info(binance_2019_09_volume_0.shape)\n",
    "binance_2019_09_volume_0"
   ]
  },
  {
   "cell_type": "markdown",
   "id": "effdb9da",
   "metadata": {},
   "source": [
    "# Extractor"
   ]
  },
  {
   "cell_type": "code",
   "execution_count": null,
   "id": "7d7a0f07",
   "metadata": {},
   "outputs": [],
   "source": [
    "ccxt_binance_DOGE_exchange = imvcdeexcl.CcxtExchange(\"binance\")"
   ]
  },
  {
   "cell_type": "code",
   "execution_count": null,
   "id": "62479611",
   "metadata": {},
   "outputs": [],
   "source": [
    "sleep_time_in_secs = 1\n",
    "start_timestamp = pd.Timestamp(\"2019-09-01 00:00:00+00:00\")\n",
    "end_timestamp = pd.Timestamp(\"2019-09-30 23:59:59+00:00\")\n",
    "ccxt_binance_DOGE = ccxt_binance_DOGE_exchange.download_ohlcv_data(\n",
    "    \"DOGE/USDT\",\n",
    "    start_timestamp=start_timestamp,\n",
    "    end_timestamp=end_timestamp,\n",
    "    sleep_time_in_secs=sleep_time_in_secs,\n",
    ")"
   ]
  },
  {
   "cell_type": "code",
   "execution_count": null,
   "id": "a8a26f9c",
   "metadata": {},
   "outputs": [],
   "source": [
    "ccxt_binance_DOGE = set_index_ts(ccxt_binance_DOGE)"
   ]
  },
  {
   "cell_type": "code",
   "execution_count": null,
   "id": "997f93e1",
   "metadata": {},
   "outputs": [],
   "source": [
    "ccxt_binance_DOGE = ccxt_binance_DOGE.loc[ccxt_binance_DOGE.index.month == 9]"
   ]
  },
  {
   "cell_type": "code",
   "execution_count": null,
   "id": "67134b61",
   "metadata": {},
   "outputs": [],
   "source": [
    "ccxt_binance_DOGE.loc[ccxt_binance_DOGE['volume'] == 0]"
   ]
  },
  {
   "cell_type": "code",
   "execution_count": null,
   "id": "b49db360",
   "metadata": {},
   "outputs": [],
   "source": [
    "ccxt_binance_DOGE"
   ]
  },
  {
   "cell_type": "markdown",
   "id": "4f1ea33e",
   "metadata": {},
   "source": [
    "Where`volume = 0`, data from columns `open`, `high`, `low`, `close` is exactly the same from previous row where `volume != 0`. It could mean that `volume = 0` rows are `NaNs` at the source, so it could be the way exchange handles missing data."
   ]
  },
  {
   "cell_type": "code",
   "execution_count": null,
   "id": "d9382cd2",
   "metadata": {},
   "outputs": [],
   "source": [
    "print(percentage(ccxt_binance_DOGE, ccxt_binance_DOGE.loc[ccxt_binance_DOGE['volume'] == 0]))"
   ]
  },
  {
   "cell_type": "markdown",
   "id": "47d1d8fd",
   "metadata": {},
   "source": [
    "# CCXT w/o Extractor"
   ]
  },
  {
   "cell_type": "code",
   "execution_count": null,
   "id": "5e5102c2",
   "metadata": {},
   "outputs": [],
   "source": [
    "ccxt_exchange = log_into_exchange('binance')"
   ]
  },
  {
   "cell_type": "code",
   "execution_count": null,
   "id": "44f22444",
   "metadata": {},
   "outputs": [],
   "source": [
    "ccxt_df = get_all_data(ccxt_exchange, \"DOGE/USDT\", 1567296000000, 1569887999000)"
   ]
  },
  {
   "cell_type": "code",
   "execution_count": null,
   "id": "61110dd3",
   "metadata": {},
   "outputs": [],
   "source": [
    "ccxt_df = set_index_ts(ccxt_df)\n",
    "ccxt_df.index.min(), ccxt_df.index.max(), ccxt_df.shape"
   ]
  },
  {
   "cell_type": "code",
   "execution_count": null,
   "id": "afc45f58",
   "metadata": {},
   "outputs": [],
   "source": [
    "ccxt_df = ccxt_df.loc[ccxt_df.index.month == 9]"
   ]
  },
  {
   "cell_type": "code",
   "execution_count": null,
   "id": "16847f88",
   "metadata": {},
   "outputs": [],
   "source": [
    "ccxt_df.isna().value_counts()"
   ]
  },
  {
   "cell_type": "code",
   "execution_count": null,
   "id": "2b91e1d6",
   "metadata": {},
   "outputs": [],
   "source": [
    "ccxt_df.loc[ccxt_df['volume'] != 0]"
   ]
  },
  {
   "cell_type": "markdown",
   "id": "dfeb34ca",
   "metadata": {},
   "source": [
    "# Summary"
   ]
  },
  {
   "cell_type": "markdown",
   "id": "a516a70e",
   "metadata": {},
   "source": [
    "\n",
    "|CCXT | | ||\t\t\tExtractor\t| | | |Client | | |\n",
    "|------|--|-||-------------|-|-|-|------|-|-|\n",
    "|date|Number of NaN rows %|\tTotal number of rows| `volume=0` %\t|Number of NaN rows %|\tTotal number of rows| `volume=0` %| Number of NaN rows %|\tTotal number of rows| `volume=0` %|\n",
    "|2019-09|\t0          |\t                   429750|\t      73.22%   \t|\t0          |\t                   43200|\t      73.3%   |      0|\t            43200| 73.3%|\n"
   ]
  },
  {
   "cell_type": "markdown",
   "id": "5c8cbf00",
   "metadata": {},
   "source": [
    "- The huge amount of data from CCXT is duplicates. Unique values are 43200.\n",
    "- Where volume = 0, data from columns open, high, low, close is exactly the same from previous row where volume != 0. It could mean that volume = 0 rows are NaNs at the source, so it could be the way exchange handles missing data."
   ]
  },
  {
   "cell_type": "markdown",
   "id": "ca345db7",
   "metadata": {},
   "source": [
    "# ftx::BTC_USDT"
   ]
  },
  {
   "cell_type": "markdown",
   "id": "51b44251",
   "metadata": {},
   "source": [
    "## Client"
   ]
  },
  {
   "cell_type": "code",
   "execution_count": null,
   "id": "a4eb6366",
   "metadata": {},
   "outputs": [],
   "source": [
    "ftx_data = client.read_data(\n",
    "    [\"ftx::BTC_USDT\"],\n",
    "    config[\"data\"][\"start_ts\"],\n",
    "    config[\"data\"][\"end_ts\"],\n",
    "    config[\"data\"][\"columns\"],\n",
    "    config[\"data\"][\"filter_data_mode\"],\n",
    ")"
   ]
  },
  {
   "cell_type": "code",
   "execution_count": null,
   "id": "481783e4",
   "metadata": {},
   "outputs": [],
   "source": [
    "ftx_2020_04 = ftx_data.loc[(ftx_data.index.year == 2020) & (ftx_data.index.month == 4)]\n",
    "ftx_2020_04_volume_0 = ftx_2020_04.loc[ftx_2020_04[\"volume\"] == 0]\n",
    "ftx_2020_04_volume_0"
   ]
  },
  {
   "cell_type": "code",
   "execution_count": null,
   "id": "7ba87708",
   "metadata": {},
   "outputs": [],
   "source": [
    "ftx_2020_04"
   ]
  },
  {
   "cell_type": "code",
   "execution_count": null,
   "id": "7e1a05c8",
   "metadata": {},
   "outputs": [],
   "source": [
    "ftx_2020_04.loc[ftx_2020_04['open'].isna()]"
   ]
  },
  {
   "cell_type": "code",
   "execution_count": null,
   "id": "2cedd4ce",
   "metadata": {},
   "outputs": [],
   "source": [
    "print(percentage(ftx_2020_04, ftx_2020_04_volume_0))"
   ]
  },
  {
   "cell_type": "markdown",
   "id": "120ecbf2",
   "metadata": {},
   "source": [
    "## Extractor"
   ]
  },
  {
   "cell_type": "code",
   "execution_count": null,
   "id": "0ea7265b",
   "metadata": {},
   "outputs": [],
   "source": [
    "ccxt_ftx_BTC_exchange = imvcdeexcl.CcxtExchange(\"ftx\")\n",
    "sleep_time_in_secs = 1\n",
    "start_timestamp = pd.Timestamp(\"2020-04-01 00:00:00+00:00\")\n",
    "end_timestamp = pd.Timestamp(\"2020-04-30 23:59:59+00:00\")\n",
    "ccxt_ftx_BTC = ccxt_ftx_BTC_exchange.download_ohlcv_data(\n",
    "    \"BTC/USDT\",\n",
    "    start_timestamp=start_timestamp,\n",
    "    end_timestamp=end_timestamp,\n",
    "    sleep_time_in_secs=sleep_time_in_secs,\n",
    ")"
   ]
  },
  {
   "cell_type": "code",
   "execution_count": null,
   "id": "ade5922f",
   "metadata": {},
   "outputs": [],
   "source": [
    "ccxt_ftx_BTC = set_index_ts(ccxt_ftx_BTC)"
   ]
  },
  {
   "cell_type": "code",
   "execution_count": null,
   "id": "c091e5ea",
   "metadata": {},
   "outputs": [],
   "source": [
    "ccxt_ftx_BTC = ccxt_ftx_BTC.loc[ccxt_ftx_BTC.index.month == 4]"
   ]
  },
  {
   "cell_type": "code",
   "execution_count": null,
   "id": "2957e3b7",
   "metadata": {},
   "outputs": [],
   "source": [
    "ccxt_ftx_BTC.loc[ccxt_ftx_BTC['volume'] == 0]"
   ]
  },
  {
   "cell_type": "code",
   "execution_count": null,
   "id": "16bf9388",
   "metadata": {},
   "outputs": [],
   "source": [
    "ccxt_ftx_BTC"
   ]
  },
  {
   "cell_type": "code",
   "execution_count": null,
   "id": "4d0fa2bc",
   "metadata": {},
   "outputs": [],
   "source": [
    "ccxt_ftx_BTC.loc[(ccxt_ftx_BTC['high'] == 7493.50000000)\n",
    "                 & (ccxt_ftx_BTC['volume'] == 0)]"
   ]
  },
  {
   "cell_type": "code",
   "execution_count": null,
   "id": "97a68fca",
   "metadata": {},
   "outputs": [],
   "source": [
    "ccxt_ftx_BTC.loc[(ccxt_ftx_BTC.index.day == 25)\n",
    "                 & (ccxt_ftx_BTC.index.hour == 3)]"
   ]
  },
  {
   "cell_type": "markdown",
   "id": "b655bd6e",
   "metadata": {},
   "source": [
    "So far `ftx` doesn't have same pattern as `binance` where `volume=0` rows have values from the last non-`volume=0` row."
   ]
  },
  {
   "cell_type": "code",
   "execution_count": null,
   "id": "fc787323",
   "metadata": {},
   "outputs": [],
   "source": [
    "print(percentage(ccxt_ftx_BTC, ccxt_ftx_BTC.loc[ccxt_ftx_BTC['volume'] == 0]))"
   ]
  },
  {
   "cell_type": "markdown",
   "id": "541798b3",
   "metadata": {},
   "source": [
    "## CCXT w/o Extractor"
   ]
  },
  {
   "cell_type": "code",
   "execution_count": null,
   "id": "0728d4c9",
   "metadata": {},
   "outputs": [],
   "source": [
    "ccxt_exchange_ftx = log_into_exchange('ftx')\n",
    "ccxt_df_ftx = get_all_data(ccxt_exchange_ftx, \"BTC/USDT\", 1585699200000, 1588291199000)\n",
    "ccxt_df_ftx = set_index_ts(ccxt_df_ftx)\n",
    "ccxt_df_ftx.index.min(), ccxt_df_ftx.index.max(), ccxt_df_ftx.shape"
   ]
  },
  {
   "cell_type": "code",
   "execution_count": null,
   "id": "70d388c8",
   "metadata": {},
   "outputs": [],
   "source": [
    "ccxt_df_ftx = ccxt_df_ftx.loc[ccxt_df_ftx.index.month == 4]"
   ]
  },
  {
   "cell_type": "code",
   "execution_count": null,
   "id": "56500f77",
   "metadata": {},
   "outputs": [],
   "source": [
    "ccxt_df_ftx.isna().value_counts()"
   ]
  },
  {
   "cell_type": "code",
   "execution_count": null,
   "id": "75233b0a",
   "metadata": {},
   "outputs": [],
   "source": [
    "len(ccxt_df_ftx.index.unique())"
   ]
  },
  {
   "cell_type": "code",
   "execution_count": null,
   "id": "b94d4ba4",
   "metadata": {},
   "outputs": [],
   "source": [
    "ccxt_df_ftx"
   ]
  },
  {
   "cell_type": "code",
   "execution_count": null,
   "id": "15a886be",
   "metadata": {},
   "outputs": [],
   "source": [
    "print(percentage(ccxt_df_ftx, ccxt_df_ftx.loc[ccxt_df_ftx['volume'] == 0]))"
   ]
  },
  {
   "cell_type": "markdown",
   "id": "cb7268ef",
   "metadata": {},
   "source": [
    "\n",
    "|CCXT | | ||\t\t\tExtractor\t| | | |Client | | |\n",
    "|------|--|-||-------------|-|-|-|------|-|-|\n",
    "|date|Number of NaN rows %|\tTotal number of rows| `volume=0` %\t|Number of NaN rows %|\tTotal number of rows| `volume=0` %| Number of NaN rows %|\tTotal number of rows| `volume=0` %|\n",
    "|2019-09|\t0          |\t                   429750|\t      86.09%   \t|\t0          |\t                   43200|\t      85.97%   |      0|\t            43200| 85.97%|\n"
   ]
  },
  {
   "cell_type": "markdown",
   "id": "10a5f26c",
   "metadata": {},
   "source": [
    "# gateio::ETH_USDT w/o `volume = 0` in data"
   ]
  },
  {
   "cell_type": "markdown",
   "id": "dcb9b037",
   "metadata": {},
   "source": [
    "`gateio` data has weird statistics: no `volume = 0` and still tons of `NaNs`; has `volume = 0` and different amount of `NaNs`, i.e not like the others exchange pattern above. So decided to take a look at two currency pairs with different patterns."
   ]
  },
  {
   "cell_type": "markdown",
   "id": "14b1b494",
   "metadata": {},
   "source": [
    "## Client"
   ]
  },
  {
   "cell_type": "code",
   "execution_count": null,
   "id": "0f6ff229",
   "metadata": {},
   "outputs": [],
   "source": [
    "gateio_data = client.read_data(\n",
    "    [\"gateio::ETH_USDT\"],\n",
    "    config[\"data\"][\"start_ts\"],\n",
    "    config[\"data\"][\"end_ts\"],\n",
    "    config[\"data\"][\"columns\"],\n",
    "    config[\"data\"][\"filter_data_mode\"],\n",
    ")"
   ]
  },
  {
   "cell_type": "markdown",
   "id": "8442fbd6",
   "metadata": {},
   "source": [
    "### 100% of `NaNs`"
   ]
  },
  {
   "cell_type": "code",
   "execution_count": null,
   "id": "4058d004",
   "metadata": {},
   "outputs": [],
   "source": [
    "gateio_data_2021_10 = gateio_data.loc[(gateio_data.index.year == 2021)\n",
    "                                     & (gateio_data.index.month == 10)]\n",
    "gateio_data_2021_10"
   ]
  },
  {
   "cell_type": "code",
   "execution_count": null,
   "id": "5fe90e4d",
   "metadata": {},
   "outputs": [],
   "source": [
    "gateio_data_2021_10.isna().value_counts()"
   ]
  },
  {
   "cell_type": "markdown",
   "id": "19cec1f8",
   "metadata": {},
   "source": [
    "### 34.46% of `NaNs`"
   ]
  },
  {
   "cell_type": "code",
   "execution_count": null,
   "id": "65f1c9d6",
   "metadata": {},
   "outputs": [],
   "source": [
    "gateio_data_2021_09 = gateio_data.loc[(gateio_data.index.year == 2021)\n",
    "                                    & (gateio_data.index.month == 9)]\n",
    "gateio_data_2021_09"
   ]
  },
  {
   "cell_type": "code",
   "execution_count": null,
   "id": "f12c7123",
   "metadata": {},
   "outputs": [],
   "source": [
    "gateio_data_2021_09.isna().value_counts()"
   ]
  },
  {
   "cell_type": "markdown",
   "id": "e7842b09",
   "metadata": {},
   "source": [
    "### No `NaNs`"
   ]
  },
  {
   "cell_type": "code",
   "execution_count": null,
   "id": "8796d47f",
   "metadata": {},
   "outputs": [],
   "source": [
    "gateio_data.loc[(gateio_data.index.year == 2021)\n",
    "                                    & (gateio_data.index.month == 12)]"
   ]
  },
  {
   "cell_type": "markdown",
   "id": "30e46f06",
   "metadata": {},
   "source": [
    "At first look, `NaNs` appear because of some kind of problem at the source. According to Dan's tables all currency pairs have ~34-39% of `NaNs` for the period from September to November. October data has 100% of `NaNs` for all currency pairs of `gateio` so that definitely could be a technical issue at the exchange."
   ]
  },
  {
   "cell_type": "markdown",
   "id": "616bb530",
   "metadata": {},
   "source": [
    "## Extractor"
   ]
  },
  {
   "cell_type": "code",
   "execution_count": null,
   "id": "76a100fa",
   "metadata": {},
   "outputs": [],
   "source": [
    "ccxt_gateio_ETH_exchange = imvcdeexcl.CcxtExchange(\"gateio\")"
   ]
  },
  {
   "cell_type": "code",
   "execution_count": null,
   "id": "c1258435",
   "metadata": {},
   "outputs": [],
   "source": [
    "sleep_time_in_secs = 1\n",
    "start_timestamp = pd.Timestamp(\"2021-09-01 00:00:00+00:00\")\n",
    "end_timestamp = pd.Timestamp(\"2021-09-30 23:59:59+00:00\")\n",
    "ccxt_gateio_ETH = ccxt_gateio_ETH_exchange.download_ohlcv_data(\n",
    "    \"ETH/USDT\",\n",
    "    start_timestamp=start_timestamp,\n",
    "    end_timestamp=end_timestamp,\n",
    "    sleep_time_in_secs=sleep_time_in_secs,\n",
    ")"
   ]
  },
  {
   "cell_type": "code",
   "execution_count": null,
   "id": "3d9db631",
   "metadata": {},
   "outputs": [],
   "source": [
    "ccxt_gateio_ETH = set_index_ts(ccxt_gateio_ETH)"
   ]
  },
  {
   "cell_type": "code",
   "execution_count": null,
   "id": "6399f295",
   "metadata": {},
   "outputs": [],
   "source": [
    "ccxt_gateio_ETH"
   ]
  },
  {
   "cell_type": "code",
   "execution_count": null,
   "id": "d5ba4bec",
   "metadata": {},
   "outputs": [],
   "source": [
    "sleep_time_in_secs = 1\n",
    "start_timestamp = pd.Timestamp(\"2021-10-01 00:00:00+00:00\")\n",
    "end_timestamp = pd.Timestamp(\"2021-10-31 23:59:59+00:00\")\n",
    "ccxt_gateio_ETH_10 = ccxt_gateio_ETH_exchange.download_ohlcv_data(\n",
    "    \"ETH/USDT\",\n",
    "    start_timestamp=start_timestamp,\n",
    "    end_timestamp=end_timestamp,\n",
    "    sleep_time_in_secs=sleep_time_in_secs,\n",
    ")"
   ]
  },
  {
   "cell_type": "code",
   "execution_count": null,
   "id": "47662527",
   "metadata": {},
   "outputs": [],
   "source": [
    "ccxt_gateio_ETH_10"
   ]
  },
  {
   "cell_type": "code",
   "execution_count": null,
   "id": "8d921ba7",
   "metadata": {},
   "outputs": [],
   "source": [
    "sleep_time_in_secs = 1\n",
    "start_timestamp = pd.Timestamp(\"2021-12-01 00:00:00+00:00\")\n",
    "end_timestamp = pd.Timestamp(\"2021-12-31 23:59:59+00:00\")\n",
    "ccxt_gateio_ETH_12 = ccxt_gateio_ETH_exchange.download_ohlcv_data(\n",
    "    \"ETH/USDT\",\n",
    "    start_timestamp=start_timestamp,\n",
    "    end_timestamp=end_timestamp,\n",
    "    sleep_time_in_secs=sleep_time_in_secs,\n",
    ")"
   ]
  },
  {
   "cell_type": "code",
   "execution_count": null,
   "id": "d9699e92",
   "metadata": {},
   "outputs": [],
   "source": [
    "ccxt_gateio_ETH_12"
   ]
  },
  {
   "cell_type": "markdown",
   "id": "786d4f8c",
   "metadata": {},
   "source": [
    "There is no data coming from `Extractor` but somehow we have it on S3. I could say exchange has an expiration date for data."
   ]
  },
  {
   "cell_type": "code",
   "execution_count": null,
   "id": "d03dec1b",
   "metadata": {},
   "outputs": [],
   "source": [
    "# Load recent data to make sure API and Exctractor are working.\n",
    "sleep_time_in_secs = 1\n",
    "start_timestamp = pd.Timestamp(\"2022-04-25 00:00:00+00:00\")\n",
    "end_timestamp = pd.Timestamp(\"2022-05-14 23:59:59+00:00\")\n",
    "ccxt_gateio_ETH_2022 = ccxt_gateio_ETH_exchange.download_ohlcv_data(\n",
    "    \"ETH/USDT\",\n",
    "    start_timestamp=start_timestamp,\n",
    "    end_timestamp=end_timestamp,\n",
    "    sleep_time_in_secs=sleep_time_in_secs,\n",
    ")"
   ]
  },
  {
   "cell_type": "code",
   "execution_count": null,
   "id": "d214303f",
   "metadata": {},
   "outputs": [],
   "source": [
    "ccxt_gateio_ETH_2022"
   ]
  },
  {
   "cell_type": "markdown",
   "id": "3de1c111",
   "metadata": {},
   "source": [
    "## CCXT w/o Extractor"
   ]
  },
  {
   "cell_type": "markdown",
   "id": "f35e002e",
   "metadata": {},
   "source": [
    "Take a look at one month of 2021, if it's empty, it have so called an expiration date."
   ]
  },
  {
   "cell_type": "code",
   "execution_count": null,
   "id": "7cfb4992",
   "metadata": {},
   "outputs": [],
   "source": [
    "ccxt_exchange = log_into_exchange('gateio')\n",
    "ccxt_df = get_all_data(ccxt_exchange, \"ETH/USDT\", 1638316800000, 1640995199000)"
   ]
  },
  {
   "cell_type": "code",
   "execution_count": null,
   "id": "29e4e935",
   "metadata": {},
   "outputs": [],
   "source": [
    "ccxt_df"
   ]
  },
  {
   "cell_type": "markdown",
   "id": "ecd8c53a",
   "metadata": {},
   "source": [
    "### Summary for `gateio` `volume != 0` data."
   ]
  },
  {
   "cell_type": "markdown",
   "id": "d262027f",
   "metadata": {},
   "source": [
    "- Exchange has an expiration date for data because data we have no longer exist at the source. Here could be useful `end_download_timestamp` column for data we store on S3, just to confirm the statement or vice versa.\n",
    "- October data has 100% of NaNs for all currency pairs of gateio. Based on that, it could be a technical issue at the exchange."
   ]
  },
  {
   "cell_type": "markdown",
   "id": "f112eb74",
   "metadata": {},
   "source": [
    "# gateio::ADA_USDT with `volume = 0` in data"
   ]
  },
  {
   "cell_type": "markdown",
   "id": "d813cded",
   "metadata": {},
   "source": [
    "## Client"
   ]
  },
  {
   "cell_type": "code",
   "execution_count": null,
   "id": "897889a2",
   "metadata": {},
   "outputs": [],
   "source": [
    "gateio_ADA_data = client.read_data(\n",
    "    [\"gateio::ADA_USDT\"],\n",
    "    config[\"data\"][\"start_ts\"],\n",
    "    config[\"data\"][\"end_ts\"],\n",
    "    config[\"data\"][\"columns\"],\n",
    "    config[\"data\"][\"filter_data_mode\"],\n",
    ")"
   ]
  },
  {
   "cell_type": "code",
   "execution_count": null,
   "id": "0d19fcf3",
   "metadata": {},
   "outputs": [],
   "source": [
    "# `volume = 0` != NaNs amount\n",
    "gateio_ADA_data_2021_09 = gateio_ADA_data.loc[(gateio_ADA_data.index.year == 2021)\n",
    "                & (gateio_ADA_data.index.month == 9)]\n",
    "gateio_ADA_data_2021_09"
   ]
  },
  {
   "cell_type": "code",
   "execution_count": null,
   "id": "8a8c3cdf",
   "metadata": {},
   "outputs": [],
   "source": [
    "gateio_ADA_data_2021_09.loc[gateio_ADA_data_2021_09['volume0'] == 0]"
   ]
  },
  {
   "cell_type": "code",
   "execution_count": null,
   "id": "bb4e7236",
   "metadata": {},
   "outputs": [],
   "source": [
    "gateio_ADA_data_2021_09.loc[(gateio_ADA_data_2021_09.index.day == 5)\n",
    "                           & (gateio_ADA_data_2021_09.index.hour == 3)].tail()"
   ]
  },
  {
   "cell_type": "code",
   "execution_count": null,
   "id": "9cd8dfbf",
   "metadata": {},
   "outputs": [],
   "source": [
    "# `volume = 0` has the same amount as NaNs\n",
    "gateio_ADA_data_2021_07 = gateio_ADA_data.loc[(gateio_ADA_data.index.year == 2021)\n",
    "                & (gateio_ADA_data.index.month == 7)]\n",
    "gateio_ADA_data_2021_07"
   ]
  },
  {
   "cell_type": "code",
   "execution_count": null,
   "id": "504ff1cf",
   "metadata": {},
   "outputs": [],
   "source": [
    "gateio_ADA_data_2021_07.loc[gateio_ADA_data_2021_07['volume'] == 0]"
   ]
  },
  {
   "cell_type": "code",
   "execution_count": null,
   "id": "383a869c",
   "metadata": {},
   "outputs": [],
   "source": [
    "gateio_ADA_data_2021_07.loc[gateio_ADA_data_2021_07.index >= \"2021-07-03 09:20:00+00:00\"].head(15)"
   ]
  },
  {
   "cell_type": "markdown",
   "id": "85115eb9",
   "metadata": {},
   "source": [
    "A pattern where `volume = 0` rows have value for all columns from column `close` of the last non-`volume = 0` row."
   ]
  },
  {
   "cell_type": "markdown",
   "id": "bcb16845",
   "metadata": {},
   "source": [
    "## Extractor"
   ]
  },
  {
   "cell_type": "code",
   "execution_count": null,
   "id": "85792ce5",
   "metadata": {},
   "outputs": [],
   "source": [
    "# TODO(Nina): Change name of var `ccxt_gateio_ETH_exchange`.\n",
    "sleep_time_in_secs = 1\n",
    "start_timestamp = pd.Timestamp(\"2021-07-01 00:00:00+00:00\")\n",
    "end_timestamp = pd.Timestamp(\"2021-07-31 23:59:59+00:00\")\n",
    "ccxt_gateio_ADA = ccxt_gateio_ETH_exchange.download_ohlcv_data(\n",
    "    \"ADA/USDT\",\n",
    "    start_timestamp=start_timestamp,\n",
    "    end_timestamp=end_timestamp,\n",
    "    sleep_time_in_secs=sleep_time_in_secs,\n",
    ")"
   ]
  },
  {
   "cell_type": "code",
   "execution_count": null,
   "id": "8d9deb2f",
   "metadata": {},
   "outputs": [],
   "source": [
    "ccxt_gateio_ADA"
   ]
  },
  {
   "cell_type": "markdown",
   "id": "139552be",
   "metadata": {},
   "source": [
    "I think there's no sense to continue with `gateio` analysis, or we can check up the data for 2022."
   ]
  },
  {
   "cell_type": "markdown",
   "id": "c9942ab9",
   "metadata": {},
   "source": [
    "## Summary for `gateio`"
   ]
  },
  {
   "cell_type": "markdown",
   "id": "eb4b6c56",
   "metadata": {},
   "source": [
    "- Small amount of useful data according to Dan's tables for the gateio.\n",
    "- Data has a pattern where `volume = 0` rows store value for all columns from column `close` of the last non-`volume = 0` row.\n",
    "- Data has an expiration date because data we have no longer exist at the source. Here could be useful `end_download_timestamp` column for data we store on S3, just to confirm the statement or vice versa.\n",
    "- October data has 100% of NaNs for all currency pairs of gateio. Based on that, it could be a technical issue at the exchange."
   ]
  }
 ],
 "metadata": {
  "kernelspec": {
   "display_name": "Python 3 (ipykernel)",
   "language": "python",
   "name": "python3"
  },
  "language_info": {
   "codemirror_mode": {
    "name": "ipython",
    "version": 3
   },
   "file_extension": ".py",
   "mimetype": "text/x-python",
   "name": "python",
   "nbconvert_exporter": "python",
   "pygments_lexer": "ipython3"
  },
  "toc": {
   "base_numbering": 1,
   "nav_menu": {},
   "number_sections": true,
   "sideBar": true,
   "skip_h1_title": false,
   "title_cell": "Table of Contents",
   "title_sidebar": "Contents",
   "toc_cell": false,
   "toc_position": {},
   "toc_section_display": true,
   "toc_window_display": false
  }
 },
 "nbformat": 4,
 "nbformat_minor": 5
}
