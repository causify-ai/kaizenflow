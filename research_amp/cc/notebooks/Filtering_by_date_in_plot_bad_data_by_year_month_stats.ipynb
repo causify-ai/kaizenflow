{
 "cells": [
  {
   "cell_type": "markdown",
   "id": "dd1ae5b6",
   "metadata": {},
   "source": [
    "# Imports"
   ]
  },
  {
   "cell_type": "code",
   "execution_count": null,
   "id": "8dd0b5cb",
   "metadata": {},
   "outputs": [],
   "source": [
    "import logging\n",
    "import matplotlib.dates as mdates\n",
    "import matplotlib.pyplot as plt\n",
    "import pandas as pd\n",
    "\n",
    "import helpers.hdbg as hdbg\n",
    "import helpers.henv as henv\n",
    "import helpers.hprint as hprint\n",
    "import im_v2.ccxt.data.client as icdcl"
   ]
  },
  {
   "cell_type": "code",
   "execution_count": null,
   "id": "6675c4c4",
   "metadata": {},
   "outputs": [],
   "source": [
    "hdbg.init_logger(verbosity=logging.INFO)\n",
    "\n",
    "_LOG = logging.getLogger(__name__)\n",
    "\n",
    "_LOG.info(\"%s\", henv.get_system_signature()[0])\n",
    "\n",
    "hprint.config_notebook()"
   ]
  },
  {
   "cell_type": "markdown",
   "id": "ecc6fe53",
   "metadata": {},
   "source": [
    "# Functions"
   ]
  },
  {
   "cell_type": "code",
   "execution_count": null,
   "id": "c4fea008",
   "metadata": {},
   "outputs": [],
   "source": [
    "def plot_by_year_month(data: pd.DataFrame,\n",
    "                       threshold: int,\n",
    "                       *,\n",
    "                       start_ts: pd.Timestamp = None,\n",
    "                       end_ts: pd.Timestamp = None,\n",
    ") -> None:\n",
    "    df = data.copy()\n",
    "    # Filtering by date includes start and excludes end timestamps.\n",
    "    if start_ts is not None:\n",
    "        df = df[df.index >= start_ts]\n",
    "    if end_ts is not None:\n",
    "        df = df[df.index < end_ts]\n",
    "    # Group data by \"full_symbol\", \"year\", \"month\" in case it does not.\n",
    "    # TODO(Nina): Add if-condition to check whether index is datetime or not.\n",
    "    df['year'] = df.index.year\n",
    "    df['month'] = df.index.month\n",
    "    groupped = df.groupby([\"full_symbol\", \"year\", \"month\"])\n",
    "    groupped_cnt = groupped.count()\n",
    "    full_symbols = groupped_cnt.index.get_level_values(0).unique()\n",
    "    for full_symbol in full_symbols:\n",
    "        # TODO(Nina): Do not hardcode `target_col_name`\n",
    "        target_col_name = \"close\"\n",
    "        full_symbol_data = groupped_cnt[groupped_cnt.index.get_level_values(0) == full_symbol]\n",
    "        ax = full_symbol_data.plot.bar(\n",
    "            y=target_col_name, rot=0, title=full_symbol\n",
    "        )\n",
    "        ax.hlines(\n",
    "            y=threshold,\n",
    "            xmin=-1,\n",
    "            xmax=len(df),\n",
    "            color=\"r\",\n",
    "        )\n",
    "        # Get labels for x-axis.\n",
    "        years = list(full_symbol_data.index.get_level_values(1).unique())\n",
    "        months = list(full_symbol_data.index.get_level_values(2))\n",
    "        ticklabels = [\".\".join([str(year), str(month)]) for year in years for month in months]\n",
    "        # Adjust tick lables.\n",
    "        ax.xaxis.set_ticklabels(ticklabels)\n",
    "        ax.figure.show()"
   ]
  },
  {
   "cell_type": "code",
   "execution_count": null,
   "id": "4b3bc1e0",
   "metadata": {},
   "outputs": [],
   "source": [
    "resample_1min = True\n",
    "root_dir = \"s3://cryptokaizen-data/reorg/historical.manual.pq/\"\n",
    "partition = \"by_year_month\"\n",
    "universe_version = \"v3\"\n",
    "aws_profile = \"ck\"\n",
    "ccxt_historical_client = icdcl.ccxt_clients.CcxtHistoricalPqByTileClient(\n",
    "    universe_version,\n",
    "    resample_1min,\n",
    "    root_dir,\n",
    "    partition,\n",
    "    aws_profile=aws_profile,\n",
    ")"
   ]
  },
  {
   "cell_type": "code",
   "execution_count": null,
   "id": "72ac6e54",
   "metadata": {},
   "outputs": [],
   "source": [
    "full_symbol = [\"binance::ADA_USDT\", \"binance::BTC_USDT\"]\n",
    "start_ts = pd.Timestamp(\"2018-08-17 00:00:00-0000\")\n",
    "end_ts = pd.Timestamp(\"2018-12-17 00:10:00-0000\")\n",
    "filter_data_mode = \"assert\"\n",
    "data = ccxt_historical_client.read_data(\n",
    "    full_symbol, start_ts, end_ts, columns=None, filter_data_mode=filter_data_mode\n",
    ")\n",
    "data.head(3)"
   ]
  },
  {
   "cell_type": "code",
   "execution_count": null,
   "id": "17eb1da9",
   "metadata": {},
   "outputs": [],
   "source": [
    "start = pd.Timestamp(\"2018-08-01T00:00:00-00:00\")\n",
    "end = pd.Timestamp(\"2019-01-01T00:00:00-00:00\")\n",
    "plot_by_year_month(data, 15000, start_ts=start, end_ts=end)"
   ]
  }
 ],
 "metadata": {
  "kernelspec": {
   "display_name": "Python 3 (ipykernel)",
   "language": "python",
   "name": "python3"
  },
  "language_info": {
   "codemirror_mode": {
    "name": "ipython",
    "version": 3
   },
   "file_extension": ".py",
   "mimetype": "text/x-python",
   "name": "python",
   "nbconvert_exporter": "python",
   "pygments_lexer": "ipython3"
  },
  "toc": {
   "base_numbering": 1,
   "nav_menu": {},
   "number_sections": true,
   "sideBar": true,
   "skip_h1_title": false,
   "title_cell": "Table of Contents",
   "title_sidebar": "Contents",
   "toc_cell": false,
   "toc_position": {},
   "toc_section_display": true,
   "toc_window_display": false
  }
 },
 "nbformat": 4,
 "nbformat_minor": 5
}
