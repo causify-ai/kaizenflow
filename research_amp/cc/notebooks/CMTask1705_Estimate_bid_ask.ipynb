{
 "cells": [
  {
   "cell_type": "markdown",
   "id": "aa8f6dd8",
   "metadata": {},
   "source": [
    "# Imports"
   ]
  },
  {
   "cell_type": "code",
   "execution_count": null,
   "id": "939efd27",
   "metadata": {},
   "outputs": [],
   "source": [
    "import logging\n",
    "\n",
    "import im_v2.ccxt.data.extract.exchange_class as imvcdeexcl\n",
    "import requests\n",
    "import pandas as pd\n",
    "import helpers.hdatetime as hdateti\n",
    "import core.finance.resampling as cfinresa\n",
    "import datetime"
   ]
  },
  {
   "cell_type": "code",
   "execution_count": null,
   "id": "79e39576",
   "metadata": {},
   "outputs": [],
   "source": [
    "hdbg.init_logger(verbosity=logging.INFO)\n",
    "\n",
    "_LOG = logging.getLogger(__name__)\n",
    "\n",
    "hprint.config_notebook()"
   ]
  },
  {
   "cell_type": "markdown",
   "id": "83dbf047",
   "metadata": {},
   "source": [
    "# Bid-ask data snippet (current implementation)"
   ]
  },
  {
   "cell_type": "code",
   "execution_count": null,
   "id": "bea76593",
   "metadata": {},
   "outputs": [],
   "source": [
    "# Specify params.\n",
    "exchange_id = \"binance\"\n",
    "# Initiate the client.\n",
    "bid_ask_client = imvcdeexcl.CcxtExchange(exchange_id)"
   ]
  },
  {
   "cell_type": "code",
   "execution_count": null,
   "id": "891a0349",
   "metadata": {},
   "outputs": [],
   "source": [
    "# Load the data snippet for BTC.\n",
    "currency_pair = \"BTC_USDT\"\n",
    "ba_df = bid_ask_client.download_order_book(currency_pair)"
   ]
  },
  {
   "cell_type": "code",
   "execution_count": null,
   "id": "c0fc85c8",
   "metadata": {},
   "outputs": [],
   "source": [
    "ba_df"
   ]
  },
  {
   "cell_type": "markdown",
   "id": "60cd0b4c",
   "metadata": {},
   "source": [
    "As one can see, the current implementation of bid-ask data loader only allows to show the order book at the exact moment of its initiation."
   ]
  },
  {
   "cell_type": "markdown",
   "id": "f6e5bee6",
   "metadata": {},
   "source": [
    "# Bid-ask data extraction (proposed solution)"
   ]
  },
  {
   "cell_type": "markdown",
   "id": "af88b7ba",
   "metadata": {},
   "source": [
    "Thanks to the research that was done in #193, we had a notion that the bid-ask data can be downloaded via open sources and specifically - _crypto-chassis_.\n",
    "For more details one can see https://github.com/cryptokaizen/cmamp/issues/193#issuecomment-974822385\n",
    "\n",
    "Few words about the data:\n",
    "- API page: https://github.com/crypto-chassis/cryptochassis-data-api-docs#information\n",
    "   - Specifically, `Market Depth` section\n",
    "- each GET request allow to download one day of 1-second snapshot data on market depth (aka order books or Level 2 data) up to a depth of 10"
   ]
  },
  {
   "cell_type": "markdown",
   "id": "352c6da3",
   "metadata": {},
   "source": [
    "## Example of a raw data"
   ]
  },
  {
   "cell_type": "markdown",
   "id": "d0e3236d",
   "metadata": {},
   "source": [
    "For the example I am taking the data with he following characteristics:\n",
    "- `full_symbol` = binance::BTC_USDT\n",
    "- depth = 1 (default option)"
   ]
  },
  {
   "cell_type": "code",
   "execution_count": null,
   "id": "37b17f98",
   "metadata": {},
   "outputs": [],
   "source": [
    "example_date = \"2022-01-01\"\n",
    "r = requests.get(f\"https://api.cryptochassis.com/v1/market-depth/binance/btc-usdt?startTime={example_date}\")\n",
    "example_data = pd.read_csv(r.json()[\"urls\"][0][\"url\"], compression=\"gzip\")"
   ]
  },
  {
   "cell_type": "code",
   "execution_count": null,
   "id": "fcb093eb",
   "metadata": {},
   "outputs": [],
   "source": [
    "example_data.head()"
   ]
  },
  {
   "cell_type": "markdown",
   "id": "ec37dc4d",
   "metadata": {},
   "source": [
    "## Get historical data"
   ]
  },
  {
   "cell_type": "markdown",
   "id": "b190a22c",
   "metadata": {},
   "source": [
    "Each request is strictly limited to get only one day of bid-ask data. That's why I want to propose the solution that allows to get the DataFrame for any desired time range of historical data."
   ]
  },
  {
   "cell_type": "markdown",
   "id": "2e818d8d",
   "metadata": {},
   "source": [
    "### Functions that convert data to the C-K format"
   ]
  },
  {
   "cell_type": "code",
   "execution_count": null,
   "id": "0059b12f",
   "metadata": {},
   "outputs": [],
   "source": [
    "def clean_up_raw_bid_ask_data(df):\n",
    "    # Split the columns to differentiate between `price` and `size`.\n",
    "    df[[\"bid_price\", \"bid_size\"]] = df['bid_price_bid_size'].str.split(\"_\", expand=True)\n",
    "    df[[\"ask_price\", \"ask_size\"]] = df['ask_price_ask_size'].str.split(\"_\", expand=True)\n",
    "    df = df.drop(columns=[\"bid_price_bid_size\", \"ask_price_ask_size\"])\n",
    "    # Convert `timestamps` to the usual format.\n",
    "    df = df.rename(columns={\"time_seconds\": \"timestamp\"})\n",
    "    df[\"timestamp\"] = df[\"timestamp\"].apply(lambda x: hdateti.convert_unix_epoch_to_timestamp(x, unit=\"s\"))\n",
    "    df = df.set_index(\"timestamp\")\n",
    "    # Convert to `float`.\n",
    "    for cols in df.columns:\n",
    "        df[cols] = df[cols].astype(float)\n",
    "    # Add `full_symbol` (hardcoded solution).\n",
    "    df[\"full_symbol\"] = \"binance::BTC_USDT\"\n",
    "    return df"
   ]
  },
  {
   "cell_type": "code",
   "execution_count": null,
   "id": "4f574e5f",
   "metadata": {},
   "outputs": [],
   "source": [
    "def resample_bid_ask(df, resampling_rule):\n",
    "    \"\"\"\n",
    "    In the current format the data is presented in the `seconds` frequency.\n",
    "    In order to convert it to the minutely (or other) frequencies the following \n",
    "    aggregation rules are applied:\n",
    "    - Size is the sum of all sizes during the resampling period\n",
    "    - Price is the mean of all prices during the resampling period\n",
    "    \"\"\"\n",
    "    new_df = cfinresa.resample(df, rule=resampling_rule).agg({\n",
    "                \"bid_price\": \"mean\",\n",
    "                \"bid_size\": \"sum\",\n",
    "                \"ask_price\": \"mean\",\n",
    "                \"ask_size\": \"sum\",\n",
    "                \"full_symbol\": \"last\",\n",
    "            })\n",
    "    return new_df"
   ]
  },
  {
   "cell_type": "code",
   "execution_count": null,
   "id": "7e28ffaf",
   "metadata": {},
   "outputs": [],
   "source": [
    "def process_bid_ask_data(df):\n",
    "    # Convert the data to the right format.\n",
    "    converted_df = clean_up_raw_bid_ask_data(df)\n",
    "    # Resample.\n",
    "    converted_resampled_df = resample_bid_ask(converted_df, \"1T\")\n",
    "    return converted_resampled_df"
   ]
  },
  {
   "cell_type": "markdown",
   "id": "bde145db",
   "metadata": {},
   "source": [
    "### Load historical data"
   ]
  },
  {
   "cell_type": "markdown",
   "id": "d11087d2",
   "metadata": {},
   "source": [
    "For the example I am taking the data with he following characteristics:\n",
    "- `full_symbol` = binance::BTC_USDT\n",
    "- depth = 1 (default option)\n",
    "- start_ts = \"2022-01-01\"\n",
    "- end_ts = \"2022-01-30\" (15 days in total)"
   ]
  },
  {
   "cell_type": "code",
   "execution_count": null,
   "id": "75a673e7",
   "metadata": {},
   "outputs": [],
   "source": [
    "# Get the list of all dates in the range.\n",
    "datelist = pd.date_range(\"2022-01-01\", periods=30).tolist()\n",
    "datelist = [str(x.strftime('%Y-%m-%d')) for x in datelist]"
   ]
  },
  {
   "cell_type": "code",
   "execution_count": null,
   "id": "791c7a88",
   "metadata": {},
   "outputs": [],
   "source": [
    "# Using the variables from `datelist` the multiple requests can be sent to the API.\n",
    "result = []\n",
    "for date in datelist:\n",
    "    # Interaction with the API.\n",
    "    r = requests.get(f\"https://api.cryptochassis.com/v1/market-depth/binance/btc-usdt?startTime={date}\")\n",
    "    data = pd.read_csv(r.json()[\"urls\"][0][\"url\"], compression=\"gzip\")\n",
    "    # Transforming the data.\n",
    "    processed_data = process_bid_ask_data(data)\n",
    "    # Attaching it day-by-day to the final DataFrame.\n",
    "    result.append(processed_data)\n",
    "bid_ask_df = pd.concat(result)"
   ]
  },
  {
   "cell_type": "code",
   "execution_count": null,
   "id": "e8a7f443",
   "metadata": {},
   "outputs": [],
   "source": [
    "# Show the data.\n",
    "display(bid_ask_df.shape)\n",
    "display(bid_ask_df)"
   ]
  },
  {
   "cell_type": "markdown",
   "id": "9248e766",
   "metadata": {},
   "source": [
    "Now, this data is in the format that is compatible for working with CCXT/Talos OHLCV data.\n",
    "\n",
    "It takes ±1.5mins to load and process data for 1 month (30 days), so it shouldn't take much time to load big chunks of historical data.  "
   ]
  }
 ],
 "metadata": {
  "kernelspec": {
   "display_name": "Python 3 (ipykernel)",
   "language": "python",
   "name": "python3"
  },
  "language_info": {
   "codemirror_mode": {
    "name": "ipython",
    "version": 3
   },
   "file_extension": ".py",
   "mimetype": "text/x-python",
   "name": "python",
   "nbconvert_exporter": "python",
   "pygments_lexer": "ipython3"
  },
  "toc": {
   "base_numbering": 1,
   "nav_menu": {},
   "number_sections": true,
   "sideBar": true,
   "skip_h1_title": false,
   "title_cell": "Table of Contents",
   "title_sidebar": "Contents",
   "toc_cell": false,
   "toc_position": {},
   "toc_section_display": true,
   "toc_window_display": false
  }
 },
 "nbformat": 4,
 "nbformat_minor": 5
}
