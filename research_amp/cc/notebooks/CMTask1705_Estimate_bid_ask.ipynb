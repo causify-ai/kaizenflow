{
 "cells": [
  {
   "cell_type": "markdown",
   "id": "2e36afc6",
   "metadata": {},
   "source": [
    "# Imports"
   ]
  },
  {
   "cell_type": "code",
   "execution_count": null,
   "id": "939efd27",
   "metadata": {},
   "outputs": [],
   "source": [
    "import logging\n",
    "\n",
    "import pandas as pd\n",
    "import requests\n",
    "\n",
    "import core.finance.resampling as cfinresa\n",
    "import helpers.hdatetime as hdateti\n",
    "import helpers.hdbg as hdbg\n",
    "import helpers.hprint as hprint\n",
    "import im_v2.ccxt.data.extract.exchange_class as imvcdeexcl"
   ]
  },
  {
   "cell_type": "code",
   "execution_count": null,
   "id": "1b1cbad6",
   "metadata": {},
   "outputs": [],
   "source": [
    "hdbg.init_logger(verbosity=logging.INFO)\n",
    "\n",
    "_LOG = logging.getLogger(__name__)\n",
    "\n",
    "hprint.config_notebook()"
   ]
  },
  {
   "cell_type": "markdown",
   "id": "fc55bd36",
   "metadata": {},
   "source": [
    "# Bid-ask data snippet (current implementation)"
   ]
  },
  {
   "cell_type": "code",
   "execution_count": null,
   "id": "b68f3d2a",
   "metadata": {},
   "outputs": [],
   "source": [
    "# Specify params.\n",
    "exchange_id = \"binance\"\n",
    "# Initiate the client.\n",
    "bid_ask_client = imvcdeexcl.CcxtExchange(exchange_id)"
   ]
  },
  {
   "cell_type": "code",
   "execution_count": null,
   "id": "8dfd6cd0",
   "metadata": {},
   "outputs": [],
   "source": [
    "# Load the data snippet for BTC.\n",
    "currency_pair = \"BTC_USDT\"\n",
    "ba_df = bid_ask_client.download_order_book(currency_pair)"
   ]
  },
  {
   "cell_type": "code",
   "execution_count": null,
   "id": "20c8c4d9",
   "metadata": {},
   "outputs": [],
   "source": [
    "ba_df"
   ]
  },
  {
   "cell_type": "markdown",
   "id": "d674bf3b",
   "metadata": {},
   "source": [
    "As one can see, the current implementation of bid-ask data loader only allows to show the order book at the exact moment of its initiation."
   ]
  },
  {
   "cell_type": "markdown",
   "id": "42ab9b55",
   "metadata": {},
   "source": [
    "# Bid-ask data extraction (proposed solution)"
   ]
  },
  {
   "cell_type": "markdown",
   "id": "9211dc11",
   "metadata": {},
   "source": [
    "Thanks to the research that was done in #193, we had a notion that the bid-ask data can be downloaded via open sources and specifically - _crypto-chassis_.\n",
    "For more details one can see https://github.com/cryptokaizen/cmamp/issues/193#issuecomment-974822385\n",
    "\n",
    "Few words about the data:\n",
    "- API page: https://github.com/crypto-chassis/cryptochassis-data-api-docs#information\n",
    "   - Specifically, `Market Depth` section\n",
    "- each GET request allow to download one day of 1-second snapshot data on market depth (aka order books or Level 2 data) up to a depth of 10"
   ]
  },
  {
   "cell_type": "markdown",
   "id": "d05bc162",
   "metadata": {},
   "source": [
    "## Example of a raw data"
   ]
  },
  {
   "cell_type": "markdown",
   "id": "57fc892a",
   "metadata": {},
   "source": [
    "For the example I am taking the data with he following characteristics:\n",
    "- `full_symbol` = binance::BTC_USDT\n",
    "- depth = 1 (default option)"
   ]
  },
  {
   "cell_type": "code",
   "execution_count": null,
   "id": "a56db597",
   "metadata": {
    "run_control": {
     "marked": false
    }
   },
   "outputs": [],
   "source": [
    "example_date = \"2022-01-01\"\n",
    "r = requests.get(\n",
    "    f\"https://api.cryptochassis.com/v1/market-depth/binance/btc-usdt?startTime={example_date}\"\n",
    ")\n",
    "example_data = pd.read_csv(r.json()[\"urls\"][0][\"url\"], compression=\"gzip\")"
   ]
  },
  {
   "cell_type": "code",
   "execution_count": null,
   "id": "de75e1ce",
   "metadata": {},
   "outputs": [],
   "source": [
    "example_data.head()"
   ]
  },
  {
   "cell_type": "markdown",
   "id": "cd4ad04e",
   "metadata": {},
   "source": [
    "## Get historical data"
   ]
  },
  {
   "cell_type": "markdown",
   "id": "bbd49e79",
   "metadata": {},
   "source": [
    "Each request is strictly limited to get only one day of bid-ask data. That's why I want to propose the solution that allows to get the DataFrame for any desired time range of historical data."
   ]
  },
  {
   "cell_type": "markdown",
   "id": "efb7bb8f",
   "metadata": {},
   "source": [
    "### Functions that convert data to the C-K format"
   ]
  },
  {
   "cell_type": "code",
   "execution_count": null,
   "id": "f26ece10",
   "metadata": {},
   "outputs": [],
   "source": [
    "def clean_up_raw_bid_ask_data(df):\n",
    "    # Split the columns to differentiate between `price` and `size`.\n",
    "    df[[\"bid_price\", \"bid_size\"]] = df[\"bid_price_bid_size\"].str.split(\n",
    "        \"_\", expand=True\n",
    "    )\n",
    "    df[[\"ask_price\", \"ask_size\"]] = df[\"ask_price_ask_size\"].str.split(\n",
    "        \"_\", expand=True\n",
    "    )\n",
    "    df = df.drop(columns=[\"bid_price_bid_size\", \"ask_price_ask_size\"])\n",
    "    # Convert `timestamps` to the usual format.\n",
    "    df = df.rename(columns={\"time_seconds\": \"timestamp\"})\n",
    "    df[\"timestamp\"] = df[\"timestamp\"].apply(\n",
    "        lambda x: hdateti.convert_unix_epoch_to_timestamp(x, unit=\"s\")\n",
    "    )\n",
    "    df = df.set_index(\"timestamp\")\n",
    "    # Convert to `float`.\n",
    "    for cols in df.columns:\n",
    "        df[cols] = df[cols].astype(float)\n",
    "    # Add `full_symbol` (hardcoded solution).\n",
    "    df[\"full_symbol\"] = \"binance::BTC_USDT\"\n",
    "    return df"
   ]
  },
  {
   "cell_type": "code",
   "execution_count": null,
   "id": "00441054",
   "metadata": {},
   "outputs": [],
   "source": [
    "def resample_bid_ask(df, resampling_rule):\n",
    "    \"\"\"\n",
    "    In the current format the data is presented in the `seconds` frequency. In\n",
    "    order to convert it to the minutely (or other) frequencies the following\n",
    "    aggregation rules are applied:\n",
    "\n",
    "    - Size is the sum of all sizes during the resampling period\n",
    "    - Price is the mean of all prices during the resampling period\n",
    "    \"\"\"\n",
    "    new_df = cfinresa.resample(df, rule=resampling_rule).agg(\n",
    "        {\n",
    "            \"bid_price\": \"mean\",\n",
    "            \"bid_size\": \"sum\",\n",
    "            \"ask_price\": \"mean\",\n",
    "            \"ask_size\": \"sum\",\n",
    "            \"full_symbol\": \"last\",\n",
    "        }\n",
    "    )\n",
    "    return new_df"
   ]
  },
  {
   "cell_type": "code",
   "execution_count": null,
   "id": "fc566dcb",
   "metadata": {},
   "outputs": [],
   "source": [
    "def process_bid_ask_data(df):\n",
    "    # Convert the data to the right format.\n",
    "    converted_df = clean_up_raw_bid_ask_data(df)\n",
    "    # Resample.\n",
    "    converted_resampled_df = resample_bid_ask(converted_df, \"1T\")\n",
    "    return converted_resampled_df"
   ]
  },
  {
   "cell_type": "markdown",
   "id": "d8eadc19",
   "metadata": {},
   "source": [
    "### Load historical data"
   ]
  },
  {
   "cell_type": "markdown",
   "id": "24001bd0",
   "metadata": {},
   "source": [
    "For the example I am taking the data with he following characteristics:\n",
    "- `full_symbol` = binance::BTC_USDT\n",
    "- depth = 1 (default option)\n",
    "- start_ts = \"2022-01-01\"\n",
    "- end_ts = \"2022-01-30\" (15 days in total)"
   ]
  },
  {
   "cell_type": "code",
   "execution_count": null,
   "id": "46415be9",
   "metadata": {},
   "outputs": [],
   "source": [
    "# Get the list of all dates in the range.\n",
    "datelist = pd.date_range(\"2022-01-01\", periods=30).tolist()\n",
    "datelist = [str(x.strftime(\"%Y-%m-%d\")) for x in datelist]"
   ]
  },
  {
   "cell_type": "code",
   "execution_count": null,
   "id": "0b750378",
   "metadata": {},
   "outputs": [],
   "source": [
    "# Using the variables from `datelist` the multiple requests can be sent to the API.\n",
    "result = []\n",
    "for date in datelist:\n",
    "    # Interaction with the API.\n",
    "    r = requests.get(\n",
    "        f\"https://api.cryptochassis.com/v1/market-depth/binance/btc-usdt?startTime={date}\"\n",
    "    )\n",
    "    data = pd.read_csv(r.json()[\"urls\"][0][\"url\"], compression=\"gzip\")\n",
    "    # Attaching it day-by-day to the final DataFrame.\n",
    "    result.append(data)\n",
    "bid_ask_df = pd.concat(result)"
   ]
  },
  {
   "cell_type": "code",
   "execution_count": null,
   "id": "ee560ddc",
   "metadata": {},
   "outputs": [],
   "source": [
    "# Transforming the data.\n",
    "processed_data = process_bid_ask_data(bid_ask_df)"
   ]
  },
  {
   "cell_type": "code",
   "execution_count": null,
   "id": "2d115329",
   "metadata": {},
   "outputs": [],
   "source": [
    "# Show the data.\n",
    "display(processed_data.shape)\n",
    "display(processed_data)"
   ]
  },
  {
   "cell_type": "markdown",
   "id": "d73f9e24",
   "metadata": {},
   "source": [
    "Now, this data is in the format that is compatible for working with CCXT/Talos OHLCV data.\n",
    "\n",
    "It takes ±1.5mins to load and process data for 1 month (30 days), so it shouldn't take much time to load big chunks of historical data."
   ]
  }
 ],
 "metadata": {
  "kernelspec": {
   "display_name": "Python 3 (ipykernel)",
   "language": "python",
   "name": "python3"
  },
  "language_info": {
   "codemirror_mode": {
    "name": "ipython",
    "version": 3
   },
   "file_extension": ".py",
   "mimetype": "text/x-python",
   "name": "python",
   "nbconvert_exporter": "python",
   "pygments_lexer": "ipython3"
  },
  "toc": {
   "base_numbering": 1,
   "nav_menu": {},
   "number_sections": true,
   "sideBar": true,
   "skip_h1_title": false,
   "title_cell": "Table of Contents",
   "title_sidebar": "Contents",
   "toc_cell": false,
   "toc_position": {},
   "toc_section_display": true,
   "toc_window_display": false
  }
 },
 "nbformat": 4,
 "nbformat_minor": 5
}
