{
 "cells": [
  {
   "cell_type": "markdown",
   "id": "ec077111",
   "metadata": {},
   "source": [
    "## Setup"
   ]
  },
  {
   "cell_type": "markdown",
   "id": "f9f08445",
   "metadata": {},
   "source": [
    "We need to install python binance library, since it is not currently a part of dev image"
   ]
  },
  {
   "cell_type": "code",
   "execution_count": null,
   "id": "4935eb40",
   "metadata": {},
   "outputs": [],
   "source": [
    "import sys\n",
    "\n",
    "!sudo {sys.executable} -m pip install python-binance"
   ]
  },
  {
   "cell_type": "code",
   "execution_count": null,
   "id": "5c26ca1e",
   "metadata": {},
   "outputs": [],
   "source": [
    "import asyncio\n",
    "import binance as bn\n",
    "from datetime import datetime, timedelta\n",
    "# import helpers.hsecrets as hsecret"
   ]
  },
  {
   "cell_type": "code",
   "execution_count": null,
   "id": "b705a974",
   "metadata": {},
   "outputs": [],
   "source": [
    "# api_creds = hsecret.get_secret(\"binance.local.sandbox.1\")"
   ]
  },
  {
   "cell_type": "markdown",
   "id": "7a33f20b",
   "metadata": {},
   "source": [
    "## Single symbol demo"
   ]
  },
  {
   "cell_type": "code",
   "execution_count": null,
   "id": "9a3eee63",
   "metadata": {},
   "outputs": [],
   "source": [
    "msgs = []\n",
    "def process_websocket_msg(msg):\n",
    "    msgs.append(msg)"
   ]
  },
  {
   "cell_type": "code",
   "execution_count": null,
   "id": "75f0bf27",
   "metadata": {},
   "outputs": [],
   "source": [
    "async def start_order_book_socket():\n",
    "    # client = await bn.AsyncClient.create(api_key=api_creds[\"apiKey\"], api_secret=api_creds[\"secret\"])\n",
    "    # For this data we don't even need API key.\n",
    "    client = await bn.AsyncClient.create()\n",
    "    # Setting custom timeout when executing with this approach doesn't work.\n",
    "    # i.e. the socket simply continues to stream.\n",
    "    socket_manager = bn.BinanceSocketManager(client, user_timeout=10)\n",
    "    # start the socket\n",
    "    # The library is not a 100% match against the API\n",
    "    # For example we don't have the update speed argument\n",
    "    # available.\n",
    "    order_book_socket = socket_manager.futures_depth_socket('BTCUSDT',\n",
    "                                                           futures_type=bn.enums.FuturesType.USD_M,\n",
    "                                                           depth=bn.BinanceSocketManager.WEBSOCKET_DEPTH_5)\n",
    "    end_time = datetime.now() + timedelta(seconds=10)\n",
    "    async with order_book_socket as obsm:\n",
    "        while datetime.now() < end_time:\n",
    "            msg = await obsm.recv()\n",
    "            process_websocket_msg(msg)\n",
    "\n",
    "    await client.close_connection()"
   ]
  },
  {
   "cell_type": "code",
   "execution_count": null,
   "id": "6df49220",
   "metadata": {},
   "outputs": [],
   "source": [
    "# For some reason running the below code ends with:\n",
    "# RuntimeError: This event loop is already running\n",
    "#loop = asyncio.get_event_loop()\n",
    "#loop.run_until_complete(start_order_book_socket())\n",
    "# We need to run using\n",
    "await start_order_book_socket()"
   ]
  },
  {
   "cell_type": "markdown",
   "id": "d6b6028e",
   "metadata": {},
   "source": [
    "## Received message example\n",
    "- From binance forum https://dev.binance.vision/t/meaning-of-event-time-transaction-time-fields/5449\n",
    "- The transaction time T records the time that the data (e.g. account, order related) got updated and the event time E represents the time a certain data was pushed out from the server\n",
    "- \"When calculating server-to-client latency, I would suggest to consider using event time since the transaction time can be viewed as the internal operation time at the server side.\"\n",
    " - **Should we be calculating the latency?**"
   ]
  },
  {
   "cell_type": "code",
   "execution_count": null,
   "id": "455e9543",
   "metadata": {},
   "outputs": [],
   "source": [
    "msgs[0]"
   ]
  },
  {
   "cell_type": "code",
   "execution_count": null,
   "id": "a4b8e3c9",
   "metadata": {},
   "outputs": [],
   "source": []
  }
 ],
 "metadata": {
  "kernelspec": {
   "display_name": "Python 3 (ipykernel)",
   "language": "python",
   "name": "python3"
  },
  "language_info": {
   "codemirror_mode": {
    "name": "ipython",
    "version": 3
   },
   "file_extension": ".py",
   "mimetype": "text/x-python",
   "name": "python",
   "nbconvert_exporter": "python",
   "pygments_lexer": "ipython3"
  },
  "toc": {
   "base_numbering": 1,
   "nav_menu": {},
   "number_sections": true,
   "sideBar": true,
   "skip_h1_title": false,
   "title_cell": "Table of Contents",
   "title_sidebar": "Contents",
   "toc_cell": false,
   "toc_position": {},
   "toc_section_display": true,
   "toc_window_display": false
  }
 },
 "nbformat": 4,
 "nbformat_minor": 5
}
