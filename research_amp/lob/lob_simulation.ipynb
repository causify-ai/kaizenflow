{
 "cells": [
  {
   "cell_type": "markdown",
   "id": "b2b1a767",
   "metadata": {},
   "source": [
    "- Assume that each person has a limit order distribution given by a N(a, b) for selling and buying\n",
    "\n",
    "   - N = number of actors\n",
    "   - Bid = B_mean, B_std, equals to the demand on the market (orders to purchase asset)\n",
    "   - Ask = A_mean, A_std, equals to the supply on the market (orders to sell asset)\n",
    "\n",
    "- The orders are inserted in a queue and matched"
   ]
  },
  {
   "cell_type": "markdown",
   "id": "ecc841f2",
   "metadata": {},
   "source": [
    "# Imports"
   ]
  },
  {
   "cell_type": "code",
   "execution_count": null,
   "id": "67a6c044",
   "metadata": {},
   "outputs": [],
   "source": [
    "%load_ext autoreload\n",
    "%autoreload 2\n",
    "\n",
    "import research_amp.lob.lob_lib as ralololi\n",
    "import numpy as np\n",
    "import pandas as pd"
   ]
  },
  {
   "cell_type": "markdown",
   "id": "dc426353",
   "metadata": {},
   "source": [
    "# Generate the data"
   ]
  },
  {
   "cell_type": "code",
   "execution_count": null,
   "id": "707230b6",
   "metadata": {},
   "outputs": [],
   "source": [
    "n_samples = 10\n",
    "bid_asks_raw = ralololi.get_data(n_samples)\n",
    "#\n",
    "display(bid_asks_raw)\n",
    "#\n",
    "bid_asks_raw.plot.hist()"
   ]
  },
  {
   "cell_type": "markdown",
   "id": "b9c8baf9",
   "metadata": {},
   "source": [
    "# Convert raw orders data into `supply-demand` state"
   ]
  },
  {
   "cell_type": "code",
   "execution_count": null,
   "id": "2722c2c0",
   "metadata": {},
   "outputs": [],
   "source": [
    "supply_demand = ralololi.get_supply_demand_curve(bid_asks_raw)\n",
    "#\n",
    "display(supply_demand.head(3))\n",
    "#\n",
    "supply_demand.plot()"
   ]
  },
  {
   "cell_type": "markdown",
   "id": "c942a7f2",
   "metadata": {},
   "source": [
    "# Find the equilibrium price and quantity"
   ]
  },
  {
   "cell_type": "code",
   "execution_count": null,
   "id": "3b3fc065",
   "metadata": {},
   "outputs": [],
   "source": [
    "eq_price, eq_quantity = ralololi.find_equilibrium(supply_demand)"
   ]
  },
  {
   "cell_type": "markdown",
   "id": "59ede482",
   "metadata": {},
   "source": [
    "# Check the supply-demand imbalances"
   ]
  },
  {
   "cell_type": "code",
   "execution_count": null,
   "id": "d5d4abb5",
   "metadata": {},
   "outputs": [],
   "source": [
    "excess = supply_demand[\"supply\"] - supply_demand[\"demand\"]\n",
    "excess.plot()\n",
    "zero_crossings_idx = np.where(np.diff(np.sign(excess)) == 2)[0]\n",
    "print(zero_crossings_idx)\n",
    "excess.iloc[zero_crossings_idx[0] : zero_crossings_idx[0] + 2]"
   ]
  },
  {
   "cell_type": "markdown",
   "id": "9d0a4997",
   "metadata": {},
   "source": [
    "# MC simulation for equilibrium"
   ]
  },
  {
   "cell_type": "code",
   "execution_count": null,
   "id": "0b69b804",
   "metadata": {},
   "outputs": [],
   "source": [
    "eq_df = pd.DataFrame()\n",
    "for i in range(1, 500):\n",
    "    ba_raw = ralololi.get_data(n_samples)\n",
    "    sd = ralololi.get_supply_demand_curve(ba_raw)\n",
    "    eq_p, eq_q = ralololi.find_equilibrium(sd, print_graph=False)\n",
    "    eq_df.loc[i, \"eq_price\"] = eq_p\n",
    "    eq_df.loc[i, \"eq_quantity\"] = eq_q"
   ]
  },
  {
   "cell_type": "code",
   "execution_count": null,
   "id": "961a7bab",
   "metadata": {},
   "outputs": [],
   "source": [
    "eq_df[\"eq_price\"].hist(bins=30)"
   ]
  },
  {
   "cell_type": "code",
   "execution_count": null,
   "id": "7338bc61",
   "metadata": {},
   "outputs": [],
   "source": [
    "eq_df[\"eq_quantity\"].hist(bins=20)"
   ]
  }
 ],
 "metadata": {
  "kernelspec": {
   "display_name": "Python 3 (ipykernel)",
   "language": "python",
   "name": "python3"
  },
  "language_info": {
   "codemirror_mode": {
    "name": "ipython",
    "version": 3
   },
   "file_extension": ".py",
   "mimetype": "text/x-python",
   "name": "python",
   "nbconvert_exporter": "python",
   "pygments_lexer": "ipython3"
  },
  "toc": {
   "base_numbering": 1,
   "nav_menu": {},
   "number_sections": true,
   "sideBar": true,
   "skip_h1_title": false,
   "title_cell": "Table of Contents",
   "title_sidebar": "Contents",
   "toc_cell": false,
   "toc_position": {},
   "toc_section_display": true,
   "toc_window_display": false
  }
 },
 "nbformat": 4,
 "nbformat_minor": 5
}
