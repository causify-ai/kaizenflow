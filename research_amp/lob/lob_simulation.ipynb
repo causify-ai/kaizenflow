{
 "cells": [
  {
   "cell_type": "markdown",
   "id": "423b60d2",
   "metadata": {},
   "source": [
    "- Assume that each person has a limit order distribution given by a N(a, b) for selling and buying\n",
    "\n",
    "   - N = number of actors\n",
    "   - Bid = B_mean, B_std, equals to the demand on the market (orders to purchase asset)\n",
    "   - Ask = A_mean, A_std, equals to the supply on the market (orders to sell asset)\n",
    "\n",
    "- The orders are inserted in a queue and matched"
   ]
  },
  {
   "cell_type": "markdown",
   "id": "d5f76de3",
   "metadata": {},
   "source": [
    "# Imports"
   ]
  },
  {
   "cell_type": "code",
   "execution_count": null,
   "id": "67a6c044",
   "metadata": {},
   "outputs": [],
   "source": [
    "%load_ext autoreload\n",
    "%autoreload 2\n",
    "\n",
    "import numpy as np\n",
    "import pandas as pd\n",
    "import scipy as scipy\n",
    "import lob_lib as llib"
   ]
  },
  {
   "cell_type": "markdown",
   "id": "f73b4732",
   "metadata": {},
   "source": [
    "# Generate the data"
   ]
  },
  {
   "cell_type": "code",
   "execution_count": null,
   "id": "707230b6",
   "metadata": {},
   "outputs": [],
   "source": [
    "n_samples = 10\n",
    "bid_asks_raw = llib.get_data(n_samples)\n",
    "#\n",
    "display(bid_asks_raw)\n",
    "#\n",
    "bid_asks_raw.plot.hist()"
   ]
  },
  {
   "cell_type": "markdown",
   "id": "cf8c3391",
   "metadata": {},
   "source": [
    "# Convert raw orders data into `supply-demand` state"
   ]
  },
  {
   "cell_type": "code",
   "execution_count": null,
   "id": "2722c2c0",
   "metadata": {},
   "outputs": [],
   "source": [
    "supply_demand = llib.get_supply_demand_curve(bid_asks_raw)\n",
    "#\n",
    "display(supply_demand.head(3))\n",
    "#\n",
    "supply_demand.plot()"
   ]
  },
  {
   "cell_type": "markdown",
   "id": "0fb8cbf7",
   "metadata": {},
   "source": [
    "# Find the equilibrium price and quantity"
   ]
  },
  {
   "cell_type": "code",
   "execution_count": null,
   "id": "0779c1ee",
   "metadata": {},
   "outputs": [],
   "source": [
    "eq_price, eq_quantity = llib.find_equilibrium(supply_demand)"
   ]
  },
  {
   "cell_type": "code",
   "execution_count": null,
   "id": "f49f7b39",
   "metadata": {},
   "outputs": [],
   "source": []
  },
  {
   "cell_type": "code",
   "execution_count": null,
   "id": "3a50edec",
   "metadata": {},
   "outputs": [],
   "source": []
  },
  {
   "cell_type": "code",
   "execution_count": null,
   "id": "49277e2a",
   "metadata": {},
   "outputs": [],
   "source": []
  },
  {
   "cell_type": "code",
   "execution_count": null,
   "id": "506156e9",
   "metadata": {},
   "outputs": [],
   "source": []
  },
  {
   "cell_type": "code",
   "execution_count": null,
   "id": "7c36746e",
   "metadata": {},
   "outputs": [],
   "source": []
  },
  {
   "cell_type": "code",
   "execution_count": null,
   "id": "7b70df37",
   "metadata": {},
   "outputs": [],
   "source": [
    "sd = supply_demand.copy()"
   ]
  },
  {
   "cell_type": "code",
   "execution_count": null,
   "id": "d5d4abb5",
   "metadata": {},
   "outputs": [],
   "source": [
    "excess = sd[\"supply\"] - sd[\"demand\"]\n",
    "excess.plot()\n",
    "zero_crossings = np.where(np.diff(np.sign(excess)))\n",
    "idx = zero_crossings[0]\n",
    "print(idx)\n",
    "excess.iloc[idx]"
   ]
  },
  {
   "cell_type": "code",
   "execution_count": null,
   "id": "46ee1e6a",
   "metadata": {},
   "outputs": [],
   "source": [
    "excess\n",
    "idx = np.where(np.diff(np.sign(excess)) == 2)[0]\n",
    "excess.iloc[idx + 1]"
   ]
  },
  {
   "cell_type": "code",
   "execution_count": null,
   "id": "5a460cbf",
   "metadata": {},
   "outputs": [],
   "source": []
  },
  {
   "cell_type": "code",
   "execution_count": null,
   "id": "d44afacc",
   "metadata": {},
   "outputs": [],
   "source": []
  },
  {
   "cell_type": "code",
   "execution_count": null,
   "id": "e250dc69",
   "metadata": {},
   "outputs": [],
   "source": []
  },
  {
   "cell_type": "code",
   "execution_count": null,
   "id": "709fdc3a",
   "metadata": {},
   "outputs": [],
   "source": []
  }
 ],
 "metadata": {
  "kernelspec": {
   "display_name": "Python 3 (ipykernel)",
   "language": "python",
   "name": "python3"
  },
  "language_info": {
   "codemirror_mode": {
    "name": "ipython",
    "version": 3
   },
   "file_extension": ".py",
   "mimetype": "text/x-python",
   "name": "python",
   "nbconvert_exporter": "python",
   "pygments_lexer": "ipython3"
  },
  "toc": {
   "base_numbering": 1,
   "nav_menu": {},
   "number_sections": true,
   "sideBar": true,
   "skip_h1_title": false,
   "title_cell": "Table of Contents",
   "title_sidebar": "Contents",
   "toc_cell": false,
   "toc_position": {},
   "toc_section_display": true,
   "toc_window_display": false
  }
 },
 "nbformat": 4,
 "nbformat_minor": 5
}
