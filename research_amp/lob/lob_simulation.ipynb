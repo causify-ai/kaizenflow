{
 "cells": [
  {
   "cell_type": "code",
   "execution_count": null,
   "id": "25cbb6fd",
   "metadata": {},
   "outputs": [],
   "source": [
    "# Assume that each person has a limit order distribution given by a N(a, b) for selling and buying\n",
    "\n",
    "# N = number of actors\n",
    "# Bid = B_mean, B_std\n",
    "# Ask = A_mean, A_std\n",
    "\n",
    "# The orders are inserted in a queue and matched"
   ]
  },
  {
   "cell_type": "code",
   "execution_count": null,
   "id": "67a6c044",
   "metadata": {},
   "outputs": [],
   "source": [
    "import numpy as np\n",
    "import pandas as pd\n",
    "import scipy as scipy"
   ]
  },
  {
   "cell_type": "code",
   "execution_count": null,
   "id": "9678d6e0",
   "metadata": {},
   "outputs": [],
   "source": [
    "%load_ext autoreload\n",
    "%autoreload 2"
   ]
  },
  {
   "cell_type": "code",
   "execution_count": null,
   "id": "d5a572ec",
   "metadata": {},
   "outputs": [],
   "source": [
    "import lib"
   ]
  },
  {
   "cell_type": "code",
   "execution_count": null,
   "id": "eff32851",
   "metadata": {},
   "outputs": [],
   "source": [
    "print(ask_rv)\n",
    "print(bid_rv)"
   ]
  },
  {
   "cell_type": "code",
   "execution_count": null,
   "id": "707230b6",
   "metadata": {},
   "outputs": [],
   "source": [
    "ob = lib.get_data()\n",
    "\n",
    "display(ob)\n",
    "\n",
    "ob.plot.hist()"
   ]
  },
  {
   "cell_type": "code",
   "execution_count": null,
   "id": "2722c2c0",
   "metadata": {},
   "outputs": [],
   "source": [
    "sd = lib.get_supply_demand_curve(ob)\n",
    "\n",
    "display(sd)\n",
    "\n",
    "sd.plot()"
   ]
  },
  {
   "cell_type": "code",
   "execution_count": null,
   "id": "e037856a",
   "metadata": {},
   "outputs": [],
   "source": [
    "sd.index[4]"
   ]
  },
  {
   "cell_type": "code",
   "execution_count": null,
   "id": "9d02aebf",
   "metadata": {},
   "outputs": [],
   "source": [
    "eq_idx = lib.find_equilibrium(sd)\n",
    "#eq_quantity = (sd.iloc[eq_idx].index.values[0] + sd.iloc[eq_idx + 1].index.values[0]) / 2\n",
    "print(sd.iloc[eq_idx].index)\n",
    "eq_quantity1 = sd.index.values[eq_idx]\n",
    "eq_quantity2 = sd.index.values[eq_idx + 1]\n",
    "#print(eq_quantity1, eq_quantity2)\n",
    "eq_quantity = np.mean([eq_quantity1, eq_quantity2])\n",
    "print(eq_idx, eq_quantity)\n",
    "ax = sd.plot()\n",
    "ymin, ymax = ax.get_ylim()\n",
    "ax.vlines(eq_quantity, ymin=ymin, ymax=ymax, color=\"r\")"
   ]
  },
  {
   "cell_type": "code",
   "execution_count": null,
   "id": "d5d4abb5",
   "metadata": {},
   "outputs": [],
   "source": [
    "excess = df[\"supply\"] - df[\"demand\"]\n",
    "excess.plot()\n",
    "zero_crossings = np.where(np.diff(np.sign(excess)))\n",
    "idx = zero_crossings[0]\n",
    "print(idx)\n",
    "excess.iloc[idx]"
   ]
  },
  {
   "cell_type": "code",
   "execution_count": null,
   "id": "46ee1e6a",
   "metadata": {},
   "outputs": [],
   "source": [
    "excess\n",
    "idx = np.where(np.diff(np.sign(excess)) == 2)[0]\n",
    "excess.iloc[idx + 1]"
   ]
  },
  {
   "cell_type": "code",
   "execution_count": null,
   "id": "322ba010",
   "metadata": {},
   "outputs": [],
   "source": [
    "a"
   ]
  }
 ],
 "metadata": {
  "kernelspec": {
   "display_name": "Python 3 (ipykernel)",
   "language": "python",
   "name": "python3"
  },
  "language_info": {
   "codemirror_mode": {
    "name": "ipython",
    "version": 3
   },
   "file_extension": ".py",
   "mimetype": "text/x-python",
   "name": "python",
   "nbconvert_exporter": "python",
   "pygments_lexer": "ipython3"
  },
  "toc": {
   "base_numbering": 1,
   "nav_menu": {},
   "number_sections": true,
   "sideBar": true,
   "skip_h1_title": false,
   "title_cell": "Table of Contents",
   "title_sidebar": "Contents",
   "toc_cell": false,
   "toc_position": {},
   "toc_section_display": true,
   "toc_window_display": false
  }
 },
 "nbformat": 4,
 "nbformat_minor": 5
}
