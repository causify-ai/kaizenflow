{
 "cells": [
  {
   "cell_type": "code",
   "execution_count": 8,
   "id": "2fdad157",
   "metadata": {
    "ExecuteTime": {
     "end_time": "2024-05-29T20:20:32.552417Z",
     "start_time": "2024-05-29T20:20:32.544350Z"
    }
   },
   "outputs": [],
   "source": [
    "import sqlite3\n",
    "import pandas as pd\n",
    "import numpy as np\n",
    "import seaborn as sns\n",
    "import itertools\n",
    "import matplotlib.pyplot as plt\n",
    "import os\n",
    "import calendar\n",
    "import datetime \n",
    "import zipfile\n",
    "import re\n",
    "import sklearn.model_selection as sms \n",
    "import scipy.stats\n",
    "import sklearn.preprocessing \n",
    "import sklearn.impute\n",
    "import boto3\n",
    "import io \n",
    "import scipy.optimize as sopt\n",
    "import warnings\n",
    "import joblib \n",
    "import math\n",
    "import statsmodels.api as sm\n",
    "import statsmodels.formula.api as smf\n",
    "import sklearn.metrics as skm\n",
    "import helpers.haws as haws\n",
    "import numpy as np\n",
    "import pandas as pd\n",
    "import scipy.stats as scps \n",
    "pd.set_option('display.max_columns', None)\n",
    "warnings.filterwarnings(\"ignore\")"
   ]
  },
  {
   "cell_type": "code",
   "execution_count": 6,
   "id": "5e0f8ba9",
   "metadata": {
    "ExecuteTime": {
     "end_time": "2024-05-29T20:13:56.471552Z",
     "start_time": "2024-05-29T20:13:56.151274Z"
    }
   },
   "outputs": [
    {
     "name": "stdout",
     "output_type": "stream",
     "text": [
      "         Date    Sea   Lge             HT                    AT  HS  AS  \\\n",
      "0  2012-04-28  12-13  CHL1  CD Huachipato  Universidad Catolica   2   2   \n",
      "1  2014-04-13  13-14  CHL1  CD Huachipato  Universidad de Chile   5   2   \n",
      "2  2010-02-14  10-11  CHL1  CD Huachipato        Union Espanola   1   2   \n",
      "3  2010-11-07  10-11  CHL1  CD Huachipato               Higgins   2   1   \n",
      "4  2014-01-10  13-14  CHL1  CD Huachipato           CSD Rangers   3   2   \n",
      "\n",
      "   Lambda_HS  Lambda_AS  prob_home_win  prob_away_win  prob_draw  \\\n",
      "0          2          2       0.396453       0.396453   0.207002   \n",
      "1          2          2       0.396453       0.396453   0.207002   \n",
      "2          2          2       0.396453       0.396453   0.207002   \n",
      "3          2          2       0.396453       0.396453   0.207002   \n",
      "4          1          1       0.345746       0.345746   0.308508   \n",
      "\n",
      "  predicted_outcome actual_outcome  \n",
      "0              draw           draw  \n",
      "1              draw       home_win  \n",
      "2              draw       away_win  \n",
      "3              draw       home_win  \n",
      "4          home_win       home_win  \n"
     ]
    }
   ],
   "source": [
    "# Initialize a session.\n",
    "s3 = haws.get_service_resource(aws_profile='ck', service_name = 's3')\n",
    "\n",
    "# Define the S3 bucket and the file location\n",
    "bucket_name = 'cryptokaizen-data-test'\n",
    "s3_file_path = 'kaizen_ai/soccer_prediction/model_output/glm_model_predictions.csv'\n",
    "\n",
    "# Retrieve the CSV file from S3\n",
    "obj = s3.Object(bucket_name, s3_file_path)\n",
    "data = obj.get()['Body'].read().decode('utf-8')\n",
    "\n",
    "# Load the CSV file content into a pandas DataFrame\n",
    "poisson_df = pd.read_csv(io.StringIO(data))\n",
    "\n",
    "# Display the first few rows of the DataFrame\n",
    "print(poisson_df.head())"
   ]
  },
  {
   "cell_type": "markdown",
   "id": "e320d89f",
   "metadata": {},
   "source": [
    "### Paired t-test Random classifier-Poisson"
   ]
  },
  {
   "cell_type": "code",
   "execution_count": 9,
   "id": "ed5e906b",
   "metadata": {
    "ExecuteTime": {
     "end_time": "2024-05-29T20:20:35.804658Z",
     "start_time": "2024-05-29T20:20:35.493644Z"
    }
   },
   "outputs": [
    {
     "name": "stdout",
     "output_type": "stream",
     "text": [
      "Poisson Model Accuracy: 0.4699325552279795\n",
      "Random Classifier Accuracy: 0.3279754452566536\n",
      "Paired t-test: t-statistic = 32.65216084647199, p-value = 5.3476505383395314e-229\n"
     ]
    }
   ],
   "source": [
    "# Normalize probabilities to sum to 1\n",
    "poisson_df['prob_home_win'] /= (poisson_df['prob_home_win'] + poisson_df['prob_away_win'] + poisson_df['prob_draw'])\n",
    "poisson_df['prob_away_win'] /= (poisson_df['prob_home_win'] + poisson_df['prob_away_win'] + poisson_df['prob_draw'])\n",
    "poisson_df['prob_draw'] /= (poisson_df['prob_home_win'] + poisson_df['prob_away_win'] + poisson_df['prob_draw'])\n",
    "\n",
    "# Determine predicted outcomes based on highest probability\n",
    "poisson_df['predicted_poisson'] = poisson_df[['prob_home_win', 'prob_away_win', 'prob_draw']].idxmax(axis=1)\n",
    "poisson_df['predicted_poisson'] = poisson_df['predicted_poisson'].apply(lambda x: 'home' \n",
    "                                                        if x == 'prob_home_win' \n",
    "                                                        else ('away' if x == 'prob_away_win' else 'draw'))\n",
    "\n",
    "# Generate random predictions for the naive classifier\n",
    "np.random.seed(42)  # For reproducibility\n",
    "poisson_df['predicted_random'] = np.random.choice(['home', 'away', 'draw'], size=len(df))\n",
    "\n",
    "# Define actual outcomes\n",
    "def get_actual_outcome(row):\n",
    "    if row['HS'] > row['AS']:\n",
    "        return 'home'\n",
    "    elif row['HS'] < row['AS']:\n",
    "        return 'away'\n",
    "    else:\n",
    "        return 'draw'\n",
    "\n",
    "poisson_df['actual_outcome'] = poisson_df.apply(get_actual_outcome, axis=1)\n",
    "\n",
    "# Compute accuracy for Poisson model and random classifier\n",
    "poisson_df['accuracy_poisson'] = (poisson_df['predicted_poisson'] == poisson_df['actual_outcome']).astype(int)\n",
    "poisson_df['accuracy_random'] = (poisson_df['predicted_random'] == poisson_df['actual_outcome']).astype(int)\n",
    "\n",
    "# Perform paired t-test\n",
    "t_stat, p_value = scps.ttest_rel(poisson_df['accuracy_poisson'], poisson_df['accuracy_random'])\n",
    "\n",
    "# Print results\n",
    "print(f\"Poisson Model Accuracy: {poisson_df['accuracy_poisson'].mean()}\")\n",
    "print(f\"Random Classifier Accuracy: {poisson_df['accuracy_random'].mean()}\")\n",
    "print(f\"Paired t-test: t-statistic = {t_stat}, p-value = {p_value}\")"
   ]
  },
  {
   "cell_type": "markdown",
   "id": "2c2ba4d9",
   "metadata": {},
   "source": [
    "### visualize the value counts of wins/losses/draw"
   ]
  },
  {
   "cell_type": "code",
   "execution_count": 12,
   "id": "be461516",
   "metadata": {
    "ExecuteTime": {
     "end_time": "2024-05-29T20:31:15.212316Z",
     "start_time": "2024-05-29T20:31:14.929836Z"
    }
   },
   "outputs": [
    {
     "data": {
      "image/png": "[encoded data removed]",
      "text/plain": [
       "<Figure size 800x600 with 1 Axes>"
      ]
     },
     "metadata": {},
     "output_type": "display_data"
    }
   ],
   "source": [
    "# 1. Instances that home team won vs. away team won vs. draw\n",
    "win_counts = df['actual_outcome'].value_counts()\n",
    "plt.figure(figsize=(8, 6))\n",
    "sns.barplot(x=win_counts.index, y=win_counts.values, palette='viridis')\n",
    "plt.title('Home Team Wins vs Away Team Wins vs Draws')\n",
    "plt.ylabel('Count')\n",
    "plt.show()"
   ]
  },
  {
   "cell_type": "markdown",
   "id": "6b02f0ff",
   "metadata": {},
   "source": [
    "### Naive - Poisson"
   ]
  },
  {
   "cell_type": "code",
   "execution_count": 14,
   "id": "9df9906e",
   "metadata": {
    "ExecuteTime": {
     "end_time": "2024-05-29T20:31:43.006163Z",
     "start_time": "2024-05-29T20:31:42.695742Z"
    }
   },
   "outputs": [
    {
     "name": "stdout",
     "output_type": "stream",
     "text": [
      "Poisson Model Accuracy: 0.4699325552279795\n",
      "Naive Classifier Accuracy: 0.4517184281733371\n",
      "Paired t-test (Poisson vs. Naive): t-statistic = 10.274272859062222, p-value = 1.0318130287358916e-24\n"
     ]
    }
   ],
   "source": [
    "# Normalize probabilities to sum to 1\n",
    "df['prob_home_win'] /= (df['prob_home_win'] + df['prob_away_win'] + df['prob_draw'])\n",
    "df['prob_away_win'] /= (df['prob_home_win'] + df['prob_away_win'] + df['prob_draw'])\n",
    "df['prob_draw'] /= (df['prob_home_win'] + df['prob_away_win'] + df['prob_draw'])\n",
    "\n",
    "# Determine predicted outcomes based on highest probability\n",
    "df['predicted_poisson'] = df[['prob_home_win', 'prob_away_win', 'prob_draw']].idxmax(axis=1)\n",
    "df['predicted_poisson'] = df['predicted_poisson'].apply(lambda x: 'home' if x == 'prob_home_win' else ('away' if x == 'prob_away_win' else 'draw'))\n",
    "\n",
    "# Generate predictions for the naive classifier (always predicting home win)\n",
    "df['predicted_naive'] = 'home'\n",
    "\n",
    "# Define actual outcomes\n",
    "def get_actual_outcome(row):\n",
    "    if row['HS'] > row['AS']:\n",
    "        return 'home'\n",
    "    elif row['HS'] < row['AS']:\n",
    "        return 'away'\n",
    "    else:\n",
    "        return 'draw'\n",
    "\n",
    "df['actual_outcome'] = df.apply(get_actual_outcome, axis=1)\n",
    "\n",
    "# Compute accuracy for Poisson model and naive classifier\n",
    "df['accuracy_poisson'] = (df['predicted_poisson'] == df['actual_outcome']).astype(int)\n",
    "df['accuracy_naive'] = (df['predicted_naive'] == df['actual_outcome']).astype(int)\n",
    "\n",
    "# Perform paired t-test\n",
    "t_stat_poisson_naive, p_value_poisson_naive = scps.ttest_rel(df['accuracy_poisson'], df['accuracy_naive'])\n",
    "\n",
    "# Print results\n",
    "print(f\"Poisson Model Accuracy: {df['accuracy_poisson'].mean()}\")\n",
    "print(f\"Naive Classifier Accuracy: {df['accuracy_naive'].mean()}\")\n",
    "print(f\"Paired t-test (Poisson vs. Naive): t-statistic = {t_stat_poisson_naive}, p-value = {p_value_poisson_naive}\")"
   ]
  }
 ],
 "metadata": {
  "kernelspec": {
   "display_name": "Python 3 (ipykernel)",
   "language": "python",
   "name": "python3"
  },
  "language_info": {
   "codemirror_mode": {
    "name": "ipython",
    "version": 3
   },
   "file_extension": ".py",
   "mimetype": "text/x-python",
   "name": "python",
   "nbconvert_exporter": "python",
   "pygments_lexer": "ipython3",
   "version": "3.9.5"
  },
  "toc": {
   "base_numbering": 1,
   "nav_menu": {},
   "number_sections": true,
   "sideBar": true,
   "skip_h1_title": false,
   "title_cell": "Table of Contents",
   "title_sidebar": "Contents",
   "toc_cell": false,
   "toc_position": {},
   "toc_section_display": true,
   "toc_window_display": false
  }
 },
 "nbformat": 4,
 "nbformat_minor": 5
}
