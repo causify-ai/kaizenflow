{
 "cells": [
  {
   "cell_type": "code",
   "execution_count": 1,
   "id": "0c66026f",
   "metadata": {
    "ExecuteTime": {
     "end_time": "2024-07-24T18:24:48.229185Z",
     "start_time": "2024-07-24T18:24:38.980517Z"
    },
    "scrolled": true
   },
   "outputs": [
    {
     "name": "stderr",
     "output_type": "stream",
     "text": [
      "/app/dataflow/core/dag.py:15: TqdmExperimentalWarning: Using `tqdm.autonotebook.tqdm` in notebook mode. Use `tqdm.tqdm` instead to force console mode (e.g. in jupyter console)\n",
      "  from tqdm.autonotebook import tqdm\n",
      "\u001b[33mWARNING\u001b[0m: No module named 'gluonts'\n",
      "\u001b[33mWARNING\u001b[0m: No module named 'gluonts'\n",
      "Don't recognize host: host_os_name=Linux, am_host_os_name=Linux\n"
     ]
    }
   ],
   "source": [
    "import logging\n",
    "from typing import Any, Dict, Optional\n",
    "\n",
    "import numpy as np\n",
    "import pandas as pd\n",
    "import statsmodels.formula.api as smf\n",
    "from scipy.optimize import minimize\n",
    "from sklearn.base import BaseEstimator, RegressorMixin\n",
    "\n",
    "import dataflow.core as dtfcore\n",
    "import dataflow.core.node as dtfcornode\n",
    "import dataflow.core.nodes.sklearn_models as dtfcnoskmo\n",
    "import dataflow.core.nodes.sources as dtfconosou\n",
    "import helpers.hdbg as hdbg\n",
    "import helpers.henv as henv\n",
    "import helpers.hpandas as hpandas\n",
    "import helpers.hprint as hprint\n",
    "import research_amp.soccer_prediction.preproccesing as rasoprpr\n",
    "import research_amp.soccer_prediction.utils as rasoprut\n",
    "import research_amp.soccer_prediction.models as rasoprmo"
   ]
  },
  {
   "cell_type": "code",
   "execution_count": null,
   "id": "cb95b42b",
   "metadata": {
    "ExecuteTime": {
     "end_time": "2024-07-24T18:24:48.446124Z",
     "start_time": "2024-07-24T18:24:48.232323Z"
    },
    "scrolled": false
   },
   "outputs": [],
   "source": [
    "hdbg.init_logger(verbosity=logging.DEBUG)\n",
    "\n",
    "_LOG = logging.getLogger(__name__)\n",
    "\n",
    "_LOG.info(\"%s\", henv.get_system_signature()[0])\n",
    "\n",
    "hprint.config_notebook()"
   ]
  },
  {
   "cell_type": "code",
   "execution_count": null,
   "id": "4cddba53",
   "metadata": {
    "ExecuteTime": {
     "end_time": "2024-07-24T18:24:49.686768Z",
     "start_time": "2024-07-24T18:24:48.448671Z"
    },
    "lines_to_next_cell": 2,
    "run_control": {
     "marked": true
    },
    "scrolled": true
   },
   "outputs": [],
   "source": [
    "# Define the necessary preprocessing step configuration.\n",
    "config = {\"load_and_preprocess_node\": {\"bucket_name\": \"cryptokaizen-data-test\", \"dataset_path\": \"kaizen_ai/soccer_prediction/datasets/OSF_football/ISDBv2.txt\"}}\n",
    "node_1 = \"load_and_preprocess_node\"\n",
    "# Initialize the FunctionDataSource with the correct configuration.\n",
    "load_and_preprocess_node = dtfconosou.FunctionDataSource(\n",
    "    node_1, \n",
    "    func=rasoprpr.load_and_preprocess_data, \n",
    "    func_kwargs=config[node_1]\n",
    "    )\n",
    "preprocessed_df_out = load_and_preprocess_node.fit()[\"df_out\"]"
   ]
  },
  {
   "cell_type": "code",
   "execution_count": 4,
   "id": "a5a4994c",
   "metadata": {
    "ExecuteTime": {
     "end_time": "2024-07-24T18:24:49.738095Z",
     "start_time": "2024-07-24T18:24:49.690190Z"
    }
   },
   "outputs": [
    {
     "data": {
      "text/html": [
       "<div>\n",
       "<style scoped>\n",
       "    .dataframe tbody tr th:only-of-type {\n",
       "        vertical-align: middle;\n",
       "    }\n",
       "\n",
       "    .dataframe tbody tr th {\n",
       "        vertical-align: top;\n",
       "    }\n",
       "\n",
       "    .dataframe thead th {\n",
       "        text-align: right;\n",
       "    }\n",
       "</style>\n",
       "<table border=\"1\" class=\"dataframe\">\n",
       "  <thead>\n",
       "    <tr style=\"text-align: right;\">\n",
       "      <th></th>\n",
       "      <th>season</th>\n",
       "      <th>league</th>\n",
       "      <th>Date</th>\n",
       "      <th>home_team</th>\n",
       "      <th>opponent</th>\n",
       "      <th>goals_scored_by_home_team</th>\n",
       "      <th>goals_scored_by_opponent</th>\n",
       "      <th>goal_difference</th>\n",
       "      <th>match_outcome</th>\n",
       "    </tr>\n",
       "  </thead>\n",
       "  <tbody>\n",
       "    <tr>\n",
       "      <th>2000-03-19 00:00:00</th>\n",
       "      <td>00-01</td>\n",
       "      <td>CHN1</td>\n",
       "      <td>2000-03-19 00:00:00</td>\n",
       "      <td>Dalian Haichang</td>\n",
       "      <td>Beijing Guoan</td>\n",
       "      <td>2</td>\n",
       "      <td>0</td>\n",
       "      <td>2</td>\n",
       "      <td>win</td>\n",
       "    </tr>\n",
       "    <tr>\n",
       "      <th>2000-03-19 02:00:00</th>\n",
       "      <td>00-01</td>\n",
       "      <td>CHN1</td>\n",
       "      <td>2000-03-19 00:00:00</td>\n",
       "      <td>Shandong Luneng</td>\n",
       "      <td>Yunnan Hongta</td>\n",
       "      <td>0</td>\n",
       "      <td>1</td>\n",
       "      <td>-1</td>\n",
       "      <td>loss</td>\n",
       "    </tr>\n",
       "    <tr>\n",
       "      <th>2000-03-19 04:00:00</th>\n",
       "      <td>00-01</td>\n",
       "      <td>CHN1</td>\n",
       "      <td>2000-03-19 00:00:00</td>\n",
       "      <td>Guangzhou Rich and Force</td>\n",
       "      <td>Chongqing Lifan</td>\n",
       "      <td>0</td>\n",
       "      <td>0</td>\n",
       "      <td>0</td>\n",
       "      <td>draw</td>\n",
       "    </tr>\n",
       "    <tr>\n",
       "      <th></th>\n",
       "      <td>...</td>\n",
       "      <td>...</td>\n",
       "      <td>...</td>\n",
       "      <td>...</td>\n",
       "      <td>...</td>\n",
       "      <td>...</td>\n",
       "      <td>...</td>\n",
       "      <td>...</td>\n",
       "      <td>...</td>\n",
       "    </tr>\n",
       "    <tr>\n",
       "      <th>2017-06-27 08:00:00</th>\n",
       "      <td>16-17</td>\n",
       "      <td>ARG1</td>\n",
       "      <td>2017-06-27 00:00:00</td>\n",
       "      <td>Estudiantes</td>\n",
       "      <td>Quilmes AC</td>\n",
       "      <td>1</td>\n",
       "      <td>0</td>\n",
       "      <td>1</td>\n",
       "      <td>win</td>\n",
       "    </tr>\n",
       "    <tr>\n",
       "      <th>2017-06-28 00:00:00</th>\n",
       "      <td>16-17</td>\n",
       "      <td>ARG1</td>\n",
       "      <td>2017-06-28 00:00:00</td>\n",
       "      <td>Talleres Cordoba</td>\n",
       "      <td>San Lorenzo</td>\n",
       "      <td>1</td>\n",
       "      <td>1</td>\n",
       "      <td>0</td>\n",
       "      <td>draw</td>\n",
       "    </tr>\n",
       "    <tr>\n",
       "      <th>2017-06-28 02:00:00</th>\n",
       "      <td>16-17</td>\n",
       "      <td>ARG1</td>\n",
       "      <td>2017-06-28 00:00:00</td>\n",
       "      <td>Independiente</td>\n",
       "      <td>CA Lanus</td>\n",
       "      <td>1</td>\n",
       "      <td>1</td>\n",
       "      <td>0</td>\n",
       "      <td>draw</td>\n",
       "    </tr>\n",
       "  </tbody>\n",
       "</table>\n",
       "</div>"
      ],
      "text/plain": [
       "                    season league                 Date                 home_team         opponent goals_scored_by_home_team goals_scored_by_opponent goal_difference match_outcome\n",
       "2000-03-19 00:00:00  00-01   CHN1  2000-03-19 00:00:00           Dalian Haichang    Beijing Guoan                         2                        0               2           win\n",
       "2000-03-19 02:00:00  00-01   CHN1  2000-03-19 00:00:00           Shandong Luneng    Yunnan Hongta                         0                        1              -1          loss\n",
       "2000-03-19 04:00:00  00-01   CHN1  2000-03-19 00:00:00  Guangzhou Rich and Force  Chongqing Lifan                         0                        0               0          draw\n",
       "                       ...    ...                  ...                       ...              ...                       ...                      ...             ...           ...\n",
       "2017-06-27 08:00:00  16-17   ARG1  2017-06-27 00:00:00               Estudiantes       Quilmes AC                         1                        0               1           win\n",
       "2017-06-28 00:00:00  16-17   ARG1  2017-06-28 00:00:00          Talleres Cordoba      San Lorenzo                         1                        1               0          draw\n",
       "2017-06-28 02:00:00  16-17   ARG1  2017-06-28 00:00:00             Independiente         CA Lanus                         1                        1               0          draw"
      ]
     },
     "metadata": {},
     "output_type": "display_data"
    },
    {
     "name": "stdout",
     "output_type": "stream",
     "text": [
      "DEBUG None\n"
     ]
    }
   ],
   "source": [
    "_LOG.debug(hpandas.df_to_str(preprocessed_df_out))"
   ]
  },
  {
   "cell_type": "markdown",
   "id": "daabb34f",
   "metadata": {
    "lines_to_next_cell": 2
   },
   "source": [
    "#### Bivariate model Node"
   ]
  },
  {
   "cell_type": "code",
   "execution_count": 5,
   "id": "22b870e9",
   "metadata": {
    "ExecuteTime": {
     "end_time": "2024-07-24T18:26:09.426348Z",
     "start_time": "2024-07-24T18:24:49.740704Z"
    },
    "lines_to_next_cell": 2,
    "scrolled": true
   },
   "outputs": [
    {
     "name": "stdout",
     "output_type": "stream",
     "text": [
      "INFO  Current params: [-0.98123985  0.17794165  0.1         0.99497873  0.99158465  0.99195713\n",
      "  0.98977155  0.99072085  0.98869852  0.98838818  0.99001746  0.98743943\n",
      "  0.9906817   0.99621826  0.99201925  0.98712014  0.98941402  0.98798548\n",
      "  0.99239562  0.98916937  0.99183986  0.98588998  0.99146079  0.9889504\n",
      "  0.99331051  0.9895311   0.98887052  0.98809132  0.98539987  0.99193121\n",
      "  0.98871588  0.98767968  0.99276473  0.99163757  0.99063411  0.99539717\n",
      "  0.99067112  0.99197124  0.99312419  0.99422543  0.98870039  0.99256356\n",
      "  0.99413457  0.99322914  0.99280565  0.99351359  0.99453593  0.99696276\n",
      "  0.99514899  0.99732233  0.99665548  0.99857821  0.99387443  0.99631191\n",
      "  0.99595264  0.99893727  0.9934855   0.99520917  0.99668054  0.99681158\n",
      "  0.99628599  0.99808228  0.99810499  0.99712701  0.99484665  0.99573785\n",
      "  0.99738524  0.99605504  0.99480455  1.0006991   0.99778017  0.9969825\n",
      "  0.99905752  0.99751273  0.99706406  0.99818757  0.99782781  0.99585765\n",
      "  0.99625693  0.99858614  0.99621427  0.99778462  0.99519092  1.0005512\n",
      "  0.99519282  0.99811387  0.99624333  0.99660332  0.99658254  0.99657914\n",
      "  0.99705252  0.99783879  0.99747941  0.99623604  0.99659606  0.99544344\n",
      "  0.99661834  0.99668237  0.99703117  0.99760136  0.99875176  0.99583044\n",
      "  0.9963223   0.9974737   0.99846353  0.99729189  0.99748235  0.99838897\n",
      "  0.99722836  0.99760136  0.99684517  1.00031678  0.99823989  0.99849496\n",
      "  0.99786401  0.99704479  0.99779286  0.99859126  0.99744774  0.99846538\n",
      "  0.99855933  0.99746611  0.99748751  0.99726692  0.9966392   0.99741134\n",
      "  0.99967175  0.99623634  0.99726696  0.99805149  0.99920075  0.99887621\n",
      "  0.99764837  0.99772368  0.99972815  0.99623043  0.99805151  0.9996412\n",
      "  0.99687421  0.99805181  0.99607923  0.99776072  1.00067321  0.99800866\n",
      "  0.99871749  0.99964237  0.99673081  0.9977701   0.99660923  0.99667409\n",
      "  0.99741364  0.99701925  0.997412    0.99884603  0.99722836  0.99724961\n",
      "  0.99730295  0.99690786  0.99882478  0.99917657  0.99841019  0.99704154\n",
      "  0.99932588  0.99763276  0.99819695  0.99784304  0.99984315  0.99873925\n",
      "  0.99712783  0.99671398  0.99751969  0.99831765  0.99950211  0.99793384\n",
      "  0.99671396  0.99750897  0.99751967  0.99832598  0.99792285  1.00032987\n",
      "  0.99913171  0.99791485  0.999121    0.99992671  0.99671396  0.99567635\n",
      "  0.99832598  0.99753066  0.99903572  0.99952356  0.99753066  0.99752802\n",
      "  0.99873984  0.99872856  0.99764924  0.99771266  0.99724578  0.99768024\n",
      "  0.99753068  0.99783898  0.99751997  0.99725624  0.9960902   1.00035991\n",
      "  0.99942898  0.99887836  0.99982224  0.99941558  0.99751997  0.99835574\n",
      "  0.99876154  0.99964209  0.99832842  0.99790112  1.00036184  0.99687479\n",
      "  0.99794455  0.99794455  0.99873957  0.99875057  1.00061612  0.99981039\n",
      "  0.99862327  0.99783896  0.99750897  0.99941827  0.9990261   1.00050227\n",
      "  0.99848652  0.99683192  0.9971853   0.99688522  1.00100141  0.99941602\n",
      "  0.99863137  0.99901583  0.99753758  0.99873696  0.99792022  0.99701863\n",
      "  0.9983032   0.99795145  0.99822428  1.0002356   0.99863662  0.99971175\n",
      "  0.99794724  0.99971175  0.99754591  0.99902769  0.99751969  1.00075444\n",
      "  1.00104852  0.99828824  0.99945038  0.99984255  0.99864469  0.99872886\n",
      "  0.9979011   0.9983367   0.99751995  0.99750897  0.99971063  0.99750896\n",
      "  0.99859937  0.99949737  0.99751969  0.9982311   0.99872852  0.99942898\n",
      "  0.99792256  0.99871665  0.99941337  0.99707695  0.99832081  0.99788893\n",
      "  0.99823772  0.99945038  0.99712781  0.99911951  0.99790112  0.99870711\n",
      "  0.99952085  0.99832307  0.99870685  0.99753342  0.9975417   0.99671396\n",
      "  0.99750897  0.99940855  0.99833672  0.99831499  0.99943969  0.99794457\n",
      "  0.99984921  0.99971063  0.99752273  0.99711683  0.99751971  0.99876128\n",
      "  0.99873955  0.9987503   1.00063756  0.9982311   0.99957389  0.99942788\n",
      "  0.99864469  0.9983367   0.99831497  0.9989995   0.99823772  0.99890069\n",
      "  0.99930511  1.00011392  0.99970952  0.99858454  0.99911832  0.99871199\n",
      "  0.99970952  0.99890069  0.99942168  0.99984194  0.99911161  0.99794189\n",
      "  0.99949907  1.00062882  0.99783885  0.99956616  0.99983556  0.99955762\n",
      "  0.99748717  0.99789636  0.99870211  1.0009299   0.99912425  0.99871868\n",
      "  0.99871817  0.99872291  0.99830129  0.99713057  0.99778001  0.99819375\n",
      "  0.99900785  0.9977672   0.99900785  0.99902153  0.99870685  0.99904755\n",
      "  0.99941868  0.99989531  0.99982834  1.00051438  0.99890492  0.99890492\n",
      "  0.99818279  0.99890492  0.9993051   0.9993051   0.99860343  1.00063828\n",
      "  0.99890069  0.99890069  0.99890069]\n"
     ]
    },
    {
     "data": {
      "text/html": [
       "<div>\n",
       "<style scoped>\n",
       "    .dataframe tbody tr th:only-of-type {\n",
       "        vertical-align: middle;\n",
       "    }\n",
       "\n",
       "    .dataframe tbody tr th {\n",
       "        vertical-align: top;\n",
       "    }\n",
       "\n",
       "    .dataframe thead th {\n",
       "        text-align: right;\n",
       "    }\n",
       "</style>\n",
       "<table border=\"1\" class=\"dataframe\">\n",
       "  <thead>\n",
       "    <tr style=\"text-align: right;\">\n",
       "      <th></th>\n",
       "      <th>prob_win</th>\n",
       "      <th>prob_loss</th>\n",
       "      <th>prob_draw</th>\n",
       "    </tr>\n",
       "  </thead>\n",
       "  <tbody>\n",
       "    <tr>\n",
       "      <th>2000-03-19 00:00:00</th>\n",
       "      <td>0.445854</td>\n",
       "      <td>0.257736</td>\n",
       "      <td>0.296409</td>\n",
       "    </tr>\n",
       "    <tr>\n",
       "      <th>2000-03-19 02:00:00</th>\n",
       "      <td>0.445366</td>\n",
       "      <td>0.257579</td>\n",
       "      <td>0.297054</td>\n",
       "    </tr>\n",
       "    <tr>\n",
       "      <th>2000-03-19 04:00:00</th>\n",
       "      <td>0.44469</td>\n",
       "      <td>0.258467</td>\n",
       "      <td>0.296842</td>\n",
       "    </tr>\n",
       "    <tr>\n",
       "      <th></th>\n",
       "      <td>...</td>\n",
       "      <td>...</td>\n",
       "      <td>...</td>\n",
       "    </tr>\n",
       "    <tr>\n",
       "      <th>2000-08-27 20:00:00</th>\n",
       "      <td>0.445773</td>\n",
       "      <td>0.258504</td>\n",
       "      <td>0.295722</td>\n",
       "    </tr>\n",
       "    <tr>\n",
       "      <th>2000-08-27 22:00:00</th>\n",
       "      <td>0.445834</td>\n",
       "      <td>0.258455</td>\n",
       "      <td>0.295711</td>\n",
       "    </tr>\n",
       "    <tr>\n",
       "      <th>2000-08-28 00:00:00</th>\n",
       "      <td>0.446185</td>\n",
       "      <td>0.258283</td>\n",
       "      <td>0.295531</td>\n",
       "    </tr>\n",
       "  </tbody>\n",
       "</table>\n",
       "</div>"
      ],
      "text/plain": [
       "                     prob_win prob_loss prob_draw\n",
       "2000-03-19 00:00:00  0.445854  0.257736  0.296409\n",
       "2000-03-19 02:00:00  0.445366  0.257579  0.297054\n",
       "2000-03-19 04:00:00   0.44469  0.258467  0.296842\n",
       "                          ...       ...       ...\n",
       "2000-08-27 20:00:00  0.445773  0.258504  0.295722\n",
       "2000-08-27 22:00:00  0.445834  0.258455  0.295711\n",
       "2000-08-28 00:00:00  0.446185  0.258283  0.295531"
      ]
     },
     "metadata": {},
     "output_type": "display_data"
    },
    {
     "name": "stdout",
     "output_type": "stream",
     "text": [
      "DEBUG None\n"
     ]
    }
   ],
   "source": [
    "# Define node ID and variables.\n",
    "node_3 = dtfcornode.NodeId(\"poisson_regressor\")\n",
    "# Instantiate the ContinuousSkLearnModel with the bivariate Poisson wrapper.\n",
    "poisson_model_node = rasoprmo.BivariatePoissonModel(\n",
    "    nid=node_3,\n",
    "    maxiter = 1\n",
    ")\n",
    "df_model_fit = poisson_model_node.fit(preprocessed_df_out[:1000])[\"df_out\"]\n",
    "_LOG.debug(hpandas.df_to_str(df_model_fit))"
   ]
  },
  {
   "cell_type": "code",
   "execution_count": 6,
   "id": "c8d86714",
   "metadata": {
    "ExecuteTime": {
     "end_time": "2024-07-24T18:26:09.431486Z",
     "start_time": "2024-07-24T18:26:09.428835Z"
    }
   },
   "outputs": [],
   "source": [
    "# # Combine Predictions and calculate match outcomes.\n",
    "# node_4 = \"match_outcomes_node\"\n",
    "# config = {\"match_outcomes_node\": {\"actual_df\": df_out_fit, \"predictions_df\": df_model_predict}}\n",
    "# # Calculate match outcomes.\n",
    "# match_outcomes_node = dtfconosou.FunctionDataSource(\n",
    "#     node_4, \n",
    "#     func=rasoprut.calculate_match_outcome_probabilities, \n",
    "#     func_kwargs=config[node_4]\n",
    "#     )\n",
    "# match_outcomes_df_out = preprocessing_node.fit()[\"df_out\"]\n",
    "# _LOG.debug(hpandas.df_to_str(preprocessing_df_out))"
   ]
  },
  {
   "cell_type": "markdown",
   "id": "9e87568f",
   "metadata": {},
   "source": [
    "### Intiating DAG"
   ]
  },
  {
   "cell_type": "code",
   "execution_count": 7,
   "id": "bdec9fd5",
   "metadata": {
    "ExecuteTime": {
     "end_time": "2024-07-24T18:26:09.440828Z",
     "start_time": "2024-07-24T18:26:09.433731Z"
    }
   },
   "outputs": [
    {
     "name": "stdout",
     "output_type": "stream",
     "text": [
      "DEBUG name='soccer_prediction', mode='loose'\n",
      "DEBUG save_node_io='', save_node_df_out_stats=False, profile_execution=False, dst_dir=None\n"
     ]
    },
    {
     "data": {
      "text/plain": [
       "<dataflow.core.dag.DAG at 0x7facbe855610>:\n",
       "  _nx_dag='DiGraph with 0 nodes and 0 edges' <networkx.classes.digraph.DiGraph>\n",
       "  _name='soccer_prediction' <str>\n",
       "  _mode='loose' <str>\n",
       "  _save_node_io='' <str>\n",
       "  _save_node_df_out_stats='False' <bool>\n",
       "  _profile_execution='False' <bool>\n",
       "  _dst_dir='None' <NoneType>\n",
       "  force_free_nodes='False' <bool>\n",
       "  nodes=[]\n",
       "  edges=[]\n",
       "  json=\n",
       "  {\n",
       "      \"directed\": true,\n",
       "      \"graph\": {},\n",
       "      \"links\": [],\n",
       "      \"multigraph\": false,\n",
       "      \"nodes\": []\n",
       "  }"
      ]
     },
     "metadata": {},
     "output_type": "display_data"
    }
   ],
   "source": [
    "name = \"soccer_prediction\"\n",
    "dag = dtfcore.DAG(name=name, mode = \"loose\")\n",
    "# Note that DAG objects can print information about their state.\n",
    "display(dag)"
   ]
  },
  {
   "cell_type": "code",
   "execution_count": 8,
   "id": "65198d09",
   "metadata": {
    "ExecuteTime": {
     "end_time": "2024-07-24T18:26:09.447360Z",
     "start_time": "2024-07-24T18:26:09.443127Z"
    }
   },
   "outputs": [
    {
     "data": {
      "text/plain": [
       "<dataflow.core.dag.DAG at 0x7facbe855610>:\n",
       "  _nx_dag='DiGraph with 2 nodes and 1 edges' <networkx.classes.digraph.DiGraph>\n",
       "  _name='soccer_prediction' <str>\n",
       "  _mode='loose' <str>\n",
       "  _save_node_io='' <str>\n",
       "  _save_node_df_out_stats='False' <bool>\n",
       "  _profile_execution='False' <bool>\n",
       "  _dst_dir='None' <NoneType>\n",
       "  force_free_nodes='False' <bool>\n",
       "  nodes=[('load_and_preprocess_node', {'stage': <dataflow.core.nodes.sources.FunctionDataSource object at 0x7facfba28d60>}), ('poisson_regressor', {'stage': <research_amp.soccer_prediction.models.BivariatePoissonModel object at 0x7fad3692a040>})]\n",
       "  edges=[('load_and_preprocess_node', 'poisson_regressor', {'df_in': 'df_out'})]\n",
       "  json=\n",
       "  {\n",
       "      \"directed\": true,\n",
       "      \"graph\": {},\n",
       "      \"links\": [\n",
       "          {\n",
       "              \"df_in\": \"df_out\",\n",
       "              \"source\": \"load_and_preprocess_node\",\n",
       "              \"target\": \"poisson_regressor\"\n",
       "          }\n",
       "      ],\n",
       "      \"multigraph\": false,\n",
       "      \"nodes\": [\n",
       "          {\n",
       "              \"id\": \"load_and_preprocess_node\",\n",
       "              \"stage\": \"FunctionDataSource\"\n",
       "          },\n",
       "          {\n",
       "              \"id\": \"poisson_regressor\",\n",
       "              \"stage\": \"BivariatePoissonModel\"\n",
       "          }\n",
       "      ]\n",
       "  }"
      ]
     },
     "metadata": {},
     "output_type": "display_data"
    }
   ],
   "source": [
    "# Append dag with nodes.\n",
    "dag.append_to_tail(load_and_preprocess_node)\n",
    "dag.append_to_tail(poisson_model_node)\n",
    "#dag.append_to_tail(combine_predictions_node)\n",
    "display(dag)"
   ]
  },
  {
   "cell_type": "code",
   "execution_count": 9,
   "id": "016adea4",
   "metadata": {
    "ExecuteTime": {
     "end_time": "2024-07-24T18:26:09.472464Z",
     "start_time": "2024-07-24T18:26:09.449626Z"
    }
   },
   "outputs": [
    {
     "data": {
      "image/png": "[encoded data removed]",
      "text/plain": [
       "<IPython.core.display.Image object>"
      ]
     },
     "execution_count": 9,
     "metadata": {},
     "output_type": "execute_result"
    }
   ],
   "source": [
    "dtfcore.draw(dag)"
   ]
  }
 ],
 "metadata": {
  "kernelspec": {
   "display_name": "Python 3 (ipykernel)",
   "language": "python",
   "name": "python3"
  },
  "language_info": {
   "codemirror_mode": {
    "name": "ipython",
    "version": 3
   },
   "file_extension": ".py",
   "mimetype": "text/x-python",
   "name": "python",
   "nbconvert_exporter": "python",
   "pygments_lexer": "ipython3",
   "version": "3.9.5"
  },
  "toc": {
   "base_numbering": 1,
   "nav_menu": {},
   "number_sections": true,
   "sideBar": true,
   "skip_h1_title": false,
   "title_cell": "Table of Contents",
   "title_sidebar": "Contents",
   "toc_cell": false,
   "toc_position": {},
   "toc_section_display": true,
   "toc_window_display": false
  }
 },
 "nbformat": 4,
 "nbformat_minor": 5
}
