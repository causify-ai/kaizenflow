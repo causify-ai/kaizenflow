{
 "cells": [
  {
   "cell_type": "code",
   "execution_count": 1,
   "id": "0c66026f",
   "metadata": {
    "ExecuteTime": {
     "end_time": "2024-07-24T13:33:17.683982Z",
     "start_time": "2024-07-24T13:33:07.421122Z"
    },
    "scrolled": true
   },
   "outputs": [
    {
     "name": "stderr",
     "output_type": "stream",
     "text": [
      "/app/dataflow/core/dag.py:15: TqdmExperimentalWarning: Using `tqdm.autonotebook.tqdm` in notebook mode. Use `tqdm.tqdm` instead to force console mode (e.g. in jupyter console)\n",
      "  from tqdm.autonotebook import tqdm\n",
      "\u001b[33mWARNING\u001b[0m: No module named 'gluonts'\n",
      "\u001b[33mWARNING\u001b[0m: No module named 'gluonts'\n",
      "Don't recognize host: host_os_name=Linux, am_host_os_name=Linux\n"
     ]
    }
   ],
   "source": [
    "import logging\n",
    "from typing import Any, Dict, Optional\n",
    "\n",
    "import numpy as np\n",
    "import pandas as pd\n",
    "import statsmodels.formula.api as smf\n",
    "from scipy.optimize import minimize\n",
    "from sklearn.base import BaseEstimator, RegressorMixin\n",
    "\n",
    "import dataflow.core as dtfcore\n",
    "import dataflow.core.node as dtfcornode\n",
    "import dataflow.core.nodes.sklearn_models as dtfcnoskmo\n",
    "import dataflow.core.nodes.sources as dtfconosou\n",
    "import helpers.hdbg as hdbg\n",
    "import helpers.henv as henv\n",
    "import helpers.hpandas as hpandas\n",
    "import helpers.hprint as hprint\n",
    "import research_amp.soccer_prediction.preproccesing as rasoprpr\n",
    "import research_amp.soccer_prediction.utils as rasoprut\n",
    "import research_amp.soccer_prediction.models as rasoprmo"
   ]
  },
  {
   "cell_type": "code",
   "execution_count": null,
   "id": "cb95b42b",
   "metadata": {
    "ExecuteTime": {
     "end_time": "2024-07-24T13:56:23.367045Z",
     "start_time": "2024-07-24T13:56:23.186713Z"
    },
    "scrolled": false
   },
   "outputs": [],
   "source": [
    "hdbg.init_logger(verbosity=logging.DEBUG)\n",
    "\n",
    "_LOG = logging.getLogger(__name__)\n",
    "\n",
    "_LOG.info(\"%s\", henv.get_system_signature()[0])\n",
    "\n",
    "hprint.config_notebook()"
   ]
  },
  {
   "cell_type": "code",
   "execution_count": null,
   "id": "4cddba53",
   "metadata": {
    "ExecuteTime": {
     "end_time": "2024-07-24T13:33:23.127395Z",
     "start_time": "2024-07-24T13:33:21.382657Z"
    },
    "lines_to_next_cell": 2,
    "run_control": {
     "marked": true
    },
    "scrolled": true
   },
   "outputs": [],
   "source": [
    "# Define the necessary preprocessing step configuration.\n",
    "config = {\"load_and_preprocess_node\": {\"bucket_name\": \"cryptokaizen-data-test\", \"dataset_path\": \"kaizen_ai/soccer_prediction/datasets/OSF_football/ISDBv2.txt\"}}\n",
    "node_1 = \"load_and_preprocess_node\"\n",
    "# Initialize the FunctionDataSource with the correct configuration.\n",
    "load_and_preprocess_node = dtfconosou.FunctionDataSource(\n",
    "    node_1, \n",
    "    func=rasoprpr.load_and_preprocess_data, \n",
    "    func_kwargs=config[node_1]\n",
    "    )\n",
    "preprocessed_df_out = load_and_preprocess_node.fit()[\"df_out\"]"
   ]
  },
  {
   "cell_type": "code",
   "execution_count": 10,
   "id": "44eaccbe",
   "metadata": {
    "ExecuteTime": {
     "end_time": "2024-07-24T13:57:20.943736Z",
     "start_time": "2024-07-24T13:57:20.913668Z"
    }
   },
   "outputs": [
    {
     "data": {
      "text/html": [
       "<div>\n",
       "<style scoped>\n",
       "    .dataframe tbody tr th:only-of-type {\n",
       "        vertical-align: middle;\n",
       "    }\n",
       "\n",
       "    .dataframe tbody tr th {\n",
       "        vertical-align: top;\n",
       "    }\n",
       "\n",
       "    .dataframe thead th {\n",
       "        text-align: right;\n",
       "    }\n",
       "</style>\n",
       "<table border=\"1\" class=\"dataframe\">\n",
       "  <thead>\n",
       "    <tr style=\"text-align: right;\">\n",
       "      <th></th>\n",
       "      <th>season</th>\n",
       "      <th>league</th>\n",
       "      <th>Date</th>\n",
       "      <th>home_team</th>\n",
       "      <th>opponent</th>\n",
       "      <th>goals_scored_by_home_team</th>\n",
       "      <th>goals_scored_by_opponent</th>\n",
       "      <th>goal_difference</th>\n",
       "      <th>match_outcome</th>\n",
       "    </tr>\n",
       "  </thead>\n",
       "  <tbody>\n",
       "    <tr>\n",
       "      <th>2000-03-19 00:00:00</th>\n",
       "      <td>00-01</td>\n",
       "      <td>CHN1</td>\n",
       "      <td>2000-03-19 00:00:00</td>\n",
       "      <td>Dalian Haichang</td>\n",
       "      <td>Beijing Guoan</td>\n",
       "      <td>2</td>\n",
       "      <td>0</td>\n",
       "      <td>2</td>\n",
       "      <td>win</td>\n",
       "    </tr>\n",
       "    <tr>\n",
       "      <th>2000-03-19 02:00:00</th>\n",
       "      <td>00-01</td>\n",
       "      <td>CHN1</td>\n",
       "      <td>2000-03-19 00:00:00</td>\n",
       "      <td>Shandong Luneng</td>\n",
       "      <td>Yunnan Hongta</td>\n",
       "      <td>0</td>\n",
       "      <td>1</td>\n",
       "      <td>-1</td>\n",
       "      <td>loss</td>\n",
       "    </tr>\n",
       "    <tr>\n",
       "      <th>2000-03-19 04:00:00</th>\n",
       "      <td>00-01</td>\n",
       "      <td>CHN1</td>\n",
       "      <td>2000-03-19 00:00:00</td>\n",
       "      <td>Guangzhou Rich and Force</td>\n",
       "      <td>Chongqing Lifan</td>\n",
       "      <td>0</td>\n",
       "      <td>0</td>\n",
       "      <td>0</td>\n",
       "      <td>draw</td>\n",
       "    </tr>\n",
       "    <tr>\n",
       "      <th></th>\n",
       "      <td>...</td>\n",
       "      <td>...</td>\n",
       "      <td>...</td>\n",
       "      <td>...</td>\n",
       "      <td>...</td>\n",
       "      <td>...</td>\n",
       "      <td>...</td>\n",
       "      <td>...</td>\n",
       "      <td>...</td>\n",
       "    </tr>\n",
       "    <tr>\n",
       "      <th>2017-06-27 08:00:00</th>\n",
       "      <td>16-17</td>\n",
       "      <td>ARG1</td>\n",
       "      <td>2017-06-27 00:00:00</td>\n",
       "      <td>Estudiantes</td>\n",
       "      <td>Quilmes AC</td>\n",
       "      <td>1</td>\n",
       "      <td>0</td>\n",
       "      <td>1</td>\n",
       "      <td>win</td>\n",
       "    </tr>\n",
       "    <tr>\n",
       "      <th>2017-06-28 00:00:00</th>\n",
       "      <td>16-17</td>\n",
       "      <td>ARG1</td>\n",
       "      <td>2017-06-28 00:00:00</td>\n",
       "      <td>Talleres Cordoba</td>\n",
       "      <td>San Lorenzo</td>\n",
       "      <td>1</td>\n",
       "      <td>1</td>\n",
       "      <td>0</td>\n",
       "      <td>draw</td>\n",
       "    </tr>\n",
       "    <tr>\n",
       "      <th>2017-06-28 02:00:00</th>\n",
       "      <td>16-17</td>\n",
       "      <td>ARG1</td>\n",
       "      <td>2017-06-28 00:00:00</td>\n",
       "      <td>Independiente</td>\n",
       "      <td>CA Lanus</td>\n",
       "      <td>1</td>\n",
       "      <td>1</td>\n",
       "      <td>0</td>\n",
       "      <td>draw</td>\n",
       "    </tr>\n",
       "  </tbody>\n",
       "</table>\n",
       "</div>"
      ],
      "text/plain": [
       "                    season league                 Date                 home_team         opponent goals_scored_by_home_team goals_scored_by_opponent goal_difference match_outcome\n",
       "2000-03-19 00:00:00  00-01   CHN1  2000-03-19 00:00:00           Dalian Haichang    Beijing Guoan                         2                        0               2           win\n",
       "2000-03-19 02:00:00  00-01   CHN1  2000-03-19 00:00:00           Shandong Luneng    Yunnan Hongta                         0                        1              -1          loss\n",
       "2000-03-19 04:00:00  00-01   CHN1  2000-03-19 00:00:00  Guangzhou Rich and Force  Chongqing Lifan                         0                        0               0          draw\n",
       "                       ...    ...                  ...                       ...              ...                       ...                      ...             ...           ...\n",
       "2017-06-27 08:00:00  16-17   ARG1  2017-06-27 00:00:00               Estudiantes       Quilmes AC                         1                        0               1           win\n",
       "2017-06-28 00:00:00  16-17   ARG1  2017-06-28 00:00:00          Talleres Cordoba      San Lorenzo                         1                        1               0          draw\n",
       "2017-06-28 02:00:00  16-17   ARG1  2017-06-28 00:00:00             Independiente         CA Lanus                         1                        1               0          draw"
      ]
     },
     "metadata": {},
     "output_type": "display_data"
    },
    {
     "name": "stdout",
     "output_type": "stream",
     "text": [
      "DEBUG None\n"
     ]
    }
   ],
   "source": [
    "_LOG.debug(hpandas.df_to_str(preprocessed_df_out))"
   ]
  },
  {
   "cell_type": "markdown",
   "id": "daabb34f",
   "metadata": {
    "lines_to_next_cell": 2
   },
   "source": [
    "#### Bivariate model Node"
   ]
  },
  {
   "cell_type": "code",
   "execution_count": 4,
   "id": "22b870e9",
   "metadata": {
    "ExecuteTime": {
     "end_time": "2024-07-24T13:33:43.046471Z",
     "start_time": "2024-07-24T13:33:27.620843Z"
    },
    "lines_to_next_cell": 2,
    "scrolled": true
   },
   "outputs": [
    {
     "name": "stdout",
     "output_type": "stream",
     "text": [
      "INFO  Starting optimization process...\n",
      "INFO  Current params: [-0.95275297 -0.0044978   0.1         0.90515187  0.90072653  0.90844552\n",
      "  0.87806239  0.90841766  0.90293119  0.90172236  0.91037015  0.93033403\n",
      "  0.90108525]\n",
      "INFO  Current params: [-0.67303605 -0.00479566  0.1         0.93186214  0.93229601  0.93456893\n",
      "  0.90355571  0.93351157  0.93218304  0.93203968  0.93820599  0.95927292\n",
      "  0.92946791]\n",
      "INFO  Current params: [-0.52945958 -0.00408225  0.1         0.94402148  0.95177306  0.94683785\n",
      "  0.90336444  0.94383774  0.9481804   0.94956637  0.9544544   0.9853239\n",
      "  0.94318062]\n",
      "INFO  Current params: [-0.55751813 -0.00421858  0.1         0.94050436  0.9502893   0.94361113\n",
      "  0.89380331  0.93995891  0.94575049  0.9475364   0.95269675  0.98846842\n",
      "  0.9398629 ]\n",
      "INFO  Current params: [-0.56008628 -0.0042577   0.1         0.93900268  0.95250248  0.94245369\n",
      "  0.88315895  0.93767808  0.94622894  0.94876145  0.95398011  0.99724902\n",
      "  0.93889857]\n",
      "INFO  Current params: [-0.56135738 -0.00470066  0.1         0.93006577  0.96914293  0.93582615\n",
      "  0.81203505  0.92311624  0.95107212  0.95871192  0.96438885  1.06046435\n",
      "  0.93381853]\n",
      "INFO  Current params: [-0.55717579 -0.00357339  0.1         0.92941523  0.96981052  0.93527405\n",
      "  0.80558891  0.9210223   0.95186189  0.95960179  0.96613824  1.07021569\n",
      "  0.93389648]\n",
      "INFO  Current params: [-0.55713004 -0.00504226  0.1         0.92940726  0.96983877  0.93528472\n",
      "  0.80561952  0.92103099  0.95187733  0.95961765  0.96612073  1.07017336\n",
      "  0.93390073]\n",
      "INFO  Current params: [-0.5571698  -0.00465123  0.1         0.92942705  0.96980005  0.93529261\n",
      "  0.80577856  0.92105256  0.95185771  0.9595885   0.96609708  1.07002957\n",
      "  0.93390758]\n",
      "INFO  Current params: [-0.55716832 -0.00464987  0.1         0.92942736  0.96979234  0.93528964\n",
      "  0.80580268  0.92103946  0.95185431  0.95958224  0.96609631  1.07003882\n",
      "  0.9339095 ]\n"
     ]
    },
    {
     "data": {
      "text/html": [
       "<div>\n",
       "<style scoped>\n",
       "    .dataframe tbody tr th:only-of-type {\n",
       "        vertical-align: middle;\n",
       "    }\n",
       "\n",
       "    .dataframe tbody tr th {\n",
       "        vertical-align: top;\n",
       "    }\n",
       "\n",
       "    .dataframe thead th {\n",
       "        text-align: right;\n",
       "    }\n",
       "</style>\n",
       "<table border=\"1\" class=\"dataframe\">\n",
       "  <thead>\n",
       "    <tr style=\"text-align: right;\">\n",
       "      <th></th>\n",
       "      <th>HS.shift_-1</th>\n",
       "      <th>AS.shift_-1</th>\n",
       "      <th>HS.shift_-1_hat</th>\n",
       "      <th>AS.shift_-1_hat</th>\n",
       "    </tr>\n",
       "  </thead>\n",
       "  <tbody>\n",
       "    <tr>\n",
       "      <th>0</th>\n",
       "      <td>2.0</td>\n",
       "      <td>2.0</td>\n",
       "      <td>1</td>\n",
       "      <td>2</td>\n",
       "    </tr>\n",
       "    <tr>\n",
       "      <th>1</th>\n",
       "      <td>1.0</td>\n",
       "      <td>1.0</td>\n",
       "      <td>1</td>\n",
       "      <td>1</td>\n",
       "    </tr>\n",
       "    <tr>\n",
       "      <th>2</th>\n",
       "      <td>0.0</td>\n",
       "      <td>0.0</td>\n",
       "      <td>2</td>\n",
       "      <td>1</td>\n",
       "    </tr>\n",
       "    <tr>\n",
       "      <th></th>\n",
       "      <td>...</td>\n",
       "      <td>...</td>\n",
       "      <td>...</td>\n",
       "      <td>...</td>\n",
       "    </tr>\n",
       "    <tr>\n",
       "      <th>996</th>\n",
       "      <td>1.0</td>\n",
       "      <td>2.0</td>\n",
       "      <td>1</td>\n",
       "      <td>1</td>\n",
       "    </tr>\n",
       "    <tr>\n",
       "      <th>997</th>\n",
       "      <td>1.0</td>\n",
       "      <td>3.0</td>\n",
       "      <td>2</td>\n",
       "      <td>2</td>\n",
       "    </tr>\n",
       "    <tr>\n",
       "      <th>998</th>\n",
       "      <td>1.0</td>\n",
       "      <td>5.0</td>\n",
       "      <td>1</td>\n",
       "      <td>1</td>\n",
       "    </tr>\n",
       "  </tbody>\n",
       "</table>\n",
       "</div>"
      ],
      "text/plain": [
       "    HS.shift_-1 AS.shift_-1 HS.shift_-1_hat AS.shift_-1_hat\n",
       "0           2.0         2.0               1               2\n",
       "1           1.0         1.0               1               1\n",
       "2           0.0         0.0               2               1\n",
       "            ...         ...             ...             ...\n",
       "996         1.0         2.0               1               1\n",
       "997         1.0         3.0               2               2\n",
       "998         1.0         5.0               1               1"
      ]
     },
     "metadata": {},
     "output_type": "display_data"
    },
    {
     "name": "stdout",
     "output_type": "stream",
     "text": [
      "DEBUG None\n"
     ]
    }
   ],
   "source": [
    "# This is temporary data for sanity checks.\n",
    "data = pd.DataFrame(\n",
    "    {\n",
    "        \"HT_id\": np.random.randint(0, 10, 1000),\n",
    "        \"AT_id\": np.random.randint(0, 10, 1000),\n",
    "        \"HS\": np.random.poisson(1.5, 1000),\n",
    "        \"AS\": np.random.poisson(1.5, 1000),\n",
    "        \"Time_Weight\": np.random.uniform(0.8, 1.2, 1000),\n",
    "        \"Lge\": [\"ENG5\"] * 1000,\n",
    "        \"Sea\": np.random.choice([\"07-08\", \"06-07\", \"08-09\"], 1000),\n",
    "    }\n",
    ")\n",
    "\n",
    "# Select the data for the league and season\n",
    "final_data = data[\n",
    "    (data[\"Lge\"] == \"ENG5\")\n",
    "    & (\n",
    "        (data[\"Sea\"] == \"07-08\")\n",
    "        | (data[\"Sea\"] == \"06-07\")\n",
    "        | (data[\"Sea\"] == \"08-09\")\n",
    "    )\n",
    "]\n",
    "\n",
    "# Ensure correct column names and types\n",
    "final_data[\"HT_id\"] = final_data[\"HT_id\"].astype(int)\n",
    "final_data[\"AT_id\"] = final_data[\"AT_id\"].astype(int)\n",
    "final_data[\"HS\"] = final_data[\"HS\"].astype(int)\n",
    "final_data[\"AS\"] = final_data[\"AS\"].astype(int)\n",
    "# Split into features and target\n",
    "X = final_data[[\"HT_id\", \"AT_id\", \"Time_Weight\"]]\n",
    "y = final_data[[\"HS\", \"AS\"]]\n",
    "df = final_data\n",
    "# Define the model function.\n",
    "model_func = lambda: rasoprmo.BivariatePoissonWrapper(maxiter=10)\n",
    "# Define node ID and variables.\n",
    "node_3 = dtfcornode.NodeId(\"poisson_regressor\")\n",
    "x_vars = X.columns.tolist()\n",
    "y_vars = [\"HS\", \"AS\"]\n",
    "steps_ahead = 1\n",
    "# Instantiate the ContinuousSkLearnModel with the bivariate Poisson wrapper.\n",
    "poisson_model_node = dtfcnoskmo.ContinuousSkLearnModel(\n",
    "    nid=node_3,\n",
    "    model_func=model_func,\n",
    "    x_vars=x_vars,\n",
    "    y_vars=y_vars,\n",
    "    steps_ahead=steps_ahead,\n",
    ")\n",
    "df_model_fit = poisson_model_node.fit(df)[\"df_out\"]\n",
    "_LOG.debug(hpandas.df_to_str(df_model_fit))"
   ]
  },
  {
   "cell_type": "code",
   "execution_count": 5,
   "id": "c8d86714",
   "metadata": {
    "ExecuteTime": {
     "end_time": "2024-07-24T13:34:10.769321Z",
     "start_time": "2024-07-24T13:34:10.765331Z"
    }
   },
   "outputs": [],
   "source": [
    "# # Combine Predictions and calculate match outcomes.\n",
    "# node_4 = \"match_outcomes_node\"\n",
    "# config = {\"match_outcomes_node\": {\"actual_df\": df_out_fit, \"predictions_df\": df_model_predict}}\n",
    "# # Calculate match outcomes.\n",
    "# match_outcomes_node = dtfconosou.FunctionDataSource(\n",
    "#     node_4, \n",
    "#     func=rasoprut.calculate_match_outcome_probabilities, \n",
    "#     func_kwargs=config[node_4]\n",
    "#     )\n",
    "# match_outcomes_df_out = preprocessing_node.fit()[\"df_out\"]\n",
    "# _LOG.debug(hpandas.df_to_str(preprocessing_df_out))"
   ]
  },
  {
   "cell_type": "markdown",
   "id": "9e87568f",
   "metadata": {},
   "source": [
    "### Intiating DAG"
   ]
  },
  {
   "cell_type": "code",
   "execution_count": 6,
   "id": "bdec9fd5",
   "metadata": {
    "ExecuteTime": {
     "end_time": "2024-07-24T13:34:13.376915Z",
     "start_time": "2024-07-24T13:34:13.369079Z"
    }
   },
   "outputs": [
    {
     "name": "stdout",
     "output_type": "stream",
     "text": [
      "DEBUG name='soccer_prediction', mode='loose'\n",
      "DEBUG save_node_io='', save_node_df_out_stats=False, profile_execution=False, dst_dir=None\n"
     ]
    },
    {
     "data": {
      "text/plain": [
       "<dataflow.core.dag.DAG at 0x7f924e74e430>:\n",
       "  _nx_dag='DiGraph with 0 nodes and 0 edges' <networkx.classes.digraph.DiGraph>\n",
       "  _name='soccer_prediction' <str>\n",
       "  _mode='loose' <str>\n",
       "  _save_node_io='' <str>\n",
       "  _save_node_df_out_stats='False' <bool>\n",
       "  _profile_execution='False' <bool>\n",
       "  _dst_dir='None' <NoneType>\n",
       "  force_free_nodes='False' <bool>\n",
       "  nodes=[]\n",
       "  edges=[]\n",
       "  json=\n",
       "  {\n",
       "      \"directed\": true,\n",
       "      \"graph\": {},\n",
       "      \"links\": [],\n",
       "      \"multigraph\": false,\n",
       "      \"nodes\": []\n",
       "  }"
      ]
     },
     "metadata": {},
     "output_type": "display_data"
    }
   ],
   "source": [
    "name = \"soccer_prediction\"\n",
    "dag = dtfcore.DAG(name=name, mode = \"loose\")\n",
    "# Note that DAG objects can print information about their state.\n",
    "display(dag)"
   ]
  },
  {
   "cell_type": "code",
   "execution_count": 7,
   "id": "65198d09",
   "metadata": {
    "ExecuteTime": {
     "end_time": "2024-07-24T13:34:40.067988Z",
     "start_time": "2024-07-24T13:34:40.060998Z"
    }
   },
   "outputs": [
    {
     "data": {
      "text/plain": [
       "<dataflow.core.dag.DAG at 0x7f924e74e430>:\n",
       "  _nx_dag='DiGraph with 2 nodes and 1 edges' <networkx.classes.digraph.DiGraph>\n",
       "  _name='soccer_prediction' <str>\n",
       "  _mode='loose' <str>\n",
       "  _save_node_io='' <str>\n",
       "  _save_node_df_out_stats='False' <bool>\n",
       "  _profile_execution='False' <bool>\n",
       "  _dst_dir='None' <NoneType>\n",
       "  force_free_nodes='False' <bool>\n",
       "  nodes=[('load_and_preprocess_node', {'stage': <dataflow.core.nodes.sources.FunctionDataSource object at 0x7f928ba3ba90>}), ('poisson_regressor', {'stage': <dataflow.core.nodes.sklearn_models.ContinuousSkLearnModel object at 0x7f924e62b220>})]\n",
       "  edges=[('load_and_preprocess_node', 'poisson_regressor', {'df_in': 'df_out'})]\n",
       "  json=\n",
       "  {\n",
       "      \"directed\": true,\n",
       "      \"graph\": {},\n",
       "      \"links\": [\n",
       "          {\n",
       "              \"df_in\": \"df_out\",\n",
       "              \"source\": \"load_and_preprocess_node\",\n",
       "              \"target\": \"poisson_regressor\"\n",
       "          }\n",
       "      ],\n",
       "      \"multigraph\": false,\n",
       "      \"nodes\": [\n",
       "          {\n",
       "              \"id\": \"load_and_preprocess_node\",\n",
       "              \"stage\": \"FunctionDataSource\"\n",
       "          },\n",
       "          {\n",
       "              \"id\": \"poisson_regressor\",\n",
       "              \"stage\": \"ContinuousSkLearnModel\"\n",
       "          }\n",
       "      ]\n",
       "  }"
      ]
     },
     "metadata": {},
     "output_type": "display_data"
    }
   ],
   "source": [
    "# Append dag with nodes.\n",
    "dag.append_to_tail(load_and_preprocess_node)\n",
    "dag.append_to_tail(poisson_model_node)\n",
    "#dag.append_to_tail(combine_predictions_node)\n",
    "display(dag)"
   ]
  },
  {
   "cell_type": "code",
   "execution_count": 8,
   "id": "016adea4",
   "metadata": {
    "ExecuteTime": {
     "end_time": "2024-07-24T13:34:48.780782Z",
     "start_time": "2024-07-24T13:34:48.680459Z"
    }
   },
   "outputs": [
    {
     "data": {
      "image/png": "[encoded data removed]",
      "text/plain": [
       "<IPython.core.display.Image object>"
      ]
     },
     "execution_count": 8,
     "metadata": {},
     "output_type": "execute_result"
    }
   ],
   "source": [
    "dtfcore.draw(dag)"
   ]
  }
 ],
 "metadata": {
  "kernelspec": {
   "display_name": "Python 3 (ipykernel)",
   "language": "python",
   "name": "python3"
  },
  "language_info": {
   "codemirror_mode": {
    "name": "ipython",
    "version": 3
   },
   "file_extension": ".py",
   "mimetype": "text/x-python",
   "name": "python",
   "nbconvert_exporter": "python",
   "pygments_lexer": "ipython3",
   "version": "3.9.5"
  },
  "toc": {
   "base_numbering": 1,
   "nav_menu": {},
   "number_sections": true,
   "sideBar": true,
   "skip_h1_title": false,
   "title_cell": "Table of Contents",
   "title_sidebar": "Contents",
   "toc_cell": false,
   "toc_position": {},
   "toc_section_display": true,
   "toc_window_display": false
  }
 },
 "nbformat": 4,
 "nbformat_minor": 5
}
