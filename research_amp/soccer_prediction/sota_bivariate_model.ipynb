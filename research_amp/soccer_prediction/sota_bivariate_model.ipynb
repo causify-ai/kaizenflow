{
 "cells": [
  {
   "cell_type": "code",
   "execution_count": 2,
   "id": "31a5a2b3",
   "metadata": {
    "ExecuteTime": {
     "end_time": "2024-07-09T15:31:38.715227Z",
     "start_time": "2024-07-09T15:31:32.530269Z"
    }
   },
   "outputs": [],
   "source": [
    "import logging\n",
    "import warnings\n",
    "\n",
    "import numpy as np\n",
    "import pandas as pd\n",
    "\n",
    "import helpers.hdbg as hdbg\n",
    "import research_amp.soccer_prediction.models as rasoprmo\n",
    "import research_amp.soccer_prediction.preproccesing as rasoprpr\n",
    "import research_amp.soccer_prediction.utils as rasoprut\n",
    "from scipy.special import factorial\n",
    "from scipy.optimize import minimize\n",
    "\n",
    "\n",
    "pd.set_option(\"display.max_columns\", None)\n",
    "warnings.filterwarnings(\"ignore\")"
   ]
  },
  {
   "cell_type": "code",
   "execution_count": 5,
   "id": "29fb8244",
   "metadata": {
    "ExecuteTime": {
     "end_time": "2024-07-09T15:35:50.500437Z",
     "start_time": "2024-07-09T15:35:48.472834Z"
    }
   },
   "outputs": [],
   "source": [
    "# Define the S3 Buckets, dataset path and local directory for download.\n",
    "bucket = \"cryptokaizen-data-test\"\n",
    "dataset_path = \"kaizen_ai/soccer_prediction/datasets/OSF_football/\"\n",
    "local_dir = \"datasets/OSF_football\"\n",
    "# Download data from S3.\n",
    "rasoprut.download_data_from_s3(\n",
    "    bucket_name=bucket, dataset_path=dataset_path, local_path=local_dir\n",
    ")\n",
    "# Load the data from S3 into pandas dataframe objects.\n",
    "dataframes = rasoprut.load_data_to_dataframe(local_path=local_dir)"
   ]
  },
  {
   "cell_type": "code",
   "execution_count": 6,
   "id": "4408e184",
   "metadata": {
    "ExecuteTime": {
     "end_time": "2024-07-09T15:35:51.412352Z",
     "start_time": "2024-07-09T15:35:51.408652Z"
    },
    "lines_to_next_cell": 2
   },
   "outputs": [],
   "source": [
    "data = dataframes[\"ISDBv2_df\"]"
   ]
  },
  {
   "cell_type": "code",
   "execution_count": 7,
   "id": "91632bf3",
   "metadata": {
    "ExecuteTime": {
     "end_time": "2024-07-09T15:35:56.579045Z",
     "start_time": "2024-07-09T15:35:56.355748Z"
    }
   },
   "outputs": [
    {
     "name": "stdout",
     "output_type": "stream",
     "text": [
      "     Sea   Lge       Date              HT             AT  HS  AS  GD WDL  \\\n",
      "0  00-01  GER1 2000-08-11        Dortmund  Hansa Rostock   1   0   1   W   \n",
      "1  00-01  GER1 2000-08-12   Bayern Munich  Hertha Berlin   4   1   3   W   \n",
      "2  00-01  GER1 2000-08-12        Freiburg  VfB Stuttgart   4   0   4   W   \n",
      "3  00-01  GER1 2000-08-12    Hamburger SV    Munich 1860   2   2   0   D   \n",
      "4  00-01  GER1 2000-08-12  Kaiserslautern         Bochum   0   1  -1   L   \n",
      "\n",
      "   Days_Ago   Time_Weight  HT_id  AT_id  \n",
      "0      6165  4.894661e-11      0     17  \n",
      "1      6164  4.913546e-11      1     12  \n",
      "2      6164  4.913546e-11      2     13  \n",
      "3      6164  4.913546e-11      3     10  \n",
      "4      6164  4.913546e-11      4     11  \n"
     ]
    }
   ],
   "source": [
    "# Convert date column to datetime\n",
    "data['Date'] = pd.to_datetime(data['Date'], dayfirst=True)\n",
    "# Define half-life period (e.g., 180 days)\n",
    "half_life_period = 180\n",
    "# Calculate the age of each match in days (relative to the most recent match)\n",
    "data['Days_Ago'] = (data['Date'].max() - data['Date']).dt.days\n",
    "# Calculate time weights\n",
    "data['Time_Weight'] = 0.5 ** (data['Days_Ago'] / half_life_period)\n",
    "# Generate unique team identifiers.\n",
    "teams = pd.Series(data['HT'].tolist() + data['AT'].tolist()).unique()\n",
    "team_to_id = {team: idx for idx, team in enumerate(teams)}\n",
    "# Map teams to unique identifiers.\n",
    "data['HT_id'] = data['HT'].map(team_to_id)\n",
    "data['AT_id'] = data['AT'].map(team_to_id)\n",
    "# Display the first few rows of the dataset\n",
    "print(data.head())"
   ]
  },
  {
   "cell_type": "code",
   "execution_count": 8,
   "id": "d08812bb",
   "metadata": {
    "ExecuteTime": {
     "end_time": "2024-07-09T15:36:06.102640Z",
     "start_time": "2024-07-09T15:36:06.089534Z"
    }
   },
   "outputs": [],
   "source": [
    "def bivariate_poisson_log_likelihood(params, data):\n",
    "    c, h, rho, *strengths = params\n",
    "    log_likelihood = 0 \n",
    "    for _, row in data.iterrows():\n",
    "        i, j, goals_i, goals_j, time_weight = row['HT_id'], row['AT_id'], row['HS'], row['AS'], row['Time_Weight']\n",
    "        lambda_i = np.exp(c + strengths[i] + h)\n",
    "        lambda_j = np.exp(c + strengths[j] - h)\n",
    "        cov = rho * np.sqrt(lambda_i * lambda_j)\n",
    "        # Calculate joint probability\n",
    "        joint_prob = 0\n",
    "        for k in range(min(goals_i, goals_j) + 1):\n",
    "            P_goals_i = (lambda_i**goals_i * np.exp(-lambda_i)) / factorial(goals_i)\n",
    "            P_goals_j = (lambda_j**goals_j * np.exp(-lambda_j)) / factorial(goals_j)\n",
    "            joint_prob = P_goals_i * P_goals_j\n",
    "        log_likelihood += time_weight * np.log(joint_prob)\n",
    "    return -log_likelihood "
   ]
  },
  {
   "cell_type": "code",
   "execution_count": 9,
   "id": "db0941c8",
   "metadata": {
    "ExecuteTime": {
     "end_time": "2024-07-09T15:36:08.075113Z",
     "start_time": "2024-07-09T15:36:08.069632Z"
    }
   },
   "outputs": [],
   "source": [
    "# Number of teams\n",
    "num_teams = len(teams)\n",
    "# Initial parameters: [c, h, rho, *strengths]\n",
    "initial_params = [0, 0, 0.1] + [1] * num_teams"
   ]
  },
  {
   "cell_type": "code",
   "execution_count": 10,
   "id": "616de772",
   "metadata": {
    "ExecuteTime": {
     "end_time": "2024-07-09T15:48:13.833306Z",
     "start_time": "2024-07-09T15:36:27.646779Z"
    }
   },
   "outputs": [
    {
     "name": "stdout",
     "output_type": "stream",
     "text": [
      "RUNNING THE L-BFGS-B CODE\n",
      "\n",
      "           * * *\n",
      "\n",
      "Machine precision = 2.220D-16\n",
      " N =         1471     M =           10\n",
      "\n",
      "At X0         0 variables are exactly at the bounds\n",
      "\n",
      "At iterate    0    f=  8.45210D-04    |proj g|=  6.31690D-04\n"
     ]
    },
    {
     "name": "stderr",
     "output_type": "stream",
     "text": [
      " This problem is unconstrained.\n"
     ]
    },
    {
     "name": "stdout",
     "output_type": "stream",
     "text": [
      "\n",
      "At iterate    1    f=  6.46688D-04    |proj g|=  1.21498D-04\n",
      "\n",
      "At iterate    2    f=  6.32424D-04    |proj g|=  4.50321D-05\n",
      "\n",
      "At iterate    3    f=  6.29604D-04    |proj g|=  1.10370D-05\n",
      "Optimized Parameters:\n",
      "At iterate    4    f=  6.26630D-04    |proj g|=  7.91921D-06\n",
      "\n",
      "           * * *\n",
      "\n",
      "Tit   = total number of iterations\n",
      "Tnf   = total number of function evaluations\n",
      "Tnint = total number of segments explored during Cauchy searches\n",
      "Skip  = number of BFGS updates skipped\n",
      "Nact  = number of active bounds at final generalized Cauchy point\n",
      "Projg = norm of the final projected gradient\n",
      "F     = final function value\n",
      "\n",
      "           * * *\n",
      "\n",
      "   N    Tit     Tnf  Tnint  Skip  Nact     Projg        F\n",
      " 1471      4      6      1     0     0   7.919D-06   6.266D-04\n",
      "  F =   6.2662969146201955E-004\n",
      "\n",
      "CONVERGENCE: NORM_OF_PROJECTED_GRADIENT_<=_PGTOL            \n",
      " [-0.72511524  0.09506051  0.1        ...  1.          1.\n",
      "  1.        ]\n"
     ]
    }
   ],
   "source": [
    "# Select the data for the league and season.\n",
    "final_data = data[(data['Lge'] == 'ENG5') & \n",
    "                     ((data['Sea'] == '07-08') | \n",
    "                      (data['Sea'] == '06-07') | \n",
    "                      (data['Sea'] == '08-09'))]\n",
    "# Set optimization options.\n",
    "options = {\n",
    "    'maxiter': 10,  \n",
    "    'disp': True      \n",
    "}\n",
    "# Optimize parameters using the BFGS algorithm with options.\n",
    "result = minimize(bivariate_poisson_log_likelihood, initial_params, args=(final_data.iloc[:552],), method='L-BFGS-B', options=options)\n",
    "optimized_params = result.x\n",
    "print(\"Optimized Parameters:\", optimized_params)"
   ]
  },
  {
   "cell_type": "code",
   "execution_count": 16,
   "id": "43f8bc1b",
   "metadata": {
    "ExecuteTime": {
     "end_time": "2024-07-09T16:34:36.362598Z",
     "start_time": "2024-07-09T16:34:36.352332Z"
    }
   },
   "outputs": [
    {
     "data": {
      "text/plain": [
       "1.0"
      ]
     },
     "execution_count": 16,
     "metadata": {},
     "output_type": "execute_result"
    }
   ],
   "source": [
    "optimized_params[4]"
   ]
  },
  {
   "cell_type": "code",
   "execution_count": 18,
   "id": "367067c2",
   "metadata": {
    "ExecuteTime": {
     "end_time": "2024-07-09T16:43:16.106022Z",
     "start_time": "2024-07-09T16:43:16.096827Z"
    }
   },
   "outputs": [],
   "source": [
    "def calculate_match_outcomes(df, params, *,\n",
    "    max_goals: int = 10,\n",
    "    apply_dixon_coles: bool = False,\n",
    "    rho: float = -0.2,) -> pd.DataFrame:\n",
    "    \"\"\"\n",
    "    Calculate match outcome probabilities.\n",
    "    \"\"\"\n",
    "    c, h, rho, *strengths = params \n",
    "    # Calculate Lambda_HS and Lambda_AS for each row in the dataframe\n",
    "    df[\"Lambda_HS\"] = np.exp(c + df[\"HT_id\"].apply(lambda x: strengths[x]) + h)\n",
    "    df[\"Lambda_AS\"] = np.exp(c + df[\"AT_id\"].apply(lambda x: strengths[x]) - h)\n",
    "    # Define probabilities.\n",
    "    home_goals_probs = np.array(\n",
    "        [\n",
    "            np.exp(-df[\"Lambda_HS\"]) * df[\"Lambda_HS\"] ** i / np.math.factorial(i)\n",
    "            for i in range(max_goals)\n",
    "        ]\n",
    "    )\n",
    "    # Calculate Poisson probabilities for Away team goals.\n",
    "    away_goals_probs = np.array(\n",
    "        [\n",
    "            np.exp(-df[\"Lambda_AS\"]) * df[\"Lambda_AS\"] ** i / np.math.factorial(i)\n",
    "            for i in range(max_goals)\n",
    "        ]\n",
    "    )\n",
    "    # Initialize probabilities.\n",
    "    prob_home_win = np.zeros(len(df))\n",
    "    prob_away_win = np.zeros(len(df))\n",
    "    prob_draw = np.zeros(len(df))\n",
    "    # Calculate the probabilities of home win, away win, and draw.\n",
    "    for i in range(max_goals):\n",
    "        for j in range(max_goals):\n",
    "            prob = home_goals_probs[i] * away_goals_probs[j]\n",
    "            if apply_dixon_coles:\n",
    "                prob *= dixon_coles_adjustment(\n",
    "                    i, j, df[\"Lambda_HS\"], df[\"Lambda_AS\"], rho\n",
    "                )\n",
    "            prob_home_win += np.where(i > j, prob, 0)\n",
    "            prob_away_win += np.where(i < j, prob, 0)\n",
    "            prob_draw += np.where(i == j, prob, 0)\n",
    "    # Add probabilities to the DataFrame.\n",
    "    df[\"prob_home_win\"] = prob_home_win\n",
    "    df[\"prob_away_win\"] = prob_away_win\n",
    "    df[\"prob_draw\"] = prob_draw\n",
    "    # Predict the outcomes based on probabilities.\n",
    "    df[\"predicted_outcome\"] = np.where(\n",
    "        df[\"prob_home_win\"] > df[\"prob_away_win\"],\n",
    "        \"home_win\",\n",
    "        np.where(df[\"prob_away_win\"] > df[\"prob_home_win\"], \"away_win\", \"draw\"),\n",
    "    )\n",
    "    # Calculate actual outcomes for comparison.\n",
    "    df[\"actual_outcome\"] = np.where(\n",
    "        df[\"HS\"] > df[\"AS\"],\n",
    "        \"home_win\",\n",
    "        np.where(df[\"HS\"] < df[\"AS\"], \"away_win\", \"draw\"),\n",
    "    )\n",
    "    # Round off the predicted goals to integers.\n",
    "    df[\"Lambda_HS\"] = df[\"Lambda_HS\"].round().astype(int)\n",
    "    df[\"Lambda_AS\"] = df[\"Lambda_AS\"].round().astype(int)\n",
    "    print(df.head())\n",
    "    return df"
   ]
  },
  {
   "cell_type": "code",
   "execution_count": 20,
   "id": "3fc811af",
   "metadata": {
    "ExecuteTime": {
     "end_time": "2024-07-09T16:44:38.386253Z",
     "start_time": "2024-07-09T16:44:38.360494Z"
    }
   },
   "outputs": [
    {
     "name": "stdout",
     "output_type": "stream",
     "text": [
      "         Sea   Lge       Date            HT                AT  HS  AS  GD WDL  \\\n",
      "73783  07-08  ENG5 2007-08-11  Crawley Town         Stevenage   2   1   1   W   \n",
      "73784  07-08  ENG5 2007-08-11     Droylsden         Salisbury   0   0   0   D   \n",
      "73785  07-08  ENG5 2007-08-11     Ebbsfleet         Northwich   2   1   1   W   \n",
      "73786  07-08  ENG5 2007-08-11       Farsley  Stafford Rangers   1   0   1   W   \n",
      "73787  07-08  ENG5 2007-08-11        Histon            Burton   2   2   0   D   \n",
      "\n",
      "       Days_Ago   Time_Weight  HT_id  AT_id  Lambda_HS  Lambda_AS  \\\n",
      "73783      3609  9.211887e-07    776    773          1          1   \n",
      "73784      3609  9.211887e-07    913    917          1          1   \n",
      "73785      3609  9.211887e-07    914    829          1          1   \n",
      "73786      3609  9.211887e-07    915    831          1          1   \n",
      "73787      3609  9.211887e-07    916    767          1          1   \n",
      "\n",
      "       prob_home_win  prob_away_win  prob_draw predicted_outcome  \\\n",
      "73783       0.384695       0.351781   0.263522          home_win   \n",
      "73784       0.428683       0.312420   0.258893          home_win   \n",
      "73785       0.452483       0.285043   0.262471          home_win   \n",
      "73786       0.448759       0.289273   0.261966          home_win   \n",
      "73787       0.445745       0.292709   0.261542          home_win   \n",
      "\n",
      "      actual_outcome  \n",
      "73783       home_win  \n",
      "73784           draw  \n",
      "73785       home_win  \n",
      "73786       home_win  \n",
      "73787           draw  \n",
      "Model Accuracy on Test Set: 0.4487760652765186\n"
     ]
    }
   ],
   "source": [
    "final_df = calculate_match_outcomes(final_data[553:], optimized_params)\n",
    "# Evaluate model.\n",
    "rasoprut.evaluate_model_predictions(\n",
    "        final_df[\"actual_outcome\"], final_df[\"predicted_outcome\"]\n",
    "    )"
   ]
  }
 ],
 "metadata": {
  "kernelspec": {
   "display_name": "Python 3 (ipykernel)",
   "language": "python",
   "name": "python3"
  },
  "language_info": {
   "codemirror_mode": {
    "name": "ipython",
    "version": 3
   },
   "file_extension": ".py",
   "mimetype": "text/x-python",
   "name": "python",
   "nbconvert_exporter": "python",
   "pygments_lexer": "ipython3",
   "version": "3.9.5"
  },
  "toc": {
   "base_numbering": 1,
   "nav_menu": {},
   "number_sections": true,
   "sideBar": true,
   "skip_h1_title": false,
   "title_cell": "Table of Contents",
   "title_sidebar": "Contents",
   "toc_cell": false,
   "toc_position": {},
   "toc_section_display": true,
   "toc_window_display": false
  }
 },
 "nbformat": 4,
 "nbformat_minor": 5
}
