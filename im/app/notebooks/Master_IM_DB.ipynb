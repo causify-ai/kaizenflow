{
 "cells": [
  {
   "cell_type": "markdown",
   "id": "handmade-bookmark",
   "metadata": {},
   "source": [
    "# Description\n",
    "\n",
    "This notebook allows to connect to an IM instance and access data."
   ]
  },
  {
   "cell_type": "code",
   "execution_count": null,
   "id": "indirect-robert",
   "metadata": {},
   "outputs": [],
   "source": [
    "%load_ext autoreload\n",
    "%autoreload 2\n",
    "\n",
    "import logging\n",
    "\n",
    "import pandas as pd\n",
    "\n",
    "import helpers.hdbg as dbg\n",
    "import helpers.hprint as print_\n",
    "import helpers.hsystem as si"
   ]
  },
  {
   "cell_type": "code",
   "execution_count": null,
   "id": "composed-banking",
   "metadata": {},
   "outputs": [],
   "source": [
    "import os"
   ]
  },
  {
   "cell_type": "code",
   "execution_count": null,
   "id": "geographic-dress",
   "metadata": {},
   "outputs": [],
   "source": [
    "# dbg.init_logger(verbosity=logging.DEBUG)\n",
    "dbg.init_logger(verbosity=logging.INFO)\n",
    "# dbg.test_logger()\n",
    "_LOG = logging.getLogger(__name__)"
   ]
  },
  {
   "cell_type": "code",
   "execution_count": null,
   "id": "sunset-tampa",
   "metadata": {},
   "outputs": [],
   "source": [
    "#dbname=os.environ[\"POSTGRES_DB\"]\n",
    "#host=os.environ[\"POSTGRES_HOST\"]\n",
    "#port=int(os.environ[\"POSTGRES_PORT\"])\n",
    "#user=os.environ[\"POSTGRES_USER\"]\n",
    "#password=os.environ[\"POSTGRES_PASSWORD\"]\n",
    "\n",
    "import helpers.hsql as hsql\n",
    "\n",
    "import pandas as pd\n",
    "import pandas.io.sql as sqlio\n",
    "import psycopg2\n",
    "\n",
    "conn_as_str = \"user= password= dbname=im_postgres_db_local host=im_postgres_local port=5550\"\n",
    "conn = hsql.get_connection_from_string(conn_as_str)\n",
    "\n",
    "db_names = hsql.get_db_names(conn)\n",
    "print(\"db_names=%s\" % db_names)\n",
    "\n",
    "table_names = hsql.get_table_names(conn)\n",
    "print(\"table_names=%s\" % table_names)\n",
    "\n",
    "table_name = \"tradesymbol\"\n",
    "sql = \"SELECT * FROM %s;\" % table_name\n",
    "df = sqlio.read_sql_query(sql, conn)\n",
    "\n",
    "df"
   ]
  },
  {
   "cell_type": "code",
   "execution_count": null,
   "id": "employed-composition",
   "metadata": {},
   "outputs": [],
   "source": []
  }
 ],
 "metadata": {
  "jupytext": {
   "text_representation": {
    "extension": ".py",
    "format_name": "percent",
    "format_version": "1.3",
    "jupytext_version": "1.11.0"
   }
  },
  "kernelspec": {
   "display_name": "Python 3",
   "language": "python",
   "name": "python3"
  },
  "language_info": {
   "codemirror_mode": {
    "name": "ipython",
    "version": 3
   },
   "file_extension": ".py",
   "mimetype": "text/x-python",
   "name": "python",
   "nbconvert_exporter": "python",
   "pygments_lexer": "ipython3"
  },
  "toc": {
   "base_numbering": 1,
   "nav_menu": {},
   "number_sections": true,
   "sideBar": true,
   "skip_h1_title": false,
   "title_cell": "Table of Contents",
   "title_sidebar": "Contents",
   "toc_cell": false,
   "toc_position": {},
   "toc_section_display": true,
   "toc_window_display": false
  }
 },
 "nbformat": 4,
 "nbformat_minor": 5
}
