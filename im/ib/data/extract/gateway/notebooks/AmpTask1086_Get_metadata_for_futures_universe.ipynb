{
 "cells": [
  {
   "cell_type": "code",
   "execution_count": null,
   "metadata": {},
   "outputs": [],
   "source": [
    "%load_ext autoreload\n",
    "%autoreload 2\n",
    "\n",
    "import ib_insync\n",
    "\n",
    "print(ib_insync.__all__)\n",
    "\n",
    "import im.ib.data.extract.gateway.utils as imidegaut"
   ]
  },
  {
   "cell_type": "code",
   "execution_count": null,
   "metadata": {},
   "outputs": [],
   "source": [
    "ib = imidegaut.ib_connect(client_id=33, is_notebook=True)"
   ]
  },
  {
   "cell_type": "code",
   "execution_count": null,
   "metadata": {},
   "outputs": [],
   "source": [
    "# Look for ES.\n",
    "\n",
    "# symbol = \"ES\"\n",
    "symbol = \"NG\"\n",
    "# symbol = \"CL\"\n",
    "contract = ib_insync.Future(symbol, includeExpired=True)\n",
    "df = imidegaut.get_contract_details(ib, contract, simplify_df=False)\n",
    "\n",
    "display(df)\n",
    "\n",
    "# cds = ib.reqContractDetails(contract)\n",
    "\n",
    "# contracts = [cd.contract for cd in cds]\n",
    "\n",
    "# ib_insync.util.df(contracts)"
   ]
  },
  {
   "cell_type": "code",
   "execution_count": null,
   "metadata": {},
   "outputs": [],
   "source": [
    "df"
   ]
  },
  {
   "cell_type": "code",
   "execution_count": null,
   "metadata": {},
   "outputs": [],
   "source": [
    "# df.reset_index(drop=True)"
   ]
  },
  {
   "cell_type": "code",
   "execution_count": null,
   "metadata": {
    "lines_to_next_cell": 1
   },
   "outputs": [],
   "source": [
    "import copy"
   ]
  },
  {
   "cell_type": "code",
   "execution_count": null,
   "metadata": {},
   "outputs": [],
   "source": [
    "def create_contracts(ib, contract, symbols):\n",
    "    contracts = []\n",
    "    for symbol in symbols:\n",
    "        contract_tmp = copy.copy(contract)\n",
    "        contract_tmp.symbol = symbol\n",
    "        # ib.qualifyContracts(contract_tmp)\n",
    "        contracts.append(contract_tmp)\n",
    "    return contracts\n",
    "\n",
    "\n",
    "contract = ib_insync.Future(symbol, includeExpired=True)\n",
    "symbols = \"ES CL NG\".split()\n",
    "create_contracts(ib, contract, symbols)"
   ]
  },
  {
   "cell_type": "code",
   "execution_count": null,
   "metadata": {},
   "outputs": [],
   "source": [
    "contract2.symbol = \"E\""
   ]
  },
  {
   "cell_type": "code",
   "execution_count": null,
   "metadata": {},
   "outputs": [],
   "source": [
    "import im.ib.data.extract.gateway.metadata as imidegame\n",
    "\n",
    "file_name = \"./metadata.csv\"\n",
    "ibmeta = imidegame.IbMetadata()\n",
    "\n",
    "ibmeta.update(ib, [contract], file_name, reset=True)"
   ]
  },
  {
   "cell_type": "code",
   "execution_count": null,
   "metadata": {},
   "outputs": [],
   "source": [
    "ibmeta.load(file_name)"
   ]
  },
  {
   "cell_type": "code",
   "execution_count": null,
   "metadata": {},
   "outputs": [],
   "source": []
  }
 ],
 "metadata": {
  "kernelspec": {
   "display_name": "Python 3 (ipykernel)",
   "language": "python",
   "name": "python3"
  },
  "language_info": {
   "codemirror_mode": {
    "name": "ipython",
    "version": 3
   },
   "file_extension": ".py",
   "mimetype": "text/x-python",
   "name": "python",
   "nbconvert_exporter": "python",
   "pygments_lexer": "ipython3"
  },
  "toc": {
   "base_numbering": 1,
   "nav_menu": {},
   "number_sections": true,
   "sideBar": true,
   "skip_h1_title": false,
   "title_cell": "Table of Contents",
   "title_sidebar": "Contents",
   "toc_cell": false,
   "toc_position": {},
   "toc_section_display": true,
   "toc_window_display": false
  }
 },
 "nbformat": 4,
 "nbformat_minor": 4
}
