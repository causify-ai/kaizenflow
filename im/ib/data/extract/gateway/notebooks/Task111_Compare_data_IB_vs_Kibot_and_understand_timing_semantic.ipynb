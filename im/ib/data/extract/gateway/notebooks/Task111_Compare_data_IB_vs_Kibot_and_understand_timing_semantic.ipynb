{
 "cells": [
  {
   "cell_type": "markdown",
   "metadata": {},
   "source": [
    "## Imports"
   ]
  },
  {
   "cell_type": "code",
   "execution_count": null,
   "metadata": {},
   "outputs": [],
   "source": [
    "%load_ext autoreload\n",
    "%autoreload 2\n",
    "%matplotlib inline\n",
    "\n",
    "import datetime\n",
    "import logging\n",
    "\n",
    "import matplotlib.pyplot as plt\n",
    "import pandas as pd\n",
    "\n",
    "import core.explore as coexplor\n",
    "import helpers.hdbg as hdbg\n",
    "import helpers.henv as henv\n",
    "import helpers.hpandas as hpandas\n",
    "import helpers.hprint as hprint\n",
    "import im.ib.data.extract.gateway.utils as imidegaut\n",
    "import im.kibot as vakibot"
   ]
  },
  {
   "cell_type": "code",
   "execution_count": null,
   "metadata": {},
   "outputs": [],
   "source": [
    "hdbg.init_logger(verbosity=logging.INFO)\n",
    "\n",
    "_LOG = logging.getLogger(__name__)\n",
    "\n",
    "_LOG.info(\"%s\", henv.get_system_signature()[0])\n",
    "\n",
    "hprint.config_notebook()"
   ]
  },
  {
   "cell_type": "code",
   "execution_count": null,
   "metadata": {},
   "outputs": [],
   "source": [
    "def get_min_max_from_index(df):\n",
    "    min_dt = min(df.index)\n",
    "    max_dt = max(df.index)\n",
    "    if True:\n",
    "        min_dt = str(pd.Timestamp(min_dt).date())\n",
    "        max_dt = str(pd.Timestamp(max_dt).date())\n",
    "    print(\"min=\", min_dt)\n",
    "    print(\"max=\", max_dt)\n",
    "    return min_dt, max_dt\n",
    "\n",
    "\n",
    "def print_df(df, n=3):\n",
    "    print(\"shape=\", df.shape)\n",
    "    display(df.head(n))\n",
    "    display(df.tail(n))"
   ]
  },
  {
   "cell_type": "markdown",
   "metadata": {},
   "source": [
    "# Kibot"
   ]
  },
  {
   "cell_type": "code",
   "execution_count": null,
   "metadata": {},
   "outputs": [],
   "source": [
    "df_kibot = vakibot.KibotS3DataLoader().read_data(\n",
    "    \"Kibot\",\n",
    "    \"ES\",\n",
    "    vakibot.AssetClass.Futures,\n",
    "    vakibot.Frequency.Minutely,\n",
    "    vakibot.ContractType.Continuous,\n",
    ")\n",
    "df_kibot.head()\n",
    "df_kibot_orig = df_kibot.copy()"
   ]
  },
  {
   "cell_type": "code",
   "execution_count": null,
   "metadata": {},
   "outputs": [],
   "source": [
    "df_kibot = df_kibot_orig.copy()\n",
    "df_kibot.rename({\"vol\": \"volume\"}, axis=1, inplace=True)\n",
    "# df_kibot.index = pd.to_datetime(df_kibot.index, utc=True).tz_convert(tz='America/New_York')\n",
    "df_kibot.index = pd.to_datetime(df_kibot.index).tz_localize(tz=\"America/New_York\")\n",
    "\n",
    "print_df(df_kibot, n=2)"
   ]
  },
  {
   "cell_type": "code",
   "execution_count": null,
   "metadata": {},
   "outputs": [],
   "source": [
    "fig, (ax1, ax2, ax3) = plt.subplots(\n",
    "    nrows=3, ncols=1, sharex=True, figsize=(20, 10)\n",
    ")\n",
    "\n",
    "df_tmp = df_kibot.resample(\"1T\").mean()\n",
    "\n",
    "a = pd.Timestamp(\"2019-05-27 00:00:00\")\n",
    "# a = pd.Timestamp(\"2019-05-29 00:00:00\")\n",
    "# a = pd.Timestamp(\"2019-06-02 00:00:00\")\n",
    "print(a, a.day_name())\n",
    "\n",
    "# b = a + pd.DateOffset(14)\n",
    "# b = a + pd.DateOffset(7)\n",
    "b = a + pd.DateOffset(3)\n",
    "# b = a + pd.DateOffset(1)\n",
    "print(b, b.day_name())\n",
    "\n",
    "df_tmp = df_tmp[a:b][[\"close\", \"volume\"]]\n",
    "print(\n",
    "    \"samples=%d [%s, %s]\" % (df_tmp.shape[0], df_tmp.index[0], df_tmp.index[-1])\n",
    ")\n",
    "\n",
    "dates = sorted(list(set(df_tmp.index.date)))  # .unique()\n",
    "for date in dates:\n",
    "    print(date, pd.Timestamp(date).day_name())\n",
    "\n",
    "df_tmp = df_tmp.resample(\"1T\").mean()\n",
    "df_tmp[\"close\"].plot(ax=ax1)\n",
    "df_tmp[\"volume\"].plot(ax=ax2)\n",
    "print(\n",
    "    \"samples=%d [%s, %s]\" % (df_tmp.shape[0], df_tmp.index[0], df_tmp.index[-1])\n",
    ")\n",
    "\n",
    "#\n",
    "# df_tmp2 = df_tmp.resample(\"1T\").mean()\n",
    "# print(\"samples=%d [%s, %s]\" % (df_tmp2.shape[0], df_tmp2.index[0], df_tmp2.index[-1]))\n",
    "\n",
    "# support = ~pd.isnull(df_tmp[\"close\"])\n",
    "support = ~pd.isnull(df_tmp[\"volume\"])\n",
    "print(support[~support].head())\n",
    "print(\"no support=\", (~support[~support]).sum())\n",
    "print(\"with support=\", support[support].sum())\n",
    "pd.DataFrame(1.0 * support).plot(ax=ax3)\n",
    "\n",
    "for date in dates:\n",
    "    for h, m in ((9, 0), (16, 30)):\n",
    "        date_tmp = datetime.datetime.combine(date, datetime.time(h, m))\n",
    "        date_tmp = pd.Timestamp(date_tmp).tz_localize(tz=\"America/New_York\")\n",
    "        plt.axvline(date_tmp, color=\"red\", linestyle=\"--\", linewidth=3)"
   ]
  },
  {
   "cell_type": "markdown",
   "metadata": {},
   "source": [
    "# IB"
   ]
  },
  {
   "cell_type": "code",
   "execution_count": null,
   "metadata": {},
   "outputs": [],
   "source": [
    "import ib_insync\n",
    "\n",
    "ib = imidegaut.ib_connect(1)"
   ]
  },
  {
   "cell_type": "code",
   "execution_count": null,
   "metadata": {},
   "outputs": [],
   "source": [
    "contract = ib_insync.ContFuture(\"ES\", \"GLOBEX\", \"USD\")\n",
    "whatToShow = \"TRADES\"\n",
    "barSizeSetting = \"1 min\"\n",
    "# barSizeSetting = '1 hour'\n",
    "useRTH = False\n",
    "\n",
    "start_ts = pd.Timestamp(\"2019-05-28 15:00\").tz_localize(tz=\"America/New_York\")\n",
    "end_ts = pd.Timestamp(\"2019-05-29 15:00\").tz_localize(tz=\"America/New_York\")\n",
    "\n",
    "# file_name = \"ES.csv\"\n",
    "# if os.path.exists(file_name):\n",
    "# df_ib = imidegaut.get_data(ib, contract, start_ts, end_ts, barSizeSetting, whatToShow, useRTH)\n",
    "# df_ib.to_csv(\"ES.csv\")\n",
    "\n",
    "durationStr = \"1 D\"\n",
    "df_ib = imidegaut.req_historical_data(\n",
    "    ib, contract, end_ts, durationStr, barSizeSetting, whatToShow, useRTH\n",
    ")"
   ]
  },
  {
   "cell_type": "code",
   "execution_count": null,
   "metadata": {},
   "outputs": [],
   "source": [
    "display(df_ib.head(2))\n",
    "print(df_ib.index[0], df_ib.index[-1])\n",
    "\n",
    "display(df_kibot.head(2))\n",
    "print(df_kibot.index[0], df_kibot.index[-1])"
   ]
  },
  {
   "cell_type": "markdown",
   "metadata": {},
   "source": [
    "# Compare"
   ]
  },
  {
   "cell_type": "code",
   "execution_count": null,
   "metadata": {},
   "outputs": [],
   "source": [
    "target_col = \"close\"\n",
    "# target_col = \"open\"\n",
    "# target_col = \"high\"\n",
    "# target_col = \"volume\""
   ]
  },
  {
   "cell_type": "code",
   "execution_count": null,
   "metadata": {},
   "outputs": [],
   "source": [
    "if True:\n",
    "    print_df(df_ib, n=1)\n",
    "    print_df(df_kibot, n=1)"
   ]
  },
  {
   "cell_type": "code",
   "execution_count": null,
   "metadata": {},
   "outputs": [],
   "source": [
    "# min_dt = \"2013-10-06\"\n",
    "# max_dt = \"2013-10-09\"\n",
    "min_dt = start_ts\n",
    "max_dt = end_ts\n",
    "\n",
    "#\n",
    "df_ib_tmp = df_ib.loc[min_dt:max_dt]\n",
    "df_ib_tmp.columns = [\"%s_ib\" % c for c in df_ib_tmp.columns]\n",
    "df_ib_tmp.head()\n",
    "#\n",
    "df_kibot_tmp = df_kibot.loc[min_dt:max_dt]\n",
    "df_kibot_tmp.columns = [\"%s_kibot\" % c for c in df_kibot_tmp.columns]\n",
    "df_kibot_tmp.head()\n",
    "\n",
    "# df = pd.concat([df_ib_tmp, df_kibot_tmp], axis=1, join=\"outer\")\n",
    "df = pd.concat([df_ib_tmp, df_kibot_tmp], axis=1, join=\"inner\")\n",
    "display(df.head(1))\n",
    "\n",
    "# Shift.\n",
    "df[\"%s_ib\" % target_col] = df[\"%s_ib\" % target_col].shift(0)\n",
    "\n",
    "# Filter columns.\n",
    "display(df[cols].head(10))\n",
    "cols = [\"%s_%s\" % (target_col, src) for src in \"ib kibot\".split()]\n",
    "df[cols].plot()"
   ]
  },
  {
   "cell_type": "code",
   "execution_count": null,
   "metadata": {},
   "outputs": [],
   "source": [
    "df.iloc[:100][cols].plot()"
   ]
  },
  {
   "cell_type": "code",
   "execution_count": null,
   "metadata": {},
   "outputs": [],
   "source": [
    "ds1 = \"ib\"\n",
    "ds2 = \"kibot\"\n",
    "diff = df[target_col + \"_\" + ds1] - df[target_col + \"_\" + ds2]\n",
    "\n",
    "diff.plot()\n",
    "\n",
    "hpandas.dropna(pd.DataFrame(diff), drop_infs=True).hist(bins=101)"
   ]
  },
  {
   "cell_type": "code",
   "execution_count": null,
   "metadata": {},
   "outputs": [],
   "source": [
    "intercept = False\n",
    "coexplor.ols_regress(\n",
    "    df,\n",
    "    target_col + \"_\" + ds1,\n",
    "    target_col + \"_\" + ds2,\n",
    "    intercept,\n",
    "    jointplot_=True,\n",
    "    max_nrows=None,\n",
    ")"
   ]
  }
 ],
 "metadata": {
  "kernelspec": {
   "display_name": "Python [conda env:.conda-develop] *",
   "language": "python",
   "name": "conda-env-.conda-develop-py"
  },
  "language_info": {
   "codemirror_mode": {
    "name": "ipython",
    "version": 3
   },
   "file_extension": ".py",
   "mimetype": "text/x-python",
   "name": "python",
   "nbconvert_exporter": "python",
   "pygments_lexer": "ipython3"
  },
  "toc": {
   "base_numbering": 1,
   "nav_menu": {},
   "number_sections": true,
   "sideBar": true,
   "skip_h1_title": false,
   "title_cell": "Table of Contents",
   "title_sidebar": "Contents",
   "toc_cell": false,
   "toc_position": {},
   "toc_section_display": true,
   "toc_window_display": true
  }
 },
 "nbformat": 4,
 "nbformat_minor": 4
}
