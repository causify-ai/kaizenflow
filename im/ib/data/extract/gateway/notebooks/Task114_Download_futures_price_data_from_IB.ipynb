{
 "cells": [
  {
   "cell_type": "markdown",
   "id": "loose-sampling",
   "metadata": {},
   "source": [
    "# Imports"
   ]
  },
  {
   "cell_type": "code",
   "execution_count": null,
   "id": "previous-compensation",
   "metadata": {},
   "outputs": [],
   "source": [
    "%load_ext autoreload\n",
    "%autoreload 2\n",
    "\n",
    "import ib_insync\n",
    "\n",
    "print(ib_insync.__all__)\n",
    "\n",
    "import helpers.hdbg as hdbg\n",
    "import helpers.hprint as hprint\n",
    "import im.ib.data.extract.gateway.utils as imidegaut"
   ]
  },
  {
   "cell_type": "markdown",
   "id": "aging-billy",
   "metadata": {},
   "source": [
    "# Connect"
   ]
  },
  {
   "cell_type": "code",
   "execution_count": null,
   "id": "nervous-suspension",
   "metadata": {},
   "outputs": [],
   "source": [
    "ib = imidegaut.ib_connect(client_id=100, is_notebook=True)"
   ]
  },
  {
   "cell_type": "markdown",
   "id": "exposed-warrant",
   "metadata": {},
   "source": [
    "# Historical data"
   ]
  },
  {
   "cell_type": "code",
   "execution_count": null,
   "id": "focused-service",
   "metadata": {},
   "outputs": [],
   "source": [
    "import logging\n",
    "\n",
    "# hdbg.init_logger(verbosity=logging.DEBUG)\n",
    "hdbg.init_logger(verbosity=logging.INFO)"
   ]
  },
  {
   "cell_type": "code",
   "execution_count": null,
   "id": "royal-stuff",
   "metadata": {},
   "outputs": [],
   "source": []
  },
  {
   "cell_type": "code",
   "execution_count": null,
   "id": "considerable-sussex",
   "metadata": {},
   "outputs": [],
   "source": [
    "# start_ts = pd.to_datetime(pd.Timestamp(\"2018-02-01 06:00:00\").tz_localize(tz=\"America/New_York\"))\n",
    "# import datetime\n",
    "\n",
    "# #datetime.datetime.combine(start_ts, datetime.time())"
   ]
  },
  {
   "cell_type": "code",
   "execution_count": null,
   "id": "genetic-observation",
   "metadata": {},
   "outputs": [],
   "source": [
    "# dt = start_ts.to_pydatetime()\n",
    "# print(dt)\n",
    "\n",
    "# #datetime.datetime.combine(dt, datetime.time()).tz_localize(tz=\"America/New_York\")\n",
    "# dt.replace(hour=0, minute=0, second=0)"
   ]
  },
  {
   "cell_type": "code",
   "execution_count": null,
   "id": "adolescent-ukraine",
   "metadata": {},
   "outputs": [],
   "source": [
    "start_ts = pd.Timestamp(\"2019-05-28 15:00\").tz_localize(tz=\"America/New_York\")\n",
    "end_ts = pd.Timestamp(\"2019-05-29 15:00\").tz_localize(tz=\"America/New_York\")\n",
    "barSizeSetting = \"1 hour\"\n",
    "\n",
    "bars = imidegaut.get_data(\n",
    "    ib, contract, start_ts, end_ts, barSizeSetting, whatToShow, useRTH\n",
    ")"
   ]
  },
  {
   "cell_type": "code",
   "execution_count": null,
   "id": "potential-atlantic",
   "metadata": {},
   "outputs": [],
   "source": [
    "start_ts = pd.Timestamp(\"2019-05-28 15:00\").tz_localize(tz=\"America/New_York\")\n",
    "end_ts = pd.Timestamp(\"2019-05-29 15:00\").tz_localize(tz=\"America/New_York\")\n",
    "barSizeSetting = \"1 hour\"\n",
    "\n",
    "bars = imidegaut.get_data(\n",
    "    ib, contract, start_ts, end_ts, barSizeSetting, whatToShow, useRTH\n",
    ")"
   ]
  },
  {
   "cell_type": "code",
   "execution_count": null,
   "id": "remarkable-disorder",
   "metadata": {},
   "outputs": [],
   "source": [
    "start_ts = pd.Timestamp(\"2019-05-27\").tz_localize(tz=\"America/New_York\")\n",
    "end_ts = pd.Timestamp(\"2019-05-28\").tz_localize(tz=\"America/New_York\")\n",
    "barSizeSetting = \"1 hour\"\n",
    "\n",
    "bars = imidegaut.get_data(\n",
    "    ib, contract, start_ts, end_ts, barSizeSetting, whatToShow, useRTH\n",
    ")"
   ]
  },
  {
   "cell_type": "code",
   "execution_count": null,
   "id": "impressive-track",
   "metadata": {},
   "outputs": [],
   "source": [
    "start_ts2 = start_ts - pd.DateOffset(days=1)\n",
    "end_ts2 = end_ts + pd.DateOffset(days=1)\n",
    "barSizeSetting = \"1 hour\"\n",
    "\n",
    "bars2 = imidegaut.get_data(\n",
    "    ib, contract, start_ts2, end_ts2, barSizeSetting, whatToShow, useRTH\n",
    ")"
   ]
  },
  {
   "cell_type": "code",
   "execution_count": null,
   "id": "elementary-rider",
   "metadata": {},
   "outputs": [],
   "source": [
    "set(bars.index).issubset(bars2.index)"
   ]
  },
  {
   "cell_type": "code",
   "execution_count": null,
   "id": "frequent-liver",
   "metadata": {},
   "outputs": [],
   "source": [
    "start_ts = pd.Timestamp(\"2019-04-01 15:00\").tz_localize(tz=\"America/New_York\")\n",
    "end_ts = pd.Timestamp(\"2019-05-01 15:00\").tz_localize(tz=\"America/New_York\")\n",
    "\n",
    "df = imidegaut.get_historical_data2(\n",
    "    ib, contract, start_ts, end_ts, barSizeSetting, whatToShow, useRTH\n",
    ")"
   ]
  },
  {
   "cell_type": "code",
   "execution_count": null,
   "id": "northern-spirituality",
   "metadata": {},
   "outputs": [],
   "source": [
    "import pandas as pd\n",
    "\n",
    "contract = ib_insync.ContFuture(\"ES\", \"GLOBEX\", \"USD\")\n",
    "whatToShow = \"TRADES\"\n",
    "durationStr = \"2 D\"\n",
    "barSizeSetting = \"1 min\"\n",
    "useRTH = False\n",
    "# useRTH = True\n",
    "\n",
    "# start_ts = pd.to_datetime(pd.Timestamp(\"2018-02-01\"))\n",
    "# Saturday June 1, 2019\n",
    "end_ts = pd.to_datetime(\n",
    "    pd.Timestamp(\"2019-05-30 00:00:00\") + pd.DateOffset(days=1)\n",
    ")\n",
    "# end_ts = pd.to_datetime(pd.Timestamp(\"2019-05-30 18:00:00\"))\n",
    "# print(start_ts, end_ts)\n",
    "print(\"end_ts=\", end_ts)\n",
    "\n",
    "bars = imidegaut.req_historical_data(\n",
    "    ib, contract, end_ts, durationStr, barSizeSetting, whatToShow, useRTH\n",
    ")\n",
    "\n",
    "print(\n",
    "    \"durationStr=%s barSizeSetting=%s useRTH=%s\"\n",
    "    % (durationStr, barSizeSetting, useRTH)\n",
    ")\n",
    "print(\"bars=[%s, %s]\" % (bars.index[0], bars.index[-1]))\n",
    "print(\"diff=\", bars.index[-1] - bars.index[0])\n",
    "\n",
    "bars[\"close\"].plot()"
   ]
  },
  {
   "cell_type": "code",
   "execution_count": null,
   "id": "changed-folks",
   "metadata": {},
   "outputs": [],
   "source": [
    "pd.date_range(start=\"2019-04-01 00:00:00\", end=\"2019-05-01 00:00:00\", freq=\"2D\")"
   ]
  },
  {
   "cell_type": "code",
   "execution_count": null,
   "id": "human-traveler",
   "metadata": {},
   "outputs": [],
   "source": []
  },
  {
   "cell_type": "code",
   "execution_count": null,
   "id": "basic-telephone",
   "metadata": {},
   "outputs": [],
   "source": [
    "(bars.index[-1] - bars.index[0])"
   ]
  },
  {
   "cell_type": "code",
   "execution_count": null,
   "id": "frozen-navigator",
   "metadata": {},
   "outputs": [],
   "source": [
    "import pandas as pd"
   ]
  },
  {
   "cell_type": "code",
   "execution_count": null,
   "id": "quality-variance",
   "metadata": {},
   "outputs": [],
   "source": [
    "# 1 = Live\n",
    "# 2 = Frozen\n",
    "# 3 = Delayed\n",
    "# 4 = Delayed frozen\n",
    "ib.reqMarketDataType(4)\n",
    "\n",
    "if False:\n",
    "    contract = ib_insync.Stock(\"TSLA\", \"SMART\", \"USD\")\n",
    "    whatToShow = \"TRADES\"\n",
    "elif False:\n",
    "    contract = ib_insync.Future(\"ES\", \"202109\", \"GLOBEX\")\n",
    "    whatToShow = \"TRADES\"\n",
    "elif True:\n",
    "    contract = ib_insync.ContFuture(\"ES\", \"GLOBEX\", \"USD\")\n",
    "    whatToShow = \"TRADES\"\n",
    "else:\n",
    "    contract = ib_insync.Forex(\"EURUSD\")\n",
    "    whatToShow = \"MIDPOINT\"\n",
    "\n",
    "if False:\n",
    "    durationStr = \"1 Y\"\n",
    "    barSizeSetting = \"1 day\"\n",
    "    # barSizeSetting='1 hour'\n",
    "else:\n",
    "    durationStr = \"1 D\"\n",
    "    barSizeSetting = \"1 hour\"\n",
    "\n",
    "print(\"contract=\", contract)\n",
    "print(\"whatToShow=\", whatToShow)\n",
    "print(\"durationStr=\", durationStr)\n",
    "print(\"barSizeSetting=\", barSizeSetting)\n",
    "\n",
    "# endDateTime = pd.Timestamp(\"2020-12-11 18:00:00\")\n",
    "endDateTime = pd.Timestamp(\"2020-12-13 18:00:00\")\n",
    "# endDateTime = \"\"\n",
    "\n",
    "# Get the datetime of earliest available historical data for the contract.\n",
    "start_ts = ib.reqHeadTimeStamp(contract, whatToShow=whatToShow, useRTH=True)\n",
    "print(\"start_ts=\", start_ts)\n",
    "bars = ib.reqHistoricalData(\n",
    "    contract,\n",
    "    endDateTime=endDateTime,\n",
    "    durationStr=durationStr,\n",
    "    barSizeSetting=barSizeSetting,\n",
    "    whatToShow=whatToShow,\n",
    "    useRTH=True,\n",
    "    formatDate=1,\n",
    ")\n",
    "print(\"len(bars)=\", len(bars))\n",
    "print(ib_insync.util.df(bars))"
   ]
  },
  {
   "cell_type": "code",
   "execution_count": null,
   "id": "affiliated-makeup",
   "metadata": {},
   "outputs": [],
   "source": [
    "ib_insync.IB.RaiseRequestErrors = True"
   ]
  },
  {
   "cell_type": "code",
   "execution_count": null,
   "id": "liquid-ceremony",
   "metadata": {},
   "outputs": [],
   "source": [
    "bars"
   ]
  },
  {
   "cell_type": "code",
   "execution_count": null,
   "id": "roman-fruit",
   "metadata": {},
   "outputs": [],
   "source": [
    "hdbg.shutup_chatty_modules(verbose=True)"
   ]
  },
  {
   "cell_type": "code",
   "execution_count": null,
   "id": "single-basement",
   "metadata": {},
   "outputs": [],
   "source": [
    "import pandas as pd\n",
    "\n",
    "contract = ib_insync.ContFuture(\"ES\", \"GLOBEX\", \"USD\")\n",
    "whatToShow = \"TRADES\"\n",
    "durationStr = \"2 D\"\n",
    "barSizeSetting = \"1 min\"\n",
    "useRTH = False\n",
    "\n",
    "start_ts = pd.Timestamp(\"2018-01-28 15:00\").tz_localize(tz=\"America/New_York\")\n",
    "end_ts = pd.Timestamp(\"2018-02-28 15:00\").tz_localize(tz=\"America/New_York\")\n",
    "\n",
    "tasks = imidegaut.get_historical_data_workload(\n",
    "    contract, start_ts, end_ts, barSizeSetting, whatToShow, useRTH\n",
    ")\n",
    "print(len(tasks))\n",
    "\n",
    "imidegaut.get_historical_data2(ib, tasks)"
   ]
  },
  {
   "cell_type": "markdown",
   "id": "pointed-empire",
   "metadata": {},
   "source": [
    "##"
   ]
  },
  {
   "cell_type": "code",
   "execution_count": null,
   "id": "least-reserve",
   "metadata": {},
   "outputs": [],
   "source": [
    "%load_ext autoreload\n",
    "%autoreload 2\n",
    "\n",
    "import ib_insync\n",
    "\n",
    "print(ib_insync.__all__)"
   ]
  },
  {
   "cell_type": "code",
   "execution_count": null,
   "id": "apart-crowd",
   "metadata": {},
   "outputs": [],
   "source": [
    "import logging\n",
    "\n",
    "import helpers.hdbg as hdbg\n",
    "import helpers.hprint as hprint\n",
    "import im.ib.data.extract.gateway.utils as imidegaut\n",
    "\n",
    "hdbg.init_logger(verbosity=logging.DEBUG)\n",
    "# hdbg.init_logger(verbosity=logging.INFO)\n",
    "\n",
    "import pandas as pd\n",
    "\n",
    "hdbg.shutup_chatty_modules(verbose=False)"
   ]
  },
  {
   "cell_type": "code",
   "execution_count": null,
   "id": "subject-stroke",
   "metadata": {},
   "outputs": [],
   "source": [
    "ib = imidegaut.ib_connect(8, is_notebook=True)"
   ]
  },
  {
   "cell_type": "code",
   "execution_count": null,
   "id": "imported-excess",
   "metadata": {},
   "outputs": [],
   "source": [
    "# #start_ts = pd.Timestamp(\"2018-01-28 15:00\").tz_localize(tz=\"America/New_York\")\n",
    "# start_ts = pd.Timestamp(\"2018-01-28 18:00\").tz_localize(tz=\"America/New_York\")\n",
    "# end_ts = pd.Timestamp(\"2018-02-28 15:00\").tz_localize(tz=\"America/New_York\")\n",
    "\n",
    "# dates = []\n",
    "# if (start_ts.hour, start_ts.minute) > (18, 0):\n",
    "#     dates = [start_ts]\n",
    "#     # Align start_ts to 18:00.\n",
    "#     start_ts = start_ts.replace(hour=18, minute=18)\n",
    "# elif (start_ts.hour, start_ts.minute) < (18, 0):\n",
    "#     dates = [start_ts]\n",
    "#     # Align start_ts to 18:00 of the day before.\n",
    "#     start_ts = start_ts.replace(hour=18, minute=18)\n",
    "#     start_ts -= pd.DateOffset(days=1)\n",
    "\n",
    "# hdbg.dassert_eq((start_ts.hour, start_ts.minute), (18, 0))\n",
    "# dates += pd.date_range(start=start_ts, end=end_ts, freq='2D').tolist()\n",
    "# print(dates)"
   ]
  },
  {
   "cell_type": "code",
   "execution_count": null,
   "id": "italian-waste",
   "metadata": {},
   "outputs": [],
   "source": [
    "# import datetime\n",
    "# start_ts = pd.Timestamp(datetime.datetime(2017,6,25,0,31,53,993000))\n",
    "# print(start_ts)\n",
    "\n",
    "# start_ts.round('1s')"
   ]
  },
  {
   "cell_type": "code",
   "execution_count": null,
   "id": "flush-certificate",
   "metadata": {},
   "outputs": [],
   "source": [
    "contract = ib_insync.ContFuture(\"ES\", \"GLOBEX\", \"USD\")\n",
    "whatToShow = \"TRADES\"\n",
    "durationStr = \"2 D\"\n",
    "barSizeSetting = \"1 hour\"\n",
    "useRTH = False\n",
    "\n",
    "start_ts = pd.Timestamp(\"2018-01-28 15:00\").tz_localize(tz=\"America/New_York\")\n",
    "end_ts = pd.Timestamp(\"2018-02-01 15:00\").tz_localize(tz=\"America/New_York\")\n",
    "\n",
    "tasks = imidegaut.get_historical_data_workload(\n",
    "    ib, contract, start_ts, end_ts, barSizeSetting, whatToShow, useRTH\n",
    ")\n",
    "\n",
    "df = imidegaut.get_historical_data2(tasks)"
   ]
  },
  {
   "cell_type": "code",
   "execution_count": null,
   "id": "716413a6",
   "metadata": {},
   "outputs": [],
   "source": []
  },
  {
   "cell_type": "code",
   "execution_count": null,
   "id": "intensive-marketplace",
   "metadata": {},
   "outputs": [],
   "source": [
    "df"
   ]
  },
  {
   "cell_type": "code",
   "execution_count": null,
   "id": "eastern-vanilla",
   "metadata": {},
   "outputs": [],
   "source": [
    "df2 = imidegaut.get_historical_data_with_IB_loop(\n",
    "    ib,\n",
    "    contract,\n",
    "    start_ts,\n",
    "    end_ts,\n",
    "    durationStr,\n",
    "    barSizeSetting,\n",
    "    whatToShow,\n",
    "    useRTH,\n",
    ")"
   ]
  },
  {
   "cell_type": "code",
   "execution_count": null,
   "id": "manufactured-suicide",
   "metadata": {},
   "outputs": [],
   "source": [
    "hprint.print(df.index)"
   ]
  },
  {
   "cell_type": "code",
   "execution_count": null,
   "id": "binary-lyric",
   "metadata": {},
   "outputs": [],
   "source": [
    "contract = ib_insync.ContFuture(\"ES\", \"GLOBEX\", \"USD\")\n",
    "whatToShow = \"TRADES\"\n",
    "durationStr = \"1 D\"\n",
    "barSizeSetting = \"1 hour\"\n",
    "# 2021-02-18 is a Thursday and it's full day.\n",
    "start_ts = pd.Timestamp(\"2021-02-17 00:00:00\")\n",
    "end_ts = pd.Timestamp(\"2021-02-18 23:59:59\")\n",
    "useRTH = False\n",
    "df, return_ts_seq = imidegaut.get_historical_data_with_IB_loop(\n",
    "    ib,\n",
    "    contract,\n",
    "    start_ts,\n",
    "    end_ts,\n",
    "    durationStr,\n",
    "    barSizeSetting,\n",
    "    whatToShow,\n",
    "    useRTH,\n",
    "    return_ts_seq=True,\n",
    ")\n",
    "print(return_ts_seq)"
   ]
  },
  {
   "cell_type": "code",
   "execution_count": null,
   "id": "adult-access",
   "metadata": {},
   "outputs": [],
   "source": [
    "print(\"\\n\".join(map(str, return_ts_seq)))"
   ]
  }
 ],
 "metadata": {
  "kernelspec": {
   "display_name": "Python [conda env:.conda-dev] *",
   "language": "python",
   "name": "conda-env-.conda-dev-py"
  },
  "language_info": {
   "codemirror_mode": {
    "name": "ipython",
    "version": 3
   },
   "file_extension": ".py",
   "mimetype": "text/x-python",
   "name": "python",
   "nbconvert_exporter": "python",
   "pygments_lexer": "ipython3"
  },
  "toc": {
   "base_numbering": 1,
   "nav_menu": {},
   "number_sections": true,
   "sideBar": true,
   "skip_h1_title": false,
   "title_cell": "Table of Contents",
   "title_sidebar": "Contents",
   "toc_cell": false,
   "toc_position": {
    "height": "calc(100% - 180px)",
    "left": "10px",
    "top": "150px",
    "width": "165px"
   },
   "toc_section_display": true,
   "toc_window_display": true
  }
 },
 "nbformat": 4,
 "nbformat_minor": 5
}
