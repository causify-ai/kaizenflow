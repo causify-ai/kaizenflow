{
 "cells": [
  {
   "cell_type": "markdown",
   "id": "c931fc86",
   "metadata": {},
   "source": [
    "# Imports"
   ]
  },
  {
   "cell_type": "code",
   "execution_count": null,
   "id": "283e00d7",
   "metadata": {},
   "outputs": [],
   "source": [
    "%load_ext autoreload\n",
    "%autoreload 2\n",
    "\n",
    "import ib_insync\n",
    "\n",
    "print(ib_insync.__all__)\n",
    "\n",
    "import helpers.hdbg as hdbg\n",
    "import helpers.hprint as hprint\n",
    "import helpers.hstring as hstring\n",
    "import im.ib.data.extract.gateway.utils as imidegaut"
   ]
  },
  {
   "cell_type": "markdown",
   "id": "db23b61d",
   "metadata": {},
   "source": [
    "# Connect"
   ]
  },
  {
   "cell_type": "code",
   "execution_count": null,
   "id": "6ea304ac",
   "metadata": {},
   "outputs": [],
   "source": [
    "ib = imidegaut.ib_connect(client_id=32, is_notebook=True)"
   ]
  },
  {
   "cell_type": "markdown",
   "id": "4532a269",
   "metadata": {},
   "source": [
    "# Basic"
   ]
  },
  {
   "cell_type": "code",
   "execution_count": null,
   "id": "8d97e0ca",
   "metadata": {},
   "outputs": [],
   "source": [
    "# print(hprint.obj_to_str(ib, attr_mode=\"dir\", callable_mode=\"all\"))"
   ]
  },
  {
   "cell_type": "code",
   "execution_count": null,
   "id": "894262af",
   "metadata": {},
   "outputs": [],
   "source": [
    "ib.positions()"
   ]
  },
  {
   "cell_type": "code",
   "execution_count": null,
   "id": "e89629fb",
   "metadata": {},
   "outputs": [],
   "source": [
    "[\n",
    "    v\n",
    "    for v in ib.accountValues()\n",
    "    if v.tag == \"NetLiquidationByCurrency\" and v.currency == \"BASE\"\n",
    "]"
   ]
  },
  {
   "cell_type": "markdown",
   "id": "c4b2f3b9",
   "metadata": {},
   "source": [
    "## Equity"
   ]
  },
  {
   "cell_type": "code",
   "execution_count": null,
   "id": "98539605",
   "metadata": {},
   "outputs": [],
   "source": [
    "# INTC\n",
    "contract = ib_insync.Contract(conId=270639)\n",
    "eq_contract = imidegaut.to_contract_details(ib, contract)"
   ]
  },
  {
   "cell_type": "code",
   "execution_count": null,
   "id": "5840537f",
   "metadata": {},
   "outputs": [],
   "source": [
    "contract = ib_insync.Stock(\"AMD\", \"SMART\", \"USD\")\n",
    "eq_contract = imidegaut.to_contract_details(ib, contract)"
   ]
  },
  {
   "cell_type": "code",
   "execution_count": null,
   "id": "c0b1d7a9",
   "metadata": {},
   "outputs": [],
   "source": [
    "contract = ib_insync.Stock(\"INTC\", \"SMART\", \"USD\", primaryExchange=\"NASDAQ\")\n",
    "eq_contract = imidegaut.to_contract_details(ib, contract)"
   ]
  },
  {
   "cell_type": "markdown",
   "id": "d84a51c0",
   "metadata": {},
   "source": [
    "## Forex"
   ]
  },
  {
   "cell_type": "code",
   "execution_count": null,
   "id": "7525f66d",
   "metadata": {},
   "outputs": [],
   "source": [
    "contract = ib_insync.Forex(\"EURUSD\")\n",
    "forex_contract = imidegaut.to_contract_details(ib, contract)"
   ]
  },
  {
   "cell_type": "code",
   "execution_count": null,
   "id": "1456410c",
   "metadata": {},
   "outputs": [],
   "source": [
    "print(hstring.diff_strings(eq_contract, forex_contract))"
   ]
  },
  {
   "cell_type": "markdown",
   "id": "9b458e53",
   "metadata": {},
   "source": [
    "## CFD (contract for difference)"
   ]
  },
  {
   "cell_type": "code",
   "execution_count": null,
   "id": "5cd0fd8c",
   "metadata": {},
   "outputs": [],
   "source": [
    "contract = ib_insync.CFD(\"IBUS30\")\n",
    "cfd_contract = imidegaut.to_contract_details(ib, contract)"
   ]
  },
  {
   "cell_type": "code",
   "execution_count": null,
   "id": "670147bf",
   "metadata": {},
   "outputs": [],
   "source": [
    "print(hstring.diff_strings(eq_contract, cfd_contract))"
   ]
  },
  {
   "cell_type": "markdown",
   "id": "da3d0f84",
   "metadata": {},
   "source": [
    "## Futures"
   ]
  },
  {
   "cell_type": "code",
   "execution_count": null,
   "id": "d4c6020a",
   "metadata": {},
   "outputs": [],
   "source": [
    "contract = ib_insync.Future(\"ES\", \"202109\", \"GLOBEX\")\n",
    "fut_contract = imidegaut.to_contract_details(ib, contract)"
   ]
  },
  {
   "cell_type": "code",
   "execution_count": null,
   "id": "71e7bfbc",
   "metadata": {},
   "outputs": [],
   "source": [
    "print(hstring.diff_strings(eq_contract, fut_contract, \"eq\", \"fut\"))"
   ]
  },
  {
   "cell_type": "markdown",
   "id": "15b305c2",
   "metadata": {},
   "source": [
    "## Continuous Futures"
   ]
  },
  {
   "cell_type": "code",
   "execution_count": null,
   "id": "edae5146",
   "metadata": {},
   "outputs": [],
   "source": [
    "# contract = ib_insync.ContFuture('ES', '202109', 'GLOBEX')\n",
    "# fut_contract = imidegaut.to_contract_details(ib, contract)"
   ]
  },
  {
   "cell_type": "markdown",
   "id": "5c0c9b26",
   "metadata": {},
   "source": [
    "## Option"
   ]
  },
  {
   "cell_type": "code",
   "execution_count": null,
   "id": "de75f7f4",
   "metadata": {},
   "outputs": [],
   "source": [
    "contract = ib_insync.Option(\"SPY\", \"202107\", 240, \"C\", \"SMART\")\n",
    "opt_contract = imidegaut.to_contract_details(ib, contract)"
   ]
  },
  {
   "cell_type": "markdown",
   "id": "b51de8b6",
   "metadata": {},
   "source": [
    "## Bond"
   ]
  },
  {
   "cell_type": "code",
   "execution_count": null,
   "id": "83c7aea5",
   "metadata": {},
   "outputs": [],
   "source": [
    "contract = Bond(secIdType=\"ISIN\", secId=\"US03076KAA60\")\n",
    "bond_contract = imidegaut.to_contract_details(ib, contract)"
   ]
  },
  {
   "cell_type": "markdown",
   "id": "6b83f9b0",
   "metadata": {},
   "source": [
    "# Contract details"
   ]
  },
  {
   "cell_type": "markdown",
   "id": "61687d04",
   "metadata": {},
   "source": [
    "## Equities"
   ]
  },
  {
   "cell_type": "code",
   "execution_count": null,
   "id": "efd527ce",
   "metadata": {},
   "outputs": [],
   "source": [
    "# Look for Stocks matching AMD.\n",
    "asset = ib_insync.Stock(\"AMD\")\n",
    "cds = ib.reqContractDetails(asset)\n",
    "print(\"num contracts=\", len(cds))\n",
    "print(cds[0])"
   ]
  },
  {
   "cell_type": "code",
   "execution_count": null,
   "id": "98ea0fc0",
   "metadata": {},
   "outputs": [],
   "source": [
    "contracts = [cd.contract for cd in cds]\n",
    "print(contracts[0])\n",
    "\n",
    "ib_insync.util.df(contracts)"
   ]
  },
  {
   "cell_type": "code",
   "execution_count": null,
   "id": "755d83f2",
   "metadata": {},
   "outputs": [],
   "source": [
    "# Show that there is a single AMD in US.\n",
    "asset = ib_insync.Stock(\"AMD\", \"SMART\", \"USD\")\n",
    "print(\"asset=\", asset)\n",
    "cds = ib.reqContractDetails(asset)\n",
    "print(\"num contracts=\", len(cds))\n",
    "hdbg.dassert_eq(len(cds), 1)\n",
    "print(cds[0])"
   ]
  },
  {
   "cell_type": "code",
   "execution_count": null,
   "id": "2c27c7a6",
   "metadata": {},
   "outputs": [],
   "source": [
    "ib.qualifyContracts(asset)"
   ]
  },
  {
   "cell_type": "code",
   "execution_count": null,
   "id": "d4783d25",
   "metadata": {},
   "outputs": [],
   "source": [
    "# Request stocks that match a pattern.\n",
    "matches = ib.reqMatchingSymbols(\"intc\")\n",
    "contracts = [m.contract for m in matches]\n",
    "ib_insync.util.df(contracts)"
   ]
  },
  {
   "cell_type": "markdown",
   "id": "ad37df87",
   "metadata": {},
   "source": [
    "## Futures"
   ]
  },
  {
   "cell_type": "code",
   "execution_count": null,
   "id": "54893b1e",
   "metadata": {
    "lines_to_next_cell": 2
   },
   "outputs": [],
   "source": [
    "# Look for ES.\n",
    "\n",
    "asset = ib_insync.Future(\"ES\", includeExpired=True)\n",
    "imidegaut.get_contract_details(ib, asset)"
   ]
  },
  {
   "cell_type": "code",
   "execution_count": null,
   "id": "8cd04f61",
   "metadata": {},
   "outputs": [],
   "source": [
    "cds = ib.reqContractDetails(asset)\n",
    "\n",
    "contracts = [cd.contract for cd in cds]\n",
    "\n",
    "ib_insync.util.df(contracts)"
   ]
  },
  {
   "cell_type": "markdown",
   "id": "1d761b8d",
   "metadata": {},
   "source": [
    "## Cont futures"
   ]
  },
  {
   "cell_type": "code",
   "execution_count": null,
   "id": "d380616d",
   "metadata": {},
   "outputs": [],
   "source": [
    "asset = ib_insync.ContFuture(\"ES\", \"Globex\", \"USD\")\n",
    "imidegaut.get_contract_details(ib, asset)"
   ]
  },
  {
   "cell_type": "code",
   "execution_count": null,
   "id": "2f05f453",
   "metadata": {},
   "outputs": [],
   "source": [
    "imidegaut.get_end_timestamp(ib, contract, \"TRADES\", useRTH=True)"
   ]
  },
  {
   "cell_type": "markdown",
   "id": "f60e9772",
   "metadata": {},
   "source": [
    "# Option chain"
   ]
  },
  {
   "cell_type": "code",
   "execution_count": null,
   "id": "26e62eaa",
   "metadata": {},
   "outputs": [],
   "source": [
    "# Options on SPX next 3"
   ]
  },
  {
   "cell_type": "code",
   "execution_count": null,
   "id": "4a8248ae",
   "metadata": {},
   "outputs": [],
   "source": [
    "spx = ib_insync.Index(\"SPX\", \"CBOE\")\n",
    "print(\"type=%s %s\" % (type(spx), spx))\n",
    "\n",
    "ib.qualifyContracts(spx)"
   ]
  },
  {
   "cell_type": "code",
   "execution_count": null,
   "id": "7f4de154",
   "metadata": {},
   "outputs": [],
   "source": [
    "# Use delayed data.\n",
    "ib.reqMarketDataType(4)\n",
    "tickers = ib.reqTickers(spx)\n",
    "assert len(tickers) == 1\n",
    "ticker = tickers[0]\n",
    "\n",
    "print(hprint.type_obj_to_str(ticker))"
   ]
  },
  {
   "cell_type": "code",
   "execution_count": null,
   "id": "739a51f0",
   "metadata": {},
   "outputs": [],
   "source": [
    "spx_value = ticker.marketPrice()\n",
    "spx_value"
   ]
  },
  {
   "cell_type": "code",
   "execution_count": null,
   "id": "6005ed62",
   "metadata": {},
   "outputs": [],
   "source": [
    "# TODO: finish"
   ]
  },
  {
   "cell_type": "markdown",
   "id": "2f512cda",
   "metadata": {},
   "source": [
    "# Historical data"
   ]
  },
  {
   "cell_type": "code",
   "execution_count": null,
   "id": "74321c66",
   "metadata": {},
   "outputs": [],
   "source": [
    "# 1 = Live\n",
    "# 2 = Frozen\n",
    "# 3 = Delayed\n",
    "# 4 = Delayed frozen\n",
    "ib.reqMarketDataType(4)\n",
    "\n",
    "if False:\n",
    "    contract = ib_insync.Stock(\"TSLA\", \"SMART\", \"USD\")\n",
    "    whatToShow = \"TRADES\"\n",
    "elif False:\n",
    "    contract = ib_insync.Future(\"ES\", \"202109\", \"GLOBEX\")\n",
    "    whatToShow = \"TRADES\"\n",
    "elif False:\n",
    "    contract = ib_insync.ContFuture(\"ES\", \"GLOBEX\", \"USD\")\n",
    "    whatToShow = \"TRADES\"\n",
    "else:\n",
    "    contract = ib_insync.Forex(\"EURUSD\")\n",
    "    whatToShow = \"MIDPOINT\"\n",
    "\n",
    "if False:\n",
    "    durationStr = \"1 Y\"\n",
    "    barSizeSetting = \"1 day\"\n",
    "    # barSizeSetting='1 hour'\n",
    "else:\n",
    "    durationStr = \"1 D\"\n",
    "    barSizeSetting = \"1 hour\"\n",
    "\n",
    "print(\"contract=\", contract)\n",
    "print(\"whatToShow=\", whatToShow)\n",
    "print(\"durationStr=\", durationStr)\n",
    "print(\"barSizeSetting=\", barSizeSetting)\n",
    "\n",
    "# Get the datetime of earliest available historical data for the contract.\n",
    "ts = ib.reqHeadTimeStamp(contract, whatToShow=whatToShow, useRTH=True)\n",
    "print(\"ts=\", ts)\n",
    "bars = ib.reqHistoricalData(\n",
    "    contract,\n",
    "    endDateTime=\"\",\n",
    "    durationStr=durationStr,\n",
    "    barSizeSetting=barSizeSetting,\n",
    "    whatToShow=whatToShow,\n",
    "    useRTH=True,\n",
    "    formatDate=1,\n",
    ")\n",
    "print(\"len(bars)=\", len(bars))\n",
    "print(ib_insync.util.df(bars))"
   ]
  },
  {
   "cell_type": "code",
   "execution_count": null,
   "id": "75ab0744",
   "metadata": {},
   "outputs": [],
   "source": [
    "# icontract = ib_insync.Stock('TSLA', 'SMART', 'USD')\n",
    "contract = ib_insync.Forex(\"EURUSD\")\n",
    "\n",
    "# Get the datetime of earliest available historical data for the contract.\n",
    "ib.reqHeadTimeStamp(contract, whatToShow=\"TRADES\", useRTH=True)"
   ]
  },
  {
   "cell_type": "code",
   "execution_count": null,
   "id": "0c0b52d3",
   "metadata": {},
   "outputs": [],
   "source": [
    "print(contract)\n",
    "ib.reqMarketDataType(4)\n",
    "bars = ib.reqHistoricalData(\n",
    "    contract,\n",
    "    endDateTime=\"20200101 01:01:01\",\n",
    "    durationStr=\"60 D\",\n",
    "    barSizeSetting=\"1 hour\",\n",
    "    whatToShow=\"TRADES\",\n",
    "    useRTH=True,\n",
    "    formatDate=1,\n",
    ")"
   ]
  },
  {
   "cell_type": "code",
   "execution_count": null,
   "id": "e1f604b9",
   "metadata": {},
   "outputs": [],
   "source": [
    "print(bars[0])\n",
    "df = util.df(bars)\n",
    "\n",
    "display(df.head())\n",
    "display(df.tail())"
   ]
  },
  {
   "cell_type": "markdown",
   "id": "44f94e10",
   "metadata": {},
   "source": [
    "## Historical data with RT updates"
   ]
  },
  {
   "cell_type": "code",
   "execution_count": null,
   "id": "0c92a8aa",
   "metadata": {},
   "outputs": [],
   "source": [
    "ib.reqMarketDataType(1)\n",
    "contract = ib_insync.Forex(\"EURUSD\")\n",
    "\n",
    "bars = ib.reqHistoricalData(\n",
    "    contract,\n",
    "    endDateTime=\"\",\n",
    "    durationStr=\"900 S\",\n",
    "    barSizeSetting=\"10 secs\",\n",
    "    whatToShow=\"MIDPOINT\",\n",
    "    useRTH=True,\n",
    "    formatDate=1,\n",
    "    keepUpToDate=True,\n",
    ")\n",
    "\n",
    "print(bars[-1])\n",
    "\n",
    "import matplotlib.pyplot as plt"
   ]
  },
  {
   "cell_type": "code",
   "execution_count": null,
   "id": "fc0d6945",
   "metadata": {},
   "outputs": [],
   "source": [
    "from IPython.display import clear_output, display\n",
    "\n",
    "\n",
    "def onBarUpdate(bars, hasNewBar):\n",
    "    plt.close()\n",
    "    plot = ib_insync.util.barplot(bars)\n",
    "    clear_output(wait=True)\n",
    "    display(plot)\n",
    "\n",
    "\n",
    "bars.updateEvent += onBarUpdate\n",
    "\n",
    "ib.sleep(10)\n",
    "ib.cancelHistoricalData(bars)"
   ]
  },
  {
   "cell_type": "markdown",
   "id": "16d04f91",
   "metadata": {},
   "source": [
    "## Realtime bars"
   ]
  },
  {
   "cell_type": "code",
   "execution_count": null,
   "id": "94b8932e",
   "metadata": {},
   "outputs": [],
   "source": [
    "def onBarUpdate(bars, hasNewBar):\n",
    "    print(bars[-1])"
   ]
  },
  {
   "cell_type": "code",
   "execution_count": null,
   "id": "ef35410d",
   "metadata": {},
   "outputs": [],
   "source": [
    "bars = ib.reqRealTimeBars(contract, 5, \"MIDPOINT\", False)\n",
    "bars.updateEvent += onBarUpdate"
   ]
  },
  {
   "cell_type": "code",
   "execution_count": null,
   "id": "a1894986",
   "metadata": {},
   "outputs": [],
   "source": [
    "ib.sleep(10)\n",
    "ib.cancelRealTimeBars(bars)"
   ]
  },
  {
   "cell_type": "markdown",
   "id": "4e4ccf25",
   "metadata": {},
   "source": [
    "# Tick data"
   ]
  },
  {
   "cell_type": "markdown",
   "id": "b4f753fc",
   "metadata": {},
   "source": [
    "## Streaming tick data"
   ]
  },
  {
   "cell_type": "code",
   "execution_count": null,
   "id": "ff3f1fde",
   "metadata": {},
   "outputs": [],
   "source": [
    "contracts = (\"EURUSD\", \"USDJPY\", \"GBPUSD\", \"USDCHF\", \"USDCAD\", \"AUDUSD\")\n",
    "contracts = [ib_insync.Forex(p) for p in contracts]\n",
    "ib.qualifyContracts(*contracts)"
   ]
  },
  {
   "cell_type": "code",
   "execution_count": null,
   "id": "582a6842",
   "metadata": {},
   "outputs": [],
   "source": [
    "# reqMktData: subscribe to tick data or request a snapshot.\n",
    "# https://interactivebrokers.github.io/tws-api/md_request.html\n",
    "\n",
    "for contract in contracts:\n",
    "    # https://ib-insync.readthedocs.io/api.html#ib_insync.ib.IB.reqMktData\n",
    "    genericTickList = \"\"\n",
    "    # Subscribe a stream of real time.\n",
    "    snapshot = False\n",
    "    # Request NBBO snapshot.\n",
    "    regulatory_snapshot = False\n",
    "    ib.reqMktData(contract, genericTickList, snapshot, regulatory_snapshot)"
   ]
  },
  {
   "cell_type": "code",
   "execution_count": null,
   "id": "b0b0f7fd",
   "metadata": {},
   "outputs": [],
   "source": [
    "eurusd = contracts[1]\n",
    "ticker = ib.ticker(eurusd)\n",
    "print(ticker)\n",
    "print(ticker.midpoint())"
   ]
  },
  {
   "cell_type": "code",
   "execution_count": null,
   "id": "d31488dd",
   "metadata": {},
   "outputs": [],
   "source": [
    "# ticker.marketPrice()\n",
    "ticker.midpoint()\n",
    "\n",
    "import pandas as pd"
   ]
  },
  {
   "cell_type": "code",
   "execution_count": null,
   "id": "03678669",
   "metadata": {},
   "outputs": [],
   "source": [
    "from IPython.display import clear_output, display\n",
    "\n",
    "df = pd.DataFrame(\n",
    "    index=[c.pair() for c in contracts],\n",
    "    columns=[\"bidSize\", \"bid\", \"ask\", \"askSize\", \"high\", \"low\", \"close\"],\n",
    ")\n",
    "\n",
    "\n",
    "def onPendingTickers(tickers):\n",
    "    for t in tickers:\n",
    "        df.loc[t.contract.pair()] = (\n",
    "            t.bidSize,\n",
    "            t.bid,\n",
    "            t.ask,\n",
    "            t.askSize,\n",
    "            t.high,\n",
    "            t.low,\n",
    "            t.close,\n",
    "        )\n",
    "        clear_output(wait=True)\n",
    "    display(df)\n",
    "\n",
    "\n",
    "ib.pendingTickersEvent += onPendingTickers\n",
    "ib.sleep(10)\n",
    "ib.pendingTickersEvent -= onPendingTickers\n",
    "print(\"DONE\")"
   ]
  },
  {
   "cell_type": "code",
   "execution_count": null,
   "id": "6945aa2d",
   "metadata": {},
   "outputs": [],
   "source": [
    "# Stop the update.\n",
    "for contract in contracts:\n",
    "    ib.cancelMktData(contract)"
   ]
  },
  {
   "cell_type": "markdown",
   "id": "60acff2e",
   "metadata": {},
   "source": [
    "## Tick by tick data"
   ]
  },
  {
   "cell_type": "code",
   "execution_count": null,
   "id": "655d60c8",
   "metadata": {},
   "outputs": [],
   "source": [
    "# re\n",
    "# https://interactivebrokers.github.io/tws-api/tick_data.html"
   ]
  },
  {
   "cell_type": "code",
   "execution_count": null,
   "id": "191cb180",
   "metadata": {},
   "outputs": [],
   "source": [
    "ticker = ib.reqTickByTickData(eurusd, \"BidAsk\")\n",
    "ib.sleep(2)\n",
    "print(ticker)"
   ]
  },
  {
   "cell_type": "code",
   "execution_count": null,
   "id": "85eb375d",
   "metadata": {},
   "outputs": [],
   "source": [
    "ticker = ib.reqTickByTickData(eurusd, \"BidAsk\")\n",
    "ib.sleep(2)\n",
    "print(ticker)"
   ]
  },
  {
   "cell_type": "code",
   "execution_count": null,
   "id": "598c8850",
   "metadata": {},
   "outputs": [],
   "source": [
    "ib.cancelTickByTickData(ticker.contract, \"BidAsk\")"
   ]
  },
  {
   "cell_type": "markdown",
   "id": "bf5c6b2b",
   "metadata": {},
   "source": [
    "## Historical tick data"
   ]
  },
  {
   "cell_type": "code",
   "execution_count": null,
   "id": "60d09e8a",
   "metadata": {},
   "outputs": [],
   "source": [
    "# reqHistoricalTicks(contract, startDateTime, endDateTime,\n",
    "#    numberOfTicks, whatToShow, useRth, ignoreSize=False, miscOptions=[]\n",
    "# Request historical ticks. The time resolution of the ticks is one second.\n",
    "# This method is blocking.\n",
    "# https://interactivebrokers.github.io/tws-api/historical_time_and_sales.html"
   ]
  },
  {
   "cell_type": "code",
   "execution_count": null,
   "id": "08eec29d",
   "metadata": {},
   "outputs": [],
   "source": [
    "import datetime\n",
    "\n",
    "start = \"\"\n",
    "end = datetime.datetime.now()\n",
    "print(start, end)\n",
    "number_of_ticks = 1000\n",
    "what_to_show = \"BID_ASK\"\n",
    "useRTH = False\n",
    "ticks = ib.reqHistoricalTicks(\n",
    "    eurusd, start, end, number_of_ticks, what_to_show, useRTH\n",
    ")\n",
    "\n",
    "print(len(ticks))\n",
    "df = ib_insync.util.df(ticks)\n",
    "df.drop(columns=\"tickAttribBidAsk\", inplace=True)\n",
    "# df.index = [t.time for t in ticks]\n",
    "\n",
    "df.head(5)"
   ]
  },
  {
   "cell_type": "code",
   "execution_count": null,
   "id": "6cea625b",
   "metadata": {},
   "outputs": [],
   "source": [
    "print(str(ticks)[:1000])\n",
    "print(ticks[0].time, ticks[-1].time)"
   ]
  },
  {
   "cell_type": "markdown",
   "id": "3bc3a09d",
   "metadata": {},
   "source": [
    "# Market depth (order book)"
   ]
  },
  {
   "cell_type": "markdown",
   "id": "9ed6e660",
   "metadata": {},
   "source": [
    "## Get exchange info"
   ]
  },
  {
   "cell_type": "code",
   "execution_count": null,
   "id": "bea6d8e3",
   "metadata": {},
   "outputs": [],
   "source": [
    "l = ib.reqMktDepthExchanges()\n",
    "print(\"num exchanges with market depth=\", len(l))\n",
    "print(\"\\n\".join(map(str, l[:5])))"
   ]
  },
  {
   "cell_type": "code",
   "execution_count": null,
   "id": "719cfee9",
   "metadata": {},
   "outputs": [],
   "source": [
    "df = ib_insync.util.df(l)\n",
    "display(df.head(5))\n",
    "print(\"secType=\", df[\"secType\"].unique())\n",
    "df.sort_values(\"secType\")\n",
    "print(len(df))\n",
    "\n",
    "df_fut = df[df[\"secType\"] == \"FUT\"].sort_values(\"exchange\")\n",
    "print(len(df_fut))\n",
    "display(df_fut)"
   ]
  },
  {
   "cell_type": "markdown",
   "id": "cca619f7",
   "metadata": {},
   "source": [
    "## Get the book"
   ]
  },
  {
   "cell_type": "code",
   "execution_count": null,
   "id": "8a75f094",
   "metadata": {},
   "outputs": [],
   "source": [
    "contract = ib_insync.Forex(\"EURUSD\")\n",
    "ib.qualifyContracts(contract)\n",
    "ticker = ib.reqMktDepth(contract)"
   ]
  },
  {
   "cell_type": "code",
   "execution_count": null,
   "id": "0c84c7eb",
   "metadata": {},
   "outputs": [],
   "source": [
    "ticker\n",
    "\n",
    "import pandas as pd"
   ]
  },
  {
   "cell_type": "code",
   "execution_count": null,
   "id": "fe5d57fb",
   "metadata": {},
   "outputs": [],
   "source": [
    "from IPython.display import clear_output, display\n",
    "\n",
    "df = pd.DataFrame(\n",
    "    index=range(5), columns=\"bidSize bidPrice askPrice askSize\".split()\n",
    ")\n",
    "\n",
    "\n",
    "def onTickerUpdate(ticker):\n",
    "    bids = ticker.domBids\n",
    "    for i in range(5):\n",
    "        df.iloc[i, 0] = bids[i].size if i < len(bids) else 0\n",
    "        df.iloc[i, 1] = bids[i].price if i < len(bids) else 0\n",
    "    asks = ticker.domAsks\n",
    "    for i in range(5):\n",
    "        df.iloc[i, 2] = asks[i].price if i < len(asks) else 0\n",
    "        df.iloc[i, 3] = asks[i].size if i < len(asks) else 0\n",
    "    clear_output(wait=True)\n",
    "    display(df)\n",
    "\n",
    "\n",
    "ticker.updateEvent += onTickerUpdate\n",
    "\n",
    "ib_insync.IB.sleep(15)"
   ]
  },
  {
   "cell_type": "code",
   "execution_count": null,
   "id": "6de9dd97",
   "metadata": {},
   "outputs": [],
   "source": [
    "ib.cancelMktDepth(contract)"
   ]
  },
  {
   "cell_type": "code",
   "execution_count": null,
   "id": "ed7acebe",
   "metadata": {},
   "outputs": [],
   "source": [
    "assert 0"
   ]
  },
  {
   "cell_type": "markdown",
   "id": "4847c9cd",
   "metadata": {},
   "source": [
    "# Ordering"
   ]
  },
  {
   "cell_type": "markdown",
   "id": "e0287bca",
   "metadata": {},
   "source": [
    "## Account info"
   ]
  },
  {
   "cell_type": "code",
   "execution_count": null,
   "id": "ff49ea90",
   "metadata": {},
   "outputs": [],
   "source": [
    "# List of positions for a given account.\n",
    "print(\"positions=\\n\\t\", \"\\n\\t\".join(map(str, ib.positions())))\n",
    "\n",
    "## List of all orders in current session.\n",
    "print(\"orders=\", ib.orders())\n",
    "\n",
    "## List of trades in current session.\n",
    "print(\"trades=\", ib.trades())"
   ]
  },
  {
   "cell_type": "markdown",
   "id": "dcd2fb33",
   "metadata": {},
   "source": [
    "## Order"
   ]
  },
  {
   "cell_type": "code",
   "execution_count": null,
   "id": "1ef9bc20",
   "metadata": {},
   "outputs": [],
   "source": [
    "if True:\n",
    "    contract = ib_insync.Forex(\"EURUSD\")\n",
    "    ib.qualifyContracts(contract)\n",
    "    print(\"contract=\", contract)\n",
    "    #\n",
    "    total_quantity = 2000\n",
    "    # total_quantity = 3900\n",
    "    limit_price = 1.1\n",
    "else:\n",
    "    contract = ib_insync.Future(\"ES\", \"202109\", \"GLOBEX\")\n",
    "    ib.qualifyContracts(contract)\n",
    "    print(\"contract=\", contract)\n",
    "    #\n",
    "    total_quantity = 2000\n",
    "    limit_price = 1.1"
   ]
  },
  {
   "cell_type": "code",
   "execution_count": null,
   "id": "bc2a5108",
   "metadata": {},
   "outputs": [],
   "source": []
  },
  {
   "cell_type": "code",
   "execution_count": null,
   "id": "ac00575f",
   "metadata": {},
   "outputs": [],
   "source": [
    "%%time\n",
    "total_quantity = 3900\n",
    "# limit_price = 1.1\n",
    "limit_price = 100\n",
    "order = ib_insync.LimitOrder(\"BUY\", total_quantity, limit_price)\n",
    "print(\"order=\", order)"
   ]
  },
  {
   "cell_type": "code",
   "execution_count": null,
   "id": "75751589",
   "metadata": {},
   "outputs": [],
   "source": [
    "def print_trade(trade):\n",
    "    # print(\"trade=\", trade)\n",
    "    print(\"trade.contract=\", trade.contract)\n",
    "    print(\"trade.order=\", trade.order)\n",
    "    print(\"trade.orderStatus=\", trade.orderStatus)\n",
    "    print(\"log=\\n\\t%s\" % \"\\n\\t\".join(map(str, trade.log)))"
   ]
  },
  {
   "cell_type": "code",
   "execution_count": null,
   "id": "5f152df4",
   "metadata": {},
   "outputs": [],
   "source": [
    "trade = ib.placeOrder(contract, order)"
   ]
  },
  {
   "cell_type": "code",
   "execution_count": null,
   "id": "8ef4c6b5",
   "metadata": {},
   "outputs": [],
   "source": [
    "print_trade(trade)"
   ]
  },
  {
   "cell_type": "code",
   "execution_count": null,
   "id": "01e10029",
   "metadata": {},
   "outputs": [],
   "source": [
    "# The trade is in the trades.\n",
    "ib.trades()"
   ]
  },
  {
   "cell_type": "code",
   "execution_count": null,
   "id": "f2038851",
   "metadata": {},
   "outputs": [],
   "source": [
    "ib.orders()"
   ]
  },
  {
   "cell_type": "markdown",
   "id": "f45f5aa6",
   "metadata": {},
   "source": [
    "## Order can't be filled."
   ]
  },
  {
   "cell_type": "code",
   "execution_count": null,
   "id": "cc660b80",
   "metadata": {},
   "outputs": [],
   "source": [
    "total_quantity = 2000\n",
    "limit_price = 1.1\n",
    "order = ib_insync.LimitOrder(\"SELL\", total_quantity, limit_price)\n",
    "print(\"order=\", order)"
   ]
  },
  {
   "cell_type": "code",
   "execution_count": null,
   "id": "9faa10f1",
   "metadata": {},
   "outputs": [],
   "source": [
    "# Create a buy order with an irrealistic limit price (too low).\n",
    "print(\"contract=\", contract)\n",
    "total_quantity = 2000\n",
    "price = 0.05\n",
    "order = ib_insync.LimitOrder(\"BUY\", total_quantity, price)\n",
    "# placeOrder is not blocking.\n",
    "trade = ib.placeOrder(contract, order)\n",
    "\n",
    "print_trade(trade)"
   ]
  },
  {
   "cell_type": "code",
   "execution_count": null,
   "id": "de3e9740",
   "metadata": {},
   "outputs": [],
   "source": [
    "# print(ib.openTrades())\n",
    "print(trade.orderStatus.status)"
   ]
  },
  {
   "cell_type": "code",
   "execution_count": null,
   "id": "59c49887",
   "metadata": {},
   "outputs": [],
   "source": [
    "print(trade.orderStatus.status)\n",
    "ib.cancelOrder(order)\n",
    "print(trade.orderStatus.status)"
   ]
  },
  {
   "cell_type": "code",
   "execution_count": null,
   "id": "862273fc",
   "metadata": {},
   "outputs": [],
   "source": [
    "trade.log"
   ]
  },
  {
   "cell_type": "code",
   "execution_count": null,
   "id": "d8d318f9",
   "metadata": {},
   "outputs": [],
   "source": [
    "%%time\n",
    "order = ib_insync.MarketOrder(\"BUY\", 100)\n",
    "\n",
    "trade = ib.placeOrder(contract, order)\n",
    "while not trade.isDone():\n",
    "    print(\"status=\", trade.orderStatus.status)\n",
    "    ib.waitOnUpdate()"
   ]
  },
  {
   "cell_type": "code",
   "execution_count": null,
   "id": "bd0d2021",
   "metadata": {},
   "outputs": [],
   "source": [
    "ib.positions()"
   ]
  },
  {
   "cell_type": "code",
   "execution_count": null,
   "id": "b211671c",
   "metadata": {},
   "outputs": [],
   "source": [
    "tot_commission = sum(fill.commissionReport.commission for fill in ib.fills())\n",
    "print(tot_commission)"
   ]
  },
  {
   "cell_type": "code",
   "execution_count": null,
   "id": "d1c2305d",
   "metadata": {},
   "outputs": [],
   "source": [
    "# See commission and margin impact without sending order.\n",
    "order = ib_insync.MarketOrder(\"SELL\", 20000)\n",
    "order_state = ib.whatIfOrder(contract, order)\n",
    "print(type(order_state))\n",
    "print(order_state)\n",
    "\n",
    "# str(order_state)"
   ]
  },
  {
   "cell_type": "code",
   "execution_count": null,
   "id": "2f89620b",
   "metadata": {},
   "outputs": [],
   "source": [
    "order_state.dict()"
   ]
  },
  {
   "cell_type": "markdown",
   "id": "5df56dba",
   "metadata": {},
   "source": [
    "# News articles"
   ]
  },
  {
   "cell_type": "code",
   "execution_count": null,
   "id": "9d9f3088",
   "metadata": {},
   "outputs": [],
   "source": [
    "newsProviders = ib.reqNewsProviders()\n",
    "print(\"newsProviders=\", newsProviders)\n",
    "codes = \"+\".join(np.code for np in newsProviders)\n",
    "\n",
    "#\n",
    "contract = ib_insync.Stock(\"AMD\", \"SMART\", \"USD\")\n",
    "# contract = ib_insync.Future('ES')\n",
    "ib.qualifyContracts(contract)\n",
    "\n",
    "# reqHistoricalNews(conId, providerCodes, startDateTime, endDateTime, totalResults, historicalNewsOptions=None)\n",
    "startDateTime = \"\"\n",
    "endDateTime = \"\"\n",
    "totalResults = 10\n",
    "headlines = ib.reqHistoricalNews(\n",
    "    contract.conId, codes, startDateTime, endDateTime, totalResults\n",
    ")\n",
    "\n",
    "print(\"\\nlen(headlines)=\", len(headlines))\n",
    "latest = headlines[0]\n",
    "print(\"\\nheadline=\", latest)\n",
    "\n",
    "# Retrieve the article.\n",
    "article = ib.reqNewsArticle(latest.providerCode, latest.articleId)\n",
    "print(\"\\narticle=\", article)"
   ]
  },
  {
   "cell_type": "markdown",
   "id": "cdd590ff",
   "metadata": {},
   "source": [
    "# Scanner"
   ]
  },
  {
   "cell_type": "code",
   "execution_count": null,
   "id": "b47ed443",
   "metadata": {},
   "outputs": [],
   "source": [
    "# TODO"
   ]
  },
  {
   "cell_type": "markdown",
   "id": "8f6d5346",
   "metadata": {},
   "source": [
    "# Code recipes"
   ]
  },
  {
   "cell_type": "markdown",
   "id": "dc85a0e0",
   "metadata": {},
   "source": [
    "## Fetching consecutive data"
   ]
  },
  {
   "cell_type": "code",
   "execution_count": null,
   "id": "8744bc9a",
   "metadata": {},
   "outputs": [],
   "source": [
    "# 1 = Live\n",
    "# 2 = Frozen\n",
    "# 3 = Delayed\n",
    "# 4 = Delayed frozen\n",
    "ib.reqMarketDataType(4)\n",
    "\n",
    "if False:\n",
    "    durationStr = \"1 Y\"\n",
    "    barSizeSetting = \"1 day\"\n",
    "    # barSizeSetting='1 hour'\n",
    "else:\n",
    "    durationStr = \"1 D\"\n",
    "    barSizeSetting = \"1 hour\"\n",
    "\n",
    "if False:\n",
    "    contract = ib_insync.Stock(\"TSLA\", \"SMART\", \"USD\")\n",
    "    whatToShow = \"TRADES\"\n",
    "elif True:\n",
    "    contract = ib_insync.Future(\"ES\", \"202109\", \"GLOBEX\")\n",
    "    whatToShow = \"TRADES\"\n",
    "else:\n",
    "    contract = ib_insync.Forex(\"EURUSD\")\n",
    "    whatToShow = \"MIDPOINT\"\n",
    "\n",
    "print(\"contract=\", contract)\n",
    "print(\"whatToShow=\", whatToShow)\n",
    "print(\"durationStr=\", durationStr)\n",
    "print(\"barSizeSetting=\", barSizeSetting)\n",
    "\n",
    "# Get the datetime of earliest available historical data for the contract.\n",
    "ts = ib.reqHeadTimeStamp(contract, whatToShow=whatToShow, useRTH=True)\n",
    "print(\"ts=\", ts)\n",
    "bars = ib.reqHistoricalData(\n",
    "    contract,\n",
    "    endDateTime=\"\",\n",
    "    durationStr=durationStr,\n",
    "    barSizeSetting=barSizeSetting,\n",
    "    whatToShow=whatToShow,\n",
    "    useRTH=True,\n",
    "    formatDate=1,\n",
    ")\n",
    "print(\"len(bars)=\", len(bars))"
   ]
  },
  {
   "cell_type": "code",
   "execution_count": null,
   "id": "c802e83d",
   "metadata": {},
   "outputs": [],
   "source": [
    "# contract = Stock('TSLA', 'SMART', 'USD')\n",
    "contract = ib_insync.Forex(\"EURUSD\")\n",
    "whatToShow = \"MIDPOINT\"\n",
    "ts = ib.reqHeadTimeStamp(contract, whatToShow=whatToShow, useRTH=True)\n",
    "print(ts)\n",
    "# assert 0\n",
    "\n",
    "num_iter = 0\n",
    "max_iter = 5\n",
    "dt = \"\"\n",
    "barsList = []\n",
    "while True:\n",
    "    bars = ib.reqHistoricalData(\n",
    "        contract,\n",
    "        endDateTime=dt,\n",
    "        durationStr=\"10 D\",\n",
    "        barSizeSetting=\"1 min\",\n",
    "        whatToShow=\"MIDPOINT\",\n",
    "        useRTH=False,\n",
    "        formatDate=1,\n",
    "    )\n",
    "    if not bars:\n",
    "        break\n",
    "    barsList.append(bars)\n",
    "    dt = bars[0].date\n",
    "    print(dt, len(bars))\n",
    "    num_iter += 1\n",
    "    if num_iter > max_iter:\n",
    "        break\n",
    "\n",
    "# save to CSV file\n",
    "allBars = [b for bars in reversed(barsList) for b in bars]\n",
    "df = util.df(allBars)\n",
    "# df.to_csv(contract.symbol + '.csv')"
   ]
  }
 ],
 "metadata": {
  "kernelspec": {
   "display_name": "Python 3 (ipykernel)",
   "language": "python",
   "name": "python3"
  },
  "language_info": {
   "codemirror_mode": {
    "name": "ipython",
    "version": 3
   },
   "file_extension": ".py",
   "mimetype": "text/x-python",
   "name": "python",
   "nbconvert_exporter": "python",
   "pygments_lexer": "ipython3"
  },
  "toc": {
   "base_numbering": 1,
   "nav_menu": {},
   "number_sections": true,
   "sideBar": true,
   "skip_h1_title": false,
   "title_cell": "Table of Contents",
   "title_sidebar": "Contents",
   "toc_cell": false,
   "toc_position": {
    "height": "calc(100% - 180px)",
    "left": "10px",
    "top": "150px",
    "width": "218.188px"
   },
   "toc_section_display": true,
   "toc_window_display": true
  }
 },
 "nbformat": 4,
 "nbformat_minor": 5
}
