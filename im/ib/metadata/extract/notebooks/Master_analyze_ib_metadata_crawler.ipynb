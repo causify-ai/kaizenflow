{
 "cells": [
  {
   "cell_type": "code",
   "execution_count": null,
   "metadata": {},
   "outputs": [],
   "source": [
    "import glob\n",
    "import os\n",
    "\n",
    "import pandas as pd\n",
    "\n",
    "import helpers.hdbg as dbg"
   ]
  },
  {
   "cell_type": "code",
   "execution_count": null,
   "metadata": {},
   "outputs": [],
   "source": [
    "!ls .."
   ]
  },
  {
   "cell_type": "markdown",
   "metadata": {},
   "source": [
    "## Symbols"
   ]
  },
  {
   "cell_type": "code",
   "execution_count": null,
   "metadata": {},
   "outputs": [],
   "source": [
    "if False:\n",
    "    dir_name = \"..\"\n",
    "    files = glob.glob(os.path.join(dir_name, \"symbols*.csv\"))\n",
    "    dbg.dassert(len(files), 1)\n",
    "    file_name = files[0]\n",
    "    \n",
    "file_name = \"s3://external-p1/ib/metadata/symbols-2021-04-01-143112738505.csv\"\n",
    "print(\"file_name=%s\" % file_name)\n",
    "symbols = pd.read_csv(file_name, sep=\"\\t\")\n",
    "\n",
    "print(len(symbols))\n",
    "\n",
    "symbols.head(3)"
   ]
  },
  {
   "cell_type": "code",
   "execution_count": null,
   "metadata": {},
   "outputs": [],
   "source": [
    "symbols.groupby(\"product\").count()"
   ]
  },
  {
   "cell_type": "markdown",
   "metadata": {},
   "source": [
    "## Exchanges"
   ]
  },
  {
   "cell_type": "code",
   "execution_count": null,
   "metadata": {},
   "outputs": [],
   "source": [
    "if False:\n",
    "    files = glob.glob(os.path.join(dir_name, \"exchanges*.csv\"))\n",
    "    dbg.dassert(len(files), 1)\n",
    "    file_name = files[0]\n",
    "file_name = \"s3://external-p1/ib/metadata/exchanges-2021-04-01-143112738505.csv\"\n",
    "\n",
    "print(\"file_name=%s\" % file_name)\n",
    "exchanges = pd.read_csv(file_name, sep=\"\\t\")\n",
    "\n",
    "print(len(exchanges))\n",
    "\n",
    "exchanges.head(3)"
   ]
  },
  {
   "cell_type": "markdown",
   "metadata": {},
   "source": [
    "## Products"
   ]
  },
  {
   "cell_type": "code",
   "execution_count": null,
   "metadata": {},
   "outputs": [],
   "source": [
    "print(symbols[\"product\"].unique())"
   ]
  },
  {
   "cell_type": "markdown",
   "metadata": {},
   "source": [
    "## Markets"
   ]
  },
  {
   "cell_type": "code",
   "execution_count": null,
   "metadata": {},
   "outputs": [],
   "source": [
    "markets = sorted(symbols[\"market\"].unique())\n",
    "print(\"\\n\".join(markets))"
   ]
  },
  {
   "cell_type": "code",
   "execution_count": null,
   "metadata": {},
   "outputs": [],
   "source": [
    "grouped = symbols.groupby(\"market\")\n",
    "\n",
    "count = grouped[[\"product\"]].count()\n",
    "count = count.sort_values(by=\"product\", ascending=False)\n",
    "\n",
    "count.plot()\n",
    "\n",
    "print(count.head(10))"
   ]
  },
  {
   "cell_type": "code",
   "execution_count": null,
   "metadata": {},
   "outputs": [],
   "source": [
    "idx = 0\n",
    "market = count.index[idx]\n",
    "print(\"market=\", market)\n",
    "mask = symbols[\"market\"] == market\n",
    "symbols_tmp = symbols[mask]\n",
    "\n",
    "grouped = symbols_tmp.groupby(\"product\")\n",
    "\n",
    "grouped[[\"product\"]].count()"
   ]
  },
  {
   "cell_type": "code",
   "execution_count": null,
   "metadata": {},
   "outputs": [],
   "source": [
    "pd.set_option(\"display.max_colwidth\", 100)"
   ]
  },
  {
   "cell_type": "code",
   "execution_count": null,
   "metadata": {},
   "outputs": [],
   "source": [
    "symbols_tmp[[\"product\", \"url\"]]"
   ]
  },
  {
   "cell_type": "code",
   "execution_count": null,
   "metadata": {},
   "outputs": [],
   "source": [
    "symbols_tmp[\"url\"].values"
   ]
  },
  {
   "cell_type": "code",
   "execution_count": null,
   "metadata": {},
   "outputs": [],
   "source": []
  }
 ],
 "metadata": {
  "jupytext": {
   "text_representation": {
    "extension": ".py",
    "format_name": "percent",
    "format_version": "1.3",
    "jupytext_version": "1.11.0"
   }
  },
  "kernelspec": {
   "display_name": "Python [conda env:venv] *",
   "language": "python",
   "name": "conda-env-venv-py"
  },
  "language_info": {
   "codemirror_mode": {
    "name": "ipython",
    "version": 3
   },
   "file_extension": ".py",
   "mimetype": "text/x-python",
   "name": "python",
   "nbconvert_exporter": "python",
   "pygments_lexer": "ipython3"
  },
  "toc": {
   "base_numbering": 1,
   "nav_menu": {},
   "number_sections": true,
   "sideBar": true,
   "skip_h1_title": false,
   "title_cell": "Table of Contents",
   "title_sidebar": "Contents",
   "toc_cell": false,
   "toc_position": {},
   "toc_section_display": true,
   "toc_window_display": false
  }
 },
 "nbformat": 4,
 "nbformat_minor": 4
}
