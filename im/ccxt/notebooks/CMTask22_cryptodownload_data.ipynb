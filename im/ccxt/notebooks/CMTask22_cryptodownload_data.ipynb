{
 "cells": [
  {
   "cell_type": "code",
   "execution_count": null,
   "id": "6513b3b0",
   "metadata": {},
   "outputs": [],
   "source": [
    "%load_ext autoreload\n",
    "%autoreload 2\n",
    "\n",
    "import logging\n",
    "from typing import List\n",
    "\n",
    "import helpers.dbg as dbg\n",
    "import helpers.env as henv\n",
    "import helpers.printing as hprint\n",
    "import helpers.s3 as hs3\n",
    "import pandas as pd\n",
    "\n",
    "import bs4\n",
    "import urllib"
   ]
  },
  {
   "cell_type": "code",
   "execution_count": null,
   "id": "872d584f",
   "metadata": {},
   "outputs": [],
   "source": [
    "import ssl\n",
    "ssl._create_default_https_context = ssl._create_unverified_context"
   ]
  },
  {
   "cell_type": "code",
   "execution_count": null,
   "id": "a6b7ce6d",
   "metadata": {},
   "outputs": [],
   "source": [
    "WEBSITE_PREFIX = \"https://www.cryptodatadownload.com/data/\"\n",
    "BINANCE_SYMBOL = \"binance\"\n",
    "CURRENCY_SYMBOLS = [\"BTC/USDT\",\n",
    "\"ETH/USDT\",\n",
    "\"BTC/USD\",\n",
    "\"SOL/USDT\",\n",
    "\"FIL/USDT\",\n",
    "\"ETH/USD\",\n",
    "\"XRP/USDT\",\n",
    "\"FTM/USDT\",\n",
    "\"DOGE/USDT\",\n",
    "\"ADA/USDT\",\n",
    "\"LINK/USDT\",\n",
    "\"BTC/BUSD\",\n",
    "\"BNB/USDT\",\n",
    "\"AVAX/USDT\",\n",
    "\"EOS/USDT\"]"
   ]
  },
  {
   "cell_type": "markdown",
   "id": "7b6441a0",
   "metadata": {},
   "source": [
    "## Functions"
   ]
  },
  {
   "cell_type": "code",
   "execution_count": null,
   "id": "2d01d4ad",
   "metadata": {},
   "outputs": [],
   "source": [
    "def get_download_page(exchange_symbol: str) -> str:\n",
    "    download_url = WEBSITE_PREFIX + exchange_symbol\n",
    "    u1 = urllib.request.urlopen(download_url)\n",
    "    page_content = []\n",
    "    for line in u1:\n",
    "        page_content.append(line.decode(\"utf-8\"))\n",
    "    page_content = \"\".join(page_content)\n",
    "    return page_content\n",
    "\n",
    "def get_download_links(download_page_content: str,\n",
    "                      period: str) -> List[str]:\n",
    "    soup = bs4.BeautifulSoup(download_page_content)\n",
    "    download_tags = soup.find_all(lambda tag: tag.name == \"a\" and \"minute\" in tag.text.lower())\n",
    "    download_links = [urllib.parse.urljoin(WEBSITE_PREFIX, tag[\"href\"]) for tag in download_tags]\n",
    "    return download_links\n",
    "\n",
    "def download_table_to_s3(download_links):\n",
    "    # (TODO: Danya) make sure all column names are not alphanum."
   ]
  },
  {
   "cell_type": "markdown",
   "id": "7ced3b29",
   "metadata": {},
   "source": [
    "## Create directory in AWS"
   ]
  },
  {
   "cell_type": "markdown",
   "id": "7f24d588",
   "metadata": {},
   "source": [
    "## Checking insides"
   ]
  },
  {
   "cell_type": "code",
   "execution_count": null,
   "id": "36972437",
   "metadata": {},
   "outputs": [],
   "source": [
    "binance = pd.read_csv(\"https://www.cryptodatadownload.com/cdd/Binance_BTCUSDT_minute.csv\")"
   ]
  },
  {
   "cell_type": "code",
   "execution_count": null,
   "id": "178148d9",
   "metadata": {},
   "outputs": [],
   "source": [
    "binance.head()"
   ]
  },
  {
   "cell_type": "code",
   "execution_count": null,
   "id": "5ee4a7c8",
   "metadata": {},
   "outputs": [],
   "source": [
    "binance = pd.read_csv(\"https://www.cryptodatadownload.com/cdd/Binance_BTCUSDT_minute.csv\", skiprows=1)"
   ]
  },
  {
   "cell_type": "code",
   "execution_count": null,
   "id": "f4f47622",
   "metadata": {},
   "outputs": [],
   "source": [
    "binance.head()"
   ]
  },
  {
   "cell_type": "code",
   "execution_count": null,
   "id": "78eb1c03",
   "metadata": {},
   "outputs": [],
   "source": [
    "binance.tail()"
   ]
  },
  {
   "cell_type": "markdown",
   "id": "b3e852e7",
   "metadata": {},
   "source": [
    "## Parse Binance .csv links from download page"
   ]
  },
  {
   "cell_type": "code",
   "execution_count": null,
   "id": "caa63ad9",
   "metadata": {},
   "outputs": [],
   "source": [
    "page_content = get_download_page(\"binance\")"
   ]
  },
  {
   "cell_type": "markdown",
   "id": "47170ddc",
   "metadata": {},
   "source": [
    "### Get all links to minute data"
   ]
  },
  {
   "cell_type": "code",
   "execution_count": null,
   "id": "cf18aed9",
   "metadata": {},
   "outputs": [],
   "source": [
    "minute_dl_links = get_download_links(page_content,\n",
    "                                    \"minute\")"
   ]
  },
  {
   "cell_type": "code",
   "execution_count": null,
   "id": "54bb5e1e",
   "metadata": {},
   "outputs": [],
   "source": [
    "minute_dl_links"
   ]
  },
  {
   "cell_type": "markdown",
   "id": "0f39061c",
   "metadata": {},
   "source": [
    "## Save data to s3"
   ]
  },
  {
   "cell_type": "code",
   "execution_count": null,
   "id": "3261e858",
   "metadata": {},
   "outputs": [],
   "source": [
    "df = pd.read_csv('https://www.cryptodatadownload.com/cdd/OCEANUSDT_Binance_futures_data_minute.csv', skiprows=1)"
   ]
  },
  {
   "cell_type": "code",
   "execution_count": null,
   "id": "55b80268",
   "metadata": {},
   "outputs": [],
   "source": [
    "df"
   ]
  },
  {
   "cell_type": "code",
   "execution_count": null,
   "id": "04720145",
   "metadata": {},
   "outputs": [],
   "source": [
    "aws_profile = s3\n",
    "s3_credentials = hs3.get_aws_credentials(hs3.get_aws_profile())"
   ]
  },
  {
   "cell_type": "code",
   "execution_count": null,
   "id": "03ee3a56",
   "metadata": {},
   "outputs": [],
   "source": []
  }
 ],
 "metadata": {
  "jupytext": {
   "formats": "ipynb,auto:percent"
  },
  "kernelspec": {
   "display_name": "Python 3 (ipykernel)",
   "language": "python",
   "name": "python3"
  },
  "language_info": {
   "codemirror_mode": {
    "name": "ipython",
    "version": 3
   },
   "file_extension": ".py",
   "mimetype": "text/x-python",
   "name": "python",
   "nbconvert_exporter": "python",
   "pygments_lexer": "ipython3"
  }
 },
 "nbformat": 4,
 "nbformat_minor": 5
}
