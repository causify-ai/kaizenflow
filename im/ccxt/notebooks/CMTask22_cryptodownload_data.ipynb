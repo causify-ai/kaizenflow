{
 "cells": [
  {
   "cell_type": "code",
   "execution_count": null,
   "id": "c014c224",
   "metadata": {},
   "outputs": [],
   "source": [
    "%load_ext autoreload\n",
    "%autoreload 2\n",
    "\n",
    "import logging\n",
    "from typing import List\n",
    "\n",
    "import helpers.dbg as dbg\n",
    "import helpers.env as henv\n",
    "import helpers.printing as hprint\n",
    "import helpers.s3 as hs3\n",
    "import pandas as pd\n",
    "\n",
    "import bs4\n",
    "import urllib"
   ]
  },
  {
   "cell_type": "code",
   "execution_count": null,
   "id": "f2d95e3a",
   "metadata": {},
   "outputs": [],
   "source": [
    "import ssl\n",
    "ssl._create_default_https_context = ssl._create_unverified_context"
   ]
  },
  {
   "cell_type": "code",
   "execution_count": null,
   "id": "172042f1",
   "metadata": {},
   "outputs": [],
   "source": [
    "WEBSITE_PREFIX = \"https://www.cryptodatadownload.com/data/\"\n",
    "BINANCE_SYMBOL = \"binance\"\n",
    "CURRENCY_SYMBOLS = [\"BTC/USDT\",\n",
    "\"ETH/USDT\",\n",
    "\"BTC/USD\",\n",
    "\"SOL/USDT\",\n",
    "\"FIL/USDT\",\n",
    "\"ETH/USD\",\n",
    "\"XRP/USDT\",\n",
    "\"FTM/USDT\",\n",
    "\"DOGE/USDT\",\n",
    "\"ADA/USDT\",\n",
    "\"LINK/USDT\",\n",
    "\"BTC/BUSD\",\n",
    "\"BNB/USDT\",\n",
    "\"AVAX/USDT\",\n",
    "\"EOS/USDT\"]"
   ]
  },
  {
   "cell_type": "code",
   "execution_count": null,
   "id": "965f4364",
   "metadata": {},
   "outputs": [],
   "source": [
    "def get_download_page(exchange_symbol: str) -> str:\n",
    "    download_url = WEBSITE_PREFIX + exchange_symbol\n",
    "    u1 = urllib.request.urlopen(download_url)\n",
    "    page_content = []\n",
    "    for line in u1:\n",
    "        page_content.append(line.decode(\"utf-8\"))\n",
    "    page_content = \"\".join(page_content)\n",
    "    return page_content\n",
    "\n",
    "def get_download_links(download_page_content: str,\n",
    "                      period: str) -> List[str]:\n",
    "    soup = bs4.BeautifulSoup(download_page_content)\n",
    "    download_tags = soup.find_all(lambda tag: tag.name == \"a\" and \"minute\" in tag.text.lower())\n",
    "    download_links = [urllib.parse.urljoin(WEBSITE_PREFIX, tag[\"href\"]) for tag in download_tags]\n",
    "    return download_links\n",
    "\n",
    "def download_table_to_s3(download_links):\n",
    "    # (TODO: Danya) make sure all column names are not alphanum."
   ]
  },
  {
   "cell_type": "markdown",
   "id": "52b37387",
   "metadata": {},
   "source": [
    "## Create directory in AWS"
   ]
  },
  {
   "cell_type": "markdown",
   "id": "33898c0b",
   "metadata": {},
   "source": [
    "## Checking insides"
   ]
  },
  {
   "cell_type": "code",
   "execution_count": null,
   "id": "e1f916fa",
   "metadata": {},
   "outputs": [],
   "source": [
    "binance = pd.read_csv(\"https://www.cryptodatadownload.com/cdd/Binance_BTCUSDT_minute.csv\")"
   ]
  },
  {
   "cell_type": "code",
   "execution_count": null,
   "id": "5b12205c",
   "metadata": {},
   "outputs": [],
   "source": [
    "binance.head()"
   ]
  },
  {
   "cell_type": "code",
   "execution_count": null,
   "id": "6155b756",
   "metadata": {},
   "outputs": [],
   "source": [
    "binance = pd.read_csv(\"https://www.cryptodatadownload.com/cdd/Binance_BTCUSDT_minute.csv\", skiprows=1)"
   ]
  },
  {
   "cell_type": "code",
   "execution_count": null,
   "id": "413f2c7c",
   "metadata": {},
   "outputs": [],
   "source": [
    "binance.head()"
   ]
  },
  {
   "cell_type": "code",
   "execution_count": null,
   "id": "31a1ef39",
   "metadata": {},
   "outputs": [],
   "source": [
    "binance.tail()"
   ]
  },
  {
   "cell_type": "markdown",
   "id": "2bb4c82d",
   "metadata": {},
   "source": [
    "## Parse Binance .csv links from download page"
   ]
  },
  {
   "cell_type": "code",
   "execution_count": null,
   "id": "32e90ce0",
   "metadata": {},
   "outputs": [],
   "source": [
    "page_content = get_download_page(\"binance\")"
   ]
  },
  {
   "cell_type": "markdown",
   "id": "16a4910f",
   "metadata": {},
   "source": [
    "### Get all links to minute data"
   ]
  },
  {
   "cell_type": "code",
   "execution_count": null,
   "id": "4dc036bc",
   "metadata": {},
   "outputs": [],
   "source": [
    "minute_dl_links = get_download_links(page_content,\n",
    "                                    \"minute\")"
   ]
  },
  {
   "cell_type": "code",
   "execution_count": null,
   "id": "7ff53fd8",
   "metadata": {},
   "outputs": [],
   "source": [
    "minute_dl_links"
   ]
  },
  {
   "cell_type": "markdown",
   "id": "5277006a",
   "metadata": {},
   "source": [
    "## Save data to s3"
   ]
  },
  {
   "cell_type": "code",
   "execution_count": null,
   "id": "9ba055b3",
   "metadata": {},
   "outputs": [],
   "source": [
    "df = pd.read_csv('https://www.cryptodatadownload.com/cdd/OCEANUSDT_Binance_futures_data_minute.csv', skiprows=1)"
   ]
  },
  {
   "cell_type": "code",
   "execution_count": null,
   "id": "af2440c2",
   "metadata": {},
   "outputs": [],
   "source": [
    "df"
   ]
  },
  {
   "cell_type": "code",
   "execution_count": null,
   "id": "fba814fb",
   "metadata": {},
   "outputs": [],
   "source": []
  }
 ],
 "metadata": {
  "jupytext": {
   "formats": "ipynb,auto:percent"
  },
  "kernelspec": {
   "display_name": "Python 3 (ipykernel)",
   "language": "python",
   "name": "python3"
  },
  "language_info": {
   "codemirror_mode": {
    "name": "ipython",
    "version": 3
   },
   "file_extension": ".py",
   "mimetype": "text/x-python",
   "name": "python",
   "nbconvert_exporter": "python",
   "pygments_lexer": "ipython3"
  }
 },
 "nbformat": 4,
 "nbformat_minor": 5
}
