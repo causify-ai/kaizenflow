{
 "cells": [
  {
   "cell_type": "markdown",
   "metadata": {},
   "source": [
    "# Imports\n",
    "\n",
    "Importing all required modules."
   ]
  },
  {
   "cell_type": "code",
   "execution_count": null,
   "metadata": {
    "pycharm": {
     "name": "#%%\n"
    }
   },
   "outputs": [],
   "source": [
    "%load_ext autoreload\n",
    "%autoreload 2\n",
    "\n",
    "import datetime as dateti\n",
    "import os\n",
    "from typing import Dict\n",
    "\n",
    "import pandas as pd\n",
    "\n",
    "import helpers.hs3 as hs3\n",
    "import im.common.data.types as imcodatyp\n",
    "import im.kibot.data.load as vkdloa\n",
    "import im.kibot.data.load.kibot_file_path_generator as imkdlkfpge"
   ]
  },
  {
   "cell_type": "markdown",
   "metadata": {
    "lines_to_next_cell": 2,
    "pycharm": {
     "name": "#%% md\n"
    }
   },
   "source": [
    "Define helper functions to calculate the report."
   ]
  },
  {
   "cell_type": "code",
   "execution_count": null,
   "metadata": {
    "pycharm": {
     "name": "#%%\n"
    }
   },
   "outputs": [],
   "source": [
    "def slice_price_data(\n",
    "    price_df_dict: Dict[str, pd.DataFrame], last_years: int\n",
    ") -> Dict[str, pd.DataFrame]:\n",
    "    \"\"\"\n",
    "    Slice DataFrames for each symbol to contain records only for the last_years\n",
    "    years.\n",
    "\n",
    "    :param price_df_dict: {symbol: prices_for_symbol_df}\n",
    "    :param last_years: Number of years data is averaged to.\n",
    "    :return: {symbol: prices_for_symbol_df} sliced.\n",
    "    \"\"\"\n",
    "    now = dateti.datetime.now()\n",
    "    # TODO(vr): check if dateutils.relativedate is better?\n",
    "    before = now - dateti.timedelta(days=last_years * 365)\n",
    "    sliced_price_df_dict = {\n",
    "        symbol: prices.loc[before:now] for symbol, prices in price_df_dict.items()\n",
    "    }\n",
    "    return sliced_price_df_dict\n",
    "\n",
    "\n",
    "def get_start_date(price_df_dict: Dict[str, pd.DataFrame]) -> pd.DataFrame:\n",
    "    \"\"\"\n",
    "    Extract start dates for each time series.\n",
    "\n",
    "    :param price_df_dict: {symbol: prices_for_symbol_df}\n",
    "    :return: pd.DataFrame indexed by symbol\n",
    "    \"\"\"\n",
    "    start_date_dict = {\n",
    "        symbol: prices.index[0].strftime(\"%Y-%m-%d\")\n",
    "        for symbol, prices in price_df_dict.items()\n",
    "    }\n",
    "    start_date_df = pd.DataFrame.from_dict(\n",
    "        start_date_dict, orient=\"index\", columns=[\"start_date\"]\n",
    "    )\n",
    "    return start_date_df\n",
    "\n",
    "\n",
    "def get_price_data(\n",
    "    price_df_dict: Dict[str, pd.DataFrame],\n",
    "    price_col: str,\n",
    "    agg_func: str,\n",
    "    last_years: int,\n",
    ") -> pd.DataFrame:\n",
    "    \"\"\"\n",
    "    Get grouped prices for each symbol.\n",
    "\n",
    "    :param price_df_dict: {symbol: prices_for_symbol_df}\n",
    "    :param price_col: The name of the price column\n",
    "    :param agg_func: The name of the aggregation function that needs to\n",
    "        be applied to the prices for each symbol\n",
    "    :param last_years: Number of years data is averaged to.\n",
    "    :return: pd.DataFrame indexed by symbol\n",
    "    \"\"\"\n",
    "    price_dict = {\n",
    "        symbol: getattr(prices[price_col], agg_func)()\n",
    "        for symbol, prices in price_df_dict.items()\n",
    "    }\n",
    "    price_df = pd.DataFrame.from_dict(\n",
    "        price_dict,\n",
    "        orient=\"index\",\n",
    "        columns=[f\"{agg_func}_{last_years}y_{price_col}\"],\n",
    "    )\n",
    "    price_df.index.name = \"symbol\"\n",
    "    return price_df"
   ]
  },
  {
   "cell_type": "markdown",
   "metadata": {
    "pycharm": {
     "name": "#%% md\n"
    }
   },
   "source": [
    "Define main method to generate the report for a dataset."
   ]
  },
  {
   "cell_type": "code",
   "execution_count": null,
   "metadata": {
    "pycharm": {
     "name": "#%%\n"
    }
   },
   "outputs": [],
   "source": [
    "def generate_report(\n",
    "    contract_type: imcodatyp.ContractType, frequency: imcodatyp.Frequency\n",
    ") -> pd.DataFrame:\n",
    "    \"\"\"\n",
    "    Generate a report for a dataset.\n",
    "\n",
    "    :param frequency: `D` or `T` for daily or minutely data respectively\n",
    "    :param contract_type: `continuous` or `expiry`\n",
    "    :return: a dataframe with the report\n",
    "    \"\"\"\n",
    "    dataset_aws_path = imkdlkfpge.KibotFilePathGenerator().generate_file_path(\n",
    "        frequency, contract_type, \"ROOT\", ext=imcodatyp.Extension.CSV\n",
    "    )\n",
    "    dataset_aws_directory = os.path.dirname(dataset_aws_path)\n",
    "    # Get a list of payloads (symbols) in format XYZ.csv.gz.\n",
    "    s3fs = hs3.get_s3fs(\"am\")\n",
    "    payloads = s3fs.ls(dataset_aws_directory)\n",
    "    # Get only first n-rows.\n",
    "    n_rows = 100\n",
    "    # Get only symbols list.\n",
    "    symbols = tuple(\n",
    "        payload.replace(\".csv.gz\", \"\") for payload in payloads[:n_rows]\n",
    "    )\n",
    "    # Read dataframes.\n",
    "    kibot_data_loader = vkdloa.KibotDataLoader()\n",
    "    price_df_dict = kibot_data_loader.read_data(frequency, contract_type, symbols)\n",
    "    # Get avg. vol for the last 1 year\n",
    "    price_1y_df_dict = slice_price_data(price_df_dict, last_years=1)\n",
    "    mean_1y_vol = get_price_data(price_1y_df_dict, \"vol\", \"mean\", last_years=1)\n",
    "    # Get avg. vol for the last 3 years\n",
    "    price_3y_df_dict = slice_price_data(price_df_dict, last_years=3)\n",
    "    mean_3y_vol = get_price_data(price_3y_df_dict, \"vol\", \"mean\", last_years=3)\n",
    "    # Get avg. vol for the last 5 years\n",
    "    price_5y_df_dict = slice_price_data(price_df_dict, last_years=5)\n",
    "    mean_5y_vol = get_price_data(price_5y_df_dict, \"vol\", \"mean\", last_years=5)\n",
    "    # Get start date for each symbol.\n",
    "    start_date_df = get_start_date(price_df_dict)\n",
    "    # Get report for dataset.\n",
    "    report = pd.concat(\n",
    "        [start_date_df, mean_1y_vol, mean_3y_vol, mean_5y_vol],\n",
    "        axis=1,\n",
    "        join=\"inner\",\n",
    "    )\n",
    "    report.index.name = \"symbol\"\n",
    "    report.fillna(0, inplace=True)\n",
    "    return report"
   ]
  },
  {
   "cell_type": "markdown",
   "metadata": {
    "pycharm": {
     "name": "#%% md\n"
    }
   },
   "source": [
    "Report for all_futures_contracts_1min"
   ]
  },
  {
   "cell_type": "code",
   "execution_count": null,
   "metadata": {
    "pycharm": {
     "name": "#%%\n"
    }
   },
   "outputs": [],
   "source": [
    "dataset_report = generate_report(\n",
    "    imcodatyp.ContractType.Expiry, imcodatyp.Frequency.Minutely\n",
    ")\n",
    "dataset_report"
   ]
  },
  {
   "cell_type": "markdown",
   "metadata": {},
   "source": [
    "Report for all_futures_contracts_daily"
   ]
  },
  {
   "cell_type": "code",
   "execution_count": null,
   "metadata": {
    "pycharm": {
     "name": "#%%\n"
    }
   },
   "outputs": [],
   "source": [
    "dataset_report = generate_report(\n",
    "    imcodatyp.ContractType.Expiry, imcodatyp.Frequency.Daily\n",
    ")\n",
    "dataset_report"
   ]
  },
  {
   "cell_type": "markdown",
   "metadata": {},
   "source": [
    "Report for futures_continuous_contracts_1min"
   ]
  },
  {
   "cell_type": "code",
   "execution_count": null,
   "metadata": {
    "pycharm": {
     "is_executing": true,
     "name": "#%%\n"
    }
   },
   "outputs": [],
   "source": [
    "dataset_report = generate_report(\n",
    "    imcodatyp.ContractType.Continuous, imcodatyp.Frequency.Minutely\n",
    ")\n",
    "dataset_report"
   ]
  },
  {
   "cell_type": "markdown",
   "metadata": {},
   "source": [
    "Report for futures_continuous_contracts_daily"
   ]
  },
  {
   "cell_type": "code",
   "execution_count": null,
   "metadata": {
    "pycharm": {
     "is_executing": true,
     "name": "#%%\n"
    }
   },
   "outputs": [],
   "source": [
    "dataset_report = generate_report(\n",
    "    imcodatyp.ContractType.Continuous, imcodatyp.Frequency.Daily\n",
    ")\n",
    "dataset_report"
   ]
  }
 ],
 "metadata": {
  "kernelspec": {
   "display_name": "Python 3",
   "language": "python",
   "name": "python3"
  },
  "language_info": {
   "codemirror_mode": {
    "name": "ipython",
    "version": 3
   },
   "file_extension": ".py",
   "mimetype": "text/x-python",
   "name": "python",
   "nbconvert_exporter": "python",
   "pygments_lexer": "ipython3"
  },
  "toc": {
   "base_numbering": 1,
   "nav_menu": {},
   "number_sections": true,
   "sideBar": true,
   "skip_h1_title": false,
   "title_cell": "Table of Contents",
   "title_sidebar": "Contents",
   "toc_cell": false,
   "toc_position": {},
   "toc_section_display": true,
   "toc_window_display": false
  }
 },
 "nbformat": 4,
 "nbformat_minor": 1
}
