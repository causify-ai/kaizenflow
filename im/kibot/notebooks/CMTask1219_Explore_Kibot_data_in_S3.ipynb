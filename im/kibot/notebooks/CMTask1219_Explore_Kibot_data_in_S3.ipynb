{
 "cells": [
  {
   "cell_type": "markdown",
   "id": "d29d42d5",
   "metadata": {},
   "source": [
    "## Imports"
   ]
  },
  {
   "cell_type": "code",
   "execution_count": null,
   "id": "649cc747",
   "metadata": {},
   "outputs": [],
   "source": [
    "import numpy as np\n",
    "import pandas as pd\n",
    "\n",
    "import im.common.data.types as imcodatyp\n",
    "import im.kibot.data.load.kibot_s3_data_loader as imkdlksdlo\n",
    "import im.kibot.metadata.load.s3_backend as imkmls3ba\n",
    "\n",
    "import helpers.hdbg as hdbg\n",
    "import helpers.henv as henv\n",
    "import helpers.hprint as hprint\n",
    "import logging"
   ]
  },
  {
   "cell_type": "code",
   "execution_count": null,
   "id": "ebba40eb",
   "metadata": {},
   "outputs": [],
   "source": [
    "hdbg.init_logger(verbosity=logging.INFO)\n",
    "\n",
    "_LOG = logging.getLogger(__name__)\n",
    "\n",
    "_LOG.info(\"%s\", henv.get_system_signature()[0])\n",
    "\n",
    "hprint.config_notebook()"
   ]
  },
  {
   "cell_type": "code",
   "execution_count": null,
   "id": "83c0e66d",
   "metadata": {},
   "outputs": [],
   "source": [
    "# Disabling INFO messages from data downloads.\n",
    "logger = logging.getLogger()\n",
    "logger.setLevel(logging.CRITICAL)"
   ]
  },
  {
   "cell_type": "markdown",
   "id": "c2a1fa6a",
   "metadata": {},
   "source": [
    "# Functions"
   ]
  },
  {
   "cell_type": "code",
   "execution_count": null,
   "id": "0916aef8",
   "metadata": {},
   "outputs": [],
   "source": [
    "def calculate_datetime_statistics_for_kibot_data(list_of_symbols, contract_type, futures_frequency):\n",
    "    # Create dictionaries that will store the datetime statistics.\n",
    "    start_date = {}\n",
    "    end_date = {}\n",
    "    data_count = {}\n",
    "    for ticker in list_of_symbols:\n",
    "        # The code below loads the data.\n",
    "        if contract_type == \"Futures\":\n",
    "            asset_df = kibot_loader.read_data(\n",
    "                exchange=\"Any Exchange\",\n",
    "                symbol=ticker,\n",
    "                asset_class=imcodatyp.AssetClass.Futures,\n",
    "                contract_type=imcodatyp.ContractType.Continuous,\n",
    "                frequency=futures_frequency,\n",
    "            )\n",
    "        elif contract_type == \"Stocks\":\n",
    "            asset_df = kibot_loader.read_data(\n",
    "                exchange=\"Any Exchange\",\n",
    "                symbol=ticker,\n",
    "                asset_class=imcodatyp.AssetClass.Stocks,\n",
    "                frequency=imcodatyp.Frequency.Minutely,\n",
    "                unadjusted=False,\n",
    "            )\n",
    "        # Here is a condition that cuts out empty dataframes.\n",
    "        if asset_df.shape[0] == 2:\n",
    "            start_ind = {ticker: np.nan}\n",
    "            start_date = start_date | start_ind.items()\n",
    "            end_ind = {ticker: np.nan}\n",
    "            end_date = end_date | end_ind.items()\n",
    "            data_count_ind = {ticker: np.nan}\n",
    "            data_count = data_count | data_count_ind.items()\n",
    "        elif asset_df.shape[0] == 1:\n",
    "            start_ind = {ticker: np.nan}\n",
    "            start_date = start_date | start_ind.items()\n",
    "            end_ind = {ticker: np.nan}\n",
    "            end_date = end_date | end_ind.items()\n",
    "            data_count_ind = {ticker: np.nan}\n",
    "            data_count = data_count | data_count_ind.items()\n",
    "        # The non-empty DataFrames are proccessed to extract datetime statistics.\n",
    "        else:\n",
    "            # Reseting index to unleash 'timestamp' column.\n",
    "            asset_df.reset_index(inplace=True)\n",
    "            # Collecting datetime statistics.\n",
    "            max_date = asset_df[\"datetime\"].max()\n",
    "            min_date = asset_df[\"datetime\"].min()\n",
    "            data_points = asset_df[\"datetime\"].count()\n",
    "            # Writing these values into the dictionaries.\n",
    "            start_ind = {ticker: min_date}\n",
    "            start_date = start_date | start_ind.items()\n",
    "            end_ind = {ticker: max_date}\n",
    "            end_date = end_date | end_ind.items()\n",
    "            data_count_ind = {ticker: data_points}\n",
    "            data_count = data_count | data_count_ind.items()\n",
    "        # Once all the dictionaries are filled with data - turn them to DataFrames.\n",
    "        final_start_date = pd.DataFrame(start_date,columns=[\"\",\"start_date\"]).set_index(\"\")\n",
    "        final_end_date = pd.DataFrame(end_date,columns=[\"\",\"end_date\"]).set_index(\"\")\n",
    "        final_data_count = pd.DataFrame(data_count,columns=[\"\",\"data_points_count\"]).set_index(\"\")\n",
    "        # Combune all three statistics into one single DataFrame.\n",
    "        result = pd.concat([final_start_date,final_end_date,final_data_count],axis=1)\n",
    "    return result.sort_index(ascending=True)\n",
    "\n",
    "def calculate_general_datetime_stats(df):\n",
    "    median_start_date = df[\"start_date\"].median()\n",
    "    median_end_date = df[\"end_date\"].median()\n",
    "    min_start_date = df[\"start_date\"].min()\n",
    "    max_end_date = df[\"end_date\"].max()\n",
    "    median_data_points = df[\"data_points_count\"].median()\n",
    "    result = pd.DataFrame([median_start_date,median_end_date,min_start_date,max_end_date,median_data_points],\n",
    "                 index = [\"median_start_date\",\"median_end_date\",\"min_start_date\",\"max_end_date\",\"median_data_points\"],\n",
    "                 columns = [\"value\"])\n",
    "    return result"
   ]
  },
  {
   "cell_type": "markdown",
   "id": "a35e4f3c",
   "metadata": {},
   "source": [
    "# Explore the universe"
   ]
  },
  {
   "cell_type": "code",
   "execution_count": null,
   "id": "a39099f6",
   "metadata": {},
   "outputs": [],
   "source": [
    "s3_backend = imkmls3ba.S3Backend()"
   ]
  },
  {
   "cell_type": "markdown",
   "id": "47cfdd27",
   "metadata": {},
   "source": [
    "## Futures"
   ]
  },
  {
   "cell_type": "code",
   "execution_count": null,
   "id": "16f79297",
   "metadata": {},
   "outputs": [],
   "source": [
    "one_min_contract_metadata = s3_backend.read_1min_contract_metadata()\n",
    "print(\"Number of contracts:\", one_min_contract_metadata.shape[0])\n",
    "display(one_min_contract_metadata.head(3))"
   ]
  },
  {
   "cell_type": "code",
   "execution_count": null,
   "id": "ca63ea29",
   "metadata": {},
   "outputs": [],
   "source": [
    "daily_contract_metadata = s3_backend.read_daily_contract_metadata()\n",
    "print(\"Number of contracts:\", daily_contract_metadata.shape[0])\n",
    "display(daily_contract_metadata.head(3))"
   ]
  },
  {
   "cell_type": "code",
   "execution_count": null,
   "id": "51ef19d0",
   "metadata": {},
   "outputs": [],
   "source": [
    "tickbidask_contract_metadata = s3_backend.read_tickbidask_contract_metadata()\n",
    "print(\"Number of contracts:\", tickbidask_contract_metadata.shape[0])\n",
    "display(tickbidask_contract_metadata.head(3))"
   ]
  },
  {
   "cell_type": "code",
   "execution_count": null,
   "id": "0a4aa380",
   "metadata": {},
   "outputs": [],
   "source": [
    "continuous_contract_metadata = s3_backend.read_continuous_contract_metadata()\n",
    "print(\"Number of contracts:\", continuous_contract_metadata.shape[0])\n",
    "display(continuous_contract_metadata.head(3))"
   ]
  },
  {
   "cell_type": "code",
   "execution_count": null,
   "id": "a5a8697d",
   "metadata": {},
   "outputs": [],
   "source": [
    "kibot_exchange_mapping = s3_backend.read_kibot_exchange_mapping()\n",
    "print(\"Number of contracts:\", kibot_exchange_mapping.shape[0])\n",
    "display(kibot_exchange_mapping.head(3))"
   ]
  },
  {
   "cell_type": "markdown",
   "id": "cce391e3",
   "metadata": {},
   "source": [
    "## Stocks"
   ]
  },
  {
   "cell_type": "code",
   "execution_count": null,
   "id": "ce783df7",
   "metadata": {},
   "outputs": [],
   "source": [
    "stocks_symbols = s3_backend.get_symbols_for_dataset(\"all_stocks_1min\")\n",
    "stocks_symbols[:5]"
   ]
  },
  {
   "cell_type": "code",
   "execution_count": null,
   "id": "047b4710",
   "metadata": {},
   "outputs": [],
   "source": [
    "len(stocks_symbols)"
   ]
  },
  {
   "cell_type": "markdown",
   "id": "47f54c7c",
   "metadata": {},
   "source": [
    "# Example for data loading"
   ]
  },
  {
   "cell_type": "code",
   "execution_count": null,
   "id": "d77fd634",
   "metadata": {},
   "outputs": [],
   "source": [
    "kibot_loader = imkdlksdlo.KibotS3DataLoader()"
   ]
  },
  {
   "cell_type": "markdown",
   "id": "37988e50",
   "metadata": {},
   "source": [
    "## Futures"
   ]
  },
  {
   "cell_type": "code",
   "execution_count": null,
   "id": "41111f0a",
   "metadata": {},
   "outputs": [],
   "source": [
    "# Example for CME Ethanol Daily Continuous Futures.\n",
    "# Data is presented in OHLCV type.\n",
    "kibot_loader.read_data(\n",
    "    exchange=\"Unknown\",\n",
    "    symbol=\"AC\",\n",
    "    asset_class=imcodatyp.AssetClass.Futures,\n",
    "    frequency=imcodatyp.Frequency.Daily,\n",
    "    contract_type=imcodatyp.ContractType.Continuous,\n",
    ")"
   ]
  },
  {
   "cell_type": "code",
   "execution_count": null,
   "id": "ca7d9f4c",
   "metadata": {},
   "outputs": [],
   "source": [
    "# Example for Minutely Expiry Futures (JAPANESE YEN JANUARY 2018).\n",
    "kibot_loader.read_data(\n",
    "    exchange=\"Unknown\",\n",
    "    symbol=\"JYF18\",\n",
    "    asset_class=imcodatyp.AssetClass.Futures,\n",
    "    frequency=imcodatyp.Frequency.Minutely,\n",
    "    contract_type=imcodatyp.ContractType.Expiry,\n",
    ")"
   ]
  },
  {
   "cell_type": "markdown",
   "id": "a345ae46",
   "metadata": {},
   "source": [
    "## Stocks"
   ]
  },
  {
   "cell_type": "code",
   "execution_count": null,
   "id": "b3b3dcae",
   "metadata": {},
   "outputs": [],
   "source": [
    "# Example for Apple stock.\n",
    "kibot_loader.read_data(\n",
    "    exchange=\"Q\",\n",
    "    symbol=\"AAPL\",\n",
    "    asset_class=imcodatyp.AssetClass.Stocks,\n",
    "    frequency=imcodatyp.Frequency.Minutely,\n",
    "    unadjusted=False,\n",
    ")"
   ]
  },
  {
   "cell_type": "code",
   "execution_count": null,
   "id": "2b7b33dc",
   "metadata": {},
   "outputs": [],
   "source": [
    "# Interesting note: the necessary param 'exchange' can be any value.\n",
    "kibot_loader.read_data(\n",
    "    exchange=\"Any Exchange\",\n",
    "    symbol=\"AAPL\",\n",
    "    asset_class=imcodatyp.AssetClass.Stocks,\n",
    "    frequency=imcodatyp.Frequency.Minutely,\n",
    "    unadjusted=False,\n",
    ")"
   ]
  },
  {
   "cell_type": "markdown",
   "id": "2adf3c9d",
   "metadata": {},
   "source": [
    "# Period of time availability"
   ]
  },
  {
   "cell_type": "markdown",
   "id": "b8bade11",
   "metadata": {},
   "source": [
    "## Stocks"
   ]
  },
  {
   "cell_type": "code",
   "execution_count": null,
   "id": "b9f8c99e",
   "metadata": {},
   "outputs": [],
   "source": [
    "stocks_symbols[:7]"
   ]
  },
  {
   "cell_type": "code",
   "execution_count": null,
   "id": "c1b908d0",
   "metadata": {},
   "outputs": [],
   "source": [
    "stocks = calculate_datetime_statistics_for_kibot_data(stocks_symbols[:7], \"Stocks\", \"stock_datasets\")\n",
    "stocks"
   ]
  },
  {
   "cell_type": "code",
   "execution_count": null,
   "id": "eb3e4ebf",
   "metadata": {},
   "outputs": [],
   "source": [
    "stocks = calculate_datetime_statistics_for_kibot_data(stocks_symbols[:50], \"Stocks\", \"stock_datasets\")\n",
    "stocks"
   ]
  },
  {
   "cell_type": "code",
   "execution_count": null,
   "id": "799a851e",
   "metadata": {},
   "outputs": [],
   "source": [
    "%%time\n",
    "result = []\n",
    "\n",
    "for ticker in stocks_symbols:\n",
    "    stock_df = kibot_loader.read_data(\n",
    "        exchange=\"Any Exchange\",\n",
    "        symbol=ticker,\n",
    "        asset_class=imcodatyp.AssetClass.Stocks,\n",
    "        frequency=imcodatyp.Frequency.Minutely,\n",
    "        unadjusted=False,\n",
    "    )\n",
    "    if stock_df.shape[0] == 2:\n",
    "        datetime_stats = pd.DataFrame()\n",
    "        datetime_stats.index = [ticker]\n",
    "        datetime_stats[\"start_date\"] = np.nan\n",
    "        datetime_stats[\"end_date\"] = np.nan\n",
    "        datetime_stats[\"data_points_count\"] = np.nan\n",
    "        result.append(datetime_stats)\n",
    "    elif stock_df.shape[0] == 1:\n",
    "        datetime_stats = pd.DataFrame()\n",
    "        datetime_stats.index = [ticker]\n",
    "        datetime_stats[\"start_date\"] = np.nan\n",
    "        datetime_stats[\"end_date\"] = np.nan\n",
    "        datetime_stats[\"data_points_count\"] = np.nan\n",
    "        result.append(datetime_stats)\n",
    "    else:\n",
    "        # Reseting index to unleash 'timestamp' column.\n",
    "        stock_df.reset_index(inplace=True)\n",
    "        # Start-end date.\n",
    "        max_date = pd.Series(\n",
    "            stock_df[\"datetime\"].describe(datetime_is_numeric=True).loc[\"max\"]\n",
    "        )\n",
    "        min_date = pd.Series(\n",
    "            stock_df[\"datetime\"].describe(datetime_is_numeric=True).loc[\"min\"]\n",
    "        )\n",
    "        # Number of timestamps for each coin.\n",
    "        data_points = pd.Series(\n",
    "            stock_df[\"datetime\"].describe(datetime_is_numeric=True).loc[\"count\"]\n",
    "        )\n",
    "        # Attach calculations to the DataFrame.\n",
    "        datetime_stats = pd.DataFrame()\n",
    "        datetime_stats[\"start_date\"] = min_date\n",
    "        datetime_stats[\"end_date\"] = max_date\n",
    "        datetime_stats[\"data_points_count\"] = data_points\n",
    "        datetime_stats.index = [ticker]\n",
    "        result.append(datetime_stats)\n",
    "all_stocks_stats = pd.concat(result)"
   ]
  },
  {
   "cell_type": "code",
   "execution_count": null,
   "id": "045f3343",
   "metadata": {},
   "outputs": [],
   "source": [
    "#final_stats = all_stocks_stats.copy()"
   ]
  },
  {
   "cell_type": "code",
   "execution_count": null,
   "id": "d8b42bbc",
   "metadata": {},
   "outputs": [],
   "source": [
    "display(final_stats.shape)\n",
    "display(final_stats)"
   ]
  },
  {
   "cell_type": "code",
   "execution_count": null,
   "id": "998c483f",
   "metadata": {},
   "outputs": [],
   "source": [
    "general_stats_all_stocks = pd.DataFrame()\n",
    "general_stats_all_stocks.loc[\"median_start_date\",\"value\"] = final_stats[\"start_date\"].median()\n",
    "general_stats_all_stocks.loc[\"median_end_date\",\"value\"] = final_stats[\"end_date\"].median()\n",
    "general_stats_all_stocks.loc[\"min_start_date\",\"value\"] = final_stats[\"start_date\"].min()\n",
    "general_stats_all_stocks.loc[\"max_end_date\",\"value\"] = final_stats[\"end_date\"].max()\n",
    "general_stats_all_stocks.loc[\"median_data_points\",\"value\"] = final_stats[\"data_points_count\"].median()\n",
    "general_stats_all_stocks"
   ]
  },
  {
   "cell_type": "code",
   "execution_count": null,
   "id": "f5199250",
   "metadata": {},
   "outputs": [],
   "source": [
    "# DataFrame with empty stock data files.\n",
    "empty_dataframes = final_stats[final_stats[\"data_points_count\"].isna()]\n",
    "# Number of empty stock data files.\n",
    "len(empty_dataframes)"
   ]
  },
  {
   "cell_type": "code",
   "execution_count": null,
   "id": "a52a6976",
   "metadata": {},
   "outputs": [],
   "source": [
    "print(round(100*len(empty_dataframes)/len(final_stats),2),\"% of files in stock universe are empty.\")"
   ]
  },
  {
   "cell_type": "code",
   "execution_count": null,
   "id": "edc677f8",
   "metadata": {},
   "outputs": [],
   "source": [
    "# Tickers with empty dataframes.\n",
    "for ticker in list(empty_dataframes.index): print(ticker)"
   ]
  },
  {
   "cell_type": "markdown",
   "id": "bcb0a431",
   "metadata": {},
   "source": [
    "## Futures"
   ]
  },
  {
   "cell_type": "markdown",
   "id": "e8993b2e",
   "metadata": {},
   "source": [
    "### Continuous contracts 1min"
   ]
  },
  {
   "cell_type": "code",
   "execution_count": null,
   "id": "8cd6831f",
   "metadata": {},
   "outputs": [],
   "source": [
    "futures_continuous_contracts_1min_symbols = s3_backend.get_symbols_for_dataset(\n",
    "    \"all_futures_continuous_contracts_1min\"\n",
    ")\n",
    "len(futures_continuous_contracts_1min_symbols)"
   ]
  },
  {
   "cell_type": "code",
   "execution_count": null,
   "id": "0c93c95c",
   "metadata": {},
   "outputs": [],
   "source": [
    "# Getting a sample of 10 contracts.\n",
    "futures_continuous_contracts_1min_symbols_sample = (\n",
    "    futures_continuous_contracts_1min_symbols[:10]\n",
    ")"
   ]
  },
  {
   "cell_type": "code",
   "execution_count": null,
   "id": "6b82314e",
   "metadata": {},
   "outputs": [],
   "source": [
    "continuous_contracts_minutely_stats = calculate_datetime_statistics_for_kibot_data(futures_continuous_contracts_1min_symbols_sample, \"Futures\", imcodatyp.Frequency.Minutely)\n",
    "continuous_contracts_minutely_stats"
   ]
  },
  {
   "cell_type": "markdown",
   "id": "2c6364c1",
   "metadata": {},
   "source": [
    "### Continuous contracts Daily"
   ]
  },
  {
   "cell_type": "code",
   "execution_count": null,
   "id": "29d4c907",
   "metadata": {},
   "outputs": [],
   "source": [
    "futures_continuous_contracts_daily_symbols = s3_backend.get_symbols_for_dataset(\n",
    "    \"all_futures_continuous_contracts_daily\"\n",
    ")\n",
    "len(futures_continuous_contracts_daily_symbols)"
   ]
  },
  {
   "cell_type": "code",
   "execution_count": null,
   "id": "4f26f201",
   "metadata": {},
   "outputs": [],
   "source": [
    "continuous_contracts_daily_stats = calculate_datetime_statistics_for_kibot_data(futures_continuous_contracts_daily_symbols, \"Futures\", imcodatyp.Frequency.Daily)\n",
    "continuous_contracts_daily_stats.head(3)"
   ]
  },
  {
   "cell_type": "code",
   "execution_count": null,
   "id": "b68c1b22",
   "metadata": {},
   "outputs": [],
   "source": [
    "general_stats_all_futures = calculate_general_datetime_stats(continuous_contracts_daily_stats)\n",
    "general_stats_all_futures"
   ]
  },
  {
   "cell_type": "markdown",
   "id": "ccb30483",
   "metadata": {},
   "source": [
    "# Read raw data"
   ]
  },
  {
   "cell_type": "code",
   "execution_count": null,
   "id": "9d4e4576",
   "metadata": {},
   "outputs": [],
   "source": [
    "import helpers.hs3 as hs3\n",
    "import core.pandas_helpers as cpanh"
   ]
  },
  {
   "cell_type": "code",
   "execution_count": null,
   "id": "f4739d1e",
   "metadata": {},
   "outputs": [],
   "source": [
    "def raw_file_reader(path, s3_file, **kwargs):\n",
    "    kwargs[\"s3fs\"] = s3_file\n",
    "    df = cpanh.read_csv(path, **kwargs)\n",
    "    return df"
   ]
  },
  {
   "cell_type": "code",
   "execution_count": null,
   "id": "9313dabc",
   "metadata": {},
   "outputs": [],
   "source": [
    "s3fs = hs3.get_s3fs(\"am\")"
   ]
  },
  {
   "cell_type": "markdown",
   "id": "29a34aaa",
   "metadata": {},
   "source": [
    "## Example of raw data for Stocks"
   ]
  },
  {
   "cell_type": "code",
   "execution_count": null,
   "id": "0c236fcd",
   "metadata": {},
   "outputs": [],
   "source": [
    "file_path_stock = \"s3://alphamatic-data/data/kibot/all_stocks_1min/AAPL.csv.gz\"\n",
    "hs3.is_s3_path(file_path_stock)"
   ]
  },
  {
   "cell_type": "code",
   "execution_count": null,
   "id": "1ed83d67",
   "metadata": {},
   "outputs": [],
   "source": [
    "file_reader(file_path_stock, s3fs)"
   ]
  },
  {
   "cell_type": "markdown",
   "id": "926fa151",
   "metadata": {},
   "source": [
    "## Example of raw data for Futures"
   ]
  },
  {
   "cell_type": "code",
   "execution_count": null,
   "id": "dc3859fc",
   "metadata": {},
   "outputs": [],
   "source": [
    "file_path_futures = \"s3://alphamatic-data/data/kibot/all_futures_continuous_contracts_daily/AE.csv.gz\"\n",
    "hs3.is_s3_path(file_path_futures)"
   ]
  },
  {
   "cell_type": "code",
   "execution_count": null,
   "id": "c822be01",
   "metadata": {},
   "outputs": [],
   "source": [
    "file_reader(file_path_futures, s3fs)"
   ]
  },
  {
   "cell_type": "markdown",
   "id": "36807867",
   "metadata": {},
   "source": [
    "## Difference of raw Parquet stock data vs. CSV stock data"
   ]
  },
  {
   "cell_type": "markdown",
   "id": "70413737",
   "metadata": {},
   "source": [
    "### CSV example of QCOM"
   ]
  },
  {
   "cell_type": "code",
   "execution_count": null,
   "id": "a6f9379b",
   "metadata": {},
   "outputs": [],
   "source": [
    "file_path_stock = \"s3://alphamatic-data/data/kibot/all_stocks_1min/QCOM.csv.gz\"\n",
    "hs3.is_s3_path(file_path_stock)"
   ]
  },
  {
   "cell_type": "code",
   "execution_count": null,
   "id": "8238dd5d",
   "metadata": {},
   "outputs": [],
   "source": [
    "raw_file_reader(file_path_stock, s3fs)"
   ]
  },
  {
   "cell_type": "markdown",
   "id": "436d68e3",
   "metadata": {},
   "source": [
    "### PQ example of QCOM"
   ]
  },
  {
   "cell_type": "code",
   "execution_count": null,
   "id": "dc72f6e9",
   "metadata": {},
   "outputs": [],
   "source": [
    "def raw_file_reader_parquet(path, s3_file, **kwargs):\n",
    "    kwargs[\"s3fs\"] = s3_file\n",
    "    df = cpanh.read_parquet(path, **kwargs)\n",
    "    return df"
   ]
  },
  {
   "cell_type": "code",
   "execution_count": null,
   "id": "7406b5e1",
   "metadata": {},
   "outputs": [],
   "source": [
    "file_path_stock_parquet = \"s3://alphamatic-data/data/kibot/pq/all_stocks_1min/QCOM.pq\"\n",
    "hs3.is_s3_path(file_path_stock_parquet)"
   ]
  },
  {
   "cell_type": "code",
   "execution_count": null,
   "id": "304e9600",
   "metadata": {},
   "outputs": [],
   "source": [
    "raw_file_reader_parquet(file_path_stock_parquet, s3fs)"
   ]
  },
  {
   "cell_type": "markdown",
   "id": "2983f658",
   "metadata": {},
   "source": [
    "### Summary"
   ]
  },
  {
   "cell_type": "markdown",
   "id": "b4fc9525",
   "metadata": {},
   "source": [
    "- The OHLCV data inside those files are identical (by values and time range)\n",
    "- PQ data is already transformed to the desired format:\n",
    "   - The heading is in place\n",
    "   - Datetime is converted to index and presented in a complete data-time format"
   ]
  },
  {
   "cell_type": "code",
   "execution_count": null,
   "id": "5c0c1dff",
   "metadata": {},
   "outputs": [],
   "source": []
  }
 ],
 "metadata": {
  "kernelspec": {
   "display_name": "Python 3 (ipykernel)",
   "language": "python",
   "name": "python3"
  },
  "language_info": {
   "codemirror_mode": {
    "name": "ipython",
    "version": 3
   },
   "file_extension": ".py",
   "mimetype": "text/x-python",
   "name": "python",
   "nbconvert_exporter": "python",
   "pygments_lexer": "ipython3"
  },
  "toc": {
   "base_numbering": 1,
   "nav_menu": {},
   "number_sections": true,
   "sideBar": true,
   "skip_h1_title": false,
   "title_cell": "Table of Contents",
   "title_sidebar": "Contents",
   "toc_cell": false,
   "toc_position": {},
   "toc_section_display": true,
   "toc_window_display": false
  }
 },
 "nbformat": 4,
 "nbformat_minor": 5
}
