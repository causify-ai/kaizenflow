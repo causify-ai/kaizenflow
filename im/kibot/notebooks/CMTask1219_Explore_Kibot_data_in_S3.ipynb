{
 "cells": [
  {
   "cell_type": "markdown",
   "id": "d29d42d5",
   "metadata": {},
   "source": [
    "## Imports"
   ]
  },
  {
   "cell_type": "code",
   "execution_count": null,
   "id": "649cc747",
   "metadata": {},
   "outputs": [],
   "source": [
    "import numpy as np\n",
    "import pandas as pd\n",
    "\n",
    "import im.common.data.types as imcodatyp\n",
    "import im.kibot.data.load.kibot_s3_data_loader as imkdlksdlo\n",
    "import im.kibot.metadata.load.s3_backend as imkmls3ba"
   ]
  },
  {
   "cell_type": "markdown",
   "id": "a35e4f3c",
   "metadata": {},
   "source": [
    "# Explore the universe"
   ]
  },
  {
   "cell_type": "code",
   "execution_count": null,
   "id": "a39099f6",
   "metadata": {},
   "outputs": [],
   "source": [
    "s3_backend = imkmls3ba.S3Backend()"
   ]
  },
  {
   "cell_type": "markdown",
   "id": "47cfdd27",
   "metadata": {},
   "source": [
    "## Futures"
   ]
  },
  {
   "cell_type": "code",
   "execution_count": null,
   "id": "16f79297",
   "metadata": {},
   "outputs": [],
   "source": [
    "one_min_contract_metadata = s3_backend.read_1min_contract_metadata()\n",
    "print(\"Number of contracts:\", one_min_contract_metadata.shape[0])\n",
    "display(one_min_contract_metadata.head(3))"
   ]
  },
  {
   "cell_type": "code",
   "execution_count": null,
   "id": "ca63ea29",
   "metadata": {},
   "outputs": [],
   "source": [
    "daily_contract_metadata = s3_backend.read_daily_contract_metadata()\n",
    "print(\"Number of contracts:\", daily_contract_metadata.shape[0])\n",
    "display(daily_contract_metadata.head(3))"
   ]
  },
  {
   "cell_type": "code",
   "execution_count": null,
   "id": "51ef19d0",
   "metadata": {},
   "outputs": [],
   "source": [
    "tickbidask_contract_metadata = s3_backend.read_tickbidask_contract_metadata()\n",
    "print(\"Number of contracts:\", tickbidask_contract_metadata.shape[0])\n",
    "display(tickbidask_contract_metadata.head(3))"
   ]
  },
  {
   "cell_type": "code",
   "execution_count": null,
   "id": "0a4aa380",
   "metadata": {},
   "outputs": [],
   "source": [
    "continuous_contract_metadata = s3_backend.read_continuous_contract_metadata()\n",
    "print(\"Number of contracts:\", continuous_contract_metadata.shape[0])\n",
    "display(continuous_contract_metadata.head(3))"
   ]
  },
  {
   "cell_type": "code",
   "execution_count": null,
   "id": "a5a8697d",
   "metadata": {},
   "outputs": [],
   "source": [
    "kibot_exchange_mapping = s3_backend.read_kibot_exchange_mapping()\n",
    "print(\"Number of contracts:\", kibot_exchange_mapping.shape[0])\n",
    "display(kibot_exchange_mapping.head(3))"
   ]
  },
  {
   "cell_type": "markdown",
   "id": "cce391e3",
   "metadata": {},
   "source": [
    "## Stocks"
   ]
  },
  {
   "cell_type": "code",
   "execution_count": null,
   "id": "ce783df7",
   "metadata": {},
   "outputs": [],
   "source": [
    "stocks_symbols = s3_backend.get_symbols_for_dataset(\"all_stocks_1min\")\n",
    "stocks_symbols[:5]"
   ]
  },
  {
   "cell_type": "code",
   "execution_count": null,
   "id": "047b4710",
   "metadata": {},
   "outputs": [],
   "source": [
    "len(stocks_symbols)"
   ]
  },
  {
   "cell_type": "markdown",
   "id": "47f54c7c",
   "metadata": {},
   "source": [
    "# Example for data loading"
   ]
  },
  {
   "cell_type": "code",
   "execution_count": null,
   "id": "d77fd634",
   "metadata": {},
   "outputs": [],
   "source": [
    "kibot_loader = imkdlksdlo.KibotS3DataLoader()"
   ]
  },
  {
   "cell_type": "markdown",
   "id": "37988e50",
   "metadata": {},
   "source": [
    "## Futures"
   ]
  },
  {
   "cell_type": "code",
   "execution_count": null,
   "id": "41111f0a",
   "metadata": {},
   "outputs": [],
   "source": [
    "# example for CME Ethanol Daily Continuous Futures.\n",
    "# Data is presented in OHLCV type.\n",
    "kibot_loader.read_data(\n",
    "    exchange=\"Unknown\",\n",
    "    symbol=\"AC\",\n",
    "    asset_class=imcodatyp.AssetClass.Futures,\n",
    "    frequency=imcodatyp.Frequency.Daily,\n",
    "    contract_type=imcodatyp.ContractType.Continuous,\n",
    ")"
   ]
  },
  {
   "cell_type": "code",
   "execution_count": null,
   "id": "ca7d9f4c",
   "metadata": {},
   "outputs": [],
   "source": [
    "# example for Minutely Expiry Futures (JAPANESE YEN JANUARY 2018)\n",
    "kibot_loader.read_data(\n",
    "    exchange=\"Unknown\",\n",
    "    symbol=\"JYF18\",\n",
    "    asset_class=imcodatyp.AssetClass.Futures,\n",
    "    frequency=imcodatyp.Frequency.Minutely,\n",
    "    contract_type=imcodatyp.ContractType.Expiry,\n",
    ")"
   ]
  },
  {
   "cell_type": "markdown",
   "id": "a345ae46",
   "metadata": {},
   "source": [
    "## Stocks"
   ]
  },
  {
   "cell_type": "code",
   "execution_count": null,
   "id": "b3b3dcae",
   "metadata": {},
   "outputs": [],
   "source": [
    "# example for Apple stock.\n",
    "kibot_loader.read_data(\n",
    "    exchange=\"Q\",\n",
    "    symbol=\"AAPL\",\n",
    "    asset_class=imcodatyp.AssetClass.Stocks,\n",
    "    frequency=imcodatyp.Frequency.Minutely,\n",
    "    unadjusted=False,\n",
    ")"
   ]
  },
  {
   "cell_type": "code",
   "execution_count": null,
   "id": "2b7b33dc",
   "metadata": {},
   "outputs": [],
   "source": [
    "# Interesting note: the necessary param 'exchange' can be any value.\n",
    "kibot_loader.read_data(\n",
    "    exchange=\"Any Exchange\",\n",
    "    symbol=\"AAPL\",\n",
    "    asset_class=imcodatyp.AssetClass.Stocks,\n",
    "    frequency=imcodatyp.Frequency.Minutely,\n",
    "    unadjusted=False,\n",
    ")"
   ]
  },
  {
   "cell_type": "markdown",
   "id": "2adf3c9d",
   "metadata": {},
   "source": [
    "# Period of time availability"
   ]
  },
  {
   "cell_type": "markdown",
   "id": "b8bade11",
   "metadata": {},
   "source": [
    "## Stocks"
   ]
  },
  {
   "cell_type": "code",
   "execution_count": null,
   "id": "aafcf009",
   "metadata": {},
   "outputs": [],
   "source": [
    "%%time\n",
    "result = []\n",
    "\n",
    "for ticker in stocks_symbols:\n",
    "    stock_df = kibot_loader.read_data(\n",
    "        exchange=\"Any Exchange\",\n",
    "        symbol=ticker,\n",
    "        asset_class=imcodatyp.AssetClass.Stocks,\n",
    "        frequency=imcodatyp.Frequency.Minutely,\n",
    "        unadjusted=False,\n",
    "    )\n",
    "    if stock_df.shape[0] == 2:\n",
    "        datetime_stats = pd.DataFrame()\n",
    "        datetime_stats.index = [ticker]\n",
    "        datetime_stats[\"start_date\"] = np.nan\n",
    "        datetime_stats[\"end_date\"] = np.nan\n",
    "        datetime_stats[\"data_points_count\"] = np.nan\n",
    "        # datetime_stats[\"number_of_nans\"] = len(stock_df[stock_df[\"close\"].isna()])\n",
    "        result.append(datetime_stats)\n",
    "    elif stock_df.shape[0] == 1:\n",
    "        datetime_stats = pd.DataFrame()\n",
    "        datetime_stats.index = [ticker]\n",
    "        datetime_stats[\"start_date\"] = np.nan\n",
    "        datetime_stats[\"end_date\"] = np.nan\n",
    "        datetime_stats[\"data_points_count\"] = np.nan\n",
    "        # datetime_stats[\"number_of_nans\"] = len(stock_df[stock_df[\"close\"].isna()])\n",
    "        result.append(datetime_stats)\n",
    "    else:\n",
    "        # Reseting index to unleash 'timestamp' column.\n",
    "        stock_df.reset_index(inplace=True)\n",
    "        # Start-end date.\n",
    "        max_date = pd.Series(\n",
    "            stock_df[\"datetime\"].describe(datetime_is_numeric=True).loc[\"max\"]\n",
    "        )\n",
    "        min_date = pd.Series(\n",
    "            stock_df[\"datetime\"].describe(datetime_is_numeric=True).loc[\"min\"]\n",
    "        )\n",
    "        # Number of timestamps for each coin.\n",
    "        data_points = pd.Series(\n",
    "            stock_df[\"datetime\"].describe(datetime_is_numeric=True).loc[\"count\"]\n",
    "        )\n",
    "        # Attach calculations to the DataFrame.\n",
    "        datetime_stats = pd.DataFrame()\n",
    "        datetime_stats[\"start_date\"] = min_date\n",
    "        datetime_stats[\"end_date\"] = max_date\n",
    "        datetime_stats[\"data_points_count\"] = data_points\n",
    "        # datetime_stats[\"number_of_nans\"] = len(stock_df[stock_df[\"close\"].isna()])\n",
    "        datetime_stats.index = [ticker]\n",
    "        result.append(datetime_stats)\n",
    "all_stocks_stats = pd.concat(result)"
   ]
  },
  {
   "cell_type": "code",
   "execution_count": null,
   "id": "53d4b304",
   "metadata": {},
   "outputs": [],
   "source": [
    "#final_stats = all_stocks_stats.copy()"
   ]
  },
  {
   "cell_type": "code",
   "execution_count": null,
   "id": "975428f1",
   "metadata": {},
   "outputs": [],
   "source": [
    "display(final_stats.shape)\n",
    "display(final_stats)"
   ]
  },
  {
   "cell_type": "code",
   "execution_count": null,
   "id": "9981ca9f",
   "metadata": {},
   "outputs": [],
   "source": [
    "general_stats_all_stocks = pd.DataFrame()\n",
    "general_stats_all_stocks.loc[\"median_start_date\",\"value\"] = final_stats[\"start_date\"].median()\n",
    "general_stats_all_stocks.loc[\"median_end_date\",\"value\"] = final_stats[\"end_date\"].median()\n",
    "general_stats_all_stocks.loc[\"min_start_date\",\"value\"] = final_stats[\"start_date\"].min()\n",
    "general_stats_all_stocks.loc[\"max_end_date\",\"value\"] = final_stats[\"end_date\"].max()\n",
    "general_stats_all_stocks.loc[\"median_data_points\",\"value\"] = final_stats[\"data_points_count\"].median()\n",
    "general_stats_all_stocks"
   ]
  },
  {
   "cell_type": "code",
   "execution_count": null,
   "id": "2dea68d0",
   "metadata": {},
   "outputs": [],
   "source": [
    "# DataFrame with empty stock data files.\n",
    "empty_dataframes = final_stats[final_stats[\"data_points_count\"].isna()]\n",
    "# Number of empty stock data files.\n",
    "len(empty_dataframes)"
   ]
  },
  {
   "cell_type": "code",
   "execution_count": null,
   "id": "cecf1f0a",
   "metadata": {},
   "outputs": [],
   "source": [
    "print(round(100*len(empty_dataframes)/len(final_stats),2),\"% of files in stock universe are empty.\")"
   ]
  },
  {
   "cell_type": "code",
   "execution_count": null,
   "id": "96e50682",
   "metadata": {},
   "outputs": [],
   "source": [
    "# Tickers with empty dataframes.\n",
    "for ticker in list(empty_dataframes.index): print(ticker)"
   ]
  },
  {
   "cell_type": "markdown",
   "id": "bcb0a431",
   "metadata": {},
   "source": [
    "## Futures"
   ]
  },
  {
   "cell_type": "markdown",
   "id": "e8993b2e",
   "metadata": {},
   "source": [
    "### Continuous contracts 1min"
   ]
  },
  {
   "cell_type": "code",
   "execution_count": null,
   "id": "8cd6831f",
   "metadata": {},
   "outputs": [],
   "source": [
    "futures_continuous_contracts_1min_symbols = s3_backend.get_symbols_for_dataset(\n",
    "    \"all_futures_continuous_contracts_1min\"\n",
    ")\n",
    "len(futures_continuous_contracts_1min_symbols)"
   ]
  },
  {
   "cell_type": "code",
   "execution_count": null,
   "id": "0c93c95c",
   "metadata": {},
   "outputs": [],
   "source": [
    "# Getting a sample of 10 contracts.\n",
    "futures_continuous_contracts_1min_symbols_sample = (\n",
    "    futures_continuous_contracts_1min_symbols[:10]\n",
    ")"
   ]
  },
  {
   "cell_type": "code",
   "execution_count": null,
   "id": "1469db39",
   "metadata": {},
   "outputs": [],
   "source": [
    "%%time\n",
    "result = []\n",
    "\n",
    "for ticker in futures_continuous_contracts_1min_symbols_sample:\n",
    "    futures_df = kibot_loader.read_data(\n",
    "        exchange=\"Any Exchange\",\n",
    "        symbol=ticker,\n",
    "        asset_class=imcodatyp.AssetClass.Futures,\n",
    "        contract_type=imcodatyp.ContractType.Continuous,\n",
    "        frequency=imcodatyp.Frequency.Minutely,\n",
    "    )\n",
    "    if futures_df.iloc[0][0] == \"405 Data Not Found.\":\n",
    "        datetime_stats = pd.DataFrame()\n",
    "        datetime_stats.index = [ticker]\n",
    "        datetime_stats[\"start_date\"] = np.nan\n",
    "        datetime_stats[\"end_date\"] = np.nan\n",
    "        datetime_stats[\"data_points_count\"] = np.nan\n",
    "        # datetime_stats[\"number_of_nans\"] = len(futures_df[futures_df[\"close\"].isna()])\n",
    "        result.append(datetime_stats)\n",
    "    else:\n",
    "        # Reseting index to unleash 'timestamp' column.\n",
    "        futures_df.reset_index(inplace=True)\n",
    "        # Start-end date.\n",
    "        max_date = pd.Series(\n",
    "            futures_df[\"datetime\"].describe(datetime_is_numeric=True).loc[\"max\"]\n",
    "        )\n",
    "        min_date = pd.Series(\n",
    "            futures_df[\"datetime\"].describe(datetime_is_numeric=True).loc[\"min\"]\n",
    "        )\n",
    "        # Number of timestamps for each coin.\n",
    "        data_points = pd.Series(\n",
    "            futures_df[\"datetime\"].describe(datetime_is_numeric=True).loc[\"count\"]\n",
    "        )\n",
    "        # Attach calculations to the DataFrame.\n",
    "        datetime_stats = pd.DataFrame()\n",
    "        datetime_stats[\"start_date\"] = min_date\n",
    "        datetime_stats[\"end_date\"] = max_date\n",
    "        datetime_stats[\"data_points_count\"] = data_points\n",
    "        # datetime_stats[\"number_of_nans\"] = len(futures_df[futures_df[\"close\"].isna()])\n",
    "        datetime_stats.index = [ticker]\n",
    "        result.append(datetime_stats)\n",
    "result = pd.concat(result)"
   ]
  },
  {
   "cell_type": "code",
   "execution_count": null,
   "id": "a9f73739",
   "metadata": {},
   "outputs": [],
   "source": [
    "result"
   ]
  },
  {
   "cell_type": "markdown",
   "id": "2c6364c1",
   "metadata": {},
   "source": [
    "### Continuous contracts Daily"
   ]
  },
  {
   "cell_type": "code",
   "execution_count": null,
   "id": "29d4c907",
   "metadata": {},
   "outputs": [],
   "source": [
    "futures_continuous_contracts_daily_symbols = s3_backend.get_symbols_for_dataset(\n",
    "    \"all_futures_continuous_contracts_daily\"\n",
    ")\n",
    "len(futures_continuous_contracts_daily_symbols)"
   ]
  },
  {
   "cell_type": "code",
   "execution_count": null,
   "id": "7042bc95",
   "metadata": {},
   "outputs": [],
   "source": [
    "%%time\n",
    "result = []\n",
    "\n",
    "for ticker in futures_continuous_contracts_daily_symbols:\n",
    "    futures_df = kibot_loader.read_data(\n",
    "        exchange=\"Any Exchange\",\n",
    "        symbol=ticker,\n",
    "        asset_class=imcodatyp.AssetClass.Futures,\n",
    "        contract_type=imcodatyp.ContractType.Continuous,\n",
    "        frequency=imcodatyp.Frequency.Daily,\n",
    "    )\n",
    "    if futures_df.iloc[0][0] == \"405 Data Not Found.\":\n",
    "        datetime_stats = pd.DataFrame()\n",
    "        datetime_stats.index = [ticker]\n",
    "        datetime_stats[\"start_date\"] = np.nan\n",
    "        datetime_stats[\"end_date\"] = np.nan\n",
    "        datetime_stats[\"data_points_count\"] = np.nan\n",
    "        # datetime_stats[\"number_of_nans\"] = len(futures_df[futures_df[\"close\"].isna()])\n",
    "        result.append(datetime_stats)\n",
    "    else:\n",
    "        # Reseting index to unleash 'timestamp' column.\n",
    "        futures_df.reset_index(inplace=True)\n",
    "        # Start-end date.\n",
    "        max_date = pd.Series(\n",
    "            futures_df[\"datetime\"].describe(datetime_is_numeric=True).loc[\"max\"]\n",
    "        )\n",
    "        min_date = pd.Series(\n",
    "            futures_df[\"datetime\"].describe(datetime_is_numeric=True).loc[\"min\"]\n",
    "        )\n",
    "        # Number of timestamps for each coin.\n",
    "        data_points = pd.Series(\n",
    "            futures_df[\"datetime\"].describe(datetime_is_numeric=True).loc[\"count\"]\n",
    "        )\n",
    "        # Attach calculations to the DataFrame.\n",
    "        datetime_stats = pd.DataFrame()\n",
    "        datetime_stats[\"start_date\"] = min_date\n",
    "        datetime_stats[\"end_date\"] = max_date\n",
    "        datetime_stats[\"data_points_count\"] = data_points\n",
    "        # datetime_stats[\"number_of_nans\"] = len(futures_df[futures_df[\"close\"].isna()])\n",
    "        datetime_stats.index = [ticker]\n",
    "        result.append(datetime_stats)\n",
    "continuous_contracts_daily_stats = pd.concat(result)"
   ]
  },
  {
   "cell_type": "code",
   "execution_count": null,
   "id": "dc4016a6",
   "metadata": {},
   "outputs": [],
   "source": [
    "continuous_contracts_daily_stats"
   ]
  },
  {
   "cell_type": "code",
   "execution_count": null,
   "id": "cc5b0119",
   "metadata": {},
   "outputs": [],
   "source": [
    "general_stats = pd.DataFrame()\n",
    "general_stats.loc[\"median_start_date\",\"value\"] = continuous_contracts_daily_stats[\"start_date\"].median()\n",
    "general_stats.loc[\"median_end_date\",\"value\"] = continuous_contracts_daily_stats[\"end_date\"].median()\n",
    "general_stats.loc[\"min_start_date\",\"value\"] = continuous_contracts_daily_stats[\"start_date\"].min()\n",
    "general_stats.loc[\"max_end_date\",\"value\"] = continuous_contracts_daily_stats[\"end_date\"].max()\n",
    "general_stats.loc[\"median_data_points\",\"value\"] = continuous_contracts_daily_stats[\"data_points_count\"].median()\n",
    "general_stats"
   ]
  },
  {
   "cell_type": "markdown",
   "id": "2a82f0d0",
   "metadata": {},
   "source": [
    "# Read raw data"
   ]
  },
  {
   "cell_type": "code",
   "execution_count": null,
   "id": "b44c3519",
   "metadata": {},
   "outputs": [],
   "source": [
    "import helpers.hs3 as hs3\n",
    "import core.pandas_helpers as cpanh"
   ]
  },
  {
   "cell_type": "code",
   "execution_count": null,
   "id": "b9f9ece7",
   "metadata": {},
   "outputs": [],
   "source": [
    "def raw_file_reader(path, s3_file, **kwargs):\n",
    "    kwargs[\"s3fs\"] = s3_file\n",
    "    df = cpanh.read_csv(file_path, **kwargs)\n",
    "    return df"
   ]
  },
  {
   "cell_type": "code",
   "execution_count": null,
   "id": "45724915",
   "metadata": {},
   "outputs": [],
   "source": [
    "s3fs = hs3.get_s3fs(\"am\")"
   ]
  },
  {
   "cell_type": "markdown",
   "id": "0d284dc4",
   "metadata": {},
   "source": [
    "## Example of raw data for Stocks"
   ]
  },
  {
   "cell_type": "code",
   "execution_count": null,
   "id": "e89d768f",
   "metadata": {},
   "outputs": [],
   "source": [
    "file_path_stock = \"s3://alphamatic-data/data/kibot/all_stocks_1min/AAPL.csv.gz\"\n",
    "hs3.is_s3_path(file_path_stock)"
   ]
  },
  {
   "cell_type": "code",
   "execution_count": null,
   "id": "fcd63153",
   "metadata": {},
   "outputs": [],
   "source": [
    "file_reader(file_path_stock, s3fs)"
   ]
  },
  {
   "cell_type": "markdown",
   "id": "895c25d3",
   "metadata": {},
   "source": [
    "## Example of raw data for Futures"
   ]
  },
  {
   "cell_type": "code",
   "execution_count": null,
   "id": "d040c131",
   "metadata": {},
   "outputs": [],
   "source": [
    "file_path_futures = \"s3://alphamatic-data/data/kibot/all_futures_continuous_contracts_daily/AE.csv.gz\"\n",
    "hs3.is_s3_path(file_path_futures)"
   ]
  },
  {
   "cell_type": "code",
   "execution_count": null,
   "id": "99176165",
   "metadata": {},
   "outputs": [],
   "source": [
    "file_reader(file_path_futures, s3fs)"
   ]
  }
 ],
 "metadata": {
  "jupytext": {
   "text_representation": {
    "extension": ".py",
    "format_name": "percent",
    "format_version": "1.3",
    "jupytext_version": "1.13.5"
   }
  },
  "kernelspec": {
   "display_name": "Python 3 (ipykernel)",
   "language": "python",
   "name": "python3"
  },
  "language_info": {
   "codemirror_mode": {
    "name": "ipython",
    "version": 3
   },
   "file_extension": ".py",
   "mimetype": "text/x-python",
   "name": "python",
   "nbconvert_exporter": "python",
   "pygments_lexer": "ipython3"
  },
  "toc": {
   "base_numbering": 1,
   "nav_menu": {},
   "number_sections": true,
   "sideBar": true,
   "skip_h1_title": false,
   "title_cell": "Table of Contents",
   "title_sidebar": "Contents",
   "toc_cell": false,
   "toc_position": {},
   "toc_section_display": true,
   "toc_window_display": false
  }
 },
 "nbformat": 4,
 "nbformat_minor": 5
}
