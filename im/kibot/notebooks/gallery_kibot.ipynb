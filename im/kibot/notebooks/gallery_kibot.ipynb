{
 "cells": [
  {
   "cell_type": "markdown",
   "metadata": {},
   "source": [
    "## Imports"
   ]
  },
  {
   "cell_type": "code",
   "execution_count": null,
   "metadata": {},
   "outputs": [],
   "source": [
    "%load_ext autoreload\n",
    "%autoreload 2\n",
    "%matplotlib inline\n",
    "\n",
    "import logging\n",
    "\n",
    "import sklearn as sklear\n",
    "\n",
    "import core.dataframe_modeler as cdatmode\n",
    "import core.signal_processing as csigproc\n",
    "import helpers.hdbg as hdbg\n",
    "import helpers.henv as henv\n",
    "import helpers.hprint as hprint\n",
    "import im.kibot.data.load.futures_forward_contracts as imkdlffoco\n",
    "import im.kibot.data.load.kibot_s3_data_loader as imkdlksdlo\n",
    "import im.kibot.metadata.load.kibot_metadata as imkmlkime"
   ]
  },
  {
   "cell_type": "code",
   "execution_count": null,
   "metadata": {},
   "outputs": [],
   "source": [
    "hdbg.init_logger(verbosity=logging.INFO)\n",
    "\n",
    "_LOG = logging.getLogger(__name__)\n",
    "\n",
    "_LOG.info(\"%s\", henv.get_system_signature()[0])\n",
    "\n",
    "hprint.config_notebook()"
   ]
  },
  {
   "cell_type": "markdown",
   "metadata": {},
   "source": [
    "## Map contracts to start and end dates"
   ]
  },
  {
   "cell_type": "code",
   "execution_count": null,
   "metadata": {},
   "outputs": [],
   "source": [
    "lfc_hc = imkmlkime.KibotHardcodedContractLifetimeComputer(365, 7)\n",
    "\n",
    "lfc_hc.compute_lifetime(\"CLJ17\")"
   ]
  },
  {
   "cell_type": "code",
   "execution_count": null,
   "metadata": {},
   "outputs": [],
   "source": [
    "lfc_ta = imkmlkime.KibotTradingActivityContractLifetimeComputer()\n",
    "\n",
    "lfc_ta.compute_lifetime(\"CLJ17\")"
   ]
  },
  {
   "cell_type": "code",
   "execution_count": null,
   "metadata": {},
   "outputs": [],
   "source": [
    "symbols = [\"ES\", \"CL\", \"NG\"]\n",
    "file = \"../contracts.csv\"\n",
    "\n",
    "\n",
    "fcl = imkmlkime.FuturesContractLifetimes(file, lfc_hc)"
   ]
  },
  {
   "cell_type": "code",
   "execution_count": null,
   "metadata": {},
   "outputs": [],
   "source": [
    "fcl.save([\"CL\", \"NG\"])"
   ]
  },
  {
   "cell_type": "code",
   "execution_count": null,
   "metadata": {},
   "outputs": [],
   "source": [
    "data = fcl.load([\"NG\"])"
   ]
  },
  {
   "cell_type": "code",
   "execution_count": null,
   "metadata": {},
   "outputs": [],
   "source": [
    "data[\"NG\"].head()"
   ]
  },
  {
   "cell_type": "markdown",
   "metadata": {},
   "source": [
    "## Create continuous contracts"
   ]
  },
  {
   "cell_type": "code",
   "execution_count": null,
   "metadata": {},
   "outputs": [],
   "source": [
    "fcem = imkmlkime.FuturesContractExpiryMapper(data)"
   ]
  },
  {
   "cell_type": "code",
   "execution_count": null,
   "metadata": {},
   "outputs": [],
   "source": [
    "fcem.get_nth_contract(\"NG\", \"2010-01-01\", 1)"
   ]
  },
  {
   "cell_type": "code",
   "execution_count": null,
   "metadata": {},
   "outputs": [],
   "source": [
    "srs = fcem.get_nth_contracts(\"NG\", \"2010-01-10\", \"2010-01-20\", freq=\"B\", n=1)"
   ]
  },
  {
   "cell_type": "code",
   "execution_count": null,
   "metadata": {},
   "outputs": [],
   "source": [
    "srs"
   ]
  },
  {
   "cell_type": "code",
   "execution_count": null,
   "metadata": {},
   "outputs": [],
   "source": [
    "kdl = imkdlksdlo.KibotS3DataLoader()"
   ]
  },
  {
   "cell_type": "code",
   "execution_count": null,
   "metadata": {},
   "outputs": [],
   "source": [
    "ffc_obj = imkdlffoco.FuturesForwardContracts(kdl)"
   ]
  },
  {
   "cell_type": "code",
   "execution_count": null,
   "metadata": {},
   "outputs": [],
   "source": [
    "ffc_obj._replace_contracts_with_data(srs)"
   ]
  },
  {
   "cell_type": "markdown",
   "metadata": {},
   "source": [
    "## Combine front and back contracts - price"
   ]
  },
  {
   "cell_type": "code",
   "execution_count": null,
   "metadata": {},
   "outputs": [],
   "source": [
    "contract_df = fcem.get_contracts(\n",
    "    [\"NG\" + str(j) for j in range(1, 13)], \"2010-01-01\", \"2015-12-31\", freq=\"B\"\n",
    ")"
   ]
  },
  {
   "cell_type": "code",
   "execution_count": null,
   "metadata": {},
   "outputs": [],
   "source": [
    "contract_df.head()"
   ]
  },
  {
   "cell_type": "code",
   "execution_count": null,
   "metadata": {},
   "outputs": [],
   "source": [
    "price_df = ffc_obj.replace_contracts_with_data(contract_df, \"close\")"
   ]
  },
  {
   "cell_type": "code",
   "execution_count": null,
   "metadata": {},
   "outputs": [],
   "source": [
    "price_df.plot()"
   ]
  },
  {
   "cell_type": "code",
   "execution_count": null,
   "metadata": {},
   "outputs": [],
   "source": [
    "dfm = (\n",
    "    cdatmode.DataFrameModeler(df=price_df, oos_start=\"2013-01-01\")\n",
    "    .compute_ret_0(method=\"predict\")\n",
    "    .apply_column_transformer(\n",
    "        transformer_func=csigproc.compute_rolling_zscore,\n",
    "        transformer_kwargs={\n",
    "            \"tau\": 10,\n",
    "            \"min_periods\": 20,\n",
    "        },\n",
    "        col_mode=\"replace_all\",\n",
    "        method=\"predict\",\n",
    "    )\n",
    ")"
   ]
  },
  {
   "cell_type": "code",
   "execution_count": null,
   "metadata": {},
   "outputs": [],
   "source": [
    "dfm.plot_time_series()"
   ]
  },
  {
   "cell_type": "code",
   "execution_count": null,
   "metadata": {},
   "outputs": [],
   "source": [
    "dfm.plot_pca_components(num_components=4)"
   ]
  },
  {
   "cell_type": "code",
   "execution_count": null,
   "metadata": {},
   "outputs": [],
   "source": [
    "dfm.plot_explained_variance()"
   ]
  },
  {
   "cell_type": "code",
   "execution_count": null,
   "metadata": {
    "lines_to_next_cell": 2,
    "run_control": {
     "marked": false
    }
   },
   "outputs": [],
   "source": [
    "res = dfm.apply_residualizer(\n",
    "    model_func=sklear.decomposition.PCA,\n",
    "    x_vars=[\"NG\" + str(j) + \"_ret_0\" for j in range(1, 13)],\n",
    "    model_kwargs={\"n_components\": 2},\n",
    "    method=\"predict\",\n",
    ").apply_column_transformer(\n",
    "    transformer_func=csigproc.compute_rolling_zscore,\n",
    "    transformer_kwargs={\n",
    "        \"tau\": 10,\n",
    "        \"min_periods\": 20,\n",
    "    },\n",
    "    col_mode=\"replace_all\",\n",
    "    method=\"predict\",\n",
    ")\n",
    "# .apply_volatility_model(\n",
    "#    cols=[\"NG\" + str(j) + \"_ret_0\" for j in range(1, 13)],\n",
    "#    steps_ahead=2,\n",
    "# )"
   ]
  },
  {
   "cell_type": "code",
   "execution_count": null,
   "metadata": {},
   "outputs": [],
   "source": [
    "res.df"
   ]
  },
  {
   "cell_type": "code",
   "execution_count": null,
   "metadata": {},
   "outputs": [],
   "source": [
    "res.plot_time_series()"
   ]
  },
  {
   "cell_type": "code",
   "execution_count": null,
   "metadata": {},
   "outputs": [],
   "source": [
    "res.plot_pca_components(num_components=4)"
   ]
  },
  {
   "cell_type": "code",
   "execution_count": null,
   "metadata": {},
   "outputs": [],
   "source": [
    "dfm.plot_explained_variance()"
   ]
  },
  {
   "cell_type": "code",
   "execution_count": null,
   "metadata": {},
   "outputs": [],
   "source": [
    "res.plot_correlation_matrix(mode=\"ins\")"
   ]
  },
  {
   "cell_type": "markdown",
   "metadata": {},
   "source": [
    "## Combine front and back contracts - volume"
   ]
  },
  {
   "cell_type": "code",
   "execution_count": null,
   "metadata": {},
   "outputs": [],
   "source": [
    "volume_df = ffc_obj.replace_contracts_with_data(contract_df, \"vol\")"
   ]
  },
  {
   "cell_type": "code",
   "execution_count": null,
   "metadata": {},
   "outputs": [],
   "source": [
    "volume_df"
   ]
  },
  {
   "cell_type": "code",
   "execution_count": null,
   "metadata": {},
   "outputs": [],
   "source": [
    "volume_df.plot(logy=True)"
   ]
  },
  {
   "cell_type": "code",
   "execution_count": null,
   "metadata": {},
   "outputs": [],
   "source": []
  }
 ],
 "metadata": {
  "kernelspec": {
   "display_name": "Python 3 (ipykernel)",
   "language": "python",
   "name": "python3"
  },
  "language_info": {
   "codemirror_mode": {
    "name": "ipython",
    "version": 3
   },
   "file_extension": ".py",
   "mimetype": "text/x-python",
   "name": "python",
   "nbconvert_exporter": "python",
   "pygments_lexer": "ipython3"
  },
  "toc": {
   "base_numbering": 1,
   "nav_menu": {},
   "number_sections": true,
   "sideBar": true,
   "skip_h1_title": false,
   "title_cell": "Table of Contents",
   "title_sidebar": "Contents",
   "toc_cell": false,
   "toc_position": {},
   "toc_section_display": true,
   "toc_window_display": false
  }
 },
 "nbformat": 4,
 "nbformat_minor": 4
}
