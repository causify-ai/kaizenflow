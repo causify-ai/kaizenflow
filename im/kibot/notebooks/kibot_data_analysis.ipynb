{
 "cells": [
  {
   "cell_type": "code",
   "execution_count": null,
   "metadata": {},
   "outputs": [],
   "source": [
    "%load_ext autoreload\n",
    "%autoreload 2\n",
    "\n",
    "\n",
    "import pandas as pd\n",
    "\n",
    "import helpers.hpandas as hpandas\n",
    "import helpers.hs3 as hs3"
   ]
  },
  {
   "cell_type": "code",
   "execution_count": null,
   "metadata": {},
   "outputs": [],
   "source": [
    "AM_AWS_PROFILE = \"am\"\n",
    "S3_BUCKET = hs3.get_s3_bucket_path(AM_AWS_PROFILE, add_s3_prefix=False)\n",
    "file_name = f\"s3://{S3_BUCKET}/data/kibot/sp_500_1min/AAPL.csv.gz\"\n",
    "\n",
    "s3fs = hs3.get_s3fs(\"am\")\n",
    "# This call was broken during a refactoring and this fix is not\n",
    "# guaranteed to work.\n",
    "try:\n",
    "    df = hpandas.read_csv_to_df(file_name)\n",
    "except Exception:  # pylint: disable=broad-except\n",
    "    df = hpandas.read_csv_to_df(s3fs)\n",
    "df.head(5)"
   ]
  },
  {
   "cell_type": "code",
   "execution_count": null,
   "metadata": {},
   "outputs": [],
   "source": [
    "file_name = f\"s3://{S3_BUCKET}/data/kibot/pq/sp_500_1min/AAPL.pq\"\n",
    "pd.read_parquet(file_name)"
   ]
  }
 ],
 "metadata": {
  "kernelspec": {
   "display_name": "Python 3 (ipykernel)",
   "language": "python",
   "name": "python3"
  },
  "language_info": {
   "codemirror_mode": {
    "name": "ipython",
    "version": 3
   },
   "file_extension": ".py",
   "mimetype": "text/x-python",
   "name": "python",
   "nbconvert_exporter": "python",
   "pygments_lexer": "ipython3"
  },
  "toc": {
   "base_numbering": 1,
   "nav_menu": {},
   "number_sections": true,
   "sideBar": true,
   "skip_h1_title": false,
   "title_cell": "Table of Contents",
   "title_sidebar": "Contents",
   "toc_cell": false,
   "toc_position": {},
   "toc_section_display": true,
   "toc_window_display": false
  }
 },
 "nbformat": 4,
 "nbformat_minor": 4
}
