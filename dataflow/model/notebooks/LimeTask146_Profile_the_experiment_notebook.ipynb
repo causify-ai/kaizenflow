{
 "cells": [
  {
   "cell_type": "markdown",
   "id": "a0cfeac2",
   "metadata": {},
   "source": [
    "# Description\n",
    "\n",
    "- Initialize with returns, predictions, target volatility, and oos start date\n",
    "- Evaluate portfolios generated from the predictions"
   ]
  },
  {
   "cell_type": "markdown",
   "id": "126c8435",
   "metadata": {},
   "source": [
    "# Imports"
   ]
  },
  {
   "cell_type": "code",
   "execution_count": null,
   "id": "abf41299",
   "metadata": {},
   "outputs": [],
   "source": [
    "%load_ext autoreload\n",
    "%autoreload 2\n",
    "\n",
    "import logging\n",
    "\n",
    "import dataflow_model.model_evaluator as cdtfmomoev\n",
    "import dataflow_model.model_plotter as cdtfmomopl\n",
    "\n",
    "import core.config as cconfig\n",
    "import dataflow.model.dataflow_utils as dtfbaexuti\n",
    "import helpers.hdbg as hdbg\n",
    "import helpers.hprint as hprint"
   ]
  },
  {
   "cell_type": "code",
   "execution_count": null,
   "id": "eee79ad8",
   "metadata": {},
   "outputs": [],
   "source": [
    "hdbg.init_logger(verbosity=logging.INFO)\n",
    "# hdbg.init_logger(verbosity=logging.DEBUG)\n",
    "\n",
    "_LOG = logging.getLogger(__name__)\n",
    "\n",
    "# _LOG.info(\"%s\", env.get_system_signature()[0])\n",
    "\n",
    "hprint.config_notebook()"
   ]
  },
  {
   "cell_type": "markdown",
   "id": "c0c17e86",
   "metadata": {},
   "source": [
    "# Notebook config"
   ]
  },
  {
   "cell_type": "code",
   "execution_count": null,
   "id": "a9c3584e",
   "metadata": {},
   "outputs": [],
   "source": [
    "# config = cconfig.Config.from_env_var(\"AM_CONFIG_CODE\")\n",
    "config = None\n",
    "\n",
    "if config is None:\n",
    "    # exp_dir = \"/app/oos_experiment.RH2Eg.v2_0-top10.5T.run1_test\"\n",
    "    exp_dir = \"/app/oos_experiment.RH2Eg.v2_0-top10.5T.run1_test\"\n",
    "    aws_profile = None\n",
    "    # selected_idxs = None\n",
    "    selected_idxs = range(3)\n",
    "\n",
    "    eval_config = cconfig.Config.from_dict(\n",
    "        {\n",
    "            \"load_experiment_kwargs\": {\n",
    "                \"src_dir\": exp_dir,\n",
    "                \"file_name\": \"result_bundle.v2_0.pkl\",\n",
    "                \"experiment_type\": \"ins_oos\",\n",
    "                \"selected_idxs\": selected_idxs,\n",
    "                \"aws_profile\": aws_profile,\n",
    "            },\n",
    "            \"model_evaluator_kwargs\": {\n",
    "                \"predictions_col\": \"mid_ret_0_vol_adj_clipped_2_hat\",\n",
    "                \"target_col\": \"mid_ret_0_vol_adj_clipped_2\",\n",
    "                # \"oos_start\": \"2017-01-01\",\n",
    "                \"oos_start\": None,\n",
    "            },\n",
    "            \"bh_adj_threshold\": 0.1,\n",
    "            \"resample_rule\": \"W\",\n",
    "            \"mode\": \"ins\",\n",
    "            \"target_volatility\": 0.1,\n",
    "        }\n",
    "    )\n",
    "\n",
    "print(str(eval_config))"
   ]
  },
  {
   "cell_type": "markdown",
   "id": "8142e65d",
   "metadata": {},
   "source": [
    "# Initialize ModelEvaluator and ModelPlotter"
   ]
  },
  {
   "cell_type": "code",
   "execution_count": null,
   "id": "371704c7",
   "metadata": {},
   "outputs": [],
   "source": [
    "load_config = eval_config[\"load_experiment_kwargs\"].to_dict()\n",
    "\n",
    "# Load only the columns needed by the ModelEvaluator.\n",
    "load_config[\"load_rb_kwargs\"] = {\n",
    "    \"columns\": [\n",
    "        eval_config[\"model_evaluator_kwargs\"][\"target_col\"],\n",
    "        eval_config[\"model_evaluator_kwargs\"][\"predictions_col\"],\n",
    "    ]\n",
    "}\n",
    "result_bundle_dict = dtfbaexuti.load_experiment_artifacts(**load_config)\n",
    "\n",
    "# Build the ModelEvaluator.\n",
    "evaluator = cdtfmomoev.ModelEvaluator.from_result_bundle_dict(\n",
    "    result_bundle_dict,\n",
    "    # abort_on_error=False,\n",
    "    abort_on_error=True,\n",
    "    **eval_config[\"model_evaluator_kwargs\"].to_dict(),\n",
    ")\n",
    "# Build the ModelPlotter.\n",
    "plotter = cdtfmomopl.ModelPlotter(evaluator)"
   ]
  },
  {
   "cell_type": "code",
   "execution_count": null,
   "id": "33b98eec",
   "metadata": {},
   "outputs": [],
   "source": [
    "for i in range(3):\n",
    "    asset_id = result_bundle_dict[i].config[\"load_prices\"][\"source_node_kwargs\"][\n",
    "        \"func_kwargs\"\n",
    "    ][\"asset_id\"]\n",
    "    print(asset_id)\n",
    "\n",
    "import datetime\n",
    "\n",
    "import pandas as pd"
   ]
  },
  {
   "cell_type": "code",
   "execution_count": null,
   "id": "a89199bd",
   "metadata": {},
   "outputs": [],
   "source": [
    "import vendors_lime.taq_bars.utils as vltbut"
   ]
  },
  {
   "cell_type": "code",
   "execution_count": null,
   "id": "b639885c",
   "metadata": {},
   "outputs": [],
   "source": [
    "# Load the 1min data.\n",
    "asset_id = 10025\n",
    "# asset_id = 10035\n",
    "# asset_id = 10036\n",
    "columns = [\n",
    "    \"end_time\",\n",
    "    \"close\",\n",
    "    \"volume\",\n",
    "    \"egid\",\n",
    "    \"good_ask\",\n",
    "    \"good_bid\",\n",
    "    \"good_bid_size\",\n",
    "    \"good_ask_size\",\n",
    "]\n",
    "cache_dir = \"/cache/vltbut.get_bar_data.v2_1-all.2009_2019.20210907-07_52_53/cache.get_bar_data.v2_0-all.2009_2019\"\n",
    "df_1min = vltbut.load_single_instrument_data(\n",
    "    asset_id,\n",
    "    datetime.date(2009, 1, 1),\n",
    "    datetime.date(2019, 1, 1),\n",
    "    columns=columns,\n",
    "    cache_dir=cache_dir,\n",
    ")\n",
    "\n",
    "df_1min.head()"
   ]
  },
  {
   "cell_type": "code",
   "execution_count": null,
   "id": "277fbbe9",
   "metadata": {},
   "outputs": [],
   "source": [
    "columns = [\"close\", \"good_bid\", \"good_ask\"]\n",
    "df_1min[columns].resample(\"1B\").mean().plot()\n",
    "df_1min[columns].pct_change().resample(\"1B\").mean().plot()\n",
    "thr = 0.002\n",
    "df_1min_clean = vltbut.clean_bars(df_1min, columns, thr)\n",
    "\n",
    "df_1min_clean[columns].resample(\"1B\").mean().plot()\n",
    "df_1min_clean[columns].pct_change().resample(\"1B\").mean().plot()"
   ]
  },
  {
   "cell_type": "code",
   "execution_count": null,
   "id": "83196303",
   "metadata": {},
   "outputs": [],
   "source": [
    "# thr = 0.001\n",
    "# for column in columns:\n",
    "#     lower_bound = df_1min[column].quantile(thr)\n",
    "#     upper_bound = df_1min[column].quantile(1.0 - thr)\n",
    "#     mask = (df_1min[column] <= lower_bound) | (df_1min[column] >= upper_bound)\n",
    "#     #print(mask)\n",
    "#     #df_1min.loc[mask].resample(\"1B\").mean().plot()\n",
    "#     df_1min[mask] = np.nan\n",
    "# #df_1min[df_1min <= lower_bound] = np.nan\n",
    "\n",
    "# #df_1min[[\"good_ask\", \"good_bid\", \"close\"]].quantile(0.99)\n",
    "# df_1min[[\"good_ask\", \"good_bid\", \"close\"]].resample(\"1B\").mean().plot()\n",
    "# #df_1min[[\"close\"]].resample(\"1B\").mean().plot()"
   ]
  },
  {
   "cell_type": "code",
   "execution_count": null,
   "id": "cdca93c2",
   "metadata": {},
   "outputs": [],
   "source": [
    "# mask = df_1min[\"close\"] < 0.40\n",
    "# df_1min[mask]\n",
    "\n",
    "# ret_0 = df_1min.pct_change()\n",
    "# ret_0.resample(\"1B\").mean().plot()"
   ]
  },
  {
   "cell_type": "code",
   "execution_count": null,
   "id": "e83ffee0",
   "metadata": {},
   "outputs": [],
   "source": [
    "# #mad_func = lambda x: np.fabs(x - x.mean()).mean()\n",
    "# #mad = df_1min[\"close\"].dropna().rolling(window=60).apply(mad_func, raw=True)\n",
    "\n",
    "# mad = df_1min[\"close\"].dropna().rolling(window=60).quantile(.01)\n",
    "\n",
    "# #df_1min[\"close\"] +\n",
    "# #.plot(style='k')\n",
    "\n",
    "# mad.resample(\"1B\").mean().plot()"
   ]
  },
  {
   "cell_type": "code",
   "execution_count": null,
   "id": "a99592f7",
   "metadata": {},
   "outputs": [],
   "source": [
    "# df_1min[\"close\"].hist(bins=101)\n",
    "# df_1min[[\"close\"]].min()"
   ]
  },
  {
   "cell_type": "code",
   "execution_count": null,
   "id": "2f00ccd2",
   "metadata": {},
   "outputs": [],
   "source": [
    "df_1min_out = (\n",
    "    df_1min_clean[columns].resample(\"1T\", closed=\"right\", label=\"right\").mean()\n",
    ")\n",
    "# mask = df_1min_out < 0.40\n",
    "# df_1min_out = df_1min_out[~mask]\n",
    "\n",
    "df_1min_out.fillna(method=\"ffill\", limit=None, inplace=True)\n",
    "# .sum(min_count=1) #.replace(np.nan, 0)\n",
    "\n",
    "df_1min_out.columns = [\"price\", \"bid\", \"ask\"]\n",
    "df_1min_out.resample(\"1B\").mean().plot()\n",
    "\n",
    "df_1min_out.dropna().head()"
   ]
  },
  {
   "cell_type": "code",
   "execution_count": null,
   "id": "308a3f21",
   "metadata": {},
   "outputs": [],
   "source": [
    "# df_1min_out[\"price\"].hist(bins=101)"
   ]
  },
  {
   "cell_type": "code",
   "execution_count": null,
   "id": "7ed37fe8",
   "metadata": {},
   "outputs": [],
   "source": [
    "df_price = df_1min_out.resample(\"5T\", closed=\"right\", label=\"right\").last()\n",
    "df_price[\"ret_0\"] = df_price[\"price\"].pct_change()\n",
    "df_price.resample(\"1D\").mean().plot()"
   ]
  },
  {
   "cell_type": "code",
   "execution_count": null,
   "id": "81eb34ad",
   "metadata": {},
   "outputs": [],
   "source": [
    "# import pandas as pd\n",
    "# df_5mins.loc[pd.Timestamp(\"2009-01-02 17:00:00-05:00\")]"
   ]
  },
  {
   "cell_type": "code",
   "execution_count": null,
   "id": "1c2a5632",
   "metadata": {},
   "outputs": [],
   "source": [
    "# df_1min_out.loc[pd.Timestamp(\"2009-01-05 13:40:00-05:00\"):pd.Timestamp(\"2009-01-05 14:00:00-05:00\")]"
   ]
  },
  {
   "cell_type": "code",
   "execution_count": null,
   "id": "46776ee8",
   "metadata": {},
   "outputs": [],
   "source": [
    "df_1min_out[\"midpoint\"] = (df_1min_out[\"bid\"] + df_1min_out[\"ask\"]) / 2"
   ]
  },
  {
   "cell_type": "code",
   "execution_count": null,
   "id": "9eb186b5",
   "metadata": {},
   "outputs": [],
   "source": [
    "df_1min_out.head()"
   ]
  },
  {
   "cell_type": "code",
   "execution_count": null,
   "id": "2290c7ac",
   "metadata": {},
   "outputs": [],
   "source": [
    "import oms.pnl_simulator as opnlsimu\n",
    "\n",
    "df_5mins = result_bundle_dict[0].result_df[[\"mid_ret_0_vol_adj_clipped_2_hat\"]]\n",
    "df_5mins.columns = [\"preds\"]\n",
    "df_5mins.dropna(inplace=True)\n",
    "\n",
    "\n",
    "initial_wealth = 1e6\n",
    "config = {\n",
    "    \"price_column\": \"price\",\n",
    "    \"future_snoop_allocation\": False,\n",
    "    \"order_type\": \"price@end\",\n",
    "    # \"order_type\": \"midpoint@end\",\n",
    "    # \"order_type\": \"full_spread@end\",\n",
    "    \"use_cache\": True,\n",
    "    \"cached_columns\": [\"price\", \"midpoint\", \"bid\", \"ask\"],\n",
    "}\n",
    "mi = opnlsimu.MarketInterface(\n",
    "    df_1min_out, config[\"use_cache\"], columns=config.get(\"cached_columns\", None)\n",
    ")"
   ]
  },
  {
   "cell_type": "code",
   "execution_count": null,
   "id": "cac4145d",
   "metadata": {},
   "outputs": [],
   "source": [
    "df_5mins_out = opnlsimu.compute_pnl_level2(mi, df_5mins, initial_wealth, config)\n",
    "# wealth, ret, df_5mins_out = opnlsimu.compute_pnl_level1(initial_wealth, df_1min_out, df_5mins)\n",
    "\n",
    "df_5mins_out[\"wealth\"].resample(\"1B\").mean().plot()  # [\"2012-01-01\":].plot()"
   ]
  },
  {
   "cell_type": "code",
   "execution_count": null,
   "id": "fcec673b",
   "metadata": {},
   "outputs": [],
   "source": [
    "config[\"order_type\"] = \"midpoint@end\"\n",
    "df_5mins_out = opnlsimu.compute_pnl_level2(mi, df_5mins, initial_wealth, config)\n",
    "# wealth, ret, df_5mins_out = opnlsimu.compute_pnl_level1(initial_wealth, df_1min_out, df_5mins)\n",
    "\n",
    "df_5mins_out[\"wealth\"].resample(\"1B\").mean().plot()  # [\"2012-01-01\":].plot()"
   ]
  },
  {
   "cell_type": "code",
   "execution_count": null,
   "id": "ccda800b",
   "metadata": {
    "lines_to_next_cell": 2
   },
   "outputs": [],
   "source": [
    "config[\"order_type\"] = \"midpoint@twap\"\n",
    "df_5mins_out = opnlsimu.compute_pnl_level2(mi, df_5mins, initial_wealth, config)\n",
    "\n",
    "df_5mins_out[\"wealth\"].resample(\"1B\").mean().plot()  # [\"2012-01-01\":].plot()"
   ]
  },
  {
   "cell_type": "code",
   "execution_count": null,
   "id": "34e0ab95",
   "metadata": {},
   "outputs": [],
   "source": [
    "config[\"order_type\"] = \"partial_spread_0.5@end\"\n",
    "df_5mins_out = opnlsimu.compute_pnl_level2(mi, df_5mins, initial_wealth, config)\n",
    "# wealth, ret, df_5mins_out = opnlsimu.compute_pnl_level1(initial_wealth, df_1min_out, df_5mins)\n",
    "\n",
    "df_5mins_out[\"wealth\"].resample(\"1B\").mean().plot()  # [\"2012-01-01\":].plot()"
   ]
  },
  {
   "cell_type": "code",
   "execution_count": null,
   "id": "79710abc",
   "metadata": {},
   "outputs": [],
   "source": [
    "config[\"order_type\"] = \"partial_spread_0.0@end\"\n",
    "df_5mins_out = opnlsimu.compute_pnl_level2(mi, df_5mins, initial_wealth, config)\n",
    "# wealth, ret, df_5mins_out = opnlsimu.compute_pnl_level1(initial_wealth, df_1min_out, df_5mins)\n",
    "\n",
    "df_5mins_out[\"wealth\"].resample(\"1b\").mean().plot()  # [\"2012-01-01\":].plot()"
   ]
  },
  {
   "cell_type": "code",
   "execution_count": null,
   "id": "992d1071",
   "metadata": {},
   "outputs": [],
   "source": [
    "config[\"order_type\"] = \"partial_spread_0.3@end\"\n",
    "df_5mins_out = opnlsimu.compute_pnl_level2(mi, df_5mins, initial_wealth, config)\n",
    "df_5mins_out[\"wealth\"].resample(\"1b\").mean().plot()  # [\"2012-01-01\":].plot()"
   ]
  },
  {
   "cell_type": "code",
   "execution_count": null,
   "id": "69b1906d",
   "metadata": {},
   "outputs": [],
   "source": [
    "config[\"order_type\"] = \"partial_spread_0.51@end\"\n",
    "df_5mins_out = opnlsimu.compute_pnl_level2(mi, df_5mins, initial_wealth, config)\n",
    "df_5mins_out[\"wealth\"].resample(\"1b\").mean().plot()  # [\"2012-01-01\":].plot()"
   ]
  },
  {
   "cell_type": "code",
   "execution_count": null,
   "id": "39510f3c",
   "metadata": {},
   "outputs": [],
   "source": [
    "config[\"order_type\"] = \"full_spread@end\"\n",
    "df_5mins_out = opnlsimu.compute_pnl_level2(mi, df_5mins, initial_wealth, config)\n",
    "# wealth, ret, df_5mins_out = opnlsimu.compute_pnl_level1(initial_wealth, df_1min_out, df_5mins)\n",
    "\n",
    "df_5mins_out[\"wealth\"].resample(\"1B\").mean().plot()  # [\"2012-01-01\":].plot()"
   ]
  },
  {
   "cell_type": "code",
   "execution_count": null,
   "id": "935c6396",
   "metadata": {},
   "outputs": [],
   "source": [
    "df_all2 = pd.DataFrame()\n",
    "for order_type in [\"partial_spread_0.5@end\", \"midpoint@end\", \"midpoint@twap\"]:\n",
    "    config[\"order_type\"] = order_type\n",
    "    df_5mins_out = opnlsimu.compute_pnl_level2(\n",
    "        mi, df_5mins, initial_wealth, config\n",
    "    )\n",
    "    df_all2[order_type] = df_5mins_out[\"wealth\"]\n",
    "\n",
    "df_all2.resample(\"1B\").mean().plot()  # [\"2012-01-01\":].plot()"
   ]
  },
  {
   "cell_type": "code",
   "execution_count": null,
   "id": "75567d1a",
   "metadata": {},
   "outputs": [],
   "source": [
    "df_all = pd.DataFrame()\n",
    "for order_type in [\n",
    "    # \"partial_spread_0.3@end\",\n",
    "    # \"partial_spread_0.4@end\",\n",
    "    \"partial_spread_0.45@end\",\n",
    "    \"partial_spread_0.5@end\",\n",
    "    \"partial_spread_0.51@end\",\n",
    "    \"partial_spread_0.52@end\",\n",
    "    \"partial_spread_0.53@end\",\n",
    "]:\n",
    "    config[\"order_type\"] = order_type\n",
    "    df_5mins_out = opnlsimu.compute_pnl_level2(\n",
    "        mi, df_5mins, initial_wealth, config\n",
    "    )\n",
    "    df_all[order_type] = df_5mins_out[\"wealth\"]\n",
    "\n",
    "df_all.resample(\"1B\").mean().plot()  # [\"2012-01-01\":].plot()"
   ]
  },
  {
   "cell_type": "code",
   "execution_count": null,
   "id": "04d2d6c8",
   "metadata": {},
   "outputs": [],
   "source": [
    "df_5mins_out.tail()"
   ]
  },
  {
   "cell_type": "code",
   "execution_count": null,
   "id": "fe59b3df",
   "metadata": {},
   "outputs": [],
   "source": [
    "df_5mins_out[\"wealth\"].resample(\"1B\").mean().plot()  # [\"2012-01-01\":].plot()"
   ]
  },
  {
   "cell_type": "code",
   "execution_count": null,
   "id": "6a6ce58c",
   "metadata": {},
   "outputs": [],
   "source": [
    "df_5mins_out[\"wealth\"].resample(\"1B\").mean().plot()  # [\"2012-01-01\":].plot()"
   ]
  },
  {
   "cell_type": "code",
   "execution_count": null,
   "id": "62babdb5",
   "metadata": {},
   "outputs": [],
   "source": [
    "df_5mins_merged = df_5mins_out.merge(df_price, right_index=True, left_index=True)\n",
    "\n",
    "_, df_5mins_merged = opnlsimu.compute_lag_pnl(df_5mins_merged)\n",
    "# display(df_5mins_merged)\n",
    "# df_5mins_merged[\"pnl.lag\"].cumsum().plot()\n",
    "df_5mins_merged[\"pnl.sim1\"].cumsum().plot()"
   ]
  },
  {
   "cell_type": "code",
   "execution_count": null,
   "id": "f6166fc8",
   "metadata": {},
   "outputs": [],
   "source": [
    "df_5mins_out"
   ]
  },
  {
   "cell_type": "code",
   "execution_count": null,
   "id": "10cf6b01",
   "metadata": {},
   "outputs": [],
   "source": []
  },
  {
   "cell_type": "markdown",
   "id": "2ab68b06",
   "metadata": {},
   "source": [
    "# Analysis"
   ]
  },
  {
   "cell_type": "code",
   "execution_count": null,
   "id": "f353ea8a",
   "metadata": {},
   "outputs": [],
   "source": [
    "pnl_stats = evaluator.calculate_stats(\n",
    "    mode=eval_config[\"mode\"], target_volatility=eval_config[\"target_volatility\"]\n",
    ")\n",
    "display(pnl_stats)"
   ]
  },
  {
   "cell_type": "markdown",
   "id": "c36bf064",
   "metadata": {},
   "source": [
    "## Model selection"
   ]
  },
  {
   "cell_type": "code",
   "execution_count": null,
   "id": "b6fecfb5",
   "metadata": {},
   "outputs": [],
   "source": [
    "plotter.plot_multiple_tests_adjustment(\n",
    "    threshold=eval_config[\"bh_adj_threshold\"], mode=eval_config[\"mode\"]\n",
    ")"
   ]
  },
  {
   "cell_type": "code",
   "execution_count": null,
   "id": "b5b44ae9",
   "metadata": {},
   "outputs": [],
   "source": [
    "# TODO(gp): Move this chunk of code in a function.\n",
    "col_mask = (\n",
    "    pnl_stats.loc[\"signal_quality\"].loc[\"sr.adj_pval\"]\n",
    "    < eval_config[\"bh_adj_threshold\"]\n",
    ")\n",
    "selected = pnl_stats.loc[:, col_mask].columns.to_list()\n",
    "not_selected = pnl_stats.loc[:, ~col_mask].columns.to_list()\n",
    "\n",
    "print(\"num model selected=%s\" % hprint.perc(len(selected), pnl_stats.shape[1]))\n",
    "print(\"model selected=%s\" % selected)\n",
    "print(\"model not selected=%s\" % not_selected)\n",
    "\n",
    "# Use `selected = None` to show all the models."
   ]
  },
  {
   "cell_type": "code",
   "execution_count": null,
   "id": "1736ff88",
   "metadata": {},
   "outputs": [],
   "source": [
    "plotter.plot_multiple_pnls(\n",
    "    keys=selected,\n",
    "    resample_rule=eval_config[\"resample_rule\"],\n",
    "    mode=eval_config[\"mode\"],\n",
    ")"
   ]
  },
  {
   "cell_type": "markdown",
   "id": "9821d152",
   "metadata": {},
   "source": [
    "## Return correlation"
   ]
  },
  {
   "cell_type": "code",
   "execution_count": null,
   "id": "1d0698e1",
   "metadata": {},
   "outputs": [],
   "source": [
    "plotter.plot_correlation_matrix(\n",
    "    series=\"returns\",\n",
    "    resample_rule=eval_config[\"resample_rule\"],\n",
    "    mode=eval_config[\"mode\"],\n",
    ")"
   ]
  },
  {
   "cell_type": "code",
   "execution_count": null,
   "id": "749d6378",
   "metadata": {},
   "outputs": [],
   "source": [
    "plotter.plot_effective_correlation_rank(\n",
    "    series=\"returns\",\n",
    "    resample_rule=eval_config[\"resample_rule\"],\n",
    "    mode=eval_config[\"mode\"],\n",
    ")"
   ]
  },
  {
   "cell_type": "markdown",
   "id": "4a7c60d9",
   "metadata": {},
   "source": [
    "## Model correlation"
   ]
  },
  {
   "cell_type": "code",
   "execution_count": null,
   "id": "c5e7659a",
   "metadata": {},
   "outputs": [],
   "source": [
    "plotter.plot_correlation_matrix(\n",
    "    series=\"pnl\",\n",
    "    resample_rule=eval_config[\"resample_rule\"],\n",
    "    mode=eval_config[\"mode\"],\n",
    ")"
   ]
  },
  {
   "cell_type": "code",
   "execution_count": null,
   "id": "b7938396",
   "metadata": {},
   "outputs": [],
   "source": [
    "plotter.plot_effective_correlation_rank(\n",
    "    series=\"pnl\",\n",
    "    resample_rule=eval_config[\"resample_rule\"],\n",
    "    mode=eval_config[\"mode\"],\n",
    ")"
   ]
  },
  {
   "cell_type": "markdown",
   "id": "215ed5cc",
   "metadata": {},
   "source": [
    "## Aggregate model"
   ]
  },
  {
   "cell_type": "code",
   "execution_count": null,
   "id": "c23ae6ee",
   "metadata": {},
   "outputs": [],
   "source": [
    "pnl_srs, pos_srs, aggregate_stats = evaluator.aggregate_models(\n",
    "    keys=selected,\n",
    "    mode=eval_config[\"mode\"],\n",
    "    target_volatility=eval_config[\"target_volatility\"],\n",
    ")\n",
    "display(aggregate_stats)"
   ]
  },
  {
   "cell_type": "code",
   "execution_count": null,
   "id": "c61ac477",
   "metadata": {},
   "outputs": [],
   "source": [
    "plotter.plot_sharpe_ratio_panel(keys=selected, mode=eval_config[\"mode\"])"
   ]
  },
  {
   "cell_type": "code",
   "execution_count": null,
   "id": "e6ab0618",
   "metadata": {},
   "outputs": [],
   "source": [
    "plotter.plot_rets_signal_analysis(\n",
    "    keys=selected,\n",
    "    resample_rule=eval_config[\"resample_rule\"],\n",
    "    mode=eval_config[\"mode\"],\n",
    "    target_volatility=eval_config[\"target_volatility\"],\n",
    ")"
   ]
  },
  {
   "cell_type": "code",
   "execution_count": null,
   "id": "17854931",
   "metadata": {},
   "outputs": [],
   "source": [
    "plotter.plot_performance(\n",
    "    keys=selected,\n",
    "    resample_rule=eval_config[\"resample_rule\"],\n",
    "    mode=eval_config[\"mode\"],\n",
    "    target_volatility=eval_config[\"target_volatility\"],\n",
    ")"
   ]
  },
  {
   "cell_type": "code",
   "execution_count": null,
   "id": "27a3a550",
   "metadata": {},
   "outputs": [],
   "source": [
    "plotter.plot_rets_and_vol(\n",
    "    keys=selected,\n",
    "    resample_rule=eval_config[\"resample_rule\"],\n",
    "    mode=eval_config[\"mode\"],\n",
    "    target_volatility=eval_config[\"target_volatility\"],\n",
    ")"
   ]
  },
  {
   "cell_type": "code",
   "execution_count": null,
   "id": "fbc20dd2",
   "metadata": {},
   "outputs": [],
   "source": [
    "assert 0"
   ]
  },
  {
   "cell_type": "code",
   "execution_count": null,
   "id": "628273de",
   "metadata": {},
   "outputs": [],
   "source": [
    "plotter.plot_positions(\n",
    "    keys=selected,\n",
    "    mode=eval_config[\"mode\"],\n",
    "    target_volatility=eval_config[\"target_volatility\"],\n",
    ")"
   ]
  },
  {
   "cell_type": "code",
   "execution_count": null,
   "id": "00e9e05f",
   "metadata": {},
   "outputs": [],
   "source": [
    "# Plot the returns and prediction for one or more models.\n",
    "model_key = selected[:1]\n",
    "plotter.plot_returns_and_predictions(\n",
    "    keys=model_key,\n",
    "    resample_rule=eval_config[\"resample_rule\"],\n",
    "    mode=eval_config[\"mode\"],\n",
    ")"
   ]
  }
 ],
 "metadata": {
  "kernelspec": {
   "display_name": "Python 3 (ipykernel)",
   "language": "python",
   "name": "python3"
  },
  "language_info": {
   "codemirror_mode": {
    "name": "ipython",
    "version": 3
   },
   "file_extension": ".py",
   "mimetype": "text/x-python",
   "name": "python",
   "nbconvert_exporter": "python",
   "pygments_lexer": "ipython3"
  },
  "toc": {
   "base_numbering": 1,
   "nav_menu": {},
   "number_sections": true,
   "sideBar": true,
   "skip_h1_title": false,
   "title_cell": "Table of Contents",
   "title_sidebar": "Contents",
   "toc_cell": false,
   "toc_position": {},
   "toc_section_display": true,
   "toc_window_display": false
  }
 },
 "nbformat": 4,
 "nbformat_minor": 5
}
