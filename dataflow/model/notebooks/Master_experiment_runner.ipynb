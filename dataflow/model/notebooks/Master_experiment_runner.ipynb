{
 "cells": [
  {
   "cell_type": "markdown",
   "metadata": {},
   "source": [
    "# Description\n",
    "\n",
    "This notebook is the entry point for `run_notebook.py`\n",
    "It is conceptually equivalent to `core/dataflow_model/master_experiment.py` for the `run_experiment.py` flow\n",
    "\n",
    "This notebook:\n",
    "- get a config from the environment\n",
    "- create a DAG from the passed config\n",
    "- run the DAG\n",
    "- save the generated `ResultBundle`"
   ]
  },
  {
   "cell_type": "code",
   "execution_count": null,
   "metadata": {},
   "outputs": [],
   "source": [
    "%load_ext autoreload\n",
    "%autoreload 2\n",
    "\n",
    "import logging\n",
    "import os\n",
    "\n",
    "import core.config as cconfig\n",
    "import dataflow as cdataf\n",
    "import helpers.hdbg as dbg\n",
    "import helpers.henv as henv\n",
    "import helpers.hpickle as hpickl\n",
    "import helpers.hprint as hprint"
   ]
  },
  {
   "cell_type": "code",
   "execution_count": null,
   "metadata": {},
   "outputs": [],
   "source": [
    "dbg.init_logger(verbosity=logging.INFO)\n",
    "\n",
    "_LOG = logging.getLogger(__name__)\n",
    "\n",
    "_LOG.info(\"%s\", henv.get_system_signature()[0])\n",
    "\n",
    "hprint.config_notebook()"
   ]
  },
  {
   "cell_type": "code",
   "execution_count": null,
   "metadata": {},
   "outputs": [],
   "source": [
    "config = cconfig.get_config_from_env()"
   ]
  },
  {
   "cell_type": "code",
   "execution_count": null,
   "metadata": {},
   "outputs": [],
   "source": [
    "dag_config = config.pop(\"DAG\")"
   ]
  },
  {
   "cell_type": "code",
   "execution_count": null,
   "metadata": {},
   "outputs": [],
   "source": [
    "dag_runner = cdataf.PredictionDagRunner(dag_config, config[\"meta\"][\"dag_builder\"])"
   ]
  },
  {
   "cell_type": "code",
   "execution_count": null,
   "metadata": {},
   "outputs": [],
   "source": [
    "cdataf.draw(dag_runner.dag)"
   ]
  },
  {
   "cell_type": "code",
   "execution_count": null,
   "metadata": {},
   "outputs": [],
   "source": [
    "if \"set_fit_intervals\" in config[\"meta\"].to_dict():\n",
    "    dag_runner.set_fit_intervals(\n",
    "        **config[\"meta\", \"set_fit_intervals\", \"func_kwargs\"].to_dict()\n",
    "    )\n",
    "if \"set_predict_intervals\" in config[\"meta\"].to_dict():\n",
    "    dag_runner.set_predict_intervals(\n",
    "        **config[\"meta\", \"set_predict_intervals\", \"func_kwargs\"].to_dict()\n",
    "    )"
   ]
  },
  {
   "cell_type": "code",
   "execution_count": null,
   "metadata": {},
   "outputs": [],
   "source": [
    "fit_result_bundle = dag_runner.fit()"
   ]
  },
  {
   "cell_type": "code",
   "execution_count": null,
   "metadata": {},
   "outputs": [],
   "source": [
    "payload = cconfig.get_config_from_nested_dict({\"config\": config})"
   ]
  },
  {
   "cell_type": "code",
   "execution_count": null,
   "metadata": {},
   "outputs": [],
   "source": [
    "if \"run_oos\" in config[\"meta\"].to_dict().keys() and config[\"meta\"]:\n",
    "    result_bundle = dag_runner.predict()\n",
    "    payload[\"fit_result_bundle\"] = fit_result_bundle.to_config()\n",
    "else:\n",
    "    result_bundle = fit_result_bundle"
   ]
  },
  {
   "cell_type": "code",
   "execution_count": null,
   "metadata": {},
   "outputs": [],
   "source": [
    "result_bundle.payload = payload"
   ]
  },
  {
   "cell_type": "code",
   "execution_count": null,
   "metadata": {},
   "outputs": [],
   "source": [
    "# TODO(gp): Use  `cdtfut.save_experiment_result_bundle(config, result_bundle)`\n",
    "try:\n",
    "    path = os.path.join(\n",
    "        config[\"meta\", \"experiment_result_dir\"], \"result_bundle.pkl\"\n",
    "    )\n",
    "    if True:\n",
    "        hpickl.to_pickle(result_bundle.to_config().to_dict(), path)\n",
    "except AssertionError:\n",
    "    _LOG.warning(\"Unable to serialize results.\")"
   ]
  }
 ],
 "metadata": {
  "jupytext": {
   "text_representation": {
    "extension": ".py",
    "format_name": "percent",
    "format_version": "1.3",
    "jupytext_version": "1.11.2"
   }
  },
  "kernelspec": {
   "display_name": "Python 3 (ipykernel)",
   "language": "python",
   "name": "python3"
  },
  "language_info": {
   "codemirror_mode": {
    "name": "ipython",
    "version": 3
   },
   "file_extension": ".py",
   "mimetype": "text/x-python",
   "name": "python",
   "nbconvert_exporter": "python",
   "pygments_lexer": "ipython3"
  },
  "toc": {
   "base_numbering": 1,
   "nav_menu": {},
   "number_sections": true,
   "sideBar": true,
   "skip_h1_title": false,
   "title_cell": "Table of Contents",
   "title_sidebar": "Contents",
   "toc_cell": false,
   "toc_position": {},
   "toc_section_display": true,
   "toc_window_display": false
  }
 },
 "nbformat": 4,
 "nbformat_minor": 4
}
