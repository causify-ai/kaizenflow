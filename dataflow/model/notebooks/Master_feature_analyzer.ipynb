{
 "cells": [
  {
   "cell_type": "markdown",
   "id": "126c8435",
   "metadata": {},
   "source": [
    "# Imports"
   ]
  },
  {
   "cell_type": "code",
   "execution_count": null,
   "id": "abf41299",
   "metadata": {},
   "outputs": [],
   "source": [
    "%load_ext autoreload\n",
    "%autoreload 2\n",
    "\n",
    "import logging\n",
    "\n",
    "import core.plotting as coplotti\n",
    "import dataflow.backtest.dataflow_backtest_utils as dtfbdtfbaut\n",
    "import dataflow.model.stats_computer as dtfmostcom\n",
    "import helpers.hdbg as hdbg\n",
    "import helpers.hprint as hprint"
   ]
  },
  {
   "cell_type": "code",
   "execution_count": null,
   "id": "eee79ad8",
   "metadata": {},
   "outputs": [],
   "source": [
    "hdbg.init_logger(verbosity=logging.INFO)\n",
    "# hdbg.init_logger(verbosity=logging.DEBUG)\n",
    "\n",
    "_LOG = logging.getLogger(__name__)\n",
    "\n",
    "# _LOG.info(\"%s\", env.get_system_signature()[0])\n",
    "\n",
    "hprint.config_notebook()"
   ]
  },
  {
   "cell_type": "markdown",
   "id": "c0c17e86",
   "metadata": {},
   "source": [
    "# Load features"
   ]
  },
  {
   "cell_type": "code",
   "execution_count": null,
   "id": "c0f0e20b",
   "metadata": {},
   "outputs": [],
   "source": [
    "feat_iter = dtfbdtfbaut.yield_experiment_artifacts(\n",
    "    src_dir=\"\",\n",
    "    file_name=\"result_bundle.v2_0.pkl\",\n",
    "    load_rb_kwargs={},\n",
    ")"
   ]
  },
  {
   "cell_type": "code",
   "execution_count": null,
   "id": "1724d798",
   "metadata": {},
   "outputs": [],
   "source": [
    "key, artifact = next(feat_iter)\n",
    "display(\"key=%s\", key)\n",
    "features = artifact.result_df"
   ]
  },
  {
   "cell_type": "code",
   "execution_count": null,
   "id": "6111f39c",
   "metadata": {},
   "outputs": [],
   "source": [
    "features.head()"
   ]
  },
  {
   "cell_type": "markdown",
   "id": "21fe46b1",
   "metadata": {},
   "source": [
    "# Cross-sectional feature analysis"
   ]
  },
  {
   "cell_type": "code",
   "execution_count": null,
   "id": "32f09c9a",
   "metadata": {},
   "outputs": [],
   "source": [
    "coplotti.plot_heatmap(features.corr(), mode=\"clustermap\", figsize=(20, 20))"
   ]
  },
  {
   "cell_type": "code",
   "execution_count": null,
   "id": "ef8c6c29",
   "metadata": {},
   "outputs": [],
   "source": [
    "coplotti.plot_effective_correlation_rank(features)"
   ]
  },
  {
   "cell_type": "code",
   "execution_count": null,
   "id": "29362b8b",
   "metadata": {},
   "outputs": [],
   "source": [
    "coplotti.plot_projection(features.resample(\"B\").sum(min_count=1))"
   ]
  },
  {
   "cell_type": "code",
   "execution_count": null,
   "id": "6fcd7c6a",
   "metadata": {},
   "outputs": [],
   "source": [
    "sc = dtfmostcom.StatsComputer()"
   ]
  },
  {
   "cell_type": "code",
   "execution_count": null,
   "id": "c90a3a85",
   "metadata": {},
   "outputs": [],
   "source": [
    "features.apply(sc.compute_summary_stats).round(3)"
   ]
  },
  {
   "cell_type": "markdown",
   "id": "935c6604",
   "metadata": {},
   "source": [
    "# Single feature analysis"
   ]
  },
  {
   "cell_type": "code",
   "execution_count": null,
   "id": "fc70ed1c",
   "metadata": {},
   "outputs": [],
   "source": [
    "feature = \"\""
   ]
  },
  {
   "cell_type": "code",
   "execution_count": null,
   "id": "e89d1de7",
   "metadata": {},
   "outputs": [],
   "source": [
    "coplotti.plot_qq(features[feature])"
   ]
  },
  {
   "cell_type": "code",
   "execution_count": null,
   "id": "7e51b114",
   "metadata": {},
   "outputs": [],
   "source": [
    "coplotti.plot_histograms_and_lagged_scatterplot(\n",
    "    features[feature], lag=1, figsize=(20, 20)\n",
    ")"
   ]
  },
  {
   "cell_type": "code",
   "execution_count": null,
   "id": "8ec7fca2",
   "metadata": {},
   "outputs": [],
   "source": [
    "coplotti.plot_time_series_by_period(\n",
    "    features[feature],\n",
    "    \"hour\",\n",
    ")"
   ]
  },
  {
   "cell_type": "code",
   "execution_count": null,
   "id": "fde02ad1",
   "metadata": {},
   "outputs": [],
   "source": []
  }
 ],
 "metadata": {
  "kernelspec": {
   "display_name": "Python 3 (ipykernel)",
   "language": "python",
   "name": "python3"
  },
  "language_info": {
   "codemirror_mode": {
    "name": "ipython",
    "version": 3
   },
   "file_extension": ".py",
   "mimetype": "text/x-python",
   "name": "python",
   "nbconvert_exporter": "python",
   "pygments_lexer": "ipython3"
  },
  "toc": {
   "base_numbering": 1,
   "nav_menu": {},
   "number_sections": true,
   "sideBar": true,
   "skip_h1_title": false,
   "title_cell": "Table of Contents",
   "title_sidebar": "Contents",
   "toc_cell": false,
   "toc_position": {},
   "toc_section_display": true,
   "toc_window_display": false
  }
 },
 "nbformat": 4,
 "nbformat_minor": 5
}
