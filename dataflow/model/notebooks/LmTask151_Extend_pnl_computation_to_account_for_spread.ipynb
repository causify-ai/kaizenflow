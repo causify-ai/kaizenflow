{
 "cells": [
  {
   "cell_type": "code",
   "execution_count": null,
   "id": "bc7f29a1",
   "metadata": {},
   "outputs": [],
   "source": [
    "%load_ext autoreload\n",
    "%autoreload 2\n",
    "\n",
    "import logging\n",
    "\n",
    "import helpers.hdbg as hdbg\n",
    "import helpers.hprint as hprint\n",
    "\n",
    "hprint.config_notebook()\n",
    "\n",
    "# hdbg.init_logger(verbosity=logging.DEBUG)\n",
    "hdbg.init_logger(verbosity=logging.INFO)\n",
    "# hdbg.test_logger()\n",
    "_LOG = logging.getLogger(__name__)"
   ]
  },
  {
   "cell_type": "markdown",
   "id": "912622ca",
   "metadata": {},
   "source": [
    "# Generate random data"
   ]
  },
  {
   "cell_type": "code",
   "execution_count": null,
   "id": "e7f2a496",
   "metadata": {},
   "outputs": [],
   "source": [
    "import numpy as np\n",
    "\n",
    "import oms.pnl_simulator as opnlsimu\n",
    "\n",
    "df = opnlsimu.get_random_market_data(21)\n",
    "\n",
    "display(df.head(3))\n",
    "display(df.tail(3))"
   ]
  },
  {
   "cell_type": "markdown",
   "id": "24b7cac5",
   "metadata": {},
   "source": [
    "## Lag-based PnL vs Level1 simulation"
   ]
  },
  {
   "cell_type": "code",
   "execution_count": null,
   "id": "a86263c4",
   "metadata": {},
   "outputs": [],
   "source": [
    "mode = \"instantaneous\"\n",
    "df_5mins = opnlsimu.resample_data(df, mode)\n",
    "display(df_5mins)"
   ]
  },
  {
   "cell_type": "code",
   "execution_count": null,
   "id": "9b3d1573",
   "metadata": {},
   "outputs": [],
   "source": [
    "df.plot()"
   ]
  },
  {
   "cell_type": "code",
   "execution_count": null,
   "id": "61f808a0",
   "metadata": {},
   "outputs": [],
   "source": [
    "df, df_5mins = opnlsimu.get_example_market_data1()\n",
    "\n",
    "display(df_5mins)"
   ]
  },
  {
   "cell_type": "code",
   "execution_count": null,
   "id": "9cfaedf4",
   "metadata": {},
   "outputs": [],
   "source": [
    "# Compute pnl using simulation.\n",
    "w0 = 100.0\n",
    "final_w, tot_ret, df_5mins = opnlsimu.compute_pnl_level1(w0, df, df_5mins)\n",
    "\n",
    "print(final_w, tot_ret)"
   ]
  },
  {
   "cell_type": "code",
   "execution_count": null,
   "id": "483a4396",
   "metadata": {},
   "outputs": [],
   "source": [
    "# Compute pnl using lags.\n",
    "# df_5mins[\"pnl\"] = df_5mins[\"preds\"] * df_5mins[\"ret_0\"].shift(-2)\n",
    "# tot_ret2 = (1 + df_5mins[\"pnl\"]).prod() - 1\n",
    "# display(df_5mins[:-1])\n",
    "\n",
    "tot_ret2, df_5mins = opnlsimu.compute_lag_pnl(df_5mins)\n",
    "\n",
    "# Check that the results are the same.\n",
    "print(\"tot_ret=\", tot_ret)\n",
    "print(\"tot_ret2=\", tot_ret2)\n",
    "np.testing.assert_almost_equal(tot_ret, tot_ret2)"
   ]
  },
  {
   "cell_type": "markdown",
   "id": "d977e20c",
   "metadata": {},
   "source": [
    "## Lag-based PnL vs Level1 vs Level2 simulation"
   ]
  },
  {
   "cell_type": "code",
   "execution_count": null,
   "id": "caff6a10",
   "metadata": {},
   "outputs": [],
   "source": [
    "mode = \"instantaneous\"\n",
    "df, df_5mins = opnlsimu.get_example_market_data1()\n",
    "\n",
    "# Level 1 sim.\n",
    "initial_wealth = 1000\n",
    "final_w, tot_ret, df_5mins = opnlsimu.compute_pnl_level1(\n",
    "    initial_wealth, df, df_5mins\n",
    ")\n",
    "# Lag-based sim.\n",
    "tot_ret2, df_5mins = opnlsimu.compute_lag_pnl(df_5mins)\n",
    "\n",
    "# Level 2 sim.\n",
    "config = {\n",
    "    \"price_column\": \"price\",\n",
    "    \"future_snoop_allocation\": True,\n",
    "    \"order_type\": \"price.end\",\n",
    "}\n",
    "\n",
    "df_5mins = opnlsimu.compute_pnl_level2(df, df_5mins, initial_wealth, config)\n",
    "\n",
    "df_5mins"
   ]
  }
 ],
 "metadata": {
  "kernelspec": {
   "display_name": "Python 3 (ipykernel)",
   "language": "python",
   "name": "python3"
  },
  "language_info": {
   "codemirror_mode": {
    "name": "ipython",
    "version": 3
   },
   "file_extension": ".py",
   "mimetype": "text/x-python",
   "name": "python",
   "nbconvert_exporter": "python",
   "pygments_lexer": "ipython3"
  },
  "toc": {
   "base_numbering": 1,
   "nav_menu": {},
   "number_sections": true,
   "sideBar": true,
   "skip_h1_title": false,
   "title_cell": "Table of Contents",
   "title_sidebar": "Contents",
   "toc_cell": false,
   "toc_position": {
    "height": "calc(100% - 180px)",
    "left": "10px",
    "top": "150px",
    "width": "165px"
   },
   "toc_section_display": true,
   "toc_window_display": true
  }
 },
 "nbformat": 4,
 "nbformat_minor": 5
}
