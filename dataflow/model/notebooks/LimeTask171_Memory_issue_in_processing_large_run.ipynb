{
 "cells": [
  {
   "cell_type": "markdown",
   "id": "894bd7f4",
   "metadata": {},
   "source": [
    "# Description"
   ]
  },
  {
   "cell_type": "markdown",
   "id": "3e4948ed",
   "metadata": {},
   "source": [
    "- Initialize with returns, alpha, and spread\n",
    "- Evaluate portfolios generated from the alpha"
   ]
  },
  {
   "cell_type": "markdown",
   "id": "4f1dfe0f",
   "metadata": {},
   "source": [
    "# Imports"
   ]
  },
  {
   "cell_type": "code",
   "execution_count": null,
   "id": "618718d5",
   "metadata": {},
   "outputs": [],
   "source": [
    "%load_ext autoreload\n",
    "%autoreload 2\n",
    "\n",
    "import logging\n",
    "\n",
    "import dataflow_model.model_evaluator as cdtfmomoev\n",
    "\n",
    "import core.config as cconfig\n",
    "import helpers.hdbg as hdbg\n",
    "import helpers.hprint as hprint"
   ]
  },
  {
   "cell_type": "code",
   "execution_count": null,
   "id": "55a5059e",
   "metadata": {},
   "outputs": [],
   "source": [
    "hdbg.init_logger(verbosity=logging.INFO)\n",
    "# hdbg.init_logger(verbosity=logging.DEBUG)\n",
    "\n",
    "_LOG = logging.getLogger(__name__)\n",
    "\n",
    "# _LOG.info(\"%s\", env.get_system_signature()[0])\n",
    "\n",
    "hprint.config_notebook()"
   ]
  },
  {
   "cell_type": "markdown",
   "id": "79359cff",
   "metadata": {},
   "source": [
    "# Notebook config"
   ]
  },
  {
   "cell_type": "code",
   "execution_count": null,
   "id": "f11b2967",
   "metadata": {},
   "outputs": [],
   "source": [
    "# Read from env var.\n",
    "eval_config = cconfig.Config.from_env_var(\"AM_CONFIG_CODE\")\n",
    "\n",
    "if eval_config is None:\n",
    "    experiment_dir = \"\"\n",
    "    aws_profile = None\n",
    "    selected_idxs = None\n",
    "\n",
    "    eval_config = cconfig.Config.from_dict(\n",
    "        {\n",
    "            \"load_experiment_kwargs\": {\n",
    "                \"src_dir\": experiment_dir,\n",
    "                \"file_name\": \"result_bundle.v2_0.pkl\",\n",
    "                \"experiment_type\": \"ins_oos\",\n",
    "                \"selected_idxs\": selected_idxs,\n",
    "                \"aws_profile\": aws_profile,\n",
    "            },\n",
    "            \"strategy_evaluator_kwargs\": {\n",
    "                \"returns_col\": \"mid_ret_0\",\n",
    "                \"position_intent_col\": \"position_intent_1\",\n",
    "                \"spread_col\": \"spread\",\n",
    "                \"abort_on_error\": True,\n",
    "            },\n",
    "            \"bh_adj_threshold\": 0.1,\n",
    "            \"resample_rule\": \"W\",\n",
    "        }\n",
    "    )\n",
    "\n",
    "print(str(eval_config))"
   ]
  },
  {
   "cell_type": "code",
   "execution_count": null,
   "id": "73a294a2",
   "metadata": {},
   "outputs": [],
   "source": [
    "# result_bundle_dict[0]"
   ]
  },
  {
   "cell_type": "code",
   "execution_count": null,
   "id": "736dfdf1",
   "metadata": {},
   "outputs": [],
   "source": [
    "# Build the ModelEvaluator from the eval config.\n",
    "evaluator = cdtfmomoev.StrategyEvaluator.from_eval_config(eval_config)"
   ]
  },
  {
   "cell_type": "code",
   "execution_count": null,
   "id": "0005a879",
   "metadata": {},
   "outputs": [],
   "source": [
    "if False:\n",
    "    import helpers.hpickle as hpickle\n",
    "\n",
    "    hpickle.to_pickle(evaluator, \"evaluator.pkl\")"
   ]
  },
  {
   "cell_type": "code",
   "execution_count": null,
   "id": "62f141e8",
   "metadata": {},
   "outputs": [],
   "source": [
    "assert 0"
   ]
  },
  {
   "cell_type": "markdown",
   "id": "ba457894",
   "metadata": {},
   "source": [
    "# Restart from pickle"
   ]
  },
  {
   "cell_type": "code",
   "execution_count": null,
   "id": "ffbe3722",
   "metadata": {},
   "outputs": [],
   "source": [
    "!du -h evaluator.pkl"
   ]
  },
  {
   "cell_type": "code",
   "execution_count": null,
   "id": "25b5ef06",
   "metadata": {},
   "outputs": [],
   "source": [
    "spread_fraction_paid = 0\n",
    "# keys = range(3)\n",
    "keys = None\n",
    "# result = evaluator.compute_pnl(key_type=\"attribute\", keys=keys)\n",
    "pnl_dict = evaluator.compute_pnl(\n",
    "    spread_fraction_paid, keys=keys, key_type=\"instrument\"\n",
    ")\n",
    "\n",
    "# pnl_dict[0]"
   ]
  },
  {
   "cell_type": "code",
   "execution_count": null,
   "id": "1cc15717",
   "metadata": {},
   "outputs": [],
   "source": [
    "# spread_fraction_paid = 0\n",
    "# evaluator.calculate_stats(spread_fraction_paid)\n",
    "\n",
    "import numpy as np"
   ]
  },
  {
   "cell_type": "code",
   "execution_count": null,
   "id": "413c8fe2",
   "metadata": {},
   "outputs": [],
   "source": [
    "import pandas as pd"
   ]
  },
  {
   "cell_type": "code",
   "execution_count": null,
   "id": "fe6e19ae",
   "metadata": {},
   "outputs": [],
   "source": [
    "print(hdbg.get_memory_usage_as_str(None))\n",
    "\n",
    "# del pnl_dict\n",
    "\n",
    "import gc\n",
    "\n",
    "gc.collect()\n",
    "\n",
    "print(hdbg.get_memory_usage_as_str(None))"
   ]
  },
  {
   "cell_type": "code",
   "execution_count": null,
   "id": "d98e0db5",
   "metadata": {},
   "outputs": [],
   "source": [
    "def _compute_pnl_dict(spread_fraction_paid):\n",
    "    # keys = range(3)\n",
    "    keys = None\n",
    "    # result = evaluator.compute_pnl(key_type=\"attribute\", keys=keys)\n",
    "    pnl_dict = evaluator.compute_pnl(\n",
    "        spread_fraction_paid, keys=keys, key_type=\"instrument\"\n",
    "    )\n",
    "    return pnl_dict\n",
    "\n",
    "\n",
    "def _get_pnl_df(pnl_dict):\n",
    "    dfs = []\n",
    "    for key in list(pnl_dict.keys()):\n",
    "        srs = pnl_dict[key][\"pnl_0\"] - pnl_dict[key][\"spread_cost_0\"]\n",
    "        srs.name = key\n",
    "        dfs.append(srs)\n",
    "    df = pd.concat(dfs, axis=1)\n",
    "    # df.resample(\"1B\").sum\n",
    "    return df\n",
    "\n",
    "\n",
    "def _aggregate_pnl(df):\n",
    "    aggr_pnl = (\n",
    "        df.resample(\"1B\")\n",
    "        .sum()\n",
    "        .drop([224, 554, 311, 384, 589, 404], axis=1)\n",
    "        .sum(axis=1)\n",
    "        .cumsum()\n",
    "    )\n",
    "    return aggr_pnl\n",
    "\n",
    "\n",
    "final_df = []\n",
    "for sfp in [-0.05, -0.03, -0.01, 0.0, 0.01, 0.02, 0.03]:\n",
    "    # for sfp in [-0.05, -0.03]:\n",
    "    pnl_dict = _compute_pnl_dict(sfp)\n",
    "\n",
    "    df = _get_pnl_df(pnl_dict)\n",
    "    # print(df.shape)\n",
    "    # df.head()\n",
    "\n",
    "    aggr_df = _aggregate_pnl(df)\n",
    "    # aggr_df.plot()\n",
    "    aggr_df.name = sfp\n",
    "    final_df.append(aggr_df)\n",
    "\n",
    "    print(hdbg.get_memory_usage_as_str(None))"
   ]
  },
  {
   "cell_type": "code",
   "execution_count": null,
   "id": "ef7bd86b",
   "metadata": {},
   "outputs": [],
   "source": [
    "final_df2 = pd.concat(final_df, axis=1)\n",
    "\n",
    "final_df2.plot()"
   ]
  },
  {
   "cell_type": "code",
   "execution_count": null,
   "id": "054a1983",
   "metadata": {},
   "outputs": [],
   "source": [
    "def sr(srs):\n",
    "    return srs.mean() / srs.std() * np.sqrt(252)\n",
    "\n",
    "\n",
    "print(\"ins\", sr(final_df2[:\"2017-01-01\"].diff()))\n",
    "print(\"oos\", sr(final_df2[\"2017-01-01\":].diff()))"
   ]
  },
  {
   "cell_type": "markdown",
   "id": "9ac7c38a",
   "metadata": {},
   "source": [
    "# Compare to event-based"
   ]
  },
  {
   "cell_type": "code",
   "execution_count": null,
   "id": "aee2d9f1",
   "metadata": {},
   "outputs": [],
   "source": [
    "sfp_gp = [0.45, 0.5, 0.51, 0.52, 0.53]\n",
    "sfp_paul = [(x - 0.5) * 2 for x in sfp_gp]\n",
    "print(sfp_paul)\n",
    "final_df = []\n",
    "for sfp in sfp_paul:\n",
    "    # keys = range(3)\n",
    "    keys = [0]\n",
    "    # result = evaluator.compute_pnl(key_type=\"attribute\", keys=keys)\n",
    "    pnl_dict = evaluator.compute_pnl(sfp, keys=keys, key_type=\"instrument\")\n",
    "\n",
    "    key = keys[0]\n",
    "    srs = pnl_dict[key][\"pnl_0\"] - pnl_dict[key][\"spread_cost_0\"]\n",
    "    srs.name = sfp\n",
    "\n",
    "    final_df.append(srs)\n",
    "\n",
    "final_df = pd.concat(final_df, axis=1)\n",
    "\n",
    "final_df.resample(\"1B\").sum().cumsum().plot()"
   ]
  },
  {
   "cell_type": "code",
   "execution_count": null,
   "id": "2dedbcbc",
   "metadata": {},
   "outputs": [],
   "source": [
    "srs.cumsum().plot()"
   ]
  },
  {
   "cell_type": "markdown",
   "id": "da2308a4",
   "metadata": {},
   "source": [
    "# Remove crap"
   ]
  },
  {
   "cell_type": "code",
   "execution_count": null,
   "id": "3ac126b3",
   "metadata": {},
   "outputs": [],
   "source": [
    "pnlf_ = df.resample(\"1B\").sum().diff()\n",
    "\n",
    "pos = abs(pnl_).max()\n",
    "pos\n",
    "# mask = pnl_.tail(1) < 0\n",
    "# pnl_.tail(1)[mask]"
   ]
  },
  {
   "cell_type": "code",
   "execution_count": null,
   "id": "ab2aef2c",
   "metadata": {},
   "outputs": [],
   "source": [
    "# pos.iloc[0].sort_values()\n",
    "pos.sort_values().tail(10)"
   ]
  },
  {
   "cell_type": "code",
   "execution_count": null,
   "id": "7edcecc9",
   "metadata": {},
   "outputs": [],
   "source": [
    "# df.resample(\"1B\").sum().sum(axis=0).argmin()"
   ]
  },
  {
   "cell_type": "code",
   "execution_count": null,
   "id": "46d869a3",
   "metadata": {},
   "outputs": [],
   "source": [
    "# hdbg.get_memory_usage_as_str(None)"
   ]
  },
  {
   "cell_type": "code",
   "execution_count": null,
   "id": "2affefe5",
   "metadata": {},
   "outputs": [],
   "source": [
    "# #df.sum(axis=1).resample(\"1B\").sum().cumsum().plot(color=\"k\")\n",
    "# df.resample(\"1B\").sum().sum(axis=1).cumsum().plot(color=\"k\")"
   ]
  },
  {
   "cell_type": "code",
   "execution_count": null,
   "id": "bff42d66",
   "metadata": {},
   "outputs": [],
   "source": [
    "aggr_pnl = (\n",
    "    df.resample(\"1B\")\n",
    "    .sum()\n",
    "    .drop([224, 554, 311, 384, 589, 404], axis=1)\n",
    "    .sum(axis=1)\n",
    "    .cumsum()\n",
    ")\n",
    "\n",
    "aggr_pnl.plot(color=\"k\")"
   ]
  },
  {
   "cell_type": "code",
   "execution_count": null,
   "id": "88bb66d6",
   "metadata": {},
   "outputs": [],
   "source": [
    "import numpy as np\n",
    "\n",
    "\n",
    "def sr(srs):\n",
    "    return srs.mean() / srs.std() * np.sqrt(252)\n",
    "\n",
    "\n",
    "print(\"ins\", sr(aggr_pnl[:\"2017-01-01\"].diff()))\n",
    "print(\"oos\", sr(aggr_pnl[\"2017-01-01\":].diff()))"
   ]
  },
  {
   "cell_type": "code",
   "execution_count": null,
   "id": "b4608344",
   "metadata": {},
   "outputs": [],
   "source": [
    "aggr_pnl[\"2018-06-06\":].plot()"
   ]
  }
 ],
 "metadata": {
  "kernelspec": {
   "display_name": "Python 3 (ipykernel)",
   "language": "python",
   "name": "python3"
  },
  "language_info": {
   "codemirror_mode": {
    "name": "ipython",
    "version": 3
   },
   "file_extension": ".py",
   "mimetype": "text/x-python",
   "name": "python",
   "nbconvert_exporter": "python",
   "pygments_lexer": "ipython3"
  },
  "toc": {
   "base_numbering": 1,
   "nav_menu": {},
   "number_sections": true,
   "sideBar": true,
   "skip_h1_title": false,
   "title_cell": "Table of Contents",
   "title_sidebar": "Contents",
   "toc_cell": false,
   "toc_position": {},
   "toc_section_display": true,
   "toc_window_display": false
  }
 },
 "nbformat": 4,
 "nbformat_minor": 5
}
