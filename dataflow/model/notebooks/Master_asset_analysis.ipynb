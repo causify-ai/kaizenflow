{
 "cells": [
  {
   "cell_type": "code",
   "execution_count": null,
   "id": "a53c2938",
   "metadata": {},
   "outputs": [],
   "source": [
    "%load_ext autoreload\n",
    "%autoreload 2\n",
    "\n",
    "import datetime\n",
    "import logging\n",
    "\n",
    "import pandas as pd\n",
    "import s3fs\n",
    "from pyarrow import parquet\n",
    "\n",
    "import helpers.hdbg as hdbg\n",
    "import helpers.hpandas as hpandas\n",
    "import helpers.hprint as hprint\n",
    "import helpers.hsql as hsql"
   ]
  },
  {
   "cell_type": "code",
   "execution_count": null,
   "id": "adc7dbf7",
   "metadata": {},
   "outputs": [],
   "source": [
    "hprint.config_notebook()\n",
    "\n",
    "# hdbg.init_logger(verbosity=logging.DEBUG)\n",
    "hdbg.init_logger(verbosity=logging.INFO)\n",
    "# hdbg.test_logger()\n",
    "_LOG = logging.getLogger(__name__)"
   ]
  },
  {
   "cell_type": "markdown",
   "id": "84cd0c2a",
   "metadata": {},
   "source": [
    "# Load data"
   ]
  },
  {
   "cell_type": "markdown",
   "id": "73aa3c3a",
   "metadata": {},
   "source": [
    "## Use ImClient"
   ]
  },
  {
   "cell_type": "code",
   "execution_count": null,
   "id": "e682eb6e",
   "metadata": {},
   "outputs": [],
   "source": [
    "# TODO(max): Add ImClient (ok to use CCXT)"
   ]
  },
  {
   "cell_type": "markdown",
   "id": "7a54a3ce",
   "metadata": {},
   "source": [
    "## Read from file"
   ]
  },
  {
   "cell_type": "code",
   "execution_count": null,
   "id": "9a3d4bf9",
   "metadata": {},
   "outputs": [],
   "source": [
    "# TODO(max): read cryptochassis\n",
    "df = pd.read_csv(\"/app/vendors_lime/taq_bars/notebooks/data.csv\", index_col=0)\n",
    "df.head()"
   ]
  },
  {
   "cell_type": "code",
   "execution_count": null,
   "id": "5ce84df9",
   "metadata": {},
   "outputs": [],
   "source": [
    "hpandas.df_to_str(df, print_shape_info=True)"
   ]
  },
  {
   "cell_type": "markdown",
   "id": "260e00f1",
   "metadata": {},
   "source": [
    "# Analyze"
   ]
  },
  {
   "cell_type": "code",
   "execution_count": null,
   "id": "30b7a92c",
   "metadata": {},
   "outputs": [],
   "source": [
    "# The format is like:\n",
    "\n",
    "# \tasset_id name\tstart_time\tend_time\tvolume\tclose\task\tbid\tsided_ask_count\tsided_bid_count\n",
    "# 0\t1455235\tWINM21\t1622496660\t1622496720\t10374\t126140.0\t126150.0\t126140.0\t0\t1347\n",
    "# 1\t1455235\tWINM21\t1622496720\t1622496780\t0\tNaN\t126150.0\t126140.0\t0\t0"
   ]
  },
  {
   "cell_type": "code",
   "execution_count": null,
   "id": "a6bb1ae6",
   "metadata": {},
   "outputs": [],
   "source": [
    "import vendors_lime.taq_bars.futures_utils as tu\n",
    "import core.finance.tradability as trad\n",
    "\n",
    "# TODO(max): Use the right functions (calculate_twap)\n",
    "\n",
    "df2 = tu.normalize_data(df)\n",
    "hpandas.df_to_str(df2, print_shape_info=True)"
   ]
  },
  {
   "cell_type": "code",
   "execution_count": null,
   "id": "6b8bfdb1",
   "metadata": {},
   "outputs": [],
   "source": [
    "df2.groupby(\"ric\")[\"volume\"].sum()"
   ]
  },
  {
   "cell_type": "code",
   "execution_count": null,
   "id": "3193197b",
   "metadata": {},
   "outputs": [],
   "source": [
    "futs = [\n",
    "    \"WINM21\",\n",
    "    \"NIFM1\",\n",
    "    \"NBNM1\",\n",
    "    \"WDON21\",\n",
    "    \"SRBV1\",\n",
    "    \"SIRTSM1\",\n",
    "    \"NIRM1\",\n",
    "    \"BRRTSN1\",\n",
    "    \"CTAU1\",\n",
    "    \"CMAU1\",\n",
    "    \"SHHCV1\",\n",
    "    \"ESM1\",\n",
    "    \"TYU1\",\n",
    "    \"SFUU1\",\n",
    "    \"DSMU1\",\n",
    "    \"DIJN21\",\n",
    "    \"DCPU1\",\n",
    "    \"DBYU1\",\n",
    "    \"SAGZ1\",\n",
    "    \"CFGU1\",\n",
    "]"
   ]
  },
  {
   "cell_type": "markdown",
   "id": "8ba8ca43",
   "metadata": {},
   "source": [
    "## Deep dive on one contract"
   ]
  },
  {
   "cell_type": "code",
   "execution_count": null,
   "id": "1f61760f",
   "metadata": {},
   "outputs": [],
   "source": [
    "# fut = \"WINM21\"\n",
    "# fut = \"ESM1\"\n",
    "fut = futs[3]\n",
    "print(fut)\n",
    "df_tmp = tu.filter_by_ric(df2, fut)[\"volume\"]\n",
    "\n",
    "pct_nans = df[\"close\"].isnull().mean()\n",
    "print(\"pct nans=\", pct_nans)\n",
    "\n",
    "pct_volume_0 = (df[\"volume\"] == 0).mean()\n",
    "print(\"pct_volume_0=\", pct_volume_0)\n",
    "\n",
    "df_tmp = df_tmp.dropna()\n",
    "# print(df_tmp)\n",
    "\n",
    "df_tmp.plot()"
   ]
  },
  {
   "cell_type": "code",
   "execution_count": null,
   "id": "e591a9e1",
   "metadata": {},
   "outputs": [],
   "source": [
    "# Process data and print stats.\n",
    "\n",
    "# fut = \"WINM21\"\n",
    "# fut = \"ESM1\"\n",
    "fut = futs[0]\n",
    "print(fut)\n",
    "\n",
    "df_tmp = tu.filter_by_ric(df2, fut)\n",
    "# display(df_tmp.head(3))\n",
    "hpandas.df_to_str(df_tmp, print_nan_info=True)\n",
    "df_tmp = trad.process_df(df_tmp, 5)\n",
    "\n",
    "# print(\"trad.median=\", df_tmp[\"trad\"].median())\n",
    "print(trad.compute_stats(df_tmp))\n",
    "df_tmp[\"trad\"].hist(bins=101)"
   ]
  },
  {
   "cell_type": "code",
   "execution_count": null,
   "id": "502dcc27",
   "metadata": {},
   "outputs": [],
   "source": [
    "# Tradability over time.\n",
    "df_tmp[\"time\"] = df_tmp.index.time\n",
    "display(df_tmp.head(3))\n",
    "df_tmp.groupby(\"time\")[\"trad\"].mean().plot()"
   ]
  },
  {
   "cell_type": "code",
   "execution_count": null,
   "id": "01d21892",
   "metadata": {},
   "outputs": [],
   "source": [
    "# Std dev over time.\n",
    "df_tmp.groupby(\"time\")[\"ret_0\"].std().plot()"
   ]
  },
  {
   "cell_type": "code",
   "execution_count": null,
   "id": "bc6097a4",
   "metadata": {},
   "outputs": [],
   "source": [
    "# Volume over time.\n",
    "\n",
    "df_tmp.groupby(\"time\")[\"volume\"].sum().plot()\n",
    "# df_tmp.groupby(\"time\")[\"spread_bps\"].std().plot()"
   ]
  },
  {
   "cell_type": "code",
   "execution_count": null,
   "id": "da3354bf",
   "metadata": {},
   "outputs": [],
   "source": [
    "df_tmp2 = df_tmp[[\"time\", \"ret_0\"]]\n",
    "# _ = df_tmp2.groupby(\"time\").boxplot()#subplots=False)\n",
    "# for time, df_0 in df_tmp2.groupby(\"time\"):\n",
    "#    print(df_0)"
   ]
  },
  {
   "cell_type": "code",
   "execution_count": null,
   "id": "f5d78258",
   "metadata": {},
   "outputs": [],
   "source": [
    "df_tmp2\n",
    "\n",
    "df_tmp3 = []\n",
    "for time, df_0 in df_tmp2.groupby(\"time\"):\n",
    "    # print(time, df_0[\"ret_0\"])\n",
    "    srs = pd.Series(df_0[\"ret_0\"].values)\n",
    "    srs.name = time\n",
    "    df_tmp3.append(srs)\n",
    "df_tmp3 = pd.concat(df_tmp3, axis=1)\n",
    "df_tmp3.head()\n",
    "\n",
    "df_tmp3.boxplot(rot=90)"
   ]
  },
  {
   "cell_type": "code",
   "execution_count": null,
   "id": "72562878",
   "metadata": {},
   "outputs": [],
   "source": [
    "df3 = df2.groupby(\"ric\").apply(lambda df_tmp: trad.process_df(df_tmp, 5))\n",
    "df3.head(3)"
   ]
  },
  {
   "cell_type": "code",
   "execution_count": null,
   "id": "322dd19c",
   "metadata": {},
   "outputs": [],
   "source": [
    "# Compute stats for all futures.\n",
    "gb = df3.reset_index(drop=True).groupby(\"ric\").apply(trad.compute_stats)\n",
    "\n",
    "# gb.first()\n",
    "gb.sort_values(\"trad\")"
   ]
  }
 ],
 "metadata": {
  "kernelspec": {
   "display_name": "Python 3 (ipykernel)",
   "language": "python",
   "name": "python3"
  },
  "language_info": {
   "codemirror_mode": {
    "name": "ipython",
    "version": 3
   },
   "file_extension": ".py",
   "mimetype": "text/x-python",
   "name": "python",
   "nbconvert_exporter": "python",
   "pygments_lexer": "ipython3"
  },
  "toc": {
   "base_numbering": 1,
   "nav_menu": {},
   "number_sections": true,
   "sideBar": true,
   "skip_h1_title": false,
   "title_cell": "Table of Contents",
   "title_sidebar": "Contents",
   "toc_cell": false,
   "toc_position": {},
   "toc_section_display": true,
   "toc_window_display": true
  }
 },
 "nbformat": 4,
 "nbformat_minor": 5
}
