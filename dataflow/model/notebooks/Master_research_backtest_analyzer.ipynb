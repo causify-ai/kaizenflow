{
 "cells": [
  {
   "cell_type": "code",
   "execution_count": null,
   "id": "446eb752",
   "metadata": {},
   "outputs": [],
   "source": [
    "%load_ext autoreload\n",
    "%autoreload 2\n",
    "%matplotlib inline\n",
    "\n",
    "import datetime\n",
    "import logging\n",
    "\n",
    "import numpy as np\n",
    "import pandas as pd\n",
    "\n",
    "import core.config as cconfig\n",
    "import core.finance as cofinanc\n",
    "import core.plotting as coplotti\n",
    "import core.statistics as costatis\n",
    "import dataflow.model as dtfmod\n",
    "import helpers.hdbg as hdbg\n",
    "import helpers.henv as henv\n",
    "import helpers.hparquet as hparque\n",
    "import helpers.hprint as hprint\n",
    "import helpers.hsql as hsql"
   ]
  },
  {
   "cell_type": "code",
   "execution_count": null,
   "id": "affb27e4",
   "metadata": {},
   "outputs": [],
   "source": [
    "hdbg.init_logger(verbosity=logging.INFO)\n",
    "\n",
    "_LOG = logging.getLogger(__name__)\n",
    "\n",
    "_LOG.info(\"%s\", henv.get_system_signature()[0])\n",
    "\n",
    "hprint.config_notebook()"
   ]
  },
  {
   "cell_type": "markdown",
   "id": "1fde07fb",
   "metadata": {},
   "source": [
    "# Load tiled backtest"
   ]
  },
  {
   "cell_type": "code",
   "execution_count": null,
   "id": "6385e3e6",
   "metadata": {},
   "outputs": [],
   "source": [
    "dict_ = {\n",
    "    \"file_name\": \"\",\n",
    "    \"start_date\": datetime.date(2010, 1, 1),\n",
    "    \"end_date\": datetime.date(2020, 12, 31),\n",
    "    \"asset_id_col\": \"\",\n",
    "    \"returns_col\": \"\",\n",
    "    \"volatility_col\": \"\",\n",
    "    \"prediction_col\": \"\",\n",
    "    \"feature_cols\": None,\n",
    "    \"feature_lag\": 2,\n",
    "    \"target_col\": \"\",\n",
    "    \"target_gmv\": 1e6,\n",
    "    \"dollar_neutrality\": \"no_constraint\",\n",
    "    \"freq\": \"5T\",\n",
    "}\n",
    "config = cconfig.get_config_from_nested_dict(dict_)"
   ]
  },
  {
   "cell_type": "markdown",
   "id": "a479096f",
   "metadata": {},
   "source": [
    "## Report tile stats"
   ]
  },
  {
   "cell_type": "code",
   "execution_count": null,
   "id": "8b063b8e",
   "metadata": {},
   "outputs": [],
   "source": [
    "parquet_tile_analyzer = dtfmod.ParquetTileAnalyzer()\n",
    "parquet_tile_metadata = parquet_tile_analyzer.collate_parquet_tile_metadata(\n",
    "    config[\"file_name\"]\n",
    ")"
   ]
  },
  {
   "cell_type": "code",
   "execution_count": null,
   "id": "a54305c5",
   "metadata": {},
   "outputs": [],
   "source": [
    "parquet_tile_analyzer.compute_metadata_stats_by_asset_id(parquet_tile_metadata)"
   ]
  },
  {
   "cell_type": "code",
   "execution_count": null,
   "id": "c80be32c",
   "metadata": {},
   "outputs": [],
   "source": [
    "parquet_tile_analyzer.compute_universe_size_by_time(parquet_tile_metadata)"
   ]
  },
  {
   "cell_type": "code",
   "execution_count": null,
   "id": "fb4e047e",
   "metadata": {},
   "outputs": [],
   "source": [
    "asset_ids = parquet_tile_metadata.index.levels[0].to_list()"
   ]
  },
  {
   "cell_type": "markdown",
   "id": "b2810f1f",
   "metadata": {},
   "source": [
    "## Load a single-asset tile"
   ]
  },
  {
   "cell_type": "code",
   "execution_count": null,
   "id": "3857b855",
   "metadata": {},
   "outputs": [],
   "source": [
    "single_asset_tile = next(\n",
    "    hparque.yield_parquet_tiles_by_assets(\n",
    "        config[\"file_name\"],\n",
    "        asset_ids[0:1],\n",
    "        config[\"asset_id_col\"],\n",
    "        1,\n",
    "        None,\n",
    "    )\n",
    ")"
   ]
  },
  {
   "cell_type": "code",
   "execution_count": null,
   "id": "af1b41f6",
   "metadata": {},
   "outputs": [],
   "source": [
    "single_tile_df = dtfmod.process_parquet_read_df(df, config[\"asset_id_col\"])"
   ]
  },
  {
   "cell_type": "code",
   "execution_count": null,
   "id": "29dcc08b",
   "metadata": {},
   "outputs": [],
   "source": [
    "single_tile_df.columns"
   ]
  },
  {
   "cell_type": "code",
   "execution_count": null,
   "id": "67510225",
   "metadata": {},
   "outputs": [],
   "source": [
    "single_tile_df.head(3)"
   ]
  },
  {
   "cell_type": "markdown",
   "id": "0515f95f",
   "metadata": {},
   "source": [
    "# Overnight returns"
   ]
  },
  {
   "cell_type": "code",
   "execution_count": null,
   "id": "069cd2ef",
   "metadata": {},
   "outputs": [],
   "source": [
    "host = \"\"\n",
    "dbname = \"\"\n",
    "port = 1000\n",
    "user = \"\"\n",
    "password = \"\"\n",
    "table_name = \"\"\n",
    "connection = hsql.get_connection(host, dbname, port, user, password)"
   ]
  },
  {
   "cell_type": "code",
   "execution_count": null,
   "id": "2f4ddef7",
   "metadata": {},
   "outputs": [],
   "source": [
    "query_results = cofinanc.query_by_assets_and_dates(\n",
    "    connection,\n",
    "    table_name,\n",
    "    asset_ids=asset_ids,\n",
    "    asset_id_col=config[\"asset_id_col\"],\n",
    "    start_date=config[\"start_date\"],\n",
    "    end_date=config[\"end_date\"],\n",
    "    date_col=\"date\",\n",
    "    select_cols=[\"date\", \"open_\", \"close\", \"total_return\", \"prev_total_return\"],\n",
    ")"
   ]
  },
  {
   "cell_type": "code",
   "execution_count": null,
   "id": "c8d3531f",
   "metadata": {},
   "outputs": [],
   "source": [
    "overnight_returns = cofinanc.compute_overnight_returns(\n",
    "    query_results,\n",
    "    config[\"asset_id_col\"],\n",
    ")"
   ]
  },
  {
   "cell_type": "markdown",
   "id": "2a2369a7",
   "metadata": {},
   "source": [
    "# Compute portfolio bar metrics"
   ]
  },
  {
   "cell_type": "code",
   "execution_count": null,
   "id": "077c72ce",
   "metadata": {},
   "outputs": [],
   "source": [
    "bar_metrics = dtfmod.generate_bar_metrics(\n",
    "    config[\"file_name\"],\n",
    "    config[\"start_date\"],\n",
    "    config[\"end_date\"],\n",
    "    config[\"asset_id_col\"],\n",
    "    config[\"returns_col\"],\n",
    "    config[\"volatility_col\"],\n",
    "    config[\"prediction_col\"],\n",
    "    config[\"target_gmv\"],\n",
    "    config[\"dollar_neutrality\"],\n",
    "    # overnight_returns[\"overnight_returns\"],\n",
    ")"
   ]
  },
  {
   "cell_type": "code",
   "execution_count": null,
   "id": "beb943fe",
   "metadata": {},
   "outputs": [],
   "source": [
    "coplotti.plot_portfolio_stats(bar_metrics, freq=\"B\")"
   ]
  },
  {
   "cell_type": "markdown",
   "id": "6a265918",
   "metadata": {},
   "source": [
    "# Compute aggregate portfolio stats"
   ]
  },
  {
   "cell_type": "code",
   "execution_count": null,
   "id": "e0b5aeab",
   "metadata": {},
   "outputs": [],
   "source": [
    "stats_computer = dtfmod.StatsComputer()"
   ]
  },
  {
   "cell_type": "code",
   "execution_count": null,
   "id": "65041403",
   "metadata": {},
   "outputs": [],
   "source": [
    "portfolio_stats, daily_metrics = stats_computer.compute_portfolio_stats(\n",
    "    bar_metrics,\n",
    "    \"B\",\n",
    ")\n",
    "display(portfolio_stats)"
   ]
  },
  {
   "cell_type": "code",
   "execution_count": null,
   "id": "aacd507a",
   "metadata": {},
   "outputs": [],
   "source": [
    "portfolio_stats_at_freq, _ = stats_computer.compute_portfolio_stats(\n",
    "    bar_metrics,\n",
    "    config[\"freq\"],\n",
    ")\n",
    "display(portfolio_stats_at_freq)"
   ]
  },
  {
   "cell_type": "markdown",
   "id": "e423e5de",
   "metadata": {},
   "source": [
    "# Regression analysis"
   ]
  },
  {
   "cell_type": "code",
   "execution_count": null,
   "id": "dfe03373",
   "metadata": {},
   "outputs": [],
   "source": [
    "hdbg.dassert(config[\"target_col\"])\n",
    "hdbg.dassert(config[\"feature_cols\"])"
   ]
  },
  {
   "cell_type": "code",
   "execution_count": null,
   "id": "26a2393e",
   "metadata": {},
   "outputs": [],
   "source": [
    "coefficients = dtfmod.regress(\n",
    "    config[\"file_name\"],\n",
    "    config[\"asset_id_col\"],\n",
    "    config[\"target_col\"],\n",
    "    config[\"feature_cols\"],\n",
    "    config[\"feature_lag\"],\n",
    "    50,\n",
    ")"
   ]
  },
  {
   "cell_type": "code",
   "execution_count": null,
   "id": "e1bea0e4",
   "metadata": {},
   "outputs": [],
   "source": [
    "coefficients.head(3)"
   ]
  },
  {
   "cell_type": "markdown",
   "id": "7acc5a02",
   "metadata": {},
   "source": [
    "# Predictor mixing"
   ]
  },
  {
   "cell_type": "code",
   "execution_count": null,
   "id": "e57bbf36",
   "metadata": {},
   "outputs": [],
   "source": [
    "hdbg.dassert(config[\"feature_cols\"])"
   ]
  },
  {
   "cell_type": "code",
   "execution_count": null,
   "id": "453dff0c",
   "metadata": {},
   "outputs": [],
   "source": [
    "features = config[\"feature_cols\"]\n",
    "weights = pd.DataFrame(np.identity(len(features)), features, features)\n",
    "weights[\"sum\"] = 1\n",
    "display(weights)"
   ]
  },
  {
   "cell_type": "code",
   "execution_count": null,
   "id": "d25249c9",
   "metadata": {},
   "outputs": [],
   "source": [
    "mix_bar_metrics = dtfmod.load_mix_evaluate(\n",
    "    config[\"file_name\"],\n",
    "    config[\"start_date\"],\n",
    "    config[\"end_date\"],\n",
    "    config[\"asset_id_col\"],\n",
    "    config[\"returns_col\"],\n",
    "    config[\"volatility_col\"],\n",
    "    config[\"feature_cols\"],\n",
    "    weights,\n",
    "    config[\"target_gmv\"],\n",
    "    config[\"dollar_neutrality\"],\n",
    ")"
   ]
  },
  {
   "cell_type": "code",
   "execution_count": null,
   "id": "226e970c",
   "metadata": {},
   "outputs": [],
   "source": [
    "mix_portfolio_stats, mix_daily_metrics = stats_computer.compute_portfolio_stats(\n",
    "    mix_bar_metrics,\n",
    "    \"B\",\n",
    ")\n",
    "display(mix_portfolio_stats)"
   ]
  },
  {
   "cell_type": "code",
   "execution_count": null,
   "id": "b897e55e",
   "metadata": {},
   "outputs": [],
   "source": [
    "coplotti.plot_portfolio_stats(mix_bar_metrics, freq=\"B\")"
   ]
  }
 ],
 "metadata": {
  "jupytext": {
   "text_representation": {
    "extension": ".py",
    "format_name": "percent",
    "format_version": "1.3",
    "jupytext_version": "1.13.3"
   }
  },
  "kernelspec": {
   "display_name": "Python 3 (ipykernel)",
   "language": "python",
   "name": "python3"
  },
  "language_info": {
   "codemirror_mode": {
    "name": "ipython",
    "version": 3
   },
   "file_extension": ".py",
   "mimetype": "text/x-python",
   "name": "python",
   "nbconvert_exporter": "python",
   "pygments_lexer": "ipython3"
  },
  "toc": {
   "base_numbering": 1,
   "nav_menu": {},
   "number_sections": true,
   "sideBar": true,
   "skip_h1_title": false,
   "title_cell": "Table of Contents",
   "title_sidebar": "Contents",
   "toc_cell": false,
   "toc_position": {},
   "toc_section_display": true,
   "toc_window_display": false
  }
 },
 "nbformat": 4,
 "nbformat_minor": 5
}
