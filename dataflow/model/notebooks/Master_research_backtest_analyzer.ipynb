{
 "cells": [
  {
   "cell_type": "markdown",
   "id": "f80257c4",
   "metadata": {},
   "source": [
    "# Description"
   ]
  },
  {
   "cell_type": "markdown",
   "id": "f1cd5639",
   "metadata": {},
   "source": [
    "Analyze research backtest results."
   ]
  },
  {
   "cell_type": "markdown",
   "id": "59181174",
   "metadata": {},
   "source": [
    "# Imports"
   ]
  },
  {
   "cell_type": "code",
   "execution_count": 1,
   "id": "420106f6",
   "metadata": {
    "ExecuteTime": {
     "end_time": "2024-03-28T13:12:49.251881Z",
     "start_time": "2024-03-28T13:12:47.619338Z"
    }
   },
   "outputs": [],
   "source": [
    "%load_ext autoreload\n",
    "%autoreload 2\n",
    "%matplotlib inline"
   ]
  },
  {
   "cell_type": "code",
   "execution_count": 2,
   "id": "328f207f",
   "metadata": {
    "ExecuteTime": {
     "end_time": "2024-03-28T13:13:00.307114Z",
     "start_time": "2024-03-28T13:12:49.255429Z"
    }
   },
   "outputs": [
    {
     "name": "stderr",
     "output_type": "stream",
     "text": [
      "/app/core/statistics/random_samples.py:12: TqdmExperimentalWarning: Using `tqdm.autonotebook.tqdm` in notebook mode. Use `tqdm.tqdm` instead to force console mode (e.g. in jupyter console)\n",
      "  from tqdm.autonotebook import tqdm\n",
      "\u001b[33mWARNING\u001b[0m: No module named 'gluonts'\n",
      "Don't recognize host: host_os_name=Linux, am_host_os_name=Linux\n",
      "\u001b[33mWARNING\u001b[0m: No module named 'gluonts'\n"
     ]
    }
   ],
   "source": [
    "import datetime\n",
    "import logging\n",
    "import os\n",
    "from typing import List\n",
    "\n",
    "import pandas as pd\n",
    "\n",
    "import core.config as cconfig\n",
    "import core.finance as cofinanc\n",
    "import core.plotting as coplotti\n",
    "import dataflow.core as dtfcore\n",
    "import dataflow.model as dtfmod\n",
    "import dataflow_amp.system.Cx as dtfamsysc\n",
    "import helpers.hdbg as hdbg\n",
    "import helpers.henv as henv\n",
    "import helpers.hgit as hgit\n",
    "import helpers.hparquet as hparque\n",
    "import helpers.hprint as hprint\n",
    "import im_v2.common.data.client.historical_pq_clients as imvcdchpcl\n",
    "import market_data as mdata\n",
    "import oms.broker.ccxt.ccxt_utils as obccccut"
   ]
  },
  {
   "cell_type": "code",
   "execution_count": 3,
   "id": "d12c1b6e",
   "metadata": {
    "ExecuteTime": {
     "end_time": "2024-03-28T13:13:00.790952Z",
     "start_time": "2024-03-28T13:13:00.310612Z"
    },
    "lines_to_next_cell": 2
   },
   "outputs": [
    {
     "name": "stdout",
     "output_type": "stream",
     "text": [
      "\u001b[0m\u001b[36mINFO\u001b[0m: > cmd='/venv/lib/python3.9/site-packages/ipykernel_launcher.py -f /home/.local/share/jupyter/runtime/kernel-cb5fc3f8-1a3b-4cd1-bb77-2fdd7185abba.json'\n",
      "WARNING: Running in Jupyter\n",
      "INFO  # Git\n",
      "  branch_name='CmTask7651_Add-asset_id_to_decimals-to-the-default-config-notebook'\n",
      "  hash='f9f3faad6'\n",
      "  # Last commits:\n",
      "    * f9f3faad6 Daniil Tikhomirov CMTask7651: Lint                                                  ( 8 minutes ago) Thu Mar 28 13:04:34 2024  (HEAD -> CmTask7651_Add-asset_id_to_decimals-to-the-default-config-notebook, origin/CmTask7651_Add-asset_id_to_decimals-to-the-default-config-notebook)\n",
      "    * 8601457cb Daniil Tikhomirov CMTask7651: Checkpoint                                            (24 minutes ago) Thu Mar 28 12:48:49 2024           \n",
      "    *   5672e8d7a Daniil Tikhomirov Merge master                                                      (70 minutes ago) Thu Mar 28 12:03:06 2024           \n",
      "    |\\  \n",
      "# Machine info\n",
      "  system=Linux\n",
      "  node name=9d90dc27e38e\n",
      "  release=5.15.0-1053-aws\n",
      "  version=#58~20.04.1-Ubuntu SMP Mon Jan 22 17:15:01 UTC 2024\n",
      "  machine=x86_64\n",
      "  processor=x86_64\n",
      "  cpu count=8\n",
      "  cpu freq=scpufreq(current=2499.992, min=0.0, max=0.0)\n",
      "  memory=svmem(total=33280278528, available=22991007744, percent=30.9, used=9811075072, free=9179049984, active=7800225792, inactive=12567609344, buffers=995770368, cached=13294383104, shared=1519616, slab=3239317504)\n",
      "  disk usage=sdiskusage(total=218506772480, used=98529288192, free=119960707072, percent=45.1)\n",
      "# Packages\n",
      "  python: 3.9.5\n",
      "  cvxopt: 1.3.2\n",
      "  cvxpy: 1.4.2\n",
      "  gluonnlp: ?\n",
      "  gluonts: ?\n",
      "  joblib: 1.3.2\n",
      "  mxnet: ?\n",
      "  numpy: 1.26.0\n",
      "  pandas: 2.1.1\n",
      "  pyarrow: 15.0.0\n",
      "  scipy: 1.11.3\n",
      "  seaborn: 0.13.0\n",
      "  sklearn: 1.3.1\n",
      "  statsmodels: 0.14.0\n"
     ]
    }
   ],
   "source": [
    "hdbg.init_logger(verbosity=logging.INFO)\n",
    "\n",
    "_LOG = logging.getLogger(__name__)\n",
    "\n",
    "_LOG.info(\"%s\", henv.get_system_signature()[0])\n",
    "\n",
    "hprint.config_notebook()"
   ]
  },
  {
   "cell_type": "markdown",
   "id": "aed33d86",
   "metadata": {},
   "source": [
    "# Build the config dict"
   ]
  },
  {
   "cell_type": "code",
   "execution_count": 4,
   "id": "86f84a1c",
   "metadata": {
    "ExecuteTime": {
     "end_time": "2024-03-28T13:13:01.365390Z",
     "start_time": "2024-03-28T13:13:00.795837Z"
    }
   },
   "outputs": [
    {
     "name": "stdout",
     "output_type": "stream",
     "text": [
      "INFO  Using hardwired config\n"
     ]
    },
    {
     "ename": "TypeError",
     "evalue": "'NoneType' object is not subscriptable",
     "output_type": "error",
     "traceback": [
      "\u001b[0;31m---------------------------------------------------------------------------\u001b[0m",
      "\u001b[0;31mTypeError\u001b[0m                                 Traceback (most recent call last)",
      "Cell \u001b[0;32mIn[4], line 68\u001b[0m\n\u001b[1;32m     13\u001b[0m default_config_dict \u001b[38;5;241m=\u001b[39m {\n\u001b[1;32m     14\u001b[0m     \u001b[38;5;124m\"\u001b[39m\u001b[38;5;124mdir_name\u001b[39m\u001b[38;5;124m\"\u001b[39m: dir_name,\n\u001b[1;32m     15\u001b[0m     \u001b[38;5;124m\"\u001b[39m\u001b[38;5;124mstart_date\u001b[39m\u001b[38;5;124m\"\u001b[39m: datetime\u001b[38;5;241m.\u001b[39mdate(\u001b[38;5;241m2023\u001b[39m, \u001b[38;5;241m6\u001b[39m, \u001b[38;5;241m1\u001b[39m),\n\u001b[0;32m   (...)\u001b[0m\n\u001b[1;32m     65\u001b[0m     },\n\u001b[1;32m     66\u001b[0m }\n\u001b[1;32m     67\u001b[0m \u001b[38;5;66;03m# Add asset_id_to_share_decimals based on the `quantization` parameter:\u001b[39;00m\n\u001b[0;32m---> 68\u001b[0m \u001b[38;5;28;01mif\u001b[39;00m \u001b[38;5;129;01mnot\u001b[39;00m \u001b[43mdefault_config\u001b[49m\u001b[43m[\u001b[49m\u001b[38;5;124;43m\"\u001b[39;49m\u001b[38;5;124;43mannotate_forecasts_kwargs\u001b[39;49m\u001b[38;5;124;43m\"\u001b[39;49m\u001b[43m]\u001b[49m[\u001b[38;5;124m\"\u001b[39m\u001b[38;5;124mquantization\u001b[39m\u001b[38;5;124m\"\u001b[39m]:\n\u001b[1;32m     69\u001b[0m     asset_id_to_share_decimals \u001b[38;5;241m=\u001b[39m obccccut\u001b[38;5;241m.\u001b[39mget_asset_id_to_share_decimals(\n\u001b[1;32m     70\u001b[0m         \u001b[38;5;124m\"\u001b[39m\u001b[38;5;124mamount_precision\u001b[39m\u001b[38;5;124m\"\u001b[39m\n\u001b[1;32m     71\u001b[0m     )\n\u001b[1;32m     72\u001b[0m     default_config[\u001b[38;5;124m\"\u001b[39m\u001b[38;5;124mannotate_forecasts_kwargs\u001b[39m\u001b[38;5;124m\"\u001b[39m][\n\u001b[1;32m     73\u001b[0m         \u001b[38;5;124m\"\u001b[39m\u001b[38;5;124masset_id_to_share_decimals\u001b[39m\u001b[38;5;124m\"\u001b[39m\n\u001b[1;32m     74\u001b[0m     ] \u001b[38;5;241m=\u001b[39m asset_id_to_share_decimals\n",
      "\u001b[0;31mTypeError\u001b[0m: 'NoneType' object is not subscriptable"
     ]
    }
   ],
   "source": [
    "# Get config from env when running the notebook via the `run_notebook.py` script.\n",
    "default_config = cconfig.get_config_from_env()\n",
    "if default_config:\n",
    "    _LOG.info(\"Using config from env vars\")\n",
    "else:\n",
    "    _LOG.info(\"Using hardwired config\")\n",
    "    # Build default config.\n",
    "    amp_dir = hgit.get_amp_abs_path()\n",
    "    dir_name = os.path.join(\n",
    "        amp_dir,\n",
    "        \"/shared_data/backtest.danya/build_tile_configs.C11a.ccxt_v8_1-all.6T.2023-06-01_2024-01-31.ins.run0/tiled_results\",\n",
    "    )\n",
    "    default_config_dict = {\n",
    "        \"dir_name\": dir_name,\n",
    "        \"start_date\": datetime.date(2023, 6, 1),\n",
    "        \"end_date\": datetime.date(2024, 1, 31),\n",
    "        \"asset_id_col\": \"asset_id\",\n",
    "        \"pnl_resampling_frequency\": \"D\",\n",
    "        \"rule\": \"6T\",\n",
    "        \"im_client_config\": {\n",
    "            \"vendor\": \"ccxt\",\n",
    "            \"universe_version\": \"v8.1\",\n",
    "            \"root_dir\": \"s3://cryptokaizen-data.preprod/v3\",\n",
    "            \"partition_mode\": \"by_year_month\",\n",
    "            \"dataset\": \"ohlcv\",\n",
    "            \"contract_type\": \"futures\",\n",
    "            \"data_snapshot\": \"\",\n",
    "            \"aws_profile\": \"ck\",\n",
    "            \"version\": \"v1_0_0\",\n",
    "            \"download_universe_version\": \"v8\",\n",
    "            \"tag\": \"downloaded_1min\",\n",
    "            \"download_mode\": \"periodic_daily\",\n",
    "            \"downloading_entity\": \"airflow\",\n",
    "            \"resample_1min\": False,\n",
    "        },\n",
    "        \"annotate_forecasts_kwargs\": {\n",
    "            \"style\": \"longitudinal\",\n",
    "            \"quantization\": 30,\n",
    "            \"liquidate_at_end_of_day\": False,\n",
    "            \"initialize_beginning_of_day_trades_to_zero\": False,\n",
    "            \"burn_in_bars\": 3,\n",
    "            \"compute_extended_stats\": True,\n",
    "            \"target_dollar_risk_per_name\": 1.0,\n",
    "            \"modulate_using_prediction_magnitude\": False,\n",
    "            \"prediction_abs_threshold\": 0.3,\n",
    "        },\n",
    "        \"column_names\": {\n",
    "            \"price_col\": \"open\",\n",
    "            \"volatility_col\": \"garman_klass_vol\",\n",
    "            \"prediction_col\": \"feature\",\n",
    "        },\n",
    "        \"bin_annotated_portfolio_df_kwargs\": {\n",
    "            \"proportion_of_data_per_bin\": 0.2,\n",
    "            \"normalize_prediction_col_values\": False,\n",
    "        },\n",
    "        \"load_all_tiles_in_memory\": True,\n",
    "        \"sweep_param\": {\n",
    "            \"keys\": (\n",
    "                \"column_names\",\n",
    "                \"price_col\",\n",
    "            ),\n",
    "            \"values\": [\n",
    "                \"open\",\n",
    "            ],\n",
    "        },\n",
    "    }\n",
    "    # Add asset_id_to_share_decimals based on the `quantization` parameter:\n",
    "    if not default_config_dict[\"annotate_forecasts_kwargs\"][\"quantization\"]:\n",
    "        asset_id_to_share_decimals = obccccut.get_asset_id_to_share_decimals(\n",
    "            \"amount_precision\"\n",
    "        )\n",
    "        default_config_dict[\"annotate_forecasts_kwargs\"][\n",
    "            \"asset_id_to_share_decimals\"\n",
    "        ] = asset_id_to_share_decimals\n",
    "    else:\n",
    "        default_config_dict[\"annotate_forecasts_kwargs\"][\n",
    "            \"asset_id_to_share_decimals\"\n",
    "        ] = None\n",
    "    # Build config from dict.\n",
    "    default_config = cconfig.Config().from_dict(default_config_dict)\n",
    "print(default_config)"
   ]
  },
  {
   "cell_type": "markdown",
   "id": "fb3bb61a",
   "metadata": {},
   "source": [
    "# Load tiled results"
   ]
  },
  {
   "cell_type": "markdown",
   "id": "bc6b8e48",
   "metadata": {},
   "source": [
    "## Report tile stats"
   ]
  },
  {
   "cell_type": "code",
   "execution_count": null,
   "id": "67998464",
   "metadata": {
    "ExecuteTime": {
     "end_time": "2024-03-28T13:13:01.369648Z",
     "start_time": "2024-03-28T13:13:01.369622Z"
    }
   },
   "outputs": [],
   "source": [
    "parquet_tile_analyzer = dtfmod.ParquetTileAnalyzer()\n",
    "parquet_tile_metadata = parquet_tile_analyzer.collate_parquet_tile_metadata(\n",
    "    default_config[\"dir_name\"]\n",
    ")"
   ]
  },
  {
   "cell_type": "code",
   "execution_count": null,
   "id": "3b9b3afc",
   "metadata": {
    "ExecuteTime": {
     "end_time": "2024-03-28T13:13:01.371305Z",
     "start_time": "2024-03-28T13:13:01.371283Z"
    }
   },
   "outputs": [],
   "source": [
    "parquet_tile_analyzer.compute_metadata_stats_by_asset_id(parquet_tile_metadata)"
   ]
  },
  {
   "cell_type": "code",
   "execution_count": null,
   "id": "b92eba3a",
   "metadata": {
    "ExecuteTime": {
     "end_time": "2024-03-28T13:13:01.373963Z",
     "start_time": "2024-03-28T13:13:01.373935Z"
    }
   },
   "outputs": [],
   "source": [
    "parquet_tile_analyzer.compute_universe_size_by_time(parquet_tile_metadata)"
   ]
  },
  {
   "cell_type": "code",
   "execution_count": null,
   "id": "98630164",
   "metadata": {
    "ExecuteTime": {
     "end_time": "2024-03-28T13:13:01.375946Z",
     "start_time": "2024-03-28T13:13:01.375929Z"
    }
   },
   "outputs": [],
   "source": [
    "asset_ids = parquet_tile_metadata.index.levels[0].to_list()\n",
    "display(asset_ids)"
   ]
  },
  {
   "cell_type": "markdown",
   "id": "d51af22e",
   "metadata": {},
   "source": [
    "## Load tile data"
   ]
  },
  {
   "cell_type": "code",
   "execution_count": null,
   "id": "19847ae4",
   "metadata": {
    "ExecuteTime": {
     "end_time": "2024-03-28T13:13:01.378283Z",
     "start_time": "2024-03-28T13:13:01.378264Z"
    }
   },
   "outputs": [],
   "source": [
    "if default_config[\"load_all_tiles_in_memory\"]:\n",
    "    asset_ids_to_load = asset_ids\n",
    "else:\n",
    "    asset_ids_to_load = asset_ids[0:1]\n",
    "asset_batch_size = len(asset_ids_to_load)\n",
    "cols = None\n",
    "#\n",
    "asset_tile = next(\n",
    "    hparque.yield_parquet_tiles_by_assets(\n",
    "        default_config[\"dir_name\"],\n",
    "        asset_ids_to_load,\n",
    "        default_config[\"asset_id_col\"],\n",
    "        asset_batch_size,\n",
    "        cols,\n",
    "    )\n",
    ")"
   ]
  },
  {
   "cell_type": "code",
   "execution_count": null,
   "id": "59d26c52",
   "metadata": {
    "ExecuteTime": {
     "end_time": "2024-03-28T13:13:01.381365Z",
     "start_time": "2024-03-28T13:13:01.381345Z"
    }
   },
   "outputs": [],
   "source": [
    "# Trim tile to the specified time interval.\n",
    "asset_tile = asset_tile[\n",
    "    (asset_tile.index >= pd.Timestamp(default_config[\"start_date\"], tz=\"UTC\"))\n",
    "    & (asset_tile.index <= pd.Timestamp(default_config[\"end_date\"], tz=\"UTC\"))\n",
    "]\n",
    "len(asset_tile)"
   ]
  },
  {
   "cell_type": "code",
   "execution_count": null,
   "id": "9613f73e",
   "metadata": {
    "ExecuteTime": {
     "end_time": "2024-03-28T13:13:01.387766Z",
     "start_time": "2024-03-28T13:13:01.387746Z"
    }
   },
   "outputs": [],
   "source": [
    "tile_df = dtfmod.process_parquet_read_df(\n",
    "    asset_tile, default_config[\"asset_id_col\"]\n",
    ")"
   ]
  },
  {
   "cell_type": "code",
   "execution_count": null,
   "id": "eb1be391",
   "metadata": {
    "ExecuteTime": {
     "end_time": "2024-03-28T13:13:01.392339Z",
     "start_time": "2024-03-28T13:13:01.392301Z"
    }
   },
   "outputs": [],
   "source": [
    "tile_df.columns.levels[0].to_list()"
   ]
  },
  {
   "cell_type": "code",
   "execution_count": null,
   "id": "3ec6863b",
   "metadata": {
    "ExecuteTime": {
     "end_time": "2024-03-28T13:13:01.395964Z",
     "start_time": "2024-03-28T13:13:01.395937Z"
    }
   },
   "outputs": [],
   "source": [
    "tile_df.head(3)"
   ]
  },
  {
   "cell_type": "markdown",
   "id": "1987f0d7",
   "metadata": {},
   "source": [
    "### Check NaNs in the price column"
   ]
  },
  {
   "cell_type": "code",
   "execution_count": null,
   "id": "11622072",
   "metadata": {
    "ExecuteTime": {
     "end_time": "2024-03-28T13:13:01.400509Z",
     "start_time": "2024-03-28T13:13:01.400477Z"
    }
   },
   "outputs": [],
   "source": [
    "# Since the Optimizer cannot work with NaN values in the price column,\n",
    "# check the presence of NaN values and return the first and last date\n",
    "# where NaNs are encountered.\n",
    "price_col = default_config[\"column_names\"][\"price_col\"]\n",
    "price_df = tile_df[price_col]\n",
    "try:\n",
    "    hdbg.dassert_eq(price_df.isna().sum().sum(), 0)\n",
    "except AssertionError as e:\n",
    "    min_nan_idx = price_df[price_df.isnull().any(axis=1)].index.min()\n",
    "    max_nan_idx = price_df[price_df.isnull().any(axis=1)].index.max()\n",
    "    _LOG.warning(\"NaN values found between %s and %s\", min_nan_idx, max_nan_idx)\n",
    "    raise e"
   ]
  },
  {
   "cell_type": "markdown",
   "id": "286bc7f1",
   "metadata": {},
   "source": [
    "### Check NaNs in the feature column"
   ]
  },
  {
   "cell_type": "code",
   "execution_count": null,
   "id": "f878df27",
   "metadata": {
    "ExecuteTime": {
     "end_time": "2024-03-28T13:13:01.402862Z",
     "start_time": "2024-03-28T13:13:01.402837Z"
    },
    "run_control": {
     "marked": true
    }
   },
   "outputs": [],
   "source": [
    "# If NaNs in the feature column are found, replace them with 0.\n",
    "feature_col = default_config[\"column_names\"][\"prediction_col\"]\n",
    "tile_df[feature_col].isna().sum()"
   ]
  },
  {
   "cell_type": "code",
   "execution_count": null,
   "id": "032fcb08",
   "metadata": {
    "ExecuteTime": {
     "end_time": "2024-03-28T13:13:01.409142Z",
     "start_time": "2024-03-28T13:13:01.409081Z"
    }
   },
   "outputs": [],
   "source": [
    "tile_df[feature_col] = tile_df[feature_col].fillna(0)"
   ]
  },
  {
   "cell_type": "markdown",
   "id": "86b6e07f",
   "metadata": {},
   "source": [
    "## Add weighted resampling price column"
   ]
  },
  {
   "cell_type": "code",
   "execution_count": null,
   "id": "543be32b",
   "metadata": {
    "ExecuteTime": {
     "end_time": "2024-03-28T13:13:01.412330Z",
     "start_time": "2024-03-28T13:13:01.412304Z"
    }
   },
   "outputs": [],
   "source": [
    "im_client = imvcdchpcl.HistoricalPqByCurrencyPairTileClient(\n",
    "    **default_config[\"im_client_config\"]\n",
    ")\n",
    "columns = None\n",
    "columns_remap = None\n",
    "wall_clock_time = pd.Timestamp(\"2100-01-01T00:00:00+00:00\")\n",
    "market_data = mdata.get_HistoricalImClientMarketData_example1(\n",
    "    im_client,\n",
    "    asset_ids,\n",
    "    columns,\n",
    "    columns_remap,\n",
    "    wall_clock_time=wall_clock_time,\n",
    ")\n",
    "#\n",
    "bar_duration = \"1T\"\n",
    "ohlcv_data = dtfamsysc.load_and_resample_ohlcv_data(\n",
    "    market_data,\n",
    "    pd.Timestamp(default_config[\"start_date\"], tz=\"UTC\"),\n",
    "    pd.Timestamp(default_config[\"end_date\"], tz=\"UTC\"),\n",
    "    bar_duration,\n",
    ")\n",
    "ohlcv_data.index = ohlcv_data.index.tz_convert(\"UTC\")\n",
    "ohlcv_data.index.freq = pd.infer_freq(ohlcv_data.index)\n",
    "ohlcv_data.head(10)"
   ]
  },
  {
   "cell_type": "code",
   "execution_count": null,
   "id": "ea6a55e1",
   "metadata": {
    "ExecuteTime": {
     "end_time": "2024-03-28T13:13:01.414688Z",
     "start_time": "2024-03-28T13:13:01.414664Z"
    }
   },
   "outputs": [],
   "source": [
    "_LOG.info(\"start_date=%s\", default_config[\"start_date\"])\n",
    "_LOG.info(\"end_date=%s\", default_config[\"end_date\"])\n",
    "_LOG.info(\"ohlcv_data min index=%s\", ohlcv_data.index.min())\n",
    "_LOG.info(\"ohlcv_data max index=%s\", ohlcv_data.index.max())\n",
    "_LOG.info(\"tile_df min index=%s\", tile_df.index.min())\n",
    "_LOG.info(\"tile_df max index=%s\", tile_df.index.max())"
   ]
  },
  {
   "cell_type": "code",
   "execution_count": null,
   "id": "d3d5dc41",
   "metadata": {
    "ExecuteTime": {
     "end_time": "2024-03-28T13:13:01.419037Z",
     "start_time": "2024-03-28T13:13:01.419005Z"
    }
   },
   "outputs": [],
   "source": [
    "def resample_with_weights_ohlcv_bars(\n",
    "    df_ohlcv: pd.DataFrame,\n",
    "    price_col: str,\n",
    "    bar_duration: str,\n",
    "    weights: List[float],\n",
    ") -> pd.DataFrame:\n",
    "    \"\"\"\n",
    "    Resample 1-minute data to `bar_duration` with weights.\n",
    "    \"\"\"\n",
    "    resampling_node = dtfcore.GroupedColDfToDfTransformer(\n",
    "        \"resample\",\n",
    "        transformer_func=cofinanc.resample_with_weights,\n",
    "        **{\n",
    "            \"in_col_groups\": [\n",
    "                (price_col,),\n",
    "            ],\n",
    "            \"out_col_group\": (),\n",
    "            \"transformer_kwargs\": {\n",
    "                \"rule\": bar_duration,\n",
    "                \"col\": price_col,\n",
    "                \"weights\": weights,\n",
    "            },\n",
    "            \"reindex_like_input\": False,\n",
    "            \"join_output_with_input\": False,\n",
    "        },\n",
    "    )\n",
    "    resampled_ohlcv = resampling_node.fit(df_ohlcv)[\"df_out\"]\n",
    "    return resampled_ohlcv"
   ]
  },
  {
   "cell_type": "code",
   "execution_count": null,
   "id": "1b04f24c",
   "metadata": {
    "ExecuteTime": {
     "end_time": "2024-03-28T13:13:01.421639Z",
     "start_time": "2024-03-28T13:13:01.421616Z"
    }
   },
   "outputs": [],
   "source": [
    "rule = default_config[\"rule\"]\n",
    "rule_n_minutes = int(pd.Timedelta(rule).total_seconds() / 60)\n",
    "rule_n_minutes"
   ]
  },
  {
   "cell_type": "code",
   "execution_count": null,
   "id": "21a5e7f9",
   "metadata": {
    "ExecuteTime": {
     "end_time": "2024-03-28T13:13:01.426925Z",
     "start_time": "2024-03-28T13:13:01.426885Z"
    }
   },
   "outputs": [],
   "source": [
    "weights_dict = {\n",
    "    \"first_min_past\": [0.0] * 1 + [1.0] + [0.0] * (rule_n_minutes - 2),\n",
    "    \"second_min_past\": [0.0] * 2 + [1.0] + [0.0] * (rule_n_minutes - 3),\n",
    "    \"third_min_past\": [0.0] * 3 + [1.0] + [0.0] * (rule_n_minutes - 4),\n",
    "}"
   ]
  },
  {
   "cell_type": "code",
   "execution_count": null,
   "id": "84344356",
   "metadata": {
    "ExecuteTime": {
     "end_time": "2024-03-28T13:13:01.428840Z",
     "start_time": "2024-03-28T13:13:01.428823Z"
    }
   },
   "outputs": [],
   "source": [
    "for weight_rule, weights in weights_dict.items():\n",
    "    #\n",
    "    resampled_price_col = resample_with_weights_ohlcv_bars(\n",
    "        ohlcv_data,\n",
    "        default_config[\"column_names\", \"price_col\"],\n",
    "        rule,\n",
    "        weights,\n",
    "    )\n",
    "    # Rename the resampled price column.\n",
    "    res_price_col = \"_\".join(\n",
    "        [\"resampled\", weight_rule, default_config[\"column_names\", \"price_col\"]]\n",
    "    )\n",
    "    resampled_price_col.columns = resampled_price_col.columns.set_levels(\n",
    "        [res_price_col], level=0\n",
    "    )\n",
    "    # Extend sweep param config values.\n",
    "    default_config[\"sweep_param\"][\"values\"].append(res_price_col)\n",
    "    # Append new column to data.\n",
    "    tile_df = pd.concat([tile_df, resampled_price_col], axis=1)\n",
    "tile_df.head()"
   ]
  },
  {
   "cell_type": "markdown",
   "id": "2c0870e4",
   "metadata": {},
   "source": [
    "# Compute portfolio bar metrics"
   ]
  },
  {
   "cell_type": "code",
   "execution_count": null,
   "id": "f3d0be5d",
   "metadata": {
    "ExecuteTime": {
     "end_time": "2024-03-28T13:13:01.432318Z",
     "start_time": "2024-03-28T13:13:01.432293Z"
    }
   },
   "outputs": [],
   "source": [
    "config_dict = dtfmod.build_research_backtest_analyzer_config_sweep(default_config)\n",
    "print(config_dict.keys())"
   ]
  },
  {
   "cell_type": "code",
   "execution_count": null,
   "id": "456755b4",
   "metadata": {
    "ExecuteTime": {
     "end_time": "2024-03-28T13:13:01.444595Z",
     "start_time": "2024-03-28T13:13:01.444562Z"
    }
   },
   "outputs": [],
   "source": [
    "portfolio_df_dict = {}\n",
    "bar_metrics_dict = {}\n",
    "for key, config in config_dict.items():\n",
    "    if config[\"load_all_tiles_in_memory\"]:\n",
    "        fep = dtfmod.ForecastEvaluatorFromPrices(\n",
    "            **config[\"column_names\"].to_dict()\n",
    "        )\n",
    "        portfolio_df, bar_metrics = fep.annotate_forecasts(\n",
    "            tile_df,\n",
    "            **config[\"annotate_forecasts_kwargs\"].to_dict(),\n",
    "        )\n",
    "    else:\n",
    "        portfolio_df, bar_metrics = dtfmod.annotate_forecasts_by_tile(\n",
    "            config[\"dir_name\"],\n",
    "            config[\"start_date\"],\n",
    "            config[\"end_date\"],\n",
    "            config[\"asset_id_col\"],\n",
    "            config[\"column_names\"][\"price_col\"],\n",
    "            config[\"column_names\"][\"volatility_col\"],\n",
    "            config[\"column_names\"][\"prediction_col\"],\n",
    "            asset_ids=None,\n",
    "            annotate_forecasts_kwargs=config[\n",
    "                \"annotate_forecasts_kwargs\"\n",
    "            ].to_dict(),\n",
    "            return_portfolio_df=True,\n",
    "        )\n",
    "    portfolio_df_dict[key] = portfolio_df\n",
    "    bar_metrics_dict[key] = bar_metrics\n",
    "portfolio_stats_df = pd.concat(bar_metrics_dict, axis=1)"
   ]
  },
  {
   "cell_type": "code",
   "execution_count": null,
   "id": "ddc1b3c8",
   "metadata": {
    "ExecuteTime": {
     "end_time": "2024-03-28T13:13:01.449134Z",
     "start_time": "2024-03-28T13:13:01.449104Z"
    }
   },
   "outputs": [],
   "source": [
    "coplotti.plot_portfolio_stats(\n",
    "    portfolio_stats_df, freq=default_config[\"pnl_resampling_frequency\"]\n",
    ")"
   ]
  },
  {
   "cell_type": "code",
   "execution_count": null,
   "id": "db5e1dd2",
   "metadata": {
    "ExecuteTime": {
     "end_time": "2024-03-28T13:13:01.451882Z",
     "start_time": "2024-03-28T13:13:01.451851Z"
    }
   },
   "outputs": [],
   "source": [
    "coplotti.plot_portfolio_binned_stats(\n",
    "    portfolio_df_dict,\n",
    "    **config[\"bin_annotated_portfolio_df_kwargs\"],\n",
    ")"
   ]
  },
  {
   "cell_type": "markdown",
   "id": "61702d8a",
   "metadata": {},
   "source": [
    "# Compute aggregate portfolio stats"
   ]
  },
  {
   "cell_type": "code",
   "execution_count": null,
   "id": "894c7b14",
   "metadata": {
    "ExecuteTime": {
     "end_time": "2024-03-28T13:13:01.453948Z",
     "start_time": "2024-03-28T13:13:01.453929Z"
    }
   },
   "outputs": [],
   "source": [
    "stats_computer = dtfmod.StatsComputer()"
   ]
  },
  {
   "cell_type": "code",
   "execution_count": null,
   "id": "4ebe7501",
   "metadata": {
    "ExecuteTime": {
     "end_time": "2024-03-28T13:13:01.455934Z",
     "start_time": "2024-03-28T13:13:01.455914Z"
    }
   },
   "outputs": [],
   "source": [
    "portfolio_stats, daily_metrics = stats_computer.compute_portfolio_stats(\n",
    "    portfolio_stats_df,\n",
    "    default_config[\"pnl_resampling_frequency\"],\n",
    ")\n",
    "display(portfolio_stats)"
   ]
  },
  {
   "cell_type": "code",
   "execution_count": null,
   "id": "59ede783",
   "metadata": {},
   "outputs": [],
   "source": []
  }
 ],
 "metadata": {
  "kernelspec": {
   "display_name": "Python 3 (ipykernel)",
   "language": "python",
   "name": "python3"
  },
  "language_info": {
   "codemirror_mode": {
    "name": "ipython",
    "version": 3
   },
   "file_extension": ".py",
   "mimetype": "text/x-python",
   "name": "python",
   "nbconvert_exporter": "python",
   "pygments_lexer": "ipython3",
   "version": "3.9.5"
  },
  "toc": {
   "base_numbering": 1,
   "nav_menu": {},
   "number_sections": true,
   "sideBar": true,
   "skip_h1_title": false,
   "title_cell": "Table of Contents",
   "title_sidebar": "Contents",
   "toc_cell": false,
   "toc_position": {},
   "toc_section_display": true,
   "toc_window_display": false
  }
 },
 "nbformat": 4,
 "nbformat_minor": 5
}
