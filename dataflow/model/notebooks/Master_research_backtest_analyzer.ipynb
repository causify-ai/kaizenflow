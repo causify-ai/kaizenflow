{
 "cells": [
  {
   "cell_type": "markdown",
   "id": "a75b6dae",
   "metadata": {},
   "source": [
    "# Description"
   ]
  },
  {
   "cell_type": "markdown",
   "id": "52491e5e",
   "metadata": {},
   "source": [
    "Analyze research backtest results."
   ]
  },
  {
   "cell_type": "markdown",
   "id": "4c533aa5",
   "metadata": {},
   "source": [
    "# Imports"
   ]
  },
  {
   "cell_type": "code",
   "execution_count": 1,
   "id": "c1e9d582",
   "metadata": {
    "ExecuteTime": {
     "end_time": "2023-11-14T19:14:16.657658Z",
     "start_time": "2023-11-14T19:14:14.933129Z"
    }
   },
   "outputs": [],
   "source": [
    "%load_ext autoreload\n",
    "%autoreload 2\n",
    "%matplotlib inline"
   ]
  },
  {
   "cell_type": "code",
   "execution_count": 2,
   "id": "446eb752",
   "metadata": {
    "ExecuteTime": {
     "end_time": "2023-11-14T19:14:26.923995Z",
     "start_time": "2023-11-14T19:14:16.684570Z"
    }
   },
   "outputs": [
    {
     "name": "stderr",
     "output_type": "stream",
     "text": [
      "/app/amp/core/explore.py:39: TqdmExperimentalWarning: Using `tqdm.autonotebook.tqdm` in notebook mode. Use `tqdm.tqdm` instead to force console mode (e.g. in jupyter console)\n",
      "  import tqdm.autonotebook as tauton\n",
      "\u001b[33mWARNING\u001b[0m: No module named 'gluonts'\n",
      "\u001b[33mWARNING\u001b[0m: No module named 'gluonts'\n"
     ]
    }
   ],
   "source": [
    "import datetime\n",
    "import logging\n",
    "import os\n",
    "from typing import Dict\n",
    "\n",
    "import pandas as pd\n",
    "\n",
    "import core.config as cconfig\n",
    "import core.plotting as coplotti\n",
    "import dataflow.model as dtfmod\n",
    "import helpers.hdbg as hdbg\n",
    "import helpers.henv as henv\n",
    "import helpers.hgit as hgit\n",
    "import helpers.hparquet as hparque\n",
    "import helpers.hprint as hprint"
   ]
  },
  {
   "cell_type": "code",
   "execution_count": 3,
   "id": "affb27e4",
   "metadata": {
    "ExecuteTime": {
     "end_time": "2023-11-14T19:14:27.310366Z",
     "start_time": "2023-11-14T19:14:26.927517Z"
    },
    "scrolled": true
   },
   "outputs": [
    {
     "name": "stdout",
     "output_type": "stream",
     "text": [
      "\u001b[0m\u001b[36mINFO\u001b[0m: > cmd='/venv/lib/python3.9/site-packages/ipykernel_launcher.py -f /home/.local/share/jupyter/runtime/kernel-13877e7d-7c08-4cb4-bca9-5fdca1e5ff75.json'\n",
      "WARNING: Running in Jupyter\n",
      "INFO  # Git\n",
      "  branch_name='CmTask6096_Allow_running_backtest_analyzer_notebook_for_multiple_price_cols'\n",
      "  hash='2f36dffa1'\n",
      "  # Last commits:\n",
      "    * 2f36dffa1 dan      checkpoint                                                        (48 minutes ago) Tue Nov 14 18:26:47 2023  (HEAD -> CmTask6096_Allow_running_backtest_analyzer_notebook_for_multiple_price_cols)\n",
      "    *   17f8a0579 Dan      Merge branch 'master' into CmTask6096_Allow_running_backtest_analyzer_notebook_for_multiple_price_cols (   3 hours ago) Tue Nov 14 16:00:33 2023  (origin/CmTask6096_Allow_running_backtest_analyzer_notebook_for_multiple_price_cols)\n",
      "    |\\  \n",
      "    | * 757074fd5 Dan      Cm task6143 remove crv usdt from the current trade universe (#6148) (   3 hours ago) Tue Nov 14 15:58:55 2023  (origin/master, origin/HEAD, master)\n",
      "# Machine info\n",
      "  system=Linux\n",
      "  node name=cc456c8c3521\n",
      "  release=5.15.0-1047-aws\n",
      "  version=#52~20.04.1-Ubuntu SMP Thu Sep 21 10:05:54 UTC 2023\n",
      "  machine=x86_64\n",
      "  processor=x86_64\n",
      "  cpu count=8\n",
      "  cpu freq=scpufreq(current=2499.9959999999996, min=0.0, max=0.0)\n",
      "  memory=svmem(total=33280286720, available=9872134144, percent=70.3, used=22922690560, free=2773430272, active=2161528832, inactive=24955764736, buffers=1237127168, cached=6347038720, shared=4161536, slab=2833661952)\n",
      "  disk usage=sdiskusage(total=156052275200, used=90036199424, free=65999298560, percent=57.7)\n",
      "# Packages\n",
      "  python: 3.9.5\n",
      "  cvxopt: 1.3.2\n",
      "  cvxpy: 1.4.1\n",
      "  gluonnlp: ?\n",
      "  gluonts: ?\n",
      "  joblib: 1.3.2\n",
      "  mxnet: ?\n",
      "  numpy: 1.26.0\n",
      "  pandas: 2.1.1\n",
      "  pyarrow: 10.0.0\n",
      "  scipy: 1.11.3\n",
      "  seaborn: 0.13.0\n",
      "  sklearn: 1.3.1\n",
      "  statsmodels: 0.14.0\n"
     ]
    }
   ],
   "source": [
    "hdbg.init_logger(verbosity=logging.INFO)\n",
    "\n",
    "_LOG = logging.getLogger(__name__)\n",
    "\n",
    "_LOG.info(\"%s\", henv.get_system_signature()[0])\n",
    "\n",
    "hprint.config_notebook()"
   ]
  },
  {
   "cell_type": "markdown",
   "id": "8cbb6153",
   "metadata": {},
   "source": [
    "# Functions"
   ]
  },
  {
   "cell_type": "code",
   "execution_count": 4,
   "id": "8bf82c40",
   "metadata": {
    "ExecuteTime": {
     "end_time": "2023-11-14T19:14:27.386236Z",
     "start_time": "2023-11-14T19:14:27.313427Z"
    }
   },
   "outputs": [],
   "source": [
    "# TODO(Dan): Move to a lib.\n",
    "def build_research_backtest_analyzer_config_dict(\n",
    "    default_config: cconfig.Config,\n",
    ") -> Dict[str, cconfig.Config]:\n",
    "    \"\"\"\n",
    "    Build a dict of configs to run a backtest analysis.\n",
    "    \"\"\"\n",
    "    if \"sweep_param\" in default_config:\n",
    "        hdbg.dassert_isinstance(default_config[\"sweep_param\"], cconfig.Config)\n",
    "        # Set param values to sweep and corressponding config keys.\n",
    "        sweep_param_keys = default_config[\"sweep_param\", \"keys\"]\n",
    "        hdbg.dassert_isinstance(sweep_param_keys, tuple)\n",
    "        sweep_param_values = default_config[\"sweep_param\", \"values\"]\n",
    "        hdbg.dassert_isinstance(sweep_param_values, tuple)\n",
    "        # Build config dict.\n",
    "        config_dict = {}\n",
    "        for val in sweep_param_values:\n",
    "            # Update new config value.\n",
    "            config = default_config.copy()\n",
    "            config.update_mode = \"overwrite\"\n",
    "            config[sweep_param_keys] = val\n",
    "            config.update_mode = \"assert_on_overwrite\"\n",
    "            # Set updated config key for config dict.\n",
    "            config_dict_key = \":\".join(sweep_param_keys)\n",
    "            config_dict_key = \" = \".join([config_dict_key, str(val)])\n",
    "            # Add new config to the config dict.\n",
    "            config_dict[config_dict_key] = config\n",
    "    else:\n",
    "        # Put single input config to a dict.\n",
    "        config_dict = {\"default_config\": default_config}\n",
    "    return config_dict"
   ]
  },
  {
   "cell_type": "markdown",
   "id": "1fde07fb",
   "metadata": {},
   "source": [
    "# Build the config dict"
   ]
  },
  {
   "cell_type": "code",
   "execution_count": 5,
   "id": "6385e3e6",
   "metadata": {
    "ExecuteTime": {
     "end_time": "2023-11-14T19:14:27.577105Z",
     "start_time": "2023-11-14T19:14:27.390659Z"
    }
   },
   "outputs": [
    {
     "name": "stdout",
     "output_type": "stream",
     "text": [
      "INFO  Using hardwired config\n",
      "dir_name: /app/amp/dataflow/model/test/outcomes/Test_run_master_research_backtest_analyzer/input/tiled_results\n",
      "start_date: 2000-01-01\n",
      "end_date: 2000-01-31\n",
      "asset_id_col: asset_id\n",
      "pnl_resampling_frequency: 15T\n",
      "annotate_forecasts_kwargs: \n",
      "  style: longitudinal\n",
      "  quantization: 30\n",
      "  liquidate_at_end_of_day: False\n",
      "  initialize_beginning_of_day_trades_to_zero: False\n",
      "  burn_in_bars: 3\n",
      "  compute_extended_stats: True\n",
      "  target_dollar_risk_per_name: 100.0\n",
      "  modulate_using_prediction_magnitude: True\n",
      "column_names: \n",
      "  price_col: vwap\n",
      "  volatility_col: vwap.ret_0.vol\n",
      "  prediction_col: prediction\n",
      "bin_annotated_portfolio_df_kwargs: \n",
      "  proportion_of_data_per_bin: 0.2\n",
      "  normalize_prediction_col_values: False\n",
      "load_all_tiles_in_memory: False\n"
     ]
    }
   ],
   "source": [
    "# Get config from env when running the notebook via the `run_notebook.py` script.\n",
    "default_config = cconfig.get_config_from_env()\n",
    "if default_config:\n",
    "    _LOG.info(\"Using config from env vars\")\n",
    "else:\n",
    "    _LOG.info(\"Using hardwired config\")\n",
    "    # Build default config.\n",
    "    amp_dir = hgit.get_amp_abs_path()\n",
    "    dir_name = os.path.join(\n",
    "        amp_dir,\n",
    "        \"dataflow/model/test/outcomes/Test_run_master_research_backtest_analyzer/input/tiled_results\",\n",
    "    )\n",
    "    default_config_dict = {\n",
    "        \"dir_name\": dir_name,\n",
    "        \"start_date\": datetime.date(2000, 1, 1),\n",
    "        \"end_date\": datetime.date(2000, 1, 31),\n",
    "        \"asset_id_col\": \"asset_id\",\n",
    "        \"pnl_resampling_frequency\": \"15T\",\n",
    "        \"annotate_forecasts_kwargs\": {\n",
    "            \"style\": \"longitudinal\",\n",
    "            \"quantization\": 30,\n",
    "            \"liquidate_at_end_of_day\": False,\n",
    "            \"initialize_beginning_of_day_trades_to_zero\": False,\n",
    "            \"burn_in_bars\": 3,\n",
    "            \"compute_extended_stats\": True,\n",
    "            \"target_dollar_risk_per_name\": 1e2,\n",
    "            \"modulate_using_prediction_magnitude\": True,\n",
    "        },\n",
    "        \"column_names\": {\n",
    "            \"price_col\": \"vwap\",\n",
    "            \"volatility_col\": \"vwap.ret_0.vol\",\n",
    "            \"prediction_col\": \"prediction\",\n",
    "        },\n",
    "        \"bin_annotated_portfolio_df_kwargs\": {\n",
    "            \"proportion_of_data_per_bin\": 0.2,\n",
    "            \"normalize_prediction_col_values\": False,\n",
    "        },\n",
    "        \"load_all_tiles_in_memory\": False,\n",
    "    }\n",
    "    default_config = cconfig.Config().from_dict(default_config_dict)\n",
    "print(default_config)"
   ]
  },
  {
   "cell_type": "code",
   "execution_count": 6,
   "id": "da03e9b9",
   "metadata": {
    "ExecuteTime": {
     "end_time": "2023-11-14T19:14:27.640379Z",
     "start_time": "2023-11-14T19:14:27.581994Z"
    }
   },
   "outputs": [
    {
     "name": "stdout",
     "output_type": "stream",
     "text": [
      "dict_keys(['default_config'])\n"
     ]
    }
   ],
   "source": [
    "config_dict = build_research_backtest_analyzer_config_dict(default_config)\n",
    "print(config_dict.keys())"
   ]
  },
  {
   "cell_type": "markdown",
   "id": "5b810b4b",
   "metadata": {},
   "source": [
    "# Load tiled results"
   ]
  },
  {
   "cell_type": "markdown",
   "id": "a479096f",
   "metadata": {},
   "source": [
    "## Report tile stats"
   ]
  },
  {
   "cell_type": "code",
   "execution_count": 7,
   "id": "8b063b8e",
   "metadata": {
    "ExecuteTime": {
     "end_time": "2023-11-14T19:14:27.702489Z",
     "start_time": "2023-11-14T19:14:27.648731Z"
    }
   },
   "outputs": [],
   "source": [
    "parquet_tile_analyzer = dtfmod.ParquetTileAnalyzer()\n",
    "parquet_tile_metadata = parquet_tile_analyzer.collate_parquet_tile_metadata(\n",
    "    default_config[\"dir_name\"]\n",
    ")"
   ]
  },
  {
   "cell_type": "code",
   "execution_count": 8,
   "id": "a54305c5",
   "metadata": {
    "ExecuteTime": {
     "end_time": "2023-11-14T19:14:27.783699Z",
     "start_time": "2023-11-14T19:14:27.707104Z"
    }
   },
   "outputs": [
    {
     "data": {
      "text/html": [
       "<div>\n",
       "<style scoped>\n",
       "    .dataframe tbody tr th:only-of-type {\n",
       "        vertical-align: middle;\n",
       "    }\n",
       "\n",
       "    .dataframe tbody tr th {\n",
       "        vertical-align: top;\n",
       "    }\n",
       "\n",
       "    .dataframe thead th {\n",
       "        text-align: right;\n",
       "    }\n",
       "</style>\n",
       "<table border=\"1\" class=\"dataframe\">\n",
       "  <thead>\n",
       "    <tr style=\"text-align: right;\">\n",
       "      <th></th>\n",
       "      <th>n_years</th>\n",
       "      <th>n_unique_months</th>\n",
       "      <th>n_files</th>\n",
       "      <th>size</th>\n",
       "    </tr>\n",
       "    <tr>\n",
       "      <th>asset_id</th>\n",
       "      <th></th>\n",
       "      <th></th>\n",
       "      <th></th>\n",
       "      <th></th>\n",
       "    </tr>\n",
       "  </thead>\n",
       "  <tbody>\n",
       "    <tr>\n",
       "      <th>1467591036</th>\n",
       "      <td>1</td>\n",
       "      <td>1</td>\n",
       "      <td>1</td>\n",
       "      <td>12.4 KB</td>\n",
       "    </tr>\n",
       "    <tr>\n",
       "      <th>3303714233</th>\n",
       "      <td>1</td>\n",
       "      <td>1</td>\n",
       "      <td>1</td>\n",
       "      <td>12.4 KB</td>\n",
       "    </tr>\n",
       "  </tbody>\n",
       "</table>\n",
       "</div>"
      ],
      "text/plain": [
       "            n_years  n_unique_months  n_files     size\n",
       "asset_id                                              \n",
       "1467591036        1                1        1  12.4 KB\n",
       "3303714233        1                1        1  12.4 KB"
      ]
     },
     "execution_count": 8,
     "metadata": {},
     "output_type": "execute_result"
    }
   ],
   "source": [
    "parquet_tile_analyzer.compute_metadata_stats_by_asset_id(parquet_tile_metadata)"
   ]
  },
  {
   "cell_type": "code",
   "execution_count": 9,
   "id": "c80be32c",
   "metadata": {
    "ExecuteTime": {
     "end_time": "2023-11-14T19:14:27.898384Z",
     "start_time": "2023-11-14T19:14:27.804655Z"
    }
   },
   "outputs": [
    {
     "data": {
      "text/html": [
       "<div>\n",
       "<style scoped>\n",
       "    .dataframe tbody tr th:only-of-type {\n",
       "        vertical-align: middle;\n",
       "    }\n",
       "\n",
       "    .dataframe tbody tr th {\n",
       "        vertical-align: top;\n",
       "    }\n",
       "\n",
       "    .dataframe thead th {\n",
       "        text-align: right;\n",
       "    }\n",
       "</style>\n",
       "<table border=\"1\" class=\"dataframe\">\n",
       "  <thead>\n",
       "    <tr style=\"text-align: right;\">\n",
       "      <th></th>\n",
       "      <th></th>\n",
       "      <th>n_asset_ids</th>\n",
       "      <th>size</th>\n",
       "    </tr>\n",
       "    <tr>\n",
       "      <th>year</th>\n",
       "      <th>month</th>\n",
       "      <th></th>\n",
       "      <th></th>\n",
       "    </tr>\n",
       "  </thead>\n",
       "  <tbody>\n",
       "    <tr>\n",
       "      <th>2000</th>\n",
       "      <th>1</th>\n",
       "      <td>2</td>\n",
       "      <td>24.8 KB</td>\n",
       "    </tr>\n",
       "  </tbody>\n",
       "</table>\n",
       "</div>"
      ],
      "text/plain": [
       "            n_asset_ids     size\n",
       "year month                      \n",
       "2000 1                2  24.8 KB"
      ]
     },
     "execution_count": 9,
     "metadata": {},
     "output_type": "execute_result"
    }
   ],
   "source": [
    "parquet_tile_analyzer.compute_universe_size_by_time(parquet_tile_metadata)"
   ]
  },
  {
   "cell_type": "code",
   "execution_count": 10,
   "id": "fb4e047e",
   "metadata": {
    "ExecuteTime": {
     "end_time": "2023-11-14T19:14:27.968639Z",
     "start_time": "2023-11-14T19:14:27.903152Z"
    }
   },
   "outputs": [
    {
     "data": {
      "text/plain": [
       "[1467591036, 3303714233]"
      ]
     },
     "metadata": {},
     "output_type": "display_data"
    }
   ],
   "source": [
    "asset_ids = parquet_tile_metadata.index.levels[0].to_list()\n",
    "display(asset_ids)"
   ]
  },
  {
   "cell_type": "markdown",
   "id": "b2810f1f",
   "metadata": {},
   "source": [
    "## Load tile data"
   ]
  },
  {
   "cell_type": "code",
   "execution_count": 11,
   "id": "ec609e79",
   "metadata": {
    "ExecuteTime": {
     "end_time": "2023-11-14T19:14:28.070820Z",
     "start_time": "2023-11-14T19:14:27.972311Z"
    }
   },
   "outputs": [
    {
     "data": {
      "application/vnd.jupyter.widget-view+json": {
       "model_id": "6588dec277f746f9aae20dafcc387c42",
       "version_major": 2,
       "version_minor": 0
      },
      "text/plain": [
       "  0%|          | 0/1 [00:00<?, ?it/s]"
      ]
     },
     "metadata": {},
     "output_type": "display_data"
    }
   ],
   "source": [
    "if default_config[\"load_all_tiles_in_memory\"]:\n",
    "    asset_ids_to_load = asset_ids\n",
    "else:\n",
    "    asset_ids_to_load = asset_ids[0:1]\n",
    "asset_batch_size = len(asset_ids_to_load)\n",
    "cols = None\n",
    "#\n",
    "asset_tile = next(\n",
    "    hparque.yield_parquet_tiles_by_assets(\n",
    "        default_config[\"dir_name\"],\n",
    "        asset_ids_to_load,\n",
    "        default_config[\"asset_id_col\"],\n",
    "        asset_batch_size,\n",
    "        cols,\n",
    "    )\n",
    ")"
   ]
  },
  {
   "cell_type": "code",
   "execution_count": 12,
   "id": "7a49976f",
   "metadata": {
    "ExecuteTime": {
     "end_time": "2023-11-14T19:14:28.140677Z",
     "start_time": "2023-11-14T19:14:28.073827Z"
    }
   },
   "outputs": [],
   "source": [
    "tile_df = dtfmod.process_parquet_read_df(\n",
    "    asset_tile, default_config[\"asset_id_col\"]\n",
    ")"
   ]
  },
  {
   "cell_type": "code",
   "execution_count": 13,
   "id": "6195aa37",
   "metadata": {
    "ExecuteTime": {
     "end_time": "2023-11-14T19:14:28.222236Z",
     "start_time": "2023-11-14T19:14:28.151251Z"
    }
   },
   "outputs": [
    {
     "data": {
      "text/plain": [
       "['close',\n",
       " 'close.ret_0',\n",
       " 'feature1',\n",
       " 'month',\n",
       " 'prediction',\n",
       " 'twap',\n",
       " 'twap.ret_0',\n",
       " 'vwap',\n",
       " 'vwap.ret_0',\n",
       " 'vwap.ret_0.vol',\n",
       " 'vwap.ret_0.vol_adj',\n",
       " 'vwap.ret_0.vol_adj.c',\n",
       " 'vwap.ret_0.vol_adj.c.lag0',\n",
       " 'vwap.ret_0.vol_adj.c.lag1',\n",
       " 'vwap.ret_0.vol_adj.c.lag2',\n",
       " 'vwap.ret_0.vol_adj.c.lag3',\n",
       " 'year']"
      ]
     },
     "execution_count": 13,
     "metadata": {},
     "output_type": "execute_result"
    }
   ],
   "source": [
    "tile_df.columns.levels[0].to_list()"
   ]
  },
  {
   "cell_type": "code",
   "execution_count": 14,
   "id": "67510225",
   "metadata": {
    "ExecuteTime": {
     "end_time": "2023-11-14T19:14:28.355660Z",
     "start_time": "2023-11-14T19:14:28.230699Z"
    }
   },
   "outputs": [
    {
     "data": {
      "text/html": [
       "<div>\n",
       "<style scoped>\n",
       "    .dataframe tbody tr th:only-of-type {\n",
       "        vertical-align: middle;\n",
       "    }\n",
       "\n",
       "    .dataframe tbody tr th {\n",
       "        vertical-align: top;\n",
       "    }\n",
       "\n",
       "    .dataframe thead tr th {\n",
       "        text-align: left;\n",
       "    }\n",
       "\n",
       "    .dataframe thead tr:last-of-type th {\n",
       "        text-align: right;\n",
       "    }\n",
       "</style>\n",
       "<table border=\"1\" class=\"dataframe\">\n",
       "  <thead>\n",
       "    <tr>\n",
       "      <th></th>\n",
       "      <th>close</th>\n",
       "      <th>close.ret_0</th>\n",
       "      <th>feature1</th>\n",
       "      <th>month</th>\n",
       "      <th>prediction</th>\n",
       "      <th>twap</th>\n",
       "      <th>twap.ret_0</th>\n",
       "      <th>vwap</th>\n",
       "      <th>vwap.ret_0</th>\n",
       "      <th>vwap.ret_0.vol</th>\n",
       "      <th>vwap.ret_0.vol_adj</th>\n",
       "      <th>vwap.ret_0.vol_adj.c</th>\n",
       "      <th>vwap.ret_0.vol_adj.c.lag0</th>\n",
       "      <th>vwap.ret_0.vol_adj.c.lag1</th>\n",
       "      <th>vwap.ret_0.vol_adj.c.lag2</th>\n",
       "      <th>vwap.ret_0.vol_adj.c.lag3</th>\n",
       "      <th>year</th>\n",
       "    </tr>\n",
       "    <tr>\n",
       "      <th>asset_id</th>\n",
       "      <th>1467591036</th>\n",
       "      <th>1467591036</th>\n",
       "      <th>1467591036</th>\n",
       "      <th>1467591036</th>\n",
       "      <th>1467591036</th>\n",
       "      <th>1467591036</th>\n",
       "      <th>1467591036</th>\n",
       "      <th>1467591036</th>\n",
       "      <th>1467591036</th>\n",
       "      <th>1467591036</th>\n",
       "      <th>1467591036</th>\n",
       "      <th>1467591036</th>\n",
       "      <th>1467591036</th>\n",
       "      <th>1467591036</th>\n",
       "      <th>1467591036</th>\n",
       "      <th>1467591036</th>\n",
       "      <th>1467591036</th>\n",
       "    </tr>\n",
       "    <tr>\n",
       "      <th>end_ts</th>\n",
       "      <th></th>\n",
       "      <th></th>\n",
       "      <th></th>\n",
       "      <th></th>\n",
       "      <th></th>\n",
       "      <th></th>\n",
       "      <th></th>\n",
       "      <th></th>\n",
       "      <th></th>\n",
       "      <th></th>\n",
       "      <th></th>\n",
       "      <th></th>\n",
       "      <th></th>\n",
       "      <th></th>\n",
       "      <th></th>\n",
       "      <th></th>\n",
       "      <th></th>\n",
       "    </tr>\n",
       "  </thead>\n",
       "  <tbody>\n",
       "    <tr>\n",
       "      <th>2000-01-01 14:35:00+00:00</th>\n",
       "      <td>101.0</td>\n",
       "      <td>NaN</td>\n",
       "      <td>1.0</td>\n",
       "      <td>1</td>\n",
       "      <td>NaN</td>\n",
       "      <td>101.0</td>\n",
       "      <td>NaN</td>\n",
       "      <td>101.0</td>\n",
       "      <td>NaN</td>\n",
       "      <td>NaN</td>\n",
       "      <td>NaN</td>\n",
       "      <td>NaN</td>\n",
       "      <td>NaN</td>\n",
       "      <td>NaN</td>\n",
       "      <td>NaN</td>\n",
       "      <td>NaN</td>\n",
       "      <td>2000</td>\n",
       "    </tr>\n",
       "    <tr>\n",
       "      <th>2000-01-01 14:40:00+00:00</th>\n",
       "      <td>100.0</td>\n",
       "      <td>-0.00995</td>\n",
       "      <td>-1.0</td>\n",
       "      <td>1</td>\n",
       "      <td>NaN</td>\n",
       "      <td>100.0</td>\n",
       "      <td>-0.00995</td>\n",
       "      <td>100.0</td>\n",
       "      <td>-0.00995</td>\n",
       "      <td>NaN</td>\n",
       "      <td>NaN</td>\n",
       "      <td>NaN</td>\n",
       "      <td>NaN</td>\n",
       "      <td>NaN</td>\n",
       "      <td>NaN</td>\n",
       "      <td>NaN</td>\n",
       "      <td>2000</td>\n",
       "    </tr>\n",
       "    <tr>\n",
       "      <th>2000-01-01 14:45:00+00:00</th>\n",
       "      <td>101.0</td>\n",
       "      <td>0.00995</td>\n",
       "      <td>1.0</td>\n",
       "      <td>1</td>\n",
       "      <td>NaN</td>\n",
       "      <td>101.0</td>\n",
       "      <td>0.00995</td>\n",
       "      <td>101.0</td>\n",
       "      <td>0.00995</td>\n",
       "      <td>NaN</td>\n",
       "      <td>NaN</td>\n",
       "      <td>NaN</td>\n",
       "      <td>NaN</td>\n",
       "      <td>NaN</td>\n",
       "      <td>NaN</td>\n",
       "      <td>NaN</td>\n",
       "      <td>2000</td>\n",
       "    </tr>\n",
       "  </tbody>\n",
       "</table>\n",
       "</div>"
      ],
      "text/plain": [
       "                               close close.ret_0   feature1      month prediction       twap twap.ret_0       vwap vwap.ret_0 vwap.ret_0.vol vwap.ret_0.vol_adj vwap.ret_0.vol_adj.c vwap.ret_0.vol_adj.c.lag0 vwap.ret_0.vol_adj.c.lag1 vwap.ret_0.vol_adj.c.lag2 vwap.ret_0.vol_adj.c.lag3       year\n",
       "asset_id                  1467591036  1467591036 1467591036 1467591036 1467591036 1467591036 1467591036 1467591036 1467591036     1467591036         1467591036           1467591036                1467591036                1467591036                1467591036                1467591036 1467591036\n",
       "end_ts                                                                                                                                                                                                                                                                                                 \n",
       "2000-01-01 14:35:00+00:00      101.0         NaN        1.0          1        NaN      101.0        NaN      101.0        NaN            NaN                NaN                  NaN                       NaN                       NaN                       NaN                       NaN       2000\n",
       "2000-01-01 14:40:00+00:00      100.0    -0.00995       -1.0          1        NaN      100.0   -0.00995      100.0   -0.00995            NaN                NaN                  NaN                       NaN                       NaN                       NaN                       NaN       2000\n",
       "2000-01-01 14:45:00+00:00      101.0     0.00995        1.0          1        NaN      101.0    0.00995      101.0    0.00995            NaN                NaN                  NaN                       NaN                       NaN                       NaN                       NaN       2000"
      ]
     },
     "execution_count": 14,
     "metadata": {},
     "output_type": "execute_result"
    }
   ],
   "source": [
    "tile_df.head(3)"
   ]
  },
  {
   "cell_type": "markdown",
   "id": "8bad2928",
   "metadata": {},
   "source": [
    "# Compute portfolio bar metrics"
   ]
  },
  {
   "cell_type": "code",
   "execution_count": 15,
   "id": "b33d1294",
   "metadata": {
    "ExecuteTime": {
     "end_time": "2023-11-14T19:14:28.634616Z",
     "start_time": "2023-11-14T19:14:28.359973Z"
    }
   },
   "outputs": [
    {
     "data": {
      "application/vnd.jupyter.widget-view+json": {
       "model_id": "0ef08d9a798f426fa2315864e7dfc5d5",
       "version_major": 2,
       "version_minor": 0
      },
      "text/plain": [
       "  0%|          | 0/1 [00:00<?, ?it/s]"
      ]
     },
     "metadata": {},
     "output_type": "display_data"
    },
    {
     "name": "stdout",
     "output_type": "stream",
     "text": [
      "INFO  spread is `None`; imputing spread_lower_bound=0.000100\n"
     ]
    }
   ],
   "source": [
    "portfolio_df_dict = {}\n",
    "bar_metrics_dict = {}\n",
    "for key, config in config_dict.items():\n",
    "    if config[\"load_all_tiles_in_memory\"]:\n",
    "        fep = dtfmod.ForecastEvaluatorFromPrices(\n",
    "            **config[\"column_names\"].to_dict()\n",
    "        )\n",
    "        portfolio_df, bar_metrics = fep.annotate_forecasts(\n",
    "            tile_df,\n",
    "            **config[\"annotate_forecasts_kwargs\"].to_dict(),\n",
    "        )\n",
    "    else:\n",
    "        portfolio_df, bar_metrics = dtfmod.annotate_forecasts_by_tile(\n",
    "            config[\"dir_name\"],\n",
    "            config[\"start_date\"],\n",
    "            config[\"end_date\"],\n",
    "            config[\"asset_id_col\"],\n",
    "            config[\"column_names\"][\"price_col\"],\n",
    "            config[\"column_names\"][\"volatility_col\"],\n",
    "            config[\"column_names\"][\"prediction_col\"],\n",
    "            asset_ids=None,\n",
    "            annotate_forecasts_kwargs=config[\n",
    "                \"annotate_forecasts_kwargs\"\n",
    "            ].to_dict(),\n",
    "            return_portfolio_df=True,\n",
    "        )\n",
    "    portfolio_df_dict[key] = portfolio_df\n",
    "    bar_metrics_dict[key] = bar_metrics\n",
    "portfolio_stats_df = pd.concat(bar_metrics_dict, axis=1)"
   ]
  },
  {
   "cell_type": "code",
   "execution_count": null,
   "id": "e821a69a",
   "metadata": {
    "ExecuteTime": {
     "start_time": "2023-11-14T19:14:11.538Z"
    }
   },
   "outputs": [],
   "source": [
    "coplotti.plot_portfolio_stats(\n",
    "    portfolio_stats_df, freq=default_config[\"pnl_resampling_frequency\"]\n",
    ")"
   ]
  },
  {
   "cell_type": "code",
   "execution_count": null,
   "id": "5bbc569e",
   "metadata": {
    "ExecuteTime": {
     "start_time": "2023-11-14T19:14:11.539Z"
    },
    "scrolled": false
   },
   "outputs": [],
   "source": [
    "coplotti.plot_portfolio_binned_stats(\n",
    "    portfolio_df_dict,\n",
    "    **config[\"bin_annotated_portfolio_df_kwargs\"],\n",
    ")"
   ]
  },
  {
   "cell_type": "markdown",
   "id": "dd537560",
   "metadata": {},
   "source": [
    "# Compute aggregate portfolio stats"
   ]
  },
  {
   "cell_type": "code",
   "execution_count": null,
   "id": "130d4c62",
   "metadata": {
    "ExecuteTime": {
     "start_time": "2023-11-14T19:14:11.540Z"
    }
   },
   "outputs": [],
   "source": [
    "stats_computer = dtfmod.StatsComputer()"
   ]
  },
  {
   "cell_type": "code",
   "execution_count": null,
   "id": "3c729e3b",
   "metadata": {
    "ExecuteTime": {
     "start_time": "2023-11-14T19:14:11.541Z"
    }
   },
   "outputs": [],
   "source": [
    "portfolio_stats, daily_metrics = stats_computer.compute_portfolio_stats(\n",
    "    portfolio_stats_df,\n",
    "    default_config[\"pnl_resampling_frequency\"],\n",
    ")\n",
    "display(portfolio_stats)"
   ]
  },
  {
   "cell_type": "code",
   "execution_count": null,
   "id": "b00aaf2f",
   "metadata": {},
   "outputs": [],
   "source": []
  }
 ],
 "metadata": {
  "kernelspec": {
   "display_name": "Python 3 (ipykernel)",
   "language": "python",
   "name": "python3"
  },
  "language_info": {
   "codemirror_mode": {
    "name": "ipython",
    "version": 3
   },
   "file_extension": ".py",
   "mimetype": "text/x-python",
   "name": "python",
   "nbconvert_exporter": "python",
   "pygments_lexer": "ipython3",
   "version": "3.9.5"
  },
  "toc": {
   "base_numbering": 1,
   "nav_menu": {},
   "number_sections": true,
   "sideBar": true,
   "skip_h1_title": false,
   "title_cell": "Table of Contents",
   "title_sidebar": "Contents",
   "toc_cell": false,
   "toc_position": {},
   "toc_section_display": true,
   "toc_window_display": false
  }
 },
 "nbformat": 4,
 "nbformat_minor": 5
}
