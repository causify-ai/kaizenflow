{
 "cells": [
  {
   "cell_type": "code",
   "execution_count": null,
   "id": "446eb752",
   "metadata": {},
   "outputs": [],
   "source": [
    "%load_ext autoreload\n",
    "%autoreload 2\n",
    "%matplotlib inline\n",
    "\n",
    "import logging\n",
    "\n",
    "import core.config as cconfig\n",
    "import core.plotting as coplotti\n",
    "import dataflow.model as dtfmod\n",
    "import helpers.hdbg as hdbg\n",
    "import helpers.henv as henv\n",
    "import helpers.hparquet as hparque\n",
    "import helpers.hprint as hprint"
   ]
  },
  {
   "cell_type": "code",
   "execution_count": null,
   "id": "affb27e4",
   "metadata": {},
   "outputs": [],
   "source": [
    "hdbg.init_logger(verbosity=logging.INFO)\n",
    "\n",
    "_LOG = logging.getLogger(__name__)\n",
    "\n",
    "_LOG.info(\"%s\", henv.get_system_signature()[0])\n",
    "\n",
    "hprint.config_notebook()"
   ]
  },
  {
   "cell_type": "markdown",
   "id": "1fde07fb",
   "metadata": {},
   "source": [
    "# Load tiled backtest"
   ]
  },
  {
   "cell_type": "code",
   "execution_count": null,
   "id": "6385e3e6",
   "metadata": {},
   "outputs": [],
   "source": [
    "dict_ = {\n",
    "    \"file_name\": \"\",\n",
    "    \"asset_id_col\": \"\",\n",
    "    \"prediction_col\": \"\",\n",
    "    \"returns_col\": \"\",\n",
    "    \"volatility_col\": \"\",\n",
    "    \"target_gmv\": 1e6,\n",
    "    \"dollar_neutrality\": \"no_constraint\",\n",
    "    \"freq\": \"5T\",\n",
    "    # \"start_timestamp\": \"\",\n",
    "    # \"end_timestamp\": \"\",\n",
    "}"
   ]
  },
  {
   "cell_type": "code",
   "execution_count": null,
   "id": "04cddfd8",
   "metadata": {},
   "outputs": [],
   "source": [
    "config = cconfig.get_config_from_nested_dict(dict_)"
   ]
  },
  {
   "cell_type": "code",
   "execution_count": null,
   "id": "f18f839d",
   "metadata": {},
   "outputs": [],
   "source": [
    "columns = [\n",
    "    config[\"asset_id_col\"],\n",
    "    config[\"prediction_col\"],\n",
    "    config[\"returns_col\"],\n",
    "    config[\"volatility_col\"],\n",
    "]"
   ]
  },
  {
   "cell_type": "code",
   "execution_count": null,
   "id": "9e28d26b",
   "metadata": {},
   "outputs": [],
   "source": [
    "parquet_df = hparque.from_parquet(config[\"file_name\"], columns=columns)"
   ]
  },
  {
   "cell_type": "code",
   "execution_count": null,
   "id": "f44631d5",
   "metadata": {},
   "outputs": [],
   "source": [
    "df = dtfmod.process_parquet_read_df(parquet_df, config[\"asset_id_col\"])"
   ]
  },
  {
   "cell_type": "code",
   "execution_count": null,
   "id": "ea28c639",
   "metadata": {},
   "outputs": [],
   "source": [
    "_LOG.info(\"num_assets=%d\", len(df.columns.levels[1]))"
   ]
  },
  {
   "cell_type": "markdown",
   "id": "2a2369a7",
   "metadata": {},
   "source": [
    "# Computer per-bar portfolio stats"
   ]
  },
  {
   "cell_type": "code",
   "execution_count": null,
   "id": "077c72ce",
   "metadata": {},
   "outputs": [],
   "source": [
    "forecast_evaluator = dtfmod.ForecastEvaluator(\n",
    "    returns_col=config[\"returns_col\"],\n",
    "    volatility_col=config[\"volatility_col\"],\n",
    "    prediction_col=config[\"prediction_col\"],\n",
    ")"
   ]
  },
  {
   "cell_type": "code",
   "execution_count": null,
   "id": "c1adeb64",
   "metadata": {},
   "outputs": [],
   "source": [
    "portfolio_df, bar_stats_df = forecast_evaluator.annotate_forecasts(\n",
    "    df,\n",
    "    target_gmv=config[\"target_gmv\"],\n",
    "    dollar_neutrality=config[\"dollar_neutrality\"],\n",
    ")"
   ]
  },
  {
   "cell_type": "markdown",
   "id": "6a265918",
   "metadata": {},
   "source": [
    "# Computer aggregate portfolio stats"
   ]
  },
  {
   "cell_type": "code",
   "execution_count": null,
   "id": "e0b5aeab",
   "metadata": {},
   "outputs": [],
   "source": [
    "stats_computer = dtfmod.StatsComputer()"
   ]
  },
  {
   "cell_type": "code",
   "execution_count": null,
   "id": "65041403",
   "metadata": {},
   "outputs": [],
   "source": [
    "stats, stats_df = stats_computer.compute_portfolio_stats(\n",
    "    bar_stats_df, config[\"freq\"]\n",
    ")\n",
    "display(stats)"
   ]
  },
  {
   "cell_type": "markdown",
   "id": "3028edea",
   "metadata": {},
   "source": [
    "# Plot portfolio metrics"
   ]
  },
  {
   "cell_type": "code",
   "execution_count": null,
   "id": "7d7d9cc0",
   "metadata": {},
   "outputs": [],
   "source": [
    "coplotti.plot_portfolio_stats(bar_stats_df)"
   ]
  }
 ],
 "metadata": {
  "jupytext": {
   "text_representation": {
    "extension": ".py",
    "format_name": "percent",
    "format_version": "1.3",
    "jupytext_version": "1.13.3"
   }
  },
  "kernelspec": {
   "display_name": "Python 3 (ipykernel)",
   "language": "python",
   "name": "python3"
  },
  "language_info": {
   "codemirror_mode": {
    "name": "ipython",
    "version": 3
   },
   "file_extension": ".py",
   "mimetype": "text/x-python",
   "name": "python",
   "nbconvert_exporter": "python",
   "pygments_lexer": "ipython3"
  },
  "toc": {
   "base_numbering": 1,
   "nav_menu": {},
   "number_sections": true,
   "sideBar": true,
   "skip_h1_title": false,
   "title_cell": "Table of Contents",
   "title_sidebar": "Contents",
   "toc_cell": false,
   "toc_position": {},
   "toc_section_display": true,
   "toc_window_display": false
  }
 },
 "nbformat": 4,
 "nbformat_minor": 5
}
