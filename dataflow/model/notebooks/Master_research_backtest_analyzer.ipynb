{
 "cells": [
  {
   "cell_type": "markdown",
   "id": "d129325a",
   "metadata": {},
   "source": [
    "# Description"
   ]
  },
  {
   "cell_type": "markdown",
   "id": "a83cbc80",
   "metadata": {},
   "source": [
    "Analyze research backtest results."
   ]
  },
  {
   "cell_type": "markdown",
   "id": "bfe9a04c",
   "metadata": {},
   "source": [
    "# Imports"
   ]
  },
  {
   "cell_type": "code",
   "execution_count": null,
   "id": "f0c6358e",
   "metadata": {},
   "outputs": [],
   "source": [
    "%load_ext autoreload\n",
    "%autoreload 2\n",
    "%matplotlib inline"
   ]
  },
  {
   "cell_type": "code",
   "execution_count": null,
   "id": "718d8b59",
   "metadata": {},
   "outputs": [],
   "source": [
    "import datetime\n",
    "import logging\n",
    "import os\n",
    "\n",
    "import pandas as pd\n",
    "\n",
    "import core.config as cconfig\n",
    "import core.plotting as coplotti\n",
    "import dataflow.model as dtfmod\n",
    "import dataflow_amp.system.Cx as dtfamsysc\n",
    "import helpers.hdbg as hdbg\n",
    "import helpers.henv as henv\n",
    "import helpers.hgit as hgit\n",
    "import helpers.hparquet as hparque\n",
    "import helpers.hprint as hprint\n",
    "import im_v2.common.data.client.historical_pq_clients as imvcdchpcl\n",
    "import market_data as mdata\n",
    "import oms.broker.ccxt.ccxt_utils as obccccut"
   ]
  },
  {
   "cell_type": "code",
   "execution_count": null,
   "id": "415285db",
   "metadata": {
    "lines_to_next_cell": 2
   },
   "outputs": [],
   "source": [
    "hdbg.init_logger(verbosity=logging.INFO)\n",
    "\n",
    "_LOG = logging.getLogger(__name__)\n",
    "\n",
    "_LOG.info(\"%s\", henv.get_system_signature()[0])\n",
    "\n",
    "hprint.config_notebook()"
   ]
  },
  {
   "cell_type": "markdown",
   "id": "2b274df6",
   "metadata": {},
   "source": [
    "# Build the config dict"
   ]
  },
  {
   "cell_type": "code",
   "execution_count": null,
   "id": "e6cc575c",
   "metadata": {},
   "outputs": [],
   "source": [
    "# Get config from env when running the notebook via the `run_notebook.py` script.\n",
    "default_config = cconfig.get_config_from_env()\n",
    "if default_config:\n",
    "    _LOG.info(\"Using config from env vars\")\n",
    "else:\n",
    "    _LOG.info(\"Using hardwired config\")\n",
    "    # Build default config.\n",
    "    amp_dir = hgit.get_amp_abs_path()\n",
    "    dir_name = os.path.join(\n",
    "        amp_dir,\n",
    "        \"/shared_data/backtest.danya/build_tile_configs.C11a.ccxt_v8_1-all.6T.2023-06-01_2024-01-31.ins.run0/tiled_results\",\n",
    "    )\n",
    "    # Create a subfolder to store portfolio metrics.\n",
    "    # The subfolder is marked by the datetime of the run, e.g.\n",
    "    # \"build_tile_configs.C11a.ccxt_v8_1-all.5T.2023-01-01_2024-03-20.ins.run0/portfolio_dfs/20240326_131724\".\n",
    "    # TODO(Danya): Factor out into a function.\n",
    "    output_dir_name = os.path.join(\n",
    "        dir_name.rstrip(\"tiled_results\"),\n",
    "        \"portfolio_dfs\",\n",
    "        pd.Timestamp.utcnow().strftime(\"%Y%m%d_%H%M%S\"),\n",
    "    )\n",
    "    default_config_dict = {\n",
    "        \"dir_name\": dir_name,\n",
    "        \"output_dir_name\": output_dir_name,\n",
    "        \"start_date\": datetime.date(2023, 6, 1),\n",
    "        \"end_date\": datetime.date(2024, 1, 31),\n",
    "        \"asset_id_col\": \"asset_id\",\n",
    "        \"pnl_resampling_frequency\": \"D\",\n",
    "        \"rule\": \"6T\",\n",
    "        \"im_client_config\": {\n",
    "            \"vendor\": \"ccxt\",\n",
    "            \"universe_version\": \"v8.1\",\n",
    "            \"root_dir\": \"s3://cryptokaizen-data.preprod/v3\",\n",
    "            \"partition_mode\": \"by_year_month\",\n",
    "            \"dataset\": \"ohlcv\",\n",
    "            \"contract_type\": \"futures\",\n",
    "            \"data_snapshot\": \"\",\n",
    "            \"aws_profile\": \"ck\",\n",
    "            \"version\": \"v1_0_0\",\n",
    "            \"download_universe_version\": \"v8\",\n",
    "            \"tag\": \"downloaded_1min\",\n",
    "            \"download_mode\": \"periodic_daily\",\n",
    "            \"downloading_entity\": \"airflow\",\n",
    "            \"resample_1min\": False,\n",
    "        },\n",
    "        \"annotate_forecasts_kwargs\": {\n",
    "            \"style\": \"longitudinal\",\n",
    "            \"quantization\": 30,\n",
    "            \"liquidate_at_end_of_day\": False,\n",
    "            \"initialize_beginning_of_day_trades_to_zero\": False,\n",
    "            \"burn_in_bars\": 3,\n",
    "            \"compute_extended_stats\": True,\n",
    "            \"target_dollar_risk_per_name\": 1.0,\n",
    "            \"modulate_using_prediction_magnitude\": False,\n",
    "            \"prediction_abs_threshold\": 0.3,\n",
    "        },\n",
    "        \"column_names\": {\n",
    "            \"price_col\": \"open\",\n",
    "            \"volatility_col\": \"garman_klass_vol\",\n",
    "            \"prediction_col\": \"feature\",\n",
    "        },\n",
    "        \"bin_annotated_portfolio_df_kwargs\": {\n",
    "            \"proportion_of_data_per_bin\": 0.2,\n",
    "            \"normalize_prediction_col_values\": False,\n",
    "        },\n",
    "        \"load_all_tiles_in_memory\": True,\n",
    "        \"sweep_param\": {\n",
    "            \"keys\": (\n",
    "                \"column_names\",\n",
    "                \"price_col\",\n",
    "            ),\n",
    "            \"values\": [\n",
    "                \"open\",\n",
    "            ],\n",
    "        },\n",
    "    }\n",
    "    # Add asset_id_to_share_decimals based on the `quantization` parameter:\n",
    "    if not default_config_dict[\"annotate_forecasts_kwargs\"][\"quantization\"]:\n",
    "        asset_id_to_share_decimals = obccccut.get_asset_id_to_share_decimals(\n",
    "            \"amount_precision\"\n",
    "        )\n",
    "        default_config_dict[\"annotate_forecasts_kwargs\"][\n",
    "            \"asset_id_to_share_decimals\"\n",
    "        ] = asset_id_to_share_decimals\n",
    "    else:\n",
    "        default_config_dict[\"annotate_forecasts_kwargs\"][\n",
    "            \"asset_id_to_share_decimals\"\n",
    "        ] = None\n",
    "    # Build config from dict.\n",
    "    default_config = cconfig.Config().from_dict(default_config_dict)\n",
    "print(default_config)"
   ]
  },
  {
   "cell_type": "markdown",
   "id": "d93752f5",
   "metadata": {},
   "source": [
    "# Load tiled results"
   ]
  },
  {
   "cell_type": "markdown",
   "id": "b31c4e0e",
   "metadata": {},
   "source": [
    "## Report tile stats"
   ]
  },
  {
   "cell_type": "code",
   "execution_count": null,
   "id": "15fc9aff",
   "metadata": {},
   "outputs": [],
   "source": [
    "parquet_tile_analyzer = dtfmod.ParquetTileAnalyzer()\n",
    "parquet_tile_metadata = parquet_tile_analyzer.collate_parquet_tile_metadata(\n",
    "    default_config[\"dir_name\"]\n",
    ")"
   ]
  },
  {
   "cell_type": "code",
   "execution_count": null,
   "id": "1d61a3c5",
   "metadata": {},
   "outputs": [],
   "source": [
    "parquet_tile_analyzer.compute_metadata_stats_by_asset_id(parquet_tile_metadata)"
   ]
  },
  {
   "cell_type": "code",
   "execution_count": null,
   "id": "a8838334",
   "metadata": {},
   "outputs": [],
   "source": [
    "parquet_tile_analyzer.compute_universe_size_by_time(parquet_tile_metadata)"
   ]
  },
  {
   "cell_type": "code",
   "execution_count": null,
   "id": "72095045",
   "metadata": {},
   "outputs": [],
   "source": [
    "asset_ids = parquet_tile_metadata.index.levels[0].to_list()\n",
    "display(asset_ids)"
   ]
  },
  {
   "cell_type": "markdown",
   "id": "d5807522",
   "metadata": {},
   "source": [
    "## Load tile data"
   ]
  },
  {
   "cell_type": "code",
   "execution_count": null,
   "id": "d126ca26",
   "metadata": {},
   "outputs": [],
   "source": [
    "if default_config[\"load_all_tiles_in_memory\"]:\n",
    "    asset_ids_to_load = asset_ids\n",
    "else:\n",
    "    asset_ids_to_load = asset_ids[0:1]\n",
    "asset_batch_size = len(asset_ids_to_load)\n",
    "cols = None\n",
    "#\n",
    "asset_tile = next(\n",
    "    hparque.yield_parquet_tiles_by_assets(\n",
    "        default_config[\"dir_name\"],\n",
    "        asset_ids_to_load,\n",
    "        default_config[\"asset_id_col\"],\n",
    "        asset_batch_size,\n",
    "        cols,\n",
    "    )\n",
    ")"
   ]
  },
  {
   "cell_type": "code",
   "execution_count": null,
   "id": "7152ab8d",
   "metadata": {},
   "outputs": [],
   "source": [
    "# Trim tile to the specified time interval.\n",
    "asset_tile = asset_tile[\n",
    "    (asset_tile.index >= pd.Timestamp(default_config[\"start_date\"], tz=\"UTC\"))\n",
    "    & (asset_tile.index <= pd.Timestamp(default_config[\"end_date\"], tz=\"UTC\"))\n",
    "]\n",
    "len(asset_tile)"
   ]
  },
  {
   "cell_type": "code",
   "execution_count": null,
   "id": "3822406a",
   "metadata": {},
   "outputs": [],
   "source": [
    "tile_df = dtfmod.process_parquet_read_df(\n",
    "    asset_tile, default_config[\"asset_id_col\"]\n",
    ")"
   ]
  },
  {
   "cell_type": "code",
   "execution_count": null,
   "id": "72186185",
   "metadata": {},
   "outputs": [],
   "source": [
    "tile_df.columns.levels[0].to_list()"
   ]
  },
  {
   "cell_type": "code",
   "execution_count": null,
   "id": "bb405413",
   "metadata": {},
   "outputs": [],
   "source": [
    "tile_df.head(3)"
   ]
  },
  {
   "cell_type": "markdown",
   "id": "252e7063",
   "metadata": {},
   "source": [
    "### Check NaNs in the price column"
   ]
  },
  {
   "cell_type": "code",
   "execution_count": null,
   "id": "9654e55a",
   "metadata": {},
   "outputs": [],
   "source": [
    "# Since the Optimizer cannot work with NaN values in the price column,\n",
    "# check the presence of NaN values and return the first and last date\n",
    "# where NaNs are encountered.\n",
    "price_col = default_config[\"column_names\"][\"price_col\"]\n",
    "price_df = tile_df[price_col]\n",
    "try:\n",
    "    hdbg.dassert_eq(price_df.isna().sum().sum(), 0)\n",
    "except AssertionError as e:\n",
    "    min_nan_idx = price_df[price_df.isnull().any(axis=1)].index.min()\n",
    "    max_nan_idx = price_df[price_df.isnull().any(axis=1)].index.max()\n",
    "    _LOG.warning(\"NaN values found between %s and %s\", min_nan_idx, max_nan_idx)\n",
    "    raise e"
   ]
  },
  {
   "cell_type": "markdown",
   "id": "355ede63",
   "metadata": {},
   "source": [
    "### Check NaNs in the feature column"
   ]
  },
  {
   "cell_type": "code",
   "execution_count": null,
   "id": "0750699f",
   "metadata": {
    "run_control": {
     "marked": true
    }
   },
   "outputs": [],
   "source": [
    "# If NaNs in the feature column are found, replace them with 0.\n",
    "feature_col = default_config[\"column_names\"][\"prediction_col\"]\n",
    "tile_df[feature_col].isna().sum()"
   ]
  },
  {
   "cell_type": "code",
   "execution_count": null,
   "id": "4018afb9",
   "metadata": {},
   "outputs": [],
   "source": [
    "tile_df[feature_col] = tile_df[feature_col].fillna(0)"
   ]
  },
  {
   "cell_type": "markdown",
   "id": "00a6ae34",
   "metadata": {},
   "source": [
    "## Add weighted resampling price column"
   ]
  },
  {
   "cell_type": "code",
   "execution_count": null,
   "id": "bdc2369e",
   "metadata": {},
   "outputs": [],
   "source": [
    "im_client = imvcdchpcl.HistoricalPqByCurrencyPairTileClient(\n",
    "    **default_config[\"im_client_config\"]\n",
    ")\n",
    "columns = None\n",
    "columns_remap = None\n",
    "wall_clock_time = pd.Timestamp(\"2100-01-01T00:00:00+00:00\")\n",
    "market_data = mdata.get_HistoricalImClientMarketData_example1(\n",
    "    im_client,\n",
    "    asset_ids,\n",
    "    columns,\n",
    "    columns_remap,\n",
    "    wall_clock_time=wall_clock_time,\n",
    ")\n",
    "#\n",
    "bar_duration = \"1T\"\n",
    "ohlcv_data = dtfamsysc.load_and_resample_ohlcv_data(\n",
    "    market_data,\n",
    "    pd.Timestamp(default_config[\"start_date\"], tz=\"UTC\"),\n",
    "    pd.Timestamp(default_config[\"end_date\"], tz=\"UTC\"),\n",
    "    bar_duration,\n",
    ")\n",
    "ohlcv_data.index = ohlcv_data.index.tz_convert(\"UTC\")\n",
    "ohlcv_data.index.freq = pd.infer_freq(ohlcv_data.index)\n",
    "ohlcv_data.head(10)"
   ]
  },
  {
   "cell_type": "code",
   "execution_count": null,
   "id": "9964819e",
   "metadata": {},
   "outputs": [],
   "source": [
    "_LOG.info(\"start_date=%s\", default_config[\"start_date\"])\n",
    "_LOG.info(\"end_date=%s\", default_config[\"end_date\"])\n",
    "_LOG.info(\"ohlcv_data min index=%s\", ohlcv_data.index.min())\n",
    "_LOG.info(\"ohlcv_data max index=%s\", ohlcv_data.index.max())\n",
    "_LOG.info(\"tile_df min index=%s\", tile_df.index.min())\n",
    "_LOG.info(\"tile_df max index=%s\", tile_df.index.max())"
   ]
  },
  {
   "cell_type": "code",
   "execution_count": null,
   "id": "768392b5",
   "metadata": {},
   "outputs": [],
   "source": [
    "rule = default_config[\"rule\"]\n",
    "rule_n_minutes = int(pd.Timedelta(rule).total_seconds() / 60)\n",
    "rule_n_minutes"
   ]
  },
  {
   "cell_type": "code",
   "execution_count": null,
   "id": "cca39e07",
   "metadata": {},
   "outputs": [],
   "source": [
    "weights_dict = {\n",
    "    \"first_min_past\": [0.0] * 1 + [1.0] + [0.0] * (rule_n_minutes - 2),\n",
    "    \"second_min_past\": [0.0] * 2 + [1.0] + [0.0] * (rule_n_minutes - 3),\n",
    "    \"third_min_past\": [0.0] * 3 + [1.0] + [0.0] * (rule_n_minutes - 4),\n",
    "}"
   ]
  },
  {
   "cell_type": "code",
   "execution_count": null,
   "id": "feeef89e",
   "metadata": {},
   "outputs": [],
   "source": [
    "for weight_rule, weights in weights_dict.items():\n",
    "    #\n",
    "    resampled_price_col = dtfmod.resample_with_weights_ohlcv_bars(\n",
    "        ohlcv_data,\n",
    "        default_config[\"column_names\", \"price_col\"],\n",
    "        rule,\n",
    "        weights,\n",
    "    )\n",
    "    # Rename the resampled price column.\n",
    "    res_price_col = \"_\".join(\n",
    "        [\"resampled\", weight_rule, default_config[\"column_names\", \"price_col\"]]\n",
    "    )\n",
    "    resampled_price_col.columns = resampled_price_col.columns.set_levels(\n",
    "        [res_price_col], level=0\n",
    "    )\n",
    "    # Extend sweep param config values.\n",
    "    default_config[\"sweep_param\"][\"values\"].append(res_price_col)\n",
    "    # Append new column to data.\n",
    "    tile_df = pd.concat([tile_df, resampled_price_col], axis=1)\n",
    "tile_df.head()"
   ]
  },
  {
   "cell_type": "markdown",
   "id": "0f382d49",
   "metadata": {},
   "source": [
    "# Compute and save portfolio bar metrics"
   ]
  },
  {
   "cell_type": "code",
   "execution_count": null,
   "id": "b1448c2e",
   "metadata": {},
   "outputs": [],
   "source": [
    "# Get configs sweeping over parameter.\n",
    "config_dict = dtfmod.build_research_backtest_analyzer_config_sweep(default_config)\n",
    "print(config_dict.keys())"
   ]
  },
  {
   "cell_type": "code",
   "execution_count": null,
   "id": "c1a78bbb",
   "metadata": {},
   "outputs": [],
   "source": [
    "portfolio_df_dict = {}\n",
    "bar_metrics_dict = {}\n",
    "for key, config in config_dict.items():\n",
    "    if config[\"load_all_tiles_in_memory\"]:\n",
    "        fep = dtfmod.ForecastEvaluatorFromPrices(\n",
    "            **config[\"column_names\"].to_dict(),\n",
    "        )\n",
    "        # Create a subdirectory for the current config, e.g.\n",
    "        # \"optimizer_config_dict:constant_correlation_penalty=1\".\n",
    "        experiment_dir = os.path.join(\n",
    "            config[\"output_dir_name\"], key.replace(\" \", \"\")\n",
    "        )\n",
    "        _LOG.info(\"Saving portfolio in experiment_dir=%s\", experiment_dir)\n",
    "        file_name = fep.save_portfolio(\n",
    "            tile_df,\n",
    "            experiment_dir,\n",
    "            **config[\"annotate_forecasts_kwargs\"].to_dict(),\n",
    "        )\n",
    "        # Load back the portfolio and metrics that were calculated.\n",
    "        portfolio_df, bar_metrics = fep.load_portfolio_and_stats(\n",
    "            experiment_dir, file_name=file_name\n",
    "        )\n",
    "    else:\n",
    "        portfolio_df, bar_metrics = dtfmod.annotate_forecasts_by_tile(\n",
    "            config[\"dir_name\"],\n",
    "            config[\"start_date\"],\n",
    "            config[\"end_date\"],\n",
    "            config[\"asset_id_col\"],\n",
    "            config[\"column_names\"][\"price_col\"],\n",
    "            config[\"column_names\"][\"volatility_col\"],\n",
    "            config[\"column_names\"][\"prediction_col\"],\n",
    "            asset_ids=None,\n",
    "            annotate_forecasts_kwargs=config[\n",
    "                \"annotate_forecasts_kwargs\"\n",
    "            ].to_dict(),\n",
    "            return_portfolio_df=True,\n",
    "        )\n",
    "    portfolio_df_dict[key] = portfolio_df\n",
    "    bar_metrics_dict[key] = bar_metrics\n",
    "portfolio_stats_df = pd.concat(bar_metrics_dict, axis=1)"
   ]
  },
  {
   "cell_type": "code",
   "execution_count": null,
   "id": "f91bcca8",
   "metadata": {},
   "outputs": [],
   "source": [
    "coplotti.plot_portfolio_stats(\n",
    "    portfolio_stats_df, freq=default_config[\"pnl_resampling_frequency\"]\n",
    ")"
   ]
  },
  {
   "cell_type": "code",
   "execution_count": null,
   "id": "6717ac23",
   "metadata": {},
   "outputs": [],
   "source": [
    "coplotti.plot_portfolio_binned_stats(\n",
    "    portfolio_df_dict,\n",
    "    **config[\"bin_annotated_portfolio_df_kwargs\"],\n",
    ")"
   ]
  },
  {
   "cell_type": "markdown",
   "id": "fd829150",
   "metadata": {},
   "source": [
    "# Compute aggregate portfolio stats"
   ]
  },
  {
   "cell_type": "code",
   "execution_count": null,
   "id": "1708971d",
   "metadata": {},
   "outputs": [],
   "source": [
    "stats_computer = dtfmod.StatsComputer()"
   ]
  },
  {
   "cell_type": "code",
   "execution_count": null,
   "id": "551d92d1",
   "metadata": {},
   "outputs": [],
   "source": [
    "portfolio_stats, daily_metrics = stats_computer.compute_portfolio_stats(\n",
    "    portfolio_stats_df,\n",
    "    default_config[\"pnl_resampling_frequency\"],\n",
    ")\n",
    "display(portfolio_stats)"
   ]
  },
  {
   "cell_type": "code",
   "execution_count": null,
   "id": "5b3b4985",
   "metadata": {},
   "outputs": [],
   "source": []
  }
 ],
 "metadata": {
  "kernelspec": {
   "display_name": "Python 3 (ipykernel)",
   "language": "python",
   "name": "python3"
  },
  "language_info": {
   "codemirror_mode": {
    "name": "ipython",
    "version": 3
   },
   "file_extension": ".py",
   "mimetype": "text/x-python",
   "name": "python",
   "nbconvert_exporter": "python",
   "pygments_lexer": "ipython3",
   "version": "3.9.5"
  },
  "toc": {
   "base_numbering": 1,
   "nav_menu": {},
   "number_sections": true,
   "sideBar": true,
   "skip_h1_title": false,
   "title_cell": "Table of Contents",
   "title_sidebar": "Contents",
   "toc_cell": false,
   "toc_position": {},
   "toc_section_display": true,
   "toc_window_display": false
  }
 },
 "nbformat": 4,
 "nbformat_minor": 5
}
