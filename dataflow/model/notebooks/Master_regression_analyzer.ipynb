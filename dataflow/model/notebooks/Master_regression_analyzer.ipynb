{
 "cells": [
  {
   "cell_type": "markdown",
   "id": "fa95e581",
   "metadata": {},
   "source": [
    "# Imports"
   ]
  },
  {
   "cell_type": "code",
   "execution_count": null,
   "id": "a6e43a1d",
   "metadata": {},
   "outputs": [],
   "source": [
    "%load_ext autoreload\n",
    "%autoreload 2\n",
    "\n",
    "import logging\n",
    "\n",
    "import numpy as np\n",
    "import pandas as pd\n",
    "import seaborn as sns\n",
    "\n",
    "import core.config as cconfig\n",
    "import dataflow_model.incremental_single_name_model_evaluator as ime\n",
    "import dataflow_model.model_evaluator as modeval\n",
    "import dataflow_model.model_plotter as modplot\n",
    "import dataflow_model.regression_analyzer as cdmra\n",
    "import dataflow_model.stats_computer as csc\n",
    "import dataflow_model.utils as cdmu\n",
    "import core.plotting as cplot\n",
    "import core.statistics as cstati\n",
    "import helpers.hdbg as dbg\n",
    "import helpers.hprint as hprint"
   ]
  },
  {
   "cell_type": "code",
   "execution_count": null,
   "id": "3ef15f02",
   "metadata": {},
   "outputs": [],
   "source": [
    "dbg.init_logger(verbosity=logging.INFO)\n",
    "# dbg.init_logger(verbosity=logging.DEBUG)\n",
    "\n",
    "_LOG = logging.getLogger(__name__)\n",
    "\n",
    "# _LOG.info(\"%s\", env.get_system_signature()[0])\n",
    "\n",
    "hprint.config_notebook()"
   ]
  },
  {
   "cell_type": "markdown",
   "id": "43bec208",
   "metadata": {},
   "source": [
    "# Load regression dataframes"
   ]
  },
  {
   "cell_type": "code",
   "execution_count": null,
   "id": "c0c697dc",
   "metadata": {},
   "outputs": [],
   "source": [
    "src_dir = \"\"\n",
    "file_name = \"result_bundle.v2_0.pkl\"\n",
    "\n",
    "fit_iter = cdmu.yield_experiment_artifacts(\n",
    "    src_dir=src_dir,\n",
    "    file_name=file_name,\n",
    "    load_rb_kwargs={},\n",
    ")"
   ]
  },
  {
   "cell_type": "code",
   "execution_count": null,
   "id": "0a2f7538",
   "metadata": {},
   "outputs": [],
   "source": [
    "fit_coeffs = {k: v.info[\"ml\"][\"predict\"][\"fit_coefficients\"] for k, v in fit_iter}\n",
    "fit_coeffs = pd.concat(fit_coeffs)"
   ]
  },
  {
   "cell_type": "code",
   "execution_count": null,
   "id": "809125a7",
   "metadata": {},
   "outputs": [],
   "source": [
    "fit_coeffs.head()"
   ]
  },
  {
   "cell_type": "markdown",
   "id": "433f4d6e",
   "metadata": {},
   "source": [
    "# MHT"
   ]
  },
  {
   "cell_type": "code",
   "execution_count": null,
   "id": "cc810b85",
   "metadata": {},
   "outputs": [],
   "source": [
    "p_vals = fit_coeffs[\"p_val_2s\"]"
   ]
  },
  {
   "cell_type": "code",
   "execution_count": null,
   "id": "d1152de5",
   "metadata": {},
   "outputs": [],
   "source": [
    "p_vals.hist(bins=30)"
   ]
  },
  {
   "cell_type": "code",
   "execution_count": null,
   "id": "dbf6ce04",
   "metadata": {},
   "outputs": [],
   "source": [
    "cdmra.compute_moments(fit_coeffs, [\"p_val_2s\"])"
   ]
  },
  {
   "cell_type": "code",
   "execution_count": null,
   "id": "4c518554",
   "metadata": {},
   "outputs": [],
   "source": [
    "q_vals = cstati.estimate_q_values(p_vals)"
   ]
  },
  {
   "cell_type": "code",
   "execution_count": null,
   "id": "60421c88",
   "metadata": {},
   "outputs": [],
   "source": [
    "q_vals.hist(bins=30)"
   ]
  },
  {
   "cell_type": "markdown",
   "id": "7919199e",
   "metadata": {},
   "source": [
    "# Feature stats\n"
   ]
  },
  {
   "cell_type": "code",
   "execution_count": null,
   "id": "cbca6c64",
   "metadata": {},
   "outputs": [],
   "source": [
    "feature_stats = cdmra.compute_moments(fit_coeffs, [\"rho\", \"beta\", \"beta_z_scored\", \"turn\"])\n",
    "display(feature_stats)"
   ]
  },
  {
   "cell_type": "code",
   "execution_count": null,
   "id": "5799b1ff",
   "metadata": {},
   "outputs": [],
   "source": [
    "sweep = cstati.apply_smoothing_parameters(\n",
    "    feature_stats[(\"rho\", \"mean\")],\n",
    "    feature_stats[(\"turn\", \"mean\")],\n",
    "    np.arange(0, 3, 0.1)\n",
    ")"
   ]
  },
  {
   "cell_type": "code",
   "execution_count": null,
   "id": "9094be14",
   "metadata": {},
   "outputs": [],
   "source": [
    "stat = \"beta\"\n",
    "feature = \"\"\n",
    "fit_coeffs[stat].xs(feature, level=1).hist(bins=101)"
   ]
  },
  {
   "cell_type": "markdown",
   "id": "8eb8d1f9",
   "metadata": {},
   "source": [
    "# Reweight"
   ]
  },
  {
   "cell_type": "code",
   "execution_count": null,
   "id": "f2bd7de0",
   "metadata": {},
   "outputs": [],
   "source": [
    "feature_cols = []\n",
    "target_col = \"\"\n",
    "\n",
    "art_iter = cdmu.yield_experiment_artifacts(\n",
    "    src_dir=src_dir,\n",
    "    file_name=file_name,\n",
    "    load_rb_kwargs={\"columns\": feature_cols + [target_col]},\n",
    ")\n",
    "\n",
    "def get_feature_weights(key: int) -> pd.Series:\n",
    "    ..."
   ]
  },
  {
   "cell_type": "code",
   "execution_count": null,
   "id": "99cfd699",
   "metadata": {},
   "outputs": [],
   "source": [
    "sharpes = {}\n",
    "turns = {}\n",
    "daily_pnls = {}\n",
    "portfolio_pnl = pd.Series()\n",
    "for key, art in art_iter:\n",
    "    features = art.result_df[feature_cols]\n",
    "    prediction = (features * get_feature_weights(key)).sum(min_count=1, axis=1)\n",
    "    turns[key] = cstati.compute_avg_turnover_and_holding_period(prediction)\n",
    "    pnl = prediction * art.result_df[target_col]\n",
    "    portfolio_pnl = pnl.add(portfolio_pnl, fill_value=0)\n",
    "    sharpes[key] = cstati.compute_annualized_sharpe_ratio(pnl)\n",
    "    daily_pnls[key] = pnl.resample(\"B\").sum(min_count=1)"
   ]
  },
  {
   "cell_type": "code",
   "execution_count": null,
   "id": "df293265",
   "metadata": {},
   "outputs": [],
   "source": [
    "daily_pnl_xs = pd.DataFrame(daily_pnls).mean(axis=1)\n",
    "daily_portfolio_pnl = portfolio_pnl.resample(\"B\").sum(min_count=1)"
   ]
  },
  {
   "cell_type": "code",
   "execution_count": null,
   "id": "9937f07b",
   "metadata": {},
   "outputs": [],
   "source": [
    "daily_portfolio_pnl.cumsum().plot()"
   ]
  },
  {
   "cell_type": "code",
   "execution_count": null,
   "id": "e43e8014",
   "metadata": {},
   "outputs": [],
   "source": []
  },
  {
   "cell_type": "markdown",
   "id": "a8c50043",
   "metadata": {},
   "source": [
    "# Pair plots"
   ]
  },
  {
   "cell_type": "code",
   "execution_count": null,
   "id": "7c9fa238",
   "metadata": {},
   "outputs": [],
   "source": [
    "split1 = cdmra.compute_coefficients(\n",
    "    src_dir=src_dir,\n",
    "    file_name=file_name,\n",
    "    feature_cols=feature_cols,\n",
    "    target_col=target_col,\n",
    "    start=None,\n",
    "    end=None,\n",
    ")\n",
    "\n",
    "split2 = cdmra.compute_coefficients(\n",
    "    src_dir=src_dir,\n",
    "    file_name=file_name,\n",
    "    feature_cols=feature_cols,\n",
    "    target_col=target_col,\n",
    "    start=None,\n",
    "    end=None,\n",
    ")"
   ]
  },
  {
   "cell_type": "code",
   "execution_count": null,
   "id": "1890afb9",
   "metadata": {},
   "outputs": [],
   "source": [
    "stat = \"\"\n",
    "sns.pairplot(\n",
    "    pd.concat([\n",
    "        split1[stat].rename(\"split1\"),\n",
    "        split2[stat].rename(\"split2\"),\n",
    "    ], join=\"inner\", axis=1)\n",
    ")"
   ]
  },
  {
   "cell_type": "code",
   "execution_count": null,
   "id": "7ef0e4c8",
   "metadata": {},
   "outputs": [],
   "source": [
    "stat = \"\"\n",
    "feature = \"\"\n",
    "sns.pairplot(\n",
    "    pd.concat([\n",
    "        split1[stat].xs(feature, level=1).rename(\"split1\"),\n",
    "        split2[stat].xs(feature, level=1).rename(\"split2\"),\n",
    "    ], join=\"inner\", axis=1)\n",
    ")"
   ]
  }
 ],
 "metadata": {
  "jupytext": {
   "text_representation": {
    "extension": ".py",
    "format_name": "percent",
    "format_version": "1.3",
    "jupytext_version": "1.11.4"
   }
  },
  "kernelspec": {
   "display_name": "Python 3 (ipykernel)",
   "language": "python",
   "name": "python3"
  },
  "language_info": {
   "codemirror_mode": {
    "name": "ipython",
    "version": 3
   },
   "file_extension": ".py",
   "mimetype": "text/x-python",
   "name": "python",
   "nbconvert_exporter": "python",
   "pygments_lexer": "ipython3"
  },
  "toc": {
   "base_numbering": 1,
   "nav_menu": {},
   "number_sections": true,
   "sideBar": true,
   "skip_h1_title": false,
   "title_cell": "Table of Contents",
   "title_sidebar": "Contents",
   "toc_cell": false,
   "toc_position": {},
   "toc_section_display": true,
   "toc_window_display": false
  }
 },
 "nbformat": 4,
 "nbformat_minor": 5
}
