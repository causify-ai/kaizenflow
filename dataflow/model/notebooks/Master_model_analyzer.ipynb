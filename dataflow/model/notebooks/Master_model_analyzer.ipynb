{
 "cells": [
  {
   "cell_type": "markdown",
   "id": "a0cfeac2",
   "metadata": {},
   "source": [
    "# Description\n",
    "\n",
    "- Initialize with returns, predictions, target volatility, and oos start date\n",
    "- Evaluate portfolios generated from the predictions\n",
    "\n",
    "- TODO(gp): This should be called `Master_model_evaluator` like the class"
   ]
  },
  {
   "cell_type": "markdown",
   "id": "126c8435",
   "metadata": {},
   "source": [
    "# Imports"
   ]
  },
  {
   "cell_type": "code",
   "execution_count": null,
   "id": "abf41299",
   "metadata": {},
   "outputs": [],
   "source": [
    "%load_ext autoreload\n",
    "%autoreload 2\n",
    "\n",
    "import logging\n",
    "\n",
    "import core.config as cconfig\n",
    "import dataflow.model.model_evaluator as dtfmomoeva\n",
    "import dataflow.model.model_plotter as dtfmomoplo\n",
    "import helpers.hdbg as hdbg\n",
    "import helpers.hprint as hprint"
   ]
  },
  {
   "cell_type": "code",
   "execution_count": null,
   "id": "eee79ad8",
   "metadata": {},
   "outputs": [],
   "source": [
    "hdbg.init_logger(verbosity=logging.INFO)\n",
    "# hdbg.init_logger(verbosity=logging.DEBUG)\n",
    "\n",
    "_LOG = logging.getLogger(__name__)\n",
    "\n",
    "# _LOG.info(\"%s\", env.get_system_signature()[0])\n",
    "\n",
    "hprint.config_notebook()"
   ]
  },
  {
   "cell_type": "markdown",
   "id": "c0c17e86",
   "metadata": {},
   "source": [
    "# Notebook config"
   ]
  },
  {
   "cell_type": "code",
   "execution_count": null,
   "id": "a9c3584e",
   "metadata": {},
   "outputs": [],
   "source": [
    "# Read from env var.\n",
    "eval_config = cconfig.Config.from_env_var(\"AM_CONFIG_CODE\")\n",
    "\n",
    "# Override config.\n",
    "if eval_config is None:\n",
    "    # experiment_dir = \"/cache/experiments/oos_experiment.RH1E.v2_0-top100.5T\"\n",
    "    # experiment_dir = \"/app/rc_experiment.RH8Ec.v2_0-top2.5T.2009.run1\"\n",
    "    # experiment_dir = \"/app/experiment.RH1E.kibot_v2-top2.5T\"\n",
    "    experiment_dir = \"/app/experiment.RH1E.ccxt_v1-top2.5T.2018_2022\"\n",
    "    # experiment_dir = \"/app/experiment.RH1E.kibot_v2-top20.5T\"\n",
    "    aws_profile = None\n",
    "    selected_idxs = None\n",
    "\n",
    "    eval_config = cconfig.Config.from_dict(\n",
    "        {\n",
    "            \"load_experiment_kwargs\": {\n",
    "                \"src_dir\": experiment_dir,\n",
    "                \"file_name\": \"result_bundle.v2_0.pkl\",\n",
    "                \"experiment_type\": \"ins_oos\",\n",
    "                \"selected_idxs\": selected_idxs,\n",
    "                \"aws_profile\": aws_profile,\n",
    "            },\n",
    "            \"model_evaluator_kwargs\": {\n",
    "                # \"predictions_col\": \"mid_ret_0_vol_adj_clipped_2_hat\",\n",
    "                # \"target_col\": \"mid_ret_0_vol_adj_clipped_2\",\n",
    "                \"predictions_col\": \"ret_0_vol_adj_2_hat\",\n",
    "                \"target_col\": \"ret_0_vol_adj_2\",\n",
    "                # \"oos_start\": \"2017-01-01\",\n",
    "                \"oos_start\": None,\n",
    "                \"abort_on_error\": True,\n",
    "            },\n",
    "            \"bh_adj_threshold\": 0.1,\n",
    "            \"resample_rule\": \"W\",\n",
    "            \"mode\": \"ins\",\n",
    "            \"target_volatility\": 0.1,\n",
    "        }\n",
    "    )\n",
    "\n",
    "print(str(eval_config))"
   ]
  },
  {
   "cell_type": "markdown",
   "id": "8142e65d",
   "metadata": {},
   "source": [
    "# Initialize ModelEvaluator and ModelPlotter"
   ]
  },
  {
   "cell_type": "code",
   "execution_count": null,
   "id": "371704c7",
   "metadata": {},
   "outputs": [],
   "source": [
    "# Build the ModelEvaluator from the eval config.\n",
    "evaluator = dtfmomoeva.ModelEvaluator.from_eval_config(eval_config)\n",
    "\n",
    "# Build the ModelPlotter.\n",
    "plotter = dtfmomoplo.ModelPlotter(evaluator)"
   ]
  },
  {
   "cell_type": "markdown",
   "id": "2ab68b06",
   "metadata": {},
   "source": [
    "# Analysis"
   ]
  },
  {
   "cell_type": "code",
   "execution_count": null,
   "id": "f353ea8a",
   "metadata": {},
   "outputs": [],
   "source": [
    "pnl_stats = evaluator.calculate_stats(\n",
    "    mode=eval_config[\"mode\"], target_volatility=eval_config[\"target_volatility\"]\n",
    ")\n",
    "display(pnl_stats)"
   ]
  },
  {
   "cell_type": "markdown",
   "id": "c36bf064",
   "metadata": {},
   "source": [
    "## Model selection"
   ]
  },
  {
   "cell_type": "code",
   "execution_count": null,
   "id": "b6fecfb5",
   "metadata": {},
   "outputs": [],
   "source": [
    "plotter.plot_multiple_tests_adjustment(\n",
    "    threshold=eval_config[\"bh_adj_threshold\"], mode=eval_config[\"mode\"]\n",
    ")"
   ]
  },
  {
   "cell_type": "code",
   "execution_count": null,
   "id": "b5b44ae9",
   "metadata": {},
   "outputs": [],
   "source": [
    "# TODO(gp): Move this chunk of code in a function.\n",
    "col_mask = (\n",
    "    pnl_stats.loc[\"ratios\"].loc[\"sr.adj_pval\"] < eval_config[\"bh_adj_threshold\"]\n",
    ")\n",
    "selected = pnl_stats.loc[:, col_mask].columns.to_list()\n",
    "not_selected = pnl_stats.loc[:, ~col_mask].columns.to_list()\n",
    "\n",
    "print(\"num model selected=%s\" % hprint.perc(len(selected), pnl_stats.shape[1]))\n",
    "print(\"model selected=%s\" % selected)\n",
    "print(\"model not selected=%s\" % not_selected)\n",
    "\n",
    "# Use `selected = None` to show all the models."
   ]
  },
  {
   "cell_type": "code",
   "execution_count": null,
   "id": "1736ff88",
   "metadata": {},
   "outputs": [],
   "source": [
    "# selected = None\n",
    "plotter.plot_multiple_pnls(\n",
    "    keys=selected,\n",
    "    resample_rule=eval_config[\"resample_rule\"],\n",
    "    mode=eval_config[\"mode\"],\n",
    ")"
   ]
  },
  {
   "cell_type": "markdown",
   "id": "9821d152",
   "metadata": {},
   "source": [
    "## Return correlation"
   ]
  },
  {
   "cell_type": "code",
   "execution_count": null,
   "id": "1d0698e1",
   "metadata": {},
   "outputs": [],
   "source": [
    "plotter.plot_correlation_matrix(\n",
    "    series=\"returns\",\n",
    "    resample_rule=eval_config[\"resample_rule\"],\n",
    "    mode=eval_config[\"mode\"],\n",
    ")"
   ]
  },
  {
   "cell_type": "code",
   "execution_count": null,
   "id": "749d6378",
   "metadata": {},
   "outputs": [],
   "source": [
    "plotter.plot_effective_correlation_rank(\n",
    "    series=\"returns\",\n",
    "    resample_rule=eval_config[\"resample_rule\"],\n",
    "    mode=eval_config[\"mode\"],\n",
    ")"
   ]
  },
  {
   "cell_type": "markdown",
   "id": "4a7c60d9",
   "metadata": {},
   "source": [
    "## Model correlation"
   ]
  },
  {
   "cell_type": "code",
   "execution_count": null,
   "id": "c5e7659a",
   "metadata": {},
   "outputs": [],
   "source": [
    "plotter.plot_correlation_matrix(\n",
    "    series=\"pnl\",\n",
    "    resample_rule=eval_config[\"resample_rule\"],\n",
    "    mode=eval_config[\"mode\"],\n",
    ")"
   ]
  },
  {
   "cell_type": "code",
   "execution_count": null,
   "id": "b7938396",
   "metadata": {},
   "outputs": [],
   "source": [
    "plotter.plot_effective_correlation_rank(\n",
    "    series=\"pnl\",\n",
    "    resample_rule=eval_config[\"resample_rule\"],\n",
    "    mode=eval_config[\"mode\"],\n",
    ")"
   ]
  },
  {
   "cell_type": "markdown",
   "id": "215ed5cc",
   "metadata": {},
   "source": [
    "## Aggregate model"
   ]
  },
  {
   "cell_type": "code",
   "execution_count": null,
   "id": "c23ae6ee",
   "metadata": {},
   "outputs": [],
   "source": [
    "pnl_srs, pos_srs, aggregate_stats = evaluator.aggregate_models(\n",
    "    keys=selected,\n",
    "    mode=eval_config[\"mode\"],\n",
    "    target_volatility=eval_config[\"target_volatility\"],\n",
    ")\n",
    "display(aggregate_stats)"
   ]
  },
  {
   "cell_type": "code",
   "execution_count": null,
   "id": "c61ac477",
   "metadata": {},
   "outputs": [],
   "source": [
    "plotter.plot_sharpe_ratio_panel(keys=selected, mode=eval_config[\"mode\"])"
   ]
  },
  {
   "cell_type": "code",
   "execution_count": null,
   "id": "e6ab0618",
   "metadata": {},
   "outputs": [],
   "source": [
    "plotter.plot_rets_signal_analysis(\n",
    "    keys=selected,\n",
    "    resample_rule=eval_config[\"resample_rule\"],\n",
    "    mode=eval_config[\"mode\"],\n",
    "    target_volatility=eval_config[\"target_volatility\"],\n",
    ")"
   ]
  },
  {
   "cell_type": "code",
   "execution_count": null,
   "id": "17854931",
   "metadata": {},
   "outputs": [],
   "source": [
    "plotter.plot_performance(\n",
    "    keys=selected,\n",
    "    resample_rule=eval_config[\"resample_rule\"],\n",
    "    mode=eval_config[\"mode\"],\n",
    "    target_volatility=eval_config[\"target_volatility\"],\n",
    ")"
   ]
  },
  {
   "cell_type": "code",
   "execution_count": null,
   "id": "27a3a550",
   "metadata": {},
   "outputs": [],
   "source": [
    "plotter.plot_rets_and_vol(\n",
    "    keys=selected,\n",
    "    resample_rule=eval_config[\"resample_rule\"],\n",
    "    mode=eval_config[\"mode\"],\n",
    "    target_volatility=eval_config[\"target_volatility\"],\n",
    ")"
   ]
  },
  {
   "cell_type": "code",
   "execution_count": null,
   "id": "628273de",
   "metadata": {},
   "outputs": [],
   "source": [
    "if False:\n",
    "    plotter.plot_positions(\n",
    "        keys=selected,\n",
    "        mode=eval_config[\"mode\"],\n",
    "        target_volatility=eval_config[\"target_volatility\"],\n",
    "    )"
   ]
  },
  {
   "cell_type": "code",
   "execution_count": null,
   "id": "00e9e05f",
   "metadata": {},
   "outputs": [],
   "source": [
    "if False:\n",
    "    # Plot the returns and prediction for one or more models.\n",
    "    model_key = selected[:1]\n",
    "    plotter.plot_returns_and_predictions(\n",
    "        keys=model_key,\n",
    "        resample_rule=eval_config[\"resample_rule\"],\n",
    "        mode=eval_config[\"mode\"],\n",
    "    )"
   ]
  }
 ],
 "metadata": {
  "kernelspec": {
   "display_name": "Python 3 (ipykernel)",
   "language": "python",
   "name": "python3"
  },
  "language_info": {
   "codemirror_mode": {
    "name": "ipython",
    "version": 3
   },
   "file_extension": ".py",
   "mimetype": "text/x-python",
   "name": "python",
   "nbconvert_exporter": "python",
   "pygments_lexer": "ipython3"
  },
  "toc": {
   "base_numbering": 1,
   "nav_menu": {},
   "number_sections": true,
   "sideBar": true,
   "skip_h1_title": false,
   "title_cell": "Table of Contents",
   "title_sidebar": "Contents",
   "toc_cell": false,
   "toc_position": {},
   "toc_section_display": true,
   "toc_window_display": false
  }
 },
 "nbformat": 4,
 "nbformat_minor": 5
}
