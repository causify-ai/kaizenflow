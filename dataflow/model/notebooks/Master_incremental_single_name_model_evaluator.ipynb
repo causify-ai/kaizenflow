{
 "cells": [
  {
   "cell_type": "markdown",
   "id": "126c8435",
   "metadata": {},
   "source": [
    "# Imports"
   ]
  },
  {
   "cell_type": "code",
   "execution_count": null,
   "id": "abf41299",
   "metadata": {},
   "outputs": [],
   "source": [
    "%load_ext autoreload\n",
    "%autoreload 2\n",
    "\n",
    "import logging\n",
    "\n",
    "import core.config as cconfig\n",
    "import dataflow.model.incremental_single_name_model_evaluator as dtfmisnmoev\n",
    "import dataflow.model.stats_computer as dtfmostcom\n",
    "import helpers.hdbg as hdbg\n",
    "import helpers.hprint as hprint"
   ]
  },
  {
   "cell_type": "code",
   "execution_count": null,
   "id": "eee79ad8",
   "metadata": {},
   "outputs": [],
   "source": [
    "hdbg.init_logger(verbosity=logging.INFO)\n",
    "# hdbg.init_logger(verbosity=logging.DEBUG)\n",
    "\n",
    "_LOG = logging.getLogger(__name__)\n",
    "\n",
    "# _LOG.info(\"%s\", env.get_system_signature()[0])\n",
    "\n",
    "hprint.config_notebook()"
   ]
  },
  {
   "cell_type": "markdown",
   "id": "c0c17e86",
   "metadata": {},
   "source": [
    "# Notebook config"
   ]
  },
  {
   "cell_type": "code",
   "execution_count": null,
   "id": "a9c3584e",
   "metadata": {},
   "outputs": [],
   "source": [
    "# Read from env var.\n",
    "eval_config = cconfig.Config.from_env_var(\"AM_CONFIG_CODE\")\n",
    "\n",
    "# Override config.\n",
    "if eval_config is None:\n",
    "    src_dir = \"\"\n",
    "    file_name = \"result_bundle.v2_0.pkl\"\n",
    "    prediction_col = \"\"\n",
    "    target_col = \"\"\n",
    "    aws_profile = None\n",
    "\n",
    "    eval_config = cconfig.Config.from_dict(\n",
    "        {\n",
    "            \"compute_stats_kwargs\": {\n",
    "                \"src_dir\": src_dir,\n",
    "                \"file_name\": file_name,\n",
    "                \"prediction_col\": prediction_col,\n",
    "                \"target_col\": target_col,\n",
    "                \"start\": None,\n",
    "                \"end\": None,\n",
    "                \"selected_idxs\": None,\n",
    "                \"aws_profile\": aws_profile,\n",
    "            },\n",
    "            \"aggregate_single_name_models\": {\n",
    "                \"src_dir\": src_dir,\n",
    "                \"file_name\": file_name,\n",
    "                \"position_intent_1_col\": \"\",\n",
    "                \"ret_0_col\": \"\",\n",
    "                \"spread_0_col\": \"\",\n",
    "                \"prediction_col\": prediction_col,\n",
    "                \"target_col\": target_col,\n",
    "                \"start\": None,\n",
    "                \"end\": None,\n",
    "                \"selected_idxs\": None,\n",
    "                \"aws_profile\": aws_profile,\n",
    "            },\n",
    "            \"bh_adj_threshold\": 0.1,\n",
    "        }\n",
    "    )\n",
    "\n",
    "print(str(eval_config))"
   ]
  },
  {
   "cell_type": "markdown",
   "id": "8142e65d",
   "metadata": {},
   "source": [
    "# Compute stats"
   ]
  },
  {
   "cell_type": "code",
   "execution_count": null,
   "id": "270e45c1",
   "metadata": {},
   "outputs": [],
   "source": [
    "stats = dtfmisnmoev.compute_stats_for_single_name_artifacts(\n",
    "    **eval_config[\"compute_stats_kwargs\"].to_dict()\n",
    ")"
   ]
  },
  {
   "cell_type": "code",
   "execution_count": null,
   "id": "a500459d",
   "metadata": {},
   "outputs": [],
   "source": [
    "# TODO(gp): Move this chunk of code into a function.\n",
    "col_mask = (\n",
    "    stats.loc[\"signal_quality\"].loc[\"sr.adj_pval\"]\n",
    "    < eval_config[\"bh_adj_threshold\"]\n",
    ")\n",
    "selected = stats.loc[:, col_mask].columns.to_list()\n",
    "not_selected = stats.loc[:, ~col_mask].columns.to_list()\n",
    "\n",
    "print(\"num model selected=%s\" % hprint.perc(len(selected), stats.shape[1]))\n",
    "print(\"model selected=%s\" % selected)\n",
    "print(\"model not selected=%s\" % not_selected)\n",
    "\n",
    "# Use `selected = None` to show all of the models.\n",
    "\n",
    "# TODO(Paul): call `multipletests_plot()`"
   ]
  },
  {
   "cell_type": "markdown",
   "id": "2ab68b06",
   "metadata": {},
   "source": [
    "# Build portfolio"
   ]
  },
  {
   "cell_type": "code",
   "execution_count": null,
   "id": "f353ea8a",
   "metadata": {},
   "outputs": [],
   "source": [
    "portfolio, daily_dfs = dtfmisnmoev.aggregate_single_name_models(\n",
    "    **eval_config[\"aggregate_single_name_models\"].to_dict()\n",
    ")"
   ]
  },
  {
   "cell_type": "code",
   "execution_count": null,
   "id": "78ddaa5c",
   "metadata": {},
   "outputs": [],
   "source": [
    "portfolio.dropna().head()"
   ]
  },
  {
   "cell_type": "code",
   "execution_count": null,
   "id": "6f9d019e",
   "metadata": {},
   "outputs": [],
   "source": [
    "stats_computer = dtfmostcom.StatsComputer()"
   ]
  },
  {
   "cell_type": "markdown",
   "id": "38f01dff",
   "metadata": {},
   "source": [
    "# TODO\n",
    "- Compute stats of `portfolio`\n",
    "- Create daily rets and daily pnl dfs\n",
    "  - `plot_effective_correlation_rank()`\n",
    "  - `plot_correlation_matrix()`\n",
    "  - `plot_pnl()`\n",
    "- Plot `portfolio` performance\n",
    "  - `plot_cumulative_returns()`\n",
    "  - `plot_monthly_heatmap()`\n",
    "  - `plot_yearly_barplot()`\n",
    "  - `plot_sharpe_ratio_panel()`\n",
    "  - `plot_qq()`\n",
    "  - ..."
   ]
  },
  {
   "cell_type": "code",
   "execution_count": null,
   "id": "c0f0e20b",
   "metadata": {},
   "outputs": [],
   "source": []
  }
 ],
 "metadata": {
  "kernelspec": {
   "display_name": "Python 3 (ipykernel)",
   "language": "python",
   "name": "python3"
  },
  "language_info": {
   "codemirror_mode": {
    "name": "ipython",
    "version": 3
   },
   "file_extension": ".py",
   "mimetype": "text/x-python",
   "name": "python",
   "nbconvert_exporter": "python",
   "pygments_lexer": "ipython3"
  },
  "toc": {
   "base_numbering": 1,
   "nav_menu": {},
   "number_sections": true,
   "sideBar": true,
   "skip_h1_title": false,
   "title_cell": "Table of Contents",
   "title_sidebar": "Contents",
   "toc_cell": false,
   "toc_position": {},
   "toc_section_display": true,
   "toc_window_display": false
  }
 },
 "nbformat": 4,
 "nbformat_minor": 5
}
