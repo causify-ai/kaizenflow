{
 "cells": [
  {
   "cell_type": "markdown",
   "id": "81e49a1a",
   "metadata": {},
   "source": [
    "# Description"
   ]
  },
  {
   "cell_type": "markdown",
   "id": "59308e7e",
   "metadata": {
    "lines_to_next_cell": 0
   },
   "source": [
    "Explore research backtest results.\n",
    "\n",
    "**Note**: use `dataflow/model/notebooks/Master_backtest_analysis_param_sweep.ipynb` for standard backtest analysis.\n",
    "This notebook is used for free-form analysis and hypotheses testing, and thus is not as strictly maintained."
   ]
  },
  {
   "cell_type": "markdown",
   "id": "085d013c",
   "metadata": {},
   "source": [
    "# Imports"
   ]
  },
  {
   "cell_type": "code",
   "execution_count": null,
   "id": "aa644135",
   "metadata": {},
   "outputs": [],
   "source": [
    "%load_ext autoreload\n",
    "%autoreload 2\n",
    "%matplotlib inline"
   ]
  },
  {
   "cell_type": "code",
   "execution_count": null,
   "id": "2c2a05f2",
   "metadata": {},
   "outputs": [],
   "source": [
    "import datetime\n",
    "import logging\n",
    "import os\n",
    "\n",
    "import pandas as pd\n",
    "\n",
    "import core.config as cconfig\n",
    "import core.plotting as coplotti\n",
    "import dataflow.model as dtfmod\n",
    "import helpers.hdbg as hdbg\n",
    "import helpers.henv as henv\n",
    "import helpers.hgit as hgit\n",
    "import helpers.hparquet as hparque\n",
    "import helpers.hprint as hprint\n",
    "import oms.broker.ccxt.ccxt_utils as obccccut"
   ]
  },
  {
   "cell_type": "code",
   "execution_count": null,
   "id": "dfeb8cd9",
   "metadata": {
    "lines_to_next_cell": 2
   },
   "outputs": [],
   "source": [
    "hdbg.init_logger(verbosity=logging.INFO)\n",
    "\n",
    "_LOG = logging.getLogger(__name__)\n",
    "\n",
    "_LOG.info(\"%s\", henv.get_system_signature()[0])\n",
    "\n",
    "hprint.config_notebook()"
   ]
  },
  {
   "cell_type": "markdown",
   "id": "eda927bd",
   "metadata": {},
   "source": [
    "# Build the config dict"
   ]
  },
  {
   "cell_type": "code",
   "execution_count": null,
   "id": "025df660",
   "metadata": {},
   "outputs": [],
   "source": [
    "# Get config from env when running the notebook via the `run_notebook.py` script.\n",
    "default_config = cconfig.get_config_from_env()\n",
    "if default_config:\n",
    "    _LOG.info(\"Using config from env vars\")\n",
    "else:\n",
    "    _LOG.info(\"Using hardwired config\")\n",
    "    # Build default config.\n",
    "    amp_dir = hgit.get_amp_abs_path()\n",
    "    dir_name = os.path.join(\n",
    "        amp_dir,\n",
    "        \"/shared_data/backtest.danya/build_tile_configs.C11a.ccxt_v8_1-all.6T.2023-06-01_2024-01-31.ins.run0/tiled_results\",\n",
    "    )\n",
    "    # Create a subfolder to store portfolio metrics.\n",
    "    # The subfolder is marked by the datetime of the run, e.g.\n",
    "    # \"build_tile_configs.C11a.ccxt_v8_1-all.5T.2023-01-01_2024-03-20.ins.run0/portfolio_dfs/20240326_131724\".\n",
    "    # TODO(Danya): Factor out into a function.\n",
    "    output_dir_name = os.path.join(\n",
    "        dir_name.rstrip(\"tiled_results\"),\n",
    "        \"portfolio_dfs\",\n",
    "        pd.Timestamp.utcnow().strftime(\"%Y%m%d_%H%M%S\"),\n",
    "    )\n",
    "    default_config_dict = {\n",
    "        \"dir_name\": dir_name,\n",
    "        \"output_dir_name\": output_dir_name,\n",
    "        \"start_date\": datetime.date(2024, 1, 1),\n",
    "        \"end_date\": datetime.date(2024, 1, 31),\n",
    "        \"asset_id_col\": \"asset_id\",\n",
    "        \"pnl_resampling_frequency\": \"D\",\n",
    "        \"rule\": \"6T\",\n",
    "        \"im_client_config\": {\n",
    "            \"vendor\": \"ccxt\",\n",
    "            \"universe_version\": \"v8.1\",\n",
    "            \"root_dir\": \"s3://cryptokaizen-data.preprod/v3\",\n",
    "            \"partition_mode\": \"by_year_month\",\n",
    "            \"dataset\": \"ohlcv\",\n",
    "            \"contract_type\": \"futures\",\n",
    "            \"data_snapshot\": \"\",\n",
    "            \"aws_profile\": \"ck\",\n",
    "            \"version\": \"v1_0_0\",\n",
    "            \"download_universe_version\": \"v8\",\n",
    "            \"tag\": \"downloaded_1min\",\n",
    "            \"download_mode\": \"periodic_daily\",\n",
    "            \"downloading_entity\": \"airflow\",\n",
    "            \"resample_1min\": False,\n",
    "        },\n",
    "        \"annotate_forecasts_kwargs\": {\n",
    "            \"style\": \"longitudinal\",\n",
    "            \"quantization\": 30,\n",
    "            \"liquidate_at_end_of_day\": False,\n",
    "            \"initialize_beginning_of_day_trades_to_zero\": False,\n",
    "            \"burn_in_bars\": 3,\n",
    "            \"compute_extended_stats\": True,\n",
    "            \"target_dollar_risk_per_name\": 1.0,\n",
    "            \"modulate_using_prediction_magnitude\": False,\n",
    "            \"prediction_abs_threshold\": 0.3,\n",
    "        },\n",
    "        \"column_names\": {\n",
    "            \"price_col\": \"open\",\n",
    "            \"volatility_col\": \"garman_klass_vol\",\n",
    "            \"prediction_col\": \"feature\",\n",
    "        },\n",
    "        \"bin_annotated_portfolio_df_kwargs\": {\n",
    "            \"proportion_of_data_per_bin\": 0.2,\n",
    "            \"normalize_prediction_col_values\": False,\n",
    "        },\n",
    "        \"load_all_tiles_in_memory\": True,\n",
    "        \"sweep_param\": {\n",
    "            \"keys\": (\n",
    "                \"column_names\",\n",
    "                \"price_col\",\n",
    "            ),\n",
    "            \"values\": [\n",
    "                \"open\",\n",
    "            ],\n",
    "        },\n",
    "    }\n",
    "    # Add asset_id_to_share_decimals based on the `quantization` parameter.\n",
    "    if not default_config_dict[\"annotate_forecasts_kwargs\"][\"quantization\"]:\n",
    "        asset_id_to_share_decimals = obccccut.get_asset_id_to_share_decimals(\n",
    "            \"amount_precision\"\n",
    "        )\n",
    "        default_config_dict[\"annotate_forecasts_kwargs\"][\n",
    "            \"asset_id_to_share_decimals\"\n",
    "        ] = asset_id_to_share_decimals\n",
    "    else:\n",
    "        default_config_dict[\"annotate_forecasts_kwargs\"][\n",
    "            \"asset_id_to_share_decimals\"\n",
    "        ] = None\n",
    "    # Build config from dict.\n",
    "    default_config = cconfig.Config().from_dict(default_config_dict)\n",
    "print(default_config)"
   ]
  },
  {
   "cell_type": "markdown",
   "id": "8298ddf5",
   "metadata": {},
   "source": [
    "# Load tiled results"
   ]
  },
  {
   "cell_type": "markdown",
   "id": "c5131044",
   "metadata": {},
   "source": [
    "## Report tile stats"
   ]
  },
  {
   "cell_type": "code",
   "execution_count": null,
   "id": "4f200da8",
   "metadata": {},
   "outputs": [],
   "source": [
    "parquet_tile_analyzer = dtfmod.ParquetTileAnalyzer()\n",
    "parquet_tile_metadata = parquet_tile_analyzer.collate_parquet_tile_metadata(\n",
    "    default_config[\"dir_name\"]\n",
    ")"
   ]
  },
  {
   "cell_type": "code",
   "execution_count": null,
   "id": "bdcd28a5",
   "metadata": {},
   "outputs": [],
   "source": [
    "parquet_tile_analyzer.compute_metadata_stats_by_asset_id(parquet_tile_metadata)"
   ]
  },
  {
   "cell_type": "code",
   "execution_count": null,
   "id": "3232a8e1",
   "metadata": {},
   "outputs": [],
   "source": [
    "parquet_tile_analyzer.compute_universe_size_by_time(parquet_tile_metadata)"
   ]
  },
  {
   "cell_type": "code",
   "execution_count": null,
   "id": "19056796",
   "metadata": {},
   "outputs": [],
   "source": [
    "asset_ids = parquet_tile_metadata.index.levels[0].to_list()\n",
    "display(asset_ids)"
   ]
  },
  {
   "cell_type": "markdown",
   "id": "1ac08e08",
   "metadata": {},
   "source": [
    "## Load tile data"
   ]
  },
  {
   "cell_type": "code",
   "execution_count": null,
   "id": "a0960c52",
   "metadata": {},
   "outputs": [],
   "source": [
    "if default_config[\"load_all_tiles_in_memory\"]:\n",
    "    asset_ids_to_load = asset_ids\n",
    "else:\n",
    "    asset_ids_to_load = asset_ids[0:1]\n",
    "asset_batch_size = len(asset_ids_to_load)\n",
    "cols = None\n",
    "#\n",
    "asset_tile = next(\n",
    "    hparque.yield_parquet_tiles_by_assets(\n",
    "        default_config[\"dir_name\"],\n",
    "        asset_ids_to_load,\n",
    "        default_config[\"asset_id_col\"],\n",
    "        asset_batch_size,\n",
    "        cols,\n",
    "    )\n",
    ")"
   ]
  },
  {
   "cell_type": "code",
   "execution_count": null,
   "id": "2c75798e",
   "metadata": {},
   "outputs": [],
   "source": [
    "tile_df = dtfmod.process_parquet_read_df(\n",
    "    asset_tile, default_config[\"asset_id_col\"]\n",
    ")"
   ]
  },
  {
   "cell_type": "code",
   "execution_count": null,
   "id": "cec03088",
   "metadata": {},
   "outputs": [],
   "source": [
    "tile_df.columns.levels[0].to_list()"
   ]
  },
  {
   "cell_type": "code",
   "execution_count": null,
   "id": "dc65f6b2",
   "metadata": {},
   "outputs": [],
   "source": [
    "tile_df.head(3)"
   ]
  },
  {
   "cell_type": "markdown",
   "id": "b2b70519",
   "metadata": {},
   "source": [
    "# Compute and save portfolio bar metrics"
   ]
  },
  {
   "cell_type": "code",
   "execution_count": null,
   "id": "e674a4d3",
   "metadata": {},
   "outputs": [],
   "source": [
    "# Get configs sweeping over parameter.\n",
    "config_dict = dtfmod.build_research_backtest_analyzer_config_sweep(default_config)\n",
    "print(config_dict.keys())"
   ]
  },
  {
   "cell_type": "code",
   "execution_count": null,
   "id": "8dc56f59",
   "metadata": {
    "lines_to_next_cell": 2
   },
   "outputs": [],
   "source": [
    "portfolio_df_dict = {}\n",
    "bar_metrics_dict = {}\n",
    "for key, config in config_dict.items():\n",
    "    if config[\"load_all_tiles_in_memory\"]:\n",
    "        fep = dtfmod.ForecastEvaluatorFromPrices(\n",
    "            **config[\"column_names\"].to_dict(),\n",
    "        )\n",
    "        # Create a subdirectory for the current config, e.g.\n",
    "        # \"optimizer_config_dict:constant_correlation_penalty=1\".\n",
    "        experiment_dir = os.path.join(\n",
    "            config[\"output_dir_name\"], key.replace(\" \", \"\")\n",
    "        )\n",
    "        _LOG.info(\"Saving portfolio in experiment_dir=%s\", experiment_dir)\n",
    "        file_name = fep.save_portfolio(\n",
    "            tile_df,\n",
    "            experiment_dir,\n",
    "            **config[\"annotate_forecasts_kwargs\"].to_dict(),\n",
    "        )\n",
    "        # Load back the portfolio and metrics that were calculated.\n",
    "        portfolio_df, bar_metrics = fep.load_portfolio_and_stats(\n",
    "            experiment_dir, file_name=file_name\n",
    "        )\n",
    "    else:\n",
    "        portfolio_df, bar_metrics = dtfmod.annotate_forecasts_by_tile(\n",
    "            config[\"dir_name\"],\n",
    "            config[\"start_date\"],\n",
    "            config[\"end_date\"],\n",
    "            config[\"asset_id_col\"],\n",
    "            config[\"column_names\"][\"price_col\"],\n",
    "            config[\"column_names\"][\"volatility_col\"],\n",
    "            config[\"column_names\"][\"prediction_col\"],\n",
    "            asset_ids=None,\n",
    "            annotate_forecasts_kwargs=config[\n",
    "                \"annotate_forecasts_kwargs\"\n",
    "            ].to_dict(),\n",
    "            return_portfolio_df=True,\n",
    "        )\n",
    "    portfolio_df_dict[key] = portfolio_df\n",
    "    bar_metrics_dict[key] = bar_metrics\n",
    "portfolio_stats_df = pd.concat(bar_metrics_dict, axis=1)"
   ]
  },
  {
   "cell_type": "code",
   "execution_count": null,
   "id": "32fb39f7",
   "metadata": {},
   "outputs": [],
   "source": [
    "coplotti.plot_portfolio_stats(\n",
    "    portfolio_stats_df, freq=default_config[\"pnl_resampling_frequency\"]\n",
    ")"
   ]
  },
  {
   "cell_type": "code",
   "execution_count": null,
   "id": "283a8e91",
   "metadata": {},
   "outputs": [],
   "source": [
    "coplotti.plot_portfolio_binned_stats(\n",
    "    portfolio_df_dict,\n",
    "    **config[\"bin_annotated_portfolio_df_kwargs\"],\n",
    ")"
   ]
  },
  {
   "cell_type": "markdown",
   "id": "3ec83cda",
   "metadata": {},
   "source": [
    "# Compute aggregate portfolio stats"
   ]
  },
  {
   "cell_type": "code",
   "execution_count": null,
   "id": "313caf7c",
   "metadata": {},
   "outputs": [],
   "source": [
    "stats_computer = dtfmod.StatsComputer()"
   ]
  },
  {
   "cell_type": "code",
   "execution_count": null,
   "id": "5ed01199",
   "metadata": {},
   "outputs": [],
   "source": [
    "portfolio_stats, daily_metrics = stats_computer.compute_portfolio_stats(\n",
    "    portfolio_stats_df,\n",
    "    default_config[\"pnl_resampling_frequency\"],\n",
    ")\n",
    "display(portfolio_stats)"
   ]
  },
  {
   "cell_type": "code",
   "execution_count": null,
   "id": "63ebb688",
   "metadata": {},
   "outputs": [],
   "source": []
  }
 ],
 "metadata": {
  "kernelspec": {
   "display_name": "Python 3 (ipykernel)",
   "language": "python",
   "name": "python3"
  },
  "language_info": {
   "codemirror_mode": {
    "name": "ipython",
    "version": 3
   },
   "file_extension": ".py",
   "mimetype": "text/x-python",
   "name": "python",
   "nbconvert_exporter": "python",
   "pygments_lexer": "ipython3",
   "version": "3.9.5"
  },
  "toc": {
   "base_numbering": 1,
   "nav_menu": {},
   "number_sections": true,
   "sideBar": true,
   "skip_h1_title": false,
   "title_cell": "Table of Contents",
   "title_sidebar": "Contents",
   "toc_cell": false,
   "toc_position": {},
   "toc_section_display": true,
   "toc_window_display": false
  }
 },
 "nbformat": 4,
 "nbformat_minor": 5
}
