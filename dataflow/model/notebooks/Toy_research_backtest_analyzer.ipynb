{
 "cells": [
  {
   "cell_type": "markdown",
   "id": "f88955d1",
   "metadata": {},
   "source": [
    "# Description"
   ]
  },
  {
   "cell_type": "markdown",
   "id": "9b28b6e5",
   "metadata": {
    "lines_to_next_cell": 0
   },
   "source": [
    "Explore research backtest results.\n",
    "\n",
    "**Note**: use `dataflow/model/notebooks/Master_backtest_analysis_param_sweep.ipynb` for standard backtest analysis.\n",
    "This notebook is used for free-form analysis and hypotheses testing, and thus is not as strictly maintained."
   ]
  },
  {
   "cell_type": "markdown",
   "id": "a3657e0f",
   "metadata": {},
   "source": [
    "# Imports"
   ]
  },
  {
   "cell_type": "code",
   "execution_count": null,
   "id": "a07acc59",
   "metadata": {},
   "outputs": [],
   "source": [
    "%load_ext autoreload\n",
    "%autoreload 2\n",
    "%matplotlib inline"
   ]
  },
  {
   "cell_type": "code",
   "execution_count": null,
   "id": "d816f278",
   "metadata": {},
   "outputs": [],
   "source": [
    "import datetime\n",
    "import logging\n",
    "import os\n",
    "from typing import Dict\n",
    "\n",
    "import pandas as pd\n",
    "\n",
    "import core.config as cconfig\n",
    "import core.plotting as coplotti\n",
    "import dataflow.model as dtfmod\n",
    "import helpers.hdbg as hdbg\n",
    "import helpers.henv as henv\n",
    "import helpers.hgit as hgit\n",
    "import helpers.hparquet as hparque\n",
    "import helpers.hprint as hprint"
   ]
  },
  {
   "cell_type": "code",
   "execution_count": null,
   "id": "8e55c619",
   "metadata": {
    "lines_to_next_cell": 2
   },
   "outputs": [],
   "source": [
    "hdbg.init_logger(verbosity=logging.INFO)\n",
    "\n",
    "_LOG = logging.getLogger(__name__)\n",
    "\n",
    "_LOG.info(\"%s\", henv.get_system_signature()[0])\n",
    "\n",
    "hprint.config_notebook()"
   ]
  },
  {
   "cell_type": "markdown",
   "id": "fa103b70",
   "metadata": {
    "lines_to_next_cell": 2
   },
   "source": [
    "# Functions"
   ]
  },
  {
   "cell_type": "code",
   "execution_count": null,
   "id": "86a7dd1c",
   "metadata": {},
   "outputs": [],
   "source": [
    "# TODO(Dan): Move to a lib.\n",
    "def build_research_backtest_analyzer_config_dict(\n",
    "    default_config: cconfig.Config,\n",
    ") -> Dict[str, cconfig.Config]:\n",
    "    \"\"\"\n",
    "    Build a dict of configs to run a backtest analysis.\n",
    "    \"\"\"\n",
    "    if \"sweep_param\" in default_config:\n",
    "        hdbg.dassert_isinstance(default_config[\"sweep_param\"], cconfig.Config)\n",
    "        # Set param values to sweep and corressponding config keys.\n",
    "        sweep_param_keys = default_config[\"sweep_param\", \"keys\"]\n",
    "        hdbg.dassert_isinstance(sweep_param_keys, tuple)\n",
    "        sweep_param_values = default_config[\"sweep_param\", \"values\"]\n",
    "        hdbg.dassert_isinstance(sweep_param_values, list)\n",
    "        # Build config dict.\n",
    "        config_dict = {}\n",
    "        for val in sweep_param_values:\n",
    "            # Update new config value.\n",
    "            config = default_config.copy()\n",
    "            config.update_mode = \"overwrite\"\n",
    "            config[sweep_param_keys] = val\n",
    "            config.update_mode = \"assert_on_overwrite\"\n",
    "            # Set updated config key for config dict.\n",
    "            config_dict_key = \":\".join(sweep_param_keys)\n",
    "            config_dict_key = \" = \".join([config_dict_key, str(val)])\n",
    "            # Add new config to the config dict.\n",
    "            config_dict[config_dict_key] = config\n",
    "    else:\n",
    "        # Put single input config to a dict.\n",
    "        config_dict = {\"default_config\": default_config}\n",
    "    return config_dict"
   ]
  },
  {
   "cell_type": "markdown",
   "id": "16a0ea7f",
   "metadata": {},
   "source": [
    "# Build the config dict"
   ]
  },
  {
   "cell_type": "code",
   "execution_count": null,
   "id": "501e8c62",
   "metadata": {},
   "outputs": [],
   "source": [
    "# Get config from env when running the notebook via the `run_notebook.py` script.\n",
    "default_config = cconfig.get_config_from_env()\n",
    "if default_config:\n",
    "    _LOG.info(\"Using config from env vars\")\n",
    "else:\n",
    "    _LOG.info(\"Using hardwired config\")\n",
    "    # Build default config.\n",
    "    amp_dir = hgit.get_amp_abs_path()\n",
    "    dir_name = os.path.join(\n",
    "        amp_dir,\n",
    "        \"dataflow/model/test/outcomes/Test_run_master_research_backtest_analyzer/input/tiled_results\",\n",
    "    )\n",
    "    default_config_dict = {\n",
    "        \"dir_name\": dir_name,\n",
    "        \"start_date\": datetime.date(2000, 1, 1),\n",
    "        \"end_date\": datetime.date(2000, 1, 31),\n",
    "        \"asset_id_col\": \"asset_id\",\n",
    "        \"pnl_resampling_frequency\": \"15T\",\n",
    "        \"annotate_forecasts_kwargs\": {\n",
    "            \"style\": \"longitudinal\",\n",
    "            \"quantization\": 30,\n",
    "            \"liquidate_at_end_of_day\": False,\n",
    "            \"initialize_beginning_of_day_trades_to_zero\": False,\n",
    "            \"burn_in_bars\": 3,\n",
    "            \"compute_extended_stats\": True,\n",
    "            \"target_dollar_risk_per_name\": 1e2,\n",
    "            \"modulate_using_prediction_magnitude\": True,\n",
    "        },\n",
    "        \"column_names\": {\n",
    "            \"price_col\": \"vwap\",\n",
    "            \"volatility_col\": \"vwap.ret_0.vol\",\n",
    "            \"prediction_col\": \"prediction\",\n",
    "        },\n",
    "        \"bin_annotated_portfolio_df_kwargs\": {\n",
    "            \"proportion_of_data_per_bin\": 0.2,\n",
    "            \"normalize_prediction_col_values\": False,\n",
    "        },\n",
    "        \"load_all_tiles_in_memory\": False,\n",
    "    }\n",
    "    default_config = cconfig.Config().from_dict(default_config_dict)\n",
    "print(default_config)"
   ]
  },
  {
   "cell_type": "code",
   "execution_count": null,
   "id": "27898b40",
   "metadata": {},
   "outputs": [],
   "source": [
    "config_dict = build_research_backtest_analyzer_config_dict(default_config)\n",
    "print(config_dict.keys())"
   ]
  },
  {
   "cell_type": "markdown",
   "id": "8cdd84d8",
   "metadata": {},
   "source": [
    "# Load tiled results"
   ]
  },
  {
   "cell_type": "markdown",
   "id": "447d2546",
   "metadata": {},
   "source": [
    "## Report tile stats"
   ]
  },
  {
   "cell_type": "code",
   "execution_count": null,
   "id": "d5f0f73c",
   "metadata": {},
   "outputs": [],
   "source": [
    "parquet_tile_analyzer = dtfmod.ParquetTileAnalyzer()\n",
    "parquet_tile_metadata = parquet_tile_analyzer.collate_parquet_tile_metadata(\n",
    "    default_config[\"dir_name\"]\n",
    ")"
   ]
  },
  {
   "cell_type": "code",
   "execution_count": null,
   "id": "154b399b",
   "metadata": {},
   "outputs": [],
   "source": [
    "parquet_tile_analyzer.compute_metadata_stats_by_asset_id(parquet_tile_metadata)"
   ]
  },
  {
   "cell_type": "code",
   "execution_count": null,
   "id": "2f9e33ae",
   "metadata": {},
   "outputs": [],
   "source": [
    "parquet_tile_analyzer.compute_universe_size_by_time(parquet_tile_metadata)"
   ]
  },
  {
   "cell_type": "code",
   "execution_count": null,
   "id": "7b70dd38",
   "metadata": {},
   "outputs": [],
   "source": [
    "asset_ids = parquet_tile_metadata.index.levels[0].to_list()\n",
    "display(asset_ids)"
   ]
  },
  {
   "cell_type": "markdown",
   "id": "a5c7d8e8",
   "metadata": {},
   "source": [
    "## Load tile data"
   ]
  },
  {
   "cell_type": "code",
   "execution_count": null,
   "id": "d9b84b64",
   "metadata": {},
   "outputs": [],
   "source": [
    "if default_config[\"load_all_tiles_in_memory\"]:\n",
    "    asset_ids_to_load = asset_ids\n",
    "else:\n",
    "    asset_ids_to_load = asset_ids[0:1]\n",
    "asset_batch_size = len(asset_ids_to_load)\n",
    "cols = None\n",
    "#\n",
    "asset_tile = next(\n",
    "    hparque.yield_parquet_tiles_by_assets(\n",
    "        default_config[\"dir_name\"],\n",
    "        asset_ids_to_load,\n",
    "        default_config[\"asset_id_col\"],\n",
    "        asset_batch_size,\n",
    "        cols,\n",
    "    )\n",
    ")"
   ]
  },
  {
   "cell_type": "code",
   "execution_count": null,
   "id": "96b4906d",
   "metadata": {},
   "outputs": [],
   "source": [
    "tile_df = dtfmod.process_parquet_read_df(\n",
    "    asset_tile, default_config[\"asset_id_col\"]\n",
    ")"
   ]
  },
  {
   "cell_type": "code",
   "execution_count": null,
   "id": "4db8276d",
   "metadata": {},
   "outputs": [],
   "source": [
    "tile_df.columns.levels[0].to_list()"
   ]
  },
  {
   "cell_type": "code",
   "execution_count": null,
   "id": "8bb7b6bc",
   "metadata": {},
   "outputs": [],
   "source": [
    "tile_df.head(3)"
   ]
  },
  {
   "cell_type": "markdown",
   "id": "f7a38bed",
   "metadata": {},
   "source": [
    "# Compute portfolio bar metrics"
   ]
  },
  {
   "cell_type": "code",
   "execution_count": null,
   "id": "af542597",
   "metadata": {},
   "outputs": [],
   "source": [
    "portfolio_df_dict = {}\n",
    "bar_metrics_dict = {}\n",
    "for key, config in config_dict.items():\n",
    "    if config[\"load_all_tiles_in_memory\"]:\n",
    "        fep = dtfmod.ForecastEvaluatorFromPrices(\n",
    "            **config[\"column_names\"].to_dict()\n",
    "        )\n",
    "        portfolio_df, bar_metrics = fep.annotate_forecasts(\n",
    "            tile_df,\n",
    "            **config[\"annotate_forecasts_kwargs\"].to_dict(),\n",
    "        )\n",
    "    else:\n",
    "        portfolio_df, bar_metrics = dtfmod.annotate_forecasts_by_tile(\n",
    "            config[\"dir_name\"],\n",
    "            config[\"start_date\"],\n",
    "            config[\"end_date\"],\n",
    "            config[\"asset_id_col\"],\n",
    "            config[\"column_names\"][\"price_col\"],\n",
    "            config[\"column_names\"][\"volatility_col\"],\n",
    "            config[\"column_names\"][\"prediction_col\"],\n",
    "            asset_ids=None,\n",
    "            annotate_forecasts_kwargs=config[\n",
    "                \"annotate_forecasts_kwargs\"\n",
    "            ].to_dict(),\n",
    "            return_portfolio_df=True,\n",
    "        )\n",
    "    portfolio_df_dict[key] = portfolio_df\n",
    "    bar_metrics_dict[key] = bar_metrics\n",
    "portfolio_stats_df = pd.concat(bar_metrics_dict, axis=1)"
   ]
  },
  {
   "cell_type": "code",
   "execution_count": null,
   "id": "5dc344ca",
   "metadata": {},
   "outputs": [],
   "source": [
    "coplotti.plot_portfolio_stats(\n",
    "    portfolio_stats_df, freq=default_config[\"pnl_resampling_frequency\"]\n",
    ")"
   ]
  },
  {
   "cell_type": "code",
   "execution_count": null,
   "id": "b7dcbf6c",
   "metadata": {},
   "outputs": [],
   "source": [
    "coplotti.plot_portfolio_binned_stats(\n",
    "    portfolio_df_dict,\n",
    "    **config[\"bin_annotated_portfolio_df_kwargs\"],\n",
    ")"
   ]
  },
  {
   "cell_type": "markdown",
   "id": "8a29ff52",
   "metadata": {},
   "source": [
    "# Compute aggregate portfolio stats"
   ]
  },
  {
   "cell_type": "code",
   "execution_count": null,
   "id": "87bf774f",
   "metadata": {},
   "outputs": [],
   "source": [
    "stats_computer = dtfmod.StatsComputer()"
   ]
  },
  {
   "cell_type": "code",
   "execution_count": null,
   "id": "bfe5aceb",
   "metadata": {},
   "outputs": [],
   "source": [
    "portfolio_stats, daily_metrics = stats_computer.compute_portfolio_stats(\n",
    "    portfolio_stats_df,\n",
    "    default_config[\"pnl_resampling_frequency\"],\n",
    ")\n",
    "display(portfolio_stats)"
   ]
  },
  {
   "cell_type": "code",
   "execution_count": null,
   "id": "72f717f1",
   "metadata": {},
   "outputs": [],
   "source": []
  }
 ],
 "metadata": {
  "kernelspec": {
   "display_name": "Python 3 (ipykernel)",
   "language": "python",
   "name": "python3"
  },
  "language_info": {
   "codemirror_mode": {
    "name": "ipython",
    "version": 3
   },
   "file_extension": ".py",
   "mimetype": "text/x-python",
   "name": "python",
   "nbconvert_exporter": "python",
   "pygments_lexer": "ipython3",
   "version": "3.9.5"
  },
  "toc": {
   "base_numbering": 1,
   "nav_menu": {},
   "number_sections": true,
   "sideBar": true,
   "skip_h1_title": false,
   "title_cell": "Table of Contents",
   "title_sidebar": "Contents",
   "toc_cell": false,
   "toc_position": {},
   "toc_section_display": true,
   "toc_window_display": false
  }
 },
 "nbformat": 4,
 "nbformat_minor": 5
}
