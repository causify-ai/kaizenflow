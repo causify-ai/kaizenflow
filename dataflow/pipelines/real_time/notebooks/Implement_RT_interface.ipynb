{
 "cells": [
  {
   "cell_type": "markdown",
   "id": "219d117c",
   "metadata": {},
   "source": [
    "## Imports"
   ]
  },
  {
   "cell_type": "code",
   "execution_count": null,
   "id": "9692caf7",
   "metadata": {},
   "outputs": [],
   "source": [
    "%load_ext autoreload\n",
    "%autoreload 2\n",
    "\n",
    "import logging"
   ]
  },
  {
   "cell_type": "code",
   "execution_count": null,
   "id": "58a2b5f3",
   "metadata": {},
   "outputs": [],
   "source": [
    "import amp.dataflow.pipelines.dataflow_example\n",
    "import pandas as pd\n",
    "\n",
    "import helpers.hdbg as hdbg\n",
    "import helpers.hpandas as hpandas\n",
    "import helpers.hprint as hprint\n",
    "\n",
    "hprint.config_notebook()\n",
    "\n",
    "# hdbg.init_logger(verbosity=logging.DEBUG)\n",
    "hdbg.init_logger(verbosity=logging.INFO)\n",
    "# hdbg.test_logger()\n",
    "_LOG = logging.getLogger(__name__)"
   ]
  },
  {
   "cell_type": "markdown",
   "id": "4818beec",
   "metadata": {},
   "source": [
    "# Real-time node"
   ]
  },
  {
   "cell_type": "markdown",
   "id": "22369da0",
   "metadata": {},
   "source": [
    "## Build pipeline\n",
    "\n",
    "\n",
    "import dataflow_amp.returns.pipeline as dtfamrepip"
   ]
  },
  {
   "cell_type": "code",
   "execution_count": null,
   "id": "3de9acfe",
   "metadata": {},
   "outputs": [],
   "source": [
    "import core.config as cconfig\n",
    "import core.dataflow as cdataf\n",
    "import core.real_time as creatime\n",
    "\n",
    "dag_builder = dtfamrepip.ReturnsPipeline()\n",
    "config = dag_builder.get_config_template()\n",
    "\n",
    "# # Add the source node.\n",
    "# source_config = cconfig.get_config_from_nested_dict(\n",
    "#     {\n",
    "#         \"func\": cldns.load_single_instrument_data,\n",
    "#         \"func_kwargs\": {\n",
    "#             \"start_date\": datetime.date(2010, 6, 29),\n",
    "#             \"end_date\": datetime.date(2010, 7, 13),\n",
    "#         },\n",
    "#     }\n",
    "# )\n",
    "# config[\"load_prices\"] = source_config\n",
    "# config[\"resample_prices_to_1min\", \"func_kwargs\", \"volume_cols\"] = [\"volume\"]\n",
    "# config[\"compute_vwap\", \"func_kwargs\", \"rule\"] = \"15T\"\n",
    "# config[\"compute_vwap\", \"func_kwargs\", \"volume_col\"] = \"volume\"\n",
    "\n",
    "if False:\n",
    "    from im.kibot.data.config import S3_PREFIX\n",
    "\n",
    "    ticker = \"AAPL\"\n",
    "    file_path = os.path.join(S3_PREFIX, \"pq/sp_500_1min\", ticker + \".pq\")\n",
    "    source_node_kwargs = {\n",
    "        \"func\": cdataf.load_data_from_disk,\n",
    "        \"func_kwargs\": {\n",
    "            \"file_path\": file_path,\n",
    "            \"start_date\": pd.to_datetime(\"2010-01-04 9:30:00\"),\n",
    "            \"end_date\": pd.to_datetime(\"2010-01-04 16:05:00\"),\n",
    "        },\n",
    "    }\n",
    "    config[\"load_prices\"] = cconfig.get_config_from_nested_dict(\n",
    "        source_node_kwargs\n",
    "    )\n",
    "\n",
    "else:\n",
    "    start_date = pd.Timestamp(\"2010-01-04 09:30:00\")\n",
    "    end_date = pd.Timestamp(\"2010-01-04 11:30:00\")\n",
    "\n",
    "    source_node_kwargs = {\n",
    "        \"columns\": [\"close\", \"vol\"],\n",
    "        \"start_date\": start_date,\n",
    "        \"end_date\": end_date,\n",
    "    }\n",
    "    config[\"load_prices\"] = cconfig.get_config_from_nested_dict(\n",
    "        {\n",
    "            \"source_node_name\": \"real_time_synthetic\",\n",
    "            \"source_node_kwargs\": source_node_kwargs,\n",
    "        }\n",
    "    )\n",
    "\n",
    "print(config)"
   ]
  },
  {
   "cell_type": "code",
   "execution_count": null,
   "id": "f7e354c5",
   "metadata": {},
   "outputs": [],
   "source": [
    "dag = dag_builder.get_dag(config)"
   ]
  },
  {
   "cell_type": "code",
   "execution_count": null,
   "id": "eeb33177",
   "metadata": {},
   "outputs": [],
   "source": [
    "if False:\n",
    "    # nid = \"compute_ret_0\"\n",
    "    nid = \"load_prices\"\n",
    "    node = dag.get_node(\"load_prices\")\n",
    "    node.reset_current_time()\n",
    "    node.set_current_time(pd.to_datetime(\"2010-01-06 9:30:00\"))\n",
    "\n",
    "    dict_ = dag.run_leq_node(nid, \"fit\")\n",
    "\n",
    "    print(dict_)"
   ]
  },
  {
   "cell_type": "code",
   "execution_count": null,
   "id": "03498404",
   "metadata": {},
   "outputs": [],
   "source": [
    "node = dag.get_node(\"load_prices\")\n",
    "node.reset_current_time()\n",
    "\n",
    "for now in creatime.get_now_time(start_date, end_date):\n",
    "    print(\"now=\", now)\n",
    "    execute = creatime.is_dag_to_execute(now)\n",
    "    if execute:\n",
    "        print(\"Time to execute the DAG\")\n",
    "        node = dag.get_node(\"load_prices\")\n",
    "        node.set_current_time(now)\n",
    "        #\n",
    "        sink = dag.get_unique_sink()\n",
    "        dict_ = dag.run_leq_node(sink, \"fit\")\n",
    "        print(dict_[\"df_out\"].tail(3))"
   ]
  },
  {
   "cell_type": "markdown",
   "id": "3c29e38e",
   "metadata": {},
   "source": [
    "## Use real_time_return_pipeline"
   ]
  },
  {
   "cell_type": "code",
   "execution_count": null,
   "id": "af504b9e",
   "metadata": {},
   "outputs": [],
   "source": [
    "import dataflow_amp.real_time.real_time_return_pipeline as dtfart\n",
    "\n",
    "dag_builder = dtfart.RealTimeReturnPipeline()\n",
    "\n",
    "config = dag_builder.get_config_template()\n",
    "print(\"\\n# config=\\n%s\" % config)\n",
    "\n",
    "dag_builder.validate_config(config)\n",
    "\n",
    "dag = dag_builder.get_dag(config)"
   ]
  },
  {
   "cell_type": "code",
   "execution_count": null,
   "id": "716c26d0",
   "metadata": {},
   "outputs": [],
   "source": [
    "# print(dag)\n",
    "cdataf.draw(dag)"
   ]
  },
  {
   "cell_type": "code",
   "execution_count": null,
   "id": "aacc6e27",
   "metadata": {},
   "outputs": [],
   "source": [
    "# # Align on a even second.\n",
    "# creatime.align_on_even_second()\n",
    "# #\n",
    "# sleep_interval_in_secs = 1.0\n",
    "# num_iterations = 3\n",
    "# get_wall_clock_time = rrt.get_wall_clock_time\n",
    "# need_to_execute = creatime.execute_every_2_seconds\n",
    "# #\n",
    "# events, results = creatime.execute_dag_with_real_time_loop(\n",
    "#     get_wall_clock_time,\n",
    "#     sleep_interval_in_secs,\n",
    "#     num_iterations,\n",
    "#     dag,\n",
    "# )"
   ]
  },
  {
   "cell_type": "code",
   "execution_count": null,
   "id": "eb1f0f81",
   "metadata": {},
   "outputs": [],
   "source": [
    "results[0][1][\"df_out\"]"
   ]
  },
  {
   "cell_type": "code",
   "execution_count": null,
   "id": "d0694156",
   "metadata": {},
   "outputs": [],
   "source": [
    "##\n",
    "\n",
    "import core.dataflow.real_time as creatime"
   ]
  },
  {
   "cell_type": "code",
   "execution_count": null,
   "id": "3f6fef91",
   "metadata": {},
   "outputs": [],
   "source": [
    "import helpers.hdatetime as hdateti\n",
    "\n",
    "start_datetime = pd.Timestamp(\"2010-01-04 09:30:00\", tz=hdateti.get_ET_tz())\n",
    "end_datetime = pd.Timestamp(\"2010-01-05 09:30:00\", tz=hdateti.get_ET_tz())\n",
    "\n",
    "# Use a replayed real-time starting at the same time as the data.\n",
    "rrt = creatime.ReplayedTime(start_datetime, hdateti.get_current_time(tz=\"ET\"))\n",
    "get_wall_clock_time = rrt._get_wall_clock_time"
   ]
  },
  {
   "cell_type": "code",
   "execution_count": null,
   "id": "a58487cd",
   "metadata": {},
   "outputs": [],
   "source": [
    "import core.dataflow as cdtf\n",
    "\n",
    "execute_rt_loop_kwargs = {\n",
    "    \"get_wall_clock_time\": rrt._get_wall_clock_time,\n",
    "    \"sleep_interval_in_secs\": 1.0,\n",
    "    \"num_iterations\": 3,\n",
    "}\n",
    "\n",
    "#\n",
    "kwargs = {\n",
    "    \"config\": config,\n",
    "    \"dag_builder\": dag_builder,\n",
    "    \"fit_state\": None,\n",
    "    #\n",
    "    \"execute_rt_loop_kwargs\": execute_rt_loop_kwargs,\n",
    "    #\n",
    "    \"dst_dir\": None,\n",
    "}\n",
    "\n",
    "dag_runner = cdtf.RealTimeDagRunner(**kwargs)\n",
    "\n",
    "# Align on a even second.\n",
    "grid_time_in_secs = 2\n",
    "event_loop = None\n",
    "creatime.align_on_time_grid(\n",
    "    get_wall_clock_time, grid_time_in_secs, event_loop=event_loop\n",
    ")\n",
    "result = dag_runner.predict()"
   ]
  },
  {
   "cell_type": "code",
   "execution_count": null,
   "id": "c8c47a15",
   "metadata": {},
   "outputs": [],
   "source": [
    "result[0]"
   ]
  },
  {
   "cell_type": "code",
   "execution_count": null,
   "id": "10c32d6a",
   "metadata": {},
   "outputs": [],
   "source": [
    "len(result[1])"
   ]
  },
  {
   "cell_type": "code",
   "execution_count": null,
   "id": "a5193894",
   "metadata": {},
   "outputs": [],
   "source": [
    "import pandas as pd\n",
    "\n",
    "num_cols = 2\n",
    "seed = 42\n",
    "date_range_kwargs = {\n",
    "    \"start\": pd.Timestamp(\"2010-01-01\"),\n",
    "    \"end\": pd.Timestamp(\"2010-02-01\"),\n",
    "    \"freq\": \"1B\",\n",
    "}\n",
    "# pd.date_range(**date_range_kwargs)\n",
    "data = hpandas.get_random_df(\n",
    "    num_cols, seed=seed, date_range_kwargs=date_range_kwargs\n",
    ")\n",
    "print(data)\n",
    "\n",
    "\n",
    "config = {\n",
    "    \"rule\": \"1B\",\n",
    "    \"agg_func\": \"last\",\n",
    "    \"resample_kwargs\": None,\n",
    "    \"agg_func_kwargs\": None,\n",
    "}\n",
    "node = cdnt.Reample(\"resample\", **config)\n",
    "df_out = node.fit(data)[\"df_out\"]"
   ]
  },
  {
   "cell_type": "code",
   "execution_count": null,
   "id": "f0dfe939",
   "metadata": {},
   "outputs": [],
   "source": [
    "import dataflow.nodes.transformers as dtfnodtran\n",
    "\n",
    "nid = \"nop\"\n",
    "\n",
    "\n",
    "def func(df_in):\n",
    "    return df_in\n",
    "\n",
    "\n",
    "func_kwargs = {}\n",
    "\n",
    "node = dtfnodtran.FunctionWrapper(nid, func, func_kwargs)\n",
    "\n",
    "node.fit(data)"
   ]
  },
  {
   "cell_type": "code",
   "execution_count": null,
   "id": "04a9d5cd",
   "metadata": {},
   "outputs": [],
   "source": [
    "\n",
    "dag_builder = amp.dataflow.pipelines.dataflow_example._NaivePipeline()\n",
    "\n",
    "config = dag_builder.get_config_template()\n",
    "\n",
    "dag_builder.get_dag(config)"
   ]
  }
 ],
 "metadata": {
  "kernelspec": {
   "display_name": "Python 3 (ipykernel)",
   "language": "python",
   "name": "python3"
  },
  "language_info": {
   "codemirror_mode": {
    "name": "ipython",
    "version": 3
   },
   "file_extension": ".py",
   "mimetype": "text/x-python",
   "name": "python",
   "nbconvert_exporter": "python",
   "pygments_lexer": "ipython3"
  },
  "toc": {
   "base_numbering": 1,
   "nav_menu": {},
   "number_sections": true,
   "sideBar": true,
   "skip_h1_title": false,
   "title_cell": "Table of Contents",
   "title_sidebar": "Contents",
   "toc_cell": false,
   "toc_position": {
    "height": "calc(100% - 180px)",
    "left": "10px",
    "top": "150px",
    "width": "165px"
   },
   "toc_section_display": true,
   "toc_window_display": true
  }
 },
 "nbformat": 4,
 "nbformat_minor": 5
}
