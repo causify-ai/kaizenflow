{
 "cells": [
  {
   "cell_type": "markdown",
   "id": "53ba2bbf",
   "metadata": {},
   "source": [
    "The goal of this notebook is to show how synthetic market data is generated using the following methods:\n",
    "- `generate_random_price_data` (for one and multiple assets)\n",
    "- `generate_random_bars`\n",
    "- `get_gaussian_walk`"
   ]
  },
  {
   "cell_type": "markdown",
   "id": "dad09b9f",
   "metadata": {},
   "source": [
    "## Imports"
   ]
  },
  {
   "cell_type": "code",
   "execution_count": null,
   "id": "ba6d48f6",
   "metadata": {},
   "outputs": [],
   "source": [
    "import logging\n",
    "\n",
    "import matplotlib.pyplot as plt\n",
    "import pandas as pd\n",
    "\n",
    "import core.artificial_signal_generators as carsigen\n",
    "import core.finance as cofinanc\n",
    "import core.finance.market_data_example as cfmadaex\n",
    "import dataflow.core as dtfcore\n",
    "import dataflow.system as dtfsys\n",
    "import helpers.hdbg as hdbg\n",
    "import helpers.hprint as hprint"
   ]
  },
  {
   "cell_type": "code",
   "execution_count": null,
   "id": "2be950d7",
   "metadata": {},
   "outputs": [],
   "source": [
    "hdbg.init_logger(verbosity=logging.INFO)\n",
    "\n",
    "_LOG = logging.getLogger(__name__)\n",
    "\n",
    "hprint.config_notebook()"
   ]
  },
  {
   "cell_type": "markdown",
   "id": "155b9dcf",
   "metadata": {},
   "source": [
    "# Generate the data"
   ]
  },
  {
   "cell_type": "markdown",
   "id": "93a7bb17",
   "metadata": {},
   "source": [
    "## Using `generate_random_price_data` for multiple assets"
   ]
  },
  {
   "cell_type": "markdown",
   "id": "10919224",
   "metadata": {},
   "source": [
    "Problems:\n",
    "- Generated prices are the same for all assets\n",
    "- Distribution of returns is not normal"
   ]
  },
  {
   "cell_type": "code",
   "execution_count": null,
   "id": "794d0227",
   "metadata": {},
   "outputs": [],
   "source": [
    "# Generate the initial price data.\n",
    "start_datetime = pd.Timestamp(\"2021-01-01\")\n",
    "end_datetime = pd.Timestamp(\"2021-01-31\")\n",
    "columns = [\"close\"]\n",
    "asset_ids = list(range(2))\n",
    "freq = \"1T\"\n",
    "initial_price = 29000\n",
    "seed = (100,)\n",
    "\n",
    "df = cfmadaex.generate_random_price_data(\n",
    "    start_datetime,\n",
    "    end_datetime,\n",
    "    columns,\n",
    "    asset_ids,\n",
    "    freq=freq,\n",
    "    initial_price=initial_price,\n",
    "    seed=seed,\n",
    ")\n",
    "\n",
    "df = df.set_index(\"timestamp_db\").drop(columns=[\"start_datetime\", \"end_datetime\"])\n",
    "df = dtfsys._convert_to_multiindex(df, \"asset_id\")"
   ]
  },
  {
   "cell_type": "code",
   "execution_count": null,
   "id": "4aecd193",
   "metadata": {},
   "outputs": [],
   "source": [
    "# Calculate returns.\n",
    "node_returns_config = {\n",
    "    \"in_col_groups\": [\n",
    "        (\"close\",),\n",
    "    ],\n",
    "    \"out_col_group\": (),\n",
    "    \"transformer_kwargs\": {\n",
    "        \"mode\": \"pct_change\",\n",
    "    },\n",
    "    \"col_mapping\": {\n",
    "        \"close\": \"close.ret_0\",\n",
    "    },\n",
    "}\n",
    "# Create the node that computes ret_0.\n",
    "nid = \"ret0\"\n",
    "node = dtfcore.GroupedColDfToDfTransformer(\n",
    "    nid,\n",
    "    transformer_func=cofinanc.compute_ret_0,\n",
    "    **node_returns_config,\n",
    ")\n",
    "# Compute the node on the data.\n",
    "rets = node.fit(df)"
   ]
  },
  {
   "cell_type": "code",
   "execution_count": null,
   "id": "5a94e35d",
   "metadata": {},
   "outputs": [],
   "source": [
    "# Show DataFrame with prices and returns for multiple assets.\n",
    "df = rets[\"df_out\"]\n",
    "df.head(5)"
   ]
  },
  {
   "cell_type": "code",
   "execution_count": null,
   "id": "d55c8275",
   "metadata": {},
   "outputs": [],
   "source": [
    "# Plot the prices.\n",
    "df[[\"close\"]].plot(figsize=(15, 7))"
   ]
  },
  {
   "cell_type": "code",
   "execution_count": null,
   "id": "5a03cbd5",
   "metadata": {},
   "outputs": [],
   "source": [
    "# Plot returns.\n",
    "df[[\"close.ret_0\"]].plot(figsize=(15, 7))"
   ]
  },
  {
   "cell_type": "markdown",
   "id": "9f07b300",
   "metadata": {},
   "source": [
    "## Using `generate_random_price_data` for one asset\n"
   ]
  },
  {
   "cell_type": "markdown",
   "id": "bb96b9f1",
   "metadata": {},
   "source": [
    "Problems:\n",
    "- Distribution of returns is not normal"
   ]
  },
  {
   "cell_type": "code",
   "execution_count": null,
   "id": "76482765",
   "metadata": {},
   "outputs": [],
   "source": [
    "start_datetime = pd.Timestamp(\"2021-01-01\")\n",
    "end_datetime = pd.Timestamp(\"2021-01-31\")\n",
    "columns = [\"close\"]\n",
    "asset_ids = [1]\n",
    "freq = \"1T\"\n",
    "initial_price = 29000\n",
    "seed = (100,)\n",
    "\n",
    "df = cfmadaex.generate_random_price_data(\n",
    "    start_datetime,\n",
    "    end_datetime,\n",
    "    columns,\n",
    "    asset_ids,\n",
    "    freq=freq,\n",
    "    initial_price=initial_price,\n",
    "    seed=seed,\n",
    ")\n",
    "\n",
    "df = df.set_index(\"timestamp_db\").drop(\n",
    "    columns=[\"start_datetime\", \"end_datetime\", \"asset_id\"]\n",
    ")\n",
    "df[\"rets\"] = cofinanc.compute_ret_0(df[[\"close\"]], \"pct_change\")\n",
    "df.head(3)"
   ]
  },
  {
   "cell_type": "code",
   "execution_count": null,
   "id": "6070322d",
   "metadata": {},
   "outputs": [],
   "source": [
    "df[[\"close\"]].plot(figsize=(15, 7))\n",
    "df[[\"rets\"]].plot(figsize=(15, 7))"
   ]
  },
  {
   "cell_type": "code",
   "execution_count": null,
   "id": "64417c10",
   "metadata": {},
   "outputs": [],
   "source": [
    "fig = plt.figure(figsize=(15, 7))\n",
    "ax1 = fig.add_subplot(1, 1, 1)\n",
    "df[\"rets\"].hist(bins=50, ax=ax1)\n",
    "ax1.set_xlabel(\"Return\")\n",
    "ax1.set_ylabel(\"Sample\")\n",
    "ax1.set_title(\"Return distribution\")\n",
    "plt.show()"
   ]
  },
  {
   "cell_type": "markdown",
   "id": "7f69e36e",
   "metadata": {},
   "source": [
    "## Using `generate_random_bars`\n"
   ]
  },
  {
   "cell_type": "markdown",
   "id": "96bc86cd",
   "metadata": {
    "run_control": {
     "marked": true
    }
   },
   "source": [
    "Problems:\n",
    "- Strange outcomes"
   ]
  },
  {
   "cell_type": "code",
   "execution_count": null,
   "id": "5995a577",
   "metadata": {},
   "outputs": [],
   "source": [
    "# Generate the data.\n",
    "start_datetime = pd.Timestamp(\"2021-01-01\")\n",
    "end_datetime = pd.Timestamp(\"2021-01-31\")\n",
    "\n",
    "df = cfmadaex.generate_random_bars(\n",
    "    start_datetime,\n",
    "    end_datetime,\n",
    "    asset_ids=[1, 2],\n",
    ")\n",
    "\n",
    "df = df.set_index(\"timestamp_db\").drop(columns=[\"start_datetime\", \"end_datetime\"])\n",
    "df = dtfsys._convert_to_multiindex(df, \"asset_id\")"
   ]
  },
  {
   "cell_type": "code",
   "execution_count": null,
   "id": "c9edecc2",
   "metadata": {},
   "outputs": [],
   "source": [
    "# Show prices.\n",
    "df[\"close\"].plot(figsize=(15, 7))"
   ]
  },
  {
   "cell_type": "code",
   "execution_count": null,
   "id": "5a910778",
   "metadata": {},
   "outputs": [],
   "source": [
    "# Calculate returns.\n",
    "node_returns_config = {\n",
    "    \"in_col_groups\": [\n",
    "        (\"close\",),\n",
    "    ],\n",
    "    \"out_col_group\": (),\n",
    "    \"transformer_kwargs\": {\n",
    "        \"mode\": \"pct_change\",\n",
    "    },\n",
    "    \"col_mapping\": {\n",
    "        \"close\": \"close.ret_0\",\n",
    "    },\n",
    "}\n",
    "# Create the node that computes ret_0.\n",
    "nid = \"ret0\"\n",
    "node = dtfcore.GroupedColDfToDfTransformer(\n",
    "    nid,\n",
    "    transformer_func=cofinanc.compute_ret_0,\n",
    "    **node_returns_config,\n",
    ")\n",
    "# Compute the node on the data.\n",
    "rets = node.fit(df)\n",
    "rets[\"df_out\"].head(3)"
   ]
  },
  {
   "cell_type": "code",
   "execution_count": null,
   "id": "8f9a4a08",
   "metadata": {},
   "outputs": [],
   "source": [
    "# Show returns.\n",
    "rets[\"df_out\"][\"close.ret_0\"].plot(figsize=(15, 7))"
   ]
  },
  {
   "cell_type": "markdown",
   "id": "737d55f3",
   "metadata": {},
   "source": [
    "## Using returns directly (`get_gaussian_walk`)"
   ]
  },
  {
   "cell_type": "code",
   "execution_count": null,
   "id": "c363f3b8",
   "metadata": {},
   "outputs": [],
   "source": [
    "drift = 0\n",
    "vol = 0.2\n",
    "size = 252\n",
    "seed = 10\n",
    "rets = carsigen.get_gaussian_walk(drift, vol, size, seed=seed).diff()"
   ]
  },
  {
   "cell_type": "code",
   "execution_count": null,
   "id": "e6194e32",
   "metadata": {},
   "outputs": [],
   "source": [
    "rets.plot()"
   ]
  },
  {
   "cell_type": "code",
   "execution_count": null,
   "id": "df960fa5",
   "metadata": {},
   "outputs": [],
   "source": [
    "fig = plt.figure(figsize=(15, 7))\n",
    "ax1 = fig.add_subplot(1, 1, 1)\n",
    "rets.hist(bins=50, ax=ax1)\n",
    "ax1.set_xlabel(\"Return\")\n",
    "ax1.set_ylabel(\"Sample\")\n",
    "ax1.set_title(\"Returns distribution\")\n",
    "plt.show()"
   ]
  }
 ],
 "metadata": {
  "kernelspec": {
   "display_name": "Python 3 (ipykernel)",
   "language": "python",
   "name": "python3"
  },
  "language_info": {
   "codemirror_mode": {
    "name": "ipython",
    "version": 3
   },
   "file_extension": ".py",
   "mimetype": "text/x-python",
   "name": "python",
   "nbconvert_exporter": "python",
   "pygments_lexer": "ipython3"
  },
  "toc": {
   "base_numbering": 1,
   "nav_menu": {},
   "number_sections": true,
   "sideBar": true,
   "skip_h1_title": false,
   "title_cell": "Table of Contents",
   "title_sidebar": "Contents",
   "toc_cell": false,
   "toc_position": {},
   "toc_section_display": true,
   "toc_window_display": false
  }
 },
 "nbformat": 4,
 "nbformat_minor": 5
}
