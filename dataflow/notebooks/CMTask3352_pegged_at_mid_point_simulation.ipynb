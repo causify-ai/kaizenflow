{
 "cells": [
  {
   "cell_type": "code",
   "execution_count": null,
   "id": "e5e3f46a",
   "metadata": {},
   "outputs": [],
   "source": [
    "%load_ext autoreload\n",
    "%autoreload 2\n",
    "import logging\n",
    "\n",
    "import pandas as pd\n",
    "\n",
    "import core.finance as cofinanc\n",
    "import dataflow.core as dtfcore\n",
    "import dataflow.system as dtfsys\n",
    "import dataflow.universe as dtfuniver\n",
    "import helpers.hdbg as hdbg\n",
    "import helpers.henv as henv\n",
    "import helpers.hprint as hprint\n",
    "import im_v2.ccxt.data.client as icdcl\n",
    "import im_v2.common.db.db_utils as imvcddbut\n",
    "import market_data as mdata"
   ]
  },
  {
   "cell_type": "code",
   "execution_count": null,
   "id": "ecb089b7",
   "metadata": {},
   "outputs": [],
   "source": [
    "hdbg.init_logger(verbosity=logging.INFO)\n",
    "\n",
    "_LOG = logging.getLogger(__name__)\n",
    "\n",
    "_LOG.info(\"%s\", henv.get_system_signature()[0])\n",
    "\n",
    "hprint.config_notebook()"
   ]
  },
  {
   "cell_type": "code",
   "execution_count": null,
   "id": "8c5cfdc3",
   "metadata": {},
   "outputs": [],
   "source": [
    "db_manager = imvcddbut.DbConnectionManager()\n",
    "db_manager.get_connection(\"dev\")\n",
    "resample_1min = False\n",
    "table_name = \"ccxt_bid_ask_futures_raw\"\n",
    "connection = db_manager.connection\n",
    "client = icdcl.CcxtSqlRealTimeImClient(resample_1min, connection, table_name)"
   ]
  },
  {
   "cell_type": "code",
   "execution_count": null,
   "id": "d535dbbf",
   "metadata": {},
   "outputs": [],
   "source": [
    "# Set the time boundaries.\n",
    "start_ts = pd.Timestamp(\"2022-12-14 11:00:00+00:00\")\n",
    "end_ts = pd.Timestamp(\"2022-12-14 12:00:00+00:00\")\n",
    "intervals = [\n",
    "    (\n",
    "        start_ts,\n",
    "        end_ts,\n",
    "    ),\n",
    "]"
   ]
  },
  {
   "cell_type": "code",
   "execution_count": null,
   "id": "ce84eb1a",
   "metadata": {},
   "outputs": [],
   "source": [
    "universe_str = \"ccxt_v7_3-all\"\n",
    "full_symbols = dtfuniver.get_universe(universe_str)\n",
    "asset_ids = client.get_asset_ids_from_full_symbols(full_symbols)"
   ]
  },
  {
   "cell_type": "code",
   "execution_count": null,
   "id": "a52fe2b8",
   "metadata": {},
   "outputs": [],
   "source": [
    "columns = None\n",
    "columns_remap = None\n",
    "wall_clock_time = pd.Timestamp(\"2100-01-01T00:00:00+00:00\")\n",
    "market_data = mdata.get_HistoricalImClientMarketData_example1(\n",
    "    client, asset_ids, columns, columns_remap, wall_clock_time=wall_clock_time\n",
    ")\n",
    "stage = \"read_data\"\n",
    "ts_col_name = \"end_ts\"\n",
    "multiindex_output = True"
   ]
  },
  {
   "cell_type": "code",
   "execution_count": null,
   "id": "f105f006",
   "metadata": {},
   "outputs": [],
   "source": [
    "market_data, wall_clock_time = mdata.get_RealTimeImClientMarketData_example1(\n",
    "    client, asset_ids\n",
    ")"
   ]
  },
  {
   "cell_type": "markdown",
   "id": "40a4fdf6",
   "metadata": {},
   "source": [
    "## Filtering data"
   ]
  },
  {
   "cell_type": "markdown",
   "id": "d30310e1",
   "metadata": {},
   "source": [
    "- Keep level 1 of the orderbook\n",
    "- Check raw data for anomalies\n",
    "- Convert to multiindex\n",
    "- Add extra columns\n",
    "- Resample"
   ]
  },
  {
   "cell_type": "code",
   "execution_count": null,
   "id": "a652dcca",
   "metadata": {},
   "outputs": [],
   "source": [
    "def _run_dag_node(dag):\n",
    "    dag_runner = dtfcore.FitPredictDagRunner(dag)\n",
    "    dag_runner.set_fit_intervals(intervals)\n",
    "    fit_result_bundle = dag_runner.fit()\n",
    "    df = fit_result_bundle.result_df\n",
    "    return df\n",
    "\n",
    "\n",
    "# Create an empty DAG.\n",
    "dag = dtfcore.DAG(mode=\"strict\")\n",
    "dtfcore.draw(dag)"
   ]
  },
  {
   "cell_type": "code",
   "execution_count": null,
   "id": "74f91775",
   "metadata": {},
   "outputs": [],
   "source": [
    "stage = \"read_data\"\n",
    "ts_col_name = \"end_ts\"\n",
    "multiindex_output = True\n",
    "col_names_to_remove = []\n",
    "node = dtfsys.HistoricalDataSource(\n",
    "    stage,\n",
    "    market_data,\n",
    "    ts_col_name,\n",
    "    multiindex_output,\n",
    "    col_names_to_remove=col_names_to_remove,\n",
    ")\n",
    "dag.insert_at_head(node)\n",
    "dtfcore.draw(dag)"
   ]
  },
  {
   "cell_type": "code",
   "execution_count": null,
   "id": "31b30a37",
   "metadata": {},
   "outputs": [],
   "source": [
    "data = _run_dag_node(dag)\n",
    "data.shape\n",
    "data = data[\n",
    "    [\n",
    "        \"bid_size_l1\",\n",
    "        \"bid_price_l1\",\n",
    "        \"ask_size_l1\",\n",
    "        \"ask_price_l1\",\n",
    "        \"knowledge_timestamp\",\n",
    "        \"full_symbol\",\n",
    "        \"start_timestamp\",\n",
    "    ]\n",
    "]"
   ]
  },
  {
   "cell_type": "code",
   "execution_count": null,
   "id": "c87be3b0",
   "metadata": {},
   "outputs": [],
   "source": [
    "data.head(10)"
   ]
  },
  {
   "cell_type": "markdown",
   "id": "6556733e",
   "metadata": {},
   "source": [
    "### Calculate average difference between datetime rows in the index"
   ]
  },
  {
   "cell_type": "code",
   "execution_count": null,
   "id": "5591008d",
   "metadata": {},
   "outputs": [],
   "source": [
    "time_diff = data.index.to_series().diff()\n",
    "time_diff.mean()"
   ]
  },
  {
   "cell_type": "markdown",
   "id": "3b236d5d",
   "metadata": {},
   "source": [
    "#### Comment"
   ]
  },
  {
   "cell_type": "markdown",
   "id": "c7fd2e02",
   "metadata": {},
   "source": [
    "- The data stream for each asset is downloaded in sequence, and the difference between those averages for about 0.014 seconds.\n",
    "- In order to estimate the number of NaNs in the dataframe, we need to drop assets for which this datetime index does not exist.\n",
    "- Checking rows for which all relevant data is missing"
   ]
  },
  {
   "cell_type": "code",
   "execution_count": null,
   "id": "9e2848f1",
   "metadata": {},
   "outputs": [],
   "source": [
    "original_shape = data.shape[0]\n",
    "data = data.dropna(\n",
    "    axis=0,\n",
    "    subset=data[\n",
    "        [\"bid_size_l1\", \"ask_size_l1\", \"bid_price_l1\", \"ask_price_l1\"]\n",
    "    ].columns,\n",
    "    how=\"all\",\n",
    ")\n",
    "nonna_shape = data.shape[0]\n",
    "shape_dff = original_shape - nonna_shape\n",
    "\n",
    "print(\n",
    "    f\"Missing bid/ask data for the given time period: {shape_diff} ({shape_diff / original_shape})\"\n",
    ")"
   ]
  },
  {
   "cell_type": "code",
   "execution_count": null,
   "id": "1599fe0c",
   "metadata": {},
   "outputs": [],
   "source": [
    "stage = \"resample\"\n",
    "nid = stage\n",
    "dict_ = {\n",
    "    \"in_col_groups\": [\n",
    "        (\"bid_size_l1\",),\n",
    "        (\"ask_size_l1\",),\n",
    "        (\"bid_price_l1\",),\n",
    "        (\"ask_price_l1\",),\n",
    "    ],\n",
    "    \"out_col_group\": (),\n",
    "    \"transformer_kwargs\": {\n",
    "        \"rule\": \"1T\",\n",
    "        \"resampling_groups\": [\n",
    "            ({\"bid_size_l1\": \"bid_size\"}, \"sum\", {}),\n",
    "            ({\"ask_size_l1\": \"ask_size\"}, \"sum\", {}),\n",
    "            ({\"bid_price_l1\": \"bid_price\"}, \"last\", {}),\n",
    "            ({\"ask_price_l1\": \"ask_price\"}, \"last\", {}),\n",
    "        ],\n",
    "    },\n",
    "    \"reindex_like_input\": False,\n",
    "    \"join_output_with_input\": False,\n",
    "}\n",
    "node = dtfcore.GroupedColDfToDfTransformer(\n",
    "    nid, transformer_func=cofinanc.resample_bars, **dict_\n",
    ")\n",
    "dag.append_to_tail(node)\n",
    "dtfcore.draw(dag)"
   ]
  },
  {
   "cell_type": "code",
   "execution_count": null,
   "id": "4bc1c0c9",
   "metadata": {},
   "outputs": [],
   "source": []
  }
 ],
 "metadata": {
  "jupytext": {
   "formats": "ipynb,py:percent"
  },
  "kernelspec": {
   "display_name": "Python 3 (ipykernel)",
   "language": "python",
   "name": "python3"
  },
  "language_info": {
   "codemirror_mode": {
    "name": "ipython",
    "version": 3
   },
   "file_extension": ".py",
   "mimetype": "text/x-python",
   "name": "python",
   "nbconvert_exporter": "python",
   "pygments_lexer": "ipython3"
  },
  "toc": {
   "base_numbering": 1,
   "nav_menu": {},
   "number_sections": true,
   "sideBar": true,
   "skip_h1_title": false,
   "title_cell": "Table of Contents",
   "title_sidebar": "Contents",
   "toc_cell": false,
   "toc_position": {},
   "toc_section_display": true,
   "toc_window_display": false
  }
 },
 "nbformat": 4,
 "nbformat_minor": 5
}
