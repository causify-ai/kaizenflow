{
 "cells": [
  {
   "cell_type": "markdown",
   "id": "24dcaf9a",
   "metadata": {},
   "source": [
    "# Description"
   ]
  },
  {
   "cell_type": "markdown",
   "id": "23fc57ef",
   "metadata": {},
   "source": [
    "The goal of this notebook is to demonstrate the various approaches of working with `dataflow`."
   ]
  },
  {
   "cell_type": "markdown",
   "id": "58d76abe",
   "metadata": {},
   "source": [
    "# Imports"
   ]
  },
  {
   "cell_type": "code",
   "execution_count": null,
   "id": "90d2298b",
   "metadata": {},
   "outputs": [],
   "source": [
    "import logging\n",
    "\n",
    "import pandas as pd\n",
    "\n",
    "import core.config.config_ as cconconf\n",
    "import core.finance as cofinanc\n",
    "import core.finance.resampling as cfinresa\n",
    "import core.finance.returns as cfinretu\n",
    "import dataflow.core as dtfcore\n",
    "import dataflow.system as dtfsys\n",
    "import dataflow.universe as dtfuniver\n",
    "import helpers.hdbg as hdbg\n",
    "import helpers.hprint as hprint\n",
    "import im_v2.ccxt.data.client as icdcl\n",
    "import market_data as mdata"
   ]
  },
  {
   "cell_type": "code",
   "execution_count": null,
   "id": "feb220a4",
   "metadata": {},
   "outputs": [],
   "source": [
    "hdbg.init_logger(verbosity=logging.INFO)\n",
    "\n",
    "_LOG = logging.getLogger(__name__)\n",
    "\n",
    "hprint.config_notebook()"
   ]
  },
  {
   "cell_type": "markdown",
   "id": "eea446ce",
   "metadata": {},
   "source": [
    "# Config"
   ]
  },
  {
   "cell_type": "code",
   "execution_count": null,
   "id": "3f0680e4",
   "metadata": {},
   "outputs": [],
   "source": [
    "def get_gallery_dataflow_example_config() -> cconconf.Config:\n",
    "    \"\"\"\n",
    "    Get config, that specifies params for getting raw data.\n",
    "    \"\"\"\n",
    "    config = cconconf.Config()\n",
    "    # Load parameters.\n",
    "    config.add_subconfig(\"load\")\n",
    "    config[\"load\"][\"data_snapshot\"] = \"latest\"\n",
    "    config[\"load\"][\"dataset\"] = \"ohlcv\"\n",
    "    config[\"load\"][\"contract_type\"] = \"futures\"\n",
    "    config[\"load\"][\"universe_version\"] = \"v7\"\n",
    "    # Data parameters.\n",
    "    config.add_subconfig(\"data\")\n",
    "    config[\"data\"][\"start_date\"] = pd.Timestamp(\"2021-09-01\", tz=\"UTC\")\n",
    "    config[\"data\"][\"end_date\"] = pd.Timestamp(\"2021-09-15\", tz=\"UTC\")\n",
    "    config[\"data\"][\"resample_1min\"] = False\n",
    "    config[\"data\"][\"resampling_rule\"] = \"5T\"\n",
    "    return config"
   ]
  },
  {
   "cell_type": "code",
   "execution_count": null,
   "id": "58dae195",
   "metadata": {},
   "outputs": [],
   "source": [
    "config = get_gallery_dataflow_example_config()\n",
    "print(config)"
   ]
  },
  {
   "cell_type": "markdown",
   "id": "9b068ea0",
   "metadata": {},
   "source": [
    "# Load historical data"
   ]
  },
  {
   "cell_type": "markdown",
   "id": "4a901c07",
   "metadata": {},
   "source": [
    "## Get IM client"
   ]
  },
  {
   "cell_type": "code",
   "execution_count": null,
   "id": "6ab51052",
   "metadata": {
    "lines_to_next_cell": 2
   },
   "outputs": [],
   "source": [
    "universe_version = config[\"load\"][\"universe_version\"]\n",
    "resample_1min = config[\"data\"][\"resample_1min\"]\n",
    "contract_type = config[\"load\"][\"contract_type\"]\n",
    "dataset = config[\"load\"][\"dataset\"]\n",
    "data_snapshot = config[\"load\"][\"data_snapshot\"]\n",
    "\n",
    "client = icdcl.ccxt_clients_example.get_CcxtHistoricalPqByTileClient_example1(\n",
    "    universe_version, resample_1min, dataset, contract_type, data_snapshot\n",
    ")"
   ]
  },
  {
   "cell_type": "markdown",
   "id": "be31171b",
   "metadata": {},
   "source": [
    "## Get universe"
   ]
  },
  {
   "cell_type": "code",
   "execution_count": null,
   "id": "42c2e053",
   "metadata": {
    "lines_to_next_cell": 0
   },
   "outputs": [],
   "source": [
    "# Set the universe.\n",
    "universe_str = \"ccxt_v7-all\"\n",
    "full_symbols = dtfuniver.get_universe(universe_str)\n",
    "asset_ids = client.get_asset_ids_from_full_symbols(full_symbols)"
   ]
  },
  {
   "cell_type": "markdown",
   "id": "6a498a3c",
   "metadata": {},
   "source": [
    "## Get market data loader"
   ]
  },
  {
   "cell_type": "code",
   "execution_count": null,
   "id": "9059fa31",
   "metadata": {
    "lines_to_next_cell": 2,
    "run_control": {
     "marked": true
    }
   },
   "outputs": [],
   "source": [
    "columns = None\n",
    "columns_remap = None\n",
    "\n",
    "wall_clock_time = pd.Timestamp(\"2100-01-01T00:00:00+00:00\")\n",
    "market_data = mdata.market_data_example.get_HistoricalImClientMarketData_example1(\n",
    "    client, asset_ids, columns, columns_remap, wall_clock_time=wall_clock_time\n",
    ")"
   ]
  },
  {
   "cell_type": "markdown",
   "id": "8ba8ad3c",
   "metadata": {
    "run_control": {
     "marked": true
    }
   },
   "source": [
    "## Get data"
   ]
  },
  {
   "cell_type": "code",
   "execution_count": null,
   "id": "72038497",
   "metadata": {},
   "outputs": [],
   "source": [
    "start_ts = config[\"data\"][\"start_date\"]\n",
    "end_ts = config[\"data\"][\"end_date\"]\n",
    "ts_col_name = \"timestamp\"\n",
    "\n",
    "data_hist = market_data.get_data_for_interval(\n",
    "    start_ts, end_ts, ts_col_name, asset_ids\n",
    ")\n",
    "print(data_hist.shape)\n",
    "data_hist.head(3)"
   ]
  },
  {
   "cell_type": "markdown",
   "id": "dc0421ec",
   "metadata": {},
   "source": [
    "# Task description"
   ]
  },
  {
   "cell_type": "markdown",
   "id": "7055703f",
   "metadata": {},
   "source": [
    "The goal of this exercise is to implement the following transformations to the historical data:\n",
    "- resampling\n",
    "- VWAP, TWAP computation\n",
    "- Calculation of returns\n",
    "\n",
    "While using the different approaches to working with `dataflow` methods.\n",
    "The main feature that these methods are trying to overcome is the fact that when the raw data consists of two and more `full_symbols`, then one needs to be careful to apply transformations that needs to be implemented specifically to each `full_symbol`.\n",
    "\n",
    "These three approaches are:\n",
    "- 1) Use the \"low level\" functions and do loops\n",
    "- 2) Use pandas Multi-index\n",
    "- 3) Use Dataflow nodes\n",
    "\n",
    "The general rule is to use the third and second approach when possible, while keeping the first approach as a bacjup."
   ]
  },
  {
   "cell_type": "code",
   "execution_count": null,
   "id": "c9284620",
   "metadata": {},
   "outputs": [],
   "source": [
    "# The resampling frequency is the same for all approaches.\n",
    "resampling_freq = config[\"data\"][\"resampling_rule\"]"
   ]
  },
  {
   "cell_type": "markdown",
   "id": "befc9fcb",
   "metadata": {},
   "source": [
    "# Approach 1 - Use the \"low level\" functions and do loops"
   ]
  },
  {
   "cell_type": "markdown",
   "id": "2a67e71c",
   "metadata": {},
   "source": [
    "This approach does both resampling and computation of metrics and applied them individually to each `full_symbol` using the loop."
   ]
  },
  {
   "cell_type": "code",
   "execution_count": null,
   "id": "37c0dea2",
   "metadata": {},
   "outputs": [],
   "source": [
    "def resample_calculate_twap_vwap_and_returns(df, resampling_freq):\n",
    "    result = []\n",
    "    full_symbol_list = df[\"full_symbol\"].unique()\n",
    "    for cc in full_symbol_list:\n",
    "        # DataFrame with a specific `full_symbol`\n",
    "        cc_df = df[df[\"full_symbol\"] == cc]\n",
    "        # Resample OHLCV data inside `full_symbol`-specific DataFrame.\n",
    "        resampled_cc_df = cfinresa.resample_ohlcv_bars(\n",
    "            cc_df, rule=resampling_freq\n",
    "        )\n",
    "        # Attach VWAP, TWAP.\n",
    "        resampled_cc_df[[\"vwap\", \"twap\"]] = cfinresa.compute_twap_vwap(\n",
    "            cc_df, resampling_freq, price_col=\"close\", volume_col=\"volume\"\n",
    "        )\n",
    "        # Calculate returns.\n",
    "        resampled_cc_df[\"vwap_rets\"] = cfinretu.compute_ret_0(\n",
    "            resampled_cc_df[[\"vwap\"]], \"pct_change\"\n",
    "        )\n",
    "        resampled_cc_df[\"twap_rets\"] = cfinretu.compute_ret_0(\n",
    "            resampled_cc_df[[\"twap\"]], \"pct_change\"\n",
    "        )\n",
    "        resampled_cc_df[\"log_rets\"] = cfinretu.compute_ret_0(\n",
    "            resampled_cc_df[[\"close\"]], \"log_rets\"\n",
    "        )\n",
    "        # Add a column with `full_symbol` indication.\n",
    "        resampled_cc_df[\"full_symbol\"] = cc\n",
    "        # Omit unnecesary columns.\n",
    "        resampled_cc_df = resampled_cc_df.drop(columns=[\"open\", \"high\", \"low\"])\n",
    "        result.append(resampled_cc_df)\n",
    "    final_df = pd.concat(result)\n",
    "    return final_df"
   ]
  },
  {
   "cell_type": "code",
   "execution_count": null,
   "id": "2984c417",
   "metadata": {
    "run_control": {
     "marked": false
    }
   },
   "outputs": [],
   "source": [
    "df_approach_1 = resample_calculate_twap_vwap_and_returns(\n",
    "    data_hist, resampling_freq\n",
    ")\n",
    "df_approach_1.head(3)"
   ]
  },
  {
   "cell_type": "markdown",
   "id": "bed0be17",
   "metadata": {},
   "source": [
    "# Approach 2 - Use pandas Multi-index"
   ]
  },
  {
   "cell_type": "code",
   "execution_count": null,
   "id": "cc6ad6b6",
   "metadata": {},
   "outputs": [],
   "source": [
    "# Drop non numerical columns to apply computations.\n",
    "data_hist_num = data_hist.drop(\n",
    "    columns=[\"full_symbol\", \"knowledge_timestamp\", \"start_ts\"]\n",
    ")"
   ]
  },
  {
   "cell_type": "code",
   "execution_count": null,
   "id": "57fedc2a",
   "metadata": {
    "run_control": {
     "marked": false
    }
   },
   "outputs": [],
   "source": [
    "# Convert historical data to multiindex format.\n",
    "converted_data = dtfsys.source_nodes._convert_to_multiindex(\n",
    "    data_hist_num, \"asset_id\"\n",
    ")\n",
    "converted_data.head(3)"
   ]
  },
  {
   "cell_type": "code",
   "execution_count": null,
   "id": "7b68480d",
   "metadata": {},
   "outputs": [],
   "source": [
    "# Resampling VWAP (besides potential errors). This implies hardcoded formula in a mix with resampling functions.\n",
    "vwap_approach_2 = (converted_data[\"close\"] * converted_data[\"volume\"]).resample(\n",
    "    resampling_freq\n",
    ").mean() / converted_data[\"volume\"].resample(resampling_freq).sum()\n",
    "vwap_approach_2.head(3)"
   ]
  },
  {
   "cell_type": "code",
   "execution_count": null,
   "id": "0f788a62",
   "metadata": {},
   "outputs": [],
   "source": [
    "# Compute the ret_0 on all assets. You don't need a loop! But the data needs to be in the \"right\" format\n",
    "# (the variable one wants to loop on needs to be the outermost in the levels, so one needs to do swaplevel).\n",
    "rets_approach_2 = converted_data.swaplevel(axis=1).pct_change()\n",
    "rets_approach_2.head(3)"
   ]
  },
  {
   "cell_type": "code",
   "execution_count": null,
   "id": "62efdd58",
   "metadata": {
    "run_control": {
     "marked": false
    }
   },
   "outputs": [],
   "source": [
    "# To go back to a flat index representation.\n",
    "rets_approach_2.columns = [\"\".join(str(col)) for col in rets_approach_2.columns]\n",
    "rets_approach_2.head(3)"
   ]
  },
  {
   "cell_type": "markdown",
   "id": "46cc67cc",
   "metadata": {},
   "source": [
    "# Approach 3 - Use Dataflow nodes"
   ]
  },
  {
   "cell_type": "markdown",
   "id": "613b02be",
   "metadata": {},
   "source": [
    "One node does resampling and VWAP, TWAP calculations, the other does returns."
   ]
  },
  {
   "cell_type": "code",
   "execution_count": null,
   "id": "8f7e200f",
   "metadata": {},
   "outputs": [],
   "source": [
    "# Configure the node to do the TWAP / VWAP resampling.\n",
    "node_resampling_config = {\n",
    "    \"in_col_groups\": [\n",
    "        (\"close\",),\n",
    "        (\"volume\",),\n",
    "    ],\n",
    "    \"out_col_group\": (),\n",
    "    \"transformer_kwargs\": {\n",
    "        \"rule\": resampling_freq,\n",
    "        \"resampling_groups\": [\n",
    "            ({\"close\": \"close\"}, \"last\", {}),\n",
    "            (\n",
    "                {\n",
    "                    \"close\": \"twap\",\n",
    "                },\n",
    "                \"mean\",\n",
    "                {},\n",
    "            ),\n",
    "            (\n",
    "                {\n",
    "                    \"volume\": \"volume\",\n",
    "                },\n",
    "                \"sum\",\n",
    "                {\"min_count\": 1},\n",
    "            ),\n",
    "        ],\n",
    "        \"vwap_groups\": [\n",
    "            (\"close\", \"volume\", \"vwap\"),\n",
    "        ],\n",
    "    },\n",
    "    \"reindex_like_input\": False,\n",
    "    \"join_output_with_input\": False,\n",
    "}\n",
    "# Put the data in the DataFlow format (which is multi-index).\n",
    "converted_data = dtfsys.source_nodes._convert_to_multiindex(data_hist, \"asset_id\")\n",
    "# Create the node.\n",
    "nid = \"resample\"\n",
    "node = dtfcore.GroupedColDfToDfTransformer(\n",
    "    nid,\n",
    "    transformer_func=cofinanc.resample_bars,\n",
    "    **node_resampling_config,\n",
    ")\n",
    "# Compute the node on the data.\n",
    "vwap_twap = node.fit(converted_data)\n",
    "# Save the result.\n",
    "vwap_twap_approach_3 = vwap_twap[\"df_out\"]\n",
    "vwap_twap_approach_3.head(3)"
   ]
  },
  {
   "cell_type": "code",
   "execution_count": null,
   "id": "5cd84eda",
   "metadata": {},
   "outputs": [],
   "source": [
    "# Configure the node to calculate the returns.\n",
    "node_returns_config = {\n",
    "    \"in_col_groups\": [\n",
    "        (\"close\",),\n",
    "        (\"vwap\",),\n",
    "        (\"twap\",),\n",
    "    ],\n",
    "    \"out_col_group\": (),\n",
    "    \"transformer_kwargs\": {\n",
    "        \"mode\": \"pct_change\",\n",
    "    },\n",
    "    \"col_mapping\": {\n",
    "        \"close\": \"close.ret_0\",\n",
    "        \"vwap\": \"vwap.ret_0\",\n",
    "        \"twap\": \"twap.ret_0\",\n",
    "    },\n",
    "}\n",
    "# Create the node that computes ret_0.\n",
    "nid = \"ret0\"\n",
    "node = dtfcore.GroupedColDfToDfTransformer(\n",
    "    nid,\n",
    "    transformer_func=cofinanc.compute_ret_0,\n",
    "    **node_returns_config,\n",
    ")\n",
    "# Compute the node on the data.\n",
    "rets = node.fit(vwap_twap_approach_3)\n",
    "# Save the result.\n",
    "vwap_twap_rets_approach_3 = rets[\"df_out\"]\n",
    "vwap_twap_rets_approach_3.head(3)"
   ]
  },
  {
   "cell_type": "code",
   "execution_count": null,
   "id": "67c81b48",
   "metadata": {},
   "outputs": [],
   "source": []
  }
 ],
 "metadata": {
  "kernelspec": {
   "display_name": "Python 3 (ipykernel)",
   "language": "python",
   "name": "python3"
  },
  "language_info": {
   "codemirror_mode": {
    "name": "ipython",
    "version": 3
   },
   "file_extension": ".py",
   "mimetype": "text/x-python",
   "name": "python",
   "nbconvert_exporter": "python",
   "pygments_lexer": "ipython3"
  },
  "toc": {
   "base_numbering": 1,
   "nav_menu": {},
   "number_sections": true,
   "sideBar": true,
   "skip_h1_title": false,
   "title_cell": "Table of Contents",
   "title_sidebar": "Contents",
   "toc_cell": false,
   "toc_position": {},
   "toc_section_display": true,
   "toc_window_display": false
  }
 },
 "nbformat": 4,
 "nbformat_minor": 5
}
