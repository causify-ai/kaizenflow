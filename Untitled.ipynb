{
 "cells": [
  {
   "cell_type": "code",
   "execution_count": null,
   "id": "dbd664a7",
   "metadata": {},
   "outputs": [],
   "source": [
    "# %%\n",
    "# %load_ext autoreload\n",
    "# %autoreload 2\n",
    "# %matplotlib inline"
   ]
  },
  {
   "cell_type": "code",
   "execution_count": null,
   "id": "3c316ebd",
   "metadata": {},
   "outputs": [],
   "source": [
    "import logging\n",
    "\n",
    "import pandas as pd\n",
    "\n",
    "import core.explore as cexplore\n",
    "import helpers.dbg as dbg\n",
    "import helpers.env as henv\n",
    "import helpers.git as hgit\n",
    "import helpers.printing as hprint\n",
    "import im.ccxt.data.load.loader as cdlloa"
   ]
  },
  {
   "cell_type": "code",
   "execution_count": null,
   "id": "284a5350",
   "metadata": {},
   "outputs": [],
   "source": [
    "dbg.init_logger(verbosity=logging.INFO)\n",
    "\n",
    "_LOG = logging.getLogger(__name__)\n",
    "\n",
    "_LOG.info(\"%s\", henv.get_system_signature()[0])\n",
    "\n",
    "hprint.config_notebook()"
   ]
  },
  {
   "cell_type": "code",
   "execution_count": null,
   "id": "536bba23",
   "metadata": {},
   "outputs": [],
   "source": [
    "root_dir = \"s3://alphamatic-data/data\"\n",
    "ccxt_loader = cdlloa.CcxtLoader(root_dir=root_dir, aws_profile=\"am\")\n",
    "ccxt_data = ccxt_loader.read_data(exchange_id=\"binance\", currency_pair=\"BTC/USDT\", data_type=\"OHLCV\")\n",
    "print(ccxt_data.shape[0])\n",
    "ccxt_data.head(3)"
   ]
  },
  {
   "cell_type": "code",
   "execution_count": null,
   "id": "6919e835",
   "metadata": {},
   "outputs": [],
   "source": [
    "# Check the timezone info.\n",
    "ccxt_data[\"timestamp\"].iloc[0]"
   ]
  },
  {
   "cell_type": "code",
   "execution_count": null,
   "id": "d5093fd1",
   "metadata": {},
   "outputs": [],
   "source": [
    "# TODO(*): change tz in `CcxtLoader`.\n",
    "ccxt_data[\"timestamp\"] = ccxt_data[\"timestamp\"].dt.tz_convert(\"US/Eastern\")\n",
    "ccxt_data[\"timestamp\"].iloc[0]"
   ]
  },
  {
   "cell_type": "code",
   "execution_count": null,
   "id": "c283d065",
   "metadata": {},
   "outputs": [],
   "source": [
    "ccxt_data = ccxt_data.set_index(\"timestamp\")\n",
    "ccxt_data.head(3)"
   ]
  },
  {
   "cell_type": "code",
   "execution_count": null,
   "id": "6b45d4f4",
   "metadata": {},
   "outputs": [],
   "source": [
    "ccxt_data = ccxt_data[[\"close\"]]\n",
    "ccxt_data.head(3)"
   ]
  },
  {
   "cell_type": "code",
   "execution_count": null,
   "id": "1a08df11",
   "metadata": {},
   "outputs": [],
   "source": [
    "min_date = ccxt_data.index.min()\n",
    "max_date = ccxt_data.index.max()\n",
    "one_minute_index = pd.date_range(min_date, max_date, freq=\"T\")\n",
    "ccxt_data_reindex = ccxt_data.reindex(one_minute_index)\n",
    "print(ccxt_data_reindex.shape[0])\n",
    "ccxt_data_reindex.head(3)"
   ]
  },
  {
   "cell_type": "code",
   "execution_count": null,
   "id": "acaf70a0",
   "metadata": {},
   "outputs": [],
   "source": [
    "def filter_by_date(df, start_date, end_date):\n",
    "    filter_start_date = pd.Timestamp(start_date, tz=\"US/Eastern\")\n",
    "    filter_end_date = pd.Timestamp(end_date, tz=\"US/Eastern\")\n",
    "    mask = (df.index >= filter_start_date) & (df.index < filter_end_date)\n",
    "    _LOG.info(\n",
    "        \"Filtering in [%s; %s), selected rows=%s\",\n",
    "        start_date,\n",
    "        end_date,\n",
    "        hprint.perc(mask.sum(), df.shape[0]),\n",
    "    )\n",
    "    ccxt_data_filtered = ccxt_data_reindex[mask]\n",
    "    return ccxt_data_filtered\n",
    "\n",
    "ccxt_data_filtered = filter_by_date(ccxt_data_reindex, \"2019-01-01\", \"2020-01-01\")\n",
    "ccxt_data_filtered.head(3)"
   ]
  },
  {
   "cell_type": "code",
   "execution_count": null,
   "id": "427be7c5",
   "metadata": {},
   "outputs": [],
   "source": [
    "nan_stats_df = cexplore.report_zero_nan_inf_stats(ccxt_data_filtered)\n",
    "nan_stats_df"
   ]
  },
  {
   "cell_type": "code",
   "execution_count": null,
   "id": "f471b2f9",
   "metadata": {},
   "outputs": [],
   "source": [
    "nan_data = ccxt_data_filtered[ccxt_data_filtered[\"close\"].isna()]\n",
    "nan_data.groupby(nan_data.index.date).apply(lambda x: x.isnull().sum()).sort_values(by=\"close\", ascending=False)"
   ]
  },
  {
   "cell_type": "code",
   "execution_count": null,
   "id": "907d25cd",
   "metadata": {},
   "outputs": [],
   "source": [
    "ccxt_data_filtered[\"close\"].plot()"
   ]
  }
 ],
 "metadata": {
  "jupytext": {
   "text_representation": {
    "extension": ".py",
    "format_name": "percent",
    "format_version": "1.3",
    "jupytext_version": "1.13.0"
   }
  },
  "kernelspec": {
   "display_name": "Python 3 (ipykernel)",
   "language": "python",
   "name": "python3"
  },
  "language_info": {
   "codemirror_mode": {
    "name": "ipython",
    "version": 3
   },
   "file_extension": ".py",
   "mimetype": "text/x-python",
   "name": "python",
   "nbconvert_exporter": "python",
   "pygments_lexer": "ipython3"
  },
  "toc": {
   "base_numbering": 1,
   "nav_menu": {},
   "number_sections": true,
   "sideBar": true,
   "skip_h1_title": false,
   "title_cell": "Table of Contents",
   "title_sidebar": "Contents",
   "toc_cell": false,
   "toc_position": {},
   "toc_section_display": true,
   "toc_window_display": false
  }
 },
 "nbformat": 4,
 "nbformat_minor": 5
}
