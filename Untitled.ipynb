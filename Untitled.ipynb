{
 "cells": [
  {
   "cell_type": "markdown",
   "id": "3e2e6718",
   "metadata": {},
   "source": [
    "# Imports"
   ]
  },
  {
   "cell_type": "code",
   "execution_count": null,
   "id": "dbd664a7",
   "metadata": {},
   "outputs": [],
   "source": [
    "# %load_ext autoreload\n",
    "# %autoreload 2\n",
    "# %matplotlib inline"
   ]
  },
  {
   "cell_type": "code",
   "execution_count": null,
   "id": "3c316ebd",
   "metadata": {},
   "outputs": [],
   "source": [
    "import logging\n",
    "\n",
    "import pandas as pd\n",
    "\n",
    "import core.config.config_ as ccocon\n",
    "import core.explore as cexplore\n",
    "import core.plotting as cplot\n",
    "import helpers.dbg as dbg\n",
    "import helpers.env as henv\n",
    "import helpers.git as hgit\n",
    "import helpers.printing as hprint\n",
    "import im.ccxt.data.load.loader as cdlloa"
   ]
  },
  {
   "cell_type": "code",
   "execution_count": null,
   "id": "284a5350",
   "metadata": {},
   "outputs": [],
   "source": [
    "dbg.init_logger(verbosity=logging.INFO)\n",
    "\n",
    "_LOG = logging.getLogger(__name__)\n",
    "\n",
    "_LOG.info(\"%s\", henv.get_system_signature()[0])\n",
    "\n",
    "hprint.config_notebook()"
   ]
  },
  {
   "cell_type": "markdown",
   "id": "808d63c0",
   "metadata": {},
   "source": [
    "# Config"
   ]
  },
  {
   "cell_type": "code",
   "execution_count": null,
   "id": "07d59b95",
   "metadata": {},
   "outputs": [],
   "source": [
    "def get_eda_config() -> ccocon.Config:\n",
    "    \"\"\"\n",
    "    Get config that controls EDA parameters.\n",
    "    \n",
    "    :return: config object\n",
    "    \"\"\"\n",
    "    config = ccocon.Config()\n",
    "    # Load parameters.\n",
    "    config.add_subconfig(\"load\")\n",
    "    config[\"load\"][\"aws_profile\"] = \"am\"\n",
    "    config[\"load\"][\"data_dir\"] = \"s3://alphamatic-data/data\"\n",
    "    # Data parameters.\n",
    "    config.add_subconfig(\"data\")\n",
    "    config[\"data\"][\"close_price_col_name\"] = \"close\"\n",
    "    config[\"data\"][\"datetime_col_name\"] = \"timestamp\"\n",
    "    config[\"data\"][\"frequency\"] = \"T\"\n",
    "    config[\"data\"][\"timezone\"] = \"US/Eastern\"\n",
    "    # Statistics parameters.\n",
    "    config.add_subconfig(\"statistics\")\n",
    "    config[\"statistics\"][\"z_score_boundary\"] = 3\n",
    "    config[\"statistics\"][\"z_score_window\"] = \"D\"\n",
    "    return config\n",
    "\n",
    "config = get_eda_config()\n",
    "print(config)"
   ]
  },
  {
   "cell_type": "markdown",
   "id": "42055791",
   "metadata": {},
   "source": [
    "# Load data"
   ]
  },
  {
   "cell_type": "code",
   "execution_count": null,
   "id": "536bba23",
   "metadata": {},
   "outputs": [],
   "source": [
    "# TODO(Grisha): potentially read data from the db.\n",
    "ccxt_loader = cdlloa.CcxtLoader(\n",
    "    root_dir=config[\"load\"][\"data_dir\"],\n",
    "    aws_profile=config[\"load\"][\"aws_profile\"]\n",
    ")\n",
    "ccxt_data = ccxt_loader.read_data(exchange_id=\"binance\", currency_pair=\"BTC/USDT\", data_type=\"OHLCV\")\n",
    "print(ccxt_data.shape[0])\n",
    "ccxt_data.head(3)"
   ]
  },
  {
   "cell_type": "code",
   "execution_count": null,
   "id": "6919e835",
   "metadata": {},
   "outputs": [],
   "source": [
    "# Check the timezone info.\n",
    "ccxt_data[\"timestamp\"].iloc[0]"
   ]
  },
  {
   "cell_type": "code",
   "execution_count": null,
   "id": "d5093fd1",
   "metadata": {},
   "outputs": [],
   "source": [
    "# TODO(*): change tz in `CcxtLoader`.\n",
    "ccxt_data[\"timestamp\"] = ccxt_data[\"timestamp\"].dt.tz_convert(config[\"data\"][\"timezone\"])\n",
    "ccxt_data[\"timestamp\"].iloc[0]"
   ]
  },
  {
   "cell_type": "code",
   "execution_count": null,
   "id": "c283d065",
   "metadata": {},
   "outputs": [],
   "source": [
    "# TODO(*): set index in the `CcxtLoader`: either read from db or add\n",
    "# `pandas.read_csv` kwargs to the `CcxtLoader.read_data()`.\n",
    "ccxt_data = ccxt_data.set_index(\"timestamp\")\n",
    "ccxt_data.head(3)"
   ]
  },
  {
   "cell_type": "code",
   "execution_count": null,
   "id": "6b45d4f4",
   "metadata": {},
   "outputs": [],
   "source": [
    "ccxt_data = ccxt_data[[config[\"data\"][\"close_price_col_name\"]]]\n",
    "ccxt_data.head(3)"
   ]
  },
  {
   "cell_type": "code",
   "execution_count": null,
   "id": "1a08df11",
   "metadata": {},
   "outputs": [],
   "source": [
    "def resample_index(index: pd.DatetimeIndex, frequency: str) -> pd.DatetimeIndex:\n",
    "    \"\"\"\n",
    "    Resample `DatetimeIndex`.\n",
    "    \n",
    "    :param index: `DatetimeIndex` to resample\n",
    "    :param frequency: frequency from `pd.date_range()` to resample to \n",
    "    :return: resampled `DatetimeIndex`\n",
    "    \"\"\"\n",
    "    dbg.dassert_isinstance(index, pd.DatetimeIndex)\n",
    "    min_date = index.min()\n",
    "    max_date = index.max()\n",
    "    resampled_index = pd.date_range(\n",
    "        start = min_date, \n",
    "        end = max_date, \n",
    "        freq=frequency,\n",
    "    )\n",
    "    return resampled_index\n",
    "\n",
    "resampled_index = resample_index(ccxt_data.index, config[\"data\"][\"frequency\"])\n",
    "ccxt_data_reindex = ccxt_data.reindex(resampled_index)    \n",
    "print(ccxt_data_reindex.shape[0])\n",
    "ccxt_data_reindex.head(3)"
   ]
  },
  {
   "cell_type": "code",
   "execution_count": null,
   "id": "acaf70a0",
   "metadata": {},
   "outputs": [],
   "source": [
    "def filter_by_date(df: pd.DataFrame, start_date: str, end_date: str) -> pd.DataFrame:\n",
    "    \"\"\"\n",
    "    Filter data by date [start_date, end_date).\n",
    "    \n",
    "    :param df: data\n",
    "    :param start_date: lower bound\n",
    "    :param end_date: upper bound\n",
    "    :return: filtered data\n",
    "    \"\"\"\n",
    "    # Convert dates to timestamps.\n",
    "    filter_start_date = pd.Timestamp(start_date, tz=config[\"data\"][\"timezone\"])\n",
    "    filter_end_date = pd.Timestamp(end_date, tz=config[\"data\"][\"timezone\"])\n",
    "    mask = (df.index >= filter_start_date) & (df.index < filter_end_date)\n",
    "    _LOG.info(\n",
    "        \"Filtering in [%s; %s), selected rows=%s\",\n",
    "        start_date,\n",
    "        end_date,\n",
    "        hprint.perc(mask.sum(), df.shape[0]),\n",
    "    )\n",
    "    ccxt_data_filtered = ccxt_data_reindex[mask]\n",
    "    return ccxt_data_filtered\n",
    "\n",
    "ccxt_data_filtered = filter_by_date(ccxt_data_reindex, \"2019-01-01\", \"2020-01-01\")\n",
    "ccxt_data_filtered.head(3)"
   ]
  },
  {
   "cell_type": "code",
   "execution_count": null,
   "id": "427be7c5",
   "metadata": {},
   "outputs": [],
   "source": [
    "nan_stats_df = cexplore.report_zero_nan_inf_stats(ccxt_data_filtered)\n",
    "nan_stats_df"
   ]
  },
  {
   "cell_type": "code",
   "execution_count": null,
   "id": "f471b2f9",
   "metadata": {},
   "outputs": [],
   "source": [
    "nan_data = ccxt_data_filtered[ccxt_data_filtered[\"close\"].isna()]\n",
    "nan_data.groupby(nan_data.index.date).apply(lambda x: x.isnull().sum()).sort_values(by=\"close\", ascending=False)"
   ]
  },
  {
   "cell_type": "code",
   "execution_count": null,
   "id": "907d25cd",
   "metadata": {},
   "outputs": [],
   "source": [
    "not_nan = ccxt_data_filtered[~ccxt_data_filtered[\"close\"].isna()]\n",
    "cplot.plot_timeseries_distribution(not_nan[\"close\"], datetime_types = [\"day\"])"
   ]
  },
  {
   "cell_type": "code",
   "execution_count": null,
   "id": "f7ade676",
   "metadata": {},
   "outputs": [],
   "source": [
    "def detect_outliers(df, z_score_boundary):\n",
    "    df_copy = df.copy()\n",
    "    roll = df_copy[\"close\"].rolling(window=\"D\")\n",
    "    df_copy[\"z-score\"] = (df_copy[\"close\"] - roll.mean()) / roll.std()\n",
    "    df_outliers = df_copy[abs(df_copy[\"z-score\"]) > z_score_boundary]\n",
    "    return df_outliers\n",
    "\n",
    "detect_outliers(ccxt_data_filtered, 10)"
   ]
  }
 ],
 "metadata": {
  "jupytext": {
   "text_representation": {
    "extension": ".py",
    "format_name": "percent",
    "format_version": "1.3",
    "jupytext_version": "1.13.0"
   }
  },
  "kernelspec": {
   "display_name": "Python 3 (ipykernel)",
   "language": "python",
   "name": "python3"
  },
  "language_info": {
   "codemirror_mode": {
    "name": "ipython",
    "version": 3
   },
   "file_extension": ".py",
   "mimetype": "text/x-python",
   "name": "python",
   "nbconvert_exporter": "python",
   "pygments_lexer": "ipython3"
  },
  "toc": {
   "base_numbering": 1,
   "nav_menu": {},
   "number_sections": true,
   "sideBar": true,
   "skip_h1_title": false,
   "title_cell": "Table of Contents",
   "title_sidebar": "Contents",
   "toc_cell": false,
   "toc_position": {},
   "toc_section_display": true,
   "toc_window_display": false
  }
 },
 "nbformat": 4,
 "nbformat_minor": 5
}
