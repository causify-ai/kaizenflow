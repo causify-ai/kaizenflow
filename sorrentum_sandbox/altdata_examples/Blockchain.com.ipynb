{
 "cells": [
  {
   "cell_type": "markdown",
   "id": "c10aa98b",
   "metadata": {},
   "source": [
    "# Description"
   ]
  },
  {
   "cell_type": "markdown",
   "id": "d73faf0e",
   "metadata": {},
   "source": [
    "This notebook contains the examples of the outputs for relevant endpoints of the [blockchain.com](blockchain.com) API."
   ]
  },
  {
   "cell_type": "code",
   "execution_count": 1,
   "id": "75a60dba",
   "metadata": {
    "ExecuteTime": {
     "end_time": "2023-02-21T13:20:24.723887Z",
     "start_time": "2023-02-21T13:20:23.161100Z"
    }
   },
   "outputs": [
    {
     "name": "stdout",
     "output_type": "stream",
     "text": [
      "Requirement already satisfied: requests in /usr/local/lib/python3.10/dist-packages (2.28.2)\n",
      "Requirement already satisfied: charset-normalizer<4,>=2 in /usr/local/lib/python3.10/dist-packages (from requests) (3.0.1)\n",
      "Requirement already satisfied: idna<4,>=2.5 in /usr/local/lib/python3.10/dist-packages (from requests) (3.4)\n",
      "Requirement already satisfied: urllib3<1.27,>=1.21.1 in /usr/local/lib/python3.10/dist-packages (from requests) (1.26.14)\n",
      "Requirement already satisfied: certifi>=2017.4.17 in /usr/local/lib/python3.10/dist-packages (from requests) (2022.12.7)\n",
      "\u001b[33mWARNING: Running pip as the 'root' user can result in broken permissions and conflicting behaviour with the system package manager. It is recommended to use a virtual environment instead: https://pip.pypa.io/warnings/venv\u001b[0m\u001b[33m\n",
      "\u001b[0m"
     ]
    }
   ],
   "source": [
    "!pip install requests"
   ]
  },
  {
   "cell_type": "code",
   "execution_count": 2,
   "id": "e7482a4e",
   "metadata": {
    "ExecuteTime": {
     "end_time": "2023-02-21T13:20:25.253837Z",
     "start_time": "2023-02-21T13:20:24.728315Z"
    }
   },
   "outputs": [],
   "source": [
    "import logging\n",
    "\n",
    "import requests\n",
    "\n",
    "import helpers.hdbg as hdbg\n",
    "import helpers.hprint as hprint"
   ]
  },
  {
   "cell_type": "code",
   "execution_count": 3,
   "id": "1878b733",
   "metadata": {
    "ExecuteTime": {
     "end_time": "2023-02-21T13:20:25.785815Z",
     "start_time": "2023-02-21T13:20:25.257431Z"
    }
   },
   "outputs": [
    {
     "name": "stdout",
     "output_type": "stream",
     "text": [
      "\u001b[0m\u001b[36mINFO\u001b[0m: > cmd='/usr/local/lib/python3.10/dist-packages/ipykernel_launcher.py -f /root/.local/share/jupyter/runtime/kernel-bde6e3b3-c018-489a-bf7c-0e2fecfad121.json'\n",
      "WARNING: Running in Jupyter\n"
     ]
    }
   ],
   "source": [
    "hdbg.init_logger(verbosity=logging.INFO)\n",
    "\n",
    "_LOG = logging.getLogger(__name__)\n",
    "\n",
    "hprint.config_notebook()"
   ]
  },
  {
   "cell_type": "markdown",
   "id": "89e090f3",
   "metadata": {},
   "source": [
    "# Blockchain Data API (REST)"
   ]
  },
  {
   "cell_type": "markdown",
   "id": "82f98f4c",
   "metadata": {},
   "source": [
    "https://www.blockchain.com/explorer/api/blockchain_api"
   ]
  },
  {
   "cell_type": "markdown",
   "id": "d4fac26d",
   "metadata": {},
   "source": [
    "## Unconfirmed Transactions"
   ]
  },
  {
   "cell_type": "markdown",
   "id": "803c726a",
   "metadata": {},
   "source": [
    "A list of all current unconfirmed transactions."
   ]
  },
  {
   "cell_type": "code",
   "execution_count": 4,
   "id": "f229f2ce",
   "metadata": {
    "ExecuteTime": {
     "end_time": "2023-02-21T13:20:25.793655Z",
     "start_time": "2023-02-21T13:20:25.788825Z"
    }
   },
   "outputs": [],
   "source": [
    "api_url = \"https://blockchain.info/unconfirmed-transactions?format=json\""
   ]
  },
  {
   "cell_type": "code",
   "execution_count": 5,
   "id": "de9cb707",
   "metadata": {
    "ExecuteTime": {
     "end_time": "2023-02-21T13:20:26.149603Z",
     "start_time": "2023-02-21T13:20:25.797032Z"
    }
   },
   "outputs": [
    {
     "data": {
      "text/plain": [
       "dict_keys(['txs'])"
      ]
     },
     "metadata": {},
     "output_type": "display_data"
    }
   ],
   "source": [
    "response = requests.get(api_url)\n",
    "data = response.json()\n",
    "display(data.keys())"
   ]
  },
  {
   "cell_type": "code",
   "execution_count": 6,
   "id": "67cefb18",
   "metadata": {
    "ExecuteTime": {
     "end_time": "2023-02-21T13:20:26.166700Z",
     "start_time": "2023-02-21T13:20:26.152548Z"
    }
   },
   "outputs": [
    {
     "data": {
      "text/plain": [
       "100"
      ]
     },
     "metadata": {},
     "output_type": "display_data"
    },
    {
     "data": {
      "text/plain": [
       "[{'hash': 'd3cc8c4edfbd65f46ec060375c9e2d7ed4344574b4e92c3c6819b5174f087ff9',\n",
       "  'ver': 1,\n",
       "  'vin_sz': 1,\n",
       "  'vout_sz': 2,\n",
       "  'size': 222,\n",
       "  'weight': 561,\n",
       "  'fee': 1974,\n",
       "  'relayed_by': '0.0.0.0',\n",
       "  'lock_time': 0,\n",
       "  'tx_index': 8778367858046627,\n",
       "  'double_spend': False,\n",
       "  'time': 1676985625,\n",
       "  'block_index': None,\n",
       "  'block_height': None,\n",
       "  'inputs': [{'sequence': 4294967294,\n",
       "    'witness': '02473044022000bc1bf41a51b11d1943c7b8e6aa3e4854b44374cc819cbf9f557c4562dfb3ab02206e96723cbdb837b807e585ac1f0db3f23e03446d6a64a3b4abb181f8182ae1320121038f23826e34c577141fc4c5a04eacedb7c3f307e4bb4175d833e15c1d474d26b2',\n",
       "    'script': '',\n",
       "    'index': 0,\n",
       "    'prev_out': {'addr': 'bc1qywpx27j9xcjkjd3vnjejsvgygvl69whc76su0j',\n",
       "     'n': 32,\n",
       "     'script': '00142382657a45362569362c9cb3283104433fa2baf8',\n",
       "     'spending_outpoints': [{'n': 0, 'tx_index': 8778367858046627}],\n",
       "     'spent': True,\n",
       "     'tx_index': 2243054129516103,\n",
       "     'type': 0,\n",
       "     'value': 3482000}}],\n",
       "  'out': [{'type': 0,\n",
       "    'spent': False,\n",
       "    'value': 3475495,\n",
       "    'spending_outpoints': [],\n",
       "    'n': 0,\n",
       "    'tx_index': 8778367858046627,\n",
       "    'script': '0014789ff70763a33459c958feaab91da4d856a602ba',\n",
       "    'addr': 'bc1q0z0lwpmr5v69nj2cl64tj8dympt2vq46ldrnuk'},\n",
       "   {'type': 0,\n",
       "    'spent': False,\n",
       "    'value': 4531,\n",
       "    'spending_outpoints': [],\n",
       "    'n': 1,\n",
       "    'tx_index': 8778367858046627,\n",
       "    'script': '00142382657a45362569362c9cb3283104433fa2baf8',\n",
       "    'addr': 'bc1qywpx27j9xcjkjd3vnjejsvgygvl69whc76su0j'}]},\n",
       " {'hash': '73f088e082b94f773f6ef29e8d994d51df47d8645d55ad5c9890779461f966bd',\n",
       "  'ver': 2,\n",
       "  'vin_sz': 1,\n",
       "  'vout_sz': 2,\n",
       "  'size': 224,\n",
       "  'weight': 566,\n",
       "  'fee': 563,\n",
       "  'relayed_by': '0.0.0.0',\n",
       "  'lock_time': 0,\n",
       "  'tx_index': 6663998983540466,\n",
       "  'double_spend': False,\n",
       "  'time': 1676985624,\n",
       "  'block_index': None,\n",
       "  'block_height': None,\n",
       "  'inputs': [{'sequence': 4294967295,\n",
       "    'witness': '02483045022100bd4ac602a42968778b9481c091703693ee432476af511dd2666b0d229061a4c402202c4905432eea054103423b0eea91982500977c05e4055cba183f4063a9f67bfc01210240f27fc15bcd66798f106b5b97d5d9832d81e41e9d778430a44b965af985cae3',\n",
       "    'script': '',\n",
       "    'index': 0,\n",
       "    'prev_out': {'addr': 'bc1q9ktaymys075xzgu6l6yjq4a73ykw8s7nv4kxk3',\n",
       "     'n': 24,\n",
       "     'script': '00142d97d26c907fa861239afe892057be892ce3c3d3',\n",
       "     'spending_outpoints': [{'n': 0, 'tx_index': 6663998983540466}],\n",
       "     'spent': True,\n",
       "     'tx_index': 2844024543981326,\n",
       "     'type': 0,\n",
       "     'value': 1428500}}],\n",
       "  'out': [{'type': 0,\n",
       "    'spent': False,\n",
       "    'value': 81060,\n",
       "    'spending_outpoints': [],\n",
       "    'n': 0,\n",
       "    'tx_index': 6663998983540466,\n",
       "    'script': 'a9149469d3e51e6c463171750e8305689feedf5487ff87',\n",
       "    'addr': '3FDkhyQ4beu8hojCBkPgE36BEKm79wxaWd'},\n",
       "   {'type': 0,\n",
       "    'spent': False,\n",
       "    'value': 1346877,\n",
       "    'spending_outpoints': [],\n",
       "    'n': 1,\n",
       "    'tx_index': 6663998983540466,\n",
       "    'script': '00147652e8bcaa7e219c5b5651079c68245ebcbed2f0',\n",
       "    'addr': 'bc1qwefw30920cseck6k2yrec6pyt67ta5hs7l8gsu'}]},\n",
       " {'hash': 'acba1dc40b5ee260333d486184efd4371ed32cd2f950d6b5096c1f26b75e89b5',\n",
       "  'ver': 1,\n",
       "  'vin_sz': 1,\n",
       "  'vout_sz': 1,\n",
       "  'size': 190,\n",
       "  'weight': 760,\n",
       "  'fee': 7537,\n",
       "  'relayed_by': '0.0.0.0',\n",
       "  'lock_time': 0,\n",
       "  'tx_index': 6387251334661101,\n",
       "  'double_spend': False,\n",
       "  'time': 1676985624,\n",
       "  'block_index': None,\n",
       "  'block_height': None,\n",
       "  'inputs': [{'sequence': 4294967295,\n",
       "    'witness': '',\n",
       "    'script': '483045022100c127f1303fce0f83ad4bd505f6c35f8b26279c8d3e70debbb2d06448c55972fa0220741e35b321eabfd2f217b8ed639f61996a63bfd302bbfc3bb3394938f17ca18501210251e7788941cadfed0d8c02057c42aa36183733f797fe9d15f8f7034ba5aa1d80',\n",
       "    'index': 0,\n",
       "    'prev_out': {'addr': '128Z7wxsvdLf4Hfh8DARi3xTW8QVHk2Mpj',\n",
       "     'n': 1,\n",
       "     'script': '76a9140c65d98a25e41124764aead5e39556912572ce3088ac',\n",
       "     'spending_outpoints': [{'n': 0, 'tx_index': 6387251334661101}],\n",
       "     'spent': True,\n",
       "     'tx_index': 5250603390433626,\n",
       "     'type': 0,\n",
       "     'value': 372627}}],\n",
       "  'out': [{'type': 0,\n",
       "    'spent': False,\n",
       "    'value': 365090,\n",
       "    'spending_outpoints': [],\n",
       "    'n': 0,\n",
       "    'tx_index': 6387251334661101,\n",
       "    'script': 'a914306db948d0e8084187ee17d4df9878fa25f8603987',\n",
       "    'addr': '3675oVXS2XnBorHv1HibuG7R4MVg7QbfUj'}]}]"
      ]
     },
     "metadata": {},
     "output_type": "display_data"
    }
   ],
   "source": [
    "data = data[\"txs\"]\n",
    "display(len(data))\n",
    "display(data[:3])"
   ]
  },
  {
   "cell_type": "code",
   "execution_count": 7,
   "id": "cfe2fbba",
   "metadata": {
    "ExecuteTime": {
     "end_time": "2023-02-21T13:20:26.179638Z",
     "start_time": "2023-02-21T13:20:26.169567Z"
    }
   },
   "outputs": [
    {
     "data": {
      "text/plain": [
       "{'hash': 'd3cc8c4edfbd65f46ec060375c9e2d7ed4344574b4e92c3c6819b5174f087ff9',\n",
       " 'ver': 1,\n",
       " 'vin_sz': 1,\n",
       " 'vout_sz': 2,\n",
       " 'size': 222,\n",
       " 'weight': 561,\n",
       " 'fee': 1974,\n",
       " 'relayed_by': '0.0.0.0',\n",
       " 'lock_time': 0,\n",
       " 'tx_index': 8778367858046627,\n",
       " 'double_spend': False,\n",
       " 'time': 1676985625,\n",
       " 'block_index': None,\n",
       " 'block_height': None,\n",
       " 'inputs': [{'sequence': 4294967294,\n",
       "   'witness': '02473044022000bc1bf41a51b11d1943c7b8e6aa3e4854b44374cc819cbf9f557c4562dfb3ab02206e96723cbdb837b807e585ac1f0db3f23e03446d6a64a3b4abb181f8182ae1320121038f23826e34c577141fc4c5a04eacedb7c3f307e4bb4175d833e15c1d474d26b2',\n",
       "   'script': '',\n",
       "   'index': 0,\n",
       "   'prev_out': {'addr': 'bc1qywpx27j9xcjkjd3vnjejsvgygvl69whc76su0j',\n",
       "    'n': 32,\n",
       "    'script': '00142382657a45362569362c9cb3283104433fa2baf8',\n",
       "    'spending_outpoints': [{'n': 0, 'tx_index': 8778367858046627}],\n",
       "    'spent': True,\n",
       "    'tx_index': 2243054129516103,\n",
       "    'type': 0,\n",
       "    'value': 3482000}}],\n",
       " 'out': [{'type': 0,\n",
       "   'spent': False,\n",
       "   'value': 3475495,\n",
       "   'spending_outpoints': [],\n",
       "   'n': 0,\n",
       "   'tx_index': 8778367858046627,\n",
       "   'script': '0014789ff70763a33459c958feaab91da4d856a602ba',\n",
       "   'addr': 'bc1q0z0lwpmr5v69nj2cl64tj8dympt2vq46ldrnuk'},\n",
       "  {'type': 0,\n",
       "   'spent': False,\n",
       "   'value': 4531,\n",
       "   'spending_outpoints': [],\n",
       "   'n': 1,\n",
       "   'tx_index': 8778367858046627,\n",
       "   'script': '00142382657a45362569362c9cb3283104433fa2baf8',\n",
       "   'addr': 'bc1qywpx27j9xcjkjd3vnjejsvgygvl69whc76su0j'}]}"
      ]
     },
     "metadata": {},
     "output_type": "display_data"
    }
   ],
   "source": [
    "display(data[0])"
   ]
  },
  {
   "cell_type": "markdown",
   "id": "908376c3",
   "metadata": {},
   "source": [
    "### Comment"
   ]
  },
  {
   "cell_type": "markdown",
   "id": "f0ec6690",
   "metadata": {},
   "source": [
    "- It seems like only the latest 100 transactions is returned through REST\n",
    "- The time of the transaction is not recorded\n",
    "- `value` can be stored in satoshi or this is not related to monetary value.\n",
    "- There is no API endpoint for ETH, but it can be scraped from their website:\n",
    "https://www.blockchain.com/eth/unconfirmed-transactions\n",
    "- In general, it seems like this data is meant to be received from websocket API"
   ]
  },
  {
   "cell_type": "markdown",
   "id": "1771252a",
   "metadata": {},
   "source": [
    "## Chart data"
   ]
  },
  {
   "cell_type": "markdown",
   "id": "6db57404",
   "metadata": {},
   "source": [
    "Data from charts found in https://www.blockchain.com/explorer/charts\n",
    "\n",
    "An example is given for Estimated Transaction Value on BTC blockchain:\n",
    "https://www.blockchain.com/explorer/charts/estimated-transaction-volume-usd"
   ]
  },
  {
   "cell_type": "code",
   "execution_count": 8,
   "id": "f5ec73c7",
   "metadata": {
    "ExecuteTime": {
     "end_time": "2023-02-21T13:20:26.770887Z",
     "start_time": "2023-02-21T13:20:26.183128Z"
    }
   },
   "outputs": [
    {
     "data": {
      "text/plain": [
       "'<!DOCTYPE html><html lang=\"en\"><head><meta name=\"viewport\" content=\"width=device-width\"/><meta charSet=\"utf-8\"/><title>Blockchain.com | Charts - Unknown Chart</title><meta name=\"apple-mobile-web-app-capable\" content=\"yes\"/><meta content=\"block explorer, bitcoin explorer, blockchain explorer, transac'"
      ]
     },
     "execution_count": 8,
     "metadata": {},
     "output_type": "execute_result"
    }
   ],
   "source": [
    "api_url = (\n",
    "    \"https://blockchain.info/charts/$estimated-transaction-volume-usd?format=json\"\n",
    ")\n",
    "response = requests.get(api_url)\n",
    "response.text[:300]"
   ]
  },
  {
   "cell_type": "code",
   "execution_count": 9,
   "id": "176e26f9",
   "metadata": {
    "ExecuteTime": {
     "end_time": "2023-02-21T13:20:27.500535Z",
     "start_time": "2023-02-21T13:20:26.777353Z"
    }
   },
   "outputs": [
    {
     "data": {
      "text/plain": [
       "'<!DOCTYPE html><html lang=\"en\"><head><meta name=\"viewport\" content=\"width=device-width\"/><meta charSet=\"utf-8\"/><title>Blockchain.com | Charts - Unknown Chart</title><meta name=\"apple-mobile-web-app-capable\" content=\"yes\"/><meta content=\"block explorer, bitcoin explorer, blockchain explorer, transac'"
      ]
     },
     "execution_count": 9,
     "metadata": {},
     "output_type": "execute_result"
    }
   ],
   "source": [
    "api_url = \"https://blockchain.info/charts/$market-price?format=json\"\n",
    "response = requests.get(api_url)\n",
    "response.text[:300]"
   ]
  },
  {
   "cell_type": "markdown",
   "id": "a0dc74d5",
   "metadata": {},
   "source": [
    "### Comment"
   ]
  },
  {
   "cell_type": "markdown",
   "id": "4cbdbac2",
   "metadata": {},
   "source": [
    "- The API instructions are not clear - the requests return only the HTML page of the chart in question, although the page itself has a JSON download. Probably a different API should be used."
   ]
  },
  {
   "cell_type": "markdown",
   "id": "0a69af5a",
   "metadata": {},
   "source": [
    "# Query API"
   ]
  },
  {
   "cell_type": "markdown",
   "id": "599abb00",
   "metadata": {},
   "source": [
    "https://www.blockchain.com/explorer/api/q"
   ]
  },
  {
   "cell_type": "markdown",
   "id": "7726ca9c",
   "metadata": {},
   "source": [
    "Not described here due to limitations:\n",
    "- Too few endpoints of which all are plaintext;\n",
    "- A limit to 1 request per 10 seconds"
   ]
  },
  {
   "cell_type": "markdown",
   "id": "0b6edb1f",
   "metadata": {},
   "source": [
    "# Blockchain.com Explorer API (Websocket)"
   ]
  },
  {
   "cell_type": "markdown",
   "id": "3526fe58",
   "metadata": {},
   "source": [
    "https://www.blockchain.com/explorer/api/api_websocket"
   ]
  },
  {
   "cell_type": "markdown",
   "id": "699eb2b0",
   "metadata": {},
   "source": [
    "Not described here due to issues with running websocket/asyncio in jupyter notebook environment.\n",
    "\n",
    "TODO(Danya): Should we update the `websockets` library?"
   ]
  },
  {
   "cell_type": "code",
   "execution_count": 10,
   "id": "9dec2aac",
   "metadata": {
    "ExecuteTime": {
     "end_time": "2023-02-21T13:20:27.507717Z",
     "start_time": "2023-02-21T13:20:27.503786Z"
    }
   },
   "outputs": [],
   "source": [
    "# api_endpoint = \"wss://ws.blockchain.info/inv\"\n",
    "# # ws = websocket.WebSocket()\n",
    "# # ws.connect(api_endpoint)\n",
    "# with contextlib.closing(websocket.create_connection(\"wss://ws.blockchain.info/inv\")) as conn:\n",
    "#     print(conn.recv_data())"
   ]
  },
  {
   "cell_type": "markdown",
   "id": "63518c14",
   "metadata": {},
   "source": [
    "# Exchange Rates API"
   ]
  },
  {
   "cell_type": "markdown",
   "id": "6518bd9d",
   "metadata": {},
   "source": [
    "https://www.blockchain.com/explorer/api/exchange_rates_api"
   ]
  },
  {
   "cell_type": "code",
   "execution_count": 11,
   "id": "614c6cc2",
   "metadata": {
    "ExecuteTime": {
     "end_time": "2023-02-21T13:20:27.662754Z",
     "start_time": "2023-02-21T13:20:27.511864Z"
    }
   },
   "outputs": [],
   "source": [
    "api_url = \"https://blockchain.info/ticker\"\n",
    "response = requests.get(api_url)\n",
    "data = response.json()"
   ]
  },
  {
   "cell_type": "code",
   "execution_count": 12,
   "id": "25acd398",
   "metadata": {
    "ExecuteTime": {
     "end_time": "2023-02-21T13:20:27.674759Z",
     "start_time": "2023-02-21T13:20:27.665823Z"
    }
   },
   "outputs": [
    {
     "data": {
      "text/plain": [
       "28"
      ]
     },
     "metadata": {},
     "output_type": "display_data"
    }
   ],
   "source": [
    "display(len(data.keys()))"
   ]
  },
  {
   "cell_type": "code",
   "execution_count": 13,
   "id": "9cecfff5",
   "metadata": {
    "ExecuteTime": {
     "end_time": "2023-02-21T13:20:27.690632Z",
     "start_time": "2023-02-21T13:20:27.678196Z"
    }
   },
   "outputs": [
    {
     "data": {
      "text/plain": [
       "{'ARS': {'15m': 7094068.0,\n",
       "  'last': 7094068.0,\n",
       "  'buy': 7094068.0,\n",
       "  'sell': 7094068.0,\n",
       "  'symbol': 'ARS'},\n",
       " 'AUD': {'15m': 35888.13,\n",
       "  'last': 35888.13,\n",
       "  'buy': 35888.13,\n",
       "  'sell': 35888.13,\n",
       "  'symbol': 'AUD'},\n",
       " 'BRL': {'15m': 128252.86,\n",
       "  'last': 128252.86,\n",
       "  'buy': 128252.86,\n",
       "  'sell': 128252.86,\n",
       "  'symbol': 'BRL'},\n",
       " 'CAD': {'15m': 33126.32,\n",
       "  'last': 33126.32,\n",
       "  'buy': 33126.32,\n",
       "  'sell': 33126.32,\n",
       "  'symbol': 'CAD'},\n",
       " 'CHF': {'15m': 22749.94,\n",
       "  'last': 22749.94,\n",
       "  'buy': 22749.94,\n",
       "  'sell': 22749.94,\n",
       "  'symbol': 'CHF'},\n",
       " 'CLP': {'15m': 19753988.73,\n",
       "  'last': 19753988.73,\n",
       "  'buy': 19753988.73,\n",
       "  'sell': 19753988.73,\n",
       "  'symbol': 'CLP'},\n",
       " 'CNY': {'15m': 172556.87,\n",
       "  'last': 172556.87,\n",
       "  'buy': 172556.87,\n",
       "  'sell': 172556.87,\n",
       "  'symbol': 'CNY'},\n",
       " 'CZK': {'15m': 548706.21,\n",
       "  'last': 548706.21,\n",
       "  'buy': 548706.21,\n",
       "  'sell': 548706.21,\n",
       "  'symbol': 'CZK'},\n",
       " 'DKK': {'15m': 172114.77,\n",
       "  'last': 172114.77,\n",
       "  'buy': 172114.77,\n",
       "  'sell': 172114.77,\n",
       "  'symbol': 'DKK'},\n",
       " 'EUR': {'15m': 23139.8,\n",
       "  'last': 23139.8,\n",
       "  'buy': 23139.8,\n",
       "  'sell': 23139.8,\n",
       "  'symbol': 'EUR'},\n",
       " 'GBP': {'15m': 20351.41,\n",
       "  'last': 20351.41,\n",
       "  'buy': 20351.41,\n",
       "  'sell': 20351.41,\n",
       "  'symbol': 'GBP'},\n",
       " 'HKD': {'15m': 194170.04,\n",
       "  'last': 194170.04,\n",
       "  'buy': 194170.04,\n",
       "  'sell': 194170.04,\n",
       "  'symbol': 'HKD'},\n",
       " 'HRK': {'15m': 122776.0,\n",
       "  'last': 122776.0,\n",
       "  'buy': 122776.0,\n",
       "  'sell': 122776.0,\n",
       "  'symbol': 'HRK'},\n",
       " 'HUF': {'15m': 8270611.21,\n",
       "  'last': 8270611.21,\n",
       "  'buy': 8270611.21,\n",
       "  'sell': 8270611.21,\n",
       "  'symbol': 'HUF'},\n",
       " 'INR': {'15m': 2031152.45,\n",
       "  'last': 2031152.45,\n",
       "  'buy': 2031152.45,\n",
       "  'sell': 2031152.45,\n",
       "  'symbol': 'INR'},\n",
       " 'ISK': {'15m': 3479774.76,\n",
       "  'last': 3479774.76,\n",
       "  'buy': 3479774.76,\n",
       "  'sell': 3479774.76,\n",
       "  'symbol': 'ISK'},\n",
       " 'JPY': {'15m': 3325669.27,\n",
       "  'last': 3325669.27,\n",
       "  'buy': 3325669.27,\n",
       "  'sell': 3325669.27,\n",
       "  'symbol': 'JPY'},\n",
       " 'KRW': {'15m': 32003581.33,\n",
       "  'last': 32003581.33,\n",
       "  'buy': 32003581.33,\n",
       "  'sell': 32003581.33,\n",
       "  'symbol': 'KRW'},\n",
       " 'NZD': {'15m': 39561.67,\n",
       "  'last': 39561.67,\n",
       "  'buy': 39561.67,\n",
       "  'sell': 39561.67,\n",
       "  'symbol': 'NZD'},\n",
       " 'PLN': {'15m': 110686.94,\n",
       "  'last': 110686.94,\n",
       "  'buy': 110686.94,\n",
       "  'sell': 110686.94,\n",
       "  'symbol': 'PLN'},\n",
       " 'RON': {'15m': 97579.96,\n",
       "  'last': 97579.96,\n",
       "  'buy': 97579.96,\n",
       "  'sell': 97579.96,\n",
       "  'symbol': 'RON'},\n",
       " 'RUB': {'15m': 1844023.37,\n",
       "  'last': 1844023.37,\n",
       "  'buy': 1844023.37,\n",
       "  'sell': 1844023.37,\n",
       "  'symbol': 'RUB'},\n",
       " 'SEK': {'15m': 259187.65,\n",
       "  'last': 259187.65,\n",
       "  'buy': 259187.65,\n",
       "  'sell': 259187.65,\n",
       "  'symbol': 'SEK'},\n",
       " 'SGD': {'15m': 33065.15,\n",
       "  'last': 33065.15,\n",
       "  'buy': 33065.15,\n",
       "  'sell': 33065.15,\n",
       "  'symbol': 'SGD'},\n",
       " 'THB': {'15m': 850480.55,\n",
       "  'last': 850480.55,\n",
       "  'buy': 850480.55,\n",
       "  'sell': 850480.55,\n",
       "  'symbol': 'THB'},\n",
       " 'TRY': {'15m': 475805.39,\n",
       "  'last': 475805.39,\n",
       "  'buy': 475805.39,\n",
       "  'sell': 475805.39,\n",
       "  'symbol': 'TRY'},\n",
       " 'TWD': {'15m': 598777.01,\n",
       "  'last': 598777.01,\n",
       "  'buy': 598777.01,\n",
       "  'sell': 598777.01,\n",
       "  'symbol': 'TWD'},\n",
       " 'USD': {'15m': 24665.91,\n",
       "  'last': 24665.91,\n",
       "  'buy': 24665.91,\n",
       "  'sell': 24665.91,\n",
       "  'symbol': 'USD'}}"
      ]
     },
     "metadata": {},
     "output_type": "display_data"
    }
   ],
   "source": [
    "display(data)"
   ]
  },
  {
   "cell_type": "code",
   "execution_count": 14,
   "id": "49f966e0",
   "metadata": {
    "ExecuteTime": {
     "end_time": "2023-02-21T13:20:27.928322Z",
     "start_time": "2023-02-21T13:20:27.694542Z"
    }
   },
   "outputs": [
    {
     "data": {
      "text/plain": [
       "0.00542292"
      ]
     },
     "metadata": {},
     "output_type": "display_data"
    }
   ],
   "source": [
    "api_url = \"https://blockchain.info/tobtc?currency=RUB&value=10000\"\n",
    "response = requests.get(api_url)\n",
    "data = response.json()\n",
    "display(data)"
   ]
  },
  {
   "cell_type": "markdown",
   "id": "a68633b6",
   "metadata": {},
   "source": [
    "### Comment"
   ]
  },
  {
   "cell_type": "markdown",
   "id": "ddc4c370",
   "metadata": {},
   "source": [
    "- A simple mechanism for exchanging BTC to fiat\n",
    "- Data goes back only 15m\n",
    "- In general, very limited"
   ]
  },
  {
   "cell_type": "markdown",
   "id": "f29578de",
   "metadata": {},
   "source": [
    "# Blockchain Charts & Statistics API"
   ]
  },
  {
   "cell_type": "markdown",
   "id": "b2e83262",
   "metadata": {},
   "source": [
    "https://www.blockchain.com/explorer/api/charts_api"
   ]
  },
  {
   "cell_type": "markdown",
   "id": "8717f1ec",
   "metadata": {},
   "source": [
    "## Charts data"
   ]
  },
  {
   "cell_type": "markdown",
   "id": "1e0a4b26",
   "metadata": {},
   "source": [
    "Data on charts found at https://www.blockchain.com/explorer/charts\n",
    "\n",
    "The example used is [Estimated Transaction Value (USD)](https://www.blockchain.com/explorer/charts/estimated-transaction-volume-usd)"
   ]
  },
  {
   "cell_type": "markdown",
   "id": "624d4a01",
   "metadata": {},
   "source": [
    "### Data with default parameters"
   ]
  },
  {
   "cell_type": "code",
   "execution_count": 15,
   "id": "f6fe89c5",
   "metadata": {
    "ExecuteTime": {
     "end_time": "2023-02-21T13:20:28.177089Z",
     "start_time": "2023-02-21T13:20:27.931569Z"
    }
   },
   "outputs": [
    {
     "data": {
      "text/plain": [
       "6"
      ]
     },
     "metadata": {},
     "output_type": "display_data"
    },
    {
     "data": {
      "text/plain": [
       "dict_keys(['status', 'name', 'unit', 'period', 'description', 'values'])"
      ]
     },
     "metadata": {},
     "output_type": "display_data"
    }
   ],
   "source": [
    "api_url = \"https://api.blockchain.info/charts/estimated-transaction-volume-usd\"\n",
    "response = requests.get(api_url)\n",
    "data = response.json()\n",
    "display(len(data.keys()))\n",
    "display(data.keys())"
   ]
  },
  {
   "cell_type": "code",
   "execution_count": 16,
   "id": "7a1a21ad",
   "metadata": {
    "ExecuteTime": {
     "end_time": "2023-02-21T13:20:28.221628Z",
     "start_time": "2023-02-21T13:20:28.181133Z"
    }
   },
   "outputs": [
    {
     "data": {
      "text/plain": [
       "{'status': 'ok',\n",
       " 'name': 'Estimated USD Transaction Value',\n",
       " 'unit': 'USD',\n",
       " 'period': 'day',\n",
       " 'description': 'The Estimated Transaction Value in USD value.',\n",
       " 'values': [{'x': 1645401600, 'y': 4035714191.610417},\n",
       "  {'x': 1645488000, 'y': 3543912810.2535915},\n",
       "  {'x': 1645574400, 'y': 3017861449.2149425},\n",
       "  {'x': 1645660800, 'y': 6195394916.861324},\n",
       "  {'x': 1645747200, 'y': 5331044431.493843},\n",
       "  {'x': 1645833600, 'y': 2407133265.9638343},\n",
       "  {'x': 1645920000, 'y': 1844114530.6029348},\n",
       "  {'x': 1646006400, 'y': 6046602126.393123},\n",
       "  {'x': 1646092800, 'y': 6893627293.511368},\n",
       "  {'x': 1646179200, 'y': 5450897868.437432},\n",
       "  {'x': 1646265600, 'y': 4573611315.379651},\n",
       "  {'x': 1646352000, 'y': 5677847228.457849},\n",
       "  {'x': 1646438400, 'y': 1614301923.4661283},\n",
       "  {'x': 1646524800, 'y': 1221415770.8337603},\n",
       "  {'x': 1646611200, 'y': 4567257671.422741},\n",
       "  {'x': 1646697600, 'y': 3918673432.2063947},\n",
       "  {'x': 1646784000, 'y': 6199177258.927656},\n",
       "  {'x': 1646870400, 'y': 4863647840.941094},\n",
       "  {'x': 1646956800, 'y': 5267029596.149032},\n",
       "  {'x': 1647043200, 'y': 1419859005.3521538},\n",
       "  {'x': 1647129600, 'y': 1439995804.8020916},\n",
       "  {'x': 1647216000, 'y': 3127649162.2382407},\n",
       "  {'x': 1647302400, 'y': 3536984794.9247446},\n",
       "  {'x': 1647388800, 'y': 4560772406.06279},\n",
       "  {'x': 1647475200, 'y': 6626010100.106291},\n",
       "  {'x': 1647561600, 'y': 5901502528.208304},\n",
       "  {'x': 1647648000, 'y': 2228834886.153519},\n",
       "  {'x': 1647734400, 'y': 1286402952.1416473},\n",
       "  {'x': 1647820800, 'y': 6292318394.145836},\n",
       "  {'x': 1647907200, 'y': 4455877254.227707},\n",
       "  {'x': 1647993600, 'y': 3963031462.550204},\n",
       "  {'x': 1648080000, 'y': 4246198423.515624},\n",
       "  {'x': 1648166400, 'y': 7477966817.127207},\n",
       "  {'x': 1648252800, 'y': 1885491261.55507},\n",
       "  {'x': 1648339200, 'y': 4081241680.3127346},\n",
       "  {'x': 1648425600, 'y': 7054190211.628341},\n",
       "  {'x': 1648512000, 'y': 7432137463.165101},\n",
       "  {'x': 1648598400, 'y': 5223175410.299848},\n",
       "  {'x': 1648684800, 'y': 7725089743.2688265},\n",
       "  {'x': 1648771200, 'y': 6420672356.962391},\n",
       "  {'x': 1648857600, 'y': 2491811084.6347647},\n",
       "  {'x': 1648944000, 'y': 2061001713.0147858},\n",
       "  {'x': 1649030400, 'y': 4927607024.269423},\n",
       "  {'x': 1649116800, 'y': 4109973025.185322},\n",
       "  {'x': 1649203200, 'y': 4973307102.4678755},\n",
       "  {'x': 1649289600, 'y': 4397281337.2992325},\n",
       "  {'x': 1649376000, 'y': 3214336086.8389087},\n",
       "  {'x': 1649462400, 'y': 2025819116.5886803},\n",
       "  {'x': 1649548800, 'y': 1859650890.1898177},\n",
       "  {'x': 1649635200, 'y': 5145118168.094051},\n",
       "  {'x': 1649721600, 'y': 3550344586.310289},\n",
       "  {'x': 1649808000, 'y': 3702852305.151144},\n",
       "  {'x': 1649894400, 'y': 6126220619.5982895},\n",
       "  {'x': 1649980800, 'y': 2508777341.1963906},\n",
       "  {'x': 1650067200, 'y': 1777062284.0750253},\n",
       "  {'x': 1650153600, 'y': 1246709618.6163137},\n",
       "  {'x': 1650240000, 'y': 3262749299.0192986},\n",
       "  {'x': 1650326400, 'y': 3752455855.7969346},\n",
       "  {'x': 1650412800, 'y': 5390335872.441646},\n",
       "  {'x': 1650499200, 'y': 9221622580.084011},\n",
       "  {'x': 1650585600, 'y': 3034892219.620398},\n",
       "  {'x': 1650672000, 'y': 1324626784.014653},\n",
       "  {'x': 1650758400, 'y': 1742817144.3961654},\n",
       "  {'x': 1650844800, 'y': 3754783006.1736846},\n",
       "  {'x': 1650931200, 'y': 4582894825.063292},\n",
       "  {'x': 1651017600, 'y': 4169765279.274275},\n",
       "  {'x': 1651104000, 'y': 4742383660.078528},\n",
       "  {'x': 1651190400, 'y': 4937991047.844668},\n",
       "  {'x': 1651276800, 'y': 1835325492.4708261},\n",
       "  {'x': 1651363200, 'y': 1690042804.5955749},\n",
       "  {'x': 1651449600, 'y': 4705106674.739815},\n",
       "  {'x': 1651536000, 'y': 5567418515.404906},\n",
       "  {'x': 1651622400, 'y': 5527403781.564573},\n",
       "  {'x': 1651708800, 'y': 7042747167.161246},\n",
       "  {'x': 1651795200, 'y': 6460559731.289358},\n",
       "  {'x': 1651881600, 'y': 2176974949.927244},\n",
       "  {'x': 1651968000, 'y': 4391326158.686935},\n",
       "  {'x': 1652054400, 'y': 14932580725.771221},\n",
       "  {'x': 1652140800, 'y': 10996659378.460312},\n",
       "  {'x': 1652227200, 'y': 12212415420.468674},\n",
       "  {'x': 1652313600, 'y': 12591985211.029484},\n",
       "  {'x': 1652400000, 'y': 6761962664.73493},\n",
       "  {'x': 1652486400, 'y': 4499178550.730882},\n",
       "  {'x': 1652572800, 'y': 2364626051.315557},\n",
       "  {'x': 1652659200, 'y': 5806992357.103736},\n",
       "  {'x': 1652745600, 'y': 5663926191.593393},\n",
       "  {'x': 1652832000, 'y': 4686908961.0082655},\n",
       "  {'x': 1652918400, 'y': 5002474733.237197},\n",
       "  {'x': 1653004800, 'y': 4929623686.819292},\n",
       "  {'x': 1653091200, 'y': 1464248134.8857608},\n",
       "  {'x': 1653177600, 'y': 1693623105.0447593},\n",
       "  {'x': 1653264000, 'y': 4939484942.570603},\n",
       "  {'x': 1653350400, 'y': 4517108862.027523},\n",
       "  {'x': 1653436800, 'y': 3514350504.7282414},\n",
       "  {'x': 1653523200, 'y': 4044772416.690988},\n",
       "  {'x': 1653609600, 'y': 4870838399.668383},\n",
       "  {'x': 1653696000, 'y': 1523894827.3321545},\n",
       "  {'x': 1653782400, 'y': 1417152774.2209327},\n",
       "  {'x': 1653868800, 'y': 3565732409.560262},\n",
       "  {'x': 1653955200, 'y': 5263021003.393884},\n",
       "  {'x': 1654041600, 'y': 6314626333.189133},\n",
       "  {'x': 1654128000, 'y': 3618792850.8776355},\n",
       "  {'x': 1654214400, 'y': 4251283075.0981903},\n",
       "  {'x': 1654300800, 'y': 1757094779.0007696},\n",
       "  {'x': 1654387200, 'y': 1540123226.9928355},\n",
       "  {'x': 1654473600, 'y': 5095285503.61707},\n",
       "  {'x': 1654560000, 'y': 4259209247.746276},\n",
       "  {'x': 1654646400, 'y': 3082029799.7370043},\n",
       "  {'x': 1654732800, 'y': 4372610134.024386},\n",
       "  {'x': 1654819200, 'y': 4046793102.939683},\n",
       "  {'x': 1654905600, 'y': 2694837263.3840175},\n",
       "  {'x': 1654992000, 'y': 3659361988.8007083},\n",
       "  {'x': 1655078400, 'y': 12462579881.445564},\n",
       "  {'x': 1655164800, 'y': 10990569683.083328},\n",
       "  {'x': 1655251200, 'y': 9897143640.083742},\n",
       "  {'x': 1655337600, 'y': 7109991512.203534},\n",
       "  {'x': 1655424000, 'y': 7921356377.946116},\n",
       "  {'x': 1655510400, 'y': 8496328973.902106},\n",
       "  {'x': 1655596800, 'y': 3068667429.006106},\n",
       "  {'x': 1655683200, 'y': 3817198453.166467},\n",
       "  {'x': 1655769600, 'y': 4422516356.572248},\n",
       "  {'x': 1655856000, 'y': 4390329667.811968},\n",
       "  {'x': 1655942400, 'y': 3082609509.484813},\n",
       "  {'x': 1656028800, 'y': 4160260072.480788},\n",
       "  {'x': 1656115200, 'y': 1389427160.3704894},\n",
       "  {'x': 1656201600, 'y': 858032632.7980883},\n",
       "  {'x': 1656288000, 'y': 4634269413.105559},\n",
       "  {'x': 1656374400, 'y': 2917809496.024267},\n",
       "  {'x': 1656460800, 'y': 4029772477.0700636},\n",
       "  {'x': 1656547200, 'y': 4201108881.3462367},\n",
       "  {'x': 1656633600, 'y': 4546355473.617748},\n",
       "  {'x': 1656720000, 'y': 1297140271.5816472},\n",
       "  {'x': 1656806400, 'y': 1321981862.8392267},\n",
       "  {'x': 1656892800, 'y': 1972142139.0050864},\n",
       "  {'x': 1656979200, 'y': 2225404516.1830726},\n",
       "  {'x': 1657065600, 'y': 3265960864.0146112},\n",
       "  {'x': 1657152000, 'y': 3226941641.1462502},\n",
       "  {'x': 1657238400, 'y': 3453731278.2904954},\n",
       "  {'x': 1657324800, 'y': 2217461123.425512},\n",
       "  {'x': 1657411200, 'y': 1077713609.741559},\n",
       "  {'x': 1657497600, 'y': 3083629594.6453485},\n",
       "  {'x': 1657584000, 'y': 2693606547.083132},\n",
       "  {'x': 1657670400, 'y': 2383177233.7305536},\n",
       "  {'x': 1657756800, 'y': 3350075175.695963},\n",
       "  {'x': 1657843200, 'y': 3883871138.0040417},\n",
       "  {'x': 1657929600, 'y': 1392874214.3324618},\n",
       "  {'x': 1658016000, 'y': 1903059654.775057},\n",
       "  {'x': 1658102400, 'y': 3392335964.2140756},\n",
       "  {'x': 1658188800, 'y': 4686873167.751223},\n",
       "  {'x': 1658275200, 'y': 3376687092.8781495},\n",
       "  {'x': 1658361600, 'y': 6542475947.197538},\n",
       "  {'x': 1658448000, 'y': 2968088068.9026737},\n",
       "  {'x': 1658534400, 'y': 1605649425.5929158},\n",
       "  {'x': 1658620800, 'y': 986955946.3014323},\n",
       "  {'x': 1658707200, 'y': 2240841200.856595},\n",
       "  {'x': 1658793600, 'y': 2529268854.929778},\n",
       "  {'x': 1658880000, 'y': 2043786368.01846},\n",
       "  {'x': 1658966400, 'y': 3762271329.7370615},\n",
       "  {'x': 1659052800, 'y': 3110903345.229869},\n",
       "  {'x': 1659139200, 'y': 1279164246.4561443},\n",
       "  {'x': 1659225600, 'y': 1438862646.8271215},\n",
       "  {'x': 1659312000, 'y': 2648018548.7209826},\n",
       "  {'x': 1659398400, 'y': 2412379200.6057954},\n",
       "  {'x': 1659484800, 'y': 2835680869.9736896},\n",
       "  {'x': 1659571200, 'y': 2162588110.938917},\n",
       "  {'x': 1659657600, 'y': 2233455342.127898},\n",
       "  {'x': 1659744000, 'y': 861842752.5742803},\n",
       "  {'x': 1659830400, 'y': 1123561072.3019845},\n",
       "  {'x': 1659916800, 'y': 2294099110.488635},\n",
       "  {'x': 1660003200, 'y': 2572928084.4797115},\n",
       "  {'x': 1660089600, 'y': 3582463514.5152545},\n",
       "  {'x': 1660176000, 'y': 2882199944.2436247},\n",
       "  {'x': 1660262400, 'y': 2439184815.0623903},\n",
       "  {'x': 1660348800, 'y': 1386200465.2578113},\n",
       "  {'x': 1660435200, 'y': 982849307.8036118},\n",
       "  {'x': 1660521600, 'y': 2486543315.2726755},\n",
       "  {'x': 1660608000, 'y': 2698602541.9688473},\n",
       "  {'x': 1660694400, 'y': 2992025085.7634916},\n",
       "  {'x': 1660780800, 'y': 2417721838.724551},\n",
       "  {'x': 1660867200, 'y': 3627489929.5612745},\n",
       "  {'x': 1660953600, 'y': 946263990.6468556},\n",
       "  {'x': 1661040000, 'y': 729684429.3867123},\n",
       "  {'x': 1661126400, 'y': 2363547456.2653685},\n",
       "  {'x': 1661212800, 'y': 1933412558.3110597},\n",
       "  {'x': 1661299200, 'y': 1805257439.5020328},\n",
       "  {'x': 1661385600, 'y': 2158452625.428465},\n",
       "  {'x': 1661472000, 'y': 2261441431.608619},\n",
       "  {'x': 1661558400, 'y': 1378816166.8416512},\n",
       "  {'x': 1661644800, 'y': 846944690.4889036},\n",
       "  {'x': 1661731200, 'y': 2049485398.2473187},\n",
       "  {'x': 1661817600, 'y': 3088297716.030527},\n",
       "  {'x': 1661904000, 'y': 3158897967.281669},\n",
       "  {'x': 1661990400, 'y': 2826592301.64455},\n",
       "  {'x': 1662076800, 'y': 2841992710.129957},\n",
       "  {'x': 1662163200, 'y': 879894659.7350975},\n",
       "  {'x': 1662249600, 'y': 1061944387.4621817},\n",
       "  {'x': 1662336000, 'y': 2108564796.6818683},\n",
       "  {'x': 1662422400, 'y': 3297609881.85563},\n",
       "  {'x': 1662508800, 'y': 2541455673.941922},\n",
       "  {'x': 1662595200, 'y': 2474305281.4342155},\n",
       "  {'x': 1662681600, 'y': 3189528071.2113605},\n",
       "  {'x': 1662768000, 'y': 1198401082.0638466},\n",
       "  {'x': 1662854400, 'y': 1050210815.9310844},\n",
       "  {'x': 1662940800, 'y': 2667188471.304402},\n",
       "  {'x': 1663027200, 'y': 3305786865.7575417},\n",
       "  {'x': 1663113600, 'y': 2626909249.0787134},\n",
       "  {'x': 1663200000, 'y': 2092789197.2823946},\n",
       "  {'x': 1663286400, 'y': 1962561324.819881},\n",
       "  {'x': 1663372800, 'y': 1089606552.5209684},\n",
       "  {'x': 1663459200, 'y': 807694674.9715831},\n",
       "  {'x': 1663545600, 'y': 2970259317.4220386},\n",
       "  {'x': 1663632000, 'y': 2717351706.3375545},\n",
       "  {'x': 1663718400, 'y': 2239450838.1861763},\n",
       "  {'x': 1663804800, 'y': 2210473679.6390266},\n",
       "  {'x': 1663891200, 'y': 2446313226.405114},\n",
       "  {'x': 1663977600, 'y': 699317517.3886788},\n",
       "  {'x': 1664064000, 'y': 817600603.2540488},\n",
       "  {'x': 1664150400, 'y': 1851841537.4975586},\n",
       "  {'x': 1664236800, 'y': 3180479746.765458},\n",
       "  {'x': 1664323200, 'y': 2710524700.147913},\n",
       "  {'x': 1664409600, 'y': 4122653170.856393},\n",
       "  {'x': 1664496000, 'y': 3332833908.4582715},\n",
       "  {'x': 1664582400, 'y': 1129631640.2910287},\n",
       "  {'x': 1664668800, 'y': 798931959.4859155},\n",
       "  {'x': 1664755200, 'y': 2248298045.0180764},\n",
       "  {'x': 1664841600, 'y': 2313129003.749914},\n",
       "  {'x': 1664928000, 'y': 2788889389.9968886},\n",
       "  {'x': 1665014400, 'y': 2029020482.26716},\n",
       "  {'x': 1665100800, 'y': 2979008361.5673966},\n",
       "  {'x': 1665187200, 'y': 891595342.2797585},\n",
       "  {'x': 1665273600, 'y': 700741117.6826907},\n",
       "  {'x': 1665360000, 'y': 1310563231.2162657},\n",
       "  {'x': 1665446400, 'y': 2173820182.1836033},\n",
       "  {'x': 1665532800, 'y': 2086811717.5881875},\n",
       "  {'x': 1665619200, 'y': 2403635798.2811112},\n",
       "  {'x': 1665705600, 'y': 2335762972.911618},\n",
       "  {'x': 1665792000, 'y': 946841174.6741695},\n",
       "  {'x': 1665878400, 'y': 699358774.9119637},\n",
       "  {'x': 1665964800, 'y': 2043650927.987136},\n",
       "  {'x': 1666051200, 'y': 2990446419.475771},\n",
       "  {'x': 1666137600, 'y': 2197621700.887798},\n",
       "  {'x': 1666224000, 'y': 1790440267.6969275},\n",
       "  {'x': 1666310400, 'y': 1556397811.0604718},\n",
       "  {'x': 1666396800, 'y': 986726492.5600873},\n",
       "  {'x': 1666483200, 'y': 863875132.0819519},\n",
       "  {'x': 1666569600, 'y': 1942021342.2147148},\n",
       "  {'x': 1666656000, 'y': 2029922329.8604708},\n",
       "  {'x': 1666742400, 'y': 4840001389.030845},\n",
       "  {'x': 1666828800, 'y': 2744026771.3671246},\n",
       "  {'x': 1666915200, 'y': 2120803275.9058766},\n",
       "  {'x': 1667001600, 'y': 1370810442.8355875},\n",
       "  {'x': 1667088000, 'y': 862100447.192454},\n",
       "  {'x': 1667174400, 'y': 2733690209.9784727},\n",
       "  {'x': 1667260800, 'y': 2591653015.966983},\n",
       "  {'x': 1667347200, 'y': 2385280093.312358},\n",
       "  {'x': 1667433600, 'y': 2064861958.308632},\n",
       "  {'x': 1667520000, 'y': 4952741205.334531},\n",
       "  {'x': 1667606400, 'y': 1405293791.173831},\n",
       "  {'x': 1667692800, 'y': 1500762814.556163},\n",
       "  {'x': 1667779200, 'y': 3854033179.2232313},\n",
       "  {'x': 1667865600, 'y': 5247264405.265705},\n",
       "  {'x': 1667952000, 'y': 6268866124.602172},\n",
       "  {'x': 1668038400, 'y': 5450942995.332227},\n",
       "  {'x': 1668124800, 'y': 5098440479.49329},\n",
       "  {'x': 1668211200, 'y': 2961978333.8520007},\n",
       "  {'x': 1668297600, 'y': 1494812299.9661403},\n",
       "  {'x': 1668384000, 'y': 4115043713.8673615},\n",
       "  {'x': 1668470400, 'y': 2979130079.220169},\n",
       "  {'x': 1668556800, 'y': 3591834000.308391},\n",
       "  {'x': 1668643200, 'y': 3913955462.5747924},\n",
       "  {'x': 1668729600, 'y': 6403239141.743098},\n",
       "  {'x': 1668816000, 'y': 1261281057.6791189},\n",
       "  {'x': 1668902400, 'y': 1331263228.0854974},\n",
       "  {'x': 1668988800, 'y': 2601329025.735664},\n",
       "  {'x': 1669075200, 'y': 2641080662.9541574},\n",
       "  {'x': 1669161600, 'y': 3366476108.1194096},\n",
       "  {'x': 1669248000, 'y': 1701790442.6046393},\n",
       "  {'x': 1669334400, 'y': 2167501567.0760984},\n",
       "  {'x': 1669420800, 'y': 1207868138.6460793},\n",
       "  {'x': 1669507200, 'y': 928264619.5263703},\n",
       "  {'x': 1669593600, 'y': 1617313064.3047447},\n",
       "  {'x': 1669680000, 'y': 2334673188.7997},\n",
       "  {'x': 1669766400, 'y': 2125827290.735983},\n",
       "  {'x': 1669852800, 'y': 2626041872.0538573},\n",
       "  {'x': 1669939200, 'y': 2203356246.456967},\n",
       "  {'x': 1670025600, 'y': 856618706.9077111},\n",
       "  {'x': 1670112000, 'y': 808868574.8486406},\n",
       "  {'x': 1670198400, 'y': 1873420426.626942},\n",
       "  {'x': 1670284800, 'y': 2437620395.867009},\n",
       "  {'x': 1670371200, 'y': 1442576449.6238878},\n",
       "  {'x': 1670457600, 'y': 1933366648.3883827},\n",
       "  {'x': 1670544000, 'y': 1768889805.8646967},\n",
       "  {'x': 1670630400, 'y': 967835995.7450731},\n",
       "  {'x': 1670716800, 'y': 751257988.4152089},\n",
       "  {'x': 1670803200, 'y': 1766437843.065244},\n",
       "  {'x': 1670889600, 'y': 3045350290.4675856},\n",
       "  {'x': 1670976000, 'y': 2247571820.514079},\n",
       "  {'x': 1671062400, 'y': 2424485872.2193856},\n",
       "  {'x': 1671148800, 'y': 2247197492.0637503},\n",
       "  {'x': 1671235200, 'y': 1383928648.5549052},\n",
       "  {'x': 1671321600, 'y': 812377663.8671454},\n",
       "  {'x': 1671408000, 'y': 1929149952.876581},\n",
       "  {'x': 1671494400, 'y': 2059242011.6362782},\n",
       "  {'x': 1671580800, 'y': 2448023330.9510784},\n",
       "  {'x': 1671667200, 'y': 1859348909.4230971},\n",
       "  {'x': 1671753600, 'y': 1998836224.0876124},\n",
       "  {'x': 1671840000, 'y': 1026982505.2744995},\n",
       "  {'x': 1671926400, 'y': 567704284.870407},\n",
       "  {'x': 1672012800, 'y': 833385537.6962621},\n",
       "  {'x': 1672099200, 'y': 1240817057.9641438},\n",
       "  {'x': 1672185600, 'y': 1926197296.2123392},\n",
       "  {'x': 1672272000, 'y': 2178953228.9292884},\n",
       "  {'x': 1672358400, 'y': 3109838853.3793426},\n",
       "  {'x': 1672444800, 'y': 1461649789.6553886},\n",
       "  {'x': 1672531200, 'y': 960387891.2186182},\n",
       "  {'x': 1672617600, 'y': 1181257420.6759183},\n",
       "  {'x': 1672704000, 'y': 1935284430.5764203},\n",
       "  {'x': 1672790400, 'y': 2477218555.0847707},\n",
       "  {'x': 1672876800, 'y': 2113239373.4579191},\n",
       "  {'x': 1672963200, 'y': 1512276042.4880793},\n",
       "  {'x': 1673049600, 'y': 1008767780.0807396},\n",
       "  {'x': 1673136000, 'y': 748656711.8773363},\n",
       "  {'x': 1673222400, 'y': 1764693546.2864401},\n",
       "  {'x': 1673308800, 'y': 1816231045.0111103},\n",
       "  {'x': 1673395200, 'y': 1618746438.8268888},\n",
       "  {'x': 1673481600, 'y': 2247438243.6297073},\n",
       "  {'x': 1673568000, 'y': 2463264992.3621755},\n",
       "  {'x': 1673654400, 'y': 2449748173.7110066},\n",
       "  {'x': 1673740800, 'y': 1106496482.9809735},\n",
       "  {'x': 1673827200, 'y': 2044631859.525559},\n",
       "  {'x': 1673913600, 'y': 2680237409.611653},\n",
       "  {'x': 1674000000, 'y': 2419845787.872617},\n",
       "  {'x': 1674086400, 'y': 2617650724.123632},\n",
       "  {'x': 1674172800, 'y': 2589324902.4440293},\n",
       "  {'x': 1674259200, 'y': 2449265693.2777076},\n",
       "  {'x': 1674345600, 'y': 1318419080.5905483},\n",
       "  {'x': 1674432000, 'y': 2335670388.5762277},\n",
       "  {'x': 1674518400, 'y': 2028801894.4644117},\n",
       "  {'x': 1674604800, 'y': 2989378581.9675274},\n",
       "  {'x': 1674691200, 'y': 2388161254.0606427},\n",
       "  {'x': 1674777600, 'y': 2520965287.8745837},\n",
       "  {'x': 1674864000, 'y': 1122025102.4368668},\n",
       "  {'x': 1674950400, 'y': 1006418714.940687},\n",
       "  {'x': 1675036800, 'y': 2569567382.907553},\n",
       "  {'x': 1675123200, 'y': 2972667489.42258},\n",
       "  {'x': 1675209600, 'y': 2871126484.8757524},\n",
       "  {'x': 1675296000, 'y': 2350568892.687534},\n",
       "  {'x': 1675382400, 'y': 2856768763.049713},\n",
       "  {'x': 1675468800, 'y': 1574648243.2848904},\n",
       "  {'x': 1675555200, 'y': 893021547.4156011},\n",
       "  {'x': 1675641600, 'y': 1897844366.3147411},\n",
       "  {'x': 1675728000, 'y': 2043971490.014132},\n",
       "  {'x': 1675814400, 'y': 2023212584.0370593},\n",
       "  {'x': 1675900800, 'y': 2624133093.6917434},\n",
       "  {'x': 1675987200, 'y': 2821715858.049523},\n",
       "  {'x': 1676073600, 'y': 1616291509.3106585},\n",
       "  {'x': 1676160000, 'y': 898974041.6036167},\n",
       "  {'x': 1676246400, 'y': 2245943774.469708},\n",
       "  {'x': 1676332800, 'y': 2556253417.1765366},\n",
       "  {'x': 1676419200, 'y': 2898459337.461837},\n",
       "  {'x': 1676505600, 'y': 3465947360.3289113},\n",
       "  {'x': 1676592000, 'y': 2700502695.7131515},\n",
       "  {'x': 1676678400, 'y': 1377296531.3723257},\n",
       "  {'x': 1676764800, 'y': 1095518513.5468009},\n",
       "  {'x': 1676851200, 'y': 1732893145.332651}]}"
      ]
     },
     "execution_count": 16,
     "metadata": {},
     "output_type": "execute_result"
    }
   ],
   "source": [
    "data"
   ]
  },
  {
   "cell_type": "markdown",
   "id": "c958eb15",
   "metadata": {},
   "source": [
    "### Providing a specific timeframe (to catch all available historical data)"
   ]
  },
  {
   "cell_type": "code",
   "execution_count": 17,
   "id": "0fd12ac7",
   "metadata": {
    "ExecuteTime": {
     "end_time": "2023-02-21T13:20:28.577106Z",
     "start_time": "2023-02-21T13:20:28.224791Z"
    }
   },
   "outputs": [
    {
     "data": {
      "text/plain": [
       "6"
      ]
     },
     "metadata": {},
     "output_type": "display_data"
    },
    {
     "data": {
      "text/plain": [
       "dict_keys(['status', 'name', 'unit', 'period', 'description', 'values'])"
      ]
     },
     "metadata": {},
     "output_type": "display_data"
    }
   ],
   "source": [
    "api_url = \"https://api.blockchain.info/charts/estimated-transaction-volume-usd?start=2011-01-01?sampled=False\"\n",
    "response = requests.get(api_url)\n",
    "data = response.json()\n",
    "display(len(data.keys()))\n",
    "display(data.keys())"
   ]
  },
  {
   "cell_type": "code",
   "execution_count": 18,
   "id": "6b15cfa3",
   "metadata": {
    "ExecuteTime": {
     "end_time": "2023-02-21T13:20:28.588696Z",
     "start_time": "2023-02-21T13:20:28.580654Z"
    }
   },
   "outputs": [
    {
     "data": {
      "text/plain": [
       "352"
      ]
     },
     "execution_count": 18,
     "metadata": {},
     "output_type": "execute_result"
    }
   ],
   "source": [
    "len(data[\"values\"])"
   ]
  },
  {
   "cell_type": "markdown",
   "id": "acb264ec",
   "metadata": {},
   "source": [
    "### Comment"
   ]
  },
  {
   "cell_type": "markdown",
   "id": "e3cb1226",
   "metadata": {},
   "source": [
    "- Data on this chart goes at least as far back as 2010\n",
    "- The `timespan` parameter does not work (at least with this particular chart), but by default the API returns daily data for the entire year\n",
    "- The data is only for BTC, but contains loads of historical data"
   ]
  },
  {
   "cell_type": "markdown",
   "id": "3d8c7f2e",
   "metadata": {},
   "source": [
    "## Stats data"
   ]
  },
  {
   "cell_type": "markdown",
   "id": "c223048c",
   "metadata": {},
   "source": [
    "Current statistics for BTC. No parameters."
   ]
  },
  {
   "cell_type": "code",
   "execution_count": 19,
   "id": "ffb22ed1",
   "metadata": {
    "ExecuteTime": {
     "end_time": "2023-02-21T13:20:28.813936Z",
     "start_time": "2023-02-21T13:20:28.593337Z"
    }
   },
   "outputs": [
    {
     "data": {
      "text/plain": [
       "20"
      ]
     },
     "metadata": {},
     "output_type": "display_data"
    },
    {
     "data": {
      "text/plain": [
       "dict_keys(['timestamp', 'market_price_usd', 'hash_rate', 'total_fees_btc', 'n_btc_mined', 'n_tx', 'n_blocks_mined', 'minutes_between_blocks', 'totalbc', 'n_blocks_total', 'estimated_transaction_volume_usd', 'blocks_size', 'miners_revenue_usd', 'nextretarget', 'difficulty', 'estimated_btc_sent', 'miners_revenue_btc', 'total_btc_sent', 'trade_volume_btc', 'trade_volume_usd'])"
      ]
     },
     "metadata": {},
     "output_type": "display_data"
    }
   ],
   "source": [
    "api_url = \"https://api.blockchain.info/stats\"\n",
    "response = requests.get(api_url)\n",
    "data = response.json()\n",
    "display(len(data.keys()))\n",
    "display(data.keys())"
   ]
  },
  {
   "cell_type": "code",
   "execution_count": 20,
   "id": "03dd696b",
   "metadata": {
    "ExecuteTime": {
     "end_time": "2023-02-21T13:20:28.826312Z",
     "start_time": "2023-02-21T13:20:28.818899Z"
    }
   },
   "outputs": [
    {
     "data": {
      "text/plain": [
       "{'timestamp': 1676985343000.0,\n",
       " 'market_price_usd': 24631.87,\n",
       " 'hash_rate': 276399479063.58026,\n",
       " 'total_fees_btc': -88750000000,\n",
       " 'n_btc_mined': 88750000000,\n",
       " 'n_tx': 279998,\n",
       " 'n_blocks_mined': 142,\n",
       " 'minutes_between_blocks': 9.5674,\n",
       " 'totalbc': 1929774375000000,\n",
       " 'n_blocks_total': 777639,\n",
       " 'estimated_transaction_volume_usd': 1782618868.3363678,\n",
       " 'blocks_size': 295894586,\n",
       " 'miners_revenue_usd': 0.0,\n",
       " 'nextretarget': 778175,\n",
       " 'difficulty': 39156400059293,\n",
       " 'estimated_btc_sent': 7237042369647,\n",
       " 'miners_revenue_btc': 0,\n",
       " 'total_btc_sent': 73984599164528,\n",
       " 'trade_volume_btc': 6608.59,\n",
       " 'trade_volume_usd': 162781929.7633}"
      ]
     },
     "metadata": {},
     "output_type": "display_data"
    }
   ],
   "source": [
    "display(data)"
   ]
  },
  {
   "cell_type": "markdown",
   "id": "97b06b93",
   "metadata": {},
   "source": [
    "### Comment"
   ]
  },
  {
   "cell_type": "markdown",
   "id": "b5a4af29",
   "metadata": {},
   "source": [
    "- Data is rounded up to minutes, so it is probably updated every minute\n",
    "- No endpoint for historical data provided"
   ]
  }
 ],
 "metadata": {
  "kernelspec": {
   "display_name": "Python 3 (ipykernel)",
   "language": "python",
   "name": "python3"
  },
  "language_info": {
   "codemirror_mode": {
    "name": "ipython",
    "version": 3
   },
   "file_extension": ".py",
   "mimetype": "text/x-python",
   "name": "python",
   "nbconvert_exporter": "python",
   "pygments_lexer": "ipython3",
   "version": "3.10.6"
  },
  "toc": {
   "base_numbering": 1,
   "nav_menu": {},
   "number_sections": true,
   "sideBar": true,
   "skip_h1_title": false,
   "title_cell": "Table of Contents",
   "title_sidebar": "Contents",
   "toc_cell": false,
   "toc_position": {},
   "toc_section_display": true,
   "toc_window_display": false
  }
 },
 "nbformat": 4,
 "nbformat_minor": 5
}
