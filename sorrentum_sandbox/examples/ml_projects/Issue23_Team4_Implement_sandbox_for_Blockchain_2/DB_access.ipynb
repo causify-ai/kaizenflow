{
 "cells": [
  {
   "cell_type": "code",
   "execution_count": 8,
   "metadata": {},
   "outputs": [
    {
     "name": "stdout",
     "output_type": "stream",
     "text": [
      "Collecting psycopg2\n",
      "  Downloading psycopg2-2.9.6-cp37-cp37m-win_amd64.whl (1.2 MB)\n",
      "     ---------------------------------------- 1.2/1.2 MB 12.2 MB/s eta 0:00:00\n",
      "Installing collected packages: psycopg2\n",
      "Successfully installed psycopg2-2.9.6\n",
      "Note: you may need to restart the kernel to use updated packages.\n"
     ]
    }
   ],
   "source": [
    "pip install psycopg2"
   ]
  },
  {
   "cell_type": "code",
   "execution_count": 2,
   "metadata": {},
   "outputs": [],
   "source": [
    "import psycopg2\n",
    "import pandas as pd"
   ]
  },
  {
   "attachments": {},
   "cell_type": "markdown",
   "metadata": {},
   "source": [
    "***Access Historical Data***"
   ]
  },
  {
   "cell_type": "code",
   "execution_count": 1,
   "metadata": {},
   "outputs": [
    {
     "name": "stdout",
     "output_type": "stream",
     "text": [
      "Connected to the database successfully.\n",
      "        id   timestamp    values\n",
      "0        1  1451606400    430.89\n",
      "1        2  1451692800    434.75\n",
      "2        3  1451779200    432.76\n",
      "3        4  1451865600    430.78\n",
      "4        5  1451952000    434.17\n",
      "...    ...         ...       ...\n",
      "2186  2187  1640476800  50470.89\n",
      "2187  2188  1640563200  50801.11\n",
      "2188  2189  1640649600  50692.30\n",
      "2189  2190  1640736000  47601.26\n",
      "2190  2191  1640822400  46408.87\n",
      "\n",
      "[2191 rows x 3 columns]\n"
     ]
    }
   ],
   "source": [
    "\n",
    "params = {\n",
    "    \"host\": \"host.docker.internal\",\n",
    "    \"dbname\": \"airflow\",\n",
    "    \"port\": 5532,\n",
    "    \"user\": \"postgres\",\n",
    "    \"password\": \"postgres\"\n",
    "}\n",
    "connection = None\n",
    "\n",
    "try:\n",
    "    connection = psycopg2.connect(**params)\n",
    "    print(\"Connected to the database successfully.\")\n",
    "except Exception as e:\n",
    "    print(f\"An error occurred while connecting to the database: {e}\")\n",
    "\n",
    "if connection:\n",
    "\n",
    "    df = pd.read_sql_query(\"SELECT * FROM Historical_Market_Price\", connection)\n",
    "\n",
    "    print(df)\n",
    "\n",
    "    connection.close()\n",
    "else:\n",
    "    print(\"Unable to create a DataFrame as the connection was not established.\")\n"
   ]
  },
  {
   "attachments": {},
   "cell_type": "markdown",
   "metadata": {},
   "source": [
    "***Access Real_Time Data***"
   ]
  },
  {
   "cell_type": "code",
   "execution_count": 4,
   "metadata": {},
   "outputs": [
    {
     "name": "stdout",
     "output_type": "stream",
     "text": [
      "Connected to the database successfully.\n",
      "    id   timestamp    values\n",
      "0    1  1681430400  30407.60\n",
      "1    2  1681430400  30407.60\n",
      "2    3  1681344000  29899.24\n",
      "3    4  1681430400  30407.60\n",
      "4    5  1681430400  30407.60\n",
      "5    6  1681430400  30407.60\n",
      "6    7  1681430400  30407.60\n",
      "7    8  1681430400  30407.60\n",
      "8    9  1681430400  30407.60\n",
      "9   10  1681430400  30407.60\n",
      "10  11  1681430400  30407.60\n",
      "11  12  1681430400  30407.60\n",
      "12  13  1681430400  30407.60\n",
      "13  14  1681430400  30407.60\n",
      "14  15  1681430400  30407.60\n",
      "15  16  1681430400  30407.60\n",
      "16  17  1681430400  30407.60\n",
      "17  18  1681430400  30407.60\n",
      "18  19  1681430400  30407.60\n"
     ]
    }
   ],
   "source": [
    "import psycopg2\n",
    "import pandas as pd\n",
    "\n",
    "params = {\n",
    "    \"host\": \"host.docker.internal\",\n",
    "    \"dbname\": \"airflow\",\n",
    "    \"port\": 5532,\n",
    "    \"user\": \"postgres\",\n",
    "    \"password\": \"postgres\"\n",
    "}\n",
    "connection = None\n",
    "\n",
    "try:\n",
    "    connection = psycopg2.connect(**params)\n",
    "    print(\"Connected to the database successfully.\")\n",
    "except Exception as e:\n",
    "    print(f\"An error occurred while connecting to the database: {e}\")\n",
    "\n",
    "if connection:\n",
    "\n",
    "    df = pd.read_sql_query(\"SELECT * FROM Real_Time_Market_Price\", connection)\n",
    "\n",
    "    print(df)\n",
    "\n",
    "    connection.close()\n",
    "else:\n",
    "    print(\"Unable to create a DataFrame as the connection was not established.\")\n"
   ]
  }
 ],
 "metadata": {
  "kernelspec": {
   "display_name": "DataScience",
   "language": "python",
   "name": "python3"
  },
  "language_info": {
   "codemirror_mode": {
    "name": "ipython",
    "version": 3
   },
   "file_extension": ".py",
   "mimetype": "text/x-python",
   "name": "python",
   "nbconvert_exporter": "python",
   "pygments_lexer": "ipython3",
   "version": "3.7.9"
  },
  "orig_nbformat": 4
 },
 "nbformat": 4,
 "nbformat_minor": 2
}
