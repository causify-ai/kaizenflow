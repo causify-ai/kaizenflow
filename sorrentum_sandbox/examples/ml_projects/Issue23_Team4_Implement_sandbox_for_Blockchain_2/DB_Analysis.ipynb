{
 "cells": [
  {
   "cell_type": "code",
   "execution_count": 8,
   "metadata": {},
   "outputs": [
    {
     "name": "stdout",
     "output_type": "stream",
     "text": [
      "Collecting psycopg2\n",
      "  Downloading psycopg2-2.9.6-cp37-cp37m-win_amd64.whl (1.2 MB)\n",
      "     ---------------------------------------- 1.2/1.2 MB 12.2 MB/s eta 0:00:00\n",
      "Installing collected packages: psycopg2\n",
      "Successfully installed psycopg2-2.9.6\n",
      "Note: you may need to restart the kernel to use updated packages.\n"
     ]
    }
   ],
   "source": [
    "pip install psycopg2"
   ]
  },
  {
   "cell_type": "code",
   "execution_count": 1,
   "metadata": {},
   "outputs": [],
   "source": [
    "import psycopg2\n",
    "import pandas as pd"
   ]
  },
  {
   "attachments": {},
   "cell_type": "markdown",
   "metadata": {},
   "source": [
    "***Access Historical Data***"
   ]
  },
  {
   "cell_type": "code",
   "execution_count": 2,
   "metadata": {},
   "outputs": [
    {
     "name": "stdout",
     "output_type": "stream",
     "text": [
      "An error occurred while connecting to the database: connection to server at \"host.docker.internal\" (10.1.10.121), port 5532 failed: Connection timed out (0x0000274C/10060)\n",
      "\tIs the server running on that host and accepting TCP/IP connections?\n",
      "\n",
      "Unable to create a DataFrame as the connection was not established.\n"
     ]
    }
   ],
   "source": [
    "\n",
    "params = {\n",
    "    \"host\": \"host.docker.internal\",\n",
    "    \"dbname\": \"airflow\",\n",
    "    \"port\": 5532,\n",
    "    \"user\": \"postgres\",\n",
    "    \"password\": \"postgres\"\n",
    "}\n",
    "connection = None\n",
    "\n",
    "try:\n",
    "    connection = psycopg2.connect(**params)\n",
    "    print(\"Connected to the database successfully.\")\n",
    "except Exception as e:\n",
    "    print(f\"An error occurred while connecting to the database: {e}\")\n",
    "\n",
    "if connection:\n",
    "\n",
    "    btcHistDf = pd.read_sql_query(\"SELECT * FROM Historical_Market_Price\", connection)\n",
    "    print(btcHistDf.head())\n",
    "\n",
    "    connection.close()\n",
    "else:\n",
    "    print(\"Unable to create a DataFrame as the connection was not established.\")\n"
   ]
  },
  {
   "attachments": {},
   "cell_type": "markdown",
   "metadata": {},
   "source": [
    "***Access Real_Time Data***"
   ]
  },
  {
   "cell_type": "code",
   "execution_count": 6,
   "metadata": {},
   "outputs": [
    {
     "name": "stdout",
     "output_type": "stream",
     "text": [
      "Connected to the database successfully.\n",
      "    id   timestamp    values\n",
      "0    1  1681430400  30407.60\n",
      "1    2  1681430400  30407.60\n",
      "2    3  1681344000  29899.24\n",
      "3    4  1681430400  30407.60\n",
      "4    5  1681430400  30407.60\n",
      "5    6  1681430400  30407.60\n",
      "6    7  1681430400  30407.60\n",
      "7    8  1681430400  30407.60\n",
      "8    9  1681430400  30407.60\n",
      "9   10  1681430400  30407.60\n",
      "10  11  1681430400  30407.60\n",
      "11  12  1681430400  30407.60\n",
      "12  13  1681430400  30407.60\n",
      "13  14  1681430400  30407.60\n",
      "14  15  1681430400  30407.60\n",
      "15  16  1681430400  30407.60\n",
      "16  17  1681430400  30407.60\n",
      "17  18  1681430400  30407.60\n",
      "18  19  1681430400  30407.60\n",
      "19  20  1681430400  30407.60\n",
      "20  21  1681430400  30407.60\n",
      "21  22  1681430400  30407.60\n",
      "22  23  1681430400  30407.60\n",
      "23  24  1681430400  30407.60\n",
      "24  25  1681430400  30407.60\n",
      "25  26  1681430400  30407.60\n",
      "26  27  1681430400  30407.60\n",
      "27  28  1681430400  30407.60\n",
      "28  29  1681430400  30407.60\n",
      "29  30  1681430400  30407.60\n"
     ]
    }
   ],
   "source": [
    "import psycopg2\n",
    "import pandas as pd\n",
    "\n",
    "params = {\n",
    "    \"host\": \"host.docker.internal\",\n",
    "    \"dbname\": \"airflow\",\n",
    "    \"port\": 5532,\n",
    "    \"user\": \"postgres\",\n",
    "    \"password\": \"postgres\"\n",
    "}\n",
    "connection = None\n",
    "\n",
    "try:\n",
    "    connection = psycopg2.connect(**params)\n",
    "    print(\"Connected to the database successfully.\")\n",
    "except Exception as e:\n",
    "    print(f\"An error occurred while connecting to the database: {e}\")\n",
    "\n",
    "if connection:\n",
    "\n",
    "    btcRealDf = pd.read_sql_query(\"SELECT * FROM Real_Time_Market_Price\", connection)\n",
    "    # file_path = \"real_time_market_price.csv\"\n",
    "    # df.to_csv(file_path, index=False)\n",
    "    print(btcRealDf)\n",
    "\n",
    "    connection.close()\n",
    "else:\n",
    "    print(\"Unable to create a DataFrame as the connection was not established.\")\n"
   ]
  },
  {
   "cell_type": "code",
   "execution_count": null,
   "metadata": {},
   "outputs": [],
   "source": [
    "import numpy as np\n",
    "import pandas as pd\n",
    "import matplotlib.pyplot as plt\n",
    "import seaborn as sns\n",
    "import os\n",
    "import plotly.graph_objects as go\n",
    "from sklearn.ensemble import IsolationForest\n",
    "from datetime import datetime, timedelta,timezone"
   ]
  },
  {
   "attachments": {},
   "cell_type": "markdown",
   "metadata": {},
   "source": [
    "# Data preprocessing"
   ]
  },
  {
   "cell_type": "code",
   "execution_count": null,
   "metadata": {},
   "outputs": [],
   "source": [
    "btcHistDf['Timestamp'] = pd.to_datetime(btcHistDf.Timestamp, unit='s')\n",
    "btcHistDf.head()"
   ]
  },
  {
   "cell_type": "code",
   "execution_count": null,
   "metadata": {},
   "outputs": [],
   "source": [
    "btcRealDf['timestamp'] = pd.to_datetime(btcRealDf.timestamp, unit='s')\n",
    "btcRealDf.head()"
   ]
  },
  {
   "cell_type": "code",
   "execution_count": null,
   "metadata": {},
   "outputs": [],
   "source": [
    "print('Days in Historical dataset: ',len(btcHistDf))"
   ]
  },
  {
   "cell_type": "code",
   "execution_count": null,
   "metadata": {},
   "outputs": [],
   "source": [
    "print('Days in Real-Time dataset: ',len(btcRealDf))"
   ]
  },
  {
   "cell_type": "code",
   "execution_count": null,
   "metadata": {},
   "outputs": [],
   "source": [
    "histPano = btcHistDf.copy()\n",
    "histPano = histPano.resample('D', on='Timestamp')[['Values']].mean()\n",
    "fig = go.Figure()\n",
    "fig.add_trace(go.Scatter(x=histPano.index, y=histPano['Values'],name='Full history BTC price'))\n",
    "fig.update_layout(showlegend=True,title=\"BTC Historical Market Price\",xaxis_title=\"Time\",yaxis_title=\"Prices\",font=dict(family=\"Courier New, monospace\"))\n",
    "fig.show()"
   ]
  },
  {
   "cell_type": "code",
   "execution_count": null,
   "metadata": {},
   "outputs": [],
   "source": [
    "realPano = btcRealDf.copy()\n",
    "realPano = realPano.resample('D', on='timestamp')[['values']].mean()\n",
    "fig = go.Figure()\n",
    "fig.add_trace(go.Scatter(x=realPano.index, y=realPano['values'],name='Full Real-Time BTC price'))\n",
    "fig.update_layout(showlegend=True,title=\"BTC Real-Time Market Price\",xaxis_title=\"Time\",yaxis_title=\"Prices\",font=dict(family=\"Courier New, monospace\"))\n",
    "fig.show()"
   ]
  },
  {
   "attachments": {},
   "cell_type": "markdown",
   "metadata": {},
   "source": [
    "# Data Anomalies"
   ]
  },
  {
   "attachments": {},
   "cell_type": "markdown",
   "metadata": {},
   "source": [
    "## Isolation forest model"
   ]
  },
  {
   "attachments": {},
   "cell_type": "markdown",
   "metadata": {},
   "source": [
    "# Preparing data to be passed to the Historical model\n",
    "histOutliers = histPano.copy()\n",
    "histOutliers.fillna(method ='bfill', inplace = True)\n",
    "\n",
    "# Training the Historical model\n",
    "hist_isolation_detector = IsolationForest(n_estimators=150,random_state=0,contamination='auto')\n",
    "hist_isolation_detector.fit(histOutliers['Values'].values.reshape(-1, 1))"
   ]
  },
  {
   "cell_type": "code",
   "execution_count": null,
   "metadata": {},
   "outputs": [],
   "source": [
    "# Preparing data to be passed to the Real-Time model\n",
    "realOutliers = realPano.copy()\n",
    "realOutliers.fillna(method ='bfill', inplace = True)\n",
    "\n",
    "# Training the Real-Time model\n",
    "real_isolation_detector = IsolationForest(n_estimators=150,random_state=0,contamination='auto')\n",
    "real_isolation_detector.fit(realOutliers['values'].values.reshape(-1, 1))"
   ]
  },
  {
   "cell_type": "code",
   "execution_count": null,
   "metadata": {},
   "outputs": [],
   "source": [
    "hist_data_ready = np.linspace(histOutliers['Values'].min(), histOutliers['Values'].max(), len(histOutliers)).reshape(-1,1)\n",
    "histOutlier = hist_isolation_detector.predict(hist_data_ready)"
   ]
  },
  {
   "cell_type": "code",
   "execution_count": null,
   "metadata": {},
   "outputs": [],
   "source": [
    "real_data_ready = np.linspace(realOutliers['values'].min(), realOutliers['values'].max(), len(realOutliers)).reshape(-1,1)\n",
    "realOutlier = real_isolation_detector.predict(real_data_ready)"
   ]
  },
  {
   "cell_type": "code",
   "execution_count": null,
   "metadata": {},
   "outputs": [],
   "source": [
    "histOutliers['outlier'] = histOutlier\n",
    "histOutliers.head()"
   ]
  },
  {
   "cell_type": "code",
   "execution_count": null,
   "metadata": {},
   "outputs": [],
   "source": [
    "realOutliers['outlier'] = realOutlier\n",
    "realOutliers.head()"
   ]
  },
  {
   "attachments": {},
   "cell_type": "markdown",
   "metadata": {},
   "source": [
    "## Plotting prices' anomalies"
   ]
  },
  {
   "cell_type": "code",
   "execution_count": null,
   "metadata": {},
   "outputs": [],
   "source": [
    "a = histOutliers.loc[histOutliers['outlier'] == 1] #anomaly\n",
    "fig = go.Figure()\n",
    "fig.add_trace(go.Scatter(x=histOutliers['Values'].index, y=histOutliers['Values'].values,mode='lines',name='BTC Price'))\n",
    "fig.add_trace(go.Scatter(x=a.index, y=a['Values'].values,mode='markers',name='Anomaly',marker_symbol='x',marker_size=2))\n",
    "fig.update_layout(showlegend=True,title=\"BTC Historical Market Price anomalies - IsolationForest\",xaxis_title=\"Time\",yaxis_title=\"Prices\",font=dict(family=\"Courier New, monospace\"))\n",
    "fig.show()"
   ]
  },
  {
   "cell_type": "code",
   "execution_count": null,
   "metadata": {},
   "outputs": [],
   "source": [
    "a = realOutliers.loc[realOutliers['outlier'] == 1] #anomaly\n",
    "fig = go.Figure()\n",
    "fig.add_trace(go.Scatter(x=realOutliers['values'].index, y=realOutliers['values'].values,mode='lines',name='BTC Price'))\n",
    "fig.add_trace(go.Scatter(x=a.index, y=a['values'].values,mode='markers',name='Anomaly',marker_symbol='x',marker_size=2))\n",
    "fig.update_layout(showlegend=True,title=\"BTC Real-Time Market Price anomalies - IsolationForest\",xaxis_title=\"Time\",yaxis_title=\"Prices\",font=dict(family=\"Courier New, monospace\"))\n",
    "fig.show()"
   ]
  },
  {
   "attachments": {},
   "cell_type": "markdown",
   "metadata": {},
   "source": [
    "# Data Analysis"
   ]
  },
  {
   "cell_type": "code",
   "execution_count": null,
   "metadata": {},
   "outputs": [],
   "source": [
    "histDataCheck = btcHistDf.groupby([btcHistDf['Timestamp'].dt.year])['Values'].mean()\n",
    "histDataCheck"
   ]
  },
  {
   "cell_type": "code",
   "execution_count": null,
   "metadata": {},
   "outputs": [],
   "source": [
    "realDataCheck = btcRealDf.groupby([btcRealDf['timestamp'].dt.year])['values'].mean()\n",
    "realDataCheck"
   ]
  },
  {
   "cell_type": "code",
   "execution_count": null,
   "metadata": {},
   "outputs": [],
   "source": [
    "f = plt.figure(figsize=(15,5))\n",
    "ax = plt.gca()\n",
    "histDataCheck.plot(ax=ax, kind='bar', figsize=(15,5))"
   ]
  },
  {
   "cell_type": "code",
   "execution_count": null,
   "metadata": {},
   "outputs": [],
   "source": [
    "f = plt.figure(figsize=(15,5))\n",
    "ax = plt.gca()\n",
    "realDataCheck.plot(ax=ax, kind='bar', figsize=(15,5))"
   ]
  }
 ],
 "metadata": {
  "kernelspec": {
   "display_name": "DataScience",
   "language": "python",
   "name": "python3"
  },
  "language_info": {
   "codemirror_mode": {
    "name": "ipython",
    "version": 3
   },
   "file_extension": ".py",
   "mimetype": "text/x-python",
   "name": "python",
   "nbconvert_exporter": "python",
   "pygments_lexer": "ipython3",
   "version": "3.7.9"
  },
  "orig_nbformat": 4
 },
 "nbformat": 4,
 "nbformat_minor": 2
}
