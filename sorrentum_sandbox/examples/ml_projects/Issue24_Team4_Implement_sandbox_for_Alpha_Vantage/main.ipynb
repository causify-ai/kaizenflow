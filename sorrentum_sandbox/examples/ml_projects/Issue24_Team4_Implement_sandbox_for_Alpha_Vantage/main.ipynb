{
 "cells": [
  {
   "cell_type": "code",
   "execution_count": 1,
   "metadata": {},
   "outputs": [],
   "source": [
    "from models.ticker import Ticker\n",
    "from models.time_series import TimeInterval, DataType\n",
    "from api.mongo_db import Mongo"
   ]
  },
  {
   "cell_type": "markdown",
   "metadata": {},
   "source": [
    "# Alpha Vantage"
   ]
  },
  {
   "cell_type": "code",
   "execution_count": 6,
   "metadata": {},
   "outputs": [],
   "source": [
    "# You can initilize the class with the stock you want (setting get_name to True burns an extra API call).\n",
    "ticker = Ticker(\"AAPL\", get_name=True)\n",
    "\n",
    "# Then you can request the data you want using the DataType ENUM. Time Interval is only used for intraday.\n",
    "ticker.get_data(data_type=DataType.INTRADAY, time_interval=TimeInterval.HOUR)"
   ]
  },
  {
   "attachments": {},
   "cell_type": "markdown",
   "metadata": {},
   "source": [
    "Data Representation"
   ]
  },
  {
   "cell_type": "code",
   "execution_count": 9,
   "metadata": {},
   "outputs": [],
   "source": [
    "# Can be accessed as object\n",
    "ticker\n",
    "\n",
    "# as a JSON\n",
    "ticker.to_json()\n",
    "\n",
    "# or saved in CSV format\n",
    "ticker.to_CSV()"
   ]
  },
  {
   "cell_type": "markdown",
   "metadata": {},
   "source": [
    "# MongoDB"
   ]
  },
  {
   "cell_type": "code",
   "execution_count": 3,
   "metadata": {},
   "outputs": [],
   "source": [
    "# You can download a specific ticker from Mongo if it is stored by doing\n",
    "ticker = Mongo.get_ticker(\"AXP\")\n",
    "\n",
    "# This downloads all of the MongoDB as a list of tickers.\n",
    "all_data = Mongo.download()\n",
    "\n",
    "# You can save data to MongoDB with the following method. It only takes a Ticker class object.\n",
    "Mongo.save_data(ticker)"
   ]
  },
  {
   "attachments": {},
   "cell_type": "markdown",
   "metadata": {},
   "source": [
    "# Download real-time data"
   ]
  },
  {
   "cell_type": "code",
   "execution_count": 2,
   "metadata": {},
   "outputs": [],
   "source": [
    "# Get latest data from API\n",
    "ticker = Ticker(\"AXP\", get_name=True)\n",
    "ticker.get_data(data_type=DataType.WEEKLY)\n",
    "\n",
    "# Save updated data if needed\n",
    "# Mongo will verify if the information is duplicate, or new,\n",
    "# and will update with the latest values\n",
    "Mongo.save_data(ticker)"
   ]
  }
 ],
 "metadata": {
  "kernelspec": {
   "display_name": "Python 3 (ipykernel)",
   "language": "python",
   "name": "python3"
  },
  "language_info": {
   "codemirror_mode": {
    "name": "ipython",
    "version": 3
   },
   "file_extension": ".py",
   "mimetype": "text/x-python",
   "name": "python",
   "nbconvert_exporter": "python",
   "pygments_lexer": "ipython3",
   "version": "3.11.1"
  }
 },
 "nbformat": 4,
 "nbformat_minor": 2
}
