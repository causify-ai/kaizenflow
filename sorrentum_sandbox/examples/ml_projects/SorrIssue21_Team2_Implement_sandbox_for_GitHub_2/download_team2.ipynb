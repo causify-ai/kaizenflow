{
  "nbformat": 4,
  "nbformat_minor": 0,
  "metadata": {
    "colab": {
      "provenance": []
    },
    "kernelspec": {
      "name": "python3",
      "display_name": "Python 3"
    },
    "language_info": {
      "name": "python"
    }
  },
  "cells": [
    {
      "cell_type": "code",
      "execution_count": null,
      "metadata": {
        "id": "D2fCijC1S14M"
      },
      "outputs": [],
      "source": [
        "##Import requried packages\n",
        "import pandas as pd\n",
        "import logging\n",
        "import requests\n",
        "import json\n",
        "from pandas import json_normalize\n",
        "import warnings\n",
        "\n",
        "warnings.filterwarnings(\"ignore\")\n",
        "pd.set_option('display.max_columns', None)\n",
        "\n",
        "#import sorrentum_sandbox.common.download as ssandown\n",
        "\n",
        "_LOG = logging.getLogger(__name__)\n",
        "\n",
        "def downloader(pair,**kwargs):\n",
        "\n",
        "  ##Links for requests\n",
        "  BTC = \"https://api.github.com/repos/bitcoin/bitcoin\"\n",
        "  SOL = \"https://api.github.com/repos/solana-labs/solana\"\n",
        "  ETH = \"https://api.github.com/repos/ethereum\"\n",
        "  DOGE = \"https://api.github.com/repos/dogecoin/dogecoin\"\n",
        "  MATIC = \"https://api.github.com/repos/maticnetwork/bor\"\n",
        "  STORJ = \"https://api.github.com/repos/storj/storj\"\n",
        "  AVAX = \"https://api.github.com/repos/ava-labs\"\n",
        "  SAND = \"https://api.github.com/repos/thesandboxgame\"\n",
        "  DYDX = \"https://api.github.com/repos/dydxprotocol\"\n",
        "  BNB = \"https://api.github.com/repos/bnb-chain\"\n",
        "\n",
        "\n",
        "  #Extension for different stats\n",
        "  yearly_commits = \"/stats/commit_activity\"\n",
        "  weekly_commits_aggregated = \"/stats/code_frequency\"\n",
        "  total_commits_users = \"/stats/participation\"\n",
        "  hourly_commits = \"/stats/punch_card\"\n",
        "  issues = \"/issues\"\n",
        "  issue_comments = \"/issues/comments\"\n",
        "\n",
        "\n",
        "  #Defining Data Frame for main data\n",
        "  data=pd.DataFrame()\n",
        "\n",
        "\n",
        "  ##-- For Yearly Commits\n",
        "  yc_df=pd.DataFrame()\n",
        "\n",
        "  ##-- For Issues Data\n",
        "  issues_df=pd.DataFrame()\n",
        "\n",
        "  #Creating a loop to get the required data---\n",
        "\n",
        "  ## Use this to fetch for all cryptos\n",
        "  #crypto = [BTC, SOL, ETH, DOGE, MATIC, STORJ, AVAX, SAND, DYDX, BNB]\n",
        "  ## Use this for specific crypto\n",
        "  crypto = [SOL]\n",
        "\n",
        "  #extensions = [yearly_commits, weekly_commits_aggregated , total_commits_users, hourly_commits, issues , issue_comments]\n",
        "  extensions = [issues, yearly_commits]\n",
        "\n",
        "  for m in crypto :\n",
        "      common = requests.get(m).json()\n",
        "      d1 = json_normalize(common)  \n",
        "      crypto_name=m.split('/')[-1]\n",
        "      d1['Crypto']=crypto_name\n",
        "      data=data.append(d1)\n",
        "      \n",
        "      for n in extensions:\n",
        "          #Extension---\n",
        "          pull = requests.get(m + n).json()\n",
        "          d2 = json_normalize(pull)  \n",
        "          d2['Crypto_Name']=crypto_name\n",
        "          d2['Extension']=n\n",
        "          if n==yearly_commits:\n",
        "            yc_df=yc_df.append(d2)\n",
        "          elif n==weekly_commits_aggregated:\n",
        "            wca_df=wca_df.append(d2)\n",
        "          elif n==total_commits_users:\n",
        "            tcu_df=tcu_df.append(d2)\n",
        "          elif n==hourly_commits:\n",
        "            d2 = pd.DataFrame(pull, columns = ['Day','Hour', 'Number of Commits'])\n",
        "            hc_df=hc_df.append(d2)\n",
        "          elif n==issues:\n",
        "            issues_df=issues_df.append(d2)\n",
        "          elif n==issue_comments:\n",
        "            issuecom_df=issuecom_df.append(d2)\n",
        "          else:\n",
        "            continue\n",
        "                      \n",
        "      print(\"Extension DF for crypto\",m ,\"done for:\",n)\n",
        "  print(\"DFs for crypto done for:\",m)        \n",
        "      \n",
        "          \n",
        "          \n",
        "  #Preprocessing--\n",
        "  #1.For Yearly Commit Data Frame---\n",
        "  ###Convertin Days Column values in 'Yearly Commit' to separte columns\n",
        "  yc_df[['Sun','Mon','Tue','Wed','Thur','Fri','Sat']] = pd.DataFrame(yc_df.days.tolist(), index= yc_df.index)        \n",
        "\n",
        "  #2.For the main data frame -----\n",
        "  ##Rearranging columns & Keeping only the features that are needed\n",
        "  data=data[['id', 'created_at','updated_at','pushed_at', 'size', 'stargazers_count','watchers_count', 'forks_count','open_issues_count',\n",
        "            'watchers','network_count', 'subscribers_count','owner.id','organization.id','Crypto']]\n",
        "  #Renaming the columns\n",
        "  data = data.rename(columns = {'owner.id': 'owner_id','organization.id':'organization_id'}, inplace = False)\n",
        "\n",
        "          \n",
        "    \n",
        "  #3.For the Issues data frame -----      \n",
        "  issues_df=issues_df[['id','number','title','created_at','updated_at','closed_at','author_association','comments','body','user.login','user.id','Crypto_Name','Extension']]     \n",
        "  #Renaming the columns\n",
        "  issues_df = issues_df.rename(columns = {'user.login': 'user_login','user.id':'user_id'}, inplace = False)\n",
        "      \n",
        "  _LOG.info(f\"Downloaded data: \\n\\t {data.head()}\")    \n",
        "  return ssandown.RawData(data)  "
      ]
    },
    {
      "cell_type": "code",
      "source": [
        "yc_df.columns\n"
      ],
      "metadata": {
        "colab": {
          "base_uri": "https://localhost:8080/"
        },
        "id": "5j2QAd3ZZolv",
        "outputId": "13f97588-7e4b-43c1-a29c-66a719714e3c"
      },
      "execution_count": null,
      "outputs": [
        {
          "output_type": "execute_result",
          "data": {
            "text/plain": [
              "Index(['total', 'week', 'days', 'Crypto_Name', 'Extension', 'Sun', 'Mon',\n",
              "       'Tue', 'Wed', 'Thur', 'Fri', 'Sat'],\n",
              "      dtype='object')"
            ]
          },
          "metadata": {},
          "execution_count": 13
        }
      ]
    }
  ]
}