{
 "cells": [
  {
   "cell_type": "code",
   "execution_count": 2,
   "metadata": {},
   "outputs": [],
   "source": [
    "# import libraries\n",
    "import pandas as pd\n",
    "import numpy as np\n"
   ]
  },
  {
   "cell_type": "code",
   "execution_count": 6,
   "metadata": {},
   "outputs": [
    {
     "name": "stdout",
     "output_type": "stream",
     "text": [
      "Collecting pyspark\n",
      "  Downloading pyspark-3.5.1.tar.gz (317.0 MB)\n",
      "\u001b[2K     \u001b[90m━━━━━━━━━━━━━━━━━━━━━━━━━━━━━━━━━━━━━\u001b[0m \u001b[32m317.0/317.0 MB\u001b[0m \u001b[31m994.5 kB/s\u001b[0m eta \u001b[36m0:00:00\u001b[0m00:01\u001b[0m00:02\u001b[0m\n",
      "\u001b[?25h  Preparing metadata (setup.py) ... \u001b[?25ldone\n",
      "\u001b[?25hCollecting py4j==0.10.9.7 (from pyspark)\n",
      "  Obtaining dependency information for py4j==0.10.9.7 from https://files.pythonhosted.org/packages/10/30/a58b32568f1623aaad7db22aa9eafc4c6c194b429ff35bdc55ca2726da47/py4j-0.10.9.7-py2.py3-none-any.whl.metadata\n",
      "  Downloading py4j-0.10.9.7-py2.py3-none-any.whl.metadata (1.5 kB)\n",
      "Downloading py4j-0.10.9.7-py2.py3-none-any.whl (200 kB)\n",
      "\u001b[2K   \u001b[90m━━━━━━━━━━━━━━━━━━━━━━━━━━━━━━━━━━━━━━━━\u001b[0m \u001b[32m200.5/200.5 kB\u001b[0m \u001b[31m18.8 MB/s\u001b[0m eta \u001b[36m0:00:00\u001b[0m\n",
      "\u001b[?25hBuilding wheels for collected packages: pyspark\n",
      "  Building wheel for pyspark (setup.py) ... \u001b[?25ldone\n",
      "\u001b[?25h  Created wheel for pyspark: filename=pyspark-3.5.1-py2.py3-none-any.whl size=317488496 sha256=110d9de6270e465a7637553df1bc2648f6b85419fd886d209b8a0110a2b01386\n",
      "  Stored in directory: /Users/jacquelineyu/Library/Caches/pip/wheels/95/13/41/f7f135ee114175605fb4f0a89e7389f3742aa6c1e1a5bcb657\n",
      "Successfully built pyspark\n",
      "Installing collected packages: py4j, pyspark\n",
      "Successfully installed py4j-0.10.9.7 pyspark-3.5.1\n",
      "Note: you may need to restart the kernel to use updated packages.\n"
     ]
    }
   ],
   "source": [
    "pip install pyspark"
   ]
  },
  {
   "cell_type": "code",
   "execution_count": 7,
   "metadata": {},
   "outputs": [],
   "source": [
    "from pyspark.sql import SparkSession\n",
    "from pyspark.sql.functions import window, sum"
   ]
  },
  {
   "cell_type": "code",
   "execution_count": 9,
   "metadata": {},
   "outputs": [
    {
     "name": "stderr",
     "output_type": "stream",
     "text": [
      "Setting default log level to \"WARN\".\n",
      "To adjust logging level use sc.setLogLevel(newLevel). For SparkR, use setLogLevel(newLevel).\n",
      "24/04/25 22:11:08 WARN NativeCodeLoader: Unable to load native-hadoop library for your platform... using builtin-java classes where applicable\n",
      "                                                                                \r"
     ]
    }
   ],
   "source": [
    "# create the spark session\n",
    "spark = SparkSession.builder \\\n",
    "    .appName(\"Time_Based_Aggregations\") \\\n",
    "    .getOrCreate()\n",
    "\n",
    "# read in csv file\n",
    "ecommerce_df = spark.read \\\n",
    "    .format(\"csv\") \\\n",
    "    .option(\"header\", \"true\") \\\n",
    "    .load('/Users/jacquelineyu/src/kaizenflow/sorrentum_sandbox/projects/SorrTask792_Windowed_Streaming_Analysis_With_Apache_Spark_Streaming/archive/Amazon Sale Report.csv')"
   ]
  },
  {
   "cell_type": "code",
   "execution_count": 11,
   "metadata": {},
   "outputs": [],
   "source": [
    "# list columns to drop\n",
    "col_drop = ['Order ID', 'Style', 'SKU', 'ASIN', 'Courier Status', 'promotion-ids', 'B2B', 'fulfilled-by', 'Unnamed: 22']\n",
    "\n",
    "# drop the columns\n",
    "ecommerce_df = ecommerce_df.drop(*col_drop)"
   ]
  },
  {
   "cell_type": "code",
   "execution_count": 13,
   "metadata": {},
   "outputs": [
    {
     "name": "stdout",
     "output_type": "stream",
     "text": [
      "+-----+--------+--------------------+----------+--------------+------------------+-------------+----+---+--------+------+-----------+-----------+----------------+------------+\n",
      "|index|    Date|              Status|Fulfilment|Sales Channel |ship-service-level|     Category|Size|Qty|currency|Amount|  ship-city| ship-state|ship-postal-code|ship-country|\n",
      "+-----+--------+--------------------+----------+--------------+------------------+-------------+----+---+--------+------+-----------+-----------+----------------+------------+\n",
      "|    0|04-30-22|           Cancelled|  Merchant|     Amazon.in|          Standard|          Set|   S|  0|     INR|647.62|     MUMBAI|MAHARASHTRA|        400081.0|          IN|\n",
      "|    1|04-30-22|Shipped - Deliver...|  Merchant|     Amazon.in|          Standard|        kurta| 3XL|  1|     INR| 406.0|  BENGALURU|  KARNATAKA|        560085.0|          IN|\n",
      "|    2|04-30-22|             Shipped|    Amazon|     Amazon.in|         Expedited|        kurta|  XL|  1|     INR| 329.0|NAVI MUMBAI|MAHARASHTRA|        410210.0|          IN|\n",
      "|    3|04-30-22|           Cancelled|  Merchant|     Amazon.in|          Standard|Western Dress|   L|  0|     INR|753.33| PUDUCHERRY| PUDUCHERRY|        605008.0|          IN|\n",
      "|    4|04-30-22|             Shipped|    Amazon|     Amazon.in|         Expedited|          Top| 3XL|  1|     INR| 574.0|    CHENNAI| TAMIL NADU|        600073.0|          IN|\n",
      "+-----+--------+--------------------+----------+--------------+------------------+-------------+----+---+--------+------+-----------+-----------+----------------+------------+\n",
      "only showing top 5 rows\n",
      "\n"
     ]
    }
   ],
   "source": [
    "ecommerce_df.show(5)"
   ]
  },
  {
   "cell_type": "code",
   "execution_count": 14,
   "metadata": {},
   "outputs": [
    {
     "name": "stdout",
     "output_type": "stream",
     "text": [
      "Tumbling Window Aggregations:\n"
     ]
    },
    {
     "name": "stderr",
     "output_type": "stream",
     "text": [
      "[Stage 4:============================================>              (3 + 1) / 4]\r"
     ]
    },
    {
     "name": "stdout",
     "output_type": "stream",
     "text": [
      "+------+-----------+--------+\n",
      "|window|TotalAmount|TotalQty|\n",
      "+------+-----------+--------+\n",
      "+------+-----------+--------+\n",
      "\n",
      "Sliding Window Aggregations:\n"
     ]
    },
    {
     "name": "stderr",
     "output_type": "stream",
     "text": [
      "[Stage 5:>                                                          (0 + 4) / 4]\r"
     ]
    },
    {
     "name": "stdout",
     "output_type": "stream",
     "text": [
      "+------+-----------+--------+\n",
      "|window|TotalAmount|TotalQty|\n",
      "+------+-----------+--------+\n",
      "+------+-----------+--------+\n",
      "\n"
     ]
    }
   ],
   "source": [
    "# Convert 'Date' column to timestamp type\n",
    "ecommerce_df = ecommerce_df.withColumn(\"Date\", ecommerce_df[\"Date\"].cast(\"timestamp\"))\n",
    "\n",
    "# time-based aggregations using tumbling windows\n",
    "# aggregate the sales using 'Amount' and 'Qty' for each day\n",
    "tumbling_window_df = ecommerce_df \\\n",
    "    .groupBy(window(\"Date\", \"1 day\")) \\\n",
    "    .agg(sum(\"Amount\").alias(\"TotalAmount\"), sum(\"Qty\").alias(\"TotalQty\"))\n",
    "\n",
    "# time-based aggregations using sliding windows\n",
    "# aggregate the sales using 'Amount' and 'Qty' for each day using sliding window of 3 days\n",
    "sliding_window_df = ecommerce_df \\\n",
    "    .groupBy(window(\"Date\", \"3 days\", slideDuration=\"1 day\")) \\\n",
    "    .agg(sum(\"Amount\").alias(\"TotalAmount\"), sum(\"Qty\").alias(\"TotalQty\"))\n",
    "\n",
    "# print tumbling window df\n",
    "print(\"Tumbling Window Aggregations:\")\n",
    "tumbling_window_df.show(truncate=False)\n",
    "\n",
    "# print sliding window df\n",
    "print(\"Sliding Window Aggregations:\")\n",
    "sliding_window_df.show(truncate=False)"
   ]
  },
  {
   "cell_type": "code",
   "execution_count": null,
   "metadata": {},
   "outputs": [],
   "source": [
    "# stop the SparkSession when the app is done\n",
    "spark.stop()"
   ]
  },
  {
   "cell_type": "code",
   "execution_count": null,
   "metadata": {},
   "outputs": [],
   "source": []
  }
 ],
 "metadata": {
  "kernelspec": {
   "display_name": "Python 3",
   "language": "python",
   "name": "python3"
  },
  "language_info": {
   "codemirror_mode": {
    "name": "ipython",
    "version": 3
   },
   "file_extension": ".py",
   "mimetype": "text/x-python",
   "name": "python",
   "nbconvert_exporter": "python",
   "pygments_lexer": "ipython3",
   "version": "3.11.4"
  }
 },
 "nbformat": 4,
 "nbformat_minor": 2
}
