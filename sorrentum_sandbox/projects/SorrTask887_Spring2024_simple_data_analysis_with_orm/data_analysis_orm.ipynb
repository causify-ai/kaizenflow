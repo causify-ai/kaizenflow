{
 "cells": [
  {
   "cell_type": "code",
   "execution_count": 41,
   "metadata": {},
   "outputs": [
    {
     "data": {
      "text/html": [
       "<div>\n",
       "<style scoped>\n",
       "    .dataframe tbody tr th:only-of-type {\n",
       "        vertical-align: middle;\n",
       "    }\n",
       "\n",
       "    .dataframe tbody tr th {\n",
       "        vertical-align: top;\n",
       "    }\n",
       "\n",
       "    .dataframe thead th {\n",
       "        text-align: right;\n",
       "    }\n",
       "</style>\n",
       "<table border=\"1\" class=\"dataframe\">\n",
       "  <thead>\n",
       "    <tr style=\"text-align: right;\">\n",
       "      <th></th>\n",
       "      <th>tweet_id</th>\n",
       "      <th>airline_sentiment</th>\n",
       "      <th>airline_sentiment_confidence</th>\n",
       "      <th>negativereason</th>\n",
       "      <th>negativereason_confidence</th>\n",
       "      <th>airline</th>\n",
       "      <th>airline_sentiment_gold</th>\n",
       "      <th>name</th>\n",
       "      <th>negativereason_gold</th>\n",
       "      <th>retweet_count</th>\n",
       "      <th>text</th>\n",
       "      <th>tweet_coord</th>\n",
       "      <th>tweet_created</th>\n",
       "      <th>tweet_location</th>\n",
       "      <th>user_timezone</th>\n",
       "    </tr>\n",
       "  </thead>\n",
       "  <tbody>\n",
       "    <tr>\n",
       "      <th>0</th>\n",
       "      <td>567588278875213824</td>\n",
       "      <td>neutral</td>\n",
       "      <td>1.0000</td>\n",
       "      <td></td>\n",
       "      <td></td>\n",
       "      <td>Delta</td>\n",
       "      <td></td>\n",
       "      <td>JetBlueNews</td>\n",
       "      <td></td>\n",
       "      <td>0</td>\n",
       "      <td>@JetBlue's new CEO seeks the right balance to ...</td>\n",
       "      <td></td>\n",
       "      <td>2015-02-16 23:36:05 -0800</td>\n",
       "      <td>USA</td>\n",
       "      <td>Sydney</td>\n",
       "    </tr>\n",
       "    <tr>\n",
       "      <th>1</th>\n",
       "      <td>567590027375702016</td>\n",
       "      <td>negative</td>\n",
       "      <td>1.0000</td>\n",
       "      <td>Can't Tell</td>\n",
       "      <td>0.6503</td>\n",
       "      <td>Delta</td>\n",
       "      <td></td>\n",
       "      <td>nesi_1992</td>\n",
       "      <td></td>\n",
       "      <td>0</td>\n",
       "      <td>@JetBlue is REALLY getting on my nerves !! 😡😡 ...</td>\n",
       "      <td></td>\n",
       "      <td>2015-02-16 23:43:02 -0800</td>\n",
       "      <td>undecided</td>\n",
       "      <td>Pacific Time (US &amp; Canada)</td>\n",
       "    </tr>\n",
       "    <tr>\n",
       "      <th>2</th>\n",
       "      <td>567591480085463040</td>\n",
       "      <td>negative</td>\n",
       "      <td>1.0000</td>\n",
       "      <td>Late Flight</td>\n",
       "      <td>0.346</td>\n",
       "      <td>United</td>\n",
       "      <td></td>\n",
       "      <td>CPoutloud</td>\n",
       "      <td></td>\n",
       "      <td>0</td>\n",
       "      <td>@united yes. We waited in line for almost an h...</td>\n",
       "      <td></td>\n",
       "      <td>2015-02-16 23:48:48 -0800</td>\n",
       "      <td>Washington, DC</td>\n",
       "      <td></td>\n",
       "    </tr>\n",
       "    <tr>\n",
       "      <th>3</th>\n",
       "      <td>567592368451248130</td>\n",
       "      <td>negative</td>\n",
       "      <td>1.0000</td>\n",
       "      <td>Late Flight</td>\n",
       "      <td>1</td>\n",
       "      <td>United</td>\n",
       "      <td></td>\n",
       "      <td>brenduch</td>\n",
       "      <td></td>\n",
       "      <td>0</td>\n",
       "      <td>@united the we got into the gate at IAH on tim...</td>\n",
       "      <td></td>\n",
       "      <td>2015-02-16 23:52:20 -0800</td>\n",
       "      <td></td>\n",
       "      <td>Buenos Aires</td>\n",
       "    </tr>\n",
       "    <tr>\n",
       "      <th>4</th>\n",
       "      <td>567594449874587648</td>\n",
       "      <td>negative</td>\n",
       "      <td>1.0000</td>\n",
       "      <td>Customer Service Issue</td>\n",
       "      <td>0.3451</td>\n",
       "      <td>Southwest</td>\n",
       "      <td></td>\n",
       "      <td>VahidESQ</td>\n",
       "      <td></td>\n",
       "      <td>0</td>\n",
       "      <td>@SouthwestAir its cool that my bags take a bit...</td>\n",
       "      <td></td>\n",
       "      <td>2015-02-17 00:00:36 -0800</td>\n",
       "      <td>Los Angeles, CA</td>\n",
       "      <td>Pacific Time (US &amp; Canada)</td>\n",
       "    </tr>\n",
       "    <tr>\n",
       "      <th>5</th>\n",
       "      <td>567594579310825473</td>\n",
       "      <td>negative</td>\n",
       "      <td>1.0000</td>\n",
       "      <td>Bad Flight</td>\n",
       "      <td>0.6707</td>\n",
       "      <td>United</td>\n",
       "      <td></td>\n",
       "      <td>brenduch</td>\n",
       "      <td></td>\n",
       "      <td>0</td>\n",
       "      <td>@united and don't hope for me having a nicer f...</td>\n",
       "      <td></td>\n",
       "      <td>2015-02-17 00:01:07 -0800</td>\n",
       "      <td></td>\n",
       "      <td>Buenos Aires</td>\n",
       "    </tr>\n",
       "    <tr>\n",
       "      <th>6</th>\n",
       "      <td>567595670463205376</td>\n",
       "      <td>negative</td>\n",
       "      <td>1.0000</td>\n",
       "      <td>Late Flight</td>\n",
       "      <td>1</td>\n",
       "      <td>United</td>\n",
       "      <td></td>\n",
       "      <td>CRomerDome</td>\n",
       "      <td></td>\n",
       "      <td>0</td>\n",
       "      <td>@united I like delays less than you because I'...</td>\n",
       "      <td></td>\n",
       "      <td>2015-02-17 00:05:27 -0800</td>\n",
       "      <td>Portland, OR</td>\n",
       "      <td>Pacific Time (US &amp; Canada)</td>\n",
       "    </tr>\n",
       "    <tr>\n",
       "      <th>7</th>\n",
       "      <td>567614049425555457</td>\n",
       "      <td>negative</td>\n",
       "      <td>1.0000</td>\n",
       "      <td>Customer Service Issue</td>\n",
       "      <td>0.3545</td>\n",
       "      <td>United</td>\n",
       "      <td></td>\n",
       "      <td>JustOGG</td>\n",
       "      <td></td>\n",
       "      <td>0</td>\n",
       "      <td>@united, link to current status of flights/air...</td>\n",
       "      <td></td>\n",
       "      <td>2015-02-17 01:18:29 -0800</td>\n",
       "      <td>Tweets = My Opinion</td>\n",
       "      <td>Eastern Time (US &amp; Canada)</td>\n",
       "    </tr>\n",
       "    <tr>\n",
       "      <th>8</th>\n",
       "      <td>567617081336950784</td>\n",
       "      <td>negative</td>\n",
       "      <td>1.0000</td>\n",
       "      <td>Customer Service Issue</td>\n",
       "      <td>1</td>\n",
       "      <td>Southwest</td>\n",
       "      <td></td>\n",
       "      <td>mrshossruns</td>\n",
       "      <td></td>\n",
       "      <td>0</td>\n",
       "      <td>@SouthwestAir you guys there? Are we on hour 2...</td>\n",
       "      <td></td>\n",
       "      <td>2015-02-17 01:30:32 -0800</td>\n",
       "      <td></td>\n",
       "      <td>Eastern Time (US &amp; Canada)</td>\n",
       "    </tr>\n",
       "    <tr>\n",
       "      <th>9</th>\n",
       "      <td>567617486703853568</td>\n",
       "      <td>negative</td>\n",
       "      <td>1.0000</td>\n",
       "      <td>Customer Service Issue</td>\n",
       "      <td>0.6797</td>\n",
       "      <td>United</td>\n",
       "      <td></td>\n",
       "      <td>feliciastoler</td>\n",
       "      <td></td>\n",
       "      <td>0</td>\n",
       "      <td>@united I tried 2 DM it would not go thru... n...</td>\n",
       "      <td>[0.0, 0.0]</td>\n",
       "      <td>2015-02-17 01:32:09 -0800</td>\n",
       "      <td>New Jersey</td>\n",
       "      <td>Central Time (US &amp; Canada)</td>\n",
       "    </tr>\n",
       "    <tr>\n",
       "      <th>10</th>\n",
       "      <td>567623209026334720</td>\n",
       "      <td>negative</td>\n",
       "      <td>0.6337</td>\n",
       "      <td>Flight Booking Problems</td>\n",
       "      <td>0.6337</td>\n",
       "      <td>United</td>\n",
       "      <td></td>\n",
       "      <td>markhlyon</td>\n",
       "      <td></td>\n",
       "      <td>0</td>\n",
       "      <td>Wanted to get my bag benefit, but instead get ...</td>\n",
       "      <td>[38.9058375, -77.00423674]</td>\n",
       "      <td>2015-02-17 01:54:53 -0800</td>\n",
       "      <td>Washington, DC</td>\n",
       "      <td>Eastern Time (US &amp; Canada)</td>\n",
       "    </tr>\n",
       "    <tr>\n",
       "      <th>11</th>\n",
       "      <td>567627253991735296</td>\n",
       "      <td>negative</td>\n",
       "      <td>1.0000</td>\n",
       "      <td>Bad Flight</td>\n",
       "      <td>0.3611</td>\n",
       "      <td>United</td>\n",
       "      <td></td>\n",
       "      <td>DBsViewOnThings</td>\n",
       "      <td></td>\n",
       "      <td>0</td>\n",
       "      <td>@united please see a flight attendant for what...</td>\n",
       "      <td></td>\n",
       "      <td>2015-02-17 02:10:58 -0800</td>\n",
       "      <td></td>\n",
       "      <td>Atlantic Time (Canada)</td>\n",
       "    </tr>\n",
       "    <tr>\n",
       "      <th>12</th>\n",
       "      <td>567630296783155203</td>\n",
       "      <td>negative</td>\n",
       "      <td>1.0000</td>\n",
       "      <td>Customer Service Issue</td>\n",
       "      <td>0.6752</td>\n",
       "      <td>United</td>\n",
       "      <td></td>\n",
       "      <td>ljsbrooks</td>\n",
       "      <td></td>\n",
       "      <td>0</td>\n",
       "      <td>@united still waiting for a reply</td>\n",
       "      <td></td>\n",
       "      <td>2015-02-17 02:23:03 -0800</td>\n",
       "      <td></td>\n",
       "      <td></td>\n",
       "    </tr>\n",
       "    <tr>\n",
       "      <th>13</th>\n",
       "      <td>567634106058821632</td>\n",
       "      <td>neutral</td>\n",
       "      <td>1.0000</td>\n",
       "      <td></td>\n",
       "      <td></td>\n",
       "      <td>United</td>\n",
       "      <td></td>\n",
       "      <td>gwaki</td>\n",
       "      <td></td>\n",
       "      <td>0</td>\n",
       "      <td>@united even though technically after I land I...</td>\n",
       "      <td></td>\n",
       "      <td>2015-02-17 02:38:11 -0800</td>\n",
       "      <td></td>\n",
       "      <td>Central Time (US &amp; Canada)</td>\n",
       "    </tr>\n",
       "    <tr>\n",
       "      <th>14</th>\n",
       "      <td>567643252753694721</td>\n",
       "      <td>neutral</td>\n",
       "      <td>1.0000</td>\n",
       "      <td></td>\n",
       "      <td></td>\n",
       "      <td>US Airways</td>\n",
       "      <td></td>\n",
       "      <td>ashenfaced</td>\n",
       "      <td></td>\n",
       "      <td>0</td>\n",
       "      <td>@USAirways how's us 1797 looking today?</td>\n",
       "      <td></td>\n",
       "      <td>2015-02-17 03:14:32 -0800</td>\n",
       "      <td>Brighton</td>\n",
       "      <td></td>\n",
       "    </tr>\n",
       "    <tr>\n",
       "      <th>15</th>\n",
       "      <td>567655489119326209</td>\n",
       "      <td>positive</td>\n",
       "      <td>1.0000</td>\n",
       "      <td></td>\n",
       "      <td></td>\n",
       "      <td>Southwest</td>\n",
       "      <td></td>\n",
       "      <td>rjp1208</td>\n",
       "      <td></td>\n",
       "      <td>0</td>\n",
       "      <td>@SouthwestAir nice work on the update!</td>\n",
       "      <td></td>\n",
       "      <td>2015-02-17 04:03:09 -0800</td>\n",
       "      <td></td>\n",
       "      <td>Pacific Time (US &amp; Canada)</td>\n",
       "    </tr>\n",
       "    <tr>\n",
       "      <th>16</th>\n",
       "      <td>567663136082513920</td>\n",
       "      <td>negative</td>\n",
       "      <td>1.0000</td>\n",
       "      <td>Lost Luggage</td>\n",
       "      <td>1</td>\n",
       "      <td>United</td>\n",
       "      <td></td>\n",
       "      <td>hannahtorney</td>\n",
       "      <td></td>\n",
       "      <td>0</td>\n",
       "      <td>@united i have items of sentimental value that...</td>\n",
       "      <td></td>\n",
       "      <td>2015-02-17 04:33:32 -0800</td>\n",
       "      <td>Omagh/Belfast</td>\n",
       "      <td>London</td>\n",
       "    </tr>\n",
       "    <tr>\n",
       "      <th>17</th>\n",
       "      <td>567663504102940672</td>\n",
       "      <td>negative</td>\n",
       "      <td>1.0000</td>\n",
       "      <td>Late Flight</td>\n",
       "      <td>0.6605</td>\n",
       "      <td>Southwest</td>\n",
       "      <td></td>\n",
       "      <td>followkashyap</td>\n",
       "      <td></td>\n",
       "      <td>0</td>\n",
       "      <td>@SouthwestAir We have been stuck in SJU for se...</td>\n",
       "      <td></td>\n",
       "      <td>2015-02-17 04:35:00 -0800</td>\n",
       "      <td>USA</td>\n",
       "      <td>Eastern Time (US &amp; Canada)</td>\n",
       "    </tr>\n",
       "    <tr>\n",
       "      <th>18</th>\n",
       "      <td>567667301067915264</td>\n",
       "      <td>neutral</td>\n",
       "      <td>1.0000</td>\n",
       "      <td></td>\n",
       "      <td></td>\n",
       "      <td>Delta</td>\n",
       "      <td></td>\n",
       "      <td>BritishAirNews</td>\n",
       "      <td></td>\n",
       "      <td>0</td>\n",
       "      <td>@JetBlue CEO weighs profits, flyers - @Chronic...</td>\n",
       "      <td></td>\n",
       "      <td>2015-02-17 04:50:05 -0800</td>\n",
       "      <td>UK</td>\n",
       "      <td>Sydney</td>\n",
       "    </tr>\n",
       "    <tr>\n",
       "      <th>19</th>\n",
       "      <td>567670985403285504</td>\n",
       "      <td>negative</td>\n",
       "      <td>1.0000</td>\n",
       "      <td>Customer Service Issue</td>\n",
       "      <td>1</td>\n",
       "      <td>US Airways</td>\n",
       "      <td></td>\n",
       "      <td>sevnthstar</td>\n",
       "      <td></td>\n",
       "      <td>0</td>\n",
       "      <td>@USAirways @AmericanAir How r u supposed to ch...</td>\n",
       "      <td></td>\n",
       "      <td>2015-02-17 05:04:44 -0800</td>\n",
       "      <td>often underwater</td>\n",
       "      <td>Pacific Time (US &amp; Canada)</td>\n",
       "    </tr>\n",
       "    <tr>\n",
       "      <th>20</th>\n",
       "      <td>567671602280923136</td>\n",
       "      <td>positive</td>\n",
       "      <td>1.0000</td>\n",
       "      <td></td>\n",
       "      <td></td>\n",
       "      <td>Delta</td>\n",
       "      <td></td>\n",
       "      <td>twinkletaters</td>\n",
       "      <td></td>\n",
       "      <td>0</td>\n",
       "      <td>@JetBlue Thanks! Her flight leaves at 2 but sh...</td>\n",
       "      <td>[32.07301184, -81.09362691]</td>\n",
       "      <td>2015-02-17 05:07:11 -0800</td>\n",
       "      <td>Savannah, GA</td>\n",
       "      <td></td>\n",
       "    </tr>\n",
       "    <tr>\n",
       "      <th>21</th>\n",
       "      <td>567676400933416960</td>\n",
       "      <td>negative</td>\n",
       "      <td>1.0000</td>\n",
       "      <td>Late Flight</td>\n",
       "      <td>0.7098</td>\n",
       "      <td>United</td>\n",
       "      <td></td>\n",
       "      <td>MiKasuga</td>\n",
       "      <td></td>\n",
       "      <td>0</td>\n",
       "      <td>@United is officially the worst, most delayed,...</td>\n",
       "      <td></td>\n",
       "      <td>2015-02-17 05:26:15 -0800</td>\n",
       "      <td>New York, NY</td>\n",
       "      <td>Eastern Time (US &amp; Canada)</td>\n",
       "    </tr>\n",
       "    <tr>\n",
       "      <th>22</th>\n",
       "      <td>567676626855419904</td>\n",
       "      <td>negative</td>\n",
       "      <td>1.0000</td>\n",
       "      <td>Customer Service Issue</td>\n",
       "      <td>0.6364</td>\n",
       "      <td>Southwest</td>\n",
       "      <td></td>\n",
       "      <td>WorkingWify</td>\n",
       "      <td></td>\n",
       "      <td>0</td>\n",
       "      <td>@SouthwestAir won't answer their phones #Horri...</td>\n",
       "      <td></td>\n",
       "      <td>2015-02-17 05:27:09 -0800</td>\n",
       "      <td>America</td>\n",
       "      <td></td>\n",
       "    </tr>\n",
       "    <tr>\n",
       "      <th>23</th>\n",
       "      <td>567679487383699456</td>\n",
       "      <td>negative</td>\n",
       "      <td>1.0000</td>\n",
       "      <td>Customer Service Issue</td>\n",
       "      <td>0.7188</td>\n",
       "      <td>US Airways</td>\n",
       "      <td></td>\n",
       "      <td>DonnyYardas</td>\n",
       "      <td></td>\n",
       "      <td>0</td>\n",
       "      <td>@USAirways reservations had me on hold for 2 h...</td>\n",
       "      <td></td>\n",
       "      <td>2015-02-17 05:38:31 -0800</td>\n",
       "      <td>Somewhere Creating</td>\n",
       "      <td>Eastern Time (US &amp; Canada)</td>\n",
       "    </tr>\n",
       "    <tr>\n",
       "      <th>24</th>\n",
       "      <td>567680108002291712</td>\n",
       "      <td>positive</td>\n",
       "      <td>0.6645</td>\n",
       "      <td></td>\n",
       "      <td>0</td>\n",
       "      <td>Delta</td>\n",
       "      <td></td>\n",
       "      <td>TravellerLukose</td>\n",
       "      <td></td>\n",
       "      <td>0</td>\n",
       "      <td>@JetBlue No worries. Delay was minor and dealt...</td>\n",
       "      <td></td>\n",
       "      <td>2015-02-17 05:40:59 -0800</td>\n",
       "      <td></td>\n",
       "      <td></td>\n",
       "    </tr>\n",
       "    <tr>\n",
       "      <th>25</th>\n",
       "      <td>567686758708817921</td>\n",
       "      <td>neutral</td>\n",
       "      <td>0.6890</td>\n",
       "      <td></td>\n",
       "      <td>0</td>\n",
       "      <td>Southwest</td>\n",
       "      <td></td>\n",
       "      <td>Tinygami</td>\n",
       "      <td></td>\n",
       "      <td>0</td>\n",
       "      <td>@SouthwestAir Is it a temporary site glitch or...</td>\n",
       "      <td></td>\n",
       "      <td>2015-02-17 06:07:25 -0800</td>\n",
       "      <td>Michigan</td>\n",
       "      <td>Tehran</td>\n",
       "    </tr>\n",
       "    <tr>\n",
       "      <th>26</th>\n",
       "      <td>567686845903826947</td>\n",
       "      <td>neutral</td>\n",
       "      <td>0.6579</td>\n",
       "      <td></td>\n",
       "      <td>0</td>\n",
       "      <td>United</td>\n",
       "      <td></td>\n",
       "      <td>AsianAdidasGirl</td>\n",
       "      <td></td>\n",
       "      <td>0</td>\n",
       "      <td>@united clicked on the link and got this? #con...</td>\n",
       "      <td>[30.09009009, -95.64621813]</td>\n",
       "      <td>2015-02-17 06:07:45 -0800</td>\n",
       "      <td>Houston</td>\n",
       "      <td>Central Time (US &amp; Canada)</td>\n",
       "    </tr>\n",
       "    <tr>\n",
       "      <th>27</th>\n",
       "      <td>567688325276770306</td>\n",
       "      <td>neutral</td>\n",
       "      <td>0.6957</td>\n",
       "      <td></td>\n",
       "      <td>0</td>\n",
       "      <td>Southwest</td>\n",
       "      <td></td>\n",
       "      <td>DubCook</td>\n",
       "      <td></td>\n",
       "      <td>0</td>\n",
       "      <td>@SouthwestAir Guys, we've got to do something ...</td>\n",
       "      <td>[21.05483165, -86.78164351]</td>\n",
       "      <td>2015-02-17 06:13:38 -0800</td>\n",
       "      <td>Downtown Dallas, Texas</td>\n",
       "      <td>Central Time (US &amp; Canada)</td>\n",
       "    </tr>\n",
       "    <tr>\n",
       "      <th>28</th>\n",
       "      <td>567688411289755648</td>\n",
       "      <td>negative</td>\n",
       "      <td>1.0000</td>\n",
       "      <td>Cancelled Flight</td>\n",
       "      <td>0.6466</td>\n",
       "      <td>Southwest</td>\n",
       "      <td></td>\n",
       "      <td>kabell87</td>\n",
       "      <td></td>\n",
       "      <td>0</td>\n",
       "      <td>@SouthwestAir flight was Cancelled Flightled a...</td>\n",
       "      <td></td>\n",
       "      <td>2015-02-17 06:13:59 -0800</td>\n",
       "      <td></td>\n",
       "      <td></td>\n",
       "    </tr>\n",
       "    <tr>\n",
       "      <th>29</th>\n",
       "      <td>567690417265975296</td>\n",
       "      <td>neutral</td>\n",
       "      <td>0.6739</td>\n",
       "      <td></td>\n",
       "      <td></td>\n",
       "      <td>Delta</td>\n",
       "      <td></td>\n",
       "      <td>JulianBOGJB</td>\n",
       "      <td></td>\n",
       "      <td>0</td>\n",
       "      <td>@JetBlue really caring??</td>\n",
       "      <td></td>\n",
       "      <td>2015-02-17 06:21:57 -0800</td>\n",
       "      <td>Colombia</td>\n",
       "      <td></td>\n",
       "    </tr>\n",
       "    <tr>\n",
       "      <th>30</th>\n",
       "      <td>567692251954827265</td>\n",
       "      <td>negative</td>\n",
       "      <td>1.0000</td>\n",
       "      <td>Flight Attendant Complaints</td>\n",
       "      <td>1</td>\n",
       "      <td>Southwest</td>\n",
       "      <td></td>\n",
       "      <td>MMKuderka</td>\n",
       "      <td></td>\n",
       "      <td>0</td>\n",
       "      <td>@SouthwestAir allows other passengers 2 harass...</td>\n",
       "      <td></td>\n",
       "      <td>2015-02-17 06:29:14 -0800</td>\n",
       "      <td></td>\n",
       "      <td>Arizona</td>\n",
       "    </tr>\n",
       "    <tr>\n",
       "      <th>31</th>\n",
       "      <td>567692504397803520</td>\n",
       "      <td>negative</td>\n",
       "      <td>1.0000</td>\n",
       "      <td>Flight Booking Problems</td>\n",
       "      <td>0.6709</td>\n",
       "      <td>Southwest</td>\n",
       "      <td></td>\n",
       "      <td>kabell87</td>\n",
       "      <td></td>\n",
       "      <td>0</td>\n",
       "      <td>@SouthwestAir  this is really unhelpful. Why c...</td>\n",
       "      <td></td>\n",
       "      <td>2015-02-17 06:30:14 -0800</td>\n",
       "      <td></td>\n",
       "      <td></td>\n",
       "    </tr>\n",
       "    <tr>\n",
       "      <th>32</th>\n",
       "      <td>567695310860730369</td>\n",
       "      <td>negative</td>\n",
       "      <td>1.0000</td>\n",
       "      <td>Late Flight</td>\n",
       "      <td>1</td>\n",
       "      <td>Delta</td>\n",
       "      <td></td>\n",
       "      <td>EBlaikie</td>\n",
       "      <td></td>\n",
       "      <td>0</td>\n",
       "      <td>@JetBlue sitting on the plane in JFK waiting t...</td>\n",
       "      <td></td>\n",
       "      <td>2015-02-17 06:41:24 -0800</td>\n",
       "      <td></td>\n",
       "      <td></td>\n",
       "    </tr>\n",
       "    <tr>\n",
       "      <th>33</th>\n",
       "      <td>567696188602712064</td>\n",
       "      <td>negative</td>\n",
       "      <td>1.0000</td>\n",
       "      <td>Late Flight</td>\n",
       "      <td>1</td>\n",
       "      <td>Delta</td>\n",
       "      <td></td>\n",
       "      <td>elowthers</td>\n",
       "      <td></td>\n",
       "      <td>0</td>\n",
       "      <td>@JetBlue A flight delay due to pilots overslee...</td>\n",
       "      <td></td>\n",
       "      <td>2015-02-17 06:44:53 -0800</td>\n",
       "      <td></td>\n",
       "      <td></td>\n",
       "    </tr>\n",
       "    <tr>\n",
       "      <th>34</th>\n",
       "      <td>567698031081160704</td>\n",
       "      <td>negative</td>\n",
       "      <td>1.0000</td>\n",
       "      <td>Customer Service Issue</td>\n",
       "      <td>0.6963</td>\n",
       "      <td>US Airways</td>\n",
       "      <td></td>\n",
       "      <td>MarkKersten</td>\n",
       "      <td></td>\n",
       "      <td>0</td>\n",
       "      <td>.@USAirways we have no choice but to pay anoth...</td>\n",
       "      <td></td>\n",
       "      <td>2015-02-17 06:52:12 -0800</td>\n",
       "      <td>London, UK</td>\n",
       "      <td>Quito</td>\n",
       "    </tr>\n",
       "    <tr>\n",
       "      <th>35</th>\n",
       "      <td>567701830805618688</td>\n",
       "      <td>positive</td>\n",
       "      <td>1.0000</td>\n",
       "      <td></td>\n",
       "      <td></td>\n",
       "      <td>United</td>\n",
       "      <td></td>\n",
       "      <td>scherzva</td>\n",
       "      <td></td>\n",
       "      <td>0</td>\n",
       "      <td>@united New Apple crâpe, amazing! Live from UA...</td>\n",
       "      <td></td>\n",
       "      <td>2015-02-17 07:07:18 -0800</td>\n",
       "      <td>ÜT: 34.188976,-118.613497</td>\n",
       "      <td>Eastern Time (US &amp; Canada)</td>\n",
       "    </tr>\n",
       "    <tr>\n",
       "      <th>36</th>\n",
       "      <td>567702414157824000</td>\n",
       "      <td>negative</td>\n",
       "      <td>1.0000</td>\n",
       "      <td>Cancelled Flight</td>\n",
       "      <td>0.6526</td>\n",
       "      <td>Southwest</td>\n",
       "      <td></td>\n",
       "      <td>lucasdavidson</td>\n",
       "      <td></td>\n",
       "      <td>0</td>\n",
       "      <td>@SouthwestAir on hold for 2 hours and then you...</td>\n",
       "      <td></td>\n",
       "      <td>2015-02-17 07:09:37 -0800</td>\n",
       "      <td></td>\n",
       "      <td>Eastern Time (US &amp; Canada)</td>\n",
       "    </tr>\n",
       "    <tr>\n",
       "      <th>37</th>\n",
       "      <td>567703258425081857</td>\n",
       "      <td>negative</td>\n",
       "      <td>1.0000</td>\n",
       "      <td>Late Flight</td>\n",
       "      <td>0.7073</td>\n",
       "      <td>United</td>\n",
       "      <td></td>\n",
       "      <td>wackydunks</td>\n",
       "      <td></td>\n",
       "      <td>0</td>\n",
       "      <td>.@united call my work and tell them it's your ...</td>\n",
       "      <td></td>\n",
       "      <td>2015-02-17 07:12:58 -0800</td>\n",
       "      <td>grand rapids, michigan</td>\n",
       "      <td>Eastern Time (US &amp; Canada)</td>\n",
       "    </tr>\n",
       "    <tr>\n",
       "      <th>38</th>\n",
       "      <td>567704339448209409</td>\n",
       "      <td>negative</td>\n",
       "      <td>1.0000</td>\n",
       "      <td>Can't Tell</td>\n",
       "      <td>0.6843</td>\n",
       "      <td>Southwest</td>\n",
       "      <td></td>\n",
       "      <td>Raven_TheGreat</td>\n",
       "      <td></td>\n",
       "      <td>0</td>\n",
       "      <td>@SouthwestAir why have you guys jacked up the ...</td>\n",
       "      <td></td>\n",
       "      <td>2015-02-17 07:17:16 -0800</td>\n",
       "      <td>Dallas, TX</td>\n",
       "      <td>Central Time (US &amp; Canada)</td>\n",
       "    </tr>\n",
       "    <tr>\n",
       "      <th>39</th>\n",
       "      <td>567710245053407232</td>\n",
       "      <td>negative</td>\n",
       "      <td>1.0000</td>\n",
       "      <td>Customer Service Issue</td>\n",
       "      <td>0.6838</td>\n",
       "      <td>US Airways</td>\n",
       "      <td></td>\n",
       "      <td>CharNewsJunkie</td>\n",
       "      <td></td>\n",
       "      <td>0</td>\n",
       "      <td>@USAirways I have been on hold with your Gold ...</td>\n",
       "      <td></td>\n",
       "      <td>2015-02-17 07:40:44 -0800</td>\n",
       "      <td>Charlotte, North Carolina</td>\n",
       "      <td>Eastern Time (US &amp; Canada)</td>\n",
       "    </tr>\n",
       "    <tr>\n",
       "      <th>40</th>\n",
       "      <td>567711860938772480</td>\n",
       "      <td>neutral</td>\n",
       "      <td>1.0000</td>\n",
       "      <td></td>\n",
       "      <td></td>\n",
       "      <td>United</td>\n",
       "      <td></td>\n",
       "      <td>Jamie_Fisher886</td>\n",
       "      <td></td>\n",
       "      <td>0</td>\n",
       "      <td>@united how much does it cost to check in an a...</td>\n",
       "      <td></td>\n",
       "      <td>2015-02-17 07:47:09 -0800</td>\n",
       "      <td>Glasgow</td>\n",
       "      <td>London</td>\n",
       "    </tr>\n",
       "    <tr>\n",
       "      <th>41</th>\n",
       "      <td>567712600772050945</td>\n",
       "      <td>negative</td>\n",
       "      <td>0.6716</td>\n",
       "      <td>Late Flight</td>\n",
       "      <td>0.6716</td>\n",
       "      <td>US Airways</td>\n",
       "      <td></td>\n",
       "      <td>sankeshw</td>\n",
       "      <td></td>\n",
       "      <td>0</td>\n",
       "      <td>@USAirways we are on the 2pm flight FLL to PHL...</td>\n",
       "      <td></td>\n",
       "      <td>2015-02-17 07:50:06 -0800</td>\n",
       "      <td>North West, UK</td>\n",
       "      <td>Casablanca</td>\n",
       "    </tr>\n",
       "    <tr>\n",
       "      <th>42</th>\n",
       "      <td>567713338873118722</td>\n",
       "      <td>positive</td>\n",
       "      <td>0.6803</td>\n",
       "      <td></td>\n",
       "      <td>0</td>\n",
       "      <td>Southwest</td>\n",
       "      <td></td>\n",
       "      <td>DaxJeter</td>\n",
       "      <td></td>\n",
       "      <td>0</td>\n",
       "      <td>@SouthwestAir thanks do yall expect to be oper...</td>\n",
       "      <td></td>\n",
       "      <td>2015-02-17 07:53:02 -0800</td>\n",
       "      <td>Nashville,TN</td>\n",
       "      <td></td>\n",
       "    </tr>\n",
       "    <tr>\n",
       "      <th>43</th>\n",
       "      <td>567713868747902976</td>\n",
       "      <td>negative</td>\n",
       "      <td>1.0000</td>\n",
       "      <td>Customer Service Issue</td>\n",
       "      <td>0.6721</td>\n",
       "      <td>Southwest</td>\n",
       "      <td></td>\n",
       "      <td>CBSsoxfan</td>\n",
       "      <td></td>\n",
       "      <td>0</td>\n",
       "      <td>@SouthwestAir husband on hold 2.5 hrs, got dis...</td>\n",
       "      <td></td>\n",
       "      <td>2015-02-17 07:55:08 -0800</td>\n",
       "      <td>Rhode Island</td>\n",
       "      <td></td>\n",
       "    </tr>\n",
       "    <tr>\n",
       "      <th>44</th>\n",
       "      <td>567713896627470336</td>\n",
       "      <td>negative</td>\n",
       "      <td>1.0000</td>\n",
       "      <td>Flight Attendant Complaints</td>\n",
       "      <td>1</td>\n",
       "      <td>United</td>\n",
       "      <td></td>\n",
       "      <td>rachaeldoyle21</td>\n",
       "      <td></td>\n",
       "      <td>0</td>\n",
       "      <td>@united Broken entertainment system on my 8 ho...</td>\n",
       "      <td></td>\n",
       "      <td>2015-02-17 07:55:15 -0800</td>\n",
       "      <td>Portsmouth, UK</td>\n",
       "      <td></td>\n",
       "    </tr>\n",
       "    <tr>\n",
       "      <th>45</th>\n",
       "      <td>567714192980201472</td>\n",
       "      <td>negative</td>\n",
       "      <td>1.0000</td>\n",
       "      <td>longlines</td>\n",
       "      <td>0.3469</td>\n",
       "      <td>United</td>\n",
       "      <td></td>\n",
       "      <td>lauralscott</td>\n",
       "      <td></td>\n",
       "      <td>0</td>\n",
       "      <td>@united last night we waited forever at the ga...</td>\n",
       "      <td>[0.0, 0.0]</td>\n",
       "      <td>2015-02-17 07:56:25 -0800</td>\n",
       "      <td>ÜT: 40.976702,-72.210688</td>\n",
       "      <td>Quito</td>\n",
       "    </tr>\n",
       "    <tr>\n",
       "      <th>46</th>\n",
       "      <td>567715682918227970</td>\n",
       "      <td>negative</td>\n",
       "      <td>0.6701</td>\n",
       "      <td>Customer Service Issue</td>\n",
       "      <td>0.6701</td>\n",
       "      <td>Southwest</td>\n",
       "      <td></td>\n",
       "      <td>kukalong</td>\n",
       "      <td></td>\n",
       "      <td>0</td>\n",
       "      <td>@SouthwestAir Hoping you answer the phone today?</td>\n",
       "      <td></td>\n",
       "      <td>2015-02-17 08:02:21 -0800</td>\n",
       "      <td>Phoenix, AZ</td>\n",
       "      <td>Arizona</td>\n",
       "    </tr>\n",
       "    <tr>\n",
       "      <th>47</th>\n",
       "      <td>567715917983776772</td>\n",
       "      <td>negative</td>\n",
       "      <td>1.0000</td>\n",
       "      <td>Customer Service Issue</td>\n",
       "      <td>0.6966</td>\n",
       "      <td>Southwest</td>\n",
       "      <td></td>\n",
       "      <td>sahandmirza</td>\n",
       "      <td></td>\n",
       "      <td>0</td>\n",
       "      <td>@SouthwestAir been on hold for &amp;gt;30 minutes ...</td>\n",
       "      <td></td>\n",
       "      <td>2015-02-17 08:03:17 -0800</td>\n",
       "      <td>San Francisco, CA</td>\n",
       "      <td></td>\n",
       "    </tr>\n",
       "    <tr>\n",
       "      <th>48</th>\n",
       "      <td>567716378681933825</td>\n",
       "      <td>neutral</td>\n",
       "      <td>1.0000</td>\n",
       "      <td></td>\n",
       "      <td></td>\n",
       "      <td>Delta</td>\n",
       "      <td></td>\n",
       "      <td>JetBlueNews</td>\n",
       "      <td></td>\n",
       "      <td>0</td>\n",
       "      <td>@JetBlue CEO weighs profits, flyers - @Chronic...</td>\n",
       "      <td></td>\n",
       "      <td>2015-02-17 08:05:06 -0800</td>\n",
       "      <td>USA</td>\n",
       "      <td>Sydney</td>\n",
       "    </tr>\n",
       "    <tr>\n",
       "      <th>49</th>\n",
       "      <td>567716403117957120</td>\n",
       "      <td>negative</td>\n",
       "      <td>1.0000</td>\n",
       "      <td>Bad Flight</td>\n",
       "      <td>1</td>\n",
       "      <td>United</td>\n",
       "      <td></td>\n",
       "      <td>tcfitz3</td>\n",
       "      <td></td>\n",
       "      <td>0</td>\n",
       "      <td>@United - Ridiculous to fly outdated 757s anyw...</td>\n",
       "      <td></td>\n",
       "      <td>2015-02-17 08:05:12 -0800</td>\n",
       "      <td>Houston</td>\n",
       "      <td>Central Time (US &amp; Canada)</td>\n",
       "    </tr>\n",
       "  </tbody>\n",
       "</table>\n",
       "</div>"
      ],
      "text/plain": [
       "              tweet_id airline_sentiment  airline_sentiment_confidence  \\\n",
       "0   567588278875213824           neutral                        1.0000   \n",
       "1   567590027375702016          negative                        1.0000   \n",
       "2   567591480085463040          negative                        1.0000   \n",
       "3   567592368451248130          negative                        1.0000   \n",
       "4   567594449874587648          negative                        1.0000   \n",
       "5   567594579310825473          negative                        1.0000   \n",
       "6   567595670463205376          negative                        1.0000   \n",
       "7   567614049425555457          negative                        1.0000   \n",
       "8   567617081336950784          negative                        1.0000   \n",
       "9   567617486703853568          negative                        1.0000   \n",
       "10  567623209026334720          negative                        0.6337   \n",
       "11  567627253991735296          negative                        1.0000   \n",
       "12  567630296783155203          negative                        1.0000   \n",
       "13  567634106058821632           neutral                        1.0000   \n",
       "14  567643252753694721           neutral                        1.0000   \n",
       "15  567655489119326209          positive                        1.0000   \n",
       "16  567663136082513920          negative                        1.0000   \n",
       "17  567663504102940672          negative                        1.0000   \n",
       "18  567667301067915264           neutral                        1.0000   \n",
       "19  567670985403285504          negative                        1.0000   \n",
       "20  567671602280923136          positive                        1.0000   \n",
       "21  567676400933416960          negative                        1.0000   \n",
       "22  567676626855419904          negative                        1.0000   \n",
       "23  567679487383699456          negative                        1.0000   \n",
       "24  567680108002291712          positive                        0.6645   \n",
       "25  567686758708817921           neutral                        0.6890   \n",
       "26  567686845903826947           neutral                        0.6579   \n",
       "27  567688325276770306           neutral                        0.6957   \n",
       "28  567688411289755648          negative                        1.0000   \n",
       "29  567690417265975296           neutral                        0.6739   \n",
       "30  567692251954827265          negative                        1.0000   \n",
       "31  567692504397803520          negative                        1.0000   \n",
       "32  567695310860730369          negative                        1.0000   \n",
       "33  567696188602712064          negative                        1.0000   \n",
       "34  567698031081160704          negative                        1.0000   \n",
       "35  567701830805618688          positive                        1.0000   \n",
       "36  567702414157824000          negative                        1.0000   \n",
       "37  567703258425081857          negative                        1.0000   \n",
       "38  567704339448209409          negative                        1.0000   \n",
       "39  567710245053407232          negative                        1.0000   \n",
       "40  567711860938772480           neutral                        1.0000   \n",
       "41  567712600772050945          negative                        0.6716   \n",
       "42  567713338873118722          positive                        0.6803   \n",
       "43  567713868747902976          negative                        1.0000   \n",
       "44  567713896627470336          negative                        1.0000   \n",
       "45  567714192980201472          negative                        1.0000   \n",
       "46  567715682918227970          negative                        0.6701   \n",
       "47  567715917983776772          negative                        1.0000   \n",
       "48  567716378681933825           neutral                        1.0000   \n",
       "49  567716403117957120          negative                        1.0000   \n",
       "\n",
       "                 negativereason negativereason_confidence     airline  \\\n",
       "0                                                               Delta   \n",
       "1                    Can't Tell                    0.6503       Delta   \n",
       "2                   Late Flight                     0.346      United   \n",
       "3                   Late Flight                         1      United   \n",
       "4        Customer Service Issue                    0.3451   Southwest   \n",
       "5                    Bad Flight                    0.6707      United   \n",
       "6                   Late Flight                         1      United   \n",
       "7        Customer Service Issue                    0.3545      United   \n",
       "8        Customer Service Issue                         1   Southwest   \n",
       "9        Customer Service Issue                    0.6797      United   \n",
       "10      Flight Booking Problems                    0.6337      United   \n",
       "11                   Bad Flight                    0.3611      United   \n",
       "12       Customer Service Issue                    0.6752      United   \n",
       "13                                                             United   \n",
       "14                                                         US Airways   \n",
       "15                                                          Southwest   \n",
       "16                 Lost Luggage                         1      United   \n",
       "17                  Late Flight                    0.6605   Southwest   \n",
       "18                                                              Delta   \n",
       "19       Customer Service Issue                         1  US Airways   \n",
       "20                                                              Delta   \n",
       "21                  Late Flight                    0.7098      United   \n",
       "22       Customer Service Issue                    0.6364   Southwest   \n",
       "23       Customer Service Issue                    0.7188  US Airways   \n",
       "24                                                      0       Delta   \n",
       "25                                                      0   Southwest   \n",
       "26                                                      0      United   \n",
       "27                                                      0   Southwest   \n",
       "28             Cancelled Flight                    0.6466   Southwest   \n",
       "29                                                              Delta   \n",
       "30  Flight Attendant Complaints                         1   Southwest   \n",
       "31      Flight Booking Problems                    0.6709   Southwest   \n",
       "32                  Late Flight                         1       Delta   \n",
       "33                  Late Flight                         1       Delta   \n",
       "34       Customer Service Issue                    0.6963  US Airways   \n",
       "35                                                             United   \n",
       "36             Cancelled Flight                    0.6526   Southwest   \n",
       "37                  Late Flight                    0.7073      United   \n",
       "38                   Can't Tell                    0.6843   Southwest   \n",
       "39       Customer Service Issue                    0.6838  US Airways   \n",
       "40                                                             United   \n",
       "41                  Late Flight                    0.6716  US Airways   \n",
       "42                                                      0   Southwest   \n",
       "43       Customer Service Issue                    0.6721   Southwest   \n",
       "44  Flight Attendant Complaints                         1      United   \n",
       "45                    longlines                    0.3469      United   \n",
       "46       Customer Service Issue                    0.6701   Southwest   \n",
       "47       Customer Service Issue                    0.6966   Southwest   \n",
       "48                                                              Delta   \n",
       "49                   Bad Flight                         1      United   \n",
       "\n",
       "   airline_sentiment_gold             name negativereason_gold  retweet_count  \\\n",
       "0                              JetBlueNews                                  0   \n",
       "1                                nesi_1992                                  0   \n",
       "2                                CPoutloud                                  0   \n",
       "3                                 brenduch                                  0   \n",
       "4                                 VahidESQ                                  0   \n",
       "5                                 brenduch                                  0   \n",
       "6                               CRomerDome                                  0   \n",
       "7                                  JustOGG                                  0   \n",
       "8                              mrshossruns                                  0   \n",
       "9                            feliciastoler                                  0   \n",
       "10                               markhlyon                                  0   \n",
       "11                         DBsViewOnThings                                  0   \n",
       "12                               ljsbrooks                                  0   \n",
       "13                                   gwaki                                  0   \n",
       "14                              ashenfaced                                  0   \n",
       "15                                 rjp1208                                  0   \n",
       "16                            hannahtorney                                  0   \n",
       "17                           followkashyap                                  0   \n",
       "18                          BritishAirNews                                  0   \n",
       "19                              sevnthstar                                  0   \n",
       "20                           twinkletaters                                  0   \n",
       "21                                MiKasuga                                  0   \n",
       "22                             WorkingWify                                  0   \n",
       "23                             DonnyYardas                                  0   \n",
       "24                         TravellerLukose                                  0   \n",
       "25                                Tinygami                                  0   \n",
       "26                         AsianAdidasGirl                                  0   \n",
       "27                                 DubCook                                  0   \n",
       "28                                kabell87                                  0   \n",
       "29                             JulianBOGJB                                  0   \n",
       "30                               MMKuderka                                  0   \n",
       "31                                kabell87                                  0   \n",
       "32                                EBlaikie                                  0   \n",
       "33                               elowthers                                  0   \n",
       "34                             MarkKersten                                  0   \n",
       "35                                scherzva                                  0   \n",
       "36                           lucasdavidson                                  0   \n",
       "37                              wackydunks                                  0   \n",
       "38                          Raven_TheGreat                                  0   \n",
       "39                          CharNewsJunkie                                  0   \n",
       "40                         Jamie_Fisher886                                  0   \n",
       "41                                sankeshw                                  0   \n",
       "42                                DaxJeter                                  0   \n",
       "43                               CBSsoxfan                                  0   \n",
       "44                          rachaeldoyle21                                  0   \n",
       "45                             lauralscott                                  0   \n",
       "46                                kukalong                                  0   \n",
       "47                             sahandmirza                                  0   \n",
       "48                             JetBlueNews                                  0   \n",
       "49                                 tcfitz3                                  0   \n",
       "\n",
       "                                                 text  \\\n",
       "0   @JetBlue's new CEO seeks the right balance to ...   \n",
       "1   @JetBlue is REALLY getting on my nerves !! 😡😡 ...   \n",
       "2   @united yes. We waited in line for almost an h...   \n",
       "3   @united the we got into the gate at IAH on tim...   \n",
       "4   @SouthwestAir its cool that my bags take a bit...   \n",
       "5   @united and don't hope for me having a nicer f...   \n",
       "6   @united I like delays less than you because I'...   \n",
       "7   @united, link to current status of flights/air...   \n",
       "8   @SouthwestAir you guys there? Are we on hour 2...   \n",
       "9   @united I tried 2 DM it would not go thru... n...   \n",
       "10  Wanted to get my bag benefit, but instead get ...   \n",
       "11  @united please see a flight attendant for what...   \n",
       "12                  @united still waiting for a reply   \n",
       "13  @united even though technically after I land I...   \n",
       "14            @USAirways how's us 1797 looking today?   \n",
       "15             @SouthwestAir nice work on the update!   \n",
       "16  @united i have items of sentimental value that...   \n",
       "17  @SouthwestAir We have been stuck in SJU for se...   \n",
       "18  @JetBlue CEO weighs profits, flyers - @Chronic...   \n",
       "19  @USAirways @AmericanAir How r u supposed to ch...   \n",
       "20  @JetBlue Thanks! Her flight leaves at 2 but sh...   \n",
       "21  @United is officially the worst, most delayed,...   \n",
       "22  @SouthwestAir won't answer their phones #Horri...   \n",
       "23  @USAirways reservations had me on hold for 2 h...   \n",
       "24  @JetBlue No worries. Delay was minor and dealt...   \n",
       "25  @SouthwestAir Is it a temporary site glitch or...   \n",
       "26  @united clicked on the link and got this? #con...   \n",
       "27  @SouthwestAir Guys, we've got to do something ...   \n",
       "28  @SouthwestAir flight was Cancelled Flightled a...   \n",
       "29                           @JetBlue really caring??   \n",
       "30  @SouthwestAir allows other passengers 2 harass...   \n",
       "31  @SouthwestAir  this is really unhelpful. Why c...   \n",
       "32  @JetBlue sitting on the plane in JFK waiting t...   \n",
       "33  @JetBlue A flight delay due to pilots overslee...   \n",
       "34  .@USAirways we have no choice but to pay anoth...   \n",
       "35  @united New Apple crâpe, amazing! Live from UA...   \n",
       "36  @SouthwestAir on hold for 2 hours and then you...   \n",
       "37  .@united call my work and tell them it's your ...   \n",
       "38  @SouthwestAir why have you guys jacked up the ...   \n",
       "39  @USAirways I have been on hold with your Gold ...   \n",
       "40  @united how much does it cost to check in an a...   \n",
       "41  @USAirways we are on the 2pm flight FLL to PHL...   \n",
       "42  @SouthwestAir thanks do yall expect to be oper...   \n",
       "43  @SouthwestAir husband on hold 2.5 hrs, got dis...   \n",
       "44  @united Broken entertainment system on my 8 ho...   \n",
       "45  @united last night we waited forever at the ga...   \n",
       "46   @SouthwestAir Hoping you answer the phone today?   \n",
       "47  @SouthwestAir been on hold for &gt;30 minutes ...   \n",
       "48  @JetBlue CEO weighs profits, flyers - @Chronic...   \n",
       "49  @United - Ridiculous to fly outdated 757s anyw...   \n",
       "\n",
       "                    tweet_coord              tweet_created  \\\n",
       "0                                2015-02-16 23:36:05 -0800   \n",
       "1                                2015-02-16 23:43:02 -0800   \n",
       "2                                2015-02-16 23:48:48 -0800   \n",
       "3                                2015-02-16 23:52:20 -0800   \n",
       "4                                2015-02-17 00:00:36 -0800   \n",
       "5                                2015-02-17 00:01:07 -0800   \n",
       "6                                2015-02-17 00:05:27 -0800   \n",
       "7                                2015-02-17 01:18:29 -0800   \n",
       "8                                2015-02-17 01:30:32 -0800   \n",
       "9                    [0.0, 0.0]  2015-02-17 01:32:09 -0800   \n",
       "10   [38.9058375, -77.00423674]  2015-02-17 01:54:53 -0800   \n",
       "11                               2015-02-17 02:10:58 -0800   \n",
       "12                               2015-02-17 02:23:03 -0800   \n",
       "13                               2015-02-17 02:38:11 -0800   \n",
       "14                               2015-02-17 03:14:32 -0800   \n",
       "15                               2015-02-17 04:03:09 -0800   \n",
       "16                               2015-02-17 04:33:32 -0800   \n",
       "17                               2015-02-17 04:35:00 -0800   \n",
       "18                               2015-02-17 04:50:05 -0800   \n",
       "19                               2015-02-17 05:04:44 -0800   \n",
       "20  [32.07301184, -81.09362691]  2015-02-17 05:07:11 -0800   \n",
       "21                               2015-02-17 05:26:15 -0800   \n",
       "22                               2015-02-17 05:27:09 -0800   \n",
       "23                               2015-02-17 05:38:31 -0800   \n",
       "24                               2015-02-17 05:40:59 -0800   \n",
       "25                               2015-02-17 06:07:25 -0800   \n",
       "26  [30.09009009, -95.64621813]  2015-02-17 06:07:45 -0800   \n",
       "27  [21.05483165, -86.78164351]  2015-02-17 06:13:38 -0800   \n",
       "28                               2015-02-17 06:13:59 -0800   \n",
       "29                               2015-02-17 06:21:57 -0800   \n",
       "30                               2015-02-17 06:29:14 -0800   \n",
       "31                               2015-02-17 06:30:14 -0800   \n",
       "32                               2015-02-17 06:41:24 -0800   \n",
       "33                               2015-02-17 06:44:53 -0800   \n",
       "34                               2015-02-17 06:52:12 -0800   \n",
       "35                               2015-02-17 07:07:18 -0800   \n",
       "36                               2015-02-17 07:09:37 -0800   \n",
       "37                               2015-02-17 07:12:58 -0800   \n",
       "38                               2015-02-17 07:17:16 -0800   \n",
       "39                               2015-02-17 07:40:44 -0800   \n",
       "40                               2015-02-17 07:47:09 -0800   \n",
       "41                               2015-02-17 07:50:06 -0800   \n",
       "42                               2015-02-17 07:53:02 -0800   \n",
       "43                               2015-02-17 07:55:08 -0800   \n",
       "44                               2015-02-17 07:55:15 -0800   \n",
       "45                   [0.0, 0.0]  2015-02-17 07:56:25 -0800   \n",
       "46                               2015-02-17 08:02:21 -0800   \n",
       "47                               2015-02-17 08:03:17 -0800   \n",
       "48                               2015-02-17 08:05:06 -0800   \n",
       "49                               2015-02-17 08:05:12 -0800   \n",
       "\n",
       "               tweet_location               user_timezone  \n",
       "0                         USA                      Sydney  \n",
       "1                   undecided  Pacific Time (US & Canada)  \n",
       "2              Washington, DC                              \n",
       "3                                            Buenos Aires  \n",
       "4             Los Angeles, CA  Pacific Time (US & Canada)  \n",
       "5                                            Buenos Aires  \n",
       "6                Portland, OR  Pacific Time (US & Canada)  \n",
       "7         Tweets = My Opinion  Eastern Time (US & Canada)  \n",
       "8                              Eastern Time (US & Canada)  \n",
       "9                  New Jersey  Central Time (US & Canada)  \n",
       "10             Washington, DC  Eastern Time (US & Canada)  \n",
       "11                                 Atlantic Time (Canada)  \n",
       "12                                                         \n",
       "13                             Central Time (US & Canada)  \n",
       "14                   Brighton                              \n",
       "15                             Pacific Time (US & Canada)  \n",
       "16              Omagh/Belfast                      London  \n",
       "17                        USA  Eastern Time (US & Canada)  \n",
       "18                         UK                      Sydney  \n",
       "19           often underwater  Pacific Time (US & Canada)  \n",
       "20               Savannah, GA                              \n",
       "21               New York, NY  Eastern Time (US & Canada)  \n",
       "22                    America                              \n",
       "23         Somewhere Creating  Eastern Time (US & Canada)  \n",
       "24                                                         \n",
       "25                   Michigan                      Tehran  \n",
       "26                    Houston  Central Time (US & Canada)  \n",
       "27     Downtown Dallas, Texas  Central Time (US & Canada)  \n",
       "28                                                         \n",
       "29                   Colombia                              \n",
       "30                                                Arizona  \n",
       "31                                                         \n",
       "32                                                         \n",
       "33                                                         \n",
       "34                 London, UK                       Quito  \n",
       "35  ÜT: 34.188976,-118.613497  Eastern Time (US & Canada)  \n",
       "36                             Eastern Time (US & Canada)  \n",
       "37     grand rapids, michigan  Eastern Time (US & Canada)  \n",
       "38                 Dallas, TX  Central Time (US & Canada)  \n",
       "39  Charlotte, North Carolina  Eastern Time (US & Canada)  \n",
       "40                    Glasgow                      London  \n",
       "41             North West, UK                  Casablanca  \n",
       "42               Nashville,TN                              \n",
       "43               Rhode Island                              \n",
       "44             Portsmouth, UK                              \n",
       "45   ÜT: 40.976702,-72.210688                       Quito  \n",
       "46                Phoenix, AZ                     Arizona  \n",
       "47          San Francisco, CA                              \n",
       "48                        USA                      Sydney  \n",
       "49                    Houston  Central Time (US & Canada)  "
      ]
     },
     "execution_count": 41,
     "metadata": {},
     "output_type": "execute_result"
    }
   ],
   "source": [
    "from sqlalchemy import create_engine\n",
    "import pandas as pd\n",
    "import plotly.express as px\n",
    "\n",
    "# Connecting to the airline database\n",
    "engine = create_engine('sqlite:///Dataset/database.sqlite')\n",
    "\n",
    "\n",
    "# Writting SQL query\n",
    "sql_query = \"\"\"\n",
    "    SELECT *\n",
    "    FROM Tweets\n",
    "\"\"\"\n",
    "\n",
    "# Grabbing results from SQL \n",
    "airline_tweets_df = pd.read_sql(sql_query, engine)\n",
    "\n",
    "# Printing games data\n",
    "airline_tweets_df.head(50)\n"
   ]
  },
  {
   "cell_type": "markdown",
   "metadata": {},
   "source": [
    "## Looking into Negative sentiments Finidning the Overall Main Reason for Negative Reviews"
   ]
  },
  {
   "cell_type": "code",
   "execution_count": 42,
   "metadata": {},
   "outputs": [],
   "source": [
    "##Showing all rows and columns\n",
    "pd.set_option('display.max_rows', None) \n",
    "pd.set_option('display.max_columns', None)"
   ]
  },
  {
   "cell_type": "code",
   "execution_count": 43,
   "metadata": {},
   "outputs": [
    {
     "data": {
      "text/html": [
       "<div>\n",
       "<style scoped>\n",
       "    .dataframe tbody tr th:only-of-type {\n",
       "        vertical-align: middle;\n",
       "    }\n",
       "\n",
       "    .dataframe tbody tr th {\n",
       "        vertical-align: top;\n",
       "    }\n",
       "\n",
       "    .dataframe thead th {\n",
       "        text-align: right;\n",
       "    }\n",
       "</style>\n",
       "<table border=\"1\" class=\"dataframe\">\n",
       "  <thead>\n",
       "    <tr style=\"text-align: right;\">\n",
       "      <th></th>\n",
       "      <th>airline_sentiment</th>\n",
       "      <th>airline</th>\n",
       "      <th>negativereason</th>\n",
       "    </tr>\n",
       "  </thead>\n",
       "  <tbody>\n",
       "    <tr>\n",
       "      <th>0</th>\n",
       "      <td>negative</td>\n",
       "      <td>Delta</td>\n",
       "      <td>Can't Tell</td>\n",
       "    </tr>\n",
       "    <tr>\n",
       "      <th>1</th>\n",
       "      <td>negative</td>\n",
       "      <td>United</td>\n",
       "      <td>Late Flight</td>\n",
       "    </tr>\n",
       "    <tr>\n",
       "      <th>2</th>\n",
       "      <td>negative</td>\n",
       "      <td>United</td>\n",
       "      <td>Late Flight</td>\n",
       "    </tr>\n",
       "    <tr>\n",
       "      <th>3</th>\n",
       "      <td>negative</td>\n",
       "      <td>Southwest</td>\n",
       "      <td>Customer Service Issue</td>\n",
       "    </tr>\n",
       "    <tr>\n",
       "      <th>4</th>\n",
       "      <td>negative</td>\n",
       "      <td>United</td>\n",
       "      <td>Bad Flight</td>\n",
       "    </tr>\n",
       "    <tr>\n",
       "      <th>5</th>\n",
       "      <td>negative</td>\n",
       "      <td>United</td>\n",
       "      <td>Late Flight</td>\n",
       "    </tr>\n",
       "    <tr>\n",
       "      <th>6</th>\n",
       "      <td>negative</td>\n",
       "      <td>United</td>\n",
       "      <td>Customer Service Issue</td>\n",
       "    </tr>\n",
       "    <tr>\n",
       "      <th>7</th>\n",
       "      <td>negative</td>\n",
       "      <td>Southwest</td>\n",
       "      <td>Customer Service Issue</td>\n",
       "    </tr>\n",
       "    <tr>\n",
       "      <th>8</th>\n",
       "      <td>negative</td>\n",
       "      <td>United</td>\n",
       "      <td>Customer Service Issue</td>\n",
       "    </tr>\n",
       "    <tr>\n",
       "      <th>9</th>\n",
       "      <td>negative</td>\n",
       "      <td>United</td>\n",
       "      <td>Flight Booking Problems</td>\n",
       "    </tr>\n",
       "    <tr>\n",
       "      <th>10</th>\n",
       "      <td>negative</td>\n",
       "      <td>United</td>\n",
       "      <td>Bad Flight</td>\n",
       "    </tr>\n",
       "    <tr>\n",
       "      <th>11</th>\n",
       "      <td>negative</td>\n",
       "      <td>United</td>\n",
       "      <td>Customer Service Issue</td>\n",
       "    </tr>\n",
       "    <tr>\n",
       "      <th>12</th>\n",
       "      <td>negative</td>\n",
       "      <td>United</td>\n",
       "      <td>Lost Luggage</td>\n",
       "    </tr>\n",
       "    <tr>\n",
       "      <th>13</th>\n",
       "      <td>negative</td>\n",
       "      <td>Southwest</td>\n",
       "      <td>Late Flight</td>\n",
       "    </tr>\n",
       "    <tr>\n",
       "      <th>14</th>\n",
       "      <td>negative</td>\n",
       "      <td>US Airways</td>\n",
       "      <td>Customer Service Issue</td>\n",
       "    </tr>\n",
       "    <tr>\n",
       "      <th>15</th>\n",
       "      <td>negative</td>\n",
       "      <td>United</td>\n",
       "      <td>Late Flight</td>\n",
       "    </tr>\n",
       "    <tr>\n",
       "      <th>16</th>\n",
       "      <td>negative</td>\n",
       "      <td>Southwest</td>\n",
       "      <td>Customer Service Issue</td>\n",
       "    </tr>\n",
       "    <tr>\n",
       "      <th>17</th>\n",
       "      <td>negative</td>\n",
       "      <td>US Airways</td>\n",
       "      <td>Customer Service Issue</td>\n",
       "    </tr>\n",
       "    <tr>\n",
       "      <th>18</th>\n",
       "      <td>negative</td>\n",
       "      <td>Southwest</td>\n",
       "      <td>Cancelled Flight</td>\n",
       "    </tr>\n",
       "    <tr>\n",
       "      <th>19</th>\n",
       "      <td>negative</td>\n",
       "      <td>Southwest</td>\n",
       "      <td>Flight Attendant Complaints</td>\n",
       "    </tr>\n",
       "    <tr>\n",
       "      <th>20</th>\n",
       "      <td>negative</td>\n",
       "      <td>Southwest</td>\n",
       "      <td>Flight Booking Problems</td>\n",
       "    </tr>\n",
       "    <tr>\n",
       "      <th>21</th>\n",
       "      <td>negative</td>\n",
       "      <td>Delta</td>\n",
       "      <td>Late Flight</td>\n",
       "    </tr>\n",
       "    <tr>\n",
       "      <th>22</th>\n",
       "      <td>negative</td>\n",
       "      <td>Delta</td>\n",
       "      <td>Late Flight</td>\n",
       "    </tr>\n",
       "    <tr>\n",
       "      <th>23</th>\n",
       "      <td>negative</td>\n",
       "      <td>US Airways</td>\n",
       "      <td>Customer Service Issue</td>\n",
       "    </tr>\n",
       "    <tr>\n",
       "      <th>24</th>\n",
       "      <td>negative</td>\n",
       "      <td>Southwest</td>\n",
       "      <td>Cancelled Flight</td>\n",
       "    </tr>\n",
       "    <tr>\n",
       "      <th>25</th>\n",
       "      <td>negative</td>\n",
       "      <td>United</td>\n",
       "      <td>Late Flight</td>\n",
       "    </tr>\n",
       "    <tr>\n",
       "      <th>26</th>\n",
       "      <td>negative</td>\n",
       "      <td>Southwest</td>\n",
       "      <td>Can't Tell</td>\n",
       "    </tr>\n",
       "    <tr>\n",
       "      <th>27</th>\n",
       "      <td>negative</td>\n",
       "      <td>US Airways</td>\n",
       "      <td>Customer Service Issue</td>\n",
       "    </tr>\n",
       "    <tr>\n",
       "      <th>28</th>\n",
       "      <td>negative</td>\n",
       "      <td>US Airways</td>\n",
       "      <td>Late Flight</td>\n",
       "    </tr>\n",
       "    <tr>\n",
       "      <th>29</th>\n",
       "      <td>negative</td>\n",
       "      <td>Southwest</td>\n",
       "      <td>Customer Service Issue</td>\n",
       "    </tr>\n",
       "    <tr>\n",
       "      <th>30</th>\n",
       "      <td>negative</td>\n",
       "      <td>United</td>\n",
       "      <td>Flight Attendant Complaints</td>\n",
       "    </tr>\n",
       "    <tr>\n",
       "      <th>31</th>\n",
       "      <td>negative</td>\n",
       "      <td>United</td>\n",
       "      <td>longlines</td>\n",
       "    </tr>\n",
       "    <tr>\n",
       "      <th>32</th>\n",
       "      <td>negative</td>\n",
       "      <td>Southwest</td>\n",
       "      <td>Customer Service Issue</td>\n",
       "    </tr>\n",
       "    <tr>\n",
       "      <th>33</th>\n",
       "      <td>negative</td>\n",
       "      <td>Southwest</td>\n",
       "      <td>Customer Service Issue</td>\n",
       "    </tr>\n",
       "    <tr>\n",
       "      <th>34</th>\n",
       "      <td>negative</td>\n",
       "      <td>United</td>\n",
       "      <td>Bad Flight</td>\n",
       "    </tr>\n",
       "    <tr>\n",
       "      <th>35</th>\n",
       "      <td>negative</td>\n",
       "      <td>Southwest</td>\n",
       "      <td>Late Flight</td>\n",
       "    </tr>\n",
       "    <tr>\n",
       "      <th>36</th>\n",
       "      <td>negative</td>\n",
       "      <td>United</td>\n",
       "      <td>Can't Tell</td>\n",
       "    </tr>\n",
       "    <tr>\n",
       "      <th>37</th>\n",
       "      <td>negative</td>\n",
       "      <td>US Airways</td>\n",
       "      <td>Bad Flight</td>\n",
       "    </tr>\n",
       "    <tr>\n",
       "      <th>38</th>\n",
       "      <td>negative</td>\n",
       "      <td>Southwest</td>\n",
       "      <td>Customer Service Issue</td>\n",
       "    </tr>\n",
       "    <tr>\n",
       "      <th>39</th>\n",
       "      <td>negative</td>\n",
       "      <td>US Airways</td>\n",
       "      <td>Bad Flight</td>\n",
       "    </tr>\n",
       "    <tr>\n",
       "      <th>40</th>\n",
       "      <td>negative</td>\n",
       "      <td>Southwest</td>\n",
       "      <td>Customer Service Issue</td>\n",
       "    </tr>\n",
       "    <tr>\n",
       "      <th>41</th>\n",
       "      <td>negative</td>\n",
       "      <td>Southwest</td>\n",
       "      <td>Late Flight</td>\n",
       "    </tr>\n",
       "    <tr>\n",
       "      <th>42</th>\n",
       "      <td>negative</td>\n",
       "      <td>Delta</td>\n",
       "      <td>Customer Service Issue</td>\n",
       "    </tr>\n",
       "    <tr>\n",
       "      <th>43</th>\n",
       "      <td>negative</td>\n",
       "      <td>Southwest</td>\n",
       "      <td>Flight Booking Problems</td>\n",
       "    </tr>\n",
       "    <tr>\n",
       "      <th>44</th>\n",
       "      <td>negative</td>\n",
       "      <td>Southwest</td>\n",
       "      <td>Customer Service Issue</td>\n",
       "    </tr>\n",
       "    <tr>\n",
       "      <th>45</th>\n",
       "      <td>negative</td>\n",
       "      <td>US Airways</td>\n",
       "      <td>Cancelled Flight</td>\n",
       "    </tr>\n",
       "    <tr>\n",
       "      <th>46</th>\n",
       "      <td>negative</td>\n",
       "      <td>US Airways</td>\n",
       "      <td>Cancelled Flight</td>\n",
       "    </tr>\n",
       "    <tr>\n",
       "      <th>47</th>\n",
       "      <td>negative</td>\n",
       "      <td>Southwest</td>\n",
       "      <td>Cancelled Flight</td>\n",
       "    </tr>\n",
       "    <tr>\n",
       "      <th>48</th>\n",
       "      <td>negative</td>\n",
       "      <td>US Airways</td>\n",
       "      <td>Customer Service Issue</td>\n",
       "    </tr>\n",
       "    <tr>\n",
       "      <th>49</th>\n",
       "      <td>negative</td>\n",
       "      <td>Southwest</td>\n",
       "      <td>Customer Service Issue</td>\n",
       "    </tr>\n",
       "    <tr>\n",
       "      <th>50</th>\n",
       "      <td>negative</td>\n",
       "      <td>Southwest</td>\n",
       "      <td>Customer Service Issue</td>\n",
       "    </tr>\n",
       "    <tr>\n",
       "      <th>51</th>\n",
       "      <td>negative</td>\n",
       "      <td>Southwest</td>\n",
       "      <td>Customer Service Issue</td>\n",
       "    </tr>\n",
       "    <tr>\n",
       "      <th>52</th>\n",
       "      <td>negative</td>\n",
       "      <td>Southwest</td>\n",
       "      <td>Late Flight</td>\n",
       "    </tr>\n",
       "    <tr>\n",
       "      <th>53</th>\n",
       "      <td>negative</td>\n",
       "      <td>United</td>\n",
       "      <td>Customer Service Issue</td>\n",
       "    </tr>\n",
       "    <tr>\n",
       "      <th>54</th>\n",
       "      <td>negative</td>\n",
       "      <td>US Airways</td>\n",
       "      <td>Customer Service Issue</td>\n",
       "    </tr>\n",
       "    <tr>\n",
       "      <th>55</th>\n",
       "      <td>negative</td>\n",
       "      <td>United</td>\n",
       "      <td>Customer Service Issue</td>\n",
       "    </tr>\n",
       "    <tr>\n",
       "      <th>56</th>\n",
       "      <td>negative</td>\n",
       "      <td>Southwest</td>\n",
       "      <td>Customer Service Issue</td>\n",
       "    </tr>\n",
       "    <tr>\n",
       "      <th>57</th>\n",
       "      <td>negative</td>\n",
       "      <td>Southwest</td>\n",
       "      <td>Flight Booking Problems</td>\n",
       "    </tr>\n",
       "    <tr>\n",
       "      <th>58</th>\n",
       "      <td>negative</td>\n",
       "      <td>Delta</td>\n",
       "      <td>Customer Service Issue</td>\n",
       "    </tr>\n",
       "    <tr>\n",
       "      <th>59</th>\n",
       "      <td>negative</td>\n",
       "      <td>US Airways</td>\n",
       "      <td>Can't Tell</td>\n",
       "    </tr>\n",
       "    <tr>\n",
       "      <th>60</th>\n",
       "      <td>negative</td>\n",
       "      <td>United</td>\n",
       "      <td>Bad Flight</td>\n",
       "    </tr>\n",
       "    <tr>\n",
       "      <th>61</th>\n",
       "      <td>negative</td>\n",
       "      <td>US Airways</td>\n",
       "      <td>Lost Luggage</td>\n",
       "    </tr>\n",
       "    <tr>\n",
       "      <th>62</th>\n",
       "      <td>negative</td>\n",
       "      <td>US Airways</td>\n",
       "      <td>Customer Service Issue</td>\n",
       "    </tr>\n",
       "    <tr>\n",
       "      <th>63</th>\n",
       "      <td>negative</td>\n",
       "      <td>US Airways</td>\n",
       "      <td>Bad Flight</td>\n",
       "    </tr>\n",
       "    <tr>\n",
       "      <th>64</th>\n",
       "      <td>negative</td>\n",
       "      <td>United</td>\n",
       "      <td>Can't Tell</td>\n",
       "    </tr>\n",
       "    <tr>\n",
       "      <th>65</th>\n",
       "      <td>negative</td>\n",
       "      <td>US Airways</td>\n",
       "      <td>Customer Service Issue</td>\n",
       "    </tr>\n",
       "    <tr>\n",
       "      <th>66</th>\n",
       "      <td>negative</td>\n",
       "      <td>US Airways</td>\n",
       "      <td>Late Flight</td>\n",
       "    </tr>\n",
       "    <tr>\n",
       "      <th>67</th>\n",
       "      <td>negative</td>\n",
       "      <td>US Airways</td>\n",
       "      <td>Late Flight</td>\n",
       "    </tr>\n",
       "    <tr>\n",
       "      <th>68</th>\n",
       "      <td>negative</td>\n",
       "      <td>United</td>\n",
       "      <td>Customer Service Issue</td>\n",
       "    </tr>\n",
       "    <tr>\n",
       "      <th>69</th>\n",
       "      <td>negative</td>\n",
       "      <td>Southwest</td>\n",
       "      <td>Bad Flight</td>\n",
       "    </tr>\n",
       "    <tr>\n",
       "      <th>70</th>\n",
       "      <td>negative</td>\n",
       "      <td>Southwest</td>\n",
       "      <td>Cancelled Flight</td>\n",
       "    </tr>\n",
       "    <tr>\n",
       "      <th>71</th>\n",
       "      <td>negative</td>\n",
       "      <td>United</td>\n",
       "      <td>Can't Tell</td>\n",
       "    </tr>\n",
       "    <tr>\n",
       "      <th>72</th>\n",
       "      <td>negative</td>\n",
       "      <td>US Airways</td>\n",
       "      <td>Cancelled Flight</td>\n",
       "    </tr>\n",
       "    <tr>\n",
       "      <th>73</th>\n",
       "      <td>negative</td>\n",
       "      <td>United</td>\n",
       "      <td>Late Flight</td>\n",
       "    </tr>\n",
       "    <tr>\n",
       "      <th>74</th>\n",
       "      <td>negative</td>\n",
       "      <td>Delta</td>\n",
       "      <td>Customer Service Issue</td>\n",
       "    </tr>\n",
       "    <tr>\n",
       "      <th>75</th>\n",
       "      <td>negative</td>\n",
       "      <td>US Airways</td>\n",
       "      <td>longlines</td>\n",
       "    </tr>\n",
       "    <tr>\n",
       "      <th>76</th>\n",
       "      <td>negative</td>\n",
       "      <td>Southwest</td>\n",
       "      <td>Flight Attendant Complaints</td>\n",
       "    </tr>\n",
       "    <tr>\n",
       "      <th>77</th>\n",
       "      <td>negative</td>\n",
       "      <td>US Airways</td>\n",
       "      <td>Customer Service Issue</td>\n",
       "    </tr>\n",
       "    <tr>\n",
       "      <th>78</th>\n",
       "      <td>negative</td>\n",
       "      <td>US Airways</td>\n",
       "      <td>Lost Luggage</td>\n",
       "    </tr>\n",
       "    <tr>\n",
       "      <th>79</th>\n",
       "      <td>negative</td>\n",
       "      <td>US Airways</td>\n",
       "      <td>Customer Service Issue</td>\n",
       "    </tr>\n",
       "    <tr>\n",
       "      <th>80</th>\n",
       "      <td>negative</td>\n",
       "      <td>US Airways</td>\n",
       "      <td>Customer Service Issue</td>\n",
       "    </tr>\n",
       "    <tr>\n",
       "      <th>81</th>\n",
       "      <td>negative</td>\n",
       "      <td>Southwest</td>\n",
       "      <td>Cancelled Flight</td>\n",
       "    </tr>\n",
       "    <tr>\n",
       "      <th>82</th>\n",
       "      <td>negative</td>\n",
       "      <td>Delta</td>\n",
       "      <td>Customer Service Issue</td>\n",
       "    </tr>\n",
       "    <tr>\n",
       "      <th>83</th>\n",
       "      <td>negative</td>\n",
       "      <td>US Airways</td>\n",
       "      <td>Late Flight</td>\n",
       "    </tr>\n",
       "    <tr>\n",
       "      <th>84</th>\n",
       "      <td>negative</td>\n",
       "      <td>US Airways</td>\n",
       "      <td>Flight Booking Problems</td>\n",
       "    </tr>\n",
       "    <tr>\n",
       "      <th>85</th>\n",
       "      <td>negative</td>\n",
       "      <td>US Airways</td>\n",
       "      <td>Customer Service Issue</td>\n",
       "    </tr>\n",
       "    <tr>\n",
       "      <th>86</th>\n",
       "      <td>negative</td>\n",
       "      <td>Southwest</td>\n",
       "      <td>Customer Service Issue</td>\n",
       "    </tr>\n",
       "    <tr>\n",
       "      <th>87</th>\n",
       "      <td>negative</td>\n",
       "      <td>US Airways</td>\n",
       "      <td>Cancelled Flight</td>\n",
       "    </tr>\n",
       "    <tr>\n",
       "      <th>88</th>\n",
       "      <td>negative</td>\n",
       "      <td>Delta</td>\n",
       "      <td>Customer Service Issue</td>\n",
       "    </tr>\n",
       "    <tr>\n",
       "      <th>89</th>\n",
       "      <td>negative</td>\n",
       "      <td>US Airways</td>\n",
       "      <td>Lost Luggage</td>\n",
       "    </tr>\n",
       "    <tr>\n",
       "      <th>90</th>\n",
       "      <td>negative</td>\n",
       "      <td>Southwest</td>\n",
       "      <td>Customer Service Issue</td>\n",
       "    </tr>\n",
       "    <tr>\n",
       "      <th>91</th>\n",
       "      <td>negative</td>\n",
       "      <td>US Airways</td>\n",
       "      <td>Customer Service Issue</td>\n",
       "    </tr>\n",
       "    <tr>\n",
       "      <th>92</th>\n",
       "      <td>negative</td>\n",
       "      <td>US Airways</td>\n",
       "      <td>Customer Service Issue</td>\n",
       "    </tr>\n",
       "    <tr>\n",
       "      <th>93</th>\n",
       "      <td>negative</td>\n",
       "      <td>US Airways</td>\n",
       "      <td>Lost Luggage</td>\n",
       "    </tr>\n",
       "    <tr>\n",
       "      <th>94</th>\n",
       "      <td>negative</td>\n",
       "      <td>Southwest</td>\n",
       "      <td>Customer Service Issue</td>\n",
       "    </tr>\n",
       "    <tr>\n",
       "      <th>95</th>\n",
       "      <td>negative</td>\n",
       "      <td>United</td>\n",
       "      <td>Can't Tell</td>\n",
       "    </tr>\n",
       "    <tr>\n",
       "      <th>96</th>\n",
       "      <td>negative</td>\n",
       "      <td>US Airways</td>\n",
       "      <td>Customer Service Issue</td>\n",
       "    </tr>\n",
       "    <tr>\n",
       "      <th>97</th>\n",
       "      <td>negative</td>\n",
       "      <td>United</td>\n",
       "      <td>Late Flight</td>\n",
       "    </tr>\n",
       "    <tr>\n",
       "      <th>98</th>\n",
       "      <td>negative</td>\n",
       "      <td>Southwest</td>\n",
       "      <td>Customer Service Issue</td>\n",
       "    </tr>\n",
       "    <tr>\n",
       "      <th>99</th>\n",
       "      <td>negative</td>\n",
       "      <td>US Airways</td>\n",
       "      <td>Customer Service Issue</td>\n",
       "    </tr>\n",
       "    <tr>\n",
       "      <th>100</th>\n",
       "      <td>negative</td>\n",
       "      <td>Southwest</td>\n",
       "      <td>Customer Service Issue</td>\n",
       "    </tr>\n",
       "    <tr>\n",
       "      <th>101</th>\n",
       "      <td>negative</td>\n",
       "      <td>United</td>\n",
       "      <td>Late Flight</td>\n",
       "    </tr>\n",
       "    <tr>\n",
       "      <th>102</th>\n",
       "      <td>negative</td>\n",
       "      <td>Southwest</td>\n",
       "      <td>Customer Service Issue</td>\n",
       "    </tr>\n",
       "    <tr>\n",
       "      <th>103</th>\n",
       "      <td>negative</td>\n",
       "      <td>US Airways</td>\n",
       "      <td>Cancelled Flight</td>\n",
       "    </tr>\n",
       "    <tr>\n",
       "      <th>104</th>\n",
       "      <td>negative</td>\n",
       "      <td>Southwest</td>\n",
       "      <td>Customer Service Issue</td>\n",
       "    </tr>\n",
       "    <tr>\n",
       "      <th>105</th>\n",
       "      <td>negative</td>\n",
       "      <td>United</td>\n",
       "      <td>Customer Service Issue</td>\n",
       "    </tr>\n",
       "    <tr>\n",
       "      <th>106</th>\n",
       "      <td>negative</td>\n",
       "      <td>United</td>\n",
       "      <td>Flight Attendant Complaints</td>\n",
       "    </tr>\n",
       "    <tr>\n",
       "      <th>107</th>\n",
       "      <td>negative</td>\n",
       "      <td>US Airways</td>\n",
       "      <td>Customer Service Issue</td>\n",
       "    </tr>\n",
       "    <tr>\n",
       "      <th>108</th>\n",
       "      <td>negative</td>\n",
       "      <td>United</td>\n",
       "      <td>Flight Attendant Complaints</td>\n",
       "    </tr>\n",
       "    <tr>\n",
       "      <th>109</th>\n",
       "      <td>negative</td>\n",
       "      <td>US Airways</td>\n",
       "      <td>Flight Booking Problems</td>\n",
       "    </tr>\n",
       "    <tr>\n",
       "      <th>110</th>\n",
       "      <td>negative</td>\n",
       "      <td>United</td>\n",
       "      <td>Flight Attendant Complaints</td>\n",
       "    </tr>\n",
       "    <tr>\n",
       "      <th>111</th>\n",
       "      <td>negative</td>\n",
       "      <td>Southwest</td>\n",
       "      <td>Customer Service Issue</td>\n",
       "    </tr>\n",
       "    <tr>\n",
       "      <th>112</th>\n",
       "      <td>negative</td>\n",
       "      <td>US Airways</td>\n",
       "      <td>Customer Service Issue</td>\n",
       "    </tr>\n",
       "    <tr>\n",
       "      <th>113</th>\n",
       "      <td>negative</td>\n",
       "      <td>Delta</td>\n",
       "      <td>Late Flight</td>\n",
       "    </tr>\n",
       "    <tr>\n",
       "      <th>114</th>\n",
       "      <td>negative</td>\n",
       "      <td>US Airways</td>\n",
       "      <td>Cancelled Flight</td>\n",
       "    </tr>\n",
       "    <tr>\n",
       "      <th>115</th>\n",
       "      <td>negative</td>\n",
       "      <td>Southwest</td>\n",
       "      <td>Customer Service Issue</td>\n",
       "    </tr>\n",
       "    <tr>\n",
       "      <th>116</th>\n",
       "      <td>negative</td>\n",
       "      <td>US Airways</td>\n",
       "      <td>Late Flight</td>\n",
       "    </tr>\n",
       "    <tr>\n",
       "      <th>117</th>\n",
       "      <td>negative</td>\n",
       "      <td>Delta</td>\n",
       "      <td>Customer Service Issue</td>\n",
       "    </tr>\n",
       "    <tr>\n",
       "      <th>118</th>\n",
       "      <td>negative</td>\n",
       "      <td>Delta</td>\n",
       "      <td>Can't Tell</td>\n",
       "    </tr>\n",
       "    <tr>\n",
       "      <th>119</th>\n",
       "      <td>negative</td>\n",
       "      <td>Southwest</td>\n",
       "      <td>Customer Service Issue</td>\n",
       "    </tr>\n",
       "    <tr>\n",
       "      <th>120</th>\n",
       "      <td>negative</td>\n",
       "      <td>United</td>\n",
       "      <td>Cancelled Flight</td>\n",
       "    </tr>\n",
       "    <tr>\n",
       "      <th>121</th>\n",
       "      <td>negative</td>\n",
       "      <td>US Airways</td>\n",
       "      <td>Customer Service Issue</td>\n",
       "    </tr>\n",
       "    <tr>\n",
       "      <th>122</th>\n",
       "      <td>negative</td>\n",
       "      <td>US Airways</td>\n",
       "      <td>longlines</td>\n",
       "    </tr>\n",
       "    <tr>\n",
       "      <th>123</th>\n",
       "      <td>negative</td>\n",
       "      <td>US Airways</td>\n",
       "      <td>Customer Service Issue</td>\n",
       "    </tr>\n",
       "    <tr>\n",
       "      <th>124</th>\n",
       "      <td>negative</td>\n",
       "      <td>US Airways</td>\n",
       "      <td>Can't Tell</td>\n",
       "    </tr>\n",
       "    <tr>\n",
       "      <th>125</th>\n",
       "      <td>negative</td>\n",
       "      <td>United</td>\n",
       "      <td>Can't Tell</td>\n",
       "    </tr>\n",
       "    <tr>\n",
       "      <th>126</th>\n",
       "      <td>negative</td>\n",
       "      <td>Delta</td>\n",
       "      <td>Late Flight</td>\n",
       "    </tr>\n",
       "    <tr>\n",
       "      <th>127</th>\n",
       "      <td>negative</td>\n",
       "      <td>Southwest</td>\n",
       "      <td>Can't Tell</td>\n",
       "    </tr>\n",
       "    <tr>\n",
       "      <th>128</th>\n",
       "      <td>negative</td>\n",
       "      <td>US Airways</td>\n",
       "      <td>Cancelled Flight</td>\n",
       "    </tr>\n",
       "    <tr>\n",
       "      <th>129</th>\n",
       "      <td>negative</td>\n",
       "      <td>United</td>\n",
       "      <td>Cancelled Flight</td>\n",
       "    </tr>\n",
       "    <tr>\n",
       "      <th>130</th>\n",
       "      <td>negative</td>\n",
       "      <td>US Airways</td>\n",
       "      <td>Customer Service Issue</td>\n",
       "    </tr>\n",
       "    <tr>\n",
       "      <th>131</th>\n",
       "      <td>negative</td>\n",
       "      <td>US Airways</td>\n",
       "      <td>Cancelled Flight</td>\n",
       "    </tr>\n",
       "    <tr>\n",
       "      <th>132</th>\n",
       "      <td>negative</td>\n",
       "      <td>Southwest</td>\n",
       "      <td>Customer Service Issue</td>\n",
       "    </tr>\n",
       "    <tr>\n",
       "      <th>133</th>\n",
       "      <td>negative</td>\n",
       "      <td>Southwest</td>\n",
       "      <td>Cancelled Flight</td>\n",
       "    </tr>\n",
       "    <tr>\n",
       "      <th>134</th>\n",
       "      <td>negative</td>\n",
       "      <td>US Airways</td>\n",
       "      <td>Cancelled Flight</td>\n",
       "    </tr>\n",
       "    <tr>\n",
       "      <th>135</th>\n",
       "      <td>negative</td>\n",
       "      <td>United</td>\n",
       "      <td>Cancelled Flight</td>\n",
       "    </tr>\n",
       "    <tr>\n",
       "      <th>136</th>\n",
       "      <td>negative</td>\n",
       "      <td>US Airways</td>\n",
       "      <td>Customer Service Issue</td>\n",
       "    </tr>\n",
       "    <tr>\n",
       "      <th>137</th>\n",
       "      <td>negative</td>\n",
       "      <td>United</td>\n",
       "      <td>Damaged Luggage</td>\n",
       "    </tr>\n",
       "    <tr>\n",
       "      <th>138</th>\n",
       "      <td>negative</td>\n",
       "      <td>Southwest</td>\n",
       "      <td>Customer Service Issue</td>\n",
       "    </tr>\n",
       "    <tr>\n",
       "      <th>139</th>\n",
       "      <td>negative</td>\n",
       "      <td>Southwest</td>\n",
       "      <td>Can't Tell</td>\n",
       "    </tr>\n",
       "    <tr>\n",
       "      <th>140</th>\n",
       "      <td>negative</td>\n",
       "      <td>Delta</td>\n",
       "      <td>Customer Service Issue</td>\n",
       "    </tr>\n",
       "    <tr>\n",
       "      <th>141</th>\n",
       "      <td>negative</td>\n",
       "      <td>Southwest</td>\n",
       "      <td>Customer Service Issue</td>\n",
       "    </tr>\n",
       "    <tr>\n",
       "      <th>142</th>\n",
       "      <td>negative</td>\n",
       "      <td>Southwest</td>\n",
       "      <td>Customer Service Issue</td>\n",
       "    </tr>\n",
       "    <tr>\n",
       "      <th>143</th>\n",
       "      <td>negative</td>\n",
       "      <td>Delta</td>\n",
       "      <td>Cancelled Flight</td>\n",
       "    </tr>\n",
       "    <tr>\n",
       "      <th>144</th>\n",
       "      <td>negative</td>\n",
       "      <td>Southwest</td>\n",
       "      <td>Cancelled Flight</td>\n",
       "    </tr>\n",
       "    <tr>\n",
       "      <th>145</th>\n",
       "      <td>negative</td>\n",
       "      <td>Delta</td>\n",
       "      <td>Late Flight</td>\n",
       "    </tr>\n",
       "    <tr>\n",
       "      <th>146</th>\n",
       "      <td>negative</td>\n",
       "      <td>Southwest</td>\n",
       "      <td>Customer Service Issue</td>\n",
       "    </tr>\n",
       "    <tr>\n",
       "      <th>147</th>\n",
       "      <td>negative</td>\n",
       "      <td>US Airways</td>\n",
       "      <td>Flight Booking Problems</td>\n",
       "    </tr>\n",
       "    <tr>\n",
       "      <th>148</th>\n",
       "      <td>negative</td>\n",
       "      <td>Southwest</td>\n",
       "      <td>Cancelled Flight</td>\n",
       "    </tr>\n",
       "    <tr>\n",
       "      <th>149</th>\n",
       "      <td>negative</td>\n",
       "      <td>United</td>\n",
       "      <td>Late Flight</td>\n",
       "    </tr>\n",
       "    <tr>\n",
       "      <th>150</th>\n",
       "      <td>negative</td>\n",
       "      <td>United</td>\n",
       "      <td>Customer Service Issue</td>\n",
       "    </tr>\n",
       "    <tr>\n",
       "      <th>151</th>\n",
       "      <td>negative</td>\n",
       "      <td>Southwest</td>\n",
       "      <td>Can't Tell</td>\n",
       "    </tr>\n",
       "    <tr>\n",
       "      <th>152</th>\n",
       "      <td>negative</td>\n",
       "      <td>Southwest</td>\n",
       "      <td>Flight Booking Problems</td>\n",
       "    </tr>\n",
       "    <tr>\n",
       "      <th>153</th>\n",
       "      <td>negative</td>\n",
       "      <td>US Airways</td>\n",
       "      <td>Late Flight</td>\n",
       "    </tr>\n",
       "    <tr>\n",
       "      <th>154</th>\n",
       "      <td>negative</td>\n",
       "      <td>Delta</td>\n",
       "      <td>Cancelled Flight</td>\n",
       "    </tr>\n",
       "    <tr>\n",
       "      <th>155</th>\n",
       "      <td>negative</td>\n",
       "      <td>United</td>\n",
       "      <td>Customer Service Issue</td>\n",
       "    </tr>\n",
       "    <tr>\n",
       "      <th>156</th>\n",
       "      <td>negative</td>\n",
       "      <td>US Airways</td>\n",
       "      <td>Lost Luggage</td>\n",
       "    </tr>\n",
       "    <tr>\n",
       "      <th>157</th>\n",
       "      <td>negative</td>\n",
       "      <td>United</td>\n",
       "      <td>Flight Booking Problems</td>\n",
       "    </tr>\n",
       "    <tr>\n",
       "      <th>158</th>\n",
       "      <td>negative</td>\n",
       "      <td>US Airways</td>\n",
       "      <td>Cancelled Flight</td>\n",
       "    </tr>\n",
       "    <tr>\n",
       "      <th>159</th>\n",
       "      <td>negative</td>\n",
       "      <td>Virgin America</td>\n",
       "      <td>Customer Service Issue</td>\n",
       "    </tr>\n",
       "    <tr>\n",
       "      <th>160</th>\n",
       "      <td>negative</td>\n",
       "      <td>Southwest</td>\n",
       "      <td>Cancelled Flight</td>\n",
       "    </tr>\n",
       "    <tr>\n",
       "      <th>161</th>\n",
       "      <td>negative</td>\n",
       "      <td>United</td>\n",
       "      <td>Customer Service Issue</td>\n",
       "    </tr>\n",
       "    <tr>\n",
       "      <th>162</th>\n",
       "      <td>negative</td>\n",
       "      <td>Southwest</td>\n",
       "      <td>Customer Service Issue</td>\n",
       "    </tr>\n",
       "    <tr>\n",
       "      <th>163</th>\n",
       "      <td>negative</td>\n",
       "      <td>US Airways</td>\n",
       "      <td>Customer Service Issue</td>\n",
       "    </tr>\n",
       "    <tr>\n",
       "      <th>164</th>\n",
       "      <td>negative</td>\n",
       "      <td>United</td>\n",
       "      <td>Customer Service Issue</td>\n",
       "    </tr>\n",
       "    <tr>\n",
       "      <th>165</th>\n",
       "      <td>negative</td>\n",
       "      <td>United</td>\n",
       "      <td>Lost Luggage</td>\n",
       "    </tr>\n",
       "    <tr>\n",
       "      <th>166</th>\n",
       "      <td>negative</td>\n",
       "      <td>United</td>\n",
       "      <td>Late Flight</td>\n",
       "    </tr>\n",
       "    <tr>\n",
       "      <th>167</th>\n",
       "      <td>negative</td>\n",
       "      <td>United</td>\n",
       "      <td>Late Flight</td>\n",
       "    </tr>\n",
       "    <tr>\n",
       "      <th>168</th>\n",
       "      <td>negative</td>\n",
       "      <td>US Airways</td>\n",
       "      <td>Customer Service Issue</td>\n",
       "    </tr>\n",
       "    <tr>\n",
       "      <th>169</th>\n",
       "      <td>negative</td>\n",
       "      <td>Virgin America</td>\n",
       "      <td>Late Flight</td>\n",
       "    </tr>\n",
       "    <tr>\n",
       "      <th>170</th>\n",
       "      <td>negative</td>\n",
       "      <td>United</td>\n",
       "      <td>Bad Flight</td>\n",
       "    </tr>\n",
       "    <tr>\n",
       "      <th>171</th>\n",
       "      <td>negative</td>\n",
       "      <td>United</td>\n",
       "      <td>Late Flight</td>\n",
       "    </tr>\n",
       "    <tr>\n",
       "      <th>172</th>\n",
       "      <td>negative</td>\n",
       "      <td>US Airways</td>\n",
       "      <td>Customer Service Issue</td>\n",
       "    </tr>\n",
       "    <tr>\n",
       "      <th>173</th>\n",
       "      <td>negative</td>\n",
       "      <td>Delta</td>\n",
       "      <td>Cancelled Flight</td>\n",
       "    </tr>\n",
       "    <tr>\n",
       "      <th>174</th>\n",
       "      <td>negative</td>\n",
       "      <td>US Airways</td>\n",
       "      <td>Cancelled Flight</td>\n",
       "    </tr>\n",
       "    <tr>\n",
       "      <th>175</th>\n",
       "      <td>negative</td>\n",
       "      <td>Southwest</td>\n",
       "      <td>Customer Service Issue</td>\n",
       "    </tr>\n",
       "    <tr>\n",
       "      <th>176</th>\n",
       "      <td>negative</td>\n",
       "      <td>Southwest</td>\n",
       "      <td>Lost Luggage</td>\n",
       "    </tr>\n",
       "    <tr>\n",
       "      <th>177</th>\n",
       "      <td>negative</td>\n",
       "      <td>Southwest</td>\n",
       "      <td>Customer Service Issue</td>\n",
       "    </tr>\n",
       "    <tr>\n",
       "      <th>178</th>\n",
       "      <td>negative</td>\n",
       "      <td>Southwest</td>\n",
       "      <td>Cancelled Flight</td>\n",
       "    </tr>\n",
       "    <tr>\n",
       "      <th>179</th>\n",
       "      <td>negative</td>\n",
       "      <td>United</td>\n",
       "      <td>Late Flight</td>\n",
       "    </tr>\n",
       "    <tr>\n",
       "      <th>180</th>\n",
       "      <td>negative</td>\n",
       "      <td>Southwest</td>\n",
       "      <td>Customer Service Issue</td>\n",
       "    </tr>\n",
       "    <tr>\n",
       "      <th>181</th>\n",
       "      <td>negative</td>\n",
       "      <td>United</td>\n",
       "      <td>Bad Flight</td>\n",
       "    </tr>\n",
       "    <tr>\n",
       "      <th>182</th>\n",
       "      <td>negative</td>\n",
       "      <td>Virgin America</td>\n",
       "      <td>Bad Flight</td>\n",
       "    </tr>\n",
       "    <tr>\n",
       "      <th>183</th>\n",
       "      <td>negative</td>\n",
       "      <td>US Airways</td>\n",
       "      <td>Flight Attendant Complaints</td>\n",
       "    </tr>\n",
       "    <tr>\n",
       "      <th>184</th>\n",
       "      <td>negative</td>\n",
       "      <td>United</td>\n",
       "      <td>Lost Luggage</td>\n",
       "    </tr>\n",
       "    <tr>\n",
       "      <th>185</th>\n",
       "      <td>negative</td>\n",
       "      <td>Southwest</td>\n",
       "      <td>Cancelled Flight</td>\n",
       "    </tr>\n",
       "    <tr>\n",
       "      <th>186</th>\n",
       "      <td>negative</td>\n",
       "      <td>Southwest</td>\n",
       "      <td>Can't Tell</td>\n",
       "    </tr>\n",
       "    <tr>\n",
       "      <th>187</th>\n",
       "      <td>negative</td>\n",
       "      <td>Southwest</td>\n",
       "      <td>Customer Service Issue</td>\n",
       "    </tr>\n",
       "    <tr>\n",
       "      <th>188</th>\n",
       "      <td>negative</td>\n",
       "      <td>Southwest</td>\n",
       "      <td>Cancelled Flight</td>\n",
       "    </tr>\n",
       "    <tr>\n",
       "      <th>189</th>\n",
       "      <td>negative</td>\n",
       "      <td>US Airways</td>\n",
       "      <td>Can't Tell</td>\n",
       "    </tr>\n",
       "    <tr>\n",
       "      <th>190</th>\n",
       "      <td>negative</td>\n",
       "      <td>Southwest</td>\n",
       "      <td>Customer Service Issue</td>\n",
       "    </tr>\n",
       "    <tr>\n",
       "      <th>191</th>\n",
       "      <td>negative</td>\n",
       "      <td>Southwest</td>\n",
       "      <td>Flight Booking Problems</td>\n",
       "    </tr>\n",
       "    <tr>\n",
       "      <th>192</th>\n",
       "      <td>negative</td>\n",
       "      <td>Southwest</td>\n",
       "      <td>Customer Service Issue</td>\n",
       "    </tr>\n",
       "    <tr>\n",
       "      <th>193</th>\n",
       "      <td>negative</td>\n",
       "      <td>Southwest</td>\n",
       "      <td>Cancelled Flight</td>\n",
       "    </tr>\n",
       "    <tr>\n",
       "      <th>194</th>\n",
       "      <td>negative</td>\n",
       "      <td>United</td>\n",
       "      <td>Flight Booking Problems</td>\n",
       "    </tr>\n",
       "    <tr>\n",
       "      <th>195</th>\n",
       "      <td>negative</td>\n",
       "      <td>Southwest</td>\n",
       "      <td>Late Flight</td>\n",
       "    </tr>\n",
       "    <tr>\n",
       "      <th>196</th>\n",
       "      <td>negative</td>\n",
       "      <td>Southwest</td>\n",
       "      <td>Customer Service Issue</td>\n",
       "    </tr>\n",
       "    <tr>\n",
       "      <th>197</th>\n",
       "      <td>negative</td>\n",
       "      <td>United</td>\n",
       "      <td>Late Flight</td>\n",
       "    </tr>\n",
       "    <tr>\n",
       "      <th>198</th>\n",
       "      <td>negative</td>\n",
       "      <td>Delta</td>\n",
       "      <td>Customer Service Issue</td>\n",
       "    </tr>\n",
       "    <tr>\n",
       "      <th>199</th>\n",
       "      <td>negative</td>\n",
       "      <td>Southwest</td>\n",
       "      <td>Customer Service Issue</td>\n",
       "    </tr>\n",
       "  </tbody>\n",
       "</table>\n",
       "</div>"
      ],
      "text/plain": [
       "    airline_sentiment         airline               negativereason\n",
       "0            negative           Delta                   Can't Tell\n",
       "1            negative          United                  Late Flight\n",
       "2            negative          United                  Late Flight\n",
       "3            negative       Southwest       Customer Service Issue\n",
       "4            negative          United                   Bad Flight\n",
       "5            negative          United                  Late Flight\n",
       "6            negative          United       Customer Service Issue\n",
       "7            negative       Southwest       Customer Service Issue\n",
       "8            negative          United       Customer Service Issue\n",
       "9            negative          United      Flight Booking Problems\n",
       "10           negative          United                   Bad Flight\n",
       "11           negative          United       Customer Service Issue\n",
       "12           negative          United                 Lost Luggage\n",
       "13           negative       Southwest                  Late Flight\n",
       "14           negative      US Airways       Customer Service Issue\n",
       "15           negative          United                  Late Flight\n",
       "16           negative       Southwest       Customer Service Issue\n",
       "17           negative      US Airways       Customer Service Issue\n",
       "18           negative       Southwest             Cancelled Flight\n",
       "19           negative       Southwest  Flight Attendant Complaints\n",
       "20           negative       Southwest      Flight Booking Problems\n",
       "21           negative           Delta                  Late Flight\n",
       "22           negative           Delta                  Late Flight\n",
       "23           negative      US Airways       Customer Service Issue\n",
       "24           negative       Southwest             Cancelled Flight\n",
       "25           negative          United                  Late Flight\n",
       "26           negative       Southwest                   Can't Tell\n",
       "27           negative      US Airways       Customer Service Issue\n",
       "28           negative      US Airways                  Late Flight\n",
       "29           negative       Southwest       Customer Service Issue\n",
       "30           negative          United  Flight Attendant Complaints\n",
       "31           negative          United                    longlines\n",
       "32           negative       Southwest       Customer Service Issue\n",
       "33           negative       Southwest       Customer Service Issue\n",
       "34           negative          United                   Bad Flight\n",
       "35           negative       Southwest                  Late Flight\n",
       "36           negative          United                   Can't Tell\n",
       "37           negative      US Airways                   Bad Flight\n",
       "38           negative       Southwest       Customer Service Issue\n",
       "39           negative      US Airways                   Bad Flight\n",
       "40           negative       Southwest       Customer Service Issue\n",
       "41           negative       Southwest                  Late Flight\n",
       "42           negative           Delta       Customer Service Issue\n",
       "43           negative       Southwest      Flight Booking Problems\n",
       "44           negative       Southwest       Customer Service Issue\n",
       "45           negative      US Airways             Cancelled Flight\n",
       "46           negative      US Airways             Cancelled Flight\n",
       "47           negative       Southwest             Cancelled Flight\n",
       "48           negative      US Airways       Customer Service Issue\n",
       "49           negative       Southwest       Customer Service Issue\n",
       "50           negative       Southwest       Customer Service Issue\n",
       "51           negative       Southwest       Customer Service Issue\n",
       "52           negative       Southwest                  Late Flight\n",
       "53           negative          United       Customer Service Issue\n",
       "54           negative      US Airways       Customer Service Issue\n",
       "55           negative          United       Customer Service Issue\n",
       "56           negative       Southwest       Customer Service Issue\n",
       "57           negative       Southwest      Flight Booking Problems\n",
       "58           negative           Delta       Customer Service Issue\n",
       "59           negative      US Airways                   Can't Tell\n",
       "60           negative          United                   Bad Flight\n",
       "61           negative      US Airways                 Lost Luggage\n",
       "62           negative      US Airways       Customer Service Issue\n",
       "63           negative      US Airways                   Bad Flight\n",
       "64           negative          United                   Can't Tell\n",
       "65           negative      US Airways       Customer Service Issue\n",
       "66           negative      US Airways                  Late Flight\n",
       "67           negative      US Airways                  Late Flight\n",
       "68           negative          United       Customer Service Issue\n",
       "69           negative       Southwest                   Bad Flight\n",
       "70           negative       Southwest             Cancelled Flight\n",
       "71           negative          United                   Can't Tell\n",
       "72           negative      US Airways             Cancelled Flight\n",
       "73           negative          United                  Late Flight\n",
       "74           negative           Delta       Customer Service Issue\n",
       "75           negative      US Airways                    longlines\n",
       "76           negative       Southwest  Flight Attendant Complaints\n",
       "77           negative      US Airways       Customer Service Issue\n",
       "78           negative      US Airways                 Lost Luggage\n",
       "79           negative      US Airways       Customer Service Issue\n",
       "80           negative      US Airways       Customer Service Issue\n",
       "81           negative       Southwest             Cancelled Flight\n",
       "82           negative           Delta       Customer Service Issue\n",
       "83           negative      US Airways                  Late Flight\n",
       "84           negative      US Airways      Flight Booking Problems\n",
       "85           negative      US Airways       Customer Service Issue\n",
       "86           negative       Southwest       Customer Service Issue\n",
       "87           negative      US Airways             Cancelled Flight\n",
       "88           negative           Delta       Customer Service Issue\n",
       "89           negative      US Airways                 Lost Luggage\n",
       "90           negative       Southwest       Customer Service Issue\n",
       "91           negative      US Airways       Customer Service Issue\n",
       "92           negative      US Airways       Customer Service Issue\n",
       "93           negative      US Airways                 Lost Luggage\n",
       "94           negative       Southwest       Customer Service Issue\n",
       "95           negative          United                   Can't Tell\n",
       "96           negative      US Airways       Customer Service Issue\n",
       "97           negative          United                  Late Flight\n",
       "98           negative       Southwest       Customer Service Issue\n",
       "99           negative      US Airways       Customer Service Issue\n",
       "100          negative       Southwest       Customer Service Issue\n",
       "101          negative          United                  Late Flight\n",
       "102          negative       Southwest       Customer Service Issue\n",
       "103          negative      US Airways             Cancelled Flight\n",
       "104          negative       Southwest       Customer Service Issue\n",
       "105          negative          United       Customer Service Issue\n",
       "106          negative          United  Flight Attendant Complaints\n",
       "107          negative      US Airways       Customer Service Issue\n",
       "108          negative          United  Flight Attendant Complaints\n",
       "109          negative      US Airways      Flight Booking Problems\n",
       "110          negative          United  Flight Attendant Complaints\n",
       "111          negative       Southwest       Customer Service Issue\n",
       "112          negative      US Airways       Customer Service Issue\n",
       "113          negative           Delta                  Late Flight\n",
       "114          negative      US Airways             Cancelled Flight\n",
       "115          negative       Southwest       Customer Service Issue\n",
       "116          negative      US Airways                  Late Flight\n",
       "117          negative           Delta       Customer Service Issue\n",
       "118          negative           Delta                   Can't Tell\n",
       "119          negative       Southwest       Customer Service Issue\n",
       "120          negative          United             Cancelled Flight\n",
       "121          negative      US Airways       Customer Service Issue\n",
       "122          negative      US Airways                    longlines\n",
       "123          negative      US Airways       Customer Service Issue\n",
       "124          negative      US Airways                   Can't Tell\n",
       "125          negative          United                   Can't Tell\n",
       "126          negative           Delta                  Late Flight\n",
       "127          negative       Southwest                   Can't Tell\n",
       "128          negative      US Airways             Cancelled Flight\n",
       "129          negative          United             Cancelled Flight\n",
       "130          negative      US Airways       Customer Service Issue\n",
       "131          negative      US Airways             Cancelled Flight\n",
       "132          negative       Southwest       Customer Service Issue\n",
       "133          negative       Southwest             Cancelled Flight\n",
       "134          negative      US Airways             Cancelled Flight\n",
       "135          negative          United             Cancelled Flight\n",
       "136          negative      US Airways       Customer Service Issue\n",
       "137          negative          United              Damaged Luggage\n",
       "138          negative       Southwest       Customer Service Issue\n",
       "139          negative       Southwest                   Can't Tell\n",
       "140          negative           Delta       Customer Service Issue\n",
       "141          negative       Southwest       Customer Service Issue\n",
       "142          negative       Southwest       Customer Service Issue\n",
       "143          negative           Delta             Cancelled Flight\n",
       "144          negative       Southwest             Cancelled Flight\n",
       "145          negative           Delta                  Late Flight\n",
       "146          negative       Southwest       Customer Service Issue\n",
       "147          negative      US Airways      Flight Booking Problems\n",
       "148          negative       Southwest             Cancelled Flight\n",
       "149          negative          United                  Late Flight\n",
       "150          negative          United       Customer Service Issue\n",
       "151          negative       Southwest                   Can't Tell\n",
       "152          negative       Southwest      Flight Booking Problems\n",
       "153          negative      US Airways                  Late Flight\n",
       "154          negative           Delta             Cancelled Flight\n",
       "155          negative          United       Customer Service Issue\n",
       "156          negative      US Airways                 Lost Luggage\n",
       "157          negative          United      Flight Booking Problems\n",
       "158          negative      US Airways             Cancelled Flight\n",
       "159          negative  Virgin America       Customer Service Issue\n",
       "160          negative       Southwest             Cancelled Flight\n",
       "161          negative          United       Customer Service Issue\n",
       "162          negative       Southwest       Customer Service Issue\n",
       "163          negative      US Airways       Customer Service Issue\n",
       "164          negative          United       Customer Service Issue\n",
       "165          negative          United                 Lost Luggage\n",
       "166          negative          United                  Late Flight\n",
       "167          negative          United                  Late Flight\n",
       "168          negative      US Airways       Customer Service Issue\n",
       "169          negative  Virgin America                  Late Flight\n",
       "170          negative          United                   Bad Flight\n",
       "171          negative          United                  Late Flight\n",
       "172          negative      US Airways       Customer Service Issue\n",
       "173          negative           Delta             Cancelled Flight\n",
       "174          negative      US Airways             Cancelled Flight\n",
       "175          negative       Southwest       Customer Service Issue\n",
       "176          negative       Southwest                 Lost Luggage\n",
       "177          negative       Southwest       Customer Service Issue\n",
       "178          negative       Southwest             Cancelled Flight\n",
       "179          negative          United                  Late Flight\n",
       "180          negative       Southwest       Customer Service Issue\n",
       "181          negative          United                   Bad Flight\n",
       "182          negative  Virgin America                   Bad Flight\n",
       "183          negative      US Airways  Flight Attendant Complaints\n",
       "184          negative          United                 Lost Luggage\n",
       "185          negative       Southwest             Cancelled Flight\n",
       "186          negative       Southwest                   Can't Tell\n",
       "187          negative       Southwest       Customer Service Issue\n",
       "188          negative       Southwest             Cancelled Flight\n",
       "189          negative      US Airways                   Can't Tell\n",
       "190          negative       Southwest       Customer Service Issue\n",
       "191          negative       Southwest      Flight Booking Problems\n",
       "192          negative       Southwest       Customer Service Issue\n",
       "193          negative       Southwest             Cancelled Flight\n",
       "194          negative          United      Flight Booking Problems\n",
       "195          negative       Southwest                  Late Flight\n",
       "196          negative       Southwest       Customer Service Issue\n",
       "197          negative          United                  Late Flight\n",
       "198          negative           Delta       Customer Service Issue\n",
       "199          negative       Southwest       Customer Service Issue"
      ]
     },
     "execution_count": 43,
     "metadata": {},
     "output_type": "execute_result"
    }
   ],
   "source": [
    "# writting sql query\n",
    "sql_query = \"\"\"\n",
    "    SELECT airline_sentiment,airline, negativereason\n",
    "    FROM Tweets\n",
    "    WHERE airline_sentiment = 'negative';\n",
    "\"\"\"\n",
    "\n",
    "# Grabbing results from SQL \n",
    "airline_tweets_df = pd.read_sql(sql_query, engine)\n",
    "\n",
    "# Printing games data\n",
    "airline_tweets_df.head(200)"
   ]
  },
  {
   "cell_type": "markdown",
   "metadata": {},
   "source": [
    "## Counting the amount of Bad reviews for each reason based on each airline"
   ]
  },
  {
   "cell_type": "code",
   "execution_count": 46,
   "metadata": {},
   "outputs": [],
   "source": [
    "airline_data = airline_tweets_df.groupby(['airline', 'negativereason']).size().reset_index(name='count')\n"
   ]
  },
  {
   "cell_type": "code",
   "execution_count": 48,
   "metadata": {},
   "outputs": [
    {
     "data": {
      "application/vnd.plotly.v1+json": {
       "config": {
        "plotlyServerURL": "https://plot.ly"
       },
       "data": [
        {
         "alignmentgroup": "True",
         "hovertemplate": "negativereason=%{x}<br>count=%{y}<extra></extra>",
         "legendgroup": "",
         "marker": {
          "color": "pink",
          "pattern": {
           "shape": ""
          }
         },
         "name": "",
         "offsetgroup": "",
         "orientation": "v",
         "showlegend": false,
         "textposition": "auto",
         "type": "bar",
         "x": [
          "Bad Flight",
          "Can't Tell",
          "Cancelled Flight",
          "Customer Service Issue",
          "Damaged Luggage",
          "Flight Attendant Complaints",
          "Flight Booking Problems",
          "Late Flight",
          "Lost Luggage",
          "longlines"
         ],
         "xaxis": "x",
         "y": [
          82,
          184,
          228,
          743,
          11,
          81,
          124,
          234,
          144,
          33
         ],
         "yaxis": "y"
        }
       ],
       "layout": {
        "barmode": "relative",
        "legend": {
         "tracegroupgap": 0
        },
        "template": {
         "data": {
          "bar": [
           {
            "error_x": {
             "color": "#2a3f5f"
            },
            "error_y": {
             "color": "#2a3f5f"
            },
            "marker": {
             "line": {
              "color": "#E5ECF6",
              "width": 0.5
             },
             "pattern": {
              "fillmode": "overlay",
              "size": 10,
              "solidity": 0.2
             }
            },
            "type": "bar"
           }
          ],
          "barpolar": [
           {
            "marker": {
             "line": {
              "color": "#E5ECF6",
              "width": 0.5
             },
             "pattern": {
              "fillmode": "overlay",
              "size": 10,
              "solidity": 0.2
             }
            },
            "type": "barpolar"
           }
          ],
          "carpet": [
           {
            "aaxis": {
             "endlinecolor": "#2a3f5f",
             "gridcolor": "white",
             "linecolor": "white",
             "minorgridcolor": "white",
             "startlinecolor": "#2a3f5f"
            },
            "baxis": {
             "endlinecolor": "#2a3f5f",
             "gridcolor": "white",
             "linecolor": "white",
             "minorgridcolor": "white",
             "startlinecolor": "#2a3f5f"
            },
            "type": "carpet"
           }
          ],
          "choropleth": [
           {
            "colorbar": {
             "outlinewidth": 0,
             "ticks": ""
            },
            "type": "choropleth"
           }
          ],
          "contour": [
           {
            "colorbar": {
             "outlinewidth": 0,
             "ticks": ""
            },
            "colorscale": [
             [
              0,
              "#0d0887"
             ],
             [
              0.1111111111111111,
              "#46039f"
             ],
             [
              0.2222222222222222,
              "#7201a8"
             ],
             [
              0.3333333333333333,
              "#9c179e"
             ],
             [
              0.4444444444444444,
              "#bd3786"
             ],
             [
              0.5555555555555556,
              "#d8576b"
             ],
             [
              0.6666666666666666,
              "#ed7953"
             ],
             [
              0.7777777777777778,
              "#fb9f3a"
             ],
             [
              0.8888888888888888,
              "#fdca26"
             ],
             [
              1,
              "#f0f921"
             ]
            ],
            "type": "contour"
           }
          ],
          "contourcarpet": [
           {
            "colorbar": {
             "outlinewidth": 0,
             "ticks": ""
            },
            "type": "contourcarpet"
           }
          ],
          "heatmap": [
           {
            "colorbar": {
             "outlinewidth": 0,
             "ticks": ""
            },
            "colorscale": [
             [
              0,
              "#0d0887"
             ],
             [
              0.1111111111111111,
              "#46039f"
             ],
             [
              0.2222222222222222,
              "#7201a8"
             ],
             [
              0.3333333333333333,
              "#9c179e"
             ],
             [
              0.4444444444444444,
              "#bd3786"
             ],
             [
              0.5555555555555556,
              "#d8576b"
             ],
             [
              0.6666666666666666,
              "#ed7953"
             ],
             [
              0.7777777777777778,
              "#fb9f3a"
             ],
             [
              0.8888888888888888,
              "#fdca26"
             ],
             [
              1,
              "#f0f921"
             ]
            ],
            "type": "heatmap"
           }
          ],
          "heatmapgl": [
           {
            "colorbar": {
             "outlinewidth": 0,
             "ticks": ""
            },
            "colorscale": [
             [
              0,
              "#0d0887"
             ],
             [
              0.1111111111111111,
              "#46039f"
             ],
             [
              0.2222222222222222,
              "#7201a8"
             ],
             [
              0.3333333333333333,
              "#9c179e"
             ],
             [
              0.4444444444444444,
              "#bd3786"
             ],
             [
              0.5555555555555556,
              "#d8576b"
             ],
             [
              0.6666666666666666,
              "#ed7953"
             ],
             [
              0.7777777777777778,
              "#fb9f3a"
             ],
             [
              0.8888888888888888,
              "#fdca26"
             ],
             [
              1,
              "#f0f921"
             ]
            ],
            "type": "heatmapgl"
           }
          ],
          "histogram": [
           {
            "marker": {
             "pattern": {
              "fillmode": "overlay",
              "size": 10,
              "solidity": 0.2
             }
            },
            "type": "histogram"
           }
          ],
          "histogram2d": [
           {
            "colorbar": {
             "outlinewidth": 0,
             "ticks": ""
            },
            "colorscale": [
             [
              0,
              "#0d0887"
             ],
             [
              0.1111111111111111,
              "#46039f"
             ],
             [
              0.2222222222222222,
              "#7201a8"
             ],
             [
              0.3333333333333333,
              "#9c179e"
             ],
             [
              0.4444444444444444,
              "#bd3786"
             ],
             [
              0.5555555555555556,
              "#d8576b"
             ],
             [
              0.6666666666666666,
              "#ed7953"
             ],
             [
              0.7777777777777778,
              "#fb9f3a"
             ],
             [
              0.8888888888888888,
              "#fdca26"
             ],
             [
              1,
              "#f0f921"
             ]
            ],
            "type": "histogram2d"
           }
          ],
          "histogram2dcontour": [
           {
            "colorbar": {
             "outlinewidth": 0,
             "ticks": ""
            },
            "colorscale": [
             [
              0,
              "#0d0887"
             ],
             [
              0.1111111111111111,
              "#46039f"
             ],
             [
              0.2222222222222222,
              "#7201a8"
             ],
             [
              0.3333333333333333,
              "#9c179e"
             ],
             [
              0.4444444444444444,
              "#bd3786"
             ],
             [
              0.5555555555555556,
              "#d8576b"
             ],
             [
              0.6666666666666666,
              "#ed7953"
             ],
             [
              0.7777777777777778,
              "#fb9f3a"
             ],
             [
              0.8888888888888888,
              "#fdca26"
             ],
             [
              1,
              "#f0f921"
             ]
            ],
            "type": "histogram2dcontour"
           }
          ],
          "mesh3d": [
           {
            "colorbar": {
             "outlinewidth": 0,
             "ticks": ""
            },
            "type": "mesh3d"
           }
          ],
          "parcoords": [
           {
            "line": {
             "colorbar": {
              "outlinewidth": 0,
              "ticks": ""
             }
            },
            "type": "parcoords"
           }
          ],
          "pie": [
           {
            "automargin": true,
            "type": "pie"
           }
          ],
          "scatter": [
           {
            "fillpattern": {
             "fillmode": "overlay",
             "size": 10,
             "solidity": 0.2
            },
            "type": "scatter"
           }
          ],
          "scatter3d": [
           {
            "line": {
             "colorbar": {
              "outlinewidth": 0,
              "ticks": ""
             }
            },
            "marker": {
             "colorbar": {
              "outlinewidth": 0,
              "ticks": ""
             }
            },
            "type": "scatter3d"
           }
          ],
          "scattercarpet": [
           {
            "marker": {
             "colorbar": {
              "outlinewidth": 0,
              "ticks": ""
             }
            },
            "type": "scattercarpet"
           }
          ],
          "scattergeo": [
           {
            "marker": {
             "colorbar": {
              "outlinewidth": 0,
              "ticks": ""
             }
            },
            "type": "scattergeo"
           }
          ],
          "scattergl": [
           {
            "marker": {
             "colorbar": {
              "outlinewidth": 0,
              "ticks": ""
             }
            },
            "type": "scattergl"
           }
          ],
          "scattermapbox": [
           {
            "marker": {
             "colorbar": {
              "outlinewidth": 0,
              "ticks": ""
             }
            },
            "type": "scattermapbox"
           }
          ],
          "scatterpolar": [
           {
            "marker": {
             "colorbar": {
              "outlinewidth": 0,
              "ticks": ""
             }
            },
            "type": "scatterpolar"
           }
          ],
          "scatterpolargl": [
           {
            "marker": {
             "colorbar": {
              "outlinewidth": 0,
              "ticks": ""
             }
            },
            "type": "scatterpolargl"
           }
          ],
          "scatterternary": [
           {
            "marker": {
             "colorbar": {
              "outlinewidth": 0,
              "ticks": ""
             }
            },
            "type": "scatterternary"
           }
          ],
          "surface": [
           {
            "colorbar": {
             "outlinewidth": 0,
             "ticks": ""
            },
            "colorscale": [
             [
              0,
              "#0d0887"
             ],
             [
              0.1111111111111111,
              "#46039f"
             ],
             [
              0.2222222222222222,
              "#7201a8"
             ],
             [
              0.3333333333333333,
              "#9c179e"
             ],
             [
              0.4444444444444444,
              "#bd3786"
             ],
             [
              0.5555555555555556,
              "#d8576b"
             ],
             [
              0.6666666666666666,
              "#ed7953"
             ],
             [
              0.7777777777777778,
              "#fb9f3a"
             ],
             [
              0.8888888888888888,
              "#fdca26"
             ],
             [
              1,
              "#f0f921"
             ]
            ],
            "type": "surface"
           }
          ],
          "table": [
           {
            "cells": {
             "fill": {
              "color": "#EBF0F8"
             },
             "line": {
              "color": "white"
             }
            },
            "header": {
             "fill": {
              "color": "#C8D4E3"
             },
             "line": {
              "color": "white"
             }
            },
            "type": "table"
           }
          ]
         },
         "layout": {
          "annotationdefaults": {
           "arrowcolor": "#2a3f5f",
           "arrowhead": 0,
           "arrowwidth": 1
          },
          "autotypenumbers": "strict",
          "coloraxis": {
           "colorbar": {
            "outlinewidth": 0,
            "ticks": ""
           }
          },
          "colorscale": {
           "diverging": [
            [
             0,
             "#8e0152"
            ],
            [
             0.1,
             "#c51b7d"
            ],
            [
             0.2,
             "#de77ae"
            ],
            [
             0.3,
             "#f1b6da"
            ],
            [
             0.4,
             "#fde0ef"
            ],
            [
             0.5,
             "#f7f7f7"
            ],
            [
             0.6,
             "#e6f5d0"
            ],
            [
             0.7,
             "#b8e186"
            ],
            [
             0.8,
             "#7fbc41"
            ],
            [
             0.9,
             "#4d9221"
            ],
            [
             1,
             "#276419"
            ]
           ],
           "sequential": [
            [
             0,
             "#0d0887"
            ],
            [
             0.1111111111111111,
             "#46039f"
            ],
            [
             0.2222222222222222,
             "#7201a8"
            ],
            [
             0.3333333333333333,
             "#9c179e"
            ],
            [
             0.4444444444444444,
             "#bd3786"
            ],
            [
             0.5555555555555556,
             "#d8576b"
            ],
            [
             0.6666666666666666,
             "#ed7953"
            ],
            [
             0.7777777777777778,
             "#fb9f3a"
            ],
            [
             0.8888888888888888,
             "#fdca26"
            ],
            [
             1,
             "#f0f921"
            ]
           ],
           "sequentialminus": [
            [
             0,
             "#0d0887"
            ],
            [
             0.1111111111111111,
             "#46039f"
            ],
            [
             0.2222222222222222,
             "#7201a8"
            ],
            [
             0.3333333333333333,
             "#9c179e"
            ],
            [
             0.4444444444444444,
             "#bd3786"
            ],
            [
             0.5555555555555556,
             "#d8576b"
            ],
            [
             0.6666666666666666,
             "#ed7953"
            ],
            [
             0.7777777777777778,
             "#fb9f3a"
            ],
            [
             0.8888888888888888,
             "#fdca26"
            ],
            [
             1,
             "#f0f921"
            ]
           ]
          },
          "colorway": [
           "#636efa",
           "#EF553B",
           "#00cc96",
           "#ab63fa",
           "#FFA15A",
           "#19d3f3",
           "#FF6692",
           "#B6E880",
           "#FF97FF",
           "#FECB52"
          ],
          "font": {
           "color": "#2a3f5f"
          },
          "geo": {
           "bgcolor": "white",
           "lakecolor": "white",
           "landcolor": "#E5ECF6",
           "showlakes": true,
           "showland": true,
           "subunitcolor": "white"
          },
          "hoverlabel": {
           "align": "left"
          },
          "hovermode": "closest",
          "mapbox": {
           "style": "light"
          },
          "paper_bgcolor": "white",
          "plot_bgcolor": "#E5ECF6",
          "polar": {
           "angularaxis": {
            "gridcolor": "white",
            "linecolor": "white",
            "ticks": ""
           },
           "bgcolor": "#E5ECF6",
           "radialaxis": {
            "gridcolor": "white",
            "linecolor": "white",
            "ticks": ""
           }
          },
          "scene": {
           "xaxis": {
            "backgroundcolor": "#E5ECF6",
            "gridcolor": "white",
            "gridwidth": 2,
            "linecolor": "white",
            "showbackground": true,
            "ticks": "",
            "zerolinecolor": "white"
           },
           "yaxis": {
            "backgroundcolor": "#E5ECF6",
            "gridcolor": "white",
            "gridwidth": 2,
            "linecolor": "white",
            "showbackground": true,
            "ticks": "",
            "zerolinecolor": "white"
           },
           "zaxis": {
            "backgroundcolor": "#E5ECF6",
            "gridcolor": "white",
            "gridwidth": 2,
            "linecolor": "white",
            "showbackground": true,
            "ticks": "",
            "zerolinecolor": "white"
           }
          },
          "shapedefaults": {
           "line": {
            "color": "#2a3f5f"
           }
          },
          "ternary": {
           "aaxis": {
            "gridcolor": "white",
            "linecolor": "white",
            "ticks": ""
           },
           "baxis": {
            "gridcolor": "white",
            "linecolor": "white",
            "ticks": ""
           },
           "bgcolor": "#E5ECF6",
           "caxis": {
            "gridcolor": "white",
            "linecolor": "white",
            "ticks": ""
           }
          },
          "title": {
           "x": 0.05
          },
          "xaxis": {
           "automargin": true,
           "gridcolor": "white",
           "linecolor": "white",
           "ticks": "",
           "title": {
            "standoff": 15
           },
           "zerolinecolor": "white",
           "zerolinewidth": 2
          },
          "yaxis": {
           "automargin": true,
           "gridcolor": "white",
           "linecolor": "white",
           "ticks": "",
           "title": {
            "standoff": 15
           },
           "zerolinecolor": "white",
           "zerolinewidth": 2
          }
         }
        },
        "title": {
         "text": "Counts of Negative Reasons for Airline American"
        },
        "xaxis": {
         "anchor": "y",
         "domain": [
          0,
          1
         ],
         "title": {
          "text": "negativereason"
         }
        },
        "yaxis": {
         "anchor": "x",
         "domain": [
          0,
          1
         ],
         "title": {
          "text": "count"
         }
        }
       }
      }
     },
     "metadata": {},
     "output_type": "display_data"
    },
    {
     "data": {
      "application/vnd.plotly.v1+json": {
       "config": {
        "plotlyServerURL": "https://plot.ly"
       },
       "data": [
        {
         "alignmentgroup": "True",
         "hovertemplate": "negativereason=%{x}<br>count=%{y}<extra></extra>",
         "legendgroup": "",
         "marker": {
          "color": "pink",
          "pattern": {
           "shape": ""
          }
         },
         "name": "",
         "offsetgroup": "",
         "orientation": "v",
         "showlegend": false,
         "textposition": "auto",
         "type": "bar",
         "x": [
          "Bad Flight",
          "Can't Tell",
          "Cancelled Flight",
          "Customer Service Issue",
          "Damaged Luggage",
          "Flight Attendant Complaints",
          "Flight Booking Problems",
          "Late Flight",
          "Lost Luggage",
          "longlines"
         ],
         "xaxis": "x",
         "y": [
          64,
          186,
          51,
          199,
          11,
          60,
          44,
          269,
          57,
          14
         ],
         "yaxis": "y"
        }
       ],
       "layout": {
        "barmode": "relative",
        "legend": {
         "tracegroupgap": 0
        },
        "template": {
         "data": {
          "bar": [
           {
            "error_x": {
             "color": "#2a3f5f"
            },
            "error_y": {
             "color": "#2a3f5f"
            },
            "marker": {
             "line": {
              "color": "#E5ECF6",
              "width": 0.5
             },
             "pattern": {
              "fillmode": "overlay",
              "size": 10,
              "solidity": 0.2
             }
            },
            "type": "bar"
           }
          ],
          "barpolar": [
           {
            "marker": {
             "line": {
              "color": "#E5ECF6",
              "width": 0.5
             },
             "pattern": {
              "fillmode": "overlay",
              "size": 10,
              "solidity": 0.2
             }
            },
            "type": "barpolar"
           }
          ],
          "carpet": [
           {
            "aaxis": {
             "endlinecolor": "#2a3f5f",
             "gridcolor": "white",
             "linecolor": "white",
             "minorgridcolor": "white",
             "startlinecolor": "#2a3f5f"
            },
            "baxis": {
             "endlinecolor": "#2a3f5f",
             "gridcolor": "white",
             "linecolor": "white",
             "minorgridcolor": "white",
             "startlinecolor": "#2a3f5f"
            },
            "type": "carpet"
           }
          ],
          "choropleth": [
           {
            "colorbar": {
             "outlinewidth": 0,
             "ticks": ""
            },
            "type": "choropleth"
           }
          ],
          "contour": [
           {
            "colorbar": {
             "outlinewidth": 0,
             "ticks": ""
            },
            "colorscale": [
             [
              0,
              "#0d0887"
             ],
             [
              0.1111111111111111,
              "#46039f"
             ],
             [
              0.2222222222222222,
              "#7201a8"
             ],
             [
              0.3333333333333333,
              "#9c179e"
             ],
             [
              0.4444444444444444,
              "#bd3786"
             ],
             [
              0.5555555555555556,
              "#d8576b"
             ],
             [
              0.6666666666666666,
              "#ed7953"
             ],
             [
              0.7777777777777778,
              "#fb9f3a"
             ],
             [
              0.8888888888888888,
              "#fdca26"
             ],
             [
              1,
              "#f0f921"
             ]
            ],
            "type": "contour"
           }
          ],
          "contourcarpet": [
           {
            "colorbar": {
             "outlinewidth": 0,
             "ticks": ""
            },
            "type": "contourcarpet"
           }
          ],
          "heatmap": [
           {
            "colorbar": {
             "outlinewidth": 0,
             "ticks": ""
            },
            "colorscale": [
             [
              0,
              "#0d0887"
             ],
             [
              0.1111111111111111,
              "#46039f"
             ],
             [
              0.2222222222222222,
              "#7201a8"
             ],
             [
              0.3333333333333333,
              "#9c179e"
             ],
             [
              0.4444444444444444,
              "#bd3786"
             ],
             [
              0.5555555555555556,
              "#d8576b"
             ],
             [
              0.6666666666666666,
              "#ed7953"
             ],
             [
              0.7777777777777778,
              "#fb9f3a"
             ],
             [
              0.8888888888888888,
              "#fdca26"
             ],
             [
              1,
              "#f0f921"
             ]
            ],
            "type": "heatmap"
           }
          ],
          "heatmapgl": [
           {
            "colorbar": {
             "outlinewidth": 0,
             "ticks": ""
            },
            "colorscale": [
             [
              0,
              "#0d0887"
             ],
             [
              0.1111111111111111,
              "#46039f"
             ],
             [
              0.2222222222222222,
              "#7201a8"
             ],
             [
              0.3333333333333333,
              "#9c179e"
             ],
             [
              0.4444444444444444,
              "#bd3786"
             ],
             [
              0.5555555555555556,
              "#d8576b"
             ],
             [
              0.6666666666666666,
              "#ed7953"
             ],
             [
              0.7777777777777778,
              "#fb9f3a"
             ],
             [
              0.8888888888888888,
              "#fdca26"
             ],
             [
              1,
              "#f0f921"
             ]
            ],
            "type": "heatmapgl"
           }
          ],
          "histogram": [
           {
            "marker": {
             "pattern": {
              "fillmode": "overlay",
              "size": 10,
              "solidity": 0.2
             }
            },
            "type": "histogram"
           }
          ],
          "histogram2d": [
           {
            "colorbar": {
             "outlinewidth": 0,
             "ticks": ""
            },
            "colorscale": [
             [
              0,
              "#0d0887"
             ],
             [
              0.1111111111111111,
              "#46039f"
             ],
             [
              0.2222222222222222,
              "#7201a8"
             ],
             [
              0.3333333333333333,
              "#9c179e"
             ],
             [
              0.4444444444444444,
              "#bd3786"
             ],
             [
              0.5555555555555556,
              "#d8576b"
             ],
             [
              0.6666666666666666,
              "#ed7953"
             ],
             [
              0.7777777777777778,
              "#fb9f3a"
             ],
             [
              0.8888888888888888,
              "#fdca26"
             ],
             [
              1,
              "#f0f921"
             ]
            ],
            "type": "histogram2d"
           }
          ],
          "histogram2dcontour": [
           {
            "colorbar": {
             "outlinewidth": 0,
             "ticks": ""
            },
            "colorscale": [
             [
              0,
              "#0d0887"
             ],
             [
              0.1111111111111111,
              "#46039f"
             ],
             [
              0.2222222222222222,
              "#7201a8"
             ],
             [
              0.3333333333333333,
              "#9c179e"
             ],
             [
              0.4444444444444444,
              "#bd3786"
             ],
             [
              0.5555555555555556,
              "#d8576b"
             ],
             [
              0.6666666666666666,
              "#ed7953"
             ],
             [
              0.7777777777777778,
              "#fb9f3a"
             ],
             [
              0.8888888888888888,
              "#fdca26"
             ],
             [
              1,
              "#f0f921"
             ]
            ],
            "type": "histogram2dcontour"
           }
          ],
          "mesh3d": [
           {
            "colorbar": {
             "outlinewidth": 0,
             "ticks": ""
            },
            "type": "mesh3d"
           }
          ],
          "parcoords": [
           {
            "line": {
             "colorbar": {
              "outlinewidth": 0,
              "ticks": ""
             }
            },
            "type": "parcoords"
           }
          ],
          "pie": [
           {
            "automargin": true,
            "type": "pie"
           }
          ],
          "scatter": [
           {
            "fillpattern": {
             "fillmode": "overlay",
             "size": 10,
             "solidity": 0.2
            },
            "type": "scatter"
           }
          ],
          "scatter3d": [
           {
            "line": {
             "colorbar": {
              "outlinewidth": 0,
              "ticks": ""
             }
            },
            "marker": {
             "colorbar": {
              "outlinewidth": 0,
              "ticks": ""
             }
            },
            "type": "scatter3d"
           }
          ],
          "scattercarpet": [
           {
            "marker": {
             "colorbar": {
              "outlinewidth": 0,
              "ticks": ""
             }
            },
            "type": "scattercarpet"
           }
          ],
          "scattergeo": [
           {
            "marker": {
             "colorbar": {
              "outlinewidth": 0,
              "ticks": ""
             }
            },
            "type": "scattergeo"
           }
          ],
          "scattergl": [
           {
            "marker": {
             "colorbar": {
              "outlinewidth": 0,
              "ticks": ""
             }
            },
            "type": "scattergl"
           }
          ],
          "scattermapbox": [
           {
            "marker": {
             "colorbar": {
              "outlinewidth": 0,
              "ticks": ""
             }
            },
            "type": "scattermapbox"
           }
          ],
          "scatterpolar": [
           {
            "marker": {
             "colorbar": {
              "outlinewidth": 0,
              "ticks": ""
             }
            },
            "type": "scatterpolar"
           }
          ],
          "scatterpolargl": [
           {
            "marker": {
             "colorbar": {
              "outlinewidth": 0,
              "ticks": ""
             }
            },
            "type": "scatterpolargl"
           }
          ],
          "scatterternary": [
           {
            "marker": {
             "colorbar": {
              "outlinewidth": 0,
              "ticks": ""
             }
            },
            "type": "scatterternary"
           }
          ],
          "surface": [
           {
            "colorbar": {
             "outlinewidth": 0,
             "ticks": ""
            },
            "colorscale": [
             [
              0,
              "#0d0887"
             ],
             [
              0.1111111111111111,
              "#46039f"
             ],
             [
              0.2222222222222222,
              "#7201a8"
             ],
             [
              0.3333333333333333,
              "#9c179e"
             ],
             [
              0.4444444444444444,
              "#bd3786"
             ],
             [
              0.5555555555555556,
              "#d8576b"
             ],
             [
              0.6666666666666666,
              "#ed7953"
             ],
             [
              0.7777777777777778,
              "#fb9f3a"
             ],
             [
              0.8888888888888888,
              "#fdca26"
             ],
             [
              1,
              "#f0f921"
             ]
            ],
            "type": "surface"
           }
          ],
          "table": [
           {
            "cells": {
             "fill": {
              "color": "#EBF0F8"
             },
             "line": {
              "color": "white"
             }
            },
            "header": {
             "fill": {
              "color": "#C8D4E3"
             },
             "line": {
              "color": "white"
             }
            },
            "type": "table"
           }
          ]
         },
         "layout": {
          "annotationdefaults": {
           "arrowcolor": "#2a3f5f",
           "arrowhead": 0,
           "arrowwidth": 1
          },
          "autotypenumbers": "strict",
          "coloraxis": {
           "colorbar": {
            "outlinewidth": 0,
            "ticks": ""
           }
          },
          "colorscale": {
           "diverging": [
            [
             0,
             "#8e0152"
            ],
            [
             0.1,
             "#c51b7d"
            ],
            [
             0.2,
             "#de77ae"
            ],
            [
             0.3,
             "#f1b6da"
            ],
            [
             0.4,
             "#fde0ef"
            ],
            [
             0.5,
             "#f7f7f7"
            ],
            [
             0.6,
             "#e6f5d0"
            ],
            [
             0.7,
             "#b8e186"
            ],
            [
             0.8,
             "#7fbc41"
            ],
            [
             0.9,
             "#4d9221"
            ],
            [
             1,
             "#276419"
            ]
           ],
           "sequential": [
            [
             0,
             "#0d0887"
            ],
            [
             0.1111111111111111,
             "#46039f"
            ],
            [
             0.2222222222222222,
             "#7201a8"
            ],
            [
             0.3333333333333333,
             "#9c179e"
            ],
            [
             0.4444444444444444,
             "#bd3786"
            ],
            [
             0.5555555555555556,
             "#d8576b"
            ],
            [
             0.6666666666666666,
             "#ed7953"
            ],
            [
             0.7777777777777778,
             "#fb9f3a"
            ],
            [
             0.8888888888888888,
             "#fdca26"
            ],
            [
             1,
             "#f0f921"
            ]
           ],
           "sequentialminus": [
            [
             0,
             "#0d0887"
            ],
            [
             0.1111111111111111,
             "#46039f"
            ],
            [
             0.2222222222222222,
             "#7201a8"
            ],
            [
             0.3333333333333333,
             "#9c179e"
            ],
            [
             0.4444444444444444,
             "#bd3786"
            ],
            [
             0.5555555555555556,
             "#d8576b"
            ],
            [
             0.6666666666666666,
             "#ed7953"
            ],
            [
             0.7777777777777778,
             "#fb9f3a"
            ],
            [
             0.8888888888888888,
             "#fdca26"
            ],
            [
             1,
             "#f0f921"
            ]
           ]
          },
          "colorway": [
           "#636efa",
           "#EF553B",
           "#00cc96",
           "#ab63fa",
           "#FFA15A",
           "#19d3f3",
           "#FF6692",
           "#B6E880",
           "#FF97FF",
           "#FECB52"
          ],
          "font": {
           "color": "#2a3f5f"
          },
          "geo": {
           "bgcolor": "white",
           "lakecolor": "white",
           "landcolor": "#E5ECF6",
           "showlakes": true,
           "showland": true,
           "subunitcolor": "white"
          },
          "hoverlabel": {
           "align": "left"
          },
          "hovermode": "closest",
          "mapbox": {
           "style": "light"
          },
          "paper_bgcolor": "white",
          "plot_bgcolor": "#E5ECF6",
          "polar": {
           "angularaxis": {
            "gridcolor": "white",
            "linecolor": "white",
            "ticks": ""
           },
           "bgcolor": "#E5ECF6",
           "radialaxis": {
            "gridcolor": "white",
            "linecolor": "white",
            "ticks": ""
           }
          },
          "scene": {
           "xaxis": {
            "backgroundcolor": "#E5ECF6",
            "gridcolor": "white",
            "gridwidth": 2,
            "linecolor": "white",
            "showbackground": true,
            "ticks": "",
            "zerolinecolor": "white"
           },
           "yaxis": {
            "backgroundcolor": "#E5ECF6",
            "gridcolor": "white",
            "gridwidth": 2,
            "linecolor": "white",
            "showbackground": true,
            "ticks": "",
            "zerolinecolor": "white"
           },
           "zaxis": {
            "backgroundcolor": "#E5ECF6",
            "gridcolor": "white",
            "gridwidth": 2,
            "linecolor": "white",
            "showbackground": true,
            "ticks": "",
            "zerolinecolor": "white"
           }
          },
          "shapedefaults": {
           "line": {
            "color": "#2a3f5f"
           }
          },
          "ternary": {
           "aaxis": {
            "gridcolor": "white",
            "linecolor": "white",
            "ticks": ""
           },
           "baxis": {
            "gridcolor": "white",
            "linecolor": "white",
            "ticks": ""
           },
           "bgcolor": "#E5ECF6",
           "caxis": {
            "gridcolor": "white",
            "linecolor": "white",
            "ticks": ""
           }
          },
          "title": {
           "x": 0.05
          },
          "xaxis": {
           "automargin": true,
           "gridcolor": "white",
           "linecolor": "white",
           "ticks": "",
           "title": {
            "standoff": 15
           },
           "zerolinecolor": "white",
           "zerolinewidth": 2
          },
          "yaxis": {
           "automargin": true,
           "gridcolor": "white",
           "linecolor": "white",
           "ticks": "",
           "title": {
            "standoff": 15
           },
           "zerolinecolor": "white",
           "zerolinewidth": 2
          }
         }
        },
        "title": {
         "text": "Counts of Negative Reasons for Airline Delta"
        },
        "xaxis": {
         "anchor": "y",
         "domain": [
          0,
          1
         ],
         "title": {
          "text": "negativereason"
         }
        },
        "yaxis": {
         "anchor": "x",
         "domain": [
          0,
          1
         ],
         "title": {
          "text": "count"
         }
        }
       }
      }
     },
     "metadata": {},
     "output_type": "display_data"
    },
    {
     "data": {
      "application/vnd.plotly.v1+json": {
       "config": {
        "plotlyServerURL": "https://plot.ly"
       },
       "data": [
        {
         "alignmentgroup": "True",
         "hovertemplate": "negativereason=%{x}<br>count=%{y}<extra></extra>",
         "legendgroup": "",
         "marker": {
          "color": "pink",
          "pattern": {
           "shape": ""
          }
         },
         "name": "",
         "offsetgroup": "",
         "orientation": "v",
         "showlegend": false,
         "textposition": "auto",
         "type": "bar",
         "x": [
          "Bad Flight",
          "Can't Tell",
          "Cancelled Flight",
          "Customer Service Issue",
          "Damaged Luggage",
          "Flight Attendant Complaints",
          "Flight Booking Problems",
          "Late Flight",
          "Lost Luggage",
          "longlines"
         ],
         "xaxis": "x",
         "y": [
          90,
          159,
          162,
          391,
          14,
          38,
          61,
          152,
          90,
          29
         ],
         "yaxis": "y"
        }
       ],
       "layout": {
        "barmode": "relative",
        "legend": {
         "tracegroupgap": 0
        },
        "template": {
         "data": {
          "bar": [
           {
            "error_x": {
             "color": "#2a3f5f"
            },
            "error_y": {
             "color": "#2a3f5f"
            },
            "marker": {
             "line": {
              "color": "#E5ECF6",
              "width": 0.5
             },
             "pattern": {
              "fillmode": "overlay",
              "size": 10,
              "solidity": 0.2
             }
            },
            "type": "bar"
           }
          ],
          "barpolar": [
           {
            "marker": {
             "line": {
              "color": "#E5ECF6",
              "width": 0.5
             },
             "pattern": {
              "fillmode": "overlay",
              "size": 10,
              "solidity": 0.2
             }
            },
            "type": "barpolar"
           }
          ],
          "carpet": [
           {
            "aaxis": {
             "endlinecolor": "#2a3f5f",
             "gridcolor": "white",
             "linecolor": "white",
             "minorgridcolor": "white",
             "startlinecolor": "#2a3f5f"
            },
            "baxis": {
             "endlinecolor": "#2a3f5f",
             "gridcolor": "white",
             "linecolor": "white",
             "minorgridcolor": "white",
             "startlinecolor": "#2a3f5f"
            },
            "type": "carpet"
           }
          ],
          "choropleth": [
           {
            "colorbar": {
             "outlinewidth": 0,
             "ticks": ""
            },
            "type": "choropleth"
           }
          ],
          "contour": [
           {
            "colorbar": {
             "outlinewidth": 0,
             "ticks": ""
            },
            "colorscale": [
             [
              0,
              "#0d0887"
             ],
             [
              0.1111111111111111,
              "#46039f"
             ],
             [
              0.2222222222222222,
              "#7201a8"
             ],
             [
              0.3333333333333333,
              "#9c179e"
             ],
             [
              0.4444444444444444,
              "#bd3786"
             ],
             [
              0.5555555555555556,
              "#d8576b"
             ],
             [
              0.6666666666666666,
              "#ed7953"
             ],
             [
              0.7777777777777778,
              "#fb9f3a"
             ],
             [
              0.8888888888888888,
              "#fdca26"
             ],
             [
              1,
              "#f0f921"
             ]
            ],
            "type": "contour"
           }
          ],
          "contourcarpet": [
           {
            "colorbar": {
             "outlinewidth": 0,
             "ticks": ""
            },
            "type": "contourcarpet"
           }
          ],
          "heatmap": [
           {
            "colorbar": {
             "outlinewidth": 0,
             "ticks": ""
            },
            "colorscale": [
             [
              0,
              "#0d0887"
             ],
             [
              0.1111111111111111,
              "#46039f"
             ],
             [
              0.2222222222222222,
              "#7201a8"
             ],
             [
              0.3333333333333333,
              "#9c179e"
             ],
             [
              0.4444444444444444,
              "#bd3786"
             ],
             [
              0.5555555555555556,
              "#d8576b"
             ],
             [
              0.6666666666666666,
              "#ed7953"
             ],
             [
              0.7777777777777778,
              "#fb9f3a"
             ],
             [
              0.8888888888888888,
              "#fdca26"
             ],
             [
              1,
              "#f0f921"
             ]
            ],
            "type": "heatmap"
           }
          ],
          "heatmapgl": [
           {
            "colorbar": {
             "outlinewidth": 0,
             "ticks": ""
            },
            "colorscale": [
             [
              0,
              "#0d0887"
             ],
             [
              0.1111111111111111,
              "#46039f"
             ],
             [
              0.2222222222222222,
              "#7201a8"
             ],
             [
              0.3333333333333333,
              "#9c179e"
             ],
             [
              0.4444444444444444,
              "#bd3786"
             ],
             [
              0.5555555555555556,
              "#d8576b"
             ],
             [
              0.6666666666666666,
              "#ed7953"
             ],
             [
              0.7777777777777778,
              "#fb9f3a"
             ],
             [
              0.8888888888888888,
              "#fdca26"
             ],
             [
              1,
              "#f0f921"
             ]
            ],
            "type": "heatmapgl"
           }
          ],
          "histogram": [
           {
            "marker": {
             "pattern": {
              "fillmode": "overlay",
              "size": 10,
              "solidity": 0.2
             }
            },
            "type": "histogram"
           }
          ],
          "histogram2d": [
           {
            "colorbar": {
             "outlinewidth": 0,
             "ticks": ""
            },
            "colorscale": [
             [
              0,
              "#0d0887"
             ],
             [
              0.1111111111111111,
              "#46039f"
             ],
             [
              0.2222222222222222,
              "#7201a8"
             ],
             [
              0.3333333333333333,
              "#9c179e"
             ],
             [
              0.4444444444444444,
              "#bd3786"
             ],
             [
              0.5555555555555556,
              "#d8576b"
             ],
             [
              0.6666666666666666,
              "#ed7953"
             ],
             [
              0.7777777777777778,
              "#fb9f3a"
             ],
             [
              0.8888888888888888,
              "#fdca26"
             ],
             [
              1,
              "#f0f921"
             ]
            ],
            "type": "histogram2d"
           }
          ],
          "histogram2dcontour": [
           {
            "colorbar": {
             "outlinewidth": 0,
             "ticks": ""
            },
            "colorscale": [
             [
              0,
              "#0d0887"
             ],
             [
              0.1111111111111111,
              "#46039f"
             ],
             [
              0.2222222222222222,
              "#7201a8"
             ],
             [
              0.3333333333333333,
              "#9c179e"
             ],
             [
              0.4444444444444444,
              "#bd3786"
             ],
             [
              0.5555555555555556,
              "#d8576b"
             ],
             [
              0.6666666666666666,
              "#ed7953"
             ],
             [
              0.7777777777777778,
              "#fb9f3a"
             ],
             [
              0.8888888888888888,
              "#fdca26"
             ],
             [
              1,
              "#f0f921"
             ]
            ],
            "type": "histogram2dcontour"
           }
          ],
          "mesh3d": [
           {
            "colorbar": {
             "outlinewidth": 0,
             "ticks": ""
            },
            "type": "mesh3d"
           }
          ],
          "parcoords": [
           {
            "line": {
             "colorbar": {
              "outlinewidth": 0,
              "ticks": ""
             }
            },
            "type": "parcoords"
           }
          ],
          "pie": [
           {
            "automargin": true,
            "type": "pie"
           }
          ],
          "scatter": [
           {
            "fillpattern": {
             "fillmode": "overlay",
             "size": 10,
             "solidity": 0.2
            },
            "type": "scatter"
           }
          ],
          "scatter3d": [
           {
            "line": {
             "colorbar": {
              "outlinewidth": 0,
              "ticks": ""
             }
            },
            "marker": {
             "colorbar": {
              "outlinewidth": 0,
              "ticks": ""
             }
            },
            "type": "scatter3d"
           }
          ],
          "scattercarpet": [
           {
            "marker": {
             "colorbar": {
              "outlinewidth": 0,
              "ticks": ""
             }
            },
            "type": "scattercarpet"
           }
          ],
          "scattergeo": [
           {
            "marker": {
             "colorbar": {
              "outlinewidth": 0,
              "ticks": ""
             }
            },
            "type": "scattergeo"
           }
          ],
          "scattergl": [
           {
            "marker": {
             "colorbar": {
              "outlinewidth": 0,
              "ticks": ""
             }
            },
            "type": "scattergl"
           }
          ],
          "scattermapbox": [
           {
            "marker": {
             "colorbar": {
              "outlinewidth": 0,
              "ticks": ""
             }
            },
            "type": "scattermapbox"
           }
          ],
          "scatterpolar": [
           {
            "marker": {
             "colorbar": {
              "outlinewidth": 0,
              "ticks": ""
             }
            },
            "type": "scatterpolar"
           }
          ],
          "scatterpolargl": [
           {
            "marker": {
             "colorbar": {
              "outlinewidth": 0,
              "ticks": ""
             }
            },
            "type": "scatterpolargl"
           }
          ],
          "scatterternary": [
           {
            "marker": {
             "colorbar": {
              "outlinewidth": 0,
              "ticks": ""
             }
            },
            "type": "scatterternary"
           }
          ],
          "surface": [
           {
            "colorbar": {
             "outlinewidth": 0,
             "ticks": ""
            },
            "colorscale": [
             [
              0,
              "#0d0887"
             ],
             [
              0.1111111111111111,
              "#46039f"
             ],
             [
              0.2222222222222222,
              "#7201a8"
             ],
             [
              0.3333333333333333,
              "#9c179e"
             ],
             [
              0.4444444444444444,
              "#bd3786"
             ],
             [
              0.5555555555555556,
              "#d8576b"
             ],
             [
              0.6666666666666666,
              "#ed7953"
             ],
             [
              0.7777777777777778,
              "#fb9f3a"
             ],
             [
              0.8888888888888888,
              "#fdca26"
             ],
             [
              1,
              "#f0f921"
             ]
            ],
            "type": "surface"
           }
          ],
          "table": [
           {
            "cells": {
             "fill": {
              "color": "#EBF0F8"
             },
             "line": {
              "color": "white"
             }
            },
            "header": {
             "fill": {
              "color": "#C8D4E3"
             },
             "line": {
              "color": "white"
             }
            },
            "type": "table"
           }
          ]
         },
         "layout": {
          "annotationdefaults": {
           "arrowcolor": "#2a3f5f",
           "arrowhead": 0,
           "arrowwidth": 1
          },
          "autotypenumbers": "strict",
          "coloraxis": {
           "colorbar": {
            "outlinewidth": 0,
            "ticks": ""
           }
          },
          "colorscale": {
           "diverging": [
            [
             0,
             "#8e0152"
            ],
            [
             0.1,
             "#c51b7d"
            ],
            [
             0.2,
             "#de77ae"
            ],
            [
             0.3,
             "#f1b6da"
            ],
            [
             0.4,
             "#fde0ef"
            ],
            [
             0.5,
             "#f7f7f7"
            ],
            [
             0.6,
             "#e6f5d0"
            ],
            [
             0.7,
             "#b8e186"
            ],
            [
             0.8,
             "#7fbc41"
            ],
            [
             0.9,
             "#4d9221"
            ],
            [
             1,
             "#276419"
            ]
           ],
           "sequential": [
            [
             0,
             "#0d0887"
            ],
            [
             0.1111111111111111,
             "#46039f"
            ],
            [
             0.2222222222222222,
             "#7201a8"
            ],
            [
             0.3333333333333333,
             "#9c179e"
            ],
            [
             0.4444444444444444,
             "#bd3786"
            ],
            [
             0.5555555555555556,
             "#d8576b"
            ],
            [
             0.6666666666666666,
             "#ed7953"
            ],
            [
             0.7777777777777778,
             "#fb9f3a"
            ],
            [
             0.8888888888888888,
             "#fdca26"
            ],
            [
             1,
             "#f0f921"
            ]
           ],
           "sequentialminus": [
            [
             0,
             "#0d0887"
            ],
            [
             0.1111111111111111,
             "#46039f"
            ],
            [
             0.2222222222222222,
             "#7201a8"
            ],
            [
             0.3333333333333333,
             "#9c179e"
            ],
            [
             0.4444444444444444,
             "#bd3786"
            ],
            [
             0.5555555555555556,
             "#d8576b"
            ],
            [
             0.6666666666666666,
             "#ed7953"
            ],
            [
             0.7777777777777778,
             "#fb9f3a"
            ],
            [
             0.8888888888888888,
             "#fdca26"
            ],
            [
             1,
             "#f0f921"
            ]
           ]
          },
          "colorway": [
           "#636efa",
           "#EF553B",
           "#00cc96",
           "#ab63fa",
           "#FFA15A",
           "#19d3f3",
           "#FF6692",
           "#B6E880",
           "#FF97FF",
           "#FECB52"
          ],
          "font": {
           "color": "#2a3f5f"
          },
          "geo": {
           "bgcolor": "white",
           "lakecolor": "white",
           "landcolor": "#E5ECF6",
           "showlakes": true,
           "showland": true,
           "subunitcolor": "white"
          },
          "hoverlabel": {
           "align": "left"
          },
          "hovermode": "closest",
          "mapbox": {
           "style": "light"
          },
          "paper_bgcolor": "white",
          "plot_bgcolor": "#E5ECF6",
          "polar": {
           "angularaxis": {
            "gridcolor": "white",
            "linecolor": "white",
            "ticks": ""
           },
           "bgcolor": "#E5ECF6",
           "radialaxis": {
            "gridcolor": "white",
            "linecolor": "white",
            "ticks": ""
           }
          },
          "scene": {
           "xaxis": {
            "backgroundcolor": "#E5ECF6",
            "gridcolor": "white",
            "gridwidth": 2,
            "linecolor": "white",
            "showbackground": true,
            "ticks": "",
            "zerolinecolor": "white"
           },
           "yaxis": {
            "backgroundcolor": "#E5ECF6",
            "gridcolor": "white",
            "gridwidth": 2,
            "linecolor": "white",
            "showbackground": true,
            "ticks": "",
            "zerolinecolor": "white"
           },
           "zaxis": {
            "backgroundcolor": "#E5ECF6",
            "gridcolor": "white",
            "gridwidth": 2,
            "linecolor": "white",
            "showbackground": true,
            "ticks": "",
            "zerolinecolor": "white"
           }
          },
          "shapedefaults": {
           "line": {
            "color": "#2a3f5f"
           }
          },
          "ternary": {
           "aaxis": {
            "gridcolor": "white",
            "linecolor": "white",
            "ticks": ""
           },
           "baxis": {
            "gridcolor": "white",
            "linecolor": "white",
            "ticks": ""
           },
           "bgcolor": "#E5ECF6",
           "caxis": {
            "gridcolor": "white",
            "linecolor": "white",
            "ticks": ""
           }
          },
          "title": {
           "x": 0.05
          },
          "xaxis": {
           "automargin": true,
           "gridcolor": "white",
           "linecolor": "white",
           "ticks": "",
           "title": {
            "standoff": 15
           },
           "zerolinecolor": "white",
           "zerolinewidth": 2
          },
          "yaxis": {
           "automargin": true,
           "gridcolor": "white",
           "linecolor": "white",
           "ticks": "",
           "title": {
            "standoff": 15
           },
           "zerolinecolor": "white",
           "zerolinewidth": 2
          }
         }
        },
        "title": {
         "text": "Counts of Negative Reasons for Airline Southwest"
        },
        "xaxis": {
         "anchor": "y",
         "domain": [
          0,
          1
         ],
         "title": {
          "text": "negativereason"
         }
        },
        "yaxis": {
         "anchor": "x",
         "domain": [
          0,
          1
         ],
         "title": {
          "text": "count"
         }
        }
       }
      }
     },
     "metadata": {},
     "output_type": "display_data"
    },
    {
     "data": {
      "application/vnd.plotly.v1+json": {
       "config": {
        "plotlyServerURL": "https://plot.ly"
       },
       "data": [
        {
         "alignmentgroup": "True",
         "hovertemplate": "negativereason=%{x}<br>count=%{y}<extra></extra>",
         "legendgroup": "",
         "marker": {
          "color": "pink",
          "pattern": {
           "shape": ""
          }
         },
         "name": "",
         "offsetgroup": "",
         "orientation": "v",
         "showlegend": false,
         "textposition": "auto",
         "type": "bar",
         "x": [
          "Bad Flight",
          "Can't Tell",
          "Cancelled Flight",
          "Customer Service Issue",
          "Damaged Luggage",
          "Flight Attendant Complaints",
          "Flight Booking Problems",
          "Late Flight",
          "Lost Luggage",
          "longlines"
         ],
         "xaxis": "x",
         "y": [
          104,
          246,
          189,
          811,
          11,
          123,
          122,
          453,
          154,
          50
         ],
         "yaxis": "y"
        }
       ],
       "layout": {
        "barmode": "relative",
        "legend": {
         "tracegroupgap": 0
        },
        "template": {
         "data": {
          "bar": [
           {
            "error_x": {
             "color": "#2a3f5f"
            },
            "error_y": {
             "color": "#2a3f5f"
            },
            "marker": {
             "line": {
              "color": "#E5ECF6",
              "width": 0.5
             },
             "pattern": {
              "fillmode": "overlay",
              "size": 10,
              "solidity": 0.2
             }
            },
            "type": "bar"
           }
          ],
          "barpolar": [
           {
            "marker": {
             "line": {
              "color": "#E5ECF6",
              "width": 0.5
             },
             "pattern": {
              "fillmode": "overlay",
              "size": 10,
              "solidity": 0.2
             }
            },
            "type": "barpolar"
           }
          ],
          "carpet": [
           {
            "aaxis": {
             "endlinecolor": "#2a3f5f",
             "gridcolor": "white",
             "linecolor": "white",
             "minorgridcolor": "white",
             "startlinecolor": "#2a3f5f"
            },
            "baxis": {
             "endlinecolor": "#2a3f5f",
             "gridcolor": "white",
             "linecolor": "white",
             "minorgridcolor": "white",
             "startlinecolor": "#2a3f5f"
            },
            "type": "carpet"
           }
          ],
          "choropleth": [
           {
            "colorbar": {
             "outlinewidth": 0,
             "ticks": ""
            },
            "type": "choropleth"
           }
          ],
          "contour": [
           {
            "colorbar": {
             "outlinewidth": 0,
             "ticks": ""
            },
            "colorscale": [
             [
              0,
              "#0d0887"
             ],
             [
              0.1111111111111111,
              "#46039f"
             ],
             [
              0.2222222222222222,
              "#7201a8"
             ],
             [
              0.3333333333333333,
              "#9c179e"
             ],
             [
              0.4444444444444444,
              "#bd3786"
             ],
             [
              0.5555555555555556,
              "#d8576b"
             ],
             [
              0.6666666666666666,
              "#ed7953"
             ],
             [
              0.7777777777777778,
              "#fb9f3a"
             ],
             [
              0.8888888888888888,
              "#fdca26"
             ],
             [
              1,
              "#f0f921"
             ]
            ],
            "type": "contour"
           }
          ],
          "contourcarpet": [
           {
            "colorbar": {
             "outlinewidth": 0,
             "ticks": ""
            },
            "type": "contourcarpet"
           }
          ],
          "heatmap": [
           {
            "colorbar": {
             "outlinewidth": 0,
             "ticks": ""
            },
            "colorscale": [
             [
              0,
              "#0d0887"
             ],
             [
              0.1111111111111111,
              "#46039f"
             ],
             [
              0.2222222222222222,
              "#7201a8"
             ],
             [
              0.3333333333333333,
              "#9c179e"
             ],
             [
              0.4444444444444444,
              "#bd3786"
             ],
             [
              0.5555555555555556,
              "#d8576b"
             ],
             [
              0.6666666666666666,
              "#ed7953"
             ],
             [
              0.7777777777777778,
              "#fb9f3a"
             ],
             [
              0.8888888888888888,
              "#fdca26"
             ],
             [
              1,
              "#f0f921"
             ]
            ],
            "type": "heatmap"
           }
          ],
          "heatmapgl": [
           {
            "colorbar": {
             "outlinewidth": 0,
             "ticks": ""
            },
            "colorscale": [
             [
              0,
              "#0d0887"
             ],
             [
              0.1111111111111111,
              "#46039f"
             ],
             [
              0.2222222222222222,
              "#7201a8"
             ],
             [
              0.3333333333333333,
              "#9c179e"
             ],
             [
              0.4444444444444444,
              "#bd3786"
             ],
             [
              0.5555555555555556,
              "#d8576b"
             ],
             [
              0.6666666666666666,
              "#ed7953"
             ],
             [
              0.7777777777777778,
              "#fb9f3a"
             ],
             [
              0.8888888888888888,
              "#fdca26"
             ],
             [
              1,
              "#f0f921"
             ]
            ],
            "type": "heatmapgl"
           }
          ],
          "histogram": [
           {
            "marker": {
             "pattern": {
              "fillmode": "overlay",
              "size": 10,
              "solidity": 0.2
             }
            },
            "type": "histogram"
           }
          ],
          "histogram2d": [
           {
            "colorbar": {
             "outlinewidth": 0,
             "ticks": ""
            },
            "colorscale": [
             [
              0,
              "#0d0887"
             ],
             [
              0.1111111111111111,
              "#46039f"
             ],
             [
              0.2222222222222222,
              "#7201a8"
             ],
             [
              0.3333333333333333,
              "#9c179e"
             ],
             [
              0.4444444444444444,
              "#bd3786"
             ],
             [
              0.5555555555555556,
              "#d8576b"
             ],
             [
              0.6666666666666666,
              "#ed7953"
             ],
             [
              0.7777777777777778,
              "#fb9f3a"
             ],
             [
              0.8888888888888888,
              "#fdca26"
             ],
             [
              1,
              "#f0f921"
             ]
            ],
            "type": "histogram2d"
           }
          ],
          "histogram2dcontour": [
           {
            "colorbar": {
             "outlinewidth": 0,
             "ticks": ""
            },
            "colorscale": [
             [
              0,
              "#0d0887"
             ],
             [
              0.1111111111111111,
              "#46039f"
             ],
             [
              0.2222222222222222,
              "#7201a8"
             ],
             [
              0.3333333333333333,
              "#9c179e"
             ],
             [
              0.4444444444444444,
              "#bd3786"
             ],
             [
              0.5555555555555556,
              "#d8576b"
             ],
             [
              0.6666666666666666,
              "#ed7953"
             ],
             [
              0.7777777777777778,
              "#fb9f3a"
             ],
             [
              0.8888888888888888,
              "#fdca26"
             ],
             [
              1,
              "#f0f921"
             ]
            ],
            "type": "histogram2dcontour"
           }
          ],
          "mesh3d": [
           {
            "colorbar": {
             "outlinewidth": 0,
             "ticks": ""
            },
            "type": "mesh3d"
           }
          ],
          "parcoords": [
           {
            "line": {
             "colorbar": {
              "outlinewidth": 0,
              "ticks": ""
             }
            },
            "type": "parcoords"
           }
          ],
          "pie": [
           {
            "automargin": true,
            "type": "pie"
           }
          ],
          "scatter": [
           {
            "fillpattern": {
             "fillmode": "overlay",
             "size": 10,
             "solidity": 0.2
            },
            "type": "scatter"
           }
          ],
          "scatter3d": [
           {
            "line": {
             "colorbar": {
              "outlinewidth": 0,
              "ticks": ""
             }
            },
            "marker": {
             "colorbar": {
              "outlinewidth": 0,
              "ticks": ""
             }
            },
            "type": "scatter3d"
           }
          ],
          "scattercarpet": [
           {
            "marker": {
             "colorbar": {
              "outlinewidth": 0,
              "ticks": ""
             }
            },
            "type": "scattercarpet"
           }
          ],
          "scattergeo": [
           {
            "marker": {
             "colorbar": {
              "outlinewidth": 0,
              "ticks": ""
             }
            },
            "type": "scattergeo"
           }
          ],
          "scattergl": [
           {
            "marker": {
             "colorbar": {
              "outlinewidth": 0,
              "ticks": ""
             }
            },
            "type": "scattergl"
           }
          ],
          "scattermapbox": [
           {
            "marker": {
             "colorbar": {
              "outlinewidth": 0,
              "ticks": ""
             }
            },
            "type": "scattermapbox"
           }
          ],
          "scatterpolar": [
           {
            "marker": {
             "colorbar": {
              "outlinewidth": 0,
              "ticks": ""
             }
            },
            "type": "scatterpolar"
           }
          ],
          "scatterpolargl": [
           {
            "marker": {
             "colorbar": {
              "outlinewidth": 0,
              "ticks": ""
             }
            },
            "type": "scatterpolargl"
           }
          ],
          "scatterternary": [
           {
            "marker": {
             "colorbar": {
              "outlinewidth": 0,
              "ticks": ""
             }
            },
            "type": "scatterternary"
           }
          ],
          "surface": [
           {
            "colorbar": {
             "outlinewidth": 0,
             "ticks": ""
            },
            "colorscale": [
             [
              0,
              "#0d0887"
             ],
             [
              0.1111111111111111,
              "#46039f"
             ],
             [
              0.2222222222222222,
              "#7201a8"
             ],
             [
              0.3333333333333333,
              "#9c179e"
             ],
             [
              0.4444444444444444,
              "#bd3786"
             ],
             [
              0.5555555555555556,
              "#d8576b"
             ],
             [
              0.6666666666666666,
              "#ed7953"
             ],
             [
              0.7777777777777778,
              "#fb9f3a"
             ],
             [
              0.8888888888888888,
              "#fdca26"
             ],
             [
              1,
              "#f0f921"
             ]
            ],
            "type": "surface"
           }
          ],
          "table": [
           {
            "cells": {
             "fill": {
              "color": "#EBF0F8"
             },
             "line": {
              "color": "white"
             }
            },
            "header": {
             "fill": {
              "color": "#C8D4E3"
             },
             "line": {
              "color": "white"
             }
            },
            "type": "table"
           }
          ]
         },
         "layout": {
          "annotationdefaults": {
           "arrowcolor": "#2a3f5f",
           "arrowhead": 0,
           "arrowwidth": 1
          },
          "autotypenumbers": "strict",
          "coloraxis": {
           "colorbar": {
            "outlinewidth": 0,
            "ticks": ""
           }
          },
          "colorscale": {
           "diverging": [
            [
             0,
             "#8e0152"
            ],
            [
             0.1,
             "#c51b7d"
            ],
            [
             0.2,
             "#de77ae"
            ],
            [
             0.3,
             "#f1b6da"
            ],
            [
             0.4,
             "#fde0ef"
            ],
            [
             0.5,
             "#f7f7f7"
            ],
            [
             0.6,
             "#e6f5d0"
            ],
            [
             0.7,
             "#b8e186"
            ],
            [
             0.8,
             "#7fbc41"
            ],
            [
             0.9,
             "#4d9221"
            ],
            [
             1,
             "#276419"
            ]
           ],
           "sequential": [
            [
             0,
             "#0d0887"
            ],
            [
             0.1111111111111111,
             "#46039f"
            ],
            [
             0.2222222222222222,
             "#7201a8"
            ],
            [
             0.3333333333333333,
             "#9c179e"
            ],
            [
             0.4444444444444444,
             "#bd3786"
            ],
            [
             0.5555555555555556,
             "#d8576b"
            ],
            [
             0.6666666666666666,
             "#ed7953"
            ],
            [
             0.7777777777777778,
             "#fb9f3a"
            ],
            [
             0.8888888888888888,
             "#fdca26"
            ],
            [
             1,
             "#f0f921"
            ]
           ],
           "sequentialminus": [
            [
             0,
             "#0d0887"
            ],
            [
             0.1111111111111111,
             "#46039f"
            ],
            [
             0.2222222222222222,
             "#7201a8"
            ],
            [
             0.3333333333333333,
             "#9c179e"
            ],
            [
             0.4444444444444444,
             "#bd3786"
            ],
            [
             0.5555555555555556,
             "#d8576b"
            ],
            [
             0.6666666666666666,
             "#ed7953"
            ],
            [
             0.7777777777777778,
             "#fb9f3a"
            ],
            [
             0.8888888888888888,
             "#fdca26"
            ],
            [
             1,
             "#f0f921"
            ]
           ]
          },
          "colorway": [
           "#636efa",
           "#EF553B",
           "#00cc96",
           "#ab63fa",
           "#FFA15A",
           "#19d3f3",
           "#FF6692",
           "#B6E880",
           "#FF97FF",
           "#FECB52"
          ],
          "font": {
           "color": "#2a3f5f"
          },
          "geo": {
           "bgcolor": "white",
           "lakecolor": "white",
           "landcolor": "#E5ECF6",
           "showlakes": true,
           "showland": true,
           "subunitcolor": "white"
          },
          "hoverlabel": {
           "align": "left"
          },
          "hovermode": "closest",
          "mapbox": {
           "style": "light"
          },
          "paper_bgcolor": "white",
          "plot_bgcolor": "#E5ECF6",
          "polar": {
           "angularaxis": {
            "gridcolor": "white",
            "linecolor": "white",
            "ticks": ""
           },
           "bgcolor": "#E5ECF6",
           "radialaxis": {
            "gridcolor": "white",
            "linecolor": "white",
            "ticks": ""
           }
          },
          "scene": {
           "xaxis": {
            "backgroundcolor": "#E5ECF6",
            "gridcolor": "white",
            "gridwidth": 2,
            "linecolor": "white",
            "showbackground": true,
            "ticks": "",
            "zerolinecolor": "white"
           },
           "yaxis": {
            "backgroundcolor": "#E5ECF6",
            "gridcolor": "white",
            "gridwidth": 2,
            "linecolor": "white",
            "showbackground": true,
            "ticks": "",
            "zerolinecolor": "white"
           },
           "zaxis": {
            "backgroundcolor": "#E5ECF6",
            "gridcolor": "white",
            "gridwidth": 2,
            "linecolor": "white",
            "showbackground": true,
            "ticks": "",
            "zerolinecolor": "white"
           }
          },
          "shapedefaults": {
           "line": {
            "color": "#2a3f5f"
           }
          },
          "ternary": {
           "aaxis": {
            "gridcolor": "white",
            "linecolor": "white",
            "ticks": ""
           },
           "baxis": {
            "gridcolor": "white",
            "linecolor": "white",
            "ticks": ""
           },
           "bgcolor": "#E5ECF6",
           "caxis": {
            "gridcolor": "white",
            "linecolor": "white",
            "ticks": ""
           }
          },
          "title": {
           "x": 0.05
          },
          "xaxis": {
           "automargin": true,
           "gridcolor": "white",
           "linecolor": "white",
           "ticks": "",
           "title": {
            "standoff": 15
           },
           "zerolinecolor": "white",
           "zerolinewidth": 2
          },
          "yaxis": {
           "automargin": true,
           "gridcolor": "white",
           "linecolor": "white",
           "ticks": "",
           "title": {
            "standoff": 15
           },
           "zerolinecolor": "white",
           "zerolinewidth": 2
          }
         }
        },
        "title": {
         "text": "Counts of Negative Reasons for Airline US Airways"
        },
        "xaxis": {
         "anchor": "y",
         "domain": [
          0,
          1
         ],
         "title": {
          "text": "negativereason"
         }
        },
        "yaxis": {
         "anchor": "x",
         "domain": [
          0,
          1
         ],
         "title": {
          "text": "count"
         }
        }
       }
      }
     },
     "metadata": {},
     "output_type": "display_data"
    },
    {
     "data": {
      "application/vnd.plotly.v1+json": {
       "config": {
        "plotlyServerURL": "https://plot.ly"
       },
       "data": [
        {
         "alignmentgroup": "True",
         "hovertemplate": "negativereason=%{x}<br>count=%{y}<extra></extra>",
         "legendgroup": "",
         "marker": {
          "color": "pink",
          "pattern": {
           "shape": ""
          }
         },
         "name": "",
         "offsetgroup": "",
         "orientation": "v",
         "showlegend": false,
         "textposition": "auto",
         "type": "bar",
         "x": [
          "Bad Flight",
          "Can't Tell",
          "Cancelled Flight",
          "Customer Service Issue",
          "Damaged Luggage",
          "Flight Attendant Complaints",
          "Flight Booking Problems",
          "Late Flight",
          "Lost Luggage",
          "longlines"
         ],
         "xaxis": "x",
         "y": [
          216,
          379,
          181,
          681,
          22,
          168,
          144,
          525,
          269,
          48
         ],
         "yaxis": "y"
        }
       ],
       "layout": {
        "barmode": "relative",
        "legend": {
         "tracegroupgap": 0
        },
        "template": {
         "data": {
          "bar": [
           {
            "error_x": {
             "color": "#2a3f5f"
            },
            "error_y": {
             "color": "#2a3f5f"
            },
            "marker": {
             "line": {
              "color": "#E5ECF6",
              "width": 0.5
             },
             "pattern": {
              "fillmode": "overlay",
              "size": 10,
              "solidity": 0.2
             }
            },
            "type": "bar"
           }
          ],
          "barpolar": [
           {
            "marker": {
             "line": {
              "color": "#E5ECF6",
              "width": 0.5
             },
             "pattern": {
              "fillmode": "overlay",
              "size": 10,
              "solidity": 0.2
             }
            },
            "type": "barpolar"
           }
          ],
          "carpet": [
           {
            "aaxis": {
             "endlinecolor": "#2a3f5f",
             "gridcolor": "white",
             "linecolor": "white",
             "minorgridcolor": "white",
             "startlinecolor": "#2a3f5f"
            },
            "baxis": {
             "endlinecolor": "#2a3f5f",
             "gridcolor": "white",
             "linecolor": "white",
             "minorgridcolor": "white",
             "startlinecolor": "#2a3f5f"
            },
            "type": "carpet"
           }
          ],
          "choropleth": [
           {
            "colorbar": {
             "outlinewidth": 0,
             "ticks": ""
            },
            "type": "choropleth"
           }
          ],
          "contour": [
           {
            "colorbar": {
             "outlinewidth": 0,
             "ticks": ""
            },
            "colorscale": [
             [
              0,
              "#0d0887"
             ],
             [
              0.1111111111111111,
              "#46039f"
             ],
             [
              0.2222222222222222,
              "#7201a8"
             ],
             [
              0.3333333333333333,
              "#9c179e"
             ],
             [
              0.4444444444444444,
              "#bd3786"
             ],
             [
              0.5555555555555556,
              "#d8576b"
             ],
             [
              0.6666666666666666,
              "#ed7953"
             ],
             [
              0.7777777777777778,
              "#fb9f3a"
             ],
             [
              0.8888888888888888,
              "#fdca26"
             ],
             [
              1,
              "#f0f921"
             ]
            ],
            "type": "contour"
           }
          ],
          "contourcarpet": [
           {
            "colorbar": {
             "outlinewidth": 0,
             "ticks": ""
            },
            "type": "contourcarpet"
           }
          ],
          "heatmap": [
           {
            "colorbar": {
             "outlinewidth": 0,
             "ticks": ""
            },
            "colorscale": [
             [
              0,
              "#0d0887"
             ],
             [
              0.1111111111111111,
              "#46039f"
             ],
             [
              0.2222222222222222,
              "#7201a8"
             ],
             [
              0.3333333333333333,
              "#9c179e"
             ],
             [
              0.4444444444444444,
              "#bd3786"
             ],
             [
              0.5555555555555556,
              "#d8576b"
             ],
             [
              0.6666666666666666,
              "#ed7953"
             ],
             [
              0.7777777777777778,
              "#fb9f3a"
             ],
             [
              0.8888888888888888,
              "#fdca26"
             ],
             [
              1,
              "#f0f921"
             ]
            ],
            "type": "heatmap"
           }
          ],
          "heatmapgl": [
           {
            "colorbar": {
             "outlinewidth": 0,
             "ticks": ""
            },
            "colorscale": [
             [
              0,
              "#0d0887"
             ],
             [
              0.1111111111111111,
              "#46039f"
             ],
             [
              0.2222222222222222,
              "#7201a8"
             ],
             [
              0.3333333333333333,
              "#9c179e"
             ],
             [
              0.4444444444444444,
              "#bd3786"
             ],
             [
              0.5555555555555556,
              "#d8576b"
             ],
             [
              0.6666666666666666,
              "#ed7953"
             ],
             [
              0.7777777777777778,
              "#fb9f3a"
             ],
             [
              0.8888888888888888,
              "#fdca26"
             ],
             [
              1,
              "#f0f921"
             ]
            ],
            "type": "heatmapgl"
           }
          ],
          "histogram": [
           {
            "marker": {
             "pattern": {
              "fillmode": "overlay",
              "size": 10,
              "solidity": 0.2
             }
            },
            "type": "histogram"
           }
          ],
          "histogram2d": [
           {
            "colorbar": {
             "outlinewidth": 0,
             "ticks": ""
            },
            "colorscale": [
             [
              0,
              "#0d0887"
             ],
             [
              0.1111111111111111,
              "#46039f"
             ],
             [
              0.2222222222222222,
              "#7201a8"
             ],
             [
              0.3333333333333333,
              "#9c179e"
             ],
             [
              0.4444444444444444,
              "#bd3786"
             ],
             [
              0.5555555555555556,
              "#d8576b"
             ],
             [
              0.6666666666666666,
              "#ed7953"
             ],
             [
              0.7777777777777778,
              "#fb9f3a"
             ],
             [
              0.8888888888888888,
              "#fdca26"
             ],
             [
              1,
              "#f0f921"
             ]
            ],
            "type": "histogram2d"
           }
          ],
          "histogram2dcontour": [
           {
            "colorbar": {
             "outlinewidth": 0,
             "ticks": ""
            },
            "colorscale": [
             [
              0,
              "#0d0887"
             ],
             [
              0.1111111111111111,
              "#46039f"
             ],
             [
              0.2222222222222222,
              "#7201a8"
             ],
             [
              0.3333333333333333,
              "#9c179e"
             ],
             [
              0.4444444444444444,
              "#bd3786"
             ],
             [
              0.5555555555555556,
              "#d8576b"
             ],
             [
              0.6666666666666666,
              "#ed7953"
             ],
             [
              0.7777777777777778,
              "#fb9f3a"
             ],
             [
              0.8888888888888888,
              "#fdca26"
             ],
             [
              1,
              "#f0f921"
             ]
            ],
            "type": "histogram2dcontour"
           }
          ],
          "mesh3d": [
           {
            "colorbar": {
             "outlinewidth": 0,
             "ticks": ""
            },
            "type": "mesh3d"
           }
          ],
          "parcoords": [
           {
            "line": {
             "colorbar": {
              "outlinewidth": 0,
              "ticks": ""
             }
            },
            "type": "parcoords"
           }
          ],
          "pie": [
           {
            "automargin": true,
            "type": "pie"
           }
          ],
          "scatter": [
           {
            "fillpattern": {
             "fillmode": "overlay",
             "size": 10,
             "solidity": 0.2
            },
            "type": "scatter"
           }
          ],
          "scatter3d": [
           {
            "line": {
             "colorbar": {
              "outlinewidth": 0,
              "ticks": ""
             }
            },
            "marker": {
             "colorbar": {
              "outlinewidth": 0,
              "ticks": ""
             }
            },
            "type": "scatter3d"
           }
          ],
          "scattercarpet": [
           {
            "marker": {
             "colorbar": {
              "outlinewidth": 0,
              "ticks": ""
             }
            },
            "type": "scattercarpet"
           }
          ],
          "scattergeo": [
           {
            "marker": {
             "colorbar": {
              "outlinewidth": 0,
              "ticks": ""
             }
            },
            "type": "scattergeo"
           }
          ],
          "scattergl": [
           {
            "marker": {
             "colorbar": {
              "outlinewidth": 0,
              "ticks": ""
             }
            },
            "type": "scattergl"
           }
          ],
          "scattermapbox": [
           {
            "marker": {
             "colorbar": {
              "outlinewidth": 0,
              "ticks": ""
             }
            },
            "type": "scattermapbox"
           }
          ],
          "scatterpolar": [
           {
            "marker": {
             "colorbar": {
              "outlinewidth": 0,
              "ticks": ""
             }
            },
            "type": "scatterpolar"
           }
          ],
          "scatterpolargl": [
           {
            "marker": {
             "colorbar": {
              "outlinewidth": 0,
              "ticks": ""
             }
            },
            "type": "scatterpolargl"
           }
          ],
          "scatterternary": [
           {
            "marker": {
             "colorbar": {
              "outlinewidth": 0,
              "ticks": ""
             }
            },
            "type": "scatterternary"
           }
          ],
          "surface": [
           {
            "colorbar": {
             "outlinewidth": 0,
             "ticks": ""
            },
            "colorscale": [
             [
              0,
              "#0d0887"
             ],
             [
              0.1111111111111111,
              "#46039f"
             ],
             [
              0.2222222222222222,
              "#7201a8"
             ],
             [
              0.3333333333333333,
              "#9c179e"
             ],
             [
              0.4444444444444444,
              "#bd3786"
             ],
             [
              0.5555555555555556,
              "#d8576b"
             ],
             [
              0.6666666666666666,
              "#ed7953"
             ],
             [
              0.7777777777777778,
              "#fb9f3a"
             ],
             [
              0.8888888888888888,
              "#fdca26"
             ],
             [
              1,
              "#f0f921"
             ]
            ],
            "type": "surface"
           }
          ],
          "table": [
           {
            "cells": {
             "fill": {
              "color": "#EBF0F8"
             },
             "line": {
              "color": "white"
             }
            },
            "header": {
             "fill": {
              "color": "#C8D4E3"
             },
             "line": {
              "color": "white"
             }
            },
            "type": "table"
           }
          ]
         },
         "layout": {
          "annotationdefaults": {
           "arrowcolor": "#2a3f5f",
           "arrowhead": 0,
           "arrowwidth": 1
          },
          "autotypenumbers": "strict",
          "coloraxis": {
           "colorbar": {
            "outlinewidth": 0,
            "ticks": ""
           }
          },
          "colorscale": {
           "diverging": [
            [
             0,
             "#8e0152"
            ],
            [
             0.1,
             "#c51b7d"
            ],
            [
             0.2,
             "#de77ae"
            ],
            [
             0.3,
             "#f1b6da"
            ],
            [
             0.4,
             "#fde0ef"
            ],
            [
             0.5,
             "#f7f7f7"
            ],
            [
             0.6,
             "#e6f5d0"
            ],
            [
             0.7,
             "#b8e186"
            ],
            [
             0.8,
             "#7fbc41"
            ],
            [
             0.9,
             "#4d9221"
            ],
            [
             1,
             "#276419"
            ]
           ],
           "sequential": [
            [
             0,
             "#0d0887"
            ],
            [
             0.1111111111111111,
             "#46039f"
            ],
            [
             0.2222222222222222,
             "#7201a8"
            ],
            [
             0.3333333333333333,
             "#9c179e"
            ],
            [
             0.4444444444444444,
             "#bd3786"
            ],
            [
             0.5555555555555556,
             "#d8576b"
            ],
            [
             0.6666666666666666,
             "#ed7953"
            ],
            [
             0.7777777777777778,
             "#fb9f3a"
            ],
            [
             0.8888888888888888,
             "#fdca26"
            ],
            [
             1,
             "#f0f921"
            ]
           ],
           "sequentialminus": [
            [
             0,
             "#0d0887"
            ],
            [
             0.1111111111111111,
             "#46039f"
            ],
            [
             0.2222222222222222,
             "#7201a8"
            ],
            [
             0.3333333333333333,
             "#9c179e"
            ],
            [
             0.4444444444444444,
             "#bd3786"
            ],
            [
             0.5555555555555556,
             "#d8576b"
            ],
            [
             0.6666666666666666,
             "#ed7953"
            ],
            [
             0.7777777777777778,
             "#fb9f3a"
            ],
            [
             0.8888888888888888,
             "#fdca26"
            ],
            [
             1,
             "#f0f921"
            ]
           ]
          },
          "colorway": [
           "#636efa",
           "#EF553B",
           "#00cc96",
           "#ab63fa",
           "#FFA15A",
           "#19d3f3",
           "#FF6692",
           "#B6E880",
           "#FF97FF",
           "#FECB52"
          ],
          "font": {
           "color": "#2a3f5f"
          },
          "geo": {
           "bgcolor": "white",
           "lakecolor": "white",
           "landcolor": "#E5ECF6",
           "showlakes": true,
           "showland": true,
           "subunitcolor": "white"
          },
          "hoverlabel": {
           "align": "left"
          },
          "hovermode": "closest",
          "mapbox": {
           "style": "light"
          },
          "paper_bgcolor": "white",
          "plot_bgcolor": "#E5ECF6",
          "polar": {
           "angularaxis": {
            "gridcolor": "white",
            "linecolor": "white",
            "ticks": ""
           },
           "bgcolor": "#E5ECF6",
           "radialaxis": {
            "gridcolor": "white",
            "linecolor": "white",
            "ticks": ""
           }
          },
          "scene": {
           "xaxis": {
            "backgroundcolor": "#E5ECF6",
            "gridcolor": "white",
            "gridwidth": 2,
            "linecolor": "white",
            "showbackground": true,
            "ticks": "",
            "zerolinecolor": "white"
           },
           "yaxis": {
            "backgroundcolor": "#E5ECF6",
            "gridcolor": "white",
            "gridwidth": 2,
            "linecolor": "white",
            "showbackground": true,
            "ticks": "",
            "zerolinecolor": "white"
           },
           "zaxis": {
            "backgroundcolor": "#E5ECF6",
            "gridcolor": "white",
            "gridwidth": 2,
            "linecolor": "white",
            "showbackground": true,
            "ticks": "",
            "zerolinecolor": "white"
           }
          },
          "shapedefaults": {
           "line": {
            "color": "#2a3f5f"
           }
          },
          "ternary": {
           "aaxis": {
            "gridcolor": "white",
            "linecolor": "white",
            "ticks": ""
           },
           "baxis": {
            "gridcolor": "white",
            "linecolor": "white",
            "ticks": ""
           },
           "bgcolor": "#E5ECF6",
           "caxis": {
            "gridcolor": "white",
            "linecolor": "white",
            "ticks": ""
           }
          },
          "title": {
           "x": 0.05
          },
          "xaxis": {
           "automargin": true,
           "gridcolor": "white",
           "linecolor": "white",
           "ticks": "",
           "title": {
            "standoff": 15
           },
           "zerolinecolor": "white",
           "zerolinewidth": 2
          },
          "yaxis": {
           "automargin": true,
           "gridcolor": "white",
           "linecolor": "white",
           "ticks": "",
           "title": {
            "standoff": 15
           },
           "zerolinecolor": "white",
           "zerolinewidth": 2
          }
         }
        },
        "title": {
         "text": "Counts of Negative Reasons for Airline United"
        },
        "xaxis": {
         "anchor": "y",
         "domain": [
          0,
          1
         ],
         "title": {
          "text": "negativereason"
         }
        },
        "yaxis": {
         "anchor": "x",
         "domain": [
          0,
          1
         ],
         "title": {
          "text": "count"
         }
        }
       }
      }
     },
     "metadata": {},
     "output_type": "display_data"
    },
    {
     "data": {
      "application/vnd.plotly.v1+json": {
       "config": {
        "plotlyServerURL": "https://plot.ly"
       },
       "data": [
        {
         "alignmentgroup": "True",
         "hovertemplate": "negativereason=%{x}<br>count=%{y}<extra></extra>",
         "legendgroup": "",
         "marker": {
          "color": "pink",
          "pattern": {
           "shape": ""
          }
         },
         "name": "",
         "offsetgroup": "",
         "orientation": "v",
         "showlegend": false,
         "textposition": "auto",
         "type": "bar",
         "x": [
          "Bad Flight",
          "Can't Tell",
          "Cancelled Flight",
          "Customer Service Issue",
          "Damaged Luggage",
          "Flight Attendant Complaints",
          "Flight Booking Problems",
          "Late Flight",
          "Lost Luggage",
          "longlines"
         ],
         "xaxis": "x",
         "y": [
          19,
          22,
          18,
          60,
          4,
          5,
          28,
          17,
          5,
          3
         ],
         "yaxis": "y"
        }
       ],
       "layout": {
        "barmode": "relative",
        "legend": {
         "tracegroupgap": 0
        },
        "template": {
         "data": {
          "bar": [
           {
            "error_x": {
             "color": "#2a3f5f"
            },
            "error_y": {
             "color": "#2a3f5f"
            },
            "marker": {
             "line": {
              "color": "#E5ECF6",
              "width": 0.5
             },
             "pattern": {
              "fillmode": "overlay",
              "size": 10,
              "solidity": 0.2
             }
            },
            "type": "bar"
           }
          ],
          "barpolar": [
           {
            "marker": {
             "line": {
              "color": "#E5ECF6",
              "width": 0.5
             },
             "pattern": {
              "fillmode": "overlay",
              "size": 10,
              "solidity": 0.2
             }
            },
            "type": "barpolar"
           }
          ],
          "carpet": [
           {
            "aaxis": {
             "endlinecolor": "#2a3f5f",
             "gridcolor": "white",
             "linecolor": "white",
             "minorgridcolor": "white",
             "startlinecolor": "#2a3f5f"
            },
            "baxis": {
             "endlinecolor": "#2a3f5f",
             "gridcolor": "white",
             "linecolor": "white",
             "minorgridcolor": "white",
             "startlinecolor": "#2a3f5f"
            },
            "type": "carpet"
           }
          ],
          "choropleth": [
           {
            "colorbar": {
             "outlinewidth": 0,
             "ticks": ""
            },
            "type": "choropleth"
           }
          ],
          "contour": [
           {
            "colorbar": {
             "outlinewidth": 0,
             "ticks": ""
            },
            "colorscale": [
             [
              0,
              "#0d0887"
             ],
             [
              0.1111111111111111,
              "#46039f"
             ],
             [
              0.2222222222222222,
              "#7201a8"
             ],
             [
              0.3333333333333333,
              "#9c179e"
             ],
             [
              0.4444444444444444,
              "#bd3786"
             ],
             [
              0.5555555555555556,
              "#d8576b"
             ],
             [
              0.6666666666666666,
              "#ed7953"
             ],
             [
              0.7777777777777778,
              "#fb9f3a"
             ],
             [
              0.8888888888888888,
              "#fdca26"
             ],
             [
              1,
              "#f0f921"
             ]
            ],
            "type": "contour"
           }
          ],
          "contourcarpet": [
           {
            "colorbar": {
             "outlinewidth": 0,
             "ticks": ""
            },
            "type": "contourcarpet"
           }
          ],
          "heatmap": [
           {
            "colorbar": {
             "outlinewidth": 0,
             "ticks": ""
            },
            "colorscale": [
             [
              0,
              "#0d0887"
             ],
             [
              0.1111111111111111,
              "#46039f"
             ],
             [
              0.2222222222222222,
              "#7201a8"
             ],
             [
              0.3333333333333333,
              "#9c179e"
             ],
             [
              0.4444444444444444,
              "#bd3786"
             ],
             [
              0.5555555555555556,
              "#d8576b"
             ],
             [
              0.6666666666666666,
              "#ed7953"
             ],
             [
              0.7777777777777778,
              "#fb9f3a"
             ],
             [
              0.8888888888888888,
              "#fdca26"
             ],
             [
              1,
              "#f0f921"
             ]
            ],
            "type": "heatmap"
           }
          ],
          "heatmapgl": [
           {
            "colorbar": {
             "outlinewidth": 0,
             "ticks": ""
            },
            "colorscale": [
             [
              0,
              "#0d0887"
             ],
             [
              0.1111111111111111,
              "#46039f"
             ],
             [
              0.2222222222222222,
              "#7201a8"
             ],
             [
              0.3333333333333333,
              "#9c179e"
             ],
             [
              0.4444444444444444,
              "#bd3786"
             ],
             [
              0.5555555555555556,
              "#d8576b"
             ],
             [
              0.6666666666666666,
              "#ed7953"
             ],
             [
              0.7777777777777778,
              "#fb9f3a"
             ],
             [
              0.8888888888888888,
              "#fdca26"
             ],
             [
              1,
              "#f0f921"
             ]
            ],
            "type": "heatmapgl"
           }
          ],
          "histogram": [
           {
            "marker": {
             "pattern": {
              "fillmode": "overlay",
              "size": 10,
              "solidity": 0.2
             }
            },
            "type": "histogram"
           }
          ],
          "histogram2d": [
           {
            "colorbar": {
             "outlinewidth": 0,
             "ticks": ""
            },
            "colorscale": [
             [
              0,
              "#0d0887"
             ],
             [
              0.1111111111111111,
              "#46039f"
             ],
             [
              0.2222222222222222,
              "#7201a8"
             ],
             [
              0.3333333333333333,
              "#9c179e"
             ],
             [
              0.4444444444444444,
              "#bd3786"
             ],
             [
              0.5555555555555556,
              "#d8576b"
             ],
             [
              0.6666666666666666,
              "#ed7953"
             ],
             [
              0.7777777777777778,
              "#fb9f3a"
             ],
             [
              0.8888888888888888,
              "#fdca26"
             ],
             [
              1,
              "#f0f921"
             ]
            ],
            "type": "histogram2d"
           }
          ],
          "histogram2dcontour": [
           {
            "colorbar": {
             "outlinewidth": 0,
             "ticks": ""
            },
            "colorscale": [
             [
              0,
              "#0d0887"
             ],
             [
              0.1111111111111111,
              "#46039f"
             ],
             [
              0.2222222222222222,
              "#7201a8"
             ],
             [
              0.3333333333333333,
              "#9c179e"
             ],
             [
              0.4444444444444444,
              "#bd3786"
             ],
             [
              0.5555555555555556,
              "#d8576b"
             ],
             [
              0.6666666666666666,
              "#ed7953"
             ],
             [
              0.7777777777777778,
              "#fb9f3a"
             ],
             [
              0.8888888888888888,
              "#fdca26"
             ],
             [
              1,
              "#f0f921"
             ]
            ],
            "type": "histogram2dcontour"
           }
          ],
          "mesh3d": [
           {
            "colorbar": {
             "outlinewidth": 0,
             "ticks": ""
            },
            "type": "mesh3d"
           }
          ],
          "parcoords": [
           {
            "line": {
             "colorbar": {
              "outlinewidth": 0,
              "ticks": ""
             }
            },
            "type": "parcoords"
           }
          ],
          "pie": [
           {
            "automargin": true,
            "type": "pie"
           }
          ],
          "scatter": [
           {
            "fillpattern": {
             "fillmode": "overlay",
             "size": 10,
             "solidity": 0.2
            },
            "type": "scatter"
           }
          ],
          "scatter3d": [
           {
            "line": {
             "colorbar": {
              "outlinewidth": 0,
              "ticks": ""
             }
            },
            "marker": {
             "colorbar": {
              "outlinewidth": 0,
              "ticks": ""
             }
            },
            "type": "scatter3d"
           }
          ],
          "scattercarpet": [
           {
            "marker": {
             "colorbar": {
              "outlinewidth": 0,
              "ticks": ""
             }
            },
            "type": "scattercarpet"
           }
          ],
          "scattergeo": [
           {
            "marker": {
             "colorbar": {
              "outlinewidth": 0,
              "ticks": ""
             }
            },
            "type": "scattergeo"
           }
          ],
          "scattergl": [
           {
            "marker": {
             "colorbar": {
              "outlinewidth": 0,
              "ticks": ""
             }
            },
            "type": "scattergl"
           }
          ],
          "scattermapbox": [
           {
            "marker": {
             "colorbar": {
              "outlinewidth": 0,
              "ticks": ""
             }
            },
            "type": "scattermapbox"
           }
          ],
          "scatterpolar": [
           {
            "marker": {
             "colorbar": {
              "outlinewidth": 0,
              "ticks": ""
             }
            },
            "type": "scatterpolar"
           }
          ],
          "scatterpolargl": [
           {
            "marker": {
             "colorbar": {
              "outlinewidth": 0,
              "ticks": ""
             }
            },
            "type": "scatterpolargl"
           }
          ],
          "scatterternary": [
           {
            "marker": {
             "colorbar": {
              "outlinewidth": 0,
              "ticks": ""
             }
            },
            "type": "scatterternary"
           }
          ],
          "surface": [
           {
            "colorbar": {
             "outlinewidth": 0,
             "ticks": ""
            },
            "colorscale": [
             [
              0,
              "#0d0887"
             ],
             [
              0.1111111111111111,
              "#46039f"
             ],
             [
              0.2222222222222222,
              "#7201a8"
             ],
             [
              0.3333333333333333,
              "#9c179e"
             ],
             [
              0.4444444444444444,
              "#bd3786"
             ],
             [
              0.5555555555555556,
              "#d8576b"
             ],
             [
              0.6666666666666666,
              "#ed7953"
             ],
             [
              0.7777777777777778,
              "#fb9f3a"
             ],
             [
              0.8888888888888888,
              "#fdca26"
             ],
             [
              1,
              "#f0f921"
             ]
            ],
            "type": "surface"
           }
          ],
          "table": [
           {
            "cells": {
             "fill": {
              "color": "#EBF0F8"
             },
             "line": {
              "color": "white"
             }
            },
            "header": {
             "fill": {
              "color": "#C8D4E3"
             },
             "line": {
              "color": "white"
             }
            },
            "type": "table"
           }
          ]
         },
         "layout": {
          "annotationdefaults": {
           "arrowcolor": "#2a3f5f",
           "arrowhead": 0,
           "arrowwidth": 1
          },
          "autotypenumbers": "strict",
          "coloraxis": {
           "colorbar": {
            "outlinewidth": 0,
            "ticks": ""
           }
          },
          "colorscale": {
           "diverging": [
            [
             0,
             "#8e0152"
            ],
            [
             0.1,
             "#c51b7d"
            ],
            [
             0.2,
             "#de77ae"
            ],
            [
             0.3,
             "#f1b6da"
            ],
            [
             0.4,
             "#fde0ef"
            ],
            [
             0.5,
             "#f7f7f7"
            ],
            [
             0.6,
             "#e6f5d0"
            ],
            [
             0.7,
             "#b8e186"
            ],
            [
             0.8,
             "#7fbc41"
            ],
            [
             0.9,
             "#4d9221"
            ],
            [
             1,
             "#276419"
            ]
           ],
           "sequential": [
            [
             0,
             "#0d0887"
            ],
            [
             0.1111111111111111,
             "#46039f"
            ],
            [
             0.2222222222222222,
             "#7201a8"
            ],
            [
             0.3333333333333333,
             "#9c179e"
            ],
            [
             0.4444444444444444,
             "#bd3786"
            ],
            [
             0.5555555555555556,
             "#d8576b"
            ],
            [
             0.6666666666666666,
             "#ed7953"
            ],
            [
             0.7777777777777778,
             "#fb9f3a"
            ],
            [
             0.8888888888888888,
             "#fdca26"
            ],
            [
             1,
             "#f0f921"
            ]
           ],
           "sequentialminus": [
            [
             0,
             "#0d0887"
            ],
            [
             0.1111111111111111,
             "#46039f"
            ],
            [
             0.2222222222222222,
             "#7201a8"
            ],
            [
             0.3333333333333333,
             "#9c179e"
            ],
            [
             0.4444444444444444,
             "#bd3786"
            ],
            [
             0.5555555555555556,
             "#d8576b"
            ],
            [
             0.6666666666666666,
             "#ed7953"
            ],
            [
             0.7777777777777778,
             "#fb9f3a"
            ],
            [
             0.8888888888888888,
             "#fdca26"
            ],
            [
             1,
             "#f0f921"
            ]
           ]
          },
          "colorway": [
           "#636efa",
           "#EF553B",
           "#00cc96",
           "#ab63fa",
           "#FFA15A",
           "#19d3f3",
           "#FF6692",
           "#B6E880",
           "#FF97FF",
           "#FECB52"
          ],
          "font": {
           "color": "#2a3f5f"
          },
          "geo": {
           "bgcolor": "white",
           "lakecolor": "white",
           "landcolor": "#E5ECF6",
           "showlakes": true,
           "showland": true,
           "subunitcolor": "white"
          },
          "hoverlabel": {
           "align": "left"
          },
          "hovermode": "closest",
          "mapbox": {
           "style": "light"
          },
          "paper_bgcolor": "white",
          "plot_bgcolor": "#E5ECF6",
          "polar": {
           "angularaxis": {
            "gridcolor": "white",
            "linecolor": "white",
            "ticks": ""
           },
           "bgcolor": "#E5ECF6",
           "radialaxis": {
            "gridcolor": "white",
            "linecolor": "white",
            "ticks": ""
           }
          },
          "scene": {
           "xaxis": {
            "backgroundcolor": "#E5ECF6",
            "gridcolor": "white",
            "gridwidth": 2,
            "linecolor": "white",
            "showbackground": true,
            "ticks": "",
            "zerolinecolor": "white"
           },
           "yaxis": {
            "backgroundcolor": "#E5ECF6",
            "gridcolor": "white",
            "gridwidth": 2,
            "linecolor": "white",
            "showbackground": true,
            "ticks": "",
            "zerolinecolor": "white"
           },
           "zaxis": {
            "backgroundcolor": "#E5ECF6",
            "gridcolor": "white",
            "gridwidth": 2,
            "linecolor": "white",
            "showbackground": true,
            "ticks": "",
            "zerolinecolor": "white"
           }
          },
          "shapedefaults": {
           "line": {
            "color": "#2a3f5f"
           }
          },
          "ternary": {
           "aaxis": {
            "gridcolor": "white",
            "linecolor": "white",
            "ticks": ""
           },
           "baxis": {
            "gridcolor": "white",
            "linecolor": "white",
            "ticks": ""
           },
           "bgcolor": "#E5ECF6",
           "caxis": {
            "gridcolor": "white",
            "linecolor": "white",
            "ticks": ""
           }
          },
          "title": {
           "x": 0.05
          },
          "xaxis": {
           "automargin": true,
           "gridcolor": "white",
           "linecolor": "white",
           "ticks": "",
           "title": {
            "standoff": 15
           },
           "zerolinecolor": "white",
           "zerolinewidth": 2
          },
          "yaxis": {
           "automargin": true,
           "gridcolor": "white",
           "linecolor": "white",
           "ticks": "",
           "title": {
            "standoff": 15
           },
           "zerolinecolor": "white",
           "zerolinewidth": 2
          }
         }
        },
        "title": {
         "text": "Counts of Negative Reasons for Airline Virgin America"
        },
        "xaxis": {
         "anchor": "y",
         "domain": [
          0,
          1
         ],
         "title": {
          "text": "negativereason"
         }
        },
        "yaxis": {
         "anchor": "x",
         "domain": [
          0,
          1
         ],
         "title": {
          "text": "count"
         }
        }
       }
      }
     },
     "metadata": {},
     "output_type": "display_data"
    }
   ],
   "source": [
    "color = 'pink'\n",
    "for category in airline_data['airline'].unique():\n",
    "    category_data = airline_data[airline_data['airline'] == category]\n",
    "    fig = px.bar(category_data, x='negativereason', y='count', title=f'Counts of Negative Reasons for Airline {category}', color_discrete_sequence=[color] * len(category_data))\n",
    "    fig.show()"
   ]
  },
  {
   "cell_type": "markdown",
   "metadata": {},
   "source": []
  }
 ],
 "metadata": {
  "kernelspec": {
   "display_name": "Python 3 (ipykernel)",
   "language": "python",
   "name": "python3"
  },
  "language_info": {
   "codemirror_mode": {
    "name": "ipython",
    "version": 3
   },
   "file_extension": ".py",
   "mimetype": "text/x-python",
   "name": "python",
   "nbconvert_exporter": "python",
   "pygments_lexer": "ipython3",
   "version": "3.11.4"
  }
 },
 "nbformat": 4,
 "nbformat_minor": 4
}
