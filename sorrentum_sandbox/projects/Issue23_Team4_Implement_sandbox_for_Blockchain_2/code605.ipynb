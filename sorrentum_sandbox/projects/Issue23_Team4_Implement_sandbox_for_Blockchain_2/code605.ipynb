import datetime
import requests
import pandas as pd
from sqlalchemy import create_engine
from sqlalchemy.types import Float, DateTime

##       In this section of the code, the historical values of the variable market price of the bitcoin were downloaded to python using an API call    #################.
##       For this purpose, the requests package was used and the following steps were carried out:                                                     #################.
##           1. The URL of the API call was stored in the variable api_url                                                                             #################.
##           2. Requests with GET method was used to make the call to the API                                                                          #################.
##           3. Since the API returns the information in JSON format, the json() method was used to convert the data into a python dictionary          #################. 
##           4. The response was stored in a variable named data                                                                                       #################.                                  
##           5. The data was saved into a pandas dataframe named df using pd.DataFrame                                                                 #################. 
##           6. The timestamp variable x was converted to date type, and it was stored in the column named date in the pandas dataframe                #################. 
##           7. The columns date and y were selected and stored in the dataframe named df_final                                                        #################.
##           8. The column y was renamed to market_price                                                                                               #################. 

api_url = "https://api.blockchain.info/charts/market-price?start=2019-01-01&timespan=6year&sampled=false"

response = requests.request('GET',api_url)

data = response.json()

df = pd.DataFrame(data['values'])

df['date'] = pd.to_datetime(df['x'],unit='s')

df_final = df[['date', 'y']]

df_final.rename(columns={"y": "market_price"})

##       In this section of the code, an sqlite database was created and stored in the table market_price                                              #################.
##       For this purpose, the next steps were carried out:                                                                                                 #################.
##           1. A connection named engine was created                                                                                                  #################.
##           2. The dataframe was attached to sqlite using the method to_sql                                                                           #################.

engine = create_engine('sqlite://',
                       echo = False)

df_final.to_sql('market_price',
               con = engine)

##       In this section of the code, data was stored in a csv file named market_price.csv                                                             #################.

df_final.to_csv("market_price.csv", index=False)
print(pd.read_csv('market_price.csv'))


