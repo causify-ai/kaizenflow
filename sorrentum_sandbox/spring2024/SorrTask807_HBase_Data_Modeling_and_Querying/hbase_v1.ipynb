{
 "cells": [
  {
   "cell_type": "markdown",
   "metadata": {
    "id": "izcvRstCdDHu"
   },
   "source": [
    "# HBase Data Modeling and Querying\n",
    "\n",
    "Dakeun Park"
   ]
  },
  {
   "cell_type": "markdown",
   "metadata": {},
   "source": [
    "## Setting Up HBase in Docker\n",
    "\n",
    "This Jupyter Notebook provides a step-by-step guide to setting up an HBase instance running inside a Docker container. This setup is ideal for development and testing environments where HBase needs to be isolated and reproducible.\n",
    "\n",
    "## Prerequisites\n",
    "- Docker must be installed on your machine.\n",
    "- You should have administrative access to run Docker commands.\n",
    "- Jupyter Notebook environment should have access to the system shell."
   ]
  },
  {
   "cell_type": "markdown",
   "metadata": {},
   "source": [
    "## How to Use Docker Compose File\n",
    "- Create the data directory: \n",
    "\n",
    "    - Before you start the container, make sure the data directory exists in the same directory where your docker-compose.yml file is located. You can create it with mkdir data.\n",
    "\n",
    "- Start the HBase service:\n",
    "\n",
    "    - Run docker-compose up -d to start the HBase container in the background.\n",
    "\n",
    "- Check the status of the container:\n",
    "\n",
    "    - Use docker-compose ps to see the status of your container.\n",
    "\n",
    "- Accessing the HBase container's shell for troubleshooting:\n",
    "\n",
    "    - If you need to access the container, use docker-compose exec hbase bash.\n",
    "\n",
    "- Stopping the HBase service:\n",
    "- \n",
    "    - Run docker-compose down to stop and remove the container."
   ]
  },
  {
   "cell_type": "markdown",
   "metadata": {},
   "source": [
    "### Step 1: Prepare Data Directory\n",
    "\n",
    "Create a directory on your host machine where HBase can store its data persistently."
   ]
  },
  {
   "cell_type": "code",
   "execution_count": 1,
   "metadata": {},
   "outputs": [
    {
     "name": "stdout",
     "output_type": "stream",
     "text": [
      "data  docker-compose.yml  hbase_v1.ipynb  update_host.py\n"
     ]
    }
   ],
   "source": [
    "!mkdir -p data\n",
    "!ls"
   ]
  },
  {
   "cell_type": "markdown",
   "metadata": {},
   "source": [
    "### Step 2: Compose Hbase image"
   ]
  },
  {
   "cell_type": "code",
   "execution_count": 3,
   "metadata": {},
   "outputs": [
    {
     "name": "stdout",
     "output_type": "stream",
     "text": [
      "\u001b[1A\u001b[1B\u001b[0G\u001b[?25l[+] Running 1/0\n",
      " \u001b[32m✔\u001b[0m Container hbase-docker  \u001b[32mRunning\u001b[0m                                         \u001b[34m0.0s \u001b[0m\n",
      "\u001b[?25h"
     ]
    }
   ],
   "source": [
    "!docker compose up -d"
   ]
  },
  {
   "cell_type": "markdown",
   "metadata": {},
   "source": [
    "#### Verify the Image is Running\n",
    "\n",
    "Check that the HBase Docker image is present in your Docker image list."
   ]
  },
  {
   "cell_type": "code",
   "execution_count": 5,
   "metadata": {},
   "outputs": [
    {
     "name": "stdout",
     "output_type": "stream",
     "text": [
      "NAME           IMAGE          COMMAND               SERVICE   CREATED          STATUS          PORTS\n",
      "hbase-docker   dajobe/hbase   \"/opt/hbase-server\"   hbase     25 minutes ago   Up 25 minutes   0.0.0.0:2181->2181/tcp, :::2181->2181/tcp, 0.0.0.0:8080->8080/tcp, :::8080->8080/tcp, 0.0.0.0:8085->8085/tcp, :::8085->8085/tcp, 0.0.0.0:9090->9090/tcp, :::9090->9090/tcp, 0.0.0.0:9095->9095/tcp, :::9095->9095/tcp, 0.0.0.0:16010->16010/tcp, :::16010->16010/tcp\n"
     ]
    }
   ],
   "source": [
    "# !docker images\n",
    "!docker compose ps"
   ]
  },
  {
   "cell_type": "markdown",
   "metadata": {},
   "source": [
    "### Run the python file to change host name."
   ]
  },
  {
   "cell_type": "code",
   "execution_count": 6,
   "metadata": {},
   "outputs": [],
   "source": [
    "# sudo python3 update_host.py"
   ]
  },
  {
   "cell_type": "markdown",
   "metadata": {},
   "source": [
    "### Step 3: Run the HBase Container\n",
    "Start the HBase container. This command runs the container in the background, maps a local directory for data persistence, and sets a hostname for the container."
   ]
  },
  {
   "cell_type": "code",
   "execution_count": 8,
   "metadata": {
    "scrolled": true
   },
   "outputs": [
    {
     "name": "stdout",
     "output_type": "stream",
     "text": [
      "docker: Error response from daemon: Conflict. The container name \"/hbase-docker\" is already in use by container \"a5dcbcd62ff56db01e8f1e3229ae9afc3aced94bc447389372bdbb2027963f4e\". You have to remove (or rename) that container to be able to reuse that name.\n",
      "See 'docker run --help'.\n"
     ]
    }
   ],
   "source": [
    "!id=$(docker run --name=hbase-docker -h hbase-docker -d -v $PWD/data:/data dajobe/hbase)\n"
   ]
  },
  {
   "cell_type": "code",
   "execution_count": 40,
   "metadata": {},
   "outputs": [
    {
     "name": "stdout",
     "output_type": "stream",
     "text": [
      "hbase-docker\n"
     ]
    }
   ],
   "source": [
    "!docker start hbase-docker"
   ]
  },
  {
   "cell_type": "markdown",
   "metadata": {},
   "source": [
    "#### Check Container Status\n",
    "Ensure that the HBase container is running correctly."
   ]
  },
  {
   "cell_type": "code",
   "execution_count": 39,
   "metadata": {
    "scrolled": true
   },
   "outputs": [
    {
     "name": "stdout",
     "output_type": "stream",
     "text": [
      "CONTAINER ID   IMAGE          COMMAND               CREATED         STATUS         PORTS                                                                                                                                                                                                                                                                  NAMES\n",
      "8a40eb24aedf   dajobe/hbase   \"/opt/hbase-server\"   7 minutes ago   Up 7 minutes   0.0.0.0:2181->2181/tcp, :::2181->2181/tcp, 0.0.0.0:8080->8080/tcp, :::8080->8080/tcp, 0.0.0.0:8085->8085/tcp, :::8085->8085/tcp, 0.0.0.0:9090->9090/tcp, :::9090->9090/tcp, 0.0.0.0:9095->9095/tcp, :::9095->9095/tcp, 0.0.0.0:16010->16010/tcp, :::16010->16010/tcp   hbase-docker\n"
     ]
    }
   ],
   "source": [
    "!docker ps"
   ]
  },
  {
   "cell_type": "markdown",
   "metadata": {},
   "source": [
    "### Step 4: Access Container's Bash Shell\n",
    "This step is optional and can be used for troubleshooting or advanced configuration."
   ]
  },
  {
   "cell_type": "code",
   "execution_count": 12,
   "metadata": {},
   "outputs": [],
   "source": [
    "# This command won't directly work in Jupyter Notebook as interactive mode is not supported.\n",
    "# Use this command in your terminal if necessary.\n",
    "# docker exec -it hbase-docker bash"
   ]
  },
  {
   "cell_type": "markdown",
   "metadata": {},
   "source": [
    "#### Retrieve Container's IP Address\n",
    "Obtain the IP address assigned to the Docker container. This is useful for network configuration."
   ]
  },
  {
   "cell_type": "code",
   "execution_count": 13,
   "metadata": {},
   "outputs": [],
   "source": [
    "# Use this command in your terminal.\n",
    "# docker inspect -f '{{range .NetworkSettings.Networks}}{{.IPAddress}}{{end}}' hbase-docker\n"
   ]
  },
  {
   "cell_type": "markdown",
   "metadata": {},
   "source": [
    "#### Update Local /etc/hosts File\n",
    "Update your local machine's /etc/hosts file to include the IP address of the container. This step requires administrative privileges and cannot be executed directly from Jupyter. Use the output from the previous step to manually edit your /etc/hosts file."
   ]
  },
  {
   "cell_type": "code",
   "execution_count": 14,
   "metadata": {},
   "outputs": [],
   "source": [
    "# Add this line to your /etc/hosts file\n",
    "# <container-ip> hbase-docker\n",
    "# Replace <container-ip> with the actual IP address from the previous output."
   ]
  },
  {
   "cell_type": "markdown",
   "metadata": {
    "id": "EkG5B8etdHQg"
   },
   "source": [
    "## 1. Designing the Schema\n",
    "\n",
    "Let's assume we're creating a database for a simple bookstore. We need tables for Books and Authors.\n",
    "\n",
    "- Books Table\n",
    "\n",
    "  Row Key: ISBN (International Standard Book Number)\n",
    "\n",
    "  Column Families:\n",
    "\n",
    "  details: General information about the book.\n",
    "\n",
    "  details:title: The title of the book.\n",
    "\n",
    "  details:author: Author ID (link to Authors table).\n",
    "\n",
    "  stock: Information about book availability.\n",
    "\n",
    "  stock:quantity: Number of copies available.\n",
    "\n",
    "- Authors Table\n",
    "\n",
    "  Row Key: Author ID\n",
    "\n",
    "  Column Families:\n",
    "\n",
    "  info: Information about the author.\n",
    "\n",
    "  info:name: Author's name.\n",
    "\n",
    "  *info*:birthdate: Author's birth date."
   ]
  },
  {
   "cell_type": "markdown",
   "metadata": {
    "id": "Npy4ZERZdKg9"
   },
   "source": [
    "## 2. Setting Up HBase and Python Environment\n",
    "\n",
    "You would typically set up HBase on a Linux system that is part of a Hadoop cluster. Since we're operating within a Jupyter Notebook environment here, we'll describe the necessary steps assuming HBase and Hadoop are properly installed and configured on your system.\n",
    "\n",
    "You’ll need to install the happybase library to interact with HBase:"
   ]
  },
  {
   "cell_type": "code",
   "execution_count": 7,
   "metadata": {
    "colab": {
     "base_uri": "https://localhost:8080/"
    },
    "id": "IwEE_sT8dBtN",
    "outputId": "74c2e088-e410-4aab-d4ed-3531d5a0b552"
   },
   "outputs": [
    {
     "name": "stdout",
     "output_type": "stream",
     "text": [
      "Defaulting to user installation because normal site-packages is not writeable\n",
      "Requirement already satisfied: happybase in /home/dpark/.local/lib/python3.10/site-packages (1.2.0)\n",
      "Requirement already satisfied: thriftpy2>=0.4 in /home/dpark/.local/lib/python3.10/site-packages (from happybase) (0.4.20)\n",
      "Requirement already satisfied: six in /usr/lib/python3/dist-packages (from happybase) (1.16.0)\n",
      "Requirement already satisfied: ply<4.0,>=3.4 in /home/dpark/.local/lib/python3.10/site-packages (from thriftpy2>=0.4->happybase) (3.11)\n",
      "Note: you may need to restart the kernel to use updated packages.\n"
     ]
    }
   ],
   "source": [
    "pip install happybase"
   ]
  },
  {
   "cell_type": "markdown",
   "metadata": {
    "id": "IfEp6mupdPv3"
   },
   "source": [
    "## 3. Creating Tables in HBase\n",
    "\n",
    "Here’s how you can connect to HBase and create tables using Python:"
   ]
  },
  {
   "cell_type": "code",
   "execution_count": 8,
   "metadata": {
    "colab": {
     "base_uri": "https://localhost:8080/",
     "height": 408
    },
    "id": "yZP1fxuWdTEk",
    "outputId": "ae915fd0-133e-4bef-ec1c-932318314ea6"
   },
   "outputs": [
    {
     "name": "stdout",
     "output_type": "stream",
     "text": [
      "Connected to HBase.\n",
      "Existing tables: []\n",
      "Created 'Books' table.\n",
      "Created 'Authors' table.\n",
      "Updated tables list: ['Authors', 'Books']\n"
     ]
    }
   ],
   "source": [
    "import happybase\n",
    "\n",
    "try:\n",
    "    # Connect to HBase\n",
    "    connection = happybase.Connection('hbase-docker', port=9090)\n",
    "    print(\"Connected to HBase.\")\n",
    "\n",
    "    # List current tables\n",
    "    existing_tables = connection.tables()\n",
    "    print(\"Existing tables:\", [table.decode('utf-8') for table in existing_tables])\n",
    "\n",
    "    # Creating the 'Books' table if not already created\n",
    "    if b'Books' not in existing_tables:\n",
    "        connection.create_table(\n",
    "            'Books',\n",
    "            {'details': dict(max_versions=1),\n",
    "             'stock': dict(max_versions=1)}\n",
    "        )\n",
    "        print(\"Created 'Books' table.\")\n",
    "    else:\n",
    "        print(\"'Books' table already exists.\")\n",
    "\n",
    "    # Creating the 'Authors' table if not already created\n",
    "    if b'Authors' not in existing_tables:\n",
    "        connection.create_table(\n",
    "            'Authors',\n",
    "            {'info': dict(max_versions=1)}\n",
    "        )\n",
    "        print(\"Created 'Authors' table.\")\n",
    "    else:\n",
    "        print(\"'Authors' table already exists.\")\n",
    "\n",
    "    # Print tables to verify\n",
    "    updated_tables = connection.tables()\n",
    "    print(\"Updated tables list:\", [table.decode('utf-8') for table in updated_tables])\n",
    "\n",
    "except Exception as e:\n",
    "    print(\"Failed to connect or modify HBase:\", e)"
   ]
  },
  {
   "cell_type": "markdown",
   "metadata": {
    "id": "AvGNkv79g63t"
   },
   "source": [
    "## 4. Populating Tables with Sample Data"
   ]
  },
  {
   "cell_type": "code",
   "execution_count": 9,
   "metadata": {},
   "outputs": [],
   "source": [
    "# Connect to 'Books' table\n",
    "table = connection.table('Books')\n",
    "\n",
    "# Insert data into 'Books'\n",
    "table.put('978-3-16-148410-0', {'details:title': 'Sample Book Title', 'details:author': '1', 'stock:quantity': '5'})\n",
    "\n",
    "# Connect to 'Authors' table\n",
    "table = connection.table('Authors')\n",
    "\n",
    "# Insert data into 'Authors'\n",
    "table.put('1', {'info:name': 'John Doe', 'info:birthdate': '1990-01-01'})\n",
    "\n",
    "# Connect to 'Books' table\n",
    "table = connection.table('Books')\n",
    "\n"
   ]
  },
  {
   "cell_type": "markdown",
   "metadata": {},
   "source": [
    "## 5. Implementing Queries\n",
    "Single-Row Query"
   ]
  },
  {
   "cell_type": "code",
   "execution_count": 10,
   "metadata": {},
   "outputs": [
    {
     "name": "stdout",
     "output_type": "stream",
     "text": [
      "Book Details:\n",
      "details:author: 1\n",
      "details:title: Sample Book Title\n",
      "stock:quantity: 5\n",
      "\n",
      "Author Details:\n",
      "info:birthdate: 1990-01-01\n",
      "info:name: John Doe\n"
     ]
    }
   ],
   "source": [
    "# Connect to 'Books' table\n",
    "table = connection.table('Books')\n",
    "\n",
    "# Fetch data from 'Books'\n",
    "book = table.row('978-3-16-148410-0')\n",
    "print(\"Book Details:\")\n",
    "for key, value in book.items():\n",
    "    print(f\"{key.decode('utf-8')}: {value.decode('utf-8')}\")\n",
    "\n",
    "# Fetch data from 'Authors'\n",
    "table = connection.table('Authors')\n",
    "author = table.row('1')\n",
    "print(\"\\nAuthor Details:\")\n",
    "for key, value in author.items():\n",
    "    print(f\"{key.decode('utf-8')}: {value.decode('utf-8')}\")"
   ]
  },
  {
   "cell_type": "markdown",
   "metadata": {},
   "source": [
    "Multi-Row and Range Queries"
   ]
  },
  {
   "cell_type": "code",
   "execution_count": 11,
   "metadata": {},
   "outputs": [
    {
     "name": "stdout",
     "output_type": "stream",
     "text": [
      "b'1' {b'info:birthdate': b'1990-01-01', b'info:name': b'John Doe'}\n"
     ]
    }
   ],
   "source": [
    "# Scan rows in 'Authors' table\n",
    "for key, data in table.scan():\n",
    "    print(key, data)"
   ]
  },
  {
   "cell_type": "markdown",
   "metadata": {},
   "source": [
    "## 6. Experiment with Data Modeling\n",
    "Data modeling in HBase can affect performance significantly. Consider whether to normalize data (which may lead to multiple cross-table queries) or denormalize it (which increases storage but may decrease the number of queries).\n",
    "\n",
    "## Work in Progress"
   ]
  },
  {
   "cell_type": "code",
   "execution_count": null,
   "metadata": {},
   "outputs": [],
   "source": []
  }
 ],
 "metadata": {
  "colab": {
   "provenance": []
  },
  "kernelspec": {
   "display_name": "Python 3 (ipykernel)",
   "language": "python",
   "name": "python3"
  },
  "language_info": {
   "codemirror_mode": {
    "name": "ipython",
    "version": 3
   },
   "file_extension": ".py",
   "mimetype": "text/x-python",
   "name": "python",
   "nbconvert_exporter": "python",
   "pygments_lexer": "ipython3",
   "version": "3.10.12"
  }
 },
 "nbformat": 4,
 "nbformat_minor": 4
}
