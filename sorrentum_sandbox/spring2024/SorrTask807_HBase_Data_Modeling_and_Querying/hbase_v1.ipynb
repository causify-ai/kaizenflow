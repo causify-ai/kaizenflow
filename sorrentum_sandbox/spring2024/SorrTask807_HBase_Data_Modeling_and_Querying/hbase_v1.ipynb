{
 "cells": [
  {
   "cell_type": "markdown",
   "metadata": {
    "id": "izcvRstCdDHu"
   },
   "source": [
    "# HBase Data Modeling and Querying\n",
    "\n",
    "Dakeun Park"
   ]
  },
  {
   "cell_type": "markdown",
   "metadata": {},
   "source": [
    "## Setting Up HBase in Docker\n",
    "\n",
    "This Jupyter Notebook provides a step-by-step guide to setting up an HBase instance running inside a Docker container. This setup is ideal for development and testing environments where HBase needs to be isolated and reproducible.\n",
    "\n",
    "## Prerequisites\n",
    "- Docker must be installed on your machine.\n",
    "- You should have administrative access to run Docker commands.\n",
    "- Jupyter Notebook environment should have access to the system shell."
   ]
  },
  {
   "cell_type": "markdown",
   "metadata": {},
   "source": [
    "### Step 1: Pull the HBase Docker Image\n",
    "Pull the latest HBase Docker image from the Docker Hub. This image contains all necessary HBase components and configurations."
   ]
  },
  {
   "cell_type": "code",
   "execution_count": 11,
   "metadata": {},
   "outputs": [],
   "source": [
    "# docker pull dajobe/hbase"
   ]
  },
  {
   "cell_type": "markdown",
   "metadata": {},
   "source": [
    "#### Verify the Image is Downloaded\n",
    "\n",
    "Check that the HBase Docker image is present in your Docker image list."
   ]
  },
  {
   "cell_type": "code",
   "execution_count": 12,
   "metadata": {},
   "outputs": [
    {
     "name": "stdout",
     "output_type": "stream",
     "text": [
      "REPOSITORY     TAG       IMAGE ID       CREATED       SIZE\n",
      "dajobe/hbase   latest    cfd7eefee902   5 years ago   492MB\n"
     ]
    }
   ],
   "source": [
    "!docker images"
   ]
  },
  {
   "cell_type": "markdown",
   "metadata": {},
   "source": [
    "### Step 2: Prepare Data Directory\n",
    "\n",
    "Create a directory on your host machine where HBase can store its data persistently."
   ]
  },
  {
   "cell_type": "code",
   "execution_count": 13,
   "metadata": {
    "scrolled": true
   },
   "outputs": [
    {
     "name": "stdout",
     "output_type": "stream",
     "text": [
      "data\t\t\t\t hbase.ipynb\n",
      "docker-desktop-4.29.0-amd64.deb  jdk-22_linux-x64_bin\n",
      "hadoop-3.3.6.tar.gz\t\t jdk-22_linux-x64_bin.tar.gz\n"
     ]
    }
   ],
   "source": [
    "!mkdir -p data\n",
    "!ls"
   ]
  },
  {
   "cell_type": "markdown",
   "metadata": {},
   "source": [
    "### Step 3: Run the HBase Container\n",
    "Start the HBase container. This command runs the container in the background, maps a local directory for data persistence, and sets a hostname for the container."
   ]
  },
  {
   "cell_type": "code",
   "execution_count": 14,
   "metadata": {},
   "outputs": [],
   "source": [
    "# id=$(docker run --name=hbase-docker -h hbase-docker -d -v $PWD/data:/data dajobe/hbase)\n"
   ]
  },
  {
   "cell_type": "markdown",
   "metadata": {},
   "source": [
    "#### Check Container Status\n",
    "Ensure that the HBase container is running correctly."
   ]
  },
  {
   "cell_type": "code",
   "execution_count": 15,
   "metadata": {
    "scrolled": true
   },
   "outputs": [
    {
     "name": "stdout",
     "output_type": "stream",
     "text": [
      "CONTAINER ID   IMAGE          COMMAND               CREATED       STATUS          PORTS                                                         NAMES\n",
      "a5dcbcd62ff5   dajobe/hbase   \"/opt/hbase-server\"   3 hours ago   Up 38 minutes   2181/tcp, 8080/tcp, 8085/tcp, 9090/tcp, 9095/tcp, 16010/tcp   hbase-docker\n"
     ]
    }
   ],
   "source": [
    "!docker ps"
   ]
  },
  {
   "cell_type": "markdown",
   "metadata": {},
   "source": [
    "### Step 4: Access Container's Bash Shell\n",
    "This step is optional and can be used for troubleshooting or advanced configuration."
   ]
  },
  {
   "cell_type": "code",
   "execution_count": 16,
   "metadata": {},
   "outputs": [],
   "source": [
    "# This command won't directly work in Jupyter Notebook as interactive mode is not supported.\n",
    "# Use this command in your terminal if necessary.\n",
    "# docker exec -it hbase-docker bash"
   ]
  },
  {
   "cell_type": "markdown",
   "metadata": {},
   "source": [
    "#### Retrieve Container's IP Address\n",
    "Obtain the IP address assigned to the Docker container. This is useful for network configuration."
   ]
  },
  {
   "cell_type": "code",
   "execution_count": 17,
   "metadata": {},
   "outputs": [],
   "source": [
    "# Use this command in your terminal.\n",
    "# docker inspect -f '{{range .NetworkSettings.Networks}}{{.IPAddress}}{{end}}' hbase-docker\n"
   ]
  },
  {
   "cell_type": "markdown",
   "metadata": {},
   "source": [
    "#### Update Local /etc/hosts File\n",
    "Update your local machine's /etc/hosts file to include the IP address of the container. This step requires administrative privileges and cannot be executed directly from Jupyter. Use the output from the previous step to manually edit your /etc/hosts file."
   ]
  },
  {
   "cell_type": "code",
   "execution_count": 18,
   "metadata": {},
   "outputs": [],
   "source": [
    "# Add this line to your /etc/hosts file\n",
    "# <container-ip> hbase-docker\n",
    "# Replace <container-ip> with the actual IP address from the previous output."
   ]
  },
  {
   "cell_type": "markdown",
   "metadata": {
    "id": "EkG5B8etdHQg"
   },
   "source": [
    "## 1. Designing the Schema\n",
    "\n",
    "Let's assume we're creating a database for a simple bookstore. We need tables for Books and Authors.\n",
    "\n",
    "- Books Table\n",
    "\n",
    "  Row Key: ISBN (International Standard Book Number)\n",
    "\n",
    "  Column Families:\n",
    "\n",
    "  details: General information about the book.\n",
    "\n",
    "  details:title: The title of the book.\n",
    "\n",
    "  details:author: Author ID (link to Authors table).\n",
    "\n",
    "  stock: Information about book availability.\n",
    "\n",
    "  stock:quantity: Number of copies available.\n",
    "\n",
    "- Authors Table\n",
    "\n",
    "  Row Key: Author ID\n",
    "\n",
    "  Column Families:\n",
    "\n",
    "  info: Information about the author.\n",
    "\n",
    "  info:name: Author's name.\n",
    "\n",
    "  *info*:birthdate: Author's birth date."
   ]
  },
  {
   "cell_type": "markdown",
   "metadata": {
    "id": "Npy4ZERZdKg9"
   },
   "source": [
    "## 2. Setting Up HBase and Python Environment\n",
    "\n",
    "You would typically set up HBase on a Linux system that is part of a Hadoop cluster. Since we're operating within a Jupyter Notebook environment here, we'll describe the necessary steps assuming HBase and Hadoop are properly installed and configured on your system.\n",
    "\n",
    "You’ll need to install the happybase library to interact with HBase:"
   ]
  },
  {
   "cell_type": "code",
   "execution_count": 1,
   "metadata": {
    "colab": {
     "base_uri": "https://localhost:8080/"
    },
    "id": "IwEE_sT8dBtN",
    "outputId": "74c2e088-e410-4aab-d4ed-3531d5a0b552"
   },
   "outputs": [
    {
     "name": "stdout",
     "output_type": "stream",
     "text": [
      "Defaulting to user installation because normal site-packages is not writeable\n",
      "Requirement already satisfied: happybase in /home/dpark/.local/lib/python3.10/site-packages (1.2.0)\n",
      "Requirement already satisfied: six in /usr/lib/python3/dist-packages (from happybase) (1.16.0)\n",
      "Requirement already satisfied: thriftpy2>=0.4 in /home/dpark/.local/lib/python3.10/site-packages (from happybase) (0.4.20)\n",
      "Requirement already satisfied: ply<4.0,>=3.4 in /home/dpark/.local/lib/python3.10/site-packages (from thriftpy2>=0.4->happybase) (3.11)\n",
      "Note: you may need to restart the kernel to use updated packages.\n"
     ]
    }
   ],
   "source": [
    "pip install happybase"
   ]
  },
  {
   "cell_type": "markdown",
   "metadata": {
    "id": "IfEp6mupdPv3"
   },
   "source": [
    "## 3. Creating Tables in HBase\n",
    "\n",
    "Here’s how you can connect to HBase and create tables using Python:"
   ]
  },
  {
   "cell_type": "code",
   "execution_count": 19,
   "metadata": {
    "colab": {
     "base_uri": "https://localhost:8080/",
     "height": 408
    },
    "id": "yZP1fxuWdTEk",
    "outputId": "ae915fd0-133e-4bef-ec1c-932318314ea6"
   },
   "outputs": [
    {
     "name": "stdout",
     "output_type": "stream",
     "text": [
      "[b'Authors', b'Books']\n"
     ]
    }
   ],
   "source": [
    "import happybase\n",
    "\n",
    "# Connect to HBase\n",
    "connection = happybase.Connection('hbase-docker',port=9090)\n",
    "\n",
    "# Creating the 'Books' table\n",
    "connection.create_table(\n",
    "    'Books',\n",
    "    {'details': dict(max_versions=1),\n",
    "     'stock': dict(max_versions=1)}\n",
    ")\n",
    "\n",
    "# Creating the 'Authors' table\n",
    "connection.create_table(\n",
    "    'Authors',\n",
    "    {'info': dict(max_versions=1)}\n",
    ")\n",
    "\n",
    "# Print tables to verify\n",
    "print(connection.tables())"
   ]
  },
  {
   "cell_type": "markdown",
   "metadata": {
    "id": "AvGNkv79g63t"
   },
   "source": [
    "## 4. Populating Tables with Sample Data"
   ]
  },
  {
   "cell_type": "code",
   "execution_count": 20,
   "metadata": {},
   "outputs": [],
   "source": [
    "# Connect to 'Books' table\n",
    "table = connection.table('Books')\n",
    "\n",
    "# Insert data into 'Books'\n",
    "table.put('978-3-16-148410-0', {'details:title': 'Sample Book Title', 'details:author': '1', 'stock:quantity': '5'})\n",
    "\n",
    "# Connect to 'Authors' table\n",
    "table = connection.table('Authors')\n",
    "\n",
    "# Insert data into 'Authors'\n",
    "table.put('1', {'info:name': 'John Doe', 'info:birthdate': '1990-01-01'})"
   ]
  },
  {
   "cell_type": "markdown",
   "metadata": {},
   "source": [
    "## 5. Implementing Queries\n",
    "Single-Row Query"
   ]
  },
  {
   "cell_type": "code",
   "execution_count": 21,
   "metadata": {},
   "outputs": [
    {
     "name": "stdout",
     "output_type": "stream",
     "text": [
      "{}\n"
     ]
    }
   ],
   "source": [
    "# Fetch a single row from 'Books'\n",
    "row = table.row('978-3-16-148410-0')\n",
    "print(row)"
   ]
  },
  {
   "cell_type": "markdown",
   "metadata": {},
   "source": [
    "Multi-Row and Range Queries"
   ]
  },
  {
   "cell_type": "code",
   "execution_count": 22,
   "metadata": {},
   "outputs": [
    {
     "name": "stdout",
     "output_type": "stream",
     "text": [
      "b'1' {b'info:birthdate': b'1990-01-01', b'info:name': b'John Doe'}\n"
     ]
    }
   ],
   "source": [
    "# Scan rows in 'Authors' table\n",
    "for key, data in table.scan():\n",
    "    print(key, data)"
   ]
  },
  {
   "cell_type": "markdown",
   "metadata": {},
   "source": [
    "## 6. Experiment with Data Modeling\n",
    "Data modeling in HBase can affect performance significantly. Consider whether to normalize data (which may lead to multiple cross-table queries) or denormalize it (which increases storage but may decrease the number of queries).\n",
    "\n",
    "## Conclusion\n",
    "This framework sets up a basic interaction with HBase using Python in a Jupyter Notebook. For a real-world application, you'd likely need to adjust your HBase configuration, handle large datasets, and optimize your schema further based on your specific access patterns and scalability requirements."
   ]
  },
  {
   "cell_type": "code",
   "execution_count": null,
   "metadata": {},
   "outputs": [],
   "source": []
  }
 ],
 "metadata": {
  "colab": {
   "provenance": []
  },
  "kernelspec": {
   "display_name": "Python 3 (ipykernel)",
   "language": "python",
   "name": "python3"
  },
  "language_info": {
   "codemirror_mode": {
    "name": "ipython",
    "version": 3
   },
   "file_extension": ".py",
   "mimetype": "text/x-python",
   "name": "python",
   "nbconvert_exporter": "python",
   "pygments_lexer": "ipython3",
   "version": "3.10.12"
  }
 },
 "nbformat": 4,
 "nbformat_minor": 4
}
