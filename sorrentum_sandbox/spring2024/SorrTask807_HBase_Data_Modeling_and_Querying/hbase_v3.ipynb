{
 "cells": [
  {
   "cell_type": "markdown",
   "metadata": {
    "id": "izcvRstCdDHu"
   },
   "source": [
    "# HBase Data Modeling and Querying\n",
    "\n",
    "Dakeun Park"
   ]
  },
  {
   "cell_type": "markdown",
   "metadata": {},
   "source": [
    "## Setting Up HBase in Docker\n",
    "\n",
    "This Jupyter Notebook provides a step-by-step guide to setting up an HBase instance running inside a Docker container. This setup is ideal for development and testing environments where HBase needs to be isolated and reproducible.\n",
    "\n",
    "## Prerequisites\n",
    "- Docker must be installed on your machine.\n",
    "- You should have administrative access to run Docker commands.\n",
    "- Jupyter Notebook environment should have access to the system shell."
   ]
  },
  {
   "cell_type": "markdown",
   "metadata": {},
   "source": [
    "## How to Use Docker Compose File\n",
    "- Create the data directory: \n",
    "\n",
    "    - Before you start the container, make sure the data directory exists in the same directory where your docker-compose.yml file is located. You can create it with mkdir data.\n",
    "\n",
    "- Start the HBase service:\n",
    "\n",
    "    - Run docker-compose up -d to start the HBase container in the background.\n",
    "\n",
    "- Check the status of the container:\n",
    "\n",
    "    - Use docker-compose ps to see the status of your container.\n",
    "\n",
    "- Accessing the HBase container's shell for troubleshooting:\n",
    "\n",
    "    - If you need to access the container, use docker-compose exec hbase bash.\n",
    "\n",
    "- Stopping the HBase service:\n",
    "- \n",
    "    - Run docker-compose down to stop and remove the container."
   ]
  },
  {
   "cell_type": "markdown",
   "metadata": {},
   "source": [
    "### Step 1: Prepare Data Directory\n",
    "\n",
    "Create a directory on your host machine where HBase can store its data persistently."
   ]
  },
  {
   "cell_type": "code",
   "execution_count": 67,
   "metadata": {},
   "outputs": [
    {
     "name": "stdout",
     "output_type": "stream",
     "text": [
      "data  docker-compose.yml  hbase_v3.ipynb  start_hbase.py\n"
     ]
    }
   ],
   "source": [
    "!mkdir -p data\n",
    "!ls"
   ]
  },
  {
   "cell_type": "markdown",
   "metadata": {},
   "source": [
    "### Step 2: Compose Hbase image\n",
    "\n",
    "Run the \"start_hbase.py\" python script to compose hbase image and configure network."
   ]
  },
  {
   "cell_type": "code",
   "execution_count": 68,
   "metadata": {},
   "outputs": [],
   "source": [
    "# Execute the command below to run python script, \"start_hbase.py\" \n",
    "#sudo python3 start_hbase.py"
   ]
  },
  {
   "cell_type": "markdown",
   "metadata": {},
   "source": [
    "#### Verify the Image is Running\n",
    "\n",
    "Check that the HBase Docker image is present in your Docker image list."
   ]
  },
  {
   "cell_type": "code",
   "execution_count": 69,
   "metadata": {},
   "outputs": [
    {
     "name": "stdout",
     "output_type": "stream",
     "text": [
      "NAME           IMAGE          COMMAND               SERVICE   CREATED       STATUS       PORTS\n",
      "hbase-docker   dajobe/hbase   \"/opt/hbase-server\"   hbase     3 hours ago   Up 3 hours   0.0.0.0:2181->2181/tcp, :::2181->2181/tcp, 0.0.0.0:8080->8080/tcp, :::8080->8080/tcp, 0.0.0.0:8085->8085/tcp, :::8085->8085/tcp, 0.0.0.0:9090->9090/tcp, :::9090->9090/tcp, 0.0.0.0:9095->9095/tcp, :::9095->9095/tcp, 0.0.0.0:16010->16010/tcp, :::16010->16010/tcp\n"
     ]
    }
   ],
   "source": [
    "# !docker images\n",
    "!docker compose ps"
   ]
  },
  {
   "cell_type": "markdown",
   "metadata": {
    "id": "EkG5B8etdHQg"
   },
   "source": [
    "## 1. Designing the Schema\n",
    "\n",
    "Let's assume we're creating a database for a simple bookstore. We need tables for Books and Authors.\n",
    "\n",
    "- Books Table\n",
    "\n",
    "  Row Key: ISBN (International Standard Book Number)\n",
    "\n",
    "  Column Families:\n",
    "\n",
    "  details: General information about the book.\n",
    "\n",
    "  details:title: The title of the book.\n",
    "\n",
    "  details:author: Author ID (link to Authors table).\n",
    "\n",
    "  stock: Information about book availability.\n",
    "\n",
    "  stock:quantity: Number of copies available.\n",
    "\n",
    "- Authors Table\n",
    "\n",
    "  Row Key: Author ID\n",
    "\n",
    "  Column Families:\n",
    "\n",
    "  info: Information about the author.\n",
    "\n",
    "  info:name: Author's name.\n",
    "\n",
    "  *info*:birthdate: Author's birth date."
   ]
  },
  {
   "cell_type": "markdown",
   "metadata": {
    "id": "Npy4ZERZdKg9"
   },
   "source": [
    "## 2. Setting Up HBase and Python Environment\n",
    "\n",
    "You would typically set up HBase on a Linux system that is part of a Hadoop cluster but we will be using the HBase image.\n",
    "\n",
    "Install the happybase library to interact with HBase:"
   ]
  },
  {
   "cell_type": "code",
   "execution_count": 70,
   "metadata": {
    "colab": {
     "base_uri": "https://localhost:8080/"
    },
    "id": "IwEE_sT8dBtN",
    "outputId": "74c2e088-e410-4aab-d4ed-3531d5a0b552"
   },
   "outputs": [
    {
     "name": "stdout",
     "output_type": "stream",
     "text": [
      "Defaulting to user installation because normal site-packages is not writeable\n",
      "Requirement already satisfied: happybase in /home/dpark/.local/lib/python3.10/site-packages (1.2.0)\n",
      "Requirement already satisfied: six in /usr/lib/python3/dist-packages (from happybase) (1.16.0)\n",
      "Requirement already satisfied: thriftpy2>=0.4 in /home/dpark/.local/lib/python3.10/site-packages (from happybase) (0.4.20)\n",
      "Requirement already satisfied: ply<4.0,>=3.4 in /home/dpark/.local/lib/python3.10/site-packages (from thriftpy2>=0.4->happybase) (3.11)\n",
      "Note: you may need to restart the kernel to use updated packages.\n"
     ]
    }
   ],
   "source": [
    "pip install happybase"
   ]
  },
  {
   "cell_type": "markdown",
   "metadata": {
    "id": "IfEp6mupdPv3"
   },
   "source": [
    "## 3. Creating Tables in HBase\n",
    "\n",
    "Connect to HBase and create tables using Python:"
   ]
  },
  {
   "cell_type": "code",
   "execution_count": 71,
   "metadata": {
    "colab": {
     "base_uri": "https://localhost:8080/",
     "height": 408
    },
    "id": "yZP1fxuWdTEk",
    "outputId": "ae915fd0-133e-4bef-ec1c-932318314ea6"
   },
   "outputs": [
    {
     "name": "stdout",
     "output_type": "stream",
     "text": [
      "Connected to HBase.\n",
      "Existing tables: ['Authors', 'Books']\n",
      "'Books' table already exists.\n",
      "'Authors' table already exists.\n",
      "Updated tables list: ['Authors', 'Books']\n"
     ]
    }
   ],
   "source": [
    "import happybase\n",
    "\n",
    "try:\n",
    "    # Connect to HBase\n",
    "    connection = happybase.Connection('hbase-docker', port=9090)\n",
    "    print(\"Connected to HBase.\")\n",
    "\n",
    "    # List current tables\n",
    "    existing_tables = connection.tables()\n",
    "    print(\"Existing tables:\", [table.decode('utf-8') for table in existing_tables])\n",
    "\n",
    "    # Creating the 'Books' table if not already created\n",
    "    if b'Books' not in existing_tables:\n",
    "        connection.create_table(\n",
    "            'Books',\n",
    "            {'details': dict(max_versions=1),\n",
    "             'stock': dict(max_versions=1)}\n",
    "        )\n",
    "        print(\"Created 'Books' table.\")\n",
    "    else:\n",
    "        print(\"'Books' table already exists.\")\n",
    "\n",
    "    # Creating the 'Authors' table if not already created\n",
    "    if b'Authors' not in existing_tables:\n",
    "        connection.create_table(\n",
    "            'Authors',\n",
    "            {'info': dict(max_versions=1)}\n",
    "        )\n",
    "        print(\"Created 'Authors' table.\")\n",
    "    else:\n",
    "        print(\"'Authors' table already exists.\")\n",
    "\n",
    "    # Print tables to verify\n",
    "    updated_tables = connection.tables()\n",
    "    print(\"Updated tables list:\", [table.decode('utf-8') for table in updated_tables])\n",
    "\n",
    "except Exception as e:\n",
    "    print(\"Failed to connect or modify HBase:\", e)"
   ]
  },
  {
   "cell_type": "markdown",
   "metadata": {
    "id": "AvGNkv79g63t"
   },
   "source": [
    "## 4. Populating Tables with Sample Data"
   ]
  },
  {
   "cell_type": "code",
   "execution_count": 75,
   "metadata": {},
   "outputs": [],
   "source": [
    "connection = happybase.Connection('hbase-docker', port=9090)\n",
    "\n",
    "# Connect to 'Books' table\n",
    "table = connection.table('Books')\n",
    "\n",
    "# Insert data into 'Books'\n",
    "table.put('978-3-16-148410-0', {'details:title': 'Sample Book Title', 'details:author': '1', 'stock:quantity': '5'})\n",
    "table.put('978-3-16-148410-1', {'details:title': 'Another Sample Book Title', 'details:author': '1', 'stock:quantity': '7'})\n",
    "\n",
    "# Connect to 'Authors' table\n",
    "table = connection.table('Authors')\n",
    "\n",
    "# Insert data into 'Authors'\n",
    "table.put('1', {'info:name': 'John Doe', 'info:birthdate': '1990-01-01'})\n",
    "\n",
    "connection.close()\n"
   ]
  },
  {
   "cell_type": "markdown",
   "metadata": {},
   "source": [
    "## 5. Implementing Queries\n",
    "Single-Row Query"
   ]
  },
  {
   "cell_type": "code",
   "execution_count": 76,
   "metadata": {},
   "outputs": [
    {
     "name": "stdout",
     "output_type": "stream",
     "text": [
      "\n",
      "Details for Books:\n",
      "details:author: 1\n",
      "details:title: Sample Book Title\n",
      "stock:quantity: 5\n",
      "\n",
      "Details for Authors:\n",
      "info:birthdate: 1990-01-01\n",
      "info:name: John Doe\n"
     ]
    }
   ],
   "source": [
    "def fetch_and_print_row(connection, table_name, row_key):\n",
    "    try:\n",
    "        table = connection.table(table_name)\n",
    "        row = table.row(row_key)\n",
    "        if row:\n",
    "            print(f\"\\nDetails for {table_name}:\")\n",
    "            for key, value in row.items():\n",
    "                print(f\"{key.decode('utf-8')}: {value.decode('utf-8')}\")\n",
    "        else:\n",
    "            print(f\"No data found for row key: {row_key} in table: {table_name}\")\n",
    "    except Exception as e:\n",
    "        print(f\"Failed to fetch data from {table_name}: {str(e)}\")\n",
    "\n",
    "# Example usage\n",
    "connection = happybase.Connection('hbase-docker', port=9090)\n",
    "fetch_and_print_row(connection, 'Books', '978-3-16-148410-0')\n",
    "fetch_and_print_row(connection, 'Authors', '1')\n",
    "connection.close()\n"
   ]
  },
  {
   "cell_type": "markdown",
   "metadata": {},
   "source": [
    "### Multi-Row Query Using Scans\n",
    "\n",
    "A basic scan fetches all rows in a table or within a range of row keys. Here’s how you can perform a multi-row query to get a subset of rows:"
   ]
  },
  {
   "cell_type": "code",
   "execution_count": 77,
   "metadata": {},
   "outputs": [
    {
     "name": "stdout",
     "output_type": "stream",
     "text": [
      "Scanning table Books...\n",
      "Row key: 978-3-16-148410-0\n",
      "  details:author: 1\n",
      "  details:title: Sample Book Title\n",
      "  stock:quantity: 5\n",
      "\n",
      "Row key: 978-3-16-148410-1\n",
      "  details:author: 1\n",
      "  details:title: Another Sample Book Title\n",
      "  stock:quantity: 7\n",
      "\n"
     ]
    }
   ],
   "source": [
    "def scan_table(connection, table_name, start_key=None, end_key=None):\n",
    "    table = connection.table(table_name)\n",
    "    print(f\"Scanning table {table_name}...\")\n",
    "    for key, data in table.scan(row_start=start_key, row_stop=end_key):\n",
    "        print(f\"Row key: {key.decode('utf-8')}\")\n",
    "        for column, value in data.items():\n",
    "            print(f\"  {column.decode('utf-8')}: {value.decode('utf-8')}\")\n",
    "        print(\"\")\n",
    "\n",
    "# Example usage\n",
    "connection = happybase.Connection('hbase-docker', port=9090)\n",
    "scan_table(connection, 'Books', start_key='978-3-16-148410-0', end_key='978-3-16-148410-9')\n",
    "connection.close()"
   ]
  },
  {
   "cell_type": "markdown",
   "metadata": {},
   "source": [
    "### Range Query with Filters\n",
    "You can refine scans further using filters. Here’s an example that uses a simple filter to only return rows where the column details:author matches a specific value:"
   ]
  },
  {
   "cell_type": "code",
   "execution_count": 78,
   "metadata": {},
   "outputs": [
    {
     "name": "stdout",
     "output_type": "stream",
     "text": [
      "Scanning table Books with filter: SingleColumnValueFilter('details', 'author', =, 'binary:1')...\n",
      "Row key: 978-3-16-148410-0\n",
      "  details:author: 1\n",
      "  details:title: Sample Book Title\n",
      "  stock:quantity: 5\n",
      "\n",
      "Row key: 978-3-16-148410-1\n",
      "  details:author: 1\n",
      "  details:title: Another Sample Book Title\n",
      "  stock:quantity: 7\n",
      "\n"
     ]
    }
   ],
   "source": [
    "def filtered_scan_table(connection, table_name, filter_string):\n",
    "    table = connection.table(table_name)\n",
    "    print(f\"Scanning table {table_name} with filter: {filter_string}...\")\n",
    "    for key, data in table.scan(filter=filter_string):\n",
    "        print(f\"Row key: {key.decode('utf-8')}\")\n",
    "        for column, value in data.items():\n",
    "            print(f\"  {column.decode('utf-8')}: {value.decode('utf-8')}\")\n",
    "        print(\"\")\n",
    "\n",
    "# Example usage\n",
    "connection = happybase.Connection('hbase-docker', port=9090)\n",
    "filter_string = \"SingleColumnValueFilter('details', 'author', =, 'binary:1')\"\n",
    "filtered_scan_table(connection, 'Books', filter_string)\n",
    "connection.close()"
   ]
  },
  {
   "cell_type": "markdown",
   "metadata": {},
   "source": [
    "### CRUD operations using python class\n",
    "\n",
    "Implementing create, read, update, delete functions"
   ]
  },
  {
   "cell_type": "code",
   "execution_count": 60,
   "metadata": {},
   "outputs": [],
   "source": [
    "class HBaseCRUD:\n",
    "    def __init__(self, host, port=9090):\n",
    "        \"\"\"\n",
    "        Initialize connection to the HBase server.\n",
    "        \"\"\"\n",
    "        self.connection = happybase.Connection(host, port)\n",
    "\n",
    "    def create_or_update(self, table_name, row_key, data):\n",
    "        \"\"\"\n",
    "        Create or update data in an HBase table.\n",
    "        \"\"\"\n",
    "        table = self.connection.table(table_name)\n",
    "        table.put(row_key, data)\n",
    "        print(f\"Data inserted/updated in {table_name} for row {row_key}\")\n",
    "\n",
    "    def read(self, table_name, row_key):\n",
    "        \"\"\"\n",
    "        Read data from an HBase table.\n",
    "        \"\"\"\n",
    "        table = self.connection.table(table_name)\n",
    "        data = table.row(row_key)\n",
    "        if data:\n",
    "            print(f\"Data retrieved from {table_name} for row {row_key}:\")\n",
    "            return {k.decode('utf-8'): v.decode('utf-8') for k, v in data.items()}\n",
    "        else:\n",
    "            print(f\"No data found for row {row_key} in table {table_name}\")\n",
    "            return None\n",
    "\n",
    "    def delete(self, table_name, row_key):\n",
    "        \"\"\"\n",
    "        Delete a row from an HBase table.\n",
    "        \"\"\"\n",
    "        table = self.connection.table(table_name)\n",
    "        table.delete(row_key)\n",
    "        print(f\"Row {row_key} deleted from {table_name}\")\n",
    "\n",
    "    def scan_table(self, table_name, start_key=None, end_key=None, filter_string=None):\n",
    "        \"\"\"Scan for rows in a table optionally within a key range and with a filter.\"\"\"\n",
    "        table = self.connection.table(table_name)\n",
    "        print(f\"Scanning table {table_name}...\")\n",
    "        rows = table.scan(row_start=start_key, row_stop=end_key, filter=filter_string)\n",
    "        result = []\n",
    "        for key, data in rows:\n",
    "            decoded_data = {k.decode('utf-8'): v.decode('utf-8') for k, v in data.items()}\n",
    "            result.append((key.decode('utf-8'), decoded_data))\n",
    "        return result\n",
    "\n",
    "    def scan_filtered_table(self, table_name, column, value, comparator='='):\n",
    "        \"\"\"Scan for rows in a table with a column filter, supporting multiple comparison operators.\"\"\"\n",
    "        table = self.connection.table(table_name)\n",
    "        filter_string = (\n",
    "            f\"SingleColumnValueFilter ('{column.split(':')[0]}', '{column.split(':')[1]}', \"\n",
    "            f\"{comparator}, 'binary:{value}', true, true)\"\n",
    "        )\n",
    "        print(f\"Applying filter: {filter_string}\")  # Debug print\n",
    "        rows = table.scan(filter=filter_string)\n",
    "        result = []\n",
    "        for key, data in rows:\n",
    "            decoded_data = {k.decode('utf-8'): v.decode('utf-8') for k, v in data.items()}\n",
    "            result.append((key.decode('utf-8'), decoded_data))\n",
    "        return result\n",
    "\n",
    "    def close_connection(self):\n",
    "        \"\"\"\n",
    "        Close the HBase connection.\n",
    "        \"\"\"\n",
    "        self.connection.close()\n",
    "        print(\"Connection closed\")"
   ]
  },
  {
   "cell_type": "markdown",
   "metadata": {},
   "source": [
    "Class Overview\n",
    "1. Initialization:\n",
    "   \n",
    "   The __init__ method establishes a connection to the HBase server using the provided host and port.\n",
    "2. Create or Update:\n",
    "\n",
    "   The create_or_update method allows inserting or updating data in the specified table and row key.\n",
    "3. Read:\n",
    "   \n",
    "   The read method fetches data for a specific row key from the given table, returning the data in a readable format or a message if no data is found.\n",
    "4. Delete:\n",
    "   \n",
    "    The delete method removes a row from the specified table.\n",
    "5. Scan Table:\n",
    "    \n",
    "    The scan_table method scans for rows within an optional key range and can apply a filter to the scan. It's used for broad queries across your data.\n",
    "6. Scan Filtered Table:\n",
    "    \n",
    "    The scan_filtered_table method adds specific column filters to the scanning process, which is useful for more targeted queries based on specific column values.\n",
    "7. Close Connection:\n",
    "    \n",
    "    The close_connection method properly closes the connection to the HBase server."
   ]
  },
  {
   "cell_type": "markdown",
   "metadata": {},
   "source": [
    "### Using the class\n",
    "\n",
    "Initiate the information on a variable then call the method."
   ]
  },
  {
   "cell_type": "code",
   "execution_count": 93,
   "metadata": {},
   "outputs": [
    {
     "name": "stdout",
     "output_type": "stream",
     "text": [
      "Data inserted/updated in Books for row 978-3-16-148410-0\n",
      "Data retrieved from Books for row 978-3-16-148410-0:\n",
      "{'details:author': '1', 'details:title': 'Sample Book Title', 'stock:quantity': '5'}\n",
      "Data inserted/updated in Books for row 978-3-16-148410-0\n",
      "Data retrieved from Books for row 978-3-16-148410-0:\n",
      "{'details:author': '1', 'details:title': 'Sample Book Title', 'stock:quantity': '10'}\n",
      "Connection closed\n"
     ]
    }
   ],
   "source": [
    "hbase = HBaseCRUD('hbase-docker')\n",
    "\n",
    "# Insert data into 'Books' table\n",
    "book_data = {\n",
    "    'details:title': 'Sample Book Title', \n",
    "    'details:author': '1', \n",
    "    'stock:quantity': '5'\n",
    "}\n",
    "\n",
    "hbase.create_or_update('Books', '978-3-16-148410-0', book_data)\n",
    "\n",
    "# Read data from 'Books' table\n",
    "book = hbase.read('Books', '978-3-16-148410-0')\n",
    "print(book)\n",
    "\n",
    "# Update data in 'Books' table\n",
    "update_data = {\n",
    "    'stock:quantity': '10'\n",
    "}\n",
    "hbase.create_or_update('Books', '978-3-16-148410-0', update_data)\n",
    "\n",
    "# Read data from 'Books' table\n",
    "book = hbase.read('Books', '978-3-16-148410-0')\n",
    "print(book)\n",
    "\n",
    "# # Delete row from 'Books' table\n",
    "# hbase.delete('Books', '978-3-16-148410-0')\n",
    "\n",
    "# Close connection\n",
    "hbase.close_connection()"
   ]
  },
  {
   "cell_type": "markdown",
   "metadata": {},
   "source": [
    "#### Create or Update multiple data - Books Table"
   ]
  },
  {
   "cell_type": "code",
   "execution_count": 83,
   "metadata": {},
   "outputs": [
    {
     "name": "stdout",
     "output_type": "stream",
     "text": [
      "Data inserted/updated in Books for row 978-0-13-110163-0\n",
      "Inserted book with ISBN 978-0-13-110163-0\n",
      "Data inserted/updated in Books for row 978-0-13-595705-9\n",
      "Inserted book with ISBN 978-0-13-595705-9\n",
      "Data inserted/updated in Books for row 978-0-201-83595-3\n",
      "Inserted book with ISBN 978-0-201-83595-3\n",
      "Data inserted/updated in Books for row 978-0-596-52068-7\n",
      "Inserted book with ISBN 978-0-596-52068-7\n",
      "Data inserted/updated in Books for row 978-0-262-03384-8\n",
      "Inserted book with ISBN 978-0-262-03384-8\n",
      "Data inserted/updated in Books for row 978-0-262-53305-8\n",
      "Inserted book with ISBN 978-0-262-53305-8\n",
      "Data inserted/updated in Books for row 978-0-13-110362-7\n",
      "Inserted book with ISBN 978-0-13-110362-7\n",
      "Data inserted/updated in Books for row 978-1-59327-708-4\n",
      "Inserted book with ISBN 978-1-59327-708-4\n",
      "Connection closed\n"
     ]
    }
   ],
   "source": [
    "# Example book data entries\n",
    "books_data = [\n",
    "    {\n",
    "        'row_key': '978-0-13-110163-0',\n",
    "        'data': {\n",
    "            'details:title': 'Introduction to Algorithms',\n",
    "            'details:author': '2',  # Assuming author ID '2' is linked in the Authors table\n",
    "            'stock:quantity': '15'\n",
    "        }\n",
    "    },\n",
    "    {\n",
    "        'row_key': '978-0-13-595705-9',\n",
    "        'data': {\n",
    "            'details:title': 'Artificial Intelligence: A Modern Approach',\n",
    "            'details:author': '3',  # Assuming author ID '3'\n",
    "            'stock:quantity': '20'\n",
    "        }\n",
    "    },\n",
    "    {\n",
    "        'row_key': '978-0-201-83595-3',\n",
    "        'data': {\n",
    "            'details:title': 'The C Programming Language',\n",
    "            'details:author': '4',  # Assuming author ID '4'\n",
    "            'stock:quantity': '8'\n",
    "        }\n",
    "    },\n",
    "    {\n",
    "        'row_key': '978-0-596-52068-7',\n",
    "        'data': {\n",
    "            'details:title': 'Learning Python',\n",
    "            'details:author': '5',  # Assuming author ID '5'\n",
    "            'stock:quantity': '12'\n",
    "        }\n",
    "    },\n",
    "    {\n",
    "        'row_key': '978-0-262-03384-8',\n",
    "        'data': {\n",
    "            'details:title': 'Algorithms Unlocked',\n",
    "            'details:author': '2',  # Thomas H. Cormen\n",
    "            'stock:quantity': '10'\n",
    "        }\n",
    "    },\n",
    "    {\n",
    "        'row_key': '978-0-262-53305-8',\n",
    "        'data': {\n",
    "            'details:title': 'Introduction to Autonomous Robots',\n",
    "            'details:author': '3',  # Stuart Russell\n",
    "            'stock:quantity': '7'\n",
    "        }\n",
    "    },\n",
    "    {\n",
    "        'row_key': '978-0-13-110362-7',\n",
    "        'data': {\n",
    "            'details:title': 'The UNIX Programming Environment',\n",
    "            'details:author': '4',  # Brian Kernighan\n",
    "            'stock:quantity': '5'\n",
    "        }\n",
    "    },\n",
    "    {\n",
    "        'row_key': '978-1-59327-708-4',\n",
    "        'data': {\n",
    "            'details:title': 'Python Crash Course',\n",
    "            'details:author': '5',  # Mark Lutz\n",
    "            'stock:quantity': '12'\n",
    "        }\n",
    "    }\n",
    "    \n",
    "]\n",
    "\n",
    "# Initialize HBase CRUD operations for the 'Books' table\n",
    "hbase = HBaseCRUD('hbase-docker')\n",
    "\n",
    "# Inserting the book data into the 'Books' table\n",
    "for book in books_data:\n",
    "    hbase.create_or_update('Books', book['row_key'], book['data'])\n",
    "    print(f\"Inserted book with ISBN {book['row_key']}\")\n",
    "\n",
    "# Close the connection after operations\n",
    "hbase.close_connection()"
   ]
  },
  {
   "cell_type": "markdown",
   "metadata": {},
   "source": [
    "#### Read based on key range"
   ]
  },
  {
   "cell_type": "code",
   "execution_count": 84,
   "metadata": {},
   "outputs": [
    {
     "name": "stdout",
     "output_type": "stream",
     "text": [
      "Scanning table Books...\n",
      "ISBN: 978-0-13-110163-0\n",
      "  details:author: 2\n",
      "  details:title: Introduction to Algorithms\n",
      "  stock:quantity: 15\n",
      "\n",
      "ISBN: 978-0-13-110362-7\n",
      "  details:author: 4\n",
      "  details:title: The UNIX Programming Environment\n",
      "  stock:quantity: 5\n",
      "\n",
      "ISBN: 978-0-13-595705-9\n",
      "  details:author: 3\n",
      "  details:title: Artificial Intelligence: A Modern Approach\n",
      "  stock:quantity: 20\n",
      "\n",
      "Connection closed\n"
     ]
    }
   ],
   "source": [
    "hbase = HBaseCRUD('hbase-docker')\n",
    "    \n",
    "# Scan with a range of ISBNs\n",
    "selected_books = hbase.scan_table('Books', start_key='978-0-13-110163-0', end_key='978-0-201-83595-3')\n",
    "for key, data in selected_books:\n",
    "    print(f\"ISBN: {key}\")\n",
    "    for column, value in data.items():\n",
    "        print(f\"  {column}: {value}\")\n",
    "    print(\"\")\n",
    "\n",
    "# Close connection after operations\n",
    "hbase.close_connection()"
   ]
  },
  {
   "cell_type": "markdown",
   "metadata": {},
   "source": [
    "#### Create or Update Multiple data - Authors table"
   ]
  },
  {
   "cell_type": "code",
   "execution_count": 85,
   "metadata": {},
   "outputs": [
    {
     "name": "stdout",
     "output_type": "stream",
     "text": [
      "Data inserted/updated in Authors for row 2\n",
      "Data inserted/updated in Authors for row 3\n",
      "Data inserted/updated in Authors for row 4\n",
      "Data inserted/updated in Authors for row 5\n",
      "Connection closed\n"
     ]
    }
   ],
   "source": [
    "# Sample authors data\n",
    "authors_data = [\n",
    "    {\n",
    "        'row_key': '2',\n",
    "        'data': {\n",
    "            'info:name': 'Thomas H. Cormen',\n",
    "            'info:birthdate': '1956-02-24'\n",
    "        }\n",
    "    },\n",
    "    {\n",
    "        'row_key': '3',\n",
    "        'data': {\n",
    "            'info:name': 'Stuart Russell',\n",
    "            'info:birthdate': '1962-05-03'\n",
    "        }\n",
    "    },\n",
    "    {\n",
    "        'row_key': '4',\n",
    "        'data': {\n",
    "            'info:name': 'Brian Kernighan',\n",
    "            'info:birthdate': '1942-01-01'\n",
    "        }\n",
    "    },\n",
    "    {\n",
    "        'row_key': '5',\n",
    "        'data': {\n",
    "            'info:name': 'Mark Lutz',\n",
    "            'info:birthdate': '1956-01-01'\n",
    "        }\n",
    "    }\n",
    "]\n",
    "\n",
    "hbase = HBaseCRUD('hbase-docker')\n",
    "\n",
    "# Inserting the authors data into the 'Authors' table\n",
    "for author in authors_data:\n",
    "    hbase.create_or_update('Authors', author['row_key'], author['data'])\n",
    "\n",
    "# Close connection\n",
    "hbase.close_connection()"
   ]
  },
  {
   "cell_type": "markdown",
   "metadata": {},
   "source": [
    "#### Read all data"
   ]
  },
  {
   "cell_type": "code",
   "execution_count": 86,
   "metadata": {},
   "outputs": [
    {
     "name": "stdout",
     "output_type": "stream",
     "text": [
      "Authors:\n",
      "Scanning table Authors...\n",
      "Author ID: 1\n",
      "  info:birthdate: 1990-01-01\n",
      "  info:name: John Doe\n",
      "\n",
      "Author ID: 2\n",
      "  info:birthdate: 1956-02-24\n",
      "  info:name: Thomas H. Cormen\n",
      "\n",
      "Author ID: 3\n",
      "  info:birthdate: 1962-05-03\n",
      "  info:name: Stuart Russell\n",
      "\n",
      "Author ID: 4\n",
      "  info:birthdate: 1942-01-01\n",
      "  info:name: Brian Kernighan\n",
      "\n",
      "Author ID: 5\n",
      "  info:birthdate: 1956-01-01\n",
      "  info:name: Mark Lutz\n",
      "\n",
      "Books:\n",
      "Scanning table Books...\n",
      "ISBN: 978-0-13-110163-0\n",
      "  details:author: 2\n",
      "  details:title: Introduction to Algorithms\n",
      "  stock:quantity: 15\n",
      "\n",
      "ISBN: 978-0-13-110362-7\n",
      "  details:author: 4\n",
      "  details:title: The UNIX Programming Environment\n",
      "  stock:quantity: 5\n",
      "\n",
      "ISBN: 978-0-13-595705-9\n",
      "  details:author: 3\n",
      "  details:title: Artificial Intelligence: A Modern Approach\n",
      "  stock:quantity: 20\n",
      "\n",
      "ISBN: 978-0-201-83595-3\n",
      "  details:author: 4\n",
      "  details:title: The C Programming Language\n",
      "  stock:quantity: 8\n",
      "\n",
      "ISBN: 978-0-262-03384-8\n",
      "  details:author: 2\n",
      "  details:title: Algorithms Unlocked\n",
      "  stock:quantity: 10\n",
      "\n",
      "ISBN: 978-0-262-53305-8\n",
      "  details:author: 3\n",
      "  details:title: Introduction to Autonomous Robots\n",
      "  stock:quantity: 7\n",
      "\n",
      "ISBN: 978-0-596-52068-7\n",
      "  details:author: 5\n",
      "  details:title: Learning Python\n",
      "  stock:quantity: 12\n",
      "\n",
      "ISBN: 978-1-59327-708-4\n",
      "  details:author: 5\n",
      "  details:title: Python Crash Course\n",
      "  stock:quantity: 12\n",
      "\n",
      "ISBN: 978-3-16-148410-0\n",
      "  details:author: 1\n",
      "  details:title: Sample Book Title\n",
      "  stock:quantity: 10\n",
      "\n",
      "ISBN: 978-3-16-148410-1\n",
      "  details:author: 1\n",
      "  details:title: Another Sample Book Title\n",
      "  stock:quantity: 7\n",
      "\n",
      "Connection closed\n"
     ]
    }
   ],
   "source": [
    "hbase = HBaseCRUD('hbase-docker')\n",
    "\n",
    "# Scan and display all authors\n",
    "print(\"Authors:\")\n",
    "all_authors = hbase.scan_table('Authors')\n",
    "for key, data in all_authors:\n",
    "    print(f\"Author ID: {key}\")\n",
    "    for column, value in data.items():\n",
    "        print(f\"  {column}: {value}\")\n",
    "    print(\"\")\n",
    "\n",
    "# Scan and display all books\n",
    "print(\"Books:\")\n",
    "all_books = hbase.scan_table('Books')\n",
    "for key, data in all_books:\n",
    "    print(f\"ISBN: {key}\")\n",
    "    for column, value in data.items():\n",
    "        print(f\"  {column}: {value}\")\n",
    "    print(\"\")\n",
    "\n",
    "# Close connection after operations\n",
    "hbase.close_connection()"
   ]
  },
  {
   "cell_type": "markdown",
   "metadata": {},
   "source": [
    "#### Read with conditions\n"
   ]
  },
  {
   "cell_type": "code",
   "execution_count": 87,
   "metadata": {},
   "outputs": [
    {
     "name": "stdout",
     "output_type": "stream",
     "text": [
      "Books with Quantity < 20:\n",
      "Applying filter: SingleColumnValueFilter ('stock', 'quantity', <, 'binary:20', true, true)\n",
      "ISBN: 978-0-13-110163-0\n",
      "  details:author: 2\n",
      "  details:title: Introduction to Algorithms\n",
      "  stock:quantity: 15\n",
      "\n",
      "ISBN: 978-0-262-03384-8\n",
      "  details:author: 2\n",
      "  details:title: Algorithms Unlocked\n",
      "  stock:quantity: 10\n",
      "\n",
      "ISBN: 978-0-596-52068-7\n",
      "  details:author: 5\n",
      "  details:title: Learning Python\n",
      "  stock:quantity: 12\n",
      "\n",
      "ISBN: 978-1-59327-708-4\n",
      "  details:author: 5\n",
      "  details:title: Python Crash Course\n",
      "  stock:quantity: 12\n",
      "\n",
      "ISBN: 978-3-16-148410-0\n",
      "  details:author: 1\n",
      "  details:title: Sample Book Title\n",
      "  stock:quantity: 10\n",
      "\n",
      "Connection closed\n"
     ]
    }
   ],
   "source": [
    "hbase = HBaseCRUD('hbase-docker')\n",
    "\n",
    "# Scan and display books where quantity is less than 20\n",
    "print(\"Books with Quantity < 20:\")\n",
    "filtered_books = hbase.scan_filtered_table('Books', 'stock:quantity', '20', '<')\n",
    "for key, data in filtered_books:\n",
    "    print(f\"ISBN: {key}\")\n",
    "    for column, value in data.items():\n",
    "        print(f\"  {column}: {value}\")\n",
    "    print(\"\")\n",
    "\n",
    "\n",
    "# print(\"Books with author 2:\")\n",
    "# filtered_books = hbase.scan_filtered_table('Books', 'details:author', '2', '=')\n",
    "# for key, data in filtered_books:\n",
    "#     print(f\"ISBN: {key}\")\n",
    "#     for column, value in data.items():\n",
    "#         print(f\"  {column}: {value}\")\n",
    "#     print(\"\")\n",
    "\n",
    "# Close connection after operations\n",
    "hbase.close_connection()"
   ]
  },
  {
   "cell_type": "code",
   "execution_count": 90,
   "metadata": {},
   "outputs": [
    {
     "name": "stdout",
     "output_type": "stream",
     "text": [
      "Books with Author id 2:\n",
      "Applying filter: SingleColumnValueFilter ('details', 'author', =, 'binary:2', true, true)\n",
      "ISBN: 978-0-13-110163-0\n",
      "  details:author: 2\n",
      "  details:title: Introduction to Algorithms\n",
      "  stock:quantity: 15\n",
      "\n",
      "ISBN: 978-0-262-03384-8\n",
      "  details:author: 2\n",
      "  details:title: Algorithms Unlocked\n",
      "  stock:quantity: 10\n",
      "\n",
      "Connection closed\n"
     ]
    }
   ],
   "source": [
    "hbase = HBaseCRUD('hbase-docker')\n",
    "\n",
    "print(\"Books with Author id 2:\")\n",
    "filtered_books = hbase.scan_filtered_table('Books', 'details:author', '2', '=')\n",
    "for key, data in filtered_books:\n",
    "    print(f\"ISBN: {key}\")\n",
    "    for column, value in data.items():\n",
    "        print(f\"  {column}: {value}\")\n",
    "    print(\"\")\n",
    "\n",
    "# Make sure the connection is closed properly after operations\n",
    "hbase.close_connection()"
   ]
  },
  {
   "cell_type": "markdown",
   "metadata": {},
   "source": [
    "#### Simulating join operations"
   ]
  },
  {
   "cell_type": "code",
   "execution_count": 126,
   "metadata": {},
   "outputs": [
    {
     "name": "stdout",
     "output_type": "stream",
     "text": [
      "ISBN: 978-0-13-110163-0, Title: Introduction to Algorithms, Author: Thomas H. Cormen, Birthdate: 1956-02-24, Quantity: 15\n",
      "ISBN: 978-0-13-110362-7, Title: The UNIX Programming Environment, Author: Brian Kernighan, Birthdate: 1942-01-01, Quantity: 5\n",
      "ISBN: 978-0-13-595705-9, Title: Artificial Intelligence: A Modern Approach, Author: Stuart Russell, Birthdate: 1962-05-03, Quantity: 20\n",
      "ISBN: 978-0-201-83595-3, Title: The C Programming Language, Author: Brian Kernighan, Birthdate: 1942-01-01, Quantity: 8\n",
      "ISBN: 978-0-262-03384-8, Title: Algorithms Unlocked, Author: Thomas H. Cormen, Birthdate: 1956-02-24, Quantity: 10\n",
      "ISBN: 978-0-262-53305-8, Title: Introduction to Autonomous Robots, Author: Stuart Russell, Birthdate: 1962-05-03, Quantity: 7\n",
      "ISBN: 978-0-596-52068-7, Title: Learning Python, Author: Mark Lutz, Birthdate: 1956-01-01, Quantity: 12\n",
      "ISBN: 978-1-59327-708-4, Title: Python Crash Course, Author: Mark Lutz, Birthdate: 1956-01-01, Quantity: 12\n",
      "ISBN: 978-3-16-148410-0, Title: Sample Book Title, Author: John Doe, Birthdate: 1990-01-01, Quantity: 10\n",
      "ISBN: 978-3-16-148410-1, Title: Another Sample Book Title, Author: John Doe, Birthdate: 1990-01-01, Quantity: 7\n"
     ]
    }
   ],
   "source": [
    "\"\"\"Connect to the HBase server.\"\"\"\n",
    "connection = happybase.Connection('hbase-docker', 9090)\n",
    "\n",
    "def get_author_details(connection, author_id):\n",
    "    \"\"\"Fetch author details by author ID from the Authors table.\"\"\"\n",
    "    table = connection.table('Authors')\n",
    "    row = table.row(author_id.encode('utf-8'))\n",
    "    if row:\n",
    "        author_name = row[b'info:name'].decode('utf-8') if b'info:name' in row else \"Unknown Author\"\n",
    "        author_birthdate = row[b'info:birthdate'].decode('utf-8') if b'info:birthdate' in row else \"Unknown Birthdate\"\n",
    "        return author_name, author_birthdate\n",
    "    return \"Unknown Author\", \"Unknown Birthdate\"\n",
    "\n",
    "def get_books_with_authors(connection):\n",
    "    \"\"\"Fetch all books and enrich them with author details from the Authors table.\"\"\"\n",
    "    table = connection.table('Books')\n",
    "    books = table.scan()\n",
    "    results = []\n",
    "    for key, data in books:\n",
    "        author_id = data[b'details:author'].decode('utf-8')\n",
    "        author_name, author_birthdate = get_author_details(connection, author_id)\n",
    "        book_info = {\n",
    "            'ISBN': key.decode('utf-8'),\n",
    "            'Title': data[b'details:title'].decode('utf-8'),\n",
    "            'Author ID': author_id,\n",
    "            'Author Name': author_name,\n",
    "            'Author Birthdate': author_birthdate,\n",
    "            'Quantity': data[b'stock:quantity'].decode('utf-8')\n",
    "        }\n",
    "        results.append(book_info)\n",
    "    return results\n",
    "\n",
    "try:\n",
    "    books_with_authors = get_books_with_authors(connection)\n",
    "    for book in books_with_authors:\n",
    "        print(f\"ISBN: {book['ISBN']}, Title: {book['Title']}, Author: {book['Author Name']}, Birthdate: {book['Author Birthdate']}, Quantity: {book['Quantity']}\")\n",
    "finally:\n",
    "    \"\"\"Close the connection to the HBase server.\"\"\"\n",
    "    connection.close()"
   ]
  },
  {
   "cell_type": "markdown",
   "metadata": {},
   "source": [
    "## 6. Experiment with Data Modeling\n",
    "Data modeling in HBase can affect performance significantly. Consider whether to normalize data (which may lead to multiple cross-table queries) or denormalize it (which increases storage but may decrease the number of queries).\n"
   ]
  },
  {
   "cell_type": "markdown",
   "metadata": {},
   "source": [
    "Data modeling in HBase is significantly different from traditional relational databases due to its schema-less nature and the way data is stored and accessed. It often involves trade-offs between read and write efficiencies. To optimize query performance, particularly for large-scale data, it's crucial to carefully design the schema considering access patterns. \n",
    "\n",
    "Approach - Two column families:\n",
    "- book_details: To store information related to the books such as title and quantity.\n",
    "- author_details: To store information related to the authors such as name and birthdate."
   ]
  },
  {
   "cell_type": "code",
   "execution_count": 127,
   "metadata": {},
   "outputs": [
    {
     "name": "stdout",
     "output_type": "stream",
     "text": [
      "Table denormalized already exists.\n",
      "Populated the denormalized table with book and author details.\n"
     ]
    }
   ],
   "source": [
    "def create_table_if_not_exists(hbase_connection, table_name, families, family_options=None):\n",
    "    \"\"\"\n",
    "    Create an HBase table with the specified column families if it doesn't already exist,\n",
    "    with optional settings for each column family.\n",
    "\n",
    "    Args:\n",
    "    hbase_connection (happybase.Connection): The connection to HBase.\n",
    "    table_name (str): The name of the table to check/create.\n",
    "    families (list): A list of column family names to include in the table.\n",
    "    family_options (dict): Optional dictionary specifying options for each column family.\n",
    "    \"\"\"\n",
    "    try:\n",
    "        tables = hbase_connection.tables()  # Use the connection directly here\n",
    "        if table_name.encode('utf-8') not in tables:\n",
    "            # Use provided column family options or default to empty dict\n",
    "            families_dict = {fam: family_options.get(fam, dict()) for fam in families} if family_options else {fam: dict() for fam in families}\n",
    "            hbase_connection.create_table(table_name, families_dict)  # Use the connection directly here\n",
    "            print(f\"Table {table_name} created with families {families}\")\n",
    "        else:\n",
    "            print(f\"Table {table_name} already exists.\")\n",
    "    except Exception as e:\n",
    "        print(f\"Failed to check or create table {table_name}: {str(e)}\")\n",
    "\n",
    "def create_denormalized_table(hbase_crud):\n",
    "    table_name = 'denormalized'\n",
    "    families = ['book_details', 'author_details']\n",
    "    family_options = {\n",
    "        'book_details': dict(max_versions=1),\n",
    "        'author_details': dict(max_versions=1)\n",
    "    }\n",
    "    create_table_if_not_exists(hbase_crud, table_name, families, family_options)\n",
    "\n",
    "def populate_denormalized_table(connection):\n",
    "    table = connection.table('Books')\n",
    "    denormalized_table = connection.table('denormalized')\n",
    "    books = table.scan()\n",
    "    for key, data in books:\n",
    "        isbn = key.decode('utf-8')\n",
    "        author_id = data[b'details:author'].decode('utf-8')\n",
    "        author_name, author_birthdate = get_author_details(connection, author_id)\n",
    "\n",
    "        # Prepare the data to insert into the denormalized table\n",
    "        book_data = {\n",
    "            b'book_details:title': data[b'details:title'],\n",
    "            b'book_details:quantity': data[b'stock:quantity']\n",
    "        }\n",
    "        author_data = {\n",
    "            b'author_details:name': author_name.encode('utf-8'),\n",
    "            b'author_details:birthdate': author_birthdate.encode('utf-8')\n",
    "        }\n",
    "\n",
    "        # Combine book and author data into a single dictionary for insertion\n",
    "        combined_data = {**book_data, **author_data}\n",
    "        denormalized_table.put(isbn.encode('utf-8'), combined_data)\n",
    "\n",
    "    print(\"Populated the denormalized table with book and author details.\")\n",
    "\n",
    "connection = happybase.Connection('hbase-docker', 9090)\n",
    "\n",
    "# Create the denormalized table if it doesn't exist\n",
    "create_denormalized_table(connection)\n",
    "\n",
    "# Populate the denormalized table with data\n",
    "populate_denormalized_table(connection)\n",
    "\n",
    "# Close the connection after operations\n",
    "connection.close()\n"
   ]
  },
  {
   "cell_type": "markdown",
   "metadata": {},
   "source": [
    "#### Read the denormalized table"
   ]
  },
  {
   "cell_type": "code",
   "execution_count": 128,
   "metadata": {},
   "outputs": [
    {
     "name": "stdout",
     "output_type": "stream",
     "text": [
      "Reading data from 'denormalized' table...\n",
      "ISBN: 978-0-13-110163-0\n",
      "  Title: Introduction to Algorithms\n",
      "  Quantity: 15\n",
      "  Author Name: Thomas H. Cormen\n",
      "  Author Birthdate: 1956-02-24\n",
      "\n",
      "ISBN: 978-0-13-110362-7\n",
      "  Title: The UNIX Programming Environment\n",
      "  Quantity: 5\n",
      "  Author Name: Brian Kernighan\n",
      "  Author Birthdate: 1942-01-01\n",
      "\n",
      "ISBN: 978-0-13-595705-9\n",
      "  Title: Artificial Intelligence: A Modern Approach\n",
      "  Quantity: 20\n",
      "  Author Name: Stuart Russell\n",
      "  Author Birthdate: 1962-05-03\n",
      "\n",
      "ISBN: 978-0-201-83595-3\n",
      "  Title: The C Programming Language\n",
      "  Quantity: 8\n",
      "  Author Name: Brian Kernighan\n",
      "  Author Birthdate: 1942-01-01\n",
      "\n",
      "ISBN: 978-0-262-03384-8\n",
      "  Title: Algorithms Unlocked\n",
      "  Quantity: 10\n",
      "  Author Name: Thomas H. Cormen\n",
      "  Author Birthdate: 1956-02-24\n",
      "\n",
      "ISBN: 978-0-262-53305-8\n",
      "  Title: Introduction to Autonomous Robots\n",
      "  Quantity: 7\n",
      "  Author Name: Stuart Russell\n",
      "  Author Birthdate: 1962-05-03\n",
      "\n",
      "ISBN: 978-0-596-52068-7\n",
      "  Title: Learning Python\n",
      "  Quantity: 12\n",
      "  Author Name: Mark Lutz\n",
      "  Author Birthdate: 1956-01-01\n",
      "\n",
      "ISBN: 978-1-59327-708-4\n",
      "  Title: Python Crash Course\n",
      "  Quantity: 12\n",
      "  Author Name: Mark Lutz\n",
      "  Author Birthdate: 1956-01-01\n",
      "\n",
      "ISBN: 978-3-16-148410-0\n",
      "  Title: Sample Book Title\n",
      "  Quantity: 10\n",
      "  Author Name: John Doe\n",
      "  Author Birthdate: 1990-01-01\n",
      "\n",
      "ISBN: 978-3-16-148410-1\n",
      "  Title: Another Sample Book Title\n",
      "  Quantity: 7\n",
      "  Author Name: John Doe\n",
      "  Author Birthdate: 1990-01-01\n",
      "\n"
     ]
    }
   ],
   "source": [
    "def read_denormalized_table(connection):\n",
    "    \"\"\"Reads all entries from the 'denormalized' table and prints them.\"\"\"\n",
    "    table = connection.table('denormalized')\n",
    "    print(\"Reading data from 'denormalized' table...\")\n",
    "    for key, data in table.scan():\n",
    "        isbn = key.decode('utf-8')\n",
    "        title = data.get(b'book_details:title', b'').decode('utf-8')\n",
    "        quantity = data.get(b'book_details:quantity', b'').decode('utf-8')\n",
    "        author_name = data.get(b'author_details:name', b'').decode('utf-8')\n",
    "        author_birthdate = data.get(b'author_details:birthdate', b'').decode('utf-8')\n",
    "\n",
    "        print(f\"ISBN: {isbn}\")\n",
    "        print(f\"  Title: {title}\")\n",
    "        print(f\"  Quantity: {quantity}\")\n",
    "        print(f\"  Author Name: {author_name}\")\n",
    "        print(f\"  Author Birthdate: {author_birthdate}\")\n",
    "        print(\"\")\n",
    "\n",
    "# Usage Example\n",
    "connection = happybase.Connection('hbase-docker', 9090)\n",
    "try:\n",
    "    read_denormalized_table(connection)\n",
    "finally:\n",
    "    connection.close()"
   ]
  },
  {
   "cell_type": "code",
   "execution_count": null,
   "metadata": {},
   "outputs": [],
   "source": []
  }
 ],
 "metadata": {
  "colab": {
   "provenance": []
  },
  "kernelspec": {
   "display_name": "Python 3 (ipykernel)",
   "language": "python",
   "name": "python3"
  },
  "language_info": {
   "codemirror_mode": {
    "name": "ipython",
    "version": 3
   },
   "file_extension": ".py",
   "mimetype": "text/x-python",
   "name": "python",
   "nbconvert_exporter": "python",
   "pygments_lexer": "ipython3",
   "version": "3.10.12"
  }
 },
 "nbformat": 4,
 "nbformat_minor": 4
}
