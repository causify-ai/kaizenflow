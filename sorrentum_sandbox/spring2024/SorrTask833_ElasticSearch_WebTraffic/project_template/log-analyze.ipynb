{
 "cells": [
  {
   "cell_type": "code",
   "execution_count": 1,
   "id": "326ea1ae-d595-4fe4-ac05-2a22a73f3894",
   "metadata": {},
   "outputs": [
    {
     "name": "stdout",
     "output_type": "stream",
     "text": [
      "Requirement already satisfied: elasticsearch in ./venv/lib/python3.11/site-packages (8.13.0)\n",
      "Requirement already satisfied: elastic-transport<9,>=8.13 in ./venv/lib/python3.11/site-packages (from elasticsearch) (8.13.0)\n",
      "Requirement already satisfied: urllib3<3,>=1.26.2 in ./venv/lib/python3.11/site-packages (from elastic-transport<9,>=8.13->elasticsearch) (2.2.1)\n",
      "Requirement already satisfied: certifi in ./venv/lib/python3.11/site-packages (from elastic-transport<9,>=8.13->elasticsearch) (2024.2.2)\n",
      "\n",
      "\u001b[1m[\u001b[0m\u001b[34;49mnotice\u001b[0m\u001b[1;39;49m]\u001b[0m\u001b[39;49m A new release of pip is available: \u001b[0m\u001b[31;49m23.2.1\u001b[0m\u001b[39;49m -> \u001b[0m\u001b[32;49m24.0\u001b[0m\n",
      "\u001b[1m[\u001b[0m\u001b[34;49mnotice\u001b[0m\u001b[1;39;49m]\u001b[0m\u001b[39;49m To update, run: \u001b[0m\u001b[32;49mpip install --upgrade pip\u001b[0m\n"
     ]
    }
   ],
   "source": [
    "!pip install elasticsearch"
   ]
  },
  {
   "cell_type": "code",
   "execution_count": 2,
   "id": "493e00e0-9ed8-49ac-a82c-dd7eb38692ae",
   "metadata": {},
   "outputs": [],
   "source": [
    "from elasticsearch import Elasticsearch"
   ]
  },
  {
   "cell_type": "code",
   "execution_count": 5,
   "id": "4a425c5b-171d-4f6c-9c7d-d02b1d38d5b3",
   "metadata": {},
   "outputs": [
    {
     "name": "stdout",
     "output_type": "stream",
     "text": [
      "{'took': 11, 'timed_out': False, '_shards': {'total': 1, 'successful': 1, 'skipped': 0, 'failed': 0}, 'hits': {'total': {'value': 3000, 'relation': 'eq'}, 'max_score': 1.0, 'hits': [{'_index': 'web-logs', '_id': 'hqRsEY8B-mqCaRobCoGr', '_score': 1.0, '_source': {'timestamp': '2024-04-24T14:44:04', 'ip': '134.75.146.209', 'method': 'GET', 'endpoint': 'explore/blog/blog', 'response_code': 200, 'response_time': 343}}, {'_index': 'web-logs', '_id': 'h6RsEY8B-mqCaRobCoHY', '_score': 1.0, '_source': {'timestamp': '2024-04-24T14:44:04', 'ip': '51.48.23.207', 'method': 'DELETE', 'endpoint': 'posts/explore', 'response_code': 500, 'response_time': 923}}, {'_index': 'web-logs', '_id': 'iKRsEY8B-mqCaRobCoHc', '_score': 1.0, '_source': {'timestamp': '2024-04-24T14:44:04', 'ip': '187.156.203.125', 'method': 'POST', 'endpoint': 'tag/main/search', 'response_code': 404, 'response_time': 629}}, {'_index': 'web-logs', '_id': 'iaRsEY8B-mqCaRobCoHe', '_score': 1.0, '_source': {'timestamp': '2024-04-24T14:44:04', 'ip': '95.218.188.233', 'method': 'GET', 'endpoint': 'list/wp-content/category', 'response_code': 404, 'response_time': 538}}, {'_index': 'web-logs', '_id': 'iqRsEY8B-mqCaRobCoHh', '_score': 1.0, '_source': {'timestamp': '2024-04-24T14:44:04', 'ip': '159.10.167.95', 'method': 'PUT', 'endpoint': 'list/tag', 'response_code': 500, 'response_time': 665}}, {'_index': 'web-logs', '_id': 'i6RsEY8B-mqCaRobCoHj', '_score': 1.0, '_source': {'timestamp': '2024-04-24T14:44:04', 'ip': '213.156.58.101', 'method': 'DELETE', 'endpoint': 'list/app', 'response_code': 500, 'response_time': 137}}, {'_index': 'web-logs', '_id': 'jKRsEY8B-mqCaRobCoHm', '_score': 1.0, '_source': {'timestamp': '2024-04-24T14:44:04', 'ip': '35.59.249.20', 'method': 'PUT', 'endpoint': 'categories', 'response_code': 500, 'response_time': 712}}, {'_index': 'web-logs', '_id': 'jaRsEY8B-mqCaRobCoHq', '_score': 1.0, '_source': {'timestamp': '2024-04-24T14:44:04', 'ip': '190.220.122.42', 'method': 'GET', 'endpoint': 'list', 'response_code': 404, 'response_time': 794}}, {'_index': 'web-logs', '_id': 'jqRsEY8B-mqCaRobCoHu', '_score': 1.0, '_source': {'timestamp': '2024-04-24T14:44:04', 'ip': '75.72.25.228', 'method': 'DELETE', 'endpoint': 'list/explore', 'response_code': 200, 'response_time': 43}}, {'_index': 'web-logs', '_id': 'j6RsEY8B-mqCaRobCoHw', '_score': 1.0, '_source': {'timestamp': '2024-04-24T14:44:04', 'ip': '91.157.46.40', 'method': 'PUT', 'endpoint': 'categories', 'response_code': 500, 'response_time': 901}}]}}\n"
     ]
    }
   ],
   "source": [
    "es = Elasticsearch(  ['http://localhost:9200'],\n",
    "    basic_auth=('elastic', 'CpZcVEXMtU04YG515b08')\n",
    "                  )\n",
    "\n",
    "response = es.search(index=\"web-logs\", body={\n",
    "    \"query\": {\n",
    "        \"match_all\": {}\n",
    "    }\n",
    "})\n",
    "print(response)"
   ]
  },
  {
   "cell_type": "code",
   "execution_count": null,
   "id": "b1025be0-b73f-4b84-bb71-e3d9540a91f4",
   "metadata": {},
   "outputs": [],
   "source": []
  }
 ],
 "metadata": {
  "kernelspec": {
   "display_name": "Project Template Env",
   "language": "python",
   "name": "project_template"
  },
  "language_info": {
   "codemirror_mode": {
    "name": "ipython",
    "version": 3
   },
   "file_extension": ".py",
   "mimetype": "text/x-python",
   "name": "python",
   "nbconvert_exporter": "python",
   "pygments_lexer": "ipython3",
   "version": "3.11.5"
  }
 },
 "nbformat": 4,
 "nbformat_minor": 5
}
