{
 "cells": [
  {
   "cell_type": "markdown",
   "metadata": {},
   "source": [
    "# Data Analysis\n",
    "Now that the data is uploaded to the Neo4j server, we can use the same py2neo package to make queries to the database\n",
    "\n",
    "## Overview\n",
    "First, let's just take a look at some basic metrics about our data: Total number of Nodes, breakdown of comics vs heroes, and how many edges our graph has."
   ]
  },
  {
   "cell_type": "code",
   "execution_count": 1,
   "metadata": {},
   "outputs": [
    {
     "name": "stdout",
     "output_type": "stream",
     "text": [
      "/home/jovyan/work\n",
      "Total nodes count: 19090\n",
      "Hero nodes count: 6439\n",
      "Comic nodes count: 12651\n",
      "Total edges count: 94527\n"
     ]
    }
   ],
   "source": [
    "%cd /home/jovyan/work\n",
    "from py2neo import Graph\n",
    "import time\n",
    "\n",
    "# Connect to the Neo4j database\n",
    "graph = Graph(\"bolt://neo4j:7687\", auth=(\"neo4j\", \"1234\"))\n",
    "\n",
    "# Count nodes\n",
    "total_nodes_count = graph.evaluate(\"MATCH (n) RETURN count(n)\")\n",
    "hero_nodes_count = graph.evaluate(\"MATCH (n:hero) RETURN count(n)\")\n",
    "comic_nodes_count = graph.evaluate(\"MATCH (n:comic) RETURN count(n)\")\n",
    "\n",
    "print(f\"Total nodes count: {total_nodes_count}\")\n",
    "print(f\"Hero nodes count: {hero_nodes_count}\")\n",
    "print(f\"Comic nodes count: {comic_nodes_count}\")\n",
    "\n",
    "# Count edges\n",
    "total_edges_count = graph.evaluate(\"MATCH ()-[r]->() RETURN count(r)\")\n",
    "print(f\"Total edges count: {total_edges_count}\")\n"
   ]
  },
  {
   "cell_type": "markdown",
   "metadata": {},
   "source": [
    "### Timing Function\n",
    "Let's also define a function to time how long our queries take: "
   ]
  },
  {
   "cell_type": "code",
   "execution_count": 2,
   "metadata": {},
   "outputs": [],
   "source": [
    "# Function to execute a Cypher query and measure execution time\n",
    "def execute_query(query):\n",
    "    start_time = time.time()\n",
    "    result = graph.run(query).data()\n",
    "    end_time = time.time()\n",
    "    completion_time = end_time - start_time\n",
    "    return result, completion_time"
   ]
  },
  {
   "cell_type": "markdown",
   "metadata": {},
   "source": [
    "## Most Common Heroes\n",
    "Let's take a look at which heroes appear in the most stories, by querying the database for which node's of `type = 'hero'` have the most relationships"
   ]
  },
  {
   "cell_type": "code",
   "execution_count": 3,
   "metadata": {},
   "outputs": [
    {
     "name": "stdout",
     "output_type": "stream",
     "text": [
      "Heroes with the most comic book appearances:\n",
      "   1. Hero: CAPTAIN AMERICA, Comic Count: 1334\n",
      "   2. Hero: IRON MAN/TONY STARK, Comic Count: 1150\n",
      "   3. Hero: THING/BENJAMIN J. GR, Comic Count: 963\n",
      "   4. Hero: THOR/DR. DONALD BLAK, Comic Count: 956\n",
      "   5. Hero: HUMAN TORCH/JOHNNY S, Comic Count: 886\n",
      "   6. Hero: MR. FANTASTIC/REED R, Comic Count: 854\n",
      "   7. Hero: HULK/DR. ROBERT BRUC, Comic Count: 835\n",
      "   8. Hero: WOLVERINE/LOGAN, Comic Count: 819\n",
      "   9. Hero: INVISIBLE WOMAN/SUE, Comic Count: 762\n",
      "   10. Hero: SCARLET WITCH/WANDA, Comic Count: 643\n",
      "   11. Hero: BEAST/HENRY &HANK& P, Comic Count: 635\n",
      "   12. Hero: DR. STRANGE/STEPHEN, Comic Count: 631\n",
      "   13. Hero: WATSON-PARKER, MARY, Comic Count: 622\n",
      "   14. Hero: DAREDEVIL/MATT MURDO, Comic Count: 619\n",
      "   15. Hero: HAWK, Comic Count: 605\n",
      "   16. Hero: VISION, Comic Count: 603\n",
      "   17. Hero: CYCLOPS/SCOTT SUMMER, Comic Count: 585\n",
      "   18. Hero: WASP/JANET VAN DYNE, Comic Count: 581\n",
      "   19. Hero: JAMESON, J. JONAH, Comic Count: 577\n",
      "   20. Hero: ANT-MAN/DR. HENRY J., Comic Count: 561\n",
      "Execution time: 0.31 seconds\n"
     ]
    }
   ],
   "source": [
    "\n",
    "# Find the nodes of type 'hero' with the most connections\n",
    "query = \"\"\"\n",
    "MATCH (hero:hero)--(connected)\n",
    "RETURN hero.name AS hero_name, COUNT(connected) AS connection_count\n",
    "ORDER BY connection_count DESC\n",
    "LIMIT 20\n",
    "\"\"\"\n",
    "\n",
    "result, completion_time = execute_query(query)\n",
    "\n",
    "print(\"Heroes with the most comic book appearances:\")\n",
    "for idx, record in enumerate(result, start=1):\n",
    "    hero_name = record['hero_name']\n",
    "    connection_count = record['connection_count']\n",
    "    print(f\"   {idx}. Hero: {hero_name}, Comic Count: {connection_count}\")\n",
    "\n",
    "print(f\"Execution time: {completion_time:.2f} seconds\")"
   ]
  },
  {
   "cell_type": "markdown",
   "metadata": {},
   "source": [
    "## Captain America's Social Network\n",
    "Now let's take a look at our most popular hero- Captain America. We'll query the database to find how many different comic's he's appeared in, how many different heroes he's appeared with, and which of those heroes he has appeared with most often."
   ]
  },
  {
   "cell_type": "code",
   "execution_count": 4,
   "metadata": {},
   "outputs": [
    {
     "name": "stdout",
     "output_type": "stream",
     "text": [
      "1. 'CAPTAIN AMERICA' is appears in 1334 comics.\n",
      "   Execution time: 0.13 seconds\n",
      "2. There are 1918 unique heroes which have appeared in the same comic as Captain America.\n",
      "   Execution time: 0.11 seconds\n",
      "3. Captain America's Most Frequent Collaborators:\n",
      "   1. Hero: IRON MAN/TONY STARK, Co-Appearances: 440\n",
      "   2. Hero: VISION, Co-Appearances: 385\n",
      "   3. Hero: THOR/DR. DONALD BLAK, Co-Appearances: 380\n",
      "   4. Hero: WASP/JANET VAN DYNE, Co-Appearances: 376\n",
      "   5. Hero: SCARLET WITCH/WANDA, Co-Appearances: 373\n",
      "   6. Hero: HAWK, Co-Appearances: 319\n",
      "   7. Hero: ANT-MAN/DR. HENRY J., Co-Appearances: 289\n",
      "   8. Hero: JARVIS, EDWIN, Co-Appearances: 246\n",
      "   9. Hero: WONDER MAN/SIMON WIL, Co-Appearances: 215\n",
      "   10. Hero: FALCON/SAM WILSON, Co-Appearances: 189\n",
      "   11. Hero: HERCULES [GREEK GOD], Co-Appearances: 183\n",
      "   12. Hero: SHE-HULK/JENNIFER WA, Co-Appearances: 172\n",
      "   13. Hero: THING/BENJAMIN J. GR, Co-Appearances: 170\n",
      "   14. Hero: BEAST/HENRY &HANK& P, Co-Appearances: 169\n",
      "   15. Hero: MR. FANTASTIC/REED R, Co-Appearances: 167\n",
      "   16. Hero: QUICKSILVER/PIETRO M, Co-Appearances: 164\n",
      "   17. Hero: HUMAN TORCH/JOHNNY S, Co-Appearances: 162\n",
      "   18. Hero: SUB-MARINER/NAMOR MA, Co-Appearances: 159\n",
      "   19. Hero: FURY, COL. NICHOLAS, Co-Appearances: 156\n",
      "   20. Hero: INVISIBLE WOMAN/SUE, Co-Appearances: 151\n",
      "   Execution time: 0.13 seconds\n"
     ]
    }
   ],
   "source": [
    "# 1. How many nodes is 'CAPTAIN AMERICA' connected to\n",
    "query1 = \"\"\"\n",
    "MATCH (ca:hero {name: 'CAPTAIN AMERICA'})--(connected)\n",
    "RETURN count(DISTINCT connected) AS connected_nodes_count\n",
    "\"\"\"\n",
    "\n",
    "result1, completion_time1 = execute_query(query1)\n",
    "connected_nodes_count = result1[0]['connected_nodes_count']\n",
    "print(f\"1. 'CAPTAIN AMERICA' is appears in {connected_nodes_count} comics.\")\n",
    "print(f\"   Execution time: {completion_time1:.2f} seconds\")\n",
    "\n",
    "# 2. How many unique nodes are connected to nodes which are connected to 'CAPTAIN AMERICA'\n",
    "query2 = \"\"\"\n",
    "MATCH (ca:hero {name: 'CAPTAIN AMERICA'})--(connected)--(connected_to_connected)\n",
    "WHERE connected <> connected_to_connected\n",
    "RETURN count(DISTINCT connected_to_connected) AS unique_connected_nodes_count\n",
    "\"\"\"\n",
    "\n",
    "result2, completion_time2 = execute_query(query2)\n",
    "unique_connected_nodes_count = result2[0]['unique_connected_nodes_count']\n",
    "print(f\"2. There are {unique_connected_nodes_count} unique heroes which have appeared in the same comic as Captain America.\")\n",
    "print(f\"   Execution time: {completion_time2:.2f} seconds\")\n",
    "\n",
    "# 3. What nodes appear most frequently in the second order connections\n",
    "query3 = \"\"\"\n",
    "MATCH (ca:hero {name: 'CAPTAIN AMERICA'})--(connected)--(connected_to_connected)\n",
    "WHERE connected <> connected_to_connected\n",
    "WITH connected_to_connected, COUNT(connected_to_connected) AS freq\n",
    "RETURN connected_to_connected.name AS node, freq\n",
    "ORDER BY freq DESC\n",
    "LIMIT 20\n",
    "\"\"\"\n",
    "\n",
    "result3, completion_time3 = execute_query(query3)\n",
    "print(\"3. Captain America's Most Frequent Collaborators:\")\n",
    "for idx, record in enumerate(result3, start=1):\n",
    "    node_name = record['node']\n",
    "    frequency = record['freq']\n",
    "    print(f\"   {idx}. Hero: {node_name}, Co-Appearances: {frequency}\")\n",
    "\n",
    "print(f\"   Execution time: {completion_time3:.2f} seconds\")\n"
   ]
  }
 ],
 "metadata": {
  "kernelspec": {
   "display_name": "Python 3 (ipykernel)",
   "language": "python",
   "name": "python3"
  },
  "language_info": {
   "codemirror_mode": {
    "name": "ipython",
    "version": 3
   },
   "file_extension": ".py",
   "mimetype": "text/x-python",
   "name": "python",
   "nbconvert_exporter": "python",
   "pygments_lexer": "ipython3",
   "version": "3.11.6"
  }
 },
 "nbformat": 4,
 "nbformat_minor": 4
}
