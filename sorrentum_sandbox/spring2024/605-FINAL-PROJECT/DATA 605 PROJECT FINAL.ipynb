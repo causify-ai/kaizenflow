{
 "cells": [
  {
   "cell_type": "markdown",
   "id": "3c816dfb-20ed-4030-a9ad-c88ce0116c7a",
   "metadata": {},
   "source": [
    "### MAKING AN API REQUEST"
   ]
  },
  {
   "cell_type": "code",
   "execution_count": 1,
   "id": "1c7a7581-914b-4d08-b547-fe325efd8790",
   "metadata": {},
   "outputs": [],
   "source": [
    "import requests\n",
    "\n",
    "def fetch_weather_data(api_key, city):\n",
    "    url = f\"https://api.openweathermap.org/data/2.5/weather?q=London,uk&APPID=f5fb0414c3f1cc9c637fec763cb59663\"\n",
    "    response = requests.get(url)\n",
    "    if response.status_code == 200:\n",
    "        return response.json()\n",
    "    else:\n",
    "        print(f\"Failed to fetch weather data: {response.status_code}\")\n",
    "        return None\n"
   ]
  },
  {
   "cell_type": "markdown",
   "id": "91fa6671-84ce-471f-aa1a-8272c45f39b0",
   "metadata": {},
   "source": [
    "### FETCHING REAL-TIME WEATHER DATA, AND SENDING IT TO KAFKA DOCKER\n",
    "### PRINTING OUT A FETCHED DATA TO SEE HOW IT LOOKS \n"
   ]
  },
  {
   "cell_type": "code",
   "execution_count": 3,
   "id": "8bfcf229-be01-462b-88af-bcb2a19c40fa",
   "metadata": {},
   "outputs": [
    {
     "name": "stdout",
     "output_type": "stream",
     "text": [
      "                                             weather      base  visibility  \\\n",
      "0  [{'id': 800, 'main': 'Clear', 'description': '...  stations       10000   \n",
      "\n",
      "           dt  timezone       id    name  cod  coord.lon  coord.lat  ...  \\\n",
      "0  1715110480      3600  2643743  London  200    -0.1257    51.5085  ...   \n",
      "\n",
      "   main.pressure  main.humidity  wind.speed  wind.deg  clouds.all  sys.type  \\\n",
      "0           1026             74         3.6        30           9         2   \n",
      "\n",
      "    sys.id  sys.country  sys.sunrise  sys.sunset  \n",
      "0  2091269           GB   1715055654  1715110389  \n",
      "\n",
      "[1 rows x 24 columns]\n"
     ]
    }
   ],
   "source": [
    "import pandas as pd\n",
    "from confluent_kafka import Producer\n",
    "\n",
    "def delivery_callback(err, msg):\n",
    "    if err:\n",
    "        print(f\"Message delivery failed: {err}\")\n",
    "    else:\n",
    "        print(f\"Message delivered to {msg.topic()} [{msg.partition()}]\")\n",
    "\n",
    "def send_to_kafka(topic, message):\n",
    "    producer.produce(topic, message, callback=delivery_callback)\n",
    "    producer.poll(0)\n",
    "\n",
    "# Kafka producer configuration\n",
    "conf = {'bootstrap.servers': 'kafka:9092'}\n",
    "producer = Producer(**conf)\n",
    "\n",
    "# Fetch weather data and send it to Kafka\n",
    "api_key = 'f5fb0414c3f1cc9c637fec763cb59663'\n",
    "city = \"London,uk\"  # Example city\n",
    "\n",
    "# Function to fetch weather data\n",
    "import requests\n",
    "\n",
    "def fetch_weather_data(api_key, city):\n",
    "    url = f\"https://api.openweathermap.org/data/2.5/weather?q={city}&appid={api_key}\"\n",
    "    response = requests.get(url)\n",
    "    if response.status_code == 200:\n",
    "        return response.json()\n",
    "    else:\n",
    "        print(f\"Failed to fetch weather data for {city}: {response.status_code}\")\n",
    "        return None\n",
    "\n",
    "weather_data = fetch_weather_data(api_key, city)\n",
    "\n",
    "if weather_data:\n",
    "    # Convert weather data into DataFrame\n",
    "    data_items = weather_data.items()\n",
    "    data_list = list(data_items)\n",
    "    df = pd.DataFrame(data_list, columns=['Field', 'Value'])\n",
    "\n",
    "    # Optionally, to handle nested dictionaries:\n",
    "    # Flatten the JSON structure into a single level dictionary with pd.json_normalize\n",
    "    df = pd.json_normalize(weather_data)\n",
    "    \n",
    "    # Display the DataFrame\n",
    "    print(df)\n",
    "    \n",
    "    # Convert the DataFrame to a JSON string if needed to send to Kafka\n",
    "    message = df.to_json(orient='records')\n",
    "    send_to_kafka('weather_topic', message)\n",
    "else:\n",
    "    print(\"Weather data fetch failed.\")\n"
   ]
  },
  {
   "cell_type": "markdown",
   "id": "6b7edcd6-7330-4b29-bfe6-c04414c7a421",
   "metadata": {},
   "source": [
    "### Kafka Consumer Setup: CONNECTING MY KAFKA DOCKER TO MY JUPYTER NOTEBOOK"
   ]
  },
  {
   "cell_type": "code",
   "execution_count": 4,
   "id": "9920914c-c246-4199-bec1-1fcea2c74406",
   "metadata": {},
   "outputs": [
    {
     "name": "stdout",
     "output_type": "stream",
     "text": [
      "Connection to Kafka bootstrap server successful!\n"
     ]
    }
   ],
   "source": [
    "from confluent_kafka import KafkaError, Producer\n",
    "\n",
    "def check_bootstrap_server(bootstrap_servers):\n",
    "    conf = {'bootstrap.servers': bootstrap_servers}\n",
    "    producer = Producer(conf)\n",
    "    \n",
    "    try:\n",
    "        # Try to establish a connection to the Kafka broker\n",
    "        producer.poll(0)\n",
    "        producer.flush()\n",
    "        print(\"Connection to Kafka bootstrap server successful!\")\n",
    "    except Exception as e:\n",
    "        print(f\"Failed to connect to Kafka bootstrap server: {e}\")\n",
    "\n",
    "# Usage example: Replace 'localhost:9092' with your Kafka bootstrap server address\n",
    "check_bootstrap_server('9092:9092')\n"
   ]
  },
  {
   "cell_type": "code",
   "execution_count": 5,
   "id": "89821fe6-ea55-4090-a275-20bdd6faca8e",
   "metadata": {},
   "outputs": [],
   "source": [
    "from confluent_kafka import Consumer, KafkaError\n",
    "\n",
    "def kafka_consumer(topic):\n",
    "    # Change the group.id to a descriptive and unique name\n",
    "    conf = {\n",
    "        'bootstrap.servers': '9092:9092',\n",
    "        'group.id': 'weather-processing-group',  # Change this to your desired group ID\n",
    "        'auto.offset.reset': 'earliest'\n",
    "    }\n",
    "    consumer = Consumer(conf)\n",
    "    consumer.subscribe([topic])\n",
    "\n",
    "    try:\n",
    "        while True:\n",
    "            msg = consumer.poll(timeout=1.0)\n",
    "            if msg is None:\n",
    "                continue\n",
    "            if msg.error():\n",
    "                if msg.error().code() == KafkaError._PARTITION_EOF:\n",
    "                    continue\n",
    "                else:\n",
    "                    print(msg.error())\n",
    "                    break\n",
    "            print('Received message: {}'.format(msg.value().decode('utf-8')))\n",
    "    finally:\n",
    "        consumer.close()\n"
   ]
  },
  {
   "cell_type": "markdown",
   "id": "049fec00-8c70-4d8d-977c-c32a3fa3dc2a",
   "metadata": {},
   "source": [
    "### GETTING CITIES TEMPERATURE AND WIND SPEED OF MORE CITIES THEN VISUALIZING"
   ]
  },
  {
   "cell_type": "code",
   "execution_count": 7,
   "id": "83809906-f896-4f36-b600-19ea8ee65d45",
   "metadata": {},
   "outputs": [
    {
     "data": {
      "image/png": "[encoded data removed]",
      "text/plain": [
       "<Figure size 800x600 with 1 Axes>"
      ]
     },
     "metadata": {},
     "output_type": "display_data"
    }
   ],
   "source": [
    "import requests\n",
    "import pandas as pd\n",
    "import matplotlib.pyplot as plt\n",
    "\n",
    "def fetch_weather_data(api_key, city):\n",
    "    url = f\"https://api.openweathermap.org/data/2.5/weather?q={city}&appid={api_key}\"\n",
    "    response = requests.get(url)\n",
    "    if response.status_code == 200:\n",
    "        return response.json()\n",
    "    else:\n",
    "        print(f\"Failed to fetch weather data for {city}: {response.status_code}\")\n",
    "        return None\n",
    "\n",
    "# Your OpenWeatherMap API key\n",
    "api_key = \"f5fb0414c3f1cc9c637fec763cb59663\"\n",
    "\n",
    "# List of cities for which you want to fetch weather data\n",
    "additional_cities = [\n",
    "    \"Los Angeles\", \"Chicago\", \"Houston\", \"Phoenix\", \"Philadelphia\",  # United States\n",
    "    \"Berlin\", \"Hamburg\", \"Munich\", \"Cologne\", \"Frankfurt\",  # Germany\n",
    "    \"Toronto\", \"Montreal\", \"Vancouver\", \"Calgary\", \"Edmonton\",  # Canada\n",
    "    \"Madrid\", \"Barcelona\", \"Valencia\", \"Seville\", \"Zaragoza\",# Spain\n",
    "    \"Moscow\", \"Saint Petersburg\", \"Novosibirsk\", \"Yekaterinburg\", \"Nizhny Novgorod\",  # Russia\n",
    "    \"Beijing\", \"Shanghai\", \"Guangzhou\", \"Shenzhen\", \"Hangzhou\",  # China\n",
    "    \"Mumbai\", \"Delhi\", \"Bangalore\", \"Hyderabad\", \"Chennai\",  # India\n",
    "    \"Mexico City\", \"Guadalajara\", \"Monterrey\", \"Puebla\", \"Tijuana\",  # Mexico\n",
    "    \"São Paulo\", \"Rio de Janeiro\", \"Brasília\", \"Salvador\", \"Fortaleza\",  # Brazil\n",
    "    \"Cairo\", \"Alexandria\", \"Giza\", \"Port Said\",  # Egypt\n",
    "    \"Lagos\", \"Kano\", \"Ibadan\", \"Kaduna\", \"Port Harcourt\",  # Nigeria\n",
    "    \"Tokyo\", \"Yokohama\", \"Osaka\", \"Nagoya\", \"Sapporo\",  # Japan\n",
    "    \"Istanbul\", \"Ankara\", \"Izmir\", \"Bursa\", \"Antalya\",  # Turkey\n",
    "    \"Manchester\", \"Birmingham\", \"Liverpool\", \"Leeds\",  # United Kingdom\n",
    "    \"Paris\", \"Marseille\", \"Lyon\", \"Toulouse\", \"Nice\",  # France\n",
    "    \"Berlin\", \"Hamburg\", \"Munich\", \"Cologne\", \"Frankfurt\",  # Germany\n",
    "    \"Rome\", \"Milan\", \"Naples\", \"Turin\", \"Palermo\",  # Italy\n",
    "    \"Sydney\", \"Melbourne\", \"Brisbane\", \"Perth\", \"Adelaide\",  # Australia\n",
    "    \"Cape Town\", \"Johannesburg\", \"Durban\", \"Pretoria\", \"Port Elizabeth\",  # South Africa\n",
    "    \"Bangkok\", \"Hanoi\", \"Ho Chi Minh City\", \"Jakarta\", \"Manila\",  # Southeast Asia\n",
    "    \"Seoul\", \"Busan\", \"Incheon\", \"Daegu\", \"Daejeon\",  # South Korea\n",
    "]\n",
    "\n",
    "# List of cities for which you want to fetch weather data\n",
    "cities = [\"London\", \"New York\", \"Tokyo\", \"Paris\", \"Sydney\"] + additional_cities\n",
    "\n",
    "# List to store weather data for all cities\n",
    "weather_data_list = []\n",
    "\n",
    "# Fetch weather data for each city\n",
    "for city in cities:\n",
    "    weather_data = fetch_weather_data(api_key, city)\n",
    "    if weather_data:\n",
    "        weather_data_list.append(weather_data)\n",
    "\n",
    "# Convert weather data to a DataFrame\n",
    "weather_df = pd.DataFrame(weather_data_list)\n",
    "\n",
    "# Extract temperature and wind speed from the DataFrame\n",
    "temperature = weather_df['main'].apply(lambda x: x['temp'])\n",
    "wind_speed = weather_df['wind'].apply(lambda x: x['speed'])\n",
    "\n",
    "# Scatter plot of wind speed vs temperature\n",
    "plt.figure(figsize=(8, 6))\n",
    "plt.scatter(temperature, wind_speed, color='blue')\n",
    "plt.xlabel('Temperature (K)')\n",
    "plt.ylabel('Wind Speed (m/s)')\n",
    "plt.title('Scatter Plot of Wind Speed vs Temperature')\n",
    "plt.grid(True)\n",
    "plt.show()"
   ]
  },
  {
   "cell_type": "markdown",
   "id": "45bb78dc-3e55-4806-8080-aa7df9738ebd",
   "metadata": {},
   "source": [
    "### LINKING THE POSTGRESQL TO MY JUPYTER NOTEBOOK THEN CREATING A TABLE QUERY"
   ]
  },
  {
   "cell_type": "code",
   "execution_count": 8,
   "id": "cbc54bd9-ffd0-4c0e-a5bd-d02be67179ed",
   "metadata": {},
   "outputs": [],
   "source": [
    "import psycopg2\n",
    "\n",
    "# Connect to PostgreSQL on the local machine\n",
    "conn = psycopg2.connect(\n",
    "    dbname=\"postgres\",  # Default database name\n",
    "    user=\"postgres\",  # Default user\n",
    "    password=\"mypassword\",  # The password you set\n",
    "    host=\"localhost\",  # Localhost if connecting from the same machine\n",
    "    port=\"5432\"  # Port number\n",
    ")\n",
    "\n",
    "# Create a cursor\n",
    "cur = conn.cursor()\n",
    "\n",
    "# Define a schema for your data if the table doesn't exist\n",
    "create_table_query = \"\"\"\n",
    "CREATE TABLE IF NOT EXISTS weather_data (\n",
    "    city VARCHAR(100),\n",
    "    temperature FLOAT,\n",
    "    wind_speed FLOAT\n",
    ")\n",
    "\"\"\"\n",
    "\n",
    "# Execute the create table query\n",
    "cur.execute(create_table_query)\n",
    "\n",
    "# Commit the transaction\n",
    "conn.commit()\n",
    "\n",
    "# Insert data into the PostgreSQL table\n",
    "for weather_data in weather_data_list:\n",
    "    city = weather_data['name']\n",
    "    temperature = weather_data['main']['temp']\n",
    "    wind_speed = weather_data['wind']['speed']\n",
    "    \n",
    "    insert_query = \"\"\"\n",
    "    INSERT INTO weather_data (city, temperature, wind_speed)\n",
    "    VALUES (%s, %s, %s)\n",
    "    \"\"\"\n",
    "    data = (city, temperature, wind_speed)\n",
    "    cur.execute(insert_query, data)\n",
    "\n",
    "# Commit the transaction\n",
    "conn.commit()\n",
    "\n",
    "# Close the cursor and connection\n",
    "cur.close()\n",
    "conn.close()\n"
   ]
  },
  {
   "cell_type": "markdown",
   "id": "1b6605c4-3966-4e41-843b-0dc6db3f7fb5",
   "metadata": {},
   "source": [
    "### PUTTING THE CITIES, TEMPERATURE AND WIND SPEED DATA IN THE POSTGRESQL TABLE"
   ]
  },
  {
   "cell_type": "code",
   "execution_count": 9,
   "id": "7ecc326a-3a50-4eb2-831f-3d6b16e246cf",
   "metadata": {},
   "outputs": [
    {
     "name": "stdout",
     "output_type": "stream",
     "text": [
      "         city  temperature  wind_speed\n",
      "0      London       288.55        5.10\n",
      "1      London       286.02        2.06\n",
      "2    New York       295.06        3.09\n",
      "3       Tokyo       293.27        5.66\n",
      "4       Paris       286.34        2.57\n",
      "..        ...          ...         ...\n",
      "489     Seoul       281.66        1.03\n",
      "490     Busan       284.14        5.66\n",
      "491   Incheon       284.08        3.60\n",
      "492     Daegu       282.62        0.51\n",
      "493   Daejeon       281.12        2.63\n",
      "\n",
      "[494 rows x 3 columns]\n"
     ]
    }
   ],
   "source": [
    "import psycopg2\n",
    "import pandas as pd\n",
    "\n",
    "def fetch_data():\n",
    "    try:\n",
    "        # Connect to PostgreSQL on the local machine\n",
    "        conn = psycopg2.connect(\n",
    "            dbname=\"postgres\",  # Default database name\n",
    "            user=\"postgres\",    # Default user\n",
    "            password=\"mypassword\",  # The password you set\n",
    "            host=\"localhost\",   # Localhost if connecting from the same machine\n",
    "            port=\"5432\"         # Port number\n",
    "        )\n",
    "\n",
    "        # Create a cursor\n",
    "        cur = conn.cursor()\n",
    "\n",
    "        # Check if the weather_data table exists\n",
    "        cur.execute(\"SELECT EXISTS(SELECT 1 FROM information_schema.tables WHERE table_name = 'weather_data')\")\n",
    "        table_exists = cur.fetchone()[0]\n",
    "\n",
    "        if table_exists:\n",
    "            # If the table exists, fetch only temperature and wind_speed from it\n",
    "            cur.execute(\"SELECT city, temperature, wind_speed FROM weather_data\")\n",
    "            rows = cur.fetchall()\n",
    "\n",
    "            # Define the column names explicitly\n",
    "            columns = ['city', 'temperature', 'wind_speed']\n",
    "\n",
    "            # Create a DataFrame from the fetched data\n",
    "            df = pd.DataFrame(rows, columns=columns)\n",
    "\n",
    "            # Display the DataFrame\n",
    "            print(df)\n",
    "        else:\n",
    "            print(\"The 'weather_data' table does not exist.\")\n",
    "\n",
    "        # Close the cursor and connection\n",
    "        cur.close()\n",
    "        conn.close()\n",
    "    except Exception as e:\n",
    "        print(f\"An error occurred: {e}\")\n",
    "    finally:\n",
    "        # Ensure that the connection is closed\n",
    "        if conn:\n",
    "            conn.close()\n",
    "\n",
    "if __name__ == \"__main__\":\n",
    "    fetch_data()\n"
   ]
  },
  {
   "cell_type": "code",
   "execution_count": null,
   "id": "4b4cf4b1-a050-491e-9fa7-48f334018238",
   "metadata": {},
   "outputs": [],
   "source": []
  },
  {
   "cell_type": "markdown",
   "id": "45b1bddb-82d6-4d93-a7a3-f31c6716e1c6",
   "metadata": {},
   "source": [
    "#### TO SHOW INTERACTION: THE CODE BELOW QUERIES THE POSTGRESQL TO FETCH THE TEMPERATURE AND WIND SPEED COLUMN"
   ]
  },
  {
   "cell_type": "code",
   "execution_count": 10,
   "id": "9a14f14b-2fa5-40b2-9606-9a383b03d6f1",
   "metadata": {},
   "outputs": [
    {
     "name": "stdout",
     "output_type": "stream",
     "text": [
      "   temperature  wind_speed\n",
      "0       288.55        5.10\n",
      "1       286.02        2.06\n",
      "2       295.06        3.09\n",
      "3       293.27        5.66\n",
      "4       286.34        2.57\n"
     ]
    }
   ],
   "source": [
    "import psycopg2\n",
    "import pandas as pd\n",
    "\n",
    "def fetch_weather_data():\n",
    "    # Connect to PostgreSQL\n",
    "    conn = psycopg2.connect(\n",
    "        dbname=\"postgres\", \n",
    "        user=\"postgres\", \n",
    "        password=\"mypassword\", \n",
    "        host=\"localhost\", \n",
    "        port=\"5432\"\n",
    "    )\n",
    "    cur = conn.cursor()\n",
    "\n",
    "    # Execute query to retrieve temperature and wind_speed\n",
    "    cur.execute(\"SELECT temperature, wind_speed FROM weather_data\")\n",
    "    data = cur.fetchall()\n",
    "    \n",
    "    # Close the connection\n",
    "    cur.close()\n",
    "    conn.close()\n",
    "\n",
    "    # Load data into a DataFrame\n",
    "    df = pd.DataFrame(data, columns=['temperature', 'wind_speed'])\n",
    "    return df\n",
    "\n",
    "# Fetch data\n",
    "df = fetch_weather_data()\n",
    "print(df.head())\n"
   ]
  },
  {
   "cell_type": "markdown",
   "id": "a7886808-101b-4e89-aa75-57b07ce75037",
   "metadata": {},
   "source": [
    "#### PERFORMING LINEAR REGRESSING WITH THE TEMPERATURE AND WIND SPEED TO CHECK FOR THE CORRELATION BETWEEN THEM."
   ]
  },
  {
   "cell_type": "code",
   "execution_count": 11,
   "id": "a5f1c0e1-f329-4739-91dc-f59453aade2c",
   "metadata": {},
   "outputs": [
    {
     "name": "stdout",
     "output_type": "stream",
     "text": [
      "Intercept: 290.23534597869286\n",
      "Coefficient for wind speed: 0.5418079806625375\n"
     ]
    },
    {
     "data": {
      "image/png": "[encoded data removed]",
      "text/plain": [
       "<Figure size 640x480 with 1 Axes>"
      ]
     },
     "metadata": {},
     "output_type": "display_data"
    }
   ],
   "source": [
    "import psycopg2\n",
    "import pandas as pd\n",
    "import numpy as np\n",
    "from sklearn.linear_model import LinearRegression\n",
    "import matplotlib.pyplot as plt\n",
    "\n",
    "def fetch_weather_data():\n",
    "    try:\n",
    "        conn = psycopg2.connect(\n",
    "            dbname=\"postgres\", \n",
    "            user=\"postgres\", \n",
    "            password=\"mypassword\", \n",
    "            host=\"localhost\", \n",
    "            port=\"5432\"\n",
    "        )\n",
    "        cur = conn.cursor()\n",
    "        cur.execute(\"SELECT temperature, wind_speed FROM weather_data\")\n",
    "        data = cur.fetchall()\n",
    "        cur.close()\n",
    "        conn.close()\n",
    "        return pd.DataFrame(data, columns=['temperature', 'wind_speed'])\n",
    "    except psycopg2.Error as e:\n",
    "        print(\"Error retrieving data from PostgreSQL:\", e)\n",
    "        return pd.DataFrame()\n",
    "\n",
    "def plot_regression(X, y, predicted_y):\n",
    "    plt.scatter(X, y, color='blue', label='Actual data', alpha=0.5)\n",
    "    plt.plot(X, predicted_y, color='red', label='Regression line')\n",
    "    plt.title('Temperature vs Wind Speed')\n",
    "    plt.xlabel('Wind Speed (m/s)')\n",
    "    plt.ylabel('Temperature (K)')\n",
    "    plt.legend()\n",
    "    plt.grid(True)\n",
    "    plt.show()\n",
    "\n",
    "def main():\n",
    "    df = fetch_weather_data()\n",
    "    if not df.empty:\n",
    "        X = df[['wind_speed']]  # scikit-learn expects 2D array for X\n",
    "        y = df['temperature']\n",
    "        model = LinearRegression()\n",
    "        model.fit(X, y)\n",
    "        print(f'Intercept: {model.intercept_}')\n",
    "        print(f'Coefficient for wind speed: {model.coef_[0]}')\n",
    "        predicted_temps = model.predict(X)\n",
    "        plot_regression(df['wind_speed'], df['temperature'], predicted_temps)\n",
    "\n",
    "if __name__ == \"__main__\":\n",
    "    main()\n"
   ]
  },
  {
   "cell_type": "markdown",
   "id": "57c997e6-90fa-48d5-b10e-e0b20a936bf8",
   "metadata": {},
   "source": [
    "In linear regression, the intercept and coefficients represent the parameters of the linear equation that best fits the data. Here's what these results mean:\r\n",
    "\r\n",
    "1. **Intercept**: The intercept represents the value of the dependent variable (temperature) when all independent variables (wind_speed) are zero. In this case, the intercept is approximately90.248. So, if the wind speed were zero, the model predicts the temperature to be arou d90.248 degrees (unit of measurement depends on your data).3\n",
    "\r\n",
    "2. **Coefficient for wind speed**: The coefficient for wind speed represents the change in the dependent variable (temperature) for a one-unit change in the independent variable (wind_speed), holding all other variables constant. In this case, the coefficient is approximat0l5 1.14. So, for each unit increase in wind speed, the model predicts the temperature to increase by approximat0.541.14 degrees (again, unit of measurement depends on your data).\r\n",
    "\r\n",
    "These results indicate that there is a positive linear relationship between temperature and wind speed in your data. As wind speed increases, the model predicts that temperature also increases. The intercept represents the baseline temperature, and the coefficient for wind speed represents the additional temperature change per unit increase in wind speed."
   ]
  },
  {
   "cell_type": "code",
   "execution_count": null,
   "id": "36f4594c-2380-4cd2-ab66-d4f6721701df",
   "metadata": {},
   "outputs": [],
   "source": []
  },
  {
   "cell_type": "markdown",
   "id": "8fb0b8c3-73ad-4226-a0d6-5004f0550429",
   "metadata": {},
   "source": [
    "## PART 1"
   ]
  },
  {
   "cell_type": "markdown",
   "id": "2a05bb9f-f710-48de-bcac-52c96bbdc5aa",
   "metadata": {},
   "source": [
    "#### POSTGRESQL INTERACTION: PROMPT A USER TO INPUT A CITY AND CHECK IF IT IS IN POSTGRESQL. \n",
    "\n",
    "#### IF FOUND THERE SHOULD BE AN OUTPUT OF THE TEMPERATURE AND WIND SPEED.\n",
    "\n",
    "#### IF NOT FOUND AN OUTPUT WOULD BE GIVEN TO INFORM THE USER.\n"
   ]
  },
  {
   "cell_type": "code",
   "execution_count": 16,
   "id": "8586dbf1-17e2-4270-9393-d8696b0a92ae",
   "metadata": {},
   "outputs": [
    {
     "name": "stdin",
     "output_type": "stream",
     "text": [
      "Please enter the name of the city or type 'End' to quit:  Lagos\n"
     ]
    },
    {
     "name": "stdout",
     "output_type": "stream",
     "text": [
      "The temperature in Lagos is 301.0 K and the wind speed is 2.38 m/s.\n"
     ]
    },
    {
     "name": "stdin",
     "output_type": "stream",
     "text": [
      "Type 'End' if you are done or press Enter to continue:  end\n"
     ]
    },
    {
     "name": "stdout",
     "output_type": "stream",
     "text": [
      "Thank you for using the weather data program. Goodbye!\n"
     ]
    }
   ],
   "source": [
    "import psycopg2\n",
    "\n",
    "def fetch_weather_data(city_name):\n",
    "    try:\n",
    "        # Establish database connection\n",
    "        conn = psycopg2.connect(\n",
    "            dbname=\"postgres\",\n",
    "            user=\"postgres\",\n",
    "            password=\"mypassword\",\n",
    "            host=\"localhost\",\n",
    "            port=\"5432\"\n",
    "        )\n",
    "        # Create a cursor\n",
    "        cur = conn.cursor()\n",
    "        \n",
    "        # Normalize the input city_name to lower case and execute a case-insensitive query\n",
    "        city_name_lower = city_name.lower()\n",
    "        cur.execute(\"SELECT temperature, wind_speed FROM weather_data WHERE LOWER(city) = %s\", (city_name_lower,))\n",
    "        \n",
    "        # Fetch one record\n",
    "        record = cur.fetchone()\n",
    "        \n",
    "        # Close the cursor and connection\n",
    "        cur.close()\n",
    "        conn.close()\n",
    "\n",
    "        # Check if a record was found\n",
    "        if record:\n",
    "            return record\n",
    "        else:\n",
    "            return None\n",
    "    except psycopg2.Error as e:\n",
    "        print(\"Database error:\", e)\n",
    "        return None\n",
    "\n",
    "def main():\n",
    "    while True:  # Start an infinite loop\n",
    "        # Prompt the user to enter a city name or quit\n",
    "        city_name = input(\"Please enter the name of the city or type 'End' to quit: \").strip()\n",
    "        \n",
    "        # Check if the user wants to exit the loop\n",
    "        if city_name.lower() == 'end':\n",
    "            print(\"Exiting the program.\")\n",
    "            break\n",
    "        \n",
    "        # Fetch weather data for the entered city\n",
    "        result = fetch_weather_data(city_name)\n",
    "        \n",
    "        if result:\n",
    "            temperature, wind_speed = result\n",
    "            print(f\"The temperature in {city_name} is {temperature} K and the wind speed is {wind_speed} m/s.\")\n",
    "        else:\n",
    "            print(f\"Sorry, there is no record for the city '{city_name}'.\")\n",
    "        \n",
    "        # Ask the user if they are done or want to continue\n",
    "        continue_input = input(\"Type 'End' if you are done or press Enter to continue: \").strip()\n",
    "        if continue_input.lower() == 'end':\n",
    "            print(\"Thank you for using the weather data program. Goodbye!\")\n",
    "            break\n",
    "\n",
    "if __name__ == \"__main__\":\n",
    "    main()\n"
   ]
  },
  {
   "cell_type": "code",
   "execution_count": null,
   "id": "f430f5f4-1d9f-47a7-a919-d0a5c0d422e5",
   "metadata": {},
   "outputs": [],
   "source": []
  },
  {
   "cell_type": "markdown",
   "id": "471efd46-2c33-4576-8091-73255f14a8ac",
   "metadata": {},
   "source": [
    "## PART 2"
   ]
  },
  {
   "cell_type": "markdown",
   "id": "5ec4daa9-e791-4cb6-b39a-3f2756c5c1ab",
   "metadata": {},
   "source": [
    "#### POSTGRESQL INTERACTION: PROMPT A USER TO INPUT A CITY AND CHECK IF IT IS IN POSTGRESQL. IF FOUND THERE SHOULD BE AN OUTPUT OF THE TEMPERATURE AND WIND SPEED, IF NOT FOUND THE CITY INPUTTED WILL BE SEARCHED IN THE API. \n",
    "\n",
    "#### IF FOUND IN THE API, THE TEMPERATURE AND WIND SPEED WILL BE STORED IN THE POSTGRESQL THEN AN OUTPUT WILL SHOW THE TEMPERATURE AND WIND SPEED.\n",
    "\n",
    "#### IF NOT FOUND IN THE API, IT WILL NOT BE STORED IN THE POSTGRESQL AND AN OUTPUT WILL INFORM THE USER \n"
   ]
  },
  {
   "cell_type": "code",
   "execution_count": 17,
   "id": "916472a1-5ad9-42d2-a708-d941dcedfabf",
   "metadata": {},
   "outputs": [
    {
     "name": "stdin",
     "output_type": "stream",
     "text": [
      "Please enter the name of the city or type 'end' to quit:  Singapore\n"
     ]
    },
    {
     "name": "stdout",
     "output_type": "stream",
     "text": [
      "The temperature in Singapore is 301.22°K and the wind speed is 1.03 m/s.\n"
     ]
    },
    {
     "name": "stdin",
     "output_type": "stream",
     "text": [
      "Please enter the name of the city or type 'end' to quit:  end\n"
     ]
    },
    {
     "name": "stdout",
     "output_type": "stream",
     "text": [
      "Exiting the program.\n"
     ]
    }
   ],
   "source": [
    "import psycopg2\n",
    "import requests\n",
    "import pandas as pd\n",
    "\n",
    "def fetch_weather_data(api_key, city):\n",
    "    \"\"\" Fetch weather data from the OpenWeatherMap API. \"\"\"\n",
    "    url = f\"https://api.openweathermap.org/data/2.5/weather?q={city}&appid={api_key}&units=metric\"\n",
    "    response = requests.get(url)\n",
    "    if response.status_code == 200:\n",
    "        return response.json()\n",
    "    else:\n",
    "        print(f\"Failed to fetch weather data for {city}: {response.status_code}\")\n",
    "        return None\n",
    "\n",
    "def insert_weather_data(conn, city, temperature, wind_speed):\n",
    "    \"\"\" Insert weather data into PostgreSQL database. \"\"\"\n",
    "    try:\n",
    "        cur = conn.cursor()\n",
    "        cur.execute(\"\"\"\n",
    "            INSERT INTO weather_data (city, temperature, wind_speed) VALUES (%s, %s, %s)\n",
    "            \"\"\", (city, temperature, wind_speed))\n",
    "        conn.commit()\n",
    "        cur.close()\n",
    "    except psycopg2.Error as e:\n",
    "        print(\"Error inserting data into PostgreSQL:\", e)\n",
    "\n",
    "def check_local_database(conn, city_name):\n",
    "    \"\"\" Check local PostgreSQL database for the city's weather data. \"\"\"\n",
    "    cur = conn.cursor()\n",
    "    cur.execute(\"SELECT temperature, wind_speed FROM weather_data WHERE LOWER(city) = LOWER(%s)\", (city_name,))\n",
    "    record = cur.fetchone()\n",
    "    cur.close()\n",
    "    return record\n",
    "\n",
    "def main():\n",
    "    api_key = 'your_api_key_here'  # Replace with your OpenWeatherMap API key\n",
    "    conn = psycopg2.connect(\n",
    "        dbname=\"postgres\", \n",
    "        user=\"postgres\", \n",
    "        password=\"mypassword\", \n",
    "        host=\"localhost\", \n",
    "        port=\"5432\"\n",
    "    )\n",
    "\n",
    "    while True:\n",
    "        city_name = input(\"Please enter the name of the city or type 'end' to quit: \").strip()\n",
    "        if city_name.lower() == 'end':\n",
    "            print(\"Exiting the program.\")\n",
    "            break\n",
    "        record = check_local_database(conn, city_name)\n",
    "        if record:\n",
    "            print(f\"The temperature in {city_name} is {record[0]}°K and the wind speed is {record[1]} m/s.\")\n",
    "        else:\n",
    "            weather_data = fetch_weather_data(api_key, city_name)\n",
    "            if weather_data and 'main' in weather_data and 'wind' in weather_data:\n",
    "                temperature = weather_data['main']['temp']\n",
    "                wind_speed = weather_data['wind']['speed']\n",
    "                # Insert data into the PostgreSQL database\n",
    "                insert_weather_data(conn, city_name, temperature, wind_speed)\n",
    "                print(f\"The temperature in {city_name} is {temperature}°C and the wind speed is {wind_speed} m/s.\")\n",
    "            else:\n",
    "                print(\"Sorry, there are no results for your output.\")\n",
    "\n",
    "    conn.close()\n",
    "\n",
    "if __name__ == \"__main__\":\n",
    "    main()\n"
   ]
  },
  {
   "cell_type": "code",
   "execution_count": null,
   "id": "518dbd53-bd2f-4b4a-b327-d7d82e93c4ae",
   "metadata": {},
   "outputs": [],
   "source": []
  },
  {
   "cell_type": "code",
   "execution_count": null,
   "id": "ad0c565a-cad2-414c-9473-c1b9747a132d",
   "metadata": {},
   "outputs": [],
   "source": []
  },
  {
   "cell_type": "code",
   "execution_count": null,
   "id": "e206b334-fa23-4f14-b02d-64e46d9b39e2",
   "metadata": {},
   "outputs": [],
   "source": []
  },
  {
   "cell_type": "code",
   "execution_count": null,
   "id": "bd423112-6d6d-44d8-95af-eac085f98508",
   "metadata": {},
   "outputs": [],
   "source": []
  },
  {
   "cell_type": "code",
   "execution_count": null,
   "id": "be597f3b-3f4a-462f-b601-3d944acb20dc",
   "metadata": {},
   "outputs": [],
   "source": []
  }
 ],
 "metadata": {
  "kernelspec": {
   "display_name": "Python 3 (ipykernel)",
   "language": "python",
   "name": "python3"
  },
  "language_info": {
   "codemirror_mode": {
    "name": "ipython",
    "version": 3
   },
   "file_extension": ".py",
   "mimetype": "text/x-python",
   "name": "python",
   "nbconvert_exporter": "python",
   "pygments_lexer": "ipython3",
   "version": "3.11.5"
  }
 },
 "nbformat": 4,
 "nbformat_minor": 5
}
