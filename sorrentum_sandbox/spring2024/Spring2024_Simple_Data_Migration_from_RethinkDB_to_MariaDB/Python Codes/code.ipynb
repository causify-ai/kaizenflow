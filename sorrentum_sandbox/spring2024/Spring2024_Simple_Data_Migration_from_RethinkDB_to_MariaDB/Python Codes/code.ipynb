{
 "cells": [
  {
   "cell_type": "markdown",
   "metadata": {},
   "source": [
    "# **Spring2024_Simple_Data_Migration_from_RethinkDB_to_MariaDB Progress Report 1** \n",
    "April 26th\n",
    "\n",
    "## Description: \n",
    "Migrate data from RethinkDB to MariaDB using Python scripts where data stored in a RethinkDB database is transferred to a MariaDB database. Develop Python scripts to retrieve data from RethinkDB and insert it into MariaDB, ensuring data integrity and consistency. Utilize the rethinkdb and mysql-connector-python libraries for database interaction, showcasing basic data migration techniques between different database systems. Add different functionalities to enhance complexity of project.\n",
    "\n",
    "Link: https://docs.google.com/document/d/1GEOmfpBUXiCua18wR1Hx1OMUVlku-1of/edit#heading=h.4ph7eurcozb1\n",
    "\n",
    "## About This Project:\n",
    "Everything below are my personal understanding, please feel free to correct me if you see any mistakes, any comment is appreciaated, thank you!\n",
    "\n",
    "It is my understanding, this project contains the following step:\n",
    "##### 1. Pick the dataset\n",
    "##### 2. Store the chosen dataset in a Rethinkdb Database\n",
    "##### 3. Pull dataset from Rethinkdb Database\n",
    "##### 4. Store the pulled dataset in a Mariadb Database\n",
    "##### 5. Pull dataset from Mariadb Database\n",
    "##### 6. Compare the chosen dataset with the pulled dataset for accuracy of migreation\n",
    "\n",
    "I will have a section for each step to explaine what I did and how I did it. "
   ]
  },
  {
   "cell_type": "code",
   "execution_count": 1,
   "metadata": {},
   "outputs": [],
   "source": [
    "from moviepy.editor import VideoFileClip\n",
    "import cv2\n",
    "import numpy as np\n",
    "import time\n",
    "from scipy.io import savemat\n",
    "import rethinkdb as r\n",
    "import json\n",
    "import pandas as pd\n",
    "import mariadb\n",
    "import sys\n",
    "\n",
    "\n",
    "def split(array):\n",
    "    array = np.array(array)\n",
    "    red = array[:, :, 0:1]\n",
    "    green = array[:, :, 1:2]\n",
    "    blue = array[:, :, 2:3]\n",
    "    nb = []\n",
    "    nr = []\n",
    "    ng = []\n",
    "    for i in red:\n",
    "        tp = [item for sublist in i for item in sublist]\n",
    "        tp = [int(x) for x in tp]\n",
    "        nr.append(tp)\n",
    "        i = None\n",
    "    red = None\n",
    "    for j in green:\n",
    "        tp = [item for sublist in j for item in sublist]\n",
    "        tp = [int(x) for x in tp]\n",
    "        ng.append(tp)\n",
    "        j = None\n",
    "    green = None\n",
    "    for k in blue:\n",
    "        tp = [item for sublist in k for item in sublist]\n",
    "        tp = [int(x) for x in tp]\n",
    "        nb.append(tp)\n",
    "        k = None\n",
    "    blue = None\n",
    "    red = None\n",
    "    green = None\n",
    "    return nr, ng, nb\n"
   ]
  },
  {
   "cell_type": "markdown",
   "metadata": {},
   "source": [
    "## 1. Pick the dataset\n",
    "I have decided to choose a rather challenging dataset: An entire video. To be specific, I am trying to migrate \"Never gonna give you up\" from the great Rick Astley. Due to the sheer amount of data a video contains, I decided to go with the 360p version to minimize the amount of data I have to work with. All of my work so far are only limited to the video, I have not had an chance to do anything with the audio part, although it is a part of my plan. With the help of cv2(opencv-python), I was able to split te video into 5301 frames, each containing 230400 pixels. Each pixel is represented as a set of three integers corresponding to the RGP color scale. "
   ]
  },
  {
   "cell_type": "code",
   "execution_count": 2,
   "metadata": {},
   "outputs": [
    {
     "name": "stdout",
     "output_type": "stream",
     "text": [
      "there are 0 frames in the chosen video\n"
     ]
    }
   ],
   "source": [
    "cap = cv2.VideoCapture('./Rickroll.mp4')\n",
    "length = int(cap.get(cv2.CAP_PROP_FRAME_COUNT))\n",
    "print(\"there are\", length, \"frames in the chosen video\")"
   ]
  },
  {
   "cell_type": "markdown",
   "metadata": {},
   "source": [
    "## 2. Store the chosen dataset in a Rethinkdb Database\n",
    "here I connect this notebook to a rethinkdb database running locally, I think the ultimate goal is to access the data from a remote database, but I am still working out the kinks of that...So for now, I will be working with a locally hosted Rethindb Database. "
   ]
  },
  {
   "cell_type": "code",
   "execution_count": 3,
   "metadata": {},
   "outputs": [
    {
     "data": {
      "text/plain": [
       "<rethinkdb.net.DefaultConnection at 0x7f7368e2e760>"
      ]
     },
     "execution_count": 3,
     "metadata": {},
     "output_type": "execute_result"
    }
   ],
   "source": [
    "rethink = r.RethinkDB()\n",
    "rethink.connect('rethinkdb', 28015).repl()"
   ]
  },
  {
   "cell_type": "markdown",
   "metadata": {},
   "source": [
    "As you might have noticed, I have an image of earth named earth.jpg in my code file, that is because at the begining, I wasn't able to store the entire video in the rethinkdb database, so I admitted defeat and was going to migrate a picture instead of an video. But I later (around the first woking in class session) found a way to store the video in a rethinkdb database, so the following code where I stores the picture is no longer needed. "
   ]
  },
  {
   "cell_type": "code",
   "execution_count": 4,
   "metadata": {},
   "outputs": [
    {
     "name": "stdout",
     "output_type": "stream",
     "text": [
      "<mariadb.cursor at 0x7f72ed8a9040>\n"
     ]
    }
   ],
   "source": [
    "try:\n",
    "    # connection parameters\n",
    "    conn_params = {\n",
    "        'user' : \"root\",\n",
    "        'password' : \"<196900>\",\n",
    "        'host' : \"172.19.0.1\",\n",
    "        'port' : 3306,\n",
    "        'database' : \"<data>\"\n",
    "    }\n",
    "\n",
    "    # establish a connection\n",
    "    connection = mariadb.connect(**conn_params)\n",
    "    cursor = connection.cursor()\n",
    "    \n",
    "except mariadb.Error as e:\n",
    "    print(f\"Error connecting to MariaDB Platform: {e}\")\n",
    "    sys.exit(1)\n",
    "    \n",
    "print(cursor)"
   ]
  },
  {
   "cell_type": "code",
   "execution_count": 14,
   "metadata": {},
   "outputs": [
    {
     "name": "stdout",
     "output_type": "stream",
     "text": [
      "<class 'numpy.ndarray'>\n",
      "<class 'numpy.ndarray'>\n",
      "84050\n"
     ]
    }
   ],
   "source": [
    "new = []\n",
    "im = cv2.imread(\"Small_Earth.jpg\")\n",
    "print(type(im))\n",
    "red = im[:, :, 0]\n",
    "green = im[:, :, 1]\n",
    "blue = im[:, :, 2]\n",
    "print(type(red))\n",
    "r = red.reshape(2, -1).tolist()\n",
    "g = green.reshape(2, -1).tolist()\n",
    "b = blue.reshape(2, -1).tolist()\n",
    "print(len(r[1]))"
   ]
  },
  {
   "cell_type": "code",
   "execution_count": 16,
   "metadata": {},
   "outputs": [
    {
     "data": {
      "text/plain": [
       "{'config_changes': [{'new_val': {'db': 'earth',\n",
       "    'durability': 'hard',\n",
       "    'id': '42366f95-f3ff-4213-8afe-52b9141a239d',\n",
       "    'indexes': [],\n",
       "    'name': 'pic',\n",
       "    'primary_key': 'id',\n",
       "    'shards': [{'nonvoting_replicas': [],\n",
       "      'primary_replica': '43b3a94a615c_3zh',\n",
       "      'replicas': ['43b3a94a615c_3zh']}],\n",
       "    'write_acks': 'majority',\n",
       "    'write_hook': None},\n",
       "   'old_val': None}],\n",
       " 'tables_created': 1}"
      ]
     },
     "execution_count": 16,
     "metadata": {},
     "output_type": "execute_result"
    }
   ],
   "source": [
    "#rethink.db_create(\"film\").run()\n",
    "#rethink.db(\"film\").table_create(\"video\").run()\n",
    "#rethink.db(\"film\").table_create(\"audio\").run()\n",
    "rethink.db_create(\"earth\").run()\n",
    "rethink.db(\"earth\").table_create(\"pic\").run()"
   ]
  },
  {
   "cell_type": "code",
   "execution_count": 18,
   "metadata": {},
   "outputs": [
    {
     "data": {
      "text/plain": [
       "{'deleted': 0,\n",
       " 'errors': 0,\n",
       " 'generated_keys': ['c9079786-1e2c-4d99-9fc8-376fcd1f62ec'],\n",
       " 'inserted': 1,\n",
       " 'replaced': 0,\n",
       " 'skipped': 0,\n",
       " 'unchanged': 0}"
      ]
     },
     "execution_count": 18,
     "metadata": {},
     "output_type": "execute_result"
    }
   ],
   "source": [
    "data = {\"red\":r, \"green\":g, \"blue\":b}\n",
    "rethink.db(\"earth\").table(\"pic\").insert(data).run()"
   ]
  },
  {
   "cell_type": "code",
   "execution_count": 25,
   "metadata": {},
   "outputs": [
    {
     "name": "stdout",
     "output_type": "stream",
     "text": [
      "<class 'dict'>\n"
     ]
    }
   ],
   "source": [
    "dt = []\n",
    "tr = rethink.db('earth').table('pic').run()\n",
    "for doc in tr:\n",
    "    dt.append(doc)\n",
    "data = dt[0]\n",
    "print(type(data))"
   ]
  },
  {
   "cell_type": "markdown",
   "metadata": {},
   "source": [
    "The following code will store the entire video in a rethinkdb database. Each frame was stored in a seprate table labeled with the frame number. Since each frame is 360 by 640 pixels, there are 360 row in each table. In each row, there are three member labeled R, G and B with each member containing a 1 by 640 set. This is functional at best and I am currently working on making the process more efficent. "
   ]
  },
  {
   "cell_type": "code",
   "execution_count": null,
   "metadata": {},
   "outputs": [],
   "source": [
    "'''for i in range(length):\n",
    "    new = []\n",
    "    cap.set(cv2.CAP_PROP_POS_FRAMES, i)\n",
    "    ret, frame = cap.read()\n",
    "    frame = np.array(frame)\n",
    "    red, green, blue = split(frame)\n",
    "    name = \"frame_\"+str(i)\n",
    "    rethink.db('Project').table_create(name).run()\n",
    "    for j in range(len(red)):\n",
    "        new.append({\"red\":red[j], \"green\":green[j], \"blue\":blue[j]})\n",
    "    rethink.db('Project').table(name).insert(new).run()\n",
    "    print(i/length)'''"
   ]
  },
  {
   "cell_type": "markdown",
   "metadata": {},
   "source": [
    "Everything from here on are my origional code, as you can see in the code.py file. This is for pure demonstreational purpous. "
   ]
  },
  {
   "cell_type": "code",
   "execution_count": null,
   "metadata": {},
   "outputs": [],
   "source": [
    "###Avalible Code###\n",
    "#Everything Above has been tested and will work    \n",
    "    \n",
    "#rethink.db(\"test\").table_create(\"array\"run()\n",
    "#print(frame.ndim)\n",
    "#print(length)\n",
    "#new = frames\n",
    "'''jsondata = json.dumps(frames)\n",
    "with open(\"/home/ke/Desktop/database/testing/Data605Project/Python Codes/test2.json\", \"w\") as json_file:\n",
    "    json_file.write(jsondata)'''\n",
    "# Serialize the list to JSON\n",
    "#rethink.db(\"ke-B660M-AORUS-PRO-AX-DDR4\").table\n",
    "#rethink.connect('localhost', 28015).repl()\n",
    "#print(loaded_arrays[1].ndim)\n",
    "# Write the array to disk\n",
    "#print(frames[12].ndim)\n",
    "#newarray = np.stack(frames)\n",
    "#print(newarray.shape)\n",
    "\n",
    "###Line of Submission###\n",
    "\n",
    "'''\n",
    "red = red.tolist()\n",
    "green = im[:, :, 1:2]\n",
    "green = green.tolist()\n",
    "blue = im[:, :, 2:3]\n",
    "blue = blue.tolist()\n",
    "nb = []\n",
    "for k in blue:\n",
    "    nb.append([item for sublist in k for item in sublist])'''\n",
    "#rethink.db('Project').table_create('picture').run()\n",
    "'''for i in range(len(red)):\n",
    "    frames.append({\"red\":red[i], \"green\":green[i], \"blue\":blue[i]})\n",
    "    #print(i)\n",
    "print(len(red[2]))\n",
    "#rethink.db('Project').table_create('NewArray').run()\n",
    "#rethink.db('Project').table('Array').insert(frames).run()\n",
    "array = rethink.db('Project').table('Array').pluck('red').run()\n",
    "for document in array:\n",
    "    new.append(document)\n",
    "x = list(new[4].values())\n",
    "print(x[0][4][0])'''"
   ]
  },
  {
   "cell_type": "markdown",
   "metadata": {},
   "source": [
    "**I understand my progress so far is slitely behind where it should be, but there has been an incident. My old PC(2015 Macbook air with a 4 core CPU) was not up to the task(just running the script will make the keyboard how and the pc itself too hot to work with). So I decided to get a new one. The shipping time along with setting up the system took almost the entire week. I have my system up to date now and I will catch up very soon.**"
   ]
  },
  {
   "cell_type": "markdown",
   "metadata": {},
   "source": [
    "## 3. Pull dataset from Rethinkdb Database"
   ]
  },
  {
   "cell_type": "markdown",
   "metadata": {},
   "source": [
    "## 4. Store the pulled dataset in a Mariadb Database"
   ]
  },
  {
   "cell_type": "markdown",
   "metadata": {},
   "source": [
    "## 5. Pull dataset from Mariadb Database"
   ]
  },
  {
   "cell_type": "markdown",
   "metadata": {},
   "source": [
    "## 6. Compare the chosen dataset with the pulled dataset for accuracy of migreation\n"
   ]
  }
 ],
 "metadata": {
  "kernelspec": {
   "display_name": "Python 3 (ipykernel)",
   "language": "python",
   "name": "python3"
  },
  "language_info": {
   "codemirror_mode": {
    "name": "ipython",
    "version": 3
   },
   "file_extension": ".py",
   "mimetype": "text/x-python",
   "name": "python",
   "nbconvert_exporter": "python",
   "pygments_lexer": "ipython3",
   "version": "3.9.19"
  }
 },
 "nbformat": 4,
 "nbformat_minor": 4
}
