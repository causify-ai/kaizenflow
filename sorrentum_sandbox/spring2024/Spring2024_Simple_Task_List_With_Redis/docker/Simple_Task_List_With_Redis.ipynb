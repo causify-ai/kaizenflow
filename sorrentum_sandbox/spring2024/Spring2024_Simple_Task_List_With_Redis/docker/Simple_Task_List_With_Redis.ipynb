{
 "cells": [
  {
   "cell_type": "code",
   "execution_count": 1,
   "id": "59167ed2-125e-4376-9ea0-8f037cd8858c",
   "metadata": {},
   "outputs": [],
   "source": [
    "import requests\n",
    "import json"
   ]
  },
  {
   "cell_type": "code",
   "execution_count": 2,
   "id": "4c8bdb66-6885-4668-a535-b20f8a7f9564",
   "metadata": {},
   "outputs": [
    {
     "name": "stdout",
     "output_type": "stream",
     "text": [
      "User created successfully!\n",
      "User: {'message': 'User registered successfully', 'user_id': 'f7ef13353b433a8a833cf859e054af43'}\n"
     ]
    }
   ],
   "source": [
    "# Registration\n",
    "user_data = {\n",
    "    'username': 'Test User',\n",
    "    'email': 'mock@abc.com',\n",
    "    'password': 'MockPassword'\n",
    "}\n",
    "response = requests.post('http://flask-app:5000/register', json=user_data)\n",
    "# Check if the request was successful\n",
    "if response.status_code == 201:\n",
    "    print('User created successfully!')\n",
    "    # Print the task data returned by the server\n",
    "    print('User:', response.json())\n",
    "else:\n",
    "    print('Failed to create User:', response.text)"
   ]
  },
  {
   "cell_type": "code",
   "execution_count": 3,
   "id": "c7ad26df-8545-46cd-ab58-774d13334374",
   "metadata": {},
   "outputs": [
    {
     "name": "stdout",
     "output_type": "stream",
     "text": [
      "Failed to create User: {\n",
      "  \"message\": \"Login successful\",\n",
      "  \"user_id\": \"f7ef13353b433a8a833cf859e054af43\"\n",
      "}\n",
      "\n"
     ]
    }
   ],
   "source": [
    "# Logging in a user\n",
    "user_data = {\n",
    "    'username': 'Test User',\n",
    "    'password': 'MockPassword'\n",
    "}\n",
    "response = requests.post('http://flask-app:5000/login', json=user_data)\n",
    "# Check if the request was successful\n",
    "if response.status_code == 201:\n",
    "    print('User created successfully!')\n",
    "    # Print the task data returned by the server\n",
    "    print('User:', response.json())\n",
    "else:\n",
    "    print('Failed to create User:', response.text)"
   ]
  },
  {
   "cell_type": "code",
   "execution_count": 4,
   "id": "264f3406-e995-4ee7-a8c8-631dbcfb39c9",
   "metadata": {},
   "outputs": [
    {
     "name": "stdout",
     "output_type": "stream",
     "text": [
      "Task created successfully!\n",
      "Task: {'description': 'This is an example task.', 'id': 1, 'status': 'pending', 'title': 'Example Task'}\n"
     ]
    }
   ],
   "source": [
    "# Creating a new task\n",
    "task_data = {\n",
    "    'title': 'Example Task',\n",
    "    'description': 'This is an example task.',\n",
    "    'status': 'pending'\n",
    "}\n",
    "\n",
    "response = requests.post('http://flask-app:5000/tasks', json=task_data)\n",
    "\n",
    "# Check if the request was successful\n",
    "if response.status_code == 201:\n",
    "    print('Task created successfully!')\n",
    "    # Print the task data returned by the server\n",
    "    print('Task:', response.json())\n",
    "else:\n",
    "    print('Failed to create task:', response.text)"
   ]
  },
  {
   "cell_type": "code",
   "execution_count": 5,
   "id": "74af5b2d-2559-43da-9cdc-17a9b9dbf02d",
   "metadata": {},
   "outputs": [
    {
     "name": "stdout",
     "output_type": "stream",
     "text": [
      "All tasks: [{'description': 'This is an example task.', 'id': 1, 'status': 'pending', 'title': 'Example Task'}, 1]\n"
     ]
    }
   ],
   "source": [
    "# Getting all of the task\n",
    "response = requests.get('http://flask-app:5000/tasks')\n",
    "\n",
    "if response.status_code == 200:\n",
    "    tasks = response.json()\n",
    "    print('All tasks:', tasks)\n",
    "else:\n",
    "    print('Failed to get tasks:', response.text)"
   ]
  },
  {
   "cell_type": "code",
   "execution_count": 5,
   "id": "4b21c7bd-e3a1-42a1-a3ac-cbe74872cb12",
   "metadata": {},
   "outputs": [
    {
     "name": "stdout",
     "output_type": "stream",
     "text": [
      "Task: {'description': 'This is an example task.', 'id': 1, 'status': 'pending', 'title': 'Example Task'}\n"
     ]
    }
   ],
   "source": [
    "# Getting a single task using the task id\n",
    "response = requests.get('http://flask-app:5000/tasks/1')\n",
    "\n",
    "# Check if the request was successful\n",
    "if response.status_code == 200:\n",
    "    # Print the task data returned by the server\n",
    "    print('Task:', response.json())\n",
    "else:\n",
    "    print('Failed to retrieve task:', response.text)"
   ]
  },
  {
   "cell_type": "code",
   "execution_count": 6,
   "id": "3176c095-ec92-4906-9282-e5c29d9a39e8",
   "metadata": {},
   "outputs": [
    {
     "name": "stdout",
     "output_type": "stream",
     "text": [
      "Task: {'message': 'Task deleted'}\n"
     ]
    }
   ],
   "source": [
    "# Deleting a task\n",
    "response = requests.delete('http://flask-app:5000/tasks/1')\n",
    "\n",
    "# Check if the request was successful\n",
    "if response.status_code == 200:\n",
    "    # Print the task data returned by the server\n",
    "    print('Task:', response.json())\n",
    "else:\n",
    "    print('Failed to retrieve task:', response.text)"
   ]
  },
  {
   "cell_type": "code",
   "execution_count": null,
   "id": "941dd97d-d9dc-471e-89c9-650ce8ca1996",
   "metadata": {},
   "outputs": [],
   "source": []
  }
 ],
 "metadata": {
  "kernelspec": {
   "display_name": "Python 3 (ipykernel)",
   "language": "python",
   "name": "python3"
  },
  "language_info": {
   "codemirror_mode": {
    "name": "ipython",
    "version": 3
   },
   "file_extension": ".py",
   "mimetype": "text/x-python",
   "name": "python",
   "nbconvert_exporter": "python",
   "pygments_lexer": "ipython3",
   "version": "3.11.6"
  }
 },
 "nbformat": 4,
 "nbformat_minor": 5
}
