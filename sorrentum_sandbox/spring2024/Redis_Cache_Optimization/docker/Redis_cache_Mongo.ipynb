{
 "cells": [
  {
   "cell_type": "markdown",
   "id": "4c4f481e-0f59-4270-b7ca-075e371fb694",
   "metadata": {},
   "source": [
    "## Redis Cache with MongoDB"
   ]
  },
  {
   "cell_type": "markdown",
   "id": "6253f37b-b3d9-437b-ac51-6a5ae07acc5b",
   "metadata": {},
   "source": [
    "#### This project is a caching and rate-limiting system designed to enhance the performance and reliability of accessing customer data stored in a MongoDB database. It utilizes Redis as a caching mechanism to store frequently accessed data and implements rate limiting to prevent excessive requests. The system monitors changes in the MongoDB database and updates the cache accordingly, ensuring that the cached data remains consistent with the database. By combining caching with rate limiting, the project aims to optimize the retrieval of customer data while mitigating the risk of overwhelming the database with excessive requests."
   ]
  },
  {
   "cell_type": "markdown",
   "id": "a8ecc1e9-0c4f-42c7-b8fc-49b5ee369ba7",
   "metadata": {},
   "source": [
    " When running the provided code, there are several functionalities you can try and experiment with to understand its behavior and test its functionality:\n",
    "\n",
    "Testing Rate Limiting:\n",
    "\n",
    "Execute the code more than 5 times within a minute and observe if the rate limiting functionality works as expected. After the 5th execution, the code should return a rate limit exceeded error.\n",
    "\n",
    "Cache Expiry Testing:\n",
    "\n",
    "Set the expiration time of the cache to a shorter period and observe how quickly the cached data expires. You can modify the set_data_to_redis_with_expiry function to set a shorter expiry time, and then fetch the data multiple times to see when it expires and gets fetched from MongoDB again.\n",
    "\n",
    "Database Change Monitoring:\n",
    "\n",
    "Introduce changes in the MongoDB database while the program is running and observe how the cache invalidation process works. You can manually insert/update/delete documents in the MongoDB 'customers' collection and see if the cache gets invalidated accordingly.\n",
    "\n",
    "Additional Features:\n",
    "\n",
    "We can extend the functionality by adding features such as authentication, data validation, pagination, or additional caching strategies (e.g., caching at different levels, like at the application level or using a distributed cache).\n",
    "By experimenting with these functionalities, we can gain a better understanding of how the code works and how it behaves under different scenarios, helping you identify and address any potential issues or areas for improvement."
   ]
  },
  {
   "cell_type": "markdown",
   "id": "8f1893d9-215e-45c8-8f0f-b07a0755ad7a",
   "metadata": {},
   "source": [
    "#### These lines import necessary libraries and modules such as time, json, pymongo (MongoDB driver), redis (Redis client), functools, ratelimit (for rate limiting), and bson (Binary JSON) from pymongo.\n"
   ]
  },
  {
   "cell_type": "code",
   "execution_count": null,
   "id": "aaa21f11-2967-439b-a50a-88550993d998",
   "metadata": {},
   "outputs": [],
   "source": [
    "import time\n",
    "import json\n",
    "import pymongo\n",
    "import redis\n",
    "import functools\n",
    "from ratelimit import limits, RateLimitException\n",
    "from bson import json_util\n",
    "import threading\n"
   ]
  },
  {
   "cell_type": "markdown",
   "id": "e5219ff0-b8e0-42be-8837-ff000107d32f",
   "metadata": {},
   "source": [
    "#### This section initializes connections to MongoDB and Redis, and specifies the database and collection to be used."
   ]
  },
  {
   "cell_type": "code",
   "execution_count": 3,
   "id": "893bd754-647c-4aa4-ad56-8777de454daf",
   "metadata": {},
   "outputs": [],
   "source": [
    "# MongoDB and Redis setup\n",
    "client = pymongo.MongoClient('mongodb://mongodb:27017/') \n",
    "redis_client = redis.StrictRedis(host='redis', port=6379, db=0) \n",
    "db = client['shaunakdatabase']\n",
    "collection = db['customers']\n",
    "\n"
   ]
  },
  {
   "cell_type": "markdown",
   "id": "7d0b07ca-eb17-4471-8578-6b8cea05c482",
   "metadata": {},
   "source": [
    "#### This function inserts data into the MongoDB collection.\n"
   ]
  },
  {
   "cell_type": "code",
   "execution_count": 4,
   "id": "d4d25286-a3ff-4990-b54c-9b029ed9063d",
   "metadata": {},
   "outputs": [],
   "source": [
    "def insert_data_to_mongodb(data):\n",
    "    db.collection.insert_many(data)"
   ]
  },
  {
   "cell_type": "markdown",
   "id": "18cc7615-4a8e-43ea-b0e7-c0c80f1b23e8",
   "metadata": {},
   "source": [
    "#### This is a decorator function that applies rate limiting to other functions. It wraps the decorated function and limits the number of calls within a specified period."
   ]
  },
  {
   "cell_type": "code",
   "execution_count": 5,
   "id": "e9cba0b2-b680-4a6c-9691-6fd5f9b03535",
   "metadata": {},
   "outputs": [],
   "source": [
    "def rate_limited(max_calls=5, period=60):\n",
    "    def decorator(func):\n",
    "        @functools.wraps(func)\n",
    "        @limits(calls=max_calls, period=period)\n",
    "        def wrapper(*args, **kwargs):\n",
    "            try:\n",
    "                return func(*args, **kwargs)\n",
    "            except RateLimitException as e:\n",
    "                print(\"Too many calls. Please try again later.\")\n",
    "                return {\"error\": \"Rate limit exceeded. Please try again later.\"}, 429\n",
    "        return wrapper\n",
    "    return decorator\n"
   ]
  },
  {
   "cell_type": "markdown",
   "id": "6293b8f0-cd8a-408d-8ab6-4d7df11a7ccd",
   "metadata": {},
   "source": [
    "#### This function sets data to Redis with an expiration time (expiry_seconds). It is used to cache data retrieved from MongoDB with a specified expiry time."
   ]
  },
  {
   "cell_type": "code",
   "execution_count": 6,
   "id": "05a6a5f2-327d-4c13-80a2-abf802e67880",
   "metadata": {},
   "outputs": [],
   "source": [
    "def set_data_to_redis_with_expiry(key, dat, expiry_seconds):\n",
    "    redis_client.setex(key, expiry_seconds, data)\n"
   ]
  },
  {
   "cell_type": "markdown",
   "id": "0f35a8d3-e428-42ef-afc2-3156d262bd52",
   "metadata": {},
   "source": [
    "#### The below functions invalidates cache by deleting data associated with a given customer_id from Redis. It is used to remove outdated data from the cache. It also monitors changes in the MongoDB database. It retrieves the most recent timestamp of the last change processed from Redis, queries the database for changes since that timestamp, and updates the cache accordingly."
   ]
  },
  {
   "cell_type": "code",
   "execution_count": 7,
   "id": "74e570cd-1363-4727-988c-bd60d0a6f8e8",
   "metadata": {},
   "outputs": [],
   "source": [
    "def invalidate_cache(customer_id):\n",
    "    redis_client.delete(customer_id)\n",
    "\n",
    "def monitor_database_changes():\n",
    "    try:\n",
    "        # Retrieve the most recent timestamp of the last change processed\n",
    "        last_change_timestamp = redis_client.get('last_change_timestamp')\n",
    "        if last_change_timestamp is None:\n",
    "            last_change_timestamp = 0\n",
    "        else:\n",
    "            last_change_timestamp = float(last_change_timestamp)\n",
    "\n",
    "        # Query the database for changes since the last processed change\n",
    "        changes = db['customers'].find(\n",
    "            {'timestamp': {'$gt': last_change_timestamp}}\n",
    "        ).sort([('timestamp', pymongo.ASCENDING)])\n",
    "\n",
    "        # Count the number of changes\n",
    "        num_changes = db['customers'].count_documents({'timestamp': {'$gt': last_change_timestamp}})\n",
    "\n",
    "        # If updates are found, print a message and list the Redis IDs that will be deleted\n",
    "        if num_changes > 0:\n",
    "            print(f\"{num_changes} updates found in the MongoDB database.\")\n",
    "            print(\"Redis IDs to be deleted:\")\n",
    "            for change in changes:\n",
    "                redis_id = str(change['_id'])\n",
    "                print(redis_id)\n",
    "                invalidate_cache(redis_id)\n",
    "            \n",
    "            # Update the last change timestamp in Redis\n",
    "            last_change_timestamp = changes[num_changes - 1]['timestamp']\n",
    "            redis_client.set('last_change_timestamp', last_change_timestamp)\n",
    "        else:\n",
    "            print(\"No updates found in the MongoDB database.\")\n",
    "\n",
    "    except Exception as e:\n",
    "        print(f\"Error in monitoring database changes: {e}\")\n",
    "\n",
    "def start_cache_invalidation():\n",
    "    # Start cache invalidation process\n",
    "    monitor_database_changes()\n"
   ]
  },
  {
   "cell_type": "markdown",
   "id": "51481620-9bea-4343-b2cb-b1f4c5169432",
   "metadata": {},
   "source": [
    "#### The below function retrieves data from MongoDB based on the given customer_id. It is used to fetch data from MongoDB when it's not found in the cache. "
   ]
  },
  {
   "cell_type": "code",
   "execution_count": 8,
   "id": "48f41e7e-f256-4c4a-a62c-230aadb30c56",
   "metadata": {},
   "outputs": [],
   "source": [
    "# MongoDB data retrieval\n",
    "def get_data_from_mongodb(customer_id):\n",
    "    document = db.collection.find_one({\"customer_id\": customer_id})\n",
    "    if document:\n",
    "        document[\"_id\"] = str(document[\"_id\"])\n",
    "        return json_util.dumps(document)\n",
    "    else:\n",
    "        return None\n"
   ]
  },
  {
   "cell_type": "markdown",
   "id": "99741da4-2114-446b-acc4-af5ffa3901aa",
   "metadata": {},
   "source": [
    "#### The next function retrieves customer data, first checking the Redis cache. If data is not found in the cache, it fetches it from MongoDB, sets it in the cache, and returns the data. It is rate-limited to prevent abuse."
   ]
  },
  {
   "cell_type": "code",
   "execution_count": null,
   "id": "c7296760-f581-4cd3-84b1-c2d6d8e09fc7",
   "metadata": {},
   "outputs": [],
   "source": [
    "@rate_limited(max_calls=5, period=60)\n",
    "def get_customer_data(customer_id):\n",
    "    try:\n",
    "        data = redis_client.get(customer_id)\n",
    "        if data:\n",
    "            print(\"Data found in Redis cache.\")\n",
    "            return json.loads(data)\n",
    "        else:\n",
    "            print(\"Data not found in Redis cache. Fetching from MongoDB.\")\n",
    "            data = get_data_from_mongodb(customer_id)\n",
    "            if data:\n",
    "                set_data_to_redis_with_expiry(customer_id, json.dumps(data), 60)  # Set expiration time to 60 seconds\n",
    "            return data\n",
    "    except RateLimitException:\n",
    "        print(\"Too many calls. Please try again later.\")\n",
    "        return {\"error\": \"Rate limit exceeded. Please try again later.\"}, 429\n"
   ]
  },
  {
   "cell_type": "markdown",
   "id": "60fd5bf3-b369-4199-97b9-6d7b7efaccd3",
   "metadata": {},
   "source": [
    "#### The main() function serves as the entry point of the program. It checks if the MongoDB collection exists, drops it if necessary, inserts data into the collection, starts the cache invalidation process, and retrieves customer data with rate limiting and caching."
   ]
  },
  {
   "cell_type": "code",
   "execution_count": 9,
   "id": "132a0ce0-0867-47c7-b3c0-eaa69a5a2400",
   "metadata": {},
   "outputs": [],
   "source": [
    "def main():\n",
    "    try:\n",
    "        # Check if the collection exists and drop it if necessary\n",
    "        if 'collection' in db.list_collection_names():\n",
    "            db.drop_collection(collection)\n",
    "            print(f\"Collection '{collection}' dropped successfully.\")\n",
    "        else:\n",
    "            print('Collection not found in database')\n",
    "            print('Making the database collection')\n",
    "        # Insert data into MongoDB collection\n",
    "        with open('shaunak_ecommerce.json', 'r') as file:\n",
    "            json_data = json.load(file)\n",
    "        insert_data_to_mongodb(json_data)\n",
    "        print(\"Data inserted into MongoDB collection 'customers'.\")\n",
    "\n",
    "        # Start cache invalidation process\n",
    "        start_cache_invalidation()\n",
    "\n",
    "        # Retrieve customer data with rate limiting and caching\n",
    "        customer_id = 1003\n",
    "        data = get_customer_data(customer_id)\n",
    "        if data:\n",
    "            print(\"Customer Data for customer_id\", customer_id, \":\", data)\n",
    "        else:\n",
    "            print(\"No data found for customer_id:\", customer_id)\n",
    "    except RateLimitException:\n",
    "        print(\"Too many calls. Please try again later.\")\n"
   ]
  },
  {
   "cell_type": "code",
   "execution_count": 11,
   "id": "81373a62-ed5d-4a56-b6b4-4628071d1f6a",
   "metadata": {},
   "outputs": [
    {
     "name": "stdout",
     "output_type": "stream",
     "text": [
      "Collection 'Collection(Database(MongoClient(host=['mongodb:27017'], document_class=dict, tz_aware=False, connect=True), 'shaunakdatabase'), 'customers')' dropped successfully.\n",
      "Data inserted into MongoDB collection 'customers'.\n",
      "No updates found in the MongoDB database.\n",
      "Data found in Redis cache.\n",
      "Customer Data for customer_id 1003 : {\"_id\": \"65fdd0b51186834fcf07c4cf\", \"customer_id\": 1003, \"customer_name\": {\"first_name\": \"Niharika\", \"last_name\": \"Dhande\", \"nickname\": \"Niha\"}, \"contact_details\": {\"email\": \"niharikadhande@gmail.com\", \"phone\": {\"home\": \"+1-9922753866\", \"work\": \"+1-9960646333\"}}, \"address\": {\"address_line1\": \"5431 Hartwick road\", \"address_line2\": \"Near North Campus Commons\", \"city\": {\"city_name\": \"College Park\", \"pincode\": \"20743\", \"country\": \"United States\"}}, \"billing_info\": {\"credit_card\": {\"card_number\": \"**** **** **** 4644\", \"expiration_date\": \"11/28\", \"cvv\": \"***\"}}, \"interactions\": {\"viewed_products\": {\"electronics\": {\"smartphones\": [{\"product_name\": \"Google Pixel 2\", \"storage\": \"128GB\", \"color\": \"White\", \"price_in_$\": 799}, {\"product_name\": \"OnePlus 7 Pro\", \"storage\": \"256GB\", \"color\": \"Yellow\", \"price_in_$\": 899}]}, \"clothing\": {\"womens\": {\"jeans\": [{\"product_name\": \"Calvin Klein\", \"color\": \"Dark Blue\", \"quantity\": 3, \"price\": 80}, {\"product_name\": \"Levi's Regular\", \"color\": \"Light Blue\", \"quantity\": 4, \"price\": 70}]}}, \"groceries\": {\"snacks\": [{\"product_name\": \"Lays\", \"flavor\": \"Magic Masala\", \"quantity\": \"150g\", \"price\": 2.0}, {\"product_name\": \"Ferrero Rocher\", \"quantity\": \"8 pieces\", \"price\": 4.0}]}}, \"wishlist\": {\"electronics\": {\"smartphones\": [{\"product_name\": \"iPhone 14\", \"storage\": \"512GB\", \"color\": \"Black\", \"price\": 1199}], \"laptops\": [{\"product_name\": \"HP XPS 15\", \"processor\": \"Intel i9\", \"memory\": \"64GB RAM\", \"price\": 1899}]}, \"clothing\": {\"women\": {\"dresses\": [{\"product_name\": \"Cocktail Dress\", \"color\": \"Red\", \"size\": \"S\", \"quantity\": 1, \"price\": 150}]}}, \"groceries\": {\"snacks\": [{\"product_name\": \"Pringles\", \"quantity\": \"250g\", \"price_$\": 5.0}], \"beverages\": [{\"product_name\": \"Starbucks\", \"flavor\": \"Cold Coffee\", \"quantity\": \"3 bottles\", \"price_$\": 7.0}]}}, \"cart\": {\"electronics\": {\"laptops\": [{\"product_name\": \"HP Spectre x360\", \"processor\": \"Intel i7\", \"memory\": \"8GB RAM\", \"price_$\": 1299}]}, \"clothing\": {\"womens\": {\"dresses\": [{\"product_name\": \"Cotton King\", \"color\": \"Grey\", \"quantity\": 1, \"price\": 90}]}}, \"groceries\": {\"snacks\": [{\"product_name\": \"Doritos Nachos\", \"flavor\": \" Ranch\", \"quantity\": \"100g\", \"price\": 3.0}], \"beverages\": [{\"product_name\": \"Cranberry Juice\", \"quantity\": \"2L\", \"price\": 5.0}]}}, \"loyalty_program\": {\"membership_level\": \"Platinum\", \"points_earned\": 288, \"points_redeemed\": 100, \"available_points\": 188}}, \"orders\": [{\"order_id\": 6003, \"order_date\": \"01/23/2024\", \"total_amount\": 1304, \"items\": [{\"product_name\": \"iPhone 13\", \"quantity\": 1, \"price\": 1199}, {\"product_name\": \"Armani Casual Shirt\", \"quantity\": 1, \"price\": 100}, {\"product_name\": \"Nuts\", \"quantity\": \"250g\", \"price\": 5.0}]}, {\"order_id\": 6004, \"order_date\": \"02/12/2024\", \"total_amount\": 1800, \"items\": [{\"product_name\": \"HP XPS 15\", \"quantity\": 1, \"price\": 1899}, {\"product_name\": \"Armani Casual Shirt\", \"quantity\": 2, \"price\": 100}, {\"product_name\": \"Black Tea\", \"flavor\": \"Matcha\", \"quantity\": \"100 bags\", \"price\": 7.0}]}]}\n"
     ]
    }
   ],
   "source": [
    "if __name__ == \"__main__\":\n",
    "    main()"
   ]
  }
 ],
 "metadata": {
  "kernelspec": {
   "display_name": "Python 3 (ipykernel)",
   "language": "python",
   "name": "python3"
  },
  "language_info": {
   "codemirror_mode": {
    "name": "ipython",
    "version": 3
   },
   "file_extension": ".py",
   "mimetype": "text/x-python",
   "name": "python",
   "nbconvert_exporter": "python",
   "pygments_lexer": "ipython3",
   "version": "3.10.12"
  }
 },
 "nbformat": 4,
 "nbformat_minor": 5
}
