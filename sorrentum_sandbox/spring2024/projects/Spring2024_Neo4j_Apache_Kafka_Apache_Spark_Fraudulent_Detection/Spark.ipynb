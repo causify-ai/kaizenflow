{
 "cells": [
  {
   "cell_type": "code",
   "execution_count": 1,
   "id": "109699d6-a50b-4c94-b60e-415ea8bb7f27",
   "metadata": {},
   "outputs": [
    {
     "name": "stderr",
     "output_type": "stream",
     "text": [
      "24/04/21 11:42:04 WARN Utils: Your hostname, isaac-virtual-machine resolves to a loopback address: 127.0.1.1; using 192.168.106.130 instead (on interface ens33)\n",
      "24/04/21 11:42:04 WARN Utils: Set SPARK_LOCAL_IP if you need to bind to another address\n",
      "Setting default log level to \"WARN\".\n",
      "To adjust logging level use sc.setLogLevel(newLevel). For SparkR, use setLogLevel(newLevel).\n",
      "24/04/21 11:42:06 WARN NativeCodeLoader: Unable to load native-hadoop library for your platform... using builtin-java classes where applicable\n"
     ]
    },
    {
     "data": {
      "text/plain": [
       "'3.5.1'"
      ]
     },
     "execution_count": 1,
     "metadata": {},
     "output_type": "execute_result"
    }
   ],
   "source": [
    "import pyspark\n",
    "from pyspark.sql import SparkSession\n",
    "from pyspark.sql.functions import explode\n",
    "from pyspark.sql.functions import split\n",
    "from pyspark.sql.streaming import DataStreamReader\n",
    "\n",
    "\n",
    "# conf = pyspark.SparkConf().setAll([('spark.executor.memory', '1g'), ('spark.executor.cores', '1'), ('spark.cores.max', '1'), ('spark.driver.memory','2g')])\n",
    "\n",
    "spark = (SparkSession.builder\n",
    "         .master(\"local\")\n",
    "         .appName(\"Transactions\")\n",
    "         .config('spark.executor.memory', '1g')\n",
    "         .config('spark.executor.cores', '1')\n",
    "         .config('spark.driver.memory','2g')\n",
    "         .getOrCreate()\n",
    "        )\n",
    "person_read = DataStreamReader(spark)\n",
    "trans_read = DataStreamReader(spark)\n",
    "sent_read = DataStreamReader(spark)\n",
    "received_read = DataStreamReader(spark)\n",
    "merchant_read = DataStreamReader(spark)\n",
    "loc_read = DataStreamReader(spark)\n",
    "acct_read = DataStreamReader(spark)\n",
    "cc_read = DataStreamReader(spark)\n",
    "resides_read = DataStreamReader(spark)\n",
    "\n",
    "spark.version\n",
    "# pw = \"zeppelin\""
   ]
  },
  {
   "cell_type": "code",
   "execution_count": 2,
   "id": "e72dfd00-ec85-4185-9b06-87e1bac665f8",
   "metadata": {},
   "outputs": [
    {
     "name": "stderr",
     "output_type": "stream",
     "text": [
      "                                                                                \r"
     ]
    }
   ],
   "source": [
    "schema = spark.read.csv(\"Sparkov_Data_Generation/output/adults_2550_male_urban_00-327.csv\", sep=\"|\", header=True).schema\n",
    "# schema"
   ]
  },
  {
   "cell_type": "code",
   "execution_count": 4,
   "id": "6ec0980c-408d-423e-9113-ad1451c031f9",
   "metadata": {},
   "outputs": [],
   "source": [
    "path = \"Sparkov_Data_Generation/output2/\"\n",
    "\n",
    "class Stream:\n",
    "    def __init__(self, spark_read, path, schema):\n",
    "        self.read_stream = spark_read.csv(path=path, sep=\"|\", schema=schema)\n",
    "\n",
    "    def insert_nodes(self, fields, checkpoint_path, label, key):\n",
    "        self.read_stream.select(fields).dropna(how=\"any\").writeStream \\\n",
    "          .format(\"org.neo4j.spark.DataSource\") \\\n",
    "          .option(\"url\", \"bolt://localhost:7687\") \\\n",
    "          .option(\"checkpointLocation\", checkpoint_path) \\\n",
    "          .option(\"labels\", label) \\\n",
    "          .option(\"node.keys\", key) \\\n",
    "          .option(\"SaveMode\", \"Overwrite\") \\\n",
    "          .start()\n",
    "\n",
    "    def insert_relationships(self, fields, checkpoint_path, relationship, labels_keys):\n",
    "        self.read_stream.select(fields).dropna(how=\"any\").writeStream \\\n",
    "          .format(\"org.neo4j.spark.DataSource\") \\\n",
    "          .option(\"relationship\", relationship) \\\n",
    "          .option(\"url\", \"bolt://localhost:7687\") \\\n",
    "          .option(\"checkpointLocation\", checkpoint_path) \\\n",
    "          .option(\"relationship.save.strategy\", \"keys\") \\\n",
    "          .option(\"relationship.source.labels\", labels_keys.get(\"s_label\")) \\\n",
    "          .option(\"relationship.source.save.mode\", \"Overwrite\") \\\n",
    "          .option(\"relationship.source.node.keys\", labels_keys.get(\"s_key\")) \\\n",
    "          .option(\"relationship.target.labels\", labels_keys.get(\"t_label\")) \\\n",
    "          .option(\"relationship.target.save.mode\", \"Overwrite\") \\\n",
    "          .option(\"relationship.target.node.keys\", labels_keys.get(\"t_key\")) \\\n",
    "          .start()\n",
    "\n",
    "per_stream = Stream(person_read, path, schema)\n",
    "tran_stream = Stream(trans_read, path, schema)\n",
    "sent_stream = Stream(sent_read, path, schema)\n",
    "received_stream = Stream(received_read, path, schema)\n",
    "merchant_stream = Stream(merchant_read, path, schema)\n",
    "loc_stream = Stream(loc_read, path, schema)\n",
    "acct_stream = Stream(acct_read, path, schema)\n",
    "cc_stream = Stream(cc_read, path, schema)\n",
    "resides_stream = Stream(resides_read, path, schema)"
   ]
  },
  {
   "cell_type": "code",
   "execution_count": 5,
   "id": "9402b1a4-4cbb-49f2-8bd3-f87b520b821a",
   "metadata": {},
   "outputs": [],
   "source": [
    "person_fields = [\"ssn\", \"first\", \"last\", \"gender\", \"job\", \"dob\"]\n",
    "acct_fields = [\"acct_num\"]\n",
    "cc_fields = [\"cc_num\"]\n",
    "per_loc_fields = [\"street\",\"city\",\"state\",\"zip\",\"lat\",\"long\",\"city_pop\"]\n",
    "mer_loc_fields = [\"merch_lat\",\"merch_long\"]\n",
    "trans_fields = [\"trans_num\",\"trans_date\",\"trans_time\",\"amt\"]\n",
    "merch_fields = [\"category\",\"merchant\"]"
   ]
  },
  {
   "cell_type": "code",
   "execution_count": 6,
   "id": "fb74d03b-e3df-43ec-9660-da4b0a36e35d",
   "metadata": {},
   "outputs": [
    {
     "name": "stderr",
     "output_type": "stream",
     "text": [
      "24/04/21 11:43:19 WARN ResolveWriteToStream: spark.sql.adaptive.enabled is not supported in streaming DataFrames/Datasets and will be disabled.\n",
      "24/04/21 11:43:21 WARN ResolveWriteToStream: spark.sql.adaptive.enabled is not supported in streaming DataFrames/Datasets and will be disabled.\n",
      "24/04/21 11:43:22 WARN ResolveWriteToStream: spark.sql.adaptive.enabled is not supported in streaming DataFrames/Datasets and will be disabled.\n",
      "24/04/21 11:43:22 WARN ResolveWriteToStream: spark.sql.adaptive.enabled is not supported in streaming DataFrames/Datasets and will be disabled.\n",
      "24/04/21 11:43:23 WARN ResolveWriteToStream: spark.sql.adaptive.enabled is not supported in streaming DataFrames/Datasets and will be disabled.\n",
      "24/04/21 11:43:23 WARN ResolveWriteToStream: spark.sql.adaptive.enabled is not supported in streaming DataFrames/Datasets and will be disabled.\n",
      "24/04/21 11:43:24 WARN ResolveWriteToStream: spark.sql.adaptive.enabled is not supported in streaming DataFrames/Datasets and will be disabled.\n",
      "24/04/21 11:43:24 WARN ResolveWriteToStream: spark.sql.adaptive.enabled is not supported in streaming DataFrames/Datasets and will be disabled.\n",
      "24/04/21 11:43:25 WARN ResolveWriteToStream: spark.sql.adaptive.enabled is not supported in streaming DataFrames/Datasets and will be disabled.\n",
      "24/04/21 11:43:25 WARN NioEventLoop: Selector.select() returned prematurely 512 times in a row; rebuilding Selector org.neo4j.driver.internal.shaded.io.netty.channel.nio.SelectedSelectionKeySetSelector@544ccf51.\n",
      "24/04/21 11:43:25 WARN NioEventLoop: Selector.select() returned prematurely 512 times in a row; rebuilding Selector org.neo4j.driver.internal.shaded.io.netty.channel.nio.SelectedSelectionKeySetSelector@840b0a1.\n",
      "24/04/21 11:47:12 WARN FileStreamSource: Listed 4 file(s) in 2690 ms + 0) / 1]  \n",
      "24/04/21 11:47:12 WARN FileStreamSource: Listed 4 file(s) in 2695 ms\n",
      "                                                                                \r"
     ]
    }
   ],
   "source": [
    "per_stream.insert_nodes(person_fields, \"/tmp/chpt1\", \":Person\", \"ssn\")\n",
    "tran_stream.insert_nodes(trans_fields, \"/tmp/chpt2\", \":Transaction\", \"trans_num\")\n",
    "merchant_stream.insert_nodes(merch_fields, \"/tmp/chpt3\", \":Merchant\", \"merchant\")\n",
    "loc_stream.insert_nodes(per_loc_fields, \"/tmp/chpt4\", \":Location\", \"city\")\n",
    "acct_stream.insert_nodes(acct_fields, \"/tmp/chpt5\", \":Account\", \"acct_num\")\n",
    "cc_stream.insert_nodes(cc_fields, \"/tmp/chpt6\", \":CreditCard\", \"cc_num\")\n",
    "\n",
    "\n",
    "sent_stream.insert_relationships([\"ssn\",\"trans_num\"],\n",
    "                                \"/tmp/chpt7\",\n",
    "                                \"SENT\",\n",
    "                                {\n",
    "                                    \"s_label\": \":Person\",\n",
    "                                    \"s_key\": \"ssn\",\n",
    "                                    \"t_label\":\":Transaction\",\n",
    "                                    \"t_key\": \"trans_num\"\n",
    "                                })\n",
    "received_stream.insert_relationships([\"trans_num\", \"merchant\"],\n",
    "                                \"/tmp/chpt8\",\n",
    "                                \"RECEIVED\",\n",
    "                                {\n",
    "                                    \"s_label\": \":Transaction\",\n",
    "                                    \"s_key\": \"trans_num\",\n",
    "                                    \"t_label\":\":Merchant\",\n",
    "                                    \"t_key\": \"merchant\"\n",
    "                                })\n",
    "resides_stream.insert_relationships([\"ssn\",\"city\"],\n",
    "                                \"/tmp/chpt9\",\n",
    "                                \"RESIDES_IN\",\n",
    "                                {\n",
    "                                    \"s_label\": \":Person\",\n",
    "                                    \"s_key\": \"ssn\",\n",
    "                                    \"t_label\":\":Location\",\n",
    "                                    \"t_key\": \"city\"\n",
    "                                })"
   ]
  },
  {
   "cell_type": "code",
   "execution_count": 8,
   "id": "1f8d550b-2c7b-443b-bd2f-c911183e5d2a",
   "metadata": {},
   "outputs": [
    {
     "name": "stderr",
     "output_type": "stream",
     "text": [
      "24/04/21 09:14:20 WARN ResolveWriteToStream: spark.sql.adaptive.enabled is not supported in streaming DataFrames/Datasets and will be disabled.\n",
      "24/04/21 09:14:21 WARN ResolveWriteToStream: spark.sql.adaptive.enabled is not supported in streaming DataFrames/Datasets and will be disabled.\n",
      "24/04/21 09:14:22 WARN ResolveWriteToStream: spark.sql.adaptive.enabled is not supported in streaming DataFrames/Datasets and will be disabled.\n"
     ]
    },
    {
     "data": {
      "text/plain": [
       "<pyspark.sql.streaming.query.StreamingQuery at 0x7aa6f750c0a0>"
      ]
     },
     "execution_count": 8,
     "metadata": {},
     "output_type": "execute_result"
    },
    {
     "name": "stderr",
     "output_type": "stream",
     "text": [
      "                                                                                \r"
     ]
    }
   ],
   "source": [
    "# # transactions = stream.select(\"trans_num\",\"trans_date\",\"trans_time\",\"amt\")\n",
    "\n",
    "# per_stream.select(person_fields).writeStream \\\n",
    "#   .format(\"org.neo4j.spark.DataSource\") \\\n",
    "#   .option(\"url\", \"bolt://localhost:7687\") \\\n",
    "#   .option(\"checkpointLocation\", \"/tmp/chpt/\") \\\n",
    "#   .option(\"labels\", \":Person\") \\\n",
    "#   .option(\"node.keys\", \"ssn\") \\\n",
    "#   .option(\"SaveMode\", \"Overwrite\") \\\n",
    "#   .start()\n",
    "\n",
    "# tran_stream.select(trans_fields).dropna(how=\"any\",subset=\"trans_num\").writeStream \\\n",
    "#   .format(\"org.neo4j.spark.DataSource\") \\\n",
    "#   .option(\"url\", \"bolt://localhost:7687\") \\\n",
    "#   .option(\"checkpointLocation\", \"/tmp/chpt2/\") \\\n",
    "#   .option(\"labels\", \":Transaction\") \\\n",
    "#   .option(\"node.keys\", \"trans_num\") \\\n",
    "#   .option(\"SaveMode\", \"Overwrite\") \\\n",
    "#   .start()\n",
    "\n",
    "# merchant_stream.select(merch_fields).writeStream \\\n",
    "#   .format(\"org.neo4j.spark.DataSource\") \\\n",
    "#   .option(\"url\", \"bolt://localhost:7687\") \\\n",
    "#   .option(\"checkpointLocation\", \"/tmp/chpt4/\") \\\n",
    "#   .option(\"labels\", \":Merchant\") \\\n",
    "#   .option(\"node.keys\", \"merchant\") \\\n",
    "#   .option(\"SaveMode\", \"Overwrite\") \\\n",
    "#   .start()"
   ]
  },
  {
   "cell_type": "code",
   "execution_count": 9,
   "id": "ae0cb31d-ba35-4214-87d8-5e68006cff57",
   "metadata": {},
   "outputs": [
    {
     "name": "stderr",
     "output_type": "stream",
     "text": [
      "24/04/21 09:14:38 WARN ResolveWriteToStream: spark.sql.adaptive.enabled is not supported in streaming DataFrames/Datasets and will be disabled.\n",
      "24/04/21 09:14:39 WARN ResolveWriteToStream: spark.sql.adaptive.enabled is not supported in streaming DataFrames/Datasets and will be disabled.\n"
     ]
    },
    {
     "data": {
      "text/plain": [
       "<pyspark.sql.streaming.query.StreamingQuery at 0x7aa6f76b2a10>"
      ]
     },
     "execution_count": 9,
     "metadata": {},
     "output_type": "execute_result"
    },
    {
     "name": "stderr",
     "output_type": "stream",
     "text": [
      "24/04/21 09:34:30 WARN FileStreamSource: Listed 2 file(s) in 10036 ms           \n",
      "24/04/21 09:34:30 WARN FileStreamSource: Listed 2 file(s) in 9990 ms\n",
      "24/04/21 09:34:30 WARN FileStreamSource: Listed 2 file(s) in 8357 ms\n",
      "24/04/21 09:34:30 WARN FileStreamSource: Listed 2 file(s) in 8357 ms\n"
     ]
    }
   ],
   "source": [
    "# # relationship streams\n",
    "# sent_stream.select(\"ssn\",\"trans_num\").dropna(how=\"any\",subset=\"trans_num\").writeStream \\\n",
    "#   .format(\"org.neo4j.spark.DataSource\") \\\n",
    "#   .option(\"relationship\",\"SENT\") \\\n",
    "#   .option(\"url\", \"bolt://localhost:7687\") \\\n",
    "#   .option(\"checkpointLocation\", \"/tmp/chpt3/\") \\\n",
    "#   .option(\"relationship.save.strategy\", \"keys\") \\\n",
    "#   .option(\"relationship.source.labels\", \"Person\") \\\n",
    "#   .option(\"relationship.source.save.mode\", \"Overwrite\") \\\n",
    "#   .option(\"relationship.source.node.keys\", \"ssn\") \\\n",
    "#   .option(\"relationship.target.labels\", \"Transaction\") \\\n",
    "#   .option(\"relationship.target.save.mode\", \"Overwrite\") \\\n",
    "#   .option(\"relationship.target.node.keys\", \"trans_num\") \\\n",
    "#   .start()\n",
    "\n",
    "# received_stream.select(\"merchant\",\"trans_num\").dropna(how=\"any\",subset=\"trans_num\").writeStream \\\n",
    "#   .format(\"org.neo4j.spark.DataSource\") \\\n",
    "#   .option(\"relationship\",\"RECEIVED\") \\\n",
    "#   .option(\"url\", \"bolt://localhost:7687\") \\\n",
    "#   .option(\"checkpointLocation\", \"/tmp/chpt5/\") \\\n",
    "#   .option(\"relationship.save.strategy\", \"keys\") \\\n",
    "#   .option(\"relationship.source.labels\", \"Transaction\") \\\n",
    "#   .option(\"relationship.source.save.mode\", \"Overwrite\") \\\n",
    "#   .option(\"relationship.source.node.keys\", \"trans_num\") \\\n",
    "#   .option(\"relationship.target.labels\", \"Merchant\") \\\n",
    "#   .option(\"relationship.target.save.mode\", \"Overwrite\") \\\n",
    "#   .option(\"relationship.target.node.keys\", \"merchant\") \\\n",
    "#   .start()"
   ]
  },
  {
   "cell_type": "code",
   "execution_count": null,
   "id": "33acfccd-065e-4fe3-9065-89f9fd7bc998",
   "metadata": {},
   "outputs": [],
   "source": []
  },
  {
   "cell_type": "code",
   "execution_count": 39,
   "id": "32ad7128-358c-4b5c-8da1-bfb6e43ed96b",
   "metadata": {},
   "outputs": [],
   "source": [
    "# spark.stop()"
   ]
  },
  {
   "cell_type": "code",
   "execution_count": null,
   "id": "61a79c85-a839-4947-9f5f-f856a0cfa699",
   "metadata": {},
   "outputs": [],
   "source": []
  },
  {
   "cell_type": "code",
   "execution_count": null,
   "id": "9df7478f-b398-4d37-adcf-d371a27f528f",
   "metadata": {},
   "outputs": [],
   "source": []
  }
 ],
 "metadata": {
  "kernelspec": {
   "display_name": "Python 3 (ipykernel)",
   "language": "python",
   "name": "python3"
  },
  "language_info": {
   "codemirror_mode": {
    "name": "ipython",
    "version": 3
   },
   "file_extension": ".py",
   "mimetype": "text/x-python",
   "name": "python",
   "nbconvert_exporter": "python",
   "pygments_lexer": "ipython3",
   "version": "3.10.12"
  }
 },
 "nbformat": 4,
 "nbformat_minor": 5
}
