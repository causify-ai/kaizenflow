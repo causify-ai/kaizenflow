{
 "cells": [
  {
   "cell_type": "code",
   "execution_count": 2,
   "id": "327e2768-4bf0-4237-a423-dde452190b87",
   "metadata": {},
   "outputs": [],
   "source": [
    "import json\n",
    "import time\n",
    "import random\n",
    "\n",
    "from confluent_kafka.admin import AdminClient, NewTopic\n",
    "from confluent_kafka.admin import AdminClient\n",
    "from confluent_kafka import Producer, Consumer, KafkaError, TopicPartition"
   ]
  },
  {
   "cell_type": "markdown",
   "id": "150783ca-f95f-454f-9e70-3d36455236ab",
   "metadata": {},
   "source": [
    "# Create Topic"
   ]
  },
  {
   "cell_type": "code",
   "execution_count": 3,
   "id": "793edbe1-6b39-42b2-951f-13ddd38d2b6c",
   "metadata": {},
   "outputs": [
    {
     "data": {
      "text/plain": [
       "[]"
      ]
     },
     "execution_count": 3,
     "metadata": {},
     "output_type": "execute_result"
    }
   ],
   "source": [
    "admin_client = AdminClient({'bootstrap.servers': 'broker:9092'})\n",
    "\n",
    "# Retrieve the list of topics\n",
    "topic_metadata = admin_client.list_topics(timeout=10)\n",
    "[topic for topic in topic_metadata.topics if not topic.startswith('_')]"
   ]
  },
  {
   "cell_type": "code",
   "execution_count": 4,
   "id": "c72bfba5-5fde-47b2-bb7b-6dbfbddd1019",
   "metadata": {},
   "outputs": [
    {
     "name": "stdout",
     "output_type": "stream",
     "text": [
      "Topic trades created\n"
     ]
    }
   ],
   "source": [
    "# create new topic\n",
    "new_topics = [NewTopic('trades', num_partitions=3, replication_factor=1)]\n",
    "fs = admin_client.create_topics(new_topics)\n",
    "for topic, f in fs.items():\n",
    "    try:\n",
    "        f.result()\n",
    "        print(\"Topic {} created\".format(topic))\n",
    "    except Exception as e:\n",
    "        print(\"Failed to create topic {}: {}\".format(topic, e))"
   ]
  },
  {
   "cell_type": "code",
   "execution_count": 5,
   "id": "87e0f062-73dd-4acf-8002-4b41fd585fc1",
   "metadata": {},
   "outputs": [
    {
     "name": "stdout",
     "output_type": "stream",
     "text": [
      "Topic: trades, Partitions: 3\n",
      "  Partition: 0, Leader: 1, Replicas: [1]\n",
      "  Partition: 1, Leader: 1, Replicas: [1]\n",
      "  Partition: 2, Leader: 1, Replicas: [1]\n"
     ]
    }
   ],
   "source": [
    "topics = admin_client.list_topics().topics\n",
    "for topic, topic_info in topics.items():\n",
    "    if not topic.startswith('_'):\n",
    "        print(f\"Topic: {topic}, Partitions: {len(topic_info.partitions)}\")\n",
    "        for p_id, p_info in topic_info.partitions.items():\n",
    "            print(f\"  Partition: {p_id}, Leader: {p_info.leader}, Replicas: {p_info.replicas}\")"
   ]
  },
  {
   "cell_type": "markdown",
   "id": "92f5fbf6-8643-4fc6-b39c-3f91a702958c",
   "metadata": {},
   "source": [
    "# Producer"
   ]
  },
  {
   "cell_type": "code",
   "execution_count": 6,
   "id": "5c76cdc1-2360-404b-84fb-6c8e7717e6e4",
   "metadata": {},
   "outputs": [],
   "source": [
    "trades = [\n",
    "    {\n",
    "        'e': 'trade',\n",
    "        'E': 1713991342890,\n",
    "        's': 'BTCUSDT',\n",
    "        't': 97236,\n",
    "        'p': '0.006390',\n",
    "        'q': '2551',\n",
    "        'b': 69,\n",
    "        'a': 607,\n",
    "        'T': 1713991342890,\n",
    "        'm': True,\n",
    "        'M': True\n",
    "    },\n",
    "    {\n",
    "        'e': 'trade',\n",
    "        'E': 1713991378161,\n",
    "        's': 'BNBUSDT',\n",
    "        't': 77422,\n",
    "        'p': '0.008396',\n",
    "        'q': '2831',\n",
    "        'b': 307,\n",
    "        'a': 539,\n",
    "        'T': 1713991378161,\n",
    "        'm': False,\n",
    "        'M': True\n",
    "    },\n",
    "    {\n",
    "        'e': 'trade',\n",
    "        'E': 1713991429451,\n",
    "        's': 'BNBBTC',\n",
    "        't': 43014,\n",
    "        'p': '0.004122',\n",
    "        'q': '3493',\n",
    "        'b': 123,\n",
    "        'a': 664,\n",
    "        'T': 1713991429451,\n",
    "        'm': True,\n",
    "        'M': True\n",
    "    },\n",
    "]"
   ]
  },
  {
   "cell_type": "code",
   "execution_count": 7,
   "id": "a4ecc7e9-1d8e-47c3-998f-8a1b199a6550",
   "metadata": {},
   "outputs": [
    {
     "name": "stdout",
     "output_type": "stream",
     "text": [
      "Message produced: trades 2 b'BNBUSDT'\n",
      "Message produced: trades 0 b'BTCUSDT'\n",
      "Message produced: trades 1 b'BNBBTC'\n"
     ]
    },
    {
     "data": {
      "text/plain": [
       "0"
      ]
     },
     "execution_count": 7,
     "metadata": {},
     "output_type": "execute_result"
    }
   ],
   "source": [
    "def acked(err, msg):\n",
    "    if err is not None:\n",
    "        print(\"Failed to deliver message: %s: %s\" % (str(msg), str(err)))\n",
    "    else:\n",
    "        print(f\"Message produced: {msg.topic()} {msg.partition()} {msg.key()}\")\n",
    "\n",
    "producer = Producer({'bootstrap.servers': 'broker:9092'})\n",
    "\n",
    "for trade in trades:\n",
    "    producer.produce('trades', key=trade['s'], value=json.dumps(trade), callback=acked)\n",
    "\n",
    "# Wait for any outstanding messages to be delivered\n",
    "producer.flush()"
   ]
  },
  {
   "cell_type": "markdown",
   "id": "06d97bc9-a75b-4c37-939d-97a1b4f3972a",
   "metadata": {},
   "source": [
    "# Consumer"
   ]
  },
  {
   "cell_type": "code",
   "execution_count": 10,
   "id": "45bdf0af-999d-4031-8dca-9cd7508d7cf2",
   "metadata": {},
   "outputs": [
    {
     "name": "stdout",
     "output_type": "stream",
     "text": [
      "Message: {\"e\": \"trade\", \"E\": 1713991378161, \"s\": \"BNBUSDT\", \"t\": 77422, \"p\": \"0.008396\", \"q\": \"2831\", \"b\": 307, \"a\": 539, \"T\": 1713991378161, \"m\": false, \"M\": true}\n",
      "Partition: 2\n",
      "Offset: 0\n",
      "Message: {\"e\": \"trade\", \"E\": 1713991429451, \"s\": \"BNBBTC\", \"t\": 43014, \"p\": \"0.004122\", \"q\": \"3493\", \"b\": 123, \"a\": 664, \"T\": 1713991429451, \"m\": true, \"M\": true}\n",
      "Partition: 1\n",
      "Offset: 0\n",
      "Message: {\"e\": \"trade\", \"E\": 1713991342890, \"s\": \"BTCUSDT\", \"t\": 97236, \"p\": \"0.006390\", \"q\": \"2551\", \"b\": 69, \"a\": 607, \"T\": 1713991342890, \"m\": true, \"M\": true}\n",
      "Partition: 0\n",
      "Offset: 0\n"
     ]
    }
   ],
   "source": [
    "from confluent_kafka import Consumer, KafkaError, TopicPartition\n",
    "import time\n",
    "\n",
    "# Configure the consumer\n",
    "consumer_config = {\n",
    "    'bootstrap.servers': 'broker:9092',\n",
    "    'group.id': 'group_1',\n",
    "    'auto.offset.reset': 'earliest'\n",
    "}\n",
    "\n",
    "# Initialize the consumer\n",
    "consumer = Consumer(consumer_config)\n",
    "\n",
    "# Subscribe to the topic\n",
    "topic_name = 'trades'\n",
    "consumer.subscribe([topic_name])\n",
    "\n",
    "\n",
    "try:\n",
    "    start_time = time.time()\n",
    "    while True:\n",
    "        if time.time() - start_time > 10:  # Break the loop after 10 seconds\n",
    "            break\n",
    "            \n",
    "        msg = consumer.poll(timeout=1.0)  # Poll for a message (timeout in seconds)\n",
    "        if msg is None:\n",
    "            continue  # No message available within the timeout period\n",
    "        if msg.error():\n",
    "            if msg.error().code() == KafkaError._PARTITION_EOF:\n",
    "                # End of partition event\n",
    "                print(f'Reached end of {msg.partition()} at offset {msg.offset()}')\n",
    "            else:\n",
    "                print(f'Error: {msg.error()}')\n",
    "            continue\n",
    "\n",
    "        # Access and print message details\n",
    "        print(f'Message: {msg.value().decode(\"utf-8\")}')\n",
    "        print(f'Partition: {msg.partition()}')\n",
    "        print(f'Offset: {msg.offset()}')\n",
    "finally:\n",
    "    consumer.close()"
   ]
  }
 ],
 "metadata": {
  "kernelspec": {
   "display_name": "Python 3 (ipykernel)",
   "language": "python",
   "name": "python3"
  },
  "language_info": {
   "codemirror_mode": {
    "name": "ipython",
    "version": 3
   },
   "file_extension": ".py",
   "mimetype": "text/x-python",
   "name": "python",
   "nbconvert_exporter": "python",
   "pygments_lexer": "ipython3",
   "version": "3.9.19"
  }
 },
 "nbformat": 4,
 "nbformat_minor": 5
}
