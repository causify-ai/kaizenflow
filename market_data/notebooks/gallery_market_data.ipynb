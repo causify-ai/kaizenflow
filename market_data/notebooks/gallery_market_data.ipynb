{
 "cells": [
  {
   "cell_type": "code",
   "execution_count": null,
   "id": "e98c9c25",
   "metadata": {},
   "outputs": [],
   "source": [
    "%load_ext autoreload\n",
    "%autoreload 2\n",
    "%matplotlib inline"
   ]
  },
  {
   "cell_type": "code",
   "execution_count": null,
   "id": "53a7ebc6",
   "metadata": {},
   "outputs": [],
   "source": [
    "import datetime\n",
    "import logging\n",
    "\n",
    "import dataflow.system as dtfsys\n",
    "import market_data as mdata\n",
    "import helpers.hdbg as hdbg\n",
    "import helpers.henv as henv\n",
    "import helpers.hprint as hprint\n",
    "import numpy as np\n",
    "import pandas as pd\n",
    "import sklearn.linear_model as sklimod\n",
    "import sklearn.model_selection as skmosel"
   ]
  },
  {
   "cell_type": "code",
   "execution_count": null,
   "id": "ddaadf64",
   "metadata": {},
   "outputs": [],
   "source": [
    "hdbg.init_logger(verbosity=logging.DEBUG)\n",
    "\n",
    "_LOG = logging.getLogger(__name__)\n",
    "\n",
    "_LOG.info(\"%s\", henv.get_system_signature()[0])\n",
    "\n",
    "hprint.config_notebook()"
   ]
  },
  {
   "cell_type": "code",
   "execution_count": null,
   "id": "e0e7f410",
   "metadata": {},
   "outputs": [],
   "source": [
    "import pandas as pd\n",
    "import pytest\n",
    "\n",
    "import im_v2.ccxt.data.client as icdcl\n",
    "import im_v2.common.data.client as icdc\n",
    "import im_v2.common.data.client.test.im_client_test_case as icdctictc\n",
    "import im_v2.crypto_chassis.data.client as iccdc\n",
    "\n",
    "\n",
    "# https://github.com/cryptokaizen/cmamp/pull/2315\n",
    "\n",
    "\n",
    "# Initialize the client.\n",
    "universe_version = \"v4\"\n",
    "resample_1min = False\n",
    "dataset = \"ohlcv\"\n",
    "contract_type = \"futures\"\n",
    "data_snapshot = \"20220620\"\n",
    "im_client = icdcl.get_CcxtHistoricalPqByTileClient_example1(\n",
    "    universe_version,\n",
    "    resample_1min,\n",
    "    dataset,\n",
    "    contract_type,\n",
    "    data_snapshot,\n",
    ")\n",
    "# Set expected values.\n",
    "full_symbols = [\"binance::BTC_USDT\", \"binance::ADA_USDT\"]\n",
    "start_ts = pd.Timestamp(\"2022-05-01 13:00:00+00:00\")\n",
    "end_ts = pd.Timestamp(\"2022-05-01 13:05:00+00:00\")\n",
    "\n",
    "columns = None\n",
    "filter_data_mode = \"assert\"\n",
    "actual_df = im_client.read_data(\n",
    "    full_symbols, start_ts, end_ts, columns, filter_data_mode\n",
    ")"
   ]
  },
  {
   "cell_type": "code",
   "execution_count": null,
   "id": "ccf290e6",
   "metadata": {},
   "outputs": [],
   "source": [
    "symbols = im_client.get_universe()[3:6]\n",
    "display(symbols)"
   ]
  },
  {
   "cell_type": "code",
   "execution_count": null,
   "id": "2ff0476a",
   "metadata": {},
   "outputs": [],
   "source": [
    "asset_ids = im_client.get_asset_ids_from_full_symbols(symbols)\n",
    "print(asset_ids)"
   ]
  },
  {
   "cell_type": "code",
   "execution_count": null,
   "id": "9796e6c7",
   "metadata": {},
   "outputs": [],
   "source": [
    "import market_data.market_data_example as mdmadaex\n",
    "\n",
    "#asset_ids = None\n",
    "columns = None\n",
    "column_remap = None\n",
    "\n",
    "market_data = mdmadaex.get_HistoricalImClientMarketData_example1(\n",
    "    im_client,\n",
    "    asset_ids,\n",
    "    columns,\n",
    "    column_remap)"
   ]
  },
  {
   "cell_type": "code",
   "execution_count": null,
   "id": "ace12a73",
   "metadata": {},
   "outputs": [],
   "source": [
    "start_ts = pd.Timestamp(\"2022-05-01 13:00:00+00:00\")\n",
    "end_ts = pd.Timestamp(\"2022-05-01 13:05:00+00:00\")\n",
    "ts_col_name = \"knowledge_timestamp\"\n",
    "        \n",
    "df = market_data.get_data_for_interval(\n",
    "    start_ts,\n",
    "    end_ts,\n",
    "    ts_col_name,\n",
    "    asset_ids,\n",
    ")"
   ]
  },
  {
   "cell_type": "code",
   "execution_count": null,
   "id": "fb808c22",
   "metadata": {},
   "outputs": [],
   "source": [
    "df.tail()"
   ]
  },
  {
   "cell_type": "code",
   "execution_count": null,
   "id": "9a9e2fa0",
   "metadata": {},
   "outputs": [],
   "source": [
    "data_source_node = dtfsys.HistoricalDataSource(\n",
    "    \"load_prices\",\n",
    "    market_data,\n",
    "    \"end_ts\",\n",
    "    True,\n",
    "    col_names_to_remove=[\"knowledge_timestamp\", \"start_ts\", \"full_symbol\"],\n",
    ")"
   ]
  },
  {
   "cell_type": "code",
   "execution_count": null,
   "id": "386cd481",
   "metadata": {},
   "outputs": [],
   "source": [
    "data = data_source_node.fit()[\"df_out\"]"
   ]
  },
  {
   "cell_type": "code",
   "execution_count": null,
   "id": "d908b4fe",
   "metadata": {},
   "outputs": [],
   "source": [
    "data.tail()"
   ]
  },
  {
   "cell_type": "code",
   "execution_count": null,
   "id": "8a0e081a",
   "metadata": {},
   "outputs": [],
   "source": []
  }
 ],
 "metadata": {
  "kernelspec": {
   "display_name": "Python 3 (ipykernel)",
   "language": "python",
   "name": "python3"
  },
  "language_info": {
   "codemirror_mode": {
    "name": "ipython",
    "version": 3
   },
   "file_extension": ".py",
   "mimetype": "text/x-python",
   "name": "python",
   "nbconvert_exporter": "python",
   "pygments_lexer": "ipython3"
  },
  "toc": {
   "base_numbering": 1,
   "nav_menu": {},
   "number_sections": true,
   "sideBar": true,
   "skip_h1_title": false,
   "title_cell": "Table of Contents",
   "title_sidebar": "Contents",
   "toc_cell": false,
   "toc_position": {},
   "toc_section_display": true,
   "toc_window_display": false
  }
 },
 "nbformat": 4,
 "nbformat_minor": 5
}
