{
 "cells": [
  {
   "cell_type": "code",
   "execution_count": null,
   "id": "e98c9c25",
   "metadata": {},
   "outputs": [],
   "source": [
    "%load_ext autoreload\n",
    "%autoreload 2\n",
    "%matplotlib inline"
   ]
  },
  {
   "cell_type": "code",
   "execution_count": null,
   "id": "53a7ebc6",
   "metadata": {},
   "outputs": [],
   "source": [
    "import logging\n",
    "\n",
    "import pandas as pd\n",
    "\n",
    "import dataflow.system as dtfsys\n",
    "import helpers.hdbg as hdbg\n",
    "import helpers.henv as henv\n",
    "import helpers.hpandas as hpandas\n",
    "import helpers.hprint as hprint"
   ]
  },
  {
   "cell_type": "code",
   "execution_count": null,
   "id": "ddaadf64",
   "metadata": {},
   "outputs": [],
   "source": [
    "hdbg.init_logger(verbosity=logging.DEBUG)\n",
    "\n",
    "_LOG = logging.getLogger(__name__)\n",
    "\n",
    "_LOG.info(\"%s\", henv.get_system_signature()[0])\n",
    "\n",
    "hprint.config_notebook()"
   ]
  },
  {
   "cell_type": "markdown",
   "id": "fa5005a4",
   "metadata": {},
   "source": [
    "# OHLCV market data"
   ]
  },
  {
   "cell_type": "code",
   "execution_count": null,
   "id": "e0e7f410",
   "metadata": {},
   "outputs": [],
   "source": [
    "import pandas as pd\n",
    "\n",
    "import im_v2.ccxt.data.client as icdcl\n",
    "import im_v2.crypto_chassis.data.client as iccdc\n",
    "\n",
    "# Initialize the client.\n",
    "universe_version = \"v4\"\n",
    "dataset = \"ohlcv\"\n",
    "contract_type = \"futures\"\n",
    "data_snapshot = \"20220620\"\n",
    "im_client = icdcl.get_CcxtHistoricalPqByTileClient_example1(\n",
    "    universe_version,\n",
    "    dataset,\n",
    "    contract_type,\n",
    "    data_snapshot,\n",
    ")\n",
    "# Set expected values.\n",
    "full_symbols = [\"binance::BTC_USDT\", \"binance::ADA_USDT\"]\n",
    "start_ts = pd.Timestamp(\"2022-05-01 13:00:00+00:00\")\n",
    "end_ts = pd.Timestamp(\"2022-05-01 13:05:00+00:00\")\n",
    "\n",
    "columns = None\n",
    "filter_data_mode = \"assert\"\n",
    "actual_df = im_client.read_data(\n",
    "    full_symbols, start_ts, end_ts, columns, filter_data_mode\n",
    ")"
   ]
  },
  {
   "cell_type": "code",
   "execution_count": null,
   "id": "ccf290e6",
   "metadata": {},
   "outputs": [],
   "source": [
    "symbols = im_client.get_universe()[3:6]\n",
    "display(symbols)"
   ]
  },
  {
   "cell_type": "code",
   "execution_count": null,
   "id": "2ff0476a",
   "metadata": {},
   "outputs": [],
   "source": [
    "asset_ids = im_client.get_asset_ids_from_full_symbols(symbols)\n",
    "print(asset_ids)"
   ]
  },
  {
   "cell_type": "code",
   "execution_count": null,
   "id": "9796e6c7",
   "metadata": {
    "lines_to_next_cell": 2
   },
   "outputs": [],
   "source": [
    "import market_data.market_data_example as mdmadaex\n",
    "\n",
    "columns = None\n",
    "column_remap = None\n",
    "\n",
    "market_data = mdmadaex.get_HistoricalImClientMarketData_example1(\n",
    "    im_client, asset_ids, columns, column_remap\n",
    ")"
   ]
  },
  {
   "cell_type": "code",
   "execution_count": null,
   "id": "ace12a73",
   "metadata": {},
   "outputs": [],
   "source": [
    "# TODO(*): Document whether we need UTC.\n",
    "start_ts = pd.Timestamp(\"2022-05-01 13:00:00+00:00\")\n",
    "end_ts = pd.Timestamp(\"2022-05-02 13:05:00+00:00\")\n",
    "ts_col_name = \"knowledge_timestamp\"\n",
    "\n",
    "df = market_data.get_data_for_interval(\n",
    "    start_ts,\n",
    "    end_ts,\n",
    "    ts_col_name,\n",
    "    asset_ids,\n",
    ")\n",
    "hpandas.df_to_str(df)"
   ]
  },
  {
   "cell_type": "code",
   "execution_count": null,
   "id": "9a9e2fa0",
   "metadata": {},
   "outputs": [],
   "source": [
    "data_source_node = dtfsys.HistoricalDataSource(\n",
    "    \"load_prices\",\n",
    "    market_data,\n",
    "    \"end_ts\",\n",
    "    True,\n",
    "    col_names_to_remove=[\"knowledge_timestamp\", \"start_ts\", \"full_symbol\"],\n",
    ")\n",
    "data_source_node.set_fit_intervals([(start_ts, end_ts)])"
   ]
  },
  {
   "cell_type": "code",
   "execution_count": null,
   "id": "386cd481",
   "metadata": {},
   "outputs": [],
   "source": [
    "data = data_source_node.fit()[\"df_out\"]\n",
    "hpandas.df_to_str(data)"
   ]
  },
  {
   "cell_type": "markdown",
   "id": "e8e74617",
   "metadata": {},
   "source": [
    "# Stitched OHLCV and bid/ask data"
   ]
  },
  {
   "cell_type": "code",
   "execution_count": null,
   "id": "75790914",
   "metadata": {},
   "outputs": [],
   "source": [
    "universe_version = \"v4\"\n",
    "resample_1min = True\n",
    "contract_type = \"futures\"\n",
    "data_snapshot = \"20220707\"\n",
    "#\n",
    "dataset1 = \"ohlcv\"\n",
    "im_client1 = iccdc.get_CryptoChassisHistoricalPqByTileClient_example1(\n",
    "    universe_version,\n",
    "    resample_1min,\n",
    "    dataset1,\n",
    "    contract_type,\n",
    "    data_snapshot,\n",
    ")\n",
    "#\n",
    "dataset2 = \"bid_ask\"\n",
    "im_client2 = iccdc.get_CryptoChassisHistoricalPqByTileClient_example1(\n",
    "    universe_version,\n",
    "    resample_1min,\n",
    "    dataset2,\n",
    "    contract_type,\n",
    "    data_snapshot,\n",
    ")\n",
    "#\n",
    "asset_ids = [1467591036, 1464553467]\n",
    "columns = None\n",
    "column_remap = None\n",
    "wall_clock_time = None\n",
    "filter_data_mode = \"assert\"\n",
    "#\n",
    "im_client_market_data1 = mdmadaex.get_HistoricalImClientMarketData_example1(\n",
    "    im_client1,\n",
    "    asset_ids,\n",
    "    columns,\n",
    "    column_remap,\n",
    "    wall_clock_time=wall_clock_time,\n",
    "    filter_data_mode=filter_data_mode,\n",
    ")\n",
    "im_client_market_data2 = mdmadaex.get_HistoricalImClientMarketData_example1(\n",
    "    im_client2,\n",
    "    asset_ids,\n",
    "    columns,\n",
    "    column_remap,\n",
    "    wall_clock_time=wall_clock_time,\n",
    "    filter_data_mode=filter_data_mode,\n",
    ")\n",
    "market_data = mdmadaex.get_HorizontalStitchedMarketData_example1(\n",
    "    im_client_market_data1,\n",
    "    im_client_market_data2,\n",
    "    asset_ids,\n",
    "    columns,\n",
    "    column_remap,\n",
    "    wall_clock_time=wall_clock_time,\n",
    "    filter_data_mode=filter_data_mode,\n",
    ")"
   ]
  },
  {
   "cell_type": "code",
   "execution_count": null,
   "id": "ee406171",
   "metadata": {},
   "outputs": [],
   "source": [
    "start_ts = pd.Timestamp(\"2022-05-01 13:00:00+00:00\")\n",
    "end_ts = pd.Timestamp(\"2022-05-02 13:05:00+00:00\")\n",
    "ts_col_name = \"knowledge_timestamp\"\n",
    "\n",
    "df = market_data.get_data_for_interval(\n",
    "    start_ts,\n",
    "    end_ts,\n",
    "    ts_col_name,\n",
    "    asset_ids,\n",
    ")\n",
    "hpandas.df_to_str(df)"
   ]
  },
  {
   "cell_type": "code",
   "execution_count": null,
   "id": "61cb8fc5",
   "metadata": {},
   "outputs": [],
   "source": [
    "data_source_node = dtfsys.HistoricalDataSource(\n",
    "    \"load_prices\",\n",
    "    market_data,\n",
    "    \"end_ts\",\n",
    "    True,\n",
    "    col_names_to_remove=[\"knowledge_timestamp\", \"start_ts\", \"full_symbol\"],\n",
    ")\n",
    "data_source_node.set_fit_intervals([(start_ts, end_ts)])"
   ]
  },
  {
   "cell_type": "code",
   "execution_count": null,
   "id": "186b39e6",
   "metadata": {},
   "outputs": [],
   "source": [
    "data = data_source_node.fit()[\"df_out\"]\n",
    "hpandas.df_to_str(data)"
   ]
  },
  {
   "cell_type": "code",
   "execution_count": null,
   "id": "c0afe606",
   "metadata": {},
   "outputs": [],
   "source": []
  }
 ],
 "metadata": {
  "kernelspec": {
   "display_name": "Python 3 (ipykernel)",
   "language": "python",
   "name": "python3"
  },
  "language_info": {
   "codemirror_mode": {
    "name": "ipython",
    "version": 3
   },
   "file_extension": ".py",
   "mimetype": "text/x-python",
   "name": "python",
   "nbconvert_exporter": "python",
   "pygments_lexer": "ipython3"
  },
  "toc": {
   "base_numbering": 1,
   "nav_menu": {},
   "number_sections": true,
   "sideBar": true,
   "skip_h1_title": false,
   "title_cell": "Table of Contents",
   "title_sidebar": "Contents",
   "toc_cell": false,
   "toc_position": {},
   "toc_section_display": true,
   "toc_window_display": false
  }
 },
 "nbformat": 4,
 "nbformat_minor": 5
}
