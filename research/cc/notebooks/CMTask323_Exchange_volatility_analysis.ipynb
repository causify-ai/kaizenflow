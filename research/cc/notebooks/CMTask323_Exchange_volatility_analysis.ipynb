{
 "cells": [
  {
   "cell_type": "markdown",
   "id": "36f43503",
   "metadata": {},
   "source": [
    "# Imports"
   ]
  },
  {
   "cell_type": "code",
   "execution_count": null,
   "id": "22043ce8",
   "metadata": {},
   "outputs": [],
   "source": [
    "import os\n",
    "\n",
    "import pandas as pd\n",
    "import seaborn as sns\n",
    "from statsmodels.tsa.stattools import adfuller\n",
    "\n",
    "import core.config.config_ as ccocon\n",
    "import core.plotting as cplot\n",
    "import helpers.s3 as hs3\n",
    "import research.cc.statistics as rccsta"
   ]
  },
  {
   "cell_type": "markdown",
   "id": "8cfd3c0f",
   "metadata": {},
   "source": [
    "# Config"
   ]
  },
  {
   "cell_type": "code",
   "execution_count": null,
   "id": "f765b162",
   "metadata": {},
   "outputs": [],
   "source": [
    "def get_cmtask323_config() -> ccocon.Config:\n",
    "    \"\"\"\n",
    "    Get task323-specific config.\n",
    "    \"\"\"\n",
    "    config = ccocon.Config()\n",
    "    # Load parameters.\n",
    "    config.add_subconfig(\"load\")\n",
    "    config[\"load\"][\"aws_profile\"] = \"am\"\n",
    "    config[\"load\"][\"data_dir\"] = os.path.join(hs3.get_path(), \"data\")\n",
    "    # Data parameters.\n",
    "    config.add_subconfig(\"data\")\n",
    "    config[\"data\"][\"data_type\"] = \"OHLCV\"\n",
    "    config[\"data\"][\"universe_version\"] = \"v0_3\"\n",
    "    #        config[\"data\"][\"universe_version\"] = \"v0_1\"\n",
    "    config[\"data\"][\"vendor\"] = \"CCXT\"\n",
    "    # Column names.\n",
    "    config.add_subconfig(\"column_names\")\n",
    "    config[\"column_names\"][\"volume\"] = \"volume\"\n",
    "    config[\"column_names\"][\"currency_pair\"] = \"currency_pair\"\n",
    "    config[\"column_names\"][\"exchange\"] = \"exchange_id\"\n",
    "    config[\"column_names\"][\"close\"] = \"close\"\n",
    "    return config\n",
    "\n",
    "\n",
    "config = get_cmtask323_config()\n",
    "print(config)"
   ]
  },
  {
   "cell_type": "markdown",
   "id": "57c301a2",
   "metadata": {},
   "source": [
    "# Functions"
   ]
  },
  {
   "cell_type": "code",
   "execution_count": null,
   "id": "e58db769",
   "metadata": {},
   "outputs": [],
   "source": [
    "def compute_volatility_for_each_coin(data, freq):\n",
    "    \"\"\"\n",
    "    Loads and transforms each (exchange-coin) dataframe to compute 18-period\n",
    "    ema volatility.\n",
    "\n",
    "    Parameters: DataFrame, resampling frequency\n",
    "    \"\"\"\n",
    "    data[\"date\"] = data.index\n",
    "    new_df = data.groupby(\n",
    "        [\"currency_pair\", \"exchange_id\", pd.Grouper(key=\"date\", freq=freq)]\n",
    "    )[\"close\"].last()\n",
    "    new_df = new_df.pct_change().transform(\n",
    "        lambda x: x.ewm(span=18, adjust=False).std()\n",
    "    )\n",
    "    new_df = new_df.reset_index()\n",
    "    return new_df\n",
    "\n",
    "\n",
    "def daily_close(data, freq):\n",
    "    \"\"\"\n",
    "    Loads and transforms each (exchange-coin) dataframe to compute volatility\n",
    "    for the whole period.\n",
    "\n",
    "    Parameters: DataFrame, resampling frequency\n",
    "    \"\"\"\n",
    "    data[\"date\"] = data.index\n",
    "    new_df = data.groupby(\n",
    "        [\"currency_pair\", \"exchange_id\", pd.Grouper(key=\"date\", freq=freq)]\n",
    "    )[\"close\"].last()\n",
    "    new_df = new_df.reset_index()\n",
    "    return new_df\n",
    "\n",
    "\n",
    "def get_df_with_coin_price_volatility(data, display_plot):\n",
    "    \"\"\"\n",
    "    Unifies volatility values for each coin and plot the graph.\n",
    "\n",
    "    Parameters: DataFrame with computed volatility, boolean value to plot the graph\n",
    "    \"\"\"\n",
    "    vix_df = data.groupby(\n",
    "        [\"currency_pair\", pd.Grouper(key=\"date\", freq=frequency)]\n",
    "    )[\"close\"].mean()\n",
    "    vix_df = vix_df.to_frame()\n",
    "    vix_df.columns = [\"ema_volatility\"]\n",
    "    if display_plot:\n",
    "        sns.set(rc={\"figure.figsize\": (15, 8)})\n",
    "        sns.lineplot(\n",
    "            data=vix_df, x=\"date\", y=\"ema_volatility\", hue=\"currency_pair\"\n",
    "        )\n",
    "    return vix_df\n",
    "\n",
    "\n",
    "def get_overall_returns_volatility(data, display_plot):\n",
    "    \"\"\"\n",
    "    Unifies volatility values for each coin for the whole period and plot the\n",
    "    barplot.\n",
    "\n",
    "    Parameters: DataFrame with computed volatility, boolean value to plot the graph\n",
    "    \"\"\"\n",
    "    close_df = daily_close.groupby(\n",
    "        [\"currency_pair\", pd.Grouper(key=\"date\", freq=frequency)]\n",
    "    )[\"close\"].mean()\n",
    "    rets_df = close_df.groupby([\"currency_pair\"]).pct_change()\n",
    "    std_df = rets_df.groupby([\"currency_pair\"]).std()\n",
    "    if display_plot:\n",
    "        cplot.plot_barplot(\n",
    "            std_df.sort_values(ascending=False),\n",
    "            title=\"Volatility per coin for the whole period (1-day basis, log-scaled)\",\n",
    "            figsize=[15, 7],\n",
    "            yscale=\"log\",\n",
    "        )\n",
    "    return std_df\n",
    "\n",
    "\n",
    "def perform_adf_test(df_daily):\n",
    "    \"\"\"\n",
    "    Performs ADF test to check the stationarity of volatility values\n",
    "    Parameters: Daily DataFrame with computed volatility\n",
    "    \"\"\"\n",
    "    final_result = []\n",
    "    coin_list = df_daily.reset_index()[\"currency_pair\"].unique()\n",
    "    for coin in coin_list:\n",
    "        result = pd.DataFrame()\n",
    "        df = df_daily.loc[[coin]]\n",
    "        df = df[df[\"ema_volatility\"].notna()].copy()\n",
    "        X = df[\"ema_volatility\"].values\n",
    "        test_result = adfuller(X)\n",
    "        result.loc[f\"{coin}\", \"ADF Statistic\"] = test_result[0]\n",
    "        result.loc[f\"{coin}\", \"p-value\"] = test_result[1]\n",
    "        final_result.append(result)\n",
    "    final_result = pd.concat(final_result)\n",
    "    final_result[\"is_unit_root_and_non-stationary (5% sign. level)\"] = (\n",
    "        final_result[\"p-value\"] > 0.05\n",
    "    )\n",
    "    return final_result"
   ]
  },
  {
   "cell_type": "markdown",
   "id": "91f3c95c",
   "metadata": {},
   "source": [
    "# Volatility Analysis"
   ]
  },
  {
   "cell_type": "markdown",
   "id": "e50a0f7f",
   "metadata": {},
   "source": [
    "## 1 day"
   ]
  },
  {
   "cell_type": "code",
   "execution_count": null,
   "id": "5d856861",
   "metadata": {},
   "outputs": [],
   "source": [
    "frequency = \"1D\"\n",
    "compute_daily_vix_ema = lambda data: compute_volatility_for_each_coin(\n",
    "    data, freq=frequency\n",
    ")\n",
    "daily_vix_ema = rccsta.compute_stats_for_universe(config, compute_daily_vix_ema)"
   ]
  },
  {
   "cell_type": "code",
   "execution_count": null,
   "id": "ce58962e",
   "metadata": {},
   "outputs": [],
   "source": [
    "ema_df_daily = get_df_with_coin_price_volatility(daily_vix_ema, display_plot=True)\n",
    "display(ema_df_daily)"
   ]
  },
  {
   "cell_type": "markdown",
   "id": "1f35314a",
   "metadata": {},
   "source": [
    "## 5 min"
   ]
  },
  {
   "cell_type": "code",
   "execution_count": null,
   "id": "53b3dec6",
   "metadata": {},
   "outputs": [],
   "source": [
    "frequency = \"5min\"\n",
    "compute_5min_vix_ema = lambda data: compute_volatility_for_each_coin(\n",
    "    data, freq=frequency\n",
    ")\n",
    "vix_ema_5min = rccsta.compute_stats_for_universe(config, compute_5min_vix_ema)"
   ]
  },
  {
   "cell_type": "code",
   "execution_count": null,
   "id": "ea10dade",
   "metadata": {},
   "outputs": [],
   "source": [
    "ema_df_5min = get_df_with_coin_price_volatility(vix_ema_5min, display_plot=True)\n",
    "display(ema_df_5min)"
   ]
  },
  {
   "cell_type": "markdown",
   "id": "5c937c56",
   "metadata": {},
   "source": [
    "## Volatility for the whole period (1-day frequency)"
   ]
  },
  {
   "cell_type": "code",
   "execution_count": null,
   "id": "f4e36fb1",
   "metadata": {},
   "outputs": [],
   "source": [
    "frequency = \"1D\"\n",
    "compute_daily_close = lambda data: daily_close(data, freq=frequency)\n",
    "daily_close = rccsta.compute_stats_for_universe(config, compute_daily_close)"
   ]
  },
  {
   "cell_type": "code",
   "execution_count": null,
   "id": "9d7155b1",
   "metadata": {},
   "outputs": [],
   "source": [
    "std_df = get_overall_returns_volatility(daily_close, display_plot=True)\n",
    "display(std_df)"
   ]
  },
  {
   "cell_type": "markdown",
   "id": "d012071e",
   "metadata": {},
   "source": [
    "# Test for stationarity of volatility"
   ]
  },
  {
   "cell_type": "code",
   "execution_count": null,
   "id": "df879819",
   "metadata": {},
   "outputs": [],
   "source": [
    "test_results = perform_adf_test(ema_df_daily)\n",
    "display(test_results)"
   ]
  },
  {
   "cell_type": "markdown",
   "id": "5c6d6456",
   "metadata": {},
   "source": [
    "After test results we see that __FIL/USDT__ volatility over 1-day is failed to pass the stationarity test. The graph below confirms the persistence of trend: seems like the coin was too volatile right after the listing and failed to keep the same levels during its trading lifetime."
   ]
  },
  {
   "cell_type": "code",
   "execution_count": null,
   "id": "472cfe3e",
   "metadata": {},
   "outputs": [],
   "source": [
    "sns.lineplot(\n",
    "    data=ema_df_daily.loc[[\"FIL/USDT\"]].reset_index(),\n",
    "    x=\"date\",\n",
    "    y=\"ema_volatility\",\n",
    "    hue=\"currency_pair\",\n",
    ")"
   ]
  }
 ],
 "metadata": {
  "jupytext": {
   "text_representation": {
    "extension": ".py",
    "format_name": "percent",
    "format_version": "1.3",
    "jupytext_version": "1.13.0"
   }
  },
  "kernelspec": {
   "display_name": "Python 3 (ipykernel)",
   "language": "python",
   "name": "python3"
  },
  "language_info": {
   "codemirror_mode": {
    "name": "ipython",
    "version": 3
   },
   "file_extension": ".py",
   "mimetype": "text/x-python",
   "name": "python",
   "nbconvert_exporter": "python",
   "pygments_lexer": "ipython3"
  },
  "toc": {
   "base_numbering": 1,
   "nav_menu": {},
   "number_sections": true,
   "sideBar": true,
   "skip_h1_title": false,
   "title_cell": "Table of Contents",
   "title_sidebar": "Contents",
   "toc_cell": false,
   "toc_position": {},
   "toc_section_display": true,
   "toc_window_display": false
  }
 },
 "nbformat": 4,
 "nbformat_minor": 5
}
