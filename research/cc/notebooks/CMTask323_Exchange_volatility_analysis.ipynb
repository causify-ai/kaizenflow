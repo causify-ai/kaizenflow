{
 "cells": [
  {
   "cell_type": "markdown",
   "id": "36f43503",
   "metadata": {},
   "source": [
    "# Imports"
   ]
  },
  {
   "cell_type": "code",
   "execution_count": null,
   "id": "22043ce8",
   "metadata": {},
   "outputs": [],
   "source": [
    "import logging\n",
    "import os\n",
    "\n",
    "import pandas as pd\n",
    "import seaborn as sns\n",
    "from statsmodels.tsa.stattools import adfuller\n",
    "\n",
    "import core.config.config_ as ccocon\n",
    "import helpers.dbg as hdbg\n",
    "import helpers.env as henv\n",
    "import helpers.printing as hprintin\n",
    "import helpers.s3 as hs3\n",
    "import im.data.universe as imdauni\n",
    "import research.cc.statistics as rccsta\n",
    "import research.cc.volume as rccvol\n",
    "import im.ccxt.data.load.loader as imccdaloloa\n",
    "\n",
    "import core.plotting as cplot\n",
    "import numpy as np"
   ]
  },
  {
   "cell_type": "markdown",
   "id": "8cfd3c0f",
   "metadata": {},
   "source": [
    "# Config"
   ]
  },
  {
   "cell_type": "code",
   "execution_count": null,
   "id": "f765b162",
   "metadata": {},
   "outputs": [],
   "source": [
    "def get_cmtask323_config() -> ccocon.Config:\n",
    "    \"\"\"\n",
    "    Get task323-specific config.\n",
    "    \"\"\"\n",
    "    config = ccocon.Config()\n",
    "    # Load parameters.\n",
    "    config.add_subconfig(\"load\")\n",
    "    config[\"load\"][\"aws_profile\"] = \"am\"\n",
    "    config[\"load\"][\"data_dir\"] = os.path.join(hs3.get_path(), \"data\")\n",
    "    # Data parameters.\n",
    "    config.add_subconfig(\"data\")\n",
    "    config[\"data\"][\"data_type\"] = \"OHLCV\"\n",
    "    config[\"data\"][\"universe_version\"] = \"v0_3\"\n",
    "#        config[\"data\"][\"universe_version\"] = \"v0_1\"\n",
    "    config[\"data\"][\"vendor\"] = \"CCXT\"\n",
    "    # Column names.\n",
    "    config.add_subconfig(\"column_names\")\n",
    "    config[\"column_names\"][\"volume\"] = \"volume\"\n",
    "    config[\"column_names\"][\"currency_pair\"] = \"currency_pair\"\n",
    "    config[\"column_names\"][\"exchange\"] = \"exchange_id\"\n",
    "    config[\"column_names\"][\"close\"] = \"close\"\n",
    "    return config\n",
    "\n",
    "\n",
    "config = get_cmtask323_config()\n",
    "print(config)"
   ]
  },
  {
   "cell_type": "markdown",
   "id": "2f3ae8bb",
   "metadata": {},
   "source": [
    "# Functions"
   ]
  },
  {
   "cell_type": "code",
   "execution_count": null,
   "id": "23b6176a",
   "metadata": {},
   "outputs": [],
   "source": [
    "def get_initial_df_with_close_prices(coins, exchange, is_notional_volume):\n",
    "    \"\"\"\n",
    "    Return DataFrame with the volume of all coins for exchange with initial timestamps\n",
    "    Parameters: list of coins, exchange name\n",
    "    \"\"\"\n",
    "    result = []\n",
    "    loader = imccdaloloa.CcxtLoader(root_dir=\"s3://alphamatic-data/data\", aws_profile=\"am\")\n",
    "    for coin in coins:\n",
    "        df = loader.read_data_from_filesystem(\n",
    "            exchange_id=exchange, currency_pair=coin, data_type=\"OHLCV\"\n",
    "        )\n",
    "        df = df[[\"close\", \"currency_pair\", \"exchange_id\"]]\n",
    "        df[\"date\"] = df.index\n",
    "        df = df.reset_index(drop=True)\n",
    "        result.append(df)\n",
    "    final_result = pd.concat(result)\n",
    "    return final_result\n",
    "\n",
    "def get_df_with_price_volatility(df, freq):\n",
    "    resample = df.groupby([\"currency_pair\", pd.Grouper(key=\"date\", freq=freq)])[\"close\"].last()\n",
    "    resample = resample.to_frame()\n",
    "    resample[\"rets\"] = resample.groupby([\"currency_pair\"]).close.pct_change()\n",
    "    resample['std_18_ema_simple'] = resample.groupby(['currency_pair'])['rets'].transform(lambda x: x.ewm(span=18, adjust=False).std())\n",
    "    rets_for_plot = resample.reset_index()\n",
    "    sns.set(rc={'figure.figsize':(15,8)})\n",
    "    sns.lineplot(data=rets_for_plot, x='date', y='std_18_ema_simple', hue=\"currency_pair\")\n",
    "    return resample\n",
    "\n",
    "def perform_adf_test(df_daily, coin_list):\n",
    "    final_result = []\n",
    "    for coin in coin_list:\n",
    "            result = pd.DataFrame()\n",
    "            df = df_daily.loc[[f\"{coin}\"]]\n",
    "            df[df[\"std_18_ema_simple\"].notna()]\n",
    "            X = df[df[\"std_18_ema_simple\"].notna()][\"std_18_ema_simple\"].values\n",
    "            test_result = adfuller(X)\n",
    "            result.loc[f\"{coin}\", \"ADF Statistic\"] = test_result[0]\n",
    "            result.loc[f\"{coin}\", \"p-value\"] = test_result[1]\n",
    "#            result.loc[f\"{coin}\", \"is_unit_root_and_non-stationary (5% sign. level)\"] = (result[\"p-value\"]>0.05)\n",
    "            final_result.append(result)\n",
    "    final_result = pd.concat(final_result)\n",
    "    final_result[\"is_unit_root_and_non-stationary (5% sign. level)\"] = (final_result[\"p-value\"]>0.05)\n",
    "    return final_result"
   ]
  },
  {
   "cell_type": "markdown",
   "id": "223e9006",
   "metadata": {},
   "source": [
    "# Load the data"
   ]
  },
  {
   "cell_type": "code",
   "execution_count": null,
   "id": "425d8e16",
   "metadata": {},
   "outputs": [],
   "source": [
    "# get the list of all coin paires for each exchange\n",
    "binance_coins = imdauni.get_trade_universe(\"v0_3\")[\"CCXT\"][\"binance\"]\n",
    "ftx_coins = imdauni.get_trade_universe(\"v0_3\")[\"CCXT\"][\"ftx\"]\n",
    "gateio_coins = imdauni.get_trade_universe(\"v0_3\")[\"CCXT\"][\"gateio\"]\n",
    "kucoin_coins = imdauni.get_trade_universe(\"v0_3\")[\"CCXT\"][\"kucoin\"]\n",
    "\n",
    "# load all the dataframes\n",
    "binance = get_initial_df_with_close_prices(binance_coins, \"binance\", is_notional_volume=True)\n",
    "ftx = get_initial_df_with_close_prices(ftx_coins, \"ftx\", is_notional_volume=True)\n",
    "gateio = get_initial_df_with_close_prices(gateio_coins, \"gateio\", is_notional_volume=True)\n",
    "kucoin = get_initial_df_with_close_prices(kucoin_coins, \"kucoin\", is_notional_volume=True)\n",
    "\n",
    "# construct unique DataFrame\n",
    "prices_df = pd.concat([binance, ftx, gateio, kucoin])\n",
    "prices_df.head(3)"
   ]
  },
  {
   "cell_type": "markdown",
   "id": "46e3d037",
   "metadata": {},
   "source": [
    "# Volatility Analysis"
   ]
  },
  {
   "cell_type": "markdown",
   "id": "a92fb76b",
   "metadata": {},
   "source": [
    "## 1 day"
   ]
  },
  {
   "cell_type": "code",
   "execution_count": null,
   "id": "0f38a795",
   "metadata": {},
   "outputs": [],
   "source": [
    "ema_df_daily = get_df_with_price_volatility(prices_df, \"1D\")\n",
    "ema_df_daily"
   ]
  },
  {
   "cell_type": "code",
   "execution_count": null,
   "id": "60e702be",
   "metadata": {},
   "outputs": [],
   "source": [
    "cplot.plot_barplot(\n",
    "    ema_df_daily.groupby([\"currency_pair\"])[\"rets\"].std().sort_values(ascending=False),\n",
    "    title=\"Volatility per coin for the whole period (1-day basis, log-scaled)\",\n",
    "    figsize=[15, 7],\n",
    "    yscale=\"log\",\n",
    ")"
   ]
  },
  {
   "cell_type": "markdown",
   "id": "8961dc4d",
   "metadata": {},
   "source": [
    "## 5 min"
   ]
  },
  {
   "cell_type": "code",
   "execution_count": null,
   "id": "3482a22a",
   "metadata": {},
   "outputs": [],
   "source": [
    "ema_df_5min = get_df_with_price_volatility(prices_df, \"5min\")\n",
    "ema_df_5min"
   ]
  },
  {
   "cell_type": "code",
   "execution_count": null,
   "id": "4f211d75",
   "metadata": {},
   "outputs": [],
   "source": [
    "cplot.plot_barplot(\n",
    "    ema_df_5min.groupby([\"currency_pair\"])[\"rets\"].std().sort_values(ascending=False),\n",
    "    title=\"Volatility per coin for the whole period (5min basis, log-scaled)\",\n",
    "    figsize=[15, 7],\n",
    "    yscale=\"log\",\n",
    ")"
   ]
  },
  {
   "cell_type": "markdown",
   "id": "82ec3ed2",
   "metadata": {},
   "source": [
    "One can notice that volatility distribution across coins is pretty stable if comparing between 1-day and 5-min sampling periods."
   ]
  },
  {
   "cell_type": "markdown",
   "id": "b4480beb",
   "metadata": {},
   "source": [
    "## 1min"
   ]
  },
  {
   "cell_type": "code",
   "execution_count": null,
   "id": "297cec89",
   "metadata": {},
   "outputs": [],
   "source": [
    "#ema_df_1min = get_df_with_price_volatility(prices_df, \"1min\")\n",
    "#ema_df_1min"
   ]
  },
  {
   "cell_type": "code",
   "execution_count": null,
   "id": "87686b8a",
   "metadata": {},
   "outputs": [],
   "source": [
    "#cplot.plot_barplot(\n",
    "#    ema_df_1min.groupby([\"currency_pair\"])[\"rets\"].std().sort_values(ascending=False),\n",
    "#    title=\"Volatility per coin for the whole period (1min basis, log-scaled)\",\n",
    "#    figsize=[15, 7],\n",
    "#    yscale=\"log\",\n",
    "#)"
   ]
  },
  {
   "cell_type": "markdown",
   "id": "9447b2fd",
   "metadata": {},
   "source": [
    "# Test for stationarity of volatility"
   ]
  },
  {
   "cell_type": "code",
   "execution_count": null,
   "id": "f4f28680",
   "metadata": {},
   "outputs": [],
   "source": [
    "coin_list = ema_df_daily.reset_index()[\"currency_pair\"].unique()\n",
    "test_results = perform_adf_test(ema_df_daily, coin_list)\n",
    "test_results"
   ]
  },
  {
   "cell_type": "markdown",
   "id": "80d2dcd8",
   "metadata": {},
   "source": [
    "After test results we see that __FIL/USDT__ volatility over 1-day is failed to pass the stationarity test. The graph below confirms the persistence of trend: seems like the coin was too volatile right after the listing and failed to keep the same levels during its trading lifetime."
   ]
  },
  {
   "cell_type": "code",
   "execution_count": null,
   "id": "9a9fd3af",
   "metadata": {},
   "outputs": [],
   "source": [
    "sns.lineplot(data=ema_df_daily.loc[[\"FIL/USDT\"]].reset_index(), x='date', y='std_18_ema_simple', hue=\"currency_pair\")"
   ]
  }
 ],
 "metadata": {
  "jupytext": {
   "text_representation": {
    "extension": ".py",
    "format_name": "percent",
    "format_version": "1.3",
    "jupytext_version": "1.13.0"
   }
  },
  "kernelspec": {
   "display_name": "Python 3 (ipykernel)",
   "language": "python",
   "name": "python3"
  },
  "language_info": {
   "codemirror_mode": {
    "name": "ipython",
    "version": 3
   },
   "file_extension": ".py",
   "mimetype": "text/x-python",
   "name": "python",
   "nbconvert_exporter": "python",
   "pygments_lexer": "ipython3"
  },
  "toc": {
   "base_numbering": 1,
   "nav_menu": {},
   "number_sections": true,
   "sideBar": true,
   "skip_h1_title": false,
   "title_cell": "Table of Contents",
   "title_sidebar": "Contents",
   "toc_cell": false,
   "toc_position": {},
   "toc_section_display": true,
   "toc_window_display": false
  }
 },
 "nbformat": 4,
 "nbformat_minor": 5
}
