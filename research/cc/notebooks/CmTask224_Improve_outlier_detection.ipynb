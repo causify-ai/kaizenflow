{
 "cells": [
  {
   "cell_type": "markdown",
   "id": "6c7d4ad7",
   "metadata": {},
   "source": [
    "# Description"
   ]
  },
  {
   "cell_type": "markdown",
   "id": "865f664a",
   "metadata": {},
   "source": [
    "This notebook explores approaches to detect outliers in crypto data."
   ]
  },
  {
   "cell_type": "markdown",
   "id": "743eba77",
   "metadata": {},
   "source": [
    "# Imports"
   ]
  },
  {
   "cell_type": "code",
   "execution_count": null,
   "id": "6541f5db",
   "metadata": {},
   "outputs": [],
   "source": [
    "import logging\n",
    "import os\n",
    "\n",
    "import pandas as pd\n",
    "\n",
    "import core.config.config_ as ccocon\n",
    "import helpers.dbg as hdbgremove_rolling_outliers\n",
    "import helpers.env as henv\n",
    "import helpers.printing as hprintin\n",
    "import helpers.s3 as hs3\n",
    "import im.ccxt.data.load.loader as cdlloa\n",
    "import im.data.universe as imdauni\n",
    "import research.cc.statistics as rccsta"
   ]
  },
  {
   "cell_type": "code",
   "execution_count": null,
   "id": "0ac98ec8",
   "metadata": {},
   "outputs": [],
   "source": [
    "hdbg.init_logger(verbosity=logging.INFO)\n",
    "\n",
    "_LOG = logging.getLogger(__name__)\n",
    "\n",
    "_LOG.info(\"%s\", henv.get_system_signature()[0])\n",
    "\n",
    "hprintin.config_notebook()"
   ]
  },
  {
   "cell_type": "markdown",
   "id": "4198a7c0",
   "metadata": {},
   "source": [
    "# Functions"
   ]
  },
  {
   "cell_type": "code",
   "execution_count": null,
   "id": "d26b25a0",
   "metadata": {},
   "outputs": [],
   "source": [
    "def remove_outlier_at_index(\n",
    "    srs: pd.Series,\n",
    "    z_score_boundary: int,\n",
    "    z_score_window_size: int,\n",
    "    index_to_check: int,\n",
    ") -> pd.Series:\n",
    "    \"\"\"\n",
    "    Check if a series value at index is an outlier and remove it if so.\n",
    "    \n",
    "    Index should be a row of positive integers like 0, 1, 2, etc. \n",
    "    \n",
    "    Z-score window indices are adjusting with respect to its size, the size of input\n",
    "    and index to check.\n",
    "    \n",
    "    Z-score window size is an integer number of index steps that will be included\n",
    "    in Z-score computation and outlier detection.\n",
    "\n",
    "    :param srs: input series\n",
    "    :param z_score_boundary: boundary value to check for outlier's Z-score\n",
    "    :param z_score_window_size: size of the window to compute Z-score for\n",
    "    :param index_to_check: index of a value to check\n",
    "    :return: input series with removed value at given index if it was considered an outlier\n",
    "    \"\"\"\n",
    "    # Set window indices. \n",
    "    window_first_index = max(0, index_to_check - z_score_window_size)\n",
    "    window_last_index = max(index_to_check, window_first_index + z_score_window_size)\n",
    "    # Verify that distance between window indices equals Z-score window size\n",
    "    # and that index to check is laying between these indices.\n",
    "    hdbg.dassert_eq(z_score_window_size, window_last_index - window_first_index)\n",
    "    hdbg.dassert_lte(window_first_index, index_to_check)\n",
    "    hdbg.dassert_lte(index_to_check, window_last_index)\n",
    "    # Get a window to compute Z-score for.\n",
    "    window_srs = srs[window_first_index : window_last_index].copy()\n",
    "    # Compute Z-score of a value at index.\n",
    "    z_score = (srs[index_to_check] - window_srs.mean()) / window_srs.std()\n",
    "    # Drop the value if its Z-score is None or laying beyond the specified boundaries.\n",
    "    if not abs(z_score) <= z_score_boundary:\n",
    "        srs = srs.drop([index_to_check]).copy()\n",
    "    return srs\n",
    "\n",
    "\n",
    "def remove_rolling_outliers(\n",
    "    df: pd.DataFrame,\n",
    "    col: str,\n",
    "    z_score_boundary: int,\n",
    "    z_score_window: int,\n",
    ") -> pd.DataFrame:\n",
    "    \"\"\"\n",
    "    Remove outliers using a rolling window.\n",
    "    \n",
    "    Outliers are being removed consequtively after every window check.\n",
    "    \n",
    "    Z-score window indices are adjusting with respect to its size, the size of input\n",
    "    and index to check.\n",
    "    \n",
    "    Z-score window size is an integer number of index steps that will be included\n",
    "    in Z-score computation and outlier detection.\n",
    "\n",
    "    :param srs: input dataframe\n",
    "    :param col: column to check for outliers\n",
    "    :param z_score_boundary: Z-score boundary to check the value\n",
    "    :param z_score_window: size of the window to compute Z-score for\n",
    "    :return: dataframe with removed outliers\n",
    "    \"\"\"\n",
    "    # If index is a timestamp, reset it and name accordingly.\n",
    "    if isinstance(df.index, pd.DatetimeIndex):\n",
    "        df = df.reset_index().rename(columns={\"index\":\"timestamp\"})\n",
    "    hdbg.dassert_in(\"timestamp\", df.columns)\n",
    "    # Get a series to detect outliers in.\n",
    "    price_srs = df[col].copy()\n",
    "    # Iterate over series indices.\n",
    "    for index_ in price_srs.index:\n",
    "        # For every index check if its value is an outlier and\n",
    "        # remove it from the series if so.\n",
    "        price_srs = remove_outlier_at_index(\n",
    "            price_srs, z_score_boundary, z_score_window, index_\n",
    "        )\n",
    "    # Get dataframe rows that correspond to the non-outliers indices.\n",
    "    clean_df = df[df.index.isin(price_srs.index)].copy()\n",
    "    # Set timestamp as index.\n",
    "    clean_df = clean_df.set_index(\"timestamp\")\n",
    "    return clean_df"
   ]
  },
  {
   "cell_type": "code",
   "execution_count": null,
   "id": "2e75dcd5",
   "metadata": {},
   "outputs": [],
   "source": [
    "root_dir = \"s3://alphamatic-data/data\"\n",
    "сcxt_loader = cdlloa.CcxtLoader(root_dir=root_dir, aws_profile=\"am\")\n",
    "data = сcxt_loader.read_data_from_filesystem(\"kucoin\", \"ETH/USDT\", \"ohlcv\")\n",
    "data.head()"
   ]
  },
  {
   "cell_type": "markdown",
   "id": "c1795ee1",
   "metadata": {},
   "source": [
    "The problem with the proposed approach is that it is very slow - it takes ~5.7 second to process a chunk with 20.000 rows while the original data size is 75 times higher (1.500.000 / 20.000) which results to ~7 min per exchange-currency data."
   ]
  },
  {
   "cell_type": "code",
   "execution_count": null,
   "id": "49b07d3d",
   "metadata": {},
   "outputs": [],
   "source": [
    "data_chunk = data.tail(20000).copy()"
   ]
  },
  {
   "cell_type": "code",
   "execution_count": null,
   "id": "4c829104",
   "metadata": {},
   "outputs": [],
   "source": [
    "%%time\n",
    "clean_data_chunk = remove_rolling_outliers(data_chunk, \"close\", 3, 60)"
   ]
  },
  {
   "cell_type": "code",
   "execution_count": null,
   "id": "79798b59",
   "metadata": {},
   "outputs": [],
   "source": [
    "print(len(clean_data_chunk))\n",
    "clean_data_chunk.head()"
   ]
  },
  {
   "cell_type": "code",
   "execution_count": null,
   "id": "74c1c277",
   "metadata": {},
   "outputs": [],
   "source": [
    "outliers = data_chunk[~data_chunk.index.isin(clean_data_chunk.index)].copy()\n",
    "#\n",
    "print(len(outliers))\n",
    "outliers"
   ]
  },
  {
   "cell_type": "code",
   "execution_count": null,
   "id": "08f9e26f",
   "metadata": {},
   "outputs": [],
   "source": []
  }
 ],
 "metadata": {
  "jupytext": {
   "text_representation": {
    "extension": ".py",
    "format_name": "percent",
    "format_version": "1.3",
    "jupytext_version": "1.13.0"
   }
  },
  "kernelspec": {
   "display_name": "Python 3 (ipykernel)",
   "language": "python",
   "name": "python3"
  },
  "language_info": {
   "codemirror_mode": {
    "name": "ipython",
    "version": 3
   },
   "file_extension": ".py",
   "mimetype": "text/x-python",
   "name": "python",
   "nbconvert_exporter": "python",
   "pygments_lexer": "ipython3"
  },
  "toc": {
   "base_numbering": 1,
   "nav_menu": {},
   "number_sections": true,
   "sideBar": true,
   "skip_h1_title": false,
   "title_cell": "Table of Contents",
   "title_sidebar": "Contents",
   "toc_cell": false,
   "toc_position": {},
   "toc_section_display": true,
   "toc_window_display": false
  }
 },
 "nbformat": 4,
 "nbformat_minor": 5
}
