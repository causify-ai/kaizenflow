{
 "cells": [
  {
   "cell_type": "markdown",
   "id": "ad727d72",
   "metadata": {},
   "source": [
    "# Description"
   ]
  },
  {
   "cell_type": "markdown",
   "id": "7303a69b",
   "metadata": {},
   "source": [
    "This notebook is used to find currencies that are exactly the same in our universe."
   ]
  },
  {
   "cell_type": "markdown",
   "id": "06f9851e",
   "metadata": {},
   "source": [
    "# Imports"
   ]
  },
  {
   "cell_type": "code",
   "execution_count": null,
   "id": "e3e05312",
   "metadata": {},
   "outputs": [],
   "source": [
    "import logging\n",
    "import os\n",
    "from typing import Dict, List, Union\n",
    "\n",
    "import numpy as np\n",
    "import pandas as pd\n",
    "import seaborn as sns\n",
    "\n",
    "import core.config.config_ as ccocon\n",
    "import core.plotting as cplo\n",
    "import core.statistics as csta\n",
    "import helpers.dbg as hdbg\n",
    "import helpers.env as henv\n",
    "import helpers.hpandas as hhpandas\n",
    "import helpers.printing as hprintin\n",
    "import helpers.s3 as hs3\n",
    "import im.ccxt.data.load.loader as imccdaloloa\n",
    "import im.data.universe as imdauni"
   ]
  },
  {
   "cell_type": "code",
   "execution_count": null,
   "id": "a84be408",
   "metadata": {},
   "outputs": [],
   "source": [
    "hdbg.init_logger(verbosity=logging.INFO)\n",
    "\n",
    "_LOG = logging.getLogger(__name__)\n",
    "\n",
    "_LOG.info(\"%s\", henv.get_system_signature()[0])\n",
    "\n",
    "hprintin.config_notebook()"
   ]
  },
  {
   "cell_type": "markdown",
   "id": "4ec75999",
   "metadata": {},
   "source": [
    "# Config"
   ]
  },
  {
   "cell_type": "code",
   "execution_count": null,
   "id": "4361a6f6",
   "metadata": {},
   "outputs": [],
   "source": [
    "def get_config() -> ccocon.Config:\n",
    "    \"\"\"\n",
    "    Get config that controls parameters.\n",
    "    \"\"\"\n",
    "    config = ccocon.Config()\n",
    "    # Load parameters.\n",
    "    config.add_subconfig(\"load\")\n",
    "    config[\"load\"][\"aws_profile\"] = \"am\"\n",
    "    config[\"load\"][\"data_dir\"] = os.path.join(hs3.get_path(), \"data\")\n",
    "    # Data parameters.\n",
    "    config.add_subconfig(\"data\")\n",
    "    config[\"data\"][\"close_price_col_name\"] = \"close\"\n",
    "    config[\"data\"][\"freq\"] = \"T\"\n",
    "    return config\n",
    "\n",
    "\n",
    "config = get_config()\n",
    "print(config)"
   ]
  },
  {
   "cell_type": "markdown",
   "id": "8a39bc63",
   "metadata": {},
   "source": [
    "# Functions"
   ]
  },
  {
   "cell_type": "code",
   "execution_count": null,
   "id": "866cb83b",
   "metadata": {},
   "outputs": [],
   "source": [
    "def find_longest_not_nan_sequence(data: Union[pd.Series, pd.DataFrame]):\n",
    "    \"\"\"\n",
    "    Find the longest sequence of not-NaN values in a series or dataframe.\n",
    "\n",
    "    For a dataframe the longest sequence of rows with no NaN values is returned.\n",
    "\n",
    "    :param data: input series or dataframe\n",
    "    :return: longest sequence of not-NaN values\n",
    "    \"\"\"\n",
    "    # Verify that index is monotonically increasing.\n",
    "    hhpandas.dassert_strictly_increasing_index(data)\n",
    "    # Get index frequency.\n",
    "    freq = pd.infer_freq(data.index)\n",
    "    # Get indices of only not-NaN values.\n",
    "    not_nan_index = np.array(data.dropna().index)\n",
    "    # Get a mask to distinguish not-NaN values that are further from their\n",
    "    # not-NaN precedent than 1 frequency time step.\n",
    "    mask = np.where(np.diff(not_nan_index) != pd.Timedelta(1, freq))[0] + 1\n",
    "    # Get the longest monotonically increasing sequence of indices.\n",
    "    longest_not_nan_index = max(np.split(not_nan_index, mask), key=len)\n",
    "    # Get the longest sequence of not-NaN values.\n",
    "    longest_not_nan_seq = data.loc[longest_not_nan_index].copy()\n",
    "    return longest_not_nan_seq\n",
    "\n",
    "\n",
    "def compute_longest_not_nan_sequence_stats(df: pd.DataFrame):\n",
    "    \"\"\"\n",
    "    Compute stats about the longest not-NaN sequence in each dataframe column.\n",
    "\n",
    "    :param df: input dataframe\n",
    "    :return: stats dataframe\n",
    "    \"\"\"\n",
    "    # Initiate results dict.\n",
    "    res_dict = {}\n",
    "    # Iterate over each series in columns.\n",
    "    for colname in df.columns:\n",
    "        col_srs = df[colname].copy()\n",
    "        # Remove leading and trailing NaNs.\n",
    "        first_idx = col_srs.first_valid_index()\n",
    "        last_idx = col_srs.last_valid_index()\n",
    "        col_srs = col_srs[first_idx:last_idx].copy()\n",
    "        # Get the longest not-NaN sequence in a series.\n",
    "        longest_not_nan_seq = find_longest_not_nan_sequence(col_srs)\n",
    "        # Compute necessary stats and put in a list.\n",
    "        stats = [\n",
    "            100 * (1 - csta.compute_frac_nan(col_srs)),\n",
    "            (last_idx - first_idx).days,\n",
    "            100 * (len(longest_not_nan_seq) / len(col_srs)),\n",
    "            longest_not_nan_seq.index[0],\n",
    "            longest_not_nan_seq.index[-1],\n",
    "        ]\n",
    "        # Append stats list to the result dict under a column name key.\n",
    "        res_dict[colname] = stats\n",
    "    # Build a dataframe from the result dict.\n",
    "    res_df = pd.DataFrame.from_dict(\n",
    "        res_dict,\n",
    "        orient=\"index\",\n",
    "        columns=[\n",
    "            \"coverage\",\n",
    "            \"longest_seq_days_available\",\n",
    "            \"share_of_longest_seq\",\n",
    "            \"longest_seq_start_date\",\n",
    "            \"longest_seq_end_date\",\n",
    "        ],\n",
    "    )\n",
    "    # Sort by coverage and share of longest not-NaN sequence.\n",
    "    res_df = res_df.sort_values(by=[\"coverage\", \"share_of_longest_seq\"])\n",
    "    return res_df\n",
    "\n",
    "\n",
    "def get_ccxt_price_df(\n",
    "    ccxt_universe: Dict[str, List[str]],\n",
    "    ccxt_loader: imccdaloloa.CcxtLoader,\n",
    "    config: ccocon.Config,\n",
    "):\n",
    "    \"\"\"\n",
    "    Read price data from CCXT for a given universe using the given loader.\n",
    "\n",
    "    :param ccxt_universe: CCXT trade universe\n",
    "    :param ccxt_loader: CCXT loader\n",
    "    :param config: parameters config\n",
    "    :return: price data for a given universe\n",
    "    \"\"\"\n",
    "    # Initialize lists of column names and returns series.\n",
    "    colnames = []\n",
    "    price_srs_list = []\n",
    "    # Iterate over exchange ids and currency pairs.\n",
    "    for exchange_id in ccxt_universe:\n",
    "        for curr_pair in ccxt_universe[exchange_id]:\n",
    "            # Construct a colname from exchange id and currency pair.\n",
    "            colname = \" \".join([exchange_id, curr_pair])\n",
    "            colnames.append(colname)\n",
    "            # Extract historical data.\n",
    "            data = ccxt_loader.read_data_from_filesystem(\n",
    "                exchange_id=exchange_id,\n",
    "                currency_pair=curr_pair,\n",
    "                data_type=\"OHLCV\",\n",
    "            )\n",
    "            # TODO(Dan): Deprecate after CmTask298 is resolved.\n",
    "            # Drop duplicates.\n",
    "            data = data.drop_duplicates()\n",
    "            # Get series of prices and append to the list.\n",
    "            price_srs = data[config[\"data\"][\"close_price_col_name\"]]\n",
    "            price_srs_list.append(price_srs)\n",
    "    # Construct a dataframe and assign column names.\n",
    "    df = pd.concat(price_srs_list, axis=1)\n",
    "    df.columns = colnames\n",
    "    # Resample to the specified frequency.\n",
    "    df = hhpandas.resample_df(df, config[\"data\"][\"freq\"])\n",
    "    return df"
   ]
  },
  {
   "cell_type": "markdown",
   "id": "07deef61",
   "metadata": {},
   "source": [
    "# Find the longest not NaN sequence in return series and narrow down trade universe"
   ]
  },
  {
   "cell_type": "code",
   "execution_count": null,
   "id": "a9c08691",
   "metadata": {},
   "outputs": [],
   "source": [
    "ccxt_loader = imccdaloloa.CcxtLoader(\n",
    "    root_dir=config[\"load\"][\"data_dir\"], aws_profile=config[\"load\"][\"aws_profile\"]\n",
    ")"
   ]
  },
  {
   "cell_type": "code",
   "execution_count": null,
   "id": "10e04671",
   "metadata": {},
   "outputs": [],
   "source": [
    "ccxt_universe = imdauni.get_trade_universe()[\"CCXT\"]\n",
    "ccxt_universe"
   ]
  },
  {
   "cell_type": "code",
   "execution_count": null,
   "id": "791f52d2",
   "metadata": {},
   "outputs": [],
   "source": [
    "df_price = get_ccxt_price_df(ccxt_universe, ccxt_loader, config)\n",
    "df_price.head(3)"
   ]
  },
  {
   "cell_type": "code",
   "execution_count": null,
   "id": "8a915df2",
   "metadata": {},
   "outputs": [],
   "source": [
    "df_price.describe().round(2)"
   ]
  },
  {
   "cell_type": "code",
   "execution_count": null,
   "id": "2b7be928",
   "metadata": {},
   "outputs": [],
   "source": [
    "df_price.head()"
   ]
  },
  {
   "cell_type": "markdown",
   "id": "93e4ac9f",
   "metadata": {},
   "source": [
    "Below is a code chunk that I did not factor out since it rather should be a part of some stats function like `compute_start_end_table()` from `CMTask232_compute_start_end_table.ipynb`.<br>\n",
    "\n",
    "This code is applying `find_longest_not_nan_sequence()` to all the gathered price series and outputs the longest not-NaN sequence time interval, share of its length to the length of original series and coverage.<br>\n",
    "\n",
    "Looking at the results we can see that all the exchanges except for Bitfinex have significantly big longest not-NaN sequence (>13% at least) in combine with high data coverage (>85%). Bitfinex has a very low data coverage and its longest not-NaN sequences are less than 1% compare to the original data length which means that Bitfinex data spottiness is too scattered and we should exclude it from our analysis until we get clearer data for it."
   ]
  },
  {
   "cell_type": "code",
   "execution_count": null,
   "id": "c64cf152",
   "metadata": {},
   "outputs": [],
   "source": [
    "df_stats = compute_longest_not_nan_sequence_stats(df_price)\n",
    "df_stats"
   ]
  },
  {
   "cell_type": "code",
   "execution_count": null,
   "id": "d9af680c",
   "metadata": {},
   "outputs": [],
   "source": [
    "# Remove observations related to Bitfinex.\n",
    "colnames = [col for col in df_price if \"bitfinex\" not in col]\n",
    "df_price = df_price[colnames].copy()"
   ]
  },
  {
   "cell_type": "markdown",
   "id": "843ede26",
   "metadata": {},
   "source": [
    "# Find same currencies for CCXT"
   ]
  },
  {
   "cell_type": "code",
   "execution_count": null,
   "id": "e40247fa",
   "metadata": {},
   "outputs": [],
   "source": [
    "df_returns = df_price.pct_change()\n",
    "df_returns.head(3)"
   ]
  },
  {
   "cell_type": "code",
   "execution_count": null,
   "id": "2bd5cbf4",
   "metadata": {},
   "outputs": [],
   "source": [
    "corr_matrix = df_returns.corr()\n",
    "_ = cplo.plot_heatmap(corr_matrix)"
   ]
  },
  {
   "cell_type": "markdown",
   "id": "9aa1769d",
   "metadata": {},
   "source": [
    "`cluster_and_select()` distinguishes clusters but some very highly correlated stable coins are clustered together so it seems like that we cannot rely on dendrodram and clustering alone."
   ]
  },
  {
   "cell_type": "code",
   "execution_count": null,
   "id": "e4b8c407",
   "metadata": {},
   "outputs": [],
   "source": [
    "_ = cplo.cluster_and_select(df_returns, 11)"
   ]
  },
  {
   "cell_type": "code",
   "execution_count": null,
   "id": "eae6ddd4",
   "metadata": {},
   "outputs": [],
   "source": [
    "_ = sns.clustermap(corr_matrix, figsize=(20, 20))"
   ]
  },
  {
   "cell_type": "code",
   "execution_count": null,
   "id": "900b7401",
   "metadata": {},
   "outputs": [],
   "source": [
    "# Display top 10 most correlated series for each currency pair.\n",
    "for colname in corr_matrix.columns:\n",
    "    corr_srs = corr_matrix[colname]\n",
    "    corr_srs_sorted = corr_srs.sort_values(ascending=False)\n",
    "    display(corr_srs_sorted.head(10))"
   ]
  },
  {
   "cell_type": "markdown",
   "id": "6bcebb22",
   "metadata": {},
   "source": [
    "# Calculations on data resampled to 1 day"
   ]
  },
  {
   "cell_type": "code",
   "execution_count": null,
   "id": "24afd786",
   "metadata": {},
   "outputs": [],
   "source": [
    "df_price_1day = df_price.resample(\"D\", closed=\"right\", label=\"right\").mean()\n",
    "df_price_1day.head(3)"
   ]
  },
  {
   "cell_type": "code",
   "execution_count": null,
   "id": "dae5ce2d",
   "metadata": {},
   "outputs": [],
   "source": [
    "df_returns_1day = df_price_1day.pct_change()\n",
    "df_returns_1day.head(3)"
   ]
  },
  {
   "cell_type": "code",
   "execution_count": null,
   "id": "f741c7e6",
   "metadata": {},
   "outputs": [],
   "source": [
    "corr_matrix_1day = df_returns_1day.corr()\n",
    "_ = cplo.plot_heatmap(corr_matrix_1day)"
   ]
  },
  {
   "cell_type": "markdown",
   "id": "ad1dfde8",
   "metadata": {},
   "source": [
    "Resampling to 1 day makes clusters much more visible. <br>\n",
    "If we take a look at correlation numbers, we can see that equal currencies on different exchanges have a correlation above ~0.94 while different currencies correlate at much less rate.\n",
    "\n",
    "Therefore, it seems that for detecting similar currencies we'd better use 1 day frequency."
   ]
  },
  {
   "cell_type": "code",
   "execution_count": null,
   "id": "264262c6",
   "metadata": {},
   "outputs": [],
   "source": [
    "_ = cplo.cluster_and_select(df_returns_1day, 11)"
   ]
  },
  {
   "cell_type": "code",
   "execution_count": null,
   "id": "a3895c16",
   "metadata": {},
   "outputs": [],
   "source": [
    "_ = sns.clustermap(corr_matrix_1day, figsize=(20, 20))"
   ]
  },
  {
   "cell_type": "code",
   "execution_count": null,
   "id": "d92a7555",
   "metadata": {},
   "outputs": [],
   "source": [
    "# Display top 10 most correlated series for each currency pair.\n",
    "for colname in corr_matrix_1day.columns:\n",
    "    corr_srs = corr_matrix_1day[colname]\n",
    "    corr_srs_sorted = corr_srs.sort_values(ascending=False)\n",
    "    display(corr_srs_sorted.head(10))"
   ]
  },
  {
   "cell_type": "code",
   "execution_count": null,
   "id": "454970a5",
   "metadata": {},
   "outputs": [],
   "source": []
  }
 ],
 "metadata": {
  "jupytext": {
   "formats": "ipynb,py:percent"
  },
  "kernelspec": {
   "display_name": "Python 3 (ipykernel)",
   "language": "python",
   "name": "python3"
  },
  "language_info": {
   "codemirror_mode": {
    "name": "ipython",
    "version": 3
   },
   "file_extension": ".py",
   "mimetype": "text/x-python",
   "name": "python",
   "nbconvert_exporter": "python",
   "pygments_lexer": "ipython3"
  },
  "toc": {
   "base_numbering": 1,
   "nav_menu": {},
   "number_sections": true,
   "sideBar": true,
   "skip_h1_title": false,
   "title_cell": "Table of Contents",
   "title_sidebar": "Contents",
   "toc_cell": false,
   "toc_position": {},
   "toc_section_display": true,
   "toc_window_display": false
  }
 },
 "nbformat": 4,
 "nbformat_minor": 5
}
