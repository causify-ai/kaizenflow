{
 "cells": [
  {
   "cell_type": "markdown",
   "id": "ad727d72",
   "metadata": {},
   "source": [
    "# Description"
   ]
  },
  {
   "cell_type": "markdown",
   "id": "7303a69b",
   "metadata": {},
   "source": [
    "This notebook is used to find currencies that are exactly the same in our universe."
   ]
  },
  {
   "cell_type": "markdown",
   "id": "06f9851e",
   "metadata": {},
   "source": [
    "# Imports"
   ]
  },
  {
   "cell_type": "code",
   "execution_count": null,
   "id": "e3e05312",
   "metadata": {},
   "outputs": [],
   "source": [
    "import logging\n",
    "import os\n",
    "\n",
    "import numpy as np\n",
    "import pandas as pd\n",
    "import pytz\n",
    "\n",
    "import core.config.config_ as ccocon\n",
    "import core.explore as cexp\n",
    "import core.plotting as cplo\n",
    "import helpers.datetime_ as hdatetim\n",
    "import helpers.dbg as hdbg\n",
    "import helpers.env as henv\n",
    "import helpers.printing as hprintin\n",
    "import helpers.s3 as hs3\n",
    "\n",
    "import im.data.universe as imdatuni\n",
    "import im.ccxt.data.load.loader as imccdaloloa"
   ]
  },
  {
   "cell_type": "code",
   "execution_count": null,
   "id": "a84be408",
   "metadata": {},
   "outputs": [],
   "source": [
    "hdbg.init_logger(verbosity=logging.INFO)\n",
    "\n",
    "_LOG = logging.getLogger(__name__)\n",
    "\n",
    "_LOG.info(\"%s\", henv.get_system_signature()[0])\n",
    "\n",
    "hprintin.config_notebook()"
   ]
  },
  {
   "cell_type": "markdown",
   "id": "4ec75999",
   "metadata": {},
   "source": [
    "# Config"
   ]
  },
  {
   "cell_type": "code",
   "execution_count": null,
   "id": "4361a6f6",
   "metadata": {},
   "outputs": [],
   "source": [
    "def get_config() -> ccocon.Config:\n",
    "    \"\"\"\n",
    "    Get config that controls parameters.\n",
    "    \"\"\"\n",
    "    config = ccocon.Config()\n",
    "    # Load parameters.\n",
    "    config.add_subconfig(\"load\")\n",
    "    config[\"load\"][\"aws_profile\"] = \"am\"\n",
    "    config[\"load\"][\"data_dir\"] = os.path.join(hs3.get_path(), \"data\")\n",
    "    # Data parameters.\n",
    "    config.add_subconfig(\"data\")\n",
    "    config[\"data\"][\"close_price_col_name\"] = \"close\"\n",
    "    return config\n",
    "\n",
    "\n",
    "config = get_config()\n",
    "print(config)"
   ]
  },
  {
   "cell_type": "markdown",
   "id": "eb6c01a5",
   "metadata": {},
   "source": [
    "# Find same currencies for CCXT"
   ]
  },
  {
   "cell_type": "code",
   "execution_count": null,
   "id": "1fe9c7f3",
   "metadata": {},
   "outputs": [],
   "source": [
    "ccxt_loader = imccdaloloa.CcxtLoader(\n",
    "    root_dir=config[\"load\"][\"data_dir\"], aws_profile=config[\"load\"][\"aws_profile\"]\n",
    ")"
   ]
  },
  {
   "cell_type": "code",
   "execution_count": null,
   "id": "593f3845",
   "metadata": {},
   "outputs": [],
   "source": [
    "ccxt_universe = imdatuni.get_trade_universe()[\"CCXT\"]\n",
    "ccxt_universe"
   ]
  },
  {
   "cell_type": "markdown",
   "id": "8a39bc63",
   "metadata": {},
   "source": [
    "## Build a dataframe of returns for CCXT"
   ]
  },
  {
   "cell_type": "code",
   "execution_count": null,
   "id": "866cb83b",
   "metadata": {},
   "outputs": [],
   "source": [
    "def get_ccxt_returns(ccxt_universe, ccxt_loader, config):\n",
    "    # Initialize lists of column names and returns series.\n",
    "    colnames = []\n",
    "    returns_srs_list = []\n",
    "    # Iterate over exchange ids and currency pairs.\n",
    "    for exchange_id in ccxt_universe:\n",
    "        for curr_pair in ccxt_universe[exchange_id]:\n",
    "            # Construct a colname from exchange id and currency pair.\n",
    "            colname = \" \".join([exchange_id, curr_pair])\n",
    "            colnames.append(colname)\n",
    "            # Extract historical data.\n",
    "            data = ccxt_loader.read_data_from_filesystem(\n",
    "                exchange_id=exchange_id, currency_pair=curr_pair, data_type=\"OHLCV\"\n",
    "            )\n",
    "            # Get series of close prices.\n",
    "            close_price_srs = data[config[\"data\"][\"close_price_col_name\"]]\n",
    "            # Remove values with duplicated indices.\n",
    "            close_price_srs = close_price_srs[\n",
    "                ~close_price_srs.index.duplicated(keep='last')\n",
    "            ]\n",
    "            # Get series of returns and append to the list.\n",
    "            returns_srs = close_price_srs.diff()\n",
    "            returns_srs_list.append(returns_srs)\n",
    "    # Construct a dataframe and assign column names.\n",
    "    df = pd.concat(returns_srs_list, axis=1)\n",
    "    df.columns = colnames\n",
    "    return df"
   ]
  },
  {
   "cell_type": "code",
   "execution_count": null,
   "id": "e40247fa",
   "metadata": {},
   "outputs": [],
   "source": [
    "df_returns = get_ccxt_returns(ccxt_universe, ccxt_loader, config)"
   ]
  },
  {
   "cell_type": "code",
   "execution_count": null,
   "id": "b4d470df",
   "metadata": {},
   "outputs": [],
   "source": [
    "df_returns.head()"
   ]
  },
  {
   "cell_type": "code",
   "execution_count": null,
   "id": "2bd5cbf4",
   "metadata": {},
   "outputs": [],
   "source": [
    "corr_matrix = df_returns.corr()"
   ]
  },
  {
   "cell_type": "markdown",
   "id": "f5ab0dcd",
   "metadata": {},
   "source": [
    "On the heatmap we can clearly see that the same currency pairs at different exchanges are highly correlating.<br>\n",
    "It signifies that such approach can be used further on to find similar or sibling currencies."
   ]
  },
  {
   "cell_type": "code",
   "execution_count": null,
   "id": "dcdabe3a",
   "metadata": {},
   "outputs": [],
   "source": [
    "cplo.plot_heatmap(corr_matrix)"
   ]
  },
  {
   "cell_type": "markdown",
   "id": "bedbea3d",
   "metadata": {},
   "source": [
    "Below we can see that the most correlated series are those that belong to the same currency pair."
   ]
  },
  {
   "cell_type": "code",
   "execution_count": null,
   "id": "900b7401",
   "metadata": {},
   "outputs": [],
   "source": [
    "# Display top 10 most correlated series for each currency pair.\n",
    "for colname in corr_matrix.columns:\n",
    "    corr_srs = corr_matrix[colname]\n",
    "    corr_srs_sorted = corr_srs.sort_values(ascending=False)\n",
    "    display(corr_srs_sorted.head(10))"
   ]
  },
  {
   "cell_type": "markdown",
   "id": "6bcebb22",
   "metadata": {},
   "source": [
    "# Remarks and possible improvements (for prod)"
   ]
  },
  {
   "cell_type": "markdown",
   "id": "061abd9c",
   "metadata": {},
   "source": [
    "## Dealing with bad spottiness"
   ]
  },
  {
   "cell_type": "markdown",
   "id": "d1b751fc",
   "metadata": {},
   "source": [
    "Despite the results, you could notice that Bitfinex data is correlating weakly compare to the same currencies from other exchanges, even though the duplicated observations have been removed so CmTask274 problem is not directly affecting this.\n",
    "\n",
    "The problem is in the spottiness of Bitfinex data which is just terrible - NaNs are all over the whole historical time period.<br>\n",
    "The problem with Bitfinex data quality is known and was first reflected in `im/ccxt/notebooks/CMTask13_Research_of_OHLCV_fetching_approaches_for_different_exchanges.ipynb`.<br>"
   ]
  },
  {
   "cell_type": "markdown",
   "id": "27e3e48e",
   "metadata": {},
   "source": [
    "Below you can find a code that displays it with even more clarity.<br>\n",
    "However, I'm having hard times to explain what I've done clearly - let's discuss it if I fail to deliver it.<br>\n",
    "The code is for prod and discussion, but can be converted to functions if needed.\n",
    "\n",
    "At first we use `.isna()` to convert all the values in the returns dataframe to bool values whether they are NaN or not NaN.<br>\n",
    "Then we convert them to integers so if a cell value was NaN its value becomes 1 and 0 vice verca.<br>\n",
    "\n",
    "Then we apply `.diff()` so each cell value means the following: 1 or -1 if a previous observation was NaN and the current is not NaN or vice verca and 0 if both current and previous observations were NaN or not NaN. In other words, each 1 or -1 will represent situations when a NaN value appears after a valid observations or vice versa. The more 1 or -1 values a column has, the more data gaps it contains so the worse its spottiness is.<br>\n",
    "\n",
    "To compute the amount of such gaps we drop the 1st row (which contains only NaNs after `.diff()`), use `.abs()` so all -1 values become 1 and sum. Resulting sum value will represent the number of data gaps for a currency pair and the higher it is the worse is the data quality."
   ]
  },
  {
   "cell_type": "code",
   "execution_count": null,
   "id": "68e13fb1",
   "metadata": {},
   "outputs": [],
   "source": [
    "df_returns.isna().astype(int).diff().dropna().abs().sum()"
   ]
  },
  {
   "cell_type": "markdown",
   "id": "2a853c06",
   "metadata": {},
   "source": [
    "And now we see that Bitfinex is just the worst.\n",
    "\n",
    "Kucoin seems to have a lot of gaps too but we know from our previous research that Kucoin has gaps only before 2019-02-18 (see data gallery at https://docs.google.com/spreadsheets/d/1Tiiy1_qlKtq8Ay1qogIZwi55bYhnpGzRvt2RlrQUD00/edit#gid=0)<br>\n",
    "\n",
    "Let's see at data spottiness after this date."
   ]
  },
  {
   "cell_type": "code",
   "execution_count": null,
   "id": "c0f89167",
   "metadata": {},
   "outputs": [],
   "source": [
    "# Checking a timezone to use.\n",
    "df_returns.index[0]"
   ]
  },
  {
   "cell_type": "code",
   "execution_count": null,
   "id": "12fb7cc7",
   "metadata": {},
   "outputs": [],
   "source": [
    "df_returns[\n",
    "    df_returns.index > pd.Timestamp(\"2019-02-20\", tz='America/New_York')\n",
    "].isna().astype(int).diff().dropna().abs().sum()"
   ]
  },
  {
   "cell_type": "markdown",
   "id": "37bc7536",
   "metadata": {},
   "source": [
    "As you can see, Kucoin spottiness is just perfect after the specified date.<br>\n",
    "This is not the case for Bitfinex though (you can try different dates above - the result will still be disappointing).<br>\n",
    "\n",
    "This leads me to 2 suggestions:\n",
    "- What if we drop Bitfinex from our calculations at all until we research it in detail and clean its data\n",
    "- Replace all the Kucoin data with NaNs before the date when it's spottiness is perfect and probably do it for all the other exchanges\n",
    "\n",
    "What do you think?"
   ]
  },
  {
   "cell_type": "markdown",
   "id": "ad86cda3",
   "metadata": {},
   "source": [
    "Below I implement suggested measures (drop Bitfinex and crop Kucoin data) and look for equal currencies again."
   ]
  },
  {
   "cell_type": "code",
   "execution_count": null,
   "id": "fd803966",
   "metadata": {},
   "outputs": [],
   "source": [
    "# Drop Bitfinex data.\n",
    "colnames2 = [col for col in df_returns if \"bitfinex\" not in col]\n",
    "#\n",
    "df_returns2 = df_returns[colnames2].copy()\n",
    "df_returns2.head()"
   ]
  },
  {
   "cell_type": "code",
   "execution_count": null,
   "id": "095464eb",
   "metadata": {},
   "outputs": [],
   "source": [
    "# Replace Kucoin data before 2019-02-20 with NaNs.\n",
    "kucoin_colnames = [col for col in df_returns2 if \"kucoin\" in col]\n",
    "#\n",
    "df_returns2.loc[\n",
    "    df_returns2.index < pd.Timestamp(\"2019-02-20\", tz='America/New_York'),\n",
    "    kucoin_colnames\n",
    "] = np.nan"
   ]
  },
  {
   "cell_type": "code",
   "execution_count": null,
   "id": "fced8395",
   "metadata": {},
   "outputs": [],
   "source": [
    "# Compute new spottiness indicator.\n",
    "df_returns2.isna().astype(int).diff().dropna().abs().sum()"
   ]
  },
  {
   "cell_type": "markdown",
   "id": "dfdda3ca",
   "metadata": {},
   "source": [
    "Much better now."
   ]
  },
  {
   "cell_type": "code",
   "execution_count": null,
   "id": "9e91b7ca",
   "metadata": {},
   "outputs": [],
   "source": [
    "corr_matrix2 = df_returns2.corr()"
   ]
  },
  {
   "cell_type": "code",
   "execution_count": null,
   "id": "241b3d0f",
   "metadata": {},
   "outputs": [],
   "source": [
    "cplo.plot_heatmap(corr_matrix2)"
   ]
  },
  {
   "cell_type": "code",
   "execution_count": null,
   "id": "49975d90",
   "metadata": {},
   "outputs": [],
   "source": [
    "for colname in corr_matrix2.columns:\n",
    "    corr_srs = corr_matrix2[colname]\n",
    "    corr_srs_sorted = corr_srs.sort_values(ascending=False)\n",
    "    display(corr_srs_sorted.head(10))"
   ]
  },
  {
   "cell_type": "markdown",
   "id": "894f2896",
   "metadata": {},
   "source": [
    "Now the same currency pairs are clustering more noticeably."
   ]
  },
  {
   "cell_type": "markdown",
   "id": "30fb6993",
   "metadata": {},
   "source": [
    "However, cleaning Kucoin data did not improve any results - it seems that the period of bad spottiness did not in fast impacted correlation computations much.<br>\n",
    "Therefore, for finding same currency pairs there is no big need to drop periods with bad spottiness if there is a significantly big period with perfect spottiness for a returns series."
   ]
  },
  {
   "cell_type": "code",
   "execution_count": null,
   "id": "d6c89917",
   "metadata": {},
   "outputs": [],
   "source": [
    "for colname in kucoin_colnames:\n",
    "    # Get stats series for raw and cleaned Kucoin data.\n",
    "    old_stats = corr_matrix[colname].sort_values(ascending=False)\n",
    "    new_stats = corr_matrix2[colname].sort_values(ascending=False)\n",
    "    # Combine in df and display.\n",
    "    stats_df = pd.concat([old_stats, new_stats], axis = 1)\n",
    "    stats_df.columns = [\"old_stats\", \"new_stats\"]\n",
    "    display(stats_df.head(10))"
   ]
  },
  {
   "cell_type": "markdown",
   "id": "c8182284",
   "metadata": {},
   "source": [
    "## Picking cutoff correlation values"
   ]
  },
  {
   "cell_type": "markdown",
   "id": "ea82d962",
   "metadata": {},
   "source": [
    "For the currency pairs chosen for this research it is quite easy to find same ones just by name.<br>\n",
    "Clearly, they have the highest levels of correlation among each other, but I guess we don't want to rely only on names but on certain correlation levels.<br>\n",
    "\n",
    "However, some equal currency pairs at different exchanges have lower levels of correlation between each other than some different stable coins.\n",
    "\n",
    "E.g. the correlation between `binance AVAX/USDT` and `kucoin AVAX/USDT` is 0.72 while the correlation between `binance BTC/USDT` and `binance ETH/USDT` is 0.76.<br>\n",
    "\n",
    "How do we set a cutoff value for a correlation between a pair of currency pair returns to consider them equal?<br>\n",
    "Do we really need it at all?<br>\n",
    "\n",
    "I'll also check my computations for mistakes again but seems that it won't drop the problem. "
   ]
  },
  {
   "cell_type": "code",
   "execution_count": null,
   "id": "5ba17a24",
   "metadata": {},
   "outputs": [],
   "source": [
    "display(corr_matrix2[\"binance AVAX/USDT\"].sort_values(ascending=False))"
   ]
  },
  {
   "cell_type": "code",
   "execution_count": null,
   "id": "293509c8",
   "metadata": {},
   "outputs": [],
   "source": [
    "display(corr_matrix2[\"binance BTC/USDT\"].sort_values(ascending=False))"
   ]
  },
  {
   "cell_type": "code",
   "execution_count": null,
   "id": "bba11063",
   "metadata": {},
   "outputs": [],
   "source": []
  }
 ],
 "metadata": {
  "jupytext": {
   "formats": "ipynb,py:percent"
  },
  "kernelspec": {
   "display_name": "Python 3 (ipykernel)",
   "language": "python",
   "name": "python3"
  },
  "language_info": {
   "codemirror_mode": {
    "name": "ipython",
    "version": 3
   },
   "file_extension": ".py",
   "mimetype": "text/x-python",
   "name": "python",
   "nbconvert_exporter": "python",
   "pygments_lexer": "ipython3"
  },
  "toc": {
   "base_numbering": 1,
   "nav_menu": {},
   "number_sections": true,
   "sideBar": true,
   "skip_h1_title": false,
   "title_cell": "Table of Contents",
   "title_sidebar": "Contents",
   "toc_cell": false,
   "toc_position": {},
   "toc_section_display": true,
   "toc_window_display": false
  }
 },
 "nbformat": 4,
 "nbformat_minor": 5
}
