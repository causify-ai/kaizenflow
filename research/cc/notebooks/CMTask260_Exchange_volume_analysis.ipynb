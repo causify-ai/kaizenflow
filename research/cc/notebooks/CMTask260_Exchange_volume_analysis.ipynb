{
 "cells": [
  {
   "cell_type": "markdown",
   "id": "8d89954b",
   "metadata": {},
   "source": [
    "## Imports"
   ]
  },
  {
   "cell_type": "code",
   "execution_count": null,
   "id": "e0c5136c",
   "metadata": {},
   "outputs": [],
   "source": [
    "import im.data.universe as imdauni\n",
    "import im.ccxt.data.load.loader as imccdaloloa"
   ]
  },
  {
   "cell_type": "code",
   "execution_count": null,
   "id": "c531136c",
   "metadata": {},
   "outputs": [],
   "source": [
    "import pandas as pd\n",
    "import numpy as np\n",
    "import datetime as dt\n",
    "import matplotlib.pyplot as plt\n",
    "import seaborn as sns"
   ]
  },
  {
   "cell_type": "code",
   "execution_count": null,
   "id": "299c03ce",
   "metadata": {},
   "outputs": [],
   "source": [
    "pd.set_option('display.max_rows', 500)"
   ]
  },
  {
   "cell_type": "markdown",
   "id": "eb724155",
   "metadata": {},
   "source": [
    "## Load the data"
   ]
  },
  {
   "cell_type": "code",
   "execution_count": null,
   "id": "2266d677",
   "metadata": {},
   "outputs": [],
   "source": [
    "#imdauni.get_trade_universe()[\"CCXT\"]"
   ]
  },
  {
   "cell_type": "code",
   "execution_count": null,
   "id": "192b67b4",
   "metadata": {},
   "outputs": [],
   "source": [
    "config = imccdaloloa.CcxtLoader(root_dir=\"s3://alphamatic-data/data\", aws_profile=\"am\")"
   ]
  },
  {
   "cell_type": "markdown",
   "id": "a2985527",
   "metadata": {},
   "source": [
    "## Functions"
   ]
  },
  {
   "cell_type": "code",
   "execution_count": null,
   "id": "8119c44e",
   "metadata": {},
   "outputs": [],
   "source": [
    "def get_volume_df_for_exch(coins, exchange):\n",
    "    result = []\n",
    "    for coin in coins:\n",
    "        df = config.read_data_from_filesystem(exchange_id=exchange,\n",
    "                                               currency_pair=coin,\n",
    "                                               data_type=\"OHLCV\")\n",
    "        volume_df = pd.DataFrame(df.groupby(by=df.index.date)[\"volume\"].sum())\n",
    "        volume_df.columns = [col_name+'_{x}_{y}'.format(x = suffixes[f\"{coin}\"], y=exchange) for col_name in volume_df.columns]\n",
    "        result.append(volume_df)\n",
    "    final_result = pd.concat(result, axis=1)\n",
    "    return final_result\n",
    "\n",
    "def total_trading_volume(coin_list):\n",
    "    df = pd.concat([binance,bitfinex, ftx, gateio, kucoin],axis=1)\n",
    "    volume_df = pd.DataFrame(columns=[\"total_trading_volume\"])\n",
    "    for coin in coin_list:\n",
    "        coin_cols = [col for col in df.columns if coin in col]\n",
    "        coin_df = df[coin_cols]\n",
    "        coin_df.loc[:, (\"total_volume\")] = coin_df.sum(axis=1)\n",
    "        total_volume_ = coin_df[\"total_volume\"].sum()\n",
    "        volume_df.loc[\"total_volume_{}\".format(f\"{coin}\"), (\"total_trading_volume\")] = total_volume_\n",
    "    return volume_df\n",
    "\n",
    "def exch_trading_volume(df_list):\n",
    "    exch_volume = pd.DataFrame(columns=[\"total_exchange_trading_volume\"])\n",
    "    for df in df_list:\n",
    "        total_volume_ = df.sum().sum()\n",
    "        exch_volume.loc[\"total_volume_{}\".format(f\"{df.name}\"), \"total_exchange_trading_volume\"] = total_volume_\n",
    "    return exch_volume\n",
    "\n",
    "def rolling_volume_graph(coin_list):\n",
    "    df = pd.concat([binance,bitfinex, ftx, gateio, kucoin],axis=1)\n",
    "    for coin in coin_list:\n",
    "        coin_df = df[[col for col in df.columns if coin in col]]\n",
    "        coin_df.loc[:, (\"total_volume\")] = coin_df.sum(axis=1)\n",
    "        coin_df.loc[:,('rolling_volume')] = coin_df['total_volume'].rolling(90).mean()\n",
    "        #coin_df[[\"total_volume\", \"rolling_volume\"]].plot(figsize=(15,7))\n",
    "        plt.figure(figsize=(12,7))\n",
    "        plt.title('{}'.format(coin))\n",
    "        plt.xlabel('time')\n",
    "        plt.ylabel('volume')\n",
    "        plt.plot(coin_df[[\"total_volume\", \"rolling_volume\"]])\n",
    "        \n",
    "def rolling_volume_graph_exch(exch_list):\n",
    "    df = pd.concat([binance,bitfinex, ftx, gateio, kucoin],axis=1)\n",
    "    for exch in exch_list:\n",
    "        exch_cols = [col for col in df.columns if exch in col]\n",
    "        exch_df = df[exch_cols]\n",
    "        exch_df.loc[:, (\"total_volume\")] = exch_df.sum(axis=1)\n",
    "        exch_df.loc[:,('rolling_volume')] = exch_df['total_volume'].rolling(90).mean()\n",
    "        plt.figure(figsize=(12,7))\n",
    "        plt.title('{}'.format(exch))\n",
    "        plt.xlabel('time')\n",
    "        plt.ylabel('volume')\n",
    "        plt.plot(exch_df[[\"total_volume\", \"rolling_volume\"]])\n",
    "        \n",
    "def weekday_analyzer():\n",
    "    df = pd.concat([binance,bitfinex, ftx, gateio, kucoin],axis=1)\n",
    "    df = df[[col for col in df.columns if \"total_volume\" not in col]]\n",
    "    df = df[[col for col in df.columns if \"rolling_volume\" not in col]]\n",
    "    df.loc[:, (\"total_volume\")] = df.sum(axis=1)\n",
    "    df['weekday'] = df.index.map(lambda x: x.weekday())\n",
    "    df.groupby(\"weekday\").total_volume.sum().plot.bar(figsize=(12,7))   \n",
    "    weekends = df[(df[\"weekday\"] == 5)|(df[\"weekday\"] == 6)]\n",
    "    sns.displot(weekends, x=\"total_volume\")\n",
    "    weekdays = df[(df[\"weekday\"] != 5)&(df[\"weekday\"] != 6)]\n",
    "    sns.displot(weekdays, x=\"total_volume\")\n",
    "    print(\"Descriptive statistics:\")\n",
    "    weeknd_stat = weekends[\"total_volume\"].describe()\n",
    "    weekdys_stat = weekdays[\"total_volume\"].describe()\n",
    "    weeknd_stat = pd.DataFrame(weeknd_stat)\n",
    "    weekdys_stat = pd.DataFrame(weekdys_stat)\n",
    "    stats = pd.concat([weeknd_stat,weekdys_stat], axis=1)\n",
    "    stats.columns = [\"weekends\", \"working_days\"]\n",
    "    print(stats)\n",
    "    print(\"The graph labels in respective order: Total Volume by weekdays, Distribution of Volume over weekends, Distribution of Volume over working days\")\n",
    "    \n",
    "def general_df_binance(coins, exchange):\n",
    "    result = []\n",
    "    for coin in coins:\n",
    "        df = config.read_data_from_filesystem(exchange_id=exchange,\n",
    "                                               currency_pair=coin,\n",
    "                                               data_type=\"OHLCV\")\n",
    "        result.append(df[\"volume\"])\n",
    "    final_result = pd.concat(result, axis=1)\n",
    "    return final_result\n",
    "\n",
    "def ath_stats(df):\n",
    "    df_ath = df.iloc[df.index.indexer_between_time(\"09:30\", \"16:00\")]\n",
    "    ath_index = df_ath.index\n",
    "    df_not_ath = df.loc[~df.index.isin(ath_index)]\n",
    "    ath_stat = pd.DataFrame(columns=[\"total_volume_ath\", \"total_volume_not_ath\"])\n",
    "    ath_stat.loc[0,\"total_volume_ath\"] = df_ath.sum().sum()\n",
    "    ath_stat.loc[0,\"total_volume_not_ath\"] = df_not_ath.sum().sum()\n",
    "    ath_stat.plot.bar()"
   ]
  },
  {
   "cell_type": "markdown",
   "id": "74d35e28",
   "metadata": {},
   "source": [
    "### Supporting variables"
   ]
  },
  {
   "cell_type": "code",
   "execution_count": null,
   "id": "64188e9d",
   "metadata": {},
   "outputs": [],
   "source": [
    "binance_coins = ['ADA/USDT',\n",
    "                 'AVAX/USDT',\n",
    "                 'BNB/USDT',\n",
    "                 'BTC/USDT',\n",
    "                 'DOGE/USDT',\n",
    "                 'EOS/USDT',\n",
    "                 'ETH/USDT',\n",
    "                 'LINK/USDT',\n",
    "                 'SOL/USDT']\n",
    "\n",
    "bitfinex_coins = ['ADA/USDT',\n",
    "                  'AVAX/USDT',\n",
    "                  'BTC/USDT',\n",
    "                  'DOGE/USDT',\n",
    "                  'EOS/USDT',\n",
    "                  'ETH/USDT',\n",
    "                  'FIL/USDT',\n",
    "                  'LINK/USDT',\n",
    "                  'SOL/USDT',\n",
    "                  'XRP/USDT']\n",
    "\n",
    "ftx_coins = ['BNB/USDT',\n",
    "             'BTC/USDT',\n",
    "             'DOGE/USDT',\n",
    "             'ETH/USDT',\n",
    "             'LINK/USDT',\n",
    "             'SOL/USDT',\n",
    "             'XRP/USDT']\n",
    "\n",
    "gateio_coins = ['ADA/USDT',\n",
    "                'AVAX/USDT',\n",
    "                'BNB/USDT',\n",
    "                'BTC/USDT',\n",
    "                'DOGE/USDT',\n",
    "                'EOS/USDT',\n",
    "                'ETH/USDT',\n",
    "                'FIL/USDT',\n",
    "                'LINK/USDT',\n",
    "                'SOL/USDT',\n",
    "                'XRP/USDT']\n",
    "\n",
    "kucoin_coins = ['ADA/USDT',\n",
    "                'AVAX/USDT',\n",
    "                'BNB/USDT',\n",
    "                'BTC/USDT',\n",
    "                'DOGE/USDT',\n",
    "                'EOS/USDT',\n",
    "                'ETH/USDT',\n",
    "                'FIL/USDT',\n",
    "                'LINK/USDT',\n",
    "                'SOL/USDT',\n",
    "                'XRP/USDT']\n",
    "\n",
    "suffixes = {'ADA/USDT': \"ada\",\n",
    "            'AVAX/USDT': \"avax\",\n",
    "            'BNB/USDT': \"bnb\",\n",
    "            'BTC/USDT': \"btc\",\n",
    "            'DOGE/USDT': \"doge\",\n",
    "            'EOS/USDT': \"eos\",\n",
    "            'ETH/USDT': 'eth',\n",
    "            'LINK/USDT': \"link\",\n",
    "            'SOL/USDT': \"sol\",\n",
    "            'FIL/USDT':\"fil\",\n",
    "            'XRP/USDT':\"xrp\"}\n",
    "\n",
    "coins = [\"ada\",\n",
    "         \"avax\",\n",
    "         \"bnb\",\n",
    "         \"btc\",\n",
    "         \"doge\",\n",
    "         \"eos\",\n",
    "         \"eth\",\n",
    "         \"link\",\n",
    "         \"sol\",\n",
    "         \"fil\",\n",
    "         \"xrp\"]\n",
    "\n",
    "exch_names = [\"binance\", \"bitfinex\", \"ftx\", \"gateio\", \"kucoin\"]"
   ]
  },
  {
   "cell_type": "markdown",
   "id": "767ee083",
   "metadata": {},
   "source": [
    "## Load the volumes dataframes"
   ]
  },
  {
   "cell_type": "code",
   "execution_count": null,
   "id": "54e06500",
   "metadata": {},
   "outputs": [],
   "source": [
    "binance = get_volume_df_for_exch(binance_coins, \"binance\")\n",
    "bitfinex = get_volume_df_for_exch(bitfinex_coins, \"bitfinex\")\n",
    "ftx = get_volume_df_for_exch(ftx_coins, \"ftx\")\n",
    "gateio = get_volume_df_for_exch(gateio_coins, \"gateio\")\n",
    "kucoin = get_volume_df_for_exch(kucoin_coins, \"kucoin\")"
   ]
  },
  {
   "cell_type": "code",
   "execution_count": null,
   "id": "dbf67dd8",
   "metadata": {},
   "outputs": [],
   "source": [
    "binance.name = 'binance'\n",
    "bitfinex.name = 'bitfinex'\n",
    "ftx.name = 'ftx'\n",
    "gateio.name = 'gateio'\n",
    "kucoin.name = 'kucoin'\n",
    "\n",
    "exch_list = [binance, bitfinex, ftx, gateio, kucoin]"
   ]
  },
  {
   "cell_type": "markdown",
   "id": "dd1603f8",
   "metadata": {},
   "source": [
    "# Compute total trading volume for each currency\n"
   ]
  },
  {
   "cell_type": "code",
   "execution_count": null,
   "id": "7e8d7629",
   "metadata": {},
   "outputs": [],
   "source": [
    "total_trading_vol = total_trading_volume(coins)"
   ]
  },
  {
   "cell_type": "code",
   "execution_count": null,
   "id": "23c40446",
   "metadata": {},
   "outputs": [],
   "source": [
    "total_trading_vol"
   ]
  },
  {
   "cell_type": "code",
   "execution_count": null,
   "id": "f545727f",
   "metadata": {},
   "outputs": [],
   "source": [
    "total_trading_vol.plot.bar(figsize=(15,7))"
   ]
  },
  {
   "cell_type": "code",
   "execution_count": null,
   "id": "b2e94284",
   "metadata": {},
   "outputs": [],
   "source": [
    "# if we exclude DOGE\n",
    "total_trading_vol[total_trading_vol.index!=\"total_volume_doge\"].plot.bar(figsize=(15,7))"
   ]
  },
  {
   "cell_type": "markdown",
   "id": "e552381c",
   "metadata": {},
   "source": [
    "# Rolling volume for each currency"
   ]
  },
  {
   "cell_type": "code",
   "execution_count": null,
   "id": "cd7b7b3f",
   "metadata": {},
   "outputs": [],
   "source": [
    "rolling_volume_graph(coins)"
   ]
  },
  {
   "cell_type": "markdown",
   "id": "da663556",
   "metadata": {},
   "source": [
    "# Compute total volume per exchange"
   ]
  },
  {
   "cell_type": "code",
   "execution_count": null,
   "id": "8bf07794",
   "metadata": {},
   "outputs": [],
   "source": [
    "exchange_trading_volume = exch_trading_volume(exch_list)"
   ]
  },
  {
   "cell_type": "code",
   "execution_count": null,
   "id": "5bab5c82",
   "metadata": {},
   "outputs": [],
   "source": [
    "exchange_trading_volume"
   ]
  },
  {
   "cell_type": "code",
   "execution_count": null,
   "id": "305663fc",
   "metadata": {},
   "outputs": [],
   "source": [
    "# binance seems to attract the most attention in terms of trade volume\n",
    "exchange_trading_volume.plot.bar(figsize=(15,7))"
   ]
  },
  {
   "cell_type": "code",
   "execution_count": null,
   "id": "1b3b2b43",
   "metadata": {},
   "outputs": [],
   "source": [
    "# if we exclude binance\n",
    "exchange_trading_volume[exchange_trading_volume.index!=\"total_volume_binance\"].plot.bar(figsize=(15,7))"
   ]
  },
  {
   "cell_type": "markdown",
   "id": "01d75a9d",
   "metadata": {},
   "source": [
    "# Rolling volume for each exchange"
   ]
  },
  {
   "cell_type": "code",
   "execution_count": null,
   "id": "5250bd8e",
   "metadata": {},
   "outputs": [],
   "source": [
    "rolling_volume_graph_exch(exch_names)"
   ]
  },
  {
   "cell_type": "markdown",
   "id": "bfb18665",
   "metadata": {},
   "source": [
    "# Is volume constant over different days? E.g., weekend vs workdays?"
   ]
  },
  {
   "cell_type": "code",
   "execution_count": null,
   "id": "c9989810",
   "metadata": {},
   "outputs": [],
   "source": [
    "weekday_analyzer()"
   ]
  },
  {
   "cell_type": "markdown",
   "id": "0fe1a8f7",
   "metadata": {},
   "source": [
    "# How does it vary over hours? E.g., US stock times 9:30-16 vs other time"
   ]
  },
  {
   "cell_type": "markdown",
   "id": "df13454e",
   "metadata": {},
   "source": [
    "## Binance example"
   ]
  },
  {
   "cell_type": "code",
   "execution_count": null,
   "id": "0e0b85e7",
   "metadata": {},
   "outputs": [],
   "source": [
    "binance_1 = general_df_binance(binance_coins, \"binance\")"
   ]
  },
  {
   "cell_type": "code",
   "execution_count": null,
   "id": "c5fef9d3",
   "metadata": {},
   "outputs": [],
   "source": [
    "ath_stats(binance_1)"
   ]
  }
 ],
 "metadata": {
  "jupytext": {
   "text_representation": {
    "extension": ".py",
    "format_name": "percent",
    "format_version": "1.3",
    "jupytext_version": "1.13.0"
   }
  },
  "kernelspec": {
   "display_name": "Python 3 (ipykernel)",
   "language": "python",
   "name": "python3"
  },
  "language_info": {
   "codemirror_mode": {
    "name": "ipython",
    "version": 3
   },
   "file_extension": ".py",
   "mimetype": "text/x-python",
   "name": "python",
   "nbconvert_exporter": "python",
   "pygments_lexer": "ipython3"
  },
  "toc": {
   "base_numbering": 1,
   "nav_menu": {},
   "number_sections": true,
   "sideBar": true,
   "skip_h1_title": false,
   "title_cell": "Table of Contents",
   "title_sidebar": "Contents",
   "toc_cell": false,
   "toc_position": {},
   "toc_section_display": true,
   "toc_window_display": false
  }
 },
 "nbformat": 4,
 "nbformat_minor": 5
}
