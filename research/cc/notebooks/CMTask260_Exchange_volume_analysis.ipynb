{
 "cells": [
  {
   "cell_type": "markdown",
   "id": "8d89954b",
   "metadata": {},
   "source": [
    "## Imports"
   ]
  },
  {
   "cell_type": "code",
   "execution_count": null,
   "id": "e0c5136c",
   "metadata": {},
   "outputs": [],
   "source": [
    "import pandas as pd\n",
    "import seaborn as sns\n",
    "\n",
    "import im.ccxt.data.load.loader as imccdaloloa\n",
    "import im.data.universe as imdauni"
   ]
  },
  {
   "cell_type": "markdown",
   "id": "eb724155",
   "metadata": {},
   "source": [
    "## Configs"
   ]
  },
  {
   "cell_type": "code",
   "execution_count": null,
   "id": "192b67b4",
   "metadata": {},
   "outputs": [],
   "source": [
    "config = imccdaloloa.CcxtLoader(\n",
    "    root_dir=\"s3://alphamatic-data/data\", aws_profile=\"am\"\n",
    ")"
   ]
  },
  {
   "cell_type": "markdown",
   "id": "a2985527",
   "metadata": {},
   "source": [
    "## Functions"
   ]
  },
  {
   "cell_type": "markdown",
   "id": "3ace4cd6",
   "metadata": {},
   "source": [
    "Note: by \"volume\" I mean the standard output that is nominated in the number of coins"
   ]
  },
  {
   "cell_type": "code",
   "execution_count": null,
   "id": "8119c44e",
   "metadata": {},
   "outputs": [],
   "source": [
    "def get_volume_df_for_exch(coins, exchange):\n",
    "    \"\"\"\n",
    "    Return the DataFrame with a volume of all available coins for a given exchange \\\n",
    "    with timestamp transformation to one day\n",
    "    Parameters: list of coins for a particular exchange, exchange name\n",
    "    \"\"\"\n",
    "    result = []\n",
    "    for coin in coins:\n",
    "        df = config.read_data_from_filesystem(\n",
    "            exchange_id=exchange, currency_pair=coin, data_type=\"OHLCV\"\n",
    "        )\n",
    "        # transform timestamp into one-day format\n",
    "        volume_df = pd.DataFrame(df.groupby(by=df.index.date)[\"volume\"].sum())\n",
    "        volume_df.columns = [\n",
    "            col_name + f\"_{suffixes[coin]}_{exchange}\"\n",
    "            for col_name in volume_df.columns\n",
    "        ]\n",
    "        result.append(volume_df)\n",
    "    final_result = pd.concat(result, axis=1)\n",
    "    return final_result\n",
    "\n",
    "\n",
    "def get_total_trading_volume_by_coins(coin_list, exch_list):\n",
    "    \"\"\"\n",
    "    Return the DataFrame with total trading volume and normalised trading volume (by day) \\\n",
    "    of all coins from all available exchanges\n",
    "    Parameters: list of coin names, volume dataframes\n",
    "    \"\"\"\n",
    "    df = pd.concat(exch_list, axis=1)\n",
    "    volume_df = pd.DataFrame(columns=[\"total_trading_volume\"])\n",
    "    for coin in coin_list:\n",
    "        coin_cols = [col for col in df.columns if coin in col]\n",
    "        coin_df = df[coin_cols]\n",
    "        coin_df[\"total_volume\"] = coin_df.sum(axis=1)\n",
    "        total_volume_ = coin_df[\"total_volume\"].sum()\n",
    "        norm_volume_ = coin_df[\"total_volume\"].sum() / len(\n",
    "            coin_df[coin_df[\"total_volume\"] != 0]\n",
    "        )\n",
    "        volume_df.loc[\n",
    "            \"{}\".format(f\"{coin}\"), (\"total_trading_volume\")\n",
    "        ] = total_volume_\n",
    "        volume_df.loc[\n",
    "            \"{}\".format(f\"{coin}\"), (\"normalised_total_volume\")\n",
    "        ] = norm_volume_\n",
    "    return volume_df.sort_values(by=\"total_trading_volume\", ascending=False)\n",
    "\n",
    "\n",
    "def get_total_trading_volume_by_exchange(df_list):\n",
    "    \"\"\"\n",
    "    Return the DataFrame with total trading volume on exchanges\n",
    "    Parameters: volume dataframes\n",
    "    \"\"\"\n",
    "    exch_volume = pd.DataFrame(columns=[\"total_exchange_trading_volume\"])\n",
    "    for df in df_list:\n",
    "        total_volume_ = df.sum().sum()\n",
    "        norm_volume_ = df.sum().sum() / df.shape[0]\n",
    "        exch_volume.loc[\n",
    "            \"{}\".format(f\"{df.name}\"), \"total_exchange_trading_volume\"\n",
    "        ] = total_volume_\n",
    "        exch_volume.loc[\n",
    "            \"{}\".format(f\"{df.name}\"), \"total_exchange_normalised_trading_volume\"\n",
    "        ] = norm_volume_\n",
    "    return exch_volume.sort_values(\n",
    "        by=\"total_exchange_trading_volume\", ascending=False\n",
    "    )\n",
    "\n",
    "\n",
    "def plot_rolling_volume_by_coins(coin_list, exch_list):\n",
    "    \"\"\"\n",
    "    Return the graph of 90-days rolling volumes for each coin on all exchanges\n",
    "    Parameters: list of all coin names, volume dataframes\n",
    "    \"\"\"\n",
    "    df = pd.concat(exch_list, axis=1)\n",
    "    rolling_df = []\n",
    "    for coin in coin_list:\n",
    "        coin_df = df[[col for col in df.columns if coin in col]]\n",
    "        coin_df[\"total_volume\"] = coin_df.sum(axis=1)\n",
    "        coin_df[f\"rolling_90_volume_{coin}\"] = (\n",
    "            coin_df[\"total_volume\"].rolling(90).mean()\n",
    "        )\n",
    "        rolling_df.append(coin_df[f\"rolling_90_volume_{coin}\"])\n",
    "    rolling_df = pd.concat(rolling_df, axis=1)\n",
    "    rolling_df.plot(figsize=(12, 7))\n",
    "\n",
    "\n",
    "def plot_rolling_volume_by_exchange(exch_list, exch_names):\n",
    "    \"\"\"\n",
    "    Return the graph of 90-days rolling volumes for each exchanges for all coins\n",
    "    Parameters: volume dataframes, volume dataframes' names\n",
    "    \"\"\"\n",
    "    df = pd.concat(exch_list, axis=1)\n",
    "    rolling_df = []\n",
    "    for exch in exch_names:\n",
    "        exch_cols = [col for col in df.columns if exch in col]\n",
    "        exch_df = df[exch_cols]\n",
    "        exch_df[\"total_volume\"] = exch_df.sum(axis=1)\n",
    "        exch_df[f\"rolling_90_volume_{exch}\"] = (\n",
    "            exch_df[\"total_volume\"].rolling(90).mean()\n",
    "        )\n",
    "        rolling_df.append(exch_df[f\"rolling_90_volume_{exch}\"])\n",
    "    rolling_df = pd.concat(rolling_df, axis=1)\n",
    "    rolling_df.plot(figsize=(12, 7))\n",
    "\n",
    "\n",
    "def compare_weekdays_volumes(exch_list):\n",
    "    \"\"\"\n",
    "    Return statistics and graphs with working days vs.\n",
    "\n",
    "    weekends analysis\n",
    "    Parameters: volume dataframes\n",
    "    \"\"\"\n",
    "    # clean the existing dataframes from previously calculated volumes\n",
    "    df = pd.concat(exch_list, axis=1)\n",
    "    df = df[[col for col in df.columns if \"total_volume\" not in col]]\n",
    "    df = df[[col for col in df.columns if \"rolling_volume\" not in col]]\n",
    "    # calculate new volumes that sum up all coins and exchanges\n",
    "    df[\"total_volume\"] = df.sum(axis=1)\n",
    "    # create column with ids for weekdays\n",
    "    df[\"weekday\"] = df.index.map(lambda x: x.weekday())\n",
    "    # plot total amount of volume for each day\n",
    "    df.groupby(\"weekday\").total_volume.sum().plot.bar(figsize=(12, 7))\n",
    "    # plot working days vs. weekends\n",
    "    weekends = df[(df[\"weekday\"] == 5) | (df[\"weekday\"] == 6)]\n",
    "    sns.displot(weekends, x=\"total_volume\")\n",
    "    weekdays = df[(df[\"weekday\"] != 5) & (df[\"weekday\"] != 6)]\n",
    "    sns.displot(weekdays, x=\"total_volume\")\n",
    "    # calculate descriptive statistics for working days vs. weekends\n",
    "    print(\"Descriptive statistics:\")\n",
    "    weeknd_stat = weekends[\"total_volume\"].describe()\n",
    "    weekdys_stat = weekdays[\"total_volume\"].describe()\n",
    "    weeknd_stat = pd.DataFrame(weeknd_stat)\n",
    "    weekdys_stat = pd.DataFrame(weekdys_stat)\n",
    "    stats = pd.concat([weeknd_stat, weekdys_stat], axis=1)\n",
    "    stats.columns = [\"weekends\", \"working_days\"]\n",
    "    print(stats)\n",
    "    print(\n",
    "        \"The graph labels in respective order: Total Volume by weekdays, Distribution of Volume over weekends, Distribution of Volume over working days\"\n",
    "    )\n",
    "\n",
    "\n",
    "def get_initial_df_with_volumes(coins, exchange):\n",
    "    \"\"\"\n",
    "    Return DataFrame with the volume of all coins for exhange with initial timestamps\n",
    "    Parameters: list of coins, exchange name\n",
    "    \"\"\"\n",
    "    result = []\n",
    "    for coin in coins:\n",
    "        df = config.read_data_from_filesystem(\n",
    "            exchange_id=exchange, currency_pair=coin, data_type=\"OHLCV\"\n",
    "        )\n",
    "        result.append(df[\"volume\"])\n",
    "    final_result = pd.concat(result, axis=1)\n",
    "    return final_result\n",
    "\n",
    "\n",
    "def plot_ath_volumes_comparison(df):\n",
    "    \"\"\"\n",
    "    Return the graph with the comparison of total trading volume in ATH vs.\n",
    "\n",
    "    non-ATH\n",
    "    Parameters: dataframe with volumes from a given exchange\n",
    "    \"\"\"\n",
    "    df_ath = df.iloc[df.index.indexer_between_time(\"09:30\", \"16:00\")]\n",
    "    df_not_ath = df.loc[~df.index.isin(df_ath.index)]\n",
    "    ath_stat = pd.DataFrame(columns=[\"total_volume_ath\", \"total_volume_not_ath\"])\n",
    "    ath_stat.loc[0, \"total_volume_ath\"] = df_ath.sum().sum()\n",
    "    ath_stat.loc[0, \"total_volume_not_ath\"] = df_not_ath.sum().sum()\n",
    "    ath_stat.plot.bar()"
   ]
  },
  {
   "cell_type": "markdown",
   "id": "74d35e28",
   "metadata": {},
   "source": [
    "### Supporting variables"
   ]
  },
  {
   "cell_type": "code",
   "execution_count": null,
   "id": "64188e9d",
   "metadata": {},
   "outputs": [],
   "source": [
    "# get the list of all coin paires for each exchange\n",
    "binance_coins = imdauni.get_trade_universe(\"v0_1\")[\"CCXT\"][\"binance\"]\n",
    "bitfinex_coins = imdauni.get_trade_universe(\"v0_1\")[\"CCXT\"][\"bitfinex\"]\n",
    "ftx_coins = imdauni.get_trade_universe(\"v0_1\")[\"CCXT\"][\"ftx\"]\n",
    "gateio_coins = imdauni.get_trade_universe(\"v0_1\")[\"CCXT\"][\"gateio\"]\n",
    "kucoin_coins = imdauni.get_trade_universe(\"v0_1\")[\"CCXT\"][\"kucoin\"]\n",
    "\n",
    "suffixes = {\n",
    "    \"ADA/USDT\": \"ada\",\n",
    "    \"AVAX/USDT\": \"avax\",\n",
    "    \"BNB/USDT\": \"bnb\",\n",
    "    \"BTC/USDT\": \"btc\",\n",
    "    \"DOGE/USDT\": \"doge\",\n",
    "    \"EOS/USDT\": \"eos\",\n",
    "    \"ETH/USDT\": \"eth\",\n",
    "    \"LINK/USDT\": \"link\",\n",
    "    \"SOL/USDT\": \"sol\",\n",
    "    \"FIL/USDT\": \"fil\",\n",
    "    \"XRP/USDT\": \"xrp\",\n",
    "}\n",
    "\n",
    "# get the list of all unique coin names\n",
    "coins = set(\n",
    "    binance_coins + bitfinex_coins + ftx_coins + gateio_coins + kucoin_coins\n",
    ")\n",
    "coins = [i.split(\"/\")[0].lower() for i in coins]\n",
    "\n",
    "exch_names = [\"binance\", \"bitfinex\", \"ftx\", \"gateio\", \"kucoin\"]"
   ]
  },
  {
   "cell_type": "markdown",
   "id": "767ee083",
   "metadata": {},
   "source": [
    "## Load the volumes dataframes"
   ]
  },
  {
   "cell_type": "code",
   "execution_count": null,
   "id": "54e06500",
   "metadata": {},
   "outputs": [],
   "source": [
    "binance = get_volume_df_for_exch(binance_coins, \"binance\")\n",
    "bitfinex = get_volume_df_for_exch(bitfinex_coins, \"bitfinex\")\n",
    "ftx = get_volume_df_for_exch(ftx_coins, \"ftx\")\n",
    "gateio = get_volume_df_for_exch(gateio_coins, \"gateio\")\n",
    "kucoin = get_volume_df_for_exch(kucoin_coins, \"kucoin\")"
   ]
  },
  {
   "cell_type": "code",
   "execution_count": null,
   "id": "dbf67dd8",
   "metadata": {},
   "outputs": [],
   "source": [
    "binance.name = \"binance\"\n",
    "bitfinex.name = \"bitfinex\"\n",
    "ftx.name = \"ftx\"\n",
    "gateio.name = \"gateio\"\n",
    "kucoin.name = \"kucoin\"\n",
    "\n",
    "exch_list = [binance, bitfinex, ftx, gateio, kucoin]"
   ]
  },
  {
   "cell_type": "markdown",
   "id": "dd1603f8",
   "metadata": {},
   "source": [
    "# Compute total trading volume for each currency\n"
   ]
  },
  {
   "cell_type": "code",
   "execution_count": null,
   "id": "7e8d7629",
   "metadata": {},
   "outputs": [],
   "source": [
    "total_trading_vol = get_total_trading_volume_by_coins(coins, exch_list)"
   ]
  },
  {
   "cell_type": "code",
   "execution_count": null,
   "id": "dfa8b50f",
   "metadata": {},
   "outputs": [],
   "source": [
    "total_trading_vol"
   ]
  },
  {
   "cell_type": "code",
   "execution_count": null,
   "id": "f545727f",
   "metadata": {},
   "outputs": [],
   "source": [
    "total_trading_vol[\"total_trading_volume\"].plot.bar(figsize=(15, 7))"
   ]
  },
  {
   "cell_type": "code",
   "execution_count": null,
   "id": "b2e94284",
   "metadata": {},
   "outputs": [],
   "source": [
    "# normalised\n",
    "total_trading_vol[\"normalised_total_volume\"].plot.bar(figsize=(15, 7))"
   ]
  },
  {
   "cell_type": "markdown",
   "id": "e552381c",
   "metadata": {},
   "source": [
    "# Rolling volume for each currency"
   ]
  },
  {
   "cell_type": "code",
   "execution_count": null,
   "id": "cd7b7b3f",
   "metadata": {},
   "outputs": [],
   "source": [
    "plot_rolling_volume_by_coins(coins, exch_list)"
   ]
  },
  {
   "cell_type": "markdown",
   "id": "da663556",
   "metadata": {},
   "source": [
    "# Compute total volume per exchange"
   ]
  },
  {
   "cell_type": "code",
   "execution_count": null,
   "id": "8bf07794",
   "metadata": {},
   "outputs": [],
   "source": [
    "exchange_trading_volume = get_total_trading_volume_by_exchange(exch_list)"
   ]
  },
  {
   "cell_type": "code",
   "execution_count": null,
   "id": "5bab5c82",
   "metadata": {},
   "outputs": [],
   "source": [
    "exchange_trading_volume"
   ]
  },
  {
   "cell_type": "code",
   "execution_count": null,
   "id": "305663fc",
   "metadata": {},
   "outputs": [],
   "source": [
    "# binance seems to attract the most attention in terms of trade volume\n",
    "exchange_trading_volume[\"total_exchange_trading_volume\"].plot.bar(\n",
    "    figsize=(15, 7), logy=True\n",
    ")"
   ]
  },
  {
   "cell_type": "code",
   "execution_count": null,
   "id": "1b3b2b43",
   "metadata": {},
   "outputs": [],
   "source": [
    "# normalised\n",
    "exchange_trading_volume[\"total_exchange_normalised_trading_volume\"].plot.bar(\n",
    "    figsize=(15, 7), logy=True\n",
    ")"
   ]
  },
  {
   "cell_type": "markdown",
   "id": "01d75a9d",
   "metadata": {},
   "source": [
    "# Rolling volume for each exchange"
   ]
  },
  {
   "cell_type": "code",
   "execution_count": null,
   "id": "5250bd8e",
   "metadata": {},
   "outputs": [],
   "source": [
    "plot_rolling_volume_by_exchange(exch_list, exch_names)"
   ]
  },
  {
   "cell_type": "markdown",
   "id": "bfb18665",
   "metadata": {},
   "source": [
    "# Is volume constant over different days? E.g., weekend vs workdays?"
   ]
  },
  {
   "cell_type": "code",
   "execution_count": null,
   "id": "c9989810",
   "metadata": {},
   "outputs": [],
   "source": [
    "compare_weekdays_volumes(exch_list)"
   ]
  },
  {
   "cell_type": "markdown",
   "id": "0fe1a8f7",
   "metadata": {},
   "source": [
    "# How does it vary over hours? E.g., US stock times 9:30-16 vs other time"
   ]
  },
  {
   "cell_type": "markdown",
   "id": "df13454e",
   "metadata": {},
   "source": [
    "## Binance example"
   ]
  },
  {
   "cell_type": "code",
   "execution_count": null,
   "id": "0e0b85e7",
   "metadata": {},
   "outputs": [],
   "source": [
    "binance_1 = get_initial_df_with_volumes(binance_coins, \"binance\")"
   ]
  },
  {
   "cell_type": "code",
   "execution_count": null,
   "id": "c5fef9d3",
   "metadata": {},
   "outputs": [],
   "source": [
    "plot_ath_volumes_comparison(binance_1)"
   ]
  }
 ],
 "metadata": {
  "jupytext": {
   "text_representation": {
    "extension": ".py",
    "format_name": "percent",
    "format_version": "1.3",
    "jupytext_version": "1.13.0"
   }
  },
  "kernelspec": {
   "display_name": "Python 3 (ipykernel)",
   "language": "python",
   "name": "python3"
  },
  "language_info": {
   "codemirror_mode": {
    "name": "ipython",
    "version": 3
   },
   "file_extension": ".py",
   "mimetype": "text/x-python",
   "name": "python",
   "nbconvert_exporter": "python",
   "pygments_lexer": "ipython3"
  },
  "toc": {
   "base_numbering": 1,
   "nav_menu": {},
   "number_sections": true,
   "sideBar": true,
   "skip_h1_title": false,
   "title_cell": "Table of Contents",
   "title_sidebar": "Contents",
   "toc_cell": false,
   "toc_position": {},
   "toc_section_display": true,
   "toc_window_display": false
  }
 },
 "nbformat": 4,
 "nbformat_minor": 5
}
