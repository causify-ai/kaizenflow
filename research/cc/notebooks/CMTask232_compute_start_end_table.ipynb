{
 "cells": [
  {
   "cell_type": "markdown",
   "id": "6c7d4ad7",
   "metadata": {},
   "source": [
    "# Description"
   ]
  },
  {
   "cell_type": "markdown",
   "id": "865f664a",
   "metadata": {},
   "source": [
    "This notebook computes earliest/latest data timestamps available per data provider, exchange, currency pair."
   ]
  },
  {
   "cell_type": "markdown",
   "id": "743eba77",
   "metadata": {},
   "source": [
    "# Imports"
   ]
  },
  {
   "cell_type": "code",
   "execution_count": null,
   "id": "6541f5db",
   "metadata": {},
   "outputs": [],
   "source": [
    "import logging\n",
    "import os\n",
    "from typing import Union\n",
    "\n",
    "import numpy as np\n",
    "import pandas as pd\n",
    "\n",
    "import core.config.config_ as ccocon\n",
    "import helpers.dbg as hdbg\n",
    "import helpers.env as henv\n",
    "import helpers.printing as hprintin\n",
    "import helpers.s3 as hs3\n",
    "import im.ccxt.data.load.loader as imccdaloloa\n",
    "import im.cryptodatadownload.data.load.loader as imcrdaloloa\n",
    "import im.data.universe as imdauni"
   ]
  },
  {
   "cell_type": "code",
   "execution_count": null,
   "id": "0ac98ec8",
   "metadata": {},
   "outputs": [],
   "source": [
    "hdbg.init_logger(verbosity=logging.INFO)\n",
    "\n",
    "_LOG = logging.getLogger(__name__)\n",
    "\n",
    "_LOG.info(\"%s\", henv.get_system_signature()[0])\n",
    "\n",
    "hprintin.config_notebook()"
   ]
  },
  {
   "cell_type": "code",
   "execution_count": null,
   "id": "ac5c3481",
   "metadata": {},
   "outputs": [],
   "source": [
    "_LOADER = Union[imccdaloloa.CcxtLoader, imcrdaloloa.CddLoader]"
   ]
  },
  {
   "cell_type": "markdown",
   "id": "3ba88f9a",
   "metadata": {},
   "source": [
    "# Config"
   ]
  },
  {
   "cell_type": "code",
   "execution_count": null,
   "id": "7dd24246",
   "metadata": {},
   "outputs": [],
   "source": [
    "def get_cmtask232_config() -> ccocon.Config:\n",
    "    \"\"\"\n",
    "    Get task232-specific config.\n",
    "    \"\"\"\n",
    "    config = ccocon.Config()\n",
    "    # Load parameters.\n",
    "    config.add_subconfig(\"load\")\n",
    "    config[\"load\"][\"aws_profile\"] = \"am\"\n",
    "    config[\"load\"][\"data_dir\"] = os.path.join(hs3.get_path(), \"data\")\n",
    "    # Data parameters.\n",
    "    config.add_subconfig(\"data\")\n",
    "    config[\"data\"][\"data_type\"] = \"OHLCV\"\n",
    "    config[\"data\"][\"universe_version\"] = \"01\"\n",
    "    # Column names.\n",
    "    config.add_subconfig(\"column_names\")\n",
    "    config[\"column_names\"][\"currency\"] = \"currency_pair\"\n",
    "    config[\"column_names\"][\"exchange\"] = \"exchange_id\"\n",
    "    config[\"column_names\"][\"timestamp\"] = \"timestamp\"\n",
    "    return config\n",
    "\n",
    "\n",
    "config = get_cmtask232_config()\n",
    "print(config)"
   ]
  },
  {
   "cell_type": "markdown",
   "id": "944e359f",
   "metadata": {},
   "source": [
    "# Compute start-end table"
   ]
  },
  {
   "cell_type": "code",
   "execution_count": null,
   "id": "d31bad16",
   "metadata": {},
   "outputs": [],
   "source": [
    "def get_loader_for_vendor(vendor: str, config: ccocon.Config) -> _LOADER:\n",
    "    \"\"\"\n",
    "    Get vendor specific loader instance.\n",
    "\n",
    "    :param vendor: data provider, e.g. `CCXT`\n",
    "    :return: loader instance\n",
    "    \"\"\"\n",
    "    if vendor == \"CCXT\":\n",
    "        loader = imccdaloloa.CcxtLoader(\n",
    "            root_dir=config[\"load\"][\"data_dir\"],\n",
    "            aws_profile=config[\"load\"][\"aws_profile\"],\n",
    "        )\n",
    "    elif vendor == \"CDD\":\n",
    "        loader = imcrdaloloa.CddLoader(\n",
    "            root_dir=config[\"load\"][\"data_dir\"],\n",
    "            aws_profile=config[\"load\"][\"aws_profile\"],\n",
    "        )\n",
    "    else:\n",
    "        raise ValueError(f\"Unsupported vendor={vendor}\")\n",
    "    return loader\n",
    "\n",
    "\n",
    "# TODO(Grisha): convert all start-end table related functions into a class.\n",
    "def compute_start_end_table(\n",
    "    price_data: pd.DataFrame, config: ccocon.Config\n",
    ") -> pd.DataFrame:\n",
    "    \"\"\"\n",
    "    Compute start-end table on exchange-currency level.\n",
    "\n",
    "    Start-end table's structure is:\n",
    "        - exchange name\n",
    "        - currency pair\n",
    "        - minimum observed timestamp\n",
    "        - maximum observed timestamp\n",
    "        - the number of data points\n",
    "        - the number of days for which data is available\n",
    "        - average number of data points per day\n",
    "        - data coverage, which is actual number of observations divided by\n",
    "          expected number of observations (assuming 1 minute resolution)\n",
    "          as percentage\n",
    "\n",
    "    :param price_data: crypto price data\n",
    "    :return: start-end table\n",
    "    \"\"\"\n",
    "    # Reset `DatetimeIndex` to use it for stats computation.\n",
    "    price_data_no_index = price_data.reset_index()\n",
    "    # Group by exchange, currency.\n",
    "    price_data_grouped = price_data_no_index.groupby(\n",
    "        [\n",
    "            config[\"column_names\"][\"exchange\"],\n",
    "            config[\"column_names\"][\"currency\"],\n",
    "        ]\n",
    "    )\n",
    "    # Compute the stats.\n",
    "    start_end_table = (\n",
    "        price_data_grouped[config[\"column_names\"][\"timestamp\"]]\n",
    "        .agg(\n",
    "            min_timestamp=np.min,\n",
    "            max_timestamp=np.max,\n",
    "            n_data_points=\"count\",\n",
    "        )\n",
    "        .reset_index()\n",
    "    )\n",
    "    start_end_table[\"days_available\"] = (\n",
    "        start_end_table[\"max_timestamp\"] - start_end_table[\"min_timestamp\"]\n",
    "    ).dt.days\n",
    "    start_end_table[\"avg_data_points_per_day\"] = (\n",
    "        start_end_table[\"n_data_points\"] / start_end_table[\"days_available\"]\n",
    "    )\n",
    "    # One minute resolution is assumed, i.e. 24 * 60 observations per day.\n",
    "    start_end_table[\"coverage\"] = round(\n",
    "        (100 * start_end_table[\"n_data_points\"])\n",
    "        / (start_end_table[\"days_available\"] * 24 * 60),\n",
    "        2,\n",
    "    )\n",
    "    return start_end_table\n",
    "\n",
    "\n",
    "def compute_start_end_table_for_vendor(\n",
    "    vendor_universe: str, loader, config: ccocon.Config\n",
    ") -> pd.DataFrame:\n",
    "    \"\"\"\n",
    "    Same as `compute_start_end_table` but for all exchanges, currency pairs\n",
    "    available for a certain vendor.\n",
    "\n",
    "    :param vendor_universe: all exchanges, currency pairs avaiable for a vendor\n",
    "    :param loader: vendor specific loader instance\n",
    "    :return: vendor specific start-end table\n",
    "    \"\"\"\n",
    "    start_end_tables = []\n",
    "    for exchange in vendor_universe.keys():\n",
    "        # Get the downloaded currency pairs for a particular exchange.\n",
    "        currency_pairs = vendor_universe[exchange]\n",
    "        for currency_pair in currency_pairs:\n",
    "            # Read data for current data provider, exchange, currency pair.\n",
    "            cur_df = loader.read_data_from_filesystem(\n",
    "                exchange,\n",
    "                currency_pair,\n",
    "                config[\"data\"][\"data_type\"],\n",
    "            )\n",
    "            # Compute `start-end table`.\n",
    "            cur_start_end_table = compute_start_end_table(cur_df, config)\n",
    "            start_end_tables.append(cur_start_end_table)\n",
    "    # Concatenate the results.\n",
    "    start_end_table = pd.concat(start_end_tables, ignore_index=True)\n",
    "    # Sort values.\n",
    "    start_end_table_sorted = start_end_table.sort_values(\n",
    "        by=\"days_available\", ascending=False\n",
    "    )\n",
    "    return start_end_table_sorted\n",
    "\n",
    "\n",
    "def compute_start_end_table_for_vendors(config: ccocon.Config) -> pd.DataFrame:\n",
    "    \"\"\"\n",
    "    Same as `compute_start_end_table_for_vendor` but for all vendors in the\n",
    "    universe.\n",
    "\n",
    "    :return: start-end table for all vendors in the universe\n",
    "    \"\"\"\n",
    "    # Load the universe.\n",
    "    universe = imdauni.get_trade_universe(config[\"data\"][\"universe_version\"])\n",
    "    # Exclude CDD for now since there are many problems with data.\n",
    "    # TODO(Grisha): file a bug about CDD data.\n",
    "    universe.pop(\"CDD\")\n",
    "    # TODO(Grisha): fix the duplicates problem in #274.\n",
    "    universe[\"CCXT\"].pop(\"bitfinex\")\n",
    "    #\n",
    "    start_end_tables = []\n",
    "    for vendor in universe.keys():\n",
    "        # Get vendor-specific universe.\n",
    "        vendor_universe = universe[vendor]\n",
    "        # Get vendor-specific loader.\n",
    "        loader = get_loader_for_vendor(vendor, config)\n",
    "        # Compute start-end table for the current vendor.\n",
    "        cur_start_end_table = compute_start_end_table_for_vendor(\n",
    "            vendor_universe, loader, config\n",
    "        )\n",
    "        cur_start_end_table[\"vendor\"] = vendor\n",
    "        start_end_tables.append(cur_start_end_table)\n",
    "    # Concatenate the results.\n",
    "    start_end_table = pd.concat(start_end_tables, ignore_index=True)\n",
    "    # Sort values.\n",
    "    start_end_table_sorted = start_end_table.sort_values(\n",
    "        by=\"days_available\", ascending=False\n",
    "    )\n",
    "    return start_end_table_sorted"
   ]
  },
  {
   "cell_type": "markdown",
   "id": "fac93f6c",
   "metadata": {},
   "source": [
    "## Per data provider, exchange, currency pair"
   ]
  },
  {
   "cell_type": "code",
   "execution_count": null,
   "id": "7c1c85d0",
   "metadata": {},
   "outputs": [],
   "source": [
    "start_end_table = compute_start_end_table_for_vendors(config)"
   ]
  },
  {
   "cell_type": "code",
   "execution_count": null,
   "id": "0fe5ef34",
   "metadata": {},
   "outputs": [],
   "source": [
    "_LOG.info(\n",
    "    \"The number of unique vendor, exchange, currency pair combinations=%s\",\n",
    "    start_end_table.shape[0],\n",
    ")\n",
    "start_end_table"
   ]
  },
  {
   "cell_type": "markdown",
   "id": "77bc6ef7",
   "metadata": {},
   "source": [
    "## Per currency pair"
   ]
  },
  {
   "cell_type": "code",
   "execution_count": null,
   "id": "c6df3239",
   "metadata": {},
   "outputs": [],
   "source": [
    "currency_start_end_table = (\n",
    "    start_end_table.groupby(\"currency_pair\")\n",
    "    .agg({\"min_timestamp\": np.min, \"max_timestamp\": np.max, \"exchange_id\": list})\n",
    "    .reset_index()\n",
    ")\n",
    "currency_start_end_table[\"days_available\"] = (\n",
    "    currency_start_end_table[\"max_timestamp\"] - currency_start_end_table[\"min_timestamp\"]\n",
    ").dt.days\n",
    "currency_start_end_table_sorted = currency_start_end_table.sort_values(\n",
    "    by=\"days_available\",\n",
    "    ascending=False,\n",
    ")\n",
    "_LOG.info(\n",
    "    \"The number of unique currency pairs=%s\", currency_start_end_table_sorted.shape[0]\n",
    ")\n",
    "currency_start_end_table_sorted"
   ]
  }
 ],
 "metadata": {
  "jupytext": {
   "text_representation": {
    "extension": ".py",
    "format_name": "percent",
    "format_version": "1.3",
    "jupytext_version": "1.13.0"
   }
  },
  "kernelspec": {
   "display_name": "Python 3 (ipykernel)",
   "language": "python",
   "name": "python3"
  },
  "language_info": {
   "codemirror_mode": {
    "name": "ipython",
    "version": 3
   },
   "file_extension": ".py",
   "mimetype": "text/x-python",
   "name": "python",
   "nbconvert_exporter": "python",
   "pygments_lexer": "ipython3"
  },
  "toc": {
   "base_numbering": 1,
   "nav_menu": {},
   "number_sections": true,
   "sideBar": true,
   "skip_h1_title": false,
   "title_cell": "Table of Contents",
   "title_sidebar": "Contents",
   "toc_cell": false,
   "toc_position": {},
   "toc_section_display": true,
   "toc_window_display": false
  }
 },
 "nbformat": 4,
 "nbformat_minor": 5
}
