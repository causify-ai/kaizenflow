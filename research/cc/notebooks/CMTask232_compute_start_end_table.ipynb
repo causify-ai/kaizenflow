{
 "cells": [
  {
   "cell_type": "markdown",
   "id": "6c7d4ad7",
   "metadata": {},
   "source": [
    "# Description"
   ]
  },
  {
   "cell_type": "markdown",
   "id": "865f664a",
   "metadata": {},
   "source": [
    "This notebook computes earliest/latest data timestamps available per data provider, exchange, currency pair."
   ]
  },
  {
   "cell_type": "markdown",
   "id": "743eba77",
   "metadata": {},
   "source": [
    "# Imports"
   ]
  },
  {
   "cell_type": "code",
   "execution_count": null,
   "id": "6541f5db",
   "metadata": {},
   "outputs": [],
   "source": [
    "import logging\n",
    "import os\n",
    "\n",
    "import numpy as np\n",
    "\n",
    "import core.config.config_ as ccocon\n",
    "import helpers.dbg as hdbg\n",
    "import helpers.env as henv\n",
    "import helpers.printing as hprintin\n",
    "import helpers.s3 as hs3\n",
    "import research.cc.statistics as rccsta"
   ]
  },
  {
   "cell_type": "code",
   "execution_count": null,
   "id": "0ac98ec8",
   "metadata": {},
   "outputs": [],
   "source": [
    "hdbg.init_logger(verbosity=logging.INFO)\n",
    "\n",
    "_LOG = logging.getLogger(__name__)\n",
    "\n",
    "_LOG.info(\"%s\", henv.get_system_signature()[0])\n",
    "\n",
    "hprintin.config_notebook()"
   ]
  },
  {
   "cell_type": "markdown",
   "id": "3ba88f9a",
   "metadata": {},
   "source": [
    "# Config"
   ]
  },
  {
   "cell_type": "code",
   "execution_count": null,
   "id": "7dd24246",
   "metadata": {},
   "outputs": [],
   "source": [
    "def get_cmtask232_config() -> ccocon.Config:\n",
    "    \"\"\"\n",
    "    Get task232-specific config.\n",
    "    \"\"\"\n",
    "    config = ccocon.Config()\n",
    "    # Load parameters.\n",
    "    config.add_subconfig(\"load\")\n",
    "    config[\"load\"][\"aws_profile\"] = \"am\"\n",
    "    config[\"load\"][\"data_dir\"] = os.path.join(hs3.get_path(), \"data\")\n",
    "    # Data parameters.\n",
    "    config.add_subconfig(\"data\")\n",
    "    config[\"data\"][\"data_type\"] = \"OHLCV\"\n",
    "    config[\"data\"][\"target_frequency\"] = \"T\"\n",
    "    config[\"data\"][\"universe_version\"] = \"02\"\n",
    "    # Column names.\n",
    "    config.add_subconfig(\"column_names\")\n",
    "    config[\"column_names\"][\"close_price\"] = \"close\"\n",
    "    config[\"column_names\"][\"currency_pair\"] = \"currency_pair\"\n",
    "    config[\"column_names\"][\"exchange\"] = \"exchange_id\"\n",
    "    return config\n",
    "\n",
    "\n",
    "config = get_cmtask232_config()\n",
    "print(config)"
   ]
  },
  {
   "cell_type": "markdown",
   "id": "944e359f",
   "metadata": {},
   "source": [
    "# Compute start-end table"
   ]
  },
  {
   "cell_type": "markdown",
   "id": "fac93f6c",
   "metadata": {},
   "source": [
    "## Per data provider, exchange, currency pair"
   ]
  },
  {
   "cell_type": "code",
   "execution_count": null,
   "id": "7c1c85d0",
   "metadata": {},
   "outputs": [],
   "source": [
    "compute_start_end_table = lambda data: rccsta.compute_start_end_table(data, config)\n",
    "\n",
    "start_end_table = rccsta.compute_stats_for_universe(\n",
    "    config, compute_start_end_table\n",
    ")"
   ]
  },
  {
   "cell_type": "code",
   "execution_count": null,
   "id": "0fe5ef34",
   "metadata": {},
   "outputs": [],
   "source": [
    "_LOG.info(\n",
    "    \"The number of unique vendor, exchange, currency pair combinations=%s\",\n",
    "    start_end_table.shape[0],\n",
    ")\n",
    "start_end_table.sort_values(by=\"days_available\", ascending=False).reset_index(\n",
    "    drop=True\n",
    ")"
   ]
  },
  {
   "cell_type": "markdown",
   "id": "77bc6ef7",
   "metadata": {},
   "source": [
    "## Per currency pair"
   ]
  },
  {
   "cell_type": "code",
   "execution_count": null,
   "id": "c6df3239",
   "metadata": {},
   "outputs": [],
   "source": [
    "# TODO(Grisha): Move to a lib.\n",
    "currency_start_end_table = (\n",
    "    start_end_table.groupby(\"currency_pair\")\n",
    "    .agg({\"min_timestamp\": np.min, \"max_timestamp\": np.max, \"exchange_id\": list})\n",
    "    .reset_index()\n",
    ")\n",
    "currency_start_end_table[\"days_available\"] = (\n",
    "    currency_start_end_table[\"max_timestamp\"]\n",
    "    - currency_start_end_table[\"min_timestamp\"]\n",
    ").dt.days\n",
    "currency_start_end_table_sorted = currency_start_end_table.sort_values(\n",
    "    by=\"days_available\",\n",
    "    ascending=False,\n",
    ").reset_index(drop=True)\n",
    "_LOG.info(\n",
    "    \"The number of unique currency pairs=%s\",\n",
    "    currency_start_end_table_sorted.shape[0],\n",
    ")\n",
    "currency_start_end_table_sorted"
   ]
  }
 ],
 "metadata": {
  "jupytext": {
   "text_representation": {
    "extension": ".py",
    "format_name": "percent",
    "format_version": "1.3",
    "jupytext_version": "1.13.0"
   }
  },
  "kernelspec": {
   "display_name": "Python 3 (ipykernel)",
   "language": "python",
   "name": "python3"
  },
  "language_info": {
   "codemirror_mode": {
    "name": "ipython",
    "version": 3
   },
   "file_extension": ".py",
   "mimetype": "text/x-python",
   "name": "python",
   "nbconvert_exporter": "python",
   "pygments_lexer": "ipython3"
  },
  "toc": {
   "base_numbering": 1,
   "nav_menu": {},
   "number_sections": true,
   "sideBar": true,
   "skip_h1_title": false,
   "title_cell": "Table of Contents",
   "title_sidebar": "Contents",
   "toc_cell": false,
   "toc_position": {},
   "toc_section_display": true,
   "toc_window_display": false
  }
 },
 "nbformat": 4,
 "nbformat_minor": 5
}
