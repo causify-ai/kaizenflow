{
 "cells": [
  {
   "cell_type": "markdown",
   "id": "6c7d4ad7",
   "metadata": {},
   "source": [
    "# Description"
   ]
  },
  {
   "cell_type": "markdown",
   "id": "865f664a",
   "metadata": {},
   "source": [
    "This notebook computes earliest/latest data timestamps available per data provider, exchange, currency pair."
   ]
  },
  {
   "cell_type": "markdown",
   "id": "743eba77",
   "metadata": {},
   "source": [
    "# Imports"
   ]
  },
  {
   "cell_type": "code",
   "execution_count": null,
   "id": "6541f5db",
   "metadata": {},
   "outputs": [],
   "source": [
    "# TODO(Grisha): move to `core/dataflow_model/notebooks` in #205.\n",
    "\n",
    "import logging\n",
    "import os\n",
    "from typing import Union\n",
    "\n",
    "import numpy as np\n",
    "import pandas as pd\n",
    "\n",
    "import core.config.config_ as ccocon\n",
    "import helpers.dbg as hdbg\n",
    "import helpers.env as henv\n",
    "import helpers.git as hgit\n",
    "import helpers.io_ as hio\n",
    "import helpers.printing as hprintin\n",
    "import helpers.s3 as hs3\n",
    "import im.ccxt.data.load.loader as imccdaloloa\n",
    "import im.cryptodatadownload.data.load.loader as imcrdaloloa"
   ]
  },
  {
   "cell_type": "code",
   "execution_count": null,
   "id": "0ac98ec8",
   "metadata": {},
   "outputs": [],
   "source": [
    "hdbg.init_logger(verbosity=logging.INFO)\n",
    "\n",
    "_LOG = logging.getLogger(__name__)\n",
    "\n",
    "_LOG.info(\"%s\", henv.get_system_signature()[0])\n",
    "\n",
    "hprintin.config_notebook()"
   ]
  },
  {
   "cell_type": "code",
   "execution_count": null,
   "id": "ac5c3481",
   "metadata": {},
   "outputs": [],
   "source": [
    "_LOADER = Union[imccdaloloa.CcxtLoader, imcrdaloloa.CddLoader]"
   ]
  },
  {
   "cell_type": "markdown",
   "id": "3ba88f9a",
   "metadata": {},
   "source": [
    "# Config"
   ]
  },
  {
   "cell_type": "code",
   "execution_count": null,
   "id": "7dd24246",
   "metadata": {},
   "outputs": [],
   "source": [
    "def get_cmtask232_config() -> ccocon.Config:\n",
    "    \"\"\"\n",
    "    Get task232-specific config.\n",
    "    \"\"\"\n",
    "    config = ccocon.Config()\n",
    "    # Load parameters.\n",
    "    config.add_subconfig(\"load\")\n",
    "    config[\"load\"][\"aws_profile\"] = \"am\"\n",
    "    config[\"load\"][\"data_dir\"] = os.path.join(hs3.get_path(), \"data\")\n",
    "    # Data parameters.\n",
    "    config.add_subconfig(\"data\")\n",
    "    config[\"data\"][\"data_providers\"] = [\"CCXT\", \"CDD\"]\n",
    "    config[\"data\"][\"data_type\"] = \"OHLCV\"\n",
    "    config[\"data\"][\"universe_file_path\"] = os.path.join(\n",
    "        hgit.get_client_root(False),\n",
    "        \"im/data/downloaded_currencies.json\",\n",
    "    )\n",
    "    return config\n",
    "\n",
    "\n",
    "config = get_cmtask232_config()\n",
    "print(config)"
   ]
  },
  {
   "cell_type": "markdown",
   "id": "944e359f",
   "metadata": {},
   "source": [
    "# Compute start-end-table"
   ]
  },
  {
   "cell_type": "code",
   "execution_count": null,
   "id": "d31bad16",
   "metadata": {},
   "outputs": [],
   "source": [
    "def compute_start_end_table(\n",
    "    data_provider: str, loader: _LOADER, config: ccocon.Config\n",
    ") -> pd.DataFrame:\n",
    "    \"\"\"\n",
    "    Compute data provider specific start-end-table.\n",
    "\n",
    "    Start-end-table's structure is:\n",
    "        - exchange name\n",
    "        - currency pair\n",
    "        - minimum observed timestamp\n",
    "        - maximum observed timestamp\n",
    "\n",
    "    :param data_provider: data provider, e.g. `CCXT`\n",
    "    :param loader: provider specific loader instance\n",
    "    :return: data provider specific start-end-table\n",
    "    \"\"\"\n",
    "    # Load the universe.\n",
    "    universe = hio.from_json(config[\"data\"][\"universe_file_path\"])\n",
    "    # TODO(Grisha): fix loading in #244.\n",
    "    universe[\"CDD\"][\"binance\"].remove(\"SCU/USDT\")\n",
    "    # TODO(Grisha): fix timestamps in #253.\n",
    "    universe[\"CDD\"].pop(\"kucoin\")\n",
    "    hdbg.dassert_in(data_provider, universe.keys())\n",
    "    # Get provider-specific universe.\n",
    "    provider_universe = universe[data_provider]\n",
    "    start_end_tables = []\n",
    "    for exchange in provider_universe.keys():\n",
    "        # Get the downloaded currency pairs for a particular exchange.\n",
    "        currency_pairs = provider_universe[exchange]\n",
    "        for currency_pair in currency_pairs:\n",
    "            # Read data for current data provider, exchange, currency pair.\n",
    "            cur_df = loader.read_data_from_filesystem(\n",
    "                exchange,\n",
    "                currency_pair,\n",
    "                config[\"data\"][\"data_type\"],\n",
    "            )\n",
    "            # Compute `start-end-table`.\n",
    "            cur_start_end_table = pd.DataFrame(\n",
    "                {\n",
    "                    \"data_provider\": [data_provider],\n",
    "                    \"exchange\": [exchange],\n",
    "                    \"currency\": [currency_pair],\n",
    "                    \"min_timestamp\": [cur_df.index.min()],\n",
    "                    \"max_timestamp\": [cur_df.index.max()],\n",
    "                }\n",
    "            )\n",
    "            start_end_tables.append(cur_start_end_table)\n",
    "    # Concatenate the results.\n",
    "    start_end_table = pd.concat(start_end_tables, ignore_index=True)\n",
    "    return start_end_table\n",
    "\n",
    "\n",
    "def get_loader_for_data_provider(\n",
    "    data_provider: str, config: ccocon.Config\n",
    ") -> _LOADER:\n",
    "    \"\"\"\n",
    "    Get data provider specific loader instance.\n",
    "\n",
    "    :param data_provider: data provider, e.g. `CCXT`\n",
    "    :return: loader instance\n",
    "    \"\"\"\n",
    "    if data_provider == \"CCXT\":\n",
    "        loader = imccdaloloa.CcxtLoader(\n",
    "            root_dir=config[\"load\"][\"data_dir\"],\n",
    "            aws_profile=config[\"load\"][\"aws_profile\"],\n",
    "        )\n",
    "    elif data_provider == \"CDD\":\n",
    "        loader = imcrdaloloa.CddLoader(\n",
    "            root_dir=config[\"load\"][\"data_dir\"],\n",
    "            aws_profile=config[\"load\"][\"aws_profile\"],\n",
    "        )\n",
    "    else:\n",
    "        raise ValueError(f\"Unsupported data provider={data_provider}\")\n",
    "    return loader"
   ]
  },
  {
   "cell_type": "markdown",
   "id": "fac93f6c",
   "metadata": {},
   "source": [
    "## Per data provider, exchange, currency pair"
   ]
  },
  {
   "cell_type": "code",
   "execution_count": null,
   "id": "7c1c85d0",
   "metadata": {},
   "outputs": [],
   "source": [
    "start_end_tables = []\n",
    "for data_provider in config[\"data\"][\"data_providers\"]:\n",
    "    loader = get_loader_for_data_provider(data_provider, config)\n",
    "    cur_start_end_table = compute_start_end_table(data_provider, loader, config)\n",
    "    start_end_tables.append(cur_start_end_table)"
   ]
  },
  {
   "cell_type": "code",
   "execution_count": null,
   "id": "0fe5ef34",
   "metadata": {},
   "outputs": [],
   "source": [
    "start_end_table = pd.concat(start_end_tables, ignore_index=True)\n",
    "_LOG.info(\n",
    "    \"The number of unique data provider, exchange, currency pair combinations=%s\",\n",
    "    start_end_table.shape[0],\n",
    ")\n",
    "start_end_table"
   ]
  },
  {
   "cell_type": "markdown",
   "id": "77bc6ef7",
   "metadata": {},
   "source": [
    "## Per currency pair"
   ]
  },
  {
   "cell_type": "code",
   "execution_count": null,
   "id": "c6df3239",
   "metadata": {},
   "outputs": [],
   "source": [
    "currency_start_end_table = (\n",
    "    start_end_table.groupby(\"currency\")\n",
    "    .agg({\"min_timestamp\": np.min, \"max_timestamp\": np.max})\n",
    "    .reset_index()\n",
    ")\n",
    "_LOG.info(\n",
    "    \"The number of unique currency pairs=%s\", currency_start_end_table.shape[0]\n",
    ")\n",
    "currency_start_end_table"
   ]
  }
 ],
 "metadata": {
  "jupytext": {
   "text_representation": {
    "extension": ".py",
    "format_name": "percent",
    "format_version": "1.3",
    "jupytext_version": "1.13.0"
   }
  },
  "kernelspec": {
   "display_name": "Python 3 (ipykernel)",
   "language": "python",
   "name": "python3"
  },
  "language_info": {
   "codemirror_mode": {
    "name": "ipython",
    "version": 3
   },
   "file_extension": ".py",
   "mimetype": "text/x-python",
   "name": "python",
   "nbconvert_exporter": "python",
   "pygments_lexer": "ipython3"
  },
  "toc": {
   "base_numbering": 1,
   "nav_menu": {},
   "number_sections": true,
   "sideBar": true,
   "skip_h1_title": false,
   "title_cell": "Table of Contents",
   "title_sidebar": "Contents",
   "toc_cell": false,
   "toc_position": {},
   "toc_section_display": true,
   "toc_window_display": false
  }
 },
 "nbformat": 4,
 "nbformat_minor": 5
}
