{
 "cells": [
  {
   "cell_type": "code",
   "execution_count": 2,
   "id": "25fd3d36",
   "metadata": {
    "ExecuteTime": {
     "end_time": "2023-03-04T02:53:45.391046Z",
     "start_time": "2023-03-04T02:53:45.253818Z"
    }
   },
   "outputs": [],
   "source": [
    "import numpy as np"
   ]
  },
  {
   "cell_type": "code",
   "execution_count": 3,
   "id": "9bfe1257",
   "metadata": {
    "ExecuteTime": {
     "end_time": "2023-03-04T02:53:46.161271Z",
     "start_time": "2023-03-04T02:53:46.134284Z"
    }
   },
   "outputs": [
    {
     "name": "stdout",
     "output_type": "stream",
     "text": [
      "buy 3 wBTC with limit_price=nan\n",
      "buy 8 wBTC with limit_price=nan\n",
      "sell 9 wBTC with limit_price=nan\n",
      "sell 1 wBTC with limit_price=nan\n",
      "buy 4 ETH with limit_price=nan\n",
      "buy 5 wBTC with limit_price=nan\n",
      "buy 3 ETH with limit_price=nan\n",
      "buy 3 ETH with limit_price=nan\n",
      "buy 3 wBTC with limit_price=nan\n",
      "buy 6 ETH with limit_price=nan\n",
      "# Sum\n",
      "buy wBTC 19 with limit_price=nan\n",
      "sell wBTC 10 with limit_price=nan\n",
      "buy ETH 16 with limit_price=nan\n"
     ]
    }
   ],
   "source": [
    "class Order:\n",
    "    \n",
    "    def __init__(self, action, quantity, coin, limit_price=np.nan):\n",
    "        self.action = action\n",
    "        self.coin = coin\n",
    "        self.quantity = quantity\n",
    "        self.limit_price = limit_price\n",
    "        \n",
    "    def __repr__(self):\n",
    "        return str(self)\n",
    "        \n",
    "    def __str__(self):\n",
    "        #ret = \"action=%s quantity=%s coin=%s limit_price=%s\" % (self.action, self.quantity, self.coin, self.limit_price)\n",
    "        ret = \"%s %s %s with limit_price=%s\" % (self.action, self.quantity, self.coin, self.limit_price)\n",
    "        return ret\n",
    "    \n",
    "        \n",
    "class Fill:\n",
    "    \n",
    "    def __init__(self, order, quantity):\n",
    "        assert 0 <= quantity\n",
    "        assert quantity <= order.quantity\n",
    "        \n",
    "        \n",
    "def get_random_order(seed=None):\n",
    "    if seed is not None:\n",
    "        np.random.seed(seed)\n",
    "    action = \"buy\" if np.random.random() < 0.5 else \"sell\"\n",
    "    quantity = np.random.randint(1, 10)\n",
    "    coin = \"ETH\" if np.random.random() < 0.5 else \"wBTC\"\n",
    "    limit_price = np.nan\n",
    "    order = Order(action, quantity, coin, limit_price)\n",
    "    return order\n",
    "\n",
    "\n",
    "def total_supply(orders):\n",
    "    orders_tmp = {}\n",
    "    for order in orders:\n",
    "        tag = (order.action, order.coin)\n",
    "        if tag not in orders_tmp:\n",
    "            orders_tmp[tag] = 0\n",
    "        orders_tmp[tag] += order.quantity\n",
    "    #\n",
    "    orders_out = []\n",
    "    for order, val in orders_tmp.items():\n",
    "        orders_out.append(Order(order[0], order[1], val))\n",
    "    return orders_out\n",
    "\n",
    "    \n",
    "np.random.seed(41)\n",
    "\n",
    "orders = []\n",
    "for i in range(10):\n",
    "    order = get_random_order()\n",
    "    orders.append(order)\n",
    "\n",
    "print(\"\\n\".join(map(str, orders)))\n",
    "\n",
    "print(\"# Sum\")\n",
    "orders2 = total_supply(orders)\n",
    "print(\"\\n\".join(map(str, orders2)))"
   ]
  },
  {
   "cell_type": "code",
   "execution_count": null,
   "id": "a80c6975",
   "metadata": {},
   "outputs": [],
   "source": [
    "o_1 = Order(\"buy\", 1.0, \"\")"
   ]
  }
 ],
 "metadata": {
  "kernelspec": {
   "display_name": "Python 3 (ipykernel)",
   "language": "python",
   "name": "python3"
  },
  "language_info": {
   "codemirror_mode": {
    "name": "ipython",
    "version": 3
   },
   "file_extension": ".py",
   "mimetype": "text/x-python",
   "name": "python",
   "nbconvert_exporter": "python",
   "pygments_lexer": "ipython3",
   "version": "3.8.10"
  },
  "toc": {
   "base_numbering": 1,
   "nav_menu": {},
   "number_sections": true,
   "sideBar": true,
   "skip_h1_title": false,
   "title_cell": "Table of Contents",
   "title_sidebar": "Contents",
   "toc_cell": false,
   "toc_position": {},
   "toc_section_display": true,
   "toc_window_display": false
  }
 },
 "nbformat": 4,
 "nbformat_minor": 5
}
