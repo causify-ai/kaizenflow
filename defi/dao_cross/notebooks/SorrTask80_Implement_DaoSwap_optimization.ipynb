{
 "cells": [
  {
   "cell_type": "markdown",
   "id": "4eacc5dd",
   "metadata": {
    "ExecuteTime": {
     "end_time": "2023-03-30T19:47:19.574661Z",
     "start_time": "2023-03-30T19:47:19.543533Z"
    }
   },
   "source": [
    "# Description"
   ]
  },
  {
   "cell_type": "markdown",
   "id": "31a5ad7c",
   "metadata": {},
   "source": [
    "The notebook demonstrates how open-source solvers solve the DaoSwap problem."
   ]
  },
  {
   "cell_type": "markdown",
   "id": "f3392998",
   "metadata": {},
   "source": [
    "# Imports"
   ]
  },
  {
   "cell_type": "code",
   "execution_count": 1,
   "id": "ac5b6e8b",
   "metadata": {
    "ExecuteTime": {
     "end_time": "2023-04-18T20:23:19.980814Z",
     "start_time": "2023-04-18T20:23:18.256513Z"
    }
   },
   "outputs": [],
   "source": [
    "%load_ext autoreload\n",
    "%autoreload 2\n",
    "%matplotlib inline"
   ]
  },
  {
   "cell_type": "code",
   "execution_count": 2,
   "id": "1487d85f",
   "metadata": {
    "ExecuteTime": {
     "end_time": "2023-04-18T20:23:21.812841Z",
     "start_time": "2023-04-18T20:23:19.987366Z"
    }
   },
   "outputs": [
    {
     "name": "stderr",
     "output_type": "stream",
     "text": [
      "<jemalloc>: MADV_DONTNEED does not work (memset will be used instead)\n",
      "<jemalloc>: (This is the expected behaviour if you are running under QEMU)\n"
     ]
    }
   ],
   "source": [
    "import logging\n",
    "from typing import List, Tuple\n",
    "\n",
    "import numpy as np\n",
    "\n",
    "import helpers.hdbg as hdbg\n",
    "import helpers.henv as henv\n",
    "import helpers.hprint as hprint\n",
    "import defi.dao_cross.optimize as ddacropt\n",
    "import defi.dao_cross.order as ddacrord\n"
   ]
  },
  {
   "cell_type": "code",
   "execution_count": 3,
   "id": "094f54a3",
   "metadata": {
    "ExecuteTime": {
     "end_time": "2023-04-18T20:23:21.871495Z",
     "start_time": "2023-04-18T20:23:21.819581Z"
    }
   },
   "outputs": [],
   "source": [
    "try:\n",
    "    import pulp\n",
    "except ImportError:\n",
    "    !sudo /bin/bash -c \"(source /venv/bin/activate; pip install pulp)\"\n",
    "    import pulp"
   ]
  },
  {
   "cell_type": "code",
   "execution_count": 4,
   "id": "7e0f5097",
   "metadata": {
    "ExecuteTime": {
     "end_time": "2023-04-18T20:23:28.375157Z",
     "start_time": "2023-04-18T20:23:21.883861Z"
    }
   },
   "outputs": [
    {
     "name": "stdout",
     "output_type": "stream",
     "text": [
      "\u001b[0m\u001b[36mINFO\u001b[0m: > cmd='/venv/lib/python3.8/site-packages/ipykernel_launcher.py -f /home/.local/share/jupyter/runtime/kernel-f728515a-aaa0-4817-8a8d-23a321969184.json'\n",
      "WARNING: Running in Jupyter\n",
      "\u001b[31m-----------------------------------------------------------------------------\n",
      "This code is not in sync with the container:\n",
      "code_version='1.4.1' != container_version='1.4.0'\n",
      "-----------------------------------------------------------------------------\n",
      "You need to:\n",
      "- merge origin/master into your branch with `invoke git_merge_master`\n",
      "- pull the latest container with `invoke docker_pull`\u001b[0m\n",
      "INFO  # Git\n",
      "  branch_name='CmTask80_Implement_DaoSwap_optimization_problem_1'\n",
      "  hash='af9f29ab9'\n",
      "  # Last commits:\n",
      "    * af9f29ab9 paul     Checkpoint                                                        (26 minutes ago) Tue Apr 18 19:57:14 2023  (HEAD -> CmTask80_Implement_DaoSwap_optimization_problem_1)\n",
      "    * 098651322 Paul     Cm task4011 write dao swap white paper 11 (#147)                  (   2 hours ago) Tue Apr 18 18:14:10 2023  (origin/master, origin/HEAD, master)\n",
      "    * 6b5b564e0 Grigorii Pomazkin Sorr task111 fix docker bash (#144)                               (   4 hours ago) Tue Apr 18 15:53:53 2023           \n",
      "# Machine info\n",
      "  system=Linux\n",
      "  node name=69dba9f90d2e\n",
      "  release=5.15.49-linuxkit\n",
      "  version=#1 SMP PREEMPT Tue Sep 13 07:51:32 UTC 2022\n",
      "  machine=x86_64\n",
      "  processor=x86_64\n",
      "  cpu count=5\n",
      "  cpu freq=None\n",
      "  memory=svmem(total=8232894464, available=6185590784, percent=24.9, used=1508315136, free=2919247872, active=2081349632, inactive=2641129472, buffers=76500992, cached=3728830464, shared=331427840, slab=502398976)\n",
      "  disk usage=sdiskusage(total=62671097856, used=17726021632, free=41728360448, percent=29.8)\n",
      "# Packages\n",
      "  python: 3.8.10\n",
      "  cvxopt: 1.3.0\n",
      "  cvxpy: 1.2.2\n",
      "  gluonnlp: ?\n",
      "  gluonts: 0.6.7\n",
      "  joblib: 1.2.0\n",
      "  mxnet: 1.9.1\n",
      "  numpy: 1.23.4\n",
      "  pandas: 1.5.1\n",
      "  pyarrow: 10.0.0\n",
      "  scipy: 1.9.3\n",
      "  seaborn: 0.12.1\n",
      "  sklearn: 1.1.3\n",
      "  statsmodels: 0.13.5\n"
     ]
    }
   ],
   "source": [
    "hdbg.init_logger(verbosity=logging.INFO)\n",
    "\n",
    "_LOG = logging.getLogger(__name__)\n",
    "\n",
    "_LOG.info(\"%s\", henv.get_system_signature()[0])\n",
    "\n",
    "hprint.config_notebook()"
   ]
  },
  {
   "cell_type": "markdown",
   "id": "a408b724",
   "metadata": {},
   "source": [
    "# Test orders"
   ]
  },
  {
   "cell_type": "code",
   "execution_count": 5,
   "id": "a24fdb2b",
   "metadata": {
    "ExecuteTime": {
     "end_time": "2023-04-18T20:23:28.475922Z",
     "start_time": "2023-04-18T20:23:28.390007Z"
    }
   },
   "outputs": [],
   "source": [
    "def _generate_test_orders(\n",
    "    actions: List[str],\n",
    "    quantities: List[float],\n",
    "    base_tokens: List[str],\n",
    "    limit_prices: List[float],\n",
    "    quote_tokens: List[str],\n",
    ") -> List[ddacrord.Order]:\n",
    "    \"\"\"\n",
    "    Create N `Order` instances using the inputs.\n",
    "\n",
    "    See `Order` for params description.\n",
    "    \"\"\"\n",
    "    # Use dummy values as the params are not relevant for the\n",
    "    # optimization problem.\n",
    "    timestamp = np.nan\n",
    "    deposit_address = 1\n",
    "    wallet_address = 1\n",
    "    orders: List[ddacrord.Order] = []\n",
    "    # TODO(Grisha): check that all lists are of the same length.\n",
    "    for i in range(len(base_tokens)):\n",
    "        order_i = ddacrord.Order(\n",
    "            timestamp,\n",
    "            actions[i],\n",
    "            quantities[i],\n",
    "            base_tokens[i],\n",
    "            limit_prices[i],\n",
    "            quote_tokens[i],\n",
    "            deposit_address,\n",
    "            wallet_address,\n",
    "        )\n",
    "        orders.append(order_i)\n",
    "    return orders"
   ]
  },
  {
   "cell_type": "code",
   "execution_count": 6,
   "id": "f3fb5c2c",
   "metadata": {
    "ExecuteTime": {
     "end_time": "2023-04-18T20:23:28.563781Z",
     "start_time": "2023-04-18T20:23:28.484951Z"
    }
   },
   "outputs": [],
   "source": [
    "_actions = [\"buy\", \"buy\", \"sell\", \"sell\", \"buy\", \"buy\", \"sell\", \"sell\"]\n",
    "_quantities = [4, 2, 5, 3, 6, 2, 9, 1]\n",
    "_base_tokens = [\"BTC\", \"BTC\", \"BTC\", \"BTC\", \"ETH\", \"ETH\", \"ETH\", \"ETH\"]\n",
    "_quote_tokens = [\"ETH\", \"ETH\", \"ETH\", \"ETH\", \"BTC\", \"BTC\", \"BTC\", \"BTC\"]\n",
    "_limit_prices = [3, 3.5, 1.5, 1.9, 0.6, 2, 0.1, 0.25]\n",
    "\n",
    "def test1() -> None:\n",
    "    \"\"\"\n",
    "    The limit price condition is True for all orders.\n",
    "    \"\"\"\n",
    "    # Get inputs.\n",
    "    prices = {\"BTC\": 3, \"ETH\": 6}\n",
    "    limit_prices = [3, 3.5, 1.5, 1.9, 0.6, 2, 0.1, 0.25]\n",
    "    test_orders = _generate_test_orders(\n",
    "        _actions,\n",
    "        _quantities,\n",
    "        _base_tokens,\n",
    "        _limit_prices,\n",
    "        _quote_tokens,\n",
    "    )\n",
    "    return test_orders"
   ]
  },
  {
   "cell_type": "code",
   "execution_count": 7,
   "id": "6f119ff4",
   "metadata": {
    "ExecuteTime": {
     "end_time": "2023-04-18T20:23:28.640981Z",
     "start_time": "2023-04-18T20:23:28.570579Z"
    }
   },
   "outputs": [],
   "source": [
    "orders = test1()"
   ]
  },
  {
   "cell_type": "code",
   "execution_count": 8,
   "id": "c282bf20",
   "metadata": {
    "ExecuteTime": {
     "end_time": "2023-04-18T20:23:28.725928Z",
     "start_time": "2023-04-18T20:23:28.647825Z"
    }
   },
   "outputs": [
    {
     "data": {
      "text/plain": [
       "8"
      ]
     },
     "execution_count": 8,
     "metadata": {},
     "output_type": "execute_result"
    }
   ],
   "source": [
    "len(orders)"
   ]
  },
  {
   "cell_type": "code",
   "execution_count": 9,
   "id": "83bab719",
   "metadata": {
    "ExecuteTime": {
     "end_time": "2023-04-18T20:23:28.807522Z",
     "start_time": "2023-04-18T20:23:28.734148Z"
    }
   },
   "outputs": [
    {
     "data": {
      "text/plain": [
       "[timestamp=2023-04-18 20:23:28.635157+00:00 action=buy quantity=4 base_token=BTC limit_price=3 quote_token=ETH deposit_address=1 wallet_address=1,\n",
       " timestamp=2023-04-18 20:23:28.636897+00:00 action=buy quantity=2 base_token=BTC limit_price=3.5 quote_token=ETH deposit_address=1 wallet_address=1,\n",
       " timestamp=2023-04-18 20:23:28.636998+00:00 action=sell quantity=5 base_token=BTC limit_price=1.5 quote_token=ETH deposit_address=1 wallet_address=1,\n",
       " timestamp=2023-04-18 20:23:28.637044+00:00 action=sell quantity=3 base_token=BTC limit_price=1.9 quote_token=ETH deposit_address=1 wallet_address=1,\n",
       " timestamp=2023-04-18 20:23:28.637086+00:00 action=buy quantity=6 base_token=ETH limit_price=0.6 quote_token=BTC deposit_address=1 wallet_address=1,\n",
       " timestamp=2023-04-18 20:23:28.637127+00:00 action=buy quantity=2 base_token=ETH limit_price=2 quote_token=BTC deposit_address=1 wallet_address=1,\n",
       " timestamp=2023-04-18 20:23:28.637165+00:00 action=sell quantity=9 base_token=ETH limit_price=0.1 quote_token=BTC deposit_address=1 wallet_address=1,\n",
       " timestamp=2023-04-18 20:23:28.637211+00:00 action=sell quantity=1 base_token=ETH limit_price=0.25 quote_token=BTC deposit_address=1 wallet_address=1]"
      ]
     },
     "execution_count": 9,
     "metadata": {},
     "output_type": "execute_result"
    }
   ],
   "source": [
    "orders"
   ]
  },
  {
   "cell_type": "code",
   "execution_count": 10,
   "id": "6caaf8be",
   "metadata": {
    "ExecuteTime": {
     "end_time": "2023-04-18T20:23:29.021482Z",
     "start_time": "2023-04-18T20:23:28.814142Z"
    }
   },
   "outputs": [
    {
     "name": "stderr",
     "output_type": "stream",
     "text": [
      "/venv/lib/python3.8/site-packages/pulp/pulp.py:1352: UserWarning: Spaces are not permitted in the name. Converted to '_'\n",
      "  warnings.warn(\"Spaces are not permitted in the name. Converted to '_'\")\n"
     ]
    }
   ],
   "source": [
    "result = ddacropt.run_daoswap_solver(orders)"
   ]
  },
  {
   "cell_type": "code",
   "execution_count": 11,
   "id": "ecddee4b",
   "metadata": {
    "ExecuteTime": {
     "end_time": "2023-04-18T20:23:29.107296Z",
     "start_time": "2023-04-18T20:23:29.029248Z"
    }
   },
   "outputs": [
    {
     "data": {
      "text/plain": [
       "{'problem_status': 'Optimal',\n",
       " 'problem_objective_value': 89.2,\n",
       " 'q_pi_star': [4.0, 2.0, 5.0, 3.0, 6.0, 2.0, 9.0, 1.0],\n",
       " 'q_tau_star': [12.0, 7.0, 7.5, 13.5, 3.6, 4.0, 0.9, 8.7],\n",
       " 'solution_time_in_secs': 0.12}"
      ]
     },
     "execution_count": 11,
     "metadata": {},
     "output_type": "execute_result"
    }
   ],
   "source": [
    "result"
   ]
  },
  {
   "cell_type": "code",
   "execution_count": 12,
   "id": "b089bec4",
   "metadata": {
    "ExecuteTime": {
     "end_time": "2023-04-18T20:23:29.186795Z",
     "start_time": "2023-04-18T20:23:29.115339Z"
    }
   },
   "outputs": [],
   "source": [
    "effective_price = [result[\"q_tau_star\"][i] / result[\"q_pi_star\"][i] for i in range(len(orders))]"
   ]
  },
  {
   "cell_type": "code",
   "execution_count": 13,
   "id": "ad443012",
   "metadata": {
    "ExecuteTime": {
     "end_time": "2023-04-18T20:23:29.272303Z",
     "start_time": "2023-04-18T20:23:29.200381Z"
    }
   },
   "outputs": [
    {
     "data": {
      "text/plain": [
       "[3.0, 3.5, 1.5, 4.5, 0.6, 2.0, 0.1, 8.7]"
      ]
     },
     "execution_count": 13,
     "metadata": {},
     "output_type": "execute_result"
    }
   ],
   "source": [
    "effective_price"
   ]
  },
  {
   "cell_type": "code",
   "execution_count": null,
   "id": "9e1a3d77",
   "metadata": {},
   "outputs": [],
   "source": []
  }
 ],
 "metadata": {
  "kernelspec": {
   "display_name": "Python 3 (ipykernel)",
   "language": "python",
   "name": "python3"
  },
  "language_info": {
   "codemirror_mode": {
    "name": "ipython",
    "version": 3
   },
   "file_extension": ".py",
   "mimetype": "text/x-python",
   "name": "python",
   "nbconvert_exporter": "python",
   "pygments_lexer": "ipython3",
   "version": "3.8.10"
  },
  "toc": {
   "base_numbering": 1,
   "nav_menu": {},
   "number_sections": true,
   "sideBar": true,
   "skip_h1_title": false,
   "title_cell": "Table of Contents",
   "title_sidebar": "Contents",
   "toc_cell": false,
   "toc_position": {},
   "toc_section_display": true,
   "toc_window_display": false
  }
 },
 "nbformat": 4,
 "nbformat_minor": 5
}
