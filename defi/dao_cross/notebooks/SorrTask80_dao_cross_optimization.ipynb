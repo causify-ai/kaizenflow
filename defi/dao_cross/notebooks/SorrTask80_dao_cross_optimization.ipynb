{
 "cells": [
  {
   "cell_type": "markdown",
   "id": "4eacc5dd",
   "metadata": {
    "ExecuteTime": {
     "end_time": "2023-03-30T19:47:19.574661Z",
     "start_time": "2023-03-30T19:47:19.543533Z"
    }
   },
   "source": [
    "# Description"
   ]
  },
  {
   "cell_type": "markdown",
   "id": "31a5ad7c",
   "metadata": {},
   "source": [
    "The notebook demonstrates how open-source solvers solve the DaoCross problem."
   ]
  },
  {
   "cell_type": "markdown",
   "id": "f3392998",
   "metadata": {},
   "source": [
    "# Imports"
   ]
  },
  {
   "cell_type": "code",
   "execution_count": 1,
   "id": "ac5b6e8b",
   "metadata": {
    "ExecuteTime": {
     "end_time": "2023-03-31T11:03:53.645856Z",
     "start_time": "2023-03-31T11:03:53.051467Z"
    }
   },
   "outputs": [],
   "source": [
    "%load_ext autoreload\n",
    "%autoreload 2\n",
    "%matplotlib inline"
   ]
  },
  {
   "cell_type": "code",
   "execution_count": 2,
   "id": "5943a11d",
   "metadata": {
    "ExecuteTime": {
     "end_time": "2023-03-31T11:03:54.314716Z",
     "start_time": "2023-03-31T11:03:53.648336Z"
    }
   },
   "outputs": [],
   "source": [
    "import logging\n",
    "from typing import Tuple\n",
    "\n",
    "import helpers.hdbg as hdbg\n",
    "import helpers.henv as henv\n",
    "import helpers.hprint as hprint"
   ]
  },
  {
   "cell_type": "code",
   "execution_count": 3,
   "id": "094f54a3",
   "metadata": {
    "ExecuteTime": {
     "end_time": "2023-03-31T11:03:54.352465Z",
     "start_time": "2023-03-31T11:03:54.319529Z"
    }
   },
   "outputs": [],
   "source": [
    "try:\n",
    "    import pulp\n",
    "except ImportError:\n",
    "    !sudo /bin/bash -c \"(source /venv/bin/activate; pip install pulp)\"\n",
    "    import pulp"
   ]
  },
  {
   "cell_type": "code",
   "execution_count": 4,
   "id": "7e0f5097",
   "metadata": {
    "ExecuteTime": {
     "end_time": "2023-03-31T11:03:56.309163Z",
     "start_time": "2023-03-31T11:03:54.354646Z"
    }
   },
   "outputs": [
    {
     "name": "stdout",
     "output_type": "stream",
     "text": [
      "\u001b[0m\u001b[36mINFO\u001b[0m: > cmd='/venv/lib/python3.8/site-packages/ipykernel_launcher.py -f /home/.local/share/jupyter/runtime/kernel-32bf17d0-fc88-469c-a1e3-ab9bba90edf5.json'\n",
      "WARNING: Running in Jupyter\n",
      "\u001b[31m-----------------------------------------------------------------------------\n",
      "This code is not in sync with the container:\n",
      "code_version='1.4.1' != container_version='1.4.0'\n",
      "-----------------------------------------------------------------------------\n",
      "You need to:\n",
      "- merge origin/master into your branch with `invoke git_merge_master`\n",
      "- pull the latest container with `invoke docker_pull`\u001b[0m\n",
      "INFO  # Git\n",
      "  branch_name='SorrTask80_dao_cross_optimization'\n",
      "  hash='67b9c31e9'\n",
      "  # Last commits:\n",
      "    * 67b9c31e9 PomazkinG checkpoint                                                        (  15 hours ago) Thu Mar 30 20:02:58 2023  (HEAD -> SorrTask80_dao_cross_optimization, origin/SorrTask80_dao_cross_optimization)\n",
      "    * 1b60b0b08 PomazkinG checkpoint                                                        (  15 hours ago) Thu Mar 30 19:54:07 2023           \n",
      "    * e4ebe79f0 saggese  Consolidate code                                                  (    2 days ago) Wed Mar 29 14:31:34 2023  (origin/master, origin/HEAD, origin/CmTask79_implement_Dao_cross, master)\n",
      "# Machine info\n",
      "  system=Linux\n",
      "  node name=63621a86b7c3\n",
      "  release=5.15.0-1030-aws\n",
      "  version=#34~20.04.1-Ubuntu SMP Tue Jan 24 15:16:46 UTC 2023\n",
      "  machine=x86_64\n",
      "  processor=x86_64\n",
      "  cpu count=8\n",
      "  cpu freq=scpufreq(current=2499.998, min=0.0, max=0.0)\n",
      "  memory=svmem(total=33292886016, available=28027678720, percent=15.8, used=4798279680, free=9301012480, active=9117323264, inactive=12409524224, buffers=1684488192, cached=17509105664, shared=10346496, slab=2182725632)\n",
      "  disk usage=sdiskusage(total=156052275200, used=26822356992, free=129213140992, percent=17.2)\n",
      "# Packages\n",
      "  python: 3.8.10\n",
      "  cvxopt: 1.3.0\n",
      "  cvxpy: 1.2.2\n",
      "  gluonnlp: ?\n",
      "  gluonts: 0.6.7\n",
      "  joblib: 1.2.0\n",
      "  mxnet: 1.9.1\n",
      "  numpy: 1.23.4\n",
      "  pandas: 1.5.1\n",
      "  pyarrow: 10.0.0\n",
      "  scipy: 1.9.3\n",
      "  seaborn: 0.12.1\n",
      "  sklearn: 1.1.3\n",
      "  statsmodels: 0.13.5\n"
     ]
    }
   ],
   "source": [
    "hdbg.init_logger(verbosity=logging.INFO)\n",
    "\n",
    "_LOG = logging.getLogger(__name__)\n",
    "\n",
    "_LOG.info(\"%s\", henv.get_system_signature()[0])\n",
    "\n",
    "hprint.config_notebook()"
   ]
  },
  {
   "cell_type": "markdown",
   "id": "952d6334",
   "metadata": {},
   "source": [
    "# Order class"
   ]
  },
  {
   "cell_type": "code",
   "execution_count": 5,
   "id": "4043341f",
   "metadata": {
    "ExecuteTime": {
     "end_time": "2023-03-31T11:03:56.361598Z",
     "start_time": "2023-03-31T11:03:56.311458Z"
    },
    "run_control": {
     "marked": true
    }
   },
   "outputs": [],
   "source": [
    "# TODO(Grisha): move to a lib and re-use everywhere.\n",
    "class Order:\n",
    "\n",
    "    # TODO(Grisha): add type hints, add assertions.\n",
    "    def __init__(self, action, quantity, base_token, limit_price, quote_token):\n",
    "        self.action = action\n",
    "        self.quantity = quantity\n",
    "        self.base_token = base_token\n",
    "        self.limit_price = limit_price\n",
    "        self.quote_token = quote_token\n",
    "\n",
    "    def __repr__(self):\n",
    "        return str(self)\n",
    "\n",
    "    def __str__(self):\n",
    "        ret = (\n",
    "            \"action=%s, quantity=%s, base_token=%s, limit_price=%s, quote_token=%s\"\n",
    "            % (\n",
    "                self.action,\n",
    "                self.quantity,\n",
    "                self.base_token,\n",
    "                self.limit_price,\n",
    "                self.quote_token,\n",
    "            )\n",
    "        )\n",
    "        return ret"
   ]
  },
  {
   "cell_type": "markdown",
   "id": "a408b724",
   "metadata": {},
   "source": [
    "# Functions"
   ]
  },
  {
   "cell_type": "code",
   "execution_count": 6,
   "id": "59a780ce",
   "metadata": {
    "ExecuteTime": {
     "end_time": "2023-03-31T11:03:56.409508Z",
     "start_time": "2023-03-31T11:03:56.363828Z"
    }
   },
   "outputs": [],
   "source": [
    "# TODO(Grisha): consider extending for n orders.\n",
    "# TODO(Grisha): move to a lib, add unit tests.\n",
    "def optimize_for_volume(\n",
    "    order_1: Order, order_2: Order, exchange_rate: float\n",
    ") -> None:\n",
    "    \"\"\"\n",
    "    Find the maximum transacted volume given the orders and the constraints.\n",
    "\n",
    "    :param order_1: input buy order\n",
    "    :param order_2: input sell order\n",
    "    :param exchange_rate: price of base token / price of quote token\n",
    "    :return: solver's output in a human readable format\n",
    "    \"\"\"\n",
    "    # Assume the fixed directions.\n",
    "    hdbg.dassert_eq(order_1.action, \"buy\")\n",
    "    hdbg.dassert_eq(order_2.action, \"sell\")\n",
    "    #\n",
    "    hdbg.dassert_lt(0, exchange_rate)\n",
    "    # Initialize the model.\n",
    "    problem = pulp.LpProblem(\"The DaoCross problem\", pulp.LpMaximize)\n",
    "    # Specify the vars. By setting the lower bound to zero it is safe\n",
    "    # to omit the >= 0 constraint on the executed quantity.\n",
    "    q_base_asterisk_1 = pulp.LpVariable(\"q_base_asterisk_1\", lowBound=0)\n",
    "    q_base_asterisk_2 = pulp.LpVariable(\"q_base_asterisk_2\", lowBound=0)\n",
    "    # Objective function.\n",
    "    # TODO(Grisha): since the base token is the same, i.e. BTC it's\n",
    "    # ok to use quantity, however the objective function should be\n",
    "    # modified to account for different base tokens.\n",
    "    problem += q_base_asterisk_1 + q_base_asterisk_2\n",
    "    # Constraints.\n",
    "    # Random number that is big enough to use the\n",
    "    # \"Big M\" method.\n",
    "    M = 1e6\n",
    "    # TODO(Grisha): this should be a function of action.\n",
    "    limit_price_cond_1 = int(exchange_rate <= order_1.limit_price)\n",
    "    _LOG.info(\"limit_price_cond_1 is %s\", limit_price_cond_1)\n",
    "    limit_price_cond_2 = int(exchange_rate >= order_2.limit_price)\n",
    "    _LOG.info(\"limit_price_cond_2 is %s\", limit_price_cond_2)\n",
    "    # Executed quantity is not greater than the requested quantity\n",
    "    # given that the limit price condition is satisfied.\n",
    "    problem += q_base_asterisk_1 <= order_1.quantity + M * (1 - limit_price_cond_1)\n",
    "    problem += q_base_asterisk_2 <= order_2.quantity + M * (1 - limit_price_cond_2)\n",
    "    # Executed quantity is zero if the limit price condition is not met.\n",
    "    problem += q_base_asterisk_1 <= M * limit_price_cond_1\n",
    "    problem += q_base_asterisk_1 >= -M * limit_price_cond_1\n",
    "    #\n",
    "    problem += q_base_asterisk_2 <= M * limit_price_cond_2\n",
    "    problem += q_base_asterisk_2 >= -M * limit_price_cond_2\n",
    "    # The number of sold tokens must match the number of bought tokens.\n",
    "    problem += q_base_asterisk_1 == q_base_asterisk_2\n",
    "    # Use the default solver and suppress the solver's log.\n",
    "    solver = pulp.getSolver(\"PULP_CBC_CMD\", msg=0)\n",
    "    problem.solve(solver)\n",
    "    # Display the results.\n",
    "    # TODO(Grisha): probably package the output in a dict.\n",
    "    _LOG.info(\n",
    "        \"The status is: %s\"\n",
    "        \"\\nThe total volume (in BTC) exchanged is: %s\"\n",
    "        \"\\nThe value of exchanged base token from order 1: %s\"\n",
    "        \"\\nThe value of exchanged base token from order 2: %s\"\n",
    "        \"\\nThe solution time (in seconds) is: %s\",\n",
    "        pulp.LpStatus[problem.status],\n",
    "        pulp.value(problem.objective),\n",
    "        q_base_asterisk_1.varValue,\n",
    "        q_base_asterisk_2.varValue,\n",
    "        # TODO(Grisha): double-check that time is in seconds.\n",
    "        round(problem.solutionTime, 2),\n",
    "    )\n",
    "\n",
    "\n",
    "def get_test_orders(\n",
    "    limit_price_1: float, limit_price_2: float\n",
    ") -> Tuple[Order, Order]:\n",
    "    \"\"\"\n",
    "    Get toy orders to demonstrate how the solver works.\n",
    "    \n",
    "    :param limit_price_1: limit price for the buy order\n",
    "    :param limit_price_2: limit price for the sell order\n",
    "    :return: buy and sell orders\n",
    "    \"\"\"\n",
    "    # Genereate buy order.\n",
    "    action = \"buy\"\n",
    "    quantity = 5\n",
    "    base_token = \"BTC\"\n",
    "    quote_token = \"ETH\"\n",
    "    order_1 = Order(action, quantity, base_token, limit_price_1, quote_token)\n",
    "    _LOG.info(\"Buy order: %s\", str(order_1))\n",
    "    # Generate sell order.\n",
    "    action = \"sell\"\n",
    "    quantity = 6\n",
    "    base_token = \"BTC\"\n",
    "    quote_token = \"ETH\"\n",
    "    order_2 = Order(action, quantity, base_token, limit_price_2, quote_token)\n",
    "    _LOG.info(\"Sell order: %s\", str(order_2))\n",
    "    return order_1, order_2"
   ]
  },
  {
   "cell_type": "markdown",
   "id": "a962bf8b",
   "metadata": {},
   "source": [
    "# Solve the optimization problem"
   ]
  },
  {
   "cell_type": "markdown",
   "id": "478e1fc0",
   "metadata": {},
   "source": [
    "Any simulation for which the limit price constraint is not satisfied for at least one order ends with no trades being executed.\n",
    "While if the limit price constraint is satisfied for all orders the trade is executed using the maximum quantity of the base token taking into account the constraint saying that quantity of sold token = quantity of bought token."
   ]
  },
  {
   "cell_type": "code",
   "execution_count": 7,
   "id": "39b850f5",
   "metadata": {
    "ExecuteTime": {
     "end_time": "2023-03-31T11:03:56.439836Z",
     "start_time": "2023-03-31T11:03:56.411967Z"
    }
   },
   "outputs": [
    {
     "name": "stdout",
     "output_type": "stream",
     "text": [
      "INFO  Exchange rate=4\n"
     ]
    }
   ],
   "source": [
    "exchange_rate = 4\n",
    "_LOG.info(\"Exchange rate=%s\", exchange_rate)"
   ]
  },
  {
   "cell_type": "markdown",
   "id": "6419b6c0",
   "metadata": {},
   "source": [
    "## Limit price condition is met for both orders"
   ]
  },
  {
   "cell_type": "code",
   "execution_count": 8,
   "id": "d4e24eaf",
   "metadata": {
    "ExecuteTime": {
     "end_time": "2023-03-31T11:03:56.511583Z",
     "start_time": "2023-03-31T11:03:56.444559Z"
    }
   },
   "outputs": [
    {
     "name": "stdout",
     "output_type": "stream",
     "text": [
      "INFO  Buy order: action=buy, quantity=5, base_token=BTC, limit_price=5, quote_token=ETH\n",
      "INFO  Sell order: action=sell, quantity=6, base_token=BTC, limit_price=3, quote_token=ETH\n",
      "INFO  limit_price_cond_1 is 1\n",
      "INFO  limit_price_cond_2 is 1\n",
      "INFO  The status is: Optimal\n",
      "The total volume (in BTC) exchanged is: 10.0\n",
      "The value of exchanged base token from order 1: 5.0\n",
      "The value of exchanged base token from order 2: 5.0\n",
      "The solution time (in seconds) is: 0.02\n"
     ]
    },
    {
     "name": "stderr",
     "output_type": "stream",
     "text": [
      "/venv/lib/python3.8/site-packages/pulp/pulp.py:1352: UserWarning: Spaces are not permitted in the name. Converted to '_'\n",
      "  warnings.warn(\"Spaces are not permitted in the name. Converted to '_'\")\n"
     ]
    }
   ],
   "source": [
    "limit_price_1 = 5\n",
    "limit_price_2 = 3\n",
    "test_orders_1 = get_test_orders(limit_price_1, limit_price_2)\n",
    "optimize_for_volume(test_orders_1[0], test_orders_1[1], exchange_rate)"
   ]
  },
  {
   "cell_type": "markdown",
   "id": "44f17ce2",
   "metadata": {
    "ExecuteTime": {
     "end_time": "2023-03-30T19:42:04.696672Z",
     "start_time": "2023-03-30T19:42:04.641027Z"
    }
   },
   "source": [
    "## Limit price condition is met only for 1 order"
   ]
  },
  {
   "cell_type": "code",
   "execution_count": 9,
   "id": "f97afcf3",
   "metadata": {
    "ExecuteTime": {
     "end_time": "2023-03-31T11:03:56.583042Z",
     "start_time": "2023-03-31T11:03:56.516211Z"
    }
   },
   "outputs": [
    {
     "name": "stdout",
     "output_type": "stream",
     "text": [
      "INFO  Buy order: action=buy, quantity=5, base_token=BTC, limit_price=5, quote_token=ETH\n",
      "INFO  Sell order: action=sell, quantity=6, base_token=BTC, limit_price=5, quote_token=ETH\n",
      "INFO  limit_price_cond_1 is 1\n",
      "INFO  limit_price_cond_2 is 0\n",
      "INFO  The status is: Optimal\n",
      "The total volume (in BTC) exchanged is: 0.0\n",
      "The value of exchanged base token from order 1: 0.0\n",
      "The value of exchanged base token from order 2: 0.0\n",
      "The solution time (in seconds) is: 0.02\n"
     ]
    }
   ],
   "source": [
    "limit_price_1 = 5\n",
    "limit_price_2 = 5\n",
    "test_orders_1 = get_test_orders(limit_price_1, limit_price_2)\n",
    "optimize_for_volume(test_orders_1[0], test_orders_1[1], exchange_rate)"
   ]
  },
  {
   "cell_type": "code",
   "execution_count": 10,
   "id": "8d55cc56",
   "metadata": {
    "ExecuteTime": {
     "end_time": "2023-03-31T11:03:56.659766Z",
     "start_time": "2023-03-31T11:03:56.585365Z"
    }
   },
   "outputs": [
    {
     "name": "stdout",
     "output_type": "stream",
     "text": [
      "INFO  Buy order: action=buy, quantity=5, base_token=BTC, limit_price=3, quote_token=ETH\n",
      "INFO  Sell order: action=sell, quantity=6, base_token=BTC, limit_price=3, quote_token=ETH\n",
      "INFO  limit_price_cond_1 is 0\n",
      "INFO  limit_price_cond_2 is 1\n",
      "INFO  The status is: Optimal\n",
      "The total volume (in BTC) exchanged is: 0.0\n",
      "The value of exchanged base token from order 1: 0.0\n",
      "The value of exchanged base token from order 2: 0.0\n",
      "The solution time (in seconds) is: 0.03\n"
     ]
    }
   ],
   "source": [
    "limit_price_1 = 3\n",
    "limit_price_2 = 3\n",
    "test_orders_1 = get_test_orders(limit_price_1, limit_price_2)\n",
    "optimize_for_volume(test_orders_1[0], test_orders_1[1], exchange_rate)"
   ]
  },
  {
   "cell_type": "markdown",
   "id": "f9cf0dc9",
   "metadata": {},
   "source": [
    "## Limit price condition is not met for both orders"
   ]
  },
  {
   "cell_type": "code",
   "execution_count": 11,
   "id": "643e3d82",
   "metadata": {
    "ExecuteTime": {
     "end_time": "2023-03-31T11:03:56.754298Z",
     "start_time": "2023-03-31T11:03:56.662741Z"
    }
   },
   "outputs": [
    {
     "name": "stdout",
     "output_type": "stream",
     "text": [
      "INFO  Buy order: action=buy, quantity=5, base_token=BTC, limit_price=3, quote_token=ETH\n",
      "INFO  Sell order: action=sell, quantity=6, base_token=BTC, limit_price=5, quote_token=ETH\n",
      "INFO  limit_price_cond_1 is 0\n",
      "INFO  limit_price_cond_2 is 0\n",
      "INFO  The status is: Optimal\n",
      "The total volume (in BTC) exchanged is: 0.0\n",
      "The value of exchanged base token from order 1: 0.0\n",
      "The value of exchanged base token from order 2: 0.0\n",
      "The solution time (in seconds) is: 0.02\n"
     ]
    }
   ],
   "source": [
    "limit_price_1 = 3\n",
    "limit_price_2 = 5\n",
    "test_orders_1 = get_test_orders(limit_price_1, limit_price_2)\n",
    "optimize_for_volume(test_orders_1[0], test_orders_1[1], exchange_rate)"
   ]
  }
 ],
 "metadata": {
  "kernelspec": {
   "display_name": "Python 3 (ipykernel)",
   "language": "python",
   "name": "python3"
  },
  "language_info": {
   "codemirror_mode": {
    "name": "ipython",
    "version": 3
   },
   "file_extension": ".py",
   "mimetype": "text/x-python",
   "name": "python",
   "nbconvert_exporter": "python",
   "pygments_lexer": "ipython3",
   "version": "3.8.10"
  },
  "toc": {
   "base_numbering": 1,
   "nav_menu": {},
   "number_sections": true,
   "sideBar": true,
   "skip_h1_title": false,
   "title_cell": "Table of Contents",
   "title_sidebar": "Contents",
   "toc_cell": false,
   "toc_position": {},
   "toc_section_display": true,
   "toc_window_display": false
  }
 },
 "nbformat": 4,
 "nbformat_minor": 5
}
