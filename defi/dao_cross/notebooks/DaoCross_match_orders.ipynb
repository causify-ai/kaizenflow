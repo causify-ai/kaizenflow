{
 "cells": [
  {
   "cell_type": "code",
   "execution_count": 1,
   "id": "36db1d0e",
   "metadata": {
    "ExecuteTime": {
     "end_time": "2023-04-01T17:51:18.851762Z",
     "start_time": "2023-04-01T17:51:18.265079Z"
    }
   },
   "outputs": [],
   "source": [
    "%load_ext autoreload\n",
    "%autoreload 2\n",
    "\n",
    "import logging\n",
    "\n",
    "import helpers.hdbg as hdbg\n",
    "import helpers.henv as henv\n",
    "import helpers.hprint as hprint\n",
    "import defi.dao_cross.dao_cross as ddcrdacr\n",
    "import defi.dao_cross.order as ddacrord"
   ]
  },
  {
   "cell_type": "code",
   "execution_count": 2,
   "id": "0eb3cb72",
   "metadata": {
    "ExecuteTime": {
     "end_time": "2023-04-01T17:51:20.759786Z",
     "start_time": "2023-04-01T17:51:18.854899Z"
    }
   },
   "outputs": [
    {
     "name": "stdout",
     "output_type": "stream",
     "text": [
      "\u001b[0m\u001b[36mINFO\u001b[0m: > cmd='/venv/lib/python3.8/site-packages/ipykernel_launcher.py -f /home/.local/share/jupyter/runtime/kernel-2795fa9f-2944-48df-b7ab-b38c8892665a.json'\n",
      "WARNING: Running in Jupyter\n",
      "DEBUG Effective logging level=10\n",
      "DEBUG Shut up 1 modules: asyncio\n",
      "DEBUG > (cd . && cd \"$(git rev-parse --show-toplevel)/..\" && (git rev-parse --is-inside-work-tree | grep -q true)) 2>&1\n",
      "DEBUG > (git rev-parse --show-toplevel) 2>&1\n",
      "\u001b[31m-----------------------------------------------------------------------------\n",
      "This code is not in sync with the container:\n",
      "code_version='1.4.1' != container_version='1.4.0'\n",
      "-----------------------------------------------------------------------------\n",
      "You need to:\n",
      "- merge origin/master into your branch with `invoke git_merge_master`\n",
      "- pull the latest container with `invoke docker_pull`\u001b[0m\n",
      "DEBUG > (git branch --show-current) 2>&1\n",
      "DEBUG > (git rev-parse --short HEAD) 2>&1\n",
      "DEBUG > (git log --date=local --oneline --graph --date-order --decorate --pretty=format:'%h %<(8)%aN%  %<(65)%s (%>(14)%ar) %ad %<(10)%d' -3) 2>&1\n",
      "DEBUG matplotlib data path: /venv/lib/python3.8/site-packages/matplotlib/mpl-data\n",
      "DEBUG CONFIGDIR=/home/.config/matplotlib\n",
      "DEBUG interactive is False\n",
      "DEBUG platform is linux\n",
      "DEBUG CACHEDIR=/home/.cache/matplotlib\n",
      "DEBUG Using fontManager instance from /home/.cache/matplotlib/fontlist-v330.json\n",
      "INFO  # Git\n",
      "  branch_name='Issue78_Clean_up_the_Python_reference_implementation'\n",
      "  hash='d32c68871'\n",
      "  # Last commits:\n",
      "    * d32c68871 dan      checkpoint                                                        (81 minutes ago) Sat Apr 1 16:30:04 2023  (HEAD -> Issue78_Clean_up_the_Python_reference_implementation, origin/Issue78_Clean_up_the_Python_reference_implementation)\n",
      "    * 53ec2de16 dan      checkpoint                                                        (   2 hours ago) Sat Apr 1 16:09:46 2023           \n",
      "    * 0c877d151 dan      Issue66: fix notebooks                                            (   2 hours ago) Sat Apr 1 16:08:02 2023           \n",
      "# Machine info\n",
      "  system=Linux\n",
      "  node name=0d76b948d038\n",
      "  release=5.15.0-1028-aws\n",
      "  version=#32~20.04.1-Ubuntu SMP Mon Jan 9 18:02:08 UTC 2023\n",
      "  machine=x86_64\n",
      "  processor=x86_64\n",
      "  cpu count=8\n",
      "  cpu freq=scpufreq(current=2499.998, min=0.0, max=0.0)\n",
      "  memory=svmem(total=33292881920, available=27439951872, percent=17.6, used=5375082496, free=7642009600, active=6926995456, inactive=14559739904, buffers=1843052544, cached=18432737280, shared=17203200, slab=3876270080)\n",
      "  disk usage=sdiskusage(total=156052275200, used=33524797440, free=122510700544, percent=21.5)\n",
      "# Packages\n",
      "  python: 3.8.10\n",
      "  cvxopt: 1.3.0\n",
      "  cvxpy: 1.2.2\n",
      "  gluonnlp: ?\n",
      "  gluonts: 0.6.7\n",
      "  joblib: 1.2.0\n",
      "  mxnet: 1.9.1\n",
      "  numpy: 1.23.4\n",
      "  pandas: 1.5.1\n",
      "  pyarrow: 10.0.0\n",
      "  scipy: 1.9.3\n",
      "  seaborn: 0.12.1\n",
      "  sklearn: 1.1.3\n",
      "  statsmodels: 0.13.5\n"
     ]
    }
   ],
   "source": [
    "hdbg.init_logger(verbosity=logging.DEBUG)\n",
    "\n",
    "_LOG = logging.getLogger(__name__)\n",
    "\n",
    "_LOG.info(\"%s\", henv.get_system_signature()[0])\n",
    "\n",
    "hprint.config_notebook()"
   ]
  },
  {
   "cell_type": "code",
   "execution_count": 3,
   "id": "12148699",
   "metadata": {
    "ExecuteTime": {
     "end_time": "2023-04-01T17:51:20.791965Z",
     "start_time": "2023-04-01T17:51:20.762331Z"
    }
   },
   "outputs": [
    {
     "data": {
      "text/plain": [
       "[base_token=ETH quote_token=BTC action=buy quantity=10 limit_price=0.1 timestamp=2023-04-01 17:51:20.783205+00:00 deposit_address=1,\n",
       " base_token=ETH quote_token=BTC action=buy quantity=9 limit_price=0.15 timestamp=2023-04-01 17:51:20.783341+00:00 deposit_address=2,\n",
       " base_token=ETH quote_token=BTC action=buy quantity=10 limit_price=0.15 timestamp=2023-04-01 17:51:20.783384+00:00 deposit_address=3]"
      ]
     },
     "metadata": {},
     "output_type": "display_data"
    }
   ],
   "source": [
    "buy_order1 = ddacrord.Order(\"ETH\", \"BTC\", \"buy\", 10, 0.1, 1, 1)\n",
    "buy_order2 = ddacrord.Order(\"ETH\", \"BTC\", \"buy\", 9, 0.15, 2, 2)\n",
    "buy_order3 = ddacrord.Order(\"ETH\", \"BTC\", \"buy\", 10, 0.15, 3, 3)\n",
    "buy_orders = [buy_order1, buy_order2, buy_order3]\n",
    "display(buy_orders)"
   ]
  },
  {
   "cell_type": "code",
   "execution_count": 4,
   "id": "5dcdaca1",
   "metadata": {
    "ExecuteTime": {
     "end_time": "2023-04-01T17:51:20.820387Z",
     "start_time": "2023-04-01T17:51:20.794915Z"
    }
   },
   "outputs": [
    {
     "data": {
      "text/plain": [
       "[base_token=ETH quote_token=BTC action=sell quantity=11 limit_price=0.1 timestamp=2023-04-01 17:51:20.816836+00:00 deposit_address=-1,\n",
       " base_token=ETH quote_token=BTC action=sell quantity=10 limit_price=0.15 timestamp=2023-04-01 17:51:20.816931+00:00 deposit_address=-2,\n",
       " base_token=ETH quote_token=BTC action=sell quantity=9 limit_price=0.15 timestamp=2023-04-01 17:51:20.816974+00:00 deposit_address=-3]"
      ]
     },
     "metadata": {},
     "output_type": "display_data"
    }
   ],
   "source": [
    "sell_order1 = ddacrord.Order(\"ETH\", \"BTC\", \"sell\", 11, 0.1, -1, -1)\n",
    "sell_order2 = ddacrord.Order(\"ETH\", \"BTC\", \"sell\", 10, 0.15, -2, -2)\n",
    "sell_order3 = ddacrord.Order(\"ETH\", \"BTC\", \"sell\", 9, 0.15, -3, -3)\n",
    "sell_orders = [sell_order1, sell_order2, sell_order3]\n",
    "display(sell_orders)"
   ]
  },
  {
   "cell_type": "code",
   "execution_count": 5,
   "id": "413d0c8b",
   "metadata": {
    "ExecuteTime": {
     "end_time": "2023-04-01T17:51:20.856585Z",
     "start_time": "2023-04-01T17:51:20.823560Z"
    }
   },
   "outputs": [
    {
     "data": {
      "text/plain": [
       "base_token=ETH quote_token=BTC action=buy quantity=4 limit_price=inf timestamp=2023-04-01 17:51:20.853091+00:00 deposit_address=1"
      ]
     },
     "execution_count": 5,
     "metadata": {},
     "output_type": "execute_result"
    }
   ],
   "source": [
    "ddacrord.get_random_order()"
   ]
  },
  {
   "cell_type": "markdown",
   "id": "0da1213c",
   "metadata": {},
   "source": [
    "# Order matching"
   ]
  },
  {
   "cell_type": "markdown",
   "id": "f8b64be3",
   "metadata": {},
   "source": [
    "## Example 1"
   ]
  },
  {
   "cell_type": "code",
   "execution_count": 6,
   "id": "a61277b4",
   "metadata": {
    "ExecuteTime": {
     "end_time": "2023-04-01T17:51:20.889405Z",
     "start_time": "2023-04-01T17:51:20.859384Z"
    }
   },
   "outputs": [
    {
     "name": "stdout",
     "output_type": "stream",
     "text": [
      "DEBUG Order not eligible for matching due to limit\n",
      "DEBUG Order not eligible for matching due to limit\n",
      "DEBUG Order not eligible for matching due to limit\n",
      "DEBUG buy_heap=[base_token=ETH quote_token=BTC action=buy quantity=10 limit_price=0.15 timestamp=2023-04-01 17:51:20.783384+00:00 deposit_address=3, base_token=ETH quote_token=BTC action=buy quantity=9 limit_price=0.15 timestamp=2023-04-01 17:51:20.783341+00:00 deposit_address=2]\n",
      "DEBUG sell_heap=[base_token=ETH quote_token=BTC action=sell quantity=11 limit_price=0.1 timestamp=2023-04-01 17:51:20.816836+00:00 deposit_address=-1]\n"
     ]
    }
   ],
   "source": [
    "clearing_price = 0.14\n",
    "transfers_df = ddcrdacr.match_orders(buy_orders + sell_orders, clearing_price)"
   ]
  },
  {
   "cell_type": "code",
   "execution_count": 7,
   "id": "a986b519",
   "metadata": {
    "ExecuteTime": {
     "end_time": "2023-04-01T17:51:20.925848Z",
     "start_time": "2023-04-01T17:51:20.891891Z"
    }
   },
   "outputs": [
    {
     "data": {
      "text/html": [
       "<div>\n",
       "<style scoped>\n",
       "    .dataframe tbody tr th:only-of-type {\n",
       "        vertical-align: middle;\n",
       "    }\n",
       "\n",
       "    .dataframe tbody tr th {\n",
       "        vertical-align: top;\n",
       "    }\n",
       "\n",
       "    .dataframe thead th {\n",
       "        text-align: right;\n",
       "    }\n",
       "</style>\n",
       "<table border=\"1\" class=\"dataframe\">\n",
       "  <thead>\n",
       "    <tr style=\"text-align: right;\">\n",
       "      <th></th>\n",
       "      <th>token</th>\n",
       "      <th>amount</th>\n",
       "      <th>from</th>\n",
       "      <th>to</th>\n",
       "    </tr>\n",
       "  </thead>\n",
       "  <tbody>\n",
       "    <tr>\n",
       "      <th>0</th>\n",
       "      <td>ETH</td>\n",
       "      <td>9.0</td>\n",
       "      <td>-1</td>\n",
       "      <td>2</td>\n",
       "    </tr>\n",
       "    <tr>\n",
       "      <th>2</th>\n",
       "      <td>ETH</td>\n",
       "      <td>2.0</td>\n",
       "      <td>-1</td>\n",
       "      <td>3</td>\n",
       "    </tr>\n",
       "  </tbody>\n",
       "</table>\n",
       "</div>"
      ],
      "text/plain": [
       "  token  amount  from  to\n",
       "0   ETH     9.0    -1   2\n",
       "2   ETH     2.0    -1   3"
      ]
     },
     "metadata": {},
     "output_type": "display_data"
    }
   ],
   "source": [
    "eth_transfers = transfers_df[transfers_df[\"token\"] == \"ETH\"]\n",
    "display(eth_transfers)"
   ]
  },
  {
   "cell_type": "code",
   "execution_count": 8,
   "id": "b50eaa1f",
   "metadata": {
    "ExecuteTime": {
     "end_time": "2023-04-01T17:51:20.955400Z",
     "start_time": "2023-04-01T17:51:20.928022Z"
    }
   },
   "outputs": [
    {
     "data": {
      "text/plain": [
       "11.0"
      ]
     },
     "execution_count": 8,
     "metadata": {},
     "output_type": "execute_result"
    }
   ],
   "source": [
    "# Transferred ETH (in ETH).\n",
    "eth_transfers[\"amount\"].sum()"
   ]
  },
  {
   "cell_type": "code",
   "execution_count": 9,
   "id": "b6455620",
   "metadata": {
    "ExecuteTime": {
     "end_time": "2023-04-01T17:51:20.988563Z",
     "start_time": "2023-04-01T17:51:20.957942Z"
    }
   },
   "outputs": [
    {
     "data": {
      "text/html": [
       "<div>\n",
       "<style scoped>\n",
       "    .dataframe tbody tr th:only-of-type {\n",
       "        vertical-align: middle;\n",
       "    }\n",
       "\n",
       "    .dataframe tbody tr th {\n",
       "        vertical-align: top;\n",
       "    }\n",
       "\n",
       "    .dataframe thead th {\n",
       "        text-align: right;\n",
       "    }\n",
       "</style>\n",
       "<table border=\"1\" class=\"dataframe\">\n",
       "  <thead>\n",
       "    <tr style=\"text-align: right;\">\n",
       "      <th></th>\n",
       "      <th>token</th>\n",
       "      <th>amount</th>\n",
       "      <th>from</th>\n",
       "      <th>to</th>\n",
       "    </tr>\n",
       "  </thead>\n",
       "  <tbody>\n",
       "    <tr>\n",
       "      <th>1</th>\n",
       "      <td>BTC</td>\n",
       "      <td>1.26</td>\n",
       "      <td>2</td>\n",
       "      <td>-1</td>\n",
       "    </tr>\n",
       "    <tr>\n",
       "      <th>3</th>\n",
       "      <td>BTC</td>\n",
       "      <td>0.28</td>\n",
       "      <td>3</td>\n",
       "      <td>-1</td>\n",
       "    </tr>\n",
       "  </tbody>\n",
       "</table>\n",
       "</div>"
      ],
      "text/plain": [
       "  token  amount  from  to\n",
       "1   BTC    1.26     2  -1\n",
       "3   BTC    0.28     3  -1"
      ]
     },
     "metadata": {},
     "output_type": "display_data"
    }
   ],
   "source": [
    "btc_transfers = transfers_df[transfers_df[\"token\"] == \"BTC\"]\n",
    "display(btc_transfers)"
   ]
  },
  {
   "cell_type": "code",
   "execution_count": 10,
   "id": "fdb38e68",
   "metadata": {
    "ExecuteTime": {
     "end_time": "2023-04-01T17:51:21.025584Z",
     "start_time": "2023-04-01T17:51:20.991449Z"
    }
   },
   "outputs": [
    {
     "data": {
      "text/plain": [
       "1.5400000000000003"
      ]
     },
     "execution_count": 10,
     "metadata": {},
     "output_type": "execute_result"
    }
   ],
   "source": [
    "# Transferred BTC (in BTC).\n",
    "btc_transfers[\"amount\"].sum()"
   ]
  },
  {
   "cell_type": "code",
   "execution_count": 11,
   "id": "310a62b0",
   "metadata": {
    "ExecuteTime": {
     "end_time": "2023-04-01T17:51:21.054436Z",
     "start_time": "2023-04-01T17:51:21.029519Z"
    }
   },
   "outputs": [
    {
     "data": {
      "text/plain": [
       "11.0"
      ]
     },
     "execution_count": 11,
     "metadata": {},
     "output_type": "execute_result"
    }
   ],
   "source": [
    "# BTC transferred divided by the ETH/BTC price (quoted in BTC per ETH)\n",
    "# returns amount of transferred ETH.\n",
    "btc_transfers[\"amount\"].sum() / clearing_price"
   ]
  },
  {
   "cell_type": "markdown",
   "id": "62e2e870",
   "metadata": {
    "ExecuteTime": {
     "end_time": "2023-03-21T18:02:33.754532Z",
     "start_time": "2023-03-21T18:02:33.670082Z"
    }
   },
   "source": [
    "## Example 2"
   ]
  },
  {
   "cell_type": "code",
   "execution_count": 12,
   "id": "a9d4775c",
   "metadata": {
    "ExecuteTime": {
     "end_time": "2023-04-01T17:51:21.083888Z",
     "start_time": "2023-04-01T17:51:21.057501Z"
    }
   },
   "outputs": [],
   "source": [
    "orders = []\n",
    "for idx in range(0, 10):\n",
    "    order = ddacrord.get_random_order(idx)\n",
    "    orders.append(order)"
   ]
  },
  {
   "cell_type": "code",
   "execution_count": 13,
   "id": "ac2e0fa2",
   "metadata": {
    "ExecuteTime": {
     "end_time": "2023-04-01T17:51:21.113016Z",
     "start_time": "2023-04-01T17:51:21.087043Z"
    }
   },
   "outputs": [
    {
     "data": {
      "text/plain": [
       "[base_token=ETH quote_token=BTC action=sell quantity=6 limit_price=-inf timestamp=2023-04-01 17:51:21.081703+00:00 deposit_address=-3,\n",
       " base_token=ETH quote_token=BTC action=buy quantity=9 limit_price=inf timestamp=2023-04-01 17:51:21.081761+00:00 deposit_address=2,\n",
       " base_token=ETH quote_token=BTC action=buy quantity=9 limit_price=inf timestamp=2023-04-01 17:51:21.081784+00:00 deposit_address=0,\n",
       " base_token=ETH quote_token=BTC action=sell quantity=4 limit_price=-inf timestamp=2023-04-01 17:51:21.081805+00:00 deposit_address=-3,\n",
       " base_token=ETH quote_token=BTC action=sell quantity=8 limit_price=-inf timestamp=2023-04-01 17:51:21.081824+00:00 deposit_address=-2,\n",
       " base_token=ETH quote_token=BTC action=buy quantity=7 limit_price=inf timestamp=2023-04-01 17:51:21.081843+00:00 deposit_address=3,\n",
       " base_token=ETH quote_token=BTC action=sell quantity=4 limit_price=-inf timestamp=2023-04-01 17:51:21.081861+00:00 deposit_address=-1,\n",
       " base_token=ETH quote_token=BTC action=buy quantity=7 limit_price=inf timestamp=2023-04-01 17:51:21.081878+00:00 deposit_address=0,\n",
       " base_token=ETH quote_token=BTC action=sell quantity=2 limit_price=-inf timestamp=2023-04-01 17:51:21.081896+00:00 deposit_address=-2,\n",
       " base_token=ETH quote_token=BTC action=buy quantity=6 limit_price=inf timestamp=2023-04-01 17:51:21.081914+00:00 deposit_address=3]"
      ]
     },
     "execution_count": 13,
     "metadata": {},
     "output_type": "execute_result"
    }
   ],
   "source": [
    "orders"
   ]
  },
  {
   "cell_type": "code",
   "execution_count": 14,
   "id": "621e9cae",
   "metadata": {
    "ExecuteTime": {
     "end_time": "2023-04-01T17:51:21.157793Z",
     "start_time": "2023-04-01T17:51:21.117212Z"
    }
   },
   "outputs": [
    {
     "name": "stdout",
     "output_type": "stream",
     "text": [
      "DEBUG buy_heap=[base_token=ETH quote_token=BTC action=buy quantity=6 limit_price=inf timestamp=2023-04-01 17:51:21.081914+00:00 deposit_address=3, base_token=ETH quote_token=BTC action=buy quantity=7 limit_price=inf timestamp=2023-04-01 17:51:21.081878+00:00 deposit_address=0, base_token=ETH quote_token=BTC action=buy quantity=9 limit_price=inf timestamp=2023-04-01 17:51:21.081784+00:00 deposit_address=0, base_token=ETH quote_token=BTC action=buy quantity=9 limit_price=inf timestamp=2023-04-01 17:51:21.081761+00:00 deposit_address=2, base_token=ETH quote_token=BTC action=buy quantity=7 limit_price=inf timestamp=2023-04-01 17:51:21.081843+00:00 deposit_address=3]\n",
      "DEBUG sell_heap=[base_token=ETH quote_token=BTC action=sell quantity=2 limit_price=-inf timestamp=2023-04-01 17:51:21.081896+00:00 deposit_address=-2, base_token=ETH quote_token=BTC action=sell quantity=4 limit_price=-inf timestamp=2023-04-01 17:51:21.081861+00:00 deposit_address=-1, base_token=ETH quote_token=BTC action=sell quantity=4 limit_price=-inf timestamp=2023-04-01 17:51:21.081805+00:00 deposit_address=-3, base_token=ETH quote_token=BTC action=sell quantity=6 limit_price=-inf timestamp=2023-04-01 17:51:21.081703+00:00 deposit_address=-3, base_token=ETH quote_token=BTC action=sell quantity=8 limit_price=-inf timestamp=2023-04-01 17:51:21.081824+00:00 deposit_address=-2]\n"
     ]
    },
    {
     "data": {
      "text/html": [
       "<div>\n",
       "<style scoped>\n",
       "    .dataframe tbody tr th:only-of-type {\n",
       "        vertical-align: middle;\n",
       "    }\n",
       "\n",
       "    .dataframe tbody tr th {\n",
       "        vertical-align: top;\n",
       "    }\n",
       "\n",
       "    .dataframe thead th {\n",
       "        text-align: right;\n",
       "    }\n",
       "</style>\n",
       "<table border=\"1\" class=\"dataframe\">\n",
       "  <thead>\n",
       "    <tr style=\"text-align: right;\">\n",
       "      <th></th>\n",
       "      <th>token</th>\n",
       "      <th>amount</th>\n",
       "      <th>from</th>\n",
       "      <th>to</th>\n",
       "    </tr>\n",
       "  </thead>\n",
       "  <tbody>\n",
       "    <tr>\n",
       "      <th>0</th>\n",
       "      <td>ETH</td>\n",
       "      <td>7.0</td>\n",
       "      <td>-2</td>\n",
       "      <td>3</td>\n",
       "    </tr>\n",
       "    <tr>\n",
       "      <th>1</th>\n",
       "      <td>BTC</td>\n",
       "      <td>0.7</td>\n",
       "      <td>3</td>\n",
       "      <td>-2</td>\n",
       "    </tr>\n",
       "    <tr>\n",
       "      <th>2</th>\n",
       "      <td>ETH</td>\n",
       "      <td>1.0</td>\n",
       "      <td>-2</td>\n",
       "      <td>2</td>\n",
       "    </tr>\n",
       "    <tr>\n",
       "      <th>3</th>\n",
       "      <td>BTC</td>\n",
       "      <td>0.1</td>\n",
       "      <td>2</td>\n",
       "      <td>-2</td>\n",
       "    </tr>\n",
       "    <tr>\n",
       "      <th>4</th>\n",
       "      <td>ETH</td>\n",
       "      <td>6.0</td>\n",
       "      <td>-3</td>\n",
       "      <td>2</td>\n",
       "    </tr>\n",
       "    <tr>\n",
       "      <th>5</th>\n",
       "      <td>BTC</td>\n",
       "      <td>0.6</td>\n",
       "      <td>2</td>\n",
       "      <td>-3</td>\n",
       "    </tr>\n",
       "    <tr>\n",
       "      <th>6</th>\n",
       "      <td>ETH</td>\n",
       "      <td>2.0</td>\n",
       "      <td>-3</td>\n",
       "      <td>2</td>\n",
       "    </tr>\n",
       "    <tr>\n",
       "      <th>7</th>\n",
       "      <td>BTC</td>\n",
       "      <td>0.2</td>\n",
       "      <td>2</td>\n",
       "      <td>-3</td>\n",
       "    </tr>\n",
       "    <tr>\n",
       "      <th>8</th>\n",
       "      <td>ETH</td>\n",
       "      <td>2.0</td>\n",
       "      <td>-3</td>\n",
       "      <td>0</td>\n",
       "    </tr>\n",
       "    <tr>\n",
       "      <th>9</th>\n",
       "      <td>BTC</td>\n",
       "      <td>0.2</td>\n",
       "      <td>0</td>\n",
       "      <td>-3</td>\n",
       "    </tr>\n",
       "    <tr>\n",
       "      <th>10</th>\n",
       "      <td>ETH</td>\n",
       "      <td>4.0</td>\n",
       "      <td>-1</td>\n",
       "      <td>0</td>\n",
       "    </tr>\n",
       "    <tr>\n",
       "      <th>11</th>\n",
       "      <td>BTC</td>\n",
       "      <td>0.4</td>\n",
       "      <td>0</td>\n",
       "      <td>-1</td>\n",
       "    </tr>\n",
       "    <tr>\n",
       "      <th>12</th>\n",
       "      <td>ETH</td>\n",
       "      <td>2.0</td>\n",
       "      <td>-2</td>\n",
       "      <td>0</td>\n",
       "    </tr>\n",
       "    <tr>\n",
       "      <th>13</th>\n",
       "      <td>BTC</td>\n",
       "      <td>0.2</td>\n",
       "      <td>0</td>\n",
       "      <td>-2</td>\n",
       "    </tr>\n",
       "  </tbody>\n",
       "</table>\n",
       "</div>"
      ],
      "text/plain": [
       "   token  amount  from  to\n",
       "0    ETH     7.0    -2   3\n",
       "1    BTC     0.7     3  -2\n",
       "2    ETH     1.0    -2   2\n",
       "3    BTC     0.1     2  -2\n",
       "4    ETH     6.0    -3   2\n",
       "5    BTC     0.6     2  -3\n",
       "6    ETH     2.0    -3   2\n",
       "7    BTC     0.2     2  -3\n",
       "8    ETH     2.0    -3   0\n",
       "9    BTC     0.2     0  -3\n",
       "10   ETH     4.0    -1   0\n",
       "11   BTC     0.4     0  -1\n",
       "12   ETH     2.0    -2   0\n",
       "13   BTC     0.2     0  -2"
      ]
     },
     "metadata": {},
     "output_type": "display_data"
    }
   ],
   "source": [
    "transfers_df_2 = ddcrdacr.match_orders(orders, 0.1)\n",
    "display(transfers_df_2)"
   ]
  },
  {
   "cell_type": "code",
   "execution_count": null,
   "id": "ecc2ea0b",
   "metadata": {},
   "outputs": [],
   "source": []
  }
 ],
 "metadata": {
  "kernelspec": {
   "display_name": "Python 3 (ipykernel)",
   "language": "python",
   "name": "python3"
  },
  "language_info": {
   "codemirror_mode": {
    "name": "ipython",
    "version": 3
   },
   "file_extension": ".py",
   "mimetype": "text/x-python",
   "name": "python",
   "nbconvert_exporter": "python",
   "pygments_lexer": "ipython3",
   "version": "3.8.10"
  },
  "toc": {
   "base_numbering": 1,
   "nav_menu": {},
   "number_sections": true,
   "sideBar": true,
   "skip_h1_title": false,
   "title_cell": "Table of Contents",
   "title_sidebar": "Contents",
   "toc_cell": false,
   "toc_position": {},
   "toc_section_display": true,
   "toc_window_display": false
  }
 },
 "nbformat": 4,
 "nbformat_minor": 5
}
