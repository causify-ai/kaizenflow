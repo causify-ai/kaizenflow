{
 "cells": [
  {
   "cell_type": "code",
   "execution_count": 74,
   "id": "36db1d0e",
   "metadata": {
    "ExecuteTime": {
     "end_time": "2023-04-24T15:28:06.988408Z",
     "start_time": "2023-04-24T15:28:06.961182Z"
    }
   },
   "outputs": [
    {
     "name": "stdout",
     "output_type": "stream",
     "text": [
      "The autoreload extension is already loaded. To reload it, use:\n",
      "  %reload_ext autoreload\n"
     ]
    }
   ],
   "source": [
    "%load_ext autoreload\n",
    "%autoreload 2\n",
    "\n",
    "import logging\n",
    "import pandas as pd\n",
    "import matplotlib as mpl\n",
    "import matplotlib.pyplot as plt\n",
    "\n",
    "import helpers.hdbg as hdbg\n",
    "import helpers.henv as henv\n",
    "import helpers.hprint as hprint\n",
    "import defi.dao_cross.supply_demand as ddcrsede"
   ]
  },
  {
   "cell_type": "code",
   "execution_count": 75,
   "id": "b71cc0b8",
   "metadata": {
    "ExecuteTime": {
     "end_time": "2023-04-24T15:28:07.022824Z",
     "start_time": "2023-04-24T15:28:06.991119Z"
    }
   },
   "outputs": [],
   "source": [
    "try:\n",
    "    import pulp\n",
    "except ImportError:\n",
    "    !sudo /bin/bash -c \"(source /venv/bin/activate; pip install pulp)\"\n",
    "    import pulp\n",
    "import defi.dao_cross.optimize as ddacropt"
   ]
  },
  {
   "cell_type": "code",
   "execution_count": 76,
   "id": "0eb3cb72",
   "metadata": {
    "ExecuteTime": {
     "end_time": "2023-04-24T15:28:07.195286Z",
     "start_time": "2023-04-24T15:28:07.024860Z"
    },
    "scrolled": true
   },
   "outputs": [
    {
     "name": "stdout",
     "output_type": "stream",
     "text": [
      "\u001b[0m\u001b[33mWARNING\u001b[0m: Logger already initialized: skipping\n",
      "\u001b[31m-----------------------------------------------------------------------------\n",
      "This code is not in sync with the container:\n",
      "code_version='1.4.1' != container_version='1.4.0'\n",
      "-----------------------------------------------------------------------------\n",
      "You need to:\n",
      "- merge origin/master into your branch with `invoke git_merge_master`\n",
      "- pull the latest container with `invoke docker_pull`\u001b[0m\n",
      "DEBUG > (git branch --show-current) 2>&1\n",
      "DEBUG > (git rev-parse --short HEAD) 2>&1\n",
      "DEBUG > (git log --date=local --oneline --graph --date-order --decorate --pretty=format:'%h %<(8)%aN%  %<(65)%s (%>(14)%ar) %ad %<(10)%d' -3) 2>&1\n",
      "INFO  # Git\n",
      "  branch_name='Issue139_Create_some_pathological_cases_for_supply_demand_curve'\n",
      "  hash='a296c16ca'\n",
      "  # Last commits:\n",
      "    * a296c16ca dan      checkpoint                                                        ( 6 minutes ago) Mon Apr 24 15:21:58 2023  (HEAD -> Issue139_Create_some_pathological_cases_for_supply_demand_curve, origin/Issue139_Create_some_pathological_cases_for_supply_demand_curve)\n",
      "    *   30dc1c4dd dan      Merge branch 'master' into Issue139_Create_some_pathological_cases_for_supply_demand_curve (   6 hours ago) Mon Apr 24 09:28:51 2023           \n",
      "    |\\  \n",
      "    | * ac2c63dfa saggese  Add docs                                                          (  19 hours ago) Sun Apr 23 20:55:25 2023  (SorrTask154_Create_linear_supply_demand_curves_using_orders)\n",
      "# Machine info\n",
      "  system=Linux\n",
      "  node name=87a4d7b12dfe\n",
      "  release=5.15.0-1033-aws\n",
      "  version=#37~20.04.1-Ubuntu SMP Fri Mar 17 11:39:30 UTC 2023\n",
      "  machine=x86_64\n",
      "  processor=x86_64\n",
      "  cpu count=8\n",
      "  cpu freq=scpufreq(current=2499.998, min=0.0, max=0.0)\n",
      "  memory=svmem(total=33292873728, available=28637880320, percent=14.0, used=4197470208, free=1447161856, active=9991483392, inactive=17157439488, buffers=2549673984, cached=25098567680, shared=2334720, slab=4387446784)\n",
      "  disk usage=sdiskusage(total=156052275200, used=45994491904, free=110041006080, percent=29.5)\n",
      "# Packages\n",
      "  python: 3.8.10\n",
      "  cvxopt: 1.3.0\n",
      "  cvxpy: 1.2.2\n",
      "  gluonnlp: ?\n",
      "  gluonts: 0.6.7\n",
      "  joblib: 1.2.0\n",
      "  mxnet: 1.9.1\n",
      "  numpy: 1.23.4\n",
      "  pandas: 1.5.1\n",
      "  pyarrow: 10.0.0\n",
      "  scipy: 1.9.3\n",
      "  seaborn: 0.12.1\n",
      "  sklearn: 1.1.3\n",
      "  statsmodels: 0.13.5\n"
     ]
    }
   ],
   "source": [
    "hdbg.init_logger(verbosity=logging.DEBUG)\n",
    "\n",
    "_LOG = logging.getLogger(__name__)\n",
    "\n",
    "_LOG.info(\"%s\", henv.get_system_signature()[0])\n",
    "\n",
    "hprint.config_notebook()"
   ]
  },
  {
   "cell_type": "markdown",
   "id": "1023c274",
   "metadata": {},
   "source": [
    "# Pathological cases"
   ]
  },
  {
   "cell_type": "markdown",
   "id": "00b5be6d",
   "metadata": {
    "ExecuteTime": {
     "end_time": "2023-04-20T23:17:01.134049Z",
     "start_time": "2023-04-20T23:17:01.111611Z"
    }
   },
   "source": [
    "## Get orders and set prices."
   ]
  },
  {
   "cell_type": "code",
   "execution_count": 77,
   "id": "82861c5c",
   "metadata": {
    "ExecuteTime": {
     "end_time": "2023-04-24T15:28:07.236300Z",
     "start_time": "2023-04-24T15:28:07.197572Z"
    }
   },
   "outputs": [
    {
     "data": {
      "text/plain": [
       "[timestamp=2023-04-24 15:28:07.232544+00:00 action=sell quantity=40.0 base_token=BTC limit_price=100.0 quote_token=ETH deposit_address=1 wallet_address=1,\n",
       " timestamp=2023-04-24 15:28:07.232609+00:00 action=sell quantity=40.0 base_token=BTC limit_price=60.0 quote_token=ETH deposit_address=1 wallet_address=1,\n",
       " timestamp=2023-04-24 15:28:07.232618+00:00 action=sell quantity=30.0 base_token=BTC limit_price=40.0 quote_token=ETH deposit_address=1 wallet_address=1,\n",
       " timestamp=2023-04-24 15:28:07.232624+00:00 action=sell quantity=30.0 base_token=BTC limit_price=30.0 quote_token=ETH deposit_address=1 wallet_address=1,\n",
       " timestamp=2023-04-24 15:28:07.232632+00:00 action=sell quantity=20.0 base_token=BTC limit_price=20.0 quote_token=ETH deposit_address=1 wallet_address=1,\n",
       " timestamp=2023-04-24 15:28:07.232639+00:00 action=sell quantity=20.0 base_token=BTC limit_price=10.0 quote_token=ETH deposit_address=1 wallet_address=1]"
      ]
     },
     "execution_count": 77,
     "metadata": {},
     "output_type": "execute_result"
    }
   ],
   "source": [
    "supply_orders1 = ddcrsede.get_supply_orders1()\n",
    "supply_orders1"
   ]
  },
  {
   "cell_type": "code",
   "execution_count": 78,
   "id": "ed657c58",
   "metadata": {
    "ExecuteTime": {
     "end_time": "2023-04-24T15:28:07.266604Z",
     "start_time": "2023-04-24T15:28:07.239683Z"
    }
   },
   "outputs": [
    {
     "data": {
      "text/plain": [
       "[timestamp=2023-04-24 15:28:07.262861+00:00 action=buy quantity=10.0 base_token=BTC limit_price=110.0 quote_token=ETH deposit_address=1 wallet_address=1,\n",
       " timestamp=2023-04-24 15:28:07.262905+00:00 action=buy quantity=30.0 base_token=BTC limit_price=100.0 quote_token=ETH deposit_address=1 wallet_address=1,\n",
       " timestamp=2023-04-24 15:28:07.262913+00:00 action=buy quantity=20.0 base_token=BTC limit_price=80.0 quote_token=ETH deposit_address=1 wallet_address=1,\n",
       " timestamp=2023-04-24 15:28:07.262922+00:00 action=buy quantity=40.0 base_token=BTC limit_price=60.0 quote_token=ETH deposit_address=1 wallet_address=1,\n",
       " timestamp=2023-04-24 15:28:07.262927+00:00 action=buy quantity=50.0 base_token=BTC limit_price=40.0 quote_token=ETH deposit_address=1 wallet_address=1,\n",
       " timestamp=2023-04-24 15:28:07.262932+00:00 action=buy quantity=30.0 base_token=BTC limit_price=30.0 quote_token=ETH deposit_address=1 wallet_address=1]"
      ]
     },
     "execution_count": 78,
     "metadata": {},
     "output_type": "execute_result"
    }
   ],
   "source": [
    "demand_orders = ddcrsede.get_demand_orders1()\n",
    "demand_orders"
   ]
  },
  {
   "cell_type": "code",
   "execution_count": 79,
   "id": "912102f6",
   "metadata": {
    "ExecuteTime": {
     "end_time": "2023-04-24T15:28:07.291749Z",
     "start_time": "2023-04-24T15:28:07.268942Z"
    }
   },
   "outputs": [],
   "source": [
    "prices = {\"BTC\": 2, \"ETH\": 1}"
   ]
  },
  {
   "cell_type": "markdown",
   "id": "47cb4802",
   "metadata": {},
   "source": [
    "## Multiple intersection points at quantity Q'"
   ]
  },
  {
   "cell_type": "code",
   "execution_count": 80,
   "id": "43072bea",
   "metadata": {
    "ExecuteTime": {
     "end_time": "2023-04-24T15:28:07.319296Z",
     "start_time": "2023-04-24T15:28:07.294013Z"
    }
   },
   "outputs": [
    {
     "data": {
      "text/plain": [
       "[(0, 10.0),\n",
       " (20.0, 10.0),\n",
       " (20.0, 20.0),\n",
       " (40.0, 20.0),\n",
       " (40.0, 30.0),\n",
       " (70.0, 30.0),\n",
       " (70.0, 40.0),\n",
       " (100.0, 40.0),\n",
       " (100.0, 60.0),\n",
       " (140.0, 60.0),\n",
       " (140.0, 100.0),\n",
       " (180.0, 100.0)]"
      ]
     },
     "execution_count": 80,
     "metadata": {},
     "output_type": "execute_result"
    }
   ],
   "source": [
    "supply_curve1 = ddcrsede.get_curve(supply_orders1, \"supply\")\n",
    "supply_curve1"
   ]
  },
  {
   "cell_type": "code",
   "execution_count": 81,
   "id": "1881feb1",
   "metadata": {
    "ExecuteTime": {
     "end_time": "2023-04-24T15:28:07.345182Z",
     "start_time": "2023-04-24T15:28:07.321737Z"
    }
   },
   "outputs": [
    {
     "data": {
      "text/plain": [
       "[(0, 110.0),\n",
       " (10.0, 110.0),\n",
       " (10.0, 100.0),\n",
       " (40.0, 100.0),\n",
       " (40.0, 80.0),\n",
       " (60.0, 80.0),\n",
       " (60.0, 60.0),\n",
       " (100.0, 60.0),\n",
       " (100.0, 40.0),\n",
       " (150.0, 40.0),\n",
       " (150.0, 30.0),\n",
       " (180.0, 30.0)]"
      ]
     },
     "execution_count": 81,
     "metadata": {},
     "output_type": "execute_result"
    }
   ],
   "source": [
    "demand_curve = ddcrsede.get_curve(demand_orders, \"demand\")\n",
    "demand_curve"
   ]
  },
  {
   "cell_type": "code",
   "execution_count": 82,
   "id": "0d66115d",
   "metadata": {
    "ExecuteTime": {
     "end_time": "2023-04-24T15:28:07.611341Z",
     "start_time": "2023-04-24T15:28:07.347299Z"
    }
   },
   "outputs": [
    {
     "data": {
      "image/png": "[encoded data removed]",
      "text/plain": [
       "<Figure size 2000x500 with 1 Axes>"
      ]
     },
     "metadata": {},
     "output_type": "display_data"
    }
   ],
   "source": [
    "plt.plot(*zip(*supply_curve1))\n",
    "plt.plot(*zip(*demand_curve))\n",
    "plt.show()"
   ]
  },
  {
   "cell_type": "code",
   "execution_count": 83,
   "id": "fde96d87",
   "metadata": {
    "ExecuteTime": {
     "end_time": "2023-04-24T15:28:07.688995Z",
     "start_time": "2023-04-24T15:28:07.613821Z"
    },
    "run_control": {
     "marked": false
    }
   },
   "outputs": [
    {
     "name": "stdout",
     "output_type": "stream",
     "text": [
      "DEBUG orders=[timestamp=2023-04-24 15:28:07.232544+00:00 action=sell quantity=40.0 base_token=BTC limit_price=100.0 quote_token=ETH deposit_address=1 wallet_address=1, timestamp=2023-04-24 15:28:07.232609+00:00 action=sell quantity=40.0 base_token=BTC limit_price=60.0 quote_token=ETH deposit_address=1 wallet_address=1, timestamp=2023-04-24 15:28:07.232618+00:00 action=sell quantity=30.0 base_token=BTC limit_price=40.0 quote_token=ETH deposit_address=1 wallet_address=1, timestamp=2023-04-24 15:28:07.232624+00:00 action=sell quantity=30.0 base_token=BTC limit_price=30.0 quote_token=ETH deposit_address=1 wallet_address=1, timestamp=2023-04-24 15:28:07.232632+00:00 action=sell quantity=20.0 base_token=BTC limit_price=20.0 quote_token=ETH deposit_address=1 wallet_address=1, timestamp=2023-04-24 15:28:07.232639+00:00 action=sell quantity=20.0 base_token=BTC limit_price=10.0 quote_token=ETH deposit_address=1 wallet_address=1, timestamp=2023-04-24 15:28:07.262861+00:00 action=buy quantity=10.0 base_token=BTC limit_price=110.0 quote_token=ETH deposit_address=1 wallet_address=1, timestamp=2023-04-24 15:28:07.262905+00:00 action=buy quantity=30.0 base_token=BTC limit_price=100.0 quote_token=ETH deposit_address=1 wallet_address=1, timestamp=2023-04-24 15:28:07.262913+00:00 action=buy quantity=20.0 base_token=BTC limit_price=80.0 quote_token=ETH deposit_address=1 wallet_address=1, timestamp=2023-04-24 15:28:07.262922+00:00 action=buy quantity=40.0 base_token=BTC limit_price=60.0 quote_token=ETH deposit_address=1 wallet_address=1, timestamp=2023-04-24 15:28:07.262927+00:00 action=buy quantity=50.0 base_token=BTC limit_price=40.0 quote_token=ETH deposit_address=1 wallet_address=1, timestamp=2023-04-24 15:28:07.262932+00:00 action=buy quantity=30.0 base_token=BTC limit_price=30.0 quote_token=ETH deposit_address=1 wallet_address=1]\n",
      "DEBUG prices={'BTC': 2, 'ETH': 1}\n",
      "DEBUG /venv/lib/python3.8/site-packages/pulp/solverdir/cbc/linux/64/cbc /tmp/7b62c2f8d4cf47c68ce83510746bdc24-pulp.mps max timeMode elapsed branch printingOptions all solution /tmp/7b62c2f8d4cf47c68ce83510746bdc24-pulp.sol \n"
     ]
    },
    {
     "name": "stderr",
     "output_type": "stream",
     "text": [
      "/venv/lib/python3.8/site-packages/pulp/pulp.py:1352: UserWarning: Spaces are not permitted in the name. Converted to '_'\n",
      "  warnings.warn(\"Spaces are not permitted in the name. Converted to '_'\")\n"
     ]
    },
    {
     "data": {
      "text/html": [
       "<div>\n",
       "<style scoped>\n",
       "    .dataframe tbody tr th:only-of-type {\n",
       "        vertical-align: middle;\n",
       "    }\n",
       "\n",
       "    .dataframe tbody tr th {\n",
       "        vertical-align: top;\n",
       "    }\n",
       "\n",
       "    .dataframe thead th {\n",
       "        text-align: right;\n",
       "    }\n",
       "</style>\n",
       "<table border=\"1\" class=\"dataframe\">\n",
       "  <thead>\n",
       "    <tr style=\"text-align: right;\">\n",
       "      <th></th>\n",
       "      <th>timestamp</th>\n",
       "      <th>action</th>\n",
       "      <th>quantity</th>\n",
       "      <th>base_token</th>\n",
       "      <th>limit_price</th>\n",
       "      <th>quote_token</th>\n",
       "      <th>deposit_address</th>\n",
       "      <th>q_pi_star</th>\n",
       "      <th>q_tau_star</th>\n",
       "      <th>effective_price</th>\n",
       "    </tr>\n",
       "  </thead>\n",
       "  <tbody>\n",
       "    <tr>\n",
       "      <th>0</th>\n",
       "      <td>2023-04-24 15:28:07.232544+00:00</td>\n",
       "      <td>sell</td>\n",
       "      <td>40</td>\n",
       "      <td>BTC</td>\n",
       "      <td>100</td>\n",
       "      <td>ETH</td>\n",
       "      <td>1</td>\n",
       "      <td>0.0</td>\n",
       "      <td>0.0</td>\n",
       "      <td>NaN</td>\n",
       "    </tr>\n",
       "    <tr>\n",
       "      <th>1</th>\n",
       "      <td>2023-04-24 15:28:07.232609+00:00</td>\n",
       "      <td>sell</td>\n",
       "      <td>40</td>\n",
       "      <td>BTC</td>\n",
       "      <td>60</td>\n",
       "      <td>ETH</td>\n",
       "      <td>1</td>\n",
       "      <td>0.0</td>\n",
       "      <td>0.0</td>\n",
       "      <td>NaN</td>\n",
       "    </tr>\n",
       "    <tr>\n",
       "      <th>2</th>\n",
       "      <td>2023-04-24 15:28:07.232618+00:00</td>\n",
       "      <td>sell</td>\n",
       "      <td>30</td>\n",
       "      <td>BTC</td>\n",
       "      <td>40</td>\n",
       "      <td>ETH</td>\n",
       "      <td>1</td>\n",
       "      <td>0.0</td>\n",
       "      <td>0.0</td>\n",
       "      <td>NaN</td>\n",
       "    </tr>\n",
       "    <tr>\n",
       "      <th>3</th>\n",
       "      <td>2023-04-24 15:28:07.232624+00:00</td>\n",
       "      <td>sell</td>\n",
       "      <td>30</td>\n",
       "      <td>BTC</td>\n",
       "      <td>30</td>\n",
       "      <td>ETH</td>\n",
       "      <td>1</td>\n",
       "      <td>0.0</td>\n",
       "      <td>0.0</td>\n",
       "      <td>NaN</td>\n",
       "    </tr>\n",
       "    <tr>\n",
       "      <th>4</th>\n",
       "      <td>2023-04-24 15:28:07.232632+00:00</td>\n",
       "      <td>sell</td>\n",
       "      <td>20</td>\n",
       "      <td>BTC</td>\n",
       "      <td>20</td>\n",
       "      <td>ETH</td>\n",
       "      <td>1</td>\n",
       "      <td>0.0</td>\n",
       "      <td>0.0</td>\n",
       "      <td>NaN</td>\n",
       "    </tr>\n",
       "    <tr>\n",
       "      <th>5</th>\n",
       "      <td>2023-04-24 15:28:07.232639+00:00</td>\n",
       "      <td>sell</td>\n",
       "      <td>20</td>\n",
       "      <td>BTC</td>\n",
       "      <td>10</td>\n",
       "      <td>ETH</td>\n",
       "      <td>1</td>\n",
       "      <td>0.0</td>\n",
       "      <td>0.0</td>\n",
       "      <td>NaN</td>\n",
       "    </tr>\n",
       "    <tr>\n",
       "      <th>6</th>\n",
       "      <td>2023-04-24 15:28:07.262861+00:00</td>\n",
       "      <td>buy</td>\n",
       "      <td>10</td>\n",
       "      <td>BTC</td>\n",
       "      <td>110</td>\n",
       "      <td>ETH</td>\n",
       "      <td>1</td>\n",
       "      <td>0.0</td>\n",
       "      <td>0.0</td>\n",
       "      <td>NaN</td>\n",
       "    </tr>\n",
       "    <tr>\n",
       "      <th>7</th>\n",
       "      <td>2023-04-24 15:28:07.262905+00:00</td>\n",
       "      <td>buy</td>\n",
       "      <td>30</td>\n",
       "      <td>BTC</td>\n",
       "      <td>100</td>\n",
       "      <td>ETH</td>\n",
       "      <td>1</td>\n",
       "      <td>0.0</td>\n",
       "      <td>0.0</td>\n",
       "      <td>NaN</td>\n",
       "    </tr>\n",
       "    <tr>\n",
       "      <th>8</th>\n",
       "      <td>2023-04-24 15:28:07.262913+00:00</td>\n",
       "      <td>buy</td>\n",
       "      <td>20</td>\n",
       "      <td>BTC</td>\n",
       "      <td>80</td>\n",
       "      <td>ETH</td>\n",
       "      <td>1</td>\n",
       "      <td>0.0</td>\n",
       "      <td>0.0</td>\n",
       "      <td>NaN</td>\n",
       "    </tr>\n",
       "    <tr>\n",
       "      <th>9</th>\n",
       "      <td>2023-04-24 15:28:07.262922+00:00</td>\n",
       "      <td>buy</td>\n",
       "      <td>40</td>\n",
       "      <td>BTC</td>\n",
       "      <td>60</td>\n",
       "      <td>ETH</td>\n",
       "      <td>1</td>\n",
       "      <td>0.0</td>\n",
       "      <td>0.0</td>\n",
       "      <td>NaN</td>\n",
       "    </tr>\n",
       "    <tr>\n",
       "      <th>10</th>\n",
       "      <td>2023-04-24 15:28:07.262927+00:00</td>\n",
       "      <td>buy</td>\n",
       "      <td>50</td>\n",
       "      <td>BTC</td>\n",
       "      <td>40</td>\n",
       "      <td>ETH</td>\n",
       "      <td>1</td>\n",
       "      <td>0.0</td>\n",
       "      <td>0.0</td>\n",
       "      <td>NaN</td>\n",
       "    </tr>\n",
       "    <tr>\n",
       "      <th>11</th>\n",
       "      <td>2023-04-24 15:28:07.262932+00:00</td>\n",
       "      <td>buy</td>\n",
       "      <td>30</td>\n",
       "      <td>BTC</td>\n",
       "      <td>30</td>\n",
       "      <td>ETH</td>\n",
       "      <td>1</td>\n",
       "      <td>0.0</td>\n",
       "      <td>0.0</td>\n",
       "      <td>NaN</td>\n",
       "    </tr>\n",
       "  </tbody>\n",
       "</table>\n",
       "</div>"
      ],
      "text/plain": [
       "                          timestamp action  quantity base_token  limit_price quote_token  deposit_address  q_pi_star  q_tau_star  effective_price\n",
       "0  2023-04-24 15:28:07.232544+00:00   sell        40        BTC          100         ETH                1        0.0         0.0              NaN\n",
       "1  2023-04-24 15:28:07.232609+00:00   sell        40        BTC           60         ETH                1        0.0         0.0              NaN\n",
       "2  2023-04-24 15:28:07.232618+00:00   sell        30        BTC           40         ETH                1        0.0         0.0              NaN\n",
       "3  2023-04-24 15:28:07.232624+00:00   sell        30        BTC           30         ETH                1        0.0         0.0              NaN\n",
       "4  2023-04-24 15:28:07.232632+00:00   sell        20        BTC           20         ETH                1        0.0         0.0              NaN\n",
       "5  2023-04-24 15:28:07.232639+00:00   sell        20        BTC           10         ETH                1        0.0         0.0              NaN\n",
       "6  2023-04-24 15:28:07.262861+00:00    buy        10        BTC          110         ETH                1        0.0         0.0              NaN\n",
       "7  2023-04-24 15:28:07.262905+00:00    buy        30        BTC          100         ETH                1        0.0         0.0              NaN\n",
       "8  2023-04-24 15:28:07.262913+00:00    buy        20        BTC           80         ETH                1        0.0         0.0              NaN\n",
       "9  2023-04-24 15:28:07.262922+00:00    buy        40        BTC           60         ETH                1        0.0         0.0              NaN\n",
       "10 2023-04-24 15:28:07.262927+00:00    buy        50        BTC           40         ETH                1        0.0         0.0              NaN\n",
       "11 2023-04-24 15:28:07.262932+00:00    buy        30        BTC           30         ETH                1        0.0         0.0              NaN"
      ]
     },
     "metadata": {},
     "output_type": "display_data"
    }
   ],
   "source": [
    "all_orders1 = supply_orders1 + demand_orders\n",
    "daocross_results1 = ddacropt.run_daocross_solver(all_orders1, prices)\n",
    "display(daocross_results1)"
   ]
  },
  {
   "cell_type": "markdown",
   "id": "f0206657",
   "metadata": {},
   "source": [
    "## Multiple intersection points at price P'"
   ]
  },
  {
   "cell_type": "code",
   "execution_count": 84,
   "id": "3b0825bf",
   "metadata": {
    "ExecuteTime": {
     "end_time": "2023-04-24T15:28:07.720325Z",
     "start_time": "2023-04-24T15:28:07.691548Z"
    }
   },
   "outputs": [
    {
     "data": {
      "text/plain": [
       "[(0, 10.0),\n",
       " (30.0, 10.0),\n",
       " (30.0, 20.0),\n",
       " (60.0, 20.0),\n",
       " (60.0, 30.0),\n",
       " (100.0, 30.0),\n",
       " (100.0, 40.0),\n",
       " (140.0, 40.0),\n",
       " (140.0, 60.0),\n",
       " (190.0, 60.0),\n",
       " (190.0, 100.0),\n",
       " (240.0, 100.0)]"
      ]
     },
     "execution_count": 84,
     "metadata": {},
     "output_type": "execute_result"
    }
   ],
   "source": [
    "quantity_const = 10.0\n",
    "supply_orders2 = ddcrsede.get_supply_orders1(quantity_const=quantity_const)\n",
    "supply_curve2 = ddcrsede.get_curve(supply_orders2, \"supply\")\n",
    "supply_curve2"
   ]
  },
  {
   "cell_type": "code",
   "execution_count": 85,
   "id": "506f037f",
   "metadata": {
    "ExecuteTime": {
     "end_time": "2023-04-24T15:28:07.969220Z",
     "start_time": "2023-04-24T15:28:07.722485Z"
    }
   },
   "outputs": [
    {
     "data": {
      "image/png": "[encoded data removed]",
      "text/plain": [
       "<Figure size 2000x500 with 1 Axes>"
      ]
     },
     "metadata": {},
     "output_type": "display_data"
    }
   ],
   "source": [
    "plt.plot(*zip(*supply_curve2))\n",
    "plt.plot(*zip(*demand_curve))\n",
    "plt.show()"
   ]
  },
  {
   "cell_type": "code",
   "execution_count": 86,
   "id": "c67d5b63",
   "metadata": {
    "ExecuteTime": {
     "end_time": "2023-04-24T15:28:08.049779Z",
     "start_time": "2023-04-24T15:28:07.971356Z"
    }
   },
   "outputs": [
    {
     "name": "stdout",
     "output_type": "stream",
     "text": [
      "DEBUG orders=[timestamp=2023-04-24 15:28:07.716535+00:00 action=sell quantity=50.0 base_token=BTC limit_price=100.0 quote_token=ETH deposit_address=1 wallet_address=1, timestamp=2023-04-24 15:28:07.716591+00:00 action=sell quantity=50.0 base_token=BTC limit_price=60.0 quote_token=ETH deposit_address=1 wallet_address=1, timestamp=2023-04-24 15:28:07.716599+00:00 action=sell quantity=40.0 base_token=BTC limit_price=40.0 quote_token=ETH deposit_address=1 wallet_address=1, timestamp=2023-04-24 15:28:07.716605+00:00 action=sell quantity=40.0 base_token=BTC limit_price=30.0 quote_token=ETH deposit_address=1 wallet_address=1, timestamp=2023-04-24 15:28:07.716610+00:00 action=sell quantity=30.0 base_token=BTC limit_price=20.0 quote_token=ETH deposit_address=1 wallet_address=1, timestamp=2023-04-24 15:28:07.716616+00:00 action=sell quantity=30.0 base_token=BTC limit_price=10.0 quote_token=ETH deposit_address=1 wallet_address=1, timestamp=2023-04-24 15:28:07.262861+00:00 action=buy quantity=10.0 base_token=BTC limit_price=110.0 quote_token=ETH deposit_address=1 wallet_address=1, timestamp=2023-04-24 15:28:07.262905+00:00 action=buy quantity=30.0 base_token=BTC limit_price=100.0 quote_token=ETH deposit_address=1 wallet_address=1, timestamp=2023-04-24 15:28:07.262913+00:00 action=buy quantity=20.0 base_token=BTC limit_price=80.0 quote_token=ETH deposit_address=1 wallet_address=1, timestamp=2023-04-24 15:28:07.262922+00:00 action=buy quantity=40.0 base_token=BTC limit_price=60.0 quote_token=ETH deposit_address=1 wallet_address=1, timestamp=2023-04-24 15:28:07.262927+00:00 action=buy quantity=50.0 base_token=BTC limit_price=40.0 quote_token=ETH deposit_address=1 wallet_address=1, timestamp=2023-04-24 15:28:07.262932+00:00 action=buy quantity=30.0 base_token=BTC limit_price=30.0 quote_token=ETH deposit_address=1 wallet_address=1]\n",
      "DEBUG prices={'BTC': 2, 'ETH': 1}\n",
      "DEBUG /venv/lib/python3.8/site-packages/pulp/solverdir/cbc/linux/64/cbc /tmp/d4f867d8c40d4ee2903b00259dd12cfa-pulp.mps max timeMode elapsed branch printingOptions all solution /tmp/d4f867d8c40d4ee2903b00259dd12cfa-pulp.sol \n"
     ]
    },
    {
     "name": "stderr",
     "output_type": "stream",
     "text": [
      "/venv/lib/python3.8/site-packages/pulp/pulp.py:1352: UserWarning: Spaces are not permitted in the name. Converted to '_'\n",
      "  warnings.warn(\"Spaces are not permitted in the name. Converted to '_'\")\n"
     ]
    },
    {
     "data": {
      "text/html": [
       "<div>\n",
       "<style scoped>\n",
       "    .dataframe tbody tr th:only-of-type {\n",
       "        vertical-align: middle;\n",
       "    }\n",
       "\n",
       "    .dataframe tbody tr th {\n",
       "        vertical-align: top;\n",
       "    }\n",
       "\n",
       "    .dataframe thead th {\n",
       "        text-align: right;\n",
       "    }\n",
       "</style>\n",
       "<table border=\"1\" class=\"dataframe\">\n",
       "  <thead>\n",
       "    <tr style=\"text-align: right;\">\n",
       "      <th></th>\n",
       "      <th>timestamp</th>\n",
       "      <th>action</th>\n",
       "      <th>quantity</th>\n",
       "      <th>base_token</th>\n",
       "      <th>limit_price</th>\n",
       "      <th>quote_token</th>\n",
       "      <th>deposit_address</th>\n",
       "      <th>q_pi_star</th>\n",
       "      <th>q_tau_star</th>\n",
       "      <th>effective_price</th>\n",
       "    </tr>\n",
       "  </thead>\n",
       "  <tbody>\n",
       "    <tr>\n",
       "      <th>0</th>\n",
       "      <td>2023-04-24 15:28:07.716535+00:00</td>\n",
       "      <td>sell</td>\n",
       "      <td>50</td>\n",
       "      <td>BTC</td>\n",
       "      <td>100</td>\n",
       "      <td>ETH</td>\n",
       "      <td>1</td>\n",
       "      <td>0.0</td>\n",
       "      <td>0.0</td>\n",
       "      <td>NaN</td>\n",
       "    </tr>\n",
       "    <tr>\n",
       "      <th>1</th>\n",
       "      <td>2023-04-24 15:28:07.716591+00:00</td>\n",
       "      <td>sell</td>\n",
       "      <td>50</td>\n",
       "      <td>BTC</td>\n",
       "      <td>60</td>\n",
       "      <td>ETH</td>\n",
       "      <td>1</td>\n",
       "      <td>0.0</td>\n",
       "      <td>0.0</td>\n",
       "      <td>NaN</td>\n",
       "    </tr>\n",
       "    <tr>\n",
       "      <th>2</th>\n",
       "      <td>2023-04-24 15:28:07.716599+00:00</td>\n",
       "      <td>sell</td>\n",
       "      <td>40</td>\n",
       "      <td>BTC</td>\n",
       "      <td>40</td>\n",
       "      <td>ETH</td>\n",
       "      <td>1</td>\n",
       "      <td>0.0</td>\n",
       "      <td>0.0</td>\n",
       "      <td>NaN</td>\n",
       "    </tr>\n",
       "    <tr>\n",
       "      <th>3</th>\n",
       "      <td>2023-04-24 15:28:07.716605+00:00</td>\n",
       "      <td>sell</td>\n",
       "      <td>40</td>\n",
       "      <td>BTC</td>\n",
       "      <td>30</td>\n",
       "      <td>ETH</td>\n",
       "      <td>1</td>\n",
       "      <td>0.0</td>\n",
       "      <td>0.0</td>\n",
       "      <td>NaN</td>\n",
       "    </tr>\n",
       "    <tr>\n",
       "      <th>4</th>\n",
       "      <td>2023-04-24 15:28:07.716610+00:00</td>\n",
       "      <td>sell</td>\n",
       "      <td>30</td>\n",
       "      <td>BTC</td>\n",
       "      <td>20</td>\n",
       "      <td>ETH</td>\n",
       "      <td>1</td>\n",
       "      <td>0.0</td>\n",
       "      <td>0.0</td>\n",
       "      <td>NaN</td>\n",
       "    </tr>\n",
       "    <tr>\n",
       "      <th>5</th>\n",
       "      <td>2023-04-24 15:28:07.716616+00:00</td>\n",
       "      <td>sell</td>\n",
       "      <td>30</td>\n",
       "      <td>BTC</td>\n",
       "      <td>10</td>\n",
       "      <td>ETH</td>\n",
       "      <td>1</td>\n",
       "      <td>0.0</td>\n",
       "      <td>0.0</td>\n",
       "      <td>NaN</td>\n",
       "    </tr>\n",
       "    <tr>\n",
       "      <th>6</th>\n",
       "      <td>2023-04-24 15:28:07.262861+00:00</td>\n",
       "      <td>buy</td>\n",
       "      <td>10</td>\n",
       "      <td>BTC</td>\n",
       "      <td>110</td>\n",
       "      <td>ETH</td>\n",
       "      <td>1</td>\n",
       "      <td>0.0</td>\n",
       "      <td>0.0</td>\n",
       "      <td>NaN</td>\n",
       "    </tr>\n",
       "    <tr>\n",
       "      <th>7</th>\n",
       "      <td>2023-04-24 15:28:07.262905+00:00</td>\n",
       "      <td>buy</td>\n",
       "      <td>30</td>\n",
       "      <td>BTC</td>\n",
       "      <td>100</td>\n",
       "      <td>ETH</td>\n",
       "      <td>1</td>\n",
       "      <td>0.0</td>\n",
       "      <td>0.0</td>\n",
       "      <td>NaN</td>\n",
       "    </tr>\n",
       "    <tr>\n",
       "      <th>8</th>\n",
       "      <td>2023-04-24 15:28:07.262913+00:00</td>\n",
       "      <td>buy</td>\n",
       "      <td>20</td>\n",
       "      <td>BTC</td>\n",
       "      <td>80</td>\n",
       "      <td>ETH</td>\n",
       "      <td>1</td>\n",
       "      <td>0.0</td>\n",
       "      <td>0.0</td>\n",
       "      <td>NaN</td>\n",
       "    </tr>\n",
       "    <tr>\n",
       "      <th>9</th>\n",
       "      <td>2023-04-24 15:28:07.262922+00:00</td>\n",
       "      <td>buy</td>\n",
       "      <td>40</td>\n",
       "      <td>BTC</td>\n",
       "      <td>60</td>\n",
       "      <td>ETH</td>\n",
       "      <td>1</td>\n",
       "      <td>0.0</td>\n",
       "      <td>0.0</td>\n",
       "      <td>NaN</td>\n",
       "    </tr>\n",
       "    <tr>\n",
       "      <th>10</th>\n",
       "      <td>2023-04-24 15:28:07.262927+00:00</td>\n",
       "      <td>buy</td>\n",
       "      <td>50</td>\n",
       "      <td>BTC</td>\n",
       "      <td>40</td>\n",
       "      <td>ETH</td>\n",
       "      <td>1</td>\n",
       "      <td>0.0</td>\n",
       "      <td>0.0</td>\n",
       "      <td>NaN</td>\n",
       "    </tr>\n",
       "    <tr>\n",
       "      <th>11</th>\n",
       "      <td>2023-04-24 15:28:07.262932+00:00</td>\n",
       "      <td>buy</td>\n",
       "      <td>30</td>\n",
       "      <td>BTC</td>\n",
       "      <td>30</td>\n",
       "      <td>ETH</td>\n",
       "      <td>1</td>\n",
       "      <td>0.0</td>\n",
       "      <td>0.0</td>\n",
       "      <td>NaN</td>\n",
       "    </tr>\n",
       "  </tbody>\n",
       "</table>\n",
       "</div>"
      ],
      "text/plain": [
       "                          timestamp action  quantity base_token  limit_price quote_token  deposit_address  q_pi_star  q_tau_star  effective_price\n",
       "0  2023-04-24 15:28:07.716535+00:00   sell        50        BTC          100         ETH                1        0.0         0.0              NaN\n",
       "1  2023-04-24 15:28:07.716591+00:00   sell        50        BTC           60         ETH                1        0.0         0.0              NaN\n",
       "2  2023-04-24 15:28:07.716599+00:00   sell        40        BTC           40         ETH                1        0.0         0.0              NaN\n",
       "3  2023-04-24 15:28:07.716605+00:00   sell        40        BTC           30         ETH                1        0.0         0.0              NaN\n",
       "4  2023-04-24 15:28:07.716610+00:00   sell        30        BTC           20         ETH                1        0.0         0.0              NaN\n",
       "5  2023-04-24 15:28:07.716616+00:00   sell        30        BTC           10         ETH                1        0.0         0.0              NaN\n",
       "6  2023-04-24 15:28:07.262861+00:00    buy        10        BTC          110         ETH                1        0.0         0.0              NaN\n",
       "7  2023-04-24 15:28:07.262905+00:00    buy        30        BTC          100         ETH                1        0.0         0.0              NaN\n",
       "8  2023-04-24 15:28:07.262913+00:00    buy        20        BTC           80         ETH                1        0.0         0.0              NaN\n",
       "9  2023-04-24 15:28:07.262922+00:00    buy        40        BTC           60         ETH                1        0.0         0.0              NaN\n",
       "10 2023-04-24 15:28:07.262927+00:00    buy        50        BTC           40         ETH                1        0.0         0.0              NaN\n",
       "11 2023-04-24 15:28:07.262932+00:00    buy        30        BTC           30         ETH                1        0.0         0.0              NaN"
      ]
     },
     "metadata": {},
     "output_type": "display_data"
    }
   ],
   "source": [
    "all_orders2 = supply_orders2 + demand_orders\n",
    "daocross_results2 = ddacropt.run_daocross_solver(all_orders2, prices)\n",
    "display(daocross_results2)"
   ]
  },
  {
   "cell_type": "markdown",
   "id": "b4b04a9d",
   "metadata": {
    "ExecuteTime": {
     "end_time": "2023-04-20T23:21:31.778217Z",
     "start_time": "2023-04-20T23:21:31.757404Z"
    }
   },
   "source": [
    "## No intersection, demand is higher"
   ]
  },
  {
   "cell_type": "code",
   "execution_count": 87,
   "id": "60e6aaf1",
   "metadata": {
    "ExecuteTime": {
     "end_time": "2023-04-24T15:28:08.084779Z",
     "start_time": "2023-04-24T15:28:08.053939Z"
    }
   },
   "outputs": [
    {
     "data": {
      "text/plain": [
       "[(0, 10.0),\n",
       " (120.0, 10.0),\n",
       " (120.0, 20.0),\n",
       " (240.0, 20.0),\n",
       " (240.0, 30.0),\n",
       " (370.0, 30.0),\n",
       " (370.0, 40.0),\n",
       " (500.0, 40.0),\n",
       " (500.0, 60.0),\n",
       " (640.0, 60.0),\n",
       " (640.0, 100.0),\n",
       " (780.0, 100.0)]"
      ]
     },
     "execution_count": 87,
     "metadata": {},
     "output_type": "execute_result"
    }
   ],
   "source": [
    "quantity_const = 100.0\n",
    "supply_orders3 = ddcrsede.get_supply_orders1(quantity_const=quantity_const)\n",
    "supply_curve3 = ddcrsede.get_curve(supply_orders3, \"supply\")\n",
    "supply_curve3"
   ]
  },
  {
   "cell_type": "code",
   "execution_count": 88,
   "id": "6d8efe69",
   "metadata": {
    "ExecuteTime": {
     "end_time": "2023-04-24T15:28:08.358013Z",
     "start_time": "2023-04-24T15:28:08.086844Z"
    }
   },
   "outputs": [
    {
     "data": {
      "image/png": "[encoded data removed]",
      "text/plain": [
       "<Figure size 2000x500 with 1 Axes>"
      ]
     },
     "metadata": {},
     "output_type": "display_data"
    }
   ],
   "source": [
    "plt.plot(*zip(*supply_curve3))\n",
    "plt.plot(*zip(*demand_curve))\n",
    "plt.show()"
   ]
  },
  {
   "cell_type": "code",
   "execution_count": 89,
   "id": "5f080eec",
   "metadata": {
    "ExecuteTime": {
     "end_time": "2023-04-24T15:28:08.437775Z",
     "start_time": "2023-04-24T15:28:08.360596Z"
    }
   },
   "outputs": [
    {
     "name": "stdout",
     "output_type": "stream",
     "text": [
      "DEBUG orders=[timestamp=2023-04-24 15:28:08.080984+00:00 action=sell quantity=140.0 base_token=BTC limit_price=100.0 quote_token=ETH deposit_address=1 wallet_address=1, timestamp=2023-04-24 15:28:08.081043+00:00 action=sell quantity=140.0 base_token=BTC limit_price=60.0 quote_token=ETH deposit_address=1 wallet_address=1, timestamp=2023-04-24 15:28:08.081052+00:00 action=sell quantity=130.0 base_token=BTC limit_price=40.0 quote_token=ETH deposit_address=1 wallet_address=1, timestamp=2023-04-24 15:28:08.081060+00:00 action=sell quantity=130.0 base_token=BTC limit_price=30.0 quote_token=ETH deposit_address=1 wallet_address=1, timestamp=2023-04-24 15:28:08.081066+00:00 action=sell quantity=120.0 base_token=BTC limit_price=20.0 quote_token=ETH deposit_address=1 wallet_address=1, timestamp=2023-04-24 15:28:08.081072+00:00 action=sell quantity=120.0 base_token=BTC limit_price=10.0 quote_token=ETH deposit_address=1 wallet_address=1, timestamp=2023-04-24 15:28:07.262861+00:00 action=buy quantity=10.0 base_token=BTC limit_price=110.0 quote_token=ETH deposit_address=1 wallet_address=1, timestamp=2023-04-24 15:28:07.262905+00:00 action=buy quantity=30.0 base_token=BTC limit_price=100.0 quote_token=ETH deposit_address=1 wallet_address=1, timestamp=2023-04-24 15:28:07.262913+00:00 action=buy quantity=20.0 base_token=BTC limit_price=80.0 quote_token=ETH deposit_address=1 wallet_address=1, timestamp=2023-04-24 15:28:07.262922+00:00 action=buy quantity=40.0 base_token=BTC limit_price=60.0 quote_token=ETH deposit_address=1 wallet_address=1, timestamp=2023-04-24 15:28:07.262927+00:00 action=buy quantity=50.0 base_token=BTC limit_price=40.0 quote_token=ETH deposit_address=1 wallet_address=1, timestamp=2023-04-24 15:28:07.262932+00:00 action=buy quantity=30.0 base_token=BTC limit_price=30.0 quote_token=ETH deposit_address=1 wallet_address=1]\n",
      "DEBUG prices={'BTC': 2, 'ETH': 1}\n",
      "DEBUG /venv/lib/python3.8/site-packages/pulp/solverdir/cbc/linux/64/cbc /tmp/927c261cf48b495a9fcd983b45c93c15-pulp.mps max timeMode elapsed branch printingOptions all solution /tmp/927c261cf48b495a9fcd983b45c93c15-pulp.sol \n"
     ]
    },
    {
     "name": "stderr",
     "output_type": "stream",
     "text": [
      "/venv/lib/python3.8/site-packages/pulp/pulp.py:1352: UserWarning: Spaces are not permitted in the name. Converted to '_'\n",
      "  warnings.warn(\"Spaces are not permitted in the name. Converted to '_'\")\n"
     ]
    },
    {
     "data": {
      "text/html": [
       "<div>\n",
       "<style scoped>\n",
       "    .dataframe tbody tr th:only-of-type {\n",
       "        vertical-align: middle;\n",
       "    }\n",
       "\n",
       "    .dataframe tbody tr th {\n",
       "        vertical-align: top;\n",
       "    }\n",
       "\n",
       "    .dataframe thead th {\n",
       "        text-align: right;\n",
       "    }\n",
       "</style>\n",
       "<table border=\"1\" class=\"dataframe\">\n",
       "  <thead>\n",
       "    <tr style=\"text-align: right;\">\n",
       "      <th></th>\n",
       "      <th>timestamp</th>\n",
       "      <th>action</th>\n",
       "      <th>quantity</th>\n",
       "      <th>base_token</th>\n",
       "      <th>limit_price</th>\n",
       "      <th>quote_token</th>\n",
       "      <th>deposit_address</th>\n",
       "      <th>q_pi_star</th>\n",
       "      <th>q_tau_star</th>\n",
       "      <th>effective_price</th>\n",
       "    </tr>\n",
       "  </thead>\n",
       "  <tbody>\n",
       "    <tr>\n",
       "      <th>0</th>\n",
       "      <td>2023-04-24 15:28:08.080984+00:00</td>\n",
       "      <td>sell</td>\n",
       "      <td>140</td>\n",
       "      <td>BTC</td>\n",
       "      <td>100</td>\n",
       "      <td>ETH</td>\n",
       "      <td>1</td>\n",
       "      <td>0.0</td>\n",
       "      <td>0.0</td>\n",
       "      <td>NaN</td>\n",
       "    </tr>\n",
       "    <tr>\n",
       "      <th>1</th>\n",
       "      <td>2023-04-24 15:28:08.081043+00:00</td>\n",
       "      <td>sell</td>\n",
       "      <td>140</td>\n",
       "      <td>BTC</td>\n",
       "      <td>60</td>\n",
       "      <td>ETH</td>\n",
       "      <td>1</td>\n",
       "      <td>0.0</td>\n",
       "      <td>0.0</td>\n",
       "      <td>NaN</td>\n",
       "    </tr>\n",
       "    <tr>\n",
       "      <th>2</th>\n",
       "      <td>2023-04-24 15:28:08.081052+00:00</td>\n",
       "      <td>sell</td>\n",
       "      <td>130</td>\n",
       "      <td>BTC</td>\n",
       "      <td>40</td>\n",
       "      <td>ETH</td>\n",
       "      <td>1</td>\n",
       "      <td>0.0</td>\n",
       "      <td>0.0</td>\n",
       "      <td>NaN</td>\n",
       "    </tr>\n",
       "    <tr>\n",
       "      <th>3</th>\n",
       "      <td>2023-04-24 15:28:08.081060+00:00</td>\n",
       "      <td>sell</td>\n",
       "      <td>130</td>\n",
       "      <td>BTC</td>\n",
       "      <td>30</td>\n",
       "      <td>ETH</td>\n",
       "      <td>1</td>\n",
       "      <td>0.0</td>\n",
       "      <td>0.0</td>\n",
       "      <td>NaN</td>\n",
       "    </tr>\n",
       "    <tr>\n",
       "      <th>4</th>\n",
       "      <td>2023-04-24 15:28:08.081066+00:00</td>\n",
       "      <td>sell</td>\n",
       "      <td>120</td>\n",
       "      <td>BTC</td>\n",
       "      <td>20</td>\n",
       "      <td>ETH</td>\n",
       "      <td>1</td>\n",
       "      <td>0.0</td>\n",
       "      <td>0.0</td>\n",
       "      <td>NaN</td>\n",
       "    </tr>\n",
       "    <tr>\n",
       "      <th>5</th>\n",
       "      <td>2023-04-24 15:28:08.081072+00:00</td>\n",
       "      <td>sell</td>\n",
       "      <td>120</td>\n",
       "      <td>BTC</td>\n",
       "      <td>10</td>\n",
       "      <td>ETH</td>\n",
       "      <td>1</td>\n",
       "      <td>0.0</td>\n",
       "      <td>0.0</td>\n",
       "      <td>NaN</td>\n",
       "    </tr>\n",
       "    <tr>\n",
       "      <th>6</th>\n",
       "      <td>2023-04-24 15:28:07.262861+00:00</td>\n",
       "      <td>buy</td>\n",
       "      <td>10</td>\n",
       "      <td>BTC</td>\n",
       "      <td>110</td>\n",
       "      <td>ETH</td>\n",
       "      <td>1</td>\n",
       "      <td>0.0</td>\n",
       "      <td>0.0</td>\n",
       "      <td>NaN</td>\n",
       "    </tr>\n",
       "    <tr>\n",
       "      <th>7</th>\n",
       "      <td>2023-04-24 15:28:07.262905+00:00</td>\n",
       "      <td>buy</td>\n",
       "      <td>30</td>\n",
       "      <td>BTC</td>\n",
       "      <td>100</td>\n",
       "      <td>ETH</td>\n",
       "      <td>1</td>\n",
       "      <td>0.0</td>\n",
       "      <td>0.0</td>\n",
       "      <td>NaN</td>\n",
       "    </tr>\n",
       "    <tr>\n",
       "      <th>8</th>\n",
       "      <td>2023-04-24 15:28:07.262913+00:00</td>\n",
       "      <td>buy</td>\n",
       "      <td>20</td>\n",
       "      <td>BTC</td>\n",
       "      <td>80</td>\n",
       "      <td>ETH</td>\n",
       "      <td>1</td>\n",
       "      <td>0.0</td>\n",
       "      <td>0.0</td>\n",
       "      <td>NaN</td>\n",
       "    </tr>\n",
       "    <tr>\n",
       "      <th>9</th>\n",
       "      <td>2023-04-24 15:28:07.262922+00:00</td>\n",
       "      <td>buy</td>\n",
       "      <td>40</td>\n",
       "      <td>BTC</td>\n",
       "      <td>60</td>\n",
       "      <td>ETH</td>\n",
       "      <td>1</td>\n",
       "      <td>0.0</td>\n",
       "      <td>0.0</td>\n",
       "      <td>NaN</td>\n",
       "    </tr>\n",
       "    <tr>\n",
       "      <th>10</th>\n",
       "      <td>2023-04-24 15:28:07.262927+00:00</td>\n",
       "      <td>buy</td>\n",
       "      <td>50</td>\n",
       "      <td>BTC</td>\n",
       "      <td>40</td>\n",
       "      <td>ETH</td>\n",
       "      <td>1</td>\n",
       "      <td>0.0</td>\n",
       "      <td>0.0</td>\n",
       "      <td>NaN</td>\n",
       "    </tr>\n",
       "    <tr>\n",
       "      <th>11</th>\n",
       "      <td>2023-04-24 15:28:07.262932+00:00</td>\n",
       "      <td>buy</td>\n",
       "      <td>30</td>\n",
       "      <td>BTC</td>\n",
       "      <td>30</td>\n",
       "      <td>ETH</td>\n",
       "      <td>1</td>\n",
       "      <td>0.0</td>\n",
       "      <td>0.0</td>\n",
       "      <td>NaN</td>\n",
       "    </tr>\n",
       "  </tbody>\n",
       "</table>\n",
       "</div>"
      ],
      "text/plain": [
       "                          timestamp action  quantity base_token  limit_price quote_token  deposit_address  q_pi_star  q_tau_star  effective_price\n",
       "0  2023-04-24 15:28:08.080984+00:00   sell       140        BTC          100         ETH                1        0.0         0.0              NaN\n",
       "1  2023-04-24 15:28:08.081043+00:00   sell       140        BTC           60         ETH                1        0.0         0.0              NaN\n",
       "2  2023-04-24 15:28:08.081052+00:00   sell       130        BTC           40         ETH                1        0.0         0.0              NaN\n",
       "3  2023-04-24 15:28:08.081060+00:00   sell       130        BTC           30         ETH                1        0.0         0.0              NaN\n",
       "4  2023-04-24 15:28:08.081066+00:00   sell       120        BTC           20         ETH                1        0.0         0.0              NaN\n",
       "5  2023-04-24 15:28:08.081072+00:00   sell       120        BTC           10         ETH                1        0.0         0.0              NaN\n",
       "6  2023-04-24 15:28:07.262861+00:00    buy        10        BTC          110         ETH                1        0.0         0.0              NaN\n",
       "7  2023-04-24 15:28:07.262905+00:00    buy        30        BTC          100         ETH                1        0.0         0.0              NaN\n",
       "8  2023-04-24 15:28:07.262913+00:00    buy        20        BTC           80         ETH                1        0.0         0.0              NaN\n",
       "9  2023-04-24 15:28:07.262922+00:00    buy        40        BTC           60         ETH                1        0.0         0.0              NaN\n",
       "10 2023-04-24 15:28:07.262927+00:00    buy        50        BTC           40         ETH                1        0.0         0.0              NaN\n",
       "11 2023-04-24 15:28:07.262932+00:00    buy        30        BTC           30         ETH                1        0.0         0.0              NaN"
      ]
     },
     "metadata": {},
     "output_type": "display_data"
    }
   ],
   "source": [
    "all_orders3 = supply_orders3 + demand_orders\n",
    "daocross_results3 = ddacropt.run_daocross_solver(all_orders3, prices)\n",
    "display(daocross_results3)"
   ]
  },
  {
   "cell_type": "markdown",
   "id": "d95e53fb",
   "metadata": {},
   "source": [
    "# No intersection, demand is lower"
   ]
  },
  {
   "cell_type": "code",
   "execution_count": 90,
   "id": "0a54318a",
   "metadata": {
    "ExecuteTime": {
     "end_time": "2023-04-24T15:28:08.468969Z",
     "start_time": "2023-04-24T15:28:08.440390Z"
    }
   },
   "outputs": [],
   "source": [
    "# TODO(Dan): Implement"
   ]
  },
  {
   "cell_type": "code",
   "execution_count": null,
   "id": "e1e1bc13",
   "metadata": {},
   "outputs": [],
   "source": []
  }
 ],
 "metadata": {
  "kernelspec": {
   "display_name": "Python 3 (ipykernel)",
   "language": "python",
   "name": "python3"
  },
  "language_info": {
   "codemirror_mode": {
    "name": "ipython",
    "version": 3
   },
   "file_extension": ".py",
   "mimetype": "text/x-python",
   "name": "python",
   "nbconvert_exporter": "python",
   "pygments_lexer": "ipython3",
   "version": "3.8.10"
  },
  "toc": {
   "base_numbering": 1,
   "nav_menu": {},
   "number_sections": true,
   "sideBar": true,
   "skip_h1_title": false,
   "title_cell": "Table of Contents",
   "title_sidebar": "Contents",
   "toc_cell": false,
   "toc_position": {},
   "toc_section_display": true,
   "toc_window_display": false
  }
 },
 "nbformat": 4,
 "nbformat_minor": 5
}
