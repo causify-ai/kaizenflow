{
 "cells": [
  {
   "cell_type": "code",
   "execution_count": 1,
   "id": "36db1d0e",
   "metadata": {
    "ExecuteTime": {
     "end_time": "2023-03-21T19:47:58.644638Z",
     "start_time": "2023-03-21T19:47:56.467810Z"
    }
   },
   "outputs": [
    {
     "name": "stderr",
     "output_type": "stream",
     "text": [
      "<jemalloc>: MADV_DONTNEED does not work (memset will be used instead)\n",
      "<jemalloc>: (This is the expected behaviour if you are running under QEMU)\n",
      "/tmp/ipykernel_1382/3057784219.py:11: TqdmExperimentalWarning: Using `tqdm.autonotebook.tqdm` in notebook mode. Use `tqdm.tqdm` instead to force console mode (e.g. in jupyter console)\n",
      "  from tqdm.autonotebook import tqdm\n"
     ]
    }
   ],
   "source": [
    "%load_ext autoreload\n",
    "%autoreload 2\n",
    "\n",
    "import copy\n",
    "import heapq\n",
    "import logging\n",
    "\n",
    "import numpy as np\n",
    "import pandas as pd\n",
    "\n",
    "from tqdm.autonotebook import tqdm\n",
    "from typing import List\n",
    "\n",
    "import helpers.hdatetime as hdateti\n",
    "import helpers.hdbg as hdbg\n",
    "import helpers.henv as henv\n",
    "import helpers.hprint as hprint"
   ]
  },
  {
   "cell_type": "code",
   "execution_count": 2,
   "id": "0eb3cb72",
   "metadata": {
    "ExecuteTime": {
     "end_time": "2023-03-21T19:48:07.037805Z",
     "start_time": "2023-03-21T19:47:58.651965Z"
    }
   },
   "outputs": [
    {
     "name": "stdout",
     "output_type": "stream",
     "text": [
      "\u001b[0m\u001b[36mINFO\u001b[0m: > cmd='/venv/lib/python3.8/site-packages/ipykernel_launcher.py -f /home/.local/share/jupyter/runtime/kernel-26f4ad08-6f31-4966-8385-11e470abe62a.json'\n",
      "WARNING: Running in Jupyter\n",
      "DEBUG Effective logging level=10\n",
      "DEBUG Shut up 1 modules: asyncio\n",
      "DEBUG > (cd . && cd \"$(git rev-parse --show-toplevel)/..\" && (git rev-parse --is-inside-work-tree | grep -q true)) 2>&1\n",
      "DEBUG > (git rev-parse --show-toplevel) 2>&1\n",
      "\u001b[31m-----------------------------------------------------------------------------\n",
      "This code is not in sync with the container:\n",
      "code_version='1.4.3' != container_version='1.4.0'\n",
      "-----------------------------------------------------------------------------\n",
      "You need to:\n",
      "- merge origin/master into your branch with `invoke git_merge_master`\n",
      "- pull the latest container with `invoke docker_pull`\u001b[0m\n",
      "DEBUG > (git branch --show-current) 2>&1\n",
      "DEBUG > (git rev-parse --short HEAD) 2>&1\n",
      "DEBUG > (git log --date=local --oneline --graph --date-order --decorate --pretty=format:'%h %<(8)%aN%  %<(65)%s (%>(14)%ar) %ad %<(10)%d' -3) 2>&1\n",
      "DEBUG matplotlib data path: /venv/lib/python3.8/site-packages/matplotlib/mpl-data\n",
      "DEBUG CONFIGDIR=/home/.config/matplotlib\n",
      "DEBUG interactive is False\n",
      "DEBUG platform is linux\n",
      "DEBUG CACHEDIR=/home/.cache/matplotlib\n",
      "DEBUG Using fontManager instance from /home/.cache/matplotlib/fontlist-v330.json\n",
      "INFO  # Git\n",
      "  branch_name='CmTask4094_Create_reference_implementation_for_DaoCross'\n",
      "  hash='677d7e634'\n",
      "  # Last commits:\n",
      "    * 677d7e634 paul     Checkpoint                                                        (   2 hours ago) Tue Mar 21 18:13:00 2023  (HEAD -> CmTask4094_Create_reference_implementation_for_DaoCross, origin/CmTask4094_Create_reference_implementation_for_DaoCross)\n",
      "    * 21d3649ac paul     Checkpoint                                                        (   2 hours ago) Tue Mar 21 17:43:04 2023           \n",
      "    * 79593c624 paul     Checkpoint                                                        (   4 hours ago) Tue Mar 21 15:44:40 2023           \n",
      "# Machine info\n",
      "  system=Linux\n",
      "  node name=0eb86644b59e\n",
      "  release=5.10.104-linuxkit\n",
      "  version=#1 SMP PREEMPT Thu Mar 17 17:05:54 UTC 2022\n",
      "  machine=x86_64\n",
      "  processor=x86_64\n",
      "  cpu count=5\n",
      "  cpu freq=None\n",
      "  memory=svmem(total=8232747008, available=6587314176, percent=20.0, used=1091981312, free=5915705344, active=498323456, inactive=1493712896, buffers=81231872, cached=1143828480, shared=349032448, slab=248049664)\n",
      "  disk usage=sdiskusage(total=62725623808, used=31341187072, free=28167720960, percent=52.7)\n",
      "# Packages\n",
      "  python: 3.8.10\n",
      "  cvxopt: 1.3.0\n",
      "  cvxpy: 1.2.2\n",
      "  gluonnlp: ?\n",
      "  gluonts: 0.6.7\n",
      "  joblib: 1.2.0\n",
      "  mxnet: 1.9.1\n",
      "  numpy: 1.23.4\n",
      "  pandas: 1.5.1\n",
      "  pyarrow: 10.0.0\n",
      "  scipy: 1.9.3\n",
      "  seaborn: 0.12.1\n",
      "  sklearn: 1.1.3\n",
      "  statsmodels: 0.13.5\n"
     ]
    }
   ],
   "source": [
    "hdbg.init_logger(verbosity=logging.DEBUG)\n",
    "\n",
    "_LOG = logging.getLogger(__name__)\n",
    "\n",
    "_LOG.info(\"%s\", henv.get_system_signature()[0])\n",
    "\n",
    "hprint.config_notebook()"
   ]
  },
  {
   "cell_type": "markdown",
   "id": "fefe8e8d",
   "metadata": {},
   "source": [
    "# Order class"
   ]
  },
  {
   "cell_type": "code",
   "execution_count": 3,
   "id": "6833929c",
   "metadata": {
    "ExecuteTime": {
     "end_time": "2023-03-21T19:48:07.155714Z",
     "start_time": "2023-03-21T19:48:07.052432Z"
    }
   },
   "outputs": [],
   "source": [
    "class Order:\n",
    "    \n",
    "    def __init__(\n",
    "        self,\n",
    "        base_token: str,\n",
    "        quote_token: str,\n",
    "        action: str,\n",
    "        quantity: float,\n",
    "        limit_price: float,\n",
    "        deposit_address,\n",
    "        wallet_address,\n",
    "    ) -> None:\n",
    "        self.base_token = base_token\n",
    "        self.quote_token = quote_token \n",
    "        hdbg.dassert_in(action, [\"buy\", \"sell\"])\n",
    "        self.action = action\n",
    "        self.quantity = quantity\n",
    "        # Replace NaN with signed Inf depending upon `action`.\n",
    "        # This helps with `Order` comparisons (`lt` and `gt`).\n",
    "        if np.isnan(limit_price):\n",
    "            if action == \"buy\":\n",
    "                self.limit_price = np.inf\n",
    "            elif action == \"sell\":\n",
    "                self.limit_price = -np.inf\n",
    "            else:\n",
    "                raise ValueError\n",
    "        else:\n",
    "            self.limit_price = limit_price\n",
    "        self.timestamp = hdateti.get_current_time(tz=\"UTC\")\n",
    "        self.deposit_address = deposit_address\n",
    "        self.wallet_address = wallet_address\n",
    "        \n",
    "    def __repr__(self):\n",
    "        return str(self)\n",
    "        \n",
    "    def __str__(self):\n",
    "        ret = \"base_token=%s quote_token=%s action=%s quantity=%s limit_price=%s timestamp=%s deposit_address=%s\" % (self.base_token, self.quote_token, self.action, self.quantity, self.limit_price, self.timestamp, self.deposit_address)\n",
    "        return ret\n",
    "    \n",
    "    # Because we use a min-heap, taking precedence in the order queue is given\n",
    "    # \"lower priority\" in the internal heap.\n",
    "    def __lt__(self, other):\n",
    "        return self._takes_precedence(other)\n",
    "\n",
    "    def __gt__(self, other):\n",
    "        return not self._takes_precedence(other)\n",
    "    \n",
    "    def _takes_precedence(self, other):\n",
    "        # Prioritize according to quantity/price/timestamp.\n",
    "        takes_precedence = False\n",
    "        if self.quantity > other.quantity:\n",
    "            takes_precedence = True\n",
    "        elif self.limit_price > other.limit_price:\n",
    "            takes_precedence = True\n",
    "        elif self.timestamp > other.timestamp:\n",
    "            takes_precedence = True\n",
    "        return takes_precedence"
   ]
  },
  {
   "cell_type": "code",
   "execution_count": 4,
   "id": "22894488",
   "metadata": {
    "ExecuteTime": {
     "end_time": "2023-03-21T19:48:07.276751Z",
     "start_time": "2023-03-21T19:48:07.172782Z"
    }
   },
   "outputs": [
    {
     "data": {
      "text/plain": [
       "[base_token=ETH quote_token=BTC action=buy quantity=10 limit_price=0.1 timestamp=2023-03-21 19:48:07.241166+00:00 deposit_address=1,\n",
       " base_token=ETH quote_token=BTC action=buy quantity=9 limit_price=0.15 timestamp=2023-03-21 19:48:07.242983+00:00 deposit_address=2,\n",
       " base_token=ETH quote_token=BTC action=buy quantity=10 limit_price=0.15 timestamp=2023-03-21 19:48:07.243247+00:00 deposit_address=3]"
      ]
     },
     "metadata": {},
     "output_type": "display_data"
    }
   ],
   "source": [
    "buy_order1 = Order(\"ETH\", \"BTC\", \"buy\", 10, 0.1, 1, 1)\n",
    "buy_order2 = Order(\"ETH\", \"BTC\", \"buy\", 9, 0.15, 2, 2)\n",
    "buy_order3 = Order(\"ETH\", \"BTC\", \"buy\", 10, 0.15, 3, 3)\n",
    "buy_orders = [buy_order1, buy_order2, buy_order3]\n",
    "display(buy_orders)"
   ]
  },
  {
   "cell_type": "code",
   "execution_count": 5,
   "id": "12148699",
   "metadata": {
    "ExecuteTime": {
     "end_time": "2023-03-21T19:48:07.363930Z",
     "start_time": "2023-03-21T19:48:07.285637Z"
    }
   },
   "outputs": [
    {
     "data": {
      "text/plain": [
       "[base_token=ETH quote_token=BTC action=sell quantity=11 limit_price=0.1 timestamp=2023-03-21 19:48:07.353962+00:00 deposit_address=-1,\n",
       " base_token=ETH quote_token=BTC action=sell quantity=10 limit_price=0.15 timestamp=2023-03-21 19:48:07.354294+00:00 deposit_address=-2,\n",
       " base_token=ETH quote_token=BTC action=sell quantity=9 limit_price=0.15 timestamp=2023-03-21 19:48:07.354509+00:00 deposit_address=-3]"
      ]
     },
     "metadata": {},
     "output_type": "display_data"
    }
   ],
   "source": [
    "sell_order1 = Order(\"ETH\", \"BTC\", \"sell\", 11, 0.1, -1, -1)\n",
    "sell_order2 = Order(\"ETH\", \"BTC\", \"sell\", 10, 0.15, -2, -2)\n",
    "sell_order3 = Order(\"ETH\", \"BTC\", \"sell\", 9, 0.15, -3, -3)\n",
    "sell_orders = [sell_order1, sell_order2, sell_order3]\n",
    "display(sell_orders)"
   ]
  },
  {
   "cell_type": "code",
   "execution_count": 6,
   "id": "c6cc95b1",
   "metadata": {
    "ExecuteTime": {
     "end_time": "2023-03-21T19:48:07.451606Z",
     "start_time": "2023-03-21T19:48:07.372337Z"
    }
   },
   "outputs": [],
   "source": [
    "def get_random_order(seed=None):\n",
    "    if seed is not None:\n",
    "        np.random.seed(seed)\n",
    "    base_token = \"ETH\"\n",
    "    quote_token = \"BTC\"\n",
    "    # Generate random buy/sells.\n",
    "    action = \"buy\" if np.random.random() < 0.5 else \"sell\"\n",
    "    # Generate random quantities.\n",
    "    quantity = np.random.randint(1, 10)\n",
    "    # Do not impose a limit price.\n",
    "    limit_price = np.nan\n",
    "    # Create a random wallet address.\n",
    "    deposit_address = np.random.randint(-3, 3)\n",
    "    # Prevent self-crossing (in a crude way).\n",
    "    if action == \"buy\":\n",
    "        deposit_address = abs(deposit_address)\n",
    "    elif action == \"sell\":\n",
    "        deposit_address = -abs(deposit_address)\n",
    "    # Make wallet address and deposit address the same.\n",
    "    wallet_address = deposit_address\n",
    "    # Build order.\n",
    "    order = Order(base_token, quote_token, action, quantity, limit_price, deposit_address, wallet_address)\n",
    "    return order"
   ]
  },
  {
   "cell_type": "code",
   "execution_count": 7,
   "id": "413d0c8b",
   "metadata": {
    "ExecuteTime": {
     "end_time": "2023-03-21T19:48:07.536591Z",
     "start_time": "2023-03-21T19:48:07.459374Z"
    }
   },
   "outputs": [
    {
     "data": {
      "text/plain": [
       "base_token=ETH quote_token=BTC action=buy quantity=8 limit_price=inf timestamp=2023-03-21 19:48:07.526487+00:00 deposit_address=3"
      ]
     },
     "execution_count": 7,
     "metadata": {},
     "output_type": "execute_result"
    }
   ],
   "source": [
    "get_random_order()"
   ]
  },
  {
   "cell_type": "markdown",
   "id": "0da1213c",
   "metadata": {},
   "source": [
    "# Order matching"
   ]
  },
  {
   "cell_type": "code",
   "execution_count": 8,
   "id": "3969088c",
   "metadata": {
    "ExecuteTime": {
     "end_time": "2023-03-21T19:48:07.646036Z",
     "start_time": "2023-03-21T19:48:07.544506Z"
    }
   },
   "outputs": [],
   "source": [
    "def match_orders(orders: List[Order], clearing_price) -> pd.DataFrame:\n",
    "    # Build buy and sell heaps.\n",
    "    buy_heap = []\n",
    "    sell_heap = []\n",
    "    for order in orders:\n",
    "        if order.action == \"buy\":\n",
    "            if order.limit_price >= clearing_price:\n",
    "                heapq.heappush(buy_heap, order)\n",
    "            else:\n",
    "                _LOG.debug(\"Order not eligible for matching due to limit\")\n",
    "        elif order.action == \"sell\":\n",
    "            if order.limit_price <= clearing_price:\n",
    "                heapq.heappush(sell_heap, order)\n",
    "            else:\n",
    "                _LOG.debug(\"Order not eligible for matching due to limit\")\n",
    "        else:\n",
    "            raise ValueError\n",
    "    _LOG.debug(\"buy_heap=%s\", buy_heap)\n",
    "    _LOG.debug(\"sell_heap=%s\", sell_heap)\n",
    "    # Perform matching.\n",
    "    transfers = []\n",
    "    # TODO: Make sure orders are compatible and valid.\n",
    "    # Successively compare buy_heap top with sell_heap top, matching volume until\n",
    "    # zero or queues empty.\n",
    "    buy_order = None\n",
    "    sell_order = None\n",
    "    while (buy_heap or is_active_order(buy_order)) and (sell_heap or is_active_order(sell_order)):\n",
    "        if not buy_order or buy_order.quantity == 0:\n",
    "            # Make a copy so that `match_orders()` does not alter state (and is idempotent).\n",
    "            buy_order = copy.copy(buy_heap.pop())\n",
    "        if not sell_order or sell_order.quantity == 0:\n",
    "            sell_order = copy.copy(sell_heap.pop())\n",
    "        quantity = min(buy_order.quantity, sell_order.quantity)\n",
    "        transfer1 = pd.Series({\n",
    "            \"token\": buy_order.base_token,\n",
    "            \"amount\": quantity,\n",
    "            \"from\": sell_order.wallet_address,\n",
    "            \"to\": buy_order.deposit_address\n",
    "        })\n",
    "        transfers.append(transfer1)\n",
    "        transfer2 = pd.Series({\n",
    "            \"token\": buy_order.quote_token,\n",
    "            \"amount\": quantity * clearing_price,\n",
    "            \"from\": buy_order.wallet_address,\n",
    "            \"to\": sell_order.deposit_address,\n",
    "        })\n",
    "        transfers.append(transfer2)\n",
    "        buy_order.quantity -= quantity\n",
    "        sell_order.quantity -= quantity\n",
    "    transfer_df = get_transfer_df(transfers)\n",
    "    return transfer_df\n",
    "\n",
    "def is_active_order(order):\n",
    "    if order is None:\n",
    "        return False\n",
    "    if not order.quantity > 0:\n",
    "        return False\n",
    "    return True\n",
    "\n",
    "def get_transfer_df(transfers: List):\n",
    "    if transfers:\n",
    "        transfer_df = pd.concat(transfers, axis=1).T\n",
    "    else:\n",
    "        transfer_df = pd.DataFrame(\n",
    "            columns=[\"token\", \"amount\", \"from\", \"to\"]\n",
    "        )\n",
    "    return transfer_df"
   ]
  },
  {
   "cell_type": "markdown",
   "id": "f8b64be3",
   "metadata": {},
   "source": [
    "## Example 1"
   ]
  },
  {
   "cell_type": "code",
   "execution_count": 9,
   "id": "a61277b4",
   "metadata": {
    "ExecuteTime": {
     "end_time": "2023-03-21T19:48:07.763262Z",
     "start_time": "2023-03-21T19:48:07.653592Z"
    }
   },
   "outputs": [
    {
     "name": "stdout",
     "output_type": "stream",
     "text": [
      "DEBUG Order not eligible for matching due to limit\n",
      "DEBUG Order not eligible for matching due to limit\n",
      "DEBUG Order not eligible for matching due to limit\n",
      "DEBUG buy_heap=[base_token=ETH quote_token=BTC action=buy quantity=10 limit_price=0.15 timestamp=2023-03-21 19:48:07.243247+00:00 deposit_address=3, base_token=ETH quote_token=BTC action=buy quantity=9 limit_price=0.15 timestamp=2023-03-21 19:48:07.242983+00:00 deposit_address=2]\n",
      "DEBUG sell_heap=[base_token=ETH quote_token=BTC action=sell quantity=11 limit_price=0.1 timestamp=2023-03-21 19:48:07.353962+00:00 deposit_address=-1]\n"
     ]
    }
   ],
   "source": [
    "clearing_price = 0.14\n",
    "transfers_df = match_orders(buy_orders + sell_orders, clearing_price)"
   ]
  },
  {
   "cell_type": "code",
   "execution_count": 10,
   "id": "a986b519",
   "metadata": {
    "ExecuteTime": {
     "end_time": "2023-03-21T19:48:07.876813Z",
     "start_time": "2023-03-21T19:48:07.770745Z"
    }
   },
   "outputs": [
    {
     "data": {
      "text/html": [
       "<div>\n",
       "<style scoped>\n",
       "    .dataframe tbody tr th:only-of-type {\n",
       "        vertical-align: middle;\n",
       "    }\n",
       "\n",
       "    .dataframe tbody tr th {\n",
       "        vertical-align: top;\n",
       "    }\n",
       "\n",
       "    .dataframe thead th {\n",
       "        text-align: right;\n",
       "    }\n",
       "</style>\n",
       "<table border=\"1\" class=\"dataframe\">\n",
       "  <thead>\n",
       "    <tr style=\"text-align: right;\">\n",
       "      <th></th>\n",
       "      <th>token</th>\n",
       "      <th>amount</th>\n",
       "      <th>from</th>\n",
       "      <th>to</th>\n",
       "    </tr>\n",
       "  </thead>\n",
       "  <tbody>\n",
       "    <tr>\n",
       "      <th>0</th>\n",
       "      <td>ETH</td>\n",
       "      <td>9</td>\n",
       "      <td>-1</td>\n",
       "      <td>2</td>\n",
       "    </tr>\n",
       "    <tr>\n",
       "      <th>2</th>\n",
       "      <td>ETH</td>\n",
       "      <td>2</td>\n",
       "      <td>-1</td>\n",
       "      <td>3</td>\n",
       "    </tr>\n",
       "  </tbody>\n",
       "</table>\n",
       "</div>"
      ],
      "text/plain": [
       "  token amount from to\n",
       "0   ETH      9   -1  2\n",
       "2   ETH      2   -1  3"
      ]
     },
     "metadata": {},
     "output_type": "display_data"
    }
   ],
   "source": [
    "eth_transfers = transfers_df[transfers_df[\"token\"] == \"ETH\"]\n",
    "display(eth_transfers)"
   ]
  },
  {
   "cell_type": "code",
   "execution_count": 11,
   "id": "b50eaa1f",
   "metadata": {
    "ExecuteTime": {
     "end_time": "2023-03-21T19:48:07.963510Z",
     "start_time": "2023-03-21T19:48:07.884660Z"
    }
   },
   "outputs": [
    {
     "data": {
      "text/plain": [
       "11"
      ]
     },
     "execution_count": 11,
     "metadata": {},
     "output_type": "execute_result"
    }
   ],
   "source": [
    "# Transferred ETH (in ETH).\n",
    "eth_transfers[\"amount\"].sum()"
   ]
  },
  {
   "cell_type": "code",
   "execution_count": 12,
   "id": "b6455620",
   "metadata": {
    "ExecuteTime": {
     "end_time": "2023-03-21T19:48:08.060586Z",
     "start_time": "2023-03-21T19:48:07.972224Z"
    }
   },
   "outputs": [
    {
     "data": {
      "text/html": [
       "<div>\n",
       "<style scoped>\n",
       "    .dataframe tbody tr th:only-of-type {\n",
       "        vertical-align: middle;\n",
       "    }\n",
       "\n",
       "    .dataframe tbody tr th {\n",
       "        vertical-align: top;\n",
       "    }\n",
       "\n",
       "    .dataframe thead th {\n",
       "        text-align: right;\n",
       "    }\n",
       "</style>\n",
       "<table border=\"1\" class=\"dataframe\">\n",
       "  <thead>\n",
       "    <tr style=\"text-align: right;\">\n",
       "      <th></th>\n",
       "      <th>token</th>\n",
       "      <th>amount</th>\n",
       "      <th>from</th>\n",
       "      <th>to</th>\n",
       "    </tr>\n",
       "  </thead>\n",
       "  <tbody>\n",
       "    <tr>\n",
       "      <th>1</th>\n",
       "      <td>BTC</td>\n",
       "      <td>1.26</td>\n",
       "      <td>2</td>\n",
       "      <td>-1</td>\n",
       "    </tr>\n",
       "    <tr>\n",
       "      <th>3</th>\n",
       "      <td>BTC</td>\n",
       "      <td>0.28</td>\n",
       "      <td>3</td>\n",
       "      <td>-1</td>\n",
       "    </tr>\n",
       "  </tbody>\n",
       "</table>\n",
       "</div>"
      ],
      "text/plain": [
       "  token amount from  to\n",
       "1   BTC   1.26    2  -1\n",
       "3   BTC   0.28    3  -1"
      ]
     },
     "metadata": {},
     "output_type": "display_data"
    }
   ],
   "source": [
    "btc_transfers = transfers_df[transfers_df[\"token\"] == \"BTC\"]\n",
    "display(btc_transfers)"
   ]
  },
  {
   "cell_type": "code",
   "execution_count": 13,
   "id": "fdb38e68",
   "metadata": {
    "ExecuteTime": {
     "end_time": "2023-03-21T19:48:08.150728Z",
     "start_time": "2023-03-21T19:48:08.075021Z"
    }
   },
   "outputs": [
    {
     "data": {
      "text/plain": [
       "1.5400000000000003"
      ]
     },
     "execution_count": 13,
     "metadata": {},
     "output_type": "execute_result"
    }
   ],
   "source": [
    "# Transferred BTC (in BTC).\n",
    "btc_transfers[\"amount\"].sum()"
   ]
  },
  {
   "cell_type": "code",
   "execution_count": 14,
   "id": "310a62b0",
   "metadata": {
    "ExecuteTime": {
     "end_time": "2023-03-21T19:48:08.235384Z",
     "start_time": "2023-03-21T19:48:08.157793Z"
    }
   },
   "outputs": [
    {
     "data": {
      "text/plain": [
       "11.0"
      ]
     },
     "execution_count": 14,
     "metadata": {},
     "output_type": "execute_result"
    }
   ],
   "source": [
    "# BTC transferred divided by the ETH/BTC price (quoted in BTC per ETH)\n",
    "# returns amount of transferred ETH.\n",
    "btc_transfers[\"amount\"].sum() / clearing_price"
   ]
  },
  {
   "cell_type": "markdown",
   "id": "62e2e870",
   "metadata": {
    "ExecuteTime": {
     "end_time": "2023-03-21T18:02:33.754532Z",
     "start_time": "2023-03-21T18:02:33.670082Z"
    }
   },
   "source": [
    "## Example 2"
   ]
  },
  {
   "cell_type": "code",
   "execution_count": 15,
   "id": "a9d4775c",
   "metadata": {
    "ExecuteTime": {
     "end_time": "2023-03-21T19:48:08.319540Z",
     "start_time": "2023-03-21T19:48:08.242593Z"
    }
   },
   "outputs": [],
   "source": [
    "orders = []\n",
    "for idx in range(0, 10):\n",
    "    order = get_random_order(idx)\n",
    "    orders.append(order)"
   ]
  },
  {
   "cell_type": "code",
   "execution_count": 16,
   "id": "ac2e0fa2",
   "metadata": {
    "ExecuteTime": {
     "end_time": "2023-03-21T19:48:08.405548Z",
     "start_time": "2023-03-21T19:48:08.327257Z"
    }
   },
   "outputs": [
    {
     "data": {
      "text/plain": [
       "[base_token=ETH quote_token=BTC action=sell quantity=6 limit_price=-inf timestamp=2023-03-21 19:48:08.314433+00:00 deposit_address=-3,\n",
       " base_token=ETH quote_token=BTC action=buy quantity=9 limit_price=inf timestamp=2023-03-21 19:48:08.314702+00:00 deposit_address=2,\n",
       " base_token=ETH quote_token=BTC action=buy quantity=9 limit_price=inf timestamp=2023-03-21 19:48:08.314846+00:00 deposit_address=0,\n",
       " base_token=ETH quote_token=BTC action=sell quantity=4 limit_price=-inf timestamp=2023-03-21 19:48:08.314971+00:00 deposit_address=-3,\n",
       " base_token=ETH quote_token=BTC action=sell quantity=8 limit_price=-inf timestamp=2023-03-21 19:48:08.315092+00:00 deposit_address=-2,\n",
       " base_token=ETH quote_token=BTC action=buy quantity=7 limit_price=inf timestamp=2023-03-21 19:48:08.315212+00:00 deposit_address=3,\n",
       " base_token=ETH quote_token=BTC action=sell quantity=4 limit_price=-inf timestamp=2023-03-21 19:48:08.315348+00:00 deposit_address=-1,\n",
       " base_token=ETH quote_token=BTC action=buy quantity=7 limit_price=inf timestamp=2023-03-21 19:48:08.315472+00:00 deposit_address=0,\n",
       " base_token=ETH quote_token=BTC action=sell quantity=2 limit_price=-inf timestamp=2023-03-21 19:48:08.315587+00:00 deposit_address=-2,\n",
       " base_token=ETH quote_token=BTC action=buy quantity=6 limit_price=inf timestamp=2023-03-21 19:48:08.315701+00:00 deposit_address=3]"
      ]
     },
     "execution_count": 16,
     "metadata": {},
     "output_type": "execute_result"
    }
   ],
   "source": [
    "orders"
   ]
  },
  {
   "cell_type": "code",
   "execution_count": 17,
   "id": "621e9cae",
   "metadata": {
    "ExecuteTime": {
     "end_time": "2023-03-21T19:48:08.536639Z",
     "start_time": "2023-03-21T19:48:08.413175Z"
    }
   },
   "outputs": [
    {
     "name": "stdout",
     "output_type": "stream",
     "text": [
      "DEBUG buy_heap=[base_token=ETH quote_token=BTC action=buy quantity=6 limit_price=inf timestamp=2023-03-21 19:48:08.315701+00:00 deposit_address=3, base_token=ETH quote_token=BTC action=buy quantity=7 limit_price=inf timestamp=2023-03-21 19:48:08.315472+00:00 deposit_address=0, base_token=ETH quote_token=BTC action=buy quantity=9 limit_price=inf timestamp=2023-03-21 19:48:08.314846+00:00 deposit_address=0, base_token=ETH quote_token=BTC action=buy quantity=9 limit_price=inf timestamp=2023-03-21 19:48:08.314702+00:00 deposit_address=2, base_token=ETH quote_token=BTC action=buy quantity=7 limit_price=inf timestamp=2023-03-21 19:48:08.315212+00:00 deposit_address=3]\n",
      "DEBUG sell_heap=[base_token=ETH quote_token=BTC action=sell quantity=2 limit_price=-inf timestamp=2023-03-21 19:48:08.315587+00:00 deposit_address=-2, base_token=ETH quote_token=BTC action=sell quantity=4 limit_price=-inf timestamp=2023-03-21 19:48:08.315348+00:00 deposit_address=-1, base_token=ETH quote_token=BTC action=sell quantity=4 limit_price=-inf timestamp=2023-03-21 19:48:08.314971+00:00 deposit_address=-3, base_token=ETH quote_token=BTC action=sell quantity=6 limit_price=-inf timestamp=2023-03-21 19:48:08.314433+00:00 deposit_address=-3, base_token=ETH quote_token=BTC action=sell quantity=8 limit_price=-inf timestamp=2023-03-21 19:48:08.315092+00:00 deposit_address=-2]\n"
     ]
    },
    {
     "data": {
      "text/html": [
       "<div>\n",
       "<style scoped>\n",
       "    .dataframe tbody tr th:only-of-type {\n",
       "        vertical-align: middle;\n",
       "    }\n",
       "\n",
       "    .dataframe tbody tr th {\n",
       "        vertical-align: top;\n",
       "    }\n",
       "\n",
       "    .dataframe thead th {\n",
       "        text-align: right;\n",
       "    }\n",
       "</style>\n",
       "<table border=\"1\" class=\"dataframe\">\n",
       "  <thead>\n",
       "    <tr style=\"text-align: right;\">\n",
       "      <th></th>\n",
       "      <th>token</th>\n",
       "      <th>amount</th>\n",
       "      <th>from</th>\n",
       "      <th>to</th>\n",
       "    </tr>\n",
       "  </thead>\n",
       "  <tbody>\n",
       "    <tr>\n",
       "      <th>0</th>\n",
       "      <td>ETH</td>\n",
       "      <td>7</td>\n",
       "      <td>-2</td>\n",
       "      <td>3</td>\n",
       "    </tr>\n",
       "    <tr>\n",
       "      <th>1</th>\n",
       "      <td>BTC</td>\n",
       "      <td>0.7</td>\n",
       "      <td>3</td>\n",
       "      <td>-2</td>\n",
       "    </tr>\n",
       "    <tr>\n",
       "      <th>2</th>\n",
       "      <td>ETH</td>\n",
       "      <td>1</td>\n",
       "      <td>-2</td>\n",
       "      <td>2</td>\n",
       "    </tr>\n",
       "    <tr>\n",
       "      <th>3</th>\n",
       "      <td>BTC</td>\n",
       "      <td>0.1</td>\n",
       "      <td>2</td>\n",
       "      <td>-2</td>\n",
       "    </tr>\n",
       "    <tr>\n",
       "      <th>4</th>\n",
       "      <td>ETH</td>\n",
       "      <td>6</td>\n",
       "      <td>-3</td>\n",
       "      <td>2</td>\n",
       "    </tr>\n",
       "    <tr>\n",
       "      <th>5</th>\n",
       "      <td>BTC</td>\n",
       "      <td>0.6</td>\n",
       "      <td>2</td>\n",
       "      <td>-3</td>\n",
       "    </tr>\n",
       "    <tr>\n",
       "      <th>6</th>\n",
       "      <td>ETH</td>\n",
       "      <td>2</td>\n",
       "      <td>-3</td>\n",
       "      <td>2</td>\n",
       "    </tr>\n",
       "    <tr>\n",
       "      <th>7</th>\n",
       "      <td>BTC</td>\n",
       "      <td>0.2</td>\n",
       "      <td>2</td>\n",
       "      <td>-3</td>\n",
       "    </tr>\n",
       "    <tr>\n",
       "      <th>8</th>\n",
       "      <td>ETH</td>\n",
       "      <td>2</td>\n",
       "      <td>-3</td>\n",
       "      <td>0</td>\n",
       "    </tr>\n",
       "    <tr>\n",
       "      <th>9</th>\n",
       "      <td>BTC</td>\n",
       "      <td>0.2</td>\n",
       "      <td>0</td>\n",
       "      <td>-3</td>\n",
       "    </tr>\n",
       "    <tr>\n",
       "      <th>10</th>\n",
       "      <td>ETH</td>\n",
       "      <td>4</td>\n",
       "      <td>-1</td>\n",
       "      <td>0</td>\n",
       "    </tr>\n",
       "    <tr>\n",
       "      <th>11</th>\n",
       "      <td>BTC</td>\n",
       "      <td>0.4</td>\n",
       "      <td>0</td>\n",
       "      <td>-1</td>\n",
       "    </tr>\n",
       "    <tr>\n",
       "      <th>12</th>\n",
       "      <td>ETH</td>\n",
       "      <td>2</td>\n",
       "      <td>-2</td>\n",
       "      <td>0</td>\n",
       "    </tr>\n",
       "    <tr>\n",
       "      <th>13</th>\n",
       "      <td>BTC</td>\n",
       "      <td>0.2</td>\n",
       "      <td>0</td>\n",
       "      <td>-2</td>\n",
       "    </tr>\n",
       "  </tbody>\n",
       "</table>\n",
       "</div>"
      ],
      "text/plain": [
       "   token amount from  to\n",
       "0    ETH      7   -2   3\n",
       "1    BTC    0.7    3  -2\n",
       "2    ETH      1   -2   2\n",
       "3    BTC    0.1    2  -2\n",
       "4    ETH      6   -3   2\n",
       "5    BTC    0.6    2  -3\n",
       "6    ETH      2   -3   2\n",
       "7    BTC    0.2    2  -3\n",
       "8    ETH      2   -3   0\n",
       "9    BTC    0.2    0  -3\n",
       "10   ETH      4   -1   0\n",
       "11   BTC    0.4    0  -1\n",
       "12   ETH      2   -2   0\n",
       "13   BTC    0.2    0  -2"
      ]
     },
     "metadata": {},
     "output_type": "display_data"
    }
   ],
   "source": [
    "transfers_df_2 = match_orders(orders, 0.1)\n",
    "display(transfers_df_2)"
   ]
  },
  {
   "cell_type": "code",
   "execution_count": null,
   "id": "ecc2ea0b",
   "metadata": {},
   "outputs": [],
   "source": []
  }
 ],
 "metadata": {
  "kernelspec": {
   "display_name": "Python 3 (ipykernel)",
   "language": "python",
   "name": "python3"
  },
  "language_info": {
   "codemirror_mode": {
    "name": "ipython",
    "version": 3
   },
   "file_extension": ".py",
   "mimetype": "text/x-python",
   "name": "python",
   "nbconvert_exporter": "python",
   "pygments_lexer": "ipython3",
   "version": "3.8.10"
  },
  "toc": {
   "base_numbering": 1,
   "nav_menu": {},
   "number_sections": true,
   "sideBar": true,
   "skip_h1_title": false,
   "title_cell": "Table of Contents",
   "title_sidebar": "Contents",
   "toc_cell": false,
   "toc_position": {},
   "toc_section_display": true,
   "toc_window_display": false
  }
 },
 "nbformat": 4,
 "nbformat_minor": 5
}
