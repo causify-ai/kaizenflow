{
 "cells": [
  {
   "cell_type": "code",
   "execution_count": null,
   "id": "23166037",
   "metadata": {},
   "outputs": [],
   "source": [
    "%load_ext autoreload\n",
    "%autoreload 2\n",
    "\n",
    "import logging\n",
    "\n",
    "import matplotlib as mpl\n",
    "import matplotlib.pyplot as plt\n",
    "import pandas as pd\n",
    "\n",
    "import defi.dao_cross.order as ddacrord\n",
    "import defi.dao_cross.supply_demand as ddcrsede\n",
    "import helpers.hdbg as hdbg\n",
    "import helpers.henv as henv\n",
    "import helpers.hprint as hprint\n",
    "import defi.tulip.implementation.order as dtuimor\n",
    "import defi.tulip.implementation.supply_demand as dtuimsd"
   ]
  },
  {
   "cell_type": "code",
   "execution_count": null,
   "id": "8f46924a",
   "metadata": {},
   "outputs": [],
   "source": [
    "try:\n",
    "    import pulp\n",
    "except ImportError:\n",
    "    !sudo /bin/bash -c \"(source /venv/bin/activate; pip install pulp)\"\n",
    "    import pulp\n",
    "import defi.tulip.implementation.optimize as dtuimopt"
   ]
  },
  {
   "cell_type": "code",
   "execution_count": null,
   "id": "fb174ddc",
   "metadata": {},
   "outputs": [],
   "source": [
    "hdbg.init_logger(verbosity=logging.DEBUG)\n",
    "\n",
    "_LOG = logging.getLogger(__name__)\n",
    "\n",
    "_LOG.info(\"%s\", henv.get_system_signature()[0])\n",
    "\n",
    "hprint.config_notebook()"
   ]
  },
  {
   "cell_type": "markdown",
   "id": "d4a0f3c7",
   "metadata": {},
   "source": [
    "# Pathological cases"
   ]
  },
  {
   "cell_type": "markdown",
   "id": "497856c3",
   "metadata": {},
   "source": [
    "## Get orders and set prices."
   ]
  },
  {
   "cell_type": "code",
   "execution_count": null,
   "id": "48fb0cb7",
   "metadata": {},
   "outputs": [],
   "source": [
    "base_token = \"BTC\"\n",
    "quote_token = \"ETH\""
   ]
  },
  {
   "cell_type": "code",
   "execution_count": null,
   "id": "54a4a450",
   "metadata": {},
   "outputs": [],
   "source": [
    "quantities = [0.0, 1.0, 1.0, 2.0, 2.0, 3.0, 3.0, 4.0, 4.0]\n",
    "limit_prices = [1.5, 1.5, 2.0, 2.0, 3.0, 3.0, 3.5, 3.5, 4.375]\n",
    "type_ = \"supply\"\n",
    "curve_name = \".\".join([base_token, type_])\n",
    "#\n",
    "discrete_supply_curve = pd.Series(\n",
    "    index=quantities,\n",
    "    data=limit_prices,\n",
    "    name=curve_name,\n",
    ")\n",
    "discrete_supply_curve.index.name = quote_token\n",
    "discrete_supply_curve"
   ]
  },
  {
   "cell_type": "code",
   "execution_count": null,
   "id": "1e81fcca",
   "metadata": {},
   "outputs": [],
   "source": [
    "supply_orders1 = dtuimsd.convert_discrete_curve_to_limit_orders(discrete_supply_curve)\n",
    "supply_orders_df1 = dtuimor.convert_orders_to_dataframe(supply_orders1)\n",
    "supply_orders_df1"
   ]
  },
  {
   "cell_type": "code",
   "execution_count": null,
   "id": "ab9465bd",
   "metadata": {},
   "outputs": [],
   "source": [
    "quantities = [0.0, 1.0, 1.0, 2.0, 2.0, 3.0, 3.0, 4.0, 4.0]\n",
    "limit_prices = [3.5, 3.5, 2.5, 2.5, 2.0, 2.0, 1.5, 1.5, 0.0]\n",
    "type_ = \"demand\"\n",
    "curve_name = \".\".join([base_token, type_])\n",
    "#\n",
    "discrete_demand_curve = pd.Series(\n",
    "    index=quantities,\n",
    "    data=limit_prices,\n",
    "    name=curve_name,\n",
    ")\n",
    "discrete_demand_curve.index.name = quote_token\n",
    "discrete_demand_curve"
   ]
  },
  {
   "cell_type": "code",
   "execution_count": null,
   "id": "ea90b71d",
   "metadata": {},
   "outputs": [],
   "source": [
    "demand_orders1 = dtuimsd.convert_discrete_curve_to_limit_orders(discrete_demand_curve)\n",
    "demand_orders_df1 = dtuimor.convert_orders_to_dataframe(demand_orders1)\n",
    "demand_orders_df1"
   ]
  },
  {
   "cell_type": "code",
   "execution_count": null,
   "id": "322bd390",
   "metadata": {},
   "outputs": [],
   "source": [
    "prices = {\"BTC\": 1, \"ETH\": 2}"
   ]
  },
  {
   "cell_type": "markdown",
   "id": "6da6a438",
   "metadata": {},
   "source": [
    "## Multiple intersection points at quantity Q'"
   ]
  },
  {
   "cell_type": "code",
   "execution_count": null,
   "id": "255e332a",
   "metadata": {},
   "outputs": [],
   "source": [
    "type_ = \"supply\"\n",
    "supply_curve1 = dtuimsd.get_supply_demand_discrete_curve(type_, supply_orders_df1)\n",
    "supply_curve1"
   ]
  },
  {
   "cell_type": "code",
   "execution_count": null,
   "id": "dbc9f5d9",
   "metadata": {},
   "outputs": [],
   "source": [
    "supply_orders_ = dtuimsd.convert_discrete_curve_to_limit_orders(supply_curve1)"
   ]
  },
  {
   "cell_type": "code",
   "execution_count": null,
   "id": "7185e75e",
   "metadata": {
    "run_control": {
     "marked": false
    }
   },
   "outputs": [],
   "source": [
    "type_ = \"demand\"\n",
    "demand_curve1 = dtuimsd.get_supply_demand_discrete_curve(type_, demand_orders_df1)\n",
    "demand_curve1"
   ]
  },
  {
   "cell_type": "code",
   "execution_count": null,
   "id": "942a3441",
   "metadata": {},
   "outputs": [],
   "source": [
    "plt.plot(supply_curve1)\n",
    "plt.plot(demand_curve1)\n",
    "plt.show()"
   ]
  },
  {
   "cell_type": "code",
   "execution_count": null,
   "id": "af598734",
   "metadata": {
    "run_control": {
     "marked": false
    }
   },
   "outputs": [],
   "source": [
    "all_orders1 = supply_orders1 + demand_orders1\n",
    "daocross_results1 = dtuimopt.run_daocross_solver(all_orders1, prices)\n",
    "display(daocross_results1)"
   ]
  },
  {
   "cell_type": "code",
   "execution_count": null,
   "id": "aaa485bd",
   "metadata": {},
   "outputs": [],
   "source": [
    "daoswap_results1 = dtuimopt.run_daoswap_solver(all_orders1)\n",
    "display(daoswap_results1)"
   ]
  },
  {
   "cell_type": "markdown",
   "id": "92f520cc",
   "metadata": {},
   "source": [
    "## Multiple intersection points at price P'"
   ]
  },
  {
   "cell_type": "code",
   "execution_count": null,
   "id": "e1120fc1",
   "metadata": {},
   "outputs": [],
   "source": [
    "quantity_const = 1.0\n",
    "supply_orders2 = dtuimsd.convert_discrete_curve_to_limit_orders(\n",
    "    discrete_supply_curve,\n",
    "    quantity_const=quantity_const,\n",
    ")\n",
    "supply_orders_df2 = dtuimor.convert_orders_to_dataframe(supply_orders2)\n",
    "supply_orders_df2"
   ]
  },
  {
   "cell_type": "code",
   "execution_count": null,
   "id": "82dccd9b",
   "metadata": {},
   "outputs": [],
   "source": [
    "type_ = \"supply\"\n",
    "supply_curve2 = dtuimsd.get_supply_demand_discrete_curve(type_, supply_orders_df2)\n",
    "supply_curve2"
   ]
  },
  {
   "cell_type": "code",
   "execution_count": null,
   "id": "ebe22a27",
   "metadata": {},
   "outputs": [],
   "source": [
    "plt.plot(supply_curve2)\n",
    "plt.plot(demand_curve1)\n",
    "plt.show()"
   ]
  },
  {
   "cell_type": "code",
   "execution_count": null,
   "id": "b479a2ef",
   "metadata": {},
   "outputs": [],
   "source": [
    "all_orders2 = supply_orders2 + demand_orders1\n",
    "daocross_results2 = dtuimopt.run_daocross_solver(all_orders2, prices)\n",
    "display(daocross_results2)"
   ]
  },
  {
   "cell_type": "code",
   "execution_count": null,
   "id": "c1b4ab0a",
   "metadata": {},
   "outputs": [],
   "source": [
    "daoswap_results2 = dtuimopt.run_daoswap_solver(all_orders2)\n",
    "display(daoswap_results2)"
   ]
  },
  {
   "cell_type": "markdown",
   "id": "e641519c",
   "metadata": {},
   "source": [
    "## No intersection"
   ]
  },
  {
   "cell_type": "code",
   "execution_count": null,
   "id": "c018c494",
   "metadata": {},
   "outputs": [],
   "source": [
    "limit_price_const = 3.0\n",
    "supply_orders3 = dtuimsd.convert_discrete_curve_to_limit_orders(\n",
    "    discrete_supply_curve,\n",
    "    limit_price_const=limit_price_const,\n",
    ")\n",
    "supply_orders_df3 = dtuimor.convert_orders_to_dataframe(supply_orders3)\n",
    "supply_orders_df3"
   ]
  },
  {
   "cell_type": "code",
   "execution_count": null,
   "id": "d894019b",
   "metadata": {},
   "outputs": [],
   "source": [
    "type_ = \"supply\"\n",
    "supply_curve3 = dtuimsd.get_supply_demand_discrete_curve(type_, supply_orders_df3)\n",
    "supply_curve3"
   ]
  },
  {
   "cell_type": "code",
   "execution_count": null,
   "id": "423c77ef",
   "metadata": {},
   "outputs": [],
   "source": [
    "plt.plot(supply_curve3)\n",
    "plt.plot(demand_curve1)\n",
    "plt.show()"
   ]
  },
  {
   "cell_type": "code",
   "execution_count": null,
   "id": "2136eea0",
   "metadata": {},
   "outputs": [],
   "source": [
    "all_orders3 = supply_orders3 + demand_orders1\n",
    "daocross_results3 = dtuimopt.run_daocross_solver(all_orders3, prices)\n",
    "display(daocross_results3)"
   ]
  },
  {
   "cell_type": "code",
   "execution_count": null,
   "id": "7d3303fc",
   "metadata": {},
   "outputs": [],
   "source": [
    "daoswap_results3 = dtuimopt.run_daoswap_solver(all_orders3)\n",
    "display(daoswap_results3)"
   ]
  },
  {
   "cell_type": "code",
   "execution_count": null,
   "id": "09d14cae",
   "metadata": {},
   "outputs": [],
   "source": []
  }
 ],
 "metadata": {
  "kernelspec": {
   "display_name": "Python 3 (ipykernel)",
   "language": "python",
   "name": "python3"
  }
 },
 "nbformat": 4,
 "nbformat_minor": 5
}
