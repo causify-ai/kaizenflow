{
 "cells": [
  {
   "cell_type": "code",
   "execution_count": null,
   "id": "9d67ffc3",
   "metadata": {},
   "outputs": [],
   "source": [
    "%load_ext autoreload\n",
    "%autoreload 2\n",
    "\n",
    "import logging\n",
    "\n",
    "import matplotlib.pyplot as plt\n",
    "import pandas as pd\n",
    "\n",
    "import defi.tulip.implementation.order as dtuimord\n",
    "import defi.tulip.implementation.supply_demand as dtimsude\n",
    "import helpers.hdbg as hdbg\n",
    "import helpers.henv as henv\n",
    "import helpers.hprint as hprint"
   ]
  },
  {
   "cell_type": "code",
   "execution_count": null,
   "id": "006f03cf",
   "metadata": {},
   "outputs": [],
   "source": [
    "try:\n",
    "    pass\n",
    "except ImportError:\n",
    "    !sudo /bin/bash -c \"(source /venv/bin/activate; pip install pulp)\"\n",
    "    pass\n",
    "import defi.tulip.implementation.optimize as dtuimopt"
   ]
  },
  {
   "cell_type": "code",
   "execution_count": null,
   "id": "5a9332f4",
   "metadata": {},
   "outputs": [],
   "source": [
    "hdbg.init_logger(verbosity=logging.DEBUG)\n",
    "\n",
    "_LOG = logging.getLogger(__name__)\n",
    "\n",
    "_LOG.info(\"%s\", henv.get_system_signature()[0])\n",
    "\n",
    "hprint.config_notebook()"
   ]
  },
  {
   "cell_type": "markdown",
   "id": "c0020c03",
   "metadata": {},
   "source": [
    "# Pathological cases"
   ]
  },
  {
   "cell_type": "markdown",
   "id": "13bd9eb6",
   "metadata": {},
   "source": [
    "## Get orders and set prices."
   ]
  },
  {
   "cell_type": "code",
   "execution_count": null,
   "id": "3a9cdec9",
   "metadata": {},
   "outputs": [],
   "source": [
    "base_token = \"BTC\"\n",
    "quote_token = \"ETH\""
   ]
  },
  {
   "cell_type": "code",
   "execution_count": null,
   "id": "692c56fc",
   "metadata": {},
   "outputs": [],
   "source": [
    "quantities = [0.0, 1.0, 1.0, 2.0, 2.0, 3.0, 3.0, 4.0, 4.0]\n",
    "limit_prices = [1.5, 1.5, 2.0, 2.0, 3.0, 3.0, 3.5, 3.5, 4.375]\n",
    "type_ = \"supply\"\n",
    "curve_name = \".\".join([base_token, type_])\n",
    "#\n",
    "discrete_supply_curve = pd.Series(\n",
    "    index=quantities,\n",
    "    data=limit_prices,\n",
    "    name=curve_name,\n",
    ")\n",
    "discrete_supply_curve.index.name = quote_token\n",
    "discrete_supply_curve"
   ]
  },
  {
   "cell_type": "code",
   "execution_count": null,
   "id": "deee046d",
   "metadata": {},
   "outputs": [],
   "source": [
    "supply_orders1 = dtimsude.convert_discrete_curve_to_limit_orders(\n",
    "    discrete_supply_curve\n",
    ")\n",
    "supply_orders_df1 = dtuimord.convert_orders_to_dataframe(supply_orders1)\n",
    "supply_orders_df1"
   ]
  },
  {
   "cell_type": "code",
   "execution_count": null,
   "id": "21efb15b",
   "metadata": {},
   "outputs": [],
   "source": [
    "quantities = [0.0, 1.0, 1.0, 2.0, 2.0, 3.0, 3.0, 4.0, 4.0]\n",
    "limit_prices = [3.5, 3.5, 2.5, 2.5, 2.0, 2.0, 1.5, 1.5, 0.0]\n",
    "type_ = \"demand\"\n",
    "curve_name = \".\".join([base_token, type_])\n",
    "#\n",
    "discrete_demand_curve = pd.Series(\n",
    "    index=quantities,\n",
    "    data=limit_prices,\n",
    "    name=curve_name,\n",
    ")\n",
    "discrete_demand_curve.index.name = quote_token\n",
    "discrete_demand_curve"
   ]
  },
  {
   "cell_type": "code",
   "execution_count": null,
   "id": "fa0ea2c9",
   "metadata": {},
   "outputs": [],
   "source": [
    "demand_orders1 = dtimsude.convert_discrete_curve_to_limit_orders(\n",
    "    discrete_demand_curve\n",
    ")\n",
    "demand_orders_df1 = dtuimord.convert_orders_to_dataframe(demand_orders1)\n",
    "demand_orders_df1"
   ]
  },
  {
   "cell_type": "code",
   "execution_count": null,
   "id": "133b1137",
   "metadata": {},
   "outputs": [],
   "source": [
    "prices = {\"BTC\": 1, \"ETH\": 2}"
   ]
  },
  {
   "cell_type": "markdown",
   "id": "fee327c6",
   "metadata": {},
   "source": [
    "## Multiple intersection points at quantity Q'"
   ]
  },
  {
   "cell_type": "code",
   "execution_count": null,
   "id": "e2849b1a",
   "metadata": {},
   "outputs": [],
   "source": [
    "type_ = \"supply\"\n",
    "supply_curve1 = dtimsude.get_supply_demand_discrete_curve(\n",
    "    type_, supply_orders_df1\n",
    ")\n",
    "supply_curve1"
   ]
  },
  {
   "cell_type": "code",
   "execution_count": null,
   "id": "08b78712",
   "metadata": {},
   "outputs": [],
   "source": [
    "supply_orders_ = dtimsude.convert_discrete_curve_to_limit_orders(supply_curve1)"
   ]
  },
  {
   "cell_type": "code",
   "execution_count": null,
   "id": "ef67267f",
   "metadata": {
    "run_control": {
     "marked": false
    }
   },
   "outputs": [],
   "source": [
    "type_ = \"demand\"\n",
    "demand_curve1 = dtimsude.get_supply_demand_discrete_curve(\n",
    "    type_, demand_orders_df1\n",
    ")\n",
    "demand_curve1"
   ]
  },
  {
   "cell_type": "code",
   "execution_count": null,
   "id": "60799060",
   "metadata": {},
   "outputs": [],
   "source": [
    "plt.plot(supply_curve1)\n",
    "plt.plot(demand_curve1)\n",
    "plt.show()"
   ]
  },
  {
   "cell_type": "code",
   "execution_count": null,
   "id": "fdd93b91",
   "metadata": {
    "run_control": {
     "marked": false
    }
   },
   "outputs": [],
   "source": [
    "all_orders1 = supply_orders1 + demand_orders1\n",
    "daocross_results1 = dtuimopt.run_daocross_solver(all_orders1, prices)\n",
    "display(daocross_results1)"
   ]
  },
  {
   "cell_type": "code",
   "execution_count": null,
   "id": "1bb8cbd6",
   "metadata": {},
   "outputs": [],
   "source": [
    "daoswap_results1 = dtuimopt.run_daoswap_solver(all_orders1)\n",
    "display(daoswap_results1)"
   ]
  },
  {
   "cell_type": "markdown",
   "id": "00204897",
   "metadata": {},
   "source": [
    "## Multiple intersection points at price P'"
   ]
  },
  {
   "cell_type": "code",
   "execution_count": null,
   "id": "f2450de6",
   "metadata": {},
   "outputs": [],
   "source": [
    "quantity_const = 1.0\n",
    "supply_orders2 = dtimsude.convert_discrete_curve_to_limit_orders(\n",
    "    discrete_supply_curve,\n",
    "    quantity_const=quantity_const,\n",
    ")\n",
    "supply_orders_df2 = dtuimord.convert_orders_to_dataframe(supply_orders2)\n",
    "supply_orders_df2"
   ]
  },
  {
   "cell_type": "code",
   "execution_count": null,
   "id": "891a683e",
   "metadata": {},
   "outputs": [],
   "source": [
    "type_ = \"supply\"\n",
    "supply_curve2 = dtimsude.get_supply_demand_discrete_curve(\n",
    "    type_, supply_orders_df2\n",
    ")\n",
    "supply_curve2"
   ]
  },
  {
   "cell_type": "code",
   "execution_count": null,
   "id": "84629f80",
   "metadata": {},
   "outputs": [],
   "source": [
    "plt.plot(supply_curve2)\n",
    "plt.plot(demand_curve1)\n",
    "plt.show()"
   ]
  },
  {
   "cell_type": "code",
   "execution_count": null,
   "id": "58092056",
   "metadata": {},
   "outputs": [],
   "source": [
    "all_orders2 = supply_orders2 + demand_orders1\n",
    "daocross_results2 = dtuimopt.run_daocross_solver(all_orders2, prices)\n",
    "display(daocross_results2)"
   ]
  },
  {
   "cell_type": "code",
   "execution_count": null,
   "id": "1cd314ab",
   "metadata": {},
   "outputs": [],
   "source": [
    "daoswap_results2 = dtuimopt.run_daoswap_solver(all_orders2)\n",
    "display(daoswap_results2)"
   ]
  },
  {
   "cell_type": "markdown",
   "id": "fbd590d1",
   "metadata": {},
   "source": [
    "## No intersection"
   ]
  },
  {
   "cell_type": "code",
   "execution_count": null,
   "id": "287b0106",
   "metadata": {},
   "outputs": [],
   "source": [
    "limit_price_const = 3.0\n",
    "supply_orders3 = dtimsude.convert_discrete_curve_to_limit_orders(\n",
    "    discrete_supply_curve,\n",
    "    limit_price_const=limit_price_const,\n",
    ")\n",
    "supply_orders_df3 = dtuimord.convert_orders_to_dataframe(supply_orders3)\n",
    "supply_orders_df3"
   ]
  },
  {
   "cell_type": "code",
   "execution_count": null,
   "id": "6e387ea2",
   "metadata": {},
   "outputs": [],
   "source": [
    "type_ = \"supply\"\n",
    "supply_curve3 = dtimsude.get_supply_demand_discrete_curve(\n",
    "    type_, supply_orders_df3\n",
    ")\n",
    "supply_curve3"
   ]
  },
  {
   "cell_type": "code",
   "execution_count": null,
   "id": "258f29e6",
   "metadata": {},
   "outputs": [],
   "source": [
    "plt.plot(supply_curve3)\n",
    "plt.plot(demand_curve1)\n",
    "plt.show()"
   ]
  },
  {
   "cell_type": "code",
   "execution_count": null,
   "id": "8707d5a6",
   "metadata": {},
   "outputs": [],
   "source": [
    "all_orders3 = supply_orders3 + demand_orders1\n",
    "daocross_results3 = dtuimopt.run_daocross_solver(all_orders3, prices)\n",
    "display(daocross_results3)"
   ]
  },
  {
   "cell_type": "code",
   "execution_count": null,
   "id": "fb05331d",
   "metadata": {},
   "outputs": [],
   "source": [
    "daoswap_results3 = dtuimopt.run_daoswap_solver(all_orders3)\n",
    "display(daoswap_results3)"
   ]
  },
  {
   "cell_type": "code",
   "execution_count": null,
   "id": "d1ec62e0",
   "metadata": {},
   "outputs": [],
   "source": []
  }
 ],
 "metadata": {
  "kernelspec": {
   "display_name": "Python 3 (ipykernel)",
   "language": "python",
   "name": "python3"
  }
 },
 "nbformat": 4,
 "nbformat_minor": 5
}
