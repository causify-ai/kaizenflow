{
 "cells": [
  {
   "cell_type": "code",
   "execution_count": 1,
   "id": "36db1d0e",
   "metadata": {
    "ExecuteTime": {
     "end_time": "2023-04-27T11:15:43.574004Z",
     "start_time": "2023-04-27T11:15:42.682400Z"
    }
   },
   "outputs": [],
   "source": [
    "%load_ext autoreload\n",
    "%autoreload 2\n",
    "\n",
    "import logging\n",
    "import pandas as pd\n",
    "import matplotlib as mpl\n",
    "import matplotlib.pyplot as plt\n",
    "\n",
    "import helpers.hdbg as hdbg\n",
    "import helpers.henv as henv\n",
    "import helpers.hprint as hprint\n",
    "import defi.dao_cross.supply_demand as ddcrsede\n",
    "import defi.dao_cross.order as ddacrord"
   ]
  },
  {
   "cell_type": "code",
   "execution_count": 2,
   "id": "e9c26205",
   "metadata": {
    "ExecuteTime": {
     "end_time": "2023-04-27T11:15:47.648328Z",
     "start_time": "2023-04-27T11:15:43.576984Z"
    }
   },
   "outputs": [
    {
     "name": "stdout",
     "output_type": "stream",
     "text": [
      "Collecting pulp\n",
      "  Downloading PuLP-2.7.0-py3-none-any.whl (14.3 MB)\n",
      "\u001b[K     |████████████████████████████████| 14.3 MB 11.3 MB/s eta 0:00:01\n",
      "\u001b[?25hInstalling collected packages: pulp\n",
      "Successfully installed pulp-2.7.0\n"
     ]
    }
   ],
   "source": [
    "try:\n",
    "    import pulp\n",
    "except ImportError:\n",
    "    !sudo /bin/bash -c \"(source /venv/bin/activate; pip install pulp)\"\n",
    "    import pulp\n",
    "import defi.dao_cross.optimize as ddacropt"
   ]
  },
  {
   "cell_type": "code",
   "execution_count": 3,
   "id": "0eb3cb72",
   "metadata": {
    "ExecuteTime": {
     "end_time": "2023-04-27T11:15:49.223918Z",
     "start_time": "2023-04-27T11:15:47.651043Z"
    },
    "scrolled": true
   },
   "outputs": [
    {
     "name": "stdout",
     "output_type": "stream",
     "text": [
      "\u001b[0m\u001b[36mINFO\u001b[0m: > cmd='/venv/lib/python3.8/site-packages/ipykernel_launcher.py -f /home/.local/share/jupyter/runtime/kernel-5319cf82-0d33-40b4-8d52-943cdfbe3d02.json'\n",
      "WARNING: Running in Jupyter\n",
      "DEBUG Effective logging level=10\n",
      "DEBUG Shut up 28 modules: matplotlib.colorbar, matplotlib.text, matplotlib.category, matplotlib.textpath, matplotlib.ticker, matplotlib._layoutgrid, matplotlib.axes, matplotlib, matplotlib.style.core, matplotlib.image, matplotlib.lines, matplotlib.texmanager, matplotlib.dviread, matplotlib.artist, matplotlib.mathtext, matplotlib.gridspec, matplotlib._afm, matplotlib.backend_bases, asyncio, matplotlib.axes._axes, matplotlib.axes._base, matplotlib.figure, matplotlib.font_manager, matplotlib._constrained_layout, matplotlib.dates, matplotlib.axis, matplotlib.pyplot, matplotlib.style\n",
      "DEBUG > (cd . && cd \"$(git rev-parse --show-toplevel)/..\" && (git rev-parse --is-inside-work-tree | grep -q true)) 2>&1\n",
      "DEBUG > (git rev-parse --show-toplevel) 2>&1\n",
      "\u001b[31m-----------------------------------------------------------------------------\n",
      "This code is not in sync with the container:\n",
      "code_version='1.4.1' != container_version='1.4.0'\n",
      "-----------------------------------------------------------------------------\n",
      "You need to:\n",
      "- merge origin/master into your branch with `invoke git_merge_master`\n",
      "- pull the latest container with `invoke docker_pull`\u001b[0m\n",
      "DEBUG > (git branch --show-current) 2>&1\n",
      "DEBUG > (git rev-parse --short HEAD) 2>&1\n",
      "DEBUG > (git log --date=local --oneline --graph --date-order --decorate --pretty=format:'%h %<(8)%aN%  %<(65)%s (%>(14)%ar) %ad %<(10)%d' -3) 2>&1\n",
      "INFO  # Git\n",
      "  branch_name='SorrTask154_Create_linear_supply_demand_curves_using_orders'\n",
      "  hash='c562cfe09'\n",
      "  # Last commits:\n",
      "    * c562cfe09 DanilYachmenev SorrTask168: Allow notebook publishing at sorrentum (#169)        (59 minutes ago) Thu Apr 27 10:17:04 2023  (HEAD -> SorrTask154_Create_linear_supply_demand_curves_using_orders, origin/master, origin/HEAD, master)\n",
      "    * 2a2c7e9bc Paul     Checkpoint (#176)                                                 (  17 hours ago) Wed Apr 26 18:37:49 2023  (origin/Issue29)\n",
      "    * f6c462825 DanilYachmenev Issue139: Create supply demand curves (#153)                      (  19 hours ago) Wed Apr 26 15:54:19 2023           \n",
      "# Machine info\n",
      "  system=Linux\n",
      "  node name=51da7c20198c\n",
      "  release=5.15.0-1033-aws\n",
      "  version=#37~20.04.1-Ubuntu SMP Fri Mar 17 11:39:30 UTC 2023\n",
      "  machine=x86_64\n",
      "  processor=x86_64\n",
      "  cpu count=8\n",
      "  cpu freq=scpufreq(current=2499.998, min=0.0, max=0.0)\n",
      "  memory=svmem(total=33292873728, available=28727754752, percent=13.7, used=4102516736, free=647426048, active=14491385856, inactive=14449520640, buffers=2249617408, cached=26293313536, shared=2404352, slab=3414118400)\n",
      "  disk usage=sdiskusage(total=156052275200, used=47393648640, free=108641849344, percent=30.4)\n",
      "# Packages\n",
      "  python: 3.8.10\n",
      "  cvxopt: 1.3.0\n",
      "  cvxpy: 1.2.2\n",
      "  gluonnlp: ?\n",
      "  gluonts: 0.6.7\n",
      "  joblib: 1.2.0\n",
      "  mxnet: 1.9.1\n",
      "  numpy: 1.23.4\n",
      "  pandas: 1.5.1\n",
      "  pyarrow: 10.0.0\n",
      "  scipy: 1.9.3\n",
      "  seaborn: 0.12.1\n",
      "  sklearn: 1.1.3\n",
      "  statsmodels: 0.13.5\n"
     ]
    }
   ],
   "source": [
    "hdbg.init_logger(verbosity=logging.DEBUG)\n",
    "\n",
    "_LOG = logging.getLogger(__name__)\n",
    "\n",
    "_LOG.info(\"%s\", henv.get_system_signature()[0])\n",
    "\n",
    "hprint.config_notebook()"
   ]
  },
  {
   "cell_type": "markdown",
   "id": "1023c274",
   "metadata": {},
   "source": [
    "# Pathological cases"
   ]
  },
  {
   "cell_type": "markdown",
   "id": "00b5be6d",
   "metadata": {
    "ExecuteTime": {
     "end_time": "2023-04-20T23:17:01.134049Z",
     "start_time": "2023-04-20T23:17:01.111611Z"
    }
   },
   "source": [
    "## Get orders and set prices."
   ]
  },
  {
   "cell_type": "code",
   "execution_count": 4,
   "id": "82861c5c",
   "metadata": {
    "ExecuteTime": {
     "end_time": "2023-04-27T11:15:49.271725Z",
     "start_time": "2023-04-27T11:15:49.226265Z"
    }
   },
   "outputs": [
    {
     "data": {
      "text/html": [
       "<div>\n",
       "<style scoped>\n",
       "    .dataframe tbody tr th:only-of-type {\n",
       "        vertical-align: middle;\n",
       "    }\n",
       "\n",
       "    .dataframe tbody tr th {\n",
       "        vertical-align: top;\n",
       "    }\n",
       "\n",
       "    .dataframe thead th {\n",
       "        text-align: right;\n",
       "    }\n",
       "</style>\n",
       "<table border=\"1\" class=\"dataframe\">\n",
       "  <thead>\n",
       "    <tr style=\"text-align: right;\">\n",
       "      <th></th>\n",
       "      <th>timestamp</th>\n",
       "      <th>action</th>\n",
       "      <th>quantity</th>\n",
       "      <th>base_token</th>\n",
       "      <th>limit_price</th>\n",
       "      <th>quote_token</th>\n",
       "      <th>deposit_address</th>\n",
       "    </tr>\n",
       "  </thead>\n",
       "  <tbody>\n",
       "    <tr>\n",
       "      <th>0</th>\n",
       "      <td>2023-04-27 11:15:49.248710+00:00</td>\n",
       "      <td>sell</td>\n",
       "      <td>1</td>\n",
       "      <td>BTC</td>\n",
       "      <td>1.5</td>\n",
       "      <td>ETH</td>\n",
       "      <td>9</td>\n",
       "    </tr>\n",
       "    <tr>\n",
       "      <th>1</th>\n",
       "      <td>2023-04-27 11:15:49.248792+00:00</td>\n",
       "      <td>sell</td>\n",
       "      <td>1</td>\n",
       "      <td>BTC</td>\n",
       "      <td>2.0</td>\n",
       "      <td>ETH</td>\n",
       "      <td>4</td>\n",
       "    </tr>\n",
       "    <tr>\n",
       "      <th>2</th>\n",
       "      <td>2023-04-27 11:15:49.248804+00:00</td>\n",
       "      <td>sell</td>\n",
       "      <td>1</td>\n",
       "      <td>BTC</td>\n",
       "      <td>3.0</td>\n",
       "      <td>ETH</td>\n",
       "      <td>10</td>\n",
       "    </tr>\n",
       "    <tr>\n",
       "      <th>3</th>\n",
       "      <td>2023-04-27 11:15:49.248811+00:00</td>\n",
       "      <td>sell</td>\n",
       "      <td>1</td>\n",
       "      <td>BTC</td>\n",
       "      <td>3.5</td>\n",
       "      <td>ETH</td>\n",
       "      <td>8</td>\n",
       "    </tr>\n",
       "  </tbody>\n",
       "</table>\n",
       "</div>"
      ],
      "text/plain": [
       "                         timestamp action  quantity base_token  limit_price quote_token  deposit_address\n",
       "0 2023-04-27 11:15:49.248710+00:00   sell         1        BTC          1.5         ETH                9\n",
       "1 2023-04-27 11:15:49.248792+00:00   sell         1        BTC          2.0         ETH                4\n",
       "2 2023-04-27 11:15:49.248804+00:00   sell         1        BTC          3.0         ETH               10\n",
       "3 2023-04-27 11:15:49.248811+00:00   sell         1        BTC          3.5         ETH                8"
      ]
     },
     "execution_count": 4,
     "metadata": {},
     "output_type": "execute_result"
    }
   ],
   "source": [
    "type_ = \"supply\"\n",
    "supply_quantities = [1, 1, 1, 1]\n",
    "supply_limit_prices = [1.5, 2, 3, 3.5]\n",
    "#\n",
    "supply_orders1 = ddcrsede.get_curve_orders(\n",
    "    type_, supply_quantities, supply_limit_prices\n",
    ")\n",
    "ddacrord.convert_orders_to_dataframe(supply_orders1)"
   ]
  },
  {
   "cell_type": "code",
   "execution_count": 5,
   "id": "ed657c58",
   "metadata": {
    "ExecuteTime": {
     "end_time": "2023-04-27T11:15:49.310271Z",
     "start_time": "2023-04-27T11:15:49.274739Z"
    }
   },
   "outputs": [
    {
     "data": {
      "text/html": [
       "<div>\n",
       "<style scoped>\n",
       "    .dataframe tbody tr th:only-of-type {\n",
       "        vertical-align: middle;\n",
       "    }\n",
       "\n",
       "    .dataframe tbody tr th {\n",
       "        vertical-align: top;\n",
       "    }\n",
       "\n",
       "    .dataframe thead th {\n",
       "        text-align: right;\n",
       "    }\n",
       "</style>\n",
       "<table border=\"1\" class=\"dataframe\">\n",
       "  <thead>\n",
       "    <tr style=\"text-align: right;\">\n",
       "      <th></th>\n",
       "      <th>timestamp</th>\n",
       "      <th>action</th>\n",
       "      <th>quantity</th>\n",
       "      <th>base_token</th>\n",
       "      <th>limit_price</th>\n",
       "      <th>quote_token</th>\n",
       "      <th>deposit_address</th>\n",
       "    </tr>\n",
       "  </thead>\n",
       "  <tbody>\n",
       "    <tr>\n",
       "      <th>0</th>\n",
       "      <td>2023-04-27 11:15:49.295561+00:00</td>\n",
       "      <td>buy</td>\n",
       "      <td>1</td>\n",
       "      <td>BTC</td>\n",
       "      <td>3.5</td>\n",
       "      <td>ETH</td>\n",
       "      <td>9</td>\n",
       "    </tr>\n",
       "    <tr>\n",
       "      <th>1</th>\n",
       "      <td>2023-04-27 11:15:49.295604+00:00</td>\n",
       "      <td>buy</td>\n",
       "      <td>1</td>\n",
       "      <td>BTC</td>\n",
       "      <td>2.5</td>\n",
       "      <td>ETH</td>\n",
       "      <td>8</td>\n",
       "    </tr>\n",
       "    <tr>\n",
       "      <th>2</th>\n",
       "      <td>2023-04-27 11:15:49.295614+00:00</td>\n",
       "      <td>buy</td>\n",
       "      <td>1</td>\n",
       "      <td>BTC</td>\n",
       "      <td>2.0</td>\n",
       "      <td>ETH</td>\n",
       "      <td>1</td>\n",
       "    </tr>\n",
       "    <tr>\n",
       "      <th>3</th>\n",
       "      <td>2023-04-27 11:15:49.295622+00:00</td>\n",
       "      <td>buy</td>\n",
       "      <td>1</td>\n",
       "      <td>BTC</td>\n",
       "      <td>1.5</td>\n",
       "      <td>ETH</td>\n",
       "      <td>1</td>\n",
       "    </tr>\n",
       "  </tbody>\n",
       "</table>\n",
       "</div>"
      ],
      "text/plain": [
       "                         timestamp action  quantity base_token  limit_price quote_token  deposit_address\n",
       "0 2023-04-27 11:15:49.295561+00:00    buy         1        BTC          3.5         ETH                9\n",
       "1 2023-04-27 11:15:49.295604+00:00    buy         1        BTC          2.5         ETH                8\n",
       "2 2023-04-27 11:15:49.295614+00:00    buy         1        BTC          2.0         ETH                1\n",
       "3 2023-04-27 11:15:49.295622+00:00    buy         1        BTC          1.5         ETH                1"
      ]
     },
     "execution_count": 5,
     "metadata": {},
     "output_type": "execute_result"
    }
   ],
   "source": [
    "type_ = \"demand\"\n",
    "demand_quantities = [1, 1, 1, 1]\n",
    "demand_limit_prices = [3.5, 2.5, 2, 1.5]\n",
    "#\n",
    "demand_orders1 = ddcrsede.get_curve_orders(\n",
    "    type_, demand_quantities, demand_limit_prices\n",
    ")\n",
    "ddacrord.convert_orders_to_dataframe(demand_orders1)"
   ]
  },
  {
   "cell_type": "code",
   "execution_count": 6,
   "id": "137417df",
   "metadata": {
    "ExecuteTime": {
     "end_time": "2023-04-27T11:15:49.337423Z",
     "start_time": "2023-04-27T11:15:49.312783Z"
    }
   },
   "outputs": [],
   "source": [
    "prices = {\"BTC\": 1, \"ETH\": 2}"
   ]
  },
  {
   "cell_type": "markdown",
   "id": "47cb4802",
   "metadata": {},
   "source": [
    "## Multiple intersection points at quantity Q'"
   ]
  },
  {
   "cell_type": "code",
   "execution_count": 7,
   "id": "43072bea",
   "metadata": {
    "ExecuteTime": {
     "end_time": "2023-04-27T11:15:49.366671Z",
     "start_time": "2023-04-27T11:15:49.339757Z"
    }
   },
   "outputs": [
    {
     "data": {
      "text/plain": [
       "[(0, 1.5),\n",
       " (1.0, 1.5),\n",
       " (1.0, 2.0),\n",
       " (2.0, 2.0),\n",
       " (2.0, 3.0),\n",
       " (3.0, 3.0),\n",
       " (3.0, 3.5),\n",
       " (4.0, 3.5),\n",
       " (4.0, 4.375)]"
      ]
     },
     "execution_count": 7,
     "metadata": {},
     "output_type": "execute_result"
    }
   ],
   "source": [
    "type_ = \"supply\"\n",
    "supply_curve1 = ddcrsede.get_curve_dots(supply_orders1, type_)\n",
    "supply_curve1"
   ]
  },
  {
   "cell_type": "code",
   "execution_count": 8,
   "id": "1881feb1",
   "metadata": {
    "ExecuteTime": {
     "end_time": "2023-04-27T11:15:49.396347Z",
     "start_time": "2023-04-27T11:15:49.369364Z"
    },
    "run_control": {
     "marked": false
    }
   },
   "outputs": [
    {
     "data": {
      "text/plain": [
       "[(0, 3.5),\n",
       " (1.0, 3.5),\n",
       " (1.0, 2.5),\n",
       " (2.0, 2.5),\n",
       " (2.0, 2.0),\n",
       " (3.0, 2.0),\n",
       " (3.0, 1.5),\n",
       " (4.0, 1.5),\n",
       " (4.0, 0)]"
      ]
     },
     "execution_count": 8,
     "metadata": {},
     "output_type": "execute_result"
    }
   ],
   "source": [
    "type_ = \"demand\"\n",
    "demand_curve1 = ddcrsede.get_curve_dots(demand_orders1, type_)\n",
    "demand_curve1"
   ]
  },
  {
   "cell_type": "code",
   "execution_count": 9,
   "id": "0d66115d",
   "metadata": {
    "ExecuteTime": {
     "end_time": "2023-04-27T11:15:49.679945Z",
     "start_time": "2023-04-27T11:15:49.398987Z"
    }
   },
   "outputs": [
    {
     "data": {
      "image/png": "[encoded data removed]",
      "text/plain": [
       "<Figure size 2000x500 with 1 Axes>"
      ]
     },
     "metadata": {},
     "output_type": "display_data"
    }
   ],
   "source": [
    "plt.plot(*zip(*supply_curve1))\n",
    "plt.plot(*zip(*demand_curve1))\n",
    "plt.show()"
   ]
  },
  {
   "cell_type": "code",
   "execution_count": 10,
   "id": "a30962fe",
   "metadata": {
    "ExecuteTime": {
     "end_time": "2023-04-27T11:15:49.750403Z",
     "start_time": "2023-04-27T11:15:49.682377Z"
    },
    "run_control": {
     "marked": false
    }
   },
   "outputs": [
    {
     "name": "stdout",
     "output_type": "stream",
     "text": [
      "DEBUG orders=[timestamp=2023-04-27 11:15:49.248710+00:00 action=sell quantity=1.0 base_token=BTC limit_price=1.5 quote_token=ETH deposit_address=9 wallet_address=9, timestamp=2023-04-27 11:15:49.248792+00:00 action=sell quantity=1.0 base_token=BTC limit_price=2.0 quote_token=ETH deposit_address=4 wallet_address=4, timestamp=2023-04-27 11:15:49.248804+00:00 action=sell quantity=1.0 base_token=BTC limit_price=3.0 quote_token=ETH deposit_address=10 wallet_address=10, timestamp=2023-04-27 11:15:49.248811+00:00 action=sell quantity=1.0 base_token=BTC limit_price=3.5 quote_token=ETH deposit_address=8 wallet_address=8, timestamp=2023-04-27 11:15:49.295561+00:00 action=buy quantity=1.0 base_token=BTC limit_price=3.5 quote_token=ETH deposit_address=9 wallet_address=9, timestamp=2023-04-27 11:15:49.295604+00:00 action=buy quantity=1.0 base_token=BTC limit_price=2.5 quote_token=ETH deposit_address=8 wallet_address=8, timestamp=2023-04-27 11:15:49.295614+00:00 action=buy quantity=1.0 base_token=BTC limit_price=2.0 quote_token=ETH deposit_address=1 wallet_address=1, timestamp=2023-04-27 11:15:49.295622+00:00 action=buy quantity=1.0 base_token=BTC limit_price=1.5 quote_token=ETH deposit_address=1 wallet_address=1]\n",
      "DEBUG prices={'BTC': 1, 'ETH': 2}\n",
      "DEBUG /venv/lib/python3.8/site-packages/pulp/solverdir/cbc/linux/64/cbc /tmp/97d53e69237546eba598b5ca8fdc3caa-pulp.mps max timeMode elapsed branch printingOptions all solution /tmp/97d53e69237546eba598b5ca8fdc3caa-pulp.sol \n"
     ]
    },
    {
     "name": "stderr",
     "output_type": "stream",
     "text": [
      "/venv/lib/python3.8/site-packages/pulp/pulp.py:1352: UserWarning: Spaces are not permitted in the name. Converted to '_'\n",
      "  warnings.warn(\"Spaces are not permitted in the name. Converted to '_'\")\n"
     ]
    },
    {
     "data": {
      "text/html": [
       "<div>\n",
       "<style scoped>\n",
       "    .dataframe tbody tr th:only-of-type {\n",
       "        vertical-align: middle;\n",
       "    }\n",
       "\n",
       "    .dataframe tbody tr th {\n",
       "        vertical-align: top;\n",
       "    }\n",
       "\n",
       "    .dataframe thead th {\n",
       "        text-align: right;\n",
       "    }\n",
       "</style>\n",
       "<table border=\"1\" class=\"dataframe\">\n",
       "  <thead>\n",
       "    <tr style=\"text-align: right;\">\n",
       "      <th></th>\n",
       "      <th>timestamp</th>\n",
       "      <th>action</th>\n",
       "      <th>quantity</th>\n",
       "      <th>base_token</th>\n",
       "      <th>limit_price</th>\n",
       "      <th>quote_token</th>\n",
       "      <th>deposit_address</th>\n",
       "      <th>q_pi_star</th>\n",
       "      <th>q_tau_star</th>\n",
       "      <th>effective_price</th>\n",
       "    </tr>\n",
       "  </thead>\n",
       "  <tbody>\n",
       "    <tr>\n",
       "      <th>0</th>\n",
       "      <td>2023-04-27 11:15:49.248710+00:00</td>\n",
       "      <td>sell</td>\n",
       "      <td>1</td>\n",
       "      <td>BTC</td>\n",
       "      <td>1.5</td>\n",
       "      <td>ETH</td>\n",
       "      <td>9</td>\n",
       "      <td>1.0</td>\n",
       "      <td>2.0</td>\n",
       "      <td>2.0</td>\n",
       "    </tr>\n",
       "    <tr>\n",
       "      <th>1</th>\n",
       "      <td>2023-04-27 11:15:49.248792+00:00</td>\n",
       "      <td>sell</td>\n",
       "      <td>1</td>\n",
       "      <td>BTC</td>\n",
       "      <td>2.0</td>\n",
       "      <td>ETH</td>\n",
       "      <td>4</td>\n",
       "      <td>1.0</td>\n",
       "      <td>2.0</td>\n",
       "      <td>2.0</td>\n",
       "    </tr>\n",
       "    <tr>\n",
       "      <th>2</th>\n",
       "      <td>2023-04-27 11:15:49.248804+00:00</td>\n",
       "      <td>sell</td>\n",
       "      <td>1</td>\n",
       "      <td>BTC</td>\n",
       "      <td>3.0</td>\n",
       "      <td>ETH</td>\n",
       "      <td>10</td>\n",
       "      <td>0.0</td>\n",
       "      <td>0.0</td>\n",
       "      <td>NaN</td>\n",
       "    </tr>\n",
       "    <tr>\n",
       "      <th>3</th>\n",
       "      <td>2023-04-27 11:15:49.248811+00:00</td>\n",
       "      <td>sell</td>\n",
       "      <td>1</td>\n",
       "      <td>BTC</td>\n",
       "      <td>3.5</td>\n",
       "      <td>ETH</td>\n",
       "      <td>8</td>\n",
       "      <td>0.0</td>\n",
       "      <td>0.0</td>\n",
       "      <td>NaN</td>\n",
       "    </tr>\n",
       "    <tr>\n",
       "      <th>4</th>\n",
       "      <td>2023-04-27 11:15:49.295561+00:00</td>\n",
       "      <td>buy</td>\n",
       "      <td>1</td>\n",
       "      <td>BTC</td>\n",
       "      <td>3.5</td>\n",
       "      <td>ETH</td>\n",
       "      <td>9</td>\n",
       "      <td>1.0</td>\n",
       "      <td>2.0</td>\n",
       "      <td>2.0</td>\n",
       "    </tr>\n",
       "    <tr>\n",
       "      <th>5</th>\n",
       "      <td>2023-04-27 11:15:49.295604+00:00</td>\n",
       "      <td>buy</td>\n",
       "      <td>1</td>\n",
       "      <td>BTC</td>\n",
       "      <td>2.5</td>\n",
       "      <td>ETH</td>\n",
       "      <td>8</td>\n",
       "      <td>1.0</td>\n",
       "      <td>2.0</td>\n",
       "      <td>2.0</td>\n",
       "    </tr>\n",
       "    <tr>\n",
       "      <th>6</th>\n",
       "      <td>2023-04-27 11:15:49.295614+00:00</td>\n",
       "      <td>buy</td>\n",
       "      <td>1</td>\n",
       "      <td>BTC</td>\n",
       "      <td>2.0</td>\n",
       "      <td>ETH</td>\n",
       "      <td>1</td>\n",
       "      <td>0.0</td>\n",
       "      <td>0.0</td>\n",
       "      <td>NaN</td>\n",
       "    </tr>\n",
       "    <tr>\n",
       "      <th>7</th>\n",
       "      <td>2023-04-27 11:15:49.295622+00:00</td>\n",
       "      <td>buy</td>\n",
       "      <td>1</td>\n",
       "      <td>BTC</td>\n",
       "      <td>1.5</td>\n",
       "      <td>ETH</td>\n",
       "      <td>1</td>\n",
       "      <td>0.0</td>\n",
       "      <td>0.0</td>\n",
       "      <td>NaN</td>\n",
       "    </tr>\n",
       "  </tbody>\n",
       "</table>\n",
       "</div>"
      ],
      "text/plain": [
       "                         timestamp action  quantity base_token  limit_price quote_token  deposit_address  q_pi_star  q_tau_star  effective_price\n",
       "0 2023-04-27 11:15:49.248710+00:00   sell         1        BTC          1.5         ETH                9        1.0         2.0              2.0\n",
       "1 2023-04-27 11:15:49.248792+00:00   sell         1        BTC          2.0         ETH                4        1.0         2.0              2.0\n",
       "2 2023-04-27 11:15:49.248804+00:00   sell         1        BTC          3.0         ETH               10        0.0         0.0              NaN\n",
       "3 2023-04-27 11:15:49.248811+00:00   sell         1        BTC          3.5         ETH                8        0.0         0.0              NaN\n",
       "4 2023-04-27 11:15:49.295561+00:00    buy         1        BTC          3.5         ETH                9        1.0         2.0              2.0\n",
       "5 2023-04-27 11:15:49.295604+00:00    buy         1        BTC          2.5         ETH                8        1.0         2.0              2.0\n",
       "6 2023-04-27 11:15:49.295614+00:00    buy         1        BTC          2.0         ETH                1        0.0         0.0              NaN\n",
       "7 2023-04-27 11:15:49.295622+00:00    buy         1        BTC          1.5         ETH                1        0.0         0.0              NaN"
      ]
     },
     "metadata": {},
     "output_type": "display_data"
    }
   ],
   "source": [
    "all_orders1 = supply_orders1 + demand_orders1\n",
    "daocross_results1 = ddacropt.run_daocross_solver(all_orders1, prices)\n",
    "display(daocross_results1)"
   ]
  },
  {
   "cell_type": "code",
   "execution_count": 12,
   "id": "1123b553",
   "metadata": {
    "ExecuteTime": {
     "end_time": "2023-04-27T11:16:10.167125Z",
     "start_time": "2023-04-27T11:16:10.096742Z"
    }
   },
   "outputs": [
    {
     "name": "stdout",
     "output_type": "stream",
     "text": [
      "DEBUG orders=[timestamp=2023-04-27 11:15:49.248710+00:00 action=sell quantity=1.0 base_token=BTC limit_price=1.5 quote_token=ETH deposit_address=9 wallet_address=9, timestamp=2023-04-27 11:15:49.248792+00:00 action=sell quantity=1.0 base_token=BTC limit_price=2.0 quote_token=ETH deposit_address=4 wallet_address=4, timestamp=2023-04-27 11:15:49.248804+00:00 action=sell quantity=1.0 base_token=BTC limit_price=3.0 quote_token=ETH deposit_address=10 wallet_address=10, timestamp=2023-04-27 11:15:49.248811+00:00 action=sell quantity=1.0 base_token=BTC limit_price=3.5 quote_token=ETH deposit_address=8 wallet_address=8, timestamp=2023-04-27 11:15:49.295561+00:00 action=buy quantity=1.0 base_token=BTC limit_price=3.5 quote_token=ETH deposit_address=9 wallet_address=9, timestamp=2023-04-27 11:15:49.295604+00:00 action=buy quantity=1.0 base_token=BTC limit_price=2.5 quote_token=ETH deposit_address=8 wallet_address=8, timestamp=2023-04-27 11:15:49.295614+00:00 action=buy quantity=1.0 base_token=BTC limit_price=2.0 quote_token=ETH deposit_address=1 wallet_address=1, timestamp=2023-04-27 11:15:49.295622+00:00 action=buy quantity=1.0 base_token=BTC limit_price=1.5 quote_token=ETH deposit_address=1 wallet_address=1]\n",
      "DEBUG /venv/lib/python3.8/site-packages/pulp/solverdir/cbc/linux/64/cbc /tmp/6576207074fd47acb22fafac6359b7f3-pulp.mps max timeMode elapsed branch printingOptions all solution /tmp/6576207074fd47acb22fafac6359b7f3-pulp.sol \n",
      "Welcome to the CBC MILP Solver \n",
      "Version: 2.10.3 \n",
      "Build Date: Dec 15 2019 \n",
      "\n",
      "command line - /venv/lib/python3.8/site-packages/pulp/solverdir/cbc/linux/64/cbc /tmp/6576207074fd47acb22fafac6359b7f3-pulp.mps max timeMode elapsed branch printingOptions all solution /tmp/6576207074fd47acb22fafac6359b7f3-pulp.sol (default strategy 1)\n",
      "At line 2 NAME          MODEL\n",
      "At line 3 ROWS\n",
      "At line 23 COLUMNS\n",
      "At line 80 RHS\n",
      "At line 99 BOUNDS\n",
      "At line 100 ENDATA\n",
      "Problem MODEL has 18 rows, 16 columns and 40 elements\n",
      "Coin0008I MODEL read with 0 errors\n",
      "Option for timeMode changed from cpu to elapsed\n",
      "Presolve 2 (-16) rows, 8 (-8) columns and 16 (-24) elements\n",
      "0  Obj -0 Dual inf 26.999992 (8)\n",
      "2  Obj 25.75\n",
      "Optimal - objective value 25.75\n",
      "After Postsolve, objective 25.75, infeasibilities - dual 0 (0), primal 0 (0)\n",
      "Optimal objective 25.75 - 2 iterations time 0.002, Presolve 0.00\n",
      "Option for printingOptions changed from normal to all\n",
      "Total time (CPU seconds):       0.00   (Wallclock seconds):       0.00\n",
      "\n"
     ]
    },
    {
     "name": "stderr",
     "output_type": "stream",
     "text": [
      "/venv/lib/python3.8/site-packages/pulp/pulp.py:1352: UserWarning: Spaces are not permitted in the name. Converted to '_'\n",
      "  warnings.warn(\"Spaces are not permitted in the name. Converted to '_'\")\n"
     ]
    },
    {
     "data": {
      "text/html": [
       "<div>\n",
       "<style scoped>\n",
       "    .dataframe tbody tr th:only-of-type {\n",
       "        vertical-align: middle;\n",
       "    }\n",
       "\n",
       "    .dataframe tbody tr th {\n",
       "        vertical-align: top;\n",
       "    }\n",
       "\n",
       "    .dataframe thead th {\n",
       "        text-align: right;\n",
       "    }\n",
       "</style>\n",
       "<table border=\"1\" class=\"dataframe\">\n",
       "  <thead>\n",
       "    <tr style=\"text-align: right;\">\n",
       "      <th></th>\n",
       "      <th>timestamp</th>\n",
       "      <th>action</th>\n",
       "      <th>quantity</th>\n",
       "      <th>base_token</th>\n",
       "      <th>limit_price</th>\n",
       "      <th>quote_token</th>\n",
       "      <th>deposit_address</th>\n",
       "      <th>q_pi_star</th>\n",
       "      <th>q_tau_star</th>\n",
       "      <th>effective_price</th>\n",
       "    </tr>\n",
       "  </thead>\n",
       "  <tbody>\n",
       "    <tr>\n",
       "      <th>0</th>\n",
       "      <td>2023-04-27 11:15:49.248710+00:00</td>\n",
       "      <td>sell</td>\n",
       "      <td>1</td>\n",
       "      <td>BTC</td>\n",
       "      <td>1.5</td>\n",
       "      <td>ETH</td>\n",
       "      <td>9</td>\n",
       "      <td>1.00</td>\n",
       "      <td>1.500</td>\n",
       "      <td>1.5</td>\n",
       "    </tr>\n",
       "    <tr>\n",
       "      <th>1</th>\n",
       "      <td>2023-04-27 11:15:49.248792+00:00</td>\n",
       "      <td>sell</td>\n",
       "      <td>1</td>\n",
       "      <td>BTC</td>\n",
       "      <td>2.0</td>\n",
       "      <td>ETH</td>\n",
       "      <td>4</td>\n",
       "      <td>1.00</td>\n",
       "      <td>2.000</td>\n",
       "      <td>2.0</td>\n",
       "    </tr>\n",
       "    <tr>\n",
       "      <th>2</th>\n",
       "      <td>2023-04-27 11:15:49.248804+00:00</td>\n",
       "      <td>sell</td>\n",
       "      <td>1</td>\n",
       "      <td>BTC</td>\n",
       "      <td>3.0</td>\n",
       "      <td>ETH</td>\n",
       "      <td>10</td>\n",
       "      <td>1.00</td>\n",
       "      <td>3.000</td>\n",
       "      <td>3.0</td>\n",
       "    </tr>\n",
       "    <tr>\n",
       "      <th>3</th>\n",
       "      <td>2023-04-27 11:15:49.248811+00:00</td>\n",
       "      <td>sell</td>\n",
       "      <td>1</td>\n",
       "      <td>BTC</td>\n",
       "      <td>3.5</td>\n",
       "      <td>ETH</td>\n",
       "      <td>8</td>\n",
       "      <td>0.75</td>\n",
       "      <td>2.625</td>\n",
       "      <td>3.5</td>\n",
       "    </tr>\n",
       "    <tr>\n",
       "      <th>4</th>\n",
       "      <td>2023-04-27 11:15:49.295561+00:00</td>\n",
       "      <td>buy</td>\n",
       "      <td>1</td>\n",
       "      <td>BTC</td>\n",
       "      <td>3.5</td>\n",
       "      <td>ETH</td>\n",
       "      <td>9</td>\n",
       "      <td>1.00</td>\n",
       "      <td>3.500</td>\n",
       "      <td>3.5</td>\n",
       "    </tr>\n",
       "    <tr>\n",
       "      <th>5</th>\n",
       "      <td>2023-04-27 11:15:49.295604+00:00</td>\n",
       "      <td>buy</td>\n",
       "      <td>1</td>\n",
       "      <td>BTC</td>\n",
       "      <td>2.5</td>\n",
       "      <td>ETH</td>\n",
       "      <td>8</td>\n",
       "      <td>1.00</td>\n",
       "      <td>2.500</td>\n",
       "      <td>2.5</td>\n",
       "    </tr>\n",
       "    <tr>\n",
       "      <th>6</th>\n",
       "      <td>2023-04-27 11:15:49.295614+00:00</td>\n",
       "      <td>buy</td>\n",
       "      <td>1</td>\n",
       "      <td>BTC</td>\n",
       "      <td>2.0</td>\n",
       "      <td>ETH</td>\n",
       "      <td>1</td>\n",
       "      <td>1.00</td>\n",
       "      <td>2.000</td>\n",
       "      <td>2.0</td>\n",
       "    </tr>\n",
       "    <tr>\n",
       "      <th>7</th>\n",
       "      <td>2023-04-27 11:15:49.295622+00:00</td>\n",
       "      <td>buy</td>\n",
       "      <td>1</td>\n",
       "      <td>BTC</td>\n",
       "      <td>1.5</td>\n",
       "      <td>ETH</td>\n",
       "      <td>1</td>\n",
       "      <td>0.75</td>\n",
       "      <td>1.125</td>\n",
       "      <td>1.5</td>\n",
       "    </tr>\n",
       "  </tbody>\n",
       "</table>\n",
       "</div>"
      ],
      "text/plain": [
       "                         timestamp action  quantity base_token  limit_price quote_token  deposit_address  q_pi_star  q_tau_star  effective_price\n",
       "0 2023-04-27 11:15:49.248710+00:00   sell         1        BTC          1.5         ETH                9       1.00       1.500              1.5\n",
       "1 2023-04-27 11:15:49.248792+00:00   sell         1        BTC          2.0         ETH                4       1.00       2.000              2.0\n",
       "2 2023-04-27 11:15:49.248804+00:00   sell         1        BTC          3.0         ETH               10       1.00       3.000              3.0\n",
       "3 2023-04-27 11:15:49.248811+00:00   sell         1        BTC          3.5         ETH                8       0.75       2.625              3.5\n",
       "4 2023-04-27 11:15:49.295561+00:00    buy         1        BTC          3.5         ETH                9       1.00       3.500              3.5\n",
       "5 2023-04-27 11:15:49.295604+00:00    buy         1        BTC          2.5         ETH                8       1.00       2.500              2.5\n",
       "6 2023-04-27 11:15:49.295614+00:00    buy         1        BTC          2.0         ETH                1       1.00       2.000              2.0\n",
       "7 2023-04-27 11:15:49.295622+00:00    buy         1        BTC          1.5         ETH                1       0.75       1.125              1.5"
      ]
     },
     "metadata": {},
     "output_type": "display_data"
    }
   ],
   "source": [
    "daoswap_results1 = ddacropt.run_daoswap_solver(all_orders1)\n",
    "display(daoswap_results1)"
   ]
  },
  {
   "cell_type": "markdown",
   "id": "f0206657",
   "metadata": {},
   "source": [
    "## Multiple intersection points at price P'"
   ]
  },
  {
   "cell_type": "code",
   "execution_count": 13,
   "id": "3b0825bf",
   "metadata": {
    "ExecuteTime": {
     "end_time": "2023-04-27T11:16:13.352126Z",
     "start_time": "2023-04-27T11:16:13.311712Z"
    }
   },
   "outputs": [
    {
     "data": {
      "text/html": [
       "<div>\n",
       "<style scoped>\n",
       "    .dataframe tbody tr th:only-of-type {\n",
       "        vertical-align: middle;\n",
       "    }\n",
       "\n",
       "    .dataframe tbody tr th {\n",
       "        vertical-align: top;\n",
       "    }\n",
       "\n",
       "    .dataframe thead th {\n",
       "        text-align: right;\n",
       "    }\n",
       "</style>\n",
       "<table border=\"1\" class=\"dataframe\">\n",
       "  <thead>\n",
       "    <tr style=\"text-align: right;\">\n",
       "      <th></th>\n",
       "      <th>timestamp</th>\n",
       "      <th>action</th>\n",
       "      <th>quantity</th>\n",
       "      <th>base_token</th>\n",
       "      <th>limit_price</th>\n",
       "      <th>quote_token</th>\n",
       "      <th>deposit_address</th>\n",
       "    </tr>\n",
       "  </thead>\n",
       "  <tbody>\n",
       "    <tr>\n",
       "      <th>0</th>\n",
       "      <td>2023-04-27 11:16:13.337736+00:00</td>\n",
       "      <td>sell</td>\n",
       "      <td>2</td>\n",
       "      <td>BTC</td>\n",
       "      <td>1.5</td>\n",
       "      <td>ETH</td>\n",
       "      <td>7</td>\n",
       "    </tr>\n",
       "    <tr>\n",
       "      <th>1</th>\n",
       "      <td>2023-04-27 11:16:13.337790+00:00</td>\n",
       "      <td>sell</td>\n",
       "      <td>2</td>\n",
       "      <td>BTC</td>\n",
       "      <td>2.0</td>\n",
       "      <td>ETH</td>\n",
       "      <td>2</td>\n",
       "    </tr>\n",
       "    <tr>\n",
       "      <th>2</th>\n",
       "      <td>2023-04-27 11:16:13.337800+00:00</td>\n",
       "      <td>sell</td>\n",
       "      <td>2</td>\n",
       "      <td>BTC</td>\n",
       "      <td>3.0</td>\n",
       "      <td>ETH</td>\n",
       "      <td>2</td>\n",
       "    </tr>\n",
       "    <tr>\n",
       "      <th>3</th>\n",
       "      <td>2023-04-27 11:16:13.337808+00:00</td>\n",
       "      <td>sell</td>\n",
       "      <td>2</td>\n",
       "      <td>BTC</td>\n",
       "      <td>3.5</td>\n",
       "      <td>ETH</td>\n",
       "      <td>10</td>\n",
       "    </tr>\n",
       "  </tbody>\n",
       "</table>\n",
       "</div>"
      ],
      "text/plain": [
       "                         timestamp action  quantity base_token  limit_price quote_token  deposit_address\n",
       "0 2023-04-27 11:16:13.337736+00:00   sell         2        BTC          1.5         ETH                7\n",
       "1 2023-04-27 11:16:13.337790+00:00   sell         2        BTC          2.0         ETH                2\n",
       "2 2023-04-27 11:16:13.337800+00:00   sell         2        BTC          3.0         ETH                2\n",
       "3 2023-04-27 11:16:13.337808+00:00   sell         2        BTC          3.5         ETH               10"
      ]
     },
     "execution_count": 13,
     "metadata": {},
     "output_type": "execute_result"
    }
   ],
   "source": [
    "quantity_const = 1.0\n",
    "type_ = \"supply\"\n",
    "supply_orders2 = ddcrsede.get_curve_orders(\n",
    "    type_,\n",
    "    supply_quantities,\n",
    "    supply_limit_prices,\n",
    "    quantity_const=quantity_const,\n",
    ")\n",
    "ddacrord.convert_orders_to_dataframe(supply_orders2)"
   ]
  },
  {
   "cell_type": "code",
   "execution_count": 14,
   "id": "172d3a8f",
   "metadata": {
    "ExecuteTime": {
     "end_time": "2023-04-27T11:16:13.700618Z",
     "start_time": "2023-04-27T11:16:13.674736Z"
    }
   },
   "outputs": [
    {
     "data": {
      "text/plain": [
       "[(0, 1.5),\n",
       " (2.0, 1.5),\n",
       " (2.0, 2.0),\n",
       " (4.0, 2.0),\n",
       " (4.0, 3.0),\n",
       " (6.0, 3.0),\n",
       " (6.0, 3.5),\n",
       " (8.0, 3.5),\n",
       " (8.0, 4.375)]"
      ]
     },
     "execution_count": 14,
     "metadata": {},
     "output_type": "execute_result"
    }
   ],
   "source": [
    "type_ = \"supply\"\n",
    "supply_curve2 = ddcrsede.get_curve_dots(supply_orders2, type_)\n",
    "supply_curve2"
   ]
  },
  {
   "cell_type": "code",
   "execution_count": 15,
   "id": "506f037f",
   "metadata": {
    "ExecuteTime": {
     "end_time": "2023-04-27T11:16:14.504275Z",
     "start_time": "2023-04-27T11:16:14.207011Z"
    }
   },
   "outputs": [
    {
     "data": {
      "image/png": "[encoded data removed]",
      "text/plain": [
       "<Figure size 2000x500 with 1 Axes>"
      ]
     },
     "metadata": {},
     "output_type": "display_data"
    }
   ],
   "source": [
    "plt.plot(*zip(*supply_curve2))\n",
    "plt.plot(*zip(*demand_curve1))\n",
    "plt.show()"
   ]
  },
  {
   "cell_type": "code",
   "execution_count": 16,
   "id": "bdb30dea",
   "metadata": {
    "ExecuteTime": {
     "end_time": "2023-04-27T11:16:15.343996Z",
     "start_time": "2023-04-27T11:16:15.275650Z"
    }
   },
   "outputs": [
    {
     "name": "stdout",
     "output_type": "stream",
     "text": [
      "DEBUG orders=[timestamp=2023-04-27 11:16:13.337736+00:00 action=sell quantity=2.0 base_token=BTC limit_price=1.5 quote_token=ETH deposit_address=7 wallet_address=7, timestamp=2023-04-27 11:16:13.337790+00:00 action=sell quantity=2.0 base_token=BTC limit_price=2.0 quote_token=ETH deposit_address=2 wallet_address=2, timestamp=2023-04-27 11:16:13.337800+00:00 action=sell quantity=2.0 base_token=BTC limit_price=3.0 quote_token=ETH deposit_address=2 wallet_address=2, timestamp=2023-04-27 11:16:13.337808+00:00 action=sell quantity=2.0 base_token=BTC limit_price=3.5 quote_token=ETH deposit_address=10 wallet_address=10, timestamp=2023-04-27 11:15:49.295561+00:00 action=buy quantity=1.0 base_token=BTC limit_price=3.5 quote_token=ETH deposit_address=9 wallet_address=9, timestamp=2023-04-27 11:15:49.295604+00:00 action=buy quantity=1.0 base_token=BTC limit_price=2.5 quote_token=ETH deposit_address=8 wallet_address=8, timestamp=2023-04-27 11:15:49.295614+00:00 action=buy quantity=1.0 base_token=BTC limit_price=2.0 quote_token=ETH deposit_address=1 wallet_address=1, timestamp=2023-04-27 11:15:49.295622+00:00 action=buy quantity=1.0 base_token=BTC limit_price=1.5 quote_token=ETH deposit_address=1 wallet_address=1]\n",
      "DEBUG prices={'BTC': 1, 'ETH': 2}\n",
      "DEBUG /venv/lib/python3.8/site-packages/pulp/solverdir/cbc/linux/64/cbc /tmp/2fac33cb9a9543ed8c98c93dd9225635-pulp.mps max timeMode elapsed branch printingOptions all solution /tmp/2fac33cb9a9543ed8c98c93dd9225635-pulp.sol \n"
     ]
    },
    {
     "name": "stderr",
     "output_type": "stream",
     "text": [
      "/venv/lib/python3.8/site-packages/pulp/pulp.py:1352: UserWarning: Spaces are not permitted in the name. Converted to '_'\n",
      "  warnings.warn(\"Spaces are not permitted in the name. Converted to '_'\")\n"
     ]
    },
    {
     "data": {
      "text/html": [
       "<div>\n",
       "<style scoped>\n",
       "    .dataframe tbody tr th:only-of-type {\n",
       "        vertical-align: middle;\n",
       "    }\n",
       "\n",
       "    .dataframe tbody tr th {\n",
       "        vertical-align: top;\n",
       "    }\n",
       "\n",
       "    .dataframe thead th {\n",
       "        text-align: right;\n",
       "    }\n",
       "</style>\n",
       "<table border=\"1\" class=\"dataframe\">\n",
       "  <thead>\n",
       "    <tr style=\"text-align: right;\">\n",
       "      <th></th>\n",
       "      <th>timestamp</th>\n",
       "      <th>action</th>\n",
       "      <th>quantity</th>\n",
       "      <th>base_token</th>\n",
       "      <th>limit_price</th>\n",
       "      <th>quote_token</th>\n",
       "      <th>deposit_address</th>\n",
       "      <th>q_pi_star</th>\n",
       "      <th>q_tau_star</th>\n",
       "      <th>effective_price</th>\n",
       "    </tr>\n",
       "  </thead>\n",
       "  <tbody>\n",
       "    <tr>\n",
       "      <th>0</th>\n",
       "      <td>2023-04-27 11:16:13.337736+00:00</td>\n",
       "      <td>sell</td>\n",
       "      <td>2</td>\n",
       "      <td>BTC</td>\n",
       "      <td>1.5</td>\n",
       "      <td>ETH</td>\n",
       "      <td>7</td>\n",
       "      <td>1.0</td>\n",
       "      <td>2.0</td>\n",
       "      <td>2.0</td>\n",
       "    </tr>\n",
       "    <tr>\n",
       "      <th>1</th>\n",
       "      <td>2023-04-27 11:16:13.337790+00:00</td>\n",
       "      <td>sell</td>\n",
       "      <td>2</td>\n",
       "      <td>BTC</td>\n",
       "      <td>2.0</td>\n",
       "      <td>ETH</td>\n",
       "      <td>2</td>\n",
       "      <td>2.0</td>\n",
       "      <td>4.0</td>\n",
       "      <td>2.0</td>\n",
       "    </tr>\n",
       "    <tr>\n",
       "      <th>2</th>\n",
       "      <td>2023-04-27 11:16:13.337800+00:00</td>\n",
       "      <td>sell</td>\n",
       "      <td>2</td>\n",
       "      <td>BTC</td>\n",
       "      <td>3.0</td>\n",
       "      <td>ETH</td>\n",
       "      <td>2</td>\n",
       "      <td>0.0</td>\n",
       "      <td>0.0</td>\n",
       "      <td>NaN</td>\n",
       "    </tr>\n",
       "    <tr>\n",
       "      <th>3</th>\n",
       "      <td>2023-04-27 11:16:13.337808+00:00</td>\n",
       "      <td>sell</td>\n",
       "      <td>2</td>\n",
       "      <td>BTC</td>\n",
       "      <td>3.5</td>\n",
       "      <td>ETH</td>\n",
       "      <td>10</td>\n",
       "      <td>0.0</td>\n",
       "      <td>0.0</td>\n",
       "      <td>NaN</td>\n",
       "    </tr>\n",
       "    <tr>\n",
       "      <th>4</th>\n",
       "      <td>2023-04-27 11:15:49.295561+00:00</td>\n",
       "      <td>buy</td>\n",
       "      <td>1</td>\n",
       "      <td>BTC</td>\n",
       "      <td>3.5</td>\n",
       "      <td>ETH</td>\n",
       "      <td>9</td>\n",
       "      <td>1.0</td>\n",
       "      <td>2.0</td>\n",
       "      <td>2.0</td>\n",
       "    </tr>\n",
       "    <tr>\n",
       "      <th>5</th>\n",
       "      <td>2023-04-27 11:15:49.295604+00:00</td>\n",
       "      <td>buy</td>\n",
       "      <td>1</td>\n",
       "      <td>BTC</td>\n",
       "      <td>2.5</td>\n",
       "      <td>ETH</td>\n",
       "      <td>8</td>\n",
       "      <td>1.0</td>\n",
       "      <td>2.0</td>\n",
       "      <td>2.0</td>\n",
       "    </tr>\n",
       "    <tr>\n",
       "      <th>6</th>\n",
       "      <td>2023-04-27 11:15:49.295614+00:00</td>\n",
       "      <td>buy</td>\n",
       "      <td>1</td>\n",
       "      <td>BTC</td>\n",
       "      <td>2.0</td>\n",
       "      <td>ETH</td>\n",
       "      <td>1</td>\n",
       "      <td>1.0</td>\n",
       "      <td>2.0</td>\n",
       "      <td>2.0</td>\n",
       "    </tr>\n",
       "    <tr>\n",
       "      <th>7</th>\n",
       "      <td>2023-04-27 11:15:49.295622+00:00</td>\n",
       "      <td>buy</td>\n",
       "      <td>1</td>\n",
       "      <td>BTC</td>\n",
       "      <td>1.5</td>\n",
       "      <td>ETH</td>\n",
       "      <td>1</td>\n",
       "      <td>0.0</td>\n",
       "      <td>0.0</td>\n",
       "      <td>NaN</td>\n",
       "    </tr>\n",
       "  </tbody>\n",
       "</table>\n",
       "</div>"
      ],
      "text/plain": [
       "                         timestamp action  quantity base_token  limit_price quote_token  deposit_address  q_pi_star  q_tau_star  effective_price\n",
       "0 2023-04-27 11:16:13.337736+00:00   sell         2        BTC          1.5         ETH                7        1.0         2.0              2.0\n",
       "1 2023-04-27 11:16:13.337790+00:00   sell         2        BTC          2.0         ETH                2        2.0         4.0              2.0\n",
       "2 2023-04-27 11:16:13.337800+00:00   sell         2        BTC          3.0         ETH                2        0.0         0.0              NaN\n",
       "3 2023-04-27 11:16:13.337808+00:00   sell         2        BTC          3.5         ETH               10        0.0         0.0              NaN\n",
       "4 2023-04-27 11:15:49.295561+00:00    buy         1        BTC          3.5         ETH                9        1.0         2.0              2.0\n",
       "5 2023-04-27 11:15:49.295604+00:00    buy         1        BTC          2.5         ETH                8        1.0         2.0              2.0\n",
       "6 2023-04-27 11:15:49.295614+00:00    buy         1        BTC          2.0         ETH                1        1.0         2.0              2.0\n",
       "7 2023-04-27 11:15:49.295622+00:00    buy         1        BTC          1.5         ETH                1        0.0         0.0              NaN"
      ]
     },
     "metadata": {},
     "output_type": "display_data"
    }
   ],
   "source": [
    "all_orders2 = supply_orders2 + demand_orders1\n",
    "daocross_results2 = ddacropt.run_daocross_solver(all_orders2, prices)\n",
    "display(daocross_results2)"
   ]
  },
  {
   "cell_type": "code",
   "execution_count": 17,
   "id": "edc40ed1",
   "metadata": {
    "ExecuteTime": {
     "end_time": "2023-04-27T11:16:20.227483Z",
     "start_time": "2023-04-27T11:16:20.136181Z"
    }
   },
   "outputs": [
    {
     "name": "stdout",
     "output_type": "stream",
     "text": [
      "DEBUG orders=[timestamp=2023-04-27 11:16:13.337736+00:00 action=sell quantity=2.0 base_token=BTC limit_price=1.5 quote_token=ETH deposit_address=7 wallet_address=7, timestamp=2023-04-27 11:16:13.337790+00:00 action=sell quantity=2.0 base_token=BTC limit_price=2.0 quote_token=ETH deposit_address=2 wallet_address=2, timestamp=2023-04-27 11:16:13.337800+00:00 action=sell quantity=2.0 base_token=BTC limit_price=3.0 quote_token=ETH deposit_address=2 wallet_address=2, timestamp=2023-04-27 11:16:13.337808+00:00 action=sell quantity=2.0 base_token=BTC limit_price=3.5 quote_token=ETH deposit_address=10 wallet_address=10, timestamp=2023-04-27 11:15:49.295561+00:00 action=buy quantity=1.0 base_token=BTC limit_price=3.5 quote_token=ETH deposit_address=9 wallet_address=9, timestamp=2023-04-27 11:15:49.295604+00:00 action=buy quantity=1.0 base_token=BTC limit_price=2.5 quote_token=ETH deposit_address=8 wallet_address=8, timestamp=2023-04-27 11:15:49.295614+00:00 action=buy quantity=1.0 base_token=BTC limit_price=2.0 quote_token=ETH deposit_address=1 wallet_address=1, timestamp=2023-04-27 11:15:49.295622+00:00 action=buy quantity=1.0 base_token=BTC limit_price=1.5 quote_token=ETH deposit_address=1 wallet_address=1]\n",
      "DEBUG /venv/lib/python3.8/site-packages/pulp/solverdir/cbc/linux/64/cbc /tmp/1116c8b9bbf849cba0ea5a08c05765db-pulp.mps max timeMode elapsed branch printingOptions all solution /tmp/1116c8b9bbf849cba0ea5a08c05765db-pulp.sol \n",
      "Welcome to the CBC MILP Solver \n",
      "Version: 2.10.3 \n",
      "Build Date: Dec 15 2019 \n",
      "\n",
      "command line - /venv/lib/python3.8/site-packages/pulp/solverdir/cbc/linux/64/cbc /tmp/1116c8b9bbf849cba0ea5a08c05765db-pulp.mps max timeMode elapsed branch printingOptions all solution /tmp/1116c8b9bbf849cba0ea5a08c05765db-pulp.sol (default strategy 1)\n",
      "At line 2 NAME          MODEL\n",
      "At line 3 ROWS\n",
      "At line 23 COLUMNS\n",
      "At line 80 RHS\n",
      "At line 99 BOUNDS\n",
      "At line 100 ENDATA\n",
      "Problem MODEL has 18 rows, 16 columns and 40 elements\n",
      "Coin0008I MODEL read with 0 errors\n",
      "Option for timeMode changed from cpu to elapsed\n",
      "Presolve 2 (-16) rows, 8 (-8) columns and 16 (-24) elements\n",
      "0  Obj -0 Dual inf 26.999992 (8)\n",
      "3  Obj 27\n",
      "Optimal - objective value 27\n",
      "After Postsolve, objective 27, infeasibilities - dual 0 (0), primal 0 (0)\n",
      "Optimal objective 27 - 3 iterations time 0.002, Presolve 0.00\n",
      "Option for printingOptions changed from normal to all\n",
      "Total time (CPU seconds):       0.00   (Wallclock seconds):       0.00\n",
      "\n"
     ]
    },
    {
     "name": "stderr",
     "output_type": "stream",
     "text": [
      "/venv/lib/python3.8/site-packages/pulp/pulp.py:1352: UserWarning: Spaces are not permitted in the name. Converted to '_'\n",
      "  warnings.warn(\"Spaces are not permitted in the name. Converted to '_'\")\n"
     ]
    },
    {
     "data": {
      "text/html": [
       "<div>\n",
       "<style scoped>\n",
       "    .dataframe tbody tr th:only-of-type {\n",
       "        vertical-align: middle;\n",
       "    }\n",
       "\n",
       "    .dataframe tbody tr th {\n",
       "        vertical-align: top;\n",
       "    }\n",
       "\n",
       "    .dataframe thead th {\n",
       "        text-align: right;\n",
       "    }\n",
       "</style>\n",
       "<table border=\"1\" class=\"dataframe\">\n",
       "  <thead>\n",
       "    <tr style=\"text-align: right;\">\n",
       "      <th></th>\n",
       "      <th>timestamp</th>\n",
       "      <th>action</th>\n",
       "      <th>quantity</th>\n",
       "      <th>base_token</th>\n",
       "      <th>limit_price</th>\n",
       "      <th>quote_token</th>\n",
       "      <th>deposit_address</th>\n",
       "      <th>q_pi_star</th>\n",
       "      <th>q_tau_star</th>\n",
       "      <th>effective_price</th>\n",
       "    </tr>\n",
       "  </thead>\n",
       "  <tbody>\n",
       "    <tr>\n",
       "      <th>0</th>\n",
       "      <td>2023-04-27 11:16:13.337736+00:00</td>\n",
       "      <td>sell</td>\n",
       "      <td>2</td>\n",
       "      <td>BTC</td>\n",
       "      <td>1.5</td>\n",
       "      <td>ETH</td>\n",
       "      <td>7</td>\n",
       "      <td>0.333333</td>\n",
       "      <td>0.5</td>\n",
       "      <td>1.5</td>\n",
       "    </tr>\n",
       "    <tr>\n",
       "      <th>1</th>\n",
       "      <td>2023-04-27 11:16:13.337790+00:00</td>\n",
       "      <td>sell</td>\n",
       "      <td>2</td>\n",
       "      <td>BTC</td>\n",
       "      <td>2.0</td>\n",
       "      <td>ETH</td>\n",
       "      <td>2</td>\n",
       "      <td>2.000000</td>\n",
       "      <td>4.0</td>\n",
       "      <td>2.0</td>\n",
       "    </tr>\n",
       "    <tr>\n",
       "      <th>2</th>\n",
       "      <td>2023-04-27 11:16:13.337800+00:00</td>\n",
       "      <td>sell</td>\n",
       "      <td>2</td>\n",
       "      <td>BTC</td>\n",
       "      <td>3.0</td>\n",
       "      <td>ETH</td>\n",
       "      <td>2</td>\n",
       "      <td>1.666667</td>\n",
       "      <td>5.0</td>\n",
       "      <td>3.0</td>\n",
       "    </tr>\n",
       "    <tr>\n",
       "      <th>3</th>\n",
       "      <td>2023-04-27 11:16:13.337808+00:00</td>\n",
       "      <td>sell</td>\n",
       "      <td>2</td>\n",
       "      <td>BTC</td>\n",
       "      <td>3.5</td>\n",
       "      <td>ETH</td>\n",
       "      <td>10</td>\n",
       "      <td>0.000000</td>\n",
       "      <td>-0.0</td>\n",
       "      <td>NaN</td>\n",
       "    </tr>\n",
       "    <tr>\n",
       "      <th>4</th>\n",
       "      <td>2023-04-27 11:15:49.295561+00:00</td>\n",
       "      <td>buy</td>\n",
       "      <td>1</td>\n",
       "      <td>BTC</td>\n",
       "      <td>3.5</td>\n",
       "      <td>ETH</td>\n",
       "      <td>9</td>\n",
       "      <td>1.000000</td>\n",
       "      <td>3.5</td>\n",
       "      <td>3.5</td>\n",
       "    </tr>\n",
       "    <tr>\n",
       "      <th>5</th>\n",
       "      <td>2023-04-27 11:15:49.295604+00:00</td>\n",
       "      <td>buy</td>\n",
       "      <td>1</td>\n",
       "      <td>BTC</td>\n",
       "      <td>2.5</td>\n",
       "      <td>ETH</td>\n",
       "      <td>8</td>\n",
       "      <td>1.000000</td>\n",
       "      <td>2.5</td>\n",
       "      <td>2.5</td>\n",
       "    </tr>\n",
       "    <tr>\n",
       "      <th>6</th>\n",
       "      <td>2023-04-27 11:15:49.295614+00:00</td>\n",
       "      <td>buy</td>\n",
       "      <td>1</td>\n",
       "      <td>BTC</td>\n",
       "      <td>2.0</td>\n",
       "      <td>ETH</td>\n",
       "      <td>1</td>\n",
       "      <td>1.000000</td>\n",
       "      <td>2.0</td>\n",
       "      <td>2.0</td>\n",
       "    </tr>\n",
       "    <tr>\n",
       "      <th>7</th>\n",
       "      <td>2023-04-27 11:15:49.295622+00:00</td>\n",
       "      <td>buy</td>\n",
       "      <td>1</td>\n",
       "      <td>BTC</td>\n",
       "      <td>1.5</td>\n",
       "      <td>ETH</td>\n",
       "      <td>1</td>\n",
       "      <td>1.000000</td>\n",
       "      <td>1.5</td>\n",
       "      <td>1.5</td>\n",
       "    </tr>\n",
       "  </tbody>\n",
       "</table>\n",
       "</div>"
      ],
      "text/plain": [
       "                         timestamp action  quantity base_token  limit_price quote_token  deposit_address  q_pi_star  q_tau_star  effective_price\n",
       "0 2023-04-27 11:16:13.337736+00:00   sell         2        BTC          1.5         ETH                7   0.333333         0.5              1.5\n",
       "1 2023-04-27 11:16:13.337790+00:00   sell         2        BTC          2.0         ETH                2   2.000000         4.0              2.0\n",
       "2 2023-04-27 11:16:13.337800+00:00   sell         2        BTC          3.0         ETH                2   1.666667         5.0              3.0\n",
       "3 2023-04-27 11:16:13.337808+00:00   sell         2        BTC          3.5         ETH               10   0.000000        -0.0              NaN\n",
       "4 2023-04-27 11:15:49.295561+00:00    buy         1        BTC          3.5         ETH                9   1.000000         3.5              3.5\n",
       "5 2023-04-27 11:15:49.295604+00:00    buy         1        BTC          2.5         ETH                8   1.000000         2.5              2.5\n",
       "6 2023-04-27 11:15:49.295614+00:00    buy         1        BTC          2.0         ETH                1   1.000000         2.0              2.0\n",
       "7 2023-04-27 11:15:49.295622+00:00    buy         1        BTC          1.5         ETH                1   1.000000         1.5              1.5"
      ]
     },
     "metadata": {},
     "output_type": "display_data"
    }
   ],
   "source": [
    "daoswap_results2 = ddacropt.run_daoswap_solver(all_orders2)\n",
    "display(daoswap_results2)"
   ]
  },
  {
   "cell_type": "markdown",
   "id": "b4b04a9d",
   "metadata": {
    "ExecuteTime": {
     "end_time": "2023-04-20T23:21:31.778217Z",
     "start_time": "2023-04-20T23:21:31.757404Z"
    }
   },
   "source": [
    "## No intersection"
   ]
  },
  {
   "cell_type": "code",
   "execution_count": 18,
   "id": "60e6aaf1",
   "metadata": {
    "ExecuteTime": {
     "end_time": "2023-04-27T11:16:44.881629Z",
     "start_time": "2023-04-27T11:16:44.843562Z"
    }
   },
   "outputs": [
    {
     "data": {
      "text/html": [
       "<div>\n",
       "<style scoped>\n",
       "    .dataframe tbody tr th:only-of-type {\n",
       "        vertical-align: middle;\n",
       "    }\n",
       "\n",
       "    .dataframe tbody tr th {\n",
       "        vertical-align: top;\n",
       "    }\n",
       "\n",
       "    .dataframe thead th {\n",
       "        text-align: right;\n",
       "    }\n",
       "</style>\n",
       "<table border=\"1\" class=\"dataframe\">\n",
       "  <thead>\n",
       "    <tr style=\"text-align: right;\">\n",
       "      <th></th>\n",
       "      <th>timestamp</th>\n",
       "      <th>action</th>\n",
       "      <th>quantity</th>\n",
       "      <th>base_token</th>\n",
       "      <th>limit_price</th>\n",
       "      <th>quote_token</th>\n",
       "      <th>deposit_address</th>\n",
       "    </tr>\n",
       "  </thead>\n",
       "  <tbody>\n",
       "    <tr>\n",
       "      <th>0</th>\n",
       "      <td>2023-04-27 11:16:44.867564+00:00</td>\n",
       "      <td>sell</td>\n",
       "      <td>1</td>\n",
       "      <td>BTC</td>\n",
       "      <td>6.5</td>\n",
       "      <td>ETH</td>\n",
       "      <td>4</td>\n",
       "    </tr>\n",
       "    <tr>\n",
       "      <th>1</th>\n",
       "      <td>2023-04-27 11:16:44.867617+00:00</td>\n",
       "      <td>sell</td>\n",
       "      <td>1</td>\n",
       "      <td>BTC</td>\n",
       "      <td>7.0</td>\n",
       "      <td>ETH</td>\n",
       "      <td>3</td>\n",
       "    </tr>\n",
       "    <tr>\n",
       "      <th>2</th>\n",
       "      <td>2023-04-27 11:16:44.867627+00:00</td>\n",
       "      <td>sell</td>\n",
       "      <td>1</td>\n",
       "      <td>BTC</td>\n",
       "      <td>8.0</td>\n",
       "      <td>ETH</td>\n",
       "      <td>5</td>\n",
       "    </tr>\n",
       "    <tr>\n",
       "      <th>3</th>\n",
       "      <td>2023-04-27 11:16:44.867634+00:00</td>\n",
       "      <td>sell</td>\n",
       "      <td>1</td>\n",
       "      <td>BTC</td>\n",
       "      <td>8.5</td>\n",
       "      <td>ETH</td>\n",
       "      <td>8</td>\n",
       "    </tr>\n",
       "  </tbody>\n",
       "</table>\n",
       "</div>"
      ],
      "text/plain": [
       "                         timestamp action  quantity base_token  limit_price quote_token  deposit_address\n",
       "0 2023-04-27 11:16:44.867564+00:00   sell         1        BTC          6.5         ETH                4\n",
       "1 2023-04-27 11:16:44.867617+00:00   sell         1        BTC          7.0         ETH                3\n",
       "2 2023-04-27 11:16:44.867627+00:00   sell         1        BTC          8.0         ETH                5\n",
       "3 2023-04-27 11:16:44.867634+00:00   sell         1        BTC          8.5         ETH                8"
      ]
     },
     "execution_count": 18,
     "metadata": {},
     "output_type": "execute_result"
    }
   ],
   "source": [
    "limit_price_const = 5.0\n",
    "supply_orders3 = ddcrsede.get_curve_orders(\n",
    "    type_,\n",
    "    supply_quantities,\n",
    "    supply_limit_prices,\n",
    "    limit_price_const=limit_price_const,\n",
    ")\n",
    "ddacrord.convert_orders_to_dataframe(supply_orders3)"
   ]
  },
  {
   "cell_type": "code",
   "execution_count": 19,
   "id": "d9fc1d3d",
   "metadata": {
    "ExecuteTime": {
     "end_time": "2023-04-27T11:16:45.580559Z",
     "start_time": "2023-04-27T11:16:45.556616Z"
    }
   },
   "outputs": [
    {
     "data": {
      "text/plain": [
       "[(0, 6.5),\n",
       " (1.0, 6.5),\n",
       " (1.0, 7.0),\n",
       " (2.0, 7.0),\n",
       " (2.0, 8.0),\n",
       " (3.0, 8.0),\n",
       " (3.0, 8.5),\n",
       " (4.0, 8.5),\n",
       " (4.0, 10.625)]"
      ]
     },
     "execution_count": 19,
     "metadata": {},
     "output_type": "execute_result"
    }
   ],
   "source": [
    "type_ = \"supply\"\n",
    "supply_curve3 = ddcrsede.get_curve_dots(supply_orders3, type_)\n",
    "supply_curve3"
   ]
  },
  {
   "cell_type": "code",
   "execution_count": 20,
   "id": "6d8efe69",
   "metadata": {
    "ExecuteTime": {
     "end_time": "2023-04-27T11:16:46.768781Z",
     "start_time": "2023-04-27T11:16:46.420849Z"
    }
   },
   "outputs": [
    {
     "data": {
      "image/png": "[encoded data removed]",
      "text/plain": [
       "<Figure size 2000x500 with 1 Axes>"
      ]
     },
     "metadata": {},
     "output_type": "display_data"
    }
   ],
   "source": [
    "plt.plot(*zip(*supply_curve3))\n",
    "plt.plot(*zip(*demand_curve1))\n",
    "plt.show()"
   ]
  },
  {
   "cell_type": "code",
   "execution_count": 21,
   "id": "5f080eec",
   "metadata": {
    "ExecuteTime": {
     "end_time": "2023-04-27T11:16:47.428794Z",
     "start_time": "2023-04-27T11:16:47.359975Z"
    }
   },
   "outputs": [
    {
     "name": "stdout",
     "output_type": "stream",
     "text": [
      "DEBUG orders=[timestamp=2023-04-27 11:16:44.867564+00:00 action=sell quantity=1.0 base_token=BTC limit_price=6.5 quote_token=ETH deposit_address=4 wallet_address=4, timestamp=2023-04-27 11:16:44.867617+00:00 action=sell quantity=1.0 base_token=BTC limit_price=7.0 quote_token=ETH deposit_address=3 wallet_address=3, timestamp=2023-04-27 11:16:44.867627+00:00 action=sell quantity=1.0 base_token=BTC limit_price=8.0 quote_token=ETH deposit_address=5 wallet_address=5, timestamp=2023-04-27 11:16:44.867634+00:00 action=sell quantity=1.0 base_token=BTC limit_price=8.5 quote_token=ETH deposit_address=8 wallet_address=8, timestamp=2023-04-27 11:15:49.295561+00:00 action=buy quantity=1.0 base_token=BTC limit_price=3.5 quote_token=ETH deposit_address=9 wallet_address=9, timestamp=2023-04-27 11:15:49.295604+00:00 action=buy quantity=1.0 base_token=BTC limit_price=2.5 quote_token=ETH deposit_address=8 wallet_address=8, timestamp=2023-04-27 11:15:49.295614+00:00 action=buy quantity=1.0 base_token=BTC limit_price=2.0 quote_token=ETH deposit_address=1 wallet_address=1, timestamp=2023-04-27 11:15:49.295622+00:00 action=buy quantity=1.0 base_token=BTC limit_price=1.5 quote_token=ETH deposit_address=1 wallet_address=1]\n",
      "DEBUG prices={'BTC': 1, 'ETH': 2}\n",
      "DEBUG /venv/lib/python3.8/site-packages/pulp/solverdir/cbc/linux/64/cbc /tmp/473ace8c824d4f5da89e4006bd370d31-pulp.mps max timeMode elapsed branch printingOptions all solution /tmp/473ace8c824d4f5da89e4006bd370d31-pulp.sol \n"
     ]
    },
    {
     "name": "stderr",
     "output_type": "stream",
     "text": [
      "/venv/lib/python3.8/site-packages/pulp/pulp.py:1352: UserWarning: Spaces are not permitted in the name. Converted to '_'\n",
      "  warnings.warn(\"Spaces are not permitted in the name. Converted to '_'\")\n"
     ]
    },
    {
     "data": {
      "text/html": [
       "<div>\n",
       "<style scoped>\n",
       "    .dataframe tbody tr th:only-of-type {\n",
       "        vertical-align: middle;\n",
       "    }\n",
       "\n",
       "    .dataframe tbody tr th {\n",
       "        vertical-align: top;\n",
       "    }\n",
       "\n",
       "    .dataframe thead th {\n",
       "        text-align: right;\n",
       "    }\n",
       "</style>\n",
       "<table border=\"1\" class=\"dataframe\">\n",
       "  <thead>\n",
       "    <tr style=\"text-align: right;\">\n",
       "      <th></th>\n",
       "      <th>timestamp</th>\n",
       "      <th>action</th>\n",
       "      <th>quantity</th>\n",
       "      <th>base_token</th>\n",
       "      <th>limit_price</th>\n",
       "      <th>quote_token</th>\n",
       "      <th>deposit_address</th>\n",
       "      <th>q_pi_star</th>\n",
       "      <th>q_tau_star</th>\n",
       "      <th>effective_price</th>\n",
       "    </tr>\n",
       "  </thead>\n",
       "  <tbody>\n",
       "    <tr>\n",
       "      <th>0</th>\n",
       "      <td>2023-04-27 11:16:44.867564+00:00</td>\n",
       "      <td>sell</td>\n",
       "      <td>1</td>\n",
       "      <td>BTC</td>\n",
       "      <td>6.5</td>\n",
       "      <td>ETH</td>\n",
       "      <td>4</td>\n",
       "      <td>0.0</td>\n",
       "      <td>0.0</td>\n",
       "      <td>NaN</td>\n",
       "    </tr>\n",
       "    <tr>\n",
       "      <th>1</th>\n",
       "      <td>2023-04-27 11:16:44.867617+00:00</td>\n",
       "      <td>sell</td>\n",
       "      <td>1</td>\n",
       "      <td>BTC</td>\n",
       "      <td>7.0</td>\n",
       "      <td>ETH</td>\n",
       "      <td>3</td>\n",
       "      <td>0.0</td>\n",
       "      <td>0.0</td>\n",
       "      <td>NaN</td>\n",
       "    </tr>\n",
       "    <tr>\n",
       "      <th>2</th>\n",
       "      <td>2023-04-27 11:16:44.867627+00:00</td>\n",
       "      <td>sell</td>\n",
       "      <td>1</td>\n",
       "      <td>BTC</td>\n",
       "      <td>8.0</td>\n",
       "      <td>ETH</td>\n",
       "      <td>5</td>\n",
       "      <td>0.0</td>\n",
       "      <td>0.0</td>\n",
       "      <td>NaN</td>\n",
       "    </tr>\n",
       "    <tr>\n",
       "      <th>3</th>\n",
       "      <td>2023-04-27 11:16:44.867634+00:00</td>\n",
       "      <td>sell</td>\n",
       "      <td>1</td>\n",
       "      <td>BTC</td>\n",
       "      <td>8.5</td>\n",
       "      <td>ETH</td>\n",
       "      <td>8</td>\n",
       "      <td>0.0</td>\n",
       "      <td>0.0</td>\n",
       "      <td>NaN</td>\n",
       "    </tr>\n",
       "    <tr>\n",
       "      <th>4</th>\n",
       "      <td>2023-04-27 11:15:49.295561+00:00</td>\n",
       "      <td>buy</td>\n",
       "      <td>1</td>\n",
       "      <td>BTC</td>\n",
       "      <td>3.5</td>\n",
       "      <td>ETH</td>\n",
       "      <td>9</td>\n",
       "      <td>0.0</td>\n",
       "      <td>0.0</td>\n",
       "      <td>NaN</td>\n",
       "    </tr>\n",
       "    <tr>\n",
       "      <th>5</th>\n",
       "      <td>2023-04-27 11:15:49.295604+00:00</td>\n",
       "      <td>buy</td>\n",
       "      <td>1</td>\n",
       "      <td>BTC</td>\n",
       "      <td>2.5</td>\n",
       "      <td>ETH</td>\n",
       "      <td>8</td>\n",
       "      <td>0.0</td>\n",
       "      <td>0.0</td>\n",
       "      <td>NaN</td>\n",
       "    </tr>\n",
       "    <tr>\n",
       "      <th>6</th>\n",
       "      <td>2023-04-27 11:15:49.295614+00:00</td>\n",
       "      <td>buy</td>\n",
       "      <td>1</td>\n",
       "      <td>BTC</td>\n",
       "      <td>2.0</td>\n",
       "      <td>ETH</td>\n",
       "      <td>1</td>\n",
       "      <td>0.0</td>\n",
       "      <td>0.0</td>\n",
       "      <td>NaN</td>\n",
       "    </tr>\n",
       "    <tr>\n",
       "      <th>7</th>\n",
       "      <td>2023-04-27 11:15:49.295622+00:00</td>\n",
       "      <td>buy</td>\n",
       "      <td>1</td>\n",
       "      <td>BTC</td>\n",
       "      <td>1.5</td>\n",
       "      <td>ETH</td>\n",
       "      <td>1</td>\n",
       "      <td>0.0</td>\n",
       "      <td>0.0</td>\n",
       "      <td>NaN</td>\n",
       "    </tr>\n",
       "  </tbody>\n",
       "</table>\n",
       "</div>"
      ],
      "text/plain": [
       "                         timestamp action  quantity base_token  limit_price quote_token  deposit_address  q_pi_star  q_tau_star  effective_price\n",
       "0 2023-04-27 11:16:44.867564+00:00   sell         1        BTC          6.5         ETH                4        0.0         0.0              NaN\n",
       "1 2023-04-27 11:16:44.867617+00:00   sell         1        BTC          7.0         ETH                3        0.0         0.0              NaN\n",
       "2 2023-04-27 11:16:44.867627+00:00   sell         1        BTC          8.0         ETH                5        0.0         0.0              NaN\n",
       "3 2023-04-27 11:16:44.867634+00:00   sell         1        BTC          8.5         ETH                8        0.0         0.0              NaN\n",
       "4 2023-04-27 11:15:49.295561+00:00    buy         1        BTC          3.5         ETH                9        0.0         0.0              NaN\n",
       "5 2023-04-27 11:15:49.295604+00:00    buy         1        BTC          2.5         ETH                8        0.0         0.0              NaN\n",
       "6 2023-04-27 11:15:49.295614+00:00    buy         1        BTC          2.0         ETH                1        0.0         0.0              NaN\n",
       "7 2023-04-27 11:15:49.295622+00:00    buy         1        BTC          1.5         ETH                1        0.0         0.0              NaN"
      ]
     },
     "metadata": {},
     "output_type": "display_data"
    }
   ],
   "source": [
    "all_orders3 = supply_orders3 + demand_orders1\n",
    "daocross_results3 = ddacropt.run_daocross_solver(all_orders3, prices)\n",
    "display(daocross_results3)"
   ]
  },
  {
   "cell_type": "code",
   "execution_count": 22,
   "id": "d84a94aa",
   "metadata": {
    "ExecuteTime": {
     "end_time": "2023-04-27T11:16:54.101301Z",
     "start_time": "2023-04-27T11:16:54.025752Z"
    }
   },
   "outputs": [
    {
     "name": "stdout",
     "output_type": "stream",
     "text": [
      "DEBUG orders=[timestamp=2023-04-27 11:16:44.867564+00:00 action=sell quantity=1.0 base_token=BTC limit_price=6.5 quote_token=ETH deposit_address=4 wallet_address=4, timestamp=2023-04-27 11:16:44.867617+00:00 action=sell quantity=1.0 base_token=BTC limit_price=7.0 quote_token=ETH deposit_address=3 wallet_address=3, timestamp=2023-04-27 11:16:44.867627+00:00 action=sell quantity=1.0 base_token=BTC limit_price=8.0 quote_token=ETH deposit_address=5 wallet_address=5, timestamp=2023-04-27 11:16:44.867634+00:00 action=sell quantity=1.0 base_token=BTC limit_price=8.5 quote_token=ETH deposit_address=8 wallet_address=8, timestamp=2023-04-27 11:15:49.295561+00:00 action=buy quantity=1.0 base_token=BTC limit_price=3.5 quote_token=ETH deposit_address=9 wallet_address=9, timestamp=2023-04-27 11:15:49.295604+00:00 action=buy quantity=1.0 base_token=BTC limit_price=2.5 quote_token=ETH deposit_address=8 wallet_address=8, timestamp=2023-04-27 11:15:49.295614+00:00 action=buy quantity=1.0 base_token=BTC limit_price=2.0 quote_token=ETH deposit_address=1 wallet_address=1, timestamp=2023-04-27 11:15:49.295622+00:00 action=buy quantity=1.0 base_token=BTC limit_price=1.5 quote_token=ETH deposit_address=1 wallet_address=1]\n",
      "DEBUG /venv/lib/python3.8/site-packages/pulp/solverdir/cbc/linux/64/cbc /tmp/9f4dffbd0b254e7ba27fd012fde3240c-pulp.mps max timeMode elapsed branch printingOptions all solution /tmp/9f4dffbd0b254e7ba27fd012fde3240c-pulp.sol \n",
      "Welcome to the CBC MILP Solver \n",
      "Version: 2.10.3 \n",
      "Build Date: Dec 15 2019 \n",
      "\n",
      "command line - /venv/lib/python3.8/site-packages/pulp/solverdir/cbc/linux/64/cbc /tmp/9f4dffbd0b254e7ba27fd012fde3240c-pulp.mps max timeMode elapsed branch printingOptions all solution /tmp/9f4dffbd0b254e7ba27fd012fde3240c-pulp.sol (default strategy 1)\n",
      "At line 2 NAME          MODEL\n",
      "At line 3 ROWS\n",
      "At line 23 COLUMNS\n",
      "At line 80 RHS\n",
      "At line 99 BOUNDS\n",
      "At line 100 ENDATA\n",
      "Problem MODEL has 18 rows, 16 columns and 40 elements\n",
      "Coin0008I MODEL read with 0 errors\n",
      "Option for timeMode changed from cpu to elapsed\n",
      "Presolve 2 (-16) rows, 8 (-8) columns and 16 (-24) elements\n",
      "0  Obj -0 Dual inf 16.466838 (8)\n",
      "3  Obj -0\n",
      "Optimal - objective value 0\n",
      "After Postsolve, objective 0, infeasibilities - dual 0 (0), primal 0 (0)\n",
      "Optimal objective 0 - 3 iterations time 0.002, Presolve 0.00\n",
      "Option for printingOptions changed from normal to all\n",
      "Total time (CPU seconds):       0.00   (Wallclock seconds):       0.00\n",
      "\n"
     ]
    },
    {
     "name": "stderr",
     "output_type": "stream",
     "text": [
      "/venv/lib/python3.8/site-packages/pulp/pulp.py:1352: UserWarning: Spaces are not permitted in the name. Converted to '_'\n",
      "  warnings.warn(\"Spaces are not permitted in the name. Converted to '_'\")\n"
     ]
    },
    {
     "data": {
      "text/html": [
       "<div>\n",
       "<style scoped>\n",
       "    .dataframe tbody tr th:only-of-type {\n",
       "        vertical-align: middle;\n",
       "    }\n",
       "\n",
       "    .dataframe tbody tr th {\n",
       "        vertical-align: top;\n",
       "    }\n",
       "\n",
       "    .dataframe thead th {\n",
       "        text-align: right;\n",
       "    }\n",
       "</style>\n",
       "<table border=\"1\" class=\"dataframe\">\n",
       "  <thead>\n",
       "    <tr style=\"text-align: right;\">\n",
       "      <th></th>\n",
       "      <th>timestamp</th>\n",
       "      <th>action</th>\n",
       "      <th>quantity</th>\n",
       "      <th>base_token</th>\n",
       "      <th>limit_price</th>\n",
       "      <th>quote_token</th>\n",
       "      <th>deposit_address</th>\n",
       "      <th>q_pi_star</th>\n",
       "      <th>q_tau_star</th>\n",
       "      <th>effective_price</th>\n",
       "    </tr>\n",
       "  </thead>\n",
       "  <tbody>\n",
       "    <tr>\n",
       "      <th>0</th>\n",
       "      <td>2023-04-27 11:16:44.867564+00:00</td>\n",
       "      <td>sell</td>\n",
       "      <td>1</td>\n",
       "      <td>BTC</td>\n",
       "      <td>6.5</td>\n",
       "      <td>ETH</td>\n",
       "      <td>4</td>\n",
       "      <td>0.0</td>\n",
       "      <td>-0.0</td>\n",
       "      <td>NaN</td>\n",
       "    </tr>\n",
       "    <tr>\n",
       "      <th>1</th>\n",
       "      <td>2023-04-27 11:16:44.867617+00:00</td>\n",
       "      <td>sell</td>\n",
       "      <td>1</td>\n",
       "      <td>BTC</td>\n",
       "      <td>7.0</td>\n",
       "      <td>ETH</td>\n",
       "      <td>3</td>\n",
       "      <td>0.0</td>\n",
       "      <td>-0.0</td>\n",
       "      <td>NaN</td>\n",
       "    </tr>\n",
       "    <tr>\n",
       "      <th>2</th>\n",
       "      <td>2023-04-27 11:16:44.867627+00:00</td>\n",
       "      <td>sell</td>\n",
       "      <td>1</td>\n",
       "      <td>BTC</td>\n",
       "      <td>8.0</td>\n",
       "      <td>ETH</td>\n",
       "      <td>5</td>\n",
       "      <td>0.0</td>\n",
       "      <td>-0.0</td>\n",
       "      <td>NaN</td>\n",
       "    </tr>\n",
       "    <tr>\n",
       "      <th>3</th>\n",
       "      <td>2023-04-27 11:16:44.867634+00:00</td>\n",
       "      <td>sell</td>\n",
       "      <td>1</td>\n",
       "      <td>BTC</td>\n",
       "      <td>8.5</td>\n",
       "      <td>ETH</td>\n",
       "      <td>8</td>\n",
       "      <td>0.0</td>\n",
       "      <td>-0.0</td>\n",
       "      <td>NaN</td>\n",
       "    </tr>\n",
       "    <tr>\n",
       "      <th>4</th>\n",
       "      <td>2023-04-27 11:15:49.295561+00:00</td>\n",
       "      <td>buy</td>\n",
       "      <td>1</td>\n",
       "      <td>BTC</td>\n",
       "      <td>3.5</td>\n",
       "      <td>ETH</td>\n",
       "      <td>9</td>\n",
       "      <td>0.0</td>\n",
       "      <td>0.0</td>\n",
       "      <td>NaN</td>\n",
       "    </tr>\n",
       "    <tr>\n",
       "      <th>5</th>\n",
       "      <td>2023-04-27 11:15:49.295604+00:00</td>\n",
       "      <td>buy</td>\n",
       "      <td>1</td>\n",
       "      <td>BTC</td>\n",
       "      <td>2.5</td>\n",
       "      <td>ETH</td>\n",
       "      <td>8</td>\n",
       "      <td>0.0</td>\n",
       "      <td>0.0</td>\n",
       "      <td>NaN</td>\n",
       "    </tr>\n",
       "    <tr>\n",
       "      <th>6</th>\n",
       "      <td>2023-04-27 11:15:49.295614+00:00</td>\n",
       "      <td>buy</td>\n",
       "      <td>1</td>\n",
       "      <td>BTC</td>\n",
       "      <td>2.0</td>\n",
       "      <td>ETH</td>\n",
       "      <td>1</td>\n",
       "      <td>0.0</td>\n",
       "      <td>0.0</td>\n",
       "      <td>NaN</td>\n",
       "    </tr>\n",
       "    <tr>\n",
       "      <th>7</th>\n",
       "      <td>2023-04-27 11:15:49.295622+00:00</td>\n",
       "      <td>buy</td>\n",
       "      <td>1</td>\n",
       "      <td>BTC</td>\n",
       "      <td>1.5</td>\n",
       "      <td>ETH</td>\n",
       "      <td>1</td>\n",
       "      <td>0.0</td>\n",
       "      <td>0.0</td>\n",
       "      <td>NaN</td>\n",
       "    </tr>\n",
       "  </tbody>\n",
       "</table>\n",
       "</div>"
      ],
      "text/plain": [
       "                         timestamp action  quantity base_token  limit_price quote_token  deposit_address  q_pi_star  q_tau_star  effective_price\n",
       "0 2023-04-27 11:16:44.867564+00:00   sell         1        BTC          6.5         ETH                4        0.0        -0.0              NaN\n",
       "1 2023-04-27 11:16:44.867617+00:00   sell         1        BTC          7.0         ETH                3        0.0        -0.0              NaN\n",
       "2 2023-04-27 11:16:44.867627+00:00   sell         1        BTC          8.0         ETH                5        0.0        -0.0              NaN\n",
       "3 2023-04-27 11:16:44.867634+00:00   sell         1        BTC          8.5         ETH                8        0.0        -0.0              NaN\n",
       "4 2023-04-27 11:15:49.295561+00:00    buy         1        BTC          3.5         ETH                9        0.0         0.0              NaN\n",
       "5 2023-04-27 11:15:49.295604+00:00    buy         1        BTC          2.5         ETH                8        0.0         0.0              NaN\n",
       "6 2023-04-27 11:15:49.295614+00:00    buy         1        BTC          2.0         ETH                1        0.0         0.0              NaN\n",
       "7 2023-04-27 11:15:49.295622+00:00    buy         1        BTC          1.5         ETH                1        0.0         0.0              NaN"
      ]
     },
     "metadata": {},
     "output_type": "display_data"
    }
   ],
   "source": [
    "daoswap_results3 = ddacropt.run_daoswap_solver(all_orders3)\n",
    "display(daoswap_results3)"
   ]
  },
  {
   "cell_type": "code",
   "execution_count": null,
   "id": "d3f7f947",
   "metadata": {},
   "outputs": [],
   "source": []
  }
 ],
 "metadata": {
  "kernelspec": {
   "display_name": "Python 3 (ipykernel)",
   "language": "python",
   "name": "python3"
  },
  "language_info": {
   "codemirror_mode": {
    "name": "ipython",
    "version": 3
   },
   "file_extension": ".py",
   "mimetype": "text/x-python",
   "name": "python",
   "nbconvert_exporter": "python",
   "pygments_lexer": "ipython3",
   "version": "3.8.10"
  },
  "toc": {
   "base_numbering": 1,
   "nav_menu": {},
   "number_sections": true,
   "sideBar": true,
   "skip_h1_title": false,
   "title_cell": "Table of Contents",
   "title_sidebar": "Contents",
   "toc_cell": false,
   "toc_position": {},
   "toc_section_display": true,
   "toc_window_display": false
  }
 },
 "nbformat": 4,
 "nbformat_minor": 5
}
