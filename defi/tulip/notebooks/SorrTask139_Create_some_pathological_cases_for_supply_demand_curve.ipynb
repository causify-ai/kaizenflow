{
 "cells": [
  {
   "cell_type": "code",
   "execution_count": 1,
   "id": "36db1d0e",
   "metadata": {
    "ExecuteTime": {
     "end_time": "2023-05-04T09:03:22.230052Z",
     "start_time": "2023-05-04T09:03:21.273140Z"
    }
   },
   "outputs": [],
   "source": [
    "%load_ext autoreload\n",
    "%autoreload 2\n",
    "\n",
    "import logging\n",
    "import pandas as pd\n",
    "import matplotlib as mpl\n",
    "import matplotlib.pyplot as plt\n",
    "\n",
    "import helpers.hdbg as hdbg\n",
    "import helpers.henv as henv\n",
    "import helpers.hprint as hprint\n",
    "import defi.dao_cross.supply_demand as ddcrsede\n",
    "import defi.dao_cross.order as ddacrord"
   ]
  },
  {
   "cell_type": "code",
   "execution_count": 2,
   "id": "e9c26205",
   "metadata": {
    "ExecuteTime": {
     "end_time": "2023-05-04T09:03:22.319942Z",
     "start_time": "2023-05-04T09:03:22.232973Z"
    }
   },
   "outputs": [],
   "source": [
    "try:\n",
    "    import pulp\n",
    "except ImportError:\n",
    "    !sudo /bin/bash -c \"(source /venv/bin/activate; pip install pulp)\"\n",
    "    import pulp\n",
    "import defi.dao_cross.optimize as ddacropt"
   ]
  },
  {
   "cell_type": "code",
   "execution_count": 3,
   "id": "0eb3cb72",
   "metadata": {
    "ExecuteTime": {
     "end_time": "2023-05-04T09:03:23.933518Z",
     "start_time": "2023-05-04T09:03:22.322012Z"
    },
    "scrolled": true
   },
   "outputs": [
    {
     "name": "stdout",
     "output_type": "stream",
     "text": [
      "\u001b[0m\u001b[36mINFO\u001b[0m: > cmd='/venv/lib/python3.8/site-packages/ipykernel_launcher.py -f /home/.local/share/jupyter/runtime/kernel-e0766704-ba82-43b1-9099-26247b43128f.json'\n",
      "WARNING: Running in Jupyter\n",
      "DEBUG Effective logging level=10\n",
      "DEBUG Shut up 28 modules: matplotlib.ticker, matplotlib, matplotlib.mathtext, matplotlib.style, matplotlib.dates, matplotlib.axes._base, matplotlib._afm, matplotlib.texmanager, matplotlib.category, matplotlib.gridspec, matplotlib.backend_bases, matplotlib.axes._axes, matplotlib.colorbar, matplotlib.font_manager, matplotlib.axes, matplotlib._constrained_layout, matplotlib.dviread, asyncio, matplotlib.lines, matplotlib.figure, matplotlib.style.core, matplotlib.artist, matplotlib.axis, matplotlib.image, matplotlib.text, matplotlib._layoutgrid, matplotlib.pyplot, matplotlib.textpath\n",
      "DEBUG > (cd . && cd \"$(git rev-parse --show-toplevel)/..\" && (git rev-parse --is-inside-work-tree | grep -q true)) 2>&1\n",
      "DEBUG > (git rev-parse --show-toplevel) 2>&1\n",
      "\u001b[31m-----------------------------------------------------------------------------\n",
      "This code is not in sync with the container:\n",
      "code_version='1.4.1' != container_version='1.4.0'\n",
      "-----------------------------------------------------------------------------\n",
      "You need to:\n",
      "- merge origin/master into your branch with `invoke git_merge_master`\n",
      "- pull the latest container with `invoke docker_pull`\u001b[0m\n",
      "DEBUG > (git branch --show-current) 2>&1\n",
      "DEBUG > (git rev-parse --short HEAD) 2>&1\n",
      "DEBUG > (git log --date=local --oneline --graph --date-order --decorate --pretty=format:'%h %<(8)%aN%  %<(65)%s (%>(14)%ar) %ad %<(10)%d' -3) 2>&1\n",
      "INFO  # Git\n",
      "  branch_name='SorrTask154_Refine_supply_demand_functions'\n",
      "  hash='10bebc95f'\n",
      "  # Last commits:\n",
      "    * 10bebc95f dan      SorrTask154: Refine supply/demand funcs                           (  24 hours ago) Wed May 3 09:24:00 2023  (HEAD -> SorrTask154_Refine_supply_demand_functions, origin/SorrTask154_Refine_supply_demand_functions)\n",
      "    * a5b659b15 DanilYachmenev SorrTask154: Create linear supply/demand curves (#177)            (  25 hours ago) Wed May 3 08:10:59 2023  (origin/master, origin/HEAD, master)\n",
      "    * 5f4a548df Toma Jordania SorrTask148: clean and lint DaoCross (#191)                       (    3 days ago) Mon May 1 16:23:55 2023  (origin/Team8_4)\n",
      "# Machine info\n",
      "  system=Linux\n",
      "  node name=4dadcad084d5\n",
      "  release=5.15.0-1033-aws\n",
      "  version=#37~20.04.1-Ubuntu SMP Fri Mar 17 11:39:30 UTC 2023\n",
      "  machine=x86_64\n",
      "  processor=x86_64\n",
      "  cpu count=8\n",
      "  cpu freq=scpufreq(current=2499.998, min=0.0, max=0.0)\n",
      "  memory=svmem(total=33292873728, available=29607518208, percent=11.1, used=3222237184, free=7971819520, active=9624911872, inactive=12405145600, buffers=1725579264, cached=20373237760, shared=2256896, slab=3057610752)\n",
      "  disk usage=sdiskusage(total=156052275200, used=48369225728, free=107666272256, percent=31.0)\n",
      "# Packages\n",
      "  python: 3.8.10\n",
      "  cvxopt: 1.3.0\n",
      "  cvxpy: 1.2.2\n",
      "  gluonnlp: ?\n",
      "  gluonts: 0.6.7\n",
      "  joblib: 1.2.0\n",
      "  mxnet: 1.9.1\n",
      "  numpy: 1.23.4\n",
      "  pandas: 1.5.1\n",
      "  pyarrow: 10.0.0\n",
      "  scipy: 1.9.3\n",
      "  seaborn: 0.12.1\n",
      "  sklearn: 1.1.3\n",
      "  statsmodels: 0.13.5\n"
     ]
    }
   ],
   "source": [
    "hdbg.init_logger(verbosity=logging.DEBUG)\n",
    "\n",
    "_LOG = logging.getLogger(__name__)\n",
    "\n",
    "_LOG.info(\"%s\", henv.get_system_signature()[0])\n",
    "\n",
    "hprint.config_notebook()"
   ]
  },
  {
   "cell_type": "markdown",
   "id": "1023c274",
   "metadata": {},
   "source": [
    "# Pathological cases"
   ]
  },
  {
   "cell_type": "markdown",
   "id": "00b5be6d",
   "metadata": {
    "ExecuteTime": {
     "end_time": "2023-04-20T23:17:01.134049Z",
     "start_time": "2023-04-20T23:17:01.111611Z"
    }
   },
   "source": [
    "## Get orders and set prices."
   ]
  },
  {
   "cell_type": "code",
   "execution_count": 4,
   "id": "a585270c",
   "metadata": {
    "ExecuteTime": {
     "end_time": "2023-05-04T09:03:23.970060Z",
     "start_time": "2023-05-04T09:03:23.937567Z"
    }
   },
   "outputs": [
    {
     "data": {
      "text/plain": [
       "0.0    1.500\n",
       "1.0    1.500\n",
       "1.0    2.000\n",
       "2.0    2.000\n",
       "2.0    3.000\n",
       "3.0    3.000\n",
       "3.0    3.500\n",
       "4.0    3.500\n",
       "4.0    4.375\n",
       "Name: supply, dtype: float64"
      ]
     },
     "execution_count": 4,
     "metadata": {},
     "output_type": "execute_result"
    }
   ],
   "source": [
    "discrete_supply_curve = pd.Series(\n",
    "    index=[0.0, 1.0, 1.0, 2.0, 2.0, 3.0, 3.0, 4.0, 4.0],\n",
    "    data=[1.5, 1.5, 2.0, 2.0, 3.0, 3.0, 3.5, 3.5, 4.375],\n",
    "    name=\"supply\",\n",
    ")\n",
    "discrete_supply_curve"
   ]
  },
  {
   "cell_type": "code",
   "execution_count": 5,
   "id": "87d15a78",
   "metadata": {
    "ExecuteTime": {
     "end_time": "2023-05-04T09:03:24.015840Z",
     "start_time": "2023-05-04T09:03:23.973635Z"
    }
   },
   "outputs": [
    {
     "data": {
      "text/html": [
       "<div>\n",
       "<style scoped>\n",
       "    .dataframe tbody tr th:only-of-type {\n",
       "        vertical-align: middle;\n",
       "    }\n",
       "\n",
       "    .dataframe tbody tr th {\n",
       "        vertical-align: top;\n",
       "    }\n",
       "\n",
       "    .dataframe thead th {\n",
       "        text-align: right;\n",
       "    }\n",
       "</style>\n",
       "<table border=\"1\" class=\"dataframe\">\n",
       "  <thead>\n",
       "    <tr style=\"text-align: right;\">\n",
       "      <th></th>\n",
       "      <th>timestamp</th>\n",
       "      <th>action</th>\n",
       "      <th>quantity</th>\n",
       "      <th>base_token</th>\n",
       "      <th>limit_price</th>\n",
       "      <th>quote_token</th>\n",
       "      <th>deposit_address</th>\n",
       "    </tr>\n",
       "  </thead>\n",
       "  <tbody>\n",
       "    <tr>\n",
       "      <th>0</th>\n",
       "      <td>2023-05-04 09:03:23.997474+00:00</td>\n",
       "      <td>sell</td>\n",
       "      <td>1</td>\n",
       "      <td>BTC</td>\n",
       "      <td>1.5</td>\n",
       "      <td>ETH</td>\n",
       "      <td>2</td>\n",
       "    </tr>\n",
       "    <tr>\n",
       "      <th>1</th>\n",
       "      <td>2023-05-04 09:03:23.997558+00:00</td>\n",
       "      <td>sell</td>\n",
       "      <td>1</td>\n",
       "      <td>BTC</td>\n",
       "      <td>2.0</td>\n",
       "      <td>ETH</td>\n",
       "      <td>1</td>\n",
       "    </tr>\n",
       "    <tr>\n",
       "      <th>2</th>\n",
       "      <td>2023-05-04 09:03:23.997570+00:00</td>\n",
       "      <td>sell</td>\n",
       "      <td>1</td>\n",
       "      <td>BTC</td>\n",
       "      <td>3.0</td>\n",
       "      <td>ETH</td>\n",
       "      <td>5</td>\n",
       "    </tr>\n",
       "    <tr>\n",
       "      <th>3</th>\n",
       "      <td>2023-05-04 09:03:23.997579+00:00</td>\n",
       "      <td>sell</td>\n",
       "      <td>1</td>\n",
       "      <td>BTC</td>\n",
       "      <td>3.5</td>\n",
       "      <td>ETH</td>\n",
       "      <td>4</td>\n",
       "    </tr>\n",
       "  </tbody>\n",
       "</table>\n",
       "</div>"
      ],
      "text/plain": [
       "                         timestamp action  quantity base_token  limit_price quote_token  deposit_address\n",
       "0 2023-05-04 09:03:23.997474+00:00   sell         1        BTC          1.5         ETH                2\n",
       "1 2023-05-04 09:03:23.997558+00:00   sell         1        BTC          2.0         ETH                1\n",
       "2 2023-05-04 09:03:23.997570+00:00   sell         1        BTC          3.0         ETH                5\n",
       "3 2023-05-04 09:03:23.997579+00:00   sell         1        BTC          3.5         ETH                4"
      ]
     },
     "execution_count": 5,
     "metadata": {},
     "output_type": "execute_result"
    }
   ],
   "source": [
    "supply_orders1 = ddcrsede.convert_discrete_curve_to_limit_orders(discrete_supply_curve)\n",
    "supply_orders_df1 = ddacrord.convert_orders_to_dataframe(supply_orders1)\n",
    "supply_orders_df1"
   ]
  },
  {
   "cell_type": "code",
   "execution_count": 6,
   "id": "58c0bc91",
   "metadata": {
    "ExecuteTime": {
     "end_time": "2023-05-04T09:03:24.047033Z",
     "start_time": "2023-05-04T09:03:24.017811Z"
    }
   },
   "outputs": [
    {
     "data": {
      "text/plain": [
       "0.0    3.5\n",
       "1.0    3.5\n",
       "1.0    2.5\n",
       "2.0    2.5\n",
       "2.0    2.0\n",
       "3.0    2.0\n",
       "3.0    1.5\n",
       "4.0    1.5\n",
       "4.0    0.0\n",
       "Name: demand, dtype: float64"
      ]
     },
     "execution_count": 6,
     "metadata": {},
     "output_type": "execute_result"
    }
   ],
   "source": [
    "discrete_demand_curve = pd.Series(\n",
    "    index=[0.0, 1.0, 1.0, 2.0, 2.0, 3.0, 3.0, 4.0, 4.0],\n",
    "    data=[3.5, 3.5, 2.5, 2.5, 2.0, 2.0, 1.5, 1.5, 0.0],\n",
    "    name=\"demand\",\n",
    ")\n",
    "discrete_demand_curve"
   ]
  },
  {
   "cell_type": "code",
   "execution_count": 7,
   "id": "ed657c58",
   "metadata": {
    "ExecuteTime": {
     "end_time": "2023-05-04T09:03:24.088823Z",
     "start_time": "2023-05-04T09:03:24.049420Z"
    }
   },
   "outputs": [
    {
     "data": {
      "text/html": [
       "<div>\n",
       "<style scoped>\n",
       "    .dataframe tbody tr th:only-of-type {\n",
       "        vertical-align: middle;\n",
       "    }\n",
       "\n",
       "    .dataframe tbody tr th {\n",
       "        vertical-align: top;\n",
       "    }\n",
       "\n",
       "    .dataframe thead th {\n",
       "        text-align: right;\n",
       "    }\n",
       "</style>\n",
       "<table border=\"1\" class=\"dataframe\">\n",
       "  <thead>\n",
       "    <tr style=\"text-align: right;\">\n",
       "      <th></th>\n",
       "      <th>timestamp</th>\n",
       "      <th>action</th>\n",
       "      <th>quantity</th>\n",
       "      <th>base_token</th>\n",
       "      <th>limit_price</th>\n",
       "      <th>quote_token</th>\n",
       "      <th>deposit_address</th>\n",
       "    </tr>\n",
       "  </thead>\n",
       "  <tbody>\n",
       "    <tr>\n",
       "      <th>0</th>\n",
       "      <td>2023-05-04 09:03:24.073046+00:00</td>\n",
       "      <td>buy</td>\n",
       "      <td>1</td>\n",
       "      <td>BTC</td>\n",
       "      <td>3.5</td>\n",
       "      <td>ETH</td>\n",
       "      <td>2</td>\n",
       "    </tr>\n",
       "    <tr>\n",
       "      <th>1</th>\n",
       "      <td>2023-05-04 09:03:24.073102+00:00</td>\n",
       "      <td>buy</td>\n",
       "      <td>1</td>\n",
       "      <td>BTC</td>\n",
       "      <td>2.5</td>\n",
       "      <td>ETH</td>\n",
       "      <td>1</td>\n",
       "    </tr>\n",
       "    <tr>\n",
       "      <th>2</th>\n",
       "      <td>2023-05-04 09:03:24.073112+00:00</td>\n",
       "      <td>buy</td>\n",
       "      <td>1</td>\n",
       "      <td>BTC</td>\n",
       "      <td>2.0</td>\n",
       "      <td>ETH</td>\n",
       "      <td>5</td>\n",
       "    </tr>\n",
       "    <tr>\n",
       "      <th>3</th>\n",
       "      <td>2023-05-04 09:03:24.073119+00:00</td>\n",
       "      <td>buy</td>\n",
       "      <td>1</td>\n",
       "      <td>BTC</td>\n",
       "      <td>1.5</td>\n",
       "      <td>ETH</td>\n",
       "      <td>4</td>\n",
       "    </tr>\n",
       "  </tbody>\n",
       "</table>\n",
       "</div>"
      ],
      "text/plain": [
       "                         timestamp action  quantity base_token  limit_price quote_token  deposit_address\n",
       "0 2023-05-04 09:03:24.073046+00:00    buy         1        BTC          3.5         ETH                2\n",
       "1 2023-05-04 09:03:24.073102+00:00    buy         1        BTC          2.5         ETH                1\n",
       "2 2023-05-04 09:03:24.073112+00:00    buy         1        BTC          2.0         ETH                5\n",
       "3 2023-05-04 09:03:24.073119+00:00    buy         1        BTC          1.5         ETH                4"
      ]
     },
     "execution_count": 7,
     "metadata": {},
     "output_type": "execute_result"
    }
   ],
   "source": [
    "demand_orders1 = ddcrsede.convert_discrete_curve_to_limit_orders(discrete_demand_curve)\n",
    "demand_orders_df1 = ddacrord.convert_orders_to_dataframe(demand_orders1)\n",
    "demand_orders_df1"
   ]
  },
  {
   "cell_type": "code",
   "execution_count": 8,
   "id": "137417df",
   "metadata": {
    "ExecuteTime": {
     "end_time": "2023-05-04T09:03:24.116410Z",
     "start_time": "2023-05-04T09:03:24.091251Z"
    }
   },
   "outputs": [],
   "source": [
    "prices = {\"BTC\": 1, \"ETH\": 2}"
   ]
  },
  {
   "cell_type": "markdown",
   "id": "47cb4802",
   "metadata": {},
   "source": [
    "## Multiple intersection points at quantity Q'"
   ]
  },
  {
   "cell_type": "code",
   "execution_count": 9,
   "id": "43072bea",
   "metadata": {
    "ExecuteTime": {
     "end_time": "2023-05-04T09:03:24.149815Z",
     "start_time": "2023-05-04T09:03:24.118855Z"
    }
   },
   "outputs": [
    {
     "data": {
      "text/plain": [
       "0    1.500\n",
       "1    1.500\n",
       "1    2.000\n",
       "2    2.000\n",
       "2    3.000\n",
       "3    3.000\n",
       "3    3.500\n",
       "4    3.500\n",
       "4    4.375\n",
       "Name: supply, dtype: float64"
      ]
     },
     "execution_count": 9,
     "metadata": {},
     "output_type": "execute_result"
    }
   ],
   "source": [
    "type_ = \"supply\"\n",
    "supply_curve1 = ddcrsede.get_supply_demand_discrete_curve(type_, supply_orders_df1)\n",
    "supply_curve1"
   ]
  },
  {
   "cell_type": "code",
   "execution_count": 10,
   "id": "1881feb1",
   "metadata": {
    "ExecuteTime": {
     "end_time": "2023-05-04T09:03:24.181533Z",
     "start_time": "2023-05-04T09:03:24.151942Z"
    },
    "run_control": {
     "marked": false
    }
   },
   "outputs": [
    {
     "data": {
      "text/plain": [
       "0    3.5\n",
       "1    3.5\n",
       "1    2.5\n",
       "2    2.5\n",
       "2    2.0\n",
       "3    2.0\n",
       "3    1.5\n",
       "4    1.5\n",
       "4    0.0\n",
       "Name: demand, dtype: float64"
      ]
     },
     "execution_count": 10,
     "metadata": {},
     "output_type": "execute_result"
    }
   ],
   "source": [
    "type_ = \"demand\"\n",
    "demand_curve1 = ddcrsede.get_supply_demand_discrete_curve(type_, demand_orders_df1)\n",
    "demand_curve1"
   ]
  },
  {
   "cell_type": "code",
   "execution_count": 11,
   "id": "0d66115d",
   "metadata": {
    "ExecuteTime": {
     "end_time": "2023-05-04T09:03:24.463031Z",
     "start_time": "2023-05-04T09:03:24.184166Z"
    }
   },
   "outputs": [
    {
     "data": {
      "image/png": "[encoded data removed]",
      "text/plain": [
       "<Figure size 2000x500 with 1 Axes>"
      ]
     },
     "metadata": {},
     "output_type": "display_data"
    }
   ],
   "source": [
    "plt.plot(supply_curve1)\n",
    "plt.plot(demand_curve1)\n",
    "plt.show()"
   ]
  },
  {
   "cell_type": "code",
   "execution_count": 12,
   "id": "a30962fe",
   "metadata": {
    "ExecuteTime": {
     "end_time": "2023-05-04T09:03:24.539137Z",
     "start_time": "2023-05-04T09:03:24.465591Z"
    },
    "run_control": {
     "marked": false
    }
   },
   "outputs": [
    {
     "name": "stdout",
     "output_type": "stream",
     "text": [
      "DEBUG orders=[timestamp=2023-05-04 09:03:23.997474+00:00 action=sell quantity=1.0 base_token=BTC limit_price=1.5 quote_token=ETH deposit_address=2 wallet_address=2, timestamp=2023-05-04 09:03:23.997558+00:00 action=sell quantity=1.0 base_token=BTC limit_price=2.0 quote_token=ETH deposit_address=1 wallet_address=1, timestamp=2023-05-04 09:03:23.997570+00:00 action=sell quantity=1.0 base_token=BTC limit_price=3.0 quote_token=ETH deposit_address=5 wallet_address=5, timestamp=2023-05-04 09:03:23.997579+00:00 action=sell quantity=1.0 base_token=BTC limit_price=3.5 quote_token=ETH deposit_address=4 wallet_address=4, timestamp=2023-05-04 09:03:24.073046+00:00 action=buy quantity=1.0 base_token=BTC limit_price=3.5 quote_token=ETH deposit_address=2 wallet_address=2, timestamp=2023-05-04 09:03:24.073102+00:00 action=buy quantity=1.0 base_token=BTC limit_price=2.5 quote_token=ETH deposit_address=1 wallet_address=1, timestamp=2023-05-04 09:03:24.073112+00:00 action=buy quantity=1.0 base_token=BTC limit_price=2.0 quote_token=ETH deposit_address=5 wallet_address=5, timestamp=2023-05-04 09:03:24.073119+00:00 action=buy quantity=1.0 base_token=BTC limit_price=1.5 quote_token=ETH deposit_address=4 wallet_address=4]\n",
      "DEBUG prices={'BTC': 1, 'ETH': 2}\n",
      "DEBUG /venv/lib/python3.8/site-packages/pulp/solverdir/cbc/linux/64/cbc /tmp/772b14cd51194f87a937f3d06fc1667c-pulp.mps max timeMode elapsed branch printingOptions all solution /tmp/772b14cd51194f87a937f3d06fc1667c-pulp.sol \n"
     ]
    },
    {
     "data": {
      "text/html": [
       "<div>\n",
       "<style scoped>\n",
       "    .dataframe tbody tr th:only-of-type {\n",
       "        vertical-align: middle;\n",
       "    }\n",
       "\n",
       "    .dataframe tbody tr th {\n",
       "        vertical-align: top;\n",
       "    }\n",
       "\n",
       "    .dataframe thead th {\n",
       "        text-align: right;\n",
       "    }\n",
       "</style>\n",
       "<table border=\"1\" class=\"dataframe\">\n",
       "  <thead>\n",
       "    <tr style=\"text-align: right;\">\n",
       "      <th></th>\n",
       "      <th>timestamp</th>\n",
       "      <th>action</th>\n",
       "      <th>quantity</th>\n",
       "      <th>base_token</th>\n",
       "      <th>limit_price</th>\n",
       "      <th>quote_token</th>\n",
       "      <th>deposit_address</th>\n",
       "      <th>q_pi_star</th>\n",
       "      <th>q_tau_star</th>\n",
       "      <th>effective_price</th>\n",
       "    </tr>\n",
       "  </thead>\n",
       "  <tbody>\n",
       "    <tr>\n",
       "      <th>0</th>\n",
       "      <td>2023-05-04 09:03:23.997474+00:00</td>\n",
       "      <td>sell</td>\n",
       "      <td>1</td>\n",
       "      <td>BTC</td>\n",
       "      <td>1.5</td>\n",
       "      <td>ETH</td>\n",
       "      <td>2</td>\n",
       "      <td>1.0</td>\n",
       "      <td>2.0</td>\n",
       "      <td>2.0</td>\n",
       "    </tr>\n",
       "    <tr>\n",
       "      <th>1</th>\n",
       "      <td>2023-05-04 09:03:23.997558+00:00</td>\n",
       "      <td>sell</td>\n",
       "      <td>1</td>\n",
       "      <td>BTC</td>\n",
       "      <td>2.0</td>\n",
       "      <td>ETH</td>\n",
       "      <td>1</td>\n",
       "      <td>1.0</td>\n",
       "      <td>2.0</td>\n",
       "      <td>2.0</td>\n",
       "    </tr>\n",
       "    <tr>\n",
       "      <th>2</th>\n",
       "      <td>2023-05-04 09:03:23.997570+00:00</td>\n",
       "      <td>sell</td>\n",
       "      <td>1</td>\n",
       "      <td>BTC</td>\n",
       "      <td>3.0</td>\n",
       "      <td>ETH</td>\n",
       "      <td>5</td>\n",
       "      <td>0.0</td>\n",
       "      <td>0.0</td>\n",
       "      <td>NaN</td>\n",
       "    </tr>\n",
       "    <tr>\n",
       "      <th>3</th>\n",
       "      <td>2023-05-04 09:03:23.997579+00:00</td>\n",
       "      <td>sell</td>\n",
       "      <td>1</td>\n",
       "      <td>BTC</td>\n",
       "      <td>3.5</td>\n",
       "      <td>ETH</td>\n",
       "      <td>4</td>\n",
       "      <td>0.0</td>\n",
       "      <td>0.0</td>\n",
       "      <td>NaN</td>\n",
       "    </tr>\n",
       "    <tr>\n",
       "      <th>4</th>\n",
       "      <td>2023-05-04 09:03:24.073046+00:00</td>\n",
       "      <td>buy</td>\n",
       "      <td>1</td>\n",
       "      <td>BTC</td>\n",
       "      <td>3.5</td>\n",
       "      <td>ETH</td>\n",
       "      <td>2</td>\n",
       "      <td>1.0</td>\n",
       "      <td>2.0</td>\n",
       "      <td>2.0</td>\n",
       "    </tr>\n",
       "    <tr>\n",
       "      <th>5</th>\n",
       "      <td>2023-05-04 09:03:24.073102+00:00</td>\n",
       "      <td>buy</td>\n",
       "      <td>1</td>\n",
       "      <td>BTC</td>\n",
       "      <td>2.5</td>\n",
       "      <td>ETH</td>\n",
       "      <td>1</td>\n",
       "      <td>1.0</td>\n",
       "      <td>2.0</td>\n",
       "      <td>2.0</td>\n",
       "    </tr>\n",
       "    <tr>\n",
       "      <th>6</th>\n",
       "      <td>2023-05-04 09:03:24.073112+00:00</td>\n",
       "      <td>buy</td>\n",
       "      <td>1</td>\n",
       "      <td>BTC</td>\n",
       "      <td>2.0</td>\n",
       "      <td>ETH</td>\n",
       "      <td>5</td>\n",
       "      <td>0.0</td>\n",
       "      <td>0.0</td>\n",
       "      <td>NaN</td>\n",
       "    </tr>\n",
       "    <tr>\n",
       "      <th>7</th>\n",
       "      <td>2023-05-04 09:03:24.073119+00:00</td>\n",
       "      <td>buy</td>\n",
       "      <td>1</td>\n",
       "      <td>BTC</td>\n",
       "      <td>1.5</td>\n",
       "      <td>ETH</td>\n",
       "      <td>4</td>\n",
       "      <td>0.0</td>\n",
       "      <td>0.0</td>\n",
       "      <td>NaN</td>\n",
       "    </tr>\n",
       "  </tbody>\n",
       "</table>\n",
       "</div>"
      ],
      "text/plain": [
       "                         timestamp action  quantity base_token  limit_price quote_token  deposit_address  q_pi_star  q_tau_star  effective_price\n",
       "0 2023-05-04 09:03:23.997474+00:00   sell         1        BTC          1.5         ETH                2        1.0         2.0              2.0\n",
       "1 2023-05-04 09:03:23.997558+00:00   sell         1        BTC          2.0         ETH                1        1.0         2.0              2.0\n",
       "2 2023-05-04 09:03:23.997570+00:00   sell         1        BTC          3.0         ETH                5        0.0         0.0              NaN\n",
       "3 2023-05-04 09:03:23.997579+00:00   sell         1        BTC          3.5         ETH                4        0.0         0.0              NaN\n",
       "4 2023-05-04 09:03:24.073046+00:00    buy         1        BTC          3.5         ETH                2        1.0         2.0              2.0\n",
       "5 2023-05-04 09:03:24.073102+00:00    buy         1        BTC          2.5         ETH                1        1.0         2.0              2.0\n",
       "6 2023-05-04 09:03:24.073112+00:00    buy         1        BTC          2.0         ETH                5        0.0         0.0              NaN\n",
       "7 2023-05-04 09:03:24.073119+00:00    buy         1        BTC          1.5         ETH                4        0.0         0.0              NaN"
      ]
     },
     "metadata": {},
     "output_type": "display_data"
    }
   ],
   "source": [
    "all_orders1 = supply_orders1 + demand_orders1\n",
    "daocross_results1 = ddacropt.run_daocross_solver(all_orders1, prices)\n",
    "display(daocross_results1)"
   ]
  },
  {
   "cell_type": "code",
   "execution_count": 13,
   "id": "1123b553",
   "metadata": {
    "ExecuteTime": {
     "end_time": "2023-05-04T09:03:24.619497Z",
     "start_time": "2023-05-04T09:03:24.542564Z"
    }
   },
   "outputs": [
    {
     "name": "stdout",
     "output_type": "stream",
     "text": [
      "DEBUG orders=[timestamp=2023-05-04 09:03:23.997474+00:00 action=sell quantity=1.0 base_token=BTC limit_price=1.5 quote_token=ETH deposit_address=2 wallet_address=2, timestamp=2023-05-04 09:03:23.997558+00:00 action=sell quantity=1.0 base_token=BTC limit_price=2.0 quote_token=ETH deposit_address=1 wallet_address=1, timestamp=2023-05-04 09:03:23.997570+00:00 action=sell quantity=1.0 base_token=BTC limit_price=3.0 quote_token=ETH deposit_address=5 wallet_address=5, timestamp=2023-05-04 09:03:23.997579+00:00 action=sell quantity=1.0 base_token=BTC limit_price=3.5 quote_token=ETH deposit_address=4 wallet_address=4, timestamp=2023-05-04 09:03:24.073046+00:00 action=buy quantity=1.0 base_token=BTC limit_price=3.5 quote_token=ETH deposit_address=2 wallet_address=2, timestamp=2023-05-04 09:03:24.073102+00:00 action=buy quantity=1.0 base_token=BTC limit_price=2.5 quote_token=ETH deposit_address=1 wallet_address=1, timestamp=2023-05-04 09:03:24.073112+00:00 action=buy quantity=1.0 base_token=BTC limit_price=2.0 quote_token=ETH deposit_address=5 wallet_address=5, timestamp=2023-05-04 09:03:24.073119+00:00 action=buy quantity=1.0 base_token=BTC limit_price=1.5 quote_token=ETH deposit_address=4 wallet_address=4]\n",
      "DEBUG /venv/lib/python3.8/site-packages/pulp/solverdir/cbc/linux/64/cbc /tmp/60ba1f24b02144889da7f459ac0a6ef7-pulp.mps max timeMode elapsed branch printingOptions all solution /tmp/60ba1f24b02144889da7f459ac0a6ef7-pulp.sol \n",
      "Welcome to the CBC MILP Solver \n",
      "Version: 2.10.3 \n",
      "Build Date: Dec 15 2019 \n",
      "\n",
      "command line - /venv/lib/python3.8/site-packages/pulp/solverdir/cbc/linux/64/cbc /tmp/60ba1f24b02144889da7f459ac0a6ef7-pulp.mps max timeMode elapsed branch printingOptions all solution /tmp/60ba1f24b02144889da7f459ac0a6ef7-pulp.sol (default strategy 1)\n",
      "At line 2 NAME          MODEL\n",
      "At line 3 ROWS\n",
      "At line 23 COLUMNS\n",
      "At line 80 RHS\n",
      "At line 99 BOUNDS\n",
      "At line 100 ENDATA\n",
      "Problem MODEL has 18 rows, 16 columns and 40 elements\n",
      "Coin0008I MODEL read with 0 errors\n",
      "Option for timeMode changed from cpu to elapsed\n",
      "Presolve 2 (-16) rows, 8 (-8) columns and 16 (-24) elements\n",
      "0  Obj -0 Dual inf 26.999992 (8)\n",
      "2  Obj 25.75\n",
      "Optimal - objective value 25.75\n",
      "After Postsolve, objective 25.75, infeasibilities - dual 0 (0), primal 0 (0)\n",
      "Optimal objective 25.75 - 2 iterations time 0.002, Presolve 0.00\n",
      "Option for printingOptions changed from normal to all\n",
      "Total time (CPU seconds):       0.00   (Wallclock seconds):       0.00\n",
      "\n"
     ]
    },
    {
     "data": {
      "text/html": [
       "<div>\n",
       "<style scoped>\n",
       "    .dataframe tbody tr th:only-of-type {\n",
       "        vertical-align: middle;\n",
       "    }\n",
       "\n",
       "    .dataframe tbody tr th {\n",
       "        vertical-align: top;\n",
       "    }\n",
       "\n",
       "    .dataframe thead th {\n",
       "        text-align: right;\n",
       "    }\n",
       "</style>\n",
       "<table border=\"1\" class=\"dataframe\">\n",
       "  <thead>\n",
       "    <tr style=\"text-align: right;\">\n",
       "      <th></th>\n",
       "      <th>timestamp</th>\n",
       "      <th>action</th>\n",
       "      <th>quantity</th>\n",
       "      <th>base_token</th>\n",
       "      <th>limit_price</th>\n",
       "      <th>quote_token</th>\n",
       "      <th>deposit_address</th>\n",
       "      <th>q_pi_star</th>\n",
       "      <th>q_tau_star</th>\n",
       "      <th>effective_price</th>\n",
       "    </tr>\n",
       "  </thead>\n",
       "  <tbody>\n",
       "    <tr>\n",
       "      <th>0</th>\n",
       "      <td>2023-05-04 09:03:23.997474+00:00</td>\n",
       "      <td>sell</td>\n",
       "      <td>1</td>\n",
       "      <td>BTC</td>\n",
       "      <td>1.5</td>\n",
       "      <td>ETH</td>\n",
       "      <td>2</td>\n",
       "      <td>1.00</td>\n",
       "      <td>1.500</td>\n",
       "      <td>1.5</td>\n",
       "    </tr>\n",
       "    <tr>\n",
       "      <th>1</th>\n",
       "      <td>2023-05-04 09:03:23.997558+00:00</td>\n",
       "      <td>sell</td>\n",
       "      <td>1</td>\n",
       "      <td>BTC</td>\n",
       "      <td>2.0</td>\n",
       "      <td>ETH</td>\n",
       "      <td>1</td>\n",
       "      <td>1.00</td>\n",
       "      <td>2.000</td>\n",
       "      <td>2.0</td>\n",
       "    </tr>\n",
       "    <tr>\n",
       "      <th>2</th>\n",
       "      <td>2023-05-04 09:03:23.997570+00:00</td>\n",
       "      <td>sell</td>\n",
       "      <td>1</td>\n",
       "      <td>BTC</td>\n",
       "      <td>3.0</td>\n",
       "      <td>ETH</td>\n",
       "      <td>5</td>\n",
       "      <td>1.00</td>\n",
       "      <td>3.000</td>\n",
       "      <td>3.0</td>\n",
       "    </tr>\n",
       "    <tr>\n",
       "      <th>3</th>\n",
       "      <td>2023-05-04 09:03:23.997579+00:00</td>\n",
       "      <td>sell</td>\n",
       "      <td>1</td>\n",
       "      <td>BTC</td>\n",
       "      <td>3.5</td>\n",
       "      <td>ETH</td>\n",
       "      <td>4</td>\n",
       "      <td>0.75</td>\n",
       "      <td>2.625</td>\n",
       "      <td>3.5</td>\n",
       "    </tr>\n",
       "    <tr>\n",
       "      <th>4</th>\n",
       "      <td>2023-05-04 09:03:24.073046+00:00</td>\n",
       "      <td>buy</td>\n",
       "      <td>1</td>\n",
       "      <td>BTC</td>\n",
       "      <td>3.5</td>\n",
       "      <td>ETH</td>\n",
       "      <td>2</td>\n",
       "      <td>1.00</td>\n",
       "      <td>3.500</td>\n",
       "      <td>3.5</td>\n",
       "    </tr>\n",
       "    <tr>\n",
       "      <th>5</th>\n",
       "      <td>2023-05-04 09:03:24.073102+00:00</td>\n",
       "      <td>buy</td>\n",
       "      <td>1</td>\n",
       "      <td>BTC</td>\n",
       "      <td>2.5</td>\n",
       "      <td>ETH</td>\n",
       "      <td>1</td>\n",
       "      <td>1.00</td>\n",
       "      <td>2.500</td>\n",
       "      <td>2.5</td>\n",
       "    </tr>\n",
       "    <tr>\n",
       "      <th>6</th>\n",
       "      <td>2023-05-04 09:03:24.073112+00:00</td>\n",
       "      <td>buy</td>\n",
       "      <td>1</td>\n",
       "      <td>BTC</td>\n",
       "      <td>2.0</td>\n",
       "      <td>ETH</td>\n",
       "      <td>5</td>\n",
       "      <td>1.00</td>\n",
       "      <td>2.000</td>\n",
       "      <td>2.0</td>\n",
       "    </tr>\n",
       "    <tr>\n",
       "      <th>7</th>\n",
       "      <td>2023-05-04 09:03:24.073119+00:00</td>\n",
       "      <td>buy</td>\n",
       "      <td>1</td>\n",
       "      <td>BTC</td>\n",
       "      <td>1.5</td>\n",
       "      <td>ETH</td>\n",
       "      <td>4</td>\n",
       "      <td>0.75</td>\n",
       "      <td>1.125</td>\n",
       "      <td>1.5</td>\n",
       "    </tr>\n",
       "  </tbody>\n",
       "</table>\n",
       "</div>"
      ],
      "text/plain": [
       "                         timestamp action  quantity base_token  limit_price quote_token  deposit_address  q_pi_star  q_tau_star  effective_price\n",
       "0 2023-05-04 09:03:23.997474+00:00   sell         1        BTC          1.5         ETH                2       1.00       1.500              1.5\n",
       "1 2023-05-04 09:03:23.997558+00:00   sell         1        BTC          2.0         ETH                1       1.00       2.000              2.0\n",
       "2 2023-05-04 09:03:23.997570+00:00   sell         1        BTC          3.0         ETH                5       1.00       3.000              3.0\n",
       "3 2023-05-04 09:03:23.997579+00:00   sell         1        BTC          3.5         ETH                4       0.75       2.625              3.5\n",
       "4 2023-05-04 09:03:24.073046+00:00    buy         1        BTC          3.5         ETH                2       1.00       3.500              3.5\n",
       "5 2023-05-04 09:03:24.073102+00:00    buy         1        BTC          2.5         ETH                1       1.00       2.500              2.5\n",
       "6 2023-05-04 09:03:24.073112+00:00    buy         1        BTC          2.0         ETH                5       1.00       2.000              2.0\n",
       "7 2023-05-04 09:03:24.073119+00:00    buy         1        BTC          1.5         ETH                4       0.75       1.125              1.5"
      ]
     },
     "metadata": {},
     "output_type": "display_data"
    }
   ],
   "source": [
    "daoswap_results1 = ddacropt.run_daoswap_solver(all_orders1)\n",
    "display(daoswap_results1)"
   ]
  },
  {
   "cell_type": "markdown",
   "id": "f0206657",
   "metadata": {},
   "source": [
    "## Multiple intersection points at price P'"
   ]
  },
  {
   "cell_type": "code",
   "execution_count": 14,
   "id": "3a94e33a",
   "metadata": {
    "ExecuteTime": {
     "end_time": "2023-05-04T09:03:24.666245Z",
     "start_time": "2023-05-04T09:03:24.623808Z"
    }
   },
   "outputs": [
    {
     "data": {
      "text/html": [
       "<div>\n",
       "<style scoped>\n",
       "    .dataframe tbody tr th:only-of-type {\n",
       "        vertical-align: middle;\n",
       "    }\n",
       "\n",
       "    .dataframe tbody tr th {\n",
       "        vertical-align: top;\n",
       "    }\n",
       "\n",
       "    .dataframe thead th {\n",
       "        text-align: right;\n",
       "    }\n",
       "</style>\n",
       "<table border=\"1\" class=\"dataframe\">\n",
       "  <thead>\n",
       "    <tr style=\"text-align: right;\">\n",
       "      <th></th>\n",
       "      <th>timestamp</th>\n",
       "      <th>action</th>\n",
       "      <th>quantity</th>\n",
       "      <th>base_token</th>\n",
       "      <th>limit_price</th>\n",
       "      <th>quote_token</th>\n",
       "      <th>deposit_address</th>\n",
       "    </tr>\n",
       "  </thead>\n",
       "  <tbody>\n",
       "    <tr>\n",
       "      <th>0</th>\n",
       "      <td>2023-05-04 09:03:24.651799+00:00</td>\n",
       "      <td>sell</td>\n",
       "      <td>2</td>\n",
       "      <td>BTC</td>\n",
       "      <td>1.5</td>\n",
       "      <td>ETH</td>\n",
       "      <td>2</td>\n",
       "    </tr>\n",
       "    <tr>\n",
       "      <th>1</th>\n",
       "      <td>2023-05-04 09:03:24.651857+00:00</td>\n",
       "      <td>sell</td>\n",
       "      <td>2</td>\n",
       "      <td>BTC</td>\n",
       "      <td>2.0</td>\n",
       "      <td>ETH</td>\n",
       "      <td>1</td>\n",
       "    </tr>\n",
       "    <tr>\n",
       "      <th>2</th>\n",
       "      <td>2023-05-04 09:03:24.651868+00:00</td>\n",
       "      <td>sell</td>\n",
       "      <td>2</td>\n",
       "      <td>BTC</td>\n",
       "      <td>3.0</td>\n",
       "      <td>ETH</td>\n",
       "      <td>5</td>\n",
       "    </tr>\n",
       "    <tr>\n",
       "      <th>3</th>\n",
       "      <td>2023-05-04 09:03:24.651877+00:00</td>\n",
       "      <td>sell</td>\n",
       "      <td>2</td>\n",
       "      <td>BTC</td>\n",
       "      <td>3.5</td>\n",
       "      <td>ETH</td>\n",
       "      <td>4</td>\n",
       "    </tr>\n",
       "  </tbody>\n",
       "</table>\n",
       "</div>"
      ],
      "text/plain": [
       "                         timestamp action  quantity base_token  limit_price quote_token  deposit_address\n",
       "0 2023-05-04 09:03:24.651799+00:00   sell         2        BTC          1.5         ETH                2\n",
       "1 2023-05-04 09:03:24.651857+00:00   sell         2        BTC          2.0         ETH                1\n",
       "2 2023-05-04 09:03:24.651868+00:00   sell         2        BTC          3.0         ETH                5\n",
       "3 2023-05-04 09:03:24.651877+00:00   sell         2        BTC          3.5         ETH                4"
      ]
     },
     "execution_count": 14,
     "metadata": {},
     "output_type": "execute_result"
    }
   ],
   "source": [
    "quantity_const = 1.0\n",
    "supply_orders2 = ddcrsede.convert_discrete_curve_to_limit_orders(\n",
    "    discrete_supply_curve,\n",
    "    quantity_const=quantity_const,\n",
    ")\n",
    "supply_orders_df2 = ddacrord.convert_orders_to_dataframe(supply_orders2)\n",
    "supply_orders_df2"
   ]
  },
  {
   "cell_type": "code",
   "execution_count": 15,
   "id": "172d3a8f",
   "metadata": {
    "ExecuteTime": {
     "end_time": "2023-05-04T09:03:24.700477Z",
     "start_time": "2023-05-04T09:03:24.668298Z"
    }
   },
   "outputs": [
    {
     "data": {
      "text/plain": [
       "0    1.500\n",
       "2    1.500\n",
       "2    2.000\n",
       "4    2.000\n",
       "4    3.000\n",
       "6    3.000\n",
       "6    3.500\n",
       "8    3.500\n",
       "8    4.375\n",
       "Name: supply, dtype: float64"
      ]
     },
     "execution_count": 15,
     "metadata": {},
     "output_type": "execute_result"
    }
   ],
   "source": [
    "type_ = \"supply\"\n",
    "supply_curve2 = ddcrsede.get_supply_demand_discrete_curve(type_, supply_orders_df2)\n",
    "supply_curve2"
   ]
  },
  {
   "cell_type": "code",
   "execution_count": 16,
   "id": "506f037f",
   "metadata": {
    "ExecuteTime": {
     "end_time": "2023-05-04T09:03:24.975129Z",
     "start_time": "2023-05-04T09:03:24.702904Z"
    }
   },
   "outputs": [
    {
     "data": {
      "image/png": "[encoded data removed]",
      "text/plain": [
       "<Figure size 2000x500 with 1 Axes>"
      ]
     },
     "metadata": {},
     "output_type": "display_data"
    }
   ],
   "source": [
    "plt.plot(supply_curve2)\n",
    "plt.plot(demand_curve1)\n",
    "plt.show()"
   ]
  },
  {
   "cell_type": "code",
   "execution_count": 17,
   "id": "bdb30dea",
   "metadata": {
    "ExecuteTime": {
     "end_time": "2023-05-04T09:03:25.053108Z",
     "start_time": "2023-05-04T09:03:24.977737Z"
    }
   },
   "outputs": [
    {
     "name": "stdout",
     "output_type": "stream",
     "text": [
      "DEBUG orders=[timestamp=2023-05-04 09:03:24.651799+00:00 action=sell quantity=2.0 base_token=BTC limit_price=1.5 quote_token=ETH deposit_address=2 wallet_address=2, timestamp=2023-05-04 09:03:24.651857+00:00 action=sell quantity=2.0 base_token=BTC limit_price=2.0 quote_token=ETH deposit_address=1 wallet_address=1, timestamp=2023-05-04 09:03:24.651868+00:00 action=sell quantity=2.0 base_token=BTC limit_price=3.0 quote_token=ETH deposit_address=5 wallet_address=5, timestamp=2023-05-04 09:03:24.651877+00:00 action=sell quantity=2.0 base_token=BTC limit_price=3.5 quote_token=ETH deposit_address=4 wallet_address=4, timestamp=2023-05-04 09:03:24.073046+00:00 action=buy quantity=1.0 base_token=BTC limit_price=3.5 quote_token=ETH deposit_address=2 wallet_address=2, timestamp=2023-05-04 09:03:24.073102+00:00 action=buy quantity=1.0 base_token=BTC limit_price=2.5 quote_token=ETH deposit_address=1 wallet_address=1, timestamp=2023-05-04 09:03:24.073112+00:00 action=buy quantity=1.0 base_token=BTC limit_price=2.0 quote_token=ETH deposit_address=5 wallet_address=5, timestamp=2023-05-04 09:03:24.073119+00:00 action=buy quantity=1.0 base_token=BTC limit_price=1.5 quote_token=ETH deposit_address=4 wallet_address=4]\n",
      "DEBUG prices={'BTC': 1, 'ETH': 2}\n",
      "DEBUG /venv/lib/python3.8/site-packages/pulp/solverdir/cbc/linux/64/cbc /tmp/2a7cca006c324786a124d0ef8fc198ed-pulp.mps max timeMode elapsed branch printingOptions all solution /tmp/2a7cca006c324786a124d0ef8fc198ed-pulp.sol \n"
     ]
    },
    {
     "data": {
      "text/html": [
       "<div>\n",
       "<style scoped>\n",
       "    .dataframe tbody tr th:only-of-type {\n",
       "        vertical-align: middle;\n",
       "    }\n",
       "\n",
       "    .dataframe tbody tr th {\n",
       "        vertical-align: top;\n",
       "    }\n",
       "\n",
       "    .dataframe thead th {\n",
       "        text-align: right;\n",
       "    }\n",
       "</style>\n",
       "<table border=\"1\" class=\"dataframe\">\n",
       "  <thead>\n",
       "    <tr style=\"text-align: right;\">\n",
       "      <th></th>\n",
       "      <th>timestamp</th>\n",
       "      <th>action</th>\n",
       "      <th>quantity</th>\n",
       "      <th>base_token</th>\n",
       "      <th>limit_price</th>\n",
       "      <th>quote_token</th>\n",
       "      <th>deposit_address</th>\n",
       "      <th>q_pi_star</th>\n",
       "      <th>q_tau_star</th>\n",
       "      <th>effective_price</th>\n",
       "    </tr>\n",
       "  </thead>\n",
       "  <tbody>\n",
       "    <tr>\n",
       "      <th>0</th>\n",
       "      <td>2023-05-04 09:03:24.651799+00:00</td>\n",
       "      <td>sell</td>\n",
       "      <td>2</td>\n",
       "      <td>BTC</td>\n",
       "      <td>1.5</td>\n",
       "      <td>ETH</td>\n",
       "      <td>2</td>\n",
       "      <td>1.0</td>\n",
       "      <td>2.0</td>\n",
       "      <td>2.0</td>\n",
       "    </tr>\n",
       "    <tr>\n",
       "      <th>1</th>\n",
       "      <td>2023-05-04 09:03:24.651857+00:00</td>\n",
       "      <td>sell</td>\n",
       "      <td>2</td>\n",
       "      <td>BTC</td>\n",
       "      <td>2.0</td>\n",
       "      <td>ETH</td>\n",
       "      <td>1</td>\n",
       "      <td>2.0</td>\n",
       "      <td>4.0</td>\n",
       "      <td>2.0</td>\n",
       "    </tr>\n",
       "    <tr>\n",
       "      <th>2</th>\n",
       "      <td>2023-05-04 09:03:24.651868+00:00</td>\n",
       "      <td>sell</td>\n",
       "      <td>2</td>\n",
       "      <td>BTC</td>\n",
       "      <td>3.0</td>\n",
       "      <td>ETH</td>\n",
       "      <td>5</td>\n",
       "      <td>0.0</td>\n",
       "      <td>0.0</td>\n",
       "      <td>NaN</td>\n",
       "    </tr>\n",
       "    <tr>\n",
       "      <th>3</th>\n",
       "      <td>2023-05-04 09:03:24.651877+00:00</td>\n",
       "      <td>sell</td>\n",
       "      <td>2</td>\n",
       "      <td>BTC</td>\n",
       "      <td>3.5</td>\n",
       "      <td>ETH</td>\n",
       "      <td>4</td>\n",
       "      <td>0.0</td>\n",
       "      <td>0.0</td>\n",
       "      <td>NaN</td>\n",
       "    </tr>\n",
       "    <tr>\n",
       "      <th>4</th>\n",
       "      <td>2023-05-04 09:03:24.073046+00:00</td>\n",
       "      <td>buy</td>\n",
       "      <td>1</td>\n",
       "      <td>BTC</td>\n",
       "      <td>3.5</td>\n",
       "      <td>ETH</td>\n",
       "      <td>2</td>\n",
       "      <td>1.0</td>\n",
       "      <td>2.0</td>\n",
       "      <td>2.0</td>\n",
       "    </tr>\n",
       "    <tr>\n",
       "      <th>5</th>\n",
       "      <td>2023-05-04 09:03:24.073102+00:00</td>\n",
       "      <td>buy</td>\n",
       "      <td>1</td>\n",
       "      <td>BTC</td>\n",
       "      <td>2.5</td>\n",
       "      <td>ETH</td>\n",
       "      <td>1</td>\n",
       "      <td>1.0</td>\n",
       "      <td>2.0</td>\n",
       "      <td>2.0</td>\n",
       "    </tr>\n",
       "    <tr>\n",
       "      <th>6</th>\n",
       "      <td>2023-05-04 09:03:24.073112+00:00</td>\n",
       "      <td>buy</td>\n",
       "      <td>1</td>\n",
       "      <td>BTC</td>\n",
       "      <td>2.0</td>\n",
       "      <td>ETH</td>\n",
       "      <td>5</td>\n",
       "      <td>1.0</td>\n",
       "      <td>2.0</td>\n",
       "      <td>2.0</td>\n",
       "    </tr>\n",
       "    <tr>\n",
       "      <th>7</th>\n",
       "      <td>2023-05-04 09:03:24.073119+00:00</td>\n",
       "      <td>buy</td>\n",
       "      <td>1</td>\n",
       "      <td>BTC</td>\n",
       "      <td>1.5</td>\n",
       "      <td>ETH</td>\n",
       "      <td>4</td>\n",
       "      <td>0.0</td>\n",
       "      <td>0.0</td>\n",
       "      <td>NaN</td>\n",
       "    </tr>\n",
       "  </tbody>\n",
       "</table>\n",
       "</div>"
      ],
      "text/plain": [
       "                         timestamp action  quantity base_token  limit_price quote_token  deposit_address  q_pi_star  q_tau_star  effective_price\n",
       "0 2023-05-04 09:03:24.651799+00:00   sell         2        BTC          1.5         ETH                2        1.0         2.0              2.0\n",
       "1 2023-05-04 09:03:24.651857+00:00   sell         2        BTC          2.0         ETH                1        2.0         4.0              2.0\n",
       "2 2023-05-04 09:03:24.651868+00:00   sell         2        BTC          3.0         ETH                5        0.0         0.0              NaN\n",
       "3 2023-05-04 09:03:24.651877+00:00   sell         2        BTC          3.5         ETH                4        0.0         0.0              NaN\n",
       "4 2023-05-04 09:03:24.073046+00:00    buy         1        BTC          3.5         ETH                2        1.0         2.0              2.0\n",
       "5 2023-05-04 09:03:24.073102+00:00    buy         1        BTC          2.5         ETH                1        1.0         2.0              2.0\n",
       "6 2023-05-04 09:03:24.073112+00:00    buy         1        BTC          2.0         ETH                5        1.0         2.0              2.0\n",
       "7 2023-05-04 09:03:24.073119+00:00    buy         1        BTC          1.5         ETH                4        0.0         0.0              NaN"
      ]
     },
     "metadata": {},
     "output_type": "display_data"
    }
   ],
   "source": [
    "all_orders2 = supply_orders2 + demand_orders1\n",
    "daocross_results2 = ddacropt.run_daocross_solver(all_orders2, prices)\n",
    "display(daocross_results2)"
   ]
  },
  {
   "cell_type": "code",
   "execution_count": 18,
   "id": "edc40ed1",
   "metadata": {
    "ExecuteTime": {
     "end_time": "2023-05-04T09:03:25.132677Z",
     "start_time": "2023-05-04T09:03:25.055897Z"
    }
   },
   "outputs": [
    {
     "name": "stdout",
     "output_type": "stream",
     "text": [
      "DEBUG orders=[timestamp=2023-05-04 09:03:24.651799+00:00 action=sell quantity=2.0 base_token=BTC limit_price=1.5 quote_token=ETH deposit_address=2 wallet_address=2, timestamp=2023-05-04 09:03:24.651857+00:00 action=sell quantity=2.0 base_token=BTC limit_price=2.0 quote_token=ETH deposit_address=1 wallet_address=1, timestamp=2023-05-04 09:03:24.651868+00:00 action=sell quantity=2.0 base_token=BTC limit_price=3.0 quote_token=ETH deposit_address=5 wallet_address=5, timestamp=2023-05-04 09:03:24.651877+00:00 action=sell quantity=2.0 base_token=BTC limit_price=3.5 quote_token=ETH deposit_address=4 wallet_address=4, timestamp=2023-05-04 09:03:24.073046+00:00 action=buy quantity=1.0 base_token=BTC limit_price=3.5 quote_token=ETH deposit_address=2 wallet_address=2, timestamp=2023-05-04 09:03:24.073102+00:00 action=buy quantity=1.0 base_token=BTC limit_price=2.5 quote_token=ETH deposit_address=1 wallet_address=1, timestamp=2023-05-04 09:03:24.073112+00:00 action=buy quantity=1.0 base_token=BTC limit_price=2.0 quote_token=ETH deposit_address=5 wallet_address=5, timestamp=2023-05-04 09:03:24.073119+00:00 action=buy quantity=1.0 base_token=BTC limit_price=1.5 quote_token=ETH deposit_address=4 wallet_address=4]\n",
      "DEBUG /venv/lib/python3.8/site-packages/pulp/solverdir/cbc/linux/64/cbc /tmp/d70a8ac79a3942fa825ac876acb9d3b5-pulp.mps max timeMode elapsed branch printingOptions all solution /tmp/d70a8ac79a3942fa825ac876acb9d3b5-pulp.sol \n",
      "Welcome to the CBC MILP Solver \n",
      "Version: 2.10.3 \n",
      "Build Date: Dec 15 2019 \n",
      "\n",
      "command line - /venv/lib/python3.8/site-packages/pulp/solverdir/cbc/linux/64/cbc /tmp/d70a8ac79a3942fa825ac876acb9d3b5-pulp.mps max timeMode elapsed branch printingOptions all solution /tmp/d70a8ac79a3942fa825ac876acb9d3b5-pulp.sol (default strategy 1)\n",
      "At line 2 NAME          MODEL\n",
      "At line 3 ROWS\n",
      "At line 23 COLUMNS\n",
      "At line 80 RHS\n",
      "At line 99 BOUNDS\n",
      "At line 100 ENDATA\n",
      "Problem MODEL has 18 rows, 16 columns and 40 elements\n",
      "Coin0008I MODEL read with 0 errors\n",
      "Option for timeMode changed from cpu to elapsed\n",
      "Presolve 2 (-16) rows, 8 (-8) columns and 16 (-24) elements\n",
      "0  Obj -0 Dual inf 26.999992 (8)\n",
      "3  Obj 27\n",
      "Optimal - objective value 27\n",
      "After Postsolve, objective 27, infeasibilities - dual 0 (0), primal 0 (0)\n",
      "Optimal objective 27 - 3 iterations time 0.002, Presolve 0.00\n",
      "Option for printingOptions changed from normal to all\n",
      "Total time (CPU seconds):       0.00   (Wallclock seconds):       0.00\n",
      "\n"
     ]
    },
    {
     "data": {
      "text/html": [
       "<div>\n",
       "<style scoped>\n",
       "    .dataframe tbody tr th:only-of-type {\n",
       "        vertical-align: middle;\n",
       "    }\n",
       "\n",
       "    .dataframe tbody tr th {\n",
       "        vertical-align: top;\n",
       "    }\n",
       "\n",
       "    .dataframe thead th {\n",
       "        text-align: right;\n",
       "    }\n",
       "</style>\n",
       "<table border=\"1\" class=\"dataframe\">\n",
       "  <thead>\n",
       "    <tr style=\"text-align: right;\">\n",
       "      <th></th>\n",
       "      <th>timestamp</th>\n",
       "      <th>action</th>\n",
       "      <th>quantity</th>\n",
       "      <th>base_token</th>\n",
       "      <th>limit_price</th>\n",
       "      <th>quote_token</th>\n",
       "      <th>deposit_address</th>\n",
       "      <th>q_pi_star</th>\n",
       "      <th>q_tau_star</th>\n",
       "      <th>effective_price</th>\n",
       "    </tr>\n",
       "  </thead>\n",
       "  <tbody>\n",
       "    <tr>\n",
       "      <th>0</th>\n",
       "      <td>2023-05-04 09:03:24.651799+00:00</td>\n",
       "      <td>sell</td>\n",
       "      <td>2</td>\n",
       "      <td>BTC</td>\n",
       "      <td>1.5</td>\n",
       "      <td>ETH</td>\n",
       "      <td>2</td>\n",
       "      <td>0.333333</td>\n",
       "      <td>0.5</td>\n",
       "      <td>1.5</td>\n",
       "    </tr>\n",
       "    <tr>\n",
       "      <th>1</th>\n",
       "      <td>2023-05-04 09:03:24.651857+00:00</td>\n",
       "      <td>sell</td>\n",
       "      <td>2</td>\n",
       "      <td>BTC</td>\n",
       "      <td>2.0</td>\n",
       "      <td>ETH</td>\n",
       "      <td>1</td>\n",
       "      <td>2.000000</td>\n",
       "      <td>4.0</td>\n",
       "      <td>2.0</td>\n",
       "    </tr>\n",
       "    <tr>\n",
       "      <th>2</th>\n",
       "      <td>2023-05-04 09:03:24.651868+00:00</td>\n",
       "      <td>sell</td>\n",
       "      <td>2</td>\n",
       "      <td>BTC</td>\n",
       "      <td>3.0</td>\n",
       "      <td>ETH</td>\n",
       "      <td>5</td>\n",
       "      <td>1.666667</td>\n",
       "      <td>5.0</td>\n",
       "      <td>3.0</td>\n",
       "    </tr>\n",
       "    <tr>\n",
       "      <th>3</th>\n",
       "      <td>2023-05-04 09:03:24.651877+00:00</td>\n",
       "      <td>sell</td>\n",
       "      <td>2</td>\n",
       "      <td>BTC</td>\n",
       "      <td>3.5</td>\n",
       "      <td>ETH</td>\n",
       "      <td>4</td>\n",
       "      <td>0.000000</td>\n",
       "      <td>-0.0</td>\n",
       "      <td>NaN</td>\n",
       "    </tr>\n",
       "    <tr>\n",
       "      <th>4</th>\n",
       "      <td>2023-05-04 09:03:24.073046+00:00</td>\n",
       "      <td>buy</td>\n",
       "      <td>1</td>\n",
       "      <td>BTC</td>\n",
       "      <td>3.5</td>\n",
       "      <td>ETH</td>\n",
       "      <td>2</td>\n",
       "      <td>1.000000</td>\n",
       "      <td>3.5</td>\n",
       "      <td>3.5</td>\n",
       "    </tr>\n",
       "    <tr>\n",
       "      <th>5</th>\n",
       "      <td>2023-05-04 09:03:24.073102+00:00</td>\n",
       "      <td>buy</td>\n",
       "      <td>1</td>\n",
       "      <td>BTC</td>\n",
       "      <td>2.5</td>\n",
       "      <td>ETH</td>\n",
       "      <td>1</td>\n",
       "      <td>1.000000</td>\n",
       "      <td>2.5</td>\n",
       "      <td>2.5</td>\n",
       "    </tr>\n",
       "    <tr>\n",
       "      <th>6</th>\n",
       "      <td>2023-05-04 09:03:24.073112+00:00</td>\n",
       "      <td>buy</td>\n",
       "      <td>1</td>\n",
       "      <td>BTC</td>\n",
       "      <td>2.0</td>\n",
       "      <td>ETH</td>\n",
       "      <td>5</td>\n",
       "      <td>1.000000</td>\n",
       "      <td>2.0</td>\n",
       "      <td>2.0</td>\n",
       "    </tr>\n",
       "    <tr>\n",
       "      <th>7</th>\n",
       "      <td>2023-05-04 09:03:24.073119+00:00</td>\n",
       "      <td>buy</td>\n",
       "      <td>1</td>\n",
       "      <td>BTC</td>\n",
       "      <td>1.5</td>\n",
       "      <td>ETH</td>\n",
       "      <td>4</td>\n",
       "      <td>1.000000</td>\n",
       "      <td>1.5</td>\n",
       "      <td>1.5</td>\n",
       "    </tr>\n",
       "  </tbody>\n",
       "</table>\n",
       "</div>"
      ],
      "text/plain": [
       "                         timestamp action  quantity base_token  limit_price quote_token  deposit_address  q_pi_star  q_tau_star  effective_price\n",
       "0 2023-05-04 09:03:24.651799+00:00   sell         2        BTC          1.5         ETH                2   0.333333         0.5              1.5\n",
       "1 2023-05-04 09:03:24.651857+00:00   sell         2        BTC          2.0         ETH                1   2.000000         4.0              2.0\n",
       "2 2023-05-04 09:03:24.651868+00:00   sell         2        BTC          3.0         ETH                5   1.666667         5.0              3.0\n",
       "3 2023-05-04 09:03:24.651877+00:00   sell         2        BTC          3.5         ETH                4   0.000000        -0.0              NaN\n",
       "4 2023-05-04 09:03:24.073046+00:00    buy         1        BTC          3.5         ETH                2   1.000000         3.5              3.5\n",
       "5 2023-05-04 09:03:24.073102+00:00    buy         1        BTC          2.5         ETH                1   1.000000         2.5              2.5\n",
       "6 2023-05-04 09:03:24.073112+00:00    buy         1        BTC          2.0         ETH                5   1.000000         2.0              2.0\n",
       "7 2023-05-04 09:03:24.073119+00:00    buy         1        BTC          1.5         ETH                4   1.000000         1.5              1.5"
      ]
     },
     "metadata": {},
     "output_type": "display_data"
    }
   ],
   "source": [
    "daoswap_results2 = ddacropt.run_daoswap_solver(all_orders2)\n",
    "display(daoswap_results2)"
   ]
  },
  {
   "cell_type": "markdown",
   "id": "b4b04a9d",
   "metadata": {
    "ExecuteTime": {
     "end_time": "2023-04-20T23:21:31.778217Z",
     "start_time": "2023-04-20T23:21:31.757404Z"
    }
   },
   "source": [
    "## No intersection"
   ]
  },
  {
   "cell_type": "code",
   "execution_count": 19,
   "id": "6150c735",
   "metadata": {
    "ExecuteTime": {
     "end_time": "2023-05-04T09:03:25.177972Z",
     "start_time": "2023-05-04T09:03:25.135381Z"
    }
   },
   "outputs": [
    {
     "data": {
      "text/html": [
       "<div>\n",
       "<style scoped>\n",
       "    .dataframe tbody tr th:only-of-type {\n",
       "        vertical-align: middle;\n",
       "    }\n",
       "\n",
       "    .dataframe tbody tr th {\n",
       "        vertical-align: top;\n",
       "    }\n",
       "\n",
       "    .dataframe thead th {\n",
       "        text-align: right;\n",
       "    }\n",
       "</style>\n",
       "<table border=\"1\" class=\"dataframe\">\n",
       "  <thead>\n",
       "    <tr style=\"text-align: right;\">\n",
       "      <th></th>\n",
       "      <th>timestamp</th>\n",
       "      <th>action</th>\n",
       "      <th>quantity</th>\n",
       "      <th>base_token</th>\n",
       "      <th>limit_price</th>\n",
       "      <th>quote_token</th>\n",
       "      <th>deposit_address</th>\n",
       "    </tr>\n",
       "  </thead>\n",
       "  <tbody>\n",
       "    <tr>\n",
       "      <th>0</th>\n",
       "      <td>2023-05-04 09:03:25.163504+00:00</td>\n",
       "      <td>sell</td>\n",
       "      <td>1</td>\n",
       "      <td>BTC</td>\n",
       "      <td>4.5</td>\n",
       "      <td>ETH</td>\n",
       "      <td>2</td>\n",
       "    </tr>\n",
       "    <tr>\n",
       "      <th>1</th>\n",
       "      <td>2023-05-04 09:03:25.163564+00:00</td>\n",
       "      <td>sell</td>\n",
       "      <td>1</td>\n",
       "      <td>BTC</td>\n",
       "      <td>5.0</td>\n",
       "      <td>ETH</td>\n",
       "      <td>1</td>\n",
       "    </tr>\n",
       "    <tr>\n",
       "      <th>2</th>\n",
       "      <td>2023-05-04 09:03:25.163576+00:00</td>\n",
       "      <td>sell</td>\n",
       "      <td>1</td>\n",
       "      <td>BTC</td>\n",
       "      <td>6.0</td>\n",
       "      <td>ETH</td>\n",
       "      <td>5</td>\n",
       "    </tr>\n",
       "    <tr>\n",
       "      <th>3</th>\n",
       "      <td>2023-05-04 09:03:25.163585+00:00</td>\n",
       "      <td>sell</td>\n",
       "      <td>1</td>\n",
       "      <td>BTC</td>\n",
       "      <td>6.5</td>\n",
       "      <td>ETH</td>\n",
       "      <td>4</td>\n",
       "    </tr>\n",
       "  </tbody>\n",
       "</table>\n",
       "</div>"
      ],
      "text/plain": [
       "                         timestamp action  quantity base_token  limit_price quote_token  deposit_address\n",
       "0 2023-05-04 09:03:25.163504+00:00   sell         1        BTC          4.5         ETH                2\n",
       "1 2023-05-04 09:03:25.163564+00:00   sell         1        BTC          5.0         ETH                1\n",
       "2 2023-05-04 09:03:25.163576+00:00   sell         1        BTC          6.0         ETH                5\n",
       "3 2023-05-04 09:03:25.163585+00:00   sell         1        BTC          6.5         ETH                4"
      ]
     },
     "execution_count": 19,
     "metadata": {},
     "output_type": "execute_result"
    }
   ],
   "source": [
    "limit_price_const = 3.0\n",
    "supply_orders3 = ddcrsede.convert_discrete_curve_to_limit_orders(\n",
    "    discrete_supply_curve,\n",
    "    limit_price_const=limit_price_const,\n",
    ")\n",
    "supply_orders_df3 = ddacrord.convert_orders_to_dataframe(supply_orders3)\n",
    "supply_orders_df3"
   ]
  },
  {
   "cell_type": "code",
   "execution_count": 20,
   "id": "f9ae95d8",
   "metadata": {
    "ExecuteTime": {
     "end_time": "2023-05-04T09:03:25.210736Z",
     "start_time": "2023-05-04T09:03:25.180329Z"
    }
   },
   "outputs": [
    {
     "data": {
      "text/plain": [
       "0    4.500\n",
       "1    4.500\n",
       "1    5.000\n",
       "2    5.000\n",
       "2    6.000\n",
       "3    6.000\n",
       "3    6.500\n",
       "4    6.500\n",
       "4    8.125\n",
       "Name: supply, dtype: float64"
      ]
     },
     "execution_count": 20,
     "metadata": {},
     "output_type": "execute_result"
    }
   ],
   "source": [
    "type_ = \"supply\"\n",
    "supply_curve3 = ddcrsede.get_supply_demand_discrete_curve(type_, supply_orders_df3)\n",
    "supply_curve3"
   ]
  },
  {
   "cell_type": "code",
   "execution_count": 21,
   "id": "6d8efe69",
   "metadata": {
    "ExecuteTime": {
     "end_time": "2023-05-04T09:03:25.501808Z",
     "start_time": "2023-05-04T09:03:25.213197Z"
    }
   },
   "outputs": [
    {
     "data": {
      "image/png": "[encoded data removed]",
      "text/plain": [
       "<Figure size 2000x500 with 1 Axes>"
      ]
     },
     "metadata": {},
     "output_type": "display_data"
    }
   ],
   "source": [
    "plt.plot(supply_curve3)\n",
    "plt.plot(demand_curve1)\n",
    "plt.show()"
   ]
  },
  {
   "cell_type": "code",
   "execution_count": 22,
   "id": "5f080eec",
   "metadata": {
    "ExecuteTime": {
     "end_time": "2023-05-04T09:03:25.579838Z",
     "start_time": "2023-05-04T09:03:25.504615Z"
    }
   },
   "outputs": [
    {
     "name": "stdout",
     "output_type": "stream",
     "text": [
      "DEBUG orders=[timestamp=2023-05-04 09:03:25.163504+00:00 action=sell quantity=1.0 base_token=BTC limit_price=4.5 quote_token=ETH deposit_address=2 wallet_address=2, timestamp=2023-05-04 09:03:25.163564+00:00 action=sell quantity=1.0 base_token=BTC limit_price=5.0 quote_token=ETH deposit_address=1 wallet_address=1, timestamp=2023-05-04 09:03:25.163576+00:00 action=sell quantity=1.0 base_token=BTC limit_price=6.0 quote_token=ETH deposit_address=5 wallet_address=5, timestamp=2023-05-04 09:03:25.163585+00:00 action=sell quantity=1.0 base_token=BTC limit_price=6.5 quote_token=ETH deposit_address=4 wallet_address=4, timestamp=2023-05-04 09:03:24.073046+00:00 action=buy quantity=1.0 base_token=BTC limit_price=3.5 quote_token=ETH deposit_address=2 wallet_address=2, timestamp=2023-05-04 09:03:24.073102+00:00 action=buy quantity=1.0 base_token=BTC limit_price=2.5 quote_token=ETH deposit_address=1 wallet_address=1, timestamp=2023-05-04 09:03:24.073112+00:00 action=buy quantity=1.0 base_token=BTC limit_price=2.0 quote_token=ETH deposit_address=5 wallet_address=5, timestamp=2023-05-04 09:03:24.073119+00:00 action=buy quantity=1.0 base_token=BTC limit_price=1.5 quote_token=ETH deposit_address=4 wallet_address=4]\n",
      "DEBUG prices={'BTC': 1, 'ETH': 2}\n",
      "DEBUG /venv/lib/python3.8/site-packages/pulp/solverdir/cbc/linux/64/cbc /tmp/4ae7b56a8fbb496898628974d8926c15-pulp.mps max timeMode elapsed branch printingOptions all solution /tmp/4ae7b56a8fbb496898628974d8926c15-pulp.sol \n"
     ]
    },
    {
     "data": {
      "text/html": [
       "<div>\n",
       "<style scoped>\n",
       "    .dataframe tbody tr th:only-of-type {\n",
       "        vertical-align: middle;\n",
       "    }\n",
       "\n",
       "    .dataframe tbody tr th {\n",
       "        vertical-align: top;\n",
       "    }\n",
       "\n",
       "    .dataframe thead th {\n",
       "        text-align: right;\n",
       "    }\n",
       "</style>\n",
       "<table border=\"1\" class=\"dataframe\">\n",
       "  <thead>\n",
       "    <tr style=\"text-align: right;\">\n",
       "      <th></th>\n",
       "      <th>timestamp</th>\n",
       "      <th>action</th>\n",
       "      <th>quantity</th>\n",
       "      <th>base_token</th>\n",
       "      <th>limit_price</th>\n",
       "      <th>quote_token</th>\n",
       "      <th>deposit_address</th>\n",
       "      <th>q_pi_star</th>\n",
       "      <th>q_tau_star</th>\n",
       "      <th>effective_price</th>\n",
       "    </tr>\n",
       "  </thead>\n",
       "  <tbody>\n",
       "    <tr>\n",
       "      <th>0</th>\n",
       "      <td>2023-05-04 09:03:25.163504+00:00</td>\n",
       "      <td>sell</td>\n",
       "      <td>1</td>\n",
       "      <td>BTC</td>\n",
       "      <td>4.5</td>\n",
       "      <td>ETH</td>\n",
       "      <td>2</td>\n",
       "      <td>0.0</td>\n",
       "      <td>0.0</td>\n",
       "      <td>NaN</td>\n",
       "    </tr>\n",
       "    <tr>\n",
       "      <th>1</th>\n",
       "      <td>2023-05-04 09:03:25.163564+00:00</td>\n",
       "      <td>sell</td>\n",
       "      <td>1</td>\n",
       "      <td>BTC</td>\n",
       "      <td>5.0</td>\n",
       "      <td>ETH</td>\n",
       "      <td>1</td>\n",
       "      <td>0.0</td>\n",
       "      <td>0.0</td>\n",
       "      <td>NaN</td>\n",
       "    </tr>\n",
       "    <tr>\n",
       "      <th>2</th>\n",
       "      <td>2023-05-04 09:03:25.163576+00:00</td>\n",
       "      <td>sell</td>\n",
       "      <td>1</td>\n",
       "      <td>BTC</td>\n",
       "      <td>6.0</td>\n",
       "      <td>ETH</td>\n",
       "      <td>5</td>\n",
       "      <td>0.0</td>\n",
       "      <td>0.0</td>\n",
       "      <td>NaN</td>\n",
       "    </tr>\n",
       "    <tr>\n",
       "      <th>3</th>\n",
       "      <td>2023-05-04 09:03:25.163585+00:00</td>\n",
       "      <td>sell</td>\n",
       "      <td>1</td>\n",
       "      <td>BTC</td>\n",
       "      <td>6.5</td>\n",
       "      <td>ETH</td>\n",
       "      <td>4</td>\n",
       "      <td>0.0</td>\n",
       "      <td>0.0</td>\n",
       "      <td>NaN</td>\n",
       "    </tr>\n",
       "    <tr>\n",
       "      <th>4</th>\n",
       "      <td>2023-05-04 09:03:24.073046+00:00</td>\n",
       "      <td>buy</td>\n",
       "      <td>1</td>\n",
       "      <td>BTC</td>\n",
       "      <td>3.5</td>\n",
       "      <td>ETH</td>\n",
       "      <td>2</td>\n",
       "      <td>0.0</td>\n",
       "      <td>0.0</td>\n",
       "      <td>NaN</td>\n",
       "    </tr>\n",
       "    <tr>\n",
       "      <th>5</th>\n",
       "      <td>2023-05-04 09:03:24.073102+00:00</td>\n",
       "      <td>buy</td>\n",
       "      <td>1</td>\n",
       "      <td>BTC</td>\n",
       "      <td>2.5</td>\n",
       "      <td>ETH</td>\n",
       "      <td>1</td>\n",
       "      <td>0.0</td>\n",
       "      <td>0.0</td>\n",
       "      <td>NaN</td>\n",
       "    </tr>\n",
       "    <tr>\n",
       "      <th>6</th>\n",
       "      <td>2023-05-04 09:03:24.073112+00:00</td>\n",
       "      <td>buy</td>\n",
       "      <td>1</td>\n",
       "      <td>BTC</td>\n",
       "      <td>2.0</td>\n",
       "      <td>ETH</td>\n",
       "      <td>5</td>\n",
       "      <td>0.0</td>\n",
       "      <td>0.0</td>\n",
       "      <td>NaN</td>\n",
       "    </tr>\n",
       "    <tr>\n",
       "      <th>7</th>\n",
       "      <td>2023-05-04 09:03:24.073119+00:00</td>\n",
       "      <td>buy</td>\n",
       "      <td>1</td>\n",
       "      <td>BTC</td>\n",
       "      <td>1.5</td>\n",
       "      <td>ETH</td>\n",
       "      <td>4</td>\n",
       "      <td>0.0</td>\n",
       "      <td>0.0</td>\n",
       "      <td>NaN</td>\n",
       "    </tr>\n",
       "  </tbody>\n",
       "</table>\n",
       "</div>"
      ],
      "text/plain": [
       "                         timestamp action  quantity base_token  limit_price quote_token  deposit_address  q_pi_star  q_tau_star  effective_price\n",
       "0 2023-05-04 09:03:25.163504+00:00   sell         1        BTC          4.5         ETH                2        0.0         0.0              NaN\n",
       "1 2023-05-04 09:03:25.163564+00:00   sell         1        BTC          5.0         ETH                1        0.0         0.0              NaN\n",
       "2 2023-05-04 09:03:25.163576+00:00   sell         1        BTC          6.0         ETH                5        0.0         0.0              NaN\n",
       "3 2023-05-04 09:03:25.163585+00:00   sell         1        BTC          6.5         ETH                4        0.0         0.0              NaN\n",
       "4 2023-05-04 09:03:24.073046+00:00    buy         1        BTC          3.5         ETH                2        0.0         0.0              NaN\n",
       "5 2023-05-04 09:03:24.073102+00:00    buy         1        BTC          2.5         ETH                1        0.0         0.0              NaN\n",
       "6 2023-05-04 09:03:24.073112+00:00    buy         1        BTC          2.0         ETH                5        0.0         0.0              NaN\n",
       "7 2023-05-04 09:03:24.073119+00:00    buy         1        BTC          1.5         ETH                4        0.0         0.0              NaN"
      ]
     },
     "metadata": {},
     "output_type": "display_data"
    }
   ],
   "source": [
    "all_orders3 = supply_orders3 + demand_orders1\n",
    "daocross_results3 = ddacropt.run_daocross_solver(all_orders3, prices)\n",
    "display(daocross_results3)"
   ]
  },
  {
   "cell_type": "code",
   "execution_count": 23,
   "id": "d84a94aa",
   "metadata": {
    "ExecuteTime": {
     "end_time": "2023-05-04T09:03:25.663647Z",
     "start_time": "2023-05-04T09:03:25.583238Z"
    }
   },
   "outputs": [
    {
     "name": "stdout",
     "output_type": "stream",
     "text": [
      "DEBUG orders=[timestamp=2023-05-04 09:03:25.163504+00:00 action=sell quantity=1.0 base_token=BTC limit_price=4.5 quote_token=ETH deposit_address=2 wallet_address=2, timestamp=2023-05-04 09:03:25.163564+00:00 action=sell quantity=1.0 base_token=BTC limit_price=5.0 quote_token=ETH deposit_address=1 wallet_address=1, timestamp=2023-05-04 09:03:25.163576+00:00 action=sell quantity=1.0 base_token=BTC limit_price=6.0 quote_token=ETH deposit_address=5 wallet_address=5, timestamp=2023-05-04 09:03:25.163585+00:00 action=sell quantity=1.0 base_token=BTC limit_price=6.5 quote_token=ETH deposit_address=4 wallet_address=4, timestamp=2023-05-04 09:03:24.073046+00:00 action=buy quantity=1.0 base_token=BTC limit_price=3.5 quote_token=ETH deposit_address=2 wallet_address=2, timestamp=2023-05-04 09:03:24.073102+00:00 action=buy quantity=1.0 base_token=BTC limit_price=2.5 quote_token=ETH deposit_address=1 wallet_address=1, timestamp=2023-05-04 09:03:24.073112+00:00 action=buy quantity=1.0 base_token=BTC limit_price=2.0 quote_token=ETH deposit_address=5 wallet_address=5, timestamp=2023-05-04 09:03:24.073119+00:00 action=buy quantity=1.0 base_token=BTC limit_price=1.5 quote_token=ETH deposit_address=4 wallet_address=4]\n",
      "DEBUG /venv/lib/python3.8/site-packages/pulp/solverdir/cbc/linux/64/cbc /tmp/850f65366aae44b6997f8bf1a5853482-pulp.mps max timeMode elapsed branch printingOptions all solution /tmp/850f65366aae44b6997f8bf1a5853482-pulp.sol \n",
      "Welcome to the CBC MILP Solver \n",
      "Version: 2.10.3 \n",
      "Build Date: Dec 15 2019 \n",
      "\n",
      "command line - /venv/lib/python3.8/site-packages/pulp/solverdir/cbc/linux/64/cbc /tmp/850f65366aae44b6997f8bf1a5853482-pulp.mps max timeMode elapsed branch printingOptions all solution /tmp/850f65366aae44b6997f8bf1a5853482-pulp.sol (default strategy 1)\n",
      "At line 2 NAME          MODEL\n",
      "At line 3 ROWS\n",
      "At line 23 COLUMNS\n",
      "At line 80 RHS\n",
      "At line 99 BOUNDS\n",
      "At line 100 ENDATA\n",
      "Problem MODEL has 18 rows, 16 columns and 40 elements\n",
      "Coin0008I MODEL read with 0 errors\n",
      "Option for timeMode changed from cpu to elapsed\n",
      "Presolve 2 (-16) rows, 8 (-8) columns and 16 (-24) elements\n",
      "0  Obj -0 Dual inf 16.156647 (8)\n",
      "3  Obj -0\n",
      "Optimal - objective value 0\n",
      "After Postsolve, objective 0, infeasibilities - dual 0 (0), primal 0 (0)\n",
      "Optimal objective 0 - 3 iterations time 0.002, Presolve 0.00\n",
      "Option for printingOptions changed from normal to all\n",
      "Total time (CPU seconds):       0.00   (Wallclock seconds):       0.00\n",
      "\n"
     ]
    },
    {
     "data": {
      "text/html": [
       "<div>\n",
       "<style scoped>\n",
       "    .dataframe tbody tr th:only-of-type {\n",
       "        vertical-align: middle;\n",
       "    }\n",
       "\n",
       "    .dataframe tbody tr th {\n",
       "        vertical-align: top;\n",
       "    }\n",
       "\n",
       "    .dataframe thead th {\n",
       "        text-align: right;\n",
       "    }\n",
       "</style>\n",
       "<table border=\"1\" class=\"dataframe\">\n",
       "  <thead>\n",
       "    <tr style=\"text-align: right;\">\n",
       "      <th></th>\n",
       "      <th>timestamp</th>\n",
       "      <th>action</th>\n",
       "      <th>quantity</th>\n",
       "      <th>base_token</th>\n",
       "      <th>limit_price</th>\n",
       "      <th>quote_token</th>\n",
       "      <th>deposit_address</th>\n",
       "      <th>q_pi_star</th>\n",
       "      <th>q_tau_star</th>\n",
       "      <th>effective_price</th>\n",
       "    </tr>\n",
       "  </thead>\n",
       "  <tbody>\n",
       "    <tr>\n",
       "      <th>0</th>\n",
       "      <td>2023-05-04 09:03:25.163504+00:00</td>\n",
       "      <td>sell</td>\n",
       "      <td>1</td>\n",
       "      <td>BTC</td>\n",
       "      <td>4.5</td>\n",
       "      <td>ETH</td>\n",
       "      <td>2</td>\n",
       "      <td>0.0</td>\n",
       "      <td>-0.0</td>\n",
       "      <td>NaN</td>\n",
       "    </tr>\n",
       "    <tr>\n",
       "      <th>1</th>\n",
       "      <td>2023-05-04 09:03:25.163564+00:00</td>\n",
       "      <td>sell</td>\n",
       "      <td>1</td>\n",
       "      <td>BTC</td>\n",
       "      <td>5.0</td>\n",
       "      <td>ETH</td>\n",
       "      <td>1</td>\n",
       "      <td>0.0</td>\n",
       "      <td>-0.0</td>\n",
       "      <td>NaN</td>\n",
       "    </tr>\n",
       "    <tr>\n",
       "      <th>2</th>\n",
       "      <td>2023-05-04 09:03:25.163576+00:00</td>\n",
       "      <td>sell</td>\n",
       "      <td>1</td>\n",
       "      <td>BTC</td>\n",
       "      <td>6.0</td>\n",
       "      <td>ETH</td>\n",
       "      <td>5</td>\n",
       "      <td>0.0</td>\n",
       "      <td>-0.0</td>\n",
       "      <td>NaN</td>\n",
       "    </tr>\n",
       "    <tr>\n",
       "      <th>3</th>\n",
       "      <td>2023-05-04 09:03:25.163585+00:00</td>\n",
       "      <td>sell</td>\n",
       "      <td>1</td>\n",
       "      <td>BTC</td>\n",
       "      <td>6.5</td>\n",
       "      <td>ETH</td>\n",
       "      <td>4</td>\n",
       "      <td>0.0</td>\n",
       "      <td>-0.0</td>\n",
       "      <td>NaN</td>\n",
       "    </tr>\n",
       "    <tr>\n",
       "      <th>4</th>\n",
       "      <td>2023-05-04 09:03:24.073046+00:00</td>\n",
       "      <td>buy</td>\n",
       "      <td>1</td>\n",
       "      <td>BTC</td>\n",
       "      <td>3.5</td>\n",
       "      <td>ETH</td>\n",
       "      <td>2</td>\n",
       "      <td>0.0</td>\n",
       "      <td>0.0</td>\n",
       "      <td>NaN</td>\n",
       "    </tr>\n",
       "    <tr>\n",
       "      <th>5</th>\n",
       "      <td>2023-05-04 09:03:24.073102+00:00</td>\n",
       "      <td>buy</td>\n",
       "      <td>1</td>\n",
       "      <td>BTC</td>\n",
       "      <td>2.5</td>\n",
       "      <td>ETH</td>\n",
       "      <td>1</td>\n",
       "      <td>0.0</td>\n",
       "      <td>0.0</td>\n",
       "      <td>NaN</td>\n",
       "    </tr>\n",
       "    <tr>\n",
       "      <th>6</th>\n",
       "      <td>2023-05-04 09:03:24.073112+00:00</td>\n",
       "      <td>buy</td>\n",
       "      <td>1</td>\n",
       "      <td>BTC</td>\n",
       "      <td>2.0</td>\n",
       "      <td>ETH</td>\n",
       "      <td>5</td>\n",
       "      <td>0.0</td>\n",
       "      <td>0.0</td>\n",
       "      <td>NaN</td>\n",
       "    </tr>\n",
       "    <tr>\n",
       "      <th>7</th>\n",
       "      <td>2023-05-04 09:03:24.073119+00:00</td>\n",
       "      <td>buy</td>\n",
       "      <td>1</td>\n",
       "      <td>BTC</td>\n",
       "      <td>1.5</td>\n",
       "      <td>ETH</td>\n",
       "      <td>4</td>\n",
       "      <td>0.0</td>\n",
       "      <td>0.0</td>\n",
       "      <td>NaN</td>\n",
       "    </tr>\n",
       "  </tbody>\n",
       "</table>\n",
       "</div>"
      ],
      "text/plain": [
       "                         timestamp action  quantity base_token  limit_price quote_token  deposit_address  q_pi_star  q_tau_star  effective_price\n",
       "0 2023-05-04 09:03:25.163504+00:00   sell         1        BTC          4.5         ETH                2        0.0        -0.0              NaN\n",
       "1 2023-05-04 09:03:25.163564+00:00   sell         1        BTC          5.0         ETH                1        0.0        -0.0              NaN\n",
       "2 2023-05-04 09:03:25.163576+00:00   sell         1        BTC          6.0         ETH                5        0.0        -0.0              NaN\n",
       "3 2023-05-04 09:03:25.163585+00:00   sell         1        BTC          6.5         ETH                4        0.0        -0.0              NaN\n",
       "4 2023-05-04 09:03:24.073046+00:00    buy         1        BTC          3.5         ETH                2        0.0         0.0              NaN\n",
       "5 2023-05-04 09:03:24.073102+00:00    buy         1        BTC          2.5         ETH                1        0.0         0.0              NaN\n",
       "6 2023-05-04 09:03:24.073112+00:00    buy         1        BTC          2.0         ETH                5        0.0         0.0              NaN\n",
       "7 2023-05-04 09:03:24.073119+00:00    buy         1        BTC          1.5         ETH                4        0.0         0.0              NaN"
      ]
     },
     "metadata": {},
     "output_type": "display_data"
    }
   ],
   "source": [
    "daoswap_results3 = ddacropt.run_daoswap_solver(all_orders3)\n",
    "display(daoswap_results3)"
   ]
  },
  {
   "cell_type": "code",
   "execution_count": null,
   "id": "d3f7f947",
   "metadata": {},
   "outputs": [],
   "source": []
  }
 ],
 "metadata": {
  "kernelspec": {
   "display_name": "Python 3 (ipykernel)",
   "language": "python",
   "name": "python3"
  },
  "language_info": {
   "codemirror_mode": {
    "name": "ipython",
    "version": 3
   },
   "file_extension": ".py",
   "mimetype": "text/x-python",
   "name": "python",
   "nbconvert_exporter": "python",
   "pygments_lexer": "ipython3",
   "version": "3.8.10"
  },
  "toc": {
   "base_numbering": 1,
   "nav_menu": {},
   "number_sections": true,
   "sideBar": true,
   "skip_h1_title": false,
   "title_cell": "Table of Contents",
   "title_sidebar": "Contents",
   "toc_cell": false,
   "toc_position": {},
   "toc_section_display": true,
   "toc_window_display": false
  }
 },
 "nbformat": 4,
 "nbformat_minor": 5
}
