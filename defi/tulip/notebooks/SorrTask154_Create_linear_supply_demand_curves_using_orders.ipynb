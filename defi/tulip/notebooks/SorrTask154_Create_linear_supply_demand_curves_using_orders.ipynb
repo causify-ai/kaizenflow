{
 "cells": [
  {
   "cell_type": "code",
   "execution_count": null,
   "id": "793f8391",
   "metadata": {},
   "outputs": [],
   "source": [
    "%load_ext autoreload\n",
    "%autoreload 2\n",
    "\n",
    "import logging\n",
    "\n",
    "import matplotlib as mpl\n",
    "import matplotlib.pyplot as plt\n",
    "\n",
    "import defi.dao_cross.order as ddacrord\n",
    "import defi.dao_cross.supply_demand as ddcrsede\n",
    "import helpers.hdbg as hdbg\n",
    "import helpers.henv as henv\n",
    "import helpers.hprint as hprint\n",
    "import defi.tulip.implementation.order as dtuimor\n",
    "import defi.tulip.implementation.supply_demand as dtuimsd"
   ]
  },
  {
   "cell_type": "code",
   "execution_count": null,
   "id": "1527b10a",
   "metadata": {},
   "outputs": [],
   "source": [
    "try:\n",
    "    import pulp\n",
    "except ImportError:\n",
    "    !sudo /bin/bash -c \"(source /venv/bin/activate; pip install pulp)\"\n",
    "    import pulp\n",
    "import defi.tulip.implementation.optimize as dtuimopt"
   ]
  },
  {
   "cell_type": "code",
   "execution_count": null,
   "id": "94014e74",
   "metadata": {},
   "outputs": [],
   "source": [
    "hdbg.init_logger(verbosity=logging.DEBUG)\n",
    "\n",
    "_LOG = logging.getLogger(__name__)\n",
    "\n",
    "_LOG.info(\"%s\", henv.get_system_signature()[0])\n",
    "\n",
    "hprint.config_notebook()"
   ]
  },
  {
   "cell_type": "markdown",
   "id": "a6cbf707",
   "metadata": {},
   "source": [
    "# Get aggregated supply / demand"
   ]
  },
  {
   "cell_type": "code",
   "execution_count": null,
   "id": "0758421d",
   "metadata": {},
   "outputs": [],
   "source": [
    "type_ = \"supply\"\n",
    "alpha = 2.0\n",
    "beta = 10.0\n",
    "n_orders = 10\n",
    "agg_supply_curve = dtuimsd.get_supply_demand_aggregated_curve(\n",
    "    type_, alpha, beta, n_orders\n",
    ")\n",
    "agg_supply_curve"
   ]
  },
  {
   "cell_type": "code",
   "execution_count": null,
   "id": "b83f29ab",
   "metadata": {},
   "outputs": [],
   "source": [
    "type_ = \"demand\"\n",
    "alpha = -2.0\n",
    "beta = 210.0\n",
    "n_orders = 10\n",
    "agg_demand_curve = dtuimsd.get_supply_demand_aggregated_curve(\n",
    "    type_, alpha, beta, n_orders\n",
    ")\n",
    "agg_demand_curve"
   ]
  },
  {
   "cell_type": "code",
   "execution_count": null,
   "id": "303a6ee0",
   "metadata": {},
   "outputs": [],
   "source": [
    "plt.plot(agg_supply_curve)\n",
    "plt.plot(agg_demand_curve)\n",
    "plt.show()"
   ]
  },
  {
   "cell_type": "code",
   "execution_count": null,
   "id": "a23ae468",
   "metadata": {},
   "outputs": [],
   "source": [
    "agg_supply_orders = dtuimsd.convert_aggregated_curve_to_limit_orders(agg_supply_curve)\n",
    "agg_supply_orders_df = dtuimor.convert_orders_to_dataframe(agg_supply_orders)\n",
    "agg_supply_orders_df"
   ]
  },
  {
   "cell_type": "code",
   "execution_count": null,
   "id": "d2e7a835",
   "metadata": {},
   "outputs": [],
   "source": [
    "agg_demand_orders = dtuimsd.convert_aggregated_curve_to_limit_orders(agg_demand_curve)\n",
    "agg_demand_orders_df = dtuimor.convert_orders_to_dataframe(agg_demand_orders)\n",
    "agg_demand_orders_df"
   ]
  },
  {
   "cell_type": "markdown",
   "id": "fd2661fd",
   "metadata": {},
   "source": [
    "# Implement DaoCross and DaoSwap"
   ]
  },
  {
   "cell_type": "code",
   "execution_count": null,
   "id": "390f6245",
   "metadata": {},
   "outputs": [],
   "source": [
    "agg_all_orders = agg_supply_orders + agg_demand_orders\n",
    "prices = {\"BTC\": 1, \"ETH\": 50}"
   ]
  },
  {
   "cell_type": "code",
   "execution_count": null,
   "id": "2325ea16",
   "metadata": {},
   "outputs": [],
   "source": [
    "daocross_results = dtuimopt.run_daocross_solver(agg_all_orders, prices)\n",
    "display(daocross_results)"
   ]
  },
  {
   "cell_type": "code",
   "execution_count": null,
   "id": "475af90a",
   "metadata": {},
   "outputs": [],
   "source": [
    "daoswap_results = dtuimopt.run_daoswap_solver(agg_all_orders)\n",
    "display(daoswap_results)"
   ]
  },
  {
   "cell_type": "markdown",
   "id": "5c190a39",
   "metadata": {},
   "source": [
    "# Sanity check with discrete supply / demand"
   ]
  },
  {
   "cell_type": "code",
   "execution_count": null,
   "id": "ae6f114f",
   "metadata": {},
   "outputs": [],
   "source": [
    "type_ = \"supply\"\n",
    "discrete_supply_curve = dtuimsd.get_supply_demand_discrete_curve(\n",
    "    type_, agg_supply_orders_df\n",
    ")\n",
    "discrete_supply_curve"
   ]
  },
  {
   "cell_type": "code",
   "execution_count": null,
   "id": "6dbf6102",
   "metadata": {},
   "outputs": [],
   "source": [
    "type_ = \"demand\"\n",
    "discrete_demand_curve = dtuimsd.get_supply_demand_discrete_curve(\n",
    "    type_, agg_demand_orders_df\n",
    ")\n",
    "discrete_demand_curve"
   ]
  },
  {
   "cell_type": "code",
   "execution_count": null,
   "id": "7ec8125f",
   "metadata": {},
   "outputs": [],
   "source": [
    "plt.plot(discrete_supply_curve)\n",
    "plt.plot(discrete_demand_curve)\n",
    "plt.show()"
   ]
  },
  {
   "cell_type": "code",
   "execution_count": null,
   "id": "ee0d66a4",
   "metadata": {},
   "outputs": [],
   "source": []
  }
 ],
 "metadata": {
  "kernelspec": {
   "display_name": "Python 3 (ipykernel)",
   "language": "python",
   "name": "python3"
  }
 },
 "nbformat": 4,
 "nbformat_minor": 5
}
