{
 "cells": [
  {
   "cell_type": "code",
   "execution_count": 1,
   "id": "36db1d0e",
   "metadata": {
    "ExecuteTime": {
     "end_time": "2023-04-27T11:19:51.096494Z",
     "start_time": "2023-04-27T11:19:50.239154Z"
    }
   },
   "outputs": [],
   "source": [
    "%load_ext autoreload\n",
    "%autoreload 2\n",
    "\n",
    "import logging\n",
    "import matplotlib as mpl\n",
    "import matplotlib.pyplot as plt\n",
    "\n",
    "import helpers.hdbg as hdbg\n",
    "import helpers.henv as henv\n",
    "import helpers.hprint as hprint\n",
    "import defi.dao_cross.supply_demand as ddcrsede\n",
    "import defi.dao_cross.order as ddacrord"
   ]
  },
  {
   "cell_type": "code",
   "execution_count": 2,
   "id": "0eb3cb72",
   "metadata": {
    "ExecuteTime": {
     "end_time": "2023-04-27T11:19:52.649415Z",
     "start_time": "2023-04-27T11:19:51.099177Z"
    },
    "scrolled": true
   },
   "outputs": [
    {
     "name": "stdout",
     "output_type": "stream",
     "text": [
      "\u001b[0m\u001b[36mINFO\u001b[0m: > cmd='/venv/lib/python3.8/site-packages/ipykernel_launcher.py -f /home/.local/share/jupyter/runtime/kernel-2e77e8cf-ec54-4280-9414-45c0657dfdf3.json'\n",
      "WARNING: Running in Jupyter\n",
      "DEBUG Effective logging level=10\n",
      "DEBUG Shut up 28 modules: matplotlib.lines, matplotlib.axes, matplotlib.dviread, matplotlib.axes._axes, matplotlib.font_manager, matplotlib.dates, matplotlib.image, matplotlib._constrained_layout, matplotlib, matplotlib.backend_bases, matplotlib.text, matplotlib.axes._base, matplotlib.texmanager, matplotlib.category, matplotlib._layoutgrid, matplotlib.ticker, matplotlib.colorbar, matplotlib._afm, matplotlib.axis, matplotlib.pyplot, matplotlib.style.core, matplotlib.mathtext, matplotlib.artist, matplotlib.style, matplotlib.figure, asyncio, matplotlib.textpath, matplotlib.gridspec\n",
      "DEBUG > (cd . && cd \"$(git rev-parse --show-toplevel)/..\" && (git rev-parse --is-inside-work-tree | grep -q true)) 2>&1\n",
      "DEBUG > (git rev-parse --show-toplevel) 2>&1\n",
      "\u001b[31m-----------------------------------------------------------------------------\n",
      "This code is not in sync with the container:\n",
      "code_version='1.4.1' != container_version='1.4.0'\n",
      "-----------------------------------------------------------------------------\n",
      "You need to:\n",
      "- merge origin/master into your branch with `invoke git_merge_master`\n",
      "- pull the latest container with `invoke docker_pull`\u001b[0m\n",
      "DEBUG > (git branch --show-current) 2>&1\n",
      "DEBUG > (git rev-parse --short HEAD) 2>&1\n",
      "DEBUG > (git log --date=local --oneline --graph --date-order --decorate --pretty=format:'%h %<(8)%aN%  %<(65)%s (%>(14)%ar) %ad %<(10)%d' -3) 2>&1\n",
      "INFO  # Git\n",
      "  branch_name='SorrTask154_Create_linear_supply_demand_curves_using_orders'\n",
      "  hash='c562cfe09'\n",
      "  # Last commits:\n",
      "    * c562cfe09 DanilYachmenev SorrTask168: Allow notebook publishing at sorrentum (#169)        (63 minutes ago) Thu Apr 27 10:17:04 2023  (HEAD -> SorrTask154_Create_linear_supply_demand_curves_using_orders, origin/master, origin/HEAD, master)\n",
      "    * 2a2c7e9bc Paul     Checkpoint (#176)                                                 (  17 hours ago) Wed Apr 26 18:37:49 2023  (origin/Issue29)\n",
      "    * f6c462825 DanilYachmenev Issue139: Create supply demand curves (#153)                      (  19 hours ago) Wed Apr 26 15:54:19 2023           \n",
      "# Machine info\n",
      "  system=Linux\n",
      "  node name=51da7c20198c\n",
      "  release=5.15.0-1033-aws\n",
      "  version=#37~20.04.1-Ubuntu SMP Fri Mar 17 11:39:30 UTC 2023\n",
      "  machine=x86_64\n",
      "  processor=x86_64\n",
      "  cpu count=8\n",
      "  cpu freq=scpufreq(current=2499.998, min=0.0, max=0.0)\n",
      "  memory=svmem(total=33292873728, available=28668440576, percent=13.9, used=4161830912, free=757198848, active=14389276672, inactive=14472368128, buffers=2236338176, cached=26137505792, shared=2404352, slab=3414462464)\n",
      "  disk usage=sdiskusage(total=156052275200, used=47393918976, free=108641579008, percent=30.4)\n",
      "# Packages\n",
      "  python: 3.8.10\n",
      "  cvxopt: 1.3.0\n",
      "  cvxpy: 1.2.2\n",
      "  gluonnlp: ?\n",
      "  gluonts: 0.6.7\n",
      "  joblib: 1.2.0\n",
      "  mxnet: 1.9.1\n",
      "  numpy: 1.23.4\n",
      "  pandas: 1.5.1\n",
      "  pyarrow: 10.0.0\n",
      "  scipy: 1.9.3\n",
      "  seaborn: 0.12.1\n",
      "  sklearn: 1.1.3\n",
      "  statsmodels: 0.13.5\n"
     ]
    }
   ],
   "source": [
    "hdbg.init_logger(verbosity=logging.DEBUG)\n",
    "\n",
    "_LOG = logging.getLogger(__name__)\n",
    "\n",
    "_LOG.info(\"%s\", henv.get_system_signature()[0])\n",
    "\n",
    "hprint.config_notebook()"
   ]
  },
  {
   "cell_type": "markdown",
   "id": "1023c274",
   "metadata": {},
   "source": [
    "# Get linear supply / demand orders"
   ]
  },
  {
   "cell_type": "code",
   "execution_count": 3,
   "id": "79a4d11b",
   "metadata": {
    "ExecuteTime": {
     "end_time": "2023-04-27T11:19:52.698257Z",
     "start_time": "2023-04-27T11:19:52.652071Z"
    }
   },
   "outputs": [
    {
     "data": {
      "text/html": [
       "<div>\n",
       "<style scoped>\n",
       "    .dataframe tbody tr th:only-of-type {\n",
       "        vertical-align: middle;\n",
       "    }\n",
       "\n",
       "    .dataframe tbody tr th {\n",
       "        vertical-align: top;\n",
       "    }\n",
       "\n",
       "    .dataframe thead th {\n",
       "        text-align: right;\n",
       "    }\n",
       "</style>\n",
       "<table border=\"1\" class=\"dataframe\">\n",
       "  <thead>\n",
       "    <tr style=\"text-align: right;\">\n",
       "      <th></th>\n",
       "      <th>timestamp</th>\n",
       "      <th>action</th>\n",
       "      <th>quantity</th>\n",
       "      <th>base_token</th>\n",
       "      <th>limit_price</th>\n",
       "      <th>quote_token</th>\n",
       "      <th>deposit_address</th>\n",
       "    </tr>\n",
       "  </thead>\n",
       "  <tbody>\n",
       "    <tr>\n",
       "      <th>0</th>\n",
       "      <td>2023-04-27 11:19:52.673170+00:00</td>\n",
       "      <td>sell</td>\n",
       "      <td>2.501076</td>\n",
       "      <td>BTC</td>\n",
       "      <td>15.002151</td>\n",
       "      <td>ETH</td>\n",
       "      <td>4</td>\n",
       "    </tr>\n",
       "    <tr>\n",
       "      <th>1</th>\n",
       "      <td>2023-04-27 11:19:52.673270+00:00</td>\n",
       "      <td>sell</td>\n",
       "      <td>0.478646</td>\n",
       "      <td>BTC</td>\n",
       "      <td>15.959444</td>\n",
       "      <td>ETH</td>\n",
       "      <td>4</td>\n",
       "    </tr>\n",
       "    <tr>\n",
       "      <th>2</th>\n",
       "      <td>2023-04-27 11:19:52.673282+00:00</td>\n",
       "      <td>sell</td>\n",
       "      <td>5.714161</td>\n",
       "      <td>BTC</td>\n",
       "      <td>27.387767</td>\n",
       "      <td>ETH</td>\n",
       "      <td>9</td>\n",
       "    </tr>\n",
       "    <tr>\n",
       "      <th>3</th>\n",
       "      <td>2023-04-27 11:19:52.673291+00:00</td>\n",
       "      <td>sell</td>\n",
       "      <td>13.627191</td>\n",
       "      <td>BTC</td>\n",
       "      <td>54.642148</td>\n",
       "      <td>ETH</td>\n",
       "      <td>10</td>\n",
       "    </tr>\n",
       "    <tr>\n",
       "      <th>4</th>\n",
       "      <td>2023-04-27 11:19:52.673298+00:00</td>\n",
       "      <td>sell</td>\n",
       "      <td>5.181858</td>\n",
       "      <td>BTC</td>\n",
       "      <td>65.005864</td>\n",
       "      <td>ETH</td>\n",
       "      <td>1</td>\n",
       "    </tr>\n",
       "    <tr>\n",
       "      <th>5</th>\n",
       "      <td>2023-04-27 11:19:52.673477+00:00</td>\n",
       "      <td>sell</td>\n",
       "      <td>14.68925</td>\n",
       "      <td>BTC</td>\n",
       "      <td>94.384364</td>\n",
       "      <td>ETH</td>\n",
       "      <td>9</td>\n",
       "    </tr>\n",
       "    <tr>\n",
       "      <th>6</th>\n",
       "      <td>2023-04-27 11:19:52.673486+00:00</td>\n",
       "      <td>sell</td>\n",
       "      <td>21.750498</td>\n",
       "      <td>BTC</td>\n",
       "      <td>137.88536</td>\n",
       "      <td>ETH</td>\n",
       "      <td>4</td>\n",
       "    </tr>\n",
       "    <tr>\n",
       "      <th>7</th>\n",
       "      <td>2023-04-27 11:19:52.673495+00:00</td>\n",
       "      <td>sell</td>\n",
       "      <td>3.727269</td>\n",
       "      <td>BTC</td>\n",
       "      <td>145.339897</td>\n",
       "      <td>ETH</td>\n",
       "      <td>9</td>\n",
       "    </tr>\n",
       "    <tr>\n",
       "      <th>8</th>\n",
       "      <td>2023-04-27 11:19:52.673502+00:00</td>\n",
       "      <td>sell</td>\n",
       "      <td>5.977173</td>\n",
       "      <td>BTC</td>\n",
       "      <td>157.294243</td>\n",
       "      <td>ETH</td>\n",
       "      <td>7</td>\n",
       "    </tr>\n",
       "    <tr>\n",
       "      <th>9</th>\n",
       "      <td>2023-04-27 11:19:52.673510+00:00</td>\n",
       "      <td>sell</td>\n",
       "      <td>15.570835</td>\n",
       "      <td>BTC</td>\n",
       "      <td>188.435914</td>\n",
       "      <td>ETH</td>\n",
       "      <td>4</td>\n",
       "    </tr>\n",
       "  </tbody>\n",
       "</table>\n",
       "</div>"
      ],
      "text/plain": [
       "                         timestamp action   quantity base_token  limit_price quote_token  deposit_address\n",
       "0 2023-04-27 11:19:52.673170+00:00   sell   2.501076        BTC    15.002151         ETH                4\n",
       "1 2023-04-27 11:19:52.673270+00:00   sell   0.478646        BTC    15.959444         ETH                4\n",
       "2 2023-04-27 11:19:52.673282+00:00   sell   5.714161        BTC    27.387767         ETH                9\n",
       "3 2023-04-27 11:19:52.673291+00:00   sell  13.627191        BTC    54.642148         ETH               10\n",
       "4 2023-04-27 11:19:52.673298+00:00   sell   5.181858        BTC    65.005864         ETH                1\n",
       "5 2023-04-27 11:19:52.673477+00:00   sell   14.68925        BTC    94.384364         ETH                9\n",
       "6 2023-04-27 11:19:52.673486+00:00   sell  21.750498        BTC    137.88536         ETH                4\n",
       "7 2023-04-27 11:19:52.673495+00:00   sell   3.727269        BTC   145.339897         ETH                9\n",
       "8 2023-04-27 11:19:52.673502+00:00   sell   5.977173        BTC   157.294243         ETH                7\n",
       "9 2023-04-27 11:19:52.673510+00:00   sell  15.570835        BTC   188.435914         ETH                4"
      ]
     },
     "execution_count": 3,
     "metadata": {},
     "output_type": "execute_result"
    }
   ],
   "source": [
    "alpha = 2.0\n",
    "beta = 10.0\n",
    "n_orders = 10\n",
    "linear_supply_orders = ddcrsede.get_linear_supply_orders(alpha, beta, n_orders)\n",
    "ddacrord.convert_orders_to_dataframe(linear_supply_orders)"
   ]
  },
  {
   "cell_type": "code",
   "execution_count": 4,
   "id": "f7ddd795",
   "metadata": {
    "ExecuteTime": {
     "end_time": "2023-04-27T11:19:52.741406Z",
     "start_time": "2023-04-27T11:19:52.700241Z"
    }
   },
   "outputs": [
    {
     "data": {
      "text/html": [
       "<div>\n",
       "<style scoped>\n",
       "    .dataframe tbody tr th:only-of-type {\n",
       "        vertical-align: middle;\n",
       "    }\n",
       "\n",
       "    .dataframe tbody tr th {\n",
       "        vertical-align: top;\n",
       "    }\n",
       "\n",
       "    .dataframe thead th {\n",
       "        text-align: right;\n",
       "    }\n",
       "</style>\n",
       "<table border=\"1\" class=\"dataframe\">\n",
       "  <thead>\n",
       "    <tr style=\"text-align: right;\">\n",
       "      <th></th>\n",
       "      <th>timestamp</th>\n",
       "      <th>action</th>\n",
       "      <th>quantity</th>\n",
       "      <th>base_token</th>\n",
       "      <th>limit_price</th>\n",
       "      <th>quote_token</th>\n",
       "      <th>deposit_address</th>\n",
       "    </tr>\n",
       "  </thead>\n",
       "  <tbody>\n",
       "    <tr>\n",
       "      <th>0</th>\n",
       "      <td>2023-04-27 11:19:52.723622+00:00</td>\n",
       "      <td>buy</td>\n",
       "      <td>2.626129</td>\n",
       "      <td>BTC</td>\n",
       "      <td>204.747741</td>\n",
       "      <td>ETH</td>\n",
       "      <td>4</td>\n",
       "    </tr>\n",
       "    <tr>\n",
       "      <th>1</th>\n",
       "      <td>2023-04-27 11:19:52.723672+00:00</td>\n",
       "      <td>buy</td>\n",
       "      <td>0.502579</td>\n",
       "      <td>BTC</td>\n",
       "      <td>203.742584</td>\n",
       "      <td>ETH</td>\n",
       "      <td>4</td>\n",
       "    </tr>\n",
       "    <tr>\n",
       "      <th>2</th>\n",
       "      <td>2023-04-27 11:19:52.723685+00:00</td>\n",
       "      <td>buy</td>\n",
       "      <td>5.999869</td>\n",
       "      <td>BTC</td>\n",
       "      <td>191.742845</td>\n",
       "      <td>ETH</td>\n",
       "      <td>9</td>\n",
       "    </tr>\n",
       "    <tr>\n",
       "      <th>3</th>\n",
       "      <td>2023-04-27 11:19:52.723695+00:00</td>\n",
       "      <td>buy</td>\n",
       "      <td>14.30855</td>\n",
       "      <td>BTC</td>\n",
       "      <td>163.125745</td>\n",
       "      <td>ETH</td>\n",
       "      <td>10</td>\n",
       "    </tr>\n",
       "    <tr>\n",
       "      <th>4</th>\n",
       "      <td>2023-04-27 11:19:52.723703+00:00</td>\n",
       "      <td>buy</td>\n",
       "      <td>5.440951</td>\n",
       "      <td>BTC</td>\n",
       "      <td>152.243843</td>\n",
       "      <td>ETH</td>\n",
       "      <td>1</td>\n",
       "    </tr>\n",
       "    <tr>\n",
       "      <th>5</th>\n",
       "      <td>2023-04-27 11:19:52.723712+00:00</td>\n",
       "      <td>buy</td>\n",
       "      <td>15.423713</td>\n",
       "      <td>BTC</td>\n",
       "      <td>121.396418</td>\n",
       "      <td>ETH</td>\n",
       "      <td>9</td>\n",
       "    </tr>\n",
       "    <tr>\n",
       "      <th>6</th>\n",
       "      <td>2023-04-27 11:19:52.723721+00:00</td>\n",
       "      <td>buy</td>\n",
       "      <td>22.838023</td>\n",
       "      <td>BTC</td>\n",
       "      <td>75.720372</td>\n",
       "      <td>ETH</td>\n",
       "      <td>4</td>\n",
       "    </tr>\n",
       "    <tr>\n",
       "      <th>7</th>\n",
       "      <td>2023-04-27 11:19:52.723730+00:00</td>\n",
       "      <td>buy</td>\n",
       "      <td>3.913632</td>\n",
       "      <td>BTC</td>\n",
       "      <td>67.893108</td>\n",
       "      <td>ETH</td>\n",
       "      <td>9</td>\n",
       "    </tr>\n",
       "    <tr>\n",
       "      <th>8</th>\n",
       "      <td>2023-04-27 11:19:52.723757+00:00</td>\n",
       "      <td>buy</td>\n",
       "      <td>6.276031</td>\n",
       "      <td>BTC</td>\n",
       "      <td>55.341045</td>\n",
       "      <td>ETH</td>\n",
       "      <td>7</td>\n",
       "    </tr>\n",
       "    <tr>\n",
       "      <th>9</th>\n",
       "      <td>2023-04-27 11:19:52.723767+00:00</td>\n",
       "      <td>buy</td>\n",
       "      <td>16.349377</td>\n",
       "      <td>BTC</td>\n",
       "      <td>22.642291</td>\n",
       "      <td>ETH</td>\n",
       "      <td>4</td>\n",
       "    </tr>\n",
       "  </tbody>\n",
       "</table>\n",
       "</div>"
      ],
      "text/plain": [
       "                         timestamp action   quantity base_token  limit_price quote_token  deposit_address\n",
       "0 2023-04-27 11:19:52.723622+00:00    buy   2.626129        BTC   204.747741         ETH                4\n",
       "1 2023-04-27 11:19:52.723672+00:00    buy   0.502579        BTC   203.742584         ETH                4\n",
       "2 2023-04-27 11:19:52.723685+00:00    buy   5.999869        BTC   191.742845         ETH                9\n",
       "3 2023-04-27 11:19:52.723695+00:00    buy   14.30855        BTC   163.125745         ETH               10\n",
       "4 2023-04-27 11:19:52.723703+00:00    buy   5.440951        BTC   152.243843         ETH                1\n",
       "5 2023-04-27 11:19:52.723712+00:00    buy  15.423713        BTC   121.396418         ETH                9\n",
       "6 2023-04-27 11:19:52.723721+00:00    buy  22.838023        BTC    75.720372         ETH                4\n",
       "7 2023-04-27 11:19:52.723730+00:00    buy   3.913632        BTC    67.893108         ETH                9\n",
       "8 2023-04-27 11:19:52.723757+00:00    buy   6.276031        BTC    55.341045         ETH                7\n",
       "9 2023-04-27 11:19:52.723767+00:00    buy  16.349377        BTC    22.642291         ETH                4"
      ]
     },
     "execution_count": 4,
     "metadata": {},
     "output_type": "execute_result"
    }
   ],
   "source": [
    "alpha = -2.0\n",
    "beta = 210.0\n",
    "n_orders = 10\n",
    "linear_demand_orders = ddcrsede.get_linear_demand_orders(alpha, beta, n_orders)\n",
    "ddacrord.convert_orders_to_dataframe(linear_demand_orders)"
   ]
  },
  {
   "cell_type": "markdown",
   "id": "b8263012",
   "metadata": {},
   "source": [
    "# Get curves"
   ]
  },
  {
   "cell_type": "code",
   "execution_count": 5,
   "id": "01160377",
   "metadata": {
    "ExecuteTime": {
     "end_time": "2023-04-27T11:19:52.770699Z",
     "start_time": "2023-04-27T11:19:52.744841Z"
    }
   },
   "outputs": [
    {
     "data": {
      "text/plain": [
       "[(0, 15.002151044533388),\n",
       " (2.5010755222666936, 15.002151044533388),\n",
       " (2.5010755222666936, 15.959443887614068),\n",
       " (2.9797219438070344, 15.959443887614068),\n",
       " (2.9797219438070344, 27.38776652588323),\n",
       " (8.693883262941615, 27.38776652588323),\n",
       " (8.693883262941615, 54.64214762976455),\n",
       " (22.321073814882276, 54.64214762976455),\n",
       " (22.321073814882276, 65.00586367382385),\n",
       " (27.502931836911927, 65.00586367382385),\n",
       " (27.502931836911927, 94.38436393705409),\n",
       " (42.192181968527045, 94.38436393705409),\n",
       " (42.192181968527045, 137.88535969157675),\n",
       " (63.942679845788376, 137.88535969157675),\n",
       " (63.942679845788376, 145.33989748458225),\n",
       " (67.66994874229113, 145.33989748458225),\n",
       " (67.66994874229113, 157.29424283280247),\n",
       " (73.64712141640123, 157.29424283280247),\n",
       " (73.64712141640123, 188.43591354096907),\n",
       " (89.21795677048453, 188.43591354096907),\n",
       " (89.21795677048453, 235.54489192621133)]"
      ]
     },
     "execution_count": 5,
     "metadata": {},
     "output_type": "execute_result"
    }
   ],
   "source": [
    "supply_curve = ddcrsede.get_curve_dots(linear_supply_orders, \"supply\")\n",
    "supply_curve"
   ]
  },
  {
   "cell_type": "code",
   "execution_count": 6,
   "id": "186e094b",
   "metadata": {
    "ExecuteTime": {
     "end_time": "2023-04-27T11:19:52.799433Z",
     "start_time": "2023-04-27T11:19:52.772900Z"
    }
   },
   "outputs": [
    {
     "data": {
      "text/plain": [
       "[(0, 204.74774140323996),\n",
       " (2.6261292983800284, 204.74774140323996),\n",
       " (2.6261292983800284, 203.74258391800524),\n",
       " (3.128708040997386, 203.74258391800524),\n",
       " (3.128708040997386, 191.7428451478226),\n",
       " (9.128577426088697, 191.7428451478226),\n",
       " (9.128577426088697, 163.12574498874721),\n",
       " (23.43712750562639, 163.12574498874721),\n",
       " (23.43712750562639, 152.24384314248496),\n",
       " (28.878078428757522, 152.24384314248496),\n",
       " (28.878078428757522, 121.39641786609322),\n",
       " (44.30179106695339, 121.39641786609322),\n",
       " (44.30179106695339, 75.7203723238444),\n",
       " (67.1398138380778, 75.7203723238444),\n",
       " (67.1398138380778, 67.89310764118864),\n",
       " (71.05344617940568, 67.89310764118864),\n",
       " (71.05344617940568, 55.341045025557406),\n",
       " (77.3294774872213, 55.341045025557406),\n",
       " (77.3294774872213, 22.642290781982467),\n",
       " (93.67885460900877, 22.642290781982467),\n",
       " (93.67885460900877, 0)]"
      ]
     },
     "execution_count": 6,
     "metadata": {},
     "output_type": "execute_result"
    }
   ],
   "source": [
    "demand_curve = ddcrsede.get_curve_dots(linear_demand_orders, \"demand\")\n",
    "demand_curve"
   ]
  },
  {
   "cell_type": "code",
   "execution_count": 7,
   "id": "e7fc6a4b",
   "metadata": {
    "ExecuteTime": {
     "end_time": "2023-04-27T11:19:53.063938Z",
     "start_time": "2023-04-27T11:19:52.802101Z"
    }
   },
   "outputs": [
    {
     "data": {
      "image/png": "[encoded data removed]",
      "text/plain": [
       "<Figure size 2000x500 with 1 Axes>"
      ]
     },
     "metadata": {},
     "output_type": "display_data"
    }
   ],
   "source": [
    "plt.plot(*zip(*supply_curve))\n",
    "plt.plot(*zip(*demand_curve))\n",
    "plt.show()"
   ]
  },
  {
   "cell_type": "code",
   "execution_count": null,
   "id": "475772a8",
   "metadata": {},
   "outputs": [],
   "source": []
  }
 ],
 "metadata": {
  "kernelspec": {
   "display_name": "Python 3 (ipykernel)",
   "language": "python",
   "name": "python3"
  },
  "language_info": {
   "codemirror_mode": {
    "name": "ipython",
    "version": 3
   },
   "file_extension": ".py",
   "mimetype": "text/x-python",
   "name": "python",
   "nbconvert_exporter": "python",
   "pygments_lexer": "ipython3",
   "version": "3.8.10"
  },
  "toc": {
   "base_numbering": 1,
   "nav_menu": {},
   "number_sections": true,
   "sideBar": true,
   "skip_h1_title": false,
   "title_cell": "Table of Contents",
   "title_sidebar": "Contents",
   "toc_cell": false,
   "toc_position": {},
   "toc_section_display": true,
   "toc_window_display": false
  }
 },
 "nbformat": 4,
 "nbformat_minor": 5
}
