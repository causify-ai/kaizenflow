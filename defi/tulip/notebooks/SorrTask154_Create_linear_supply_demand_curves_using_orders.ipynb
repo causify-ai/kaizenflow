{
 "cells": [
  {
   "cell_type": "code",
   "execution_count": null,
   "id": "ad02ebd6",
   "metadata": {},
   "outputs": [],
   "source": [
    "%load_ext autoreload\n",
    "%autoreload 2\n",
    "\n",
    "import logging\n",
    "\n",
    "import matplotlib.pyplot as plt\n",
    "\n",
    "import defi.tulip.implementation.order as dtuimord\n",
    "import defi.tulip.implementation.supply_demand as dtimsude\n",
    "import helpers.hdbg as hdbg\n",
    "import helpers.henv as henv\n",
    "import helpers.hprint as hprint"
   ]
  },
  {
   "cell_type": "code",
   "execution_count": null,
   "id": "10809503",
   "metadata": {},
   "outputs": [],
   "source": [
    "try:\n",
    "    pass\n",
    "except ImportError:\n",
    "    !sudo /bin/bash -c \"(source /venv/bin/activate; pip install pulp)\"\n",
    "    pass\n",
    "import defi.tulip.implementation.optimize as dtuimopt"
   ]
  },
  {
   "cell_type": "code",
   "execution_count": null,
   "id": "9e75dbd2",
   "metadata": {},
   "outputs": [],
   "source": [
    "hdbg.init_logger(verbosity=logging.DEBUG)\n",
    "\n",
    "_LOG = logging.getLogger(__name__)\n",
    "\n",
    "_LOG.info(\"%s\", henv.get_system_signature()[0])\n",
    "\n",
    "hprint.config_notebook()"
   ]
  },
  {
   "cell_type": "markdown",
   "id": "d00d2c3a",
   "metadata": {},
   "source": [
    "# Get aggregated supply / demand"
   ]
  },
  {
   "cell_type": "code",
   "execution_count": null,
   "id": "2f48069d",
   "metadata": {},
   "outputs": [],
   "source": [
    "type_ = \"supply\"\n",
    "alpha = 2.0\n",
    "beta = 10.0\n",
    "n_orders = 10\n",
    "agg_supply_curve = dtimsude.get_supply_demand_aggregated_curve(\n",
    "    type_, alpha, beta, n_orders\n",
    ")\n",
    "agg_supply_curve"
   ]
  },
  {
   "cell_type": "code",
   "execution_count": null,
   "id": "efb29469",
   "metadata": {},
   "outputs": [],
   "source": [
    "type_ = \"demand\"\n",
    "alpha = -2.0\n",
    "beta = 210.0\n",
    "n_orders = 10\n",
    "agg_demand_curve = dtimsude.get_supply_demand_aggregated_curve(\n",
    "    type_, alpha, beta, n_orders\n",
    ")\n",
    "agg_demand_curve"
   ]
  },
  {
   "cell_type": "code",
   "execution_count": null,
   "id": "27c31470",
   "metadata": {},
   "outputs": [],
   "source": [
    "plt.plot(agg_supply_curve)\n",
    "plt.plot(agg_demand_curve)\n",
    "plt.show()"
   ]
  },
  {
   "cell_type": "code",
   "execution_count": null,
   "id": "2ccf13ae",
   "metadata": {},
   "outputs": [],
   "source": [
    "agg_supply_orders = dtimsude.convert_aggregated_curve_to_limit_orders(\n",
    "    agg_supply_curve\n",
    ")\n",
    "agg_supply_orders_df = dtuimord.convert_orders_to_dataframe(agg_supply_orders)\n",
    "agg_supply_orders_df"
   ]
  },
  {
   "cell_type": "code",
   "execution_count": null,
   "id": "78e057ce",
   "metadata": {},
   "outputs": [],
   "source": [
    "agg_demand_orders = dtimsude.convert_aggregated_curve_to_limit_orders(\n",
    "    agg_demand_curve\n",
    ")\n",
    "agg_demand_orders_df = dtuimord.convert_orders_to_dataframe(agg_demand_orders)\n",
    "agg_demand_orders_df"
   ]
  },
  {
   "cell_type": "markdown",
   "id": "5889ac1c",
   "metadata": {},
   "source": [
    "# Implement DaoCross and DaoSwap"
   ]
  },
  {
   "cell_type": "code",
   "execution_count": null,
   "id": "c12501e2",
   "metadata": {},
   "outputs": [],
   "source": [
    "agg_all_orders = agg_supply_orders + agg_demand_orders\n",
    "prices = {\"BTC\": 1, \"ETH\": 50}"
   ]
  },
  {
   "cell_type": "code",
   "execution_count": null,
   "id": "3d0f765e",
   "metadata": {},
   "outputs": [],
   "source": [
    "daocross_results = dtuimopt.run_daocross_solver(agg_all_orders, prices)\n",
    "display(daocross_results)"
   ]
  },
  {
   "cell_type": "code",
   "execution_count": null,
   "id": "090e4c79",
   "metadata": {},
   "outputs": [],
   "source": [
    "daoswap_results = dtuimopt.run_daoswap_solver(agg_all_orders)\n",
    "display(daoswap_results)"
   ]
  },
  {
   "cell_type": "markdown",
   "id": "46fb1723",
   "metadata": {},
   "source": [
    "# Sanity check with discrete supply / demand"
   ]
  },
  {
   "cell_type": "code",
   "execution_count": null,
   "id": "34032d18",
   "metadata": {},
   "outputs": [],
   "source": [
    "type_ = \"supply\"\n",
    "discrete_supply_curve = dtimsude.get_supply_demand_discrete_curve(\n",
    "    type_, agg_supply_orders_df\n",
    ")\n",
    "discrete_supply_curve"
   ]
  },
  {
   "cell_type": "code",
   "execution_count": null,
   "id": "de5de645",
   "metadata": {},
   "outputs": [],
   "source": [
    "type_ = \"demand\"\n",
    "discrete_demand_curve = dtimsude.get_supply_demand_discrete_curve(\n",
    "    type_, agg_demand_orders_df\n",
    ")\n",
    "discrete_demand_curve"
   ]
  },
  {
   "cell_type": "code",
   "execution_count": null,
   "id": "0e1eb374",
   "metadata": {},
   "outputs": [],
   "source": [
    "plt.plot(discrete_supply_curve)\n",
    "plt.plot(discrete_demand_curve)\n",
    "plt.show()"
   ]
  },
  {
   "cell_type": "code",
   "execution_count": null,
   "id": "440847d3",
   "metadata": {},
   "outputs": [],
   "source": []
  }
 ],
 "metadata": {
  "kernelspec": {
   "display_name": "Python 3 (ipykernel)",
   "language": "python",
   "name": "python3"
  }
 },
 "nbformat": 4,
 "nbformat_minor": 5
}
