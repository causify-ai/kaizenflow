{
 "cells": [
  {
   "cell_type": "code",
   "execution_count": null,
   "id": "7fabb961",
   "metadata": {},
   "outputs": [],
   "source": [
    "# From https://ethereum.stackexchange.com/questions/111254/how-to-call-brownie-run-with-extra-script-parameters\n",
    "\n",
    "import brownie\n",
    "target = 'development'\n",
    "if brownie.network.is_connected():\n",
    "    brownie.network.disconnect(target)\n",
    "brownie.network.connect(target)\n",
    "try:\n",
    "    project = brownie.project.load('/data/tutorial_brownie/hello_world_contract')\n",
    "except brownie.exceptions.ProjectAlreadyLoaded:\n",
    "    pass"
   ]
  },
  {
   "cell_type": "code",
   "execution_count": null,
   "id": "e892c2fb",
   "metadata": {},
   "outputs": [],
   "source": [
    "!more proj_files/hello_world_contract.sol"
   ]
  },
  {
   "cell_type": "code",
   "execution_count": null,
   "id": "661f1397",
   "metadata": {},
   "outputs": [],
   "source": [
    "# Get the SimpleContract\n",
    "contract = project.SimpleContract\n",
    "print(contract)"
   ]
  },
  {
   "cell_type": "code",
   "execution_count": null,
   "id": "5cc77622",
   "metadata": {},
   "outputs": [],
   "source": [
    "# These are the same that Ganache creates, since we are attached to Ganache local blockchain.\n",
    "list(brownie.accounts)"
   ]
  },
  {
   "cell_type": "code",
   "execution_count": null,
   "id": "0357b712",
   "metadata": {},
   "outputs": [],
   "source": [
    "# Get the first account.\n",
    "accounts = brownie.accounts\n",
    "account = accounts[0]\n",
    "print(account)\n",
    "\n",
    "#dir(account)"
   ]
  },
  {
   "cell_type": "code",
   "execution_count": null,
   "id": "dc10b5e8",
   "metadata": {},
   "outputs": [],
   "source": [
    "# The balance is the same as reported by Ganache (1000 ETH in Wei)\n",
    "print(accounts[0].balance())\n",
    "print(accounts[1].balance())\n",
    "\n",
    "print(\"total=\", accounts[0].balance() + accounts[1].balance())"
   ]
  },
  {
   "cell_type": "code",
   "execution_count": null,
   "id": "5c22b1f6",
   "metadata": {},
   "outputs": [],
   "source": [
    "# From https://stackoverflow.com/questions/71341281/awaiting-transaction-in-the-mempool\n",
    "\n",
    "if True:\n",
    "    # In dev mode.\n",
    "    from brownie.network import gas_price\n",
    "    from brownie.network.gas.strategies import LinearScalingStrategy\n",
    "\n",
    "    gas_strategy = LinearScalingStrategy(\"60 gwei\", \"70 gwei\", 1.1)\n",
    "\n",
    "    #if network.show_active() == \"development\":\n",
    "    gas_price(gas_strategy)"
   ]
  },
  {
   "cell_type": "code",
   "execution_count": null,
   "id": "a3099804",
   "metadata": {},
   "outputs": [],
   "source": [
    "# Transfer 10 ether from account 0 to 1.\n",
    "accounts[0].transfer(accounts[1], \"10 ether\")"
   ]
  },
  {
   "cell_type": "code",
   "execution_count": null,
   "id": "02781d3b",
   "metadata": {},
   "outputs": [],
   "source": [
    "# Note that some ether was spent in gas.\n",
    "print(accounts[0].balance())\n",
    "print(accounts[1].balance())\n",
    "\n",
    "print(\"total=\", accounts[0].balance() + accounts[1].balance())"
   ]
  },
  {
   "cell_type": "code",
   "execution_count": null,
   "id": "742b8848",
   "metadata": {},
   "outputs": [],
   "source": [
    "# List contracts deployed by Brownie in this session.\n",
    "list(contract)"
   ]
  },
  {
   "cell_type": "code",
   "execution_count": null,
   "id": "d267d762",
   "metadata": {},
   "outputs": [],
   "source": [
    "# Report the ABI of the hello_world_contract.sol\n",
    "contract.abi"
   ]
  },
  {
   "cell_type": "code",
   "execution_count": null,
   "id": "3970a833",
   "metadata": {},
   "outputs": [],
   "source": [
    "# Deploy the contract from account 0.\n",
    "contract_tmp = accounts[0].deploy(contract)\n",
    "\n",
    "print(contract_tmp)"
   ]
  },
  {
   "cell_type": "code",
   "execution_count": null,
   "id": "2fc6e38f",
   "metadata": {},
   "outputs": [],
   "source": [
    "# Brownie is keeping track of the contracts.\n",
    "list(contract)"
   ]
  },
  {
   "cell_type": "code",
   "execution_count": null,
   "id": "13949ddf",
   "metadata": {},
   "outputs": [],
   "source": [
    "contract.signatures"
   ]
  },
  {
   "cell_type": "code",
   "execution_count": null,
   "id": "421ed350",
   "metadata": {},
   "outputs": [],
   "source": [
    "# Execute a transaction on the contract.\n",
    "print(\"getValue before=\", contract[0].getValue())\n",
    "\n",
    "# Set the value.\n",
    "tx = contract[0].setValue(10000)\n",
    "print(tx)\n",
    "\n",
    "tx.info()\n",
    "\n",
    "# After the contract the value.\n",
    "print(\"getValue after=\", contract[0].getValue())"
   ]
  }
 ],
 "metadata": {
  "kernelspec": {
   "display_name": "Python 3 (ipykernel)",
   "language": "python",
   "name": "python3"
  },
  "language_info": {
   "codemirror_mode": {
    "name": "ipython",
    "version": 3
   },
   "file_extension": ".py",
   "mimetype": "text/x-python",
   "name": "python",
   "nbconvert_exporter": "python",
   "pygments_lexer": "ipython3"
  },
  "toc": {
   "base_numbering": 1,
   "nav_menu": {},
   "number_sections": true,
   "sideBar": true,
   "skip_h1_title": false,
   "title_cell": "Table of Contents",
   "title_sidebar": "Contents",
   "toc_cell": false,
   "toc_position": {},
   "toc_section_display": true,
   "toc_window_display": false
  }
 },
 "nbformat": 4,
 "nbformat_minor": 5
}
