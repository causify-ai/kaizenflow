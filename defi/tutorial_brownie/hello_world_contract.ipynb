{
 "cells": [
  {
   "cell_type": "code",
   "execution_count": 1,
   "id": "7fabb961",
   "metadata": {
    "ExecuteTime": {
     "end_time": "2023-01-15T18:26:19.999750Z",
     "start_time": "2023-01-15T18:26:19.030615Z"
    }
   },
   "outputs": [
    {
     "name": "stdout",
     "output_type": "stream",
     "text": [
      "Attached to local RPC client listening at '127.0.0.1:8545'...\n"
     ]
    }
   ],
   "source": [
    "# From https://ethereum.stackexchange.com/questions/111254/how-to-call-brownie-run-with-extra-script-parameters\n",
    "\n",
    "import brownie\n",
    "target = 'development'\n",
    "if brownie.network.is_connected():\n",
    "    brownie.network.disconnect(target)\n",
    "brownie.network.connect(target)\n",
    "try:\n",
    "    project = brownie.project.load('/data/tutorial_brownie/hello_world_contract')\n",
    "except brownie.exceptions.ProjectAlreadyLoaded:\n",
    "    pass"
   ]
  },
  {
   "cell_type": "code",
   "execution_count": 26,
   "id": "e892c2fb",
   "metadata": {
    "ExecuteTime": {
     "end_time": "2023-01-15T21:50:45.835476Z",
     "start_time": "2023-01-15T21:50:45.705825Z"
    }
   },
   "outputs": [
    {
     "name": "stdout",
     "output_type": "stream",
     "text": [
      "pragma solidity ^0.5.11;\r\n",
      "\r\n",
      "contract SimpleContract {\r\n",
      "     uint value;\r\n",
      "     function setValue(uint _value) external {value = _value;}\r\n",
      "     function getValue() external view returns(uint){return value;}       \r\n",
      "}\r\n"
     ]
    }
   ],
   "source": [
    "!more proj_files/hello_world_contract.sol"
   ]
  },
  {
   "cell_type": "code",
   "execution_count": 25,
   "id": "661f1397",
   "metadata": {
    "ExecuteTime": {
     "end_time": "2023-01-15T21:50:25.480765Z",
     "start_time": "2023-01-15T21:50:25.474282Z"
    }
   },
   "outputs": [
    {
     "name": "stdout",
     "output_type": "stream",
     "text": [
      "<brownie.network.contract.ContractContainer object at 0x7f3039b19a20>\n"
     ]
    }
   ],
   "source": [
    "# Get the SimpleContract\n",
    "contract = project.SimpleContract\n",
    "print(contract)"
   ]
  },
  {
   "cell_type": "code",
   "execution_count": 3,
   "id": "5cc77622",
   "metadata": {
    "ExecuteTime": {
     "end_time": "2023-01-15T18:26:26.413935Z",
     "start_time": "2023-01-15T18:26:26.403639Z"
    }
   },
   "outputs": [
    {
     "data": {
      "text/plain": [
       "[<Account '0x90F8bf6A479f320ead074411a4B0e7944Ea8c9C1'>,\n",
       " <Account '0xFFcf8FDEE72ac11b5c542428B35EEF5769C409f0'>,\n",
       " <Account '0x22d491Bde2303f2f43325b2108D26f1eAbA1e32b'>,\n",
       " <Account '0xE11BA2b4D45Eaed5996Cd0823791E0C93114882d'>,\n",
       " <Account '0xd03ea8624C8C5987235048901fB614fDcA89b117'>,\n",
       " <Account '0x95cED938F7991cd0dFcb48F0a06a40FA1aF46EBC'>,\n",
       " <Account '0x3E5e9111Ae8eB78Fe1CC3bb8915d5D461F3Ef9A9'>,\n",
       " <Account '0x28a8746e75304c0780E011BEd21C72cD78cd535E'>,\n",
       " <Account '0xACa94ef8bD5ffEE41947b4585a84BdA5a3d3DA6E'>,\n",
       " <Account '0x1dF62f291b2E969fB0849d99D9Ce41e2F137006e'>]"
      ]
     },
     "execution_count": 3,
     "metadata": {},
     "output_type": "execute_result"
    }
   ],
   "source": [
    "# These are the same that Ganache creates, since we are attached to Ganache local blockchain.\n",
    "list(brownie.accounts)"
   ]
  },
  {
   "cell_type": "code",
   "execution_count": 9,
   "id": "0357b712",
   "metadata": {
    "ExecuteTime": {
     "end_time": "2023-01-15T18:32:13.007090Z",
     "start_time": "2023-01-15T18:32:13.001889Z"
    }
   },
   "outputs": [
    {
     "name": "stdout",
     "output_type": "stream",
     "text": [
      "0x90F8bf6A479f320ead074411a4B0e7944Ea8c9C1\n"
     ]
    }
   ],
   "source": [
    "# Get the first account.\n",
    "accounts = brownie.accounts\n",
    "account = accounts[0]\n",
    "print(account)\n",
    "\n",
    "#dir(account)"
   ]
  },
  {
   "cell_type": "code",
   "execution_count": 22,
   "id": "dc10b5e8",
   "metadata": {
    "ExecuteTime": {
     "end_time": "2023-01-15T20:58:16.446701Z",
     "start_time": "2023-01-15T20:58:16.313404Z"
    }
   },
   "outputs": [
    {
     "name": "stdout",
     "output_type": "stream",
     "text": [
      "973981846639966316000\n",
      "1021967099660000000000\n",
      "total= 1995948946299966316000\n"
     ]
    }
   ],
   "source": [
    "# The balance is the same as reported by Ganache (1000 ETH in Wei)\n",
    "print(accounts[0].balance())\n",
    "print(accounts[1].balance())\n",
    "\n",
    "print(\"total=\", accounts[0].balance() + accounts[1].balance())"
   ]
  },
  {
   "cell_type": "code",
   "execution_count": 11,
   "id": "5c22b1f6",
   "metadata": {
    "ExecuteTime": {
     "end_time": "2023-01-15T18:32:44.919264Z",
     "start_time": "2023-01-15T18:32:44.908777Z"
    }
   },
   "outputs": [],
   "source": [
    "# From https://stackoverflow.com/questions/71341281/awaiting-transaction-in-the-mempool\n",
    "\n",
    "if True:\n",
    "    # In dev mode.\n",
    "    from brownie.network import gas_price\n",
    "    from brownie.network.gas.strategies import LinearScalingStrategy\n",
    "\n",
    "    gas_strategy = LinearScalingStrategy(\"60 gwei\", \"70 gwei\", 1.1)\n",
    "\n",
    "    #if network.show_active() == \"development\":\n",
    "    gas_price(gas_strategy)"
   ]
  },
  {
   "cell_type": "code",
   "execution_count": 12,
   "id": "a3099804",
   "metadata": {
    "ExecuteTime": {
     "end_time": "2023-01-15T18:32:59.445340Z",
     "start_time": "2023-01-15T18:32:59.340509Z"
    }
   },
   "outputs": [
    {
     "name": "stdout",
     "output_type": "stream",
     "text": [
      "\r",
      "Transaction sent: \u001b[0;1;34m0xa9d29d6ac93599393f0cf3e3587e679904148051fa488ac05db397683cf1d0ca\u001b[0;m\n",
      "  Gas price: \u001b[0;1;34m60.0\u001b[0;m gwei   Gas limit: \u001b[0;1;34m30000000\u001b[0;m   Nonce: \u001b[0;1;34m0\u001b[0;m\n",
      "\r",
      "  Transaction confirmed   Block: \u001b[0;1;34m1\u001b[0;m   Gas used: \u001b[0;1;34m21000\u001b[0;m (\u001b[0;1;34m0.07%\u001b[0;m)\n",
      "\n"
     ]
    },
    {
     "data": {
      "text/plain": [
       "<Transaction '\u001b[0;m0xa9d29d6ac93599393f0cf3e3587e679904148051fa488ac05db397683cf1d0ca\u001b[0;m'>"
      ]
     },
     "execution_count": 12,
     "metadata": {},
     "output_type": "execute_result"
    }
   ],
   "source": [
    "# Transfer 10 ether from account 0 to 1.\n",
    "accounts[0].transfer(accounts[1], \"10 ether\")"
   ]
  },
  {
   "cell_type": "code",
   "execution_count": 23,
   "id": "02781d3b",
   "metadata": {
    "ExecuteTime": {
     "end_time": "2023-01-15T20:58:32.440292Z",
     "start_time": "2023-01-15T20:58:32.405141Z"
    }
   },
   "outputs": [
    {
     "name": "stdout",
     "output_type": "stream",
     "text": [
      "973981846639966316000\n",
      "1021967099660000000000\n",
      "total= 1995948946299966316000\n"
     ]
    }
   ],
   "source": [
    "# Note that some ether was spent in gas.\n",
    "print(accounts[0].balance())\n",
    "print(accounts[1].balance())\n",
    "\n",
    "print(\"total=\", accounts[0].balance() + accounts[1].balance())"
   ]
  },
  {
   "cell_type": "code",
   "execution_count": 16,
   "id": "742b8848",
   "metadata": {
    "ExecuteTime": {
     "end_time": "2023-01-15T18:34:18.093794Z",
     "start_time": "2023-01-15T18:34:18.089335Z"
    }
   },
   "outputs": [
    {
     "data": {
      "text/plain": [
       "[]"
      ]
     },
     "execution_count": 16,
     "metadata": {},
     "output_type": "execute_result"
    }
   ],
   "source": [
    "# List contracts deployed by Brownie in this session.\n",
    "list(contract)"
   ]
  },
  {
   "cell_type": "code",
   "execution_count": 17,
   "id": "d267d762",
   "metadata": {
    "ExecuteTime": {
     "end_time": "2023-01-15T18:34:21.553145Z",
     "start_time": "2023-01-15T18:34:21.546101Z"
    }
   },
   "outputs": [
    {
     "data": {
      "text/plain": [
       "[{'constant': True,\n",
       "  'inputs': [],\n",
       "  'name': 'getValue',\n",
       "  'outputs': [{'internalType': 'uint256', 'name': '', 'type': 'uint256'}],\n",
       "  'payable': False,\n",
       "  'stateMutability': 'view',\n",
       "  'type': 'function'},\n",
       " {'constant': False,\n",
       "  'inputs': [{'internalType': 'uint256', 'name': '_value', 'type': 'uint256'}],\n",
       "  'name': 'setValue',\n",
       "  'outputs': [],\n",
       "  'payable': False,\n",
       "  'stateMutability': 'nonpayable',\n",
       "  'type': 'function'}]"
      ]
     },
     "execution_count": 17,
     "metadata": {},
     "output_type": "execute_result"
    }
   ],
   "source": [
    "# Report the ABI of the hello_world_contract.sol\n",
    "contract.abi"
   ]
  },
  {
   "cell_type": "code",
   "execution_count": 18,
   "id": "3970a833",
   "metadata": {
    "ExecuteTime": {
     "end_time": "2023-01-15T18:35:07.837196Z",
     "start_time": "2023-01-15T18:35:07.752496Z"
    }
   },
   "outputs": [
    {
     "name": "stdout",
     "output_type": "stream",
     "text": [
      "\r",
      "Transaction sent: \u001b[0;1;34m0x24a47c91acd604a169e533fcbbc1004d71b17b89dd10a5fa7f76c53821260874\u001b[0;m\n",
      "  Gas price: \u001b[0;1;34m60.0\u001b[0;m gwei   Gas limit: \u001b[0;1;34m30000000\u001b[0;m   Nonce: \u001b[0;1;34m1\u001b[0;m\n",
      "\r",
      "  SimpleContract.constructor confirmed   Block: \u001b[0;1;34m2\u001b[0;m   Gas used: \u001b[0;1;34m90351\u001b[0;m (\u001b[0;1;34m0.30%\u001b[0;m)\n",
      "  SimpleContract deployed at: \u001b[0;1;34m0x5b1869D9A4C187F2EAa108f3062412ecf0526b24\u001b[0;m\n",
      "\n",
      "0x5b1869D9A4C187F2EAa108f3062412ecf0526b24\n"
     ]
    }
   ],
   "source": [
    "# Deploy the contract from account 0.\n",
    "contract_tmp = accounts[0].deploy(contract)\n",
    "\n",
    "print(contract_tmp)"
   ]
  },
  {
   "cell_type": "code",
   "execution_count": 19,
   "id": "2fc6e38f",
   "metadata": {
    "ExecuteTime": {
     "end_time": "2023-01-15T18:35:13.236222Z",
     "start_time": "2023-01-15T18:35:13.230401Z"
    }
   },
   "outputs": [
    {
     "data": {
      "text/plain": [
       "[<SimpleContract Contract '0x5b1869D9A4C187F2EAa108f3062412ecf0526b24'>]"
      ]
     },
     "execution_count": 19,
     "metadata": {},
     "output_type": "execute_result"
    }
   ],
   "source": [
    "# Brownie is keeping track of the contracts.\n",
    "list(contract)"
   ]
  },
  {
   "cell_type": "code",
   "execution_count": 20,
   "id": "13949ddf",
   "metadata": {
    "ExecuteTime": {
     "end_time": "2023-01-15T18:37:51.384280Z",
     "start_time": "2023-01-15T18:37:51.378163Z"
    }
   },
   "outputs": [
    {
     "data": {
      "text/plain": [
       "{'getValue': '0x20965255', 'setValue': '0x55241077'}"
      ]
     },
     "execution_count": 20,
     "metadata": {},
     "output_type": "execute_result"
    }
   ],
   "source": [
    "contract.signatures"
   ]
  },
  {
   "cell_type": "code",
   "execution_count": 21,
   "id": "421ed350",
   "metadata": {
    "ExecuteTime": {
     "end_time": "2023-01-15T18:38:42.845685Z",
     "start_time": "2023-01-15T18:38:42.723467Z"
    }
   },
   "outputs": [
    {
     "name": "stdout",
     "output_type": "stream",
     "text": [
      "getValue before= 0\n",
      "\r",
      "Transaction sent: \u001b[0;1;34m0x697c99f4b0674057072a32ed5b7de8eb82050c680a263962c79e32b286aea00c\u001b[0;m\n",
      "  Gas price: \u001b[0;1;34m60.0\u001b[0;m gwei   Gas limit: \u001b[0;1;34m30000000\u001b[0;m   Nonce: \u001b[0;1;34m2\u001b[0;m\n",
      "\r",
      "  SimpleContract.setValue confirmed   Block: \u001b[0;1;34m3\u001b[0;m   Gas used: \u001b[0;1;34m43505\u001b[0;m (\u001b[0;1;34m0.15%\u001b[0;m)\n",
      "\n",
      "<Transaction '\u001b[0;m0x697c99f4b0674057072a32ed5b7de8eb82050c680a263962c79e32b286aea00c\u001b[0;m'>\n",
      "Transaction was Mined \n",
      "---------------------\n",
      "Tx Hash: \u001b[34m0x697c99f4b0674057072a32ed5b7de8eb82050c680a263962c79e32b286aea00c\u001b[39;49;00m\n",
      "From: \u001b[34m0x90F8bf6A479f320ead074411a4B0e7944Ea8c9C1\u001b[39;49;00m\n",
      "To: \u001b[34m0x5b1869D9A4C187F2EAa108f3062412ecf0526b24\u001b[39;49;00m\n",
      "Value: \u001b[34m0\u001b[39;49;00m\n",
      "Function: SimpleContract.setValue\n",
      "Block: \u001b[34m3\u001b[39;49;00m\n",
      "Gas Used: \u001b[34m43505\u001b[39;49;00m / \u001b[34m30000000\u001b[39;49;00m (\u001b[34m0.1\u001b[39;49;00m%)\n",
      "\n",
      "getValue after= 10000\n"
     ]
    }
   ],
   "source": [
    "# Execute a transaction on the contract.\n",
    "print(\"getValue before=\", contract[0].getValue())\n",
    "\n",
    "# Set the value.\n",
    "tx = contract[0].setValue(10000)\n",
    "print(tx)\n",
    "\n",
    "tx.info()\n",
    "\n",
    "# After the contract the value.\n",
    "print(\"getValue after=\", contract[0].getValue())"
   ]
  }
 ],
 "metadata": {
  "kernelspec": {
   "display_name": "Python 3 (ipykernel)",
   "language": "python",
   "name": "python3"
  },
  "language_info": {
   "codemirror_mode": {
    "name": "ipython",
    "version": 3
   },
   "file_extension": ".py",
   "mimetype": "text/x-python",
   "name": "python",
   "nbconvert_exporter": "python",
   "pygments_lexer": "ipython3",
   "version": "3.10.6"
  },
  "toc": {
   "base_numbering": 1,
   "nav_menu": {},
   "number_sections": true,
   "sideBar": true,
   "skip_h1_title": false,
   "title_cell": "Table of Contents",
   "title_sidebar": "Contents",
   "toc_cell": false,
   "toc_position": {},
   "toc_section_display": true,
   "toc_window_display": false
  }
 },
 "nbformat": 4,
 "nbformat_minor": 5
}
