{
 "cells": [
  {
   "cell_type": "code",
   "execution_count": null,
   "id": "7fabb961",
   "metadata": {},
   "outputs": [],
   "source": [
    "# From https://ethereum.stackexchange.com/questions/111254/how-to-call-brownie-run-with-extra-script-parameters\n",
    "\n",
    "# TODO(gp): @Toma Use connect_to_brownie\n",
    "import brownie\n",
    "target = 'development'\n",
    "#target = 'goerli'\n",
    "if brownie.network.is_connected():\n",
    "    brownie.network.disconnect(target)\n",
    "brownie.network.connect(target)\n",
    "try:\n",
    "    project = brownie.project.load('/data/tutorial_brownie/bake_token1')\n",
    "except brownie.exceptions.ProjectAlreadyLoaded:\n",
    "    pass"
   ]
  },
  {
   "cell_type": "code",
   "execution_count": null,
   "id": "96c09940",
   "metadata": {},
   "outputs": [],
   "source": [
    "from brownie import *"
   ]
  },
  {
   "cell_type": "code",
   "execution_count": null,
   "id": "a443a8fb",
   "metadata": {},
   "outputs": [],
   "source": [
    "Token =  project.BakeToken1Project.Token\n",
    "print(\"Token=\", Token)\n",
    "print(\"type(Token)=\", type(Token))\n",
    "print(\"Token.deploy=\", Token.deploy)"
   ]
  },
  {
   "cell_type": "markdown",
   "id": "42639573",
   "metadata": {},
   "source": [
    "# Core functionality"
   ]
  },
  {
   "cell_type": "markdown",
   "id": "2bbe7fb4",
   "metadata": {},
   "source": [
    "## Working with Accounts"
   ]
  },
  {
   "cell_type": "code",
   "execution_count": null,
   "id": "0aec98cb",
   "metadata": {},
   "outputs": [],
   "source": [
    "list(accounts)"
   ]
  },
  {
   "cell_type": "code",
   "execution_count": null,
   "id": "f786650c",
   "metadata": {},
   "outputs": [],
   "source": [
    "accounts[0]"
   ]
  },
  {
   "cell_type": "code",
   "execution_count": null,
   "id": "72377154",
   "metadata": {},
   "outputs": [],
   "source": [
    "#dir(accounts[0])"
   ]
  },
  {
   "cell_type": "code",
   "execution_count": null,
   "id": "dc10b5e8",
   "metadata": {},
   "outputs": [],
   "source": [
    "print(accounts[0].balance())\n",
    "print(accounts[1].balance())\n",
    "\n",
    "print(\"total=\", accounts[0].balance() + accounts[1].balance())"
   ]
  },
  {
   "cell_type": "code",
   "execution_count": null,
   "id": "5c22b1f6",
   "metadata": {},
   "outputs": [],
   "source": [
    "# From https://stackoverflow.com/questions/71341281/awaiting-transaction-in-the-mempool\n",
    "\n",
    "if True:\n",
    "    # In dev mode.\n",
    "    from brownie.network import gas_price\n",
    "    from brownie.network.gas.strategies import LinearScalingStrategy\n",
    "\n",
    "    gas_strategy = LinearScalingStrategy(\"60 gwei\", \"70 gwei\", 1.1)\n",
    "\n",
    "    #if network.show_active() == \"development\":\n",
    "    gas_price(gas_strategy)"
   ]
  },
  {
   "cell_type": "code",
   "execution_count": null,
   "id": "60e31731",
   "metadata": {},
   "outputs": [],
   "source": [
    "# Transfer 10 ether from account 0 to account 1.\n",
    "accounts[0].transfer(accounts[1], \"10 ether\")"
   ]
  },
  {
   "cell_type": "code",
   "execution_count": null,
   "id": "223265ce",
   "metadata": {},
   "outputs": [],
   "source": [
    "print(accounts[0].balance())\n",
    "print(accounts[1].balance())\n",
    "\n",
    "print(\"total=\", accounts[0].balance() + accounts[1].balance())"
   ]
  },
  {
   "cell_type": "markdown",
   "id": "a6d4bfcb",
   "metadata": {},
   "source": [
    "### Generating, adding, unlocking accounts"
   ]
  },
  {
   "cell_type": "code",
   "execution_count": null,
   "id": "b571911c",
   "metadata": {},
   "outputs": [],
   "source": [
    "# Generate a random account.\n",
    "accounts.add()"
   ]
  },
  {
   "cell_type": "code",
   "execution_count": null,
   "id": "b6c9105c",
   "metadata": {},
   "outputs": [],
   "source": [
    "# Add it to the local accounts.\n",
    "# accounts.add('0xca751356c37a98109fd969d8e79b42d768587efc6ba35e878bc8c093ed95d8a9')"
   ]
  },
  {
   "cell_type": "code",
   "execution_count": null,
   "id": "237e9e02",
   "metadata": {},
   "outputs": [],
   "source": [
    "list(accounts)"
   ]
  },
  {
   "cell_type": "markdown",
   "id": "8b26263c",
   "metadata": {},
   "source": [
    "### Broadcasting multiple transactions"
   ]
  },
  {
   "cell_type": "code",
   "execution_count": null,
   "id": "9fe96dc4",
   "metadata": {},
   "outputs": [],
   "source": [
    "# Blocking transactions.\n",
    "transactions = [\n",
    "    accounts[0].transfer(accounts[i], \"1 ether\") for i in range(1, 4)\n",
    "]\n",
    "print([tx.status for tx in transactions])"
   ]
  },
  {
   "cell_type": "code",
   "execution_count": null,
   "id": "b8b4e73b",
   "metadata": {},
   "outputs": [],
   "source": [
    "print([tx.status for tx in transactions])"
   ]
  },
  {
   "cell_type": "code",
   "execution_count": null,
   "id": "1b9133ed",
   "metadata": {},
   "outputs": [],
   "source": [
    "# Not blocking transactions.\n",
    "transactions = [\n",
    "    accounts[0].transfer(accounts[i], \"1 ether\", required_confs=0)\n",
    "    for i in range(1, 4)\n",
    "]\n",
    "print([tx.status for tx in transactions])"
   ]
  },
  {
   "cell_type": "code",
   "execution_count": null,
   "id": "748d49b5",
   "metadata": {},
   "outputs": [],
   "source": [
    "print([tx.status for tx in transactions])"
   ]
  },
  {
   "cell_type": "code",
   "execution_count": null,
   "id": "c876e14f",
   "metadata": {},
   "outputs": [],
   "source": [
    "# Print history of transactions.\n",
    "list(history)"
   ]
  },
  {
   "cell_type": "markdown",
   "id": "ed1600e6",
   "metadata": {},
   "source": [
    "## Working with Contracts"
   ]
  },
  {
   "cell_type": "markdown",
   "id": "19eb710f",
   "metadata": {},
   "source": [
    "### Deploying contracts"
   ]
  },
  {
   "cell_type": "code",
   "execution_count": null,
   "id": "95291c40",
   "metadata": {},
   "outputs": [],
   "source": [
    "# Deploy Token contract from account 1.\n",
    "token = Token.deploy(\"Test token\", \"TST\", 18, 1e23, {\"from\": accounts[1]})"
   ]
  },
  {
   "cell_type": "code",
   "execution_count": null,
   "id": "253686e9",
   "metadata": {},
   "outputs": [],
   "source": [
    "# Print the contract address.\n",
    "token"
   ]
  },
  {
   "cell_type": "code",
   "execution_count": null,
   "id": "fbba48f8",
   "metadata": {},
   "outputs": [],
   "source": [
    "# Deployed contracts are saved in brownie.\n",
    "list(Token)"
   ]
  },
  {
   "cell_type": "code",
   "execution_count": null,
   "id": "3ee50863",
   "metadata": {},
   "outputs": [],
   "source": [
    "# You can interact with contracts via\n",
    "# - transactions (broadcast to the network, write value on the blockchain, cost gas)\n",
    "# - calls (not broadcast, read value, retrieve values using a getter method)"
   ]
  },
  {
   "cell_type": "code",
   "execution_count": null,
   "id": "10c69045",
   "metadata": {},
   "outputs": [],
   "source": [
    "# Print the signature.\n",
    "print(token.transfer)"
   ]
  },
  {
   "cell_type": "code",
   "execution_count": null,
   "id": "c6ab2cd6",
   "metadata": {},
   "outputs": [],
   "source": [
    "# NatSpec.\n",
    "token.transfer.info()"
   ]
  },
  {
   "cell_type": "code",
   "execution_count": null,
   "id": "4d28c74b",
   "metadata": {},
   "outputs": [],
   "source": [
    "print(token.balanceOf)"
   ]
  },
  {
   "cell_type": "markdown",
   "id": "931363c3",
   "metadata": {},
   "source": [
    "### Transactions"
   ]
  },
  {
   "cell_type": "code",
   "execution_count": null,
   "id": "4d715bb6",
   "metadata": {},
   "outputs": [],
   "source": [
    "token = Token[0]"
   ]
  },
  {
   "cell_type": "code",
   "execution_count": null,
   "id": "dedec884",
   "metadata": {},
   "outputs": [],
   "source": [
    "# Transfer \n",
    "token.transfer(accounts[1], 1e9, {'from': accounts[1]})\n",
    "#token.transfer.call(accounts[1], 1e9, {'from': accounts[1]})"
   ]
  },
  {
   "cell_type": "code",
   "execution_count": null,
   "id": "1d726462",
   "metadata": {},
   "outputs": [],
   "source": [
    "# TODO(gp): Finish"
   ]
  },
  {
   "cell_type": "markdown",
   "id": "3f5e345d",
   "metadata": {},
   "source": [
    "## Setting transaction gas prices"
   ]
  },
  {
   "cell_type": "markdown",
   "id": "4dcc4435",
   "metadata": {},
   "source": [
    "### Dynamic fee strategies"
   ]
  },
  {
   "cell_type": "code",
   "execution_count": null,
   "id": "6ccccb4f",
   "metadata": {},
   "outputs": [],
   "source": [
    "# Instead of specifying `gas_price~ you can specify `priority_fee` and `max_fee`."
   ]
  },
  {
   "cell_type": "code",
   "execution_count": null,
   "id": "2d137c3b",
   "metadata": {},
   "outputs": [],
   "source": [
    "chain.priority_fee"
   ]
  },
  {
   "cell_type": "code",
   "execution_count": null,
   "id": "87b21e32",
   "metadata": {},
   "outputs": [],
   "source": [
    "chain.base_fee"
   ]
  },
  {
   "cell_type": "code",
   "execution_count": null,
   "id": "3eeda9a7",
   "metadata": {},
   "outputs": [],
   "source": [
    "accounts[0].transfer(accounts[1], priority_fee=\"2 gwei\")"
   ]
  },
  {
   "cell_type": "markdown",
   "id": "913b66f7",
   "metadata": {},
   "source": [
    "### Gas strategies\n",
    "\n",
    "Gas strategies generate gas price for a transaction, and replace pending transactions within the mempool.\n",
    "\n",
    "- simple: provide gas price once\n",
    "- block: provide initial gas price, and replace transactions given number of blocks mined\n",
    "- time: provide initial gas price, and replace transactions based on the amount of time"
   ]
  },
  {
   "cell_type": "markdown",
   "id": "fc992f3f",
   "metadata": {},
   "source": [
    "## Interacting with the blockchain"
   ]
  },
  {
   "cell_type": "code",
   "execution_count": null,
   "id": "0b90eda0",
   "metadata": {},
   "outputs": [],
   "source": [
    "chain"
   ]
  },
  {
   "cell_type": "code",
   "execution_count": null,
   "id": "431529a0",
   "metadata": {},
   "outputs": [],
   "source": [
    "# Print block.\n",
    "#chain[527]"
   ]
  },
  {
   "cell_type": "code",
   "execution_count": null,
   "id": "9ec4cb3c",
   "metadata": {},
   "outputs": [],
   "source": [
    "len(chain)"
   ]
  },
  {
   "cell_type": "code",
   "execution_count": null,
   "id": "068517ec",
   "metadata": {},
   "outputs": [],
   "source": [
    "web3.eth.block_number"
   ]
  },
  {
   "cell_type": "code",
   "execution_count": null,
   "id": "0055df21",
   "metadata": {},
   "outputs": [],
   "source": [
    "web3.eth.get_block('latest')"
   ]
  },
  {
   "cell_type": "markdown",
   "id": "4aa5665a",
   "metadata": {},
   "source": [
    "### Accessing transaction data"
   ]
  },
  {
   "cell_type": "code",
   "execution_count": null,
   "id": "a7c82fe0",
   "metadata": {},
   "outputs": [],
   "source": [
    "# transactions broadcasted during the current session\n",
    "list(history)"
   ]
  },
  {
   "cell_type": "code",
   "execution_count": null,
   "id": "aa158970",
   "metadata": {},
   "outputs": [],
   "source": [
    "history.filter(sender=accounts[0], value=\"1 ether\")"
   ]
  },
  {
   "cell_type": "code",
   "execution_count": null,
   "id": "cef350ae",
   "metadata": {},
   "outputs": [],
   "source": [
    "if False:\n",
    "    tx = chain.get_transaction(\"0xda676ef03d9287b48c5f647e33175905cf1c2b0f386277ef8b13e3321950258a\")\n",
    "    dir(tx)"
   ]
  },
  {
   "cell_type": "markdown",
   "id": "949b99da",
   "metadata": {},
   "source": [
    "### Manipulating the development chain\n",
    "\n",
    "- ganache supports mining, snapshotting, time travel"
   ]
  },
  {
   "cell_type": "code",
   "execution_count": null,
   "id": "048d32b2",
   "metadata": {},
   "outputs": [],
   "source": [
    "web3.eth.block_number"
   ]
  },
  {
   "cell_type": "code",
   "execution_count": null,
   "id": "2ad68b6a",
   "metadata": {},
   "outputs": [],
   "source": [
    "# ganache mines a new block when you broadcast a transaction\n",
    "# Mine empty blocks.\n",
    "chain.mine(50)"
   ]
  },
  {
   "cell_type": "code",
   "execution_count": null,
   "id": "6e65d7da",
   "metadata": {},
   "outputs": [],
   "source": [
    "web3.eth.block_number"
   ]
  },
  {
   "cell_type": "code",
   "execution_count": null,
   "id": "f5b72064",
   "metadata": {},
   "outputs": [],
   "source": [
    "# TODO()"
   ]
  },
  {
   "cell_type": "markdown",
   "id": "d179d949",
   "metadata": {},
   "source": [
    "## Inspecting and debugging transactions"
   ]
  },
  {
   "cell_type": "code",
   "execution_count": null,
   "id": "e88d67cc",
   "metadata": {},
   "outputs": [],
   "source": [
    "tx = Token[0].transfer(accounts[1], 1e18, {'from': accounts[1], \"required_confs\": 0})"
   ]
  },
  {
   "cell_type": "code",
   "execution_count": null,
   "id": "7b04a731",
   "metadata": {},
   "outputs": [],
   "source": [
    "tx.status"
   ]
  },
  {
   "cell_type": "code",
   "execution_count": null,
   "id": "4ef3f432",
   "metadata": {},
   "outputs": [],
   "source": [
    "tx.revert_msg"
   ]
  },
  {
   "cell_type": "code",
   "execution_count": null,
   "id": "611dcfbe",
   "metadata": {},
   "outputs": [],
   "source": [
    "tx.info()"
   ]
  },
  {
   "cell_type": "code",
   "execution_count": null,
   "id": "130e765f",
   "metadata": {},
   "outputs": [],
   "source": [
    "tx.events"
   ]
  },
  {
   "cell_type": "code",
   "execution_count": null,
   "id": "dc5d3e91",
   "metadata": {},
   "outputs": [],
   "source": [
    "tx.traceback()"
   ]
  },
  {
   "cell_type": "markdown",
   "id": "624ea9a5",
   "metadata": {},
   "source": [
    "### Inspecting the trace"
   ]
  },
  {
   "cell_type": "markdown",
   "id": "f786f8bd",
   "metadata": {},
   "source": [
    "## Data types\n",
    "\n",
    "brownie always return ether in Wei."
   ]
  },
  {
   "cell_type": "code",
   "execution_count": null,
   "id": "e61567e0",
   "metadata": {},
   "outputs": [],
   "source": [
    "Wei(\"1 ether\")"
   ]
  },
  {
   "cell_type": "code",
   "execution_count": null,
   "id": "214029ea",
   "metadata": {},
   "outputs": [],
   "source": [
    "Wei(\"12.49 gwei\")"
   ]
  },
  {
   "cell_type": "markdown",
   "id": "3213ddbd",
   "metadata": {},
   "source": [
    "# Testing"
   ]
  },
  {
   "cell_type": "markdown",
   "id": "d01dcdf4",
   "metadata": {},
   "source": [
    "# Networks and deployment"
   ]
  },
  {
   "cell_type": "code",
   "execution_count": null,
   "id": "b6e5205f",
   "metadata": {},
   "outputs": [],
   "source": [
    "import brownie\n",
    "from brownie import *"
   ]
  },
  {
   "cell_type": "code",
   "execution_count": null,
   "id": "921a2cdb",
   "metadata": {},
   "outputs": [],
   "source": [
    "target = 'goerli'\n",
    "if brownie.network.is_connected():\n",
    "    brownie.network.disconnect(target)\n",
    "brownie.network.connect(target)\n",
    "try:\n",
    "    project = brownie.project.load('/data/tutorial_brownie/bake_token1')\n",
    "except brownie.exceptions.ProjectAlreadyLoaded:\n",
    "    pass"
   ]
  },
  {
   "cell_type": "code",
   "execution_count": null,
   "id": "952a3338",
   "metadata": {},
   "outputs": [],
   "source": [
    "list(accounts)"
   ]
  },
  {
   "cell_type": "code",
   "execution_count": null,
   "id": "676e015e",
   "metadata": {},
   "outputs": [],
   "source": [
    "accounts.load('goerli')"
   ]
  },
  {
   "cell_type": "code",
   "execution_count": null,
   "id": "3b1164f6",
   "metadata": {},
   "outputs": [],
   "source": [
    "account = accounts[0]"
   ]
  },
  {
   "cell_type": "markdown",
   "id": "244cf654",
   "metadata": {},
   "source": [
    "## Connect to blockchain"
   ]
  },
  {
   "cell_type": "code",
   "execution_count": null,
   "id": "1743b173",
   "metadata": {},
   "outputs": [],
   "source": [
    "!curl --url https://goerli.infura.io/v3/$WEB3_INFURA_PROJECT_ID -X POST -H \"Content-Type: application/json\" -d '{\"jsonrpc\":\"2.0\",\"method\":\"eth_blockNumber\",\"params\":[],\"id\":1}'"
   ]
  },
  {
   "cell_type": "code",
   "execution_count": null,
   "id": "9e30f0b0",
   "metadata": {},
   "outputs": [],
   "source": [
    "# Test Infura key.\n",
    "import os\n",
    "\n",
    "infura_key=os.environ[\"WEB3_INFURA_PROJECT_ID\"]\n",
    "\n",
    "import web3 as web3_lib\n",
    "\n",
    "infura_url = f\"https://goerli.infura.io/v3/{infura_key}\"\n",
    "web3 = web3_lib.Web3(web3_lib.Web3.HTTPProvider(infura_url))\n",
    "print(\"isConnected=\", web3.isConnected())"
   ]
  },
  {
   "cell_type": "code",
   "execution_count": null,
   "id": "2c87f987",
   "metadata": {},
   "outputs": [],
   "source": [
    "account = \"0x980D0Ca15A31aB8157CF0F108Dfa250192dc77b4\"\n",
    "balance = web3.eth.getBalance(account)\n",
    "print(balance)\n",
    "print(web3.fromWei(balance, \"ether\"))"
   ]
  },
  {
   "cell_type": "code",
   "execution_count": null,
   "id": "e2b67e67",
   "metadata": {},
   "outputs": [],
   "source": [
    "abi_file = \"/data/tutorial_brownie/bake_token1/build/contracts/Token.json\"\n",
    "import json\n",
    "f = open(abi_file)\n",
    "abi = json.load(f)[\"abi\"]"
   ]
  },
  {
   "cell_type": "code",
   "execution_count": null,
   "id": "acc3bd31",
   "metadata": {},
   "outputs": [],
   "source": [
    "address = \"0x90B5CaA560725d29B3dd7f7cA9a4fC1A09Ee01F6\"\n",
    "contract = web3.eth.contract(address=address, abi=abi)"
   ]
  },
  {
   "cell_type": "code",
   "execution_count": null,
   "id": "d3a769e3",
   "metadata": {},
   "outputs": [],
   "source": [
    "contract.functions.__dict__.keys()"
   ]
  },
  {
   "cell_type": "code",
   "execution_count": null,
   "id": "9202e3e2",
   "metadata": {},
   "outputs": [],
   "source": [
    "totalSupply = contract.functions.totalSupply().call()\n",
    "print(\"name=\", contract.functions.name().call())\n",
    "print(\"symbol=\", contract.functions.symbol().call())\n",
    "print(\"totalSupply=\", web3.fromWei(totalSupply, 'ether'))\n",
    "\n",
    "balance = contract.functions.balanceOf(account).call()\n",
    "print(web3.fromWei(balance, 'ether'))"
   ]
  }
 ],
 "metadata": {
  "kernelspec": {
   "display_name": "Python 3 (ipykernel)",
   "language": "python",
   "name": "python3"
  },
  "language_info": {
   "codemirror_mode": {
    "name": "ipython",
    "version": 3
   },
   "file_extension": ".py",
   "mimetype": "text/x-python",
   "name": "python",
   "nbconvert_exporter": "python",
   "pygments_lexer": "ipython3"
  },
  "toc": {
   "base_numbering": 1,
   "nav_menu": {},
   "number_sections": true,
   "sideBar": true,
   "skip_h1_title": false,
   "title_cell": "Table of Contents",
   "title_sidebar": "Contents",
   "toc_cell": false,
   "toc_position": {},
   "toc_section_display": false,
   "toc_window_display": false
  }
 },
 "nbformat": 4,
 "nbformat_minor": 5
}
