{
 "cells": [
  {
   "cell_type": "code",
   "execution_count": null,
   "id": "48e0a151",
   "metadata": {},
   "outputs": [],
   "source": [
    "%load_ext autoreload\n",
    "%autoreload 2\n",
    "\n",
    "import os\n",
    "import sys\n",
    "import web3\n",
    "\n",
    "sys.path.append(\"..\")\n",
    "import web3_utils as w3ut\n",
    "\n",
    "from brownie import *\n",
    "import brownie"
   ]
  },
  {
   "cell_type": "markdown",
   "id": "96c11624",
   "metadata": {},
   "source": [
    "# Ganache"
   ]
  },
  {
   "cell_type": "code",
   "execution_count": null,
   "id": "ba0535ed",
   "metadata": {},
   "outputs": [],
   "source": [
    "!more surre_token1/contracts/surre_token_v1.sol"
   ]
  },
  {
   "cell_type": "code",
   "execution_count": null,
   "id": "3647df94",
   "metadata": {},
   "outputs": [],
   "source": [
    "brownie_project_dir = '/data/tutorial_brownie/surre_token1'\n",
    "net = 'development'\n",
    "w3 = w3ut.connect_to_brownie(brownie_project_dir, net)"
   ]
  },
  {
   "cell_type": "code",
   "execution_count": null,
   "id": "e05a2b6a",
   "metadata": {},
   "outputs": [],
   "source": [
    "Token =  project.SurreToken1Project.Surrentum_v1\n",
    "#Token =  project.Surrentum_v1\n",
    "print(Token)\n",
    "print(type(Token))\n",
    "print(Token.deploy)"
   ]
  },
  {
   "cell_type": "markdown",
   "id": "e19601b4",
   "metadata": {},
   "source": [
    "## Working with Accounts"
   ]
  },
  {
   "cell_type": "code",
   "execution_count": null,
   "id": "11316a34",
   "metadata": {},
   "outputs": [],
   "source": [
    "list(accounts)"
   ]
  },
  {
   "cell_type": "code",
   "execution_count": null,
   "id": "44ce66f2",
   "metadata": {},
   "outputs": [],
   "source": [
    "accounts[0]"
   ]
  },
  {
   "cell_type": "code",
   "execution_count": null,
   "id": "3d8e2c23",
   "metadata": {},
   "outputs": [],
   "source": [
    "accounts[0].balance()"
   ]
  },
  {
   "cell_type": "code",
   "execution_count": null,
   "id": "4d4aa50a",
   "metadata": {},
   "outputs": [],
   "source": [
    "w3ut.dir_(accounts[0])"
   ]
  },
  {
   "cell_type": "code",
   "execution_count": null,
   "id": "dc10b5e8",
   "metadata": {},
   "outputs": [],
   "source": [
    "w3ut.print_balance(w3, accounts[0])\n",
    "w3ut.print_balance(w3, accounts[1])"
   ]
  },
  {
   "cell_type": "code",
   "execution_count": null,
   "id": "4c819a7f",
   "metadata": {},
   "outputs": [],
   "source": [
    "os.environ[\"ETHERSCAN_TOKEN\"]=\"4YRWQX6DB1TBBPTGRA4UU5CY2HY66M1QPE\"\n",
    "os.environ[\"WEB3_INFURA_PROJECT_ID\"]=\"9153e25e52de479881b1798e0a91318f\""
   ]
  },
  {
   "cell_type": "code",
   "execution_count": null,
   "id": "f43e3f54",
   "metadata": {},
   "outputs": [],
   "source": [
    "w3ut.print_gas_price(w3)"
   ]
  },
  {
   "cell_type": "code",
   "execution_count": null,
   "id": "5c22b1f6",
   "metadata": {},
   "outputs": [],
   "source": [
    "# From https://stackoverflow.com/questions/71341281/awaiting-transaction-in-the-mempool\n",
    "\n",
    "if True:\n",
    "    # In dev mode.\n",
    "    #from brownie.network import gas_price\n",
    "    #from brownie.network.gas.strategies import LinearScalingStrategy\n",
    "\n",
    "    import brownie.network.gas.strategies\n",
    "    gas_strategy = brownie.network.gas.strategies.LinearScalingStrategy(\"60 gwei\", \"70 gwei\", 1.1)\n",
    "\n",
    "    #if network.show_active() == \"development\":\n",
    "    brownie.network.gas_price(gas_strategy)"
   ]
  },
  {
   "cell_type": "markdown",
   "id": "3d741a6d",
   "metadata": {},
   "source": [
    "## Deploy Token"
   ]
  },
  {
   "cell_type": "code",
   "execution_count": null,
   "id": "2b8c342d",
   "metadata": {},
   "outputs": [],
   "source": [
    "# Deploy the contract from account 1.\n",
    "print(Token.deploy)\n",
    "if True:\n",
    "    token = Token.deploy({\"from\": accounts[1]})"
   ]
  },
  {
   "cell_type": "code",
   "execution_count": null,
   "id": "7d41df31",
   "metadata": {},
   "outputs": [],
   "source": [
    "# Get the contract address.\n",
    "surr_addr_ganache = token.address\n",
    "print(\"surr_addr_ganache=\", surr_addr_ganache)"
   ]
  },
  {
   "cell_type": "code",
   "execution_count": null,
   "id": "d0274381",
   "metadata": {},
   "outputs": [],
   "source": [
    "# Print the balance of the SURRE token.\n",
    "w3ut.print_balance(w3, accounts[0], token=token)\n",
    "w3ut.print_balance(w3, accounts[1], token=token)"
   ]
  },
  {
   "cell_type": "code",
   "execution_count": null,
   "id": "079948cc",
   "metadata": {},
   "outputs": [],
   "source": [
    "token"
   ]
  },
  {
   "cell_type": "code",
   "execution_count": null,
   "id": "085d7fe0",
   "metadata": {},
   "outputs": [],
   "source": [
    "# Print the signature.\n",
    "print(token.transfer)\n",
    "\n",
    "# NatSpec.\n",
    "token.transfer.info()"
   ]
  },
  {
   "cell_type": "markdown",
   "id": "f9af45ad",
   "metadata": {},
   "source": [
    "## Transactions"
   ]
  },
  {
   "cell_type": "code",
   "execution_count": null,
   "id": "41b9d79d",
   "metadata": {},
   "outputs": [],
   "source": [
    "# Transfer SURRE token from account 1 to account 0.\n",
    "tx = token.transfer(accounts[0], \"1 ether\", {'from': accounts[1]})"
   ]
  },
  {
   "cell_type": "code",
   "execution_count": null,
   "id": "b14bd349",
   "metadata": {},
   "outputs": [],
   "source": [
    "# Print Python interfact of transaction object.\n",
    "print(w3ut.dir_(tx))"
   ]
  },
  {
   "cell_type": "code",
   "execution_count": null,
   "id": "f9117447",
   "metadata": {},
   "outputs": [],
   "source": [
    "print(tx)\n",
    "print(\"status=\\n%s\" % tx.status)\n",
    "print(\"tx.info=\", tx.info())"
   ]
  },
  {
   "cell_type": "code",
   "execution_count": null,
   "id": "57771b8b",
   "metadata": {},
   "outputs": [],
   "source": [
    "# Print the balance of the SURRE token.\n",
    "w3ut.print_balance(w3, accounts[0], token=token)\n",
    "w3ut.print_balance(w3, accounts[1], token=token)"
   ]
  },
  {
   "cell_type": "code",
   "execution_count": null,
   "id": "50261f0a",
   "metadata": {},
   "outputs": [],
   "source": [
    "token.transfer.call(accounts[0], \"1 ether\", {'from': accounts[1]})"
   ]
  },
  {
   "cell_type": "code",
   "execution_count": null,
   "id": "b5b90015",
   "metadata": {},
   "outputs": [],
   "source": [
    "# Print the balance of the SURRE token.\n",
    "w3ut.print_balance(w3, accounts[0], token=token)\n",
    "w3ut.print_balance(w3, accounts[1], token=token)"
   ]
  },
  {
   "cell_type": "code",
   "execution_count": null,
   "id": "464d99b7",
   "metadata": {},
   "outputs": [],
   "source": [
    "# Non-blocking transactions.\n",
    "transactions = [\n",
    "    accounts[0].transfer(accounts[i], \"1 ether\", required_confs=0)\n",
    "    for i in range(1, 4)\n",
    "]\n",
    "[tx.status for tx in transactions]"
   ]
  },
  {
   "cell_type": "code",
   "execution_count": null,
   "id": "7a2a74fa",
   "metadata": {},
   "outputs": [],
   "source": [
    "[tx.status for tx in transactions]"
   ]
  },
  {
   "cell_type": "code",
   "execution_count": null,
   "id": "89b04350",
   "metadata": {},
   "outputs": [],
   "source": [
    "for i in range(0, 4):\n",
    "    w3ut.print_balance(w3, accounts[i], token=token)"
   ]
  },
  {
   "cell_type": "markdown",
   "id": "5499f7c4",
   "metadata": {},
   "source": [
    "## Accessing transaction data"
   ]
  },
  {
   "cell_type": "code",
   "execution_count": null,
   "id": "48749ec6",
   "metadata": {},
   "outputs": [],
   "source": [
    "# transactions broadcasted during the current session.\n",
    "list(history)"
   ]
  },
  {
   "cell_type": "code",
   "execution_count": null,
   "id": "622e1ed8",
   "metadata": {},
   "outputs": [],
   "source": [
    "#dir(history[0])\n",
    "\n",
    "tx_id = str(history[0].txid)\n",
    "print(tx_id)\n",
    "tx = chain.get_transaction(tx_id)\n",
    "print(tx.info())"
   ]
  },
  {
   "cell_type": "markdown",
   "id": "f06a3b59",
   "metadata": {},
   "source": [
    "## Inspecting and debugging transactions"
   ]
  },
  {
   "cell_type": "code",
   "execution_count": null,
   "id": "62c3768c",
   "metadata": {},
   "outputs": [],
   "source": [
    "tx = Token[0].transfer(accounts[1], 100e18, {'from': accounts[1], \"required_confs\": 0})"
   ]
  },
  {
   "cell_type": "code",
   "execution_count": null,
   "id": "33d913f1",
   "metadata": {},
   "outputs": [],
   "source": [
    "tx.status"
   ]
  },
  {
   "cell_type": "code",
   "execution_count": null,
   "id": "2a561315",
   "metadata": {},
   "outputs": [],
   "source": [
    "#tx.revert_msg"
   ]
  },
  {
   "cell_type": "code",
   "execution_count": null,
   "id": "8e5766f5",
   "metadata": {},
   "outputs": [],
   "source": [
    "#tx.info()"
   ]
  },
  {
   "cell_type": "code",
   "execution_count": null,
   "id": "8ffa2fa9",
   "metadata": {},
   "outputs": [],
   "source": [
    "tx.events"
   ]
  },
  {
   "cell_type": "code",
   "execution_count": null,
   "id": "37d87f0d",
   "metadata": {},
   "outputs": [],
   "source": [
    "#tx.traceback()"
   ]
  },
  {
   "cell_type": "markdown",
   "id": "67349168",
   "metadata": {},
   "source": [
    "# Networks and deployment"
   ]
  },
  {
   "cell_type": "code",
   "execution_count": null,
   "id": "dd475e85",
   "metadata": {},
   "outputs": [],
   "source": [
    "net = 'goerli'\n",
    "w3 = w3ut.connect_to_brownie(brownie_project_dir, net)"
   ]
  },
  {
   "cell_type": "code",
   "execution_count": null,
   "id": "bf329bcc",
   "metadata": {},
   "outputs": [],
   "source": [
    "list(accounts)"
   ]
  },
  {
   "cell_type": "code",
   "execution_count": null,
   "id": "7adce5b7",
   "metadata": {},
   "outputs": [],
   "source": [
    "# cp /data/tutorial_brownie/proj_files/goerli.json /root/.brownie/accounts/goerli.json\n",
    "accounts.load('goerli')\n",
    "\n",
    "account = accounts[0]\n",
    "print(account)"
   ]
  },
  {
   "cell_type": "markdown",
   "id": "9f8f296b",
   "metadata": {},
   "source": [
    "## Connect to blockchain"
   ]
  },
  {
   "cell_type": "code",
   "execution_count": null,
   "id": "bb45e571",
   "metadata": {},
   "outputs": [],
   "source": [
    "!curl --url https://goerli.infura.io/v3/$WEB3_INFURA_PROJECT_ID -X POST -H \"Content-Type: application/json\" -d '{\"jsonrpc\":\"2.0\",\"method\":\"eth_blockNumber\",\"params\":[],\"id\":1}'"
   ]
  },
  {
   "cell_type": "code",
   "execution_count": null,
   "id": "a603a2e1",
   "metadata": {},
   "outputs": [],
   "source": [
    "# Test Infura key.\n",
    "import os\n",
    "import web3\n",
    "\n",
    "infura_key = os.environ[\"WEB3_INFURA_PROJECT_ID\"]\n",
    "\n",
    "infura_url = f\"https://goerli.infura.io/v3/{infura_key}\"\n",
    "w3 = web3.Web3(web3.Web3.HTTPProvider(infura_url))\n",
    "print(\"isConnected=\", w3.isConnected())"
   ]
  },
  {
   "cell_type": "code",
   "execution_count": null,
   "id": "e53282b2",
   "metadata": {},
   "outputs": [],
   "source": [
    "w3ut.print_balance(w3, account)"
   ]
  },
  {
   "cell_type": "markdown",
   "id": "a76afd19",
   "metadata": {},
   "source": [
    "## Deploy token"
   ]
  },
  {
   "cell_type": "code",
   "execution_count": null,
   "id": "89b9bbe6",
   "metadata": {},
   "outputs": [],
   "source": [
    "if False:\n",
    "    # Deploy Token contract from one account.\n",
    "    token = Token.deploy({\"from\": account}, publish_source=True)"
   ]
  },
  {
   "cell_type": "code",
   "execution_count": null,
   "id": "c7e9aef7",
   "metadata": {},
   "outputs": [],
   "source": [
    "surr_addr = \"0xBD34d0472A783D0849D981052327e6c6544E90C5\"\n",
    "#surr_addr = \"0x2fFF61848990F4C54373476B90b1C1268EF8c229\"\n",
    "surr_tx = \"0x62f8c551f962322e1af638768ad116bd6a3efed0f795ae4d606e09e35636f713\"\n",
    "w3ut.print_tx(surr_tx)"
   ]
  },
  {
   "cell_type": "code",
   "execution_count": null,
   "id": "97dd07fa",
   "metadata": {},
   "outputs": [],
   "source": [
    "abi_file = f\"{brownie_project_dir}/build/contracts/Surrentum_v1.json\"\n",
    "import json\n",
    "f = open(abi_file)\n",
    "abi = json.load(f)[\"abi\"]"
   ]
  },
  {
   "cell_type": "code",
   "execution_count": null,
   "id": "56959ade",
   "metadata": {},
   "outputs": [],
   "source": [
    "print(surr_addr)\n",
    "contract = w3.eth.contract(address=surr_addr, abi=abi)"
   ]
  },
  {
   "cell_type": "code",
   "execution_count": null,
   "id": "16f59ba0",
   "metadata": {},
   "outputs": [],
   "source": [
    "w3ut.print_balance(w3, account, token=contract)"
   ]
  },
  {
   "cell_type": "code",
   "execution_count": null,
   "id": "ecf26ef6",
   "metadata": {},
   "outputs": [],
   "source": [
    "# Print the interface of the Eth contract.\n",
    "contract.functions.__dict__.keys()"
   ]
  },
  {
   "cell_type": "code",
   "execution_count": null,
   "id": "15e4de54",
   "metadata": {},
   "outputs": [],
   "source": [
    "print(\"name=\", contract.functions.name().call())\n",
    "print(\"symbol=\", contract.functions.symbol().call())\n",
    "totalSupply = contract.functions.totalSupply().call()\n",
    "print(\"totalSupply=\", w3.fromWei(totalSupply, 'ether'))"
   ]
  },
  {
   "cell_type": "markdown",
   "id": "3fb46943",
   "metadata": {},
   "source": [
    "# Send SURR"
   ]
  },
  {
   "cell_type": "code",
   "execution_count": null,
   "id": "0741aac8",
   "metadata": {},
   "outputs": [],
   "source": [
    "src_account = str(account)\n",
    "print(\"src_account=\", src_account)\n",
    "w3ut.print_balance(w3, src_account, token=contract)\n",
    "w3ut.print_balance(w3, src_account)"
   ]
  },
  {
   "cell_type": "code",
   "execution_count": null,
   "id": "672985db",
   "metadata": {},
   "outputs": [],
   "source": [
    "#w3ut.dir_(w3.eth.account)"
   ]
  },
  {
   "cell_type": "code",
   "execution_count": null,
   "id": "e4e76281",
   "metadata": {},
   "outputs": [],
   "source": [
    "dst_account = \"0xA8785E587809ef7217956d88ec4266FeAfb8DFcA\"\n",
    "# Grisha\n",
    "#dst_account = \"0x855Da94Db7d3A843e53b7728958A49423543F871\"\n",
    "print(\"dst_account=\", dst_account)\n",
    "\n",
    "w3ut.print_balance(w3, dst_account, token=contract)\n",
    "w3ut.print_balance(w3, dst_account)"
   ]
  },
  {
   "cell_type": "code",
   "execution_count": null,
   "id": "b19eb22a",
   "metadata": {},
   "outputs": [],
   "source": [
    "# This doesn't work on Infura.\n",
    "if True:\n",
    "    eth = w3.toWei(0.01, \"ether\")\n",
    "    w3.eth.default_account = src_account\n",
    "    #contract.functions.transfer(dst_account, eth).transact({'from': src_account})\n",
    "    contract.functions.transfer(dst_account, eth).transact()"
   ]
  },
  {
   "cell_type": "code",
   "execution_count": null,
   "id": "abf18e29",
   "metadata": {},
   "outputs": [],
   "source": [
    "print(w3.eth.gas_price)"
   ]
  },
  {
   "cell_type": "code",
   "execution_count": null,
   "id": "cf850991",
   "metadata": {},
   "outputs": [],
   "source": [
    "#priv_key1 = \"0x4f3edf983ac636a65a842ce7c78d9aa706d3b113bce9c46f30d7d21715b23b1d\"\n",
    "\n",
    "# Send Eth from account1 to 2.\n",
    "nonce = w3.eth.getTransactionCount(src_account)\n",
    "print(\"nonce=\", nonce)\n",
    "\n",
    "eth = w3.toWei(0.02, \"ether\")\n",
    "tx = contract.functions.transfer(\n",
    "    dst_account,\n",
    "    eth,\n",
    ").build_transaction({\n",
    "    #'chainId': 1,\n",
    "    #'gas': 70000,\n",
    "    #'maxFeePerGas': w3.toWei('100', 'gwei'),\n",
    "    #'maxPriorityFeePerGas': w3.toWei('1', 'gwei'),\n",
    "    \"gasPrice\": w3.eth.gas_price,\n",
    "    \"gas\": 100000,\n",
    "    'nonce': nonce,\n",
    "})\n",
    "print(\"tx=\", tx)\n",
    "\n",
    "signed_tx = w3.eth.account.signTransaction(tx, account.private_key)\n",
    "print(\"signed_tx=\", signed_tx)\n",
    "\n",
    "tx_hash = w3.eth.sendRawTransaction(signed_tx.rawTransaction)\n",
    "print(\"tx_hash=\", tx_hash)"
   ]
  },
  {
   "cell_type": "code",
   "execution_count": null,
   "id": "3e11424d",
   "metadata": {},
   "outputs": [],
   "source": [
    "#dir(tx)"
   ]
  },
  {
   "cell_type": "code",
   "execution_count": null,
   "id": "53339a3a",
   "metadata": {},
   "outputs": [],
   "source": [
    "#w3ut.print_tx(tx)\n",
    "print(tx_hash)\n",
    "tx = chain.get_transaction(tx_hash)\n",
    "print(tx.info())\n",
    "print(tx.status)"
   ]
  },
  {
   "cell_type": "markdown",
   "id": "cb40c597",
   "metadata": {},
   "source": [
    "# Uniswap"
   ]
  },
  {
   "cell_type": "code",
   "execution_count": null,
   "id": "d463237d",
   "metadata": {},
   "outputs": [],
   "source": [
    "#!pip install uniswap-python"
   ]
  },
  {
   "cell_type": "code",
   "execution_count": null,
   "id": "ffbf34f8",
   "metadata": {},
   "outputs": [],
   "source": [
    "from uniswap import Uniswap\n",
    "\n",
    "# \"YOUR ADDRESS\"          # or None if you're not going to make transactions\n",
    "address = src_account\n",
    "# \"YOUR PRIVATE KEY\"  # or None if you're not going to make transactions\n",
    "private_key = account.private_key\n",
    "# specify which version of Uniswap to use\n",
    "version = 3\n",
    "# \"WEB3 PROVIDER URL\"    # can also be set through the environment variable `PROVIDER`\n",
    "provider = infura_url\n",
    "uniswap = Uniswap(address=address, private_key=private_key, version=version, provider=provider)\n",
    "\n",
    "# Some token addresses we'll be using later in this guide\n",
    "eth = \"0x0000000000000000000000000000000000000000\"\n",
    "#bat = \"0x0D8775F648430679A709E98d2b0Cb6250d2887EF\"\n",
    "bat = \"0x70cba46d2e933030e2f274ae58c951c800548aef\"  # On Goerli.\n",
    "#dai = \"0x6B175474E89094C44Da98b954EedeAC495271d0F\"\n",
    "dai = \"0xdc31ee1784292379fbb2964b3b9c4124d8f89c60\"  # On Goerli"
   ]
  },
  {
   "cell_type": "code",
   "execution_count": null,
   "id": "cfc809e0",
   "metadata": {},
   "outputs": [],
   "source": [
    "#uniswap.get_price_input(eth, dai, 10**18)"
   ]
  },
  {
   "cell_type": "code",
   "execution_count": null,
   "id": "ee0285f6",
   "metadata": {},
   "outputs": [],
   "source": [
    "#uniswap.get_price_output(eth, dai, 1_000 * 10**18)"
   ]
  },
  {
   "cell_type": "code",
   "execution_count": null,
   "id": "97a0225e",
   "metadata": {},
   "outputs": [],
   "source": [
    "#uniswap.get_token(eth)\n",
    "#uniswap.get_token(dai)\n",
    "uniswap.get_token(bat)"
   ]
  },
  {
   "cell_type": "code",
   "execution_count": null,
   "id": "6f5c40a4",
   "metadata": {},
   "outputs": [],
   "source": [
    "web3_lib.toChecksumAddress"
   ]
  },
  {
   "cell_type": "code",
   "execution_count": null,
   "id": "620566c0",
   "metadata": {},
   "outputs": [],
   "source": [
    "#uniswap.get_pool_instance(dai, bat)\n",
    "uniswap.get_pool_instance(web3_lib.Web3.toChecksumAddress(dai), web3_lib.Web3.toChecksumAddress(bat))"
   ]
  },
  {
   "cell_type": "code",
   "execution_count": null,
   "id": "42a54f80",
   "metadata": {},
   "outputs": [],
   "source": [
    "#uniswap.make_trade(eth, dai, 1*10**15)  # sell 1 ETH for BAT\n",
    "uniswap.make_trade(\n",
    "    web3_lib.Web3.toChecksumAddress(eth), web3_lib.Web3.toChecksumAddress(bat),\n",
    "    1*10**15)  # sell 1 ETH for BAT"
   ]
  },
  {
   "cell_type": "code",
   "execution_count": null,
   "id": "768eab31",
   "metadata": {},
   "outputs": [],
   "source": [
    "# Get the balance of ETH in an exchange contract.\n",
    "#uniswap.get_ex_eth_balance(bat)"
   ]
  },
  {
   "cell_type": "code",
   "execution_count": null,
   "id": "9bcd17fa",
   "metadata": {},
   "outputs": [],
   "source": [
    "# Get balance of ETH for you address (in wei).\n",
    "uniswap.get_eth_balance()"
   ]
  },
  {
   "cell_type": "code",
   "execution_count": null,
   "id": "a5418b89",
   "metadata": {},
   "outputs": [],
   "source": [
    "# Get the balance of a token for your address.\n",
    "uniswap.get_token_balance(surr_addr)"
   ]
  },
  {
   "cell_type": "code",
   "execution_count": null,
   "id": "80fbfa4f",
   "metadata": {},
   "outputs": [],
   "source": [
    "uniswap.get_token_balance(bat)"
   ]
  },
  {
   "cell_type": "code",
   "execution_count": null,
   "id": "c66f4861",
   "metadata": {},
   "outputs": [],
   "source": [
    "#uniswap.mint_liquidity()"
   ]
  },
  {
   "cell_type": "code",
   "execution_count": null,
   "id": "bf12ef50",
   "metadata": {},
   "outputs": [],
   "source": [
    "# Returns the amount of DAI you get for 1 ETH (10^18 wei)\n",
    "#uniswap.get_price_input(eth, dai, 10**18)"
   ]
  },
  {
   "cell_type": "code",
   "execution_count": null,
   "id": "681c6eba",
   "metadata": {},
   "outputs": [],
   "source": [
    "# ContractLogicError: execution reverted\n",
    "#uniswap.create_pool_instance(eth, surr_addr)"
   ]
  },
  {
   "cell_type": "code",
   "execution_count": null,
   "id": "bb0a1dc7",
   "metadata": {},
   "outputs": [],
   "source": [
    "# uniswap_Factory\n",
    "factory_abi = json.loads('[{\"inputs\":[{\"internalType\":\"address\",\"name\":\"_feeToSetter\",\"type\":\"address\"}],\"payable\":false,\"stateMutability\":\"nonpayable\",\"type\":\"constructor\"},{\"anonymous\":false,\"inputs\":[{\"indexed\":true,\"internalType\":\"address\",\"name\":\"token0\",\"type\":\"address\"},{\"indexed\":true,\"internalType\":\"address\",\"name\":\"token1\",\"type\":\"address\"},{\"indexed\":false,\"internalType\":\"address\",\"name\":\"pair\",\"type\":\"address\"},{\"indexed\":false,\"internalType\":\"uint256\",\"name\":\"\",\"type\":\"uint256\"}],\"name\":\"PairCreated\",\"type\":\"event\"},{\"constant\":true,\"inputs\":[{\"internalType\":\"uint256\",\"name\":\"\",\"type\":\"uint256\"}],\"name\":\"allPairs\",\"outputs\":[{\"internalType\":\"address\",\"name\":\"\",\"type\":\"address\"}],\"payable\":false,\"stateMutability\":\"view\",\"type\":\"function\"},{\"constant\":true,\"inputs\":[],\"name\":\"allPairsLength\",\"outputs\":[{\"internalType\":\"uint256\",\"name\":\"\",\"type\":\"uint256\"}],\"payable\":false,\"stateMutability\":\"view\",\"type\":\"function\"},{\"constant\":false,\"inputs\":[{\"internalType\":\"address\",\"name\":\"tokenA\",\"type\":\"address\"},{\"internalType\":\"address\",\"name\":\"tokenB\",\"type\":\"address\"}],\"name\":\"createPair\",\"outputs\":[{\"internalType\":\"address\",\"name\":\"pair\",\"type\":\"address\"}],\"payable\":false,\"stateMutability\":\"nonpayable\",\"type\":\"function\"},{\"constant\":true,\"inputs\":[],\"name\":\"feeTo\",\"outputs\":[{\"internalType\":\"address\",\"name\":\"\",\"type\":\"address\"}],\"payable\":false,\"stateMutability\":\"view\",\"type\":\"function\"},{\"constant\":true,\"inputs\":[],\"name\":\"feeToSetter\",\"outputs\":[{\"internalType\":\"address\",\"name\":\"\",\"type\":\"address\"}],\"payable\":false,\"stateMutability\":\"view\",\"type\":\"function\"},{\"constant\":true,\"inputs\":[{\"internalType\":\"address\",\"name\":\"\",\"type\":\"address\"},{\"internalType\":\"address\",\"name\":\"\",\"type\":\"address\"}],\"name\":\"getPair\",\"outputs\":[{\"internalType\":\"address\",\"name\":\"\",\"type\":\"address\"}],\"payable\":false,\"stateMutability\":\"view\",\"type\":\"function\"},{\"constant\":false,\"inputs\":[{\"internalType\":\"address\",\"name\":\"_feeTo\",\"type\":\"address\"}],\"name\":\"setFeeTo\",\"outputs\":[],\"payable\":false,\"stateMutability\":\"nonpayable\",\"type\":\"function\"},{\"constant\":false,\"inputs\":[{\"internalType\":\"address\",\"name\":\"_feeToSetter\",\"type\":\"address\"}],\"name\":\"setFeeToSetter\",\"outputs\":[],\"payable\":false,\"stateMutability\":\"nonpayable\",\"type\":\"function\"}]')\n",
    "#print(factory_abi)\n",
    "factory_address = '0x5C69bEe701ef814a2B6a3EDD4B1652CB9cc5aA6f'\n",
    "factory_contract = web3.eth.contract(address=factory_address, abi=factory_abi)\n",
    "\n",
    "#returns a count of all the trading pairs on uniswap\n",
    "allPairsLength = factory_contract.functions.allPairsLength().call()\n",
    "print(allPairsLength)\n",
    "\n",
    "# get the uniswap pair address for pricing"
   ]
  },
  {
   "cell_type": "code",
   "execution_count": null,
   "id": "95fd50bd",
   "metadata": {},
   "outputs": [],
   "source": [
    "# Send Eth from account1 to 2.\n",
    "nonce = web3.eth.getTransactionCount(src_account)\n",
    "print(\"nonce=\", nonce)\n",
    "\n",
    "# https://docs.uniswap.org/contracts/v2/reference/smart-contracts/factory\n",
    "#eth_addr = \"0x0000000000000000000000000000000000000000\"\n",
    "#func = factory_contract.functions.createPair(eth_addr, surr_addr)\n",
    "bat_addr = \"0x0D8775F648430679A709E98d2b0Cb6250d2887EF\"\n",
    "func = factory_contract.functions.createPair(bat_addr, surr_addr)\n",
    "print(func)\n",
    "\n",
    "tx = func.build_transaction({\n",
    "     #'chainId': 1,\n",
    "     #'maxFeePerGas': web3.toWei('1000', 'gwei'),\n",
    "     #'maxPriorityFeePerGas': web3.toWei('1', 'gwei'),\n",
    "     \"gasPrice\": web3.eth.generate_gas_price(),\n",
    "     \"gas\": 10000000,\n",
    "     'nonce': nonce,\n",
    "})\n",
    "print(\"tx=\", tx)\n",
    "\n",
    "#gas_estimate = web3.eth.estimateGas(tx)\n",
    "#print(\"gas_estimate\", gas_estimate)\n",
    "\n",
    "signed_tx = web3.eth.account.signTransaction(tx, account.private_key)\n",
    "print(\"signed_tx=\", signed_tx)\n",
    "\n",
    "tx_hash = web3.eth.sendRawTransaction(signed_tx.rawTransaction)\n",
    "print(\"tx_hash=\", tx_hash)\n",
    "#print(\"tx_status=\", tx.status)"
   ]
  },
  {
   "cell_type": "code",
   "execution_count": null,
   "id": "3b8715e6",
   "metadata": {},
   "outputs": [],
   "source": [
    "tx_receipt = web3.eth.waitForTransactionReceipt(tx_hash)\n",
    "import pprint\n",
    "pprint.pprint(tx_receipt)\n",
    "#print(tx_receipt.contractAddress)"
   ]
  },
  {
   "cell_type": "code",
   "execution_count": null,
   "id": "0379c5b6",
   "metadata": {},
   "outputs": [],
   "source": [
    "tx_receipt"
   ]
  },
  {
   "cell_type": "code",
   "execution_count": null,
   "id": "59aad766",
   "metadata": {},
   "outputs": [],
   "source": [
    "tx_receipt.status"
   ]
  },
  {
   "cell_type": "code",
   "execution_count": null,
   "id": "ffc22acd",
   "metadata": {},
   "outputs": [],
   "source": [
    "print(tx_hash)\n",
    "tx = chain.get_transaction(tx_hash)\n",
    "print(tx.info())"
   ]
  },
  {
   "cell_type": "code",
   "execution_count": null,
   "id": "da8d147e",
   "metadata": {},
   "outputs": [],
   "source": [
    "factory_contract.events.PairCreated.processReceipt(tx_receipt)"
   ]
  },
  {
   "cell_type": "markdown",
   "id": "c166529c",
   "metadata": {},
   "source": [
    "## Swap"
   ]
  },
  {
   "cell_type": "code",
   "execution_count": null,
   "id": "bc170476",
   "metadata": {},
   "outputs": [],
   "source": [
    "#uniswap_addr = \"0xCCa773F0FeC05569f18381D8bDf4cb684Aa1d7E5\"\n",
    "uniswap_addr = \"0x5C69bEe701ef814a2B6a3EDD4B1652CB9cc5aA6f\"\n",
    "\n",
    "uniswap = Uniswap(address=address, private_key=private_key, version=version, provider=provider)\n",
    "                 #factory_contract_addr=uniswap_addr)"
   ]
  },
  {
   "cell_type": "code",
   "execution_count": null,
   "id": "f4446a73",
   "metadata": {},
   "outputs": [],
   "source": []
  },
  {
   "cell_type": "code",
   "execution_count": null,
   "id": "ab7ede79",
   "metadata": {},
   "outputs": [],
   "source": [
    "uniswap.get_price_input(eth, dai, 10**18)"
   ]
  },
  {
   "cell_type": "code",
   "execution_count": null,
   "id": "9c80874b",
   "metadata": {},
   "outputs": [],
   "source": [
    "#uniswap.\n",
    "allPairsLength = uniswap.allPairsLength().call()\n",
    "print(allPairsLength)"
   ]
  },
  {
   "cell_type": "code",
   "execution_count": null,
   "id": "194f8b2c",
   "metadata": {},
   "outputs": [],
   "source": []
  },
  {
   "cell_type": "markdown",
   "id": "9dd83376",
   "metadata": {},
   "source": [
    "# Etherscan-python\n",
    "\n",
    "https://github.com/pcko1/etherscan-python"
   ]
  },
  {
   "cell_type": "code",
   "execution_count": null,
   "id": "82af905d",
   "metadata": {},
   "outputs": [],
   "source": [
    "#!pip install etherscan-python"
   ]
  },
  {
   "cell_type": "code",
   "execution_count": null,
   "id": "954caa5c",
   "metadata": {},
   "outputs": [],
   "source": [
    "#import etherscan\n",
    "from etherscan import Etherscan\n",
    "#eth = Etherscan(os.environ[\"ETHERSCAN_TOKEN\"], net=\"goerli\")\n",
    "eth = Etherscan(os.environ[\"ETHERSCAN_TOKEN\"])"
   ]
  },
  {
   "cell_type": "code",
   "execution_count": null,
   "id": "af7ef7fd",
   "metadata": {},
   "outputs": [],
   "source": [
    "factory_address = '0x5C69bEe701ef814a2B6a3EDD4B1652CB9cc5aA6f'\n",
    "abi = eth.get_contract_abi(factory_address)\n",
    "\n",
    "factory_abi = json.loads(abi)\n",
    "print(factory_abi)\n",
    "factory_contract = web3.eth.contract(address=factory_address, abi=factory_abi)"
   ]
  },
  {
   "cell_type": "code",
   "execution_count": null,
   "id": "521ff63a",
   "metadata": {},
   "outputs": [],
   "source": [
    "#dir(factory_contract)\n",
    "factory_contract.functions.createPair"
   ]
  },
  {
   "cell_type": "code",
   "execution_count": null,
   "id": "54e41012",
   "metadata": {},
   "outputs": [],
   "source": [
    "# There are several ways to interact with a contract / service\n",
    "# - Use REST API of the service\n",
    "# - Use SDK (e.g., JS or Python): python-uniswap\n",
    "# - Interact with contract directly on Ethereum"
   ]
  },
  {
   "cell_type": "code",
   "execution_count": null,
   "id": "65be1165",
   "metadata": {},
   "outputs": [],
   "source": [
    "eth.get_eth_last_price()"
   ]
  }
 ],
 "metadata": {
  "kernelspec": {
   "display_name": "Python 3 (ipykernel)",
   "language": "python",
   "name": "python3"
  },
  "language_info": {
   "codemirror_mode": {
    "name": "ipython",
    "version": 3
   },
   "file_extension": ".py",
   "mimetype": "text/x-python",
   "name": "python",
   "nbconvert_exporter": "python",
   "pygments_lexer": "ipython3"
  },
  "toc": {
   "base_numbering": 1,
   "nav_menu": {},
   "number_sections": true,
   "sideBar": true,
   "skip_h1_title": false,
   "title_cell": "Table of Contents",
   "title_sidebar": "Contents",
   "toc_cell": false,
   "toc_position": {},
   "toc_section_display": false,
   "toc_window_display": false
  }
 },
 "nbformat": 4,
 "nbformat_minor": 5
}
