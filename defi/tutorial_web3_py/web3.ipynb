{
 "cells": [
  {
   "cell_type": "code",
   "execution_count": null,
   "id": "acb4bacc",
   "metadata": {},
   "outputs": [],
   "source": [
    "# https://web3py.readthedocs.io/en/v5/"
   ]
  },
  {
   "cell_type": "markdown",
   "id": "4c35e9e0",
   "metadata": {},
   "source": [
    "# Intro"
   ]
  },
  {
   "cell_type": "markdown",
   "id": "8e2875a1",
   "metadata": {},
   "source": [
    "## Quickstart"
   ]
  },
  {
   "cell_type": "code",
   "execution_count": null,
   "id": "1a0c7e8f",
   "metadata": {},
   "outputs": [],
   "source": [
    "%load_ext autoreload\n",
    "%autoreload 2\n",
    "\n",
    "import os\n",
    "import sys\n",
    "import web3\n",
    "\n",
    "sys.path.append(\"..\")\n",
    "import web3_utils as w3ut"
   ]
  },
  {
   "cell_type": "code",
   "execution_count": null,
   "id": "b73f9325",
   "metadata": {},
   "outputs": [],
   "source": [
    "# Get the Infura key.\n",
    "infura_key=os.environ[\"WEB3_INFURA_PROJECT_ID\"]\n",
    "\n",
    "# Test Infura key.\n",
    "!curl --url https://mainnet.infura.io/v3/$WEB3_INFURA_PROJECT_ID -X POST -H \"Content-Type: application/json\" -d '{\"jsonrpc\":\"2.0\",\"method\":\"eth_blockNumber\",\"params\":[],\"id\":1}'"
   ]
  },
  {
   "cell_type": "code",
   "execution_count": null,
   "id": "a4d83762",
   "metadata": {},
   "outputs": [],
   "source": [
    "# Connect with Infura.\n",
    "#infura_url = f\"https://mainnet.infura.io/v3/{infura_key}\"\n",
    "infura_url = f\"https://goerli.infura.io/v3/{infura_key}\"\n",
    "\n",
    "w3 = web3.Web3(web3.Web3.HTTPProvider(infura_url))\n",
    "print(\"isConnected=\", w3.isConnected())"
   ]
  },
  {
   "cell_type": "code",
   "execution_count": null,
   "id": "8b752c60",
   "metadata": {},
   "outputs": [],
   "source": [
    "print(\"blockNumber=\", w3.eth.blockNumber)"
   ]
  },
  {
   "cell_type": "code",
   "execution_count": null,
   "id": "95baf95e",
   "metadata": {},
   "outputs": [],
   "source": [
    "w3.eth.get_block('latest')"
   ]
  },
  {
   "cell_type": "code",
   "execution_count": null,
   "id": "f30be5fd",
   "metadata": {},
   "outputs": [],
   "source": [
    "print(w3.fromWei(w3.eth.gas_price, \"ether\"))"
   ]
  },
  {
   "cell_type": "code",
   "execution_count": null,
   "id": "c9b57083",
   "metadata": {},
   "outputs": [],
   "source": [
    "def gas_estimate(w3, func):\n",
    "    gas_estimate = func.estimate_gas()\n",
    "    print(\"gas_estimate [units]=\", gas_estimate)\n",
    "    # Wei / unit.\n",
    "    gas_price = w3.eth.gas_price\n",
    "    print(\"gas_price [wei]=\", gas_price)\n",
    "    print(\"gas_price [wei]=\", w3.fromWei(gas_price, \"gwei\"))\n",
    "    #\n",
    "    gas_cost = gas_estimate * gas_price\n",
    "    gas_cost_eth = w3.fromWei(gas_cost, \"ether\")\n",
    "    #\n",
    "    eth_price_USD = 1200\n",
    "    gas_cost_USD = gas_cost_eth * eth_price_USD\n",
    "    return gas_cost_USD"
   ]
  },
  {
   "cell_type": "markdown",
   "id": "352310b0",
   "metadata": {},
   "source": [
    "## Overview"
   ]
  },
  {
   "cell_type": "code",
   "execution_count": null,
   "id": "701458f4",
   "metadata": {},
   "outputs": [],
   "source": [
    "# 1 ether is 1e18 wei (so it's two gwei).\n",
    "w3.toWei(1, 'ether')"
   ]
  },
  {
   "cell_type": "code",
   "execution_count": null,
   "id": "aa52b415",
   "metadata": {},
   "outputs": [],
   "source": [
    "w3.fromWei(1, 'ether')"
   ]
  },
  {
   "cell_type": "code",
   "execution_count": null,
   "id": "5d1e06f2",
   "metadata": {},
   "outputs": [],
   "source": [
    "w3.fromWei(1, 'gwei')"
   ]
  },
  {
   "cell_type": "markdown",
   "id": "179a6b86",
   "metadata": {},
   "source": [
    "# Guides"
   ]
  },
  {
   "cell_type": "markdown",
   "id": "ead5f189",
   "metadata": {},
   "source": [
    "## Examples"
   ]
  },
  {
   "cell_type": "markdown",
   "id": "81d638bc",
   "metadata": {},
   "source": [
    "### Looking up blocks"
   ]
  },
  {
   "cell_type": "code",
   "execution_count": null,
   "id": "d41fffdb",
   "metadata": {},
   "outputs": [],
   "source": [
    "w3.eth.get_block(12345)"
   ]
  },
  {
   "cell_type": "code",
   "execution_count": null,
   "id": "119aa50e",
   "metadata": {},
   "outputs": [],
   "source": [
    "w3.eth.get_block('latest')"
   ]
  },
  {
   "cell_type": "code",
   "execution_count": null,
   "id": "0dd1bee6",
   "metadata": {},
   "outputs": [],
   "source": [
    "w3.eth.block_number"
   ]
  },
  {
   "cell_type": "code",
   "execution_count": null,
   "id": "86722632",
   "metadata": {},
   "outputs": [],
   "source": [
    "#account = \"0x90e63c3d53E0Ea496845b7a03ec7548B70014A91\"\n",
    "account = \"0x742d35Cc6634C0532925a3b844Bc454e4438f44e\"\n",
    "balance = w3.eth.get_balance(account)\n",
    "print(\"wei=\", balance)\n",
    "print(\"eth=\", w3.fromWei(balance, \"ether\"))"
   ]
  },
  {
   "cell_type": "code",
   "execution_count": null,
   "id": "9a607146",
   "metadata": {},
   "outputs": [],
   "source": [
    "w3.eth.get_transaction(\"0x5c504ed432cb51138bcf09aa5e8a410dd4a1e204ef84bfed1be16dfba1b22060\")"
   ]
  },
  {
   "cell_type": "code",
   "execution_count": null,
   "id": "86700f82",
   "metadata": {},
   "outputs": [],
   "source": [
    "# When a transaction is mined, one can get the receipt.\n",
    "w3.eth.get_transaction_receipt(\"0x5c504ed432cb51138bcf09aa5e8a410dd4a1e204ef84bfed1be16dfba1b22060\")"
   ]
  },
  {
   "cell_type": "markdown",
   "id": "b178a60d",
   "metadata": {},
   "source": [
    "### Contracts"
   ]
  },
  {
   "cell_type": "code",
   "execution_count": null,
   "id": "3b712b43",
   "metadata": {},
   "outputs": [],
   "source": [
    "address = '0x1f9840a85d5aF5bf1D1762F925BDADdC4201F988'\n",
    "abi = '[{\"inputs\":[{\"internalType\":\"address\",\"name\":\"account\",\"type\":\"address\"},{\"internalType\":\"address\",\"name\":\"minter_\",\"type\":\"address\"},...'\n",
    "contract_instance = w3.eth.contract(address=address, abi=abi)"
   ]
  },
  {
   "cell_type": "markdown",
   "id": "2e97c09f",
   "metadata": {},
   "source": [
    "### Working with ERC20 token."
   ]
  },
  {
   "cell_type": "code",
   "execution_count": null,
   "id": "54ca9dfe",
   "metadata": {},
   "outputs": [],
   "source": [
    "# Address of OMG token.\n",
    "# https://etherscan.io/address/0xd26114cd6EE289AccF82350c8d8487fedB8A0C07\n",
    "address = \"0xd26114cd6EE289AccF82350c8d8487fedB8A0C07\"\n",
    "abi = json.loads('[{\"constant\":true,\"inputs\":[],\"name\":\"mintingFinished\",\"outputs\":[{\"name\":\"\",\"type\":\"bool\"}],\"payable\":false,\"type\":\"function\"},{\"constant\":true,\"inputs\":[],\"name\":\"name\",\"outputs\":[{\"name\":\"\",\"type\":\"string\"}],\"payable\":false,\"type\":\"function\"},{\"constant\":false,\"inputs\":[{\"name\":\"_spender\",\"type\":\"address\"},{\"name\":\"_value\",\"type\":\"uint256\"}],\"name\":\"approve\",\"outputs\":[],\"payable\":false,\"type\":\"function\"},{\"constant\":true,\"inputs\":[],\"name\":\"totalSupply\",\"outputs\":[{\"name\":\"\",\"type\":\"uint256\"}],\"payable\":false,\"type\":\"function\"},{\"constant\":false,\"inputs\":[{\"name\":\"_from\",\"type\":\"address\"},{\"name\":\"_to\",\"type\":\"address\"},{\"name\":\"_value\",\"type\":\"uint256\"}],\"name\":\"transferFrom\",\"outputs\":[],\"payable\":false,\"type\":\"function\"},{\"constant\":true,\"inputs\":[],\"name\":\"decimals\",\"outputs\":[{\"name\":\"\",\"type\":\"uint256\"}],\"payable\":false,\"type\":\"function\"},{\"constant\":false,\"inputs\":[],\"name\":\"unpause\",\"outputs\":[{\"name\":\"\",\"type\":\"bool\"}],\"payable\":false,\"type\":\"function\"},{\"constant\":false,\"inputs\":[{\"name\":\"_to\",\"type\":\"address\"},{\"name\":\"_amount\",\"type\":\"uint256\"}],\"name\":\"mint\",\"outputs\":[{\"name\":\"\",\"type\":\"bool\"}],\"payable\":false,\"type\":\"function\"},{\"constant\":true,\"inputs\":[],\"name\":\"paused\",\"outputs\":[{\"name\":\"\",\"type\":\"bool\"}],\"payable\":false,\"type\":\"function\"},{\"constant\":true,\"inputs\":[{\"name\":\"_owner\",\"type\":\"address\"}],\"name\":\"balanceOf\",\"outputs\":[{\"name\":\"balance\",\"type\":\"uint256\"}],\"payable\":false,\"type\":\"function\"},{\"constant\":false,\"inputs\":[],\"name\":\"finishMinting\",\"outputs\":[{\"name\":\"\",\"type\":\"bool\"}],\"payable\":false,\"type\":\"function\"},{\"constant\":false,\"inputs\":[],\"name\":\"pause\",\"outputs\":[{\"name\":\"\",\"type\":\"bool\"}],\"payable\":false,\"type\":\"function\"},{\"constant\":true,\"inputs\":[],\"name\":\"owner\",\"outputs\":[{\"name\":\"\",\"type\":\"address\"}],\"payable\":false,\"type\":\"function\"},{\"constant\":true,\"inputs\":[],\"name\":\"symbol\",\"outputs\":[{\"name\":\"\",\"type\":\"string\"}],\"payable\":false,\"type\":\"function\"},{\"constant\":false,\"inputs\":[{\"name\":\"_to\",\"type\":\"address\"},{\"name\":\"_value\",\"type\":\"uint256\"}],\"name\":\"transfer\",\"outputs\":[],\"payable\":false,\"type\":\"function\"},{\"constant\":false,\"inputs\":[{\"name\":\"_to\",\"type\":\"address\"},{\"name\":\"_amount\",\"type\":\"uint256\"},{\"name\":\"_releaseTime\",\"type\":\"uint256\"}],\"name\":\"mintTimelocked\",\"outputs\":[{\"name\":\"\",\"type\":\"address\"}],\"payable\":false,\"type\":\"function\"},{\"constant\":true,\"inputs\":[{\"name\":\"_owner\",\"type\":\"address\"},{\"name\":\"_spender\",\"type\":\"address\"}],\"name\":\"allowance\",\"outputs\":[{\"name\":\"remaining\",\"type\":\"uint256\"}],\"payable\":false,\"type\":\"function\"},{\"constant\":false,\"inputs\":[{\"name\":\"newOwner\",\"type\":\"address\"}],\"name\":\"transferOwnership\",\"outputs\":[],\"payable\":false,\"type\":\"function\"},{\"anonymous\":false,\"inputs\":[{\"indexed\":true,\"name\":\"to\",\"type\":\"address\"},{\"indexed\":false,\"name\":\"value\",\"type\":\"uint256\"}],\"name\":\"Mint\",\"type\":\"event\"},{\"anonymous\":false,\"inputs\":[],\"name\":\"MintFinished\",\"type\":\"event\"},{\"anonymous\":false,\"inputs\":[],\"name\":\"Pause\",\"type\":\"event\"},{\"anonymous\":false,\"inputs\":[],\"name\":\"Unpause\",\"type\":\"event\"},{\"anonymous\":false,\"inputs\":[{\"indexed\":true,\"name\":\"owner\",\"type\":\"address\"},{\"indexed\":true,\"name\":\"spender\",\"type\":\"address\"},{\"indexed\":false,\"name\":\"value\",\"type\":\"uint256\"}],\"name\":\"Approval\",\"type\":\"event\"},{\"anonymous\":false,\"inputs\":[{\"indexed\":true,\"name\":\"from\",\"type\":\"address\"},{\"indexed\":true,\"name\":\"to\",\"type\":\"address\"},{\"indexed\":false,\"name\":\"value\",\"type\":\"uint256\"}],\"name\":\"Transfer\",\"type\":\"event\"}]')\n",
    "\n",
    "contract = w3.eth.contract(address=address, abi=abi)"
   ]
  },
  {
   "cell_type": "code",
   "execution_count": null,
   "id": "9c0e3628",
   "metadata": {},
   "outputs": [],
   "source": [
    "# Print the functions available in this contract.\n",
    "contract.functions.__dict__.keys()"
   ]
  },
  {
   "cell_type": "code",
   "execution_count": null,
   "id": "a629d427",
   "metadata": {},
   "outputs": [],
   "source": [
    "print(\"name=\", contract.functions.name().call())\n",
    "print(\"symbol=\", contract.functions.symbol().call())\n",
    "decimals = contract.functions.decimals().call()\n",
    "print(\"decimals=\", decimals)\n",
    "totalSupply = contract.functions.totalSupply().call()\n",
    "print(\"totalSupply=\", w3.fromWei(totalSupply, 'ether'))\n",
    "print(\"totalSupply [eth]\", totalSupply / 10 ** decimals)\n",
    "\n",
    "rich_account_addr_goerli = '0xd26114cd6EE289AccF82350c8d8487fedB8A0C07'\n",
    "balance = contract.functions.balanceOf(rich_account_addr_goerli).call()\n",
    "print(\"balance=\", w3.fromWei(balance, 'ether'))"
   ]
  },
  {
   "cell_type": "code",
   "execution_count": null,
   "id": "a7796a54",
   "metadata": {},
   "outputs": [],
   "source": [
    "contract.events.Transfer.createFilter(fromBlock=\"latest\").get_all_entries()"
   ]
  },
  {
   "cell_type": "code",
   "execution_count": null,
   "id": "690407d2",
   "metadata": {},
   "outputs": [],
   "source": [
    "alice = '0x7E5F4552091A69125d5DfCb7b8C2659029395Bdf'\n",
    "bob = '0x2B5AD5c4795c026514f8317c7a215E218DcCD6cF'\n",
    "\n",
    "func = contract.functions.transfer(bob, 100)\n",
    "\n",
    "gas_estimate(w3, func)"
   ]
  },
  {
   "cell_type": "code",
   "execution_count": null,
   "id": "fbe4fb16",
   "metadata": {},
   "outputs": [],
   "source": [
    "alice = '0x7E5F4552091A69125d5DfCb7b8C2659029395Bdf'\n",
    "bob = '0x2B5AD5c4795c026514f8317c7a215E218DcCD6cF'\n",
    "\n",
    "func = contract.functions.transfer(bob, 100)\n",
    "\n",
    "gas_estimate(w3, func)"
   ]
  },
  {
   "cell_type": "markdown",
   "id": "7c096450",
   "metadata": {},
   "source": [
    "# Ganache"
   ]
  },
  {
   "cell_type": "code",
   "execution_count": null,
   "id": "a960d638",
   "metadata": {},
   "outputs": [],
   "source": [
    "ganache_url = \"http://127.0.0.1:8545\"\n",
    "w3 = web3.Web3(web3.Web3.HTTPProvider(ganache_url))"
   ]
  },
  {
   "cell_type": "code",
   "execution_count": null,
   "id": "d7f5af62",
   "metadata": {},
   "outputs": [],
   "source": [
    "# Install private key.\n",
    "\n",
    "import os\n",
    "from eth_account import Account\n",
    "from eth_account.signers.local import LocalAccount\n",
    "from web3 import Web3, EthereumTesterProvider\n",
    "from web3.middleware import construct_sign_and_send_raw_middleware\n",
    "\n",
    "account_addr = \"0x90F8bf6A479f320ead074411a4B0e7944Ea8c9C1\"\n",
    "private_key = \"0x4f3edf983ac636a65a842ce7c78d9aa706d3b113bce9c46f30d7d21715b23b1d\"\n",
    "\n",
    "account: LocalAccount = Account.from_key(private_key)\n",
    "w3.middleware_onion.add(construct_sign_and_send_raw_middleware(account))\n",
    "\n",
    "print(f\"Your hot wallet address is {account.address}\")"
   ]
  },
  {
   "cell_type": "markdown",
   "id": "5f1e88de",
   "metadata": {},
   "source": [
    "## Deploy contract"
   ]
  },
  {
   "cell_type": "code",
   "execution_count": null,
   "id": "82fdf5c4",
   "metadata": {},
   "outputs": [],
   "source": [
    "import sys\n",
    "import time\n",
    "import pprint\n",
    "\n",
    "#from web3.providers.eth_tester import EthereumTesterProvider\n",
    "from web3 import Web3\n",
    "#from eth_tester import PyEVMBackend\n",
    "import solcx\n",
    "\n",
    "\n",
    "def compile_source_file(file_path):\n",
    "    with open(file_path, 'r') as f:\n",
    "        source = f.read()\n",
    "    return solcx.compile_source(source)\n",
    "\n",
    "\n",
    "def deploy_contract(w3, account, contract_interface):\n",
    "    func = w3.eth.contract(\n",
    "        abi=contract_interface[\"abi\"],\n",
    "        bytecode=contract_interface[\"bin\"]).constructor()\n",
    "    #\n",
    "    gas_estimate = func.estimate_gas()\n",
    "    print(\"gas_estimate=\", gas_estimate) \n",
    "    #\n",
    "    tx_hash = func.transact({\"from\": account})\n",
    "    address = w3.eth.get_transaction_receipt(tx_hash)[\"contractAddress\"]\n",
    "    return address\n",
    "\n",
    "\n",
    "source = \"\"\"\n",
    "// SPDX-License-Identifier: MIT\n",
    "pragma solidity ^0.8.17;\n",
    "\n",
    "contract StoreVar {\n",
    "    uint8 public _myVar;\n",
    "    event MyEvent(uint indexed _var);\n",
    "\n",
    "    function setVar(uint8 _var) public {\n",
    "        _myVar = _var;\n",
    "        emit MyEvent(_var);\n",
    "    }\n",
    "\n",
    "    function getVar() public view returns (uint8) {\n",
    "        return _myVar;\n",
    "    }\n",
    "}\n",
    "\"\"\"\n",
    "\n",
    "contract_path = \"contract.sol\"\n",
    "with open(contract_path, \"w\") as f:\n",
    "    f.write(source)\n",
    "compiled_sol = solcx.compile_source(\n",
    "    source, output_values=[\"abi\", \"bin\", \"bin-runtime\"])\n",
    "contract_id, contract_interface = compiled_sol.popitem()\n",
    "\n",
    "print(\"contract_id=\", contract_id)\n",
    "print(\"contract_interface=\", contract_interface)\n",
    "\n",
    "address = deploy_contract(w3, account_addr, contract_interface)\n",
    "print(\"Deployed to\", address)"
   ]
  },
  {
   "cell_type": "code",
   "execution_count": null,
   "id": "0d5f13d1",
   "metadata": {},
   "outputs": [],
   "source": [
    "contract = w3.eth.contract(address=address, abi=contract_interface[\"abi\"])\n",
    "gas_estimate = contract.functions.setVar(255).estimate_gas()\n",
    "print(\"gas_estimate=\", gas_estimate)\n",
    "\n",
    "# setVar.\n",
    "tx_hash = contract.functions.setVar(128).transact({\"from\": account_addr})\n",
    "receipt = w3.eth.wait_for_transaction_receipt(tx_hash)\n",
    "pprint.pprint(dict(receipt))\n",
    "print(\"Status=\", receipt[\"status\"])"
   ]
  },
  {
   "cell_type": "code",
   "execution_count": null,
   "id": "006b48cd",
   "metadata": {},
   "outputs": [],
   "source": [
    "# Execute read.\n",
    "gas_estimate = contract.functions.getVar().estimate_gas()\n",
    "print(\"gas_estimate=\", gas_estimate)\n",
    "\n",
    "contract.functions.getVar().call()"
   ]
  },
  {
   "cell_type": "code",
   "execution_count": null,
   "id": "4a0591c1",
   "metadata": {},
   "outputs": [],
   "source": [
    "#!solc contract.sol"
   ]
  },
  {
   "cell_type": "markdown",
   "id": "c8be69b1",
   "metadata": {},
   "source": [
    "## Transfers"
   ]
  },
  {
   "cell_type": "code",
   "execution_count": null,
   "id": "ef45b711",
   "metadata": {},
   "outputs": [],
   "source": [
    "account1 = \"0x90F8bf6A479f320ead074411a4B0e7944Ea8c9C1\"\n",
    "account2 = \"0xFFcf8FDEE72ac11b5c542428B35EEF5769C409f0\"\n",
    "\n",
    "priv_key1 = \"0x4f3edf983ac636a65a842ce7c78d9aa706d3b113bce9c46f30d7d21715b23b1d\"\n",
    "\n",
    "# Send Eth from account1 to 2.\n",
    "nonce = web3.eth.getTransactionCount(account1)\n",
    "print(\"nonce=\", nonce)\n",
    "\n",
    "tx = {\n",
    "    'nonce': nonce,\n",
    "    'to': account2,\n",
    "    'value': web3.toWei(1, 'ether'),\n",
    "    # Gas limit.\n",
    "    'gas': int(2e6),\n",
    "    'gasPrice': web3.toWei('50', 'gwei')\n",
    "}\n",
    "print(\"tx=\", tx)\n",
    "\n",
    "signed_tx = web3.eth.account.signTransaction(tx, priv_key1)\n",
    "print(\"signed_tx=\", signed_tx)\n",
    "\n",
    "tx_hash = web3.eth.sendRawTransaction(signed_tx.rawTransaction)\n",
    "print(\"tx_hash=\", tx_hash)"
   ]
  },
  {
   "cell_type": "code",
   "execution_count": null,
   "id": "2e52b3c5",
   "metadata": {},
   "outputs": [],
   "source": [
    "print(web3.eth.block_number)"
   ]
  },
  {
   "cell_type": "code",
   "execution_count": null,
   "id": "889dc9ac",
   "metadata": {},
   "outputs": [],
   "source": [
    "print(web3.eth.get_balance(account1))\n",
    "print(web3.eth.get_balance(account2))"
   ]
  }
 ],
 "metadata": {
  "kernelspec": {
   "display_name": "Python 3 (ipykernel)",
   "language": "python",
   "name": "python3"
  },
  "language_info": {
   "codemirror_mode": {
    "name": "ipython",
    "version": 3
   },
   "file_extension": ".py",
   "mimetype": "text/x-python",
   "name": "python",
   "nbconvert_exporter": "python",
   "pygments_lexer": "ipython3"
  },
  "toc": {
   "base_numbering": 1,
   "nav_menu": {},
   "number_sections": true,
   "sideBar": true,
   "skip_h1_title": false,
   "title_cell": "Table of Contents",
   "title_sidebar": "Contents",
   "toc_cell": false,
   "toc_position": {},
   "toc_section_display": true,
   "toc_window_display": true
  }
 },
 "nbformat": 4,
 "nbformat_minor": 5
}
