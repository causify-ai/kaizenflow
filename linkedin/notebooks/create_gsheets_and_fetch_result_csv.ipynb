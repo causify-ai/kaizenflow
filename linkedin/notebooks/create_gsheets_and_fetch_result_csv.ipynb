{
 "cells": [
  {
   "cell_type": "markdown",
   "id": "46bfaaec",
   "metadata": {},
   "source": [
    "# Import"
   ]
  },
  {
   "cell_type": "code",
   "execution_count": 1,
   "id": "b6fa0290",
   "metadata": {
    "ExecuteTime": {
     "end_time": "2023-09-25T05:47:09.973176Z",
     "start_time": "2023-09-25T05:47:01.672286Z"
    },
    "run_control": {
     "marked": true
    },
    "scrolled": true
   },
   "outputs": [
    {
     "name": "stdout",
     "output_type": "stream",
     "text": [
      "Collecting google-auth\n",
      "  Downloading google_auth-2.23.0-py2.py3-none-any.whl (181 kB)\n",
      "\u001b[K     |████████████████████████████████| 181 kB 14.0 MB/s eta 0:00:01\n",
      "\u001b[?25hCollecting google-auth-httplib2\n",
      "  Downloading google_auth_httplib2-0.1.1-py2.py3-none-any.whl (9.3 kB)\n",
      "Collecting google-auth-oauthlib\n",
      "  Downloading google_auth_oauthlib-1.1.0-py2.py3-none-any.whl (19 kB)\n",
      "Collecting google-api-python-client\n",
      "  Downloading google_api_python_client-2.100.0-py2.py3-none-any.whl (12.2 MB)\n",
      "\u001b[K     |████████████████████████████████| 12.2 MB 16.7 MB/s eta 0:00:01\n",
      "\u001b[?25hRequirement already satisfied, skipping upgrade: cachetools<6.0,>=2.0.0 in /venv/lib/python3.8/site-packages (from google-auth) (5.3.1)\n",
      "Requirement already satisfied, skipping upgrade: pyasn1-modules>=0.2.1 in /venv/lib/python3.8/site-packages (from google-auth) (0.3.0)\n",
      "Requirement already satisfied, skipping upgrade: rsa<5,>=3.1.4 in /venv/lib/python3.8/site-packages (from google-auth) (4.7.2)\n",
      "Requirement already satisfied, skipping upgrade: urllib3<2.0 in /venv/lib/python3.8/site-packages (from google-auth) (1.26.16)\n",
      "Collecting httplib2>=0.19.0\n",
      "  Downloading httplib2-0.22.0-py3-none-any.whl (96 kB)\n",
      "\u001b[K     |████████████████████████████████| 96 kB 7.2 MB/s  eta 0:00:01\n",
      "\u001b[?25hRequirement already satisfied, skipping upgrade: requests-oauthlib>=0.7.0 in /venv/lib/python3.8/site-packages (from google-auth-oauthlib) (1.3.1)\n",
      "Collecting uritemplate<5,>=3.0.1\n",
      "  Downloading uritemplate-4.1.1-py2.py3-none-any.whl (10 kB)\n",
      "Collecting google-api-core!=2.0.*,!=2.1.*,!=2.2.*,!=2.3.0,<3.0.0.dev0,>=1.31.5\n",
      "  Downloading google_api_core-2.11.1-py3-none-any.whl (120 kB)\n",
      "\u001b[K     |████████████████████████████████| 120 kB 20.6 MB/s eta 0:00:01\n",
      "\u001b[?25hRequirement already satisfied, skipping upgrade: pyasn1<0.6.0,>=0.4.6 in /venv/lib/python3.8/site-packages (from pyasn1-modules>=0.2.1->google-auth) (0.5.0)\n",
      "Requirement already satisfied, skipping upgrade: pyparsing!=3.0.0,!=3.0.1,!=3.0.2,!=3.0.3,<4,>=2.4.2; python_version > \"3.0\" in /venv/lib/python3.8/site-packages (from httplib2>=0.19.0->google-auth-httplib2) (3.0.9)\n",
      "Requirement already satisfied, skipping upgrade: oauthlib>=3.0.0 in /venv/lib/python3.8/site-packages (from requests-oauthlib>=0.7.0->google-auth-oauthlib) (3.2.2)\n",
      "Requirement already satisfied, skipping upgrade: requests>=2.0.0 in /venv/lib/python3.8/site-packages (from requests-oauthlib>=0.7.0->google-auth-oauthlib) (2.31.0)\n",
      "Collecting protobuf!=3.20.0,!=3.20.1,!=4.21.0,!=4.21.1,!=4.21.2,!=4.21.3,!=4.21.4,!=4.21.5,<5.0.0.dev0,>=3.19.5\n",
      "  Downloading protobuf-4.24.3-cp37-abi3-manylinux2014_x86_64.whl (311 kB)\n",
      "\u001b[K     |████████████████████████████████| 311 kB 20.1 MB/s eta 0:00:01\n",
      "\u001b[?25hCollecting googleapis-common-protos<2.0.dev0,>=1.56.2\n",
      "  Downloading googleapis_common_protos-1.60.0-py2.py3-none-any.whl (227 kB)\n",
      "\u001b[K     |████████████████████████████████| 227 kB 18.1 MB/s eta 0:00:01\n",
      "\u001b[?25hRequirement already satisfied, skipping upgrade: charset-normalizer<4,>=2 in /venv/lib/python3.8/site-packages (from requests>=2.0.0->requests-oauthlib>=0.7.0->google-auth-oauthlib) (3.2.0)\n",
      "Requirement already satisfied, skipping upgrade: certifi>=2017.4.17 in /venv/lib/python3.8/site-packages (from requests>=2.0.0->requests-oauthlib>=0.7.0->google-auth-oauthlib) (2023.7.22)\n",
      "Requirement already satisfied, skipping upgrade: idna<4,>=2.5 in /venv/lib/python3.8/site-packages (from requests>=2.0.0->requests-oauthlib>=0.7.0->google-auth-oauthlib) (3.4)\n",
      "Installing collected packages: google-auth, httplib2, google-auth-httplib2, google-auth-oauthlib, uritemplate, protobuf, googleapis-common-protos, google-api-core, google-api-python-client\n",
      "  Attempting uninstall: google-auth\n",
      "    Found existing installation: google-auth 2.22.0\n",
      "    Uninstalling google-auth-2.22.0:\n",
      "      Successfully uninstalled google-auth-2.22.0\n",
      "  Attempting uninstall: google-auth-oauthlib\n",
      "    Found existing installation: google-auth-oauthlib 1.0.0\n",
      "    Uninstalling google-auth-oauthlib-1.0.0:\n",
      "      Successfully uninstalled google-auth-oauthlib-1.0.0\n",
      "Successfully installed google-api-core-2.11.1 google-api-python-client-2.100.0 google-auth-2.23.0 google-auth-httplib2-0.1.1 google-auth-oauthlib-1.1.0 googleapis-common-protos-1.60.0 httplib2-0.22.0 protobuf-4.24.3 uritemplate-4.1.1\n",
      "Requirement already satisfied: gspread-pandas in /venv/lib/python3.8/site-packages (3.2.2)\n",
      "Requirement already satisfied: decorator in /venv/lib/python3.8/site-packages (from gspread-pandas) (5.1.1)\n",
      "Requirement already satisfied: gspread>=5.0.0 in /venv/lib/python3.8/site-packages (from gspread-pandas) (5.10.0)\n",
      "Requirement already satisfied: google-auth in /venv/lib/python3.8/site-packages (from gspread-pandas) (2.23.0)\n",
      "Requirement already satisfied: pandas>=0.20.0 in /venv/lib/python3.8/site-packages (from gspread-pandas) (1.5.1)\n",
      "Requirement already satisfied: google-auth-oauthlib in /venv/lib/python3.8/site-packages (from gspread-pandas) (1.1.0)\n",
      "Requirement already satisfied: rsa<5,>=3.1.4 in /venv/lib/python3.8/site-packages (from google-auth->gspread-pandas) (4.7.2)\n",
      "Requirement already satisfied: pyasn1-modules>=0.2.1 in /venv/lib/python3.8/site-packages (from google-auth->gspread-pandas) (0.3.0)\n",
      "Requirement already satisfied: cachetools<6.0,>=2.0.0 in /venv/lib/python3.8/site-packages (from google-auth->gspread-pandas) (5.3.1)\n",
      "Requirement already satisfied: urllib3<2.0 in /venv/lib/python3.8/site-packages (from google-auth->gspread-pandas) (1.26.16)\n",
      "Requirement already satisfied: python-dateutil>=2.8.1 in /venv/lib/python3.8/site-packages (from pandas>=0.20.0->gspread-pandas) (2.8.2)\n",
      "Requirement already satisfied: pytz>=2020.1 in /venv/lib/python3.8/site-packages (from pandas>=0.20.0->gspread-pandas) (2023.3)\n",
      "Requirement already satisfied: numpy>=1.20.3; python_version < \"3.10\" in /venv/lib/python3.8/site-packages (from pandas>=0.20.0->gspread-pandas) (1.20.3)\n",
      "Requirement already satisfied: requests-oauthlib>=0.7.0 in /venv/lib/python3.8/site-packages (from google-auth-oauthlib->gspread-pandas) (1.3.1)\n",
      "Requirement already satisfied: pyasn1>=0.1.3 in /venv/lib/python3.8/site-packages (from rsa<5,>=3.1.4->google-auth->gspread-pandas) (0.5.0)\n",
      "Requirement already satisfied: six>=1.5 in /venv/lib/python3.8/site-packages (from python-dateutil>=2.8.1->pandas>=0.20.0->gspread-pandas) (1.16.0)\n",
      "Requirement already satisfied: requests>=2.0.0 in /venv/lib/python3.8/site-packages (from requests-oauthlib>=0.7.0->google-auth-oauthlib->gspread-pandas) (2.31.0)\n",
      "Requirement already satisfied: oauthlib>=3.0.0 in /venv/lib/python3.8/site-packages (from requests-oauthlib>=0.7.0->google-auth-oauthlib->gspread-pandas) (3.2.2)\n",
      "Requirement already satisfied: charset-normalizer<4,>=2 in /venv/lib/python3.8/site-packages (from requests>=2.0.0->requests-oauthlib>=0.7.0->google-auth-oauthlib->gspread-pandas) (3.2.0)\n",
      "Requirement already satisfied: certifi>=2017.4.17 in /venv/lib/python3.8/site-packages (from requests>=2.0.0->requests-oauthlib>=0.7.0->google-auth-oauthlib->gspread-pandas) (2023.7.22)\n",
      "Requirement already satisfied: idna<4,>=2.5 in /venv/lib/python3.8/site-packages (from requests>=2.0.0->requests-oauthlib>=0.7.0->google-auth-oauthlib->gspread-pandas) (3.4)\n"
     ]
    }
   ],
   "source": [
    "# Before running this notebook, please read the instruction here:\n",
    "# https://gspread-pandas.readthedocs.io/en/latest/getting_started.html#client-credentials\n",
    "# Follow the steps in `Client Credentials` until you have the JSON file downloaded. \n",
    "# Save that JSON as `client_secrets.json` and put it in `../config/` folder, then you are all set.\n",
    "\n",
    "!sudo /bin/bash -c \"(source /venv/bin/activate; pip install --upgrade google-auth google-auth-httplib2 google-auth-oauthlib google-api-python-client)\"\n",
    "!sudo /bin/bash -c \"(source /venv/bin/activate; pip install gspread-pandas)\""
   ]
  },
  {
   "cell_type": "code",
   "execution_count": 2,
   "id": "295ce667",
   "metadata": {
    "ExecuteTime": {
     "end_time": "2023-09-25T05:47:11.486495Z",
     "start_time": "2023-09-25T05:47:09.980805Z"
    },
    "scrolled": true
   },
   "outputs": [],
   "source": [
    "import logging\n",
    "import helpers.hdbg as hdbg\n",
    "import helpers.hio as hio\n",
    "import linkedin.phantom_api.phantombuster_api as lpphapia\n",
    "import helpers.hgoogle_file_api as hgofiapi"
   ]
  },
  {
   "cell_type": "code",
   "execution_count": 3,
   "id": "47f6a93e",
   "metadata": {
    "ExecuteTime": {
     "end_time": "2023-09-25T05:47:12.931493Z",
     "start_time": "2023-09-25T05:47:12.846227Z"
    },
    "scrolled": false
   },
   "outputs": [
    {
     "name": "stdout",
     "output_type": "stream",
     "text": [
      "\u001b[0m\u001b[36mINFO\u001b[0m: > cmd='/venv/lib/python3.8/site-packages/ipykernel_launcher.py -f /home/.local/share/jupyter/runtime/kernel-c875ff4e-029b-43cc-9405-3eaba98b733e.json'\n",
      "WARNING: Running in Jupyter\n",
      "\u001b[36mINFO\u001b[0m: Saving log to file '/app/linkedin/notebooks/none.log'\n"
     ]
    }
   ],
   "source": [
    "_LOG = logging.getLogger(__name__)\n",
    "hdbg.init_logger(use_exec_path=True)"
   ]
  },
  {
   "cell_type": "markdown",
   "id": "7275c584",
   "metadata": {
    "ExecuteTime": {
     "end_time": "2023-08-11T16:44:46.104924Z",
     "start_time": "2023-08-11T16:44:46.085060Z"
    }
   },
   "source": [
    "# Initial"
   ]
  },
  {
   "cell_type": "code",
   "execution_count": 4,
   "id": "1aced6df",
   "metadata": {
    "ExecuteTime": {
     "end_time": "2023-09-25T05:47:14.029349Z",
     "start_time": "2023-09-25T05:47:14.025842Z"
    }
   },
   "outputs": [],
   "source": [
    "phantom = lpphapia.Phantom()"
   ]
  },
  {
   "cell_type": "markdown",
   "id": "010770c2",
   "metadata": {},
   "source": [
    "# Input"
   ]
  },
  {
   "cell_type": "code",
   "execution_count": 5,
   "id": "33940314",
   "metadata": {
    "ExecuteTime": {
     "end_time": "2023-09-25T05:47:15.009992Z",
     "start_time": "2023-09-25T05:47:15.007187Z"
    }
   },
   "outputs": [],
   "source": [
    "# (INPUT)Set the search name, it will also be the folder name, \n",
    "# or set it as '' to create files in your Google Drive root folder.\n",
    "search_name = \"sn_search5_test\""
   ]
  },
  {
   "cell_type": "code",
   "execution_count": 6,
   "id": "4d6ce844",
   "metadata": {
    "ExecuteTime": {
     "end_time": "2023-09-25T05:47:15.265310Z",
     "start_time": "2023-09-25T05:47:15.261772Z"
    }
   },
   "outputs": [],
   "source": [
    "# (INPUT)Set the parent folder: your new folder will be created in this folder.\n",
    "# \"1dQ9e-bNKkXwNvobQyRFbPwgEh1-VSf4R\" is linkedin_data folder id.\n",
    "# In the URL address: https://drive.google.com/drive/u/0/folders/1dQ9e-bNKkXwNvobQyRFbPwgEh1-VSf4R\n",
    "# 1dQ9e-bNKkXwNvobQyRFbPwgEh1-VSf4R is folder id.\n",
    "parent_folder_id = \"1dQ9e-bNKkXwNvobQyRFbPwgEh1-VSf4R\""
   ]
  },
  {
   "cell_type": "code",
   "execution_count": 7,
   "id": "a0c3a91e",
   "metadata": {
    "ExecuteTime": {
     "end_time": "2023-09-25T05:47:15.609925Z",
     "start_time": "2023-09-25T05:47:15.605981Z"
    }
   },
   "outputs": [],
   "source": [
    "# Set gsheets name.\n",
    "gsheets_name = [\n",
    "    f\"{search_name}.step1.search_export\",\n",
    "    f\"{search_name}.step2.search_export_filtered\",\n",
    "    f\"{search_name}.step3.profile_export\",\n",
    "    f\"{search_name}.step3.search_export_filtered\",\n",
    "]"
   ]
  },
  {
   "cell_type": "code",
   "execution_count": 8,
   "id": "1cb9685a",
   "metadata": {
    "ExecuteTime": {
     "end_time": "2023-09-25T05:47:16.888995Z",
     "start_time": "2023-09-25T05:47:16.298346Z"
    },
    "scrolled": false
   },
   "outputs": [
    {
     "data": {
      "text/html": [
       "<div>\n",
       "<style scoped>\n",
       "    .dataframe tbody tr th:only-of-type {\n",
       "        vertical-align: middle;\n",
       "    }\n",
       "\n",
       "    .dataframe tbody tr th {\n",
       "        vertical-align: top;\n",
       "    }\n",
       "\n",
       "    .dataframe thead th {\n",
       "        text-align: right;\n",
       "    }\n",
       "</style>\n",
       "<table border=\"1\" class=\"dataframe\">\n",
       "  <thead>\n",
       "    <tr style=\"text-align: right;\">\n",
       "      <th></th>\n",
       "      <th>id</th>\n",
       "      <th>name</th>\n",
       "      <th>scriptId</th>\n",
       "      <th>lastEndMessage</th>\n",
       "      <th>lastEndStatus</th>\n",
       "      <th>queuedContainers</th>\n",
       "      <th>runningContainers</th>\n",
       "    </tr>\n",
       "  </thead>\n",
       "  <tbody>\n",
       "    <tr>\n",
       "      <th>0</th>\n",
       "      <td>4074665361228041</td>\n",
       "      <td>Yiyun Emails Sales Navigator Profile Scraper</td>\n",
       "      <td>11108</td>\n",
       "      <td></td>\n",
       "      <td>success</td>\n",
       "      <td>0</td>\n",
       "      <td>0</td>\n",
       "    </tr>\n",
       "    <tr>\n",
       "      <th>1</th>\n",
       "      <td>2862499141527492</td>\n",
       "      <td>Yiyun Search5 Sales Navigator Search Export</td>\n",
       "      <td>6988</td>\n",
       "      <td></td>\n",
       "      <td>success</td>\n",
       "      <td>0</td>\n",
       "      <td>0</td>\n",
       "    </tr>\n",
       "    <tr>\n",
       "      <th>2</th>\n",
       "      <td>6986446216685907</td>\n",
       "      <td>Yiyun emails LinkedIn Profile Scraper</td>\n",
       "      <td>3112</td>\n",
       "      <td></td>\n",
       "      <td>success</td>\n",
       "      <td>0</td>\n",
       "      <td>0</td>\n",
       "    </tr>\n",
       "    <tr>\n",
       "      <th>3</th>\n",
       "      <td>3593602419926765</td>\n",
       "      <td>Yiyun LinkedIn Profile Scraper</td>\n",
       "      <td>3112</td>\n",
       "      <td></td>\n",
       "      <td>success</td>\n",
       "      <td>0</td>\n",
       "      <td>0</td>\n",
       "    </tr>\n",
       "    <tr>\n",
       "      <th>4</th>\n",
       "      <td>3933308360008191</td>\n",
       "      <td>GP LinkedIn Profile Scraper</td>\n",
       "      <td>3112</td>\n",
       "      <td></td>\n",
       "      <td>success</td>\n",
       "      <td>0</td>\n",
       "      <td>0</td>\n",
       "    </tr>\n",
       "  </tbody>\n",
       "</table>\n",
       "</div>"
      ],
      "text/plain": [
       "                 id                                          name  scriptId  \\\n",
       "0  4074665361228041  Yiyun Emails Sales Navigator Profile Scraper     11108   \n",
       "1  2862499141527492   Yiyun Search5 Sales Navigator Search Export      6988   \n",
       "2  6986446216685907         Yiyun emails LinkedIn Profile Scraper      3112   \n",
       "3  3593602419926765                Yiyun LinkedIn Profile Scraper      3112   \n",
       "4  3933308360008191                   GP LinkedIn Profile Scraper      3112   \n",
       "\n",
       "  lastEndMessage lastEndStatus  queuedContainers  runningContainers  \n",
       "0                      success                 0                  0  \n",
       "1                      success                 0                  0  \n",
       "2                      success                 0                  0  \n",
       "3                      success                 0                  0  \n",
       "4                      success                 0                  0  "
      ]
     },
     "execution_count": 8,
     "metadata": {},
     "output_type": "execute_result"
    }
   ],
   "source": [
    "# Get all phantoms and their phantom id.\n",
    "phantom.get_all_phantoms()"
   ]
  },
  {
   "cell_type": "code",
   "execution_count": 9,
   "id": "ea8a3ea9",
   "metadata": {
    "ExecuteTime": {
     "end_time": "2023-09-25T05:47:16.897454Z",
     "start_time": "2023-09-25T05:47:16.891973Z"
    }
   },
   "outputs": [],
   "source": [
    "# (INPUT) Set the phantom IDs (Choose ID from the above table).\n",
    "search_phantom_id = \"2862499141527492\"\n",
    "profile_phantom_id = \"3593602419926765\""
   ]
  },
  {
   "cell_type": "code",
   "execution_count": 10,
   "id": "ce3ebc73",
   "metadata": {
    "ExecuteTime": {
     "end_time": "2023-09-25T05:47:17.652306Z",
     "start_time": "2023-09-25T05:47:17.648580Z"
    }
   },
   "outputs": [],
   "source": [
    "# Path to save result csv.\n",
    "result_dir = \"../result_csv/\"\n",
    "search_result_csv_path = result_dir + f\"{search_name}_search_result.csv\"\n",
    "profile_result_csv_path = result_dir + f\"{search_name}_profile_result.csv\""
   ]
  },
  {
   "cell_type": "markdown",
   "id": "3d8751c9",
   "metadata": {
    "ExecuteTime": {
     "end_time": "2023-08-08T18:00:43.777325Z",
     "start_time": "2023-08-08T18:00:43.757044Z"
    }
   },
   "source": [
    "# Create the empty Google Drive folder and Google sheets"
   ]
  },
  {
   "cell_type": "code",
   "execution_count": 11,
   "id": "7d9fa049",
   "metadata": {
    "ExecuteTime": {
     "end_time": "2023-09-25T05:47:20.115298Z",
     "start_time": "2023-09-25T05:47:18.492268Z"
    }
   },
   "outputs": [
    {
     "name": "stdout",
     "output_type": "stream",
     "text": [
      "INFO  /app/helpers/.google_credentials/client_secrets.json\n",
      "INFO  Created a new Google Drive folder 'sn_search5_test'.\n",
      "INFO  The new folder id is '1Juy0L6ZdD0uXmY8Dmf6HkICHeAifD2Ep'.\n"
     ]
    }
   ],
   "source": [
    "# Create a folder with search_name in the dir parent folder.\n",
    "current_folder_id = hgofiapi.create_google_drive_folder(search_name, parent_folder_id)"
   ]
  },
  {
   "cell_type": "code",
   "execution_count": 12,
   "id": "7a276d02",
   "metadata": {
    "ExecuteTime": {
     "end_time": "2023-09-25T05:47:38.683914Z",
     "start_time": "2023-09-25T05:47:23.242953Z"
    }
   },
   "outputs": [
    {
     "name": "stdout",
     "output_type": "stream",
     "text": [
      "INFO  Created a new Google sheet 'sn_search5_test.step1.search_export'.\n",
      "INFO  Created a new Google sheet 'sn_search5_test.step2.search_export_filtered'.\n",
      "INFO  Created a new Google sheet 'sn_search5_test.step3.profile_export'.\n",
      "INFO  Created a new Google sheet 'sn_search5_test.step3.search_export_filtered'.\n"
     ]
    }
   ],
   "source": [
    "# Create empty gsheets in the new created folder.\n",
    "for gsheet_name in gsheets_name:\n",
    "    hgofiapi.create_empty_google_file(\n",
    "        gfile_type = \"sheet\",\n",
    "        gfile_name = gsheet_name,\n",
    "        gdrive_folder_id = current_folder_id,\n",
    "        user = \"\"\n",
    "    )"
   ]
  },
  {
   "cell_type": "markdown",
   "id": "d53a1e57",
   "metadata": {},
   "source": [
    "# Download result CSVs to local storage"
   ]
  },
  {
   "cell_type": "code",
   "execution_count": 13,
   "id": "186f38da",
   "metadata": {
    "ExecuteTime": {
     "end_time": "2023-09-25T05:47:41.204422Z",
     "start_time": "2023-09-25T05:47:39.270577Z"
    },
    "scrolled": true
   },
   "outputs": [
    {
     "name": "stdout",
     "output_type": "stream",
     "text": [
      "INFO  Result CSV URL: https://phantombuster.s3.amazonaws.com/jqWbRHyznhM/pyjlATELCNt5qJDusZToQg/result.csv\n",
      "INFO  Result CSV saved to ../result_csv/sn_search5_test_search_result.csv\n"
     ]
    }
   ],
   "source": [
    "# Download search result csv.\n",
    "phantom.download_result_csv_by_phantom_id(search_phantom_id, search_result_csv_path)"
   ]
  },
  {
   "cell_type": "code",
   "execution_count": 14,
   "id": "d26c66a3",
   "metadata": {
    "ExecuteTime": {
     "end_time": "2023-09-25T05:47:44.346282Z",
     "start_time": "2023-09-25T05:47:42.281440Z"
    }
   },
   "outputs": [
    {
     "name": "stdout",
     "output_type": "stream",
     "text": [
      "INFO  Result CSV URL: https://phantombuster.s3.amazonaws.com/jqWbRHyznhM/EAS5IvYVZQiP2OFtv7KqjQ/result.csv\n",
      "INFO  Result CSV saved to ../result_csv/sn_search5_test_profile_result.csv\n"
     ]
    }
   ],
   "source": [
    "# Download profile result csv.\n",
    "phantom.download_result_csv_by_phantom_id(profile_phantom_id, profile_result_csv_path)"
   ]
  },
  {
   "cell_type": "markdown",
   "id": "b8eda769",
   "metadata": {},
   "source": [
    "# Upload result CSVs to Google sheets"
   ]
  },
  {
   "cell_type": "code",
   "execution_count": 15,
   "id": "8c26801d",
   "metadata": {
    "ExecuteTime": {
     "end_time": "2023-09-25T05:47:46.040128Z",
     "start_time": "2023-09-25T05:47:46.005500Z"
    }
   },
   "outputs": [],
   "source": [
    "import gspread_pandas\n",
    "import pandas as pd"
   ]
  },
  {
   "cell_type": "code",
   "execution_count": 16,
   "id": "4c08ccf6",
   "metadata": {
    "ExecuteTime": {
     "end_time": "2023-09-25T05:47:46.555155Z",
     "start_time": "2023-09-25T05:47:46.526547Z"
    },
    "scrolled": true
   },
   "outputs": [],
   "source": [
    "search_export_df = pd.read_csv(search_result_csv_path)\n",
    "profile_export_df = pd.read_csv(profile_result_csv_path)"
   ]
  },
  {
   "cell_type": "code",
   "execution_count": 17,
   "id": "5a9a746f",
   "metadata": {
    "ExecuteTime": {
     "end_time": "2023-09-25T05:47:47.056546Z",
     "start_time": "2023-09-25T05:47:47.039603Z"
    },
    "scrolled": true
   },
   "outputs": [
    {
     "data": {
      "text/html": [
       "<div>\n",
       "<style scoped>\n",
       "    .dataframe tbody tr th:only-of-type {\n",
       "        vertical-align: middle;\n",
       "    }\n",
       "\n",
       "    .dataframe tbody tr th {\n",
       "        vertical-align: top;\n",
       "    }\n",
       "\n",
       "    .dataframe thead th {\n",
       "        text-align: right;\n",
       "    }\n",
       "</style>\n",
       "<table border=\"1\" class=\"dataframe\">\n",
       "  <thead>\n",
       "    <tr style=\"text-align: right;\">\n",
       "      <th></th>\n",
       "      <th>query</th>\n",
       "      <th>timestamp</th>\n",
       "      <th>error</th>\n",
       "      <th>profileUrl</th>\n",
       "      <th>fullName</th>\n",
       "      <th>firstName</th>\n",
       "      <th>lastName</th>\n",
       "      <th>companyName</th>\n",
       "      <th>title</th>\n",
       "      <th>companyId</th>\n",
       "      <th>...</th>\n",
       "      <th>vmid</th>\n",
       "      <th>linkedInProfileUrl</th>\n",
       "      <th>isPremium</th>\n",
       "      <th>isOpenLink</th>\n",
       "      <th>titleDescription</th>\n",
       "      <th>pastExperienceCompanyName</th>\n",
       "      <th>pastExperienceCompanyUrl</th>\n",
       "      <th>pastExperienceCompanyTitle</th>\n",
       "      <th>pastExperienceDate</th>\n",
       "      <th>pastExperienceDuration</th>\n",
       "    </tr>\n",
       "  </thead>\n",
       "  <tbody>\n",
       "    <tr>\n",
       "      <th>0</th>\n",
       "      <td>Search5 SN</td>\n",
       "      <td>2023-07-19T18:00:39.744Z</td>\n",
       "      <td>No result found</td>\n",
       "      <td>NaN</td>\n",
       "      <td>NaN</td>\n",
       "      <td>NaN</td>\n",
       "      <td>NaN</td>\n",
       "      <td>NaN</td>\n",
       "      <td>NaN</td>\n",
       "      <td>NaN</td>\n",
       "      <td>...</td>\n",
       "      <td>NaN</td>\n",
       "      <td>NaN</td>\n",
       "      <td>NaN</td>\n",
       "      <td>NaN</td>\n",
       "      <td>NaN</td>\n",
       "      <td>NaN</td>\n",
       "      <td>NaN</td>\n",
       "      <td>NaN</td>\n",
       "      <td>NaN</td>\n",
       "      <td>NaN</td>\n",
       "    </tr>\n",
       "    <tr>\n",
       "      <th>1</th>\n",
       "      <td>https://www.linkedin.com/sales/search/people?s...</td>\n",
       "      <td>2023-07-19T18:02:26.834Z</td>\n",
       "      <td>NaN</td>\n",
       "      <td>https://www.linkedin.com/sales/lead/ACwAABgNPU...</td>\n",
       "      <td>Dr. Edgar Noumair</td>\n",
       "      <td>Dr. Edgar</td>\n",
       "      <td>Noumair</td>\n",
       "      <td>Talal and Madiha Zein AUB Innovation Park</td>\n",
       "      <td>Mentor</td>\n",
       "      <td>71418447.0</td>\n",
       "      <td>...</td>\n",
       "      <td>ACwAABgNPUkBxBAF3JxK0VPQmHkYRnrxXzAiHjY</td>\n",
       "      <td>https://www.linkedin.com/in/ACwAABgNPUkBxBAF3J...</td>\n",
       "      <td>False</td>\n",
       "      <td>False</td>\n",
       "      <td>NaN</td>\n",
       "      <td>NaN</td>\n",
       "      <td>NaN</td>\n",
       "      <td>NaN</td>\n",
       "      <td>NaN</td>\n",
       "      <td>NaN</td>\n",
       "    </tr>\n",
       "    <tr>\n",
       "      <th>2</th>\n",
       "      <td>https://www.linkedin.com/sales/search/people?s...</td>\n",
       "      <td>2023-07-19T18:02:26.834Z</td>\n",
       "      <td>NaN</td>\n",
       "      <td>https://www.linkedin.com/sales/lead/ACwAAAHVj4...</td>\n",
       "      <td>Maureen Cusick Thomas</td>\n",
       "      <td>Maureen</td>\n",
       "      <td>Cusick Thomas</td>\n",
       "      <td>Bethesda Green</td>\n",
       "      <td>Innovation Lab Mentor</td>\n",
       "      <td>9287319.0</td>\n",
       "      <td>...</td>\n",
       "      <td>ACwAAAHVj44Brlumxgp-o7YP0oARKp_kKER4e6k</td>\n",
       "      <td>https://www.linkedin.com/in/ACwAAAHVj44Brlumxg...</td>\n",
       "      <td>True</td>\n",
       "      <td>True</td>\n",
       "      <td>The Innovation Lab Mentor Program is designed ...</td>\n",
       "      <td>NaN</td>\n",
       "      <td>NaN</td>\n",
       "      <td>NaN</td>\n",
       "      <td>NaN</td>\n",
       "      <td>NaN</td>\n",
       "    </tr>\n",
       "    <tr>\n",
       "      <th>3</th>\n",
       "      <td>https://www.linkedin.com/sales/search/people?s...</td>\n",
       "      <td>2023-07-19T18:02:26.835Z</td>\n",
       "      <td>NaN</td>\n",
       "      <td>https://www.linkedin.com/sales/lead/ACwAAAE1Yq...</td>\n",
       "      <td>Neil Davis</td>\n",
       "      <td>Neil</td>\n",
       "      <td>Davis</td>\n",
       "      <td>Innovation Works</td>\n",
       "      <td>Business Mentor</td>\n",
       "      <td>11787752.0</td>\n",
       "      <td>...</td>\n",
       "      <td>ACwAAAE1YqQBZoy53iiEXT0Ol-GrNh_0U0dhvqM</td>\n",
       "      <td>https://www.linkedin.com/in/ACwAAAE1YqQBZoy53i...</td>\n",
       "      <td>False</td>\n",
       "      <td>False</td>\n",
       "      <td>Innovation Works aims to reduce Baltimore’s ne...</td>\n",
       "      <td>NaN</td>\n",
       "      <td>NaN</td>\n",
       "      <td>NaN</td>\n",
       "      <td>NaN</td>\n",
       "      <td>NaN</td>\n",
       "    </tr>\n",
       "    <tr>\n",
       "      <th>4</th>\n",
       "      <td>https://www.linkedin.com/sales/search/people?s...</td>\n",
       "      <td>2023-07-19T18:02:26.835Z</td>\n",
       "      <td>NaN</td>\n",
       "      <td>https://www.linkedin.com/sales/lead/ACwAAACRHS...</td>\n",
       "      <td>Michael Hess</td>\n",
       "      <td>Michael</td>\n",
       "      <td>Hess</td>\n",
       "      <td>ABS Advisory Services Group, Inc.</td>\n",
       "      <td>Chairman/CEO</td>\n",
       "      <td>NaN</td>\n",
       "      <td>...</td>\n",
       "      <td>ACwAAACRHSQB6TCtuIxEce2hAb9lV3NM_GzNPc8</td>\n",
       "      <td>https://www.linkedin.com/in/ACwAAACRHSQB6TCtuI...</td>\n",
       "      <td>False</td>\n",
       "      <td>False</td>\n",
       "      <td>Manage mergers &amp; acquisitions, corporate and r...</td>\n",
       "      <td>NaN</td>\n",
       "      <td>NaN</td>\n",
       "      <td>NaN</td>\n",
       "      <td>NaN</td>\n",
       "      <td>NaN</td>\n",
       "    </tr>\n",
       "  </tbody>\n",
       "</table>\n",
       "<p>5 rows × 32 columns</p>\n",
       "</div>"
      ],
      "text/plain": [
       "                                               query  \\\n",
       "0                                         Search5 SN   \n",
       "1  https://www.linkedin.com/sales/search/people?s...   \n",
       "2  https://www.linkedin.com/sales/search/people?s...   \n",
       "3  https://www.linkedin.com/sales/search/people?s...   \n",
       "4  https://www.linkedin.com/sales/search/people?s...   \n",
       "\n",
       "                  timestamp            error  \\\n",
       "0  2023-07-19T18:00:39.744Z  No result found   \n",
       "1  2023-07-19T18:02:26.834Z              NaN   \n",
       "2  2023-07-19T18:02:26.834Z              NaN   \n",
       "3  2023-07-19T18:02:26.835Z              NaN   \n",
       "4  2023-07-19T18:02:26.835Z              NaN   \n",
       "\n",
       "                                          profileUrl               fullName  \\\n",
       "0                                                NaN                    NaN   \n",
       "1  https://www.linkedin.com/sales/lead/ACwAABgNPU...      Dr. Edgar Noumair   \n",
       "2  https://www.linkedin.com/sales/lead/ACwAAAHVj4...  Maureen Cusick Thomas   \n",
       "3  https://www.linkedin.com/sales/lead/ACwAAAE1Yq...             Neil Davis   \n",
       "4  https://www.linkedin.com/sales/lead/ACwAAACRHS...           Michael Hess   \n",
       "\n",
       "   firstName       lastName                                companyName  \\\n",
       "0        NaN            NaN                                        NaN   \n",
       "1  Dr. Edgar        Noumair  Talal and Madiha Zein AUB Innovation Park   \n",
       "2    Maureen  Cusick Thomas                             Bethesda Green   \n",
       "3       Neil          Davis                           Innovation Works   \n",
       "4    Michael           Hess          ABS Advisory Services Group, Inc.   \n",
       "\n",
       "                   title   companyId  ...  \\\n",
       "0                    NaN         NaN  ...   \n",
       "1                 Mentor  71418447.0  ...   \n",
       "2  Innovation Lab Mentor   9287319.0  ...   \n",
       "3        Business Mentor  11787752.0  ...   \n",
       "4           Chairman/CEO         NaN  ...   \n",
       "\n",
       "                                      vmid  \\\n",
       "0                                      NaN   \n",
       "1  ACwAABgNPUkBxBAF3JxK0VPQmHkYRnrxXzAiHjY   \n",
       "2  ACwAAAHVj44Brlumxgp-o7YP0oARKp_kKER4e6k   \n",
       "3  ACwAAAE1YqQBZoy53iiEXT0Ol-GrNh_0U0dhvqM   \n",
       "4  ACwAAACRHSQB6TCtuIxEce2hAb9lV3NM_GzNPc8   \n",
       "\n",
       "                                  linkedInProfileUrl isPremium isOpenLink  \\\n",
       "0                                                NaN       NaN        NaN   \n",
       "1  https://www.linkedin.com/in/ACwAABgNPUkBxBAF3J...     False      False   \n",
       "2  https://www.linkedin.com/in/ACwAAAHVj44Brlumxg...      True       True   \n",
       "3  https://www.linkedin.com/in/ACwAAAE1YqQBZoy53i...     False      False   \n",
       "4  https://www.linkedin.com/in/ACwAAACRHSQB6TCtuI...     False      False   \n",
       "\n",
       "                                    titleDescription  \\\n",
       "0                                                NaN   \n",
       "1                                                NaN   \n",
       "2  The Innovation Lab Mentor Program is designed ...   \n",
       "3  Innovation Works aims to reduce Baltimore’s ne...   \n",
       "4  Manage mergers & acquisitions, corporate and r...   \n",
       "\n",
       "  pastExperienceCompanyName pastExperienceCompanyUrl  \\\n",
       "0                       NaN                      NaN   \n",
       "1                       NaN                      NaN   \n",
       "2                       NaN                      NaN   \n",
       "3                       NaN                      NaN   \n",
       "4                       NaN                      NaN   \n",
       "\n",
       "  pastExperienceCompanyTitle pastExperienceDate pastExperienceDuration  \n",
       "0                        NaN                NaN                    NaN  \n",
       "1                        NaN                NaN                    NaN  \n",
       "2                        NaN                NaN                    NaN  \n",
       "3                        NaN                NaN                    NaN  \n",
       "4                        NaN                NaN                    NaN  \n",
       "\n",
       "[5 rows x 32 columns]"
      ]
     },
     "execution_count": 17,
     "metadata": {},
     "output_type": "execute_result"
    }
   ],
   "source": [
    "search_export_df.head()"
   ]
  },
  {
   "cell_type": "code",
   "execution_count": 18,
   "id": "e2a56c4f",
   "metadata": {
    "ExecuteTime": {
     "end_time": "2023-09-25T05:47:47.694880Z",
     "start_time": "2023-09-25T05:47:47.677203Z"
    }
   },
   "outputs": [
    {
     "data": {
      "text/html": [
       "<div>\n",
       "<style scoped>\n",
       "    .dataframe tbody tr th:only-of-type {\n",
       "        vertical-align: middle;\n",
       "    }\n",
       "\n",
       "    .dataframe tbody tr th {\n",
       "        vertical-align: top;\n",
       "    }\n",
       "\n",
       "    .dataframe thead th {\n",
       "        text-align: right;\n",
       "    }\n",
       "</style>\n",
       "<table border=\"1\" class=\"dataframe\">\n",
       "  <thead>\n",
       "    <tr style=\"text-align: right;\">\n",
       "      <th></th>\n",
       "      <th>error</th>\n",
       "      <th>baseUrl</th>\n",
       "      <th>timestamp</th>\n",
       "      <th>linkedinProfileUrl</th>\n",
       "      <th>email</th>\n",
       "      <th>linkedinProfile</th>\n",
       "      <th>description</th>\n",
       "      <th>headline</th>\n",
       "      <th>location</th>\n",
       "      <th>imgUrl</th>\n",
       "      <th>...</th>\n",
       "      <th>mail</th>\n",
       "      <th>companyUrl</th>\n",
       "      <th>companyUrl2</th>\n",
       "      <th>schoolUrl2</th>\n",
       "      <th>website</th>\n",
       "      <th>schoolDateRange</th>\n",
       "      <th>schoolDateRange2</th>\n",
       "      <th>birthday</th>\n",
       "      <th>facebookUrl</th>\n",
       "      <th>connectedOn</th>\n",
       "    </tr>\n",
       "  </thead>\n",
       "  <tbody>\n",
       "    <tr>\n",
       "      <th>0</th>\n",
       "      <td>Not a LinkedIn Profile URL</td>\n",
       "      <td>profileUrl</td>\n",
       "      <td>2023-07-19T19:21:54.310Z</td>\n",
       "      <td>NaN</td>\n",
       "      <td>NaN</td>\n",
       "      <td>NaN</td>\n",
       "      <td>NaN</td>\n",
       "      <td>NaN</td>\n",
       "      <td>NaN</td>\n",
       "      <td>NaN</td>\n",
       "      <td>...</td>\n",
       "      <td>NaN</td>\n",
       "      <td>NaN</td>\n",
       "      <td>NaN</td>\n",
       "      <td>NaN</td>\n",
       "      <td>NaN</td>\n",
       "      <td>NaN</td>\n",
       "      <td>NaN</td>\n",
       "      <td>NaN</td>\n",
       "      <td>NaN</td>\n",
       "      <td>NaN</td>\n",
       "    </tr>\n",
       "    <tr>\n",
       "      <th>1</th>\n",
       "      <td>NaN</td>\n",
       "      <td>https://www.linkedin.com/sales/lead/ACwAAAHVj4...</td>\n",
       "      <td>2023-07-19T19:22:11.128Z</td>\n",
       "      <td>https://www.linkedin.com/in/maureenbcthomas/</td>\n",
       "      <td>NaN</td>\n",
       "      <td>https://www.linkedin.com/in/maureenbcthomas/</td>\n",
       "      <td>A visionary strategist, entrepreneur and innov...</td>\n",
       "      <td>Stakeholder Engagement I Innovative Coalition ...</td>\n",
       "      <td>Washington DC-Baltimore Area</td>\n",
       "      <td>https://media.licdn.com/dms/image/C5603AQGVCII...</td>\n",
       "      <td>...</td>\n",
       "      <td>NaN</td>\n",
       "      <td>NaN</td>\n",
       "      <td>NaN</td>\n",
       "      <td>NaN</td>\n",
       "      <td>NaN</td>\n",
       "      <td>NaN</td>\n",
       "      <td>NaN</td>\n",
       "      <td>NaN</td>\n",
       "      <td>NaN</td>\n",
       "      <td>NaN</td>\n",
       "    </tr>\n",
       "    <tr>\n",
       "      <th>2</th>\n",
       "      <td>NaN</td>\n",
       "      <td>https://www.linkedin.com/sales/lead/ACwAABgNPU...</td>\n",
       "      <td>2023-07-19T19:22:32.106Z</td>\n",
       "      <td>https://www.linkedin.com/in/edgarnoumair/</td>\n",
       "      <td>ednoumair@hotmail.com</td>\n",
       "      <td>https://www.linkedin.com/in/edgarnoumair/</td>\n",
       "      <td>I Advise &amp; Lead Boards &amp; Organizations on Acti...</td>\n",
       "      <td>Data Scientist / Entrepreneur / Author / Artis...</td>\n",
       "      <td>Washington DC-Baltimore Area</td>\n",
       "      <td>https://media.licdn.com/dms/image/C5603AQFNGxE...</td>\n",
       "      <td>...</td>\n",
       "      <td>ednoumair@hotmail.com</td>\n",
       "      <td>https://www.linkedin.com/company/10522559/</td>\n",
       "      <td>https://www.linkedin.com/company/4794/</td>\n",
       "      <td>https://www.linkedin.com/company/3165/</td>\n",
       "      <td>gnoci.com</td>\n",
       "      <td>NaN</td>\n",
       "      <td>NaN</td>\n",
       "      <td>NaN</td>\n",
       "      <td>NaN</td>\n",
       "      <td>NaN</td>\n",
       "    </tr>\n",
       "    <tr>\n",
       "      <th>3</th>\n",
       "      <td>NaN</td>\n",
       "      <td>https://www.linkedin.com/sales/lead/ACwAAAE1Yq...</td>\n",
       "      <td>2023-07-19T19:22:51.105Z</td>\n",
       "      <td>https://www.linkedin.com/in/nrdavis/</td>\n",
       "      <td>NaN</td>\n",
       "      <td>https://www.linkedin.com/in/nrdavis/</td>\n",
       "      <td>NaN</td>\n",
       "      <td>Assisting Maryland's startup companies and ent...</td>\n",
       "      <td>Towson, Maryland, United States</td>\n",
       "      <td>https://media.licdn.com/dms/image/D5603AQGPI--...</td>\n",
       "      <td>...</td>\n",
       "      <td>NaN</td>\n",
       "      <td>https://www.linkedin.com/company/5337426/</td>\n",
       "      <td>https://www.linkedin.com/company/1734721/</td>\n",
       "      <td>https://www.linkedin.com/company/19308/</td>\n",
       "      <td>NaN</td>\n",
       "      <td>1979 - 1982</td>\n",
       "      <td>1971 - 1975</td>\n",
       "      <td>NaN</td>\n",
       "      <td>NaN</td>\n",
       "      <td>NaN</td>\n",
       "    </tr>\n",
       "    <tr>\n",
       "      <th>4</th>\n",
       "      <td>NaN</td>\n",
       "      <td>https://www.linkedin.com/sales/lead/ACwAAACRHS...</td>\n",
       "      <td>2023-07-19T19:23:08.967Z</td>\n",
       "      <td>https://www.linkedin.com/in/discoveringmind/</td>\n",
       "      <td>NaN</td>\n",
       "      <td>https://www.linkedin.com/in/discoveringmind/</td>\n",
       "      <td>I help corporate and real estate teams plan an...</td>\n",
       "      <td>Finance/M&amp;A Entrepreneur, Director &amp; Advisor. ...</td>\n",
       "      <td>Annapolis, Maryland, United States</td>\n",
       "      <td>https://media.licdn.com/dms/image/C4D03AQF-DLN...</td>\n",
       "      <td>...</td>\n",
       "      <td>NaN</td>\n",
       "      <td>NaN</td>\n",
       "      <td>https://www.linkedin.com/company/59839/</td>\n",
       "      <td>https://www.linkedin.com/company/4477/</td>\n",
       "      <td>NaN</td>\n",
       "      <td>1986 - 1988</td>\n",
       "      <td>Jul 2021 - Aug 2021</td>\n",
       "      <td>NaN</td>\n",
       "      <td>NaN</td>\n",
       "      <td>NaN</td>\n",
       "    </tr>\n",
       "  </tbody>\n",
       "</table>\n",
       "<p>5 rows × 67 columns</p>\n",
       "</div>"
      ],
      "text/plain": [
       "                        error  \\\n",
       "0  Not a LinkedIn Profile URL   \n",
       "1                         NaN   \n",
       "2                         NaN   \n",
       "3                         NaN   \n",
       "4                         NaN   \n",
       "\n",
       "                                             baseUrl  \\\n",
       "0                                         profileUrl   \n",
       "1  https://www.linkedin.com/sales/lead/ACwAAAHVj4...   \n",
       "2  https://www.linkedin.com/sales/lead/ACwAABgNPU...   \n",
       "3  https://www.linkedin.com/sales/lead/ACwAAAE1Yq...   \n",
       "4  https://www.linkedin.com/sales/lead/ACwAAACRHS...   \n",
       "\n",
       "                  timestamp                            linkedinProfileUrl  \\\n",
       "0  2023-07-19T19:21:54.310Z                                           NaN   \n",
       "1  2023-07-19T19:22:11.128Z  https://www.linkedin.com/in/maureenbcthomas/   \n",
       "2  2023-07-19T19:22:32.106Z     https://www.linkedin.com/in/edgarnoumair/   \n",
       "3  2023-07-19T19:22:51.105Z          https://www.linkedin.com/in/nrdavis/   \n",
       "4  2023-07-19T19:23:08.967Z  https://www.linkedin.com/in/discoveringmind/   \n",
       "\n",
       "                   email                               linkedinProfile  \\\n",
       "0                    NaN                                           NaN   \n",
       "1                    NaN  https://www.linkedin.com/in/maureenbcthomas/   \n",
       "2  ednoumair@hotmail.com     https://www.linkedin.com/in/edgarnoumair/   \n",
       "3                    NaN          https://www.linkedin.com/in/nrdavis/   \n",
       "4                    NaN  https://www.linkedin.com/in/discoveringmind/   \n",
       "\n",
       "                                         description  \\\n",
       "0                                                NaN   \n",
       "1  A visionary strategist, entrepreneur and innov...   \n",
       "2  I Advise & Lead Boards & Organizations on Acti...   \n",
       "3                                                NaN   \n",
       "4  I help corporate and real estate teams plan an...   \n",
       "\n",
       "                                            headline  \\\n",
       "0                                                NaN   \n",
       "1  Stakeholder Engagement I Innovative Coalition ...   \n",
       "2  Data Scientist / Entrepreneur / Author / Artis...   \n",
       "3  Assisting Maryland's startup companies and ent...   \n",
       "4  Finance/M&A Entrepreneur, Director & Advisor. ...   \n",
       "\n",
       "                             location  \\\n",
       "0                                 NaN   \n",
       "1        Washington DC-Baltimore Area   \n",
       "2        Washington DC-Baltimore Area   \n",
       "3     Towson, Maryland, United States   \n",
       "4  Annapolis, Maryland, United States   \n",
       "\n",
       "                                              imgUrl  ...  \\\n",
       "0                                                NaN  ...   \n",
       "1  https://media.licdn.com/dms/image/C5603AQGVCII...  ...   \n",
       "2  https://media.licdn.com/dms/image/C5603AQFNGxE...  ...   \n",
       "3  https://media.licdn.com/dms/image/D5603AQGPI--...  ...   \n",
       "4  https://media.licdn.com/dms/image/C4D03AQF-DLN...  ...   \n",
       "\n",
       "                    mail                                  companyUrl  \\\n",
       "0                    NaN                                         NaN   \n",
       "1                    NaN                                         NaN   \n",
       "2  ednoumair@hotmail.com  https://www.linkedin.com/company/10522559/   \n",
       "3                    NaN   https://www.linkedin.com/company/5337426/   \n",
       "4                    NaN                                         NaN   \n",
       "\n",
       "                                 companyUrl2  \\\n",
       "0                                        NaN   \n",
       "1                                        NaN   \n",
       "2     https://www.linkedin.com/company/4794/   \n",
       "3  https://www.linkedin.com/company/1734721/   \n",
       "4    https://www.linkedin.com/company/59839/   \n",
       "\n",
       "                                schoolUrl2    website schoolDateRange  \\\n",
       "0                                      NaN        NaN             NaN   \n",
       "1                                      NaN        NaN             NaN   \n",
       "2   https://www.linkedin.com/company/3165/  gnoci.com             NaN   \n",
       "3  https://www.linkedin.com/company/19308/        NaN     1979 - 1982   \n",
       "4   https://www.linkedin.com/company/4477/        NaN     1986 - 1988   \n",
       "\n",
       "      schoolDateRange2 birthday  facebookUrl connectedOn  \n",
       "0                  NaN      NaN          NaN         NaN  \n",
       "1                  NaN      NaN          NaN         NaN  \n",
       "2                  NaN      NaN          NaN         NaN  \n",
       "3          1971 - 1975      NaN          NaN         NaN  \n",
       "4  Jul 2021 - Aug 2021      NaN          NaN         NaN  \n",
       "\n",
       "[5 rows x 67 columns]"
      ]
     },
     "execution_count": 18,
     "metadata": {},
     "output_type": "execute_result"
    }
   ],
   "source": [
    "profile_export_df.head()"
   ]
  },
  {
   "cell_type": "code",
   "execution_count": 19,
   "id": "2e26f2fe",
   "metadata": {
    "ExecuteTime": {
     "end_time": "2023-09-25T05:47:48.415195Z",
     "start_time": "2023-09-25T05:47:48.411061Z"
    }
   },
   "outputs": [],
   "source": [
    "def df_to_gsheet(gsheet_name: str, df: pd.DataFrame) -> None:\n",
    "    creds = hgofiapi.get_credentials()\n",
    "    gsheet = gspread_pandas.Spread(\n",
    "        gsheet_name,\n",
    "        create_sheet=True,\n",
    "        creds=creds\n",
    "    )\n",
    "    gsheet.df_to_sheet(df, index=False)\n",
    "    _LOG.info(\"Save to gsheet %s\", gsheet_name)"
   ]
  },
  {
   "cell_type": "code",
   "execution_count": 20,
   "id": "3cad95cc",
   "metadata": {
    "ExecuteTime": {
     "end_time": "2023-09-25T05:47:54.691514Z",
     "start_time": "2023-09-25T05:47:49.039584Z"
    },
    "scrolled": true
   },
   "outputs": [
    {
     "name": "stdout",
     "output_type": "stream",
     "text": [
      "INFO  Save to gsheet sn_search5_test.step1.search_export\n",
      "INFO  Save to gsheet sn_search5_test.step3.profile_export\n"
     ]
    }
   ],
   "source": [
    "df_to_gsheet(f\"{search_name}.step1.search_export\", search_export_df)\n",
    "df_to_gsheet(f\"{search_name}.step3.profile_export\", profile_export_df)"
   ]
  },
  {
   "cell_type": "markdown",
   "id": "83c9eb36",
   "metadata": {},
   "source": [
    "# Delete temp result CSVs"
   ]
  },
  {
   "cell_type": "code",
   "execution_count": 21,
   "id": "d033c71d",
   "metadata": {
    "ExecuteTime": {
     "end_time": "2023-09-25T05:47:55.609343Z",
     "start_time": "2023-09-25T05:47:55.604544Z"
    }
   },
   "outputs": [
    {
     "name": "stdout",
     "output_type": "stream",
     "text": [
      "INFO  Delete file ../result_csv/sn_search5_test_search_result.csv\n"
     ]
    }
   ],
   "source": [
    "hio.delete_file(search_result_csv_path)\n",
    "_LOG.info(\"Delete file %s\", search_result_csv_path)"
   ]
  },
  {
   "cell_type": "code",
   "execution_count": 22,
   "id": "30427972",
   "metadata": {
    "ExecuteTime": {
     "end_time": "2023-09-25T05:47:56.370512Z",
     "start_time": "2023-09-25T05:47:56.365676Z"
    }
   },
   "outputs": [
    {
     "name": "stdout",
     "output_type": "stream",
     "text": [
      "INFO  Delete file ../result_csv/sn_search5_test_profile_result.csv\n"
     ]
    }
   ],
   "source": [
    "hio.delete_file(profile_result_csv_path)\n",
    "_LOG.info(\"Delete file %s\", profile_result_csv_path)"
   ]
  },
  {
   "cell_type": "code",
   "execution_count": null,
   "id": "46beffb3",
   "metadata": {},
   "outputs": [],
   "source": []
  }
 ],
 "metadata": {
  "kernelspec": {
   "display_name": "Python 3 (ipykernel)",
   "language": "python",
   "name": "python3"
  },
  "language_info": {
   "codemirror_mode": {
    "name": "ipython",
    "version": 3
   },
   "file_extension": ".py",
   "mimetype": "text/x-python",
   "name": "python",
   "nbconvert_exporter": "python",
   "pygments_lexer": "ipython3",
   "version": "3.8.10"
  },
  "toc": {
   "base_numbering": 1,
   "nav_menu": {},
   "number_sections": true,
   "sideBar": true,
   "skip_h1_title": false,
   "title_cell": "Table of Contents",
   "title_sidebar": "Contents",
   "toc_cell": false,
   "toc_position": {},
   "toc_section_display": true,
   "toc_window_display": false
  }
 },
 "nbformat": 4,
 "nbformat_minor": 5
}
