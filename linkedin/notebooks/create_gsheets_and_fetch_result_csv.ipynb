{
 "cells": [
  {
   "cell_type": "markdown",
   "id": "46bfaaec",
   "metadata": {},
   "source": [
    "# Import"
   ]
  },
  {
   "cell_type": "code",
   "execution_count": 1,
   "id": "62ddd05a",
   "metadata": {
    "ExecuteTime": {
     "end_time": "2023-11-01T03:04:17.351831Z",
     "start_time": "2023-11-01T03:04:12.151282Z"
    }
   },
   "outputs": [
    {
     "name": "stdout",
     "output_type": "stream",
     "text": [
      "Collecting google-api-python-client\n",
      "  Downloading google_api_python_client-2.106.0-py2.py3-none-any.whl (12.6 MB)\n",
      "\u001b[K     |████████████████████████████████| 12.6 MB 6.1 MB/s eta 0:00:01     |█████████████████████████████▏  | 11.5 MB 6.1 MB/s eta 0:00:01\n",
      "\u001b[?25hCollecting httplib2<1.dev0,>=0.15.0\n",
      "  Downloading httplib2-0.22.0-py3-none-any.whl (96 kB)\n",
      "\u001b[K     |████████████████████████████████| 96 kB 3.9 MB/s  eta 0:00:01\n",
      "\u001b[?25hCollecting google-auth-httplib2>=0.1.0\n",
      "  Downloading google_auth_httplib2-0.1.1-py2.py3-none-any.whl (9.3 kB)\n",
      "Requirement already satisfied, skipping upgrade: google-auth<3.0.0.dev0,>=1.19.0 in /venv/lib/python3.9/site-packages (from google-api-python-client) (2.22.0)\n",
      "Collecting google-api-core!=2.0.*,!=2.1.*,!=2.2.*,!=2.3.0,<3.0.0.dev0,>=1.31.5\n",
      "  Downloading google_api_core-2.12.0-py3-none-any.whl (121 kB)\n",
      "\u001b[K     |████████████████████████████████| 121 kB 24.8 MB/s eta 0:00:01\n",
      "\u001b[?25hCollecting uritemplate<5,>=3.0.1\n",
      "  Downloading uritemplate-4.1.1-py2.py3-none-any.whl (10 kB)\n",
      "Requirement already satisfied, skipping upgrade: pyparsing!=3.0.0,!=3.0.1,!=3.0.2,!=3.0.3,<4,>=2.4.2; python_version > \"3.0\" in /venv/lib/python3.9/site-packages (from httplib2<1.dev0,>=0.15.0->google-api-python-client) (3.0.9)\n",
      "Requirement already satisfied, skipping upgrade: cachetools<6.0,>=2.0.0 in /venv/lib/python3.9/site-packages (from google-auth<3.0.0.dev0,>=1.19.0->google-api-python-client) (5.3.1)\n",
      "Requirement already satisfied, skipping upgrade: pyasn1-modules>=0.2.1 in /venv/lib/python3.9/site-packages (from google-auth<3.0.0.dev0,>=1.19.0->google-api-python-client) (0.3.0)\n",
      "Requirement already satisfied, skipping upgrade: rsa<5,>=3.1.4 in /venv/lib/python3.9/site-packages (from google-auth<3.0.0.dev0,>=1.19.0->google-api-python-client) (4.7.2)\n",
      "Requirement already satisfied, skipping upgrade: urllib3<2.0 in /venv/lib/python3.9/site-packages (from google-auth<3.0.0.dev0,>=1.19.0->google-api-python-client) (1.26.16)\n",
      "Requirement already satisfied, skipping upgrade: six>=1.9.0 in /venv/lib/python3.9/site-packages (from google-auth<3.0.0.dev0,>=1.19.0->google-api-python-client) (1.16.0)\n",
      "Collecting protobuf!=3.20.0,!=3.20.1,!=4.21.0,!=4.21.1,!=4.21.2,!=4.21.3,!=4.21.4,!=4.21.5,<5.0.0.dev0,>=3.19.5\n",
      "  Downloading protobuf-4.24.4-cp37-abi3-manylinux2014_x86_64.whl (311 kB)\n",
      "\u001b[K     |████████████████████████████████| 311 kB 19.5 MB/s eta 0:00:01\n",
      "\u001b[?25hCollecting googleapis-common-protos<2.0.dev0,>=1.56.2\n",
      "  Downloading googleapis_common_protos-1.61.0-py2.py3-none-any.whl (230 kB)\n",
      "\u001b[K     |████████████████████████████████| 230 kB 23.1 MB/s eta 0:00:01\n",
      "\u001b[?25hRequirement already satisfied, skipping upgrade: requests<3.0.0.dev0,>=2.18.0 in /venv/lib/python3.9/site-packages (from google-api-core!=2.0.*,!=2.1.*,!=2.2.*,!=2.3.0,<3.0.0.dev0,>=1.31.5->google-api-python-client) (2.31.0)\n",
      "Requirement already satisfied, skipping upgrade: pyasn1<0.6.0,>=0.4.6 in /venv/lib/python3.9/site-packages (from pyasn1-modules>=0.2.1->google-auth<3.0.0.dev0,>=1.19.0->google-api-python-client) (0.5.0)\n",
      "Requirement already satisfied, skipping upgrade: idna<4,>=2.5 in /venv/lib/python3.9/site-packages (from requests<3.0.0.dev0,>=2.18.0->google-api-core!=2.0.*,!=2.1.*,!=2.2.*,!=2.3.0,<3.0.0.dev0,>=1.31.5->google-api-python-client) (3.4)\n",
      "Requirement already satisfied, skipping upgrade: certifi>=2017.4.17 in /venv/lib/python3.9/site-packages (from requests<3.0.0.dev0,>=2.18.0->google-api-core!=2.0.*,!=2.1.*,!=2.2.*,!=2.3.0,<3.0.0.dev0,>=1.31.5->google-api-python-client) (2023.7.22)\n",
      "Requirement already satisfied, skipping upgrade: charset-normalizer<4,>=2 in /venv/lib/python3.9/site-packages (from requests<3.0.0.dev0,>=2.18.0->google-api-core!=2.0.*,!=2.1.*,!=2.2.*,!=2.3.0,<3.0.0.dev0,>=1.31.5->google-api-python-client) (3.2.0)\n",
      "Installing collected packages: httplib2, google-auth-httplib2, protobuf, googleapis-common-protos, google-api-core, uritemplate, google-api-python-client\n",
      "Successfully installed google-api-core-2.12.0 google-api-python-client-2.106.0 google-auth-httplib2-0.1.1 googleapis-common-protos-1.61.0 httplib2-0.22.0 protobuf-4.24.4 uritemplate-4.1.1\n"
     ]
    }
   ],
   "source": [
    "# Before running this notebook, please read the instruction here:\n",
    "# https://gspread-pandas.readthedocs.io/en/latest/getting_started.html#client-credentials\n",
    "# Follow the steps in `Client Credentials` until you have the JSON file downloaded. \n",
    "# Save that JSON as `service.json` and put it in `helpers/.google_credentials` folder, then you are all set.\n",
    "!sudo /bin/bash -c \"(source /venv/bin/activate; pip install --upgrade google-api-python-client)\""
   ]
  },
  {
   "cell_type": "code",
   "execution_count": 2,
   "id": "295ce667",
   "metadata": {
    "ExecuteTime": {
     "end_time": "2023-11-01T03:04:18.734247Z",
     "start_time": "2023-11-01T03:04:17.358980Z"
    },
    "scrolled": true
   },
   "outputs": [],
   "source": [
    "import logging\n",
    "import helpers.hdbg as hdbg\n",
    "import helpers.hio as hio\n",
    "import linkedin.phantom_api.phantombuster_api as lpphapia\n",
    "import helpers.hgoogle_file_api as hgofiapi"
   ]
  },
  {
   "cell_type": "code",
   "execution_count": 3,
   "id": "47f6a93e",
   "metadata": {
    "ExecuteTime": {
     "end_time": "2023-11-01T03:04:20.065880Z",
     "start_time": "2023-11-01T03:04:19.993887Z"
    },
    "scrolled": false
   },
   "outputs": [
    {
     "name": "stdout",
     "output_type": "stream",
     "text": [
      "\u001b[0m\u001b[36mINFO\u001b[0m: > cmd='/venv/lib/python3.9/site-packages/ipykernel_launcher.py -f /home/.local/share/jupyter/runtime/kernel-c0dca753-1fa1-4f42-a930-ccdb663a25c0.json'\n",
      "WARNING: Running in Jupyter\n",
      "\u001b[36mINFO\u001b[0m: Saving log to file '/app/linkedin/notebooks/none.log'\n"
     ]
    }
   ],
   "source": [
    "_LOG = logging.getLogger(__name__)\n",
    "hdbg.init_logger(use_exec_path=True)"
   ]
  },
  {
   "cell_type": "markdown",
   "id": "7275c584",
   "metadata": {
    "ExecuteTime": {
     "end_time": "2023-08-11T16:44:46.104924Z",
     "start_time": "2023-08-11T16:44:46.085060Z"
    }
   },
   "source": [
    "# Initial"
   ]
  },
  {
   "cell_type": "code",
   "execution_count": 4,
   "id": "1aced6df",
   "metadata": {
    "ExecuteTime": {
     "end_time": "2023-11-01T03:04:20.370799Z",
     "start_time": "2023-11-01T03:04:20.367464Z"
    }
   },
   "outputs": [],
   "source": [
    "phantom = lpphapia.Phantom()"
   ]
  },
  {
   "cell_type": "markdown",
   "id": "010770c2",
   "metadata": {},
   "source": [
    "# Input"
   ]
  },
  {
   "cell_type": "code",
   "execution_count": 5,
   "id": "33940314",
   "metadata": {
    "ExecuteTime": {
     "end_time": "2023-11-01T03:04:20.692648Z",
     "start_time": "2023-11-01T03:04:20.689231Z"
    }
   },
   "outputs": [],
   "source": [
    "# (INPUT)Set the search name, it will also be the folder name, \n",
    "# or set it as '' to create files in your Google Drive root folder.\n",
    "search_name = \"sn_search5_test\""
   ]
  },
  {
   "cell_type": "code",
   "execution_count": 6,
   "id": "4d6ce844",
   "metadata": {
    "ExecuteTime": {
     "end_time": "2023-11-01T03:04:20.852241Z",
     "start_time": "2023-11-01T03:04:20.848544Z"
    }
   },
   "outputs": [],
   "source": [
    "# (INPUT)Set the parent folder: your new folder will be created in this folder.\n",
    "# \"1dQ9e-bNKkXwNvobQyRFbPwgEh1-VSf4R\" is linkedin_data folder id.\n",
    "# In the URL address: https://drive.google.com/drive/u/0/folders/1dQ9e-bNKkXwNvobQyRFbPwgEh1-VSf4R\n",
    "# 1dQ9e-bNKkXwNvobQyRFbPwgEh1-VSf4R is folder id.\n",
    "parent_folder_id = \"1dQ9e-bNKkXwNvobQyRFbPwgEh1-VSf4R\""
   ]
  },
  {
   "cell_type": "code",
   "execution_count": 7,
   "id": "a0c3a91e",
   "metadata": {
    "ExecuteTime": {
     "end_time": "2023-11-01T03:04:21.007992Z",
     "start_time": "2023-11-01T03:04:21.004495Z"
    }
   },
   "outputs": [],
   "source": [
    "# Set gsheets name.\n",
    "gsheets_name = [\n",
    "    f\"{search_name}.step1.search_export\",\n",
    "    f\"{search_name}.step2.search_export_filtered\",\n",
    "    f\"{search_name}.step3.profile_export\",\n",
    "    f\"{search_name}.step3.search_export_filtered\",\n",
    "]"
   ]
  },
  {
   "cell_type": "code",
   "execution_count": 8,
   "id": "1cb9685a",
   "metadata": {
    "ExecuteTime": {
     "end_time": "2023-11-01T03:04:21.763681Z",
     "start_time": "2023-11-01T03:04:21.156778Z"
    },
    "scrolled": false
   },
   "outputs": [
    {
     "data": {
      "text/html": [
       "<div>\n",
       "<style scoped>\n",
       "    .dataframe tbody tr th:only-of-type {\n",
       "        vertical-align: middle;\n",
       "    }\n",
       "\n",
       "    .dataframe tbody tr th {\n",
       "        vertical-align: top;\n",
       "    }\n",
       "\n",
       "    .dataframe thead th {\n",
       "        text-align: right;\n",
       "    }\n",
       "</style>\n",
       "<table border=\"1\" class=\"dataframe\">\n",
       "  <thead>\n",
       "    <tr style=\"text-align: right;\">\n",
       "      <th></th>\n",
       "      <th>id</th>\n",
       "      <th>name</th>\n",
       "      <th>scriptId</th>\n",
       "      <th>lastEndMessage</th>\n",
       "      <th>lastEndStatus</th>\n",
       "      <th>queuedContainers</th>\n",
       "      <th>runningContainers</th>\n",
       "    </tr>\n",
       "  </thead>\n",
       "  <tbody>\n",
       "    <tr>\n",
       "      <th>0</th>\n",
       "      <td>3577001783753488</td>\n",
       "      <td>Search1.Quants_from GP_LIn LinkedIn Profile Sc...</td>\n",
       "      <td>3112</td>\n",
       "      <td></td>\n",
       "      <td>success</td>\n",
       "      <td>0</td>\n",
       "      <td>0</td>\n",
       "    </tr>\n",
       "    <tr>\n",
       "      <th>1</th>\n",
       "      <td>5767607159170031</td>\n",
       "      <td>Search3.Fintech_VC_in_Washington_area.SalesNav...</td>\n",
       "      <td>2350589230697394</td>\n",
       "      <td></td>\n",
       "      <td>success</td>\n",
       "      <td>0</td>\n",
       "      <td>0</td>\n",
       "    </tr>\n",
       "    <tr>\n",
       "      <th>2</th>\n",
       "      <td>5931245031101557</td>\n",
       "      <td>LinkedIn Auto Connect</td>\n",
       "      <td>2818</td>\n",
       "      <td></td>\n",
       "      <td>success</td>\n",
       "      <td>0</td>\n",
       "      <td>0</td>\n",
       "    </tr>\n",
       "    <tr>\n",
       "      <th>3</th>\n",
       "      <td>2654119293639176</td>\n",
       "      <td>Sales Navigator Search Export</td>\n",
       "      <td>6988</td>\n",
       "      <td></td>\n",
       "      <td>success</td>\n",
       "      <td>0</td>\n",
       "      <td>0</td>\n",
       "    </tr>\n",
       "    <tr>\n",
       "      <th>4</th>\n",
       "      <td>5950605628456845</td>\n",
       "      <td>LinkedIn Connections Export</td>\n",
       "      <td>12670</td>\n",
       "      <td></td>\n",
       "      <td>None</td>\n",
       "      <td>0</td>\n",
       "      <td>0</td>\n",
       "    </tr>\n",
       "  </tbody>\n",
       "</table>\n",
       "</div>"
      ],
      "text/plain": [
       "                 id                                               name  \\\n",
       "0  3577001783753488  Search1.Quants_from GP_LIn LinkedIn Profile Sc...   \n",
       "1  5767607159170031  Search3.Fintech_VC_in_Washington_area.SalesNav...   \n",
       "2  5931245031101557                              LinkedIn Auto Connect   \n",
       "3  2654119293639176                      Sales Navigator Search Export   \n",
       "4  5950605628456845                        LinkedIn Connections Export   \n",
       "\n",
       "           scriptId lastEndMessage lastEndStatus  queuedContainers  \\\n",
       "0              3112                      success                 0   \n",
       "1  2350589230697394                      success                 0   \n",
       "2              2818                      success                 0   \n",
       "3              6988                      success                 0   \n",
       "4             12670                         None                 0   \n",
       "\n",
       "   runningContainers  \n",
       "0                  0  \n",
       "1                  0  \n",
       "2                  0  \n",
       "3                  0  \n",
       "4                  0  "
      ]
     },
     "execution_count": 8,
     "metadata": {},
     "output_type": "execute_result"
    }
   ],
   "source": [
    "# Get all phantoms and their phantom id.\n",
    "phantom.get_all_phantoms()"
   ]
  },
  {
   "cell_type": "code",
   "execution_count": 9,
   "id": "ea8a3ea9",
   "metadata": {
    "ExecuteTime": {
     "end_time": "2023-11-01T03:04:21.769652Z",
     "start_time": "2023-11-01T03:04:21.766339Z"
    }
   },
   "outputs": [],
   "source": [
    "# (INPUT) Set the phantom IDs (Choose ID from the above table).\n",
    "# search_phantom_id = \"2862499141527492\"\n",
    "# profile_phantom_id = \"3593602419926765\"\n",
    "search_phantom_id = \"3577001783753488\"\n",
    "profile_phantom_id = \"5767607159170031\""
   ]
  },
  {
   "cell_type": "code",
   "execution_count": 10,
   "id": "ce3ebc73",
   "metadata": {
    "ExecuteTime": {
     "end_time": "2023-11-01T03:04:21.776590Z",
     "start_time": "2023-11-01T03:04:21.771911Z"
    }
   },
   "outputs": [],
   "source": [
    "# Path to save result csv.\n",
    "result_dir = \"../result_csv/\"\n",
    "search_result_csv_path = result_dir + f\"{search_name}_search_result.csv\"\n",
    "profile_result_csv_path = result_dir + f\"{search_name}_profile_result.csv\""
   ]
  },
  {
   "cell_type": "markdown",
   "id": "3d8751c9",
   "metadata": {
    "ExecuteTime": {
     "end_time": "2023-08-08T18:00:43.777325Z",
     "start_time": "2023-08-08T18:00:43.757044Z"
    }
   },
   "source": [
    "# Create the empty Google Drive folder and Google sheets"
   ]
  },
  {
   "cell_type": "code",
   "execution_count": 11,
   "id": "7d9fa049",
   "metadata": {
    "ExecuteTime": {
     "end_time": "2023-11-01T03:04:22.357994Z",
     "start_time": "2023-11-01T03:04:21.778974Z"
    }
   },
   "outputs": [
    {
     "name": "stdout",
     "output_type": "stream",
     "text": [
      "ERROR <HttpError 404 when requesting https://www.googleapis.com/drive/v3/files?fields=id&alt=json returned \"File not found: 1dQ9e-bNKkXwNvobQyRFbPwgEh1-VSf4R.\". Details: \"[{'message': 'File not found: 1dQ9e-bNKkXwNvobQyRFbPwgEh1-VSf4R.', 'domain': 'global', 'reason': 'notFound', 'location': 'fileId', 'locationType': 'parameter'}]\">\n"
     ]
    }
   ],
   "source": [
    "# Create a folder with search_name in the dir parent folder.\n",
    "current_folder_id = hgofiapi.create_google_drive_folder(search_name, parent_folder_id)"
   ]
  },
  {
   "cell_type": "code",
   "execution_count": 12,
   "id": "7a276d02",
   "metadata": {
    "ExecuteTime": {
     "end_time": "2023-11-01T03:04:26.807157Z",
     "start_time": "2023-11-01T03:04:22.365301Z"
    }
   },
   "outputs": [
    {
     "name": "stdout",
     "output_type": "stream",
     "text": [
      "INFO  Created a new Google sheet 'sn_search5_test.step1.search_export'.\n",
      "INFO  Created a new Google sheet 'sn_search5_test.step2.search_export_filtered'.\n",
      "INFO  Created a new Google sheet 'sn_search5_test.step3.profile_export'.\n",
      "INFO  Created a new Google sheet 'sn_search5_test.step3.search_export_filtered'.\n"
     ]
    }
   ],
   "source": [
    "# Create empty gsheets in the new created folder.\n",
    "for gsheet_name in gsheets_name:\n",
    "    hgofiapi.create_empty_google_file(\n",
    "        gfile_type = \"sheet\",\n",
    "        gfile_name = gsheet_name,\n",
    "        gdrive_folder_id = current_folder_id,\n",
    "        user = \"\"\n",
    "    )"
   ]
  },
  {
   "cell_type": "markdown",
   "id": "d53a1e57",
   "metadata": {},
   "source": [
    "# Download result CSVs to local storage"
   ]
  },
  {
   "cell_type": "code",
   "execution_count": 13,
   "id": "186f38da",
   "metadata": {
    "ExecuteTime": {
     "end_time": "2023-11-01T03:04:28.896096Z",
     "start_time": "2023-11-01T03:04:26.812616Z"
    },
    "scrolled": true
   },
   "outputs": [
    {
     "name": "stdout",
     "output_type": "stream",
     "text": [
      "INFO  Result CSV URL: https://phantombuster.s3.amazonaws.com/jqWbRHyznhM/zaWD2c5JakmaeHfNukpY1g/result.csv\n",
      "INFO  Result CSV saved to ../result_csv/sn_search5_test_search_result.csv\n"
     ]
    }
   ],
   "source": [
    "# Download search result csv.\n",
    "phantom.download_result_csv_by_phantom_id(search_phantom_id, search_result_csv_path)"
   ]
  },
  {
   "cell_type": "code",
   "execution_count": 14,
   "id": "d26c66a3",
   "metadata": {
    "ExecuteTime": {
     "end_time": "2023-11-01T03:04:30.224031Z",
     "start_time": "2023-11-01T03:04:28.899474Z"
    }
   },
   "outputs": [
    {
     "name": "stdout",
     "output_type": "stream",
     "text": [
      "INFO  Result CSV URL: https://phantombuster.s3.amazonaws.com/jqWbRHyznhM/NK9VSKTfi2EMx2eUXcrfTg/chart.csv\n",
      "INFO  Result CSV saved to ../result_csv/sn_search5_test_profile_result.csv\n"
     ]
    }
   ],
   "source": [
    "# Download profile result csv.\n",
    "phantom.download_result_csv_by_phantom_id(profile_phantom_id, profile_result_csv_path)"
   ]
  },
  {
   "cell_type": "markdown",
   "id": "b8eda769",
   "metadata": {},
   "source": [
    "# Upload result CSVs to Google sheets"
   ]
  },
  {
   "cell_type": "code",
   "execution_count": 15,
   "id": "8c26801d",
   "metadata": {
    "ExecuteTime": {
     "end_time": "2023-11-01T03:04:30.328336Z",
     "start_time": "2023-11-01T03:04:30.230269Z"
    }
   },
   "outputs": [],
   "source": [
    "import gspread_pandas\n",
    "import pandas as pd"
   ]
  },
  {
   "cell_type": "code",
   "execution_count": 16,
   "id": "4c08ccf6",
   "metadata": {
    "ExecuteTime": {
     "end_time": "2023-11-01T03:04:30.345095Z",
     "start_time": "2023-11-01T03:04:30.330386Z"
    },
    "scrolled": true
   },
   "outputs": [],
   "source": [
    "search_export_df = pd.read_csv(search_result_csv_path)\n",
    "profile_export_df = pd.read_csv(profile_result_csv_path)"
   ]
  },
  {
   "cell_type": "code",
   "execution_count": 17,
   "id": "5a9a746f",
   "metadata": {
    "ExecuteTime": {
     "end_time": "2023-11-01T03:04:30.364889Z",
     "start_time": "2023-11-01T03:04:30.349422Z"
    },
    "scrolled": true
   },
   "outputs": [
    {
     "data": {
      "text/html": [
       "<div>\n",
       "<style scoped>\n",
       "    .dataframe tbody tr th:only-of-type {\n",
       "        vertical-align: middle;\n",
       "    }\n",
       "\n",
       "    .dataframe tbody tr th {\n",
       "        vertical-align: top;\n",
       "    }\n",
       "\n",
       "    .dataframe thead th {\n",
       "        text-align: right;\n",
       "    }\n",
       "</style>\n",
       "<table border=\"1\" class=\"dataframe\">\n",
       "  <thead>\n",
       "    <tr style=\"text-align: right;\">\n",
       "      <th></th>\n",
       "      <th>error</th>\n",
       "      <th>baseUrl</th>\n",
       "      <th>timestamp</th>\n",
       "      <th>linkedinProfileUrl</th>\n",
       "      <th>email</th>\n",
       "      <th>linkedinProfile</th>\n",
       "      <th>headline</th>\n",
       "      <th>location</th>\n",
       "      <th>imgUrl</th>\n",
       "      <th>firstName</th>\n",
       "      <th>...</th>\n",
       "      <th>websiteFromDropContact</th>\n",
       "      <th>companyWebsite</th>\n",
       "      <th>jobDescription</th>\n",
       "      <th>schoolDescription</th>\n",
       "      <th>phoneNumber</th>\n",
       "      <th>description</th>\n",
       "      <th>schoolDescription2</th>\n",
       "      <th>twitter</th>\n",
       "      <th>twitterProfileUrl</th>\n",
       "      <th>birthday</th>\n",
       "    </tr>\n",
       "  </thead>\n",
       "  <tbody>\n",
       "    <tr>\n",
       "      <th>0</th>\n",
       "      <td>Not a LinkedIn Profile URL</td>\n",
       "      <td>profileUrl</td>\n",
       "      <td>2023-10-31T10:43:32.852Z</td>\n",
       "      <td>NaN</td>\n",
       "      <td>NaN</td>\n",
       "      <td>NaN</td>\n",
       "      <td>NaN</td>\n",
       "      <td>NaN</td>\n",
       "      <td>NaN</td>\n",
       "      <td>NaN</td>\n",
       "      <td>...</td>\n",
       "      <td>NaN</td>\n",
       "      <td>NaN</td>\n",
       "      <td>NaN</td>\n",
       "      <td>NaN</td>\n",
       "      <td>NaN</td>\n",
       "      <td>NaN</td>\n",
       "      <td>NaN</td>\n",
       "      <td>NaN</td>\n",
       "      <td>NaN</td>\n",
       "      <td>NaN</td>\n",
       "    </tr>\n",
       "    <tr>\n",
       "      <th>1</th>\n",
       "      <td>NaN</td>\n",
       "      <td>https://www.linkedin.com/in/dsweet99</td>\n",
       "      <td>2023-10-31T10:51:16.966Z</td>\n",
       "      <td>https://www.linkedin.com/in/dsweet99/</td>\n",
       "      <td>NaN</td>\n",
       "      <td>https://www.linkedin.com/in/dsweet99/</td>\n",
       "      <td>Experimenting engineer</td>\n",
       "      <td>New York, New York, United States</td>\n",
       "      <td>https://media.licdn.com/dms/image/D4E03AQHu11c...</td>\n",
       "      <td>David</td>\n",
       "      <td>...</td>\n",
       "      <td>NaN</td>\n",
       "      <td>NaN</td>\n",
       "      <td>NaN</td>\n",
       "      <td>NaN</td>\n",
       "      <td>NaN</td>\n",
       "      <td>NaN</td>\n",
       "      <td>NaN</td>\n",
       "      <td>NaN</td>\n",
       "      <td>NaN</td>\n",
       "      <td>NaN</td>\n",
       "    </tr>\n",
       "    <tr>\n",
       "      <th>2</th>\n",
       "      <td>NaN</td>\n",
       "      <td>https://www.linkedin.com/in/andrey-grinshpun-7...</td>\n",
       "      <td>2023-10-31T10:51:57.753Z</td>\n",
       "      <td>https://www.linkedin.com/in/andrey-grinshpun-7...</td>\n",
       "      <td>agrinshp@gmail.com</td>\n",
       "      <td>https://www.linkedin.com/in/andrey-grinshpun-7...</td>\n",
       "      <td>Math Ph.D. working in Buy-Side Quantitative Fi...</td>\n",
       "      <td>Austin, Texas, United States</td>\n",
       "      <td>NaN</td>\n",
       "      <td>Andrey</td>\n",
       "      <td>...</td>\n",
       "      <td>www.citadelsecurities.com</td>\n",
       "      <td>https://www.citadelsecurities.com</td>\n",
       "      <td>NaN</td>\n",
       "      <td>NaN</td>\n",
       "      <td>NaN</td>\n",
       "      <td>NaN</td>\n",
       "      <td>NaN</td>\n",
       "      <td>NaN</td>\n",
       "      <td>NaN</td>\n",
       "      <td>NaN</td>\n",
       "    </tr>\n",
       "    <tr>\n",
       "      <th>3</th>\n",
       "      <td>NaN</td>\n",
       "      <td>https://www.linkedin.com/in/sophia-x-liu-60177427</td>\n",
       "      <td>2023-10-31T10:52:49.935Z</td>\n",
       "      <td>https://www.linkedin.com/in/sophia-x-liu-60177...</td>\n",
       "      <td>soph.liu@gmail.com</td>\n",
       "      <td>https://www.linkedin.com/in/sophia-x-liu-60177...</td>\n",
       "      <td>Portfolio Manager</td>\n",
       "      <td>New York, New York, United States</td>\n",
       "      <td>https://media.licdn.com/dms/image/C4D03AQGxrCw...</td>\n",
       "      <td>Sophia X</td>\n",
       "      <td>...</td>\n",
       "      <td>www.point72.com</td>\n",
       "      <td>http://www.point72.com</td>\n",
       "      <td>I trade RV and global macro across major asset...</td>\n",
       "      <td>Concentration: Applied Probability and Statist...</td>\n",
       "      <td>NaN</td>\n",
       "      <td>NaN</td>\n",
       "      <td>NaN</td>\n",
       "      <td>NaN</td>\n",
       "      <td>NaN</td>\n",
       "      <td>NaN</td>\n",
       "    </tr>\n",
       "    <tr>\n",
       "      <th>4</th>\n",
       "      <td>NaN</td>\n",
       "      <td>https://www.linkedin.com/in/akhuraskin</td>\n",
       "      <td>2023-10-31T10:53:55.780Z</td>\n",
       "      <td>https://www.linkedin.com/in/akhuraskin/</td>\n",
       "      <td>askhuraskin@gmail.com</td>\n",
       "      <td>https://www.linkedin.com/in/akhuraskin/</td>\n",
       "      <td>Machine Learning Engineer, Autonomous Vehicles</td>\n",
       "      <td>Palo Alto, California, United States</td>\n",
       "      <td>https://media.licdn.com/dms/image/C4E03AQE3u6b...</td>\n",
       "      <td>Alexey</td>\n",
       "      <td>...</td>\n",
       "      <td>www.woven.toyota</td>\n",
       "      <td>https://woven.toyota/</td>\n",
       "      <td>NaN</td>\n",
       "      <td>NaN</td>\n",
       "      <td>+1(347)268-3613</td>\n",
       "      <td>NaN</td>\n",
       "      <td>NaN</td>\n",
       "      <td>NaN</td>\n",
       "      <td>NaN</td>\n",
       "      <td>NaN</td>\n",
       "    </tr>\n",
       "  </tbody>\n",
       "</table>\n",
       "<p>5 rows × 72 columns</p>\n",
       "</div>"
      ],
      "text/plain": [
       "                        error  \\\n",
       "0  Not a LinkedIn Profile URL   \n",
       "1                         NaN   \n",
       "2                         NaN   \n",
       "3                         NaN   \n",
       "4                         NaN   \n",
       "\n",
       "                                             baseUrl  \\\n",
       "0                                         profileUrl   \n",
       "1               https://www.linkedin.com/in/dsweet99   \n",
       "2  https://www.linkedin.com/in/andrey-grinshpun-7...   \n",
       "3  https://www.linkedin.com/in/sophia-x-liu-60177427   \n",
       "4             https://www.linkedin.com/in/akhuraskin   \n",
       "\n",
       "                  timestamp  \\\n",
       "0  2023-10-31T10:43:32.852Z   \n",
       "1  2023-10-31T10:51:16.966Z   \n",
       "2  2023-10-31T10:51:57.753Z   \n",
       "3  2023-10-31T10:52:49.935Z   \n",
       "4  2023-10-31T10:53:55.780Z   \n",
       "\n",
       "                                  linkedinProfileUrl                  email  \\\n",
       "0                                                NaN                    NaN   \n",
       "1              https://www.linkedin.com/in/dsweet99/                    NaN   \n",
       "2  https://www.linkedin.com/in/andrey-grinshpun-7...     agrinshp@gmail.com   \n",
       "3  https://www.linkedin.com/in/sophia-x-liu-60177...     soph.liu@gmail.com   \n",
       "4            https://www.linkedin.com/in/akhuraskin/  askhuraskin@gmail.com   \n",
       "\n",
       "                                     linkedinProfile  \\\n",
       "0                                                NaN   \n",
       "1              https://www.linkedin.com/in/dsweet99/   \n",
       "2  https://www.linkedin.com/in/andrey-grinshpun-7...   \n",
       "3  https://www.linkedin.com/in/sophia-x-liu-60177...   \n",
       "4            https://www.linkedin.com/in/akhuraskin/   \n",
       "\n",
       "                                            headline  \\\n",
       "0                                                NaN   \n",
       "1                             Experimenting engineer   \n",
       "2  Math Ph.D. working in Buy-Side Quantitative Fi...   \n",
       "3                                  Portfolio Manager   \n",
       "4     Machine Learning Engineer, Autonomous Vehicles   \n",
       "\n",
       "                               location  \\\n",
       "0                                   NaN   \n",
       "1     New York, New York, United States   \n",
       "2          Austin, Texas, United States   \n",
       "3     New York, New York, United States   \n",
       "4  Palo Alto, California, United States   \n",
       "\n",
       "                                              imgUrl firstName  ...  \\\n",
       "0                                                NaN       NaN  ...   \n",
       "1  https://media.licdn.com/dms/image/D4E03AQHu11c...     David  ...   \n",
       "2                                                NaN    Andrey  ...   \n",
       "3  https://media.licdn.com/dms/image/C4D03AQGxrCw...  Sophia X  ...   \n",
       "4  https://media.licdn.com/dms/image/C4E03AQE3u6b...    Alexey  ...   \n",
       "\n",
       "      websiteFromDropContact                     companyWebsite  \\\n",
       "0                        NaN                                NaN   \n",
       "1                        NaN                                NaN   \n",
       "2  www.citadelsecurities.com  https://www.citadelsecurities.com   \n",
       "3            www.point72.com             http://www.point72.com   \n",
       "4           www.woven.toyota              https://woven.toyota/   \n",
       "\n",
       "                                      jobDescription  \\\n",
       "0                                                NaN   \n",
       "1                                                NaN   \n",
       "2                                                NaN   \n",
       "3  I trade RV and global macro across major asset...   \n",
       "4                                                NaN   \n",
       "\n",
       "                                   schoolDescription      phoneNumber  \\\n",
       "0                                                NaN              NaN   \n",
       "1                                                NaN              NaN   \n",
       "2                                                NaN              NaN   \n",
       "3  Concentration: Applied Probability and Statist...              NaN   \n",
       "4                                                NaN  +1(347)268-3613   \n",
       "\n",
       "   description schoolDescription2  twitter twitterProfileUrl birthday  \n",
       "0          NaN                NaN      NaN               NaN      NaN  \n",
       "1          NaN                NaN      NaN               NaN      NaN  \n",
       "2          NaN                NaN      NaN               NaN      NaN  \n",
       "3          NaN                NaN      NaN               NaN      NaN  \n",
       "4          NaN                NaN      NaN               NaN      NaN  \n",
       "\n",
       "[5 rows x 72 columns]"
      ]
     },
     "execution_count": 17,
     "metadata": {},
     "output_type": "execute_result"
    }
   ],
   "source": [
    "search_export_df.head()"
   ]
  },
  {
   "cell_type": "code",
   "execution_count": 18,
   "id": "e2a56c4f",
   "metadata": {
    "ExecuteTime": {
     "end_time": "2023-11-01T03:04:30.377641Z",
     "start_time": "2023-11-01T03:04:30.367079Z"
    }
   },
   "outputs": [
    {
     "data": {
      "text/html": [
       "<div>\n",
       "<style scoped>\n",
       "    .dataframe tbody tr th:only-of-type {\n",
       "        vertical-align: middle;\n",
       "    }\n",
       "\n",
       "    .dataframe tbody tr th {\n",
       "        vertical-align: top;\n",
       "    }\n",
       "\n",
       "    .dataframe thead th {\n",
       "        text-align: right;\n",
       "    }\n",
       "</style>\n",
       "<table border=\"1\" class=\"dataframe\">\n",
       "  <thead>\n",
       "    <tr style=\"text-align: right;\">\n",
       "      <th></th>\n",
       "      <th>searchResultsTotal</th>\n",
       "      <th>searchResults</th>\n",
       "      <th>invitationSentTotal</th>\n",
       "      <th>invitationSent</th>\n",
       "      <th>requestAcceptedTotal</th>\n",
       "      <th>requestAccepted</th>\n",
       "      <th>notInvited</th>\n",
       "      <th>notInvitedTotal</th>\n",
       "      <th>timestamp</th>\n",
       "    </tr>\n",
       "  </thead>\n",
       "  <tbody>\n",
       "    <tr>\n",
       "      <th>0</th>\n",
       "      <td>0</td>\n",
       "      <td>0</td>\n",
       "      <td>0</td>\n",
       "      <td>0</td>\n",
       "      <td>0</td>\n",
       "      <td>0</td>\n",
       "      <td>0</td>\n",
       "      <td>0</td>\n",
       "      <td>2023-10-31T18:19:14.992Z</td>\n",
       "    </tr>\n",
       "    <tr>\n",
       "      <th>1</th>\n",
       "      <td>30</td>\n",
       "      <td>30</td>\n",
       "      <td>0</td>\n",
       "      <td>0</td>\n",
       "      <td>0</td>\n",
       "      <td>0</td>\n",
       "      <td>0</td>\n",
       "      <td>0</td>\n",
       "      <td>2023-10-31T18:21:42.682Z</td>\n",
       "    </tr>\n",
       "    <tr>\n",
       "      <th>2</th>\n",
       "      <td>60</td>\n",
       "      <td>30</td>\n",
       "      <td>5</td>\n",
       "      <td>5</td>\n",
       "      <td>0</td>\n",
       "      <td>0</td>\n",
       "      <td>0</td>\n",
       "      <td>0</td>\n",
       "      <td>2023-10-31T18:57:42.601Z</td>\n",
       "    </tr>\n",
       "    <tr>\n",
       "      <th>3</th>\n",
       "      <td>90</td>\n",
       "      <td>30</td>\n",
       "      <td>5</td>\n",
       "      <td>0</td>\n",
       "      <td>0</td>\n",
       "      <td>0</td>\n",
       "      <td>0</td>\n",
       "      <td>0</td>\n",
       "      <td>2023-10-31T19:56:38.972Z</td>\n",
       "    </tr>\n",
       "    <tr>\n",
       "      <th>4</th>\n",
       "      <td>90</td>\n",
       "      <td>0</td>\n",
       "      <td>10</td>\n",
       "      <td>5</td>\n",
       "      <td>0</td>\n",
       "      <td>0</td>\n",
       "      <td>0</td>\n",
       "      <td>0</td>\n",
       "      <td>2023-10-31T19:57:41.397Z</td>\n",
       "    </tr>\n",
       "  </tbody>\n",
       "</table>\n",
       "</div>"
      ],
      "text/plain": [
       "   searchResultsTotal  searchResults  invitationSentTotal  invitationSent  \\\n",
       "0                   0              0                    0               0   \n",
       "1                  30             30                    0               0   \n",
       "2                  60             30                    5               5   \n",
       "3                  90             30                    5               0   \n",
       "4                  90              0                   10               5   \n",
       "\n",
       "   requestAcceptedTotal  requestAccepted  notInvited  notInvitedTotal  \\\n",
       "0                     0                0           0                0   \n",
       "1                     0                0           0                0   \n",
       "2                     0                0           0                0   \n",
       "3                     0                0           0                0   \n",
       "4                     0                0           0                0   \n",
       "\n",
       "                  timestamp  \n",
       "0  2023-10-31T18:19:14.992Z  \n",
       "1  2023-10-31T18:21:42.682Z  \n",
       "2  2023-10-31T18:57:42.601Z  \n",
       "3  2023-10-31T19:56:38.972Z  \n",
       "4  2023-10-31T19:57:41.397Z  "
      ]
     },
     "execution_count": 18,
     "metadata": {},
     "output_type": "execute_result"
    }
   ],
   "source": [
    "profile_export_df.head()"
   ]
  },
  {
   "cell_type": "code",
   "execution_count": 19,
   "id": "2e26f2fe",
   "metadata": {
    "ExecuteTime": {
     "end_time": "2023-11-01T03:04:30.385904Z",
     "start_time": "2023-11-01T03:04:30.381193Z"
    }
   },
   "outputs": [],
   "source": [
    "def df_to_gsheet(gsheet_name: str, df: pd.DataFrame) -> None:\n",
    "    creds = hgofiapi.get_credentials()\n",
    "    gsheet = gspread_pandas.Spread(\n",
    "        gsheet_name,\n",
    "        create_sheet=True,\n",
    "        creds=creds\n",
    "    )\n",
    "    gsheet.df_to_sheet(df, index=False)\n",
    "    _LOG.info(\"Save to gsheet %s\", gsheet_name)"
   ]
  },
  {
   "cell_type": "code",
   "execution_count": 20,
   "id": "3cad95cc",
   "metadata": {
    "ExecuteTime": {
     "end_time": "2023-11-01T03:04:33.606720Z",
     "start_time": "2023-11-01T03:04:30.388960Z"
    },
    "scrolled": true
   },
   "outputs": [
    {
     "name": "stdout",
     "output_type": "stream",
     "text": [
      "INFO  Save to gsheet sn_search5_test.step1.search_export\n",
      "INFO  Save to gsheet sn_search5_test.step3.profile_export\n"
     ]
    }
   ],
   "source": [
    "df_to_gsheet(f\"{search_name}.step1.search_export\", search_export_df)\n",
    "df_to_gsheet(f\"{search_name}.step3.profile_export\", profile_export_df)"
   ]
  },
  {
   "cell_type": "markdown",
   "id": "83c9eb36",
   "metadata": {},
   "source": [
    "# Delete temp result CSVs"
   ]
  },
  {
   "cell_type": "code",
   "execution_count": 21,
   "id": "d033c71d",
   "metadata": {
    "ExecuteTime": {
     "end_time": "2023-11-01T03:04:33.622740Z",
     "start_time": "2023-11-01T03:04:33.612254Z"
    }
   },
   "outputs": [
    {
     "name": "stdout",
     "output_type": "stream",
     "text": [
      "INFO  Delete file ../result_csv/sn_search5_test_search_result.csv\n"
     ]
    }
   ],
   "source": [
    "hio.delete_file(search_result_csv_path)\n",
    "_LOG.info(\"Delete file %s\", search_result_csv_path)"
   ]
  },
  {
   "cell_type": "code",
   "execution_count": 22,
   "id": "30427972",
   "metadata": {
    "ExecuteTime": {
     "end_time": "2023-11-01T03:04:33.639318Z",
     "start_time": "2023-11-01T03:04:33.628025Z"
    }
   },
   "outputs": [
    {
     "name": "stdout",
     "output_type": "stream",
     "text": [
      "INFO  Delete file ../result_csv/sn_search5_test_profile_result.csv\n"
     ]
    }
   ],
   "source": [
    "hio.delete_file(profile_result_csv_path)\n",
    "_LOG.info(\"Delete file %s\", profile_result_csv_path)"
   ]
  },
  {
   "cell_type": "code",
   "execution_count": null,
   "id": "46beffb3",
   "metadata": {},
   "outputs": [],
   "source": []
  }
 ],
 "metadata": {
  "kernelspec": {
   "display_name": "Python 3 (ipykernel)",
   "language": "python",
   "name": "python3"
  },
  "language_info": {
   "codemirror_mode": {
    "name": "ipython",
    "version": 3
   },
   "file_extension": ".py",
   "mimetype": "text/x-python",
   "name": "python",
   "nbconvert_exporter": "python",
   "pygments_lexer": "ipython3",
   "version": "3.9.5"
  },
  "toc": {
   "base_numbering": 1,
   "nav_menu": {},
   "number_sections": true,
   "sideBar": true,
   "skip_h1_title": false,
   "title_cell": "Table of Contents",
   "title_sidebar": "Contents",
   "toc_cell": false,
   "toc_position": {},
   "toc_section_display": true,
   "toc_window_display": false
  }
 },
 "nbformat": 4,
 "nbformat_minor": 5
}
