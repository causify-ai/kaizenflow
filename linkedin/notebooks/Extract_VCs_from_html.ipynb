{
 "cells": [
  {
   "cell_type": "code",
   "execution_count": 203,
   "id": "079258b1",
   "metadata": {
    "ExecuteTime": {
     "end_time": "2023-11-13T22:01:05.610709Z",
     "start_time": "2023-11-13T22:01:05.607417Z"
    }
   },
   "outputs": [],
   "source": [
    "from bs4 import BeautifulSoup\n",
    "import pandas as pd\n",
    "import re"
   ]
  },
  {
   "cell_type": "code",
   "execution_count": 242,
   "id": "38ce425d",
   "metadata": {
    "ExecuteTime": {
     "end_time": "2023-11-13T23:06:42.095988Z",
     "start_time": "2023-11-13T23:06:42.082213Z"
    }
   },
   "outputs": [],
   "source": [
    "def get_VC_name(content_soup):\n",
    "    name = \"\"\n",
    "    try:\n",
    "        name = content_soup.select(\"div[data-walk-through-id$=-cell-name] .comp-txn-logo-container\")[0].next_sibling.text\n",
    "    except Exception as e:\n",
    "        name = \"None\"\n",
    "    return name\n",
    "\n",
    "def get_VC_url(content_soup):\n",
    "    url = \"\"\n",
    "    try:\n",
    "        url = content_soup.select(\"div[data-walk-through-id$=-cell-name] .comp-txn-logo-container\")[0].parent[\"href\"]\n",
    "    except Exception as e:\n",
    "        url = \"None\"\n",
    "    return url\n",
    "\n",
    "def get_VC_score(content_soup):\n",
    "    score = \"\"\n",
    "    try:\n",
    "        score = content_soup.select(\"div[data-walk-through-id$=-cell-participationScore] a\")[0].text\n",
    "    except Exception as e:\n",
    "        score = \"None\"\n",
    "    return score\n",
    "\n",
    "def get_VC_rounds(content_soup):\n",
    "    rounds = \"\"\n",
    "    try:\n",
    "        rounds = content_soup.select(\"div[data-walk-through-id$=-cell-investmentsCount] a\")[0].text\n",
    "    except Exception as e:\n",
    "        rounds = \"None\"\n",
    "    return rounds\n",
    "\n",
    "def get_VC_portfolio_companies(content_soup):\n",
    "    portfolio_companies = \"\"\n",
    "    try:\n",
    "        portfolio_companies_div = content_soup.select(\"div[data-walk-through-id$=-cell-portfoliocompanies] > div > div .comp-txn-logo-container + span\")\n",
    "        portfolio_companies = \";\".join(map(lambda x: x.text, portfolio_companies_div))\n",
    "    except Exception as e:\n",
    "        portfolio_companies = \"None\"\n",
    "    return portfolio_companies\n",
    "\n",
    "def get_VC_location(content_soup):\n",
    "    location = \"\"\n",
    "    try:\n",
    "        location = content_soup.select(\"div[data-walk-through-id$=-cell-locations]\")[0].text\n",
    "    except Exception as e:\n",
    "        location = \"None\"\n",
    "    return location\n",
    "\n",
    "def get_VC_stages(content_soup):\n",
    "    stages = \"\"\n",
    "    try:\n",
    "        stages_div = content_soup.select(\"div[data-walk-through-id$=-cell-investmentStages] > span\")[0]\n",
    "        stages = stages_div.text.replace(\",\", \";\")\n",
    "    except Exception as e:\n",
    "        stages = \"None\"\n",
    "    return stages\n",
    "\n",
    "def get_VC_sectors(content_soup):\n",
    "    sectors = \"\"\n",
    "    try:\n",
    "        sectors_div = content_soup.select(\"div[data-walk-through-id$=-cell-investmentSectors] > span\")[0]\n",
    "        sectors = sectors_div.text.replace(\",\", \";\")\n",
    "    except Exception as e:\n",
    "        sectors = \"None\"\n",
    "    return sectors\n",
    "\n",
    "def get_VC_investment_locations(content_soup):\n",
    "    investment_location = \"\"\n",
    "    try:\n",
    "        investment_locations_div = content_soup.select(\"div[data-walk-through-id$=-cell-investmentLocations] > span\")[0]\n",
    "        investment_locations = investment_locations_div.text.replace(\",\", \";\")\n",
    "    except Exception as e:\n",
    "        investment_locations = \"None\"\n",
    "    return investment_locations\n",
    "    \n",
    "def get_row_content(content_soup):\n",
    "    row_content_list = []\n",
    "    VC_name = get_VC_name(content_soup)\n",
    "    VC_score = get_VC_score(content_soup)\n",
    "    VC_rounds = get_VC_rounds(content_soup)\n",
    "    VC_portfolio_companies = get_VC_portfolio_companies(content_soup)\n",
    "    VC_location = get_VC_location(content_soup)\n",
    "    VC_stages = get_VC_stages(content_soup)\n",
    "    VC_sectors = get_VC_sectors(content_soup)\n",
    "    VC_investment_locations = get_VC_investment_locations(content_soup)\n",
    "    VC_url = get_VC_url(content_soup)\n",
    "    row_content_list = [VC_name, VC_score, VC_rounds, VC_portfolio_companies, VC_location, VC_stages, VC_sectors, VC_investment_locations, VC_url]\n",
    "    return row_content_list\n",
    "\n",
    "def get_contents(soup):\n",
    "    contents_div = soup.find_all(\"div\", attrs={\"data-walk-through-id\": re.compile(r\"^gridtable-row-[0-9]*$\")})\n",
    "    contents_list = list(map(get_row_content, contents_div))\n",
    "    return contents_list\n",
    "\n",
    "def get_title(soup):\n",
    "    titles_div = soup.find_all(attrs={\"data-walk-through-id\": \"gridtable-column\"})[0].children\n",
    "    titles = map(lambda x: x.select(\".comp--gridtable__column-cell--menu-middle\")[0].contents[0][\"title\"], titles_div)\n",
    "    return list(titles)\n",
    "\n",
    "def get_VCs_from_html(filepath):\n",
    "    fp = open(filepath)\n",
    "    soup = BeautifulSoup(fp)\n",
    "    titles = get_title(soup)\n",
    "    titles.append(\"Company URL\")\n",
    "    contents = get_contents(soup)\n",
    "    df = pd.DataFrame(data=np.array(contents), columns=titles)\n",
    "    fp.close()\n",
    "    return df\n"
   ]
  },
  {
   "cell_type": "code",
   "execution_count": 243,
   "id": "88142f99",
   "metadata": {
    "ExecuteTime": {
     "end_time": "2023-11-13T23:06:43.957497Z",
     "start_time": "2023-11-13T23:06:42.549153Z"
    },
    "run_control": {
     "marked": true
    }
   },
   "outputs": [],
   "source": [
    "filepath = \"../data/Tracxn_SeriesA_AI.html\"\n",
    "df = get_VCs_from_html(filepath)\n",
    "df.to_csv(\"../result_csv/Tracxn_SeriesA_AI.csv\", sep=',',index=False)"
   ]
  },
  {
   "cell_type": "code",
   "execution_count": 247,
   "id": "e726cbda",
   "metadata": {
    "ExecuteTime": {
     "end_time": "2023-11-13T23:07:48.669001Z",
     "start_time": "2023-11-13T23:07:48.664074Z"
    }
   },
   "outputs": [
    {
     "data": {
      "text/plain": [
       "'https://tracxn.com/a/companies/PuyKDxi6s4MDikTH69gcgffRRQgfBSRZ057M1u-naxU/sequoiacap.com'"
      ]
     },
     "execution_count": 247,
     "metadata": {},
     "output_type": "execute_result"
    }
   ],
   "source": [
    "df[\"Company URL\"][0]"
   ]
  },
  {
   "cell_type": "code",
   "execution_count": null,
   "id": "eab2de08",
   "metadata": {},
   "outputs": [],
   "source": []
  }
 ],
 "metadata": {
  "kernelspec": {
   "display_name": "Python 3 (ipykernel)",
   "language": "python",
   "name": "python3"
  },
  "language_info": {
   "codemirror_mode": {
    "name": "ipython",
    "version": 3
   },
   "file_extension": ".py",
   "mimetype": "text/x-python",
   "name": "python",
   "nbconvert_exporter": "python",
   "pygments_lexer": "ipython3",
   "version": "3.9.5"
  },
  "toc": {
   "base_numbering": 1,
   "nav_menu": {},
   "number_sections": true,
   "sideBar": true,
   "skip_h1_title": false,
   "title_cell": "Table of Contents",
   "title_sidebar": "Contents",
   "toc_cell": false,
   "toc_position": {},
   "toc_section_display": true,
   "toc_window_display": false
  }
 },
 "nbformat": 4,
 "nbformat_minor": 5
}
