{
 "cells": [
  {
   "cell_type": "markdown",
   "id": "b55ecb85",
   "metadata": {},
   "source": [
    "# Description\n",
    "\n",
    "This notebook was used for prototyping ways to postprocess docsend data that has been exported to a csv in GSheets."
   ]
  },
  {
   "cell_type": "code",
   "execution_count": 29,
   "id": "cc529166",
   "metadata": {
    "ExecuteTime": {
     "end_time": "2023-11-28T07:11:27.901042Z",
     "start_time": "2023-11-28T07:11:27.891778Z"
    }
   },
   "outputs": [],
   "source": [
    "#imports \n",
    "\n",
    "import sys\n",
    "sys.path.append('../../helpers')\n",
    "\n",
    "from hgoogle_file_api import get_credentials, get_gdrive_service\n",
    "#import helpers.google_file_api as hgofiapi"
   ]
  },
  {
   "cell_type": "code",
   "execution_count": 54,
   "id": "93882539",
   "metadata": {
    "ExecuteTime": {
     "end_time": "2023-11-28T07:27:05.230100Z",
     "start_time": "2023-11-28T07:27:04.997842Z"
    },
    "lines_to_next_cell": 2
   },
   "outputs": [
    {
     "name": "stdout",
     "output_type": "stream",
     "text": [
      "<googleapiclient.discovery.Resource object at 0x7f12f60264c0>\n"
     ]
    }
   ],
   "source": [
    "\n",
    "credentials = get_credentials()\n",
    "gdrive_service = get_gdrive_service()\n"
   ]
  }
 ],
 "metadata": {
  "kernelspec": {
   "display_name": "Python 3 (ipykernel)",
   "language": "python",
   "name": "python3"
  },
  "language_info": {
   "codemirror_mode": {
    "name": "ipython",
    "version": 3
   },
   "file_extension": ".py",
   "mimetype": "text/x-python",
   "name": "python",
   "nbconvert_exporter": "python",
   "pygments_lexer": "ipython3",
   "version": "3.9.5"
  },
  "toc": {
   "base_numbering": 1,
   "nav_menu": {},
   "number_sections": true,
   "sideBar": true,
   "skip_h1_title": false,
   "title_cell": "Table of Contents",
   "title_sidebar": "Contents",
   "toc_cell": false,
   "toc_position": {},
   "toc_section_display": true,
   "toc_window_display": false
  }
 },
 "nbformat": 4,
 "nbformat_minor": 5
}
