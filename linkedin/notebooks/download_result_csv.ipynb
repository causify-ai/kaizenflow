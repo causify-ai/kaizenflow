{
 "cells": [
  {
   "cell_type": "code",
   "execution_count": 2,
   "id": "295ce667",
   "metadata": {
    "ExecuteTime": {
     "end_time": "2023-08-03T19:43:28.080265Z",
     "start_time": "2023-08-03T19:43:26.094608Z"
    },
    "scrolled": true
   },
   "outputs": [
    {
     "name": "stderr",
     "output_type": "stream",
     "text": [
      "<jemalloc>: MADV_DONTNEED does not work (memset will be used instead)\n",
      "<jemalloc>: (This is the expected behaviour if you are running under QEMU)\n"
     ]
    }
   ],
   "source": [
    "import linkedin.phantom_api.phantombuster_api as ph"
   ]
  },
  {
   "cell_type": "code",
   "execution_count": 3,
   "id": "1cb9685a",
   "metadata": {
    "ExecuteTime": {
     "end_time": "2023-08-03T19:43:29.451231Z",
     "start_time": "2023-08-03T19:43:28.632512Z"
    }
   },
   "outputs": [
    {
     "data": {
      "text/html": [
       "<div>\n",
       "<style scoped>\n",
       "    .dataframe tbody tr th:only-of-type {\n",
       "        vertical-align: middle;\n",
       "    }\n",
       "\n",
       "    .dataframe tbody tr th {\n",
       "        vertical-align: top;\n",
       "    }\n",
       "\n",
       "    .dataframe thead th {\n",
       "        text-align: right;\n",
       "    }\n",
       "</style>\n",
       "<table border=\"1\" class=\"dataframe\">\n",
       "  <thead>\n",
       "    <tr style=\"text-align: right;\">\n",
       "      <th></th>\n",
       "      <th>id</th>\n",
       "      <th>name</th>\n",
       "      <th>scriptId</th>\n",
       "      <th>lastEndMessage</th>\n",
       "      <th>lastEndStatus</th>\n",
       "      <th>queuedContainers</th>\n",
       "      <th>runningContainers</th>\n",
       "    </tr>\n",
       "  </thead>\n",
       "  <tbody>\n",
       "    <tr>\n",
       "      <th>0</th>\n",
       "      <td>2862499141527492</td>\n",
       "      <td>Yiyun Search5 Sales Navigator Search Export</td>\n",
       "      <td>6988</td>\n",
       "      <td></td>\n",
       "      <td>success</td>\n",
       "      <td>0</td>\n",
       "      <td>0</td>\n",
       "    </tr>\n",
       "    <tr>\n",
       "      <th>1</th>\n",
       "      <td>3593602419926765</td>\n",
       "      <td>Yiyun LinkedIn Profile Scraper</td>\n",
       "      <td>3112</td>\n",
       "      <td></td>\n",
       "      <td>success</td>\n",
       "      <td>0</td>\n",
       "      <td>0</td>\n",
       "    </tr>\n",
       "    <tr>\n",
       "      <th>2</th>\n",
       "      <td>3933308360008191</td>\n",
       "      <td>GP LinkedIn Profile Scraper</td>\n",
       "      <td>3112</td>\n",
       "      <td></td>\n",
       "      <td>success</td>\n",
       "      <td>0</td>\n",
       "      <td>0</td>\n",
       "    </tr>\n",
       "    <tr>\n",
       "      <th>3</th>\n",
       "      <td>4170077962142115</td>\n",
       "      <td>GP Sales Navigator Search Export</td>\n",
       "      <td>6988</td>\n",
       "      <td></td>\n",
       "      <td>success</td>\n",
       "      <td>0</td>\n",
       "      <td>0</td>\n",
       "    </tr>\n",
       "    <tr>\n",
       "      <th>4</th>\n",
       "      <td>4809903115550081</td>\n",
       "      <td>Retired MBA DC UMD LinkedIn Search Export</td>\n",
       "      <td>3149</td>\n",
       "      <td></td>\n",
       "      <td>success</td>\n",
       "      <td>0</td>\n",
       "      <td>0</td>\n",
       "    </tr>\n",
       "  </tbody>\n",
       "</table>\n",
       "</div>"
      ],
      "text/plain": [
       "                 id                                         name  scriptId  \\\n",
       "0  2862499141527492  Yiyun Search5 Sales Navigator Search Export      6988   \n",
       "1  3593602419926765               Yiyun LinkedIn Profile Scraper      3112   \n",
       "2  3933308360008191                  GP LinkedIn Profile Scraper      3112   \n",
       "3  4170077962142115             GP Sales Navigator Search Export      6988   \n",
       "4  4809903115550081    Retired MBA DC UMD LinkedIn Search Export      3149   \n",
       "\n",
       "  lastEndMessage lastEndStatus  queuedContainers  runningContainers  \n",
       "0                      success                 0                  0  \n",
       "1                      success                 0                  0  \n",
       "2                      success                 0                  0  \n",
       "3                      success                 0                  0  \n",
       "4                      success                 0                  0  "
      ]
     },
     "execution_count": 3,
     "metadata": {},
     "output_type": "execute_result"
    }
   ],
   "source": [
    "# Get all phantoms and their phantom id.\n",
    "phantom = ph.Phantom()\n",
    "phantom.get_all_phantoms()"
   ]
  },
  {
   "cell_type": "code",
   "execution_count": 5,
   "id": "1b1df34c",
   "metadata": {
    "ExecuteTime": {
     "end_time": "2023-08-03T19:43:33.854607Z",
     "start_time": "2023-08-03T19:43:33.835438Z"
    }
   },
   "outputs": [],
   "source": [
    "# (INPUT) Set your search name and phantom id (Choose id from the above table).\n",
    "search_name = \"sn_search5\"\n",
    "search_phantom_id = \"2862499141527492\"\n",
    "profile_phantom_id = \"3593602419926765\""
   ]
  },
  {
   "cell_type": "code",
   "execution_count": 6,
   "id": "ce3ebc73",
   "metadata": {
    "ExecuteTime": {
     "end_time": "2023-08-03T19:43:34.524119Z",
     "start_time": "2023-08-03T19:43:34.512928Z"
    }
   },
   "outputs": [],
   "source": [
    "# Path to save result csv.\n",
    "result_dir = \"../result_csv/\"\n",
    "search_result_csv_path = result_dir + f\"{search_name}_search_result.csv\"\n",
    "profile_result_csv_path = result_dir + f\"{search_name}_profile_result.csv\""
   ]
  },
  {
   "cell_type": "code",
   "execution_count": 7,
   "id": "186f38da",
   "metadata": {
    "ExecuteTime": {
     "end_time": "2023-08-03T19:43:38.717922Z",
     "start_time": "2023-08-03T19:43:36.476441Z"
    }
   },
   "outputs": [
    {
     "name": "stdout",
     "output_type": "stream",
     "text": [
      "Result CSV URL: https://phantombuster.s3.amazonaws.com/jqWbRHyznhM/pyjlATELCNt5qJDusZToQg/result.csv\n",
      "File downloaded successfully to ../result_csv/sn_search5_search_result.csv\n"
     ]
    }
   ],
   "source": [
    "# Download search result csv.\n",
    "phantom.download_result_csv_by_phantom_id(search_phantom_id, search_result_csv_path)"
   ]
  },
  {
   "cell_type": "code",
   "execution_count": 8,
   "id": "51df0d48",
   "metadata": {
    "ExecuteTime": {
     "end_time": "2023-08-03T19:46:34.994934Z",
     "start_time": "2023-08-03T19:46:32.709683Z"
    }
   },
   "outputs": [
    {
     "name": "stdout",
     "output_type": "stream",
     "text": [
      "Result CSV URL: https://phantombuster.s3.amazonaws.com/jqWbRHyznhM/EAS5IvYVZQiP2OFtv7KqjQ/result.csv\n",
      "File downloaded successfully to ../result_csv/sn_search5_profile_result.csv\n"
     ]
    }
   ],
   "source": [
    "# Download profile result csv.\n",
    "phantom.download_result_csv_by_phantom_id(profile_phantom_id, profile_result_csv_path)"
   ]
  }
 ],
 "metadata": {
  "kernelspec": {
   "display_name": "Python 3 (ipykernel)",
   "language": "python",
   "name": "python3"
  },
  "language_info": {
   "codemirror_mode": {
    "name": "ipython",
    "version": 3
   },
   "file_extension": ".py",
   "mimetype": "text/x-python",
   "name": "python",
   "nbconvert_exporter": "python",
   "pygments_lexer": "ipython3",
   "version": "3.8.10"
  },
  "toc": {
   "base_numbering": 1,
   "nav_menu": {},
   "number_sections": true,
   "sideBar": true,
   "skip_h1_title": false,
   "title_cell": "Table of Contents",
   "title_sidebar": "Contents",
   "toc_cell": false,
   "toc_position": {},
   "toc_section_display": true,
   "toc_window_display": false
  }
 },
 "nbformat": 4,
 "nbformat_minor": 5
}
