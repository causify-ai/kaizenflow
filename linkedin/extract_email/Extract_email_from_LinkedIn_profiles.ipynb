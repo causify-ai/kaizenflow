{
 "cells": [
  {
   "cell_type": "code",
   "execution_count": 33,
   "id": "9df3d493",
   "metadata": {
    "scrolled": true
   },
   "outputs": [
    {
     "name": "stdout",
     "output_type": "stream",
     "text": [
      "Requirement already satisfied: selenium in /Users/yiyunlei/opt/anaconda3/lib/python3.9/site-packages (4.15.2)\n",
      "Requirement already satisfied: urllib3[socks]<3,>=1.26 in /Users/yiyunlei/opt/anaconda3/lib/python3.9/site-packages (from selenium) (1.26.12)\n",
      "Requirement already satisfied: trio~=0.17 in /Users/yiyunlei/opt/anaconda3/lib/python3.9/site-packages (from selenium) (0.23.1)\n",
      "Requirement already satisfied: trio-websocket~=0.9 in /Users/yiyunlei/opt/anaconda3/lib/python3.9/site-packages (from selenium) (0.11.1)\n",
      "Requirement already satisfied: certifi>=2021.10.8 in /Users/yiyunlei/opt/anaconda3/lib/python3.9/site-packages (from selenium) (2022.9.24)\n",
      "Requirement already satisfied: attrs>=20.1.0 in /Users/yiyunlei/opt/anaconda3/lib/python3.9/site-packages (from trio~=0.17->selenium) (22.1.0)\n",
      "Requirement already satisfied: sortedcontainers in /Users/yiyunlei/opt/anaconda3/lib/python3.9/site-packages (from trio~=0.17->selenium) (2.4.0)\n",
      "Requirement already satisfied: idna in /Users/yiyunlei/opt/anaconda3/lib/python3.9/site-packages (from trio~=0.17->selenium) (3.4)\n",
      "Requirement already satisfied: outcome in /Users/yiyunlei/opt/anaconda3/lib/python3.9/site-packages (from trio~=0.17->selenium) (1.3.0.post0)\n",
      "Requirement already satisfied: sniffio>=1.3.0 in /Users/yiyunlei/opt/anaconda3/lib/python3.9/site-packages (from trio~=0.17->selenium) (1.3.0)\n",
      "Requirement already satisfied: exceptiongroup>=1.0.0rc9 in /Users/yiyunlei/opt/anaconda3/lib/python3.9/site-packages (from trio~=0.17->selenium) (1.1.3)\n",
      "Requirement already satisfied: wsproto>=0.14 in /Users/yiyunlei/opt/anaconda3/lib/python3.9/site-packages (from trio-websocket~=0.9->selenium) (1.2.0)\n",
      "Requirement already satisfied: PySocks!=1.5.7,<2.0,>=1.5.6 in /Users/yiyunlei/opt/anaconda3/lib/python3.9/site-packages (from urllib3[socks]<3,>=1.26->selenium) (1.7.1)\n",
      "Requirement already satisfied: h11<1,>=0.9.0 in /Users/yiyunlei/opt/anaconda3/lib/python3.9/site-packages (from wsproto>=0.14->trio-websocket~=0.9->selenium) (0.14.0)\n",
      "\n",
      "\u001b[1m[\u001b[0m\u001b[34;49mnotice\u001b[0m\u001b[1;39;49m]\u001b[0m\u001b[39;49m A new release of pip is available: \u001b[0m\u001b[31;49m23.2\u001b[0m\u001b[39;49m -> \u001b[0m\u001b[32;49m23.3.1\u001b[0m\n",
      "\u001b[1m[\u001b[0m\u001b[34;49mnotice\u001b[0m\u001b[1;39;49m]\u001b[0m\u001b[39;49m To update, run: \u001b[0m\u001b[32;49mpip install --upgrade pip\u001b[0m\n"
     ]
    }
   ],
   "source": [
    "!pip install selenium"
   ]
  },
  {
   "cell_type": "code",
   "execution_count": 34,
   "id": "7043c014",
   "metadata": {},
   "outputs": [],
   "source": [
    "from selenium import webdriver\n",
    "from selenium.webdriver.common.by import By\n",
    "import time\n",
    "import random\n",
    "def setup_selenium_linkedin(username, password):\n",
    "    options = webdriver.ChromeOptions()\n",
    "    # Comment this line and send code if manual verification needed for the first time.\n",
    "    options.add_argument(\"--headless\")\n",
    "    driver = webdriver.Chrome(options=options)\n",
    "    driver.get(\"https://www.linkedin.com\")\n",
    "    time.sleep(5)\n",
    "    username_input = driver.find_element(By.ID, \"session_key\")\n",
    "    username_input.send_keys(username)\n",
    "    password_input = driver.find_element(By.ID, \"session_password\")\n",
    "    password_input.send_keys(password)\n",
    "    driver.find_element(By.XPATH, \"//button[@type='submit']\").click()\n",
    "    return driver\n",
    "\n",
    "def get_email_from_url(driver, url):\n",
    "    driver.get(url+\"/overlay/contact-info/\")\n",
    "    time.sleep(random.randrange(2,4))\n",
    "    try:\n",
    "        emailElement = driver.find_element(By.XPATH, \"//h3[contains(., 'Email')]/following-sibling::div/a\")\n",
    "        email = emailElement.text\n",
    "    except Exception: \n",
    "        email = \"Email Not Found\"\n",
    "    print(email)\n",
    "    return email\n",
    "\n",
    "def get_email_list(url_list, username, password):\n",
    "    # This is a newly created fake account\n",
    "    driver = setup_selenium_linkedin(username, password)\n",
    "    email_list = []\n",
    "    for url in url_list:\n",
    "        email_list.append(get_email_from_url(driver, url))\n",
    "    return email_list\n"
   ]
  },
  {
   "cell_type": "code",
   "execution_count": 43,
   "id": "2377acc7",
   "metadata": {},
   "outputs": [
    {
     "name": "stdout",
     "output_type": "stream",
     "text": [
      "Email Not Found\n",
      "['Email Not Found']\n"
     ]
    }
   ],
   "source": [
    "import pandas as pd\n",
    "# LinkedIn username and password here\n",
    "username = \"\"\n",
    "password = \"\"\n",
    "# This is the excel to be read.\n",
    "filepath = \"Search3-VCs_1st_degree_from_GP.LIn.xlsx\"\n",
    "sheet_name = 0\n",
    "input_list = list(pd.read_excel(filepath, sheet_name=sheet_name)[\"profileUrl\"])\n",
    "email_list = get_email_list(input_list, username, password)\n",
    "print(email_list)"
   ]
  },
  {
   "cell_type": "code",
   "execution_count": null,
   "id": "58e0a23b",
   "metadata": {},
   "outputs": [],
   "source": []
  }
 ],
 "metadata": {
  "kernelspec": {
   "display_name": "Python 3 (ipykernel)",
   "language": "python",
   "name": "python3"
  },
  "language_info": {
   "codemirror_mode": {
    "name": "ipython",
    "version": 3
   },
   "file_extension": ".py",
   "mimetype": "text/x-python",
   "name": "python",
   "nbconvert_exporter": "python",
   "pygments_lexer": "ipython3",
   "version": "3.9.16"
  }
 },
 "nbformat": 4,
 "nbformat_minor": 5
}
