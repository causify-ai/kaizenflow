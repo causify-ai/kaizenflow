{
 "cells": [
  {
   "cell_type": "code",
   "execution_count": null,
   "id": "50e4f470",
   "metadata": {},
   "outputs": [],
   "source": [
    "%load_ext autoreload\n",
    "%autoreload 2"
   ]
  },
  {
   "cell_type": "code",
   "execution_count": null,
   "id": "451c8e6b",
   "metadata": {},
   "outputs": [],
   "source": [
    "import logging\n",
    "\n",
    "import pandas as pd\n",
    "\n",
    "import helpers.hdbg as hdbg\n",
    "import optimizer.single_period_optimization as osipeopt"
   ]
  },
  {
   "cell_type": "code",
   "execution_count": null,
   "id": "89dc2f85",
   "metadata": {},
   "outputs": [],
   "source": [
    "hdbg.init_logger(verbosity=logging.INFO)\n",
    "\n",
    "_LOG = logging.getLogger(__name__)\n",
    "\n",
    "# _LOG.info(\"%s\", henv.get_system_signature()[0])"
   ]
  },
  {
   "cell_type": "code",
   "execution_count": null,
   "id": "655fe2d1",
   "metadata": {},
   "outputs": [],
   "source": [
    "# hprint.config_notebook()"
   ]
  },
  {
   "cell_type": "markdown",
   "id": "9bc6c3fa",
   "metadata": {},
   "source": [
    "# Build forecast dataframe"
   ]
  },
  {
   "cell_type": "code",
   "execution_count": null,
   "id": "4c0d34e4",
   "metadata": {},
   "outputs": [],
   "source": [
    "df = pd.DataFrame(\n",
    "    [\n",
    "        [1, 1000, 1, 1000, 0.05, 0.05],\n",
    "        [2, 1500, 1, 1500, 0.09, 0.07],\n",
    "        [3, -500, 1, -500, 0.03, 0.08],\n",
    "    ],\n",
    "    range(0, 3),\n",
    "    [\n",
    "        \"asset_id\",\n",
    "        \"holdings_shares\",\n",
    "        \"price\",\n",
    "        \"holdings_notional\",\n",
    "        \"prediction\",\n",
    "        \"volatility\",\n",
    "    ],\n",
    ")"
   ]
  },
  {
   "cell_type": "markdown",
   "id": "224c28e3",
   "metadata": {},
   "source": [
    "# Build optimizer config"
   ]
  },
  {
   "cell_type": "code",
   "execution_count": null,
   "id": "87cd4624",
   "metadata": {},
   "outputs": [],
   "source": [
    "dict_ = {\n",
    "    \"dollar_neutrality_penalty\": 0.0,\n",
    "    \"volatility_penalty\": 0.0,\n",
    "    \"relative_holding_penalty\": 0.0,\n",
    "    \"relative_holding_max_frac_of_gmv\": 0.6,\n",
    "    \"target_gmv\": 3000,\n",
    "    \"target_gmv_upper_bound_penalty\": 0.0,\n",
    "    \"target_gmv_hard_upper_bound_multiple\": 1.00,\n",
    "    \"turnover_penalty\": 0.0,\n",
    "    \"solver\": \"ECOS\",\n",
    "}"
   ]
  },
  {
   "cell_type": "markdown",
   "id": "7d5cad9b",
   "metadata": {},
   "source": [
    "# Optimize"
   ]
  },
  {
   "cell_type": "code",
   "execution_count": null,
   "id": "1f3f82db",
   "metadata": {},
   "outputs": [],
   "source": [
    "spo = osipeopt.SinglePeriodOptimizer(dict_, df)"
   ]
  },
  {
   "cell_type": "code",
   "execution_count": null,
   "id": "2632cf89",
   "metadata": {},
   "outputs": [],
   "source": [
    "opt_results = spo.optimize()\n",
    "display(opt_results.round(3))"
   ]
  },
  {
   "cell_type": "code",
   "execution_count": null,
   "id": "5a8274ad",
   "metadata": {},
   "outputs": [],
   "source": [
    "res1 = opt_results.stack().rename(\"s1\")"
   ]
  },
  {
   "cell_type": "code",
   "execution_count": null,
   "id": "c3cc9ea7",
   "metadata": {},
   "outputs": [],
   "source": [
    "res2 = opt_results.stack().rename(\"s2\")"
   ]
  },
  {
   "cell_type": "code",
   "execution_count": null,
   "id": "0d387412",
   "metadata": {},
   "outputs": [],
   "source": [
    "pd.concat([res1, res2], keys=[\"s1\", \"s2\"], axis=1)"
   ]
  },
  {
   "cell_type": "code",
   "execution_count": null,
   "id": "b9a160b7",
   "metadata": {},
   "outputs": [],
   "source": [
    "pd.concat(\n",
    "    {\n",
    "        \"s1\": res1,\n",
    "        \"s2\": res2,\n",
    "    },\n",
    "    axis=1,\n",
    ").T"
   ]
  },
  {
   "cell_type": "code",
   "execution_count": null,
   "id": "c2c2cc9b",
   "metadata": {},
   "outputs": [],
   "source": [
    "spo.compute_stats(opt_results)"
   ]
  },
  {
   "cell_type": "markdown",
   "id": "c58f1440",
   "metadata": {},
   "source": [
    "# Process forecast dataframe"
   ]
  },
  {
   "cell_type": "code",
   "execution_count": null,
   "id": "0cfb1191",
   "metadata": {},
   "outputs": [],
   "source": [
    "tz = \"America/New_York\"\n",
    "idx = [\n",
    "    pd.Timestamp(\"2022-01-03 09:35:00\", tz=tz),\n",
    "    pd.Timestamp(\"2022-01-03 09:40:00\", tz=tz),\n",
    "    pd.Timestamp(\"2022-01-03 09:45:00\", tz=tz),\n",
    "    pd.Timestamp(\"2022-01-03 09:50:00\", tz=tz),\n",
    "]\n",
    "asset_ids = [100, 200]\n",
    "\n",
    "prediction_data = [\n",
    "    [-0.25, -0.34],\n",
    "    [0.13, 0.5],\n",
    "    [0.84, -0.97],\n",
    "    [0.86, -0.113],\n",
    "]\n",
    "\n",
    "price_data = [[100.0, 100.3], [100.1, 100.5], [100.05, 100.4], [100.2, 100.5]]\n",
    "\n",
    "volatility_data = [\n",
    "    [0.00110, 0.00048],\n",
    "    [0.00091, 0.00046],\n",
    "    [0.00086, 0.00060],\n",
    "    [0.00071, 0.00068],\n",
    "]\n",
    "\n",
    "prediction_df = pd.DataFrame(prediction_data, idx, asset_ids)\n",
    "price_df = pd.DataFrame(price_data, idx, asset_ids)\n",
    "volatility_df = pd.DataFrame(volatility_data, idx, asset_ids)\n",
    "dag_df = pd.concat(\n",
    "    {\"price\": price_df, \"volatility\": volatility_df, \"prediction\": prediction_df},\n",
    "    axis=1,\n",
    ")"
   ]
  },
  {
   "cell_type": "code",
   "execution_count": null,
   "id": "3e23bf11",
   "metadata": {},
   "outputs": [],
   "source": [
    "dag_df"
   ]
  },
  {
   "cell_type": "code",
   "execution_count": null,
   "id": "6d3adbee",
   "metadata": {},
   "outputs": [],
   "source": [
    "import optimizer.forecast_evaluator_with_optimizer as ofevwiop"
   ]
  },
  {
   "cell_type": "code",
   "execution_count": null,
   "id": "68caaf92",
   "metadata": {},
   "outputs": [],
   "source": [
    "fewo = ofevwiop.ForecastEvaluatorWithOptimizer(\n",
    "    \"price\",\n",
    "    \"volatility\",\n",
    "    \"prediction\",\n",
    "    dict_,\n",
    ")"
   ]
  },
  {
   "cell_type": "code",
   "execution_count": null,
   "id": "cbe40aa3",
   "metadata": {},
   "outputs": [],
   "source": [
    "dag_df"
   ]
  },
  {
   "cell_type": "code",
   "execution_count": null,
   "id": "deff2256",
   "metadata": {},
   "outputs": [],
   "source": [
    "portfolio_df, portfolio_stats_df = fewo.annotate_forecasts(\n",
    "    dag_df, quantization=\"nearest_share\"\n",
    ")"
   ]
  },
  {
   "cell_type": "code",
   "execution_count": null,
   "id": "135f6574",
   "metadata": {},
   "outputs": [],
   "source": [
    "portfolio_df"
   ]
  },
  {
   "cell_type": "code",
   "execution_count": null,
   "id": "aef3b62f",
   "metadata": {},
   "outputs": [],
   "source": [
    "portfolio_stats_df"
   ]
  },
  {
   "cell_type": "code",
   "execution_count": null,
   "id": "63fdcd2a",
   "metadata": {},
   "outputs": [],
   "source": [
    "dfs = fewo.compute_portfolio(dag_df, quantization=\"nearest_share\")"
   ]
  }
 ],
 "metadata": {
  "kernelspec": {
   "display_name": "Python 3 (ipykernel)",
   "language": "python",
   "name": "python3"
  },
  "language_info": {
   "codemirror_mode": {
    "name": "ipython",
    "version": 3
   },
   "file_extension": ".py",
   "mimetype": "text/x-python",
   "name": "python",
   "nbconvert_exporter": "python",
   "pygments_lexer": "ipython3"
  },
  "toc": {
   "base_numbering": 1,
   "nav_menu": {},
   "number_sections": true,
   "sideBar": true,
   "skip_h1_title": false,
   "title_cell": "Table of Contents",
   "title_sidebar": "Contents",
   "toc_cell": false,
   "toc_position": {},
   "toc_section_display": true,
   "toc_window_display": false
  }
 },
 "nbformat": 4,
 "nbformat_minor": 5
}
