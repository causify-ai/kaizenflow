{
 "cells": [
  {
   "cell_type": "code",
   "execution_count": null,
   "id": "50e4f470",
   "metadata": {},
   "outputs": [],
   "source": [
    "%load_ext autoreload\n",
    "%autoreload 2"
   ]
  },
  {
   "cell_type": "code",
   "execution_count": null,
   "id": "451c8e6b",
   "metadata": {},
   "outputs": [],
   "source": [
    "import io\n",
    "\n",
    "import pandas as pd\n",
    "\n",
    "import core.config as cconfig\n",
    "import optimizer.single_period_optimization as opspo"
   ]
  },
  {
   "cell_type": "code",
   "execution_count": null,
   "id": "b6eee257",
   "metadata": {},
   "outputs": [],
   "source": [
    "idx = [\"asset1\", \"asset2\", \"asset3\", \"cash\"]"
   ]
  },
  {
   "cell_type": "code",
   "execution_count": null,
   "id": "0ef6008d",
   "metadata": {},
   "outputs": [],
   "source": [
    "spread = pd.Series(index=idx, data=[0.01, 0.01, 0.01, 0.0], name=\"spread\")\n",
    "sigma = pd.Series(index=idx, data=[0.05, 0.07, 0.08, 0.0], name=\"sigma\")\n",
    "holdings = pd.Series(index=idx, data=[1000, 1500, -500, 1000], name=\"holdings\")\n",
    "predictions = pd.Series(index=idx, data=[0.05, 0.09, 0.03, 0], name=\"predictions\")"
   ]
  },
  {
   "cell_type": "code",
   "execution_count": null,
   "id": "1ac1742f",
   "metadata": {},
   "outputs": [],
   "source": [
    "out_buffer = io.StringIO()"
   ]
  },
  {
   "cell_type": "code",
   "execution_count": null,
   "id": "87cd4624",
   "metadata": {},
   "outputs": [],
   "source": [
    "dict_ = {\n",
    "    \"costs\": {\n",
    "        \"risk\": {\n",
    "            \"class\": \"DiagonalRiskModel\",\n",
    "            \"path\": io.StringIO(sigma.to_csv()),\n",
    "            \"gamma\": 1,\n",
    "        },\n",
    "        \"dollar_neutrality\": {\n",
    "            \"class\": \"DollarNeutralityCost\",\n",
    "            \"gamma\": 0.1,\n",
    "        },\n",
    "        \"spread\": {\n",
    "            \"class\": \"SpreadCost\",\n",
    "            \"path\": io.StringIO(spread.to_csv()),\n",
    "            \"gamma\": 0.1,\n",
    "        },\n",
    "        \"turnover\": {\n",
    "            \"class\": \"TurnoverCost\",\n",
    "            \"gamma\": 0.1,\n",
    "        },\n",
    "    },\n",
    "    \"constraints\": {\n",
    "        \"leverage\": {\n",
    "            \"class\": \"LeverageConstraint\",\n",
    "            \"leverage_bound\": 2,\n",
    "        },\n",
    "        \"concentration_bound\": {\n",
    "            \"class\": \"ConcentrationConstraint\",\n",
    "            \"concentration_bound\": 0.003,\n",
    "        },\n",
    "        \"dollar_neutrality\": {\n",
    "            \"class\": \"DollarNeutralityConstraint\",\n",
    "        },\n",
    "    },\n",
    "    \"holdings\": io.StringIO(holdings.to_csv()),\n",
    "    \"predictions\": io.StringIO(predictions.to_csv()),\n",
    "    \"result_path\": out_buffer,\n",
    "}\n",
    "\n",
    "spo_config = cconfig.get_config_from_nested_dict(dict_)"
   ]
  },
  {
   "cell_type": "code",
   "execution_count": null,
   "id": "6cf4ece0",
   "metadata": {},
   "outputs": [],
   "source": [
    "opspo.perform_single_period_optimization(spo_config)"
   ]
  },
  {
   "cell_type": "code",
   "execution_count": null,
   "id": "103e1003",
   "metadata": {},
   "outputs": [],
   "source": [
    "pd.read_csv(io.StringIO(out_buffer.getvalue()), index_col=0)"
   ]
  },
  {
   "cell_type": "code",
   "execution_count": null,
   "id": "301bebe3",
   "metadata": {},
   "outputs": [],
   "source": []
  }
 ],
 "metadata": {
  "jupytext": {
   "text_representation": {
    "extension": ".py",
    "format_name": "percent",
    "format_version": "1.3",
    "jupytext_version": "1.13.1"
   }
  },
  "kernelspec": {
   "display_name": "Python 3 (ipykernel)",
   "language": "python",
   "name": "python3"
  },
  "language_info": {
   "codemirror_mode": {
    "name": "ipython",
    "version": 3
   },
   "file_extension": ".py",
   "mimetype": "text/x-python",
   "name": "python",
   "nbconvert_exporter": "python",
   "pygments_lexer": "ipython3"
  },
  "toc": {
   "base_numbering": 1,
   "nav_menu": {},
   "number_sections": true,
   "sideBar": true,
   "skip_h1_title": false,
   "title_cell": "Table of Contents",
   "title_sidebar": "Contents",
   "toc_cell": false,
   "toc_position": {},
   "toc_section_display": true,
   "toc_window_display": false
  }
 },
 "nbformat": 4,
 "nbformat_minor": 5
}
