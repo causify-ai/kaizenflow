{
 "cells": [
  {
   "cell_type": "code",
   "execution_count": null,
   "id": "50e4f470",
   "metadata": {},
   "outputs": [],
   "source": [
    "%load_ext autoreload\n",
    "%autoreload 2"
   ]
  },
  {
   "cell_type": "code",
   "execution_count": null,
   "id": "451c8e6b",
   "metadata": {},
   "outputs": [],
   "source": [
    "import io\n",
    "import logging\n",
    "import pprint\n",
    "\n",
    "import pandas as pd\n",
    "\n",
    "import core.config as cconfig\n",
    "import optimizer.single_period_optimization as osipeopt\n",
    "import helpers.hdbg as hdbg\n",
    "import helpers.henv as henv\n",
    "import helpers.hprint as hprint"
   ]
  },
  {
   "cell_type": "code",
   "execution_count": null,
   "id": "89dc2f85",
   "metadata": {},
   "outputs": [],
   "source": [
    "hdbg.init_logger(verbosity=logging.INFO)\n",
    "\n",
    "_LOG = logging.getLogger(__name__)\n",
    "\n",
    "# _LOG.info(\"%s\", henv.get_system_signature()[0])"
   ]
  },
  {
   "cell_type": "code",
   "execution_count": null,
   "id": "655fe2d1",
   "metadata": {},
   "outputs": [],
   "source": [
    "hprint.config_notebook()"
   ]
  },
  {
   "cell_type": "markdown",
   "id": "9bc6c3fa",
   "metadata": {},
   "source": [
    "# Build forecast dataframe"
   ]
  },
  {
   "cell_type": "code",
   "execution_count": null,
   "id": "b6eee257",
   "metadata": {},
   "outputs": [],
   "source": [
    "idx = [1, 2, 3]"
   ]
  },
  {
   "cell_type": "code",
   "execution_count": null,
   "id": "0ef6008d",
   "metadata": {},
   "outputs": [],
   "source": [
    "sigma = pd.Series(index=idx, data=[0.05, 0.07, 0.08], name=\"volatility\")\n",
    "holdings = pd.Series(index=idx, data=[1000, 1500, -500], name=\"position\")\n",
    "predictions = pd.Series(index=idx, data=[0.05, 0.09, 0.03], name=\"prediction\")"
   ]
  },
  {
   "cell_type": "code",
   "execution_count": null,
   "id": "e553e8ed",
   "metadata": {},
   "outputs": [],
   "source": [
    "df = pd.concat([holdings, predictions, sigma], axis=1)"
   ]
  },
  {
   "cell_type": "code",
   "execution_count": null,
   "id": "58351aae",
   "metadata": {},
   "outputs": [],
   "source": [
    "df.index.name = \"asset_id\""
   ]
  },
  {
   "cell_type": "code",
   "execution_count": null,
   "id": "1ff04e8f",
   "metadata": {},
   "outputs": [],
   "source": [
    "df"
   ]
  },
  {
   "cell_type": "code",
   "execution_count": null,
   "id": "98262b02",
   "metadata": {},
   "outputs": [],
   "source": [
    "df = df.reset_index()"
   ]
  },
  {
   "cell_type": "code",
   "execution_count": null,
   "id": "d347522c",
   "metadata": {},
   "outputs": [],
   "source": [
    "df"
   ]
  },
  {
   "cell_type": "markdown",
   "id": "224c28e3",
   "metadata": {},
   "source": [
    "# Build optimizer config"
   ]
  },
  {
   "cell_type": "code",
   "execution_count": null,
   "id": "87cd4624",
   "metadata": {},
   "outputs": [],
   "source": [
    "dict_ = {\n",
    "        \"volatility_penalty\": 0.75,\n",
    "        \"dollar_neutrality_penalty\": 0.1,\n",
    "        \"turnover_penalty\": 0.0,\n",
    "        \"target_gmv\": 3000,\n",
    "        \"target_gmv_upper_bound_multiple\": 1.01,\n",
    "    }\n",
    "\n",
    "spo_config = cconfig.get_config_from_nested_dict(dict_)"
   ]
  },
  {
   "cell_type": "markdown",
   "id": "7d5cad9b",
   "metadata": {},
   "source": [
    "# Optimize"
   ]
  },
  {
   "cell_type": "code",
   "execution_count": null,
   "id": "1f3f82db",
   "metadata": {},
   "outputs": [],
   "source": [
    "spo = osipeopt.SinglePeriodOptimizer(spo_config, df)"
   ]
  },
  {
   "cell_type": "code",
   "execution_count": null,
   "id": "2632cf89",
   "metadata": {},
   "outputs": [],
   "source": [
    "opt_results = spo.optimize()\n",
    "display(opt_results.round(3))"
   ]
  },
  {
   "cell_type": "code",
   "execution_count": null,
   "id": "c2c2cc9b",
   "metadata": {},
   "outputs": [],
   "source": [
    "spo.compute_stats(opt_results)"
   ]
  },
  {
   "cell_type": "code",
   "execution_count": null,
   "id": "076b2ecb",
   "metadata": {},
   "outputs": [],
   "source": [
    "assert 0"
   ]
  },
  {
   "cell_type": "code",
   "execution_count": null,
   "id": "0a3e31ea",
   "metadata": {},
   "outputs": [],
   "source": [
    "df = pd.DataFrame(\n",
    "    [[0.000843, -0.001103, 0.001103, 24000],\n",
    "     [-0.000177, -0.000344, 0.000344, -17000],\n",
    "     [-0.000238, -0.000130, 0.000130, -90000]],\n",
    "    [101, 201, 301],\n",
    "    [\"prediction\", \"returns\", \"volatility\", \"position\"],\n",
    ")\n",
    "df.index.name = \"asset_id\"\n",
    "df = df.reset_index()"
   ]
  }
 ],
 "metadata": {
  "kernelspec": {
   "display_name": "Python 3 (ipykernel)",
   "language": "python",
   "name": "python3"
  },
  "language_info": {
   "codemirror_mode": {
    "name": "ipython",
    "version": 3
   },
   "file_extension": ".py",
   "mimetype": "text/x-python",
   "name": "python",
   "nbconvert_exporter": "python",
   "pygments_lexer": "ipython3"
  },
  "toc": {
   "base_numbering": 1,
   "nav_menu": {},
   "number_sections": true,
   "sideBar": true,
   "skip_h1_title": false,
   "title_cell": "Table of Contents",
   "title_sidebar": "Contents",
   "toc_cell": false,
   "toc_position": {},
   "toc_section_display": true,
   "toc_window_display": false
  }
 },
 "nbformat": 4,
 "nbformat_minor": 5
}
