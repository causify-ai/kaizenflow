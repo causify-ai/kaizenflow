{
 "cells": [
  {
   "cell_type": "code",
   "execution_count": null,
   "id": "b052595a",
   "metadata": {},
   "outputs": [],
   "source": [
    "import logging\n",
    "\n",
    "import market_data as mdata\n",
    "import im_v2.ccxt.data.client as icdcl\n",
    "import helpers.hdbg as hdbg\n",
    "import helpers.henv as henv\n",
    "import helpers.hprint as hprint"
   ]
  },
  {
   "cell_type": "code",
   "execution_count": null,
   "id": "4280bf99",
   "metadata": {},
   "outputs": [],
   "source": [
    "hdbg.init_logger(verbosity=logging.INFO)\n",
    "\n",
    "_LOG = logging.getLogger(__name__)\n",
    "\n",
    "_LOG.info(\"%s\", henv.get_system_signature()[0])\n",
    "\n",
    "hprint.config_notebook()"
   ]
  },
  {
   "cell_type": "code",
   "execution_count": null,
   "id": "a3153e6d",
   "metadata": {},
   "outputs": [],
   "source": [
    "universe_version = \"v7\"\n",
    "resample_1min = False\n",
    "dataset = \"ohlcv\"\n",
    "contract_type = \"futures\"\n",
    "data_snapshot = \"\"\n",
    "im_client = icdcl.get_CcxtHistoricalPqByTileClient_example1(\n",
    "    universe_version,\n",
    "    resample_1min,\n",
    "    dataset,\n",
    "    contract_type,\n",
    "    data_snapshot,\n",
    ")\n",
    "# \n",
    "full_symbols = im_client.get_universe()\n",
    "asset_ids = im_client.get_asset_ids_from_full_symbols(full_symbols)\n",
    "columns = None\n",
    "columns_remap = None\n",
    "\n",
    "market_data = mdata.get_HistoricalImClientMarketData_example1(\n",
    "    im_client,\n",
    "    asset_ids,\n",
    "    columns,\n",
    "    columns_remap,\n",
    ")"
   ]
  },
  {
   "cell_type": "code",
   "execution_count": null,
   "id": "bc430c65",
   "metadata": {},
   "outputs": [],
   "source": [
    "import helpers.hpandas as hpandas\n",
    "import pandas as pd"
   ]
  },
  {
   "cell_type": "code",
   "execution_count": null,
   "id": "15e986f8",
   "metadata": {},
   "outputs": [],
   "source": [
    "df1 = pd.DataFrame(data={1: 1.1, 2: 2.2}, index=[\"a\", \"b\"])\n",
    "df2 = pd.DataFrame(data={3: 1.1, 4: [2.2, 3.32, 4.33], 5: 0}, index=[\"b\", \"a\", \"c\"])\n",
    "df1"
   ]
  },
  {
   "cell_type": "code",
   "execution_count": null,
   "id": "ddb3609d",
   "metadata": {},
   "outputs": [],
   "source": [
    "df2"
   ]
  },
  {
   "cell_type": "code",
   "execution_count": null,
   "id": "441cc097",
   "metadata": {},
   "outputs": [],
   "source": [
    "df2.index = sorted(df2.index)\n",
    "df2"
   ]
  },
  {
   "cell_type": "code",
   "execution_count": null,
   "id": "9d50d149",
   "metadata": {},
   "outputs": [],
   "source": [
    "df2.sort_index()"
   ]
  },
  {
   "cell_type": "code",
   "execution_count": null,
   "id": "0147f565",
   "metadata": {},
   "outputs": [],
   "source": [
    "hpandas.dassert_indices_equal(df1, df2)"
   ]
  },
  {
   "cell_type": "code",
   "execution_count": null,
   "id": "baac6ace",
   "metadata": {},
   "outputs": [],
   "source": [
    "hdbg.dassert_eq(df1.shape, df2.shape)"
   ]
  },
  {
   "cell_type": "code",
   "execution_count": null,
   "id": "ee613381",
   "metadata": {},
   "outputs": [],
   "source": [
    "a = {\n",
    "    2: 34,\n",
    "    4: 49,\n",
    "    1: 345,\n",
    "    0: 348,\n",
    "    3: 54,\n",
    "}"
   ]
  },
  {
   "cell_type": "code",
   "execution_count": null,
   "id": "92e9ca97",
   "metadata": {},
   "outputs": [],
   "source": [
    "a = sorted(a.items())"
   ]
  },
  {
   "cell_type": "code",
   "execution_count": null,
   "id": "584333a1",
   "metadata": {},
   "outputs": [],
   "source": [
    "dict(a)"
   ]
  }
 ],
 "metadata": {
  "kernelspec": {
   "display_name": "Python 3 (ipykernel)",
   "language": "python",
   "name": "python3"
  },
  "language_info": {
   "codemirror_mode": {
    "name": "ipython",
    "version": 3
   },
   "file_extension": ".py",
   "mimetype": "text/x-python",
   "name": "python",
   "nbconvert_exporter": "python",
   "pygments_lexer": "ipython3"
  },
  "toc": {
   "base_numbering": 1,
   "nav_menu": {},
   "number_sections": true,
   "sideBar": true,
   "skip_h1_title": false,
   "title_cell": "Table of Contents",
   "title_sidebar": "Contents",
   "toc_cell": false,
   "toc_position": {},
   "toc_section_display": true,
   "toc_window_display": false
  }
 },
 "nbformat": 4,
 "nbformat_minor": 5
}
