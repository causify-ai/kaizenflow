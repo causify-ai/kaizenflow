{
 "cells": [
  {
   "cell_type": "markdown",
   "metadata": {},
   "source": [
    "# Description"
   ]
  },
  {
   "cell_type": "markdown",
   "metadata": {},
   "source": [
    "# Imports"
   ]
  },
  {
   "cell_type": "code",
   "execution_count": null,
   "metadata": {},
   "outputs": [],
   "source": [
    "%load_ext autoreload\n",
    "%autoreload 2\n",
    "%matplotlib inline\n",
    "\n",
    "import jsonpickle\n",
    "\n",
    "import json\n",
    "import inspect\n",
    "import pprint\n",
    "\n",
    "import jsonpickle.ext.pandas as jsonpickle_pandas\n",
    "jsonpickle_pandas.register_handlers()\n",
    "\n",
    "import logging\n",
    "import pandas as pd\n",
    "\n",
    "import helpers.hdbg as dbg\n",
    "import helpers.henv as env\n",
    "import helpers.hprint as prnt\n",
    "import helpers.hplayback as plbck"
   ]
  },
  {
   "cell_type": "code",
   "execution_count": null,
   "metadata": {},
   "outputs": [],
   "source": [
    "dbg.init_logger(verbosity=logging.INFO)\n",
    "\n",
    "_LOG = logging.getLogger(__name__)\n",
    "\n",
    "_LOG.info(\"%s\", env.get_system_signature()[0])\n",
    "\n",
    "prnt.config_notebook()"
   ]
  },
  {
   "cell_type": "code",
   "execution_count": null,
   "metadata": {},
   "outputs": [],
   "source": [
    "import pandas as pd\n",
    "\n",
    "data = {\n",
    "    'Product': ['Desktop Computer', 'Tablet', 'iPhone', 'Laptop'],\n",
    "    'Price': [700, 250, 800, 1200]\n",
    "}\n",
    "\n",
    "df = pd.DataFrame(data, columns=['Product', 'Price'])\n",
    "df.index.name = \"hello\"\n",
    "print(df)"
   ]
  },
  {
   "cell_type": "code",
   "execution_count": null,
   "metadata": {},
   "outputs": [],
   "source": [
    "#df.to_json(orient=\"\")\n",
    "df.to_dict(orient=\"series\")"
   ]
  },
  {
   "cell_type": "code",
   "execution_count": null,
   "metadata": {},
   "outputs": [],
   "source": [
    "plbck.to_python_code(df)"
   ]
  },
  {
   "cell_type": "code",
   "execution_count": null,
   "metadata": {},
   "outputs": [],
   "source": [
    "pd.DataFrame.from_dict({'Product': ['Desktop Computer', 'Tablet', 'iPhone', 'Laptop'], 'Price': [700, 250, 800, 1200]})"
   ]
  },
  {
   "cell_type": "code",
   "execution_count": null,
   "metadata": {},
   "outputs": [],
   "source": [
    "use_playback = True\n",
    "def F(a, b):\n",
    "    if use_playback:\n",
    "        playback = plbck.Playback(\"assert_equal\", \"F\", a, b)\n",
    "        playback.start()\n",
    "    c = a + b\n",
    "    if use_playback:\n",
    "        output = playback.end(c)\n",
    "        res = output\n",
    "    else:\n",
    "        res = c\n",
    "    return res\n",
    "\n",
    "\n",
    "a = df\n",
    "b = df\n",
    "print(F(a,b))"
   ]
  },
  {
   "cell_type": "code",
   "execution_count": null,
   "metadata": {},
   "outputs": [],
   "source": [
    "plbck.to_python_code([\"3\", 3])"
   ]
  },
  {
   "cell_type": "code",
   "execution_count": null,
   "metadata": {},
   "outputs": [],
   "source": [
    "plbck.round_trip_convert(df, logging.INFO)"
   ]
  },
  {
   "cell_type": "code",
   "execution_count": null,
   "metadata": {},
   "outputs": [],
   "source": [
    "plbck.round_trip_convert(\"hello\", logging.INFO)"
   ]
  },
  {
   "cell_type": "code",
   "execution_count": null,
   "metadata": {},
   "outputs": [],
   "source": [
    "def F(a, b):\n",
    "    return a + b"
   ]
  },
  {
   "cell_type": "code",
   "execution_count": null,
   "metadata": {},
   "outputs": [],
   "source": [
    "# Initialize values for unit test.\n",
    "dummy_0 = r'3'\n",
    "dummy_0 = jsonpickle.decode(dummy_0)\n",
    "dummy_1 = r'2'\n",
    "dummy_1 = jsonpickle.decode(dummy_1)\n",
    "# Call function.\n",
    "act = F(dummy_0, dummy_1)\n",
    "# Create expected value of function output.\n",
    "exp = r'5'\n",
    "exp = jsonpickle.decode(exp)\n",
    "# Check.\n",
    "assert act == exp"
   ]
  },
  {
   "cell_type": "code",
   "execution_count": null,
   "metadata": {},
   "outputs": [],
   "source": [
    "class Playback:\n",
    "    \n",
    "    #def __init__(self, file_name, mode, *args, **kwargs):\n",
    "    # self.args = args\n",
    "    # self.kwargs = kwargs\n",
    "    def __init__(self, file_name, mode, func_name, a, b):\n",
    "        self.a = a\n",
    "        self.b = b\n",
    "        \n",
    "    def start(self):\n",
    "        self.a_json = jsonpickle.encode(self.a)\n",
    "        self.b_json = jsonpickle.encode(self.b)\n",
    "    \n",
    "    def end(self, ret):\n",
    "        self.ret_json = jsonpickle.encode(ret)\n",
    "        output = []\n",
    "        output.append(\"# Initialize values for unit test.\")\n",
    "        output.append(\"a = %s\" % jsonpickle.decode(self.a_json))\n",
    "        output.append(\"b = %s\" % jsonpickle.decode(self.b_json))\n",
    "        output.append(\"# Apply values.\")\n",
    "        output.append(\"act = F(a, b)\")\n",
    "        output.append(\"exp = %s\" % jsonpickle.decode(self.ret_json))\n",
    "        #output.append(\"self.assertEqual(act, exp)\")\n",
    "        #output.append(\"assert act == exp\")\n",
    "        output = \"\\n\".join(output)\n",
    "        print(\"output=\", output)\n",
    "        \n",
    "        \n",
    "# def F(a: int, b: int):\n",
    "#     c = {}\n",
    "#     c[\"pavel\"] = a + b\n",
    "#     return c\n",
    "        \n",
    "\n",
    "def F(a: int, b: int):\n",
    "    playback = Playback(\"\", \"\", \"F\", a, b)\n",
    "    playback.start()\n",
    "    c = {}\n",
    "    c[\"pavel\"] = a + b\n",
    "    playback.end(c)\n",
    "    return c\n",
    "    \n",
    "    \n",
    "res = F(3, 4)\n",
    "print(res)"
   ]
  },
  {
   "cell_type": "code",
   "execution_count": null,
   "metadata": {},
   "outputs": [],
   "source": [
    "class Playback:\n",
    "    \n",
    "    #def __init__(self, file_name, mode, *args, **kwargs):\n",
    "    # self.args = args\n",
    "    # self.kwargs = kwargs\n",
    "    def __init__(self, file_name, mode, func_name, a, b):\n",
    "        self.a = a\n",
    "        self.b = b\n",
    "        \n",
    "    def start(self):\n",
    "        self.a_json = jsonpickle.encode(self.a)\n",
    "        self.b_json = jsonpickle.encode(self.b)\n",
    "    \n",
    "    def end(self, ret):\n",
    "        self.ret_json = jsonpickle.encode(ret)\n",
    "        output = []\n",
    "        output.append(\"# Initialize values for unit test.\")\n",
    "        #output.append(\"a = %s\" % jsonpickle.decode(self.a_json))\n",
    "        #output.append(\"b = %s\" % jsonpickle.decode(self.b_json))\n",
    "        output.append(\"a = r'%s'\" % self.a_json)\n",
    "        output.append(\"a = jsonpickle.decode(a)\")\n",
    "        output.append(\"b = r'%s'\" % self.b_json)\n",
    "        output.append(\"b = jsonpickle.decode(b)\")\n",
    "        output.append(\"# Apply values.\")\n",
    "        #output.append(\"act = F(a, b)[1]\")\n",
    "        output.append(\"act = F(a, b)\")\n",
    "        output.append(\"exp = r'%s'\" % self.ret_json)\n",
    "        output.append(\"exp = jsonpickle.decode(exp)\")\n",
    "        #output.append(\"self.assertEqual(act, exp)\")\n",
    "        output.append(\"assert act.equals(exp)\")\n",
    "        #output.append(\"assert act == exp\")\n",
    "        output = \"\\n\".join(output)\n",
    "        return output\n",
    "    \n",
    "        \n",
    "# def F(a: int, b: int):\n",
    "#     c = {}\n",
    "#     c[\"pavel\"] = a + b\n",
    "#     return c\n",
    "        \n",
    "use_playback = True\n",
    "\n",
    "def F(a: pd.DataFrame, b: pd.DataFrame):\n",
    "    if use_playback:\n",
    "        playback = Playback(\"\", \"\", \"F\", a, b)\n",
    "        playback.start()\n",
    "    #c = {}\n",
    "    #c[\"pavel\"] = a + b\n",
    "    c = a + b\n",
    "    if use_playback:\n",
    "        output = playback.end(c)\n",
    "        res = output, c\n",
    "    else:\n",
    "        res = c\n",
    "    return res\n",
    "    \n",
    "a = pd.DataFrame(\n",
    " {\n",
    "    'Price': [700, 250, 800, 1200]\n",
    "})\n",
    "b = pd.DataFrame(\n",
    " {\n",
    "    'Price': [1, 1, 1, 1]\n",
    "})\n",
    "    \n",
    "res = F(a, b)\n",
    "output = res[0]\n",
    "print(output)\n",
    "exec(output)"
   ]
  },
  {
   "cell_type": "code",
   "execution_count": null,
   "metadata": {},
   "outputs": [],
   "source": [
    "# Initialize values for unit test.\n",
    "a = r'{\"py/object\": \"pandas.core.frame.DataFrame\", \"values\": \"Price\\n700\\n250\\n800\\n1200\\n\", \"txt\": true, \"meta\": {\"dtypes\": {\"Price\": \"int64\"}, \"index\": \"{\\\"py/object\\\": \\\"pandas.core.indexes.range.RangeIndex\\\", \\\"values\\\": \\\"[0, 1, 2, 3]\\\", \\\"txt\\\": true, \\\"meta\\\": {\\\"dtype\\\": \\\"int64\\\", \\\"name\\\": null}}\"}}'\n",
    "a = jsonpickle.decode(a)"
   ]
  },
  {
   "cell_type": "code",
   "execution_count": null,
   "metadata": {},
   "outputs": [],
   "source": [
    "a = pd.DataFrame(\n",
    " {\n",
    "    'Price': [700, 250, 800, 1200]\n",
    "})\n",
    "\n",
    "#round_trip(a)\n",
    "frozen = jsonpickle.encode(a)\n",
    "print(frozen)\n",
    "print(\"frozen2 = '%s'\" % frozen)\n",
    "#print(\"frozen = '%s'\" % frozen)\n",
    "assert 0\n",
    "#\n",
    "print(\"frozen=\")\n",
    "print(json_pretty_print(frozen))\n",
    "#\n",
    "obj2 = jsonpickle.decode(frozen)"
   ]
  },
  {
   "cell_type": "code",
   "execution_count": null,
   "metadata": {},
   "outputs": [],
   "source": [
    "frozen2 = r'{\"py/object\": \"pandas.core.frame.DataFrame\", \"values\": \"Price\\n700\\n250\\n800\\n1200\\n\", \"txt\": true, \"meta\": {\"dtypes\": {\"Price\": \"int64\"}, \"index\": \"{\\\"py/object\\\": \\\"pandas.core.indexes.range.RangeIndex\\\", \\\"values\\\": \\\"[0, 1, 2, 3]\\\", \\\"txt\\\": true, \\\"meta\\\": {\\\"dtype\\\": \\\"int64\\\", \\\"name\\\": null}}\"}}'\n",
    "print(frozen2)\n",
    "#print(\"\\n\")\n",
    "#print(frozen)\n",
    "if False and isinstance(frozen2, str):\n",
    "    #print(frozen2[61])\n",
    "    #assert 0\n",
    "    frozen2 = json.loads(frozen2)\n",
    "    print(frozen2)\n",
    "frozen2 = jsonpickle.decode(frozen2)"
   ]
  },
  {
   "cell_type": "code",
   "execution_count": null,
   "metadata": {},
   "outputs": [],
   "source": [
    "a = '''{\"py/object\": \"pandas.core.frame.DataFrame\", \"values\": \"Price\\n700\\n250\\n800\\n1200\\n\", \"txt\": true, \"meta\": {\"dtypes\": {\"Price\": \"int64\"}, \"index\": \"{\\\"py/object\\\": \\\"pandas.core.indexes.range.RangeIndex\\\", \\\"values\\\": \\\"[0, 1, 2, 3]\\\", \\\"txt\\\": true, \\\"meta\\\": {\\\"dtype\\\": \\\"int64\\\", \\\"name\\\": null}}\"}}'''\n",
    "a = jsonpickle.decode(a)"
   ]
  },
  {
   "cell_type": "code",
   "execution_count": null,
   "metadata": {},
   "outputs": [],
   "source": [
    "# Initialize values for unit test.\n",
    "a = '{\"py/object\": \"pandas.core.frame.DataFrame\", \"values\": \"Price\\n700\\n250\\n800\\n1200\\n\", \"txt\": true, \"meta\": {\"dtypes\": {\"Price\": \"int64\"}, \"index\": \"{\\\"py/object\\\": \\\"pandas.core.indexes.range.RangeIndex\\\", \\\"values\\\": \\\"[0, 1, 2, 3]\\\", \\\"txt\\\": true, \\\"meta\\\": {\\\"dtype\\\": \\\"int64\\\", \\\"name\\\": null}}\"}}'\n",
    "a = jsonpickle.decode(a)\n",
    "b = '{\"py/object\": \"pandas.core.frame.DataFrame\", \"values\": \"Price\\n1\\n1\\n1\\n1\\n\", \"txt\": true, \"meta\": {\"dtypes\": {\"Price\": \"int64\"}, \"index\": \"{\\\"py/object\\\": \\\"pandas.core.indexes.range.RangeIndex\\\", \\\"values\\\": \\\"[0, 1, 2, 3]\\\", \\\"txt\\\": true, \\\"meta\\\": {\\\"dtype\\\": \\\"int64\\\", \\\"name\\\": null}}\"}}'\n",
    "b = jsonpickle.decode(b)\n",
    "# Apply values.\n",
    "act = F(a, b)\n",
    "exp = '{\"py/object\": \"pandas.core.frame.DataFrame\", \"values\": \"Price\\n701\\n251\\n801\\n1201\\n\", \"txt\": true, \"meta\": {\"dtypes\": {\"Price\": \"int64\"}, \"index\": \"{\\\"py/object\\\": \\\"pandas.core.indexes.range.RangeIndex\\\", \\\"values\\\": \\\"[0, 1, 2, 3]\\\", \\\"txt\\\": true, \\\"meta\\\": {\\\"dtype\\\": \\\"int64\\\", \\\"name\\\": null}}\"}}'\n",
    "exp = jsonpickle.decode(exp)\n",
    "assert act == exp"
   ]
  },
  {
   "cell_type": "code",
   "execution_count": null,
   "metadata": {},
   "outputs": [],
   "source": [
    "# Initialize values for unit test.\n",
    "a = 3\n",
    "b = 4\n",
    "# Apply values.\n",
    "act = F(a, b)\n",
    "exp = {'pavel': 7}\n",
    "assert act == exp"
   ]
  },
  {
   "cell_type": "code",
   "execution_count": null,
   "metadata": {},
   "outputs": [],
   "source": [
    "df2 = round_trip(df)"
   ]
  },
  {
   "cell_type": "code",
   "execution_count": null,
   "metadata": {},
   "outputs": [],
   "source": [
    "class Thing:\n",
    "    def __init__(self, name):\n",
    "        self.name = name\n",
    "        \n",
    "obj = Thing('Awesome')\n",
    "\n",
    "round_trip(obj)"
   ]
  },
  {
   "cell_type": "code",
   "execution_count": null,
   "metadata": {},
   "outputs": [],
   "source": [
    "def test(a: int, b: int):\n",
    "    print(round_trip(a))\n",
    "\n",
    "    \n",
    "test(\"strunz\", 6)\n",
    "test(4, 6)\n",
    "test([\"hello\"], 6)"
   ]
  },
  {
   "cell_type": "code",
   "execution_count": null,
   "metadata": {},
   "outputs": [],
   "source": [
    "df.index.dtype#"
   ]
  },
  {
   "cell_type": "code",
   "execution_count": null,
   "metadata": {},
   "outputs": [],
   "source": [
    "df.dtypes"
   ]
  },
  {
   "cell_type": "code",
   "execution_count": null,
   "metadata": {},
   "outputs": [],
   "source": [
    "#import io\n",
    "#import io.StringIO\n",
    "#from io import StringIO\n",
    "\n",
    "#output = StringIO.StringIO()\n",
    "\n",
    "orient = \"columns\"\n",
    "#orient = \"split\"\n",
    "#orient = \"records\"\n",
    "#orient = \"table\"\n",
    "df_as_str = df.to_json(orient=orient)\n",
    "\n",
    "# split\n",
    "# records\n",
    "# index\n",
    "# values\n",
    "# table\n",
    "# columns (the default format)\n",
    "\n",
    "python_code = []\n",
    "target_var = \"df_as_str\"\n",
    "python_code.append(\"%s = %s\" % (target_var, df_as_str))\n",
    "python_code.append(\"%s.index.name = '%s'\" % (target_var, df.index.name))\n",
    "python_code = \"\\n\".join(python_code)\n",
    "print(python_code)\n",
    "\n",
    "exec(python_code)"
   ]
  },
  {
   "cell_type": "code",
   "execution_count": null,
   "metadata": {},
   "outputs": [],
   "source": [
    "airr = eval(df_as_str)\n",
    "df2 = pd.DataFrame.from_dict(arr, orient=\"columns\")\n",
    "df2.index.name"
   ]
  },
  {
   "cell_type": "code",
   "execution_count": null,
   "metadata": {},
   "outputs": [],
   "source": []
  }
 ],
 "metadata": {
  "jupytext": {
   "text_representation": {
    "extension": ".py",
    "format_name": "percent",
    "format_version": "1.3",
    "jupytext_version": "1.4.2"
   }
  },
  "kernelspec": {
   "display_name": "Python [conda env:.conda-develop] *",
   "language": "python",
   "name": "conda-env-.conda-develop-py"
  },
  "language_info": {
   "codemirror_mode": {
    "name": "ipython",
    "version": 3
   },
   "file_extension": ".py",
   "mimetype": "text/x-python",
   "name": "python",
   "nbconvert_exporter": "python",
   "pygments_lexer": "ipython3"
  },
  "toc": {
   "base_numbering": 1,
   "nav_menu": {},
   "number_sections": true,
   "sideBar": true,
   "skip_h1_title": false,
   "title_cell": "Table of Contents",
   "title_sidebar": "Contents",
   "toc_cell": false,
   "toc_position": {
    "height": "calc(100% - 180px)",
    "left": "10px",
    "top": "150px",
    "width": "165px"
   },
   "toc_section_display": true,
   "toc_window_display": true
  }
 },
 "nbformat": 4,
 "nbformat_minor": 4
}
