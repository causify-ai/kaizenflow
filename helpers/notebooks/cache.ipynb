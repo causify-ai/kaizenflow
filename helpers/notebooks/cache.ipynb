{
 "cells": [
  {
   "cell_type": "markdown",
   "metadata": {},
   "source": [
    "# Test Cache in Jupyter Notebook"
   ]
  },
  {
   "cell_type": "code",
   "execution_count": null,
   "metadata": {},
   "outputs": [],
   "source": [
    "%load_ext autoreload\n",
    "%autoreload 2\n",
    "\n",
    "import logging\n",
    "\n",
    "import joblib\n",
    "\n",
    "import helpers.hcache as hcache\n",
    "import helpers.hdbg as hdbg\n",
    "import helpers.hprint as hprint\n",
    "import helpers.hs3 as hs3\n",
    "\n",
    "hprint.config_notebook()\n",
    "\n",
    "# hdbg.init_logger(verbosity=logging.DEBUG)\n",
    "hdbg.init_logger(verbosity=logging.INFO)\n",
    "# hdbg.test_logger()\n",
    "_LOG = logging.getLogger(__name__)"
   ]
  },
  {
   "cell_type": "markdown",
   "metadata": {},
   "source": [
    "# Define computation function"
   ]
  },
  {
   "cell_type": "code",
   "execution_count": null,
   "metadata": {},
   "outputs": [],
   "source": [
    "def func(a, b):\n",
    "    # hello\n",
    "    # assert 0\n",
    "    out = a * b\n",
    "    print(\"Multiplication: %s * %s = %s\" % (a, b, out))\n",
    "    return out\n",
    "\n",
    "\n",
    "inputs = (1, 2)\n",
    "exp_output = 2\n",
    "\n",
    "func(*inputs)"
   ]
  },
  {
   "cell_type": "code",
   "execution_count": null,
   "metadata": {},
   "outputs": [],
   "source": [
    "!ls hello/joblib/__main__*/f/"
   ]
  },
  {
   "cell_type": "code",
   "execution_count": null,
   "metadata": {},
   "outputs": [],
   "source": [
    "!pip install https://github.com/aabadie/joblib-s3.git"
   ]
  },
  {
   "cell_type": "code",
   "execution_count": null,
   "metadata": {},
   "outputs": [],
   "source": [
    "#!git clone git://github.com/aabadie/joblib-s3.git\n",
    "# !(cd joblib-s3 && pip install -r requirements.txt .)"
   ]
  },
  {
   "cell_type": "code",
   "execution_count": null,
   "metadata": {},
   "outputs": [],
   "source": [
    "# import joblibs3\n",
    "\n",
    "# joblibs3.register_s3fs_store_backend()\n",
    "\n",
    "# # dict(compress=False, bucket=None, anon=False,\n",
    "#                                #key=None, secret=None, token=None, use_ssl=True)\n",
    "# dict2 = {\n",
    "#     \"bucket\": \"alphamatic-data\",\n",
    "#     \"key\": dict_[\"aws_access_key_id\"],\n",
    "#     \"secret\": dict_[\"aws_secret_access_key\"],\n",
    "# }\n",
    "# mem = joblib.Memory('joblib_cache', backend='s3', verbose=100, compress=True,\n",
    "#                  backend_options=dict2)"
   ]
  },
  {
   "cell_type": "code",
   "execution_count": null,
   "metadata": {},
   "outputs": [],
   "source": [
    "# hjoblib.register_s3fs_store_backend()\n",
    "\n",
    "s3fs = hs3.get_s3fs(\"am\")\n",
    "\n",
    "dict2 = {\n",
    "    \"bucket\": \"alphamatic-data\",\n",
    "    # \"key\": dict_[\"aws_access_key_id\"],\n",
    "    # \"secret\": dict_[\"aws_secret_access_key\"],\n",
    "    \"s3fs\": s3fs,\n",
    "}\n",
    "\n",
    "mem = joblib.Memory(\n",
    "    \"joblib_cache\",\n",
    "    backend=\"s3\",\n",
    "    verbose=100,\n",
    "    compress=True,\n",
    "    backend_options=dict2,\n",
    ")"
   ]
  },
  {
   "cell_type": "code",
   "execution_count": null,
   "metadata": {},
   "outputs": [],
   "source": [
    "# hjoblib.register_s3fs_store_backend()\n",
    "\n",
    "s3fs = hs3.get_s3fs(\"am\")\n",
    "\n",
    "dict2 = {\n",
    "    \"bucket\": \"alphamatic-data\",\n",
    "    # \"key\": dict_[\"aws_access_key_id\"],\n",
    "    # \"secret\": dict_[\"aws_secret_access_key\"],\n",
    "    \"s3fs\": s3fs,\n",
    "}\n",
    "path = \"/tmp/cache.unit_test/root.98e1cf5b88c3.app.TestCachingOnS3.test_with_caching1\"\n",
    "\n",
    "\n",
    "s3fs.ls(path)\n",
    "\n",
    "# mem = joblib.Memory(path, backend='s3', verbose=100, compress=True, backend_options=dict2)"
   ]
  },
  {
   "cell_type": "code",
   "execution_count": null,
   "metadata": {},
   "outputs": [],
   "source": [
    "print(dict_)"
   ]
  },
  {
   "cell_type": "code",
   "execution_count": null,
   "metadata": {},
   "outputs": [],
   "source": [
    "# dict_[\"bucket\"] = \"alphamatic-data/tmp\"\n",
    "\n",
    "print(dict_)"
   ]
  },
  {
   "cell_type": "code",
   "execution_count": null,
   "metadata": {},
   "outputs": [],
   "source": [
    "def dec(func=None, val=5):\n",
    "    if func is not None:\n",
    "        return"
   ]
  },
  {
   "cell_type": "code",
   "execution_count": null,
   "id": "68549a47",
   "metadata": {},
   "outputs": [],
   "source": []
  },
  {
   "cell_type": "code",
   "execution_count": null,
   "metadata": {},
   "outputs": [],
   "source": [
    "dict_ = hs3.get_aws_credentials(\"am\")\n",
    "print(dict_)\n",
    "# s3fs = hs3.get_s3fs(\"am\")\n",
    "# s3fs.ls(\"s3://alphamatic-data/tmp\")"
   ]
  },
  {
   "cell_type": "code",
   "execution_count": null,
   "metadata": {},
   "outputs": [],
   "source": [
    "s3fs.clear_instance_cache()"
   ]
  },
  {
   "cell_type": "code",
   "execution_count": null,
   "metadata": {},
   "outputs": [],
   "source": [
    "# import joblib\n",
    "\n",
    "# cachedir = \"./hello\"\n",
    "# memory = joblib.Memory(cachedir, verbose=0)\n",
    "\n",
    "\n",
    "@mem.cache()\n",
    "def f(x):\n",
    "    # hello\n",
    "    print(\"Running f(%s)\" % x)\n",
    "    return x\n",
    "\n",
    "\n",
    "f(1)"
   ]
  },
  {
   "cell_type": "code",
   "execution_count": null,
   "metadata": {},
   "outputs": [],
   "source": [
    "hcache.cache(set_verbose_mode=True)\n",
    "\n",
    "\n",
    "def hello():\n",
    "    return \"hello\"\n",
    "\n",
    "\n",
    "hello()"
   ]
  },
  {
   "cell_type": "markdown",
   "metadata": {},
   "source": [
    "## Memory cache"
   ]
  },
  {
   "cell_type": "code",
   "execution_count": null,
   "metadata": {},
   "outputs": [],
   "source": [
    "!ls /app/tmp.cache.disk/joblib/"
   ]
  },
  {
   "cell_type": "code",
   "execution_count": null,
   "metadata": {},
   "outputs": [],
   "source": [
    "!ls /mnt/tmpfs/tmp.cache.mem/joblib/lib"
   ]
  },
  {
   "cell_type": "code",
   "execution_count": null,
   "metadata": {},
   "outputs": [],
   "source": [
    "memory_cached_func = hcache._Cached(\n",
    "    func, use_mem_cache=True, use_disk_cache=False\n",
    ")\n",
    "\n",
    "print(memory_cached_func.get_function_cache_info())\n",
    "\n",
    "# cache_type = None\n",
    "# memory_cached_func.clear_function_cache(cache_type)\n",
    "\n",
    "hdbg.dassert_eq(memory_cached_func(*inputs), exp_output)\n",
    "hdbg.dassert_eq(memory_cached_func.get_last_cache_accessed(), \"no_cache\")\n",
    "\n",
    "hdbg.dassert_eq(memory_cached_func(*inputs), exp_output)\n",
    "hdbg.dassert_eq(memory_cached_func.get_last_cache_accessed(), \"mem\")\n",
    "\n",
    "print(\"memory caching checks passed\")"
   ]
  },
  {
   "cell_type": "code",
   "execution_count": null,
   "metadata": {},
   "outputs": [],
   "source": [
    "def computation_function(a, b):\n",
    "    # hello\n",
    "    # assert 0\n",
    "    out = a * b\n",
    "    print(\"Multiplication: %s * %s = %s\" % (a, b, out))\n",
    "    return out\n",
    "\n",
    "\n",
    "inputs = (1, 2)\n",
    "exp_output = 2\n",
    "\n",
    "hdbg.dassert_eq(memory_cached_computation(*inputs), exp_output)\n",
    "hdbg.dassert_eq(memory_cached_computation.get_last_cache_accessed(), \"mem\")"
   ]
  },
  {
   "cell_type": "markdown",
   "metadata": {},
   "source": [
    "## Disk cache"
   ]
  },
  {
   "cell_type": "code",
   "execution_count": null,
   "metadata": {},
   "outputs": [],
   "source": [
    "disk_cached_computation = hcache._Cached(\n",
    "    computation_function, use_mem_cache=False, use_disk_cache=True\n",
    ")\n",
    "\n",
    "disk_cached_computation.clear_function_cache(\"disk\")\n",
    "\n",
    "hdbg.dassert_eq(disk_cached_computation(*inputs), exp_output)\n",
    "hdbg.dassert_eq(disk_cached_computation.get_last_cache_accessed(), \"no_cache\")\n",
    "\n",
    "hdbg.dassert_eq(disk_cached_computation(*inputs), exp_output)\n",
    "hdbg.dassert_eq(disk_cached_computation.get_last_cache_accessed(), \"disk\")\n",
    "\n",
    "print(\"disk caching checks passed\")"
   ]
  },
  {
   "cell_type": "markdown",
   "metadata": {},
   "source": [
    "## Full cache"
   ]
  },
  {
   "cell_type": "code",
   "execution_count": null,
   "metadata": {},
   "outputs": [],
   "source": [
    "fully_cached_computation = hcache._Cached(\n",
    "    computation_function, use_mem_cache=True, use_disk_cache=True\n",
    ")\n",
    "\n",
    "fully_cached_computation.clear_function_cache()\n",
    "\n",
    "hdbg.dassert_eq(fully_cached_computation(*inputs), exp_output)\n",
    "hdbg.dassert_eq(fully_cached_computation.get_last_cache_accessed(), \"no_cache\")\n",
    "\n",
    "hdbg.dassert_eq(fully_cached_computation(*inputs), exp_output)\n",
    "hdbg.dassert_eq(fully_cached_computation.get_last_cache_accessed(), \"mem\")\n",
    "\n",
    "hdbg.dassert_eq(fully_cached_computation(*inputs), exp_output)\n",
    "hdbg.dassert_eq(fully_cached_computation.get_last_cache_accessed(), \"mem\")\n",
    "\n",
    "print(\"Clear mem cache\")\n",
    "fully_cached_computation.clear_function_cache(\"mem\")\n",
    "\n",
    "hdbg.dassert_eq(fully_cached_computation(*inputs), exp_output)\n",
    "hdbg.dassert_eq(fully_cached_computation.get_last_cache_accessed(), \"disk\")\n",
    "\n",
    "hdbg.dassert_eq(fully_cached_computation(*inputs), exp_output)\n",
    "hdbg.dassert_eq(fully_cached_computation.get_last_cache_accessed(), \"mem\")\n",
    "\n",
    "print(\"full caching checks passed\")"
   ]
  },
  {
   "cell_type": "code",
   "execution_count": null,
   "metadata": {},
   "outputs": [],
   "source": [
    "hdbg.dassert_eq(fully_cached_computation(*inputs), exp_output)\n",
    "hdbg.dassert_eq(fully_cached_computation.get_last_cache_accessed(), \"mem\")"
   ]
  },
  {
   "cell_type": "code",
   "execution_count": null,
   "metadata": {},
   "outputs": [],
   "source": [
    "# This should fail all the times, because we clear the memory cache.\n",
    "fully_cached_computation.clear_function_cache(\"mem\")\n",
    "hdbg.dassert_eq(fully_cached_computation(*inputs), exp_output)\n",
    "hdbg.dassert_eq(fully_cached_computation.get_last_cache_accessed(), \"mem\")"
   ]
  }
 ],
 "metadata": {
  "jupytext": {
   "formats": "ipynb,py:percent"
  },
  "kernelspec": {
   "display_name": "Python 3 (ipykernel)",
   "language": "python",
   "name": "python3"
  },
  "language_info": {
   "codemirror_mode": {
    "name": "ipython",
    "version": 3
   },
   "file_extension": ".py",
   "mimetype": "text/x-python",
   "name": "python",
   "nbconvert_exporter": "python",
   "pygments_lexer": "ipython3"
  },
  "toc": {
   "base_numbering": 1,
   "nav_menu": {},
   "number_sections": true,
   "sideBar": true,
   "skip_h1_title": false,
   "title_cell": "Table of Contents",
   "title_sidebar": "Contents",
   "toc_cell": false,
   "toc_position": {},
   "toc_section_display": true,
   "toc_window_display": false
  }
 },
 "nbformat": 4,
 "nbformat_minor": 1
}
