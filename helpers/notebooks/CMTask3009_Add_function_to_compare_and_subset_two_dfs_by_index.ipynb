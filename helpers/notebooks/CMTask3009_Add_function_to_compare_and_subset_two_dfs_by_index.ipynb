{
 "cells": [
  {
   "cell_type": "code",
   "execution_count": null,
   "id": "aecb2558",
   "metadata": {},
   "outputs": [],
   "source": [
    "import pandas as pd\n",
    "\n",
    "import helpers.hpandas as hpandas"
   ]
  },
  {
   "cell_type": "code",
   "execution_count": null,
   "id": "aa5d7da7",
   "metadata": {},
   "outputs": [],
   "source": [
    "timestamp_index1 = [\n",
    "    pd.Timestamp(\"2022-01-01 21:00:00+00:00\"),\n",
    "    pd.Timestamp(\"2022-01-01 21:01:00+00:00\"),\n",
    "    pd.Timestamp(\"2022-01-01 21:02:00+00:00\"),\n",
    "    pd.Timestamp(\"2022-01-01 21:03:00+00:00\"),\n",
    "    pd.Timestamp(\"2022-01-01 21:04:00+00:00\"),\n",
    "    pd.Timestamp(\"2022-01-01 21:05:00+00:00\"),\n",
    "    pd.Timestamp(\"2022-01-01 21:06:00+00:00\"),\n",
    "    pd.Timestamp(\"2022-01-01 21:06:00+00:00\"),\n",
    "]\n",
    "timestamp_index2 = [\n",
    "    pd.Timestamp(\"2022-01-01 21:02:00+00:00\"),\n",
    "    pd.Timestamp(\"2022-01-01 21:03:00+00:00\"),\n",
    "    pd.Timestamp(\"2022-01-01 21:04:00+00:00\"),\n",
    "    pd.Timestamp(\"2022-01-01 21:05:00+00:00\"),\n",
    "]\n",
    "timestamp_index3 = [\n",
    "    pd.Timestamp(\"2022-01-01 21:01:00+00:00\"),\n",
    "    pd.Timestamp(\"2022-01-01 21:02:00+00:00\"),\n",
    "    pd.Timestamp(\"2022-01-01 21:03:00+00:00\"),\n",
    "    pd.Timestamp(\"2022-01-01 21:04:00+00:00\"),\n",
    "]\n",
    "#\n",
    "value1 = {\"value1\": [None, None, 1, 2, 3, 4, 5, None]}\n",
    "value2 = {\"value2\": [1, 2, 3, None]}\n",
    "value3 = {\"value3\": [None, None, 1, 2]}\n",
    "#\n",
    "df1 = pd.DataFrame(value1, index=timestamp_index1)\n",
    "df2 = pd.DataFrame(value2, index=timestamp_index2)\n",
    "df3 = pd.DataFrame(value3, index=timestamp_index3)"
   ]
  },
  {
   "cell_type": "code",
   "execution_count": null,
   "id": "343dc68e",
   "metadata": {},
   "outputs": [],
   "source": [
    "tag_to_df = {\n",
    "    \"tag1\": df1,\n",
    "    \"tag2\": df2,\n",
    "    \"tag3\": df3,\n",
    "}\n",
    "# \n",
    "tag_to_df"
   ]
  },
  {
   "cell_type": "code",
   "execution_count": null,
   "id": "5499339b",
   "metadata": {},
   "outputs": [],
   "source": [
    "tag_dfs, stats = hpandas.compute_duration_df(tag_to_df, valid_intersect=True, intersect_dfs=True)\n",
    "stats"
   ]
  },
  {
   "cell_type": "code",
   "execution_count": null,
   "id": "a7add985",
   "metadata": {},
   "outputs": [],
   "source": [
    "tag_dfs"
   ]
  },
  {
   "cell_type": "code",
   "execution_count": null,
   "id": "0f82e00d",
   "metadata": {},
   "outputs": [],
   "source": [
    "tag_to_df"
   ]
  },
  {
   "cell_type": "code",
   "execution_count": null,
   "id": "b168580d",
   "metadata": {},
   "outputs": [],
   "source": []
  }
 ],
 "metadata": {
  "kernelspec": {
   "display_name": "Python 3 (ipykernel)",
   "language": "python",
   "name": "python3"
  },
  "language_info": {
   "codemirror_mode": {
    "name": "ipython",
    "version": 3
   },
   "file_extension": ".py",
   "mimetype": "text/x-python",
   "name": "python",
   "nbconvert_exporter": "python",
   "pygments_lexer": "ipython3"
  },
  "toc": {
   "base_numbering": 1,
   "nav_menu": {},
   "number_sections": true,
   "sideBar": true,
   "skip_h1_title": false,
   "title_cell": "Table of Contents",
   "title_sidebar": "Contents",
   "toc_cell": false,
   "toc_position": {},
   "toc_section_display": true,
   "toc_window_display": false
  }
 },
 "nbformat": 4,
 "nbformat_minor": 5
}
