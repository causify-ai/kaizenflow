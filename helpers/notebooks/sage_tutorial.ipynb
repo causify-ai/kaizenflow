{
 "cells": [
  {
   "cell_type": "markdown",
   "id": "ae351077",
   "metadata": {},
   "source": [
    "# Maple\n",
    "\n",
    "https://www.sagemath.org/"
   ]
  },
  {
   "cell_type": "code",
   "execution_count": null,
   "id": "67b105e6",
   "metadata": {},
   "outputs": [],
   "source": [
    "!sudo /bin/bash -c \"(source /venv/bin/activate; pip install sagemath)\""
   ]
  },
  {
   "cell_type": "code",
   "execution_count": null,
   "id": "70f1c613",
   "metadata": {},
   "outputs": [],
   "source": []
  },
  {
   "cell_type": "markdown",
   "id": "8dd49c0c",
   "metadata": {},
   "source": [
    "# Sympy"
   ]
  },
  {
   "cell_type": "code",
   "execution_count": null,
   "id": "bab397f4",
   "metadata": {},
   "outputs": [],
   "source": [
    "!sudo /bin/bash -c \"(source /venv/bin/activate; pip install sympy)\""
   ]
  },
  {
   "cell_type": "markdown",
   "id": "c32a78b2",
   "metadata": {},
   "source": [
    "## Features\n",
    "\n",
    "https://docs.sympy.org/latest/tutorials/intro-tutorial/features.html#"
   ]
  },
  {
   "cell_type": "markdown",
   "id": "547104ae",
   "metadata": {},
   "source": [
    "## Logic\n",
    "\n",
    "https://docs.sympy.org/latest/tutorials/intro-tutorial/intro.html#what-is-symbolic-computation"
   ]
  },
  {
   "cell_type": "code",
   "execution_count": null,
   "id": "016ffec6",
   "metadata": {},
   "outputs": [],
   "source": [
    "from sympy import *"
   ]
  },
  {
   "cell_type": "code",
   "execution_count": null,
   "id": "15a65c7c",
   "metadata": {},
   "outputs": [],
   "source": [
    "x, y = symbols('x,y')\n",
    "y | (x & y)"
   ]
  },
  {
   "cell_type": "code",
   "execution_count": null,
   "id": "c016e526",
   "metadata": {},
   "outputs": [],
   "source": [
    "x >> y"
   ]
  },
  {
   "cell_type": "code",
   "execution_count": null,
   "id": "961ab5b7",
   "metadata": {},
   "outputs": [],
   "source": [
    "# Evaluate an expression.\n",
    "(y & x).subs({x: True, y: True})"
   ]
  },
  {
   "cell_type": "code",
   "execution_count": null,
   "id": "d36a6df4",
   "metadata": {},
   "outputs": [],
   "source": [
    "w, x, y, z = symbols('w x y z')\n",
    "minterms = [{w: 0, x: 1}, {y: 1, z: 1, x:0}]\n",
    "SOPform([w, x, y, z], minterms)"
   ]
  },
  {
   "cell_type": "code",
   "execution_count": null,
   "id": "351f8a29",
   "metadata": {},
   "outputs": [],
   "source": [
    "b = (~x & ~y & ~z) | ( ~x & ~y & z)\n",
    "simplify_logic(b)"
   ]
  },
  {
   "cell_type": "code",
   "execution_count": null,
   "id": "6997a50b",
   "metadata": {},
   "outputs": [],
   "source": [
    "# Compute truth table.\n",
    "from sympy.logic.boolalg import truth_table\n",
    "table = truth_table(x >> y, [x, y])\n",
    "for t in table:\n",
    "    print(f\"{t[0]} -> {t[1]}\")"
   ]
  },
  {
   "cell_type": "code",
   "execution_count": null,
   "id": "c70e51cf",
   "metadata": {},
   "outputs": [],
   "source": [
    "satisfiable(x & ~x)"
   ]
  },
  {
   "cell_type": "code",
   "execution_count": null,
   "id": "f9d0eda7",
   "metadata": {},
   "outputs": [],
   "source": [
    "satisfiable((x | y) & (x | ~y) & (~x | y))"
   ]
  },
  {
   "cell_type": "code",
   "execution_count": null,
   "id": "782bd93c",
   "metadata": {},
   "outputs": [],
   "source": [
    "# - (not L => Q and B and N)\n",
    "# - (N => not L)\n",
    "# - not Q => B\n",
    "# - not B\n",
    "\n",
    "L, N, Q, B = symbols('L N Q B')\n",
    "\n",
    "C = Implies(~L, Q & B & N) & Implies(N, ~L) & Implies(~Q, B) & ~B\n",
    "satisfiable(C)"
   ]
  },
  {
   "cell_type": "code",
   "execution_count": null,
   "id": "1298f34b",
   "metadata": {},
   "outputs": [],
   "source": [
    "## Stats\n",
    "\n",
    "https://docs.sympy.org/latest/modules/stats.html#"
   ]
  }
 ],
 "metadata": {
  "kernelspec": {
   "display_name": "Python 3 (ipykernel)",
   "language": "python",
   "name": "python3"
  },
  "language_info": {
   "codemirror_mode": {
    "name": "ipython",
    "version": 3
   },
   "file_extension": ".py",
   "mimetype": "text/x-python",
   "name": "python",
   "nbconvert_exporter": "python",
   "pygments_lexer": "ipython3"
  },
  "toc": {
   "base_numbering": 1,
   "nav_menu": {},
   "number_sections": true,
   "sideBar": true,
   "skip_h1_title": false,
   "title_cell": "Table of Contents",
   "title_sidebar": "Contents",
   "toc_cell": false,
   "toc_position": {},
   "toc_section_display": true,
   "toc_window_display": false
  }
 },
 "nbformat": 4,
 "nbformat_minor": 5
}
