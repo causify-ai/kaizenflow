{
 "cells": [
  {
   "cell_type": "code",
   "execution_count": null,
   "id": "a510ec6a",
   "metadata": {},
   "outputs": [],
   "source": [
    "import pandas as pd\n",
    "import numpy as np\n",
    "import helpers.hpandas as hpandas\n"
   ]
  },
  {
   "cell_type": "markdown",
   "id": "f80391b8",
   "metadata": {},
   "source": [
    "# Create DataFrame"
   ]
  },
  {
   "cell_type": "code",
   "execution_count": null,
   "id": "9db8eab0",
   "metadata": {},
   "outputs": [],
   "source": [
    "timestamp_index = [\n",
    "    pd.Timestamp(\"2022-01-01 21:01:00+00:00\"),\n",
    "    pd.Timestamp(\"2022-01-01 21:02:00+00:00\"),\n",
    "    pd.Timestamp(\"2022-01-01 21:03:00+00:00\"),\n",
    "    pd.Timestamp(\"2022-01-01 21:04:00+00:00\"),\n",
    "    pd.Timestamp(\"2022-01-01 21:05:00+00:00\"),\n",
    "]\n",
    "#\n",
    "iterables = [[\"asset1\", \"asset2\"], [\"open\", \"high\", \"low\", \"close\"]]\n",
    "#\n",
    "index = pd.MultiIndex.from_product(iterables, names=[None, \"timestamp\"])\n",
    "#\n",
    "nums = np.array(\n",
    "    [\n",
    "        [\n",
    "            0.77650806,\n",
    "            0.12492164,\n",
    "            -0.35929232,\n",
    "            1.04137784,\n",
    "            0.20099949,\n",
    "            1.4078602,\n",
    "            -0.1317103,\n",
    "            0.10023361,\n",
    "        ],\n",
    "        [\n",
    "            -0.56299812,\n",
    "            0.79105046,\n",
    "            0.76612895,\n",
    "            -1.49935339,\n",
    "            -1.05923797,\n",
    "            0.06039862,\n",
    "            -0.77652117,\n",
    "            2.04578691,\n",
    "        ],\n",
    "        [\n",
    "            0.77348467,\n",
    "            0.45237724,\n",
    "            1.61051308,\n",
    "            0.41800008,\n",
    "            0.20838053,\n",
    "            -0.48289112,\n",
    "            1.03015762,\n",
    "            0.17123323,\n",
    "        ],\n",
    "        [\n",
    "            0.40486053,\n",
    "            0.88037142,\n",
    "            -1.94567068,\n",
    "            -1.51714645,\n",
    "            -0.52759748,\n",
    "            -0.31592803,\n",
    "            1.50826723,\n",
    "            -0.50215196,\n",
    "        ],\n",
    "        [\n",
    "            0.17409714,\n",
    "            -2.13997243,\n",
    "            -0.18530403,\n",
    "            -0.48807381,\n",
    "            0.5621593,\n",
    "            0.25899393,\n",
    "            1.14069646,\n",
    "            2.07721856,\n",
    "        ],\n",
    "    ]\n",
    ")\n",
    "#\n",
    "df = pd.DataFrame(nums, index=timestamp_index, columns=index)\n",
    "#\n",
    "df"
   ]
  },
  {
   "cell_type": "markdown",
   "id": "23b04ae5",
   "metadata": {},
   "source": [
    "# Define filtering function"
   ]
  },
  {
   "cell_type": "code",
   "execution_count": null,
   "id": "074e9480",
   "metadata": {},
   "outputs": [],
   "source": [
    "def subset_multiindex_df(\n",
    "    df: pd.DataFrame, start_timestamp=None, end_timestamp=None, columns_level0=None, columns_level1=None\n",
    ") -> pd.DataFrame:\n",
    "    \"\"\"\n",
    "    Filter DataFrame with column MultiIndex by timestamp index, and column\n",
    "    levels.\n",
    "\n",
    "    :param timestamp: either one specific date or range between two dates\n",
    "    :param columns_level0: asset-specific column name (e.g., `binance::BTC_USDT`)\n",
    "    :param columns_level1: data-specific column name (e.g., `close`)\n",
    "    :return: filtered DataFrame\n",
    "    \"\"\"\n",
    "    # Filter by timestamp.\n",
    "    # TODO(Max): Add an assertion for original timestamp range vs. given one.\n",
    "    df = hpandas.trim_df(\n",
    "        df,\n",
    "        ts_col_name = None,\n",
    "        start_ts = start_timestamp,\n",
    "        end_ts = end_timestamp,\n",
    "        left_close = True,\n",
    "        right_close= True,\n",
    "    )\n",
    "    # Filter by asset_id (level 0).\n",
    "    # TODO(Max): Add an assertion that given asset ids are in original columns.\n",
    "    if columns_level0:\n",
    "        df = df[columns_level0]\n",
    "    # Filter by column name (level 1).\n",
    "    # TODO(Max): Add an assertion that given column names are in original columns.\n",
    "    if columns_level1:\n",
    "        df = df.swaplevel(axis=1)[columns_level1].swaplevel(axis=1)\n",
    "    return df"
   ]
  },
  {
   "cell_type": "markdown",
   "id": "1335798b",
   "metadata": {},
   "source": [
    "# Examples"
   ]
  },
  {
   "cell_type": "code",
   "execution_count": null,
   "id": "b9168717",
   "metadata": {},
   "outputs": [],
   "source": [
    "subset_multiindex_df(\n",
    "    df,\n",
    "    start_timestamp=pd.Timestamp(\"2022-01-01 21:01:00+00:00\"),\n",
    "    end_timestamp=pd.Timestamp(\"2022-01-01 21:03:00+00:00\"),\n",
    "    columns_level0=[\"asset1\"],\n",
    "    columns_level1=[\"high\", \"low\"],\n",
    ")"
   ]
  },
  {
   "cell_type": "code",
   "execution_count": null,
   "id": "0e72b6d1",
   "metadata": {},
   "outputs": [],
   "source": [
    "subset_multiindex_df(\n",
    "    df,\n",
    "    start_timestamp=pd.Timestamp(\"2022-01-01 21:01:00+00:00\"),\n",
    "    end_timestamp=pd.Timestamp(\"2022-01-01 21:03:00+00:00\"),\n",
    "    columns_level0=[\"asset2\"],\n",
    "    columns_level1=[\"close\"],\n",
    ")"
   ]
  },
  {
   "cell_type": "code",
   "execution_count": null,
   "id": "fec0a47e",
   "metadata": {},
   "outputs": [],
   "source": [
    "subset_multiindex_df(\n",
    "    df,\n",
    "    start_timestamp=pd.Timestamp(\"2022-01-01 21:01:00+00:00\"),\n",
    "    end_timestamp=pd.Timestamp(\"2022-01-01 21:01:00+00:00\"),\n",
    "    columns_level1=[\"open\", \"close\"],\n",
    ")"
   ]
  }
 ],
 "metadata": {
  "kernelspec": {
   "display_name": "Python 3 (ipykernel)",
   "language": "python",
   "name": "python3"
  },
  "language_info": {
   "codemirror_mode": {
    "name": "ipython",
    "version": 3
   },
   "file_extension": ".py",
   "mimetype": "text/x-python",
   "name": "python",
   "nbconvert_exporter": "python",
   "pygments_lexer": "ipython3"
  },
  "toc": {
   "base_numbering": 1,
   "nav_menu": {},
   "number_sections": true,
   "sideBar": true,
   "skip_h1_title": false,
   "title_cell": "Table of Contents",
   "title_sidebar": "Contents",
   "toc_cell": false,
   "toc_position": {},
   "toc_section_display": true,
   "toc_window_display": false
  }
 },
 "nbformat": 4,
 "nbformat_minor": 5
}
