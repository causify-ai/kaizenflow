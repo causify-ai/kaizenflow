{
 "cells": [
  {
   "cell_type": "code",
   "execution_count": null,
   "id": "81a273af",
   "metadata": {},
   "outputs": [],
   "source": [
    "# https://s3fs.readthedocs.io/en/latest/"
   ]
  },
  {
   "cell_type": "code",
   "execution_count": null,
   "id": "8fef0639",
   "metadata": {},
   "outputs": [],
   "source": [
    "%load_ext autoreload\n",
    "%autoreload 3"
   ]
  },
  {
   "cell_type": "code",
   "execution_count": null,
   "id": "37fe11a3",
   "metadata": {},
   "outputs": [],
   "source": [
    "\n",
    "import helpers.hs3 as hs3"
   ]
  },
  {
   "cell_type": "code",
   "execution_count": null,
   "id": "a4130a2c",
   "metadata": {},
   "outputs": [],
   "source": [
    "aws_profile = \"am\""
   ]
  },
  {
   "cell_type": "code",
   "execution_count": null,
   "id": "a49a28ff",
   "metadata": {},
   "outputs": [],
   "source": [
    "# s3 = s3fs.S3FileSystem(anon=False, key=aws_access_key_id, secret=aws_secret_access_key)\n",
    "\n",
    "s3 = hs3.get_s3fs(aws_profile)"
   ]
  },
  {
   "cell_type": "code",
   "execution_count": null,
   "id": "1795133f",
   "metadata": {},
   "outputs": [],
   "source": [
    "bucket = hs3.get_s3_bucket_path(aws_profile, add_s3_prefix=False)\n",
    "print(\"bucket=%s\" % bucket)\n",
    "s3.ls(bucket)"
   ]
  },
  {
   "cell_type": "code",
   "execution_count": null,
   "id": "9bc9623e",
   "metadata": {},
   "outputs": [],
   "source": [
    "s3.ls(bucket)"
   ]
  },
  {
   "cell_type": "code",
   "execution_count": null,
   "id": "65f95a8a",
   "metadata": {},
   "outputs": [],
   "source": [
    "import os\n",
    "\n",
    "print(os.environ[\"AWS_DEFAULT_REGION\"])"
   ]
  }
 ],
 "metadata": {
  "kernelspec": {
   "display_name": "Python 3",
   "language": "python",
   "name": "python3"
  },
  "language_info": {
   "codemirror_mode": {
    "name": "ipython",
    "version": 3
   },
   "file_extension": ".py",
   "mimetype": "text/x-python",
   "name": "python",
   "nbconvert_exporter": "python",
   "pygments_lexer": "ipython3"
  },
  "toc": {
   "base_numbering": 1,
   "nav_menu": {},
   "number_sections": true,
   "sideBar": true,
   "skip_h1_title": false,
   "title_cell": "Table of Contents",
   "title_sidebar": "Contents",
   "toc_cell": false,
   "toc_position": {},
   "toc_section_display": true,
   "toc_window_display": false
  }
 },
 "nbformat": 4,
 "nbformat_minor": 5
}
