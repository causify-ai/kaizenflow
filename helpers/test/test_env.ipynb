{
 "cells": [
  {
   "cell_type": "code",
   "execution_count": 1,
   "id": "81062d81",
   "metadata": {
    "ExecuteTime": {
     "end_time": "2024-03-05T21:26:14.249871Z",
     "start_time": "2024-03-05T21:26:14.242168Z"
    }
   },
   "outputs": [],
   "source": [
    "import logging"
   ]
  },
  {
   "cell_type": "code",
   "execution_count": 2,
   "id": "d38c0e06",
   "metadata": {
    "ExecuteTime": {
     "end_time": "2024-03-05T21:26:17.074675Z",
     "start_time": "2024-03-05T21:26:15.846323Z"
    }
   },
   "outputs": [],
   "source": [
    "import helpers.henv as henv\n",
    "import helpers.hunit_test as hunitest"
   ]
  },
  {
   "cell_type": "code",
   "execution_count": 3,
   "id": "b5fbd24f",
   "metadata": {
    "ExecuteTime": {
     "end_time": "2024-03-05T21:26:17.587819Z",
     "start_time": "2024-03-05T21:26:17.582098Z"
    }
   },
   "outputs": [],
   "source": [
    "_LOG = logging.getLogger(__name__)"
   ]
  },
  {
   "cell_type": "code",
   "execution_count": 4,
   "id": "f65f24e1",
   "metadata": {
    "ExecuteTime": {
     "end_time": "2024-03-05T21:26:19.436895Z",
     "start_time": "2024-03-05T21:26:19.428188Z"
    },
    "lines_to_next_cell": 2
   },
   "outputs": [],
   "source": [
    "class Test_env1(hunitest.TestCase):\n",
    "    def test_get_system_signature1(self) -> None:\n",
    "        txt = henv.get_system_signature()\n",
    "        _LOG.debug(txt)\n",
    "\n",
    "    def test_has_module1(self) -> None:\n",
    "        \"\"\"\n",
    "        Check that the function returns true for the existing package.\n",
    "        \"\"\"\n",
    "        self.assertTrue(henv.has_module(\"numpy\"))\n",
    "\n",
    "    def test_has_not_module1(self) -> None:\n",
    "        \"\"\"\n",
    "        Check that the function returns false for the non-existing package.\n",
    "        \"\"\"\n",
    "        self.assertFalse(henv.has_module(\"no_such_module\"))"
   ]
  },
  {
   "cell_type": "markdown",
   "id": "ea5f64b5",
   "metadata": {
    "lines_to_next_cell": 2
   },
   "source": [
    "#############################################################################"
   ]
  },
  {
   "cell_type": "code",
   "execution_count": 5,
   "id": "856671d9",
   "metadata": {
    "ExecuteTime": {
     "end_time": "2024-03-05T21:26:22.583875Z",
     "start_time": "2024-03-05T21:26:22.573094Z"
    }
   },
   "outputs": [],
   "source": [
    "class Test_execute_repo_config_code1(hunitest.TestCase):\n",
    "    \"\"\"\n",
    "    Make sure we can execute the code from `repo_config.py`.\n",
    "    \"\"\"\n",
    "\n",
    "    def test_get_repo_map1(self) -> None:\n",
    "        self._exec(\"get_repo_map()\")\n",
    "\n",
    "    def test_get_host_name1(self) -> None:\n",
    "        self._exec(\"get_host_name()\")\n",
    "\n",
    "    def test_get_docker_base_image_name1(self) -> None:\n",
    "        self._exec(\"get_docker_base_image_name()\")\n",
    "\n",
    "    def test_has_didn_support1(self) -> None:\n",
    "        self._exec(\"has_dind_support()\")\n",
    "\n",
    "    def _exec(self, code_to_execute: str) -> None:\n",
    "        val = henv.execute_repo_config_code(code_to_execute)\n",
    "        _LOG.debug(\"%s=%s\", code_to_execute, val)"
   ]
  },
  {
   "cell_type": "code",
   "execution_count": null,
   "id": "2cd97c5d",
   "metadata": {},
   "outputs": [],
   "source": []
  }
 ],
 "metadata": {
  "jupytext": {
   "cell_metadata_filter": "-all",
   "main_language": "python",
   "notebook_metadata_filter": "-all"
  },
  "kernelspec": {
   "display_name": "Python 3 (ipykernel)",
   "language": "python",
   "name": "python3"
  },
  "language_info": {
   "codemirror_mode": {
    "name": "ipython",
    "version": 3
   },
   "file_extension": ".py",
   "mimetype": "text/x-python",
   "name": "python",
   "nbconvert_exporter": "python",
   "pygments_lexer": "ipython3",
   "version": "3.9.5"
  },
  "toc": {
   "base_numbering": 1,
   "nav_menu": {},
   "number_sections": true,
   "sideBar": true,
   "skip_h1_title": false,
   "title_cell": "Table of Contents",
   "title_sidebar": "Contents",
   "toc_cell": false,
   "toc_position": {},
   "toc_section_display": true,
   "toc_window_display": false
  }
 },
 "nbformat": 4,
 "nbformat_minor": 5
}
