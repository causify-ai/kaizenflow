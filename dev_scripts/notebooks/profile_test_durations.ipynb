{
 "cells": [
  {
   "cell_type": "markdown",
   "id": "46b7e2e1",
   "metadata": {},
   "source": [
    "# Description"
   ]
  },
  {
   "cell_type": "markdown",
   "id": "1370a7fd",
   "metadata": {},
   "source": [
    "Profile tests durations for test list."
   ]
  },
  {
   "cell_type": "markdown",
   "id": "67db3906",
   "metadata": {},
   "source": [
    "# Imports"
   ]
  },
  {
   "cell_type": "code",
   "execution_count": null,
   "id": "35c13bc0",
   "metadata": {},
   "outputs": [],
   "source": [
    "import logging\n",
    "import re\n",
    "\n",
    "import matplotlib.pyplot as plt\n",
    "\n",
    "import helpers.hdbg as hdbg\n",
    "import helpers.henv as henv\n",
    "import helpers.hio as hio\n",
    "import helpers.hprint as hprint"
   ]
  },
  {
   "cell_type": "code",
   "execution_count": null,
   "id": "99d03c4b",
   "metadata": {},
   "outputs": [],
   "source": [
    "hdbg.init_logger(verbosity=logging.INFO)\n",
    "\n",
    "_LOG = logging.getLogger(__name__)\n",
    "\n",
    "_LOG.info(\"%s\", henv.get_system_signature()[0])\n",
    "\n",
    "hprint.config_notebook()"
   ]
  },
  {
   "cell_type": "code",
   "execution_count": null,
   "id": "8a8b27e7",
   "metadata": {},
   "outputs": [],
   "source": [
    "# `test_list_name` can be \"fast_tests\", \"slow_tests\", \"superslow_tests\",\n",
    "# and \"fast_slow_tests\".\n",
    "\n",
    "config = {\"test_list_name\": \"fast_slow_tests\"}"
   ]
  },
  {
   "cell_type": "markdown",
   "id": "e2f1abe9",
   "metadata": {},
   "source": [
    "# Functions"
   ]
  },
  {
   "cell_type": "code",
   "execution_count": null,
   "id": "33da7bf3",
   "metadata": {},
   "outputs": [],
   "source": [
    "def get_profiling_command(test_list_name: str):\n",
    "    \"\"\"\n",
    "    Get command for profiling selected test type.\n",
    "\n",
    "    Output command needs to be run from the command line outside the\n",
    "    notebook and container.\n",
    "    \"\"\"\n",
    "    hdbg.dassert_in(\n",
    "        test_list_name,\n",
    "        [\"fast_tests\", \"slow_tests\", \"superslow_tests\", \"fast_slow_tests\"],\n",
    "    )\n",
    "    command = f\"invoke run_{test_list_name} -p 'dev_scripts --durations 0' 2>&1 | tee tmp.{test_list_name}_profile.txt\"\n",
    "    return command"
   ]
  },
  {
   "cell_type": "markdown",
   "id": "b03d600b",
   "metadata": {},
   "source": [
    "# Profile"
   ]
  },
  {
   "cell_type": "code",
   "execution_count": null,
   "id": "0caa80c3",
   "metadata": {},
   "outputs": [],
   "source": [
    "print(get_profiling_command(config[\"test_list_name\"]))"
   ]
  },
  {
   "cell_type": "markdown",
   "id": "0dafe2a0",
   "metadata": {},
   "source": [
    "You need to post this command to the terminal and wait for the tests to pass."
   ]
  },
  {
   "cell_type": "code",
   "execution_count": null,
   "id": "a0307eaa",
   "metadata": {},
   "outputs": [],
   "source": [
    "test_output = hio.from_file(f\"/app/tmp.{config['test_list_name']}_profile.txt\")"
   ]
  },
  {
   "cell_type": "code",
   "execution_count": null,
   "id": "0342da9b",
   "metadata": {},
   "outputs": [],
   "source": [
    "print(test_output)"
   ]
  },
  {
   "cell_type": "markdown",
   "id": "cebe460d",
   "metadata": {},
   "source": [
    "Let's profile only calls, ignoring setups and teardowns."
   ]
  },
  {
   "cell_type": "code",
   "execution_count": null,
   "id": "c6a9fb86",
   "metadata": {},
   "outputs": [],
   "source": [
    "durations = re.findall(\"\\n  ==> (.*)s call\", test_output)\n",
    "durations = [float(duration) for duration in durations]\n",
    "durations"
   ]
  },
  {
   "cell_type": "code",
   "execution_count": null,
   "id": "b00215b4",
   "metadata": {
    "run_control": {
     "marked": true
    }
   },
   "outputs": [],
   "source": [
    "plt.hist(durations)\n",
    "_ = plt.title(f\"Durations of {config['test_list_name']} in seconds\")"
   ]
  },
  {
   "cell_type": "code",
   "execution_count": null,
   "id": "87e71bda",
   "metadata": {},
   "outputs": [],
   "source": []
  }
 ],
 "metadata": {
  "kernelspec": {
   "display_name": "Python 3 (ipykernel)",
   "language": "python",
   "name": "python3"
  },
  "language_info": {
   "codemirror_mode": {
    "name": "ipython",
    "version": 3
   },
   "file_extension": ".py",
   "mimetype": "text/x-python",
   "name": "python",
   "nbconvert_exporter": "python",
   "pygments_lexer": "ipython3"
  },
  "toc": {
   "base_numbering": 1,
   "nav_menu": {},
   "number_sections": true,
   "sideBar": true,
   "skip_h1_title": false,
   "title_cell": "Table of Contents",
   "title_sidebar": "Contents",
   "toc_cell": false,
   "toc_position": {},
   "toc_section_display": true,
   "toc_window_display": false
  }
 },
 "nbformat": 4,
 "nbformat_minor": 5
}
