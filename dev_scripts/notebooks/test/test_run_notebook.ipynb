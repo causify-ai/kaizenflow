{
 "cells": [
  {
   "cell_type": "code",
   "execution_count": null,
   "id": "162015a8",
   "metadata": {},
   "outputs": [],
   "source": [
    "\"\"\"\n",
    "Import as:\n",
    "\n",
    "import dev_scripts.notebooks.test_run_notebook as dsntruno\n",
    "\"\"\""
   ]
  },
  {
   "cell_type": "code",
   "execution_count": null,
   "id": "4a75a56d",
   "metadata": {},
   "outputs": [],
   "source": [
    "import logging\n",
    "import os"
   ]
  },
  {
   "cell_type": "code",
   "execution_count": null,
   "id": "1c9390b3",
   "metadata": {},
   "outputs": [],
   "source": [
    "import pytest"
   ]
  },
  {
   "cell_type": "code",
   "execution_count": null,
   "id": "0d06c440",
   "metadata": {},
   "outputs": [],
   "source": [
    "import core.config as cconfig\n",
    "import helpers.hdbg as hdbg\n",
    "import helpers.hgit as hgit\n",
    "import helpers.hsystem as hsystem\n",
    "import helpers.hunit_test as hunitest"
   ]
  },
  {
   "cell_type": "code",
   "execution_count": null,
   "id": "ddf79afd",
   "metadata": {},
   "outputs": [],
   "source": [
    "_LOG = logging.getLogger(__name__)"
   ]
  },
  {
   "cell_type": "code",
   "execution_count": null,
   "id": "1745ad83",
   "metadata": {},
   "outputs": [],
   "source": [
    "def config_builder(fail: bool) -> cconfig.Config:\n",
    "    \"\"\"\n",
    "    Simple config builder for the test.\n",
    "    \"\"\"\n",
    "    # Build a simple config for test.\n",
    "    config = {\"fail\": fail}\n",
    "    config = cconfig.Config().from_dict(config)\n",
    "    config_list = cconfig.ConfigList([config])\n",
    "    return config_list"
   ]
  },
  {
   "cell_type": "code",
   "execution_count": null,
   "id": "4ad2c31c",
   "metadata": {},
   "outputs": [],
   "source": [
    "# TODO(Grisha): re-use `Test_Run_Notebook_TestCase`.\n",
    "@pytest.mark.slow(\"~15 sec.\")\n",
    "class TestRunNotebook(hunitest.TestCase):\n",
    "    def helper(self, fail: bool, allow_errors: bool) -> int:\n",
    "        \"\"\"\n",
    "        Run the test notebook.\n",
    "\n",
    "        :param fail: the notebook breaks if True otherwise it does not break\n",
    "        :param allow_errors: if `True`, run the notebook until the end\n",
    "            regardless of any error in it\n",
    "        :return: return code as int\n",
    "        \"\"\"\n",
    "        # Get notebook path.\n",
    "        amp_dir = hgit.get_amp_abs_path()\n",
    "        input_dir = self.get_input_dir(use_only_test_class=True)\n",
    "        notebook_name = \"simple_notebook.ipynb\"\n",
    "        notebook_path = os.path.join(amp_dir, input_dir, notebook_name)\n",
    "        #\n",
    "        dst_dir = self.get_scratch_space()\n",
    "        script_path = os.path.join(\n",
    "            amp_dir, \"dev_scripts/notebooks\", \"run_notebook.py\"\n",
    "        )\n",
    "        # Build a command to run the notebook.\n",
    "        opts = \"--num_threads 'serial' --publish_notebook -v DEBUG 2>&1\"\n",
    "        config_builder = (\n",
    "            f\"dev_scripts.notebooks.test.test_run_notebook.config_builder({fail})\"\n",
    "        )\n",
    "        cmd_run_txt = [\n",
    "            f\"{script_path}\",\n",
    "            f\"--notebook {notebook_path}\",\n",
    "            f\"--config_builder '{config_builder}'\",\n",
    "            f\"--dst_dir {dst_dir}\",\n",
    "            f\"{opts}\",\n",
    "        ]\n",
    "        if allow_errors:\n",
    "            cmd_run_txt.insert(4, \"--allow_errors\")\n",
    "        cmd_run_txt = \" \".join(cmd_run_txt)\n",
    "        cmd_txt = []\n",
    "        cmd_txt.append(cmd_run_txt)\n",
    "        cmd_txt = \"\\n\".join(cmd_txt)\n",
    "        _LOG.debug(\"cmd=%s\", cmd_txt)\n",
    "        # Exucute.\n",
    "        rc = hsystem.system(cmd_txt, abort_on_error=False, log_level=\"echo\")\n",
    "        _LOG.debug(\"rc=%s\", rc)\n",
    "        # Check if notebook is published.\n",
    "        cmd = f\"find {dst_dir} -name '*.html'\"\n",
    "        _, file_path = hsystem.system_to_string(cmd)\n",
    "        _LOG.debug(\"file_path=%s\", file_path)\n",
    "        hdbg.dassert_file_exists(file_path)\n",
    "        return rc\n",
    "\n",
    "    def test1(self) -> None:\n",
    "        \"\"\"\n",
    "        The broken notebook is executed successfully and is published regardless\n",
    "        of errors.\n",
    "        \"\"\"\n",
    "        fail = True\n",
    "        allow_errors = True\n",
    "        actual = self.helper(fail, allow_errors)\n",
    "        expected = 0\n",
    "        self.assertEqual(actual, expected)\n",
    "\n",
    "    def test2(self) -> None:\n",
    "        \"\"\"\n",
    "        The broken notebook fails but it is published regardless of errors.\n",
    "        \"\"\"\n",
    "        fail = True\n",
    "        allow_errors = False\n",
    "        actual = self.helper(fail, allow_errors)\n",
    "        expected = 0\n",
    "        self.assertNotEqual(actual, expected)\n",
    "\n",
    "    def test3(self) -> None:\n",
    "        \"\"\"\n",
    "        The notebook that is not broken is executed successfully and is\n",
    "        published.\n",
    "        \"\"\"\n",
    "        fail = False\n",
    "        allow_errors = False\n",
    "        actual = self.helper(fail, allow_errors)\n",
    "        expected = 0\n",
    "        self.assertEqual(actual, expected)"
   ]
  }
 ],
 "metadata": {
  "jupytext": {
   "formats": "ipynb,py:percent"
  },
  "kernelspec": {
   "display_name": "Python 3 (ipykernel)",
   "language": "python",
   "name": "python3"
  },
  "language_info": {
   "codemirror_mode": {
    "name": "ipython",
    "version": 3
   },
   "file_extension": ".py",
   "mimetype": "text/x-python",
   "name": "python",
   "nbconvert_exporter": "python",
   "pygments_lexer": "ipython3"
  },
  "toc": {
   "base_numbering": 1,
   "nav_menu": {},
   "number_sections": true,
   "sideBar": true,
   "skip_h1_title": false,
   "title_cell": "Table of Contents",
   "title_sidebar": "Contents",
   "toc_cell": false,
   "toc_position": {},
   "toc_section_display": true,
   "toc_window_display": false
  }
 },
 "nbformat": 4,
 "nbformat_minor": 4
}
