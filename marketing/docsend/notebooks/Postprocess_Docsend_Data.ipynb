{
 "cells": [
  {
   "cell_type": "markdown",
   "id": "b55ecb85",
   "metadata": {},
   "source": [
    "# Description\n",
    "\n",
    "This notebook is used for prototyping ways to post-process `docsend` data that has been exported to a Google Sheet in GDrive.\n",
    "\n",
    "- Getting the `docsend` data using this Zapier connection might be good if used properly in conjunction with the GSheets API: https://zapier.com/apps/docsend/integrations/google-sheets/175058/create-google-sheet-rows-for-new-visits-in-docsend"
   ]
  },
  {
   "cell_type": "markdown",
   "id": "610ee511",
   "metadata": {},
   "source": [
    "## Instructions\n",
    "\n",
    "- Follow the directions here for *Client Credentials* and follow the *Service Account Route* : https://gspread-pandas.readthedocs.io/en/latest/getting_started.html\n",
    "    - Remember to save your credentials to the gspread_pandas folder\n",
    "- Get the email of your service account\n",
    "    - This can be found under Service Accounts header in the Credentials Tab of your project\n",
    "- Share your Google Sheets file with the service account email(press Share top right)\n",
    "- Rename the `gsheets_name` variable to the name of the file"
   ]
  },
  {
   "cell_type": "code",
   "execution_count": 11,
   "id": "9eefe02f",
   "metadata": {
    "ExecuteTime": {
     "end_time": "2023-12-13T20:05:18.872814Z",
     "start_time": "2023-12-13T20:05:13.679016Z"
    },
    "scrolled": true
   },
   "outputs": [
    {
     "name": "stdout",
     "output_type": "stream",
     "text": [
      "Requirement already satisfied: gspread-pandas in /venv/lib/python3.9/site-packages (3.2.3)\n",
      "Requirement already satisfied: google-auth in /venv/lib/python3.9/site-packages (from gspread-pandas) (2.23.2)\n",
      "Requirement already satisfied: pandas>=0.20.0 in /venv/lib/python3.9/site-packages (from gspread-pandas) (2.1.1)\n",
      "Requirement already satisfied: gspread>=5.0.0 in /venv/lib/python3.9/site-packages (from gspread-pandas) (5.11.3)\n",
      "Requirement already satisfied: decorator in /venv/lib/python3.9/site-packages (from gspread-pandas) (5.1.1)\n",
      "Requirement already satisfied: google-auth-oauthlib in /venv/lib/python3.9/site-packages (from gspread-pandas) (1.1.0)\n",
      "Requirement already satisfied: rsa<5,>=3.1.4 in /venv/lib/python3.9/site-packages (from google-auth->gspread-pandas) (4.7.2)\n",
      "Requirement already satisfied: cachetools<6.0,>=2.0.0 in /venv/lib/python3.9/site-packages (from google-auth->gspread-pandas) (5.3.1)\n",
      "Requirement already satisfied: pyasn1-modules>=0.2.1 in /venv/lib/python3.9/site-packages (from google-auth->gspread-pandas) (0.3.0)\n",
      "Requirement already satisfied: numpy>=1.22.4; python_version < \"3.11\" in /venv/lib/python3.9/site-packages (from pandas>=0.20.0->gspread-pandas) (1.26.0)\n",
      "Requirement already satisfied: pytz>=2020.1 in /venv/lib/python3.9/site-packages (from pandas>=0.20.0->gspread-pandas) (2023.3.post1)\n",
      "Requirement already satisfied: python-dateutil>=2.8.2 in /venv/lib/python3.9/site-packages (from pandas>=0.20.0->gspread-pandas) (2.8.2)\n",
      "Requirement already satisfied: tzdata>=2022.1 in /venv/lib/python3.9/site-packages (from pandas>=0.20.0->gspread-pandas) (2023.3)\n",
      "Requirement already satisfied: requests-oauthlib>=0.7.0 in /venv/lib/python3.9/site-packages (from google-auth-oauthlib->gspread-pandas) (1.3.1)\n",
      "Requirement already satisfied: pyasn1>=0.1.3 in /venv/lib/python3.9/site-packages (from rsa<5,>=3.1.4->google-auth->gspread-pandas) (0.5.0)\n",
      "Requirement already satisfied: six>=1.5 in /venv/lib/python3.9/site-packages (from python-dateutil>=2.8.2->pandas>=0.20.0->gspread-pandas) (1.16.0)\n",
      "Requirement already satisfied: oauthlib>=3.0.0 in /venv/lib/python3.9/site-packages (from requests-oauthlib>=0.7.0->google-auth-oauthlib->gspread-pandas) (3.2.2)\n",
      "Requirement already satisfied: requests>=2.0.0 in /venv/lib/python3.9/site-packages (from requests-oauthlib>=0.7.0->google-auth-oauthlib->gspread-pandas) (2.31.0)\n",
      "Requirement already satisfied: charset-normalizer<4,>=2 in /venv/lib/python3.9/site-packages (from requests>=2.0.0->requests-oauthlib>=0.7.0->google-auth-oauthlib->gspread-pandas) (3.3.0)\n",
      "Requirement already satisfied: certifi>=2017.4.17 in /venv/lib/python3.9/site-packages (from requests>=2.0.0->requests-oauthlib>=0.7.0->google-auth-oauthlib->gspread-pandas) (2023.7.22)\n",
      "Requirement already satisfied: urllib3<3,>=1.21.1 in /venv/lib/python3.9/site-packages (from requests>=2.0.0->requests-oauthlib>=0.7.0->google-auth-oauthlib->gspread-pandas) (1.26.17)\n",
      "Requirement already satisfied: idna<4,>=2.5 in /venv/lib/python3.9/site-packages (from requests>=2.0.0->requests-oauthlib>=0.7.0->google-auth-oauthlib->gspread-pandas) (3.4)\n"
     ]
    }
   ],
   "source": [
    "# Install gspread-pandas.\n",
    "!sudo /bin/bash -c \"(source /venv/bin/activate; pip install gspread-pandas)\""
   ]
  },
  {
   "cell_type": "markdown",
   "id": "e9584188",
   "metadata": {},
   "source": [
    "# Imports"
   ]
  },
  {
   "cell_type": "code",
   "execution_count": 12,
   "id": "cc529166",
   "metadata": {
    "ExecuteTime": {
     "end_time": "2023-12-13T20:05:18.884779Z",
     "start_time": "2023-12-13T20:05:18.879326Z"
    }
   },
   "outputs": [],
   "source": [
    "import numpy as np\n",
    "import pandas as pd\n",
    "from gspread_pandas import Spread"
   ]
  },
  {
   "cell_type": "markdown",
   "id": "1d7a2511",
   "metadata": {},
   "source": [
    "# Load data"
   ]
  },
  {
   "cell_type": "code",
   "execution_count": 13,
   "id": "026e8e70",
   "metadata": {
    "ExecuteTime": {
     "end_time": "2023-12-13T20:05:20.511610Z",
     "start_time": "2023-12-13T20:05:18.887894Z"
    }
   },
   "outputs": [],
   "source": [
    "# Google Sheet name.\n",
    "gsheets_name = \"Kaizen - VC presentation - v1.5-export\"\n",
    "spread = Spread(gsheets_name)\n",
    "data = spread.sheets[0].get_values()\n",
    "headers = data.pop(0)\n",
    "df = pd.DataFrame(data, columns=headers)"
   ]
  },
  {
   "cell_type": "markdown",
   "id": "f40a8b8e",
   "metadata": {},
   "source": [
    "# Clean data"
   ]
  },
  {
   "cell_type": "code",
   "execution_count": 14,
   "id": "08582d5b",
   "metadata": {
    "ExecuteTime": {
     "end_time": "2023-12-13T20:05:20.562773Z",
     "start_time": "2023-12-13T20:05:20.517793Z"
    }
   },
   "outputs": [
    {
     "data": {
      "text/html": [
       "<div>\n",
       "<style scoped>\n",
       "    .dataframe tbody tr th:only-of-type {\n",
       "        vertical-align: middle;\n",
       "    }\n",
       "\n",
       "    .dataframe tbody tr th {\n",
       "        vertical-align: top;\n",
       "    }\n",
       "\n",
       "    .dataframe thead th {\n",
       "        text-align: right;\n",
       "    }\n",
       "</style>\n",
       "<table border=\"1\" class=\"dataframe\">\n",
       "  <thead>\n",
       "    <tr style=\"text-align: right;\">\n",
       "      <th></th>\n",
       "      <th>Created At</th>\n",
       "      <th>Name</th>\n",
       "      <th>Email</th>\n",
       "      <th>Link Name</th>\n",
       "      <th>Duration</th>\n",
       "      <th>% Completion</th>\n",
       "      <th>Link Owner</th>\n",
       "      <th>Content Version</th>\n",
       "      <th>Account</th>\n",
       "      <th>Downloaded At</th>\n",
       "      <th>Printed At</th>\n",
       "    </tr>\n",
       "  </thead>\n",
       "  <tbody>\n",
       "    <tr>\n",
       "      <th>0</th>\n",
       "      <td>2023-11-15 14:36:52 UTC</td>\n",
       "      <td>NaN</td>\n",
       "      <td>dteten@versatilevc.com</td>\n",
       "      <td>Mailmerge</td>\n",
       "      <td>0 days 00:03:53</td>\n",
       "      <td>1</td>\n",
       "      <td>Crypto Crypto</td>\n",
       "      <td>4</td>\n",
       "      <td>NaN</td>\n",
       "      <td>NaN</td>\n",
       "      <td>NaN</td>\n",
       "    </tr>\n",
       "    <tr>\n",
       "      <th>1</th>\n",
       "      <td>2023-11-15 14:35:02 UTC</td>\n",
       "      <td>NaN</td>\n",
       "      <td>dennis@rre.com</td>\n",
       "      <td>Mailmerge</td>\n",
       "      <td>0 days 00:00:10</td>\n",
       "      <td>0.04</td>\n",
       "      <td>Crypto Crypto</td>\n",
       "      <td>4</td>\n",
       "      <td>NaN</td>\n",
       "      <td>NaN</td>\n",
       "      <td>NaN</td>\n",
       "    </tr>\n",
       "    <tr>\n",
       "      <th>2</th>\n",
       "      <td>2023-11-15 14:34:32 UTC</td>\n",
       "      <td>NaN</td>\n",
       "      <td>dennis@rre.com</td>\n",
       "      <td>Mailmerge</td>\n",
       "      <td>0 days 00:00:00</td>\n",
       "      <td>0</td>\n",
       "      <td>Crypto Crypto</td>\n",
       "      <td>4</td>\n",
       "      <td>NaN</td>\n",
       "      <td>NaN</td>\n",
       "      <td>NaN</td>\n",
       "    </tr>\n",
       "    <tr>\n",
       "      <th>3</th>\n",
       "      <td>2023-11-15 14:33:56 UTC</td>\n",
       "      <td>NaN</td>\n",
       "      <td>dennis@rre.com</td>\n",
       "      <td>Mailmerge</td>\n",
       "      <td>0 days 00:00:10</td>\n",
       "      <td>0.08</td>\n",
       "      <td>Crypto Crypto</td>\n",
       "      <td>4</td>\n",
       "      <td>NaN</td>\n",
       "      <td>NaN</td>\n",
       "      <td>NaN</td>\n",
       "    </tr>\n",
       "    <tr>\n",
       "      <th>4</th>\n",
       "      <td>2023-11-15 04:37:54 UTC</td>\n",
       "      <td>NaN</td>\n",
       "      <td>jschmidt@a16z.com</td>\n",
       "      <td>Mailmerge</td>\n",
       "      <td>0 days 00:03:16</td>\n",
       "      <td>0.96</td>\n",
       "      <td>Crypto Crypto</td>\n",
       "      <td>4</td>\n",
       "      <td>NaN</td>\n",
       "      <td>NaN</td>\n",
       "      <td>NaN</td>\n",
       "    </tr>\n",
       "    <tr>\n",
       "      <th>...</th>\n",
       "      <td>...</td>\n",
       "      <td>...</td>\n",
       "      <td>...</td>\n",
       "      <td>...</td>\n",
       "      <td>...</td>\n",
       "      <td>...</td>\n",
       "      <td>...</td>\n",
       "      <td>...</td>\n",
       "      <td>...</td>\n",
       "      <td>...</td>\n",
       "      <td>...</td>\n",
       "    </tr>\n",
       "    <tr>\n",
       "      <th>157</th>\n",
       "      <td>2023-10-25 06:49:34 UTC</td>\n",
       "      <td>NaN</td>\n",
       "      <td>NaN</td>\n",
       "      <td>All</td>\n",
       "      <td>0 days 00:01:58</td>\n",
       "      <td>1</td>\n",
       "      <td>Crypto Crypto</td>\n",
       "      <td>2</td>\n",
       "      <td>All</td>\n",
       "      <td>NaN</td>\n",
       "      <td>NaN</td>\n",
       "    </tr>\n",
       "    <tr>\n",
       "      <th>158</th>\n",
       "      <td>2023-10-24 18:11:05 UTC</td>\n",
       "      <td>NaN</td>\n",
       "      <td>NaN</td>\n",
       "      <td>All</td>\n",
       "      <td>0 days 00:00:08</td>\n",
       "      <td>0.04</td>\n",
       "      <td>Crypto Crypto</td>\n",
       "      <td>2</td>\n",
       "      <td>All</td>\n",
       "      <td>NaN</td>\n",
       "      <td>NaN</td>\n",
       "    </tr>\n",
       "    <tr>\n",
       "      <th>159</th>\n",
       "      <td>2023-10-23 23:26:45 UTC</td>\n",
       "      <td>NaN</td>\n",
       "      <td>NaN</td>\n",
       "      <td>All</td>\n",
       "      <td>0 days 04:32:55</td>\n",
       "      <td>1</td>\n",
       "      <td>Crypto Crypto</td>\n",
       "      <td>2</td>\n",
       "      <td>All</td>\n",
       "      <td>NaN</td>\n",
       "      <td>NaN</td>\n",
       "    </tr>\n",
       "    <tr>\n",
       "      <th>160</th>\n",
       "      <td>2023-10-23 20:53:57 UTC</td>\n",
       "      <td>NaN</td>\n",
       "      <td>NaN</td>\n",
       "      <td>All</td>\n",
       "      <td>0 days 00:02:55</td>\n",
       "      <td>0.92</td>\n",
       "      <td>Crypto Crypto</td>\n",
       "      <td>2</td>\n",
       "      <td>All</td>\n",
       "      <td>NaN</td>\n",
       "      <td>NaN</td>\n",
       "    </tr>\n",
       "    <tr>\n",
       "      <th>161</th>\n",
       "      <td>2023-10-22 20:34:32 UTC</td>\n",
       "      <td>NaN</td>\n",
       "      <td>NaN</td>\n",
       "      <td>All</td>\n",
       "      <td>0 days 00:05:41</td>\n",
       "      <td>1</td>\n",
       "      <td>Crypto Crypto</td>\n",
       "      <td>1</td>\n",
       "      <td>All</td>\n",
       "      <td>NaN</td>\n",
       "      <td>NaN</td>\n",
       "    </tr>\n",
       "  </tbody>\n",
       "</table>\n",
       "<p>162 rows × 11 columns</p>\n",
       "</div>"
      ],
      "text/plain": [
       "                  Created At  Name                   Email  Link Name  \\\n",
       "0    2023-11-15 14:36:52 UTC   NaN  dteten@versatilevc.com  Mailmerge   \n",
       "1    2023-11-15 14:35:02 UTC   NaN          dennis@rre.com  Mailmerge   \n",
       "2    2023-11-15 14:34:32 UTC   NaN          dennis@rre.com  Mailmerge   \n",
       "3    2023-11-15 14:33:56 UTC   NaN          dennis@rre.com  Mailmerge   \n",
       "4    2023-11-15 04:37:54 UTC   NaN       jschmidt@a16z.com  Mailmerge   \n",
       "..                       ...   ...                     ...        ...   \n",
       "157  2023-10-25 06:49:34 UTC   NaN                     NaN        All   \n",
       "158  2023-10-24 18:11:05 UTC   NaN                     NaN        All   \n",
       "159  2023-10-23 23:26:45 UTC   NaN                     NaN        All   \n",
       "160  2023-10-23 20:53:57 UTC   NaN                     NaN        All   \n",
       "161  2023-10-22 20:34:32 UTC   NaN                     NaN        All   \n",
       "\n",
       "           Duration % Completion     Link Owner Content Version Account  \\\n",
       "0   0 days 00:03:53            1  Crypto Crypto               4     NaN   \n",
       "1   0 days 00:00:10         0.04  Crypto Crypto               4     NaN   \n",
       "2   0 days 00:00:00            0  Crypto Crypto               4     NaN   \n",
       "3   0 days 00:00:10         0.08  Crypto Crypto               4     NaN   \n",
       "4   0 days 00:03:16         0.96  Crypto Crypto               4     NaN   \n",
       "..              ...          ...            ...             ...     ...   \n",
       "157 0 days 00:01:58            1  Crypto Crypto               2     All   \n",
       "158 0 days 00:00:08         0.04  Crypto Crypto               2     All   \n",
       "159 0 days 04:32:55            1  Crypto Crypto               2     All   \n",
       "160 0 days 00:02:55         0.92  Crypto Crypto               2     All   \n",
       "161 0 days 00:05:41            1  Crypto Crypto               1     All   \n",
       "\n",
       "     Downloaded At  Printed At  \n",
       "0              NaN         NaN  \n",
       "1              NaN         NaN  \n",
       "2              NaN         NaN  \n",
       "3              NaN         NaN  \n",
       "4              NaN         NaN  \n",
       "..             ...         ...  \n",
       "157            NaN         NaN  \n",
       "158            NaN         NaN  \n",
       "159            NaN         NaN  \n",
       "160            NaN         NaN  \n",
       "161            NaN         NaN  \n",
       "\n",
       "[162 rows x 11 columns]"
      ]
     },
     "execution_count": 14,
     "metadata": {},
     "output_type": "execute_result"
    }
   ],
   "source": [
    "df[\"Duration\"] = pd.to_timedelta(df[\"Duration\"])\n",
    "df = df.replace(r\"^\\s*$\", np.nan, regex=True)\n",
    "df"
   ]
  },
  {
   "cell_type": "markdown",
   "id": "9812a441",
   "metadata": {},
   "source": [
    "# Compute data"
   ]
  },
  {
   "cell_type": "code",
   "execution_count": 15,
   "id": "93882539",
   "metadata": {
    "ExecuteTime": {
     "end_time": "2023-12-13T20:05:20.582525Z",
     "start_time": "2023-12-13T20:05:20.565839Z"
    }
   },
   "outputs": [
    {
     "name": "stdout",
     "output_type": "stream",
     "text": [
      "['info@electriccapital.com' 'jschmidt@a16z.com' 'jayhao1@gmail.com'\n",
      " 'dteten@versatilevc.com' 'james@fika.vc' 'info@rre.com'\n",
      " 'cf@foxventures.io' 'eesa.ahmad@crypto.com' 'dennis@rre.com'\n",
      " 'jackdavis@eureliosollutions.com' 'pitch@twosigmaventures.com'\n",
      " 'info@dncapital.com' 'pr@gsrventures.com'\n",
      " 'investments@rockawaycapital.com' 'membership@heavybit.com'\n",
      " 'greg.ballanco@coinbase.com' 'kwqc@hvznypecdvhnwbk.fod' 'info@parafi.com'\n",
      " 'info@delphidigital.io' 'info@metastablecapital.com'\n",
      " 'crypto@crypto-kaizen.com' 'info@wellington.com'\n",
      " 'office@barclayventures.com' 'info@rockawaycapital.com'\n",
      " 'information@madrona.com' 'michael@quiet.com' 'info@gumi-cryptos.com'\n",
      " 'info@willcapllc.com' 'tiffany.galvin-cohen@point72.com'\n",
      " 'info@connectventures.com' 'info@shasta.vc' 'info@tcg.co'\n",
      " 'hello@icodrops.com' 'info_benelux@okta.com' 'info@unshackledvc.com'\n",
      " 'jack.statza@av.vc' 'contact.kvg@kakaocorp.com' 'info@thrivecap.com'\n",
      " 'gary@lauderpartners.com' 'admin@nextplaycapital.com']\n"
     ]
    }
   ],
   "source": [
    "sorted_by_duration_df = df.sort_values(by=\"Duration\", ascending=False)\n",
    "sorted_by_duration_df = sorted_by_duration_df.dropna(subset=[\"Email\"])\n",
    "sorted_emails = sorted_by_duration_df[\"Email\"].unique()\n",
    "print(sorted_emails)"
   ]
  }
 ],
 "metadata": {
  "kernelspec": {
   "display_name": "Python 3 (ipykernel)",
   "language": "python",
   "name": "python3"
  },
  "language_info": {
   "codemirror_mode": {
    "name": "ipython",
    "version": 3
   },
   "file_extension": ".py",
   "mimetype": "text/x-python",
   "name": "python",
   "nbconvert_exporter": "python",
   "pygments_lexer": "ipython3",
   "version": "3.9.5"
  },
  "toc": {
   "base_numbering": 1,
   "nav_menu": {},
   "number_sections": true,
   "sideBar": true,
   "skip_h1_title": false,
   "title_cell": "Table of Contents",
   "title_sidebar": "Contents",
   "toc_cell": false,
   "toc_position": {},
   "toc_section_display": true,
   "toc_window_display": false
  }
 },
 "nbformat": 4,
 "nbformat_minor": 5
}
