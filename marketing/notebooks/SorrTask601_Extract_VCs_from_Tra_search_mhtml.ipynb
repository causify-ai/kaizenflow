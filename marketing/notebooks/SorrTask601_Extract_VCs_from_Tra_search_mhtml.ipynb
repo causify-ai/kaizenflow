{
 "cells": [
  {
   "cell_type": "code",
   "execution_count": 3,
   "id": "d4516a36",
   "metadata": {
    "ExecuteTime": {
     "end_time": "2023-12-05T21:37:27.029900Z",
     "start_time": "2023-12-05T21:37:27.026557Z"
    },
    "run_control": {
     "marked": true
    }
   },
   "outputs": [],
   "source": [
    "import marketing.tra as mrktra"
   ]
  },
  {
   "cell_type": "markdown",
   "id": "d236fb55",
   "metadata": {
    "ExecuteTime": {
     "end_time": "2023-11-13T23:57:50.785938Z",
     "start_time": "2023-11-13T23:57:50.782761Z"
    }
   },
   "source": [
    "# Workflow before using this library:\n",
    "\n",
    "1. Go to a Tra VCs search result page\n",
    "2. Use the browser's `Save As` button to download the webpage as a `Web page, single file`. Or use any other download method that can fulfill the requirement in step 3.\n",
    "3. If you see the downloaded file format is `.mht` or `.mhtml`, you can process forward. Otherwise you won't be able to bypass the check layer from the website.\n",
    "4. Call `get_VCs_from_mhtml` method with the `.mhtml` file path.\n",
    "5. Save the returned dataframe to whatever format preferred."
   ]
  },
  {
   "cell_type": "markdown",
   "id": "ed4b10d0",
   "metadata": {},
   "source": [
    "# Sample usage of the function."
   ]
  },
  {
   "cell_type": "code",
   "execution_count": null,
   "id": "d9193f8e",
   "metadata": {
    "ExecuteTime": {
     "start_time": "2023-12-05T21:37:27.759Z"
    },
    "run_control": {
     "marked": true
    }
   },
   "outputs": [],
   "source": [
    "# Source data file path.\n",
    "vc_mhtml_path = \"../data/Investors_VC_Tra.mhtml\"\n",
    "# Destination result file path.\n",
    "vc_csv_save_path = \"../result_csv/Investors_VC_Tra.csv\"\n",
    "# Get Dataframe of VCs from HTML page.\n",
    "vc_df = mrktra.get_VCs_from_mhtml(vc_mhtml_path)\n",
    "vc_df.to_csv(vc_csv_save_path, sep=\",\", index=False)\n",
    "vc_df"
   ]
  },
  {
   "cell_type": "code",
   "execution_count": null,
   "id": "ca720519",
   "metadata": {},
   "outputs": [],
   "source": []
  }
 ],
 "metadata": {
  "kernelspec": {
   "display_name": "Python 3 (ipykernel)",
   "language": "python",
   "name": "python3"
  },
  "language_info": {
   "codemirror_mode": {
    "name": "ipython",
    "version": 3
   },
   "file_extension": ".py",
   "mimetype": "text/x-python",
   "name": "python",
   "nbconvert_exporter": "python",
   "pygments_lexer": "ipython3",
   "version": "3.9.5"
  },
  "toc": {
   "base_numbering": 1,
   "nav_menu": {},
   "number_sections": true,
   "sideBar": true,
   "skip_h1_title": false,
   "title_cell": "Table of Contents",
   "title_sidebar": "Contents",
   "toc_cell": false,
   "toc_position": {},
   "toc_section_display": true,
   "toc_window_display": false
  }
 },
 "nbformat": 4,
 "nbformat_minor": 5
}
