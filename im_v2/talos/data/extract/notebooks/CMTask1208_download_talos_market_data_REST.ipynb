{
 "cells": [
  {
   "cell_type": "markdown",
   "id": "22f05657",
   "metadata": {},
   "source": [
    "# Description"
   ]
  },
  {
   "cell_type": "markdown",
   "id": "2169f6f5",
   "metadata": {},
   "source": [
    "Notebook implements interface proposal for downloading OHLCV data based on REST API"
   ]
  },
  {
   "cell_type": "markdown",
   "id": "af393ab3",
   "metadata": {},
   "source": [
    "# Imports"
   ]
  },
  {
   "cell_type": "code",
   "execution_count": null,
   "id": "0accb2ba",
   "metadata": {
    "run_control": {
     "marked": false
    }
   },
   "outputs": [],
   "source": [
    "%load_ext autoreload\n",
    "%autoreload 2\n",
    "\n",
    "import base64\n",
    "import hashlib\n",
    "import hmac\n",
    "import logging\n",
    "\n",
    "import pandas as pd\n",
    "import requests\n",
    "\n",
    "import helpers.hdatetime as hdateti\n",
    "import helpers.hdbg as hdbg\n",
    "import helpers.hprint as hprint\n",
    "import helpers.hsql as hsql\n",
    "import im_v2.im_lib_tasks as imvimlita"
   ]
  },
  {
   "cell_type": "code",
   "execution_count": null,
   "id": "3c09c480",
   "metadata": {},
   "outputs": [],
   "source": [
    "hdbg.init_logger(verbosity=logging.DEBUG)\n",
    "\n",
    "_LOG = logging.getLogger(__name__)\n",
    "\n",
    "hprint.config_notebook()"
   ]
  },
  {
   "cell_type": "markdown",
   "id": "fd925359",
   "metadata": {},
   "source": [
    "# Functions"
   ]
  },
  {
   "cell_type": "code",
   "execution_count": null,
   "id": "3243c15b",
   "metadata": {},
   "outputs": [],
   "source": [
    "def calculate_signature(api_secret, parts):\n",
    "    \"\"\"\n",
    "    A signature required for some types of GET and POST requests.\n",
    "\n",
    "    Not required for historical data.\n",
    "    \"\"\"\n",
    "    payload = \"\\n\".join(parts)\n",
    "    hash = hmac.new(\n",
    "        api_secret.encode(\"ascii\"), payload.encode(\"ascii\"), hashlib.sha256\n",
    "    )\n",
    "    hash.hexdigest()\n",
    "    signature = base64.urlsafe_b64encode(hash.digest()).decode()\n",
    "    return signature\n",
    "\n",
    "\n",
    "def build_talos_ohlcv_path(\n",
    "    currency_pair: str, exchange: str, resolution: str = \"1m\"\n",
    "):\n",
    "    \"\"\"\n",
    "    Get data path for given symbol and exchange.\n",
    "\n",
    "    Example: /v1/symbols/BTC-USD/markets/coinbase/ohlcv/1h\n",
    "    \"\"\"\n",
    "    currency_pair = currency_pair.replace(\"_\", \"-\")\n",
    "    data_path = (\n",
    "        f\"/v1/symbols/{currency_pair}/markets/{exchange}/ohlcv/{resolution}\"\n",
    "    )\n",
    "    return data_path\n",
    "\n",
    "\n",
    "def timestamp_to_tz_naive_ISO_8601(timestamp: pd.Timestamp) -> str:\n",
    "    \"\"\"\n",
    "    Transform Timestamp into a string in format accepted by Talos API.\n",
    "\n",
    "    Example:\n",
    "    2019-10-20T15:00:00.000000Z\n",
    "    2022-02-28T14:38:53.000000Z\n",
    "\n",
    "    Note: microseconds must be included.\n",
    "    \"\"\"\n",
    "    hdateti.dassert_is_tz_naive(timestamp)\n",
    "    timestamp_iso_8601 = timestamp.isoformat(timespec=\"microseconds\") + \"Z\"\n",
    "    return timestamp_iso_8601\n",
    "\n",
    "\n",
    "def build_talos_query(\n",
    "    start_timestamp: pd.Timestamp, end_timestamp: pd.Timestamp, limit: int = 100\n",
    "):\n",
    "    \"\"\"\n",
    "    Build a query for a GET request.\n",
    "\n",
    "    Example:\n",
    "    ?startDate=2019-10-20T15:00:00.000000Z&endDate=2019-10-23:28:0.000000Z&limit=100\n",
    "    \"\"\"\n",
    "    # TODO(Danya): Note: end timestamp is NOT included.\n",
    "    query = \"?\"\n",
    "    # Start\n",
    "    if start_timestamp:\n",
    "        start_date = timestamp_to_tz_naive_ISO_8601(start_timestamp)\n",
    "        query += f\"startDate={start_date}&\"\n",
    "    if end_timestamp:\n",
    "        end_date = timestamp_to_tz_naive_ISO_8601(end_timestamp)\n",
    "        query += f\"endDate={end_date}&\"\n",
    "    query += f\"limit={limit}\"\n",
    "    return query\n",
    "\n",
    "\n",
    "def load_data(host: str, path: str, query: str) -> pd.DataFrame:\n",
    "    \"\"\"\n",
    "    Load data from given path.\n",
    "    \"\"\"\n",
    "    headers = {\"TALOS-KEY\": key_talos}\n",
    "    # Example of full url:\n",
    "    #  https://sandbox.talostrading.com/v1/symbols/BTC-USDT/markets/binance/ohlcv/1m?startDate=2022-02-24T19:21:00.000000Z&startDate=2022-02-24T19:25:00.000000Z&limit=100\n",
    "    url = f\"https://{host}{path}{query}\"\n",
    "    r = requests.get(url=url, params={}, headers=headers)\n",
    "    if r.status_code == 200:\n",
    "        data = r.json()[\"data\"]\n",
    "\n",
    "    return pd.DataFrame(data)"
   ]
  },
  {
   "cell_type": "markdown",
   "id": "4f59f39f",
   "metadata": {},
   "source": [
    "# Downloading"
   ]
  },
  {
   "cell_type": "markdown",
   "id": "89c84c56",
   "metadata": {},
   "source": [
    "Examples for downloading OHLCV data using Talos' REST API is taken from [here](https://docs.talostrading.com/#historical-ohlcv-candlesticks-rest)."
   ]
  },
  {
   "cell_type": "code",
   "execution_count": null,
   "id": "ea7ba541",
   "metadata": {},
   "outputs": [],
   "source": [
    "# Imitating input parameters from a script.\n",
    "# TODO(Danya): Add key and secret for sandbox to hsecrets\n",
    "key_talos = \"CRYEY4S913H3\"\n",
    "# Timestamps in the Airflow format.\n",
    "end_timestamp = pd.Timestamp(\"2022-02-24T19:25:00\")\n",
    "start_timestamp = pd.Timestamp(\"2022-02-24T19:21:00\")\n",
    "# The host probably be a switch: sandbox/prod.\n",
    "host = \"sandbox.talostrading.com\"\n",
    "currency_pair = \"BTC_USDT\"\n",
    "exchange = \"binance\"\n",
    "resolution = \"1m\"\n",
    "limit = 100"
   ]
  },
  {
   "cell_type": "code",
   "execution_count": null,
   "id": "dd4b9222",
   "metadata": {},
   "outputs": [],
   "source": [
    "# Construct data path.\n",
    "path = build_talos_ohlcv_path(currency_pair, exchange, resolution=resolution)\n",
    "print(path)"
   ]
  },
  {
   "cell_type": "code",
   "execution_count": null,
   "id": "ac483724",
   "metadata": {},
   "outputs": [],
   "source": [
    "# Construct query.\n",
    "query = build_talos_query(start_timestamp, end_timestamp, limit=limit)\n",
    "print(query)"
   ]
  },
  {
   "cell_type": "code",
   "execution_count": null,
   "id": "05e897d1",
   "metadata": {},
   "outputs": [],
   "source": [
    "# Get data as the dataframe.\n",
    "load_data(host, path, query)"
   ]
  },
  {
   "cell_type": "markdown",
   "id": "18fd9325",
   "metadata": {},
   "source": [
    "## Comparing to DB data"
   ]
  },
  {
   "cell_type": "code",
   "execution_count": null,
   "id": "9f4a2537",
   "metadata": {},
   "outputs": [],
   "source": [
    "env_file = imvimlita.get_db_env_path(\"dev\")\n",
    "connection_params = hsql.get_connection_info_from_env_file(env_file)\n",
    "connection = hsql.get_connection(*connection_params)"
   ]
  },
  {
   "cell_type": "code",
   "execution_count": null,
   "id": "075938b2",
   "metadata": {
    "run_control": {
     "marked": true
    }
   },
   "outputs": [],
   "source": [
    "unix_start_timestamp = hdateti.convert_timestamp_to_unix_epoch(start_timestamp)\n",
    "unix_end_timestamp = hdateti.convert_timestamp_to_unix_epoch(end_timestamp)\n",
    "query = (\n",
    "    f\"SELECT * FROM ccxt_ohlcv WHERE timestamp >='{unix_start_timestamp}'\"\n",
    "    f\" AND timestamp <= '{unix_end_timestamp}' AND currency_pair='{currency_pair}'\"\n",
    ")\n",
    "rt_data = hsql.execute_query_to_df(connection, query)\n",
    "rt_data"
   ]
  },
  {
   "cell_type": "markdown",
   "id": "12eacff7",
   "metadata": {},
   "source": [
    "#### Comment"
   ]
  },
  {
   "cell_type": "markdown",
   "id": "159b9a66",
   "metadata": {},
   "source": [
    "Some important interface takeaways:\n",
    "\n",
    "- The timestamp format is tricky (trailing \"Z\", tz-naive, compulsory trailing .0's to microsecond level)\n",
    "- End timestamp is not included into the time range\n",
    "- Data looks consistent (at the first sight) with RT data from CCXT, although miniscule discrepancies in values of \"open\" should be investigated."
   ]
  },
  {
   "cell_type": "code",
   "execution_count": null,
   "id": "34b15d1f",
   "metadata": {},
   "outputs": [],
   "source": []
  }
 ],
 "metadata": {
  "jupytext": {
   "formats": "ipynb,py:percent"
  },
  "kernelspec": {
   "display_name": "Python 3 (ipykernel)",
   "language": "python",
   "name": "python3"
  },
  "language_info": {
   "codemirror_mode": {
    "name": "ipython",
    "version": 3
   },
   "file_extension": ".py",
   "mimetype": "text/x-python",
   "name": "python",
   "nbconvert_exporter": "python",
   "pygments_lexer": "ipython3",
   "version": "3.8.10"
  },
  "toc": {
   "base_numbering": 1,
   "nav_menu": {},
   "number_sections": true,
   "sideBar": true,
   "skip_h1_title": false,
   "title_cell": "Table of Contents",
   "title_sidebar": "Contents",
   "toc_cell": false,
   "toc_position": {},
   "toc_section_display": true,
   "toc_window_display": false
  }
 },
 "nbformat": 4,
 "nbformat_minor": 5
}
