{
 "cells": [
  {
   "cell_type": "markdown",
   "id": "9b64ea45",
   "metadata": {},
   "source": [
    "## Imports"
   ]
  },
  {
   "cell_type": "code",
   "execution_count": 1,
   "id": "e44a210f",
   "metadata": {
    "ExecuteTime": {
     "end_time": "2022-04-08T18:15:51.032508Z",
     "start_time": "2022-04-08T18:15:48.077530Z"
    }
   },
   "outputs": [
    {
     "name": "stdout",
     "output_type": "stream",
     "text": [
      "\u001b[0m\u001b[36mINFO\u001b[0m: > cmd='/venv/lib/python3.8/site-packages/ipykernel_launcher.py -f /home/.local/share/jupyter/runtime/kernel-40360184-c027-40d6-92a3-60b2c55dbbac.json'\n",
      "WARNING: Running in Jupyter\n"
     ]
    },
    {
     "name": "stderr",
     "output_type": "stream",
     "text": [
      "/app/helpers/hparquet.py:17: TqdmExperimentalWarning: Using `tqdm.autonotebook.tqdm` in notebook mode. Use `tqdm.tqdm` instead to force console mode (e.g. in jupyter console)\n",
      "  from tqdm.autonotebook import tqdm\n"
     ]
    }
   ],
   "source": [
    "import logging\n",
    "\n",
    "import pandas as pd\n",
    "\n",
    "import helpers.hdbg as hdbg\n",
    "import helpers.hprint as hprint\n",
    "import helpers.hsql as hsql\n",
    "import im_v2.ccxt.data.client.ccxt_clients as imvcdccccl\n",
    "import im_v2.im_lib_tasks as imvimlita\n",
    "import im_v2.talos.data.client.talos_clients as imvtdctacl"
   ]
  },
  {
   "cell_type": "code",
   "execution_count": 2,
   "id": "68bd664a",
   "metadata": {
    "ExecuteTime": {
     "end_time": "2022-04-08T18:15:52.106519Z",
     "start_time": "2022-04-08T18:15:51.034951Z"
    }
   },
   "outputs": [
    {
     "name": "stderr",
     "output_type": "stream",
     "text": [
      "  File \"/usr/lib/python3.8/runpy.py\", line 194, in _run_module_as_main\n",
      "    return _run_code(code, main_globals, None,\n",
      "  File \"/usr/lib/python3.8/runpy.py\", line 87, in _run_code\n",
      "    exec(code, run_globals)\n",
      "  File \"/venv/lib/python3.8/site-packages/ipykernel_launcher.py\", line 16, in <module>\n",
      "    app.launch_new_instance()\n",
      "  File \"/venv/lib/python3.8/site-packages/traitlets/config/application.py\", line 846, in launch_instance\n",
      "    app.start()\n",
      "  File \"/venv/lib/python3.8/site-packages/ipykernel/kernelapp.py\", line 677, in start\n",
      "    self.io_loop.start()\n",
      "  File \"/venv/lib/python3.8/site-packages/tornado/platform/asyncio.py\", line 199, in start\n",
      "    self.asyncio_loop.run_forever()\n",
      "  File \"/usr/lib/python3.8/asyncio/base_events.py\", line 570, in run_forever\n",
      "    self._run_once()\n",
      "  File \"/usr/lib/python3.8/asyncio/base_events.py\", line 1859, in _run_once\n",
      "    handle._run()\n",
      "  File \"/usr/lib/python3.8/asyncio/events.py\", line 81, in _run\n",
      "    self._context.run(self._callback, *self._args)\n",
      "  File \"/venv/lib/python3.8/site-packages/ipykernel/kernelbase.py\", line 461, in dispatch_queue\n",
      "    await self.process_one()\n",
      "  File \"/venv/lib/python3.8/site-packages/ipykernel/kernelbase.py\", line 450, in process_one\n",
      "    await dispatch(*args)\n",
      "  File \"/venv/lib/python3.8/site-packages/ipykernel/kernelbase.py\", line 357, in dispatch_shell\n",
      "    await result\n",
      "  File \"/venv/lib/python3.8/site-packages/ipykernel/kernelbase.py\", line 652, in execute_request\n",
      "    reply_content = await reply_content\n",
      "  File \"/venv/lib/python3.8/site-packages/ipykernel/ipkernel.py\", line 359, in do_execute\n",
      "    res = shell.run_cell(code, store_history=store_history, silent=silent)\n",
      "  File \"/venv/lib/python3.8/site-packages/ipykernel/zmqshell.py\", line 532, in run_cell\n",
      "    return super().run_cell(*args, **kwargs)\n",
      "  File \"/venv/lib/python3.8/site-packages/IPython/core/interactiveshell.py\", line 2768, in run_cell\n",
      "    result = self._run_cell(\n",
      "  File \"/venv/lib/python3.8/site-packages/IPython/core/interactiveshell.py\", line 2814, in _run_cell\n",
      "    return runner(coro)\n",
      "  File \"/venv/lib/python3.8/site-packages/IPython/core/async_helpers.py\", line 129, in _pseudo_sync_runner\n",
      "    coro.send(None)\n",
      "  File \"/venv/lib/python3.8/site-packages/IPython/core/interactiveshell.py\", line 3012, in run_cell_async\n",
      "    has_raised = await self.run_ast_nodes(code_ast.body, cell_name,\n",
      "  File \"/venv/lib/python3.8/site-packages/IPython/core/interactiveshell.py\", line 3191, in run_ast_nodes\n",
      "    if await self.run_code(code, result, async_=asy):\n",
      "  File \"/venv/lib/python3.8/site-packages/IPython/core/interactiveshell.py\", line 3251, in run_code\n",
      "    exec(code_obj, self.user_global_ns, self.user_ns)\n",
      "  File \"/tmp/ipykernel_547/1291696270.py\", line 1, in <module>\n",
      "    hdbg.init_logger(verbosity=logging.INFO)\n",
      "  File \"/app/helpers/hdbg.py\", line 834, in init_logger\n",
      "    traceback.print_stack()\n"
     ]
    },
    {
     "name": "stdout",
     "output_type": "stream",
     "text": [
      "\u001b[0m\u001b[33mWARNING\u001b[0m: Logger already initialized: skipping\n",
      "\u001b[33mWARNING\u001b[0m: Disabling annoying warnings\n"
     ]
    }
   ],
   "source": [
    "hdbg.init_logger(verbosity=logging.INFO)\n",
    "\n",
    "_LOG = logging.getLogger(__name__)\n",
    "\n",
    "hprint.config_notebook()"
   ]
  },
  {
   "cell_type": "markdown",
   "id": "34aa26c9",
   "metadata": {},
   "source": [
    "## Functions"
   ]
  },
  {
   "cell_type": "code",
   "execution_count": 3,
   "id": "8391a475",
   "metadata": {
    "ExecuteTime": {
     "end_time": "2022-04-08T18:15:52.116265Z",
     "start_time": "2022-04-08T18:15:52.109376Z"
    }
   },
   "outputs": [],
   "source": [
    "def convert_to_the_format_for_analysis(df, suffix):\n",
    "    \"\"\"\n",
    "    This function does the following:\n",
    "\n",
    "    - Add a column `diff_in_timestamps` which is a time difference from the timestamp in the previous row.\n",
    "    - Drop the columns that are not necessary for the analysis.\n",
    "    - Filter the data, so all data starts from the same time.\n",
    "    - Choose the rows that where the step from the previous timestamp is greater than 1 minute.\n",
    "    - Add suffix to distiguish between vendors.\n",
    "    \"\"\"\n",
    "    df = df.reset_index()\n",
    "    df = df.dropna()\n",
    "    df[\"diff_in_timestamps\"] = df.timestamp - df.timestamp.shift(1)\n",
    "    df = df.set_index(\"timestamp\")\n",
    "    df = df[[\"diff_in_timestamps\"]]\n",
    "    df = df[df.index > \"2022-03-17 00:00:00+00:00\"]\n",
    "    df = df[df[\"diff_in_timestamps\"] != \"0 days 00:01:00\"]\n",
    "    df = df.add_suffix(f\"{suffix}\")\n",
    "    return df"
   ]
  },
  {
   "cell_type": "markdown",
   "id": "63413e0d",
   "metadata": {},
   "source": [
    "# Load the data"
   ]
  },
  {
   "cell_type": "code",
   "execution_count": 4,
   "id": "3b1dda23",
   "metadata": {
    "ExecuteTime": {
     "end_time": "2022-04-08T18:15:52.403588Z",
     "start_time": "2022-04-08T18:15:52.118903Z"
    }
   },
   "outputs": [],
   "source": [
    "# Specify the connection.\n",
    "env_file = imvimlita.get_db_env_path(\"dev\")\n",
    "connection_params = hsql.get_connection_info_from_env_file(env_file)\n",
    "connection = hsql.get_connection(*connection_params)\n",
    "# Specify param for both clients.\n",
    "resample_1min = True"
   ]
  },
  {
   "cell_type": "code",
   "execution_count": 5,
   "id": "cc3f21b9",
   "metadata": {
    "ExecuteTime": {
     "end_time": "2022-04-08T18:15:52.410588Z",
     "start_time": "2022-04-08T18:15:52.406621Z"
    }
   },
   "outputs": [],
   "source": [
    "# General params for `read_data`.\n",
    "full_symbol = [\"binance::ADA_USDT\"]\n",
    "start_date = end_date = None"
   ]
  },
  {
   "cell_type": "markdown",
   "id": "88035bad",
   "metadata": {},
   "source": [
    "## Load CCXT data"
   ]
  },
  {
   "cell_type": "code",
   "execution_count": 6,
   "id": "83a23e92",
   "metadata": {
    "ExecuteTime": {
     "end_time": "2022-04-08T18:15:52.418810Z",
     "start_time": "2022-04-08T18:15:52.413047Z"
    },
    "run_control": {
     "marked": false
    }
   },
   "outputs": [],
   "source": [
    "# Initiate the client.\n",
    "vendor = \"CCXT\"\n",
    "universe_version = \"v3\"\n",
    "table_name = \"ccxt_ohlcv\"\n",
    "ccxt_client = imvcdccccl.CcxtSqlRealTimeImClient(\n",
    "    resample_1min, connection, table_name\n",
    ")"
   ]
  },
  {
   "cell_type": "code",
   "execution_count": 7,
   "id": "0f85c6b1",
   "metadata": {
    "ExecuteTime": {
     "end_time": "2022-04-08T18:15:54.183832Z",
     "start_time": "2022-04-08T18:15:52.421882Z"
    }
   },
   "outputs": [
    {
     "name": "stderr",
     "output_type": "stream",
     "text": [
      "/venv/lib/python3.8/site-packages/pandas/io/sql.py:761: UserWarning: pandas only support SQLAlchemy connectable(engine/connection) ordatabase string URI or sqlite3 DBAPI2 connectionother DBAPI2 objects are not tested, please consider using SQLAlchemy\n",
      "  warnings.warn(\n"
     ]
    },
    {
     "data": {
      "text/plain": [
       "(215045, 6)"
      ]
     },
     "metadata": {},
     "output_type": "display_data"
    },
    {
     "data": {
      "text/html": [
       "<div>\n",
       "<style scoped>\n",
       "    .dataframe tbody tr th:only-of-type {\n",
       "        vertical-align: middle;\n",
       "    }\n",
       "\n",
       "    .dataframe tbody tr th {\n",
       "        vertical-align: top;\n",
       "    }\n",
       "\n",
       "    .dataframe thead th {\n",
       "        text-align: right;\n",
       "    }\n",
       "</style>\n",
       "<table border=\"1\" class=\"dataframe\">\n",
       "  <thead>\n",
       "    <tr style=\"text-align: right;\">\n",
       "      <th></th>\n",
       "      <th>full_symbol</th>\n",
       "      <th>open</th>\n",
       "      <th>high</th>\n",
       "      <th>low</th>\n",
       "      <th>close</th>\n",
       "      <th>volume</th>\n",
       "    </tr>\n",
       "    <tr>\n",
       "      <th>timestamp</th>\n",
       "      <th></th>\n",
       "      <th></th>\n",
       "      <th></th>\n",
       "      <th></th>\n",
       "      <th></th>\n",
       "      <th></th>\n",
       "    </tr>\n",
       "  </thead>\n",
       "  <tbody>\n",
       "    <tr>\n",
       "      <th>2021-11-10 10:11:00+00:00</th>\n",
       "      <td>binance::ADA_USDT</td>\n",
       "      <td>2.227</td>\n",
       "      <td>2.228</td>\n",
       "      <td>2.225</td>\n",
       "      <td>2.225</td>\n",
       "      <td>71884.5</td>\n",
       "    </tr>\n",
       "    <tr>\n",
       "      <th>2021-11-10 10:12:00+00:00</th>\n",
       "      <td>binance::ADA_USDT</td>\n",
       "      <td>2.226</td>\n",
       "      <td>2.228</td>\n",
       "      <td>2.225</td>\n",
       "      <td>2.227</td>\n",
       "      <td>64687.0</td>\n",
       "    </tr>\n",
       "    <tr>\n",
       "      <th>2021-11-10 10:13:00+00:00</th>\n",
       "      <td>binance::ADA_USDT</td>\n",
       "      <td>2.228</td>\n",
       "      <td>2.232</td>\n",
       "      <td>2.227</td>\n",
       "      <td>2.230</td>\n",
       "      <td>59076.3</td>\n",
       "    </tr>\n",
       "  </tbody>\n",
       "</table>\n",
       "</div>"
      ],
      "text/plain": [
       "                                 full_symbol   open   high    low  close   volume\n",
       "timestamp                                                                        \n",
       "2021-11-10 10:11:00+00:00  binance::ADA_USDT  2.227  2.228  2.225  2.225  71884.5\n",
       "2021-11-10 10:12:00+00:00  binance::ADA_USDT  2.226  2.228  2.225  2.227  64687.0\n",
       "2021-11-10 10:13:00+00:00  binance::ADA_USDT  2.228  2.232  2.227  2.230  59076.3"
      ]
     },
     "metadata": {},
     "output_type": "display_data"
    }
   ],
   "source": [
    "# Load the data.\n",
    "ada_ccxt = ccxt_client.read_data(full_symbol, start_date, end_date)\n",
    "display(ada_ccxt.shape)\n",
    "display(ada_ccxt.head(3))"
   ]
  },
  {
   "cell_type": "markdown",
   "id": "a781804d",
   "metadata": {},
   "source": [
    "## Load Realtime Talos data"
   ]
  },
  {
   "cell_type": "code",
   "execution_count": 8,
   "id": "974e67e7",
   "metadata": {
    "ExecuteTime": {
     "end_time": "2022-04-08T18:15:54.278823Z",
     "start_time": "2022-04-08T18:15:54.187810Z"
    },
    "run_control": {
     "marked": false
    }
   },
   "outputs": [
    {
     "name": "stderr",
     "output_type": "stream",
     "text": [
      "/venv/lib/python3.8/site-packages/pandas/io/sql.py:761: UserWarning: pandas only support SQLAlchemy connectable(engine/connection) ordatabase string URI or sqlite3 DBAPI2 connectionother DBAPI2 objects are not tested, please consider using SQLAlchemy\n",
      "  warnings.warn(\n"
     ]
    }
   ],
   "source": [
    "# Initialize the client.\n",
    "universe_version = \"v1\"\n",
    "table_name = \"talos_ohlcv\"\n",
    "mode = \"market_data\"\n",
    "talos_client = imvtdctacl.TalosSqlRealTimeImClient(\n",
    "    universe_version, resample_1min, connection, table_name, mode\n",
    ")"
   ]
  },
  {
   "cell_type": "code",
   "execution_count": 9,
   "id": "3a3e804d",
   "metadata": {
    "ExecuteTime": {
     "end_time": "2022-04-08T18:15:55.255082Z",
     "start_time": "2022-04-08T18:15:54.281406Z"
    }
   },
   "outputs": [
    {
     "name": "stderr",
     "output_type": "stream",
     "text": [
      "/venv/lib/python3.8/site-packages/pandas/io/sql.py:761: UserWarning: pandas only support SQLAlchemy connectable(engine/connection) ordatabase string URI or sqlite3 DBAPI2 connectionother DBAPI2 objects are not tested, please consider using SQLAlchemy\n",
      "  warnings.warn(\n",
      "/app/im_v2/talos/data/client/talos_clients.py:371: FutureWarning: Units 'M', 'Y' and 'y' do not represent unambiguous timedelta values and will be removed in a future version.\n",
      "  data = self._apply_talos_normalization(\n"
     ]
    },
    {
     "data": {
      "text/plain": [
       "(32847, 8)"
      ]
     },
     "metadata": {},
     "output_type": "display_data"
    },
    {
     "data": {
      "text/html": [
       "<div>\n",
       "<style scoped>\n",
       "    .dataframe tbody tr th:only-of-type {\n",
       "        vertical-align: middle;\n",
       "    }\n",
       "\n",
       "    .dataframe tbody tr th {\n",
       "        vertical-align: top;\n",
       "    }\n",
       "\n",
       "    .dataframe thead th {\n",
       "        text-align: right;\n",
       "    }\n",
       "</style>\n",
       "<table border=\"1\" class=\"dataframe\">\n",
       "  <thead>\n",
       "    <tr style=\"text-align: right;\">\n",
       "      <th></th>\n",
       "      <th>open</th>\n",
       "      <th>high</th>\n",
       "      <th>low</th>\n",
       "      <th>close</th>\n",
       "      <th>volume</th>\n",
       "      <th>full_symbol</th>\n",
       "      <th>start_timestamp</th>\n",
       "      <th>asset_id</th>\n",
       "    </tr>\n",
       "    <tr>\n",
       "      <th>timestamp</th>\n",
       "      <th></th>\n",
       "      <th></th>\n",
       "      <th></th>\n",
       "      <th></th>\n",
       "      <th></th>\n",
       "      <th></th>\n",
       "      <th></th>\n",
       "      <th></th>\n",
       "    </tr>\n",
       "  </thead>\n",
       "  <tbody>\n",
       "    <tr>\n",
       "      <th>2022-03-16 22:47:00+00:00</th>\n",
       "      <td>0.825</td>\n",
       "      <td>0.826</td>\n",
       "      <td>0.825</td>\n",
       "      <td>0.825</td>\n",
       "      <td>18427.9</td>\n",
       "      <td>binance::ADA_USDT</td>\n",
       "      <td>2022-03-16 22:46:00+00:00</td>\n",
       "      <td>3303714233</td>\n",
       "    </tr>\n",
       "    <tr>\n",
       "      <th>2022-03-16 22:48:00+00:00</th>\n",
       "      <td>0.825</td>\n",
       "      <td>0.826</td>\n",
       "      <td>0.825</td>\n",
       "      <td>0.825</td>\n",
       "      <td>52798.5</td>\n",
       "      <td>binance::ADA_USDT</td>\n",
       "      <td>2022-03-16 22:47:00+00:00</td>\n",
       "      <td>3303714233</td>\n",
       "    </tr>\n",
       "    <tr>\n",
       "      <th>2022-03-16 22:49:00+00:00</th>\n",
       "      <td>0.825</td>\n",
       "      <td>0.826</td>\n",
       "      <td>0.824</td>\n",
       "      <td>0.824</td>\n",
       "      <td>101067.8</td>\n",
       "      <td>binance::ADA_USDT</td>\n",
       "      <td>2022-03-16 22:48:00+00:00</td>\n",
       "      <td>3303714233</td>\n",
       "    </tr>\n",
       "  </tbody>\n",
       "</table>\n",
       "</div>"
      ],
      "text/plain": [
       "                            open   high    low  close    volume        full_symbol           start_timestamp    asset_id\n",
       "timestamp                                                                                                               \n",
       "2022-03-16 22:47:00+00:00  0.825  0.826  0.825  0.825   18427.9  binance::ADA_USDT 2022-03-16 22:46:00+00:00  3303714233\n",
       "2022-03-16 22:48:00+00:00  0.825  0.826  0.825  0.825   52798.5  binance::ADA_USDT 2022-03-16 22:47:00+00:00  3303714233\n",
       "2022-03-16 22:49:00+00:00  0.825  0.826  0.824  0.824  101067.8  binance::ADA_USDT 2022-03-16 22:48:00+00:00  3303714233"
      ]
     },
     "metadata": {},
     "output_type": "display_data"
    }
   ],
   "source": [
    "# Load the data.\n",
    "ada_talos = talos_client.read_data(full_symbol, start_date, end_date)\n",
    "display(ada_talos.shape)\n",
    "display(ada_talos.head(3))"
   ]
  },
  {
   "cell_type": "markdown",
   "id": "355d3ef1",
   "metadata": {},
   "source": [
    "# Research of NaNs in timestamps"
   ]
  },
  {
   "cell_type": "code",
   "execution_count": 10,
   "id": "000448a9",
   "metadata": {
    "ExecuteTime": {
     "end_time": "2022-04-08T18:15:55.370832Z",
     "start_time": "2022-04-08T18:15:55.260055Z"
    }
   },
   "outputs": [
    {
     "data": {
      "text/html": [
       "<div>\n",
       "<style scoped>\n",
       "    .dataframe tbody tr th:only-of-type {\n",
       "        vertical-align: middle;\n",
       "    }\n",
       "\n",
       "    .dataframe tbody tr th {\n",
       "        vertical-align: top;\n",
       "    }\n",
       "\n",
       "    .dataframe thead th {\n",
       "        text-align: right;\n",
       "    }\n",
       "</style>\n",
       "<table border=\"1\" class=\"dataframe\">\n",
       "  <thead>\n",
       "    <tr style=\"text-align: right;\">\n",
       "      <th></th>\n",
       "      <th>diff_in_timestamps_ccxt</th>\n",
       "      <th>diff_in_timestamps_talos</th>\n",
       "      <th>diff</th>\n",
       "    </tr>\n",
       "    <tr>\n",
       "      <th>timestamp</th>\n",
       "      <th></th>\n",
       "      <th></th>\n",
       "      <th></th>\n",
       "    </tr>\n",
       "  </thead>\n",
       "  <tbody>\n",
       "    <tr>\n",
       "      <th>2022-03-17 13:32:00+00:00</th>\n",
       "      <td>0 days 11:59:00</td>\n",
       "      <td>0 days 12:01:00</td>\n",
       "      <td>0 days 00:02:00</td>\n",
       "    </tr>\n",
       "    <tr>\n",
       "      <th>2022-03-18 01:56:00+00:00</th>\n",
       "      <td>0 days 11:58:00</td>\n",
       "      <td>0 days 12:01:00</td>\n",
       "      <td>0 days 00:03:00</td>\n",
       "    </tr>\n",
       "    <tr>\n",
       "      <th>2022-03-18 15:07:00+00:00</th>\n",
       "      <td>0 days 12:00:00</td>\n",
       "      <td>0 days 12:01:00</td>\n",
       "      <td>0 days 00:01:00</td>\n",
       "    </tr>\n",
       "  </tbody>\n",
       "</table>\n",
       "</div>"
      ],
      "text/plain": [
       "                          diff_in_timestamps_ccxt diff_in_timestamps_talos            diff\n",
       "timestamp                                                                                 \n",
       "2022-03-17 13:32:00+00:00         0 days 11:59:00          0 days 12:01:00 0 days 00:02:00\n",
       "2022-03-18 01:56:00+00:00         0 days 11:58:00          0 days 12:01:00 0 days 00:03:00\n",
       "2022-03-18 15:07:00+00:00         0 days 12:00:00          0 days 12:01:00 0 days 00:01:00"
      ]
     },
     "execution_count": 10,
     "metadata": {},
     "output_type": "execute_result"
    }
   ],
   "source": [
    "diff_ccxt = convert_to_the_format_for_analysis(ada_ccxt, \"_ccxt\")\n",
    "diff_talos = convert_to_the_format_for_analysis(ada_talos, \"_talos\")\n",
    "# The unique DataFrame with the comparison of NaN data.\n",
    "df = pd.concat([diff_ccxt, diff_talos], axis=1)\n",
    "# Add a column that shows the difference between NaN sequences of vendors.\n",
    "df[\"diff\"] = df[\"diff_in_timestamps_talos\"] - df[\"diff_in_timestamps_ccxt\"]\n",
    "df.head(3)"
   ]
  },
  {
   "cell_type": "markdown",
   "id": "ca100837",
   "metadata": {},
   "source": [
    "The description of the columns in the created DataFrame:\n",
    "- `timestamp` - Shows the first piece of data that appears after NaN sequence.\n",
    "- `diff_in_timestamps_ccxt` - Shows the time value of sequence of NaNs in CCXT data.\n",
    "- `diff_in_timestamps_talos` - Same as above but for Talos.\n",
    "- `diff` - Difference between NaN sequences of vendors."
   ]
  },
  {
   "cell_type": "code",
   "execution_count": 11,
   "id": "254e0063",
   "metadata": {
    "ExecuteTime": {
     "end_time": "2022-04-08T18:15:55.390922Z",
     "start_time": "2022-04-08T18:15:55.373615Z"
    }
   },
   "outputs": [
    {
     "data": {
      "text/html": [
       "<div>\n",
       "<style scoped>\n",
       "    .dataframe tbody tr th:only-of-type {\n",
       "        vertical-align: middle;\n",
       "    }\n",
       "\n",
       "    .dataframe tbody tr th {\n",
       "        vertical-align: top;\n",
       "    }\n",
       "\n",
       "    .dataframe thead th {\n",
       "        text-align: right;\n",
       "    }\n",
       "</style>\n",
       "<table border=\"1\" class=\"dataframe\">\n",
       "  <thead>\n",
       "    <tr style=\"text-align: right;\">\n",
       "      <th></th>\n",
       "      <th>diff_in_timestamps_ccxt</th>\n",
       "      <th>diff_in_timestamps_talos</th>\n",
       "      <th>diff</th>\n",
       "    </tr>\n",
       "    <tr>\n",
       "      <th>timestamp</th>\n",
       "      <th></th>\n",
       "      <th></th>\n",
       "      <th></th>\n",
       "    </tr>\n",
       "  </thead>\n",
       "  <tbody>\n",
       "    <tr>\n",
       "      <th>2022-03-17 13:32:00+00:00</th>\n",
       "      <td>0 days 11:59:00</td>\n",
       "      <td>0 days 12:01:00</td>\n",
       "      <td>0 days 00:02:00</td>\n",
       "    </tr>\n",
       "    <tr>\n",
       "      <th>2022-03-18 01:56:00+00:00</th>\n",
       "      <td>0 days 11:58:00</td>\n",
       "      <td>0 days 12:01:00</td>\n",
       "      <td>0 days 00:03:00</td>\n",
       "    </tr>\n",
       "    <tr>\n",
       "      <th>2022-03-18 15:07:00+00:00</th>\n",
       "      <td>0 days 12:00:00</td>\n",
       "      <td>0 days 12:01:00</td>\n",
       "      <td>0 days 00:01:00</td>\n",
       "    </tr>\n",
       "    <tr>\n",
       "      <th>2022-03-22 22:33:00+00:00</th>\n",
       "      <td>4 days 04:01:00</td>\n",
       "      <td>4 days 04:04:00</td>\n",
       "      <td>0 days 00:03:00</td>\n",
       "    </tr>\n",
       "    <tr>\n",
       "      <th>2022-03-24 08:59:00+00:00</th>\n",
       "      <td>0 days 18:31:00</td>\n",
       "      <td>0 days 18:33:00</td>\n",
       "      <td>0 days 00:02:00</td>\n",
       "    </tr>\n",
       "    <tr>\n",
       "      <th>2022-03-25 16:11:00+00:00</th>\n",
       "      <td>0 days 11:59:00</td>\n",
       "      <td>0 days 12:01:00</td>\n",
       "      <td>0 days 00:02:00</td>\n",
       "    </tr>\n",
       "    <tr>\n",
       "      <th>2022-03-28 11:53:00+00:00</th>\n",
       "      <td>2 days 16:33:00</td>\n",
       "      <td>2 days 16:35:00</td>\n",
       "      <td>0 days 00:02:00</td>\n",
       "    </tr>\n",
       "    <tr>\n",
       "      <th>2022-03-30 13:24:00+00:00</th>\n",
       "      <td>0 days 11:59:00</td>\n",
       "      <td>0 days 12:02:00</td>\n",
       "      <td>0 days 00:03:00</td>\n",
       "    </tr>\n",
       "    <tr>\n",
       "      <th>2022-03-30 16:37:00+00:00</th>\n",
       "      <td>0 days 00:38:00</td>\n",
       "      <td>0 days 00:41:00</td>\n",
       "      <td>0 days 00:03:00</td>\n",
       "    </tr>\n",
       "    <tr>\n",
       "      <th>2022-04-01 14:17:00+00:00</th>\n",
       "      <td>0 days 08:04:00</td>\n",
       "      <td>0 days 08:07:00</td>\n",
       "      <td>0 days 00:03:00</td>\n",
       "    </tr>\n",
       "    <tr>\n",
       "      <th>2022-04-02 03:03:00+00:00</th>\n",
       "      <td>0 days 11:55:00</td>\n",
       "      <td>0 days 11:57:00</td>\n",
       "      <td>0 days 00:02:00</td>\n",
       "    </tr>\n",
       "    <tr>\n",
       "      <th>2022-04-04 19:41:00+00:00</th>\n",
       "      <td>0 days 00:23:00</td>\n",
       "      <td>0 days 00:25:00</td>\n",
       "      <td>0 days 00:02:00</td>\n",
       "    </tr>\n",
       "  </tbody>\n",
       "</table>\n",
       "</div>"
      ],
      "text/plain": [
       "                          diff_in_timestamps_ccxt diff_in_timestamps_talos            diff\n",
       "timestamp                                                                                 \n",
       "2022-03-17 13:32:00+00:00         0 days 11:59:00          0 days 12:01:00 0 days 00:02:00\n",
       "2022-03-18 01:56:00+00:00         0 days 11:58:00          0 days 12:01:00 0 days 00:03:00\n",
       "2022-03-18 15:07:00+00:00         0 days 12:00:00          0 days 12:01:00 0 days 00:01:00\n",
       "2022-03-22 22:33:00+00:00         4 days 04:01:00          4 days 04:04:00 0 days 00:03:00\n",
       "2022-03-24 08:59:00+00:00         0 days 18:31:00          0 days 18:33:00 0 days 00:02:00\n",
       "2022-03-25 16:11:00+00:00         0 days 11:59:00          0 days 12:01:00 0 days 00:02:00\n",
       "2022-03-28 11:53:00+00:00         2 days 16:33:00          2 days 16:35:00 0 days 00:02:00\n",
       "2022-03-30 13:24:00+00:00         0 days 11:59:00          0 days 12:02:00 0 days 00:03:00\n",
       "2022-03-30 16:37:00+00:00         0 days 00:38:00          0 days 00:41:00 0 days 00:03:00\n",
       "2022-04-01 14:17:00+00:00         0 days 08:04:00          0 days 08:07:00 0 days 00:03:00\n",
       "2022-04-02 03:03:00+00:00         0 days 11:55:00          0 days 11:57:00 0 days 00:02:00\n",
       "2022-04-04 19:41:00+00:00         0 days 00:23:00          0 days 00:25:00 0 days 00:02:00"
      ]
     },
     "execution_count": 11,
     "metadata": {},
     "output_type": "execute_result"
    }
   ],
   "source": [
    "# Cases where both vendors have NaN sequences.\n",
    "df[(df.diff_in_timestamps_ccxt.notna()) & df.diff_in_timestamps_talos.notna()]"
   ]
  },
  {
   "cell_type": "markdown",
   "id": "90ff843e",
   "metadata": {},
   "source": [
    "An important notice is that the most NaN sequences are ending at the same time in both vendors that is an indicator of this data is absent on the data provider side."
   ]
  },
  {
   "cell_type": "code",
   "execution_count": 12,
   "id": "5255fd30",
   "metadata": {
    "ExecuteTime": {
     "end_time": "2022-04-08T18:15:55.408090Z",
     "start_time": "2022-04-08T18:15:55.395320Z"
    }
   },
   "outputs": [
    {
     "data": {
      "text/html": [
       "<div>\n",
       "<style scoped>\n",
       "    .dataframe tbody tr th:only-of-type {\n",
       "        vertical-align: middle;\n",
       "    }\n",
       "\n",
       "    .dataframe tbody tr th {\n",
       "        vertical-align: top;\n",
       "    }\n",
       "\n",
       "    .dataframe thead th {\n",
       "        text-align: right;\n",
       "    }\n",
       "</style>\n",
       "<table border=\"1\" class=\"dataframe\">\n",
       "  <thead>\n",
       "    <tr style=\"text-align: right;\">\n",
       "      <th></th>\n",
       "      <th>diff_in_timestamps_ccxt</th>\n",
       "      <th>diff_in_timestamps_talos</th>\n",
       "      <th>diff</th>\n",
       "    </tr>\n",
       "    <tr>\n",
       "      <th>timestamp</th>\n",
       "      <th></th>\n",
       "      <th></th>\n",
       "      <th></th>\n",
       "    </tr>\n",
       "  </thead>\n",
       "  <tbody>\n",
       "    <tr>\n",
       "      <th>2022-03-25 16:17:00+00:00</th>\n",
       "      <td>NaT</td>\n",
       "      <td>0 days 00:02:00</td>\n",
       "      <td>NaT</td>\n",
       "    </tr>\n",
       "    <tr>\n",
       "      <th>2022-03-30 13:31:00+00:00</th>\n",
       "      <td>NaT</td>\n",
       "      <td>0 days 00:03:00</td>\n",
       "      <td>NaT</td>\n",
       "    </tr>\n",
       "    <tr>\n",
       "      <th>2022-03-30 18:37:00+00:00</th>\n",
       "      <td>NaT</td>\n",
       "      <td>0 days 00:43:00</td>\n",
       "      <td>NaT</td>\n",
       "    </tr>\n",
       "    <tr>\n",
       "      <th>2022-03-31 21:03:00+00:00</th>\n",
       "      <td>NaT</td>\n",
       "      <td>0 days 04:51:00</td>\n",
       "      <td>NaT</td>\n",
       "    </tr>\n",
       "    <tr>\n",
       "      <th>2022-03-31 21:14:00+00:00</th>\n",
       "      <td>NaT</td>\n",
       "      <td>0 days 00:03:00</td>\n",
       "      <td>NaT</td>\n",
       "    </tr>\n",
       "    <tr>\n",
       "      <th>2022-03-31 21:23:00+00:00</th>\n",
       "      <td>NaT</td>\n",
       "      <td>0 days 00:05:00</td>\n",
       "      <td>NaT</td>\n",
       "    </tr>\n",
       "    <tr>\n",
       "      <th>2022-04-04 12:35:00+00:00</th>\n",
       "      <td>NaT</td>\n",
       "      <td>0 days 07:21:00</td>\n",
       "      <td>NaT</td>\n",
       "    </tr>\n",
       "  </tbody>\n",
       "</table>\n",
       "</div>"
      ],
      "text/plain": [
       "                          diff_in_timestamps_ccxt diff_in_timestamps_talos diff\n",
       "timestamp                                                                      \n",
       "2022-03-25 16:17:00+00:00                     NaT          0 days 00:02:00  NaT\n",
       "2022-03-30 13:31:00+00:00                     NaT          0 days 00:03:00  NaT\n",
       "2022-03-30 18:37:00+00:00                     NaT          0 days 00:43:00  NaT\n",
       "2022-03-31 21:03:00+00:00                     NaT          0 days 04:51:00  NaT\n",
       "2022-03-31 21:14:00+00:00                     NaT          0 days 00:03:00  NaT\n",
       "2022-03-31 21:23:00+00:00                     NaT          0 days 00:05:00  NaT\n",
       "2022-04-04 12:35:00+00:00                     NaT          0 days 07:21:00  NaT"
      ]
     },
     "execution_count": 12,
     "metadata": {},
     "output_type": "execute_result"
    }
   ],
   "source": [
    "# The data is presented in CCXT, but not in Talos.\n",
    "df[df.diff_in_timestamps_ccxt.isna()]"
   ]
  },
  {
   "cell_type": "code",
   "execution_count": 13,
   "id": "fba00260",
   "metadata": {
    "ExecuteTime": {
     "end_time": "2022-04-08T18:15:55.420431Z",
     "start_time": "2022-04-08T18:15:55.409964Z"
    }
   },
   "outputs": [
    {
     "data": {
      "text/html": [
       "<div>\n",
       "<style scoped>\n",
       "    .dataframe tbody tr th:only-of-type {\n",
       "        vertical-align: middle;\n",
       "    }\n",
       "\n",
       "    .dataframe tbody tr th {\n",
       "        vertical-align: top;\n",
       "    }\n",
       "\n",
       "    .dataframe thead th {\n",
       "        text-align: right;\n",
       "    }\n",
       "</style>\n",
       "<table border=\"1\" class=\"dataframe\">\n",
       "  <thead>\n",
       "    <tr style=\"text-align: right;\">\n",
       "      <th></th>\n",
       "      <th>diff_in_timestamps_ccxt</th>\n",
       "      <th>diff_in_timestamps_talos</th>\n",
       "      <th>diff</th>\n",
       "    </tr>\n",
       "    <tr>\n",
       "      <th>timestamp</th>\n",
       "      <th></th>\n",
       "      <th></th>\n",
       "      <th></th>\n",
       "    </tr>\n",
       "  </thead>\n",
       "  <tbody>\n",
       "    <tr>\n",
       "      <th>2022-03-30 18:36:00+00:00</th>\n",
       "      <td>0 days 00:40:00</td>\n",
       "      <td>NaT</td>\n",
       "      <td>NaT</td>\n",
       "    </tr>\n",
       "    <tr>\n",
       "      <th>2022-03-31 21:07:00+00:00</th>\n",
       "      <td>0 days 04:52:00</td>\n",
       "      <td>NaT</td>\n",
       "      <td>NaT</td>\n",
       "    </tr>\n",
       "  </tbody>\n",
       "</table>\n",
       "</div>"
      ],
      "text/plain": [
       "                          diff_in_timestamps_ccxt diff_in_timestamps_talos diff\n",
       "timestamp                                                                      \n",
       "2022-03-30 18:36:00+00:00         0 days 00:40:00                      NaT  NaT\n",
       "2022-03-31 21:07:00+00:00         0 days 04:52:00                      NaT  NaT"
      ]
     },
     "execution_count": 13,
     "metadata": {},
     "output_type": "execute_result"
    }
   ],
   "source": [
    "# The data is presented in Talos, but not in CCXT.\n",
    "df[df.diff_in_timestamps_talos.isna()]"
   ]
  },
  {
   "cell_type": "code",
   "execution_count": 14,
   "id": "5466905c",
   "metadata": {
    "ExecuteTime": {
     "end_time": "2022-04-08T18:15:55.439763Z",
     "start_time": "2022-04-08T18:15:55.423125Z"
    }
   },
   "outputs": [
    {
     "name": "stdout",
     "output_type": "stream",
     "text": [
      "Number of NaN sequences that are the same in both vendors: 12\n",
      "Number of NaN sequences that are presented in CCXT, but not in Talos: 2\n",
      "Number of NaN sequences that are presented in Talos, but not in CCXT: 7\n",
      "Total time of NaN sequences in Talos - 11 days 13:36:00\n",
      "Total time of NaN sequences in CCXT - 11 days 05:32:00\n",
      "Talos NaN sequences are greater than CCXT by the amount of 0 days 08:04:00\n",
      "Mean difference of NaN sequence between two vendors (Talos has greater sequences) - 0 days 00:02:20\n"
     ]
    }
   ],
   "source": [
    "num_both_seq = df[\n",
    "    (df.diff_in_timestamps_ccxt.notna()) & df.diff_in_timestamps_talos.notna()\n",
    "].shape[0]\n",
    "num_unique_seq_ccxt = df[df.diff_in_timestamps_talos.isna()].shape[0]\n",
    "num_unique_seq_talos = df[df.diff_in_timestamps_ccxt.isna()].shape[0]\n",
    "\n",
    "total_time_talos = df[\"diff_in_timestamps_talos\"].sum()\n",
    "total_time_ccxt = df[\"diff_in_timestamps_ccxt\"].sum()\n",
    "diff_in_total_time = total_time_talos - total_time_ccxt\n",
    "mean_time_diff = df[\"diff\"].mean()\n",
    "\n",
    "print(\n",
    "    f\"Number of NaN sequences that are the same in both vendors: {num_both_seq}\"\n",
    ")\n",
    "print(\n",
    "    f\"Number of NaN sequences that are presented in CCXT, but not in Talos: {num_unique_seq_ccxt}\"\n",
    ")\n",
    "print(\n",
    "    f\"Number of NaN sequences that are presented in Talos, but not in CCXT: {num_unique_seq_talos}\"\n",
    ")\n",
    "\n",
    "print(f\"Total time of NaN sequences in Talos - {total_time_talos}\")\n",
    "print(f\"Total time of NaN sequences in CCXT - {total_time_ccxt}\")\n",
    "print(\n",
    "    f\"Talos NaN sequences are greater than CCXT by the amount of {diff_in_total_time}\"\n",
    ")\n",
    "print(\n",
    "    f\"Mean difference of NaN sequence between two vendors (Talos has greater sequences) - {mean_time_diff}\"\n",
    ")"
   ]
  },
  {
   "cell_type": "code",
   "execution_count": null,
   "id": "39d917a7",
   "metadata": {},
   "outputs": [],
   "source": []
  }
 ],
 "metadata": {
  "kernelspec": {
   "display_name": "Python 3 (ipykernel)",
   "language": "python",
   "name": "python3"
  },
  "language_info": {
   "codemirror_mode": {
    "name": "ipython",
    "version": 3
   },
   "file_extension": ".py",
   "mimetype": "text/x-python",
   "name": "python",
   "nbconvert_exporter": "python",
   "pygments_lexer": "ipython3",
   "version": "3.8.10"
  },
  "toc": {
   "base_numbering": 1,
   "nav_menu": {},
   "number_sections": true,
   "sideBar": true,
   "skip_h1_title": false,
   "title_cell": "Table of Contents",
   "title_sidebar": "Contents",
   "toc_cell": false,
   "toc_position": {},
   "toc_section_display": true,
   "toc_window_display": false
  }
 },
 "nbformat": 4,
 "nbformat_minor": 5
}
