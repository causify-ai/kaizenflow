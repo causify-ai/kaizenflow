{
 "cells": [
  {
   "cell_type": "markdown",
   "id": "a03ba9cd",
   "metadata": {},
   "source": [
    "## Imports"
   ]
  },
  {
   "cell_type": "code",
   "execution_count": null,
   "id": "e5d3fe89",
   "metadata": {},
   "outputs": [],
   "source": [
    "import warnings\n",
    "warnings.simplefilter(action='ignore', category=FutureWarning)"
   ]
  },
  {
   "cell_type": "code",
   "execution_count": null,
   "id": "db199eb5",
   "metadata": {},
   "outputs": [],
   "source": [
    "import logging\n",
    "\n",
    "import pandas as pd\n",
    "\n",
    "import helpers.hdatetime as hdateti\n",
    "import helpers.hdbg as hdbg\n",
    "import helpers.hprint as hprint\n",
    "import im_v2.ccxt.data.client.ccxt_clients as imvcdccccl\n",
    "import im_v2.talos.data.client.talos_clients as imvtdctacl\n",
    "import im_v2.talos.data.extract.exchange_class as imvtdeexcl\n",
    "\n",
    "import im_v2.im_lib_tasks as imvimlita\n",
    "import helpers.hsql as hsql"
   ]
  },
  {
   "cell_type": "code",
   "execution_count": null,
   "id": "6a3811ce",
   "metadata": {},
   "outputs": [],
   "source": [
    "hdbg.init_logger(verbosity=logging.INFO)\n",
    "\n",
    "_LOG = logging.getLogger(__name__)\n",
    "\n",
    "hprint.config_notebook()"
   ]
  },
  {
   "cell_type": "markdown",
   "id": "daf989ac",
   "metadata": {},
   "source": [
    "## Functions"
   ]
  },
  {
   "cell_type": "code",
   "execution_count": null,
   "id": "426dac63",
   "metadata": {},
   "outputs": [],
   "source": [
    "def convert_to_the_format_for_analysis(df, suffix):\n",
    "    \"\"\"\n",
    "    This function does the following:\n",
    "    - Add a column `diff_in_timestamps` which is a time difference from the timestamp in the previous row.\n",
    "    - Drop the columns that are not necessary for the analysis.\n",
    "    - Filter the data, so all data starts from the same time.\n",
    "    - Choose the rows that where the step from the previous timestamp is greater than 1 minute.\n",
    "    - Add suffix to distiguish between vendors.\n",
    "    \"\"\"\n",
    "    df = df.reset_index()\n",
    "    df = df.dropna()\n",
    "    df['diff_in_timestamps'] = df.timestamp - df.timestamp.shift(1)\n",
    "    df = df.set_index(\"timestamp\")\n",
    "    df = df[[\"diff_in_timestamps\", \"volume\"]]\n",
    "    df = df[df.index > \"2022-03-17 00:00:00+00:00\"]\n",
    "    df = df[df[\"diff_in_timestamps\"]!=\"0 days 00:01:00\"]\n",
    "    df = df.add_suffix(f\"{suffix}\")\n",
    "    return df"
   ]
  },
  {
   "cell_type": "markdown",
   "id": "335e44d6",
   "metadata": {},
   "source": [
    "# Load the data"
   ]
  },
  {
   "cell_type": "code",
   "execution_count": null,
   "id": "2b058a35",
   "metadata": {},
   "outputs": [],
   "source": [
    "# Specify the connection.\n",
    "env_file = imvimlita.get_db_env_path(\"dev\")\n",
    "connection_params = hsql.get_connection_info_from_env_file(env_file)\n",
    "connection = hsql.get_connection(*connection_params)\n",
    "# Specify param for both clients.\n",
    "resample_1min = True"
   ]
  },
  {
   "cell_type": "code",
   "execution_count": null,
   "id": "870331dd",
   "metadata": {},
   "outputs": [],
   "source": [
    "# General params for `read_data`.\n",
    "full_symbol = [\"binance::ADA_USDT\"]\n",
    "start_date = end_date = None"
   ]
  },
  {
   "cell_type": "markdown",
   "id": "3de5c040",
   "metadata": {},
   "source": [
    "## Load CCXT data"
   ]
  },
  {
   "cell_type": "code",
   "execution_count": null,
   "id": "45d273da",
   "metadata": {},
   "outputs": [],
   "source": [
    "# Initiate the client.\n",
    "vendor = \"CCXT\"\n",
    "ccxt_client = imvcdccccl.CcxtCddDbClient(vendor, resample_1min, connection)"
   ]
  },
  {
   "cell_type": "code",
   "execution_count": null,
   "id": "e702e745",
   "metadata": {},
   "outputs": [],
   "source": [
    "# Load the data.\n",
    "ada_ccxt = ccxt_client.read_data(full_symbol, start_date, end_date)\n",
    "display(ada_ccxt.shape)\n",
    "display(ada_ccxt.head(3))"
   ]
  },
  {
   "cell_type": "markdown",
   "id": "67ea296a",
   "metadata": {},
   "source": [
    "## Load Realtime Talos data"
   ]
  },
  {
   "cell_type": "code",
   "execution_count": null,
   "id": "28c51e31",
   "metadata": {},
   "outputs": [],
   "source": [
    "# Initialize the client.\n",
    "table_name = \"talos_ohlcv\"\n",
    "mode = \"market_data\"\n",
    "talos_client = imvtdctacl.RealTimeSqlTalosClient(resample_1min, connection, table_name, mode)"
   ]
  },
  {
   "cell_type": "code",
   "execution_count": null,
   "id": "95329214",
   "metadata": {},
   "outputs": [],
   "source": [
    "# Load the data.\n",
    "ada_talos = talos_client.read_data(full_symbol, start_date, end_date)\n",
    "display(ada_talos.shape)\n",
    "display(ada_talos.head(3))"
   ]
  },
  {
   "cell_type": "markdown",
   "id": "e299e2a3",
   "metadata": {},
   "source": [
    "# Research of NaNs in timestamps "
   ]
  },
  {
   "cell_type": "code",
   "execution_count": null,
   "id": "7518a401",
   "metadata": {},
   "outputs": [],
   "source": [
    "diff_ccxt = convert_to_the_format_for_analysis(ada_ccxt, \"_ccxt\")\n",
    "diff_talos = convert_to_the_format_for_analysis(ada_talos, \"_talos\")"
   ]
  },
  {
   "cell_type": "code",
   "execution_count": null,
   "id": "43382f77",
   "metadata": {},
   "outputs": [],
   "source": [
    "df = pd.concat([diff_ccxt, diff_talos],axis=1)"
   ]
  },
  {
   "cell_type": "code",
   "execution_count": null,
   "id": "00ffc75c",
   "metadata": {},
   "outputs": [],
   "source": [
    "df"
   ]
  },
  {
   "cell_type": "code",
   "execution_count": null,
   "id": "ac7c43fd",
   "metadata": {},
   "outputs": [],
   "source": [
    "df[(df.diff_in_timestamps_ccxt.isna())|df.diff_in_timestamps_talos.isna()]"
   ]
  },
  {
   "cell_type": "code",
   "execution_count": null,
   "id": "142ecd3b",
   "metadata": {},
   "outputs": [],
   "source": [
    "df[df.diff_in_timestamps_ccxt.isna()]"
   ]
  },
  {
   "cell_type": "code",
   "execution_count": null,
   "id": "86f5227e",
   "metadata": {},
   "outputs": [],
   "source": [
    "df[df.diff_in_timestamps_talos.isna()]"
   ]
  },
  {
   "cell_type": "code",
   "execution_count": null,
   "id": "cd72624a",
   "metadata": {},
   "outputs": [],
   "source": [
    "df[(df.diff_in_timestamps_ccxt.notna())&df.diff_in_timestamps_talos.notna()]"
   ]
  },
  {
   "cell_type": "code",
   "execution_count": null,
   "id": "837c4f5e",
   "metadata": {},
   "outputs": [],
   "source": [
    "gg = df[(df.diff_in_timestamps_ccxt.notna())&df.diff_in_timestamps_talos.notna()]\n",
    "gg.volume_ccxt == gg.volume_talos"
   ]
  },
  {
   "cell_type": "code",
   "execution_count": null,
   "id": "8cf36937",
   "metadata": {},
   "outputs": [],
   "source": []
  }
 ],
 "metadata": {
  "kernelspec": {
   "display_name": "Python 3 (ipykernel)",
   "language": "python",
   "name": "python3"
  },
  "language_info": {
   "codemirror_mode": {
    "name": "ipython",
    "version": 3
   },
   "file_extension": ".py",
   "mimetype": "text/x-python",
   "name": "python",
   "nbconvert_exporter": "python",
   "pygments_lexer": "ipython3"
  },
  "toc": {
   "base_numbering": 1,
   "nav_menu": {},
   "number_sections": true,
   "sideBar": true,
   "skip_h1_title": false,
   "title_cell": "Table of Contents",
   "title_sidebar": "Contents",
   "toc_cell": false,
   "toc_position": {},
   "toc_section_display": true,
   "toc_window_display": false
  }
 },
 "nbformat": 4,
 "nbformat_minor": 5
}
