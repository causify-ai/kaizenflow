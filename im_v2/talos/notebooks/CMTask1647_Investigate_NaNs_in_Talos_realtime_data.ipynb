{
 "cells": [
  {
   "cell_type": "markdown",
   "id": "9b64ea45",
   "metadata": {},
   "source": [
    "## Imports"
   ]
  },
  {
   "cell_type": "code",
   "execution_count": null,
   "id": "e44a210f",
   "metadata": {},
   "outputs": [],
   "source": [
    "import logging\n",
    "\n",
    "import pandas as pd\n",
    "\n",
    "import helpers.hdbg as hdbg\n",
    "import helpers.hprint as hprint\n",
    "import helpers.hsql as hsql\n",
    "import im_v2.ccxt.data.client.ccxt_clients as imvcdccccl\n",
    "import im_v2.im_lib_tasks as imvimlita\n",
    "import im_v2.talos.data.client.talos_clients as imvtdctacl"
   ]
  },
  {
   "cell_type": "code",
   "execution_count": null,
   "id": "68bd664a",
   "metadata": {},
   "outputs": [],
   "source": [
    "hdbg.init_logger(verbosity=logging.INFO)\n",
    "\n",
    "_LOG = logging.getLogger(__name__)\n",
    "\n",
    "hprint.config_notebook()"
   ]
  },
  {
   "cell_type": "markdown",
   "id": "34aa26c9",
   "metadata": {},
   "source": [
    "## Functions"
   ]
  },
  {
   "cell_type": "code",
   "execution_count": null,
   "id": "8391a475",
   "metadata": {},
   "outputs": [],
   "source": [
    "def convert_to_the_format_for_analysis(df, suffix):\n",
    "    \"\"\"\n",
    "    This function does the following:\n",
    "\n",
    "    - Add a column `diff_in_timestamps` which is a time difference from the timestamp in the previous row.\n",
    "    - Drop the columns that are not necessary for the analysis.\n",
    "    - Filter the data, so all data starts from the same time.\n",
    "    - Choose the rows that where the step from the previous timestamp is greater than 1 minute.\n",
    "    - Add suffix to distiguish between vendors.\n",
    "    \"\"\"\n",
    "    df = df.reset_index()\n",
    "    df = df.dropna()\n",
    "    df[\"diff_in_timestamps\"] = df.timestamp - df.timestamp.shift(1)\n",
    "    df = df.set_index(\"timestamp\")\n",
    "    df = df[[\"diff_in_timestamps\"]]\n",
    "    df = df[df.index > \"2022-03-17 00:00:00+00:00\"]\n",
    "    df = df[df[\"diff_in_timestamps\"] != \"0 days 00:01:00\"]\n",
    "    df = df.add_suffix(f\"{suffix}\")\n",
    "    return df"
   ]
  },
  {
   "cell_type": "markdown",
   "id": "63413e0d",
   "metadata": {},
   "source": [
    "# Load the data"
   ]
  },
  {
   "cell_type": "code",
   "execution_count": null,
   "id": "3b1dda23",
   "metadata": {},
   "outputs": [],
   "source": [
    "# Specify the connection.\n",
    "env_file = imvimlita.get_db_env_path(\"dev\")\n",
    "connection_params = hsql.get_connection_info_from_env_file(env_file)\n",
    "connection = hsql.get_connection(*connection_params)\n",
    "# Specify param for both clients.\n",
    "resample_1min = True"
   ]
  },
  {
   "cell_type": "code",
   "execution_count": null,
   "id": "cc3f21b9",
   "metadata": {},
   "outputs": [],
   "source": [
    "# General params for `read_data`.\n",
    "full_symbol = [\"binance::ADA_USDT\"]\n",
    "start_date = end_date = None"
   ]
  },
  {
   "cell_type": "markdown",
   "id": "88035bad",
   "metadata": {},
   "source": [
    "## Load CCXT data"
   ]
  },
  {
   "cell_type": "code",
   "execution_count": null,
   "id": "83a23e92",
   "metadata": {
    "run_control": {
     "marked": false
    }
   },
   "outputs": [],
   "source": [
    "# Initiate the client.\n",
    "vendor = \"CCXT\"\n",
    "universe_version = \"v3\"\n",
    "table_name = \"ccxt_ohlcv\"\n",
    "ccxt_client = imvcdccccl.CcxtSqlRealTimeImClient(\n",
    "    resample_1min, connection, table_name\n",
    ")"
   ]
  },
  {
   "cell_type": "code",
   "execution_count": null,
   "id": "0f85c6b1",
   "metadata": {},
   "outputs": [],
   "source": [
    "# Load the data.\n",
    "ada_ccxt = ccxt_client.read_data(full_symbol, start_date, end_date)\n",
    "display(ada_ccxt.shape)\n",
    "display(ada_ccxt.head(3))"
   ]
  },
  {
   "cell_type": "markdown",
   "id": "a781804d",
   "metadata": {},
   "source": [
    "## Load Realtime Talos data"
   ]
  },
  {
   "cell_type": "code",
   "execution_count": null,
   "id": "974e67e7",
   "metadata": {
    "run_control": {
     "marked": false
    }
   },
   "outputs": [],
   "source": [
    "# Initialize the client.\n",
    "universe_version = \"v1\"\n",
    "table_name = \"talos_ohlcv\"\n",
    "mode = \"market_data\"\n",
    "talos_client = imvtdctacl.TalosSqlRealTimeImClient(\n",
    "    universe_version, resample_1min, connection, table_name, mode\n",
    ")"
   ]
  },
  {
   "cell_type": "code",
   "execution_count": null,
   "id": "3a3e804d",
   "metadata": {},
   "outputs": [],
   "source": [
    "# Load the data.\n",
    "ada_talos = talos_client.read_data(full_symbol, start_date, end_date)\n",
    "display(ada_talos.shape)\n",
    "display(ada_talos.head(3))"
   ]
  },
  {
   "cell_type": "markdown",
   "id": "355d3ef1",
   "metadata": {},
   "source": [
    "# Research of NaNs in timestamps"
   ]
  },
  {
   "cell_type": "code",
   "execution_count": null,
   "id": "000448a9",
   "metadata": {},
   "outputs": [],
   "source": [
    "diff_ccxt = convert_to_the_format_for_analysis(ada_ccxt, \"_ccxt\")\n",
    "diff_talos = convert_to_the_format_for_analysis(ada_talos, \"_talos\")\n",
    "# The unique DataFrame with the comparison of NaN data.\n",
    "df = pd.concat([diff_ccxt, diff_talos], axis=1)\n",
    "# Add a column that shows the difference between NaN sequences of vendors.\n",
    "df[\"diff\"] = df[\"diff_in_timestamps_talos\"] - df[\"diff_in_timestamps_ccxt\"]\n",
    "df.head(3)"
   ]
  },
  {
   "cell_type": "markdown",
   "id": "ca100837",
   "metadata": {},
   "source": [
    "The description of the columns in the created DataFrame:\n",
    "- `timestamp` - Shows the first piece of data that appears after NaN sequence.\n",
    "- `diff_in_timestamps_ccxt` - Shows the time value of sequence of NaNs in CCXT data.\n",
    "- `diff_in_timestamps_talos` - Same as above but for Talos.\n",
    "- `diff` - Difference between NaN sequences of vendors."
   ]
  },
  {
   "cell_type": "code",
   "execution_count": null,
   "id": "254e0063",
   "metadata": {},
   "outputs": [],
   "source": [
    "# Cases where both vendors have NaN sequences.\n",
    "df[(df.diff_in_timestamps_ccxt.notna()) & df.diff_in_timestamps_talos.notna()]"
   ]
  },
  {
   "cell_type": "markdown",
   "id": "90ff843e",
   "metadata": {},
   "source": [
    "An important notice is that the most NaN sequences are ending at the same time in both vendors that is an indicator of this data is absent on the data provider side."
   ]
  },
  {
   "cell_type": "code",
   "execution_count": null,
   "id": "5255fd30",
   "metadata": {},
   "outputs": [],
   "source": [
    "# The data is presented in CCXT, but not in Talos.\n",
    "df[df.diff_in_timestamps_ccxt.isna()]"
   ]
  },
  {
   "cell_type": "code",
   "execution_count": null,
   "id": "fba00260",
   "metadata": {},
   "outputs": [],
   "source": [
    "# The data is presented in Talos, but not in CCXT.\n",
    "df[df.diff_in_timestamps_talos.isna()]"
   ]
  },
  {
   "cell_type": "code",
   "execution_count": null,
   "id": "5466905c",
   "metadata": {},
   "outputs": [],
   "source": [
    "num_both_seq = df[\n",
    "    (df.diff_in_timestamps_ccxt.notna()) & df.diff_in_timestamps_talos.notna()\n",
    "].shape[0]\n",
    "num_unique_seq_ccxt = df[df.diff_in_timestamps_talos.isna()].shape[0]\n",
    "num_unique_seq_talos = df[df.diff_in_timestamps_ccxt.isna()].shape[0]\n",
    "\n",
    "total_time_talos = df[\"diff_in_timestamps_talos\"].sum()\n",
    "total_time_ccxt = df[\"diff_in_timestamps_ccxt\"].sum()\n",
    "diff_in_total_time = total_time_talos - total_time_ccxt\n",
    "mean_time_diff = df[\"diff\"].mean()\n",
    "\n",
    "print(\n",
    "    f\"Number of NaN sequences that are the same in both vendors: {num_both_seq}\"\n",
    ")\n",
    "print(\n",
    "    f\"Number of NaN sequences that are presented in CCXT, but not in Talos: {num_unique_seq_ccxt}\"\n",
    ")\n",
    "print(\n",
    "    f\"Number of NaN sequences that are presented in Talos, but not in CCXT: {num_unique_seq_talos}\"\n",
    ")\n",
    "\n",
    "print(f\"Total time of NaN sequences in Talos - {total_time_talos}\")\n",
    "print(f\"Total time of NaN sequences in CCXT - {total_time_ccxt}\")\n",
    "print(\n",
    "    f\"Talos NaN sequences are greater than CCXT by the amount of {diff_in_total_time}\"\n",
    ")\n",
    "print(\n",
    "    f\"Mean difference of NaN sequence between two vendors (Talos has greater sequences) - {mean_time_diff}\"\n",
    ")"
   ]
  },
  {
   "cell_type": "code",
   "execution_count": null,
   "id": "39d917a7",
   "metadata": {},
   "outputs": [],
   "source": []
  }
 ],
 "metadata": {
  "kernelspec": {
   "display_name": "Python 3 (ipykernel)",
   "language": "python",
   "name": "python3"
  },
  "language_info": {
   "codemirror_mode": {
    "name": "ipython",
    "version": 3
   },
   "file_extension": ".py",
   "mimetype": "text/x-python",
   "name": "python",
   "nbconvert_exporter": "python",
   "pygments_lexer": "ipython3"
  },
  "toc": {
   "base_numbering": 1,
   "nav_menu": {},
   "number_sections": true,
   "sideBar": true,
   "skip_h1_title": false,
   "title_cell": "Table of Contents",
   "title_sidebar": "Contents",
   "toc_cell": false,
   "toc_position": {},
   "toc_section_display": true,
   "toc_window_display": false
  }
 },
 "nbformat": 4,
 "nbformat_minor": 5
}
