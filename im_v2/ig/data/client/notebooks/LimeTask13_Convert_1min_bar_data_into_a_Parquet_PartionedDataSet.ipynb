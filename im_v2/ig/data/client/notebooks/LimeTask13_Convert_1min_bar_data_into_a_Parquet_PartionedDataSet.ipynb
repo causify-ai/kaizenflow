{
 "cells": [
  {
   "cell_type": "code",
   "execution_count": null,
   "id": "a2fe1943",
   "metadata": {},
   "outputs": [],
   "source": [
    "%load_ext autoreload\n",
    "%autoreload 2\n",
    "\n",
    "import datetime\n",
    "import os\n",
    "\n",
    "import pandas as pd\n",
    "import s3fs\n",
    "from pyarrow import parquet\n",
    "\n",
    "# import helpers.hs3 as hs3\n",
    "import im_v2.ig.data.client.historical_bars as imvidchiba"
   ]
  },
  {
   "cell_type": "code",
   "execution_count": null,
   "id": "95384419",
   "metadata": {},
   "outputs": [],
   "source": [
    "#!aws s3 ls --profile default s3://iglp-core-data/ds/ext/bars/taq/v1.0-prod/60/"
   ]
  },
  {
   "cell_type": "code",
   "execution_count": null,
   "id": "36a1c868",
   "metadata": {},
   "outputs": [],
   "source": [
    "root_path = \"s3://iglp-core-data/ds/ext/bars/taq/v1.0-prod/60/\"\n",
    "\n",
    "# filesystem = s3fs.S3FileSystem(profile=\"default\") if path.startswith('s3://') else None\n",
    "# filesystem.ls(path)\n",
    "# dataset = parquet.ParquetDataset(args.path, filesystem=filesystem)\n",
    "\n",
    "s3 = s3fs.S3FileSystem(profile=\"default\")\n",
    "\n",
    "# s3.ls(path)"
   ]
  },
  {
   "cell_type": "code",
   "execution_count": null,
   "id": "35c4e10a",
   "metadata": {},
   "outputs": [],
   "source": [
    "# path = \"s3://iglp-core-data/ds/ext/bars/taq/v1.0-prod/60/\"\n",
    "\n",
    "# #s3 = hs3.get_s3fs(aws_profile=\"saml-spm-sasm\")\n",
    "# s3 = hs3.get_s3fs(aws_profile=\"default\")\n",
    "# print(s3)\n",
    "# #s3.ls(\"s3://iglp-core-data/\")\n",
    "# #dates = hs3.listdir(PATH, mode=\"non-recursive\", aws_profile=\"saml-spm-sasm\")\n",
    "\n",
    "# dates = s3.ls(path)"
   ]
  },
  {
   "cell_type": "code",
   "execution_count": null,
   "id": "3124d956",
   "metadata": {},
   "outputs": [],
   "source": [
    "filesystem = s3fs.S3FileSystem()\n",
    "igid = 11000\n",
    "filters = []\n",
    "for igid in range(igid, igid + 2000):\n",
    "    filters.append([(\"igid\", \"=\", igid)])\n",
    "print(len(filters))\n",
    "date = \"20200106\"\n",
    "columns = \"start_time end_time ticker close volume\".split()\n",
    "\n",
    "path = os.path.join(root_path, date, \"data.parquet\")\n",
    "dataset = parquet.ParquetDataset(\n",
    "    path, filesystem=filesystem, filters=filters, use_ligacy_dataset=False\n",
    ")\n",
    "# table = dataset.read()#columns=columns)\n",
    "table = dataset.read(columns=columns)\n",
    "df = table.to_pandas()\n",
    "print(df.shape)\n",
    "print(len(df[\"igid\"].unique()))"
   ]
  },
  {
   "cell_type": "code",
   "execution_count": null,
   "id": "dc00d758",
   "metadata": {},
   "outputs": [],
   "source": [
    "filesystem = s3fs.S3FileSystem()\n",
    "igid = 10971\n",
    "filters = [(\"igid\", \"=\", igid)]\n",
    "print(len(filters))\n",
    "date = \"20200106\"\n",
    "columns = \"start_time end_time ticker close volume igid\".split()\n",
    "\n",
    "path = os.path.join(root_path, date, \"data.parquet\")\n",
    "dataset = parquet.ParquetDataset(\n",
    "    path, filesystem=filesystem, filters=filters, use_ligacy_dataset=False\n",
    ")\n",
    "# table = dataset.read()#columns=columns)\n",
    "table = dataset.read(columns=columns)\n",
    "df = table.to_pandas()\n",
    "print(df.shape)\n",
    "print(len(df[\"igid\"].unique()))"
   ]
  },
  {
   "cell_type": "code",
   "execution_count": null,
   "id": "d1ed8ace",
   "metadata": {},
   "outputs": [],
   "source": [
    "filesystem = s3fs.S3FileSystem()\n",
    "date = \"20210106\"\n",
    "columns = \"start_time end_time ticker close volume igid\".split()\n",
    "filters = None\n",
    "path = os.path.join(root_path, date, \"data.parquet\")\n",
    "dataset = parquet.ParquetDataset(\n",
    "    path, filesystem=filesystem, filters=filters, use_ligacy_dataset=False\n",
    ")\n",
    "# table = dataset.read()#columns=columns)\n",
    "table = dataset.read(columns=columns)\n",
    "df = table.to_pandas()\n",
    "print(df.shape)\n",
    "print(len(df[\"igid\"].unique()))"
   ]
  },
  {
   "cell_type": "code",
   "execution_count": null,
   "id": "c6c7abf4",
   "metadata": {},
   "outputs": [],
   "source": [
    "df.head()"
   ]
  },
  {
   "cell_type": "code",
   "execution_count": null,
   "id": "10a866a3",
   "metadata": {},
   "outputs": [],
   "source": [
    "df.dropna(inplace=True)"
   ]
  },
  {
   "cell_type": "code",
   "execution_count": null,
   "id": "bfa024cd",
   "metadata": {},
   "outputs": [],
   "source": [
    "imvidchiba.process_data(df)"
   ]
  },
  {
   "cell_type": "code",
   "execution_count": null,
   "id": "0a692773",
   "metadata": {},
   "outputs": [],
   "source": [
    "ticker_map = df[[\"igid\", \"ticker\"]].groupby(\"igid\").first()[\"ticker\"]\n",
    "\n",
    "ticker_map"
   ]
  },
  {
   "cell_type": "code",
   "execution_count": null,
   "id": "bfc65e24",
   "metadata": {},
   "outputs": [],
   "source": [
    "igid_by_trading_vol.head(100)[\"ticker\"].to_csv(\"top_100_by_trading_volume.csv\")"
   ]
  },
  {
   "cell_type": "code",
   "execution_count": null,
   "id": "728eb22a",
   "metadata": {},
   "outputs": [],
   "source": [
    "df_tmp.loc[13684]"
   ]
  },
  {
   "cell_type": "code",
   "execution_count": null,
   "id": "8be48495",
   "metadata": {},
   "outputs": [],
   "source": [
    "# igids = None\n",
    "igids = [13684]\n",
    "dates = [datetime.date(2021, 1, 6)]\n",
    "columns = [\"close\", \"volume\", \"ticker\"]\n",
    "\n",
    "df = imvidchiba.get_cached_bar_data_for_date_interval(\n",
    "    igids, dates, columns=columns\n",
    ")"
   ]
  },
  {
   "cell_type": "code",
   "execution_count": null,
   "id": "d518c93f",
   "metadata": {},
   "outputs": [],
   "source": [
    "print(imvidchiba.compute_bar_data_stats(df, igid))"
   ]
  },
  {
   "cell_type": "code",
   "execution_count": null,
   "id": "1bff9b79",
   "metadata": {},
   "outputs": [],
   "source": [
    "df.head(3)"
   ]
  },
  {
   "cell_type": "code",
   "execution_count": null,
   "id": "f1fd30fd",
   "metadata": {},
   "outputs": [],
   "source": [
    "volume = df.groupby(\"igid\")[[\"volume\"]].sum()\n",
    "price = df.groupby(\"igid\")[[\"close\"]].mean()\n",
    "ticker_map = df.groupby(\"igid\")[[\"ticker\"]].first()\n",
    "\n",
    "df_tmp = pd.concat([volume, price, ticker_map], axis=1)\n",
    "print(df_tmp.head())\n",
    "\n",
    "df_tmp[\"notional\"] = df_tmp[\"volume\"] * df_tmp[\"close\"]\n",
    "\n",
    "igid_by_trading_vol = df_tmp.sort_values(by=\"notional\", ascending=False)\n",
    "\n",
    "igid_by_trading_vol.head(100)"
   ]
  }
 ],
 "metadata": {
  "kernelspec": {
   "display_name": "Python 3",
   "language": "python",
   "name": "python3"
  },
  "language_info": {
   "codemirror_mode": {
    "name": "ipython",
    "version": 3
   },
   "file_extension": ".py",
   "mimetype": "text/x-python",
   "name": "python",
   "nbconvert_exporter": "python",
   "pygments_lexer": "ipython3"
  },
  "toc": {
   "base_numbering": 1,
   "nav_menu": {},
   "number_sections": true,
   "sideBar": true,
   "skip_h1_title": false,
   "title_cell": "Table of Contents",
   "title_sidebar": "Contents",
   "toc_cell": false,
   "toc_position": {},
   "toc_section_display": true,
   "toc_window_display": false
  }
 },
 "nbformat": 4,
 "nbformat_minor": 5
}
