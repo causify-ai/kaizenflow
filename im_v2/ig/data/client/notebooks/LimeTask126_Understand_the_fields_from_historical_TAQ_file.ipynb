{
 "cells": [
  {
   "cell_type": "markdown",
   "id": "7a3fb16f",
   "metadata": {},
   "source": [
    "## Imports"
   ]
  },
  {
   "cell_type": "code",
   "execution_count": null,
   "id": "031e6de8",
   "metadata": {},
   "outputs": [],
   "source": [
    "%load_ext autoreload\n",
    "%autoreload 2\n",
    "\n",
    "import datetime\n",
    "import logging\n",
    "\n",
    "import pandas as pd\n",
    "import s3fs\n",
    "import seaborn as sns\n",
    "import statsmodels\n",
    "import statsmodels.api\n",
    "from pyarrow import parquet\n",
    "\n",
    "import helpers.hdbg as dbg\n",
    "import helpers.hprint as prnt\n",
    "import vendors_lime.taq_bars.utils as vltbut"
   ]
  },
  {
   "cell_type": "code",
   "execution_count": null,
   "id": "eca5cf0a",
   "metadata": {},
   "outputs": [],
   "source": []
  },
  {
   "cell_type": "code",
   "execution_count": null,
   "id": "0fe4bbc1",
   "metadata": {},
   "outputs": [],
   "source": [
    "prnt.config_notebook()\n",
    "\n",
    "# dbg.init_logger(verbosity=logging.DEBUG)\n",
    "dbg.init_logger(verbosity=logging.INFO)\n",
    "# dbg.test_logger()\n",
    "_LOG = logging.getLogger(__name__)"
   ]
  },
  {
   "cell_type": "code",
   "execution_count": null,
   "id": "a75d005f",
   "metadata": {},
   "outputs": [],
   "source": []
  },
  {
   "cell_type": "code",
   "execution_count": null,
   "id": "14e3cc29",
   "metadata": {},
   "outputs": [],
   "source": [
    "vltbut.get_bar_data()"
   ]
  },
  {
   "cell_type": "markdown",
   "id": "3dda966e",
   "metadata": {},
   "source": [
    "## Data"
   ]
  },
  {
   "cell_type": "code",
   "execution_count": null,
   "id": "2ec2d767",
   "metadata": {},
   "outputs": [],
   "source": [
    "ig_date = \"20190701\"\n",
    "df = vltbut.get_raw_historical_data(ig_date)"
   ]
  },
  {
   "cell_type": "code",
   "execution_count": null,
   "id": "40d61cec",
   "metadata": {},
   "outputs": [],
   "source": [
    "print(df.shape)"
   ]
  },
  {
   "cell_type": "code",
   "execution_count": null,
   "id": "10dcffcf",
   "metadata": {},
   "outputs": [],
   "source": [
    "df.iloc[0]"
   ]
  },
  {
   "cell_type": "code",
   "execution_count": null,
   "id": "d3a6f1aa",
   "metadata": {},
   "outputs": [],
   "source": [
    "df[\"start_time\"].apply(lambda x: pd.Timestamp.utcfromtimestamp(x, utc=True))"
   ]
  },
  {
   "cell_type": "code",
   "execution_count": null,
   "id": "1651f3d7",
   "metadata": {},
   "outputs": [],
   "source": [
    "dtf_df = vltbut.process_bar_data(df, drop_ts_epoch=True, inplace=False)"
   ]
  },
  {
   "cell_type": "code",
   "execution_count": null,
   "id": "71b866aa",
   "metadata": {},
   "outputs": [],
   "source": [
    "dtf_df2 = vltbut.process_bar_data(df, drop_ts_epoch=True, inplace=False)"
   ]
  },
  {
   "cell_type": "code",
   "execution_count": null,
   "id": "d94bb613",
   "metadata": {},
   "outputs": [],
   "source": [
    "dtf_df.equals(dtf_df2)"
   ]
  },
  {
   "cell_type": "code",
   "execution_count": null,
   "id": "6ed98dda",
   "metadata": {},
   "outputs": [],
   "source": [
    "dtf_df.head(5)"
   ]
  },
  {
   "cell_type": "code",
   "execution_count": null,
   "id": "4d59b193",
   "metadata": {},
   "outputs": [],
   "source": [
    "print(\"\\n\".join(map(str, dtf_df.dropna().iloc[0].values)))"
   ]
  },
  {
   "cell_type": "code",
   "execution_count": null,
   "id": "2c0ce1c1",
   "metadata": {},
   "outputs": [],
   "source": [
    "igid"
   ]
  },
  {
   "cell_type": "code",
   "execution_count": null,
   "id": "e38f7f7f",
   "metadata": {},
   "outputs": [],
   "source": [
    "igid = 13684\n",
    "mask = dtf_df[\"igid\"] == igid\n",
    "dtf_df[mask][\"open close low high\".split()].dropna().tail(100).plot()"
   ]
  }
 ],
 "metadata": {
  "jupytext": {
   "text_representation": {
    "extension": ".py",
    "format_name": "percent",
    "format_version": "1.3",
    "jupytext_version": "1.11.4"
   }
  },
  "kernelspec": {
   "display_name": "Python 3 (ipykernel)",
   "language": "python",
   "name": "python3"
  },
  "language_info": {
   "codemirror_mode": {
    "name": "ipython",
    "version": 3
   },
   "file_extension": ".py",
   "mimetype": "text/x-python",
   "name": "python",
   "nbconvert_exporter": "python",
   "pygments_lexer": "ipython3"
  },
  "toc": {
   "base_numbering": 1,
   "nav_menu": {},
   "number_sections": true,
   "sideBar": true,
   "skip_h1_title": false,
   "title_cell": "Table of Contents",
   "title_sidebar": "Contents",
   "toc_cell": false,
   "toc_position": {},
   "toc_section_display": true,
   "toc_window_display": false
  }
 },
 "nbformat": 4,
 "nbformat_minor": 5
}
