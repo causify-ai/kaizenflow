{
 "cells": [
  {
   "cell_type": "code",
   "execution_count": null,
   "id": "c3995b2e",
   "metadata": {},
   "outputs": [],
   "source": [
    "%load_ext autoreload\n",
    "%autoreload 2\n",
    "%matplotlib inline\n",
    "\n",
    "import logging\n",
    "\n",
    "import pandas as pd\n",
    "\n",
    "import core.config as cconfig\n",
    "import core.finance as cofinanc\n",
    "import dataflow.model as dtfmod\n",
    "import helpers.hdbg as hdbg\n",
    "import helpers.henv as henv\n",
    "import helpers.hparquet as hparque\n",
    "import helpers.hprint as hprint\n",
    "import im_v2.ig.data.client.compute_stats_from_tiles as imvidccsft"
   ]
  },
  {
   "cell_type": "code",
   "execution_count": null,
   "id": "04cdf1a7",
   "metadata": {},
   "outputs": [],
   "source": [
    "hdbg.init_logger(verbosity=logging.INFO)\n",
    "\n",
    "_LOG = logging.getLogger(__name__)\n",
    "\n",
    "_LOG.info(\"%s\", henv.get_system_signature()[0])\n",
    "\n",
    "hprint.config_notebook()"
   ]
  },
  {
   "cell_type": "markdown",
   "id": "9b71973e",
   "metadata": {},
   "source": [
    "# Load TAQ bar metadata"
   ]
  },
  {
   "cell_type": "code",
   "execution_count": null,
   "id": "20467549",
   "metadata": {},
   "outputs": [],
   "source": [
    "tile_dict = {\n",
    "    \"dir_name\": \"/cache/tiled.bar_data.top100.2010_2020/\",\n",
    "    \"asset_id_col\": \"igid\",\n",
    "}\n",
    "tile_config = cconfig.Config.from_dict(tile_dict)"
   ]
  },
  {
   "cell_type": "code",
   "execution_count": null,
   "id": "d093e219",
   "metadata": {},
   "outputs": [],
   "source": [
    "parquet_tile_analyzer = dtfmod.ParquetTileAnalyzer()\n",
    "parquet_tile_metadata = parquet_tile_analyzer.collate_parquet_tile_metadata(\n",
    "    tile_config[\"dir_name\"]\n",
    ")"
   ]
  },
  {
   "cell_type": "code",
   "execution_count": null,
   "id": "75298a9e",
   "metadata": {},
   "outputs": [],
   "source": [
    "parquet_tile_analyzer.compute_metadata_stats_by_asset_id(parquet_tile_metadata)"
   ]
  },
  {
   "cell_type": "code",
   "execution_count": null,
   "id": "87f31b85",
   "metadata": {},
   "outputs": [],
   "source": [
    "parquet_tile_analyzer.compute_universe_size_by_time(parquet_tile_metadata)"
   ]
  },
  {
   "cell_type": "code",
   "execution_count": null,
   "id": "60725c83",
   "metadata": {},
   "outputs": [],
   "source": [
    "asset_ids = parquet_tile_metadata.index.levels[0].to_list()\n",
    "display(asset_ids)"
   ]
  },
  {
   "cell_type": "markdown",
   "id": "ccb4f344",
   "metadata": {},
   "source": [
    "# Load a single-asset tile"
   ]
  },
  {
   "cell_type": "code",
   "execution_count": null,
   "id": "f2b0de24",
   "metadata": {},
   "outputs": [],
   "source": [
    "single_asset_tile = next(\n",
    "    hparque.yield_parquet_tiles_by_assets(\n",
    "        tile_config[\"dir_name\"],\n",
    "        asset_ids[0:1],\n",
    "        tile_config[\"asset_id_col\"],\n",
    "        1,\n",
    "        None,\n",
    "    )\n",
    ")"
   ]
  },
  {
   "cell_type": "code",
   "execution_count": null,
   "id": "8e305103",
   "metadata": {},
   "outputs": [],
   "source": [
    "single_tile_df = dtfmod.process_parquet_read_df(\n",
    "    single_asset_tile, tile_config[\"asset_id_col\"]\n",
    ")"
   ]
  },
  {
   "cell_type": "code",
   "execution_count": null,
   "id": "764db10d",
   "metadata": {},
   "outputs": [],
   "source": [
    "single_tile_df.columns.levels[0]"
   ]
  },
  {
   "cell_type": "code",
   "execution_count": null,
   "id": "7abb25fe",
   "metadata": {},
   "outputs": [],
   "source": [
    "single_tile_df.head(3)"
   ]
  },
  {
   "cell_type": "code",
   "execution_count": null,
   "id": "729c30d8",
   "metadata": {},
   "outputs": [],
   "source": [
    "one_asset_df = single_tile_df.droplevel(level=1, axis=1)"
   ]
  },
  {
   "cell_type": "code",
   "execution_count": null,
   "id": "ca0e5056",
   "metadata": {},
   "outputs": [],
   "source": [
    "one_asset_df.head(3)"
   ]
  },
  {
   "cell_type": "markdown",
   "id": "60deafd6",
   "metadata": {},
   "source": [
    "# Compute stats"
   ]
  },
  {
   "cell_type": "code",
   "execution_count": null,
   "id": "4f77dab2",
   "metadata": {},
   "outputs": [],
   "source": [
    "df = imvidccsft.compute_stats(one_asset_df)"
   ]
  },
  {
   "cell_type": "code",
   "execution_count": null,
   "id": "c7998bf3",
   "metadata": {},
   "outputs": [],
   "source": [
    "df.columns.to_list()"
   ]
  },
  {
   "cell_type": "code",
   "execution_count": null,
   "id": "f6816f99",
   "metadata": {},
   "outputs": [],
   "source": [
    "df.head(3)"
   ]
  },
  {
   "cell_type": "markdown",
   "id": "c17ddfe4",
   "metadata": {},
   "source": [
    "# Plot"
   ]
  },
  {
   "cell_type": "code",
   "execution_count": null,
   "id": "e1e81753",
   "metadata": {},
   "outputs": [],
   "source": [
    "# This ratio computes (close - bid_ask_midpoint) / bid_ask_spread.\n",
    "df[\"close_execution_spread_ratio\"].clip(lower=0, upper=1.0).groupby(\n",
    "    lambda x: x.time()\n",
    ").mean().plot()"
   ]
  },
  {
   "cell_type": "code",
   "execution_count": null,
   "id": "6878aae2",
   "metadata": {},
   "outputs": [],
   "source": [
    "# The mode is near 0.5, indicating crossing the spread.\n",
    "# Note, though, that spreads may be artificially wider immediately following an execution.\n",
    "# The second most common value is near 0.0 (midpoint).\n",
    "df[\"close_execution_spread_ratio\"].clip(lower=-0.2, upper=1.0).hist(bins=31)"
   ]
  },
  {
   "cell_type": "code",
   "execution_count": null,
   "id": "813b28ac",
   "metadata": {},
   "outputs": [],
   "source": [
    "# Close price vs last bid-ask midpoint price, in dollars.\n",
    "# Note that peaks near 0, 0.005, 0.01, and at successive half-cent peaks.\n",
    "(one_asset_df[\"close\"] - df[\"bid_ask_midpoint\"]).abs().clip(upper=0.05).hist(\n",
    "    bins=31\n",
    ")"
   ]
  },
  {
   "cell_type": "code",
   "execution_count": null,
   "id": "205bbde3",
   "metadata": {},
   "outputs": [],
   "source": [
    "# The last bid-ask spread in dollars (use as a reference in interpreting trade close prices vs midpoint).\n",
    "df[\"bid_ask_spread_dollars\"].clip(lower=0.0, upper=0.2).hist()"
   ]
  },
  {
   "cell_type": "code",
   "execution_count": null,
   "id": "2caa3771",
   "metadata": {},
   "outputs": [],
   "source": [
    "# The value (close - open) / (high - low).\n",
    "df[\"trade_drift_to_range\"].hist(bins=31)"
   ]
  },
  {
   "cell_type": "code",
   "execution_count": null,
   "id": "2c957613",
   "metadata": {},
   "outputs": [],
   "source": [
    "# The value (2 * close - high - low) / (high - low). A value near +/- 1 indicates that the close price is close to the high/low.\n",
    "df[\"trade_stochastic\"].hist(bins=31)"
   ]
  },
  {
   "cell_type": "code",
   "execution_count": null,
   "id": "69d619aa",
   "metadata": {},
   "outputs": [],
   "source": [
    "# The \"inner range\" is ask_low - bid_high.\n",
    "bid_ask_inner_range_crosses = (df[\"bid_ask_inner_range\"] < 0).sum()\n",
    "bid_ask_inner_range_no_crosses = (df[\"bid_ask_inner_range\"] >= 0).sum()\n",
    "bid_ask_inner_range_cross_ratio = bid_ask_inner_range_crosses / (\n",
    "    bid_ask_inner_range_crosses + bid_ask_inner_range_no_crosses\n",
    ")\n",
    "display(bid_ask_inner_range_cross_ratio)"
   ]
  },
  {
   "cell_type": "code",
   "execution_count": null,
   "id": "d022d1b1",
   "metadata": {
    "run_control": {
     "marked": true
    }
   },
   "outputs": [],
   "source": [
    "# We calculate \"VWAP\" prices from quotes and then derive the midpoint. A \"cross\" means a high or low crossed the quote VWAP midpoint.\n",
    "ig_bar_bid_ask_vwap_midpoint = 0.5 * (\n",
    "    df[\"ig_bar_bid_vwap\"] + df[\"ig_bar_ask_vwap\"]\n",
    ")\n",
    "display(\n",
    "    \"Num ask midpoint crosses = %d\"\n",
    "    % (one_asset_df[\"ask_low\"] < ig_bar_bid_ask_vwap_midpoint).sum()\n",
    ")\n",
    "display(\n",
    "    \"Num bid midpoint crosses = %d\"\n",
    "    % (one_asset_df[\"bid_high\"] > ig_bar_bid_ask_vwap_midpoint).sum()\n",
    ")"
   ]
  },
  {
   "cell_type": "markdown",
   "id": "72ca3d4b",
   "metadata": {},
   "source": [
    "# Resample"
   ]
  },
  {
   "cell_type": "code",
   "execution_count": null,
   "id": "de79ab8e",
   "metadata": {},
   "outputs": [],
   "source": [
    "resampled_df = imvidccsft.resample_taq_bars(one_asset_df, \"15T\")"
   ]
  },
  {
   "cell_type": "code",
   "execution_count": null,
   "id": "90384ea9",
   "metadata": {},
   "outputs": [],
   "source": [
    "resampled_df.head(3)"
   ]
  },
  {
   "cell_type": "code",
   "execution_count": null,
   "id": "88b1d589",
   "metadata": {},
   "outputs": [],
   "source": [
    "resampled_df_stats = imvidccsft.compute_stats(resampled_df)"
   ]
  },
  {
   "cell_type": "code",
   "execution_count": null,
   "id": "f4decd9c",
   "metadata": {},
   "outputs": [],
   "source": [
    "(\n",
    "    resampled_df_stats[\"ig_bar_trade_vwap\"] - resampled_df[\"close_vwap\"]\n",
    ").abs().groupby(lambda x: x.time()).mean().plot()"
   ]
  },
  {
   "cell_type": "markdown",
   "id": "d9550002",
   "metadata": {},
   "source": [
    "# Midpoint crossings"
   ]
  },
  {
   "cell_type": "code",
   "execution_count": null,
   "id": "19983b50",
   "metadata": {},
   "outputs": [],
   "source": [
    "df.head(3)"
   ]
  },
  {
   "cell_type": "code",
   "execution_count": null,
   "id": "f430d972",
   "metadata": {},
   "outputs": [],
   "source": [
    "# Place an order at midpoint every 5 minutes (using midpoint from end of bar).\n",
    "# In the next 5 minutes, does bid cross the midpoint? Ask?"
   ]
  },
  {
   "cell_type": "code",
   "execution_count": null,
   "id": "d3af1c5d",
   "metadata": {},
   "outputs": [],
   "source": [
    "small_df = one_asset_df[[\"bid\", \"ask\", \"close\"]]"
   ]
  },
  {
   "cell_type": "code",
   "execution_count": null,
   "id": "38803b7d",
   "metadata": {},
   "outputs": [],
   "source": [
    "small_df[\"midpoint\"] = 0.5 * (small_df[\"bid\"] + small_df[\"ask\"])\n",
    "small_df[\"quoted_spread\"] = small_df[\"ask\"] - small_df[\"bid\"]"
   ]
  },
  {
   "cell_type": "code",
   "execution_count": null,
   "id": "a4dad7e8",
   "metadata": {},
   "outputs": [],
   "source": [
    "r_df = cofinan.resample_bars(\n",
    "    gp_df,\n",
    "    \"5T\",\n",
    "    [\n",
    "        (\n",
    "            {\n",
    "                \"bid\": \"max_bid\",\n",
    "            },\n",
    "            \"max\",\n",
    "            {},\n",
    "        ),\n",
    "        (\n",
    "            {\n",
    "                \"ask\": \"min_ask\",\n",
    "            },\n",
    "            \"min\",\n",
    "            {},\n",
    "        ),\n",
    "        (\n",
    "            {\n",
    "                \"midpoint\": \"midpoint\",\n",
    "                \"quoted_spread\": \"quoted_spread\",\n",
    "            },\n",
    "            \"last\",\n",
    "            {},\n",
    "        ),\n",
    "    ],\n",
    "    [],\n",
    ")\n",
    "r_df = cofinanc.set_non_ath_to_nan(r_df).dropna()"
   ]
  },
  {
   "cell_type": "code",
   "execution_count": null,
   "id": "681096b7",
   "metadata": {},
   "outputs": [],
   "source": [
    "r_df[[\"midpoint_lag1\"]] = r_df[[\"midpoint\"]].shift(1)\n",
    "r_df[[\"quoted_spread_lag1\"]] = r_df[[\"quoted_spread\"]].shift(1)"
   ]
  },
  {
   "cell_type": "code",
   "execution_count": null,
   "id": "39f375e2",
   "metadata": {},
   "outputs": [],
   "source": [
    "r_df"
   ]
  },
  {
   "cell_type": "code",
   "execution_count": null,
   "id": "cf03820d",
   "metadata": {},
   "outputs": [],
   "source": [
    "(r_df[\"max_bid\"] >= r_df[\"midpoint_lag1\"]).mean()"
   ]
  },
  {
   "cell_type": "code",
   "execution_count": null,
   "id": "ff49fb2d",
   "metadata": {},
   "outputs": [],
   "source": [
    "(r_df[\"min_ask\"] <= r_df[\"midpoint_lag1\"]).mean()"
   ]
  },
  {
   "cell_type": "code",
   "execution_count": null,
   "id": "38523d0e",
   "metadata": {},
   "outputs": [],
   "source": [
    "def compute_probability_of_execution(df, k):\n",
    "    half_quoted_spread_lag1 = 0.5 * df[\"quoted_spread_lag1\"]\n",
    "    bid_cross = df[\"max_bid\"] >= (\n",
    "        df[\"midpoint_lag1\"] + half_quoted_spread_lag1 * k\n",
    "    )\n",
    "    ask_cross = df[\"min_ask\"] <= (\n",
    "        df[\"midpoint_lag1\"] - half_quoted_spread_lag1 * k\n",
    "    )\n",
    "    val = (bid_cross | ask_cross).mean()\n",
    "    return val"
   ]
  },
  {
   "cell_type": "code",
   "execution_count": null,
   "id": "cf9ff349",
   "metadata": {},
   "outputs": [],
   "source": [
    "vals = {}\n",
    "for k in range(-1, 2):\n",
    "    vals[k] = compute_probability_of_execution(r_df, k)\n",
    "vals = pd.Series(vals)\n",
    "display(vals)"
   ]
  },
  {
   "cell_type": "code",
   "execution_count": null,
   "id": "bceb5a85",
   "metadata": {},
   "outputs": [],
   "source": [
    "import core.plotting.plotting_utils as cplpluti"
   ]
  },
  {
   "cell_type": "code",
   "execution_count": null,
   "id": "6b897712",
   "metadata": {},
   "outputs": [],
   "source": [
    "cplpluti.configure_notebook_for_presentation()"
   ]
  },
  {
   "cell_type": "code",
   "execution_count": null,
   "id": "a4999450",
   "metadata": {},
   "outputs": [],
   "source": [
    "vals.plot(\n",
    "    ylim=(0, 1),\n",
    "    xlim=(-1, 1),\n",
    "    xlabel=\"aggresiveness (units of half spread)\",\n",
    "    ylabel=\"probability of execution\",\n",
    ")"
   ]
  },
  {
   "cell_type": "code",
   "execution_count": null,
   "id": "4f76d489",
   "metadata": {},
   "outputs": [],
   "source": [
    "bid_cross.sum()"
   ]
  }
 ],
 "metadata": {
  "kernelspec": {
   "display_name": "Python 3 (ipykernel)",
   "language": "python",
   "name": "python3"
  },
  "language_info": {
   "codemirror_mode": {
    "name": "ipython",
    "version": 3
   },
   "file_extension": ".py",
   "mimetype": "text/x-python",
   "name": "python",
   "nbconvert_exporter": "python",
   "pygments_lexer": "ipython3"
  },
  "toc": {
   "base_numbering": 1,
   "nav_menu": {},
   "number_sections": true,
   "sideBar": true,
   "skip_h1_title": false,
   "title_cell": "Table of Contents",
   "title_sidebar": "Contents",
   "toc_cell": false,
   "toc_position": {},
   "toc_section_display": true,
   "toc_window_display": false
  }
 },
 "nbformat": 4,
 "nbformat_minor": 5
}
