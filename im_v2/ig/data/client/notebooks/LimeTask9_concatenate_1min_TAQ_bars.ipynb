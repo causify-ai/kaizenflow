{
 "cells": [
  {
   "cell_type": "code",
   "execution_count": null,
   "id": "ef20094e",
   "metadata": {},
   "outputs": [],
   "source": [
    "%load_ext autoreload\n",
    "%autoreload 2\n",
    "\n",
    "import pandas as pd\n",
    "\n",
    "import im_v2.ig.data.client.historical_bars as imvidchiba\n",
    "import im_v2.ig.universe.ticker_igid_mapping as imviutigma"
   ]
  },
  {
   "cell_type": "markdown",
   "id": "beface8f",
   "metadata": {},
   "source": [
    "# Get IGID <-> Ticker mapping"
   ]
  },
  {
   "cell_type": "code",
   "execution_count": null,
   "id": "c8de1434",
   "metadata": {},
   "outputs": [],
   "source": [
    "mapping = imviutigma.get_id_mapping(\"20210614\")"
   ]
  },
  {
   "cell_type": "code",
   "execution_count": null,
   "id": "c495445e",
   "metadata": {},
   "outputs": [],
   "source": [
    "mapping"
   ]
  },
  {
   "cell_type": "code",
   "execution_count": null,
   "id": "bace3074",
   "metadata": {
    "run_control": {
     "marked": true
    }
   },
   "outputs": [],
   "source": [
    "mapping = mapping.sort_values(\"volume\", ascending=False).reset_index(drop=True)"
   ]
  },
  {
   "cell_type": "code",
   "execution_count": null,
   "id": "ecdea2a9",
   "metadata": {},
   "outputs": [],
   "source": [
    "mask = mapping[\"ticker\"] == \"AAPL\"\n",
    "mapping[mask]"
   ]
  },
  {
   "cell_type": "code",
   "execution_count": null,
   "id": "0f71c106",
   "metadata": {},
   "outputs": [],
   "source": [
    "mapping.head(30)"
   ]
  },
  {
   "cell_type": "markdown",
   "id": "94ce485c",
   "metadata": {},
   "source": [
    "# Data loading helpers"
   ]
  },
  {
   "cell_type": "code",
   "execution_count": null,
   "id": "2c3f5155",
   "metadata": {},
   "outputs": [],
   "source": [
    "date_srs = imvidchiba.get_dates()"
   ]
  },
  {
   "cell_type": "code",
   "execution_count": null,
   "id": "c166cedd",
   "metadata": {},
   "outputs": [],
   "source": [
    "date_srs"
   ]
  },
  {
   "cell_type": "markdown",
   "id": "fe9b38a7",
   "metadata": {},
   "source": [
    "# Demo for Apple"
   ]
  },
  {
   "cell_type": "code",
   "execution_count": null,
   "id": "e4b81cbd",
   "metadata": {},
   "outputs": [],
   "source": [
    "df = imvidchiba.get_bars(17085, date_srs.loc[\"2014-12-02\":\"2014-12-05\"])"
   ]
  },
  {
   "cell_type": "code",
   "execution_count": null,
   "id": "14c8f938",
   "metadata": {},
   "outputs": [],
   "source": [
    "df.info()"
   ]
  },
  {
   "cell_type": "code",
   "execution_count": null,
   "id": "7460b539",
   "metadata": {},
   "outputs": [],
   "source": [
    "display(df.head(3))\n",
    "display(df.tail(3))"
   ]
  },
  {
   "cell_type": "code",
   "execution_count": null,
   "id": "4e615511",
   "metadata": {},
   "outputs": [],
   "source": [
    "df[\"close\"].plot()"
   ]
  },
  {
   "cell_type": "markdown",
   "id": "627a48c5",
   "metadata": {},
   "source": [
    "# Read data"
   ]
  },
  {
   "cell_type": "code",
   "execution_count": null,
   "id": "899384ad",
   "metadata": {
    "run_control": {
     "marked": true
    }
   },
   "outputs": [],
   "source": [
    "assert 0\n",
    "df = get_data(17085, date_srs.loc[\"2016-01-01\":\"2016-12-31\"])"
   ]
  },
  {
   "cell_type": "code",
   "execution_count": null,
   "id": "d778bb4c",
   "metadata": {},
   "outputs": [],
   "source": [
    "df.info()"
   ]
  },
  {
   "cell_type": "code",
   "execution_count": null,
   "id": "3600ccd4",
   "metadata": {},
   "outputs": [],
   "source": [
    "assert 0\n",
    "df.to_csv(\"AAPL_2016.csv\")"
   ]
  },
  {
   "cell_type": "code",
   "execution_count": null,
   "id": "5a99876d",
   "metadata": {},
   "outputs": [],
   "source": [
    "df_2015 = imvidchiba.read_csv(\"/app/data/AAPL_2015.csv\")"
   ]
  },
  {
   "cell_type": "code",
   "execution_count": null,
   "id": "f76dff66",
   "metadata": {},
   "outputs": [],
   "source": [
    "df_2015.head(3)"
   ]
  },
  {
   "cell_type": "code",
   "execution_count": null,
   "id": "1c1019dd",
   "metadata": {},
   "outputs": [],
   "source": [
    "df_2016 = imvidchiba.read_csv(\"/app/data/AAPL_2016.csv\")"
   ]
  },
  {
   "cell_type": "code",
   "execution_count": null,
   "id": "de6a8fda",
   "metadata": {},
   "outputs": [],
   "source": [
    "df_2016.head(3)"
   ]
  },
  {
   "cell_type": "code",
   "execution_count": null,
   "id": "3aea1cbd",
   "metadata": {},
   "outputs": [],
   "source": [
    "df = pd.concat([df_2015, df_2016], axis=0)"
   ]
  },
  {
   "cell_type": "code",
   "execution_count": null,
   "id": "517f5a3d",
   "metadata": {},
   "outputs": [],
   "source": [
    "df.info()"
   ]
  },
  {
   "cell_type": "code",
   "execution_count": null,
   "id": "e2901a94",
   "metadata": {},
   "outputs": [],
   "source": []
  }
 ],
 "metadata": {
  "kernelspec": {
   "display_name": "Python 3",
   "language": "python",
   "name": "python3"
  },
  "language_info": {
   "codemirror_mode": {
    "name": "ipython",
    "version": 3
   },
   "file_extension": ".py",
   "mimetype": "text/x-python",
   "name": "python",
   "nbconvert_exporter": "python",
   "pygments_lexer": "ipython3"
  },
  "toc": {
   "base_numbering": 1,
   "nav_menu": {},
   "number_sections": true,
   "sideBar": true,
   "skip_h1_title": false,
   "title_cell": "Table of Contents",
   "title_sidebar": "Contents",
   "toc_cell": false,
   "toc_position": {},
   "toc_section_display": true,
   "toc_window_display": false
  }
 },
 "nbformat": 4,
 "nbformat_minor": 5
}
