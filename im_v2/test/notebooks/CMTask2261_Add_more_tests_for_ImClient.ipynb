{
 "cells": [
  {
   "cell_type": "markdown",
   "id": "c201a950",
   "metadata": {},
   "source": [
    "# Imports"
   ]
  },
  {
   "cell_type": "code",
   "execution_count": null,
   "id": "ba72425f",
   "metadata": {},
   "outputs": [],
   "source": [
    "import logging\n",
    "\n",
    "import pandas as pd\n",
    "\n",
    "import core.config.config_ as cconconf\n",
    "import core.config.config_utils as ccocouti\n",
    "import helpers.hdbg as hdbg\n",
    "import helpers.henv as henv\n",
    "import helpers.hprint as hprint\n",
    "import im_v2.ccxt.data.client.ccxt_clients_example as imvcdcccex\n",
    "import im_v2.crypto_chassis.data.client.crypto_chassis_clients_example as imvccdcccce\n",
    "import im_v2.common.data.client.test.im_client_test_case as icdctictc"
   ]
  },
  {
   "cell_type": "code",
   "execution_count": null,
   "id": "ab2301c1",
   "metadata": {},
   "outputs": [],
   "source": [
    "hdbg.init_logger(verbosity=logging.INFO)\n",
    "\n",
    "_LOG = logging.getLogger(__name__)\n",
    "\n",
    "hprint.config_notebook()"
   ]
  },
  {
   "cell_type": "markdown",
   "id": "6ae876c4",
   "metadata": {},
   "source": [
    "# Config"
   ]
  },
  {
   "cell_type": "code",
   "execution_count": null,
   "id": "e5a9de32",
   "metadata": {},
   "outputs": [],
   "source": [
    "def get_config():\n",
    "    config = cconconf.Config()\n",
    "    param_dict = {\n",
    "        \"im_client_params\": {\n",
    "            \"ccxt_params\": {\n",
    "                \"universe_version\": \"v4\",\n",
    "                \"resample_1min\": False,\n",
    "                \"dataset\": \"ohlcv\",\n",
    "                \"contract_type\": \"spot\",\n",
    "                \"data_snapshot\": \"20220530\"\n",
    "            },\n",
    "            \"crypto_chassis_params\": {\n",
    "                \"bid_ask\": {\n",
    "                    \"universe_version\": \"v3\",\n",
    "                    \"resample_1min\": True,\n",
    "                    \"dataset\": \"bid_ask\",\n",
    "                    \"contract_type\": \"futures\",\n",
    "                    \"data_snapshot\": \"20220620\"\n",
    "            },\n",
    "                \"ohlcv\": {\n",
    "                    \"universe_version\": \"v3\",\n",
    "                    \"resample_1min\": True,\n",
    "                    \"dataset\": \"ohlcv\",\n",
    "                    \"contract_type\": \"spot\",\n",
    "                    \"data_snapshot\": \"20220530\"\n",
    "                }\n",
    "            }\n",
    "        },\n",
    "        \"read_data\": {\n",
    "            \"full_symbols\": [\"binance::BTC_USDT\", \"binance::ADA_USDT\"],\n",
    "            \"start_ts\": pd.Timestamp(\"2022-05-15 13:00:00+00:00\"),\n",
    "            \"end_ts\": pd.Timestamp(\"2022-05-15 13:10:00+00:00\"),\n",
    "        }\n",
    "    }\n",
    "    config = ccocouti.get_config_from_nested_dict(param_dict)\n",
    "    return config\n",
    "# \n",
    "config = get_config()\n",
    "print(config)"
   ]
  },
  {
   "cell_type": "markdown",
   "id": "abc64ebf",
   "metadata": {},
   "source": [
    "# Function"
   ]
  },
  {
   "cell_type": "code",
   "execution_count": null,
   "id": "f6c36172",
   "metadata": {},
   "outputs": [],
   "source": [
    "def test_read_data(\n",
    "    im_client,\n",
    "    **expected_values,\n",
    "):\n",
    "    im_client_test_case  = icdctictc.ImClientTestCase()\n",
    "    im_client_test_case._test_read_data5(\n",
    "        im_client,\n",
    "        **expected_values,\n",
    "    )"
   ]
  },
  {
   "cell_type": "markdown",
   "id": "40e2471a",
   "metadata": {},
   "source": [
    "# CcxtHistoricalPqByTileClient"
   ]
  },
  {
   "cell_type": "code",
   "execution_count": null,
   "id": "5df43450",
   "metadata": {},
   "outputs": [],
   "source": [
    "ccxt_historical_client = imvcdcccex.get_CcxtHistoricalPqByTileClient_example1(\n",
    "    **config[\"im_client_params\"][\"ccxt_params\"]\n",
    ")\n",
    "# TODO(Nina): DO NOT FORGET TO EDIT OUTPUTS\n",
    "expected = {\n",
    "    \"expected_signature\": r\"\"\"# df=\n",
    "        index=[2022-05-15 13:00:00+00:00, 2022-05-15 13:15:00+00:00]\n",
    "        columns=full_symbol,open,high,low,close,volume,vwap,number_of_trades,twap,knowledge_timestamp\n",
    "        shape=(32, 10)\n",
    "                                          full_symbol        open        high         low       close        volume          vwap  number_of_trades          twap              knowledge_timestamp\n",
    "        timestamp\n",
    "        2022-05-15 13:00:00+00:00   binance::BTC_USDT  30309.9900  30315.9100  30280.0000  30280.9500      45.13335  30291.409100               607  30291.172400 2022-05-31 14:38:23.953697+00:00\n",
    "        2022-05-15 13:00:00+00:00  binance::DOGE_USDT      0.0895      0.0895      0.0894      0.0894  606842.00000      0.089435                49      0.089469 2022-05-31 14:38:29.472387+00:00\n",
    "        2022-05-15 13:01:00+00:00   binance::BTC_USDT  30280.9500  30299.5700  30263.2800  30263.3100      39.45772  30278.419700               577  30278.335000 2022-05-31 14:38:23.953697+00:00\n",
    "        ...\n",
    "        2022-05-15 13:14:00+00:00  binance::DOGE_USDT      0.0895      0.0897      0.0894      0.0896  233260.00000      0.089547                30      0.089507 2022-05-31 14:38:29.472387+00:00\n",
    "        2022-05-15 13:15:00+00:00   binance::BTC_USDT  30363.5000  30400.0000  30324.2300  30387.2600      62.71008  30370.925000              1364  30374.435700 2022-05-31 14:38:23.953697+00:00\n",
    "        2022-05-15 13:15:00+00:00  binance::DOGE_USDT      0.0897      0.0898      0.0895      0.0898  460666.00000      0.089629                23      0.089626 2022-05-31 14:38:29.472387+00:00\n",
    "        \"\"\",\n",
    "    \"expected_length\": 32,\n",
    "    \"expected_column_unique_values\": {\n",
    "        \"full_symbol\": [\"binance::BTC_USDT\", \"binance::ADA_USDT\"]\n",
    "    },\n",
    "    \"expected_column_names\": None\n",
    "}\n",
    "ccxt_config = config\n",
    "ccxt_config[\"read_data\"].update(expected)\n",
    "test_read_data(ccxt_historical_client, **ccxt_config[\"read_data\"])"
   ]
  }
 ],
 "metadata": {
  "kernelspec": {
   "display_name": "Python 3 (ipykernel)",
   "language": "python",
   "name": "python3"
  },
  "language_info": {
   "codemirror_mode": {
    "name": "ipython",
    "version": 3
   },
   "file_extension": ".py",
   "mimetype": "text/x-python",
   "name": "python",
   "nbconvert_exporter": "python",
   "pygments_lexer": "ipython3"
  },
  "toc": {
   "base_numbering": 1,
   "nav_menu": {},
   "number_sections": true,
   "sideBar": true,
   "skip_h1_title": false,
   "title_cell": "Table of Contents",
   "title_sidebar": "Contents",
   "toc_cell": false,
   "toc_position": {},
   "toc_section_display": true,
   "toc_window_display": false
  }
 },
 "nbformat": 4,
 "nbformat_minor": 5
}
