{
 "cells": [
  {
   "cell_type": "markdown",
   "id": "64bd8eca",
   "metadata": {},
   "source": [
    "## Description"
   ]
  },
  {
   "cell_type": "markdown",
   "id": "715f0b52",
   "metadata": {},
   "source": [
    "This notebook contains reference of the main API endpoints and data examples for CryptoChassis.\n",
    "\n",
    "CryptoChassis API docs: https://github.com/crypto-chassis/cryptochassis-data-api-docs"
   ]
  },
  {
   "cell_type": "code",
   "execution_count": null,
   "id": "d5232998",
   "metadata": {},
   "outputs": [],
   "source": [
    "import pandas as pd\n",
    "import requests\n",
    "\n",
    "import im_v2.common.universe.universe as imvcounun\n",
    "import im_v2.crypto_chassis.data.extract.extractor as imvccdexex"
   ]
  },
  {
   "cell_type": "markdown",
   "id": "aa557d6e",
   "metadata": {},
   "source": [
    "## General endpoints and Extractor methods"
   ]
  },
  {
   "cell_type": "markdown",
   "id": "d0a0349b",
   "metadata": {},
   "source": [
    "### General endpoints"
   ]
  },
  {
   "cell_type": "code",
   "execution_count": null,
   "id": "27e59747",
   "metadata": {},
   "outputs": [],
   "source": [
    "# Base url for all requests to append to.\n",
    "base_url = \"https://api.cryptochassis.com/v1\"\n",
    "response = requests.get(base_url)\n",
    "response.json()"
   ]
  },
  {
   "cell_type": "markdown",
   "id": "513435b8",
   "metadata": {},
   "source": [
    "### Information\n",
    "https://github.com/crypto-chassis/cryptochassis-data-api-docs#information"
   ]
  },
  {
   "cell_type": "code",
   "execution_count": null,
   "id": "d88c4ce3",
   "metadata": {},
   "outputs": [],
   "source": [
    "example_url = \"https://api.cryptochassis.com/v1/information?dataType=market-depth&exchange=coinbase\"\n",
    "response = requests.get(example_url)\n",
    "response.json()"
   ]
  },
  {
   "cell_type": "markdown",
   "id": "f04aac48",
   "metadata": {},
   "source": [
    "### Types of extractor"
   ]
  },
  {
   "cell_type": "code",
   "execution_count": null,
   "id": "aa495c8d",
   "metadata": {},
   "outputs": [],
   "source": [
    "extractor_spot = imvccdexex.CryptoChassisExtractor(\"spot\")"
   ]
  },
  {
   "cell_type": "code",
   "execution_count": null,
   "id": "d5fdb5ef",
   "metadata": {},
   "outputs": [],
   "source": [
    "# Only binance futures are supported.\n",
    "extractor_futures = imvccdexex.CryptoChassisExtractor(\"futures\")"
   ]
  },
  {
   "cell_type": "markdown",
   "id": "413d9ace",
   "metadata": {},
   "source": [
    "### Methods for building an URL"
   ]
  },
  {
   "cell_type": "markdown",
   "id": "512ca42f",
   "metadata": {},
   "source": [
    "#### Building an URL"
   ]
  },
  {
   "cell_type": "code",
   "execution_count": null,
   "id": "8a56e4e7",
   "metadata": {},
   "outputs": [],
   "source": [
    "base_url = extractor_spot._build_base_url(\"ohlc\", \"binance\", \"btc-usdt\")\n",
    "base_url"
   ]
  },
  {
   "cell_type": "code",
   "execution_count": null,
   "id": "af3b1460",
   "metadata": {},
   "outputs": [],
   "source": [
    "response = requests.get(base_url)\n",
    "response.json()"
   ]
  },
  {
   "cell_type": "markdown",
   "id": "d2149415",
   "metadata": {},
   "source": [
    "#### Specifying a query"
   ]
  },
  {
   "cell_type": "code",
   "execution_count": null,
   "id": "c6f9f6d3",
   "metadata": {
    "run_control": {
     "marked": false
    }
   },
   "outputs": [],
   "source": [
    "startTime = \"2019-12-26T00:00:00.000Z\"\n",
    "endTime = \"2019-12-27T00:00:00.000Z\"\n",
    "interval = \"1m\"\n",
    "query_url = extractor_spot._build_query_url(\n",
    "    base_url, startTime=startTime, endTime=endTime, interval=interval\n",
    ")\n",
    "query_url"
   ]
  },
  {
   "cell_type": "code",
   "execution_count": null,
   "id": "d3d62b58",
   "metadata": {},
   "outputs": [],
   "source": [
    "response = requests.get(query_url)\n",
    "response.json()"
   ]
  },
  {
   "cell_type": "markdown",
   "id": "c6e14425",
   "metadata": {},
   "source": [
    "### Available data types"
   ]
  },
  {
   "cell_type": "code",
   "execution_count": null,
   "id": "5bd4d236",
   "metadata": {},
   "outputs": [],
   "source": [
    "url = \"https://api.cryptochassis.com/v1/information\"\n",
    "response = requests.get(url)\n",
    "response.json()"
   ]
  },
  {
   "cell_type": "code",
   "execution_count": null,
   "id": "9fc8acda",
   "metadata": {},
   "outputs": [],
   "source": [
    "data_types = [\"market-depth\", \"ohlc\", \"trade\"]\n",
    "for data_type in data_types:\n",
    "    url = f\"https://api.cryptochassis.com/v1/information?dataType={data_type}\"\n",
    "    print(url)\n",
    "    print(requests.get(url).json())"
   ]
  },
  {
   "cell_type": "markdown",
   "id": "fb12427c",
   "metadata": {},
   "source": [
    "### Available instruments"
   ]
  },
  {
   "cell_type": "markdown",
   "id": "50c6b346",
   "metadata": {},
   "source": [
    "Only for those included in universe v5."
   ]
  },
  {
   "cell_type": "code",
   "execution_count": null,
   "id": "84601555",
   "metadata": {},
   "outputs": [],
   "source": [
    "universe = imvcounun.get_vendor_universe(\"crypto_chassis\", \"download\")\n",
    "supported_exchanges = list(universe.keys())"
   ]
  },
  {
   "cell_type": "code",
   "execution_count": null,
   "id": "13dd542d",
   "metadata": {},
   "outputs": [],
   "source": [
    "supported_exchanges"
   ]
  },
  {
   "cell_type": "markdown",
   "id": "3ed184c3",
   "metadata": {},
   "source": [
    "## OHLCV"
   ]
  },
  {
   "cell_type": "markdown",
   "id": "20f2b2d4",
   "metadata": {},
   "source": [
    "### Spot"
   ]
  },
  {
   "cell_type": "markdown",
   "id": "b00ba026",
   "metadata": {},
   "source": [
    "#### Raw data example (using `requests`)"
   ]
  },
  {
   "cell_type": "code",
   "execution_count": null,
   "id": "51d106d9",
   "metadata": {},
   "outputs": [],
   "source": [
    "url = f\"https://api.cryptochassis.com/v1/ohlc/ftx/btc-usdt?startTime=1657778400&endTime=1657789200\"\n",
    "response = requests.get(url)\n",
    "print(url)\n",
    "print(response.json())"
   ]
  },
  {
   "cell_type": "markdown",
   "id": "3e2c9e91",
   "metadata": {},
   "source": [
    "#### DataFrame example using Extractor class"
   ]
  },
  {
   "cell_type": "code",
   "execution_count": null,
   "id": "7822f3c5",
   "metadata": {},
   "outputs": [],
   "source": [
    "start_timestamp = pd.Timestamp(\"2022-06-14T10:00:00\", tz=\"UTC\")\n",
    "end_timestamp = pd.Timestamp(\"2022-06-14T12:59:00\", tz=\"UTC\")\n",
    "extractor_spot._download_ohlcv(\n",
    "    \"ftx\",\n",
    "    \"btc-usdt\",\n",
    "    start_timestamp=start_timestamp,\n",
    "    end_timestamp=end_timestamp,\n",
    ")"
   ]
  },
  {
   "cell_type": "markdown",
   "id": "47657a94",
   "metadata": {},
   "source": [
    "### Futures"
   ]
  },
  {
   "cell_type": "markdown",
   "id": "a7223e90",
   "metadata": {},
   "source": [
    "#### Raw data example (using `requests`)"
   ]
  },
  {
   "cell_type": "code",
   "execution_count": null,
   "id": "717c7bef",
   "metadata": {},
   "outputs": [],
   "source": [
    "url = f\"https://api.cryptochassis.com/v1/ohlc/binance-usds-futures/btcusdt?startTime=1654718400&endTime=1654740000\"\n",
    "response = requests.get(url)\n",
    "print(url)\n",
    "# The raw data is in the value of the `urls.url` field zipped into the csv.gz archive,\n",
    "# which contains dataframe which is unpacked by the extractor.\n",
    "print(response.json())"
   ]
  },
  {
   "cell_type": "markdown",
   "id": "17efec5a",
   "metadata": {},
   "source": [
    "#### DataFrame example using Extractor class"
   ]
  },
  {
   "cell_type": "code",
   "execution_count": null,
   "id": "398224e8",
   "metadata": {},
   "outputs": [],
   "source": [
    "start_timestamp = pd.Timestamp(\"2022-06-09T00:00:00\", tz=\"UTC\")\n",
    "end_timestamp = pd.Timestamp(\"2022-06-10T00:00:00\", tz=\"UTC\")\n",
    "extractor_futures._download_ohlcv(\n",
    "    \"binance\",\n",
    "    \"btc/usdt\",\n",
    "    start_timestamp=start_timestamp,\n",
    "    end_timestamp=end_timestamp,\n",
    ")"
   ]
  },
  {
   "cell_type": "markdown",
   "id": "d13ba26a",
   "metadata": {},
   "source": [
    "## Bid/ask"
   ]
  },
  {
   "cell_type": "markdown",
   "id": "7c3c94ca",
   "metadata": {},
   "source": [
    "### Spot"
   ]
  },
  {
   "cell_type": "markdown",
   "id": "c61ae671",
   "metadata": {},
   "source": [
    "#### Raw data example (using `requests`)"
   ]
  },
  {
   "cell_type": "code",
   "execution_count": null,
   "id": "c77dd5be",
   "metadata": {},
   "outputs": [],
   "source": [
    "url = f\"https://api.cryptochassis.com/v1/market-depth/ftx/btc-usdt?startTime=1655204609&endTime=1655206609\"\n",
    "response = requests.get(url)\n",
    "# The raw data is in the value of the `urls.url` field zipped into the csv.gz archive,\n",
    "# which contains dataframe which is unpacked by the extractor.\n",
    "response.json()"
   ]
  },
  {
   "cell_type": "markdown",
   "id": "46ce264a",
   "metadata": {},
   "source": [
    "#### DataFrame example using Extractor class"
   ]
  },
  {
   "cell_type": "code",
   "execution_count": null,
   "id": "cab53660",
   "metadata": {},
   "outputs": [],
   "source": [
    "start_timestamp = pd.Timestamp(\"2022-06-14T10:00:00\", tz=\"UTC\")\n",
    "end_timestamp = pd.Timestamp(\"2022-06-14T12:59:00\", tz=\"UTC\")\n",
    "extractor_spot._download_bid_ask(\n",
    "    \"ftx\",\n",
    "    \"btc-usdt\",\n",
    "    start_timestamp=start_timestamp,\n",
    "    end_timestamp=end_timestamp,\n",
    ")"
   ]
  },
  {
   "cell_type": "markdown",
   "id": "5441d157",
   "metadata": {},
   "source": [
    "### Futures"
   ]
  },
  {
   "cell_type": "markdown",
   "id": "b9dbd873",
   "metadata": {},
   "source": [
    "#### Raw data example (using `requests`)"
   ]
  },
  {
   "cell_type": "code",
   "execution_count": null,
   "id": "a4bcfa73",
   "metadata": {},
   "outputs": [],
   "source": [
    "url = f\"https://api.cryptochassis.com/v1/market-depth/binance-usds-futures/btcusdt?startTime=1654718400&endTime=1654740000\"\n",
    "response = requests.get(url)\n",
    "print(url)\n",
    "# The raw data is in the value of the `urls.url` field zipped into the csv.gz archive,\n",
    "# which contains dataframe which is unpacked by the extractor.\n",
    "print(response.json())"
   ]
  },
  {
   "cell_type": "markdown",
   "id": "76794aaa",
   "metadata": {},
   "source": [
    "#### DataFrame example using Extractor class"
   ]
  },
  {
   "cell_type": "code",
   "execution_count": null,
   "id": "a6da90c0",
   "metadata": {},
   "outputs": [],
   "source": [
    "start_timestamp = pd.Timestamp(\"2022-06-09T00:00:00\", tz=\"UTC\")\n",
    "end_timestamp = pd.Timestamp(\"2022-06-09T07:00:00\", tz=\"UTC\")\n",
    "extractor_futures._download_bid_ask(\n",
    "    \"binance\",\n",
    "    \"btc/usdt\",\n",
    "    start_timestamp=start_timestamp,\n",
    "    end_timestamp=end_timestamp,\n",
    ")"
   ]
  },
  {
   "cell_type": "markdown",
   "id": "f07b517d",
   "metadata": {},
   "source": [
    "## Trade"
   ]
  },
  {
   "cell_type": "markdown",
   "id": "c7ac7cac",
   "metadata": {},
   "source": [
    "### Spot"
   ]
  },
  {
   "cell_type": "markdown",
   "id": "012245eb",
   "metadata": {},
   "source": [
    "#### Raw data example (using `requests`)"
   ]
  },
  {
   "cell_type": "code",
   "execution_count": null,
   "id": "3c356c8c",
   "metadata": {},
   "outputs": [],
   "source": [
    "url = f\"https://api.cryptochassis.com/v1/trade/ftx/btc-usdt?startTime=1655204609\"\n",
    "response = requests.get(url)\n",
    "# The raw data is in the value of the `urls.url` field zipped into the csv.gz archive,\n",
    "# which contains dataframe which is unpacked by the extractor.\n",
    "response.json()"
   ]
  },
  {
   "cell_type": "markdown",
   "id": "de7b2e1b",
   "metadata": {},
   "source": [
    "#### DataFrame example using Extractor class"
   ]
  },
  {
   "cell_type": "code",
   "execution_count": null,
   "id": "72a383be",
   "metadata": {},
   "outputs": [],
   "source": [
    "start_timestamp = pd.Timestamp(\"2022-07-10T10:00:00\", tz=\"UTC\")\n",
    "extractor_spot._download_trades(\n",
    "    \"ftx\", \"btc-usdt\", start_timestamp=start_timestamp\n",
    ")"
   ]
  },
  {
   "cell_type": "markdown",
   "id": "dbe774b2",
   "metadata": {},
   "source": [
    "### Futures"
   ]
  },
  {
   "cell_type": "markdown",
   "id": "ecac9f71",
   "metadata": {},
   "source": [
    "#### Raw data example (using `requests`)"
   ]
  },
  {
   "cell_type": "code",
   "execution_count": null,
   "id": "999f42bd",
   "metadata": {},
   "outputs": [],
   "source": [
    "url = f\"https://api.cryptochassis.com/v1/trade/binance-usds-futures/btcusdt?startTime=1654718400\"\n",
    "response = requests.get(url)\n",
    "print(url)\n",
    "# The raw data is in the value of the `urls.url` field zipped into the csv.gz archive,\n",
    "# which contains dataframe which is unpacked by the extractor.\n",
    "print(response.json())"
   ]
  },
  {
   "cell_type": "markdown",
   "id": "b1b2f00f",
   "metadata": {},
   "source": [
    "#### DataFrame example using Extractor class"
   ]
  },
  {
   "cell_type": "code",
   "execution_count": null,
   "id": "73e5caf7",
   "metadata": {},
   "outputs": [],
   "source": [
    "start_timestamp = pd.Timestamp(\"2022-07-15T14:00:00\", tz=\"UTC\")\n",
    "extractor_futures._download_trades(\n",
    "    \"binance\", \"btc/usdt\", start_timestamp=start_timestamp\n",
    ")"
   ]
  },
  {
   "cell_type": "code",
   "execution_count": null,
   "id": "2ba0b311",
   "metadata": {},
   "outputs": [],
   "source": []
  }
 ],
 "metadata": {
  "jupytext": {
   "formats": "ipynb,py:percent"
  },
  "kernelspec": {
   "display_name": "Python 3 (ipykernel)",
   "language": "python",
   "name": "python3"
  },
  "language_info": {
   "codemirror_mode": {
    "name": "ipython",
    "version": 3
   },
   "file_extension": ".py",
   "mimetype": "text/x-python",
   "name": "python",
   "nbconvert_exporter": "python",
   "pygments_lexer": "ipython3"
  },
  "toc": {
   "base_numbering": 1,
   "nav_menu": {},
   "number_sections": true,
   "sideBar": true,
   "skip_h1_title": false,
   "title_cell": "Table of Contents",
   "title_sidebar": "Contents",
   "toc_cell": false,
   "toc_position": {},
   "toc_section_display": true,
   "toc_window_display": false
  }
 },
 "nbformat": 4,
 "nbformat_minor": 5
}
