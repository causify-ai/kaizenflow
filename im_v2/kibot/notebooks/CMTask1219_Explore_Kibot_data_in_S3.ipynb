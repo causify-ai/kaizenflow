{
 "cells": [
  {
   "cell_type": "markdown",
   "id": "d29d42d5",
   "metadata": {},
   "source": [
    "# Imports"
   ]
  },
  {
   "cell_type": "code",
   "execution_count": null,
   "id": "649cc747",
   "metadata": {},
   "outputs": [],
   "source": [
    "import logging\n",
    "\n",
    "import numpy as np\n",
    "import pandas as pd\n",
    "\n",
    "import helpers.hdbg as hdbg\n",
    "import helpers.henv as henv\n",
    "import helpers.hpandas as hpandas\n",
    "import helpers.hprint as hprint\n",
    "import helpers.hs3 as hs3\n",
    "import im.common.data.types as imcodatyp\n",
    "import im.kibot.data.load.kibot_s3_data_loader as imkdlksdlo\n",
    "import im.kibot.metadata.load.s3_backend as imkmls3ba"
   ]
  },
  {
   "cell_type": "code",
   "execution_count": null,
   "id": "ebba40eb",
   "metadata": {},
   "outputs": [],
   "source": [
    "hdbg.init_logger(verbosity=logging.INFO)\n",
    "\n",
    "_LOG = logging.getLogger(__name__)\n",
    "\n",
    "_LOG.info(\"%s\", henv.get_system_signature()[0])\n",
    "\n",
    "hprint.config_notebook()"
   ]
  },
  {
   "cell_type": "code",
   "execution_count": null,
   "id": "83c0e66d",
   "metadata": {},
   "outputs": [],
   "source": [
    "# Disabling INFO messages from data downloads.\n",
    "logger = logging.getLogger()\n",
    "logger.setLevel(logging.CRITICAL)"
   ]
  },
  {
   "cell_type": "markdown",
   "id": "c2a1fa6a",
   "metadata": {},
   "source": [
    "# Functions"
   ]
  },
  {
   "cell_type": "code",
   "execution_count": null,
   "id": "0916aef8",
   "metadata": {},
   "outputs": [],
   "source": [
    "# TODO: Merge this function into `compute_start_end_table` in `research_amp/cc/statistics.py`\n",
    "def calculate_datetime_statistics_for_kibot_data(\n",
    "    list_of_symbols: list, contract_type: str, futures_frequency: str\n",
    ") -> pd.DataFrame:\n",
    "    \"\"\"\n",
    "    Load the data for each asset through the loop and proccess it to obtain\n",
    "    datetime statistics:\n",
    "\n",
    "    - start date\n",
    "    - end date\n",
    "    - data points count\n",
    "\n",
    "    :param list_of_symbols: tickers for asset in desired universe\n",
    "    :param contract_type: either 'Futures' or 'Stocks'\n",
    "    :param futures_frequency: only for Futures; \"daily\" or \"minutely\"\n",
    "    :return: datetime statistics for every asset in the given universe\n",
    "    \"\"\"\n",
    "    # Create dictionaries that will store the datetime statistics.\n",
    "    start_date_dict = {}\n",
    "    end_date_dict = {}\n",
    "    data_count_dict = {}\n",
    "    # Create a loop that loads data for a single asset and proccess it to extract datetime statistics.\n",
    "    for ticker in list_of_symbols:\n",
    "        # The code below loads the data.\n",
    "        if contract_type == \"Futures\":\n",
    "            asset_df = kibot_loader.read_data(\n",
    "                exchange=\"Any Exchange\",\n",
    "                symbol=ticker,\n",
    "                asset_class=imcodatyp.AssetClass.Futures,\n",
    "                contract_type=imcodatyp.ContractType.Continuous,\n",
    "                frequency=futures_frequency,\n",
    "            )\n",
    "        elif contract_type == \"Stocks\":\n",
    "            asset_df = kibot_loader.read_data(\n",
    "                exchange=\"Any Exchange\",\n",
    "                symbol=ticker,\n",
    "                asset_class=imcodatyp.AssetClass.Stocks,\n",
    "                frequency=imcodatyp.Frequency.Minutely,\n",
    "                unadjusted=False,\n",
    "            )\n",
    "        # Here is a condition that cuts out empty dataframes.\n",
    "        # See section 'Example of an empty stock data' for reference.\n",
    "        if asset_df.shape[0] in [1, 2]:\n",
    "            # The logic here and below: mapping the value of start date to the\n",
    "            # specific company ticker.\n",
    "            start_ind[ticker] = np.nan\n",
    "            # The logic here and below: add a particular ticket related data\n",
    "            # to the dictionaries with data for all tickers.\n",
    "            start_date_dict = start_date_dict | start_ind.items()\n",
    "            end_ind[ticker] = np.nan\n",
    "            end_date_dict = end_date_dict | end_ind.items()\n",
    "            data_count_ind[ticker] = np.nan\n",
    "            data_count_dict = data_count_dict | data_count_ind.items()\n",
    "        # The non-empty dataframes are proccessed to extract datetime statistics.\n",
    "        else:\n",
    "            # Reseting index to unleash the column with datetime data.\n",
    "            asset_df.reset_index(inplace=True)\n",
    "            # Collecting datetime statistics.\n",
    "            max_date = asset_df[\"datetime\"].max()\n",
    "            min_date = asset_df[\"datetime\"].min()\n",
    "            data_points = asset_df[\"datetime\"].count()\n",
    "            # Writing these values into the dictionaries.\n",
    "            start_ind = {ticker: min_date}\n",
    "            start_date_dict = start_date_dict | start_ind.items()\n",
    "            end_ind = {ticker: max_date}\n",
    "            end_date_dict = end_date_dict | end_ind.items()\n",
    "            data_count_ind = {ticker: data_points}\n",
    "            data_count_dict = data_count_dict | data_count_ind.items()\n",
    "        # Once all the dictionaries are filled with data - turn them to dataframes.\n",
    "        # The logic here and below: transform dictionary into `pd.DataFrame`.\n",
    "        # It has two columns: tickers and statistics value. The code below sets tickers\n",
    "        # as an index during this transformation.\n",
    "        final_start_date = pd.DataFrame(\n",
    "            start_date_dict, columns=[\"\", \"start_date\"]\n",
    "        ).set_index(\"\")\n",
    "        final_end_date = pd.DataFrame(\n",
    "            end_date_dict, columns=[\"\", \"end_date\"]\n",
    "        ).set_index(\"\")\n",
    "        final_data_count = pd.DataFrame(\n",
    "            data_count_dict, columns=[\"\", \"data_points_count\"]\n",
    "        ).set_index(\"\")\n",
    "        # Combine all statistics into a single table.\n",
    "        result = pd.concat(\n",
    "            [final_start_date, final_end_date, final_data_count], axis=1\n",
    "        )\n",
    "    return result.sort_index(ascending=True)\n",
    "\n",
    "\n",
    "def calculate_general_datetime_stats(df: pd.DataFrame) -> pd.DataFrame:\n",
    "    \"\"\"\n",
    "    Take the table with datetime stats for individual assets and compute\n",
    "    generalized stats for all universe:\n",
    "\n",
    "    - median start date\n",
    "    - median end date\n",
    "    - min start date\n",
    "    - max start date\n",
    "    - median data points\n",
    "\n",
    "    :param df: Table with datetime statistics for every asset in the given universe\n",
    "    :return: Table with general datetime statistics for all assets in given universe\n",
    "    \"\"\"\n",
    "    median_start_date = df[\"start_date\"].median()\n",
    "    median_end_date = df[\"end_date\"].median()\n",
    "    min_start_date = df[\"start_date\"].min()\n",
    "    max_end_date = df[\"end_date\"].max()\n",
    "    median_data_points = df[\"data_points_count\"].median()\n",
    "    result = pd.DataFrame(\n",
    "        [\n",
    "            median_start_date,\n",
    "            median_end_date,\n",
    "            min_start_date,\n",
    "            max_end_date,\n",
    "            median_data_points,\n",
    "        ],\n",
    "        index=[\n",
    "            \"median_start_date\",\n",
    "            \"median_end_date\",\n",
    "            \"min_start_date\",\n",
    "            \"max_end_date\",\n",
    "            \"median_data_points\",\n",
    "        ],\n",
    "        columns=[\"value\"],\n",
    "    )\n",
    "    return result"
   ]
  },
  {
   "cell_type": "markdown",
   "id": "a35e4f3c",
   "metadata": {},
   "source": [
    "# Explore the universe"
   ]
  },
  {
   "cell_type": "code",
   "execution_count": null,
   "id": "a39099f6",
   "metadata": {},
   "outputs": [],
   "source": [
    "s3_backend = imkmls3ba.S3Backend()"
   ]
  },
  {
   "cell_type": "markdown",
   "id": "47cfdd27",
   "metadata": {},
   "source": [
    "## Futures"
   ]
  },
  {
   "cell_type": "code",
   "execution_count": null,
   "id": "16f79297",
   "metadata": {},
   "outputs": [],
   "source": [
    "one_min_contract_metadata = s3_backend.read_1min_contract_metadata()\n",
    "print(\"Number of contracts:\", one_min_contract_metadata.shape[0])\n",
    "display(one_min_contract_metadata.head(3))"
   ]
  },
  {
   "cell_type": "code",
   "execution_count": null,
   "id": "ca63ea29",
   "metadata": {},
   "outputs": [],
   "source": [
    "daily_contract_metadata = s3_backend.read_daily_contract_metadata()\n",
    "print(\"Number of contracts:\", daily_contract_metadata.shape[0])\n",
    "display(daily_contract_metadata.head(3))"
   ]
  },
  {
   "cell_type": "code",
   "execution_count": null,
   "id": "51ef19d0",
   "metadata": {},
   "outputs": [],
   "source": [
    "tickbidask_contract_metadata = s3_backend.read_tickbidask_contract_metadata()\n",
    "print(\"Number of contracts:\", tickbidask_contract_metadata.shape[0])\n",
    "display(tickbidask_contract_metadata.head(3))"
   ]
  },
  {
   "cell_type": "code",
   "execution_count": null,
   "id": "0a4aa380",
   "metadata": {
    "run_control": {
     "marked": false
    }
   },
   "outputs": [],
   "source": [
    "continuous_contract_metadata = s3_backend.read_continuous_contract_metadata()\n",
    "print(\"Number of contracts:\", continuous_contract_metadata.shape[0])\n",
    "display(continuous_contract_metadata.head(3))"
   ]
  },
  {
   "cell_type": "code",
   "execution_count": null,
   "id": "a5a8697d",
   "metadata": {},
   "outputs": [],
   "source": [
    "kibot_exchange_mapping = s3_backend.read_kibot_exchange_mapping()\n",
    "print(\"Number of contracts:\", kibot_exchange_mapping.shape[0])\n",
    "display(kibot_exchange_mapping.head(3))"
   ]
  },
  {
   "cell_type": "markdown",
   "id": "cce391e3",
   "metadata": {},
   "source": [
    "## Stocks"
   ]
  },
  {
   "cell_type": "code",
   "execution_count": null,
   "id": "ce783df7",
   "metadata": {},
   "outputs": [],
   "source": [
    "stocks_symbols = s3_backend.get_symbols_for_dataset(\"all_stocks_1min\")\n",
    "stocks_symbols[:5]"
   ]
  },
  {
   "cell_type": "code",
   "execution_count": null,
   "id": "047b4710",
   "metadata": {},
   "outputs": [],
   "source": [
    "len(stocks_symbols)"
   ]
  },
  {
   "cell_type": "markdown",
   "id": "47f54c7c",
   "metadata": {},
   "source": [
    "# Example for data loading"
   ]
  },
  {
   "cell_type": "code",
   "execution_count": null,
   "id": "d77fd634",
   "metadata": {},
   "outputs": [],
   "source": [
    "kibot_loader = imkdlksdlo.KibotS3DataLoader()"
   ]
  },
  {
   "cell_type": "markdown",
   "id": "37988e50",
   "metadata": {},
   "source": [
    "## Futures"
   ]
  },
  {
   "cell_type": "code",
   "execution_count": null,
   "id": "41111f0a",
   "metadata": {},
   "outputs": [],
   "source": [
    "# Example for CME Ethanol Daily Continuous Futures.\n",
    "# Data is presented in OHLCV type.\n",
    "ethanol_futures = kibot_loader.read_data(\n",
    "    exchange=\"Unknown\",\n",
    "    symbol=\"AC\",\n",
    "    asset_class=imcodatyp.AssetClass.Futures,\n",
    "    frequency=imcodatyp.Frequency.Daily,\n",
    "    contract_type=imcodatyp.ContractType.Continuous,\n",
    ")\n",
    "ethanol_futures.head()"
   ]
  },
  {
   "cell_type": "code",
   "execution_count": null,
   "id": "ca7d9f4c",
   "metadata": {},
   "outputs": [],
   "source": [
    "# Example for Minutely Expiry Futures (JAPANESE YEN JANUARY 2018).\n",
    "japan_yen = kibot_loader.read_data(\n",
    "    exchange=\"Unknown\",\n",
    "    symbol=\"JYF18\",\n",
    "    asset_class=imcodatyp.AssetClass.Futures,\n",
    "    frequency=imcodatyp.Frequency.Minutely,\n",
    "    contract_type=imcodatyp.ContractType.Expiry,\n",
    ")\n",
    "japan_yen.head()"
   ]
  },
  {
   "cell_type": "markdown",
   "id": "a345ae46",
   "metadata": {},
   "source": [
    "## Stocks"
   ]
  },
  {
   "cell_type": "code",
   "execution_count": null,
   "id": "b3b3dcae",
   "metadata": {},
   "outputs": [],
   "source": [
    "# Example for Apple stock.\n",
    "aapl = kibot_loader.read_data(\n",
    "    exchange=\"Q\",\n",
    "    symbol=\"AAPL\",\n",
    "    asset_class=imcodatyp.AssetClass.Stocks,\n",
    "    frequency=imcodatyp.Frequency.Minutely,\n",
    "    unadjusted=False,\n",
    ")\n",
    "aapl.head()"
   ]
  },
  {
   "cell_type": "code",
   "execution_count": null,
   "id": "2b7b33dc",
   "metadata": {},
   "outputs": [],
   "source": [
    "# Interesting note: the necessary param 'exchange' can be any value.\n",
    "aapl_any_exchange = kibot_loader.read_data(\n",
    "    exchange=\"Any Exchange\",\n",
    "    symbol=\"AAPL\",\n",
    "    asset_class=imcodatyp.AssetClass.Stocks,\n",
    "    frequency=imcodatyp.Frequency.Minutely,\n",
    "    unadjusted=False,\n",
    ")\n",
    "aapl_any_exchange.head()"
   ]
  },
  {
   "cell_type": "markdown",
   "id": "0c26daa9",
   "metadata": {},
   "source": [
    "### Example of an empty stock data"
   ]
  },
  {
   "cell_type": "code",
   "execution_count": null,
   "id": "97cf4689",
   "metadata": {},
   "outputs": [],
   "source": [
    "# Some files in stock universe contain no data and consider empty.\n",
    "# There are different types of these empty files.\n",
    "empty_stock_file_1 = kibot_loader.read_data(\n",
    "    exchange=\"Any Exchange\",\n",
    "    symbol=\"AACC\",\n",
    "    asset_class=imcodatyp.AssetClass.Stocks,\n",
    "    frequency=imcodatyp.Frequency.Minutely,\n",
    "    unadjusted=False,\n",
    ")\n",
    "empty_stock_file_2 = kibot_loader.read_data(\n",
    "    exchange=\"Any Exchange\",\n",
    "    symbol=\"ACND.U\",\n",
    "    asset_class=imcodatyp.AssetClass.Stocks,\n",
    "    frequency=imcodatyp.Frequency.Minutely,\n",
    "    unadjusted=False,\n",
    ")\n",
    "display(empty_stock_file_1)\n",
    "display(empty_stock_file_2)"
   ]
  },
  {
   "cell_type": "markdown",
   "id": "2adf3c9d",
   "metadata": {},
   "source": [
    "# Period of time availability"
   ]
  },
  {
   "cell_type": "markdown",
   "id": "b8bade11",
   "metadata": {},
   "source": [
    "## Stocks"
   ]
  },
  {
   "cell_type": "code",
   "execution_count": null,
   "id": "d8b42bbc",
   "metadata": {},
   "outputs": [],
   "source": [
    "final_stats_stocks = calculate_datetime_statistics_for_kibot_data(\n",
    "    stocks_symbols, \"Stocks\", \"stock_datasets\"\n",
    ")\n",
    "display(final_stats_stocks.shape)\n",
    "display(final_stats_stocks)"
   ]
  },
  {
   "cell_type": "code",
   "execution_count": null,
   "id": "998c483f",
   "metadata": {},
   "outputs": [],
   "source": [
    "general_stats_all_stocks = calculate_general_datetime_stats(final_stats_stocks)\n",
    "general_stats_all_stocks"
   ]
  },
  {
   "cell_type": "code",
   "execution_count": null,
   "id": "f5199250",
   "metadata": {},
   "outputs": [],
   "source": [
    "# Dataframe with empty stock data files.\n",
    "empty_dataframes = final_stats_stocks[\n",
    "    final_stats_stocks[\"data_points_count\"].isna()\n",
    "]\n",
    "# Number of empty stock data files.\n",
    "len(final_stats_stocks)"
   ]
  },
  {
   "cell_type": "code",
   "execution_count": null,
   "id": "a52a6976",
   "metadata": {},
   "outputs": [],
   "source": [
    "print(\n",
    "    hprint.perc(len(empty_dataframes), len(final_stats)),\n",
    "    \"of files in stock universe are empty.\",\n",
    ")"
   ]
  },
  {
   "cell_type": "markdown",
   "id": "bcb0a431",
   "metadata": {},
   "source": [
    "## Futures"
   ]
  },
  {
   "cell_type": "markdown",
   "id": "e8993b2e",
   "metadata": {},
   "source": [
    "### Continuous contracts 1min"
   ]
  },
  {
   "cell_type": "code",
   "execution_count": null,
   "id": "8cd6831f",
   "metadata": {},
   "outputs": [],
   "source": [
    "futures_continuous_contracts_1min_symbols = s3_backend.get_symbols_for_dataset(\n",
    "    \"all_futures_continuous_contracts_1min\"\n",
    ")\n",
    "len(futures_continuous_contracts_1min_symbols)"
   ]
  },
  {
   "cell_type": "code",
   "execution_count": null,
   "id": "0c93c95c",
   "metadata": {},
   "outputs": [],
   "source": [
    "# Getting a sample of 5 contracts.\n",
    "futures_continuous_contracts_1min_symbols_sample = (\n",
    "    futures_continuous_contracts_1min_symbols[:10]\n",
    ")"
   ]
  },
  {
   "cell_type": "code",
   "execution_count": null,
   "id": "6b82314e",
   "metadata": {},
   "outputs": [],
   "source": [
    "continuous_contracts_minutely_stats = (\n",
    "    calculate_datetime_statistics_for_kibot_data(\n",
    "        futures_continuous_contracts_1min_symbols_sample,\n",
    "        \"Futures\",\n",
    "        imcodatyp.Frequency.Minutely,\n",
    "    )\n",
    ")\n",
    "continuous_contracts_minutely_stats"
   ]
  },
  {
   "cell_type": "markdown",
   "id": "2c6364c1",
   "metadata": {},
   "source": [
    "### Continuous contracts Daily"
   ]
  },
  {
   "cell_type": "code",
   "execution_count": null,
   "id": "29d4c907",
   "metadata": {},
   "outputs": [],
   "source": [
    "futures_continuous_contracts_daily_symbols = s3_backend.get_symbols_for_dataset(\n",
    "    \"all_futures_continuous_contracts_daily\"\n",
    ")\n",
    "len(futures_continuous_contracts_daily_symbols)"
   ]
  },
  {
   "cell_type": "code",
   "execution_count": null,
   "id": "4f26f201",
   "metadata": {},
   "outputs": [],
   "source": [
    "continuous_contracts_daily_stats = calculate_datetime_statistics_for_kibot_data(\n",
    "    futures_continuous_contracts_daily_symbols,\n",
    "    \"Futures\",\n",
    "    imcodatyp.Frequency.Daily,\n",
    ")\n",
    "continuous_contracts_daily_stats.head(3)"
   ]
  },
  {
   "cell_type": "code",
   "execution_count": null,
   "id": "b68c1b22",
   "metadata": {},
   "outputs": [],
   "source": [
    "general_stats_all_futures = calculate_general_datetime_stats(\n",
    "    continuous_contracts_daily_stats\n",
    ")\n",
    "general_stats_all_futures"
   ]
  },
  {
   "cell_type": "markdown",
   "id": "ccb30483",
   "metadata": {},
   "source": [
    "# Read raw data"
   ]
  },
  {
   "cell_type": "code",
   "execution_count": null,
   "id": "9313dabc",
   "metadata": {},
   "outputs": [],
   "source": [
    "s3fs = hs3.get_s3fs(\"am\")"
   ]
  },
  {
   "cell_type": "markdown",
   "id": "29a34aaa",
   "metadata": {},
   "source": [
    "## Example of raw data for Stocks"
   ]
  },
  {
   "cell_type": "code",
   "execution_count": null,
   "id": "0c236fcd",
   "metadata": {},
   "outputs": [],
   "source": [
    "file_path_stock = \"s3://alphamatic-data/data/kibot/all_stocks_1min/AAPL.csv.gz\""
   ]
  },
  {
   "cell_type": "code",
   "execution_count": null,
   "id": "8c54b24b",
   "metadata": {},
   "outputs": [],
   "source": [
    "stream, kwargs = hs3.get_local_or_s3_stream(file_path_stock, s3fs=s3fs)\n",
    "aapl_raw = hpandas.read_csv_to_df(stream, **kwargs)\n",
    "aapl_raw.head()"
   ]
  },
  {
   "cell_type": "markdown",
   "id": "926fa151",
   "metadata": {},
   "source": [
    "## Example of raw data for Futures"
   ]
  },
  {
   "cell_type": "code",
   "execution_count": null,
   "id": "dc3859fc",
   "metadata": {},
   "outputs": [],
   "source": [
    "file_path_futures = \"s3://alphamatic-data/data/kibot/all_futures_continuous_contracts_daily/AE.csv.gz\""
   ]
  },
  {
   "cell_type": "code",
   "execution_count": null,
   "id": "c822be01",
   "metadata": {},
   "outputs": [],
   "source": [
    "stream, kwargs = hs3.get_local_or_s3_stream(file_path_futures, s3fs=s3fs)\n",
    "ae_futures_raw = hpandas.read_csv_to_df(stream, **kwargs)\n",
    "ae_futures_raw.head()"
   ]
  },
  {
   "cell_type": "markdown",
   "id": "36807867",
   "metadata": {},
   "source": [
    "## Difference of raw Parquet stock data vs. CSV stock data"
   ]
  },
  {
   "cell_type": "markdown",
   "id": "70413737",
   "metadata": {},
   "source": [
    "### CSV example of QCOM"
   ]
  },
  {
   "cell_type": "code",
   "execution_count": null,
   "id": "a6f9379b",
   "metadata": {},
   "outputs": [],
   "source": [
    "file_path_stock = \"s3://alphamatic-data/data/kibot/all_stocks_1min/QCOM.csv.gz\""
   ]
  },
  {
   "cell_type": "code",
   "execution_count": null,
   "id": "8238dd5d",
   "metadata": {
    "run_control": {
     "marked": false
    }
   },
   "outputs": [],
   "source": [
    "stream, kwargs = hs3.get_local_or_s3_stream(file_path_futures, s3fs=s3fs)\n",
    "csv_qcom = hpandas.read_csv_to_df(stream, **kwargs)\n",
    "csv_qcom.head()"
   ]
  },
  {
   "cell_type": "markdown",
   "id": "436d68e3",
   "metadata": {},
   "source": [
    "### PQ example of QCOM"
   ]
  },
  {
   "cell_type": "code",
   "execution_count": null,
   "id": "7406b5e1",
   "metadata": {},
   "outputs": [],
   "source": [
    "file_path_stock_parquet = (\n",
    "    \"s3://alphamatic-data/data/kibot/pq/all_stocks_1min/QCOM.pq\"\n",
    ")"
   ]
  },
  {
   "cell_type": "code",
   "execution_count": null,
   "id": "75373ee5",
   "metadata": {},
   "outputs": [],
   "source": [
    "stream, kwargs = hs3.get_local_or_s3_stream(file_path_stock_parquet, s3fs=s3fs)\n",
    "pq_qcom = hpandas.read_parquet_to_df(stream, **kwargs)\n",
    "pq_qcom.head()"
   ]
  },
  {
   "cell_type": "markdown",
   "id": "2983f658",
   "metadata": {},
   "source": [
    "# Summary"
   ]
  },
  {
   "cell_type": "markdown",
   "id": "b4fc9525",
   "metadata": {},
   "source": [
    "- The Kibot universe that is extracted using general methods is not consistent with the actual downloaded data and most likely is being parsed from the website at some period of time.\n",
    "   - In order to observe the actual universe that is available in the database one need to run get_symbols_for_dataset().\n",
    "- Data is presented in OHLCV format.\n",
    "- The necessary param 'exchange' from read_data() is not specific at all: it can be any value.\n",
    "- The stocks data in the database is huge and consists of >11.000 tickers.\n",
    "   - However, 17.62 % of files in stock universe consists no data.\n",
    "- The average available time period for stocks is ~5 years, up to 2020.\n",
    "- The futures availability in database is much less: 252 continuous contracts for both daily and minutely frequencies.\n",
    "- The OHLCV data inside raw files is identical by values and time range.\n",
    "- PQ data is already transformed to the desired format (unlike CSV data):\n",
    "   - The heading is in place.\n",
    "   - Datetime is converted to index and presented in a complete data-time format."
   ]
  }
 ],
 "metadata": {
  "kernelspec": {
   "display_name": "Python 3 (ipykernel)",
   "language": "python",
   "name": "python3"
  },
  "language_info": {
   "codemirror_mode": {
    "name": "ipython",
    "version": 3
   },
   "file_extension": ".py",
   "mimetype": "text/x-python",
   "name": "python",
   "nbconvert_exporter": "python",
   "pygments_lexer": "ipython3"
  },
  "toc": {
   "base_numbering": 1,
   "nav_menu": {},
   "number_sections": true,
   "sideBar": true,
   "skip_h1_title": false,
   "title_cell": "Table of Contents",
   "title_sidebar": "Contents",
   "toc_cell": false,
   "toc_position": {},
   "toc_section_display": true,
   "toc_window_display": false
  }
 },
 "nbformat": 4,
 "nbformat_minor": 5
}
