{
 "cells": [
  {
   "cell_type": "markdown",
   "id": "f79cb17c",
   "metadata": {},
   "source": [
    "# OHLCV Data QA\n",
    "\n",
    "This notebook is used to perform quality assurance of OHLCV data\n",
    "As displayed below, the notebook assumes environment variables for the data QA parameters. The intended usage\n",
    "is via invoke target `dev_scripts.lib_tasks_data_qa.run_single_dataset_qa_notebook`"
   ]
  },
  {
   "cell_type": "markdown",
   "id": "74fffce0",
   "metadata": {},
   "source": [
    "## Imports and logging"
   ]
  },
  {
   "cell_type": "code",
   "execution_count": null,
   "id": "33463922",
   "metadata": {
    "ExecuteTime": {
     "end_time": "2023-01-23T16:54:13.865647Z",
     "start_time": "2023-01-23T16:54:13.861507Z"
    }
   },
   "outputs": [],
   "source": [
    "import argparse\n",
    "import logging\n",
    "\n",
    "import pandas as pd\n",
    "\n",
    "import core.config as cconfig\n",
    "import data_schema.dataset_schema_utils as dsdascut\n",
    "import helpers.hdbg as hdbg\n",
    "import helpers.henv as henv\n",
    "import helpers.hio as hio\n",
    "import helpers.hprint as hprint\n",
    "import im_v2.common.data.client.im_raw_data_client as imvcdcimrdc\n",
    "import im_v2.common.data.extract.data_qa as imvcdedaqa\n",
    "import im_v2.common.data.qa.dataset_validator as imvcdqdava\n",
    "import im_v2.common.data.qa.qa_check as imvcdqqach\n",
    "import im_v2.common.universe.universe as imvcounun"
   ]
  },
  {
   "cell_type": "markdown",
   "id": "ee01fc74",
   "metadata": {
    "ExecuteTime": {
     "end_time": "2022-11-02T15:57:34.347866Z",
     "start_time": "2022-11-02T15:57:34.345134Z"
    }
   },
   "source": [
    "### Logging"
   ]
  },
  {
   "cell_type": "code",
   "execution_count": null,
   "id": "36d9e44a",
   "metadata": {
    "ExecuteTime": {
     "end_time": "2023-01-23T16:29:55.267026Z",
     "start_time": "2023-01-23T16:29:55.097662Z"
    }
   },
   "outputs": [],
   "source": [
    "hdbg.init_logger(verbosity=logging.INFO)\n",
    "\n",
    "_LOG = logging.getLogger(__name__)\n",
    "\n",
    "_LOG.info(\"%s\", henv.get_system_signature()[0])\n",
    "\n",
    "hprint.config_notebook()"
   ]
  },
  {
   "cell_type": "markdown",
   "id": "ebd1c29f",
   "metadata": {},
   "source": [
    "## QA parameters\n",
    "\n",
    "To assist debugging you can override any of the parameters after its loaded and rerun QA"
   ]
  },
  {
   "cell_type": "code",
   "execution_count": null,
   "id": "1ea45c7d",
   "metadata": {
    "ExecuteTime": {
     "end_time": "2023-01-23T16:20:00.192143Z",
     "start_time": "2023-01-23T16:20:00.188329Z"
    }
   },
   "outputs": [],
   "source": [
    "env_var_name = \"CK_DATA_RECONCILIATION_CONFIG\"\n",
    "config = cconfig.Config.from_env_var(env_var_name)"
   ]
  },
  {
   "cell_type": "code",
   "execution_count": null,
   "id": "492481a7",
   "metadata": {
    "ExecuteTime": {
     "end_time": "2023-01-23T16:20:03.002121Z",
     "start_time": "2023-01-23T16:20:02.866509Z"
    }
   },
   "outputs": [],
   "source": [
    "config = config.to_dict()\n",
    "# bid_ask_accuracy needs to be cast to int if its defined\n",
    "config[\"bid_ask_accuracy\"] = (\n",
    "    int(config[\"bid_ask_accuracy\"]) if config[\"bid_ask_accuracy\"] else None\n",
    ")\n",
    "# bid_ask_depth needs to be cast to int if its defined\n",
    "# config[\"bid_ask_depth\"] = int(config[\"bid_ask_depth\"]) if config[\"bid_ask_depth\"] else None\n",
    "config"
   ]
  },
  {
   "cell_type": "markdown",
   "id": "2a33a55c",
   "metadata": {},
   "source": [
    "### Parse dataset signature\n",
    "\n",
    "1. Load dataset schema\n",
    "2. Validate dataset signature\n",
    "3. Parse dataset attributes to drive some of the QA configuration"
   ]
  },
  {
   "cell_type": "code",
   "execution_count": null,
   "id": "429d9458",
   "metadata": {
    "ExecuteTime": {
     "end_time": "2023-01-23T16:30:03.594477Z",
     "start_time": "2023-01-23T16:30:03.527180Z"
    }
   },
   "outputs": [],
   "source": [
    "dataset_schema = dsdascut.get_dataset_schema()\n",
    "dsdascut.validate_dataset_signature(config[\"dataset_signature\"], dataset_schema)"
   ]
  },
  {
   "cell_type": "code",
   "execution_count": null,
   "id": "b0ccf635",
   "metadata": {
    "ExecuteTime": {
     "end_time": "2023-01-23T16:54:00.536747Z",
     "start_time": "2023-01-23T16:54:00.532473Z"
    }
   },
   "outputs": [],
   "source": [
    "dataset_signature_as_dict = dsdascut.parse_dataset_signature_to_args(\n",
    "    config[\"dataset_signature\"], dataset_schema\n",
    ")\n",
    "dataset_signature_as_dict"
   ]
  },
  {
   "cell_type": "markdown",
   "id": "7e9686a8",
   "metadata": {
    "ExecuteTime": {
     "end_time": "2022-10-28T14:48:05.494917Z",
     "start_time": "2022-10-28T14:48:05.490692Z"
    }
   },
   "source": [
    "## Load Data"
   ]
  },
  {
   "cell_type": "code",
   "execution_count": null,
   "id": "61cfcc30",
   "metadata": {
    "ExecuteTime": {
     "end_time": "2023-01-23T16:47:20.791013Z",
     "start_time": "2023-01-23T16:47:20.786199Z"
    }
   },
   "outputs": [],
   "source": [
    "raw_data_client = imvcdcimrdc.RawDataReader(\n",
    "    config[\"dataset_signature\"], stage=config[\"stage\"]\n",
    ")"
   ]
  },
  {
   "cell_type": "code",
   "execution_count": null,
   "id": "45407c69",
   "metadata": {
    "ExecuteTime": {
     "end_time": "2023-01-23T16:47:22.131514Z",
     "start_time": "2023-01-23T16:47:21.823346Z"
    }
   },
   "outputs": [],
   "source": [
    "data = raw_data_client.read_data(\n",
    "    pd.Timestamp(config[\"start_timestamp\"]), pd.Timestamp(config[\"end_timestamp\"])\n",
    ")"
   ]
  },
  {
   "cell_type": "code",
   "execution_count": null,
   "id": "dc68d350",
   "metadata": {
    "ExecuteTime": {
     "end_time": "2023-01-23T16:47:32.158816Z",
     "start_time": "2023-01-23T16:47:32.145536Z"
    }
   },
   "outputs": [],
   "source": [
    "data.head()"
   ]
  },
  {
   "cell_type": "markdown",
   "id": "db9ea1f9",
   "metadata": {},
   "source": [
    "### Preprocess raw data\n",
    "- remove ID column (postgres artifact)\n",
    "- remove duplicates"
   ]
  },
  {
   "cell_type": "code",
   "execution_count": null,
   "id": "27a49326",
   "metadata": {
    "ExecuteTime": {
     "end_time": "2023-01-23T16:47:35.150901Z",
     "start_time": "2023-01-23T16:47:35.147305Z"
    }
   },
   "outputs": [],
   "source": [
    "data = data.drop(\"id\", axis=1)"
   ]
  },
  {
   "cell_type": "code",
   "execution_count": null,
   "id": "87b28d7d",
   "metadata": {
    "ExecuteTime": {
     "end_time": "2023-01-23T16:47:35.582039Z",
     "start_time": "2023-01-23T16:47:35.576221Z"
    }
   },
   "outputs": [],
   "source": [
    "data = data.drop_duplicates()"
   ]
  },
  {
   "cell_type": "code",
   "execution_count": null,
   "id": "5cb2e534",
   "metadata": {
    "ExecuteTime": {
     "end_time": "2023-01-23T16:48:47.181434Z",
     "start_time": "2023-01-23T16:48:47.169918Z"
    }
   },
   "outputs": [],
   "source": [
    "data.head()"
   ]
  },
  {
   "cell_type": "markdown",
   "id": "400935eb",
   "metadata": {},
   "source": [
    "## Initialize QA checks"
   ]
  },
  {
   "cell_type": "code",
   "execution_count": null,
   "id": "3fe97b82",
   "metadata": {
    "ExecuteTime": {
     "end_time": "2023-01-24T18:14:04.260368Z",
     "start_time": "2023-01-24T18:14:04.122235Z"
    }
   },
   "outputs": [],
   "source": [
    "# TODO(Juraj): this behavior should be encapsulated in some utility function\n",
    "data_frequency = \"T\" if \"1min\" in dataset_signature_as_dict[\"action_tag\"] else \"S\"\n",
    "vendor_name = dataset_signature_as_dict[\"vendor\"].upper()\n",
    "mode = \"download\"\n",
    "version = dataset_signature_as_dict[\"universe\"]\n",
    "exchange_id = dataset_signature_as_dict[\"exchange_id\"]\n",
    "universe = imvcounun.get_vendor_universe(vendor_name, mode, version=version)\n",
    "universe_list = universe[exchange_id]"
   ]
  },
  {
   "cell_type": "code",
   "execution_count": null,
   "id": "905a19e6",
   "metadata": {
    "ExecuteTime": {
     "end_time": "2023-01-23T16:55:55.314869Z",
     "start_time": "2023-01-23T16:55:55.311769Z"
    }
   },
   "outputs": [],
   "source": [
    "qa_check_list = [\n",
    "    imvcdqqach.GapsInTimeIntervalBySymbolsCheck(\n",
    "        config[\"start_timestamp\"], config[\"end_timestamp\"], data_frequency\n",
    "    ),\n",
    "    imvcdqqach.NaNChecks(),\n",
    "    imvcdqqach.OhlcvLogicalValuesCheck(),\n",
    "    imvcdqqach.FullUniversePresentCheck(universe_list),\n",
    "]"
   ]
  },
  {
   "cell_type": "markdown",
   "id": "47d4deff",
   "metadata": {},
   "source": [
    "## Initialize QA validator"
   ]
  },
  {
   "cell_type": "code",
   "execution_count": null,
   "id": "9bca8f0b",
   "metadata": {
    "ExecuteTime": {
     "end_time": "2023-01-23T16:55:56.255992Z",
     "start_time": "2023-01-23T16:55:56.253304Z"
    }
   },
   "outputs": [],
   "source": [
    "dataset_validator = imvcdqdava.DataFrameDatasetValidator(qa_check_list)"
   ]
  },
  {
   "cell_type": "markdown",
   "id": "7664b43b",
   "metadata": {},
   "source": [
    "## Run QA"
   ]
  },
  {
   "cell_type": "code",
   "execution_count": null,
   "id": "3d5504c1",
   "metadata": {
    "ExecuteTime": {
     "end_time": "2023-01-23T16:55:57.318140Z",
     "start_time": "2023-01-23T16:55:57.244687Z"
    }
   },
   "outputs": [],
   "source": [
    "try:\n",
    "    dataset_validator.run_all_checks([data], _LOG)\n",
    "except Exception as e:\n",
    "    # Pass information about success or failure of the QA\n",
    "    #  back to the task that invoked it.\n",
    "    data_qa_outcome = str(e)\n",
    "    raise e\n",
    "# If no exception was raised mark the QA as successful.\n",
    "data_qa_outcome = \"SUCCESS\""
   ]
  },
  {
   "cell_type": "code",
   "execution_count": null,
   "id": "5bab3cea",
   "metadata": {
    "ExecuteTime": {
     "end_time": "2022-11-08T18:52:47.460265Z",
     "start_time": "2022-11-08T18:52:46.944118Z"
    }
   },
   "outputs": [],
   "source": [
    "# This can be read by the invoke task to find out if QA was successful.\n",
    "hio.to_file(\"/app/ck_data_reconciliation_outcome.txt\", data_qa_outcome)"
   ]
  }
 ],
 "metadata": {
  "kernelspec": {
   "display_name": "Python 3 (ipykernel)",
   "language": "python",
   "name": "python3"
  },
  "language_info": {
   "codemirror_mode": {
    "name": "ipython",
    "version": 3
   },
   "file_extension": ".py",
   "mimetype": "text/x-python",
   "name": "python",
   "nbconvert_exporter": "python",
   "pygments_lexer": "ipython3",
   "version": "3.8.10"
  },
  "toc": {
   "base_numbering": 1,
   "nav_menu": {},
   "number_sections": true,
   "sideBar": true,
   "skip_h1_title": false,
   "title_cell": "Table of Contents",
   "title_sidebar": "Contents",
   "toc_cell": false,
   "toc_position": {},
   "toc_section_display": true,
   "toc_window_display": false
  }
 },
 "nbformat": 4,
 "nbformat_minor": 5
}
