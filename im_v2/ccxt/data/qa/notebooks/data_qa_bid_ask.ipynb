{
 "cells": [
  {
   "cell_type": "code",
   "execution_count": 1,
   "id": "43d15731",
   "metadata": {
    "ExecuteTime": {
     "end_time": "2024-01-04T09:05:00.276383Z",
     "start_time": "2024-01-04T09:04:52.014745Z"
    }
   },
   "outputs": [
    {
     "name": "stderr",
     "output_type": "stream",
     "text": [
      "/app/amp/core/statistics/random_samples.py:12: TqdmExperimentalWarning: Using `tqdm.autonotebook.tqdm` in notebook mode. Use `tqdm.tqdm` instead to force console mode (e.g. in jupyter console)\n",
      "  from tqdm.autonotebook import tqdm\n",
      "\u001b[33mWARNING\u001b[0m: No module named 'gluonts'\n"
     ]
    }
   ],
   "source": [
    "import logging\n",
    "\n",
    "import pandas as pd\n",
    "\n",
    "import core.config as cconfig\n",
    "import data_schema.dataset_schema_utils as dsdascut\n",
    "import helpers.hdbg as hdbg\n",
    "import helpers.henv as henv\n",
    "import helpers.hio as hio\n",
    "import helpers.hprint as hprint\n",
    "import im_v2.common.data.client.im_raw_data_client as imvcdcimrdc\n",
    "import im_v2.common.data.qa.dataset_validator as imvcdqdava\n",
    "import im_v2.common.data.qa.qa_check as imvcdqqach\n",
    "import im_v2.common.universe.universe as imvcounun"
   ]
  },
  {
   "cell_type": "code",
   "execution_count": 2,
   "id": "60c86a78",
   "metadata": {
    "ExecuteTime": {
     "end_time": "2024-01-04T09:05:01.320678Z",
     "start_time": "2024-01-04T09:05:00.282766Z"
    }
   },
   "outputs": [
    {
     "name": "stdout",
     "output_type": "stream",
     "text": [
      "\u001b[0m\u001b[36mINFO\u001b[0m: > cmd='/venv/lib/python3.9/site-packages/ipykernel_launcher.py -f /home/.local/share/jupyter/runtime/kernel-7b7d6ea8-e37e-4ed2-a74a-68f3891a5ab7.json'\n",
      "WARNING: Running in Jupyter\n",
      "\u001b[31m-----------------------------------------------------------------------------\n",
      "This code is not in sync with the container:\n",
      "code_version='1.10.0' != container_version='1.12.0'\n",
      "-----------------------------------------------------------------------------\n",
      "You need to:\n",
      "- merge origin/master into your branch with `invoke git_merge_master`\n",
      "- pull the latest container with `invoke docker_pull`\u001b[0m\n",
      "INFO  # Git\n",
      "  branch_name='CmampTask6647_Make_bid_ask_QA_more_precise'\n",
      "  hash='e59affd79'\n",
      "  # Last commits:\n",
      "    * e59affd79 Dan      Cm task6547 investigate extra asset id in portfolio from df (#6611) (  17 hours ago) Wed Jan 3 16:03:07 2024  (HEAD -> CmampTask6647_Make_bid_ask_QA_more_precise, origin/master, origin/HEAD)\n",
      "    * d8220c853 Samarth KaPatel CmTask6505_add_update_ecs_section (#6561)                         (  18 hours ago) Wed Jan 3 14:36:01 2024           \n",
      "    * 6138acc03 GP Saggese Checkpoint (#6645)                                                (    5 days ago) Sat Dec 30 16:31:41 2023  (origin/CmTask6642_Bid_ask_and_OHLCV_data_misalignment, origin/CmTask6482_Bid_Ask_websocket_data_feed_outages_2, origin/CMTask6639_unexpected_maker_taker_ratio)\n",
      "# Machine info\n",
      "  system=Linux\n",
      "  node name=b9a980daa358\n",
      "  release=5.15.0-1051-aws\n",
      "  version=#56~20.04.1-Ubuntu SMP Tue Nov 28 15:43:31 UTC 2023\n",
      "  machine=x86_64\n",
      "  processor=x86_64\n",
      "  cpu count=8\n",
      "  cpu freq=scpufreq(current=2499.994, min=0.0, max=0.0)\n",
      "  memory=svmem(total=33280286720, available=20486979584, percent=38.4, used=12314218496, free=3443392512, active=8024309760, inactive=19051962368, buffers=2943848448, cached=14578827264, shared=3051520, slab=2371874816)\n",
      "  disk usage=sdiskusage(total=156052275200, used=35985637376, free=120049860608, percent=23.1)\n",
      "# Packages\n",
      "  python: 3.9.5\n",
      "  cvxopt: 1.3.2\n",
      "  cvxpy: 1.4.1\n",
      "  gluonnlp: ?\n",
      "  gluonts: ?\n",
      "  joblib: 1.3.2\n",
      "  mxnet: ?\n",
      "  numpy: 1.26.0\n",
      "  pandas: 2.1.1\n",
      "  pyarrow: 10.0.0\n",
      "  scipy: 1.11.3\n",
      "  seaborn: 0.13.0\n",
      "  sklearn: 1.3.1\n",
      "  statsmodels: 0.14.0\n"
     ]
    }
   ],
   "source": [
    "hdbg.init_logger(verbosity=logging.INFO)\n",
    "\n",
    "_LOG = logging.getLogger(__name__)\n",
    "\n",
    "_LOG.info(\"%s\", henv.get_system_signature()[0])\n",
    "\n",
    "hprint.config_notebook()"
   ]
  },
  {
   "cell_type": "code",
   "execution_count": 3,
   "id": "32161801",
   "metadata": {
    "ExecuteTime": {
     "end_time": "2024-01-04T09:05:01.349471Z",
     "start_time": "2024-01-04T09:05:01.325495Z"
    }
   },
   "outputs": [
    {
     "name": "stdout",
     "output_type": "stream",
     "text": [
      "WARNING Environment variable 'CK_DATA_RECONCILIATION_CONFIG' not defined: no config retrieved\n",
      "stage: preprod\n",
      "start_timestamp: 2024-01-03T18:00:00+00:00\n",
      "end_timestamp: 2024-01-03T18:30:00+00:00\n",
      "aws_profile: ck\n",
      "dataset_signature: periodic_daily.airflow.downloaded_200ms.postgres.bid_ask.futures.v7_3.ccxt.binance.v1_0_0\n",
      "bid_ask_accuracy: 1\n",
      "data_type: bid_ask\n",
      "bid_ask_depth: 1\n",
      "bid_ask_frequency_sec: 10S\n"
     ]
    }
   ],
   "source": [
    "env_var_name = \"CK_DATA_RECONCILIATION_CONFIG\"\n",
    "config = cconfig.Config.from_env_var(env_var_name)\n",
    "if config:\n",
    "    config = config.to_dict()\n",
    "    # bid_ask_accuracy needs to be cast to int if its defined\n",
    "    config[\"bid_ask_accuracy\"] = (\n",
    "        int(config[\"bid_ask_accuracy\"]) if config[\"bid_ask_accuracy\"] else None\n",
    "    )\n",
    "    # Get config from env when running the notebook via the `run_notebook.py`\n",
    "    # script, e.g., in the system reconciliation flow.\n",
    "    _LOG.info(\"Using config from env vars\")\n",
    "else:\n",
    "    config_dict = {\n",
    "        \"stage\": \"preprod\",\n",
    "        \"start_timestamp\": \"2024-01-03T18:00:00+00:00\",\n",
    "        \"end_timestamp\": \"2024-01-03T18:30:00+00:00\",\n",
    "        \"aws_profile\": \"ck\",\n",
    "        \"dataset_signature\": \"periodic_daily.airflow.downloaded_200ms.postgres.bid_ask.futures.v7_3.ccxt.binance.v1_0_0\",\n",
    "        \"bid_ask_accuracy\": 1,\n",
    "        \"data_type\": \"bid_ask\",\n",
    "        \"bid_ask_depth\": 1,\n",
    "        \"bid_ask_frequency_sec\": \"10S\",\n",
    "    }\n",
    "    config = cconfig.Config.from_dict(config_dict)\n",
    "print(config)"
   ]
  },
  {
   "cell_type": "code",
   "execution_count": 4,
   "id": "5159f8ab",
   "metadata": {
    "ExecuteTime": {
     "end_time": "2024-01-04T09:05:01.488787Z",
     "start_time": "2024-01-04T09:05:01.355229Z"
    }
   },
   "outputs": [
    {
     "name": "stdout",
     "output_type": "stream",
     "text": [
      "INFO  Loading dataset schema file: /app/amp/data_schema/dataset_schema_versions/dataset_schema_v3.json\n",
      "INFO  Loaded dataset schema version v3\n"
     ]
    },
    {
     "data": {
      "text/plain": [
       "True"
      ]
     },
     "execution_count": 4,
     "metadata": {},
     "output_type": "execute_result"
    }
   ],
   "source": [
    "dataset_schema = dsdascut.get_dataset_schema()\n",
    "dsdascut.validate_dataset_signature(config[\"dataset_signature\"], dataset_schema)"
   ]
  },
  {
   "cell_type": "code",
   "execution_count": 5,
   "id": "272e757f",
   "metadata": {
    "ExecuteTime": {
     "end_time": "2024-01-04T09:05:01.506211Z",
     "start_time": "2024-01-04T09:05:01.492771Z"
    }
   },
   "outputs": [
    {
     "data": {
      "text/plain": [
       "{'download_mode': 'periodic_daily',\n",
       " 'downloading_entity': 'airflow',\n",
       " 'action_tag': 'downloaded_200ms',\n",
       " 'data_format': 'postgres',\n",
       " 'data_type': 'bid_ask',\n",
       " 'asset_type': 'futures',\n",
       " 'universe': 'v7_3',\n",
       " 'vendor': 'ccxt',\n",
       " 'exchange_id': 'binance',\n",
       " 'version': 'v1_0_0'}"
      ]
     },
     "execution_count": 5,
     "metadata": {},
     "output_type": "execute_result"
    }
   ],
   "source": [
    "dataset_signature_as_dict = dsdascut.parse_dataset_signature_to_args(\n",
    "    config[\"dataset_signature\"], dataset_schema\n",
    ")\n",
    "dataset_signature_as_dict"
   ]
  },
  {
   "cell_type": "code",
   "execution_count": 6,
   "id": "bff5b131",
   "metadata": {
    "ExecuteTime": {
     "end_time": "2024-01-04T09:05:01.783506Z",
     "start_time": "2024-01-04T09:05:01.512550Z"
    }
   },
   "outputs": [
    {
     "name": "stdout",
     "output_type": "stream",
     "text": [
      "INFO  Loading dataset schema file: /app/amp/data_schema/dataset_schema_versions/dataset_schema_v3.json\n",
      "INFO  Loaded dataset schema version v3\n",
      "INFO  Loading dataset schema file: /app/amp/data_schema/dataset_schema_versions/dataset_schema_v3.json\n",
      "INFO  Loaded dataset schema version v3\n",
      "INFO  Unable to fetch DB credentials from environment variables: \n",
      "\t'POSTGRES_HOST'\n",
      "\tAttempting env file method.\n",
      "INFO  Unable to fetch DB credentials from env file: \n",
      "\t\n",
      "################################################################################\n",
      "* Failed assertion *\n",
      "'preprod' in '['local', 'dev', 'prod']'\n",
      "################################################################################\n",
      "\n",
      "\tAttempting AWS SecretsManager method.\n",
      "INFO  Fetching secret: preprod.im_data_db\n",
      "INFO  Created preprod DB connection: \n",
      " None\n",
      "INFO  Enabled connection to the `ccxt_bid_ask_futures_raw` DB table\n"
     ]
    }
   ],
   "source": [
    "raw_data_client = imvcdcimrdc.RawDataReader(\n",
    "    config[\"dataset_signature\"], stage=config[\"stage\"]\n",
    ")"
   ]
  },
  {
   "cell_type": "code",
   "execution_count": 7,
   "id": "d7b5fd2c",
   "metadata": {
    "ExecuteTime": {
     "end_time": "2024-01-04T09:05:04.991340Z",
     "start_time": "2024-01-04T09:05:01.786548Z"
    }
   },
   "outputs": [
    {
     "name": "stdout",
     "output_type": "stream",
     "text": [
      "INFO  Executing query: \n",
      "\tSELECT * FROM ccxt_bid_ask_futures_raw WHERE timestamp >= 1704304800000 AND timestamp <= 1704306600000 AND level IN (1) AND exchange_id = 'binance'\n"
     ]
    },
    {
     "name": "stderr",
     "output_type": "stream",
     "text": [
      "/app/amp/helpers/hsql_implementation.py:582: UserWarning: pandas only supports SQLAlchemy connectable (engine/connection) or database string URI or sqlite3 DBAPI2 connection. Other DBAPI2 objects are not tested. Please consider using SQLAlchemy.\n",
      "  df = pd.read_sql_query(query, connection)\n"
     ]
    }
   ],
   "source": [
    "data = raw_data_client.read_data(\n",
    "    pd.Timestamp(config[\"start_timestamp\"]),\n",
    "    pd.Timestamp(config[\"end_timestamp\"]),\n",
    "    bid_ask_levels=[i for i in range(1, config[\"bid_ask_depth\"] + 1)],\n",
    ")"
   ]
  },
  {
   "cell_type": "code",
   "execution_count": 9,
   "id": "50bfef58",
   "metadata": {
    "ExecuteTime": {
     "end_time": "2024-01-04T09:05:05.056057Z",
     "start_time": "2024-01-04T09:05:05.040278Z"
    }
   },
   "outputs": [],
   "source": [
    "# Preprocessing.\n",
    "data.reset_index(inplace=True)\n",
    "cols_to_keep = [\n",
    "    \"timestamp\",\n",
    "    \"currency_pair\",\n",
    "    \"exchange_id\",\n",
    "    \"end_download_timestamp\",\n",
    "    \"knowledge_timestamp\",\n",
    "]\n",
    "for i in range(1, config[\"bid_ask_depth\"] + 1):\n",
    "    cols_to_keep += [\n",
    "        f\"bid_size_l{i}\",\n",
    "        f\"ask_size_l{i}\",\n",
    "        f\"bid_price_l{i}\",\n",
    "        f\"ask_price_l{i}\",\n",
    "    ]\n",
    "data = data[cols_to_keep]"
   ]
  },
  {
   "cell_type": "code",
   "execution_count": 10,
   "id": "4c962fac",
   "metadata": {
    "ExecuteTime": {
     "end_time": "2024-01-04T09:05:05.101548Z",
     "start_time": "2024-01-04T09:05:05.060544Z"
    }
   },
   "outputs": [
    {
     "data": {
      "text/html": [
       "<div>\n",
       "<style scoped>\n",
       "    .dataframe tbody tr th:only-of-type {\n",
       "        vertical-align: middle;\n",
       "    }\n",
       "\n",
       "    .dataframe tbody tr th {\n",
       "        vertical-align: top;\n",
       "    }\n",
       "\n",
       "    .dataframe thead th {\n",
       "        text-align: right;\n",
       "    }\n",
       "</style>\n",
       "<table border=\"1\" class=\"dataframe\">\n",
       "  <thead>\n",
       "    <tr style=\"text-align: right;\">\n",
       "      <th></th>\n",
       "      <th>timestamp</th>\n",
       "      <th>currency_pair</th>\n",
       "      <th>exchange_id</th>\n",
       "      <th>end_download_timestamp</th>\n",
       "      <th>knowledge_timestamp</th>\n",
       "      <th>bid_size_l1</th>\n",
       "      <th>ask_size_l1</th>\n",
       "      <th>bid_price_l1</th>\n",
       "      <th>ask_price_l1</th>\n",
       "    </tr>\n",
       "  </thead>\n",
       "  <tbody>\n",
       "    <tr>\n",
       "      <th>0</th>\n",
       "      <td>1704304800110</td>\n",
       "      <td>FTM_USDT</td>\n",
       "      <td>binance</td>\n",
       "      <td>2024-01-03 18:00:00.540434+00:00</td>\n",
       "      <td>2024-01-03 18:00:01.468027+00:00</td>\n",
       "      <td>1920.000</td>\n",
       "      <td>3042.000</td>\n",
       "      <td>0.4332</td>\n",
       "      <td>0.4333</td>\n",
       "    </tr>\n",
       "    <tr>\n",
       "      <th>1</th>\n",
       "      <td>1704304800113</td>\n",
       "      <td>UNFI_USDT</td>\n",
       "      <td>binance</td>\n",
       "      <td>2024-01-03 18:00:00.534339+00:00</td>\n",
       "      <td>2024-01-03 18:00:01.468027+00:00</td>\n",
       "      <td>2.100</td>\n",
       "      <td>13.900</td>\n",
       "      <td>6.2450</td>\n",
       "      <td>6.2460</td>\n",
       "    </tr>\n",
       "    <tr>\n",
       "      <th>2</th>\n",
       "      <td>1704304800122</td>\n",
       "      <td>AXS_USDT</td>\n",
       "      <td>binance</td>\n",
       "      <td>2024-01-03 18:00:00.542158+00:00</td>\n",
       "      <td>2024-01-03 18:00:01.468027+00:00</td>\n",
       "      <td>74.000</td>\n",
       "      <td>163.000</td>\n",
       "      <td>7.9320</td>\n",
       "      <td>7.9330</td>\n",
       "    </tr>\n",
       "    <tr>\n",
       "      <th>3</th>\n",
       "      <td>1704304800143</td>\n",
       "      <td>DYDX_USDT</td>\n",
       "      <td>binance</td>\n",
       "      <td>2024-01-03 18:00:00.532904+00:00</td>\n",
       "      <td>2024-01-03 18:00:01.468027+00:00</td>\n",
       "      <td>5664.500</td>\n",
       "      <td>2318.800</td>\n",
       "      <td>2.6760</td>\n",
       "      <td>2.6770</td>\n",
       "    </tr>\n",
       "    <tr>\n",
       "      <th>4</th>\n",
       "      <td>1704304800199</td>\n",
       "      <td>ETH_USDT</td>\n",
       "      <td>binance</td>\n",
       "      <td>2024-01-03 18:00:00.461876+00:00</td>\n",
       "      <td>2024-01-03 18:00:01.468027+00:00</td>\n",
       "      <td>1.809</td>\n",
       "      <td>53.872</td>\n",
       "      <td>2223.7100</td>\n",
       "      <td>2223.7200</td>\n",
       "    </tr>\n",
       "  </tbody>\n",
       "</table>\n",
       "</div>"
      ],
      "text/plain": [
       "       timestamp currency_pair exchange_id           end_download_timestamp              knowledge_timestamp  bid_size_l1  ask_size_l1  bid_price_l1  ask_price_l1\n",
       "0  1704304800110      FTM_USDT     binance 2024-01-03 18:00:00.540434+00:00 2024-01-03 18:00:01.468027+00:00     1920.000     3042.000        0.4332        0.4333\n",
       "1  1704304800113     UNFI_USDT     binance 2024-01-03 18:00:00.534339+00:00 2024-01-03 18:00:01.468027+00:00        2.100       13.900        6.2450        6.2460\n",
       "2  1704304800122      AXS_USDT     binance 2024-01-03 18:00:00.542158+00:00 2024-01-03 18:00:01.468027+00:00       74.000      163.000        7.9320        7.9330\n",
       "3  1704304800143     DYDX_USDT     binance 2024-01-03 18:00:00.532904+00:00 2024-01-03 18:00:01.468027+00:00     5664.500     2318.800        2.6760        2.6770\n",
       "4  1704304800199      ETH_USDT     binance 2024-01-03 18:00:00.461876+00:00 2024-01-03 18:00:01.468027+00:00        1.809       53.872     2223.7100     2223.7200"
      ]
     },
     "execution_count": 10,
     "metadata": {},
     "output_type": "execute_result"
    }
   ],
   "source": [
    "data.head()"
   ]
  },
  {
   "cell_type": "code",
   "execution_count": 11,
   "id": "14578edc",
   "metadata": {
    "ExecuteTime": {
     "end_time": "2024-01-04T09:05:05.114030Z",
     "start_time": "2024-01-04T09:05:05.105336Z"
    }
   },
   "outputs": [],
   "source": [
    "# TODO(Juraj): this behavior should be encapsulated in some utility function\n",
    "data_frequency = \"T\" if \"1min\" in dataset_signature_as_dict[\"action_tag\"] else \"S\"\n",
    "vendor_name = dataset_signature_as_dict[\"vendor\"].upper()\n",
    "mode = \"download\"\n",
    "version = dataset_signature_as_dict[\"universe\"].replace(\"_\", \".\")\n",
    "exchange_id = dataset_signature_as_dict[\"exchange_id\"]\n",
    "universe = imvcounun.get_vendor_universe(vendor_name, mode, version=version)\n",
    "universe_list = universe[exchange_id]"
   ]
  },
  {
   "cell_type": "code",
   "execution_count": 12,
   "id": "4db3cb07",
   "metadata": {
    "ExecuteTime": {
     "end_time": "2024-01-04T09:05:05.122588Z",
     "start_time": "2024-01-04T09:05:05.116971Z"
    }
   },
   "outputs": [],
   "source": [
    "# Bid ask data is aligned to the nearest grid so adjust the\n",
    "# end_timestamp to avoid the corner case.\n",
    "def adjust_end_timestamp(timestamp_str):\n",
    "    timestamp = pd.Timestamp(timestamp_str) - pd.Timedelta(seconds=1)\n",
    "    return str(timestamp)"
   ]
  },
  {
   "cell_type": "code",
   "execution_count": 13,
   "id": "71c5b07b",
   "metadata": {
    "ExecuteTime": {
     "end_time": "2024-01-04T09:05:05.138642Z",
     "start_time": "2024-01-04T09:05:05.127822Z"
    }
   },
   "outputs": [
    {
     "data": {
      "text/plain": [
       "'2024-01-03 18:29:59+00:00'"
      ]
     },
     "execution_count": 13,
     "metadata": {},
     "output_type": "execute_result"
    }
   ],
   "source": [
    "adjust_end_timestamp(config[\"end_timestamp\"])"
   ]
  },
  {
   "cell_type": "code",
   "execution_count": 14,
   "id": "8383710b",
   "metadata": {
    "ExecuteTime": {
     "end_time": "2024-01-04T09:05:05.162004Z",
     "start_time": "2024-01-04T09:05:05.144377Z"
    }
   },
   "outputs": [],
   "source": [
    "qa_check_list = [\n",
    "    imvcdqqach.NaNChecks(),\n",
    "    imvcdqqach.FullUniversePresentCheck(universe_list),\n",
    "    imvcdqqach.GapsInTimeIntervalBySymbolsCheck(\n",
    "        config[\"start_timestamp\"],\n",
    "        config[\"end_timestamp\"],\n",
    "        config[\"bid_ask_frequency_sec\"],\n",
    "        align=True,\n",
    "    ),\n",
    "]"
   ]
  },
  {
   "cell_type": "code",
   "execution_count": 15,
   "id": "dfca7ba1",
   "metadata": {
    "ExecuteTime": {
     "end_time": "2024-01-04T09:05:05.170519Z",
     "start_time": "2024-01-04T09:05:05.165116Z"
    }
   },
   "outputs": [],
   "source": [
    "dataset_validator = imvcdqdava.DataFrameDatasetValidator(qa_check_list)"
   ]
  },
  {
   "cell_type": "code",
   "execution_count": 16,
   "id": "02d9e30b",
   "metadata": {
    "ExecuteTime": {
     "end_time": "2024-01-04T09:05:07.534263Z",
     "start_time": "2024-01-04T09:05:05.177539Z"
    }
   },
   "outputs": [
    {
     "name": "stdout",
     "output_type": "stream",
     "text": [
      "INFO  Running all QA checks:\n",
      "INFO  \tNaNChecks: PASSED\n",
      "INFO  \tFullUniversePresentCheck: PASSED\n",
      "INFO  \tGapsInTimeIntervalBySymbolsCheck: PASSED\n"
     ]
    }
   ],
   "source": [
    "try:\n",
    "    dataset_validator.run_all_checks([data])\n",
    "except Exception as e:\n",
    "    # Pass information about success or failure of the QA\n",
    "    #  back to the task that invoked it.\n",
    "    data_qa_outcome = str(e)\n",
    "    raise e\n",
    "# If no exception was raised mark the QA as successful.\n",
    "data_qa_outcome = \"SUCCESS\""
   ]
  },
  {
   "cell_type": "code",
   "execution_count": 17,
   "id": "bde5959b",
   "metadata": {
    "ExecuteTime": {
     "end_time": "2024-01-04T09:05:07.556503Z",
     "start_time": "2024-01-04T09:05:07.540821Z"
    }
   },
   "outputs": [],
   "source": [
    "# This can be read by the invoke task to find out if QA was successful.\n",
    "hio.to_file(\"/app/ck_data_reconciliation_outcome.txt\", data_qa_outcome)"
   ]
  },
  {
   "cell_type": "code",
   "execution_count": null,
   "id": "1a10b8d7",
   "metadata": {},
   "outputs": [],
   "source": []
  }
 ],
 "metadata": {
  "kernelspec": {
   "display_name": "Python 3 (ipykernel)",
   "language": "python",
   "name": "python3"
  },
  "language_info": {
   "codemirror_mode": {
    "name": "ipython",
    "version": 3
   },
   "file_extension": ".py",
   "mimetype": "text/x-python",
   "name": "python",
   "nbconvert_exporter": "python",
   "pygments_lexer": "ipython3",
   "version": "3.9.5"
  },
  "toc": {
   "base_numbering": 1,
   "nav_menu": {},
   "number_sections": true,
   "sideBar": true,
   "skip_h1_title": false,
   "title_cell": "Table of Contents",
   "title_sidebar": "Contents",
   "toc_cell": false,
   "toc_position": {},
   "toc_section_display": true,
   "toc_window_display": false
  }
 },
 "nbformat": 4,
 "nbformat_minor": 5
}
