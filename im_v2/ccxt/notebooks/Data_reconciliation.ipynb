{
 "cells": [
  {
   "cell_type": "markdown",
   "id": "f79cb17c",
   "metadata": {},
   "source": [
    "# Data reconciliation\n",
    "\n",
    "This notebook is used to perform reconciliation on data obtained in realtime with batch data downloaded at once, i.e. once a day. \n",
    "As displayed below, the notebook assumes environment variables for the reconciliation parameters. The intended use \n",
    "is via invoke target `dev_scripts.lib_tasks_reconcile.run_data_reconciliation_notebook`"
   ]
  },
  {
   "cell_type": "markdown",
   "id": "74fffce0",
   "metadata": {},
   "source": [
    "## Imports and logging"
   ]
  },
  {
   "cell_type": "code",
   "execution_count": null,
   "id": "33463922",
   "metadata": {},
   "outputs": [],
   "source": [
    "import os\n",
    "import argparse\n",
    "import logging\n",
    "import helpers.hdbg as hdbg\n",
    "import helpers.henv as henv\n",
    "import helpers.hprint as hprint\n",
    "import im_v2.ccxt.data.extract.compare_realtime_and_historical as imvcdecrah"
   ]
  },
  {
   "cell_type": "markdown",
   "id": "ee01fc74",
   "metadata": {},
   "source": [
    "### Logging"
   ]
  },
  {
   "cell_type": "code",
   "execution_count": null,
   "id": "36d9e44a",
   "metadata": {},
   "outputs": [],
   "source": [
    "hdbg.init_logger(verbosity=logging.INFO)\n",
    "\n",
    "_LOG = logging.getLogger(__name__)\n",
    "\n",
    "_LOG.info(\"%s\", henv.get_system_signature()[0])\n",
    "\n",
    "hprint.config_notebook()"
   ]
  },
  {
   "cell_type": "markdown",
   "id": "ebd1c29f",
   "metadata": {},
   "source": [
    "## Reconciliation parameters\n",
    "\n",
    "To assist debugging you can override any of the parameters after its loaded and rerun reconciler"
   ]
  },
  {
   "cell_type": "code",
   "execution_count": null,
   "id": "ecca81ad",
   "metadata": {},
   "outputs": [],
   "source": [
    "os.environ.items()"
   ]
  },
  {
   "cell_type": "code",
   "execution_count": null,
   "id": "1b1760cc",
   "metadata": {},
   "outputs": [],
   "source": [
    "# Load relevant environment variables.\n",
    "config = filter(lambda x: x[0].startswith(\"DATA_RECONCILE_\"), os.environ.items())\n",
    "# Transform parameter names to the naming conventions used by the reconciler.\n",
    "config = list(map(lambda x: (x[0].replace(\"DATA_RECONCILE_\", \"\").lower(), x[1]), config))\n",
    "# Dict can be passed as a namespace argument.\n",
    "config = { it[0] : it[1] for it in config }\n",
    "config"
   ]
  },
  {
   "cell_type": "code",
   "execution_count": null,
   "id": "a5b8c1a8",
   "metadata": {},
   "outputs": [],
   "source": [
    "# Bid_ask_accuracy needs special treatment\n",
    "#  since int is expected in the reconciler.\n",
    "config['bid_ask_accuracy'] = None if config['bid_ask_accuracy'] == 'None' else int(config['bid_ask_accuracy'])\n",
    "# Transform resample_mode to parameter supported\n",
    "#  by the reconciler\n",
    "config[\"resample_1sec\"] = config[\"resample_mode\"] == \"resample_1sec\"\n",
    "config[\"resample_1min\"] = config[\"resample_mode\"] == \"resample_1min\"\n",
    "config"
   ]
  },
  {
   "cell_type": "markdown",
   "id": "7e9686a8",
   "metadata": {},
   "source": [
    "## Initialize Reconciler"
   ]
  },
  {
   "cell_type": "code",
   "execution_count": null,
   "id": "7367d68f",
   "metadata": {},
   "outputs": [],
   "source": [
    "# The class was originally intended to be used via a cmdline script\n",
    "args = argparse.Namespace(**config)\n",
    "reconciler = imvcdecrah.RealTimeHistoricalReconciler(args)"
   ]
  },
  {
   "cell_type": "code",
   "execution_count": null,
   "id": "b2c32f32",
   "metadata": {},
   "outputs": [],
   "source": [
    "# CCXT Realtime data\n",
    "reconciler.ccxt_rt.head()"
   ]
  },
  {
   "cell_type": "code",
   "execution_count": null,
   "id": "81ed5765",
   "metadata": {},
   "outputs": [],
   "source": [
    "# Historical data\n",
    "reconciler.daily_data.head()"
   ]
  },
  {
   "cell_type": "markdown",
   "id": "7664b43b",
   "metadata": {},
   "source": [
    "## Run reconciliation"
   ]
  },
  {
   "cell_type": "code",
   "execution_count": null,
   "id": "3d5504c1",
   "metadata": {},
   "outputs": [],
   "source": [
    "reconciler.run()"
   ]
  }
 ],
 "metadata": {
  "kernelspec": {
   "display_name": "Python 3 (ipykernel)",
   "language": "python",
   "name": "python3"
  },
  "language_info": {
   "codemirror_mode": {
    "name": "ipython",
    "version": 3
   },
   "file_extension": ".py",
   "mimetype": "text/x-python",
   "name": "python",
   "nbconvert_exporter": "python",
   "pygments_lexer": "ipython3"
  },
  "toc": {
   "base_numbering": 1,
   "nav_menu": {},
   "number_sections": true,
   "sideBar": true,
   "skip_h1_title": false,
   "title_cell": "Table of Contents",
   "title_sidebar": "Contents",
   "toc_cell": false,
   "toc_position": {},
   "toc_section_display": true,
   "toc_window_display": false
  }
 },
 "nbformat": 4,
 "nbformat_minor": 5
}
