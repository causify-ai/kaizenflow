{
 "cells": [
  {
   "cell_type": "markdown",
   "id": "f79cb17c",
   "metadata": {},
   "source": [
    "# Data reconciliation\n",
    "\n",
    "This notebook is used to perform reconciliation on data obtained in realtime with batch data downloaded at once, i.e. once a day. \n",
    "As displayed below, the notebook assumes environment variables for the reconciliation parameters. The intended use \n",
    "is via invoke target `dev_scripts.lib_tasks_reconcile.run_data_reconciliation_notebook`"
   ]
  },
  {
   "cell_type": "markdown",
   "id": "74fffce0",
   "metadata": {},
   "source": [
    "## Imports"
   ]
  },
  {
   "cell_type": "code",
   "execution_count": null,
   "id": "33463922",
   "metadata": {},
   "outputs": [],
   "source": [
    "import os\n",
    "import argparse\n",
    "import im_v2.ccxt.data.extract.compare_realtime_and_historical as imvcdecrah"
   ]
  },
  {
   "cell_type": "markdown",
   "id": "ebd1c29f",
   "metadata": {},
   "source": [
    "## Config\n",
    "\n",
    "To assist debugging you can override any of the config parameters after its loaded and rerun reconciler"
   ]
  },
  {
   "cell_type": "code",
   "execution_count": null,
   "id": "1b1760cc",
   "metadata": {},
   "outputs": [],
   "source": [
    "# Load relevant environment variables.\n",
    "config = filter(lambda x: x[0].startswith(\"DATA_RECONCILE_\"), os.environ.items())\n",
    "# Transform parameter names to the naming conventions used by the reconciler.\n",
    "config = list(map(lambda x: x[0].lstrip(\"DATA_RECONCILE_\").lower(), config))\n",
    "# Dict can be passed as a namespace argument.\n",
    "config = { it[0] : it[1] for it in config }"
   ]
  },
  {
   "cell_type": "markdown",
   "id": "7e9686a8",
   "metadata": {},
   "source": [
    "## Initialize Reconciler"
   ]
  },
  {
   "cell_type": "code",
   "execution_count": null,
   "id": "7367d68f",
   "metadata": {},
   "outputs": [],
   "source": [
    "# The class was originally intended to be used via a cmdline script\n",
    "args = argparse.Namespace(**config)\n",
    "reconciler = imvcdecrah.RealTimeHistoricalReconciler(args)"
   ]
  },
  {
   "cell_type": "code",
   "execution_count": null,
   "id": "bf893499",
   "metadata": {},
   "outputs": [],
   "source": []
  }
 ],
 "metadata": {
  "kernelspec": {
   "display_name": "Python 3 (ipykernel)",
   "language": "python",
   "name": "python3"
  },
  "language_info": {
   "codemirror_mode": {
    "name": "ipython",
    "version": 3
   },
   "file_extension": ".py",
   "mimetype": "text/x-python",
   "name": "python",
   "nbconvert_exporter": "python",
   "pygments_lexer": "ipython3"
  },
  "toc": {
   "base_numbering": 1,
   "nav_menu": {},
   "number_sections": true,
   "sideBar": true,
   "skip_h1_title": false,
   "title_cell": "Table of Contents",
   "title_sidebar": "Contents",
   "toc_cell": false,
   "toc_position": {},
   "toc_section_display": true,
   "toc_window_display": false
  }
 },
 "nbformat": 4,
 "nbformat_minor": 5
}
