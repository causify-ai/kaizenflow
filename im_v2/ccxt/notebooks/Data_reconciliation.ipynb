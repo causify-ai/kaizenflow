{
 "cells": [
  {
   "cell_type": "markdown",
   "id": "f79cb17c",
   "metadata": {},
   "source": [
    "# Data reconciliation\n",
    "\n",
    "This notebook is used to perform reconciliation on data obtained in realtime with batch data downloaded at once, i.e. once a day.\n",
    "As displayed below, the notebook assumes environment variables for the reconciliation parameters. The intended use\n",
    "is via invoke target `oms.lib_tasks_reconcile.reconcile_data_run_notebook`"
   ]
  },
  {
   "cell_type": "markdown",
   "id": "74fffce0",
   "metadata": {},
   "source": [
    "## Imports and logging"
   ]
  },
  {
   "cell_type": "code",
   "execution_count": null,
   "id": "33463922",
   "metadata": {},
   "outputs": [],
   "source": [
    "import argparse\n",
    "import logging\n",
    "\n",
    "import core.config as cconfig\n",
    "import helpers.hdbg as hdbg\n",
    "import helpers.henv as henv\n",
    "import helpers.hio as hio\n",
    "import helpers.hprint as hprint\n",
    "import im_v2.common.data.extract.data_qa as imvcodedq"
   ]
  },
  {
   "cell_type": "markdown",
   "id": "ee01fc74",
   "metadata": {},
   "source": [
    "### Logging"
   ]
  },
  {
   "cell_type": "code",
   "execution_count": null,
   "id": "36d9e44a",
   "metadata": {},
   "outputs": [],
   "source": [
    "hdbg.init_logger(verbosity=logging.INFO)\n",
    "\n",
    "_LOG = logging.getLogger(__name__)\n",
    "\n",
    "_LOG.info(\"%s\", henv.get_system_signature()[0])\n",
    "\n",
    "hprint.config_notebook()"
   ]
  },
  {
   "cell_type": "markdown",
   "id": "ebd1c29f",
   "metadata": {},
   "source": [
    "## Reconciliation parameters\n",
    "\n",
    "To assist debugging you can override any of the parameters after its loaded and rerun reconciler"
   ]
  },
  {
   "cell_type": "code",
   "execution_count": null,
   "id": "1ea45c7d",
   "metadata": {},
   "outputs": [],
   "source": [
    "env_var_name = \"CK_DATA_RECONCILIATION_CONFIG\"\n",
    "config = cconfig.Config.from_env_var(env_var_name)"
   ]
  },
  {
   "cell_type": "code",
   "execution_count": null,
   "id": "2648ad6e",
   "metadata": {},
   "outputs": [],
   "source": [
    "# Transform resample_mode to parameter supported\n",
    "#  by the reconciler\n",
    "# config[\"resample_1sec\"] = config[\"resample_mode\"] == \"resample_1sec\"\n",
    "# config[\"resample_1min\"] = config[\"resample_mode\"] == \"resample_1min\""
   ]
  },
  {
   "cell_type": "code",
   "execution_count": null,
   "id": "492481a7",
   "metadata": {},
   "outputs": [],
   "source": [
    "config = config.to_dict()\n",
    "# bid_ask_accuracy needs to be cast to int if its defined\n",
    "config[\"bid_ask_accuracy\"] = (\n",
    "    int(config[\"bid_ask_accuracy\"]) if config[\"bid_ask_accuracy\"] else None\n",
    ")\n",
    "# bid_ask_depth needs to be cast to int if its defined\n",
    "# config[\"bid_ask_depth\"] = int(config[\"bid_ask_depth\"]) if config[\"bid_ask_depth\"] else None\n",
    "config"
   ]
  },
  {
   "cell_type": "markdown",
   "id": "7e9686a8",
   "metadata": {},
   "source": [
    "## Initialize Reconciler"
   ]
  },
  {
   "cell_type": "code",
   "execution_count": null,
   "id": "7367d68f",
   "metadata": {},
   "outputs": [],
   "source": [
    "# The class was originally intended to be used via a cmdline script\n",
    "args = argparse.Namespace(**config)\n",
    "reconciler = imvcodedq.RealTimeHistoricalReconciler(args)"
   ]
  },
  {
   "cell_type": "code",
   "execution_count": null,
   "id": "b2c32f32",
   "metadata": {},
   "outputs": [],
   "source": [
    "# CCXT Realtime data\n",
    "reconciler.ccxt_rt.head()"
   ]
  },
  {
   "cell_type": "code",
   "execution_count": null,
   "id": "81ed5765",
   "metadata": {},
   "outputs": [],
   "source": [
    "# Historical data\n",
    "reconciler.daily_data.head()"
   ]
  },
  {
   "cell_type": "markdown",
   "id": "7664b43b",
   "metadata": {},
   "source": [
    "## Run reconciliation"
   ]
  },
  {
   "cell_type": "code",
   "execution_count": null,
   "id": "3d5504c1",
   "metadata": {},
   "outputs": [],
   "source": [
    "try:\n",
    "    reconciler.run()\n",
    "except Exception as e:\n",
    "    # Pass information about success or failure of the reconciliation\n",
    "    #  back to the task that invoked it.\n",
    "    data_reconciliation_outcome = str(e)\n",
    "    raise e\n",
    "# If no exception was raised mark the reconciliation as successful.\n",
    "data_reconciliation_outcome = \"SUCCESS\""
   ]
  },
  {
   "cell_type": "code",
   "execution_count": null,
   "id": "5bab3cea",
   "metadata": {},
   "outputs": [],
   "source": [
    "# This can be read by the invoke task to find out if reconciliation was successful.\n",
    "hio.to_file(\n",
    "    \"/app/ck_data_reconciliation_outcome.txt\", data_reconciliation_outcome\n",
    ")"
   ]
  }
 ],
 "metadata": {
  "kernelspec": {
   "display_name": "Python 3 (ipykernel)",
   "language": "python",
   "name": "python3"
  },
  "language_info": {
   "codemirror_mode": {
    "name": "ipython",
    "version": 3
   },
   "file_extension": ".py",
   "mimetype": "text/x-python",
   "name": "python",
   "nbconvert_exporter": "python",
   "pygments_lexer": "ipython3"
  },
  "toc": {
   "base_numbering": 1,
   "nav_menu": {},
   "number_sections": true,
   "sideBar": true,
   "skip_h1_title": false,
   "title_cell": "Table of Contents",
   "title_sidebar": "Contents",
   "toc_cell": false,
   "toc_position": {},
   "toc_section_display": true,
   "toc_window_display": false
  }
 },
 "nbformat": 4,
 "nbformat_minor": 5
}
