{
 "cells": [
  {
   "cell_type": "code",
   "execution_count": null,
   "id": "a052ac6d",
   "metadata": {},
   "outputs": [],
   "source": [
    "%load_ext autoreload\n",
    "%autoreload 2\n",
    "%matplotlib inline\n",
    "\n",
    "import logging\n",
    "import json\n",
    "\n",
    "import helpers.dbg as dbg\n",
    "import helpers.env as henv\n",
    "import helpers.io_ as io_\n",
    "import helpers.printing as hprint\n",
    "from typing import Any\n",
    "import time\n",
    "\n",
    "import ccxt\n",
    "import pandas as pd"
   ]
  },
  {
   "cell_type": "code",
   "execution_count": null,
   "id": "a7a791e8",
   "metadata": {},
   "outputs": [],
   "source": [
    "dbg.init_logger(verbosity=logging.INFO)\n",
    "\n",
    "_LOG = logging.getLogger(__name__)\n",
    "\n",
    "_LOG.info(\"%s\", henv.get_system_signature()[0])\n",
    "\n",
    "hprint.config_notebook()"
   ]
  },
  {
   "cell_type": "code",
   "execution_count": null,
   "id": "d554bd16",
   "metadata": {},
   "outputs": [],
   "source": [
    "ALL_EXCHANGES = [\"binance\",\n",
    "\"coinbase\",\n",
    "\"kraken\",\n",
    "\"huobi\",\n",
    "\"ftx\",\n",
    "\"kucoin\",\n",
    "\"bitfinex\",\n",
    "\"gateio\",\n",
    "# \"binanceus\" # no API access for these three exchanges.\n",
    "# \"bithumb\"\n",
    "# \"bitstamp\"\n",
    "                ]"
   ]
  },
  {
   "cell_type": "markdown",
   "id": "0b6b59fb",
   "metadata": {},
   "source": [
    "## Functions"
   ]
  },
  {
   "cell_type": "code",
   "execution_count": null,
   "id": "741ca54e",
   "metadata": {},
   "outputs": [],
   "source": [
    "def log_into_exchange(exchange_id: str):\n",
    "    \"\"\"\n",
    "    Log into exchange via ccxt.\n",
    "    \"\"\"\n",
    "    credentials = io_.from_json(\"API_keys.json\")\n",
    "    dbg.dassert_in(exchange_id, credentials, msg=\"%s exchange ID not correct.\")\n",
    "    credentials = credentials[exchange_id]\n",
    "    credentials[\"rateLimit\"] = True\n",
    "    exchange_class = getattr(ccxt, exchange_id)\n",
    "    exchange = exchange_class(credentials)\n",
    "    dbg.dassert(exchange.checkRequiredCredentials(), msg=\"Required credentials not passed.\")\n",
    "    return exchange\n",
    "\n",
    "def describe_exchange_data(exchange_id: str):\n",
    "    \"\"\"\n",
    "    \"\"\"\n",
    "    exchange = log_into_exchange(exchange_id)\n",
    "    print(\"%s:\" % exchange_id)\n",
    "    print (\"Has fetchOHLCV: %s\" % exchange.has[\"fetchOHLCV\"])\n",
    "    print (\"Has fetchTrades: %s\" % exchange.has[\"fetchTrades\"])\n",
    "    print(\"Available timeframes:\")\n",
    "    print (exchange.timeframes)\n",
    "    print(\"Available currency pairs:\")\n",
    "    print(exchange.load_markets().keys())\n",
    "    print(\"=\"*50)\n",
    "    return None\n",
    "\n",
    "def download_ohlcv_data(exchange_id,\n",
    "                            start_date,\n",
    "                            end_date,\n",
    "                            curr_symbol,\n",
    "                            timeframe=\"1m\",\n",
    "                            step=500,\n",
    "                            sleep_time=3):\n",
    "    \"\"\"\n",
    "    Download historical OHLCV data for given time period and currency.\n",
    "    \"\"\"\n",
    "    exchange = log_into_exchange(exchange_id)\n",
    "    dbg.dassert_in(timeframe, exchange.timeframes)\n",
    "    dbg.dassert(exchange.has[\"fetchOHLCV\"])\n",
    "    dbg.dassert_in(curr_symbol, exchange.load_markets().keys())\n",
    "    start_date = exchange.parse8601(start_date)\n",
    "    end_date = exchange.parse8601(end_date)\n",
    "    # Convert to ms.\n",
    "    duration = exchange.parse_timeframe(timeframe) * 1000\n",
    "    all_candles = []\n",
    "    for t in range(start_date, end_date+duration, duration*step):\n",
    "        candles = exchange.fetch_ohlcv(curr_symbol, timeframe, t, step)\n",
    "        print('Fetched', len(candles), 'candles')\n",
    "        if candles:\n",
    "            print('From', exchange.iso8601(candles[0][0]), 'to', exchange.iso8601(candles[-1][0]))\n",
    "        all_candles += candles\n",
    "        total_length = len(all_candles)\n",
    "        print('Fetched', total_length, 'candles in total')\n",
    "        time.sleep(sleep_time)\n",
    "    return all_candles\n",
    "\n",
    "\n",
    "def download_trade_data(exchange_id,\n",
    "                            start_date,\n",
    "                            end_date,\n",
    "                            curr_symbol,\n",
    "                            timeframe=\"1m\",\n",
    "                            step=500,\n",
    "                            sleep_time=3):\n",
    "    \"\"\"\n",
    "    Download historical data for given time period and currency.\n",
    "    \"\"\"\n",
    "    exchange = log_into_exchange(exchange_id)\n",
    "    dbg.dassert_in(timeframe, exchange.timeframes)\n",
    "    dbg.dassert(exchange.has[\"fetchTrades\"])\n",
    "    dbg.dassert_in(curr_symbol, exchange.load_markets().keys())\n",
    "    start_date = exchange.parse8601(start_date)\n",
    "    end_date = exchange.parse8601(end_date)\n",
    "    latest_trade = start_date\n",
    "    all_trades = []\n",
    "    while latest_trade <= end_date:\n",
    "        trades = exchange.fetch_trades(curr_symbol, since=latest_trade, limit=step, params={\"endTime\": latest_trade+36000})\n",
    "        print('Fetched', len(trades), 'trades')\n",
    "        if trades:\n",
    "            print('From', exchange.iso8601(trades[0][\"timestamp\"]), 'to', exchange.iso8601(trades[-1][\"timestamp\"]))\n",
    "            latest_trade = trades[-1][\"timestamp\"]\n",
    "        all_trades += trades\n",
    "        total_length = len(all_trades)\n",
    "        print('Fetched', total_length, 'trades in total')\n",
    "        time.sleep(sleep_time)\n",
    "    return all_trades"
   ]
  },
  {
   "cell_type": "markdown",
   "id": "2193909f",
   "metadata": {},
   "source": [
    "## Check availability of historical data for exchanges"
   ]
  },
  {
   "cell_type": "code",
   "execution_count": null,
   "id": "593c2144",
   "metadata": {},
   "outputs": [],
   "source": [
    "for e in ALL_EXCHANGES:\n",
    "    describe_exchange_data(e)"
   ]
  },
  {
   "cell_type": "markdown",
   "id": "da193837",
   "metadata": {},
   "source": [
    "### Checking data availability at coinbase"
   ]
  },
  {
   "cell_type": "code",
   "execution_count": null,
   "id": "7cdef4a3",
   "metadata": {},
   "outputs": [],
   "source": [
    "coinbase = log_into_exchange(\"coinbase\")"
   ]
  },
  {
   "cell_type": "code",
   "execution_count": null,
   "id": "3a2c06cf",
   "metadata": {},
   "outputs": [],
   "source": [
    "coinbase.has"
   ]
  },
  {
   "cell_type": "markdown",
   "id": "22bf53d3",
   "metadata": {},
   "source": [
    "`coinbase` exchange does not provide any kind of historical data (neither on OHLCV nor on trading orders), and it seems that its API allows only for trading."
   ]
  },
  {
   "cell_type": "markdown",
   "id": "0c78c943",
   "metadata": {},
   "source": [
    "## Loading OHLCV data"
   ]
  },
  {
   "cell_type": "markdown",
   "id": "7ad863cf",
   "metadata": {},
   "source": [
    "### Binance"
   ]
  },
  {
   "cell_type": "code",
   "execution_count": null,
   "id": "745ee13e",
   "metadata": {},
   "outputs": [],
   "source": [
    "binance_data = download_ohlcv_data(\"binance\",\n",
    "                                  \"2018-01-01T00:00:00Z\",\n",
    "                                  \"2018-02-01T00:00:00Z\",\n",
    "                                  \"BTC/USDT\")"
   ]
  },
  {
   "cell_type": "markdown",
   "id": "1f154ab6",
   "metadata": {},
   "source": [
    "### Kraken"
   ]
  },
  {
   "cell_type": "code",
   "execution_count": null,
   "id": "d811fdae",
   "metadata": {},
   "outputs": [],
   "source": [
    "kraken_data = download_ohlcv_data(\"kraken\",\n",
    "                                  \"2018-01-01T00:00:00Z\",\n",
    "                                  \"2018-02-01T00:00:00Z\",\n",
    "                                  \"BTC/USDT\")"
   ]
  },
  {
   "cell_type": "markdown",
   "id": "915fa294",
   "metadata": {},
   "source": [
    "Kraken data seems to be corrupted in some way, since `fetch_trades` method does not behave the same, parsing dates incorrectly. Investigate."
   ]
  },
  {
   "cell_type": "markdown",
   "id": "41678811",
   "metadata": {},
   "source": [
    "## Trade data"
   ]
  },
  {
   "cell_type": "markdown",
   "id": "cf8ad4b8",
   "metadata": {},
   "source": [
    "### Binance"
   ]
  },
  {
   "cell_type": "code",
   "execution_count": null,
   "id": "650dd3d3",
   "metadata": {},
   "outputs": [],
   "source": [
    "binance_trade = download_trade_data(\"binance\",\n",
    "                                  \"2018-01-01T00:00:00Z\",\n",
    "                                  \"2018-02-01T00:00:00Z\",\n",
    "                                  \"BTC/USDT\")"
   ]
  },
  {
   "cell_type": "code",
   "execution_count": null,
   "id": "b507922e",
   "metadata": {},
   "outputs": [],
   "source": [
    "binance_trade = download_trade_data(\"binance\",\n",
    "                                  \"2018-01-01T00:00:00Z\",\n",
    "                                  \"2018-01-01T02:00:00Z\",\n",
    "                                  \"BTC/USDT\",\n",
    "                                   step=1000)"
   ]
  },
  {
   "cell_type": "markdown",
   "id": "6b11f162",
   "metadata": {},
   "source": [
    "## Bids/asks"
   ]
  },
  {
   "cell_type": "code",
   "execution_count": null,
   "id": "f4089cee",
   "metadata": {},
   "outputs": [],
   "source": [
    "binance = log_into_exchange(\"binance\")\n",
    "binance.fetch_bids_asks(\"BTC/USDT\")"
   ]
  },
  {
   "cell_type": "markdown",
   "id": "28683773",
   "metadata": {},
   "source": [
    "Fetching bids and asks is available only for real-time data."
   ]
  },
  {
   "cell_type": "markdown",
   "id": "876657c4",
   "metadata": {},
   "source": [
    "## TODO:\n",
    "\n",
    "Check trades and OHLCV for other exchanges in the list."
   ]
  }
 ],
 "metadata": {
  "jupytext": {
   "formats": "ipynb,auto:percent",
   "text_representation": {
    "extension": ".py",
    "format_name": "percent",
    "format_version": "1.3",
    "jupytext_version": "1.11.4"
   }
  },
  "kernelspec": {
   "display_name": "Python 3 (ipykernel)",
   "language": "python",
   "name": "python3"
  },
  "language_info": {
   "codemirror_mode": {
    "name": "ipython",
    "version": 3
   },
   "file_extension": ".py",
   "mimetype": "text/x-python",
   "name": "python",
   "nbconvert_exporter": "python",
   "pygments_lexer": "ipython3"
  },
  "toc": {
   "base_numbering": 1,
   "nav_menu": {},
   "number_sections": true,
   "sideBar": true,
   "skip_h1_title": false,
   "title_cell": "Table of Contents",
   "title_sidebar": "Contents",
   "toc_cell": false,
   "toc_position": {},
   "toc_section_display": true,
   "toc_window_display": false
  }
 },
 "nbformat": 4,
 "nbformat_minor": 5
}
