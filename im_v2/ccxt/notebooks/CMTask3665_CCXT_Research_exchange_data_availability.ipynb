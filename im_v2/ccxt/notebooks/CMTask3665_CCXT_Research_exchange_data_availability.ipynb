{
 "cells": [
  {
   "cell_type": "markdown",
   "id": "789c6fe9",
   "metadata": {},
   "source": [
    "# Imports"
   ]
  },
  {
   "cell_type": "code",
   "execution_count": 1,
   "id": "36d507ec",
   "metadata": {
    "ExecuteTime": {
     "end_time": "2023-02-03T20:45:19.978908Z",
     "start_time": "2023-02-03T20:45:19.220670Z"
    }
   },
   "outputs": [],
   "source": [
    "import ccxt\n",
    "import pandas as pd\n",
    "\n",
    "import im_v2.ccxt.data.extract.extractor as imvcdexex"
   ]
  },
  {
   "cell_type": "markdown",
   "id": "93132d58",
   "metadata": {},
   "source": [
    "# binanceus REST"
   ]
  },
  {
   "cell_type": "markdown",
   "id": "8089d145",
   "metadata": {},
   "source": [
    "## binanceus REST spot"
   ]
  },
  {
   "cell_type": "code",
   "execution_count": 2,
   "id": "e3b01bde",
   "metadata": {
    "ExecuteTime": {
     "end_time": "2023-02-03T20:45:21.686384Z",
     "start_time": "2023-02-03T20:45:21.150653Z"
    }
   },
   "outputs": [],
   "source": [
    "exchange_id = \"binanceus\"\n",
    "contract_type = \"spot\"\n",
    "extractor = imvcdexex.CcxtExtractor(exchange_id, contract_type)"
   ]
  },
  {
   "cell_type": "markdown",
   "id": "be31ff6e",
   "metadata": {},
   "source": [
    "### binanceus REST spot Bid Ask"
   ]
  },
  {
   "cell_type": "code",
   "execution_count": 3,
   "id": "59e18918",
   "metadata": {
    "ExecuteTime": {
     "end_time": "2023-02-03T20:45:22.017101Z",
     "start_time": "2023-02-03T20:45:21.880666Z"
    }
   },
   "outputs": [
    {
     "data": {
      "text/html": [
       "<div>\n",
       "<style scoped>\n",
       "    .dataframe tbody tr th:only-of-type {\n",
       "        vertical-align: middle;\n",
       "    }\n",
       "\n",
       "    .dataframe tbody tr th {\n",
       "        vertical-align: top;\n",
       "    }\n",
       "\n",
       "    .dataframe thead th {\n",
       "        text-align: right;\n",
       "    }\n",
       "</style>\n",
       "<table border=\"1\" class=\"dataframe\">\n",
       "  <thead>\n",
       "    <tr style=\"text-align: right;\">\n",
       "      <th></th>\n",
       "      <th>timestamp</th>\n",
       "      <th>bid_price</th>\n",
       "      <th>bid_size</th>\n",
       "      <th>ask_price</th>\n",
       "      <th>ask_size</th>\n",
       "      <th>end_download_timestamp</th>\n",
       "      <th>level</th>\n",
       "    </tr>\n",
       "  </thead>\n",
       "  <tbody>\n",
       "    <tr>\n",
       "      <th>0</th>\n",
       "      <td>None</td>\n",
       "      <td>23358.81</td>\n",
       "      <td>0.110000</td>\n",
       "      <td>23365.80</td>\n",
       "      <td>0.303185</td>\n",
       "      <td>2023-02-03 20:45:21.998520+00:00</td>\n",
       "      <td>1</td>\n",
       "    </tr>\n",
       "    <tr>\n",
       "      <th>1</th>\n",
       "      <td>None</td>\n",
       "      <td>23358.80</td>\n",
       "      <td>0.050000</td>\n",
       "      <td>23365.81</td>\n",
       "      <td>0.119254</td>\n",
       "      <td>2023-02-03 20:45:21.998520+00:00</td>\n",
       "      <td>2</td>\n",
       "    </tr>\n",
       "    <tr>\n",
       "      <th>2</th>\n",
       "      <td>None</td>\n",
       "      <td>23358.79</td>\n",
       "      <td>0.118070</td>\n",
       "      <td>23367.42</td>\n",
       "      <td>0.144589</td>\n",
       "      <td>2023-02-03 20:45:21.998520+00:00</td>\n",
       "      <td>3</td>\n",
       "    </tr>\n",
       "    <tr>\n",
       "      <th>3</th>\n",
       "      <td>None</td>\n",
       "      <td>23358.35</td>\n",
       "      <td>0.085566</td>\n",
       "      <td>23369.87</td>\n",
       "      <td>0.029753</td>\n",
       "      <td>2023-02-03 20:45:21.998520+00:00</td>\n",
       "      <td>4</td>\n",
       "    </tr>\n",
       "    <tr>\n",
       "      <th>4</th>\n",
       "      <td>None</td>\n",
       "      <td>23358.34</td>\n",
       "      <td>0.103839</td>\n",
       "      <td>23369.88</td>\n",
       "      <td>0.002000</td>\n",
       "      <td>2023-02-03 20:45:21.998520+00:00</td>\n",
       "      <td>5</td>\n",
       "    </tr>\n",
       "  </tbody>\n",
       "</table>\n",
       "</div>"
      ],
      "text/plain": [
       "  timestamp  bid_price  bid_size  ask_price  ask_size  \\\n",
       "0      None   23358.81  0.110000   23365.80  0.303185   \n",
       "1      None   23358.80  0.050000   23365.81  0.119254   \n",
       "2      None   23358.79  0.118070   23367.42  0.144589   \n",
       "3      None   23358.35  0.085566   23369.87  0.029753   \n",
       "4      None   23358.34  0.103839   23369.88  0.002000   \n",
       "\n",
       "             end_download_timestamp  level  \n",
       "0  2023-02-03 20:45:21.998520+00:00      1  \n",
       "1  2023-02-03 20:45:21.998520+00:00      2  \n",
       "2  2023-02-03 20:45:21.998520+00:00      3  \n",
       "3  2023-02-03 20:45:21.998520+00:00      4  \n",
       "4  2023-02-03 20:45:21.998520+00:00      5  "
      ]
     },
     "execution_count": 3,
     "metadata": {},
     "output_type": "execute_result"
    }
   ],
   "source": [
    "currency_pair = \"BTC_USDT\"\n",
    "currency_pair_for_download = extractor.convert_currency_pair(currency_pair)\n",
    "start_timestamp = pd.Timestamp(\"2023-01-01 00:00:00\")\n",
    "end_timestamp = pd.Timestamp(\"2023-01-01 01:00:00\")\n",
    "bid_ask_depth = 10\n",
    "data_type = \"bid_ask\"\n",
    "data = extractor.download_data(\n",
    "    data_type,\n",
    "    exchange_id,\n",
    "    currency_pair_for_download,\n",
    "    start_timestamp=start_timestamp,\n",
    "    end_timestamp=end_timestamp,\n",
    "    depth=bid_ask_depth,\n",
    ")\n",
    "data.head()"
   ]
  },
  {
   "cell_type": "markdown",
   "id": "e167c7a7",
   "metadata": {},
   "source": [
    "### binanceus REST spot OHLCV"
   ]
  },
  {
   "cell_type": "code",
   "execution_count": 4,
   "id": "9579e5cb",
   "metadata": {
    "ExecuteTime": {
     "end_time": "2023-02-03T20:45:23.805095Z",
     "start_time": "2023-02-03T20:45:23.151609Z"
    }
   },
   "outputs": [
    {
     "name": "stderr",
     "output_type": "stream",
     "text": [
      "100%|█████████████████████████████████████████████████████████████████████████████████████████████| 1/1 [00:00<00:00,  1.59it/s]\n",
      "/app/im_v2/ccxt/data/extract/extractor.py:170: FutureWarning: is_monotonic is deprecated and will be removed in a future version. Use is_monotonic_increasing instead.\n",
      "  hdbg.dassert(all_bars_df.timestamp.is_monotonic)\n"
     ]
    },
    {
     "data": {
      "text/html": [
       "<div>\n",
       "<style scoped>\n",
       "    .dataframe tbody tr th:only-of-type {\n",
       "        vertical-align: middle;\n",
       "    }\n",
       "\n",
       "    .dataframe tbody tr th {\n",
       "        vertical-align: top;\n",
       "    }\n",
       "\n",
       "    .dataframe thead th {\n",
       "        text-align: right;\n",
       "    }\n",
       "</style>\n",
       "<table border=\"1\" class=\"dataframe\">\n",
       "  <thead>\n",
       "    <tr style=\"text-align: right;\">\n",
       "      <th></th>\n",
       "      <th>timestamp</th>\n",
       "      <th>open</th>\n",
       "      <th>high</th>\n",
       "      <th>low</th>\n",
       "      <th>close</th>\n",
       "      <th>volume</th>\n",
       "      <th>end_download_timestamp</th>\n",
       "    </tr>\n",
       "  </thead>\n",
       "  <tbody>\n",
       "    <tr>\n",
       "      <th>0</th>\n",
       "      <td>1672531200000</td>\n",
       "      <td>16524.41</td>\n",
       "      <td>16524.41</td>\n",
       "      <td>16524.41</td>\n",
       "      <td>16524.41</td>\n",
       "      <td>0.000735</td>\n",
       "      <td>2023-02-03 20:45:23.291482+00:00</td>\n",
       "    </tr>\n",
       "    <tr>\n",
       "      <th>1</th>\n",
       "      <td>1672531260000</td>\n",
       "      <td>16529.53</td>\n",
       "      <td>16529.53</td>\n",
       "      <td>16529.53</td>\n",
       "      <td>16529.53</td>\n",
       "      <td>0.004189</td>\n",
       "      <td>2023-02-03 20:45:23.291482+00:00</td>\n",
       "    </tr>\n",
       "    <tr>\n",
       "      <th>2</th>\n",
       "      <td>1672531320000</td>\n",
       "      <td>16529.59</td>\n",
       "      <td>16529.59</td>\n",
       "      <td>16521.37</td>\n",
       "      <td>16521.86</td>\n",
       "      <td>0.641744</td>\n",
       "      <td>2023-02-03 20:45:23.291482+00:00</td>\n",
       "    </tr>\n",
       "    <tr>\n",
       "      <th>3</th>\n",
       "      <td>1672531380000</td>\n",
       "      <td>16517.14</td>\n",
       "      <td>16517.51</td>\n",
       "      <td>16515.91</td>\n",
       "      <td>16517.48</td>\n",
       "      <td>0.524451</td>\n",
       "      <td>2023-02-03 20:45:23.291482+00:00</td>\n",
       "    </tr>\n",
       "    <tr>\n",
       "      <th>4</th>\n",
       "      <td>1672531440000</td>\n",
       "      <td>16521.76</td>\n",
       "      <td>16521.76</td>\n",
       "      <td>16518.58</td>\n",
       "      <td>16518.58</td>\n",
       "      <td>0.200164</td>\n",
       "      <td>2023-02-03 20:45:23.291482+00:00</td>\n",
       "    </tr>\n",
       "  </tbody>\n",
       "</table>\n",
       "</div>"
      ],
      "text/plain": [
       "       timestamp      open      high       low     close    volume  \\\n",
       "0  1672531200000  16524.41  16524.41  16524.41  16524.41  0.000735   \n",
       "1  1672531260000  16529.53  16529.53  16529.53  16529.53  0.004189   \n",
       "2  1672531320000  16529.59  16529.59  16521.37  16521.86  0.641744   \n",
       "3  1672531380000  16517.14  16517.51  16515.91  16517.48  0.524451   \n",
       "4  1672531440000  16521.76  16521.76  16518.58  16518.58  0.200164   \n",
       "\n",
       "             end_download_timestamp  \n",
       "0  2023-02-03 20:45:23.291482+00:00  \n",
       "1  2023-02-03 20:45:23.291482+00:00  \n",
       "2  2023-02-03 20:45:23.291482+00:00  \n",
       "3  2023-02-03 20:45:23.291482+00:00  \n",
       "4  2023-02-03 20:45:23.291482+00:00  "
      ]
     },
     "execution_count": 4,
     "metadata": {},
     "output_type": "execute_result"
    }
   ],
   "source": [
    "data_type = \"ohlcv\"\n",
    "data = extractor.download_data(\n",
    "    data_type,\n",
    "    exchange_id,\n",
    "    currency_pair_for_download,\n",
    "    start_timestamp=start_timestamp,\n",
    "    end_timestamp=end_timestamp,\n",
    "    depth=bid_ask_depth,\n",
    ")\n",
    "data.head()"
   ]
  },
  {
   "cell_type": "markdown",
   "id": "73591d24",
   "metadata": {},
   "source": [
    "### binanceus REST spot Trades"
   ]
  },
  {
   "cell_type": "code",
   "execution_count": 5,
   "id": "e422338e",
   "metadata": {
    "ExecuteTime": {
     "end_time": "2023-02-03T20:45:24.537409Z",
     "start_time": "2023-02-03T20:45:24.201298Z"
    }
   },
   "outputs": [],
   "source": [
    "import ccxt\n",
    "\n",
    "ccxt_exchange = ccxt.binanceus()\n",
    "data = pd.DataFrame(ccxt_exchange.fetch_trades(\"BTC/USDT\"))"
   ]
  },
  {
   "cell_type": "code",
   "execution_count": 6,
   "id": "33b1dacf",
   "metadata": {
    "ExecuteTime": {
     "end_time": "2023-02-03T20:45:24.868277Z",
     "start_time": "2023-02-03T20:45:24.846948Z"
    }
   },
   "outputs": [
    {
     "data": {
      "text/html": [
       "<div>\n",
       "<style scoped>\n",
       "    .dataframe tbody tr th:only-of-type {\n",
       "        vertical-align: middle;\n",
       "    }\n",
       "\n",
       "    .dataframe tbody tr th {\n",
       "        vertical-align: top;\n",
       "    }\n",
       "\n",
       "    .dataframe thead th {\n",
       "        text-align: right;\n",
       "    }\n",
       "</style>\n",
       "<table border=\"1\" class=\"dataframe\">\n",
       "  <thead>\n",
       "    <tr style=\"text-align: right;\">\n",
       "      <th></th>\n",
       "      <th>info</th>\n",
       "      <th>timestamp</th>\n",
       "      <th>datetime</th>\n",
       "      <th>symbol</th>\n",
       "      <th>id</th>\n",
       "      <th>order</th>\n",
       "      <th>type</th>\n",
       "      <th>side</th>\n",
       "      <th>takerOrMaker</th>\n",
       "      <th>price</th>\n",
       "      <th>amount</th>\n",
       "      <th>cost</th>\n",
       "      <th>fee</th>\n",
       "      <th>fees</th>\n",
       "    </tr>\n",
       "  </thead>\n",
       "  <tbody>\n",
       "    <tr>\n",
       "      <th>0</th>\n",
       "      <td>{'a': '17983678', 'p': '23379.62000000', 'q': ...</td>\n",
       "      <td>1675456348946</td>\n",
       "      <td>2023-02-03T20:32:28.946Z</td>\n",
       "      <td>BTC/USDT</td>\n",
       "      <td>17983678</td>\n",
       "      <td>None</td>\n",
       "      <td>None</td>\n",
       "      <td>sell</td>\n",
       "      <td>taker</td>\n",
       "      <td>23379.62</td>\n",
       "      <td>0.085511</td>\n",
       "      <td>1999.214686</td>\n",
       "      <td>None</td>\n",
       "      <td>[]</td>\n",
       "    </tr>\n",
       "    <tr>\n",
       "      <th>1</th>\n",
       "      <td>{'a': '17983679', 'p': '23379.62000000', 'q': ...</td>\n",
       "      <td>1675456348947</td>\n",
       "      <td>2023-02-03T20:32:28.947Z</td>\n",
       "      <td>BTC/USDT</td>\n",
       "      <td>17983679</td>\n",
       "      <td>None</td>\n",
       "      <td>None</td>\n",
       "      <td>sell</td>\n",
       "      <td>taker</td>\n",
       "      <td>23379.62</td>\n",
       "      <td>0.000007</td>\n",
       "      <td>0.163657</td>\n",
       "      <td>None</td>\n",
       "      <td>[]</td>\n",
       "    </tr>\n",
       "    <tr>\n",
       "      <th>2</th>\n",
       "      <td>{'a': '17983680', 'p': '23378.72000000', 'q': ...</td>\n",
       "      <td>1675456348966</td>\n",
       "      <td>2023-02-03T20:32:28.966Z</td>\n",
       "      <td>BTC/USDT</td>\n",
       "      <td>17983680</td>\n",
       "      <td>None</td>\n",
       "      <td>None</td>\n",
       "      <td>sell</td>\n",
       "      <td>taker</td>\n",
       "      <td>23378.72</td>\n",
       "      <td>0.140186</td>\n",
       "      <td>3277.369242</td>\n",
       "      <td>None</td>\n",
       "      <td>[]</td>\n",
       "    </tr>\n",
       "    <tr>\n",
       "      <th>3</th>\n",
       "      <td>{'a': '17983681', 'p': '23375.67000000', 'q': ...</td>\n",
       "      <td>1675456355834</td>\n",
       "      <td>2023-02-03T20:32:35.834Z</td>\n",
       "      <td>BTC/USDT</td>\n",
       "      <td>17983681</td>\n",
       "      <td>None</td>\n",
       "      <td>None</td>\n",
       "      <td>sell</td>\n",
       "      <td>taker</td>\n",
       "      <td>23375.67</td>\n",
       "      <td>0.085528</td>\n",
       "      <td>1999.274304</td>\n",
       "      <td>None</td>\n",
       "      <td>[]</td>\n",
       "    </tr>\n",
       "    <tr>\n",
       "      <th>4</th>\n",
       "      <td>{'a': '17983682', 'p': '23374.47000000', 'q': ...</td>\n",
       "      <td>1675456355834</td>\n",
       "      <td>2023-02-03T20:32:35.834Z</td>\n",
       "      <td>BTC/USDT</td>\n",
       "      <td>17983682</td>\n",
       "      <td>None</td>\n",
       "      <td>None</td>\n",
       "      <td>sell</td>\n",
       "      <td>taker</td>\n",
       "      <td>23374.47</td>\n",
       "      <td>0.074472</td>\n",
       "      <td>1740.743530</td>\n",
       "      <td>None</td>\n",
       "      <td>[]</td>\n",
       "    </tr>\n",
       "  </tbody>\n",
       "</table>\n",
       "</div>"
      ],
      "text/plain": [
       "                                                info      timestamp  \\\n",
       "0  {'a': '17983678', 'p': '23379.62000000', 'q': ...  1675456348946   \n",
       "1  {'a': '17983679', 'p': '23379.62000000', 'q': ...  1675456348947   \n",
       "2  {'a': '17983680', 'p': '23378.72000000', 'q': ...  1675456348966   \n",
       "3  {'a': '17983681', 'p': '23375.67000000', 'q': ...  1675456355834   \n",
       "4  {'a': '17983682', 'p': '23374.47000000', 'q': ...  1675456355834   \n",
       "\n",
       "                   datetime    symbol        id order  type  side  \\\n",
       "0  2023-02-03T20:32:28.946Z  BTC/USDT  17983678  None  None  sell   \n",
       "1  2023-02-03T20:32:28.947Z  BTC/USDT  17983679  None  None  sell   \n",
       "2  2023-02-03T20:32:28.966Z  BTC/USDT  17983680  None  None  sell   \n",
       "3  2023-02-03T20:32:35.834Z  BTC/USDT  17983681  None  None  sell   \n",
       "4  2023-02-03T20:32:35.834Z  BTC/USDT  17983682  None  None  sell   \n",
       "\n",
       "  takerOrMaker     price    amount         cost   fee fees  \n",
       "0        taker  23379.62  0.085511  1999.214686  None   []  \n",
       "1        taker  23379.62  0.000007     0.163657  None   []  \n",
       "2        taker  23378.72  0.140186  3277.369242  None   []  \n",
       "3        taker  23375.67  0.085528  1999.274304  None   []  \n",
       "4        taker  23374.47  0.074472  1740.743530  None   []  "
      ]
     },
     "execution_count": 6,
     "metadata": {},
     "output_type": "execute_result"
    }
   ],
   "source": [
    "data.head()"
   ]
  },
  {
   "cell_type": "markdown",
   "id": "0f8f6e63",
   "metadata": {},
   "source": [
    "# bybit REST"
   ]
  },
  {
   "cell_type": "code",
   "execution_count": 7,
   "id": "597b240b",
   "metadata": {
    "ExecuteTime": {
     "end_time": "2023-02-03T20:45:26.033374Z",
     "start_time": "2023-02-03T20:45:26.030489Z"
    }
   },
   "outputs": [],
   "source": [
    "exchange_id = \"bybit\""
   ]
  },
  {
   "cell_type": "markdown",
   "id": "01592ad2",
   "metadata": {},
   "source": [
    "## bybit REST spot"
   ]
  },
  {
   "cell_type": "code",
   "execution_count": 8,
   "id": "790ca361",
   "metadata": {
    "ExecuteTime": {
     "end_time": "2023-02-03T20:45:27.748846Z",
     "start_time": "2023-02-03T20:45:26.915384Z"
    }
   },
   "outputs": [],
   "source": [
    "contract_type = \"spot\"\n",
    "extractor = imvcdexex.CcxtExtractor(exchange_id, contract_type)"
   ]
  },
  {
   "cell_type": "markdown",
   "id": "4678f556",
   "metadata": {},
   "source": [
    "### bybit REST spot  Bid Ask"
   ]
  },
  {
   "cell_type": "code",
   "execution_count": 9,
   "id": "69ce4c82",
   "metadata": {
    "ExecuteTime": {
     "end_time": "2023-02-03T20:45:27.756328Z",
     "start_time": "2023-02-03T20:45:27.751042Z"
    }
   },
   "outputs": [
    {
     "data": {
      "text/plain": [
       "0    10000NFT/USDT:USDT\n",
       "1    1000BONK/USDT:USDT\n",
       "2     1000BTT/USDT:USDT\n",
       "3    1000LUNC/USDT:USDT\n",
       "4     1000XEC/USDT:USDT\n",
       "dtype: object"
      ]
     },
     "execution_count": 9,
     "metadata": {},
     "output_type": "execute_result"
    }
   ],
   "source": [
    "pd.Series(extractor.get_exchange_currency_pairs()).head()"
   ]
  },
  {
   "cell_type": "code",
   "execution_count": 12,
   "id": "947efa89",
   "metadata": {
    "ExecuteTime": {
     "end_time": "2023-02-03T20:45:45.848691Z",
     "start_time": "2023-02-03T20:45:45.796131Z"
    }
   },
   "outputs": [
    {
     "ename": "AssertionError",
     "evalue": "\n################################################################################\n* Failed assertion *\n'BTC/USDT' in '['10000NFT/USDT:USDT', '1000BONK/USDT:USDT', '1000BTT/USDT:USDT', '1000LUNC/USDT:USDT', '1000XEC/USDT:USDT', '1INCH/USDT:USDT', 'AAVE/USDT:USDT', 'ACH/USDT:USDT', 'ADA/USD:ADA', 'ADA/USDT:USDT', 'AGLD/USDT:USDT', 'AKRO/USDT:USDT', 'ALGO/USDT:USDT', 'ALICE/USDT:USDT', 'ALPHA/USDT:USDT', 'ANKR/USDT:USDT', 'ANT/USDT:USDT', 'APE/USDT:USDT', 'API3/USDT:USDT', 'APT/USDT:USDT', 'ARPA/USDT:USDT', 'AR/USDT:USDT', 'ASTR/USDT:USDT', 'ATOM/USDT:USDT', 'AUDIO/USDT:USDT', 'AVAX/USDT:USDT', 'AXS/USDT:USDT', 'BAKE/USDT:USDT', 'BAL/USDT:USDT', 'BAND/USDT:USDT', 'BAT/USDT:USDT', 'BCH/USDT:USDT', 'BEL/USDT:USDT', 'BICO/USDT:USDT', 'BIT/USD:BIT', 'BIT/USDT:USDT', 'BLZ/USDT:USDT', 'BNB/USDT:USDT', 'BNX/USDT:USDT', 'BOBA/USDT:USDT', 'BSV/USDT:USDT', 'BSW/USDT:USDT', 'BTC/USD:BTC', 'BTC/USD:BTC-230331', 'BTC/USD:BTC-230630', 'BTC/USDT:USDT', 'C98/USDT:USDT', 'CEEK/USDT:USDT', 'CELO/USDT:USDT', 'CELR/USDT:USDT', 'CHR/USDT:USDT', 'CHZ/USDT:USDT', 'CKB/USDT:USDT', 'COMP/USDT:USDT', 'COTI/USDT:USDT', 'CREAM/USDT:USDT', 'CRO/USDT:USDT', 'CRV/USDT:USDT', 'CTC/USDT:USDT', 'CTK/USDT:USDT', 'CTSI/USDT:USDT', 'CVC/USDT:USDT', 'CVX/USDT:USDT', 'DAR/USDT:USDT', 'DASH/USDT:USDT', 'DENT/USDT:USDT', 'DGB/USDT:USDT', 'DODO/USDT:USDT', 'DOGE/USDT:USDT', 'DOT/USD:DOT', 'DOT/USDT:USDT', 'DUSK/USDT:USDT', 'DYDX/USDT:USDT', 'EGLD/USDT:USDT', 'ENJ/USDT:USDT', 'ENS/USDT:USDT', 'EOS/USD:EOS', 'EOS/USDT:USDT', 'ETC/USDT:USDT', 'ETH/USD:ETH', 'ETH/USD:ETH-230331', 'ETH/USD:ETH-230630', 'ETH/USDT:USDT', 'ETHW/USDT:USDT', 'FIL/USDT:USDT', 'FITFI/USDT:USDT', 'FLM/USDT:USDT', 'FLOW/USDT:USDT', 'FTM/USDT:USDT', 'FXS/USDT:USDT', 'GALA/USDT:USDT', 'GAL/USDT:USDT', 'GLMR/USDT:USDT', 'GMT/USDT:USDT', 'GMX/USDT:USDT', 'GRT/USDT:USDT', 'GTC/USDT:USDT', 'HBAR/USDT:USDT', 'HNT/USDT:USDT', 'HOT/USDT:USDT', 'ICP/USDT:USDT', 'ICX/USDT:USDT', 'ILV/USDT:USDT', 'IMX/USDT:USDT', 'INJ/USDT:USDT', 'IOST/USDT:USDT', 'IOTA/USDT:USDT', 'IOTX/USDT:USDT', 'JASMY/USDT:USDT', 'JST/USDT:USDT', 'KAVA/USDT:USDT', 'KDA/USDT:USDT', 'KLAY/USDT:USDT', 'KNC/USDT:USDT', 'KSM/USDT:USDT', 'LDO/USDT:USDT', 'LINA/USDT:USDT', 'LINK/USDT:USDT', 'LIT/USDT:USDT', 'LOOKS/USDT:USDT', 'LPT/USDT:USDT', 'LRC/USDT:USDT', 'LTC/USD:LTC', 'LTC/USDT:USDT', 'LUNA2/USDT:USDT', 'MAGIC/USDT:USDT', 'MANA/USD:MANA', 'MANA/USDT:USDT', 'MASK/USDT:USDT', 'MATIC/USDT:USDT', 'MINA/USDT:USDT', 'MKR/USDT:USDT', 'MTL/USDT:USDT', 'NEAR/USDT:USDT', 'NEO/USDT:USDT', 'OCEAN/USDT:USDT', 'OGN/USDT:USDT', 'OMG/USDT:USDT', 'ONE/USDT:USDT', 'ONT/USDT:USDT', 'OP/USDT:USDT', 'PAXG/USDT:USDT', 'PEOPLE/USDT:USDT', 'QTUM/USDT:USDT', 'REEF/USDT:USDT', 'REN/USDT:USDT', 'REQ/USDT:USDT', 'RNDR/USDT:USDT', 'ROSE/USDT:USDT', 'RSR/USDT:USDT', 'RSS3/USDT:USDT', 'RUNE/USDT:USDT', 'RVN/USDT:USDT', 'SAND/USDT:USDT', 'SCRT/USDT:USDT', 'SC/USDT:USDT', 'SFP/USDT:USDT', 'SHIB1000/USDT:USDT', 'SKL/USDT:USDT', 'SLP/USDT:USDT', 'SNX/USDT:USDT', 'SOL/USDT:USDT', 'SPELL/USDT:USDT', 'STG/USDT:USDT', 'STMX/USDT:USDT', 'STORJ/USDT:USDT', 'STX/USDT:USDT', 'SUN/USDT:USDT', 'SUSHI/USDT:USDT', 'SWEAT/USDT:USDT', 'SXP/USDT:USDT', 'THETA/USDT:USDT', 'TLM/USDT:USDT', 'TOMO/USDT:USDT', 'TRB/USDT:USDT', 'TRX/USDT:USDT', 'TWT/USDT:USDT', 'UNFI/USDT:USDT', 'UNI/USDT:USDT', 'USDC/USDT:USDT', 'VET/USDT:USDT', 'WAVES/USDT:USDT', 'WOO/USDT:USDT', 'XCN/USDT:USDT', 'XEM/USDT:USDT', 'XLM/USDT:USDT', 'XMR/USDT:USDT', 'XNO/USDT:USDT', 'XRP/USD:XRP', 'XRP/USDT:USDT', 'XTZ/USDT:USDT', 'YFI/USDT:USDT', 'YGG/USDT:USDT', 'ZEC/USDT:USDT', 'ZEN/USDT:USDT', 'ZIL/USDT:USDT', 'ZRX/USDT:USDT', 'BTC/USD:USDC-230630-100000-C', 'BTC/USD:USDC-230630-100000-P', 'BTC/USD:USDC-230630-80000-C', 'BTC/USD:USDC-230630-80000-P', 'BTC/USD:USDC-230630-70000-C', 'BTC/USD:USDC-230630-70000-P', 'BTC/USD:USDC-230630-60000-C', 'BTC/USD:USDC-230630-60000-P', 'BTC/USD:USDC-230630-50000-C', 'BTC/USD:USDC-230630-50000-P', 'BTC/USD:USDC-230630-45000-C', 'BTC/USD:USDC-230630-45000-P', 'BTC/USD:USDC-230630-40000-C', 'BTC/USD:USDC-230630-40000-P', 'BTC/USD:USDC-230630-35000-C', 'BTC/USD:USDC-230630-35000-P', 'BTC/USD:USDC-230630-30000-C', 'BTC/USD:USDC-230630-30000-P', 'BTC/USD:USDC-230630-29000-C', 'BTC/USD:USDC-230630-29000-P', 'BTC/USD:USDC-230630-28000-C', 'BTC/USD:USDC-230630-28000-P', 'BTC/USD:USDC-230630-27000-C', 'BTC/USD:USDC-230630-27000-P', 'BTC/USD:USDC-230630-26000-C', 'BTC/USD:USDC-230630-26000-P', 'BTC/USD:USDC-230630-25000-C', 'BTC/USD:USDC-230630-25000-P', 'BTC/USD:USDC-230630-24000-C', 'BTC/USD:USDC-230630-24000-P', 'BTC/USD:USDC-230630-23000-C', 'BTC/USD:USDC-230630-23000-P', 'BTC/USD:USDC-230630-22000-C', 'BTC/USD:USDC-230630-22000-P', 'BTC/USD:USDC-230630-21000-C', 'BTC/USD:USDC-230630-21000-P', 'BTC/USD:USDC-230630-20000-C', 'BTC/USD:USDC-230630-20000-P', 'BTC/USD:USDC-230630-19000-C', 'BTC/USD:USDC-230630-19000-P', 'BTC/USD:USDC-230630-18000-C', 'BTC/USD:USDC-230630-18000-P', 'BTC/USD:USDC-230630-17000-C', 'BTC/USD:USDC-230630-17000-P', 'BTC/USD:USDC-230630-16000-C', 'BTC/USD:USDC-230630-16000-P', 'BTC/USD:USDC-230630-15000-C', 'BTC/USD:USDC-230630-15000-P', 'BTC/USD:USDC-230630-14000-C', 'BTC/USD:USDC-230630-14000-P', 'BTC/USD:USDC-230630-13000-C', 'BTC/USD:USDC-230630-13000-P', 'BTC/USD:USDC-230630-12000-C', 'BTC/USD:USDC-230630-12000-P', 'BTC/USD:USDC-230630-11000-C', 'BTC/USD:USDC-230630-11000-P', 'BTC/USD:USDC-230630-10000-C', 'BTC/USD:USDC-230630-10000-P', 'BTC/USD:USDC-230630-8000-C', 'BTC/USD:USDC-230630-8000-P', 'BTC/USD:USDC-230630-5000-C', 'BTC/USD:USDC-230630-5000-P', 'BTC/USD:USDC-230428-38000-C', 'BTC/USD:USDC-230428-38000-P', 'BTC/USD:USDC-230428-36000-C', 'BTC/USD:USDC-230428-36000-P', 'BTC/USD:USDC-230428-34000-C', 'BTC/USD:USDC-230428-34000-P', 'BTC/USD:USDC-230428-32000-C', 'BTC/USD:USDC-230428-32000-P', 'BTC/USD:USDC-230428-31000-C', 'BTC/USD:USDC-230428-31000-P', 'BTC/USD:USDC-230428-29000-C', 'BTC/USD:USDC-230428-29000-P', 'BTC/USD:USDC-230428-28000-C', 'BTC/USD:USDC-230428-28000-P', 'BTC/USD:USDC-230428-27000-C', 'BTC/USD:USDC-230428-27000-P', 'BTC/USD:USDC-230428-26000-C', 'BTC/USD:USDC-230428-26000-P', 'BTC/USD:USDC-230428-25500-C', 'BTC/USD:USDC-230428-25500-P', 'BTC/USD:USDC-230428-25000-C', 'BTC/USD:USDC-230428-25000-P', 'BTC/USD:USDC-230428-24500-C', 'BTC/USD:USDC-230428-24500-P', 'BTC/USD:USDC-230428-24000-C', 'BTC/USD:USDC-230428-24000-P', 'BTC/USD:USDC-230428-23500-C', 'BTC/USD:USDC-230428-23500-P', 'BTC/USD:USDC-230428-23000-C', 'BTC/USD:USDC-230428-23000-P', 'BTC/USD:USDC-230428-22000-C', 'BTC/USD:USDC-230428-22000-P', 'BTC/USD:USDC-230428-21000-C', 'BTC/USD:USDC-230428-21000-P', 'BTC/USD:USDC-230428-20000-C', 'BTC/USD:USDC-230428-20000-P', 'BTC/USD:USDC-230428-18000-C', 'BTC/USD:USDC-230428-18000-P', 'BTC/USD:USDC-230428-16000-C', 'BTC/USD:USDC-230428-16000-P', 'BTC/USD:USDC-230428-14000-C', 'BTC/USD:USDC-230428-14000-P', 'BTC/USD:USDC-230331-300000-C', 'BTC/USD:USDC-230331-300000-P', 'BTC/USD:USDC-230331-250000-C', 'BTC/USD:USDC-230331-250000-P', 'BTC/USD:USDC-230331-200000-C', 'BTC/USD:USDC-230331-200000-P', 'BTC/USD:USDC-230331-150000-C', 'BTC/USD:USDC-230331-150000-P', 'BTC/USD:USDC-230331-140000-C', 'BTC/USD:USDC-230331-140000-P', 'BTC/USD:USDC-230331-120000-C', 'BTC/USD:USDC-230331-120000-P', 'BTC/USD:USDC-230331-100000-C', 'BTC/USD:USDC-230331-100000-P', 'BTC/USD:USDC-230331-80000-C', 'BTC/USD:USDC-230331-80000-P', 'BTC/USD:USDC-230331-70000-C', 'BTC/USD:USDC-230331-70000-P', 'BTC/USD:USDC-230331-65000-C', 'BTC/USD:USDC-230331-65000-P', 'BTC/USD:USDC-230331-60000-C', 'BTC/USD:USDC-230331-60000-P', 'BTC/USD:USDC-230331-55000-C', 'BTC/USD:USDC-230331-55000-P', 'BTC/USD:USDC-230331-50000-C', 'BTC/USD:USDC-230331-50000-P', 'BTC/USD:USDC-230331-45000-C', 'BTC/USD:USDC-230331-45000-P', 'BTC/USD:USDC-230331-42000-C', 'BTC/USD:USDC-230331-42000-P', 'BTC/USD:USDC-230331-40000-C', 'BTC/USD:USDC-230331-40000-P', 'BTC/USD:USDC-230331-38000-C', 'BTC/USD:USDC-230331-38000-P', 'BTC/USD:USDC-230331-36000-C', 'BTC/USD:USDC-230331-36000-P', 'BTC/USD:USDC-230331-35000-C', 'BTC/USD:USDC-230331-35000-P', 'BTC/USD:USDC-230331-34000-C', 'BTC/USD:USDC-230331-34000-P', 'BTC/USD:USDC-230331-32000-C', 'BTC/USD:USDC-230331-32000-P', 'BTC/USD:USDC-230331-30000-C', 'BTC/USD:USDC-230331-30000-P', 'BTC/USD:USDC-230331-29000-C', 'BTC/USD:USDC-230331-29000-P', 'BTC/USD:USDC-230331-28000-C', 'BTC/USD:USDC-230331-28000-P', 'BTC/USD:USDC-230331-27000-C', 'BTC/USD:USDC-230331-27000-P', 'BTC/USD:USDC-230331-26500-C', 'BTC/USD:USDC-230331-26500-P', 'BTC/USD:USDC-230331-26000-C', 'BTC/USD:USDC-230331-26000-P', 'BTC/USD:USDC-230331-25500-C', 'BTC/USD:USDC-230331-25500-P', 'BTC/USD:USDC-230331-25000-C', 'BTC/USD:USDC-230331-25000-P', 'BTC/USD:USDC-230331-24500-C', 'BTC/USD:USDC-230331-24500-P', 'BTC/USD:USDC-230331-24000-C', 'BTC/USD:USDC-230331-24000-P', 'BTC/USD:USDC-230331-23500-C', 'BTC/USD:USDC-230331-23500-P', 'BTC/USD:USDC-230331-23000-C', 'BTC/USD:USDC-230331-23000-P', 'BTC/USD:USDC-230331-22500-C', 'BTC/USD:USDC-230331-22500-P', 'BTC/USD:USDC-230331-22000-C', 'BTC/USD:USDC-230331-22000-P', 'BTC/USD:USDC-230331-21500-C', 'BTC/USD:USDC-230331-21500-P', 'BTC/USD:USDC-230331-21000-C', 'BTC/USD:USDC-230331-21000-P', 'BTC/USD:USDC-230331-20500-C', 'BTC/USD:USDC-230331-20500-P', 'BTC/USD:USDC-230331-20000-C', 'BTC/USD:USDC-230331-20000-P', 'BTC/USD:USDC-230331-19000-C', 'BTC/USD:USDC-230331-19000-P', 'BTC/USD:USDC-230331-18000-C', 'BTC/USD:USDC-230331-18000-P', 'BTC/USD:USDC-230331-17000-C', 'BTC/USD:USDC-230331-17000-P', 'BTC/USD:USDC-230331-16000-C', 'BTC/USD:USDC-230331-16000-P', 'BTC/USD:USDC-230331-15000-C', 'BTC/USD:USDC-230331-15000-P', 'BTC/USD:USDC-230331-14000-C', 'BTC/USD:USDC-230331-14000-P', 'BTC/USD:USDC-230331-13000-C', 'BTC/USD:USDC-230331-13000-P', 'BTC/USD:USDC-230331-12000-C', 'BTC/USD:USDC-230331-12000-P', 'BTC/USD:USDC-230331-11000-C', 'BTC/USD:USDC-230331-11000-P', 'BTC/USD:USDC-230331-10000-C', 'BTC/USD:USDC-230331-10000-P', 'BTC/USD:USDC-230331-8000-C', 'BTC/USD:USDC-230331-8000-P', 'BTC/USD:USDC-230331-5000-C', 'BTC/USD:USDC-230331-5000-P', 'BTC/USD:USDC-230224-40000-C', 'BTC/USD:USDC-230224-40000-P', 'BTC/USD:USDC-230224-35000-C', 'BTC/USD:USDC-230224-35000-P', 'BTC/USD:USDC-230224-34000-C', 'BTC/USD:USDC-230224-34000-P', 'BTC/USD:USDC-230224-32000-C', 'BTC/USD:USDC-230224-32000-P', 'BTC/USD:USDC-230224-30000-C', 'BTC/USD:USDC-230224-30000-P', 'BTC/USD:USDC-230224-28000-C', 'BTC/USD:USDC-230224-28000-P', 'BTC/USD:USDC-230224-26000-C', 'BTC/USD:USDC-230224-26000-P', 'BTC/USD:USDC-230224-25000-C', 'BTC/USD:USDC-230224-25000-P', 'BTC/USD:USDC-230224-24000-C', 'BTC/USD:USDC-230224-24000-P', 'BTC/USD:USDC-230224-23500-C', 'BTC/USD:USDC-230224-23500-P', 'BTC/USD:USDC-230224-23000-C', 'BTC/USD:USDC-230224-23000-P', 'BTC/USD:USDC-230224-22500-C', 'BTC/USD:USDC-230224-22500-P', 'BTC/USD:USDC-230224-22000-C', 'BTC/USD:USDC-230224-22000-P', 'BTC/USD:USDC-230224-21500-C', 'BTC/USD:USDC-230224-21500-P', 'BTC/USD:USDC-230224-21000-C', 'BTC/USD:USDC-230224-21000-P', 'BTC/USD:USDC-230224-20500-C', 'BTC/USD:USDC-230224-20500-P', 'BTC/USD:USDC-230224-20000-C', 'BTC/USD:USDC-230224-20000-P', 'BTC/USD:USDC-230224-19500-C', 'BTC/USD:USDC-230224-19500-P', 'BTC/USD:USDC-230224-19000-C', 'BTC/USD:USDC-230224-19000-P', 'BTC/USD:USDC-230224-18500-C', 'BTC/USD:USDC-230224-18500-P', 'BTC/USD:USDC-230224-18000-C', 'BTC/USD:USDC-230224-18000-P', 'BTC/USD:USDC-230224-17500-C', 'BTC/USD:USDC-230224-17500-P', 'BTC/USD:USDC-230224-17000-C', 'BTC/USD:USDC-230224-17000-P', 'BTC/USD:USDC-230224-16500-C', 'BTC/USD:USDC-230224-16500-P', 'BTC/USD:USDC-230224-16000-C', 'BTC/USD:USDC-230224-16000-P', 'BTC/USD:USDC-230224-15000-C', 'BTC/USD:USDC-230224-15000-P', 'BTC/USD:USDC-230224-14000-C', 'BTC/USD:USDC-230224-14000-P', 'BTC/USD:USDC-230224-13000-C', 'BTC/USD:USDC-230224-13000-P', 'BTC/USD:USDC-230224-12000-C', 'BTC/USD:USDC-230224-12000-P', 'BTC/USD:USDC-230224-10000-C', 'BTC/USD:USDC-230224-10000-P', 'BTC/USD:USDC-230224-8000-C', 'BTC/USD:USDC-230224-8000-P', 'BTC/USD:USDC-230224-6000-C', 'BTC/USD:USDC-230224-6000-P', 'BTC/USD:USDC-230224-5000-C', 'BTC/USD:USDC-230224-5000-P', 'BTC/USD:USDC-230217-38000-C', 'BTC/USD:USDC-230217-38000-P', 'BTC/USD:USDC-230217-37000-C', 'BTC/USD:USDC-230217-37000-P', 'BTC/USD:USDC-230217-36000-C', 'BTC/USD:USDC-230217-36000-P', 'BTC/USD:USDC-230217-35000-C', 'BTC/USD:USDC-230217-35000-P', 'BTC/USD:USDC-230217-34000-C', 'BTC/USD:USDC-230217-34000-P', 'BTC/USD:USDC-230217-33000-C', 'BTC/USD:USDC-230217-33000-P', 'BTC/USD:USDC-230217-32000-C', 'BTC/USD:USDC-230217-32000-P', 'BTC/USD:USDC-230217-31000-C', 'BTC/USD:USDC-230217-31000-P', 'BTC/USD:USDC-230217-30000-C', 'BTC/USD:USDC-230217-30000-P', 'BTC/USD:USDC-230217-29000-C', 'BTC/USD:USDC-230217-29000-P', 'BTC/USD:USDC-230217-28000-C', 'BTC/USD:USDC-230217-28000-P', 'BTC/USD:USDC-230217-27000-C', 'BTC/USD:USDC-230217-27000-P', 'BTC/USD:USDC-230217-26000-C', 'BTC/USD:USDC-230217-26000-P', 'BTC/USD:USDC-230217-25000-C', 'BTC/USD:USDC-230217-25000-P', 'BTC/USD:USDC-230217-24500-C', 'BTC/USD:USDC-230217-24500-P', 'BTC/USD:USDC-230217-24000-C', 'BTC/USD:USDC-230217-24000-P', 'BTC/USD:USDC-230217-23500-C', 'BTC/USD:USDC-230217-23500-P', 'BTC/USD:USDC-230217-23000-C', 'BTC/USD:USDC-230217-23000-P', 'BTC/USD:USDC-230217-22500-C', 'BTC/USD:USDC-230217-22500-P', 'BTC/USD:USDC-230217-22000-C', 'BTC/USD:USDC-230217-22000-P', 'BTC/USD:USDC-230217-21500-C', 'BTC/USD:USDC-230217-21500-P', 'BTC/USD:USDC-230217-21000-C', 'BTC/USD:USDC-230217-21000-P', 'BTC/USD:USDC-230217-20500-C', 'BTC/USD:USDC-230217-20500-P', 'BTC/USD:USDC-230217-20000-C', 'BTC/USD:USDC-230217-20000-P', 'BTC/USD:USDC-230217-19500-C', 'BTC/USD:USDC-230217-19500-P', 'BTC/USD:USDC-230217-19000-C', 'BTC/USD:USDC-230217-19000-P', 'BTC/USD:USDC-230217-18000-C', 'BTC/USD:USDC-230217-18000-P', 'BTC/USD:USDC-230217-17000-C', 'BTC/USD:USDC-230217-17000-P', 'BTC/USD:USDC-230217-16000-C', 'BTC/USD:USDC-230217-16000-P', 'BTC/USD:USDC-230217-15000-C', 'BTC/USD:USDC-230217-15000-P', 'BTC/USD:USDC-230217-14000-C', 'BTC/USD:USDC-230217-14000-P', 'BTC/USD:USDC-230217-13000-C', 'BTC/USD:USDC-230217-13000-P', 'BTC/USD:USDC-230217-12000-C', 'BTC/USD:USDC-230217-12000-P', 'BTC/USD:USDC-230210-38000-C', 'BTC/USD:USDC-230210-38000-P', 'BTC/USD:USDC-230210-37000-C', 'BTC/USD:USDC-230210-37000-P', 'BTC/USD:USDC-230210-36000-C', 'BTC/USD:USDC-230210-36000-P', 'BTC/USD:USDC-230210-35000-C', 'BTC/USD:USDC-230210-35000-P', 'BTC/USD:USDC-230210-34000-C', 'BTC/USD:USDC-230210-34000-P', 'BTC/USD:USDC-230210-33000-C', 'BTC/USD:USDC-230210-33000-P', 'BTC/USD:USDC-230210-32000-C', 'BTC/USD:USDC-230210-32000-P', 'BTC/USD:USDC-230210-31000-C', 'BTC/USD:USDC-230210-31000-P', 'BTC/USD:USDC-230210-30000-C', 'BTC/USD:USDC-230210-30000-P', 'BTC/USD:USDC-230210-29000-C', 'BTC/USD:USDC-230210-29000-P', 'BTC/USD:USDC-230210-28000-C', 'BTC/USD:USDC-230210-28000-P', 'BTC/USD:USDC-230210-27000-C', 'BTC/USD:USDC-230210-27000-P', 'BTC/USD:USDC-230210-26000-C', 'BTC/USD:USDC-230210-26000-P', 'BTC/USD:USDC-230210-25000-C', 'BTC/USD:USDC-230210-25000-P', 'BTC/USD:USDC-230210-24500-C', 'BTC/USD:USDC-230210-24500-P', 'BTC/USD:USDC-230210-24000-C', 'BTC/USD:USDC-230210-24000-P', 'BTC/USD:USDC-230210-23500-C', 'BTC/USD:USDC-230210-23500-P', 'BTC/USD:USDC-230210-23000-C', 'BTC/USD:USDC-230210-23000-P', 'BTC/USD:USDC-230210-22500-C', 'BTC/USD:USDC-230210-22500-P', 'BTC/USD:USDC-230210-22000-C', 'BTC/USD:USDC-230210-22000-P', 'BTC/USD:USDC-230210-21500-C', 'BTC/USD:USDC-230210-21500-P', 'BTC/USD:USDC-230210-21000-C', 'BTC/USD:USDC-230210-21000-P', 'BTC/USD:USDC-230210-20500-C', 'BTC/USD:USDC-230210-20500-P', 'BTC/USD:USDC-230210-20000-C', 'BTC/USD:USDC-230210-20000-P', 'BTC/USD:USDC-230210-19500-C', 'BTC/USD:USDC-230210-19500-P', 'BTC/USD:USDC-230210-19000-C', 'BTC/USD:USDC-230210-19000-P', 'BTC/USD:USDC-230210-18500-C', 'BTC/USD:USDC-230210-18500-P', 'BTC/USD:USDC-230210-18000-C', 'BTC/USD:USDC-230210-18000-P', 'BTC/USD:USDC-230210-17500-C', 'BTC/USD:USDC-230210-17500-P', 'BTC/USD:USDC-230210-17000-C', 'BTC/USD:USDC-230210-17000-P', 'BTC/USD:USDC-230210-16000-C', 'BTC/USD:USDC-230210-16000-P', 'BTC/USD:USDC-230210-15000-C', 'BTC/USD:USDC-230210-15000-P', 'BTC/USD:USDC-230210-14000-C', 'BTC/USD:USDC-230210-14000-P', 'BTC/USD:USDC-230210-13000-C', 'BTC/USD:USDC-230210-13000-P', 'BTC/USD:USDC-230210-12000-C', 'BTC/USD:USDC-230210-12000-P', 'BTC/USD:USDC-230210-11000-C', 'BTC/USD:USDC-230210-11000-P', 'BTC/USD:USDC-230205-28000-C', 'BTC/USD:USDC-230205-28000-P', 'BTC/USD:USDC-230205-27000-C', 'BTC/USD:USDC-230205-27000-P', 'BTC/USD:USDC-230205-26000-C', 'BTC/USD:USDC-230205-26000-P', 'BTC/USD:USDC-230205-25000-C', 'BTC/USD:USDC-230205-25000-P', 'BTC/USD:USDC-230205-24250-C', 'BTC/USD:USDC-230205-24250-P', 'BTC/USD:USDC-230205-24000-C', 'BTC/USD:USDC-230205-24000-P', 'BTC/USD:USDC-230205-23750-C', 'BTC/USD:USDC-230205-23750-P', 'BTC/USD:USDC-230205-23500-C', 'BTC/USD:USDC-230205-23500-P', 'BTC/USD:USDC-230205-23250-C', 'BTC/USD:USDC-230205-23250-P', 'BTC/USD:USDC-230205-23000-C', 'BTC/USD:USDC-230205-23000-P', 'BTC/USD:USDC-230205-22750-C', 'BTC/USD:USDC-230205-22750-P', 'BTC/USD:USDC-230205-22500-C', 'BTC/USD:USDC-230205-22500-P', 'BTC/USD:USDC-230205-22250-C', 'BTC/USD:USDC-230205-22250-P', 'BTC/USD:USDC-230204-25500-C', 'BTC/USD:USDC-230204-25500-P', 'BTC/USD:USDC-230204-25250-C', 'BTC/USD:USDC-230204-25250-P', 'BTC/USD:USDC-230204-25000-C', 'BTC/USD:USDC-230204-25000-P', 'BTC/USD:USDC-230204-24750-C', 'BTC/USD:USDC-230204-24750-P', 'BTC/USD:USDC-230204-24500-C', 'BTC/USD:USDC-230204-24500-P', 'BTC/USD:USDC-230204-24250-C', 'BTC/USD:USDC-230204-24250-P', 'BTC/USD:USDC-230204-24000-C', 'BTC/USD:USDC-230204-24000-P', 'BTC/USD:USDC-230204-23750-C', 'BTC/USD:USDC-230204-23750-P', 'BTC/USD:USDC-230204-23500-C', 'BTC/USD:USDC-230204-23500-P', 'BTC/USD:USDC-230204-23250-C', 'BTC/USD:USDC-230204-23250-P', 'BTC/USD:USDC-230204-23000-C', 'BTC/USD:USDC-230204-23000-P', 'BTC/USD:USDC-230204-22750-C', 'BTC/USD:USDC-230204-22750-P', 'BTC/USD:USDC-230204-22500-C', 'BTC/USD:USDC-230204-22500-P', 'BTC/USD:USDC-230204-22250-C', 'BTC/USD:USDC-230204-22250-P', 'BTC/USD:USDC-230203-35000-C', 'BTC/USD:USDC-230203-35000-P', 'BTC/USD:USDC-230203-34000-C', 'BTC/USD:USDC-230203-34000-P', 'BTC/USD:USDC-230203-33000-C', 'BTC/USD:USDC-230203-33000-P', 'BTC/USD:USDC-230203-32000-C', 'BTC/USD:USDC-230203-32000-P', 'BTC/USD:USDC-230203-31000-C', 'BTC/USD:USDC-230203-31000-P', 'BTC/USD:USDC-230203-30000-C', 'BTC/USD:USDC-230203-30000-P', 'BTC/USD:USDC-230203-29000-C', 'BTC/USD:USDC-230203-29000-P', 'BTC/USD:USDC-230203-28000-C', 'BTC/USD:USDC-230203-28000-P', 'BTC/USD:USDC-230203-27000-C', 'BTC/USD:USDC-230203-27000-P', 'BTC/USD:USDC-230203-26000-C', 'BTC/USD:USDC-230203-26000-P', 'BTC/USD:USDC-230203-25000-C', 'BTC/USD:USDC-230203-25000-P', 'BTC/USD:USDC-230203-24750-C', 'BTC/USD:USDC-230203-24750-P', 'BTC/USD:USDC-230203-24500-C', 'BTC/USD:USDC-230203-24500-P', 'BTC/USD:USDC-230203-24250-C', 'BTC/USD:USDC-230203-24250-P', 'BTC/USD:USDC-230203-24000-C', 'BTC/USD:USDC-230203-24000-P', 'BTC/USD:USDC-230203-23750-C', 'BTC/USD:USDC-230203-23750-P', 'BTC/USD:USDC-230203-23500-C', 'BTC/USD:USDC-230203-23500-P', 'BTC/USD:USDC-230203-23250-C', 'BTC/USD:USDC-230203-23250-P', 'BTC/USD:USDC', 'ETC/USD:USDC', 'MATIC/USD:USDC', 'OP/USD:USDC', 'ETH/USD:USDC', 'GMT/USD:USDC', 'ADA/USD:USDC', 'AVAX/USD:USDC', 'SOL/USD:USDC', 'XRP/USD:USDC', 'SAND/USD:USDC', 'APE/USD:USDC', 'SWEAT/USD:USDC', 'ATOM/USD:USDC', 'EOS/USD:USDC', 'CHZ/USD:USDC', 'NEAR/USD:USDC', 'BNB/USD:USDC', 'LDO/USD:USDC', 'LUNA/USD:USDC', 'APT/USD:USDC']'\nCurrency pair is not present in exchange\n################################################################################\n",
     "output_type": "error",
     "traceback": [
      "\u001b[0;31m---------------------------------------------------------------------------\u001b[0m",
      "\u001b[0;31mAssertionError\u001b[0m                            Traceback (most recent call last)",
      "Cell \u001b[0;32mIn [12], line 8\u001b[0m\n\u001b[1;32m      6\u001b[0m bid_ask_depth \u001b[38;5;241m=\u001b[39m \u001b[38;5;241m10\u001b[39m\n\u001b[1;32m      7\u001b[0m data_type \u001b[38;5;241m=\u001b[39m \u001b[38;5;124m\"\u001b[39m\u001b[38;5;124mbid_ask\u001b[39m\u001b[38;5;124m\"\u001b[39m\n\u001b[0;32m----> 8\u001b[0m data \u001b[38;5;241m=\u001b[39m \u001b[43mextractor\u001b[49m\u001b[38;5;241;43m.\u001b[39;49m\u001b[43mdownload_data\u001b[49m\u001b[43m(\u001b[49m\n\u001b[1;32m      9\u001b[0m \u001b[43m    \u001b[49m\u001b[43mdata_type\u001b[49m\u001b[43m,\u001b[49m\n\u001b[1;32m     10\u001b[0m \u001b[43m    \u001b[49m\u001b[43mexchange_id\u001b[49m\u001b[43m,\u001b[49m\n\u001b[1;32m     11\u001b[0m \u001b[43m    \u001b[49m\u001b[43mcurrency_pair_for_download\u001b[49m\u001b[43m,\u001b[49m\n\u001b[1;32m     12\u001b[0m \u001b[43m    \u001b[49m\u001b[43mstart_timestamp\u001b[49m\u001b[38;5;241;43m=\u001b[39;49m\u001b[43mstart_timestamp\u001b[49m\u001b[43m,\u001b[49m\n\u001b[1;32m     13\u001b[0m \u001b[43m    \u001b[49m\u001b[43mend_timestamp\u001b[49m\u001b[38;5;241;43m=\u001b[39;49m\u001b[43mend_timestamp\u001b[49m\u001b[43m,\u001b[49m\n\u001b[1;32m     14\u001b[0m \u001b[43m    \u001b[49m\u001b[43mdepth\u001b[49m\u001b[38;5;241;43m=\u001b[39;49m\u001b[43mbid_ask_depth\u001b[49m\n\u001b[1;32m     15\u001b[0m \u001b[43m)\u001b[49m\n\u001b[1;32m     16\u001b[0m data\n",
      "File \u001b[0;32m/app/im_v2/common/data/extract/extractor.py:43\u001b[0m, in \u001b[0;36mExtractor.download_data\u001b[0;34m(self, data_type, exchange_id, currency_pair, **kwargs)\u001b[0m\n\u001b[1;32m     37\u001b[0m     data \u001b[38;5;241m=\u001b[39m \u001b[38;5;28mself\u001b[39m\u001b[38;5;241m.\u001b[39m_download_ohlcv(\n\u001b[1;32m     38\u001b[0m         exchange_id,\n\u001b[1;32m     39\u001b[0m         currency_pair,\n\u001b[1;32m     40\u001b[0m         \u001b[38;5;241m*\u001b[39m\u001b[38;5;241m*\u001b[39mkwargs,\n\u001b[1;32m     41\u001b[0m     )\n\u001b[1;32m     42\u001b[0m \u001b[38;5;28;01melif\u001b[39;00m data_type \u001b[38;5;241m==\u001b[39m \u001b[38;5;124m\"\u001b[39m\u001b[38;5;124mbid_ask\u001b[39m\u001b[38;5;124m\"\u001b[39m:\n\u001b[0;32m---> 43\u001b[0m     data \u001b[38;5;241m=\u001b[39m \u001b[38;5;28;43mself\u001b[39;49m\u001b[38;5;241;43m.\u001b[39;49m\u001b[43m_download_bid_ask\u001b[49m\u001b[43m(\u001b[49m\u001b[43mexchange_id\u001b[49m\u001b[43m,\u001b[49m\u001b[43m \u001b[49m\u001b[43mcurrency_pair\u001b[49m\u001b[43m,\u001b[49m\u001b[43m \u001b[49m\u001b[38;5;241;43m*\u001b[39;49m\u001b[38;5;241;43m*\u001b[39;49m\u001b[43mkwargs\u001b[49m\u001b[43m)\u001b[49m\n\u001b[1;32m     44\u001b[0m \u001b[38;5;28;01melif\u001b[39;00m data_type \u001b[38;5;241m==\u001b[39m \u001b[38;5;124m\"\u001b[39m\u001b[38;5;124mtrades\u001b[39m\u001b[38;5;124m\"\u001b[39m:\n\u001b[1;32m     45\u001b[0m     data \u001b[38;5;241m=\u001b[39m \u001b[38;5;28mself\u001b[39m\u001b[38;5;241m.\u001b[39m_download_trades(exchange_id, currency_pair, \u001b[38;5;241m*\u001b[39m\u001b[38;5;241m*\u001b[39mkwargs)\n",
      "File \u001b[0;32m/app/im_v2/ccxt/data/extract/extractor.py:359\u001b[0m, in \u001b[0;36mCcxtExtractor._download_bid_ask\u001b[0;34m(self, exchange_id, currency_pair, depth, **kwargs)\u001b[0m\n\u001b[1;32m    355\u001b[0m \u001b[38;5;66;03m# Convert symbol to CCXT format, e.g. \"BTC_USDT\" -> \"BTC/USDT\".\u001b[39;00m\n\u001b[1;32m    356\u001b[0m currency_pair \u001b[38;5;241m=\u001b[39m \u001b[38;5;28mself\u001b[39m\u001b[38;5;241m.\u001b[39mconvert_currency_pair(\n\u001b[1;32m    357\u001b[0m     currency_pair,\n\u001b[1;32m    358\u001b[0m )\n\u001b[0;32m--> 359\u001b[0m \u001b[43mhdbg\u001b[49m\u001b[38;5;241;43m.\u001b[39;49m\u001b[43mdassert_in\u001b[49m\u001b[43m(\u001b[49m\n\u001b[1;32m    360\u001b[0m \u001b[43m    \u001b[49m\u001b[43mcurrency_pair\u001b[49m\u001b[43m,\u001b[49m\n\u001b[1;32m    361\u001b[0m \u001b[43m    \u001b[49m\u001b[38;5;28;43mself\u001b[39;49m\u001b[38;5;241;43m.\u001b[39;49m\u001b[43mcurrency_pairs\u001b[49m\u001b[43m,\u001b[49m\n\u001b[1;32m    362\u001b[0m \u001b[43m    \u001b[49m\u001b[38;5;124;43m\"\u001b[39;49m\u001b[38;5;124;43mCurrency pair is not present in exchange\u001b[39;49m\u001b[38;5;124;43m\"\u001b[39;49m\u001b[43m,\u001b[49m\n\u001b[1;32m    363\u001b[0m \u001b[43m\u001b[49m\u001b[43m)\u001b[49m\n\u001b[1;32m    364\u001b[0m \u001b[38;5;66;03m# Download order book data.\u001b[39;00m\n\u001b[1;32m    365\u001b[0m order_book \u001b[38;5;241m=\u001b[39m \u001b[38;5;28mself\u001b[39m\u001b[38;5;241m.\u001b[39m_sync_exchange\u001b[38;5;241m.\u001b[39mfetch_order_book(currency_pair, depth)\n",
      "File \u001b[0;32m/app/helpers/hdbg.py:314\u001b[0m, in \u001b[0;36mdassert_in\u001b[0;34m(value, valid_values, msg, only_warning, *args)\u001b[0m\n\u001b[1;32m    312\u001b[0m \u001b[38;5;28;01mif\u001b[39;00m \u001b[38;5;129;01mnot\u001b[39;00m cond:\n\u001b[1;32m    313\u001b[0m     txt \u001b[38;5;241m=\u001b[39m \u001b[38;5;124mf\u001b[39m\u001b[38;5;124m\"\u001b[39m\u001b[38;5;124m'\u001b[39m\u001b[38;5;132;01m{\u001b[39;00mvalue\u001b[38;5;132;01m}\u001b[39;00m\u001b[38;5;124m'\u001b[39m\u001b[38;5;124m in \u001b[39m\u001b[38;5;124m'\u001b[39m\u001b[38;5;132;01m{\u001b[39;00mvalid_values\u001b[38;5;132;01m}\u001b[39;00m\u001b[38;5;124m'\u001b[39m\u001b[38;5;124m\"\u001b[39m\n\u001b[0;32m--> 314\u001b[0m     \u001b[43m_dfatal\u001b[49m\u001b[43m(\u001b[49m\u001b[43mtxt\u001b[49m\u001b[43m,\u001b[49m\u001b[43m \u001b[49m\u001b[43mmsg\u001b[49m\u001b[43m,\u001b[49m\u001b[43m \u001b[49m\u001b[38;5;241;43m*\u001b[39;49m\u001b[43margs\u001b[49m\u001b[43m,\u001b[49m\u001b[43m \u001b[49m\u001b[43monly_warning\u001b[49m\u001b[38;5;241;43m=\u001b[39;49m\u001b[43monly_warning\u001b[49m\u001b[43m)\u001b[49m\n",
      "File \u001b[0;32m/app/helpers/hdbg.py:142\u001b[0m, in \u001b[0;36m_dfatal\u001b[0;34m(txt, msg, only_warning, *args)\u001b[0m\n\u001b[1;32m    139\u001b[0m     _LOG\u001b[38;5;241m.\u001b[39mwarning(dfatal_txt)\n\u001b[1;32m    140\u001b[0m \u001b[38;5;28;01melse\u001b[39;00m:\n\u001b[1;32m    141\u001b[0m     \u001b[38;5;66;03m# Abort.\u001b[39;00m\n\u001b[0;32m--> 142\u001b[0m     \u001b[43mdfatal\u001b[49m\u001b[43m(\u001b[49m\u001b[43mdfatal_txt\u001b[49m\u001b[43m)\u001b[49m\n",
      "File \u001b[0;32m/app/helpers/hdbg.py:71\u001b[0m, in \u001b[0;36mdfatal\u001b[0;34m(message, assertion_type)\u001b[0m\n\u001b[1;32m     69\u001b[0m \u001b[38;5;28;01mif\u001b[39;00m assertion_type \u001b[38;5;129;01mis\u001b[39;00m \u001b[38;5;28;01mNone\u001b[39;00m:\n\u001b[1;32m     70\u001b[0m     assertion_type \u001b[38;5;241m=\u001b[39m \u001b[38;5;167;01mAssertionError\u001b[39;00m\n\u001b[0;32m---> 71\u001b[0m \u001b[38;5;28;01mraise\u001b[39;00m assertion_type(ret)\n",
      "\u001b[0;31mAssertionError\u001b[0m: \n################################################################################\n* Failed assertion *\n'BTC/USDT' in '['10000NFT/USDT:USDT', '1000BONK/USDT:USDT', '1000BTT/USDT:USDT', '1000LUNC/USDT:USDT', '1000XEC/USDT:USDT', '1INCH/USDT:USDT', 'AAVE/USDT:USDT', 'ACH/USDT:USDT', 'ADA/USD:ADA', 'ADA/USDT:USDT', 'AGLD/USDT:USDT', 'AKRO/USDT:USDT', 'ALGO/USDT:USDT', 'ALICE/USDT:USDT', 'ALPHA/USDT:USDT', 'ANKR/USDT:USDT', 'ANT/USDT:USDT', 'APE/USDT:USDT', 'API3/USDT:USDT', 'APT/USDT:USDT', 'ARPA/USDT:USDT', 'AR/USDT:USDT', 'ASTR/USDT:USDT', 'ATOM/USDT:USDT', 'AUDIO/USDT:USDT', 'AVAX/USDT:USDT', 'AXS/USDT:USDT', 'BAKE/USDT:USDT', 'BAL/USDT:USDT', 'BAND/USDT:USDT', 'BAT/USDT:USDT', 'BCH/USDT:USDT', 'BEL/USDT:USDT', 'BICO/USDT:USDT', 'BIT/USD:BIT', 'BIT/USDT:USDT', 'BLZ/USDT:USDT', 'BNB/USDT:USDT', 'BNX/USDT:USDT', 'BOBA/USDT:USDT', 'BSV/USDT:USDT', 'BSW/USDT:USDT', 'BTC/USD:BTC', 'BTC/USD:BTC-230331', 'BTC/USD:BTC-230630', 'BTC/USDT:USDT', 'C98/USDT:USDT', 'CEEK/USDT:USDT', 'CELO/USDT:USDT', 'CELR/USDT:USDT', 'CHR/USDT:USDT', 'CHZ/USDT:USDT', 'CKB/USDT:USDT', 'COMP/USDT:USDT', 'COTI/USDT:USDT', 'CREAM/USDT:USDT', 'CRO/USDT:USDT', 'CRV/USDT:USDT', 'CTC/USDT:USDT', 'CTK/USDT:USDT', 'CTSI/USDT:USDT', 'CVC/USDT:USDT', 'CVX/USDT:USDT', 'DAR/USDT:USDT', 'DASH/USDT:USDT', 'DENT/USDT:USDT', 'DGB/USDT:USDT', 'DODO/USDT:USDT', 'DOGE/USDT:USDT', 'DOT/USD:DOT', 'DOT/USDT:USDT', 'DUSK/USDT:USDT', 'DYDX/USDT:USDT', 'EGLD/USDT:USDT', 'ENJ/USDT:USDT', 'ENS/USDT:USDT', 'EOS/USD:EOS', 'EOS/USDT:USDT', 'ETC/USDT:USDT', 'ETH/USD:ETH', 'ETH/USD:ETH-230331', 'ETH/USD:ETH-230630', 'ETH/USDT:USDT', 'ETHW/USDT:USDT', 'FIL/USDT:USDT', 'FITFI/USDT:USDT', 'FLM/USDT:USDT', 'FLOW/USDT:USDT', 'FTM/USDT:USDT', 'FXS/USDT:USDT', 'GALA/USDT:USDT', 'GAL/USDT:USDT', 'GLMR/USDT:USDT', 'GMT/USDT:USDT', 'GMX/USDT:USDT', 'GRT/USDT:USDT', 'GTC/USDT:USDT', 'HBAR/USDT:USDT', 'HNT/USDT:USDT', 'HOT/USDT:USDT', 'ICP/USDT:USDT', 'ICX/USDT:USDT', 'ILV/USDT:USDT', 'IMX/USDT:USDT', 'INJ/USDT:USDT', 'IOST/USDT:USDT', 'IOTA/USDT:USDT', 'IOTX/USDT:USDT', 'JASMY/USDT:USDT', 'JST/USDT:USDT', 'KAVA/USDT:USDT', 'KDA/USDT:USDT', 'KLAY/USDT:USDT', 'KNC/USDT:USDT', 'KSM/USDT:USDT', 'LDO/USDT:USDT', 'LINA/USDT:USDT', 'LINK/USDT:USDT', 'LIT/USDT:USDT', 'LOOKS/USDT:USDT', 'LPT/USDT:USDT', 'LRC/USDT:USDT', 'LTC/USD:LTC', 'LTC/USDT:USDT', 'LUNA2/USDT:USDT', 'MAGIC/USDT:USDT', 'MANA/USD:MANA', 'MANA/USDT:USDT', 'MASK/USDT:USDT', 'MATIC/USDT:USDT', 'MINA/USDT:USDT', 'MKR/USDT:USDT', 'MTL/USDT:USDT', 'NEAR/USDT:USDT', 'NEO/USDT:USDT', 'OCEAN/USDT:USDT', 'OGN/USDT:USDT', 'OMG/USDT:USDT', 'ONE/USDT:USDT', 'ONT/USDT:USDT', 'OP/USDT:USDT', 'PAXG/USDT:USDT', 'PEOPLE/USDT:USDT', 'QTUM/USDT:USDT', 'REEF/USDT:USDT', 'REN/USDT:USDT', 'REQ/USDT:USDT', 'RNDR/USDT:USDT', 'ROSE/USDT:USDT', 'RSR/USDT:USDT', 'RSS3/USDT:USDT', 'RUNE/USDT:USDT', 'RVN/USDT:USDT', 'SAND/USDT:USDT', 'SCRT/USDT:USDT', 'SC/USDT:USDT', 'SFP/USDT:USDT', 'SHIB1000/USDT:USDT', 'SKL/USDT:USDT', 'SLP/USDT:USDT', 'SNX/USDT:USDT', 'SOL/USDT:USDT', 'SPELL/USDT:USDT', 'STG/USDT:USDT', 'STMX/USDT:USDT', 'STORJ/USDT:USDT', 'STX/USDT:USDT', 'SUN/USDT:USDT', 'SUSHI/USDT:USDT', 'SWEAT/USDT:USDT', 'SXP/USDT:USDT', 'THETA/USDT:USDT', 'TLM/USDT:USDT', 'TOMO/USDT:USDT', 'TRB/USDT:USDT', 'TRX/USDT:USDT', 'TWT/USDT:USDT', 'UNFI/USDT:USDT', 'UNI/USDT:USDT', 'USDC/USDT:USDT', 'VET/USDT:USDT', 'WAVES/USDT:USDT', 'WOO/USDT:USDT', 'XCN/USDT:USDT', 'XEM/USDT:USDT', 'XLM/USDT:USDT', 'XMR/USDT:USDT', 'XNO/USDT:USDT', 'XRP/USD:XRP', 'XRP/USDT:USDT', 'XTZ/USDT:USDT', 'YFI/USDT:USDT', 'YGG/USDT:USDT', 'ZEC/USDT:USDT', 'ZEN/USDT:USDT', 'ZIL/USDT:USDT', 'ZRX/USDT:USDT', 'BTC/USD:USDC-230630-100000-C', 'BTC/USD:USDC-230630-100000-P', 'BTC/USD:USDC-230630-80000-C', 'BTC/USD:USDC-230630-80000-P', 'BTC/USD:USDC-230630-70000-C', 'BTC/USD:USDC-230630-70000-P', 'BTC/USD:USDC-230630-60000-C', 'BTC/USD:USDC-230630-60000-P', 'BTC/USD:USDC-230630-50000-C', 'BTC/USD:USDC-230630-50000-P', 'BTC/USD:USDC-230630-45000-C', 'BTC/USD:USDC-230630-45000-P', 'BTC/USD:USDC-230630-40000-C', 'BTC/USD:USDC-230630-40000-P', 'BTC/USD:USDC-230630-35000-C', 'BTC/USD:USDC-230630-35000-P', 'BTC/USD:USDC-230630-30000-C', 'BTC/USD:USDC-230630-30000-P', 'BTC/USD:USDC-230630-29000-C', 'BTC/USD:USDC-230630-29000-P', 'BTC/USD:USDC-230630-28000-C', 'BTC/USD:USDC-230630-28000-P', 'BTC/USD:USDC-230630-27000-C', 'BTC/USD:USDC-230630-27000-P', 'BTC/USD:USDC-230630-26000-C', 'BTC/USD:USDC-230630-26000-P', 'BTC/USD:USDC-230630-25000-C', 'BTC/USD:USDC-230630-25000-P', 'BTC/USD:USDC-230630-24000-C', 'BTC/USD:USDC-230630-24000-P', 'BTC/USD:USDC-230630-23000-C', 'BTC/USD:USDC-230630-23000-P', 'BTC/USD:USDC-230630-22000-C', 'BTC/USD:USDC-230630-22000-P', 'BTC/USD:USDC-230630-21000-C', 'BTC/USD:USDC-230630-21000-P', 'BTC/USD:USDC-230630-20000-C', 'BTC/USD:USDC-230630-20000-P', 'BTC/USD:USDC-230630-19000-C', 'BTC/USD:USDC-230630-19000-P', 'BTC/USD:USDC-230630-18000-C', 'BTC/USD:USDC-230630-18000-P', 'BTC/USD:USDC-230630-17000-C', 'BTC/USD:USDC-230630-17000-P', 'BTC/USD:USDC-230630-16000-C', 'BTC/USD:USDC-230630-16000-P', 'BTC/USD:USDC-230630-15000-C', 'BTC/USD:USDC-230630-15000-P', 'BTC/USD:USDC-230630-14000-C', 'BTC/USD:USDC-230630-14000-P', 'BTC/USD:USDC-230630-13000-C', 'BTC/USD:USDC-230630-13000-P', 'BTC/USD:USDC-230630-12000-C', 'BTC/USD:USDC-230630-12000-P', 'BTC/USD:USDC-230630-11000-C', 'BTC/USD:USDC-230630-11000-P', 'BTC/USD:USDC-230630-10000-C', 'BTC/USD:USDC-230630-10000-P', 'BTC/USD:USDC-230630-8000-C', 'BTC/USD:USDC-230630-8000-P', 'BTC/USD:USDC-230630-5000-C', 'BTC/USD:USDC-230630-5000-P', 'BTC/USD:USDC-230428-38000-C', 'BTC/USD:USDC-230428-38000-P', 'BTC/USD:USDC-230428-36000-C', 'BTC/USD:USDC-230428-36000-P', 'BTC/USD:USDC-230428-34000-C', 'BTC/USD:USDC-230428-34000-P', 'BTC/USD:USDC-230428-32000-C', 'BTC/USD:USDC-230428-32000-P', 'BTC/USD:USDC-230428-31000-C', 'BTC/USD:USDC-230428-31000-P', 'BTC/USD:USDC-230428-29000-C', 'BTC/USD:USDC-230428-29000-P', 'BTC/USD:USDC-230428-28000-C', 'BTC/USD:USDC-230428-28000-P', 'BTC/USD:USDC-230428-27000-C', 'BTC/USD:USDC-230428-27000-P', 'BTC/USD:USDC-230428-26000-C', 'BTC/USD:USDC-230428-26000-P', 'BTC/USD:USDC-230428-25500-C', 'BTC/USD:USDC-230428-25500-P', 'BTC/USD:USDC-230428-25000-C', 'BTC/USD:USDC-230428-25000-P', 'BTC/USD:USDC-230428-24500-C', 'BTC/USD:USDC-230428-24500-P', 'BTC/USD:USDC-230428-24000-C', 'BTC/USD:USDC-230428-24000-P', 'BTC/USD:USDC-230428-23500-C', 'BTC/USD:USDC-230428-23500-P', 'BTC/USD:USDC-230428-23000-C', 'BTC/USD:USDC-230428-23000-P', 'BTC/USD:USDC-230428-22000-C', 'BTC/USD:USDC-230428-22000-P', 'BTC/USD:USDC-230428-21000-C', 'BTC/USD:USDC-230428-21000-P', 'BTC/USD:USDC-230428-20000-C', 'BTC/USD:USDC-230428-20000-P', 'BTC/USD:USDC-230428-18000-C', 'BTC/USD:USDC-230428-18000-P', 'BTC/USD:USDC-230428-16000-C', 'BTC/USD:USDC-230428-16000-P', 'BTC/USD:USDC-230428-14000-C', 'BTC/USD:USDC-230428-14000-P', 'BTC/USD:USDC-230331-300000-C', 'BTC/USD:USDC-230331-300000-P', 'BTC/USD:USDC-230331-250000-C', 'BTC/USD:USDC-230331-250000-P', 'BTC/USD:USDC-230331-200000-C', 'BTC/USD:USDC-230331-200000-P', 'BTC/USD:USDC-230331-150000-C', 'BTC/USD:USDC-230331-150000-P', 'BTC/USD:USDC-230331-140000-C', 'BTC/USD:USDC-230331-140000-P', 'BTC/USD:USDC-230331-120000-C', 'BTC/USD:USDC-230331-120000-P', 'BTC/USD:USDC-230331-100000-C', 'BTC/USD:USDC-230331-100000-P', 'BTC/USD:USDC-230331-80000-C', 'BTC/USD:USDC-230331-80000-P', 'BTC/USD:USDC-230331-70000-C', 'BTC/USD:USDC-230331-70000-P', 'BTC/USD:USDC-230331-65000-C', 'BTC/USD:USDC-230331-65000-P', 'BTC/USD:USDC-230331-60000-C', 'BTC/USD:USDC-230331-60000-P', 'BTC/USD:USDC-230331-55000-C', 'BTC/USD:USDC-230331-55000-P', 'BTC/USD:USDC-230331-50000-C', 'BTC/USD:USDC-230331-50000-P', 'BTC/USD:USDC-230331-45000-C', 'BTC/USD:USDC-230331-45000-P', 'BTC/USD:USDC-230331-42000-C', 'BTC/USD:USDC-230331-42000-P', 'BTC/USD:USDC-230331-40000-C', 'BTC/USD:USDC-230331-40000-P', 'BTC/USD:USDC-230331-38000-C', 'BTC/USD:USDC-230331-38000-P', 'BTC/USD:USDC-230331-36000-C', 'BTC/USD:USDC-230331-36000-P', 'BTC/USD:USDC-230331-35000-C', 'BTC/USD:USDC-230331-35000-P', 'BTC/USD:USDC-230331-34000-C', 'BTC/USD:USDC-230331-34000-P', 'BTC/USD:USDC-230331-32000-C', 'BTC/USD:USDC-230331-32000-P', 'BTC/USD:USDC-230331-30000-C', 'BTC/USD:USDC-230331-30000-P', 'BTC/USD:USDC-230331-29000-C', 'BTC/USD:USDC-230331-29000-P', 'BTC/USD:USDC-230331-28000-C', 'BTC/USD:USDC-230331-28000-P', 'BTC/USD:USDC-230331-27000-C', 'BTC/USD:USDC-230331-27000-P', 'BTC/USD:USDC-230331-26500-C', 'BTC/USD:USDC-230331-26500-P', 'BTC/USD:USDC-230331-26000-C', 'BTC/USD:USDC-230331-26000-P', 'BTC/USD:USDC-230331-25500-C', 'BTC/USD:USDC-230331-25500-P', 'BTC/USD:USDC-230331-25000-C', 'BTC/USD:USDC-230331-25000-P', 'BTC/USD:USDC-230331-24500-C', 'BTC/USD:USDC-230331-24500-P', 'BTC/USD:USDC-230331-24000-C', 'BTC/USD:USDC-230331-24000-P', 'BTC/USD:USDC-230331-23500-C', 'BTC/USD:USDC-230331-23500-P', 'BTC/USD:USDC-230331-23000-C', 'BTC/USD:USDC-230331-23000-P', 'BTC/USD:USDC-230331-22500-C', 'BTC/USD:USDC-230331-22500-P', 'BTC/USD:USDC-230331-22000-C', 'BTC/USD:USDC-230331-22000-P', 'BTC/USD:USDC-230331-21500-C', 'BTC/USD:USDC-230331-21500-P', 'BTC/USD:USDC-230331-21000-C', 'BTC/USD:USDC-230331-21000-P', 'BTC/USD:USDC-230331-20500-C', 'BTC/USD:USDC-230331-20500-P', 'BTC/USD:USDC-230331-20000-C', 'BTC/USD:USDC-230331-20000-P', 'BTC/USD:USDC-230331-19000-C', 'BTC/USD:USDC-230331-19000-P', 'BTC/USD:USDC-230331-18000-C', 'BTC/USD:USDC-230331-18000-P', 'BTC/USD:USDC-230331-17000-C', 'BTC/USD:USDC-230331-17000-P', 'BTC/USD:USDC-230331-16000-C', 'BTC/USD:USDC-230331-16000-P', 'BTC/USD:USDC-230331-15000-C', 'BTC/USD:USDC-230331-15000-P', 'BTC/USD:USDC-230331-14000-C', 'BTC/USD:USDC-230331-14000-P', 'BTC/USD:USDC-230331-13000-C', 'BTC/USD:USDC-230331-13000-P', 'BTC/USD:USDC-230331-12000-C', 'BTC/USD:USDC-230331-12000-P', 'BTC/USD:USDC-230331-11000-C', 'BTC/USD:USDC-230331-11000-P', 'BTC/USD:USDC-230331-10000-C', 'BTC/USD:USDC-230331-10000-P', 'BTC/USD:USDC-230331-8000-C', 'BTC/USD:USDC-230331-8000-P', 'BTC/USD:USDC-230331-5000-C', 'BTC/USD:USDC-230331-5000-P', 'BTC/USD:USDC-230224-40000-C', 'BTC/USD:USDC-230224-40000-P', 'BTC/USD:USDC-230224-35000-C', 'BTC/USD:USDC-230224-35000-P', 'BTC/USD:USDC-230224-34000-C', 'BTC/USD:USDC-230224-34000-P', 'BTC/USD:USDC-230224-32000-C', 'BTC/USD:USDC-230224-32000-P', 'BTC/USD:USDC-230224-30000-C', 'BTC/USD:USDC-230224-30000-P', 'BTC/USD:USDC-230224-28000-C', 'BTC/USD:USDC-230224-28000-P', 'BTC/USD:USDC-230224-26000-C', 'BTC/USD:USDC-230224-26000-P', 'BTC/USD:USDC-230224-25000-C', 'BTC/USD:USDC-230224-25000-P', 'BTC/USD:USDC-230224-24000-C', 'BTC/USD:USDC-230224-24000-P', 'BTC/USD:USDC-230224-23500-C', 'BTC/USD:USDC-230224-23500-P', 'BTC/USD:USDC-230224-23000-C', 'BTC/USD:USDC-230224-23000-P', 'BTC/USD:USDC-230224-22500-C', 'BTC/USD:USDC-230224-22500-P', 'BTC/USD:USDC-230224-22000-C', 'BTC/USD:USDC-230224-22000-P', 'BTC/USD:USDC-230224-21500-C', 'BTC/USD:USDC-230224-21500-P', 'BTC/USD:USDC-230224-21000-C', 'BTC/USD:USDC-230224-21000-P', 'BTC/USD:USDC-230224-20500-C', 'BTC/USD:USDC-230224-20500-P', 'BTC/USD:USDC-230224-20000-C', 'BTC/USD:USDC-230224-20000-P', 'BTC/USD:USDC-230224-19500-C', 'BTC/USD:USDC-230224-19500-P', 'BTC/USD:USDC-230224-19000-C', 'BTC/USD:USDC-230224-19000-P', 'BTC/USD:USDC-230224-18500-C', 'BTC/USD:USDC-230224-18500-P', 'BTC/USD:USDC-230224-18000-C', 'BTC/USD:USDC-230224-18000-P', 'BTC/USD:USDC-230224-17500-C', 'BTC/USD:USDC-230224-17500-P', 'BTC/USD:USDC-230224-17000-C', 'BTC/USD:USDC-230224-17000-P', 'BTC/USD:USDC-230224-16500-C', 'BTC/USD:USDC-230224-16500-P', 'BTC/USD:USDC-230224-16000-C', 'BTC/USD:USDC-230224-16000-P', 'BTC/USD:USDC-230224-15000-C', 'BTC/USD:USDC-230224-15000-P', 'BTC/USD:USDC-230224-14000-C', 'BTC/USD:USDC-230224-14000-P', 'BTC/USD:USDC-230224-13000-C', 'BTC/USD:USDC-230224-13000-P', 'BTC/USD:USDC-230224-12000-C', 'BTC/USD:USDC-230224-12000-P', 'BTC/USD:USDC-230224-10000-C', 'BTC/USD:USDC-230224-10000-P', 'BTC/USD:USDC-230224-8000-C', 'BTC/USD:USDC-230224-8000-P', 'BTC/USD:USDC-230224-6000-C', 'BTC/USD:USDC-230224-6000-P', 'BTC/USD:USDC-230224-5000-C', 'BTC/USD:USDC-230224-5000-P', 'BTC/USD:USDC-230217-38000-C', 'BTC/USD:USDC-230217-38000-P', 'BTC/USD:USDC-230217-37000-C', 'BTC/USD:USDC-230217-37000-P', 'BTC/USD:USDC-230217-36000-C', 'BTC/USD:USDC-230217-36000-P', 'BTC/USD:USDC-230217-35000-C', 'BTC/USD:USDC-230217-35000-P', 'BTC/USD:USDC-230217-34000-C', 'BTC/USD:USDC-230217-34000-P', 'BTC/USD:USDC-230217-33000-C', 'BTC/USD:USDC-230217-33000-P', 'BTC/USD:USDC-230217-32000-C', 'BTC/USD:USDC-230217-32000-P', 'BTC/USD:USDC-230217-31000-C', 'BTC/USD:USDC-230217-31000-P', 'BTC/USD:USDC-230217-30000-C', 'BTC/USD:USDC-230217-30000-P', 'BTC/USD:USDC-230217-29000-C', 'BTC/USD:USDC-230217-29000-P', 'BTC/USD:USDC-230217-28000-C', 'BTC/USD:USDC-230217-28000-P', 'BTC/USD:USDC-230217-27000-C', 'BTC/USD:USDC-230217-27000-P', 'BTC/USD:USDC-230217-26000-C', 'BTC/USD:USDC-230217-26000-P', 'BTC/USD:USDC-230217-25000-C', 'BTC/USD:USDC-230217-25000-P', 'BTC/USD:USDC-230217-24500-C', 'BTC/USD:USDC-230217-24500-P', 'BTC/USD:USDC-230217-24000-C', 'BTC/USD:USDC-230217-24000-P', 'BTC/USD:USDC-230217-23500-C', 'BTC/USD:USDC-230217-23500-P', 'BTC/USD:USDC-230217-23000-C', 'BTC/USD:USDC-230217-23000-P', 'BTC/USD:USDC-230217-22500-C', 'BTC/USD:USDC-230217-22500-P', 'BTC/USD:USDC-230217-22000-C', 'BTC/USD:USDC-230217-22000-P', 'BTC/USD:USDC-230217-21500-C', 'BTC/USD:USDC-230217-21500-P', 'BTC/USD:USDC-230217-21000-C', 'BTC/USD:USDC-230217-21000-P', 'BTC/USD:USDC-230217-20500-C', 'BTC/USD:USDC-230217-20500-P', 'BTC/USD:USDC-230217-20000-C', 'BTC/USD:USDC-230217-20000-P', 'BTC/USD:USDC-230217-19500-C', 'BTC/USD:USDC-230217-19500-P', 'BTC/USD:USDC-230217-19000-C', 'BTC/USD:USDC-230217-19000-P', 'BTC/USD:USDC-230217-18000-C', 'BTC/USD:USDC-230217-18000-P', 'BTC/USD:USDC-230217-17000-C', 'BTC/USD:USDC-230217-17000-P', 'BTC/USD:USDC-230217-16000-C', 'BTC/USD:USDC-230217-16000-P', 'BTC/USD:USDC-230217-15000-C', 'BTC/USD:USDC-230217-15000-P', 'BTC/USD:USDC-230217-14000-C', 'BTC/USD:USDC-230217-14000-P', 'BTC/USD:USDC-230217-13000-C', 'BTC/USD:USDC-230217-13000-P', 'BTC/USD:USDC-230217-12000-C', 'BTC/USD:USDC-230217-12000-P', 'BTC/USD:USDC-230210-38000-C', 'BTC/USD:USDC-230210-38000-P', 'BTC/USD:USDC-230210-37000-C', 'BTC/USD:USDC-230210-37000-P', 'BTC/USD:USDC-230210-36000-C', 'BTC/USD:USDC-230210-36000-P', 'BTC/USD:USDC-230210-35000-C', 'BTC/USD:USDC-230210-35000-P', 'BTC/USD:USDC-230210-34000-C', 'BTC/USD:USDC-230210-34000-P', 'BTC/USD:USDC-230210-33000-C', 'BTC/USD:USDC-230210-33000-P', 'BTC/USD:USDC-230210-32000-C', 'BTC/USD:USDC-230210-32000-P', 'BTC/USD:USDC-230210-31000-C', 'BTC/USD:USDC-230210-31000-P', 'BTC/USD:USDC-230210-30000-C', 'BTC/USD:USDC-230210-30000-P', 'BTC/USD:USDC-230210-29000-C', 'BTC/USD:USDC-230210-29000-P', 'BTC/USD:USDC-230210-28000-C', 'BTC/USD:USDC-230210-28000-P', 'BTC/USD:USDC-230210-27000-C', 'BTC/USD:USDC-230210-27000-P', 'BTC/USD:USDC-230210-26000-C', 'BTC/USD:USDC-230210-26000-P', 'BTC/USD:USDC-230210-25000-C', 'BTC/USD:USDC-230210-25000-P', 'BTC/USD:USDC-230210-24500-C', 'BTC/USD:USDC-230210-24500-P', 'BTC/USD:USDC-230210-24000-C', 'BTC/USD:USDC-230210-24000-P', 'BTC/USD:USDC-230210-23500-C', 'BTC/USD:USDC-230210-23500-P', 'BTC/USD:USDC-230210-23000-C', 'BTC/USD:USDC-230210-23000-P', 'BTC/USD:USDC-230210-22500-C', 'BTC/USD:USDC-230210-22500-P', 'BTC/USD:USDC-230210-22000-C', 'BTC/USD:USDC-230210-22000-P', 'BTC/USD:USDC-230210-21500-C', 'BTC/USD:USDC-230210-21500-P', 'BTC/USD:USDC-230210-21000-C', 'BTC/USD:USDC-230210-21000-P', 'BTC/USD:USDC-230210-20500-C', 'BTC/USD:USDC-230210-20500-P', 'BTC/USD:USDC-230210-20000-C', 'BTC/USD:USDC-230210-20000-P', 'BTC/USD:USDC-230210-19500-C', 'BTC/USD:USDC-230210-19500-P', 'BTC/USD:USDC-230210-19000-C', 'BTC/USD:USDC-230210-19000-P', 'BTC/USD:USDC-230210-18500-C', 'BTC/USD:USDC-230210-18500-P', 'BTC/USD:USDC-230210-18000-C', 'BTC/USD:USDC-230210-18000-P', 'BTC/USD:USDC-230210-17500-C', 'BTC/USD:USDC-230210-17500-P', 'BTC/USD:USDC-230210-17000-C', 'BTC/USD:USDC-230210-17000-P', 'BTC/USD:USDC-230210-16000-C', 'BTC/USD:USDC-230210-16000-P', 'BTC/USD:USDC-230210-15000-C', 'BTC/USD:USDC-230210-15000-P', 'BTC/USD:USDC-230210-14000-C', 'BTC/USD:USDC-230210-14000-P', 'BTC/USD:USDC-230210-13000-C', 'BTC/USD:USDC-230210-13000-P', 'BTC/USD:USDC-230210-12000-C', 'BTC/USD:USDC-230210-12000-P', 'BTC/USD:USDC-230210-11000-C', 'BTC/USD:USDC-230210-11000-P', 'BTC/USD:USDC-230205-28000-C', 'BTC/USD:USDC-230205-28000-P', 'BTC/USD:USDC-230205-27000-C', 'BTC/USD:USDC-230205-27000-P', 'BTC/USD:USDC-230205-26000-C', 'BTC/USD:USDC-230205-26000-P', 'BTC/USD:USDC-230205-25000-C', 'BTC/USD:USDC-230205-25000-P', 'BTC/USD:USDC-230205-24250-C', 'BTC/USD:USDC-230205-24250-P', 'BTC/USD:USDC-230205-24000-C', 'BTC/USD:USDC-230205-24000-P', 'BTC/USD:USDC-230205-23750-C', 'BTC/USD:USDC-230205-23750-P', 'BTC/USD:USDC-230205-23500-C', 'BTC/USD:USDC-230205-23500-P', 'BTC/USD:USDC-230205-23250-C', 'BTC/USD:USDC-230205-23250-P', 'BTC/USD:USDC-230205-23000-C', 'BTC/USD:USDC-230205-23000-P', 'BTC/USD:USDC-230205-22750-C', 'BTC/USD:USDC-230205-22750-P', 'BTC/USD:USDC-230205-22500-C', 'BTC/USD:USDC-230205-22500-P', 'BTC/USD:USDC-230205-22250-C', 'BTC/USD:USDC-230205-22250-P', 'BTC/USD:USDC-230204-25500-C', 'BTC/USD:USDC-230204-25500-P', 'BTC/USD:USDC-230204-25250-C', 'BTC/USD:USDC-230204-25250-P', 'BTC/USD:USDC-230204-25000-C', 'BTC/USD:USDC-230204-25000-P', 'BTC/USD:USDC-230204-24750-C', 'BTC/USD:USDC-230204-24750-P', 'BTC/USD:USDC-230204-24500-C', 'BTC/USD:USDC-230204-24500-P', 'BTC/USD:USDC-230204-24250-C', 'BTC/USD:USDC-230204-24250-P', 'BTC/USD:USDC-230204-24000-C', 'BTC/USD:USDC-230204-24000-P', 'BTC/USD:USDC-230204-23750-C', 'BTC/USD:USDC-230204-23750-P', 'BTC/USD:USDC-230204-23500-C', 'BTC/USD:USDC-230204-23500-P', 'BTC/USD:USDC-230204-23250-C', 'BTC/USD:USDC-230204-23250-P', 'BTC/USD:USDC-230204-23000-C', 'BTC/USD:USDC-230204-23000-P', 'BTC/USD:USDC-230204-22750-C', 'BTC/USD:USDC-230204-22750-P', 'BTC/USD:USDC-230204-22500-C', 'BTC/USD:USDC-230204-22500-P', 'BTC/USD:USDC-230204-22250-C', 'BTC/USD:USDC-230204-22250-P', 'BTC/USD:USDC-230203-35000-C', 'BTC/USD:USDC-230203-35000-P', 'BTC/USD:USDC-230203-34000-C', 'BTC/USD:USDC-230203-34000-P', 'BTC/USD:USDC-230203-33000-C', 'BTC/USD:USDC-230203-33000-P', 'BTC/USD:USDC-230203-32000-C', 'BTC/USD:USDC-230203-32000-P', 'BTC/USD:USDC-230203-31000-C', 'BTC/USD:USDC-230203-31000-P', 'BTC/USD:USDC-230203-30000-C', 'BTC/USD:USDC-230203-30000-P', 'BTC/USD:USDC-230203-29000-C', 'BTC/USD:USDC-230203-29000-P', 'BTC/USD:USDC-230203-28000-C', 'BTC/USD:USDC-230203-28000-P', 'BTC/USD:USDC-230203-27000-C', 'BTC/USD:USDC-230203-27000-P', 'BTC/USD:USDC-230203-26000-C', 'BTC/USD:USDC-230203-26000-P', 'BTC/USD:USDC-230203-25000-C', 'BTC/USD:USDC-230203-25000-P', 'BTC/USD:USDC-230203-24750-C', 'BTC/USD:USDC-230203-24750-P', 'BTC/USD:USDC-230203-24500-C', 'BTC/USD:USDC-230203-24500-P', 'BTC/USD:USDC-230203-24250-C', 'BTC/USD:USDC-230203-24250-P', 'BTC/USD:USDC-230203-24000-C', 'BTC/USD:USDC-230203-24000-P', 'BTC/USD:USDC-230203-23750-C', 'BTC/USD:USDC-230203-23750-P', 'BTC/USD:USDC-230203-23500-C', 'BTC/USD:USDC-230203-23500-P', 'BTC/USD:USDC-230203-23250-C', 'BTC/USD:USDC-230203-23250-P', 'BTC/USD:USDC', 'ETC/USD:USDC', 'MATIC/USD:USDC', 'OP/USD:USDC', 'ETH/USD:USDC', 'GMT/USD:USDC', 'ADA/USD:USDC', 'AVAX/USD:USDC', 'SOL/USD:USDC', 'XRP/USD:USDC', 'SAND/USD:USDC', 'APE/USD:USDC', 'SWEAT/USD:USDC', 'ATOM/USD:USDC', 'EOS/USD:USDC', 'CHZ/USD:USDC', 'NEAR/USD:USDC', 'BNB/USD:USDC', 'LDO/USD:USDC', 'LUNA/USD:USDC', 'APT/USD:USDC']'\nCurrency pair is not present in exchange\n################################################################################\n"
     ]
    }
   ],
   "source": [
    "# currency_pair = \"BTC_USDT\"\n",
    "# currency_pair_for_download = extractor.convert_currency_pair(currency_pair)\n",
    "start_timestamp = pd.Timestamp(\"2023-01-01 00:00:00\")\n",
    "end_timestamp = pd.Timestamp(\"2023-01-01 01:00:00\")\n",
    "currency_pair_for_download = \"BTC_USDT\"\n",
    "bid_ask_depth = 10\n",
    "data_type = \"bid_ask\"\n",
    "data = extractor.download_data(\n",
    "    data_type,\n",
    "    exchange_id,\n",
    "    currency_pair_for_download,\n",
    "    start_timestamp=start_timestamp,\n",
    "    end_timestamp=end_timestamp,\n",
    "    depth=bid_ask_depth,\n",
    ")\n",
    "data"
   ]
  },
  {
   "cell_type": "code",
   "execution_count": 13,
   "id": "93e17a9d",
   "metadata": {
    "ExecuteTime": {
     "end_time": "2023-02-03T20:45:46.362646Z",
     "start_time": "2023-02-03T20:45:46.346379Z"
    }
   },
   "outputs": [],
   "source": [
    "bybit_exchange = ccxt.bybit()"
   ]
  },
  {
   "cell_type": "code",
   "execution_count": 14,
   "id": "996f5ba7",
   "metadata": {
    "ExecuteTime": {
     "end_time": "2023-02-03T20:45:48.645773Z",
     "start_time": "2023-02-03T20:45:47.935947Z"
    }
   },
   "outputs": [
    {
     "data": {
      "text/html": [
       "<div>\n",
       "<style scoped>\n",
       "    .dataframe tbody tr th:only-of-type {\n",
       "        vertical-align: middle;\n",
       "    }\n",
       "\n",
       "    .dataframe tbody tr th {\n",
       "        vertical-align: top;\n",
       "    }\n",
       "\n",
       "    .dataframe thead th {\n",
       "        text-align: right;\n",
       "    }\n",
       "</style>\n",
       "<table border=\"1\" class=\"dataframe\">\n",
       "  <thead>\n",
       "    <tr style=\"text-align: right;\">\n",
       "      <th></th>\n",
       "      <th>0</th>\n",
       "    </tr>\n",
       "  </thead>\n",
       "  <tbody>\n",
       "    <tr>\n",
       "      <th>0</th>\n",
       "      <td>10000NFT/USDT:USDT</td>\n",
       "    </tr>\n",
       "    <tr>\n",
       "      <th>1</th>\n",
       "      <td>1000BONK/USDT:USDT</td>\n",
       "    </tr>\n",
       "    <tr>\n",
       "      <th>2</th>\n",
       "      <td>1000BTT/USDT:USDT</td>\n",
       "    </tr>\n",
       "    <tr>\n",
       "      <th>3</th>\n",
       "      <td>1000LUNC/USDT:USDT</td>\n",
       "    </tr>\n",
       "    <tr>\n",
       "      <th>4</th>\n",
       "      <td>1000XEC/USDT:USDT</td>\n",
       "    </tr>\n",
       "  </tbody>\n",
       "</table>\n",
       "</div>"
      ],
      "text/plain": [
       "                    0\n",
       "0  10000NFT/USDT:USDT\n",
       "1  1000BONK/USDT:USDT\n",
       "2   1000BTT/USDT:USDT\n",
       "3  1000LUNC/USDT:USDT\n",
       "4   1000XEC/USDT:USDT"
      ]
     },
     "execution_count": 14,
     "metadata": {},
     "output_type": "execute_result"
    }
   ],
   "source": [
    "pd.DataFrame(bybit_exchange.load_markets().keys()).head()"
   ]
  },
  {
   "cell_type": "code",
   "execution_count": 15,
   "id": "2565783e",
   "metadata": {
    "ExecuteTime": {
     "end_time": "2023-02-03T20:45:49.347623Z",
     "start_time": "2023-02-03T20:45:49.140593Z"
    }
   },
   "outputs": [
    {
     "data": {
      "text/html": [
       "<div>\n",
       "<style scoped>\n",
       "    .dataframe tbody tr th:only-of-type {\n",
       "        vertical-align: middle;\n",
       "    }\n",
       "\n",
       "    .dataframe tbody tr th {\n",
       "        vertical-align: top;\n",
       "    }\n",
       "\n",
       "    .dataframe thead th {\n",
       "        text-align: right;\n",
       "    }\n",
       "</style>\n",
       "<table border=\"1\" class=\"dataframe\">\n",
       "  <thead>\n",
       "    <tr style=\"text-align: right;\">\n",
       "      <th></th>\n",
       "      <th>symbol</th>\n",
       "      <th>bids</th>\n",
       "      <th>asks</th>\n",
       "      <th>timestamp</th>\n",
       "      <th>datetime</th>\n",
       "      <th>nonce</th>\n",
       "    </tr>\n",
       "  </thead>\n",
       "  <tbody>\n",
       "    <tr>\n",
       "      <th>0</th>\n",
       "      <td>BTC/USDT:USDT</td>\n",
       "      <td>[23352.5, 19.115]</td>\n",
       "      <td>[23353.0, 17.648]</td>\n",
       "      <td>1675457149234</td>\n",
       "      <td>2023-02-03T20:45:49.234Z</td>\n",
       "      <td>None</td>\n",
       "    </tr>\n",
       "    <tr>\n",
       "      <th>1</th>\n",
       "      <td>BTC/USDT:USDT</td>\n",
       "      <td>[23352.0, 0.002]</td>\n",
       "      <td>[23353.5, 0.005]</td>\n",
       "      <td>1675457149234</td>\n",
       "      <td>2023-02-03T20:45:49.234Z</td>\n",
       "      <td>None</td>\n",
       "    </tr>\n",
       "    <tr>\n",
       "      <th>2</th>\n",
       "      <td>BTC/USDT:USDT</td>\n",
       "      <td>[23351.5, 2.58]</td>\n",
       "      <td>[23354.0, 1.795]</td>\n",
       "      <td>1675457149234</td>\n",
       "      <td>2023-02-03T20:45:49.234Z</td>\n",
       "      <td>None</td>\n",
       "    </tr>\n",
       "    <tr>\n",
       "      <th>3</th>\n",
       "      <td>BTC/USDT:USDT</td>\n",
       "      <td>[23351.0, 0.073]</td>\n",
       "      <td>[23354.5, 0.477]</td>\n",
       "      <td>1675457149234</td>\n",
       "      <td>2023-02-03T20:45:49.234Z</td>\n",
       "      <td>None</td>\n",
       "    </tr>\n",
       "    <tr>\n",
       "      <th>4</th>\n",
       "      <td>BTC/USDT:USDT</td>\n",
       "      <td>[23350.5, 3.651]</td>\n",
       "      <td>[23355.0, 0.006]</td>\n",
       "      <td>1675457149234</td>\n",
       "      <td>2023-02-03T20:45:49.234Z</td>\n",
       "      <td>None</td>\n",
       "    </tr>\n",
       "  </tbody>\n",
       "</table>\n",
       "</div>"
      ],
      "text/plain": [
       "          symbol               bids               asks      timestamp  \\\n",
       "0  BTC/USDT:USDT  [23352.5, 19.115]  [23353.0, 17.648]  1675457149234   \n",
       "1  BTC/USDT:USDT   [23352.0, 0.002]   [23353.5, 0.005]  1675457149234   \n",
       "2  BTC/USDT:USDT    [23351.5, 2.58]   [23354.0, 1.795]  1675457149234   \n",
       "3  BTC/USDT:USDT   [23351.0, 0.073]   [23354.5, 0.477]  1675457149234   \n",
       "4  BTC/USDT:USDT   [23350.5, 3.651]   [23355.0, 0.006]  1675457149234   \n",
       "\n",
       "                   datetime nonce  \n",
       "0  2023-02-03T20:45:49.234Z  None  \n",
       "1  2023-02-03T20:45:49.234Z  None  \n",
       "2  2023-02-03T20:45:49.234Z  None  \n",
       "3  2023-02-03T20:45:49.234Z  None  \n",
       "4  2023-02-03T20:45:49.234Z  None  "
      ]
     },
     "execution_count": 15,
     "metadata": {},
     "output_type": "execute_result"
    }
   ],
   "source": [
    "currency_pair = \"BTC/USDT:USDT\"\n",
    "pd.DataFrame(bybit_exchange.fetch_order_book(currency_pair)).head()"
   ]
  },
  {
   "cell_type": "markdown",
   "id": "fbdf7a06",
   "metadata": {},
   "source": [
    "### bybit REST spot OHLCV"
   ]
  },
  {
   "cell_type": "code",
   "execution_count": 16,
   "id": "aa0ed021",
   "metadata": {
    "ExecuteTime": {
     "end_time": "2023-02-03T20:45:52.425247Z",
     "start_time": "2023-02-03T20:45:52.211244Z"
    }
   },
   "outputs": [
    {
     "data": {
      "text/html": [
       "<div>\n",
       "<style scoped>\n",
       "    .dataframe tbody tr th:only-of-type {\n",
       "        vertical-align: middle;\n",
       "    }\n",
       "\n",
       "    .dataframe tbody tr th {\n",
       "        vertical-align: top;\n",
       "    }\n",
       "\n",
       "    .dataframe thead th {\n",
       "        text-align: right;\n",
       "    }\n",
       "</style>\n",
       "<table border=\"1\" class=\"dataframe\">\n",
       "  <thead>\n",
       "    <tr style=\"text-align: right;\">\n",
       "      <th></th>\n",
       "      <th>0</th>\n",
       "      <th>1</th>\n",
       "      <th>2</th>\n",
       "      <th>3</th>\n",
       "      <th>4</th>\n",
       "      <th>5</th>\n",
       "    </tr>\n",
       "  </thead>\n",
       "  <tbody>\n",
       "    <tr>\n",
       "      <th>0</th>\n",
       "      <td>1675445160000</td>\n",
       "      <td>23572.5</td>\n",
       "      <td>23572.5</td>\n",
       "      <td>23560.5</td>\n",
       "      <td>23562.0</td>\n",
       "      <td>28.671</td>\n",
       "    </tr>\n",
       "    <tr>\n",
       "      <th>1</th>\n",
       "      <td>1675445220000</td>\n",
       "      <td>23562.0</td>\n",
       "      <td>23576.0</td>\n",
       "      <td>23562.0</td>\n",
       "      <td>23576.0</td>\n",
       "      <td>15.605</td>\n",
       "    </tr>\n",
       "    <tr>\n",
       "      <th>2</th>\n",
       "      <td>1675445280000</td>\n",
       "      <td>23576.0</td>\n",
       "      <td>23579.5</td>\n",
       "      <td>23571.0</td>\n",
       "      <td>23571.0</td>\n",
       "      <td>32.456</td>\n",
       "    </tr>\n",
       "    <tr>\n",
       "      <th>3</th>\n",
       "      <td>1675445340000</td>\n",
       "      <td>23571.0</td>\n",
       "      <td>23575.5</td>\n",
       "      <td>23563.0</td>\n",
       "      <td>23572.0</td>\n",
       "      <td>21.456</td>\n",
       "    </tr>\n",
       "    <tr>\n",
       "      <th>4</th>\n",
       "      <td>1675445400000</td>\n",
       "      <td>23572.0</td>\n",
       "      <td>23575.5</td>\n",
       "      <td>23571.5</td>\n",
       "      <td>23574.0</td>\n",
       "      <td>5.619</td>\n",
       "    </tr>\n",
       "  </tbody>\n",
       "</table>\n",
       "</div>"
      ],
      "text/plain": [
       "               0        1        2        3        4       5\n",
       "0  1675445160000  23572.5  23572.5  23560.5  23562.0  28.671\n",
       "1  1675445220000  23562.0  23576.0  23562.0  23576.0  15.605\n",
       "2  1675445280000  23576.0  23579.5  23571.0  23571.0  32.456\n",
       "3  1675445340000  23571.0  23575.5  23563.0  23572.0  21.456\n",
       "4  1675445400000  23572.0  23575.5  23571.5  23574.0   5.619"
      ]
     },
     "execution_count": 16,
     "metadata": {},
     "output_type": "execute_result"
    }
   ],
   "source": [
    "pd.DataFrame(bybit_exchange.fetch_ohlcv(currency_pair)).head()"
   ]
  },
  {
   "cell_type": "markdown",
   "id": "bfc14f92",
   "metadata": {},
   "source": [
    "### bybit REST spot Trades"
   ]
  },
  {
   "cell_type": "code",
   "execution_count": 17,
   "id": "baeb9c8e",
   "metadata": {
    "ExecuteTime": {
     "end_time": "2023-02-03T20:45:54.082957Z",
     "start_time": "2023-02-03T20:45:54.076957Z"
    }
   },
   "outputs": [
    {
     "data": {
      "text/plain": [
       "True"
      ]
     },
     "execution_count": 17,
     "metadata": {},
     "output_type": "execute_result"
    }
   ],
   "source": [
    "bybit_exchange.has[\"fetchTrades\"]"
   ]
  },
  {
   "cell_type": "code",
   "execution_count": 18,
   "id": "c7695576",
   "metadata": {
    "ExecuteTime": {
     "end_time": "2023-02-03T20:45:55.154508Z",
     "start_time": "2023-02-03T20:45:54.910232Z"
    }
   },
   "outputs": [
    {
     "data": {
      "text/html": [
       "<div>\n",
       "<style scoped>\n",
       "    .dataframe tbody tr th:only-of-type {\n",
       "        vertical-align: middle;\n",
       "    }\n",
       "\n",
       "    .dataframe tbody tr th {\n",
       "        vertical-align: top;\n",
       "    }\n",
       "\n",
       "    .dataframe thead th {\n",
       "        text-align: right;\n",
       "    }\n",
       "</style>\n",
       "<table border=\"1\" class=\"dataframe\">\n",
       "  <thead>\n",
       "    <tr style=\"text-align: right;\">\n",
       "      <th></th>\n",
       "      <th>id</th>\n",
       "      <th>info</th>\n",
       "      <th>timestamp</th>\n",
       "      <th>datetime</th>\n",
       "      <th>symbol</th>\n",
       "      <th>order</th>\n",
       "      <th>type</th>\n",
       "      <th>side</th>\n",
       "      <th>takerOrMaker</th>\n",
       "      <th>price</th>\n",
       "      <th>amount</th>\n",
       "      <th>cost</th>\n",
       "      <th>fee</th>\n",
       "      <th>fees</th>\n",
       "    </tr>\n",
       "  </thead>\n",
       "  <tbody>\n",
       "    <tr>\n",
       "      <th>0</th>\n",
       "      <td>459865971712</td>\n",
       "      <td>{'id': '459865971712', 'symbol': 'BTCUSDT', 'p...</td>\n",
       "      <td>1675457121062</td>\n",
       "      <td>2023-02-03T20:45:21.062Z</td>\n",
       "      <td>BTC/USDT:USDT</td>\n",
       "      <td>None</td>\n",
       "      <td>None</td>\n",
       "      <td>sell</td>\n",
       "      <td>taker</td>\n",
       "      <td>23376.5</td>\n",
       "      <td>0.001</td>\n",
       "      <td>23.3765</td>\n",
       "      <td>None</td>\n",
       "      <td>[]</td>\n",
       "    </tr>\n",
       "    <tr>\n",
       "      <th>1</th>\n",
       "      <td>459865972736</td>\n",
       "      <td>{'id': '459865972736', 'symbol': 'BTCUSDT', 'p...</td>\n",
       "      <td>1675457121083</td>\n",
       "      <td>2023-02-03T20:45:21.083Z</td>\n",
       "      <td>BTC/USDT:USDT</td>\n",
       "      <td>None</td>\n",
       "      <td>None</td>\n",
       "      <td>buy</td>\n",
       "      <td>taker</td>\n",
       "      <td>23377.0</td>\n",
       "      <td>0.001</td>\n",
       "      <td>23.3770</td>\n",
       "      <td>None</td>\n",
       "      <td>[]</td>\n",
       "    </tr>\n",
       "    <tr>\n",
       "      <th>2</th>\n",
       "      <td>459865973760</td>\n",
       "      <td>{'id': '459865973760', 'symbol': 'BTCUSDT', 'p...</td>\n",
       "      <td>1675457121114</td>\n",
       "      <td>2023-02-03T20:45:21.114Z</td>\n",
       "      <td>BTC/USDT:USDT</td>\n",
       "      <td>None</td>\n",
       "      <td>None</td>\n",
       "      <td>sell</td>\n",
       "      <td>taker</td>\n",
       "      <td>23377.0</td>\n",
       "      <td>0.001</td>\n",
       "      <td>23.3770</td>\n",
       "      <td>None</td>\n",
       "      <td>[]</td>\n",
       "    </tr>\n",
       "    <tr>\n",
       "      <th>3</th>\n",
       "      <td>459865974784</td>\n",
       "      <td>{'id': '459865974784', 'symbol': 'BTCUSDT', 'p...</td>\n",
       "      <td>1675457121138</td>\n",
       "      <td>2023-02-03T20:45:21.138Z</td>\n",
       "      <td>BTC/USDT:USDT</td>\n",
       "      <td>None</td>\n",
       "      <td>None</td>\n",
       "      <td>sell</td>\n",
       "      <td>taker</td>\n",
       "      <td>23377.0</td>\n",
       "      <td>0.001</td>\n",
       "      <td>23.3770</td>\n",
       "      <td>None</td>\n",
       "      <td>[]</td>\n",
       "    </tr>\n",
       "    <tr>\n",
       "      <th>4</th>\n",
       "      <td>459865975808</td>\n",
       "      <td>{'id': '459865975808', 'symbol': 'BTCUSDT', 'p...</td>\n",
       "      <td>1675457122689</td>\n",
       "      <td>2023-02-03T20:45:22.689Z</td>\n",
       "      <td>BTC/USDT:USDT</td>\n",
       "      <td>None</td>\n",
       "      <td>None</td>\n",
       "      <td>buy</td>\n",
       "      <td>taker</td>\n",
       "      <td>23377.5</td>\n",
       "      <td>0.001</td>\n",
       "      <td>23.3775</td>\n",
       "      <td>None</td>\n",
       "      <td>[]</td>\n",
       "    </tr>\n",
       "  </tbody>\n",
       "</table>\n",
       "</div>"
      ],
      "text/plain": [
       "             id                                               info  \\\n",
       "0  459865971712  {'id': '459865971712', 'symbol': 'BTCUSDT', 'p...   \n",
       "1  459865972736  {'id': '459865972736', 'symbol': 'BTCUSDT', 'p...   \n",
       "2  459865973760  {'id': '459865973760', 'symbol': 'BTCUSDT', 'p...   \n",
       "3  459865974784  {'id': '459865974784', 'symbol': 'BTCUSDT', 'p...   \n",
       "4  459865975808  {'id': '459865975808', 'symbol': 'BTCUSDT', 'p...   \n",
       "\n",
       "       timestamp                  datetime         symbol order  type  side  \\\n",
       "0  1675457121062  2023-02-03T20:45:21.062Z  BTC/USDT:USDT  None  None  sell   \n",
       "1  1675457121083  2023-02-03T20:45:21.083Z  BTC/USDT:USDT  None  None   buy   \n",
       "2  1675457121114  2023-02-03T20:45:21.114Z  BTC/USDT:USDT  None  None  sell   \n",
       "3  1675457121138  2023-02-03T20:45:21.138Z  BTC/USDT:USDT  None  None  sell   \n",
       "4  1675457122689  2023-02-03T20:45:22.689Z  BTC/USDT:USDT  None  None   buy   \n",
       "\n",
       "  takerOrMaker    price  amount     cost   fee fees  \n",
       "0        taker  23376.5   0.001  23.3765  None   []  \n",
       "1        taker  23377.0   0.001  23.3770  None   []  \n",
       "2        taker  23377.0   0.001  23.3770  None   []  \n",
       "3        taker  23377.0   0.001  23.3770  None   []  \n",
       "4        taker  23377.5   0.001  23.3775  None   []  "
      ]
     },
     "execution_count": 18,
     "metadata": {},
     "output_type": "execute_result"
    }
   ],
   "source": [
    "pd.DataFrame(bybit_exchange.fetch_trades(currency_pair)).head()"
   ]
  },
  {
   "cell_type": "markdown",
   "id": "f5444445",
   "metadata": {},
   "source": [
    "## bybit REST Futures"
   ]
  },
  {
   "cell_type": "code",
   "execution_count": 19,
   "id": "2db5990d",
   "metadata": {
    "ExecuteTime": {
     "end_time": "2023-02-03T20:45:56.360603Z",
     "start_time": "2023-02-03T20:45:56.355797Z"
    }
   },
   "outputs": [
    {
     "data": {
      "text/plain": [
       "['future']"
      ]
     },
     "execution_count": 19,
     "metadata": {},
     "output_type": "execute_result"
    }
   ],
   "source": [
    "[key for key in bybit_exchange.has if \"futur\" in key.lower()]"
   ]
  },
  {
   "cell_type": "code",
   "execution_count": 20,
   "id": "50930a2b",
   "metadata": {
    "ExecuteTime": {
     "end_time": "2023-02-03T20:45:56.994671Z",
     "start_time": "2023-02-03T20:45:56.990827Z"
    },
    "lines_to_next_cell": 2
   },
   "outputs": [
    {
     "data": {
      "text/plain": [
       "True"
      ]
     },
     "execution_count": 20,
     "metadata": {},
     "output_type": "execute_result"
    }
   ],
   "source": [
    "bybit_exchange.has[\"future\"]"
   ]
  },
  {
   "cell_type": "markdown",
   "id": "c4e887bf",
   "metadata": {},
   "source": [
    "### bybit REST Futures Bid Ask"
   ]
  },
  {
   "cell_type": "code",
   "execution_count": 21,
   "id": "2b2b4c33",
   "metadata": {
    "ExecuteTime": {
     "end_time": "2023-02-03T20:45:58.127712Z",
     "start_time": "2023-02-03T20:45:58.122427Z"
    }
   },
   "outputs": [
    {
     "name": "stdout",
     "output_type": "stream",
     "text": [
      "Help on method fetch_order_book in module ccxt.bybit:\n",
      "\n",
      "fetch_order_book(symbol, limit=None, params={}) method of ccxt.bybit.bybit instance\n",
      "    fetches information on open orders with bid(buy) and ask(sell) prices, volumes and other data\n",
      "    :param str symbol: unified symbol of the market to fetch the order book for\n",
      "    :param int|None limit: the maximum amount of order book entries to return\n",
      "    :param dict params: extra parameters specific to the bybit api endpoint\n",
      "    :returns dict: A dictionary of `order book structures <https://docs.ccxt.com/en/latest/manual.html#order-book-structure>` indexed by market symbols\n",
      "\n"
     ]
    }
   ],
   "source": [
    "help(bybit_exchange.fetch_order_book)"
   ]
  },
  {
   "cell_type": "code",
   "execution_count": 22,
   "id": "ccde3e25",
   "metadata": {
    "ExecuteTime": {
     "end_time": "2023-02-03T20:45:59.056734Z",
     "start_time": "2023-02-03T20:45:58.850807Z"
    }
   },
   "outputs": [
    {
     "data": {
      "text/html": [
       "<div>\n",
       "<style scoped>\n",
       "    .dataframe tbody tr th:only-of-type {\n",
       "        vertical-align: middle;\n",
       "    }\n",
       "\n",
       "    .dataframe tbody tr th {\n",
       "        vertical-align: top;\n",
       "    }\n",
       "\n",
       "    .dataframe thead th {\n",
       "        text-align: right;\n",
       "    }\n",
       "</style>\n",
       "<table border=\"1\" class=\"dataframe\">\n",
       "  <thead>\n",
       "    <tr style=\"text-align: right;\">\n",
       "      <th></th>\n",
       "      <th>symbol</th>\n",
       "      <th>bids</th>\n",
       "      <th>asks</th>\n",
       "      <th>timestamp</th>\n",
       "      <th>datetime</th>\n",
       "      <th>nonce</th>\n",
       "    </tr>\n",
       "  </thead>\n",
       "  <tbody>\n",
       "    <tr>\n",
       "      <th>0</th>\n",
       "      <td>BTCUSDT</td>\n",
       "      <td>[23352.5, 7.827]</td>\n",
       "      <td>[23353.0, 69.296]</td>\n",
       "      <td>1675457158946</td>\n",
       "      <td>2023-02-03T20:45:58.946Z</td>\n",
       "      <td>None</td>\n",
       "    </tr>\n",
       "    <tr>\n",
       "      <th>1</th>\n",
       "      <td>BTCUSDT</td>\n",
       "      <td>[23352.0, 0.002]</td>\n",
       "      <td>[23353.5, 2.818]</td>\n",
       "      <td>1675457158946</td>\n",
       "      <td>2023-02-03T20:45:58.946Z</td>\n",
       "      <td>None</td>\n",
       "    </tr>\n",
       "    <tr>\n",
       "      <th>2</th>\n",
       "      <td>BTCUSDT</td>\n",
       "      <td>[23351.5, 0.544]</td>\n",
       "      <td>[23354.0, 0.021]</td>\n",
       "      <td>1675457158946</td>\n",
       "      <td>2023-02-03T20:45:58.946Z</td>\n",
       "      <td>None</td>\n",
       "    </tr>\n",
       "    <tr>\n",
       "      <th>3</th>\n",
       "      <td>BTCUSDT</td>\n",
       "      <td>[23351.0, 4.357]</td>\n",
       "      <td>[23354.5, 1.645]</td>\n",
       "      <td>1675457158946</td>\n",
       "      <td>2023-02-03T20:45:58.946Z</td>\n",
       "      <td>None</td>\n",
       "    </tr>\n",
       "    <tr>\n",
       "      <th>4</th>\n",
       "      <td>BTCUSDT</td>\n",
       "      <td>[23350.5, 4.696]</td>\n",
       "      <td>[23355.0, 3.185]</td>\n",
       "      <td>1675457158946</td>\n",
       "      <td>2023-02-03T20:45:58.946Z</td>\n",
       "      <td>None</td>\n",
       "    </tr>\n",
       "  </tbody>\n",
       "</table>\n",
       "</div>"
      ],
      "text/plain": [
       "    symbol              bids               asks      timestamp  \\\n",
       "0  BTCUSDT  [23352.5, 7.827]  [23353.0, 69.296]  1675457158946   \n",
       "1  BTCUSDT  [23352.0, 0.002]   [23353.5, 2.818]  1675457158946   \n",
       "2  BTCUSDT  [23351.5, 0.544]   [23354.0, 0.021]  1675457158946   \n",
       "3  BTCUSDT  [23351.0, 4.357]   [23354.5, 1.645]  1675457158946   \n",
       "4  BTCUSDT  [23350.5, 4.696]   [23355.0, 3.185]  1675457158946   \n",
       "\n",
       "                   datetime nonce  \n",
       "0  2023-02-03T20:45:58.946Z  None  \n",
       "1  2023-02-03T20:45:58.946Z  None  \n",
       "2  2023-02-03T20:45:58.946Z  None  \n",
       "3  2023-02-03T20:45:58.946Z  None  \n",
       "4  2023-02-03T20:45:58.946Z  None  "
      ]
     },
     "execution_count": 22,
     "metadata": {},
     "output_type": "execute_result"
    }
   ],
   "source": [
    "currency_pair = \"BTCUSDT\"\n",
    "future_params = {\"options\": {\"defaultType\": \"future\"}}\n",
    "pd.DataFrame(\n",
    "    bybit_exchange.fetch_order_book(currency_pair, 10, future_params)\n",
    ").head()"
   ]
  },
  {
   "cell_type": "markdown",
   "id": "88a8176f",
   "metadata": {},
   "source": [
    "### bybit REST Futures OHLCV"
   ]
  },
  {
   "cell_type": "code",
   "execution_count": 23,
   "id": "500a7751",
   "metadata": {
    "ExecuteTime": {
     "end_time": "2023-02-03T20:45:59.984700Z",
     "start_time": "2023-02-03T20:45:59.981197Z"
    }
   },
   "outputs": [
    {
     "name": "stdout",
     "output_type": "stream",
     "text": [
      "Help on method fetch_ohlcv in module ccxt.bybit:\n",
      "\n",
      "fetch_ohlcv(symbol, timeframe='1m', since=None, limit=None, params={}) method of ccxt.bybit.bybit instance\n",
      "    fetches historical candlestick data containing the open, high, low, and close price, and the volume of a market\n",
      "    :param str symbol: unified symbol of the market to fetch OHLCV data for\n",
      "    :param str timeframe: the length of time each candle represents\n",
      "    :param int|None since: timestamp in ms of the earliest candle to fetch\n",
      "    :param int|None limit: the maximum amount of candles to fetch\n",
      "    :param dict params: extra parameters specific to the bybit api endpoint\n",
      "    :returns [[int]]: A list of candles ordered as timestamp, open, high, low, close, volume\n",
      "\n"
     ]
    }
   ],
   "source": [
    "help(bybit_exchange.fetch_ohlcv)"
   ]
  },
  {
   "cell_type": "code",
   "execution_count": 24,
   "id": "1523186c",
   "metadata": {
    "ExecuteTime": {
     "end_time": "2023-02-03T20:46:00.811630Z",
     "start_time": "2023-02-03T20:46:00.590625Z"
    }
   },
   "outputs": [
    {
     "data": {
      "text/html": [
       "<div>\n",
       "<style scoped>\n",
       "    .dataframe tbody tr th:only-of-type {\n",
       "        vertical-align: middle;\n",
       "    }\n",
       "\n",
       "    .dataframe tbody tr th {\n",
       "        vertical-align: top;\n",
       "    }\n",
       "\n",
       "    .dataframe thead th {\n",
       "        text-align: right;\n",
       "    }\n",
       "</style>\n",
       "<table border=\"1\" class=\"dataframe\">\n",
       "  <thead>\n",
       "    <tr style=\"text-align: right;\">\n",
       "      <th></th>\n",
       "      <th>0</th>\n",
       "      <th>1</th>\n",
       "      <th>2</th>\n",
       "      <th>3</th>\n",
       "      <th>4</th>\n",
       "      <th>5</th>\n",
       "    </tr>\n",
       "  </thead>\n",
       "  <tbody>\n",
       "    <tr>\n",
       "      <th>0</th>\n",
       "      <td>1675445160000</td>\n",
       "      <td>23572.5</td>\n",
       "      <td>23572.5</td>\n",
       "      <td>23560.5</td>\n",
       "      <td>23562.0</td>\n",
       "      <td>28.671</td>\n",
       "    </tr>\n",
       "    <tr>\n",
       "      <th>1</th>\n",
       "      <td>1675445220000</td>\n",
       "      <td>23562.0</td>\n",
       "      <td>23576.0</td>\n",
       "      <td>23562.0</td>\n",
       "      <td>23576.0</td>\n",
       "      <td>15.605</td>\n",
       "    </tr>\n",
       "    <tr>\n",
       "      <th>2</th>\n",
       "      <td>1675445280000</td>\n",
       "      <td>23576.0</td>\n",
       "      <td>23579.5</td>\n",
       "      <td>23571.0</td>\n",
       "      <td>23571.0</td>\n",
       "      <td>32.456</td>\n",
       "    </tr>\n",
       "    <tr>\n",
       "      <th>3</th>\n",
       "      <td>1675445340000</td>\n",
       "      <td>23571.0</td>\n",
       "      <td>23575.5</td>\n",
       "      <td>23563.0</td>\n",
       "      <td>23572.0</td>\n",
       "      <td>21.456</td>\n",
       "    </tr>\n",
       "    <tr>\n",
       "      <th>4</th>\n",
       "      <td>1675445400000</td>\n",
       "      <td>23572.0</td>\n",
       "      <td>23575.5</td>\n",
       "      <td>23571.5</td>\n",
       "      <td>23574.0</td>\n",
       "      <td>5.619</td>\n",
       "    </tr>\n",
       "  </tbody>\n",
       "</table>\n",
       "</div>"
      ],
      "text/plain": [
       "               0        1        2        3        4       5\n",
       "0  1675445160000  23572.5  23572.5  23560.5  23562.0  28.671\n",
       "1  1675445220000  23562.0  23576.0  23562.0  23576.0  15.605\n",
       "2  1675445280000  23576.0  23579.5  23571.0  23571.0  32.456\n",
       "3  1675445340000  23571.0  23575.5  23563.0  23572.0  21.456\n",
       "4  1675445400000  23572.0  23575.5  23571.5  23574.0   5.619"
      ]
     },
     "execution_count": 24,
     "metadata": {},
     "output_type": "execute_result"
    }
   ],
   "source": [
    "pd.DataFrame(\n",
    "    bybit_exchange.fetch_ohlcv(currency_pair, \"1m\", params=future_params)\n",
    ").head()\n",
    "# pd.DataFrame(bybit_exchange.fetch_ohlcv(currency_pair)).head()"
   ]
  },
  {
   "cell_type": "markdown",
   "id": "524733d8",
   "metadata": {},
   "source": [
    "### bybit REST Futures trades"
   ]
  },
  {
   "cell_type": "code",
   "execution_count": 25,
   "id": "592174d1",
   "metadata": {
    "ExecuteTime": {
     "end_time": "2023-02-03T20:46:02.532956Z",
     "start_time": "2023-02-03T20:46:01.910910Z"
    }
   },
   "outputs": [
    {
     "data": {
      "text/html": [
       "<div>\n",
       "<style scoped>\n",
       "    .dataframe tbody tr th:only-of-type {\n",
       "        vertical-align: middle;\n",
       "    }\n",
       "\n",
       "    .dataframe tbody tr th {\n",
       "        vertical-align: top;\n",
       "    }\n",
       "\n",
       "    .dataframe thead th {\n",
       "        text-align: right;\n",
       "    }\n",
       "</style>\n",
       "<table border=\"1\" class=\"dataframe\">\n",
       "  <thead>\n",
       "    <tr style=\"text-align: right;\">\n",
       "      <th></th>\n",
       "      <th>id</th>\n",
       "      <th>info</th>\n",
       "      <th>timestamp</th>\n",
       "      <th>datetime</th>\n",
       "      <th>symbol</th>\n",
       "      <th>order</th>\n",
       "      <th>type</th>\n",
       "      <th>side</th>\n",
       "      <th>takerOrMaker</th>\n",
       "      <th>price</th>\n",
       "      <th>amount</th>\n",
       "      <th>cost</th>\n",
       "      <th>fee</th>\n",
       "      <th>fees</th>\n",
       "    </tr>\n",
       "  </thead>\n",
       "  <tbody>\n",
       "    <tr>\n",
       "      <th>0</th>\n",
       "      <td>459865986048</td>\n",
       "      <td>{'id': '459865986048', 'symbol': 'BTCUSDT', 'p...</td>\n",
       "      <td>1675457129821</td>\n",
       "      <td>2023-02-03T20:45:29.821Z</td>\n",
       "      <td>BTC/USDT:USDT</td>\n",
       "      <td>None</td>\n",
       "      <td>None</td>\n",
       "      <td>buy</td>\n",
       "      <td>taker</td>\n",
       "      <td>23380.0</td>\n",
       "      <td>0.287</td>\n",
       "      <td>6710.06</td>\n",
       "      <td>None</td>\n",
       "      <td>[]</td>\n",
       "    </tr>\n",
       "    <tr>\n",
       "      <th>1</th>\n",
       "      <td>459865986049</td>\n",
       "      <td>{'id': '459865986049', 'symbol': 'BTCUSDT', 'p...</td>\n",
       "      <td>1675457129821</td>\n",
       "      <td>2023-02-03T20:45:29.821Z</td>\n",
       "      <td>BTC/USDT:USDT</td>\n",
       "      <td>None</td>\n",
       "      <td>None</td>\n",
       "      <td>buy</td>\n",
       "      <td>taker</td>\n",
       "      <td>23380.0</td>\n",
       "      <td>0.020</td>\n",
       "      <td>467.60</td>\n",
       "      <td>None</td>\n",
       "      <td>[]</td>\n",
       "    </tr>\n",
       "    <tr>\n",
       "      <th>2</th>\n",
       "      <td>459865986050</td>\n",
       "      <td>{'id': '459865986050', 'symbol': 'BTCUSDT', 'p...</td>\n",
       "      <td>1675457129821</td>\n",
       "      <td>2023-02-03T20:45:29.821Z</td>\n",
       "      <td>BTC/USDT:USDT</td>\n",
       "      <td>None</td>\n",
       "      <td>None</td>\n",
       "      <td>buy</td>\n",
       "      <td>taker</td>\n",
       "      <td>23380.0</td>\n",
       "      <td>0.141</td>\n",
       "      <td>3296.58</td>\n",
       "      <td>None</td>\n",
       "      <td>[]</td>\n",
       "    </tr>\n",
       "    <tr>\n",
       "      <th>3</th>\n",
       "      <td>459865986051</td>\n",
       "      <td>{'id': '459865986051', 'symbol': 'BTCUSDT', 'p...</td>\n",
       "      <td>1675457129821</td>\n",
       "      <td>2023-02-03T20:45:29.821Z</td>\n",
       "      <td>BTC/USDT:USDT</td>\n",
       "      <td>None</td>\n",
       "      <td>None</td>\n",
       "      <td>buy</td>\n",
       "      <td>taker</td>\n",
       "      <td>23380.0</td>\n",
       "      <td>0.076</td>\n",
       "      <td>1776.88</td>\n",
       "      <td>None</td>\n",
       "      <td>[]</td>\n",
       "    </tr>\n",
       "    <tr>\n",
       "      <th>4</th>\n",
       "      <td>459865987072</td>\n",
       "      <td>{'id': '459865987072', 'symbol': 'BTCUSDT', 'p...</td>\n",
       "      <td>1675457130122</td>\n",
       "      <td>2023-02-03T20:45:30.122Z</td>\n",
       "      <td>BTC/USDT:USDT</td>\n",
       "      <td>None</td>\n",
       "      <td>None</td>\n",
       "      <td>buy</td>\n",
       "      <td>taker</td>\n",
       "      <td>23380.0</td>\n",
       "      <td>0.157</td>\n",
       "      <td>3670.66</td>\n",
       "      <td>None</td>\n",
       "      <td>[]</td>\n",
       "    </tr>\n",
       "  </tbody>\n",
       "</table>\n",
       "</div>"
      ],
      "text/plain": [
       "             id                                               info  \\\n",
       "0  459865986048  {'id': '459865986048', 'symbol': 'BTCUSDT', 'p...   \n",
       "1  459865986049  {'id': '459865986049', 'symbol': 'BTCUSDT', 'p...   \n",
       "2  459865986050  {'id': '459865986050', 'symbol': 'BTCUSDT', 'p...   \n",
       "3  459865986051  {'id': '459865986051', 'symbol': 'BTCUSDT', 'p...   \n",
       "4  459865987072  {'id': '459865987072', 'symbol': 'BTCUSDT', 'p...   \n",
       "\n",
       "       timestamp                  datetime         symbol order  type side  \\\n",
       "0  1675457129821  2023-02-03T20:45:29.821Z  BTC/USDT:USDT  None  None  buy   \n",
       "1  1675457129821  2023-02-03T20:45:29.821Z  BTC/USDT:USDT  None  None  buy   \n",
       "2  1675457129821  2023-02-03T20:45:29.821Z  BTC/USDT:USDT  None  None  buy   \n",
       "3  1675457129821  2023-02-03T20:45:29.821Z  BTC/USDT:USDT  None  None  buy   \n",
       "4  1675457130122  2023-02-03T20:45:30.122Z  BTC/USDT:USDT  None  None  buy   \n",
       "\n",
       "  takerOrMaker    price  amount     cost   fee fees  \n",
       "0        taker  23380.0   0.287  6710.06  None   []  \n",
       "1        taker  23380.0   0.020   467.60  None   []  \n",
       "2        taker  23380.0   0.141  3296.58  None   []  \n",
       "3        taker  23380.0   0.076  1776.88  None   []  \n",
       "4        taker  23380.0   0.157  3670.66  None   []  "
      ]
     },
     "execution_count": 25,
     "metadata": {},
     "output_type": "execute_result"
    }
   ],
   "source": [
    "pd.DataFrame(\n",
    "    bybit_exchange.fetch_trades(currency_pair, params=future_params)\n",
    ").head()"
   ]
  },
  {
   "cell_type": "markdown",
   "id": "3a5af9e8",
   "metadata": {},
   "source": [
    "# kucoin REST"
   ]
  },
  {
   "cell_type": "code",
   "execution_count": 26,
   "id": "2bf4f222",
   "metadata": {
    "ExecuteTime": {
     "end_time": "2023-02-03T20:46:03.634024Z",
     "start_time": "2023-02-03T20:46:03.630600Z"
    }
   },
   "outputs": [],
   "source": [
    "exchange_id = \"kucoin\""
   ]
  },
  {
   "cell_type": "markdown",
   "id": "11d7eaf8",
   "metadata": {},
   "source": [
    "## kucoin REST SPOT"
   ]
  },
  {
   "cell_type": "code",
   "execution_count": 27,
   "id": "993a6605",
   "metadata": {
    "ExecuteTime": {
     "end_time": "2023-02-03T20:46:06.122553Z",
     "start_time": "2023-02-03T20:46:04.856064Z"
    }
   },
   "outputs": [],
   "source": [
    "contract_type = \"spot\"\n",
    "extractor = imvcdexex.CcxtExtractor(exchange_id, contract_type)"
   ]
  },
  {
   "cell_type": "markdown",
   "id": "a906b5f3",
   "metadata": {},
   "source": [
    "### kucoin REST SPOT Bid Ask"
   ]
  },
  {
   "cell_type": "code",
   "execution_count": 28,
   "id": "7b8b6584",
   "metadata": {
    "ExecuteTime": {
     "end_time": "2023-02-03T20:46:07.262253Z",
     "start_time": "2023-02-03T20:46:06.950476Z"
    }
   },
   "outputs": [
    {
     "data": {
      "text/html": [
       "<div>\n",
       "<style scoped>\n",
       "    .dataframe tbody tr th:only-of-type {\n",
       "        vertical-align: middle;\n",
       "    }\n",
       "\n",
       "    .dataframe tbody tr th {\n",
       "        vertical-align: top;\n",
       "    }\n",
       "\n",
       "    .dataframe thead th {\n",
       "        text-align: right;\n",
       "    }\n",
       "</style>\n",
       "<table border=\"1\" class=\"dataframe\">\n",
       "  <thead>\n",
       "    <tr style=\"text-align: right;\">\n",
       "      <th></th>\n",
       "      <th>timestamp</th>\n",
       "      <th>bid_price</th>\n",
       "      <th>bid_size</th>\n",
       "      <th>ask_price</th>\n",
       "      <th>ask_size</th>\n",
       "      <th>end_download_timestamp</th>\n",
       "      <th>level</th>\n",
       "    </tr>\n",
       "  </thead>\n",
       "  <tbody>\n",
       "    <tr>\n",
       "      <th>0</th>\n",
       "      <td>1675457166935</td>\n",
       "      <td>23344.4</td>\n",
       "      <td>0.209485</td>\n",
       "      <td>23344.5</td>\n",
       "      <td>1.074751</td>\n",
       "      <td>2023-02-03 20:46:07.250180+00:00</td>\n",
       "      <td>1</td>\n",
       "    </tr>\n",
       "    <tr>\n",
       "      <th>1</th>\n",
       "      <td>1675457166935</td>\n",
       "      <td>23344.3</td>\n",
       "      <td>0.069420</td>\n",
       "      <td>23345.6</td>\n",
       "      <td>0.046787</td>\n",
       "      <td>2023-02-03 20:46:07.250180+00:00</td>\n",
       "      <td>2</td>\n",
       "    </tr>\n",
       "    <tr>\n",
       "      <th>2</th>\n",
       "      <td>1675457166935</td>\n",
       "      <td>23343.1</td>\n",
       "      <td>0.034781</td>\n",
       "      <td>23345.7</td>\n",
       "      <td>0.178103</td>\n",
       "      <td>2023-02-03 20:46:07.250180+00:00</td>\n",
       "      <td>3</td>\n",
       "    </tr>\n",
       "    <tr>\n",
       "      <th>3</th>\n",
       "      <td>1675457166935</td>\n",
       "      <td>23342.6</td>\n",
       "      <td>0.001000</td>\n",
       "      <td>23345.8</td>\n",
       "      <td>0.198907</td>\n",
       "      <td>2023-02-03 20:46:07.250180+00:00</td>\n",
       "      <td>4</td>\n",
       "    </tr>\n",
       "    <tr>\n",
       "      <th>4</th>\n",
       "      <td>1675457166935</td>\n",
       "      <td>23341.1</td>\n",
       "      <td>0.120000</td>\n",
       "      <td>23345.9</td>\n",
       "      <td>0.450000</td>\n",
       "      <td>2023-02-03 20:46:07.250180+00:00</td>\n",
       "      <td>5</td>\n",
       "    </tr>\n",
       "  </tbody>\n",
       "</table>\n",
       "</div>"
      ],
      "text/plain": [
       "       timestamp  bid_price  bid_size  ask_price  ask_size  \\\n",
       "0  1675457166935    23344.4  0.209485    23344.5  1.074751   \n",
       "1  1675457166935    23344.3  0.069420    23345.6  0.046787   \n",
       "2  1675457166935    23343.1  0.034781    23345.7  0.178103   \n",
       "3  1675457166935    23342.6  0.001000    23345.8  0.198907   \n",
       "4  1675457166935    23341.1  0.120000    23345.9  0.450000   \n",
       "\n",
       "             end_download_timestamp  level  \n",
       "0  2023-02-03 20:46:07.250180+00:00      1  \n",
       "1  2023-02-03 20:46:07.250180+00:00      2  \n",
       "2  2023-02-03 20:46:07.250180+00:00      3  \n",
       "3  2023-02-03 20:46:07.250180+00:00      4  \n",
       "4  2023-02-03 20:46:07.250180+00:00      5  "
      ]
     },
     "execution_count": 28,
     "metadata": {},
     "output_type": "execute_result"
    }
   ],
   "source": [
    "currency_pair = \"BTC_USDT\"\n",
    "currency_pair_for_download = extractor.convert_currency_pair(currency_pair)\n",
    "start_timestamp = pd.Timestamp(\"2023-01-01 00:00:00\")\n",
    "end_timestamp = pd.Timestamp(\"2023-01-01 01:00:00\")\n",
    "bid_ask_depth = 20\n",
    "data_type = \"bid_ask\"\n",
    "data = extractor.download_data(\n",
    "    data_type,\n",
    "    exchange_id,\n",
    "    currency_pair_for_download,\n",
    "    start_timestamp=start_timestamp,\n",
    "    end_timestamp=end_timestamp,\n",
    "    depth=bid_ask_depth,\n",
    ")\n",
    "data.head()"
   ]
  },
  {
   "cell_type": "markdown",
   "id": "18d95f43",
   "metadata": {},
   "source": [
    "### kucoin REST SPOT OHLCV"
   ]
  },
  {
   "cell_type": "code",
   "execution_count": 29,
   "id": "276a4838",
   "metadata": {
    "ExecuteTime": {
     "end_time": "2023-02-03T20:46:09.930246Z",
     "start_time": "2023-02-03T20:46:09.086779Z"
    }
   },
   "outputs": [
    {
     "name": "stderr",
     "output_type": "stream",
     "text": [
      "100%|█████████████████████████████████████████████████████████████████████████████████████████████| 1/1 [00:00<00:00,  1.22it/s]\n",
      "/app/im_v2/ccxt/data/extract/extractor.py:170: FutureWarning: is_monotonic is deprecated and will be removed in a future version. Use is_monotonic_increasing instead.\n",
      "  hdbg.dassert(all_bars_df.timestamp.is_monotonic)\n"
     ]
    },
    {
     "data": {
      "text/html": [
       "<div>\n",
       "<style scoped>\n",
       "    .dataframe tbody tr th:only-of-type {\n",
       "        vertical-align: middle;\n",
       "    }\n",
       "\n",
       "    .dataframe tbody tr th {\n",
       "        vertical-align: top;\n",
       "    }\n",
       "\n",
       "    .dataframe thead th {\n",
       "        text-align: right;\n",
       "    }\n",
       "</style>\n",
       "<table border=\"1\" class=\"dataframe\">\n",
       "  <thead>\n",
       "    <tr style=\"text-align: right;\">\n",
       "      <th></th>\n",
       "      <th>timestamp</th>\n",
       "      <th>open</th>\n",
       "      <th>high</th>\n",
       "      <th>low</th>\n",
       "      <th>close</th>\n",
       "      <th>volume</th>\n",
       "      <th>end_download_timestamp</th>\n",
       "    </tr>\n",
       "  </thead>\n",
       "  <tbody>\n",
       "    <tr>\n",
       "      <th>0</th>\n",
       "      <td>1672531200000</td>\n",
       "      <td>16540.1</td>\n",
       "      <td>16540.1</td>\n",
       "      <td>16540.0</td>\n",
       "      <td>16540.1</td>\n",
       "      <td>0.319325</td>\n",
       "      <td>2023-02-03 20:46:09.410234+00:00</td>\n",
       "    </tr>\n",
       "    <tr>\n",
       "      <th>1</th>\n",
       "      <td>1672531260000</td>\n",
       "      <td>16540.1</td>\n",
       "      <td>16540.4</td>\n",
       "      <td>16540.1</td>\n",
       "      <td>16540.4</td>\n",
       "      <td>0.922018</td>\n",
       "      <td>2023-02-03 20:46:09.410234+00:00</td>\n",
       "    </tr>\n",
       "    <tr>\n",
       "      <th>2</th>\n",
       "      <td>1672531320000</td>\n",
       "      <td>16540.4</td>\n",
       "      <td>16540.4</td>\n",
       "      <td>16535.4</td>\n",
       "      <td>16535.4</td>\n",
       "      <td>7.109933</td>\n",
       "      <td>2023-02-03 20:46:09.410234+00:00</td>\n",
       "    </tr>\n",
       "    <tr>\n",
       "      <th>3</th>\n",
       "      <td>1672531380000</td>\n",
       "      <td>16535.5</td>\n",
       "      <td>16535.5</td>\n",
       "      <td>16532.3</td>\n",
       "      <td>16532.3</td>\n",
       "      <td>5.152290</td>\n",
       "      <td>2023-02-03 20:46:09.410234+00:00</td>\n",
       "    </tr>\n",
       "    <tr>\n",
       "      <th>4</th>\n",
       "      <td>1672531440000</td>\n",
       "      <td>16532.3</td>\n",
       "      <td>16533.3</td>\n",
       "      <td>16529.2</td>\n",
       "      <td>16533.3</td>\n",
       "      <td>4.410584</td>\n",
       "      <td>2023-02-03 20:46:09.410234+00:00</td>\n",
       "    </tr>\n",
       "  </tbody>\n",
       "</table>\n",
       "</div>"
      ],
      "text/plain": [
       "       timestamp     open     high      low    close    volume  \\\n",
       "0  1672531200000  16540.1  16540.1  16540.0  16540.1  0.319325   \n",
       "1  1672531260000  16540.1  16540.4  16540.1  16540.4  0.922018   \n",
       "2  1672531320000  16540.4  16540.4  16535.4  16535.4  7.109933   \n",
       "3  1672531380000  16535.5  16535.5  16532.3  16532.3  5.152290   \n",
       "4  1672531440000  16532.3  16533.3  16529.2  16533.3  4.410584   \n",
       "\n",
       "             end_download_timestamp  \n",
       "0  2023-02-03 20:46:09.410234+00:00  \n",
       "1  2023-02-03 20:46:09.410234+00:00  \n",
       "2  2023-02-03 20:46:09.410234+00:00  \n",
       "3  2023-02-03 20:46:09.410234+00:00  \n",
       "4  2023-02-03 20:46:09.410234+00:00  "
      ]
     },
     "execution_count": 29,
     "metadata": {},
     "output_type": "execute_result"
    }
   ],
   "source": [
    "data_type = \"ohlcv\"\n",
    "data = extractor.download_data(\n",
    "    data_type,\n",
    "    exchange_id,\n",
    "    currency_pair_for_download,\n",
    "    start_timestamp=start_timestamp,\n",
    "    end_timestamp=end_timestamp,\n",
    ")\n",
    "data.head()"
   ]
  },
  {
   "cell_type": "markdown",
   "id": "864f3877",
   "metadata": {},
   "source": [
    "### kucoin REST SPOT Trades"
   ]
  },
  {
   "cell_type": "code",
   "execution_count": 30,
   "id": "4d5294c0",
   "metadata": {
    "ExecuteTime": {
     "end_time": "2023-02-03T20:46:11.587874Z",
     "start_time": "2023-02-03T20:46:11.580289Z"
    }
   },
   "outputs": [],
   "source": [
    "kucoin_exchange = ccxt.kucoin()"
   ]
  },
  {
   "cell_type": "code",
   "execution_count": 31,
   "id": "194f5514",
   "metadata": {
    "ExecuteTime": {
     "end_time": "2023-02-03T20:46:12.414487Z",
     "start_time": "2023-02-03T20:46:12.410702Z"
    }
   },
   "outputs": [
    {
     "data": {
      "text/plain": [
       "True"
      ]
     },
     "execution_count": 31,
     "metadata": {},
     "output_type": "execute_result"
    }
   ],
   "source": [
    "kucoin_exchange.has[\"fetchTrades\"]"
   ]
  },
  {
   "cell_type": "code",
   "execution_count": 32,
   "id": "eef380e1",
   "metadata": {
    "ExecuteTime": {
     "end_time": "2023-02-03T20:46:14.650103Z",
     "start_time": "2023-02-03T20:46:13.461552Z"
    },
    "lines_to_next_cell": 2
   },
   "outputs": [
    {
     "data": {
      "text/plain": [
       "226       BTC/TUSD\n",
       "277       BTC/USDT\n",
       "289        BTC/DAI\n",
       "323       BTC/USDC\n",
       "467     BTC3L/USDT\n",
       "468     BTC3S/USDT\n",
       "1131       BTC/BRL\n",
       "dtype: object"
      ]
     },
     "execution_count": 32,
     "metadata": {},
     "output_type": "execute_result"
    }
   ],
   "source": [
    "data = pd.Series(kucoin_exchange.load_markets().keys())\n",
    "data[data.str.startswith(\"BTC\")]"
   ]
  },
  {
   "cell_type": "code",
   "execution_count": 33,
   "id": "3bed456d",
   "metadata": {
    "ExecuteTime": {
     "end_time": "2023-02-03T20:46:14.951826Z",
     "start_time": "2023-02-03T20:46:14.652422Z"
    }
   },
   "outputs": [
    {
     "data": {
      "text/html": [
       "<div>\n",
       "<style scoped>\n",
       "    .dataframe tbody tr th:only-of-type {\n",
       "        vertical-align: middle;\n",
       "    }\n",
       "\n",
       "    .dataframe tbody tr th {\n",
       "        vertical-align: top;\n",
       "    }\n",
       "\n",
       "    .dataframe thead th {\n",
       "        text-align: right;\n",
       "    }\n",
       "</style>\n",
       "<table border=\"1\" class=\"dataframe\">\n",
       "  <thead>\n",
       "    <tr style=\"text-align: right;\">\n",
       "      <th></th>\n",
       "      <th>info</th>\n",
       "      <th>id</th>\n",
       "      <th>order</th>\n",
       "      <th>timestamp</th>\n",
       "      <th>datetime</th>\n",
       "      <th>symbol</th>\n",
       "      <th>type</th>\n",
       "      <th>takerOrMaker</th>\n",
       "      <th>side</th>\n",
       "      <th>price</th>\n",
       "      <th>amount</th>\n",
       "      <th>cost</th>\n",
       "      <th>fee</th>\n",
       "      <th>fees</th>\n",
       "    </tr>\n",
       "  </thead>\n",
       "  <tbody>\n",
       "    <tr>\n",
       "      <th>0</th>\n",
       "      <td>{'sequence': '2309739813945345', 'price': '233...</td>\n",
       "      <td>None</td>\n",
       "      <td>None</td>\n",
       "      <td>1675457145275</td>\n",
       "      <td>2023-02-03T20:45:45.275Z</td>\n",
       "      <td>BTC/USDT</td>\n",
       "      <td>None</td>\n",
       "      <td>None</td>\n",
       "      <td>buy</td>\n",
       "      <td>23349.9</td>\n",
       "      <td>0.018042</td>\n",
       "      <td>421.268388</td>\n",
       "      <td>None</td>\n",
       "      <td>[]</td>\n",
       "    </tr>\n",
       "    <tr>\n",
       "      <th>1</th>\n",
       "      <td>{'sequence': '2309739866112001', 'price': '233...</td>\n",
       "      <td>None</td>\n",
       "      <td>None</td>\n",
       "      <td>1675457145335</td>\n",
       "      <td>2023-02-03T20:45:45.335Z</td>\n",
       "      <td>BTC/USDT</td>\n",
       "      <td>None</td>\n",
       "      <td>None</td>\n",
       "      <td>buy</td>\n",
       "      <td>23349.3</td>\n",
       "      <td>0.006083</td>\n",
       "      <td>142.035660</td>\n",
       "      <td>None</td>\n",
       "      <td>[]</td>\n",
       "    </tr>\n",
       "    <tr>\n",
       "      <th>2</th>\n",
       "      <td>{'sequence': '2309739883413505', 'price': '233...</td>\n",
       "      <td>None</td>\n",
       "      <td>None</td>\n",
       "      <td>1675457145358</td>\n",
       "      <td>2023-02-03T20:45:45.358Z</td>\n",
       "      <td>BTC/USDT</td>\n",
       "      <td>None</td>\n",
       "      <td>None</td>\n",
       "      <td>buy</td>\n",
       "      <td>23349.2</td>\n",
       "      <td>0.001703</td>\n",
       "      <td>39.760652</td>\n",
       "      <td>None</td>\n",
       "      <td>[]</td>\n",
       "    </tr>\n",
       "    <tr>\n",
       "      <th>3</th>\n",
       "      <td>{'sequence': '2309739930206209', 'price': '233...</td>\n",
       "      <td>None</td>\n",
       "      <td>None</td>\n",
       "      <td>1675457145430</td>\n",
       "      <td>2023-02-03T20:45:45.430Z</td>\n",
       "      <td>BTC/USDT</td>\n",
       "      <td>None</td>\n",
       "      <td>None</td>\n",
       "      <td>buy</td>\n",
       "      <td>23347.7</td>\n",
       "      <td>0.001000</td>\n",
       "      <td>23.347700</td>\n",
       "      <td>None</td>\n",
       "      <td>[]</td>\n",
       "    </tr>\n",
       "    <tr>\n",
       "      <th>4</th>\n",
       "      <td>{'sequence': '2309739934269441', 'price': '233...</td>\n",
       "      <td>None</td>\n",
       "      <td>None</td>\n",
       "      <td>1675457145441</td>\n",
       "      <td>2023-02-03T20:45:45.441Z</td>\n",
       "      <td>BTC/USDT</td>\n",
       "      <td>None</td>\n",
       "      <td>None</td>\n",
       "      <td>buy</td>\n",
       "      <td>23349.2</td>\n",
       "      <td>0.003208</td>\n",
       "      <td>74.905635</td>\n",
       "      <td>None</td>\n",
       "      <td>[]</td>\n",
       "    </tr>\n",
       "  </tbody>\n",
       "</table>\n",
       "</div>"
      ],
      "text/plain": [
       "                                                info    id order  \\\n",
       "0  {'sequence': '2309739813945345', 'price': '233...  None  None   \n",
       "1  {'sequence': '2309739866112001', 'price': '233...  None  None   \n",
       "2  {'sequence': '2309739883413505', 'price': '233...  None  None   \n",
       "3  {'sequence': '2309739930206209', 'price': '233...  None  None   \n",
       "4  {'sequence': '2309739934269441', 'price': '233...  None  None   \n",
       "\n",
       "       timestamp                  datetime    symbol  type takerOrMaker side  \\\n",
       "0  1675457145275  2023-02-03T20:45:45.275Z  BTC/USDT  None         None  buy   \n",
       "1  1675457145335  2023-02-03T20:45:45.335Z  BTC/USDT  None         None  buy   \n",
       "2  1675457145358  2023-02-03T20:45:45.358Z  BTC/USDT  None         None  buy   \n",
       "3  1675457145430  2023-02-03T20:45:45.430Z  BTC/USDT  None         None  buy   \n",
       "4  1675457145441  2023-02-03T20:45:45.441Z  BTC/USDT  None         None  buy   \n",
       "\n",
       "     price    amount        cost   fee fees  \n",
       "0  23349.9  0.018042  421.268388  None   []  \n",
       "1  23349.3  0.006083  142.035660  None   []  \n",
       "2  23349.2  0.001703   39.760652  None   []  \n",
       "3  23347.7  0.001000   23.347700  None   []  \n",
       "4  23349.2  0.003208   74.905635  None   []  "
      ]
     },
     "execution_count": 33,
     "metadata": {},
     "output_type": "execute_result"
    }
   ],
   "source": [
    "currency_pair = \"BTC/USDT\"\n",
    "pd.DataFrame(kucoin_exchange.fetch_trades(currency_pair)).head()"
   ]
  },
  {
   "cell_type": "markdown",
   "id": "b2efe739",
   "metadata": {},
   "source": [
    "\n",
    "## kucoin REST futures"
   ]
  },
  {
   "cell_type": "code",
   "execution_count": 34,
   "id": "68112201",
   "metadata": {
    "ExecuteTime": {
     "end_time": "2023-02-03T20:46:16.635097Z",
     "start_time": "2023-02-03T20:46:16.631099Z"
    }
   },
   "outputs": [
    {
     "data": {
      "text/plain": [
       "False"
      ]
     },
     "execution_count": 34,
     "metadata": {},
     "output_type": "execute_result"
    }
   ],
   "source": [
    "kucoin_exchange.has[\"future\"]"
   ]
  },
  {
   "cell_type": "markdown",
   "id": "4a772b20",
   "metadata": {},
   "source": [
    "# okx REST"
   ]
  },
  {
   "cell_type": "code",
   "execution_count": 35,
   "id": "3cc6ca02",
   "metadata": {
    "ExecuteTime": {
     "end_time": "2023-02-03T20:46:17.724314Z",
     "start_time": "2023-02-03T20:46:17.720895Z"
    }
   },
   "outputs": [],
   "source": [
    "exchange_id = \"okx\""
   ]
  },
  {
   "cell_type": "markdown",
   "id": "5c1912f5",
   "metadata": {},
   "source": [
    "## okx REST SPOT"
   ]
  },
  {
   "cell_type": "code",
   "execution_count": 36,
   "id": "f99c10bc",
   "metadata": {
    "ExecuteTime": {
     "end_time": "2023-02-03T20:46:19.860452Z",
     "start_time": "2023-02-03T20:46:18.801029Z"
    }
   },
   "outputs": [],
   "source": [
    "contract_type = \"spot\"\n",
    "extractor = imvcdexex.CcxtExtractor(exchange_id, contract_type)"
   ]
  },
  {
   "cell_type": "markdown",
   "id": "95009403",
   "metadata": {},
   "source": [
    "### okx REST SPOT Bid Ask"
   ]
  },
  {
   "cell_type": "code",
   "execution_count": 37,
   "id": "7a529498",
   "metadata": {
    "ExecuteTime": {
     "end_time": "2023-02-03T20:46:20.217378Z",
     "start_time": "2023-02-03T20:46:19.955487Z"
    }
   },
   "outputs": [
    {
     "data": {
      "text/html": [
       "<div>\n",
       "<style scoped>\n",
       "    .dataframe tbody tr th:only-of-type {\n",
       "        vertical-align: middle;\n",
       "    }\n",
       "\n",
       "    .dataframe tbody tr th {\n",
       "        vertical-align: top;\n",
       "    }\n",
       "\n",
       "    .dataframe thead th {\n",
       "        text-align: right;\n",
       "    }\n",
       "</style>\n",
       "<table border=\"1\" class=\"dataframe\">\n",
       "  <thead>\n",
       "    <tr style=\"text-align: right;\">\n",
       "      <th></th>\n",
       "      <th>timestamp</th>\n",
       "      <th>bid_price</th>\n",
       "      <th>bid_size</th>\n",
       "      <th>ask_price</th>\n",
       "      <th>ask_size</th>\n",
       "      <th>end_download_timestamp</th>\n",
       "      <th>level</th>\n",
       "    </tr>\n",
       "  </thead>\n",
       "  <tbody>\n",
       "    <tr>\n",
       "      <th>0</th>\n",
       "      <td>1675457179007</td>\n",
       "      <td>23344.7</td>\n",
       "      <td>0.000002</td>\n",
       "      <td>23344.8</td>\n",
       "      <td>1.686613</td>\n",
       "      <td>2023-02-03 20:46:20.201322+00:00</td>\n",
       "      <td>1</td>\n",
       "    </tr>\n",
       "    <tr>\n",
       "      <th>1</th>\n",
       "      <td>1675457179007</td>\n",
       "      <td>23341.9</td>\n",
       "      <td>0.000025</td>\n",
       "      <td>23345.0</td>\n",
       "      <td>0.171334</td>\n",
       "      <td>2023-02-03 20:46:20.201322+00:00</td>\n",
       "      <td>2</td>\n",
       "    </tr>\n",
       "    <tr>\n",
       "      <th>2</th>\n",
       "      <td>1675457179007</td>\n",
       "      <td>23341.5</td>\n",
       "      <td>0.214199</td>\n",
       "      <td>23345.2</td>\n",
       "      <td>0.002660</td>\n",
       "      <td>2023-02-03 20:46:20.201322+00:00</td>\n",
       "      <td>3</td>\n",
       "    </tr>\n",
       "    <tr>\n",
       "      <th>3</th>\n",
       "      <td>1675457179007</td>\n",
       "      <td>23339.9</td>\n",
       "      <td>0.004023</td>\n",
       "      <td>23345.4</td>\n",
       "      <td>0.843352</td>\n",
       "      <td>2023-02-03 20:46:20.201322+00:00</td>\n",
       "      <td>4</td>\n",
       "    </tr>\n",
       "    <tr>\n",
       "      <th>4</th>\n",
       "      <td>1675457179007</td>\n",
       "      <td>23339.8</td>\n",
       "      <td>0.512515</td>\n",
       "      <td>23345.8</td>\n",
       "      <td>1.080327</td>\n",
       "      <td>2023-02-03 20:46:20.201322+00:00</td>\n",
       "      <td>5</td>\n",
       "    </tr>\n",
       "  </tbody>\n",
       "</table>\n",
       "</div>"
      ],
      "text/plain": [
       "       timestamp  bid_price  bid_size  ask_price  ask_size  \\\n",
       "0  1675457179007    23344.7  0.000002    23344.8  1.686613   \n",
       "1  1675457179007    23341.9  0.000025    23345.0  0.171334   \n",
       "2  1675457179007    23341.5  0.214199    23345.2  0.002660   \n",
       "3  1675457179007    23339.9  0.004023    23345.4  0.843352   \n",
       "4  1675457179007    23339.8  0.512515    23345.8  1.080327   \n",
       "\n",
       "             end_download_timestamp  level  \n",
       "0  2023-02-03 20:46:20.201322+00:00      1  \n",
       "1  2023-02-03 20:46:20.201322+00:00      2  \n",
       "2  2023-02-03 20:46:20.201322+00:00      3  \n",
       "3  2023-02-03 20:46:20.201322+00:00      4  \n",
       "4  2023-02-03 20:46:20.201322+00:00      5  "
      ]
     },
     "execution_count": 37,
     "metadata": {},
     "output_type": "execute_result"
    }
   ],
   "source": [
    "currency_pair = \"BTC_USDT\"\n",
    "currency_pair_for_download = extractor.convert_currency_pair(currency_pair)\n",
    "start_timestamp = pd.Timestamp(\"2023-01-01 00:00:00\")\n",
    "end_timestamp = pd.Timestamp(\"2023-01-01 05:00:00\")\n",
    "bid_ask_depth = 20\n",
    "data_type = \"bid_ask\"\n",
    "data = extractor.download_data(\n",
    "    data_type,\n",
    "    exchange_id,\n",
    "    currency_pair_for_download,\n",
    "    start_timestamp=start_timestamp,\n",
    "    end_timestamp=end_timestamp,\n",
    "    depth=bid_ask_depth,\n",
    ")\n",
    "data.head()"
   ]
  },
  {
   "cell_type": "markdown",
   "id": "4be062d8",
   "metadata": {},
   "source": [
    "### okx REST SPOT OHLCV"
   ]
  },
  {
   "cell_type": "code",
   "execution_count": 38,
   "id": "bb24b24f",
   "metadata": {
    "ExecuteTime": {
     "end_time": "2023-02-03T20:46:22.451149Z",
     "start_time": "2023-02-03T20:46:21.730718Z"
    }
   },
   "outputs": [
    {
     "name": "stderr",
     "output_type": "stream",
     "text": [
      "100%|█████████████████████████████████████████████████████████████████████████████████████████████| 1/1 [00:00<00:00,  1.41it/s]\n",
      "/app/im_v2/ccxt/data/extract/extractor.py:170: FutureWarning: is_monotonic is deprecated and will be removed in a future version. Use is_monotonic_increasing instead.\n",
      "  hdbg.dassert(all_bars_df.timestamp.is_monotonic)\n"
     ]
    },
    {
     "data": {
      "text/html": [
       "<div>\n",
       "<style scoped>\n",
       "    .dataframe tbody tr th:only-of-type {\n",
       "        vertical-align: middle;\n",
       "    }\n",
       "\n",
       "    .dataframe tbody tr th {\n",
       "        vertical-align: top;\n",
       "    }\n",
       "\n",
       "    .dataframe thead th {\n",
       "        text-align: right;\n",
       "    }\n",
       "</style>\n",
       "<table border=\"1\" class=\"dataframe\">\n",
       "  <thead>\n",
       "    <tr style=\"text-align: right;\">\n",
       "      <th></th>\n",
       "      <th>timestamp</th>\n",
       "      <th>open</th>\n",
       "      <th>high</th>\n",
       "      <th>low</th>\n",
       "      <th>close</th>\n",
       "      <th>volume</th>\n",
       "      <th>end_download_timestamp</th>\n",
       "    </tr>\n",
       "  </thead>\n",
       "  <tbody>\n",
       "  </tbody>\n",
       "</table>\n",
       "</div>"
      ],
      "text/plain": [
       "Empty DataFrame\n",
       "Columns: [timestamp, open, high, low, close, volume, end_download_timestamp]\n",
       "Index: []"
      ]
     },
     "execution_count": 38,
     "metadata": {},
     "output_type": "execute_result"
    }
   ],
   "source": [
    "data_type = \"ohlcv\"\n",
    "data = extractor.download_data(\n",
    "    data_type,\n",
    "    exchange_id,\n",
    "    currency_pair_for_download,\n",
    "    start_timestamp=start_timestamp,\n",
    "    end_timestamp=end_timestamp,\n",
    "    depth=bid_ask_depth,\n",
    ")\n",
    "data.head()"
   ]
  },
  {
   "cell_type": "code",
   "execution_count": 39,
   "id": "5a670bb7",
   "metadata": {
    "ExecuteTime": {
     "end_time": "2023-02-03T20:46:23.639103Z",
     "start_time": "2023-02-03T20:46:22.453442Z"
    }
   },
   "outputs": [
    {
     "data": {
      "text/html": [
       "<div>\n",
       "<style scoped>\n",
       "    .dataframe tbody tr th:only-of-type {\n",
       "        vertical-align: middle;\n",
       "    }\n",
       "\n",
       "    .dataframe tbody tr th {\n",
       "        vertical-align: top;\n",
       "    }\n",
       "\n",
       "    .dataframe thead th {\n",
       "        text-align: right;\n",
       "    }\n",
       "</style>\n",
       "<table border=\"1\" class=\"dataframe\">\n",
       "  <thead>\n",
       "    <tr style=\"text-align: right;\">\n",
       "      <th></th>\n",
       "      <th>0</th>\n",
       "      <th>1</th>\n",
       "      <th>2</th>\n",
       "      <th>3</th>\n",
       "      <th>4</th>\n",
       "      <th>5</th>\n",
       "    </tr>\n",
       "  </thead>\n",
       "  <tbody>\n",
       "    <tr>\n",
       "      <th>0</th>\n",
       "      <td>1675451220000</td>\n",
       "      <td>23404.6</td>\n",
       "      <td>23406.2</td>\n",
       "      <td>23391.6</td>\n",
       "      <td>23399.0</td>\n",
       "      <td>2149.0</td>\n",
       "    </tr>\n",
       "    <tr>\n",
       "      <th>1</th>\n",
       "      <td>1675451280000</td>\n",
       "      <td>23402.6</td>\n",
       "      <td>23419.4</td>\n",
       "      <td>23401.8</td>\n",
       "      <td>23406.1</td>\n",
       "      <td>2762.0</td>\n",
       "    </tr>\n",
       "    <tr>\n",
       "      <th>2</th>\n",
       "      <td>1675451340000</td>\n",
       "      <td>23406.0</td>\n",
       "      <td>23406.0</td>\n",
       "      <td>23395.0</td>\n",
       "      <td>23397.8</td>\n",
       "      <td>1755.0</td>\n",
       "    </tr>\n",
       "    <tr>\n",
       "      <th>3</th>\n",
       "      <td>1675451400000</td>\n",
       "      <td>23403.0</td>\n",
       "      <td>23405.0</td>\n",
       "      <td>23397.2</td>\n",
       "      <td>23402.3</td>\n",
       "      <td>847.0</td>\n",
       "    </tr>\n",
       "    <tr>\n",
       "      <th>4</th>\n",
       "      <td>1675451460000</td>\n",
       "      <td>23402.3</td>\n",
       "      <td>23403.0</td>\n",
       "      <td>23386.0</td>\n",
       "      <td>23392.2</td>\n",
       "      <td>2564.0</td>\n",
       "    </tr>\n",
       "  </tbody>\n",
       "</table>\n",
       "</div>"
      ],
      "text/plain": [
       "               0        1        2        3        4       5\n",
       "0  1675451220000  23404.6  23406.2  23391.6  23399.0  2149.0\n",
       "1  1675451280000  23402.6  23419.4  23401.8  23406.1  2762.0\n",
       "2  1675451340000  23406.0  23406.0  23395.0  23397.8  1755.0\n",
       "3  1675451400000  23403.0  23405.0  23397.2  23402.3   847.0\n",
       "4  1675451460000  23402.3  23403.0  23386.0  23392.2  2564.0"
      ]
     },
     "execution_count": 39,
     "metadata": {},
     "output_type": "execute_result"
    }
   ],
   "source": [
    "okx_exchange = ccxt.okx()\n",
    "currency_pair = \"BTC/USDT:USDT\"\n",
    "pd.DataFrame(okx_exchange.fetch_ohlcv(currency_pair)).head()"
   ]
  },
  {
   "cell_type": "markdown",
   "id": "7c32709b",
   "metadata": {},
   "source": [
    "### okx REST SPOT trades"
   ]
  },
  {
   "cell_type": "code",
   "execution_count": 40,
   "id": "c96764a3",
   "metadata": {
    "ExecuteTime": {
     "end_time": "2023-02-03T20:46:23.645750Z",
     "start_time": "2023-02-03T20:46:23.641625Z"
    }
   },
   "outputs": [
    {
     "data": {
      "text/plain": [
       "True"
      ]
     },
     "execution_count": 40,
     "metadata": {},
     "output_type": "execute_result"
    }
   ],
   "source": [
    "okx_exchange.has[\"fetchTrades\"]"
   ]
  },
  {
   "cell_type": "code",
   "execution_count": 41,
   "id": "dbc04095",
   "metadata": {
    "ExecuteTime": {
     "end_time": "2023-02-03T20:46:24.966451Z",
     "start_time": "2023-02-03T20:46:24.751561Z"
    }
   },
   "outputs": [
    {
     "data": {
      "text/html": [
       "<div>\n",
       "<style scoped>\n",
       "    .dataframe tbody tr th:only-of-type {\n",
       "        vertical-align: middle;\n",
       "    }\n",
       "\n",
       "    .dataframe tbody tr th {\n",
       "        vertical-align: top;\n",
       "    }\n",
       "\n",
       "    .dataframe thead th {\n",
       "        text-align: right;\n",
       "    }\n",
       "</style>\n",
       "<table border=\"1\" class=\"dataframe\">\n",
       "  <thead>\n",
       "    <tr style=\"text-align: right;\">\n",
       "      <th></th>\n",
       "      <th>info</th>\n",
       "      <th>timestamp</th>\n",
       "      <th>datetime</th>\n",
       "      <th>symbol</th>\n",
       "      <th>id</th>\n",
       "      <th>order</th>\n",
       "      <th>type</th>\n",
       "      <th>takerOrMaker</th>\n",
       "      <th>side</th>\n",
       "      <th>price</th>\n",
       "      <th>amount</th>\n",
       "      <th>cost</th>\n",
       "      <th>fee</th>\n",
       "      <th>fees</th>\n",
       "    </tr>\n",
       "  </thead>\n",
       "  <tbody>\n",
       "    <tr>\n",
       "      <th>0</th>\n",
       "      <td>{'instId': 'BTC-USDT-SWAP', 'side': 'buy', 'sz...</td>\n",
       "      <td>1675457150720</td>\n",
       "      <td>2023-02-03T20:45:50.720Z</td>\n",
       "      <td>BTC/USDT:USDT</td>\n",
       "      <td>476745009</td>\n",
       "      <td>None</td>\n",
       "      <td>None</td>\n",
       "      <td>None</td>\n",
       "      <td>buy</td>\n",
       "      <td>23348.8</td>\n",
       "      <td>20.0</td>\n",
       "      <td>4669.760</td>\n",
       "      <td>None</td>\n",
       "      <td>[]</td>\n",
       "    </tr>\n",
       "    <tr>\n",
       "      <th>1</th>\n",
       "      <td>{'instId': 'BTC-USDT-SWAP', 'side': 'buy', 'sz...</td>\n",
       "      <td>1675457150720</td>\n",
       "      <td>2023-02-03T20:45:50.720Z</td>\n",
       "      <td>BTC/USDT:USDT</td>\n",
       "      <td>476745010</td>\n",
       "      <td>None</td>\n",
       "      <td>None</td>\n",
       "      <td>None</td>\n",
       "      <td>buy</td>\n",
       "      <td>23348.8</td>\n",
       "      <td>1.0</td>\n",
       "      <td>233.488</td>\n",
       "      <td>None</td>\n",
       "      <td>[]</td>\n",
       "    </tr>\n",
       "    <tr>\n",
       "      <th>2</th>\n",
       "      <td>{'instId': 'BTC-USDT-SWAP', 'side': 'buy', 'sz...</td>\n",
       "      <td>1675457150720</td>\n",
       "      <td>2023-02-03T20:45:50.720Z</td>\n",
       "      <td>BTC/USDT:USDT</td>\n",
       "      <td>476745011</td>\n",
       "      <td>None</td>\n",
       "      <td>None</td>\n",
       "      <td>None</td>\n",
       "      <td>buy</td>\n",
       "      <td>23348.8</td>\n",
       "      <td>20.0</td>\n",
       "      <td>4669.760</td>\n",
       "      <td>None</td>\n",
       "      <td>[]</td>\n",
       "    </tr>\n",
       "    <tr>\n",
       "      <th>3</th>\n",
       "      <td>{'instId': 'BTC-USDT-SWAP', 'side': 'sell', 's...</td>\n",
       "      <td>1675457150965</td>\n",
       "      <td>2023-02-03T20:45:50.965Z</td>\n",
       "      <td>BTC/USDT:USDT</td>\n",
       "      <td>476745012</td>\n",
       "      <td>None</td>\n",
       "      <td>None</td>\n",
       "      <td>None</td>\n",
       "      <td>sell</td>\n",
       "      <td>23348.7</td>\n",
       "      <td>10.0</td>\n",
       "      <td>2334.870</td>\n",
       "      <td>None</td>\n",
       "      <td>[]</td>\n",
       "    </tr>\n",
       "    <tr>\n",
       "      <th>4</th>\n",
       "      <td>{'instId': 'BTC-USDT-SWAP', 'side': 'sell', 's...</td>\n",
       "      <td>1675457152402</td>\n",
       "      <td>2023-02-03T20:45:52.402Z</td>\n",
       "      <td>BTC/USDT:USDT</td>\n",
       "      <td>476745013</td>\n",
       "      <td>None</td>\n",
       "      <td>None</td>\n",
       "      <td>None</td>\n",
       "      <td>sell</td>\n",
       "      <td>23350.9</td>\n",
       "      <td>1.0</td>\n",
       "      <td>233.509</td>\n",
       "      <td>None</td>\n",
       "      <td>[]</td>\n",
       "    </tr>\n",
       "  </tbody>\n",
       "</table>\n",
       "</div>"
      ],
      "text/plain": [
       "                                                info      timestamp  \\\n",
       "0  {'instId': 'BTC-USDT-SWAP', 'side': 'buy', 'sz...  1675457150720   \n",
       "1  {'instId': 'BTC-USDT-SWAP', 'side': 'buy', 'sz...  1675457150720   \n",
       "2  {'instId': 'BTC-USDT-SWAP', 'side': 'buy', 'sz...  1675457150720   \n",
       "3  {'instId': 'BTC-USDT-SWAP', 'side': 'sell', 's...  1675457150965   \n",
       "4  {'instId': 'BTC-USDT-SWAP', 'side': 'sell', 's...  1675457152402   \n",
       "\n",
       "                   datetime         symbol         id order  type  \\\n",
       "0  2023-02-03T20:45:50.720Z  BTC/USDT:USDT  476745009  None  None   \n",
       "1  2023-02-03T20:45:50.720Z  BTC/USDT:USDT  476745010  None  None   \n",
       "2  2023-02-03T20:45:50.720Z  BTC/USDT:USDT  476745011  None  None   \n",
       "3  2023-02-03T20:45:50.965Z  BTC/USDT:USDT  476745012  None  None   \n",
       "4  2023-02-03T20:45:52.402Z  BTC/USDT:USDT  476745013  None  None   \n",
       "\n",
       "  takerOrMaker  side    price  amount      cost   fee fees  \n",
       "0         None   buy  23348.8    20.0  4669.760  None   []  \n",
       "1         None   buy  23348.8     1.0   233.488  None   []  \n",
       "2         None   buy  23348.8    20.0  4669.760  None   []  \n",
       "3         None  sell  23348.7    10.0  2334.870  None   []  \n",
       "4         None  sell  23350.9     1.0   233.509  None   []  "
      ]
     },
     "execution_count": 41,
     "metadata": {},
     "output_type": "execute_result"
    }
   ],
   "source": [
    "pd.DataFrame(okx_exchange.fetch_trades(currency_pair)).head()"
   ]
  },
  {
   "cell_type": "markdown",
   "id": "d1ddf345",
   "metadata": {},
   "source": [
    "## okx REST futures"
   ]
  },
  {
   "cell_type": "code",
   "execution_count": 42,
   "id": "dd01d6d1",
   "metadata": {
    "ExecuteTime": {
     "end_time": "2023-02-03T20:46:26.314248Z",
     "start_time": "2023-02-03T20:46:26.310497Z"
    }
   },
   "outputs": [
    {
     "data": {
      "text/plain": [
       "True"
      ]
     },
     "execution_count": 42,
     "metadata": {},
     "output_type": "execute_result"
    }
   ],
   "source": [
    "okx_exchange.has[\"future\"]"
   ]
  },
  {
   "cell_type": "code",
   "execution_count": 43,
   "id": "afcdff40",
   "metadata": {
    "ExecuteTime": {
     "end_time": "2023-02-03T20:46:26.852840Z",
     "start_time": "2023-02-03T20:46:26.850204Z"
    }
   },
   "outputs": [],
   "source": [
    "future_params = {\"options\": {\"defaultType\": \"future\"}}"
   ]
  },
  {
   "cell_type": "code",
   "execution_count": 44,
   "id": "a76b5158",
   "metadata": {
    "ExecuteTime": {
     "end_time": "2023-02-03T20:46:27.559271Z",
     "start_time": "2023-02-03T20:46:27.555869Z"
    }
   },
   "outputs": [
    {
     "name": "stdout",
     "output_type": "stream",
     "text": [
      "Help on method fetch_order_book in module ccxt.okx:\n",
      "\n",
      "fetch_order_book(symbol, limit=None, params={}) method of ccxt.okx.okx instance\n",
      "    fetches information on open orders with bid(buy) and ask(sell) prices, volumes and other data\n",
      "    :param str symbol: unified symbol of the market to fetch the order book for\n",
      "    :param int|None limit: the maximum amount of order book entries to return\n",
      "    :param dict params: extra parameters specific to the okx api endpoint\n",
      "    :returns dict: A dictionary of `order book structures <https://docs.ccxt.com/en/latest/manual.html#order-book-structure>` indexed by market symbols\n",
      "\n"
     ]
    }
   ],
   "source": [
    "help(okx_exchange.fetch_order_book)"
   ]
  },
  {
   "cell_type": "markdown",
   "id": "19d1d6d9",
   "metadata": {},
   "source": [
    "### okx REST futures bid_ask"
   ]
  },
  {
   "cell_type": "code",
   "execution_count": 45,
   "id": "395eaa6e",
   "metadata": {
    "ExecuteTime": {
     "end_time": "2023-02-03T20:46:30.224943Z",
     "start_time": "2023-02-03T20:46:30.010353Z"
    }
   },
   "outputs": [
    {
     "data": {
      "text/html": [
       "<div>\n",
       "<style scoped>\n",
       "    .dataframe tbody tr th:only-of-type {\n",
       "        vertical-align: middle;\n",
       "    }\n",
       "\n",
       "    .dataframe tbody tr th {\n",
       "        vertical-align: top;\n",
       "    }\n",
       "\n",
       "    .dataframe thead th {\n",
       "        text-align: right;\n",
       "    }\n",
       "</style>\n",
       "<table border=\"1\" class=\"dataframe\">\n",
       "  <thead>\n",
       "    <tr style=\"text-align: right;\">\n",
       "      <th></th>\n",
       "      <th>symbol</th>\n",
       "      <th>bids</th>\n",
       "      <th>asks</th>\n",
       "      <th>timestamp</th>\n",
       "      <th>datetime</th>\n",
       "      <th>nonce</th>\n",
       "    </tr>\n",
       "  </thead>\n",
       "  <tbody>\n",
       "    <tr>\n",
       "      <th>0</th>\n",
       "      <td>BTC/USDT:USDT</td>\n",
       "      <td>[23344.6, 421.0]</td>\n",
       "      <td>[23344.7, 14.0]</td>\n",
       "      <td>1675457190007</td>\n",
       "      <td>2023-02-03T20:46:30.007Z</td>\n",
       "      <td>None</td>\n",
       "    </tr>\n",
       "    <tr>\n",
       "      <th>1</th>\n",
       "      <td>BTC/USDT:USDT</td>\n",
       "      <td>[23344.5, 125.0]</td>\n",
       "      <td>[23346.3, 2.0]</td>\n",
       "      <td>1675457190007</td>\n",
       "      <td>2023-02-03T20:46:30.007Z</td>\n",
       "      <td>None</td>\n",
       "    </tr>\n",
       "    <tr>\n",
       "      <th>2</th>\n",
       "      <td>BTC/USDT:USDT</td>\n",
       "      <td>[23344.4, 10.0]</td>\n",
       "      <td>[23346.4, 120.0]</td>\n",
       "      <td>1675457190007</td>\n",
       "      <td>2023-02-03T20:46:30.007Z</td>\n",
       "      <td>None</td>\n",
       "    </tr>\n",
       "    <tr>\n",
       "      <th>3</th>\n",
       "      <td>BTC/USDT:USDT</td>\n",
       "      <td>[23344.0, 9.0]</td>\n",
       "      <td>[23346.5, 10.0]</td>\n",
       "      <td>1675457190007</td>\n",
       "      <td>2023-02-03T20:46:30.007Z</td>\n",
       "      <td>None</td>\n",
       "    </tr>\n",
       "    <tr>\n",
       "      <th>4</th>\n",
       "      <td>BTC/USDT:USDT</td>\n",
       "      <td>[23343.8, 13.0]</td>\n",
       "      <td>[23346.6, 21.0]</td>\n",
       "      <td>1675457190007</td>\n",
       "      <td>2023-02-03T20:46:30.007Z</td>\n",
       "      <td>None</td>\n",
       "    </tr>\n",
       "  </tbody>\n",
       "</table>\n",
       "</div>"
      ],
      "text/plain": [
       "          symbol              bids              asks      timestamp  \\\n",
       "0  BTC/USDT:USDT  [23344.6, 421.0]   [23344.7, 14.0]  1675457190007   \n",
       "1  BTC/USDT:USDT  [23344.5, 125.0]    [23346.3, 2.0]  1675457190007   \n",
       "2  BTC/USDT:USDT   [23344.4, 10.0]  [23346.4, 120.0]  1675457190007   \n",
       "3  BTC/USDT:USDT    [23344.0, 9.0]   [23346.5, 10.0]  1675457190007   \n",
       "4  BTC/USDT:USDT   [23343.8, 13.0]   [23346.6, 21.0]  1675457190007   \n",
       "\n",
       "                   datetime nonce  \n",
       "0  2023-02-03T20:46:30.007Z  None  \n",
       "1  2023-02-03T20:46:30.007Z  None  \n",
       "2  2023-02-03T20:46:30.007Z  None  \n",
       "3  2023-02-03T20:46:30.007Z  None  \n",
       "4  2023-02-03T20:46:30.007Z  None  "
      ]
     },
     "execution_count": 45,
     "metadata": {},
     "output_type": "execute_result"
    }
   ],
   "source": [
    "pd.DataFrame(\n",
    "    okx_exchange.fetch_order_book(currency_pair, 10, future_params)\n",
    ").head()"
   ]
  },
  {
   "cell_type": "markdown",
   "id": "2c63d8cb",
   "metadata": {},
   "source": [
    "### okx REST futures OHLCV"
   ]
  },
  {
   "cell_type": "code",
   "execution_count": 46,
   "id": "1eb48b7c",
   "metadata": {
    "ExecuteTime": {
     "end_time": "2023-02-03T20:46:31.707383Z",
     "start_time": "2023-02-03T20:46:31.496029Z"
    }
   },
   "outputs": [
    {
     "data": {
      "text/html": [
       "<div>\n",
       "<style scoped>\n",
       "    .dataframe tbody tr th:only-of-type {\n",
       "        vertical-align: middle;\n",
       "    }\n",
       "\n",
       "    .dataframe tbody tr th {\n",
       "        vertical-align: top;\n",
       "    }\n",
       "\n",
       "    .dataframe thead th {\n",
       "        text-align: right;\n",
       "    }\n",
       "</style>\n",
       "<table border=\"1\" class=\"dataframe\">\n",
       "  <thead>\n",
       "    <tr style=\"text-align: right;\">\n",
       "      <th></th>\n",
       "      <th>0</th>\n",
       "      <th>1</th>\n",
       "      <th>2</th>\n",
       "      <th>3</th>\n",
       "      <th>4</th>\n",
       "      <th>5</th>\n",
       "    </tr>\n",
       "  </thead>\n",
       "  <tbody>\n",
       "    <tr>\n",
       "      <th>0</th>\n",
       "      <td>1675451220000</td>\n",
       "      <td>23404.6</td>\n",
       "      <td>23406.2</td>\n",
       "      <td>23391.6</td>\n",
       "      <td>23399.0</td>\n",
       "      <td>2149.0</td>\n",
       "    </tr>\n",
       "    <tr>\n",
       "      <th>1</th>\n",
       "      <td>1675451280000</td>\n",
       "      <td>23402.6</td>\n",
       "      <td>23419.4</td>\n",
       "      <td>23401.8</td>\n",
       "      <td>23406.1</td>\n",
       "      <td>2762.0</td>\n",
       "    </tr>\n",
       "    <tr>\n",
       "      <th>2</th>\n",
       "      <td>1675451340000</td>\n",
       "      <td>23406.0</td>\n",
       "      <td>23406.0</td>\n",
       "      <td>23395.0</td>\n",
       "      <td>23397.8</td>\n",
       "      <td>1755.0</td>\n",
       "    </tr>\n",
       "    <tr>\n",
       "      <th>3</th>\n",
       "      <td>1675451400000</td>\n",
       "      <td>23403.0</td>\n",
       "      <td>23405.0</td>\n",
       "      <td>23397.2</td>\n",
       "      <td>23402.3</td>\n",
       "      <td>847.0</td>\n",
       "    </tr>\n",
       "    <tr>\n",
       "      <th>4</th>\n",
       "      <td>1675451460000</td>\n",
       "      <td>23402.3</td>\n",
       "      <td>23403.0</td>\n",
       "      <td>23386.0</td>\n",
       "      <td>23392.2</td>\n",
       "      <td>2564.0</td>\n",
       "    </tr>\n",
       "  </tbody>\n",
       "</table>\n",
       "</div>"
      ],
      "text/plain": [
       "               0        1        2        3        4       5\n",
       "0  1675451220000  23404.6  23406.2  23391.6  23399.0  2149.0\n",
       "1  1675451280000  23402.6  23419.4  23401.8  23406.1  2762.0\n",
       "2  1675451340000  23406.0  23406.0  23395.0  23397.8  1755.0\n",
       "3  1675451400000  23403.0  23405.0  23397.2  23402.3   847.0\n",
       "4  1675451460000  23402.3  23403.0  23386.0  23392.2  2564.0"
      ]
     },
     "execution_count": 46,
     "metadata": {},
     "output_type": "execute_result"
    }
   ],
   "source": [
    "pd.DataFrame(okx_exchange.fetch_ohlcv(currency_pair, params=future_params)).head()"
   ]
  },
  {
   "cell_type": "markdown",
   "id": "0815054b",
   "metadata": {},
   "source": [
    "### okx REST futures OHLCV trades"
   ]
  },
  {
   "cell_type": "code",
   "execution_count": 47,
   "id": "969d26cd",
   "metadata": {
    "ExecuteTime": {
     "end_time": "2023-02-03T20:46:33.399549Z",
     "start_time": "2023-02-03T20:46:33.140728Z"
    }
   },
   "outputs": [
    {
     "data": {
      "text/html": [
       "<div>\n",
       "<style scoped>\n",
       "    .dataframe tbody tr th:only-of-type {\n",
       "        vertical-align: middle;\n",
       "    }\n",
       "\n",
       "    .dataframe tbody tr th {\n",
       "        vertical-align: top;\n",
       "    }\n",
       "\n",
       "    .dataframe thead th {\n",
       "        text-align: right;\n",
       "    }\n",
       "</style>\n",
       "<table border=\"1\" class=\"dataframe\">\n",
       "  <thead>\n",
       "    <tr style=\"text-align: right;\">\n",
       "      <th></th>\n",
       "      <th>info</th>\n",
       "      <th>timestamp</th>\n",
       "      <th>datetime</th>\n",
       "      <th>symbol</th>\n",
       "      <th>id</th>\n",
       "      <th>order</th>\n",
       "      <th>type</th>\n",
       "      <th>takerOrMaker</th>\n",
       "      <th>side</th>\n",
       "      <th>price</th>\n",
       "      <th>amount</th>\n",
       "      <th>cost</th>\n",
       "      <th>fee</th>\n",
       "      <th>fees</th>\n",
       "    </tr>\n",
       "  </thead>\n",
       "  <tbody>\n",
       "    <tr>\n",
       "      <th>0</th>\n",
       "      <td>{'instId': 'BTC-USDT-SWAP', 'side': 'sell', 's...</td>\n",
       "      <td>1675457175510</td>\n",
       "      <td>2023-02-03T20:46:15.510Z</td>\n",
       "      <td>BTC/USDT:USDT</td>\n",
       "      <td>476745066</td>\n",
       "      <td>None</td>\n",
       "      <td>None</td>\n",
       "      <td>None</td>\n",
       "      <td>sell</td>\n",
       "      <td>23344.7</td>\n",
       "      <td>40.0</td>\n",
       "      <td>9337.880</td>\n",
       "      <td>None</td>\n",
       "      <td>[]</td>\n",
       "    </tr>\n",
       "    <tr>\n",
       "      <th>1</th>\n",
       "      <td>{'instId': 'BTC-USDT-SWAP', 'side': 'sell', 's...</td>\n",
       "      <td>1675457175510</td>\n",
       "      <td>2023-02-03T20:46:15.510Z</td>\n",
       "      <td>BTC/USDT:USDT</td>\n",
       "      <td>476745067</td>\n",
       "      <td>None</td>\n",
       "      <td>None</td>\n",
       "      <td>None</td>\n",
       "      <td>sell</td>\n",
       "      <td>23344.7</td>\n",
       "      <td>10.0</td>\n",
       "      <td>2334.470</td>\n",
       "      <td>None</td>\n",
       "      <td>[]</td>\n",
       "    </tr>\n",
       "    <tr>\n",
       "      <th>2</th>\n",
       "      <td>{'instId': 'BTC-USDT-SWAP', 'side': 'sell', 's...</td>\n",
       "      <td>1675457175510</td>\n",
       "      <td>2023-02-03T20:46:15.510Z</td>\n",
       "      <td>BTC/USDT:USDT</td>\n",
       "      <td>476745068</td>\n",
       "      <td>None</td>\n",
       "      <td>None</td>\n",
       "      <td>None</td>\n",
       "      <td>sell</td>\n",
       "      <td>23344.7</td>\n",
       "      <td>5.0</td>\n",
       "      <td>1167.235</td>\n",
       "      <td>None</td>\n",
       "      <td>[]</td>\n",
       "    </tr>\n",
       "    <tr>\n",
       "      <th>3</th>\n",
       "      <td>{'instId': 'BTC-USDT-SWAP', 'side': 'sell', 's...</td>\n",
       "      <td>1675457175510</td>\n",
       "      <td>2023-02-03T20:46:15.510Z</td>\n",
       "      <td>BTC/USDT:USDT</td>\n",
       "      <td>476745069</td>\n",
       "      <td>None</td>\n",
       "      <td>None</td>\n",
       "      <td>None</td>\n",
       "      <td>sell</td>\n",
       "      <td>23344.7</td>\n",
       "      <td>44.0</td>\n",
       "      <td>10271.668</td>\n",
       "      <td>None</td>\n",
       "      <td>[]</td>\n",
       "    </tr>\n",
       "    <tr>\n",
       "      <th>4</th>\n",
       "      <td>{'instId': 'BTC-USDT-SWAP', 'side': 'sell', 's...</td>\n",
       "      <td>1675457176499</td>\n",
       "      <td>2023-02-03T20:46:16.499Z</td>\n",
       "      <td>BTC/USDT:USDT</td>\n",
       "      <td>476745070</td>\n",
       "      <td>None</td>\n",
       "      <td>None</td>\n",
       "      <td>None</td>\n",
       "      <td>sell</td>\n",
       "      <td>23344.7</td>\n",
       "      <td>20.0</td>\n",
       "      <td>4668.940</td>\n",
       "      <td>None</td>\n",
       "      <td>[]</td>\n",
       "    </tr>\n",
       "  </tbody>\n",
       "</table>\n",
       "</div>"
      ],
      "text/plain": [
       "                                                info      timestamp  \\\n",
       "0  {'instId': 'BTC-USDT-SWAP', 'side': 'sell', 's...  1675457175510   \n",
       "1  {'instId': 'BTC-USDT-SWAP', 'side': 'sell', 's...  1675457175510   \n",
       "2  {'instId': 'BTC-USDT-SWAP', 'side': 'sell', 's...  1675457175510   \n",
       "3  {'instId': 'BTC-USDT-SWAP', 'side': 'sell', 's...  1675457175510   \n",
       "4  {'instId': 'BTC-USDT-SWAP', 'side': 'sell', 's...  1675457176499   \n",
       "\n",
       "                   datetime         symbol         id order  type  \\\n",
       "0  2023-02-03T20:46:15.510Z  BTC/USDT:USDT  476745066  None  None   \n",
       "1  2023-02-03T20:46:15.510Z  BTC/USDT:USDT  476745067  None  None   \n",
       "2  2023-02-03T20:46:15.510Z  BTC/USDT:USDT  476745068  None  None   \n",
       "3  2023-02-03T20:46:15.510Z  BTC/USDT:USDT  476745069  None  None   \n",
       "4  2023-02-03T20:46:16.499Z  BTC/USDT:USDT  476745070  None  None   \n",
       "\n",
       "  takerOrMaker  side    price  amount       cost   fee fees  \n",
       "0         None  sell  23344.7    40.0   9337.880  None   []  \n",
       "1         None  sell  23344.7    10.0   2334.470  None   []  \n",
       "2         None  sell  23344.7     5.0   1167.235  None   []  \n",
       "3         None  sell  23344.7    44.0  10271.668  None   []  \n",
       "4         None  sell  23344.7    20.0   4668.940  None   []  "
      ]
     },
     "execution_count": 47,
     "metadata": {},
     "output_type": "execute_result"
    }
   ],
   "source": [
    "pd.DataFrame(\n",
    "    okx_exchange.fetch_trades(currency_pair, params=future_params)\n",
    ").head()"
   ]
  },
  {
   "cell_type": "markdown",
   "id": "e5f3a437",
   "metadata": {},
   "source": [
    "# deribit REST"
   ]
  },
  {
   "cell_type": "code",
   "execution_count": 48,
   "id": "b97e08ad",
   "metadata": {
    "ExecuteTime": {
     "end_time": "2023-02-03T20:46:34.565293Z",
     "start_time": "2023-02-03T20:46:34.562771Z"
    }
   },
   "outputs": [],
   "source": [
    "exchange_id = \"deribit\""
   ]
  },
  {
   "cell_type": "markdown",
   "id": "41196e31",
   "metadata": {},
   "source": [
    "## deribit REST SPOT"
   ]
  },
  {
   "cell_type": "code",
   "execution_count": 49,
   "id": "43ccac13",
   "metadata": {
    "ExecuteTime": {
     "end_time": "2023-02-03T20:46:36.815998Z",
     "start_time": "2023-02-03T20:46:36.255690Z"
    }
   },
   "outputs": [],
   "source": [
    "contract_type = \"spot\"\n",
    "extractor = imvcdexex.CcxtExtractor(exchange_id, contract_type)"
   ]
  },
  {
   "cell_type": "markdown",
   "id": "93d768d9",
   "metadata": {},
   "source": [
    "### deribit REST SPOT bid_ask"
   ]
  },
  {
   "cell_type": "code",
   "execution_count": 50,
   "id": "21ef9e7e",
   "metadata": {
    "ExecuteTime": {
     "end_time": "2023-02-03T20:46:38.345212Z",
     "start_time": "2023-02-03T20:46:38.242076Z"
    }
   },
   "outputs": [
    {
     "ename": "AssertionError",
     "evalue": "\n################################################################################\n* Failed assertion *\n'BTC/USDT' in '['AVAX/USDC:USDC', 'ETH/USDC:USDC', 'ADA/USDC:USDC', 'DOT/USDC:USDC', 'BTC/USDC:USDC', 'XRP/USDC:USDC', 'SOL/USDC:USDC', 'LTC/USDC:USDC', 'MATIC/USDC:USDC', 'UNI/USDC:USDC', 'LINK/USDC:USDC', 'ALGO/USDC:USDC', 'NEAR/USDC:USDC', 'TRX/USDC:USDC', 'DOGE/USDC:USDC', 'BCH/USDC:USDC', 'ETH/USD:ETH-230204-800-C', 'ETH/USD:ETH-230204-800-P', 'ETH/USD:ETH-230204-900-C', 'ETH/USD:ETH-230204-900-P', 'ETH/USD:ETH-230204-1000-C', 'ETH/USD:ETH-230204-1000-P', 'ETH/USD:ETH-230204-1100-C', 'ETH/USD:ETH-230204-1100-P', 'ETH/USD:ETH-230204-1200-C', 'ETH/USD:ETH-230204-1200-P', 'ETH/USD:ETH-230204-1300-C', 'ETH/USD:ETH-230204-1300-P', 'ETH/USD:ETH-230204-1350-C', 'ETH/USD:ETH-230204-1350-P', 'ETH/USD:ETH-230204-1400-C', 'ETH/USD:ETH-230204-1400-P', 'ETH/USD:ETH-230204-1450-C', 'ETH/USD:ETH-230204-1450-P', 'ETH/USD:ETH-230204-1500-C', 'ETH/USD:ETH-230204-1500-P', 'ETH/USD:ETH-230204-1525-C', 'ETH/USD:ETH-230204-1525-P', 'ETH/USD:ETH-230204-1550-C', 'ETH/USD:ETH-230204-1550-P', 'ETH/USD:ETH-230204-1575-C', 'ETH/USD:ETH-230204-1575-P', 'ETH/USD:ETH-230204-1600-C', 'ETH/USD:ETH-230204-1600-P', 'ETH/USD:ETH-230204-1625-C', 'ETH/USD:ETH-230204-1625-P', 'ETH/USD:ETH-230204-1650-C', 'ETH/USD:ETH-230204-1650-P', 'ETH/USD:ETH-230204-1675-C', 'ETH/USD:ETH-230204-1675-P', 'ETH/USD:ETH-230204-1700-C', 'ETH/USD:ETH-230204-1700-P', 'ETH/USD:ETH-230204-1725-C', 'ETH/USD:ETH-230204-1725-P', 'ETH/USD:ETH-230204-1750-C', 'ETH/USD:ETH-230204-1750-P', 'ETH/USD:ETH-230204-1775-C', 'ETH/USD:ETH-230204-1775-P', 'ETH/USD:ETH-230204-1800-C', 'ETH/USD:ETH-230204-1800-P', 'ETH/USD:ETH-230204-1850-C', 'ETH/USD:ETH-230204-1850-P', 'ETH/USD:ETH-230204-1900-C', 'ETH/USD:ETH-230204-1900-P', 'ETH/USD:ETH-230204-1950-C', 'ETH/USD:ETH-230204-1950-P', 'ETH/USD:ETH-230204-2000-C', 'ETH/USD:ETH-230204-2000-P', 'ETH-STRD-4FEB23-1650', 'ETH/USD:ETH-230205-800-C', 'ETH/USD:ETH-230205-800-P', 'ETH/USD:ETH-230205-900-C', 'ETH/USD:ETH-230205-900-P', 'ETH/USD:ETH-230205-1000-C', 'ETH/USD:ETH-230205-1000-P', 'ETH/USD:ETH-230205-1100-C', 'ETH/USD:ETH-230205-1100-P', 'ETH/USD:ETH-230205-1200-C', 'ETH/USD:ETH-230205-1200-P', 'ETH/USD:ETH-230205-1300-C', 'ETH/USD:ETH-230205-1300-P', 'ETH/USD:ETH-230205-1350-C', 'ETH/USD:ETH-230205-1350-P', 'ETH/USD:ETH-230205-1400-C', 'ETH/USD:ETH-230205-1400-P', 'ETH/USD:ETH-230205-1450-C', 'ETH/USD:ETH-230205-1450-P', 'ETH/USD:ETH-230205-1475-C', 'ETH/USD:ETH-230205-1475-P', 'ETH/USD:ETH-230205-1500-C', 'ETH/USD:ETH-230205-1500-P', 'ETH/USD:ETH-230205-1525-C', 'ETH/USD:ETH-230205-1525-P', 'ETH/USD:ETH-230205-1550-C', 'ETH/USD:ETH-230205-1550-P', 'ETH/USD:ETH-230205-1575-C', 'ETH/USD:ETH-230205-1575-P', 'ETH/USD:ETH-230205-1600-C', 'ETH/USD:ETH-230205-1600-P', 'ETH/USD:ETH-230205-1625-C', 'ETH/USD:ETH-230205-1625-P', 'ETH/USD:ETH-230205-1650-C', 'ETH/USD:ETH-230205-1650-P', 'ETH/USD:ETH-230205-1675-C', 'ETH/USD:ETH-230205-1675-P', 'ETH/USD:ETH-230205-1700-C', 'ETH/USD:ETH-230205-1700-P', 'ETH/USD:ETH-230205-1725-C', 'ETH/USD:ETH-230205-1725-P', 'ETH/USD:ETH-230205-1750-C', 'ETH/USD:ETH-230205-1750-P', 'ETH/USD:ETH-230205-1775-C', 'ETH/USD:ETH-230205-1775-P', 'ETH/USD:ETH-230205-1800-C', 'ETH/USD:ETH-230205-1800-P', 'ETH/USD:ETH-230205-1850-C', 'ETH/USD:ETH-230205-1850-P', 'ETH/USD:ETH-230205-1900-C', 'ETH/USD:ETH-230205-1900-P', 'ETH/USD:ETH-230205-2000-C', 'ETH/USD:ETH-230205-2000-P', 'ETH/USD:ETH-230210', 'ETH/USD:ETH-230210-600-C', 'ETH/USD:ETH-230210-600-P', 'ETH/USD:ETH-230210-800-C', 'ETH/USD:ETH-230210-800-P', 'ETH/USD:ETH-230210-900-C', 'ETH/USD:ETH-230210-900-P', 'ETH/USD:ETH-230210-1000-C', 'ETH/USD:ETH-230210-1000-P', 'ETH/USD:ETH-230210-1100-C', 'ETH/USD:ETH-230210-1100-P', 'ETH/USD:ETH-230210-1150-C', 'ETH/USD:ETH-230210-1150-P', 'ETH/USD:ETH-230210-1200-C', 'ETH/USD:ETH-230210-1200-P', 'ETH/USD:ETH-230210-1250-C', 'ETH/USD:ETH-230210-1250-P', 'ETH/USD:ETH-230210-1300-C', 'ETH/USD:ETH-230210-1300-P', 'ETH/USD:ETH-230210-1350-C', 'ETH/USD:ETH-230210-1350-P', 'ETH/USD:ETH-230210-1400-C', 'ETH/USD:ETH-230210-1400-P', 'ETH/USD:ETH-230210-1450-C', 'ETH/USD:ETH-230210-1450-P', 'ETH/USD:ETH-230210-1500-C', 'ETH/USD:ETH-230210-1500-P', 'ETH/USD:ETH-230210-1550-C', 'ETH/USD:ETH-230210-1550-P', 'ETH/USD:ETH-230210-1600-C', 'ETH/USD:ETH-230210-1600-P', 'ETH/USD:ETH-230210-1650-C', 'ETH/USD:ETH-230210-1650-P', 'ETH/USD:ETH-230210-1700-C', 'ETH/USD:ETH-230210-1700-P', 'ETH/USD:ETH-230210-1750-C', 'ETH/USD:ETH-230210-1750-P', 'ETH/USD:ETH-230210-1800-C', 'ETH/USD:ETH-230210-1800-P', 'ETH/USD:ETH-230210-1850-C', 'ETH/USD:ETH-230210-1850-P', 'ETH/USD:ETH-230210-1900-C', 'ETH/USD:ETH-230210-1900-P', 'ETH/USD:ETH-230210-1950-C', 'ETH/USD:ETH-230210-1950-P', 'ETH/USD:ETH-230210-2000-C', 'ETH/USD:ETH-230210-2000-P', 'ETH/USD:ETH-230210-2200-C', 'ETH/USD:ETH-230210-2200-P', 'ETH/USD:ETH-230210-2400-C', 'ETH/USD:ETH-230210-2400-P', 'ETH/USD:ETH-230210-2600-C', 'ETH/USD:ETH-230210-2600-P', 'ETH/USD:ETH-230210-2800-C', 'ETH/USD:ETH-230210-2800-P', 'ETH/USD:ETH-230210-3000-C', 'ETH/USD:ETH-230210-3000-P', 'ETH-PS-10FEB23-1500_1100', 'ETH/USD:ETH-230217', 'ETH/USD:ETH-230217-800-C', 'ETH/USD:ETH-230217-800-P', 'ETH/USD:ETH-230217-900-C', 'ETH/USD:ETH-230217-900-P', 'ETH/USD:ETH-230217-1000-C', 'ETH/USD:ETH-230217-1000-P', 'ETH/USD:ETH-230217-1100-C', 'ETH/USD:ETH-230217-1100-P', 'ETH/USD:ETH-230217-1200-C', 'ETH/USD:ETH-230217-1200-P', 'ETH/USD:ETH-230217-1250-C', 'ETH/USD:ETH-230217-1250-P', 'ETH/USD:ETH-230217-1300-C', 'ETH/USD:ETH-230217-1300-P', 'ETH/USD:ETH-230217-1350-C', 'ETH/USD:ETH-230217-1350-P', 'ETH/USD:ETH-230217-1400-C', 'ETH/USD:ETH-230217-1400-P', 'ETH/USD:ETH-230217-1450-C', 'ETH/USD:ETH-230217-1450-P', 'ETH/USD:ETH-230217-1500-C', 'ETH/USD:ETH-230217-1500-P', 'ETH/USD:ETH-230217-1550-C', 'ETH/USD:ETH-230217-1550-P', 'ETH/USD:ETH-230217-1600-C', 'ETH/USD:ETH-230217-1600-P', 'ETH/USD:ETH-230217-1650-C', 'ETH/USD:ETH-230217-1650-P', 'ETH/USD:ETH-230217-1700-C', 'ETH/USD:ETH-230217-1700-P', 'ETH/USD:ETH-230217-1750-C', 'ETH/USD:ETH-230217-1750-P', 'ETH/USD:ETH-230217-1800-C', 'ETH/USD:ETH-230217-1800-P', 'ETH/USD:ETH-230217-1900-C', 'ETH/USD:ETH-230217-1900-P', 'ETH/USD:ETH-230217-2000-C', 'ETH/USD:ETH-230217-2000-P', 'ETH/USD:ETH-230217-2200-C', 'ETH/USD:ETH-230217-2200-P', 'ETH/USD:ETH-230217-2400-C', 'ETH/USD:ETH-230217-2400-P', 'ETH/USD:ETH-230217-2600-C', 'ETH/USD:ETH-230217-2600-P', 'ETH/USD:ETH-230217-2800-C', 'ETH/USD:ETH-230217-2800-P', 'ETH/USD:ETH-230217-3000-C', 'ETH/USD:ETH-230217-3000-P', 'ETH-STRG-17FEB23-1650_1700', 'ETH/USD:ETH-230224', 'ETH/USD:ETH-230224-400-C', 'ETH/USD:ETH-230224-400-P', 'ETH/USD:ETH-230224-500-C', 'ETH/USD:ETH-230224-500-P', 'ETH/USD:ETH-230224-600-C', 'ETH/USD:ETH-230224-600-P', 'ETH/USD:ETH-230224-700-C', 'ETH/USD:ETH-230224-700-P', 'ETH/USD:ETH-230224-800-C', 'ETH/USD:ETH-230224-800-P', 'ETH/USD:ETH-230224-900-C', 'ETH/USD:ETH-230224-900-P', 'ETH/USD:ETH-230224-1000-C', 'ETH/USD:ETH-230224-1000-P', 'ETH/USD:ETH-230224-1100-C', 'ETH/USD:ETH-230224-1100-P', 'ETH/USD:ETH-230224-1200-C', 'ETH/USD:ETH-230224-1200-P', 'ETH/USD:ETH-230224-1300-C', 'ETH/USD:ETH-230224-1300-P', 'ETH/USD:ETH-230224-1400-C', 'ETH/USD:ETH-230224-1400-P', 'ETH/USD:ETH-230224-1500-C', 'ETH/USD:ETH-230224-1500-P', 'ETH/USD:ETH-230224-1550-C', 'ETH/USD:ETH-230224-1550-P', 'ETH/USD:ETH-230224-1600-C', 'ETH/USD:ETH-230224-1600-P', 'ETH/USD:ETH-230224-1650-C', 'ETH/USD:ETH-230224-1650-P', 'ETH/USD:ETH-230224-1700-C', 'ETH/USD:ETH-230224-1700-P', 'ETH/USD:ETH-230224-1750-C', 'ETH/USD:ETH-230224-1750-P', 'ETH/USD:ETH-230224-1800-C', 'ETH/USD:ETH-230224-1800-P', 'ETH/USD:ETH-230224-1900-C', 'ETH/USD:ETH-230224-1900-P', 'ETH/USD:ETH-230224-2000-C', 'ETH/USD:ETH-230224-2000-P', 'ETH/USD:ETH-230224-2100-C', 'ETH/USD:ETH-230224-2100-P', 'ETH/USD:ETH-230224-2200-C', 'ETH/USD:ETH-230224-2200-P', 'ETH/USD:ETH-230224-2400-C', 'ETH/USD:ETH-230224-2400-P', 'ETH/USD:ETH-230224-2600-C', 'ETH/USD:ETH-230224-2600-P', 'ETH/USD:ETH-230224-2800-C', 'ETH/USD:ETH-230224-2800-P', 'ETH-FS-31MAR23_24FEB23', 'ETH-PS-24FEB23-1500_1100', 'ETH-CCAL-31MAR23_24FEB23-1800', 'ETH/USD:ETH-230331', 'ETH/USD:ETH-230331-200-C', 'ETH/USD:ETH-230331-200-P', 'ETH/USD:ETH-230331-300-C', 'ETH/USD:ETH-230331-300-P', 'ETH/USD:ETH-230331-400-C', 'ETH/USD:ETH-230331-400-P', 'ETH/USD:ETH-230331-500-C', 'ETH/USD:ETH-230331-500-P', 'ETH/USD:ETH-230331-600-C', 'ETH/USD:ETH-230331-600-P', 'ETH/USD:ETH-230331-700-C', 'ETH/USD:ETH-230331-700-P', 'ETH/USD:ETH-230331-800-C', 'ETH/USD:ETH-230331-800-P', 'ETH/USD:ETH-230331-900-C', 'ETH/USD:ETH-230331-900-P', 'ETH/USD:ETH-230331-1000-C', 'ETH/USD:ETH-230331-1000-P', 'ETH/USD:ETH-230331-1100-C', 'ETH/USD:ETH-230331-1100-P', 'ETH/USD:ETH-230331-1200-C', 'ETH/USD:ETH-230331-1200-P', 'ETH/USD:ETH-230331-1300-C', 'ETH/USD:ETH-230331-1300-P', 'ETH/USD:ETH-230331-1400-C', 'ETH/USD:ETH-230331-1400-P', 'ETH/USD:ETH-230331-1500-C', 'ETH/USD:ETH-230331-1500-P', 'ETH/USD:ETH-230331-1600-C', 'ETH/USD:ETH-230331-1600-P', 'ETH/USD:ETH-230331-1700-C', 'ETH/USD:ETH-230331-1700-P', 'ETH/USD:ETH-230331-1800-C', 'ETH/USD:ETH-230331-1800-P', 'ETH/USD:ETH-230331-1900-C', 'ETH/USD:ETH-230331-1900-P', 'ETH/USD:ETH-230331-2000-C', 'ETH/USD:ETH-230331-2000-P', 'ETH/USD:ETH-230331-2100-C', 'ETH/USD:ETH-230331-2100-P', 'ETH/USD:ETH-230331-2200-C', 'ETH/USD:ETH-230331-2200-P', 'ETH/USD:ETH-230331-2300-C', 'ETH/USD:ETH-230331-2300-P', 'ETH/USD:ETH-230331-2400-C', 'ETH/USD:ETH-230331-2400-P', 'ETH/USD:ETH-230331-2500-C', 'ETH/USD:ETH-230331-2500-P', 'ETH/USD:ETH-230331-2600-C', 'ETH/USD:ETH-230331-2600-P', 'ETH/USD:ETH-230331-2800-C', 'ETH/USD:ETH-230331-2800-P', 'ETH/USD:ETH-230331-3000-C', 'ETH/USD:ETH-230331-3000-P', 'ETH/USD:ETH-230331-3200-C', 'ETH/USD:ETH-230331-3200-P', 'ETH/USD:ETH-230331-3400-C', 'ETH/USD:ETH-230331-3400-P', 'ETH/USD:ETH-230331-3500-C', 'ETH/USD:ETH-230331-3500-P', 'ETH/USD:ETH-230331-4000-C', 'ETH/USD:ETH-230331-4000-P', 'ETH/USD:ETH-230331-4500-C', 'ETH/USD:ETH-230331-4500-P', 'ETH/USD:ETH-230331-5000-C', 'ETH/USD:ETH-230331-5000-P', 'ETH/USD:ETH-230331-5500-C', 'ETH/USD:ETH-230331-5500-P', 'ETH/USD:ETH-230331-6000-C', 'ETH/USD:ETH-230331-6000-P', 'ETH/USD:ETH-230331-6500-C', 'ETH/USD:ETH-230331-6500-P', 'ETH/USD:ETH-230331-7000-C', 'ETH/USD:ETH-230331-7000-P', 'ETH/USD:ETH-230331-8000-C', 'ETH/USD:ETH-230331-8000-P', 'ETH/USD:ETH-230331-9000-C', 'ETH/USD:ETH-230331-9000-P', 'ETH/USD:ETH-230331-10000-C', 'ETH/USD:ETH-230331-10000-P', 'ETH/USD:ETH-230331-15000-C', 'ETH/USD:ETH-230331-15000-P', 'ETH/USD:ETH-230331-20000-C', 'ETH/USD:ETH-230331-20000-P', 'ETH/USD:ETH-230331-25000-C', 'ETH/USD:ETH-230331-25000-P', 'ETH/USD:ETH-230331-30000-C', 'ETH/USD:ETH-230331-30000-P', 'ETH-FS-31MAR23_PERP', 'ETH-FS-30JUN23_31MAR23', 'ETH-FS-29SEP23_31MAR23', 'ETH/USD:ETH-230428-600-C', 'ETH/USD:ETH-230428-600-P', 'ETH/USD:ETH-230428-700-C', 'ETH/USD:ETH-230428-700-P', 'ETH/USD:ETH-230428-800-C', 'ETH/USD:ETH-230428-800-P', 'ETH/USD:ETH-230428-900-C', 'ETH/USD:ETH-230428-900-P', 'ETH/USD:ETH-230428-1000-C', 'ETH/USD:ETH-230428-1000-P', 'ETH/USD:ETH-230428-1100-C', 'ETH/USD:ETH-230428-1100-P', 'ETH/USD:ETH-230428-1200-C', 'ETH/USD:ETH-230428-1200-P', 'ETH/USD:ETH-230428-1300-C', 'ETH/USD:ETH-230428-1300-P', 'ETH/USD:ETH-230428-1400-C', 'ETH/USD:ETH-230428-1400-P', 'ETH/USD:ETH-230428-1500-C', 'ETH/USD:ETH-230428-1500-P', 'ETH/USD:ETH-230428-1600-C', 'ETH/USD:ETH-230428-1600-P', 'ETH/USD:ETH-230428-1700-C', 'ETH/USD:ETH-230428-1700-P', 'ETH/USD:ETH-230428-1800-C', 'ETH/USD:ETH-230428-1800-P', 'ETH/USD:ETH-230428-1900-C', 'ETH/USD:ETH-230428-1900-P', 'ETH/USD:ETH-230428-2000-C', 'ETH/USD:ETH-230428-2000-P', 'ETH/USD:ETH-230428-2100-C', 'ETH/USD:ETH-230428-2100-P', 'ETH/USD:ETH-230428-2200-C', 'ETH/USD:ETH-230428-2200-P', 'ETH/USD:ETH-230428-2300-C', 'ETH/USD:ETH-230428-2300-P', 'ETH/USD:ETH-230428-2400-C', 'ETH/USD:ETH-230428-2400-P', 'ETH/USD:ETH-230428-2500-C', 'ETH/USD:ETH-230428-2500-P', 'ETH/USD:ETH-230428-2600-C', 'ETH/USD:ETH-230428-2600-P', 'ETH/USD:ETH-230428-2800-C', 'ETH/USD:ETH-230428-2800-P', 'ETH/USD:ETH-230428-3000-C', 'ETH/USD:ETH-230428-3000-P', 'ETH/USD:ETH-230428-3200-C', 'ETH/USD:ETH-230428-3200-P', 'ETH/USD:ETH-230428-3400-C', 'ETH/USD:ETH-230428-3400-P', 'ETH/USD:ETH-230428-3600-C', 'ETH/USD:ETH-230428-3600-P', 'ETH/USD:ETH-230630', 'ETH/USD:ETH-230630-100-C', 'ETH/USD:ETH-230630-100-P', 'ETH/USD:ETH-230630-200-C', 'ETH/USD:ETH-230630-200-P', 'ETH/USD:ETH-230630-300-C', 'ETH/USD:ETH-230630-300-P', 'ETH/USD:ETH-230630-400-C', 'ETH/USD:ETH-230630-400-P', 'ETH/USD:ETH-230630-500-C', 'ETH/USD:ETH-230630-500-P', 'ETH/USD:ETH-230630-600-C', 'ETH/USD:ETH-230630-600-P', 'ETH/USD:ETH-230630-700-C', 'ETH/USD:ETH-230630-700-P', 'ETH/USD:ETH-230630-800-C', 'ETH/USD:ETH-230630-800-P', 'ETH/USD:ETH-230630-900-C', 'ETH/USD:ETH-230630-900-P', 'ETH/USD:ETH-230630-1000-C', 'ETH/USD:ETH-230630-1000-P', 'ETH/USD:ETH-230630-1100-C', 'ETH/USD:ETH-230630-1100-P', 'ETH/USD:ETH-230630-1200-C', 'ETH/USD:ETH-230630-1200-P', 'ETH/USD:ETH-230630-1300-C', 'ETH/USD:ETH-230630-1300-P', 'ETH/USD:ETH-230630-1400-C', 'ETH/USD:ETH-230630-1400-P', 'ETH/USD:ETH-230630-1500-C', 'ETH/USD:ETH-230630-1500-P', 'ETH/USD:ETH-230630-1600-C', 'ETH/USD:ETH-230630-1600-P', 'ETH/USD:ETH-230630-1700-C', 'ETH/USD:ETH-230630-1700-P', 'ETH/USD:ETH-230630-1800-C', 'ETH/USD:ETH-230630-1800-P', 'ETH/USD:ETH-230630-1900-C', 'ETH/USD:ETH-230630-1900-P', 'ETH/USD:ETH-230630-2000-C', 'ETH/USD:ETH-230630-2000-P', 'ETH/USD:ETH-230630-2100-C', 'ETH/USD:ETH-230630-2100-P', 'ETH/USD:ETH-230630-2200-C', 'ETH/USD:ETH-230630-2200-P', 'ETH/USD:ETH-230630-2300-C', 'ETH/USD:ETH-230630-2300-P', 'ETH/USD:ETH-230630-2400-C', 'ETH/USD:ETH-230630-2400-P', 'ETH/USD:ETH-230630-2500-C', 'ETH/USD:ETH-230630-2500-P', 'ETH/USD:ETH-230630-2600-C', 'ETH/USD:ETH-230630-2600-P', 'ETH/USD:ETH-230630-3000-C', 'ETH/USD:ETH-230630-3000-P', 'ETH/USD:ETH-230630-3500-C', 'ETH/USD:ETH-230630-3500-P', 'ETH/USD:ETH-230630-4000-C', 'ETH/USD:ETH-230630-4000-P', 'ETH/USD:ETH-230630-4500-C', 'ETH/USD:ETH-230630-4500-P', 'ETH/USD:ETH-230630-5000-C', 'ETH/USD:ETH-230630-5000-P', 'ETH/USD:ETH-230630-5500-C', 'ETH/USD:ETH-230630-5500-P', 'ETH/USD:ETH-230630-6000-C', 'ETH/USD:ETH-230630-6000-P', 'ETH/USD:ETH-230630-6500-C', 'ETH/USD:ETH-230630-6500-P', 'ETH-FS-30JUN23_PERP', 'ETH-FS-29SEP23_30JUN23', 'ETH-STRD-30JUN23-1600', 'ETH-STRG-30JUN23-900_2500', 'ETH-RR-30JUN23-1000_2000', 'ETH-STRG-30JUN23-1000_2600', 'ETH-STRG-30JUN23-1000_2500', 'ETH/USD:ETH-230929', 'ETH/USD:ETH-230929-200-C', 'ETH/USD:ETH-230929-200-P', 'ETH/USD:ETH-230929-300-C', 'ETH/USD:ETH-230929-300-P', 'ETH/USD:ETH-230929-400-C', 'ETH/USD:ETH-230929-400-P', 'ETH/USD:ETH-230929-500-C', 'ETH/USD:ETH-230929-500-P', 'ETH/USD:ETH-230929-600-C', 'ETH/USD:ETH-230929-600-P', 'ETH/USD:ETH-230929-700-C', 'ETH/USD:ETH-230929-700-P', 'ETH/USD:ETH-230929-800-C', 'ETH/USD:ETH-230929-800-P', 'ETH/USD:ETH-230929-900-C', 'ETH/USD:ETH-230929-900-P', 'ETH/USD:ETH-230929-1000-C', 'ETH/USD:ETH-230929-1000-P', 'ETH/USD:ETH-230929-1100-C', 'ETH/USD:ETH-230929-1100-P', 'ETH/USD:ETH-230929-1200-C', 'ETH/USD:ETH-230929-1200-P', 'ETH/USD:ETH-230929-1300-C', 'ETH/USD:ETH-230929-1300-P', 'ETH/USD:ETH-230929-1400-C', 'ETH/USD:ETH-230929-1400-P', 'ETH/USD:ETH-230929-1500-C', 'ETH/USD:ETH-230929-1500-P', 'ETH/USD:ETH-230929-1600-C', 'ETH/USD:ETH-230929-1600-P', 'ETH/USD:ETH-230929-1700-C', 'ETH/USD:ETH-230929-1700-P', 'ETH/USD:ETH-230929-1800-C', 'ETH/USD:ETH-230929-1800-P', 'ETH/USD:ETH-230929-1900-C', 'ETH/USD:ETH-230929-1900-P', 'ETH/USD:ETH-230929-2000-C', 'ETH/USD:ETH-230929-2000-P', 'ETH/USD:ETH-230929-2200-C', 'ETH/USD:ETH-230929-2200-P', 'ETH/USD:ETH-230929-2500-C', 'ETH/USD:ETH-230929-2500-P', 'ETH/USD:ETH-230929-3000-C', 'ETH/USD:ETH-230929-3000-P', 'ETH/USD:ETH-230929-3500-C', 'ETH/USD:ETH-230929-3500-P', 'ETH/USD:ETH-230929-4000-C', 'ETH/USD:ETH-230929-4000-P', 'ETH/USD:ETH-230929-4500-C', 'ETH/USD:ETH-230929-4500-P', 'ETH/USD:ETH-230929-5000-C', 'ETH/USD:ETH-230929-5000-P', 'ETH/USD:ETH-230929-5500-C', 'ETH/USD:ETH-230929-5500-P', 'ETH-FS-29SEP23_PERP', 'ETH/USD:ETH-231229', 'ETH/USD:ETH-231229-200-C', 'ETH/USD:ETH-231229-200-P', 'ETH/USD:ETH-231229-400-C', 'ETH/USD:ETH-231229-400-P', 'ETH/USD:ETH-231229-600-C', 'ETH/USD:ETH-231229-600-P', 'ETH/USD:ETH-231229-800-C', 'ETH/USD:ETH-231229-800-P', 'ETH/USD:ETH-231229-1000-C', 'ETH/USD:ETH-231229-1000-P', 'ETH/USD:ETH-231229-1100-C', 'ETH/USD:ETH-231229-1100-P', 'ETH/USD:ETH-231229-1200-C', 'ETH/USD:ETH-231229-1200-P', 'ETH/USD:ETH-231229-1300-C', 'ETH/USD:ETH-231229-1300-P', 'ETH/USD:ETH-231229-1400-C', 'ETH/USD:ETH-231229-1400-P', 'ETH/USD:ETH-231229-1500-C', 'ETH/USD:ETH-231229-1500-P', 'ETH/USD:ETH-231229-1600-C', 'ETH/USD:ETH-231229-1600-P', 'ETH/USD:ETH-231229-1700-C', 'ETH/USD:ETH-231229-1700-P', 'ETH/USD:ETH-231229-1800-C', 'ETH/USD:ETH-231229-1800-P', 'ETH/USD:ETH-231229-1900-C', 'ETH/USD:ETH-231229-1900-P', 'ETH/USD:ETH-231229-2000-C', 'ETH/USD:ETH-231229-2000-P', 'ETH/USD:ETH-231229-2200-C', 'ETH/USD:ETH-231229-2200-P', 'ETH/USD:ETH-231229-2500-C', 'ETH/USD:ETH-231229-2500-P', 'ETH/USD:ETH-231229-3000-C', 'ETH/USD:ETH-231229-3000-P', 'ETH/USD:ETH-231229-3500-C', 'ETH/USD:ETH-231229-3500-P', 'ETH/USD:ETH-231229-4000-C', 'ETH/USD:ETH-231229-4000-P', 'ETH/USD:ETH-231229-4500-C', 'ETH/USD:ETH-231229-4500-P', 'ETH/USD:ETH-231229-5000-C', 'ETH/USD:ETH-231229-5000-P', 'ETH/USD:ETH-231229-5500-C', 'ETH/USD:ETH-231229-5500-P', 'ETH/USD:ETH', 'BTC/USD:BTC-230204-19000-C', 'BTC/USD:BTC-230204-19000-P', 'BTC/USD:BTC-230204-20000-C', 'BTC/USD:BTC-230204-20000-P', 'BTC/USD:BTC-230204-20500-C', 'BTC/USD:BTC-230204-20500-P', 'BTC/USD:BTC-230204-21000-C', 'BTC/USD:BTC-230204-21000-P', 'BTC/USD:BTC-230204-21500-C', 'BTC/USD:BTC-230204-21500-P', 'BTC/USD:BTC-230204-22000-C', 'BTC/USD:BTC-230204-22000-P', 'BTC/USD:BTC-230204-22250-C', 'BTC/USD:BTC-230204-22250-P', 'BTC/USD:BTC-230204-22500-C', 'BTC/USD:BTC-230204-22500-P', 'BTC/USD:BTC-230204-22750-C', 'BTC/USD:BTC-230204-22750-P', 'BTC/USD:BTC-230204-23000-C', 'BTC/USD:BTC-230204-23000-P', 'BTC/USD:BTC-230204-23250-C', 'BTC/USD:BTC-230204-23250-P', 'BTC/USD:BTC-230204-23500-C', 'BTC/USD:BTC-230204-23500-P', 'BTC/USD:BTC-230204-23750-C', 'BTC/USD:BTC-230204-23750-P', 'BTC/USD:BTC-230204-24000-C', 'BTC/USD:BTC-230204-24000-P', 'BTC/USD:BTC-230204-24250-C', 'BTC/USD:BTC-230204-24250-P', 'BTC/USD:BTC-230204-24500-C', 'BTC/USD:BTC-230204-24500-P', 'BTC/USD:BTC-230204-24750-C', 'BTC/USD:BTC-230204-24750-P', 'BTC/USD:BTC-230204-25000-C', 'BTC/USD:BTC-230204-25000-P', 'BTC/USD:BTC-230204-25500-C', 'BTC/USD:BTC-230204-25500-P', 'BTC/USD:BTC-230204-26000-C', 'BTC/USD:BTC-230204-26000-P', 'BTC/USD:BTC-230204-26500-C', 'BTC/USD:BTC-230204-26500-P', 'BTC/USD:BTC-230204-27000-C', 'BTC/USD:BTC-230204-27000-P', 'BTC-STRG-4FEB23-22000_24750', 'BTC/USD:BTC-230205-19000-C', 'BTC/USD:BTC-230205-19000-P', 'BTC/USD:BTC-230205-20000-C', 'BTC/USD:BTC-230205-20000-P', 'BTC/USD:BTC-230205-20500-C', 'BTC/USD:BTC-230205-20500-P', 'BTC/USD:BTC-230205-21000-C', 'BTC/USD:BTC-230205-21000-P', 'BTC/USD:BTC-230205-21500-C', 'BTC/USD:BTC-230205-21500-P', 'BTC/USD:BTC-230205-22000-C', 'BTC/USD:BTC-230205-22000-P', 'BTC/USD:BTC-230205-22250-C', 'BTC/USD:BTC-230205-22250-P', 'BTC/USD:BTC-230205-22500-C', 'BTC/USD:BTC-230205-22500-P', 'BTC/USD:BTC-230205-22750-C', 'BTC/USD:BTC-230205-22750-P', 'BTC/USD:BTC-230205-23000-C', 'BTC/USD:BTC-230205-23000-P', 'BTC/USD:BTC-230205-23250-C', 'BTC/USD:BTC-230205-23250-P', 'BTC/USD:BTC-230205-23500-C', 'BTC/USD:BTC-230205-23500-P', 'BTC/USD:BTC-230205-23750-C', 'BTC/USD:BTC-230205-23750-P', 'BTC/USD:BTC-230205-24000-C', 'BTC/USD:BTC-230205-24000-P', 'BTC/USD:BTC-230205-24250-C', 'BTC/USD:BTC-230205-24250-P', 'BTC/USD:BTC-230205-24500-C', 'BTC/USD:BTC-230205-24500-P', 'BTC/USD:BTC-230205-25000-C', 'BTC/USD:BTC-230205-25000-P', 'BTC/USD:BTC-230205-25500-C', 'BTC/USD:BTC-230205-25500-P', 'BTC/USD:BTC-230205-26000-C', 'BTC/USD:BTC-230205-26000-P', 'BTC/USD:BTC-230205-27000-C', 'BTC/USD:BTC-230205-27000-P', 'BTC/USD:BTC-230210', 'BTC/USD:BTC-230210-11000-C', 'BTC/USD:BTC-230210-11000-P', 'BTC/USD:BTC-230210-12000-C', 'BTC/USD:BTC-230210-12000-P', 'BTC/USD:BTC-230210-13000-C', 'BTC/USD:BTC-230210-13000-P', 'BTC/USD:BTC-230210-14000-C', 'BTC/USD:BTC-230210-14000-P', 'BTC/USD:BTC-230210-15000-C', 'BTC/USD:BTC-230210-15000-P', 'BTC/USD:BTC-230210-16000-C', 'BTC/USD:BTC-230210-16000-P', 'BTC/USD:BTC-230210-17000-C', 'BTC/USD:BTC-230210-17000-P', 'BTC/USD:BTC-230210-17500-C', 'BTC/USD:BTC-230210-17500-P', 'BTC/USD:BTC-230210-18000-C', 'BTC/USD:BTC-230210-18000-P', 'BTC/USD:BTC-230210-18500-C', 'BTC/USD:BTC-230210-18500-P', 'BTC/USD:BTC-230210-19000-C', 'BTC/USD:BTC-230210-19000-P', 'BTC/USD:BTC-230210-19500-C', 'BTC/USD:BTC-230210-19500-P', 'BTC/USD:BTC-230210-20000-C', 'BTC/USD:BTC-230210-20000-P', 'BTC/USD:BTC-230210-20500-C', 'BTC/USD:BTC-230210-20500-P', 'BTC/USD:BTC-230210-21000-C', 'BTC/USD:BTC-230210-21000-P', 'BTC/USD:BTC-230210-21500-C', 'BTC/USD:BTC-230210-21500-P', 'BTC/USD:BTC-230210-22000-C', 'BTC/USD:BTC-230210-22000-P', 'BTC/USD:BTC-230210-22500-C', 'BTC/USD:BTC-230210-22500-P', 'BTC/USD:BTC-230210-23000-C', 'BTC/USD:BTC-230210-23000-P', 'BTC/USD:BTC-230210-23500-C', 'BTC/USD:BTC-230210-23500-P', 'BTC/USD:BTC-230210-24000-C', 'BTC/USD:BTC-230210-24000-P', 'BTC/USD:BTC-230210-24500-C', 'BTC/USD:BTC-230210-24500-P', 'BTC/USD:BTC-230210-25000-C', 'BTC/USD:BTC-230210-25000-P', 'BTC/USD:BTC-230210-26000-C', 'BTC/USD:BTC-230210-26000-P', 'BTC/USD:BTC-230210-27000-C', 'BTC/USD:BTC-230210-27000-P', 'BTC/USD:BTC-230210-28000-C', 'BTC/USD:BTC-230210-28000-P', 'BTC/USD:BTC-230210-29000-C', 'BTC/USD:BTC-230210-29000-P', 'BTC/USD:BTC-230210-30000-C', 'BTC/USD:BTC-230210-30000-P', 'BTC/USD:BTC-230210-31000-C', 'BTC/USD:BTC-230210-31000-P', 'BTC/USD:BTC-230210-32000-C', 'BTC/USD:BTC-230210-32000-P', 'BTC/USD:BTC-230210-33000-C', 'BTC/USD:BTC-230210-33000-P', 'BTC/USD:BTC-230210-34000-C', 'BTC/USD:BTC-230210-34000-P', 'BTC/USD:BTC-230210-35000-C', 'BTC/USD:BTC-230210-35000-P', 'BTC/USD:BTC-230210-36000-C', 'BTC/USD:BTC-230210-36000-P', 'BTC/USD:BTC-230210-37000-C', 'BTC/USD:BTC-230210-37000-P', 'BTC/USD:BTC-230210-38000-C', 'BTC/USD:BTC-230210-38000-P', 'BTC-FS-10FEB23_PERP', 'BTC-PBUT-10FEB23-23500_24000_24500', 'BTC/USD:BTC-230217', 'BTC/USD:BTC-230217-12000-C', 'BTC/USD:BTC-230217-12000-P', 'BTC/USD:BTC-230217-13000-C', 'BTC/USD:BTC-230217-13000-P', 'BTC/USD:BTC-230217-14000-C', 'BTC/USD:BTC-230217-14000-P', 'BTC/USD:BTC-230217-15000-C', 'BTC/USD:BTC-230217-15000-P', 'BTC/USD:BTC-230217-16000-C', 'BTC/USD:BTC-230217-16000-P', 'BTC/USD:BTC-230217-17000-C', 'BTC/USD:BTC-230217-17000-P', 'BTC/USD:BTC-230217-18000-C', 'BTC/USD:BTC-230217-18000-P', 'BTC/USD:BTC-230217-19000-C', 'BTC/USD:BTC-230217-19000-P', 'BTC/USD:BTC-230217-19500-C', 'BTC/USD:BTC-230217-19500-P', 'BTC/USD:BTC-230217-20000-C', 'BTC/USD:BTC-230217-20000-P', 'BTC/USD:BTC-230217-20500-C', 'BTC/USD:BTC-230217-20500-P', 'BTC/USD:BTC-230217-21000-C', 'BTC/USD:BTC-230217-21000-P', 'BTC/USD:BTC-230217-21500-C', 'BTC/USD:BTC-230217-21500-P', 'BTC/USD:BTC-230217-22000-C', 'BTC/USD:BTC-230217-22000-P', 'BTC/USD:BTC-230217-22500-C', 'BTC/USD:BTC-230217-22500-P', 'BTC/USD:BTC-230217-23000-C', 'BTC/USD:BTC-230217-23000-P', 'BTC/USD:BTC-230217-23500-C', 'BTC/USD:BTC-230217-23500-P', 'BTC/USD:BTC-230217-24000-C', 'BTC/USD:BTC-230217-24000-P', 'BTC/USD:BTC-230217-24500-C', 'BTC/USD:BTC-230217-24500-P', 'BTC/USD:BTC-230217-25000-C', 'BTC/USD:BTC-230217-25000-P', 'BTC/USD:BTC-230217-26000-C', 'BTC/USD:BTC-230217-26000-P', 'BTC/USD:BTC-230217-27000-C', 'BTC/USD:BTC-230217-27000-P', 'BTC/USD:BTC-230217-28000-C', 'BTC/USD:BTC-230217-28000-P', 'BTC/USD:BTC-230217-29000-C', 'BTC/USD:BTC-230217-29000-P', 'BTC/USD:BTC-230217-30000-C', 'BTC/USD:BTC-230217-30000-P', 'BTC/USD:BTC-230217-31000-C', 'BTC/USD:BTC-230217-31000-P', 'BTC/USD:BTC-230217-32000-C', 'BTC/USD:BTC-230217-32000-P', 'BTC/USD:BTC-230217-33000-C', 'BTC/USD:BTC-230217-33000-P', 'BTC/USD:BTC-230217-34000-C', 'BTC/USD:BTC-230217-34000-P', 'BTC/USD:BTC-230217-35000-C', 'BTC/USD:BTC-230217-35000-P', 'BTC/USD:BTC-230217-36000-C', 'BTC/USD:BTC-230217-36000-P', 'BTC/USD:BTC-230217-37000-C', 'BTC/USD:BTC-230217-37000-P', 'BTC/USD:BTC-230217-38000-C', 'BTC/USD:BTC-230217-38000-P', 'BTC-PBUT-17FEB23-24000_25000_26000', 'BTC-CBUT111-17FEB23-23000_26000_29000', 'BTC-CCAL-24FEB23_17FEB23-26000', 'BTC-PCAL-24FEB23_17FEB23-20000', 'BTC/USD:BTC-230224', 'BTC/USD:BTC-230224-5000-C', 'BTC/USD:BTC-230224-5000-P', 'BTC/USD:BTC-230224-8000-C', 'BTC/USD:BTC-230224-8000-P', 'BTC/USD:BTC-230224-10000-C', 'BTC/USD:BTC-230224-10000-P', 'BTC/USD:BTC-230224-12000-C', 'BTC/USD:BTC-230224-12000-P', 'BTC/USD:BTC-230224-13000-C', 'BTC/USD:BTC-230224-13000-P', 'BTC/USD:BTC-230224-14000-C', 'BTC/USD:BTC-230224-14000-P', 'BTC/USD:BTC-230224-15000-C', 'BTC/USD:BTC-230224-15000-P', 'BTC/USD:BTC-230224-16000-C', 'BTC/USD:BTC-230224-16000-P', 'BTC/USD:BTC-230224-17000-C', 'BTC/USD:BTC-230224-17000-P', 'BTC/USD:BTC-230224-18000-C', 'BTC/USD:BTC-230224-18000-P', 'BTC/USD:BTC-230224-19000-C', 'BTC/USD:BTC-230224-19000-P', 'BTC/USD:BTC-230224-20000-C', 'BTC/USD:BTC-230224-20000-P', 'BTC/USD:BTC-230224-20500-C', 'BTC/USD:BTC-230224-20500-P', 'BTC/USD:BTC-230224-21000-C', 'BTC/USD:BTC-230224-21000-P', 'BTC/USD:BTC-230224-21500-C', 'BTC/USD:BTC-230224-21500-P', 'BTC/USD:BTC-230224-22000-C', 'BTC/USD:BTC-230224-22000-P', 'BTC/USD:BTC-230224-22500-C', 'BTC/USD:BTC-230224-22500-P', 'BTC/USD:BTC-230224-23000-C', 'BTC/USD:BTC-230224-23000-P', 'BTC/USD:BTC-230224-23500-C', 'BTC/USD:BTC-230224-23500-P', 'BTC/USD:BTC-230224-24000-C', 'BTC/USD:BTC-230224-24000-P', 'BTC/USD:BTC-230224-24500-C', 'BTC/USD:BTC-230224-24500-P', 'BTC/USD:BTC-230224-25000-C', 'BTC/USD:BTC-230224-25000-P', 'BTC/USD:BTC-230224-25500-C', 'BTC/USD:BTC-230224-25500-P', 'BTC/USD:BTC-230224-26000-C', 'BTC/USD:BTC-230224-26000-P', 'BTC/USD:BTC-230224-27000-C', 'BTC/USD:BTC-230224-27000-P', 'BTC/USD:BTC-230224-28000-C', 'BTC/USD:BTC-230224-28000-P', 'BTC/USD:BTC-230224-30000-C', 'BTC/USD:BTC-230224-30000-P', 'BTC/USD:BTC-230224-32000-C', 'BTC/USD:BTC-230224-32000-P', 'BTC/USD:BTC-230224-35000-C', 'BTC/USD:BTC-230224-35000-P', 'BTC/USD:BTC-230224-40000-C', 'BTC/USD:BTC-230224-40000-P', 'BTC-FS-24FEB23_PERP', 'BTC-FS-31MAR23_24FEB23', 'BTC-FS-30JUN23_24FEB23', 'BTC-CBUT111-24FEB23-23000_25000_27000', 'BTC/USD:BTC-230331', 'BTC/USD:BTC-230331-5000-C', 'BTC/USD:BTC-230331-5000-P', 'BTC/USD:BTC-230331-8000-C', 'BTC/USD:BTC-230331-8000-P', 'BTC/USD:BTC-230331-10000-C', 'BTC/USD:BTC-230331-10000-P', 'BTC/USD:BTC-230331-11000-C', 'BTC/USD:BTC-230331-11000-P', 'BTC/USD:BTC-230331-12000-C', 'BTC/USD:BTC-230331-12000-P', 'BTC/USD:BTC-230331-13000-C', 'BTC/USD:BTC-230331-13000-P', 'BTC/USD:BTC-230331-14000-C', 'BTC/USD:BTC-230331-14000-P', 'BTC/USD:BTC-230331-15000-C', 'BTC/USD:BTC-230331-15000-P', 'BTC/USD:BTC-230331-16000-C', 'BTC/USD:BTC-230331-16000-P', 'BTC/USD:BTC-230331-17000-C', 'BTC/USD:BTC-230331-17000-P', 'BTC/USD:BTC-230331-18000-C', 'BTC/USD:BTC-230331-18000-P', 'BTC/USD:BTC-230331-19000-C', 'BTC/USD:BTC-230331-19000-P', 'BTC/USD:BTC-230331-20000-C', 'BTC/USD:BTC-230331-20000-P', 'BTC/USD:BTC-230331-21000-C', 'BTC/USD:BTC-230331-21000-P', 'BTC/USD:BTC-230331-22000-C', 'BTC/USD:BTC-230331-22000-P', 'BTC/USD:BTC-230331-23000-C', 'BTC/USD:BTC-230331-23000-P', 'BTC/USD:BTC-230331-24000-C', 'BTC/USD:BTC-230331-24000-P', 'BTC/USD:BTC-230331-25000-C', 'BTC/USD:BTC-230331-25000-P', 'BTC/USD:BTC-230331-26000-C', 'BTC/USD:BTC-230331-26000-P', 'BTC/USD:BTC-230331-27000-C', 'BTC/USD:BTC-230331-27000-P', 'BTC/USD:BTC-230331-28000-C', 'BTC/USD:BTC-230331-28000-P', 'BTC/USD:BTC-230331-29000-C', 'BTC/USD:BTC-230331-29000-P', 'BTC/USD:BTC-230331-30000-C', 'BTC/USD:BTC-230331-30000-P', 'BTC/USD:BTC-230331-32000-C', 'BTC/USD:BTC-230331-32000-P', 'BTC/USD:BTC-230331-34000-C', 'BTC/USD:BTC-230331-34000-P', 'BTC/USD:BTC-230331-35000-C', 'BTC/USD:BTC-230331-35000-P', 'BTC/USD:BTC-230331-36000-C', 'BTC/USD:BTC-230331-36000-P', 'BTC/USD:BTC-230331-38000-C', 'BTC/USD:BTC-230331-38000-P', 'BTC/USD:BTC-230331-40000-C', 'BTC/USD:BTC-230331-40000-P', 'BTC/USD:BTC-230331-42000-C', 'BTC/USD:BTC-230331-42000-P', 'BTC/USD:BTC-230331-45000-C', 'BTC/USD:BTC-230331-45000-P', 'BTC/USD:BTC-230331-50000-C', 'BTC/USD:BTC-230331-50000-P', 'BTC/USD:BTC-230331-55000-C', 'BTC/USD:BTC-230331-55000-P', 'BTC/USD:BTC-230331-60000-C', 'BTC/USD:BTC-230331-60000-P', 'BTC/USD:BTC-230331-65000-C', 'BTC/USD:BTC-230331-65000-P', 'BTC/USD:BTC-230331-70000-C', 'BTC/USD:BTC-230331-70000-P', 'BTC/USD:BTC-230331-80000-C', 'BTC/USD:BTC-230331-80000-P', 'BTC/USD:BTC-230331-100000-C', 'BTC/USD:BTC-230331-100000-P', 'BTC/USD:BTC-230331-120000-C', 'BTC/USD:BTC-230331-120000-P', 'BTC/USD:BTC-230331-140000-C', 'BTC/USD:BTC-230331-140000-P', 'BTC/USD:BTC-230331-150000-C', 'BTC/USD:BTC-230331-150000-P', 'BTC/USD:BTC-230331-200000-C', 'BTC/USD:BTC-230331-200000-P', 'BTC/USD:BTC-230331-250000-C', 'BTC/USD:BTC-230331-250000-P', 'BTC/USD:BTC-230331-300000-C', 'BTC/USD:BTC-230331-300000-P', 'BTC-FS-31MAR23_PERP', 'BTC-FS-30JUN23_31MAR23', 'BTC-FS-29SEP23_31MAR23', 'BTC-PS-31MAR23-21000_19000', 'BTC/USD:BTC-230428-5000-C', 'BTC/USD:BTC-230428-5000-P', 'BTC/USD:BTC-230428-10000-C', 'BTC/USD:BTC-230428-10000-P', 'BTC/USD:BTC-230428-12000-C', 'BTC/USD:BTC-230428-12000-P', 'BTC/USD:BTC-230428-14000-C', 'BTC/USD:BTC-230428-14000-P', 'BTC/USD:BTC-230428-16000-C', 'BTC/USD:BTC-230428-16000-P', 'BTC/USD:BTC-230428-17000-C', 'BTC/USD:BTC-230428-17000-P', 'BTC/USD:BTC-230428-18000-C', 'BTC/USD:BTC-230428-18000-P', 'BTC/USD:BTC-230428-19000-C', 'BTC/USD:BTC-230428-19000-P', 'BTC/USD:BTC-230428-20000-C', 'BTC/USD:BTC-230428-20000-P', 'BTC/USD:BTC-230428-21000-C', 'BTC/USD:BTC-230428-21000-P', 'BTC/USD:BTC-230428-22000-C', 'BTC/USD:BTC-230428-22000-P', 'BTC/USD:BTC-230428-23000-C', 'BTC/USD:BTC-230428-23000-P', 'BTC/USD:BTC-230428-24000-C', 'BTC/USD:BTC-230428-24000-P', 'BTC/USD:BTC-230428-25000-C', 'BTC/USD:BTC-230428-25000-P', 'BTC/USD:BTC-230428-26000-C', 'BTC/USD:BTC-230428-26000-P', 'BTC/USD:BTC-230428-27000-C', 'BTC/USD:BTC-230428-27000-P', 'BTC/USD:BTC-230428-28000-C', 'BTC/USD:BTC-230428-28000-P', 'BTC/USD:BTC-230428-30000-C', 'BTC/USD:BTC-230428-30000-P', 'BTC/USD:BTC-230428-32000-C', 'BTC/USD:BTC-230428-32000-P', 'BTC/USD:BTC-230428-34000-C', 'BTC/USD:BTC-230428-34000-P', 'BTC/USD:BTC-230428-36000-C', 'BTC/USD:BTC-230428-36000-P', 'BTC/USD:BTC-230428-38000-C', 'BTC/USD:BTC-230428-38000-P', 'BTC/USD:BTC-230428-40000-C', 'BTC/USD:BTC-230428-40000-P', 'BTC/USD:BTC-230428-45000-C', 'BTC/USD:BTC-230428-45000-P', 'BTC/USD:BTC-230428-50000-C', 'BTC/USD:BTC-230428-50000-P', 'BTC-PS-28APR23-21000_20000', 'BTC/USD:BTC-230630', 'BTC/USD:BTC-230630-5000-C', 'BTC/USD:BTC-230630-5000-P', 'BTC/USD:BTC-230630-8000-C', 'BTC/USD:BTC-230630-8000-P', 'BTC/USD:BTC-230630-10000-C', 'BTC/USD:BTC-230630-10000-P', 'BTC/USD:BTC-230630-11000-C', 'BTC/USD:BTC-230630-11000-P', 'BTC/USD:BTC-230630-12000-C', 'BTC/USD:BTC-230630-12000-P', 'BTC/USD:BTC-230630-13000-C', 'BTC/USD:BTC-230630-13000-P', 'BTC/USD:BTC-230630-14000-C', 'BTC/USD:BTC-230630-14000-P', 'BTC/USD:BTC-230630-15000-C', 'BTC/USD:BTC-230630-15000-P', 'BTC/USD:BTC-230630-16000-C', 'BTC/USD:BTC-230630-16000-P', 'BTC/USD:BTC-230630-17000-C', 'BTC/USD:BTC-230630-17000-P', 'BTC/USD:BTC-230630-18000-C', 'BTC/USD:BTC-230630-18000-P', 'BTC/USD:BTC-230630-19000-C', 'BTC/USD:BTC-230630-19000-P', 'BTC/USD:BTC-230630-20000-C', 'BTC/USD:BTC-230630-20000-P', 'BTC/USD:BTC-230630-21000-C', 'BTC/USD:BTC-230630-21000-P', 'BTC/USD:BTC-230630-22000-C', 'BTC/USD:BTC-230630-22000-P', 'BTC/USD:BTC-230630-23000-C', 'BTC/USD:BTC-230630-23000-P', 'BTC/USD:BTC-230630-24000-C', 'BTC/USD:BTC-230630-24000-P', 'BTC/USD:BTC-230630-25000-C', 'BTC/USD:BTC-230630-25000-P', 'BTC/USD:BTC-230630-26000-C', 'BTC/USD:BTC-230630-26000-P', 'BTC/USD:BTC-230630-27000-C', 'BTC/USD:BTC-230630-27000-P', 'BTC/USD:BTC-230630-28000-C', 'BTC/USD:BTC-230630-28000-P', 'BTC/USD:BTC-230630-29000-C', 'BTC/USD:BTC-230630-29000-P', 'BTC/USD:BTC-230630-30000-C', 'BTC/USD:BTC-230630-30000-P', 'BTC/USD:BTC-230630-35000-C', 'BTC/USD:BTC-230630-35000-P', 'BTC/USD:BTC-230630-40000-C', 'BTC/USD:BTC-230630-40000-P', 'BTC/USD:BTC-230630-45000-C', 'BTC/USD:BTC-230630-45000-P', 'BTC/USD:BTC-230630-50000-C', 'BTC/USD:BTC-230630-50000-P', 'BTC/USD:BTC-230630-60000-C', 'BTC/USD:BTC-230630-60000-P', 'BTC/USD:BTC-230630-80000-C', 'BTC/USD:BTC-230630-80000-P', 'BTC/USD:BTC-230630-100000-C', 'BTC/USD:BTC-230630-100000-P', 'BTC-FS-30JUN23_PERP', 'BTC-FS-29SEP23_30JUN23', 'BTC-RR-30JUN23-20000_28000', 'BTC/USD:BTC-230929', 'BTC/USD:BTC-230929-5000-C', 'BTC/USD:BTC-230929-5000-P', 'BTC/USD:BTC-230929-8000-C', 'BTC/USD:BTC-230929-8000-P', 'BTC/USD:BTC-230929-10000-C', 'BTC/USD:BTC-230929-10000-P', 'BTC/USD:BTC-230929-11000-C', 'BTC/USD:BTC-230929-11000-P', 'BTC/USD:BTC-230929-12000-C', 'BTC/USD:BTC-230929-12000-P', 'BTC/USD:BTC-230929-13000-C', 'BTC/USD:BTC-230929-13000-P', 'BTC/USD:BTC-230929-14000-C', 'BTC/USD:BTC-230929-14000-P', 'BTC/USD:BTC-230929-15000-C', 'BTC/USD:BTC-230929-15000-P', 'BTC/USD:BTC-230929-16000-C', 'BTC/USD:BTC-230929-16000-P', 'BTC/USD:BTC-230929-17000-C', 'BTC/USD:BTC-230929-17000-P', 'BTC/USD:BTC-230929-18000-C', 'BTC/USD:BTC-230929-18000-P', 'BTC/USD:BTC-230929-19000-C', 'BTC/USD:BTC-230929-19000-P', 'BTC/USD:BTC-230929-20000-C', 'BTC/USD:BTC-230929-20000-P', 'BTC/USD:BTC-230929-21000-C', 'BTC/USD:BTC-230929-21000-P', 'BTC/USD:BTC-230929-22000-C', 'BTC/USD:BTC-230929-22000-P', 'BTC/USD:BTC-230929-23000-C', 'BTC/USD:BTC-230929-23000-P', 'BTC/USD:BTC-230929-24000-C', 'BTC/USD:BTC-230929-24000-P', 'BTC/USD:BTC-230929-25000-C', 'BTC/USD:BTC-230929-25000-P', 'BTC/USD:BTC-230929-26000-C', 'BTC/USD:BTC-230929-26000-P', 'BTC/USD:BTC-230929-27000-C', 'BTC/USD:BTC-230929-27000-P', 'BTC/USD:BTC-230929-28000-C', 'BTC/USD:BTC-230929-28000-P', 'BTC/USD:BTC-230929-30000-C', 'BTC/USD:BTC-230929-30000-P', 'BTC/USD:BTC-230929-35000-C', 'BTC/USD:BTC-230929-35000-P', 'BTC/USD:BTC-230929-40000-C', 'BTC/USD:BTC-230929-40000-P', 'BTC/USD:BTC-230929-45000-C', 'BTC/USD:BTC-230929-45000-P', 'BTC/USD:BTC-230929-50000-C', 'BTC/USD:BTC-230929-50000-P', 'BTC/USD:BTC-230929-55000-C', 'BTC/USD:BTC-230929-55000-P', 'BTC/USD:BTC-230929-60000-C', 'BTC/USD:BTC-230929-60000-P', 'BTC/USD:BTC-230929-80000-C', 'BTC/USD:BTC-230929-80000-P', 'BTC-FS-29SEP23_PERP', 'BTC-FS-29DEC23_29SEP23', 'BTC/USD:BTC-231229', 'BTC/USD:BTC-231229-5000-C', 'BTC/USD:BTC-231229-5000-P', 'BTC/USD:BTC-231229-10000-C', 'BTC/USD:BTC-231229-10000-P', 'BTC/USD:BTC-231229-11000-C', 'BTC/USD:BTC-231229-11000-P', 'BTC/USD:BTC-231229-12000-C', 'BTC/USD:BTC-231229-12000-P', 'BTC/USD:BTC-231229-13000-C', 'BTC/USD:BTC-231229-13000-P', 'BTC/USD:BTC-231229-14000-C', 'BTC/USD:BTC-231229-14000-P', 'BTC/USD:BTC-231229-15000-C', 'BTC/USD:BTC-231229-15000-P', 'BTC/USD:BTC-231229-16000-C', 'BTC/USD:BTC-231229-16000-P', 'BTC/USD:BTC-231229-17000-C', 'BTC/USD:BTC-231229-17000-P', 'BTC/USD:BTC-231229-18000-C', 'BTC/USD:BTC-231229-18000-P', 'BTC/USD:BTC-231229-19000-C', 'BTC/USD:BTC-231229-19000-P', 'BTC/USD:BTC-231229-20000-C', 'BTC/USD:BTC-231229-20000-P', 'BTC/USD:BTC-231229-21000-C', 'BTC/USD:BTC-231229-21000-P', 'BTC/USD:BTC-231229-22000-C', 'BTC/USD:BTC-231229-22000-P', 'BTC/USD:BTC-231229-23000-C', 'BTC/USD:BTC-231229-23000-P', 'BTC/USD:BTC-231229-24000-C', 'BTC/USD:BTC-231229-24000-P', 'BTC/USD:BTC-231229-25000-C', 'BTC/USD:BTC-231229-25000-P', 'BTC/USD:BTC-231229-26000-C', 'BTC/USD:BTC-231229-26000-P', 'BTC/USD:BTC-231229-27000-C', 'BTC/USD:BTC-231229-27000-P', 'BTC/USD:BTC-231229-28000-C', 'BTC/USD:BTC-231229-28000-P', 'BTC/USD:BTC-231229-30000-C', 'BTC/USD:BTC-231229-30000-P', 'BTC/USD:BTC-231229-35000-C', 'BTC/USD:BTC-231229-35000-P', 'BTC/USD:BTC-231229-40000-C', 'BTC/USD:BTC-231229-40000-P', 'BTC/USD:BTC-231229-45000-C', 'BTC/USD:BTC-231229-45000-P', 'BTC/USD:BTC-231229-50000-C', 'BTC/USD:BTC-231229-50000-P', 'BTC/USD:BTC-231229-55000-C', 'BTC/USD:BTC-231229-55000-P', 'BTC/USD:BTC-231229-60000-C', 'BTC/USD:BTC-231229-60000-P', 'BTC/USD:BTC-231229-65000-C', 'BTC/USD:BTC-231229-65000-P', 'BTC/USD:BTC-231229-70000-C', 'BTC/USD:BTC-231229-70000-P', 'BTC/USD:BTC-231229-80000-C', 'BTC/USD:BTC-231229-80000-P', 'BTC-FS-29DEC23_PERP', 'BTC/USD:BTC']'\nCurrency pair is not present in exchange\n################################################################################\n",
     "output_type": "error",
     "traceback": [
      "\u001b[0;31m---------------------------------------------------------------------------\u001b[0m",
      "\u001b[0;31mAssertionError\u001b[0m                            Traceback (most recent call last)",
      "Cell \u001b[0;32mIn [50], line 7\u001b[0m\n\u001b[1;32m      5\u001b[0m bid_ask_depth \u001b[38;5;241m=\u001b[39m \u001b[38;5;241m20\u001b[39m\n\u001b[1;32m      6\u001b[0m data_type \u001b[38;5;241m=\u001b[39m \u001b[38;5;124m\"\u001b[39m\u001b[38;5;124mbid_ask\u001b[39m\u001b[38;5;124m\"\u001b[39m\n\u001b[0;32m----> 7\u001b[0m data \u001b[38;5;241m=\u001b[39m \u001b[43mextractor\u001b[49m\u001b[38;5;241;43m.\u001b[39;49m\u001b[43mdownload_data\u001b[49m\u001b[43m(\u001b[49m\n\u001b[1;32m      8\u001b[0m \u001b[43m    \u001b[49m\u001b[43mdata_type\u001b[49m\u001b[43m,\u001b[49m\n\u001b[1;32m      9\u001b[0m \u001b[43m    \u001b[49m\u001b[43mexchange_id\u001b[49m\u001b[43m,\u001b[49m\n\u001b[1;32m     10\u001b[0m \u001b[43m    \u001b[49m\u001b[43mcurrency_pair_for_download\u001b[49m\u001b[43m,\u001b[49m\n\u001b[1;32m     11\u001b[0m \u001b[43m    \u001b[49m\u001b[43mstart_timestamp\u001b[49m\u001b[38;5;241;43m=\u001b[39;49m\u001b[43mstart_timestamp\u001b[49m\u001b[43m,\u001b[49m\n\u001b[1;32m     12\u001b[0m \u001b[43m    \u001b[49m\u001b[43mend_timestamp\u001b[49m\u001b[38;5;241;43m=\u001b[39;49m\u001b[43mend_timestamp\u001b[49m\u001b[43m,\u001b[49m\n\u001b[1;32m     13\u001b[0m \u001b[43m    \u001b[49m\u001b[43mdepth\u001b[49m\u001b[38;5;241;43m=\u001b[39;49m\u001b[43mbid_ask_depth\u001b[49m\n\u001b[1;32m     14\u001b[0m \u001b[43m)\u001b[49m\n\u001b[1;32m     15\u001b[0m data\u001b[38;5;241m.\u001b[39mhead()\n",
      "File \u001b[0;32m/app/im_v2/common/data/extract/extractor.py:43\u001b[0m, in \u001b[0;36mExtractor.download_data\u001b[0;34m(self, data_type, exchange_id, currency_pair, **kwargs)\u001b[0m\n\u001b[1;32m     37\u001b[0m     data \u001b[38;5;241m=\u001b[39m \u001b[38;5;28mself\u001b[39m\u001b[38;5;241m.\u001b[39m_download_ohlcv(\n\u001b[1;32m     38\u001b[0m         exchange_id,\n\u001b[1;32m     39\u001b[0m         currency_pair,\n\u001b[1;32m     40\u001b[0m         \u001b[38;5;241m*\u001b[39m\u001b[38;5;241m*\u001b[39mkwargs,\n\u001b[1;32m     41\u001b[0m     )\n\u001b[1;32m     42\u001b[0m \u001b[38;5;28;01melif\u001b[39;00m data_type \u001b[38;5;241m==\u001b[39m \u001b[38;5;124m\"\u001b[39m\u001b[38;5;124mbid_ask\u001b[39m\u001b[38;5;124m\"\u001b[39m:\n\u001b[0;32m---> 43\u001b[0m     data \u001b[38;5;241m=\u001b[39m \u001b[38;5;28;43mself\u001b[39;49m\u001b[38;5;241;43m.\u001b[39;49m\u001b[43m_download_bid_ask\u001b[49m\u001b[43m(\u001b[49m\u001b[43mexchange_id\u001b[49m\u001b[43m,\u001b[49m\u001b[43m \u001b[49m\u001b[43mcurrency_pair\u001b[49m\u001b[43m,\u001b[49m\u001b[43m \u001b[49m\u001b[38;5;241;43m*\u001b[39;49m\u001b[38;5;241;43m*\u001b[39;49m\u001b[43mkwargs\u001b[49m\u001b[43m)\u001b[49m\n\u001b[1;32m     44\u001b[0m \u001b[38;5;28;01melif\u001b[39;00m data_type \u001b[38;5;241m==\u001b[39m \u001b[38;5;124m\"\u001b[39m\u001b[38;5;124mtrades\u001b[39m\u001b[38;5;124m\"\u001b[39m:\n\u001b[1;32m     45\u001b[0m     data \u001b[38;5;241m=\u001b[39m \u001b[38;5;28mself\u001b[39m\u001b[38;5;241m.\u001b[39m_download_trades(exchange_id, currency_pair, \u001b[38;5;241m*\u001b[39m\u001b[38;5;241m*\u001b[39mkwargs)\n",
      "File \u001b[0;32m/app/im_v2/ccxt/data/extract/extractor.py:359\u001b[0m, in \u001b[0;36mCcxtExtractor._download_bid_ask\u001b[0;34m(self, exchange_id, currency_pair, depth, **kwargs)\u001b[0m\n\u001b[1;32m    355\u001b[0m \u001b[38;5;66;03m# Convert symbol to CCXT format, e.g. \"BTC_USDT\" -> \"BTC/USDT\".\u001b[39;00m\n\u001b[1;32m    356\u001b[0m currency_pair \u001b[38;5;241m=\u001b[39m \u001b[38;5;28mself\u001b[39m\u001b[38;5;241m.\u001b[39mconvert_currency_pair(\n\u001b[1;32m    357\u001b[0m     currency_pair,\n\u001b[1;32m    358\u001b[0m )\n\u001b[0;32m--> 359\u001b[0m \u001b[43mhdbg\u001b[49m\u001b[38;5;241;43m.\u001b[39;49m\u001b[43mdassert_in\u001b[49m\u001b[43m(\u001b[49m\n\u001b[1;32m    360\u001b[0m \u001b[43m    \u001b[49m\u001b[43mcurrency_pair\u001b[49m\u001b[43m,\u001b[49m\n\u001b[1;32m    361\u001b[0m \u001b[43m    \u001b[49m\u001b[38;5;28;43mself\u001b[39;49m\u001b[38;5;241;43m.\u001b[39;49m\u001b[43mcurrency_pairs\u001b[49m\u001b[43m,\u001b[49m\n\u001b[1;32m    362\u001b[0m \u001b[43m    \u001b[49m\u001b[38;5;124;43m\"\u001b[39;49m\u001b[38;5;124;43mCurrency pair is not present in exchange\u001b[39;49m\u001b[38;5;124;43m\"\u001b[39;49m\u001b[43m,\u001b[49m\n\u001b[1;32m    363\u001b[0m \u001b[43m\u001b[49m\u001b[43m)\u001b[49m\n\u001b[1;32m    364\u001b[0m \u001b[38;5;66;03m# Download order book data.\u001b[39;00m\n\u001b[1;32m    365\u001b[0m order_book \u001b[38;5;241m=\u001b[39m \u001b[38;5;28mself\u001b[39m\u001b[38;5;241m.\u001b[39m_sync_exchange\u001b[38;5;241m.\u001b[39mfetch_order_book(currency_pair, depth)\n",
      "File \u001b[0;32m/app/helpers/hdbg.py:314\u001b[0m, in \u001b[0;36mdassert_in\u001b[0;34m(value, valid_values, msg, only_warning, *args)\u001b[0m\n\u001b[1;32m    312\u001b[0m \u001b[38;5;28;01mif\u001b[39;00m \u001b[38;5;129;01mnot\u001b[39;00m cond:\n\u001b[1;32m    313\u001b[0m     txt \u001b[38;5;241m=\u001b[39m \u001b[38;5;124mf\u001b[39m\u001b[38;5;124m\"\u001b[39m\u001b[38;5;124m'\u001b[39m\u001b[38;5;132;01m{\u001b[39;00mvalue\u001b[38;5;132;01m}\u001b[39;00m\u001b[38;5;124m'\u001b[39m\u001b[38;5;124m in \u001b[39m\u001b[38;5;124m'\u001b[39m\u001b[38;5;132;01m{\u001b[39;00mvalid_values\u001b[38;5;132;01m}\u001b[39;00m\u001b[38;5;124m'\u001b[39m\u001b[38;5;124m\"\u001b[39m\n\u001b[0;32m--> 314\u001b[0m     \u001b[43m_dfatal\u001b[49m\u001b[43m(\u001b[49m\u001b[43mtxt\u001b[49m\u001b[43m,\u001b[49m\u001b[43m \u001b[49m\u001b[43mmsg\u001b[49m\u001b[43m,\u001b[49m\u001b[43m \u001b[49m\u001b[38;5;241;43m*\u001b[39;49m\u001b[43margs\u001b[49m\u001b[43m,\u001b[49m\u001b[43m \u001b[49m\u001b[43monly_warning\u001b[49m\u001b[38;5;241;43m=\u001b[39;49m\u001b[43monly_warning\u001b[49m\u001b[43m)\u001b[49m\n",
      "File \u001b[0;32m/app/helpers/hdbg.py:142\u001b[0m, in \u001b[0;36m_dfatal\u001b[0;34m(txt, msg, only_warning, *args)\u001b[0m\n\u001b[1;32m    139\u001b[0m     _LOG\u001b[38;5;241m.\u001b[39mwarning(dfatal_txt)\n\u001b[1;32m    140\u001b[0m \u001b[38;5;28;01melse\u001b[39;00m:\n\u001b[1;32m    141\u001b[0m     \u001b[38;5;66;03m# Abort.\u001b[39;00m\n\u001b[0;32m--> 142\u001b[0m     \u001b[43mdfatal\u001b[49m\u001b[43m(\u001b[49m\u001b[43mdfatal_txt\u001b[49m\u001b[43m)\u001b[49m\n",
      "File \u001b[0;32m/app/helpers/hdbg.py:71\u001b[0m, in \u001b[0;36mdfatal\u001b[0;34m(message, assertion_type)\u001b[0m\n\u001b[1;32m     69\u001b[0m \u001b[38;5;28;01mif\u001b[39;00m assertion_type \u001b[38;5;129;01mis\u001b[39;00m \u001b[38;5;28;01mNone\u001b[39;00m:\n\u001b[1;32m     70\u001b[0m     assertion_type \u001b[38;5;241m=\u001b[39m \u001b[38;5;167;01mAssertionError\u001b[39;00m\n\u001b[0;32m---> 71\u001b[0m \u001b[38;5;28;01mraise\u001b[39;00m assertion_type(ret)\n",
      "\u001b[0;31mAssertionError\u001b[0m: \n################################################################################\n* Failed assertion *\n'BTC/USDT' in '['AVAX/USDC:USDC', 'ETH/USDC:USDC', 'ADA/USDC:USDC', 'DOT/USDC:USDC', 'BTC/USDC:USDC', 'XRP/USDC:USDC', 'SOL/USDC:USDC', 'LTC/USDC:USDC', 'MATIC/USDC:USDC', 'UNI/USDC:USDC', 'LINK/USDC:USDC', 'ALGO/USDC:USDC', 'NEAR/USDC:USDC', 'TRX/USDC:USDC', 'DOGE/USDC:USDC', 'BCH/USDC:USDC', 'ETH/USD:ETH-230204-800-C', 'ETH/USD:ETH-230204-800-P', 'ETH/USD:ETH-230204-900-C', 'ETH/USD:ETH-230204-900-P', 'ETH/USD:ETH-230204-1000-C', 'ETH/USD:ETH-230204-1000-P', 'ETH/USD:ETH-230204-1100-C', 'ETH/USD:ETH-230204-1100-P', 'ETH/USD:ETH-230204-1200-C', 'ETH/USD:ETH-230204-1200-P', 'ETH/USD:ETH-230204-1300-C', 'ETH/USD:ETH-230204-1300-P', 'ETH/USD:ETH-230204-1350-C', 'ETH/USD:ETH-230204-1350-P', 'ETH/USD:ETH-230204-1400-C', 'ETH/USD:ETH-230204-1400-P', 'ETH/USD:ETH-230204-1450-C', 'ETH/USD:ETH-230204-1450-P', 'ETH/USD:ETH-230204-1500-C', 'ETH/USD:ETH-230204-1500-P', 'ETH/USD:ETH-230204-1525-C', 'ETH/USD:ETH-230204-1525-P', 'ETH/USD:ETH-230204-1550-C', 'ETH/USD:ETH-230204-1550-P', 'ETH/USD:ETH-230204-1575-C', 'ETH/USD:ETH-230204-1575-P', 'ETH/USD:ETH-230204-1600-C', 'ETH/USD:ETH-230204-1600-P', 'ETH/USD:ETH-230204-1625-C', 'ETH/USD:ETH-230204-1625-P', 'ETH/USD:ETH-230204-1650-C', 'ETH/USD:ETH-230204-1650-P', 'ETH/USD:ETH-230204-1675-C', 'ETH/USD:ETH-230204-1675-P', 'ETH/USD:ETH-230204-1700-C', 'ETH/USD:ETH-230204-1700-P', 'ETH/USD:ETH-230204-1725-C', 'ETH/USD:ETH-230204-1725-P', 'ETH/USD:ETH-230204-1750-C', 'ETH/USD:ETH-230204-1750-P', 'ETH/USD:ETH-230204-1775-C', 'ETH/USD:ETH-230204-1775-P', 'ETH/USD:ETH-230204-1800-C', 'ETH/USD:ETH-230204-1800-P', 'ETH/USD:ETH-230204-1850-C', 'ETH/USD:ETH-230204-1850-P', 'ETH/USD:ETH-230204-1900-C', 'ETH/USD:ETH-230204-1900-P', 'ETH/USD:ETH-230204-1950-C', 'ETH/USD:ETH-230204-1950-P', 'ETH/USD:ETH-230204-2000-C', 'ETH/USD:ETH-230204-2000-P', 'ETH-STRD-4FEB23-1650', 'ETH/USD:ETH-230205-800-C', 'ETH/USD:ETH-230205-800-P', 'ETH/USD:ETH-230205-900-C', 'ETH/USD:ETH-230205-900-P', 'ETH/USD:ETH-230205-1000-C', 'ETH/USD:ETH-230205-1000-P', 'ETH/USD:ETH-230205-1100-C', 'ETH/USD:ETH-230205-1100-P', 'ETH/USD:ETH-230205-1200-C', 'ETH/USD:ETH-230205-1200-P', 'ETH/USD:ETH-230205-1300-C', 'ETH/USD:ETH-230205-1300-P', 'ETH/USD:ETH-230205-1350-C', 'ETH/USD:ETH-230205-1350-P', 'ETH/USD:ETH-230205-1400-C', 'ETH/USD:ETH-230205-1400-P', 'ETH/USD:ETH-230205-1450-C', 'ETH/USD:ETH-230205-1450-P', 'ETH/USD:ETH-230205-1475-C', 'ETH/USD:ETH-230205-1475-P', 'ETH/USD:ETH-230205-1500-C', 'ETH/USD:ETH-230205-1500-P', 'ETH/USD:ETH-230205-1525-C', 'ETH/USD:ETH-230205-1525-P', 'ETH/USD:ETH-230205-1550-C', 'ETH/USD:ETH-230205-1550-P', 'ETH/USD:ETH-230205-1575-C', 'ETH/USD:ETH-230205-1575-P', 'ETH/USD:ETH-230205-1600-C', 'ETH/USD:ETH-230205-1600-P', 'ETH/USD:ETH-230205-1625-C', 'ETH/USD:ETH-230205-1625-P', 'ETH/USD:ETH-230205-1650-C', 'ETH/USD:ETH-230205-1650-P', 'ETH/USD:ETH-230205-1675-C', 'ETH/USD:ETH-230205-1675-P', 'ETH/USD:ETH-230205-1700-C', 'ETH/USD:ETH-230205-1700-P', 'ETH/USD:ETH-230205-1725-C', 'ETH/USD:ETH-230205-1725-P', 'ETH/USD:ETH-230205-1750-C', 'ETH/USD:ETH-230205-1750-P', 'ETH/USD:ETH-230205-1775-C', 'ETH/USD:ETH-230205-1775-P', 'ETH/USD:ETH-230205-1800-C', 'ETH/USD:ETH-230205-1800-P', 'ETH/USD:ETH-230205-1850-C', 'ETH/USD:ETH-230205-1850-P', 'ETH/USD:ETH-230205-1900-C', 'ETH/USD:ETH-230205-1900-P', 'ETH/USD:ETH-230205-2000-C', 'ETH/USD:ETH-230205-2000-P', 'ETH/USD:ETH-230210', 'ETH/USD:ETH-230210-600-C', 'ETH/USD:ETH-230210-600-P', 'ETH/USD:ETH-230210-800-C', 'ETH/USD:ETH-230210-800-P', 'ETH/USD:ETH-230210-900-C', 'ETH/USD:ETH-230210-900-P', 'ETH/USD:ETH-230210-1000-C', 'ETH/USD:ETH-230210-1000-P', 'ETH/USD:ETH-230210-1100-C', 'ETH/USD:ETH-230210-1100-P', 'ETH/USD:ETH-230210-1150-C', 'ETH/USD:ETH-230210-1150-P', 'ETH/USD:ETH-230210-1200-C', 'ETH/USD:ETH-230210-1200-P', 'ETH/USD:ETH-230210-1250-C', 'ETH/USD:ETH-230210-1250-P', 'ETH/USD:ETH-230210-1300-C', 'ETH/USD:ETH-230210-1300-P', 'ETH/USD:ETH-230210-1350-C', 'ETH/USD:ETH-230210-1350-P', 'ETH/USD:ETH-230210-1400-C', 'ETH/USD:ETH-230210-1400-P', 'ETH/USD:ETH-230210-1450-C', 'ETH/USD:ETH-230210-1450-P', 'ETH/USD:ETH-230210-1500-C', 'ETH/USD:ETH-230210-1500-P', 'ETH/USD:ETH-230210-1550-C', 'ETH/USD:ETH-230210-1550-P', 'ETH/USD:ETH-230210-1600-C', 'ETH/USD:ETH-230210-1600-P', 'ETH/USD:ETH-230210-1650-C', 'ETH/USD:ETH-230210-1650-P', 'ETH/USD:ETH-230210-1700-C', 'ETH/USD:ETH-230210-1700-P', 'ETH/USD:ETH-230210-1750-C', 'ETH/USD:ETH-230210-1750-P', 'ETH/USD:ETH-230210-1800-C', 'ETH/USD:ETH-230210-1800-P', 'ETH/USD:ETH-230210-1850-C', 'ETH/USD:ETH-230210-1850-P', 'ETH/USD:ETH-230210-1900-C', 'ETH/USD:ETH-230210-1900-P', 'ETH/USD:ETH-230210-1950-C', 'ETH/USD:ETH-230210-1950-P', 'ETH/USD:ETH-230210-2000-C', 'ETH/USD:ETH-230210-2000-P', 'ETH/USD:ETH-230210-2200-C', 'ETH/USD:ETH-230210-2200-P', 'ETH/USD:ETH-230210-2400-C', 'ETH/USD:ETH-230210-2400-P', 'ETH/USD:ETH-230210-2600-C', 'ETH/USD:ETH-230210-2600-P', 'ETH/USD:ETH-230210-2800-C', 'ETH/USD:ETH-230210-2800-P', 'ETH/USD:ETH-230210-3000-C', 'ETH/USD:ETH-230210-3000-P', 'ETH-PS-10FEB23-1500_1100', 'ETH/USD:ETH-230217', 'ETH/USD:ETH-230217-800-C', 'ETH/USD:ETH-230217-800-P', 'ETH/USD:ETH-230217-900-C', 'ETH/USD:ETH-230217-900-P', 'ETH/USD:ETH-230217-1000-C', 'ETH/USD:ETH-230217-1000-P', 'ETH/USD:ETH-230217-1100-C', 'ETH/USD:ETH-230217-1100-P', 'ETH/USD:ETH-230217-1200-C', 'ETH/USD:ETH-230217-1200-P', 'ETH/USD:ETH-230217-1250-C', 'ETH/USD:ETH-230217-1250-P', 'ETH/USD:ETH-230217-1300-C', 'ETH/USD:ETH-230217-1300-P', 'ETH/USD:ETH-230217-1350-C', 'ETH/USD:ETH-230217-1350-P', 'ETH/USD:ETH-230217-1400-C', 'ETH/USD:ETH-230217-1400-P', 'ETH/USD:ETH-230217-1450-C', 'ETH/USD:ETH-230217-1450-P', 'ETH/USD:ETH-230217-1500-C', 'ETH/USD:ETH-230217-1500-P', 'ETH/USD:ETH-230217-1550-C', 'ETH/USD:ETH-230217-1550-P', 'ETH/USD:ETH-230217-1600-C', 'ETH/USD:ETH-230217-1600-P', 'ETH/USD:ETH-230217-1650-C', 'ETH/USD:ETH-230217-1650-P', 'ETH/USD:ETH-230217-1700-C', 'ETH/USD:ETH-230217-1700-P', 'ETH/USD:ETH-230217-1750-C', 'ETH/USD:ETH-230217-1750-P', 'ETH/USD:ETH-230217-1800-C', 'ETH/USD:ETH-230217-1800-P', 'ETH/USD:ETH-230217-1900-C', 'ETH/USD:ETH-230217-1900-P', 'ETH/USD:ETH-230217-2000-C', 'ETH/USD:ETH-230217-2000-P', 'ETH/USD:ETH-230217-2200-C', 'ETH/USD:ETH-230217-2200-P', 'ETH/USD:ETH-230217-2400-C', 'ETH/USD:ETH-230217-2400-P', 'ETH/USD:ETH-230217-2600-C', 'ETH/USD:ETH-230217-2600-P', 'ETH/USD:ETH-230217-2800-C', 'ETH/USD:ETH-230217-2800-P', 'ETH/USD:ETH-230217-3000-C', 'ETH/USD:ETH-230217-3000-P', 'ETH-STRG-17FEB23-1650_1700', 'ETH/USD:ETH-230224', 'ETH/USD:ETH-230224-400-C', 'ETH/USD:ETH-230224-400-P', 'ETH/USD:ETH-230224-500-C', 'ETH/USD:ETH-230224-500-P', 'ETH/USD:ETH-230224-600-C', 'ETH/USD:ETH-230224-600-P', 'ETH/USD:ETH-230224-700-C', 'ETH/USD:ETH-230224-700-P', 'ETH/USD:ETH-230224-800-C', 'ETH/USD:ETH-230224-800-P', 'ETH/USD:ETH-230224-900-C', 'ETH/USD:ETH-230224-900-P', 'ETH/USD:ETH-230224-1000-C', 'ETH/USD:ETH-230224-1000-P', 'ETH/USD:ETH-230224-1100-C', 'ETH/USD:ETH-230224-1100-P', 'ETH/USD:ETH-230224-1200-C', 'ETH/USD:ETH-230224-1200-P', 'ETH/USD:ETH-230224-1300-C', 'ETH/USD:ETH-230224-1300-P', 'ETH/USD:ETH-230224-1400-C', 'ETH/USD:ETH-230224-1400-P', 'ETH/USD:ETH-230224-1500-C', 'ETH/USD:ETH-230224-1500-P', 'ETH/USD:ETH-230224-1550-C', 'ETH/USD:ETH-230224-1550-P', 'ETH/USD:ETH-230224-1600-C', 'ETH/USD:ETH-230224-1600-P', 'ETH/USD:ETH-230224-1650-C', 'ETH/USD:ETH-230224-1650-P', 'ETH/USD:ETH-230224-1700-C', 'ETH/USD:ETH-230224-1700-P', 'ETH/USD:ETH-230224-1750-C', 'ETH/USD:ETH-230224-1750-P', 'ETH/USD:ETH-230224-1800-C', 'ETH/USD:ETH-230224-1800-P', 'ETH/USD:ETH-230224-1900-C', 'ETH/USD:ETH-230224-1900-P', 'ETH/USD:ETH-230224-2000-C', 'ETH/USD:ETH-230224-2000-P', 'ETH/USD:ETH-230224-2100-C', 'ETH/USD:ETH-230224-2100-P', 'ETH/USD:ETH-230224-2200-C', 'ETH/USD:ETH-230224-2200-P', 'ETH/USD:ETH-230224-2400-C', 'ETH/USD:ETH-230224-2400-P', 'ETH/USD:ETH-230224-2600-C', 'ETH/USD:ETH-230224-2600-P', 'ETH/USD:ETH-230224-2800-C', 'ETH/USD:ETH-230224-2800-P', 'ETH-FS-31MAR23_24FEB23', 'ETH-PS-24FEB23-1500_1100', 'ETH-CCAL-31MAR23_24FEB23-1800', 'ETH/USD:ETH-230331', 'ETH/USD:ETH-230331-200-C', 'ETH/USD:ETH-230331-200-P', 'ETH/USD:ETH-230331-300-C', 'ETH/USD:ETH-230331-300-P', 'ETH/USD:ETH-230331-400-C', 'ETH/USD:ETH-230331-400-P', 'ETH/USD:ETH-230331-500-C', 'ETH/USD:ETH-230331-500-P', 'ETH/USD:ETH-230331-600-C', 'ETH/USD:ETH-230331-600-P', 'ETH/USD:ETH-230331-700-C', 'ETH/USD:ETH-230331-700-P', 'ETH/USD:ETH-230331-800-C', 'ETH/USD:ETH-230331-800-P', 'ETH/USD:ETH-230331-900-C', 'ETH/USD:ETH-230331-900-P', 'ETH/USD:ETH-230331-1000-C', 'ETH/USD:ETH-230331-1000-P', 'ETH/USD:ETH-230331-1100-C', 'ETH/USD:ETH-230331-1100-P', 'ETH/USD:ETH-230331-1200-C', 'ETH/USD:ETH-230331-1200-P', 'ETH/USD:ETH-230331-1300-C', 'ETH/USD:ETH-230331-1300-P', 'ETH/USD:ETH-230331-1400-C', 'ETH/USD:ETH-230331-1400-P', 'ETH/USD:ETH-230331-1500-C', 'ETH/USD:ETH-230331-1500-P', 'ETH/USD:ETH-230331-1600-C', 'ETH/USD:ETH-230331-1600-P', 'ETH/USD:ETH-230331-1700-C', 'ETH/USD:ETH-230331-1700-P', 'ETH/USD:ETH-230331-1800-C', 'ETH/USD:ETH-230331-1800-P', 'ETH/USD:ETH-230331-1900-C', 'ETH/USD:ETH-230331-1900-P', 'ETH/USD:ETH-230331-2000-C', 'ETH/USD:ETH-230331-2000-P', 'ETH/USD:ETH-230331-2100-C', 'ETH/USD:ETH-230331-2100-P', 'ETH/USD:ETH-230331-2200-C', 'ETH/USD:ETH-230331-2200-P', 'ETH/USD:ETH-230331-2300-C', 'ETH/USD:ETH-230331-2300-P', 'ETH/USD:ETH-230331-2400-C', 'ETH/USD:ETH-230331-2400-P', 'ETH/USD:ETH-230331-2500-C', 'ETH/USD:ETH-230331-2500-P', 'ETH/USD:ETH-230331-2600-C', 'ETH/USD:ETH-230331-2600-P', 'ETH/USD:ETH-230331-2800-C', 'ETH/USD:ETH-230331-2800-P', 'ETH/USD:ETH-230331-3000-C', 'ETH/USD:ETH-230331-3000-P', 'ETH/USD:ETH-230331-3200-C', 'ETH/USD:ETH-230331-3200-P', 'ETH/USD:ETH-230331-3400-C', 'ETH/USD:ETH-230331-3400-P', 'ETH/USD:ETH-230331-3500-C', 'ETH/USD:ETH-230331-3500-P', 'ETH/USD:ETH-230331-4000-C', 'ETH/USD:ETH-230331-4000-P', 'ETH/USD:ETH-230331-4500-C', 'ETH/USD:ETH-230331-4500-P', 'ETH/USD:ETH-230331-5000-C', 'ETH/USD:ETH-230331-5000-P', 'ETH/USD:ETH-230331-5500-C', 'ETH/USD:ETH-230331-5500-P', 'ETH/USD:ETH-230331-6000-C', 'ETH/USD:ETH-230331-6000-P', 'ETH/USD:ETH-230331-6500-C', 'ETH/USD:ETH-230331-6500-P', 'ETH/USD:ETH-230331-7000-C', 'ETH/USD:ETH-230331-7000-P', 'ETH/USD:ETH-230331-8000-C', 'ETH/USD:ETH-230331-8000-P', 'ETH/USD:ETH-230331-9000-C', 'ETH/USD:ETH-230331-9000-P', 'ETH/USD:ETH-230331-10000-C', 'ETH/USD:ETH-230331-10000-P', 'ETH/USD:ETH-230331-15000-C', 'ETH/USD:ETH-230331-15000-P', 'ETH/USD:ETH-230331-20000-C', 'ETH/USD:ETH-230331-20000-P', 'ETH/USD:ETH-230331-25000-C', 'ETH/USD:ETH-230331-25000-P', 'ETH/USD:ETH-230331-30000-C', 'ETH/USD:ETH-230331-30000-P', 'ETH-FS-31MAR23_PERP', 'ETH-FS-30JUN23_31MAR23', 'ETH-FS-29SEP23_31MAR23', 'ETH/USD:ETH-230428-600-C', 'ETH/USD:ETH-230428-600-P', 'ETH/USD:ETH-230428-700-C', 'ETH/USD:ETH-230428-700-P', 'ETH/USD:ETH-230428-800-C', 'ETH/USD:ETH-230428-800-P', 'ETH/USD:ETH-230428-900-C', 'ETH/USD:ETH-230428-900-P', 'ETH/USD:ETH-230428-1000-C', 'ETH/USD:ETH-230428-1000-P', 'ETH/USD:ETH-230428-1100-C', 'ETH/USD:ETH-230428-1100-P', 'ETH/USD:ETH-230428-1200-C', 'ETH/USD:ETH-230428-1200-P', 'ETH/USD:ETH-230428-1300-C', 'ETH/USD:ETH-230428-1300-P', 'ETH/USD:ETH-230428-1400-C', 'ETH/USD:ETH-230428-1400-P', 'ETH/USD:ETH-230428-1500-C', 'ETH/USD:ETH-230428-1500-P', 'ETH/USD:ETH-230428-1600-C', 'ETH/USD:ETH-230428-1600-P', 'ETH/USD:ETH-230428-1700-C', 'ETH/USD:ETH-230428-1700-P', 'ETH/USD:ETH-230428-1800-C', 'ETH/USD:ETH-230428-1800-P', 'ETH/USD:ETH-230428-1900-C', 'ETH/USD:ETH-230428-1900-P', 'ETH/USD:ETH-230428-2000-C', 'ETH/USD:ETH-230428-2000-P', 'ETH/USD:ETH-230428-2100-C', 'ETH/USD:ETH-230428-2100-P', 'ETH/USD:ETH-230428-2200-C', 'ETH/USD:ETH-230428-2200-P', 'ETH/USD:ETH-230428-2300-C', 'ETH/USD:ETH-230428-2300-P', 'ETH/USD:ETH-230428-2400-C', 'ETH/USD:ETH-230428-2400-P', 'ETH/USD:ETH-230428-2500-C', 'ETH/USD:ETH-230428-2500-P', 'ETH/USD:ETH-230428-2600-C', 'ETH/USD:ETH-230428-2600-P', 'ETH/USD:ETH-230428-2800-C', 'ETH/USD:ETH-230428-2800-P', 'ETH/USD:ETH-230428-3000-C', 'ETH/USD:ETH-230428-3000-P', 'ETH/USD:ETH-230428-3200-C', 'ETH/USD:ETH-230428-3200-P', 'ETH/USD:ETH-230428-3400-C', 'ETH/USD:ETH-230428-3400-P', 'ETH/USD:ETH-230428-3600-C', 'ETH/USD:ETH-230428-3600-P', 'ETH/USD:ETH-230630', 'ETH/USD:ETH-230630-100-C', 'ETH/USD:ETH-230630-100-P', 'ETH/USD:ETH-230630-200-C', 'ETH/USD:ETH-230630-200-P', 'ETH/USD:ETH-230630-300-C', 'ETH/USD:ETH-230630-300-P', 'ETH/USD:ETH-230630-400-C', 'ETH/USD:ETH-230630-400-P', 'ETH/USD:ETH-230630-500-C', 'ETH/USD:ETH-230630-500-P', 'ETH/USD:ETH-230630-600-C', 'ETH/USD:ETH-230630-600-P', 'ETH/USD:ETH-230630-700-C', 'ETH/USD:ETH-230630-700-P', 'ETH/USD:ETH-230630-800-C', 'ETH/USD:ETH-230630-800-P', 'ETH/USD:ETH-230630-900-C', 'ETH/USD:ETH-230630-900-P', 'ETH/USD:ETH-230630-1000-C', 'ETH/USD:ETH-230630-1000-P', 'ETH/USD:ETH-230630-1100-C', 'ETH/USD:ETH-230630-1100-P', 'ETH/USD:ETH-230630-1200-C', 'ETH/USD:ETH-230630-1200-P', 'ETH/USD:ETH-230630-1300-C', 'ETH/USD:ETH-230630-1300-P', 'ETH/USD:ETH-230630-1400-C', 'ETH/USD:ETH-230630-1400-P', 'ETH/USD:ETH-230630-1500-C', 'ETH/USD:ETH-230630-1500-P', 'ETH/USD:ETH-230630-1600-C', 'ETH/USD:ETH-230630-1600-P', 'ETH/USD:ETH-230630-1700-C', 'ETH/USD:ETH-230630-1700-P', 'ETH/USD:ETH-230630-1800-C', 'ETH/USD:ETH-230630-1800-P', 'ETH/USD:ETH-230630-1900-C', 'ETH/USD:ETH-230630-1900-P', 'ETH/USD:ETH-230630-2000-C', 'ETH/USD:ETH-230630-2000-P', 'ETH/USD:ETH-230630-2100-C', 'ETH/USD:ETH-230630-2100-P', 'ETH/USD:ETH-230630-2200-C', 'ETH/USD:ETH-230630-2200-P', 'ETH/USD:ETH-230630-2300-C', 'ETH/USD:ETH-230630-2300-P', 'ETH/USD:ETH-230630-2400-C', 'ETH/USD:ETH-230630-2400-P', 'ETH/USD:ETH-230630-2500-C', 'ETH/USD:ETH-230630-2500-P', 'ETH/USD:ETH-230630-2600-C', 'ETH/USD:ETH-230630-2600-P', 'ETH/USD:ETH-230630-3000-C', 'ETH/USD:ETH-230630-3000-P', 'ETH/USD:ETH-230630-3500-C', 'ETH/USD:ETH-230630-3500-P', 'ETH/USD:ETH-230630-4000-C', 'ETH/USD:ETH-230630-4000-P', 'ETH/USD:ETH-230630-4500-C', 'ETH/USD:ETH-230630-4500-P', 'ETH/USD:ETH-230630-5000-C', 'ETH/USD:ETH-230630-5000-P', 'ETH/USD:ETH-230630-5500-C', 'ETH/USD:ETH-230630-5500-P', 'ETH/USD:ETH-230630-6000-C', 'ETH/USD:ETH-230630-6000-P', 'ETH/USD:ETH-230630-6500-C', 'ETH/USD:ETH-230630-6500-P', 'ETH-FS-30JUN23_PERP', 'ETH-FS-29SEP23_30JUN23', 'ETH-STRD-30JUN23-1600', 'ETH-STRG-30JUN23-900_2500', 'ETH-RR-30JUN23-1000_2000', 'ETH-STRG-30JUN23-1000_2600', 'ETH-STRG-30JUN23-1000_2500', 'ETH/USD:ETH-230929', 'ETH/USD:ETH-230929-200-C', 'ETH/USD:ETH-230929-200-P', 'ETH/USD:ETH-230929-300-C', 'ETH/USD:ETH-230929-300-P', 'ETH/USD:ETH-230929-400-C', 'ETH/USD:ETH-230929-400-P', 'ETH/USD:ETH-230929-500-C', 'ETH/USD:ETH-230929-500-P', 'ETH/USD:ETH-230929-600-C', 'ETH/USD:ETH-230929-600-P', 'ETH/USD:ETH-230929-700-C', 'ETH/USD:ETH-230929-700-P', 'ETH/USD:ETH-230929-800-C', 'ETH/USD:ETH-230929-800-P', 'ETH/USD:ETH-230929-900-C', 'ETH/USD:ETH-230929-900-P', 'ETH/USD:ETH-230929-1000-C', 'ETH/USD:ETH-230929-1000-P', 'ETH/USD:ETH-230929-1100-C', 'ETH/USD:ETH-230929-1100-P', 'ETH/USD:ETH-230929-1200-C', 'ETH/USD:ETH-230929-1200-P', 'ETH/USD:ETH-230929-1300-C', 'ETH/USD:ETH-230929-1300-P', 'ETH/USD:ETH-230929-1400-C', 'ETH/USD:ETH-230929-1400-P', 'ETH/USD:ETH-230929-1500-C', 'ETH/USD:ETH-230929-1500-P', 'ETH/USD:ETH-230929-1600-C', 'ETH/USD:ETH-230929-1600-P', 'ETH/USD:ETH-230929-1700-C', 'ETH/USD:ETH-230929-1700-P', 'ETH/USD:ETH-230929-1800-C', 'ETH/USD:ETH-230929-1800-P', 'ETH/USD:ETH-230929-1900-C', 'ETH/USD:ETH-230929-1900-P', 'ETH/USD:ETH-230929-2000-C', 'ETH/USD:ETH-230929-2000-P', 'ETH/USD:ETH-230929-2200-C', 'ETH/USD:ETH-230929-2200-P', 'ETH/USD:ETH-230929-2500-C', 'ETH/USD:ETH-230929-2500-P', 'ETH/USD:ETH-230929-3000-C', 'ETH/USD:ETH-230929-3000-P', 'ETH/USD:ETH-230929-3500-C', 'ETH/USD:ETH-230929-3500-P', 'ETH/USD:ETH-230929-4000-C', 'ETH/USD:ETH-230929-4000-P', 'ETH/USD:ETH-230929-4500-C', 'ETH/USD:ETH-230929-4500-P', 'ETH/USD:ETH-230929-5000-C', 'ETH/USD:ETH-230929-5000-P', 'ETH/USD:ETH-230929-5500-C', 'ETH/USD:ETH-230929-5500-P', 'ETH-FS-29SEP23_PERP', 'ETH/USD:ETH-231229', 'ETH/USD:ETH-231229-200-C', 'ETH/USD:ETH-231229-200-P', 'ETH/USD:ETH-231229-400-C', 'ETH/USD:ETH-231229-400-P', 'ETH/USD:ETH-231229-600-C', 'ETH/USD:ETH-231229-600-P', 'ETH/USD:ETH-231229-800-C', 'ETH/USD:ETH-231229-800-P', 'ETH/USD:ETH-231229-1000-C', 'ETH/USD:ETH-231229-1000-P', 'ETH/USD:ETH-231229-1100-C', 'ETH/USD:ETH-231229-1100-P', 'ETH/USD:ETH-231229-1200-C', 'ETH/USD:ETH-231229-1200-P', 'ETH/USD:ETH-231229-1300-C', 'ETH/USD:ETH-231229-1300-P', 'ETH/USD:ETH-231229-1400-C', 'ETH/USD:ETH-231229-1400-P', 'ETH/USD:ETH-231229-1500-C', 'ETH/USD:ETH-231229-1500-P', 'ETH/USD:ETH-231229-1600-C', 'ETH/USD:ETH-231229-1600-P', 'ETH/USD:ETH-231229-1700-C', 'ETH/USD:ETH-231229-1700-P', 'ETH/USD:ETH-231229-1800-C', 'ETH/USD:ETH-231229-1800-P', 'ETH/USD:ETH-231229-1900-C', 'ETH/USD:ETH-231229-1900-P', 'ETH/USD:ETH-231229-2000-C', 'ETH/USD:ETH-231229-2000-P', 'ETH/USD:ETH-231229-2200-C', 'ETH/USD:ETH-231229-2200-P', 'ETH/USD:ETH-231229-2500-C', 'ETH/USD:ETH-231229-2500-P', 'ETH/USD:ETH-231229-3000-C', 'ETH/USD:ETH-231229-3000-P', 'ETH/USD:ETH-231229-3500-C', 'ETH/USD:ETH-231229-3500-P', 'ETH/USD:ETH-231229-4000-C', 'ETH/USD:ETH-231229-4000-P', 'ETH/USD:ETH-231229-4500-C', 'ETH/USD:ETH-231229-4500-P', 'ETH/USD:ETH-231229-5000-C', 'ETH/USD:ETH-231229-5000-P', 'ETH/USD:ETH-231229-5500-C', 'ETH/USD:ETH-231229-5500-P', 'ETH/USD:ETH', 'BTC/USD:BTC-230204-19000-C', 'BTC/USD:BTC-230204-19000-P', 'BTC/USD:BTC-230204-20000-C', 'BTC/USD:BTC-230204-20000-P', 'BTC/USD:BTC-230204-20500-C', 'BTC/USD:BTC-230204-20500-P', 'BTC/USD:BTC-230204-21000-C', 'BTC/USD:BTC-230204-21000-P', 'BTC/USD:BTC-230204-21500-C', 'BTC/USD:BTC-230204-21500-P', 'BTC/USD:BTC-230204-22000-C', 'BTC/USD:BTC-230204-22000-P', 'BTC/USD:BTC-230204-22250-C', 'BTC/USD:BTC-230204-22250-P', 'BTC/USD:BTC-230204-22500-C', 'BTC/USD:BTC-230204-22500-P', 'BTC/USD:BTC-230204-22750-C', 'BTC/USD:BTC-230204-22750-P', 'BTC/USD:BTC-230204-23000-C', 'BTC/USD:BTC-230204-23000-P', 'BTC/USD:BTC-230204-23250-C', 'BTC/USD:BTC-230204-23250-P', 'BTC/USD:BTC-230204-23500-C', 'BTC/USD:BTC-230204-23500-P', 'BTC/USD:BTC-230204-23750-C', 'BTC/USD:BTC-230204-23750-P', 'BTC/USD:BTC-230204-24000-C', 'BTC/USD:BTC-230204-24000-P', 'BTC/USD:BTC-230204-24250-C', 'BTC/USD:BTC-230204-24250-P', 'BTC/USD:BTC-230204-24500-C', 'BTC/USD:BTC-230204-24500-P', 'BTC/USD:BTC-230204-24750-C', 'BTC/USD:BTC-230204-24750-P', 'BTC/USD:BTC-230204-25000-C', 'BTC/USD:BTC-230204-25000-P', 'BTC/USD:BTC-230204-25500-C', 'BTC/USD:BTC-230204-25500-P', 'BTC/USD:BTC-230204-26000-C', 'BTC/USD:BTC-230204-26000-P', 'BTC/USD:BTC-230204-26500-C', 'BTC/USD:BTC-230204-26500-P', 'BTC/USD:BTC-230204-27000-C', 'BTC/USD:BTC-230204-27000-P', 'BTC-STRG-4FEB23-22000_24750', 'BTC/USD:BTC-230205-19000-C', 'BTC/USD:BTC-230205-19000-P', 'BTC/USD:BTC-230205-20000-C', 'BTC/USD:BTC-230205-20000-P', 'BTC/USD:BTC-230205-20500-C', 'BTC/USD:BTC-230205-20500-P', 'BTC/USD:BTC-230205-21000-C', 'BTC/USD:BTC-230205-21000-P', 'BTC/USD:BTC-230205-21500-C', 'BTC/USD:BTC-230205-21500-P', 'BTC/USD:BTC-230205-22000-C', 'BTC/USD:BTC-230205-22000-P', 'BTC/USD:BTC-230205-22250-C', 'BTC/USD:BTC-230205-22250-P', 'BTC/USD:BTC-230205-22500-C', 'BTC/USD:BTC-230205-22500-P', 'BTC/USD:BTC-230205-22750-C', 'BTC/USD:BTC-230205-22750-P', 'BTC/USD:BTC-230205-23000-C', 'BTC/USD:BTC-230205-23000-P', 'BTC/USD:BTC-230205-23250-C', 'BTC/USD:BTC-230205-23250-P', 'BTC/USD:BTC-230205-23500-C', 'BTC/USD:BTC-230205-23500-P', 'BTC/USD:BTC-230205-23750-C', 'BTC/USD:BTC-230205-23750-P', 'BTC/USD:BTC-230205-24000-C', 'BTC/USD:BTC-230205-24000-P', 'BTC/USD:BTC-230205-24250-C', 'BTC/USD:BTC-230205-24250-P', 'BTC/USD:BTC-230205-24500-C', 'BTC/USD:BTC-230205-24500-P', 'BTC/USD:BTC-230205-25000-C', 'BTC/USD:BTC-230205-25000-P', 'BTC/USD:BTC-230205-25500-C', 'BTC/USD:BTC-230205-25500-P', 'BTC/USD:BTC-230205-26000-C', 'BTC/USD:BTC-230205-26000-P', 'BTC/USD:BTC-230205-27000-C', 'BTC/USD:BTC-230205-27000-P', 'BTC/USD:BTC-230210', 'BTC/USD:BTC-230210-11000-C', 'BTC/USD:BTC-230210-11000-P', 'BTC/USD:BTC-230210-12000-C', 'BTC/USD:BTC-230210-12000-P', 'BTC/USD:BTC-230210-13000-C', 'BTC/USD:BTC-230210-13000-P', 'BTC/USD:BTC-230210-14000-C', 'BTC/USD:BTC-230210-14000-P', 'BTC/USD:BTC-230210-15000-C', 'BTC/USD:BTC-230210-15000-P', 'BTC/USD:BTC-230210-16000-C', 'BTC/USD:BTC-230210-16000-P', 'BTC/USD:BTC-230210-17000-C', 'BTC/USD:BTC-230210-17000-P', 'BTC/USD:BTC-230210-17500-C', 'BTC/USD:BTC-230210-17500-P', 'BTC/USD:BTC-230210-18000-C', 'BTC/USD:BTC-230210-18000-P', 'BTC/USD:BTC-230210-18500-C', 'BTC/USD:BTC-230210-18500-P', 'BTC/USD:BTC-230210-19000-C', 'BTC/USD:BTC-230210-19000-P', 'BTC/USD:BTC-230210-19500-C', 'BTC/USD:BTC-230210-19500-P', 'BTC/USD:BTC-230210-20000-C', 'BTC/USD:BTC-230210-20000-P', 'BTC/USD:BTC-230210-20500-C', 'BTC/USD:BTC-230210-20500-P', 'BTC/USD:BTC-230210-21000-C', 'BTC/USD:BTC-230210-21000-P', 'BTC/USD:BTC-230210-21500-C', 'BTC/USD:BTC-230210-21500-P', 'BTC/USD:BTC-230210-22000-C', 'BTC/USD:BTC-230210-22000-P', 'BTC/USD:BTC-230210-22500-C', 'BTC/USD:BTC-230210-22500-P', 'BTC/USD:BTC-230210-23000-C', 'BTC/USD:BTC-230210-23000-P', 'BTC/USD:BTC-230210-23500-C', 'BTC/USD:BTC-230210-23500-P', 'BTC/USD:BTC-230210-24000-C', 'BTC/USD:BTC-230210-24000-P', 'BTC/USD:BTC-230210-24500-C', 'BTC/USD:BTC-230210-24500-P', 'BTC/USD:BTC-230210-25000-C', 'BTC/USD:BTC-230210-25000-P', 'BTC/USD:BTC-230210-26000-C', 'BTC/USD:BTC-230210-26000-P', 'BTC/USD:BTC-230210-27000-C', 'BTC/USD:BTC-230210-27000-P', 'BTC/USD:BTC-230210-28000-C', 'BTC/USD:BTC-230210-28000-P', 'BTC/USD:BTC-230210-29000-C', 'BTC/USD:BTC-230210-29000-P', 'BTC/USD:BTC-230210-30000-C', 'BTC/USD:BTC-230210-30000-P', 'BTC/USD:BTC-230210-31000-C', 'BTC/USD:BTC-230210-31000-P', 'BTC/USD:BTC-230210-32000-C', 'BTC/USD:BTC-230210-32000-P', 'BTC/USD:BTC-230210-33000-C', 'BTC/USD:BTC-230210-33000-P', 'BTC/USD:BTC-230210-34000-C', 'BTC/USD:BTC-230210-34000-P', 'BTC/USD:BTC-230210-35000-C', 'BTC/USD:BTC-230210-35000-P', 'BTC/USD:BTC-230210-36000-C', 'BTC/USD:BTC-230210-36000-P', 'BTC/USD:BTC-230210-37000-C', 'BTC/USD:BTC-230210-37000-P', 'BTC/USD:BTC-230210-38000-C', 'BTC/USD:BTC-230210-38000-P', 'BTC-FS-10FEB23_PERP', 'BTC-PBUT-10FEB23-23500_24000_24500', 'BTC/USD:BTC-230217', 'BTC/USD:BTC-230217-12000-C', 'BTC/USD:BTC-230217-12000-P', 'BTC/USD:BTC-230217-13000-C', 'BTC/USD:BTC-230217-13000-P', 'BTC/USD:BTC-230217-14000-C', 'BTC/USD:BTC-230217-14000-P', 'BTC/USD:BTC-230217-15000-C', 'BTC/USD:BTC-230217-15000-P', 'BTC/USD:BTC-230217-16000-C', 'BTC/USD:BTC-230217-16000-P', 'BTC/USD:BTC-230217-17000-C', 'BTC/USD:BTC-230217-17000-P', 'BTC/USD:BTC-230217-18000-C', 'BTC/USD:BTC-230217-18000-P', 'BTC/USD:BTC-230217-19000-C', 'BTC/USD:BTC-230217-19000-P', 'BTC/USD:BTC-230217-19500-C', 'BTC/USD:BTC-230217-19500-P', 'BTC/USD:BTC-230217-20000-C', 'BTC/USD:BTC-230217-20000-P', 'BTC/USD:BTC-230217-20500-C', 'BTC/USD:BTC-230217-20500-P', 'BTC/USD:BTC-230217-21000-C', 'BTC/USD:BTC-230217-21000-P', 'BTC/USD:BTC-230217-21500-C', 'BTC/USD:BTC-230217-21500-P', 'BTC/USD:BTC-230217-22000-C', 'BTC/USD:BTC-230217-22000-P', 'BTC/USD:BTC-230217-22500-C', 'BTC/USD:BTC-230217-22500-P', 'BTC/USD:BTC-230217-23000-C', 'BTC/USD:BTC-230217-23000-P', 'BTC/USD:BTC-230217-23500-C', 'BTC/USD:BTC-230217-23500-P', 'BTC/USD:BTC-230217-24000-C', 'BTC/USD:BTC-230217-24000-P', 'BTC/USD:BTC-230217-24500-C', 'BTC/USD:BTC-230217-24500-P', 'BTC/USD:BTC-230217-25000-C', 'BTC/USD:BTC-230217-25000-P', 'BTC/USD:BTC-230217-26000-C', 'BTC/USD:BTC-230217-26000-P', 'BTC/USD:BTC-230217-27000-C', 'BTC/USD:BTC-230217-27000-P', 'BTC/USD:BTC-230217-28000-C', 'BTC/USD:BTC-230217-28000-P', 'BTC/USD:BTC-230217-29000-C', 'BTC/USD:BTC-230217-29000-P', 'BTC/USD:BTC-230217-30000-C', 'BTC/USD:BTC-230217-30000-P', 'BTC/USD:BTC-230217-31000-C', 'BTC/USD:BTC-230217-31000-P', 'BTC/USD:BTC-230217-32000-C', 'BTC/USD:BTC-230217-32000-P', 'BTC/USD:BTC-230217-33000-C', 'BTC/USD:BTC-230217-33000-P', 'BTC/USD:BTC-230217-34000-C', 'BTC/USD:BTC-230217-34000-P', 'BTC/USD:BTC-230217-35000-C', 'BTC/USD:BTC-230217-35000-P', 'BTC/USD:BTC-230217-36000-C', 'BTC/USD:BTC-230217-36000-P', 'BTC/USD:BTC-230217-37000-C', 'BTC/USD:BTC-230217-37000-P', 'BTC/USD:BTC-230217-38000-C', 'BTC/USD:BTC-230217-38000-P', 'BTC-PBUT-17FEB23-24000_25000_26000', 'BTC-CBUT111-17FEB23-23000_26000_29000', 'BTC-CCAL-24FEB23_17FEB23-26000', 'BTC-PCAL-24FEB23_17FEB23-20000', 'BTC/USD:BTC-230224', 'BTC/USD:BTC-230224-5000-C', 'BTC/USD:BTC-230224-5000-P', 'BTC/USD:BTC-230224-8000-C', 'BTC/USD:BTC-230224-8000-P', 'BTC/USD:BTC-230224-10000-C', 'BTC/USD:BTC-230224-10000-P', 'BTC/USD:BTC-230224-12000-C', 'BTC/USD:BTC-230224-12000-P', 'BTC/USD:BTC-230224-13000-C', 'BTC/USD:BTC-230224-13000-P', 'BTC/USD:BTC-230224-14000-C', 'BTC/USD:BTC-230224-14000-P', 'BTC/USD:BTC-230224-15000-C', 'BTC/USD:BTC-230224-15000-P', 'BTC/USD:BTC-230224-16000-C', 'BTC/USD:BTC-230224-16000-P', 'BTC/USD:BTC-230224-17000-C', 'BTC/USD:BTC-230224-17000-P', 'BTC/USD:BTC-230224-18000-C', 'BTC/USD:BTC-230224-18000-P', 'BTC/USD:BTC-230224-19000-C', 'BTC/USD:BTC-230224-19000-P', 'BTC/USD:BTC-230224-20000-C', 'BTC/USD:BTC-230224-20000-P', 'BTC/USD:BTC-230224-20500-C', 'BTC/USD:BTC-230224-20500-P', 'BTC/USD:BTC-230224-21000-C', 'BTC/USD:BTC-230224-21000-P', 'BTC/USD:BTC-230224-21500-C', 'BTC/USD:BTC-230224-21500-P', 'BTC/USD:BTC-230224-22000-C', 'BTC/USD:BTC-230224-22000-P', 'BTC/USD:BTC-230224-22500-C', 'BTC/USD:BTC-230224-22500-P', 'BTC/USD:BTC-230224-23000-C', 'BTC/USD:BTC-230224-23000-P', 'BTC/USD:BTC-230224-23500-C', 'BTC/USD:BTC-230224-23500-P', 'BTC/USD:BTC-230224-24000-C', 'BTC/USD:BTC-230224-24000-P', 'BTC/USD:BTC-230224-24500-C', 'BTC/USD:BTC-230224-24500-P', 'BTC/USD:BTC-230224-25000-C', 'BTC/USD:BTC-230224-25000-P', 'BTC/USD:BTC-230224-25500-C', 'BTC/USD:BTC-230224-25500-P', 'BTC/USD:BTC-230224-26000-C', 'BTC/USD:BTC-230224-26000-P', 'BTC/USD:BTC-230224-27000-C', 'BTC/USD:BTC-230224-27000-P', 'BTC/USD:BTC-230224-28000-C', 'BTC/USD:BTC-230224-28000-P', 'BTC/USD:BTC-230224-30000-C', 'BTC/USD:BTC-230224-30000-P', 'BTC/USD:BTC-230224-32000-C', 'BTC/USD:BTC-230224-32000-P', 'BTC/USD:BTC-230224-35000-C', 'BTC/USD:BTC-230224-35000-P', 'BTC/USD:BTC-230224-40000-C', 'BTC/USD:BTC-230224-40000-P', 'BTC-FS-24FEB23_PERP', 'BTC-FS-31MAR23_24FEB23', 'BTC-FS-30JUN23_24FEB23', 'BTC-CBUT111-24FEB23-23000_25000_27000', 'BTC/USD:BTC-230331', 'BTC/USD:BTC-230331-5000-C', 'BTC/USD:BTC-230331-5000-P', 'BTC/USD:BTC-230331-8000-C', 'BTC/USD:BTC-230331-8000-P', 'BTC/USD:BTC-230331-10000-C', 'BTC/USD:BTC-230331-10000-P', 'BTC/USD:BTC-230331-11000-C', 'BTC/USD:BTC-230331-11000-P', 'BTC/USD:BTC-230331-12000-C', 'BTC/USD:BTC-230331-12000-P', 'BTC/USD:BTC-230331-13000-C', 'BTC/USD:BTC-230331-13000-P', 'BTC/USD:BTC-230331-14000-C', 'BTC/USD:BTC-230331-14000-P', 'BTC/USD:BTC-230331-15000-C', 'BTC/USD:BTC-230331-15000-P', 'BTC/USD:BTC-230331-16000-C', 'BTC/USD:BTC-230331-16000-P', 'BTC/USD:BTC-230331-17000-C', 'BTC/USD:BTC-230331-17000-P', 'BTC/USD:BTC-230331-18000-C', 'BTC/USD:BTC-230331-18000-P', 'BTC/USD:BTC-230331-19000-C', 'BTC/USD:BTC-230331-19000-P', 'BTC/USD:BTC-230331-20000-C', 'BTC/USD:BTC-230331-20000-P', 'BTC/USD:BTC-230331-21000-C', 'BTC/USD:BTC-230331-21000-P', 'BTC/USD:BTC-230331-22000-C', 'BTC/USD:BTC-230331-22000-P', 'BTC/USD:BTC-230331-23000-C', 'BTC/USD:BTC-230331-23000-P', 'BTC/USD:BTC-230331-24000-C', 'BTC/USD:BTC-230331-24000-P', 'BTC/USD:BTC-230331-25000-C', 'BTC/USD:BTC-230331-25000-P', 'BTC/USD:BTC-230331-26000-C', 'BTC/USD:BTC-230331-26000-P', 'BTC/USD:BTC-230331-27000-C', 'BTC/USD:BTC-230331-27000-P', 'BTC/USD:BTC-230331-28000-C', 'BTC/USD:BTC-230331-28000-P', 'BTC/USD:BTC-230331-29000-C', 'BTC/USD:BTC-230331-29000-P', 'BTC/USD:BTC-230331-30000-C', 'BTC/USD:BTC-230331-30000-P', 'BTC/USD:BTC-230331-32000-C', 'BTC/USD:BTC-230331-32000-P', 'BTC/USD:BTC-230331-34000-C', 'BTC/USD:BTC-230331-34000-P', 'BTC/USD:BTC-230331-35000-C', 'BTC/USD:BTC-230331-35000-P', 'BTC/USD:BTC-230331-36000-C', 'BTC/USD:BTC-230331-36000-P', 'BTC/USD:BTC-230331-38000-C', 'BTC/USD:BTC-230331-38000-P', 'BTC/USD:BTC-230331-40000-C', 'BTC/USD:BTC-230331-40000-P', 'BTC/USD:BTC-230331-42000-C', 'BTC/USD:BTC-230331-42000-P', 'BTC/USD:BTC-230331-45000-C', 'BTC/USD:BTC-230331-45000-P', 'BTC/USD:BTC-230331-50000-C', 'BTC/USD:BTC-230331-50000-P', 'BTC/USD:BTC-230331-55000-C', 'BTC/USD:BTC-230331-55000-P', 'BTC/USD:BTC-230331-60000-C', 'BTC/USD:BTC-230331-60000-P', 'BTC/USD:BTC-230331-65000-C', 'BTC/USD:BTC-230331-65000-P', 'BTC/USD:BTC-230331-70000-C', 'BTC/USD:BTC-230331-70000-P', 'BTC/USD:BTC-230331-80000-C', 'BTC/USD:BTC-230331-80000-P', 'BTC/USD:BTC-230331-100000-C', 'BTC/USD:BTC-230331-100000-P', 'BTC/USD:BTC-230331-120000-C', 'BTC/USD:BTC-230331-120000-P', 'BTC/USD:BTC-230331-140000-C', 'BTC/USD:BTC-230331-140000-P', 'BTC/USD:BTC-230331-150000-C', 'BTC/USD:BTC-230331-150000-P', 'BTC/USD:BTC-230331-200000-C', 'BTC/USD:BTC-230331-200000-P', 'BTC/USD:BTC-230331-250000-C', 'BTC/USD:BTC-230331-250000-P', 'BTC/USD:BTC-230331-300000-C', 'BTC/USD:BTC-230331-300000-P', 'BTC-FS-31MAR23_PERP', 'BTC-FS-30JUN23_31MAR23', 'BTC-FS-29SEP23_31MAR23', 'BTC-PS-31MAR23-21000_19000', 'BTC/USD:BTC-230428-5000-C', 'BTC/USD:BTC-230428-5000-P', 'BTC/USD:BTC-230428-10000-C', 'BTC/USD:BTC-230428-10000-P', 'BTC/USD:BTC-230428-12000-C', 'BTC/USD:BTC-230428-12000-P', 'BTC/USD:BTC-230428-14000-C', 'BTC/USD:BTC-230428-14000-P', 'BTC/USD:BTC-230428-16000-C', 'BTC/USD:BTC-230428-16000-P', 'BTC/USD:BTC-230428-17000-C', 'BTC/USD:BTC-230428-17000-P', 'BTC/USD:BTC-230428-18000-C', 'BTC/USD:BTC-230428-18000-P', 'BTC/USD:BTC-230428-19000-C', 'BTC/USD:BTC-230428-19000-P', 'BTC/USD:BTC-230428-20000-C', 'BTC/USD:BTC-230428-20000-P', 'BTC/USD:BTC-230428-21000-C', 'BTC/USD:BTC-230428-21000-P', 'BTC/USD:BTC-230428-22000-C', 'BTC/USD:BTC-230428-22000-P', 'BTC/USD:BTC-230428-23000-C', 'BTC/USD:BTC-230428-23000-P', 'BTC/USD:BTC-230428-24000-C', 'BTC/USD:BTC-230428-24000-P', 'BTC/USD:BTC-230428-25000-C', 'BTC/USD:BTC-230428-25000-P', 'BTC/USD:BTC-230428-26000-C', 'BTC/USD:BTC-230428-26000-P', 'BTC/USD:BTC-230428-27000-C', 'BTC/USD:BTC-230428-27000-P', 'BTC/USD:BTC-230428-28000-C', 'BTC/USD:BTC-230428-28000-P', 'BTC/USD:BTC-230428-30000-C', 'BTC/USD:BTC-230428-30000-P', 'BTC/USD:BTC-230428-32000-C', 'BTC/USD:BTC-230428-32000-P', 'BTC/USD:BTC-230428-34000-C', 'BTC/USD:BTC-230428-34000-P', 'BTC/USD:BTC-230428-36000-C', 'BTC/USD:BTC-230428-36000-P', 'BTC/USD:BTC-230428-38000-C', 'BTC/USD:BTC-230428-38000-P', 'BTC/USD:BTC-230428-40000-C', 'BTC/USD:BTC-230428-40000-P', 'BTC/USD:BTC-230428-45000-C', 'BTC/USD:BTC-230428-45000-P', 'BTC/USD:BTC-230428-50000-C', 'BTC/USD:BTC-230428-50000-P', 'BTC-PS-28APR23-21000_20000', 'BTC/USD:BTC-230630', 'BTC/USD:BTC-230630-5000-C', 'BTC/USD:BTC-230630-5000-P', 'BTC/USD:BTC-230630-8000-C', 'BTC/USD:BTC-230630-8000-P', 'BTC/USD:BTC-230630-10000-C', 'BTC/USD:BTC-230630-10000-P', 'BTC/USD:BTC-230630-11000-C', 'BTC/USD:BTC-230630-11000-P', 'BTC/USD:BTC-230630-12000-C', 'BTC/USD:BTC-230630-12000-P', 'BTC/USD:BTC-230630-13000-C', 'BTC/USD:BTC-230630-13000-P', 'BTC/USD:BTC-230630-14000-C', 'BTC/USD:BTC-230630-14000-P', 'BTC/USD:BTC-230630-15000-C', 'BTC/USD:BTC-230630-15000-P', 'BTC/USD:BTC-230630-16000-C', 'BTC/USD:BTC-230630-16000-P', 'BTC/USD:BTC-230630-17000-C', 'BTC/USD:BTC-230630-17000-P', 'BTC/USD:BTC-230630-18000-C', 'BTC/USD:BTC-230630-18000-P', 'BTC/USD:BTC-230630-19000-C', 'BTC/USD:BTC-230630-19000-P', 'BTC/USD:BTC-230630-20000-C', 'BTC/USD:BTC-230630-20000-P', 'BTC/USD:BTC-230630-21000-C', 'BTC/USD:BTC-230630-21000-P', 'BTC/USD:BTC-230630-22000-C', 'BTC/USD:BTC-230630-22000-P', 'BTC/USD:BTC-230630-23000-C', 'BTC/USD:BTC-230630-23000-P', 'BTC/USD:BTC-230630-24000-C', 'BTC/USD:BTC-230630-24000-P', 'BTC/USD:BTC-230630-25000-C', 'BTC/USD:BTC-230630-25000-P', 'BTC/USD:BTC-230630-26000-C', 'BTC/USD:BTC-230630-26000-P', 'BTC/USD:BTC-230630-27000-C', 'BTC/USD:BTC-230630-27000-P', 'BTC/USD:BTC-230630-28000-C', 'BTC/USD:BTC-230630-28000-P', 'BTC/USD:BTC-230630-29000-C', 'BTC/USD:BTC-230630-29000-P', 'BTC/USD:BTC-230630-30000-C', 'BTC/USD:BTC-230630-30000-P', 'BTC/USD:BTC-230630-35000-C', 'BTC/USD:BTC-230630-35000-P', 'BTC/USD:BTC-230630-40000-C', 'BTC/USD:BTC-230630-40000-P', 'BTC/USD:BTC-230630-45000-C', 'BTC/USD:BTC-230630-45000-P', 'BTC/USD:BTC-230630-50000-C', 'BTC/USD:BTC-230630-50000-P', 'BTC/USD:BTC-230630-60000-C', 'BTC/USD:BTC-230630-60000-P', 'BTC/USD:BTC-230630-80000-C', 'BTC/USD:BTC-230630-80000-P', 'BTC/USD:BTC-230630-100000-C', 'BTC/USD:BTC-230630-100000-P', 'BTC-FS-30JUN23_PERP', 'BTC-FS-29SEP23_30JUN23', 'BTC-RR-30JUN23-20000_28000', 'BTC/USD:BTC-230929', 'BTC/USD:BTC-230929-5000-C', 'BTC/USD:BTC-230929-5000-P', 'BTC/USD:BTC-230929-8000-C', 'BTC/USD:BTC-230929-8000-P', 'BTC/USD:BTC-230929-10000-C', 'BTC/USD:BTC-230929-10000-P', 'BTC/USD:BTC-230929-11000-C', 'BTC/USD:BTC-230929-11000-P', 'BTC/USD:BTC-230929-12000-C', 'BTC/USD:BTC-230929-12000-P', 'BTC/USD:BTC-230929-13000-C', 'BTC/USD:BTC-230929-13000-P', 'BTC/USD:BTC-230929-14000-C', 'BTC/USD:BTC-230929-14000-P', 'BTC/USD:BTC-230929-15000-C', 'BTC/USD:BTC-230929-15000-P', 'BTC/USD:BTC-230929-16000-C', 'BTC/USD:BTC-230929-16000-P', 'BTC/USD:BTC-230929-17000-C', 'BTC/USD:BTC-230929-17000-P', 'BTC/USD:BTC-230929-18000-C', 'BTC/USD:BTC-230929-18000-P', 'BTC/USD:BTC-230929-19000-C', 'BTC/USD:BTC-230929-19000-P', 'BTC/USD:BTC-230929-20000-C', 'BTC/USD:BTC-230929-20000-P', 'BTC/USD:BTC-230929-21000-C', 'BTC/USD:BTC-230929-21000-P', 'BTC/USD:BTC-230929-22000-C', 'BTC/USD:BTC-230929-22000-P', 'BTC/USD:BTC-230929-23000-C', 'BTC/USD:BTC-230929-23000-P', 'BTC/USD:BTC-230929-24000-C', 'BTC/USD:BTC-230929-24000-P', 'BTC/USD:BTC-230929-25000-C', 'BTC/USD:BTC-230929-25000-P', 'BTC/USD:BTC-230929-26000-C', 'BTC/USD:BTC-230929-26000-P', 'BTC/USD:BTC-230929-27000-C', 'BTC/USD:BTC-230929-27000-P', 'BTC/USD:BTC-230929-28000-C', 'BTC/USD:BTC-230929-28000-P', 'BTC/USD:BTC-230929-30000-C', 'BTC/USD:BTC-230929-30000-P', 'BTC/USD:BTC-230929-35000-C', 'BTC/USD:BTC-230929-35000-P', 'BTC/USD:BTC-230929-40000-C', 'BTC/USD:BTC-230929-40000-P', 'BTC/USD:BTC-230929-45000-C', 'BTC/USD:BTC-230929-45000-P', 'BTC/USD:BTC-230929-50000-C', 'BTC/USD:BTC-230929-50000-P', 'BTC/USD:BTC-230929-55000-C', 'BTC/USD:BTC-230929-55000-P', 'BTC/USD:BTC-230929-60000-C', 'BTC/USD:BTC-230929-60000-P', 'BTC/USD:BTC-230929-80000-C', 'BTC/USD:BTC-230929-80000-P', 'BTC-FS-29SEP23_PERP', 'BTC-FS-29DEC23_29SEP23', 'BTC/USD:BTC-231229', 'BTC/USD:BTC-231229-5000-C', 'BTC/USD:BTC-231229-5000-P', 'BTC/USD:BTC-231229-10000-C', 'BTC/USD:BTC-231229-10000-P', 'BTC/USD:BTC-231229-11000-C', 'BTC/USD:BTC-231229-11000-P', 'BTC/USD:BTC-231229-12000-C', 'BTC/USD:BTC-231229-12000-P', 'BTC/USD:BTC-231229-13000-C', 'BTC/USD:BTC-231229-13000-P', 'BTC/USD:BTC-231229-14000-C', 'BTC/USD:BTC-231229-14000-P', 'BTC/USD:BTC-231229-15000-C', 'BTC/USD:BTC-231229-15000-P', 'BTC/USD:BTC-231229-16000-C', 'BTC/USD:BTC-231229-16000-P', 'BTC/USD:BTC-231229-17000-C', 'BTC/USD:BTC-231229-17000-P', 'BTC/USD:BTC-231229-18000-C', 'BTC/USD:BTC-231229-18000-P', 'BTC/USD:BTC-231229-19000-C', 'BTC/USD:BTC-231229-19000-P', 'BTC/USD:BTC-231229-20000-C', 'BTC/USD:BTC-231229-20000-P', 'BTC/USD:BTC-231229-21000-C', 'BTC/USD:BTC-231229-21000-P', 'BTC/USD:BTC-231229-22000-C', 'BTC/USD:BTC-231229-22000-P', 'BTC/USD:BTC-231229-23000-C', 'BTC/USD:BTC-231229-23000-P', 'BTC/USD:BTC-231229-24000-C', 'BTC/USD:BTC-231229-24000-P', 'BTC/USD:BTC-231229-25000-C', 'BTC/USD:BTC-231229-25000-P', 'BTC/USD:BTC-231229-26000-C', 'BTC/USD:BTC-231229-26000-P', 'BTC/USD:BTC-231229-27000-C', 'BTC/USD:BTC-231229-27000-P', 'BTC/USD:BTC-231229-28000-C', 'BTC/USD:BTC-231229-28000-P', 'BTC/USD:BTC-231229-30000-C', 'BTC/USD:BTC-231229-30000-P', 'BTC/USD:BTC-231229-35000-C', 'BTC/USD:BTC-231229-35000-P', 'BTC/USD:BTC-231229-40000-C', 'BTC/USD:BTC-231229-40000-P', 'BTC/USD:BTC-231229-45000-C', 'BTC/USD:BTC-231229-45000-P', 'BTC/USD:BTC-231229-50000-C', 'BTC/USD:BTC-231229-50000-P', 'BTC/USD:BTC-231229-55000-C', 'BTC/USD:BTC-231229-55000-P', 'BTC/USD:BTC-231229-60000-C', 'BTC/USD:BTC-231229-60000-P', 'BTC/USD:BTC-231229-65000-C', 'BTC/USD:BTC-231229-65000-P', 'BTC/USD:BTC-231229-70000-C', 'BTC/USD:BTC-231229-70000-P', 'BTC/USD:BTC-231229-80000-C', 'BTC/USD:BTC-231229-80000-P', 'BTC-FS-29DEC23_PERP', 'BTC/USD:BTC']'\nCurrency pair is not present in exchange\n################################################################################\n"
     ]
    }
   ],
   "source": [
    "currency_pair = \"BTC_USDT\"\n",
    "currency_pair_for_download = extractor.convert_currency_pair(currency_pair)\n",
    "start_timestamp = pd.Timestamp(\"2023-01-01 00:00:00\")\n",
    "end_timestamp = pd.Timestamp(\"2023-01-01 05:00:00\")\n",
    "bid_ask_depth = 20\n",
    "data_type = \"bid_ask\"\n",
    "data = extractor.download_data(\n",
    "    data_type,\n",
    "    exchange_id,\n",
    "    currency_pair_for_download,\n",
    "    start_timestamp=start_timestamp,\n",
    "    end_timestamp=end_timestamp,\n",
    "    depth=bid_ask_depth,\n",
    ")\n",
    "data.head()"
   ]
  },
  {
   "cell_type": "code",
   "execution_count": 51,
   "id": "317ddc2d",
   "metadata": {
    "ExecuteTime": {
     "end_time": "2023-02-03T20:46:41.413025Z",
     "start_time": "2023-02-03T20:46:40.910935Z"
    },
    "lines_to_next_cell": 2
   },
   "outputs": [
    {
     "data": {
      "text/plain": [
       "4                   BTC/USDC:USDC\n",
       "607    BTC/USD:BTC-230204-19000-C\n",
       "608    BTC/USD:BTC-230204-19000-P\n",
       "609    BTC/USD:BTC-230204-20000-C\n",
       "610    BTC/USD:BTC-230204-20000-P\n",
       "dtype: object"
      ]
     },
     "execution_count": 51,
     "metadata": {},
     "output_type": "execute_result"
    }
   ],
   "source": [
    "deribit_exchange = ccxt.deribit()\n",
    "data = pd.Series(deribit_exchange.load_markets().keys())\n",
    "data[data.str.startswith(\"BTC\")].head()"
   ]
  },
  {
   "cell_type": "code",
   "execution_count": 52,
   "id": "1a919db3",
   "metadata": {
    "ExecuteTime": {
     "end_time": "2023-02-03T20:46:41.531893Z",
     "start_time": "2023-02-03T20:46:41.485671Z"
    }
   },
   "outputs": [
    {
     "data": {
      "text/html": [
       "<div>\n",
       "<style scoped>\n",
       "    .dataframe tbody tr th:only-of-type {\n",
       "        vertical-align: middle;\n",
       "    }\n",
       "\n",
       "    .dataframe tbody tr th {\n",
       "        vertical-align: top;\n",
       "    }\n",
       "\n",
       "    .dataframe thead th {\n",
       "        text-align: right;\n",
       "    }\n",
       "</style>\n",
       "<table border=\"1\" class=\"dataframe\">\n",
       "  <thead>\n",
       "    <tr style=\"text-align: right;\">\n",
       "      <th></th>\n",
       "      <th>symbol</th>\n",
       "      <th>bids</th>\n",
       "      <th>asks</th>\n",
       "      <th>timestamp</th>\n",
       "      <th>datetime</th>\n",
       "      <th>nonce</th>\n",
       "    </tr>\n",
       "  </thead>\n",
       "  <tbody>\n",
       "    <tr>\n",
       "      <th>0</th>\n",
       "      <td>BTC/USDC:USDC</td>\n",
       "      <td>[23335.0, 0.04]</td>\n",
       "      <td>[23336.0, 0.123]</td>\n",
       "      <td>1675457201463</td>\n",
       "      <td>2023-02-03T20:46:41.463Z</td>\n",
       "      <td>3742709184</td>\n",
       "    </tr>\n",
       "    <tr>\n",
       "      <th>1</th>\n",
       "      <td>BTC/USDC:USDC</td>\n",
       "      <td>[23334.0, 0.06]</td>\n",
       "      <td>[23337.0, 0.082]</td>\n",
       "      <td>1675457201463</td>\n",
       "      <td>2023-02-03T20:46:41.463Z</td>\n",
       "      <td>3742709184</td>\n",
       "    </tr>\n",
       "    <tr>\n",
       "      <th>2</th>\n",
       "      <td>BTC/USDC:USDC</td>\n",
       "      <td>[23333.0, 0.04]</td>\n",
       "      <td>[23338.0, 0.04]</td>\n",
       "      <td>1675457201463</td>\n",
       "      <td>2023-02-03T20:46:41.463Z</td>\n",
       "      <td>3742709184</td>\n",
       "    </tr>\n",
       "    <tr>\n",
       "      <th>3</th>\n",
       "      <td>BTC/USDC:USDC</td>\n",
       "      <td>[23332.0, 0.04]</td>\n",
       "      <td>[23339.0, 0.04]</td>\n",
       "      <td>1675457201463</td>\n",
       "      <td>2023-02-03T20:46:41.463Z</td>\n",
       "      <td>3742709184</td>\n",
       "    </tr>\n",
       "    <tr>\n",
       "      <th>4</th>\n",
       "      <td>BTC/USDC:USDC</td>\n",
       "      <td>[23331.0, 0.083]</td>\n",
       "      <td>[23340.0, 0.102]</td>\n",
       "      <td>1675457201463</td>\n",
       "      <td>2023-02-03T20:46:41.463Z</td>\n",
       "      <td>3742709184</td>\n",
       "    </tr>\n",
       "  </tbody>\n",
       "</table>\n",
       "</div>"
      ],
      "text/plain": [
       "          symbol              bids              asks      timestamp  \\\n",
       "0  BTC/USDC:USDC   [23335.0, 0.04]  [23336.0, 0.123]  1675457201463   \n",
       "1  BTC/USDC:USDC   [23334.0, 0.06]  [23337.0, 0.082]  1675457201463   \n",
       "2  BTC/USDC:USDC   [23333.0, 0.04]   [23338.0, 0.04]  1675457201463   \n",
       "3  BTC/USDC:USDC   [23332.0, 0.04]   [23339.0, 0.04]  1675457201463   \n",
       "4  BTC/USDC:USDC  [23331.0, 0.083]  [23340.0, 0.102]  1675457201463   \n",
       "\n",
       "                   datetime       nonce  \n",
       "0  2023-02-03T20:46:41.463Z  3742709184  \n",
       "1  2023-02-03T20:46:41.463Z  3742709184  \n",
       "2  2023-02-03T20:46:41.463Z  3742709184  \n",
       "3  2023-02-03T20:46:41.463Z  3742709184  \n",
       "4  2023-02-03T20:46:41.463Z  3742709184  "
      ]
     },
     "execution_count": 52,
     "metadata": {},
     "output_type": "execute_result"
    }
   ],
   "source": [
    "currency_pair = \"BTC/USDC:USDC\"\n",
    "pd.DataFrame(deribit_exchange.fetch_order_book(currency_pair)).head()"
   ]
  },
  {
   "cell_type": "markdown",
   "id": "6fdc263a",
   "metadata": {},
   "source": [
    "### deribit REST SPOT ohlcv"
   ]
  },
  {
   "cell_type": "code",
   "execution_count": 53,
   "id": "163c9a43",
   "metadata": {
    "ExecuteTime": {
     "end_time": "2023-02-03T20:46:43.329137Z",
     "start_time": "2023-02-03T20:46:43.222109Z"
    }
   },
   "outputs": [
    {
     "data": {
      "text/html": [
       "<div>\n",
       "<style scoped>\n",
       "    .dataframe tbody tr th:only-of-type {\n",
       "        vertical-align: middle;\n",
       "    }\n",
       "\n",
       "    .dataframe tbody tr th {\n",
       "        vertical-align: top;\n",
       "    }\n",
       "\n",
       "    .dataframe thead th {\n",
       "        text-align: right;\n",
       "    }\n",
       "</style>\n",
       "<table border=\"1\" class=\"dataframe\">\n",
       "  <thead>\n",
       "    <tr style=\"text-align: right;\">\n",
       "      <th></th>\n",
       "      <th>0</th>\n",
       "      <th>1</th>\n",
       "      <th>2</th>\n",
       "      <th>3</th>\n",
       "      <th>4</th>\n",
       "      <th>5</th>\n",
       "    </tr>\n",
       "  </thead>\n",
       "  <tbody>\n",
       "    <tr>\n",
       "      <th>0</th>\n",
       "      <td>1675397220000</td>\n",
       "      <td>23517.0</td>\n",
       "      <td>23517.0</td>\n",
       "      <td>23513.0</td>\n",
       "      <td>23513.0</td>\n",
       "      <td>0.011</td>\n",
       "    </tr>\n",
       "    <tr>\n",
       "      <th>1</th>\n",
       "      <td>1675397280000</td>\n",
       "      <td>23513.0</td>\n",
       "      <td>23513.0</td>\n",
       "      <td>23513.0</td>\n",
       "      <td>23513.0</td>\n",
       "      <td>0.000</td>\n",
       "    </tr>\n",
       "    <tr>\n",
       "      <th>2</th>\n",
       "      <td>1675397340000</td>\n",
       "      <td>23513.0</td>\n",
       "      <td>23513.0</td>\n",
       "      <td>23513.0</td>\n",
       "      <td>23513.0</td>\n",
       "      <td>0.000</td>\n",
       "    </tr>\n",
       "    <tr>\n",
       "      <th>3</th>\n",
       "      <td>1675397400000</td>\n",
       "      <td>23527.0</td>\n",
       "      <td>23527.0</td>\n",
       "      <td>23525.0</td>\n",
       "      <td>23525.0</td>\n",
       "      <td>0.239</td>\n",
       "    </tr>\n",
       "    <tr>\n",
       "      <th>4</th>\n",
       "      <td>1675397460000</td>\n",
       "      <td>23525.0</td>\n",
       "      <td>23525.0</td>\n",
       "      <td>23525.0</td>\n",
       "      <td>23525.0</td>\n",
       "      <td>0.000</td>\n",
       "    </tr>\n",
       "  </tbody>\n",
       "</table>\n",
       "</div>"
      ],
      "text/plain": [
       "               0        1        2        3        4      5\n",
       "0  1675397220000  23517.0  23517.0  23513.0  23513.0  0.011\n",
       "1  1675397280000  23513.0  23513.0  23513.0  23513.0  0.000\n",
       "2  1675397340000  23513.0  23513.0  23513.0  23513.0  0.000\n",
       "3  1675397400000  23527.0  23527.0  23525.0  23525.0  0.239\n",
       "4  1675397460000  23525.0  23525.0  23525.0  23525.0  0.000"
      ]
     },
     "execution_count": 53,
     "metadata": {},
     "output_type": "execute_result"
    }
   ],
   "source": [
    "pd.DataFrame(deribit_exchange.fetch_ohlcv(currency_pair)).head()"
   ]
  },
  {
   "cell_type": "markdown",
   "id": "76e1582b",
   "metadata": {},
   "source": [
    "### deribit REST SPOT trades"
   ]
  },
  {
   "cell_type": "code",
   "execution_count": 54,
   "id": "3237478f",
   "metadata": {
    "ExecuteTime": {
     "end_time": "2023-02-03T20:46:44.852046Z",
     "start_time": "2023-02-03T20:46:44.796036Z"
    }
   },
   "outputs": [
    {
     "data": {
      "text/html": [
       "<div>\n",
       "<style scoped>\n",
       "    .dataframe tbody tr th:only-of-type {\n",
       "        vertical-align: middle;\n",
       "    }\n",
       "\n",
       "    .dataframe tbody tr th {\n",
       "        vertical-align: top;\n",
       "    }\n",
       "\n",
       "    .dataframe thead th {\n",
       "        text-align: right;\n",
       "    }\n",
       "</style>\n",
       "<table border=\"1\" class=\"dataframe\">\n",
       "  <thead>\n",
       "    <tr style=\"text-align: right;\">\n",
       "      <th></th>\n",
       "      <th>id</th>\n",
       "      <th>info</th>\n",
       "      <th>timestamp</th>\n",
       "      <th>datetime</th>\n",
       "      <th>symbol</th>\n",
       "      <th>order</th>\n",
       "      <th>type</th>\n",
       "      <th>side</th>\n",
       "      <th>takerOrMaker</th>\n",
       "      <th>price</th>\n",
       "      <th>amount</th>\n",
       "      <th>cost</th>\n",
       "      <th>fee</th>\n",
       "      <th>fees</th>\n",
       "    </tr>\n",
       "  </thead>\n",
       "  <tbody>\n",
       "    <tr>\n",
       "      <th>0</th>\n",
       "      <td>USDC-7299291</td>\n",
       "      <td>{'trade_seq': '1679190', 'trade_id': 'USDC-729...</td>\n",
       "      <td>1675456896706</td>\n",
       "      <td>2023-02-03T20:41:36.706Z</td>\n",
       "      <td>BTC/USDC:USDC</td>\n",
       "      <td>None</td>\n",
       "      <td>None</td>\n",
       "      <td>buy</td>\n",
       "      <td>None</td>\n",
       "      <td>23392.0</td>\n",
       "      <td>0.040</td>\n",
       "      <td>935.680</td>\n",
       "      <td>None</td>\n",
       "      <td>[]</td>\n",
       "    </tr>\n",
       "    <tr>\n",
       "      <th>1</th>\n",
       "      <td>USDC-7299292</td>\n",
       "      <td>{'trade_seq': '1679191', 'trade_id': 'USDC-729...</td>\n",
       "      <td>1675456896706</td>\n",
       "      <td>2023-02-03T20:41:36.706Z</td>\n",
       "      <td>BTC/USDC:USDC</td>\n",
       "      <td>None</td>\n",
       "      <td>None</td>\n",
       "      <td>buy</td>\n",
       "      <td>None</td>\n",
       "      <td>23393.0</td>\n",
       "      <td>0.016</td>\n",
       "      <td>374.288</td>\n",
       "      <td>None</td>\n",
       "      <td>[]</td>\n",
       "    </tr>\n",
       "    <tr>\n",
       "      <th>2</th>\n",
       "      <td>USDC-7299303</td>\n",
       "      <td>{'trade_seq': '1679192', 'trade_id': 'USDC-729...</td>\n",
       "      <td>1675456923093</td>\n",
       "      <td>2023-02-03T20:42:03.093Z</td>\n",
       "      <td>BTC/USDC:USDC</td>\n",
       "      <td>None</td>\n",
       "      <td>None</td>\n",
       "      <td>buy</td>\n",
       "      <td>None</td>\n",
       "      <td>23394.0</td>\n",
       "      <td>0.001</td>\n",
       "      <td>23.394</td>\n",
       "      <td>None</td>\n",
       "      <td>[]</td>\n",
       "    </tr>\n",
       "    <tr>\n",
       "      <th>3</th>\n",
       "      <td>USDC-7299304</td>\n",
       "      <td>{'trade_seq': '1679193', 'trade_id': 'USDC-729...</td>\n",
       "      <td>1675456926301</td>\n",
       "      <td>2023-02-03T20:42:06.301Z</td>\n",
       "      <td>BTC/USDC:USDC</td>\n",
       "      <td>None</td>\n",
       "      <td>None</td>\n",
       "      <td>sell</td>\n",
       "      <td>None</td>\n",
       "      <td>23396.0</td>\n",
       "      <td>0.003</td>\n",
       "      <td>70.188</td>\n",
       "      <td>None</td>\n",
       "      <td>[]</td>\n",
       "    </tr>\n",
       "    <tr>\n",
       "      <th>4</th>\n",
       "      <td>USDC-7299308</td>\n",
       "      <td>{'trade_seq': '1679194', 'trade_id': 'USDC-729...</td>\n",
       "      <td>1675456972237</td>\n",
       "      <td>2023-02-03T20:42:52.237Z</td>\n",
       "      <td>BTC/USDC:USDC</td>\n",
       "      <td>None</td>\n",
       "      <td>None</td>\n",
       "      <td>sell</td>\n",
       "      <td>None</td>\n",
       "      <td>23388.0</td>\n",
       "      <td>0.001</td>\n",
       "      <td>23.388</td>\n",
       "      <td>None</td>\n",
       "      <td>[]</td>\n",
       "    </tr>\n",
       "  </tbody>\n",
       "</table>\n",
       "</div>"
      ],
      "text/plain": [
       "             id                                               info  \\\n",
       "0  USDC-7299291  {'trade_seq': '1679190', 'trade_id': 'USDC-729...   \n",
       "1  USDC-7299292  {'trade_seq': '1679191', 'trade_id': 'USDC-729...   \n",
       "2  USDC-7299303  {'trade_seq': '1679192', 'trade_id': 'USDC-729...   \n",
       "3  USDC-7299304  {'trade_seq': '1679193', 'trade_id': 'USDC-729...   \n",
       "4  USDC-7299308  {'trade_seq': '1679194', 'trade_id': 'USDC-729...   \n",
       "\n",
       "       timestamp                  datetime         symbol order  type  side  \\\n",
       "0  1675456896706  2023-02-03T20:41:36.706Z  BTC/USDC:USDC  None  None   buy   \n",
       "1  1675456896706  2023-02-03T20:41:36.706Z  BTC/USDC:USDC  None  None   buy   \n",
       "2  1675456923093  2023-02-03T20:42:03.093Z  BTC/USDC:USDC  None  None   buy   \n",
       "3  1675456926301  2023-02-03T20:42:06.301Z  BTC/USDC:USDC  None  None  sell   \n",
       "4  1675456972237  2023-02-03T20:42:52.237Z  BTC/USDC:USDC  None  None  sell   \n",
       "\n",
       "  takerOrMaker    price  amount     cost   fee fees  \n",
       "0         None  23392.0   0.040  935.680  None   []  \n",
       "1         None  23393.0   0.016  374.288  None   []  \n",
       "2         None  23394.0   0.001   23.394  None   []  \n",
       "3         None  23396.0   0.003   70.188  None   []  \n",
       "4         None  23388.0   0.001   23.388  None   []  "
      ]
     },
     "execution_count": 54,
     "metadata": {},
     "output_type": "execute_result"
    }
   ],
   "source": [
    "pd.DataFrame(deribit_exchange.fetch_trades(currency_pair)).head()"
   ]
  },
  {
   "cell_type": "markdown",
   "id": "f10d0dca",
   "metadata": {},
   "source": [
    "## deribit REST futures"
   ]
  },
  {
   "cell_type": "code",
   "execution_count": 55,
   "id": "9bd30fc6",
   "metadata": {
    "ExecuteTime": {
     "end_time": "2023-02-03T20:46:46.105097Z",
     "start_time": "2023-02-03T20:46:46.100927Z"
    }
   },
   "outputs": [
    {
     "data": {
      "text/plain": [
       "True"
      ]
     },
     "execution_count": 55,
     "metadata": {},
     "output_type": "execute_result"
    }
   ],
   "source": [
    "deribit_exchange.has[\"future\"]"
   ]
  },
  {
   "cell_type": "markdown",
   "id": "8e80091b",
   "metadata": {},
   "source": [
    "### deribit REST futures bid_ask"
   ]
  },
  {
   "cell_type": "code",
   "execution_count": 56,
   "id": "84032e6a",
   "metadata": {
    "ExecuteTime": {
     "end_time": "2023-02-03T20:46:47.286539Z",
     "start_time": "2023-02-03T20:46:47.240368Z"
    }
   },
   "outputs": [
    {
     "data": {
      "text/html": [
       "<div>\n",
       "<style scoped>\n",
       "    .dataframe tbody tr th:only-of-type {\n",
       "        vertical-align: middle;\n",
       "    }\n",
       "\n",
       "    .dataframe tbody tr th {\n",
       "        vertical-align: top;\n",
       "    }\n",
       "\n",
       "    .dataframe thead th {\n",
       "        text-align: right;\n",
       "    }\n",
       "</style>\n",
       "<table border=\"1\" class=\"dataframe\">\n",
       "  <thead>\n",
       "    <tr style=\"text-align: right;\">\n",
       "      <th></th>\n",
       "      <th>symbol</th>\n",
       "      <th>bids</th>\n",
       "      <th>asks</th>\n",
       "      <th>timestamp</th>\n",
       "      <th>datetime</th>\n",
       "      <th>nonce</th>\n",
       "    </tr>\n",
       "  </thead>\n",
       "  <tbody>\n",
       "    <tr>\n",
       "      <th>0</th>\n",
       "      <td>BTC/USDC:USDC</td>\n",
       "      <td>[23335.0, 0.06]</td>\n",
       "      <td>[23336.0, 0.061]</td>\n",
       "      <td>1675457207213</td>\n",
       "      <td>2023-02-03T20:46:47.213Z</td>\n",
       "      <td>3742709456</td>\n",
       "    </tr>\n",
       "    <tr>\n",
       "      <th>1</th>\n",
       "      <td>BTC/USDC:USDC</td>\n",
       "      <td>[23334.0, 0.582]</td>\n",
       "      <td>[23337.0, 0.082]</td>\n",
       "      <td>1675457207213</td>\n",
       "      <td>2023-02-03T20:46:47.213Z</td>\n",
       "      <td>3742709456</td>\n",
       "    </tr>\n",
       "    <tr>\n",
       "      <th>2</th>\n",
       "      <td>BTC/USDC:USDC</td>\n",
       "      <td>[23333.0, 0.082]</td>\n",
       "      <td>[23338.0, 0.04]</td>\n",
       "      <td>1675457207213</td>\n",
       "      <td>2023-02-03T20:46:47.213Z</td>\n",
       "      <td>3742709456</td>\n",
       "    </tr>\n",
       "    <tr>\n",
       "      <th>3</th>\n",
       "      <td>BTC/USDC:USDC</td>\n",
       "      <td>[23332.0, 0.06]</td>\n",
       "      <td>[23339.0, 0.082]</td>\n",
       "      <td>1675457207213</td>\n",
       "      <td>2023-02-03T20:46:47.213Z</td>\n",
       "      <td>3742709456</td>\n",
       "    </tr>\n",
       "    <tr>\n",
       "      <th>4</th>\n",
       "      <td>BTC/USDC:USDC</td>\n",
       "      <td>[23331.0, 0.041]</td>\n",
       "      <td>[23340.0, 0.06]</td>\n",
       "      <td>1675457207213</td>\n",
       "      <td>2023-02-03T20:46:47.213Z</td>\n",
       "      <td>3742709456</td>\n",
       "    </tr>\n",
       "  </tbody>\n",
       "</table>\n",
       "</div>"
      ],
      "text/plain": [
       "          symbol              bids              asks      timestamp  \\\n",
       "0  BTC/USDC:USDC   [23335.0, 0.06]  [23336.0, 0.061]  1675457207213   \n",
       "1  BTC/USDC:USDC  [23334.0, 0.582]  [23337.0, 0.082]  1675457207213   \n",
       "2  BTC/USDC:USDC  [23333.0, 0.082]   [23338.0, 0.04]  1675457207213   \n",
       "3  BTC/USDC:USDC   [23332.0, 0.06]  [23339.0, 0.082]  1675457207213   \n",
       "4  BTC/USDC:USDC  [23331.0, 0.041]   [23340.0, 0.06]  1675457207213   \n",
       "\n",
       "                   datetime       nonce  \n",
       "0  2023-02-03T20:46:47.213Z  3742709456  \n",
       "1  2023-02-03T20:46:47.213Z  3742709456  \n",
       "2  2023-02-03T20:46:47.213Z  3742709456  \n",
       "3  2023-02-03T20:46:47.213Z  3742709456  \n",
       "4  2023-02-03T20:46:47.213Z  3742709456  "
      ]
     },
     "execution_count": 56,
     "metadata": {},
     "output_type": "execute_result"
    }
   ],
   "source": [
    "currency_pair = \"BTC/USDC:USDC\"\n",
    "pd.DataFrame(\n",
    "    deribit_exchange.fetch_order_book(currency_pair, params=future_params)\n",
    ").head()"
   ]
  },
  {
   "cell_type": "markdown",
   "id": "c04eed70",
   "metadata": {},
   "source": [
    "### deribit REST futures ohlcv"
   ]
  },
  {
   "cell_type": "code",
   "execution_count": 57,
   "id": "d2d65d72",
   "metadata": {
    "ExecuteTime": {
     "end_time": "2023-02-03T20:46:48.398739Z",
     "start_time": "2023-02-03T20:46:48.321098Z"
    }
   },
   "outputs": [
    {
     "data": {
      "text/html": [
       "<div>\n",
       "<style scoped>\n",
       "    .dataframe tbody tr th:only-of-type {\n",
       "        vertical-align: middle;\n",
       "    }\n",
       "\n",
       "    .dataframe tbody tr th {\n",
       "        vertical-align: top;\n",
       "    }\n",
       "\n",
       "    .dataframe thead th {\n",
       "        text-align: right;\n",
       "    }\n",
       "</style>\n",
       "<table border=\"1\" class=\"dataframe\">\n",
       "  <thead>\n",
       "    <tr style=\"text-align: right;\">\n",
       "      <th></th>\n",
       "      <th>0</th>\n",
       "      <th>1</th>\n",
       "      <th>2</th>\n",
       "      <th>3</th>\n",
       "      <th>4</th>\n",
       "      <th>5</th>\n",
       "    </tr>\n",
       "  </thead>\n",
       "  <tbody>\n",
       "    <tr>\n",
       "      <th>0</th>\n",
       "      <td>1675397220000</td>\n",
       "      <td>23517.0</td>\n",
       "      <td>23517.0</td>\n",
       "      <td>23513.0</td>\n",
       "      <td>23513.0</td>\n",
       "      <td>0.011</td>\n",
       "    </tr>\n",
       "    <tr>\n",
       "      <th>1</th>\n",
       "      <td>1675397280000</td>\n",
       "      <td>23513.0</td>\n",
       "      <td>23513.0</td>\n",
       "      <td>23513.0</td>\n",
       "      <td>23513.0</td>\n",
       "      <td>0.000</td>\n",
       "    </tr>\n",
       "    <tr>\n",
       "      <th>2</th>\n",
       "      <td>1675397340000</td>\n",
       "      <td>23513.0</td>\n",
       "      <td>23513.0</td>\n",
       "      <td>23513.0</td>\n",
       "      <td>23513.0</td>\n",
       "      <td>0.000</td>\n",
       "    </tr>\n",
       "    <tr>\n",
       "      <th>3</th>\n",
       "      <td>1675397400000</td>\n",
       "      <td>23527.0</td>\n",
       "      <td>23527.0</td>\n",
       "      <td>23525.0</td>\n",
       "      <td>23525.0</td>\n",
       "      <td>0.239</td>\n",
       "    </tr>\n",
       "    <tr>\n",
       "      <th>4</th>\n",
       "      <td>1675397460000</td>\n",
       "      <td>23525.0</td>\n",
       "      <td>23525.0</td>\n",
       "      <td>23525.0</td>\n",
       "      <td>23525.0</td>\n",
       "      <td>0.000</td>\n",
       "    </tr>\n",
       "  </tbody>\n",
       "</table>\n",
       "</div>"
      ],
      "text/plain": [
       "               0        1        2        3        4      5\n",
       "0  1675397220000  23517.0  23517.0  23513.0  23513.0  0.011\n",
       "1  1675397280000  23513.0  23513.0  23513.0  23513.0  0.000\n",
       "2  1675397340000  23513.0  23513.0  23513.0  23513.0  0.000\n",
       "3  1675397400000  23527.0  23527.0  23525.0  23525.0  0.239\n",
       "4  1675397460000  23525.0  23525.0  23525.0  23525.0  0.000"
      ]
     },
     "execution_count": 57,
     "metadata": {},
     "output_type": "execute_result"
    }
   ],
   "source": [
    "pd.DataFrame(\n",
    "    deribit_exchange.fetch_ohlcv(currency_pair, params=future_params)\n",
    ").head()"
   ]
  },
  {
   "cell_type": "markdown",
   "id": "7a2aef26",
   "metadata": {},
   "source": [
    "### deribit REST futures trades"
   ]
  },
  {
   "cell_type": "code",
   "execution_count": 58,
   "id": "4d370d12",
   "metadata": {
    "ExecuteTime": {
     "end_time": "2023-02-03T20:46:49.677374Z",
     "start_time": "2023-02-03T20:46:49.620569Z"
    }
   },
   "outputs": [
    {
     "data": {
      "text/html": [
       "<div>\n",
       "<style scoped>\n",
       "    .dataframe tbody tr th:only-of-type {\n",
       "        vertical-align: middle;\n",
       "    }\n",
       "\n",
       "    .dataframe tbody tr th {\n",
       "        vertical-align: top;\n",
       "    }\n",
       "\n",
       "    .dataframe thead th {\n",
       "        text-align: right;\n",
       "    }\n",
       "</style>\n",
       "<table border=\"1\" class=\"dataframe\">\n",
       "  <thead>\n",
       "    <tr style=\"text-align: right;\">\n",
       "      <th></th>\n",
       "      <th>id</th>\n",
       "      <th>info</th>\n",
       "      <th>timestamp</th>\n",
       "      <th>datetime</th>\n",
       "      <th>symbol</th>\n",
       "      <th>order</th>\n",
       "      <th>type</th>\n",
       "      <th>side</th>\n",
       "      <th>takerOrMaker</th>\n",
       "      <th>price</th>\n",
       "      <th>amount</th>\n",
       "      <th>cost</th>\n",
       "      <th>fee</th>\n",
       "      <th>fees</th>\n",
       "    </tr>\n",
       "  </thead>\n",
       "  <tbody>\n",
       "    <tr>\n",
       "      <th>0</th>\n",
       "      <td>USDC-7299291</td>\n",
       "      <td>{'trade_seq': '1679190', 'trade_id': 'USDC-729...</td>\n",
       "      <td>1675456896706</td>\n",
       "      <td>2023-02-03T20:41:36.706Z</td>\n",
       "      <td>BTC/USDC:USDC</td>\n",
       "      <td>None</td>\n",
       "      <td>None</td>\n",
       "      <td>buy</td>\n",
       "      <td>None</td>\n",
       "      <td>23392.0</td>\n",
       "      <td>0.040</td>\n",
       "      <td>935.680</td>\n",
       "      <td>None</td>\n",
       "      <td>[]</td>\n",
       "    </tr>\n",
       "    <tr>\n",
       "      <th>1</th>\n",
       "      <td>USDC-7299292</td>\n",
       "      <td>{'trade_seq': '1679191', 'trade_id': 'USDC-729...</td>\n",
       "      <td>1675456896706</td>\n",
       "      <td>2023-02-03T20:41:36.706Z</td>\n",
       "      <td>BTC/USDC:USDC</td>\n",
       "      <td>None</td>\n",
       "      <td>None</td>\n",
       "      <td>buy</td>\n",
       "      <td>None</td>\n",
       "      <td>23393.0</td>\n",
       "      <td>0.016</td>\n",
       "      <td>374.288</td>\n",
       "      <td>None</td>\n",
       "      <td>[]</td>\n",
       "    </tr>\n",
       "    <tr>\n",
       "      <th>2</th>\n",
       "      <td>USDC-7299303</td>\n",
       "      <td>{'trade_seq': '1679192', 'trade_id': 'USDC-729...</td>\n",
       "      <td>1675456923093</td>\n",
       "      <td>2023-02-03T20:42:03.093Z</td>\n",
       "      <td>BTC/USDC:USDC</td>\n",
       "      <td>None</td>\n",
       "      <td>None</td>\n",
       "      <td>buy</td>\n",
       "      <td>None</td>\n",
       "      <td>23394.0</td>\n",
       "      <td>0.001</td>\n",
       "      <td>23.394</td>\n",
       "      <td>None</td>\n",
       "      <td>[]</td>\n",
       "    </tr>\n",
       "    <tr>\n",
       "      <th>3</th>\n",
       "      <td>USDC-7299304</td>\n",
       "      <td>{'trade_seq': '1679193', 'trade_id': 'USDC-729...</td>\n",
       "      <td>1675456926301</td>\n",
       "      <td>2023-02-03T20:42:06.301Z</td>\n",
       "      <td>BTC/USDC:USDC</td>\n",
       "      <td>None</td>\n",
       "      <td>None</td>\n",
       "      <td>sell</td>\n",
       "      <td>None</td>\n",
       "      <td>23396.0</td>\n",
       "      <td>0.003</td>\n",
       "      <td>70.188</td>\n",
       "      <td>None</td>\n",
       "      <td>[]</td>\n",
       "    </tr>\n",
       "    <tr>\n",
       "      <th>4</th>\n",
       "      <td>USDC-7299308</td>\n",
       "      <td>{'trade_seq': '1679194', 'trade_id': 'USDC-729...</td>\n",
       "      <td>1675456972237</td>\n",
       "      <td>2023-02-03T20:42:52.237Z</td>\n",
       "      <td>BTC/USDC:USDC</td>\n",
       "      <td>None</td>\n",
       "      <td>None</td>\n",
       "      <td>sell</td>\n",
       "      <td>None</td>\n",
       "      <td>23388.0</td>\n",
       "      <td>0.001</td>\n",
       "      <td>23.388</td>\n",
       "      <td>None</td>\n",
       "      <td>[]</td>\n",
       "    </tr>\n",
       "  </tbody>\n",
       "</table>\n",
       "</div>"
      ],
      "text/plain": [
       "             id                                               info  \\\n",
       "0  USDC-7299291  {'trade_seq': '1679190', 'trade_id': 'USDC-729...   \n",
       "1  USDC-7299292  {'trade_seq': '1679191', 'trade_id': 'USDC-729...   \n",
       "2  USDC-7299303  {'trade_seq': '1679192', 'trade_id': 'USDC-729...   \n",
       "3  USDC-7299304  {'trade_seq': '1679193', 'trade_id': 'USDC-729...   \n",
       "4  USDC-7299308  {'trade_seq': '1679194', 'trade_id': 'USDC-729...   \n",
       "\n",
       "       timestamp                  datetime         symbol order  type  side  \\\n",
       "0  1675456896706  2023-02-03T20:41:36.706Z  BTC/USDC:USDC  None  None   buy   \n",
       "1  1675456896706  2023-02-03T20:41:36.706Z  BTC/USDC:USDC  None  None   buy   \n",
       "2  1675456923093  2023-02-03T20:42:03.093Z  BTC/USDC:USDC  None  None   buy   \n",
       "3  1675456926301  2023-02-03T20:42:06.301Z  BTC/USDC:USDC  None  None  sell   \n",
       "4  1675456972237  2023-02-03T20:42:52.237Z  BTC/USDC:USDC  None  None  sell   \n",
       "\n",
       "  takerOrMaker    price  amount     cost   fee fees  \n",
       "0         None  23392.0   0.040  935.680  None   []  \n",
       "1         None  23393.0   0.016  374.288  None   []  \n",
       "2         None  23394.0   0.001   23.394  None   []  \n",
       "3         None  23396.0   0.003   70.188  None   []  \n",
       "4         None  23388.0   0.001   23.388  None   []  "
      ]
     },
     "execution_count": 58,
     "metadata": {},
     "output_type": "execute_result"
    }
   ],
   "source": [
    "pd.DataFrame(\n",
    "    deribit_exchange.fetch_trades(currency_pair, params=future_params)\n",
    ").head()"
   ]
  },
  {
   "cell_type": "markdown",
   "id": "039ab202",
   "metadata": {},
   "source": [
    "# coinbasepro REST"
   ]
  },
  {
   "cell_type": "code",
   "execution_count": 59,
   "id": "92481b26",
   "metadata": {
    "ExecuteTime": {
     "end_time": "2023-02-03T20:46:50.874536Z",
     "start_time": "2023-02-03T20:46:50.871153Z"
    }
   },
   "outputs": [],
   "source": [
    "exchange_id = \"coinbasepro\""
   ]
  },
  {
   "cell_type": "markdown",
   "id": "ef0569da",
   "metadata": {
    "ExecuteTime": {
     "end_time": "2023-02-02T18:19:35.465488Z",
     "start_time": "2023-02-02T18:19:35.462358Z"
    }
   },
   "source": [
    "## coinbasepro REST spot"
   ]
  },
  {
   "cell_type": "code",
   "execution_count": 60,
   "id": "4ce4799f",
   "metadata": {
    "ExecuteTime": {
     "end_time": "2023-02-03T20:46:52.654660Z",
     "start_time": "2023-02-03T20:46:52.530826Z"
    }
   },
   "outputs": [],
   "source": [
    "contract_type = \"spot\"\n",
    "extractor = imvcdexex.CcxtExtractor(exchange_id, contract_type)"
   ]
  },
  {
   "cell_type": "markdown",
   "id": "7b224443",
   "metadata": {},
   "source": [
    "### coinbasepro REST spot bid_ask"
   ]
  },
  {
   "cell_type": "code",
   "execution_count": 61,
   "id": "443d92c2",
   "metadata": {
    "ExecuteTime": {
     "end_time": "2023-02-03T20:46:57.358449Z",
     "start_time": "2023-02-03T20:46:56.366537Z"
    }
   },
   "outputs": [
    {
     "ename": "ValueError",
     "evalue": "All arrays must be of the same length",
     "output_type": "error",
     "traceback": [
      "\u001b[0;31m---------------------------------------------------------------------------\u001b[0m",
      "\u001b[0;31mValueError\u001b[0m                                Traceback (most recent call last)",
      "Cell \u001b[0;32mIn [61], line 7\u001b[0m\n\u001b[1;32m      5\u001b[0m bid_ask_depth \u001b[38;5;241m=\u001b[39m \u001b[38;5;241m20\u001b[39m\n\u001b[1;32m      6\u001b[0m data_type \u001b[38;5;241m=\u001b[39m \u001b[38;5;124m\"\u001b[39m\u001b[38;5;124mbid_ask\u001b[39m\u001b[38;5;124m\"\u001b[39m\n\u001b[0;32m----> 7\u001b[0m data \u001b[38;5;241m=\u001b[39m \u001b[43mextractor\u001b[49m\u001b[38;5;241;43m.\u001b[39;49m\u001b[43mdownload_data\u001b[49m\u001b[43m(\u001b[49m\n\u001b[1;32m      8\u001b[0m \u001b[43m    \u001b[49m\u001b[43mdata_type\u001b[49m\u001b[43m,\u001b[49m\n\u001b[1;32m      9\u001b[0m \u001b[43m    \u001b[49m\u001b[43mexchange_id\u001b[49m\u001b[43m,\u001b[49m\n\u001b[1;32m     10\u001b[0m \u001b[43m    \u001b[49m\u001b[43mcurrency_pair_for_download\u001b[49m\u001b[43m,\u001b[49m\n\u001b[1;32m     11\u001b[0m \u001b[43m    \u001b[49m\u001b[43mstart_timestamp\u001b[49m\u001b[38;5;241;43m=\u001b[39;49m\u001b[43mstart_timestamp\u001b[49m\u001b[43m,\u001b[49m\n\u001b[1;32m     12\u001b[0m \u001b[43m    \u001b[49m\u001b[43mend_timestamp\u001b[49m\u001b[38;5;241;43m=\u001b[39;49m\u001b[43mend_timestamp\u001b[49m\u001b[43m,\u001b[49m\n\u001b[1;32m     13\u001b[0m \u001b[43m    \u001b[49m\u001b[43mdepth\u001b[49m\u001b[38;5;241;43m=\u001b[39;49m\u001b[43mbid_ask_depth\u001b[49m\n\u001b[1;32m     14\u001b[0m \u001b[43m)\u001b[49m\n\u001b[1;32m     15\u001b[0m data\u001b[38;5;241m.\u001b[39mhead()\n",
      "File \u001b[0;32m/app/im_v2/common/data/extract/extractor.py:43\u001b[0m, in \u001b[0;36mExtractor.download_data\u001b[0;34m(self, data_type, exchange_id, currency_pair, **kwargs)\u001b[0m\n\u001b[1;32m     37\u001b[0m     data \u001b[38;5;241m=\u001b[39m \u001b[38;5;28mself\u001b[39m\u001b[38;5;241m.\u001b[39m_download_ohlcv(\n\u001b[1;32m     38\u001b[0m         exchange_id,\n\u001b[1;32m     39\u001b[0m         currency_pair,\n\u001b[1;32m     40\u001b[0m         \u001b[38;5;241m*\u001b[39m\u001b[38;5;241m*\u001b[39mkwargs,\n\u001b[1;32m     41\u001b[0m     )\n\u001b[1;32m     42\u001b[0m \u001b[38;5;28;01melif\u001b[39;00m data_type \u001b[38;5;241m==\u001b[39m \u001b[38;5;124m\"\u001b[39m\u001b[38;5;124mbid_ask\u001b[39m\u001b[38;5;124m\"\u001b[39m:\n\u001b[0;32m---> 43\u001b[0m     data \u001b[38;5;241m=\u001b[39m \u001b[38;5;28;43mself\u001b[39;49m\u001b[38;5;241;43m.\u001b[39;49m\u001b[43m_download_bid_ask\u001b[49m\u001b[43m(\u001b[49m\u001b[43mexchange_id\u001b[49m\u001b[43m,\u001b[49m\u001b[43m \u001b[49m\u001b[43mcurrency_pair\u001b[49m\u001b[43m,\u001b[49m\u001b[43m \u001b[49m\u001b[38;5;241;43m*\u001b[39;49m\u001b[38;5;241;43m*\u001b[39;49m\u001b[43mkwargs\u001b[49m\u001b[43m)\u001b[49m\n\u001b[1;32m     44\u001b[0m \u001b[38;5;28;01melif\u001b[39;00m data_type \u001b[38;5;241m==\u001b[39m \u001b[38;5;124m\"\u001b[39m\u001b[38;5;124mtrades\u001b[39m\u001b[38;5;124m\"\u001b[39m:\n\u001b[1;32m     45\u001b[0m     data \u001b[38;5;241m=\u001b[39m \u001b[38;5;28mself\u001b[39m\u001b[38;5;241m.\u001b[39m_download_trades(exchange_id, currency_pair, \u001b[38;5;241m*\u001b[39m\u001b[38;5;241m*\u001b[39mkwargs)\n",
      "File \u001b[0;32m/app/im_v2/ccxt/data/extract/extractor.py:369\u001b[0m, in \u001b[0;36mCcxtExtractor._download_bid_ask\u001b[0;34m(self, exchange_id, currency_pair, depth, **kwargs)\u001b[0m\n\u001b[1;32m    365\u001b[0m order_book \u001b[38;5;241m=\u001b[39m \u001b[38;5;28mself\u001b[39m\u001b[38;5;241m.\u001b[39m_sync_exchange\u001b[38;5;241m.\u001b[39mfetch_order_book(currency_pair, depth)\n\u001b[1;32m    366\u001b[0m order_book[\u001b[38;5;124m\"\u001b[39m\u001b[38;5;124mend_download_timestamp\u001b[39m\u001b[38;5;124m\"\u001b[39m] \u001b[38;5;241m=\u001b[39m \u001b[38;5;28mstr\u001b[39m(\n\u001b[1;32m    367\u001b[0m     hdateti\u001b[38;5;241m.\u001b[39mget_current_time(\u001b[38;5;124m\"\u001b[39m\u001b[38;5;124mUTC\u001b[39m\u001b[38;5;124m\"\u001b[39m)\n\u001b[1;32m    368\u001b[0m )\n\u001b[0;32m--> 369\u001b[0m order_book \u001b[38;5;241m=\u001b[39m \u001b[43mpd\u001b[49m\u001b[38;5;241;43m.\u001b[39;49m\u001b[43mDataFrame\u001b[49m\u001b[38;5;241;43m.\u001b[39;49m\u001b[43mfrom_dict\u001b[49m\u001b[43m(\u001b[49m\u001b[43morder_book\u001b[49m\u001b[43m)\u001b[49m\n\u001b[1;32m    370\u001b[0m \u001b[38;5;66;03m# Separate price and size into columns.\u001b[39;00m\n\u001b[1;32m    371\u001b[0m order_book[[\u001b[38;5;124m\"\u001b[39m\u001b[38;5;124mbid_price\u001b[39m\u001b[38;5;124m\"\u001b[39m, \u001b[38;5;124m\"\u001b[39m\u001b[38;5;124mbid_size\u001b[39m\u001b[38;5;124m\"\u001b[39m]] \u001b[38;5;241m=\u001b[39m pd\u001b[38;5;241m.\u001b[39mDataFrame(\n\u001b[1;32m    372\u001b[0m     order_book\u001b[38;5;241m.\u001b[39mbids\u001b[38;5;241m.\u001b[39mto_list(), index\u001b[38;5;241m=\u001b[39morder_book\u001b[38;5;241m.\u001b[39mindex\n\u001b[1;32m    373\u001b[0m )\n",
      "File \u001b[0;32m/venv/lib/python3.8/site-packages/pandas/core/frame.py:1762\u001b[0m, in \u001b[0;36mDataFrame.from_dict\u001b[0;34m(cls, data, orient, dtype, columns)\u001b[0m\n\u001b[1;32m   1756\u001b[0m     \u001b[38;5;28;01mraise\u001b[39;00m \u001b[38;5;167;01mValueError\u001b[39;00m(\n\u001b[1;32m   1757\u001b[0m         \u001b[38;5;124mf\u001b[39m\u001b[38;5;124m\"\u001b[39m\u001b[38;5;124mExpected \u001b[39m\u001b[38;5;124m'\u001b[39m\u001b[38;5;124mindex\u001b[39m\u001b[38;5;124m'\u001b[39m\u001b[38;5;124m, \u001b[39m\u001b[38;5;124m'\u001b[39m\u001b[38;5;124mcolumns\u001b[39m\u001b[38;5;124m'\u001b[39m\u001b[38;5;124m or \u001b[39m\u001b[38;5;124m'\u001b[39m\u001b[38;5;124mtight\u001b[39m\u001b[38;5;124m'\u001b[39m\u001b[38;5;124m for orient parameter. \u001b[39m\u001b[38;5;124m\"\u001b[39m\n\u001b[1;32m   1758\u001b[0m         \u001b[38;5;124mf\u001b[39m\u001b[38;5;124m\"\u001b[39m\u001b[38;5;124mGot \u001b[39m\u001b[38;5;124m'\u001b[39m\u001b[38;5;132;01m{\u001b[39;00morient\u001b[38;5;132;01m}\u001b[39;00m\u001b[38;5;124m'\u001b[39m\u001b[38;5;124m instead\u001b[39m\u001b[38;5;124m\"\u001b[39m\n\u001b[1;32m   1759\u001b[0m     )\n\u001b[1;32m   1761\u001b[0m \u001b[38;5;28;01mif\u001b[39;00m orient \u001b[38;5;241m!=\u001b[39m \u001b[38;5;124m\"\u001b[39m\u001b[38;5;124mtight\u001b[39m\u001b[38;5;124m\"\u001b[39m:\n\u001b[0;32m-> 1762\u001b[0m     \u001b[38;5;28;01mreturn\u001b[39;00m \u001b[38;5;28;43mcls\u001b[39;49m\u001b[43m(\u001b[49m\u001b[43mdata\u001b[49m\u001b[43m,\u001b[49m\u001b[43m \u001b[49m\u001b[43mindex\u001b[49m\u001b[38;5;241;43m=\u001b[39;49m\u001b[43mindex\u001b[49m\u001b[43m,\u001b[49m\u001b[43m \u001b[49m\u001b[43mcolumns\u001b[49m\u001b[38;5;241;43m=\u001b[39;49m\u001b[43mcolumns\u001b[49m\u001b[43m,\u001b[49m\u001b[43m \u001b[49m\u001b[43mdtype\u001b[49m\u001b[38;5;241;43m=\u001b[39;49m\u001b[43mdtype\u001b[49m\u001b[43m)\u001b[49m\n\u001b[1;32m   1763\u001b[0m \u001b[38;5;28;01melse\u001b[39;00m:\n\u001b[1;32m   1764\u001b[0m     realdata \u001b[38;5;241m=\u001b[39m data[\u001b[38;5;124m\"\u001b[39m\u001b[38;5;124mdata\u001b[39m\u001b[38;5;124m\"\u001b[39m]\n",
      "File \u001b[0;32m/venv/lib/python3.8/site-packages/pandas/core/frame.py:662\u001b[0m, in \u001b[0;36mDataFrame.__init__\u001b[0;34m(self, data, index, columns, dtype, copy)\u001b[0m\n\u001b[1;32m    656\u001b[0m     mgr \u001b[38;5;241m=\u001b[39m \u001b[38;5;28mself\u001b[39m\u001b[38;5;241m.\u001b[39m_init_mgr(\n\u001b[1;32m    657\u001b[0m         data, axes\u001b[38;5;241m=\u001b[39m{\u001b[38;5;124m\"\u001b[39m\u001b[38;5;124mindex\u001b[39m\u001b[38;5;124m\"\u001b[39m: index, \u001b[38;5;124m\"\u001b[39m\u001b[38;5;124mcolumns\u001b[39m\u001b[38;5;124m\"\u001b[39m: columns}, dtype\u001b[38;5;241m=\u001b[39mdtype, copy\u001b[38;5;241m=\u001b[39mcopy\n\u001b[1;32m    658\u001b[0m     )\n\u001b[1;32m    660\u001b[0m \u001b[38;5;28;01melif\u001b[39;00m \u001b[38;5;28misinstance\u001b[39m(data, \u001b[38;5;28mdict\u001b[39m):\n\u001b[1;32m    661\u001b[0m     \u001b[38;5;66;03m# GH#38939 de facto copy defaults to False only in non-dict cases\u001b[39;00m\n\u001b[0;32m--> 662\u001b[0m     mgr \u001b[38;5;241m=\u001b[39m \u001b[43mdict_to_mgr\u001b[49m\u001b[43m(\u001b[49m\u001b[43mdata\u001b[49m\u001b[43m,\u001b[49m\u001b[43m \u001b[49m\u001b[43mindex\u001b[49m\u001b[43m,\u001b[49m\u001b[43m \u001b[49m\u001b[43mcolumns\u001b[49m\u001b[43m,\u001b[49m\u001b[43m \u001b[49m\u001b[43mdtype\u001b[49m\u001b[38;5;241;43m=\u001b[39;49m\u001b[43mdtype\u001b[49m\u001b[43m,\u001b[49m\u001b[43m \u001b[49m\u001b[43mcopy\u001b[49m\u001b[38;5;241;43m=\u001b[39;49m\u001b[43mcopy\u001b[49m\u001b[43m,\u001b[49m\u001b[43m \u001b[49m\u001b[43mtyp\u001b[49m\u001b[38;5;241;43m=\u001b[39;49m\u001b[43mmanager\u001b[49m\u001b[43m)\u001b[49m\n\u001b[1;32m    663\u001b[0m \u001b[38;5;28;01melif\u001b[39;00m \u001b[38;5;28misinstance\u001b[39m(data, ma\u001b[38;5;241m.\u001b[39mMaskedArray):\n\u001b[1;32m    664\u001b[0m     \u001b[38;5;28;01mimport\u001b[39;00m \u001b[38;5;21;01mnumpy\u001b[39;00m\u001b[38;5;21;01m.\u001b[39;00m\u001b[38;5;21;01mma\u001b[39;00m\u001b[38;5;21;01m.\u001b[39;00m\u001b[38;5;21;01mmrecords\u001b[39;00m \u001b[38;5;28;01mas\u001b[39;00m \u001b[38;5;21;01mmrecords\u001b[39;00m\n",
      "File \u001b[0;32m/venv/lib/python3.8/site-packages/pandas/core/internals/construction.py:493\u001b[0m, in \u001b[0;36mdict_to_mgr\u001b[0;34m(data, index, columns, dtype, typ, copy)\u001b[0m\n\u001b[1;32m    489\u001b[0m     \u001b[38;5;28;01melse\u001b[39;00m:\n\u001b[1;32m    490\u001b[0m         \u001b[38;5;66;03m# dtype check to exclude e.g. range objects, scalars\u001b[39;00m\n\u001b[1;32m    491\u001b[0m         arrays \u001b[38;5;241m=\u001b[39m [x\u001b[38;5;241m.\u001b[39mcopy() \u001b[38;5;28;01mif\u001b[39;00m \u001b[38;5;28mhasattr\u001b[39m(x, \u001b[38;5;124m\"\u001b[39m\u001b[38;5;124mdtype\u001b[39m\u001b[38;5;124m\"\u001b[39m) \u001b[38;5;28;01melse\u001b[39;00m x \u001b[38;5;28;01mfor\u001b[39;00m x \u001b[38;5;129;01min\u001b[39;00m arrays]\n\u001b[0;32m--> 493\u001b[0m \u001b[38;5;28;01mreturn\u001b[39;00m \u001b[43marrays_to_mgr\u001b[49m\u001b[43m(\u001b[49m\u001b[43marrays\u001b[49m\u001b[43m,\u001b[49m\u001b[43m \u001b[49m\u001b[43mcolumns\u001b[49m\u001b[43m,\u001b[49m\u001b[43m \u001b[49m\u001b[43mindex\u001b[49m\u001b[43m,\u001b[49m\u001b[43m \u001b[49m\u001b[43mdtype\u001b[49m\u001b[38;5;241;43m=\u001b[39;49m\u001b[43mdtype\u001b[49m\u001b[43m,\u001b[49m\u001b[43m \u001b[49m\u001b[43mtyp\u001b[49m\u001b[38;5;241;43m=\u001b[39;49m\u001b[43mtyp\u001b[49m\u001b[43m,\u001b[49m\u001b[43m \u001b[49m\u001b[43mconsolidate\u001b[49m\u001b[38;5;241;43m=\u001b[39;49m\u001b[43mcopy\u001b[49m\u001b[43m)\u001b[49m\n",
      "File \u001b[0;32m/venv/lib/python3.8/site-packages/pandas/core/internals/construction.py:118\u001b[0m, in \u001b[0;36marrays_to_mgr\u001b[0;34m(arrays, columns, index, dtype, verify_integrity, typ, consolidate)\u001b[0m\n\u001b[1;32m    115\u001b[0m \u001b[38;5;28;01mif\u001b[39;00m verify_integrity:\n\u001b[1;32m    116\u001b[0m     \u001b[38;5;66;03m# figure out the index, if necessary\u001b[39;00m\n\u001b[1;32m    117\u001b[0m     \u001b[38;5;28;01mif\u001b[39;00m index \u001b[38;5;129;01mis\u001b[39;00m \u001b[38;5;28;01mNone\u001b[39;00m:\n\u001b[0;32m--> 118\u001b[0m         index \u001b[38;5;241m=\u001b[39m \u001b[43m_extract_index\u001b[49m\u001b[43m(\u001b[49m\u001b[43marrays\u001b[49m\u001b[43m)\u001b[49m\n\u001b[1;32m    119\u001b[0m     \u001b[38;5;28;01melse\u001b[39;00m:\n\u001b[1;32m    120\u001b[0m         index \u001b[38;5;241m=\u001b[39m ensure_index(index)\n",
      "File \u001b[0;32m/venv/lib/python3.8/site-packages/pandas/core/internals/construction.py:666\u001b[0m, in \u001b[0;36m_extract_index\u001b[0;34m(data)\u001b[0m\n\u001b[1;32m    664\u001b[0m lengths \u001b[38;5;241m=\u001b[39m \u001b[38;5;28mlist\u001b[39m(\u001b[38;5;28mset\u001b[39m(raw_lengths))\n\u001b[1;32m    665\u001b[0m \u001b[38;5;28;01mif\u001b[39;00m \u001b[38;5;28mlen\u001b[39m(lengths) \u001b[38;5;241m>\u001b[39m \u001b[38;5;241m1\u001b[39m:\n\u001b[0;32m--> 666\u001b[0m     \u001b[38;5;28;01mraise\u001b[39;00m \u001b[38;5;167;01mValueError\u001b[39;00m(\u001b[38;5;124m\"\u001b[39m\u001b[38;5;124mAll arrays must be of the same length\u001b[39m\u001b[38;5;124m\"\u001b[39m)\n\u001b[1;32m    668\u001b[0m \u001b[38;5;28;01mif\u001b[39;00m have_dicts:\n\u001b[1;32m    669\u001b[0m     \u001b[38;5;28;01mraise\u001b[39;00m \u001b[38;5;167;01mValueError\u001b[39;00m(\n\u001b[1;32m    670\u001b[0m         \u001b[38;5;124m\"\u001b[39m\u001b[38;5;124mMixing dicts with non-Series may lead to ambiguous ordering.\u001b[39m\u001b[38;5;124m\"\u001b[39m\n\u001b[1;32m    671\u001b[0m     )\n",
      "\u001b[0;31mValueError\u001b[0m: All arrays must be of the same length"
     ]
    }
   ],
   "source": [
    "currency_pair = \"BTC_USDT\"\n",
    "currency_pair_for_download = extractor.convert_currency_pair(currency_pair)\n",
    "start_timestamp = pd.Timestamp(\"2023-01-01 00:00:00\")\n",
    "end_timestamp = pd.Timestamp(\"2023-01-01 05:00:00\")\n",
    "bid_ask_depth = 20\n",
    "data_type = \"bid_ask\"\n",
    "data = extractor.download_data(\n",
    "    data_type,\n",
    "    exchange_id,\n",
    "    currency_pair_for_download,\n",
    "    start_timestamp=start_timestamp,\n",
    "    end_timestamp=end_timestamp,\n",
    "    depth=bid_ask_depth,\n",
    ")\n",
    "data.head()"
   ]
  },
  {
   "cell_type": "code",
   "execution_count": 62,
   "id": "2275b3ba",
   "metadata": {
    "ExecuteTime": {
     "end_time": "2023-02-03T20:46:58.707171Z",
     "start_time": "2023-02-03T20:46:58.701704Z"
    }
   },
   "outputs": [],
   "source": [
    "coinbasepro_exchange = ccxt.coinbasepro()"
   ]
  },
  {
   "cell_type": "code",
   "execution_count": 63,
   "id": "386e96e9",
   "metadata": {
    "ExecuteTime": {
     "end_time": "2023-02-03T20:46:59.185277Z",
     "start_time": "2023-02-03T20:46:59.180884Z"
    }
   },
   "outputs": [
    {
     "name": "stdout",
     "output_type": "stream",
     "text": [
      "Help on method fetch_order_book in module ccxt.coinbasepro:\n",
      "\n",
      "fetch_order_book(symbol, limit=None, params={}) method of ccxt.coinbasepro.coinbasepro instance\n",
      "    fetches information on open orders with bid(buy) and ask(sell) prices, volumes and other data\n",
      "    :param str symbol: unified symbol of the market to fetch the order book for\n",
      "    :param int|None limit: the maximum amount of order book entries to return\n",
      "    :param dict params: extra parameters specific to the coinbasepro api endpoint\n",
      "    :returns dict: A dictionary of `order book structures <https://docs.ccxt.com/en/latest/manual.html#order-book-structure>` indexed by market symbols\n",
      "\n"
     ]
    }
   ],
   "source": [
    "help(coinbasepro_exchange.fetch_order_book)"
   ]
  },
  {
   "cell_type": "code",
   "execution_count": 64,
   "id": "83e7395f",
   "metadata": {
    "ExecuteTime": {
     "end_time": "2023-02-03T20:47:03.363799Z",
     "start_time": "2023-02-03T20:47:02.741028Z"
    }
   },
   "outputs": [
    {
     "ename": "ValueError",
     "evalue": "All arrays must be of the same length",
     "output_type": "error",
     "traceback": [
      "\u001b[0;31m---------------------------------------------------------------------------\u001b[0m",
      "\u001b[0;31mValueError\u001b[0m                                Traceback (most recent call last)",
      "Cell \u001b[0;32mIn [64], line 2\u001b[0m\n\u001b[1;32m      1\u001b[0m currency_pair \u001b[38;5;241m=\u001b[39m \u001b[38;5;124m\"\u001b[39m\u001b[38;5;124mBTC/USDT\u001b[39m\u001b[38;5;124m\"\u001b[39m\n\u001b[0;32m----> 2\u001b[0m \u001b[43mpd\u001b[49m\u001b[38;5;241;43m.\u001b[39;49m\u001b[43mDataFrame\u001b[49m\u001b[43m(\u001b[49m\u001b[43mcoinbasepro_exchange\u001b[49m\u001b[38;5;241;43m.\u001b[39;49m\u001b[43mfetch_order_book\u001b[49m\u001b[43m(\u001b[49m\u001b[43mcurrency_pair\u001b[49m\u001b[43m,\u001b[49m\u001b[43m \u001b[49m\u001b[43mlimit\u001b[49m\u001b[38;5;241;43m=\u001b[39;49m\u001b[38;5;241;43m10\u001b[39;49m\u001b[43m)\u001b[49m\u001b[43m)\u001b[49m\u001b[38;5;241m.\u001b[39mhead()\n",
      "File \u001b[0;32m/venv/lib/python3.8/site-packages/pandas/core/frame.py:662\u001b[0m, in \u001b[0;36mDataFrame.__init__\u001b[0;34m(self, data, index, columns, dtype, copy)\u001b[0m\n\u001b[1;32m    656\u001b[0m     mgr \u001b[38;5;241m=\u001b[39m \u001b[38;5;28mself\u001b[39m\u001b[38;5;241m.\u001b[39m_init_mgr(\n\u001b[1;32m    657\u001b[0m         data, axes\u001b[38;5;241m=\u001b[39m{\u001b[38;5;124m\"\u001b[39m\u001b[38;5;124mindex\u001b[39m\u001b[38;5;124m\"\u001b[39m: index, \u001b[38;5;124m\"\u001b[39m\u001b[38;5;124mcolumns\u001b[39m\u001b[38;5;124m\"\u001b[39m: columns}, dtype\u001b[38;5;241m=\u001b[39mdtype, copy\u001b[38;5;241m=\u001b[39mcopy\n\u001b[1;32m    658\u001b[0m     )\n\u001b[1;32m    660\u001b[0m \u001b[38;5;28;01melif\u001b[39;00m \u001b[38;5;28misinstance\u001b[39m(data, \u001b[38;5;28mdict\u001b[39m):\n\u001b[1;32m    661\u001b[0m     \u001b[38;5;66;03m# GH#38939 de facto copy defaults to False only in non-dict cases\u001b[39;00m\n\u001b[0;32m--> 662\u001b[0m     mgr \u001b[38;5;241m=\u001b[39m \u001b[43mdict_to_mgr\u001b[49m\u001b[43m(\u001b[49m\u001b[43mdata\u001b[49m\u001b[43m,\u001b[49m\u001b[43m \u001b[49m\u001b[43mindex\u001b[49m\u001b[43m,\u001b[49m\u001b[43m \u001b[49m\u001b[43mcolumns\u001b[49m\u001b[43m,\u001b[49m\u001b[43m \u001b[49m\u001b[43mdtype\u001b[49m\u001b[38;5;241;43m=\u001b[39;49m\u001b[43mdtype\u001b[49m\u001b[43m,\u001b[49m\u001b[43m \u001b[49m\u001b[43mcopy\u001b[49m\u001b[38;5;241;43m=\u001b[39;49m\u001b[43mcopy\u001b[49m\u001b[43m,\u001b[49m\u001b[43m \u001b[49m\u001b[43mtyp\u001b[49m\u001b[38;5;241;43m=\u001b[39;49m\u001b[43mmanager\u001b[49m\u001b[43m)\u001b[49m\n\u001b[1;32m    663\u001b[0m \u001b[38;5;28;01melif\u001b[39;00m \u001b[38;5;28misinstance\u001b[39m(data, ma\u001b[38;5;241m.\u001b[39mMaskedArray):\n\u001b[1;32m    664\u001b[0m     \u001b[38;5;28;01mimport\u001b[39;00m \u001b[38;5;21;01mnumpy\u001b[39;00m\u001b[38;5;21;01m.\u001b[39;00m\u001b[38;5;21;01mma\u001b[39;00m\u001b[38;5;21;01m.\u001b[39;00m\u001b[38;5;21;01mmrecords\u001b[39;00m \u001b[38;5;28;01mas\u001b[39;00m \u001b[38;5;21;01mmrecords\u001b[39;00m\n",
      "File \u001b[0;32m/venv/lib/python3.8/site-packages/pandas/core/internals/construction.py:493\u001b[0m, in \u001b[0;36mdict_to_mgr\u001b[0;34m(data, index, columns, dtype, typ, copy)\u001b[0m\n\u001b[1;32m    489\u001b[0m     \u001b[38;5;28;01melse\u001b[39;00m:\n\u001b[1;32m    490\u001b[0m         \u001b[38;5;66;03m# dtype check to exclude e.g. range objects, scalars\u001b[39;00m\n\u001b[1;32m    491\u001b[0m         arrays \u001b[38;5;241m=\u001b[39m [x\u001b[38;5;241m.\u001b[39mcopy() \u001b[38;5;28;01mif\u001b[39;00m \u001b[38;5;28mhasattr\u001b[39m(x, \u001b[38;5;124m\"\u001b[39m\u001b[38;5;124mdtype\u001b[39m\u001b[38;5;124m\"\u001b[39m) \u001b[38;5;28;01melse\u001b[39;00m x \u001b[38;5;28;01mfor\u001b[39;00m x \u001b[38;5;129;01min\u001b[39;00m arrays]\n\u001b[0;32m--> 493\u001b[0m \u001b[38;5;28;01mreturn\u001b[39;00m \u001b[43marrays_to_mgr\u001b[49m\u001b[43m(\u001b[49m\u001b[43marrays\u001b[49m\u001b[43m,\u001b[49m\u001b[43m \u001b[49m\u001b[43mcolumns\u001b[49m\u001b[43m,\u001b[49m\u001b[43m \u001b[49m\u001b[43mindex\u001b[49m\u001b[43m,\u001b[49m\u001b[43m \u001b[49m\u001b[43mdtype\u001b[49m\u001b[38;5;241;43m=\u001b[39;49m\u001b[43mdtype\u001b[49m\u001b[43m,\u001b[49m\u001b[43m \u001b[49m\u001b[43mtyp\u001b[49m\u001b[38;5;241;43m=\u001b[39;49m\u001b[43mtyp\u001b[49m\u001b[43m,\u001b[49m\u001b[43m \u001b[49m\u001b[43mconsolidate\u001b[49m\u001b[38;5;241;43m=\u001b[39;49m\u001b[43mcopy\u001b[49m\u001b[43m)\u001b[49m\n",
      "File \u001b[0;32m/venv/lib/python3.8/site-packages/pandas/core/internals/construction.py:118\u001b[0m, in \u001b[0;36marrays_to_mgr\u001b[0;34m(arrays, columns, index, dtype, verify_integrity, typ, consolidate)\u001b[0m\n\u001b[1;32m    115\u001b[0m \u001b[38;5;28;01mif\u001b[39;00m verify_integrity:\n\u001b[1;32m    116\u001b[0m     \u001b[38;5;66;03m# figure out the index, if necessary\u001b[39;00m\n\u001b[1;32m    117\u001b[0m     \u001b[38;5;28;01mif\u001b[39;00m index \u001b[38;5;129;01mis\u001b[39;00m \u001b[38;5;28;01mNone\u001b[39;00m:\n\u001b[0;32m--> 118\u001b[0m         index \u001b[38;5;241m=\u001b[39m \u001b[43m_extract_index\u001b[49m\u001b[43m(\u001b[49m\u001b[43marrays\u001b[49m\u001b[43m)\u001b[49m\n\u001b[1;32m    119\u001b[0m     \u001b[38;5;28;01melse\u001b[39;00m:\n\u001b[1;32m    120\u001b[0m         index \u001b[38;5;241m=\u001b[39m ensure_index(index)\n",
      "File \u001b[0;32m/venv/lib/python3.8/site-packages/pandas/core/internals/construction.py:666\u001b[0m, in \u001b[0;36m_extract_index\u001b[0;34m(data)\u001b[0m\n\u001b[1;32m    664\u001b[0m lengths \u001b[38;5;241m=\u001b[39m \u001b[38;5;28mlist\u001b[39m(\u001b[38;5;28mset\u001b[39m(raw_lengths))\n\u001b[1;32m    665\u001b[0m \u001b[38;5;28;01mif\u001b[39;00m \u001b[38;5;28mlen\u001b[39m(lengths) \u001b[38;5;241m>\u001b[39m \u001b[38;5;241m1\u001b[39m:\n\u001b[0;32m--> 666\u001b[0m     \u001b[38;5;28;01mraise\u001b[39;00m \u001b[38;5;167;01mValueError\u001b[39;00m(\u001b[38;5;124m\"\u001b[39m\u001b[38;5;124mAll arrays must be of the same length\u001b[39m\u001b[38;5;124m\"\u001b[39m)\n\u001b[1;32m    668\u001b[0m \u001b[38;5;28;01mif\u001b[39;00m have_dicts:\n\u001b[1;32m    669\u001b[0m     \u001b[38;5;28;01mraise\u001b[39;00m \u001b[38;5;167;01mValueError\u001b[39;00m(\n\u001b[1;32m    670\u001b[0m         \u001b[38;5;124m\"\u001b[39m\u001b[38;5;124mMixing dicts with non-Series may lead to ambiguous ordering.\u001b[39m\u001b[38;5;124m\"\u001b[39m\n\u001b[1;32m    671\u001b[0m     )\n",
      "\u001b[0;31mValueError\u001b[0m: All arrays must be of the same length"
     ]
    }
   ],
   "source": [
    "currency_pair = \"BTC/USDT\"\n",
    "pd.DataFrame(\n",
    "    coinbasepro_exchange.fetch_order_book(currency_pair, limit=10)\n",
    ").head()"
   ]
  },
  {
   "cell_type": "markdown",
   "id": "7bcbfbbf",
   "metadata": {},
   "source": [
    "### coinbasepro REST spot ohlcv"
   ]
  },
  {
   "cell_type": "code",
   "execution_count": 65,
   "id": "99b9eb3e",
   "metadata": {
    "ExecuteTime": {
     "end_time": "2023-02-03T20:47:16.234831Z",
     "start_time": "2023-02-03T20:47:16.070978Z"
    }
   },
   "outputs": [
    {
     "data": {
      "text/html": [
       "<div>\n",
       "<style scoped>\n",
       "    .dataframe tbody tr th:only-of-type {\n",
       "        vertical-align: middle;\n",
       "    }\n",
       "\n",
       "    .dataframe tbody tr th {\n",
       "        vertical-align: top;\n",
       "    }\n",
       "\n",
       "    .dataframe thead th {\n",
       "        text-align: right;\n",
       "    }\n",
       "</style>\n",
       "<table border=\"1\" class=\"dataframe\">\n",
       "  <thead>\n",
       "    <tr style=\"text-align: right;\">\n",
       "      <th></th>\n",
       "      <th>0</th>\n",
       "      <th>1</th>\n",
       "      <th>2</th>\n",
       "      <th>3</th>\n",
       "      <th>4</th>\n",
       "      <th>5</th>\n",
       "    </tr>\n",
       "  </thead>\n",
       "  <tbody>\n",
       "    <tr>\n",
       "      <th>0</th>\n",
       "      <td>1675437180000</td>\n",
       "      <td>23494.91</td>\n",
       "      <td>23523.45</td>\n",
       "      <td>23494.91</td>\n",
       "      <td>23521.78</td>\n",
       "      <td>0.670479</td>\n",
       "    </tr>\n",
       "    <tr>\n",
       "      <th>1</th>\n",
       "      <td>1675437240000</td>\n",
       "      <td>23514.07</td>\n",
       "      <td>23535.14</td>\n",
       "      <td>23513.60</td>\n",
       "      <td>23535.14</td>\n",
       "      <td>0.262297</td>\n",
       "    </tr>\n",
       "    <tr>\n",
       "      <th>2</th>\n",
       "      <td>1675437300000</td>\n",
       "      <td>23537.81</td>\n",
       "      <td>23538.02</td>\n",
       "      <td>23513.40</td>\n",
       "      <td>23519.25</td>\n",
       "      <td>1.054663</td>\n",
       "    </tr>\n",
       "    <tr>\n",
       "      <th>3</th>\n",
       "      <td>1675437360000</td>\n",
       "      <td>23522.42</td>\n",
       "      <td>23562.94</td>\n",
       "      <td>23522.42</td>\n",
       "      <td>23562.04</td>\n",
       "      <td>3.078069</td>\n",
       "    </tr>\n",
       "    <tr>\n",
       "      <th>4</th>\n",
       "      <td>1675437420000</td>\n",
       "      <td>23565.69</td>\n",
       "      <td>23669.80</td>\n",
       "      <td>23562.20</td>\n",
       "      <td>23661.56</td>\n",
       "      <td>5.686966</td>\n",
       "    </tr>\n",
       "  </tbody>\n",
       "</table>\n",
       "</div>"
      ],
      "text/plain": [
       "               0         1         2         3         4         5\n",
       "0  1675437180000  23494.91  23523.45  23494.91  23521.78  0.670479\n",
       "1  1675437240000  23514.07  23535.14  23513.60  23535.14  0.262297\n",
       "2  1675437300000  23537.81  23538.02  23513.40  23519.25  1.054663\n",
       "3  1675437360000  23522.42  23562.94  23522.42  23562.04  3.078069\n",
       "4  1675437420000  23565.69  23669.80  23562.20  23661.56  5.686966"
      ]
     },
     "execution_count": 65,
     "metadata": {},
     "output_type": "execute_result"
    }
   ],
   "source": [
    "pd.DataFrame(coinbasepro_exchange.fetch_ohlcv(currency_pair)).head()"
   ]
  },
  {
   "cell_type": "markdown",
   "id": "d44739f5",
   "metadata": {},
   "source": [
    "### coinbasepro REST spot trades"
   ]
  },
  {
   "cell_type": "code",
   "execution_count": 66,
   "id": "ef763303",
   "metadata": {
    "ExecuteTime": {
     "end_time": "2023-02-03T20:47:17.547413Z",
     "start_time": "2023-02-03T20:47:17.440420Z"
    }
   },
   "outputs": [
    {
     "data": {
      "text/html": [
       "<div>\n",
       "<style scoped>\n",
       "    .dataframe tbody tr th:only-of-type {\n",
       "        vertical-align: middle;\n",
       "    }\n",
       "\n",
       "    .dataframe tbody tr th {\n",
       "        vertical-align: top;\n",
       "    }\n",
       "\n",
       "    .dataframe thead th {\n",
       "        text-align: right;\n",
       "    }\n",
       "</style>\n",
       "<table border=\"1\" class=\"dataframe\">\n",
       "  <thead>\n",
       "    <tr style=\"text-align: right;\">\n",
       "      <th></th>\n",
       "      <th>id</th>\n",
       "      <th>order</th>\n",
       "      <th>info</th>\n",
       "      <th>timestamp</th>\n",
       "      <th>datetime</th>\n",
       "      <th>symbol</th>\n",
       "      <th>type</th>\n",
       "      <th>takerOrMaker</th>\n",
       "      <th>side</th>\n",
       "      <th>price</th>\n",
       "      <th>amount</th>\n",
       "      <th>fee</th>\n",
       "      <th>cost</th>\n",
       "      <th>fees</th>\n",
       "    </tr>\n",
       "  </thead>\n",
       "  <tbody>\n",
       "    <tr>\n",
       "      <th>0</th>\n",
       "      <td>11114240</td>\n",
       "      <td>None</td>\n",
       "      <td>{'time': '2023-02-03T19:26:36.701112Z', 'trade...</td>\n",
       "      <td>1675452396701</td>\n",
       "      <td>2023-02-03T19:26:36.701Z</td>\n",
       "      <td>BTC/USDT</td>\n",
       "      <td>None</td>\n",
       "      <td>None</td>\n",
       "      <td>buy</td>\n",
       "      <td>23350.29</td>\n",
       "      <td>0.000679</td>\n",
       "      <td>{'cost': None, 'currency': 'USDT', 'rate': None}</td>\n",
       "      <td>15.854847</td>\n",
       "      <td>[{'currency': 'USDT', 'cost': None}]</td>\n",
       "    </tr>\n",
       "    <tr>\n",
       "      <th>1</th>\n",
       "      <td>11114241</td>\n",
       "      <td>None</td>\n",
       "      <td>{'time': '2023-02-03T19:26:37.276844Z', 'trade...</td>\n",
       "      <td>1675452397276</td>\n",
       "      <td>2023-02-03T19:26:37.276Z</td>\n",
       "      <td>BTC/USDT</td>\n",
       "      <td>None</td>\n",
       "      <td>None</td>\n",
       "      <td>buy</td>\n",
       "      <td>23351.79</td>\n",
       "      <td>0.064230</td>\n",
       "      <td>{'cost': None, 'currency': 'USDT', 'rate': None}</td>\n",
       "      <td>1499.887106</td>\n",
       "      <td>[{'currency': 'USDT', 'cost': None}]</td>\n",
       "    </tr>\n",
       "    <tr>\n",
       "      <th>2</th>\n",
       "      <td>11114242</td>\n",
       "      <td>None</td>\n",
       "      <td>{'time': '2023-02-03T19:26:37.276844Z', 'trade...</td>\n",
       "      <td>1675452397276</td>\n",
       "      <td>2023-02-03T19:26:37.276Z</td>\n",
       "      <td>BTC/USDT</td>\n",
       "      <td>None</td>\n",
       "      <td>None</td>\n",
       "      <td>buy</td>\n",
       "      <td>23352.12</td>\n",
       "      <td>0.042819</td>\n",
       "      <td>{'cost': None, 'currency': 'USDT', 'rate': None}</td>\n",
       "      <td>999.924701</td>\n",
       "      <td>[{'currency': 'USDT', 'cost': None}]</td>\n",
       "    </tr>\n",
       "    <tr>\n",
       "      <th>3</th>\n",
       "      <td>11114243</td>\n",
       "      <td>None</td>\n",
       "      <td>{'time': '2023-02-03T19:26:37.276844Z', 'trade...</td>\n",
       "      <td>1675452397276</td>\n",
       "      <td>2023-02-03T19:26:37.276Z</td>\n",
       "      <td>BTC/USDT</td>\n",
       "      <td>None</td>\n",
       "      <td>None</td>\n",
       "      <td>buy</td>\n",
       "      <td>23352.15</td>\n",
       "      <td>0.165483</td>\n",
       "      <td>{'cost': None, 'currency': 'USDT', 'rate': None}</td>\n",
       "      <td>3864.374031</td>\n",
       "      <td>[{'currency': 'USDT', 'cost': None}]</td>\n",
       "    </tr>\n",
       "    <tr>\n",
       "      <th>4</th>\n",
       "      <td>11114244</td>\n",
       "      <td>None</td>\n",
       "      <td>{'time': '2023-02-03T19:26:37.300073Z', 'trade...</td>\n",
       "      <td>1675452397300</td>\n",
       "      <td>2023-02-03T19:26:37.300Z</td>\n",
       "      <td>BTC/USDT</td>\n",
       "      <td>None</td>\n",
       "      <td>None</td>\n",
       "      <td>buy</td>\n",
       "      <td>23352.38</td>\n",
       "      <td>0.107047</td>\n",
       "      <td>{'cost': None, 'currency': 'USDT', 'rate': None}</td>\n",
       "      <td>2499.809928</td>\n",
       "      <td>[{'currency': 'USDT', 'cost': None}]</td>\n",
       "    </tr>\n",
       "  </tbody>\n",
       "</table>\n",
       "</div>"
      ],
      "text/plain": [
       "         id order                                               info  \\\n",
       "0  11114240  None  {'time': '2023-02-03T19:26:36.701112Z', 'trade...   \n",
       "1  11114241  None  {'time': '2023-02-03T19:26:37.276844Z', 'trade...   \n",
       "2  11114242  None  {'time': '2023-02-03T19:26:37.276844Z', 'trade...   \n",
       "3  11114243  None  {'time': '2023-02-03T19:26:37.276844Z', 'trade...   \n",
       "4  11114244  None  {'time': '2023-02-03T19:26:37.300073Z', 'trade...   \n",
       "\n",
       "       timestamp                  datetime    symbol  type takerOrMaker side  \\\n",
       "0  1675452396701  2023-02-03T19:26:36.701Z  BTC/USDT  None         None  buy   \n",
       "1  1675452397276  2023-02-03T19:26:37.276Z  BTC/USDT  None         None  buy   \n",
       "2  1675452397276  2023-02-03T19:26:37.276Z  BTC/USDT  None         None  buy   \n",
       "3  1675452397276  2023-02-03T19:26:37.276Z  BTC/USDT  None         None  buy   \n",
       "4  1675452397300  2023-02-03T19:26:37.300Z  BTC/USDT  None         None  buy   \n",
       "\n",
       "      price    amount                                               fee  \\\n",
       "0  23350.29  0.000679  {'cost': None, 'currency': 'USDT', 'rate': None}   \n",
       "1  23351.79  0.064230  {'cost': None, 'currency': 'USDT', 'rate': None}   \n",
       "2  23352.12  0.042819  {'cost': None, 'currency': 'USDT', 'rate': None}   \n",
       "3  23352.15  0.165483  {'cost': None, 'currency': 'USDT', 'rate': None}   \n",
       "4  23352.38  0.107047  {'cost': None, 'currency': 'USDT', 'rate': None}   \n",
       "\n",
       "          cost                                  fees  \n",
       "0    15.854847  [{'currency': 'USDT', 'cost': None}]  \n",
       "1  1499.887106  [{'currency': 'USDT', 'cost': None}]  \n",
       "2   999.924701  [{'currency': 'USDT', 'cost': None}]  \n",
       "3  3864.374031  [{'currency': 'USDT', 'cost': None}]  \n",
       "4  2499.809928  [{'currency': 'USDT', 'cost': None}]  "
      ]
     },
     "execution_count": 66,
     "metadata": {},
     "output_type": "execute_result"
    }
   ],
   "source": [
    "pd.DataFrame(coinbasepro_exchange.fetch_trades(currency_pair)).head()"
   ]
  },
  {
   "cell_type": "markdown",
   "id": "ea634769",
   "metadata": {},
   "source": [
    "## coinbasepro REST futures"
   ]
  },
  {
   "cell_type": "code",
   "execution_count": 67,
   "id": "bd26dd3d",
   "metadata": {
    "ExecuteTime": {
     "end_time": "2023-02-03T20:47:18.834812Z",
     "start_time": "2023-02-03T20:47:18.830599Z"
    }
   },
   "outputs": [
    {
     "data": {
      "text/plain": [
       "False"
      ]
     },
     "execution_count": 67,
     "metadata": {},
     "output_type": "execute_result"
    }
   ],
   "source": [
    "coinbasepro_exchange.has[\"future\"]"
   ]
  },
  {
   "cell_type": "markdown",
   "id": "1e1d09eb",
   "metadata": {},
   "source": [
    "# kraken REST"
   ]
  },
  {
   "cell_type": "code",
   "execution_count": 68,
   "id": "c68070f9",
   "metadata": {
    "ExecuteTime": {
     "end_time": "2023-02-03T20:47:20.084204Z",
     "start_time": "2023-02-03T20:47:20.081389Z"
    }
   },
   "outputs": [],
   "source": [
    "exchange_id = \"kraken\""
   ]
  },
  {
   "cell_type": "markdown",
   "id": "23578154",
   "metadata": {},
   "source": [
    "## kraken REST spot"
   ]
  },
  {
   "cell_type": "code",
   "execution_count": 69,
   "id": "5ea393ed",
   "metadata": {
    "ExecuteTime": {
     "end_time": "2023-02-03T20:47:22.612224Z",
     "start_time": "2023-02-03T20:47:21.180963Z"
    }
   },
   "outputs": [],
   "source": [
    "contract_type = \"spot\"\n",
    "extractor = imvcdexex.CcxtExtractor(exchange_id, contract_type)"
   ]
  },
  {
   "cell_type": "markdown",
   "id": "23fb2744",
   "metadata": {},
   "source": [
    "### kraken REST spot bid_ask"
   ]
  },
  {
   "cell_type": "code",
   "execution_count": 70,
   "id": "4fe470c5",
   "metadata": {
    "ExecuteTime": {
     "end_time": "2023-02-03T20:47:24.325564Z",
     "start_time": "2023-02-03T20:47:23.320550Z"
    }
   },
   "outputs": [
    {
     "ename": "ValueError",
     "evalue": "Columns must be same length as key",
     "output_type": "error",
     "traceback": [
      "\u001b[0;31m---------------------------------------------------------------------------\u001b[0m",
      "\u001b[0;31mValueError\u001b[0m                                Traceback (most recent call last)",
      "Cell \u001b[0;32mIn [70], line 7\u001b[0m\n\u001b[1;32m      5\u001b[0m bid_ask_depth \u001b[38;5;241m=\u001b[39m \u001b[38;5;241m10\u001b[39m\n\u001b[1;32m      6\u001b[0m data_type \u001b[38;5;241m=\u001b[39m \u001b[38;5;124m\"\u001b[39m\u001b[38;5;124mbid_ask\u001b[39m\u001b[38;5;124m\"\u001b[39m\n\u001b[0;32m----> 7\u001b[0m data \u001b[38;5;241m=\u001b[39m \u001b[43mextractor\u001b[49m\u001b[38;5;241;43m.\u001b[39;49m\u001b[43mdownload_data\u001b[49m\u001b[43m(\u001b[49m\n\u001b[1;32m      8\u001b[0m \u001b[43m    \u001b[49m\u001b[43mdata_type\u001b[49m\u001b[43m,\u001b[49m\n\u001b[1;32m      9\u001b[0m \u001b[43m    \u001b[49m\u001b[43mexchange_id\u001b[49m\u001b[43m,\u001b[49m\n\u001b[1;32m     10\u001b[0m \u001b[43m    \u001b[49m\u001b[43mcurrency_pair_for_download\u001b[49m\u001b[43m,\u001b[49m\n\u001b[1;32m     11\u001b[0m \u001b[43m    \u001b[49m\u001b[43mstart_timestamp\u001b[49m\u001b[38;5;241;43m=\u001b[39;49m\u001b[43mstart_timestamp\u001b[49m\u001b[43m,\u001b[49m\n\u001b[1;32m     12\u001b[0m \u001b[43m    \u001b[49m\u001b[43mend_timestamp\u001b[49m\u001b[38;5;241;43m=\u001b[39;49m\u001b[43mend_timestamp\u001b[49m\u001b[43m,\u001b[49m\n\u001b[1;32m     13\u001b[0m \u001b[43m    \u001b[49m\u001b[43mdepth\u001b[49m\u001b[38;5;241;43m=\u001b[39;49m\u001b[43mbid_ask_depth\u001b[49m\n\u001b[1;32m     14\u001b[0m \u001b[43m)\u001b[49m\n\u001b[1;32m     15\u001b[0m data\u001b[38;5;241m.\u001b[39mhead()\n",
      "File \u001b[0;32m/app/im_v2/common/data/extract/extractor.py:43\u001b[0m, in \u001b[0;36mExtractor.download_data\u001b[0;34m(self, data_type, exchange_id, currency_pair, **kwargs)\u001b[0m\n\u001b[1;32m     37\u001b[0m     data \u001b[38;5;241m=\u001b[39m \u001b[38;5;28mself\u001b[39m\u001b[38;5;241m.\u001b[39m_download_ohlcv(\n\u001b[1;32m     38\u001b[0m         exchange_id,\n\u001b[1;32m     39\u001b[0m         currency_pair,\n\u001b[1;32m     40\u001b[0m         \u001b[38;5;241m*\u001b[39m\u001b[38;5;241m*\u001b[39mkwargs,\n\u001b[1;32m     41\u001b[0m     )\n\u001b[1;32m     42\u001b[0m \u001b[38;5;28;01melif\u001b[39;00m data_type \u001b[38;5;241m==\u001b[39m \u001b[38;5;124m\"\u001b[39m\u001b[38;5;124mbid_ask\u001b[39m\u001b[38;5;124m\"\u001b[39m:\n\u001b[0;32m---> 43\u001b[0m     data \u001b[38;5;241m=\u001b[39m \u001b[38;5;28;43mself\u001b[39;49m\u001b[38;5;241;43m.\u001b[39;49m\u001b[43m_download_bid_ask\u001b[49m\u001b[43m(\u001b[49m\u001b[43mexchange_id\u001b[49m\u001b[43m,\u001b[49m\u001b[43m \u001b[49m\u001b[43mcurrency_pair\u001b[49m\u001b[43m,\u001b[49m\u001b[43m \u001b[49m\u001b[38;5;241;43m*\u001b[39;49m\u001b[38;5;241;43m*\u001b[39;49m\u001b[43mkwargs\u001b[49m\u001b[43m)\u001b[49m\n\u001b[1;32m     44\u001b[0m \u001b[38;5;28;01melif\u001b[39;00m data_type \u001b[38;5;241m==\u001b[39m \u001b[38;5;124m\"\u001b[39m\u001b[38;5;124mtrades\u001b[39m\u001b[38;5;124m\"\u001b[39m:\n\u001b[1;32m     45\u001b[0m     data \u001b[38;5;241m=\u001b[39m \u001b[38;5;28mself\u001b[39m\u001b[38;5;241m.\u001b[39m_download_trades(exchange_id, currency_pair, \u001b[38;5;241m*\u001b[39m\u001b[38;5;241m*\u001b[39mkwargs)\n",
      "File \u001b[0;32m/app/im_v2/ccxt/data/extract/extractor.py:371\u001b[0m, in \u001b[0;36mCcxtExtractor._download_bid_ask\u001b[0;34m(self, exchange_id, currency_pair, depth, **kwargs)\u001b[0m\n\u001b[1;32m    369\u001b[0m order_book \u001b[38;5;241m=\u001b[39m pd\u001b[38;5;241m.\u001b[39mDataFrame\u001b[38;5;241m.\u001b[39mfrom_dict(order_book)\n\u001b[1;32m    370\u001b[0m \u001b[38;5;66;03m# Separate price and size into columns.\u001b[39;00m\n\u001b[0;32m--> 371\u001b[0m \u001b[43morder_book\u001b[49m\u001b[43m[\u001b[49m\u001b[43m[\u001b[49m\u001b[38;5;124;43m\"\u001b[39;49m\u001b[38;5;124;43mbid_price\u001b[39;49m\u001b[38;5;124;43m\"\u001b[39;49m\u001b[43m,\u001b[49m\u001b[43m \u001b[49m\u001b[38;5;124;43m\"\u001b[39;49m\u001b[38;5;124;43mbid_size\u001b[39;49m\u001b[38;5;124;43m\"\u001b[39;49m\u001b[43m]\u001b[49m\u001b[43m]\u001b[49m \u001b[38;5;241m=\u001b[39m pd\u001b[38;5;241m.\u001b[39mDataFrame(\n\u001b[1;32m    372\u001b[0m     order_book\u001b[38;5;241m.\u001b[39mbids\u001b[38;5;241m.\u001b[39mto_list(), index\u001b[38;5;241m=\u001b[39morder_book\u001b[38;5;241m.\u001b[39mindex\n\u001b[1;32m    373\u001b[0m )\n\u001b[1;32m    374\u001b[0m order_book[[\u001b[38;5;124m\"\u001b[39m\u001b[38;5;124mask_price\u001b[39m\u001b[38;5;124m\"\u001b[39m, \u001b[38;5;124m\"\u001b[39m\u001b[38;5;124mask_size\u001b[39m\u001b[38;5;124m\"\u001b[39m]] \u001b[38;5;241m=\u001b[39m pd\u001b[38;5;241m.\u001b[39mDataFrame(\n\u001b[1;32m    375\u001b[0m     order_book\u001b[38;5;241m.\u001b[39masks\u001b[38;5;241m.\u001b[39mto_list(), index\u001b[38;5;241m=\u001b[39morder_book\u001b[38;5;241m.\u001b[39mindex\n\u001b[1;32m    376\u001b[0m )\n\u001b[1;32m    377\u001b[0m order_book[\u001b[38;5;124m\"\u001b[39m\u001b[38;5;124mlevel\u001b[39m\u001b[38;5;124m\"\u001b[39m] \u001b[38;5;241m=\u001b[39m order_book\u001b[38;5;241m.\u001b[39mindex \u001b[38;5;241m+\u001b[39m \u001b[38;5;241m1\u001b[39m\n",
      "File \u001b[0;32m/venv/lib/python3.8/site-packages/pandas/core/frame.py:3965\u001b[0m, in \u001b[0;36mDataFrame.__setitem__\u001b[0;34m(self, key, value)\u001b[0m\n\u001b[1;32m   3963\u001b[0m     \u001b[38;5;28mself\u001b[39m\u001b[38;5;241m.\u001b[39m_setitem_frame(key, value)\n\u001b[1;32m   3964\u001b[0m \u001b[38;5;28;01melif\u001b[39;00m \u001b[38;5;28misinstance\u001b[39m(key, (Series, np\u001b[38;5;241m.\u001b[39mndarray, \u001b[38;5;28mlist\u001b[39m, Index)):\n\u001b[0;32m-> 3965\u001b[0m     \u001b[38;5;28;43mself\u001b[39;49m\u001b[38;5;241;43m.\u001b[39;49m\u001b[43m_setitem_array\u001b[49m\u001b[43m(\u001b[49m\u001b[43mkey\u001b[49m\u001b[43m,\u001b[49m\u001b[43m \u001b[49m\u001b[43mvalue\u001b[49m\u001b[43m)\u001b[49m\n\u001b[1;32m   3966\u001b[0m \u001b[38;5;28;01melif\u001b[39;00m \u001b[38;5;28misinstance\u001b[39m(value, DataFrame):\n\u001b[1;32m   3967\u001b[0m     \u001b[38;5;28mself\u001b[39m\u001b[38;5;241m.\u001b[39m_set_item_frame_value(key, value)\n",
      "File \u001b[0;32m/venv/lib/python3.8/site-packages/pandas/core/frame.py:4007\u001b[0m, in \u001b[0;36mDataFrame._setitem_array\u001b[0;34m(self, key, value)\u001b[0m\n\u001b[1;32m   4002\u001b[0m \u001b[38;5;28;01melse\u001b[39;00m:\n\u001b[1;32m   4003\u001b[0m     \u001b[38;5;66;03m# Note: unlike self.iloc[:, indexer] = value, this will\u001b[39;00m\n\u001b[1;32m   4004\u001b[0m     \u001b[38;5;66;03m#  never try to overwrite values inplace\u001b[39;00m\n\u001b[1;32m   4006\u001b[0m     \u001b[38;5;28;01mif\u001b[39;00m \u001b[38;5;28misinstance\u001b[39m(value, DataFrame):\n\u001b[0;32m-> 4007\u001b[0m         \u001b[43mcheck_key_length\u001b[49m\u001b[43m(\u001b[49m\u001b[38;5;28;43mself\u001b[39;49m\u001b[38;5;241;43m.\u001b[39;49m\u001b[43mcolumns\u001b[49m\u001b[43m,\u001b[49m\u001b[43m \u001b[49m\u001b[43mkey\u001b[49m\u001b[43m,\u001b[49m\u001b[43m \u001b[49m\u001b[43mvalue\u001b[49m\u001b[43m)\u001b[49m\n\u001b[1;32m   4008\u001b[0m         \u001b[38;5;28;01mfor\u001b[39;00m k1, k2 \u001b[38;5;129;01min\u001b[39;00m \u001b[38;5;28mzip\u001b[39m(key, value\u001b[38;5;241m.\u001b[39mcolumns):\n\u001b[1;32m   4009\u001b[0m             \u001b[38;5;28mself\u001b[39m[k1] \u001b[38;5;241m=\u001b[39m value[k2]\n",
      "File \u001b[0;32m/venv/lib/python3.8/site-packages/pandas/core/indexers/utils.py:401\u001b[0m, in \u001b[0;36mcheck_key_length\u001b[0;34m(columns, key, value)\u001b[0m\n\u001b[1;32m    399\u001b[0m \u001b[38;5;28;01mif\u001b[39;00m columns\u001b[38;5;241m.\u001b[39mis_unique:\n\u001b[1;32m    400\u001b[0m     \u001b[38;5;28;01mif\u001b[39;00m \u001b[38;5;28mlen\u001b[39m(value\u001b[38;5;241m.\u001b[39mcolumns) \u001b[38;5;241m!=\u001b[39m \u001b[38;5;28mlen\u001b[39m(key):\n\u001b[0;32m--> 401\u001b[0m         \u001b[38;5;28;01mraise\u001b[39;00m \u001b[38;5;167;01mValueError\u001b[39;00m(\u001b[38;5;124m\"\u001b[39m\u001b[38;5;124mColumns must be same length as key\u001b[39m\u001b[38;5;124m\"\u001b[39m)\n\u001b[1;32m    402\u001b[0m \u001b[38;5;28;01melse\u001b[39;00m:\n\u001b[1;32m    403\u001b[0m     \u001b[38;5;66;03m# Missing keys in columns are represented as -1\u001b[39;00m\n\u001b[1;32m    404\u001b[0m     \u001b[38;5;28;01mif\u001b[39;00m \u001b[38;5;28mlen\u001b[39m(columns\u001b[38;5;241m.\u001b[39mget_indexer_non_unique(key)[\u001b[38;5;241m0\u001b[39m]) \u001b[38;5;241m!=\u001b[39m \u001b[38;5;28mlen\u001b[39m(value\u001b[38;5;241m.\u001b[39mcolumns):\n",
      "\u001b[0;31mValueError\u001b[0m: Columns must be same length as key"
     ]
    }
   ],
   "source": [
    "currency_pair = \"BTC_USDT\"\n",
    "currency_pair_for_download = extractor.convert_currency_pair(currency_pair)\n",
    "start_timestamp = pd.Timestamp(\"2023-01-01 00:00:00\")\n",
    "end_timestamp = pd.Timestamp(\"2023-01-01 05:00:00\")\n",
    "bid_ask_depth = 10\n",
    "data_type = \"bid_ask\"\n",
    "data = extractor.download_data(\n",
    "    data_type,\n",
    "    exchange_id,\n",
    "    currency_pair_for_download,\n",
    "    start_timestamp=start_timestamp,\n",
    "    end_timestamp=end_timestamp,\n",
    "    depth=bid_ask_depth,\n",
    ")\n",
    "data.head()"
   ]
  },
  {
   "cell_type": "code",
   "execution_count": 71,
   "id": "0e6d145b",
   "metadata": {
    "ExecuteTime": {
     "end_time": "2023-02-03T20:47:25.006083Z",
     "start_time": "2023-02-03T20:47:25.000929Z"
    }
   },
   "outputs": [],
   "source": [
    "kraken_exchange = ccxt.kraken()"
   ]
  },
  {
   "cell_type": "code",
   "execution_count": 72,
   "id": "bd772ffa",
   "metadata": {
    "ExecuteTime": {
     "end_time": "2023-02-03T20:47:28.124807Z",
     "start_time": "2023-02-03T20:47:25.431329Z"
    }
   },
   "outputs": [
    {
     "data": {
      "text/html": [
       "<div>\n",
       "<style scoped>\n",
       "    .dataframe tbody tr th:only-of-type {\n",
       "        vertical-align: middle;\n",
       "    }\n",
       "\n",
       "    .dataframe tbody tr th {\n",
       "        vertical-align: top;\n",
       "    }\n",
       "\n",
       "    .dataframe thead th {\n",
       "        text-align: right;\n",
       "    }\n",
       "</style>\n",
       "<table border=\"1\" class=\"dataframe\">\n",
       "  <thead>\n",
       "    <tr style=\"text-align: right;\">\n",
       "      <th></th>\n",
       "      <th>symbol</th>\n",
       "      <th>bids</th>\n",
       "      <th>asks</th>\n",
       "      <th>timestamp</th>\n",
       "      <th>datetime</th>\n",
       "      <th>nonce</th>\n",
       "    </tr>\n",
       "  </thead>\n",
       "  <tbody>\n",
       "    <tr>\n",
       "      <th>0</th>\n",
       "      <td>BTC/USDT</td>\n",
       "      <td>[23327.6, 0.02, 1675457246]</td>\n",
       "      <td>[23333.1, 0.665, 1675457244]</td>\n",
       "      <td>None</td>\n",
       "      <td>None</td>\n",
       "      <td>None</td>\n",
       "    </tr>\n",
       "    <tr>\n",
       "      <th>1</th>\n",
       "      <td>BTC/USDT</td>\n",
       "      <td>[23327.5, 0.11, 1675457245]</td>\n",
       "      <td>[23333.2, 0.423, 1675457244]</td>\n",
       "      <td>None</td>\n",
       "      <td>None</td>\n",
       "      <td>None</td>\n",
       "    </tr>\n",
       "    <tr>\n",
       "      <th>2</th>\n",
       "      <td>BTC/USDT</td>\n",
       "      <td>[23325.8, 0.08, 1675457246]</td>\n",
       "      <td>[23333.7, 0.003, 1675457242]</td>\n",
       "      <td>None</td>\n",
       "      <td>None</td>\n",
       "      <td>None</td>\n",
       "    </tr>\n",
       "    <tr>\n",
       "      <th>3</th>\n",
       "      <td>BTC/USDT</td>\n",
       "      <td>[23325.7, 0.423, 1675457242]</td>\n",
       "      <td>[23335.8, 0.02, 1675457243]</td>\n",
       "      <td>None</td>\n",
       "      <td>None</td>\n",
       "      <td>None</td>\n",
       "    </tr>\n",
       "    <tr>\n",
       "      <th>4</th>\n",
       "      <td>BTC/USDT</td>\n",
       "      <td>[23325.6, 0.559, 1675457240]</td>\n",
       "      <td>[23338.5, 0.146, 1675457246]</td>\n",
       "      <td>None</td>\n",
       "      <td>None</td>\n",
       "      <td>None</td>\n",
       "    </tr>\n",
       "  </tbody>\n",
       "</table>\n",
       "</div>"
      ],
      "text/plain": [
       "     symbol                          bids                          asks  \\\n",
       "0  BTC/USDT   [23327.6, 0.02, 1675457246]  [23333.1, 0.665, 1675457244]   \n",
       "1  BTC/USDT   [23327.5, 0.11, 1675457245]  [23333.2, 0.423, 1675457244]   \n",
       "2  BTC/USDT   [23325.8, 0.08, 1675457246]  [23333.7, 0.003, 1675457242]   \n",
       "3  BTC/USDT  [23325.7, 0.423, 1675457242]   [23335.8, 0.02, 1675457243]   \n",
       "4  BTC/USDT  [23325.6, 0.559, 1675457240]  [23338.5, 0.146, 1675457246]   \n",
       "\n",
       "  timestamp datetime nonce  \n",
       "0      None     None  None  \n",
       "1      None     None  None  \n",
       "2      None     None  None  \n",
       "3      None     None  None  \n",
       "4      None     None  None  "
      ]
     },
     "execution_count": 72,
     "metadata": {},
     "output_type": "execute_result"
    }
   ],
   "source": [
    "currency_pair = \"BTC/USDT\"\n",
    "pd.DataFrame(kraken_exchange.fetch_order_book(currency_pair)).head()"
   ]
  },
  {
   "cell_type": "markdown",
   "id": "5a221940",
   "metadata": {},
   "source": [
    "### kraken REST spot ohlcv"
   ]
  },
  {
   "cell_type": "code",
   "execution_count": 73,
   "id": "51d04fcd",
   "metadata": {
    "ExecuteTime": {
     "end_time": "2023-02-03T20:47:29.092261Z",
     "start_time": "2023-02-03T20:47:28.127173Z"
    }
   },
   "outputs": [
    {
     "data": {
      "text/html": [
       "<div>\n",
       "<style scoped>\n",
       "    .dataframe tbody tr th:only-of-type {\n",
       "        vertical-align: middle;\n",
       "    }\n",
       "\n",
       "    .dataframe tbody tr th {\n",
       "        vertical-align: top;\n",
       "    }\n",
       "\n",
       "    .dataframe thead th {\n",
       "        text-align: right;\n",
       "    }\n",
       "</style>\n",
       "<table border=\"1\" class=\"dataframe\">\n",
       "  <thead>\n",
       "    <tr style=\"text-align: right;\">\n",
       "      <th></th>\n",
       "      <th>0</th>\n",
       "      <th>1</th>\n",
       "      <th>2</th>\n",
       "      <th>3</th>\n",
       "      <th>4</th>\n",
       "      <th>5</th>\n",
       "    </tr>\n",
       "  </thead>\n",
       "  <tbody>\n",
       "    <tr>\n",
       "      <th>0</th>\n",
       "      <td>1675414080000</td>\n",
       "      <td>23388.2</td>\n",
       "      <td>23388.2</td>\n",
       "      <td>23383.8</td>\n",
       "      <td>23383.8</td>\n",
       "      <td>0.375000</td>\n",
       "    </tr>\n",
       "    <tr>\n",
       "      <th>1</th>\n",
       "      <td>1675414140000</td>\n",
       "      <td>23386.6</td>\n",
       "      <td>23386.6</td>\n",
       "      <td>23386.4</td>\n",
       "      <td>23386.4</td>\n",
       "      <td>0.375000</td>\n",
       "    </tr>\n",
       "    <tr>\n",
       "      <th>2</th>\n",
       "      <td>1675414200000</td>\n",
       "      <td>23388.1</td>\n",
       "      <td>23388.1</td>\n",
       "      <td>23386.8</td>\n",
       "      <td>23386.8</td>\n",
       "      <td>0.438495</td>\n",
       "    </tr>\n",
       "    <tr>\n",
       "      <th>3</th>\n",
       "      <td>1675414260000</td>\n",
       "      <td>23386.8</td>\n",
       "      <td>23386.8</td>\n",
       "      <td>23386.8</td>\n",
       "      <td>23386.8</td>\n",
       "      <td>0.001000</td>\n",
       "    </tr>\n",
       "    <tr>\n",
       "      <th>4</th>\n",
       "      <td>1675414320000</td>\n",
       "      <td>23386.8</td>\n",
       "      <td>23386.8</td>\n",
       "      <td>23386.8</td>\n",
       "      <td>23386.8</td>\n",
       "      <td>0.000000</td>\n",
       "    </tr>\n",
       "  </tbody>\n",
       "</table>\n",
       "</div>"
      ],
      "text/plain": [
       "               0        1        2        3        4         5\n",
       "0  1675414080000  23388.2  23388.2  23383.8  23383.8  0.375000\n",
       "1  1675414140000  23386.6  23386.6  23386.4  23386.4  0.375000\n",
       "2  1675414200000  23388.1  23388.1  23386.8  23386.8  0.438495\n",
       "3  1675414260000  23386.8  23386.8  23386.8  23386.8  0.001000\n",
       "4  1675414320000  23386.8  23386.8  23386.8  23386.8  0.000000"
      ]
     },
     "execution_count": 73,
     "metadata": {},
     "output_type": "execute_result"
    }
   ],
   "source": [
    "pd.DataFrame(kraken_exchange.fetch_ohlcv(currency_pair)).head()"
   ]
  },
  {
   "cell_type": "markdown",
   "id": "5cf86e19",
   "metadata": {},
   "source": [
    "### kraken REST spot trades"
   ]
  },
  {
   "cell_type": "code",
   "execution_count": 74,
   "id": "ac324125",
   "metadata": {
    "ExecuteTime": {
     "end_time": "2023-02-03T20:47:29.739190Z",
     "start_time": "2023-02-03T20:47:29.356645Z"
    }
   },
   "outputs": [
    {
     "data": {
      "text/html": [
       "<div>\n",
       "<style scoped>\n",
       "    .dataframe tbody tr th:only-of-type {\n",
       "        vertical-align: middle;\n",
       "    }\n",
       "\n",
       "    .dataframe tbody tr th {\n",
       "        vertical-align: top;\n",
       "    }\n",
       "\n",
       "    .dataframe thead th {\n",
       "        text-align: right;\n",
       "    }\n",
       "</style>\n",
       "<table border=\"1\" class=\"dataframe\">\n",
       "  <thead>\n",
       "    <tr style=\"text-align: right;\">\n",
       "      <th></th>\n",
       "      <th>id</th>\n",
       "      <th>order</th>\n",
       "      <th>info</th>\n",
       "      <th>timestamp</th>\n",
       "      <th>datetime</th>\n",
       "      <th>symbol</th>\n",
       "      <th>type</th>\n",
       "      <th>side</th>\n",
       "      <th>takerOrMaker</th>\n",
       "      <th>price</th>\n",
       "      <th>amount</th>\n",
       "      <th>cost</th>\n",
       "      <th>fee</th>\n",
       "      <th>fees</th>\n",
       "    </tr>\n",
       "  </thead>\n",
       "  <tbody>\n",
       "    <tr>\n",
       "      <th>0</th>\n",
       "      <td>4173692</td>\n",
       "      <td>None</td>\n",
       "      <td>[23333.00000, 0.07511096, 1675432805.4917603, ...</td>\n",
       "      <td>1675432805491</td>\n",
       "      <td>2023-02-03T14:00:05.491Z</td>\n",
       "      <td>BTC/USDT</td>\n",
       "      <td>limit</td>\n",
       "      <td>sell</td>\n",
       "      <td>None</td>\n",
       "      <td>23333.0</td>\n",
       "      <td>0.075111</td>\n",
       "      <td>1752.564030</td>\n",
       "      <td>None</td>\n",
       "      <td>[]</td>\n",
       "    </tr>\n",
       "    <tr>\n",
       "      <th>1</th>\n",
       "      <td>4173693</td>\n",
       "      <td>None</td>\n",
       "      <td>[23312.40000, 0.00856866, 1675432851.3377342, ...</td>\n",
       "      <td>1675432851337</td>\n",
       "      <td>2023-02-03T14:00:51.337Z</td>\n",
       "      <td>BTC/USDT</td>\n",
       "      <td>market</td>\n",
       "      <td>buy</td>\n",
       "      <td>None</td>\n",
       "      <td>23312.4</td>\n",
       "      <td>0.008569</td>\n",
       "      <td>199.756029</td>\n",
       "      <td>None</td>\n",
       "      <td>[]</td>\n",
       "    </tr>\n",
       "    <tr>\n",
       "      <th>2</th>\n",
       "      <td>4173694</td>\n",
       "      <td>None</td>\n",
       "      <td>[23312.30000, 0.02087705, 1675432856.676534, s...</td>\n",
       "      <td>1675432856676</td>\n",
       "      <td>2023-02-03T14:00:56.676Z</td>\n",
       "      <td>BTC/USDT</td>\n",
       "      <td>limit</td>\n",
       "      <td>sell</td>\n",
       "      <td>None</td>\n",
       "      <td>23312.3</td>\n",
       "      <td>0.020877</td>\n",
       "      <td>486.692053</td>\n",
       "      <td>None</td>\n",
       "      <td>[]</td>\n",
       "    </tr>\n",
       "    <tr>\n",
       "      <th>3</th>\n",
       "      <td>4173695</td>\n",
       "      <td>None</td>\n",
       "      <td>[23312.30000, 0.09410343, 1675432856.7902663, ...</td>\n",
       "      <td>1675432856790</td>\n",
       "      <td>2023-02-03T14:00:56.790Z</td>\n",
       "      <td>BTC/USDT</td>\n",
       "      <td>limit</td>\n",
       "      <td>sell</td>\n",
       "      <td>None</td>\n",
       "      <td>23312.3</td>\n",
       "      <td>0.094103</td>\n",
       "      <td>2193.767391</td>\n",
       "      <td>None</td>\n",
       "      <td>[]</td>\n",
       "    </tr>\n",
       "    <tr>\n",
       "      <th>4</th>\n",
       "      <td>4173696</td>\n",
       "      <td>None</td>\n",
       "      <td>[23289.20000, 0.07520955, 1675432862.2976172, ...</td>\n",
       "      <td>1675432862297</td>\n",
       "      <td>2023-02-03T14:01:02.297Z</td>\n",
       "      <td>BTC/USDT</td>\n",
       "      <td>market</td>\n",
       "      <td>sell</td>\n",
       "      <td>None</td>\n",
       "      <td>23289.2</td>\n",
       "      <td>0.075210</td>\n",
       "      <td>1751.570252</td>\n",
       "      <td>None</td>\n",
       "      <td>[]</td>\n",
       "    </tr>\n",
       "  </tbody>\n",
       "</table>\n",
       "</div>"
      ],
      "text/plain": [
       "        id order                                               info  \\\n",
       "0  4173692  None  [23333.00000, 0.07511096, 1675432805.4917603, ...   \n",
       "1  4173693  None  [23312.40000, 0.00856866, 1675432851.3377342, ...   \n",
       "2  4173694  None  [23312.30000, 0.02087705, 1675432856.676534, s...   \n",
       "3  4173695  None  [23312.30000, 0.09410343, 1675432856.7902663, ...   \n",
       "4  4173696  None  [23289.20000, 0.07520955, 1675432862.2976172, ...   \n",
       "\n",
       "       timestamp                  datetime    symbol    type  side  \\\n",
       "0  1675432805491  2023-02-03T14:00:05.491Z  BTC/USDT   limit  sell   \n",
       "1  1675432851337  2023-02-03T14:00:51.337Z  BTC/USDT  market   buy   \n",
       "2  1675432856676  2023-02-03T14:00:56.676Z  BTC/USDT   limit  sell   \n",
       "3  1675432856790  2023-02-03T14:00:56.790Z  BTC/USDT   limit  sell   \n",
       "4  1675432862297  2023-02-03T14:01:02.297Z  BTC/USDT  market  sell   \n",
       "\n",
       "  takerOrMaker    price    amount         cost   fee fees  \n",
       "0         None  23333.0  0.075111  1752.564030  None   []  \n",
       "1         None  23312.4  0.008569   199.756029  None   []  \n",
       "2         None  23312.3  0.020877   486.692053  None   []  \n",
       "3         None  23312.3  0.094103  2193.767391  None   []  \n",
       "4         None  23289.2  0.075210  1751.570252  None   []  "
      ]
     },
     "execution_count": 74,
     "metadata": {},
     "output_type": "execute_result"
    }
   ],
   "source": [
    "pd.DataFrame(kraken_exchange.fetch_trades(currency_pair)).head()"
   ]
  },
  {
   "cell_type": "markdown",
   "id": "4f42e7f4",
   "metadata": {},
   "source": [
    "## kraken REST futures"
   ]
  },
  {
   "cell_type": "code",
   "execution_count": 75,
   "id": "73de9ca2",
   "metadata": {
    "ExecuteTime": {
     "end_time": "2023-02-03T20:47:30.809327Z",
     "start_time": "2023-02-03T20:47:30.805711Z"
    }
   },
   "outputs": [
    {
     "data": {
      "text/plain": [
       "False"
      ]
     },
     "execution_count": 75,
     "metadata": {},
     "output_type": "execute_result"
    }
   ],
   "source": [
    "kraken_exchange.has[\"future\"]"
   ]
  },
  {
   "cell_type": "code",
   "execution_count": null,
   "id": "520f8c89",
   "metadata": {},
   "outputs": [],
   "source": []
  }
 ],
 "metadata": {
  "kernelspec": {
   "display_name": "Python 3 (ipykernel)",
   "language": "python",
   "name": "python3"
  },
  "language_info": {
   "codemirror_mode": {
    "name": "ipython",
    "version": 3
   },
   "file_extension": ".py",
   "mimetype": "text/x-python",
   "name": "python",
   "nbconvert_exporter": "python",
   "pygments_lexer": "ipython3",
   "version": "3.8.10"
  },
  "toc": {
   "base_numbering": 1,
   "nav_menu": {},
   "number_sections": true,
   "sideBar": true,
   "skip_h1_title": false,
   "title_cell": "Table of Contents",
   "title_sidebar": "Contents",
   "toc_cell": false,
   "toc_position": {},
   "toc_section_display": true,
   "toc_window_display": false
  }
 },
 "nbformat": 4,
 "nbformat_minor": 5
}
