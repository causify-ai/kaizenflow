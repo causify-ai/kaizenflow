{
 "cells": [
  {
   "cell_type": "markdown",
   "id": "2d5b9812",
   "metadata": {},
   "source": [
    "# Imports"
   ]
  },
  {
   "cell_type": "code",
   "execution_count": 1,
   "id": "df02857b",
   "metadata": {
    "ExecuteTime": {
     "end_time": "2022-01-14T10:07:03.476770Z",
     "start_time": "2022-01-14T10:07:01.001952Z"
    }
   },
   "outputs": [],
   "source": [
    "import logging\n",
    "import os\n",
    "\n",
    "import pandas as pd\n",
    "\n",
    "import core.config.config_ as cconconf\n",
    "import helpers.hdbg as hdbg\n",
    "import helpers.henv as henv\n",
    "import helpers.hprint as hprint\n",
    "import helpers.hs3 as hs3\n",
    "import im_v2.ccxt.data.client.ccxt_clients as imvcdccccl\n",
    "import im_v2.ccxt.universe.universe as imvccunun\n",
    "import im_v2.common.data.client as icdc\n",
    "import im_v2.cryptodatadownload.data.client.cdd_client as imcdaclcd\n",
    "import research_amp.cc.statistics as ramccsta"
   ]
  },
  {
   "cell_type": "code",
   "execution_count": 2,
   "id": "e2f361e4",
   "metadata": {
    "ExecuteTime": {
     "end_time": "2022-01-14T10:07:06.639441Z",
     "start_time": "2022-01-14T10:07:03.478870Z"
    },
    "scrolled": true
   },
   "outputs": [
    {
     "name": "stdout",
     "output_type": "stream",
     "text": [
      "\u001b[0m\u001b[36mINFO\u001b[0m: > cmd='/venv/lib/python3.8/site-packages/ipykernel_launcher.py -f /home/.local/share/jupyter/runtime/kernel-44c341a5-6dbd-4364-b594-a30050ff7293.json'\n",
      "\u001b[33mWARNING\u001b[0m: Running in Jupyter\n",
      ">>ENV<<: is_inside_container=True: code_version=1.0.6, container_version=1.0.6, is_inside_docker=True, is_inside_ci=False, CI_defined=True, CI=''\n",
      ">>ENV<<: AM_AWS_PROFILE=True AM_ECR_BASE_PATH=True AM_S3_BUCKET=True AM_TELEGRAM_TOKEN=True AWS_ACCESS_KEY_ID=False AWS_DEFAULT_REGION=False AWS_SECRET_ACCESS_KEY=False GH_ACTION_ACCESS_TOKEN=True\n",
      "# Git\n",
      "    branch_name='CMTask922_refactor_ccxt_clients'\n",
      "    hash='0a801fbc0'\n",
      "    # Last commits:\n",
      "      * 0a801fbc0 PomazkinG add back log info                                                 (13 minutes ago) Fri Jan 14 09:53:56 2022  (HEAD -> CMTask922_refactor_ccxt_clients)\n",
      "      * a395e921b PomazkinG checkpoint                                                        (15 minutes ago) Fri Jan 14 09:51:59 2022           \n",
      "      * cc20b6c17 PomazkinG checkpoint                                                        (16 minutes ago) Fri Jan 14 09:50:47 2022           \n",
      "# Machine info\n",
      "    system=Linux\n",
      "    node name=0f3bfda18266\n",
      "    release=5.11.0-1025-aws\n",
      "    version=#27~20.04.1-Ubuntu SMP Fri Jan 7 13:09:56 UTC 2022\n",
      "    machine=x86_64\n",
      "    processor=x86_64\n",
      "    cpu count=4\n",
      "    cpu freq=scpufreq(current=2499.998, min=0.0, max=0.0)\n",
      "    memory=svmem(total=16586833920, available=2387546112, percent=85.6, used=13599301632, free=2022547456, active=113532928, inactive=13776637952, buffers=43835392, cached=921149440, shared=260362240, slab=372334592)\n",
      "    disk usage=sdiskusage(total=104021790720, used=68272459776, free=35732553728, percent=65.6)\n",
      "# Packages\n",
      "    python: 3.8.10\n",
      "    gluonnlp: ?\n",
      "    gluonts: 0.6.7\n",
      "    joblib: 1.1.0\n",
      "    mxnet: 1.9.0\n",
      "    numpy: 1.22.0\n",
      "    pandas: 1.3.5\n",
      "    pyarrow: 6.0.1\n",
      "    scipy: 1.6.1\n",
      "    seaborn: 0.11.2\n",
      "    sklearn: 1.0.2\n",
      "    statsmodels: 0.13.1\n",
      "\u001b[33mWARNING\u001b[0m: Disabling annoying warnings\n"
     ]
    }
   ],
   "source": [
    "hdbg.init_logger(verbosity=logging.INFO)\n",
    "\n",
    "_LOG = logging.getLogger(__name__)\n",
    "\n",
    "_LOG.info(\"%s\", henv.get_system_signature()[0])\n",
    "\n",
    "hprint.config_notebook()"
   ]
  },
  {
   "cell_type": "markdown",
   "id": "556c6b2b",
   "metadata": {},
   "source": [
    "# Configs"
   ]
  },
  {
   "cell_type": "code",
   "execution_count": 20,
   "id": "36e03497",
   "metadata": {
    "ExecuteTime": {
     "end_time": "2022-01-14T10:07:06.644698Z",
     "start_time": "2022-01-14T10:07:06.642253Z"
    }
   },
   "outputs": [],
   "source": [
    "# Two configs are necessary in this situation because current downloading functions\n",
    "# work only with specific 'vendor' value."
   ]
  },
  {
   "cell_type": "code",
   "execution_count": 21,
   "id": "faad3a0a",
   "metadata": {
    "ExecuteTime": {
     "end_time": "2022-01-14T10:07:06.654946Z",
     "start_time": "2022-01-14T10:07:06.647284Z"
    }
   },
   "outputs": [],
   "source": [
    "def get_cmtask324_config_ccxt() -> cconconf.Config:\n",
    "    \"\"\"\n",
    "    Get task232-specific config.\n",
    "    \"\"\"\n",
    "    config = cconconf.Config()\n",
    "    # Load parameters.\n",
    "    config.add_subconfig(\"load\")\n",
    "    config[\"load\"][\"aws_profile\"] = \"am\"\n",
    "    config[\"load\"][\"data_dir\"] = os.path.join(hs3.get_path(), \"data\")\n",
    "    # Data parameters.\n",
    "    config.add_subconfig(\"data\")\n",
    "    config[\"data\"][\"data_type\"] = \"OHLCV\"\n",
    "    config[\"data\"][\"target_frequency\"] = \"T\"\n",
    "    config[\"data\"][\"universe_version\"] = \"v03\"\n",
    "    config[\"data\"][\"vendor\"] = \"CCXT\"\n",
    "    # Column names.\n",
    "    config.add_subconfig(\"column_names\")\n",
    "    config[\"column_names\"][\"close_price\"] = \"close\"\n",
    "    config[\"column_names\"][\"currency_pair\"] = \"currency_pair\"\n",
    "    config[\"column_names\"][\"exchange_id\"] = \"exchange_id\"\n",
    "    return config"
   ]
  },
  {
   "cell_type": "code",
   "execution_count": 22,
   "id": "7938181f",
   "metadata": {
    "ExecuteTime": {
     "end_time": "2022-01-14T10:07:06.663710Z",
     "start_time": "2022-01-14T10:07:06.658776Z"
     "end_time": "2022-01-14T10:07:06.663710Z",
     "start_time": "2022-01-14T10:07:06.658776Z"
    }
   },
   "outputs": [
    {
     "name": "stdout",
     "output_type": "stream",
     "text": [
      "load:\n",
      "  aws_profile: am\n",
      "  data_dir: s3://alphamatic-data/data\n",
      "data:\n",
      "  data_type: OHLCV\n",
      "  target_frequency: T\n",
      "  universe_version: v03\n",
      "  vendor: CCXT\n",
      "column_names:\n",
      "  close_price: close\n",
      "  currency_pair: currency_pair\n",
      "  exchange_id: exchange_id\n"
     ]
    }
   ],
   "source": [
    "config_ccxt = get_cmtask324_config_ccxt()\n",
    "print(config_ccxt)"
   ]
  },
  {
   "cell_type": "code",
   "execution_count": 23,
   "id": "a50f2134",
   "metadata": {
    "ExecuteTime": {
     "end_time": "2022-01-14T10:07:06.673328Z",
     "start_time": "2022-01-14T10:07:06.666113Z"
    }
   },
   "outputs": [],
   "source": [
    "def get_cmtask324_config_cdd() -> cconconf.Config:\n",
    "    \"\"\"\n",
    "    Get task324-specific config.\n",
    "    \"\"\"\n",
    "    config = cconconf.Config()\n",
    "    # Load parameters.\n",
    "    config.add_subconfig(\"load\")\n",
    "    config[\"load\"][\"aws_profile\"] = \"am\"\n",
    "    config[\"load\"][\"data_dir\"] = os.path.join(hs3.get_path(), \"data\")\n",
    "    # Data parameters.\n",
    "    config.add_subconfig(\"data\")\n",
    "    config[\"data\"][\"data_type\"] = \"OHLCV\"\n",
    "    config[\"data\"][\"target_frequency\"] = \"T\"\n",
    "    config[\"data\"][\"universe_version\"] = \"v01\"\n",
    "    config[\"data\"][\"vendor\"] = \"CDD\"\n",
    "    # Column names.\n",
    "    config.add_subconfig(\"column_names\")\n",
    "    config[\"column_names\"][\"close_price\"] = \"close\"\n",
    "    config[\"column_names\"][\"currency_pair\"] = \"currency_pair\"\n",
    "    config[\"column_names\"][\"exchange_id\"] = \"exchange_id\"\n",
    "    return config"
   ]
  },
  {
   "cell_type": "code",
   "execution_count": 24,
   "id": "793ba0b7",
   "metadata": {
    "ExecuteTime": {
     "end_time": "2022-01-14T10:07:06.680324Z",
     "start_time": "2022-01-14T10:07:06.675686Z"
    }
   },
   "outputs": [
    {
     "name": "stdout",
     "output_type": "stream",
     "text": [
      "load:\n",
      "  aws_profile: am\n",
      "  data_dir: s3://alphamatic-data/data\n",
      "data:\n",
      "  data_type: OHLCV\n",
      "  target_frequency: T\n",
      "  universe_version: v01\n",
      "  vendor: CDD\n",
      "column_names:\n",
      "  close_price: close\n",
      "  currency_pair: currency_pair\n",
      "  exchange_id: exchange_id\n"
     ]
    }
   ],
   "source": [
    "config_cdd = get_cmtask324_config_cdd()\n",
    "print(config_cdd)"
   ]
  },
  {
   "cell_type": "markdown",
   "id": "51702034",
   "metadata": {},
   "source": [
    "# Load the data universe"
   ]
  },
  {
   "cell_type": "markdown",
   "id": "70420724",
   "metadata": {},
   "source": [
    "## CCXT"
   ]
  },
  {
   "cell_type": "code",
   "execution_count": 25,
   "id": "d15816d5",
   "metadata": {
    "ExecuteTime": {
     "end_time": "2022-01-14T10:07:06.797182Z",
     "start_time": "2022-01-14T10:07:06.682763Z"
    },
    "scrolled": true
   },
   "outputs": [],
   "source": [
    "ccxt_universe = imvccunun.get_vendor_universe(version=\"v03\")"
   ]
  },
  {
   "cell_type": "markdown",
   "id": "b178b946",
   "metadata": {},
   "source": [
    "## CDD"
   ]
  },
  {
   "cell_type": "code",
   "execution_count": 26,
   "id": "a45e3fad",
   "metadata": {
    "ExecuteTime": {
     "end_time": "2022-01-14T10:07:06.807092Z",
     "start_time": "2022-01-14T10:07:06.800562Z"
    },
    "run_control": {
     "marked": false
    }
   },
   "outputs": [],
   "source": [
    "cdd_universe = imvccunun.get_vendor_universe(version=\"v01\", vendor=\"CDD\")\n",
    "# Remove non-USDT elements, since we are not interested in them.\n",
    "cdd_universe = [element for element in cdd_universe if element.endswith(\"USDT\")]"
   ]
  },
  {
   "cell_type": "markdown",
   "id": "821f2129",
   "metadata": {},
   "source": [
    "# Compare universes"
   ]
  },
  {
   "cell_type": "code",
   "execution_count": 27,
   "id": "23220816",
   "metadata": {
    "ExecuteTime": {
     "end_time": "2022-01-14T10:07:06.815339Z",
     "start_time": "2022-01-14T10:07:06.809358Z"
    }
   },
   "outputs": [
    {
     "name": "stdout",
     "output_type": "stream",
     "text": [
      "Number of full symbols in CCXT: 38\n",
      "Number of full symbols in CDD: 58\n"
     ]
    }
   ],
   "source": [
    "_LOG.info(\"Number of full symbols in CCXT: %s\", len(ccxt_universe))\n",
    "_LOG.info(\"Number of full symbols in CDD: %s\", len(cdd_universe))"
   ]
  },
  {
   "cell_type": "code",
   "execution_count": 28,
   "id": "158481db",
   "metadata": {
    "ExecuteTime": {
     "end_time": "2022-01-14T10:07:06.827561Z",
     "start_time": "2022-01-14T10:07:06.817898Z"
    }
   },
   "outputs": [
    {
     "name": "stdout",
     "output_type": "stream",
     "text": [
      "Number of similar full symbols: 18\n"
     ]
    },
    {
     "data": {
      "text/plain": [
       "{'binance::ADA_USDT',\n",
       " 'binance::BNB_USDT',\n",
       " 'binance::BTC_USDT',\n",
       " 'binance::EOS_USDT',\n",
       " 'binance::ETH_USDT',\n",
       " 'binance::LINK_USDT',\n",
       " 'binance::SOL_USDT',\n",
       " 'ftx::BNB_USDT',\n",
       " 'ftx::BTC_USDT',\n",
       " 'ftx::ETH_USDT',\n",
       " 'ftx::LINK_USDT',\n",
       " 'ftx::XRP_USDT',\n",
       " 'kucoin::ADA_USDT',\n",
       " 'kucoin::BNB_USDT',\n",
       " 'kucoin::BTC_USDT',\n",
       " 'kucoin::EOS_USDT',\n",
       " 'kucoin::ETH_USDT',\n",
       " 'kucoin::XRP_USDT'}"
      ]
     },
     "metadata": {},
     "output_type": "display_data"
    }
   ],
   "source": [
    "# Intersection of full symbols between two vendors.\n",
    "currency_pair_intersection = set(ccxt_universe).intersection(cdd_universe)\n",
    "_LOG.info(\"Number of similar full symbols: %s\", len(currency_pair_intersection))\n",
    "display(currency_pair_intersection)"
   ]
  },
  {
   "cell_type": "code",
   "execution_count": 29,
   "id": "a72f1f1f",
   "metadata": {
     "end_time": "2022-01-14T10:07:06.838119Z",
     "start_time": "2022-01-14T10:07:06.830047Z"
    },
    "scrolled": true
   },
   "outputs": [
    {
     "name": "stdout",
     "output_type": "stream",
     "text": [
      "Number of full symbols that are included in 'CCXT' but not in 'CDD': 20\n"
     ]
    },
    {
     "data": {
      "text/plain": [
       "{'binance::AVAX_USDT',\n",
       " 'binance::DOGE_USDT',\n",
       " 'ftx::DOGE_USDT',\n",
       " 'ftx::SOL_USDT',\n",
       " 'gateio::ADA_USDT',\n",
       " 'gateio::AVAX_USDT',\n",
       " 'gateio::BNB_USDT',\n",
       " 'gateio::BTC_USDT',\n",
       " 'gateio::DOGE_USDT',\n",
       " 'gateio::EOS_USDT',\n",
       " 'gateio::ETH_USDT',\n",
       " 'gateio::FIL_USDT',\n",
       " 'gateio::LINK_USDT',\n",
       " 'gateio::SOL_USDT',\n",
       " 'gateio::XRP_USDT',\n",
       " 'kucoin::AVAX_USDT',\n",
       " 'kucoin::DOGE_USDT',\n",
       " 'kucoin::FIL_USDT',\n",
       " 'kucoin::LINK_USDT',\n",
       " 'kucoin::SOL_USDT'}"
      ]
     },
     "metadata": {},
     "output_type": "display_data"
    }
   ],
   "source": [
    "# Full symbols that are included in CCXT but not in CDD.\n",
    "ccxt_and_not_cdd = set(ccxt_universe).difference(cdd_universe)\n",
    "_LOG.info(\n",
    "    \"Number of full symbols that are included in 'CCXT' but not in 'CDD': %s\",\n",
    "    len(ccxt_and_not_cdd),\n",
    ")\n",
    "display(ccxt_and_not_cdd)"
   ]
  },
  {
   "cell_type": "code",
   "execution_count": 30,
   "id": "0523b1b7",
   "metadata": {
    "ExecuteTime": {
     "end_time": "2022-01-14T10:07:06.848582Z",
     "start_time": "2022-01-14T10:07:06.841490Z"
    },
    "scrolled": true
   },
   "outputs": [
    {
     "name": "stdout",
     "output_type": "stream",
     "text": [
      "Number of full symbols that are included in 'CDD' but not in 'CCXT': 40\n"
     ]
    },
    {
     "data": {
      "text/plain": [
       "{'binance::AAVE_USDT',\n",
       " 'binance::BAT_USDT',\n",
       " 'binance::BTT_USDT',\n",
       " 'binance::CELR_USDT',\n",
       " 'binance::CVC_USDT',\n",
       " 'binance::DAI_USDT',\n",
       " 'binance::DASH_USDT',\n",
       " 'binance::DOT_USDT',\n",
       " 'binance::ETC_USDT',\n",
       " 'binance::FIL_USDT',\n",
       " 'binance::ICP_USDT',\n",
       " 'binance::ICX_USDT',\n",
       " 'binance::LRC_USDT',\n",
       " 'binance::LTC_USDT',\n",
       " 'binance::MATIC_USDT',\n",
       " 'binance::MKR_USDT',\n",
       " 'binance::NEO_USDT',\n",
       " 'binance::ONE_USDT',\n",
       " 'binance::PAX_USDT',\n",
       " 'binance::QTUM_USDT',\n",
       " 'binance::SCU_USDT',\n",
       " 'binance::TRX_USDT',\n",
       " 'binance::TUSD_USDT',\n",
       " 'binance::UNI_USDT',\n",
       " 'binance::USDC_USDT',\n",
       " 'binance::VET_USDT',\n",
       " 'binance::XLM_USDT',\n",
       " 'binance::XMR_USDT',\n",
       " 'binance::XRP_USDT',\n",
       " 'binance::ZEC_USDT',\n",
       " 'ftx::BCH_USDT',\n",
       " 'ftx::LTC_USDT',\n",
       " 'ftx::TRX_USDT',\n",
       " 'kucoin::BCH_USDT',\n",
       " 'kucoin::DASH_USDT',\n",
       " 'kucoin::LTC_USDT',\n",
       " 'kucoin::NEO_USDT',\n",
       " 'kucoin::TRX_USDT',\n",
       " 'kucoin::XTZ_USDT',\n",
       " 'kucoin::ZEC_USDT'}"
      ]
     },
     "metadata": {},
     "output_type": "display_data"
    }
   ],
   "source": [
    "# Full symbols that are included in CDD but not in CCXT.\n",
    "cdd_and_not_ccxt = set(cdd_universe).difference(ccxt_universe)\n",
    "_LOG.info(\n",
    "    \"Number of full symbols that are included in 'CDD' but not in 'CCXT': %s\",\n",
    "    len(cdd_and_not_ccxt),\n",
    ")\n",
    "display(cdd_and_not_ccxt)"
   ]
  },
  {
   "cell_type": "markdown",
   "id": "06969925",
   "metadata": {},
   "source": [
    "# Compare close prices / returns from Binance"
   ]
  },
  {
   "cell_type": "markdown",
   "id": "65eb6a58",
   "metadata": {},
   "source": [
    "## Load the data"
   ]
  },
  {
   "cell_type": "markdown",
   "id": "ae3f24d9",
   "metadata": {
    "ExecuteTime": {
     "end_time": "2021-12-08T19:37:31.258647Z",
     "start_time": "2021-12-08T19:37:31.251517Z"
    }
   },
   "source": [
    "The code below can be used to load all the existing data from two vendors CDD and CCXT. Current version is specified to Binance only, however, even for one exchange there's too many data to operate, that's why the output is the intersection of currency pairs between to universe, since one can compare only the intersection of currency pairs for two vendors."
   ]
  },
  {
   "cell_type": "code",
   "execution_count": 31,
   "id": "be827c12",
   "metadata": {
    "ExecuteTime": {
     "end_time": "2022-01-14T10:07:06.857948Z",
     "start_time": "2022-01-14T10:07:06.853084Z"
    }
   },
   "outputs": [],
   "source": [
    "# Load Binance-specific universe for CCXT.\n",
    "ccxt_binance_universe = [\n",
    "    element for element in ccxt_universe if element.startswith(\"binance\")\n",
    "]\n",
    "# Load Binnance-specific universe for CDD.\n",
    "cdd_binance_universe_initial = [\n",
    "    element for element in cdd_universe if element.startswith(\"binance\")\n",
    "]\n",
    "cdd_binance_universe = cdd_binance_universe_initial.copy()\n",
    "# SCU_USDT has incorrect columns, so can not be downloaded.\n",
    "# See CMTask244 - Cannot load CDD - binance - SCU/USDT from s3 for the reference.\n",
    "cdd_binance_universe.remove(\"binance::SCU_USDT\")\n",
    "# The intersection of Binance currency pairs from two universes.\n",
    "currency_pair_intersection_binance = set(ccxt_binance_universe).intersection(\n",
    "    cdd_binance_universe_initial\n",
    ")"
   ]
  },
  {
   "cell_type": "code",
   "execution_count": 16,
   "id": "8db077be",
   "metadata": {
    "ExecuteTime": {
     "end_time": "2022-01-14T10:08:06.188084Z",
     "start_time": "2022-01-14T10:07:06.865713Z"
    },
    "scrolled": true
   },
   "outputs": [
    {
     "name": "stdout",
     "output_type": "stream",
     "text": [
      "Reading CDD data for exchange id='binance', currencies='EOS_USDT', from file='s3://alphamatic-data/data/cryptodatadownload/20210924/binance/EOS_USDT.csv.gz'...\n",
      "Processing CDD data for exchange id='binance', currencies='EOS_USDT'...\n",
      "Index length increased by 5289 = 888096 - 882807\n",
      "Reading CDD data for exchange id='binance', currencies='SOL_USDT', from file='s3://alphamatic-data/data/cryptodatadownload/20210924/binance/SOL_USDT.csv.gz'...\n",
      "Processing CDD data for exchange id='binance', currencies='SOL_USDT'...\n",
      "Index length increased by 270 = 129252 - 128982\n",
      "Reading CDD data for exchange id='binance', currencies='LINK_USDT', from file='s3://alphamatic-data/data/cryptodatadownload/20210924/binance/LINK_USDT.csv.gz'...\n",
      "Processing CDD data for exchange id='binance', currencies='LINK_USDT'...\n",
      "Index length increased by 5289 = 875139 - 869850\n",
      "Reading CDD data for exchange id='binance', currencies='ETH_USDT', from file='s3://alphamatic-data/data/cryptodatadownload/20210924/binance/ETH_USDT.csv.gz'...\n",
      "Processing CDD data for exchange id='binance', currencies='ETH_USDT'...\n",
      "Index length increased by 5288 = 948591 - 943303\n",
      "Reading CDD data for exchange id='binance', currencies='ADA_USDT', from file='s3://alphamatic-data/data/cryptodatadownload/20210924/binance/ADA_USDT.csv.gz'...\n",
      "Processing CDD data for exchange id='binance', currencies='ADA_USDT'...\n",
      "Index length increased by 5288 = 854976 - 849688\n",
      "Reading CDD data for exchange id='binance', currencies='BTC_USDT', from file='s3://alphamatic-data/data/cryptodatadownload/20210924/binance/BTC_USDT.csv.gz'...\n",
      "Processing CDD data for exchange id='binance', currencies='BTC_USDT'...\n",
      "Index length increased by 5289 = 1063179 - 1057890\n",
      "Reading CDD data for exchange id='binance', currencies='BNB_USDT', from file='s3://alphamatic-data/data/cryptodatadownload/20210924/binance/BNB_USDT.csv.gz'...\n",
      "Processing CDD data for exchange id='binance', currencies='BNB_USDT'...\n",
      "Index length increased by 5289 = 840575 - 835286\n"
     ]
    }
   ],
   "source": [
    "cdd_data = []\n",
    "cdd_loader = imcdaclcd.CddClient(\n",
    "    data_type=\"ohlcv\", root_dir=root_dir, aws_profile=\"am\"\n",
    ")\n",
    "\n",
    "for full_symbol in currency_pair_intersection_binance:\n",
    "    cur_data = cdd_loader.read_data(full_symbol)\n",
    "    cdd_data.append(cur_data)\n",
    "cdd_binance_df = pd.concat(cdd_data)"
   ]
  },
  {
   "cell_type": "code",
   "execution_count": 17,
   "id": "ab156e6d",
   "metadata": {
    "ExecuteTime": {
     "end_time": "2022-01-14T10:08:06.207863Z",
     "start_time": "2022-01-14T10:08:06.190069Z"
    }
   },
   "outputs": [
    {
     "data": {
      "text/html": [
       "<div>\n",
       "<style scoped>\n",
       "    .dataframe tbody tr th:only-of-type {\n",
       "        vertical-align: middle;\n",
       "    }\n",
       "\n",
       "    .dataframe tbody tr th {\n",
       "        vertical-align: top;\n",
       "    }\n",
       "\n",
       "    .dataframe thead th {\n",
       "        text-align: right;\n",
       "    }\n",
       "</style>\n",
       "<table border=\"1\" class=\"dataframe\">\n",
       "  <thead>\n",
       "    <tr style=\"text-align: right;\">\n",
       "      <th></th>\n",
       "      <th>open</th>\n",
       "      <th>high</th>\n",
       "      <th>low</th>\n",
       "      <th>close</th>\n",
       "      <th>volume</th>\n",
       "      <th>epoch</th>\n",
       "      <th>currency_pair</th>\n",
       "      <th>exchange_id</th>\n",
       "    </tr>\n",
       "    <tr>\n",
       "      <th>timestamp</th>\n",
       "      <th></th>\n",
       "      <th></th>\n",
       "      <th></th>\n",
       "      <th></th>\n",
       "      <th></th>\n",
       "      <th></th>\n",
       "      <th></th>\n",
       "      <th></th>\n",
       "    </tr>\n",
       "  </thead>\n",
       "  <tbody>\n",
       "    <tr>\n",
       "      <th>2020-01-08 08:00:00+00:00</th>\n",
       "      <td>2.884</td>\n",
       "      <td>2.884</td>\n",
       "      <td>2.884</td>\n",
       "      <td>2.884</td>\n",
       "      <td>3251.1</td>\n",
       "      <td>1.578470e+12</td>\n",
       "      <td>EOS/USDT</td>\n",
       "      <td>binance</td>\n",
       "    </tr>\n",
       "    <tr>\n",
       "      <th>2020-01-08 08:01:00+00:00</th>\n",
       "      <td>2.900</td>\n",
       "      <td>2.900</td>\n",
       "      <td>2.885</td>\n",
       "      <td>2.887</td>\n",
       "      <td>2658.6</td>\n",
       "      <td>1.578470e+12</td>\n",
       "      <td>EOS/USDT</td>\n",
       "      <td>binance</td>\n",
       "    </tr>\n",
       "    <tr>\n",
       "      <th>2020-01-08 08:02:00+00:00</th>\n",
       "      <td>2.887</td>\n",
       "      <td>2.895</td>\n",
       "      <td>2.887</td>\n",
       "      <td>2.895</td>\n",
       "      <td>12234.8</td>\n",
       "      <td>1.578471e+12</td>\n",
       "      <td>EOS/USDT</td>\n",
       "      <td>binance</td>\n",
       "    </tr>\n",
       "  </tbody>\n",
       "</table>\n",
       "</div>"
      ],
      "text/plain": [
      ]
     },
     "metadata": {},
     "output_type": "display_data"
    },
    {
     "data": {
      "text/plain": [
       "(5599808, 8)"
      ]
     },
     "metadata": {},
     "output_type": "display_data"
    }
   ],
   "source": [
    "display(cdd_binance_df.head(3))\n",
    "display(cdd_binance_df.shape)"
   ]
  },
  {
   "cell_type": "code",
   "execution_count": null,
   "id": "948765b9",
   "metadata": {
    "ExecuteTime": {
     "start_time": "2022-01-14T10:07:01.011Z"
    },
    "scrolled": true
   },
   "outputs": [
    {
     "name": "stdout",
     "output_type": "stream",
     "text": [
      "Reading CCXT data for exchange id='binance', currencies='ADA_USDT' from file='s3://alphamatic-data/data/ccxt/20210924/binance/ADA_USDT.csv.gz'...\n",
      "Reading CCXT data for exchange id='binance', currencies='BNB_USDT' from file='s3://alphamatic-data/data/ccxt/20210924/binance/BNB_USDT.csv.gz'...\n",
      "Reading CCXT data for exchange id='binance', currencies='BTC_USDT' from file='s3://alphamatic-data/data/ccxt/20210924/binance/BTC_USDT.csv.gz'...\n",
      "Reading CCXT data for exchange id='binance', currencies='EOS_USDT' from file='s3://alphamatic-data/data/ccxt/20210924/binance/EOS_USDT.csv.gz'...\n",
      "Reading CCXT data for exchange id='binance', currencies='ETH_USDT' from file='s3://alphamatic-data/data/ccxt/20210924/binance/ETH_USDT.csv.gz'...\n",
      "Reading CCXT data for exchange id='binance', currencies='LINK_USDT' from file='s3://alphamatic-data/data/ccxt/20210924/binance/LINK_USDT.csv.gz'...\n"
     ]
    }
   ],
   "source": [
    "# TODO(Grisha): @max make sure that the notebook runs end-to-end #905.\n",
    "extension = \"csv.gz\"\n",
    "ccxt_csv_client = imvcdccccl.CcxtCsvParquetByAssetClient(\n",
    "    root_dir, extension, aws_profile=\"am\"\n",
    ")\n",
    "start_ts = None\n",
    "end_ts = None\n",
    "ccxt_binance_df = ccxt_csv_client.read_data(\n",
    "    list(currency_pair_intersection_binance),\n",
    "    start_ts,\n",
    "    end_ts,\n",
    ")"
   ]
  },
  {
   "cell_type": "code",
   "execution_count": null,
   "id": "40d26329",
   "metadata": {
    "ExecuteTime": {
     "start_time": "2022-01-14T10:07:01.014Z"
    }
   },
   "outputs": [],
   "source": [
    "ccxt_binance_df = ccxt_binance_df.sort_index()"
   ]
  },
  {
   "cell_type": "code",
   "execution_count": null,
   "id": "f656ef6f",
   "metadata": {
    "ExecuteTime": {
     "start_time": "2022-01-14T10:07:01.018Z"
    }
   },
   "outputs": [],
   "source": [
    "display(ccxt_binance_df.head(3))\n",
    "display(ccxt_binance_df.shape)"
   ]
  },
  {
   "cell_type": "markdown",
   "id": "d28c1075",
   "metadata": {},
   "source": [
    "# Returns and correlations using 'compute_stats_for_universe'"
   ]
  },
  {
   "cell_type": "markdown",
   "id": "a57a668b",
   "metadata": {},
   "source": [
    "The approach below shows the snippet of using the __compute_stats_for_universe__ function to compute the stats in the loop."
   ]
  },
  {
   "cell_type": "code",
   "execution_count": 32,
   "id": "abe27ab1",
   "metadata": {
    "ExecuteTime": {
     "end_time": "2022-01-12T21:41:02.191811Z",
     "start_time": "2022-01-12T21:41:02.183408Z"
    }
   },
   "outputs": [
    {
     "data": {
      "text/plain": [
       "['binance::ADA_USDT', 'binance::EOS_USDT']"
      ]
     },
     "execution_count": 32,
     "metadata": {},
     "output_type": "execute_result"
    }
   ],
   "source": [
    "# Create the test list.\n",
    "test_list = list(currency_pair_intersection_binance)[:2]\n",
    "test_list"
   ]
  },
  {
   "cell_type": "code",
   "execution_count": 33,
   "id": "d148713a",
   "metadata": {
    "ExecuteTime": {
     "end_time": "2022-01-12T21:41:10.489696Z",
     "start_time": "2022-01-12T21:41:10.485489Z"
    }
   },
   "outputs": [],
   "source": [
    "# Load 'CDD' data with resampling.\n",
    "# The function below is designed to resample the data in the loop using compute_stats_for_universe.\n",
    "def resampling_func(price_data, config, resampling_freq):\n",
    "    price_data = price_data.reset_index()\n",
    "    resampler = price_data.groupby(\n",
    "        [\"currency_pair\", pd.Grouper(key=\"timestamp\", freq=resampling_freq)]\n",
    "    )\n",
    "    close_series = resampler.close.last()\n",
    "    close_series = close_series.reset_index()\n",
    "    return close_series"
   ]
  },
  {
   "cell_type": "code",
   "execution_count": 36,
   "id": "e0fc0c57",
   "metadata": {
    "ExecuteTime": {
     "end_time": "2022-01-12T21:42:25.454279Z",
     "start_time": "2022-01-12T21:41:56.694024Z"
    }
   },
   "outputs": [
    {
     "name": "stdout",
     "output_type": "stream",
     "text": [
      "Reading CCXT data for exchange id='binance', currencies='ADA_USDT' from file='s3://alphamatic-data/data/ccxt/20210924/binance/ADA_USDT.csv.gz'...\n",
      "Processing CCXT data for exchange id='binance', currencies='ADA_USDT'...\n",
      "Index length increased by 4520 = 1622000 - 1617480\n",
      "Reading CCXT data for exchange id='binance', currencies='EOS_USDT' from file='s3://alphamatic-data/data/ccxt/20210924/binance/EOS_USDT.csv.gz'...\n",
      "Processing CCXT data for exchange id='binance', currencies='EOS_USDT'...\n",
      "Index length increased by 4520 = 1622444 - 1617924\n"
     ]
    }
   ],
   "source": [
    "# Applying the function specified above to the loop.\n",
    "resample_data = lambda data: resampling_func(data, config_ccxt, \"1D\")\n",
    "\n",
    "ccxt_resampled_close = ramccsta.compute_stats_for_universe(\n",
    "    test_list, config_ccxt, resample_data\n",
    ")"
   ]
  },
  {
   "cell_type": "code",
   "execution_count": 43,
   "id": "8d19ff9d",
   "metadata": {
    "ExecuteTime": {
     "end_time": "2022-01-12T21:44:12.451644Z",
     "start_time": "2022-01-12T21:44:12.435962Z"
    }
   },
   "outputs": [
    {
     "data": {
      "text/html": [
       "<div>\n",
       "<style scoped>\n",
       "    .dataframe tbody tr th:only-of-type {\n",
       "        vertical-align: middle;\n",
       "    }\n",
       "\n",
       "    .dataframe tbody tr th {\n",
       "        vertical-align: top;\n",
       "    }\n",
       "\n",
       "    .dataframe thead th {\n",
       "        text-align: right;\n",
       "    }\n",
       "</style>\n",
       "<table border=\"1\" class=\"dataframe\">\n",
       "  <thead>\n",
       "    <tr style=\"text-align: right;\">\n",
       "      <th></th>\n",
       "      <th></th>\n",
       "      <th>close</th>\n",
       "    </tr>\n",
       "    <tr>\n",
       "      <th>currency_pair</th>\n",
       "      <th>timestamp</th>\n",
       "      <th></th>\n",
       "    </tr>\n",
       "  </thead>\n",
       "  <tbody>\n",
       "    <tr>\n",
       "      <th rowspan=\"3\" valign=\"top\">ADA_USDT</th>\n",
       "      <th>2018-08-17 00:00:00+00:00</th>\n",
       "      <td>0.11000</td>\n",
       "    </tr>\n",
       "    <tr>\n",
       "      <th>2018-08-18 00:00:00+00:00</th>\n",
       "      <td>0.09831</td>\n",
       "    </tr>\n",
       "    <tr>\n",
       "      <th>2018-08-19 00:00:00+00:00</th>\n",
       "      <td>0.10143</td>\n",
       "    </tr>\n",
       "  </tbody>\n",
       "</table>\n",
       "</div>"
      ],
      "text/plain": [
       "                                           close\n",
       "currency_pair timestamp                         \n",
       "ADA_USDT      2018-08-17 00:00:00+00:00  0.11000\n",
       "              2018-08-18 00:00:00+00:00  0.09831\n",
       "              2018-08-19 00:00:00+00:00  0.10143"
      ]
     },
     "execution_count": 43,
     "metadata": {},
     "output_type": "execute_result"
    }
   ],
   "source": [
    "# As one can see, the compute_stats_for_universe function is reseting the index in the end, so the output\n",
    "# has no Multiindex that was used in the initial approach.\n",
    "ccxt_resampled_close.head(3)"
   ]
  },
  {
   "cell_type": "code",
   "execution_count": 45,
   "id": "d40b142b",
   "metadata": {
    "ExecuteTime": {
     "end_time": "2022-01-12T21:44:23.788997Z",
     "start_time": "2022-01-12T21:44:23.779218Z"
    }
   },
   "outputs": [
    {
     "data": {
      "text/html": [
       "<div>\n",
       "<style scoped>\n",
       "    .dataframe tbody tr th:only-of-type {\n",
       "        vertical-align: middle;\n",
       "    }\n",
       "\n",
       "    .dataframe tbody tr th {\n",
       "        vertical-align: top;\n",
       "    }\n",
       "\n",
       "    .dataframe thead th {\n",
       "        text-align: right;\n",
       "    }\n",
       "</style>\n",
       "<table border=\"1\" class=\"dataframe\">\n",
       "  <thead>\n",
       "    <tr style=\"text-align: right;\">\n",
       "      <th></th>\n",
       "      <th></th>\n",
       "      <th>close</th>\n",
       "    </tr>\n",
       "    <tr>\n",
       "      <th>currency_pair</th>\n",
       "      <th>timestamp</th>\n",
       "      <th></th>\n",
       "    </tr>\n",
       "  </thead>\n",
       "  <tbody>\n",
       "    <tr>\n",
       "      <th rowspan=\"3\" valign=\"top\">ADA_USDT</th>\n",
       "      <th>2018-08-17 00:00:00+00:00</th>\n",
       "      <td>0.11000</td>\n",
       "    </tr>\n",
       "    <tr>\n",
       "      <th>2018-08-18 00:00:00+00:00</th>\n",
       "      <td>0.09831</td>\n",
       "    </tr>\n",
       "    <tr>\n",
       "      <th>2018-08-19 00:00:00+00:00</th>\n",
       "      <td>0.10143</td>\n",
       "    </tr>\n",
       "  </tbody>\n",
       "</table>\n",
       "</div>"
      ],
      "text/plain": [
       "                                           close\n",
       "currency_pair timestamp                         \n",
       "ADA_USDT      2018-08-17 00:00:00+00:00  0.11000\n",
       "              2018-08-18 00:00:00+00:00  0.09831\n",
       "              2018-08-19 00:00:00+00:00  0.10143"
      ]
     },
     "execution_count": 45,
     "metadata": {},
     "output_type": "execute_result"
    }
   ],
   "source": [
    "# Setting the Multiindex.\n",
    "ccxt_resampled_close = ccxt_resampled_close.drop(\"vendor\", axis=1).set_index(\n",
    "    [\"currency_pair\", \"timestamp\"]\n",
    ")\n",
    "ccxt_resampled_close.head(3)"
   ]
  },
  {
   "cell_type": "code",
   "execution_count": 39,
   "id": "0a7b2439",
   "metadata": {
    "ExecuteTime": {
     "end_time": "2022-01-10T20:11:59.749228Z",
     "start_time": "2022-01-10T20:11:59.744388Z"
    }
   },
   "outputs": [],
   "source": [
    "# This input can be inserted into 'calculate_correlations' function defined below."
   ]
  },
  {
   "cell_type": "markdown",
   "id": "34ce5bd1",
   "metadata": {},
   "source": [
    "## Calculate returns and correlation"
   ]
  },
  {
   "cell_type": "code",
   "execution_count": null,
   "id": "e4a4a808",
   "metadata": {
    "ExecuteTime": {
     "start_time": "2022-01-14T10:07:01.021Z"
    }
   },
   "outputs": [],
   "source": [
    "# 'CDD' names cleaning.\n",
    "cdd_binance_df[\"currency_pair\"] = cdd_binance_df[\"currency_pair\"].str.replace(\n",
    "    \"/\", \"_\"\n",
    ")"
   ]
  },
  {
   "cell_type": "code",
   "execution_count": null,
   "id": "c01e0a5f",
   "metadata": {
    "ExecuteTime": {
     "start_time": "2022-01-14T10:07:01.025Z"
    }
   },
   "outputs": [],
   "source": [
    "def resample_close_price(df: pd.DataFrame, resampling_freq: str) -> pd.Series:\n",
    "    \"\"\"\n",
    "    Resample close price on the currency level to the specified frequency using\n",
    "    the last close price.\n",
    "\n",
    "    :param df: OHLCV data\n",
    "    :param resampling_freq: frequency from `pd.date_range()` to resample to\n",
    "    :return: resampled close price per currency\n",
    "    \"\"\"\n",
    "    # Reseting DateTime index, since pd.Grouper can't use index values.\n",
    "    df = df.reset_index().rename(columns={\"index\": \"stamp\"})\n",
    "    # Group by currency pairs and simultaneously resample to the desired frequency.\n",
    "    resampler = df.groupby(\n",
    "        [\"currency_pair\", pd.Grouper(key=\"timestamp\", freq=resampling_freq)]\n",
    "    )\n",
    "    # Take the last close value from each resampling period.\n",
    "    close_series = resampler.close.last()\n",
    "    return close_series"
   ]
  },
  {
   "cell_type": "code",
   "execution_count": null,
   "id": "e2e7ae9f",
   "metadata": {
    "ExecuteTime": {
     "start_time": "2022-01-14T10:07:01.030Z"
    }
   },
   "outputs": [],
   "source": [
    "def calculate_correlations(\n",
    "    ccxt_close_price: pd.Series, cdd_close_price: pd.Series, compute_returns: bool\n",
    ") -> pd.DataFrame:\n",
    "    \"\"\"\n",
    "    Take CCXT and CDD close prices and calculate the correlations for each\n",
    "    specific currency pair.\n",
    "\n",
    "    :param ccxt_series: resampled close price per currency for CCXT\n",
    "    :param cdd_series: resampled close price per currency for CDD\n",
    "    :param compute_returns: if True - compare returns, if False - compare close prices\n",
    "    :return: correlation matrix per currency\n",
    "    \"\"\"\n",
    "    if compute_returns:\n",
    "        # Group by currency pairs in order to calculate the percentage returns.\n",
    "        grouper_cdd = cdd_close_price.groupby(\"currency_pair\")\n",
    "        cdd_close_price = grouper_cdd.pct_change()\n",
    "        grouper_ccxt = ccxt_close_price.groupby(\"currency_pair\")\n",
    "        ccxt_close_price = grouper_ccxt.pct_change()\n",
    "    # Combine and calculate correlations.\n",
    "    combined = pd.merge(\n",
    "        cdd_close_price, ccxt_close_price, left_index=True, right_index=True\n",
    "    )\n",
    "    # Rename the columns.\n",
    "    if compute_returns:\n",
    "        combined.columns = [\"ccxt_returns\", \"cdd_returns\"]\n",
    "    else:\n",
    "        combined.columns = [\"cdd_close\", \"ccxt_close\"]\n",
    "    # Group by again to calculte returns correlation for each currency pair.\n",
    "    corr_matrix = combined.groupby(level=0).corr()\n",
    "    return corr_matrix"
   ]
  },
  {
   "cell_type": "code",
   "execution_count": null,
   "id": "975b1df0",
   "metadata": {
    "ExecuteTime": {
     "start_time": "2022-01-14T10:07:01.033Z"
    }
   },
   "outputs": [],
   "source": [
    "# Corresponding resampled Series.\n",
    "ccxt_binance_series_1d = resample_close_price(ccxt_binance_df, \"1D\")\n",
    "cdd_binance_series_1d = resample_close_price(cdd_binance_df, \"1D\")\n",
    "\n",
    "ccxt_binance_series_5min = resample_close_price(ccxt_binance_df, \"5min\")\n",
    "cdd_binance_series_5min = resample_close_price(cdd_binance_df, \"5min\")"
   ]
  },
  {
   "cell_type": "markdown",
   "id": "c56c9d1e",
   "metadata": {},
   "source": [
    "### 1-day returns"
   ]
  },
  {
   "cell_type": "code",
   "execution_count": null,
   "id": "3af8f847",
   "metadata": {
    "ExecuteTime": {
     "start_time": "2022-01-14T10:07:01.036Z"
    }
   },
   "outputs": [],
   "source": [
    "returns_corr_1day = calculate_correlations(\n",
    "    ccxt_binance_series_1d, cdd_binance_series_1d, compute_returns=True\n",
    ")\n",
    "display(returns_corr_1day)"
   ]
  },
  {
   "cell_type": "markdown",
   "id": "a5d24740",
   "metadata": {},
   "source": [
    "### 5-min returns"
   ]
  },
  {
   "cell_type": "code",
   "execution_count": null,
   "id": "4c69e461",
   "metadata": {
    "ExecuteTime": {
     "start_time": "2022-01-14T10:07:01.039Z"
    }
   },
   "outputs": [],
   "source": [
    "returns_corr_5min = calculate_correlations(\n",
    "    ccxt_binance_series_5min, cdd_binance_series_5min, compute_returns=True\n",
    ")\n",
    "display(returns_corr_5min)"
   ]
  },
  {
   "cell_type": "markdown",
   "id": "1d22eca0",
   "metadata": {},
   "source": [
    "## Compare close prices"
   ]
  },
  {
   "cell_type": "markdown",
   "id": "28de3b77",
   "metadata": {},
   "source": [
    "### 1-day close prices"
   ]
  },
  {
   "cell_type": "code",
   "execution_count": null,
   "id": "8014b363",
   "metadata": {
    "ExecuteTime": {
     "start_time": "2022-01-14T10:07:01.043Z"
    },
    "scrolled": false
   },
   "outputs": [],
   "source": [
    "close_corr_1day = calculate_correlations(\n",
    "    ccxt_binance_series_1d, cdd_binance_series_1d, compute_returns=False\n",
    ")\n",
    "display(close_corr_1day)"
   ]
  },
  {
   "cell_type": "markdown",
   "id": "d4f366b3",
   "metadata": {},
   "source": [
    "### 5-min close prices"
   ]
  },
  {
   "cell_type": "code",
   "execution_count": null,
   "id": "06d58513",
   "metadata": {
    "ExecuteTime": {
     "start_time": "2022-01-14T10:07:01.047Z"
    }
   },
   "outputs": [],
   "source": [
    "close_corr_5min = calculate_correlations(\n",
    "    ccxt_binance_series_5min, cdd_binance_series_5min, compute_returns=False\n",
    ")\n",
    "display(close_corr_5min)"
   ]
  },
  {
   "cell_type": "markdown",
   "id": "e4990d15",
   "metadata": {},
   "source": [
    "# Statistical properties of a full symbol in CDD"
   ]
  },
  {
   "cell_type": "code",
   "execution_count": null,
   "id": "d39f6575",
   "metadata": {
    "ExecuteTime": {
     "start_time": "2022-01-14T10:07:01.052Z"
    }
   },
   "outputs": [],
   "source": [
    "# Clearing 'CDD' currency pairs that are incorrect.\n",
    "\n",
    "# Binance\n",
    "cdd_universe.remove(\"binance::SCU_USDT\")\n",
    "\n",
    "# FTX has some critical mistakes in the downloading process, so can not continue analysis with them.\n",
    "# see CMTask801 - Downloading issues of FTX exchange from 'CDD' universe for further reference.\n",
    "cdd_ftx_universe = [\n",
    "    element for element in cdd_universe if element.startswith(\"ftx\")\n",
    "]\n",
    "for elem in cdd_ftx_universe:\n",
    "    cdd_universe.remove(elem)\n",
    "\n",
    "# Kucoin exchange: the timestamps are obviously wrong and with too short time period.\n",
    "# See CMTask253 - Fix timestamp for CDD - kucoin for reference.\n",
    "cdd_kucoin_universe = [\n",
    "    element for element in cdd_universe if element.startswith(\"kucoin\")\n",
    "]\n",
    "for elem in cdd_kucoin_universe:\n",
    "    cdd_universe.remove(elem)"
   ]
  },
  {
   "cell_type": "markdown",
   "id": "001554a6",
   "metadata": {},
   "source": [
    "## Comparison of intersection of full symbols between 'CCXT' and 'CDD'"
   ]
  },
  {
   "cell_type": "code",
   "execution_count": null,
   "id": "59007146",
   "metadata": {
    "ExecuteTime": {
     "start_time": "2022-01-14T10:07:01.055Z"
    }
   },
   "outputs": [],
   "source": [
    "# Full symbols that are included in 'CDD' but not in 'CCXT' (cleaned from unavailable full symbols).\n",
    "cdd_and_ccxt_cleaned = set(ccxt_universe).intersection(cdd_universe)\n",
    "len(cdd_and_ccxt_cleaned)"
   ]
  },
  {
   "cell_type": "markdown",
   "id": "6f2b83d7",
   "metadata": {
    "ExecuteTime": {
     "end_time": "2021-12-23T18:36:00.930420Z",
     "start_time": "2021-12-23T18:36:00.928103Z"
    },
    "scrolled": true
   },
   "source": [
    "### Load the intersection of full symbols for 'CDD' and 'CCXT'"
   ]
  },
  {
   "cell_type": "markdown",
   "id": "fee49b32",
   "metadata": {},
   "source": [
    "#### CDD"
   ]
  },
  {
   "cell_type": "code",
   "execution_count": null,
   "id": "e9c1b048",
   "metadata": {
    "ExecuteTime": {
     "start_time": "2022-01-14T10:07:01.059Z"
    },
    "scrolled": true
   },
   "outputs": [],
   "source": [
    "# After fixing 'CCXT' loader below, the structural mistake appears with 'CDD' loader.\n",
    "compute_start_end_stats = lambda data: ramccsta.compute_start_end_stats(\n",
    "    data, config_cdd\n",
    ")\n",
    "\n",
    "cdd_start_end_table = ramccsta.compute_stats_for_universe(\n",
    "    cdd_and_ccxt_cleaned, config_cdd, compute_start_end_stats\n",
    ")"
   ]
  },
  {
   "cell_type": "code",
   "execution_count": null,
   "id": "b239344d",
   "metadata": {
    "ExecuteTime": {
     "start_time": "2022-01-14T10:07:01.063Z"
    }
   },
   "outputs": [],
   "source": [
    "# 'CDD' names cleaning.\n",
    "cdd_start_end_table[\"currency_pair\"] = cdd_start_end_table[\n",
    "    \"currency_pair\"\n",
    "].str.replace(\"/\", \"_\")"
   ]
  },
  {
   "cell_type": "code",
   "execution_count": null,
   "id": "55437ec2",
   "metadata": {
    "ExecuteTime": {
     "start_time": "2022-01-14T10:07:01.066Z"
    }
   },
   "outputs": [],
   "source": [
    "cdd_start_end_table.head(3)"
   ]
  },
  {
   "cell_type": "markdown",
   "id": "88facaca",
   "metadata": {},
   "source": [
    "#### CCXT"
   ]
  },
  {
   "cell_type": "code",
   "execution_count": null,
   "id": "addf8fbd",
   "metadata": {
    "ExecuteTime": {
     "start_time": "2022-01-14T10:07:01.070Z"
    },
    "scrolled": true
   },
   "outputs": [],
   "source": [
    "compute_start_end_stats = lambda data: ramccsta.compute_start_end_stats(\n",
    "    data, config_ccxt\n",
    ")\n",
    "ccxt_start_end_table = ramccsta.compute_stats_for_universe(\n",
    "    list(cdd_and_ccxt_cleaned),\n",
    "    config_ccxt,\n",
    "    compute_start_end_stats,\n",
    ")"
   ]
  },
  {
   "cell_type": "code",
   "execution_count": null,
   "id": "0c6607b1",
   "metadata": {
    "ExecuteTime": {
     "start_time": "2022-01-14T10:07:01.073Z"
    }
   },
   "outputs": [],
   "source": [
    "ccxt_start_end_table.head(3)"
   ]
  },
  {
   "cell_type": "markdown",
   "id": "239134f1",
   "metadata": {},
   "source": [
    "### Display the union results"
   ]
  },
  {
   "cell_type": "code",
   "execution_count": null,
   "id": "20270440",
   "metadata": {
    "ExecuteTime": {
     "start_time": "2022-01-14T10:07:01.077Z"
    }
   },
   "outputs": [],
   "source": [
    "def unify_start_end_tables(\n",
    "    cdd_df: pd.DataFrame, ccxt_df: pd.DataFrame\n",
    ") -> pd.DataFrame:\n",
    "    \"\"\"\n",
    "    Combine 'CCXT' and 'CDD' start-end stats tables into one table.\n",
    "\n",
    "    :param cdd_df: start-end table for 'CCXT'\n",
    "    :param ccxt_df: start-end table for 'CDD'\n",
    "    :return: unified start-end table\n",
    "    \"\"\"\n",
    "    # Set Multiindex.\n",
    "    cdd_df = cdd_df.set_index([\"exchange_id\", \"currency_pair\"])\n",
    "    ccxt_df = ccxt_df.set_index([\"exchange_id\", \"currency_pair\"])\n",
    "    # Add suffixes.\n",
    "    ccxt_df = ccxt_df.add_suffix(\"_ccxt\")\n",
    "    cdd_df = cdd_df.add_suffix(\"_cdd\")\n",
    "    # Combine two universes.\n",
    "    ccxt_and_cdd = pd.concat([cdd_df, ccxt_df], axis=1)\n",
    "    # Sort columns.\n",
    "    cols_to_sort = ccxt_and_cdd.columns.to_list()\n",
    "    ccxt_and_cdd = ccxt_and_cdd[sorted(cols_to_sort)]\n",
    "    return ccxt_and_cdd"
   ]
  },
  {
   "cell_type": "code",
   "execution_count": null,
   "id": "ef07f325",
   "metadata": {
    "ExecuteTime": {
     "start_time": "2022-01-14T10:07:01.081Z"
    }
   },
   "outputs": [],
   "source": [
    "union_cdd_ccxt_stats = unify_start_end_tables(\n",
    "    cdd_start_end_table, ccxt_start_end_table\n",
    ")\n",
    "display(union_cdd_ccxt_stats)"
   ]
  },
  {
   "cell_type": "markdown",
   "id": "5ec25d15",
   "metadata": {},
   "source": [
    "## Comparison of full symbols that are included in 'CDD' but not available in 'CCXT'"
   ]
  },
  {
   "cell_type": "code",
   "execution_count": null,
   "id": "ce8fec83",
   "metadata": {
    "ExecuteTime": {
     "start_time": "2022-01-14T10:07:01.085Z"
    },
    "scrolled": true
   },
   "outputs": [],
   "source": [
    "# Set of full symbols that are included in 'CDD' but not available in 'CCXT' (cleaned from unavailable full symbols).\n",
    "cdd_and_not_ccxt_cleaned = set(cdd_universe).difference(ccxt_universe)\n",
    "len(cdd_and_not_ccxt_cleaned)"
   ]
  },
  {
   "cell_type": "code",
   "execution_count": null,
   "id": "a8353ecf",
   "metadata": {
    "ExecuteTime": {
     "start_time": "2022-01-14T10:07:01.090Z"
    }
   },
   "outputs": [],
   "source": [
    "# For 'avg_data_points_per_day' the amount of \"days_available\" is equal to 0, so it crashes the calculations.\n",
    "cdd_and_not_ccxt_cleaned.remove(\"binance::DAI_USDT\")"
   ]
  },
  {
   "cell_type": "code",
   "execution_count": null,
   "id": "51fd702d",
   "metadata": {
    "ExecuteTime": {
     "start_time": "2022-01-14T10:07:01.095Z"
    },
    "scrolled": true
   },
   "outputs": [],
   "source": [
    "compute_start_end_stats = lambda data: ramccsta.compute_start_end_stats(\n",
    "    data, config_cdd\n",
    ")\n",
    "\n",
    "cdd_unique_start_end_table = ramccsta.compute_stats_for_universe(\n",
    "    cdd_and_not_ccxt_cleaned, config_cdd, compute_start_end_stats\n",
    ")"
   ]
  },
  {
   "cell_type": "code",
   "execution_count": null,
   "id": "4a159676",
   "metadata": {
    "ExecuteTime": {
     "start_time": "2022-01-14T10:07:01.100Z"
    }
   },
   "outputs": [],
   "source": [
    "display(cdd_unique_start_end_table)"
   ]
  }
 ],
 "metadata": {
  "jupytext": {
   "text_representation": {
    "extension": ".py",
    "format_name": "percent",
    "format_version": "1.3",
    "jupytext_version": "1.13.5"
   }
  },
  "kernelspec": {
   "display_name": "Python 3 (ipykernel)",
   "language": "python",
   "name": "python3"
  },
  "language_info": {
   "codemirror_mode": {
    "name": "ipython",
    "version": 3
   },
   "file_extension": ".py",
   "mimetype": "text/x-python",
   "name": "python",
   "nbconvert_exporter": "python",
   "pygments_lexer": "ipython3",
   "version": "3.8.10"
  },
  "toc": {
   "base_numbering": 1,
   "nav_menu": {},
   "number_sections": true,
   "sideBar": true,
   "skip_h1_title": false,
   "title_cell": "Table of Contents",
   "title_sidebar": "Contents",
   "toc_cell": false,
   "toc_position": {},
   "toc_section_display": true,
   "toc_window_display": false
  }
 },
 "nbformat": 4,
 "nbformat_minor": 5
}
