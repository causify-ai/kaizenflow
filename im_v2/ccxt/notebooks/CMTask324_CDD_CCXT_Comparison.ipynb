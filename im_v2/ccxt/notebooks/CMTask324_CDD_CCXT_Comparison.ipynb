{
 "cells": [
  {
   "cell_type": "markdown",
   "id": "2d5b9812",
   "metadata": {},
   "source": [
    "# Imports"
   ]
  },
  {
   "cell_type": "code",
   "execution_count": 1,
   "id": "df02857b",
   "metadata": {
    "ExecuteTime": {
<<<<<<< HEAD
<<<<<<< HEAD
     "end_time": "2022-01-12T21:30:22.237609Z",
     "start_time": "2022-01-12T21:30:20.961159Z"
=======
     "end_time": "2022-01-14T10:07:03.476770Z",
     "start_time": "2022-01-14T10:07:01.001952Z"
>>>>>>> master
=======
     "end_time": "2022-01-14T10:07:03.476770Z",
     "start_time": "2022-01-14T10:07:01.001952Z"
>>>>>>> 2e3d20ff1410ce309fd8f69c17507ecbcff111e9
    }
   },
   "outputs": [],
   "source": [
    "import logging\n",
    "import os\n",
    "\n",
    "import pandas as pd\n",
    "\n",
    "import core.config.config_ as cconconf\n",
    "import helpers.hdbg as hdbg\n",
    "import helpers.henv as henv\n",
    "import helpers.hprint as hprint\n",
    "import helpers.hs3 as hs3\n",
    "import im_v2.ccxt.data.client.ccxt_clients as imvcdccccl\n",
    "import im_v2.ccxt.universe.universe as imvccunun\n",
<<<<<<< HEAD
<<<<<<< HEAD
=======
    "import im_v2.common.data.client as icdc\n",
    "import im_v2.cryptodatadownload.data.client.cdd_client as imcdaclcd\n",
>>>>>>> master
=======
    "import im_v2.common.data.client as icdc\n",
    "import im_v2.cryptodatadownload.data.client.cdd_client as imcdaclcd\n",
>>>>>>> 2e3d20ff1410ce309fd8f69c17507ecbcff111e9
    "import research_amp.cc.statistics as ramccsta"
   ]
  },
  {
   "cell_type": "code",
   "execution_count": 2,
   "id": "e2f361e4",
   "metadata": {
    "ExecuteTime": {
<<<<<<< HEAD
<<<<<<< HEAD
     "end_time": "2022-01-12T21:30:24.339276Z",
     "start_time": "2022-01-12T21:30:22.240713Z"
=======
     "end_time": "2022-01-14T10:07:06.639441Z",
     "start_time": "2022-01-14T10:07:03.478870Z"
>>>>>>> master
=======
     "end_time": "2022-01-14T10:07:06.639441Z",
     "start_time": "2022-01-14T10:07:03.478870Z"
>>>>>>> 2e3d20ff1410ce309fd8f69c17507ecbcff111e9
    },
    "scrolled": true
   },
   "outputs": [
    {
     "name": "stdout",
     "output_type": "stream",
     "text": [
<<<<<<< HEAD
<<<<<<< HEAD
      "\u001b[0m\u001b[36mINFO\u001b[0m: > cmd='/venv/lib/python3.8/site-packages/ipykernel_launcher.py -f /home/.local/share/jupyter/runtime/kernel-f3ddd2da-872c-49a0-b378-8e21bdf5e2ae.json'\n",
=======
      "\u001b[0m\u001b[36mINFO\u001b[0m: > cmd='/venv/lib/python3.8/site-packages/ipykernel_launcher.py -f /home/.local/share/jupyter/runtime/kernel-44c341a5-6dbd-4364-b594-a30050ff7293.json'\n",
>>>>>>> master
=======
      "\u001b[0m\u001b[36mINFO\u001b[0m: > cmd='/venv/lib/python3.8/site-packages/ipykernel_launcher.py -f /home/.local/share/jupyter/runtime/kernel-44c341a5-6dbd-4364-b594-a30050ff7293.json'\n",
>>>>>>> 2e3d20ff1410ce309fd8f69c17507ecbcff111e9
      "\u001b[33mWARNING\u001b[0m: Running in Jupyter\n",
      ">>ENV<<: is_inside_container=True: code_version=1.0.6, container_version=1.0.6, is_inside_docker=True, is_inside_ci=False, CI_defined=True, CI=''\n",
      ">>ENV<<: AM_AWS_PROFILE=True AM_ECR_BASE_PATH=True AM_S3_BUCKET=True AM_TELEGRAM_TOKEN=True AWS_ACCESS_KEY_ID=False AWS_DEFAULT_REGION=False AWS_SECRET_ACCESS_KEY=False GH_ACTION_ACCESS_TOKEN=True\n",
      "# Git\n",
<<<<<<< HEAD
<<<<<<< HEAD
      "    branch_name='CMTask878_Clean_up_CCXT_vs_CDD_notebook'\n",
      "    hash='d75f12ddf'\n",
      "    # Last commits:\n",
      "      * d75f12ddf Maksim Sergeychikov CMTask878: Draft of clean up                                      (    2 days ago) Mon Jan 10 20:13:37 2022  (HEAD -> CMTask878_Clean_up_CCXT_vs_CDD_notebook, origin/CMTask878_Clean_up_CCXT_vs_CDD_notebook)\n",
      "      * deaea63b1 Vitalii Rakovtsii CmTask737_Remove_dead_references_to_CONTAINER_VERSION_and_BUILD_TAG (#891) (   10 days ago) Sun Jan 2 23:24:10 2022           \n",
      "      * 5358049e0 Vitalii Rakovtsii CmTask792: create QaTestCase class (#890)                         (   10 days ago) Sun Jan 2 23:20:43 2022           \n",
      "# Machine info\n",
      "    system=Linux\n",
      "    node name=852eded44503\n",
      "    release=5.4.0-1057-aws\n",
      "    version=#60~18.04.1-Ubuntu SMP Thu Sep 9 20:38:09 UTC 2021\n",
=======
=======
>>>>>>> 2e3d20ff1410ce309fd8f69c17507ecbcff111e9
      "    branch_name='CMTask922_refactor_ccxt_clients'\n",
      "    hash='0a801fbc0'\n",
      "    # Last commits:\n",
      "      * 0a801fbc0 PomazkinG add back log info                                                 (13 minutes ago) Fri Jan 14 09:53:56 2022  (HEAD -> CMTask922_refactor_ccxt_clients)\n",
      "      * a395e921b PomazkinG checkpoint                                                        (15 minutes ago) Fri Jan 14 09:51:59 2022           \n",
      "      * cc20b6c17 PomazkinG checkpoint                                                        (16 minutes ago) Fri Jan 14 09:50:47 2022           \n",
      "# Machine info\n",
      "    system=Linux\n",
      "    node name=0f3bfda18266\n",
      "    release=5.11.0-1025-aws\n",
      "    version=#27~20.04.1-Ubuntu SMP Fri Jan 7 13:09:56 UTC 2022\n",
<<<<<<< HEAD
>>>>>>> master
=======
>>>>>>> 2e3d20ff1410ce309fd8f69c17507ecbcff111e9
      "    machine=x86_64\n",
      "    processor=x86_64\n",
      "    cpu count=4\n",
      "    cpu freq=scpufreq(current=2499.998, min=0.0, max=0.0)\n",
<<<<<<< HEAD
<<<<<<< HEAD
      "    memory=svmem(total=16596852736, available=13274034176, percent=20.0, used=2832662528, free=4471537664, active=6341230592, inactive=4254404608, buffers=635887616, cached=8656764928, shared=160882688, slab=1302724608)\n",
      "    disk usage=sdiskusage(total=133167038464, used=108897513472, free=24252747776, percent=81.8)\n",
=======
      "    memory=svmem(total=16586833920, available=2387546112, percent=85.6, used=13599301632, free=2022547456, active=113532928, inactive=13776637952, buffers=43835392, cached=921149440, shared=260362240, slab=372334592)\n",
      "    disk usage=sdiskusage(total=104021790720, used=68272459776, free=35732553728, percent=65.6)\n",
>>>>>>> master
=======
      "    memory=svmem(total=16586833920, available=2387546112, percent=85.6, used=13599301632, free=2022547456, active=113532928, inactive=13776637952, buffers=43835392, cached=921149440, shared=260362240, slab=372334592)\n",
      "    disk usage=sdiskusage(total=104021790720, used=68272459776, free=35732553728, percent=65.6)\n",
>>>>>>> 2e3d20ff1410ce309fd8f69c17507ecbcff111e9
      "# Packages\n",
      "    python: 3.8.10\n",
      "    gluonnlp: ?\n",
      "    gluonts: 0.6.7\n",
      "    joblib: 1.1.0\n",
      "    mxnet: 1.9.0\n",
      "    numpy: 1.22.0\n",
      "    pandas: 1.3.5\n",
      "    pyarrow: 6.0.1\n",
      "    scipy: 1.6.1\n",
      "    seaborn: 0.11.2\n",
      "    sklearn: 1.0.2\n",
      "    statsmodels: 0.13.1\n",
      "\u001b[33mWARNING\u001b[0m: Disabling annoying warnings\n"
     ]
    }
   ],
   "source": [
    "hdbg.init_logger(verbosity=logging.INFO)\n",
    "\n",
    "_LOG = logging.getLogger(__name__)\n",
    "\n",
    "_LOG.info(\"%s\", henv.get_system_signature()[0])\n",
    "\n",
    "hprint.config_notebook()"
   ]
  },
  {
   "cell_type": "markdown",
   "id": "556c6b2b",
   "metadata": {},
   "source": [
    "# Configs"
   ]
  },
  {
   "cell_type": "code",
   "execution_count": 20,
   "id": "36e03497",
   "metadata": {
    "ExecuteTime": {
<<<<<<< HEAD
<<<<<<< HEAD
     "end_time": "2022-01-12T21:40:53.117313Z",
     "start_time": "2022-01-12T21:40:53.114985Z"
=======
     "end_time": "2022-01-14T10:07:06.644698Z",
     "start_time": "2022-01-14T10:07:06.642253Z"
>>>>>>> master
=======
     "end_time": "2022-01-14T10:07:06.644698Z",
     "start_time": "2022-01-14T10:07:06.642253Z"
>>>>>>> 2e3d20ff1410ce309fd8f69c17507ecbcff111e9
    }
   },
   "outputs": [],
   "source": [
<<<<<<< HEAD
<<<<<<< HEAD
    "# Generate configs for 'CDD' and 'CCXT'."
=======
    "# Two configs are necessary in this situation because current downloading functions\n",
    "# work only with specific 'vendor' value."
>>>>>>> master
=======
    "# Two configs are necessary in this situation because current downloading functions\n",
    "# work only with specific 'vendor' value."
>>>>>>> 2e3d20ff1410ce309fd8f69c17507ecbcff111e9
   ]
  },
  {
   "cell_type": "code",
   "execution_count": 21,
   "id": "faad3a0a",
   "metadata": {
    "ExecuteTime": {
<<<<<<< HEAD
<<<<<<< HEAD
     "end_time": "2022-01-12T21:40:53.299966Z",
     "start_time": "2022-01-12T21:40:53.293721Z"
=======
     "end_time": "2022-01-14T10:07:06.654946Z",
     "start_time": "2022-01-14T10:07:06.647284Z"
>>>>>>> master
=======
     "end_time": "2022-01-14T10:07:06.654946Z",
     "start_time": "2022-01-14T10:07:06.647284Z"
>>>>>>> 2e3d20ff1410ce309fd8f69c17507ecbcff111e9
    }
   },
   "outputs": [],
   "source": [
    "def get_cmtask324_config_ccxt() -> cconconf.Config:\n",
    "    \"\"\"\n",
    "    Get task232-specific config.\n",
    "    \"\"\"\n",
    "    config = cconconf.Config()\n",
    "    # Load parameters.\n",
    "    config.add_subconfig(\"load\")\n",
    "    config[\"load\"][\"aws_profile\"] = \"am\"\n",
    "    config[\"load\"][\"data_dir\"] = os.path.join(hs3.get_path(), \"data\")\n",
    "    # Data parameters.\n",
    "    config.add_subconfig(\"data\")\n",
    "    config[\"data\"][\"data_type\"] = \"OHLCV\"\n",
    "    config[\"data\"][\"target_frequency\"] = \"T\"\n",
    "    config[\"data\"][\"universe_version\"] = \"v03\"\n",
    "    config[\"data\"][\"vendor\"] = \"CCXT\"\n",
    "    # Column names.\n",
    "    config.add_subconfig(\"column_names\")\n",
    "    config[\"column_names\"][\"close_price\"] = \"close\"\n",
    "    config[\"column_names\"][\"currency_pair\"] = \"currency_pair\"\n",
    "    config[\"column_names\"][\"exchange_id\"] = \"exchange_id\"\n",
    "    return config"
   ]
  },
  {
   "cell_type": "code",
   "execution_count": 22,
   "id": "7938181f",
   "metadata": {
    "ExecuteTime": {
<<<<<<< HEAD
<<<<<<< HEAD
     "end_time": "2022-01-12T21:40:53.435643Z",
     "start_time": "2022-01-12T21:40:53.432270Z"
=======
     "end_time": "2022-01-14T10:07:06.663710Z",
     "start_time": "2022-01-14T10:07:06.658776Z"
>>>>>>> master
=======
     "end_time": "2022-01-14T10:07:06.663710Z",
     "start_time": "2022-01-14T10:07:06.658776Z"
>>>>>>> 2e3d20ff1410ce309fd8f69c17507ecbcff111e9
    }
   },
   "outputs": [
    {
     "name": "stdout",
     "output_type": "stream",
     "text": [
      "load:\n",
      "  aws_profile: am\n",
      "  data_dir: s3://alphamatic-data/data\n",
      "data:\n",
      "  data_type: OHLCV\n",
      "  target_frequency: T\n",
      "  universe_version: v03\n",
      "  vendor: CCXT\n",
      "column_names:\n",
      "  close_price: close\n",
      "  currency_pair: currency_pair\n",
      "  exchange_id: exchange_id\n"
     ]
    }
   ],
   "source": [
    "config_ccxt = get_cmtask324_config_ccxt()\n",
    "print(config_ccxt)"
   ]
  },
  {
   "cell_type": "code",
   "execution_count": 23,
   "id": "a50f2134",
   "metadata": {
    "ExecuteTime": {
<<<<<<< HEAD
<<<<<<< HEAD
     "end_time": "2022-01-12T21:40:53.536662Z",
     "start_time": "2022-01-12T21:40:53.528376Z"
=======
     "end_time": "2022-01-14T10:07:06.673328Z",
     "start_time": "2022-01-14T10:07:06.666113Z"
>>>>>>> master
=======
     "end_time": "2022-01-14T10:07:06.673328Z",
     "start_time": "2022-01-14T10:07:06.666113Z"
>>>>>>> 2e3d20ff1410ce309fd8f69c17507ecbcff111e9
    }
   },
   "outputs": [],
   "source": [
    "def get_cmtask324_config_cdd() -> cconconf.Config:\n",
    "    \"\"\"\n",
    "    Get task324-specific config.\n",
    "    \"\"\"\n",
    "    config = cconconf.Config()\n",
    "    # Load parameters.\n",
    "    config.add_subconfig(\"load\")\n",
    "    config[\"load\"][\"aws_profile\"] = \"am\"\n",
    "    config[\"load\"][\"data_dir\"] = os.path.join(hs3.get_path(), \"data\")\n",
    "    # Data parameters.\n",
    "    config.add_subconfig(\"data\")\n",
    "    config[\"data\"][\"data_type\"] = \"OHLCV\"\n",
    "    config[\"data\"][\"target_frequency\"] = \"T\"\n",
    "    config[\"data\"][\"universe_version\"] = \"v01\"\n",
    "    config[\"data\"][\"vendor\"] = \"CDD\"\n",
    "    # Column names.\n",
    "    config.add_subconfig(\"column_names\")\n",
    "    config[\"column_names\"][\"close_price\"] = \"close\"\n",
    "    config[\"column_names\"][\"currency_pair\"] = \"currency_pair\"\n",
    "    config[\"column_names\"][\"exchange_id\"] = \"exchange_id\"\n",
    "    return config"
   ]
  },
  {
   "cell_type": "code",
   "execution_count": 24,
   "id": "793ba0b7",
   "metadata": {
    "ExecuteTime": {
<<<<<<< HEAD
<<<<<<< HEAD
     "end_time": "2022-01-12T21:40:53.687414Z",
     "start_time": "2022-01-12T21:40:53.683998Z"
=======
     "end_time": "2022-01-14T10:07:06.680324Z",
     "start_time": "2022-01-14T10:07:06.675686Z"
>>>>>>> master
=======
     "end_time": "2022-01-14T10:07:06.680324Z",
     "start_time": "2022-01-14T10:07:06.675686Z"
>>>>>>> 2e3d20ff1410ce309fd8f69c17507ecbcff111e9
    }
   },
   "outputs": [
    {
     "name": "stdout",
     "output_type": "stream",
     "text": [
      "load:\n",
      "  aws_profile: am\n",
      "  data_dir: s3://alphamatic-data/data\n",
      "data:\n",
      "  data_type: OHLCV\n",
      "  target_frequency: T\n",
      "  universe_version: v01\n",
      "  vendor: CDD\n",
      "column_names:\n",
      "  close_price: close\n",
      "  currency_pair: currency_pair\n",
      "  exchange_id: exchange_id\n"
     ]
    }
   ],
   "source": [
    "config_cdd = get_cmtask324_config_cdd()\n",
    "print(config_cdd)"
   ]
  },
  {
   "cell_type": "markdown",
   "id": "51702034",
   "metadata": {},
   "source": [
    "# Load the data universe"
   ]
  },
  {
   "cell_type": "markdown",
   "id": "70420724",
   "metadata": {},
   "source": [
    "## CCXT"
   ]
  },
  {
   "cell_type": "code",
   "execution_count": 25,
   "id": "d15816d5",
   "metadata": {
    "ExecuteTime": {
<<<<<<< HEAD
<<<<<<< HEAD
     "end_time": "2022-01-12T21:40:54.226039Z",
     "start_time": "2022-01-12T21:40:54.222847Z"
=======
     "end_time": "2022-01-14T10:07:06.797182Z",
     "start_time": "2022-01-14T10:07:06.682763Z"
>>>>>>> master
=======
     "end_time": "2022-01-14T10:07:06.797182Z",
     "start_time": "2022-01-14T10:07:06.682763Z"
>>>>>>> 2e3d20ff1410ce309fd8f69c17507ecbcff111e9
    },
    "scrolled": true
   },
   "outputs": [],
   "source": [
    "ccxt_universe = imvccunun.get_vendor_universe(version=\"v03\")"
   ]
  },
  {
   "cell_type": "markdown",
   "id": "b178b946",
   "metadata": {},
   "source": [
    "## CDD"
   ]
  },
  {
   "cell_type": "code",
   "execution_count": 26,
   "id": "a45e3fad",
   "metadata": {
    "ExecuteTime": {
<<<<<<< HEAD
<<<<<<< HEAD
     "end_time": "2022-01-12T21:40:54.614774Z",
     "start_time": "2022-01-12T21:40:54.609987Z"
=======
     "end_time": "2022-01-14T10:07:06.807092Z",
     "start_time": "2022-01-14T10:07:06.800562Z"
>>>>>>> master
=======
     "end_time": "2022-01-14T10:07:06.807092Z",
     "start_time": "2022-01-14T10:07:06.800562Z"
>>>>>>> 2e3d20ff1410ce309fd8f69c17507ecbcff111e9
    },
    "run_control": {
     "marked": false
    }
   },
   "outputs": [],
   "source": [
    "cdd_universe = imvccunun.get_vendor_universe(version=\"v01\", vendor=\"CDD\")\n",
    "# Remove non-USDT elements, since we are not interested in them.\n",
    "cdd_universe = [element for element in cdd_universe if element.endswith(\"USDT\")]"
   ]
  },
  {
   "cell_type": "markdown",
   "id": "821f2129",
   "metadata": {},
   "source": [
    "# Compare universes"
   ]
  },
  {
   "cell_type": "code",
   "execution_count": 27,
   "id": "23220816",
   "metadata": {
    "ExecuteTime": {
<<<<<<< HEAD
<<<<<<< HEAD
     "end_time": "2022-01-12T21:40:54.934572Z",
     "start_time": "2022-01-12T21:40:54.926675Z"
=======
     "end_time": "2022-01-14T10:07:06.815339Z",
     "start_time": "2022-01-14T10:07:06.809358Z"
>>>>>>> master
=======
     "end_time": "2022-01-14T10:07:06.815339Z",
     "start_time": "2022-01-14T10:07:06.809358Z"
>>>>>>> 2e3d20ff1410ce309fd8f69c17507ecbcff111e9
    }
   },
   "outputs": [
    {
     "name": "stdout",
     "output_type": "stream",
     "text": [
      "Number of full symbols in CCXT: 38\n",
      "Number of full symbols in CDD: 58\n"
     ]
    }
   ],
   "source": [
    "_LOG.info(\"Number of full symbols in CCXT: %s\", len(ccxt_universe))\n",
    "_LOG.info(\"Number of full symbols in CDD: %s\", len(cdd_universe))"
   ]
  },
  {
   "cell_type": "code",
   "execution_count": 28,
   "id": "158481db",
   "metadata": {
    "ExecuteTime": {
<<<<<<< HEAD
<<<<<<< HEAD
     "end_time": "2022-01-12T21:40:55.120804Z",
     "start_time": "2022-01-12T21:40:55.111761Z"
=======
     "end_time": "2022-01-14T10:07:06.827561Z",
     "start_time": "2022-01-14T10:07:06.817898Z"
>>>>>>> master
=======
     "end_time": "2022-01-14T10:07:06.827561Z",
     "start_time": "2022-01-14T10:07:06.817898Z"
>>>>>>> 2e3d20ff1410ce309fd8f69c17507ecbcff111e9
    }
   },
   "outputs": [
    {
     "name": "stdout",
     "output_type": "stream",
     "text": [
      "Number of similar full symbols: 18\n"
     ]
    },
    {
     "data": {
      "text/plain": [
       "{'binance::ADA_USDT',\n",
       " 'binance::BNB_USDT',\n",
       " 'binance::BTC_USDT',\n",
       " 'binance::EOS_USDT',\n",
       " 'binance::ETH_USDT',\n",
       " 'binance::LINK_USDT',\n",
       " 'binance::SOL_USDT',\n",
       " 'ftx::BNB_USDT',\n",
       " 'ftx::BTC_USDT',\n",
       " 'ftx::ETH_USDT',\n",
       " 'ftx::LINK_USDT',\n",
       " 'ftx::XRP_USDT',\n",
       " 'kucoin::ADA_USDT',\n",
       " 'kucoin::BNB_USDT',\n",
       " 'kucoin::BTC_USDT',\n",
       " 'kucoin::EOS_USDT',\n",
       " 'kucoin::ETH_USDT',\n",
       " 'kucoin::XRP_USDT'}"
      ]
     },
     "metadata": {},
     "output_type": "display_data"
    }
   ],
   "source": [
    "# Intersection of full symbols between two vendors.\n",
    "currency_pair_intersection = set(ccxt_universe).intersection(cdd_universe)\n",
    "_LOG.info(\"Number of similar full symbols: %s\", len(currency_pair_intersection))\n",
    "display(currency_pair_intersection)"
   ]
  },
  {
   "cell_type": "code",
   "execution_count": 29,
   "id": "a72f1f1f",
   "metadata": {
    "ExecuteTime": {
<<<<<<< HEAD
<<<<<<< HEAD
     "end_time": "2022-01-12T21:40:55.248919Z",
     "start_time": "2022-01-12T21:40:55.242474Z"
=======
     "end_time": "2022-01-14T10:07:06.838119Z",
     "start_time": "2022-01-14T10:07:06.830047Z"
>>>>>>> master
=======
     "end_time": "2022-01-14T10:07:06.838119Z",
     "start_time": "2022-01-14T10:07:06.830047Z"
>>>>>>> 2e3d20ff1410ce309fd8f69c17507ecbcff111e9
    },
    "scrolled": true
   },
   "outputs": [
    {
     "name": "stdout",
     "output_type": "stream",
     "text": [
      "Number of full symbols that are included in 'CCXT' but not in 'CDD': 20\n"
     ]
    },
    {
     "data": {
      "text/plain": [
       "{'binance::AVAX_USDT',\n",
       " 'binance::DOGE_USDT',\n",
       " 'ftx::DOGE_USDT',\n",
       " 'ftx::SOL_USDT',\n",
       " 'gateio::ADA_USDT',\n",
       " 'gateio::AVAX_USDT',\n",
       " 'gateio::BNB_USDT',\n",
       " 'gateio::BTC_USDT',\n",
       " 'gateio::DOGE_USDT',\n",
       " 'gateio::EOS_USDT',\n",
       " 'gateio::ETH_USDT',\n",
       " 'gateio::FIL_USDT',\n",
       " 'gateio::LINK_USDT',\n",
       " 'gateio::SOL_USDT',\n",
       " 'gateio::XRP_USDT',\n",
       " 'kucoin::AVAX_USDT',\n",
       " 'kucoin::DOGE_USDT',\n",
       " 'kucoin::FIL_USDT',\n",
       " 'kucoin::LINK_USDT',\n",
       " 'kucoin::SOL_USDT'}"
      ]
     },
     "metadata": {},
     "output_type": "display_data"
    }
   ],
   "source": [
    "# Full symbols that are included in CCXT but not in CDD.\n",
    "ccxt_and_not_cdd = set(ccxt_universe).difference(cdd_universe)\n",
    "_LOG.info(\n",
    "    \"Number of full symbols that are included in 'CCXT' but not in 'CDD': %s\",\n",
    "    len(ccxt_and_not_cdd),\n",
    ")\n",
    "display(ccxt_and_not_cdd)"
   ]
  },
  {
   "cell_type": "code",
   "execution_count": 30,
   "id": "0523b1b7",
   "metadata": {
    "ExecuteTime": {
<<<<<<< HEAD
<<<<<<< HEAD
     "end_time": "2022-01-12T21:40:55.545214Z",
     "start_time": "2022-01-12T21:40:55.538467Z"
=======
     "end_time": "2022-01-14T10:07:06.848582Z",
     "start_time": "2022-01-14T10:07:06.841490Z"
>>>>>>> master
=======
     "end_time": "2022-01-14T10:07:06.848582Z",
     "start_time": "2022-01-14T10:07:06.841490Z"
>>>>>>> 2e3d20ff1410ce309fd8f69c17507ecbcff111e9
    },
    "scrolled": true
   },
   "outputs": [
    {
     "name": "stdout",
     "output_type": "stream",
     "text": [
      "Number of full symbols that are included in 'CDD' but not in 'CCXT': 40\n"
     ]
    },
    {
     "data": {
      "text/plain": [
       "{'binance::AAVE_USDT',\n",
       " 'binance::BAT_USDT',\n",
       " 'binance::BTT_USDT',\n",
       " 'binance::CELR_USDT',\n",
       " 'binance::CVC_USDT',\n",
       " 'binance::DAI_USDT',\n",
       " 'binance::DASH_USDT',\n",
       " 'binance::DOT_USDT',\n",
       " 'binance::ETC_USDT',\n",
       " 'binance::FIL_USDT',\n",
       " 'binance::ICP_USDT',\n",
       " 'binance::ICX_USDT',\n",
       " 'binance::LRC_USDT',\n",
       " 'binance::LTC_USDT',\n",
       " 'binance::MATIC_USDT',\n",
       " 'binance::MKR_USDT',\n",
       " 'binance::NEO_USDT',\n",
       " 'binance::ONE_USDT',\n",
       " 'binance::PAX_USDT',\n",
       " 'binance::QTUM_USDT',\n",
       " 'binance::SCU_USDT',\n",
       " 'binance::TRX_USDT',\n",
       " 'binance::TUSD_USDT',\n",
       " 'binance::UNI_USDT',\n",
       " 'binance::USDC_USDT',\n",
       " 'binance::VET_USDT',\n",
       " 'binance::XLM_USDT',\n",
       " 'binance::XMR_USDT',\n",
       " 'binance::XRP_USDT',\n",
       " 'binance::ZEC_USDT',\n",
       " 'ftx::BCH_USDT',\n",
       " 'ftx::LTC_USDT',\n",
       " 'ftx::TRX_USDT',\n",
       " 'kucoin::BCH_USDT',\n",
       " 'kucoin::DASH_USDT',\n",
       " 'kucoin::LTC_USDT',\n",
       " 'kucoin::NEO_USDT',\n",
       " 'kucoin::TRX_USDT',\n",
       " 'kucoin::XTZ_USDT',\n",
       " 'kucoin::ZEC_USDT'}"
      ]
     },
     "metadata": {},
     "output_type": "display_data"
    }
   ],
   "source": [
    "# Full symbols that are included in CDD but not in CCXT.\n",
    "cdd_and_not_ccxt = set(cdd_universe).difference(ccxt_universe)\n",
    "_LOG.info(\n",
    "    \"Number of full symbols that are included in 'CDD' but not in 'CCXT': %s\",\n",
    "    len(cdd_and_not_ccxt),\n",
    ")\n",
    "display(cdd_and_not_ccxt)"
   ]
  },
  {
   "cell_type": "markdown",
   "id": "06969925",
   "metadata": {},
   "source": [
    "# Compare close prices / returns from Binance"
   ]
  },
  {
   "cell_type": "markdown",
   "id": "65eb6a58",
   "metadata": {},
   "source": [
    "## Load the data"
   ]
  },
  {
   "cell_type": "markdown",
   "id": "ae3f24d9",
   "metadata": {
    "ExecuteTime": {
     "end_time": "2021-12-08T19:37:31.258647Z",
     "start_time": "2021-12-08T19:37:31.251517Z"
    }
   },
   "source": [
    "The code below can be used to load all the existing data from two vendors CDD and CCXT. Current version is specified to Binance only, however, even for one exchange there's too many data to operate, that's why the output is the intersection of currency pairs between to universe, since one can compare only the intersection of currency pairs for two vendors."
   ]
  },
  {
   "cell_type": "code",
   "execution_count": 31,
   "id": "be827c12",
   "metadata": {
    "ExecuteTime": {
<<<<<<< HEAD
<<<<<<< HEAD
     "end_time": "2022-01-12T21:40:56.919527Z",
     "start_time": "2022-01-12T21:40:56.914928Z"
=======
     "end_time": "2022-01-14T10:07:06.857948Z",
     "start_time": "2022-01-14T10:07:06.853084Z"
>>>>>>> master
=======
     "end_time": "2022-01-14T10:07:06.857948Z",
     "start_time": "2022-01-14T10:07:06.853084Z"
>>>>>>> 2e3d20ff1410ce309fd8f69c17507ecbcff111e9
    }
   },
   "outputs": [],
   "source": [
    "# Load Binance-specific universe for CCXT.\n",
    "ccxt_binance_universe = [\n",
    "    element for element in ccxt_universe if element.startswith(\"binance\")\n",
    "]\n",
    "# Load Binnance-specific universe for CDD.\n",
    "cdd_binance_universe_initial = [\n",
    "    element for element in cdd_universe if element.startswith(\"binance\")\n",
    "]\n",
    "cdd_binance_universe = cdd_binance_universe_initial.copy()\n",
    "# SCU_USDT has incorrect columns, so can not be downloaded.\n",
    "# See CMTask244 - Cannot load CDD - binance - SCU/USDT from s3 for the reference.\n",
    "cdd_binance_universe.remove(\"binance::SCU_USDT\")\n",
    "# The intersection of Binance currency pairs from two universes.\n",
    "currency_pair_intersection_binance = set(ccxt_binance_universe).intersection(\n",
    "    cdd_binance_universe_initial\n",
    ")"
   ]
  },
  {
   "cell_type": "code",
<<<<<<< HEAD
<<<<<<< HEAD
=======
=======
>>>>>>> 2e3d20ff1410ce309fd8f69c17507ecbcff111e9
   "execution_count": 15,
   "id": "7f3ba9fd",
   "metadata": {
    "ExecuteTime": {
     "end_time": "2022-01-14T10:07:06.863710Z",
     "start_time": "2022-01-14T10:07:06.859631Z"
    }
   },
   "outputs": [],
   "source": [
    "root_dir = os.path.join(hs3.get_path(), \"data\")"
   ]
  },
  {
   "cell_type": "code",
<<<<<<< HEAD
>>>>>>> master
=======
>>>>>>> 2e3d20ff1410ce309fd8f69c17507ecbcff111e9
   "execution_count": 16,
   "id": "8db077be",
   "metadata": {
    "ExecuteTime": {
<<<<<<< HEAD
<<<<<<< HEAD
     "end_time": "2022-01-12T21:11:52.073432Z",
     "start_time": "2022-01-12T21:10:54.731250Z"
=======
     "end_time": "2022-01-14T10:08:06.188084Z",
     "start_time": "2022-01-14T10:07:06.865713Z"
>>>>>>> master
=======
     "end_time": "2022-01-14T10:08:06.188084Z",
     "start_time": "2022-01-14T10:07:06.865713Z"
>>>>>>> 2e3d20ff1410ce309fd8f69c17507ecbcff111e9
    },
    "scrolled": true
   },
   "outputs": [
    {
     "name": "stdout",
     "output_type": "stream",
     "text": [
<<<<<<< HEAD
<<<<<<< HEAD
      "Reading CDD data for exchange id='binance', currencies='BTC_USDT', from file='s3://alphamatic-data/data/cryptodatadownload/20210924/binance/BTC_USDT.csv.gz'...\n",
      "Processing CDD data for exchange id='binance', currencies='BTC_USDT'...\n",
      "Index length increased by 5289 = 1063179 - 1057890\n",
      "Reading CDD data for exchange id='binance', currencies='EOS_USDT', from file='s3://alphamatic-data/data/cryptodatadownload/20210924/binance/EOS_USDT.csv.gz'...\n",
      "Processing CDD data for exchange id='binance', currencies='EOS_USDT'...\n",
      "Index length increased by 5289 = 888096 - 882807\n",
      "Reading CDD data for exchange id='binance', currencies='ADA_USDT', from file='s3://alphamatic-data/data/cryptodatadownload/20210924/binance/ADA_USDT.csv.gz'...\n",
      "Processing CDD data for exchange id='binance', currencies='ADA_USDT'...\n",
      "Index length increased by 5288 = 854976 - 849688\n",
      "Reading CDD data for exchange id='binance', currencies='ETH_USDT', from file='s3://alphamatic-data/data/cryptodatadownload/20210924/binance/ETH_USDT.csv.gz'...\n",
      "Processing CDD data for exchange id='binance', currencies='ETH_USDT'...\n",
      "Index length increased by 5288 = 948591 - 943303\n",
      "Reading CDD data for exchange id='binance', currencies='SOL_USDT', from file='s3://alphamatic-data/data/cryptodatadownload/20210924/binance/SOL_USDT.csv.gz'...\n",
      "Processing CDD data for exchange id='binance', currencies='SOL_USDT'...\n",
      "Index length increased by 270 = 129252 - 128982\n",
      "Reading CDD data for exchange id='binance', currencies='LINK_USDT', from file='s3://alphamatic-data/data/cryptodatadownload/20210924/binance/LINK_USDT.csv.gz'...\n",
      "Processing CDD data for exchange id='binance', currencies='LINK_USDT'...\n",
      "Index length increased by 5289 = 875139 - 869850\n",
=======
=======
>>>>>>> 2e3d20ff1410ce309fd8f69c17507ecbcff111e9
      "Reading CDD data for exchange id='binance', currencies='EOS_USDT', from file='s3://alphamatic-data/data/cryptodatadownload/20210924/binance/EOS_USDT.csv.gz'...\n",
      "Processing CDD data for exchange id='binance', currencies='EOS_USDT'...\n",
      "Index length increased by 5289 = 888096 - 882807\n",
      "Reading CDD data for exchange id='binance', currencies='SOL_USDT', from file='s3://alphamatic-data/data/cryptodatadownload/20210924/binance/SOL_USDT.csv.gz'...\n",
      "Processing CDD data for exchange id='binance', currencies='SOL_USDT'...\n",
      "Index length increased by 270 = 129252 - 128982\n",
      "Reading CDD data for exchange id='binance', currencies='LINK_USDT', from file='s3://alphamatic-data/data/cryptodatadownload/20210924/binance/LINK_USDT.csv.gz'...\n",
      "Processing CDD data for exchange id='binance', currencies='LINK_USDT'...\n",
      "Index length increased by 5289 = 875139 - 869850\n",
      "Reading CDD data for exchange id='binance', currencies='ETH_USDT', from file='s3://alphamatic-data/data/cryptodatadownload/20210924/binance/ETH_USDT.csv.gz'...\n",
      "Processing CDD data for exchange id='binance', currencies='ETH_USDT'...\n",
      "Index length increased by 5288 = 948591 - 943303\n",
      "Reading CDD data for exchange id='binance', currencies='ADA_USDT', from file='s3://alphamatic-data/data/cryptodatadownload/20210924/binance/ADA_USDT.csv.gz'...\n",
      "Processing CDD data for exchange id='binance', currencies='ADA_USDT'...\n",
      "Index length increased by 5288 = 854976 - 849688\n",
      "Reading CDD data for exchange id='binance', currencies='BTC_USDT', from file='s3://alphamatic-data/data/cryptodatadownload/20210924/binance/BTC_USDT.csv.gz'...\n",
      "Processing CDD data for exchange id='binance', currencies='BTC_USDT'...\n",
      "Index length increased by 5289 = 1063179 - 1057890\n",
<<<<<<< HEAD
>>>>>>> master
=======
>>>>>>> 2e3d20ff1410ce309fd8f69c17507ecbcff111e9
      "Reading CDD data for exchange id='binance', currencies='BNB_USDT', from file='s3://alphamatic-data/data/cryptodatadownload/20210924/binance/BNB_USDT.csv.gz'...\n",
      "Processing CDD data for exchange id='binance', currencies='BNB_USDT'...\n",
      "Index length increased by 5289 = 840575 - 835286\n"
     ]
    }
   ],
   "source": [
    "cdd_data = []\n",
<<<<<<< HEAD
<<<<<<< HEAD
    "data_type_cdd = config_cdd[\"data\"][\"data_type\"]\n",
    "root_dir_cdd = config_cdd[\"load\"][\"data_dir\"]\n",
    "cdd_loader = imcdalolo.CddLoader(\n",
    "    data_type_cdd, root_dir_cdd, aws_profile=config_cdd[\"load\"][\"aws_profile\"]\n",
=======
    "cdd_loader = imcdaclcd.CddClient(\n",
    "    data_type=\"ohlcv\", root_dir=root_dir, aws_profile=\"am\"\n",
>>>>>>> master
=======
    "cdd_loader = imcdaclcd.CddClient(\n",
    "    data_type=\"ohlcv\", root_dir=root_dir, aws_profile=\"am\"\n",
>>>>>>> 2e3d20ff1410ce309fd8f69c17507ecbcff111e9
    ")\n",
    "\n",
    "for full_symbol in currency_pair_intersection_binance:\n",
    "    cur_data = cdd_loader.read_data(full_symbol)\n",
    "    cdd_data.append(cur_data)\n",
    "cdd_binance_df = pd.concat(cdd_data)"
   ]
  },
  {
   "cell_type": "code",
   "execution_count": 17,
   "id": "ab156e6d",
   "metadata": {
    "ExecuteTime": {
<<<<<<< HEAD
<<<<<<< HEAD
     "end_time": "2022-01-12T21:15:11.374928Z",
     "start_time": "2022-01-12T21:15:11.355259Z"
=======
     "end_time": "2022-01-14T10:08:06.207863Z",
     "start_time": "2022-01-14T10:08:06.190069Z"
>>>>>>> master
=======
     "end_time": "2022-01-14T10:08:06.207863Z",
     "start_time": "2022-01-14T10:08:06.190069Z"
>>>>>>> 2e3d20ff1410ce309fd8f69c17507ecbcff111e9
    }
   },
   "outputs": [
    {
     "data": {
      "text/html": [
       "<div>\n",
       "<style scoped>\n",
       "    .dataframe tbody tr th:only-of-type {\n",
       "        vertical-align: middle;\n",
       "    }\n",
       "\n",
       "    .dataframe tbody tr th {\n",
       "        vertical-align: top;\n",
       "    }\n",
       "\n",
       "    .dataframe thead th {\n",
       "        text-align: right;\n",
       "    }\n",
       "</style>\n",
       "<table border=\"1\" class=\"dataframe\">\n",
       "  <thead>\n",
       "    <tr style=\"text-align: right;\">\n",
       "      <th></th>\n",
       "      <th>open</th>\n",
       "      <th>high</th>\n",
       "      <th>low</th>\n",
       "      <th>close</th>\n",
       "      <th>volume</th>\n",
       "      <th>epoch</th>\n",
       "      <th>currency_pair</th>\n",
       "      <th>exchange_id</th>\n",
       "    </tr>\n",
       "    <tr>\n",
       "      <th>timestamp</th>\n",
       "      <th></th>\n",
       "      <th></th>\n",
       "      <th></th>\n",
       "      <th></th>\n",
       "      <th></th>\n",
       "      <th></th>\n",
       "      <th></th>\n",
       "      <th></th>\n",
       "    </tr>\n",
       "  </thead>\n",
       "  <tbody>\n",
       "    <tr>\n",
<<<<<<< HEAD
<<<<<<< HEAD
       "      <th>2019-09-08 17:57:00+00:00</th>\n",
       "      <td>10000.0</td>\n",
       "      <td>10000.0</td>\n",
       "      <td>10000.0</td>\n",
       "      <td>10000.0</td>\n",
       "      <td>0.001</td>\n",
       "      <td>1.567965e+12</td>\n",
       "      <td>BTC/USDT</td>\n",
       "      <td>binance</td>\n",
       "    </tr>\n",
       "    <tr>\n",
       "      <th>2019-09-08 17:58:00+00:00</th>\n",
       "      <td>10000.0</td>\n",
       "      <td>10000.0</td>\n",
       "      <td>10000.0</td>\n",
       "      <td>10000.0</td>\n",
       "      <td>0.000</td>\n",
       "      <td>1.567965e+12</td>\n",
       "      <td>BTC/USDT</td>\n",
       "      <td>binance</td>\n",
       "    </tr>\n",
       "    <tr>\n",
       "      <th>2019-09-08 17:59:00+00:00</th>\n",
       "      <td>10000.0</td>\n",
       "      <td>10000.0</td>\n",
       "      <td>10000.0</td>\n",
       "      <td>10000.0</td>\n",
       "      <td>0.001</td>\n",
       "      <td>1.567966e+12</td>\n",
       "      <td>BTC/USDT</td>\n",
=======
=======
>>>>>>> 2e3d20ff1410ce309fd8f69c17507ecbcff111e9
       "      <th>2020-01-08 08:00:00+00:00</th>\n",
       "      <td>2.884</td>\n",
       "      <td>2.884</td>\n",
       "      <td>2.884</td>\n",
       "      <td>2.884</td>\n",
       "      <td>3251.1</td>\n",
       "      <td>1.578470e+12</td>\n",
       "      <td>EOS/USDT</td>\n",
       "      <td>binance</td>\n",
       "    </tr>\n",
       "    <tr>\n",
       "      <th>2020-01-08 08:01:00+00:00</th>\n",
       "      <td>2.900</td>\n",
       "      <td>2.900</td>\n",
       "      <td>2.885</td>\n",
       "      <td>2.887</td>\n",
       "      <td>2658.6</td>\n",
       "      <td>1.578470e+12</td>\n",
       "      <td>EOS/USDT</td>\n",
       "      <td>binance</td>\n",
       "    </tr>\n",
       "    <tr>\n",
       "      <th>2020-01-08 08:02:00+00:00</th>\n",
       "      <td>2.887</td>\n",
       "      <td>2.895</td>\n",
       "      <td>2.887</td>\n",
       "      <td>2.895</td>\n",
       "      <td>12234.8</td>\n",
       "      <td>1.578471e+12</td>\n",
       "      <td>EOS/USDT</td>\n",
<<<<<<< HEAD
>>>>>>> master
=======
>>>>>>> 2e3d20ff1410ce309fd8f69c17507ecbcff111e9
       "      <td>binance</td>\n",
       "    </tr>\n",
       "  </tbody>\n",
       "</table>\n",
       "</div>"
      ],
      "text/plain": [
<<<<<<< HEAD
<<<<<<< HEAD
       "                              open     high      low    close  volume         epoch currency_pair exchange_id\n",
       "timestamp                                                                                                    \n",
       "2019-09-08 17:57:00+00:00  10000.0  10000.0  10000.0  10000.0   0.001  1.567965e+12      BTC/USDT     binance\n",
       "2019-09-08 17:58:00+00:00  10000.0  10000.0  10000.0  10000.0   0.000  1.567965e+12      BTC/USDT     binance\n",
       "2019-09-08 17:59:00+00:00  10000.0  10000.0  10000.0  10000.0   0.001  1.567966e+12      BTC/USDT     binance"
=======
=======
>>>>>>> 2e3d20ff1410ce309fd8f69c17507ecbcff111e9
       "                            open   high    low  close   volume         epoch currency_pair exchange_id\n",
       "timestamp                                                                                             \n",
       "2020-01-08 08:00:00+00:00  2.884  2.884  2.884  2.884   3251.1  1.578470e+12      EOS/USDT     binance\n",
       "2020-01-08 08:01:00+00:00  2.900  2.900  2.885  2.887   2658.6  1.578470e+12      EOS/USDT     binance\n",
       "2020-01-08 08:02:00+00:00  2.887  2.895  2.887  2.895  12234.8  1.578471e+12      EOS/USDT     binance"
<<<<<<< HEAD
>>>>>>> master
=======
>>>>>>> 2e3d20ff1410ce309fd8f69c17507ecbcff111e9
      ]
     },
     "metadata": {},
     "output_type": "display_data"
    },
    {
     "data": {
      "text/plain": [
       "(5599808, 8)"
      ]
     },
     "metadata": {},
     "output_type": "display_data"
    }
   ],
   "source": [
    "display(cdd_binance_df.head(3))\n",
    "display(cdd_binance_df.shape)"
   ]
  },
  {
   "cell_type": "code",
<<<<<<< HEAD
<<<<<<< HEAD
   "execution_count": 18,
   "id": "948765b9",
   "metadata": {
    "ExecuteTime": {
     "end_time": "2022-01-12T21:16:52.498287Z",
     "start_time": "2022-01-12T21:15:16.812949Z"
=======
=======
>>>>>>> 2e3d20ff1410ce309fd8f69c17507ecbcff111e9
   "execution_count": null,
   "id": "948765b9",
   "metadata": {
    "ExecuteTime": {
     "start_time": "2022-01-14T10:07:01.011Z"
<<<<<<< HEAD
>>>>>>> master
=======
>>>>>>> 2e3d20ff1410ce309fd8f69c17507ecbcff111e9
    },
    "scrolled": true
   },
   "outputs": [
    {
     "name": "stdout",
     "output_type": "stream",
     "text": [
      "Reading CCXT data for exchange id='binance', currencies='ADA_USDT' from file='s3://alphamatic-data/data/ccxt/20210924/binance/ADA_USDT.csv.gz'...\n",
<<<<<<< HEAD
<<<<<<< HEAD
      "Processing CCXT data for exchange id='binance', currencies='ADA_USDT'...\n",
      "Reading CCXT data for exchange id='binance', currencies='BNB_USDT' from file='s3://alphamatic-data/data/ccxt/20210924/binance/BNB_USDT.csv.gz'...\n",
      "Processing CCXT data for exchange id='binance', currencies='BNB_USDT'...\n",
      "Reading CCXT data for exchange id='binance', currencies='BTC_USDT' from file='s3://alphamatic-data/data/ccxt/20210924/binance/BTC_USDT.csv.gz'...\n",
      "Processing CCXT data for exchange id='binance', currencies='BTC_USDT'...\n",
      "Reading CCXT data for exchange id='binance', currencies='EOS_USDT' from file='s3://alphamatic-data/data/ccxt/20210924/binance/EOS_USDT.csv.gz'...\n",
      "Processing CCXT data for exchange id='binance', currencies='EOS_USDT'...\n",
      "Reading CCXT data for exchange id='binance', currencies='ETH_USDT' from file='s3://alphamatic-data/data/ccxt/20210924/binance/ETH_USDT.csv.gz'...\n",
      "Processing CCXT data for exchange id='binance', currencies='ETH_USDT'...\n",
      "Reading CCXT data for exchange id='binance', currencies='LINK_USDT' from file='s3://alphamatic-data/data/ccxt/20210924/binance/LINK_USDT.csv.gz'...\n",
      "Processing CCXT data for exchange id='binance', currencies='LINK_USDT'...\n",
      "Reading CCXT data for exchange id='binance', currencies='SOL_USDT' from file='s3://alphamatic-data/data/ccxt/20210924/binance/SOL_USDT.csv.gz'...\n",
      "Processing CCXT data for exchange id='binance', currencies='SOL_USDT'...\n",
      "Index length increased by 4520 = 1622000 - 1617480\n",
      "Index length increased by 4520 = 1622295 - 1617775\n",
      "Index length increased by 4519 = 1619641 - 1615122\n",
      "Index length increased by 4520 = 1622444 - 1617924\n",
      "Index length increased by 4520 = 1619889 - 1615369\n",
      "Index length increased by 3890 = 1402520 - 1398630\n",
      "Index length increased by 1224 = 576140 - 574916\n"
=======
=======
>>>>>>> 2e3d20ff1410ce309fd8f69c17507ecbcff111e9
      "Reading CCXT data for exchange id='binance', currencies='BNB_USDT' from file='s3://alphamatic-data/data/ccxt/20210924/binance/BNB_USDT.csv.gz'...\n",
      "Reading CCXT data for exchange id='binance', currencies='BTC_USDT' from file='s3://alphamatic-data/data/ccxt/20210924/binance/BTC_USDT.csv.gz'...\n",
      "Reading CCXT data for exchange id='binance', currencies='EOS_USDT' from file='s3://alphamatic-data/data/ccxt/20210924/binance/EOS_USDT.csv.gz'...\n",
      "Reading CCXT data for exchange id='binance', currencies='ETH_USDT' from file='s3://alphamatic-data/data/ccxt/20210924/binance/ETH_USDT.csv.gz'...\n",
      "Reading CCXT data for exchange id='binance', currencies='LINK_USDT' from file='s3://alphamatic-data/data/ccxt/20210924/binance/LINK_USDT.csv.gz'...\n"
<<<<<<< HEAD
>>>>>>> master
=======
>>>>>>> 2e3d20ff1410ce309fd8f69c17507ecbcff111e9
     ]
    }
   ],
   "source": [
<<<<<<< HEAD
<<<<<<< HEAD
    "data_type_ccxt = config_ccxt[\"data\"][\"data_type\"]\n",
    "root_dir_ccxt = config_ccxt[\"load\"][\"data_dir\"]\n",
    "ccxt_csv_client = imvcdclcl.CcxtCsvFileSystemClient(\n",
    "    data_type_ccxt, root_dir_ccxt, aws_profile=config_ccxt[\"load\"][\"aws_profile\"]\n",
    ")\n",
    "\n",
    "start_ts = None\n",
    "end_ts = None\n",
    "ccxt_binance_df = ccxt_csv_client.read_data(\n",
    "    list(currency_pair_intersection_binance), start_ts, end_ts\n",
=======
=======
>>>>>>> 2e3d20ff1410ce309fd8f69c17507ecbcff111e9
    "# TODO(Grisha): @max make sure that the notebook runs end-to-end #905.\n",
    "extension = \"csv.gz\"\n",
    "ccxt_csv_client = imvcdccccl.CcxtCsvParquetByAssetClient(\n",
    "    root_dir, extension, aws_profile=\"am\"\n",
    ")\n",
    "start_ts = None\n",
    "end_ts = None\n",
    "ccxt_binance_df = ccxt_csv_client.read_data(\n",
    "    list(currency_pair_intersection_binance),\n",
    "    start_ts,\n",
    "    end_ts,\n",
<<<<<<< HEAD
>>>>>>> master
=======
>>>>>>> 2e3d20ff1410ce309fd8f69c17507ecbcff111e9
    ")"
   ]
  },
  {
   "cell_type": "code",
<<<<<<< HEAD
<<<<<<< HEAD
   "execution_count": 19,
   "id": "f656ef6f",
   "metadata": {
    "ExecuteTime": {
     "end_time": "2022-01-12T21:16:52.515522Z",
     "start_time": "2022-01-12T21:16:52.500767Z"
    }
   },
   "outputs": [
    {
     "data": {
      "text/html": [
       "<div>\n",
       "<style scoped>\n",
       "    .dataframe tbody tr th:only-of-type {\n",
       "        vertical-align: middle;\n",
       "    }\n",
       "\n",
       "    .dataframe tbody tr th {\n",
       "        vertical-align: top;\n",
       "    }\n",
       "\n",
       "    .dataframe thead th {\n",
       "        text-align: right;\n",
       "    }\n",
       "</style>\n",
       "<table border=\"1\" class=\"dataframe\">\n",
       "  <thead>\n",
       "    <tr style=\"text-align: right;\">\n",
       "      <th></th>\n",
       "      <th>full_symbol</th>\n",
       "      <th>open</th>\n",
       "      <th>high</th>\n",
       "      <th>low</th>\n",
       "      <th>close</th>\n",
       "      <th>volume</th>\n",
       "      <th>epoch</th>\n",
       "      <th>currency_pair</th>\n",
       "      <th>exchange_id</th>\n",
       "    </tr>\n",
       "    <tr>\n",
       "      <th>timestamp</th>\n",
       "      <th></th>\n",
       "      <th></th>\n",
       "      <th></th>\n",
       "      <th></th>\n",
       "      <th></th>\n",
       "      <th></th>\n",
       "      <th></th>\n",
       "      <th></th>\n",
       "      <th></th>\n",
       "    </tr>\n",
       "  </thead>\n",
       "  <tbody>\n",
       "    <tr>\n",
       "      <th>2018-08-17 00:00:00+00:00</th>\n",
       "      <td>binance::ADA_USDT</td>\n",
       "      <td>0.0946</td>\n",
       "      <td>0.0948</td>\n",
       "      <td>0.09442</td>\n",
       "      <td>0.09479</td>\n",
       "      <td>41334.200000</td>\n",
       "      <td>1.534464e+12</td>\n",
       "      <td>ADA_USDT</td>\n",
       "      <td>binance</td>\n",
       "    </tr>\n",
       "    <tr>\n",
       "      <th>2018-08-17 00:00:00+00:00</th>\n",
       "      <td>binance::BNB_USDT</td>\n",
       "      <td>9.7779</td>\n",
       "      <td>9.7791</td>\n",
       "      <td>9.75380</td>\n",
       "      <td>9.77780</td>\n",
       "      <td>520.660000</td>\n",
       "      <td>1.534464e+12</td>\n",
       "      <td>BNB_USDT</td>\n",
       "      <td>binance</td>\n",
       "    </tr>\n",
       "    <tr>\n",
       "      <th>2018-08-17 00:00:00+00:00</th>\n",
       "      <td>binance::BTC_USDT</td>\n",
       "      <td>6316.0000</td>\n",
       "      <td>6319.0400</td>\n",
       "      <td>6310.32000</td>\n",
       "      <td>6311.64000</td>\n",
       "      <td>9.967395</td>\n",
       "      <td>1.534464e+12</td>\n",
       "      <td>BTC_USDT</td>\n",
       "      <td>binance</td>\n",
       "    </tr>\n",
       "  </tbody>\n",
       "</table>\n",
       "</div>"
      ],
      "text/plain": [
       "                                 full_symbol       open       high         low       close        volume         epoch currency_pair exchange_id\n",
       "timestamp                                                                                                                                       \n",
       "2018-08-17 00:00:00+00:00  binance::ADA_USDT     0.0946     0.0948     0.09442     0.09479  41334.200000  1.534464e+12      ADA_USDT     binance\n",
       "2018-08-17 00:00:00+00:00  binance::BNB_USDT     9.7779     9.7791     9.75380     9.77780    520.660000  1.534464e+12      BNB_USDT     binance\n",
       "2018-08-17 00:00:00+00:00  binance::BTC_USDT  6316.0000  6319.0400  6310.32000  6311.64000      9.967395  1.534464e+12      BTC_USDT     binance"
      ]
     },
     "metadata": {},
     "output_type": "display_data"
    },
    {
     "data": {
      "text/plain": [
       "(10084929, 9)"
      ]
     },
     "metadata": {},
     "output_type": "display_data"
    }
   ],
=======
=======
>>>>>>> 2e3d20ff1410ce309fd8f69c17507ecbcff111e9
   "execution_count": null,
   "id": "40d26329",
   "metadata": {
    "ExecuteTime": {
     "start_time": "2022-01-14T10:07:01.014Z"
    }
   },
   "outputs": [],
   "source": [
    "ccxt_binance_df = ccxt_binance_df.sort_index()"
   ]
  },
  {
   "cell_type": "code",
   "execution_count": null,
   "id": "f656ef6f",
   "metadata": {
    "ExecuteTime": {
     "start_time": "2022-01-14T10:07:01.018Z"
    }
   },
   "outputs": [],
<<<<<<< HEAD
>>>>>>> master
=======
>>>>>>> 2e3d20ff1410ce309fd8f69c17507ecbcff111e9
   "source": [
    "display(ccxt_binance_df.head(3))\n",
    "display(ccxt_binance_df.shape)"
   ]
  },
  {
   "cell_type": "markdown",
   "id": "d28c1075",
   "metadata": {},
   "source": [
    "# Returns and correlations using 'compute_stats_for_universe'"
   ]
  },
  {
   "cell_type": "markdown",
   "id": "a57a668b",
   "metadata": {},
   "source": [
    "The approach below shows the snippet of using the __compute_stats_for_universe__ function to compute the stats in the loop."
   ]
  },
  {
   "cell_type": "code",
   "execution_count": 32,
   "id": "abe27ab1",
   "metadata": {
    "ExecuteTime": {
     "end_time": "2022-01-12T21:41:02.191811Z",
     "start_time": "2022-01-12T21:41:02.183408Z"
    }
   },
   "outputs": [
    {
     "data": {
      "text/plain": [
       "['binance::ADA_USDT', 'binance::EOS_USDT']"
      ]
     },
     "execution_count": 32,
     "metadata": {},
     "output_type": "execute_result"
    }
   ],
   "source": [
    "# Create the test list.\n",
    "test_list = list(currency_pair_intersection_binance)[:2]\n",
    "test_list"
   ]
  },
  {
   "cell_type": "code",
   "execution_count": 33,
   "id": "d148713a",
   "metadata": {
    "ExecuteTime": {
     "end_time": "2022-01-12T21:41:10.489696Z",
     "start_time": "2022-01-12T21:41:10.485489Z"
    }
   },
   "outputs": [],
   "source": [
    "# Load 'CDD' data with resampling.\n",
    "# The function below is designed to resample the data in the loop using compute_stats_for_universe.\n",
    "def resampling_func(price_data, config, resampling_freq):\n",
    "    price_data = price_data.reset_index()\n",
    "    resampler = price_data.groupby(\n",
    "        [\"currency_pair\", pd.Grouper(key=\"timestamp\", freq=resampling_freq)]\n",
    "    )\n",
    "    close_series = resampler.close.last()\n",
    "    close_series = close_series.reset_index()\n",
    "    return close_series"
   ]
  },
  {
   "cell_type": "code",
   "execution_count": 36,
   "id": "e0fc0c57",
   "metadata": {
    "ExecuteTime": {
     "end_time": "2022-01-12T21:42:25.454279Z",
     "start_time": "2022-01-12T21:41:56.694024Z"
    }
   },
   "outputs": [
    {
     "name": "stdout",
     "output_type": "stream",
     "text": [
      "Reading CCXT data for exchange id='binance', currencies='ADA_USDT' from file='s3://alphamatic-data/data/ccxt/20210924/binance/ADA_USDT.csv.gz'...\n",
      "Processing CCXT data for exchange id='binance', currencies='ADA_USDT'...\n",
      "Index length increased by 4520 = 1622000 - 1617480\n",
      "Reading CCXT data for exchange id='binance', currencies='EOS_USDT' from file='s3://alphamatic-data/data/ccxt/20210924/binance/EOS_USDT.csv.gz'...\n",
      "Processing CCXT data for exchange id='binance', currencies='EOS_USDT'...\n",
      "Index length increased by 4520 = 1622444 - 1617924\n"
     ]
    }
   ],
   "source": [
    "# Applying the function specified above to the loop.\n",
    "resample_data = lambda data: resampling_func(data, config_ccxt, \"1D\")\n",
    "\n",
    "ccxt_resampled_close = ramccsta.compute_stats_for_universe(\n",
    "    test_list, config_ccxt, resample_data\n",
    ")"
   ]
  },
  {
   "cell_type": "code",
   "execution_count": 43,
   "id": "8d19ff9d",
   "metadata": {
    "ExecuteTime": {
     "end_time": "2022-01-12T21:44:12.451644Z",
     "start_time": "2022-01-12T21:44:12.435962Z"
    }
   },
   "outputs": [
    {
     "data": {
      "text/html": [
       "<div>\n",
       "<style scoped>\n",
       "    .dataframe tbody tr th:only-of-type {\n",
       "        vertical-align: middle;\n",
       "    }\n",
       "\n",
       "    .dataframe tbody tr th {\n",
       "        vertical-align: top;\n",
       "    }\n",
       "\n",
       "    .dataframe thead th {\n",
       "        text-align: right;\n",
       "    }\n",
       "</style>\n",
       "<table border=\"1\" class=\"dataframe\">\n",
       "  <thead>\n",
       "    <tr style=\"text-align: right;\">\n",
       "      <th></th>\n",
       "      <th></th>\n",
       "      <th>close</th>\n",
       "    </tr>\n",
       "    <tr>\n",
       "      <th>currency_pair</th>\n",
       "      <th>timestamp</th>\n",
       "      <th></th>\n",
       "    </tr>\n",
       "  </thead>\n",
       "  <tbody>\n",
       "    <tr>\n",
       "      <th rowspan=\"3\" valign=\"top\">ADA_USDT</th>\n",
       "      <th>2018-08-17 00:00:00+00:00</th>\n",
       "      <td>0.11000</td>\n",
       "    </tr>\n",
       "    <tr>\n",
       "      <th>2018-08-18 00:00:00+00:00</th>\n",
       "      <td>0.09831</td>\n",
       "    </tr>\n",
       "    <tr>\n",
       "      <th>2018-08-19 00:00:00+00:00</th>\n",
       "      <td>0.10143</td>\n",
       "    </tr>\n",
       "  </tbody>\n",
       "</table>\n",
       "</div>"
      ],
      "text/plain": [
       "                                           close\n",
       "currency_pair timestamp                         \n",
       "ADA_USDT      2018-08-17 00:00:00+00:00  0.11000\n",
       "              2018-08-18 00:00:00+00:00  0.09831\n",
       "              2018-08-19 00:00:00+00:00  0.10143"
      ]
     },
     "execution_count": 43,
     "metadata": {},
     "output_type": "execute_result"
    }
   ],
   "source": [
    "# As one can see, the compute_stats_for_universe function is reseting the index in the end, so the output\n",
    "# has no Multiindex that was used in the initial approach.\n",
    "ccxt_resampled_close.head(3)"
   ]
  },
  {
   "cell_type": "code",
   "execution_count": 45,
   "id": "d40b142b",
   "metadata": {
    "ExecuteTime": {
     "end_time": "2022-01-12T21:44:23.788997Z",
     "start_time": "2022-01-12T21:44:23.779218Z"
    }
   },
   "outputs": [
    {
     "data": {
      "text/html": [
       "<div>\n",
       "<style scoped>\n",
       "    .dataframe tbody tr th:only-of-type {\n",
       "        vertical-align: middle;\n",
       "    }\n",
       "\n",
       "    .dataframe tbody tr th {\n",
       "        vertical-align: top;\n",
       "    }\n",
       "\n",
       "    .dataframe thead th {\n",
       "        text-align: right;\n",
       "    }\n",
       "</style>\n",
       "<table border=\"1\" class=\"dataframe\">\n",
       "  <thead>\n",
       "    <tr style=\"text-align: right;\">\n",
       "      <th></th>\n",
       "      <th></th>\n",
       "      <th>close</th>\n",
       "    </tr>\n",
       "    <tr>\n",
       "      <th>currency_pair</th>\n",
       "      <th>timestamp</th>\n",
       "      <th></th>\n",
       "    </tr>\n",
       "  </thead>\n",
       "  <tbody>\n",
       "    <tr>\n",
       "      <th rowspan=\"3\" valign=\"top\">ADA_USDT</th>\n",
       "      <th>2018-08-17 00:00:00+00:00</th>\n",
       "      <td>0.11000</td>\n",
       "    </tr>\n",
       "    <tr>\n",
       "      <th>2018-08-18 00:00:00+00:00</th>\n",
       "      <td>0.09831</td>\n",
       "    </tr>\n",
       "    <tr>\n",
       "      <th>2018-08-19 00:00:00+00:00</th>\n",
       "      <td>0.10143</td>\n",
       "    </tr>\n",
       "  </tbody>\n",
       "</table>\n",
       "</div>"
      ],
      "text/plain": [
       "                                           close\n",
       "currency_pair timestamp                         \n",
       "ADA_USDT      2018-08-17 00:00:00+00:00  0.11000\n",
       "              2018-08-18 00:00:00+00:00  0.09831\n",
       "              2018-08-19 00:00:00+00:00  0.10143"
      ]
     },
     "execution_count": 45,
     "metadata": {},
     "output_type": "execute_result"
    }
   ],
   "source": [
    "# Setting the Multiindex.\n",
    "ccxt_resampled_close = ccxt_resampled_close.drop(\"vendor\", axis=1).set_index(\n",
    "    [\"currency_pair\", \"timestamp\"]\n",
    ")\n",
    "ccxt_resampled_close.head(3)"
   ]
  },
  {
   "cell_type": "code",
   "execution_count": 39,
   "id": "0a7b2439",
   "metadata": {
    "ExecuteTime": {
     "end_time": "2022-01-10T20:11:59.749228Z",
     "start_time": "2022-01-10T20:11:59.744388Z"
    }
   },
   "outputs": [],
   "source": [
    "# This input can be inserted into 'calculate_correlations' function defined below."
   ]
  },
  {
   "cell_type": "markdown",
   "id": "34ce5bd1",
   "metadata": {},
   "source": [
    "## Calculate returns and correlation"
   ]
  },
  {
   "cell_type": "code",
<<<<<<< HEAD
<<<<<<< HEAD
   "execution_count": 146,
   "id": "e4a4a808",
   "metadata": {
    "ExecuteTime": {
     "end_time": "2022-01-03T15:21:49.219171Z",
     "start_time": "2022-01-03T15:21:46.062755Z"
=======
=======
>>>>>>> 2e3d20ff1410ce309fd8f69c17507ecbcff111e9
   "execution_count": null,
   "id": "e4a4a808",
   "metadata": {
    "ExecuteTime": {
     "start_time": "2022-01-14T10:07:01.021Z"
<<<<<<< HEAD
>>>>>>> master
=======
>>>>>>> 2e3d20ff1410ce309fd8f69c17507ecbcff111e9
    }
   },
   "outputs": [],
   "source": [
    "# 'CDD' names cleaning.\n",
    "cdd_binance_df[\"currency_pair\"] = cdd_binance_df[\"currency_pair\"].str.replace(\n",
    "    \"/\", \"_\"\n",
    ")"
   ]
  },
  {
   "cell_type": "code",
<<<<<<< HEAD
<<<<<<< HEAD
   "execution_count": 150,
   "id": "c01e0a5f",
   "metadata": {
    "ExecuteTime": {
     "end_time": "2022-01-03T15:22:25.429885Z",
     "start_time": "2022-01-03T15:22:25.425039Z"
=======
=======
>>>>>>> 2e3d20ff1410ce309fd8f69c17507ecbcff111e9
   "execution_count": null,
   "id": "c01e0a5f",
   "metadata": {
    "ExecuteTime": {
     "start_time": "2022-01-14T10:07:01.025Z"
<<<<<<< HEAD
>>>>>>> master
=======
>>>>>>> 2e3d20ff1410ce309fd8f69c17507ecbcff111e9
    }
   },
   "outputs": [],
   "source": [
    "def resample_close_price(df: pd.DataFrame, resampling_freq: str) -> pd.Series:\n",
    "    \"\"\"\n",
    "    Resample close price on the currency level to the specified frequency using\n",
    "    the last close price.\n",
    "\n",
    "    :param df: OHLCV data\n",
    "    :param resampling_freq: frequency from `pd.date_range()` to resample to\n",
    "    :return: resampled close price per currency\n",
    "    \"\"\"\n",
    "    # Reseting DateTime index, since pd.Grouper can't use index values.\n",
    "    df = df.reset_index().rename(columns={\"index\": \"stamp\"})\n",
    "    # Group by currency pairs and simultaneously resample to the desired frequency.\n",
    "    resampler = df.groupby(\n",
    "        [\"currency_pair\", pd.Grouper(key=\"timestamp\", freq=resampling_freq)]\n",
    "    )\n",
    "    # Take the last close value from each resampling period.\n",
    "    close_series = resampler.close.last()\n",
    "    return close_series"
   ]
  },
  {
   "cell_type": "code",
<<<<<<< HEAD
<<<<<<< HEAD
   "execution_count": 151,
   "id": "e2e7ae9f",
   "metadata": {
    "ExecuteTime": {
     "end_time": "2022-01-03T15:22:26.098974Z",
     "start_time": "2022-01-03T15:22:26.092174Z"
=======
=======
>>>>>>> 2e3d20ff1410ce309fd8f69c17507ecbcff111e9
   "execution_count": null,
   "id": "e2e7ae9f",
   "metadata": {
    "ExecuteTime": {
     "start_time": "2022-01-14T10:07:01.030Z"
<<<<<<< HEAD
>>>>>>> master
=======
>>>>>>> 2e3d20ff1410ce309fd8f69c17507ecbcff111e9
    }
   },
   "outputs": [],
   "source": [
    "def calculate_correlations(\n",
    "    ccxt_close_price: pd.Series, cdd_close_price: pd.Series, compute_returns: bool\n",
    ") -> pd.DataFrame:\n",
    "    \"\"\"\n",
    "    Take CCXT and CDD close prices and calculate the correlations for each\n",
    "    specific currency pair.\n",
    "\n",
    "    :param ccxt_series: resampled close price per currency for CCXT\n",
    "    :param cdd_series: resampled close price per currency for CDD\n",
    "    :param compute_returns: if True - compare returns, if False - compare close prices\n",
    "    :return: correlation matrix per currency\n",
    "    \"\"\"\n",
    "    if compute_returns:\n",
    "        # Group by currency pairs in order to calculate the percentage returns.\n",
    "        grouper_cdd = cdd_close_price.groupby(\"currency_pair\")\n",
    "        cdd_close_price = grouper_cdd.pct_change()\n",
    "        grouper_ccxt = ccxt_close_price.groupby(\"currency_pair\")\n",
    "        ccxt_close_price = grouper_ccxt.pct_change()\n",
    "    # Combine and calculate correlations.\n",
    "    combined = pd.merge(\n",
    "        cdd_close_price, ccxt_close_price, left_index=True, right_index=True\n",
    "    )\n",
    "    # Rename the columns.\n",
    "    if compute_returns:\n",
    "        combined.columns = [\"ccxt_returns\", \"cdd_returns\"]\n",
    "    else:\n",
    "        combined.columns = [\"cdd_close\", \"ccxt_close\"]\n",
    "    # Group by again to calculte returns correlation for each currency pair.\n",
    "    corr_matrix = combined.groupby(level=0).corr()\n",
    "    return corr_matrix"
   ]
  },
  {
   "cell_type": "code",
<<<<<<< HEAD
<<<<<<< HEAD
   "execution_count": 152,
   "id": "975b1df0",
   "metadata": {
    "ExecuteTime": {
     "end_time": "2022-01-03T15:22:46.603487Z",
     "start_time": "2022-01-03T15:22:26.626105Z"
=======
=======
>>>>>>> 2e3d20ff1410ce309fd8f69c17507ecbcff111e9
   "execution_count": null,
   "id": "975b1df0",
   "metadata": {
    "ExecuteTime": {
     "start_time": "2022-01-14T10:07:01.033Z"
<<<<<<< HEAD
>>>>>>> master
=======
>>>>>>> 2e3d20ff1410ce309fd8f69c17507ecbcff111e9
    }
   },
   "outputs": [],
   "source": [
    "# Corresponding resampled Series.\n",
    "ccxt_binance_series_1d = resample_close_price(ccxt_binance_df, \"1D\")\n",
    "cdd_binance_series_1d = resample_close_price(cdd_binance_df, \"1D\")\n",
    "\n",
    "ccxt_binance_series_5min = resample_close_price(ccxt_binance_df, \"5min\")\n",
    "cdd_binance_series_5min = resample_close_price(cdd_binance_df, \"5min\")"
   ]
  },
  {
   "cell_type": "markdown",
   "id": "c56c9d1e",
   "metadata": {},
   "source": [
    "### 1-day returns"
   ]
  },
  {
   "cell_type": "code",
<<<<<<< HEAD
<<<<<<< HEAD
   "execution_count": 153,
   "id": "3af8f847",
   "metadata": {
    "ExecuteTime": {
     "end_time": "2022-01-03T15:22:50.428049Z",
     "start_time": "2022-01-03T15:22:50.329110Z"
=======
=======
>>>>>>> 2e3d20ff1410ce309fd8f69c17507ecbcff111e9
   "execution_count": null,
   "id": "3af8f847",
   "metadata": {
    "ExecuteTime": {
     "start_time": "2022-01-14T10:07:01.036Z"
<<<<<<< HEAD
>>>>>>> master
=======
>>>>>>> 2e3d20ff1410ce309fd8f69c17507ecbcff111e9
    }
   },
   "outputs": [],
   "source": [
    "returns_corr_1day = calculate_correlations(\n",
    "    ccxt_binance_series_1d, cdd_binance_series_1d, compute_returns=True\n",
    ")\n",
    "display(returns_corr_1day)"
   ]
  },
  {
   "cell_type": "markdown",
   "id": "a5d24740",
   "metadata": {},
   "source": [
    "### 5-min returns"
   ]
  },
  {
   "cell_type": "code",
<<<<<<< HEAD
<<<<<<< HEAD
   "execution_count": 154,
   "id": "4c69e461",
   "metadata": {
    "ExecuteTime": {
     "end_time": "2022-01-03T15:23:14.313514Z",
     "start_time": "2022-01-03T15:22:52.235025Z"
=======
=======
>>>>>>> 2e3d20ff1410ce309fd8f69c17507ecbcff111e9
   "execution_count": null,
   "id": "4c69e461",
   "metadata": {
    "ExecuteTime": {
     "start_time": "2022-01-14T10:07:01.039Z"
<<<<<<< HEAD
>>>>>>> master
=======
>>>>>>> 2e3d20ff1410ce309fd8f69c17507ecbcff111e9
    }
   },
   "outputs": [],
   "source": [
    "returns_corr_5min = calculate_correlations(\n",
    "    ccxt_binance_series_5min, cdd_binance_series_5min, compute_returns=True\n",
    ")\n",
    "display(returns_corr_5min)"
   ]
  },
  {
   "cell_type": "markdown",
   "id": "1d22eca0",
   "metadata": {},
   "source": [
    "## Compare close prices"
   ]
  },
  {
   "cell_type": "markdown",
   "id": "28de3b77",
   "metadata": {},
   "source": [
    "### 1-day close prices"
   ]
  },
  {
   "cell_type": "code",
<<<<<<< HEAD
<<<<<<< HEAD
   "execution_count": 155,
   "id": "8014b363",
   "metadata": {
    "ExecuteTime": {
     "end_time": "2022-01-03T15:23:14.343979Z",
     "start_time": "2022-01-03T15:23:14.315540Z"
=======
=======
>>>>>>> 2e3d20ff1410ce309fd8f69c17507ecbcff111e9
   "execution_count": null,
   "id": "8014b363",
   "metadata": {
    "ExecuteTime": {
     "start_time": "2022-01-14T10:07:01.043Z"
<<<<<<< HEAD
>>>>>>> master
=======
>>>>>>> 2e3d20ff1410ce309fd8f69c17507ecbcff111e9
    },
    "scrolled": false
   },
   "outputs": [],
   "source": [
    "close_corr_1day = calculate_correlations(\n",
    "    ccxt_binance_series_1d, cdd_binance_series_1d, compute_returns=False\n",
    ")\n",
    "display(close_corr_1day)"
   ]
  },
  {
   "cell_type": "markdown",
   "id": "d4f366b3",
   "metadata": {},
   "source": [
    "### 5-min close prices"
   ]
  },
  {
   "cell_type": "code",
<<<<<<< HEAD
<<<<<<< HEAD
   "execution_count": 156,
   "id": "06d58513",
   "metadata": {
    "ExecuteTime": {
     "end_time": "2022-01-03T15:23:16.958122Z",
     "start_time": "2022-01-03T15:23:14.345607Z"
=======
=======
>>>>>>> 2e3d20ff1410ce309fd8f69c17507ecbcff111e9
   "execution_count": null,
   "id": "06d58513",
   "metadata": {
    "ExecuteTime": {
     "start_time": "2022-01-14T10:07:01.047Z"
<<<<<<< HEAD
>>>>>>> master
=======
>>>>>>> 2e3d20ff1410ce309fd8f69c17507ecbcff111e9
    }
   },
   "outputs": [],
   "source": [
    "close_corr_5min = calculate_correlations(\n",
    "    ccxt_binance_series_5min, cdd_binance_series_5min, compute_returns=False\n",
    ")\n",
    "display(close_corr_5min)"
   ]
  },
  {
   "cell_type": "markdown",
   "id": "e4990d15",
   "metadata": {},
   "source": [
    "# Statistical properties of a full symbol in CDD"
   ]
  },
  {
   "cell_type": "code",
   "execution_count": null,
   "id": "d39f6575",
   "metadata": {
    "ExecuteTime": {
<<<<<<< HEAD
<<<<<<< HEAD
     "end_time": "2022-01-12T21:30:36.172542Z",
     "start_time": "2022-01-12T21:30:36.168579Z"
=======
     "start_time": "2022-01-14T10:07:01.052Z"
>>>>>>> master
=======
     "start_time": "2022-01-14T10:07:01.052Z"
>>>>>>> 2e3d20ff1410ce309fd8f69c17507ecbcff111e9
    }
   },
   "outputs": [],
   "source": [
    "# Clearing 'CDD' currency pairs that are incorrect.\n",
    "\n",
    "# Binance\n",
    "cdd_universe.remove(\"binance::SCU_USDT\")\n",
    "\n",
    "# FTX has some critical mistakes in the downloading process, so can not continue analysis with them.\n",
    "# see CMTask801 - Downloading issues of FTX exchange from 'CDD' universe for further reference.\n",
    "cdd_ftx_universe = [\n",
    "    element for element in cdd_universe if element.startswith(\"ftx\")\n",
    "]\n",
    "for elem in cdd_ftx_universe:\n",
    "    cdd_universe.remove(elem)\n",
    "\n",
    "# Kucoin exchange: the timestamps are obviously wrong and with too short time period.\n",
    "# See CMTask253 - Fix timestamp for CDD - kucoin for reference.\n",
    "cdd_kucoin_universe = [\n",
    "    element for element in cdd_universe if element.startswith(\"kucoin\")\n",
    "]\n",
    "for elem in cdd_kucoin_universe:\n",
    "    cdd_universe.remove(elem)"
   ]
  },
  {
   "cell_type": "markdown",
   "id": "001554a6",
   "metadata": {},
   "source": [
    "## Comparison of intersection of full symbols between 'CCXT' and 'CDD'"
   ]
  },
  {
   "cell_type": "code",
   "execution_count": null,
   "id": "59007146",
   "metadata": {
    "ExecuteTime": {
<<<<<<< HEAD
<<<<<<< HEAD
     "end_time": "2022-01-12T21:30:36.950666Z",
     "start_time": "2022-01-12T21:30:36.946845Z"
=======
     "start_time": "2022-01-14T10:07:01.055Z"
>>>>>>> master
=======
     "start_time": "2022-01-14T10:07:01.055Z"
>>>>>>> 2e3d20ff1410ce309fd8f69c17507ecbcff111e9
    }
   },
   "outputs": [],
   "source": [
    "# Full symbols that are included in 'CDD' but not in 'CCXT' (cleaned from unavailable full symbols).\n",
    "cdd_and_ccxt_cleaned = set(ccxt_universe).intersection(cdd_universe)\n",
    "len(cdd_and_ccxt_cleaned)"
   ]
  },
  {
   "cell_type": "markdown",
   "id": "6f2b83d7",
   "metadata": {
    "ExecuteTime": {
     "end_time": "2021-12-23T18:36:00.930420Z",
     "start_time": "2021-12-23T18:36:00.928103Z"
    },
    "scrolled": true
   },
   "source": [
    "### Load the intersection of full symbols for 'CDD' and 'CCXT'"
   ]
  },
  {
   "cell_type": "markdown",
   "id": "fee49b32",
   "metadata": {},
   "source": [
    "#### CDD"
   ]
  },
  {
   "cell_type": "code",
<<<<<<< HEAD
<<<<<<< HEAD
   "execution_count": 46,
   "id": "e9c1b048",
   "metadata": {
    "ExecuteTime": {
     "end_time": "2022-01-12T21:50:30.144530Z",
     "start_time": "2022-01-12T21:50:30.115826Z"
    },
    "scrolled": true
   },
   "outputs": [
    {
     "ename": "TypeError",
     "evalue": "read_data() takes 2 positional arguments but 4 were given",
     "output_type": "error",
     "traceback": [
      "\u001b[0;31m---------------------------------------------------------------------------\u001b[0m",
      "\u001b[0;31mTypeError\u001b[0m                                 Traceback (most recent call last)",
      "\u001b[0;32m/tmp/ipykernel_453/4028845647.py\u001b[0m in \u001b[0;36m<module>\u001b[0;34m\u001b[0m\n\u001b[1;32m      4\u001b[0m )\n\u001b[1;32m      5\u001b[0m \u001b[0;34m\u001b[0m\u001b[0m\n\u001b[0;32m----> 6\u001b[0;31m cdd_start_end_table = ramccsta.compute_stats_for_universe(\n\u001b[0m\u001b[1;32m      7\u001b[0m     \u001b[0mcdd_and_ccxt_cleaned\u001b[0m\u001b[0;34m,\u001b[0m \u001b[0mconfig_cdd\u001b[0m\u001b[0;34m,\u001b[0m \u001b[0mcompute_start_end_stats\u001b[0m\u001b[0;34m\u001b[0m\u001b[0;34m\u001b[0m\u001b[0m\n\u001b[1;32m      8\u001b[0m )\n",
      "\u001b[0;32m/app/research_amp/cc/statistics.py\u001b[0m in \u001b[0;36mcompute_stats_for_universe\u001b[0;34m(vendor_universe, config, stats_func)\u001b[0m\n\u001b[1;32m     49\u001b[0m         \u001b[0mstart_ts\u001b[0m\u001b[0;34m=\u001b[0m\u001b[0;32mNone\u001b[0m\u001b[0;34m\u001b[0m\u001b[0;34m\u001b[0m\u001b[0m\n\u001b[1;32m     50\u001b[0m         \u001b[0mend_ts\u001b[0m\u001b[0;34m=\u001b[0m\u001b[0;32mNone\u001b[0m\u001b[0;34m\u001b[0m\u001b[0;34m\u001b[0m\u001b[0m\n\u001b[0;32m---> 51\u001b[0;31m         \u001b[0mdata\u001b[0m \u001b[0;34m=\u001b[0m \u001b[0mloader\u001b[0m\u001b[0;34m.\u001b[0m\u001b[0mread_data\u001b[0m\u001b[0;34m(\u001b[0m\u001b[0;34m[\u001b[0m\u001b[0mfull_symbol\u001b[0m\u001b[0;34m]\u001b[0m\u001b[0;34m,\u001b[0m\u001b[0mstart_ts\u001b[0m\u001b[0;34m,\u001b[0m\u001b[0mend_ts\u001b[0m\u001b[0;34m)\u001b[0m\u001b[0;34m\u001b[0m\u001b[0;34m\u001b[0m\u001b[0m\n\u001b[0m\u001b[1;32m     52\u001b[0m         \u001b[0;31m# Compute stats on the exchange-currency level.\u001b[0m\u001b[0;34m\u001b[0m\u001b[0;34m\u001b[0m\u001b[0;34m\u001b[0m\u001b[0m\n\u001b[1;32m     53\u001b[0m         \u001b[0mcur_stats_data\u001b[0m \u001b[0;34m=\u001b[0m \u001b[0mstats_func\u001b[0m\u001b[0;34m(\u001b[0m\u001b[0mdata\u001b[0m\u001b[0;34m)\u001b[0m\u001b[0;34m\u001b[0m\u001b[0;34m\u001b[0m\u001b[0m\n",
      "\u001b[0;31mTypeError\u001b[0m: read_data() takes 2 positional arguments but 4 were given"
     ]
    }
   ],
=======
=======
>>>>>>> 2e3d20ff1410ce309fd8f69c17507ecbcff111e9
   "execution_count": null,
   "id": "e9c1b048",
   "metadata": {
    "ExecuteTime": {
     "start_time": "2022-01-14T10:07:01.059Z"
    },
    "scrolled": true
   },
   "outputs": [],
<<<<<<< HEAD
>>>>>>> master
=======
>>>>>>> 2e3d20ff1410ce309fd8f69c17507ecbcff111e9
   "source": [
    "# After fixing 'CCXT' loader below, the structural mistake appears with 'CDD' loader.\n",
    "compute_start_end_stats = lambda data: ramccsta.compute_start_end_stats(\n",
    "    data, config_cdd\n",
    ")\n",
    "\n",
    "cdd_start_end_table = ramccsta.compute_stats_for_universe(\n",
    "    cdd_and_ccxt_cleaned, config_cdd, compute_start_end_stats\n",
    ")"
   ]
  },
  {
   "cell_type": "code",
<<<<<<< HEAD
<<<<<<< HEAD
   "execution_count": 31,
   "id": "b239344d",
   "metadata": {
    "ExecuteTime": {
     "end_time": "2022-01-10T18:57:37.741369Z",
     "start_time": "2022-01-10T18:57:37.736967Z"
=======
=======
>>>>>>> 2e3d20ff1410ce309fd8f69c17507ecbcff111e9
   "execution_count": null,
   "id": "b239344d",
   "metadata": {
    "ExecuteTime": {
     "start_time": "2022-01-14T10:07:01.063Z"
<<<<<<< HEAD
>>>>>>> master
=======
>>>>>>> 2e3d20ff1410ce309fd8f69c17507ecbcff111e9
    }
   },
   "outputs": [],
   "source": [
    "# 'CDD' names cleaning.\n",
    "cdd_start_end_table[\"currency_pair\"] = cdd_start_end_table[\n",
    "    \"currency_pair\"\n",
    "].str.replace(\"/\", \"_\")"
   ]
  },
  {
   "cell_type": "code",
<<<<<<< HEAD
<<<<<<< HEAD
   "execution_count": 32,
   "id": "55437ec2",
   "metadata": {
    "ExecuteTime": {
     "end_time": "2022-01-10T18:57:37.758346Z",
     "start_time": "2022-01-10T18:57:37.743347Z"
    }
   },
   "outputs": [
    {
     "data": {
      "text/html": [
       "<div>\n",
       "<style scoped>\n",
       "    .dataframe tbody tr th:only-of-type {\n",
       "        vertical-align: middle;\n",
       "    }\n",
       "\n",
       "    .dataframe tbody tr th {\n",
       "        vertical-align: top;\n",
       "    }\n",
       "\n",
       "    .dataframe thead th {\n",
       "        text-align: right;\n",
       "    }\n",
       "</style>\n",
       "<table border=\"1\" class=\"dataframe\">\n",
       "  <thead>\n",
       "    <tr style=\"text-align: right;\">\n",
       "      <th></th>\n",
       "      <th>exchange_id</th>\n",
       "      <th>currency_pair</th>\n",
       "      <th>min_timestamp</th>\n",
       "      <th>max_timestamp</th>\n",
       "      <th>n_data_points</th>\n",
       "      <th>coverage</th>\n",
       "      <th>days_available</th>\n",
       "      <th>avg_data_points_per_day</th>\n",
       "      <th>longest_not_nan_seq_days</th>\n",
       "      <th>longest_not_nan_seq_perc</th>\n",
       "      <th>longest_not_nan_seq_start_date</th>\n",
       "      <th>longest_not_nan_seq_end_date</th>\n",
       "      <th>vendor</th>\n",
       "    </tr>\n",
       "  </thead>\n",
       "  <tbody>\n",
       "    <tr>\n",
       "      <th>0</th>\n",
       "      <td>binance</td>\n",
       "      <td>LINK_USDT</td>\n",
       "      <td>2020-01-17 08:00:00+00:00</td>\n",
       "      <td>2021-09-16 01:38:00+00:00</td>\n",
       "      <td>869850</td>\n",
       "      <td>99.395639</td>\n",
       "      <td>607</td>\n",
       "      <td>1433.031301</td>\n",
       "      <td>317</td>\n",
       "      <td>52.31169</td>\n",
       "      <td>2020-01-17 08:00:00+00:00</td>\n",
       "      <td>2020-11-30 05:59:00+00:00</td>\n",
       "      <td>CDD</td>\n",
       "    </tr>\n",
       "    <tr>\n",
       "      <th>1</th>\n",
       "      <td>binance</td>\n",
       "      <td>EOS_USDT</td>\n",
       "      <td>2020-01-08 08:00:00+00:00</td>\n",
       "      <td>2021-09-16 01:35:00+00:00</td>\n",
       "      <td>882807</td>\n",
       "      <td>99.404456</td>\n",
       "      <td>616</td>\n",
       "      <td>1433.128247</td>\n",
       "      <td>326</td>\n",
       "      <td>53.007783</td>\n",
       "      <td>2020-01-08 08:00:00+00:00</td>\n",
       "      <td>2020-11-30 05:59:00+00:00</td>\n",
       "      <td>CDD</td>\n",
       "    </tr>\n",
       "    <tr>\n",
       "      <th>2</th>\n",
       "      <td>binance</td>\n",
       "      <td>BNB_USDT</td>\n",
       "      <td>2020-02-10 08:01:00+00:00</td>\n",
       "      <td>2021-09-16 01:35:00+00:00</td>\n",
       "      <td>835286</td>\n",
       "      <td>99.370788</td>\n",
       "      <td>583</td>\n",
       "      <td>1432.737564</td>\n",
       "      <td>293</td>\n",
       "      <td>50.351129</td>\n",
       "      <td>2020-02-10 08:01:00+00:00</td>\n",
       "      <td>2020-11-30 05:59:00+00:00</td>\n",
       "      <td>CDD</td>\n",
       "    </tr>\n",
       "  </tbody>\n",
       "</table>\n",
       "</div>"
      ],
      "text/plain": [
       "  exchange_id currency_pair             min_timestamp             max_timestamp n_data_points   coverage days_available avg_data_points_per_day longest_not_nan_seq_days longest_not_nan_seq_perc longest_not_nan_seq_start_date longest_not_nan_seq_end_date vendor\n",
       "0     binance     LINK_USDT 2020-01-17 08:00:00+00:00 2021-09-16 01:38:00+00:00        869850  99.395639            607             1433.031301                      317                 52.31169      2020-01-17 08:00:00+00:00    2020-11-30 05:59:00+00:00    CDD\n",
       "1     binance      EOS_USDT 2020-01-08 08:00:00+00:00 2021-09-16 01:35:00+00:00        882807  99.404456            616             1433.128247                      326                53.007783      2020-01-08 08:00:00+00:00    2020-11-30 05:59:00+00:00    CDD\n",
       "2     binance      BNB_USDT 2020-02-10 08:01:00+00:00 2021-09-16 01:35:00+00:00        835286  99.370788            583             1432.737564                      293                50.351129      2020-02-10 08:01:00+00:00    2020-11-30 05:59:00+00:00    CDD"
      ]
     },
     "execution_count": 32,
     "metadata": {},
     "output_type": "execute_result"
    }
   ],
=======
=======
>>>>>>> 2e3d20ff1410ce309fd8f69c17507ecbcff111e9
   "execution_count": null,
   "id": "55437ec2",
   "metadata": {
    "ExecuteTime": {
     "start_time": "2022-01-14T10:07:01.066Z"
    }
   },
   "outputs": [],
<<<<<<< HEAD
>>>>>>> master
=======
>>>>>>> 2e3d20ff1410ce309fd8f69c17507ecbcff111e9
   "source": [
    "cdd_start_end_table.head(3)"
   ]
  },
  {
   "cell_type": "markdown",
   "id": "88facaca",
   "metadata": {},
   "source": [
    "#### CCXT"
   ]
  },
  {
   "cell_type": "code",
<<<<<<< HEAD
<<<<<<< HEAD
   "execution_count": 16,
   "id": "addf8fbd",
   "metadata": {
    "ExecuteTime": {
     "end_time": "2022-01-12T21:34:36.242527Z",
     "start_time": "2022-01-12T21:30:40.733542Z"
    },
    "scrolled": true
   },
   "outputs": [
    {
     "name": "stdout",
     "output_type": "stream",
     "text": [
      "Reading CCXT data for exchange id='binance', currencies='ADA_USDT' from file='s3://alphamatic-data/data/ccxt/20210924/binance/ADA_USDT.csv.gz'...\n",
      "Processing CCXT data for exchange id='binance', currencies='ADA_USDT'...\n",
      "Index length increased by 4520 = 1622000 - 1617480\n",
      "Reading CCXT data for exchange id='binance', currencies='EOS_USDT' from file='s3://alphamatic-data/data/ccxt/20210924/binance/EOS_USDT.csv.gz'...\n",
      "Processing CCXT data for exchange id='binance', currencies='EOS_USDT'...\n",
      "Index length increased by 4520 = 1622444 - 1617924\n",
      "Reading CCXT data for exchange id='binance', currencies='ETH_USDT' from file='s3://alphamatic-data/data/ccxt/20210924/binance/ETH_USDT.csv.gz'...\n",
      "Processing CCXT data for exchange id='binance', currencies='ETH_USDT'...\n",
      "Index length increased by 4520 = 1619889 - 1615369\n",
      "Reading CCXT data for exchange id='binance', currencies='SOL_USDT' from file='s3://alphamatic-data/data/ccxt/20210924/binance/SOL_USDT.csv.gz'...\n",
      "Processing CCXT data for exchange id='binance', currencies='SOL_USDT'...\n",
      "Index length increased by 1224 = 576140 - 574916\n",
      "Reading CCXT data for exchange id='binance', currencies='BTC_USDT' from file='s3://alphamatic-data/data/ccxt/20210924/binance/BTC_USDT.csv.gz'...\n",
      "Processing CCXT data for exchange id='binance', currencies='BTC_USDT'...\n",
      "Index length increased by 4519 = 1619641 - 1615122\n",
      "Reading CCXT data for exchange id='binance', currencies='LINK_USDT' from file='s3://alphamatic-data/data/ccxt/20210924/binance/LINK_USDT.csv.gz'...\n",
      "Processing CCXT data for exchange id='binance', currencies='LINK_USDT'...\n",
      "Index length increased by 3890 = 1402520 - 1398630\n",
      "Reading CCXT data for exchange id='binance', currencies='BNB_USDT' from file='s3://alphamatic-data/data/ccxt/20210924/binance/BNB_USDT.csv.gz'...\n",
      "Processing CCXT data for exchange id='binance', currencies='BNB_USDT'...\n",
      "Index length increased by 4520 = 1622295 - 1617775\n"
     ]
    }
   ],
=======
=======
>>>>>>> 2e3d20ff1410ce309fd8f69c17507ecbcff111e9
   "execution_count": null,
   "id": "addf8fbd",
   "metadata": {
    "ExecuteTime": {
     "start_time": "2022-01-14T10:07:01.070Z"
    },
    "scrolled": true
   },
   "outputs": [],
<<<<<<< HEAD
>>>>>>> master
=======
>>>>>>> 2e3d20ff1410ce309fd8f69c17507ecbcff111e9
   "source": [
    "compute_start_end_stats = lambda data: ramccsta.compute_start_end_stats(\n",
    "    data, config_ccxt\n",
    ")\n",
    "ccxt_start_end_table = ramccsta.compute_stats_for_universe(\n",
    "    list(cdd_and_ccxt_cleaned),\n",
    "    config_ccxt,\n",
    "    compute_start_end_stats,\n",
    ")"
   ]
  },
  {
   "cell_type": "code",
<<<<<<< HEAD
<<<<<<< HEAD
   "execution_count": 17,
   "id": "0c6607b1",
   "metadata": {
    "ExecuteTime": {
     "end_time": "2022-01-12T21:35:05.277369Z",
     "start_time": "2022-01-12T21:35:05.253894Z"
    }
   },
   "outputs": [
    {
     "data": {
      "text/html": [
       "<div>\n",
       "<style scoped>\n",
       "    .dataframe tbody tr th:only-of-type {\n",
       "        vertical-align: middle;\n",
       "    }\n",
       "\n",
       "    .dataframe tbody tr th {\n",
       "        vertical-align: top;\n",
       "    }\n",
       "\n",
       "    .dataframe thead th {\n",
       "        text-align: right;\n",
       "    }\n",
       "</style>\n",
       "<table border=\"1\" class=\"dataframe\">\n",
       "  <thead>\n",
       "    <tr style=\"text-align: right;\">\n",
       "      <th></th>\n",
       "      <th>exchange_id</th>\n",
       "      <th>currency_pair</th>\n",
       "      <th>min_timestamp</th>\n",
       "      <th>max_timestamp</th>\n",
       "      <th>n_data_points</th>\n",
       "      <th>coverage</th>\n",
       "      <th>days_available</th>\n",
       "      <th>avg_data_points_per_day</th>\n",
       "      <th>longest_not_nan_seq_days</th>\n",
       "      <th>longest_not_nan_seq_perc</th>\n",
       "      <th>longest_not_nan_seq_start_date</th>\n",
       "      <th>longest_not_nan_seq_end_date</th>\n",
       "      <th>vendor</th>\n",
       "    </tr>\n",
       "  </thead>\n",
       "  <tbody>\n",
       "    <tr>\n",
       "      <th>0</th>\n",
       "      <td>binance</td>\n",
       "      <td>ADA_USDT</td>\n",
       "      <td>2018-08-17 00:00:00+00:00</td>\n",
       "      <td>2021-09-16 09:19:00+00:00</td>\n",
       "      <td>1617480</td>\n",
       "      <td>99.721332</td>\n",
       "      <td>1126</td>\n",
       "      <td>1436.483126</td>\n",
       "      <td>155</td>\n",
       "      <td>13.762639</td>\n",
       "      <td>2020-06-28 05:30:00+00:00</td>\n",
       "      <td>2020-11-30 05:59:00+00:00</td>\n",
       "      <td>CCXT</td>\n",
       "    </tr>\n",
       "    <tr>\n",
       "      <th>1</th>\n",
       "      <td>binance</td>\n",
       "      <td>EOS_USDT</td>\n",
       "      <td>2018-08-17 00:00:00+00:00</td>\n",
       "      <td>2021-09-16 16:43:00+00:00</td>\n",
       "      <td>1617924</td>\n",
       "      <td>99.721408</td>\n",
       "      <td>1126</td>\n",
       "      <td>1436.877442</td>\n",
       "      <td>155</td>\n",
       "      <td>13.758872</td>\n",
       "      <td>2020-06-28 05:30:00+00:00</td>\n",
       "      <td>2020-11-30 05:59:00+00:00</td>\n",
       "      <td>CCXT</td>\n",
       "    </tr>\n",
       "    <tr>\n",
       "      <th>2</th>\n",
       "      <td>binance</td>\n",
       "      <td>ETH_USDT</td>\n",
       "      <td>2018-08-17 00:00:00+00:00</td>\n",
       "      <td>2021-09-14 22:08:00+00:00</td>\n",
       "      <td>1615369</td>\n",
       "      <td>99.720969</td>\n",
       "      <td>1124</td>\n",
       "      <td>1437.161032</td>\n",
       "      <td>155</td>\n",
       "      <td>13.780574</td>\n",
       "      <td>2020-06-28 05:30:00+00:00</td>\n",
       "      <td>2020-11-30 05:59:00+00:00</td>\n",
       "      <td>CCXT</td>\n",
       "    </tr>\n",
       "  </tbody>\n",
       "</table>\n",
       "</div>"
      ],
      "text/plain": [
       "  exchange_id currency_pair             min_timestamp             max_timestamp n_data_points   coverage days_available avg_data_points_per_day longest_not_nan_seq_days longest_not_nan_seq_perc longest_not_nan_seq_start_date longest_not_nan_seq_end_date vendor\n",
       "0     binance      ADA_USDT 2018-08-17 00:00:00+00:00 2021-09-16 09:19:00+00:00       1617480  99.721332           1126             1436.483126                      155                13.762639      2020-06-28 05:30:00+00:00    2020-11-30 05:59:00+00:00   CCXT\n",
       "1     binance      EOS_USDT 2018-08-17 00:00:00+00:00 2021-09-16 16:43:00+00:00       1617924  99.721408           1126             1436.877442                      155                13.758872      2020-06-28 05:30:00+00:00    2020-11-30 05:59:00+00:00   CCXT\n",
       "2     binance      ETH_USDT 2018-08-17 00:00:00+00:00 2021-09-14 22:08:00+00:00       1615369  99.720969           1124             1437.161032                      155                13.780574      2020-06-28 05:30:00+00:00    2020-11-30 05:59:00+00:00   CCXT"
      ]
     },
     "execution_count": 17,
     "metadata": {},
     "output_type": "execute_result"
    }
   ],
=======
=======
>>>>>>> 2e3d20ff1410ce309fd8f69c17507ecbcff111e9
   "execution_count": null,
   "id": "0c6607b1",
   "metadata": {
    "ExecuteTime": {
     "start_time": "2022-01-14T10:07:01.073Z"
    }
   },
   "outputs": [],
<<<<<<< HEAD
>>>>>>> master
=======
>>>>>>> 2e3d20ff1410ce309fd8f69c17507ecbcff111e9
   "source": [
    "ccxt_start_end_table.head(3)"
   ]
  },
  {
   "cell_type": "markdown",
   "id": "239134f1",
   "metadata": {},
   "source": [
    "### Display the union results"
   ]
  },
  {
   "cell_type": "code",
   "execution_count": null,
   "id": "20270440",
   "metadata": {
    "ExecuteTime": {
     "start_time": "2022-01-14T10:07:01.077Z"
    }
   },
   "outputs": [],
   "source": [
    "def unify_start_end_tables(\n",
    "    cdd_df: pd.DataFrame, ccxt_df: pd.DataFrame\n",
    ") -> pd.DataFrame:\n",
    "    \"\"\"\n",
    "    Combine 'CCXT' and 'CDD' start-end stats tables into one table.\n",
    "\n",
    "    :param cdd_df: start-end table for 'CCXT'\n",
    "    :param ccxt_df: start-end table for 'CDD'\n",
    "    :return: unified start-end table\n",
    "    \"\"\"\n",
    "    # Set Multiindex.\n",
    "    cdd_df = cdd_df.set_index([\"exchange_id\", \"currency_pair\"])\n",
    "    ccxt_df = ccxt_df.set_index([\"exchange_id\", \"currency_pair\"])\n",
    "    # Add suffixes.\n",
    "    ccxt_df = ccxt_df.add_suffix(\"_ccxt\")\n",
    "    cdd_df = cdd_df.add_suffix(\"_cdd\")\n",
    "    # Combine two universes.\n",
    "    ccxt_and_cdd = pd.concat([cdd_df, ccxt_df], axis=1)\n",
    "    # Sort columns.\n",
    "    cols_to_sort = ccxt_and_cdd.columns.to_list()\n",
    "    ccxt_and_cdd = ccxt_and_cdd[sorted(cols_to_sort)]\n",
    "    return ccxt_and_cdd"
   ]
  },
  {
   "cell_type": "code",
   "execution_count": null,
   "id": "ef07f325",
   "metadata": {
    "ExecuteTime": {
     "start_time": "2022-01-14T10:07:01.081Z"
    }
   },
   "outputs": [],
   "source": [
    "union_cdd_ccxt_stats = unify_start_end_tables(\n",
    "    cdd_start_end_table, ccxt_start_end_table\n",
    ")\n",
    "display(union_cdd_ccxt_stats)"
   ]
  },
  {
   "cell_type": "markdown",
   "id": "5ec25d15",
   "metadata": {},
   "source": [
    "## Comparison of full symbols that are included in 'CDD' but not available in 'CCXT'"
   ]
  },
  {
   "cell_type": "code",
   "execution_count": null,
   "id": "ce8fec83",
   "metadata": {
    "ExecuteTime": {
     "start_time": "2022-01-14T10:07:01.085Z"
    },
    "scrolled": true
   },
   "outputs": [],
   "source": [
    "# Set of full symbols that are included in 'CDD' but not available in 'CCXT' (cleaned from unavailable full symbols).\n",
    "cdd_and_not_ccxt_cleaned = set(cdd_universe).difference(ccxt_universe)\n",
    "len(cdd_and_not_ccxt_cleaned)"
   ]
  },
  {
   "cell_type": "code",
   "execution_count": null,
   "id": "a8353ecf",
   "metadata": {
    "ExecuteTime": {
     "start_time": "2022-01-14T10:07:01.090Z"
    }
   },
   "outputs": [],
   "source": [
    "# For 'avg_data_points_per_day' the amount of \"days_available\" is equal to 0, so it crashes the calculations.\n",
    "cdd_and_not_ccxt_cleaned.remove(\"binance::DAI_USDT\")"
   ]
  },
  {
   "cell_type": "code",
   "execution_count": null,
   "id": "51fd702d",
   "metadata": {
    "ExecuteTime": {
     "start_time": "2022-01-14T10:07:01.095Z"
    },
    "scrolled": true
   },
   "outputs": [],
   "source": [
    "compute_start_end_stats = lambda data: ramccsta.compute_start_end_stats(\n",
    "    data, config_cdd\n",
    ")\n",
    "\n",
    "cdd_unique_start_end_table = ramccsta.compute_stats_for_universe(\n",
    "    cdd_and_not_ccxt_cleaned, config_cdd, compute_start_end_stats\n",
    ")"
   ]
  },
  {
   "cell_type": "code",
   "execution_count": null,
   "id": "4a159676",
   "metadata": {
    "ExecuteTime": {
     "start_time": "2022-01-14T10:07:01.100Z"
    }
   },
   "outputs": [],
   "source": [
    "display(cdd_unique_start_end_table)"
   ]
  }
 ],
 "metadata": {
  "jupytext": {
   "text_representation": {
    "extension": ".py",
    "format_name": "percent",
    "format_version": "1.3",
    "jupytext_version": "1.13.5"
   }
  },
  "kernelspec": {
   "display_name": "Python 3 (ipykernel)",
   "language": "python",
   "name": "python3"
  },
  "language_info": {
   "codemirror_mode": {
    "name": "ipython",
    "version": 3
   },
   "file_extension": ".py",
   "mimetype": "text/x-python",
   "name": "python",
   "nbconvert_exporter": "python",
   "pygments_lexer": "ipython3",
   "version": "3.8.10"
  },
  "toc": {
   "base_numbering": 1,
   "nav_menu": {},
   "number_sections": true,
   "sideBar": true,
   "skip_h1_title": false,
   "title_cell": "Table of Contents",
   "title_sidebar": "Contents",
   "toc_cell": false,
   "toc_position": {},
   "toc_section_display": true,
   "toc_window_display": false
  }
 },
 "nbformat": 4,
 "nbformat_minor": 5
}
