{
 "cells": [
  {
   "cell_type": "markdown",
   "id": "2d5b9812",
   "metadata": {},
   "source": [
    "# Imports"
   ]
  },
  {
   "cell_type": "code",
   "execution_count": null,
   "id": "df02857b",
   "metadata": {},
   "outputs": [],
   "source": [
    "import logging\n",
    "import os\n",
    "\n",
    "import pandas as pd\n",
    "\n",
    "import core.config.config_ as cconconf\n",
    "import helpers.hdbg as hdbg\n",
    "import helpers.henv as henv\n",
    "import helpers.hprint as hprint\n",
    "import helpers.hs3 as hs3\n",
    "import im_v2.ccxt.data.client as icdcl\n",
    "import im_v2.ccxt.universe.universe as imvccunun\n",
    "import research_amp.cc.statistics as ramccsta"
   ]
  },
  {
   "cell_type": "code",
   "execution_count": null,
   "id": "e2f361e4",
   "metadata": {
    "lines_to_next_cell": 1
   },
   "outputs": [],
   "source": [
    "hdbg.init_logger(verbosity=logging.INFO)\n",
    "\n",
    "_LOG = logging.getLogger(__name__)\n",
    "\n",
    "_LOG.info(\"%s\", henv.get_system_signature()[0])\n",
    "\n",
    "hprint.config_notebook()\n",
    "\n",
    "AM_AWS_PROFILE = \"am\""
   ]
  },
  {
   "cell_type": "markdown",
   "id": "556c6b2b",
   "metadata": {},
   "source": [
    "# Configs"
   ]
  },
  {
   "cell_type": "code",
   "execution_count": null,
   "id": "36e03497",
   "metadata": {},
   "outputs": [],
   "source": [
    "# Generate configs for `CDD` and `CCXT`."
   ]
  },
  {
   "cell_type": "code",
   "execution_count": null,
   "id": "faad3a0a",
   "metadata": {},
   "outputs": [],
   "source": [
    "def get_cmtask324_config_ccxt() -> cconconf.Config:\n",
    "    \"\"\"\n",
    "    Get task232-specific config.\n",
    "    \"\"\"\n",
    "    config = cconconf.Config()\n",
    "    # Load parameters.\n",
    "    config.add_subconfig(\"load\")\n",
    "    config[\"load\"][\"aws_profile\"] = AM_AWS_PROFILE\n",
    "    config[\"load\"][\"data_dir\"] = os.path.join(\n",
    "        hs3.get_s3_bucket_path(AM_AWS_PROFILE), \"data\"\n",
    "    )\n",
    "    # Data parameters.\n",
    "    config.add_subconfig(\"data\")\n",
    "    config[\"data\"][\"target_frequency\"] = \"T\"\n",
    "    config[\"data\"][\"universe_version\"] = \"v03\"\n",
    "    config[\"data\"][\"vendor\"] = \"CCXT\"\n",
    "    config[\"data\"][\"extension\"] = \"csv.gz\"\n",
    "    # Column names.\n",
    "    config.add_subconfig(\"column_names\")\n",
    "    config[\"column_names\"][\"close_price\"] = \"close\"\n",
    "    config[\"column_names\"][\"currency_pair\"] = \"currency_pair\"\n",
    "    config[\"column_names\"][\"exchange_id\"] = \"exchange_id\"\n",
    "    return config"
   ]
  },
  {
   "cell_type": "code",
   "execution_count": null,
   "id": "7938181f",
   "metadata": {},
   "outputs": [],
   "source": [
    "config_ccxt = get_cmtask324_config_ccxt()\n",
    "print(config_ccxt)"
   ]
  },
  {
   "cell_type": "code",
   "execution_count": null,
   "id": "a50f2134",
   "metadata": {},
   "outputs": [],
   "source": [
    "def get_cmtask324_config_cdd() -> cconconf.Config:\n",
    "    \"\"\"\n",
    "    Get task324-specific config.\n",
    "    \"\"\"\n",
    "    config = cconconf.Config()\n",
    "    # Load parameters.\n",
    "    config.add_subconfig(\"load\")\n",
    "    config[\"load\"][\"aws_profile\"] = AM_AWS_PROFILE\n",
    "    config[\"load\"][\"data_dir\"] = os.path.join(\n",
    "        hs3.get_s3_bucket_path(AM_AWS_PROFILE), \"data\"\n",
    "    )\n",
    "    # Data parameters.\n",
    "    config.add_subconfig(\"data\")\n",
    "    config[\"data\"][\"target_frequency\"] = \"T\"\n",
    "    config[\"data\"][\"universe_version\"] = \"v01\"\n",
    "    config[\"data\"][\"vendor\"] = \"CDD\"\n",
    "    config[\"data\"][\"extension\"] = \"csv.gz\"\n",
    "    # Column names.\n",
    "    config.add_subconfig(\"column_names\")\n",
    "    config[\"column_names\"][\"close_price\"] = \"close\"\n",
    "    config[\"column_names\"][\"currency_pair\"] = \"currency_pair\"\n",
    "    config[\"column_names\"][\"exchange_id\"] = \"exchange_id\"\n",
    "    return config"
   ]
  },
  {
   "cell_type": "code",
   "execution_count": null,
   "id": "793ba0b7",
   "metadata": {},
   "outputs": [],
   "source": [
    "config_cdd = get_cmtask324_config_cdd()\n",
    "print(config_cdd)"
   ]
  },
  {
   "cell_type": "markdown",
   "id": "51702034",
   "metadata": {},
   "source": [
    "# Load the data universe"
   ]
  },
  {
   "cell_type": "markdown",
   "id": "70420724",
   "metadata": {},
   "source": [
    "## CCXT"
   ]
  },
  {
   "cell_type": "code",
   "execution_count": null,
   "id": "d15816d5",
   "metadata": {},
   "outputs": [],
   "source": [
    "ccxt_universe = imvccunun.get_vendor_universe(version=\"v3\")"
   ]
  },
  {
   "cell_type": "markdown",
   "id": "b178b946",
   "metadata": {},
   "source": [
    "## CDD"
   ]
  },
  {
   "cell_type": "code",
   "execution_count": null,
   "id": "a45e3fad",
   "metadata": {
    "run_control": {
     "marked": false
    }
   },
   "outputs": [],
   "source": [
    "# TODO(Juraj): this got deprecated with #CmTask1493 and #CmTask1487\n",
    "cdd_universe = imvccunun.get_vendor_universe(version=\"v01\", vendor=\"CDD\")\n",
    "# Remove non-USDT elements, since we are not interested in them.\n",
    "cdd_universe = [element for element in cdd_universe if element.endswith(\"USDT\")]"
   ]
  },
  {
   "cell_type": "markdown",
   "id": "821f2129",
   "metadata": {},
   "source": [
    "# Compare universes"
   ]
  },
  {
   "cell_type": "code",
   "execution_count": null,
   "id": "23220816",
   "metadata": {},
   "outputs": [],
   "source": [
    "_LOG.info(\"Number of full symbols in 'CCXT': %s\", len(ccxt_universe))\n",
    "_LOG.info(\"Number of full symbols in 'CDD': %s\", len(cdd_universe))"
   ]
  },
  {
   "cell_type": "code",
   "execution_count": null,
   "id": "158481db",
   "metadata": {},
   "outputs": [],
   "source": [
    "# Intersection of full symbols between two vendors.\n",
    "currency_pair_intersection = set(ccxt_universe).intersection(cdd_universe)\n",
    "_LOG.info(\"Number of similar full symbols: %s\", len(currency_pair_intersection))\n",
    "display(currency_pair_intersection)"
   ]
  },
  {
   "cell_type": "code",
   "execution_count": null,
   "id": "a72f1f1f",
   "metadata": {},
   "outputs": [],
   "source": [
    "# Full symbols that are included in `CCXT` but not in `CDD`.\n",
    "ccxt_and_not_cdd = set(ccxt_universe).difference(cdd_universe)\n",
    "_LOG.info(\n",
    "    \"Number of full symbols that are included in 'CCXT' but not in 'CDD': %s\",\n",
    "    len(ccxt_and_not_cdd),\n",
    ")\n",
    "display(ccxt_and_not_cdd)"
   ]
  },
  {
   "cell_type": "code",
   "execution_count": null,
   "id": "0523b1b7",
   "metadata": {},
   "outputs": [],
   "source": [
    "# Full symbols that are included in `CDD` but not in `CCXT`.\n",
    "cdd_and_not_ccxt = set(cdd_universe).difference(ccxt_universe)\n",
    "_LOG.info(\n",
    "    \"Number of full symbols that are included in 'CDD' but not in 'CCXT': %s\",\n",
    "    len(cdd_and_not_ccxt),\n",
    ")\n",
    "display(cdd_and_not_ccxt)"
   ]
  },
  {
   "cell_type": "markdown",
   "id": "06969925",
   "metadata": {},
   "source": [
    "# Compare close prices / returns from Binance"
   ]
  },
  {
   "cell_type": "markdown",
   "id": "65eb6a58",
   "metadata": {},
   "source": [
    "## Load the data"
   ]
  },
  {
   "cell_type": "markdown",
   "id": "ae3f24d9",
   "metadata": {},
   "source": [
    "The code below can be used to load all the existing data from two vendors `CDD` and `CCXT`. Current version is specified to Binance only, however, even for one exchange there's too many data to operate, that's why the output is the intersection of currency pairs between to universe, since one can compare only the intersection of currency pairs for two vendors."
   ]
  },
  {
   "cell_type": "code",
   "execution_count": null,
   "id": "be827c12",
   "metadata": {},
   "outputs": [],
   "source": [
    "# Load Binance-specific universe for `CCXT`.\n",
    "ccxt_binance_universe = [\n",
    "    element for element in ccxt_universe if element.startswith(\"binance\")\n",
    "]\n",
    "# Load Binnance-specific universe for `CDD`.\n",
    "cdd_binance_universe_initial = [\n",
    "    element for element in cdd_universe if element.startswith(\"binance\")\n",
    "]\n",
    "cdd_binance_universe = cdd_binance_universe_initial.copy()\n",
    "# SCU_USDT has incorrect columns, so can not be downloaded.\n",
    "# See CMTask244 - Cannot load CDD - binance - SCU/USDT from s3 for the reference.\n",
    "cdd_binance_universe.remove(\"binance::SCU_USDT\")\n",
    "# The intersection of Binance currency pairs from two universes.\n",
    "currency_pair_intersection_binance = set(ccxt_binance_universe).intersection(\n",
    "    cdd_binance_universe_initial\n",
    ")"
   ]
  },
  {
   "cell_type": "markdown",
   "id": "4d6292bb",
   "metadata": {},
   "source": [
    "### \"CDD\""
   ]
  },
  {
   "cell_type": "code",
   "execution_count": null,
   "id": "1828e492",
   "metadata": {},
   "outputs": [],
   "source": [
    "vendor_cdd = config_cdd[\"data\"][\"vendor\"]\n",
    "universe_version = \"v3\"\n",
    "resample_1min = True\n",
    "root_dir_cdd = config_cdd[\"load\"][\"data_dir\"]\n",
    "extension_cdd = config[\"data\"][\"extension\"]\n",
    "aws_profile_cdd = config_cdd[\"load\"][\"aws_profile\"]\n",
    "cdd_csv_client = icdcl.CcxtCddCsvParquetByAssetClient(\n",
    "    vendor_cdd,\n",
    "    universe_version,\n",
    "    resample_1min,\n",
    "    root_dir_cdd,\n",
    "    extension_cdd,\n",
    "    aws_profile=aws_profile_cdd,\n",
    ")\n",
    "\n",
    "start_ts = None\n",
    "end_ts = None\n",
    "cdd_binance_df = cdd_csv_client.read_data(\n",
    "    list(currency_pair_intersection_binance),\n",
    "    start_ts,\n",
    "    end_ts,\n",
    ")"
   ]
  },
  {
   "cell_type": "code",
   "execution_count": null,
   "id": "ab156e6d",
   "metadata": {},
   "outputs": [],
   "source": [
    "display(cdd_binance_df.head(3))\n",
    "display(cdd_binance_df.shape)"
   ]
  },
  {
   "cell_type": "markdown",
   "id": "4fbdace0",
   "metadata": {},
   "source": [
    "### \"CCXT\""
   ]
  },
  {
   "cell_type": "code",
   "execution_count": null,
   "id": "948765b9",
   "metadata": {},
   "outputs": [],
   "source": [
    "vendor_ccxt = config_ccxt[\"data\"][\"vendor\"]\n",
    "universe_version = \"v3\"\n",
    "resample_1min = True\n",
    "root_dir_ccxt = config_ccxt[\"load\"][\"data_dir\"]\n",
    "extension_ccxt = config[\"data\"][\"extension\"]\n",
    "aws_profile_ccxt = config_ccxt[\"load\"][\"aws_profile\"]\n",
    "ccxt_csv_client = icdcl.CcxtCddCsvParquetByAssetClient(\n",
    "    vendor_ccxt,\n",
    "    universe_version,\n",
    "    resample_1min,\n",
    "    root_dir_ccxt,\n",
    "    extension_ccxt,\n",
    "    aws_profile=aws_profile_ccxt,\n",
    ")\n",
    "\n",
    "start_ts = None\n",
    "end_ts = None\n",
    "ccxt_binance_df = ccxt_csv_client.read_data(\n",
    "    list(currency_pair_intersection_binance),\n",
    "    start_ts,\n",
    "    end_ts,\n",
    ")"
   ]
  },
  {
   "cell_type": "code",
   "execution_count": null,
   "id": "9e98f749",
   "metadata": {},
   "outputs": [],
   "source": [
    "display(ccxt_binance_df.head(3))\n",
    "display(ccxt_binance_df.shape)"
   ]
  },
  {
   "cell_type": "markdown",
   "id": "34ce5bd1",
   "metadata": {},
   "source": [
    "## Calculate returns and correlation"
   ]
  },
  {
   "cell_type": "code",
   "execution_count": null,
   "id": "c01e0a5f",
   "metadata": {},
   "outputs": [],
   "source": [
    "def resample_close_price(df: pd.DataFrame, resampling_freq: str) -> pd.Series:\n",
    "    \"\"\"\n",
    "    Resample close price on the currency level to the specified frequency using\n",
    "    the last close price.\n",
    "\n",
    "    :param df: OHLCV data\n",
    "    :param resampling_freq: frequency from `pd.date_range()` to resample to\n",
    "    :return: resampled close price per currency\n",
    "    \"\"\"\n",
    "    # Reseting DateTime index, since pd.Grouper can't use index values.\n",
    "    df = df.reset_index().rename(columns={\"index\": \"stamp\"})\n",
    "    # Group by currency pairs and simultaneously resample to the desired frequency.\n",
    "    resampler = df.groupby(\n",
    "        [\"currency_pair\", pd.Grouper(key=\"timestamp\", freq=resampling_freq)]\n",
    "    )\n",
    "    # Take the last close value from each resampling period.\n",
    "    close_series = resampler.close.last()\n",
    "    return close_series"
   ]
  },
  {
   "cell_type": "code",
   "execution_count": null,
   "id": "e2e7ae9f",
   "metadata": {},
   "outputs": [],
   "source": [
    "def calculate_correlations(\n",
    "    ccxt_close_price: pd.Series, cdd_close_price: pd.Series, compute_returns: bool\n",
    ") -> pd.DataFrame:\n",
    "    \"\"\"\n",
    "    Take CCXT and CDD close prices and calculate the correlations for each\n",
    "    specific currency pair.\n",
    "\n",
    "    :param ccxt_series: resampled close price per currency for CCXT\n",
    "    :param cdd_series: resampled close price per currency for CDD\n",
    "    :param compute_returns: if True - compare returns, if False - compare close prices\n",
    "    :return: correlation matrix per currency\n",
    "    \"\"\"\n",
    "    if compute_returns:\n",
    "        # Group by currency pairs in order to calculate the percentage returns.\n",
    "        grouper_cdd = cdd_close_price.groupby(\"currency_pair\")\n",
    "        cdd_close_price = grouper_cdd.pct_change()\n",
    "        grouper_ccxt = ccxt_close_price.groupby(\"currency_pair\")\n",
    "        ccxt_close_price = grouper_ccxt.pct_change()\n",
    "    # Combine and calculate correlations.\n",
    "    combined = pd.merge(\n",
    "        cdd_close_price, ccxt_close_price, left_index=True, right_index=True\n",
    "    )\n",
    "    # Rename the columns.\n",
    "    if compute_returns:\n",
    "        combined.columns = [\"ccxt_returns\", \"cdd_returns\"]\n",
    "    else:\n",
    "        combined.columns = [\"cdd_close\", \"ccxt_close\"]\n",
    "    # Group by again to calculte returns correlation for each currency pair.\n",
    "    corr_matrix = combined.groupby(level=0).corr()\n",
    "    return corr_matrix"
   ]
  },
  {
   "cell_type": "code",
   "execution_count": null,
   "id": "975b1df0",
   "metadata": {},
   "outputs": [],
   "source": [
    "# Corresponding resampled Series.\n",
    "daily_frequency = \"1D\"\n",
    "ccxt_binance_series_1d = resample_close_price(ccxt_binance_df, daily_frequency)\n",
    "cdd_binance_series_1d = resample_close_price(cdd_binance_df, daily_frequency)\n",
    "\n",
    "five_min_frequency = \"5min\"\n",
    "ccxt_binance_series_5min = resample_close_price(\n",
    "    ccxt_binance_df, five_min_frequency\n",
    ")\n",
    "cdd_binance_series_5min = resample_close_price(cdd_binance_df, five_min_frequency)"
   ]
  },
  {
   "cell_type": "markdown",
   "id": "c56c9d1e",
   "metadata": {},
   "source": [
    "### 1-day returns"
   ]
  },
  {
   "cell_type": "code",
   "execution_count": null,
   "id": "3af8f847",
   "metadata": {},
   "outputs": [],
   "source": [
    "compute_returns = True\n",
    "returns_corr_1day = calculate_correlations(\n",
    "    ccxt_binance_series_1d, cdd_binance_series_1d, compute_returns\n",
    ")\n",
    "display(returns_corr_1day)"
   ]
  },
  {
   "cell_type": "markdown",
   "id": "a5d24740",
   "metadata": {},
   "source": [
    "### 5-min returns"
   ]
  },
  {
   "cell_type": "code",
   "execution_count": null,
   "id": "4c69e461",
   "metadata": {},
   "outputs": [],
   "source": [
    "compute_returns = True\n",
    "returns_corr_5min = calculate_correlations(\n",
    "    ccxt_binance_series_5min, cdd_binance_series_5min, compute_returns\n",
    ")\n",
    "display(returns_corr_5min)"
   ]
  },
  {
   "cell_type": "markdown",
   "id": "1d22eca0",
   "metadata": {},
   "source": [
    "## Compare close prices"
   ]
  },
  {
   "cell_type": "markdown",
   "id": "28de3b77",
   "metadata": {},
   "source": [
    "### 1-day close prices"
   ]
  },
  {
   "cell_type": "code",
   "execution_count": null,
   "id": "8014b363",
   "metadata": {},
   "outputs": [],
   "source": [
    "compute_returns = False\n",
    "close_corr_1day = calculate_correlations(\n",
    "    ccxt_binance_series_1d, cdd_binance_series_1d, compute_returns\n",
    ")\n",
    "display(close_corr_1day)"
   ]
  },
  {
   "cell_type": "markdown",
   "id": "d4f366b3",
   "metadata": {},
   "source": [
    "### 5-min close prices"
   ]
  },
  {
   "cell_type": "code",
   "execution_count": null,
   "id": "06d58513",
   "metadata": {},
   "outputs": [],
   "source": [
    "compute_returns = False\n",
    "close_corr_5min = calculate_correlations(\n",
    "    ccxt_binance_series_5min, cdd_binance_series_5min, compute_returns\n",
    ")\n",
    "display(close_corr_5min)"
   ]
  },
  {
   "cell_type": "markdown",
   "id": "e4990d15",
   "metadata": {},
   "source": [
    "# Statistical properties of a full symbol in CDD"
   ]
  },
  {
   "cell_type": "code",
   "execution_count": null,
   "id": "d39f6575",
   "metadata": {},
   "outputs": [],
   "source": [
    "# Clearing `CDD` currency pairs that are incorrect.\n",
    "\n",
    "# Binance.\n",
    "cdd_universe.remove(\"binance::SCU_USDT\")\n",
    "\n",
    "# FTX has some critical mistakes in the downloading process, so can not continue analysis with them.\n",
    "# see CMTask801 - Downloading issues of FTX exchange from 'CDD' universe for further reference.\n",
    "cdd_ftx_universe = [\n",
    "    element for element in cdd_universe if element.startswith(\"ftx\")\n",
    "]\n",
    "for elem in cdd_ftx_universe:\n",
    "    cdd_universe.remove(elem)\n",
    "\n",
    "# Kucoin exchange: the timestamps are obviously wrong and with too short time period.\n",
    "# See CMTask253 - Fix timestamp for CDD - kucoin for reference.\n",
    "cdd_kucoin_universe = [\n",
    "    element for element in cdd_universe if element.startswith(\"kucoin\")\n",
    "]\n",
    "for elem in cdd_kucoin_universe:\n",
    "    cdd_universe.remove(elem)"
   ]
  },
  {
   "cell_type": "markdown",
   "id": "001554a6",
   "metadata": {},
   "source": [
    "## Comparison of intersection of full symbols between 'CCXT' and 'CDD'"
   ]
  },
  {
   "cell_type": "code",
   "execution_count": null,
   "id": "59007146",
   "metadata": {},
   "outputs": [],
   "source": [
    "# Full symbols that are included in `CDD` but not in `CCXT` (cleaned from unavailable full symbols).\n",
    "cdd_and_ccxt_cleaned = set(ccxt_universe).intersection(cdd_universe)\n",
    "len(cdd_and_ccxt_cleaned)"
   ]
  },
  {
   "cell_type": "markdown",
   "id": "6f2b83d7",
   "metadata": {},
   "source": [
    "### Load the intersection of full symbols for 'CDD' and 'CCXT'"
   ]
  },
  {
   "cell_type": "markdown",
   "id": "fee49b32",
   "metadata": {},
   "source": [
    "#### CDD"
   ]
  },
  {
   "cell_type": "code",
   "execution_count": null,
   "id": "e9c1b048",
   "metadata": {},
   "outputs": [],
   "source": [
    "compute_start_end_stats = lambda data: ramccsta.compute_start_end_stats(\n",
    "    data, config_cdd\n",
    ")\n",
    "\n",
    "cdd_start_end_table = ramccsta.compute_stats_for_universe(\n",
    "    cdd_and_ccxt_cleaned, config_cdd, compute_start_end_stats\n",
    ")"
   ]
  },
  {
   "cell_type": "code",
   "execution_count": null,
   "id": "55437ec2",
   "metadata": {},
   "outputs": [],
   "source": [
    "cdd_start_end_table.head(3)"
   ]
  },
  {
   "cell_type": "markdown",
   "id": "88facaca",
   "metadata": {},
   "source": [
    "#### CCXT"
   ]
  },
  {
   "cell_type": "code",
   "execution_count": null,
   "id": "e28dc238",
   "metadata": {},
   "outputs": [],
   "source": [
    "compute_start_end_stats = lambda data: ramccsta.compute_start_end_stats(\n",
    "    data, config_ccxt\n",
    ")\n",
    "\n",
    "ccxt_start_end_table = ramccsta.compute_stats_for_universe(\n",
    "    cdd_and_ccxt_cleaned, config_ccxt, compute_start_end_stats\n",
    ")"
   ]
  },
  {
   "cell_type": "code",
   "execution_count": null,
   "id": "0c6607b1",
   "metadata": {},
   "outputs": [],
   "source": [
    "ccxt_start_end_table.head(3)"
   ]
  },
  {
   "cell_type": "markdown",
   "id": "239134f1",
   "metadata": {},
   "source": [
    "### Display the union results"
   ]
  },
  {
   "cell_type": "code",
   "execution_count": null,
   "id": "20270440",
   "metadata": {},
   "outputs": [],
   "source": [
    "def unify_start_end_tables(\n",
    "    cdd_df: pd.DataFrame, ccxt_df: pd.DataFrame\n",
    ") -> pd.DataFrame:\n",
    "    \"\"\"\n",
    "    Combine 'CCXT' and 'CDD' start-end stats tables into one table.\n",
    "\n",
    "    :param cdd_df: start-end table for 'CCXT'\n",
    "    :param ccxt_df: start-end table for 'CDD'\n",
    "    :return: unified start-end table\n",
    "    \"\"\"\n",
    "    # Set Multiindex.\n",
    "    cdd_df = cdd_df.set_index([\"exchange_id\", \"currency_pair\"])\n",
    "    ccxt_df = ccxt_df.set_index([\"exchange_id\", \"currency_pair\"])\n",
    "    # Add suffixes.\n",
    "    ccxt_df = ccxt_df.add_suffix(\"_ccxt\")\n",
    "    cdd_df = cdd_df.add_suffix(\"_cdd\")\n",
    "    # Combine two universes.\n",
    "    ccxt_and_cdd = pd.concat([cdd_df, ccxt_df], axis=1)\n",
    "    # Sort columns.\n",
    "    cols_to_sort = ccxt_and_cdd.columns.to_list()\n",
    "    ccxt_and_cdd = ccxt_and_cdd[sorted(cols_to_sort)]\n",
    "    return ccxt_and_cdd"
   ]
  },
  {
   "cell_type": "code",
   "execution_count": null,
   "id": "ef07f325",
   "metadata": {},
   "outputs": [],
   "source": [
    "union_cdd_ccxt_stats = unify_start_end_tables(\n",
    "    cdd_start_end_table, ccxt_start_end_table\n",
    ")\n",
    "display(union_cdd_ccxt_stats)"
   ]
  },
  {
   "cell_type": "markdown",
   "id": "5ec25d15",
   "metadata": {},
   "source": [
    "## Comparison of full symbols that are included in 'CDD' but not available in 'CCXT'"
   ]
  },
  {
   "cell_type": "code",
   "execution_count": null,
   "id": "ce8fec83",
   "metadata": {},
   "outputs": [],
   "source": [
    "# Set of full symbols that are included in `CDD` but not available in `CCXT` (cleaned from unavailable full symbols).\n",
    "cdd_and_not_ccxt_cleaned = set(cdd_universe).difference(ccxt_universe)\n",
    "len(cdd_and_not_ccxt_cleaned)"
   ]
  },
  {
   "cell_type": "code",
   "execution_count": null,
   "id": "a8353ecf",
   "metadata": {},
   "outputs": [],
   "source": [
    "# For 'avg_data_points_per_day' the amount of \"days_available\" is equal to 0, so it crashes the calculations.\n",
    "cdd_and_not_ccxt_cleaned.remove(\"binance::DAI_USDT\")"
   ]
  },
  {
   "cell_type": "code",
   "execution_count": null,
   "id": "51fd702d",
   "metadata": {},
   "outputs": [],
   "source": [
    "compute_start_end_stats = lambda data: ramccsta.compute_start_end_stats(\n",
    "    data, config_cdd\n",
    ")\n",
    "\n",
    "cdd_unique_start_end_table = ramccsta.compute_stats_for_universe(\n",
    "    cdd_and_not_ccxt_cleaned, config_cdd, compute_start_end_stats\n",
    ")"
   ]
  },
  {
   "cell_type": "code",
   "execution_count": null,
   "id": "4a159676",
   "metadata": {},
   "outputs": [],
   "source": [
    "display(cdd_unique_start_end_table)"
   ]
  }
 ],
 "metadata": {
  "kernelspec": {
   "display_name": "Python 3 (ipykernel)",
   "language": "python",
   "name": "python3"
  },
  "language_info": {
   "codemirror_mode": {
    "name": "ipython",
    "version": 3
   },
   "file_extension": ".py",
   "mimetype": "text/x-python",
   "name": "python",
   "nbconvert_exporter": "python",
   "pygments_lexer": "ipython3"
  },
  "toc": {
   "base_numbering": 1,
   "nav_menu": {},
   "number_sections": true,
   "sideBar": true,
   "skip_h1_title": false,
   "title_cell": "Table of Contents",
   "title_sidebar": "Contents",
   "toc_cell": false,
   "toc_position": {},
   "toc_section_display": true,
   "toc_window_display": false
  }
 },
 "nbformat": 4,
 "nbformat_minor": 5
}
