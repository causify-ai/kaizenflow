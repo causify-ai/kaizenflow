{
 "cells": [
  {
   "cell_type": "code",
   "execution_count": 7,
   "id": "d1ff15cf",
   "metadata": {
    "ExecuteTime": {
     "end_time": "2023-06-12T20:59:27.829885Z",
     "start_time": "2023-06-12T20:59:27.773263Z"
    }
   },
   "outputs": [],
   "source": [
    "import ccxt\n",
    "import pandas as pd\n",
    "import unittest.mock as umock\n",
    "import im_v2.ccxt.data.extract.extractor as imvcdexex"
   ]
  },
  {
   "cell_type": "code",
   "execution_count": 8,
   "id": "8daa557b",
   "metadata": {
    "ExecuteTime": {
     "end_time": "2023-06-12T20:59:29.143810Z",
     "start_time": "2023-06-12T20:59:29.121615Z"
    }
   },
   "outputs": [],
   "source": [
    "original_ccxt = imvcdexex.ccxt"
   ]
  },
  {
   "cell_type": "code",
   "execution_count": 9,
   "id": "14352399",
   "metadata": {
    "ExecuteTime": {
     "end_time": "2023-06-12T20:59:30.112577Z",
     "start_time": "2023-06-12T20:59:30.092647Z"
    }
   },
   "outputs": [
    {
     "name": "stdout",
     "output_type": "stream",
     "text": [
      "<module 'ccxt' from '/venv/lib/python3.8/site-packages/ccxt/__init__.py'>\n"
     ]
    }
   ],
   "source": [
    "print(original_ccxt)"
   ]
  },
  {
   "cell_type": "code",
   "execution_count": 10,
   "id": "413952fe",
   "metadata": {
    "ExecuteTime": {
     "end_time": "2023-06-12T20:59:32.071448Z",
     "start_time": "2023-06-12T20:59:32.026536Z"
    }
   },
   "outputs": [],
   "source": [
    "# Mock ccxt here\n",
    "ccxt_patch = umock.patch.object(imvcdexex, \"ccxt\", spec=ccxt)\n",
    "ccxt_patch.start()\n",
    "\n",
    "current_ccxt = imvcdexex.ccxt"
   ]
  },
  {
   "cell_type": "code",
   "execution_count": 11,
   "id": "37ea2761",
   "metadata": {
    "ExecuteTime": {
     "end_time": "2023-06-12T20:59:34.290798Z",
     "start_time": "2023-06-12T20:59:34.272858Z"
    }
   },
   "outputs": [
    {
     "name": "stdout",
     "output_type": "stream",
     "text": [
      "<NonCallableMagicMock name='ccxt' spec='module' id='276948760128'>\n"
     ]
    }
   ],
   "source": [
    "print(current_ccxt)"
   ]
  },
  {
   "cell_type": "code",
   "execution_count": 12,
   "id": "b064cdf3",
   "metadata": {
    "ExecuteTime": {
     "end_time": "2023-06-12T21:02:50.118703Z",
     "start_time": "2023-06-12T21:02:48.198883Z"
    }
   },
   "outputs": [
    {
     "ename": "AssertionError",
     "evalue": "\n################################################################################\n* Failed assertion *\n'BTC/USDT' in '[]'\nCurrency pair is not present in exchange\n################################################################################\n",
     "output_type": "error",
     "traceback": [
      "\u001b[0;31m---------------------------------------------------------------------------\u001b[0m",
      "\u001b[0;31mAssertionError\u001b[0m                            Traceback (most recent call last)",
      "Cell \u001b[0;32mIn [12], line 4\u001b[0m\n\u001b[1;32m      2\u001b[0m start_timestamp \u001b[38;5;241m=\u001b[39m pd\u001b[38;5;241m.\u001b[39mTimestamp(\u001b[38;5;124m\"\u001b[39m\u001b[38;5;124m2022-02-24T00:00:00Z\u001b[39m\u001b[38;5;124m\"\u001b[39m)\n\u001b[1;32m      3\u001b[0m end_timestamp \u001b[38;5;241m=\u001b[39m pd\u001b[38;5;241m.\u001b[39mTimestamp(\u001b[38;5;124m\"\u001b[39m\u001b[38;5;124m2022-02-25T00:00:00Z\u001b[39m\u001b[38;5;124m\"\u001b[39m)\n\u001b[0;32m----> 4\u001b[0m ohlcv_data \u001b[38;5;241m=\u001b[39m \u001b[43mexchange_class\u001b[49m\u001b[38;5;241;43m.\u001b[39;49m\u001b[43m_download_ohlcv\u001b[49m\u001b[43m(\u001b[49m\n\u001b[1;32m      5\u001b[0m \u001b[43m                \u001b[49m\u001b[43mexchange_id\u001b[49m\u001b[38;5;241;43m=\u001b[39;49m\u001b[38;5;124;43m\"\u001b[39;49m\u001b[38;5;124;43mbinanceus\u001b[39;49m\u001b[38;5;124;43m\"\u001b[39;49m\u001b[43m,\u001b[49m\n\u001b[1;32m      6\u001b[0m \u001b[43m                \u001b[49m\u001b[43mcurrency_pair\u001b[49m\u001b[38;5;241;43m=\u001b[39;49m\u001b[38;5;124;43m\"\u001b[39;49m\u001b[38;5;124;43mBTC/USDT\u001b[39;49m\u001b[38;5;124;43m\"\u001b[39;49m\u001b[43m,\u001b[49m\n\u001b[1;32m      7\u001b[0m \u001b[43m                \u001b[49m\u001b[43mstart_timestamp\u001b[49m\u001b[38;5;241;43m=\u001b[39;49m\u001b[43mstart_timestamp\u001b[49m\u001b[43m,\u001b[49m\n\u001b[1;32m      8\u001b[0m \u001b[43m                \u001b[49m\u001b[43mend_timestamp\u001b[49m\u001b[38;5;241;43m=\u001b[39;49m\u001b[43mend_timestamp\u001b[49m\u001b[43m,\u001b[49m\n\u001b[1;32m      9\u001b[0m \u001b[43m                \u001b[49m\u001b[43mbar_per_iteration\u001b[49m\u001b[38;5;241;43m=\u001b[39;49m\u001b[38;5;241;43m500\u001b[39;49m\u001b[43m,\u001b[49m\n\u001b[1;32m     10\u001b[0m \u001b[43m            \u001b[49m\u001b[43m)\u001b[49m\n",
      "File \u001b[0;32m/app/im_v2/ccxt/data/extract/extractor.py:154\u001b[0m, in \u001b[0;36mCcxtExtractor._download_ohlcv\u001b[0;34m(self, exchange_id, currency_pair, start_timestamp, end_timestamp, bar_per_iteration, sleep_time_in_secs, **kwargs)\u001b[0m\n\u001b[1;32m    148\u001b[0m _ \u001b[38;5;241m=\u001b[39m exchange_id\n\u001b[1;32m    149\u001b[0m hdbg\u001b[38;5;241m.\u001b[39mdassert(\n\u001b[1;32m    150\u001b[0m     \u001b[38;5;28mself\u001b[39m\u001b[38;5;241m.\u001b[39m_sync_exchange\u001b[38;5;241m.\u001b[39mhas[\u001b[38;5;124m\"\u001b[39m\u001b[38;5;124mfetchOHLCV\u001b[39m\u001b[38;5;124m\"\u001b[39m],\n\u001b[1;32m    151\u001b[0m     \u001b[38;5;124m\"\u001b[39m\u001b[38;5;124mExchange \u001b[39m\u001b[38;5;132;01m%s\u001b[39;00m\u001b[38;5;124m doesn\u001b[39m\u001b[38;5;124m'\u001b[39m\u001b[38;5;124mt has fetch_ohlcv method\u001b[39m\u001b[38;5;124m\"\u001b[39m,\n\u001b[1;32m    152\u001b[0m     \u001b[38;5;28mself\u001b[39m\u001b[38;5;241m.\u001b[39m_sync_exchange,\n\u001b[1;32m    153\u001b[0m )\n\u001b[0;32m--> 154\u001b[0m \u001b[43mhdbg\u001b[49m\u001b[38;5;241;43m.\u001b[39;49m\u001b[43mdassert_in\u001b[49m\u001b[43m(\u001b[49m\n\u001b[1;32m    155\u001b[0m \u001b[43m    \u001b[49m\u001b[43mcurrency_pair\u001b[49m\u001b[43m,\u001b[49m\n\u001b[1;32m    156\u001b[0m \u001b[43m    \u001b[49m\u001b[38;5;28;43mself\u001b[39;49m\u001b[38;5;241;43m.\u001b[39;49m\u001b[43mcurrency_pairs\u001b[49m\u001b[43m,\u001b[49m\n\u001b[1;32m    157\u001b[0m \u001b[43m    \u001b[49m\u001b[38;5;124;43m\"\u001b[39;49m\u001b[38;5;124;43mCurrency pair is not present in exchange\u001b[39;49m\u001b[38;5;124;43m\"\u001b[39;49m\u001b[43m,\u001b[49m\n\u001b[1;32m    158\u001b[0m \u001b[43m\u001b[49m\u001b[43m)\u001b[49m\n\u001b[1;32m    159\u001b[0m \u001b[38;5;66;03m# Get the latest bars if no timestamp is provided.\u001b[39;00m\n\u001b[1;32m    160\u001b[0m \u001b[38;5;28;01mif\u001b[39;00m end_timestamp \u001b[38;5;129;01mis\u001b[39;00m \u001b[38;5;28;01mNone\u001b[39;00m \u001b[38;5;129;01mand\u001b[39;00m start_timestamp \u001b[38;5;129;01mis\u001b[39;00m \u001b[38;5;28;01mNone\u001b[39;00m:\n",
      "File \u001b[0;32m/app/helpers/hdbg.py:314\u001b[0m, in \u001b[0;36mdassert_in\u001b[0;34m(value, valid_values, msg, only_warning, *args)\u001b[0m\n\u001b[1;32m    312\u001b[0m \u001b[38;5;28;01mif\u001b[39;00m \u001b[38;5;129;01mnot\u001b[39;00m cond:\n\u001b[1;32m    313\u001b[0m     txt \u001b[38;5;241m=\u001b[39m \u001b[38;5;124mf\u001b[39m\u001b[38;5;124m\"\u001b[39m\u001b[38;5;124m'\u001b[39m\u001b[38;5;132;01m{\u001b[39;00mvalue\u001b[38;5;132;01m}\u001b[39;00m\u001b[38;5;124m'\u001b[39m\u001b[38;5;124m in \u001b[39m\u001b[38;5;124m'\u001b[39m\u001b[38;5;132;01m{\u001b[39;00mvalid_values\u001b[38;5;132;01m}\u001b[39;00m\u001b[38;5;124m'\u001b[39m\u001b[38;5;124m\"\u001b[39m\n\u001b[0;32m--> 314\u001b[0m     \u001b[43m_dfatal\u001b[49m\u001b[43m(\u001b[49m\u001b[43mtxt\u001b[49m\u001b[43m,\u001b[49m\u001b[43m \u001b[49m\u001b[43mmsg\u001b[49m\u001b[43m,\u001b[49m\u001b[43m \u001b[49m\u001b[38;5;241;43m*\u001b[39;49m\u001b[43margs\u001b[49m\u001b[43m,\u001b[49m\u001b[43m \u001b[49m\u001b[43monly_warning\u001b[49m\u001b[38;5;241;43m=\u001b[39;49m\u001b[43monly_warning\u001b[49m\u001b[43m)\u001b[49m\n",
      "File \u001b[0;32m/app/helpers/hdbg.py:142\u001b[0m, in \u001b[0;36m_dfatal\u001b[0;34m(txt, msg, only_warning, *args)\u001b[0m\n\u001b[1;32m    139\u001b[0m     _LOG\u001b[38;5;241m.\u001b[39mwarning(dfatal_txt)\n\u001b[1;32m    140\u001b[0m \u001b[38;5;28;01melse\u001b[39;00m:\n\u001b[1;32m    141\u001b[0m     \u001b[38;5;66;03m# Abort.\u001b[39;00m\n\u001b[0;32m--> 142\u001b[0m     \u001b[43mdfatal\u001b[49m\u001b[43m(\u001b[49m\u001b[43mdfatal_txt\u001b[49m\u001b[43m)\u001b[49m\n",
      "File \u001b[0;32m/app/helpers/hdbg.py:71\u001b[0m, in \u001b[0;36mdfatal\u001b[0;34m(message, assertion_type)\u001b[0m\n\u001b[1;32m     69\u001b[0m \u001b[38;5;28;01mif\u001b[39;00m assertion_type \u001b[38;5;129;01mis\u001b[39;00m \u001b[38;5;28;01mNone\u001b[39;00m:\n\u001b[1;32m     70\u001b[0m     assertion_type \u001b[38;5;241m=\u001b[39m \u001b[38;5;167;01mAssertionError\u001b[39;00m\n\u001b[0;32m---> 71\u001b[0m \u001b[38;5;28;01mraise\u001b[39;00m assertion_type(ret)\n",
      "\u001b[0;31mAssertionError\u001b[0m: \n################################################################################\n* Failed assertion *\n'BTC/USDT' in '[]'\nCurrency pair is not present in exchange\n################################################################################\n"
     ]
    }
   ],
   "source": [
    "exchange_class = imvcdexex.CcxtExtractor(\"binanceus\", \"spot\")\n",
    "start_timestamp = pd.Timestamp(\"2022-02-24T00:00:00Z\")\n",
    "end_timestamp = pd.Timestamp(\"2022-02-25T00:00:00Z\")\n",
    "ohlcv_data = exchange_class._download_ohlcv(\n",
    "                exchange_id=\"binanceus\",\n",
    "                currency_pair=\"BTC/USDT\",\n",
    "                start_timestamp=start_timestamp,\n",
    "                end_timestamp=end_timestamp,\n",
    "                bar_per_iteration=500,\n",
    "            )"
   ]
  },
  {
   "cell_type": "code",
   "execution_count": 5,
   "id": "8ee3a507",
   "metadata": {
    "ExecuteTime": {
     "end_time": "2023-06-12T20:52:53.505889Z",
     "start_time": "2023-06-12T20:52:53.383338Z"
    }
   },
   "outputs": [
    {
     "data": {
      "text/html": [
       "<div>\n",
       "<style scoped>\n",
       "    .dataframe tbody tr th:only-of-type {\n",
       "        vertical-align: middle;\n",
       "    }\n",
       "\n",
       "    .dataframe tbody tr th {\n",
       "        vertical-align: top;\n",
       "    }\n",
       "\n",
       "    .dataframe thead th {\n",
       "        text-align: right;\n",
       "    }\n",
       "</style>\n",
       "<table border=\"1\" class=\"dataframe\">\n",
       "  <thead>\n",
       "    <tr style=\"text-align: right;\">\n",
       "      <th></th>\n",
       "      <th>timestamp</th>\n",
       "      <th>open</th>\n",
       "      <th>high</th>\n",
       "      <th>low</th>\n",
       "      <th>close</th>\n",
       "      <th>volume</th>\n",
       "      <th>end_download_timestamp</th>\n",
       "    </tr>\n",
       "  </thead>\n",
       "  <tbody>\n",
       "    <tr>\n",
       "      <th>0</th>\n",
       "      <td>1645660800000</td>\n",
       "      <td>37225.40</td>\n",
       "      <td>37225.40</td>\n",
       "      <td>37224.74</td>\n",
       "      <td>37224.74</td>\n",
       "      <td>0.040660</td>\n",
       "      <td>2023-06-12 20:52:13.487913+00:00</td>\n",
       "    </tr>\n",
       "    <tr>\n",
       "      <th>1</th>\n",
       "      <td>1645660860000</td>\n",
       "      <td>37236.10</td>\n",
       "      <td>37236.10</td>\n",
       "      <td>37236.10</td>\n",
       "      <td>37236.10</td>\n",
       "      <td>0.004470</td>\n",
       "      <td>2023-06-12 20:52:13.487913+00:00</td>\n",
       "    </tr>\n",
       "    <tr>\n",
       "      <th>2</th>\n",
       "      <td>1645660920000</td>\n",
       "      <td>37174.06</td>\n",
       "      <td>37174.06</td>\n",
       "      <td>37150.60</td>\n",
       "      <td>37150.60</td>\n",
       "      <td>0.057718</td>\n",
       "      <td>2023-06-12 20:52:13.487913+00:00</td>\n",
       "    </tr>\n",
       "    <tr>\n",
       "      <th>3</th>\n",
       "      <td>1645660980000</td>\n",
       "      <td>37130.30</td>\n",
       "      <td>37191.90</td>\n",
       "      <td>37102.24</td>\n",
       "      <td>37191.90</td>\n",
       "      <td>0.114560</td>\n",
       "      <td>2023-06-12 20:52:13.487913+00:00</td>\n",
       "    </tr>\n",
       "    <tr>\n",
       "      <th>4</th>\n",
       "      <td>1645661040000</td>\n",
       "      <td>37218.63</td>\n",
       "      <td>37292.92</td>\n",
       "      <td>37218.63</td>\n",
       "      <td>37292.92</td>\n",
       "      <td>0.015789</td>\n",
       "      <td>2023-06-12 20:52:13.487913+00:00</td>\n",
       "    </tr>\n",
       "    <tr>\n",
       "      <th>...</th>\n",
       "      <td>...</td>\n",
       "      <td>...</td>\n",
       "      <td>...</td>\n",
       "      <td>...</td>\n",
       "      <td>...</td>\n",
       "      <td>...</td>\n",
       "      <td>...</td>\n",
       "    </tr>\n",
       "    <tr>\n",
       "      <th>1436</th>\n",
       "      <td>1645746960000</td>\n",
       "      <td>38297.10</td>\n",
       "      <td>38297.10</td>\n",
       "      <td>38297.10</td>\n",
       "      <td>38297.10</td>\n",
       "      <td>0.000000</td>\n",
       "      <td>2023-06-12 20:52:14.295514+00:00</td>\n",
       "    </tr>\n",
       "    <tr>\n",
       "      <th>1437</th>\n",
       "      <td>1645747020000</td>\n",
       "      <td>38297.10</td>\n",
       "      <td>38297.10</td>\n",
       "      <td>38297.10</td>\n",
       "      <td>38297.10</td>\n",
       "      <td>0.000000</td>\n",
       "      <td>2023-06-12 20:52:14.295514+00:00</td>\n",
       "    </tr>\n",
       "    <tr>\n",
       "      <th>1438</th>\n",
       "      <td>1645747080000</td>\n",
       "      <td>38297.10</td>\n",
       "      <td>38297.10</td>\n",
       "      <td>38297.10</td>\n",
       "      <td>38297.10</td>\n",
       "      <td>0.000000</td>\n",
       "      <td>2023-06-12 20:52:14.295514+00:00</td>\n",
       "    </tr>\n",
       "    <tr>\n",
       "      <th>1439</th>\n",
       "      <td>1645747140000</td>\n",
       "      <td>38297.10</td>\n",
       "      <td>38297.10</td>\n",
       "      <td>38297.10</td>\n",
       "      <td>38297.10</td>\n",
       "      <td>0.000000</td>\n",
       "      <td>2023-06-12 20:52:14.295514+00:00</td>\n",
       "    </tr>\n",
       "    <tr>\n",
       "      <th>1440</th>\n",
       "      <td>1645747200000</td>\n",
       "      <td>38330.65</td>\n",
       "      <td>38352.18</td>\n",
       "      <td>38330.65</td>\n",
       "      <td>38352.18</td>\n",
       "      <td>0.052463</td>\n",
       "      <td>2023-06-12 20:52:14.295514+00:00</td>\n",
       "    </tr>\n",
       "  </tbody>\n",
       "</table>\n",
       "<p>1441 rows × 7 columns</p>\n",
       "</div>"
      ],
      "text/plain": [
       "          timestamp      open      high       low     close    volume  \\\n",
       "0     1645660800000  37225.40  37225.40  37224.74  37224.74  0.040660   \n",
       "1     1645660860000  37236.10  37236.10  37236.10  37236.10  0.004470   \n",
       "2     1645660920000  37174.06  37174.06  37150.60  37150.60  0.057718   \n",
       "3     1645660980000  37130.30  37191.90  37102.24  37191.90  0.114560   \n",
       "4     1645661040000  37218.63  37292.92  37218.63  37292.92  0.015789   \n",
       "...             ...       ...       ...       ...       ...       ...   \n",
       "1436  1645746960000  38297.10  38297.10  38297.10  38297.10  0.000000   \n",
       "1437  1645747020000  38297.10  38297.10  38297.10  38297.10  0.000000   \n",
       "1438  1645747080000  38297.10  38297.10  38297.10  38297.10  0.000000   \n",
       "1439  1645747140000  38297.10  38297.10  38297.10  38297.10  0.000000   \n",
       "1440  1645747200000  38330.65  38352.18  38330.65  38352.18  0.052463   \n",
       "\n",
       "                end_download_timestamp  \n",
       "0     2023-06-12 20:52:13.487913+00:00  \n",
       "1     2023-06-12 20:52:13.487913+00:00  \n",
       "2     2023-06-12 20:52:13.487913+00:00  \n",
       "3     2023-06-12 20:52:13.487913+00:00  \n",
       "4     2023-06-12 20:52:13.487913+00:00  \n",
       "...                                ...  \n",
       "1436  2023-06-12 20:52:14.295514+00:00  \n",
       "1437  2023-06-12 20:52:14.295514+00:00  \n",
       "1438  2023-06-12 20:52:14.295514+00:00  \n",
       "1439  2023-06-12 20:52:14.295514+00:00  \n",
       "1440  2023-06-12 20:52:14.295514+00:00  \n",
       "\n",
       "[1441 rows x 7 columns]"
      ]
     },
     "execution_count": 5,
     "metadata": {},
     "output_type": "execute_result"
    }
   ],
   "source": [
    "ohlcv_data"
   ]
  },
  {
   "cell_type": "code",
   "execution_count": null,
   "id": "c7bee0ef",
   "metadata": {},
   "outputs": [],
   "source": []
  }
 ],
 "metadata": {
  "kernelspec": {
   "display_name": "Python 3 (ipykernel)",
   "language": "python",
   "name": "python3"
  },
  "language_info": {
   "codemirror_mode": {
    "name": "ipython",
    "version": 3
   },
   "file_extension": ".py",
   "mimetype": "text/x-python",
   "name": "python",
   "nbconvert_exporter": "python",
   "pygments_lexer": "ipython3",
   "version": "3.8.10"
  },
  "toc": {
   "base_numbering": 1,
   "nav_menu": {},
   "number_sections": true,
   "sideBar": true,
   "skip_h1_title": false,
   "title_cell": "Table of Contents",
   "title_sidebar": "Contents",
   "toc_cell": false,
   "toc_position": {},
   "toc_section_display": true,
   "toc_window_display": false
  }
 },
 "nbformat": 4,
 "nbformat_minor": 5
}
