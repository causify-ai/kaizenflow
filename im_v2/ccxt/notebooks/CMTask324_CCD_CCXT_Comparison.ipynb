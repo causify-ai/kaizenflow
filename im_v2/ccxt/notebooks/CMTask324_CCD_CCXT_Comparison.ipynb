{
 "cells": [
  {
   "cell_type": "markdown",
   "id": "2d5b9812",
   "metadata": {},
   "source": [
    "# Imports"
   ]
  },
  {
   "cell_type": "code",
   "execution_count": null,
   "id": "df02857b",
   "metadata": {},
   "outputs": [],
   "source": [
    "import logging\n",
    "import os\n",
    "\n",
    "import pandas as pd\n",
    "from typing import List\n",
    "\n",
    "import helpers.dbg as hdbg\n",
    "import helpers.env as henv\n",
    "import helpers.printing as hprint\n",
    "import helpers.s3 as hs3\n",
    "import im.cryptodatadownload.data.load.loader as imcdalolo\n",
    "import im_v2.ccxt.data.client.clients as imvcdclcl\n",
    "import im_v2.ccxt.universe.universe as imvccunun\n",
    "import im_v2.common.data.client.clients as ivcdclcl"
   ]
  },
  {
   "cell_type": "code",
   "execution_count": null,
   "id": "e2f361e4",
   "metadata": {},
   "outputs": [],
   "source": [
    "hdbg.init_logger(verbosity=logging.INFO)\n",
    "\n",
    "_LOG = logging.getLogger(__name__)\n",
    "\n",
    "_LOG.info(\"%s\", henv.get_system_signature()[0])\n",
    "\n",
    "hprint.config_notebook()"
   ]
  },
  {
   "cell_type": "markdown",
   "id": "51702034",
   "metadata": {},
   "source": [
    "# Load the data universe"
   ]
  },
  {
   "cell_type": "markdown",
   "id": "70420724",
   "metadata": {},
   "source": [
    "## CCXT"
   ]
  },
  {
   "cell_type": "code",
   "execution_count": null,
   "id": "d15816d5",
   "metadata": {},
   "outputs": [],
   "source": [
    "ccxt_universe = imvccunun.get_vendor_universe(version=\"v03\")"
   ]
  },
  {
   "cell_type": "markdown",
   "id": "b178b946",
   "metadata": {},
   "source": [
    "## CDD"
   ]
  },
  {
   "cell_type": "code",
   "execution_count": null,
   "id": "a45e3fad",
   "metadata": {},
   "outputs": [],
   "source": [
    "universe_cdd = imvccunun.get_vendor_universe(version=\"v01\", vendor=\"CDD\")"
   ]
  },
  {
   "cell_type": "markdown",
   "id": "821f2129",
   "metadata": {},
   "source": [
    "# Compare universes"
   ]
  },
  {
   "cell_type": "code",
   "execution_count": null,
   "id": "23220816",
   "metadata": {},
   "outputs": [],
   "source": [
    "_LOG.info(\"Number of full symbols in CCXT: %s\", len(ccxt_universe))\n",
    "_LOG.info(\"Number of full symbols in CDD: %s\", len(universe_cdd))"
   ]
  },
  {
   "cell_type": "code",
   "execution_count": null,
   "id": "158481db",
   "metadata": {},
   "outputs": [],
   "source": [
    "# Intersection of full symbols between two vendors.\n",
    "currency_pair_intersection = set(ccxt_universe).intersection(universe_cdd)\n",
    "_LOG.info(\"Number of similar full symbols: %s\", len(currency_pair_intersection))\n",
    "display(currency_pair_intersection)"
   ]
  },
  {
   "cell_type": "code",
   "execution_count": null,
   "id": "a72f1f1f",
   "metadata": {},
   "outputs": [],
   "source": [
    "# Full symbols that are included in CCXT but not in CDD.\n",
    "ccxt_and_not_cdd = set(ccxt_universe).difference(universe_cdd)\n",
    "_LOG.info(\n",
    "    \"Number of full symbols that are included in CCXT but not in CDD: %s\",\n",
    "    len(ccxt_and_not_cdd),\n",
    ")\n",
    "display(ccxt_and_not_cdd)"
   ]
  },
  {
   "cell_type": "code",
   "execution_count": null,
   "id": "0523b1b7",
   "metadata": {},
   "outputs": [],
   "source": [
    "# Full symbols that are included in CDD but not in CCXT.\n",
    "cdd_and_not_ccxt = set(universe_cdd).difference(ccxt_universe)\n",
    "_LOG.info(\n",
    "    \"Number of full symbols that are included in CDD but not in CCXT: %s\",\n",
    "    len(cdd_and_not_ccxt),\n",
    ")\n",
    "display(cdd_and_not_ccxt)"
   ]
  },
  {
   "cell_type": "markdown",
   "id": "06969925",
   "metadata": {},
   "source": [
    "# Compare close prices / returns from Binance"
   ]
  },
  {
   "cell_type": "markdown",
   "id": "65eb6a58",
   "metadata": {},
   "source": [
    "## Load the data"
   ]
  },
  {
   "cell_type": "markdown",
   "id": "ae3f24d9",
   "metadata": {},
   "source": [
    "The code below can be used to load all the existing data from two vendors CDD and CCXT. Current version is specified to Binance only, however, even for one exchange there's too many data to operate, that's why the output is the intersection of currency pairs between to universe, since one can compare only the intersection of currency pairs for two vendors."
   ]
  },
  {
   "cell_type": "code",
   "execution_count": null,
   "id": "be827c12",
   "metadata": {},
   "outputs": [],
   "source": [
    "# Load Binance-specific universe for CCXT.\n",
    "ccxt_binance_universe = [\n",
    "    element for element in ccxt_universe if element.startswith(\"binance\")\n",
    "]\n",
    "# Load Binnance-specific universe for CDD.\n",
    "cdd_binance_universe_initial = [\n",
    "    element for element in universe_cdd if element.startswith(\"binance\")\n",
    "]\n",
    "cdd_binance_universe = cdd_binance_universe_initial.copy()\n",
    "# SCU_USDT has incorrect columns, so can not be downloaded.\n",
    "# See CMTask244 - Cannot load CDD - binance - SCU/USDT from s3 for the reference.\n",
    "cdd_binance_universe.remove(\"binance::SCU_USDT\")\n",
    "# The intersection of Binance currency pairs from two universes.\n",
    "currency_pair_intersection_binance = set(ccxt_binance_universe).intersection(\n",
    "    cdd_binance_universe_initial\n",
    ")"
   ]
  },
  {
   "cell_type": "code",
   "execution_count": null,
   "id": "7f3ba9fd",
   "metadata": {},
   "outputs": [],
   "source": [
    "root_dir = os.path.join(hs3.get_path(), \"data\")"
   ]
  },
  {
   "cell_type": "code",
   "execution_count": null,
   "id": "8db077be",
   "metadata": {},
   "outputs": [],
   "source": [
    "cdd_data = []\n",
    "cdd_loader = imcdalolo.CddLoader(root_dir=root_dir, aws_profile=\"am\")\n",
    "\n",
    "for full_symbol in currency_pair_intersection_binance:\n",
    "    _, currency_pair = ivcdclcl.parse_full_symbol(full_symbol)\n",
    "    cur_data = cdd_loader.read_data_from_filesystem(\n",
    "        exchange_id=\"binance\", currency_pair=currency_pair, data_type=\"ohlcv\"\n",
    "    )\n",
    "    cdd_data.append(cur_data)\n",
    "cdd_binance_df = pd.concat(cdd_data)"
   ]
  },
  {
   "cell_type": "code",
   "execution_count": null,
   "id": "ab156e6d",
   "metadata": {},
   "outputs": [],
   "source": [
    "display(cdd_binance_df.head(3))\n",
    "display(cdd_binance_df.shape)"
   ]
  },
  {
   "cell_type": "code",
   "execution_count": null,
   "id": "948765b9",
   "metadata": {},
   "outputs": [],
   "source": [
    "ccxt_client = imvcdclcl.CcxtCsvFileSystemClient(\n",
    "    data_type=\"ohlcv\", root_dir=root_dir, aws_profile=\"am\"\n",
    ")\n",
    "multiple_symbols_client = ivcdclcl.MultipleSymbolsClient(\n",
    "    class_=ccxt_client, mode=\"concat\"\n",
    ")\n",
    "ccxt_binance_df = multiple_symbols_client.read_data(\n",
    "    currency_pair_intersection_binance\n",
    ")"
   ]
  },
  {
   "cell_type": "code",
   "execution_count": null,
   "id": "40d26329",
   "metadata": {},
   "outputs": [],
   "source": [
    "ccxt_binance_df = ccxt_binance_df.sort_index()"
   ]
  },
  {
   "cell_type": "code",
   "execution_count": null,
   "id": "f656ef6f",
   "metadata": {},
   "outputs": [],
   "source": [
    "display(ccxt_binance_df.head(3))\n",
    "display(ccxt_binance_df.shape)"
   ]
  },
  {
   "cell_type": "markdown",
   "id": "34ce5bd1",
   "metadata": {},
   "source": [
    "## Calculate returns and correlation"
   ]
  },
  {
   "cell_type": "code",
   "execution_count": null,
   "id": "e4a4a808",
   "metadata": {},
   "outputs": [],
   "source": [
    "# CDD names cleaning.\n",
    "cdd_binance_df[\"currency_pair\"] = cdd_binance_df[\"currency_pair\"].str.replace(\n",
    "    \"/\", \"_\"\n",
    ")"
   ]
  },
  {
   "cell_type": "code",
   "execution_count": null,
   "id": "c01e0a5f",
   "metadata": {},
   "outputs": [],
   "source": [
    "def resample_close_price(df: pd.DataFrame, resampling_freq: str) -> pd.Series:\n",
    "    \"\"\"\n",
    "    Transform OHLCV data to the grouped series with resampled frequency and\n",
    "    last close prices.\n",
    "\n",
    "    :param df: OHLCV data\n",
    "    :param resampling_freq: frequency from `pd.date_range()` to resample to\n",
    "    :return: grouped and resampled close prices\n",
    "    \"\"\"\n",
    "    # Reseting DateTime index, since pd.Grouper can't use index values.\n",
    "    df = df.reset_index().rename(columns={\"index\": \"stamp\"})\n",
    "    # Group by currency pairs and simultaneously resample to the desired frequency.\n",
    "    resampler = df.groupby(\n",
    "        [\"currency_pair\", pd.Grouper(key=\"stamp\", freq=resampling_freq)]\n",
    "    )\n",
    "    # Take the last close value from each resampling period.\n",
    "    close_series = resampler.close.last()\n",
    "    return close_series"
   ]
  },
  {
   "cell_type": "code",
   "execution_count": null,
   "id": "e2e7ae9f",
   "metadata": {},
   "outputs": [],
   "source": [
    "def calculate_correlations(\n",
    "    ccxt_close_price: pd.Series, cdd_close_price: pd.Series, compute_returns: bool\n",
    ") -> pd.DataFrame:\n",
    "    \"\"\"\n",
    "    Take two series with close prices(i.e. CDD and CCXT data) and calculate the\n",
    "    correlations for each specific currency pair.\n",
    "\n",
    "    :param ccxt_series: grouped and resampled close prices for CCXT\n",
    "    :param cdd_series: grouped and resampled close prices for CDD\n",
    "    :param compute_returns: if True - compare returns, if False - compare close prices\n",
    "    :return: grouped correlation matrix\n",
    "    \"\"\"\n",
    "    if compute_returns:\n",
    "        # Group by currency pairs in order to calculate the percentage returns.\n",
    "        grouper_cdd = cdd_close_price.groupby(\"currency_pair\")\n",
    "        cdd_close_price = grouper_cdd.pct_change()\n",
    "        grouper_ccxt = ccxt_close_price.groupby(\"currency_pair\")\n",
    "        ccxt_close_price = grouper_ccxt.pct_change()\n",
    "    # Combine and calculate correlations.\n",
    "    combined = pd.merge(\n",
    "        cdd_close_price, ccxt_close_price, left_index=True, right_index=True\n",
    "    )\n",
    "    # Rename the columns.\n",
    "    if compute_returns:\n",
    "        combined.columns = [\"ccxt_returns\", \"cdd_returns\"]\n",
    "    else:\n",
    "        combined.columns = [\"cdd_close\", \"ccxt_close\"]\n",
    "    # Group by again to calculte returns correlation for each currency pair.\n",
    "    corr_matrix = combined.groupby(level=0).corr()\n",
    "    return corr_matrix"
   ]
  },
  {
   "cell_type": "code",
   "execution_count": null,
   "id": "975b1df0",
   "metadata": {},
   "outputs": [],
   "source": [
    "# Corresponding resampled Series.\n",
    "ccxt_binance_series_1d = resample_close_price(ccxt_binance_df, \"1D\")\n",
    "cdd_binance_series_1d = resample_close_price(cdd_binance_df, \"1D\")\n",
    "\n",
    "ccxt_binance_series_5min = resample_close_price(ccxt_binance_df, \"5min\")\n",
    "cdd_binance_series_5min = resample_close_price(cdd_binance_df, \"5min\")"
   ]
  },
  {
   "cell_type": "markdown",
   "id": "c56c9d1e",
   "metadata": {},
   "source": [
    "### 1-day returns"
   ]
  },
  {
   "cell_type": "code",
   "execution_count": null,
   "id": "3af8f847",
   "metadata": {},
   "outputs": [],
   "source": [
    "returns_corr_1day = calculate_correlations(\n",
    "    ccxt_binance_series_1d, cdd_binance_series_1d, compute_returns=True\n",
    ")\n",
    "display(returns_corr_1day)"
   ]
  },
  {
   "cell_type": "markdown",
   "id": "a5d24740",
   "metadata": {},
   "source": [
    "### 5-min returns"
   ]
  },
  {
   "cell_type": "code",
   "execution_count": null,
   "id": "4c69e461",
   "metadata": {},
   "outputs": [],
   "source": [
    "returns_corr_5min = calculate_correlations(\n",
    "    ccxt_binance_series_5min, cdd_binance_series_5min, compute_returns=True\n",
    ")\n",
    "display(returns_corr_5min)"
   ]
  },
  {
   "cell_type": "markdown",
   "id": "1d22eca0",
   "metadata": {},
   "source": [
    "## Compare close prices"
   ]
  },
  {
   "cell_type": "code",
   "execution_count": null,
   "id": "8014b363",
   "metadata": {},
   "outputs": [],
   "source": [
    "close_corr_1day = calculate_correlations(\n",
    "    ccxt_binance_series_1d, cdd_binance_series_1d, compute_returns=False\n",
    ")\n",
    "display(close_corr_1day)"
   ]
  },
  {
   "cell_type": "markdown",
   "id": "e4990d15",
   "metadata": {},
   "source": [
    "# Statistical properties of a full symbol in CDD"
   ]
  },
  {
   "cell_type": "code",
   "execution_count": null,
   "id": "d39f6575",
   "metadata": {},
   "outputs": [],
   "source": [
    "# Clearing CDD currency pairs that are incorrect.\n",
    "\n",
    "# Binance\n",
    "universe_cdd.remove(\"binance::SCU_USDT\")\n",
    "\n",
    "# Bitfinex\n",
    "universe_cdd.remove(\"bitfinex::BTC_GBR\")  # doesn't exist.\n",
    "universe_cdd.remove(\"bitfinex::DASH_BTC\")  # NaT in stamps.\n",
    "universe_cdd.remove(\"bitfinex::DASH_USD\")  # NaT in stamps.\n",
    "universe_cdd.remove(\"bitfinex::EOS_GBR\")  # doesn't exist.\n",
    "universe_cdd.remove(\"bitfinex::ETH_GBR\")  # doesn't exist.\n",
    "universe_cdd.remove(\"bitfinex::NEO_GBR\")  # doesn't exist.\n",
    "universe_cdd.remove(\"bitfinex::QTUM_USD\")  # NaT in stamps.\n",
    "universe_cdd.remove(\"bitfinex::TRX_GBR\")  # doesn't exist.\n",
    "universe_cdd.remove(\"bitfinex::XLM_GBR\")  # doesn't exist.\n",
    "\n",
    "# ftx has some critical mistakes in the downloading process, so can not continue analysis with them.\n",
    "# see CMTask801 - Downloading issues of FTX exchange from CDD universe for further reference.\n",
    "cdd_ftx_universe = [\n",
    "    element for element in universe_cdd if element.startswith(\"ftx\")\n",
    "]\n",
    "for elem in cdd_ftx_universe:\n",
    "    universe_cdd.remove(elem)\n",
    "    \n",
    "# kucoin exchange: the timestamps are obviously wrong and with too short time period.\n",
    "# see CMTask253 - Fix timestamp for CDD - kucoin for reference.\n",
    "cdd_kucoin_universe = [\n",
    "    element for element in universe_cdd if element.startswith(\"kucoin\")\n",
    "]\n",
    "for elem in cdd_kucoin_universe:\n",
    "    universe_cdd.remove(elem)"
   ]
  },
  {
   "cell_type": "code",
   "execution_count": null,
   "id": "3747a8d7",
   "metadata": {},
   "outputs": [],
   "source": [
    "# TODO(Max): consider using compute_start_end_table function\n",
    "def calculate_statistics_for_stamps(coin_list: List[str], vendor: str) -> pd.DataFrame:\n",
    "    \"\"\"\n",
    "    Load the OHLCV data for each currency pair in CDD or CCXT universe and\n",
    "    compute the corresponding descriptive statistics.\n",
    "    Stats include:\n",
    "        - index - currency pair\n",
    "        - exchange_id - exchange_id\n",
    "        - data_points_counts - number of timestamps for each coin\n",
    "        - NaNs_in_Close - number of NaNs in \"close\"\n",
    "        - step_in_stamp - value counts of steps between timestamps\n",
    "        - start_date\n",
    "        - end_date\n",
    "    \n",
    "    :param coin_list: list of all full symbols in CDD or CCXT universe\n",
    "    :param vendor: CCXT or CDD \n",
    "    :return: descriptive statistics for each full symbol\n",
    "    \"\"\"\n",
    "    # Load data for each full symbol.\n",
    "    result = []\n",
    "    cdd_loader = imcdalolo.CddLoader(root_dir=root_dir, aws_profile=\"am\")\n",
    "    for full_symbol in coin_list:\n",
    "        if vendor == \"cdd\":\n",
    "            exchange_id, currency_pair = ivcdclcl.parse_full_symbol(full_symbol)\n",
    "            coin = cdd_loader.read_data_from_filesystem(\n",
    "                exchange_id=exchange_id,\n",
    "                currency_pair=currency_pair,\n",
    "                data_type=\"ohlcv\",\n",
    "            )\n",
    "        else:\n",
    "            ccxt_client = imvcdclcl.CcxtCsvFileSystemClient(\n",
    "                data_type=\"ohlcv\", root_dir=root_dir, aws_profile=\"am\"\n",
    "            )\n",
    "            multiple_symbols_client = ivcdclcl.MultipleSymbolsClient(\n",
    "                class_=ccxt_client, mode=\"concat\"\n",
    "            )\n",
    "            coin = multiple_symbols_client.read_data([full_symbol])\n",
    "            exchange_id, currency_pair = ivcdclcl.parse_full_symbol(full_symbol)\n",
    "            coin = coin.sort_index()\n",
    "        # Reseting DateTime index, so it can be further used in the calculations.\n",
    "        coin.reset_index(inplace=True)\n",
    "        coin = coin.rename(columns={\"index\": \"stamp\"})\n",
    "        # The value of the step between two data points.\n",
    "        stamp_steps = pd.Series(coin[\"stamp\"].diff().value_counts().index)\n",
    "        # Start-end date.\n",
    "        max_date = pd.Series(\n",
    "            coin[\"stamp\"].describe(datetime_is_numeric=True).loc[\"max\"]\n",
    "        )\n",
    "        min_date = pd.Series(\n",
    "            coin[\"stamp\"].describe(datetime_is_numeric=True).loc[\"min\"]\n",
    "        )\n",
    "        # Number of timestamps for each coin.\n",
    "        data_points = pd.Series(\n",
    "            coin[\"stamp\"].describe(datetime_is_numeric=True).loc[\"count\"]\n",
    "        )\n",
    "        # Attach calculations to the DataFrame.\n",
    "        stamp_stats = pd.DataFrame()\n",
    "        stamp_stats[\"exchange_id\"] = [exchange_id]\n",
    "        stamp_stats[\"data_points_counts\"] = data_points\n",
    "        stamp_stats[\"NaNs_in_Close\"] = len(coin[coin[\"close\"].isna()])\n",
    "        stamp_stats[\"step_in_stamp\"] = stamp_steps\n",
    "        stamp_stats[\"start_date\"] = min_date\n",
    "        stamp_stats[\"end_date\"] = max_date\n",
    "        stamp_stats.index = [currency_pair]\n",
    "        result.append(stamp_stats)\n",
    "    result = pd.concat(result)\n",
    "    if vendor == \"cdd\":\n",
    "        result = result.add_suffix(\"_cdd\")\n",
    "    else:\n",
    "        result = result.add_suffix(\"_ccxt\")\n",
    "    return result"
   ]
  },
  {
   "cell_type": "markdown",
   "id": "001554a6",
   "metadata": {},
   "source": [
    "## Comparison of intersection of full symbols between CCXT and CDD"
   ]
  },
  {
   "cell_type": "code",
   "execution_count": null,
   "id": "59007146",
   "metadata": {},
   "outputs": [],
   "source": [
    "# Full symbols that are included in CDD but not in CCXT (cleaned from unavailable full symbols).\n",
    "cdd_and_ccxt_cleaned = set(ccxt_universe).intersection(universe_cdd)\n",
    "len(cdd_and_ccxt_cleaned)"
   ]
  },
  {
   "cell_type": "code",
   "execution_count": null,
   "id": "f17db3f9",
   "metadata": {},
   "outputs": [],
   "source": [
    "# Load the intersection of full symbols for CDD and CCXT.\n",
    "stats_for_stamps_ccxt = calculate_statistics_for_stamps(\n",
    "    cdd_and_ccxt_cleaned, vendor=\"ccxt\"\n",
    ")\n",
    "stats_for_stamps_cdd_union = calculate_statistics_for_stamps(\n",
    "    cdd_and_ccxt_cleaned, vendor=\"cdd\"\n",
    ")"
   ]
  },
  {
   "cell_type": "code",
   "execution_count": null,
   "id": "e8bed7ef",
   "metadata": {},
   "outputs": [],
   "source": [
    "union_cdd_ccxt_stats = pd.concat(\n",
    "    [stats_for_stamps_cdd_union, stats_for_stamps_ccxt], axis=1\n",
    ")\n",
    "union_cdd_ccxt_stats.sort_values(\"exchange_id_cdd\")"
   ]
  },
  {
   "cell_type": "markdown",
   "id": "5ec25d15",
   "metadata": {},
   "source": [
    "## Comparison of full symbols that are included in CDD but not available in CCXT"
   ]
  },
  {
   "cell_type": "code",
   "execution_count": null,
   "id": "ce8fec83",
   "metadata": {},
   "outputs": [],
   "source": [
    "# Set of full symbols that are included in CDD but not available in CCXT (cleaned from unavailable full symbols).\n",
    "cdd_and_not_ccxt_cleaned = set(universe_cdd).difference(ccxt_universe)\n",
    "len(cdd_and_not_ccxt_cleaned)"
   ]
  },
  {
   "cell_type": "code",
   "execution_count": null,
   "id": "181a7523",
   "metadata": {},
   "outputs": [],
   "source": [
    "# Clean the set from non-USDT pairs. \n",
    "cdd_and_not_ccxt_cleaned_usdt = [\n",
    "    element for element in cdd_and_not_ccxt_cleaned if element.endswith(\"USDT\")\n",
    "]\n",
    "len(cdd_and_not_ccxt_cleaned_usdt)"
   ]
  },
  {
   "cell_type": "code",
   "execution_count": null,
   "id": "df0505fe",
   "metadata": {},
   "outputs": [],
   "source": [
    "stats_for_stamps_cdd = calculate_statistics_for_stamps(\n",
    "    cdd_and_not_ccxt_cleaned_usdt, vendor=\"cdd\"\n",
    ")"
   ]
  },
  {
   "cell_type": "markdown",
   "id": "0b23773c",
   "metadata": {},
   "source": [
    "Currently there are the following descriptive statistics:\n",
    "\n",
    "- index - currency pair\n",
    "- exchange_id - exchange_id\n",
    "- data_points_counts - number of timestamps for each coin\n",
    "- NaNs_in_Close - number of NaNs in \"close\"\n",
    "- step_in_stamp - value counts of steps between timestamps\n",
    "- start_date\n",
    "- end_date\n",
    "\n",
    "What else can be added here?"
   ]
  },
  {
   "cell_type": "code",
   "execution_count": null,
   "id": "95190528",
   "metadata": {},
   "outputs": [],
   "source": [
    "stats_for_stamps_cdd.sort_values(\"exchange_id_cdd\")"
   ]
  }
 ],
 "metadata": {
  "kernelspec": {
   "display_name": "Python 3 (ipykernel)",
   "language": "python",
   "name": "python3"
  },
  "language_info": {
   "codemirror_mode": {
    "name": "ipython",
    "version": 3
   },
   "file_extension": ".py",
   "mimetype": "text/x-python",
   "name": "python",
   "nbconvert_exporter": "python",
   "pygments_lexer": "ipython3"
  },
  "toc": {
   "base_numbering": 1,
   "nav_menu": {},
   "number_sections": true,
   "sideBar": true,
   "skip_h1_title": false,
   "title_cell": "Table of Contents",
   "title_sidebar": "Contents",
   "toc_cell": false,
   "toc_position": {},
   "toc_section_display": true,
   "toc_window_display": false
  }
 },
 "nbformat": 4,
 "nbformat_minor": 5
}
