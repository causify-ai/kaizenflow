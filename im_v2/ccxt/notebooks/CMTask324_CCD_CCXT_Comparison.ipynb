{
 "cells": [
  {
   "cell_type": "markdown",
   "id": "2d5b9812",
   "metadata": {},
   "source": [
    "# Imports"
   ]
  },
  {
   "cell_type": "code",
   "execution_count": null,
   "id": "df02857b",
   "metadata": {},
   "outputs": [],
   "source": [
    "import logging\n",
    "import os\n",
    "\n",
    "import pandas as pd\n",
    "\n",
    "import helpers.dbg as hdbg\n",
    "import helpers.env as henv\n",
    "import helpers.printing as hprint\n",
    "import helpers.s3 as hs3\n",
    "import im.cryptodatadownload.data.load.loader as imcdalolo\n",
    "import im_v2.ccxt.data.client.clients as imvcdclcl\n",
    "import im_v2.ccxt.universe.universe as imvccunun\n",
    "import im_v2.common.data.client.clients as ivcdclcl"
   ]
  },
  {
   "cell_type": "code",
   "execution_count": null,
   "id": "e2f361e4",
   "metadata": {},
   "outputs": [],
   "source": [
    "hdbg.init_logger(verbosity=logging.INFO)\n",
    "\n",
    "_LOG = logging.getLogger(__name__)\n",
    "\n",
    "_LOG.info(\"%s\", henv.get_system_signature()[0])\n",
    "\n",
    "hprint.config_notebook()"
   ]
  },
  {
   "cell_type": "markdown",
   "id": "51702034",
   "metadata": {},
   "source": [
    "# Load the data universe"
   ]
  },
  {
   "cell_type": "markdown",
   "id": "70420724",
   "metadata": {},
   "source": [
    "## CCXT"
   ]
  },
  {
   "cell_type": "code",
   "execution_count": null,
   "id": "d15816d5",
   "metadata": {},
   "outputs": [],
   "source": [
    "ccxt_universe = imvccunun.get_vendor_universe(version=\"v03\")"
   ]
  },
  {
   "cell_type": "markdown",
   "id": "b178b946",
   "metadata": {},
   "source": [
    "## CDD"
   ]
  },
  {
   "cell_type": "code",
   "execution_count": null,
   "id": "a45e3fad",
   "metadata": {},
   "outputs": [],
   "source": [
    "universe_cdd = imvccunun.get_vendor_universe(version=\"v01\", vendor=\"CDD\")"
   ]
  },
  {
   "cell_type": "markdown",
   "id": "821f2129",
   "metadata": {},
   "source": [
    "# Compare universes"
   ]
  },
  {
   "cell_type": "code",
   "execution_count": null,
   "id": "23220816",
   "metadata": {},
   "outputs": [],
   "source": [
    "_LOG.info(\"Number of full symbols in CCXT: %s\", len(ccxt_universe))\n",
    "_LOG.info(\"Number of full symbols in CDD: %s\", len(universe_cdd))"
   ]
  },
  {
   "cell_type": "code",
   "execution_count": null,
   "id": "158481db",
   "metadata": {},
   "outputs": [],
   "source": [
    "# Intersection of full symbols between two vendors.\n",
    "currency_pair_intersection = set(ccxt_universe).intersection(universe_cdd)\n",
    "_LOG.info(\"Number of similar full symbols: %s\", len(currency_pair_intersection))\n",
    "display(currency_pair_intersection)"
   ]
  },
  {
   "cell_type": "code",
   "execution_count": null,
   "id": "a72f1f1f",
   "metadata": {},
   "outputs": [],
   "source": [
    "# Full symbols that are included in CCXT but not in CDD.\n",
    "ccxt_and_not_cdd = set(ccxt_universe).difference(universe_cdd)\n",
    "_LOG.info(\n",
    "    \"Number of full symbols that are included in CCXT but not in CDD: %s\",\n",
    "    len(ccxt_and_not_cdd),\n",
    ")\n",
    "display(ccxt_and_not_cdd)"
   ]
  },
  {
   "cell_type": "code",
   "execution_count": null,
   "id": "0523b1b7",
   "metadata": {},
   "outputs": [],
   "source": [
    "# Full symbols that are included in CDD but not in CCXT.\n",
    "cdd_and_not_ccxt = set(universe_cdd).difference(ccxt_universe)\n",
    "_LOG.info(\n",
    "    \"Number of full symbols that are included in CDD but not in CCXT: %s\",\n",
    "    len(cdd_and_not_ccxt),\n",
    ")\n",
    "display(cdd_and_not_ccxt)"
   ]
  },
  {
   "cell_type": "markdown",
   "id": "06969925",
   "metadata": {},
   "source": [
    "# Compare close prices / returns from Binance"
   ]
  },
  {
   "cell_type": "markdown",
   "id": "65eb6a58",
   "metadata": {},
   "source": [
    "## Load the data"
   ]
  },
  {
   "cell_type": "markdown",
   "id": "ae3f24d9",
   "metadata": {},
   "source": [
    "The code below can be used to load all the existing data from two vendors CDD and CCXT. Current version is specified to Binance only, however, even for one exchange there's too many data to operate, that's why the output is the intersection of currency pairs between to universe, since one can compare only the intersection of currency pairs for two vendors."
   ]
  },
  {
   "cell_type": "code",
   "execution_count": null,
   "id": "be827c12",
   "metadata": {},
   "outputs": [],
   "source": [
    "# Load Binance-specific universe for CCXT.\n",
    "ccxt_binance_universe = [\n",
    "    element for element in ccxt_universe if element.startswith(\"binance\")\n",
    "]\n",
    "# Load Binnance-specific universe for CDD.\n",
    "cdd_binance_universe_initial = [\n",
    "    element for element in universe_cdd if element.startswith(\"binance\")\n",
    "]\n",
    "cdd_binance_universe = cdd_binance_universe_initial.copy()\n",
    "# SCU_USDT has incorrect columns, so can not be downloaded.\n",
    "# See CMTask244 - Cannot load CDD - binance - SCU/USDT from s3 for the reference.\n",
    "cdd_binance_universe.remove(\"binance::SCU_USDT\")\n",
    "# The intersection of Binance currency pairs from two universes.\n",
    "currency_pair_intersection_binance = set(ccxt_binance_universe).intersection(\n",
    "    cdd_binance_universe_initial\n",
    ")"
   ]
  },
  {
   "cell_type": "code",
   "execution_count": null,
   "id": "7f3ba9fd",
   "metadata": {},
   "outputs": [],
   "source": [
    "root_dir = os.path.join(hs3.get_path(), \"data\")"
   ]
  },
  {
   "cell_type": "code",
   "execution_count": null,
   "id": "8db077be",
   "metadata": {},
   "outputs": [],
   "source": [
    "cdd_data = []\n",
    "cdd_loader = imcdalolo.CddLoader(root_dir=root_dir, aws_profile=\"am\")\n",
    "\n",
    "for full_symbol in currency_pair_intersection_binance:\n",
    "    _, currency_pair = ivcdclcl.parse_full_symbol(full_symbol)\n",
    "    cur_data = cdd_loader.read_data_from_filesystem(\n",
    "        exchange_id=\"binance\", currency_pair=currency_pair, data_type=\"ohlcv\"\n",
    "    )\n",
    "    cdd_data.append(cur_data)\n",
    "cdd_binance_df = pd.concat(cdd_data)"
   ]
  },
  {
   "cell_type": "code",
   "execution_count": null,
   "id": "ab156e6d",
   "metadata": {},
   "outputs": [],
   "source": [
    "display(cdd_binance_df.head(3))\n",
    "display(cdd_binance_df.shape)"
   ]
  },
  {
   "cell_type": "code",
   "execution_count": null,
   "id": "948765b9",
   "metadata": {},
   "outputs": [],
   "source": [
    "ccxt_client = imvcdclcl.CcxtFileSystemClient(\n",
    "    data_type=\"ohlcv\", root_dir=root_dir, aws_profile=\"am\"\n",
    ")\n",
    "multiple_symbols_client = ivcdclcl.MultipleSymbolsClient(\n",
    "    class_=ccxt_client, mode=\"concat\"\n",
    ")\n",
    "ccxt_binance_df = multiple_symbols_client.read_data(\n",
    "    currency_pair_intersection_binance\n",
    ")"
   ]
  },
  {
   "cell_type": "code",
   "execution_count": null,
   "id": "40d26329",
   "metadata": {},
   "outputs": [],
   "source": [
    "ccxt_binance_df = ccxt_binance_df.sort_index()"
   ]
  },
  {
   "cell_type": "code",
   "execution_count": null,
   "id": "f656ef6f",
   "metadata": {},
   "outputs": [],
   "source": [
    "display(ccxt_binance_df.head(3))\n",
    "display(ccxt_binance_df.shape)"
   ]
  },
  {
   "cell_type": "markdown",
   "id": "34ce5bd1",
   "metadata": {},
   "source": [
    "## Calculate returns and correlation"
   ]
  },
  {
   "cell_type": "code",
   "execution_count": null,
   "id": "e4a4a808",
   "metadata": {},
   "outputs": [],
   "source": [
    "# CDD names cleaning.\n",
    "cdd_binance_df[\"currency_pair\"] = cdd_binance_df[\"currency_pair\"].str.replace(\n",
    "    \"/\", \"_\"\n",
    ")"
   ]
  },
  {
   "cell_type": "code",
   "execution_count": null,
   "id": "c01e0a5f",
   "metadata": {},
   "outputs": [],
   "source": [
    "def resample_close_price(df: pd.DataFrame, resampling_freq: str) -> pd.Series:\n",
    "    \"\"\"\n",
    "    Transform OHLCV data to the grouped series with resampled frequency and\n",
    "    last close prices.\n",
    "\n",
    "    :param df: OHLCV data\n",
    "    :param resampling_freq: frequency from `pd.date_range()` to resample to\n",
    "    :return: grouped and resampled close prices\n",
    "    \"\"\"\n",
    "    # Reseting DateTime index, since pd.Grouper can't use index values.\n",
    "    df = df.reset_index().rename(columns={\"index\": \"stamp\"})\n",
    "    # Group by currency pairs and simultaneously resample to the desired frequency.\n",
    "    resampler = df.groupby(\n",
    "        [\"currency_pair\", pd.Grouper(key=\"stamp\", freq=resampling_freq)]\n",
    "    )\n",
    "    # Take the last close value from each resampling period.\n",
    "    close_series = resampler.close.last()\n",
    "    return close_series"
   ]
  },
  {
   "cell_type": "code",
   "execution_count": null,
   "id": "e2e7ae9f",
   "metadata": {},
   "outputs": [],
   "source": [
    "def calculate_correlations(\n",
    "    ccxt_close_price: pd.Series, cdd_close_price: pd.Series, compute_returns: bool\n",
    ") -> pd.DataFrame:\n",
    "    \"\"\"\n",
    "    Take two series with close prices(i.e. CDD and CCXT data) and calculate the\n",
    "    correlations for each specific currency pair.\n",
    "\n",
    "    :param ccxt_series: grouped and resampled close prices for CCXT\n",
    "    :param cdd_series: grouped and resampled close prices for CDD\n",
    "    :param compute_returns: if True - compare returns, if False - compare close prices\n",
    "    :return: grouped correlation matrix\n",
    "    \"\"\"\n",
    "    if compute_returns:\n",
    "        # Group by currency pairs in order to calculate the percentage returns.\n",
    "        grouper_cdd = cdd_close_price.groupby(\"currency_pair\")\n",
    "        cdd_close_price = grouper_cdd.pct_change()\n",
    "        grouper_ccxt = ccxt_close_price.groupby(\"currency_pair\")\n",
    "        ccxt_close_price = grouper_ccxt.pct_change()\n",
    "    # Combine and calculate correlations.\n",
    "    combined = pd.merge(\n",
    "        cdd_close_price, ccxt_close_price, left_index=True, right_index=True\n",
    "    )\n",
    "    # Rename the columns.\n",
    "    if compute_returns:\n",
    "        combined.columns = [\"ccxt_returns\", \"cdd_returns\"]\n",
    "    else:\n",
    "        combined.columns = [\"cdd_close\", \"ccxt_close\"]\n",
    "    # Group by again to calculte returns correlation for each currency pair.\n",
    "    corr_matrix = combined.groupby(level=0).corr()\n",
    "    return corr_matrix"
   ]
  },
  {
   "cell_type": "code",
   "execution_count": null,
   "id": "975b1df0",
   "metadata": {},
   "outputs": [],
   "source": [
    "# Corresponding resampled Series.\n",
    "ccxt_binance_series_1d = resample_close_price(ccxt_binance_df, \"1D\")\n",
    "cdd_binance_series_1d = resample_close_price(cdd_binance_df, \"1D\")\n",
    "\n",
    "ccxt_binance_series_5min = resample_close_price(ccxt_binance_df, \"5min\")\n",
    "cdd_binance_series_5min = resample_close_price(cdd_binance_df, \"5min\")"
   ]
  },
  {
   "cell_type": "markdown",
   "id": "c56c9d1e",
   "metadata": {},
   "source": [
    "### 1-day returns"
   ]
  },
  {
   "cell_type": "code",
   "execution_count": null,
   "id": "3af8f847",
   "metadata": {},
   "outputs": [],
   "source": [
    "returns_corr_1day = calculate_correlations(\n",
    "    ccxt_binance_series_1d, cdd_binance_series_1d, compute_returns=True\n",
    ")\n",
    "display(returns_corr_1day)"
   ]
  },
  {
   "cell_type": "markdown",
   "id": "a5d24740",
   "metadata": {},
   "source": [
    "### 5-min returns"
   ]
  },
  {
   "cell_type": "code",
   "execution_count": null,
   "id": "4c69e461",
   "metadata": {},
   "outputs": [],
   "source": [
    "returns_corr_5min = calculate_correlations(\n",
    "    ccxt_binance_series_5min, cdd_binance_series_5min, compute_returns=True\n",
    ")\n",
    "display(returns_corr_5min)"
   ]
  },
  {
   "cell_type": "markdown",
   "id": "1d22eca0",
   "metadata": {},
   "source": [
    "## Compare close prices"
   ]
  },
  {
   "cell_type": "code",
   "execution_count": null,
   "id": "8014b363",
   "metadata": {},
   "outputs": [],
   "source": [
    "close_corr_1day = calculate_correlations(\n",
    "    ccxt_binance_series_1d, cdd_binance_series_1d, compute_returns=False\n",
    ")\n",
    "display(close_corr_1day)"
   ]
  }
 ],
 "metadata": {
  "jupytext": {
   "text_representation": {
    "extension": ".py",
    "format_name": "percent",
    "format_version": "1.3",
    "jupytext_version": "1.13.3"
   }
  },
  "kernelspec": {
   "display_name": "Python 3 (ipykernel)",
   "language": "python",
   "name": "python3"
  },
  "language_info": {
   "codemirror_mode": {
    "name": "ipython",
    "version": 3
   },
   "file_extension": ".py",
   "mimetype": "text/x-python",
   "name": "python",
   "nbconvert_exporter": "python",
   "pygments_lexer": "ipython3"
  },
  "toc": {
   "base_numbering": 1,
   "nav_menu": {},
   "number_sections": true,
   "sideBar": true,
   "skip_h1_title": false,
   "title_cell": "Table of Contents",
   "title_sidebar": "Contents",
   "toc_cell": false,
   "toc_position": {},
   "toc_section_display": true,
   "toc_window_display": false
  }
 },
 "nbformat": 4,
 "nbformat_minor": 5
}
