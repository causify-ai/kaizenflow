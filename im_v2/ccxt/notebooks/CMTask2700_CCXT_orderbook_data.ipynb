{
 "cells": [
  {
   "cell_type": "markdown",
   "id": "1c1a973e",
   "metadata": {},
   "source": [
    "# Description"
   ]
  },
  {
   "cell_type": "markdown",
   "id": "ab383a96",
   "metadata": {},
   "source": [
    "This notebook contains an example of accessing order book data from CCXT."
   ]
  },
  {
   "cell_type": "code",
   "execution_count": null,
   "id": "fbf52423",
   "metadata": {},
   "outputs": [],
   "source": [
    "import logging\n",
    "import pprint\n",
    "\n",
    "import pandas as pd\n",
    "\n",
    "import helpers.hdbg as hdbg\n",
    "import helpers.henv as henv\n",
    "import helpers.hprint as hprint\n",
    "import im_v2.ccxt.data.extract.extractor as imvcdexex\n",
    "import im_v2.common.universe.universe as imvcounun\n",
    "import im_v2.crypto_chassis.data.extract.extractor as imvccdexex"
   ]
  },
  {
   "cell_type": "code",
   "execution_count": null,
   "id": "bc5822f3",
   "metadata": {},
   "outputs": [],
   "source": [
    "hdbg.init_logger(verbosity=logging.INFO)\n",
    "\n",
    "_LOG = logging.getLogger(__name__)\n",
    "\n",
    "_LOG.info(\"%s\", henv.get_system_signature()[0])\n",
    "\n",
    "hprint.config_notebook()"
   ]
  },
  {
   "cell_type": "markdown",
   "id": "9d5e92df",
   "metadata": {},
   "source": [
    "### Initialize extractors"
   ]
  },
  {
   "cell_type": "code",
   "execution_count": null,
   "id": "f3a77ef7",
   "metadata": {},
   "outputs": [],
   "source": [
    "# Initialize CCXT extractor.\n",
    "ccxt_extractor = imvcdexex.CcxtExtractor(\"binance\", \"futures\")\n",
    "exchange = ccxt_extractor._exchange"
   ]
  },
  {
   "cell_type": "code",
   "execution_count": null,
   "id": "0a5e1858",
   "metadata": {},
   "outputs": [],
   "source": [
    "# Initialize CryptoChassis extractor and download a bid/ask data example.\n",
    "cryptochassis_extractor = imvccdexex.CryptoChassisExtractor(\"futures\")\n",
    "exchange_id = \"binance\"\n",
    "currency_pair = \"BTC_USDT\"\n",
    "start_timestamp = pd.Timestamp(\"01-09-2022\")\n",
    "end_timestamp = pd.Timestamp(\"02-09-2022\")\n",
    "cryptochassis_data_example = cryptochassis_extractor._download_bid_ask(\n",
    "    exchange_id, currency_pair, start_timestamp, end_timestamp\n",
    ")"
   ]
  },
  {
   "cell_type": "code",
   "execution_count": null,
   "id": "f752c898",
   "metadata": {},
   "outputs": [],
   "source": [
    "cryptochassis_data_example"
   ]
  },
  {
   "cell_type": "code",
   "execution_count": null,
   "id": "8ad7c445",
   "metadata": {},
   "outputs": [],
   "source": [
    "bid_ask_columns = cryptochassis_data_example.columns.to_list()"
   ]
  },
  {
   "cell_type": "markdown",
   "id": "ae9a96a2",
   "metadata": {},
   "source": [
    "## Example of CCXT orderbook data"
   ]
  },
  {
   "cell_type": "code",
   "execution_count": null,
   "id": "f6c19363",
   "metadata": {},
   "outputs": [],
   "source": [
    "symbol = \"BTC/USDT\"\n",
    "raw_orderbook_data = exchange.fetch_order_book(symbol)"
   ]
  },
  {
   "cell_type": "code",
   "execution_count": null,
   "id": "93d7b6d7",
   "metadata": {},
   "outputs": [],
   "source": [
    "# Get data keys from CCXT.\n",
    "print(raw_orderbook_data.keys())"
   ]
  },
  {
   "cell_type": "code",
   "execution_count": null,
   "id": "1653a945",
   "metadata": {},
   "outputs": [],
   "source": [
    "# Example of raw orderbook data.\n",
    "pprint.pprint(raw_orderbook_data, sort_dicts=False)"
   ]
  },
  {
   "cell_type": "code",
   "execution_count": null,
   "id": "e3cb0b5a",
   "metadata": {},
   "outputs": [],
   "source": [
    "print(len(raw_orderbook_data[\"bids\"]))"
   ]
  },
  {
   "cell_type": "code",
   "execution_count": null,
   "id": "941c8a74",
   "metadata": {},
   "outputs": [],
   "source": [
    "print(len(raw_orderbook_data[\"asks\"]))"
   ]
  },
  {
   "cell_type": "markdown",
   "id": "f06d2934",
   "metadata": {},
   "source": [
    "- The `fetch_order_book` method returns the 500 top of the book results at the moment of request.\n",
    "- Note that the `timestamp` and `datetime` are set to a `ms` accuracy."
   ]
  },
  {
   "cell_type": "code",
   "execution_count": null,
   "id": "ebe7a43a",
   "metadata": {},
   "outputs": [],
   "source": [
    "# Transform the raw data into a dataframe.\n",
    "orderbook_df = pd.DataFrame.from_dict(raw_orderbook_data)\n",
    "orderbook_df"
   ]
  },
  {
   "cell_type": "markdown",
   "id": "9e9799c5",
   "metadata": {},
   "source": [
    "Each row in the orderbook contains a `list` with 2 values corresponding to `bid_price`, `bid_size`, `ask_price` and `ask_size`, as in CryptoChassis."
   ]
  },
  {
   "cell_type": "code",
   "execution_count": null,
   "id": "0cea8e30",
   "metadata": {},
   "outputs": [],
   "source": [
    "orderbook_df[[\"bid_price\", \"bid_size\"]] = pd.DataFrame(\n",
    "    orderbook_df.bids.to_list(), index=orderbook_df.index\n",
    ")\n",
    "orderbook_df[[\"ask_price\", \"ask_size\"]] = pd.DataFrame(\n",
    "    orderbook_df.asks.to_list(), index=orderbook_df.index\n",
    ")"
   ]
  },
  {
   "cell_type": "code",
   "execution_count": null,
   "id": "94ca8718",
   "metadata": {},
   "outputs": [],
   "source": [
    "orderbook_df"
   ]
  },
  {
   "cell_type": "code",
   "execution_count": null,
   "id": "0c75061b",
   "metadata": {},
   "outputs": [],
   "source": [
    "orderbook_df = orderbook_df[bid_ask_columns]\n",
    "orderbook_df"
   ]
  },
  {
   "cell_type": "code",
   "execution_count": null,
   "id": "1cf25f40",
   "metadata": {},
   "outputs": [],
   "source": [
    "orderbook_df[:10]"
   ]
  },
  {
   "cell_type": "markdown",
   "id": "f76dea9f",
   "metadata": {},
   "source": [
    "- The top of the book in CCXT is sorted by price\n",
    "- All columns present in CryptoChassis are present in CCXT output"
   ]
  },
  {
   "cell_type": "markdown",
   "id": "32c1392f",
   "metadata": {},
   "source": [
    "## `_download_bid_ask` method proposal"
   ]
  },
  {
   "cell_type": "code",
   "execution_count": null,
   "id": "38452a34",
   "metadata": {},
   "outputs": [],
   "source": [
    "def _download_bid_ask(extractor, currency_pair: str, *, depth=10):\n",
    "    \"\"\"\n",
    "    Download bid-ask data from CCXT.\n",
    "\n",
    "    :param depth: depth of the order book to download.\n",
    "    \"\"\"\n",
    "    # Convert symbol to CCXT format, e.g. \"BTC_USDT\" -> \"BTC/USDT\".\n",
    "    currency_pair = extractor.convert_currency_pair(currency_pair)\n",
    "    # Download order book data.\n",
    "    order_book = extractor._exchange.fetch_order_book(currency_pair)\n",
    "    order_book = pd.DataFrame.from_dict(order_book)\n",
    "    order_book = order_book.loc[:depth]\n",
    "    # Separate price and size into columns.\n",
    "    order_book[[\"bid_price\", \"bid_size\"]] = pd.DataFrame(\n",
    "        order_book.bids.to_list(), index=order_book.index\n",
    "    )\n",
    "    order_book[[\"ask_price\", \"ask_size\"]] = pd.DataFrame(\n",
    "        order_book.asks.to_list(), index=order_book.index\n",
    "    )\n",
    "    # Select bid/ask columns.\n",
    "    bid_ask_columns = [\n",
    "        \"timestamp\",\n",
    "        \"bid_price\",\n",
    "        \"bid_size\",\n",
    "        \"ask_price\",\n",
    "        \"ask_size\",\n",
    "    ]\n",
    "    bid_ask = order_book[bid_ask_columns]\n",
    "    return bid_ask"
   ]
  },
  {
   "cell_type": "code",
   "execution_count": null,
   "id": "df54c484",
   "metadata": {},
   "outputs": [],
   "source": [
    "data = _download_bid_ask(ccxt_extractor, \"BTC_USDT\")\n",
    "data"
   ]
  },
  {
   "cell_type": "markdown",
   "id": "f080a6ea",
   "metadata": {},
   "source": [
    "## Check universe"
   ]
  },
  {
   "cell_type": "markdown",
   "id": "0f6f59c2",
   "metadata": {},
   "source": [
    "Verify that all symbols for which we download bid/ask from CryptoChassis are accessible via CCXT."
   ]
  },
  {
   "cell_type": "code",
   "execution_count": null,
   "id": "7ae6dab5",
   "metadata": {},
   "outputs": [],
   "source": [
    "binance_universe = imvcounun.get_vendor_universe(\"crypto_chassis\", \"download\")[\n",
    "    \"binance\"\n",
    "]\n",
    "binance_universe"
   ]
  },
  {
   "cell_type": "code",
   "execution_count": null,
   "id": "bda85e48",
   "metadata": {},
   "outputs": [],
   "source": [
    "for symbol in binance_universe:\n",
    "    try:\n",
    "        _download_bid_ask(ccxt_extractor, symbol)\n",
    "        print(f\"Successfully downloaded {symbol}.\")\n",
    "    except:\n",
    "        print(f\"Symbol {symbol} failed to download.\")"
   ]
  }
 ],
 "metadata": {
  "kernelspec": {
   "display_name": "Python 3 (ipykernel)",
   "language": "python",
   "name": "python3"
  },
  "language_info": {
   "codemirror_mode": {
    "name": "ipython",
    "version": 3
   },
   "file_extension": ".py",
   "mimetype": "text/x-python",
   "name": "python",
   "nbconvert_exporter": "python",
   "pygments_lexer": "ipython3"
  },
  "toc": {
   "base_numbering": 1,
   "nav_menu": {},
   "number_sections": true,
   "sideBar": true,
   "skip_h1_title": false,
   "title_cell": "Table of Contents",
   "title_sidebar": "Contents",
   "toc_cell": false,
   "toc_position": {},
   "toc_section_display": true,
   "toc_window_display": false
  }
 },
 "nbformat": 4,
 "nbformat_minor": 5
}
