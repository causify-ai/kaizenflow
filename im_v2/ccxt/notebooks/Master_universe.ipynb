{
 "cells": [
  {
   "cell_type": "markdown",
   "id": "5dd805c0",
   "metadata": {},
   "source": [
    "# Description\n",
    "\n",
    "This notebook loads CCXT universes.\n",
    "\n",
    "See versions descriptions in `im_v2/ccxt/universe/trade/universe_versions.txt`."
   ]
  },
  {
   "cell_type": "markdown",
   "id": "65fc0d47",
   "metadata": {},
   "source": [
    "# Imports"
   ]
  },
  {
   "cell_type": "code",
   "execution_count": 65,
   "id": "df5dac4c",
   "metadata": {
    "ExecuteTime": {
     "end_time": "2023-06-14T18:44:36.379472Z",
     "start_time": "2023-06-14T18:44:36.375430Z"
    }
   },
   "outputs": [],
   "source": [
    "import logging\n",
    "from typing import Dict\n",
    "\n",
    "import helpers.hdbg as hdbg\n",
    "import helpers.henv as henv\n",
    "import helpers.hprint as hprint\n",
    "import im_v2.common.universe as ivcu"
   ]
  },
  {
   "cell_type": "code",
   "execution_count": 66,
   "id": "4af84a8d",
   "metadata": {
    "ExecuteTime": {
     "end_time": "2023-06-14T18:44:37.526465Z",
     "start_time": "2023-06-14T18:44:37.373038Z"
    }
   },
   "outputs": [
    {
     "name": "stdout",
     "output_type": "stream",
     "text": [
      "\u001b[0m\u001b[33mWARNING\u001b[0m: Logger already initialized: skipping\n",
      "\u001b[31m-----------------------------------------------------------------------------\n",
      "This code is not in sync with the container:\n",
      "code_version='1.4.3' != container_version='1.4.0'\n",
      "-----------------------------------------------------------------------------\n",
      "You need to:\n",
      "- merge origin/master into your branch with `invoke git_merge_master`\n",
      "- pull the latest container with `invoke docker_pull`\u001b[0m\n",
      "INFO  # Git\n",
      "  branch_name='Issue4559_Load_Universes_In_Notebook'\n",
      "  hash='8e98cced0'\n",
      "  # Last commits:\n",
      "    *   8e98cced0 Samarth KaPatel Merge branch 'master' into Issue4559_Load_Universes_In_Notebook   (   5 hours ago) Wed Jun 14 13:58:38 2023  (HEAD -> Issue4559_Load_Universes_In_Notebook, origin/Issue4559_Load_Universes_In_Notebook)\n",
      "    |\\  \n",
      "    * | 7ce393c2b Samarth  Update and lint                                                   (   5 hours ago) Wed Jun 14 13:58:12 2023           \n",
      "    | * 969d9728b DanilYachmenev CmTask4558: Refactor _test_invariance1 (#4566)                    (   5 hours ago) Wed Jun 14 13:25:49 2023  (origin/master, origin/HEAD)\n",
      "# Machine info\n",
      "  system=Linux\n",
      "  node name=bb87a30f05d2\n",
      "  release=5.15.0-1033-aws\n",
      "  version=#37~20.04.1-Ubuntu SMP Fri Mar 17 11:39:30 UTC 2023\n",
      "  machine=x86_64\n",
      "  processor=x86_64\n",
      "  cpu count=8\n",
      "  cpu freq=scpufreq(current=2499.998, min=0.0, max=0.0)\n",
      "  memory=svmem(total=33292873728, available=26358837248, percent=20.8, used=6465171456, free=6406873088, active=7496155136, inactive=15372546048, buffers=2351243264, cached=18069585920, shared=3117056, slab=3677388800)\n",
      "  disk usage=sdiskusage(total=156052275200, used=47917641728, free=108117856256, percent=30.7)\n",
      "# Packages\n",
      "  python: 3.8.10\n",
      "  cvxopt: 1.3.0\n",
      "  cvxpy: 1.2.2\n",
      "  gluonnlp: ?\n",
      "  gluonts: 0.6.7\n",
      "  joblib: 1.2.0\n",
      "  mxnet: 1.9.1\n",
      "  numpy: 1.23.4\n",
      "  pandas: 1.5.1\n",
      "  pyarrow: 10.0.0\n",
      "  scipy: 1.9.3\n",
      "  seaborn: 0.12.1\n",
      "  sklearn: 1.1.3\n",
      "  statsmodels: 0.13.5\n"
     ]
    }
   ],
   "source": [
    "hdbg.init_logger(verbosity=logging.INFO)\n",
    "\n",
    "_LOG = logging.getLogger(__name__)\n",
    "\n",
    "_LOG.info(\"%s\", henv.get_system_signature()[0])\n",
    "\n",
    "hprint.config_notebook()"
   ]
  },
  {
   "cell_type": "markdown",
   "id": "8f57431c",
   "metadata": {},
   "source": [
    "# Show all the universe versions for the vendor"
   ]
  },
  {
   "cell_type": "code",
   "execution_count": 67,
   "id": "c4095ae1",
   "metadata": {
    "ExecuteTime": {
     "end_time": "2023-06-14T18:44:39.498040Z",
     "start_time": "2023-06-14T18:44:39.491048Z"
    }
   },
   "outputs": [
    {
     "data": {
      "text/plain": [
       "['v1', 'v2', 'v3', 'v4', 'v5', 'v6', 'v7', 'v7.1', 'v7.2', 'v7.3']"
      ]
     },
     "execution_count": 67,
     "metadata": {},
     "output_type": "execute_result"
    }
   ],
   "source": [
    "mode = \"trade\"\n",
    "vendor = \"CCXT\"\n",
    "ivcu.universe.get_universe_versions(vendor, mode)"
   ]
  },
  {
   "cell_type": "markdown",
   "id": "61347237",
   "metadata": {},
   "source": [
    "# Load universes"
   ]
  },
  {
   "cell_type": "code",
   "execution_count": 68,
   "id": "dc762b6d",
   "metadata": {
    "ExecuteTime": {
     "end_time": "2023-06-14T18:44:41.170495Z",
     "start_time": "2023-06-14T18:44:41.164024Z"
    }
   },
   "outputs": [],
   "source": [
    "def load_universe(version: str) -> Dict[ivcu.full_symbol.FullSymbol, int]:\n",
    "    \"\"\"\n",
    "    Load universe for CCXT.\n",
    "\n",
    "    :return: full symbol -> asset id mappings\n",
    "    \"\"\"\n",
    "    vendor = \"CCXT\"\n",
    "    mode = \"trade\"\n",
    "    version = version\n",
    "    # Get universe.\n",
    "    universe = ivcu.universe.get_vendor_universe(\n",
    "        vendor, mode, version=version, as_full_symbol=True\n",
    "    )\n",
    "    universe_mapping = ivcu.universe_utils.build_numerical_to_string_id_mapping(\n",
    "        universe\n",
    "    )\n",
    "    # Swap asset ids and full symbols to get `{full_symbol: asset_id}` mapping.\n",
    "    universe_mapping = dict(\n",
    "        (full_symbol, asset_id)\n",
    "        for asset_id, full_symbol in universe_mapping.items()\n",
    "    )\n",
    "    # Sort for readability.\n",
    "    universe_mapping = dict(sorted(universe_mapping.items()))\n",
    "    return universe_mapping"
   ]
  },
  {
   "cell_type": "markdown",
   "id": "871fe37d",
   "metadata": {},
   "source": [
    "## v7"
   ]
  },
  {
   "cell_type": "code",
   "execution_count": 69,
   "id": "fb046194",
   "metadata": {
    "ExecuteTime": {
     "end_time": "2023-06-14T18:44:42.841284Z",
     "start_time": "2023-06-14T18:44:42.825511Z"
    },
    "scrolled": true
   },
   "outputs": [
    {
     "data": {
      "text/plain": [
       "{'binance::APE_USDT': 6051632686,\n",
       " 'binance::AVAX_USDT': 8717633868,\n",
       " 'binance::AXS_USDT': 2540896331,\n",
       " 'binance::BAKE_USDT': 1528092593,\n",
       " 'binance::BNB_USDT': 8968126878,\n",
       " 'binance::BTC_BUSD': 1182743717,\n",
       " 'binance::BTC_USDT': 1467591036,\n",
       " 'binance::CRV_USDT': 2476706208,\n",
       " 'binance::CTK_USDT': 5115052901,\n",
       " 'binance::DOGE_USDT': 3065029174,\n",
       " 'binance::DOT_USDT': 1891737434,\n",
       " 'binance::DYDX_USDT': 3401245610,\n",
       " 'binance::ETH_BUSD': 4939988068,\n",
       " 'binance::ETH_USDT': 1464553467,\n",
       " 'binance::FTM_USDT': 1966583502,\n",
       " 'binance::GMT_USDT': 1030828978,\n",
       " 'binance::LINK_USDT': 2601760471,\n",
       " 'binance::MATIC_USDT': 2683705052,\n",
       " 'binance::NEAR_USDT': 9872743573,\n",
       " 'binance::OGN_USDT': 2484635488,\n",
       " 'binance::RUNE_USDT': 2099673105,\n",
       " 'binance::SAND_USDT': 4516629366,\n",
       " 'binance::SOL_USDT': 2237530510,\n",
       " 'binance::STORJ_USDT': 2425308589,\n",
       " 'binance::UNFI_USDT': 1776791608,\n",
       " 'binance::WAVES_USDT': 2384892553,\n",
       " 'binance::XRP_USDT': 5118394986}"
      ]
     },
     "execution_count": 69,
     "metadata": {},
     "output_type": "execute_result"
    }
   ],
   "source": [
    "universe_version = \"v7\"\n",
    "universe_mapping = load_universe(universe_version)\n",
    "universe_mapping"
   ]
  },
  {
   "cell_type": "code",
   "execution_count": 70,
   "id": "e81c4cc8",
   "metadata": {
    "ExecuteTime": {
     "end_time": "2023-06-14T18:44:43.980024Z",
     "start_time": "2023-06-14T18:44:43.974510Z"
    }
   },
   "outputs": [
    {
     "data": {
      "text/plain": [
       "[6051632686,\n",
       " 8717633868,\n",
       " 2540896331,\n",
       " 1528092593,\n",
       " 8968126878,\n",
       " 1182743717,\n",
       " 1467591036,\n",
       " 2476706208,\n",
       " 5115052901,\n",
       " 3065029174,\n",
       " 1891737434,\n",
       " 3401245610,\n",
       " 4939988068,\n",
       " 1464553467,\n",
       " 1966583502,\n",
       " 1030828978,\n",
       " 2601760471,\n",
       " 2683705052,\n",
       " 9872743573,\n",
       " 2484635488,\n",
       " 2099673105,\n",
       " 4516629366,\n",
       " 2237530510,\n",
       " 2425308589,\n",
       " 1776791608,\n",
       " 2384892553,\n",
       " 5118394986]"
      ]
     },
     "execution_count": 70,
     "metadata": {},
     "output_type": "execute_result"
    }
   ],
   "source": [
    "# Universe as asset ids.\n",
    "asset_ids = list(universe_mapping.values())\n",
    "asset_ids"
   ]
  },
  {
   "cell_type": "code",
   "execution_count": 71,
   "id": "366bda33",
   "metadata": {
    "ExecuteTime": {
     "end_time": "2023-06-14T18:44:45.277613Z",
     "start_time": "2023-06-14T18:44:45.267902Z"
    }
   },
   "outputs": [
    {
     "data": {
      "text/plain": [
       "['binance::APE_USDT',\n",
       " 'binance::AVAX_USDT',\n",
       " 'binance::AXS_USDT',\n",
       " 'binance::BAKE_USDT',\n",
       " 'binance::BNB_USDT',\n",
       " 'binance::BTC_BUSD',\n",
       " 'binance::BTC_USDT',\n",
       " 'binance::CRV_USDT',\n",
       " 'binance::CTK_USDT',\n",
       " 'binance::DOGE_USDT',\n",
       " 'binance::DOT_USDT',\n",
       " 'binance::DYDX_USDT',\n",
       " 'binance::ETH_BUSD',\n",
       " 'binance::ETH_USDT',\n",
       " 'binance::FTM_USDT',\n",
       " 'binance::GMT_USDT',\n",
       " 'binance::LINK_USDT',\n",
       " 'binance::MATIC_USDT',\n",
       " 'binance::NEAR_USDT',\n",
       " 'binance::OGN_USDT',\n",
       " 'binance::RUNE_USDT',\n",
       " 'binance::SAND_USDT',\n",
       " 'binance::SOL_USDT',\n",
       " 'binance::STORJ_USDT',\n",
       " 'binance::UNFI_USDT',\n",
       " 'binance::WAVES_USDT',\n",
       " 'binance::XRP_USDT']"
      ]
     },
     "execution_count": 71,
     "metadata": {},
     "output_type": "execute_result"
    }
   ],
   "source": [
    "# Universe as Full symbols.\n",
    "full_symbols = list(universe_mapping.keys())\n",
    "full_symbols"
   ]
  },
  {
   "cell_type": "markdown",
   "id": "b6d80089",
   "metadata": {},
   "source": [
    "## v7.1"
   ]
  },
  {
   "cell_type": "code",
   "execution_count": 72,
   "id": "2a943c75",
   "metadata": {
    "ExecuteTime": {
     "end_time": "2023-06-14T18:44:47.807491Z",
     "start_time": "2023-06-14T18:44:47.784910Z"
    },
    "scrolled": true
   },
   "outputs": [
    {
     "data": {
      "text/plain": [
       "{'binance::APE_USDT': 6051632686,\n",
       " 'binance::AVAX_USDT': 8717633868,\n",
       " 'binance::AXS_USDT': 2540896331,\n",
       " 'binance::BAKE_USDT': 1528092593,\n",
       " 'binance::BNB_USDT': 8968126878,\n",
       " 'binance::BTC_USDT': 1467591036,\n",
       " 'binance::CRV_USDT': 2476706208,\n",
       " 'binance::CTK_USDT': 5115052901,\n",
       " 'binance::DOGE_USDT': 3065029174,\n",
       " 'binance::DOT_USDT': 1891737434,\n",
       " 'binance::DYDX_USDT': 3401245610,\n",
       " 'binance::ETH_USDT': 1464553467,\n",
       " 'binance::FTM_USDT': 1966583502,\n",
       " 'binance::GMT_USDT': 1030828978,\n",
       " 'binance::LINK_USDT': 2601760471,\n",
       " 'binance::MATIC_USDT': 2683705052,\n",
       " 'binance::NEAR_USDT': 9872743573,\n",
       " 'binance::OGN_USDT': 2484635488,\n",
       " 'binance::RUNE_USDT': 2099673105,\n",
       " 'binance::SAND_USDT': 4516629366,\n",
       " 'binance::SOL_USDT': 2237530510,\n",
       " 'binance::STORJ_USDT': 2425308589,\n",
       " 'binance::UNFI_USDT': 1776791608,\n",
       " 'binance::WAVES_USDT': 2384892553,\n",
       " 'binance::XRP_USDT': 5118394986}"
      ]
     },
     "execution_count": 72,
     "metadata": {},
     "output_type": "execute_result"
    }
   ],
   "source": [
    "universe_version = \"v7.1\"\n",
    "universe_mapping = load_universe(universe_version)\n",
    "universe_mapping"
   ]
  },
  {
   "cell_type": "code",
   "execution_count": 73,
   "id": "6d4c80d0",
   "metadata": {
    "ExecuteTime": {
     "end_time": "2023-06-14T18:44:49.067322Z",
     "start_time": "2023-06-14T18:44:49.061060Z"
    }
   },
   "outputs": [
    {
     "data": {
      "text/plain": [
       "[6051632686,\n",
       " 8717633868,\n",
       " 2540896331,\n",
       " 1528092593,\n",
       " 8968126878,\n",
       " 1467591036,\n",
       " 2476706208,\n",
       " 5115052901,\n",
       " 3065029174,\n",
       " 1891737434,\n",
       " 3401245610,\n",
       " 1464553467,\n",
       " 1966583502,\n",
       " 1030828978,\n",
       " 2601760471,\n",
       " 2683705052,\n",
       " 9872743573,\n",
       " 2484635488,\n",
       " 2099673105,\n",
       " 4516629366,\n",
       " 2237530510,\n",
       " 2425308589,\n",
       " 1776791608,\n",
       " 2384892553,\n",
       " 5118394986]"
      ]
     },
     "execution_count": 73,
     "metadata": {},
     "output_type": "execute_result"
    }
   ],
   "source": [
    "# Universe as asset ids.\n",
    "asset_ids = list(universe_mapping.values())\n",
    "asset_ids"
   ]
  },
  {
   "cell_type": "code",
   "execution_count": 74,
   "id": "ab90097f",
   "metadata": {
    "ExecuteTime": {
     "end_time": "2023-06-14T18:44:50.133734Z",
     "start_time": "2023-06-14T18:44:50.127954Z"
    }
   },
   "outputs": [
    {
     "data": {
      "text/plain": [
       "['binance::APE_USDT',\n",
       " 'binance::AVAX_USDT',\n",
       " 'binance::AXS_USDT',\n",
       " 'binance::BAKE_USDT',\n",
       " 'binance::BNB_USDT',\n",
       " 'binance::BTC_USDT',\n",
       " 'binance::CRV_USDT',\n",
       " 'binance::CTK_USDT',\n",
       " 'binance::DOGE_USDT',\n",
       " 'binance::DOT_USDT',\n",
       " 'binance::DYDX_USDT',\n",
       " 'binance::ETH_USDT',\n",
       " 'binance::FTM_USDT',\n",
       " 'binance::GMT_USDT',\n",
       " 'binance::LINK_USDT',\n",
       " 'binance::MATIC_USDT',\n",
       " 'binance::NEAR_USDT',\n",
       " 'binance::OGN_USDT',\n",
       " 'binance::RUNE_USDT',\n",
       " 'binance::SAND_USDT',\n",
       " 'binance::SOL_USDT',\n",
       " 'binance::STORJ_USDT',\n",
       " 'binance::UNFI_USDT',\n",
       " 'binance::WAVES_USDT',\n",
       " 'binance::XRP_USDT']"
      ]
     },
     "execution_count": 74,
     "metadata": {},
     "output_type": "execute_result"
    }
   ],
   "source": [
    "# Universe as Full symbols.\n",
    "full_symbols = list(universe_mapping.keys())\n",
    "full_symbols"
   ]
  },
  {
   "cell_type": "markdown",
   "id": "c75d866a",
   "metadata": {},
   "source": [
    "## v7.2"
   ]
  },
  {
   "cell_type": "code",
   "execution_count": 75,
   "id": "3d3cea30",
   "metadata": {
    "ExecuteTime": {
     "end_time": "2023-06-14T18:44:51.938590Z",
     "start_time": "2023-06-14T18:44:51.920028Z"
    },
    "scrolled": false
   },
   "outputs": [
    {
     "data": {
      "text/plain": [
       "{'binance::APE_USDT': 6051632686,\n",
       " 'binance::AVAX_USDT': 8717633868,\n",
       " 'binance::AXS_USDT': 2540896331,\n",
       " 'binance::BNB_USDT': 8968126878,\n",
       " 'binance::BTC_BUSD': 1182743717,\n",
       " 'binance::BTC_USDT': 1467591036,\n",
       " 'binance::DOGE_USDT': 3065029174,\n",
       " 'binance::DOT_USDT': 1891737434,\n",
       " 'binance::ETH_BUSD': 4939988068,\n",
       " 'binance::ETH_USDT': 1464553467,\n",
       " 'binance::FTM_USDT': 1966583502,\n",
       " 'binance::GMT_USDT': 1030828978,\n",
       " 'binance::LINK_USDT': 2601760471,\n",
       " 'binance::MATIC_USDT': 2683705052,\n",
       " 'binance::NEAR_USDT': 9872743573,\n",
       " 'binance::OGN_USDT': 2484635488,\n",
       " 'binance::RUNE_USDT': 2099673105,\n",
       " 'binance::SAND_USDT': 4516629366,\n",
       " 'binance::SOL_USDT': 2237530510,\n",
       " 'binance::STORJ_USDT': 2425308589,\n",
       " 'binance::UNFI_USDT': 1776791608,\n",
       " 'binance::WAVES_USDT': 2384892553,\n",
       " 'binance::XRP_USDT': 5118394986}"
      ]
     },
     "execution_count": 75,
     "metadata": {},
     "output_type": "execute_result"
    }
   ],
   "source": [
    "universe_version = \"v7.2\"\n",
    "universe_mapping = load_universe(universe_version)\n",
    "universe_mapping"
   ]
  },
  {
   "cell_type": "code",
   "execution_count": 76,
   "id": "5371ca75",
   "metadata": {
    "ExecuteTime": {
     "end_time": "2023-06-14T18:44:52.894921Z",
     "start_time": "2023-06-14T18:44:52.889925Z"
    }
   },
   "outputs": [
    {
     "data": {
      "text/plain": [
       "[6051632686,\n",
       " 8717633868,\n",
       " 2540896331,\n",
       " 8968126878,\n",
       " 1182743717,\n",
       " 1467591036,\n",
       " 3065029174,\n",
       " 1891737434,\n",
       " 4939988068,\n",
       " 1464553467,\n",
       " 1966583502,\n",
       " 1030828978,\n",
       " 2601760471,\n",
       " 2683705052,\n",
       " 9872743573,\n",
       " 2484635488,\n",
       " 2099673105,\n",
       " 4516629366,\n",
       " 2237530510,\n",
       " 2425308589,\n",
       " 1776791608,\n",
       " 2384892553,\n",
       " 5118394986]"
      ]
     },
     "execution_count": 76,
     "metadata": {},
     "output_type": "execute_result"
    }
   ],
   "source": [
    "# Universe as asset ids.\n",
    "asset_ids = list(universe_mapping.values())\n",
    "asset_ids"
   ]
  },
  {
   "cell_type": "code",
   "execution_count": 77,
   "id": "b45fccf3",
   "metadata": {
    "ExecuteTime": {
     "end_time": "2023-06-14T18:44:53.836486Z",
     "start_time": "2023-06-14T18:44:53.831924Z"
    }
   },
   "outputs": [
    {
     "data": {
      "text/plain": [
       "['binance::APE_USDT',\n",
       " 'binance::AVAX_USDT',\n",
       " 'binance::AXS_USDT',\n",
       " 'binance::BNB_USDT',\n",
       " 'binance::BTC_BUSD',\n",
       " 'binance::BTC_USDT',\n",
       " 'binance::DOGE_USDT',\n",
       " 'binance::DOT_USDT',\n",
       " 'binance::ETH_BUSD',\n",
       " 'binance::ETH_USDT',\n",
       " 'binance::FTM_USDT',\n",
       " 'binance::GMT_USDT',\n",
       " 'binance::LINK_USDT',\n",
       " 'binance::MATIC_USDT',\n",
       " 'binance::NEAR_USDT',\n",
       " 'binance::OGN_USDT',\n",
       " 'binance::RUNE_USDT',\n",
       " 'binance::SAND_USDT',\n",
       " 'binance::SOL_USDT',\n",
       " 'binance::STORJ_USDT',\n",
       " 'binance::UNFI_USDT',\n",
       " 'binance::WAVES_USDT',\n",
       " 'binance::XRP_USDT']"
      ]
     },
     "execution_count": 77,
     "metadata": {},
     "output_type": "execute_result"
    }
   ],
   "source": [
    "# Universe as Full symbols.\n",
    "full_symbols = list(universe_mapping.keys())\n",
    "full_symbols"
   ]
  },
  {
   "cell_type": "markdown",
   "id": "42ee0ea3",
   "metadata": {},
   "source": [
    "## v7.3"
   ]
  },
  {
   "cell_type": "code",
   "execution_count": 78,
   "id": "4026e796",
   "metadata": {
    "ExecuteTime": {
     "end_time": "2023-06-14T18:44:55.604461Z",
     "start_time": "2023-06-14T18:44:55.595022Z"
    },
    "scrolled": false
   },
   "outputs": [
    {
     "data": {
      "text/plain": [
       "{'binance::APE_USDT': 6051632686,\n",
       " 'binance::AVAX_USDT': 8717633868,\n",
       " 'binance::AXS_USDT': 2540896331,\n",
       " 'binance::BNB_USDT': 8968126878,\n",
       " 'binance::BTC_USDT': 1467591036,\n",
       " 'binance::DOGE_USDT': 3065029174,\n",
       " 'binance::DOT_USDT': 1891737434,\n",
       " 'binance::ETH_USDT': 1464553467,\n",
       " 'binance::FTM_USDT': 1966583502,\n",
       " 'binance::GMT_USDT': 1030828978,\n",
       " 'binance::LINK_USDT': 2601760471,\n",
       " 'binance::MATIC_USDT': 2683705052,\n",
       " 'binance::NEAR_USDT': 9872743573,\n",
       " 'binance::OGN_USDT': 2484635488,\n",
       " 'binance::RUNE_USDT': 2099673105,\n",
       " 'binance::SAND_USDT': 4516629366,\n",
       " 'binance::SOL_USDT': 2237530510,\n",
       " 'binance::STORJ_USDT': 2425308589,\n",
       " 'binance::UNFI_USDT': 1776791608,\n",
       " 'binance::WAVES_USDT': 2384892553,\n",
       " 'binance::XRP_USDT': 5118394986}"
      ]
     },
     "execution_count": 78,
     "metadata": {},
     "output_type": "execute_result"
    }
   ],
   "source": [
    "universe_version = \"v7.3\"\n",
    "universe_mapping = load_universe(universe_version)\n",
    "universe_mapping"
   ]
  },
  {
   "cell_type": "code",
   "execution_count": 79,
   "id": "e9176cba",
   "metadata": {
    "ExecuteTime": {
     "end_time": "2023-06-14T18:44:56.443596Z",
     "start_time": "2023-06-14T18:44:56.437743Z"
    }
   },
   "outputs": [
    {
     "data": {
      "text/plain": [
       "[6051632686,\n",
       " 8717633868,\n",
       " 2540896331,\n",
       " 8968126878,\n",
       " 1467591036,\n",
       " 3065029174,\n",
       " 1891737434,\n",
       " 1464553467,\n",
       " 1966583502,\n",
       " 1030828978,\n",
       " 2601760471,\n",
       " 2683705052,\n",
       " 9872743573,\n",
       " 2484635488,\n",
       " 2099673105,\n",
       " 4516629366,\n",
       " 2237530510,\n",
       " 2425308589,\n",
       " 1776791608,\n",
       " 2384892553,\n",
       " 5118394986]"
      ]
     },
     "execution_count": 79,
     "metadata": {},
     "output_type": "execute_result"
    }
   ],
   "source": [
    "# Universe as asset ids.\n",
    "asset_ids = list(universe_mapping.values())\n",
    "asset_ids"
   ]
  },
  {
   "cell_type": "code",
   "execution_count": 80,
   "id": "e3890fa0",
   "metadata": {
    "ExecuteTime": {
     "end_time": "2023-06-14T18:44:57.597704Z",
     "start_time": "2023-06-14T18:44:57.592607Z"
    }
   },
   "outputs": [
    {
     "data": {
      "text/plain": [
       "['binance::APE_USDT',\n",
       " 'binance::AVAX_USDT',\n",
       " 'binance::AXS_USDT',\n",
       " 'binance::BNB_USDT',\n",
       " 'binance::BTC_USDT',\n",
       " 'binance::DOGE_USDT',\n",
       " 'binance::DOT_USDT',\n",
       " 'binance::ETH_USDT',\n",
       " 'binance::FTM_USDT',\n",
       " 'binance::GMT_USDT',\n",
       " 'binance::LINK_USDT',\n",
       " 'binance::MATIC_USDT',\n",
       " 'binance::NEAR_USDT',\n",
       " 'binance::OGN_USDT',\n",
       " 'binance::RUNE_USDT',\n",
       " 'binance::SAND_USDT',\n",
       " 'binance::SOL_USDT',\n",
       " 'binance::STORJ_USDT',\n",
       " 'binance::UNFI_USDT',\n",
       " 'binance::WAVES_USDT',\n",
       " 'binance::XRP_USDT']"
      ]
     },
     "execution_count": 80,
     "metadata": {},
     "output_type": "execute_result"
    }
   ],
   "source": [
    "# Universe as Full symbols.\n",
    "full_symbols = list(universe_mapping.keys())\n",
    "full_symbols"
   ]
  },
  {
   "cell_type": "code",
   "execution_count": null,
   "id": "c6e5dd80",
   "metadata": {},
   "outputs": [],
   "source": []
  },
  {
   "cell_type": "code",
   "execution_count": null,
   "id": "57615e00",
   "metadata": {},
   "outputs": [],
   "source": []
  }
 ],
 "metadata": {
  "kernelspec": {
   "display_name": "Python 3 (ipykernel)",
   "language": "python",
   "name": "python3"
  },
  "language_info": {
   "codemirror_mode": {
    "name": "ipython",
    "version": 3
   },
   "file_extension": ".py",
   "mimetype": "text/x-python",
   "name": "python",
   "nbconvert_exporter": "python",
   "pygments_lexer": "ipython3",
   "version": "3.8.10"
  },
  "toc": {
   "base_numbering": 1,
   "nav_menu": {},
   "number_sections": true,
   "sideBar": true,
   "skip_h1_title": false,
   "title_cell": "Table of Contents",
   "title_sidebar": "Contents",
   "toc_cell": false,
   "toc_position": {},
   "toc_section_display": true,
   "toc_window_display": false
  }
 },
 "nbformat": 4,
 "nbformat_minor": 5
}
