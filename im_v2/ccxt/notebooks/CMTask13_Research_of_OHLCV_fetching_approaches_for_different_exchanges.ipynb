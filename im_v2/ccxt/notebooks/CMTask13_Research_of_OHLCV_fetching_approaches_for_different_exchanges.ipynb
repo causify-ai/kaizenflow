{
 "cells": [
  {
   "cell_type": "code",
   "execution_count": null,
   "id": "a052ac6d",
   "metadata": {},
   "outputs": [],
   "source": [
    "%load_ext autoreload\n",
    "%autoreload 2\n",
    "%matplotlib inline\n",
    "\n",
    "import logging\n",
    "import json\n",
    "\n",
    "import helpers.dbg as dbg\n",
    "import helpers.env as henv\n",
    "import helpers.io_ as io_\n",
    "import helpers.printing as hprint\n",
    "from typing import Any\n",
    "import time\n",
    "\n",
    "import ccxt\n",
    "import pandas as pd"
   ]
  },
  {
   "cell_type": "code",
   "execution_count": null,
   "id": "a7a791e8",
   "metadata": {},
   "outputs": [],
   "source": [
    "dbg.init_logger(verbosity=logging.INFO)\n",
    "\n",
    "_LOG = logging.getLogger(__name__)\n",
    "\n",
    "_LOG.info(\"%s\", henv.get_system_signature()[0])\n",
    "\n",
    "hprint.config_notebook()"
   ]
  },
  {
   "cell_type": "code",
   "execution_count": null,
   "id": "d554bd16",
   "metadata": {},
   "outputs": [],
   "source": [
    "ALL_EXCHANGES = [\"binance\",\n",
    "\"coinbase\",\n",
    "\"kraken\",\n",
    "\"huobi\",\n",
    "\"ftx\",\n",
    "\"kucoin\",\n",
    "\"bitfinex\",\n",
    "\"gateio\",\n",
    "# \"binanceus\" # no API access for these three exchanges.\n",
    "# \"bithumb\"\n",
    "# \"bitstamp\"\n",
    "                ]"
   ]
  },
  {
   "cell_type": "code",
   "execution_count": null,
   "id": "058449f6",
   "metadata": {},
   "outputs": [],
   "source": [
    "credentials = io_.from_json(\"API_keys.json\")"
   ]
  },
  {
   "cell_type": "markdown",
   "id": "0b6b59fb",
   "metadata": {},
   "source": [
    "## Functions"
   ]
  },
  {
   "cell_type": "markdown",
   "id": "80547139",
   "metadata": {},
   "source": [
    "These are the functions introduced in `CMTask12_CCXT_historical_data_access.ipynb`"
   ]
  },
  {
   "cell_type": "code",
   "execution_count": null,
   "id": "741ca54e",
   "metadata": {},
   "outputs": [],
   "source": [
    "def log_into_exchange(exchange_id: str):\n",
    "    \"\"\"\n",
    "    Log into exchange via ccxt.\n",
    "    \"\"\"\n",
    "    credentials = io_.from_json(\"API_keys.json\")\n",
    "    dbg.dassert_in(exchange_id, credentials, msg=\"%s exchange ID not correct.\")\n",
    "    credentials = credentials[exchange_id]\n",
    "    credentials[\"rateLimit\"] = True\n",
    "    exchange_class = getattr(ccxt, exchange_id)\n",
    "    exchange = exchange_class(credentials)\n",
    "    dbg.dassert(exchange.checkRequiredCredentials(), msg=\"Required credentials not passed.\")\n",
    "    return exchange\n",
    "\n",
    "\n",
    "def describe_exchange_data(exchange_id: str):\n",
    "    \"\"\"\n",
    "    \"\"\"\n",
    "    exchange = log_into_exchange(exchange_id)\n",
    "    print(\"%s:\" % exchange_id)\n",
    "    print (\"Has fetchOHLCV: %s\" % exchange.has[\"fetchOHLCV\"])\n",
    "    print (\"Has fetchTrades: %s\" % exchange.has[\"fetchTrades\"])\n",
    "    print(\"Available timeframes:\")\n",
    "    print (exchange.timeframes)\n",
    "    print(\"Available currency pairs:\")\n",
    "    print(exchange.load_markets().keys())\n",
    "    print(\"=\"*50)\n",
    "    return None\n",
    "\n",
    "\n",
    "def download_ohlcv_data(exchange_id,\n",
    "                            start_date,\n",
    "                            end_date,\n",
    "                            curr_symbol,\n",
    "                            timeframe=\"1m\",\n",
    "                            step=500,\n",
    "                            sleep_time=3):\n",
    "    \"\"\"\n",
    "    Download historical OHLCV data for given time period and currency.\n",
    "    \"\"\"\n",
    "    exchange = log_into_exchange(exchange_id)\n",
    "    dbg.dassert_in(timeframe, exchange.timeframes)\n",
    "    dbg.dassert(exchange.has[\"fetchOHLCV\"])\n",
    "    dbg.dassert_in(curr_symbol, exchange.load_markets().keys())\n",
    "    start_date = exchange.parse8601(start_date)\n",
    "    end_date = exchange.parse8601(end_date)\n",
    "    # Convert to ms.\n",
    "    duration = exchange.parse_timeframe(timeframe) * 1000\n",
    "    all_candles = []\n",
    "    for t in range(start_date, end_date+duration, duration*step):\n",
    "        candles = exchange.fetch_ohlcv(curr_symbol, timeframe, t, step)\n",
    "        print('Fetched', len(candles), 'candles')\n",
    "        if candles:\n",
    "            print('From', exchange.iso8601(candles[0][0]), 'to', exchange.iso8601(candles[-1][0]))\n",
    "        all_candles += candles\n",
    "        total_length = len(all_candles)\n",
    "        print('Fetched', total_length, 'candles in total')\n",
    "        time.sleep(sleep_time)\n",
    "    return all_candles\n",
    "\n",
    "\n",
    "def download_trade_data(exchange_id,\n",
    "                            start_date,\n",
    "                            end_date,\n",
    "                            curr_symbol,\n",
    "                            timeframe=\"1m\",\n",
    "                            step=500,\n",
    "                            sleep_time=3):\n",
    "    \"\"\"\n",
    "    Download historical data for given time period and currency.\n",
    "    \"\"\"\n",
    "    exchange = log_into_exchange(exchange_id)\n",
    "    dbg.dassert_in(timeframe, exchange.timeframes)\n",
    "    dbg.dassert(exchange.has[\"fetchTrades\"])\n",
    "    dbg.dassert_in(curr_symbol, exchange.load_markets().keys())\n",
    "    start_date = exchange.parse8601(start_date)\n",
    "    end_date = exchange.parse8601(end_date)\n",
    "    latest_trade = start_date\n",
    "    all_trades = []\n",
    "    while latest_trade <= end_date:\n",
    "        trades = exchange.fetch_trades(curr_symbol, since=latest_trade, limit=step, params={\"endTime\": latest_trade+36000})\n",
    "        print('Fetched', len(trades), 'trades')\n",
    "        if trades:\n",
    "            print('From', exchange.iso8601(trades[0][\"timestamp\"]), 'to', exchange.iso8601(trades[-1][\"timestamp\"]))\n",
    "            latest_trade = trades[-1][\"timestamp\"]\n",
    "        all_trades += trades\n",
    "        total_length = len(all_trades)\n",
    "        print('Fetched', total_length, 'trades in total')\n",
    "        time.sleep(sleep_time)\n",
    "    return all_trades"
   ]
  },
  {
   "cell_type": "markdown",
   "id": "0a5c107e",
   "metadata": {},
   "source": [
    "## Check availability of historical data for exchanges"
   ]
  },
  {
   "cell_type": "code",
   "execution_count": null,
   "id": "167f21b4",
   "metadata": {},
   "outputs": [],
   "source": [
    "credentials = io_.from_json(\"API_keys.json\")"
   ]
  },
  {
   "cell_type": "code",
   "execution_count": null,
   "id": "a80ef556",
   "metadata": {},
   "outputs": [],
   "source": [
    "for e in ALL_EXCHANGES:\n",
    "    describe_exchange_data(e)"
   ]
  },
  {
   "cell_type": "markdown",
   "id": "6e75135d",
   "metadata": {},
   "source": [
    "### Checking data availability at coinbase"
   ]
  },
  {
   "cell_type": "code",
   "execution_count": null,
   "id": "3d523ad9",
   "metadata": {},
   "outputs": [],
   "source": [
    "coinbase = log_into_exchange(\"coinbase\")"
   ]
  },
  {
   "cell_type": "code",
   "execution_count": null,
   "id": "cff32524",
   "metadata": {},
   "outputs": [],
   "source": [
    "coinbase.has"
   ]
  },
  {
   "cell_type": "markdown",
   "id": "62d43bd5",
   "metadata": {},
   "source": [
    "`coinbase` exchange does not provide any kind of historical data (neither on OHLCV nor on trading orders), and it seems that its API allows only for trading."
   ]
  },
  {
   "cell_type": "markdown",
   "id": "0c78c943",
   "metadata": {},
   "source": [
    "## Loading OHLCV data"
   ]
  },
  {
   "cell_type": "markdown",
   "id": "7ad863cf",
   "metadata": {},
   "source": [
    "### Binance"
   ]
  },
  {
   "cell_type": "markdown",
   "id": "763e09a5",
   "metadata": {},
   "source": [
    "Binance data is being loaded correctly with specified functions."
   ]
  },
  {
   "cell_type": "code",
   "execution_count": null,
   "id": "745ee13e",
   "metadata": {},
   "outputs": [],
   "source": [
    "binance_data = download_ohlcv_data(\"binance\",\n",
    "                                  \"2018-01-01T00:00:00Z\",\n",
    "                                  \"2018-02-01T00:00:00Z\",\n",
    "                                  \"BTC/USDT\")"
   ]
  },
  {
   "cell_type": "markdown",
   "id": "d3be9c68",
   "metadata": {},
   "source": [
    "### Huobi"
   ]
  },
  {
   "cell_type": "markdown",
   "id": "6ef0dac6",
   "metadata": {},
   "source": [
    "For Huobi we see that the data is starting to be loaded from incorrect and a very recent time period that does not belong to the specified time range."
   ]
  },
  {
   "cell_type": "code",
   "execution_count": null,
   "id": "c4169b0d",
   "metadata": {},
   "outputs": [],
   "source": [
    "huobi_data = download_ohlcv_data(\"huobi\",\n",
    "                                  \"2021-01-01T00:00:00Z\",\n",
    "                                  \"2021-02-01T00:00:00Z\",\n",
    "                                  \"BTC/USDT\")"
   ]
  },
  {
   "cell_type": "markdown",
   "id": "8ae6a7d1",
   "metadata": {},
   "source": [
    "The reason behind it is that Huobi outputs candles in reverced order.<br>\n",
    "To demonstrate it let's run `fetch_ohlcv()` for Huobi with differnt limits."
   ]
  },
  {
   "cell_type": "code",
   "execution_count": null,
   "id": "1d29547e",
   "metadata": {},
   "outputs": [],
   "source": [
    "huobi_exchange = log_into_exchange(\"huobi\")\n",
    "start_date = huobi_exchange.parse8601(\"2021-01-01T00:00:00Z\")\n",
    "limit1 = 500\n",
    "limit2 = 1000\n",
    "limit3 = 2000"
   ]
  },
  {
   "cell_type": "code",
   "execution_count": null,
   "id": "6bd2da51",
   "metadata": {},
   "outputs": [],
   "source": [
    "huobi_all_data1 = huobi_exchange.fetch_ohlcv(\"BTC/USDT\", \"1m\", start_date, limit1)\n",
    "huobi_all_data2 = huobi_exchange.fetch_ohlcv(\"BTC/USDT\", \"1m\", start_date, limit2)\n",
    "huobi_all_data3 = huobi_exchange.fetch_ohlcv(\"BTC/USDT\", \"1m\", start_date, limit3)"
   ]
  },
  {
   "cell_type": "markdown",
   "id": "e7c57766",
   "metadata": {},
   "source": [
    "The amount of loaded candles is equal to the specified limit, so the data is available."
   ]
  },
  {
   "cell_type": "code",
   "execution_count": null,
   "id": "bd394714",
   "metadata": {},
   "outputs": [],
   "source": [
    "print(len(huobi_all_data1))\n",
    "print(len(huobi_all_data2))\n",
    "print(len(huobi_all_data3))"
   ]
  },
  {
   "cell_type": "markdown",
   "id": "7e14ba45",
   "metadata": {},
   "source": [
    "However, if we take a look at the timestamps of the first and the last candles, we see that the last candle is always the most recent one while the first one is equal to the most recent candle's timestamp munis the rime range specified in the request."
   ]
  },
  {
   "cell_type": "code",
   "execution_count": null,
   "id": "836306c3",
   "metadata": {},
   "outputs": [],
   "source": [
    "huobi_first_candle_date1 = huobi_exchange.iso8601(huobi_all_data1[0][0])\n",
    "print(huobi_first_candle_date1)\n",
    "#\n",
    "huobi_first_candle_date2 = huobi_exchange.iso8601(huobi_all_data2[0][0])\n",
    "print(huobi_first_candle_date2)\n",
    "#\n",
    "huobi_first_candle_date3 = huobi_exchange.iso8601(huobi_all_data3[0][0])\n",
    "print(huobi_first_candle_date3)"
   ]
  },
  {
   "cell_type": "code",
   "execution_count": null,
   "id": "9ab972b6",
   "metadata": {},
   "outputs": [],
   "source": [
    "huobi_last_candle_date1 = huobi_exchange.iso8601(huobi_all_data1[-1][0])\n",
    "print(huobi_last_candle_date1)\n",
    "#\n",
    "huobi_last_candle_date2 = huobi_exchange.iso8601(huobi_all_data2[-1][0])\n",
    "print(huobi_last_candle_date2)\n",
    "#\n",
    "huobi_last_candle_date3 = huobi_exchange.iso8601(huobi_all_data3[-1][0])\n",
    "print(huobi_last_candle_date3)"
   ]
  },
  {
   "cell_type": "markdown",
   "id": "32f1b575",
   "metadata": {},
   "source": [
    "This is confirmed by calculation of steps between the last and first candles timestamps"
   ]
  },
  {
   "cell_type": "code",
   "execution_count": null,
   "id": "3bd1c41b",
   "metadata": {},
   "outputs": [],
   "source": [
    "print((huobi_all_data1[-1][0] - huobi_all_data1[0][0])/60/1000 + 1)\n",
    "print((huobi_all_data2[-1][0] - huobi_all_data2[0][0])/60/1000 + 1)\n",
    "print((huobi_all_data3[-1][0] - huobi_all_data3[0][0])/60/1000 + 1)"
   ]
  },
  {
   "cell_type": "markdown",
   "id": "73656927",
   "metadata": {},
   "source": [
    "Therefore, it seems that Huobi data can be loaded, but additional research is needed to understand, how to do it correctly and it definitely needs a 'personal' approach."
   ]
  },
  {
   "cell_type": "markdown",
   "id": "8f4efd40",
   "metadata": {},
   "source": [
    "### FTX"
   ]
  },
  {
   "cell_type": "markdown",
   "id": "ac6829bc",
   "metadata": {},
   "source": [
    "FTX data is being loaded correctly, we have it starting from 2020-03-28 14:40:00"
   ]
  },
  {
   "cell_type": "code",
   "execution_count": null,
   "id": "377c79f0",
   "metadata": {},
   "outputs": [],
   "source": [
    "ftx_data = download_ohlcv_data(\"ftx\",\n",
    "                                  \"2020-03-28T00:00:00Z\",\n",
    "                                  \"2020-04-01T00:00:00Z\",\n",
    "                                  \"BTC/USDT\")"
   ]
  },
  {
   "cell_type": "markdown",
   "id": "4f43e612",
   "metadata": {},
   "source": [
    "### Kucoin"
   ]
  },
  {
   "cell_type": "markdown",
   "id": "d1cde64c",
   "metadata": {},
   "source": [
    "Kucoin data is being loaded correctly as well."
   ]
  },
  {
   "cell_type": "code",
   "execution_count": null,
   "id": "07aaf156",
   "metadata": {},
   "outputs": [],
   "source": [
    "kucoin_data2021 = download_ohlcv_data(\"kucoin\",\n",
    "                                  \"2021-01-01T00:00:00Z\",\n",
    "                                  \"2021-01-04T00:00:00Z\",\n",
    "                                  \"BTC/USDT\")"
   ]
  },
  {
   "cell_type": "markdown",
   "id": "ffde384c",
   "metadata": {},
   "source": [
    "However, the amount of candles for earlier periods is unstable and timestamps are slipping. Additional research is required to understand if the data is really missing or its some sort of a bug."
   ]
  },
  {
   "cell_type": "code",
   "execution_count": null,
   "id": "d895f937",
   "metadata": {},
   "outputs": [],
   "source": [
    "kucoin_data2018 = download_ohlcv_data(\"kucoin\",\n",
    "                                  \"2018-01-01T00:00:00Z\",\n",
    "                                  \"2018-01-04T00:00:00Z\",\n",
    "                                  \"BTC/USDT\")"
   ]
  },
  {
   "cell_type": "markdown",
   "id": "386640a6",
   "metadata": {},
   "source": [
    "### Bitfinex"
   ]
  },
  {
   "cell_type": "markdown",
   "id": "a2fc7783",
   "metadata": {},
   "source": [
    "The Bitfinex candles are being loaded with overlapping time periods."
   ]
  },
  {
   "cell_type": "code",
   "execution_count": null,
   "id": "8c718a71",
   "metadata": {},
   "outputs": [],
   "source": [
    "bitfinex_data = download_ohlcv_data(\"bitfinex\",\n",
    "                                  \"2020-01-01T00:00:00Z\",\n",
    "                                  \"2020-02-01T00:00:00Z\",\n",
    "                                  \"BTC/USDT\")"
   ]
  },
  {
   "cell_type": "markdown",
   "id": "cdb73447",
   "metadata": {},
   "source": [
    "To research this let's check the amount of minute steps between the last candle timestamp and the first one."
   ]
  },
  {
   "cell_type": "code",
   "execution_count": null,
   "id": "879ead2c",
   "metadata": {},
   "outputs": [],
   "source": [
    "bitfinex_exchange = log_into_exchange(\"bitfinex\")\n",
    "start_date = bitfinex_exchange.parse8601(\"2021-01-01T00:00:00Z\")\n",
    "limit1 = 500\n",
    "limit2 = 1000\n",
    "limit3 = 2000"
   ]
  },
  {
   "cell_type": "code",
   "execution_count": null,
   "id": "e926b19a",
   "metadata": {},
   "outputs": [],
   "source": [
    "bitfinex_all_data1 = bitfinex_exchange.fetch_ohlcv(\"BTC/USDT\", \"1m\", start_date, limit1)\n",
    "bitfinex_all_data2 = bitfinex_exchange.fetch_ohlcv(\"BTC/USDT\", \"1m\", start_date, limit2)\n",
    "bitfinex_all_data3 = bitfinex_exchange.fetch_ohlcv(\"BTC/USDT\", \"1m\", start_date, limit3)"
   ]
  },
  {
   "cell_type": "code",
   "execution_count": null,
   "id": "e783ddb0",
   "metadata": {},
   "outputs": [],
   "source": [
    "print(len(bitfinex_all_data1))\n",
    "print(len(bitfinex_all_data2))\n",
    "print(len(bitfinex_all_data3))"
   ]
  },
  {
   "cell_type": "code",
   "execution_count": null,
   "id": "caca128f",
   "metadata": {},
   "outputs": [],
   "source": [
    "bitfinex_first_candle_date1 = bitfinex_exchange.iso8601(bitfinex_all_data1[0][0])\n",
    "print(bitfinex_first_candle_date1)\n",
    "#\n",
    "bitfinex_first_candle_date2 = bitfinex_exchange.iso8601(bitfinex_all_data2[0][0])\n",
    "print(bitfinex_first_candle_date2)\n",
    "#\n",
    "bitfinex_first_candle_date3 = bitfinex_exchange.iso8601(bitfinex_all_data3[0][0])\n",
    "print(bitfinex_first_candle_date3)"
   ]
  },
  {
   "cell_type": "code",
   "execution_count": null,
   "id": "44353e7e",
   "metadata": {},
   "outputs": [],
   "source": [
    "bitfinex_last_candle_date1 = bitfinex_exchange.iso8601(bitfinex_all_data1[-1][0])\n",
    "print(bitfinex_last_candle_date1)\n",
    "#\n",
    "bitfinex_last_candle_date2 = bitfinex_exchange.iso8601(bitfinex_all_data2[-1][0])\n",
    "print(bitfinex_last_candle_date2)\n",
    "#\n",
    "bitfinex_last_candle_date3 = bitfinex_exchange.iso8601(bitfinex_all_data3[-1][0])\n",
    "print(bitfinex_last_candle_date3)"
   ]
  },
  {
   "cell_type": "markdown",
   "id": "5b4baf28",
   "metadata": {},
   "source": [
    "Turns out that the amount of minute steps betweent the last and the firt candles is higher than the specified limits. One possible reason is that Bitfinex has gaps in its data. However, if this is true, why the behaviour for Kucoin was correct since there is a clear gap in data for it in 2018?\n",
    "Thus, this should be researched."
   ]
  },
  {
   "cell_type": "code",
   "execution_count": null,
   "id": "3a490c3a",
   "metadata": {},
   "outputs": [],
   "source": [
    "print((bitfinex_all_data1[-1][0] - bitfinex_all_data1[0][0])/60/1000 + 1)\n",
    "print((bitfinex_all_data2[-1][0] - bitfinex_all_data2[0][0])/60/1000 + 1)\n",
    "print((bitfinex_all_data3[-1][0] - bitfinex_all_data3[0][0])/60/1000 + 1)"
   ]
  },
  {
   "cell_type": "markdown",
   "id": "9749ba4f",
   "metadata": {},
   "source": [
    "Still, we see that Bitfinex has data and it is more than possible to extract it. Here we wanted to develop a unified approach for loading data from different exchanges. If this doesn't work for Bitfinex, there is and example guide in CCXT library https://github.com/ccxt/ccxt/blob/master/examples/py/fetch-bitfinex-ohlcv-history.py that we can use to develop a 'personal' approach to this exchange. So we're good here."
   ]
  },
  {
   "cell_type": "markdown",
   "id": "cc637d9a",
   "metadata": {},
   "source": [
    "### Gateio"
   ]
  },
  {
   "cell_type": "markdown",
   "id": "b1fdc513",
   "metadata": {},
   "source": [
    "Gateio data is being loaded correctly, we have it starting from 2021-06-05 13:33:00"
   ]
  },
  {
   "cell_type": "code",
   "execution_count": null,
   "id": "df5ccda6",
   "metadata": {},
   "outputs": [],
   "source": [
    "gateio_data = download_ohlcv_data(\"gateio\",\n",
    "                                  \"2021-06-05T00:00:00Z\",\n",
    "                                  \"2021-06-10T00:00:00Z\",\n",
    "                                  \"BTC/USDT\")"
   ]
  },
  {
   "cell_type": "markdown",
   "id": "1f154ab6",
   "metadata": {},
   "source": [
    "### Kraken"
   ]
  },
  {
   "cell_type": "markdown",
   "id": "5e6c2882",
   "metadata": {},
   "source": [
    "Kraken provides only 720 of candles into the past for any selected time step. (see https://github.com/ccxt/ccxt/issues/8091#issuecomment-739600165)<br>\n",
    "We can track its data further on but there is no way to get its historical data further than that."
   ]
  },
  {
   "cell_type": "code",
   "execution_count": null,
   "id": "bf00f92c",
   "metadata": {},
   "outputs": [],
   "source": [
    "kraken_exchange = log_into_exchange(\"kraken\")\n",
    "start_date = kraken_exchange.parse8601(\"2020-01-01T00:00:00Z\")\n",
    "kraken_all_data = kraken_exchange.fetch_ohlcv(\"BTC/USDT\", \"1m\", start_date, 1000)"
   ]
  },
  {
   "cell_type": "code",
   "execution_count": null,
   "id": "4ce77164",
   "metadata": {},
   "outputs": [],
   "source": [
    "len(kraken_all_data)"
   ]
  },
  {
   "cell_type": "markdown",
   "id": "198408d0",
   "metadata": {},
   "source": [
    "The first and the last candles timstamps are being updated all the time, no matter which start date you specify in the query."
   ]
  },
  {
   "cell_type": "code",
   "execution_count": null,
   "id": "2b561275",
   "metadata": {},
   "outputs": [],
   "source": [
    "kraken_first_candle_date = kraken_exchange.iso8601(kraken_all_data[0][0])\n",
    "kraken_first_candle_date"
   ]
  },
  {
   "cell_type": "code",
   "execution_count": null,
   "id": "be47b7ca",
   "metadata": {},
   "outputs": [],
   "source": [
    "kraken_last_candle_date = kraken_exchange.iso8601(kraken_all_data[-1][0])\n",
    "kraken_last_candle_date"
   ]
  },
  {
   "cell_type": "markdown",
   "id": "d038b433",
   "metadata": {},
   "source": [
    "## Summary"
   ]
  },
  {
   "cell_type": "markdown",
   "id": "3267470c",
   "metadata": {},
   "source": [
    "- We can apply sort of a unified approach to load all the historical data for Binance, FTX, Kucoin, and Gateio. Although, Kucoin case should be investigated a bit more in order to confirm that there is no bug. \n",
    "- Huobi and Bitfinex seem to have the data to provide but they require a 'personal' approaches that need to be developed.\n",
    "- Kraken provides only 720 last candles for a specified time step. We may decide to track it from acertain moment or just forget about it in terms of historical data.\n",
    "- Coinbase exchange does not provide any kind of historical data."
   ]
  },
  {
   "cell_type": "code",
   "execution_count": null,
   "id": "678ed2d6",
   "metadata": {},
   "outputs": [],
   "source": []
  }
 ],
 "metadata": {
  "jupytext": {
   "formats": "ipynb,py:percent"
  },
  "kernelspec": {
   "display_name": "Python 3 (ipykernel)",
   "language": "python",
   "name": "python3"
  },
  "language_info": {
   "codemirror_mode": {
    "name": "ipython",
    "version": 3
   },
   "file_extension": ".py",
   "mimetype": "text/x-python",
   "name": "python",
   "nbconvert_exporter": "python",
   "pygments_lexer": "ipython3"
  },
  "toc": {
   "base_numbering": 1,
   "nav_menu": {},
   "number_sections": true,
   "sideBar": true,
   "skip_h1_title": false,
   "title_cell": "Table of Contents",
   "title_sidebar": "Contents",
   "toc_cell": false,
   "toc_position": {},
   "toc_section_display": true,
   "toc_window_display": false
  }
 },
 "nbformat": 4,
 "nbformat_minor": 5
}
