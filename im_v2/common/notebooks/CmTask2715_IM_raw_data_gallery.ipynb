{
 "cells": [
  {
   "cell_type": "markdown",
   "id": "047c5c80",
   "metadata": {},
   "source": [
    "# Description\n"
   ]
  },
  {
   "cell_type": "markdown",
   "id": "296f9d2f",
   "metadata": {},
   "source": [
    "This notebook shows raw data for CCXT OHLCV and Crypto Chassis bid-ask data."
   ]
  },
  {
   "cell_type": "markdown",
   "id": "ebc27535",
   "metadata": {},
   "source": [
    "# Imports"
   ]
  },
  {
   "cell_type": "code",
   "execution_count": null,
   "id": "a2d1a9cd",
   "metadata": {},
   "outputs": [],
   "source": [
    "import logging\n",
    "\n",
    "import pandas as pd\n",
    "\n",
    "import core.statistics.descriptive as cstadesc\n",
    "import helpers.hdbg as hdbg\n",
    "import helpers.henv as henv\n",
    "import helpers.hparquet as hparque\n",
    "import helpers.hprint as hprint\n",
    "import helpers.hsql as hsql\n",
    "import im_v2.im_lib_tasks as imvimlita"
   ]
  },
  {
   "cell_type": "code",
   "execution_count": null,
   "id": "19e56ce2",
   "metadata": {},
   "outputs": [],
   "source": [
    "hdbg.init_logger(verbosity=logging.INFO)\n",
    "\n",
    "_LOG = logging.getLogger(__name__)\n",
    "\n",
    "_LOG.info(\"%s\", henv.get_system_signature()[0])\n",
    "\n",
    "hprint.config_notebook()"
   ]
  },
  {
   "cell_type": "markdown",
   "id": "31434422",
   "metadata": {},
   "source": [
    "# Functions"
   ]
  },
  {
   "cell_type": "code",
   "execution_count": null,
   "id": "faf99fab",
   "metadata": {},
   "outputs": [],
   "source": [
    "def get_ccxt_realtime_data(db_table: str, exchange_id: str) -> pd.DataFrame:\n",
    "    # Get DB connection.\n",
    "    env_file = imvimlita.get_db_env_path(\"dev\")\n",
    "    # Connect with the parameters from the env file.\n",
    "    connection_params = hsql.get_connection_info_from_env_file(env_file)\n",
    "    connection = hsql.get_connection(*connection_params)\n",
    "    # Read data from DB.\n",
    "    query = f\"SELECT * FROM {db_table} WHERE exchange_id='{exchange_id}'\"\n",
    "    rt_data = hsql.execute_query_to_df(connection, query)\n",
    "    return rt_data"
   ]
  },
  {
   "cell_type": "markdown",
   "id": "5271eefc",
   "metadata": {},
   "source": [
    "# Realtime (the DB data and the archives stored to S3)"
   ]
  },
  {
   "cell_type": "markdown",
   "id": "3f27af4c",
   "metadata": {},
   "source": [
    "## OHLCV"
   ]
  },
  {
   "cell_type": "markdown",
   "id": "8e9e56fe",
   "metadata": {},
   "source": [
    "### CCXT futures"
   ]
  },
  {
   "cell_type": "code",
   "execution_count": null,
   "id": "3803a860",
   "metadata": {},
   "outputs": [],
   "source": [
    "# Get the real time data.\n",
    "ccxt_rt = get_ccxt_realtime_data(\"ccxt_ohlcv_futures\", \"binance\")"
   ]
  },
  {
   "cell_type": "code",
   "execution_count": null,
   "id": "f7d31130",
   "metadata": {},
   "outputs": [],
   "source": [
    "print(f\"{len(ccxt_rt)} rows overall\")\n",
    "print(\"Head:\")\n",
    "display(ccxt_rt.head(3))\n",
    "print(\"Tail:\")\n",
    "display(ccxt_rt.tail(3))"
   ]
  },
  {
   "cell_type": "markdown",
   "id": "137c686e",
   "metadata": {},
   "source": [
    "#### Count NaNs"
   ]
  },
  {
   "cell_type": "code",
   "execution_count": null,
   "id": "96f8d9b9",
   "metadata": {},
   "outputs": [],
   "source": [
    "cstadesc.compute_frac_nan(ccxt_rt)"
   ]
  },
  {
   "cell_type": "markdown",
   "id": "ca4dddf3",
   "metadata": {},
   "source": [
    "#### Rows with `volume` equal to 0"
   ]
  },
  {
   "cell_type": "code",
   "execution_count": null,
   "id": "3b6c29ec",
   "metadata": {},
   "outputs": [],
   "source": [
    "volume0 = ccxt_rt.loc[ccxt_rt[\"volume\"] == 0]\n",
    "volume0_proc = \"{:.2f}\".format(len(volume0) * 100 / len(ccxt_rt))\n",
    "print(\n",
    "    f\"Percentage of data with `volume=0` in real time CCXT data: {volume0_proc}%\"\n",
    ")\n",
    "print(f\"{len(volume0)} overall\")\n",
    "print(\"First 5 rows:\")\n",
    "display(volume0.head())\n",
    "print(\"Last 5 rows:\")\n",
    "display(volume0.tail())"
   ]
  },
  {
   "cell_type": "code",
   "execution_count": null,
   "id": "2b5e1dd7",
   "metadata": {},
   "outputs": [],
   "source": [
    "volume0[\"currency_pair\"].value_counts().plot(kind=\"bar\")"
   ]
  },
  {
   "cell_type": "markdown",
   "id": "df3f4a24",
   "metadata": {},
   "source": [
    "# Historical (data updated daily)"
   ]
  },
  {
   "cell_type": "markdown",
   "id": "f882eb43",
   "metadata": {},
   "source": [
    "## OHLCV"
   ]
  },
  {
   "cell_type": "markdown",
   "id": "64ff4d63",
   "metadata": {},
   "source": [
    "### CCXT futures"
   ]
  },
  {
   "cell_type": "code",
   "execution_count": null,
   "id": "4a72dd91",
   "metadata": {},
   "outputs": [],
   "source": [
    "s3_path = \"s3://cryptokaizen-data/reorg/daily_staged.airflow.pq/ohlcv-futures/ccxt/binance\"\n",
    "# Load daily data from s3 parquet.\n",
    "ccxt_futures_daily = hparque.from_parquet(s3_path, aws_profile=\"ck\")"
   ]
  },
  {
   "cell_type": "code",
   "execution_count": null,
   "id": "726262eb",
   "metadata": {},
   "outputs": [],
   "source": [
    "print(f\"{len(ccxt_futures_daily)} rows overall\")\n",
    "print(\"Head:\")\n",
    "display(ccxt_futures_daily.head())\n",
    "print(\"Tail:\")\n",
    "display(ccxt_futures_daily.tail())"
   ]
  },
  {
   "cell_type": "markdown",
   "id": "fa8965f8",
   "metadata": {},
   "source": [
    "**Count NaNs**"
   ]
  },
  {
   "cell_type": "code",
   "execution_count": null,
   "id": "0765f521",
   "metadata": {},
   "outputs": [],
   "source": [
    "cstadesc.compute_frac_nan(ccxt_futures_daily)"
   ]
  },
  {
   "cell_type": "markdown",
   "id": "0c24429a",
   "metadata": {},
   "source": [
    "#### Rows with `volume` equal to 0"
   ]
  },
  {
   "cell_type": "code",
   "execution_count": null,
   "id": "32727c58",
   "metadata": {},
   "outputs": [],
   "source": [
    "volume0 = ccxt_futures_daily.loc[ccxt_futures_daily[\"volume\"] == 0]\n",
    "volume0_proc = \"{:.2f}\".format(len(volume0) * 100 / len(ccxt_futures_daily))\n",
    "print(\n",
    "    f\"Percentage of data with `volume=0` in historical CCXT data for the period: {volume0_proc}%\"\n",
    ")\n",
    "print(f\"{len(volume0)} overall\")\n",
    "print(\"First 5 rows:\")\n",
    "display(volume0.head())\n",
    "print(\"Last 5 rows:\")\n",
    "display(volume0.tail())"
   ]
  },
  {
   "cell_type": "code",
   "execution_count": null,
   "id": "4134b011",
   "metadata": {},
   "outputs": [],
   "source": [
    "volume0[\"currency_pair\"].value_counts().plot(kind=\"bar\")"
   ]
  },
  {
   "cell_type": "markdown",
   "id": "b497fbf9",
   "metadata": {},
   "source": [
    "## BID-ASK"
   ]
  },
  {
   "cell_type": "markdown",
   "id": "7df0b6f8",
   "metadata": {},
   "source": [
    "### CC futures"
   ]
  },
  {
   "cell_type": "code",
   "execution_count": null,
   "id": "6dfd15db",
   "metadata": {},
   "outputs": [],
   "source": [
    "# Get historical data.\n",
    "s3_path = \"s3://cryptokaizen-data/reorg/daily_staged.airflow.pq/bid_ask-futures/crypto_chassis/binance\"\n",
    "# Load daily data from s3 parquet.\n",
    "cc_ba_futures_daily = hparque.from_parquet(s3_path, aws_profile=\"ck\")"
   ]
  },
  {
   "cell_type": "code",
   "execution_count": null,
   "id": "9c6d6b85",
   "metadata": {},
   "outputs": [],
   "source": [
    "print(f\"{len(cc_ba_futures_daily)} rows overall\")\n",
    "print(\"Head:\")\n",
    "display(cc_ba_futures_daily.head())\n",
    "print(\"Tail:\")\n",
    "display(cc_ba_futures_daily.tail())"
   ]
  },
  {
   "cell_type": "markdown",
   "id": "eb82f96f",
   "metadata": {},
   "source": [
    "#### Count NaNs"
   ]
  },
  {
   "cell_type": "code",
   "execution_count": null,
   "id": "9605026b",
   "metadata": {},
   "outputs": [],
   "source": [
    "cstadesc.compute_frac_nan(cc_ba_futures_daily)"
   ]
  },
  {
   "cell_type": "markdown",
   "id": "d2c79eb5",
   "metadata": {},
   "source": [
    "### CC spot"
   ]
  },
  {
   "cell_type": "code",
   "execution_count": null,
   "id": "5c36306a",
   "metadata": {},
   "outputs": [],
   "source": [
    "# Get historical data.\n",
    "s3_path = \"s3://cryptokaizen-data/reorg/daily_staged.airflow.pq/bid_ask/crypto_chassis/binance\"\n",
    "# Load daily data from s3 parquet.\n",
    "cc_ba_daily = hparque.from_parquet(s3_path, aws_profile=\"ck\")"
   ]
  },
  {
   "cell_type": "code",
   "execution_count": null,
   "id": "ac1c70c6",
   "metadata": {},
   "outputs": [],
   "source": [
    "print(f\"{len(cc_ba_daily)} rows overall\")\n",
    "print(\"Head:\")\n",
    "display(cc_ba_daily.head())\n",
    "print(\"Tail:\")\n",
    "display(cc_ba_daily.tail())"
   ]
  },
  {
   "cell_type": "markdown",
   "id": "8a9121ab",
   "metadata": {},
   "source": [
    "#### Count NaNs "
   ]
  },
  {
   "cell_type": "code",
   "execution_count": null,
   "id": "39c8eab9",
   "metadata": {},
   "outputs": [],
   "source": [
    "cstadesc.compute_frac_nan(cc_ba_daily)"
   ]
  }
 ],
 "metadata": {
  "kernelspec": {
   "display_name": "Python 3 (ipykernel)",
   "language": "python",
   "name": "python3"
  },
  "language_info": {
   "codemirror_mode": {
    "name": "ipython",
    "version": 3
   },
   "file_extension": ".py",
   "mimetype": "text/x-python",
   "name": "python",
   "nbconvert_exporter": "python",
   "pygments_lexer": "ipython3"
  },
  "toc": {
   "base_numbering": 1,
   "nav_menu": {},
   "number_sections": true,
   "sideBar": true,
   "skip_h1_title": false,
   "title_cell": "Table of Contents",
   "title_sidebar": "Contents",
   "toc_cell": false,
   "toc_position": {},
   "toc_section_display": true,
   "toc_window_display": false
  }
 },
 "nbformat": 4,
 "nbformat_minor": 5
}
