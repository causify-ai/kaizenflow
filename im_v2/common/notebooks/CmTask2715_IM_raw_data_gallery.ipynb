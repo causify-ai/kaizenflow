{
 "cells": [
  {
   "cell_type": "markdown",
   "id": "047c5c80",
   "metadata": {},
   "source": [
    "# Description\n"
   ]
  },
  {
   "cell_type": "markdown",
   "id": "296f9d2f",
   "metadata": {},
   "source": [
    "This notebook shows raw data for CCXT OHLCV and Crypto Chassis bid-ask data."
   ]
  },
  {
   "cell_type": "markdown",
   "id": "ebc27535",
   "metadata": {},
   "source": [
    "# Imports"
   ]
  },
  {
   "cell_type": "code",
   "execution_count": null,
   "id": "a2d1a9cd",
   "metadata": {},
   "outputs": [],
   "source": [
    "import logging\n",
    "from typing import List\n",
    "\n",
    "import pandas as pd\n",
    "\n",
    "import core.statistics.descriptive as cstadesc\n",
    "import helpers.hdbg as hdbg\n",
    "import helpers.henv as henv\n",
    "import helpers.hparquet as hparque\n",
    "import helpers.hprint as hprint\n",
    "import helpers.hsql as hsql\n",
    "import im_v2.im_lib_tasks as imvimlita"
   ]
  },
  {
   "cell_type": "code",
   "execution_count": null,
   "id": "19e56ce2",
   "metadata": {},
   "outputs": [],
   "source": [
    "hdbg.init_logger(verbosity=logging.INFO)\n",
    "\n",
    "_LOG = logging.getLogger(__name__)\n",
    "\n",
    "_LOG.info(\"%s\", henv.get_system_signature()[0])\n",
    "\n",
    "hprint.config_notebook()"
   ]
  },
  {
   "cell_type": "markdown",
   "id": "31434422",
   "metadata": {},
   "source": [
    "# Functions"
   ]
  },
  {
   "cell_type": "code",
   "execution_count": null,
   "id": "faf99fab",
   "metadata": {},
   "outputs": [],
   "source": [
    "def get_ccxt_realtime_data(db_table: str, exchange_id: str) -> pd.DataFrame:\n",
    "    # Get DB connection.\n",
    "    env_file = imvimlita.get_db_env_path(\"dev\")\n",
    "    # Connect with the parameters from the env file.\n",
    "    connection_params = hsql.get_connection_info_from_env_file(env_file)\n",
    "    connection = hsql.get_connection(*connection_params)\n",
    "    # Read data from DB.\n",
    "    query = f\"SELECT * FROM {db_table} WHERE exchange_id='{exchange_id}'\"\n",
    "    rt_data = hsql.execute_query_to_df(connection, query)\n",
    "    return rt_data"
   ]
  },
  {
   "cell_type": "code",
   "execution_count": null,
   "id": "1cbdcb5a",
   "metadata": {},
   "outputs": [],
   "source": [
    "def load_parquet_by_period(\n",
    "    start_ts: str, end_ts: str, s3_path: str\n",
    ") -> pd.DataFrame:\n",
    "    start_ts = pd.Timestamp(start_ts, tz=\"UTC\")\n",
    "    end_ts = pd.Timestamp(end_ts, tz=\"UTC\")\n",
    "    # Create timestamp filters.\n",
    "    timestamp_filters = hparque.get_parquet_filters_from_timestamp_interval(\n",
    "        \"by_year_month\", start_ts, end_ts\n",
    "    )\n",
    "    # Load daily data from s3 parquet.\n",
    "    cc_ba_futures_daily = hparque.from_parquet(\n",
    "        s3_path, filters=timestamp_filters, aws_profile=\"ck\"\n",
    "    )\n",
    "    cc_ba_futures_daily = cc_ba_futures_daily.sort_index()\n",
    "    return cc_ba_futures_daily"
   ]
  },
  {
   "cell_type": "code",
   "execution_count": null,
   "id": "ad0d354e",
   "metadata": {},
   "outputs": [],
   "source": [
    "def combine_stats(stats: List[pd.Series]) -> pd.Series:\n",
    "    base_stat = stats[0]\n",
    "    for stat in stats[1:]:\n",
    "        base_stat = base_stat.add(stat)\n",
    "    return base_stat"
   ]
  },
  {
   "cell_type": "markdown",
   "id": "5271eefc",
   "metadata": {},
   "source": [
    "# Realtime (the DB data and the archives stored to S3)"
   ]
  },
  {
   "cell_type": "markdown",
   "id": "3f27af4c",
   "metadata": {},
   "source": [
    "## OHLCV"
   ]
  },
  {
   "cell_type": "markdown",
   "id": "8e9e56fe",
   "metadata": {},
   "source": [
    "### CCXT futures"
   ]
  },
  {
   "cell_type": "code",
   "execution_count": null,
   "id": "3803a860",
   "metadata": {},
   "outputs": [],
   "source": [
    "# Get the real time data.\n",
    "ccxt_rt = get_ccxt_realtime_data(\"ccxt_ohlcv_futures\", \"binance\")"
   ]
  },
  {
   "cell_type": "code",
   "execution_count": null,
   "id": "f7d31130",
   "metadata": {},
   "outputs": [],
   "source": [
    "print(f\"{len(ccxt_rt)} rows overall\")\n",
    "print(\"Head:\")\n",
    "display(ccxt_rt.head(3))\n",
    "print(\"Tail:\")\n",
    "display(ccxt_rt.tail(3))"
   ]
  },
  {
   "cell_type": "markdown",
   "id": "137c686e",
   "metadata": {},
   "source": [
    "#### Count NaNs"
   ]
  },
  {
   "cell_type": "code",
   "execution_count": null,
   "id": "96f8d9b9",
   "metadata": {},
   "outputs": [],
   "source": [
    "cstadesc.compute_frac_nan(ccxt_rt)"
   ]
  },
  {
   "cell_type": "markdown",
   "id": "ca4dddf3",
   "metadata": {},
   "source": [
    "#### Rows with `volume` equal to 0"
   ]
  },
  {
   "cell_type": "code",
   "execution_count": null,
   "id": "3b6c29ec",
   "metadata": {},
   "outputs": [],
   "source": [
    "volume0 = ccxt_rt.loc[ccxt_rt[\"volume\"] == 0]\n",
    "volume0_proc = \"{:.2f}\".format(len(volume0) * 100 / len(ccxt_rt))\n",
    "print(\n",
    "    f\"Percentage of data with `volume=0` in real time CCXT data: {volume0_proc}%\"\n",
    ")\n",
    "print(f\"{len(volume0)} overall\")\n",
    "print(\"First 5 rows:\")\n",
    "display(volume0.head())\n",
    "print(\"Last 5 rows:\")\n",
    "display(volume0.tail())"
   ]
  },
  {
   "cell_type": "code",
   "execution_count": null,
   "id": "2b5e1dd7",
   "metadata": {},
   "outputs": [],
   "source": [
    "volume0[\"currency_pair\"].value_counts().plot(kind=\"bar\")"
   ]
  },
  {
   "cell_type": "markdown",
   "id": "df3f4a24",
   "metadata": {},
   "source": [
    "# Historical (data updated daily)"
   ]
  },
  {
   "cell_type": "markdown",
   "id": "f882eb43",
   "metadata": {},
   "source": [
    "## OHLCV"
   ]
  },
  {
   "cell_type": "markdown",
   "id": "64ff4d63",
   "metadata": {},
   "source": [
    "### CCXT futures"
   ]
  },
  {
   "cell_type": "code",
   "execution_count": null,
   "id": "4a72dd91",
   "metadata": {},
   "outputs": [],
   "source": [
    "s3_path = \"s3://cryptokaizen-data/reorg/daily_staged.airflow.pq/ohlcv-futures/ccxt/binance\"\n",
    "# Load daily data from s3 parquet.\n",
    "ccxt_futures_daily = hparque.from_parquet(s3_path, aws_profile=\"ck\")"
   ]
  },
  {
   "cell_type": "code",
   "execution_count": null,
   "id": "726262eb",
   "metadata": {},
   "outputs": [],
   "source": [
    "print(f\"{len(ccxt_futures_daily)} rows overall\")\n",
    "print(\"Head:\")\n",
    "display(ccxt_futures_daily.head())\n",
    "print(\"Tail:\")\n",
    "display(ccxt_futures_daily.tail())"
   ]
  },
  {
   "cell_type": "markdown",
   "id": "fa8965f8",
   "metadata": {},
   "source": [
    "**Count NaNs**"
   ]
  },
  {
   "cell_type": "code",
   "execution_count": null,
   "id": "0765f521",
   "metadata": {},
   "outputs": [],
   "source": [
    "cstadesc.compute_frac_nan(ccxt_futures_daily)"
   ]
  },
  {
   "cell_type": "markdown",
   "id": "0c24429a",
   "metadata": {},
   "source": [
    "#### Rows with `volume` equal to 0"
   ]
  },
  {
   "cell_type": "code",
   "execution_count": null,
   "id": "32727c58",
   "metadata": {},
   "outputs": [],
   "source": [
    "volume0 = ccxt_futures_daily.loc[ccxt_futures_daily[\"volume\"] == 0]\n",
    "volume0_proc = \"{:.2f}\".format(len(volume0) * 100 / len(ccxt_futures_daily))\n",
    "print(\n",
    "    f\"Percentage of data with `volume=0` in historical CCXT data for the period: {volume0_proc}%\"\n",
    ")\n",
    "print(f\"{len(volume0)} overall\")\n",
    "print(\"First 5 rows:\")\n",
    "display(volume0.head())\n",
    "print(\"Last 5 rows:\")\n",
    "display(volume0.tail())"
   ]
  },
  {
   "cell_type": "code",
   "execution_count": null,
   "id": "4134b011",
   "metadata": {},
   "outputs": [],
   "source": [
    "volume0[\"currency_pair\"].value_counts().plot(kind=\"bar\")"
   ]
  },
  {
   "cell_type": "markdown",
   "id": "b497fbf9",
   "metadata": {},
   "source": [
    "## BID-ASK"
   ]
  },
  {
   "cell_type": "markdown",
   "id": "7df0b6f8",
   "metadata": {},
   "source": [
    "### CC futures"
   ]
  },
  {
   "cell_type": "code",
   "execution_count": null,
   "id": "78f5df42",
   "metadata": {},
   "outputs": [],
   "source": [
    "s3_path = \"s3://cryptokaizen-data/reorg/daily_staged.airflow.pq/bid_ask-futures/crypto_chassis/binance\"\n",
    "overall_rows = 0"
   ]
  },
  {
   "cell_type": "markdown",
   "id": "15d50d1e",
   "metadata": {},
   "source": [
    "The amount of data is too big to process it all at once, so the data will be loaded separately for each month and all statistics will be aggregated."
   ]
  },
  {
   "cell_type": "markdown",
   "id": "34e7c1e8",
   "metadata": {},
   "source": [
    "Process June and July"
   ]
  },
  {
   "cell_type": "code",
   "execution_count": null,
   "id": "7520e719",
   "metadata": {},
   "outputs": [],
   "source": [
    "start_ts = \"20220627-000000\"\n",
    "end_ts = \"20220730-000000\"\n",
    "cc_ba_futures_daily = load_parquet_by_period(start_ts, end_ts, s3_path)\n",
    "display(cc_ba_futures_daily.head(2))\n",
    "display(cc_ba_futures_daily.tail(2))\n",
    "overall_rows += len(cc_ba_futures_daily)"
   ]
  },
  {
   "cell_type": "code",
   "execution_count": null,
   "id": "5378a5f7",
   "metadata": {},
   "outputs": [],
   "source": [
    "# Count NaNs for June and July.\n",
    "june_july_nans = cstadesc.compute_frac_nan(cc_ba_futures_daily)\n",
    "# Count zeros for June and July.\n",
    "june_july_zeros = cstadesc.compute_frac_zero(\n",
    "    cc_ba_futures_daily[[\"bid_price\", \"bid_size\", \"ask_price\", \"ask_size\"]]\n",
    ")"
   ]
  },
  {
   "cell_type": "markdown",
   "id": "57359bd5",
   "metadata": {},
   "source": [
    "Process August"
   ]
  },
  {
   "cell_type": "code",
   "execution_count": null,
   "id": "6f6b84bc",
   "metadata": {},
   "outputs": [],
   "source": [
    "start_ts = \"20220801-000000\"\n",
    "end_ts = \"20220831-000000\"\n",
    "cc_ba_futures_daily = load_parquet_by_period(start_ts, end_ts, s3_path)\n",
    "display(cc_ba_futures_daily.head(2))\n",
    "display(cc_ba_futures_daily.tail(2))\n",
    "overall_rows += len(cc_ba_futures_daily)"
   ]
  },
  {
   "cell_type": "code",
   "execution_count": null,
   "id": "afb8e21e",
   "metadata": {},
   "outputs": [],
   "source": [
    "# Count NaNs for August.\n",
    "aug_nans = cstadesc.compute_frac_nan(cc_ba_futures_daily)\n",
    "# Count zeros for August.\n",
    "aug_zeros = cstadesc.compute_frac_zero(\n",
    "    cc_ba_futures_daily[[\"bid_price\", \"bid_size\", \"ask_price\", \"ask_size\"]]\n",
    ")"
   ]
  },
  {
   "cell_type": "markdown",
   "id": "fb6c0c97",
   "metadata": {},
   "source": [
    "Process September"
   ]
  },
  {
   "cell_type": "code",
   "execution_count": null,
   "id": "8a3daedb",
   "metadata": {},
   "outputs": [],
   "source": [
    "# Load Sept.\n",
    "start_ts = \"20220901-000000\"\n",
    "end_ts = \"20220930-000000\"\n",
    "cc_ba_futures_daily = load_parquet_by_period(start_ts, end_ts, s3_path)\n",
    "display(cc_ba_futures_daily.head(2))\n",
    "display(cc_ba_futures_daily.tail(2))\n",
    "overall_rows += len(cc_ba_futures_daily)"
   ]
  },
  {
   "cell_type": "code",
   "execution_count": null,
   "id": "c00e5175",
   "metadata": {},
   "outputs": [],
   "source": [
    "# Count NaNs for September.\n",
    "sept_nans = cstadesc.compute_frac_nan(cc_ba_futures_daily)\n",
    "# Count zeros for September.\n",
    "sept_zeros = cstadesc.compute_frac_zero(\n",
    "    cc_ba_futures_daily[[\"bid_price\", \"bid_size\", \"ask_price\", \"ask_size\"]]\n",
    ")"
   ]
  },
  {
   "cell_type": "markdown",
   "id": "c6085762",
   "metadata": {},
   "source": [
    "Process October and November"
   ]
  },
  {
   "cell_type": "code",
   "execution_count": null,
   "id": "2fd9bbb3",
   "metadata": {},
   "outputs": [],
   "source": [
    "# Load Oct and Nov.\n",
    "start_ts = \"20221001-000000\"\n",
    "end_ts = \"20221101-000000\"\n",
    "cc_ba_futures_daily = load_parquet_by_period(start_ts, end_ts, s3_path)\n",
    "display(cc_ba_futures_daily.head(2))\n",
    "display(cc_ba_futures_daily.tail(2))\n",
    "overall_rows += len(cc_ba_futures_daily)"
   ]
  },
  {
   "cell_type": "code",
   "execution_count": null,
   "id": "458a2cde",
   "metadata": {},
   "outputs": [],
   "source": [
    "# Count NaNs for October and November.\n",
    "oct_nov_nans = cstadesc.compute_frac_nan(cc_ba_futures_daily)\n",
    "# Count zeros for October and November.\n",
    "oct_nov_zeros = cstadesc.compute_frac_zero(\n",
    "    cc_ba_futures_daily[[\"bid_price\", \"bid_size\", \"ask_price\", \"ask_size\"]]\n",
    ")"
   ]
  },
  {
   "cell_type": "code",
   "execution_count": null,
   "id": "a8265aed",
   "metadata": {},
   "outputs": [],
   "source": [
    "print(f\"{overall_rows} rows overall\")"
   ]
  },
  {
   "cell_type": "markdown",
   "id": "db2fee3e",
   "metadata": {},
   "source": [
    "#### Count NaNs"
   ]
  },
  {
   "cell_type": "code",
   "execution_count": null,
   "id": "71aac4c8",
   "metadata": {},
   "outputs": [],
   "source": [
    "combine_stats([june_july_nans, aug_nans, sept_nans, oct_nov_nans])"
   ]
  },
  {
   "cell_type": "markdown",
   "id": "c5cbd4eb",
   "metadata": {},
   "source": [
    "#### Count zeros"
   ]
  },
  {
   "cell_type": "code",
   "execution_count": null,
   "id": "14401cc9",
   "metadata": {},
   "outputs": [],
   "source": [
    "combine_stats([june_july_zeros, aug_zeros, sept_zeros, oct_nov_zeros])"
   ]
  },
  {
   "cell_type": "code",
   "execution_count": null,
   "id": "1c119ea9",
   "metadata": {},
   "outputs": [],
   "source": []
  }
 ],
 "metadata": {
  "kernelspec": {
   "display_name": "Python 3 (ipykernel)",
   "language": "python",
   "name": "python3"
  },
  "language_info": {
   "codemirror_mode": {
    "name": "ipython",
    "version": 3
   },
   "file_extension": ".py",
   "mimetype": "text/x-python",
   "name": "python",
   "nbconvert_exporter": "python",
   "pygments_lexer": "ipython3"
  },
  "toc": {
   "base_numbering": 1,
   "nav_menu": {},
   "number_sections": true,
   "sideBar": true,
   "skip_h1_title": false,
   "title_cell": "Table of Contents",
   "title_sidebar": "Contents",
   "toc_cell": false,
   "toc_position": {
    "height": "calc(100% - 180px)",
    "left": "10px",
    "top": "150px",
    "width": "165px"
   },
   "toc_section_display": true,
   "toc_window_display": true
  }
 },
 "nbformat": 4,
 "nbformat_minor": 5
}
