{
 "cells": [
  {
   "cell_type": "markdown",
   "id": "ebc27535",
   "metadata": {},
   "source": [
    "# Imports\n"
   ]
  },
  {
   "cell_type": "code",
   "execution_count": null,
   "id": "a2d1a9cd",
   "metadata": {},
   "outputs": [],
   "source": [
    "import json\n",
    "import logging\n",
    "import os\n",
    "from datetime import timedelta\n",
    "\n",
    "import pandas as pd\n",
    "import requests\n",
    "\n",
    "import core.config.config_ as cconconf\n",
    "import core.config.config_utils as ccocouti\n",
    "\n",
    "import helpers.hdatetime as hdateti\n",
    "import helpers.hdbg as hdbg\n",
    "import helpers.henv as henv\n",
    "import helpers.hs3 as hs3\n",
    "import helpers.hpandas as hpandas\n",
    "import helpers.hparquet as hparque\n",
    "import helpers.hsql as hsql\n",
    "import helpers.hprint as hprint\n",
    "import im_v2.ccxt.data.client as icdcl\n",
    "import im_v2.crypto_chassis.data.client as iccdc\n",
    "import im_v2.im_lib_tasks as imvimlita"
   ]
  },
  {
   "cell_type": "code",
   "execution_count": null,
   "id": "19e56ce2",
   "metadata": {},
   "outputs": [],
   "source": [
    "hdbg.init_logger(verbosity=logging.INFO)\n",
    "\n",
    "_LOG = logging.getLogger(__name__)\n",
    "\n",
    "_LOG.info(\"%s\", henv.get_system_signature()[0])\n",
    "\n",
    "hprint.config_notebook()"
   ]
  },
  {
   "cell_type": "markdown",
   "id": "9e97f45e",
   "metadata": {},
   "source": [
    "* Gaps in the data (e.g. data missing for a time period)\n",
    "* Basically we want to get the earliest and the latest date and check for holes in the time range, given that the data is stored by-minute\n",
    "* 0s and NaNs in volume and other columns, as well as their location (see description of \"spikes\" in gdocs above)"
   ]
  },
  {
   "cell_type": "markdown",
   "id": "5271eefc",
   "metadata": {},
   "source": [
    "# Realtime (the DB data and the archives stored to S3)"
   ]
  },
  {
   "cell_type": "markdown",
   "id": "3f27af4c",
   "metadata": {},
   "source": [
    "## OHLCV"
   ]
  },
  {
   "cell_type": "markdown",
   "id": "8e9e56fe",
   "metadata": {},
   "source": [
    "### CCXT (futures)"
   ]
  },
  {
   "cell_type": "code",
   "execution_count": null,
   "id": "5a308d51",
   "metadata": {},
   "outputs": [],
   "source": [
    "# Get DB connection.\n",
    "env_file = imvimlita.get_db_env_path(\"dev\")\n",
    "# Connect with the parameters from the env file.\n",
    "connection_params = hsql.get_connection_info_from_env_file(env_file)\n",
    "connection = hsql.get_connection(*connection_params)"
   ]
  },
  {
   "cell_type": "code",
   "execution_count": null,
   "id": "3803a860",
   "metadata": {},
   "outputs": [],
   "source": [
    "ccxt_rt_im_client = icdcl.CcxtSqlRealTimeImClient(\n",
    "           False, connection, \"ccxt_ohlcv_futures\"\n",
    "        )\n",
    "# Get the full symbol universe.\n",
    "universe = ccxt_rt_im_client.get_universe()\n",
    "# Get the real time data.\n",
    "ccxt_rt = ccxt_rt_im_client.read_data(\n",
    "            universe, None, None, None, \"assert\"\n",
    "        )"
   ]
  },
  {
   "cell_type": "code",
   "execution_count": null,
   "id": "cb3375b9",
   "metadata": {},
   "outputs": [],
   "source": [
    "ccxt_rt"
   ]
  },
  {
   "cell_type": "code",
   "execution_count": null,
   "id": "6ba61821",
   "metadata": {},
   "outputs": [],
   "source": []
  },
  {
   "cell_type": "markdown",
   "id": "df3f4a24",
   "metadata": {},
   "source": [
    "# Historical (data updated daily)"
   ]
  },
  {
   "cell_type": "markdown",
   "id": "f882eb43",
   "metadata": {},
   "source": [
    "## OHLCV "
   ]
  },
  {
   "cell_type": "markdown",
   "id": "64ff4d63",
   "metadata": {},
   "source": [
    "### CCXT (futures)"
   ]
  },
  {
   "cell_type": "code",
   "execution_count": null,
   "id": "8519ad52",
   "metadata": {},
   "outputs": [],
   "source": [
    "# Initiate the client.\n",
    "ccxt_client = icdcl.CcxtHistoricalPqByTileClient(\n",
    "    universe_version=\"v3\",\n",
    "    resample_1min=True,\n",
    "    root_dir=os.path.join(\"s3://cryptokaizen-data\", \"reorg\", \"daily_staged.airflow.pq\"),\n",
    "    partition_mode=\"by_year_month\",\n",
    "    data_snapshot=\"\", # does it mean all the snapshots?\n",
    "    aws_profile=\"ck\",\n",
    "    dataset=\"ohlcv\",\n",
    "    contract_type=\"futures\"\n",
    ")\n",
    "\n",
    "# Get the historical data.\n",
    "ccxt_futures_daily = ccxt_client.read_data(\n",
    "    full_symbols=universe, \n",
    "    start_ts=None, \n",
    "    end_ts=None, \n",
    "    columns=None, \n",
    "    filter_data_mode=\"assert\")"
   ]
  },
  {
   "cell_type": "code",
   "execution_count": null,
   "id": "04db6132",
   "metadata": {},
   "outputs": [],
   "source": [
    "ccxt_futures_daily"
   ]
  },
  {
   "cell_type": "code",
   "execution_count": null,
   "id": "32727c58",
   "metadata": {},
   "outputs": [],
   "source": []
  }
 ],
 "metadata": {
  "kernelspec": {
   "display_name": "Python 3 (ipykernel)",
   "language": "python",
   "name": "python3"
  },
  "language_info": {
   "codemirror_mode": {
    "name": "ipython",
    "version": 3
   },
   "file_extension": ".py",
   "mimetype": "text/x-python",
   "name": "python",
   "nbconvert_exporter": "python",
   "pygments_lexer": "ipython3"
  },
  "toc": {
   "base_numbering": 1,
   "nav_menu": {},
   "number_sections": true,
   "sideBar": true,
   "skip_h1_title": false,
   "title_cell": "Table of Contents",
   "title_sidebar": "Contents",
   "toc_cell": false,
   "toc_position": {},
   "toc_section_display": true,
   "toc_window_display": false
  }
 },
 "nbformat": 4,
 "nbformat_minor": 5
}
