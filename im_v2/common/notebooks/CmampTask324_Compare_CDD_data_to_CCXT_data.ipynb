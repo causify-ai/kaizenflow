{
 "cells": [
  {
   "cell_type": "markdown",
   "id": "af4bb43c",
   "metadata": {},
   "source": [
    "## Description\n",
    "\n",
    "Analyze bar prices"
   ]
  },
  {
   "cell_type": "code",
   "execution_count": null,
   "id": "2d6ff3c9",
   "metadata": {},
   "outputs": [],
   "source": [
    "import datetime\n",
    "\n",
    "import pandas as pd\n",
    "import s3fs\n",
    "import seaborn as sns\n",
    "import statsmodels\n",
    "import statsmodels.api\n",
    "from pyarrow import parquet"
   ]
  },
  {
   "cell_type": "markdown",
   "id": "a784c788",
   "metadata": {},
   "source": [
    "# Load data to compare"
   ]
  },
  {
   "cell_type": "code",
   "execution_count": null,
   "id": "c50d0d50",
   "metadata": {},
   "outputs": [],
   "source": [
    "# Load one day of data: 2019-01-07 is a Monday.\n",
    "\n",
    "path = \"s3://.../20190107/data.parquet\"\n",
    "columns = None\n",
    "filesystem = s3fs.S3FileSystem() if path.startswith(\"s3://\") else None\n",
    "dataset = parquet.ParquetDataset(path, filesystem=filesystem)\n",
    "table = dataset.read(columns=columns)\n",
    "df_taq_bars = table.to_pandas()\n",
    "# .to_csv(sys.stdout, index=False, quoting=csv.QUOTE_NONNUMERIC)"
   ]
  },
  {
   "cell_type": "code",
   "execution_count": null,
   "id": "4cb3fd48",
   "metadata": {},
   "outputs": [],
   "source": [
    "print(\"df_taq_bars.shape=\", df_taq_bars.shape)\n",
    "\n",
    "print(df_taq_bars.columns)\n",
    "\n",
    "print(\"tickers=\", len(df_taq_bars[\"ticker\"].unique()))\n",
    "\n",
    "print(\"asset_id=\", len(df_taq_bars[\"asset_id\"].unique()))\n",
    "\n",
    "print(\"currency=\", df_taq_bars[\"currency\"].unique())"
   ]
  },
  {
   "cell_type": "code",
   "execution_count": null,
   "id": "79b7d5d7",
   "metadata": {},
   "outputs": [],
   "source": [
    "# print(\"\\n\".join(map(str, df_taq_bars.iloc[0].values)))"
   ]
  },
  {
   "cell_type": "code",
   "execution_count": null,
   "id": "60268110",
   "metadata": {},
   "outputs": [],
   "source": [
    "display(df_taq_bars.head(3))\n",
    "\n",
    "display(df_taq_bars.tail(3))"
   ]
  },
  {
   "cell_type": "code",
   "execution_count": null,
   "id": "a0a389c9",
   "metadata": {},
   "outputs": [],
   "source": [
    "# Get AAPL data for a subset of columns.\n",
    "mask = df_taq_bars[\"ticker\"] == \"AAPL\"\n",
    "df_new = df_taq_bars[mask]\n",
    "print(df_new.shape)\n",
    "\n",
    "columns = [\n",
    "    \"start_time\",\n",
    "    \"end_time\",\n",
    "    \"ticker\",\n",
    "    \"currency\",\n",
    "    \"open\",\n",
    "    \"close\",\n",
    "    \"low\",\n",
    "    \"high\",\n",
    "    \"volume\",\n",
    "]\n",
    "df_new = df_new[columns]\n",
    "\n",
    "df_new.head(3)"
   ]
  },
  {
   "cell_type": "code",
   "execution_count": null,
   "id": "8ee65150",
   "metadata": {},
   "outputs": [],
   "source": [
    "def to_et(df, col_name):\n",
    "    df = df.copy()\n",
    "    vals = df[col_name].apply(datetime.datetime.fromtimestamp)\n",
    "    # print(vals)\n",
    "    vals = vals.dt.tz_localize(\"UTC\").dt.tz_convert(\"America/New_York\")\n",
    "    df[col_name] = vals\n",
    "    return df\n",
    "\n",
    "\n",
    "df_new2 = to_et(df_new, \"start_time\")\n",
    "df_new2 = to_et(df_new2, \"end_time\")\n",
    "df_new2.set_index(\"start_time\", drop=True, inplace=True)\n",
    "\n",
    "display(df_new2.head())\n",
    "# display(df_new2.tail())\n",
    "# display(df_new2[df_new2.index > \"2019-01-07 09:20\"].head())\n",
    "# display(df_new2[df_new2.index < \"2019-01-07 16:03\"].tail())"
   ]
  },
  {
   "cell_type": "code",
   "execution_count": null,
   "id": "0d3f073b",
   "metadata": {},
   "outputs": [],
   "source": [
    "display(df_new2[df_new2.index > \"2019-01-07 09:27\"].head())"
   ]
  },
  {
   "cell_type": "code",
   "execution_count": null,
   "id": "603486bc",
   "metadata": {},
   "outputs": [],
   "source": [
    "display(df_new2[df_new2.index < \"2019-01-07 16:03\"].tail())"
   ]
  },
  {
   "cell_type": "code",
   "execution_count": null,
   "id": "95c7e6da",
   "metadata": {},
   "outputs": [],
   "source": [
    "df_new2[\"close\"].plot()"
   ]
  },
  {
   "cell_type": "code",
   "execution_count": null,
   "id": "5659bf02",
   "metadata": {},
   "outputs": [],
   "source": [
    "df_new2[\"volume\"].plot()"
   ]
  },
  {
   "cell_type": "markdown",
   "id": "a9212e31",
   "metadata": {},
   "source": [
    "# Load ref data"
   ]
  },
  {
   "cell_type": "code",
   "execution_count": null,
   "id": "525ee94e",
   "metadata": {},
   "outputs": [],
   "source": [
    "file_name = \"/app/aapl.csv\"\n",
    "df_ref = pd.read_csv(file_name)\n",
    "display(df_ref.head())\n",
    "\n",
    "df_ref[\"datetime\"] = pd.to_datetime(df_ref[\"datetime\"])\n",
    "# df_ref[\"datetime\"] = df_ref[\"datetime\"].dt.tz_localize('UTC').dt.tz_convert('America/New_York')\n",
    "df_ref[\"datetime\"] = df_ref[\"datetime\"].dt.tz_localize(\"America/New_York\")\n",
    "df_ref.set_index(\"datetime\", inplace=True, drop=True)\n",
    "# df_ref = df_ref[(df_ref.index >= \"2019-01-07\") & (df_ref.index < \"2019-01-08\")]\n",
    "df_ref = df_ref[\n",
    "    (df_ref.index >= \"2019-01-07 09:30\") & (df_ref.index <= \"2019-01-07 16:00\")\n",
    "]\n",
    "df_ref.rename({\"vol\": \"volume\"}, axis=\"columns\", inplace=True)\n",
    "\n",
    "display(df_ref.head())\n",
    "display(df_ref.tail())"
   ]
  },
  {
   "cell_type": "code",
   "execution_count": null,
   "id": "ac527478",
   "metadata": {},
   "outputs": [],
   "source": [
    "# display(df_ref[df_ref.index > \"2019-01-07 09:27\"].head())\n",
    "\n",
    "# display(df_ref[df_ref.index < \"2019-01-07 16:03\"].tail())"
   ]
  },
  {
   "cell_type": "code",
   "execution_count": null,
   "id": "bec7ec9d",
   "metadata": {},
   "outputs": [],
   "source": [
    "df_ref[\"close\"].plot()"
   ]
  },
  {
   "cell_type": "code",
   "execution_count": null,
   "id": "e1878111",
   "metadata": {},
   "outputs": [],
   "source": [
    "df_ref[\"volume\"].plot()"
   ]
  },
  {
   "cell_type": "markdown",
   "id": "6237b502",
   "metadata": {},
   "source": [
    "# Comparison"
   ]
  },
  {
   "cell_type": "code",
   "execution_count": null,
   "id": "98f5451a",
   "metadata": {},
   "outputs": [],
   "source": [
    "display(df_new2.head())\n",
    "display(df_ref.head())"
   ]
  },
  {
   "cell_type": "code",
   "execution_count": null,
   "id": "7cebc424",
   "metadata": {},
   "outputs": [],
   "source": [
    "# Notice how the 16:00:00 bars differ\n",
    "display(df_new2.dropna().tail())\n",
    "display(df_ref.dropna().tail())"
   ]
  },
  {
   "cell_type": "code",
   "execution_count": null,
   "id": "10ea27d2",
   "metadata": {},
   "outputs": [],
   "source": [
    "target_col_name = \"close\""
   ]
  },
  {
   "cell_type": "code",
   "execution_count": null,
   "id": "7dd2c03d",
   "metadata": {},
   "outputs": [],
   "source": [
    "col_names = [target_col_name]\n",
    "df_all = df_new2[col_names].merge(\n",
    "    df_ref[col_names],\n",
    "    left_index=True,\n",
    "    right_index=True,\n",
    "    how=\"outer\",\n",
    "    suffixes=[\"_new\", \"_ref\"],\n",
    ")\n",
    "df_all.head()"
   ]
  },
  {
   "cell_type": "code",
   "execution_count": null,
   "id": "1946fbef",
   "metadata": {},
   "outputs": [],
   "source": [
    "# Notice that the precisions appear to be different across the two columns\n",
    "#   (and within the same day for the \"_new\" column)\n",
    "display(df_all.dropna().head())\n",
    "display(df_all.dropna().tail())"
   ]
  },
  {
   "cell_type": "code",
   "execution_count": null,
   "id": "0d8aec85",
   "metadata": {},
   "outputs": [],
   "source": [
    "df_all.dropna().tail()"
   ]
  },
  {
   "cell_type": "code",
   "execution_count": null,
   "id": "8273ea50",
   "metadata": {},
   "outputs": [],
   "source": [
    "df_all.plot()"
   ]
  },
  {
   "cell_type": "code",
   "execution_count": null,
   "id": "fcd32d0d",
   "metadata": {},
   "outputs": [],
   "source": [
    "df_all.columns[0]"
   ]
  },
  {
   "cell_type": "code",
   "execution_count": null,
   "id": "141de96c",
   "metadata": {},
   "outputs": [],
   "source": [
    "def calculate_diffs(df, shifts=0):\n",
    "    df = df.diff()\n",
    "    df[\"diff_of_diffs\"] = df[df.columns[0]] - df[df.columns[1]].shift(shifts)\n",
    "    return df"
   ]
  },
  {
   "cell_type": "code",
   "execution_count": null,
   "id": "69e158f5",
   "metadata": {},
   "outputs": [],
   "source": [
    "diffs = calculate_diffs(df_all, 0)"
   ]
  },
  {
   "cell_type": "code",
   "execution_count": null,
   "id": "66136d95",
   "metadata": {},
   "outputs": [],
   "source": [
    "diffs.dropna()"
   ]
  },
  {
   "cell_type": "code",
   "execution_count": null,
   "id": "6831f704",
   "metadata": {},
   "outputs": [],
   "source": [
    "diffs[\"diff_of_diffs\"].plot()"
   ]
  },
  {
   "cell_type": "code",
   "execution_count": null,
   "id": "cf26dcf8",
   "metadata": {},
   "outputs": [],
   "source": [
    "diffs[\"diff_of_diffs\"].cumsum().plot()"
   ]
  },
  {
   "cell_type": "code",
   "execution_count": null,
   "id": "c986b3aa",
   "metadata": {},
   "outputs": [],
   "source": [
    "diffs[\"diff_of_diffs\"].hist(bins=30)"
   ]
  },
  {
   "cell_type": "code",
   "execution_count": null,
   "id": "010fdcef",
   "metadata": {},
   "outputs": [],
   "source": [
    "diffs[\"diff_of_diffs\"].mean(), diffs[\"diff_of_diffs\"].std()"
   ]
  },
  {
   "cell_type": "code",
   "execution_count": null,
   "id": "0ebd8f0e",
   "metadata": {},
   "outputs": [],
   "source": [
    "diffs[\"diff_of_diffs\"].apply(abs).sum()"
   ]
  },
  {
   "cell_type": "code",
   "execution_count": null,
   "id": "82c71ee6",
   "metadata": {},
   "outputs": [],
   "source": [
    "# Force all the data to be centered around 100.\n",
    "df_all -= df_all.mean(axis=0)\n",
    "df_all += 100.0\n",
    "\n",
    "df_all.plot()"
   ]
  },
  {
   "cell_type": "code",
   "execution_count": null,
   "id": "abb74dc3",
   "metadata": {},
   "outputs": [],
   "source": [
    "rets = df_all.pct_change()\n",
    "\n",
    "rets.plot()"
   ]
  },
  {
   "cell_type": "code",
   "execution_count": null,
   "id": "f7822d04",
   "metadata": {},
   "outputs": [],
   "source": [
    "# df_all[col_names].loc[\"2019-01-07 09:30\":\"2019-01-07 12:00\"].plot()\n",
    "# df_all[col_names].loc[\"2019-01-07 09:30\":\"2019-01-07 09:35\"].plot()\n",
    "df_all.loc[\"2019-01-07 09:35\":\"2019-01-07 09:40\"].plot()"
   ]
  },
  {
   "cell_type": "code",
   "execution_count": null,
   "id": "12fedf98",
   "metadata": {},
   "outputs": [],
   "source": [
    "predicted_var = diffs.columns[0]\n",
    "predictor_var = diffs.columns[1]\n",
    "\n",
    "df = diffs[[predicted_var, predictor_var]].copy()\n",
    "df[predicted_var] = df[predicted_var].shift(0)\n",
    "df = df.dropna()\n",
    "\n",
    "intercept = True\n",
    "model = statsmodels.api.OLS(\n",
    "    df[predicted_var], df[predictor_var], hasconst=intercept\n",
    ").fit()\n",
    "print(model.summary().as_text())\n",
    "\n",
    "sns.jointplot(x=predictor_var, y=predicted_var, data=df)"
   ]
  },
  {
   "cell_type": "code",
   "execution_count": null,
   "id": "41c9d6e4",
   "metadata": {},
   "outputs": [],
   "source": []
  }
 ],
 "metadata": {
  "kernelspec": {
   "display_name": "Python 3 (ipykernel)",
   "language": "python",
   "name": "python3"
  },
  "language_info": {
   "codemirror_mode": {
    "name": "ipython",
    "version": 3
   },
   "file_extension": ".py",
   "mimetype": "text/x-python",
   "name": "python",
   "nbconvert_exporter": "python",
   "pygments_lexer": "ipython3"
  },
  "toc": {
   "base_numbering": 1,
   "nav_menu": {},
   "number_sections": true,
   "sideBar": true,
   "skip_h1_title": false,
   "title_cell": "Table of Contents",
   "title_sidebar": "Contents",
   "toc_cell": false,
   "toc_position": {},
   "toc_section_display": true,
   "toc_window_display": true
  }
 },
 "nbformat": 4,
 "nbformat_minor": 5
}
