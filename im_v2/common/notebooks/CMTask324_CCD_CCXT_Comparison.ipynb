{
 "cells": [
  {
   "cell_type": "markdown",
   "id": "50f2ba4b",
   "metadata": {},
   "source": [
    "# Imports"
   ]
  },
  {
   "cell_type": "code",
   "execution_count": null,
   "id": "df02857b",
   "metadata": {},
   "outputs": [],
   "source": [
    "import pandas as pd\n",
    "\n",
    "import im_v2.ccxt.data.client.clients as imvcdclcl\n",
    "import im_v2.common.data.client.clients as ivcdclcl\n",
    "import im_v2.ccxt.universe.universe as imvccunun\n",
    "import im_v2.common.data.client.clients as ivcdclcl\n",
    "import im.cryptodatadownload.data.load.loader as icdalolo\n",
    "import helpers.s3 as hs3\n",
    "import os\n",
    "\n",
    "import logging \n",
    "\n",
    "import helpers.dbg as hdbg\n",
    "import helpers.env as henv\n",
    "import helpers.printing as hprint"
   ]
  },
  {
   "cell_type": "code",
   "execution_count": null,
   "id": "51a0a57d",
   "metadata": {},
   "outputs": [],
   "source": [
    "hdbg.init_logger(verbosity=logging.INFO)\n",
    "\n",
    "_LOG = logging.getLogger(__name__)\n",
    "\n",
    "_LOG.info(\"%s\", henv.get_system_signature()[0])\n",
    "\n",
    "hprint.config_notebook()"
   ]
  },
  {
   "cell_type": "markdown",
   "id": "f55bab2e",
   "metadata": {},
   "source": [
    "# Load the data"
   ]
  },
  {
   "cell_type": "markdown",
   "id": "be15c4bf",
   "metadata": {},
   "source": [
    "The code below can be used to load all the existing data from two vendors CDD and CCXT. Current version is specified to Binance only, however, even for one exchange there's too many data to operate, that's why I am skipping this part and allow downloads only for the universes."
   ]
  },
  {
   "cell_type": "markdown",
   "id": "18b6e254",
   "metadata": {},
   "source": [
    "## CCXT"
   ]
  },
  {
   "cell_type": "code",
   "execution_count": null,
   "id": "d15816d5",
   "metadata": {},
   "outputs": [],
   "source": [
    "root_dir = os.path.join(hs3.get_path(), \"data\")\n",
    "ccxt_client = imvcdclcl.CcxtFileSystemClient(data_type=\"ohlcv\", root_dir=root_dir, aws_profile=\"am\")\n",
    "ccxt_universe = imvccunun.get_vendor_universe(version = \"v03\")\n",
    "ccxt_binance_universe = [element for element in ccxt_universe if element.startswith(\"binance\")]\n",
    "#multiple_symbols_client = ivcdclcl.MultipleSymbolsClient(class_ = ccxt_client, mode=\"concat\")\n",
    "#ccxt_data = multiple_symbols_client.read_data(ccxt_binance_universe) "
   ]
  },
  {
   "cell_type": "code",
   "execution_count": null,
   "id": "df320cae",
   "metadata": {},
   "outputs": [],
   "source": [
    "# need to sort by stamp\n",
    "#ccxt_data = ccxt_data.sort_index()"
   ]
  },
  {
   "cell_type": "code",
   "execution_count": null,
   "id": "646839d8",
   "metadata": {},
   "outputs": [],
   "source": [
    "#display(ccxt_data.head(3))\n",
    "#display(ccxt_data.shape)"
   ]
  },
  {
   "cell_type": "markdown",
   "id": "b70b0e3c",
   "metadata": {},
   "source": [
    "## CDD"
   ]
  },
  {
   "cell_type": "code",
   "execution_count": null,
   "id": "3ca3a6f3",
   "metadata": {},
   "outputs": [],
   "source": [
    "universe_cdd = imvccunun.get_vendor_universe(version=\"v01\", vendor=\"CDD\")\n",
    "cdd_binance_universe_initial = [element for element in universe_cdd if element.startswith(\"binance\")]"
   ]
  },
  {
   "cell_type": "code",
   "execution_count": null,
   "id": "b1903f6e",
   "metadata": {},
   "outputs": [],
   "source": [
    "cdd_binance_universe = cdd_binance_universe_initial.copy()\n",
    "\n",
    "# SCU_USDT has incorrect columns, so can not be downloaded.\n",
    "# See CMTask244 - Cannot load CDD - binance - SCU/USDT from s3 for the reference.\n",
    "cdd_binance_universe.remove(\"binance::SCU_USDT\")"
   ]
  },
  {
   "cell_type": "code",
   "execution_count": null,
   "id": "afe3d464",
   "metadata": {},
   "outputs": [],
   "source": [
    "#cdd_data=[]\n",
    "#cdd_loader = icdalolo.CddLoader(root_dir=\"s3://alphamatic-data/data\", aws_profile=\"am\")\n",
    "\n",
    "#for i in list(range(len(cdd_binance_universe))):\n",
    "#    cdd_data.append(cdd_loader.read_data_from_filesystem(exchange_id=\"binance\", \n",
    "#                                                            currency_pair=ivcdclcl.parse_full_symbol(cdd_binance_universe[i])[1], \n",
    "#                                                            data_type=\"ohlcv\"))\n",
    "#cdd_data = pd.concat(cdd_data)"
   ]
  },
  {
   "cell_type": "code",
   "execution_count": null,
   "id": "8ffaccbb",
   "metadata": {},
   "outputs": [],
   "source": [
    "#display(cdd_data.head(3))\n",
    "#display(cdd_data.shape)"
   ]
  },
  {
   "cell_type": "markdown",
   "id": "56d1a94e",
   "metadata": {},
   "source": [
    "# Compare universes"
   ]
  },
  {
   "cell_type": "code",
   "execution_count": null,
   "id": "388ed886",
   "metadata": {},
   "outputs": [],
   "source": [
    "_LOG.info(\"Number of currency pairs in CCXT: %s\", len(ccxt_universe))\n",
    "_LOG.info(\"Number of currency pairs in CDD: %s\", len(universe_cdd))"
   ]
  },
  {
   "cell_type": "code",
   "execution_count": null,
   "id": "6cbbde9b",
   "metadata": {},
   "outputs": [],
   "source": [
    "# Intersection of currency pairs between two vendors.\n",
    "currency_pair_intersection = set(ccxt_universe).intersection(universe_cdd)\n",
    "_LOG.info(\"Number of similar currency pairs: %s\", len(currency_pair_intersection))\n",
    "display(currency_pair_intersection)"
   ]
  },
  {
   "cell_type": "code",
   "execution_count": null,
   "id": "6a0e6ddc",
   "metadata": {},
   "outputs": [],
   "source": [
    "# Currency pairs that are included in CCXT but not in CDD.\n",
    "ccxt_and_not_cdd = set(ccxt_universe).difference(universe_cdd)\n",
    "_LOG.info(\"Number of unique CCXT currency pairs: %s\", len(ccxt_and_not_cdd))\n",
    "display(ccxt_and_not_cdd)"
   ]
  },
  {
   "cell_type": "code",
   "execution_count": null,
   "id": "c58fa3b5",
   "metadata": {},
   "outputs": [],
   "source": [
    "# Currency pairs that are included in CDD but not in CCXT.\n",
    "cdd_and_not_ccxt = set(universe_cdd).difference(ccxt_universe)\n",
    "_LOG.info(\"Number of unique CDD currency pairs: %s\", len(cdd_and_not_ccxt))\n",
    "display(cdd_and_not_ccxt)"
   ]
  },
  {
   "cell_type": "markdown",
   "id": "8ef8dbbc",
   "metadata": {},
   "source": [
    "# Compare close prices from Binance"
   ]
  },
  {
   "cell_type": "markdown",
   "id": "cf51f3b5",
   "metadata": {},
   "source": [
    "## Load the data"
   ]
  },
  {
   "cell_type": "markdown",
   "id": "71fda22d",
   "metadata": {},
   "source": [
    "We can compare only the intersection of currency pairs for two vendors. In this case it's specified for Binance exchange only."
   ]
  },
  {
   "cell_type": "code",
   "execution_count": null,
   "id": "206dbd61",
   "metadata": {},
   "outputs": [],
   "source": [
    "currency_pair_intersection_binance = set(ccxt_binance_universe).intersection(cdd_binance_universe_initial)"
   ]
  },
  {
   "cell_type": "code",
   "execution_count": null,
   "id": "eaa9390c",
   "metadata": {},
   "outputs": [],
   "source": [
    "cdd_data=[]\n",
    "cdd_loader = icdalolo.CddLoader(root_dir=root_dir, aws_profile=\"am\")\n",
    "\n",
    "for full_symbol in currency_pair_intersection_binance:\n",
    "    _, currency_pair = ivcdclcl.parse_full_symbol(full_symbol)\n",
    "    cur_data = cdd_loader.read_data_from_filesystem(exchange_id=\"binance\", \n",
    "                                                    currency_pair = currency_pair,\n",
    "                                                    data_type=\"ohlcv\")\n",
    "    cdd_data.append(cur_data)\n",
    "cdd_binance_df = pd.concat(cdd_data)"
   ]
  },
  {
   "cell_type": "code",
   "execution_count": null,
   "id": "16967360",
   "metadata": {},
   "outputs": [],
   "source": [
    "display(cdd_binance_df.head(3))\n",
    "display(cdd_binance_df.shape)"
   ]
  },
  {
   "cell_type": "code",
   "execution_count": null,
   "id": "b0e615db",
   "metadata": {},
   "outputs": [],
   "source": [
    "ccxt_client = imvcdclcl.CcxtFileSystemClient(data_type=\"ohlcv\", root_dir=root_dir, aws_profile=\"am\")\n",
    "multiple_symbols_client = ivcdclcl.MultipleSymbolsClient(class_ = ccxt_client, mode=\"concat\")\n",
    "ccxt_binance_df = multiple_symbols_client.read_data(currency_pair_intersection_binance) "
   ]
  },
  {
   "cell_type": "code",
   "execution_count": null,
   "id": "f16eae99",
   "metadata": {},
   "outputs": [],
   "source": [
    "ccxt_binance_df = ccxt_binance_df.sort_index()"
   ]
  },
  {
   "cell_type": "code",
   "execution_count": null,
   "id": "01dd5311",
   "metadata": {},
   "outputs": [],
   "source": [
    "display(ccxt_binance_df.head(3))\n",
    "display(ccxt_binance_df.shape)"
   ]
  },
  {
   "cell_type": "markdown",
   "id": "033ab736",
   "metadata": {},
   "source": [
    "## Calculate returns and correlation"
   ]
  },
  {
   "cell_type": "code",
   "execution_count": null,
   "id": "94be0ac7",
   "metadata": {},
   "outputs": [],
   "source": [
    "# CDD names cleaning.\n",
    "cdd_binance_df[\"currency_pair\"] = cdd_binance_df[\"currency_pair\"].str.replace(\"/\", \"_\")"
   ]
  },
  {
   "cell_type": "code",
   "execution_count": null,
   "id": "dcc9efdb",
   "metadata": {},
   "outputs": [],
   "source": [
    "def calculate_correlations_for_currency_pairs(df_ccxt, df_cdd, resampling_freq, compute_returns=False):\n",
    "    \"\"\"\n",
    "    Take two dataframes (i.e. CDD and CCXT data), resample it to the given frequency and calculate\n",
    "    the correlations for each specific currency pair.\n",
    "    \n",
    "    :param df_ccxt: DataFrame with CCXT OHLCV data\n",
    "    :param df_cdd: DataFrame with CDD OHLCV data\n",
    "    :param resampling_freq: set the desired resampling frequency for calculations\n",
    "    :param compute_returns: if True - compute returns, if False - compare close prices\n",
    "    \"\"\"\n",
    "    # CDD part.\n",
    "    ## Reseting DateTime index, so it can be further used in the grouping process.\n",
    "    df_cdd = df_cdd.reset_index()\n",
    "    df_cdd = df_cdd.rename(columns={\"index\":\"stamp\"})\n",
    "    ## Group by currency pairs and simultaneously resample to the desired frequency.\n",
    "    resampler = df_cdd.groupby([\"currency_pair\", pd.Grouper(key=\"stamp\",freq=resampling_freq)])\n",
    "    ## Take the last 'close' price from the resampling frequency range.\n",
    "    close_cdd = resampler.close.last()\n",
    "    if compute_returns:\n",
    "        ## Group by currency pairs in order to calculate the percentage returns.\n",
    "        grouper = close_cdd.groupby(\"currency_pair\")\n",
    "        close_cdd = grouper.pct_change()\n",
    "    # CCXT part\n",
    "    ## Reseting DateTime index, so it can be further used in the grouping process.\n",
    "    df_ccxt = df_ccxt.reset_index()\n",
    "    df_ccxt = df_ccxt.rename(columns={\"index\":\"stamp\"})\n",
    "    ## Group by currency pairs and simultaneously resample to the desired frequency.\n",
    "    resampler = df_ccxt.groupby([\"currency_pair\", pd.Grouper(key=\"stamp\",freq=resampling_freq)])\n",
    "    ## Take the last 'close' price from the resampling frequency range.\n",
    "    close_ccxt = resampler.close.last()\n",
    "    ## Group by currency pairs in order to calculate the percentage returns.\n",
    "    if compute_returns:\n",
    "        grouper = close_ccxt.groupby(\"currency_pair\")\n",
    "        close_ccxt = grouper.pct_change()\n",
    "    # Combine and calculate correlations.\n",
    "    combined = pd.concat([close_cdd,close_ccxt],axis=1)\n",
    "    # Rename the columns.\n",
    "    if compute_returns:\n",
    "        combined.columns=[\"ccxt_returns\",\"cdd_returns\"]\n",
    "    else:\n",
    "        combined.columns = [\"cdd_close\",\"ccxt_close\"]\n",
    "    # Group by again to calculte returns correlation for each currency pair.\n",
    "    corr_matrix = combined.groupby(level=0).corr()\n",
    "    display(corr_matrix)\n",
    "    # DataFrame with description statistics\n",
    "    ## Stats for CDD data.\n",
    "    descr_cdd = close_cdd.groupby(level=0).describe()\n",
    "    descr_cdd=descr_cdd.add_suffix('_cdd')\n",
    "    ## Stats for CCXT data.\n",
    "    descr_ccxt = close_ccxt.groupby(level=0).describe()\n",
    "    descr_ccxt=descr_ccxt.add_suffix('_ccxt')\n",
    "    ## Collect the results into one dataframe.\n",
    "    descr_df = pd.concat([descr_cdd, descr_ccxt],axis=1)\n",
    "    descr_df.sort_index(ascending=False, axis=1,inplace=True)\n",
    "    return descr_df"
   ]
  },
  {
   "cell_type": "markdown",
   "id": "d674ba5a",
   "metadata": {},
   "source": [
    "### 5-min periods"
   ]
  },
  {
   "cell_type": "code",
   "execution_count": null,
   "id": "ae15e9cc",
   "metadata": {},
   "outputs": [],
   "source": [
    "returns_corr_5min = calculate_correlations_for_currency_pairs(ccxt_binance_df, cdd_binance_df,\"5min\",compute_returns=True)\n",
    "returns_corr_5min"
   ]
  },
  {
   "cell_type": "markdown",
   "id": "209c2fa0",
   "metadata": {},
   "source": [
    "### 1-day periods"
   ]
  },
  {
   "cell_type": "code",
   "execution_count": null,
   "id": "fc4406d0",
   "metadata": {},
   "outputs": [],
   "source": [
    "returns_corr_1day = calculate_correlations_for_currency_pairs(ccxt_binance_df, cdd_binance_df,\"1D\",compute_returns=True)\n",
    "returns_corr_1day"
   ]
  },
  {
   "cell_type": "markdown",
   "id": "c41b242e",
   "metadata": {},
   "source": [
    "## Compare close prices"
   ]
  },
  {
   "cell_type": "code",
   "execution_count": null,
   "id": "6c8ffb13",
   "metadata": {},
   "outputs": [],
   "source": [
    "close_1day = calculate_correlations_of_returns(ccxt_binance_df, cdd_binance_df,\"1D\",compute_returns=False)\n",
    "close_1day"
   ]
  },
  {
   "cell_type": "markdown",
   "id": "5b72a8d7",
   "metadata": {},
   "source": [
    "# Statistical properties of a unique coin"
   ]
  },
  {
   "cell_type": "code",
   "execution_count": null,
   "id": "66a909a1",
   "metadata": {},
   "outputs": [],
   "source": [
    "# Clearing CDD currency pairs that are incorrect.\n",
    "\n",
    "# Binance\n",
    "universe_cdd.remove(\"binance::SCU_USDT\")\n",
    "\n",
    "# Bitfinex\n",
    "universe_cdd.remove(\"bitfinex::BTC_GBR\") #doesn't exist\n",
    "universe_cdd.remove(\"bitfinex::DASH_BTC\") # NaT in stamps\n",
    "universe_cdd.remove(\"bitfinex::DASH_USD\") # NaT in stamps\n",
    "universe_cdd.remove(\"bitfinex::EOS_GBR\") #doesn't exist\n",
    "universe_cdd.remove(\"bitfinex::ETH_GBR\") #doesn't exist\n",
    "universe_cdd.remove(\"bitfinex::NEO_GBR\") #doesn't exist\n",
    "universe_cdd.remove(\"bitfinex::QTUM_USD\") # NaT in stamps\n",
    "universe_cdd.remove(\"bitfinex::TRX_GBR\") #doesn't exist\n",
    "universe_cdd.remove(\"bitfinex::XLM_GBR\") #doesn't exist\n",
    "\n",
    "# ftx has some critical mistakes in the downloading process, so cannot continue analysis with them.\n",
    "cdd_ftx_universe = [element for element in universe_cdd if element.startswith(\"ftx\")]\n",
    "for elem in cdd_ftx_universe:\n",
    "    universe_cdd.remove(elem) "
   ]
  },
  {
   "cell_type": "code",
   "execution_count": null,
   "id": "dc5c5ab6",
   "metadata": {},
   "outputs": [],
   "source": [
    "def calculate_statistics_for_stamps_cdd(coin_list):\n",
    "    result=[]\n",
    "    cdd_loader = icdalolo.CddLoader(root_dir=root_dir, aws_profile=\"am\")\n",
    "    for i in list(range(len(coin_list))):\n",
    "        coin=cdd_loader.read_data_from_filesystem(exchange_id=ivcdclcl.parse_full_symbol(list(coin_list)[i])[0], \n",
    "                                                  currency_pair=ivcdclcl.parse_full_symbol(list(coin_list)[i])[1], \n",
    "                                                  data_type=\"ohlcv\") \n",
    "        coin.reset_index(inplace=True)\n",
    "        coin = coin.rename(columns={\"index\":\"stamp\"})\n",
    "        stamp_stats=pd.DataFrame()\n",
    "        stamp_steps = pd.Series(coin[\"stamp\"].diff().value_counts().index)\n",
    "        max_date=pd.Series(coin[\"stamp\"].describe(datetime_is_numeric=True).loc[\"max\"])\n",
    "        min_date=pd.Series(coin[\"stamp\"].describe(datetime_is_numeric=True).loc[\"min\"])\n",
    "        data_points = pd.Series(coin[\"stamp\"].describe(datetime_is_numeric=True).loc[\"count\"])\n",
    "        stamp_stats[\"exchange_id\"]=[ivcdclcl.parse_full_symbol(list(coin_list)[i])[0]]\n",
    "        stamp_stats[\"data_points_counts\"]=data_points\n",
    "        stamp_stats[\"NaNs_in_Close\"]=len(coin[coin[\"close\"].isna()])\n",
    "        stamp_stats[\"step_in_stamp\"] = stamp_steps\n",
    "        stamp_stats[\"start_date\"]=min_date\n",
    "        stamp_stats[\"end_date\"]=max_date\n",
    "        stamp_stats.index = [ivcdclcl.parse_full_symbol(list(coin_list)[i])[1]]\n",
    "        result.append(stamp_stats)\n",
    "    result = pd.concat(result)\n",
    "    return result"
   ]
  },
  {
   "cell_type": "code",
   "execution_count": null,
   "id": "d1a4c113",
   "metadata": {},
   "outputs": [],
   "source": [
    "stats_for_stamps = calculate_statistics_for_stamps_cdd(universe_cdd)"
   ]
  },
  {
   "cell_type": "markdown",
   "id": "ede17ed1",
   "metadata": {},
   "source": [
    "Currently there are  descriptive statistics:\n",
    "- __index__ - currency pair\n",
    "- __exchange_id__ - exchange_id\n",
    "- __data_points_counts__ - number of timestamps for each coin\n",
    "- __NaNs_in_Close__ - number of NaNs in \"close\"\n",
    "- __step_in_stamp__ - value counts of steps between timestamps\n",
    "- __start_date__\n",
    "- __end_date__\n",
    "\n",
    "What else can be added here?"
   ]
  },
  {
   "cell_type": "code",
   "execution_count": null,
   "id": "3bb73512",
   "metadata": {},
   "outputs": [],
   "source": [
    "stats_for_stamps"
   ]
  },
  {
   "cell_type": "markdown",
   "id": "efe071f9",
   "metadata": {},
   "source": [
    "Each coin in CDD has a stamp step of 1 minute."
   ]
  },
  {
   "cell_type": "markdown",
   "id": "f286f75b",
   "metadata": {},
   "source": [
    "One can see that there are problems with __kucoin__ exchange: the timestamps are obviously wrong and wit too short time period."
   ]
  },
  {
   "cell_type": "code",
   "execution_count": null,
   "id": "89266275",
   "metadata": {},
   "outputs": [],
   "source": [
    "typical_start_date = pd.DataFrame(stats_for_stamps[stats_for_stamps[\"exchange_id\"]==\"kucoin\"][\"start_date\"].value_counts()).reset_index()[\"index\"].dt.strftime('%d-%m-%Y').unique()\n",
    "typical_end_date = pd.DataFrame(stats_for_stamps[stats_for_stamps[\"exchange_id\"]==\"kucoin\"][\"end_date\"].value_counts()).reset_index()[\"index\"].dt.strftime('%d-%m-%Y').unique()\n",
    "print(\"Typical Start Date for Kucoin:\", typical_start_date)\n",
    "print(\"Typical End Date for Kucoin:\", typical_end_date)"
   ]
  }
 ],
 "metadata": {
  "jupytext": {
   "text_representation": {
    "extension": ".py",
    "format_name": "percent",
    "format_version": "1.3",
    "jupytext_version": "1.13.2"
   }
  },
  "kernelspec": {
   "display_name": "Python 3 (ipykernel)",
   "language": "python",
   "name": "python3"
  },
  "language_info": {
   "codemirror_mode": {
    "name": "ipython",
    "version": 3
   },
   "file_extension": ".py",
   "mimetype": "text/x-python",
   "name": "python",
   "nbconvert_exporter": "python",
   "pygments_lexer": "ipython3"
  },
  "toc": {
   "base_numbering": 1,
   "nav_menu": {},
   "number_sections": true,
   "sideBar": true,
   "skip_h1_title": false,
   "title_cell": "Table of Contents",
   "title_sidebar": "Contents",
   "toc_cell": false,
   "toc_position": {},
   "toc_section_display": true,
   "toc_window_display": false
  }
 },
 "nbformat": 4,
 "nbformat_minor": 5
}
