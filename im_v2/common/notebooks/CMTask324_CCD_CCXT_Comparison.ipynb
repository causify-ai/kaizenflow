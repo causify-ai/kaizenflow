{
 "cells": [
  {
   "cell_type": "markdown",
   "id": "3077b539",
   "metadata": {},
   "source": [
    "# Imports"
   ]
  },
  {
   "cell_type": "code",
   "execution_count": null,
   "id": "df02857b",
   "metadata": {},
   "outputs": [],
   "source": [
    "import pandas as pd\n",
    "\n",
    "import im_v2.ccxt.data.client.clients as imvcdclcl\n",
    "import im_v2.common.data.client.clients as ivcdclcl\n",
    "import im_v2.ccxt.universe.universe as imvccunun\n",
    "import im_v2.common.data.client.clients as ivcdclcl\n",
    "import im.cryptodatadownload.data.load.loader as icdalolo\n",
    "\n",
    "import logging \n",
    "\n",
    "import helpers.dbg as hdbg\n",
    "import helpers.env as henv\n",
    "import helpers.printing as hprint"
   ]
  },
  {
   "cell_type": "code",
   "execution_count": null,
   "id": "83eb96fb",
   "metadata": {},
   "outputs": [],
   "source": [
    "hdbg.init_logger(verbosity=logging.INFO)\n",
    "\n",
    "_LOG = logging.getLogger(__name__)\n",
    "\n",
    "_LOG.info(\"%s\", henv.get_system_signature()[0])\n",
    "\n",
    "hprint.config_notebook()"
   ]
  },
  {
   "cell_type": "markdown",
   "id": "fdf6897e",
   "metadata": {},
   "source": [
    "# Load the data"
   ]
  },
  {
   "cell_type": "markdown",
   "id": "efa57000",
   "metadata": {},
   "source": [
    "The code below can be used to load all the existing data from two vendors CDD and CCXT. Current version is specified to Binance only, however, even for one exchange there's too many data to operate, that's why I am skipping this part and allow downloads only for the universes."
   ]
  },
  {
   "cell_type": "markdown",
   "id": "c6a85718",
   "metadata": {},
   "source": [
    "## CCXT"
   ]
  },
  {
   "cell_type": "code",
   "execution_count": null,
   "id": "d15816d5",
   "metadata": {},
   "outputs": [],
   "source": [
    "ccxt_client = imvcdclcl.CcxtFileSystemClient(data_type=\"ohlcv\", root_dir=\"s3://alphamatic-data/data\", aws_profile=\"am\")\n",
    "ccxt_universe = imvccunun.get_vendor_universe()\n",
    "ccxt_binance_universe = [element for element in ccxt_universe if element.startswith(\"binance\")]\n",
    "#multiple_symbols_client = ivcdclcl.MultipleSymbolsClient(class_ = ccxt_client, mode=\"concat\")\n",
    "#ccxt_data = multiple_symbols_client.read_data(ccxt_binance_universe) "
   ]
  },
  {
   "cell_type": "code",
   "execution_count": null,
   "id": "f340a059",
   "metadata": {},
   "outputs": [],
   "source": [
    "# need to sort by stamp\n",
    "#ccxt_data = ccxt_data.sort_index()"
   ]
  },
  {
   "cell_type": "code",
   "execution_count": null,
   "id": "b5adf199",
   "metadata": {},
   "outputs": [],
   "source": [
    "#display(ccxt_data.head(3))\n",
    "#display(ccxt_data.shape)"
   ]
  },
  {
   "cell_type": "markdown",
   "id": "d470517e",
   "metadata": {},
   "source": [
    "## CDD"
   ]
  },
  {
   "cell_type": "code",
   "execution_count": null,
   "id": "d3820ab6",
   "metadata": {},
   "outputs": [],
   "source": [
    "universe_cdd = imvccunun.get_vendor_universe(version=\"v01\", vendor=\"CDD\")\n",
    "cdd_binance_universe_initial = [element for element in universe_cdd if element.startswith(\"binance\")]"
   ]
  },
  {
   "cell_type": "code",
   "execution_count": null,
   "id": "aa2bb76a",
   "metadata": {},
   "outputs": [],
   "source": [
    "cdd_binance_universe = cdd_binance_universe_initial.copy()\n",
    "\n",
    "# SCU_USDT has incorrect columns, so can not be downloaded\n",
    "cdd_binance_universe.remove(\"binance::SCU_USDT\")"
   ]
  },
  {
   "cell_type": "code",
   "execution_count": null,
   "id": "11f1e52f",
   "metadata": {},
   "outputs": [],
   "source": [
    "#cdd_data=[]\n",
    "#cdd_loader = icdalolo.CddLoader(root_dir=\"s3://alphamatic-data/data\", aws_profile=\"am\")\n",
    "\n",
    "#for i in list(range(len(cdd_binance_universe))):\n",
    "#    cdd_data.append(cdd_loader.read_data_from_filesystem(exchange_id=\"binance\", \n",
    "#                                                            currency_pair=ivcdclcl.parse_full_symbol(cdd_binance_universe[i])[1], \n",
    "#                                                            data_type=\"ohlcv\"))\n",
    "#cdd_data = pd.concat(cdd_data)"
   ]
  },
  {
   "cell_type": "code",
   "execution_count": null,
   "id": "5c8d29c9",
   "metadata": {},
   "outputs": [],
   "source": [
    "#display(cdd_data.head(3))\n",
    "#display(cdd_data.shape)"
   ]
  },
  {
   "cell_type": "markdown",
   "id": "0aaa3884",
   "metadata": {},
   "source": [
    "# Compare universes"
   ]
  },
  {
   "cell_type": "code",
   "execution_count": null,
   "id": "b9637a6f",
   "metadata": {},
   "outputs": [],
   "source": [
    "print(\"Number of currency pairs for Binance in CCXT:\", len(ccxt_universe))\n",
    "print(\"aNumber of currency pairs for Binance in CDD:\", len(universe_cdd))"
   ]
  },
  {
   "cell_type": "code",
   "execution_count": null,
   "id": "513813d3",
   "metadata": {},
   "outputs": [],
   "source": [
    "# Intersection of currency pairs between two vendors\n",
    "currency_pair_intersection = set(ccxt_universe).intersection(universe_cdd)\n",
    "print(\"Number of similar currency pairs:\", len(currency_pair_intersection))\n",
    "display(currency_pair_intersection)"
   ]
  },
  {
   "cell_type": "code",
   "execution_count": null,
   "id": "35d0380b",
   "metadata": {},
   "outputs": [],
   "source": [
    "# Currency pairs that are included in CCXT but not in CDD\n",
    "ccxt_and_not_cdd = set(ccxt_universe).difference(universe_cdd)\n",
    "print(\"Number of unique CCXT currency pairs:\", len(ccxt_and_not_cdd))\n",
    "display(ccxt_and_not_cdd)"
   ]
  },
  {
   "cell_type": "code",
   "execution_count": null,
   "id": "2603cfa4",
   "metadata": {},
   "outputs": [],
   "source": [
    "# Currency pairs that are included in CDD but not in CCXT\n",
    "cdd_and_not_ccxt = set(universe_cdd).difference(ccxt_universe)\n",
    "print(\"Number of unique CDD currency pairs:\", len(cdd_and_not_ccxt))\n",
    "display(cdd_and_not_ccxt)"
   ]
  },
  {
   "cell_type": "markdown",
   "id": "2141b366",
   "metadata": {},
   "source": [
    "# Compare returns"
   ]
  },
  {
   "cell_type": "markdown",
   "id": "f6819083",
   "metadata": {},
   "source": [
    "## Load the data"
   ]
  },
  {
   "cell_type": "markdown",
   "id": "b246edf6",
   "metadata": {},
   "source": [
    "We can compare only the intersection of currency pairs for two vendors. In this case it's specified for Binance exchange only."
   ]
  },
  {
   "cell_type": "code",
   "execution_count": null,
   "id": "6eb0644f",
   "metadata": {},
   "outputs": [],
   "source": [
    "currency_pair_intersection_binance = set(ccxt_binance_universe).intersection(cdd_binance_universe_initial)"
   ]
  },
  {
   "cell_type": "code",
   "execution_count": null,
   "id": "8856a981",
   "metadata": {},
   "outputs": [],
   "source": [
    "cdd_data=[]\n",
    "cdd_loader = icdalolo.CddLoader(root_dir=\"s3://alphamatic-data/data\", aws_profile=\"am\")\n",
    "\n",
    "for i in list(range(len(currency_pair_intersection_binance))):\n",
    "    cdd_data.append(cdd_loader.read_data_from_filesystem(exchange_id=\"binance\", \n",
    "                                                            currency_pair=ivcdclcl.parse_full_symbol(list(currency_pair_intersection_binance)[i])[1], \n",
    "                                                            data_type=\"ohlcv\"))\n",
    "cdd_data = pd.concat(cdd_data)"
   ]
  },
  {
   "cell_type": "code",
   "execution_count": null,
   "id": "06eb24b5",
   "metadata": {},
   "outputs": [],
   "source": [
    "display(cdd_data.head(3))\n",
    "display(cdd_data.shape)"
   ]
  },
  {
   "cell_type": "code",
   "execution_count": null,
   "id": "838e5078",
   "metadata": {},
   "outputs": [],
   "source": [
    "ccxt_client = imvcdclcl.CcxtFileSystemClient(data_type=\"ohlcv\", root_dir=\"s3://alphamatic-data/data\", aws_profile=\"am\")\n",
    "multiple_symbols_client = ivcdclcl.MultipleSymbolsClient(class_ = ccxt_client, mode=\"concat\")\n",
    "ccxt_data = multiple_symbols_client.read_data(currency_pair_intersection_binance) "
   ]
  },
  {
   "cell_type": "code",
   "execution_count": null,
   "id": "aca3eb3e",
   "metadata": {},
   "outputs": [],
   "source": [
    "ccxt_data = ccxt_data.sort_index()"
   ]
  },
  {
   "cell_type": "code",
   "execution_count": null,
   "id": "53c90487",
   "metadata": {},
   "outputs": [],
   "source": [
    "display(ccxt_data.head(3))\n",
    "display(ccxt_data.shape)"
   ]
  },
  {
   "cell_type": "markdown",
   "id": "0e5c01de",
   "metadata": {},
   "source": [
    "## Calculate returns and correlation"
   ]
  },
  {
   "cell_type": "code",
   "execution_count": null,
   "id": "e8f6c998",
   "metadata": {},
   "outputs": [],
   "source": [
    "# CDD names cleaning\n",
    "cdd_data[\"currency_pair\"].replace({\"BNB/USDT\": \"BNB_USDT\", \n",
    "                                   \"ETH/USDT\": \"ETH_USDT\",\n",
    "                                   \"EOS/USDT\": \"EOS_USDT\",\n",
    "                                   \"BTC/USDT\": \"BTC_USDT\",\n",
    "                                   \"SOL/USDT\": \"SOL_USDT\",\n",
    "                                   \"ADA/USDT\": \"ADA_USDT\",\n",
    "                                   \"LINK/USDT\": \"LINK_USDT\"}, inplace=True)"
   ]
  },
  {
   "cell_type": "code",
   "execution_count": null,
   "id": "15f79ba4",
   "metadata": {},
   "outputs": [],
   "source": [
    "def calculate_correlations_of_returns(df_ccxt, df_cdd, resampling_freq):\n",
    "    # CDD part\n",
    "    df_cdd.reset_index(inplace=True)\n",
    "    df_cdd = df_cdd.rename(columns={\"index\":\"stamp\"})\n",
    "    resampler = df_cdd.groupby([\"currency_pair\", pd.Grouper(key=\"stamp\",freq=resampling_freq)])\n",
    "    close = resampler.close.last()\n",
    "    grouper = close.groupby(\"currency_pair\")\n",
    "    rets_cdd = grouper.pct_change()\n",
    "    # CCXT part\n",
    "    df_ccxt.reset_index(inplace=True)\n",
    "    df_ccxt = df_ccxt.rename(columns={\"index\":\"stamp\"})\n",
    "    resampler = df_ccxt.groupby([\"currency_pair\", pd.Grouper(key=\"stamp\",freq=resampling_freq)])\n",
    "    close = resampler.close.last()\n",
    "    grouper = close.groupby(\"currency_pair\")\n",
    "    rets_ccxt = grouper.pct_change()\n",
    "    # Combine and calculate correlations\n",
    "    rets_combined = pd.concat([rets_ccxt, rets_cdd],axis=1)\n",
    "    rets_combined.columns=[\"ccxt_returns\",\"cdd_returns\"]\n",
    "    corr_matrix = rets_combined.groupby(level=0).corr()\n",
    "    return corr_matrix"
   ]
  },
  {
   "cell_type": "code",
   "execution_count": null,
   "id": "5d144442",
   "metadata": {},
   "outputs": [],
   "source": [
    "returns_corr_5min = calculate_correlations_of_returns(ccxt_data, cdd_data,\"5min\")\n",
    "returns_corr_5min"
   ]
  },
  {
   "cell_type": "code",
   "execution_count": null,
   "id": "6292ea32",
   "metadata": {},
   "outputs": [],
   "source": [
    "returns_corr_1day = calculate_correlations_of_returns(ccxt_data, cdd_data,\"1D\")\n",
    "returns_corr_1day"
   ]
  },
  {
   "cell_type": "markdown",
   "id": "353770a0",
   "metadata": {},
   "source": [
    "# Comparison of Close prices"
   ]
  },
  {
   "cell_type": "code",
   "execution_count": null,
   "id": "ba171242",
   "metadata": {},
   "outputs": [],
   "source": [
    "def calculate_correlations_of_close_prices(df_ccxt, df_cdd, resampling_freq):\n",
    "    # CDD part\n",
    "    cdd_data = df_cdd.rename(columns={\"index\":\"stamp\"})\n",
    "    resampler = cdd_data.groupby([\"currency_pair\", pd.Grouper(key=\"stamp\",freq=resampling_freq)])\n",
    "    close_cdd = resampler.close.last()\n",
    "    # CCXT part\n",
    "    ccxt_data = df_ccxt.rename(columns={\"index\":\"stamp\"})\n",
    "    resampler = ccxt_data.groupby([\"currency_pair\", pd.Grouper(key=\"stamp\",freq=resampling_freq)])\n",
    "    close_ccxt = resampler.close.last()\n",
    "    # Correlation matrix calculations\n",
    "    close_df = pd.concat([close_cdd,close_ccxt],axis=1)\n",
    "    close_df.columns = [\"cdd_close\",\"ccxt_close\"]\n",
    "    corr_matrix = close_df.groupby(level=0).corr()\n",
    "    display(corr_matrix)\n",
    "    # DataFrame with description statistics\n",
    "    descr_cdd = close_df.groupby(level=0)[\"cdd_close\"].describe()\n",
    "    descr_cdd=descr_cdd.add_suffix('_cdd')\n",
    "    descr_ccxt = close_df.groupby(level=0)[\"ccxt_close\"].describe()\n",
    "    descr_ccxt=descr_ccxt.add_suffix('_ccxt')\n",
    "    descr_df = pd.concat([descr_cdd, descr_ccxt],axis=1)\n",
    "    descr_df.sort_index(ascending=False, axis=1,inplace=True)\n",
    "    return descr_df"
   ]
  },
  {
   "cell_type": "code",
   "execution_count": null,
   "id": "13366291",
   "metadata": {},
   "outputs": [],
   "source": [
    "close_prices_stats = calculate_correlations_of_close_prices(ccxt_data, cdd_data,\"1D\")\n",
    "close_prices_stats"
   ]
  },
  {
   "cell_type": "markdown",
   "id": "38e63773",
   "metadata": {},
   "source": [
    "# Statistical properties of a unique coin"
   ]
  },
  {
   "cell_type": "code",
   "execution_count": null,
   "id": "c4af67ab",
   "metadata": {},
   "outputs": [],
   "source": [
    "# Clearing CDD currency pairs that are incorrect\n",
    "\n",
    "# Binance\n",
    "universe_cdd.remove(\"binance::SCU_USDT\")\n",
    "\n",
    "# Bitfinex\n",
    "universe_cdd.remove(\"bitfinex::BTC_GBR\") #doesn't exist\n",
    "universe_cdd.remove(\"bitfinex::DASH_BTC\") # NaT in stamps\n",
    "universe_cdd.remove(\"bitfinex::DASH_USD\") # NaT in stamps\n",
    "universe_cdd.remove(\"bitfinex::EOS_GBR\") #doesn't exist\n",
    "universe_cdd.remove(\"bitfinex::ETH_GBR\") #doesn't exist\n",
    "universe_cdd.remove(\"bitfinex::NEO_GBR\") #doesn't exist\n",
    "universe_cdd.remove(\"bitfinex::QTUM_USD\") # NaT in stamps\n",
    "universe_cdd.remove(\"bitfinex::TRX_GBR\") #doesn't exist\n",
    "universe_cdd.remove(\"bitfinex::XLM_GBR\") #doesn't exist\n",
    "\n",
    "# ftx has some critical mistakes in the downloading process, so cannot continue analysis with them\n",
    "cdd_ftx_universe = [element for element in universe_cdd if element.startswith(\"ftx\")]\n",
    "for elem in cdd_ftx_universe:\n",
    "    universe_cdd.remove(elem) "
   ]
  },
  {
   "cell_type": "code",
   "execution_count": null,
   "id": "8af85630",
   "metadata": {},
   "outputs": [],
   "source": [
    "def calculate_statistics_for_stamps_cdd(coin_list):\n",
    "    result=[]\n",
    "    cdd_loader = icdalolo.CddLoader(root_dir=\"s3://alphamatic-data/data\", aws_profile=\"am\")\n",
    "    for i in list(range(len(coin_list))):\n",
    "        coin=cdd_loader.read_data_from_filesystem(exchange_id=ivcdclcl.parse_full_symbol(list(coin_list)[i])[0], \n",
    "                                                  currency_pair=ivcdclcl.parse_full_symbol(list(coin_list)[i])[1], \n",
    "                                                  data_type=\"ohlcv\") \n",
    "        coin.reset_index(inplace=True)\n",
    "        coin = coin.rename(columns={\"index\":\"stamp\"})\n",
    "        stamp_stats=pd.DataFrame()\n",
    "        stamp_steps = pd.Series(coin[\"stamp\"].diff().value_counts().index)\n",
    "        max_date=pd.Series(coin[\"stamp\"].describe(datetime_is_numeric=True).loc[\"max\"])\n",
    "        min_date=pd.Series(coin[\"stamp\"].describe(datetime_is_numeric=True).loc[\"min\"])\n",
    "        data_points = pd.Series(coin[\"stamp\"].describe(datetime_is_numeric=True).loc[\"count\"])\n",
    "        stamp_stats[\"exchange_id\"]=[ivcdclcl.parse_full_symbol(list(coin_list)[i])[0]]\n",
    "        stamp_stats[\"data_points_counts\"]=data_points\n",
    "        stamp_stats[\"NaNs_in_Close\"]=len(coin[coin[\"close\"].isna()])\n",
    "        stamp_stats[\"step_in_stamp\"] = stamp_steps\n",
    "        stamp_stats[\"start_date\"]=min_date\n",
    "        stamp_stats[\"end_date\"]=max_date\n",
    "        stamp_stats.index = [ivcdclcl.parse_full_symbol(list(coin_list)[i])[1]]\n",
    "        result.append(stamp_stats)\n",
    "    result = pd.concat(result)\n",
    "    return result"
   ]
  },
  {
   "cell_type": "code",
   "execution_count": null,
   "id": "63170176",
   "metadata": {},
   "outputs": [],
   "source": [
    "stats_for_stamps = calculate_statistics_for_stamps_cdd(universe_cdd)"
   ]
  },
  {
   "cell_type": "markdown",
   "id": "a0d65781",
   "metadata": {},
   "source": [
    "Currently there are  descriptive statistics:\n",
    "- __index__ - currency pair\n",
    "- __exchange_id__ - exchange_id\n",
    "- __data_points_counts__ - number of timestamps for each coin\n",
    "- __NaNs_in_Close__ - number of NaNs in \"close\"\n",
    "- __step_in_stamp__ - value counts of steps between timestamps\n",
    "- __start_date__\n",
    "- __end_date__\n",
    "\n",
    "What else can be added here?"
   ]
  },
  {
   "cell_type": "code",
   "execution_count": null,
   "id": "8148526a",
   "metadata": {},
   "outputs": [],
   "source": [
    "stats_for_stamps"
   ]
  },
  {
   "cell_type": "markdown",
   "id": "add498a9",
   "metadata": {},
   "source": [
    "Each coin in CDD has a stamp step of 1 minute."
   ]
  },
  {
   "cell_type": "markdown",
   "id": "2ddb16e0",
   "metadata": {},
   "source": [
    "One can see that there are problems with __kucoin__ exchange: the timestamps are obviously wrong and wit too short time period."
   ]
  },
  {
   "cell_type": "code",
   "execution_count": null,
   "id": "e41f898b",
   "metadata": {},
   "outputs": [],
   "source": [
    "typical_start_date = pd.DataFrame(stats_for_stamps[stats_for_stamps[\"exchange_id\"]==\"kucoin\"][\"start_date\"].value_counts()).reset_index()[\"index\"].dt.strftime('%d-%m-%Y').unique()\n",
    "typical_end_date = pd.DataFrame(stats_for_stamps[stats_for_stamps[\"exchange_id\"]==\"kucoin\"][\"end_date\"].value_counts()).reset_index()[\"index\"].dt.strftime('%d-%m-%Y').unique()\n",
    "print(\"Typical Start Date for Kucoin:\", typical_start_date)\n",
    "print(\"Typical End Date for Kucoin:\", typical_end_date)"
   ]
  }
 ],
 "metadata": {
  "jupytext": {
   "text_representation": {
    "extension": ".py",
    "format_name": "percent",
    "format_version": "1.3",
    "jupytext_version": "1.13.2"
   }
  },
  "kernelspec": {
   "display_name": "Python 3 (ipykernel)",
   "language": "python",
   "name": "python3"
  },
  "language_info": {
   "codemirror_mode": {
    "name": "ipython",
    "version": 3
   },
   "file_extension": ".py",
   "mimetype": "text/x-python",
   "name": "python",
   "nbconvert_exporter": "python",
   "pygments_lexer": "ipython3"
  },
  "toc": {
   "base_numbering": 1,
   "nav_menu": {},
   "number_sections": true,
   "sideBar": true,
   "skip_h1_title": false,
   "title_cell": "Table of Contents",
   "title_sidebar": "Contents",
   "toc_cell": false,
   "toc_position": {},
   "toc_section_display": true,
   "toc_window_display": false
  }
 },
 "nbformat": 4,
 "nbformat_minor": 5
}
