{
 "cells": [
  {
   "cell_type": "markdown",
   "id": "079f15b6",
   "metadata": {},
   "source": [
    "# Imports"
   ]
  },
  {
   "cell_type": "code",
   "execution_count": null,
   "id": "df02857b",
   "metadata": {},
   "outputs": [],
   "source": [
    "import pandas as pd\n",
    "\n",
    "import im_v2.ccxt.data.client.clients as imvcdclcl\n",
    "import im_v2.common.data.client.clients as ivcdclcl\n",
    "import im_v2.ccxt.universe.universe as imvccunun\n",
    "import im_v2.common.data.client.clients as ivcdclcl\n",
    "import im.cryptodatadownload.data.load.loader as icdalolo\n",
    "import helpers.s3 as hs3\n",
    "import os\n",
    "\n",
    "import logging \n",
    "\n",
    "import helpers.dbg as hdbg\n",
    "import helpers.env as henv\n",
    "import helpers.printing as hprint"
   ]
  },
  {
   "cell_type": "code",
   "execution_count": null,
   "id": "da254e42",
   "metadata": {},
   "outputs": [],
   "source": [
    "hdbg.init_logger(verbosity=logging.INFO)\n",
    "\n",
    "_LOG = logging.getLogger(__name__)\n",
    "\n",
    "_LOG.info(\"%s\", henv.get_system_signature()[0])\n",
    "\n",
    "hprint.config_notebook()"
   ]
  },
  {
   "cell_type": "markdown",
   "id": "478afbc2",
   "metadata": {},
   "source": [
    "# Load the data"
   ]
  },
  {
   "cell_type": "markdown",
   "id": "ee705920",
   "metadata": {},
   "source": [
    "The code below can be used to load all the existing data from two vendors CDD and CCXT. Current version is specified to Binance only, however, even for one exchange there's too many data to operate, that's why I am skipping this part and allow downloads only for the universes."
   ]
  },
  {
   "cell_type": "markdown",
   "id": "baf836c6",
   "metadata": {},
   "source": [
    "## CCXT"
   ]
  },
  {
   "cell_type": "code",
   "execution_count": null,
   "id": "d15816d5",
   "metadata": {},
   "outputs": [],
   "source": [
    "root_dir = os.path.join(hs3.get_path(), \"data\")\n",
    "ccxt_client = imvcdclcl.CcxtFileSystemClient(data_type=\"ohlcv\", root_dir=root_dir, aws_profile=\"am\")\n",
    "ccxt_universe = imvccunun.get_vendor_universe(version = \"v03\")\n",
    "ccxt_binance_universe = [element for element in ccxt_universe if element.startswith(\"binance\")]\n",
    "#multiple_symbols_client = ivcdclcl.MultipleSymbolsClient(class_ = ccxt_client, mode=\"concat\")\n",
    "#ccxt_data = multiple_symbols_client.read_data(ccxt_binance_universe) "
   ]
  },
  {
   "cell_type": "code",
   "execution_count": null,
   "id": "9b3be968",
   "metadata": {},
   "outputs": [],
   "source": [
    "# need to sort by stamp\n",
    "#ccxt_data = ccxt_data.sort_index()"
   ]
  },
  {
   "cell_type": "code",
   "execution_count": null,
   "id": "95fc3b89",
   "metadata": {},
   "outputs": [],
   "source": [
    "#display(ccxt_data.head(3))\n",
    "#display(ccxt_data.shape)"
   ]
  },
  {
   "cell_type": "markdown",
   "id": "b97b0da5",
   "metadata": {},
   "source": [
    "## CDD"
   ]
  },
  {
   "cell_type": "code",
   "execution_count": null,
   "id": "af1a1507",
   "metadata": {},
   "outputs": [],
   "source": [
    "universe_cdd = imvccunun.get_vendor_universe(version=\"v01\", vendor=\"CDD\")\n",
    "cdd_binance_universe_initial = [element for element in universe_cdd if element.startswith(\"binance\")]"
   ]
  },
  {
   "cell_type": "code",
   "execution_count": null,
   "id": "aa6f3caa",
   "metadata": {},
   "outputs": [],
   "source": [
    "cdd_binance_universe = cdd_binance_universe_initial.copy()\n",
    "\n",
    "# SCU_USDT has incorrect columns, so can not be downloaded.\n",
    "# See CMTask244 - Cannot load CDD - binance - SCU/USDT from s3 for the reference.\n",
    "cdd_binance_universe.remove(\"binance::SCU_USDT\")"
   ]
  },
  {
   "cell_type": "code",
   "execution_count": null,
   "id": "f7637c51",
   "metadata": {},
   "outputs": [],
   "source": [
    "#cdd_data=[]\n",
    "#cdd_loader = icdalolo.CddLoader(root_dir=\"s3://alphamatic-data/data\", aws_profile=\"am\")\n",
    "\n",
    "#for i in list(range(len(cdd_binance_universe))):\n",
    "#    cdd_data.append(cdd_loader.read_data_from_filesystem(exchange_id=\"binance\", \n",
    "#                                                            currency_pair=ivcdclcl.parse_full_symbol(cdd_binance_universe[i])[1], \n",
    "#                                                            data_type=\"ohlcv\"))\n",
    "#cdd_data = pd.concat(cdd_data)"
   ]
  },
  {
   "cell_type": "code",
   "execution_count": null,
   "id": "cb6d9403",
   "metadata": {},
   "outputs": [],
   "source": [
    "#display(cdd_data.head(3))\n",
    "#display(cdd_data.shape)"
   ]
  },
  {
   "cell_type": "markdown",
   "id": "aea22a85",
   "metadata": {},
   "source": [
    "# Compare universes"
   ]
  },
  {
   "cell_type": "code",
   "execution_count": null,
   "id": "07125a00",
   "metadata": {},
   "outputs": [],
   "source": [
    "_LOG.info(\"Number of currency pairs in CCXT: %s\", len(ccxt_universe))\n",
    "_LOG.info(\"Number of currency pairs in CDD: %s\", len(universe_cdd))"
   ]
  },
  {
   "cell_type": "code",
   "execution_count": null,
   "id": "357a4376",
   "metadata": {},
   "outputs": [],
   "source": [
    "# Intersection of currency pairs between two vendors.\n",
    "currency_pair_intersection = set(ccxt_universe).intersection(universe_cdd)\n",
    "_LOG.info(\"Number of similar currency pairs: %s\", len(currency_pair_intersection))\n",
    "display(currency_pair_intersection)"
   ]
  },
  {
   "cell_type": "code",
   "execution_count": null,
   "id": "4e572e7f",
   "metadata": {},
   "outputs": [],
   "source": [
    "# Currency pairs that are included in CCXT but not in CDD.\n",
    "ccxt_and_not_cdd = set(ccxt_universe).difference(universe_cdd)\n",
    "_LOG.info(\"Number of unique CCXT currency pairs: %s\", len(ccxt_and_not_cdd))\n",
    "display(ccxt_and_not_cdd)"
   ]
  },
  {
   "cell_type": "code",
   "execution_count": null,
   "id": "c6519663",
   "metadata": {},
   "outputs": [],
   "source": [
    "# Currency pairs that are included in CDD but not in CCXT.\n",
    "cdd_and_not_ccxt = set(universe_cdd).difference(ccxt_universe)\n",
    "_LOG.info(\"Number of unique CDD currency pairs: %s\", len(cdd_and_not_ccxt))\n",
    "display(cdd_and_not_ccxt)"
   ]
  },
  {
   "cell_type": "markdown",
   "id": "706dd9f8",
   "metadata": {},
   "source": [
    "# Compare close prices from Binance"
   ]
  },
  {
   "cell_type": "markdown",
   "id": "0ecb54f0",
   "metadata": {},
   "source": [
    "## Load the data"
   ]
  },
  {
   "cell_type": "markdown",
   "id": "b37ad33b",
   "metadata": {},
   "source": [
    "We can compare only the intersection of currency pairs for two vendors. In this case it's specified for Binance exchange only."
   ]
  },
  {
   "cell_type": "code",
   "execution_count": null,
   "id": "88ae2b6c",
   "metadata": {},
   "outputs": [],
   "source": [
    "currency_pair_intersection_binance = set(ccxt_binance_universe).intersection(cdd_binance_universe_initial)"
   ]
  },
  {
   "cell_type": "code",
   "execution_count": null,
   "id": "6ee937dd",
   "metadata": {},
   "outputs": [],
   "source": [
    "cdd_data=[]\n",
    "cdd_loader = icdalolo.CddLoader(root_dir=root_dir, aws_profile=\"am\")\n",
    "\n",
    "for full_symbol in currency_pair_intersection_binance:\n",
    "    _, currency_pair = ivcdclcl.parse_full_symbol(full_symbol)\n",
    "    cur_data = cdd_loader.read_data_from_filesystem(exchange_id=\"binance\", \n",
    "                                                    currency_pair = currency_pair,\n",
    "                                                    data_type=\"ohlcv\")\n",
    "    cdd_data.append(cur_data)\n",
    "cdd_binance_df = pd.concat(cdd_data)"
   ]
  },
  {
   "cell_type": "code",
   "execution_count": null,
   "id": "9fc6e2da",
   "metadata": {},
   "outputs": [],
   "source": [
    "display(cdd_binance_df.head(3))\n",
    "display(cdd_binance_df.shape)"
   ]
  },
  {
   "cell_type": "code",
   "execution_count": null,
   "id": "66f19e38",
   "metadata": {},
   "outputs": [],
   "source": [
    "ccxt_client = imvcdclcl.CcxtFileSystemClient(data_type=\"ohlcv\", root_dir=root_dir, aws_profile=\"am\")\n",
    "multiple_symbols_client = ivcdclcl.MultipleSymbolsClient(class_ = ccxt_client, mode=\"concat\")\n",
    "ccxt_binance_df = multiple_symbols_client.read_data(currency_pair_intersection_binance) "
   ]
  },
  {
   "cell_type": "code",
   "execution_count": null,
   "id": "b1fc1209",
   "metadata": {},
   "outputs": [],
   "source": [
    "ccxt_binance_df = ccxt_binance_df.sort_index()"
   ]
  },
  {
   "cell_type": "code",
   "execution_count": null,
   "id": "fdb28669",
   "metadata": {},
   "outputs": [],
   "source": [
    "display(ccxt_binance_df.head(3))\n",
    "display(ccxt_binance_df.shape)"
   ]
  },
  {
   "cell_type": "markdown",
   "id": "14f2b410",
   "metadata": {},
   "source": [
    "## Calculate returns and correlation"
   ]
  },
  {
   "cell_type": "code",
   "execution_count": null,
   "id": "7e724c49",
   "metadata": {},
   "outputs": [],
   "source": [
    "# CDD names cleaning.\n",
    "cdd_binance_df[\"currency_pair\"] = cdd_binance_df[\"currency_pair\"].str.replace(\"/\", \"_\")"
   ]
  },
  {
   "cell_type": "code",
   "execution_count": null,
   "id": "5eaa98df",
   "metadata": {},
   "outputs": [],
   "source": [
    "def calculate_correlations_for_currency_pairs(df_ccxt, df_cdd, resampling_freq, compute_returns=False):\n",
    "    \"\"\"\n",
    "    Take two dataframes (i.e. CDD and CCXT data), resample it to the given frequency and calculate\n",
    "    the correlations for each specific currency pair.\n",
    "    \n",
    "    :param df_ccxt: DataFrame with CCXT OHLCV data\n",
    "    :param df_cdd: DataFrame with CDD OHLCV data\n",
    "    :param resampling_freq: set the desired resampling frequency for calculations\n",
    "    :param compute_returns: if True - compute returns, if False - compare close prices\n",
    "    \"\"\"\n",
    "    # CDD part.\n",
    "    ## Reseting DateTime index, so it can be further used in the grouping process.\n",
    "    df_cdd.reset_index(inplace=True)\n",
    "    df_cdd = df_cdd.rename(columns={\"index\":\"stamp\"})\n",
    "    ## Group by currency pairs and simultaneously resample to the desired frequency.\n",
    "    resampler = df_cdd.groupby([\"currency_pair\", pd.Grouper(key=\"stamp\",freq=resampling_freq)])\n",
    "    ## Take the last 'close' price from the resampling frequency range.\n",
    "    close_cdd = resampler.close.last()\n",
    "    if compute_returns:\n",
    "        ## Group by currency pairs in order to calculate the percentage returns.\n",
    "        grouper = close_cdd.groupby(\"currency_pair\")\n",
    "        close_cdd = grouper.pct_change()\n",
    "    # CCXT part\n",
    "    ## Reseting DateTime index, so it can be further used in the grouping process.\n",
    "    df_ccxt.reset_index(inplace=True)\n",
    "    df_ccxt = df_ccxt.rename(columns={\"index\":\"stamp\"})\n",
    "    ## Group by currency pairs and simultaneously resample to the desired frequency.\n",
    "    resampler = df_ccxt.groupby([\"currency_pair\", pd.Grouper(key=\"stamp\",freq=resampling_freq)])\n",
    "    ## Take the last 'close' price from the resampling frequency range.\n",
    "    close_ccxt = resampler.close.last()\n",
    "    ## Group by currency pairs in order to calculate the percentage returns.\n",
    "    if compute_returns:\n",
    "        grouper = close_ccxt.groupby(\"currency_pair\")\n",
    "        close_ccxt = grouper.pct_change()\n",
    "    # Combine and calculate correlations.\n",
    "    combined = pd.concat([close_cdd,close_ccxt],axis=1)\n",
    "    # Rename the columns.\n",
    "    if compute_returns:\n",
    "        combined.columns=[\"ccxt_returns\",\"cdd_returns\"]\n",
    "    else:\n",
    "        combined.columns = [\"cdd_close\",\"ccxt_close\"]\n",
    "    # Group by again to calculte returns correlation for each currency pair.\n",
    "    corr_matrix = combined.groupby(level=0).corr()\n",
    "    display(corr_matrix)\n",
    "    # DataFrame with description statistics\n",
    "    ## Stats for CDD data.\n",
    "    descr_cdd = close_cdd.groupby(level=0).describe()\n",
    "    descr_cdd=descr_cdd.add_suffix('_cdd')\n",
    "    ## Stats for CCXT data.\n",
    "    descr_ccxt = close_ccxt.groupby(level=0).describe()\n",
    "    descr_ccxt=descr_ccxt.add_suffix('_ccxt')\n",
    "    ## Collect the results into one dataframe.\n",
    "    descr_df = pd.concat([descr_cdd, descr_ccxt],axis=1)\n",
    "    descr_df.sort_index(ascending=False, axis=1,inplace=True)\n",
    "    return descr_df"
   ]
  },
  {
   "cell_type": "markdown",
   "id": "cc6cdf6b",
   "metadata": {},
   "source": [
    "### 5-min periods"
   ]
  },
  {
   "cell_type": "code",
   "execution_count": null,
   "id": "fdc4f5c5",
   "metadata": {},
   "outputs": [],
   "source": [
    "returns_corr_5min = calculate_correlations_for_currency_pairs(ccxt_binance_df, cdd_binance_df,\"5min\",compute_returns=True)\n",
    "returns_corr_5min"
   ]
  },
  {
   "cell_type": "markdown",
   "id": "6580324b",
   "metadata": {},
   "source": [
    "### 1-day periods"
   ]
  },
  {
   "cell_type": "code",
   "execution_count": null,
   "id": "8d388f91",
   "metadata": {},
   "outputs": [],
   "source": [
    "returns_corr_1day = calculate_correlations_for_currency_pairs(ccxt_binance_df, \n",
    "                                                              cdd_binance_df,\n",
    "                                                              \"1D\",\n",
    "                                                              compute_returns=True)\n",
    "returns_corr_1day"
   ]
  },
  {
   "cell_type": "markdown",
   "id": "1a86a568",
   "metadata": {},
   "source": [
    "## Compare close prices"
   ]
  },
  {
   "cell_type": "code",
   "execution_count": null,
   "id": "5b464b25",
   "metadata": {},
   "outputs": [],
   "source": [
    "close_1day = calculate_correlations_for_currency_pairs(ccxt_binance_df, cdd_binance_df,\"1D\",compute_returns=False)\n",
    "close_1day"
   ]
  },
  {
   "cell_type": "markdown",
   "id": "51e634c5",
   "metadata": {},
   "source": [
    "# Statistical properties of a unique coin in CDD"
   ]
  },
  {
   "cell_type": "code",
   "execution_count": null,
   "id": "b82d1c88",
   "metadata": {},
   "outputs": [],
   "source": [
    "# Clearing CDD currency pairs that are incorrect.\n",
    "\n",
    "# Binance\n",
    "universe_cdd.remove(\"binance::SCU_USDT\")\n",
    "\n",
    "# Bitfinex\n",
    "universe_cdd.remove(\"bitfinex::BTC_GBR\") #doesn't exist\n",
    "universe_cdd.remove(\"bitfinex::DASH_BTC\") # NaT in stamps\n",
    "universe_cdd.remove(\"bitfinex::DASH_USD\") # NaT in stamps\n",
    "universe_cdd.remove(\"bitfinex::EOS_GBR\") #doesn't exist\n",
    "universe_cdd.remove(\"bitfinex::ETH_GBR\") #doesn't exist\n",
    "universe_cdd.remove(\"bitfinex::NEO_GBR\") #doesn't exist\n",
    "universe_cdd.remove(\"bitfinex::QTUM_USD\") # NaT in stamps\n",
    "universe_cdd.remove(\"bitfinex::TRX_GBR\") #doesn't exist\n",
    "universe_cdd.remove(\"bitfinex::XLM_GBR\") #doesn't exist\n",
    "\n",
    "# ftx has some critical mistakes in the downloading process, so cannot continue analysis with them.\n",
    "cdd_ftx_universe = [element for element in universe_cdd if element.startswith(\"ftx\")]\n",
    "for elem in cdd_ftx_universe:\n",
    "    universe_cdd.remove(elem) "
   ]
  },
  {
   "cell_type": "code",
   "execution_count": null,
   "id": "565674e9",
   "metadata": {},
   "outputs": [],
   "source": [
    "def calculate_statistics_for_stamps_cdd(coin_list):\n",
    "    \"\"\"\n",
    "    Load the OHLCV data for each currency pair in CDD universe and compute the corresponding descriptive statistics.\n",
    "    \n",
    "    :param coin_list: list of all currency pairs in CDD universe\n",
    "    \"\"\"\n",
    "    # Load data for each currency pair\n",
    "    result=[]\n",
    "    cdd_loader = icdalolo.CddLoader(root_dir=root_dir, aws_profile=\"am\")\n",
    "    for i in list(range(len(coin_list))):\n",
    "        coin=cdd_loader.read_data_from_filesystem(exchange_id=ivcdclcl.parse_full_symbol(list(coin_list)[i])[0], \n",
    "                                                  currency_pair=ivcdclcl.parse_full_symbol(list(coin_list)[i])[1], \n",
    "                                                  data_type=\"ohlcv\") \n",
    "        # Reseting DateTime index, so it can be further used in the calculations.\n",
    "        coin.reset_index(inplace=True)\n",
    "        coin = coin.rename(columns={\"index\":\"stamp\"})\n",
    "        # The value of the step between two data points\n",
    "        stamp_steps = pd.Series(coin[\"stamp\"].diff().value_counts().index)\n",
    "        # Start-end date\n",
    "        max_date=pd.Series(coin[\"stamp\"].describe(datetime_is_numeric=True).loc[\"max\"])\n",
    "        min_date=pd.Series(coin[\"stamp\"].describe(datetime_is_numeric=True).loc[\"min\"])\n",
    "        # Number of timestamps for each coin\n",
    "        data_points = pd.Series(coin[\"stamp\"].describe(datetime_is_numeric=True).loc[\"count\"])\n",
    "        # Attach calculations to the DataFrame\n",
    "        stamp_stats=pd.DataFrame()\n",
    "        stamp_stats[\"exchange_id\"]=[ivcdclcl.parse_full_symbol(list(coin_list)[i])[0]]\n",
    "        stamp_stats[\"data_points_counts\"]=data_points\n",
    "        stamp_stats[\"NaNs_in_Close\"]=len(coin[coin[\"close\"].isna()])\n",
    "        stamp_stats[\"step_in_stamp\"] = stamp_steps\n",
    "        stamp_stats[\"start_date\"]=min_date\n",
    "        stamp_stats[\"end_date\"]=max_date\n",
    "        stamp_stats.index = [ivcdclcl.parse_full_symbol(list(coin_list)[i])[1]]\n",
    "        result.append(stamp_stats)\n",
    "    result = pd.concat(result)\n",
    "    return result"
   ]
  },
  {
   "cell_type": "code",
   "execution_count": null,
   "id": "e2caff93",
   "metadata": {},
   "outputs": [],
   "source": [
    "stats_for_stamps = calculate_statistics_for_stamps_cdd(universe_cdd)"
   ]
  },
  {
   "cell_type": "markdown",
   "id": "6cc3cf5f",
   "metadata": {},
   "source": [
    "Currently there are the following descriptive statistics:\n",
    "- __index__ - currency pair\n",
    "- __exchange_id__ - exchange_id\n",
    "- __data_points_counts__ - number of timestamps for each coin\n",
    "- __NaNs_in_Close__ - number of NaNs in \"close\"\n",
    "- __step_in_stamp__ - value counts of steps between timestamps\n",
    "- __start_date__\n",
    "- __end_date__\n",
    "\n",
    "What else can be added here?"
   ]
  },
  {
   "cell_type": "code",
   "execution_count": null,
   "id": "8da1e68b",
   "metadata": {},
   "outputs": [],
   "source": [
    "stats_for_stamps"
   ]
  },
  {
   "cell_type": "markdown",
   "id": "c7302525",
   "metadata": {},
   "source": [
    "Each coin in CDD has a stamp step of 1 minute."
   ]
  },
  {
   "cell_type": "markdown",
   "id": "682d85d0",
   "metadata": {},
   "source": [
    "One can see that there are problems with __kucoin__ exchange: the timestamps are obviously wrong and with too short time period."
   ]
  },
  {
   "cell_type": "code",
   "execution_count": null,
   "id": "178ffc1d",
   "metadata": {},
   "outputs": [],
   "source": [
    "typical_start_date = pd.DataFrame(stats_for_stamps[stats_for_stamps[\"exchange_id\"]==\"kucoin\"][\"start_date\"].value_counts()).reset_index()[\"index\"].dt.strftime('%d-%m-%Y').unique()\n",
    "typical_end_date = pd.DataFrame(stats_for_stamps[stats_for_stamps[\"exchange_id\"]==\"kucoin\"][\"end_date\"].value_counts()).reset_index()[\"index\"].dt.strftime('%d-%m-%Y').unique()\n",
    "print(\"Typical Start Date for Kucoin:\", typical_start_date)\n",
    "print(\"Typical End Date for Kucoin:\", typical_end_date)"
   ]
  }
 ],
 "metadata": {
  "jupytext": {
   "text_representation": {
    "extension": ".py",
    "format_name": "percent",
    "format_version": "1.3",
    "jupytext_version": "1.13.2"
   }
  },
  "kernelspec": {
   "display_name": "Python 3 (ipykernel)",
   "language": "python",
   "name": "python3"
  },
  "language_info": {
   "codemirror_mode": {
    "name": "ipython",
    "version": 3
   },
   "file_extension": ".py",
   "mimetype": "text/x-python",
   "name": "python",
   "nbconvert_exporter": "python",
   "pygments_lexer": "ipython3"
  },
  "toc": {
   "base_numbering": 1,
   "nav_menu": {},
   "number_sections": true,
   "sideBar": true,
   "skip_h1_title": false,
   "title_cell": "Table of Contents",
   "title_sidebar": "Contents",
   "toc_cell": false,
   "toc_position": {},
   "toc_section_display": true,
   "toc_window_display": false
  }
 },
 "nbformat": 4,
 "nbformat_minor": 5
}
