{
 "cells": [
  {
   "cell_type": "markdown",
   "id": "e3d423f0",
   "metadata": {},
   "source": [
    "# Imports"
   ]
  },
  {
   "cell_type": "code",
   "execution_count": null,
   "id": "d2796630",
   "metadata": {},
   "outputs": [],
   "source": [
    "import logging\n",
    "import os\n",
    "\n",
    "import pandas as pd\n",
    "\n",
    "import core.config.config_ as cconconf\n",
    "import core.statistics as cstats\n",
    "import helpers.hdbg as hdbg\n",
    "import helpers.henv as henv\n",
    "import helpers.hparquet as hparque\n",
    "import helpers.hprint as hprint\n",
    "import im_v2.ccxt.data.client as icdcl\n",
    "import research_amp.cc.statistics as ramccsta"
   ]
  },
  {
   "cell_type": "code",
   "execution_count": null,
   "id": "467b3d61",
   "metadata": {},
   "outputs": [],
   "source": [
    "hdbg.init_logger(verbosity=logging.INFO)\n",
    "\n",
    "_LOG = logging.getLogger(__name__)\n",
    "\n",
    "_LOG.info(\"%s\", henv.get_system_signature()[0])\n",
    "\n",
    "hprint.config_notebook()"
   ]
  },
  {
   "cell_type": "markdown",
   "id": "61c0c9ff",
   "metadata": {},
   "source": [
    "# Configs"
   ]
  },
  {
   "cell_type": "code",
   "execution_count": null,
   "id": "99b1f619",
   "metadata": {},
   "outputs": [],
   "source": [
    "def get_cmtask1680_config_ccxt() -> cconconf.Config:\n",
    "    \"\"\"\n",
    "    Get task1680-specific config.\n",
    "    \"\"\"\n",
    "    config = cconconf.Config()\n",
    "    # Load parameters.\n",
    "    config.add_subconfig(\"load\")\n",
    "    config[\"load\"][\"aws_profile\"] = \"ck\"\n",
    "    # TODO(Nina): @all replace `s3://cryptokaizen-data` with `get_s3_bucket()` after #1667 is implemented.\n",
    "    config[\"load\"][\"data_dir\"] = os.path.join(\n",
    "        \"s3://cryptokaizen-data\",\n",
    "        \"historical\",\n",
    "    )\n",
    "    # Data parameters.\n",
    "    config.add_subconfig(\"data\")\n",
    "    config[\"data\"][\"vendor\"] = \"CCXT\"\n",
    "    config[\"data\"][\"data_snapshot\"] = \"latest\"\n",
    "    # Column names.\n",
    "    config.add_subconfig(\"column_names\")\n",
    "    config[\"column_names\"][\"close_price\"] = \"close\"\n",
    "    config[\"column_names\"][\"currency_pair\"] = \"currency_pair\"\n",
    "    config[\"column_names\"][\"exchange_id\"] = \"exchange_id\"\n",
    "    return config"
   ]
  },
  {
   "cell_type": "code",
   "execution_count": null,
   "id": "1117532c",
   "metadata": {},
   "outputs": [],
   "source": [
    "config = get_cmtask1680_config_ccxt()\n",
    "print(config)"
   ]
  },
  {
   "cell_type": "markdown",
   "id": "52eb9372",
   "metadata": {},
   "source": [
    "# Functions"
   ]
  },
  {
   "cell_type": "code",
   "execution_count": null,
   "id": "5b800749",
   "metadata": {},
   "outputs": [],
   "source": [
    "# TODO(Nina): @all Use functions from `research_amp.cc.statistics` instead.\n",
    "def compute_stats_per_currency_pair(currency_pair_list: list) -> pd.DataFrame:\n",
    "    \"\"\"\n",
    "    For each currency pair in the list compute stats.\n",
    "\n",
    "    Statistics include:\n",
    "       - minimum timestamp\n",
    "       - maximum timestamp\n",
    "       - the number of data points\n",
    "       - days of data available\n",
    "       - coverage, i.e. the number of not NaN data points divided\n",
    "         by the number of all data points as percentage\n",
    "       - average data points per day\n",
    "\n",
    "    :param currency_pair_list: list of currency pairs to compute stats for.\n",
    "    \"\"\"\n",
    "    res = {}\n",
    "    # Iterate over currency pairs.\n",
    "    for currency_pair in currency_pair_list:\n",
    "        data_currency_pair = data.loc[data[\"currency_pair\"] == currency_pair]\n",
    "        # Compute the number of days available.\n",
    "        days_availiable = (\n",
    "            data_currency_pair.last_valid_index()\n",
    "            - data_currency_pair.first_valid_index()\n",
    "        ).days\n",
    "        # Compute the number of data points.\n",
    "        n_data_points = data_currency_pair.close.count()\n",
    "        # Compute data coverage.\n",
    "        coverage = 100 * (1 - cstats.compute_frac_nan(data_currency_pair.close))\n",
    "        # Combine the stats in a single dict.\n",
    "        res.update(\n",
    "            {\n",
    "                currency_pair: [\n",
    "                    data_currency_pair.index.min(),\n",
    "                    data_currency_pair.index.max(),\n",
    "                    n_data_points,\n",
    "                    coverage,\n",
    "                    days_availiable,\n",
    "                    n_data_points / days_availiable,\n",
    "                ]\n",
    "            }\n",
    "        )\n",
    "        # Covert into a DataFrame.\n",
    "        df_res = pd.DataFrame(\n",
    "            data=res.values(),\n",
    "            columns=[\n",
    "                \"min_ts\",\n",
    "                \"max_ts\",\n",
    "                \"n_data_points\",\n",
    "                \"coverage\",\n",
    "                \"days_available\",\n",
    "                \"avg_data_points_per_day\",\n",
    "            ],\n",
    "            index=res.keys(),\n",
    "        )\n",
    "    return df_res\n",
    "\n",
    "\n",
    "def get_file_path_for_exchange(config: cconconf.Config, exchange: str) -> str:\n",
    "    \"\"\"\n",
    "    Get file path for exchange-specific data.\n",
    "\n",
    "    E.g., `\"s3://cryptokaizen-data/historical/ccxt/latest/binance/\"`.\n",
    "    \"\"\"\n",
    "    data_dir = config[\"load\"][\"data_dir\"]\n",
    "    vendor = config[\"data\"][\"vendor\"].lower()\n",
    "    data_snapshot = config[\"data\"][\"data_snapshot\"]\n",
    "    file_path = os.path.join(data_dir, vendor, data_snapshot, exchange)\n",
    "    return file_path"
   ]
  },
  {
   "cell_type": "markdown",
   "id": "6241e528",
   "metadata": {},
   "source": [
    "# Load CCXT data from the historical bucket"
   ]
  },
  {
   "cell_type": "markdown",
   "id": "502da3ed",
   "metadata": {},
   "source": [
    "## binance stats"
   ]
  },
  {
   "cell_type": "code",
   "execution_count": null,
   "id": "e48f03ef",
   "metadata": {},
   "outputs": [],
   "source": [
    "# TODO(Nina): @all Usage of the client is very slow due to CMTask1726.\n",
    "#  Until this issue is fixed, you can speed up the client by replacing `apply`\n",
    "#  with the vectorasied counterpart: `df['exchange_id'] + \"::\" + df['currency_pair']`.\n",
    "universe_version = \"v3\"\n",
    "resample_1min = True\n",
    "ccxt_historical_client = icdcl.ccxt_clients.CcxtHistoricalPqByTileClient(\n",
    "    universe_version,\n",
    "    resample_1min,\n",
    "    config[\"load\"][\"data_dir\"],\n",
    "    \"by_year_month\",\n",
    "    aws_profile=config[\"load\"][\"aws_profile\"],\n",
    ")"
   ]
  },
  {
   "cell_type": "code",
   "execution_count": null,
   "id": "65d02fc5",
   "metadata": {},
   "outputs": [],
   "source": [
    "universe = ccxt_historical_client.get_universe()\n",
    "universe"
   ]
  },
  {
   "cell_type": "code",
   "execution_count": null,
   "id": "e1fe44c5",
   "metadata": {},
   "outputs": [],
   "source": [
    "# TODO(Nina): @all Kernel's dead after trying to load data for the whole universe due to CMTask1726.\n",
    "# Load all the data available for the 1st full symbol in the universe.\n",
    "start_ts = None\n",
    "end_ts = None\n",
    "data = ccxt_historical_client.read_data([universe[0]], start_ts, end_ts)"
   ]
  },
  {
   "cell_type": "code",
   "execution_count": null,
   "id": "09a04512",
   "metadata": {},
   "outputs": [],
   "source": [
    "_LOG.info(data.shape)\n",
    "data.head(3)"
   ]
  },
  {
   "cell_type": "code",
   "execution_count": null,
   "id": "634b715c",
   "metadata": {},
   "outputs": [],
   "source": [
    "# TODO(Nina): @all Refactor functions from `research_amp.cc.statistics` to properly work with\n",
    "# `ImClient` data.\n",
    "compute_start_end_stats = ramccsta.compute_start_end_stats(data, config)\n",
    "compute_start_end_stats"
   ]
  },
  {
   "cell_type": "code",
   "execution_count": null,
   "id": "7c00850e",
   "metadata": {},
   "outputs": [],
   "source": [
    "# TODO(Nina): @all all exchange ids in a bucket could be extracted via `listdir()` from `helpers.hs3`.\n",
    "binance_exchange = \"binance\"\n",
    "file_path = get_file_path_for_exchange(config, binance_exchange)\n",
    "data = hparque.from_parquet(file_path, aws_profile=config[\"load\"][\"aws_profile\"])\n",
    "_LOG.info(data.shape)\n",
    "data.head(3)"
   ]
  },
  {
   "cell_type": "code",
   "execution_count": null,
   "id": "def3a2a5",
   "metadata": {},
   "outputs": [],
   "source": [
    "currency_pairs = list(data[\"currency_pair\"].unique())\n",
    "dfb = compute_stats_per_currency_pair(currency_pairs)\n",
    "dfb[\"exchange_id\"] = binance_exchange\n",
    "dfb[\"vendor\"] = config[\"data\"][\"vendor\"]\n",
    "dfb"
   ]
  },
  {
   "cell_type": "markdown",
   "id": "31fe1caa",
   "metadata": {},
   "source": [
    "## bitfinex stats"
   ]
  },
  {
   "cell_type": "code",
   "execution_count": null,
   "id": "26c880f3",
   "metadata": {},
   "outputs": [],
   "source": [
    "bitfinex_exchange = \"bitfinex\"\n",
    "file_path = get_file_path_for_exchange(config, bitfinex_exchange)\n",
    "data = hparque.from_parquet(file_path, aws_profile=config[\"load\"][\"aws_profile\"])\n",
    "_LOG.info(data.shape)\n",
    "data.head(3)"
   ]
  },
  {
   "cell_type": "code",
   "execution_count": null,
   "id": "ed2ace22",
   "metadata": {},
   "outputs": [],
   "source": [
    "currency_pairs = list(data[\"currency_pair\"].unique())\n",
    "dfb = compute_stats_per_currency_pair(currency_pairs)\n",
    "dfb[\"exchange_id\"] = bitfinex_exchange\n",
    "dfb[\"vendor\"] = config[\"data\"][\"vendor\"]\n",
    "dfb"
   ]
  },
  {
   "cell_type": "markdown",
   "id": "a1ed435f",
   "metadata": {},
   "source": [
    "## ftx stats"
   ]
  },
  {
   "cell_type": "code",
   "execution_count": null,
   "id": "ff256387",
   "metadata": {},
   "outputs": [],
   "source": [
    "ftx_exchange = \"ftx\"\n",
    "file_path = get_file_path_for_exchange(config, ftx_exchange)\n",
    "data = hparque.from_parquet(file_path, aws_profile=config[\"load\"][\"aws_profile\"])\n",
    "_LOG.info(data.shape)\n",
    "data.head(3)"
   ]
  },
  {
   "cell_type": "code",
   "execution_count": null,
   "id": "630b29e8",
   "metadata": {},
   "outputs": [],
   "source": [
    "currency_pairs = list(data[\"currency_pair\"].unique())\n",
    "dfb = compute_stats_per_currency_pair(currency_pairs)\n",
    "dfb[\"exchange_id\"] = ftx_exchange\n",
    "dfb[\"vendor\"] = config[\"data\"][\"vendor\"]\n",
    "dfb"
   ]
  },
  {
   "cell_type": "markdown",
   "id": "2f511a31",
   "metadata": {},
   "source": [
    "## gateio stats"
   ]
  },
  {
   "cell_type": "code",
   "execution_count": null,
   "id": "037c23f3",
   "metadata": {},
   "outputs": [],
   "source": [
    "gateio_exchange = \"gateio\"\n",
    "file_path = get_file_path_for_exchange(config, gateio_exchange)\n",
    "data = hparque.from_parquet(file_path, aws_profile=config[\"load\"][\"aws_profile\"])\n",
    "_LOG.info(data.shape)\n",
    "data.head(3)"
   ]
  },
  {
   "cell_type": "code",
   "execution_count": null,
   "id": "3ee4ab2d",
   "metadata": {},
   "outputs": [],
   "source": [
    "currency_pairs = list(data[\"currency_pair\"].unique())\n",
    "dfb = compute_stats_per_currency_pair(currency_pairs)\n",
    "dfb[\"exchange_id\"] = gateio_exchange\n",
    "dfb[\"vendor\"] = config[\"data\"][\"vendor\"]\n",
    "dfb"
   ]
  },
  {
   "cell_type": "markdown",
   "id": "e1ba1a0d",
   "metadata": {},
   "source": [
    "## kucoin stat"
   ]
  },
  {
   "cell_type": "code",
   "execution_count": null,
   "id": "a8ae18a6",
   "metadata": {},
   "outputs": [],
   "source": [
    "kucoin_exchange = \"kucoin\"\n",
    "file_path = get_file_path_for_exchange(config, kucoin_exchange)\n",
    "data = hparque.from_parquet(file_path, aws_profile=config[\"load\"][\"aws_profile\"])\n",
    "_LOG.info(data.shape)\n",
    "data.head(3)"
   ]
  },
  {
   "cell_type": "code",
   "execution_count": null,
   "id": "8a912dab",
   "metadata": {},
   "outputs": [],
   "source": [
    "currency_pairs = list(data[\"currency_pair\"].unique())\n",
    "dfb = compute_stats_per_currency_pair(currency_pairs)\n",
    "dfb[\"exchange_id\"] = kucoin_exchange\n",
    "dfb[\"vendor\"] = config[\"data\"][\"vendor\"]\n",
    "dfb"
   ]
  },
  {
   "cell_type": "code",
   "execution_count": null,
   "id": "01d20695",
   "metadata": {},
   "outputs": [],
   "source": [
    "# See the stats for buckets `cryptokaizen-data2/historical/` and `cryptokaizen-data/daily_staged`,\n",
    "# we decided not to include them in the analysis at the moment. Feel free to remove if it is not\n",
    "# needed."
   ]
  },
  {
   "cell_type": "markdown",
   "id": "197e3282",
   "metadata": {},
   "source": [
    "# Load CCXT data from data2 bucket"
   ]
  },
  {
   "cell_type": "code",
   "execution_count": null,
   "id": "fce5b15e",
   "metadata": {},
   "outputs": [],
   "source": [
    "# def read_exchange_df(paths: list) -> pd.DataFrame:\n",
    "#     \"\"\"\n",
    "#     Read csv files from `s3://cryptokaizen-data2/historical/ and convert it to\n",
    "#     a DataFrame.\n",
    "#     \"\"\"\n",
    "#     all_data = []\n",
    "#     for currency_pair, path in paths:\n",
    "#         data = hpandas.read_csv_to_df(path)\n",
    "#         data[\"currency_pair\"] = currency_pair\n",
    "#         all_data.append(data)\n",
    "#     df = pd.concat(all_data)\n",
    "#     return df"
   ]
  },
  {
   "cell_type": "markdown",
   "id": "a49fac74",
   "metadata": {},
   "source": [
    "## binance stat"
   ]
  },
  {
   "cell_type": "code",
   "execution_count": null,
   "id": "34dd827c",
   "metadata": {},
   "outputs": [],
   "source": [
    "# paths = [\n",
    "#     (\n",
    "#         \"ADA_USDT\",\n",
    "#         \"s3://cryptokaizen-data2/historical/binance/ADA_USDT_20220210-104334.csv\",\n",
    "#     ),\n",
    "#     (\n",
    "#         \"AVAX_USDT\",\n",
    "#         \"s3://cryptokaizen-data2/historical/binance/AVAX_USDT_20220210-105623.csv\",\n",
    "#     ),\n",
    "#     (\n",
    "#         \"BNB_USDT\",\n",
    "#         \"s3://cryptokaizen-data2/historical/binance/BNB_USDT_20220210-110910.csv\",\n",
    "#     ),\n",
    "#     (\n",
    "#         \"BTC_USDT\",\n",
    "#         \"s3://cryptokaizen-data2/historical/binance/BTC_USDT_20220210-112208.csv\",\n",
    "#     ),\n",
    "#     (\n",
    "#         \"DOGE_USDT\",\n",
    "#         \"s3://cryptokaizen-data2/historical/binance/DOGE_USDT_20220210-113502.csv\",\n",
    "#     ),\n",
    "#     (\n",
    "#         \"EOS_USDT\",\n",
    "#         \"s3://cryptokaizen-data2/historical/binance/EOS_USDT_20220210-114748.csv\",\n",
    "#     ),\n",
    "#     (\n",
    "#         \"ETH_USDT\",\n",
    "#         \"s3://cryptokaizen-data2/historical/binance/ETH_USDT_20220210-120031.csv\",\n",
    "#     ),\n",
    "#     (\n",
    "#         \"LINK_USDT\",\n",
    "#         \"s3://cryptokaizen-data2/historical/binance/LINK_USDT_20220210-121311.csv\",\n",
    "#     ),\n",
    "#     (\n",
    "#         \"SOL_USDT\",\n",
    "#         \"s3://cryptokaizen-data2/historical/binance/SOL_USDT_20220210-122551.csv\",\n",
    "#     ),\n",
    "# ]\n",
    "# data = read_exchange_df(paths)\n",
    "# data.head()"
   ]
  },
  {
   "cell_type": "code",
   "execution_count": null,
   "id": "1342b12f",
   "metadata": {},
   "outputs": [],
   "source": [
    "# hdateti.convert_unix_epoch_to_timestamp(data.timestamp.max())"
   ]
  },
  {
   "cell_type": "code",
   "execution_count": null,
   "id": "bae8a405",
   "metadata": {},
   "outputs": [],
   "source": [
    "# hdateti.convert_unix_epoch_to_timestamp(data.timestamp.min())"
   ]
  },
  {
   "cell_type": "markdown",
   "id": "bc9e080b",
   "metadata": {},
   "source": [
    "## bitfinex stat"
   ]
  },
  {
   "cell_type": "code",
   "execution_count": null,
   "id": "446f0d09",
   "metadata": {},
   "outputs": [],
   "source": [
    "# paths = [\n",
    "#     (\n",
    "#         \"ADA_USDT\",\n",
    "#         \"s3://cryptokaizen-data2/historical/bitfinex/ADA_USDT_20220211-161045.csv\",\n",
    "#     ),\n",
    "#     (\n",
    "#         \"AVAX_USDT\",\n",
    "#         \"s3://cryptokaizen-data2/historical/bitfinex/AVAX_USDT_20220211-161212.csv\",\n",
    "#     ),\n",
    "#     (\n",
    "#         \"BTC_USDT\",\n",
    "#         \"s3://cryptokaizen-data2/historical/bitfinex/BTC_USDT_20220211-161338.csv\",\n",
    "#     ),\n",
    "#     (\n",
    "#         \"DOGE_USDT\",\n",
    "#         \"s3://cryptokaizen-data2/historical/bitfinex/DOGE_USDT_20220211-161507.csv\",\n",
    "#     ),\n",
    "#     (\n",
    "#         \"EOS_USDT\",\n",
    "#         \"s3://cryptokaizen-data2/historical/bitfinex/EOS_USDT_20220211-161634.csv\",\n",
    "#     ),\n",
    "#     (\n",
    "#         \"ETH_USDT\",\n",
    "#         \"s3://cryptokaizen-data2/historical/bitfinex/ETH_USDT_20220211-161801.csv\",\n",
    "#     ),\n",
    "#     (\n",
    "#         \"FIL_USDT\",\n",
    "#         \"s3://cryptokaizen-data2/historical/bitfinex/FIL_USDT_20220211-161926.csv\",\n",
    "#     ),\n",
    "#     (\n",
    "#         \"LINK_USDT\",\n",
    "#         \"s3://cryptokaizen-data2/historical/bitfinex/LINK_USDT_20220211-162053.csv\",\n",
    "#     ),\n",
    "#     (\n",
    "#         \"SOL_USDT\",\n",
    "#         \"s3://cryptokaizen-data2/historical/bitfinex/SOL_USDT_20220211-162219.csv\",\n",
    "#     ),\n",
    "#     (\n",
    "#         \"XRP_USDT\",\n",
    "#         \"s3://cryptokaizen-data2/historical/bitfinex/XRP_USDT_20220211-162345.csv\",\n",
    "#     ),\n",
    "# ]\n",
    "# data = read_exchange_df(paths)\n",
    "# data.head()"
   ]
  },
  {
   "cell_type": "code",
   "execution_count": null,
   "id": "3ef28bd5",
   "metadata": {},
   "outputs": [],
   "source": [
    "# hdateti.convert_unix_epoch_to_timestamp(data.timestamp.max())"
   ]
  },
  {
   "cell_type": "code",
   "execution_count": null,
   "id": "1bf01c46",
   "metadata": {},
   "outputs": [],
   "source": [
    "# hdateti.convert_unix_epoch_to_timestamp(data.timestamp.min())"
   ]
  },
  {
   "cell_type": "markdown",
   "id": "74fb7d5a",
   "metadata": {},
   "source": [
    "## ftx stat"
   ]
  },
  {
   "cell_type": "code",
   "execution_count": null,
   "id": "90d34262",
   "metadata": {},
   "outputs": [],
   "source": [
    "# paths = [\n",
    "#     (\n",
    "#         \"BNB_USDT\",\n",
    "#         \"s3://cryptokaizen-data2/historical/ftx/BNB_USDT_20220210-104642.csv\",\n",
    "#     ),\n",
    "#     (\n",
    "#         \"BNB_USDT\",\n",
    "#         \"s3://cryptokaizen-data2/historical/ftx/BNB_USDT_20220210-123958.csv\",\n",
    "#     ),\n",
    "#     (\n",
    "#         \"BTC_USDT\",\n",
    "#         \"s3://cryptokaizen-data2/historical/ftx/BTC_USDT_20220210-110047.csv\",\n",
    "#     ),\n",
    "#     (\n",
    "#         \"BTC_USDT\",\n",
    "#         \"s3://cryptokaizen-data2/historical/ftx/BTC_USDT_20220210-125404.csv\",\n",
    "#     ),\n",
    "#     (\n",
    "#         \"DOGE_USDT\",\n",
    "#         \"s3://cryptokaizen-data2/historical/ftx/DOGE_USDT_20220210-111452.csv\",\n",
    "#     ),\n",
    "#     (\n",
    "#         \"ETH_USDT\",\n",
    "#         \"s3://cryptokaizen-data2/historical/ftx/ETH_USDT_20220210-112851.csv\",\n",
    "#     ),\n",
    "#     (\n",
    "#         \"LINK_USDT\",\n",
    "#         \"s3://cryptokaizen-data2/historical/ftx/LINK_USDT_20220210-114240.csv\",\n",
    "#     ),\n",
    "#     (\n",
    "#         \"SOL_USDT\",\n",
    "#         \"s3://cryptokaizen-data2/historical/ftx/SOL_USDT_20220210-115701.csv\",\n",
    "#     ),\n",
    "#     (\n",
    "#         \"XRP_USDT\",\n",
    "#         \"s3://cryptokaizen-data2/historical/ftx/XRP_USDT_20220210-121122.csv\",\n",
    "#     ),\n",
    "# ]\n",
    "# data = read_exchange_df(paths)\n",
    "# data.head()"
   ]
  },
  {
   "cell_type": "code",
   "execution_count": null,
   "id": "20d47956",
   "metadata": {},
   "outputs": [],
   "source": [
    "# hdateti.convert_unix_epoch_to_timestamp(data.timestamp.max())"
   ]
  },
  {
   "cell_type": "code",
   "execution_count": null,
   "id": "e57c533b",
   "metadata": {},
   "outputs": [],
   "source": [
    "# hdateti.convert_unix_epoch_to_timestamp(data.timestamp.min())"
   ]
  },
  {
   "cell_type": "markdown",
   "id": "0e8d229f",
   "metadata": {},
   "source": [
    "## gateio stat"
   ]
  },
  {
   "cell_type": "code",
   "execution_count": null,
   "id": "ba7697ea",
   "metadata": {},
   "outputs": [],
   "source": [
    "# paths = [\n",
    "#     (\n",
    "#         \"BNB_USDT\",\n",
    "#         \"s3://cryptokaizen-data2/historical/gateio/ADA_USDT_20220210-112115.csv\",\n",
    "#     ),\n",
    "#     (\n",
    "#         \"AVAX_USDT\",\n",
    "#         \"s3://cryptokaizen-data2/historical/gateio/AVAX_USDT_20220210-113306.csv\",\n",
    "#     ),\n",
    "#     (\n",
    "#         \"BNB_USDT\",\n",
    "#         \"s3://cryptokaizen-data2/historical/gateio/BNB_USDT_20220210-114500.csv\",\n",
    "#     ),\n",
    "#     (\n",
    "#         \"BTC_USDT\",\n",
    "#         \"s3://cryptokaizen-data2/historical/gateio/BTC_USDT_20220210-115659.csv\",\n",
    "#     ),\n",
    "#     (\n",
    "#         \"DOGE_USDT\",\n",
    "#         \"s3://cryptokaizen-data2/historical/gateio/DOGE_USDT_20220210-120851.csv\",\n",
    "#     ),\n",
    "#     (\n",
    "#         \"EOS_USDT\",\n",
    "#         \"s3://cryptokaizen-data2/historical/gateio/EOS_USDT_20220210-122048.csv\",\n",
    "#     ),\n",
    "#     (\n",
    "#         \"ETH_USDT\",\n",
    "#         \"s3://cryptokaizen-data2/historical/gateio/ETH_USDT_20220210-123244.csv\",\n",
    "#     ),\n",
    "#     (\n",
    "#         \"FIL_USDT\",\n",
    "#         \"s3://cryptokaizen-data2/historical/gateio/FIL_USDT_20220210-124438.csv\",\n",
    "#     ),\n",
    "#     (\n",
    "#         \"LINK_USDT\",\n",
    "#         \"s3://cryptokaizen-data2/historical/gateio/LINK_USDT_20220210-125629.csv\",\n",
    "#     ),\n",
    "#     (\n",
    "#         \"SOL_USDT\",\n",
    "#         \"s3://cryptokaizen-data2/historical/gateio/SOL_USDT_20220210-130821.csv\",\n",
    "#     ),\n",
    "#     (\n",
    "#         \"XRP_USDT\",\n",
    "#         \"s3://cryptokaizen-data2/historical/gateio/XRP_USDT_20220210-132013.csv\",\n",
    "#     ),\n",
    "# ]\n",
    "# data = read_exchange_df(paths)\n",
    "# data.head()"
   ]
  },
  {
   "cell_type": "code",
   "execution_count": null,
   "id": "4c22c7b2",
   "metadata": {},
   "outputs": [],
   "source": [
    "# hdateti.convert_unix_epoch_to_timestamp(data.timestamp.max())"
   ]
  },
  {
   "cell_type": "code",
   "execution_count": null,
   "id": "0dbbbec5",
   "metadata": {},
   "outputs": [],
   "source": [
    "# hdateti.convert_unix_epoch_to_timestamp(data.timestamp.min())"
   ]
  },
  {
   "cell_type": "markdown",
   "id": "ef95ca22",
   "metadata": {},
   "source": [
    "# Load CCXT data from daily staged bucket"
   ]
  },
  {
   "cell_type": "code",
   "execution_count": null,
   "id": "fd662e6a",
   "metadata": {},
   "outputs": [],
   "source": [
    "# file_path = \"%s/ccxt/binance/\" % config[\"load\"][\"data_dir\"]\n",
    "# kwargs = {\"aws_profile\": \"ck\"}\n",
    "# data = hparque.from_parquet(file_path, **kwargs)\n",
    "# data.head()"
   ]
  }
 ],
 "metadata": {
  "kernelspec": {
   "display_name": "Python 3 (ipykernel)",
   "language": "python",
   "name": "python3"
  },
  "language_info": {
   "codemirror_mode": {
    "name": "ipython",
    "version": 3
   },
   "file_extension": ".py",
   "mimetype": "text/x-python",
   "name": "python",
   "nbconvert_exporter": "python",
   "pygments_lexer": "ipython3"
  },
  "toc": {
   "base_numbering": 1,
   "nav_menu": {},
   "number_sections": true,
   "sideBar": true,
   "skip_h1_title": false,
   "title_cell": "Table of Contents",
   "title_sidebar": "Contents",
   "toc_cell": false,
   "toc_position": {},
   "toc_section_display": true,
   "toc_window_display": false
  }
 },
 "nbformat": 4,
 "nbformat_minor": 5
}
