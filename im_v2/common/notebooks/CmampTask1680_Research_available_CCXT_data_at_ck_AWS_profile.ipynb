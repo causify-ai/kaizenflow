{
 "cells": [
  {
   "cell_type": "code",
   "execution_count": null,
   "id": "d2796630",
   "metadata": {},
   "outputs": [],
   "source": [
    "import logging\n",
    "import os\n",
    "\n",
    "import pandas as pd\n",
    "\n",
    "import core.config.config_ as cconconf\n",
    "import helpers.hdbg as hdbg\n",
    "import helpers.henv as henv\n",
    "import helpers.hprint as hprint\n",
    "import helpers.hs3 as hs3\n",
    "import helpers.hparquet as hparque\n",
    "import helpers.hpandas as hpandas\n",
    "import helpers.hdatetime as hdateti\n",
    "import core.statistics as cstats\n",
    "import im_v2.ccxt.data.client as icdcl\n",
    "import im_v2.common.universe.universe as imvccunun\n",
    "import research_amp.cc.statistics as ramccsta"
   ]
  },
  {
   "cell_type": "code",
   "execution_count": null,
   "id": "467b3d61",
   "metadata": {},
   "outputs": [],
   "source": [
    "hdbg.init_logger(verbosity=logging.INFO)\n",
    "\n",
    "_LOG = logging.getLogger(__name__)\n",
    "\n",
    "_LOG.info(\"%s\", henv.get_system_signature()[0])\n",
    "\n",
    "hprint.config_notebook()"
   ]
  },
  {
   "cell_type": "markdown",
   "id": "61c0c9ff",
   "metadata": {},
   "source": [
    "# Configs"
   ]
  },
  {
   "cell_type": "code",
   "execution_count": null,
   "id": "99b1f619",
   "metadata": {},
   "outputs": [],
   "source": [
    "def get_cmtask1680_config_ccxt() -> cconconf.Config:\n",
    "    \"\"\"\n",
    "    Get task232-specific config.\n",
    "    \"\"\"\n",
    "    config = cconconf.Config()\n",
    "    # Load parameters.\n",
    "    config.add_subconfig(\"load\")\n",
    "    config[\"load\"][\"aws_profile\"] = \"ck\"\n",
    "    config[\"load\"][\"data_dir\"] = os.path.join(\"s3://cryptokaizen-data\", \"daily_staged\")\n",
    "    # Data parameters.\n",
    "    config.add_subconfig(\"data\")\n",
    "    config[\"data\"][\"vendor\"] = \"CCXT\"\n",
    "    # Column names.\n",
    "    config.add_subconfig(\"column_names\")\n",
    "    config[\"column_names\"][\"close_price\"] = \"close\"\n",
    "    config[\"column_names\"][\"currency_pair\"] = \"currency_pair\"\n",
    "    config[\"column_names\"][\"exchange_id\"] = \"exchange_id\"\n",
    "    return config"
   ]
  },
  {
   "cell_type": "code",
   "execution_count": null,
   "id": "1117532c",
   "metadata": {},
   "outputs": [],
   "source": [
    "config = get_cmtask1680_config_ccxt()\n",
    "print(config)"
   ]
  },
  {
   "cell_type": "markdown",
   "id": "52eb9372",
   "metadata": {},
   "source": [
    "# Functions"
   ]
  },
  {
   "cell_type": "code",
   "execution_count": null,
   "id": "5b800749",
   "metadata": {},
   "outputs": [],
   "source": [
    "def stat(currency_pair_list: list) -> pd.DataFrame:\n",
    "    res = {}\n",
    "    for currency_pair in currency_pair_list:\n",
    "        data_loc = data.loc[data.currency_pair == currency_pair]\n",
    "        days_availiable = (data_loc.last_valid_index() - data_loc.first_valid_index()).days\n",
    "        n_data_points = data_loc.close.count()\n",
    "        coverage =  100 * (1 - cstats.compute_frac_nan(data_loc.close))       \n",
    "        res.update({currency_pair: [data_loc.index.min(), \n",
    "                                    data_loc.index.max(), \n",
    "                                    n_data_points,\n",
    "                                    coverage,\n",
    "                                    days_availiable,\n",
    "                                    n_data_points / days_availiable,\n",
    "                                   ]})\n",
    "    return pd.DataFrame(\n",
    "           data=res.values(),\n",
    "           columns=[\"min_ts\",\n",
    "                     \"max_ts\",\n",
    "                     \"n_data_points\",\n",
    "                     \"coverage\", \n",
    "                     \"days_available\", \n",
    "                     \"avg_data_points_per_day\"],\n",
    "           index=res.keys())"
   ]
  },
  {
   "cell_type": "code",
   "execution_count": null,
   "id": "fce5b15e",
   "metadata": {},
   "outputs": [],
   "source": [
    "def load_exchange_df(paths: list) -> pd.DataFrame:\n",
    "    df = pd.DataFrame()\n",
    "    for currency_pair, path in paths:\n",
    "        data =  hpandas.read_csv_to_df(path)\n",
    "        data['currency_pair'] = currency_pair\n",
    "        df = pd.concat([df, data])\n",
    "    return df"
   ]
  },
  {
   "cell_type": "code",
   "execution_count": null,
   "id": "d4727bb1",
   "metadata": {},
   "outputs": [],
   "source": [
    "def set_datetime_index(timestamps):\n",
    "    times = []\n",
    "    for time in timestamps:\n",
    "        times.append(hdateti.convert_unix_epoch_to_timestamp(time))\n",
    "    return times"
   ]
  },
  {
   "cell_type": "markdown",
   "id": "0aa199a2",
   "metadata": {},
   "source": [
    "# Load CCXT at cryptokaizen-data/daily_staged"
   ]
  },
  {
   "cell_type": "code",
   "execution_count": null,
   "id": "f5680f53",
   "metadata": {},
   "outputs": [],
   "source": [
    "file_path = \"s3://cryptokaizen-data/daily_staged/ccxt/binance/\"\n",
    "kwargs = {\"aws_profile\": \"ck\"}\n",
    "data = hparque.from_parquet(file_path, **kwargs)\n",
    "data.head()"
   ]
  },
  {
   "cell_type": "markdown",
   "id": "087f3fe7",
   "metadata": {},
   "source": [
    "## Calculate stats"
   ]
  },
  {
   "cell_type": "code",
   "execution_count": null,
   "id": "fb3c24db",
   "metadata": {},
   "outputs": [],
   "source": [
    "currency_pairs = list(data.currency_pair.unique())"
   ]
  },
  {
   "cell_type": "code",
   "execution_count": null,
   "id": "30de54b7",
   "metadata": {},
   "outputs": [],
   "source": [
    "dfb = stat(currency_pairs)\n",
    "dfb['exchange_id'] = \"binance\"\n",
    "dfb['vendor'] = config[\"data\"][\"vendor\"]\n",
    "dfb"
   ]
  },
  {
   "cell_type": "markdown",
   "id": "6241e528",
   "metadata": {},
   "source": [
    "# Load CCXT at cryptokaizen-data/historical/"
   ]
  },
  {
   "cell_type": "markdown",
   "id": "502da3ed",
   "metadata": {},
   "source": [
    "## binance stat"
   ]
  },
  {
   "cell_type": "code",
   "execution_count": null,
   "id": "7c00850e",
   "metadata": {},
   "outputs": [],
   "source": [
    "file_path = \"s3://cryptokaizen-data/historical/ccxt/latest/binance/\"\n",
    "kwargs = {\"aws_profile\": \"ck\"}\n",
    "data = hparque.from_parquet(file_path, **kwargs)\n",
    "data.head()"
   ]
  },
  {
   "cell_type": "code",
   "execution_count": null,
   "id": "def3a2a5",
   "metadata": {},
   "outputs": [],
   "source": [
    "currency_pairs = list(data.currency_pair.unique())\n",
    "dfb = stat(currency_pairs)\n",
    "dfb['exchange_id'] = \"binance\"\n",
    "dfb['vendor'] = config[\"data\"][\"vendor\"]\n",
    "dfb"
   ]
  },
  {
   "cell_type": "markdown",
   "id": "31fe1caa",
   "metadata": {},
   "source": [
    "## bitfinex stat"
   ]
  },
  {
   "cell_type": "code",
   "execution_count": null,
   "id": "26c880f3",
   "metadata": {},
   "outputs": [],
   "source": [
    "file_path = \"s3://cryptokaizen-data/historical/ccxt/latest/bitfinex/\"\n",
    "kwargs = {\"aws_profile\": \"ck\"}\n",
    "data = hparque.from_parquet(file_path, **kwargs)\n",
    "data.head()"
   ]
  },
  {
   "cell_type": "code",
   "execution_count": null,
   "id": "ed2ace22",
   "metadata": {},
   "outputs": [],
   "source": [
    "currency_pairs = list(data.currency_pair.unique())\n",
    "dfb = stat(currency_pairs)\n",
    "dfb['exchange_id'] = \"bitfinex\"\n",
    "dfb['vendor'] = config[\"data\"][\"vendor\"]\n",
    "dfb"
   ]
  },
  {
   "cell_type": "markdown",
   "id": "a1ed435f",
   "metadata": {},
   "source": [
    "## ftx stat"
   ]
  },
  {
   "cell_type": "code",
   "execution_count": null,
   "id": "ff256387",
   "metadata": {},
   "outputs": [],
   "source": [
    "file_path = \"s3://cryptokaizen-data/historical/ccxt/latest/ftx/\"\n",
    "kwargs = {\"aws_profile\": \"ck\"}\n",
    "data = hparque.from_parquet(file_path, **kwargs)\n",
    "data.head()"
   ]
  },
  {
   "cell_type": "code",
   "execution_count": null,
   "id": "630b29e8",
   "metadata": {},
   "outputs": [],
   "source": [
    "currency_pairs = list(data.currency_pair.unique())\n",
    "dfb = stat(currency_pairs)\n",
    "dfb['exchange_id'] = \"ftx\"\n",
    "dfb['vendor'] = config[\"data\"][\"vendor\"]\n",
    "dfb"
   ]
  },
  {
   "cell_type": "markdown",
   "id": "2f511a31",
   "metadata": {},
   "source": [
    "## gateio stat"
   ]
  },
  {
   "cell_type": "code",
   "execution_count": null,
   "id": "037c23f3",
   "metadata": {},
   "outputs": [],
   "source": [
    "file_path = \"s3://cryptokaizen-data/historical/ccxt/latest/gateio/\"\n",
    "kwargs = {\"aws_profile\": \"ck\"}\n",
    "data = hparque.from_parquet(file_path, **kwargs)\n",
    "data.head()"
   ]
  },
  {
   "cell_type": "code",
   "execution_count": null,
   "id": "3ee4ab2d",
   "metadata": {},
   "outputs": [],
   "source": [
    "currency_pairs = list(data.currency_pair.unique())\n",
    "dfb = stat(currency_pairs)\n",
    "dfb['exchange_id'] = \"gateio\"\n",
    "dfb['vendor'] = config[\"data\"][\"vendor\"]\n",
    "dfb"
   ]
  },
  {
   "cell_type": "markdown",
   "id": "e1ba1a0d",
   "metadata": {},
   "source": [
    "## kucoin stat"
   ]
  },
  {
   "cell_type": "code",
   "execution_count": null,
   "id": "a8ae18a6",
   "metadata": {},
   "outputs": [],
   "source": [
    "file_path = \"s3://cryptokaizen-data/historical/ccxt/latest/kucoin/\"\n",
    "kwargs = {\"aws_profile\": \"ck\"}\n",
    "data = hparque.from_parquet(file_path, **kwargs)\n",
    "data.head()"
   ]
  },
  {
   "cell_type": "code",
   "execution_count": null,
   "id": "8a912dab",
   "metadata": {},
   "outputs": [],
   "source": [
    "currency_pairs = list(data.currency_pair.unique())\n",
    "dfb = stat(currency_pairs)\n",
    "dfb['exchange_id'] = \"kucoin\"\n",
    "dfb['vendor'] = config[\"data\"][\"vendor\"]\n",
    "dfb"
   ]
  },
  {
   "cell_type": "markdown",
   "id": "197e3282",
   "metadata": {},
   "source": [
    "# Load CCXT at cryptokaizen-data2/historical/"
   ]
  },
  {
   "cell_type": "markdown",
   "id": "a49fac74",
   "metadata": {},
   "source": [
    "## binance stat"
   ]
  },
  {
   "cell_type": "code",
   "execution_count": null,
   "id": "34dd827c",
   "metadata": {},
   "outputs": [],
   "source": [
    "paths = [(\"ADA_USDT\", \"s3://cryptokaizen-data2/historical/binance/ADA_USDT_20220210-104334.csv\"),\n",
    "         (\"AVAX_USDT\", \"s3://cryptokaizen-data2/historical/binance/AVAX_USDT_20220210-105623.csv\"),\n",
    "         (\"BNB_USDT\", \"s3://cryptokaizen-data2/historical/binance/BNB_USDT_20220210-110910.csv\"),\n",
    "         (\"BTC_USDT\", \"s3://cryptokaizen-data2/historical/binance/BTC_USDT_20220210-112208.csv\"),\n",
    "         (\"DOGE_USDT\", \"s3://cryptokaizen-data2/historical/binance/DOGE_USDT_20220210-113502.csv\"),\n",
    "         (\"EOS_USDT\", \"s3://cryptokaizen-data2/historical/binance/EOS_USDT_20220210-114748.csv\"),\n",
    "         (\"ETH_USDT\", \"s3://cryptokaizen-data2/historical/binance/ETH_USDT_20220210-120031.csv\"),\n",
    "         (\"LINK_USDT\", \"s3://cryptokaizen-data2/historical/binance/LINK_USDT_20220210-121311.csv\"),\n",
    "         (\"SOL_USDT\", \"s3://cryptokaizen-data2/historical/binance/SOL_USDT_20220210-122551.csv\")]\n",
    "data = load_exchange_df(paths)\n",
    "data.head()"
   ]
  },
  {
   "cell_type": "code",
   "execution_count": null,
   "id": "1342b12f",
   "metadata": {},
   "outputs": [],
   "source": [
    "hdateti.convert_unix_epoch_to_timestamp(data.timestamp.max())"
   ]
  },
  {
   "cell_type": "code",
   "execution_count": null,
   "id": "bae8a405",
   "metadata": {},
   "outputs": [],
   "source": [
    "hdateti.convert_unix_epoch_to_timestamp(data.timestamp.min())"
   ]
  },
  {
   "cell_type": "markdown",
   "id": "bc9e080b",
   "metadata": {},
   "source": [
    "## bitfinex stat"
   ]
  },
  {
   "cell_type": "code",
   "execution_count": null,
   "id": "446f0d09",
   "metadata": {},
   "outputs": [],
   "source": [
    "paths = [(\"ADA_USDT\", \"s3://cryptokaizen-data2/historical/bitfinex/ADA_USDT_20220211-161045.csv\"),\n",
    "         (\"AVAX_USDT\", \"s3://cryptokaizen-data2/historical/bitfinex/AVAX_USDT_20220211-161212.csv\"),\n",
    "         (\"BTC_USDT\", \"s3://cryptokaizen-data2/historical/bitfinex/BTC_USDT_20220211-161338.csv\"),\n",
    "         (\"DOGE_USDT\", \"s3://cryptokaizen-data2/historical/bitfinex/DOGE_USDT_20220211-161507.csv\"),\n",
    "         (\"EOS_USDT\", \"s3://cryptokaizen-data2/historical/bitfinex/EOS_USDT_20220211-161634.csv\"),\n",
    "         (\"ETH_USDT\", \"s3://cryptokaizen-data2/historical/bitfinex/ETH_USDT_20220211-161801.csv\"),\n",
    "         (\"FIL_USDT\", \"s3://cryptokaizen-data2/historical/bitfinex/FIL_USDT_20220211-161926.csv\"),\n",
    "         (\"LINK_USDT\", \"s3://cryptokaizen-data2/historical/bitfinex/LINK_USDT_20220211-162053.csv\"),\n",
    "         (\"SOL_USDT\", \"s3://cryptokaizen-data2/historical/bitfinex/SOL_USDT_20220211-162219.csv\"),\n",
    "         (\"XRP_USDT\", \"s3://cryptokaizen-data2/historical/bitfinex/XRP_USDT_20220211-162345.csv\"),]\n",
    "data = load_exchange_df(paths)\n",
    "data.head()"
   ]
  },
  {
   "cell_type": "code",
   "execution_count": null,
   "id": "3ef28bd5",
   "metadata": {},
   "outputs": [],
   "source": [
    "hdateti.convert_unix_epoch_to_timestamp(data.timestamp.max())"
   ]
  },
  {
   "cell_type": "code",
   "execution_count": null,
   "id": "1bf01c46",
   "metadata": {},
   "outputs": [],
   "source": [
    "hdateti.convert_unix_epoch_to_timestamp(data.timestamp.min())"
   ]
  },
  {
   "cell_type": "markdown",
   "id": "74fb7d5a",
   "metadata": {},
   "source": [
    "## ftx stat"
   ]
  },
  {
   "cell_type": "code",
   "execution_count": null,
   "id": "90d34262",
   "metadata": {},
   "outputs": [],
   "source": [
    "paths = [(\"BNB_USDT\", \"s3://cryptokaizen-data2/historical/ftx/BNB_USDT_20220210-104642.csv\"),\n",
    "         (\"BNB_USDT\", \"s3://cryptokaizen-data2/historical/ftx/BNB_USDT_20220210-123958.csv\"),\n",
    "         (\"BTC_USDT\", \"s3://cryptokaizen-data2/historical/ftx/BTC_USDT_20220210-110047.csv\"),\n",
    "         (\"BTC_USDT\", \"s3://cryptokaizen-data2/historical/ftx/BTC_USDT_20220210-125404.csv\"),\n",
    "         (\"DOGE_USDT\", \"s3://cryptokaizen-data2/historical/ftx/DOGE_USDT_20220210-111452.csv\"),\n",
    "         (\"ETH_USDT\", \"s3://cryptokaizen-data2/historical/ftx/ETH_USDT_20220210-112851.csv\"),\n",
    "         (\"LINK_USDT\", \"s3://cryptokaizen-data2/historical/ftx/LINK_USDT_20220210-114240.csv\"),\n",
    "         (\"SOL_USDT\", \"s3://cryptokaizen-data2/historical/ftx/SOL_USDT_20220210-115701.csv\"),\n",
    "         (\"XRP_USDT\", \"s3://cryptokaizen-data2/historical/ftx/XRP_USDT_20220210-121122.csv\"),]\n",
    "data = load_exchange_df(paths)\n",
    "data.head()"
   ]
  },
  {
   "cell_type": "code",
   "execution_count": null,
   "id": "20d47956",
   "metadata": {},
   "outputs": [],
   "source": [
    "hdateti.convert_unix_epoch_to_timestamp(data.timestamp.max())"
   ]
  },
  {
   "cell_type": "code",
   "execution_count": null,
   "id": "e57c533b",
   "metadata": {},
   "outputs": [],
   "source": [
    "hdateti.convert_unix_epoch_to_timestamp(data.timestamp.min())"
   ]
  },
  {
   "cell_type": "markdown",
   "id": "0e8d229f",
   "metadata": {},
   "source": [
    "## gateio stat"
   ]
  },
  {
   "cell_type": "code",
   "execution_count": null,
   "id": "ba7697ea",
   "metadata": {},
   "outputs": [],
   "source": [
    "paths = [(\"BNB_USDT\", \"s3://cryptokaizen-data2/historical/gateio/ADA_USDT_20220210-112115.csv\"),\n",
    "         (\"AVAX_USDT\", \"s3://cryptokaizen-data2/historical/gateio/AVAX_USDT_20220210-113306.csv\"),\n",
    "         (\"BNB_USDT\", \"s3://cryptokaizen-data2/historical/gateio/BNB_USDT_20220210-114500.csv\"),\n",
    "         (\"BTC_USDT\", \"s3://cryptokaizen-data2/historical/gateio/BTC_USDT_20220210-115659.csv\"),\n",
    "         (\"DOGE_USDT\", \"s3://cryptokaizen-data2/historical/gateio/DOGE_USDT_20220210-120851.csv\"),\n",
    "         (\"EOS_USDT\", \"s3://cryptokaizen-data2/historical/gateio/EOS_USDT_20220210-122048.csv\"),\n",
    "         (\"ETH_USDT\", \"s3://cryptokaizen-data2/historical/gateio/ETH_USDT_20220210-123244.csv\"),\n",
    "         (\"FIL_USDT\", \"s3://cryptokaizen-data2/historical/gateio/FIL_USDT_20220210-124438.csv\"),\n",
    "         (\"LINK_USDT\", \"s3://cryptokaizen-data2/historical/gateio/LINK_USDT_20220210-125629.csv\"),\n",
    "         (\"SOL_USDT\", \"s3://cryptokaizen-data2/historical/gateio/SOL_USDT_20220210-130821.csv\"),\n",
    "         (\"XRP_USDT\", \"s3://cryptokaizen-data2/historical/gateio/XRP_USDT_20220210-132013.csv\"),]\n",
    "data = load_exchange_df(paths)\n",
    "data.head()"
   ]
  },
  {
   "cell_type": "code",
   "execution_count": null,
   "id": "4c22c7b2",
   "metadata": {},
   "outputs": [],
   "source": [
    "hdateti.convert_unix_epoch_to_timestamp(data.timestamp.max())"
   ]
  },
  {
   "cell_type": "code",
   "execution_count": null,
   "id": "0dbbbec5",
   "metadata": {},
   "outputs": [],
   "source": [
    "hdateti.convert_unix_epoch_to_timestamp(data.timestamp.min())"
   ]
  }
 ],
 "metadata": {
  "kernelspec": {
   "display_name": "Python 3 (ipykernel)",
   "language": "python",
   "name": "python3"
  },
  "language_info": {
   "codemirror_mode": {
    "name": "ipython",
    "version": 3
   },
   "file_extension": ".py",
   "mimetype": "text/x-python",
   "name": "python",
   "nbconvert_exporter": "python",
   "pygments_lexer": "ipython3"
  },
  "toc": {
   "base_numbering": 1,
   "nav_menu": {},
   "number_sections": true,
   "sideBar": true,
   "skip_h1_title": false,
   "title_cell": "Table of Contents",
   "title_sidebar": "Contents",
   "toc_cell": false,
   "toc_position": {},
   "toc_section_display": true,
   "toc_window_display": false
  }
 },
 "nbformat": 4,
 "nbformat_minor": 5
}
