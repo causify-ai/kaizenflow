{
 "cells": [
  {
   "cell_type": "markdown",
   "id": "85907be2",
   "metadata": {},
   "source": [
    "# Description\n"
   ]
  },
  {
   "cell_type": "markdown",
   "id": "e8a30f92",
   "metadata": {},
   "source": [
    "This notebook showcases locations and basic structure of raw data from:\n",
    "\n",
    "- S3 (parquet datasets)\n",
    "- DB (PostGres)\n",
    "\n",
    "## Specs\n",
    "- This notebook:\n",
    "  - is a catalog of all the datasets that exist in the our system\n",
    "  - shows how to load data using our low-level functions or specific API for specific datasets\n",
    "  - shows how a snippet of the data looks like (for this we want to load the minimal amount of data)\n",
    "  - doesn't compute any statistics\n",
    "  - should be quickly to execute, like < 1min, so we can run it in the unit tests\n",
    "\n",
    "## Life cycle\n",
    "- Any time a new dataset is added (e.g., in real-time DB, Parquet) we add some information on how to load it and how it looks like\n",
    "- In general we try not to delete any data but we only add data loaders"
   ]
  },
  {
   "cell_type": "markdown",
   "id": "102c57e9",
   "metadata": {},
   "source": [
    "# Imports"
   ]
  },
  {
   "cell_type": "code",
   "execution_count": null,
   "id": "01579d41",
   "metadata": {},
   "outputs": [],
   "source": [
    "import logging\n",
    "\n",
    "import helpers.hdbg as hdbg\n",
    "import helpers.henv as henv\n",
    "import helpers.hpandas as hpandas\n",
    "import helpers.hprint as hprint\n",
    "import im_v2.common.data.client.im_raw_data_client as imvcdcimrdc"
   ]
  },
  {
   "cell_type": "code",
   "execution_count": null,
   "id": "d0578f2f",
   "metadata": {},
   "outputs": [],
   "source": [
    "hdbg.init_logger(verbosity=logging.INFO)\n",
    "log_level = logging.INFO\n",
    "\n",
    "_LOG = logging.getLogger(__name__)\n",
    "\n",
    "_LOG.info(\"%s\", henv.get_system_signature()[0])\n",
    "\n",
    "hprint.config_notebook()"
   ]
  },
  {
   "cell_type": "markdown",
   "id": "fbb8a4bb",
   "metadata": {},
   "source": [
    "# Realtime (the DB data)"
   ]
  },
  {
   "cell_type": "markdown",
   "id": "975b8938",
   "metadata": {},
   "source": [
    "## periodic_daily.airflow.downloaded_1min.csv.ohlcv.futures.v7.ccxt.binance.v1_0_0"
   ]
  },
  {
   "cell_type": "code",
   "execution_count": null,
   "id": "5316dbcb",
   "metadata": {},
   "outputs": [],
   "source": [
    "signature = \"periodic_daily.airflow.downloaded_1min.csv.ohlcv.futures.v7.ccxt.binance.v1_0_0\"\n",
    "reader = imvcdcimrdc.RawDataReader(signature)\n",
    "data = reader.read_data()\n",
    "_LOG.log(log_level, hpandas.df_to_str(data, log_level=log_level))"
   ]
  },
  {
   "cell_type": "markdown",
   "id": "a9378838",
   "metadata": {},
   "source": [
    "# Historical (data updated daily)"
   ]
  },
  {
   "cell_type": "markdown",
   "id": "00b88afa",
   "metadata": {},
   "source": [
    "## bulk.airflow.downloaded_1min.parquet.ohlcv.futures.v7.ccxt.binance.v1_0_0"
   ]
  },
  {
   "cell_type": "code",
   "execution_count": null,
   "id": "8984f851",
   "metadata": {},
   "outputs": [],
   "source": [
    "signature = (\n",
    "    \"bulk.airflow.downloaded_1min.parquet.ohlcv.futures.v7.ccxt.binance.v1_0_0\"\n",
    ")\n",
    "reader = imvcdcimrdc.RawDataReader(signature)\n",
    "data = reader.read_data()\n",
    "_LOG.log(log_level, hpandas.df_to_str(data, log_level=log_level))"
   ]
  },
  {
   "cell_type": "markdown",
   "id": "090371c1",
   "metadata": {},
   "source": [
    "## bulk.airflow.downloaded_1sec.parquet.bid_ask.futures.v3.crypto_chassis.binance.v1_0_0"
   ]
  },
  {
   "cell_type": "code",
   "execution_count": null,
   "id": "862cff6b",
   "metadata": {},
   "outputs": [],
   "source": [
    "signature = \"bulk.airflow.downloaded_1sec.parquet.bid_ask.futures.v3.crypto_chassis.binance.v1_0_0\"\n",
    "reader = imvcdcimrdc.RawDataReader(signature)\n",
    "data = reader.read_data()\n",
    "_LOG.log(log_level, hpandas.df_to_str(data, log_level=log_level))"
   ]
  },
  {
   "cell_type": "markdown",
   "id": "95dd001a",
   "metadata": {},
   "source": [
    "## bulk.airflow.resampled_1min.parquet.bid_ask.futures.v3.crypto_chassis.binance.v1_0_0"
   ]
  },
  {
   "cell_type": "code",
   "execution_count": null,
   "id": "dde315db",
   "metadata": {},
   "outputs": [],
   "source": [
    "signature = \"bulk.airflow.resampled_1min.parquet.bid_ask.futures.v3.crypto_chassis.binance.v1_0_0\"\n",
    "reader = imvcdcimrdc.RawDataReader(signature)\n",
    "data = reader.read_data()\n",
    "_LOG.log(log_level, hpandas.df_to_str(data, log_level=log_level))"
   ]
  },
  {
   "cell_type": "markdown",
   "id": "93e3501c",
   "metadata": {},
   "source": [
    "## bulk.airflow.downloaded_1sec.parquet.bid_ask.spot.v3.crypto_chassis.binance.v1_0_0"
   ]
  },
  {
   "cell_type": "code",
   "execution_count": null,
   "id": "08d72270",
   "metadata": {},
   "outputs": [],
   "source": [
    "signature = \"bulk.airflow.downloaded_1sec.parquet.bid_ask.spot.v3.crypto_chassis.binance.v1_0_0\"\n",
    "reader = imvcdcimrdc.RawDataReader(signature)\n",
    "data = reader.read_data()\n",
    "_LOG.log(log_level, hpandas.df_to_str(data, log_level=log_level))"
   ]
  },
  {
   "cell_type": "markdown",
   "id": "5c1c8e42",
   "metadata": {},
   "source": [
    "## bulk.airflow.resampled_1min.parquet.bid_ask.spot.v3.crypto_chassis.binance.v1_0_0"
   ]
  },
  {
   "cell_type": "code",
   "execution_count": null,
   "id": "40548bf0",
   "metadata": {},
   "outputs": [],
   "source": [
    "signature = \"bulk.airflow.downloaded_1sec.parquet.bid_ask.spot.v3.crypto_chassis.binance.v1_0_0\"\n",
    "reader = imvcdcimrdc.RawDataReader(signature)\n",
    "data = reader.read_data()\n",
    "_LOG.log(log_level, hpandas.df_to_str(data, log_level=log_level))"
   ]
  },
  {
   "cell_type": "code",
   "execution_count": null,
   "id": "7ad2c373",
   "metadata": {},
   "outputs": [],
   "source": []
  }
 ],
 "metadata": {
  "kernelspec": {
   "display_name": "Python 3 (ipykernel)",
   "language": "python",
   "name": "python3"
  },
  "language_info": {
   "codemirror_mode": {
    "name": "ipython",
    "version": 3
   },
   "file_extension": ".py",
   "mimetype": "text/x-python",
   "name": "python",
   "nbconvert_exporter": "python",
   "pygments_lexer": "ipython3"
  },
  "toc": {
   "base_numbering": 1,
   "nav_menu": {},
   "number_sections": true,
   "sideBar": true,
   "skip_h1_title": false,
   "title_cell": "Table of Contents",
   "title_sidebar": "Contents",
   "toc_cell": false,
   "toc_position": {
    "height": "calc(100% - 180px)",
    "left": "10px",
    "top": "150px",
    "width": "198.993px"
   },
   "toc_section_display": true,
   "toc_window_display": true
  }
 },
 "nbformat": 4,
 "nbformat_minor": 5
}
