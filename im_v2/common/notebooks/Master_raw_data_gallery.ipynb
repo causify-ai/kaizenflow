{
 "cells": [
  {
   "cell_type": "markdown",
   "id": "047c5c80",
   "metadata": {},
   "source": [
    "# Description\n"
   ]
  },
  {
   "cell_type": "markdown",
   "id": "296f9d2f",
   "metadata": {},
   "source": [
    "This notebook showcases locations and basic structure of raw data from:\n",
    "\n",
    "- S3 (parquet datasets)\n",
<<<<<<< HEAD
    "- DB (PostGres)\n",
    "\n",
    "## Specs\n",
    "- This notebook:\n",
    "  - is a catalog of all the datasets that exist in the our system\n",
    "  - shows how to load data using our low-level functions or specific API for specific datasets\n",
    "  - shows how a snippet of the data looks like (for this we want to load the minimal amount of data)\n",
    "  - doesn't compute any statistics\n",
    "  - should be quickly to execute, like < 1min, so we can run it in the unit tests\n",
    "\n",
    "## Life cycle\n",
    "- Any time a new dataset is added (e.g., in real-time DB, Parquet) we add some information on how to load it and how it looks like\n",
    "- In general we try not to delete any data but we only add data loaders"
=======
    "- DB (PostGres)"
>>>>>>> master
   ]
  },
  {
   "cell_type": "markdown",
   "id": "ebc27535",
   "metadata": {},
   "source": [
    "# Imports"
   ]
  },
  {
   "cell_type": "code",
<<<<<<< HEAD
   "execution_count": 1,
   "id": "a2d1a9cd",
   "metadata": {
    "ExecuteTime": {
     "end_time": "2022-12-02T12:47:42.223364Z",
     "start_time": "2022-12-02T12:47:40.585690Z"
    }
   },
   "outputs": [
    {
     "name": "stderr",
     "output_type": "stream",
     "text": [
      "/app/helpers/hparquet.py:19: TqdmExperimentalWarning: Using `tqdm.autonotebook.tqdm` in notebook mode. Use `tqdm.tqdm` instead to force console mode (e.g. in jupyter console)\n",
      "  from tqdm.autonotebook import tqdm\n"
     ]
    }
   ],
=======
   "execution_count": 7,
   "id": "a2d1a9cd",
   "metadata": {
    "ExecuteTime": {
     "end_time": "2022-11-28T12:13:20.123348Z",
     "start_time": "2022-11-28T12:13:20.119224Z"
    }
   },
   "outputs": [],
>>>>>>> master
   "source": [
    "import logging\n",
    "\n",
    "import helpers.hdbg as hdbg\n",
    "import helpers.henv as henv\n",
    "import helpers.hpandas as hpandas\n",
    "import helpers.hparquet as hparque\n",
    "import helpers.hprint as hprint\n",
    "from im_v2.common.notebooks.master_raw_data_gallery_lib import *"
   ]
  },
  {
   "cell_type": "code",
<<<<<<< HEAD
   "execution_count": 2,
   "id": "19e56ce2",
   "metadata": {
    "ExecuteTime": {
     "end_time": "2022-12-02T12:47:44.171014Z",
     "start_time": "2022-12-02T12:47:42.962851Z"
=======
   "execution_count": 12,
   "id": "19e56ce2",
   "metadata": {
    "ExecuteTime": {
     "end_time": "2022-11-28T12:22:06.436223Z",
     "start_time": "2022-11-28T12:22:05.895840Z"
>>>>>>> master
    }
   },
   "outputs": [
    {
     "name": "stdout",
     "output_type": "stream",
     "text": [
<<<<<<< HEAD
      "\u001b[0m\u001b[36mINFO\u001b[0m: > cmd='/venv/lib/python3.8/site-packages/ipykernel_launcher.py -f /home/.local/share/jupyter/runtime/kernel-e1cddbef-6a2f-43f2-8cf5-1bdc5186d2a4.json'\n",
      "WARNING: Running in Jupyter\n",
      "INFO  # Git\n",
      "  branch_name='CMTask3215_update_im_raw_data_gallery'\n",
      "  hash='186039b2e'\n",
      "  # Last commits:\n",
      "    * 186039b2e tamriq   CmTask3215: small fixes                                           (    4 days ago) Mon Nov 28 12:59:11 2022  (HEAD -> CMTask3215_update_im_raw_data_gallery, origin/CMTask3215_update_im_raw_data_gallery)\n",
      "    * ceebc635c tamriq   CmTask3215: small fixes                                           (    4 days ago) Mon Nov 28 12:55:39 2022           \n",
      "    *   de9edf2f1 tamriq   Merge branch 'CMTask3215_update_im_raw_data_gallery' of github.com:cryptokaizen/cmamp into CMTask3215_update_im_raw_data_gallery (    4 days ago) Mon Nov 28 11:23:50 2022           \n",
      "    |\\  \n",
      "# Machine info\n",
      "  system=Linux\n",
      "  node name=4753a54cace1\n",
=======
      "\u001b[0m\u001b[33mWARNING\u001b[0m: Logger already initialized: skipping\n",
      "INFO  # Git\n",
      "  branch_name='CMTask3215_update_im_raw_data_gallery'\n",
      "  hash='de9edf2f1'\n",
      "  # Last commits:\n",
      "    *   de9edf2f1 tamriq   Merge branch 'CMTask3215_update_im_raw_data_gallery' of github.com:cryptokaizen/cmamp into CMTask3215_update_im_raw_data_gallery (58 minutes ago) Mon Nov 28 11:23:50 2022  (HEAD -> CMTask3215_update_im_raw_data_gallery, origin/CMTask3215_update_im_raw_data_gallery)\n",
      "    |\\  \n",
      "    * | 402943b03 tamriq   CmTask3215: update notebook                                       (58 minutes ago) Mon Nov 28 11:23:43 2022           \n",
      "    | * dde4a1869 Toma Jordania Merge branch 'master' into CMTask3215_update_im_raw_data_gallery  (65 minutes ago) Mon Nov 28 11:17:32 2022           \n",
      "    |/| \n",
      "# Machine info\n",
      "  system=Linux\n",
      "  node name=f46c8f855978\n",
>>>>>>> master
      "  release=5.15.0-1023-aws\n",
      "  version=#27~20.04.1-Ubuntu SMP Wed Oct 26 20:02:26 UTC 2022\n",
      "  machine=x86_64\n",
      "  processor=x86_64\n",
      "  cpu count=8\n",
      "  cpu freq=scpufreq(current=2499.998, min=0.0, max=0.0)\n",
<<<<<<< HEAD
      "  memory=svmem(total=33292886016, available=28960665600, percent=13.0, used=3861377024, free=21807738880, active=4430438400, inactive=5719273472, buffers=1525395456, cached=6098374656, shared=9797632, slab=1051688960)\n",
      "  disk usage=sdiskusage(total=156052275200, used=21385506816, free=134649991168, percent=13.7)\n",
=======
      "  memory=svmem(total=33292886016, available=23302369280, percent=30.0, used=9523970048, free=12051099648, active=2183499776, inactive=17372246016, buffers=1275490304, cached=10442326016, shared=9490432, slab=1398444032)\n",
      "  disk usage=sdiskusage(total=156052275200, used=25426653184, free=130608844800, percent=16.3)\n",
>>>>>>> master
      "# Packages\n",
      "  python: 3.8.10\n",
      "  cvxopt: 1.3.0\n",
      "  cvxpy: 1.2.2\n",
      "  gluonnlp: ?\n",
      "  gluonts: 0.6.7\n",
      "  joblib: 1.2.0\n",
      "  mxnet: 1.9.1\n",
      "  numpy: 1.23.4\n",
      "  pandas: 1.5.1\n",
      "  pyarrow: 10.0.0\n",
      "  scipy: 1.9.3\n",
      "  seaborn: 0.12.1\n",
      "  sklearn: 1.1.3\n",
      "  statsmodels: 0.13.5\n"
     ]
    }
   ],
   "source": [
    "hdbg.init_logger(verbosity=logging.INFO)\n",
    "log_level = logging.INFO\n",
    "\n",
    "_LOG = logging.getLogger(__name__)\n",
    "\n",
    "_LOG.info(\"%s\", henv.get_system_signature()[0])\n",
    "\n",
    "hprint.config_notebook()"
   ]
  },
  {
   "cell_type": "markdown",
   "id": "5271eefc",
   "metadata": {},
   "source": [
    "# Realtime (the DB data)"
   ]
  },
  {
   "cell_type": "markdown",
   "id": "3f27af4c",
   "metadata": {},
   "source": [
<<<<<<< HEAD
    "## periodic.airflow.downloaded_1hour.csv.ohlcv.futures.1_min.universe_v7_0.ccxt.binance.v1_0"
=======
    "## real_time.airflow.csv.ohlcv.futures.1_min.ccxt.binance"
>>>>>>> master
   ]
  },
  {
   "cell_type": "code",
<<<<<<< HEAD
   "execution_count": 4,
   "id": "3803a860",
   "metadata": {
    "ExecuteTime": {
     "end_time": "2022-12-02T12:46:43.939477Z",
     "start_time": "2022-12-02T12:45:32.445851Z"
=======
   "execution_count": 13,
   "id": "3803a860",
   "metadata": {
    "ExecuteTime": {
     "end_time": "2022-11-28T12:58:51.796192Z",
     "start_time": "2022-11-28T12:57:45.779650Z"
>>>>>>> master
    }
   },
   "outputs": [
    {
     "name": "stderr",
     "output_type": "stream",
     "text": [
      "/app/helpers/hsql_implementation.py:550: UserWarning: pandas only supports SQLAlchemy connectable (engine/connection) or database string URI or sqlite3 DBAPI2 connection. Other DBAPI2 objects are not tested. Please consider using SQLAlchemy.\n",
      "  df = pd.read_sql_query(query, connection)\n"
     ]
    },
    {
<<<<<<< HEAD
=======
     "name": "stdout",
     "output_type": "stream",
     "text": [
      "INFO  4695982 rows overall\n"
     ]
    },
    {
>>>>>>> master
     "data": {
      "text/html": [
       "<div>\n",
       "<style scoped>\n",
       "    .dataframe tbody tr th:only-of-type {\n",
       "        vertical-align: middle;\n",
       "    }\n",
       "\n",
       "    .dataframe tbody tr th {\n",
       "        vertical-align: top;\n",
       "    }\n",
       "\n",
       "    .dataframe thead th {\n",
       "        text-align: right;\n",
       "    }\n",
       "</style>\n",
       "<table border=\"1\" class=\"dataframe\">\n",
       "  <thead>\n",
       "    <tr style=\"text-align: right;\">\n",
       "      <th></th>\n",
       "      <th>id</th>\n",
       "      <th>timestamp</th>\n",
       "      <th>open</th>\n",
       "      <th>high</th>\n",
       "      <th>low</th>\n",
       "      <th>close</th>\n",
       "      <th>volume</th>\n",
       "      <th>currency_pair</th>\n",
       "      <th>exchange_id</th>\n",
       "      <th>end_download_timestamp</th>\n",
       "      <th>knowledge_timestamp</th>\n",
       "    </tr>\n",
       "  </thead>\n",
       "  <tbody>\n",
       "    <tr>\n",
       "      <th>0</th>\n",
       "      <td>1</td>\n",
       "      <td>1656968400000</td>\n",
       "      <td>0.4588</td>\n",
       "      <td>0.4594</td>\n",
       "      <td>0.4588</td>\n",
       "      <td>0.459</td>\n",
       "      <td>725584.0</td>\n",
       "      <td>ADA_USDT</td>\n",
       "      <td>binance</td>\n",
       "      <td>2022-07-04 21:04:55.422013+00:00</td>\n",
       "      <td>2022-07-04 21:04:56.425313+00:00</td>\n",
       "    </tr>\n",
       "    <tr>\n",
       "      <th>1</th>\n",
       "      <td>146</td>\n",
       "      <td>1656968580000</td>\n",
       "      <td>0.4586</td>\n",
       "      <td>0.4588</td>\n",
       "      <td>0.4585</td>\n",
       "      <td>0.4587</td>\n",
       "      <td>266398.0</td>\n",
       "      <td>ADA_USDT</td>\n",
       "      <td>binance</td>\n",
       "      <td>2022-07-04 21:07:55.310896+00:00</td>\n",
       "      <td>2022-07-04 21:07:56.313028+00:00</td>\n",
       "    </tr>\n",
       "    <tr>\n",
       "      <th>2</th>\n",
       "      <td>240</td>\n",
       "      <td>1656968700000</td>\n",
       "      <td>0.4588</td>\n",
       "      <td>0.459</td>\n",
       "      <td>0.4588</td>\n",
       "      <td>0.459</td>\n",
       "      <td>105256.0</td>\n",
       "      <td>ADA_USDT</td>\n",
       "      <td>binance</td>\n",
       "      <td>2022-07-04 21:09:55.316944+00:00</td>\n",
       "      <td>2022-07-04 21:09:56.318970+00:00</td>\n",
       "    </tr>\n",
       "    <tr>\n",
       "      <th></th>\n",
       "      <td>...</td>\n",
       "      <td>...</td>\n",
       "      <td>...</td>\n",
       "      <td>...</td>\n",
       "      <td>...</td>\n",
       "      <td>...</td>\n",
       "      <td>...</td>\n",
       "      <td>...</td>\n",
       "      <td>...</td>\n",
       "      <td>...</td>\n",
       "      <td>...</td>\n",
       "    </tr>\n",
       "    <tr>\n",
<<<<<<< HEAD
       "      <th>4862758</th>\n",
       "      <td>47938833</td>\n",
       "      <td>1669985040000</td>\n",
       "      <td>0.09952</td>\n",
       "      <td>0.0996</td>\n",
       "      <td>0.09948</td>\n",
       "      <td>0.09951</td>\n",
       "      <td>6124038.0</td>\n",
       "      <td>DOGE_USDT</td>\n",
       "      <td>binance</td>\n",
       "      <td>2022-12-02 12:45:10.069816+00:00</td>\n",
       "      <td>2022-12-02 12:45:10.082153+00:00</td>\n",
       "    </tr>\n",
       "    <tr>\n",
       "      <th>4862759</th>\n",
       "      <td>47938876</td>\n",
       "      <td>1669985040000</td>\n",
       "      <td>13.73</td>\n",
       "      <td>13.834</td>\n",
       "      <td>13.664</td>\n",
       "      <td>13.704</td>\n",
       "      <td>391431.0</td>\n",
       "      <td>SOL_USDT</td>\n",
       "      <td>binance</td>\n",
       "      <td>2022-12-02 12:45:10.070169+00:00</td>\n",
       "      <td>2022-12-02 12:45:10.082153+00:00</td>\n",
       "    </tr>\n",
       "    <tr>\n",
       "      <th>4862760</th>\n",
       "      <td>47938919</td>\n",
       "      <td>1669985040000</td>\n",
       "      <td>0.7918</td>\n",
       "      <td>0.7923</td>\n",
       "      <td>0.7916</td>\n",
       "      <td>0.7916</td>\n",
       "      <td>3915.0</td>\n",
       "      <td>CTK_USDT</td>\n",
       "      <td>binance</td>\n",
       "      <td>2022-12-02 12:45:10.070473+00:00</td>\n",
       "      <td>2022-12-02 12:45:10.082153+00:00</td>\n",
=======
       "      <th>4695979</th>\n",
       "      <td>41879750</td>\n",
       "      <td>1669640160000</td>\n",
       "      <td>0.09439</td>\n",
       "      <td>0.09443</td>\n",
       "      <td>0.09434</td>\n",
       "      <td>0.09438</td>\n",
       "      <td>4265575.0</td>\n",
       "      <td>DOGE_USDT</td>\n",
       "      <td>binance</td>\n",
       "      <td>2022-11-28 12:57:10.106350+00:00</td>\n",
       "      <td>2022-11-28 12:57:10.173071+00:00</td>\n",
       "    </tr>\n",
       "    <tr>\n",
       "      <th>4695980</th>\n",
       "      <td>41879805</td>\n",
       "      <td>1669640160000</td>\n",
       "      <td>13.264</td>\n",
       "      <td>13.28</td>\n",
       "      <td>13.258</td>\n",
       "      <td>13.267</td>\n",
       "      <td>34633.0</td>\n",
       "      <td>SOL_USDT</td>\n",
       "      <td>binance</td>\n",
       "      <td>2022-11-28 12:57:10.107958+00:00</td>\n",
       "      <td>2022-11-28 12:57:10.173071+00:00</td>\n",
       "    </tr>\n",
       "    <tr>\n",
       "      <th>4695981</th>\n",
       "      <td>41879860</td>\n",
       "      <td>1669640160000</td>\n",
       "      <td>0.7535</td>\n",
       "      <td>0.7538</td>\n",
       "      <td>0.7534</td>\n",
       "      <td>0.7538</td>\n",
       "      <td>3819.0</td>\n",
       "      <td>CTK_USDT</td>\n",
       "      <td>binance</td>\n",
       "      <td>2022-11-28 12:57:10.108371+00:00</td>\n",
       "      <td>2022-11-28 12:57:10.173071+00:00</td>\n",
>>>>>>> master
       "    </tr>\n",
       "  </tbody>\n",
       "</table>\n",
       "</div>"
      ],
      "text/plain": [
<<<<<<< HEAD
       "               id      timestamp     open    high      low    close     volume currency_pair exchange_id            end_download_timestamp               knowledge_timestamp\n",
       "0               1  1656968400000   0.4588  0.4594   0.4588    0.459   725584.0      ADA_USDT     binance  2022-07-04 21:04:55.422013+00:00  2022-07-04 21:04:56.425313+00:00\n",
       "1             146  1656968580000   0.4586  0.4588   0.4585   0.4587   266398.0      ADA_USDT     binance  2022-07-04 21:07:55.310896+00:00  2022-07-04 21:07:56.313028+00:00\n",
       "2             240  1656968700000   0.4588   0.459   0.4588    0.459   105256.0      ADA_USDT     binance  2022-07-04 21:09:55.316944+00:00  2022-07-04 21:09:56.318970+00:00\n",
       "              ...            ...      ...     ...      ...      ...        ...           ...         ...                               ...                               ...\n",
       "4862758  47938833  1669985040000  0.09952  0.0996  0.09948  0.09951  6124038.0     DOGE_USDT     binance  2022-12-02 12:45:10.069816+00:00  2022-12-02 12:45:10.082153+00:00\n",
       "4862759  47938876  1669985040000    13.73  13.834   13.664   13.704   391431.0      SOL_USDT     binance  2022-12-02 12:45:10.070169+00:00  2022-12-02 12:45:10.082153+00:00\n",
       "4862760  47938919  1669985040000   0.7918  0.7923   0.7916   0.7916     3915.0      CTK_USDT     binance  2022-12-02 12:45:10.070473+00:00  2022-12-02 12:45:10.082153+00:00"
=======
       "               id      timestamp     open     high      low    close     volume currency_pair exchange_id            end_download_timestamp               knowledge_timestamp\n",
       "0               1  1656968400000   0.4588   0.4594   0.4588    0.459   725584.0      ADA_USDT     binance  2022-07-04 21:04:55.422013+00:00  2022-07-04 21:04:56.425313+00:00\n",
       "1             146  1656968580000   0.4586   0.4588   0.4585   0.4587   266398.0      ADA_USDT     binance  2022-07-04 21:07:55.310896+00:00  2022-07-04 21:07:56.313028+00:00\n",
       "2             240  1656968700000   0.4588    0.459   0.4588    0.459   105256.0      ADA_USDT     binance  2022-07-04 21:09:55.316944+00:00  2022-07-04 21:09:56.318970+00:00\n",
       "              ...            ...      ...      ...      ...      ...        ...           ...         ...                               ...                               ...\n",
       "4695979  41879750  1669640160000  0.09439  0.09443  0.09434  0.09438  4265575.0     DOGE_USDT     binance  2022-11-28 12:57:10.106350+00:00  2022-11-28 12:57:10.173071+00:00\n",
       "4695980  41879805  1669640160000   13.264    13.28   13.258   13.267    34633.0      SOL_USDT     binance  2022-11-28 12:57:10.107958+00:00  2022-11-28 12:57:10.173071+00:00\n",
       "4695981  41879860  1669640160000   0.7535   0.7538   0.7534   0.7538     3819.0      CTK_USDT     binance  2022-11-28 12:57:10.108371+00:00  2022-11-28 12:57:10.173071+00:00"
>>>>>>> master
      ]
     },
     "metadata": {},
     "output_type": "display_data"
    },
    {
     "name": "stdout",
     "output_type": "stream",
     "text": [
      "INFO  None\n"
     ]
    }
   ],
   "source": [
    "# Get the real time data from DB.\n",
    "ccxt_rt = get_raw_data_from_db(\n",
    "    \"ccxt_ohlcv_futures\", \"binance\", start_ts=None, end_ts=None\n",
    ")\n",
<<<<<<< HEAD
=======
    "_LOG.info(f\"{len(ccxt_rt)} rows overall\")\n",
>>>>>>> master
    "_LOG.log(log_level, hpandas.df_to_str(ccxt_rt, log_level=log_level))"
   ]
  },
  {
   "cell_type": "markdown",
   "id": "df3f4a24",
   "metadata": {},
   "source": [
    "# Historical (data updated daily)"
   ]
  },
  {
   "cell_type": "markdown",
<<<<<<< HEAD
   "id": "e5ee8332",
   "metadata": {
    "ExecuteTime": {
     "end_time": "2022-12-02T13:03:16.992432Z",
     "start_time": "2022-12-02T13:03:16.988506Z"
    }
   },
   "source": [
    "## bulk.airflow.downloaded_EOD.parquet.ohlcv.futures.1_min.universe_v7_0.ccxt.binance.v1_0"
=======
   "id": "f882eb43",
   "metadata": {},
   "source": [
    "## historical.daily.parquet.ohlcv.futures.1_min.ccxt.binance"
>>>>>>> master
   ]
  },
  {
   "cell_type": "code",
<<<<<<< HEAD
   "execution_count": 5,
   "id": "4a72dd91",
   "metadata": {
    "ExecuteTime": {
     "end_time": "2022-12-02T12:47:10.961846Z",
     "start_time": "2022-12-02T12:46:43.942810Z"
=======
   "execution_count": 4,
   "id": "4a72dd91",
   "metadata": {
    "ExecuteTime": {
     "end_time": "2022-11-28T10:02:50.609550Z",
     "start_time": "2022-11-28T10:02:24.405560Z"
>>>>>>> master
    }
   },
   "outputs": [
    {
<<<<<<< HEAD
=======
     "name": "stdout",
     "output_type": "stream",
     "text": [
      "INFO  29424179 rows overall\n"
     ]
    },
    {
>>>>>>> master
     "data": {
      "text/html": [
       "<div>\n",
       "<style scoped>\n",
       "    .dataframe tbody tr th:only-of-type {\n",
       "        vertical-align: middle;\n",
       "    }\n",
       "\n",
       "    .dataframe tbody tr th {\n",
       "        vertical-align: top;\n",
       "    }\n",
       "\n",
       "    .dataframe thead th {\n",
       "        text-align: right;\n",
       "    }\n",
       "</style>\n",
       "<table border=\"1\" class=\"dataframe\">\n",
       "  <thead>\n",
       "    <tr style=\"text-align: right;\">\n",
       "      <th></th>\n",
       "      <th>timestamp</th>\n",
       "      <th>open</th>\n",
       "      <th>high</th>\n",
       "      <th>low</th>\n",
       "      <th>close</th>\n",
       "      <th>volume</th>\n",
       "      <th>exchange_id</th>\n",
       "      <th>knowledge_timestamp</th>\n",
       "      <th>currency_pair</th>\n",
       "      <th>year</th>\n",
       "      <th>month</th>\n",
       "    </tr>\n",
       "  </thead>\n",
       "  <tbody>\n",
       "    <tr>\n",
       "      <th>2022-10-01 00:00:00+00:00</th>\n",
       "      <td>1664582400000</td>\n",
       "      <td>5.406</td>\n",
       "      <td>5.406</td>\n",
       "      <td>5.401</td>\n",
       "      <td>5.403</td>\n",
       "      <td>20601.0</td>\n",
       "      <td>binance</td>\n",
       "      <td>2022-10-02 00:17:30.835182+00:00</td>\n",
       "      <td>APE_USDT</td>\n",
       "      <td>2022</td>\n",
       "      <td>10</td>\n",
       "    </tr>\n",
       "    <tr>\n",
       "      <th>2022-10-01 00:01:00+00:00</th>\n",
       "      <td>1664582460000</td>\n",
       "      <td>5.403</td>\n",
       "      <td>5.404</td>\n",
       "      <td>5.401</td>\n",
       "      <td>5.403</td>\n",
       "      <td>7417.0</td>\n",
       "      <td>binance</td>\n",
       "      <td>2022-10-02 00:17:30.835182+00:00</td>\n",
       "      <td>APE_USDT</td>\n",
       "      <td>2022</td>\n",
       "      <td>10</td>\n",
       "    </tr>\n",
       "    <tr>\n",
       "      <th>2022-10-01 00:02:00+00:00</th>\n",
       "      <td>1664582520000</td>\n",
       "      <td>5.403</td>\n",
       "      <td>5.407</td>\n",
       "      <td>5.403</td>\n",
       "      <td>5.407</td>\n",
       "      <td>4555.0</td>\n",
       "      <td>binance</td>\n",
       "      <td>2022-10-02 00:17:30.835182+00:00</td>\n",
       "      <td>APE_USDT</td>\n",
       "      <td>2022</td>\n",
       "      <td>10</td>\n",
       "    </tr>\n",
       "    <tr>\n",
       "      <th></th>\n",
       "      <td>...</td>\n",
       "      <td>...</td>\n",
       "      <td>...</td>\n",
       "      <td>...</td>\n",
       "      <td>...</td>\n",
       "      <td>...</td>\n",
       "      <td>...</td>\n",
       "      <td>...</td>\n",
       "      <td>...</td>\n",
       "      <td>...</td>\n",
       "      <td>...</td>\n",
       "    </tr>\n",
       "    <tr>\n",
       "      <th>2022-09-30 23:57:00+00:00</th>\n",
       "      <td>1664582220000</td>\n",
       "      <td>0.4791</td>\n",
       "      <td>0.4799</td>\n",
       "      <td>0.4791</td>\n",
       "      <td>0.4795</td>\n",
       "      <td>1264462.1</td>\n",
       "      <td>binance</td>\n",
       "      <td>2022-10-01 00:18:07.912812+00:00</td>\n",
       "      <td>XRP_USDT</td>\n",
       "      <td>2022</td>\n",
       "      <td>9</td>\n",
       "    </tr>\n",
       "    <tr>\n",
       "      <th>2022-09-30 23:58:00+00:00</th>\n",
       "      <td>1664582280000</td>\n",
       "      <td>0.4794</td>\n",
       "      <td>0.4795</td>\n",
       "      <td>0.4791</td>\n",
       "      <td>0.4793</td>\n",
       "      <td>736075.7</td>\n",
       "      <td>binance</td>\n",
       "      <td>2022-10-01 00:18:07.912812+00:00</td>\n",
       "      <td>XRP_USDT</td>\n",
       "      <td>2022</td>\n",
       "      <td>9</td>\n",
       "    </tr>\n",
       "    <tr>\n",
       "      <th>2022-09-30 23:59:00+00:00</th>\n",
       "      <td>1664582340000</td>\n",
       "      <td>0.4794</td>\n",
       "      <td>0.4797</td>\n",
       "      <td>0.4793</td>\n",
       "      <td>0.4797</td>\n",
       "      <td>293368.5</td>\n",
       "      <td>binance</td>\n",
       "      <td>2022-10-01 00:18:07.912812+00:00</td>\n",
       "      <td>XRP_USDT</td>\n",
       "      <td>2022</td>\n",
       "      <td>9</td>\n",
       "    </tr>\n",
       "  </tbody>\n",
       "</table>\n",
       "</div>"
      ],
      "text/plain": [
       "                               timestamp    open    high     low   close     volume exchange_id               knowledge_timestamp currency_pair  year month\n",
       "2022-10-01 00:00:00+00:00  1664582400000   5.406   5.406   5.401   5.403    20601.0     binance  2022-10-02 00:17:30.835182+00:00      APE_USDT  2022    10\n",
       "2022-10-01 00:01:00+00:00  1664582460000   5.403   5.404   5.401   5.403     7417.0     binance  2022-10-02 00:17:30.835182+00:00      APE_USDT  2022    10\n",
       "2022-10-01 00:02:00+00:00  1664582520000   5.403   5.407   5.403   5.407     4555.0     binance  2022-10-02 00:17:30.835182+00:00      APE_USDT  2022    10\n",
       "                                     ...     ...     ...     ...     ...        ...         ...                               ...           ...   ...   ...\n",
       "2022-09-30 23:57:00+00:00  1664582220000  0.4791  0.4799  0.4791  0.4795  1264462.1     binance  2022-10-01 00:18:07.912812+00:00      XRP_USDT  2022     9\n",
       "2022-09-30 23:58:00+00:00  1664582280000  0.4794  0.4795  0.4791  0.4793   736075.7     binance  2022-10-01 00:18:07.912812+00:00      XRP_USDT  2022     9\n",
       "2022-09-30 23:59:00+00:00  1664582340000  0.4794  0.4797  0.4793  0.4797   293368.5     binance  2022-10-01 00:18:07.912812+00:00      XRP_USDT  2022     9"
      ]
     },
     "metadata": {},
     "output_type": "display_data"
    },
    {
     "name": "stdout",
     "output_type": "stream",
     "text": [
      "INFO  None\n"
     ]
    }
   ],
   "source": [
    "s3_path = \"s3://cryptokaizen-data/reorg/daily_staged.airflow.pq/ohlcv-futures/ccxt/binance\"\n",
    "# Load daily data from s3 parquet.\n",
    "ccxt_futures_daily = hparque.from_parquet(s3_path, aws_profile=\"ck\")\n",
<<<<<<< HEAD
=======
    "_LOG.info(f\"{len(ccxt_futures_daily)} rows overall\")\n",
>>>>>>> master
    "_LOG.log(log_level, hpandas.df_to_str(ccxt_futures_daily, log_level=log_level))"
   ]
  },
  {
   "cell_type": "markdown",
<<<<<<< HEAD
   "id": "401e72b7",
   "metadata": {},
   "source": [
    "## bulk.airflow.downloaded_EOD.parquet.bid_ask.futures.1_sec.universe_v3_0.crypto_chassis.binance.v1_0"
=======
   "id": "b497fbf9",
   "metadata": {},
   "source": [
    "## historical.daily.parquet.bid_ask.futures.1_sec.crypto_chassis.binance"
>>>>>>> master
   ]
  },
  {
   "cell_type": "markdown",
   "id": "15d50d1e",
   "metadata": {},
   "source": [
    "The amount of data is too big to process it all at once, so the data will be loaded separately for each month."
   ]
  },
  {
   "cell_type": "code",
<<<<<<< HEAD
   "execution_count": 3,
   "id": "89e137a6",
   "metadata": {
    "ExecuteTime": {
     "end_time": "2022-12-02T12:48:10.968462Z",
     "start_time": "2022-12-02T12:47:49.760175Z"
=======
   "execution_count": 4,
   "id": "89e137a6",
   "metadata": {
    "ExecuteTime": {
     "end_time": "2022-11-28T11:09:13.741818Z",
     "start_time": "2022-11-28T11:08:57.602205Z"
>>>>>>> master
    }
   },
   "outputs": [
    {
     "name": "stdout",
     "output_type": "stream",
     "text": [
      "INFO  Loading data for the period of 6-8 months\n",
      "INFO  Head:\n"
     ]
    },
    {
     "data": {
      "text/html": [
       "<div>\n",
       "<style scoped>\n",
       "    .dataframe tbody tr th:only-of-type {\n",
       "        vertical-align: middle;\n",
       "    }\n",
       "\n",
       "    .dataframe tbody tr th {\n",
       "        vertical-align: top;\n",
       "    }\n",
       "\n",
       "    .dataframe thead th {\n",
       "        text-align: right;\n",
       "    }\n",
       "</style>\n",
       "<table border=\"1\" class=\"dataframe\">\n",
       "  <thead>\n",
       "    <tr style=\"text-align: right;\">\n",
       "      <th></th>\n",
       "      <th>timestamp</th>\n",
       "      <th>bid_price</th>\n",
       "      <th>bid_size</th>\n",
       "      <th>ask_price</th>\n",
       "      <th>ask_size</th>\n",
       "      <th>exchange_id</th>\n",
       "      <th>knowledge_timestamp</th>\n",
       "      <th>currency_pair</th>\n",
       "      <th>year</th>\n",
       "      <th>month</th>\n",
       "    </tr>\n",
       "    <tr>\n",
       "      <th>timestamp</th>\n",
       "      <th></th>\n",
       "      <th></th>\n",
       "      <th></th>\n",
       "      <th></th>\n",
       "      <th></th>\n",
       "      <th></th>\n",
       "      <th></th>\n",
       "      <th></th>\n",
       "      <th></th>\n",
       "      <th></th>\n",
       "    </tr>\n",
       "  </thead>\n",
       "  <tbody>\n",
       "    <tr>\n",
       "      <th>2022-06-27 00:00:00+00:00</th>\n",
       "      <td>1656288000</td>\n",
       "      <td>0.4895</td>\n",
       "      <td>7707.0</td>\n",
       "      <td>0.4896</td>\n",
       "      <td>30558.0</td>\n",
       "      <td>binance</td>\n",
       "      <td>2022-06-28 17:15:25.320760+00:00</td>\n",
       "      <td>ADA_USDT</td>\n",
       "      <td>2022</td>\n",
       "      <td>6</td>\n",
       "    </tr>\n",
       "    <tr>\n",
       "      <th>2022-06-27 00:00:00+00:00</th>\n",
       "      <td>1656288000</td>\n",
       "      <td>0.9890</td>\n",
       "      <td>4136.0</td>\n",
       "      <td>0.9900</td>\n",
       "      <td>39161.2</td>\n",
       "      <td>binance</td>\n",
       "      <td>2022-06-28 17:15:56.207349+00:00</td>\n",
       "      <td>EOS_USDT</td>\n",
       "      <td>2022</td>\n",
       "      <td>6</td>\n",
       "    </tr>\n",
       "  </tbody>\n",
       "</table>\n",
       "</div>"
      ],
      "text/plain": [
       "                            timestamp  bid_price  bid_size  ask_price  ask_size exchange_id              knowledge_timestamp currency_pair  year  month\n",
       "timestamp                                                                                                                                              \n",
       "2022-06-27 00:00:00+00:00  1656288000     0.4895    7707.0     0.4896   30558.0     binance 2022-06-28 17:15:25.320760+00:00      ADA_USDT  2022      6\n",
       "2022-06-27 00:00:00+00:00  1656288000     0.9890    4136.0     0.9900   39161.2     binance 2022-06-28 17:15:56.207349+00:00      EOS_USDT  2022      6"
      ]
     },
     "metadata": {},
     "output_type": "display_data"
    },
    {
     "name": "stdout",
     "output_type": "stream",
     "text": [
      "INFO  Tail:\n"
     ]
    },
    {
     "data": {
      "text/html": [
       "<div>\n",
       "<style scoped>\n",
       "    .dataframe tbody tr th:only-of-type {\n",
       "        vertical-align: middle;\n",
       "    }\n",
       "\n",
       "    .dataframe tbody tr th {\n",
       "        vertical-align: top;\n",
       "    }\n",
       "\n",
       "    .dataframe thead th {\n",
       "        text-align: right;\n",
       "    }\n",
       "</style>\n",
       "<table border=\"1\" class=\"dataframe\">\n",
       "  <thead>\n",
       "    <tr style=\"text-align: right;\">\n",
       "      <th></th>\n",
       "      <th>timestamp</th>\n",
       "      <th>bid_price</th>\n",
       "      <th>bid_size</th>\n",
       "      <th>ask_price</th>\n",
       "      <th>ask_size</th>\n",
       "      <th>exchange_id</th>\n",
       "      <th>knowledge_timestamp</th>\n",
       "      <th>currency_pair</th>\n",
       "      <th>year</th>\n",
       "      <th>month</th>\n",
       "    </tr>\n",
       "    <tr>\n",
       "      <th>timestamp</th>\n",
       "      <th></th>\n",
       "      <th></th>\n",
       "      <th></th>\n",
       "      <th></th>\n",
       "      <th></th>\n",
       "      <th></th>\n",
       "      <th></th>\n",
       "      <th></th>\n",
       "      <th></th>\n",
       "      <th></th>\n",
       "    </tr>\n",
       "  </thead>\n",
       "  <tbody>\n",
       "    <tr>\n",
       "      <th>2022-08-31 23:59:59+00:00</th>\n",
       "      <td>1661990399</td>\n",
       "      <td>1553.18</td>\n",
       "      <td>0.024</td>\n",
       "      <td>1553.19</td>\n",
       "      <td>139.97</td>\n",
       "      <td>binance</td>\n",
       "      <td>2022-09-02 00:28:16.374989+00:00</td>\n",
       "      <td>ETH_USDT</td>\n",
       "      <td>2022</td>\n",
       "      <td>8</td>\n",
       "    </tr>\n",
       "    <tr>\n",
       "      <th>2022-08-31 23:59:59+00:00</th>\n",
       "      <td>1661990399</td>\n",
       "      <td>31.46</td>\n",
       "      <td>2725.000</td>\n",
       "      <td>31.47</td>\n",
       "      <td>1776.00</td>\n",
       "      <td>binance</td>\n",
       "      <td>2022-09-02 00:28:33.977928+00:00</td>\n",
       "      <td>SOL_USDT</td>\n",
       "      <td>2022</td>\n",
       "      <td>8</td>\n",
       "    </tr>\n",
       "  </tbody>\n",
       "</table>\n",
       "</div>"
      ],
      "text/plain": [
       "                            timestamp  bid_price  bid_size  ask_price  ask_size exchange_id              knowledge_timestamp currency_pair  year  month\n",
       "timestamp                                                                                                                                              \n",
       "2022-08-31 23:59:59+00:00  1661990399    1553.18     0.024    1553.19    139.97     binance 2022-09-02 00:28:16.374989+00:00      ETH_USDT  2022      8\n",
       "2022-08-31 23:59:59+00:00  1661990399      31.46  2725.000      31.47   1776.00     binance 2022-09-02 00:28:33.977928+00:00      SOL_USDT  2022      8"
      ]
     },
     "metadata": {},
     "output_type": "display_data"
    },
    {
     "name": "stdout",
     "output_type": "stream",
     "text": [
      "INFO  Loading data for the period of 9-11 months\n",
      "INFO  Head:\n"
     ]
    },
    {
     "data": {
      "text/html": [
       "<div>\n",
       "<style scoped>\n",
       "    .dataframe tbody tr th:only-of-type {\n",
       "        vertical-align: middle;\n",
       "    }\n",
       "\n",
       "    .dataframe tbody tr th {\n",
       "        vertical-align: top;\n",
       "    }\n",
       "\n",
       "    .dataframe thead th {\n",
       "        text-align: right;\n",
       "    }\n",
       "</style>\n",
       "<table border=\"1\" class=\"dataframe\">\n",
       "  <thead>\n",
       "    <tr style=\"text-align: right;\">\n",
       "      <th></th>\n",
       "      <th>timestamp</th>\n",
       "      <th>bid_price</th>\n",
       "      <th>bid_size</th>\n",
       "      <th>ask_price</th>\n",
       "      <th>ask_size</th>\n",
       "      <th>exchange_id</th>\n",
       "      <th>knowledge_timestamp</th>\n",
       "      <th>currency_pair</th>\n",
       "      <th>year</th>\n",
       "      <th>month</th>\n",
       "    </tr>\n",
       "    <tr>\n",
       "      <th>timestamp</th>\n",
       "      <th></th>\n",
       "      <th></th>\n",
       "      <th></th>\n",
       "      <th></th>\n",
       "      <th></th>\n",
       "      <th></th>\n",
       "      <th></th>\n",
       "      <th></th>\n",
       "      <th></th>\n",
       "      <th></th>\n",
       "    </tr>\n",
       "  </thead>\n",
       "  <tbody>\n",
       "    <tr>\n",
       "      <th>2022-09-01 00:00:00+00:00</th>\n",
       "      <td>1661990400</td>\n",
       "      <td>278.98000</td>\n",
       "      <td>5.52</td>\n",
       "      <td>278.9900</td>\n",
       "      <td>62.18</td>\n",
       "      <td>binance</td>\n",
       "      <td>2022-09-21 12:20:57.919848+00:00</td>\n",
       "      <td>BNB_USDT</td>\n",
       "      <td>2022</td>\n",
       "      <td>9</td>\n",
       "    </tr>\n",
       "    <tr>\n",
       "      <th>2022-09-01 00:00:00+00:00</th>\n",
       "      <td>1661990400</td>\n",
       "      <td>0.06129</td>\n",
       "      <td>392.00</td>\n",
       "      <td>0.0613</td>\n",
       "      <td>812743.00</td>\n",
       "      <td>binance</td>\n",
       "      <td>2022-09-03 00:27:38.030325+00:00</td>\n",
       "      <td>DOGE_USDT</td>\n",
       "      <td>2022</td>\n",
       "      <td>9</td>\n",
       "    </tr>\n",
       "  </tbody>\n",
       "</table>\n",
       "</div>"
      ],
      "text/plain": [
       "                            timestamp  bid_price  bid_size  ask_price   ask_size exchange_id              knowledge_timestamp currency_pair  year  month\n",
       "timestamp                                                                                                                                               \n",
       "2022-09-01 00:00:00+00:00  1661990400  278.98000      5.52   278.9900      62.18     binance 2022-09-21 12:20:57.919848+00:00      BNB_USDT  2022      9\n",
       "2022-09-01 00:00:00+00:00  1661990400    0.06129    392.00     0.0613  812743.00     binance 2022-09-03 00:27:38.030325+00:00     DOGE_USDT  2022      9"
      ]
     },
     "metadata": {},
     "output_type": "display_data"
    },
    {
     "name": "stdout",
     "output_type": "stream",
     "text": [
      "INFO  Tail:\n"
     ]
    },
    {
     "data": {
      "text/html": [
       "<div>\n",
       "<style scoped>\n",
       "    .dataframe tbody tr th:only-of-type {\n",
       "        vertical-align: middle;\n",
       "    }\n",
       "\n",
       "    .dataframe tbody tr th {\n",
       "        vertical-align: top;\n",
       "    }\n",
       "\n",
       "    .dataframe thead th {\n",
       "        text-align: right;\n",
       "    }\n",
       "</style>\n",
       "<table border=\"1\" class=\"dataframe\">\n",
       "  <thead>\n",
       "    <tr style=\"text-align: right;\">\n",
       "      <th></th>\n",
       "      <th>timestamp</th>\n",
       "      <th>bid_price</th>\n",
       "      <th>bid_size</th>\n",
       "      <th>ask_price</th>\n",
       "      <th>ask_size</th>\n",
       "      <th>exchange_id</th>\n",
       "      <th>knowledge_timestamp</th>\n",
       "      <th>currency_pair</th>\n",
       "      <th>year</th>\n",
       "      <th>month</th>\n",
       "    </tr>\n",
       "    <tr>\n",
       "      <th>timestamp</th>\n",
       "      <th></th>\n",
       "      <th></th>\n",
       "      <th></th>\n",
       "      <th></th>\n",
       "      <th></th>\n",
       "      <th></th>\n",
       "      <th></th>\n",
       "      <th></th>\n",
       "      <th></th>\n",
       "      <th></th>\n",
       "    </tr>\n",
       "  </thead>\n",
       "  <tbody>\n",
       "    <tr>\n",
       "      <th>2022-11-02 23:59:59+00:00</th>\n",
       "      <td>1667433599</td>\n",
       "      <td>20140.10</td>\n",
       "      <td>0.601</td>\n",
       "      <td>20140.20</td>\n",
       "      <td>46.424</td>\n",
       "      <td>binance</td>\n",
       "      <td>2022-11-03 10:26:53.678899+00:00</td>\n",
       "      <td>BTC_USDT</td>\n",
       "      <td>2022</td>\n",
       "      <td>11</td>\n",
       "    </tr>\n",
       "    <tr>\n",
       "      <th>2022-11-02 23:59:59+00:00</th>\n",
       "      <td>1667433599</td>\n",
       "      <td>1517.26</td>\n",
       "      <td>27.252</td>\n",
       "      <td>1517.27</td>\n",
       "      <td>99.616</td>\n",
       "      <td>binance</td>\n",
       "      <td>2022-11-03 10:27:31.075059+00:00</td>\n",
       "      <td>ETH_USDT</td>\n",
       "      <td>2022</td>\n",
       "      <td>11</td>\n",
       "    </tr>\n",
       "  </tbody>\n",
       "</table>\n",
       "</div>"
      ],
      "text/plain": [
       "                            timestamp  bid_price  bid_size  ask_price  ask_size exchange_id              knowledge_timestamp currency_pair  year  month\n",
       "timestamp                                                                                                                                              \n",
       "2022-11-02 23:59:59+00:00  1667433599   20140.10     0.601   20140.20    46.424     binance 2022-11-03 10:26:53.678899+00:00      BTC_USDT  2022     11\n",
       "2022-11-02 23:59:59+00:00  1667433599    1517.26    27.252    1517.27    99.616     binance 2022-11-03 10:27:31.075059+00:00      ETH_USDT  2022     11"
      ]
     },
     "metadata": {},
     "output_type": "display_data"
<<<<<<< HEAD
=======
    },
    {
     "name": "stdout",
     "output_type": "stream",
     "text": [
      "50805148 rows overall\n"
     ]
>>>>>>> master
    }
   ],
   "source": [
    "s3_path = \"s3://cryptokaizen-data/reorg/daily_staged.airflow.pq/bid_ask-futures/crypto_chassis/binance\"\n",
    "start_ts = \"20220627-000000\"\n",
    "end_ts = \"20221130-000000\"\n",
    "process_s3_data_in_chunks(start_ts, end_ts, s3_path, 3)"
   ]
  },
  {
   "cell_type": "markdown",
   "id": "d9bbb51e",
   "metadata": {},
   "source": [
<<<<<<< HEAD
    "## bulk.airflow.downloaded_EOD.parquet.bid_ask.futures.1_min.universe_v3_0.crypto_chassis.binance.v1_0"
=======
    "## historical.daily.parquet.bid_ask.futures.1_min.crypto_chassis.binance"
>>>>>>> master
   ]
  },
  {
   "cell_type": "code",
<<<<<<< HEAD
   "execution_count": 6,
   "id": "3996ad84",
   "metadata": {
    "ExecuteTime": {
     "end_time": "2022-12-02T12:47:13.676853Z",
     "start_time": "2022-12-02T12:47:12.665644Z"
=======
   "execution_count": 34,
   "id": "3996ad84",
   "metadata": {
    "ExecuteTime": {
     "end_time": "2022-11-25T14:45:15.846467Z",
     "start_time": "2022-11-25T14:45:15.070762Z"
>>>>>>> master
    }
   },
   "outputs": [
    {
<<<<<<< HEAD
=======
     "name": "stdout",
     "output_type": "stream",
     "text": [
      "INFO  285120 rows overall\n"
     ]
    },
    {
>>>>>>> master
     "data": {
      "text/html": [
       "<div>\n",
       "<style scoped>\n",
       "    .dataframe tbody tr th:only-of-type {\n",
       "        vertical-align: middle;\n",
       "    }\n",
       "\n",
       "    .dataframe tbody tr th {\n",
       "        vertical-align: top;\n",
       "    }\n",
       "\n",
       "    .dataframe thead th {\n",
       "        text-align: right;\n",
       "    }\n",
       "</style>\n",
       "<table border=\"1\" class=\"dataframe\">\n",
       "  <thead>\n",
       "    <tr style=\"text-align: right;\">\n",
       "      <th></th>\n",
       "      <th>timestamp</th>\n",
       "      <th>bid_price</th>\n",
       "      <th>bid_size</th>\n",
       "      <th>ask_price</th>\n",
       "      <th>ask_size</th>\n",
       "      <th>exchange_id</th>\n",
       "      <th>currency_pair</th>\n",
       "      <th>year</th>\n",
       "      <th>month</th>\n",
       "    </tr>\n",
       "  </thead>\n",
       "  <tbody>\n",
       "    <tr>\n",
       "      <th>2022-11-03 00:00:00+00:00</th>\n",
       "      <td>1667433600</td>\n",
       "      <td>0.38503</td>\n",
       "      <td>4734217.0</td>\n",
       "      <td>0.385116</td>\n",
       "      <td>5721881.0</td>\n",
       "      <td>binance</td>\n",
       "      <td>ADA_USDT</td>\n",
       "      <td>2022</td>\n",
       "      <td>11</td>\n",
       "    </tr>\n",
       "    <tr>\n",
       "      <th>2022-11-03 00:01:00+00:00</th>\n",
       "      <td>1667433660</td>\n",
       "      <td>0.385094</td>\n",
       "      <td>6584631.0</td>\n",
       "      <td>0.385163</td>\n",
       "      <td>4595196.0</td>\n",
       "      <td>binance</td>\n",
       "      <td>ADA_USDT</td>\n",
       "      <td>2022</td>\n",
       "      <td>11</td>\n",
       "    </tr>\n",
       "    <tr>\n",
       "      <th>2022-11-03 00:02:00+00:00</th>\n",
       "      <td>1667433720</td>\n",
       "      <td>0.384492</td>\n",
       "      <td>4732063.0</td>\n",
       "      <td>0.384567</td>\n",
       "      <td>5406159.0</td>\n",
       "      <td>binance</td>\n",
       "      <td>ADA_USDT</td>\n",
       "      <td>2022</td>\n",
       "      <td>11</td>\n",
       "    </tr>\n",
       "    <tr>\n",
       "      <th></th>\n",
       "      <td>...</td>\n",
       "      <td>...</td>\n",
       "      <td>...</td>\n",
       "      <td>...</td>\n",
       "      <td>...</td>\n",
       "      <td>...</td>\n",
       "      <td>...</td>\n",
       "      <td>...</td>\n",
       "      <td>...</td>\n",
       "    </tr>\n",
       "    <tr>\n",
<<<<<<< HEAD
       "      <th>2022-12-01 23:57:00+00:00</th>\n",
       "      <td>1669939020</td>\n",
       "      <td>0.3961</td>\n",
       "      <td>7411789.5</td>\n",
       "      <td>0.3962</td>\n",
       "      <td>1165984.6</td>\n",
       "      <td>binance</td>\n",
       "      <td>XRP_USDT</td>\n",
       "      <td>2022</td>\n",
       "      <td>12</td>\n",
       "    </tr>\n",
       "    <tr>\n",
       "      <th>2022-12-01 23:58:00+00:00</th>\n",
       "      <td>1669939080</td>\n",
       "      <td>0.396394</td>\n",
       "      <td>5981888.1</td>\n",
       "      <td>0.396532</td>\n",
       "      <td>6041480.2</td>\n",
       "      <td>binance</td>\n",
       "      <td>XRP_USDT</td>\n",
       "      <td>2022</td>\n",
       "      <td>12</td>\n",
       "    </tr>\n",
       "    <tr>\n",
       "      <th>2022-12-01 23:59:00+00:00</th>\n",
       "      <td>1669939140</td>\n",
       "      <td>0.396448</td>\n",
       "      <td>3920346.5</td>\n",
       "      <td>0.396567</td>\n",
       "      <td>6888806.7</td>\n",
       "      <td>binance</td>\n",
       "      <td>XRP_USDT</td>\n",
       "      <td>2022</td>\n",
       "      <td>12</td>\n",
=======
       "      <th>2022-11-24 23:57:00+00:00</th>\n",
       "      <td>1669334220</td>\n",
       "      <td>0.402018</td>\n",
       "      <td>4690103.6</td>\n",
       "      <td>0.402168</td>\n",
       "      <td>4696853.1</td>\n",
       "      <td>binance</td>\n",
       "      <td>XRP_USDT</td>\n",
       "      <td>2022</td>\n",
       "      <td>11</td>\n",
       "    </tr>\n",
       "    <tr>\n",
       "      <th>2022-11-24 23:58:00+00:00</th>\n",
       "      <td>1669334280</td>\n",
       "      <td>0.402283</td>\n",
       "      <td>3276327.2</td>\n",
       "      <td>0.402382</td>\n",
       "      <td>4861798.4</td>\n",
       "      <td>binance</td>\n",
       "      <td>XRP_USDT</td>\n",
       "      <td>2022</td>\n",
       "      <td>11</td>\n",
       "    </tr>\n",
       "    <tr>\n",
       "      <th>2022-11-24 23:59:00+00:00</th>\n",
       "      <td>1669334340</td>\n",
       "      <td>0.40189</td>\n",
       "      <td>3717447.3</td>\n",
       "      <td>0.401889</td>\n",
       "      <td>3579336.9</td>\n",
       "      <td>binance</td>\n",
       "      <td>XRP_USDT</td>\n",
       "      <td>2022</td>\n",
       "      <td>11</td>\n",
>>>>>>> master
       "    </tr>\n",
       "  </tbody>\n",
       "</table>\n",
       "</div>"
      ],
      "text/plain": [
       "                            timestamp bid_price   bid_size ask_price   ask_size exchange_id currency_pair  year month\n",
       "2022-11-03 00:00:00+00:00  1667433600   0.38503  4734217.0  0.385116  5721881.0     binance      ADA_USDT  2022    11\n",
       "2022-11-03 00:01:00+00:00  1667433660  0.385094  6584631.0  0.385163  4595196.0     binance      ADA_USDT  2022    11\n",
       "2022-11-03 00:02:00+00:00  1667433720  0.384492  4732063.0  0.384567  5406159.0     binance      ADA_USDT  2022    11\n",
       "                                  ...       ...        ...       ...        ...         ...           ...   ...   ...\n",
<<<<<<< HEAD
       "2022-12-01 23:57:00+00:00  1669939020    0.3961  7411789.5    0.3962  1165984.6     binance      XRP_USDT  2022    12\n",
       "2022-12-01 23:58:00+00:00  1669939080  0.396394  5981888.1  0.396532  6041480.2     binance      XRP_USDT  2022    12\n",
       "2022-12-01 23:59:00+00:00  1669939140  0.396448  3920346.5  0.396567  6888806.7     binance      XRP_USDT  2022    12"
=======
       "2022-11-24 23:57:00+00:00  1669334220  0.402018  4690103.6  0.402168  4696853.1     binance      XRP_USDT  2022    11\n",
       "2022-11-24 23:58:00+00:00  1669334280  0.402283  3276327.2  0.402382  4861798.4     binance      XRP_USDT  2022    11\n",
       "2022-11-24 23:59:00+00:00  1669334340   0.40189  3717447.3  0.401889  3579336.9     binance      XRP_USDT  2022    11"
>>>>>>> master
      ]
     },
     "metadata": {},
     "output_type": "display_data"
    },
    {
     "name": "stdout",
     "output_type": "stream",
     "text": [
      "INFO  None\n"
     ]
    }
   ],
   "source": [
    "s3_path = \"s3://cryptokaizen-data/reorg/daily_staged.airflow.pq/bid_ask-futures/crypto_chassis.resampled_1min/binance\"\n",
    "# Load daily data from s3 parquet.\n",
    "cc_ba_futures_resampled = hparque.from_parquet(s3_path, aws_profile=\"ck\")\n",
<<<<<<< HEAD
=======
    "_LOG.info(f\"{len(cc_ba_futures_resampled)} rows overall\")\n",
>>>>>>> master
    "_LOG.log(\n",
    "    log_level, hpandas.df_to_str(cc_ba_futures_resampled, log_level=log_level)\n",
    ")"
   ]
  },
  {
   "cell_type": "markdown",
   "id": "49b0a2b9",
   "metadata": {},
   "source": [
<<<<<<< HEAD
    "## bulk.airflow.downloaded_EOD.parquet.bid_ask.spot.1_sec.universe_v3.crypto_chassis.binance.v1_0"
=======
    "## historical.daily.parquet.bid_ask.spot.1_sec.crypto_chassis.binance"
>>>>>>> master
   ]
  },
  {
   "cell_type": "code",
<<<<<<< HEAD
   "execution_count": 4,
   "id": "d6abde07",
   "metadata": {
    "ExecuteTime": {
     "end_time": "2022-12-02T12:48:41.986979Z",
     "start_time": "2022-12-02T12:48:10.971124Z"
=======
   "execution_count": 6,
   "id": "d6abde07",
   "metadata": {
    "ExecuteTime": {
     "end_time": "2022-11-28T11:09:41.788509Z",
     "start_time": "2022-11-28T11:09:13.749631Z"
>>>>>>> master
    }
   },
   "outputs": [
    {
     "name": "stdout",
     "output_type": "stream",
     "text": [
      "INFO  Loading data for the period of 5-7 months\n",
      "INFO  Head:\n"
     ]
    },
    {
     "data": {
      "text/html": [
       "<div>\n",
       "<style scoped>\n",
       "    .dataframe tbody tr th:only-of-type {\n",
       "        vertical-align: middle;\n",
       "    }\n",
       "\n",
       "    .dataframe tbody tr th {\n",
       "        vertical-align: top;\n",
       "    }\n",
       "\n",
       "    .dataframe thead th {\n",
       "        text-align: right;\n",
       "    }\n",
       "</style>\n",
       "<table border=\"1\" class=\"dataframe\">\n",
       "  <thead>\n",
       "    <tr style=\"text-align: right;\">\n",
       "      <th></th>\n",
       "      <th>timestamp</th>\n",
       "      <th>bid_price</th>\n",
       "      <th>bid_size</th>\n",
       "      <th>ask_price</th>\n",
       "      <th>ask_size</th>\n",
       "      <th>exchange_id</th>\n",
       "      <th>knowledge_timestamp</th>\n",
       "      <th>currency_pair</th>\n",
       "      <th>year</th>\n",
       "      <th>month</th>\n",
       "    </tr>\n",
       "    <tr>\n",
       "      <th>timestamp</th>\n",
       "      <th></th>\n",
       "      <th></th>\n",
       "      <th></th>\n",
       "      <th></th>\n",
       "      <th></th>\n",
       "      <th></th>\n",
       "      <th></th>\n",
       "      <th></th>\n",
       "      <th></th>\n",
       "      <th></th>\n",
       "    </tr>\n",
       "  </thead>\n",
       "  <tbody>\n",
       "    <tr>\n",
       "      <th>2022-05-01 00:00:00+00:00</th>\n",
       "      <td>1651363200</td>\n",
       "      <td>0.7555</td>\n",
       "      <td>15947.3</td>\n",
       "      <td>0.7556</td>\n",
       "      <td>7951.8</td>\n",
       "      <td>binance</td>\n",
       "      <td>2022-06-16 20:49:28.479175+00:00</td>\n",
       "      <td>ADA_USDT</td>\n",
       "      <td>2022</td>\n",
       "      <td>5</td>\n",
       "    </tr>\n",
       "    <tr>\n",
       "      <th>2022-05-01 00:00:00+00:00</th>\n",
       "      <td>1651363200</td>\n",
       "      <td>0.1273</td>\n",
       "      <td>304935.0</td>\n",
       "      <td>0.1274</td>\n",
       "      <td>593581.0</td>\n",
       "      <td>binance</td>\n",
       "      <td>2022-06-16 20:58:26.457202+00:00</td>\n",
       "      <td>DOGE_USDT</td>\n",
       "      <td>2022</td>\n",
       "      <td>5</td>\n",
       "    </tr>\n",
       "  </tbody>\n",
       "</table>\n",
       "</div>"
      ],
      "text/plain": [
       "                            timestamp  bid_price  bid_size  ask_price  ask_size exchange_id              knowledge_timestamp currency_pair  year  month\n",
       "timestamp                                                                                                                                              \n",
       "2022-05-01 00:00:00+00:00  1651363200     0.7555   15947.3     0.7556    7951.8     binance 2022-06-16 20:49:28.479175+00:00      ADA_USDT  2022      5\n",
       "2022-05-01 00:00:00+00:00  1651363200     0.1273  304935.0     0.1274  593581.0     binance 2022-06-16 20:58:26.457202+00:00     DOGE_USDT  2022      5"
      ]
     },
     "metadata": {},
     "output_type": "display_data"
    },
    {
     "name": "stdout",
     "output_type": "stream",
     "text": [
      "INFO  Tail:\n"
     ]
    },
    {
     "data": {
      "text/html": [
       "<div>\n",
       "<style scoped>\n",
       "    .dataframe tbody tr th:only-of-type {\n",
       "        vertical-align: middle;\n",
       "    }\n",
       "\n",
       "    .dataframe tbody tr th {\n",
       "        vertical-align: top;\n",
       "    }\n",
       "\n",
       "    .dataframe thead th {\n",
       "        text-align: right;\n",
       "    }\n",
       "</style>\n",
       "<table border=\"1\" class=\"dataframe\">\n",
       "  <thead>\n",
       "    <tr style=\"text-align: right;\">\n",
       "      <th></th>\n",
       "      <th>timestamp</th>\n",
       "      <th>bid_price</th>\n",
       "      <th>bid_size</th>\n",
       "      <th>ask_price</th>\n",
       "      <th>ask_size</th>\n",
       "      <th>exchange_id</th>\n",
       "      <th>knowledge_timestamp</th>\n",
       "      <th>currency_pair</th>\n",
       "      <th>year</th>\n",
       "      <th>month</th>\n",
       "    </tr>\n",
       "    <tr>\n",
       "      <th>timestamp</th>\n",
       "      <th></th>\n",
       "      <th></th>\n",
       "      <th></th>\n",
       "      <th></th>\n",
       "      <th></th>\n",
       "      <th></th>\n",
       "      <th></th>\n",
       "      <th></th>\n",
       "      <th></th>\n",
       "      <th></th>\n",
       "    </tr>\n",
       "  </thead>\n",
       "  <tbody>\n",
       "    <tr>\n",
       "      <th>2022-07-24 23:59:58+00:00</th>\n",
       "      <td>1658707198</td>\n",
       "      <td>0.5119</td>\n",
       "      <td>2029.2</td>\n",
       "      <td>0.512</td>\n",
       "      <td>42826.2</td>\n",
       "      <td>binance</td>\n",
       "      <td>2022-07-26 00:26:45.011416+00:00</td>\n",
       "      <td>ADA_USDT</td>\n",
       "      <td>2022</td>\n",
       "      <td>7</td>\n",
       "    </tr>\n",
       "    <tr>\n",
       "      <th>2022-07-24 23:59:59+00:00</th>\n",
       "      <td>1658707199</td>\n",
       "      <td>0.5119</td>\n",
       "      <td>12780.5</td>\n",
       "      <td>0.512</td>\n",
       "      <td>11844.7</td>\n",
       "      <td>binance</td>\n",
       "      <td>2022-07-26 00:26:45.011416+00:00</td>\n",
       "      <td>ADA_USDT</td>\n",
       "      <td>2022</td>\n",
       "      <td>7</td>\n",
       "    </tr>\n",
       "  </tbody>\n",
       "</table>\n",
       "</div>"
      ],
      "text/plain": [
       "                            timestamp  bid_price  bid_size  ask_price  ask_size exchange_id              knowledge_timestamp currency_pair  year  month\n",
       "timestamp                                                                                                                                              \n",
       "2022-07-24 23:59:58+00:00  1658707198     0.5119    2029.2      0.512   42826.2     binance 2022-07-26 00:26:45.011416+00:00      ADA_USDT  2022      7\n",
       "2022-07-24 23:59:59+00:00  1658707199     0.5119   12780.5      0.512   11844.7     binance 2022-07-26 00:26:45.011416+00:00      ADA_USDT  2022      7"
      ]
     },
     "metadata": {},
     "output_type": "display_data"
    },
    {
     "name": "stdout",
     "output_type": "stream",
     "text": [
      "INFO  Loading data for the period of 8-10 months\n",
      "INFO  Head:\n"
     ]
    },
    {
     "data": {
      "text/html": [
       "<div>\n",
       "<style scoped>\n",
       "    .dataframe tbody tr th:only-of-type {\n",
       "        vertical-align: middle;\n",
       "    }\n",
       "\n",
       "    .dataframe tbody tr th {\n",
       "        vertical-align: top;\n",
       "    }\n",
       "\n",
       "    .dataframe thead th {\n",
       "        text-align: right;\n",
       "    }\n",
       "</style>\n",
       "<table border=\"1\" class=\"dataframe\">\n",
       "  <thead>\n",
       "    <tr style=\"text-align: right;\">\n",
       "      <th></th>\n",
       "      <th>timestamp</th>\n",
       "      <th>bid_price</th>\n",
       "      <th>bid_size</th>\n",
       "      <th>ask_price</th>\n",
       "      <th>ask_size</th>\n",
       "      <th>exchange_id</th>\n",
       "      <th>knowledge_timestamp</th>\n",
       "      <th>currency_pair</th>\n",
       "      <th>year</th>\n",
       "      <th>month</th>\n",
       "    </tr>\n",
       "    <tr>\n",
       "      <th>timestamp</th>\n",
       "      <th></th>\n",
       "      <th></th>\n",
       "      <th></th>\n",
       "      <th></th>\n",
       "      <th></th>\n",
       "      <th></th>\n",
       "      <th></th>\n",
       "      <th></th>\n",
       "      <th></th>\n",
       "      <th></th>\n",
       "    </tr>\n",
       "  </thead>\n",
       "  <tbody>\n",
       "    <tr>\n",
       "      <th>2022-08-07 00:00:00+00:00</th>\n",
       "      <td>1659830400</td>\n",
       "      <td>0.5113</td>\n",
       "      <td>62.2</td>\n",
       "      <td>0.5114</td>\n",
       "      <td>32076.1</td>\n",
       "      <td>binance</td>\n",
       "      <td>2022-08-09 00:26:47.349488+00:00</td>\n",
       "      <td>ADA_USDT</td>\n",
       "      <td>2022</td>\n",
       "      <td>8</td>\n",
       "    </tr>\n",
       "    <tr>\n",
       "      <th>2022-08-07 00:00:00+00:00</th>\n",
       "      <td>1659830400</td>\n",
       "      <td>1.2260</td>\n",
       "      <td>431.1</td>\n",
       "      <td>1.2270</td>\n",
       "      <td>17731.6</td>\n",
       "      <td>binance</td>\n",
       "      <td>2022-08-09 00:27:38.469161+00:00</td>\n",
       "      <td>EOS_USDT</td>\n",
       "      <td>2022</td>\n",
       "      <td>8</td>\n",
       "    </tr>\n",
       "  </tbody>\n",
       "</table>\n",
       "</div>"
      ],
      "text/plain": [
       "                            timestamp  bid_price  bid_size  ask_price  ask_size exchange_id              knowledge_timestamp currency_pair  year  month\n",
       "timestamp                                                                                                                                              \n",
       "2022-08-07 00:00:00+00:00  1659830400     0.5113      62.2     0.5114   32076.1     binance 2022-08-09 00:26:47.349488+00:00      ADA_USDT  2022      8\n",
       "2022-08-07 00:00:00+00:00  1659830400     1.2260     431.1     1.2270   17731.6     binance 2022-08-09 00:27:38.469161+00:00      EOS_USDT  2022      8"
      ]
     },
     "metadata": {},
     "output_type": "display_data"
    },
    {
     "name": "stdout",
     "output_type": "stream",
     "text": [
      "INFO  Tail:\n"
     ]
    },
    {
     "data": {
      "text/html": [
       "<div>\n",
       "<style scoped>\n",
       "    .dataframe tbody tr th:only-of-type {\n",
       "        vertical-align: middle;\n",
       "    }\n",
       "\n",
       "    .dataframe tbody tr th {\n",
       "        vertical-align: top;\n",
       "    }\n",
       "\n",
       "    .dataframe thead th {\n",
       "        text-align: right;\n",
       "    }\n",
       "</style>\n",
       "<table border=\"1\" class=\"dataframe\">\n",
       "  <thead>\n",
       "    <tr style=\"text-align: right;\">\n",
       "      <th></th>\n",
       "      <th>timestamp</th>\n",
       "      <th>bid_price</th>\n",
       "      <th>bid_size</th>\n",
       "      <th>ask_price</th>\n",
       "      <th>ask_size</th>\n",
       "      <th>exchange_id</th>\n",
       "      <th>knowledge_timestamp</th>\n",
       "      <th>currency_pair</th>\n",
       "      <th>year</th>\n",
       "      <th>month</th>\n",
       "    </tr>\n",
       "    <tr>\n",
       "      <th>timestamp</th>\n",
       "      <th></th>\n",
       "      <th></th>\n",
       "      <th></th>\n",
       "      <th></th>\n",
       "      <th></th>\n",
       "      <th></th>\n",
       "      <th></th>\n",
       "      <th></th>\n",
       "      <th></th>\n",
       "      <th></th>\n",
       "    </tr>\n",
       "  </thead>\n",
       "  <tbody>\n",
       "    <tr>\n",
       "      <th>2022-10-31 23:59:59+00:00</th>\n",
       "      <td>1667260799</td>\n",
       "      <td>1572.69</td>\n",
       "      <td>36.96120</td>\n",
       "      <td>1572.70</td>\n",
       "      <td>42.51450</td>\n",
       "      <td>binance</td>\n",
       "      <td>2022-11-01 10:27:46.634092+00:00</td>\n",
       "      <td>ETH_USDT</td>\n",
       "      <td>2022</td>\n",
       "      <td>10</td>\n",
       "    </tr>\n",
       "    <tr>\n",
       "      <th>2022-10-31 23:59:59+00:00</th>\n",
       "      <td>1667260799</td>\n",
       "      <td>20491.69</td>\n",
       "      <td>0.50244</td>\n",
       "      <td>20492.61</td>\n",
       "      <td>0.01264</td>\n",
       "      <td>binance</td>\n",
       "      <td>2022-11-01 10:26:59.097147+00:00</td>\n",
       "      <td>BTC_USDT</td>\n",
       "      <td>2022</td>\n",
       "      <td>10</td>\n",
       "    </tr>\n",
       "  </tbody>\n",
       "</table>\n",
       "</div>"
      ],
      "text/plain": [
       "                            timestamp  bid_price  bid_size  ask_price  ask_size exchange_id              knowledge_timestamp currency_pair  year  month\n",
       "timestamp                                                                                                                                              \n",
       "2022-10-31 23:59:59+00:00  1667260799    1572.69  36.96120    1572.70  42.51450     binance 2022-11-01 10:27:46.634092+00:00      ETH_USDT  2022     10\n",
       "2022-10-31 23:59:59+00:00  1667260799   20491.69   0.50244   20492.61   0.01264     binance 2022-11-01 10:26:59.097147+00:00      BTC_USDT  2022     10"
      ]
     },
     "metadata": {},
     "output_type": "display_data"
    },
    {
     "name": "stdout",
     "output_type": "stream",
     "text": [
      "INFO  Loading data for the month 11\n",
      "INFO  Head:\n"
     ]
    },
    {
     "data": {
      "text/html": [
       "<div>\n",
       "<style scoped>\n",
       "    .dataframe tbody tr th:only-of-type {\n",
       "        vertical-align: middle;\n",
       "    }\n",
       "\n",
       "    .dataframe tbody tr th {\n",
       "        vertical-align: top;\n",
       "    }\n",
       "\n",
       "    .dataframe thead th {\n",
       "        text-align: right;\n",
       "    }\n",
       "</style>\n",
       "<table border=\"1\" class=\"dataframe\">\n",
       "  <thead>\n",
       "    <tr style=\"text-align: right;\">\n",
       "      <th></th>\n",
       "      <th>timestamp</th>\n",
       "      <th>bid_price</th>\n",
       "      <th>bid_size</th>\n",
       "      <th>ask_price</th>\n",
       "      <th>ask_size</th>\n",
       "      <th>exchange_id</th>\n",
       "      <th>knowledge_timestamp</th>\n",
       "      <th>currency_pair</th>\n",
       "      <th>year</th>\n",
       "      <th>month</th>\n",
       "    </tr>\n",
       "    <tr>\n",
       "      <th>timestamp</th>\n",
       "      <th></th>\n",
       "      <th></th>\n",
       "      <th></th>\n",
       "      <th></th>\n",
       "      <th></th>\n",
       "      <th></th>\n",
       "      <th></th>\n",
       "      <th></th>\n",
       "      <th></th>\n",
       "      <th></th>\n",
       "    </tr>\n",
       "  </thead>\n",
       "  <tbody>\n",
       "    <tr>\n",
       "      <th>2022-11-01 00:00:00+00:00</th>\n",
       "      <td>1667260800</td>\n",
       "      <td>0.4055</td>\n",
       "      <td>6378.60</td>\n",
       "      <td>0.4056</td>\n",
       "      <td>34052.800</td>\n",
       "      <td>binance</td>\n",
       "      <td>2022-11-02 10:26:22.657954+00:00</td>\n",
       "      <td>ADA_USDT</td>\n",
       "      <td>2022</td>\n",
       "      <td>11</td>\n",
       "    </tr>\n",
       "    <tr>\n",
       "      <th>2022-11-01 00:00:00+00:00</th>\n",
       "      <td>1667260800</td>\n",
       "      <td>325.7000</td>\n",
       "      <td>341.49</td>\n",
       "      <td>325.8000</td>\n",
       "      <td>173.178</td>\n",
       "      <td>binance</td>\n",
       "      <td>2022-11-02 10:26:34.575979+00:00</td>\n",
       "      <td>BNB_USDT</td>\n",
       "      <td>2022</td>\n",
       "      <td>11</td>\n",
       "    </tr>\n",
       "  </tbody>\n",
       "</table>\n",
       "</div>"
      ],
      "text/plain": [
       "                            timestamp  bid_price  bid_size  ask_price   ask_size exchange_id              knowledge_timestamp currency_pair  year  month\n",
       "timestamp                                                                                                                                               \n",
       "2022-11-01 00:00:00+00:00  1667260800     0.4055   6378.60     0.4056  34052.800     binance 2022-11-02 10:26:22.657954+00:00      ADA_USDT  2022     11\n",
       "2022-11-01 00:00:00+00:00  1667260800   325.7000    341.49   325.8000    173.178     binance 2022-11-02 10:26:34.575979+00:00      BNB_USDT  2022     11"
      ]
     },
     "metadata": {},
     "output_type": "display_data"
    },
    {
     "name": "stdout",
     "output_type": "stream",
     "text": [
      "INFO  Tail:\n"
     ]
    },
    {
     "data": {
      "text/html": [
       "<div>\n",
       "<style scoped>\n",
       "    .dataframe tbody tr th:only-of-type {\n",
       "        vertical-align: middle;\n",
       "    }\n",
       "\n",
       "    .dataframe tbody tr th {\n",
       "        vertical-align: top;\n",
       "    }\n",
       "\n",
       "    .dataframe thead th {\n",
       "        text-align: right;\n",
       "    }\n",
       "</style>\n",
       "<table border=\"1\" class=\"dataframe\">\n",
       "  <thead>\n",
       "    <tr style=\"text-align: right;\">\n",
       "      <th></th>\n",
       "      <th>timestamp</th>\n",
       "      <th>bid_price</th>\n",
       "      <th>bid_size</th>\n",
       "      <th>ask_price</th>\n",
       "      <th>ask_size</th>\n",
       "      <th>exchange_id</th>\n",
       "      <th>knowledge_timestamp</th>\n",
       "      <th>currency_pair</th>\n",
       "      <th>year</th>\n",
       "      <th>month</th>\n",
       "    </tr>\n",
       "    <tr>\n",
       "      <th>timestamp</th>\n",
       "      <th></th>\n",
       "      <th></th>\n",
       "      <th></th>\n",
       "      <th></th>\n",
       "      <th></th>\n",
       "      <th></th>\n",
       "      <th></th>\n",
       "      <th></th>\n",
       "      <th></th>\n",
       "      <th></th>\n",
       "    </tr>\n",
       "  </thead>\n",
       "  <tbody>\n",
       "    <tr>\n",
       "      <th>2022-11-02 23:59:59+00:00</th>\n",
       "      <td>1667433599</td>\n",
       "      <td>20150.24</td>\n",
       "      <td>0.00858</td>\n",
       "      <td>20151.64</td>\n",
       "      <td>0.04</td>\n",
       "      <td>binance</td>\n",
       "      <td>2022-11-03 10:26:44.982299+00:00</td>\n",
       "      <td>BTC_USDT</td>\n",
       "      <td>2022</td>\n",
       "      <td>11</td>\n",
       "    </tr>\n",
       "    <tr>\n",
       "      <th>2022-11-02 23:59:59+00:00</th>\n",
       "      <td>1667433599</td>\n",
       "      <td>30.80</td>\n",
       "      <td>1052.04000</td>\n",
       "      <td>30.81</td>\n",
       "      <td>535.29</td>\n",
       "      <td>binance</td>\n",
       "      <td>2022-11-03 10:27:22.670331+00:00</td>\n",
       "      <td>SOL_USDT</td>\n",
       "      <td>2022</td>\n",
       "      <td>11</td>\n",
       "    </tr>\n",
       "  </tbody>\n",
       "</table>\n",
       "</div>"
      ],
      "text/plain": [
       "                            timestamp  bid_price    bid_size  ask_price  ask_size exchange_id              knowledge_timestamp currency_pair  year  month\n",
       "timestamp                                                                                                                                                \n",
       "2022-11-02 23:59:59+00:00  1667433599   20150.24     0.00858   20151.64      0.04     binance 2022-11-03 10:26:44.982299+00:00      BTC_USDT  2022     11\n",
       "2022-11-02 23:59:59+00:00  1667433599      30.80  1052.04000      30.81    535.29     binance 2022-11-03 10:27:22.670331+00:00      SOL_USDT  2022     11"
      ]
     },
     "metadata": {},
     "output_type": "display_data"
<<<<<<< HEAD
=======
    },
    {
     "name": "stdout",
     "output_type": "stream",
     "text": [
      "72179727 rows overall\n"
     ]
>>>>>>> master
    }
   ],
   "source": [
    "s3_path = \"s3://cryptokaizen-data/reorg/daily_staged.airflow.pq/bid_ask/crypto_chassis/binance\"\n",
    "start_ts = \"20220501-000000\"\n",
    "end_ts = \"20221130-000000\"\n",
    "process_s3_data_in_chunks(start_ts, end_ts, s3_path, 3)"
   ]
  },
  {
   "cell_type": "markdown",
   "id": "bfbe9bf5",
   "metadata": {},
   "source": [
<<<<<<< HEAD
    "## bulk.airflow.downloaded_EOD.parquet.bid_ask.spot.1_min.universe_v3_0.crypto_chassis.binance.v1_0"
=======
    "## historical.daily.parquet.bid_ask.spot.1_min.crypto_chassis.binance"
>>>>>>> master
   ]
  },
  {
   "cell_type": "code",
<<<<<<< HEAD
   "execution_count": 7,
   "id": "221eea3c",
   "metadata": {
    "ExecuteTime": {
     "end_time": "2022-12-02T12:47:23.229437Z",
     "start_time": "2022-12-02T12:47:22.292969Z"
=======
   "execution_count": 35,
   "id": "221eea3c",
   "metadata": {
    "ExecuteTime": {
     "end_time": "2022-11-25T14:45:47.223681Z",
     "start_time": "2022-11-25T14:45:46.399710Z"
>>>>>>> master
    }
   },
   "outputs": [
    {
<<<<<<< HEAD
=======
     "name": "stdout",
     "output_type": "stream",
     "text": [
      "INFO  285120 rows overall\n"
     ]
    },
    {
>>>>>>> master
     "data": {
      "text/html": [
       "<div>\n",
       "<style scoped>\n",
       "    .dataframe tbody tr th:only-of-type {\n",
       "        vertical-align: middle;\n",
       "    }\n",
       "\n",
       "    .dataframe tbody tr th {\n",
       "        vertical-align: top;\n",
       "    }\n",
       "\n",
       "    .dataframe thead th {\n",
       "        text-align: right;\n",
       "    }\n",
       "</style>\n",
       "<table border=\"1\" class=\"dataframe\">\n",
       "  <thead>\n",
       "    <tr style=\"text-align: right;\">\n",
       "      <th></th>\n",
       "      <th>timestamp</th>\n",
       "      <th>bid_price</th>\n",
       "      <th>bid_size</th>\n",
       "      <th>ask_price</th>\n",
       "      <th>ask_size</th>\n",
       "      <th>exchange_id</th>\n",
       "      <th>currency_pair</th>\n",
       "      <th>year</th>\n",
       "      <th>month</th>\n",
       "    </tr>\n",
       "  </thead>\n",
       "  <tbody>\n",
       "    <tr>\n",
       "      <th>2022-11-03 00:00:00+00:00</th>\n",
       "      <td>1667433600</td>\n",
       "      <td>0.38536</td>\n",
       "      <td>835093.8</td>\n",
       "      <td>0.385497</td>\n",
       "      <td>4065953.2</td>\n",
       "      <td>binance</td>\n",
       "      <td>ADA_USDT</td>\n",
       "      <td>2022</td>\n",
       "      <td>11</td>\n",
       "    </tr>\n",
       "    <tr>\n",
       "      <th>2022-11-03 00:01:00+00:00</th>\n",
       "      <td>1667433660</td>\n",
       "      <td>0.385413</td>\n",
       "      <td>938423.6</td>\n",
       "      <td>0.385534</td>\n",
       "      <td>2661548.0</td>\n",
       "      <td>binance</td>\n",
       "      <td>ADA_USDT</td>\n",
       "      <td>2022</td>\n",
       "      <td>11</td>\n",
       "    </tr>\n",
       "    <tr>\n",
       "      <th>2022-11-03 00:02:00+00:00</th>\n",
       "      <td>1667433720</td>\n",
       "      <td>0.384836</td>\n",
       "      <td>364347.0</td>\n",
       "      <td>0.384983</td>\n",
       "      <td>1346459.2</td>\n",
       "      <td>binance</td>\n",
       "      <td>ADA_USDT</td>\n",
       "      <td>2022</td>\n",
       "      <td>11</td>\n",
       "    </tr>\n",
       "    <tr>\n",
       "      <th></th>\n",
       "      <td>...</td>\n",
       "      <td>...</td>\n",
       "      <td>...</td>\n",
       "      <td>...</td>\n",
       "      <td>...</td>\n",
       "      <td>...</td>\n",
       "      <td>...</td>\n",
       "      <td>...</td>\n",
       "      <td>...</td>\n",
       "    </tr>\n",
       "    <tr>\n",
<<<<<<< HEAD
       "      <th>2022-12-01 00:28:00+00:00</th>\n",
       "      <td>1669854480</td>\n",
       "      <td>0.405585</td>\n",
       "      <td>3067574.0</td>\n",
       "      <td>0.405697</td>\n",
       "      <td>6436728.0</td>\n",
       "      <td>binance</td>\n",
       "      <td>XRP_USDT</td>\n",
       "      <td>2022</td>\n",
       "      <td>12</td>\n",
       "    </tr>\n",
       "    <tr>\n",
       "      <th>2022-12-01 00:29:00+00:00</th>\n",
       "      <td>1669854540</td>\n",
       "      <td>0.405564</td>\n",
       "      <td>3603782.0</td>\n",
       "      <td>0.405659</td>\n",
       "      <td>4770335.0</td>\n",
       "      <td>binance</td>\n",
       "      <td>XRP_USDT</td>\n",
       "      <td>2022</td>\n",
       "      <td>12</td>\n",
       "    </tr>\n",
       "    <tr>\n",
       "      <th>2022-12-01 00:30:00+00:00</th>\n",
       "      <td>1669854600</td>\n",
       "      <td>0.405787</td>\n",
       "      <td>3466899.0</td>\n",
       "      <td>0.405941</td>\n",
       "      <td>2239908.0</td>\n",
       "      <td>binance</td>\n",
       "      <td>XRP_USDT</td>\n",
       "      <td>2022</td>\n",
       "      <td>12</td>\n",
=======
       "      <th>2022-11-24 23:57:00+00:00</th>\n",
       "      <td>1669334220</td>\n",
       "      <td>0.402248</td>\n",
       "      <td>3681782.0</td>\n",
       "      <td>0.402468</td>\n",
       "      <td>2249361.0</td>\n",
       "      <td>binance</td>\n",
       "      <td>XRP_USDT</td>\n",
       "      <td>2022</td>\n",
       "      <td>11</td>\n",
       "    </tr>\n",
       "    <tr>\n",
       "      <th>2022-11-24 23:58:00+00:00</th>\n",
       "      <td>1669334280</td>\n",
       "      <td>0.40255</td>\n",
       "      <td>2905933.0</td>\n",
       "      <td>0.402619</td>\n",
       "      <td>2092799.0</td>\n",
       "      <td>binance</td>\n",
       "      <td>XRP_USDT</td>\n",
       "      <td>2022</td>\n",
       "      <td>11</td>\n",
       "    </tr>\n",
       "    <tr>\n",
       "      <th>2022-11-24 23:59:00+00:00</th>\n",
       "      <td>1669334340</td>\n",
       "      <td>0.402152</td>\n",
       "      <td>2229109.0</td>\n",
       "      <td>0.402182</td>\n",
       "      <td>2719586.0</td>\n",
       "      <td>binance</td>\n",
       "      <td>XRP_USDT</td>\n",
       "      <td>2022</td>\n",
       "      <td>11</td>\n",
>>>>>>> master
       "    </tr>\n",
       "  </tbody>\n",
       "</table>\n",
       "</div>"
      ],
      "text/plain": [
       "                            timestamp bid_price   bid_size ask_price   ask_size exchange_id currency_pair  year month\n",
       "2022-11-03 00:00:00+00:00  1667433600   0.38536   835093.8  0.385497  4065953.2     binance      ADA_USDT  2022    11\n",
       "2022-11-03 00:01:00+00:00  1667433660  0.385413   938423.6  0.385534  2661548.0     binance      ADA_USDT  2022    11\n",
       "2022-11-03 00:02:00+00:00  1667433720  0.384836   364347.0  0.384983  1346459.2     binance      ADA_USDT  2022    11\n",
       "                                  ...       ...        ...       ...        ...         ...           ...   ...   ...\n",
<<<<<<< HEAD
       "2022-12-01 00:28:00+00:00  1669854480  0.405585  3067574.0  0.405697  6436728.0     binance      XRP_USDT  2022    12\n",
       "2022-12-01 00:29:00+00:00  1669854540  0.405564  3603782.0  0.405659  4770335.0     binance      XRP_USDT  2022    12\n",
       "2022-12-01 00:30:00+00:00  1669854600  0.405787  3466899.0  0.405941  2239908.0     binance      XRP_USDT  2022    12"
=======
       "2022-11-24 23:57:00+00:00  1669334220  0.402248  3681782.0  0.402468  2249361.0     binance      XRP_USDT  2022    11\n",
       "2022-11-24 23:58:00+00:00  1669334280   0.40255  2905933.0  0.402619  2092799.0     binance      XRP_USDT  2022    11\n",
       "2022-11-24 23:59:00+00:00  1669334340  0.402152  2229109.0  0.402182  2719586.0     binance      XRP_USDT  2022    11"
>>>>>>> master
      ]
     },
     "metadata": {},
     "output_type": "display_data"
    },
    {
     "name": "stdout",
     "output_type": "stream",
     "text": [
      "INFO  None\n"
     ]
    }
   ],
   "source": [
    "s3_path = \"s3://cryptokaizen-data/reorg/daily_staged.airflow.pq/bid_ask/crypto_chassis.resampled_1min/binance\"\n",
    "# Load daily data from s3 parquet.\n",
    "cc_ba_spot_resampled = hparque.from_parquet(s3_path, aws_profile=\"ck\")\n",
<<<<<<< HEAD
    "_LOG.log(log_level, hpandas.df_to_str(cc_ba_spot_resampled, log_level=log_level))"
   ]
  },
  {
   "cell_type": "code",
   "execution_count": null,
   "id": "292a754f",
   "metadata": {},
   "outputs": [],
   "source": []
=======
    "_LOG.info(f\"{len(cc_ba_spot_resampled)} rows overall\")\n",
    "_LOG.log(log_level, hpandas.df_to_str(cc_ba_spot_resampled, log_level=log_level))"
   ]
>>>>>>> master
  }
 ],
 "metadata": {
  "kernelspec": {
   "display_name": "Python 3 (ipykernel)",
   "language": "python",
   "name": "python3"
  },
  "language_info": {
   "codemirror_mode": {
    "name": "ipython",
    "version": 3
   },
   "file_extension": ".py",
   "mimetype": "text/x-python",
   "name": "python",
   "nbconvert_exporter": "python",
   "pygments_lexer": "ipython3",
   "version": "3.8.10"
  },
  "toc": {
   "base_numbering": 1,
   "nav_menu": {},
   "number_sections": true,
   "sideBar": true,
   "skip_h1_title": false,
   "title_cell": "Table of Contents",
   "title_sidebar": "Contents",
   "toc_cell": false,
   "toc_position": {
    "height": "calc(100% - 180px)",
    "left": "10px",
    "top": "150px",
<<<<<<< HEAD
    "width": "249.974px"
=======
    "width": "177px"
>>>>>>> master
   },
   "toc_section_display": true,
   "toc_window_display": true
  }
 },
 "nbformat": 4,
 "nbformat_minor": 5
}
