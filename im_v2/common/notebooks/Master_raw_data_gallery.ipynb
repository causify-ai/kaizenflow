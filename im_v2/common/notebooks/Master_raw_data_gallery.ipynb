{
 "cells": [
  {
   "cell_type": "markdown",
   "id": "047c5c80",
   "metadata": {},
   "source": [
    "# Description\n"
   ]
  },
  {
   "cell_type": "markdown",
   "id": "296f9d2f",
   "metadata": {},
   "source": [
    "This notebook showcases locations and basic structure of raw data from:\n",
    "\n",
    "- S3 (parquet datasets)\n",
    "- DB (PostGres)"
   ]
  },
  {
   "cell_type": "markdown",
   "id": "ebc27535",
   "metadata": {},
   "source": [
    "# Imports"
   ]
  },
  {
   "cell_type": "code",
   "execution_count": null,
   "id": "a2d1a9cd",
   "metadata": {},
   "outputs": [],
   "source": [
    "import logging\n",
    "\n",
    "import helpers.hdbg as hdbg\n",
    "import helpers.henv as henv\n",
    "import helpers.hpandas as hpandas\n",
    "import helpers.hparquet as hparque\n",
    "import helpers.hprint as hprint\n",
    "from im_v2.common.notebooks.master_raw_data_gallery_lib import *"
   ]
  },
  {
   "cell_type": "code",
   "execution_count": null,
   "id": "19e56ce2",
   "metadata": {},
   "outputs": [],
   "source": [
    "hdbg.init_logger(verbosity=logging.INFO)\n",
    "log_level = logging.INFO\n",
    "\n",
    "_LOG = logging.getLogger(__name__)\n",
    "\n",
    "_LOG.info(\"%s\", henv.get_system_signature()[0])\n",
    "\n",
    "hprint.config_notebook()"
   ]
  },
  {
   "cell_type": "markdown",
   "id": "5271eefc",
   "metadata": {},
   "source": [
    "# Realtime (the DB data)"
   ]
  },
  {
   "cell_type": "markdown",
   "id": "3f27af4c",
   "metadata": {},
   "source": [
    "## real_time.airflow.csv.ohlcv.futures.1_min.ccxt.binance"
   ]
  },
  {
   "cell_type": "code",
   "execution_count": null,
   "id": "3803a860",
   "metadata": {},
   "outputs": [],
   "source": [
    "# Get the real time data from DB.\n",
    "ccxt_rt = get_raw_data_from_db(\n",
    "    \"ccxt_ohlcv_futures\", \"binance\", start_ts=None, end_ts=None\n",
    ")\n",
    "_LOG.info(f\"{len(ccxt_rt)} rows overall\")\n",
    "_LOG.log(log_level, hpandas.df_to_str(ccxt_rt, log_level=log_level))"
   ]
  },
  {
   "cell_type": "markdown",
   "id": "df3f4a24",
   "metadata": {},
   "source": [
    "# Historical (data updated daily)"
   ]
  },
  {
   "cell_type": "markdown",
   "id": "f882eb43",
   "metadata": {},
   "source": [
    "## historical.daily.parquet.ohlcv.futures.1_min.ccxt.binance"
   ]
  },
  {
   "cell_type": "code",
   "execution_count": null,
   "id": "4a72dd91",
   "metadata": {},
   "outputs": [],
   "source": [
    "s3_path = \"s3://cryptokaizen-data/reorg/daily_staged.airflow.pq/ohlcv-futures/ccxt/binance\"\n",
    "# Load daily data from s3 parquet.\n",
    "ccxt_futures_daily = hparque.from_parquet(s3_path, aws_profile=\"ck\")\n",
    "_LOG.info(f\"{len(ccxt_futures_daily)} rows overall\")\n",
    "_LOG.log(log_level, hpandas.df_to_str(ccxt_futures_daily, log_level=log_level))"
   ]
  },
  {
   "cell_type": "markdown",
   "id": "b497fbf9",
   "metadata": {},
   "source": [
    "## historical.daily.parquet.bid_ask.futures.1_sec.crypto_chassis.binance"
   ]
  },
  {
   "cell_type": "markdown",
   "id": "15d50d1e",
   "metadata": {},
   "source": [
    "The amount of data is too big to process it all at once, so the data will be loaded separately for each month."
   ]
  },
  {
   "cell_type": "code",
   "execution_count": null,
   "id": "89e137a6",
   "metadata": {},
   "outputs": [],
   "source": [
    "s3_path = \"s3://cryptokaizen-data/reorg/daily_staged.airflow.pq/bid_ask-futures/crypto_chassis/binance\"\n",
    "start_ts = \"20220627-000000\"\n",
    "end_ts = \"20221130-000000\"\n",
    "process_s3_data_in_chunks(start_ts, end_ts, s3_path, 3)"
   ]
  },
  {
   "cell_type": "markdown",
   "id": "d9bbb51e",
   "metadata": {},
   "source": [
    "## historical.daily.parquet.bid_ask.futures.1_min.crypto_chassis.binance"
   ]
  },
  {
   "cell_type": "code",
   "execution_count": null,
   "id": "3996ad84",
   "metadata": {},
   "outputs": [],
   "source": [
    "s3_path = \"s3://cryptokaizen-data/reorg/daily_staged.airflow.pq/bid_ask-futures/crypto_chassis.resampled_1min/binance\"\n",
    "# Load daily data from s3 parquet.\n",
    "cc_ba_futures_resampled = hparque.from_parquet(s3_path, aws_profile=\"ck\")\n",
    "_LOG.info(f\"{len(cc_ba_futures_resampled)} rows overall\")\n",
    "_LOG.log(\n",
    "    log_level, hpandas.df_to_str(cc_ba_futures_resampled, log_level=log_level)\n",
    ")"
   ]
  },
  {
   "cell_type": "markdown",
   "id": "49b0a2b9",
   "metadata": {},
   "source": [
    "## historical.daily.parquet.bid_ask.spot.1_sec.crypto_chassis.binance"
   ]
  },
  {
   "cell_type": "code",
   "execution_count": null,
   "id": "d6abde07",
   "metadata": {},
   "outputs": [],
   "source": [
    "s3_path = \"s3://cryptokaizen-data/reorg/daily_staged.airflow.pq/bid_ask/crypto_chassis/binance\"\n",
    "start_ts = \"20220501-000000\"\n",
    "end_ts = \"20221130-000000\"\n",
    "process_s3_data_in_chunks(start_ts, end_ts, s3_path, 3)"
   ]
  },
  {
   "cell_type": "markdown",
   "id": "bfbe9bf5",
   "metadata": {},
   "source": [
    "## historical.daily.parquet.bid_ask.spot.1_min.crypto_chassis.binance"
   ]
  },
  {
   "cell_type": "code",
   "execution_count": null,
   "id": "221eea3c",
   "metadata": {},
   "outputs": [],
   "source": [
    "s3_path = \"s3://cryptokaizen-data/reorg/daily_staged.airflow.pq/bid_ask/crypto_chassis.resampled_1min/binance\"\n",
    "# Load daily data from s3 parquet.\n",
    "cc_ba_spot_resampled = hparque.from_parquet(s3_path, aws_profile=\"ck\")\n",
    "_LOG.info(f\"{len(cc_ba_spot_resampled)} rows overall\")\n",
    "_LOG.log(log_level, hpandas.df_to_str(cc_ba_spot_resampled, log_level=log_level))"
   ]
  }
 ],
 "metadata": {
  "kernelspec": {
   "display_name": "Python 3 (ipykernel)",
   "language": "python",
   "name": "python3"
  },
  "language_info": {
   "codemirror_mode": {
    "name": "ipython",
    "version": 3
   },
   "file_extension": ".py",
   "mimetype": "text/x-python",
   "name": "python",
   "nbconvert_exporter": "python",
   "pygments_lexer": "ipython3"
  },
  "toc": {
   "base_numbering": 1,
   "nav_menu": {},
   "number_sections": true,
   "sideBar": true,
   "skip_h1_title": false,
   "title_cell": "Table of Contents",
   "title_sidebar": "Contents",
   "toc_cell": false,
   "toc_position": {
    "height": "calc(100% - 180px)",
    "left": "10px",
    "top": "150px",
    "width": "177px"
   },
   "toc_section_display": true,
   "toc_window_display": true
  }
 },
 "nbformat": 4,
 "nbformat_minor": 5
}
