{
 "cells": [
  {
   "cell_type": "markdown",
   "id": "85907be2",
   "metadata": {},
   "source": [
    "# Description\n"
   ]
  },
  {
   "cell_type": "markdown",
   "id": "e8a30f92",
   "metadata": {},
   "source": [
    "This notebook showcases locations and basic structure of raw data from:\n",
    "\n",
    "- S3 (parquet datasets)\n",
    "- DB (PostGres)\n",
    "\n",
    "## Specs\n",
    "- This notebook:\n",
    "  - is a catalog of all the datasets that exist in the our system\n",
    "  - shows how to load data using our low-level functions or specific API for specific datasets\n",
    "  - shows how a snippet of the data looks like (for this we want to load the minimal amount of data)\n",
    "  - doesn't compute any statistics\n",
    "  - should be quickly to execute, like < 1min, so we can run it in the unit tests\n",
    "\n",
    "## Life cycle\n",
    "- Any time a new dataset is added (e.g., in real-time DB, Parquet) we add some information on how to load it and how it looks like\n",
    "- In general we try not to delete any data but we only add data loaders"
   ]
  },
  {
   "cell_type": "markdown",
   "id": "102c57e9",
   "metadata": {},
   "source": [
    "# Imports"
   ]
  },
  {
   "cell_type": "code",
   "execution_count": null,
   "id": "01579d41",
   "metadata": {},
   "outputs": [],
   "source": [
    "import logging\n",
    "\n",
    "import helpers.hdbg as hdbg\n",
    "import helpers.henv as henv\n",
    "import helpers.hpandas as hpandas\n",
    "import helpers.hparquet as hparque\n",
    "import helpers.hprint as hprint\n",
    "from im_v2.common.notebooks.master_raw_data_gallery_lib import *"
   ]
  },
  {
   "cell_type": "code",
   "execution_count": null,
   "id": "d0578f2f",
   "metadata": {},
   "outputs": [],
   "source": [
    "hdbg.init_logger(verbosity=logging.INFO)\n",
    "log_level = logging.INFO\n",
    "\n",
    "_LOG = logging.getLogger(__name__)\n",
    "\n",
    "_LOG.info(\"%s\", henv.get_system_signature()[0])\n",
    "\n",
    "hprint.config_notebook()"
   ]
  },
  {
   "cell_type": "markdown",
   "id": "fbb8a4bb",
   "metadata": {},
   "source": [
    "# Realtime (the DB data)"
   ]
  },
  {
   "cell_type": "markdown",
   "id": "975b8938",
   "metadata": {},
   "source": [
    "## periodic.airflow.downloaded_1hour.csv.ohlcv.futures.1_min.universe_v7_0.ccxt.binance.v1_0"
   ]
  },
  {
   "cell_type": "code",
   "execution_count": null,
   "id": "50226203",
   "metadata": {},
   "outputs": [],
   "source": [
    "# Get the real time data from DB.\n",
    "ccxt_rt = get_raw_data_from_db(\n",
    "    \"ccxt_ohlcv_futures\", \"binance\", start_ts=None, end_ts=None\n",
    ")\n",
    "_LOG.log(log_level, hpandas.df_to_str(ccxt_rt, log_level=log_level))"
   ]
  },
  {
   "cell_type": "markdown",
   "id": "a9378838",
   "metadata": {},
   "source": [
    "# Historical (data updated daily)"
   ]
  },
  {
   "cell_type": "markdown",
   "id": "00b88afa",
   "metadata": {},
   "source": [
    "## bulk.airflow.downloaded_EOD.parquet.ohlcv.futures.1_min.universe_v7_0.ccxt.binance.v1_0"
   ]
  },
  {
   "cell_type": "code",
   "execution_count": null,
   "id": "8984f851",
   "metadata": {},
   "outputs": [],
   "source": [
    "s3_path = \"s3://cryptokaizen-data/reorg/daily_staged.airflow.pq/ohlcv-futures/ccxt/binance\"\n",
    "# Load daily data from s3 parquet.\n",
    "ccxt_futures_daily = hparque.from_parquet(s3_path, aws_profile=\"ck\")\n",
    "_LOG.log(log_level, hpandas.df_to_str(ccxt_futures_daily, log_level=log_level))"
   ]
  },
  {
   "cell_type": "markdown",
   "id": "090371c1",
   "metadata": {},
   "source": [
    "## bulk.airflow.downloaded_EOD.parquet.bid_ask.futures.1_sec.universe_v3_0.crypto_chassis.binance.v1_0"
   ]
  },
  {
   "cell_type": "markdown",
   "id": "07daa0e6",
   "metadata": {},
   "source": [
    "The amount of data is too big to process it all at once, so the data will be loaded separately for each month."
   ]
  },
  {
   "cell_type": "code",
   "execution_count": null,
   "id": "862cff6b",
   "metadata": {},
   "outputs": [],
   "source": [
    "s3_path = \"s3://cryptokaizen-data/reorg/daily_staged.airflow.pq/bid_ask-futures/crypto_chassis/binance\"\n",
    "start_ts = \"20220627-000000\"\n",
    "end_ts = \"20221130-000000\"\n",
    "process_s3_data_in_chunks(start_ts, end_ts, s3_path, 3)"
   ]
  },
  {
   "cell_type": "markdown",
   "id": "95dd001a",
   "metadata": {},
   "source": [
    "## bulk.airflow.downloaded_EOD.parquet.bid_ask.futures.1_min.universe_v3_0.crypto_chassis.binance.v1_0"
   ]
  },
  {
   "cell_type": "code",
   "execution_count": null,
   "id": "dde315db",
   "metadata": {},
   "outputs": [],
   "source": [
    "s3_path = \"s3://cryptokaizen-data/reorg/daily_staged.airflow.pq/bid_ask-futures/crypto_chassis.resampled_1min/binance\"\n",
    "# Load daily data from s3 parquet.\n",
    "cc_ba_futures_resampled = hparque.from_parquet(s3_path, aws_profile=\"ck\")\n",
    "_LOG.log(\n",
    "    log_level, hpandas.df_to_str(cc_ba_futures_resampled, log_level=log_level)\n",
    ")"
   ]
  },
  {
   "cell_type": "markdown",
   "id": "93e3501c",
   "metadata": {},
   "source": [
    "## bulk.airflow.downloaded_EOD.parquet.bid_ask.spot.1_sec.universe_v3.crypto_chassis.binance.v1_0"
   ]
  },
  {
   "cell_type": "code",
   "execution_count": null,
   "id": "08d72270",
   "metadata": {},
   "outputs": [],
   "source": [
    "s3_path = \"s3://cryptokaizen-data/reorg/daily_staged.airflow.pq/bid_ask/crypto_chassis/binance\"\n",
    "start_ts = \"20220501-000000\"\n",
    "end_ts = \"20221130-000000\"\n",
    "process_s3_data_in_chunks(start_ts, end_ts, s3_path, 3)"
   ]
  },
  {
   "cell_type": "markdown",
   "id": "5c1c8e42",
   "metadata": {},
   "source": [
    "## bulk.airflow.downloaded_EOD.parquet.bid_ask.spot.1_min.universe_v3_0.crypto_chassis.binance.v1_0"
   ]
  },
  {
   "cell_type": "code",
   "execution_count": null,
   "id": "135d832d",
   "metadata": {},
   "outputs": [],
   "source": [
    "s3_path = \"s3://cryptokaizen-data/reorg/daily_staged.airflow.pq/bid_ask/crypto_chassis.resampled_1min/binance\"\n",
    "# Load daily data from s3 parquet.\n",
    "cc_ba_spot_resampled = hparque.from_parquet(s3_path, aws_profile=\"ck\")\n",
    "_LOG.log(log_level, hpandas.df_to_str(cc_ba_spot_resampled, log_level=log_level))"
   ]
  }
 ],
 "metadata": {
  "kernelspec": {
   "display_name": "Python 3 (ipykernel)",
   "language": "python",
   "name": "python3"
  },
  "language_info": {
   "codemirror_mode": {
    "name": "ipython",
    "version": 3
   },
   "file_extension": ".py",
   "mimetype": "text/x-python",
   "name": "python",
   "nbconvert_exporter": "python",
   "pygments_lexer": "ipython3"
  },
  "toc": {
   "base_numbering": 1,
   "nav_menu": {},
   "number_sections": true,
   "sideBar": true,
   "skip_h1_title": false,
   "title_cell": "Table of Contents",
   "title_sidebar": "Contents",
   "toc_cell": false,
   "toc_position": {},
   "toc_section_display": true,
   "toc_window_display": false
  }
 },
 "nbformat": 4,
 "nbformat_minor": 5
}
