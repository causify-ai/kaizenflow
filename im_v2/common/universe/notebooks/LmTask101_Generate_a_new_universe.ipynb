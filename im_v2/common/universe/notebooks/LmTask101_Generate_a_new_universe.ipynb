{
 "cells": [
  {
   "cell_type": "code",
   "execution_count": null,
   "id": "1935a348",
   "metadata": {},
   "outputs": [],
   "source": [
    "%load_ext autoreload\n",
    "%autoreload 2\n",
    "\n",
    "import logging\n",
    "\n",
    "import pandas as pd\n",
    "import vendors_lime.datastream_liquidity.universe_utils as vldlunut\n",
    "\n",
    "import helpers.hdbg as hdbg\n",
    "import helpers.hprint as hprint\n",
    "import helpers.hsql as hsql"
   ]
  },
  {
   "cell_type": "code",
   "execution_count": null,
   "id": "51666354",
   "metadata": {},
   "outputs": [],
   "source": [
    "hdbg.init_logger(verbosity=logging.INFO)\n",
    "\n",
    "_LOG = logging.getLogger(__name__)\n",
    "\n",
    "# _LOG.info(\"%s\", env.get_system_signature()[0])\n",
    "\n",
    "hprint.config_notebook()"
   ]
  },
  {
   "cell_type": "markdown",
   "id": "fb6b9cd8",
   "metadata": {},
   "source": [
    "# Load liquidity files"
   ]
  },
  {
   "cell_type": "code",
   "execution_count": null,
   "id": "b1e9ca6c",
   "metadata": {},
   "outputs": [],
   "source": [
    "connection = hsql.get_connection(\n",
    "    \"dp-research.redshift.eglp.com\",\n",
    "    \"refdata\",\n",
    "    5439,\n",
    "    \"cf_dev_gsaggese\",\n",
    "    \"tIELZucge1bT\",\n",
    ")"
   ]
  },
  {
   "cell_type": "code",
   "execution_count": null,
   "id": "adc91d1b",
   "metadata": {},
   "outputs": [],
   "source": [
    "date = \"2022-03-01\"\n",
    "\n",
    "# apply_categorical_filters = False\n",
    "apply_categorical_filters = True\n",
    "add_rankings = False\n",
    "df = vldlunut.generate_liquidity_df(\n",
    "    date,\n",
    "    connection,\n",
    "    apply_categorical_filters=apply_categorical_filters,\n",
    "    add_rankings=add_rankings,\n",
    ")\n",
    "\n",
    "print(\"df=\", df.shape)\n",
    "display(df.head(3))"
   ]
  },
  {
   "cell_type": "code",
   "execution_count": null,
   "id": "08c475c2",
   "metadata": {},
   "outputs": [],
   "source": [
    "df.head()"
   ]
  },
  {
   "cell_type": "code",
   "execution_count": null,
   "id": "0154787b",
   "metadata": {},
   "outputs": [],
   "source": [
    "print(\"region=\", df[\"region\"].unique())\n",
    "\n",
    "print(\"trade_date=\", df[\"trade_date\"].unique())\n",
    "\n",
    "print(\"num(asset_ids)=\", df[\"asset_id\"].nunique())\n",
    "\n",
    "print(\"num(infocode)=\", df[\"infocode\"].nunique())\n",
    "\n",
    "print(\"country=\\n%s\" % df[\"country\"].value_counts())\n",
    "\n",
    "print(\"is_major_sec=\\n%s\" % df[\"is_major_sec\"].value_counts())\n",
    "\n",
    "print(\"is_prim_qt=\\n%s\" % df[\"is_prim_qt\"].value_counts())\n",
    "\n",
    "print(\"sectype=\\n%s\" % df[\"sectype\"].value_counts())"
   ]
  },
  {
   "cell_type": "code",
   "execution_count": null,
   "id": "d23653c6",
   "metadata": {},
   "outputs": [],
   "source": [
    "# mask = df[\"sectype\"] == \"NA:P \"\n",
    "# mask = df[\"sectype\"] == \"NA:F \"\n",
    "mask = df[\"is_prim_qt\"] == False\n",
    "df[mask]\n",
    "print(df[mask][\"ticker\"])"
   ]
  },
  {
   "cell_type": "code",
   "execution_count": null,
   "id": "03f3d248",
   "metadata": {},
   "outputs": [],
   "source": [
    "mask = df[\"ticker\"] == \"SPY\"\n",
    "# mask = (df[\"ticker\"] == \"AAPL\")\n",
    "display(df[mask])\n",
    "display(df[mask][\"sectype\"])"
   ]
  },
  {
   "cell_type": "code",
   "execution_count": null,
   "id": "82d2c201",
   "metadata": {},
   "outputs": [],
   "source": [
    "df.iloc[0]"
   ]
  },
  {
   "cell_type": "code",
   "execution_count": null,
   "id": "cc1bb74f",
   "metadata": {},
   "outputs": [],
   "source": [
    "df.columns.to_list()"
   ]
  },
  {
   "cell_type": "code",
   "execution_count": null,
   "id": "0608fc09",
   "metadata": {},
   "outputs": [],
   "source": [
    "df[\"spread_usd_21d\"].hist(bins=101)"
   ]
  },
  {
   "cell_type": "code",
   "execution_count": null,
   "id": "3db30992",
   "metadata": {},
   "outputs": [],
   "source": [
    "# col = \"spread_bps_21d\"\n",
    "col = \"spread_usd_21d\"\n",
    "df_val = df[df[col] <= 0.1]\n",
    "\n",
    "# print(df_val)\n",
    "\n",
    "df_val[col].hist(bins=101)\n",
    "\n",
    "print(df_val[col].sum())\n",
    "\n",
    "# df[\"spread_bps_21d\"].hist(bins=101)"
   ]
  },
  {
   "cell_type": "code",
   "execution_count": null,
   "id": "542512af",
   "metadata": {},
   "outputs": [],
   "source": []
  },
  {
   "cell_type": "markdown",
   "id": "3d616f78",
   "metadata": {},
   "source": [
    "df[\"spread_bps_21d\"].hist(bins=101)\n",
    "# Generate liquidity plots"
   ]
  },
  {
   "cell_type": "code",
   "execution_count": null,
   "id": "0b1b5f6e",
   "metadata": {},
   "outputs": [],
   "source": [
    "df[df[\"spread_bps_63d\"] < 200][\"spread_bps_63d\"].hist(log=False, bins=101)"
   ]
  },
  {
   "cell_type": "code",
   "execution_count": null,
   "id": "6d50fef5",
   "metadata": {},
   "outputs": [],
   "source": [
    "df[df[\"spread_usd_63d\"] < 0.2][\"spread_usd_63d\"].hist(log=False, bins=101)"
   ]
  },
  {
   "cell_type": "code",
   "execution_count": null,
   "id": "4f64de69",
   "metadata": {},
   "outputs": [],
   "source": [
    "df[\"mkt_cap_usd_avg_90d\"].hist(log=True, bins=100)"
   ]
  },
  {
   "cell_type": "markdown",
   "id": "a6eb6b5f",
   "metadata": {},
   "source": [
    "# Apply filters"
   ]
  },
  {
   "cell_type": "code",
   "execution_count": null,
   "id": "f8a3986b",
   "metadata": {},
   "outputs": [],
   "source": [
    "filtered_df = vldlunut.apply_threshold_filters(df)"
   ]
  },
  {
   "cell_type": "code",
   "execution_count": null,
   "id": "5c238608",
   "metadata": {},
   "outputs": [],
   "source": [
    "filtered_df.describe()"
   ]
  },
  {
   "cell_type": "code",
   "execution_count": null,
   "id": "8f95dcd7",
   "metadata": {},
   "outputs": [],
   "source": [
    "filtered_df[filtered_df[\"ticker\"].isna()]"
   ]
  },
  {
   "cell_type": "code",
   "execution_count": null,
   "id": "daf2bdf8",
   "metadata": {},
   "outputs": [],
   "source": [
    "tickers = filtered_df[\"ticker\"].dropna().to_list()"
   ]
  },
  {
   "cell_type": "code",
   "execution_count": null,
   "id": "91b14c12",
   "metadata": {},
   "outputs": [],
   "source": [
    "assert 0"
   ]
  },
  {
   "cell_type": "markdown",
   "id": "738f9da4",
   "metadata": {},
   "source": [
    "# Get universe dataframe at datetime"
   ]
  },
  {
   "cell_type": "code",
   "execution_count": null,
   "id": "f54ca2f1",
   "metadata": {},
   "outputs": [],
   "source": [
    "universe = vldlunut.get_filtered_universe_dfs([date], connection)[0]"
   ]
  },
  {
   "cell_type": "code",
   "execution_count": null,
   "id": "f6dbf5e9",
   "metadata": {},
   "outputs": [],
   "source": [
    "dates = pd.date_range(\n",
    "    start=\"2017-01-01\", end=\"2022-03-01\", freq=pd.offsets.BMonthBegin()\n",
    ")"
   ]
  },
  {
   "cell_type": "code",
   "execution_count": null,
   "id": "e3ef77d1",
   "metadata": {},
   "outputs": [],
   "source": [
    "universe_dfs = vldlunut.get_filtered_universe_dfs(dates, connection)"
   ]
  },
  {
   "cell_type": "code",
   "execution_count": null,
   "id": "0695c7cb",
   "metadata": {},
   "outputs": [],
   "source": [
    "df = universe_dfs[10]"
   ]
  },
  {
   "cell_type": "code",
   "execution_count": null,
   "id": "eefb135c",
   "metadata": {},
   "outputs": [],
   "source": [
    "df.head()"
   ]
  },
  {
   "cell_type": "code",
   "execution_count": null,
   "id": "b73a4768",
   "metadata": {},
   "outputs": [],
   "source": [
    "df = vldlunut.combine_universe_dfs(universe_dfs)"
   ]
  },
  {
   "cell_type": "code",
   "execution_count": null,
   "id": "101c5fba",
   "metadata": {},
   "outputs": [],
   "source": [
    "df.iloc[0:10, 0:10]"
   ]
  },
  {
   "cell_type": "code",
   "execution_count": null,
   "id": "f6c3bd36",
   "metadata": {},
   "outputs": [],
   "source": [
    "asset_ids = df.columns.to_list()"
   ]
  },
  {
   "cell_type": "code",
   "execution_count": null,
   "id": "1f8bc41e",
   "metadata": {},
   "outputs": [],
   "source": [
    "len(asset_ids)"
   ]
  },
  {
   "cell_type": "code",
   "execution_count": null,
   "id": "3d9f6d0f",
   "metadata": {},
   "outputs": [],
   "source": [
    "(df.sum(axis=0) / df.shape[0]).hist(bins=20)"
   ]
  },
  {
   "cell_type": "code",
   "execution_count": null,
   "id": "792be043",
   "metadata": {},
   "outputs": [],
   "source": [
    "df.sum(axis=1).plot(ylim=(0, None), title=\"Universe size count\")"
   ]
  },
  {
   "cell_type": "markdown",
   "id": "cd9ac81c",
   "metadata": {},
   "source": [
    "# Save universe"
   ]
  },
  {
   "cell_type": "code",
   "execution_count": null,
   "id": "4f6b601c",
   "metadata": {},
   "outputs": [],
   "source": [
    "# Write union of EGIDs to a csv\n",
    "assert 0\n",
    "pd.Series(data=df.columns).to_csv(\"universe_20210810.csv\", index=False)"
   ]
  },
  {
   "cell_type": "markdown",
   "id": "e5effa00",
   "metadata": {},
   "source": [
    "# Read universe"
   ]
  },
  {
   "cell_type": "code",
   "execution_count": null,
   "id": "e97737aa",
   "metadata": {},
   "outputs": [],
   "source": [
    "import pandas as pd"
   ]
  },
  {
   "cell_type": "code",
   "execution_count": null,
   "id": "518ab92d",
   "metadata": {},
   "outputs": [],
   "source": [
    "universe = pd.read_csv(\"s3://eglp-spm-sasm/data/universe_20210810.csv\")"
   ]
  },
  {
   "cell_type": "code",
   "execution_count": null,
   "id": "c8f8e267",
   "metadata": {},
   "outputs": [],
   "source": [
    "universe"
   ]
  },
  {
   "cell_type": "code",
   "execution_count": null,
   "id": "eaec33a1",
   "metadata": {},
   "outputs": [],
   "source": [
    "universe[\"asset_id\"].tolist()"
   ]
  }
 ],
 "metadata": {
  "kernelspec": {
   "display_name": "Python 3 (ipykernel)",
   "language": "python",
   "name": "python3"
  },
  "language_info": {
   "codemirror_mode": {
    "name": "ipython",
    "version": 3
   },
   "file_extension": ".py",
   "mimetype": "text/x-python",
   "name": "python",
   "nbconvert_exporter": "python",
   "pygments_lexer": "ipython3"
  },
  "toc": {
   "base_numbering": 1,
   "nav_menu": {},
   "number_sections": true,
   "sideBar": true,
   "skip_h1_title": false,
   "title_cell": "Table of Contents",
   "title_sidebar": "Contents",
   "toc_cell": false,
   "toc_position": {
    "height": "calc(100% - 180px)",
    "left": "10px",
    "top": "150px",
    "width": "165px"
   },
   "toc_section_display": true,
   "toc_window_display": true
  }
 },
 "nbformat": 4,
 "nbformat_minor": 5
}
