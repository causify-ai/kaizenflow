{
 "cells": [
  {
   "cell_type": "markdown",
   "id": "56364cbd",
   "metadata": {},
   "source": [
    "# Import"
   ]
  },
  {
   "cell_type": "code",
   "execution_count": null,
   "id": "2001590d",
   "metadata": {},
   "outputs": [],
   "source": [
    "%load_ext autoreload\n",
    "%autoreload 2\n",
    "\n",
    "import logging\n",
    "import os\n",
    "\n",
    "import core.config.config_ as cconconf\n",
    "import core.config.config_utils as ccocouti\n",
    "import helpers.hdbg as hdbg\n",
    "import helpers.henv as henv\n",
    "import helpers.hprint as hprint\n",
    "import helpers.hs3 as hs3\n",
    "import im_v2.crypto_chassis.data.client as iccdc\n",
    "import research_amp.cc.qa as ramccqa\n",
    "import research_amp.transform as ramptran\n",
    "import core.finance as cofinanc\n",
    "import core.finance.bid_ask as cfibiask\n",
    "import core.finance.resampling as cfinresa\n",
    "import dataflow.core as dtfcore\n",
    "import dataflow.system.source_nodes as dtfsysonod\n",
    "import pandas as pd"
   ]
  },
  {
   "cell_type": "code",
   "execution_count": null,
   "id": "ca8be0ca",
   "metadata": {},
   "outputs": [],
   "source": [
    "hdbg.init_logger(verbosity=logging.INFO)\n",
    "\n",
    "_LOG = logging.getLogger(__name__)\n",
    "\n",
    "_LOG.info(\"%s\", henv.get_system_signature()[0])\n",
    "\n",
    "hprint.config_notebook()"
   ]
  },
  {
   "cell_type": "markdown",
   "id": "67918678",
   "metadata": {},
   "source": [
    "# Config"
   ]
  },
  {
   "cell_type": "code",
   "execution_count": null,
   "id": "a329ff35",
   "metadata": {},
   "outputs": [],
   "source": [
    "def get_cmtask2245_config() -> cconconf.Config:\n",
    "    \"\"\"\n",
    "    Get config for loading and processing crypto-chassis futures data.\n",
    "    \"\"\"\n",
    "    config = cconconf.Config()\n",
    "    param_dict = {\n",
    "        \"data_ohlcv\": {\n",
    "            # Parameters for client initialization.\n",
    "            \"im_client\": {\n",
    "                \"universe_version\": \"v2\",\n",
    "                \"resample_1min\": False,\n",
    "                \"root_dir\": os.path.join(\n",
    "                    hs3.get_s3_bucket_path(\"ck\"), \"reorg\", \"historical.manual.pq\"\n",
    "                ),\n",
    "                \"partition_mode\": \"by_year_month\",\n",
    "                \"dataset\": \"ohlcv\",\n",
    "                \"contract_type\": \"futures\",\n",
    "                \"data_snapshot\": \"20220620\",\n",
    "                \"aws_profile\": \"ck\",\n",
    "            },\n",
    "            # Parameters for data query.\n",
    "            \"read_data\": {\n",
    "                \"start_ts\": None,\n",
    "                \"end_ts\": None,\n",
    "                \"columns\": [\"full_symbol\", \"close\", \"volume\"],\n",
    "                \"filter_data_mode\": \"assert\",\n",
    "            },\n",
    "        },\n",
    "        \"data_bid_ask\": {\n",
    "            # Parameters for client initialization.\n",
    "            \"im_client\": {\n",
    "                \"universe_version\": \"v2\",\n",
    "                \"resample_1min\": False,\n",
    "                \"root_dir\": os.path.join(\n",
    "                    hs3.get_s3_bucket_path(\"ck\"), \"reorg\", \"historical.manual.pq\"\n",
    "                ),\n",
    "                \"partition_mode\": \"by_year_month\",\n",
    "                \"dataset\": \"bid_ask\",\n",
    "                \"contract_type\": \"futures\",\n",
    "                \"data_snapshot\": \"20220620\",\n",
    "                \"aws_profile\": \"ck\",\n",
    "            },\n",
    "            # Parameters for data query.\n",
    "            \"read_data\": {\n",
    "                \"start_ts\": None,\n",
    "                \"end_ts\": None,\n",
    "                \"columns\": None,#[\"full_symbol\", \"close\", \"volume\"],\n",
    "                \"filter_data_mode\": \"assert\",\n",
    "            },\n",
    "        },\n",
    "        \"column_names\": {\n",
    "            \"full_symbol\": \"full_symbol\",\n",
    "            \"close_price\": \"close\",\n",
    "        },\n",
    "        \"stats\": {\n",
    "            \"threshold\": 30,\n",
    "        },\n",
    "    }\n",
    "    config = ccocouti.get_config_from_nested_dict(param_dict)\n",
    "    return config\n",
    "\n",
    "config = get_cmtask2245_config()\n",
    "print(config)"
   ]
  },
  {
   "cell_type": "markdown",
   "id": "aff690df",
   "metadata": {},
   "source": [
    "# Load the data"
   ]
  },
  {
   "cell_type": "code",
   "execution_count": null,
   "id": "a5518ad8",
   "metadata": {},
   "outputs": [],
   "source": [
    "# Initiate clients for OHLCV and bid ask data.\n",
    "client_ohlcv = iccdc.CryptoChassisHistoricalPqByTileClient(**config[\"data_ohlcv\"][\"im_client\"])\n",
    "client_bid_ask = iccdc.CryptoChassisHistoricalPqByTileClient(**config[\"data_bid_ask\"][\"im_client\"])"
   ]
  },
  {
   "cell_type": "code",
   "execution_count": null,
   "id": "dbedc174",
   "metadata": {},
   "outputs": [],
   "source": [
    "# Specify universe.\n",
    "universe_ohlcv = client_ohlcv.get_universe()\n",
    "\n",
    "binance_universe = [\n",
    "    full_symbol for full_symbol in universe_ohlcv if full_symbol.startswith(\"binance\")\n",
    "]\n",
    "binance_universe"
   ]
  },
  {
   "cell_type": "code",
   "execution_count": null,
   "id": "b12327bc",
   "metadata": {},
   "outputs": [],
   "source": [
    "# Load both types of data.\n",
    "binance_data_ohlcv = client_ohlcv.read_data(binance_universe, **config[\"data_ohlcv\"][\"read_data\"])\n",
    "binance_data_bid_ask = client_bid_ask.read_data(binance_universe, **config[\"data_bid_ask\"][\"read_data\"])\n",
    "\n",
    "display(binance_data_ohlcv.head(3))\n",
    "display(binance_data_bid_ask.head(3))"
   ]
  },
  {
   "cell_type": "markdown",
   "id": "5f9e175a",
   "metadata": {},
   "source": [
    "# Process the data"
   ]
  },
  {
   "cell_type": "code",
   "execution_count": null,
   "id": "7bef4648",
   "metadata": {},
   "outputs": [],
   "source": [
    "binance_bid_ask_stats = ramptran.calculate_bid_ask_statistics(binance_data_bid_ask)\n",
    "# binance_bid_ask_stats.tail(3)"
   ]
  },
  {
   "cell_type": "code",
   "execution_count": null,
   "id": "b53a712d",
   "metadata": {},
   "outputs": [],
   "source": [
    "binance_ohlcv_converted = dtfsysonod._convert_to_multiindex(binance_data_ohlcv, \"full_symbol\")"
   ]
  },
  {
   "cell_type": "code",
   "execution_count": null,
   "id": "6a6699f1",
   "metadata": {},
   "outputs": [],
   "source": [
    "data = pd.concat([binance_ohlcv_converted, binance_bid_ask_stats],axis=1)\n",
    "data"
   ]
  },
  {
   "cell_type": "code",
   "execution_count": null,
   "id": "b946960c",
   "metadata": {},
   "outputs": [],
   "source": [
    "data.columns.get_level_values(0).unique()"
   ]
  },
  {
   "cell_type": "code",
   "execution_count": null,
   "id": "eeeca243",
   "metadata": {},
   "outputs": [],
   "source": []
  },
  {
   "cell_type": "code",
   "execution_count": null,
   "id": "a7071ac5",
   "metadata": {},
   "outputs": [],
   "source": []
  },
  {
   "cell_type": "code",
   "execution_count": null,
   "id": "de4dce6c",
   "metadata": {},
   "outputs": [],
   "source": []
  }
 ],
 "metadata": {
  "kernelspec": {
   "display_name": "Python 3 (ipykernel)",
   "language": "python",
   "name": "python3"
  },
  "language_info": {
   "codemirror_mode": {
    "name": "ipython",
    "version": 3
   },
   "file_extension": ".py",
   "mimetype": "text/x-python",
   "name": "python",
   "nbconvert_exporter": "python",
   "pygments_lexer": "ipython3"
  },
  "toc": {
   "base_numbering": 1,
   "nav_menu": {},
   "number_sections": true,
   "sideBar": true,
   "skip_h1_title": false,
   "title_cell": "Table of Contents",
   "title_sidebar": "Contents",
   "toc_cell": false,
   "toc_position": {},
   "toc_section_display": true,
   "toc_window_display": false
  }
 },
 "nbformat": 4,
 "nbformat_minor": 5
}
