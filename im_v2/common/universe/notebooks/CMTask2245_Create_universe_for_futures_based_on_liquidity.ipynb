{
 "cells": [
  {
   "cell_type": "markdown",
   "id": "56364cbd",
   "metadata": {},
   "source": [
    "# Import"
   ]
  },
  {
   "cell_type": "code",
   "execution_count": null,
   "id": "2001590d",
   "metadata": {},
   "outputs": [],
   "source": [
    "%load_ext autoreload\n",
    "%autoreload 2\n",
    "\n",
    "import logging\n",
    "import os\n",
    "from datetime import timedelta\n",
    "\n",
    "import matplotlib as mpl\n",
    "import matplotlib.pyplot as plt\n",
    "import pandas as pd\n",
    "\n",
    "import core.config.config_ as cconconf\n",
    "import core.config.config_utils as ccocouti\n",
    "import helpers.hdbg as hdbg\n",
    "import helpers.henv as henv\n",
    "import helpers.hprint as hprint\n",
    "import helpers.hs3 as hs3\n",
    "import im_v2.crypto_chassis.data.client as iccdc\n",
    "import research_amp.transform as ramptran"
   ]
  },
  {
   "cell_type": "code",
   "execution_count": null,
   "id": "ca8be0ca",
   "metadata": {},
   "outputs": [],
   "source": [
    "hdbg.init_logger(verbosity=logging.INFO)\n",
    "\n",
    "_LOG = logging.getLogger(__name__)\n",
    "\n",
    "_LOG.info(\"%s\", henv.get_system_signature()[0])\n",
    "\n",
    "hprint.config_notebook()"
   ]
  },
  {
   "cell_type": "markdown",
   "id": "67918678",
   "metadata": {},
   "source": [
    "# Config"
   ]
  },
  {
   "cell_type": "code",
   "execution_count": null,
   "id": "a329ff35",
   "metadata": {},
   "outputs": [],
   "source": [
    "def get_cmtask2245_config() -> cconconf.Config:\n",
    "    \"\"\"\n",
    "    Get config for loading and processing crypto-chassis futures data.\n",
    "    \"\"\"\n",
    "    config = cconconf.Config()\n",
    "    param_dict = {\n",
    "        \"data_ohlcv\": {\n",
    "            # Parameters for client initialization.\n",
    "            \"im_client\": {\n",
    "                \"universe_version\": \"v2\",\n",
    "                \"resample_1min\": False,\n",
    "                \"root_dir\": os.path.join(\n",
    "                    hs3.get_s3_bucket_path(\"ck\"), \"reorg\", \"historical.manual.pq\"\n",
    "                ),\n",
    "                \"partition_mode\": \"by_year_month\",\n",
    "                \"dataset\": \"ohlcv\",\n",
    "                \"contract_type\": \"futures\",\n",
    "                \"data_snapshot\": \"20220620\",\n",
    "                \"aws_profile\": \"ck\",\n",
    "            },\n",
    "            # Parameters for data query.\n",
    "            \"read_data\": {\n",
    "                \"start_ts\": None,\n",
    "                \"end_ts\": None,\n",
    "                \"columns\": [\"full_symbol\", \"close\", \"volume\"],\n",
    "                \"filter_data_mode\": \"assert\",\n",
    "            },\n",
    "        },\n",
    "        \"data_bid_ask\": {\n",
    "            # Parameters for client initialization.\n",
    "            \"im_client\": {\n",
    "                \"universe_version\": \"v2\",\n",
    "                \"resample_1min\": True,  # False,\n",
    "                \"root_dir\": os.path.join(\n",
    "                    hs3.get_s3_bucket_path(\"ck\"), \"reorg\", \"historical.manual.pq\"\n",
    "                ),\n",
    "                \"partition_mode\": \"by_year_month\",\n",
    "                \"dataset\": \"bid_ask\",\n",
    "                \"contract_type\": \"futures\",\n",
    "                \"data_snapshot\": \"20220620\",\n",
    "                \"aws_profile\": \"ck\",\n",
    "            },\n",
    "            # Parameters for data query.\n",
    "            \"read_data\": {\n",
    "                \"start_ts\": None,\n",
    "                \"end_ts\": None,\n",
    "                \"columns\": None,  # [\"full_symbol\", \"close\", \"volume\"],\n",
    "                \"filter_data_mode\": \"assert\",\n",
    "            },\n",
    "        },\n",
    "        \"column_names\": {\n",
    "            \"full_symbol\": \"full_symbol\",\n",
    "            \"close_price\": \"close\",\n",
    "        },\n",
    "        \"stats\": {\n",
    "            \"n_days\": 30,\n",
    "            \"resample_rule_overtime_stats\": \"10T\",\n",
    "            \"smoothing_window\": \"42D\",\n",
    "        },\n",
    "    }\n",
    "    config = ccocouti.get_config_from_nested_dict(param_dict)\n",
    "    return config\n",
    "\n",
    "\n",
    "config = get_cmtask2245_config()\n",
    "print(config)"
   ]
  },
  {
   "cell_type": "markdown",
   "id": "7dabd482",
   "metadata": {},
   "source": [
    "# Functions"
   ]
  },
  {
   "cell_type": "code",
   "execution_count": null,
   "id": "27484018",
   "metadata": {},
   "outputs": [],
   "source": [
    "def filter_last_n_days(df: pd.DataFrame, n_days: int) -> pd.DataFrame:\n",
    "    \"\"\"\n",
    "    Isolate last N days from a given dataset.\n",
    "\n",
    "    :param df: data with timestamp as an index\n",
    "    :param n_days: number of days from the latest date to starting period\n",
    "    :return: data for last N days\n",
    "    \"\"\"\n",
    "    # Specify number of days.\n",
    "    period = timedelta(days=n_days)\n",
    "    # Set the min date for the desired period.\n",
    "    start_date = df.index.max() - period + timedelta(minutes=1)\n",
    "    # Filter out the required period.\n",
    "    filtered_df = df.loc[start_date:]\n",
    "    return filtered_df\n",
    "\n",
    "\n",
    "def compute_moving_average_in_multiindex(\n",
    "    df: pd.DataFrame, value_col: str, rolling_window: str\n",
    ") -> pd.DataFrame:\n",
    "    \"\"\"\n",
    "    Calculate Moving Average and convert to multiindex.\n",
    "\n",
    "    :param df: data with values for MA convertation\n",
    "    :param value_col: name of the column to compute MA\n",
    "    :param rolling_window: size of the moving window\n",
    "    :return: multiindex data with computed MA\n",
    "    \"\"\"\n",
    "    # Compute MA.\n",
    "    ma = df[value_col].rolling(rolling_window).mean()\n",
    "    # Attach to Multiindex.\n",
    "    multiindex_df = pd.concat({f\"{value_col}_{rolling_window}\": ma}, axis=1)\n",
    "    return multiindex_df\n",
    "\n",
    "\n",
    "def convert_df_to_same_scale(df: pd.DataFrame, mode: str) -> pd.DataFrame:\n",
    "    \"\"\"\n",
    "    Present numbers in a different format.\n",
    "\n",
    "    :param df: data with values for convertation\n",
    "    :param mode: i.e., \"all_thousands\", \"all_millions\", \"engineering_notation\"\n",
    "    :return: data with converted number scales\n",
    "    \"\"\"\n",
    "    df_new = df.copy()\n",
    "    if mode == \"all_thousands\":\n",
    "        formatter = mpl.ticker.FuncFormatter(\n",
    "            lambda x, pos: \"{:,.0f}\".format(x / 1000) + \"K\"\n",
    "        )\n",
    "        for col in df_new.columns:\n",
    "            df_new[col] = df_new[col].apply(lambda x: formatter(x))\n",
    "    elif mode == \"all_millions\":\n",
    "        formatter = mpl.ticker.FuncFormatter(\n",
    "            lambda x, pos: \"{:,.0f}\".format(x / 1000000) + \"M\"\n",
    "        )\n",
    "        for col in df_new.columns:\n",
    "            df_new[col] = df_new[col].apply(lambda x: formatter(x))\n",
    "    elif mode == \"engineering_notation\":\n",
    "        # Everything is a multiple of 1000s.\n",
    "        formatter = mpl.ticker.EngFormatter(\n",
    "            sep=\"\\N{NARROW NO-BREAK SPACE}\", usetex=True\n",
    "        )\n",
    "        for col in df_new.columns:\n",
    "            df_new[col] = df_new[col].apply(lambda x: formatter(x))\n",
    "    return df_new"
   ]
  },
  {
   "cell_type": "markdown",
   "id": "aff690df",
   "metadata": {},
   "source": [
    "# Load the data"
   ]
  },
  {
   "cell_type": "code",
   "execution_count": null,
   "id": "a5518ad8",
   "metadata": {},
   "outputs": [],
   "source": [
    "# Initiate clients for OHLCV and bid ask data.\n",
    "client_ohlcv = iccdc.CryptoChassisHistoricalPqByTileClient(\n",
    "    **config[\"data_ohlcv\"][\"im_client\"]\n",
    ")\n",
    "client_bid_ask = iccdc.CryptoChassisHistoricalPqByTileClient(\n",
    "    **config[\"data_bid_ask\"][\"im_client\"]\n",
    ")"
   ]
  },
  {
   "cell_type": "code",
   "execution_count": null,
   "id": "dbedc174",
   "metadata": {},
   "outputs": [],
   "source": [
    "# Specify universe.\n",
    "universe_ohlcv = client_ohlcv.get_universe()\n",
    "\n",
    "binance_universe = [\n",
    "    full_symbol\n",
    "    for full_symbol in universe_ohlcv\n",
    "    if full_symbol.startswith(\"binance\")\n",
    "]\n",
    "binance_universe"
   ]
  },
  {
   "cell_type": "code",
   "execution_count": null,
   "id": "b12327bc",
   "metadata": {},
   "outputs": [],
   "source": [
    "# Load both types of data.\n",
    "binance_data_ohlcv = client_ohlcv.read_data(\n",
    "    binance_universe, **config[\"data_ohlcv\"][\"read_data\"]\n",
    ")\n",
    "binance_data_bid_ask = client_bid_ask.read_data(\n",
    "    binance_universe, **config[\"data_bid_ask\"][\"read_data\"]\n",
    ")\n",
    "\n",
    "display(binance_data_ohlcv.head(3))\n",
    "display(binance_data_bid_ask.head(3))"
   ]
  },
  {
   "cell_type": "markdown",
   "id": "7b1eac9e",
   "metadata": {},
   "source": [
    "# Process the data"
   ]
  },
  {
   "cell_type": "code",
   "execution_count": null,
   "id": "1e2b3c80",
   "metadata": {},
   "outputs": [],
   "source": [
    "# Add bid ask features.\n",
    "binance_bid_ask_stats = ramptran.calculate_bid_ask_statistics(\n",
    "    binance_data_bid_ask\n",
    ")\n",
    "# Process OHLCV data: add vwap, twap and returns.\n",
    "binance_data_ohlcv_vwap_twap = ramptran.calculate_vwap_twap(\n",
    "    binance_data_ohlcv, \"1T\"\n",
    ")\n",
    "binance_data_ohlcv_vwap_twap_rets = ramptran.calculate_returns(\n",
    "    binance_data_ohlcv_vwap_twap, rets_type=\"pct_change\"\n",
    ")\n",
    "# Combine OHLCV and bid ask data.\n",
    "data = pd.concat(\n",
    "    [binance_data_ohlcv_vwap_twap_rets, binance_bid_ask_stats], axis=1\n",
    ")\n",
    "display(data.shape)\n",
    "data.head(3)"
   ]
  },
  {
   "cell_type": "markdown",
   "id": "2f32e3f1",
   "metadata": {},
   "source": [
    "# Liquidity metrics"
   ]
  },
  {
   "cell_type": "markdown",
   "id": "830d2798",
   "metadata": {},
   "source": [
    "## Spread"
   ]
  },
  {
   "cell_type": "markdown",
   "id": "dd77e8d6",
   "metadata": {},
   "source": [
    "### General values for the whole period"
   ]
  },
  {
   "cell_type": "code",
   "execution_count": null,
   "id": "a2e5f05f",
   "metadata": {},
   "outputs": [],
   "source": [
    "# One can reuse all the functions for breaking down the stats.\n",
    "# E.g., `calculate_overtime_quantities_multiple_symbols`.\n",
    "resample_rule_stats = \"10T\"\n",
    "stats_df_mult_symbols = ramptran.calculate_overtime_quantities_multiple_symbols(\n",
    "    data, binance_universe, resample_rule_stats\n",
    ")\n",
    "display(stats_df_mult_symbols.head(3))"
   ]
  },
  {
   "cell_type": "code",
   "execution_count": null,
   "id": "65707919",
   "metadata": {},
   "outputs": [],
   "source": [
    "# Average quoted bid/ask spread.\n",
    "avg_quoted_spread = data[\"quoted_spread\"].mean().sort_values(ascending=False)\n",
    "display(avg_quoted_spread)\n",
    "# Plot the graph.\n",
    "avg_quoted_spread.plot.bar()\n",
    "plt.title(\"Avg quoted bid/ask spread\")\n",
    "plt.show()"
   ]
  },
  {
   "cell_type": "code",
   "execution_count": null,
   "id": "3be85a9c",
   "metadata": {},
   "outputs": [],
   "source": [
    "# Average relative bid/ask spread (in bps).\n",
    "avg_relative_spread = (\n",
    "    data[\"relative_spread_bps\"].mean().sort_values(ascending=False)\n",
    ")\n",
    "display(avg_relative_spread)\n",
    "# Plot the graph.\n",
    "avg_relative_spread.plot.bar()\n",
    "plt.title(\"Avg relative bid/ask spread (in bps)\")\n",
    "plt.show()"
   ]
  },
  {
   "cell_type": "markdown",
   "id": "10cdce73",
   "metadata": {},
   "source": [
    "### Smoothing values"
   ]
  },
  {
   "cell_type": "code",
   "execution_count": null,
   "id": "000ae33a",
   "metadata": {},
   "outputs": [],
   "source": [
    "# Combine original spread with smoothing one.\n",
    "smoothing_window = config[\"stats\"][\"smoothing_window\"]\n",
    "spread_bps = pd.concat(\n",
    "    [\n",
    "        pd.concat({\"relative_spread_bps\": data[\"relative_spread_bps\"]}, axis=1),\n",
    "        compute_moving_average_in_multiindex(\n",
    "            data, \"relative_spread_bps\", smoothing_window\n",
    "        ),\n",
    "    ],\n",
    "    axis=1,\n",
    ")\n",
    "# Show the window columns and data snippet.\n",
    "window_cols = list(spread_bps.columns.get_level_values(0).unique())\n",
    "display(window_cols)\n",
    "display(spread_bps.head(3))"
   ]
  },
  {
   "cell_type": "code",
   "execution_count": null,
   "id": "54531945",
   "metadata": {},
   "outputs": [],
   "source": [
    "# Plot the results.\n",
    "for col in window_cols:\n",
    "    spread_bps[col].plot()\n",
    "    plt.title(col)"
   ]
  },
  {
   "cell_type": "markdown",
   "id": "d966a208",
   "metadata": {},
   "source": [
    "## Median daily volume in dollar"
   ]
  },
  {
   "cell_type": "markdown",
   "id": "4469625c",
   "metadata": {},
   "source": [
    "### General values for the whole period"
   ]
  },
  {
   "cell_type": "code",
   "execution_count": null,
   "id": "ecf7a126",
   "metadata": {},
   "outputs": [],
   "source": [
    "# Compute notional volume (price*volume).\n",
    "notional_volume = data[\"volume\"].mul(data[\"close\"], fill_value=0)\n",
    "display(convert_df_to_same_scale(notional_volume, \"all_thousands\").head(3))"
   ]
  },
  {
   "cell_type": "code",
   "execution_count": null,
   "id": "c87052a3",
   "metadata": {},
   "outputs": [],
   "source": [
    "# Mean value for daily total notional volume per day in last N days.\n",
    "daily_notional_vol = notional_volume.resample(\"1D\").sum()\n",
    "mean_daily_vol = (\n",
    "    filter_last_n_days(daily_notional_vol, config[\"stats\"][\"n_days\"])\n",
    "    .mean()\n",
    "    .sort_values(ascending=False)\n",
    ")\n",
    "display(\n",
    "    convert_df_to_same_scale(\n",
    "        mean_daily_vol.rename(\"avg_daily_volume\").to_frame(), \"all_millions\"\n",
    "    )\n",
    ")\n",
    "mean_daily_vol.plot.bar()"
   ]
  },
  {
   "cell_type": "markdown",
   "id": "00a9bc85",
   "metadata": {},
   "source": [
    "### Smoothing values"
   ]
  },
  {
   "cell_type": "code",
   "execution_count": null,
   "id": "0a2ea47b",
   "metadata": {},
   "outputs": [],
   "source": [
    "# Create DataFrame with smoothed MDVs.\n",
    "# Original MDV.\n",
    "mdv_converted = pd.concat({\"daily_notional_vol\": daily_notional_vol}, axis=1)\n",
    "# Combine original and all three windows in one DataFrame.\n",
    "mean_daily_volume = pd.concat(\n",
    "    [\n",
    "        mdv_converted,\n",
    "        compute_moving_average_in_multiindex(\n",
    "            mdv_converted, \"daily_notional_vol\", smoothing_window\n",
    "        ),\n",
    "    ],\n",
    "    axis=1,\n",
    ")\n",
    "# Show the window columns and data snippet.\n",
    "window_cols_mdv = list(mean_daily_volume.columns.get_level_values(0).unique())\n",
    "display(window_cols_mdv)\n",
    "# display(mean_daily_volume.head(3))\n",
    "display(convert_df_to_same_scale(mean_daily_volume, \"all_millions\").head(3))"
   ]
  },
  {
   "cell_type": "code",
   "execution_count": null,
   "id": "6c5201a1",
   "metadata": {},
   "outputs": [],
   "source": [
    "# Plot the results.\n",
    "for col in window_cols_mdv:\n",
    "    mean_daily_volume[col].plot()\n",
    "    plt.title(col)"
   ]
  }
 ],
 "metadata": {
  "kernelspec": {
   "display_name": "Python 3 (ipykernel)",
   "language": "python",
   "name": "python3"
  },
  "language_info": {
   "codemirror_mode": {
    "name": "ipython",
    "version": 3
   },
   "file_extension": ".py",
   "mimetype": "text/x-python",
   "name": "python",
   "nbconvert_exporter": "python",
   "pygments_lexer": "ipython3"
  },
  "toc": {
   "base_numbering": 1,
   "nav_menu": {},
   "number_sections": true,
   "sideBar": true,
   "skip_h1_title": false,
   "title_cell": "Table of Contents",
   "title_sidebar": "Contents",
   "toc_cell": false,
   "toc_position": {
    "height": "calc(100% - 180px)",
    "left": "10px",
    "top": "150px",
    "width": "384px"
   },
   "toc_section_display": true,
   "toc_window_display": true
  }
 },
 "nbformat": 4,
 "nbformat_minor": 5
}
