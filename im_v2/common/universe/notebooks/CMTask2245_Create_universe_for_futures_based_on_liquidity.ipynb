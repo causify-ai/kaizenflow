{
 "cells": [
  {
   "cell_type": "markdown",
   "id": "56364cbd",
   "metadata": {},
   "source": [
    "# Import"
   ]
  },
  {
   "cell_type": "code",
   "execution_count": null,
   "id": "2001590d",
   "metadata": {},
   "outputs": [],
   "source": [
    "%load_ext autoreload\n",
    "%autoreload 2\n",
    "\n",
    "import logging\n",
    "import os\n",
    "from datetime import timedelta\n",
    "\n",
    "import matplotlib.pyplot as plt\n",
    "import pandas as pd\n",
    "\n",
    "import core.config.config_ as cconconf\n",
    "import core.config.config_utils as ccocouti\n",
    "import dataflow.system.source_nodes as dtfsysonod\n",
    "import helpers.hdbg as hdbg\n",
    "import helpers.henv as henv\n",
    "import helpers.hprint as hprint\n",
    "import helpers.hs3 as hs3\n",
    "import im_v2.crypto_chassis.data.client as iccdc\n",
    "import research_amp.transform as ramptran"
   ]
  },
  {
   "cell_type": "code",
   "execution_count": null,
   "id": "ca8be0ca",
   "metadata": {},
   "outputs": [],
   "source": [
    "hdbg.init_logger(verbosity=logging.INFO)\n",
    "\n",
    "_LOG = logging.getLogger(__name__)\n",
    "\n",
    "_LOG.info(\"%s\", henv.get_system_signature()[0])\n",
    "\n",
    "hprint.config_notebook()"
   ]
  },
  {
   "cell_type": "markdown",
   "id": "67918678",
   "metadata": {},
   "source": [
    "# Config"
   ]
  },
  {
   "cell_type": "code",
   "execution_count": null,
   "id": "a329ff35",
   "metadata": {},
   "outputs": [],
   "source": [
    "def get_cmtask2245_config() -> cconconf.Config:\n",
    "    \"\"\"\n",
    "    Get config for loading and processing crypto-chassis futures data.\n",
    "    \"\"\"\n",
    "    config = cconconf.Config()\n",
    "    param_dict = {\n",
    "        \"data_ohlcv\": {\n",
    "            # Parameters for client initialization.\n",
    "            \"im_client\": {\n",
    "                \"universe_version\": \"v2\",\n",
    "                \"resample_1min\": False,\n",
    "                \"root_dir\": os.path.join(\n",
    "                    hs3.get_s3_bucket_path(\"ck\"), \"reorg\", \"historical.manual.pq\"\n",
    "                ),\n",
    "                \"partition_mode\": \"by_year_month\",\n",
    "                \"dataset\": \"ohlcv\",\n",
    "                \"contract_type\": \"futures\",\n",
    "                \"data_snapshot\": \"20220620\",\n",
    "                \"aws_profile\": \"ck\",\n",
    "            },\n",
    "            # Parameters for data query.\n",
    "            \"read_data\": {\n",
    "                \"start_ts\": None,\n",
    "                \"end_ts\": None,\n",
    "                \"columns\": [\"full_symbol\", \"close\", \"volume\"],\n",
    "                \"filter_data_mode\": \"assert\",\n",
    "            },\n",
    "        },\n",
    "        \"data_bid_ask\": {\n",
    "            # Parameters for client initialization.\n",
    "            \"im_client\": {\n",
    "                \"universe_version\": \"v2\",\n",
    "                \"resample_1min\": True,  # False,\n",
    "                \"root_dir\": os.path.join(\n",
    "                    hs3.get_s3_bucket_path(\"ck\"), \"reorg\", \"historical.manual.pq\"\n",
    "                ),\n",
    "                \"partition_mode\": \"by_year_month\",\n",
    "                \"dataset\": \"bid_ask\",\n",
    "                \"contract_type\": \"futures\",\n",
    "                \"data_snapshot\": \"20220620\",\n",
    "                \"aws_profile\": \"ck\",\n",
    "            },\n",
    "            # Parameters for data query.\n",
    "            \"read_data\": {\n",
    "                \"start_ts\": None,\n",
    "                \"end_ts\": None,\n",
    "                \"columns\": None,  # [\"full_symbol\", \"close\", \"volume\"],\n",
    "                \"filter_data_mode\": \"assert\",\n",
    "            },\n",
    "        },\n",
    "        \"column_names\": {\n",
    "            \"full_symbol\": \"full_symbol\",\n",
    "            \"close_price\": \"close\",\n",
    "        },\n",
    "        \"stats\": {\n",
    "            \"n_days\": 30,\n",
    "        },\n",
    "    }\n",
    "    config = ccocouti.get_config_from_nested_dict(param_dict)\n",
    "    return config\n",
    "\n",
    "\n",
    "config = get_cmtask2245_config()\n",
    "print(config)"
   ]
  },
  {
   "cell_type": "markdown",
   "id": "7dabd482",
   "metadata": {},
   "source": [
    "# Functions"
   ]
  },
  {
   "cell_type": "code",
   "execution_count": null,
   "id": "27484018",
   "metadata": {},
   "outputs": [],
   "source": [
    "def filter_last_n_days(df, n_days):\n",
    "    # Specify number of days.\n",
    "    period = timedelta(days=n_days)\n",
    "    # Set the min date for the desired period.\n",
    "    start_date = df.index.max() - period + timedelta(minutes=1)\n",
    "    # Filter out the required period.\n",
    "    filtered_df = df.loc[start_date:]\n",
    "    return filtered_df\n",
    "\n",
    "\n",
    "def compute_moving_average_in_multiindex(df, value_col, rolling_window):\n",
    "    # Compute MA.\n",
    "    ma = df[value_col].rolling(rolling_window).mean()\n",
    "    # Attach to Multiindex.\n",
    "    ma_converted = pd.concat({f\"{value_col}_{rolling_window}\": ma}, axis=1)\n",
    "    return ma_converted"
   ]
  },
  {
   "cell_type": "markdown",
   "id": "aff690df",
   "metadata": {},
   "source": [
    "# Load the data"
   ]
  },
  {
   "cell_type": "code",
   "execution_count": null,
   "id": "a5518ad8",
   "metadata": {},
   "outputs": [],
   "source": [
    "# Initiate clients for OHLCV and bid ask data.\n",
    "client_ohlcv = iccdc.CryptoChassisHistoricalPqByTileClient(\n",
    "    **config[\"data_ohlcv\"][\"im_client\"]\n",
    ")\n",
    "client_bid_ask = iccdc.CryptoChassisHistoricalPqByTileClient(\n",
    "    **config[\"data_bid_ask\"][\"im_client\"]\n",
    ")"
   ]
  },
  {
   "cell_type": "code",
   "execution_count": null,
   "id": "dbedc174",
   "metadata": {},
   "outputs": [],
   "source": [
    "# Specify universe.\n",
    "universe_ohlcv = client_ohlcv.get_universe()\n",
    "\n",
    "binance_universe = [\n",
    "    full_symbol\n",
    "    for full_symbol in universe_ohlcv\n",
    "    if full_symbol.startswith(\"binance\")\n",
    "]\n",
    "binance_universe"
   ]
  },
  {
   "cell_type": "code",
   "execution_count": null,
   "id": "b12327bc",
   "metadata": {},
   "outputs": [],
   "source": [
    "# Load both types of data.\n",
    "binance_data_ohlcv = client_ohlcv.read_data(\n",
    "    binance_universe, **config[\"data_ohlcv\"][\"read_data\"]\n",
    ")\n",
    "binance_data_bid_ask = client_bid_ask.read_data(\n",
    "    binance_universe, **config[\"data_bid_ask\"][\"read_data\"]\n",
    ")\n",
    "\n",
    "display(binance_data_ohlcv.head(3))\n",
    "display(binance_data_bid_ask.head(3))"
   ]
  },
  {
   "cell_type": "markdown",
   "id": "7b1eac9e",
   "metadata": {},
   "source": [
    "# Process the data"
   ]
  },
  {
   "cell_type": "code",
   "execution_count": null,
   "id": "1e2b3c80",
   "metadata": {},
   "outputs": [],
   "source": [
    "# Add bid ask features.\n",
    "binance_bid_ask_stats = ramptran.calculate_bid_ask_statistics(\n",
    "    binance_data_bid_ask\n",
    ")\n",
    "# Process OHLCV data.\n",
    "binance_ohlcv_converted = dtfsysonod._convert_to_multiindex(\n",
    "    binance_data_ohlcv, \"full_symbol\"\n",
    ")\n",
    "# Combine OHLCV and bid ask data.\n",
    "data = pd.concat([binance_ohlcv_converted, binance_bid_ask_stats], axis=1)\n",
    "display(data.shape)\n",
    "data.head(3)"
   ]
  },
  {
   "cell_type": "markdown",
   "id": "2f32e3f1",
   "metadata": {},
   "source": [
    "# Liquidity metrics"
   ]
  },
  {
   "cell_type": "markdown",
   "id": "830d2798",
   "metadata": {},
   "source": [
    "## Spread"
   ]
  },
  {
   "cell_type": "markdown",
   "id": "dd77e8d6",
   "metadata": {},
   "source": [
    "### General values for the whole period"
   ]
  },
  {
   "cell_type": "code",
   "execution_count": null,
   "id": "65707919",
   "metadata": {},
   "outputs": [],
   "source": [
    "# Average quoted bid/ask spread.\n",
    "avg_quoted_spread = data[\"quoted_spread\"].mean().sort_values(ascending=False)\n",
    "display(avg_quoted_spread)\n",
    "# Plot the graph.\n",
    "avg_quoted_spread.plot.bar()\n",
    "plt.title(\"Avg quoted bid/ask spread\")\n",
    "plt.show()"
   ]
  },
  {
   "cell_type": "code",
   "execution_count": null,
   "id": "3be85a9c",
   "metadata": {},
   "outputs": [],
   "source": [
    "# Average relative bid/ask spread (in bps).\n",
    "avg_relative_spread = (\n",
    "    data[\"relative_spread_bps\"].mean().sort_values(ascending=False)\n",
    ")\n",
    "display(avg_relative_spread)\n",
    "# Plot the graph.\n",
    "avg_relative_spread.plot.bar()\n",
    "plt.title(\"Avg relative bid/ask spread (in bps)\")\n",
    "plt.show()"
   ]
  },
  {
   "cell_type": "markdown",
   "id": "10cdce73",
   "metadata": {},
   "source": [
    "### Smoothing values"
   ]
  },
  {
   "cell_type": "code",
   "execution_count": null,
   "id": "000ae33a",
   "metadata": {},
   "outputs": [],
   "source": [
    "# Combine all three windows in one DataFrame.\n",
    "spread_bps = pd.concat(\n",
    "    [\n",
    "        compute_moving_average_in_multiindex(data, \"relative_spread_bps\", \"21D\"),\n",
    "        compute_moving_average_in_multiindex(data, \"relative_spread_bps\", \"42D\"),\n",
    "        compute_moving_average_in_multiindex(data, \"relative_spread_bps\", \"63D\"),\n",
    "    ],\n",
    "    axis=1,\n",
    ")\n",
    "# Show the window columns and data snippet.\n",
    "window_cols = list(spread_bps.columns.get_level_values(0).unique())\n",
    "display(window_cols)\n",
    "display(spread_bps.head(3))"
   ]
  },
  {
   "cell_type": "code",
   "execution_count": null,
   "id": "54531945",
   "metadata": {},
   "outputs": [],
   "source": [
    "# Plot the results.\n",
    "for col in window_cols:\n",
    "    spread_bps[col].plot()\n",
    "    plt.title(col)"
   ]
  },
  {
   "cell_type": "markdown",
   "id": "d966a208",
   "metadata": {},
   "source": [
    "## Median daily volume in dollar"
   ]
  },
  {
   "cell_type": "markdown",
   "id": "4469625c",
   "metadata": {},
   "source": [
    "### General values for the whole period"
   ]
  },
  {
   "cell_type": "code",
   "execution_count": null,
   "id": "ecf7a126",
   "metadata": {},
   "outputs": [],
   "source": [
    "# Compute notional volume (price*volume).\n",
    "notional_volume = data[\"volume\"].mul(data[\"close\"], fill_value=0)\n",
    "notional_volume.head(3)"
   ]
  },
  {
   "cell_type": "code",
   "execution_count": null,
   "id": "700483bb",
   "metadata": {},
   "outputs": [],
   "source": [
    "# For each day choose median notional volume.\n",
    "mdv = notional_volume.resample(\"1D\").median()\n",
    "mdv.head(3)"
   ]
  },
  {
   "cell_type": "code",
   "execution_count": null,
   "id": "6472b38b",
   "metadata": {},
   "outputs": [],
   "source": [
    "# Then it becomes unclear how to use this data.\n",
    "# E.g. we can compute avg median notional volume for the last 30 days.\n",
    "filter_last_n_days(mdv, config[\"stats\"][\"n_days\"]).mean().sort_values(\n",
    "    ascending=False\n",
    ").plot.bar()"
   ]
  },
  {
   "cell_type": "code",
   "execution_count": null,
   "id": "0a2ea47b",
   "metadata": {},
   "outputs": [],
   "source": [
    "# Or create DataFrame with smoothed MDVs.\n",
    "# Original MDV.\n",
    "mdv_converted = pd.concat({\"mdv\": mdv}, axis=1)\n",
    "# Combine original and all three windows in one DataFrame.\n",
    "median_daily_volume = pd.concat(\n",
    "    [\n",
    "        mdv_converted,\n",
    "        compute_moving_average_in_multiindex(mdv_converted, \"mdv\", \"21D\"),\n",
    "        compute_moving_average_in_multiindex(mdv_converted, \"mdv\", \"42D\"),\n",
    "        compute_moving_average_in_multiindex(mdv_converted, \"mdv\", \"63D\"),\n",
    "    ],\n",
    "    axis=1,\n",
    ")\n",
    "# Show the window columns and data snippet.\n",
    "window_cols_mdv = list(median_daily_volume.columns.get_level_values(0).unique())\n",
    "display(window_cols_mdv)\n",
    "display(median_daily_volume.head(3))"
   ]
  },
  {
   "cell_type": "code",
   "execution_count": null,
   "id": "6c5201a1",
   "metadata": {},
   "outputs": [],
   "source": [
    "# Plot the results.\n",
    "for col in window_cols_mdv:\n",
    "    median_daily_volume[col].plot()\n",
    "    plt.title(col)"
   ]
  }
 ],
 "metadata": {
  "kernelspec": {
   "display_name": "Python 3 (ipykernel)",
   "language": "python",
   "name": "python3"
  },
  "language_info": {
   "codemirror_mode": {
    "name": "ipython",
    "version": 3
   },
   "file_extension": ".py",
   "mimetype": "text/x-python",
   "name": "python",
   "nbconvert_exporter": "python",
   "pygments_lexer": "ipython3"
  },
  "toc": {
   "base_numbering": 1,
   "nav_menu": {},
   "number_sections": true,
   "sideBar": true,
   "skip_h1_title": false,
   "title_cell": "Table of Contents",
   "title_sidebar": "Contents",
   "toc_cell": false,
   "toc_position": {},
   "toc_section_display": true,
   "toc_window_display": true
  }
 },
 "nbformat": 4,
 "nbformat_minor": 5
}
