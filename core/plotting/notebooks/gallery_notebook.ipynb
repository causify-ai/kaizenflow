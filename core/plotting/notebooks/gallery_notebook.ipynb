{
 "cells": [
  {
   "cell_type": "markdown",
   "id": "ee8d216b",
   "metadata": {
    "ExecuteTime": {
     "end_time": "2023-07-05T18:24:07.542931Z",
     "start_time": "2023-07-05T18:24:07.515073Z"
    }
   },
   "source": [
    "# Description\n",
    "\n",
    "This gallery notebook is used to verify that `amp/core/plotting` functions display plots correctly."
   ]
  },
  {
   "cell_type": "code",
   "execution_count": 1,
   "id": "d94530b2",
   "metadata": {
    "ExecuteTime": {
     "end_time": "2023-08-07T17:05:19.244131Z",
     "start_time": "2023-08-07T17:05:18.592003Z"
    }
   },
   "outputs": [],
   "source": [
    "%load_ext autoreload\n",
    "%autoreload 2\n",
    "%matplotlib inline"
   ]
  },
  {
   "cell_type": "markdown",
   "id": "a505f7c6",
   "metadata": {},
   "source": [
    "# Imports"
   ]
  },
  {
   "cell_type": "code",
   "execution_count": null,
   "id": "c98c1220",
   "metadata": {
    "ExecuteTime": {
     "start_time": "2023-08-07T17:05:17.471Z"
    },
    "run_control": {
     "marked": false
    }
   },
   "outputs": [],
   "source": [
    "import logging\n",
    "\n",
    "import matplotlib.pyplot as plt\n",
    "import numpy as np\n",
    "\n",
    "import core.config as cconfig\n",
    "import core.plotting.correlation as cplocorr\n",
    "import core.plotting.misc_plotting as cplmiplo\n",
    "import core.plotting.test.test_plots as cptetepl\n",
    "import core.plotting.visual_stationarity_test as cpvistte\n",
    "import dataflow.model.model_plotter as dtfmomoplo\n",
    "import dataflow.model.test.test_model_evaluator as cdmttme\n",
    "import helpers.hdbg as hdbg\n",
    "import helpers.henv as henv\n",
    "import helpers.hprint as hprint"
   ]
  },
  {
   "cell_type": "code",
   "execution_count": null,
   "id": "16431f12",
   "metadata": {
    "ExecuteTime": {
     "start_time": "2023-08-07T17:05:17.473Z"
    }
   },
   "outputs": [],
   "source": [
    "hdbg.init_logger(verbosity=logging.INFO)\n",
    "\n",
    "_LOG = logging.getLogger(__name__)\n",
    "\n",
    "_LOG.info(\"%s\", henv.get_system_signature()[0])\n",
    "\n",
    "hprint.config_notebook()"
   ]
  },
  {
   "cell_type": "markdown",
   "id": "9a3b00f7",
   "metadata": {},
   "source": [
    "# Build config"
   ]
  },
  {
   "cell_type": "code",
   "execution_count": null,
   "id": "a200f950",
   "metadata": {
    "ExecuteTime": {
     "start_time": "2023-08-07T17:05:17.474Z"
    }
   },
   "outputs": [],
   "source": [
    "config = cconfig.get_config_from_env()\n",
    "if config:\n",
    "    _LOG.info(\"Using config from env vars\")\n",
    "else:\n",
    "    _LOG.info(\"Using hardwired config\")\n",
    "    config_dict = {\"figsize\": (20, 10)}\n",
    "    config = cconfig.Config.from_dict(config_dict)\n",
    "print(config)"
   ]
  },
  {
   "cell_type": "markdown",
   "id": "23bb256b",
   "metadata": {},
   "source": [
    "# Plots"
   ]
  },
  {
   "cell_type": "markdown",
   "id": "8c07e613",
   "metadata": {},
   "source": [
    "## `plot_histograms_and_lagged_scatterplot()`"
   ]
  },
  {
   "cell_type": "code",
   "execution_count": null,
   "id": "5dab9cad",
   "metadata": {
    "ExecuteTime": {
     "start_time": "2023-08-07T17:05:17.475Z"
    },
    "lines_to_next_cell": 0
   },
   "outputs": [],
   "source": [
    "# Set inputs.\n",
    "srs = cptetepl.Test_plots.get_plot_histograms_and_lagged_scatterplot1()\n",
    "lag = 7"
   ]
  },
  {
   "cell_type": "code",
   "execution_count": null,
   "id": "6557d062",
   "metadata": {
    "ExecuteTime": {
     "start_time": "2023-08-07T17:05:17.476Z"
    }
   },
   "outputs": [],
   "source": [
    "# TODO(Dan): Remove after integration with `cmamp`. Changes from Cm #4722 are not in `sorrentum` yet.\n",
    "cpvistte.plot_histograms_and_lagged_scatterplot(\n",
    "    srs, lag, figsize=config[\"figsize\"]\n",
    ")"
   ]
  },
  {
   "cell_type": "markdown",
   "id": "ec853abb",
   "metadata": {
    "lines_to_next_cell": 0
   },
   "source": [
    "## `plot_timeseries_distribution()`"
   ]
  },
  {
   "cell_type": "code",
   "execution_count": null,
   "id": "feab24b2",
   "metadata": {
    "ExecuteTime": {
     "start_time": "2023-08-07T17:05:17.477Z"
    }
   },
   "outputs": [],
   "source": [
    "# Set inputs for hour interval.\n",
    "srs = cptetepl.Test_plots.get_plot_timeseries_distribution1()"
   ]
  },
  {
   "cell_type": "code",
   "execution_count": null,
   "id": "a1845596",
   "metadata": {
    "ExecuteTime": {
     "start_time": "2023-08-07T17:05:17.478Z"
    }
   },
   "outputs": [],
   "source": [
    "datetime_types = [\"hour\"]\n",
    "cplmiplo.plot_timeseries_distribution(srs, datetime_types)"
   ]
  },
  {
   "cell_type": "code",
   "execution_count": null,
   "id": "0cac2a2c",
   "metadata": {
    "ExecuteTime": {
     "start_time": "2023-08-07T17:05:17.479Z"
    }
   },
   "outputs": [],
   "source": [
    "datetime_types = [\"hour\", \"month\"]\n",
    "cplmiplo.plot_timeseries_distribution(srs, datetime_types)"
   ]
  },
  {
   "cell_type": "markdown",
   "id": "17df1eb7",
   "metadata": {},
   "source": [
    "## `plot_time_series_by_period()`"
   ]
  },
  {
   "cell_type": "code",
   "execution_count": null,
   "id": "cc380f73",
   "metadata": {
    "ExecuteTime": {
     "start_time": "2023-08-07T17:05:17.480Z"
    }
   },
   "outputs": [],
   "source": [
    "# Set inputs.\n",
    "test_series = cptetepl.Test_plots.get_plot_time_series_by_period1()"
   ]
  },
  {
   "cell_type": "code",
   "execution_count": null,
   "id": "eda8556b",
   "metadata": {
    "ExecuteTime": {
     "start_time": "2023-08-07T17:05:17.480Z"
    },
    "scrolled": true
   },
   "outputs": [],
   "source": [
    "period = \"day\"\n",
    "cplmiplo.plot_time_series_by_period(test_series, period)"
   ]
  },
  {
   "cell_type": "code",
   "execution_count": null,
   "id": "29026f21",
   "metadata": {
    "ExecuteTime": {
     "start_time": "2023-08-07T17:05:17.482Z"
    }
   },
   "outputs": [],
   "source": [
    "period = \"time\"\n",
    "cplmiplo.plot_time_series_by_period(test_series, period)"
   ]
  },
  {
   "cell_type": "markdown",
   "id": "2ac4e269",
   "metadata": {},
   "source": [
    "## `plot_heatmap()`"
   ]
  },
  {
   "cell_type": "code",
   "execution_count": null,
   "id": "63cd833e",
   "metadata": {
    "ExecuteTime": {
     "start_time": "2023-08-07T17:05:17.483Z"
    }
   },
   "outputs": [],
   "source": [
    "mode = \"clustermap\"\n",
    "corr_df = cptetepl.Test_plots.get_plot_heatmap1()"
   ]
  },
  {
   "cell_type": "code",
   "execution_count": null,
   "id": "45bc020a",
   "metadata": {
    "ExecuteTime": {
     "start_time": "2023-08-07T17:05:17.484Z"
    }
   },
   "outputs": [],
   "source": [
    "cplocorr.plot_heatmap(corr_df, mode, figsize=config[\"figsize\"])"
   ]
  },
  {
   "cell_type": "markdown",
   "id": "38445004",
   "metadata": {},
   "source": [
    "## `plot_rets_signal_analysis()`"
   ]
  },
  {
   "cell_type": "code",
   "execution_count": null,
   "id": "d9d90438",
   "metadata": {
    "ExecuteTime": {
     "start_time": "2023-08-07T17:05:17.484Z"
    },
    "lines_to_next_cell": 2
   },
   "outputs": [],
   "source": [
    "evaluator, eval_config = cdmttme.get_example_model_evaluator()\n",
    "plotter = dtfmomoplo.ModelPlotter(evaluator)\n",
    "keys = None"
   ]
  },
  {
   "cell_type": "code",
   "execution_count": null,
   "id": "130828ff",
   "metadata": {
    "ExecuteTime": {
     "start_time": "2023-08-07T17:05:17.486Z"
    }
   },
   "outputs": [],
   "source": [
    "plotter.plot_performance(\n",
    "    keys=keys,\n",
    "    resample_rule=eval_config[\"resample_rule\"],\n",
    "    mode=eval_config[\"mode\"],\n",
    "    target_volatility=eval_config[\"target_volatility\"],\n",
    ")"
   ]
  },
  {
   "cell_type": "markdown",
   "id": "0a02731f",
   "metadata": {},
   "source": [
    "## `plot_rets_signal_analysis()`"
   ]
  },
  {
   "cell_type": "code",
   "execution_count": null,
   "id": "58f8a4b7",
   "metadata": {
    "ExecuteTime": {
     "start_time": "2023-08-07T17:05:17.487Z"
    },
    "lines_to_next_cell": 2
   },
   "outputs": [],
   "source": [
    "# Set inputs.\n",
    "evaluator, eval_config = cdmttme.get_example_model_evaluator()\n",
    "# Build the ModelPlotter.\n",
    "plotter = dtfmomoplo.ModelPlotter(evaluator)\n",
    "keys = None\n",
    "plotter.plot_performance(\n",
    "    keys=keys,\n",
    "    resample_rule=eval_config[\"resample_rule\"],\n",
    "    mode=eval_config[\"mode\"],\n",
    "    target_volatility=eval_config[\"target_volatility\"],\n",
    ")"
   ]
  },
  {
   "cell_type": "markdown",
   "id": "fa08432a",
   "metadata": {},
   "source": [
    "## `plot_effective_correlation_rank()`"
   ]
  },
  {
   "cell_type": "code",
   "execution_count": null,
   "id": "eaa465b8",
   "metadata": {
    "ExecuteTime": {
     "start_time": "2023-08-07T17:05:17.488Z"
    }
   },
   "outputs": [],
   "source": [
    "# Set inputs.\n",
    "test_df = cptetepl.Test_plots.get_plot_effective_correlation_rank1()"
   ]
  },
  {
   "cell_type": "code",
   "execution_count": null,
   "id": "625f219b",
   "metadata": {
    "ExecuteTime": {
     "start_time": "2023-08-07T17:05:17.489Z"
    }
   },
   "outputs": [],
   "source": [
    "cplocorr.plot_effective_correlation_rank(test_df)"
   ]
  },
  {
   "cell_type": "code",
   "execution_count": null,
   "id": "2d6c2263",
   "metadata": {
    "ExecuteTime": {
     "start_time": "2023-08-07T17:05:17.489Z"
    }
   },
   "outputs": [],
   "source": [
    "num_q_values = 5\n",
    "q_values = np.random.uniform(1, 10, num_q_values).tolist()\n",
    "cplocorr.plot_effective_correlation_rank(test_df, q_values)"
   ]
  },
  {
   "cell_type": "markdown",
   "id": "53bd755f",
   "metadata": {},
   "source": [
    "## `plot_spectrum()`"
   ]
  },
  {
   "cell_type": "code",
   "execution_count": null,
   "id": "ad570753",
   "metadata": {
    "ExecuteTime": {
     "start_time": "2023-08-07T17:05:17.490Z"
    }
   },
   "outputs": [],
   "source": [
    "# Set inputs.\n",
    "test_df = cptetepl.Test_plots.get_plot_spectrum1()"
   ]
  },
  {
   "cell_type": "code",
   "execution_count": null,
   "id": "4ee60017",
   "metadata": {
    "ExecuteTime": {
     "start_time": "2023-08-07T17:05:17.491Z"
    }
   },
   "outputs": [],
   "source": [
    "cplmiplo.plot_spectrum(test_df)"
   ]
  },
  {
   "cell_type": "code",
   "execution_count": null,
   "id": "eeac8c83",
   "metadata": {
    "ExecuteTime": {
     "start_time": "2023-08-07T17:05:17.491Z"
    }
   },
   "outputs": [],
   "source": [
    "_, axes = plt.subplots(2, 2, figsize=config[\"figsize\"])\n",
    "axes_flat = axes.flatten()\n",
    "cplmiplo.plot_spectrum(signal=test_df, axes=axes_flat)"
   ]
  },
  {
   "cell_type": "code",
   "execution_count": null,
   "id": "90df1da2",
   "metadata": {},
   "outputs": [],
   "source": []
  }
 ],
 "metadata": {
  "kernelspec": {
   "display_name": "Python 3 (ipykernel)",
   "language": "python",
   "name": "python3"
  },
  "language_info": {
   "codemirror_mode": {
    "name": "ipython",
    "version": 3
   },
   "file_extension": ".py",
   "mimetype": "text/x-python",
   "name": "python",
   "nbconvert_exporter": "python",
   "pygments_lexer": "ipython3",
   "version": "3.8.10"
  },
  "toc": {
   "base_numbering": 1,
   "nav_menu": {},
   "number_sections": true,
   "sideBar": true,
   "skip_h1_title": false,
   "title_cell": "Table of Contents",
   "title_sidebar": "Contents",
   "toc_cell": false,
   "toc_position": {},
   "toc_section_display": true,
   "toc_window_display": false
  }
 },
 "nbformat": 4,
 "nbformat_minor": 5
}
