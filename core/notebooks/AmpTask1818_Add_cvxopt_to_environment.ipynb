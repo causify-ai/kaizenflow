{
 "cells": [
  {
   "cell_type": "code",
   "execution_count": null,
   "id": "a02b3663",
   "metadata": {},
   "outputs": [],
   "source": [
    "# !pip install cvxopt\n",
    "import cvxpy as cp"
   ]
  },
  {
   "cell_type": "code",
   "execution_count": null,
   "id": "b0adf7dd",
   "metadata": {},
   "outputs": [],
   "source": [
    "import numpy as np"
   ]
  },
  {
   "cell_type": "markdown",
   "id": "bc8d7b0d",
   "metadata": {},
   "source": [
    "# Example 1"
   ]
  },
  {
   "cell_type": "code",
   "execution_count": null,
   "id": "09a2ffe5",
   "metadata": {},
   "outputs": [],
   "source": [
    "# Reproduce the example from `https://www.cvxpy.org/index.html`.\n",
    "\n",
    "# Problem data.\n",
    "m = 30\n",
    "n = 20\n",
    "np.random.seed(1)\n",
    "A = np.random.randn(m, n)\n",
    "b = np.random.randn(m)\n",
    "\n",
    "# Construct the problem.\n",
    "x = cp.Variable(n)\n",
    "objective = cp.Minimize(cp.sum_squares(A @ x - b))\n",
    "constraints = [0 <= x, x <= 1]\n",
    "prob = cp.Problem(objective, constraints)\n",
    "\n",
    "# The optimal objective value is returned by `prob.solve()`.\n",
    "result = prob.solve()\n",
    "# The optimal value for x is stored in `x.value`.\n",
    "print(x.value)\n",
    "# The optimal Lagrange multiplier for a constraint is stored in\n",
    "# `constraint.dual_value`.\n",
    "print(constraints[0].dual_value)"
   ]
  },
  {
   "cell_type": "code",
   "execution_count": null,
   "id": "d9162d5c",
   "metadata": {},
   "outputs": [],
   "source": [
    "# https://www.cvxpy.org/tutorial/advanced/index.html#getting-the-standard-form\n",
    "pd1, pd2, pd3 = prob.get_problem_data(cp.CVXOPT)"
   ]
  },
  {
   "cell_type": "code",
   "execution_count": null,
   "id": "6bcde40b",
   "metadata": {},
   "outputs": [],
   "source": [
    "pd1"
   ]
  },
  {
   "cell_type": "code",
   "execution_count": null,
   "id": "6e9660eb",
   "metadata": {},
   "outputs": [],
   "source": [
    "pd2"
   ]
  },
  {
   "cell_type": "code",
   "execution_count": null,
   "id": "ee74b74d",
   "metadata": {},
   "outputs": [],
   "source": [
    "pd3"
   ]
  },
  {
   "cell_type": "markdown",
   "id": "954dd5cb",
   "metadata": {},
   "source": [
    "# Example 2"
   ]
  },
  {
   "cell_type": "code",
   "execution_count": null,
   "id": "c02a1f4d",
   "metadata": {},
   "outputs": [],
   "source": [
    "# https://druce.ai/2020/12/portfolio-opimization"
   ]
  },
  {
   "cell_type": "code",
   "execution_count": null,
   "id": "5bf18d0c",
   "metadata": {},
   "outputs": [],
   "source": [
    "# Problem data.\n",
    "m = 100\n",
    "n = 20\n",
    "np.random.seed(1)\n",
    "historical_mu = np.random.randn(m, n)"
   ]
  },
  {
   "cell_type": "code",
   "execution_count": null,
   "id": "743b0c2a",
   "metadata": {},
   "outputs": [],
   "source": [
    "mu = np.random.randn(n)"
   ]
  },
  {
   "cell_type": "code",
   "execution_count": null,
   "id": "d2bc4521",
   "metadata": {},
   "outputs": [],
   "source": [
    "# The `transpose()` is necessary.\n",
    "covariance = np.cov(historical_mu.transpose())"
   ]
  },
  {
   "cell_type": "code",
   "execution_count": null,
   "id": "e495a835",
   "metadata": {},
   "outputs": [],
   "source": [
    "weights = cp.Variable(n)"
   ]
  },
  {
   "cell_type": "code",
   "execution_count": null,
   "id": "37cc7d37",
   "metadata": {},
   "outputs": [],
   "source": [
    "rets = mu.T @ weights"
   ]
  },
  {
   "cell_type": "code",
   "execution_count": null,
   "id": "4b357f11",
   "metadata": {},
   "outputs": [],
   "source": [
    "portfolio_variance = cp.quad_form(weights, covariance)"
   ]
  },
  {
   "cell_type": "code",
   "execution_count": null,
   "id": "8b03062f",
   "metadata": {},
   "outputs": [],
   "source": [
    "minimize_variance = cp.Problem(\n",
    "    cp.Minimize(portfolio_variance), [cp.sum(weights) == 1]\n",
    ")"
   ]
  },
  {
   "cell_type": "code",
   "execution_count": null,
   "id": "ce7c90be",
   "metadata": {},
   "outputs": [],
   "source": [
    "minimize_variance.solve()"
   ]
  },
  {
   "cell_type": "code",
   "execution_count": null,
   "id": "f96feec0",
   "metadata": {},
   "outputs": [],
   "source": [
    "rets.value"
   ]
  },
  {
   "cell_type": "code",
   "execution_count": null,
   "id": "0db49862",
   "metadata": {},
   "outputs": [],
   "source": [
    "weights.value"
   ]
  },
  {
   "cell_type": "code",
   "execution_count": null,
   "id": "11ee5788",
   "metadata": {},
   "outputs": [],
   "source": [
    "maximize_returns = cp.Problem(\n",
    "    cp.Maximize(rets),\n",
    "    [\n",
    "        cp.sum(weights) == 1,\n",
    "        # Long-short will try to increase leverage to infinity (and fail to converge)\n",
    "        weights >= 0,\n",
    "    ],\n",
    ")"
   ]
  },
  {
   "cell_type": "code",
   "execution_count": null,
   "id": "b07aad9b",
   "metadata": {},
   "outputs": [],
   "source": [
    "maximize_returns.solve()"
   ]
  },
  {
   "cell_type": "code",
   "execution_count": null,
   "id": "1fd0e3eb",
   "metadata": {},
   "outputs": [],
   "source": [
    "portfolio_variance.value"
   ]
  },
  {
   "cell_type": "code",
   "execution_count": null,
   "id": "f21693fe",
   "metadata": {},
   "outputs": [],
   "source": [
    "maximize_returns_2 = cp.Problem(\n",
    "    cp.Maximize(rets),\n",
    "    [\n",
    "        cp.norm(weights) <= 1.5,\n",
    "        cp.sum(weights) == 1,\n",
    "        portfolio_variance <= 0.05,\n",
    "    ],\n",
    ")"
   ]
  },
  {
   "cell_type": "code",
   "execution_count": null,
   "id": "f8071291",
   "metadata": {},
   "outputs": [],
   "source": [
    "maximize_returns_2.solve()"
   ]
  },
  {
   "cell_type": "code",
   "execution_count": null,
   "id": "170097d3",
   "metadata": {},
   "outputs": [],
   "source": [
    "portfolio_variance.value"
   ]
  },
  {
   "cell_type": "markdown",
   "id": "cb064691",
   "metadata": {},
   "source": [
    "# More examples"
   ]
  },
  {
   "cell_type": "code",
   "execution_count": null,
   "id": "770cee9d",
   "metadata": {},
   "outputs": [],
   "source": [
    "# https://nbviewer.org/github/cvxgrp/cvx_short_course/blob/master/applications/portfolio_optimization.ipynb"
   ]
  },
  {
   "cell_type": "code",
   "execution_count": null,
   "id": "0ea259fd",
   "metadata": {},
   "outputs": [],
   "source": [
    "# https://github.com/druce/portfolio_optimization/blob/master/Portfolio%20optimization.ipynb"
   ]
  }
 ],
 "metadata": {
  "kernelspec": {
   "display_name": "Python 3 (ipykernel)",
   "language": "python",
   "name": "python3"
  },
  "language_info": {
   "codemirror_mode": {
    "name": "ipython",
    "version": 3
   },
   "file_extension": ".py",
   "mimetype": "text/x-python",
   "name": "python",
   "nbconvert_exporter": "python",
   "pygments_lexer": "ipython3"
  },
  "toc": {
   "base_numbering": 1,
   "nav_menu": {},
   "number_sections": true,
   "sideBar": true,
   "skip_h1_title": false,
   "title_cell": "Table of Contents",
   "title_sidebar": "Contents",
   "toc_cell": false,
   "toc_position": {},
   "toc_section_display": true,
   "toc_window_display": false
  }
 },
 "nbformat": 4,
 "nbformat_minor": 5
}
