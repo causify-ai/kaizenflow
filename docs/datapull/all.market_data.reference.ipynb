{
 "cells": [
  {
   "cell_type": "markdown",
   "id": "a0da8680",
   "metadata": {},
   "source": [
    "# Descriptions"
   ]
  },
  {
   "cell_type": "markdown",
   "id": "525119ff",
   "metadata": {},
   "source": [
    "The notebook demonstrates how to use `MarketData`."
   ]
  },
  {
   "cell_type": "code",
   "execution_count": 1,
   "id": "875998a8",
   "metadata": {
    "ExecuteTime": {
     "end_time": "2024-02-13T17:24:22.725766Z",
     "start_time": "2024-02-13T17:24:21.381158Z"
    }
   },
   "outputs": [],
   "source": [
    "%load_ext autoreload\n",
    "%autoreload 2\n",
    "%matplotlib inline"
   ]
  },
  {
   "cell_type": "code",
   "execution_count": 2,
   "id": "0f7f1983",
   "metadata": {
    "ExecuteTime": {
     "end_time": "2024-02-13T17:24:27.332201Z",
     "start_time": "2024-02-13T17:24:22.728287Z"
    }
   },
   "outputs": [
    {
     "name": "stderr",
     "output_type": "stream",
     "text": [
      "/app/core/statistics/random_samples.py:12: TqdmExperimentalWarning: Using `tqdm.autonotebook.tqdm` in notebook mode. Use `tqdm.tqdm` instead to force console mode (e.g. in jupyter console)\n",
      "  from tqdm.autonotebook import tqdm\n",
      "\u001b[33mWARNING\u001b[0m: No module named 'gluonts'\n"
     ]
    }
   ],
   "source": [
    "import logging\n",
    "\n",
    "import pandas as pd\n",
    "\n",
    "import core.config as cconfig\n",
    "import core.finance.bid_ask as cfibiask\n",
    "import helpers.hdbg as hdbg\n",
    "import helpers.henv as henv\n",
    "import helpers.hprint as hprint\n",
    "import im_v2.ccxt.data.client as icdcl\n",
    "import im_v2.common.universe as ivcu\n",
    "import market_data.market_data_example as mdmadaex"
   ]
  },
  {
   "cell_type": "code",
   "execution_count": 3,
   "id": "b7cf3d04",
   "metadata": {
    "ExecuteTime": {
     "end_time": "2024-02-13T17:24:27.730840Z",
     "start_time": "2024-02-13T17:24:27.335157Z"
    },
    "lines_to_next_cell": 2
   },
   "outputs": [
    {
     "name": "stdout",
     "output_type": "stream",
     "text": [
      "\u001b[0m\u001b[36mINFO\u001b[0m: > cmd='/venv/lib/python3.9/site-packages/ipykernel_launcher.py -f /home/.local/share/jupyter/runtime/kernel-1dbb370d-c8db-4d0f-9565-fe05bcc897d7.json'\n",
      "WARNING: Running in Jupyter\n",
      "INFO  # Git\n",
      "  branch_name='CmTask7174_Centralize_get_bid_ask_columns_by_level'\n",
      "  hash='8d8485293'\n",
      "  # Last commits:\n",
      "    * 8d8485293 Toma Jordania CmTask7170: expose universe_version to execution analysis notebook (#7176) (   5 hours ago) Tue Feb 13 12:54:15 2024  (HEAD -> CmTask7174_Centralize_get_bid_ask_columns_by_level, origin/master, origin/HEAD)\n",
      "    * 66874fec8 Sameep Pote CmTask7179 Display account balance before flattening (#7180)      (  18 hours ago) Mon Feb 12 23:07:04 2024           \n",
      "    * 45ff312b4 Samarth KaPatel update (#7182)                                                    (  20 hours ago) Mon Feb 12 21:38:17 2024           \n",
      "# Machine info\n",
      "  system=Linux\n",
      "  node name=617f61f51a8b\n",
      "  release=5.15.0-1052-aws\n",
      "  version=#57~20.04.1-Ubuntu SMP Mon Jan 15 17:04:56 UTC 2024\n",
      "  machine=x86_64\n",
      "  processor=x86_64\n",
      "  cpu count=8\n",
      "  cpu freq=scpufreq(current=2499.998, min=0.0, max=0.0)\n",
      "  memory=svmem(total=33280278528, available=20741898240, percent=37.7, used=12051492864, free=659374080, active=7650107392, inactive=17746145280, buffers=4715876352, cached=15853535232, shared=10801152, slab=6856155136)\n",
      "  disk usage=sdiskusage(total=156052275200, used=110215110656, free=45820387328, percent=70.6)\n",
      "# Packages\n",
      "  python: 3.9.5\n",
      "  cvxopt: 1.3.2\n",
      "  cvxpy: 1.4.1\n",
      "  gluonnlp: ?\n",
      "  gluonts: ?\n",
      "  joblib: 1.3.2\n",
      "  mxnet: ?\n",
      "  numpy: 1.26.0\n",
      "  pandas: 2.1.1\n",
      "  pyarrow: 10.0.0\n",
      "  scipy: 1.11.3\n",
      "  seaborn: 0.13.0\n",
      "  sklearn: 1.3.1\n",
      "  statsmodels: 0.14.0\n"
     ]
    }
   ],
   "source": [
    "log_level = logging.INFO\n",
    "hdbg.init_logger(verbosity=log_level)\n",
    "\n",
    "_LOG = logging.getLogger(__name__)\n",
    "\n",
    "_LOG.info(\"%s\", henv.get_system_signature()[0])\n",
    "\n",
    "hprint.config_notebook()"
   ]
  },
  {
   "cell_type": "markdown",
   "id": "9d936296",
   "metadata": {},
   "source": [
    "# Get asset ids"
   ]
  },
  {
   "cell_type": "code",
   "execution_count": 4,
   "id": "09916612",
   "metadata": {
    "ExecuteTime": {
     "end_time": "2024-02-13T17:24:27.773091Z",
     "start_time": "2024-02-13T17:24:27.734571Z"
    }
   },
   "outputs": [],
   "source": [
    "universe_version = \"v7.4\"\n",
    "universe_config = {\n",
    "    \"vendor\": \"CCXT\",\n",
    "    \"version\": universe_version,\n",
    "    \"mode\": \"trade\",\n",
    "    \"as_full_symbol\": True,\n",
    "}"
   ]
  },
  {
   "cell_type": "code",
   "execution_count": 5,
   "id": "8700ec67",
   "metadata": {
    "ExecuteTime": {
     "end_time": "2024-02-13T17:24:27.872567Z",
     "start_time": "2024-02-13T17:24:27.775332Z"
    }
   },
   "outputs": [
    {
     "name": "stdout",
     "output_type": "stream",
     "text": [
      "INFO  Full symbols=['binance::BNB_USDT', 'binance::BTC_USDT']\n"
     ]
    }
   ],
   "source": [
    "full_symbols = ivcu.get_vendor_universe(**universe_config)\n",
    "# Use only a subset for the demonstration.\n",
    "full_symbols = full_symbols[4:6]\n",
    "_LOG.info(\"Full symbols=%s\", full_symbols)"
   ]
  },
  {
   "cell_type": "code",
   "execution_count": 6,
   "id": "5d3c8f6d",
   "metadata": {
    "ExecuteTime": {
     "end_time": "2024-02-13T17:24:27.916443Z",
     "start_time": "2024-02-13T17:24:27.875026Z"
    }
   },
   "outputs": [
    {
     "name": "stdout",
     "output_type": "stream",
     "text": [
      "INFO  Asset ids=[8968126878, 1467591036]\n"
     ]
    }
   ],
   "source": [
    "asset_ids = list(ivcu.build_numerical_to_string_id_mapping(full_symbols).keys())\n",
    "_LOG.info(\"Asset ids=%s\", asset_ids)"
   ]
  },
  {
   "cell_type": "markdown",
   "id": "4e778705",
   "metadata": {},
   "source": [
    "# `ImClientMarketData`"
   ]
  },
  {
   "cell_type": "code",
   "execution_count": 7,
   "id": "f8cec206",
   "metadata": {
    "ExecuteTime": {
     "end_time": "2024-02-13T17:24:27.971861Z",
     "start_time": "2024-02-13T17:24:27.919417Z"
    }
   },
   "outputs": [
    {
     "name": "stdout",
     "output_type": "stream",
     "text": [
      "start_timestamp: 2023-09-11 00:00:00+00:00\n",
      "end_timestamp: 2023-09-11 04:00:00+00:00\n",
      "im_client: \n",
      "  universe_version: v7.4\n",
      "  root_dir: s3://cryptokaizen-data-test/v3\n",
      "  partition_mode: by_year_month\n",
      "  dataset: ohlcv\n",
      "  contract_type: futures\n",
      "  data_snapshot: \n",
      "  aws_profile: ck\n",
      "  resample_1min: False\n",
      "  version: v1_0_0\n",
      "  download_universe_version: v7_3\n",
      "  tag: downloaded_1min\n",
      "ts_col_name: timestamp\n",
      "columns: None\n",
      "column_remap: None\n",
      "filter_data_mode: assert\n",
      "wall_clock_time: 2100-01-01 00:00:00+00:00\n"
     ]
    }
   ],
   "source": [
    "im_client_market_data_config = {\n",
    "    \"start_timestamp\": pd.Timestamp(\"2023-09-11T00:00:00\", tz=\"UTC\"),\n",
    "    \"end_timestamp\": pd.Timestamp(\"2023-09-11T04:00:00\", tz=\"UTC\"),\n",
    "    \"im_client\": {\n",
    "        \"universe_version\": universe_version,\n",
    "        \"root_dir\": \"s3://cryptokaizen-data-test/v3\",\n",
    "        \"partition_mode\": \"by_year_month\",\n",
    "        \"dataset\": \"ohlcv\",\n",
    "        \"contract_type\": \"futures\",\n",
    "        \"data_snapshot\": \"\",\n",
    "        \"aws_profile\": \"ck\",\n",
    "        \"resample_1min\": False,\n",
    "        \"version\": \"v1_0_0\",\n",
    "        \"download_universe_version\": \"v7_3\",\n",
    "        \"tag\": \"downloaded_1min\",\n",
    "    },\n",
    "    \"ts_col_name\": \"timestamp\",\n",
    "    \"columns\": None,\n",
    "    \"column_remap\": None,\n",
    "    \"filter_data_mode\": \"assert\",\n",
    "    \"wall_clock_time\": pd.Timestamp(\"2100-01-01 00:00:00+00:00\"),\n",
    "}\n",
    "im_client_market_data_config = cconfig.Config().from_dict(\n",
    "    im_client_market_data_config\n",
    ")\n",
    "print(im_client_market_data_config)"
   ]
  },
  {
   "cell_type": "code",
   "execution_count": 8,
   "id": "0a8b6215",
   "metadata": {
    "ExecuteTime": {
     "end_time": "2024-02-13T17:24:33.293872Z",
     "start_time": "2024-02-13T17:24:27.974367Z"
    }
   },
   "outputs": [
    {
     "data": {
      "text/html": [
       "<div>\n",
       "<style scoped>\n",
       "    .dataframe tbody tr th:only-of-type {\n",
       "        vertical-align: middle;\n",
       "    }\n",
       "\n",
       "    .dataframe tbody tr th {\n",
       "        vertical-align: top;\n",
       "    }\n",
       "\n",
       "    .dataframe thead th {\n",
       "        text-align: right;\n",
       "    }\n",
       "</style>\n",
       "<table border=\"1\" class=\"dataframe\">\n",
       "  <thead>\n",
       "    <tr style=\"text-align: right;\">\n",
       "      <th></th>\n",
       "      <th>asset_id</th>\n",
       "      <th>full_symbol</th>\n",
       "      <th>open</th>\n",
       "      <th>high</th>\n",
       "      <th>low</th>\n",
       "      <th>close</th>\n",
       "      <th>volume</th>\n",
       "      <th>knowledge_timestamp</th>\n",
       "      <th>start_ts</th>\n",
       "    </tr>\n",
       "    <tr>\n",
       "      <th>end_ts</th>\n",
       "      <th></th>\n",
       "      <th></th>\n",
       "      <th></th>\n",
       "      <th></th>\n",
       "      <th></th>\n",
       "      <th></th>\n",
       "      <th></th>\n",
       "      <th></th>\n",
       "      <th></th>\n",
       "    </tr>\n",
       "  </thead>\n",
       "  <tbody>\n",
       "    <tr>\n",
       "      <th>2023-09-10 20:00:00-04:00</th>\n",
       "      <td>1467591036</td>\n",
       "      <td>binance::BTC_USDT</td>\n",
       "      <td>25829.00</td>\n",
       "      <td>25830.50</td>\n",
       "      <td>25828.40</td>\n",
       "      <td>25828.40</td>\n",
       "      <td>35.063</td>\n",
       "      <td>2023-09-11 01:23:22.496982+00:00</td>\n",
       "      <td>2023-09-10 19:59:00-04:00</td>\n",
       "    </tr>\n",
       "    <tr>\n",
       "      <th>2023-09-10 20:00:00-04:00</th>\n",
       "      <td>8968126878</td>\n",
       "      <td>binance::BNB_USDT</td>\n",
       "      <td>212.25</td>\n",
       "      <td>212.29</td>\n",
       "      <td>212.25</td>\n",
       "      <td>212.28</td>\n",
       "      <td>120.720</td>\n",
       "      <td>2023-09-11 01:23:28.294152+00:00</td>\n",
       "      <td>2023-09-10 19:59:00-04:00</td>\n",
       "    </tr>\n",
       "    <tr>\n",
       "      <th>2023-09-10 20:01:00-04:00</th>\n",
       "      <td>1467591036</td>\n",
       "      <td>binance::BTC_USDT</td>\n",
       "      <td>25828.40</td>\n",
       "      <td>25835.80</td>\n",
       "      <td>25828.10</td>\n",
       "      <td>25835.70</td>\n",
       "      <td>152.568</td>\n",
       "      <td>2023-09-12 01:23:44.163254+00:00</td>\n",
       "      <td>2023-09-10 20:00:00-04:00</td>\n",
       "    </tr>\n",
       "  </tbody>\n",
       "</table>\n",
       "</div>"
      ],
      "text/plain": [
       "                             asset_id        full_symbol      open      high       low     close   volume              knowledge_timestamp                  start_ts\n",
       "end_ts                                                                                                                                                              \n",
       "2023-09-10 20:00:00-04:00  1467591036  binance::BTC_USDT  25829.00  25830.50  25828.40  25828.40   35.063 2023-09-11 01:23:22.496982+00:00 2023-09-10 19:59:00-04:00\n",
       "2023-09-10 20:00:00-04:00  8968126878  binance::BNB_USDT    212.25    212.29    212.25    212.28  120.720 2023-09-11 01:23:28.294152+00:00 2023-09-10 19:59:00-04:00\n",
       "2023-09-10 20:01:00-04:00  1467591036  binance::BTC_USDT  25828.40  25835.80  25828.10  25835.70  152.568 2023-09-12 01:23:44.163254+00:00 2023-09-10 20:00:00-04:00"
      ]
     },
     "execution_count": 8,
     "metadata": {},
     "output_type": "execute_result"
    }
   ],
   "source": [
    "ohlcv_im_client = icdcl.CcxtHistoricalPqByTileClient(\n",
    "    **im_client_market_data_config[\"im_client\"]\n",
    ")\n",
    "ohlcv_market_data = mdmadaex.get_HistoricalImClientMarketData_example1(\n",
    "    ohlcv_im_client,\n",
    "    asset_ids,\n",
    "    im_client_market_data_config[\"columns\"],\n",
    "    im_client_market_data_config[\"column_remap\"],\n",
    "    wall_clock_time=im_client_market_data_config[\"wall_clock_time\"],\n",
    "    filter_data_mode=im_client_market_data_config[\"filter_data_mode\"],\n",
    ")\n",
    "ohlcv_data = ohlcv_market_data.get_data_for_interval(\n",
    "    im_client_market_data_config[\"start_timestamp\"],\n",
    "    im_client_market_data_config[\"end_timestamp\"],\n",
    "    im_client_market_data_config[\"ts_col_name\"],\n",
    "    asset_ids,\n",
    ")\n",
    "ohlcv_data.head(3)"
   ]
  },
  {
   "cell_type": "markdown",
   "id": "a39bb6fa",
   "metadata": {},
   "source": [
    "# `StitchedMarketData`"
   ]
  },
  {
   "cell_type": "code",
   "execution_count": 9,
   "id": "9261279b",
   "metadata": {
    "ExecuteTime": {
     "end_time": "2024-02-13T17:24:33.391372Z",
     "start_time": "2024-02-13T17:24:33.296410Z"
    }
   },
   "outputs": [
    {
     "name": "stdout",
     "output_type": "stream",
     "text": [
      "start_timestamp: 2023-09-11 00:00:00+00:00\n",
      "end_timestamp: 2023-09-11 04:00:00+00:00\n",
      "ohlcv_market_data: \n",
      "  im_client: \n",
      "    universe_version: v7.4\n",
      "    root_dir: s3://cryptokaizen-data-test/v3\n",
      "    partition_mode: by_year_month\n",
      "    dataset: ohlcv\n",
      "    contract_type: futures\n",
      "    data_snapshot: \n",
      "    aws_profile: ck\n",
      "    resample_1min: False\n",
      "    version: v1_0_0\n",
      "    download_universe_version: v7_3\n",
      "    tag: downloaded_1min\n",
      "  ts_col_name: timestamp\n",
      "  columns: None\n",
      "  column_remap: None\n",
      "  filter_data_mode: assert\n",
      "bid_ask_market_data: \n",
      "  im_client: \n",
      "    universe_version: v7.4\n",
      "    dataset: bid_ask\n",
      "    contract_type: futures\n",
      "    data_snapshot: \n",
      "    root_dir: s3://cryptokaizen-data-test/v3\n",
      "    partition_mode: by_year_month\n",
      "    version: v1_0_0\n",
      "    download_universe_version: v7\n",
      "    tag: resampled_1min\n",
      "    aws_profile: ck\n",
      "  ts_col_name: timestamp\n",
      "  columns: ['level_1.bid_price.open', 'level_1.bid_price.high', 'level_1.bid_price.low', 'level_1.bid_price.close', 'level_1.bid_price.mean', 'level_1.bid_size.open', 'level_1.bid_size.max', 'level_1.bid_size.min', 'level_1.bid_size.close', 'level_1.bid_size.mean', 'level_1.ask_price.open', 'level_1.ask_price.high', 'level_1.ask_price.low', 'level_1.ask_price.close', 'level_1.ask_price.mean', 'level_1.ask_size.open', 'level_1.ask_size.max', 'level_1.ask_size.min', 'level_1.ask_size.close', 'level_1.ask_size.mean', 'asset_id', 'full_symbol', 'start_ts', 'knowledge_timestamp']\n",
      "  column_remap: None\n",
      "  filter_data_mode: assert\n",
      "stitched_market_data: \n",
      "  ts_col_name: timestamp\n",
      "  columns: None\n",
      "  column_remap: None\n",
      "  filter_data_mode: warn_and_trim\n"
     ]
    }
   ],
   "source": [
    "stitched_market_data_config = {\n",
    "    \"start_timestamp\": pd.Timestamp(\"2023-09-11T00:00:00\", tz=\"UTC\"),\n",
    "    \"end_timestamp\": pd.Timestamp(\"2023-09-11T04:00:00\", tz=\"UTC\"),\n",
    "    \"ohlcv_market_data\": {\n",
    "        \"im_client\": {\n",
    "            \"universe_version\": universe_version,\n",
    "            \"root_dir\": \"s3://cryptokaizen-data-test/v3\",\n",
    "            \"partition_mode\": \"by_year_month\",\n",
    "            \"dataset\": \"ohlcv\",\n",
    "            \"contract_type\": \"futures\",\n",
    "            \"data_snapshot\": \"\",\n",
    "            \"aws_profile\": \"ck\",\n",
    "            \"resample_1min\": False,\n",
    "            \"version\": \"v1_0_0\",\n",
    "            \"download_universe_version\": \"v7_3\",\n",
    "            \"tag\": \"downloaded_1min\",\n",
    "        },\n",
    "        \"ts_col_name\": \"timestamp\",\n",
    "        \"columns\": None,\n",
    "        \"column_remap\": None,\n",
    "        \"filter_data_mode\": \"assert\",\n",
    "    },\n",
    "    \"bid_ask_market_data\": {\n",
    "        \"im_client\": {\n",
    "            # Download universe version.\n",
    "            \"universe_version\": universe_version,\n",
    "            \"dataset\": \"bid_ask\",\n",
    "            \"contract_type\": \"futures\",\n",
    "            # Data snapshot is not applicable for data version = \"v3\".\n",
    "            \"data_snapshot\": \"\",\n",
    "            \"universe_version\": universe_version,\n",
    "            # Data currently residing in the test bucket\n",
    "            \"root_dir\": \"s3://cryptokaizen-data-test/v3\",\n",
    "            \"partition_mode\": \"by_year_month\",\n",
    "            \"dataset\": \"bid_ask\",\n",
    "            \"contract_type\": \"futures\",\n",
    "            \"version\": \"v1_0_0\",\n",
    "            \"download_universe_version\": \"v7\",\n",
    "            \"tag\": \"resampled_1min\",\n",
    "            \"aws_profile\": \"ck\",\n",
    "        },\n",
    "        \"ts_col_name\": \"timestamp\",\n",
    "        # TODO(Grisha): for some reason the current filtering mechanism filters out `asset_ids` which\n",
    "        # makes it impossible to stitch the 2 market data dfs. So adding the necessary columns manually.\n",
    "        \"columns\": cfibiask.get_bid_ask_columns_by_level(1)\n",
    "        + [\"asset_id\", \"full_symbol\", \"start_ts\", \"knowledge_timestamp\"],\n",
    "        \"column_remap\": None,\n",
    "        \"filter_data_mode\": \"assert\",\n",
    "    },\n",
    "    \"stitched_market_data\": {\n",
    "        \"ts_col_name\": \"timestamp\",\n",
    "        \"columns\": None,\n",
    "        \"column_remap\": None,\n",
    "        # TODO(Grisha): check why it fails when the mode is `assert`.\n",
    "        \"filter_data_mode\": \"warn_and_trim\",\n",
    "    },\n",
    "}\n",
    "stitched_market_data_config = cconfig.Config().from_dict(\n",
    "    stitched_market_data_config\n",
    ")\n",
    "print(stitched_market_data_config)"
   ]
  },
  {
   "cell_type": "code",
   "execution_count": 10,
   "id": "46a8fdbe",
   "metadata": {
    "ExecuteTime": {
     "end_time": "2024-02-13T17:25:28.483142Z",
     "start_time": "2024-02-13T17:24:33.394995Z"
    }
   },
   "outputs": [
    {
     "name": "stdout",
     "output_type": "stream",
     "text": [
      "WARNING Data that is downloaded before a bar ends accounts for=29 / 2100477 = 0.00%\n",
      "WARNING Data that is downloaded before a bar ends accounts for=27 / 2323080 = 0.00%\n"
     ]
    },
    {
     "data": {
      "text/html": [
       "<div>\n",
       "<style scoped>\n",
       "    .dataframe tbody tr th:only-of-type {\n",
       "        vertical-align: middle;\n",
       "    }\n",
       "\n",
       "    .dataframe tbody tr th {\n",
       "        vertical-align: top;\n",
       "    }\n",
       "\n",
       "    .dataframe thead th {\n",
       "        text-align: right;\n",
       "    }\n",
       "</style>\n",
       "<table border=\"1\" class=\"dataframe\">\n",
       "  <thead>\n",
       "    <tr style=\"text-align: right;\">\n",
       "      <th></th>\n",
       "      <th>asset_id</th>\n",
       "      <th>full_symbol</th>\n",
       "      <th>open</th>\n",
       "      <th>high</th>\n",
       "      <th>low</th>\n",
       "      <th>close</th>\n",
       "      <th>volume</th>\n",
       "      <th>knowledge_timestamp</th>\n",
       "      <th>start_ts</th>\n",
       "    </tr>\n",
       "    <tr>\n",
       "      <th>end_ts</th>\n",
       "      <th></th>\n",
       "      <th></th>\n",
       "      <th></th>\n",
       "      <th></th>\n",
       "      <th></th>\n",
       "      <th></th>\n",
       "      <th></th>\n",
       "      <th></th>\n",
       "      <th></th>\n",
       "    </tr>\n",
       "  </thead>\n",
       "  <tbody>\n",
       "    <tr>\n",
       "      <th>2023-09-10 20:00:00-04:00</th>\n",
       "      <td>1467591036</td>\n",
       "      <td>binance::BTC_USDT</td>\n",
       "      <td>25829.00</td>\n",
       "      <td>25830.50</td>\n",
       "      <td>25828.40</td>\n",
       "      <td>25828.40</td>\n",
       "      <td>35.063</td>\n",
       "      <td>2023-09-11 01:23:22.496982+00:00</td>\n",
       "      <td>2023-09-10 19:59:00-04:00</td>\n",
       "    </tr>\n",
       "    <tr>\n",
       "      <th>2023-09-10 20:00:00-04:00</th>\n",
       "      <td>8968126878</td>\n",
       "      <td>binance::BNB_USDT</td>\n",
       "      <td>212.25</td>\n",
       "      <td>212.29</td>\n",
       "      <td>212.25</td>\n",
       "      <td>212.28</td>\n",
       "      <td>120.720</td>\n",
       "      <td>2023-09-11 01:23:28.294152+00:00</td>\n",
       "      <td>2023-09-10 19:59:00-04:00</td>\n",
       "    </tr>\n",
       "    <tr>\n",
       "      <th>2023-09-10 20:01:00-04:00</th>\n",
       "      <td>1467591036</td>\n",
       "      <td>binance::BTC_USDT</td>\n",
       "      <td>25828.40</td>\n",
       "      <td>25835.80</td>\n",
       "      <td>25828.10</td>\n",
       "      <td>25835.70</td>\n",
       "      <td>152.568</td>\n",
       "      <td>2023-09-12 01:23:44.163254+00:00</td>\n",
       "      <td>2023-09-10 20:00:00-04:00</td>\n",
       "    </tr>\n",
       "  </tbody>\n",
       "</table>\n",
       "</div>"
      ],
      "text/plain": [
       "                             asset_id        full_symbol      open      high       low     close   volume              knowledge_timestamp                  start_ts\n",
       "end_ts                                                                                                                                                              \n",
       "2023-09-10 20:00:00-04:00  1467591036  binance::BTC_USDT  25829.00  25830.50  25828.40  25828.40   35.063 2023-09-11 01:23:22.496982+00:00 2023-09-10 19:59:00-04:00\n",
       "2023-09-10 20:00:00-04:00  8968126878  binance::BNB_USDT    212.25    212.29    212.25    212.28  120.720 2023-09-11 01:23:28.294152+00:00 2023-09-10 19:59:00-04:00\n",
       "2023-09-10 20:01:00-04:00  1467591036  binance::BTC_USDT  25828.40  25835.80  25828.10  25835.70  152.568 2023-09-12 01:23:44.163254+00:00 2023-09-10 20:00:00-04:00"
      ]
     },
     "execution_count": 10,
     "metadata": {},
     "output_type": "execute_result"
    }
   ],
   "source": [
    "ohlcv_im_client = icdcl.CcxtHistoricalPqByTileClient(\n",
    "    **stitched_market_data_config[\"ohlcv_market_data\"][\"im_client\"]\n",
    ")\n",
    "ohlcv_market_data = mdmadaex.get_HistoricalImClientMarketData_example1(\n",
    "    ohlcv_im_client,\n",
    "    asset_ids,\n",
    "    stitched_market_data_config[\"ohlcv_market_data\"][\"columns\"],\n",
    "    stitched_market_data_config[\"ohlcv_market_data\"][\"column_remap\"],\n",
    "    filter_data_mode=stitched_market_data_config[\"ohlcv_market_data\"][\n",
    "        \"filter_data_mode\"\n",
    "    ],\n",
    ")\n",
    "ohlcv_data = ohlcv_market_data.get_data_for_interval(\n",
    "    stitched_market_data_config[\"start_timestamp\"],\n",
    "    stitched_market_data_config[\"end_timestamp\"],\n",
    "    stitched_market_data_config[\"ohlcv_market_data\"][\"ts_col_name\"],\n",
    "    asset_ids,\n",
    ")\n",
    "ohlcv_data.head(3)"
   ]
  },
  {
   "cell_type": "code",
   "execution_count": 11,
   "id": "ea04d0ca",
   "metadata": {
    "ExecuteTime": {
     "end_time": "2024-02-13T17:25:30.684155Z",
     "start_time": "2024-02-13T17:25:28.485601Z"
    }
   },
   "outputs": [],
   "source": [
    "bid_ask_im_client = icdcl.CcxtHistoricalPqByTileClient(\n",
    "    **stitched_market_data_config[\"bid_ask_market_data\"][\"im_client\"]\n",
    ")\n",
    "bid_ask_market_data = mdmadaex.get_HistoricalImClientMarketData_example1(\n",
    "    bid_ask_im_client,\n",
    "    asset_ids,\n",
    "    stitched_market_data_config[\"bid_ask_market_data\"][\"columns\"],\n",
    "    stitched_market_data_config[\"bid_ask_market_data\"][\"column_remap\"],\n",
    "    filter_data_mode=stitched_market_data_config[\"bid_ask_market_data\"][\n",
    "        \"filter_data_mode\"\n",
    "    ],\n",
    ")"
   ]
  },
  {
   "cell_type": "code",
   "execution_count": 12,
   "id": "4e2699ff",
   "metadata": {
    "ExecuteTime": {
     "end_time": "2024-02-13T17:25:36.285128Z",
     "start_time": "2024-02-13T17:25:30.686451Z"
    }
   },
   "outputs": [
    {
     "data": {
      "text/html": [
       "<div>\n",
       "<style scoped>\n",
       "    .dataframe tbody tr th:only-of-type {\n",
       "        vertical-align: middle;\n",
       "    }\n",
       "\n",
       "    .dataframe tbody tr th {\n",
       "        vertical-align: top;\n",
       "    }\n",
       "\n",
       "    .dataframe thead th {\n",
       "        text-align: right;\n",
       "    }\n",
       "</style>\n",
       "<table border=\"1\" class=\"dataframe\">\n",
       "  <thead>\n",
       "    <tr style=\"text-align: right;\">\n",
       "      <th></th>\n",
       "      <th>asset_id</th>\n",
       "      <th>full_symbol</th>\n",
       "      <th>level_1.bid_price.open</th>\n",
       "      <th>level_1.bid_price.high</th>\n",
       "      <th>level_1.bid_price.low</th>\n",
       "      <th>level_1.bid_price.close</th>\n",
       "      <th>level_1.bid_price.mean</th>\n",
       "      <th>level_1.bid_size.open</th>\n",
       "      <th>level_1.bid_size.max</th>\n",
       "      <th>level_1.bid_size.min</th>\n",
       "      <th>level_1.bid_size.close</th>\n",
       "      <th>level_1.bid_size.mean</th>\n",
       "      <th>level_1.ask_price.open</th>\n",
       "      <th>level_1.ask_price.high</th>\n",
       "      <th>level_1.ask_price.low</th>\n",
       "      <th>level_1.ask_price.close</th>\n",
       "      <th>level_1.ask_price.mean</th>\n",
       "      <th>level_1.ask_size.open</th>\n",
       "      <th>level_1.ask_size.max</th>\n",
       "      <th>level_1.ask_size.min</th>\n",
       "      <th>level_1.ask_size.close</th>\n",
       "      <th>level_1.ask_size.mean</th>\n",
       "      <th>start_ts</th>\n",
       "      <th>open</th>\n",
       "      <th>high</th>\n",
       "      <th>low</th>\n",
       "      <th>close</th>\n",
       "      <th>volume</th>\n",
       "      <th>knowledge_timestamp</th>\n",
       "    </tr>\n",
       "    <tr>\n",
       "      <th>end_ts</th>\n",
       "      <th></th>\n",
       "      <th></th>\n",
       "      <th></th>\n",
       "      <th></th>\n",
       "      <th></th>\n",
       "      <th></th>\n",
       "      <th></th>\n",
       "      <th></th>\n",
       "      <th></th>\n",
       "      <th></th>\n",
       "      <th></th>\n",
       "      <th></th>\n",
       "      <th></th>\n",
       "      <th></th>\n",
       "      <th></th>\n",
       "      <th></th>\n",
       "      <th></th>\n",
       "      <th></th>\n",
       "      <th></th>\n",
       "      <th></th>\n",
       "      <th></th>\n",
       "      <th></th>\n",
       "      <th></th>\n",
       "      <th></th>\n",
       "      <th></th>\n",
       "      <th></th>\n",
       "      <th></th>\n",
       "      <th></th>\n",
       "      <th></th>\n",
       "    </tr>\n",
       "  </thead>\n",
       "  <tbody>\n",
       "    <tr>\n",
       "      <th>2023-09-10 20:00:00-04:00</th>\n",
       "      <td>1467591036</td>\n",
       "      <td>binance::BTC_USDT</td>\n",
       "      <td>NaN</td>\n",
       "      <td>NaN</td>\n",
       "      <td>NaN</td>\n",
       "      <td>NaN</td>\n",
       "      <td>NaN</td>\n",
       "      <td>NaN</td>\n",
       "      <td>NaN</td>\n",
       "      <td>NaN</td>\n",
       "      <td>NaN</td>\n",
       "      <td>NaN</td>\n",
       "      <td>NaN</td>\n",
       "      <td>NaN</td>\n",
       "      <td>NaN</td>\n",
       "      <td>NaN</td>\n",
       "      <td>NaN</td>\n",
       "      <td>NaN</td>\n",
       "      <td>NaN</td>\n",
       "      <td>NaN</td>\n",
       "      <td>NaN</td>\n",
       "      <td>NaN</td>\n",
       "      <td>2023-09-10 19:59:00-04:00</td>\n",
       "      <td>25829.00</td>\n",
       "      <td>25830.50</td>\n",
       "      <td>25828.40</td>\n",
       "      <td>25828.40</td>\n",
       "      <td>35.063</td>\n",
       "      <td>2023-09-11 01:23:22.496982+00:00</td>\n",
       "    </tr>\n",
       "    <tr>\n",
       "      <th>2023-09-10 20:00:00-04:00</th>\n",
       "      <td>8968126878</td>\n",
       "      <td>binance::BNB_USDT</td>\n",
       "      <td>NaN</td>\n",
       "      <td>NaN</td>\n",
       "      <td>NaN</td>\n",
       "      <td>NaN</td>\n",
       "      <td>NaN</td>\n",
       "      <td>NaN</td>\n",
       "      <td>NaN</td>\n",
       "      <td>NaN</td>\n",
       "      <td>NaN</td>\n",
       "      <td>NaN</td>\n",
       "      <td>NaN</td>\n",
       "      <td>NaN</td>\n",
       "      <td>NaN</td>\n",
       "      <td>NaN</td>\n",
       "      <td>NaN</td>\n",
       "      <td>NaN</td>\n",
       "      <td>NaN</td>\n",
       "      <td>NaN</td>\n",
       "      <td>NaN</td>\n",
       "      <td>NaN</td>\n",
       "      <td>2023-09-10 19:59:00-04:00</td>\n",
       "      <td>212.25</td>\n",
       "      <td>212.29</td>\n",
       "      <td>212.25</td>\n",
       "      <td>212.28</td>\n",
       "      <td>120.720</td>\n",
       "      <td>2023-09-11 01:23:28.294152+00:00</td>\n",
       "    </tr>\n",
       "    <tr>\n",
       "      <th>2023-09-10 20:01:00-04:00</th>\n",
       "      <td>1467591036</td>\n",
       "      <td>binance::BTC_USDT</td>\n",
       "      <td>25828.4</td>\n",
       "      <td>25835.7</td>\n",
       "      <td>25828.4</td>\n",
       "      <td>25835.7</td>\n",
       "      <td>25833.086667</td>\n",
       "      <td>3.307</td>\n",
       "      <td>40.841</td>\n",
       "      <td>0.047</td>\n",
       "      <td>4.403</td>\n",
       "      <td>16.718008</td>\n",
       "      <td>25828.5</td>\n",
       "      <td>25835.8</td>\n",
       "      <td>25828.5</td>\n",
       "      <td>25835.8</td>\n",
       "      <td>25833.18875</td>\n",
       "      <td>9.038</td>\n",
       "      <td>24.754</td>\n",
       "      <td>0.005</td>\n",
       "      <td>10.631</td>\n",
       "      <td>6.13795</td>\n",
       "      <td>2023-09-10 20:00:00-04:00</td>\n",
       "      <td>25828.40</td>\n",
       "      <td>25835.80</td>\n",
       "      <td>25828.10</td>\n",
       "      <td>25835.70</td>\n",
       "      <td>152.568</td>\n",
       "      <td>2023-09-19 14:47:21.627940+00:00</td>\n",
       "    </tr>\n",
       "  </tbody>\n",
       "</table>\n",
       "</div>"
      ],
      "text/plain": [
       "                             asset_id        full_symbol  level_1.bid_price.open  level_1.bid_price.high  level_1.bid_price.low  level_1.bid_price.close  level_1.bid_price.mean  level_1.bid_size.open  level_1.bid_size.max  level_1.bid_size.min  level_1.bid_size.close  level_1.bid_size.mean  level_1.ask_price.open  level_1.ask_price.high  level_1.ask_price.low  level_1.ask_price.close  level_1.ask_price.mean  level_1.ask_size.open  level_1.ask_size.max  level_1.ask_size.min  level_1.ask_size.close  level_1.ask_size.mean                  start_ts      open      high       low     close   volume              knowledge_timestamp\n",
       "end_ts                                                                                                                                                                                                                                                                                                                                                                                                                                                                                                                                                                                                                                                  \n",
       "2023-09-10 20:00:00-04:00  1467591036  binance::BTC_USDT                     NaN                     NaN                    NaN                      NaN                     NaN                    NaN                   NaN                   NaN                     NaN                    NaN                     NaN                     NaN                    NaN                      NaN                     NaN                    NaN                   NaN                   NaN                     NaN                    NaN 2023-09-10 19:59:00-04:00  25829.00  25830.50  25828.40  25828.40   35.063 2023-09-11 01:23:22.496982+00:00\n",
       "2023-09-10 20:00:00-04:00  8968126878  binance::BNB_USDT                     NaN                     NaN                    NaN                      NaN                     NaN                    NaN                   NaN                   NaN                     NaN                    NaN                     NaN                     NaN                    NaN                      NaN                     NaN                    NaN                   NaN                   NaN                     NaN                    NaN 2023-09-10 19:59:00-04:00    212.25    212.29    212.25    212.28  120.720 2023-09-11 01:23:28.294152+00:00\n",
       "2023-09-10 20:01:00-04:00  1467591036  binance::BTC_USDT                 25828.4                 25835.7                25828.4                  25835.7            25833.086667                  3.307                40.841                 0.047                   4.403              16.718008                 25828.5                 25835.8                25828.5                  25835.8             25833.18875                  9.038                24.754                 0.005                  10.631                6.13795 2023-09-10 20:00:00-04:00  25828.40  25835.80  25828.10  25835.70  152.568 2023-09-19 14:47:21.627940+00:00"
      ]
     },
     "execution_count": 12,
     "metadata": {},
     "output_type": "execute_result"
    }
   ],
   "source": [
    "stitched_mdata = mdmadaex.get_HorizontalStitchedMarketData_example1(\n",
    "    bid_ask_market_data,\n",
    "    ohlcv_market_data,\n",
    "    asset_ids,\n",
    "    stitched_market_data_config[\"stitched_market_data\"][\"columns\"],\n",
    "    stitched_market_data_config[\"stitched_market_data\"][\"column_remap\"],\n",
    "    filter_data_mode=stitched_market_data_config[\"stitched_market_data\"][\n",
    "        \"filter_data_mode\"\n",
    "    ],\n",
    ")\n",
    "stitched_mdata_df = stitched_mdata.get_data_for_interval(\n",
    "    stitched_market_data_config[\"start_timestamp\"],\n",
    "    stitched_market_data_config[\"end_timestamp\"],\n",
    "    stitched_market_data_config[\"stitched_market_data\"][\"ts_col_name\"],\n",
    "    asset_ids,\n",
    ")\n",
    "stitched_mdata_df.head(3)"
   ]
  },
  {
   "cell_type": "markdown",
   "id": "8f9a23ec",
   "metadata": {},
   "source": [
    "# `ReplayedMarketData`"
   ]
  },
  {
   "cell_type": "code",
   "execution_count": 13,
   "id": "e8847a79",
   "metadata": {
    "ExecuteTime": {
     "end_time": "2024-02-13T17:25:36.328620Z",
     "start_time": "2024-02-13T17:25:36.291105Z"
    }
   },
   "outputs": [],
   "source": [
    "# TODO(Dan): Add reference code for `ReplayedMarketData`."
   ]
  },
  {
   "cell_type": "code",
   "execution_count": null,
   "id": "5b4d3166",
   "metadata": {},
   "outputs": [],
   "source": []
  }
 ],
 "metadata": {
  "kernelspec": {
   "display_name": "Python 3 (ipykernel)",
   "language": "python",
   "name": "python3"
  },
  "language_info": {
   "codemirror_mode": {
    "name": "ipython",
    "version": 3
   },
   "file_extension": ".py",
   "mimetype": "text/x-python",
   "name": "python",
   "nbconvert_exporter": "python",
   "pygments_lexer": "ipython3",
   "version": "3.9.5"
  },
  "toc": {
   "base_numbering": 1,
   "nav_menu": {},
   "number_sections": true,
   "sideBar": true,
   "skip_h1_title": false,
   "title_cell": "Table of Contents",
   "title_sidebar": "Contents",
   "toc_cell": false,
   "toc_position": {},
   "toc_section_display": true,
   "toc_window_display": false
  }
 },
 "nbformat": 4,
 "nbformat_minor": 5
}
