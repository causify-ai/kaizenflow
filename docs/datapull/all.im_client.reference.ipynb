{
 "cells": [
  {
   "cell_type": "markdown",
   "id": "57bb9ea3",
   "metadata": {},
   "source": [
    "# Descriptions"
   ]
  },
  {
   "cell_type": "markdown",
   "id": "3bec0287",
   "metadata": {},
   "source": [
    "The notebook demonstrates how to use `ImClient`."
   ]
  },
  {
   "cell_type": "code",
   "execution_count": 1,
   "id": "06ed0cae",
   "metadata": {
    "ExecuteTime": {
     "end_time": "2023-12-14T15:31:37.962824Z",
     "start_time": "2023-12-14T15:31:36.575614Z"
    }
   },
   "outputs": [],
   "source": [
    "%load_ext autoreload\n",
    "%autoreload 2\n",
    "%matplotlib inline"
   ]
  },
  {
   "cell_type": "markdown",
   "id": "25b6760b",
   "metadata": {},
   "source": [
    "# Imports"
   ]
  },
  {
   "cell_type": "code",
   "execution_count": 2,
   "id": "53a7ebc6",
   "metadata": {
    "ExecuteTime": {
     "end_time": "2023-12-14T15:31:42.814344Z",
     "start_time": "2023-12-14T15:31:37.966121Z"
    }
   },
   "outputs": [
    {
     "name": "stderr",
     "output_type": "stream",
     "text": [
      "/app/amp/core/statistics/random_samples.py:12: TqdmExperimentalWarning: Using `tqdm.autonotebook.tqdm` in notebook mode. Use `tqdm.tqdm` instead to force console mode (e.g. in jupyter console)\n",
      "  from tqdm.autonotebook import tqdm\n",
      "\u001b[33mWARNING\u001b[0m: No module named 'gluonts'\n"
     ]
    }
   ],
   "source": [
    "import logging\n",
    "\n",
    "import pandas as pd\n",
    "\n",
    "import core.config as cconfig\n",
    "import core.finance as cofinanc\n",
    "import helpers.hdbg as hdbg\n",
    "import helpers.henv as henv\n",
    "import helpers.hprint as hprint\n",
    "import im_v2.ccxt.data.client as icdcl\n",
    "import im_v2.common.data.client as icdc\n",
    "import im_v2.common.db.db_utils as imvcddbut\n",
    "import im_v2.common.universe as ivcu"
   ]
  },
  {
   "cell_type": "code",
   "execution_count": 3,
   "id": "ddaadf64",
   "metadata": {
    "ExecuteTime": {
     "end_time": "2023-12-14T15:31:43.213770Z",
     "start_time": "2023-12-14T15:31:42.817232Z"
    }
   },
   "outputs": [
    {
     "name": "stdout",
     "output_type": "stream",
     "text": [
      "\u001b[0m\u001b[36mINFO\u001b[0m: > cmd='/venv/lib/python3.9/site-packages/ipykernel_launcher.py -f /home/.local/share/jupyter/runtime/kernel-6a09ab9b-0e1e-4e98-9edf-7cd1038fa7b0.json'\n",
      "WARNING: Running in Jupyter\n",
      "\u001b[31m-----------------------------------------------------------------------------\n",
      "This code is not in sync with the container:\n",
      "code_version='1.10.0' != container_version='1.12.0'\n",
      "-----------------------------------------------------------------------------\n",
      "You need to:\n",
      "- merge origin/master into your branch with `invoke git_merge_master`\n",
      "- pull the latest container with `invoke docker_pull`\u001b[0m\n",
      "INFO  # Git\n",
      "  branch_name='CmTask5923_Add_ImClient_gallery_notebook'\n",
      "  hash='b2d8936b7'\n",
      "  # Last commits:\n",
      "    *   b2d8936b7 dan      Merge branch 'CmTask5923_Add_ImClient_gallery_notebook' of github.com:cryptokaizen/cmamp into CmTask5923_Add_ImClient_gallery_notebook (25 minutes ago) Thu Dec 14 15:06:47 2023  (HEAD -> CmTask5923_Add_ImClient_gallery_notebook, origin/CmTask5923_Add_ImClient_gallery_notebook)\n",
      "    |\\  \n",
      "    | *   64b0bcfc9 Dan      Merge branch 'master' into CmTask5923_Add_ImClient_gallery_notebook (27 minutes ago) Thu Dec 14 15:05:03 2023           \n",
      "    | |\\  \n",
      "    * | \\   1c2f2a6a2 dan      Merge branch 'master' into CmTask5923_Add_ImClient_gallery_notebook (27 minutes ago) Thu Dec 14 15:04:33 2023           \n",
      "    |\\ \\ \\  \n",
      "    | |/ /  \n",
      "    |/| /   \n",
      "    | |/    \n",
      "# Machine info\n",
      "  system=Linux\n",
      "  node name=5dbbbb147ff0\n",
      "  release=5.15.0-1050-aws\n",
      "  version=#55~20.04.1-Ubuntu SMP Mon Nov 6 12:15:34 UTC 2023\n",
      "  machine=x86_64\n",
      "  processor=x86_64\n",
      "  cpu count=8\n",
      "  cpu freq=scpufreq(current=2499.994, min=0.0, max=0.0)\n",
      "  memory=svmem(total=33280278528, available=5631102976, percent=83.1, used=27162333184, free=3286024192, active=1480630272, inactive=27096723456, buffers=389312512, cached=2442608640, shared=3780608, slab=875048960)\n",
      "  disk usage=sdiskusage(total=156052275200, used=71168708608, free=84866789376, percent=45.6)\n",
      "# Packages\n",
      "  python: 3.9.5\n",
      "  cvxopt: 1.3.2\n",
      "  cvxpy: 1.4.1\n",
      "  gluonnlp: ?\n",
      "  gluonts: ?\n",
      "  joblib: 1.3.2\n",
      "  mxnet: ?\n",
      "  numpy: 1.26.0\n",
      "  pandas: 2.1.1\n",
      "  pyarrow: 10.0.0\n",
      "  scipy: 1.11.3\n",
      "  seaborn: 0.13.0\n",
      "  sklearn: 1.3.1\n",
      "  statsmodels: 0.14.0\n"
     ]
    }
   ],
   "source": [
    "log_level = logging.INFO\n",
    "hdbg.init_logger(verbosity=log_level)\n",
    "\n",
    "_LOG = logging.getLogger(__name__)\n",
    "\n",
    "_LOG.info(\"%s\", henv.get_system_signature()[0])\n",
    "\n",
    "hprint.config_notebook()"
   ]
  },
  {
   "cell_type": "markdown",
   "id": "40c099ed",
   "metadata": {},
   "source": [
    "# Config"
   ]
  },
  {
   "cell_type": "code",
   "execution_count": 4,
   "id": "bfd26a3c",
   "metadata": {
    "ExecuteTime": {
     "end_time": "2023-12-14T15:31:43.427998Z",
     "start_time": "2023-12-14T15:31:43.216170Z"
    }
   },
   "outputs": [
    {
     "name": "stdout",
     "output_type": "stream",
     "text": [
      "INFO  Unable to fetch DB credentials from environment variables: \n",
      "\t'POSTGRES_HOST'\n",
      "\tAttempting env file method.\n",
      "INFO  Unable to fetch DB credentials from env file: \n",
      "\t\n",
      "################################################################################\n",
      "* Failed assertion *\n",
      "'preprod' in '['local', 'dev', 'prod']'\n",
      "################################################################################\n",
      "\n",
      "\tAttempting AWS SecretsManager method.\n",
      "INFO  Fetching secret: preprod.im_data_db\n",
      "INFO  Created preprod DB connection: \n",
      " None\n",
      "universe: \n",
      "  vendor: CCXT\n",
      "  mode: trade\n",
      "  version: v7.4\n",
      "  as_full_symbol: True\n",
      "start_timestamp: 2023-09-11 00:00:00+00:00\n",
      "end_timestamp: 2023-09-11 04:00:00+00:00\n",
      "columns: None\n",
      "filter_data_mode: assert\n",
      "ohlcv_parquet_config: \n",
      "  vendor: ccxt\n",
      "  universe_version: v7.4\n",
      "  root_dir: s3://cryptokaizen-data/v3\n",
      "  partition_mode: by_year_month\n",
      "  dataset: ohlcv\n",
      "  contract_type: futures\n",
      "  data_snapshot: \n",
      "  aws_profile: ck\n",
      "  resample_1min: False\n",
      "  version: v1_0_0\n",
      "  tag: downloaded_1min\n",
      "bid_ask_parquet_config: \n",
      "  vendor: ccxt\n",
      "  universe_version: v7.4\n",
      "  root_dir: s3://cryptokaizen-data-test/v3\n",
      "  partition_mode: by_year_month\n",
      "  dataset: bid_ask\n",
      "  contract_type: futures\n",
      "  data_snapshot: \n",
      "  version: v1_0_0\n",
      "  tag: resampled_1min\n",
      "  aws_profile: ck\n",
      "ohlcv_db_config: \n",
      "  universe_version: infer_from_data\n",
      "  db_connection: <connection object; dsn: 'user=ck_preprod_restricted password=xxx dbname=preprod.im_data_db host=dev-im-db.cpox8ul7pzan.eu-north-1.rds.amazonaws.com port=5432', closed: 0>\n",
      "  table_name: ccxt_ohlcv_futures\n",
      "  resample_1min: False\n"
     ]
    }
   ],
   "source": [
    "config = {\n",
    "    \"universe\": {\n",
    "        \"vendor\": \"CCXT\",\n",
    "        \"mode\": \"trade\",\n",
    "        \"version\": \"v7.4\",\n",
    "        \"as_full_symbol\": True,\n",
    "    },\n",
    "    \"start_timestamp\": pd.Timestamp(\"2023-09-11T00:00:00\", tz=\"UTC\"),\n",
    "    \"end_timestamp\": pd.Timestamp(\"2023-09-11T04:00:00\", tz=\"UTC\"),\n",
    "    \"columns\": None,\n",
    "    \"filter_data_mode\": \"assert\",\n",
    "    \"ohlcv_parquet_config\": {\n",
    "        \"vendor\": \"ccxt\",\n",
    "        \"universe_version\": \"v7.4\",\n",
    "        \"root_dir\": \"s3://cryptokaizen-data/v3\",\n",
    "        \"partition_mode\": \"by_year_month\",\n",
    "        \"dataset\": \"ohlcv\",\n",
    "        \"contract_type\": \"futures\",\n",
    "        \"data_snapshot\": \"\",\n",
    "        \"aws_profile\": \"ck\",\n",
    "        \"resample_1min\": False,\n",
    "        \"version\": \"v1_0_0\",\n",
    "        \"tag\": \"downloaded_1min\",\n",
    "    },\n",
    "    \"bid_ask_parquet_config\": {\n",
    "        \"vendor\": \"ccxt\",\n",
    "        \"universe_version\": \"v7.4\",\n",
    "        \"root_dir\": \"s3://cryptokaizen-data-test/v3\",\n",
    "        \"partition_mode\": \"by_year_month\",\n",
    "        \"dataset\": \"bid_ask\",\n",
    "        \"contract_type\": \"futures\",\n",
    "        \"data_snapshot\": \"\",\n",
    "        \"version\": \"v1_0_0\",\n",
    "        \"tag\": \"resampled_1min\",\n",
    "        \"aws_profile\": \"ck\",\n",
    "    },\n",
    "    \"ohlcv_db_config\": {\n",
    "        \"universe_version\": \"infer_from_data\",\n",
    "        \"db_connection\": imvcddbut.DbConnectionManager.get_connection(\"preprod\"),\n",
    "        \"table_name\": \"ccxt_ohlcv_futures\",\n",
    "        \"resample_1min\": False,\n",
    "    },\n",
    "}\n",
    "config = cconfig.Config().from_dict(config)\n",
    "print(config)"
   ]
  },
  {
   "cell_type": "markdown",
   "id": "a66327a1",
   "metadata": {},
   "source": [
    "# CCXT Binance 1-minute futures data"
   ]
  },
  {
   "cell_type": "code",
   "execution_count": 5,
   "id": "a21f6608",
   "metadata": {
    "ExecuteTime": {
     "end_time": "2023-12-14T15:31:43.530001Z",
     "start_time": "2023-12-14T15:31:43.430913Z"
    }
   },
   "outputs": [
    {
     "name": "stdout",
     "output_type": "stream",
     "text": [
      "INFO  Full symbols number=24\n"
     ]
    },
    {
     "data": {
      "text/plain": [
       "['binance::APE_USDT',\n",
       " 'binance::AVAX_USDT',\n",
       " 'binance::AXS_USDT',\n",
       " 'binance::BAKE_USDT',\n",
       " 'binance::BNB_USDT']"
      ]
     },
     "execution_count": 5,
     "metadata": {},
     "output_type": "execute_result"
    }
   ],
   "source": [
    "full_symbols = ivcu.get_vendor_universe(**config[\"universe\"])\n",
    "_LOG.info(\"Full symbols number=%s\", len(full_symbols))\n",
    "full_symbols[:5]"
   ]
  },
  {
   "cell_type": "markdown",
   "id": "de1a02c9",
   "metadata": {},
   "source": [
    "## OHLCV Parquet"
   ]
  },
  {
   "cell_type": "code",
   "execution_count": 6,
   "id": "a2b26bc4",
   "metadata": {
    "ExecuteTime": {
     "end_time": "2023-12-14T15:31:43.566988Z",
     "start_time": "2023-12-14T15:31:43.532156Z"
    }
   },
   "outputs": [],
   "source": [
    "ohlcv_im_client = icdc.HistoricalPqByCurrencyPairTileClient(\n",
    "    **config[\"ohlcv_parquet_config\"]\n",
    ")"
   ]
  },
  {
   "cell_type": "code",
   "execution_count": 7,
   "id": "5800112d",
   "metadata": {
    "ExecuteTime": {
     "end_time": "2023-12-14T15:31:57.872447Z",
     "start_time": "2023-12-14T15:31:43.569028Z"
    }
   },
   "outputs": [
    {
     "data": {
      "text/html": [
       "<div>\n",
       "<style scoped>\n",
       "    .dataframe tbody tr th:only-of-type {\n",
       "        vertical-align: middle;\n",
       "    }\n",
       "\n",
       "    .dataframe tbody tr th {\n",
       "        vertical-align: top;\n",
       "    }\n",
       "\n",
       "    .dataframe thead th {\n",
       "        text-align: right;\n",
       "    }\n",
       "</style>\n",
       "<table border=\"1\" class=\"dataframe\">\n",
       "  <thead>\n",
       "    <tr style=\"text-align: right;\">\n",
       "      <th></th>\n",
       "      <th>full_symbol</th>\n",
       "      <th>open</th>\n",
       "      <th>high</th>\n",
       "      <th>low</th>\n",
       "      <th>close</th>\n",
       "      <th>volume</th>\n",
       "      <th>knowledge_timestamp</th>\n",
       "    </tr>\n",
       "    <tr>\n",
       "      <th>timestamp</th>\n",
       "      <th></th>\n",
       "      <th></th>\n",
       "      <th></th>\n",
       "      <th></th>\n",
       "      <th></th>\n",
       "      <th></th>\n",
       "      <th></th>\n",
       "    </tr>\n",
       "  </thead>\n",
       "  <tbody>\n",
       "    <tr>\n",
       "      <th>2023-09-11 00:00:00+00:00</th>\n",
       "      <td>binance::APE_USDT</td>\n",
       "      <td>1.2260</td>\n",
       "      <td>1.2260</td>\n",
       "      <td>1.2220</td>\n",
       "      <td>1.225</td>\n",
       "      <td>215214.00</td>\n",
       "      <td>2023-09-12 00:18:08.017865+00:00</td>\n",
       "    </tr>\n",
       "    <tr>\n",
       "      <th>2023-09-11 00:00:00+00:00</th>\n",
       "      <td>binance::AVAX_USDT</td>\n",
       "      <td>9.4570</td>\n",
       "      <td>9.4590</td>\n",
       "      <td>9.4470</td>\n",
       "      <td>9.455</td>\n",
       "      <td>24887.00</td>\n",
       "      <td>2023-09-12 00:18:05.672893+00:00</td>\n",
       "    </tr>\n",
       "    <tr>\n",
       "      <th>2023-09-11 00:00:00+00:00</th>\n",
       "      <td>binance::AXS_USDT</td>\n",
       "      <td>4.3890</td>\n",
       "      <td>4.3920</td>\n",
       "      <td>4.3840</td>\n",
       "      <td>4.391</td>\n",
       "      <td>12163.00</td>\n",
       "      <td>2023-09-12 00:18:23.505853+00:00</td>\n",
       "    </tr>\n",
       "    <tr>\n",
       "      <th>2023-09-11 00:00:00+00:00</th>\n",
       "      <td>binance::BAKE_USDT</td>\n",
       "      <td>0.0949</td>\n",
       "      <td>0.0951</td>\n",
       "      <td>0.0949</td>\n",
       "      <td>0.095</td>\n",
       "      <td>428825.00</td>\n",
       "      <td>2023-09-12 00:18:18.777530+00:00</td>\n",
       "    </tr>\n",
       "    <tr>\n",
       "      <th>2023-09-11 00:00:00+00:00</th>\n",
       "      <td>binance::BNB_USDT</td>\n",
       "      <td>212.2800</td>\n",
       "      <td>212.4000</td>\n",
       "      <td>212.2700</td>\n",
       "      <td>212.300</td>\n",
       "      <td>840.62</td>\n",
       "      <td>2023-09-12 00:18:06.849434+00:00</td>\n",
       "    </tr>\n",
       "  </tbody>\n",
       "</table>\n",
       "</div>"
      ],
      "text/plain": [
       "                                  full_symbol      open      high       low    close     volume              knowledge_timestamp\n",
       "timestamp                                                                                                                       \n",
       "2023-09-11 00:00:00+00:00   binance::APE_USDT    1.2260    1.2260    1.2220    1.225  215214.00 2023-09-12 00:18:08.017865+00:00\n",
       "2023-09-11 00:00:00+00:00  binance::AVAX_USDT    9.4570    9.4590    9.4470    9.455   24887.00 2023-09-12 00:18:05.672893+00:00\n",
       "2023-09-11 00:00:00+00:00   binance::AXS_USDT    4.3890    4.3920    4.3840    4.391   12163.00 2023-09-12 00:18:23.505853+00:00\n",
       "2023-09-11 00:00:00+00:00  binance::BAKE_USDT    0.0949    0.0951    0.0949    0.095  428825.00 2023-09-12 00:18:18.777530+00:00\n",
       "2023-09-11 00:00:00+00:00   binance::BNB_USDT  212.2800  212.4000  212.2700  212.300     840.62 2023-09-12 00:18:06.849434+00:00"
      ]
     },
     "execution_count": 7,
     "metadata": {},
     "output_type": "execute_result"
    }
   ],
   "source": [
    "ohlcv_data = ohlcv_im_client.read_data(\n",
    "    full_symbols,\n",
    "    config[\"start_timestamp\"],\n",
    "    config[\"end_timestamp\"],\n",
    "    config[\"columns\"],\n",
    "    config[\"filter_data_mode\"],\n",
    ")\n",
    "ohlcv_data.head()"
   ]
  },
  {
   "cell_type": "markdown",
   "id": "cf1835f3",
   "metadata": {},
   "source": [
    "## Bid/ask Parquet"
   ]
  },
  {
   "cell_type": "code",
   "execution_count": 8,
   "id": "bd40e598",
   "metadata": {
    "ExecuteTime": {
     "end_time": "2023-12-14T15:31:57.904922Z",
     "start_time": "2023-12-14T15:31:57.874999Z"
    }
   },
   "outputs": [],
   "source": [
    "bid_ask_im_client = icdc.HistoricalPqByCurrencyPairTileClient(\n",
    "    **config[\"bid_ask_parquet_config\"]\n",
    ")"
   ]
  },
  {
   "cell_type": "code",
   "execution_count": 9,
   "id": "1b6e9dc9",
   "metadata": {
    "ExecuteTime": {
     "end_time": "2023-12-14T15:32:00.843082Z",
     "start_time": "2023-12-14T15:31:57.906972Z"
    }
   },
   "outputs": [
    {
     "data": {
      "text/html": [
       "<div>\n",
       "<style scoped>\n",
       "    .dataframe tbody tr th:only-of-type {\n",
       "        vertical-align: middle;\n",
       "    }\n",
       "\n",
       "    .dataframe tbody tr th {\n",
       "        vertical-align: top;\n",
       "    }\n",
       "\n",
       "    .dataframe thead th {\n",
       "        text-align: right;\n",
       "    }\n",
       "</style>\n",
       "<table border=\"1\" class=\"dataframe\">\n",
       "  <thead>\n",
       "    <tr style=\"text-align: right;\">\n",
       "      <th></th>\n",
       "      <th>full_symbol</th>\n",
       "      <th>level_1.bid_price.open</th>\n",
       "      <th>level_1.bid_size.open</th>\n",
       "      <th>level_1.ask_price.open</th>\n",
       "      <th>level_1.ask_size.open</th>\n",
       "      <th>level_1.bid_price.close</th>\n",
       "      <th>level_1.bid_size.close</th>\n",
       "      <th>level_1.ask_price.close</th>\n",
       "      <th>level_1.ask_size.close</th>\n",
       "      <th>level_1.bid_price.high</th>\n",
       "      <th>level_1.bid_size.max</th>\n",
       "      <th>level_1.ask_price.high</th>\n",
       "      <th>level_1.ask_size.max</th>\n",
       "      <th>level_1.bid_price.low</th>\n",
       "      <th>level_1.bid_size.min</th>\n",
       "      <th>level_1.ask_price.low</th>\n",
       "      <th>level_1.ask_size.min</th>\n",
       "      <th>level_1.bid_price.mean</th>\n",
       "      <th>level_1.bid_size.mean</th>\n",
       "      <th>level_1.ask_price.mean</th>\n",
       "      <th>level_1.ask_size.mean</th>\n",
       "      <th>knowledge_timestamp</th>\n",
       "    </tr>\n",
       "    <tr>\n",
       "      <th>timestamp</th>\n",
       "      <th></th>\n",
       "      <th></th>\n",
       "      <th></th>\n",
       "      <th></th>\n",
       "      <th></th>\n",
       "      <th></th>\n",
       "      <th></th>\n",
       "      <th></th>\n",
       "      <th></th>\n",
       "      <th></th>\n",
       "      <th></th>\n",
       "      <th></th>\n",
       "      <th></th>\n",
       "      <th></th>\n",
       "      <th></th>\n",
       "      <th></th>\n",
       "      <th></th>\n",
       "      <th></th>\n",
       "      <th></th>\n",
       "      <th></th>\n",
       "      <th></th>\n",
       "      <th></th>\n",
       "    </tr>\n",
       "  </thead>\n",
       "  <tbody>\n",
       "    <tr>\n",
       "      <th>2023-09-11 00:01:00+00:00</th>\n",
       "      <td>binance::APE_USDT</td>\n",
       "      <td>1.2250</td>\n",
       "      <td>51437.00</td>\n",
       "      <td>1.226</td>\n",
       "      <td>25781.00</td>\n",
       "      <td>1.224</td>\n",
       "      <td>17722.00</td>\n",
       "      <td>1.2250</td>\n",
       "      <td>46103.00</td>\n",
       "      <td>1.225</td>\n",
       "      <td>60858.00</td>\n",
       "      <td>1.2260</td>\n",
       "      <td>65356.00</td>\n",
       "      <td>1.2220</td>\n",
       "      <td>6083.00</td>\n",
       "      <td>1.2230</td>\n",
       "      <td>7299.00</td>\n",
       "      <td>1.223341</td>\n",
       "      <td>27860.995192</td>\n",
       "      <td>1.224341</td>\n",
       "      <td>35473.754808</td>\n",
       "      <td>2023-09-19 14:47:21.627940+00:00</td>\n",
       "    </tr>\n",
       "    <tr>\n",
       "      <th>2023-09-11 00:01:00+00:00</th>\n",
       "      <td>binance::AVAX_USDT</td>\n",
       "      <td>9.4570</td>\n",
       "      <td>131.00</td>\n",
       "      <td>9.458</td>\n",
       "      <td>930.00</td>\n",
       "      <td>9.454</td>\n",
       "      <td>596.00</td>\n",
       "      <td>9.4550</td>\n",
       "      <td>209.00</td>\n",
       "      <td>9.457</td>\n",
       "      <td>1115.00</td>\n",
       "      <td>9.4580</td>\n",
       "      <td>1552.00</td>\n",
       "      <td>9.4470</td>\n",
       "      <td>6.00</td>\n",
       "      <td>9.4480</td>\n",
       "      <td>2.00</td>\n",
       "      <td>9.452654</td>\n",
       "      <td>520.483871</td>\n",
       "      <td>9.453691</td>\n",
       "      <td>492.668203</td>\n",
       "      <td>2023-09-19 14:47:21.627940+00:00</td>\n",
       "    </tr>\n",
       "    <tr>\n",
       "      <th>2023-09-11 00:01:00+00:00</th>\n",
       "      <td>binance::AXS_USDT</td>\n",
       "      <td>4.3890</td>\n",
       "      <td>312.00</td>\n",
       "      <td>4.390</td>\n",
       "      <td>688.00</td>\n",
       "      <td>4.391</td>\n",
       "      <td>1030.00</td>\n",
       "      <td>4.3920</td>\n",
       "      <td>481.00</td>\n",
       "      <td>4.391</td>\n",
       "      <td>1691.00</td>\n",
       "      <td>4.3920</td>\n",
       "      <td>3818.00</td>\n",
       "      <td>4.3840</td>\n",
       "      <td>17.00</td>\n",
       "      <td>4.3850</td>\n",
       "      <td>18.00</td>\n",
       "      <td>4.388183</td>\n",
       "      <td>704.403846</td>\n",
       "      <td>4.389192</td>\n",
       "      <td>760.812500</td>\n",
       "      <td>2023-09-19 14:47:21.627940+00:00</td>\n",
       "    </tr>\n",
       "    <tr>\n",
       "      <th>2023-09-11 00:01:00+00:00</th>\n",
       "      <td>binance::BAKE_USDT</td>\n",
       "      <td>0.0949</td>\n",
       "      <td>159855.00</td>\n",
       "      <td>0.095</td>\n",
       "      <td>66417.00</td>\n",
       "      <td>0.095</td>\n",
       "      <td>106674.00</td>\n",
       "      <td>0.0951</td>\n",
       "      <td>233652.00</td>\n",
       "      <td>0.095</td>\n",
       "      <td>193894.00</td>\n",
       "      <td>0.0951</td>\n",
       "      <td>233652.00</td>\n",
       "      <td>0.0948</td>\n",
       "      <td>6585.00</td>\n",
       "      <td>0.0949</td>\n",
       "      <td>2513.00</td>\n",
       "      <td>0.094926</td>\n",
       "      <td>127695.973262</td>\n",
       "      <td>0.095026</td>\n",
       "      <td>172666.540107</td>\n",
       "      <td>2023-09-19 14:47:21.627940+00:00</td>\n",
       "    </tr>\n",
       "    <tr>\n",
       "      <th>2023-09-11 00:01:00+00:00</th>\n",
       "      <td>binance::BNB_USDT</td>\n",
       "      <td>212.2700</td>\n",
       "      <td>56.21</td>\n",
       "      <td>212.280</td>\n",
       "      <td>37.82</td>\n",
       "      <td>212.300</td>\n",
       "      <td>5.41</td>\n",
       "      <td>212.3100</td>\n",
       "      <td>47.13</td>\n",
       "      <td>212.390</td>\n",
       "      <td>101.15</td>\n",
       "      <td>212.4000</td>\n",
       "      <td>79.37</td>\n",
       "      <td>212.2700</td>\n",
       "      <td>0.46</td>\n",
       "      <td>212.2800</td>\n",
       "      <td>0.11</td>\n",
       "      <td>212.311076</td>\n",
       "      <td>39.740762</td>\n",
       "      <td>212.321076</td>\n",
       "      <td>41.236323</td>\n",
       "      <td>2023-09-19 14:47:21.627940+00:00</td>\n",
       "    </tr>\n",
       "  </tbody>\n",
       "</table>\n",
       "</div>"
      ],
      "text/plain": [
       "                                  full_symbol  level_1.bid_price.open  level_1.bid_size.open  level_1.ask_price.open  level_1.ask_size.open  level_1.bid_price.close  level_1.bid_size.close  level_1.ask_price.close  level_1.ask_size.close  level_1.bid_price.high  level_1.bid_size.max  level_1.ask_price.high  level_1.ask_size.max  level_1.bid_price.low  level_1.bid_size.min  level_1.ask_price.low  level_1.ask_size.min  level_1.bid_price.mean  level_1.bid_size.mean  level_1.ask_price.mean  level_1.ask_size.mean              knowledge_timestamp\n",
       "timestamp                                                                                                                                                                                                                                                                                                                                                                                                                                                                                                                                                         \n",
       "2023-09-11 00:01:00+00:00   binance::APE_USDT                  1.2250               51437.00                   1.226               25781.00                    1.224                17722.00                   1.2250                46103.00                   1.225              60858.00                  1.2260              65356.00                 1.2220               6083.00                 1.2230               7299.00                1.223341           27860.995192                1.224341           35473.754808 2023-09-19 14:47:21.627940+00:00\n",
       "2023-09-11 00:01:00+00:00  binance::AVAX_USDT                  9.4570                 131.00                   9.458                 930.00                    9.454                  596.00                   9.4550                  209.00                   9.457               1115.00                  9.4580               1552.00                 9.4470                  6.00                 9.4480                  2.00                9.452654             520.483871                9.453691             492.668203 2023-09-19 14:47:21.627940+00:00\n",
       "2023-09-11 00:01:00+00:00   binance::AXS_USDT                  4.3890                 312.00                   4.390                 688.00                    4.391                 1030.00                   4.3920                  481.00                   4.391               1691.00                  4.3920               3818.00                 4.3840                 17.00                 4.3850                 18.00                4.388183             704.403846                4.389192             760.812500 2023-09-19 14:47:21.627940+00:00\n",
       "2023-09-11 00:01:00+00:00  binance::BAKE_USDT                  0.0949              159855.00                   0.095               66417.00                    0.095               106674.00                   0.0951               233652.00                   0.095             193894.00                  0.0951             233652.00                 0.0948               6585.00                 0.0949               2513.00                0.094926          127695.973262                0.095026          172666.540107 2023-09-19 14:47:21.627940+00:00\n",
       "2023-09-11 00:01:00+00:00   binance::BNB_USDT                212.2700                  56.21                 212.280                  37.82                  212.300                    5.41                 212.3100                   47.13                 212.390                101.15                212.4000                 79.37               212.2700                  0.46               212.2800                  0.11              212.311076              39.740762              212.321076              41.236323 2023-09-19 14:47:21.627940+00:00"
      ]
     },
     "execution_count": 9,
     "metadata": {},
     "output_type": "execute_result"
    }
   ],
   "source": [
    "bid_ask_data = bid_ask_im_client.read_data(\n",
    "    full_symbols,\n",
    "    config[\"start_timestamp\"],\n",
    "    config[\"end_timestamp\"],\n",
    "    config[\"columns\"],\n",
    "    config[\"filter_data_mode\"],\n",
    ")\n",
    "bid_ask_data.head()"
   ]
  },
  {
   "cell_type": "markdown",
   "id": "dcfc8a14",
   "metadata": {},
   "source": [
    "## OHLCV Database"
   ]
  },
  {
   "cell_type": "code",
   "execution_count": 10,
   "id": "eb93d7de",
   "metadata": {
    "ExecuteTime": {
     "end_time": "2023-12-14T15:32:02.497137Z",
     "start_time": "2023-12-14T15:32:00.845280Z"
    },
    "scrolled": true
   },
   "outputs": [
    {
     "name": "stderr",
     "output_type": "stream",
     "text": [
      "/app/amp/helpers/hsql_implementation.py:582: UserWarning: pandas only supports SQLAlchemy connectable (engine/connection) or database string URI or sqlite3 DBAPI2 connection. Other DBAPI2 objects are not tested. Please consider using SQLAlchemy.\n",
      "  df = pd.read_sql_query(query, connection)\n"
     ]
    }
   ],
   "source": [
    "ohlcv_db_im_client = icdcl.CcxtSqlRealTimeImClient(**config[\"ohlcv_db_config\"])"
   ]
  },
  {
   "cell_type": "code",
   "execution_count": 11,
   "id": "1e8713cf",
   "metadata": {
    "ExecuteTime": {
     "end_time": "2023-12-14T15:32:02.859735Z",
     "start_time": "2023-12-14T15:32:02.499777Z"
    }
   },
   "outputs": [
    {
     "data": {
      "text/html": [
       "<div>\n",
       "<style scoped>\n",
       "    .dataframe tbody tr th:only-of-type {\n",
       "        vertical-align: middle;\n",
       "    }\n",
       "\n",
       "    .dataframe tbody tr th {\n",
       "        vertical-align: top;\n",
       "    }\n",
       "\n",
       "    .dataframe thead th {\n",
       "        text-align: right;\n",
       "    }\n",
       "</style>\n",
       "<table border=\"1\" class=\"dataframe\">\n",
       "  <thead>\n",
       "    <tr style=\"text-align: right;\">\n",
       "      <th></th>\n",
       "      <th>knowledge_timestamp</th>\n",
       "      <th>open</th>\n",
       "      <th>high</th>\n",
       "      <th>low</th>\n",
       "      <th>close</th>\n",
       "      <th>volume</th>\n",
       "      <th>end_download_timestamp</th>\n",
       "      <th>id</th>\n",
       "      <th>full_symbol</th>\n",
       "    </tr>\n",
       "    <tr>\n",
       "      <th>timestamp</th>\n",
       "      <th></th>\n",
       "      <th></th>\n",
       "      <th></th>\n",
       "      <th></th>\n",
       "      <th></th>\n",
       "      <th></th>\n",
       "      <th></th>\n",
       "      <th></th>\n",
       "      <th></th>\n",
       "    </tr>\n",
       "  </thead>\n",
       "  <tbody>\n",
       "    <tr>\n",
       "      <th>2023-09-11 00:00:00+00:00</th>\n",
       "      <td>2023-09-11 00:00:10.176577+00:00</td>\n",
       "      <td>1.2250</td>\n",
       "      <td>1.226</td>\n",
       "      <td>1.2240</td>\n",
       "      <td>1.2250</td>\n",
       "      <td>21814.00</td>\n",
       "      <td>2023-09-11 00:00:10.149844+00:00</td>\n",
       "      <td>237185526</td>\n",
       "      <td>binance::APE_USDT</td>\n",
       "    </tr>\n",
       "    <tr>\n",
       "      <th>2023-09-11 00:00:00+00:00</th>\n",
       "      <td>2023-09-11 00:00:10.176577+00:00</td>\n",
       "      <td>9.4570</td>\n",
       "      <td>9.460</td>\n",
       "      <td>9.4570</td>\n",
       "      <td>9.4570</td>\n",
       "      <td>1505.00</td>\n",
       "      <td>2023-09-11 00:00:10.148685+00:00</td>\n",
       "      <td>237185413</td>\n",
       "      <td>binance::AVAX_USDT</td>\n",
       "    </tr>\n",
       "    <tr>\n",
       "      <th>2023-09-11 00:00:00+00:00</th>\n",
       "      <td>2023-09-11 00:00:10.176577+00:00</td>\n",
       "      <td>4.3890</td>\n",
       "      <td>4.390</td>\n",
       "      <td>4.3890</td>\n",
       "      <td>4.3890</td>\n",
       "      <td>1179.00</td>\n",
       "      <td>2023-09-11 00:00:10.158478+00:00</td>\n",
       "      <td>237186251</td>\n",
       "      <td>binance::AXS_USDT</td>\n",
       "    </tr>\n",
       "    <tr>\n",
       "      <th>2023-09-11 00:00:00+00:00</th>\n",
       "      <td>2023-09-11 00:00:10.176577+00:00</td>\n",
       "      <td>0.0949</td>\n",
       "      <td>0.095</td>\n",
       "      <td>0.0948</td>\n",
       "      <td>0.0949</td>\n",
       "      <td>135342.00</td>\n",
       "      <td>2023-09-11 00:00:10.155999+00:00</td>\n",
       "      <td>237186030</td>\n",
       "      <td>binance::BAKE_USDT</td>\n",
       "    </tr>\n",
       "    <tr>\n",
       "      <th>2023-09-11 00:00:00+00:00</th>\n",
       "      <td>2023-09-11 00:00:10.176577+00:00</td>\n",
       "      <td>212.2500</td>\n",
       "      <td>212.290</td>\n",
       "      <td>212.2500</td>\n",
       "      <td>212.2800</td>\n",
       "      <td>120.72</td>\n",
       "      <td>2023-09-11 00:00:10.149208+00:00</td>\n",
       "      <td>237185470</td>\n",
       "      <td>binance::BNB_USDT</td>\n",
       "    </tr>\n",
       "  </tbody>\n",
       "</table>\n",
       "</div>"
      ],
      "text/plain": [
       "                                       knowledge_timestamp      open     high       low     close     volume           end_download_timestamp         id         full_symbol\n",
       "timestamp                                                                                                                                                                   \n",
       "2023-09-11 00:00:00+00:00 2023-09-11 00:00:10.176577+00:00    1.2250    1.226    1.2240    1.2250   21814.00 2023-09-11 00:00:10.149844+00:00  237185526   binance::APE_USDT\n",
       "2023-09-11 00:00:00+00:00 2023-09-11 00:00:10.176577+00:00    9.4570    9.460    9.4570    9.4570    1505.00 2023-09-11 00:00:10.148685+00:00  237185413  binance::AVAX_USDT\n",
       "2023-09-11 00:00:00+00:00 2023-09-11 00:00:10.176577+00:00    4.3890    4.390    4.3890    4.3890    1179.00 2023-09-11 00:00:10.158478+00:00  237186251   binance::AXS_USDT\n",
       "2023-09-11 00:00:00+00:00 2023-09-11 00:00:10.176577+00:00    0.0949    0.095    0.0948    0.0949  135342.00 2023-09-11 00:00:10.155999+00:00  237186030  binance::BAKE_USDT\n",
       "2023-09-11 00:00:00+00:00 2023-09-11 00:00:10.176577+00:00  212.2500  212.290  212.2500  212.2800     120.72 2023-09-11 00:00:10.149208+00:00  237185470   binance::BNB_USDT"
      ]
     },
     "execution_count": 11,
     "metadata": {},
     "output_type": "execute_result"
    }
   ],
   "source": [
    "ohlcv_db_data = ohlcv_db_im_client.read_data(\n",
    "    full_symbols,\n",
    "    config[\"start_timestamp\"],\n",
    "    config[\"end_timestamp\"],\n",
    "    config[\"columns\"],\n",
    "    config[\"filter_data_mode\"],\n",
    ")\n",
    "ohlcv_db_data.head()"
   ]
  },
  {
   "cell_type": "markdown",
   "id": "3c0d9f76",
   "metadata": {},
   "source": [
    "# Mock `ImClient`"
   ]
  },
  {
   "cell_type": "code",
   "execution_count": 12,
   "id": "32c4ab9e",
   "metadata": {
    "ExecuteTime": {
     "end_time": "2023-12-14T15:32:02.975561Z",
     "start_time": "2023-12-14T15:32:02.862672Z"
    }
   },
   "outputs": [
    {
     "data": {
      "text/html": [
       "<div>\n",
       "<style scoped>\n",
       "    .dataframe tbody tr th:only-of-type {\n",
       "        vertical-align: middle;\n",
       "    }\n",
       "\n",
       "    .dataframe tbody tr th {\n",
       "        vertical-align: top;\n",
       "    }\n",
       "\n",
       "    .dataframe thead th {\n",
       "        text-align: right;\n",
       "    }\n",
       "</style>\n",
       "<table border=\"1\" class=\"dataframe\">\n",
       "  <thead>\n",
       "    <tr style=\"text-align: right;\">\n",
       "      <th></th>\n",
       "      <th>full_symbol</th>\n",
       "      <th>open</th>\n",
       "      <th>high</th>\n",
       "      <th>low</th>\n",
       "      <th>close</th>\n",
       "      <th>volume</th>\n",
       "      <th>feature1</th>\n",
       "    </tr>\n",
       "    <tr>\n",
       "      <th>timestamp</th>\n",
       "      <th></th>\n",
       "      <th></th>\n",
       "      <th></th>\n",
       "      <th></th>\n",
       "      <th></th>\n",
       "      <th></th>\n",
       "      <th></th>\n",
       "    </tr>\n",
       "  </thead>\n",
       "  <tbody>\n",
       "    <tr>\n",
       "      <th>2000-01-01 14:31:00+00:00</th>\n",
       "      <td>binance::APE_USDT</td>\n",
       "      <td>100</td>\n",
       "      <td>101</td>\n",
       "      <td>99</td>\n",
       "      <td>101.0</td>\n",
       "      <td>0</td>\n",
       "      <td>1.0</td>\n",
       "    </tr>\n",
       "    <tr>\n",
       "      <th>2000-01-01 14:31:00+00:00</th>\n",
       "      <td>binance::AVAX_USDT</td>\n",
       "      <td>100</td>\n",
       "      <td>101</td>\n",
       "      <td>99</td>\n",
       "      <td>101.0</td>\n",
       "      <td>0</td>\n",
       "      <td>1.0</td>\n",
       "    </tr>\n",
       "    <tr>\n",
       "      <th>2000-01-01 14:31:00+00:00</th>\n",
       "      <td>binance::AXS_USDT</td>\n",
       "      <td>100</td>\n",
       "      <td>101</td>\n",
       "      <td>99</td>\n",
       "      <td>101.0</td>\n",
       "      <td>0</td>\n",
       "      <td>1.0</td>\n",
       "    </tr>\n",
       "    <tr>\n",
       "      <th>2000-01-01 14:31:00+00:00</th>\n",
       "      <td>binance::BAKE_USDT</td>\n",
       "      <td>100</td>\n",
       "      <td>101</td>\n",
       "      <td>99</td>\n",
       "      <td>101.0</td>\n",
       "      <td>0</td>\n",
       "      <td>1.0</td>\n",
       "    </tr>\n",
       "    <tr>\n",
       "      <th>2000-01-01 14:31:00+00:00</th>\n",
       "      <td>binance::BNB_USDT</td>\n",
       "      <td>100</td>\n",
       "      <td>101</td>\n",
       "      <td>99</td>\n",
       "      <td>101.0</td>\n",
       "      <td>0</td>\n",
       "      <td>1.0</td>\n",
       "    </tr>\n",
       "  </tbody>\n",
       "</table>\n",
       "</div>"
      ],
      "text/plain": [
       "                                  full_symbol  open  high  low  close  volume  feature1\n",
       "timestamp                                                                              \n",
       "2000-01-01 14:31:00+00:00   binance::APE_USDT   100   101   99  101.0       0       1.0\n",
       "2000-01-01 14:31:00+00:00  binance::AVAX_USDT   100   101   99  101.0       0       1.0\n",
       "2000-01-01 14:31:00+00:00   binance::AXS_USDT   100   101   99  101.0       0       1.0\n",
       "2000-01-01 14:31:00+00:00  binance::BAKE_USDT   100   101   99  101.0       0       1.0\n",
       "2000-01-01 14:31:00+00:00   binance::BNB_USDT   100   101   99  101.0       0       1.0"
      ]
     },
     "execution_count": 12,
     "metadata": {},
     "output_type": "execute_result"
    }
   ],
   "source": [
    "df = cofinanc.get_MarketData_df6(full_symbols)\n",
    "df.head()"
   ]
  },
  {
   "cell_type": "code",
   "execution_count": 13,
   "id": "aa46b168",
   "metadata": {
    "ExecuteTime": {
     "end_time": "2023-12-14T15:32:03.009977Z",
     "start_time": "2023-12-14T15:32:02.977748Z"
    }
   },
   "outputs": [],
   "source": [
    "dataframe_im_client = icdc.DataFrameImClient(\n",
    "    df,\n",
    "    full_symbols,\n",
    ")"
   ]
  },
  {
   "cell_type": "code",
   "execution_count": 14,
   "id": "166761df",
   "metadata": {
    "ExecuteTime": {
     "end_time": "2023-12-14T15:32:03.198913Z",
     "start_time": "2023-12-14T15:32:03.014129Z"
    }
   },
   "outputs": [
    {
     "data": {
      "text/html": [
       "<div>\n",
       "<style scoped>\n",
       "    .dataframe tbody tr th:only-of-type {\n",
       "        vertical-align: middle;\n",
       "    }\n",
       "\n",
       "    .dataframe tbody tr th {\n",
       "        vertical-align: top;\n",
       "    }\n",
       "\n",
       "    .dataframe thead th {\n",
       "        text-align: right;\n",
       "    }\n",
       "</style>\n",
       "<table border=\"1\" class=\"dataframe\">\n",
       "  <thead>\n",
       "    <tr style=\"text-align: right;\">\n",
       "      <th></th>\n",
       "      <th>full_symbol</th>\n",
       "      <th>open</th>\n",
       "      <th>high</th>\n",
       "      <th>low</th>\n",
       "      <th>close</th>\n",
       "      <th>volume</th>\n",
       "      <th>feature1</th>\n",
       "    </tr>\n",
       "    <tr>\n",
       "      <th>timestamp</th>\n",
       "      <th></th>\n",
       "      <th></th>\n",
       "      <th></th>\n",
       "      <th></th>\n",
       "      <th></th>\n",
       "      <th></th>\n",
       "      <th></th>\n",
       "    </tr>\n",
       "  </thead>\n",
       "  <tbody>\n",
       "    <tr>\n",
       "      <th>2000-01-01 14:35:00+00:00</th>\n",
       "      <td>binance::APE_USDT</td>\n",
       "      <td>100</td>\n",
       "      <td>101</td>\n",
       "      <td>99</td>\n",
       "      <td>101.0</td>\n",
       "      <td>4</td>\n",
       "      <td>1.0</td>\n",
       "    </tr>\n",
       "    <tr>\n",
       "      <th>2000-01-01 14:35:00+00:00</th>\n",
       "      <td>binance::AVAX_USDT</td>\n",
       "      <td>100</td>\n",
       "      <td>101</td>\n",
       "      <td>99</td>\n",
       "      <td>101.0</td>\n",
       "      <td>4</td>\n",
       "      <td>1.0</td>\n",
       "    </tr>\n",
       "    <tr>\n",
       "      <th>2000-01-01 14:35:00+00:00</th>\n",
       "      <td>binance::AXS_USDT</td>\n",
       "      <td>100</td>\n",
       "      <td>101</td>\n",
       "      <td>99</td>\n",
       "      <td>101.0</td>\n",
       "      <td>4</td>\n",
       "      <td>1.0</td>\n",
       "    </tr>\n",
       "    <tr>\n",
       "      <th>2000-01-01 14:35:00+00:00</th>\n",
       "      <td>binance::BAKE_USDT</td>\n",
       "      <td>100</td>\n",
       "      <td>101</td>\n",
       "      <td>99</td>\n",
       "      <td>101.0</td>\n",
       "      <td>4</td>\n",
       "      <td>1.0</td>\n",
       "    </tr>\n",
       "    <tr>\n",
       "      <th>2000-01-01 14:35:00+00:00</th>\n",
       "      <td>binance::BNB_USDT</td>\n",
       "      <td>100</td>\n",
       "      <td>101</td>\n",
       "      <td>99</td>\n",
       "      <td>101.0</td>\n",
       "      <td>4</td>\n",
       "      <td>1.0</td>\n",
       "    </tr>\n",
       "  </tbody>\n",
       "</table>\n",
       "</div>"
      ],
      "text/plain": [
       "                                  full_symbol  open  high  low  close  volume  feature1\n",
       "timestamp                                                                              \n",
       "2000-01-01 14:35:00+00:00   binance::APE_USDT   100   101   99  101.0       4       1.0\n",
       "2000-01-01 14:35:00+00:00  binance::AVAX_USDT   100   101   99  101.0       4       1.0\n",
       "2000-01-01 14:35:00+00:00   binance::AXS_USDT   100   101   99  101.0       4       1.0\n",
       "2000-01-01 14:35:00+00:00  binance::BAKE_USDT   100   101   99  101.0       4       1.0\n",
       "2000-01-01 14:35:00+00:00   binance::BNB_USDT   100   101   99  101.0       4       1.0"
      ]
     },
     "execution_count": 14,
     "metadata": {},
     "output_type": "execute_result"
    }
   ],
   "source": [
    "start_timestamp = pd.Timestamp(\"2000-01-01 09:35:00-05:00\")\n",
    "end_timestamp = pd.Timestamp(\"2000-01-01 10:31:00-05:00\")\n",
    "#\n",
    "ohlcv_from_df_data = dataframe_im_client.read_data(\n",
    "    full_symbols,\n",
    "    start_timestamp,\n",
    "    end_timestamp,\n",
    "    config[\"columns\"],\n",
    "    config[\"filter_data_mode\"],\n",
    ")\n",
    "ohlcv_from_df_data.head()"
   ]
  },
  {
   "cell_type": "code",
   "execution_count": null,
   "id": "59f2990c",
   "metadata": {},
   "outputs": [],
   "source": []
  }
 ],
 "metadata": {
  "kernelspec": {
   "display_name": "Python 3 (ipykernel)",
   "language": "python",
   "name": "python3"
  },
  "language_info": {
   "codemirror_mode": {
    "name": "ipython",
    "version": 3
   },
   "file_extension": ".py",
   "mimetype": "text/x-python",
   "name": "python",
   "nbconvert_exporter": "python",
   "pygments_lexer": "ipython3",
   "version": "3.9.5"
  },
  "toc": {
   "base_numbering": 1,
   "nav_menu": {},
   "number_sections": true,
   "sideBar": true,
   "skip_h1_title": false,
   "title_cell": "Table of Contents",
   "title_sidebar": "Contents",
   "toc_cell": false,
   "toc_position": {},
   "toc_section_display": true,
   "toc_window_display": false
  }
 },
 "nbformat": 4,
 "nbformat_minor": 5
}
