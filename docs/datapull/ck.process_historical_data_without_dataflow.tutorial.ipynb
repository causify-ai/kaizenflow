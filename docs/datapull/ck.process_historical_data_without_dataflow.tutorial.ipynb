{
 "cells": [
  {
   "cell_type": "markdown",
   "id": "08f3884d",
   "metadata": {},
   "source": [
    "# ETL Tutorial For Historical Data"
   ]
  },
  {
   "cell_type": "markdown",
   "id": "df37660e",
   "metadata": {},
   "source": [
    "In this tutorial we are going to:\n",
    "1. Extract a sample of historical trades data from `.tar` (source: https://drive.google.com/file/d/1up5otVlfw-RX1S6K8o4d2nNRPP-lKran/view)\n",
    "2. Perform exploratory analysis \n",
    "3. Transform to a format supported by other components in the library.\n",
    "4. Store on S3 in a parquet tiled format tailor-suited to be used for various use-cases.\n",
    "5. Show an example of loading the data back from S3"
   ]
  },
  {
   "cell_type": "markdown",
   "id": "bf79c377",
   "metadata": {
    "ExecuteTime": {
     "end_time": "2023-09-27T17:19:16.617022Z",
     "start_time": "2023-09-27T17:19:16.614878Z"
    }
   },
   "source": [
    "# Prerequisites\n",
    "\n",
    "In order to go through this tutorial successfully, the following set-up/infrastructure available:\n",
    "1. A virtual environment set-up running, make sure you can run `> i docker_jupyter` successfully.\n",
    "2. An S3 bucket to store historical data\n",
    "3. AWS API credentials set-up with permissions to access access the S3 bucket"
   ]
  },
  {
   "cell_type": "markdown",
   "id": "a477a923",
   "metadata": {},
   "source": [
    "# Decompress the input file"
   ]
  },
  {
   "cell_type": "markdown",
   "id": "3b8ccd4d",
   "metadata": {},
   "source": [
    "_Note: Assuming the tar archive is located in the root of the repository_"
   ]
  },
  {
   "cell_type": "code",
   "execution_count": 1,
   "id": "3b8e7d26",
   "metadata": {
    "ExecuteTime": {
     "end_time": "2023-09-26T16:14:56.583200Z",
     "start_time": "2023-09-26T16:14:52.490664Z"
    }
   },
   "outputs": [],
   "source": [
    "! mkdir data && tar xf /app/msfttaqcsv202308.tar -C ./data"
   ]
  },
  {
   "cell_type": "code",
   "execution_count": 2,
   "id": "9b7d5eaa",
   "metadata": {
    "ExecuteTime": {
     "end_time": "2023-09-26T16:14:57.459743Z",
     "start_time": "2023-09-26T16:14:56.588074Z"
    }
   },
   "outputs": [
    {
     "name": "stdout",
     "output_type": "stream",
     "text": [
      " metadata\r\n",
      "'uT1dPod8mR2s_MSFT US Equity_quotes_1_1.csv.gz'\r\n",
      "'uT1dPod8mR2s_MSFT US Equity_trades_1_1.csv.gz'\r\n"
     ]
    }
   ],
   "source": [
    "!ls ./data"
   ]
  },
  {
   "cell_type": "markdown",
   "id": "e1974ebd",
   "metadata": {
    "ExecuteTime": {
     "end_time": "2023-09-15T18:34:10.870905Z",
     "start_time": "2023-09-15T18:34:10.867918Z"
    }
   },
   "source": [
    "# Imports"
   ]
  },
  {
   "cell_type": "code",
   "execution_count": 6,
   "id": "9c5ddefb",
   "metadata": {
    "ExecuteTime": {
     "end_time": "2023-09-27T18:47:52.155210Z",
     "start_time": "2023-09-27T18:47:52.152355Z"
    }
   },
   "outputs": [],
   "source": [
    "import datetime\n",
    "import logging\n",
    "\n",
    "import pandas as pd\n",
    "\n",
    "import helpers.hdbg as hdbg\n",
    "import helpers.henv as henv\n",
    "import helpers.hpandas as hpandas\n",
    "import helpers.hprint as hprint\n",
    "import helpers.hparquet as hparque"
   ]
  },
  {
   "cell_type": "markdown",
   "id": "0ba2b8f3",
   "metadata": {},
   "source": [
    "The following cell sets up logging such that it is possible to capture log messages within jupyter cells"
   ]
  },
  {
   "cell_type": "code",
   "execution_count": 10,
   "id": "e2eea6e8",
   "metadata": {
    "ExecuteTime": {
     "end_time": "2023-09-27T18:48:17.676046Z",
     "start_time": "2023-09-27T18:48:17.337570Z"
    }
   },
   "outputs": [
    {
     "name": "stdout",
     "output_type": "stream",
     "text": [
      "\u001b[0m\u001b[36mINFO\u001b[0m: > cmd='/venv/lib/python3.8/site-packages/ipykernel_launcher.py -f /home/.local/share/jupyter/runtime/kernel-be984456-886b-47f8-8f9b-c1f481b43d31.json'\n",
      "WARNING: Running in Jupyter\n",
      "\u001b[31m-----------------------------------------------------------------------------\n",
      "This code is not in sync with the container:\n",
      "code_version='1.8.0' != container_version='1.7.0'\n",
      "-----------------------------------------------------------------------------\n",
      "You need to:\n",
      "- merge origin/master into your branch with `invoke git_merge_master`\n",
      "- pull the latest container with `invoke docker_pull`\u001b[0m\n",
      "INFO  # Git\n",
      "  branch_name='CmampTask5539_Create_a_tutorial_to_load_and_resample_data'\n",
      "  hash='af0228790'\n",
      "  # Last commits:\n",
      "    * af0228790 jsmerix  Checkpoint                                                        (61 minutes ago) Wed Sep 27 17:46:56 2023  (HEAD -> CmampTask5539_Create_a_tutorial_to_load_and_resample_data)\n",
      "    * e9afa86b9 Vlad     CmampTask5466_Remove_mxnet,_gluonts_and_disable_related_tests (#5470) (   2 hours ago) Wed Sep 27 16:47:35 2023  (origin/master, origin/HEAD, origin/CmampTask5539_Create_a_tutorial_to_load_and_resample_data, origin/CmTask5314_Windows_Setup_Steps_Doc, master)\n",
      "    * e9945e8e4 Sameep Pote Removing common code #2579 (#5514)                                (   4 hours ago) Wed Sep 27 14:47:38 2023           \n",
      "# Machine info\n",
      "  system=Linux\n",
      "  node name=0fe0a862b0be\n",
      "  release=5.15.0-1044-aws\n",
      "  version=#49~20.04.1-Ubuntu SMP Mon Aug 21 17:09:32 UTC 2023\n",
      "  machine=x86_64\n",
      "  processor=x86_64\n",
      "  cpu count=8\n",
      "  cpu freq=scpufreq(current=2499.998, min=0.0, max=0.0)\n",
      "  memory=svmem(total=33280274432, available=17924321280, percent=46.1, used=14837460992, free=5899108352, active=6987091968, inactive=17027600384, buffers=1065930752, cached=11477774336, shared=42459136, slab=2891956224)\n",
      "  disk usage=sdiskusage(total=156052275200, used=61814272000, free=94221225984, percent=39.6)\n",
      "# Packages\n",
      "  python: 3.8.10\n",
      "  cvxopt: 1.3.2\n",
      "  cvxpy: 1.3.2\n",
      "  gluonnlp: ?\n",
      "  gluonts: 0.6.7\n",
      "  joblib: 1.3.2\n",
      "  mxnet: 1.9.1\n",
      "  numpy: 1.20.3\n",
      "  pandas: 1.5.1\n",
      "  pyarrow: 10.0.0\n",
      "  scipy: 1.10.1\n",
      "  seaborn: 0.12.2\n",
      "  sklearn: 1.3.0\n",
      "  statsmodels: 0.14.0\n"
     ]
    }
   ],
   "source": [
    "hdbg.init_logger(verbosity=logging.INFO)\n",
    "log_level = logging.INFO\n",
    "\n",
    "_LOG = logging.getLogger(__name__)\n",
    "\n",
    "_LOG.info(\"%s\", henv.get_system_signature()[0])\n",
    "\n",
    "hprint.config_notebook()"
   ]
  },
  {
   "cell_type": "markdown",
   "id": "76496665",
   "metadata": {
    "ExecuteTime": {
     "end_time": "2023-09-15T18:49:48.721849Z",
     "start_time": "2023-09-15T18:49:48.719029Z"
    }
   },
   "source": [
    "# Load the data\n",
    "\n",
    "Note: `head=10000` ensures we only use a snippet of the data to run a quick example."
   ]
  },
  {
   "cell_type": "code",
   "execution_count": 5,
   "id": "a4e39f6d",
   "metadata": {
    "ExecuteTime": {
     "end_time": "2023-09-26T16:15:40.926063Z",
     "start_time": "2023-09-26T16:15:04.410386Z"
    }
   },
   "outputs": [],
   "source": [
    "data = pd.read_csv(\"data/uT1dPod8mR2s_MSFT US Equity_trades_1_1.csv.gz\", head=10000)"
   ]
  },
  {
   "cell_type": "code",
   "execution_count": 6,
   "id": "b22c3611",
   "metadata": {
    "ExecuteTime": {
     "end_time": "2023-09-26T16:15:40.978154Z",
     "start_time": "2023-09-26T16:15:40.928174Z"
    }
   },
   "outputs": [
    {
     "data": {
      "text/html": [
       "<div>\n",
       "<style scoped>\n",
       "    .dataframe tbody tr th:only-of-type {\n",
       "        vertical-align: middle;\n",
       "    }\n",
       "\n",
       "    .dataframe tbody tr th {\n",
       "        vertical-align: top;\n",
       "    }\n",
       "\n",
       "    .dataframe thead th {\n",
       "        text-align: right;\n",
       "    }\n",
       "</style>\n",
       "<table border=\"1\" class=\"dataframe\">\n",
       "  <thead>\n",
       "    <tr style=\"text-align: right;\">\n",
       "      <th></th>\n",
       "      <th>SECURITY</th>\n",
       "      <th>TICK_SEQUENCE_NUMBER</th>\n",
       "      <th>TICK_TYPE</th>\n",
       "      <th>EVT_TRADE_TIME</th>\n",
       "      <th>TRADE_REPORTED_TIME</th>\n",
       "      <th>EVT_TRADE_EXECUTION_TIME</th>\n",
       "      <th>EVT_TRADE_IDENTIFIER</th>\n",
       "      <th>EVENT_ORIGINAL_TRADE_ID</th>\n",
       "      <th>EVENT_ORIGINAL_TRADE_TIME</th>\n",
       "      <th>EVT_TRADE_PRICE</th>\n",
       "      <th>EVT_TRADE_SIZE</th>\n",
       "      <th>EVT_TRADE_LOCAL_EXCH_SOURCE</th>\n",
       "      <th>EVT_TRADE_CONDITION_CODE</th>\n",
       "      <th>EVT_TRADE_BUY_BROKER</th>\n",
       "      <th>EVT_TRADE_SELL_BROKER</th>\n",
       "      <th>TRACE_RPT_PARTY_SIDE_LAST_TRADE</th>\n",
       "      <th>EVT_TRADE_RPT_PARTY_TYP</th>\n",
       "      <th>EVT_TRADE_BIC</th>\n",
       "      <th>EVT_TRADE_MIC</th>\n",
       "      <th>EVT_TRADE_ESMA_TRADE_FLAGS</th>\n",
       "      <th>EVT_TRADE_AGGRESSOR</th>\n",
       "      <th>EVT_TRADE_RPT_CONTRA_TYP</th>\n",
       "      <th>EVT_TRADE_REMUNERATION</th>\n",
       "      <th>EVT_TRADE_ATS_INDICATOR</th>\n",
       "    </tr>\n",
       "  </thead>\n",
       "  <tbody>\n",
       "    <tr>\n",
       "      <th>0</th>\n",
       "      <td>MSFT US Equity</td>\n",
       "      <td>4417360</td>\n",
       "      <td>NEW</td>\n",
       "      <td>2023-08-01T00:00:00.050Z</td>\n",
       "      <td>2023-08-01T00:00:00.050Z</td>\n",
       "      <td>NaN</td>\n",
       "      <td>NaN</td>\n",
       "      <td>NaN</td>\n",
       "      <td>NaN</td>\n",
       "      <td>336.00</td>\n",
       "      <td>0.0</td>\n",
       "      <td>UF</td>\n",
       "      <td>OC</td>\n",
       "      <td>NaN</td>\n",
       "      <td>NaN</td>\n",
       "      <td>NaN</td>\n",
       "      <td>NaN</td>\n",
       "      <td>NaN</td>\n",
       "      <td>NaN</td>\n",
       "      <td>NaN</td>\n",
       "      <td>NaN</td>\n",
       "      <td>NaN</td>\n",
       "      <td>NaN</td>\n",
       "      <td>NaN</td>\n",
       "    </tr>\n",
       "    <tr>\n",
       "      <th>1</th>\n",
       "      <td>MSFT US Equity</td>\n",
       "      <td>4417361</td>\n",
       "      <td>NEW</td>\n",
       "      <td>2023-08-01T00:00:00.050Z</td>\n",
       "      <td>2023-08-01T00:00:00.050Z</td>\n",
       "      <td>NaN</td>\n",
       "      <td>NaN</td>\n",
       "      <td>NaN</td>\n",
       "      <td>NaN</td>\n",
       "      <td>335.95</td>\n",
       "      <td>0.0</td>\n",
       "      <td>VY</td>\n",
       "      <td>OC</td>\n",
       "      <td>NaN</td>\n",
       "      <td>NaN</td>\n",
       "      <td>NaN</td>\n",
       "      <td>NaN</td>\n",
       "      <td>NaN</td>\n",
       "      <td>NaN</td>\n",
       "      <td>NaN</td>\n",
       "      <td>NaN</td>\n",
       "      <td>NaN</td>\n",
       "      <td>NaN</td>\n",
       "      <td>NaN</td>\n",
       "    </tr>\n",
       "    <tr>\n",
       "      <th>2</th>\n",
       "      <td>MSFT US Equity</td>\n",
       "      <td>4417362</td>\n",
       "      <td>NEW</td>\n",
       "      <td>2023-08-01T00:00:00.050Z</td>\n",
       "      <td>2023-08-01T00:00:00.050Z</td>\n",
       "      <td>NaN</td>\n",
       "      <td>NaN</td>\n",
       "      <td>NaN</td>\n",
       "      <td>NaN</td>\n",
       "      <td>335.95</td>\n",
       "      <td>0.0</td>\n",
       "      <td>UX</td>\n",
       "      <td>OC</td>\n",
       "      <td>NaN</td>\n",
       "      <td>NaN</td>\n",
       "      <td>NaN</td>\n",
       "      <td>NaN</td>\n",
       "      <td>NaN</td>\n",
       "      <td>NaN</td>\n",
       "      <td>NaN</td>\n",
       "      <td>NaN</td>\n",
       "      <td>NaN</td>\n",
       "      <td>NaN</td>\n",
       "      <td>NaN</td>\n",
       "    </tr>\n",
       "    <tr>\n",
       "      <th>3</th>\n",
       "      <td>MSFT US Equity</td>\n",
       "      <td>4417363</td>\n",
       "      <td>NEW</td>\n",
       "      <td>2023-08-01T00:00:00.050Z</td>\n",
       "      <td>2023-08-01T00:00:00.050Z</td>\n",
       "      <td>NaN</td>\n",
       "      <td>NaN</td>\n",
       "      <td>NaN</td>\n",
       "      <td>NaN</td>\n",
       "      <td>335.94</td>\n",
       "      <td>0.0</td>\n",
       "      <td>VF</td>\n",
       "      <td>OC</td>\n",
       "      <td>NaN</td>\n",
       "      <td>NaN</td>\n",
       "      <td>NaN</td>\n",
       "      <td>NaN</td>\n",
       "      <td>NaN</td>\n",
       "      <td>NaN</td>\n",
       "      <td>NaN</td>\n",
       "      <td>NaN</td>\n",
       "      <td>NaN</td>\n",
       "      <td>NaN</td>\n",
       "      <td>NaN</td>\n",
       "    </tr>\n",
       "    <tr>\n",
       "      <th>4</th>\n",
       "      <td>MSFT US Equity</td>\n",
       "      <td>4417364</td>\n",
       "      <td>NEW</td>\n",
       "      <td>2023-08-01T00:00:00.050Z</td>\n",
       "      <td>2023-08-01T00:00:00.050Z</td>\n",
       "      <td>NaN</td>\n",
       "      <td>NaN</td>\n",
       "      <td>NaN</td>\n",
       "      <td>NaN</td>\n",
       "      <td>336.00</td>\n",
       "      <td>0.0</td>\n",
       "      <td>VG</td>\n",
       "      <td>OC</td>\n",
       "      <td>NaN</td>\n",
       "      <td>NaN</td>\n",
       "      <td>NaN</td>\n",
       "      <td>NaN</td>\n",
       "      <td>NaN</td>\n",
       "      <td>NaN</td>\n",
       "      <td>NaN</td>\n",
       "      <td>NaN</td>\n",
       "      <td>NaN</td>\n",
       "      <td>NaN</td>\n",
       "      <td>NaN</td>\n",
       "    </tr>\n",
       "  </tbody>\n",
       "</table>\n",
       "</div>"
      ],
      "text/plain": [
       "         SECURITY  TICK_SEQUENCE_NUMBER TICK_TYPE            EVT_TRADE_TIME       TRADE_REPORTED_TIME  EVT_TRADE_EXECUTION_TIME EVT_TRADE_IDENTIFIER  EVENT_ORIGINAL_TRADE_ID  EVENT_ORIGINAL_TRADE_TIME  EVT_TRADE_PRICE  EVT_TRADE_SIZE EVT_TRADE_LOCAL_EXCH_SOURCE EVT_TRADE_CONDITION_CODE  EVT_TRADE_BUY_BROKER  EVT_TRADE_SELL_BROKER  TRACE_RPT_PARTY_SIDE_LAST_TRADE  EVT_TRADE_RPT_PARTY_TYP  EVT_TRADE_BIC  EVT_TRADE_MIC  EVT_TRADE_ESMA_TRADE_FLAGS  EVT_TRADE_AGGRESSOR  EVT_TRADE_RPT_CONTRA_TYP  EVT_TRADE_REMUNERATION  EVT_TRADE_ATS_INDICATOR\n",
       "0  MSFT US Equity               4417360       NEW  2023-08-01T00:00:00.050Z  2023-08-01T00:00:00.050Z                       NaN                  NaN                      NaN                        NaN           336.00             0.0                          UF                       OC                   NaN                    NaN                              NaN                      NaN            NaN            NaN                         NaN                  NaN                       NaN                     NaN                      NaN\n",
       "1  MSFT US Equity               4417361       NEW  2023-08-01T00:00:00.050Z  2023-08-01T00:00:00.050Z                       NaN                  NaN                      NaN                        NaN           335.95             0.0                          VY                       OC                   NaN                    NaN                              NaN                      NaN            NaN            NaN                         NaN                  NaN                       NaN                     NaN                      NaN\n",
       "2  MSFT US Equity               4417362       NEW  2023-08-01T00:00:00.050Z  2023-08-01T00:00:00.050Z                       NaN                  NaN                      NaN                        NaN           335.95             0.0                          UX                       OC                   NaN                    NaN                              NaN                      NaN            NaN            NaN                         NaN                  NaN                       NaN                     NaN                      NaN\n",
       "3  MSFT US Equity               4417363       NEW  2023-08-01T00:00:00.050Z  2023-08-01T00:00:00.050Z                       NaN                  NaN                      NaN                        NaN           335.94             0.0                          VF                       OC                   NaN                    NaN                              NaN                      NaN            NaN            NaN                         NaN                  NaN                       NaN                     NaN                      NaN\n",
       "4  MSFT US Equity               4417364       NEW  2023-08-01T00:00:00.050Z  2023-08-01T00:00:00.050Z                       NaN                  NaN                      NaN                        NaN           336.00             0.0                          VG                       OC                   NaN                    NaN                              NaN                      NaN            NaN            NaN                         NaN                  NaN                       NaN                     NaN                      NaN"
      ]
     },
     "execution_count": 6,
     "metadata": {},
     "output_type": "execute_result"
    }
   ],
   "source": [
    "data.head()"
   ]
  },
  {
   "cell_type": "markdown",
   "id": "bf9269b9",
   "metadata": {},
   "source": [
    "Drop columns where only NaN values are present."
   ]
  },
  {
   "cell_type": "code",
   "execution_count": 7,
   "id": "76b898ee",
   "metadata": {
    "ExecuteTime": {
     "end_time": "2023-09-26T16:15:49.249271Z",
     "start_time": "2023-09-26T16:15:40.982608Z"
    }
   },
   "outputs": [],
   "source": [
    "data = data.dropna(axis=1, how='all')"
   ]
  },
  {
   "cell_type": "code",
   "execution_count": 9,
   "id": "af79a997",
   "metadata": {
    "ExecuteTime": {
     "end_time": "2023-09-26T16:15:49.800004Z",
     "start_time": "2023-09-26T16:15:49.268840Z"
    }
   },
   "outputs": [
    {
     "data": {
      "text/plain": [
       "MSFT US Equity    7629374\n",
       "Name: SECURITY, dtype: int64"
      ]
     },
     "execution_count": 9,
     "metadata": {},
     "output_type": "execute_result"
    }
   ],
   "source": [
    "data[\"SECURITY\"].value_counts()"
   ]
  },
  {
   "cell_type": "markdown",
   "id": "a87942b8",
   "metadata": {},
   "source": [
    "Set datetime index"
   ]
  },
  {
   "cell_type": "code",
   "execution_count": 14,
   "id": "4ad1fd36",
   "metadata": {
    "ExecuteTime": {
     "end_time": "2023-09-26T16:16:00.960075Z",
     "start_time": "2023-09-26T16:15:49.885868Z"
    }
   },
   "outputs": [],
   "source": [
    "data[\"timestamp\"] = pd.to_datetime(data[\"TRADE_REPORTED_TIME\"])\n",
    "data = data.set_index(\"timestamp\", drop=True)"
   ]
  },
  {
   "cell_type": "code",
   "execution_count": 15,
   "id": "9761adfc",
   "metadata": {
    "ExecuteTime": {
     "end_time": "2023-09-26T16:16:03.184041Z",
     "start_time": "2023-09-26T16:16:00.962831Z"
    }
   },
   "outputs": [],
   "source": [
    "data = data[[\"EVT_TRADE_PRICE\", \"EVT_TRADE_SIZE\"]]"
   ]
  },
  {
   "cell_type": "markdown",
   "id": "4c5b56cd",
   "metadata": {},
   "source": [
    "## Compute OHLCV\n",
    "\n",
    "\n",
    "A simple resampling operation is applied to the data\n",
    "\n",
    "\n",
    "Time interval labelling convention used across that time interval [a, b) is labelled as b.\n",
    "\n",
    "E.g. for interval [06:40:00, 06:41:00) the timestamp is\n",
    "06:41:00\n",
    "\n",
    "Reference: [Sorrentum whitepaper](https://drive.google.com/drive/u/0/folders/1oFRoJIpqsbCJGP54vx774eVOBCc0z6Wk)"
   ]
  },
  {
   "cell_type": "code",
   "execution_count": 16,
   "id": "39fd97b5",
   "metadata": {
    "ExecuteTime": {
     "end_time": "2023-09-26T16:16:04.365395Z",
     "start_time": "2023-09-26T16:16:03.187393Z"
    }
   },
   "outputs": [],
   "source": [
    "data_ohlcv = data[\"EVT_TRADE_PRICE\"].resample(\"1T\", closed=\"left\", label=\"right\").ohlc()"
   ]
  },
  {
   "cell_type": "code",
   "execution_count": 17,
   "id": "118cb4d5",
   "metadata": {
    "ExecuteTime": {
     "end_time": "2023-09-26T16:16:04.561575Z",
     "start_time": "2023-09-26T16:16:04.370588Z"
    }
   },
   "outputs": [],
   "source": [
    "data_volume = data[\"EVT_TRADE_SIZE\"].resample(\"1T\", closed=\"left\", label=\"right\").sum()\n",
    "data_volume.name = \"volume\""
   ]
  },
  {
   "cell_type": "code",
   "execution_count": 18,
   "id": "b826ce42",
   "metadata": {
    "ExecuteTime": {
     "end_time": "2023-09-26T16:16:04.579235Z",
     "start_time": "2023-09-26T16:16:04.569311Z"
    }
   },
   "outputs": [],
   "source": [
    "data = pd.concat([data_ohlcv, data_volume], axis=1)"
   ]
  },
  {
   "cell_type": "code",
   "execution_count": 19,
   "id": "4171f503",
   "metadata": {
    "ExecuteTime": {
     "end_time": "2023-09-26T16:16:04.616142Z",
     "start_time": "2023-09-26T16:16:04.582632Z"
    }
   },
   "outputs": [
    {
     "data": {
      "text/html": [
       "<div>\n",
       "<style scoped>\n",
       "    .dataframe tbody tr th:only-of-type {\n",
       "        vertical-align: middle;\n",
       "    }\n",
       "\n",
       "    .dataframe tbody tr th {\n",
       "        vertical-align: top;\n",
       "    }\n",
       "\n",
       "    .dataframe thead th {\n",
       "        text-align: right;\n",
       "    }\n",
       "</style>\n",
       "<table border=\"1\" class=\"dataframe\">\n",
       "  <thead>\n",
       "    <tr style=\"text-align: right;\">\n",
       "      <th></th>\n",
       "      <th>open</th>\n",
       "      <th>high</th>\n",
       "      <th>low</th>\n",
       "      <th>close</th>\n",
       "      <th>volume</th>\n",
       "    </tr>\n",
       "    <tr>\n",
       "      <th>timestamp</th>\n",
       "      <th></th>\n",
       "      <th></th>\n",
       "      <th></th>\n",
       "      <th></th>\n",
       "      <th></th>\n",
       "    </tr>\n",
       "  </thead>\n",
       "  <tbody>\n",
       "    <tr>\n",
       "      <th>2023-08-01 00:01:00+00:00</th>\n",
       "      <td>336.0</td>\n",
       "      <td>336.0</td>\n",
       "      <td>335.6</td>\n",
       "      <td>335.92</td>\n",
       "      <td>0.0</td>\n",
       "    </tr>\n",
       "    <tr>\n",
       "      <th>2023-08-01 00:02:00+00:00</th>\n",
       "      <td>NaN</td>\n",
       "      <td>NaN</td>\n",
       "      <td>NaN</td>\n",
       "      <td>NaN</td>\n",
       "      <td>0.0</td>\n",
       "    </tr>\n",
       "    <tr>\n",
       "      <th>2023-08-01 00:03:00+00:00</th>\n",
       "      <td>NaN</td>\n",
       "      <td>NaN</td>\n",
       "      <td>NaN</td>\n",
       "      <td>NaN</td>\n",
       "      <td>0.0</td>\n",
       "    </tr>\n",
       "    <tr>\n",
       "      <th>2023-08-01 00:04:00+00:00</th>\n",
       "      <td>NaN</td>\n",
       "      <td>NaN</td>\n",
       "      <td>NaN</td>\n",
       "      <td>NaN</td>\n",
       "      <td>0.0</td>\n",
       "    </tr>\n",
       "    <tr>\n",
       "      <th>2023-08-01 00:05:00+00:00</th>\n",
       "      <td>NaN</td>\n",
       "      <td>NaN</td>\n",
       "      <td>NaN</td>\n",
       "      <td>NaN</td>\n",
       "      <td>0.0</td>\n",
       "    </tr>\n",
       "  </tbody>\n",
       "</table>\n",
       "</div>"
      ],
      "text/plain": [
       "                            open   high    low   close  volume\n",
       "timestamp                                                     \n",
       "2023-08-01 00:01:00+00:00  336.0  336.0  335.6  335.92     0.0\n",
       "2023-08-01 00:02:00+00:00    NaN    NaN    NaN     NaN     0.0\n",
       "2023-08-01 00:03:00+00:00    NaN    NaN    NaN     NaN     0.0\n",
       "2023-08-01 00:04:00+00:00    NaN    NaN    NaN     NaN     0.0\n",
       "2023-08-01 00:05:00+00:00    NaN    NaN    NaN     NaN     0.0"
      ]
     },
     "execution_count": 19,
     "metadata": {},
     "output_type": "execute_result"
    }
   ],
   "source": [
    "data.head()"
   ]
  },
  {
   "cell_type": "markdown",
   "id": "bcd38272",
   "metadata": {},
   "source": [
    "A standardized name for asset identification column is currently `currency_pair`"
   ]
  },
  {
   "cell_type": "code",
   "execution_count": 20,
   "id": "15c834e2",
   "metadata": {
    "ExecuteTime": {
     "end_time": "2023-09-26T16:16:04.634225Z",
     "start_time": "2023-09-26T16:16:04.618769Z"
    }
   },
   "outputs": [],
   "source": [
    "data[\"currency_pair\"] = \"MSFT\"\n",
    "data[\"knowledge_timestamp\"] = pd.Timestamp.utcnow()"
   ]
  },
  {
   "cell_type": "code",
   "execution_count": 21,
   "id": "5c925b9c",
   "metadata": {
    "ExecuteTime": {
     "end_time": "2023-09-26T16:16:04.676099Z",
     "start_time": "2023-09-26T16:16:04.641569Z"
    }
   },
   "outputs": [
    {
     "data": {
      "text/html": [
       "<div>\n",
       "<style scoped>\n",
       "    .dataframe tbody tr th:only-of-type {\n",
       "        vertical-align: middle;\n",
       "    }\n",
       "\n",
       "    .dataframe tbody tr th {\n",
       "        vertical-align: top;\n",
       "    }\n",
       "\n",
       "    .dataframe thead th {\n",
       "        text-align: right;\n",
       "    }\n",
       "</style>\n",
       "<table border=\"1\" class=\"dataframe\">\n",
       "  <thead>\n",
       "    <tr style=\"text-align: right;\">\n",
       "      <th></th>\n",
       "      <th>open</th>\n",
       "      <th>high</th>\n",
       "      <th>low</th>\n",
       "      <th>close</th>\n",
       "      <th>volume</th>\n",
       "      <th>currency_pair</th>\n",
       "      <th>knowledge_timestamp</th>\n",
       "    </tr>\n",
       "    <tr>\n",
       "      <th>timestamp</th>\n",
       "      <th></th>\n",
       "      <th></th>\n",
       "      <th></th>\n",
       "      <th></th>\n",
       "      <th></th>\n",
       "      <th></th>\n",
       "      <th></th>\n",
       "    </tr>\n",
       "  </thead>\n",
       "  <tbody>\n",
       "    <tr>\n",
       "      <th>2023-08-01 00:01:00+00:00</th>\n",
       "      <td>336.0</td>\n",
       "      <td>336.0</td>\n",
       "      <td>335.6</td>\n",
       "      <td>335.92</td>\n",
       "      <td>0.0</td>\n",
       "      <td>MSFT</td>\n",
       "      <td>2023-09-26 16:16:04.623076+00:00</td>\n",
       "    </tr>\n",
       "    <tr>\n",
       "      <th>2023-08-01 00:02:00+00:00</th>\n",
       "      <td>NaN</td>\n",
       "      <td>NaN</td>\n",
       "      <td>NaN</td>\n",
       "      <td>NaN</td>\n",
       "      <td>0.0</td>\n",
       "      <td>MSFT</td>\n",
       "      <td>2023-09-26 16:16:04.623076+00:00</td>\n",
       "    </tr>\n",
       "    <tr>\n",
       "      <th>2023-08-01 00:03:00+00:00</th>\n",
       "      <td>NaN</td>\n",
       "      <td>NaN</td>\n",
       "      <td>NaN</td>\n",
       "      <td>NaN</td>\n",
       "      <td>0.0</td>\n",
       "      <td>MSFT</td>\n",
       "      <td>2023-09-26 16:16:04.623076+00:00</td>\n",
       "    </tr>\n",
       "    <tr>\n",
       "      <th>2023-08-01 00:04:00+00:00</th>\n",
       "      <td>NaN</td>\n",
       "      <td>NaN</td>\n",
       "      <td>NaN</td>\n",
       "      <td>NaN</td>\n",
       "      <td>0.0</td>\n",
       "      <td>MSFT</td>\n",
       "      <td>2023-09-26 16:16:04.623076+00:00</td>\n",
       "    </tr>\n",
       "    <tr>\n",
       "      <th>2023-08-01 00:05:00+00:00</th>\n",
       "      <td>NaN</td>\n",
       "      <td>NaN</td>\n",
       "      <td>NaN</td>\n",
       "      <td>NaN</td>\n",
       "      <td>0.0</td>\n",
       "      <td>MSFT</td>\n",
       "      <td>2023-09-26 16:16:04.623076+00:00</td>\n",
       "    </tr>\n",
       "  </tbody>\n",
       "</table>\n",
       "</div>"
      ],
      "text/plain": [
       "                            open   high    low   close  volume currency_pair              knowledge_timestamp\n",
       "timestamp                                                                                                    \n",
       "2023-08-01 00:01:00+00:00  336.0  336.0  335.6  335.92     0.0          MSFT 2023-09-26 16:16:04.623076+00:00\n",
       "2023-08-01 00:02:00+00:00    NaN    NaN    NaN     NaN     0.0          MSFT 2023-09-26 16:16:04.623076+00:00\n",
       "2023-08-01 00:03:00+00:00    NaN    NaN    NaN     NaN     0.0          MSFT 2023-09-26 16:16:04.623076+00:00\n",
       "2023-08-01 00:04:00+00:00    NaN    NaN    NaN     NaN     0.0          MSFT 2023-09-26 16:16:04.623076+00:00\n",
       "2023-08-01 00:05:00+00:00    NaN    NaN    NaN     NaN     0.0          MSFT 2023-09-26 16:16:04.623076+00:00"
      ]
     },
     "execution_count": 21,
     "metadata": {},
     "output_type": "execute_result"
    }
   ],
   "source": [
    "data.head()"
   ]
  },
  {
   "cell_type": "markdown",
   "id": "1719741f",
   "metadata": {},
   "source": [
    "## Save as parquet to S3"
   ]
  },
  {
   "cell_type": "markdown",
   "id": "f9fd589e",
   "metadata": {},
   "source": [
    "- The S3 path is formed based on a dataset schema we use. It allows use to have a predictable, unified structure. See Sorrentum whitepaper and `dataset_schema/` directory"
   ]
  },
  {
   "cell_type": "code",
   "execution_count": 22,
   "id": "e9b2d641",
   "metadata": {
    "ExecuteTime": {
     "end_time": "2023-09-26T16:16:04.683608Z",
     "start_time": "2023-09-26T16:16:04.679598Z"
    }
   },
   "outputs": [],
   "source": [
    "# See docstring of hparque.add_date_partition_columns and hparque.to_partitioned_parquet.\n",
    "partition_mode = \"by_year_month\"\n",
    "s3_path = \"s3://cryptokaizen-data-test/v3/bulk/manual/resampled_1min/parquet/ohlcv/spot/v1/bloomberg/us_market/v1_0_0/\"\n",
    "# The value of aws_profile depends on your organization set-up.\n",
    "aws_profile = \"ck\""
   ]
  },
  {
   "cell_type": "code",
   "execution_count": 23,
   "id": "c59561f5",
   "metadata": {
    "ExecuteTime": {
     "end_time": "2023-09-26T16:16:05.259724Z",
     "start_time": "2023-09-26T16:16:04.692331Z"
    }
   },
   "outputs": [],
   "source": [
    "data, partition_cols = hparque.add_date_partition_columns(\n",
    "        data, partition_mode\n",
    "    )\n",
    "hparque.to_partitioned_parquet(\n",
    "    data,\n",
    "    [\"currency_pair\"] + partition_cols,\n",
    "    s3_path,\n",
    "    partition_filename=None,\n",
    "    aws_profile=aws_profile,\n",
    ")"
   ]
  },
  {
   "cell_type": "markdown",
   "id": "04a6f330",
   "metadata": {
    "ExecuteTime": {
     "end_time": "2023-09-15T18:33:32.249433Z",
     "start_time": "2023-09-15T18:33:32.246378Z"
    }
   },
   "source": [
    "# Demonstration of example usage of stored resampled data\n",
    "\n",
    "Once the data is stored to S3 it can be used for any vairous use-cases. An example is using `HistoricalPqByCurrencyPairTileClient` to load data back from S3 and create a `MarketData` object which can be used for example in simulations or backtests."
   ]
  },
  {
   "cell_type": "markdown",
   "id": "73fbc207",
   "metadata": {},
   "source": [
    "## Add additional import for the use case"
   ]
  },
  {
   "cell_type": "code",
   "execution_count": 4,
   "id": "eff6d528",
   "metadata": {
    "ExecuteTime": {
     "end_time": "2023-09-27T18:47:43.192814Z",
     "start_time": "2023-09-27T18:47:36.797340Z"
    }
   },
   "outputs": [
    {
     "name": "stderr",
     "output_type": "stream",
     "text": [
      "/app/core/statistics/random_samples.py:12: TqdmExperimentalWarning: Using `tqdm.autonotebook.tqdm` in notebook mode. Use `tqdm.tqdm` instead to force console mode (e.g. in jupyter console)\n",
      "  from tqdm.autonotebook import tqdm\n"
     ]
    }
   ],
   "source": [
    "import im_v2.common.data.client.historical_pq_clients as imvcdchpcl\n",
    "import market_data as mdata\n",
    "import core.config as cconfig"
   ]
  },
  {
   "cell_type": "markdown",
   "id": "42c1f09e",
   "metadata": {
    "ExecuteTime": {
     "end_time": "2023-09-27T18:38:53.897808Z",
     "start_time": "2023-09-27T18:38:53.894413Z"
    }
   },
   "source": [
    "## Build Config\n",
    "\n",
    "Config is the standardized way of setting parameters. See more in the documentation"
   ]
  },
  {
   "cell_type": "code",
   "execution_count": 7,
   "id": "72e38a1d",
   "metadata": {
    "ExecuteTime": {
     "end_time": "2023-09-27T18:48:00.136368Z",
     "start_time": "2023-09-27T18:48:00.121552Z"
    }
   },
   "outputs": [
    {
     "name": "stdout",
     "output_type": "stream",
     "text": [
      "start_ts: None\n",
      "end_ts: None\n",
      "wall_clock_time: 2100-01-01 00:00:00+00:00\n",
      "columns: None\n",
      "columns_remap: None\n",
      "ts_col_name: end_ts\n",
      "im_client: \n",
      "  vendor: bloomberg\n",
      "  universe_version: v1\n",
      "  root_dir: s3://cryptokaizen-data-test/v3/bulk\n",
      "  partition_mode: by_year_month\n",
      "  dataset: ohlcv\n",
      "  contract_type: spot\n",
      "  data_snapshot: \n",
      "  download_mode: manual\n",
      "  downloading_entity: \n",
      "  aws_profile: ck\n",
      "  resample_1min: False\n",
      "  version: v1_0_0\n",
      "  tag: resampled_1min\n"
     ]
    }
   ],
   "source": [
    "config = {\n",
    "    \"start_ts\": None,\n",
    "    \"end_ts\": None,\n",
    "    \"wall_clock_time\": pd.Timestamp(\"2100-01-01T00:00:00+00:00\"),\n",
    "    \"columns\": None,\n",
    "    \"columns_remap\": None,\n",
    "    \"ts_col_name\": \"end_ts\",\n",
    "    \"im_client\": {\n",
    "        \"vendor\": \"bloomberg\",\n",
    "        \"universe_version\": \"v1\",\n",
    "        \"root_dir\": \"s3://cryptokaizen-data-test/v3/bulk\",\n",
    "        \"partition_mode\": \"by_year_month\",\n",
    "        \"dataset\": \"ohlcv\",\n",
    "        \"contract_type\": \"spot\",\n",
    "        \"data_snapshot\": \"\",\n",
    "        \"download_mode\": \"manual\",\n",
    "        \"downloading_entity\": \"\",\n",
    "        \"aws_profile\": \"ck\",\n",
    "        \"resample_1min\": False,\n",
    "        \"version\": \"v1_0_0\",\n",
    "        \"tag\": \"resampled_1min\",\n",
    "    },\n",
    "}\n",
    "config = cconfig.Config.from_dict(config)\n",
    "print(config)"
   ]
  },
  {
   "cell_type": "markdown",
   "id": "5c034eb7",
   "metadata": {
    "ExecuteTime": {
     "end_time": "2023-09-27T18:40:29.729237Z",
     "start_time": "2023-09-27T18:40:29.726900Z"
    }
   },
   "source": [
    "## Load data"
   ]
  },
  {
   "cell_type": "markdown",
   "id": "a7691835",
   "metadata": {},
   "source": [
    "Client provides an interface to load data from storage medium. More on clients in the dedicated documentation"
   ]
  },
  {
   "cell_type": "code",
   "execution_count": 8,
   "id": "a958387c",
   "metadata": {
    "ExecuteTime": {
     "end_time": "2023-09-27T18:48:04.516585Z",
     "start_time": "2023-09-27T18:48:04.457478Z"
    }
   },
   "outputs": [],
   "source": [
    "im_client = imvcdchpcl.HistoricalPqByCurrencyPairTileClient(**config[\"im_client\"])"
   ]
  },
  {
   "cell_type": "markdown",
   "id": "4dcf0924",
   "metadata": {},
   "source": [
    "To represent a set of assets which are used for a specific use case (for example set of assets traded with a given model) we use a universe. To find out more, search for \"universe\" documentation."
   ]
  },
  {
   "cell_type": "code",
   "execution_count": 11,
   "id": "93c1e87b",
   "metadata": {
    "ExecuteTime": {
     "end_time": "2023-09-27T18:48:22.861920Z",
     "start_time": "2023-09-27T18:48:22.387644Z"
    }
   },
   "outputs": [
    {
     "data": {
      "text/html": [
       "<div>\n",
       "<style scoped>\n",
       "    .dataframe tbody tr th:only-of-type {\n",
       "        vertical-align: middle;\n",
       "    }\n",
       "\n",
       "    .dataframe tbody tr th {\n",
       "        vertical-align: top;\n",
       "    }\n",
       "\n",
       "    .dataframe thead th {\n",
       "        text-align: right;\n",
       "    }\n",
       "</style>\n",
       "<table border=\"1\" class=\"dataframe\">\n",
       "  <thead>\n",
       "    <tr style=\"text-align: right;\">\n",
       "      <th></th>\n",
       "      <th>full_symbol</th>\n",
       "      <th>open</th>\n",
       "      <th>high</th>\n",
       "      <th>low</th>\n",
       "      <th>close</th>\n",
       "      <th>volume</th>\n",
       "      <th>knowledge_timestamp</th>\n",
       "    </tr>\n",
       "  </thead>\n",
       "  <tbody>\n",
       "    <tr>\n",
       "      <th>2023-08-01 00:01:00+00:00</th>\n",
       "      <td>us_market::MSFT</td>\n",
       "      <td>336.0</td>\n",
       "      <td>336.0</td>\n",
       "      <td>335.6</td>\n",
       "      <td>335.92</td>\n",
       "      <td>0.0</td>\n",
       "      <td>2023-09-26 16:16:04.623076+00:00</td>\n",
       "    </tr>\n",
       "    <tr>\n",
       "      <th>2023-08-01 00:02:00+00:00</th>\n",
       "      <td>us_market::MSFT</td>\n",
       "      <td>NaN</td>\n",
       "      <td>NaN</td>\n",
       "      <td>NaN</td>\n",
       "      <td>NaN</td>\n",
       "      <td>0.0</td>\n",
       "      <td>2023-09-26 16:16:04.623076+00:00</td>\n",
       "    </tr>\n",
       "    <tr>\n",
       "      <th></th>\n",
       "      <td>...</td>\n",
       "      <td>...</td>\n",
       "      <td>...</td>\n",
       "      <td>...</td>\n",
       "      <td>...</td>\n",
       "      <td>...</td>\n",
       "      <td>...</td>\n",
       "    </tr>\n",
       "    <tr>\n",
       "      <th>2023-08-31 23:29:00+00:00</th>\n",
       "      <td>us_market::MSFT</td>\n",
       "      <td>328.1</td>\n",
       "      <td>328.11</td>\n",
       "      <td>328.05</td>\n",
       "      <td>328.11</td>\n",
       "      <td>107.0</td>\n",
       "      <td>2023-09-26 16:16:04.623076+00:00</td>\n",
       "    </tr>\n",
       "    <tr>\n",
       "      <th>2023-08-31 23:30:00+00:00</th>\n",
       "      <td>us_market::MSFT</td>\n",
       "      <td>328.1</td>\n",
       "      <td>328.1</td>\n",
       "      <td>328.1</td>\n",
       "      <td>328.1</td>\n",
       "      <td>8.0</td>\n",
       "      <td>2023-09-26 16:16:04.623076+00:00</td>\n",
       "    </tr>\n",
       "  </tbody>\n",
       "</table>\n",
       "</div>"
      ],
      "text/plain": [
       "                               full_symbol   open    high     low   close volume               knowledge_timestamp\n",
       "2023-08-01 00:01:00+00:00  us_market::MSFT  336.0   336.0   335.6  335.92    0.0  2023-09-26 16:16:04.623076+00:00\n",
       "2023-08-01 00:02:00+00:00  us_market::MSFT    NaN     NaN     NaN     NaN    0.0  2023-09-26 16:16:04.623076+00:00\n",
       "                                       ...    ...     ...     ...     ...    ...                               ...\n",
       "2023-08-31 23:29:00+00:00  us_market::MSFT  328.1  328.11  328.05  328.11  107.0  2023-09-26 16:16:04.623076+00:00\n",
       "2023-08-31 23:30:00+00:00  us_market::MSFT  328.1   328.1   328.1   328.1    8.0  2023-09-26 16:16:04.623076+00:00"
      ]
     },
     "metadata": {},
     "output_type": "display_data"
    }
   ],
   "source": [
    "full_symbols = im_client.get_universe()\n",
    "filter_data_mode = \"assert\"\n",
    "actual_df = im_client.read_data(\n",
    "    full_symbols,\n",
    "    config[\"start_ts\"],\n",
    "    config[\"end_ts\"],\n",
    "    config[\"columns\"],\n",
    "    filter_data_mode,\n",
    ")\n",
    "hpandas.df_to_str(actual_df, num_rows=5, log_level=logging.INFO)"
   ]
  },
  {
   "cell_type": "markdown",
   "id": "340a47da",
   "metadata": {},
   "source": [
    "### Initialize MarketData\n",
    "\n",
    "#TODO(Juraj): The problem I see here is that we have these cryptically sounding powerful functions such as `get_HistoricalImClientMarketData_example1` but it's difficult for a newcomer/client to understand what to do in case the use-case or input arguments are a little bit different"
   ]
  },
  {
   "cell_type": "code",
   "execution_count": 12,
   "id": "f3e7ec5d",
   "metadata": {
    "ExecuteTime": {
     "end_time": "2023-09-27T18:48:28.343990Z",
     "start_time": "2023-09-27T18:48:28.340059Z"
    }
   },
   "outputs": [],
   "source": [
    "asset_ids = im_client.get_asset_ids_from_full_symbols(full_symbols)\n",
    "market_data = mdata.get_HistoricalImClientMarketData_example1(\n",
    "    im_client,\n",
    "    asset_ids,\n",
    "    config[\"columns\"],\n",
    "    config[\"columns_remap\"],\n",
    "    wall_clock_time=config[\"wall_clock_time\"],\n",
    ")"
   ]
  },
  {
   "cell_type": "code",
   "execution_count": 13,
   "id": "d9366dac",
   "metadata": {
    "ExecuteTime": {
     "end_time": "2023-09-27T18:48:29.951202Z",
     "start_time": "2023-09-27T18:48:29.367148Z"
    }
   },
   "outputs": [
    {
     "data": {
      "text/html": [
       "<div>\n",
       "<style scoped>\n",
       "    .dataframe tbody tr th:only-of-type {\n",
       "        vertical-align: middle;\n",
       "    }\n",
       "\n",
       "    .dataframe tbody tr th {\n",
       "        vertical-align: top;\n",
       "    }\n",
       "\n",
       "    .dataframe thead th {\n",
       "        text-align: right;\n",
       "    }\n",
       "</style>\n",
       "<table border=\"1\" class=\"dataframe\">\n",
       "  <thead>\n",
       "    <tr style=\"text-align: right;\">\n",
       "      <th></th>\n",
       "      <th>asset_id</th>\n",
       "      <th>full_symbol</th>\n",
       "      <th>open</th>\n",
       "      <th>high</th>\n",
       "      <th>low</th>\n",
       "      <th>close</th>\n",
       "      <th>volume</th>\n",
       "      <th>knowledge_timestamp</th>\n",
       "      <th>start_ts</th>\n",
       "    </tr>\n",
       "  </thead>\n",
       "  <tbody>\n",
       "    <tr>\n",
       "      <th>2023-07-31 20:01:00-04:00</th>\n",
       "      <td>1343146433</td>\n",
       "      <td>us_market::MSFT</td>\n",
       "      <td>336.0</td>\n",
       "      <td>336.0</td>\n",
       "      <td>335.6</td>\n",
       "      <td>335.92</td>\n",
       "      <td>0.0</td>\n",
       "      <td>2023-09-26 16:16:04.623076+00:00</td>\n",
       "      <td>2023-07-31 20:00:00-04:00</td>\n",
       "    </tr>\n",
       "    <tr>\n",
       "      <th>2023-07-31 20:02:00-04:00</th>\n",
       "      <td>1343146433</td>\n",
       "      <td>us_market::MSFT</td>\n",
       "      <td>NaN</td>\n",
       "      <td>NaN</td>\n",
       "      <td>NaN</td>\n",
       "      <td>NaN</td>\n",
       "      <td>0.0</td>\n",
       "      <td>2023-09-26 16:16:04.623076+00:00</td>\n",
       "      <td>2023-07-31 20:01:00-04:00</td>\n",
       "    </tr>\n",
       "    <tr>\n",
       "      <th></th>\n",
       "      <td>...</td>\n",
       "      <td>...</td>\n",
       "      <td>...</td>\n",
       "      <td>...</td>\n",
       "      <td>...</td>\n",
       "      <td>...</td>\n",
       "      <td>...</td>\n",
       "      <td>...</td>\n",
       "      <td>...</td>\n",
       "    </tr>\n",
       "    <tr>\n",
       "      <th>2023-08-31 19:29:00-04:00</th>\n",
       "      <td>1343146433</td>\n",
       "      <td>us_market::MSFT</td>\n",
       "      <td>328.1</td>\n",
       "      <td>328.11</td>\n",
       "      <td>328.05</td>\n",
       "      <td>328.11</td>\n",
       "      <td>107.0</td>\n",
       "      <td>2023-09-26 16:16:04.623076+00:00</td>\n",
       "      <td>2023-08-31 19:28:00-04:00</td>\n",
       "    </tr>\n",
       "    <tr>\n",
       "      <th>2023-08-31 19:30:00-04:00</th>\n",
       "      <td>1343146433</td>\n",
       "      <td>us_market::MSFT</td>\n",
       "      <td>328.1</td>\n",
       "      <td>328.1</td>\n",
       "      <td>328.1</td>\n",
       "      <td>328.1</td>\n",
       "      <td>8.0</td>\n",
       "      <td>2023-09-26 16:16:04.623076+00:00</td>\n",
       "      <td>2023-08-31 19:29:00-04:00</td>\n",
       "    </tr>\n",
       "  </tbody>\n",
       "</table>\n",
       "</div>"
      ],
      "text/plain": [
       "                             asset_id      full_symbol   open    high     low   close volume               knowledge_timestamp                   start_ts\n",
       "2023-07-31 20:01:00-04:00  1343146433  us_market::MSFT  336.0   336.0   335.6  335.92    0.0  2023-09-26 16:16:04.623076+00:00  2023-07-31 20:00:00-04:00\n",
       "2023-07-31 20:02:00-04:00  1343146433  us_market::MSFT    NaN     NaN     NaN     NaN    0.0  2023-09-26 16:16:04.623076+00:00  2023-07-31 20:01:00-04:00\n",
       "                                  ...              ...    ...     ...     ...     ...    ...                               ...                        ...\n",
       "2023-08-31 19:29:00-04:00  1343146433  us_market::MSFT  328.1  328.11  328.05  328.11  107.0  2023-09-26 16:16:04.623076+00:00  2023-08-31 19:28:00-04:00\n",
       "2023-08-31 19:30:00-04:00  1343146433  us_market::MSFT  328.1   328.1   328.1   328.1    8.0  2023-09-26 16:16:04.623076+00:00  2023-08-31 19:29:00-04:00"
      ]
     },
     "metadata": {},
     "output_type": "display_data"
    }
   ],
   "source": [
    "asset_ids = None\n",
    "market_data_df = market_data.get_data_for_interval(\n",
    "    config[\"start_ts\"], config[\"end_ts\"], config[\"ts_col_name\"], asset_ids\n",
    ")\n",
    "hpandas.df_to_str(market_data_df, num_rows=5, log_level=logging.INFO)"
   ]
  },
  {
   "cell_type": "code",
   "execution_count": null,
   "id": "99fb624b",
   "metadata": {},
   "outputs": [],
   "source": []
  }
 ],
 "metadata": {
  "kernelspec": {
   "display_name": "Python 3 (ipykernel)",
   "language": "python",
   "name": "python3"
  },
  "language_info": {
   "codemirror_mode": {
    "name": "ipython",
    "version": 3
   },
   "file_extension": ".py",
   "mimetype": "text/x-python",
   "name": "python",
   "nbconvert_exporter": "python",
   "pygments_lexer": "ipython3",
   "version": "3.8.10"
  },
  "toc": {
   "base_numbering": 1,
   "nav_menu": {},
   "number_sections": true,
   "sideBar": true,
   "skip_h1_title": false,
   "title_cell": "Table of Contents",
   "title_sidebar": "Contents",
   "toc_cell": false,
   "toc_position": {},
   "toc_section_display": true,
   "toc_window_display": false
  }
 },
 "nbformat": 4,
 "nbformat_minor": 5
}
