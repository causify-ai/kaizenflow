{
 "cells": [
  {
   "cell_type": "markdown",
   "id": "25cdcd94",
   "metadata": {
    "ExecuteTime": {
     "end_time": "2023-11-16T22:05:25.195080Z",
     "start_time": "2023-11-16T22:05:15.516161Z"
    }
   },
   "source": [
    "# Description"
   ]
  },
  {
   "cell_type": "markdown",
   "id": "367f777d",
   "metadata": {},
   "source": [
    "The notebook builds a DAG with a simple risk model and runs it in the historical mode."
   ]
  },
  {
   "cell_type": "markdown",
   "id": "e2d36ec2",
   "metadata": {},
   "source": [
    "# Imports"
   ]
  },
  {
   "cell_type": "code",
   "execution_count": 1,
   "id": "bf5d00b4",
   "metadata": {
    "ExecuteTime": {
     "end_time": "2023-11-23T09:51:15.147929Z",
     "start_time": "2023-11-23T09:51:05.508255Z"
    }
   },
   "outputs": [
    {
     "name": "stderr",
     "output_type": "stream",
     "text": [
      "\u001b[33mWARNING\u001b[0m: No module named 'gluonts'\n",
      "/app/amp/core/signal_processing/decorrelation.py:12: TqdmExperimentalWarning: Using `tqdm.autonotebook.tqdm` in notebook mode. Use `tqdm.tqdm` instead to force console mode (e.g. in jupyter console)\n",
      "  from tqdm.autonotebook import tqdm\n",
      "\u001b[33mWARNING\u001b[0m: No module named 'gluonts'\n"
     ]
    }
   ],
   "source": [
    "import logging\n",
    "\n",
    "import numpy as np\n",
    "import pandas as pd\n",
    "import sklearn.linear_model as slmode\n",
    "\n",
    "import core.config as cconfig\n",
    "import core.features as cofeatur\n",
    "import core.signal_processing as csigproc\n",
    "import dataflow.core as dtfcore\n",
    "import helpers.hdbg as hdbg\n",
    "import helpers.hprint as hprint"
   ]
  },
  {
   "cell_type": "code",
   "execution_count": 2,
   "id": "ae6871c7",
   "metadata": {
    "ExecuteTime": {
     "end_time": "2023-11-23T09:51:15.180006Z",
     "start_time": "2023-11-23T09:51:15.151225Z"
    }
   },
   "outputs": [
    {
     "name": "stdout",
     "output_type": "stream",
     "text": [
      "\u001b[0m\u001b[36mINFO\u001b[0m: > cmd='/venv/lib/python3.9/site-packages/ipykernel_launcher.py -f /home/.local/share/jupyter/runtime/kernel-079ac10b-29c4-4fa7-91cc-f5778a9ca42e.json'\n",
      "WARNING: Running in Jupyter\n"
     ]
    }
   ],
   "source": [
    "hdbg.init_logger(verbosity=logging.INFO)\n",
    "\n",
    "_LOG = logging.getLogger(__name__)\n",
    "\n",
    "hprint.config_notebook()"
   ]
  },
  {
   "cell_type": "markdown",
   "id": "1775e670",
   "metadata": {},
   "source": [
    "# Model configuration"
   ]
  },
  {
   "cell_type": "markdown",
   "id": "2fba2f03",
   "metadata": {},
   "source": [
    "Build a `DagBuilder` object that defines a model's configuration\n",
    "- `get_config_template()`: creates a configuration for each DAG Node\n",
    "- `_get_dag()`: specifies all the DAG Nodes and builds a DAG using these Nodes"
   ]
  },
  {
   "cell_type": "code",
   "execution_count": 3,
   "id": "bbb19c82",
   "metadata": {
    "ExecuteTime": {
     "end_time": "2023-11-23T09:51:15.199769Z",
     "start_time": "2023-11-23T09:51:15.182927Z"
    }
   },
   "outputs": [],
   "source": [
    "class SimpleRiskModel_DagBuilder(dtfcore.DagBuilder):\n",
    "    \"\"\"\n",
    "    A pipeline similar to real feature processing.\n",
    "    \"\"\"\n",
    "\n",
    "    @staticmethod\n",
    "    def get_column_name(tag: str) -> str:\n",
    "        \"\"\"\n",
    "        See description in the parent class.\n",
    "        \"\"\"\n",
    "        raise NotImplementedError\n",
    "\n",
    "    def get_trading_period(\n",
    "        self, config: cconfig.Config, mark_key_as_used: bool\n",
    "    ) -> str:\n",
    "        \"\"\"\n",
    "        See description in the parent class.\n",
    "        \"\"\"\n",
    "        _ = self\n",
    "        raise NotImplementedError\n",
    "\n",
    "    def get_required_lookback_in_effective_days(\n",
    "        self, config: cconfig.Config, mark_key_as_used: bool\n",
    "    ) -> str:\n",
    "        \"\"\"\n",
    "        See description in the parent class.\n",
    "        \"\"\"\n",
    "        raise NotImplementedError\n",
    "\n",
    "    def set_weights(\n",
    "        self, config: cconfig.Config, weights: pd.Series\n",
    "    ) -> cconfig.Config:\n",
    "        \"\"\"\n",
    "        See description in the parent class.\n",
    "        \"\"\"\n",
    "        raise NotImplementedError\n",
    "\n",
    "    def convert_to_fast_prod_setup(\n",
    "        self, config: cconfig.Config\n",
    "    ) -> cconfig.Config:\n",
    "        \"\"\"\n",
    "        See description in the parent class.\n",
    "        \"\"\"\n",
    "        raise NotImplementedError\n",
    "\n",
    "    def get_config_template(self) -> cconfig.Config:\n",
    "        \"\"\"\n",
    "        Return a config template compatible with `self.get_dag()`.\n",
    "        \"\"\"\n",
    "        # Set input and output column names that will be passed to the node.\n",
    "        columns = [\"ret_0\", \"x_1\", \"x_2\"]\n",
    "        # X vars stands for the input features column names.\n",
    "        x_vars = [x for x in columns if x != \"ret_0\"]\n",
    "        # Y vars stands for the output column name.\n",
    "        y_vars = [\"ret_0\"]\n",
    "        dict_ = {\n",
    "            self._get_nid(\"sklearn\"): {\n",
    "                \"in_col_groups\": [(x,) for x in columns],\n",
    "                \"out_col_group\": (),\n",
    "                \"x_vars\": x_vars,\n",
    "                \"y_vars\": y_vars,\n",
    "                \"steps_ahead\": 1,\n",
    "                \"model_kwargs\": {\n",
    "                    \"fit_intercept\": False,\n",
    "                },\n",
    "                \"nan_mode\": \"drop\",\n",
    "            },\n",
    "            self._get_nid(\"residualize\"): {\n",
    "                \"in_col_groups\": [\n",
    "                    (\"ret_0.shift_-1\",),\n",
    "                    (\"ret_0.shift_-1_hat\",),\n",
    "                ],\n",
    "                \"out_col_group\": (),\n",
    "                \"transformer_kwargs\": {\n",
    "                    \"term1_col\": \"ret_0.shift_-1\",\n",
    "                    \"term2_col\": \"ret_0.shift_-1_hat\",\n",
    "                    \"out_col\": \"residual.shift_-1\",\n",
    "                    \"operation\": \"sub\",\n",
    "                },\n",
    "            },\n",
    "            self._get_nid(\"compute_rolling_norm\"): {\n",
    "                \"in_col_group\": (\"residual.shift_-1\",),\n",
    "                \"out_col_group\": (\"smoothed_squared_residual.shift_-1\",),\n",
    "                \"transformer_kwargs\": {\n",
    "                    \"tau\": 10,\n",
    "                },\n",
    "            },\n",
    "        }\n",
    "        config = cconfig.Config.from_dict(dict_)\n",
    "        return config\n",
    "\n",
    "    def _get_dag(\n",
    "        self,\n",
    "        config: cconfig.Config,\n",
    "        *,\n",
    "        mode: str = \"strict\",\n",
    "    ) -> dtfcore.DAG:\n",
    "        \"\"\"\n",
    "        Build DAG given a `config`.\n",
    "\n",
    "        :param config: DAG configuration\n",
    "        :return: resulting `DAG` that is built from an input config\n",
    "        \"\"\"\n",
    "        dag = dtfcore.DAG(mode=mode)\n",
    "        _LOG.debug(\"%s\", config)\n",
    "        #\n",
    "        stage = \"sklearn\"\n",
    "        nid = self._get_nid(stage)\n",
    "        node = dtfcore.MultiindexSkLearnModel(\n",
    "            nid,\n",
    "            model_func=slmode.LinearRegression,\n",
    "            **config[nid].to_dict(),\n",
    "        )\n",
    "        dag.append_to_tail(node)\n",
    "        #\n",
    "        stage = \"residualize\"\n",
    "        nid = self._get_nid(stage)\n",
    "        node = dtfcore.GroupedColDfToDfTransformer(\n",
    "            nid,\n",
    "            transformer_func=cofeatur.combine_columns,\n",
    "            **config[nid].to_dict(),\n",
    "        )\n",
    "        dag.append_to_tail(node)\n",
    "        #\n",
    "        stage = \"compute_rolling_norm\"\n",
    "        nid = self._get_nid(stage)\n",
    "        node = dtfcore.SeriesToSeriesTransformer(\n",
    "            nid,\n",
    "            transformer_func=csigproc.compute_rolling_norm,\n",
    "            **config[nid].to_dict(),\n",
    "        )\n",
    "        dag.append_to_tail(node)\n",
    "        #\n",
    "        return dag"
   ]
  },
  {
   "cell_type": "markdown",
   "id": "c11fc92d",
   "metadata": {},
   "source": [
    "# Build a DAG"
   ]
  },
  {
   "cell_type": "code",
   "execution_count": 4,
   "id": "3c4dc9a2",
   "metadata": {
    "ExecuteTime": {
     "end_time": "2023-11-23T09:51:15.227560Z",
     "start_time": "2023-11-23T09:51:15.201861Z"
    }
   },
   "outputs": [
    {
     "name": "stdout",
     "output_type": "stream",
     "text": [
      "sklearn: \n",
      "  in_col_groups: [('ret_0',), ('x_1',), ('x_2',)]\n",
      "  out_col_group: ()\n",
      "  x_vars: ['x_1', 'x_2']\n",
      "  y_vars: ['ret_0']\n",
      "  steps_ahead: 1\n",
      "  model_kwargs: \n",
      "    fit_intercept: False\n",
      "  nan_mode: drop\n",
      "residualize: \n",
      "  in_col_groups: [('ret_0.shift_-1',), ('ret_0.shift_-1_hat',)]\n",
      "  out_col_group: ()\n",
      "  transformer_kwargs: \n",
      "    term1_col: ret_0.shift_-1\n",
      "    term2_col: ret_0.shift_-1_hat\n",
      "    out_col: residual.shift_-1\n",
      "    operation: sub\n",
      "compute_rolling_norm: \n",
      "  in_col_group: ('residual.shift_-1',)\n",
      "  out_col_group: ('smoothed_squared_residual.shift_-1',)\n",
      "  transformer_kwargs: \n",
      "    tau: 10\n"
     ]
    }
   ],
   "source": [
    "dag_builder = SimpleRiskModel_DagBuilder()\n",
    "dag_config = dag_builder.get_config_template()\n",
    "print(dag_config)"
   ]
  },
  {
   "cell_type": "code",
   "execution_count": 5,
   "id": "4b99de41",
   "metadata": {
    "ExecuteTime": {
     "end_time": "2023-11-23T09:51:15.269765Z",
     "start_time": "2023-11-23T09:51:15.231197Z"
    }
   },
   "outputs": [
    {
     "data": {
      "image/png": "[encoded data removed]",
      "text/plain": [
       "<IPython.core.display.Image object>"
      ]
     },
     "execution_count": 5,
     "metadata": {},
     "output_type": "execute_result"
    }
   ],
   "source": [
    "dag = dag_builder.get_dag(dag_config)\n",
    "dtfcore.draw(dag)"
   ]
  },
  {
   "cell_type": "markdown",
   "id": "27ce7a26",
   "metadata": {},
   "source": [
    "# Generate data and connect data source to the DAG"
   ]
  },
  {
   "cell_type": "code",
   "execution_count": 6,
   "id": "2bc4d5fd",
   "metadata": {
    "ExecuteTime": {
     "end_time": "2023-11-23T09:51:15.321199Z",
     "start_time": "2023-11-23T09:51:15.274233Z"
    }
   },
   "outputs": [
    {
     "data": {
      "text/html": [
       "<div>\n",
       "<style scoped>\n",
       "    .dataframe tbody tr th:only-of-type {\n",
       "        vertical-align: middle;\n",
       "    }\n",
       "\n",
       "    .dataframe tbody tr th {\n",
       "        vertical-align: top;\n",
       "    }\n",
       "\n",
       "    .dataframe thead tr th {\n",
       "        text-align: left;\n",
       "    }\n",
       "</style>\n",
       "<table border=\"1\" class=\"dataframe\">\n",
       "  <thead>\n",
       "    <tr>\n",
       "      <th></th>\n",
       "      <th colspan=\"4\" halign=\"left\">ret_0</th>\n",
       "      <th colspan=\"4\" halign=\"left\">x_1</th>\n",
       "      <th colspan=\"4\" halign=\"left\">x_2</th>\n",
       "    </tr>\n",
       "    <tr>\n",
       "      <th></th>\n",
       "      <th>100</th>\n",
       "      <th>101</th>\n",
       "      <th>102</th>\n",
       "      <th>103</th>\n",
       "      <th>100</th>\n",
       "      <th>101</th>\n",
       "      <th>102</th>\n",
       "      <th>103</th>\n",
       "      <th>100</th>\n",
       "      <th>101</th>\n",
       "      <th>102</th>\n",
       "      <th>103</th>\n",
       "    </tr>\n",
       "  </thead>\n",
       "  <tbody>\n",
       "    <tr>\n",
       "      <th>2023-05-01</th>\n",
       "      <td>0.330437</td>\n",
       "      <td>-0.377605</td>\n",
       "      <td>-0.982188</td>\n",
       "      <td>-0.094828</td>\n",
       "      <td>0.345584</td>\n",
       "      <td>2.117839</td>\n",
       "      <td>0.054102</td>\n",
       "      <td>0.876242</td>\n",
       "      <td>0.821618</td>\n",
       "      <td>-1.112021</td>\n",
       "      <td>0.272791</td>\n",
       "      <td>0.256486</td>\n",
       "    </tr>\n",
       "    <tr>\n",
       "      <th>2023-05-02</th>\n",
       "      <td>0.446375</td>\n",
       "      <td>0.663063</td>\n",
       "      <td>-0.466750</td>\n",
       "      <td>-2.250854</td>\n",
       "      <td>-1.303157</td>\n",
       "      <td>2.042772</td>\n",
       "      <td>-1.107373</td>\n",
       "      <td>-0.258848</td>\n",
       "      <td>0.905356</td>\n",
       "      <td>0.646703</td>\n",
       "      <td>0.199585</td>\n",
       "      <td>1.055743</td>\n",
       "    </tr>\n",
       "    <tr>\n",
       "      <th>2023-05-03</th>\n",
       "      <td>0.364572</td>\n",
       "      <td>0.167465</td>\n",
       "      <td>-1.648787</td>\n",
       "      <td>-1.425349</td>\n",
       "      <td>-0.536953</td>\n",
       "      <td>-0.514006</td>\n",
       "      <td>0.235506</td>\n",
       "      <td>-0.138655</td>\n",
       "      <td>0.581118</td>\n",
       "      <td>-1.648075</td>\n",
       "      <td>0.759520</td>\n",
       "      <td>0.033000</td>\n",
       "    </tr>\n",
       "    <tr>\n",
       "      <th>2023-05-04</th>\n",
       "      <td>0.546713</td>\n",
       "      <td>-0.683227</td>\n",
       "      <td>-0.297527</td>\n",
       "      <td>0.862445</td>\n",
       "      <td>0.294132</td>\n",
       "      <td>0.109014</td>\n",
       "      <td>0.254388</td>\n",
       "      <td>0.332814</td>\n",
       "      <td>0.028422</td>\n",
       "      <td>-1.227352</td>\n",
       "      <td>1.224647</td>\n",
       "      <td>-0.651281</td>\n",
       "    </tr>\n",
       "    <tr>\n",
       "      <th>2023-05-05</th>\n",
       "      <td>-0.482119</td>\n",
       "      <td>-0.098270</td>\n",
       "      <td>0.253447</td>\n",
       "      <td>1.218844</td>\n",
       "      <td>-0.736454</td>\n",
       "      <td>-0.072044</td>\n",
       "      <td>-0.810815</td>\n",
       "      <td>-0.125592</td>\n",
       "      <td>-0.162910</td>\n",
       "      <td>-0.944752</td>\n",
       "      <td>0.752244</td>\n",
       "      <td>0.669153</td>\n",
       "    </tr>\n",
       "  </tbody>\n",
       "</table>\n",
       "</div>"
      ],
      "text/plain": [
       "               ret_0                                     x_1                                     x_2                              \n",
       "                 100       101       102       103       100       101       102       103       100       101       102       103\n",
       "2023-05-01  0.330437 -0.377605 -0.982188 -0.094828  0.345584  2.117839  0.054102  0.876242  0.821618 -1.112021  0.272791  0.256486\n",
       "2023-05-02  0.446375  0.663063 -0.466750 -2.250854 -1.303157  2.042772 -1.107373 -0.258848  0.905356  0.646703  0.199585  1.055743\n",
       "2023-05-03  0.364572  0.167465 -1.648787 -1.425349 -0.536953 -0.514006  0.235506 -0.138655  0.581118 -1.648075  0.759520  0.033000\n",
       "2023-05-04  0.546713 -0.683227 -0.297527  0.862445  0.294132  0.109014  0.254388  0.332814  0.028422 -1.227352  1.224647 -0.651281\n",
       "2023-05-05 -0.482119 -0.098270  0.253447  1.218844 -0.736454 -0.072044 -0.810815 -0.125592 -0.162910 -0.944752  0.752244  0.669153"
      ]
     },
     "metadata": {},
     "output_type": "display_data"
    }
   ],
   "source": [
    "n_assets = 4\n",
    "n_features = 2\n",
    "n_periods = 10\n",
    "freq = \"B\"\n",
    "period_start = \"2023-05-01\"\n",
    "rng_seed = 1\n",
    "\n",
    "\n",
    "def get_random_data(\n",
    "    n_assets: int,\n",
    "    n_features: int,\n",
    "    n_periods: int,\n",
    "    period_start: str,\n",
    "    freq: str,\n",
    "    seed: int,\n",
    ") -> pd.DataFrame():\n",
    "    \"\"\"\n",
    "    Generate a dataframe of random returns and random features.\n",
    "    \"\"\"\n",
    "    # Create datetime index for dataframe.\n",
    "    idx = pd.date_range(start=period_start, periods=n_periods, freq=freq)\n",
    "    # Create columns names for the X matrix.\n",
    "    cols = [f\"x_{k}\" for k in range(1, n_features + 1)]\n",
    "    cols = cols + [\"ret_0\"]\n",
    "    # Instantiate random number generator.\n",
    "    rng = np.random.default_rng(rng_seed)\n",
    "    dfs = {}\n",
    "    for n in range(n_assets):\n",
    "        asset_id = 100 + n\n",
    "        dfs[asset_id] = pd.DataFrame(\n",
    "            rng.standard_normal((n_periods, n_features + 1)), idx, cols\n",
    "        )\n",
    "    df = pd.concat(dfs, axis=1).swaplevel(axis=1).sort_index(axis=1)\n",
    "    return df\n",
    "\n",
    "\n",
    "data = get_random_data(\n",
    "    n_assets, n_features, n_periods, period_start, freq, rng_seed\n",
    ")\n",
    "display(data.head())"
   ]
  },
  {
   "cell_type": "markdown",
   "id": "69580181",
   "metadata": {},
   "source": [
    "Wrap the data into a `DfDataSource` that serves as a DAG source Node."
   ]
  },
  {
   "cell_type": "code",
   "execution_count": 7,
   "id": "26a67f68",
   "metadata": {
    "ExecuteTime": {
     "end_time": "2023-11-23T09:51:15.351396Z",
     "start_time": "2023-11-23T09:51:15.323420Z"
    }
   },
   "outputs": [
    {
     "data": {
      "image/png": "[encoded data removed]",
      "text/plain": [
       "<IPython.core.display.Image object>"
      ]
     },
     "execution_count": 7,
     "metadata": {},
     "output_type": "execute_result"
    }
   ],
   "source": [
    "node = dtfcore.DfDataSource(\"data\", data)\n",
    "dag.insert_at_head(node)\n",
    "dtfcore.draw(dag)"
   ]
  },
  {
   "cell_type": "markdown",
   "id": "088ed6b0",
   "metadata": {},
   "source": [
    "# Run the DAG"
   ]
  },
  {
   "cell_type": "code",
   "execution_count": 8,
   "id": "e31afb69",
   "metadata": {
    "ExecuteTime": {
     "end_time": "2023-11-23T09:51:15.589082Z",
     "start_time": "2023-11-23T09:51:15.353567Z"
    }
   },
   "outputs": [
    {
     "data": {
      "application/vnd.jupyter.widget-view+json": {
       "model_id": "2b6818c891474f258b34a7bcb04d34bd",
       "version_major": 2,
       "version_minor": 0
      },
      "text/plain": [
       "run_leq_node:   0%|          | 0/4 [00:00<?, ?it/s]"
      ]
     },
     "metadata": {},
     "output_type": "display_data"
    },
    {
     "name": "stderr",
     "output_type": "stream",
     "text": [
      "/app/amp/helpers/hdbg.py:292: PerformanceWarning: indexing past lexsort depth may impact performance.\n",
      "  cond = value in valid_values\n",
      "/app/amp/core/signal_processing/ema_smoothing.py:65: FutureWarning: The 'axis' keyword in Series.ewm is deprecated and will be removed in a future version. Call the method without the axis keyword instead.\n",
      "  signal_hat = signal_hat.ewm(\n"
     ]
    },
    {
     "data": {
      "text/html": [
       "<div>\n",
       "<style scoped>\n",
       "    .dataframe tbody tr th:only-of-type {\n",
       "        vertical-align: middle;\n",
       "    }\n",
       "\n",
       "    .dataframe tbody tr th {\n",
       "        vertical-align: top;\n",
       "    }\n",
       "\n",
       "    .dataframe thead tr th {\n",
       "        text-align: left;\n",
       "    }\n",
       "</style>\n",
       "<table border=\"1\" class=\"dataframe\">\n",
       "  <thead>\n",
       "    <tr>\n",
       "      <th></th>\n",
       "      <th colspan=\"4\" halign=\"left\">smoothed_squared_residual.shift_-1</th>\n",
       "      <th colspan=\"4\" halign=\"left\">residual.shift_-1</th>\n",
       "      <th colspan=\"4\" halign=\"left\">ret_0.shift_-1</th>\n",
       "      <th colspan=\"4\" halign=\"left\">ret_0.shift_-1_hat</th>\n",
       "      <th colspan=\"4\" halign=\"left\">ret_0</th>\n",
       "      <th colspan=\"4\" halign=\"left\">x_1</th>\n",
       "      <th colspan=\"4\" halign=\"left\">x_2</th>\n",
       "    </tr>\n",
       "    <tr>\n",
       "      <th></th>\n",
       "      <th>100</th>\n",
       "      <th>101</th>\n",
       "      <th>102</th>\n",
       "      <th>103</th>\n",
       "      <th>100</th>\n",
       "      <th>101</th>\n",
       "      <th>102</th>\n",
       "      <th>103</th>\n",
       "      <th>100</th>\n",
       "      <th>101</th>\n",
       "      <th>102</th>\n",
       "      <th>103</th>\n",
       "      <th>100</th>\n",
       "      <th>101</th>\n",
       "      <th>102</th>\n",
       "      <th>103</th>\n",
       "      <th>100</th>\n",
       "      <th>101</th>\n",
       "      <th>102</th>\n",
       "      <th>103</th>\n",
       "      <th>100</th>\n",
       "      <th>101</th>\n",
       "      <th>102</th>\n",
       "      <th>103</th>\n",
       "      <th>100</th>\n",
       "      <th>101</th>\n",
       "      <th>102</th>\n",
       "      <th>103</th>\n",
       "    </tr>\n",
       "  </thead>\n",
       "  <tbody>\n",
       "    <tr>\n",
       "      <th>2023-05-01</th>\n",
       "      <td>0.406651</td>\n",
       "      <td>0.666367</td>\n",
       "      <td>0.549490</td>\n",
       "      <td>1.721813</td>\n",
       "      <td>0.406651</td>\n",
       "      <td>0.666367</td>\n",
       "      <td>-0.549490</td>\n",
       "      <td>-1.721813</td>\n",
       "      <td>0.446375</td>\n",
       "      <td>0.663063</td>\n",
       "      <td>-0.466750</td>\n",
       "      <td>-2.250854</td>\n",
       "      <td>0.039724</td>\n",
       "      <td>-0.003303</td>\n",
       "      <td>0.082740</td>\n",
       "      <td>-0.529041</td>\n",
       "      <td>0.330437</td>\n",
       "      <td>-0.377605</td>\n",
       "      <td>-0.982188</td>\n",
       "      <td>-0.094828</td>\n",
       "      <td>0.345584</td>\n",
       "      <td>2.117839</td>\n",
       "      <td>0.054102</td>\n",
       "      <td>0.876242</td>\n",
       "      <td>0.821618</td>\n",
       "      <td>-1.112021</td>\n",
       "      <td>0.272791</td>\n",
       "      <td>0.256486</td>\n",
       "    </tr>\n",
       "    <tr>\n",
       "      <th>2023-05-02</th>\n",
       "      <td>0.282050</td>\n",
       "      <td>0.474125</td>\n",
       "      <td>0.479592</td>\n",
       "      <td>1.197966</td>\n",
       "      <td>-0.043662</td>\n",
       "      <td>-0.162506</td>\n",
       "      <td>-0.406108</td>\n",
       "      <td>-0.226181</td>\n",
       "      <td>0.364572</td>\n",
       "      <td>0.167465</td>\n",
       "      <td>-1.648787</td>\n",
       "      <td>-1.425349</td>\n",
       "      <td>0.408234</td>\n",
       "      <td>0.329971</td>\n",
       "      <td>-1.242679</td>\n",
       "      <td>-1.199168</td>\n",
       "      <td>0.446375</td>\n",
       "      <td>0.663063</td>\n",
       "      <td>-0.466750</td>\n",
       "      <td>-2.250854</td>\n",
       "      <td>-1.303157</td>\n",
       "      <td>2.042772</td>\n",
       "      <td>-1.107373</td>\n",
       "      <td>-0.258848</td>\n",
       "      <td>0.905356</td>\n",
       "      <td>0.646703</td>\n",
       "      <td>0.199585</td>\n",
       "      <td>1.055743</td>\n",
       "    </tr>\n",
       "    <tr>\n",
       "      <th>2023-05-03</th>\n",
       "      <td>0.308534</td>\n",
       "      <td>0.422001</td>\n",
       "      <td>0.537284</td>\n",
       "      <td>1.088170</td>\n",
       "      <td>0.349502</td>\n",
       "      <td>-0.312376</td>\n",
       "      <td>-0.624330</td>\n",
       "      <td>0.866880</td>\n",
       "      <td>0.546713</td>\n",
       "      <td>-0.683227</td>\n",
       "      <td>-0.297527</td>\n",
       "      <td>0.862445</td>\n",
       "      <td>0.197211</td>\n",
       "      <td>-0.370850</td>\n",
       "      <td>0.326803</td>\n",
       "      <td>-0.004435</td>\n",
       "      <td>0.364572</td>\n",
       "      <td>0.167465</td>\n",
       "      <td>-1.648787</td>\n",
       "      <td>-1.425349</td>\n",
       "      <td>-0.536953</td>\n",
       "      <td>-0.514006</td>\n",
       "      <td>0.235506</td>\n",
       "      <td>-0.138655</td>\n",
       "      <td>0.581118</td>\n",
       "      <td>-1.648075</td>\n",
       "      <td>0.759520</td>\n",
       "      <td>0.033000</td>\n",
       "    </tr>\n",
       "    <tr>\n",
       "      <th>2023-05-04</th>\n",
       "      <td>0.345286</td>\n",
       "      <td>0.362570</td>\n",
       "      <td>0.458593</td>\n",
       "      <td>0.959814</td>\n",
       "      <td>-0.422422</td>\n",
       "      <td>0.128637</td>\n",
       "      <td>-0.131074</td>\n",
       "      <td>0.522907</td>\n",
       "      <td>-0.482119</td>\n",
       "      <td>-0.098270</td>\n",
       "      <td>0.253447</td>\n",
       "      <td>1.218844</td>\n",
       "      <td>-0.059698</td>\n",
       "      <td>-0.226907</td>\n",
       "      <td>0.384520</td>\n",
       "      <td>0.695936</td>\n",
       "      <td>0.546713</td>\n",
       "      <td>-0.683227</td>\n",
       "      <td>-0.297527</td>\n",
       "      <td>0.862445</td>\n",
       "      <td>0.294132</td>\n",
       "      <td>0.109014</td>\n",
       "      <td>0.254388</td>\n",
       "      <td>0.332814</td>\n",
       "      <td>0.028422</td>\n",
       "      <td>-1.227352</td>\n",
       "      <td>1.224647</td>\n",
       "      <td>-0.651281</td>\n",
       "    </tr>\n",
       "    <tr>\n",
       "      <th>2023-05-05</th>\n",
       "      <td>0.367326</td>\n",
       "      <td>0.351874</td>\n",
       "      <td>0.502164</td>\n",
       "      <td>0.912414</td>\n",
       "      <td>-0.429141</td>\n",
       "      <td>-0.316006</td>\n",
       "      <td>-0.619186</td>\n",
       "      <td>-0.744521</td>\n",
       "      <td>-0.292457</td>\n",
       "      <td>-0.506292</td>\n",
       "      <td>-1.481818</td>\n",
       "      <td>-1.514319</td>\n",
       "      <td>0.136685</td>\n",
       "      <td>-0.190286</td>\n",
       "      <td>-0.862632</td>\n",
       "      <td>-0.769797</td>\n",
       "      <td>-0.482119</td>\n",
       "      <td>-0.098270</td>\n",
       "      <td>0.253447</td>\n",
       "      <td>1.218844</td>\n",
       "      <td>-0.736454</td>\n",
       "      <td>-0.072044</td>\n",
       "      <td>-0.810815</td>\n",
       "      <td>-0.125592</td>\n",
       "      <td>-0.162910</td>\n",
       "      <td>-0.944752</td>\n",
       "      <td>0.752244</td>\n",
       "      <td>0.669153</td>\n",
       "    </tr>\n",
       "  </tbody>\n",
       "</table>\n",
       "</div>"
      ],
      "text/plain": [
       "           smoothed_squared_residual.shift_-1                               residual.shift_-1                               ret_0.shift_-1                               ret_0.shift_-1_hat                                   ret_0                                     x_1                                     x_2                              \n",
       "                                          100       101       102       103               100       101       102       103            100       101       102       103                100       101       102       103       100       101       102       103       100       101       102       103       100       101       102       103\n",
       "2023-05-01                           0.406651  0.666367  0.549490  1.721813          0.406651  0.666367 -0.549490 -1.721813       0.446375  0.663063 -0.466750 -2.250854           0.039724 -0.003303  0.082740 -0.529041  0.330437 -0.377605 -0.982188 -0.094828  0.345584  2.117839  0.054102  0.876242  0.821618 -1.112021  0.272791  0.256486\n",
       "2023-05-02                           0.282050  0.474125  0.479592  1.197966         -0.043662 -0.162506 -0.406108 -0.226181       0.364572  0.167465 -1.648787 -1.425349           0.408234  0.329971 -1.242679 -1.199168  0.446375  0.663063 -0.466750 -2.250854 -1.303157  2.042772 -1.107373 -0.258848  0.905356  0.646703  0.199585  1.055743\n",
       "2023-05-03                           0.308534  0.422001  0.537284  1.088170          0.349502 -0.312376 -0.624330  0.866880       0.546713 -0.683227 -0.297527  0.862445           0.197211 -0.370850  0.326803 -0.004435  0.364572  0.167465 -1.648787 -1.425349 -0.536953 -0.514006  0.235506 -0.138655  0.581118 -1.648075  0.759520  0.033000\n",
       "2023-05-04                           0.345286  0.362570  0.458593  0.959814         -0.422422  0.128637 -0.131074  0.522907      -0.482119 -0.098270  0.253447  1.218844          -0.059698 -0.226907  0.384520  0.695936  0.546713 -0.683227 -0.297527  0.862445  0.294132  0.109014  0.254388  0.332814  0.028422 -1.227352  1.224647 -0.651281\n",
       "2023-05-05                           0.367326  0.351874  0.502164  0.912414         -0.429141 -0.316006 -0.619186 -0.744521      -0.292457 -0.506292 -1.481818 -1.514319           0.136685 -0.190286 -0.862632 -0.769797 -0.482119 -0.098270  0.253447  1.218844 -0.736454 -0.072044 -0.810815 -0.125592 -0.162910 -0.944752  0.752244  0.669153"
      ]
     },
     "execution_count": 8,
     "metadata": {},
     "output_type": "execute_result"
    }
   ],
   "source": [
    "dag_runner = dtfcore.FitPredictDagRunner(dag)\n",
    "dag_runner.set_fit_intervals(\n",
    "    [\n",
    "        (\n",
    "            data.index.min(),\n",
    "            data.index.max(),\n",
    "        )\n",
    "    ],\n",
    ")\n",
    "fit_result_bundle = dag_runner.fit()\n",
    "#\n",
    "result_df = fit_result_bundle.result_df\n",
    "result_df.head()"
   ]
  },
  {
   "cell_type": "code",
   "execution_count": null,
   "id": "38454d31",
   "metadata": {},
   "outputs": [],
   "source": []
  }
 ],
 "metadata": {
  "kernelspec": {
   "display_name": "Python 3 (ipykernel)",
   "language": "python",
   "name": "python3"
  },
  "language_info": {
   "codemirror_mode": {
    "name": "ipython",
    "version": 3
   },
   "file_extension": ".py",
   "mimetype": "text/x-python",
   "name": "python",
   "nbconvert_exporter": "python",
   "pygments_lexer": "ipython3",
   "version": "3.9.5"
  },
  "toc": {
   "base_numbering": 1,
   "nav_menu": {},
   "number_sections": true,
   "sideBar": true,
   "skip_h1_title": false,
   "title_cell": "Table of Contents",
   "title_sidebar": "Contents",
   "toc_cell": false,
   "toc_position": {},
   "toc_section_display": true,
   "toc_window_display": false
  }
 },
 "nbformat": 4,
 "nbformat_minor": 5
}
