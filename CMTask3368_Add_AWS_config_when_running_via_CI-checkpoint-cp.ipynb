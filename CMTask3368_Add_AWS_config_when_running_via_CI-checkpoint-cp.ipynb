{
 "cells": [
  {
   "cell_type": "code",
   "execution_count": null,
   "id": "8bbda450",
   "metadata": {},
   "outputs": [],
   "source": [
    "import os\n",
    "\n",
    "import helpers.hs3 as hs3"
   ]
  },
  {
   "cell_type": "code",
   "execution_count": null,
   "id": "b08cd7c9",
   "metadata": {},
   "outputs": [],
   "source": [
    "creds = []\n",
    "for profile in aws_profiles:\n",
    "    tmp = {profile: []}\n",
    "    for k, v in zip(envs[profile].keys(), envs[profile].values()):\n",
    "        creds.append(\"=\".join([k, v]))\n",
    "txt = \"\\n\".join(creds)\n",
    "print(txt)"
   ]
  },
  {
   "cell_type": "code",
   "execution_count": null,
   "id": "9248cf35",
   "metadata": {},
   "outputs": [],
   "source": [
    "def _get_credentials_txt(config) -> str:\n",
    "    credentials_vars = [\n",
    "        \"aws_access_key_id\",\n",
    "        \"aws_secret_access_key\",\n",
    "        \"aws_s3_bucket\",\n",
    "    ]\n",
    "    aws_profiles = [\"am\", \"ck\"]\n",
    "    envs = {}\n",
    "    for profile in aws_profiles:\n",
    "        tmp = {\n",
    "            profile: {},\n",
    "        }\n",
    "        for var in credentials_vars:\n",
    "            config.get(profile, var)\n",
    "            tmp[profile].update({var: v})\n",
    "        envs.update(tmp)\n",
    "    creds = []\n",
    "    # TODO(Nina): Factor out this piece of code to make created\n",
    "    # file look like as original one. Look the output in the cell above.\n",
    "    for profile in aws_profiles:\n",
    "        for k, v in zip(envs[profile].keys(), envs[profile].values()):\n",
    "            creds.append(\"=\".join([k, v]))\n",
    "    txt = \"\\n\".join(creds)\n",
    "    return txt\n",
    "\n",
    "\n",
    "def generate_aws_config():\n",
    "    config_file_path = \"~/.aws/config\"\n",
    "    credentials_file_path = \"~/.aws/credentials\"\n",
    "    if os.path.exists(config_file_path) or os.path.exists(credentials_file_path):\n",
    "        return\n",
    "    # Create files using the env vars as in `get_aws_credentials`\n",
    "    # Get credentials values to fill \"~/.aws/credentials\" file.\n",
    "    config_file_path.split(\"/\")[-1]\n",
    "    # Here will be a call of a function to create txt for config.\n",
    "    #\n",
    "    # Get credentials values to fill \"~/.aws/credentials\" file.\n",
    "    credentials_file_name = credentials_file_path.split(\"/\")[-1]\n",
    "    credentials_config = hs3._get_aws_config(credentials_file_name)\n",
    "    _get_credentials_txt(credentials_config)\n",
    "    # Here will be a creation of two files."
   ]
  },
  {
   "cell_type": "code",
   "execution_count": null,
   "id": "438ef4da",
   "metadata": {},
   "outputs": [],
   "source": []
  }
 ],
 "metadata": {
  "kernelspec": {
   "display_name": "Python 3 (ipykernel)",
   "language": "python",
   "name": "python3"
  },
  "language_info": {
   "codemirror_mode": {
    "name": "ipython",
    "version": 3
   },
   "file_extension": ".py",
   "mimetype": "text/x-python",
   "name": "python",
   "nbconvert_exporter": "python",
   "pygments_lexer": "ipython3"
  },
  "toc": {
   "base_numbering": 1,
   "nav_menu": {},
   "number_sections": true,
   "sideBar": true,
   "skip_h1_title": false,
   "title_cell": "Table of Contents",
   "title_sidebar": "Contents",
   "toc_cell": false,
   "toc_position": {},
   "toc_section_display": true,
   "toc_window_display": false
  }
 },
 "nbformat": 4,
 "nbformat_minor": 5
}
