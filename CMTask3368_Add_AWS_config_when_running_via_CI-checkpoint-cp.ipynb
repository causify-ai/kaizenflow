{
 "cells": [
  {
   "cell_type": "code",
   "execution_count": null,
   "id": "8bbda450",
   "metadata": {},
   "outputs": [],
   "source": [
    "import configparser\n",
    "import os\n",
    "from typing import List\n",
    "\n",
    "import helpers.hio as hio\n",
    "import helpers.hs3 as hs3"
   ]
  },
  {
   "cell_type": "code",
   "execution_count": null,
   "id": "2ca5aa33",
   "metadata": {},
   "outputs": [],
   "source": [
    "# Set missing env vars to show how generated file looks like.\n",
    "os.environ[\"CK_AWS_ACCESS_KEY_ID\"] = \"$CK_AWS_ACCESS_KEY_ID\"\n",
    "os.environ[\"CK_AWS_SECRET_ACCESS_KEY\"] = \"$CK_AWS_SECRET_ACCESS_KEY\"\n",
    "os.environ[\"AM_AWS_ACCESS_KEY_ID\"] = \"$AM_AWS_ACCESS_KEY_ID\"\n",
    "os.environ[\"AM_AWS_SECRET_ACCESS_KEY\"] = \"$AM_AWS_SECRET_ACCESS_KEY\""
   ]
  },
  {
   "cell_type": "code",
   "execution_count": null,
   "id": "b8f688e0",
   "metadata": {},
   "outputs": [],
   "source": [
    "def generate_aws_config() -> None:\n",
    "    \"\"\"\n",
    "    Generate AWS config file with credentials.\n",
    "    \"\"\"\n",
    "    credentials_file_path = \".aws/credentials\"\n",
    "    if os.path.exists(credentials_file_path):\n",
    "        return\n",
    "    else:\n",
    "        # Get credentials values to fill \"~/.aws/credentials\" file.\n",
    "        aws_profiles = [\"AM\", \"CK\"]\n",
    "        secret_keys = [\n",
    "                \"_AWS_ACCESS_KEY_ID\",\n",
    "                \"_AWS_SECRET_ACCESS_KEY\",\n",
    "                \"_AWS_S3_BUCKET\",\n",
    "        ]\n",
    "        # Get all values for each env var. Sort them\n",
    "        # by AWS profile.\n",
    "        envs = {}\n",
    "        for profile in aws_profiles:\n",
    "            tmp = []\n",
    "            for key in secret_keys:\n",
    "                # Add prefix to variable name, e.g., \"CK_AWS_SECRET_ACCESS_KEY\",\n",
    "                # and get its value from the env.\n",
    "                key = f\"{profile}{key}\"\n",
    "                value = os.environ[key]\n",
    "                secret = \"=\".join([key, value])\n",
    "                tmp.append(secret)\n",
    "            envs.update({profile: tmp})\n",
    "        # Create text to insert into the config file.\n",
    "        am_creds = \"\\n\".join(envs[aws_profiles[0]])\n",
    "        am_creds = f\"[{aws_profiles[0]}]\\n\" + am_creds\n",
    "        #\n",
    "        ck_creds = \"\\n\".join(envs[aws_profiles[1]])\n",
    "        ck_creds = f\"[{aws_profiles[1]}]\\n\" + ck_creds\n",
    "        txt = \"\\n\\n\".join([am_creds, ck_creds])\n",
    "        # Write to file.\n",
    "        hio.to_file(credentials_file_path, txt)"
   ]
  },
  {
   "cell_type": "code",
   "execution_count": null,
   "id": "2c10288a",
   "metadata": {},
   "outputs": [],
   "source": [
    "generate_aws_config()"
   ]
  },
  {
   "cell_type": "code",
   "execution_count": null,
   "id": "5c2c7632",
   "metadata": {},
   "outputs": [],
   "source": [
    "!cat .aws/credentials"
   ]
  }
 ],
 "metadata": {
  "kernelspec": {
   "display_name": "Python 3 (ipykernel)",
   "language": "python",
   "name": "python3"
  },
  "language_info": {
   "codemirror_mode": {
    "name": "ipython",
    "version": 3
   },
   "file_extension": ".py",
   "mimetype": "text/x-python",
   "name": "python",
   "nbconvert_exporter": "python",
   "pygments_lexer": "ipython3"
  },
  "toc": {
   "base_numbering": 1,
   "nav_menu": {},
   "number_sections": true,
   "sideBar": true,
   "skip_h1_title": false,
   "title_cell": "Table of Contents",
   "title_sidebar": "Contents",
   "toc_cell": false,
   "toc_position": {},
   "toc_section_display": true,
   "toc_window_display": false
  }
 },
 "nbformat": 4,
 "nbformat_minor": 5
}
