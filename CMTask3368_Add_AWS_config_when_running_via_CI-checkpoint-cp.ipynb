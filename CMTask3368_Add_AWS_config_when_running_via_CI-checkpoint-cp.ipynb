{
 "cells": [
  {
   "cell_type": "code",
   "execution_count": null,
   "id": "8bbda450",
   "metadata": {},
   "outputs": [],
   "source": [
    "import os\n",
    "\n",
    "import helpers.hio as hio\n",
    "import helpers.hs3 as hs3"
   ]
  },
  {
   "cell_type": "code",
   "execution_count": null,
   "id": "2ca5aa33",
   "metadata": {},
   "outputs": [],
   "source": [
    "# Set missing env vars to show how generated file looks like.\n",
    "os.environ[\"CK_AWS_ACCESS_KEY_ID\"] = \"$CK_AWS_ACCESS_KEY_ID\"\n",
    "os.environ[\"CK_AWS_SECRET_ACCESS_KEY\"] = \"$CK_AWS_SECRET_ACCESS_KEY\"\n",
    "os.environ[\"AM_AWS_ACCESS_KEY_ID\"] = \"$AM_AWS_ACCESS_KEY_ID\"\n",
    "os.environ[\"AM_AWS_SECRET_ACCESS_KEY\"] = \"$AM_AWS_SECRET_ACCESS_KEY\""
   ]
  },
  {
   "cell_type": "code",
   "execution_count": null,
   "id": "5ee51e19",
   "metadata": {},
   "outputs": [],
   "source": [
    "def _dassert_all_env_vars_set(key_to_env_var: Dict[str, str]) -> None:\n",
    "    for v in key_to_env_var.values():\n",
    "        hdbg.dassert_in(v, os.environ)\n",
    "        hdbg.dassert_ne(v, \"\")\n",
    "        \n",
    "        \n",
    "def _get_aws_file_text(aws_profile: str, key_to_env_var: Dict[str, str]) -> List[str]:\n",
    "    txt = [f\"profile {aws_profile}\\n\"]\n",
    "    for k, v in key_to_env_var.items(): \n",
    "        line = f\"{k}={os.environ[v]}\"\n",
    "        txt.append(line)\n",
    "    return txt\n",
    "\n",
    "        \n",
    "def _get_aws_config_text(aws_profile: str) -> List[str]:\n",
    "    profile_prefix = aws_profile.upper()\n",
    "    region_env_var = f\"{profile_prefix}_AWS_DEFAULT_REGION\"\n",
    "    key_to_env_var = {\n",
    "        \"region\": region_env_var\n",
    "    }\n",
    "    _dassert_all_env_vars_set(key_to_env_var)\n",
    "    text = _get_aws_config_text(aws_profile, key_to_env_var)\n",
    "    return text\n",
    "\n",
    "\n",
    "def _get_aws_credentials_text(aws_profile: str) -> List[str]:\n",
    "    profile_prefix = aws_profile.upper()\n",
    "    key_to_env_var = {\n",
    "        \"aws_access_key_id\": f\"{profile_prefix}_AWS_ACCESS_KEY_ID\",\n",
    "        \"aws_secret_access_key\": f\"{profile_prefix}_AWS_SECRET_ACCESS_KEY\",\n",
    "        \"aws_s3_bucket\": f\"{profile_prefix}_AWS_S3_BUCKET\",\n",
    "    }\n",
    "    _dassert_all_env_vars_set(key_to_env_var)\n",
    "    text = _get_aws_config_text(aws_profile, key_to_env_var)\n",
    "    return text\n",
    "\n",
    "\n",
    "def generate_aws_files() -> None:\n",
    "    # TODO(Grisha): maybe pass `home_dir` as a param?\n",
    "    config_file_name = \"~/.aws/config\"\n",
    "    credentials_file_name = \"~/.aws/credentials\"\n",
    "    if os.path.exists(credentials_file_name) or os.path.exists(config_file_name)\n",
    "        # Ensure that both files exist.\n",
    "        _LOG.info(\"Both files exist: %s and %s; exiting\", credentials_file_name, config_file_name)\n",
    "    #\n",
    "    aws_profiles = [\"ck\", \"am\"]\n",
    "    config_file_text = []\n",
    "    credentials_file_text = []\n",
    "    for profile in aws_profiles:\n",
    "        current_config_text = _get_aws_config_text(profile)\n",
    "        config_file_text.append(current_config_text)\n",
    "        current_credentials_text = _get_aws_credentials_text(profile)\n",
    "        credentials_file_text.append(current_config_text)\n",
    "    #\n",
    "    config_file_text = \"\\n\".join(config_file_text)\n",
    "    hio.to_file(config_file_text, config_file_name)\n",
    "    _LOG.debug(\"Saved AWS config to %s\", config_file_name)\n",
    "    #\n",
    "    credentials_file_text = \"\\n\".join(credentials_file_text)\n",
    "    hio.to_file(credentials_file_text, credentials_file_name)\n",
    "    _LOG.debug(\"Saved AWS credentials to %s\", credentials_file_name)"
   ]
  },
  {
   "cell_type": "code",
   "execution_count": null,
   "id": "b8f688e0",
   "metadata": {},
   "outputs": [],
   "source": [
    "def generate_aws_config() -> None:\n",
    "    \"\"\"\n",
    "    Generate AWS config file with credentials.\n",
    "    \"\"\"\n",
    "    credentials_file_path = \".aws/credentials\"\n",
    "    if os.path.exists(credentials_file_path):\n",
    "        return\n",
    "    else:\n",
    "        # Get credentials values to fill \"~/.aws/credentials\" file.\n",
    "        aws_profiles = [\"AM\", \"CK\"]\n",
    "        secret_keys = [\n",
    "            \"_AWS_ACCESS_KEY_ID\",\n",
    "            \"_AWS_SECRET_ACCESS_KEY\",\n",
    "            \"_AWS_S3_BUCKET\",\n",
    "        ]\n",
    "        # Get all values for each env var. Sort them\n",
    "        # by AWS profile.\n",
    "        envs = {}\n",
    "        for profile in aws_profiles:\n",
    "            tmp = []\n",
    "            for key in secret_keys:\n",
    "                # Add prefix to variable name, e.g., \"CK_AWS_SECRET_ACCESS_KEY\",\n",
    "                # and get its value from the env.\n",
    "                key = f\"{profile}{key}\"\n",
    "                value = os.environ[key]\n",
    "                secret = \"=\".join([key, value])\n",
    "                tmp.append(secret)\n",
    "            envs.update({profile: tmp})\n",
    "        # Create text to insert into the config file.\n",
    "        am_creds = \"\\n\".join(envs[aws_profiles[0]])\n",
    "        am_creds = f\"[{aws_profiles[0]}]\\n\" + am_creds\n",
    "        #\n",
    "        ck_creds = \"\\n\".join(envs[aws_profiles[1]])\n",
    "        ck_creds = f\"[{aws_profiles[1]}]\\n\" + ck_creds\n",
    "        txt = \"\\n\\n\".join([am_creds, ck_creds])\n",
    "        # Write to file.\n",
    "        hio.to_file(credentials_file_path, txt)"
   ]
  },
  {
   "cell_type": "code",
   "execution_count": null,
   "id": "2c10288a",
   "metadata": {},
   "outputs": [],
   "source": [
    "generate_aws_config()"
   ]
  },
  {
   "cell_type": "code",
   "execution_count": null,
   "id": "e600d068",
   "metadata": {},
   "outputs": [],
   "source": [
    "!cat ~/.aws/credentials"
   ]
  },
  {
   "cell_type": "code",
   "execution_count": null,
   "id": "ef5d1eec",
   "metadata": {},
   "outputs": [],
   "source": [
    "!cat ~/.aws/config"
   ]
  },
  {
   "cell_type": "code",
   "execution_count": null,
   "id": "5c2c7632",
   "metadata": {},
   "outputs": [],
   "source": [
    "!cat .aws/credentials"
   ]
  },
  {
   "cell_type": "code",
   "execution_count": null,
   "id": "4ace6d85",
   "metadata": {},
   "outputs": [],
   "source": [
    "!cat .aws/config"
   ]
  }
 ],
 "metadata": {
  "kernelspec": {
   "display_name": "Python 3 (ipykernel)",
   "language": "python",
   "name": "python3"
  },
  "language_info": {
   "codemirror_mode": {
    "name": "ipython",
    "version": 3
   },
   "file_extension": ".py",
   "mimetype": "text/x-python",
   "name": "python",
   "nbconvert_exporter": "python",
   "pygments_lexer": "ipython3"
  },
  "toc": {
   "base_numbering": 1,
   "nav_menu": {},
   "number_sections": true,
   "sideBar": true,
   "skip_h1_title": false,
   "title_cell": "Table of Contents",
   "title_sidebar": "Contents",
   "toc_cell": false,
   "toc_position": {},
   "toc_section_display": true,
   "toc_window_display": false
  }
 },
 "nbformat": 4,
 "nbformat_minor": 5
}
