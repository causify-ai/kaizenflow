{
 "cells": [
  {
   "cell_type": "code",
   "execution_count": null,
   "id": "8bbda450",
   "metadata": {},
   "outputs": [],
   "source": [
    "import configparser\n",
    "import os\n",
    "from typing import List\n",
    "\n",
    "import helpers.hio as hio\n",
    "import helpers.hs3 as hs3"
   ]
  },
  {
   "cell_type": "code",
   "execution_count": null,
   "id": "9248cf35",
   "metadata": {},
   "outputs": [],
   "source": [
    "def _generate_config_txt(config: configparser.RawConfigParser, secret_keys: List) -> str:\n",
    "    if \"region\" in secret_keys:\n",
    "        aws_profiles = [\"profile am\", \"profile ck\"]\n",
    "    else:\n",
    "        aws_profiles = [\"am\", \"ck\"]\n",
    "    envs = {}\n",
    "    for profile in aws_profiles:\n",
    "        tmp = {\n",
    "            profile: {},\n",
    "        }\n",
    "        for var in secret_keys:\n",
    "            v = config.get(profile, var)\n",
    "            tmp[profile].update({var: v})\n",
    "        envs.update(tmp)\n",
    "    creds = []\n",
    "    for profile in aws_profiles:\n",
    "        for k, v in zip(envs[profile].keys(), envs[profile].values()):\n",
    "            creds.append(\"=\".join([k, v]))\n",
    "    am_creds = \"\\n\".join(creds[:3])\n",
    "    am_creds = f\"[{aws_profiles[0]}]\\n\" + am_creds\n",
    "    ck_creds = \"\\n\".join(creds[3:])\n",
    "    ck_creds = f\"[{aws_profiles[1]}]\\n\" + ck_creds\n",
    "    txt = \"\\n\\n\".join([am_creds, ck_creds])\n",
    "    return txt\n",
    "\n",
    "\n",
    "def generate_aws_config() -> None:\n",
    "    config_file_path = \".aws/config\"\n",
    "    credentials_file_path = \".aws/credentials\"\n",
    "    if os.path.exists(config_file_path) or os.path.exists(credentials_file_path):\n",
    "        return\n",
    "    # Get config values to fill \"~/.aws/config\" file.\n",
    "    file_name = config_file_path.split(\"/\")[-1]\n",
    "    credentials = hs3._get_aws_config(file_name)\n",
    "    secret_keys = [\"region\"]\n",
    "    txt = _generate_config_txt(credentials, secret_keys)\n",
    "    # Create config file.\n",
    "    hio.to_file(config_file_path, txt)\n",
    "    # Get credentials values to fill \"~/.aws/credentials\" file.\n",
    "    file_name = credentials_file_path.split(\"/\")[-1]\n",
    "    secret_keys = [\n",
    "        \"aws_access_key_id\",\n",
    "        \"aws_secret_access_key\",\n",
    "        \"aws_s3_bucket\",\n",
    "    ]\n",
    "    credentials = hs3._get_aws_config(file_name)\n",
    "    txt = _generate_config_txt(credentials, secret_keys)    \n",
    "    # Create credentials file.\n",
    "    hio.to_file(credentials_file_path, txt)"
   ]
  },
  {
   "cell_type": "code",
   "execution_count": null,
   "id": "438ef4da",
   "metadata": {},
   "outputs": [],
   "source": [
    "generate_aws_config()"
   ]
  },
  {
   "cell_type": "code",
   "execution_count": null,
   "id": "b006390c",
   "metadata": {},
   "outputs": [],
   "source": [
    "!ls  ~/.aws/"
   ]
  }
 ],
 "metadata": {
  "kernelspec": {
   "display_name": "Python 3 (ipykernel)",
   "language": "python",
   "name": "python3"
  },
  "language_info": {
   "codemirror_mode": {
    "name": "ipython",
    "version": 3
   },
   "file_extension": ".py",
   "mimetype": "text/x-python",
   "name": "python",
   "nbconvert_exporter": "python",
   "pygments_lexer": "ipython3"
  },
  "toc": {
   "base_numbering": 1,
   "nav_menu": {},
   "number_sections": true,
   "sideBar": true,
   "skip_h1_title": false,
   "title_cell": "Table of Contents",
   "title_sidebar": "Contents",
   "toc_cell": false,
   "toc_position": {},
   "toc_section_display": true,
   "toc_window_display": false
  }
 },
 "nbformat": 4,
 "nbformat_minor": 5
}
